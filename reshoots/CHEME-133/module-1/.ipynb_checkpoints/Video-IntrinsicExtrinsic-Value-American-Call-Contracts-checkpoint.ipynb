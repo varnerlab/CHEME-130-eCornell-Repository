{
 "cells": [
  {
   "attachments": {},
   "cell_type": "markdown",
   "id": "63a1354d-4a0b-4eed-beec-22f151b43c11",
   "metadata": {},
   "source": [
    "## Intrinsic and Extrinsic Value of American Options Contracts\n",
    "Let’s talk about the intrinsic and extrinsic value of an options contract. We’ll start this conversation using American call contracts that we could buy today, which expire $T$ days in the future. The premium $\\mathcal{P}$ that we pay in the marketplace to purchase an American-style call contract consists of two components: the `intrinsic` and `extrinsic` value.\n",
    "* `Intrinsic` value is the immediate value obtained by exercising the option contract at the current moment, i.e., exercising at the current market conditions. \n",
    "* `Extrinsic` value, on the other hand, is the portion of the option’s premium paid for the potential future price movement of the underlying asset over the remaining time until the option’s expiration\n",
    "\n",
    "Consider `62-DTE call` contracts on [Micron Technology](https://finance.yahoo.com/quote/MU) (ticker symbol `MU`). At the time of these contracts, the `MU` share price was $S_{\\circ} = $ 79.50 `USD/share.`\n",
    "* The horizontal axis is the contract's strike price, while the vertical axis is the contract premium. The blue solid line with circles is the estimated price (using a binomial lattice model) and the premium observed in the marketplace for the `MU` call contracts.\n",
    "* The red dashed line is the __intrinsic value__ of the call contract, i.e., the value the contract owner would receive if they exercised the contract now.\n",
    "* The shaded region denotes the __extrinsic value__ of the call contract, i.e., the difference between what premium is observed in the marketplace and the exercise (intrinsic) value of the contract."
   ]
  },
  {
   "cell_type": "markdown",
   "id": "1c5264f4-404c-46a2-9962-2ecc46d32e82",
   "metadata": {},
   "source": [
    "<div>\n",
    "    <center>\n",
    "        <img src=\"figs/Fig-MU-Call-OptionChain-IntrinsicExtrinsic-Value.svg\" width=\"580\"/>\n",
    "    </center>\n",
    "</div>"
   ]
  },
  {
   "attachments": {},
   "cell_type": "markdown",
   "id": "786701e2-76f1-4643-9f9d-68b9b9c3b2b1",
   "metadata": {},
   "source": [
    "* __Scenario 1. The strike price is less than the current share price $K<S_{\\circ}$__. Suppose the strike price is $K = 50$ `USD/share.` In this case, the contract has a non-zero payoff. The buyer of the contract can exercise the contract, purchase the shares from the seller at $K$ `USD/share,` and sell the shares at the market price $S_{\\circ}$ `USD/share.` Of course, if the buyer exercises early, they forgo any extrinsic value on the contract.\n",
    "* __Scenario 2. The strike price is greater than the current share price $K>S_{\\circ}$__. Suppose the strike price is $K = 100$ `USD/share.` In this case, the contract has a zero payoff, i.e., it is worthless. A rational buyer would not exercise the contract because they would purchase shares of the underlying above the current market price. Thus, if the buyer wanted the shares, they could buy them at a lower cost from the market.\n",
    "* __Scenario 3. The strike price is similar to the current share price $K\\approx{S_{\\circ}}$__. Suppose the strike price $K = 80$ `USD/share.` In this regime, the contract has no intrinsic value but a larger extrinsic value. Why would an investor pay for something that is worthless? Because they believe the shares of the underlying asset will move in their favor before contract expiration, i.e., they make a directional bet."
   ]
  },
  {
   "cell_type": "code",
   "execution_count": null,
   "id": "29c17ea8-6656-4c9f-949a-7f0bd8615843",
   "metadata": {
    "vscode": {
     "languageId": "julia"
    }
   },
   "outputs": [],
   "source": []
  }
 ],
 "metadata": {
  "kernelspec": {
   "display_name": "Julia 1.11.1",
   "language": "julia",
   "name": "julia-1.11"
  },
  "language_info": {
   "name": ""
  }
 },
 "nbformat": 4,
 "nbformat_minor": 5
}
