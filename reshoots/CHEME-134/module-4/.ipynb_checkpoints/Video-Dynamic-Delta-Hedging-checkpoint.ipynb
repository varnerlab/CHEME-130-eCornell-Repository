{
 "cells": [
  {
   "cell_type": "markdown",
   "id": "d76e3fba-e785-42dc-aafd-3e5f2f7e3d79",
   "metadata": {},
   "source": [
    "## Dynamic Delta Hedging\n",
    "[Delta hedging](https://en.wikipedia.org/wiki/Delta_neutral) is an advanced strategy to minimize the risk associated with price movements in the underlying asset. This approach involves using combinations of options contracts or shares of the underlying asset to achieve a `Delta`-neutral position, i.e., eliminating the position's directional bias.\n",
    "\n",
    "* __Scenario__: You've purchased a `TSLA` put option and are concerned about how the price movement of `TSLA` could affect your options position. You decide to take action and construct a `Delta`-neutral hedge to manage this risk.\n",
    "\n",
    "From the buyer's perspective, by purchasing a put option, the buyer believes that `TSLA` shares will decline in price, i.e., the buyer is `bearish` on `TSLA.` Let's explore how delta-neutral hedging might work for a long put."
   ]
  },
  {
   "cell_type": "markdown",
   "id": "334bf8de-b7c2-446a-909b-769e4d9c213b",
   "metadata": {},
   "source": [
    "### Theory\n",
    "\n",
    "A `Delta`-neutral hedge on the long `TSLA` put contract involves buying and selling `TSLA` shares to balance the `Delta,` i.e., the sensitivity of the combined options and equity position to changes in `TSLA` share price. \n",
    "\n",
    "For a hedged position, during the trading period $t\\rightarrow{t+dt}$, changes in the options premium are balanced by a gain (or loss) in the value of a counter-asset. Putting these ideas together gives the _hedge constraint_ per contract (assuming a standard contract):\n",
    "$$\n",
    "\\begin{equation}\n",
    "100\\cdot{d\\mathcal{P}} + \\mathcal{H} = 0\\,\\Bigr|_{t\\rightarrow{t+dt}}\n",
    "\\end{equation}\n",
    "$$\n",
    "The quantity $\\mathcal{H}$ denotes the hedge value of the counter asset. Let's use shares of `TSLA` as the counter asset. In this case, we rewrite the hedge $\\mathcal{H}$ as the difference in the value of the equity position at $t\\rightarrow{t+dt}$:\n",
    "$$\n",
    "\\begin{equation}\n",
    "\\mathcal{H} = n_{t+dt}\\cdot{S}_{t+dt} - n_{t}\\cdot{S}_{t}\n",
    "\\end{equation}\n",
    "$$\n",
    "where $n_{\\star}$ and $S_{\\star}$ denote the number of shares and the share price at time $\\star$.  \n",
    "\n",
    "We substitute the hedge value $\\mathcal{H}$ into the _hedge constraint_ and then solve for $n_{t+dt}$, the number of shares needed at the end of the time interval to offset changes in the options premium during the interval:\n",
    "$$\n",
    "\\begin{equation}\n",
    "n_{t+dt} = n_{t}\\cdot\\left(\\frac{S_{t}}{S_{t+dt}}\\right) - \\frac{100}{S_{t+dt}}\\cdot{d\\mathcal{P}}\n",
    "\\end{equation}\n",
    "$$\n",
    "One of the obvious questions is how do we approximate the change in the options premium. Let's look at one possibility."
   ]
  },
  {
   "cell_type": "markdown",
   "id": "83d2b594-bd84-4b30-8c7c-fe2a40735c1a",
   "metadata": {},
   "source": [
    "### Where is the Delta in Delta hedging?\n",
    "From the share price expression above, we have two unknowns: the share price at the end of the time interval $S_{t+dt}$, and the change in the options premium $d\\mathcal{P}$. However, we know from our Greek expansion that the change in the premium (assuming all is constant) can written as \n",
    "$$\n",
    "\\begin{equation}\n",
    "d\\mathcal{P} \\sim \\Delta_{p}(t)\\cdot\\left(S_{t+dt} - S_{t}\\right)\n",
    "\\end{equation}\n",
    "$$\n",
    "Substituting this into the share balance gives the number of shares at the interval in terms of the $\\Delta_{p}$ of the contract:\n",
    "$$\n",
    "\\begin{equation}\n",
    "n_{t+dt} = n_{t}\\cdot\\left(\\frac{S_{t}}{S_{t+dt}}\\right) - 100\\Delta_{p}(t)\\cdot\\left(\\frac{S_{t+dt} - S_{t}}{S_{t+dt}}\\right)\n",
    "\\end{equation}\n",
    "$$\n",
    "Now the size of the hedged position is only in terms of the new share $S_{t+dt}$, and values from the start of the interval which we know, namely, the size of the hedge $n_{t}$, the share price $S_{t}$ and the `Delta` of the put contract. \n",
    "\n",
    "__Notes__:\n",
    "* _Is using only `Delta` in the premium expression a good idea_? Probably not. However, we'll use additional Greeks in the premium calculation, as seen in this module's worked example and project.\n",
    "* _What about market friction_? We make a few assumptions in the subsequent example and project for this module. First, we assume there is _no friction_ involving the purchase of the $n_{t+dt}$ shares, i.e., we purchase the shares instantly, our order gets filled at $S_{t+dt}$, and there are no transaction costs associated with buying the shares. Further, we have perfect information. While this is unrealistic, it represents the best possible case against which we can measure an actual implementation. "
   ]
  },
  {
   "cell_type": "code",
   "execution_count": null,
   "id": "46a2fe33-8334-4d8d-b0c9-eb0dc3d36349",
   "metadata": {},
   "outputs": [],
   "source": []
  }
 ],
 "metadata": {
  "kernelspec": {
   "display_name": "Julia 1.11.1",
   "language": "julia",
   "name": "julia-1.11"
  },
  "language_info": {
   "name": ""
  }
 },
 "nbformat": 4,
 "nbformat_minor": 5
}
