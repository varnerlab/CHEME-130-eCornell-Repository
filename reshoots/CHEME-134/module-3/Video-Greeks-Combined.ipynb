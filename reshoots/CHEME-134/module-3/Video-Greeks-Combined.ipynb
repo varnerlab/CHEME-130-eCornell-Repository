{
 "cells": [
  {
   "cell_type": "markdown",
   "id": "7b7b69fe-7e6a-426a-a9e1-6eace36c71f9",
   "metadata": {},
   "source": [
    "## The Overview of the Greeks\n",
    "The option premium is a function of time $T$, underlying share price $S$, volatility $\\sigma$, and the risk-free rate $\\bar{r}$. [The Greeks](https://en.wikipedia.org/wiki/en:Greeks_(finance)?variant=zh-tw) are metrics that can be used to understand how the premium of an option changes with market conditions. We'll explore the five common Greeks: Delta, Gamma, Theta, Vega, and Rho.\n",
    "\n",
    "### Overview\n",
    "The local change in premium for an American contract of type $\\star$ at market condition(s) $m$ is given by:\n",
    "$$\n",
    "\\begin{equation*}\n",
    "d\\mathcal{P}_{\\star} \\sim \\Delta_{\\star}\\Bigr|_{m}{d}{S}+\\frac{\\Gamma_{\\star}}{2}\\Bigr|_{m}\\left(d{S}\\right)^2 + \\Theta_{\\star}\\Bigr|_{m}{d}{T}+V_{\\star}\\Bigr|_{m}{d}\\sigma + \\rho_{\\star}\\Bigr|_{m}{d}{\\bar{r}}\n",
    "\\end{equation*}\n",
    "$$\n",
    "where $\\Delta_{\\star}, \\Gamma_{\\star},  \\Theta_{\\star}, V_{\\star}$ and $\\rho_{\\star}$ are [the Greeks](https://en.wikipedia.org/wiki/en:Greeks_(finance)?variant=zh-tw) (evaluated at the market $m$) and $\\star\\in\\left\\{c,p\\right\\}$.\n",
    "This expansion can be rewritten in a more compact form as the [inner product](https://en.wikipedia.org/wiki/Inner_product_space) between the Greek and change vectors:\n",
    "$$\n",
    "\\begin{equation*}\n",
    "d\\mathcal{P}_{*}\\sim\\left<\\mathcal{G}_{\\star},\\delta\\right>\\quad{\\star\\in\\left\\{c,p\\right\\}}\n",
    "\\end{equation*}\n",
    "$$\n",
    "where $\\left<\\cdot,\\cdot\\right>$ denotes the [inner product](https://en.wikipedia.org/wiki/Inner_product_space) between the Greek vector (evaluated at market $m$):\n",
    "$$\n",
    "\\begin{equation*}\n",
    "\\mathcal{G}_{\\star}\\equiv\\left(\\Delta_{\\star},\\Gamma_{\\star},\\Theta_{\\star},V_{\\star},\\rho_{\\star}\\right)\\Bigr|_{m}\\quad{\\star\\in\\left\\{c,p\\right\\}}\n",
    "\\end{equation*}\n",
    "$$\n",
    "and the market change vector $\\delta$:\n",
    "$$\n",
    "\\begin{equation*}\n",
    "\\delta\\equiv\\left(dS,1/2\\cdot{dS}^{2},dT,d\\sigma,d\\bar{r}\\right)\n",
    "\\end{equation*}\n",
    "$$\n",
    "\n",
    "We use the [The Greeks](https://en.wikipedia.org/wiki/en:Greeks_(finance)?variant=zh-tw) to compute how the premium of contract type $\\star\\in\\left\\{c,p\\right\\}$. "
   ]
  },
  {
   "attachments": {},
   "cell_type": "markdown",
   "id": "9cfb1a94-4e0e-49d1-86cc-7103c25b40cc",
   "metadata": {},
   "source": [
    "### What do Delta, Gamma, Theta, Vega, and Rho quantify?\n",
    "Let's dig into the meaning of each of these values for American contracts:"
   ]
  },
  {
   "cell_type": "markdown",
   "id": "93c4d7f3-1b07-4859-8bb9-bfa9b1ddbd53",
   "metadata": {},
   "source": [
    "* `Delta` measures the rate of change in the option's premium $\\mathcal{P}_{\\star}$ with respect to a `+1 USD/share` change in the underlying asset's price:\n",
    "$$\n",
    "\\begin{equation*}\n",
    "\\Delta_{\\star}(m) \\equiv \\frac{\\partial\\mathcal{P}_{\\star}}{\\partial{S}}\\,\\Biggr|_{m}\\quad{\\star\\in\\left\\{c,p\\right\\}}\n",
    "\\end{equation*}\n",
    "$$\n",
    "where $\\Delta_{\\star}(m)$ is evaluated at the current state of the market $m$, e.g., the current value of the underlying share price, the implied volatility of the contract, the number of days left until contract expiration, the current risk-free rate, etc. The $\\Delta$ is bounded in the range $-1\\leq\\Delta\\leq{1}$ and changes with various market conditions, i.e., $\\Delta$ is _not_ constant.\n",
    "\n",
    "* `Gamma` measures the rate of change of the `Delta` for a `+1 USD/share` change in the underlying price:\n",
    "$$\n",
    "\\begin{equation*}\n",
    "\\Gamma_{\\star}(m) \\equiv \\frac{\\partial^2\\mathcal{P}_{\\star}}{\\partial{S}^2}\\Biggr|_{m}\\quad{\\star\\in\\left\\{c,p\\right\\}}\n",
    "\\end{equation*}\n",
    "$$\n",
    "where $\\Gamma_{\\star}(m)$ is evaluated at the current state of the market $m$, e.g., the current value of the underlying share price, the implied volatility of the contract, the number of days left until contract expiration, the current risk-free rate, etc.\n",
    "\n",
    "* `Vega` measures the rate of change in the option's premium $\\mathcal{P}_{\\star}$ with respect to a `+1%` change in the underlying asset's implied volatility `IV`:\n",
    "$$\n",
    "\\begin{equation*}\n",
    "V_{\\star}(m) \\equiv \\frac{\\partial\\mathcal{P}_{\\star}}{\\partial{\\sigma}}\\Biggr|_{m}\\quad{\\star\\in\\left\\{c,p\\right\\}}\n",
    "\\end{equation*}\n",
    "$$\n",
    "where $\\sigma$ denotes the implied volatility `IV`, and $V_{\\star}(m)$ is evaluated at the current state of the market $m$. \n",
    "\n",
    "* `Theta` measures the rate of change in the options premium $\\mathcal{P}_{\\star}$ for a `1-day` decrease in the time to maturity `T` of the contract:\n",
    "$$\n",
    "\\begin{equation*}\n",
    "\\Theta_{\\star}(m) \\equiv \\frac{\\partial\\mathcal{P_{\\star}}}{\\partial{T}}\\,\\Biggr|_{m}\\quad{\\star\\in\\left\\{c,p\\right\\}}\n",
    "\\end{equation*}\n",
    "$$\n",
    "where $\\Theta_{\\star}(m)$ is evaluated at the current state of the market $m$.\n",
    "\n",
    "* `Rho` measures the rate of change in the options premium $\\mathcal{P}_{\\star}$ for a `+1%` change in the risk-free rate $\\bar{r}$:\n",
    "$$\n",
    "\\begin{equation*}\n",
    "\\rho_{\\star}(m)\\equiv\\frac{\\partial\\mathcal{P}_{\\star}}{\\partial{\\bar{r}}}\\Biggr|_{m}\\quad{\\star\\in\\left\\{c,p\\right\\}}\n",
    "\\end{equation*}\n",
    "$$\n",
    "where $\\rho_{\\star}(m)$ is evaluated at the current state of the market $m$."
   ]
  },
  {
   "cell_type": "code",
   "execution_count": null,
   "id": "50ae6b68-dd3a-4ea5-b49f-19e70bf56a14",
   "metadata": {},
   "outputs": [],
   "source": []
  }
 ],
 "metadata": {
  "kernelspec": {
   "display_name": "Python 3 (ipykernel)",
   "language": "python",
   "name": "python3"
  },
  "language_info": {
   "codemirror_mode": {
    "name": "ipython",
    "version": 3
   },
   "file_extension": ".py",
   "mimetype": "text/x-python",
   "name": "python",
   "nbconvert_exporter": "python",
   "pygments_lexer": "ipython3",
   "version": "3.11.8"
  }
 },
 "nbformat": 4,
 "nbformat_minor": 5
}
