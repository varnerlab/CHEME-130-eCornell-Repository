{
 "cells": [
  {
   "cell_type": "markdown",
   "id": "b23f49b8-5f0e-480c-bd96-7d8949920221",
   "metadata": {},
   "source": [
    "# Example: Calculate Delta, Theta, Vega, Rho, and Gamma for Short and Long Options Contracts\n",
    "In this example, we'll compute [the Greeks](https://en.wikipedia.org/wiki/en:Greeks_(finance)?variant=zh-tw) for long (short) American Call (Put) contracts.\n",
    "\n",
    "* [The Greeks](https://en.wikipedia.org/wiki/en:Greeks_(finance)?variant=zh-tw) are quantitative measures that describe the sensitivity of an American option's price to various market factors. \n",
    "* The typical Greeks for American options are `Delta,` `Gamma,` `Theta,` `Vega,` and `Rho,` where each quantifies how the option's value changes with movements in the underlying asset price, volatility, time, and interest rates, etc."
   ]
  },
  {
   "cell_type": "markdown",
   "id": "2e8cbac3-99cb-4565-86db-3f7a9fbb3db9",
   "metadata": {},
   "source": [
    "## Setup\n",
    "Set up the computational environment by including the `Include.jl` file. The `Include.jl` file loads external packages, various functions we will use in the exercise, and custom types to model the components of our example problem.\n",
    "* For additional information on functions and types used in this material, see the [Julia programming language documentation](https://docs.julialang.org/en/v1/) and the [VLQuantitativeFinancePackage.jl documentation](https://github.com/varnerlab/VLQuantitativeFinancePackage.jl). "
   ]
  },
  {
   "cell_type": "code",
   "execution_count": 3,
   "id": "47a5491c-954e-406b-952d-00b14ccc0f65",
   "metadata": {},
   "outputs": [],
   "source": [
    "include(\"Include.jl\")"
   ]
  },
  {
   "cell_type": "markdown",
   "id": "43e96b65-e8f7-44c2-85a2-0d87c8b99b63",
   "metadata": {},
   "source": [
    "## Prerequisites\n",
    "Let's build models for options on [NVIDIA Corporation](https://finance.yahoo.com/quote/NVDA/) as the underlying asset with ticker `NVDA,` in particular, out-of-the-money (OTM) short call and put options.  First, we set some constants and parameter values that will be used in the notebook, and then we'll build contract models."
   ]
  },
  {
   "cell_type": "markdown",
   "id": "411a7731-ffe5-4638-b9b5-47a3965c0d75",
   "metadata": {},
   "source": [
    "### Parameters and constants\n",
    "Let's set a value for the step size `Δt,` i.e., `1 day` in units of years (assuming a `365-day` year), the risk-free rate at the time we gathered the data for the option contracts; we approximate this value using the [yield on the 10-year Treasury Note](https://ycharts.com/indicators/10_year_treasury_rate). We also set a value for the underlying share price `Sₒ` and the number of levels in the binomial tree model, `h`; we assume 6-levels per day."
   ]
  },
  {
   "cell_type": "code",
   "execution_count": 6,
   "id": "7a43478d-7df6-4076-b5f9-f268a2646aa8",
   "metadata": {},
   "outputs": [],
   "source": [
    "Δt = (1/365);\n",
    "risk_free_rate = 0.0431; # yield 10-year treasury note on 13-Jun-2024\n",
    "Sₒ = 131.88; # after close on 14-Jun-2024 (close: 131.88)\n",
    "h = 366; # 6-points per trading day"
   ]
  },
  {
   "cell_type": "markdown",
   "id": "d1787e7e-5ed7-429c-a9ec-a94fb5cf38cd",
   "metadata": {},
   "source": [
    "### Contract models\n",
    "Next, we construct contract models. We begin by building an instance of the [MyAmericanCallContractModel type](https://varnerlab.github.io/VLQuantitativeFinancePackage.jl/dev/derivatives/#VLQuantitativeFinancePackage.MyAmericanCallContractModel) using the [custom build(...) method](https://varnerlab.github.io/VLQuantitativeFinancePackage.jl/dev/derivatives/#VLQuantitativeFinancePackage.build-Tuple{Type{MyAmericanCallContractModel},%20NamedTuple}). The [build(...) method](https://varnerlab.github.io/VLQuantitativeFinancePackage.jl/dev/derivatives/#VLQuantitativeFinancePackage.build-Tuple{Type{MyAmericanCallContractModel},%20NamedTuple}) takes two arguments: the type to build, and a [NamedTuple](https://docs.julialang.org/en/v1/base/base/#Core.NamedTuple) containing the strike price `K`, the `premium` paid for the option, the days to expiration `DTE` (units: years), the `sense = 1` (long), the number of contracts in the `copy` field and the implied volatility in the `IV` field.\n",
    "\n",
    "We save the call option contract model in the `call_option_model` variable:"
   ]
  },
  {
   "cell_type": "code",
   "execution_count": 8,
   "id": "fdfbe0c6-acd9-4e61-aba6-368fc3804132",
   "metadata": {},
   "outputs": [],
   "source": [
    "call_option_model = build(MyAmericanCallContractModel, (\n",
    "    K = 136.0, \n",
    "    premium = 9.23, # mark price\n",
    "    DTE = (61.0)*Δt,\n",
    "    sense = 1,\n",
    "    copy = 1,\n",
    "    IV = 0.4848\n",
    "));"
   ]
  },
  {
   "cell_type": "markdown",
   "id": "908e70a0-dd26-4652-be71-e0c199baaa62",
   "metadata": {},
   "source": [
    "The put contract, which is an instance of the [MyAmericanPutContractModel type](https://varnerlab.github.io/VLQuantitativeFinancePackage.jl/dev/derivatives/#VLQuantitativeFinancePackage.MyAmericanPutContractModel), is constructed in a similar way to the call option. We save the put option contract model in the `put_option_model` variable:"
   ]
  },
  {
   "cell_type": "code",
   "execution_count": 10,
   "id": "c4b9d0d2-4cf1-44ca-8618-4d6fb5219157",
   "metadata": {},
   "outputs": [],
   "source": [
    "put_option_model = build(MyAmericanPutContractModel, (\n",
    "    K = 128.0, \n",
    "    premium = 7.78, # mark price\n",
    "    DTE = (61.0)*Δt,\n",
    "    sense = 1,\n",
    "    copy = 1,\n",
    "    IV = 0.4787\n",
    "));"
   ]
  },
  {
   "cell_type": "markdown",
   "id": "10e9b72f-9a10-4820-889e-575b3c483147",
   "metadata": {},
   "source": [
    "__Note__: In both cases, we construct long contract models, i.e., we look at option dynamics from the perspective of a contract buyer. To convert to a short perspective, i.e., from the perspective of the contract seller, we multiply the Greek values by `-1`; see below."
   ]
  },
  {
   "cell_type": "markdown",
   "id": "3ee5f104-8027-4261-92e1-46fcbdddcbd9",
   "metadata": {},
   "source": [
    "## Task 1: Compute the Greeks for a Long Call Option\n",
    "In this task, we'll compute the Greeks for a long call option. From the buyer's viewpoint, a long call option is a substitute for owning shares. The buyer speculates that the underlying share price will go up during the contract and hopes to profit from the increase in the option contract's price. \n",
    "* However, the option contract price is a function of many different market factors, not just the share price of the underlying asset. The Greeks provide a quantitative means of computing the contract price's sensitivity to changes in market conditions."
   ]
  },
  {
   "cell_type": "markdown",
   "id": "598dd5ce-e62b-4393-a5f4-e444f066281e",
   "metadata": {},
   "source": [
    "### `Delta` for a Long Call\n",
    "`Delta` measures the rate of change in the option's premium $\\mathcal{P}_{\\star}$ with respect to a `+1 USD/share` change in the underlying asset's price.\n",
    "* We estimate $\\Delta$ using the [delta(...) function](https://varnerlab.github.io/VLQuantitativeFinancePackage.jl/dev/derivatives/#VLQuantitativeFinancePackage.delta). The [delta(...) function](https://varnerlab.github.io/VLQuantitativeFinancePackage.jl/dev/derivatives/#VLQuantitativeFinancePackage.delta) takes several arguments: the `call_option_model` instance, and parameters used to compute the risk-neutral binomial share price tree, e.g., the number of tree levels `h,` the current share price  `Sₒ,` the number of days to expiration `T,` etc.\n",
    "* The [delta(...) function](https://varnerlab.github.io/VLQuantitativeFinancePackage.jl/dev/derivatives/#VLQuantitativeFinancePackage.delta) and returns a value for `Delta.` We store the estimated value for `Delta` in the `delta_long_call::Float64` variable:"
   ]
  },
  {
   "cell_type": "code",
   "execution_count": 14,
   "id": "f9ab32c6-117b-470c-98a9-ff8306df360a",
   "metadata": {},
   "outputs": [
    {
     "data": {
      "text/plain": [
       "0.4920000000000009"
      ]
     },
     "execution_count": 14,
     "metadata": {},
     "output_type": "execute_result"
    }
   ],
   "source": [
    "delta_long_call = let\n",
    "\n",
    "    # initialize\n",
    "    greek_value = 0.0; # initially set the greek value to 0\n",
    "    contract_model = call_option_model; # alias the contract model\n",
    "\n",
    "    # call the greek function\n",
    "    greek_value = delta(contract_model, h = h,  T = contract_model.DTE, \n",
    "        σ = contract_model.IV, Sₒ = Sₒ, μ = risk_free_rate);\n",
    "\n",
    "    # return -\n",
    "    greek_value;\n",
    "end"
   ]
  },
  {
   "cell_type": "markdown",
   "id": "72be3751-c99b-4c77-8c93-c30615df03ba",
   "metadata": {},
   "source": [
    "__Summary__: For a long call, $\\Delta_{c}(m)\\geq{0}$ implies that the option premium $\\mathcal{P}_{c}$ increases with increasing share price. This underscores the use case of long-call contracts as share replacements for underlying shares. "
   ]
  },
  {
   "cell_type": "markdown",
   "id": "442c0887-a53c-4498-9c12-7f4d6babd338",
   "metadata": {},
   "source": [
    "### `Theta` for a Long Call\n",
    "`Theta` measures the rate of change in the options premium $\\mathcal{P}_{\\star}$ for a `1-day` decrease in the time to maturity `T` of the contract.\n",
    "* We estimate $\\Theta$ using the [theta(...) function](https://varnerlab.github.io/VLQuantitativeFinancePackage.jl/dev/derivatives/#VLQuantitativeFinancePackage.theta). The [theta(...) function](https://varnerlab.github.io/VLQuantitativeFinancePackage.jl/dev/derivatives/#VLQuantitativeFinancePackage.theta) takes several arguments: the `call_option_model` instance, and parameters used to compute the risk-neutral binomial share price tree, e.g., the number of tree levels `h,` the current share price  `Sₒ,` the number of days to expiration `T.`\n",
    "* The [theta(...) function](https://varnerlab.github.io/VLQuantitativeFinancePackage.jl/dev/derivatives/#VLQuantitativeFinancePackage.theta) returns a value for `Theta.` We store the estimated value for `Theta` in the `theta_long_call::Float64` variable:"
   ]
  },
  {
   "cell_type": "code",
   "execution_count": null,
   "id": "c31b54a3-85da-468e-9e54-5bc424e19f04",
   "metadata": {},
   "outputs": [
    {
     "data": {
      "text/plain": [
       "-0.09199999999999875"
      ]
     },
     "execution_count": 24,
     "metadata": {},
     "output_type": "execute_result"
    }
   ],
   "source": [
    "theta_long_call = let\n",
    "\n",
    "    # initialize\n",
    "    greek_value = 0.0; # initially set the greek value to 0\n",
    "    contract_model = call_option_model; # alias the contract model\n",
    "\n",
    "    # call the greek function\n",
    "    greek_value = theta(contract_model, h = h,  T = contract_model.DTE, \n",
    "        σ = contract_model.IV, Sₒ = Sₒ, μ = risk_free_rate);\n",
    "\n",
    "    # return -\n",
    "    greek_value;\n",
    "end"
   ]
  },
  {
   "cell_type": "markdown",
   "id": "82a29303-3976-44a5-a9b6-106623eb4960",
   "metadata": {},
   "source": [
    "__Summary__: For a long-call, $\\Theta_{c}(m)<0$ implies that the option premium $\\mathcal{P}_{c}$ decreases as we approach the expiration of the contract. Thus, all else being constant, a long call will _lose value_ over time. This loss is referred to as the time-decay of the long call contract. "
   ]
  },
  {
   "cell_type": "markdown",
   "id": "c854e24f-10dd-4ff2-aaa2-09b2ef4637f0",
   "metadata": {},
   "source": [
    "### `Vega` for a Long Call\n",
    "`Vega` measures the rate of change in the option's premium $\\mathcal{P}_{\\star}$ with respect to a `+1%` change in the underlying asset's implied volatility `IV.`\n",
    "* We estimate `Vega` using the [vega(...) function](https://varnerlab.github.io/VLQuantitativeFinancePackage.jl/dev/derivatives/#VLQuantitativeFinancePackage.vega). The [vega(...) function](https://varnerlab.github.io/VLQuantitativeFinancePackage.jl/dev/derivatives/#VLQuantitativeFinancePackage.vega) takes several arguments: the `call_option_model` instance, and several parameters used to compute the risk-neutral binomial share price tree, e.g., the number of tree levels `h,` the current share price  `Sₒ,` the number of days to expiration `T,` etc.\n",
    "* The [vega(...) function](https://varnerlab.github.io/VLQuantitativeFinancePackage.jl/dev/derivatives/#VLQuantitativeFinancePackage.vega) returns a value for `Vega.` We store the estimated value for vega in the `vega_long_call::Float64` variable:"
   ]
  },
  {
   "cell_type": "code",
   "execution_count": 30,
   "id": "8d3b5630-ebc2-48bd-99da-9e538d3ab44d",
   "metadata": {},
   "outputs": [
    {
     "data": {
      "text/plain": [
       "0.21600000000000108"
      ]
     },
     "execution_count": 30,
     "metadata": {},
     "output_type": "execute_result"
    }
   ],
   "source": [
    "vega_long_call = let\n",
    "\n",
    "    # initialize\n",
    "    greek_value = 0.0; # initially set the greek value to 0\n",
    "    contract_model = call_option_model; # alias the contract model\n",
    "\n",
    "    # call the Greek function -\n",
    "    greek_value = vega(contract_model, h = h,  T = contract_model.DTE, \n",
    "        σ = contract_model.IV, Sₒ = Sₒ, μ = risk_free_rate);\n",
    "\n",
    "    # return -\n",
    "    greek_value;\n",
    "end"
   ]
  },
  {
   "cell_type": "markdown",
   "id": "9c881ecb-ba35-46a7-be48-a78c97fa038f",
   "metadata": {},
   "source": [
    "__Summary__: For the long call contract, $V_{c}(m)>0$. Thus, the option premium for the contract will increase with increasing implied volatility. In other words, as the uncertainty in the future share price increases (measured by the implied volatility), an option contract becomes more expensive. This makes sense as the option seller demands additional compensation for the increased risk. "
   ]
  },
  {
   "cell_type": "markdown",
   "id": "af8814b2-d8f4-4a9e-b6a0-88387a24f960",
   "metadata": {},
   "source": [
    "### Rho for a Long Call\n",
    "`Rho` measures the rate of change in the options premium $\\mathcal{P}_{\\star}$ for a `+1%` change in the risk-free rate $\\bar{r}$. \n",
    "* We estimate `Rho` using the [rho(...) function](https://varnerlab.github.io/VLQuantitativeFinancePackage.jl/dev/derivatives/#VLQuantitativeFinancePackage.rho). The [rho(...) function](https://varnerlab.github.io/VLQuantitativeFinancePackage.jl/dev/derivatives/#VLQuantitativeFinancePackage.rho) takes several arguments: the `call_option_model` instance, and several parameters used to compute the risk-neutral binomial share price tree, e.g., the number of tree levels `h,` the current share price  `Sₒ,` the number of days to expiration `T,` etc.\n",
    "* The [rho(...) function](https://varnerlab.github.io/VLQuantitativeFinancePackage.jl/dev/derivatives/#VLQuantitativeFinancePackage.rho) returns a value for `Rho.` We store the estimated value for `Rho` in the `rho_long_call::Float64` variable:"
   ]
  },
  {
   "cell_type": "code",
   "execution_count": 35,
   "id": "16af98e8-92d5-4b5d-8076-f3327ad8825e",
   "metadata": {},
   "outputs": [
    {
     "data": {
      "text/plain": [
       "0.0940000000000012"
      ]
     },
     "execution_count": 35,
     "metadata": {},
     "output_type": "execute_result"
    }
   ],
   "source": [
    "rho_long_call = let\n",
    "\n",
    "    # initialize\n",
    "    greek_value = 0.0; # initially set the greek value to 0\n",
    "    contract_model = call_option_model; # alias the contract model\n",
    "\n",
    "    # call the Greek function -\n",
    "    greek_value = rho(contract_model, h = h,  T = contract_model.DTE, \n",
    "        σ = contract_model.IV, Sₒ = Sₒ, μ = risk_free_rate);\n",
    "\n",
    "    # return -\n",
    "    greek_value;\n",
    "end"
   ]
  },
  {
   "cell_type": "markdown",
   "id": "17d5270b-11ec-4a67-816a-e9709db07b33",
   "metadata": {},
   "source": [
    "__Summary__: For a long call contract, $\\rho_{c}(m)>0$. Thus, the option premium increases with increasing risk-free rate. Under normal circumstances, the risk-free rate $\\bar{r}$ doesn't significantly change. However, when interest rates increase during inflationary periods, a positive `Rho` shows that option premiums will increase, all else being equal."
   ]
  },
  {
   "cell_type": "markdown",
   "id": "c09d02c5-d898-4ece-a7a9-73723081e581",
   "metadata": {},
   "source": [
    "### Gamma for a Long Call\n",
    "`Gamma` is the last common Greek we'll explore. The $\\Gamma$ measures the rate of change in the `Delta` for a `+1 USD/share` change in the underlying price.\n",
    "* We estimate `Gamma` using the [gamma(...) function](https://varnerlab.github.io/VLQuantitativeFinancePackage.jl/dev/derivatives/#VLQuantitativeFinancePackage.gamma). The [gamma(...) function](https://varnerlab.github.io/VLQuantitativeFinancePackage.jl/dev/derivatives/#VLQuantitativeFinancePackage.gamma) takes several arguments: the `call_option_model` instance, and several parameters used to compute the risk-neutral binomial share price tree, e.g., the number of tree levels `h,` the current share price  `Sₒ,` the number of days to expiration `T,` etc.\n",
    "* The [gamma(...) function](https://varnerlab.github.io/VLQuantitativeFinancePackage.jl/dev/derivatives/#VLQuantitativeFinancePackage.gamma) returns a value for `Gamma` which we store in the `gamma_long_call::Float64` variable:"
   ]
  },
  {
   "cell_type": "code",
   "execution_count": 42,
   "id": "eeaea350-7f4b-45d6-8fdd-2da9ae88429b",
   "metadata": {},
   "outputs": [
    {
     "data": {
      "text/plain": [
       "0.022999999999999687"
      ]
     },
     "execution_count": 42,
     "metadata": {},
     "output_type": "execute_result"
    }
   ],
   "source": [
    "gamma_long_call = let\n",
    "\n",
    "    # initialize\n",
    "    greek_value = 0.0; # initially set the greek value to 0\n",
    "    contract_model = call_option_model; # alias the contract model\n",
    "\n",
    "    # call the Greek function -\n",
    "    greek_value = gamma(contract_model, h = h,  T = contract_model.DTE, \n",
    "        σ = contract_model.IV, Sₒ = Sₒ, μ = risk_free_rate);\n",
    "\n",
    "    # return -\n",
    "    greek_value;\n",
    "end"
   ]
  },
  {
   "cell_type": "markdown",
   "id": "afd03515-e4e6-4ba5-ad2b-6da63461393f",
   "metadata": {},
   "source": [
    "__Summary__: The long call option has a $\\Gamma_{c}(m)>0$, which increases the premium's sensitivity to share price movements. The gamma value indicates how sensitive an option's delta is to changes in the underlying price, with higher gamma values indicating greater delta sensitivity."
   ]
  },
  {
   "cell_type": "markdown",
   "id": "ffa36835-9fae-40de-80e0-bac71173d19e",
   "metadata": {},
   "source": [
    "## Task 2: Compute the Greeks for a Long Put Option\n",
    "In this task, we do the exact computations as above but with a put option contract. Let's begin with `Delta.`"
   ]
  },
  {
   "cell_type": "markdown",
   "id": "c3b89302-52dc-4a20-9afe-466771c6b1c3",
   "metadata": {},
   "source": [
    "### `Delta` for a Long Put\n",
    "Like the call option, we estimate $\\Delta$ using the [delta(...) function](https://varnerlab.github.io/VLQuantitativeFinancePackage.jl/dev/derivatives/#VLQuantitativeFinancePackage.delta), but in this case using the `put_option_model` instance, all other parameters held the same:"
   ]
  },
  {
   "cell_type": "code",
   "execution_count": 50,
   "id": "82c50c0b-48fa-480a-ba12-8fd9ffec98f9",
   "metadata": {},
   "outputs": [
    {
     "data": {
      "text/plain": [
       "-0.3879999999999999"
      ]
     },
     "execution_count": 50,
     "metadata": {},
     "output_type": "execute_result"
    }
   ],
   "source": [
    "delta_long_put = let\n",
    "\n",
    "    # initialize\n",
    "    greek_value = 0.0; # initially set the greek value to 0\n",
    "    contract_model = put_option_model; # alias the contract model\n",
    "\n",
    "    # call the Greek function -\n",
    "    greek_value = delta(contract_model, h = h,  T = contract_model.DTE, \n",
    "        σ = contract_model.IV, Sₒ = Sₒ, μ = risk_free_rate);\n",
    "\n",
    "    # return -\n",
    "    greek_value;\n",
    "end"
   ]
  },
  {
   "cell_type": "markdown",
   "id": "37891840-0831-418a-8538-6165a2e972e2",
   "metadata": {},
   "source": [
    "__Summary__: The $\\Delta_{p}(m)<0$ for the long-put (opposite sign of the call). Thus, as the underlying share price increases, the value of the put option _decreases_. This is consistent with the notion that long puts make a `bearish` directional assumption, i.e., a buyer will purchase a put option if they believe the underlying asset's share price will decrease."
   ]
  },
  {
   "cell_type": "markdown",
   "id": "365ea99a-7b1e-4138-b522-93a0a4f0b779",
   "metadata": {},
   "source": [
    "### Theta for Long Put\n",
    "Like the call option, we estimate $\\Theta$ using the [theta(...) function](https://varnerlab.github.io/VLQuantitativeFinancePackage.jl/dev/derivatives/#VLQuantitativeFinancePackage.theta), but in this case using the `put_option_model` instance, all other parameters held the same:"
   ]
  },
  {
   "cell_type": "code",
   "execution_count": 53,
   "id": "cc3a4abc-aa7a-4ac8-9460-207b5f4b2c91",
   "metadata": {},
   "outputs": [
    {
     "data": {
      "text/plain": [
       "-0.07499999999999929"
      ]
     },
     "execution_count": 53,
     "metadata": {},
     "output_type": "execute_result"
    }
   ],
   "source": [
    "theta_long_put = let\n",
    "\n",
    "    # initialize\n",
    "    greek_value = 0.0; # initially set the greek value to 0\n",
    "    contract_model = put_option_model; # alias the contract model\n",
    "\n",
    "    # call the Greek function -\n",
    "    greek_value = theta(contract_model, h = h,  T = contract_model.DTE, \n",
    "        σ = contract_model.IV, Sₒ = Sₒ, μ = risk_free_rate);\n",
    "\n",
    "    # return -\n",
    "    greek_value;\n",
    "end"
   ]
  },
  {
   "cell_type": "markdown",
   "id": "a74956d1-fc0e-46db-a732-4986cd32c15a",
   "metadata": {},
   "source": [
    "__Summary__: The $\\Theta_{p}(m)<0$ for the long-put (same sign as the call option). Thus, the long-call and the long-put behave similarly in that the price of the option contract _decreases_ as the contract approaches expiration, where all else is held constant."
   ]
  },
  {
   "cell_type": "markdown",
   "id": "6f39e383-ff9d-46bd-b2fc-90472a5a107a",
   "metadata": {},
   "source": [
    "### Vega for Long Put\n",
    "Like the call option, we estimate `Vega` using the [vega(...) function](https://varnerlab.github.io/VLQuantitativeFinancePackage.jl/dev/derivatives/#VLQuantitativeFinancePackage.vega), but in this case using the `put_option_model` instance, all other parameters held the same:"
   ]
  },
  {
   "cell_type": "code",
   "execution_count": 57,
   "id": "3e08998a-3922-49a9-8f28-688678db5f68",
   "metadata": {},
   "outputs": [
    {
     "data": {
      "text/plain": [
       "0.20700000000000074"
      ]
     },
     "execution_count": 57,
     "metadata": {},
     "output_type": "execute_result"
    }
   ],
   "source": [
    "vega_long_put = let\n",
    "\n",
    "    # initialize\n",
    "    greek_value = 0.0; # initially set the greek value to 0\n",
    "    contract_model = put_option_model; # alias the contract model\n",
    "\n",
    "    # call the Greek function -\n",
    "    greek_value = vega(contract_model, h = h,  T = contract_model.DTE, \n",
    "        σ = contract_model.IV, Sₒ = Sₒ, μ = risk_free_rate);\n",
    "\n",
    "    # return -\n",
    "    greek_value;\n",
    "end"
   ]
  },
  {
   "cell_type": "markdown",
   "id": "8b5c5154-1fc4-4d51-a4b5-45656054371e",
   "metadata": {},
   "source": [
    "__Summary__: For the long put contract, $V_{p}(m)>0$. Thus, the option premium for the long put (like the long call) will increase with implied volatility; as the uncertainty in the future share price increases (measured by the implied volatility), an option contract becomes more expensive (both call and puts). This makes sense as the option seller will demand additional compensation for the additional risk. "
   ]
  },
  {
   "cell_type": "markdown",
   "id": "4612c36a-4aaf-4027-a19f-33c9075751cf",
   "metadata": {},
   "source": [
    "### Rho for Long Put\n",
    "Like the call option, we estimate `Rho` using the [rho(...) function](https://varnerlab.github.io/VLQuantitativeFinancePackage.jl/dev/derivatives/#VLQuantitativeFinancePackage.rho), but in this case using the `put_option_model` instance, all other parameters held the same:"
   ]
  },
  {
   "cell_type": "code",
   "execution_count": 63,
   "id": "7e0c1440-a30f-4882-b25d-b004f87c3c87",
   "metadata": {},
   "outputs": [
    {
     "data": {
      "text/plain": [
       "-0.0829999999999993"
      ]
     },
     "execution_count": 63,
     "metadata": {},
     "output_type": "execute_result"
    }
   ],
   "source": [
    "rho_long_put = let\n",
    "\n",
    "    # initialize\n",
    "    greek_value = 0.0; # initially set the greek value to 0\n",
    "    contract_model = put_option_model; # alias the contract model\n",
    "\n",
    "    # call the Greek function -\n",
    "    greek_value = rho(contract_model, h = h,  T = contract_model.DTE, \n",
    "        σ = contract_model.IV, Sₒ = Sₒ, μ = risk_free_rate);\n",
    "\n",
    "    # return -\n",
    "    greek_value;\n",
    "end"
   ]
  },
  {
   "cell_type": "markdown",
   "id": "30f176c8-accc-4e59-b678-29322fc2ff8a",
   "metadata": {},
   "source": [
    "__Summary__: For a long put contract, $\\rho_{p}(m)<0$. Thus, the option premium decreases with increasing risk-free rate. Under normal circumstances, the risk-free rate $\\bar{r}$ doesn't significantly change. However, when interest rates increase during inflationary periods, a negative `Rho` shows that put option premiums will decrease, all else being equal."
   ]
  },
  {
   "cell_type": "markdown",
   "id": "951cd9ac-6649-4332-b9dc-a54d6a16349d",
   "metadata": {},
   "source": [
    "### Gamma for a Long Put\n",
    "Finally, like the $\\Gamma$ calculation for the long-call, we estimate `Gamma` for a long put using the [gamma(...) function](https://varnerlab.github.io/VLQuantitativeFinancePackage.jl/dev/derivatives/#VLQuantitativeFinancePackage.gamma), but in this case using the `put_option_model` instance, all other parameters held the same:"
   ]
  },
  {
   "cell_type": "code",
   "execution_count": 66,
   "id": "f4359549-3ef9-41a5-9d6a-9b4d70555882",
   "metadata": {},
   "outputs": [
    {
     "data": {
      "text/plain": [
       "0.020000000000000462"
      ]
     },
     "execution_count": 66,
     "metadata": {},
     "output_type": "execute_result"
    }
   ],
   "source": [
    "gamma_long_put = let\n",
    "\n",
    "    # initialize\n",
    "    greek_value = 0.0; # initially set the greek value to 0\n",
    "    contract_model = put_option_model; # alias the contract model\n",
    "\n",
    "    # call the Greek function -\n",
    "    greek_value = gamma(contract_model, h = h,  T = contract_model.DTE, \n",
    "        σ = contract_model.IV, Sₒ = Sₒ, μ = risk_free_rate);\n",
    "\n",
    "    # return -\n",
    "    greek_value;\n",
    "end"
   ]
  },
  {
   "cell_type": "markdown",
   "id": "d7026a8c-f37c-4764-909d-6308a887237f",
   "metadata": {},
   "source": [
    "__Summary__: The long put option has a $\\Gamma_{p}(m)>0$, which increases the premium's sensitivity to share price movements, i.e., the premium becomes more responsive to changes in share price. The `Gamma` value indicates how sensitive an option's `Delta` is to changes in the underlying price, with higher `Gamma` values indicating greater `Delta` sensitivity."
   ]
  },
  {
   "cell_type": "markdown",
   "id": "22c8756a-a6d5-44e2-b7ce-ad7d6077f30e",
   "metadata": {},
   "source": [
    "## Task 3: Comparison of Long and Short Contract Greeks\n",
    "In this task, let's compare the signs of various Greek values for the long call and long put contracts and then look at how to compute the short Greek values. `Unhide` the code block below to see how we constructed the Greek table for the call and put contracts."
   ]
  },
  {
   "cell_type": "code",
   "execution_count": 78,
   "id": "f7e70de4-09b1-4ce0-8ecd-369c104910ac",
   "metadata": {
    "jupyter": {
     "source_hidden": true
    }
   },
   "outputs": [
    {
     "name": "stdout",
     "output_type": "stream",
     "text": [
      "========= ========= ==========\n",
      " \u001b[1m  greek \u001b[0m \u001b[1m    call \u001b[0m \u001b[1m     put \u001b[0m\n",
      " \u001b[90m String \u001b[0m \u001b[90m Float64 \u001b[0m \u001b[90m Float64 \u001b[0m\n",
      "========= ========= ==========\n",
      "   Delta     0.492    -0.388\n",
      "   Gamma     0.023      0.02\n",
      "   Theta    -0.092    -0.075\n",
      "    Vega     0.216     0.207\n",
      "     Rho     0.094    -0.083\n",
      "========= ========= ==========\n"
     ]
    }
   ],
   "source": [
    "let\n",
    "    df = DataFrame();\n",
    "\n",
    "    row_data = (\n",
    "        greek = \"Delta\",\n",
    "        call = delta_long_call,\n",
    "        put = delta_long_put\n",
    "    );\n",
    "    push!(df, row_data);\n",
    "\n",
    "    row_data = (\n",
    "        greek = \"Gamma\",\n",
    "        call = gamma_long_call,\n",
    "        put = gamma_long_put\n",
    "    );\n",
    "    push!(df, row_data);\n",
    "\n",
    "    row_data = (\n",
    "        greek = \"Theta\",\n",
    "        call = theta_long_call,\n",
    "        put = theta_long_put\n",
    "    );\n",
    "    push!(df, row_data);\n",
    "\n",
    "    row_data = (\n",
    "        greek = \"Vega\",\n",
    "        call = vega_long_call,\n",
    "        put = vega_long_put\n",
    "    );\n",
    "    push!(df, row_data);\n",
    "\n",
    "    row_data = (\n",
    "        greek = \"Rho\",\n",
    "        call = rho_long_call,\n",
    "        put = rho_long_put\n",
    "    );\n",
    "    push!(df, row_data);\n",
    "    pretty_table(df, tf=tf_simple)\n",
    "end"
   ]
  },
  {
   "cell_type": "markdown",
   "id": "c87f4d7f-90e5-4516-a191-0ba80a3373c1",
   "metadata": {},
   "source": [
    "We computed `Delta, Theta, Vega, Rho` and `Gamma` values for long put and call contacts in the previous tasks. The immediate question is, then, what about short contracts? Computing the Greek values for short contracts is straightforward: the Greek values for long and short Greek contracts must sum to `0`:\n",
    "\n",
    "* Denote the short value of a Greek by an overbar, i.e., the short `Delta` for a Call evaluated at market conditions $m$ would be given by $\\bar{\\Delta}_{c}(m)$. Then, the following condition must hold (for all market states $m$ and contracts $\\star$):\n",
    "$$\n",
    "\\begin{equation}\n",
    "\\bar{\\Delta}_{\\star}(m) + \\Delta_{\\star}\\left(m\\right) = 0\\quad{\\star\\in\\left\\{c,p\\right\\}}\n",
    "\\end{equation}\n",
    "$$\n",
    "The interconversion between long and short Greek values is a universal concept applicable to all the Greeks we have explored."
   ]
  },
  {
   "cell_type": "markdown",
   "id": "c2b0f15f-21bf-4ecd-945a-07b4807bdb4b",
   "metadata": {},
   "source": [
    "## Disclaimer and Risks\n",
    "__This content is offered solely for training and informational purposes__. No offer or solicitation to buy or sell securities or derivative products or any investment or trading advice or strategy is made, given, or endorsed by the teaching team. \n",
    "\n",
    "__Trading involves risk__. Carefully review your financial situation before investing in securities, futures contracts, options, or commodity interests. Past performance, whether actual or indicated by historical tests of strategies, is no guarantee of future performance or success. Trading is generally inappropriate for someone with limited resources, investment or trading experience, or a low-risk tolerance.  Only risk capital that is not required for living expenses.\n",
    "\n",
    "__You are fully responsible for any investment or trading decisions you make__. You should decide solely based on your financial circumstances, investment or trading objectives, risk tolerance, and liquidity needs."
   ]
  }
 ],
 "metadata": {
  "kernelspec": {
   "display_name": "Julia 1.11.1",
   "language": "julia",
   "name": "julia-1.11"
  },
  "language_info": {
   "file_extension": ".jl",
   "mimetype": "application/julia",
   "name": "julia",
   "version": "1.11.1"
  }
 },
 "nbformat": 4,
 "nbformat_minor": 5
}
