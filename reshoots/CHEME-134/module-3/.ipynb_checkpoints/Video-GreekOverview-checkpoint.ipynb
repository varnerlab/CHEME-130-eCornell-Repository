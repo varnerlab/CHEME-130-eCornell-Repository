{
 "cells": [
  {
   "cell_type": "markdown",
   "id": "7b7b69fe-7e6a-426a-a9e1-6eace36c71f9",
   "metadata": {},
   "source": [
    "## Overview of the Greeks\n",
    "The option premium is a function of time $T$, underlying share price $S$, volatility $\\sigma$, and the risk-free rate $\\bar{r}$. [The Greeks](https://en.wikipedia.org/wiki/en:Greeks_(finance)?variant=zh-tw) are metrics that can be used to understand how the premium of an option changes with market conditions.\n",
    "\n",
    "### Theory\n",
    "The local change in premium for an American contract of type $\\star$ under market condition(s) $m$ is given by:\n",
    "$$\n",
    "\\begin{equation*}\n",
    "d\\mathcal{P}_{\\star} \\sim \\Delta_{\\star}\\Bigr|_{m}{d}{S}+\\frac{\\Gamma_{\\star}}{2}\\Bigr|_{m}\\left(d{S}\\right)^2 + \\Theta_{\\star}\\Bigr|_{m}{d}{T}+V_{\\star}\\Bigr|_{m}{d}\\sigma + \\rho_{\\star}\\Bigr|_{m}{d}{\\bar{r}}\n",
    "\\end{equation*}\n",
    "$$\n",
    "where $\\Delta_{\\star}, \\Gamma_{\\star},  \\Theta_{\\star}, V_{\\star}$ and $\\rho_{\\star}$ are [the Greeks](https://en.wikipedia.org/wiki/en:Greeks_(finance)?variant=zh-tw) (evaluated at the market $m$) and $\\star\\in\\left\\{c,p\\right\\}$ denotes the contract type.\n",
    "This expansion can be rewritten in a more compact form as the [inner product](https://en.wikipedia.org/wiki/Inner_product_space) between the Greek and change vectors:\n",
    "$$\n",
    "\\begin{equation*}\n",
    "d\\mathcal{P}_{*}\\sim\\left<\\mathcal{G}_{\\star},\\delta\\right>\\quad{\\star\\in\\left\\{c,p\\right\\}}\n",
    "\\end{equation*}\n",
    "$$\n",
    "where $\\left<\\cdot,\\cdot\\right>$ denotes the [inner product](https://en.wikipedia.org/wiki/Inner_product_space) between the Greek vector (evaluated at market $m$):\n",
    "$$\n",
    "\\begin{equation*}\n",
    "\\mathcal{G}_{\\star}\\equiv\\left(\\Delta_{\\star},\\Gamma_{\\star},\\Theta_{\\star},V_{\\star},\\rho_{\\star}\\right)\\Bigr|_{m}\\quad{\\star\\in\\left\\{c,p\\right\\}}\n",
    "\\end{equation*}\n",
    "$$\n",
    "and the market change vector $\\delta$:\n",
    "$$\n",
    "\\begin{equation*}\n",
    "\\delta\\equiv\\left(dS,1/2\\cdot{dS}^{2},dT,d\\sigma,d\\bar{r}\\right)\n",
    "\\end{equation*}\n",
    "$$\n",
    "\n",
    "We use the [The Greeks](https://en.wikipedia.org/wiki/en:Greeks_(finance)?variant=zh-tw) to compute how the premium of contract type $\\star\\in\\left\\{c,p\\right\\}$. Let's dig into the meaning of each of these values."
   ]
  },
  {
   "cell_type": "code",
   "execution_count": null,
   "id": "ce408ec2-a6eb-418e-b839-ab969fdaca20",
   "metadata": {},
   "outputs": [],
   "source": []
  }
 ],
 "metadata": {
  "kernelspec": {
   "display_name": "Python 3 (ipykernel)",
   "language": "python",
   "name": "python3"
  },
  "language_info": {
   "codemirror_mode": {
    "name": "ipython",
    "version": 3
   },
   "file_extension": ".py",
   "mimetype": "text/x-python",
   "name": "python",
   "nbconvert_exporter": "python",
   "pygments_lexer": "ipython3",
   "version": "3.11.8"
  }
 },
 "nbformat": 4,
 "nbformat_minor": 5
}
