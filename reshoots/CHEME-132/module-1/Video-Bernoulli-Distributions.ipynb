{
 "cells": [
  {
   "attachments": {},
   "cell_type": "markdown",
   "id": "392fb4db-2003-411f-9a48-10fc86b4f447",
   "metadata": {},
   "source": [
    "## Bernoulli Distributions\n",
    "Let's examine a couple of discrete random variables that interest us. The first one is the Bernoulli distribution, named after the Swiss mathematician Jacob Bernoulli. \n",
    "* __Bernoulli distribution__: A Bernoulli distribution models the probability of occurrence of a discrete binary event, for example, the outcome of a coin toss, i.e., whether we see heads or whether a stock price will increase or decrease tomorrow.\n",
    "\n",
    "A Bernoulli random variable $X$ models a binary outcome: either `0` or `1`, \n",
    "where `1` occurs with probability $p$ and `0` occurs with probability $1-p$. \n",
    "The probability mass function (PMF) of the Bernoulli random variable $X$ is:\n",
    "$$\n",
    "\\begin{equation}\n",
    "p_{X}(x) = \\begin{cases}\n",
    "    p & \\text{if } x = 1 \\\\\n",
    "    1 - p & \\text{if } x = 0\n",
    "  \\end{cases}\n",
    "\\end{equation}\n",
    "$$\n",
    "where $0<p<1$ is called the Bernoulli parameter. \n",
    "\n",
    "* __What is an outcome of `0` or `1`__? One thing that throws students is the X is defined as either a zero or a one. Remember, X can be considered the outcome of a condition that evaluates to zero or one, such as an independent Boolean experiment.  So the statement, my coin flip equals heads, will be evaluated as `true` when we see a head ($X$ will equal `1`), and $X$ equals zero for the `false` case, e.g., when we see tails.\n",
    "\n",
    "#### Expectation and Variance of a Bernoulli random variable\n",
    "Now, let’s introduce expectation and variance. The expectation of a Bernoulli random variable equals:\n",
    "$$\n",
    "\\begin{equation}\n",
    "\\mathbb{E}\\left[X\\right] = p\n",
    "\\end{equation}\n",
    "$$\n",
    "while the variance $\\text{Var}(X)$ equals:\n",
    "$$\n",
    "\\begin{equation}\n",
    "\\text{Var}\\left[X\\right] = p\\cdot(1-p)\n",
    "\\end{equation}\n",
    "$$"
   ]
  },
  {
   "cell_type": "code",
   "execution_count": null,
   "id": "3a3ed3ed-1f1f-48e3-a6c7-eafbf14784ad",
   "metadata": {},
   "outputs": [],
   "source": []
  }
 ],
 "metadata": {
  "kernelspec": {
   "display_name": "Julia 1.11.1",
   "language": "julia",
   "name": "julia-1.11"
  },
  "language_info": {
   "file_extension": ".jl",
   "mimetype": "application/julia",
   "name": "julia",
   "version": "1.11.1"
  }
 },
 "nbformat": 4,
 "nbformat_minor": 5
}
