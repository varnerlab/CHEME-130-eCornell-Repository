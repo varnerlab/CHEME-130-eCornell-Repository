{
 "cells": [
  {
   "attachments": {},
   "cell_type": "markdown",
   "id": "04c0aaf4-f8d0-4935-a38b-6ad57002ca51",
   "metadata": {},
   "source": [
    "## Binomial Distributions\n",
    "The other discrete random variable that we are interested in is a binomial random variable, which is described by the Binomial Distribution:\n",
    "\n",
    "* __Binomial Distribution__: Suppose we do a sequence of `n` Bernoulli trials. A binomial random variable governs the probability of getting `k` successes in `n`-independent Bernoulli trials.\n",
    "\n",
    "A Binomial distribution models the number of successes observed `k` in `n` Bernoulli trials. The probability mass function of a Binomial random variable is given by: \n",
    "$$\n",
    "\\begin{equation*}\n",
    "p_{X}(k) = \\binom{n}{k}\\cdot{p}^{k}\\cdot\\left(1-p\\right)^{n-k}\\qquad{k=0,1,\\dots,n}\n",
    "\\end{equation*}\n",
    "$$\n",
    "where $k$ denotes the number of successes in $n$ independent experiments. The first term in the binomial probability mass function is the binomial coefficient:\n",
    "$$\n",
    "\\begin{equation*}\n",
    "\\binom{n}{k} = \\frac{n!}{k!\\left(n-k\\right)!}\n",
    "\\end{equation*}\n",
    "$$\n",
    "while the $p^{k}$ term denotes the probability of seeing exactly $k$ successs. \n",
    "The final $\\left(1-p\\right)^{n-k}$ term describes the probability of $n-k$ failures, where\n",
    "where $p$ is the probability of success in each individual trial.\n",
    "\n",
    "#### Expectation and Variance of a Binomial random variable\n",
    "Now, let’s introduce expectation and variance for a Binomial random variable.\n",
    "The expectation $\\mathbb{E}\\left[X\\right]$ and variance $\\text{Var}\\left[X\\right]$ of a binomial random variable $X$ are given by:\n",
    "$$\n",
    "\\begin{eqnarray*}\n",
    "\\mathbb{E}\\left[X\\right] &=& n\\cdot{p}\\\\\n",
    "\\text{Var}\\left[X\\right] &=& n\\cdot{p}\\cdot(1-p)\n",
    "\\end{eqnarray*}\n",
    "$$\n",
    "The expectation of a binomial random variable is $n$ times $p$, and the variance is $n$ times $p$ times $(1-p)$. \n",
    "* __Key assumption__: One underlying assumption that will be important subsequently is that our trials are independent of one another. There's no memory from one trial to the next.  So, if I think about this just as a time sort of thing, I flip a coin, I reset, I flip a coin, I reset, I flip a coin. Each flip is independent of every other flip."
   ]
  },
  {
   "cell_type": "code",
   "execution_count": null,
   "id": "e6b467ad-f3c4-4ae1-b478-8c345375300b",
   "metadata": {},
   "outputs": [],
   "source": []
  }
 ],
 "metadata": {
  "kernelspec": {
   "display_name": "Julia 1.11.1",
   "language": "julia",
   "name": "julia-1.11"
  },
  "language_info": {
   "file_extension": ".jl",
   "mimetype": "application/julia",
   "name": "julia",
   "version": "1.11.1"
  }
 },
 "nbformat": 4,
 "nbformat_minor": 5
}
