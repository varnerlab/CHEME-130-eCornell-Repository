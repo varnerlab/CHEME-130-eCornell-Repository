{
 "cells": [
  {
   "attachments": {},
   "cell_type": "markdown",
   "id": "a673916f-c6ac-44c8-9677-e8ffe6164edd",
   "metadata": {},
   "source": [
    "## Binomial Lattice Model\n",
    " A binomial lattice model assumes that at each discrete time increment, the future state of the system, e.g., the share price of equity, can either increase by a factor $u$ with probability $p$ or decrease by a factor $d$ with probability $(1-p)$ in the next time interval. \n",
    "\n",
    "If we start today (the blue node), a binomial lattice model says that tomorrow, the system can move to the `up` state with probability $p$ or to the `down` state with probability $(1-p)$. \n",
    "\n",
    "<div>\n",
    "    <center>\n",
    "        <img src=\"figs/Fig-Binomial-Lattice-Schematic.svg\" width=\"260\"/>\n",
    "    </center>\n",
    "</div>\n",
    "\n",
    "### What are the `up` and `down` states? \n",
    "Let's consider the case where we are modeling the potential future share price of an individual stock or an ETF, etc. Starting from time $t$ (now):\n",
    "* The `up` state at time $t+1$ has a share price of $S_{t+1}^{u} = u\\cdot{S}_{t}$, where $u$ is the up-factor and $S_{t}$ is the share price at time $t$.\n",
    "* The `down` state at time $t+1$ has a share price of $S_{t+1}^{d} = d\\cdot{S}_{t}$, where $d$ is the down-factor and $S_{t}$ is the share price at time $t$.\n",
    "\n",
    "__Because the future is uncertain__: we do not know exactly which future state we'll be in. For example, if we look at the `t = 3` level of the tree, we have `4` possible future states. We are not sure which of these four we'll be in, but because the binomial lattice model is discrete, we must be in one of these states."
   ]
  },
  {
   "cell_type": "markdown",
   "id": "b6cbbe41-1805-41a0-9030-47135b2ec8df",
   "metadata": {},
   "source": [
    "### What is the distribution of the future states?\n",
    "The binomial lattice model allows us to compute the distribution of possible future share prices (which has many uses). However, what does this future share price distribution look like?\n",
    "* One of the really exciting features of the binomial lattice is that at each node, we are performing a Bernoulli experiment: we either go up, which is `1`, or down, which is `0`. Thus, the probability of reaching any node in the tree from the root node (today) is governed by a Binomial distribution!\n",
    "\n",
    "The probability of reaching any node in the tree from the root node (today) is governed by a Binomial distribution:\n",
    "$$\n",
    "\\begin{equation*}\n",
    "P(S_{T} = S_{\\circ}\\cdot{u}^{t-k}\\cdot{d}^{k}) = \\binom{t}{k}\\cdot{(1-p)}^{k}\\cdot{p}^{t-k}\\qquad\\text{for}\\quad{k=0,1,\\dots,t}\n",
    "\\end{equation*}\n",
    "$$\n",
    "where $t$ denotes the future time (level of the tree). Thus, for a binomial lattice model, we know the values of the share prices at each node and the probability of reaching each node in the tree."
   ]
  },
  {
   "cell_type": "code",
   "execution_count": null,
   "id": "29ec9c7f-0cb3-42a3-8f91-dfc173410053",
   "metadata": {},
   "outputs": [],
   "source": []
  }
 ],
 "metadata": {
  "kernelspec": {
   "display_name": "Julia 1.11.1",
   "language": "julia",
   "name": "julia-1.11"
  },
  "language_info": {
   "file_extension": ".jl",
   "mimetype": "application/julia",
   "name": "julia",
   "version": "1.11.1"
  }
 },
 "nbformat": 4,
 "nbformat_minor": 5
}
