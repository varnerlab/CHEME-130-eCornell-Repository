{
 "cells": [
  {
   "attachments": {},
   "cell_type": "markdown",
   "id": "c4dfa16e-f34c-4cbf-a9fe-d8a444bf8ceb",
   "metadata": {},
   "source": [
    "## Geometric Brownian Motion\n",
    "Geometric Brownian motion (GBM) is a stochastic differential equation describing the share price $S(t)$ \n",
    "as a random walk with drift and volatility proportional to $S(t)$:\n",
    "$$\n",
    "\\begin{equation*}\n",
    "\\frac{dS\\left(t\\right)}{S(t)} = \\mu\\,{dt}+\\sigma\\,{dW(t)}\n",
    "\\end{equation*}\n",
    "$$\n",
    "Here, $\\mu$ denotes a constant drift parameter, $\\sigma>0$ is a constant volatility parameter (spread in asset return), and $dW$ represents a Wiener noise process. __Note__: this model (as written) does not consider dividends. In what follows, we ignore dividends.\n",
    "\n",
    "### Where did geometric Brownian motion come from? \n",
    "Using geometric Brownian motion as a financial model originated with Samuelson in the 1950s and 1960s. Still, it is probably most famous because of its use by Black, Scholes, and later Merton in options pricing (work that was later awarded the Nobel Prize). So, that's why it's famous. \n",
    "\n",
    "### Geometric Brownian motion has an analytical solution\n",
    "A nice feature of Geometric Brownian motion is that it has a convenient analytical solution:\n",
    "$$\n",
    "\\begin{equation*}\n",
    "S(t) = S_{\\circ}\\cdot\\exp\\Biggl[\\left(\\mu-\\frac{\\sigma^{2}}{2}\\right)\\cdot\\left(t - t_{\\circ}\\right) + (\\sigma\\sqrt{t-t_{\\circ}})\\cdot{Z(0,1)}\\Biggr]\n",
    "\\end{equation*}\n",
    "$$\n",
    "where $S_{\\circ}$ is the initial share price at $t_{\\circ}$, and $Z(0,1)$ is a standard normal random variable. Geometric Brownian motion will produce a future share price distribution that follows a Log Normal distribution, with expectation and variance of the form:\n",
    "$$\n",
    "\\begin{eqnarray*}\n",
    "\\mathbb{E}\\left(S_{t}\\right) &=& S_{o}\\cdot{e}^{\\mu\\cdot\\Delta{t}}\\\\\n",
    "\\text{Var}\\left(S_{t}\\right) &=& S_{\\circ}^{2}e^{2\\mu\\cdot\\Delta{t}}\\left[e^{\\sigma^{2}{\\Delta{t}}} - 1\\right]\n",
    "\\end{eqnarray*}\n",
    "$$\n",
    "where $\\Delta{t} = t - t_{\\circ}$."
   ]
  },
  {
   "cell_type": "code",
   "execution_count": null,
   "id": "762c19f9-8ba7-4bba-8914-cad8ad8e5a31",
   "metadata": {},
   "outputs": [],
   "source": []
  }
 ],
 "metadata": {
  "kernelspec": {
   "display_name": "Julia 1.11.1",
   "language": "julia",
   "name": "julia-1.11"
  },
  "language_info": {
   "name": ""
  }
 },
 "nbformat": 4,
 "nbformat_minor": 5
}
