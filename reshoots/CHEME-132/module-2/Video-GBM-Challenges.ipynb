{
 "cells": [
  {
   "cell_type": "markdown",
   "id": "6f66c337-c2fd-4659-b040-c662854177d1",
   "metadata": {},
   "source": [
    "## Challenges with geometric Brownian motion\n",
    "While geometric Brownian motion has several attractive features, such as its analytical solution:\n",
    "$$\n",
    "\\begin{equation*}\n",
    "S(t) = S_{\\circ}\\cdot\\exp\\Biggl[\\left(\\mu-\\frac{\\sigma^{2}}{2}\\right)\\left(t - t_{\\circ}\\right) + (\\sigma\\sqrt{t-t_{\\circ}})\\cdot{Z(0,1)}\\Biggr]\n",
    "\\end{equation*}\n",
    "$$\n",
    "and analytic expectation and variance expressions, it does have significant shortcomings.\n",
    "\n",
    "### Shortcomings\n",
    "* __The $\\left(\\mu,\\sigma\\right)$ parameters are constant__: Geometric Brownian motion offers a static picture of dynamics, and we're simulating the future in time with that static picture. However, we know that the market environment can change. For example, there may be geopolitical events, a pandemic, or a bad earnings report that, at least in the short term, can significantly alter the price of an asset.\n",
    "* __Returns distribution calculated using geometric Brownian motion is not correct.__ Next, the return distribution calculated using geometric Brownian motion does not admit a fat-tailed distribution. The noise term is a well-behaved, Normally distributed noise source. This will not capture the fat-tailed nature of an asset return, which is sharper and wider than a Normal distribution.\n",
    "* __Geometric Brownian motion does exhibit volatility clustering.__ Geometric Brownian motion shows random walk behavior but lacks volatility clustering. This concept is assessed by analyzing the autocorrelation of the absolute values of excess growth rates across different lags. In practice, we anticipate positive absolute autocorrelation for short lags, indicating that high volatility periods, like significant return changes, tend to cluster in time.\n",
    "\n",
    "### Conclusion\n",
    "In its default form, geometric Brownian motion does not capture many nuisances observed in asset return data. However, it is a good starting point for modeling asset prices. "
   ]
  },
  {
   "cell_type": "markdown",
   "id": "f7676c65",
   "metadata": {},
   "source": []
  }
 ],
 "metadata": {
  "kernelspec": {
   "display_name": "Julia 1.11.1",
   "language": "julia",
   "name": "julia-1.11"
  },
  "language_info": {
   "name": ""
  }
 },
 "nbformat": 4,
 "nbformat_minor": 5
}
