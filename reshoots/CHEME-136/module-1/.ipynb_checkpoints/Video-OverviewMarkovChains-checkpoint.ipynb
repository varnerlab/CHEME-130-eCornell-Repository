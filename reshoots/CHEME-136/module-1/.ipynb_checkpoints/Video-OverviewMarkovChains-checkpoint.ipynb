{
 "cells": [
  {
   "cell_type": "markdown",
   "id": "2bf79f91-88f5-4935-90d5-ea799cf46f36",
   "metadata": {},
   "source": [
    "## Overview of Discrete Markov Chains\n",
    "A Markov chain is a stochastic process that transitions between states based on defined probabilities. Formally, a Markov model is defined by the tuple \n",
    "$\\mathcal{M} = (\\mathcal{S},\\mathbf{P})$, where $\\mathcal{S}$ represents the set of states in the model and $\\mathbf{P}$ is the transition matrix.\n",
    "\n",
    "### The state space $\\mathcal{S}$\n",
    "The state space $\\mathcal{S}$ is the set of all possible values a system can assume. For example, if a Markov chain can be in state(s) $\\left\\{1,2,3\\right\\}$ then $\\mathcal{S} \\equiv \\left\\{1,2,3\\right\\}$. But can do these states represent?\n",
    "States can represent all kinds of stuff. However, we are focused on finite sets of discrete things. For example:\n",
    "* __Letters in words__ $\\mathcal{S} \\equiv \\left\\{a,b,c,\\dotsc,z\\right\\}$: If the state space $\\mathcal{S}$ were defined as the alphabet, we could develop a Markov model to generate $n$ words, each of length $l$ characters, that start with the letter `t,` etc.\n",
    "* __Investor moods__ $\\mathcal{S} \\equiv \\left\\{\\text{bullish},\\text{neutral},\\text{bearish}\\right\\}$: In this case, the state space is defined as three possible moods the investor is in. Using this type of $\\mathcal{S}$, we could build a Markov model to simulate how an investor's mood changes as they watch the market, the news, etc.\n",
    "\n",
    "### The transition matrix $\\mathbf{P}$\n",
    "A discrete Markov chain is a sequence of random variables (states) $X_{1},\\dotsc, X_{n}$ with \n",
    "the [Markov property](https://en.wikipedia.org/wiki/Markov_property), \n",
    "i.e., the probability of moving to the next state depends only on the present and not past states:\n",
    "$$\n",
    "\\begin{equation*}\n",
    "P(X_{n+1} = s | X_{1}=s_{\\star}, \\dots, X_{n}=s_{\\star}) = P(X_{n+1} = s_{i} | X_{n} = s_{j})\n",
    "\\end{equation*}\n",
    "$$\n",
    "For finite state spaces $\\mathcal{S}$, the probability of moving from the state(s) $s_{i}\\rightarrow{s_{j}}$ in the next step, \n",
    "is encoded in the transition matrix $p_{ij}\\in\\mathbf{P}\\in\\mathbb{R}^{n\\times{n}}$: \n",
    "$$\n",
    "\\begin{equation*}\n",
    "p_{ij} = P(X_{n+1}~=~s_{j}~|~X_{n}~=~s_{i})\n",
    "\\end{equation*}\n",
    "$$\n",
    "The transition matrix $\\mathbf{P}$ has interesting properties:\n",
    "* The rows of $\\mathbf{P}$ represent the current states, while the columns represent the future states (our convention).\n",
    "* The rows of $\\mathbf{P}$ must sum to unity, i.e., each row encodes the probability of all possible future outcomes.  \n",
    "* Next, if the transition matrix $\\mathbf{P}$ is invariant, then $p_{ij}$ doesn't change as $n\\rightarrow{n+1}~\\forall{n}$. In other words, the probability of transitioning from state $i$ to state $j$ does not change as the system evolves. The $p_{ij}$ values are constant."
   ]
  },
  {
   "cell_type": "code",
   "execution_count": null,
   "id": "de58ad56-0be8-42f9-a390-205f29442f72",
   "metadata": {},
   "outputs": [],
   "source": []
  }
 ],
 "metadata": {
  "kernelspec": {
   "display_name": "Julia 1.11.1",
   "language": "julia",
   "name": "julia-1.11"
  },
  "language_info": {
   "file_extension": ".jl",
   "mimetype": "application/julia",
   "name": "julia",
   "version": "1.11.1"
  }
 },
 "nbformat": 4,
 "nbformat_minor": 5
}
