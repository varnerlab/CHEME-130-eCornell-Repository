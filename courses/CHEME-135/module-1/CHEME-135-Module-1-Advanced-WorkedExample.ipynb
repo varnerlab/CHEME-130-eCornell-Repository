{
 "cells": [
  {
   "cell_type": "markdown",
   "id": "caf36f89-46fd-4838-b5d5-787b6e9aadb2",
   "metadata": {},
   "source": [
    "# Example: Analysis of Equally Weighted Portfolio Allocation and Rebalancing \n",
    "This example will familiarize students with equally weighted portfolios $\\mathcal{P}$ where $\\omega_{i} = 1/|\\mathcal{P}|$ and an initial rebalancing implementation for this type of portfolio using the portfolio relative risk $\\beta_{\\mathcal{P}}$. \n",
    "\n",
    "### Learning tasks and objectives\n",
    "* __Prerequisites__: Load and clean an out-of-sample dataset to simulate daily rebalancing decisions. We'll load daily open-high-low-close `dataset` for each firm in the [S&P500](https://en.wikipedia.org/wiki/S%26P_500) from `01-03-2024` until `09-23-24` close, along with data for a few exchange-traded funds and volatility products during that time.\n",
    "* __Task 1__: Simulate an equally weighted portfolio without rebalancing. In this task, we'll select the tickers in our portfolio $\\mathcal{P}$, then simulate an (initially) equally weighted portfolio using an out-of-sample dataset.\n",
    "* __Task 2__: Equally weighted portfolio allocation with reallocation. In this task, we'll implement a reallocation algorithm that monitors the daily portfolio relative risk $\\beta_{\\mathcal{P}}$ and uses this value to trigger reallocation.\n",
    "* __Task 3__: Comparison of fixed versus reallocated portfolio net present values. In this task, we compare the Net Present Value (NPV) for the fixed allocation portfolio, the variable allocation portfolio, and then the alternative investment, in this case, the [SP500 ETF `SPY`](https://finance.yahoo.com/quote/SPY/)"
   ]
  },
  {
   "cell_type": "markdown",
   "id": "ad417ab0-5098-4686-aa87-40e6d1f19768",
   "metadata": {},
   "source": [
    "## Setup\n",
    "We set up the computational environment by including the `Include.jl` file. The `Include.jl` file loads external packages, various functions that we will use in the exercise, and custom types to model the components of our lab problem.\n",
    "* For additional information on functions and types used in this material, see the [Julia programming language documentation](https://docs.julialang.org/en/v1/) and the [VLQuantitativeFinancePackage.jl documentation](https://github.com/varnerlab/VLQuantitativeFinancePackage.jl)."
   ]
  },
  {
   "cell_type": "code",
   "execution_count": 3,
   "id": "a66d4515-38fa-4a27-b68f-02f15d4e6347",
   "metadata": {},
   "outputs": [
    {
     "name": "stderr",
     "output_type": "stream",
     "text": [
      "\u001b[32m\u001b[1m    Updating\u001b[22m\u001b[39m git-repo `https://github.com/varnerlab/VLQuantitativeFinancePackage.jl.git`\n",
      "\u001b[32m\u001b[1m   Resolving\u001b[22m\u001b[39m package versions...\n",
      "\u001b[32m\u001b[1m   Installed\u001b[22m\u001b[39m CSV ─ v0.10.15\n",
      "\u001b[32m\u001b[1m    Updating\u001b[22m\u001b[39m `~/Desktop/julia_work/CHEME-130-eCornell-Repository/courses/CHEME-135/module-1/Project.toml`\n",
      "  \u001b[90m[336ed68f] \u001b[39m\u001b[92m+ CSV v0.10.15\u001b[39m\n",
      "  \u001b[90m[5ae59095] \u001b[39m\u001b[92m+ Colors v0.12.11\u001b[39m\n",
      "  \u001b[90m[a93c6f00] \u001b[39m\u001b[92m+ DataFrames v1.7.0\u001b[39m\n",
      "  \u001b[90m[864edb3b] \u001b[39m\u001b[92m+ DataStructures v0.18.20\u001b[39m\n",
      "  \u001b[90m[31c24e10] \u001b[39m\u001b[92m+ Distributions v0.25.112\u001b[39m\n",
      "  \u001b[90m[5789e2e9] \u001b[39m\u001b[92m+ FileIO v1.16.4\u001b[39m\n",
      "\u001b[32m⌃\u001b[39m \u001b[90m[033835bb] \u001b[39m\u001b[92m+ JLD2 v0.4.53\u001b[39m\n",
      "  \u001b[90m[b8f27783] \u001b[39m\u001b[92m+ MathOptInterface v1.32.0\u001b[39m\n",
      "  \u001b[90m[91a5bcdd] \u001b[39m\u001b[92m+ Plots v1.40.8\u001b[39m\n",
      "  \u001b[90m[08abe8d2] \u001b[39m\u001b[92m+ PrettyTables v2.4.0\u001b[39m\n",
      "  \u001b[90m[10745b16] \u001b[39m\u001b[92m+ Statistics v1.11.1\u001b[39m\n",
      "  \u001b[90m[f3b207a7] \u001b[39m\u001b[92m+ StatsPlots v0.15.7\u001b[39m\n",
      "  \u001b[90m[4119e0bf] \u001b[39m\u001b[92m+ VLQuantitativeFinancePackage v1.0.0-DEV `https://github.com/varnerlab/VLQuantitativeFinancePackage.jl.git#main`\u001b[39m\n",
      "  \u001b[90m[ade2ca70] \u001b[39m\u001b[93m~ Dates ⇒ v1.11.0\u001b[39m\n",
      "  \u001b[90m[37e2e46d] \u001b[39m\u001b[93m~ LinearAlgebra ⇒ v1.11.0\u001b[39m\n",
      "\u001b[32m\u001b[1m    Updating\u001b[22m\u001b[39m `~/Desktop/julia_work/CHEME-130-eCornell-Repository/courses/CHEME-135/module-1/Manifest.toml`\n",
      "  \u001b[90m[621f4979] \u001b[39m\u001b[92m+ AbstractFFTs v1.5.0\u001b[39m\n",
      "  \u001b[90m[79e6a3ab] \u001b[39m\u001b[92m+ Adapt v4.0.4\u001b[39m\n",
      "  \u001b[90m[66dad0bd] \u001b[39m\u001b[92m+ AliasTables v1.1.3\u001b[39m\n",
      "  \u001b[90m[7d9fca2a] \u001b[39m\u001b[92m+ Arpack v0.5.4\u001b[39m\n",
      "  \u001b[90m[4fba245c] \u001b[39m\u001b[92m+ ArrayInterface v7.16.0\u001b[39m\n",
      "  \u001b[90m[13072b0f] \u001b[39m\u001b[92m+ AxisAlgorithms v1.1.0\u001b[39m\n",
      "  \u001b[90m[6e4b80f9] \u001b[39m\u001b[92m+ BenchmarkTools v1.5.0\u001b[39m\n",
      "  \u001b[90m[d1d4a3ce] \u001b[39m\u001b[92m+ BitFlags v0.1.9\u001b[39m\n",
      "  \u001b[90m[336ed68f] \u001b[39m\u001b[92m+ CSV v0.10.15\u001b[39m\n",
      "  \u001b[90m[d360d2e6] \u001b[39m\u001b[92m+ ChainRulesCore v1.25.0\u001b[39m\n",
      "  \u001b[90m[aaaa29a8] \u001b[39m\u001b[92m+ Clustering v0.15.7\u001b[39m\n",
      "  \u001b[90m[523fee87] \u001b[39m\u001b[92m+ CodecBzip2 v0.8.4\u001b[39m\n",
      "  \u001b[90m[944b1d66] \u001b[39m\u001b[92m+ CodecZlib v0.7.6\u001b[39m\n",
      "  \u001b[90m[35d6a980] \u001b[39m\u001b[92m+ ColorSchemes v3.26.0\u001b[39m\n",
      "\u001b[33m⌅\u001b[39m \u001b[90m[3da002f7] \u001b[39m\u001b[92m+ ColorTypes v0.11.5\u001b[39m\n",
      "  \u001b[90m[c3611d14] \u001b[39m\u001b[92m+ ColorVectorSpace v0.10.0\u001b[39m\n",
      "  \u001b[90m[5ae59095] \u001b[39m\u001b[92m+ Colors v0.12.11\u001b[39m\n",
      "  \u001b[90m[bbf7d656] \u001b[39m\u001b[92m+ CommonSubexpressions v0.3.1\u001b[39m\n",
      "  \u001b[90m[34da2185] \u001b[39m\u001b[92m+ Compat v4.16.0\u001b[39m\n",
      "  \u001b[90m[f0e56b4a] \u001b[39m\u001b[92m+ ConcurrentUtilities v2.4.2\u001b[39m\n",
      "  \u001b[90m[187b0558] \u001b[39m\u001b[92m+ ConstructionBase v1.5.8\u001b[39m\n",
      "  \u001b[90m[d38c429a] \u001b[39m\u001b[92m+ Contour v0.6.3\u001b[39m\n",
      "  \u001b[90m[a8cc5b0e] \u001b[39m\u001b[92m+ Crayons v4.1.1\u001b[39m\n",
      "  \u001b[90m[9a962f9c] \u001b[39m\u001b[92m+ DataAPI v1.16.0\u001b[39m\n",
      "  \u001b[90m[a93c6f00] \u001b[39m\u001b[92m+ DataFrames v1.7.0\u001b[39m\n",
      "  \u001b[90m[864edb3b] \u001b[39m\u001b[92m+ DataStructures v0.18.20\u001b[39m\n",
      "  \u001b[90m[e2d170a0] \u001b[39m\u001b[92m+ DataValueInterfaces v1.0.0\u001b[39m\n",
      "  \u001b[90m[8bb1440f] \u001b[39m\u001b[92m+ DelimitedFiles v1.9.1\u001b[39m\n",
      "  \u001b[90m[163ba53b] \u001b[39m\u001b[92m+ DiffResults v1.1.0\u001b[39m\n",
      "  \u001b[90m[b552c78f] \u001b[39m\u001b[92m+ DiffRules v1.15.1\u001b[39m\n",
      "  \u001b[90m[b4f34e82] \u001b[39m\u001b[92m+ Distances v0.10.11\u001b[39m\n",
      "  \u001b[90m[31c24e10] \u001b[39m\u001b[92m+ Distributions v0.25.112\u001b[39m\n",
      "  \u001b[90m[ffbed154] \u001b[39m\u001b[92m+ DocStringExtensions v0.9.3\u001b[39m\n",
      "  \u001b[90m[460bff9d] \u001b[39m\u001b[92m+ ExceptionUnwrapping v0.1.10\u001b[39m\n",
      "  \u001b[90m[e2ba6199] \u001b[39m\u001b[92m+ ExprTools v0.1.10\u001b[39m\n",
      "  \u001b[90m[c87230d0] \u001b[39m\u001b[92m+ FFMPEG v0.4.2\u001b[39m\n",
      "  \u001b[90m[7a1cc6ca] \u001b[39m\u001b[92m+ FFTW v1.8.0\u001b[39m\n",
      "  \u001b[90m[9aa1b823] \u001b[39m\u001b[92m+ FastClosures v0.3.2\u001b[39m\n",
      "  \u001b[90m[5789e2e9] \u001b[39m\u001b[92m+ FileIO v1.16.4\u001b[39m\n",
      "  \u001b[90m[48062228] \u001b[39m\u001b[92m+ FilePathsBase v0.9.22\u001b[39m\n",
      "  \u001b[90m[1a297f60] \u001b[39m\u001b[92m+ FillArrays v1.13.0\u001b[39m\n",
      "  \u001b[90m[6a86dc24] \u001b[39m\u001b[92m+ FiniteDiff v2.26.0\u001b[39m\n",
      "  \u001b[90m[53c48c17] \u001b[39m\u001b[92m+ FixedPointNumbers v0.8.5\u001b[39m\n",
      "  \u001b[90m[1fa38f19] \u001b[39m\u001b[92m+ Format v1.3.7\u001b[39m\n",
      "  \u001b[90m[f6369f11] \u001b[39m\u001b[92m+ ForwardDiff v0.10.36\u001b[39m\n",
      "  \u001b[90m[28b8d3ca] \u001b[39m\u001b[92m+ GR v0.73.8\u001b[39m\n",
      "  \u001b[90m[42e2da0e] \u001b[39m\u001b[92m+ Grisu v1.0.2\u001b[39m\n",
      "  \u001b[90m[cd3eb016] \u001b[39m\u001b[92m+ HTTP v1.10.8\u001b[39m\n",
      "  \u001b[90m[34004b35] \u001b[39m\u001b[92m+ HypergeometricFunctions v0.3.24\u001b[39m\n",
      "  \u001b[90m[842dd82b] \u001b[39m\u001b[92m+ InlineStrings v1.4.2\u001b[39m\n",
      "  \u001b[90m[a98d9a8b] \u001b[39m\u001b[92m+ Interpolations v0.15.1\u001b[39m\n",
      "  \u001b[90m[41ab1584] \u001b[39m\u001b[92m+ InvertedIndices v1.3.0\u001b[39m\n",
      "  \u001b[90m[92d709cd] \u001b[39m\u001b[92m+ IrrationalConstants v0.2.2\u001b[39m\n",
      "  \u001b[90m[82899510] \u001b[39m\u001b[92m+ IteratorInterfaceExtensions v1.0.0\u001b[39m\n",
      "\u001b[32m⌃\u001b[39m \u001b[90m[033835bb] \u001b[39m\u001b[92m+ JLD2 v0.4.53\u001b[39m\n",
      "  \u001b[90m[1019f520] \u001b[39m\u001b[92m+ JLFzf v0.1.8\u001b[39m\n",
      "  \u001b[90m[692b3bcd] \u001b[39m\u001b[92m+ JLLWrappers v1.6.1\u001b[39m\n",
      "  \u001b[90m[682c06a0] \u001b[39m\u001b[92m+ JSON v0.21.4\u001b[39m\n",
      "  \u001b[90m[4076af6c] \u001b[39m\u001b[92m+ JuMP v1.23.3\u001b[39m\n",
      "  \u001b[90m[5ab0869b] \u001b[39m\u001b[92m+ KernelDensity v0.6.9\u001b[39m\n",
      "  \u001b[90m[b964fa9f] \u001b[39m\u001b[92m+ LaTeXStrings v1.4.0\u001b[39m\n",
      "  \u001b[90m[23fbe1c1] \u001b[39m\u001b[92m+ Latexify v0.16.5\u001b[39m\n",
      "  \u001b[90m[d3d80556] \u001b[39m\u001b[92m+ LineSearches v7.3.0\u001b[39m\n",
      "  \u001b[90m[5c8ed15e] \u001b[39m\u001b[92m+ LinearOperators v2.9.0\u001b[39m\n",
      "  \u001b[90m[2ab3a3ac] \u001b[39m\u001b[92m+ LogExpFunctions v0.3.28\u001b[39m\n",
      "  \u001b[90m[e6f89c97] \u001b[39m\u001b[92m+ LoggingExtras v1.0.3\u001b[39m\n",
      "  \u001b[90m[2fda8390] \u001b[39m\u001b[92m+ LsqFit v0.15.0\u001b[39m\n",
      "  \u001b[90m[1914dd2f] \u001b[39m\u001b[92m+ MacroTools v0.5.13\u001b[39m\n",
      "\u001b[32m⌃\u001b[39m \u001b[90m[2621e9c9] \u001b[39m\u001b[92m+ MadNLP v0.7.0\u001b[39m\n",
      "  \u001b[90m[b8f27783] \u001b[39m\u001b[92m+ MathOptInterface v1.32.0\u001b[39m\n",
      "  \u001b[90m[739be429] \u001b[39m\u001b[92m+ MbedTLS v1.1.9\u001b[39m\n",
      "  \u001b[90m[442fdcdd] \u001b[39m\u001b[92m+ Measures v0.3.2\u001b[39m\n",
      "  \u001b[90m[e1d29d7a] \u001b[39m\u001b[92m+ Missings v1.2.0\u001b[39m\n",
      "  \u001b[90m[6f286f6a] \u001b[39m\u001b[92m+ MultivariateStats v0.10.3\u001b[39m\n",
      "  \u001b[90m[d8a4904e] \u001b[39m\u001b[92m+ MutableArithmetics v1.5.2\u001b[39m\n",
      "\u001b[33m⌅\u001b[39m \u001b[90m[a4795742] \u001b[39m\u001b[92m+ NLPModels v0.20.0\u001b[39m\n",
      "  \u001b[90m[d41bc354] \u001b[39m\u001b[92m+ NLSolversBase v7.8.3\u001b[39m\n",
      "  \u001b[90m[77ba4419] \u001b[39m\u001b[92m+ NaNMath v1.0.2\u001b[39m\n",
      "  \u001b[90m[b8a86587] \u001b[39m\u001b[92m+ NearestNeighbors v0.4.20\u001b[39m\n",
      "  \u001b[90m[510215fc] \u001b[39m\u001b[92m+ Observables v0.5.5\u001b[39m\n",
      "  \u001b[90m[6fe1bfb0] \u001b[39m\u001b[92m+ OffsetArrays v1.14.1\u001b[39m\n",
      "  \u001b[90m[4d8831e6] \u001b[39m\u001b[92m+ OpenSSL v1.4.3\u001b[39m\n",
      "  \u001b[90m[429524aa] \u001b[39m\u001b[92m+ Optim v1.9.4\u001b[39m\n",
      "  \u001b[90m[bac558e1] \u001b[39m\u001b[92m+ OrderedCollections v1.6.3\u001b[39m\n",
      "  \u001b[90m[90014a1f] \u001b[39m\u001b[92m+ PDMats v0.11.31\u001b[39m\n",
      "  \u001b[90m[d96e819e] \u001b[39m\u001b[92m+ Parameters v0.12.3\u001b[39m\n",
      "  \u001b[90m[69de0a69] \u001b[39m\u001b[92m+ Parsers v2.8.1\u001b[39m\n",
      "  \u001b[90m[b98c9c47] \u001b[39m\u001b[92m+ Pipe v1.3.0\u001b[39m\n",
      "  \u001b[90m[ccf2f8ad] \u001b[39m\u001b[92m+ PlotThemes v3.2.0\u001b[39m\n",
      "  \u001b[90m[995b91a9] \u001b[39m\u001b[92m+ PlotUtils v1.4.2\u001b[39m\n",
      "  \u001b[90m[91a5bcdd] \u001b[39m\u001b[92m+ Plots v1.40.8\u001b[39m\n",
      "  \u001b[90m[2dfb63ee] \u001b[39m\u001b[92m+ PooledArrays v1.4.3\u001b[39m\n",
      "  \u001b[90m[85a6dd25] \u001b[39m\u001b[92m+ PositiveFactorizations v0.2.4\u001b[39m\n",
      "  \u001b[90m[aea7be01] \u001b[39m\u001b[92m+ PrecompileTools v1.2.1\u001b[39m\n",
      "  \u001b[90m[21216c6a] \u001b[39m\u001b[92m+ Preferences v1.4.3\u001b[39m\n",
      "  \u001b[90m[08abe8d2] \u001b[39m\u001b[92m+ PrettyTables v2.4.0\u001b[39m\n",
      "  \u001b[90m[43287f4e] \u001b[39m\u001b[92m+ PtrArrays v1.2.1\u001b[39m\n",
      "  \u001b[90m[1fd47b50] \u001b[39m\u001b[92m+ QuadGK v2.11.1\u001b[39m\n",
      "  \u001b[90m[c84ed2f1] \u001b[39m\u001b[92m+ Ratios v0.4.5\u001b[39m\n",
      "  \u001b[90m[3cdcf5f2] \u001b[39m\u001b[92m+ RecipesBase v1.3.4\u001b[39m\n",
      "  \u001b[90m[01d81517] \u001b[39m\u001b[92m+ RecipesPipeline v0.6.12\u001b[39m\n",
      "  \u001b[90m[189a3867] \u001b[39m\u001b[92m+ Reexport v1.2.2\u001b[39m\n",
      "  \u001b[90m[05181044] \u001b[39m\u001b[92m+ RelocatableFolders v1.0.1\u001b[39m\n",
      "  \u001b[90m[ae029012] \u001b[39m\u001b[92m+ Requires v1.3.0\u001b[39m\n",
      "  \u001b[90m[79098fc4] \u001b[39m\u001b[92m+ Rmath v0.8.0\u001b[39m\n",
      "  \u001b[90m[6c6a2e73] \u001b[39m\u001b[92m+ Scratch v1.2.1\u001b[39m\n",
      "  \u001b[90m[91c51154] \u001b[39m\u001b[92m+ SentinelArrays v1.4.5\u001b[39m\n",
      "  \u001b[90m[efcf1570] \u001b[39m\u001b[92m+ Setfield v1.1.1\u001b[39m\n",
      "  \u001b[90m[992d4aef] \u001b[39m\u001b[92m+ Showoff v1.0.3\u001b[39m\n",
      "  \u001b[90m[777ac1f9] \u001b[39m\u001b[92m+ SimpleBufferStream v1.2.0\u001b[39m\n",
      "  \u001b[90m[ff4d7338] \u001b[39m\u001b[92m+ SolverCore v0.3.8\u001b[39m\n",
      "  \u001b[90m[a2af1166] \u001b[39m\u001b[92m+ SortingAlgorithms v1.2.1\u001b[39m\n",
      "  \u001b[90m[276daf66] \u001b[39m\u001b[92m+ SpecialFunctions v2.4.0\u001b[39m\n",
      "  \u001b[90m[860ef19b] \u001b[39m\u001b[92m+ StableRNGs v1.0.2\u001b[39m\n",
      "  \u001b[90m[90137ffa] \u001b[39m\u001b[92m+ StaticArrays v1.9.7\u001b[39m\n",
      "  \u001b[90m[1e83bf80] \u001b[39m\u001b[92m+ StaticArraysCore v1.4.3\u001b[39m\n",
      "  \u001b[90m[10745b16] \u001b[39m\u001b[92m+ Statistics v1.11.1\u001b[39m\n",
      "  \u001b[90m[82ae8749] \u001b[39m\u001b[92m+ StatsAPI v1.7.0\u001b[39m\n",
      "  \u001b[90m[2913bbd2] \u001b[39m\u001b[92m+ StatsBase v0.34.3\u001b[39m\n",
      "  \u001b[90m[4c63d2b9] \u001b[39m\u001b[92m+ StatsFuns v1.3.2\u001b[39m\n",
      "  \u001b[90m[f3b207a7] \u001b[39m\u001b[92m+ StatsPlots v0.15.7\u001b[39m\n",
      "  \u001b[90m[892a3eda] \u001b[39m\u001b[92m+ StringManipulation v0.4.0\u001b[39m\n",
      "  \u001b[90m[ab02a1b2] \u001b[39m\u001b[92m+ TableOperations v1.2.0\u001b[39m\n",
      "  \u001b[90m[3783bdb8] \u001b[39m\u001b[92m+ TableTraits v1.0.1\u001b[39m\n",
      "  \u001b[90m[bd369af6] \u001b[39m\u001b[92m+ Tables v1.12.0\u001b[39m\n",
      "  \u001b[90m[62fd8b95] \u001b[39m\u001b[92m+ TensorCore v0.1.1\u001b[39m\n",
      "  \u001b[90m[a759f4b9] \u001b[39m\u001b[92m+ TimerOutputs v0.5.25\u001b[39m\n",
      "  \u001b[90m[3bb67fe8] \u001b[39m\u001b[92m+ TranscodingStreams v0.11.3\u001b[39m\n",
      "  \u001b[90m[5c2747f8] \u001b[39m\u001b[92m+ URIs v1.5.1\u001b[39m\n",
      "  \u001b[90m[3a884ed6] \u001b[39m\u001b[92m+ UnPack v1.0.2\u001b[39m\n",
      "  \u001b[90m[1cfade01] \u001b[39m\u001b[92m+ UnicodeFun v0.4.1\u001b[39m\n",
      "  \u001b[90m[1986cc42] \u001b[39m\u001b[92m+ Unitful v1.21.0\u001b[39m\n",
      "  \u001b[90m[45397f5d] \u001b[39m\u001b[92m+ UnitfulLatexify v1.6.4\u001b[39m\n",
      "  \u001b[90m[41fe7b60] \u001b[39m\u001b[92m+ Unzip v0.2.0\u001b[39m\n",
      "  \u001b[90m[4119e0bf] \u001b[39m\u001b[92m+ VLQuantitativeFinancePackage v1.0.0-DEV `https://github.com/varnerlab/VLQuantitativeFinancePackage.jl.git#main`\u001b[39m\n",
      "  \u001b[90m[ea10d353] \u001b[39m\u001b[92m+ WeakRefStrings v1.4.2\u001b[39m\n",
      "  \u001b[90m[cc8bc4a8] \u001b[39m\u001b[92m+ Widgets v0.6.6\u001b[39m\n",
      "  \u001b[90m[efce3f68] \u001b[39m\u001b[92m+ WoodburyMatrices v1.0.0\u001b[39m\n",
      "  \u001b[90m[76eceee3] \u001b[39m\u001b[92m+ WorkerUtilities v1.6.1\u001b[39m\n",
      "\u001b[33m⌅\u001b[39m \u001b[90m[68821587] \u001b[39m\u001b[92m+ Arpack_jll v3.5.1+1\u001b[39m\n",
      "  \u001b[90m[6e34b625] \u001b[39m\u001b[92m+ Bzip2_jll v1.0.8+2\u001b[39m\n",
      "  \u001b[90m[83423d85] \u001b[39m\u001b[92m+ Cairo_jll v1.18.2+1\u001b[39m\n",
      "  \u001b[90m[ee1fde0b] \u001b[39m\u001b[92m+ Dbus_jll v1.14.10+0\u001b[39m\n",
      "  \u001b[90m[2702e6a9] \u001b[39m\u001b[92m+ EpollShim_jll v0.0.20230411+0\u001b[39m\n",
      "  \u001b[90m[2e619515] \u001b[39m\u001b[92m+ Expat_jll v2.6.2+0\u001b[39m\n",
      "\u001b[33m⌅\u001b[39m \u001b[90m[b22a6f82] \u001b[39m\u001b[92m+ FFMPEG_jll v4.4.4+1\u001b[39m\n",
      "  \u001b[90m[f5851436] \u001b[39m\u001b[92m+ FFTW_jll v3.3.10+1\u001b[39m\n",
      "  \u001b[90m[a3f928ae] \u001b[39m\u001b[92m+ Fontconfig_jll v2.13.96+0\u001b[39m\n",
      "  \u001b[90m[d7e528f0] \u001b[39m\u001b[92m+ FreeType2_jll v2.13.2+0\u001b[39m\n",
      "  \u001b[90m[559328eb] \u001b[39m\u001b[92m+ FriBidi_jll v1.0.14+0\u001b[39m\n",
      "  \u001b[90m[0656b61e] \u001b[39m\u001b[92m+ GLFW_jll v3.4.0+1\u001b[39m\n",
      "  \u001b[90m[d2c73de3] \u001b[39m\u001b[92m+ GR_jll v0.73.8+0\u001b[39m\n",
      "  \u001b[90m[78b55507] \u001b[39m\u001b[92m+ Gettext_jll v0.21.0+0\u001b[39m\n",
      "  \u001b[90m[7746bdde] \u001b[39m\u001b[92m+ Glib_jll v2.80.5+0\u001b[39m\n",
      "  \u001b[90m[3b182d85] \u001b[39m\u001b[92m+ Graphite2_jll v1.3.14+0\u001b[39m\n",
      "  \u001b[90m[2e76f6c2] \u001b[39m\u001b[92m+ HarfBuzz_jll v8.3.1+0\u001b[39m\n",
      "  \u001b[90m[1d5cc7b8] \u001b[39m\u001b[92m+ IntelOpenMP_jll v2024.2.1+0\u001b[39m\n",
      "  \u001b[90m[aacddb02] \u001b[39m\u001b[92m+ JpegTurbo_jll v3.0.4+0\u001b[39m\n",
      "  \u001b[90m[c1c5ebd0] \u001b[39m\u001b[92m+ LAME_jll v3.100.2+0\u001b[39m\n",
      "  \u001b[90m[88015f11] \u001b[39m\u001b[92m+ LERC_jll v4.0.0+0\u001b[39m\n",
      "  \u001b[90m[1d63c593] \u001b[39m\u001b[92m+ LLVMOpenMP_jll v18.1.7+0\u001b[39m\n",
      "  \u001b[90m[dd4b983a] \u001b[39m\u001b[92m+ LZO_jll v2.10.2+1\u001b[39m\n",
      "\u001b[33m⌅\u001b[39m \u001b[90m[e9f186c6] \u001b[39m\u001b[92m+ Libffi_jll v3.2.2+1\u001b[39m\n",
      "  \u001b[90m[d4300ac3] \u001b[39m\u001b[92m+ Libgcrypt_jll v1.8.11+0\u001b[39m\n",
      "  \u001b[90m[7e76a0d4] \u001b[39m\u001b[92m+ Libglvnd_jll v1.6.0+0\u001b[39m\n",
      "  \u001b[90m[7add5ba3] \u001b[39m\u001b[92m+ Libgpg_error_jll v1.49.0+0\u001b[39m\n",
      "  \u001b[90m[94ce4f54] \u001b[39m\u001b[92m+ Libiconv_jll v1.17.0+0\u001b[39m\n",
      "  \u001b[90m[4b2f31a3] \u001b[39m\u001b[92m+ Libmount_jll v2.40.1+0\u001b[39m\n",
      "  \u001b[90m[89763e89] \u001b[39m\u001b[92m+ Libtiff_jll v4.7.0+0\u001b[39m\n",
      "  \u001b[90m[38a345b3] \u001b[39m\u001b[92m+ Libuuid_jll v2.40.1+0\u001b[39m\n",
      "  \u001b[90m[856f044c] \u001b[39m\u001b[92m+ MKL_jll v2024.2.0+0\u001b[39m\n",
      "  \u001b[90m[e7412a2a] \u001b[39m\u001b[92m+ Ogg_jll v1.3.5+1\u001b[39m\n",
      "  \u001b[90m[458c3c95] \u001b[39m\u001b[92m+ OpenSSL_jll v3.0.15+1\u001b[39m\n",
      "  \u001b[90m[efe28fd5] \u001b[39m\u001b[92m+ OpenSpecFun_jll v0.5.5+0\u001b[39m\n",
      "  \u001b[90m[91d4177d] \u001b[39m\u001b[92m+ Opus_jll v1.3.3+0\u001b[39m\n",
      "  \u001b[90m[36c8627f] \u001b[39m\u001b[92m+ Pango_jll v1.54.1+0\u001b[39m\n",
      "  \u001b[90m[30392449] \u001b[39m\u001b[92m+ Pixman_jll v0.43.4+0\u001b[39m\n",
      "  \u001b[90m[c0090381] \u001b[39m\u001b[92m+ Qt6Base_jll v6.7.1+1\u001b[39m\n",
      "  \u001b[90m[629bc702] \u001b[39m\u001b[92m+ Qt6Declarative_jll v6.7.1+2\u001b[39m\n",
      "  \u001b[90m[ce943373] \u001b[39m\u001b[92m+ Qt6ShaderTools_jll v6.7.1+1\u001b[39m\n",
      "  \u001b[90m[e99dba38] \u001b[39m\u001b[92m+ Qt6Wayland_jll v6.7.1+1\u001b[39m\n",
      "  \u001b[90m[f50d1b31] \u001b[39m\u001b[92m+ Rmath_jll v0.5.1+0\u001b[39m\n",
      "  \u001b[90m[a44049a8] \u001b[39m\u001b[92m+ Vulkan_Loader_jll v1.3.243+0\u001b[39m\n",
      "  \u001b[90m[a2964d1f] \u001b[39m\u001b[92m+ Wayland_jll v1.21.0+1\u001b[39m\n",
      "  \u001b[90m[2381bf8a] \u001b[39m\u001b[92m+ Wayland_protocols_jll v1.31.0+0\u001b[39m\n",
      "  \u001b[90m[02c8fc9c] \u001b[39m\u001b[92m+ XML2_jll v2.13.3+0\u001b[39m\n",
      "  \u001b[90m[aed1982a] \u001b[39m\u001b[92m+ XSLT_jll v1.1.41+0\u001b[39m\n",
      "  \u001b[90m[ffd25f8a] \u001b[39m\u001b[92m+ XZ_jll v5.4.6+0\u001b[39m\n",
      "  \u001b[90m[f67eecfb] \u001b[39m\u001b[92m+ Xorg_libICE_jll v1.1.1+0\u001b[39m\n",
      "  \u001b[90m[c834827a] \u001b[39m\u001b[92m+ Xorg_libSM_jll v1.2.4+0\u001b[39m\n",
      "  \u001b[90m[4f6342f7] \u001b[39m\u001b[92m+ Xorg_libX11_jll v1.8.6+0\u001b[39m\n",
      "  \u001b[90m[0c0b7dd1] \u001b[39m\u001b[92m+ Xorg_libXau_jll v1.0.11+0\u001b[39m\n",
      "  \u001b[90m[935fb764] \u001b[39m\u001b[92m+ Xorg_libXcursor_jll v1.2.0+4\u001b[39m\n",
      "  \u001b[90m[a3789734] \u001b[39m\u001b[92m+ Xorg_libXdmcp_jll v1.1.4+0\u001b[39m\n",
      "  \u001b[90m[1082639a] \u001b[39m\u001b[92m+ Xorg_libXext_jll v1.3.6+0\u001b[39m\n",
      "  \u001b[90m[d091e8ba] \u001b[39m\u001b[92m+ Xorg_libXfixes_jll v5.0.3+4\u001b[39m\n",
      "  \u001b[90m[a51aa0fd] \u001b[39m\u001b[92m+ Xorg_libXi_jll v1.7.10+4\u001b[39m\n",
      "  \u001b[90m[d1454406] \u001b[39m\u001b[92m+ Xorg_libXinerama_jll v1.1.4+4\u001b[39m\n",
      "  \u001b[90m[ec84b674] \u001b[39m\u001b[92m+ Xorg_libXrandr_jll v1.5.2+4\u001b[39m\n",
      "  \u001b[90m[ea2f1a96] \u001b[39m\u001b[92m+ Xorg_libXrender_jll v0.9.11+0\u001b[39m\n",
      "  \u001b[90m[14d82f49] \u001b[39m\u001b[92m+ Xorg_libpthread_stubs_jll v0.1.1+0\u001b[39m\n",
      "  \u001b[90m[c7cfdc94] \u001b[39m\u001b[92m+ Xorg_libxcb_jll v1.17.0+0\u001b[39m\n",
      "  \u001b[90m[cc61e674] \u001b[39m\u001b[92m+ Xorg_libxkbfile_jll v1.1.2+0\u001b[39m\n",
      "  \u001b[90m[e920d4aa] \u001b[39m\u001b[92m+ Xorg_xcb_util_cursor_jll v0.1.4+0\u001b[39m\n",
      "  \u001b[90m[12413925] \u001b[39m\u001b[92m+ Xorg_xcb_util_image_jll v0.4.0+1\u001b[39m\n",
      "  \u001b[90m[2def613f] \u001b[39m\u001b[92m+ Xorg_xcb_util_jll v0.4.0+1\u001b[39m\n",
      "  \u001b[90m[975044d2] \u001b[39m\u001b[92m+ Xorg_xcb_util_keysyms_jll v0.4.0+1\u001b[39m\n",
      "  \u001b[90m[0d47668e] \u001b[39m\u001b[92m+ Xorg_xcb_util_renderutil_jll v0.3.9+1\u001b[39m\n",
      "  \u001b[90m[c22f9ab0] \u001b[39m\u001b[92m+ Xorg_xcb_util_wm_jll v0.4.1+1\u001b[39m\n",
      "  \u001b[90m[35661453] \u001b[39m\u001b[92m+ Xorg_xkbcomp_jll v1.4.6+0\u001b[39m\n",
      "  \u001b[90m[33bec58e] \u001b[39m\u001b[92m+ Xorg_xkeyboard_config_jll v2.39.0+0\u001b[39m\n",
      "  \u001b[90m[c5fb5394] \u001b[39m\u001b[92m+ Xorg_xtrans_jll v1.5.0+0\u001b[39m\n",
      "  \u001b[90m[3161d3a3] \u001b[39m\u001b[92m+ Zstd_jll v1.5.6+1\u001b[39m\n",
      "  \u001b[90m[35ca27e7] \u001b[39m\u001b[92m+ eudev_jll v3.2.9+0\u001b[39m\n",
      "  \u001b[90m[214eeab7] \u001b[39m\u001b[92m+ fzf_jll v0.53.0+0\u001b[39m\n",
      "  \u001b[90m[1a1c6b14] \u001b[39m\u001b[92m+ gperf_jll v3.1.1+0\u001b[39m\n",
      "  \u001b[90m[a4ae2306] \u001b[39m\u001b[92m+ libaom_jll v3.9.0+0\u001b[39m\n",
      "  \u001b[90m[0ac62f75] \u001b[39m\u001b[92m+ libass_jll v0.15.2+0\u001b[39m\n",
      "  \u001b[90m[1183f4f0] \u001b[39m\u001b[92m+ libdecor_jll v0.2.2+0\u001b[39m\n",
      "  \u001b[90m[2db6ffa8] \u001b[39m\u001b[92m+ libevdev_jll v1.11.0+0\u001b[39m\n",
      "  \u001b[90m[f638f0a6] \u001b[39m\u001b[92m+ libfdk_aac_jll v2.0.3+0\u001b[39m\n",
      "  \u001b[90m[36db933b] \u001b[39m\u001b[92m+ libinput_jll v1.18.0+0\u001b[39m\n",
      "  \u001b[90m[b53b4c65] \u001b[39m\u001b[92m+ libpng_jll v1.6.44+0\u001b[39m\n",
      "  \u001b[90m[f27f6e37] \u001b[39m\u001b[92m+ libvorbis_jll v1.3.7+2\u001b[39m\n",
      "  \u001b[90m[009596ad] \u001b[39m\u001b[92m+ mtdev_jll v1.1.6+0\u001b[39m\n",
      "  \u001b[90m[1317d2d5] \u001b[39m\u001b[92m+ oneTBB_jll v2021.12.0+0\u001b[39m\n",
      "\u001b[33m⌅\u001b[39m \u001b[90m[1270edf5] \u001b[39m\u001b[92m+ x264_jll v2021.5.5+0\u001b[39m\n",
      "\u001b[33m⌅\u001b[39m \u001b[90m[dfaa095f] \u001b[39m\u001b[92m+ x265_jll v3.5.0+0\u001b[39m\n",
      "  \u001b[90m[d8fb68d0] \u001b[39m\u001b[92m+ xkbcommon_jll v1.4.1+1\u001b[39m\n",
      "  \u001b[90m[0dad84c5] \u001b[39m\u001b[92m+ ArgTools v1.1.2\u001b[39m\n",
      "  \u001b[90m[56f22d72] \u001b[39m\u001b[92m+ Artifacts v1.11.0\u001b[39m\n",
      "  \u001b[90m[2a0f44e3] \u001b[39m\u001b[92m+ Base64 v1.11.0\u001b[39m\n",
      "  \u001b[90m[ade2ca70] \u001b[39m\u001b[92m+ Dates v1.11.0\u001b[39m\n",
      "  \u001b[90m[8ba89e20] \u001b[39m\u001b[92m+ Distributed v1.11.0\u001b[39m\n",
      "  \u001b[90m[f43a241f] \u001b[39m\u001b[92m+ Downloads v1.6.0\u001b[39m\n",
      "  \u001b[90m[7b1f6079] \u001b[39m\u001b[92m+ FileWatching v1.11.0\u001b[39m\n",
      "  \u001b[90m[9fa8497b] \u001b[39m\u001b[92m+ Future v1.11.0\u001b[39m\n",
      "  \u001b[90m[b77e0a4c] \u001b[39m\u001b[92m+ InteractiveUtils v1.11.0\u001b[39m\n",
      "  \u001b[90m[4af54fe1] \u001b[39m\u001b[92m+ LazyArtifacts v1.11.0\u001b[39m\n",
      "  \u001b[90m[b27032c2] \u001b[39m\u001b[92m+ LibCURL v0.6.4\u001b[39m\n",
      "  \u001b[90m[76f85450] \u001b[39m\u001b[92m+ LibGit2 v1.11.0\u001b[39m\n",
      "  \u001b[90m[8f399da3] \u001b[39m\u001b[92m+ Libdl v1.11.0\u001b[39m\n",
      "  \u001b[90m[37e2e46d] \u001b[39m\u001b[92m+ LinearAlgebra v1.11.0\u001b[39m\n",
      "  \u001b[90m[56ddb016] \u001b[39m\u001b[92m+ Logging v1.11.0\u001b[39m\n",
      "  \u001b[90m[d6f4376e] \u001b[39m\u001b[92m+ Markdown v1.11.0\u001b[39m\n",
      "  \u001b[90m[a63ad114] \u001b[39m\u001b[92m+ Mmap v1.11.0\u001b[39m\n",
      "  \u001b[90m[ca575930] \u001b[39m\u001b[92m+ NetworkOptions v1.2.0\u001b[39m\n",
      "  \u001b[90m[44cfe95a] \u001b[39m\u001b[92m+ Pkg v1.11.0\u001b[39m\n",
      "  \u001b[90m[de0858da] \u001b[39m\u001b[92m+ Printf v1.11.0\u001b[39m\n",
      "  \u001b[90m[9abbd945] \u001b[39m\u001b[92m+ Profile v1.11.0\u001b[39m\n",
      "  \u001b[90m[3fa0cd96] \u001b[39m\u001b[92m+ REPL v1.11.0\u001b[39m\n",
      "  \u001b[90m[9a3f8284] \u001b[39m\u001b[92m+ Random v1.11.0\u001b[39m\n",
      "  \u001b[90m[ea8e919c] \u001b[39m\u001b[92m+ SHA v0.7.0\u001b[39m\n",
      "  \u001b[90m[9e88b42a] \u001b[39m\u001b[92m+ Serialization v1.11.0\u001b[39m\n",
      "  \u001b[90m[1a1011a3] \u001b[39m\u001b[92m+ SharedArrays v1.11.0\u001b[39m\n",
      "  \u001b[90m[6462fe0b] \u001b[39m\u001b[92m+ Sockets v1.11.0\u001b[39m\n",
      "  \u001b[90m[2f01184e] \u001b[39m\u001b[92m+ SparseArrays v1.11.0\u001b[39m\n",
      "  \u001b[90m[f489334b] \u001b[39m\u001b[92m+ StyledStrings v1.11.0\u001b[39m\n",
      "  \u001b[90m[4607b0f0] \u001b[39m\u001b[92m+ SuiteSparse\u001b[39m\n",
      "  \u001b[90m[fa267f1f] \u001b[39m\u001b[92m+ TOML v1.0.3\u001b[39m\n",
      "  \u001b[90m[a4e569a6] \u001b[39m\u001b[92m+ Tar v1.10.0\u001b[39m\n",
      "  \u001b[90m[8dfed614] \u001b[39m\u001b[92m+ Test v1.11.0\u001b[39m\n",
      "  \u001b[90m[cf7118a7] \u001b[39m\u001b[92m+ UUIDs v1.11.0\u001b[39m\n",
      "  \u001b[90m[4ec0a83e] \u001b[39m\u001b[92m+ Unicode v1.11.0\u001b[39m\n",
      "  \u001b[90m[e66e0078] \u001b[39m\u001b[92m+ CompilerSupportLibraries_jll v1.1.1+0\u001b[39m\n",
      "  \u001b[90m[deac9b47] \u001b[39m\u001b[92m+ LibCURL_jll v8.6.0+0\u001b[39m\n",
      "  \u001b[90m[e37daf67] \u001b[39m\u001b[92m+ LibGit2_jll v1.7.2+0\u001b[39m\n",
      "  \u001b[90m[29816b5a] \u001b[39m\u001b[92m+ LibSSH2_jll v1.11.0+1\u001b[39m\n",
      "  \u001b[90m[c8ffd9c3] \u001b[39m\u001b[92m+ MbedTLS_jll v2.28.6+0\u001b[39m\n",
      "  \u001b[90m[14a3606d] \u001b[39m\u001b[92m+ MozillaCACerts_jll v2023.12.12\u001b[39m\n",
      "  \u001b[90m[4536629a] \u001b[39m\u001b[92m+ OpenBLAS_jll v0.3.27+1\u001b[39m\n",
      "  \u001b[90m[05823500] \u001b[39m\u001b[92m+ OpenLibm_jll v0.8.1+2\u001b[39m\n",
      "  \u001b[90m[efcefdf7] \u001b[39m\u001b[92m+ PCRE2_jll v10.42.0+1\u001b[39m\n",
      "  \u001b[90m[bea87d4a] \u001b[39m\u001b[92m+ SuiteSparse_jll v7.7.0+0\u001b[39m\n",
      "  \u001b[90m[83775a58] \u001b[39m\u001b[92m+ Zlib_jll v1.2.13+1\u001b[39m\n",
      "  \u001b[90m[8e850b90] \u001b[39m\u001b[92m+ libblastrampoline_jll v5.11.0+0\u001b[39m\n",
      "  \u001b[90m[8e850ede] \u001b[39m\u001b[92m+ nghttp2_jll v1.59.0+0\u001b[39m\n",
      "  \u001b[90m[3f19e933] \u001b[39m\u001b[92m+ p7zip_jll v17.4.0+2\u001b[39m\n",
      "\u001b[36m\u001b[1m        Info\u001b[22m\u001b[39m Packages marked with \u001b[32m⌃\u001b[39m and \u001b[33m⌅\u001b[39m have new versions available. Those with \u001b[32m⌃\u001b[39m may be upgradable, but those with \u001b[33m⌅\u001b[39m are restricted by compatibility constraints from upgrading. To see why use `status --outdated -m`\n",
      "\u001b[92m\u001b[1mPrecompiling\u001b[22m\u001b[39m project...\n",
      "    599.2 ms\u001b[32m  ✓ \u001b[39m\u001b[90mPango_jll\u001b[39m\n",
      "    549.5 ms\u001b[32m  ✓ \u001b[39m\u001b[90mQt6ShaderTools_jll\u001b[39m\n",
      "   1285.2 ms\u001b[32m  ✓ \u001b[39m\u001b[90mQt6Declarative_jll\u001b[39m\n",
      "   2148.2 ms\u001b[32m  ✓ \u001b[39mPlots → UnitfulExt\n",
      "   2167.3 ms\u001b[32m  ✓ \u001b[39mPlots → FileIOExt\n",
      "   7140.2 ms\u001b[32m  ✓ \u001b[39mCSV\n",
      "   3866.6 ms\u001b[32m  ✓ \u001b[39mStatsPlots\n",
      "   3738.4 ms\u001b[32m  ✓ \u001b[39mVLQuantitativeFinancePackage\n",
      "  8 dependencies successfully precompiled in 12 seconds. 301 already precompiled.\n",
      "\u001b[32m\u001b[1m  Activating\u001b[22m\u001b[39m project at `~/Desktop/julia_work/CHEME-130-eCornell-Repository/courses/CHEME-135/module-1`\n",
      "\u001b[32m\u001b[1m  No Changes\u001b[22m\u001b[39m to `~/Desktop/julia_work/CHEME-130-eCornell-Repository/courses/CHEME-135/module-1/Project.toml`\n",
      "\u001b[32m\u001b[1m  No Changes\u001b[22m\u001b[39m to `~/Desktop/julia_work/CHEME-130-eCornell-Repository/courses/CHEME-135/module-1/Manifest.toml`\n",
      "\u001b[32m\u001b[1m    Updating\u001b[22m\u001b[39m registry at `~/.julia/registries/General.toml`\n",
      "\u001b[32m\u001b[1m    Updating\u001b[22m\u001b[39m git-repo `https://github.com/varnerlab/VLQuantitativeFinancePackage.jl.git`\n",
      "\u001b[32m\u001b[1m  No Changes\u001b[22m\u001b[39m to `~/Desktop/julia_work/CHEME-130-eCornell-Repository/courses/CHEME-135/module-1/Project.toml`\n",
      "\u001b[32m\u001b[1m  No Changes\u001b[22m\u001b[39m to `~/Desktop/julia_work/CHEME-130-eCornell-Repository/courses/CHEME-135/module-1/Manifest.toml`\n",
      "\u001b[36m\u001b[1m[ \u001b[22m\u001b[39m\u001b[36m\u001b[1mInfo: \u001b[22m\u001b[39mPrecompiling VLQuantitativeFinancePackage [4119e0bf-20d0-4785-913e-5ebdb0caa218] (cache misses: wrong dep version loaded (4), invalid header (6))\n",
      "\u001b[36m\u001b[1m[ \u001b[22m\u001b[39m\u001b[36m\u001b[1mInfo: \u001b[22m\u001b[39mPrecompiling Plots [91a5bcdd-55d7-5caf-9e0b-520d859cae80] (cache misses: wrong dep version loaded (6), invalid header (8))\n",
      "\u001b[36m\u001b[1m[ \u001b[22m\u001b[39m\u001b[36m\u001b[1mInfo: \u001b[22m\u001b[39mPrecompiling FileIOExt [f5f51d8f-5827-5d2e-939b-192fcd6ec70c] (cache misses: wrong dep version loaded (6), invalid header (10))\n",
      "\u001b[36m\u001b[1m[ \u001b[22m\u001b[39m\u001b[36m\u001b[1mInfo: \u001b[22m\u001b[39mPrecompiling IJuliaExt [2f4121a4-3b3a-5ce6-9c5e-1f2673ce168a] (cache misses: wrong dep version loaded (6), invalid header (10))\n",
      "\u001b[36m\u001b[1m[ \u001b[22m\u001b[39m\u001b[36m\u001b[1mInfo: \u001b[22m\u001b[39mPrecompiling StatsPlots [f3b207a7-027a-5e70-b257-86293d7955fd] (cache misses: wrong dep version loaded (4), invalid header (6))\n"
     ]
    }
   ],
   "source": [
    "include(\"Include.jl\");"
   ]
  },
  {
   "cell_type": "markdown",
   "id": "b2184784-cb73-4208-9932-a6dc2debefeb",
   "metadata": {},
   "source": [
    "## Prerequisites: Load and clean the testing dataset\n",
    "We gathered a daily open-high-low-close `dataset` for each firm in the [S&P500](https://en.wikipedia.org/wiki/S%26P_500) from `01-03-2024` until `09-23-24` close, along with data for a few exchange-traded funds and volatility products during that time. We load the `prediction_dataset` by calling the `MyOutOfSampleMarketDataSet()` function:"
   ]
  },
  {
   "cell_type": "code",
   "execution_count": 5,
   "id": "029df8b5-89b1-46ca-a375-10af5a384f23",
   "metadata": {},
   "outputs": [
    {
     "data": {
      "text/plain": [
       "Dict{String, DataFrame} with 488 entries:\n",
       "  \"NI\"   => \u001b[1m182×8 DataFrame\u001b[0m\u001b[0m…\n",
       "  \"EMR\"  => \u001b[1m182×8 DataFrame\u001b[0m\u001b[0m…\n",
       "  \"CTAS\" => \u001b[1m182×8 DataFrame\u001b[0m\u001b[0m…\n",
       "  \"HSIC\" => \u001b[1m182×8 DataFrame\u001b[0m\u001b[0m…\n",
       "  \"KIM\"  => \u001b[1m182×8 DataFrame\u001b[0m\u001b[0m…\n",
       "  \"PLD\"  => \u001b[1m182×8 DataFrame\u001b[0m\u001b[0m…\n",
       "  \"IEX\"  => \u001b[1m182×8 DataFrame\u001b[0m\u001b[0m…\n",
       "  \"BAC\"  => \u001b[1m182×8 DataFrame\u001b[0m\u001b[0m…\n",
       "  \"CBOE\" => \u001b[1m182×8 DataFrame\u001b[0m\u001b[0m…\n",
       "  \"EXR\"  => \u001b[1m182×8 DataFrame\u001b[0m\u001b[0m…\n",
       "  \"NCLH\" => \u001b[1m182×8 DataFrame\u001b[0m\u001b[0m…\n",
       "  \"CVS\"  => \u001b[1m182×8 DataFrame\u001b[0m\u001b[0m…\n",
       "  \"DRI\"  => \u001b[1m182×8 DataFrame\u001b[0m\u001b[0m…\n",
       "  \"DTE\"  => \u001b[1m182×8 DataFrame\u001b[0m\u001b[0m…\n",
       "  \"ZION\" => \u001b[1m182×8 DataFrame\u001b[0m\u001b[0m…\n",
       "  \"AVY\"  => \u001b[1m182×8 DataFrame\u001b[0m\u001b[0m…\n",
       "  \"EW\"   => \u001b[1m182×8 DataFrame\u001b[0m\u001b[0m…\n",
       "  \"EA\"   => \u001b[1m182×8 DataFrame\u001b[0m\u001b[0m…\n",
       "  \"NWSA\" => \u001b[1m182×8 DataFrame\u001b[0m\u001b[0m…\n",
       "  \"BBWI\" => \u001b[1m182×8 DataFrame\u001b[0m\u001b[0m…\n",
       "  \"CAG\"  => \u001b[1m182×8 DataFrame\u001b[0m\u001b[0m…\n",
       "  \"GPC\"  => \u001b[1m182×8 DataFrame\u001b[0m\u001b[0m…\n",
       "  \"FCX\"  => \u001b[1m182×8 DataFrame\u001b[0m\u001b[0m…\n",
       "  \"GILD\" => \u001b[1m182×8 DataFrame\u001b[0m\u001b[0m…\n",
       "  \"UNP\"  => \u001b[1m182×8 DataFrame\u001b[0m\u001b[0m…\n",
       "  ⋮      => ⋮"
      ]
     },
     "execution_count": 5,
     "metadata": {},
     "output_type": "execute_result"
    }
   ],
   "source": [
    "out_of_sample_dataset = MyOutOfSampleMarketDataSet() |> x-> x[\"dataset\"]"
   ]
  },
  {
   "cell_type": "markdown",
   "id": "db444b0f-5c4c-4660-bc39-94dc57c8f9d9",
   "metadata": {},
   "source": [
    "Now, let's get the number of trading days of data that we have to experiment with. "
   ]
  },
  {
   "cell_type": "code",
   "execution_count": 7,
   "id": "580281d9-ca18-4ac5-bf3b-65b7706ccc36",
   "metadata": {},
   "outputs": [],
   "source": [
    "number_of_trading_days = out_of_sample_dataset[\"AAPL\"] |> nrow; # max number of days, you can reset for shorter durations"
   ]
  },
  {
   "cell_type": "markdown",
   "id": "3547e481-a875-45cf-80f7-62979874db57",
   "metadata": {},
   "source": [
    "### Load single index models and compute the covariance\n",
    "Previously, we estimated the parameters and residual distributions for each `ticker` using data from `2018` to `2023` and saved these models to a [JLD2.jl file](https://github.com/JuliaIO/JLD2.jl). Load this file using the [load(...) function](https://juliaio.github.io/JLD2.jl/stable/#save-and-load-functions). \n",
    "* Store the model collection in the `sim_model_dictionary` variable, where the keys of the dictionary are the ticker symbols and the values are the parameterized [MySingleIndexModel instances](https://varnerlab.github.io/VLQuantitativeFinancePackage.jl/dev/portfolio/#VLQuantitativeFinancePackage.MySingleIndexModel) estimated previously."
   ]
  },
  {
   "cell_type": "code",
   "execution_count": 9,
   "id": "2ac3e881-c34e-45dd-99b6-a8f593dfd058",
   "metadata": {},
   "outputs": [
    {
     "data": {
      "text/plain": [
       "Dict{String, MySingleIndexModel} with 460 entries:\n",
       "  \"NI\"   => MySingleIndexModel(-0.0671224, 0.652999, 0.0389, Normal{Float64}(μ=…\n",
       "  \"EMR\"  => MySingleIndexModel(-0.0549877, 1.23526, 0.0389, Normal{Float64}(μ=-…\n",
       "  \"CTAS\" => MySingleIndexModel(0.119417, 1.17936, 0.0389, Normal{Float64}(μ=-6.…\n",
       "  \"HSIC\" => MySingleIndexModel(-0.0811194, 0.913675, 0.0389, Normal{Float64}(μ=…\n",
       "  \"KIM\"  => MySingleIndexModel(-0.0818621, 1.28859, 0.0389, Normal{Float64}(μ=-…\n",
       "  \"PLD\"  => MySingleIndexModel(0.0273092, 1.02836, 0.0389, Normal{Float64}(μ=1.…\n",
       "  \"IEX\"  => MySingleIndexModel(-0.00940007, 0.963259, 0.0389, Normal{Float64}(μ…\n",
       "  \"BAC\"  => MySingleIndexModel(-0.0922207, 1.32778, 0.0389, Normal{Float64}(μ=-…\n",
       "  \"CBOE\" => MySingleIndexModel(-0.00982405, 0.588498, 0.0389, Normal{Float64}(μ…\n",
       "  \"EXR\"  => MySingleIndexModel(0.0252878, 0.725388, 0.0389, Normal{Float64}(μ=3…\n",
       "  \"NCLH\" => MySingleIndexModel(-0.336719, 2.32891, 0.0389, Normal{Float64}(μ=1.…\n",
       "  \"CVS\"  => MySingleIndexModel(-0.0703279, 0.78292, 0.0389, Normal{Float64}(μ=-…\n",
       "  \"DRI\"  => MySingleIndexModel(-0.0286856, 1.36306, 0.0389, Normal{Float64}(μ=8…\n",
       "  \"DTE\"  => MySingleIndexModel(-0.0784382, 0.769165, 0.0389, Normal{Float64}(μ=…\n",
       "  \"ZION\" => MySingleIndexModel(-0.138024, 1.36377, 0.0389, Normal{Float64}(μ=9.…\n",
       "  \"AVY\"  => MySingleIndexModel(-0.0102924, 1.16058, 0.0389, Normal{Float64}(μ=-…\n",
       "  \"EW\"   => MySingleIndexModel(0.0158413, 1.11274, 0.0389, Normal{Float64}(μ=-1…\n",
       "  \"EA\"   => MySingleIndexModel(-0.0374669, 0.629636, 0.0389, Normal{Float64}(μ=…\n",
       "  \"NWSA\" => MySingleIndexModel(-0.0347286, 1.12238, 0.0389, Normal{Float64}(μ=1…\n",
       "  \"CAG\"  => MySingleIndexModel(-0.10775, 0.437623, 0.0389, Normal{Float64}(μ=-7…\n",
       "  \"GILD\" => MySingleIndexModel(-0.0535678, 0.516018, 0.0389, Normal{Float64}(μ=…\n",
       "  \"FCX\"  => MySingleIndexModel(-0.00807345, 1.80621, 0.0389, Normal{Float64}(μ=…\n",
       "  \"GPC\"  => MySingleIndexModel(-0.0389315, 1.06584, 0.0389, Normal{Float64}(μ=3…\n",
       "  \"UNP\"  => MySingleIndexModel(0.00241017, 1.03174, 0.0389, Normal{Float64}(μ=4…\n",
       "  \"CDW\"  => MySingleIndexModel(0.0876354, 1.21706, 0.0389, Normal{Float64}(μ=1.…\n",
       "  ⋮      => ⋮"
      ]
     },
     "execution_count": 9,
     "metadata": {},
     "output_type": "execute_result"
    }
   ],
   "source": [
    "sim_model_dictionary = load(joinpath(_PATH_TO_DATA, \"SIMs-SP500-01-03-18-to-12-29-23.jld2\")) |> x->x[\"sim\"]"
   ]
  },
  {
   "cell_type": "markdown",
   "id": "309dec27-7a0c-4cc9-982e-75e73e1929a1",
   "metadata": {},
   "source": [
    "Next, let's build a sorted list of firms that we have in cleaned up `sim_model_dictionary::Dict{String, MySingleIndexModel}` and save it in the `list_of_all_tickers::Array{String,1}` array:"
   ]
  },
  {
   "cell_type": "code",
   "execution_count": 11,
   "id": "34b98337-2f0d-4e29-93ea-1577d247e772",
   "metadata": {},
   "outputs": [],
   "source": [
    "list_of_all_tickers = keys(sim_model_dictionary) |> collect |> sort;"
   ]
  },
  {
   "cell_type": "markdown",
   "id": "b1d90861-3924-47d6-ba80-82763990584d",
   "metadata": {},
   "source": [
    "### Constants\n",
    "Set constants that we'll use later. Please see the comment next to the constant value for a description of the constant, permissible values, etc."
   ]
  },
  {
   "cell_type": "code",
   "execution_count": 13,
   "id": "cb7be7a7-abc6-4ae0-a437-1257ef9104de",
   "metadata": {},
   "outputs": [],
   "source": [
    "σₘ = 0.1621; # implied volatility for SPY\n",
    "μₘ = 0.10; # assumed expected return for SPY\n",
    "risk_free_rate = 0.0389; # hypothetical continuous compounded risk-free rate (units: 1/year)\n",
    "Δt = (1.0/252.0); # time step for 1-trading day (units: 1/year)\n",
    "my_total_budget = 1000.0; # investment budget\n",
    "ϵ = 0.05; # risk tolerance\n",
    "startdate = Date(2024,01,03); # We will start our portfolio at the close of this day"
   ]
  },
  {
   "cell_type": "markdown",
   "id": "e78b3586-cf4b-4d29-b942-0989edbbec09",
   "metadata": {},
   "source": [
    "### Alternative investment\n",
    "In this study, we'll use `SPY` as a hypothetical alternative investment, i.e., we'll invest our budget $\\mathcal{B}$ in in `SPY` instead of our portfolio $\\mathcal{P}$. Toward this, let's compute the number of shares of `SPY` to purchase, which we store in the `n_spy::Float64` variable, and capture the close price of `SPY` in the `S_spy::Array{Float64,1}` array."
   ]
  },
  {
   "cell_type": "code",
   "execution_count": 15,
   "id": "46cb27cf-fa7a-4053-8657-168477d580e4",
   "metadata": {},
   "outputs": [],
   "source": [
    "(n_spy, S_spy) = let\n",
    "    price_df = out_of_sample_dataset[\"SPY\"];\n",
    "    startprice = filter(:timestamp => x-> x >= startdate, price_df) |> x-> x[1,:close]\n",
    "    nᵢ = (my_total_budget)/startprice;\n",
    "    S = price_df[:,:close];\n",
    "    nᵢ,S\n",
    "end;"
   ]
  },
  {
   "cell_type": "markdown",
   "id": "b76ba527-52b4-493f-b293-512629465591",
   "metadata": {},
   "source": [
    "## Task 1: Simulate Equally Weighted Portfolio Allocation without Reallocation\n",
    "In this task, we'll select the tickers in our portfolio $\\mathcal{P}$, then simulate an (initially) equally weighted portfolio using an out-of-sample dataset. Like the minimum-variance approach, the equally weighted approach will suffer from portfolio drift without reallocation. We begin by computing the number of shares of each asset in our portfolio; then, we run the simulation using the out-of-sample dataset.\n",
    "\n",
    "Let's specify a list of `N::Int64` tickers in the `my_list_of_tickers::Array{String,1}` array to get started. The tickers we select must be in the `sim_model_dictionary::Dict{String, MySingleIndexModel}` dictionary:"
   ]
  },
  {
   "cell_type": "code",
   "execution_count": 17,
   "id": "4e5a8869-5049-488a-bf26-62cf615617dc",
   "metadata": {},
   "outputs": [],
   "source": [
    "my_list_of_tickers = [\"AAPL\", \"MSFT\", \"MU\", \"AMD\", \"NVDA\", \"JNJ\", \"PG\", \"MRK\", \"PFE\", \"GS\", \"WFC\", \"JPM\", \"QQQ\"]; # my list of assets\n",
    "N = length(my_list_of_tickers); # number of assets in the portfolio "
   ]
  },
  {
   "cell_type": "markdown",
   "id": "c4b8a08d-1538-4027-b9fb-c7a3bcb31646",
   "metadata": {},
   "source": [
    "### Lookup the initial share prices\n",
    "Next, get the share price at the close of the market on `startdate::Date` for each asset in the portfolio. We'll store these values in the `Sₒ::Array{Float64,1}` array (and use them to calculate our initial allocation):"
   ]
  },
  {
   "cell_type": "code",
   "execution_count": 19,
   "id": "b4990213-b31a-4600-a2bf-fd03ec5aa9d0",
   "metadata": {},
   "outputs": [],
   "source": [
    "Sₒ = let\n",
    "    Sₒ = Array{Float64,1}()\n",
    "    for ticker ∈ my_list_of_tickers\n",
    "        price_df = out_of_sample_dataset[ticker];\n",
    "        startprice = filter(:timestamp => x-> x >= startdate, price_df) |> x-> x[1,:close]\n",
    "        push!(Sₒ,startprice)\n",
    "    end\n",
    "    Sₒ;\n",
    "end;"
   ]
  },
  {
   "cell_type": "markdown",
   "id": "359f2c14-00a6-4099-b59f-8d1802432398",
   "metadata": {},
   "source": [
    "`Unhide` the code block below to see how we make a table that shows the initial share prices (at market close) for each `ticker` $\\in$ `my_list_of_tickers` on the first day of hypothetical trading specified by `startdate::Date`"
   ]
  },
  {
   "cell_type": "code",
   "execution_count": 21,
   "id": "5c6fb812-dac4-41a4-9659-44c458dfafb5",
   "metadata": {},
   "outputs": [
    {
     "name": "stdout",
     "output_type": "stream",
     "text": [
      "============= ======== ======================\n",
      " \u001b[1m       date \u001b[0m \u001b[1m ticker \u001b[0m \u001b[1m initial_share_price \u001b[0m\n",
      " \u001b[90m       Date \u001b[0m \u001b[90m String \u001b[0m \u001b[90m             Float64 \u001b[0m\n",
      "============= ======== ======================\n",
      "  2024-01-03     AAPL                184.25\n",
      "  2024-01-03     MSFT                 370.6\n",
      "  2024-01-03       MU                 82.26\n",
      "  2024-01-03      AMD                135.32\n",
      "  2024-01-03     NVDA                47.569\n",
      "  2024-01-03      JNJ                160.97\n",
      "  2024-01-03       PG                147.84\n",
      "  2024-01-03      MRK                114.77\n",
      "  2024-01-03      PFE                 29.73\n",
      "  2024-01-03       GS                381.79\n",
      "  2024-01-03      WFC                 48.68\n",
      "  2024-01-03      JPM                171.33\n",
      "  2024-01-03      QQQ                398.33\n",
      "============= ======== ======================\n"
     ]
    }
   ],
   "source": [
    "let\n",
    "    df = DataFrame()\n",
    "    for ticker ∈ my_list_of_tickers\n",
    "        price_df = out_of_sample_dataset[ticker];\n",
    "        startprice = filter(:timestamp => x-> x >= startdate, price_df) |> x-> x[1,:close]\n",
    "        row_df = (\n",
    "            date = startdate,\n",
    "            ticker = ticker,\n",
    "            initial_share_price = startprice\n",
    "        );\n",
    "        push!(df, row_df);\n",
    "    end\n",
    "    pretty_table(df, tf=tf_simple)\n",
    "end"
   ]
  },
  {
   "cell_type": "markdown",
   "id": "51245771-0e2b-4332-b3c7-f708ff20eb60",
   "metadata": {},
   "source": [
    "### Compute the initial number of shares\n",
    "Now that we have the initial prices, we can compute the number of shares of each asset that corresponds to the desired allocation and store these values in the `Nₒ::Array{Float64,1}` variable (in this case, we allow for fractional shares). The initial number of shares is given by:\n",
    "$$\n",
    "n_{a} = \\frac{\\mathcal{B}\\cdot\\omega_{a}}{S_{\\circ,a}}\\quad\\forall{a}\\in\\mathcal{P}\n",
    "$$\n",
    "where $\\mathcal{B}$ is the inital investment budget, $S_{\\circ,a}$ is the initial share price for asset $a$, and $\\omega_{a}$ denotes the allocation fraction for asset $a$. In this case, we have an equal partition, so $\\omega_{a} = 1/N$ where $N$ is the number of assets in the portfolio. "
   ]
  },
  {
   "cell_type": "code",
   "execution_count": 23,
   "id": "65f13dbb-35d7-463d-9400-bd8be55e3eec",
   "metadata": {},
   "outputs": [],
   "source": [
    "Nₒ = let\n",
    "    Nₒ = Array{Float64,1}()\n",
    "    for i ∈ eachindex(my_list_of_tickers)\n",
    "        \n",
    "        wᵢ = 1/N; # equal weight allocation\n",
    "        nᵢ = (wᵢ*my_total_budget)/Sₒ[i];\n",
    "        push!(Nₒ,nᵢ)\n",
    "    end\n",
    "    Nₒ\n",
    "end;"
   ]
  },
  {
   "cell_type": "markdown",
   "id": "44ddcc83-7e56-4fa1-a7a8-5c4706b73b9a",
   "metadata": {},
   "source": [
    "`Unhide` the code block below to see how we made an initial allocation table. \n",
    "* The column `ticker` holds the firms in our portfolio, the column `n` is the number of shares that we purchased near market close on `startdate::Date,` the `initial_share_price` column is the price per share of each ticker, and the `value` column holds the cash (liquidation) value of each position at market close on `startdate::Date`."
   ]
  },
  {
   "cell_type": "code",
   "execution_count": 25,
   "id": "10c2ea3b-c01a-4678-875b-01b91f4e8d3f",
   "metadata": {
    "jupyter": {
     "source_hidden": true
    }
   },
   "outputs": [
    {
     "name": "stdout",
     "output_type": "stream",
     "text": [
      "========= ========== ===================== ==========\n",
      " \u001b[1m ticker \u001b[0m \u001b[1m        n \u001b[0m \u001b[1m initial_share_price \u001b[0m \u001b[1m   value \u001b[0m\n",
      " \u001b[90m String \u001b[0m \u001b[90m  Float64 \u001b[0m \u001b[90m             Float64 \u001b[0m \u001b[90m Float64 \u001b[0m\n",
      "========= ========== ===================== ==========\n",
      "    AAPL   0.417493                184.25   76.9231\n",
      "    MSFT   0.207564                 370.6   76.9231\n",
      "      MU   0.935121                 82.26   76.9231\n",
      "     AMD   0.568453                135.32   76.9231\n",
      "    NVDA    1.61708                47.569   76.9231\n",
      "     JNJ   0.477872                160.97   76.9231\n",
      "      PG   0.520313                147.84   76.9231\n",
      "     MRK   0.670237                114.77   76.9231\n",
      "     PFE    2.58739                 29.73   76.9231\n",
      "      GS    0.20148                381.79   76.9231\n",
      "     WFC    1.58018                 48.68   76.9231\n",
      "     JPM   0.448976                171.33   76.9231\n",
      "     QQQ   0.193114                398.33   76.9231\n",
      "   total    10.4253                   0.0    1000.0\n",
      "========= ========== ===================== ==========\n"
     ]
    }
   ],
   "source": [
    "let\n",
    "    df = DataFrame();\n",
    "    for i ∈ eachindex(my_list_of_tickers)\n",
    "        ticker = my_list_of_tickers[i]; # get the ticker\n",
    "        value = Nₒ[i]*Sₒ[i];\n",
    "\n",
    "        row_df = (\n",
    "            ticker = ticker,\n",
    "            n = Nₒ[i],\n",
    "            initial_share_price = Sₒ[i],\n",
    "            value = value\n",
    "        )\n",
    "        push!(df, row_df);\n",
    "    end\n",
    "\n",
    "    footer = (\n",
    "        ticker = \"total\",\n",
    "        n = sum(Nₒ),\n",
    "        initial_share_price = 0,\n",
    "        value = sum(Nₒ.*Sₒ)\n",
    "    )\n",
    "    push!(df, footer)\n",
    "    \n",
    "    pretty_table(df, tf=tf_simple)   \n",
    "end"
   ]
  },
  {
   "cell_type": "markdown",
   "id": "f5a42449-20a5-402c-9ba6-fb395ec18b86",
   "metadata": {},
   "source": [
    "### What is the initial $\\beta_{\\mathcal{P}}$?\n",
    "We'll use the relative portfolio risk $\\beta_{\\mathcal{P}}$ as our decision metric, i.e., we'll monitor changes in the riskiness of the portfolio. If the risk changes beyond a threshold, we will reallocate the portfolio. This value is given by (for an equally weighted portfolio):\n",
    "$$\n",
    "\\beta_{\\mathcal{P}} = \\frac{1}{N}\\sum_{a\\in\\mathcal{P}}\\beta_{a}\n",
    "$$\n",
    "where $N$ is the number of assets in the portfolio $\\mathcal{P}$ and $\\beta_{a}$ denotes the the single index parameter for asset $a\\in\\mathcal{P}$. In this scheme, the relative portfolio risk $\\beta_{\\mathcal{P}}$ is the average risk of the assets in the portfolio as measured by the $\\beta_{a}$ parameters.\n",
    "* In the code below, we initialize a value for `β = 0`, set the allocation fraction $\\omega_{i} = 1/N$, and then process each ticker in the portfolio, where we look up the single index model parameters from the `sim_model_dictionary::Dict{String, MySingleIndexModel}` dictionary. we compute the sum [using the short cut `+=` operator](https://docs.julialang.org/en/v1/manual/mathematical-operations/) "
   ]
  },
  {
   "cell_type": "code",
   "execution_count": 27,
   "id": "4eeaa4a3-6b3d-4cdd-a8ba-f159f4f1a744",
   "metadata": {},
   "outputs": [
    {
     "name": "stdout",
     "output_type": "stream",
     "text": [
      "The overall β for the portfolio: 1.1035892934272276\n"
     ]
    }
   ],
   "source": [
    "β = let\n",
    "\n",
    "    β = 0.0; # initialize to zero\n",
    "    wᵢ = 1/N; # equally weighted portfolio\n",
    "    for ticker ∈ my_list_of_tickers # this is iterating over the tickers *directly*\n",
    "        βᵢ = sim_model_dictionary[ticker].β;\n",
    "        β += wᵢ*βᵢ # equiv to: β = β + wᵢ*βᵢ\n",
    "    end\n",
    "    β\n",
    "end\n",
    "println(\"The overall β for the portfolio: $(β)\")"
   ]
  },
  {
   "cell_type": "markdown",
   "id": "88a992fb-18d7-4dc2-885d-b7b5327b33b5",
   "metadata": {},
   "source": [
    "### Simulation\n",
    "`Unhide` the code block to see how we simulated the performance of the equally weighted portfolio starting from `startdate::Date` and ending on the last day of data available in the out-of-sample dataset.\n",
    "* __What's the story with the `let` block__? A [let block](https://docs.julialang.org/en/v1/manual/variables-and-scoping/#Let-Blocks) creates a new hard scope and introduces new variable bindings each time they run. Thus, they act like a private scratch space, where data comes in (is captured by the block), but only what we want to be exposed comes out. In this case, we want the block to export the wealth, allocation, and beta arrays.\n",
    "* The `wealth_array_fixed::Array{Float64,2}` array holds the wealth (liquidation value) of each asset $a\\in\\mathcal{P}$, and the total value in the last column. Each row of the `wealth_array_fixed::Array{Float64,2}` array holds a trading period. Similarly, the `omega_array_fixed::Array{Float64,2}` array holds the allocations (the last column is the total), and `beta_array_fixed::Array{Float64,2}` holds the $\\beta_{\\mathcal{P}}$ values.\n",
    "* __Assumption__: We are using $\\beta_{i}$ values estimated using historical data; we'll assume these values are not changing over the course of the simulation. "
   ]
  },
  {
   "cell_type": "code",
   "execution_count": 29,
   "id": "a8d8c3af-ad11-44e2-b881-1cda560bfd63",
   "metadata": {},
   "outputs": [
    {
     "ename": "LoadError",
     "evalue": "UndefVarError: `market` not defined in `Main`\nSuggestion: check for spelling errors or missing imports.",
     "output_type": "error",
     "traceback": [
      "UndefVarError: `market` not defined in `Main`\nSuggestion: check for spelling errors or missing imports.",
      "",
      "Stacktrace:",
      " [1] top-level scope",
      "   @ ./In[29]:9"
     ]
    }
   ],
   "source": [
    "(wealth_array_fixed, omega_array_fixed, beta_array_fixed) = let\n",
    "\n",
    "    wealth_array = Array{Float64,2}(undef, number_of_trading_days - 1, N+1); # last col is the total\n",
    "    omega_array = Array{Float64,2}(undef, number_of_trading_days - 1, N+1); # last col if the total\n",
    "    beta_array = Array{Float64,1}(undef, number_of_trading_days - 1);\n",
    "    for i = 1:(number_of_trading_days - 1)\n",
    "\n",
    "        # get the close price array -\n",
    "        close_price_array = market(out_of_sample_dataset, my_list_of_tickers, i); # gets the close price for today\n",
    "        \n",
    "        # compute the wealth array -\n",
    "        for j ∈ eachindex(my_list_of_tickers)\n",
    "           wealth_array[i,j] = Nₒ[j]*close_price_array[j];\n",
    "        end\n",
    "        wealth_array[i,end] = sum(wealth_array[i,1:end-1]);\n",
    "\n",
    "        # compute the omega array -\n",
    "        for j ∈ eachindex(my_list_of_tickers)\n",
    "            omega_array[i,j] = wealth_array[i,j]/(wealth_array[i,end])\n",
    "        end\n",
    "        omega_array[i,end] = sum(omega_array[i,1:end-1]);\n",
    "\n",
    "        # compute beta -\n",
    "        beta = 0.0\n",
    "        for j ∈ eachindex(my_list_of_tickers)\n",
    "            ticker = my_list_of_tickers[j];\n",
    "            βᵢ = sim_model_dictionary[ticker].β;\n",
    "            beta += omega_array[i,j]*βᵢ;\n",
    "        end\n",
    "        beta_array[i] = beta;\n",
    "        \n",
    "    end\n",
    "    wealth_array,omega_array,beta_array\n",
    "end;"
   ]
  },
  {
   "cell_type": "markdown",
   "id": "6d84a4c7-334d-4aae-9cde-0e12108b1ff0",
   "metadata": {},
   "source": [
    "#### Visualize\n",
    "`Unhide` the code block below to see how we plotted the `wealth_array_fixed::Array{Float64,2}` array corresponding to the fixed equally weighted portfolio and the alternative investment for the out-of-sample dataset.\n",
    "* __Summary__: The horizontal axis is the trading day index, while the vertical axis is the total liquidation value of the portfolio $\\mathcal{P}$ or the alternative investment. The blue line shows the value of your equally weighted portfolio, while the red line shows the value of the alternative investment, in this case, `SPY.` Depending upon your choice of tickers in portfolio $\\mathcal{P}$, you may (or may not) outperform `SPY` over the course of the out-of-sample dataset."
   ]
  },
  {
   "cell_type": "code",
   "execution_count": 31,
   "id": "758160b2-ea81-475f-9576-a4ba53cd43df",
   "metadata": {},
   "outputs": [
    {
     "ename": "LoadError",
     "evalue": "UndefVarError: `wealth_array_fixed` not defined in `Main`\nSuggestion: check for spelling errors or missing imports.",
     "output_type": "error",
     "traceback": [
      "UndefVarError: `wealth_array_fixed` not defined in `Main`\nSuggestion: check for spelling errors or missing imports.",
      "",
      "Stacktrace:",
      " [1] top-level scope",
      "   @ In[31]:2"
     ]
    }
   ],
   "source": [
    "let\n",
    "    plot(wealth_array_fixed[1:(number_of_trading_days - 1),end], lw=2, c=:deepskyblue1, label=\"Fixed 1/N Portfolio\")\n",
    "    plot!(n_spy*S_spy, c=:red, lw=2, label=\"SPY\")\n",
    "    xlabel!(\"Trading Day Index 2024 (AU)\", fontsize=18);\n",
    "    ylabel!(\"Total Wealth (USD)\", fontsize=18)\n",
    "end"
   ]
  },
  {
   "cell_type": "markdown",
   "id": "1a5cca51-6804-407c-8f52-53b241886cbd",
   "metadata": {},
   "source": [
    "`Unihide` the code block below to see how we plotted the relative risk for the portfolio $\\mathcal{P}$ for each period in the out-of-sample dataset.\n",
    "* __Summary__: The horizontal axis is the trading day index, while the vertical axis holds the portfolio relative risk parameter $\\beta_{\\mathcal{P}}$. The blue line denotes the realized risk computed at the close of each trading period, while the gray line denotes the initial risk value. The gray region represents the $\\pm\\,\\epsilon$ region around the initial portfolio risk. Depending upon your choices of tickers in the portfolio $\\mathcal{P}$, the realized risk could differ significantly from the desired risk value, i.e., it is outside of the gray region."
   ]
  },
  {
   "cell_type": "code",
   "execution_count": 33,
   "id": "690d3e7a-23b9-454b-a7b8-ab243a4466fa",
   "metadata": {
    "jupyter": {
     "source_hidden": true
    }
   },
   "outputs": [
    {
     "ename": "LoadError",
     "evalue": "UndefVarError: `beta_array_fixed` not defined in `Main`\nSuggestion: check for spelling errors or missing imports.",
     "output_type": "error",
     "traceback": [
      "UndefVarError: `beta_array_fixed` not defined in `Main`\nSuggestion: check for spelling errors or missing imports.",
      "",
      "Stacktrace:",
      " [1] top-level scope",
      "   @ In[33]:6"
     ]
    }
   ],
   "source": [
    "let\n",
    "    LINE = β*ones(number_of_trading_days);\n",
    "    U = LINE .+ ϵ;\n",
    "    L = LINE .- ϵ;\n",
    "    \n",
    "    plot(beta_array_fixed, c=:deepskyblue1, lw=3, label=\"Current\")\n",
    "    plot!(LINE, fillrange=U, c=:gray, fillalpha=0.25, label=\"\")\n",
    "    plot!(LINE, fillrange=L, c=:gray, fillalpha=0.25, label=\"\")\n",
    "    plot!(LINE, c=:gray, lw=3, label=\"Initial\")\n",
    "    xlabel!(\"Trading Day Index 2024 (AU)\", fontsize=18)\n",
    "    ylabel!(\"Portfolio relative risk β\", fontsize=18);\n",
    "end"
   ]
  },
  {
   "cell_type": "markdown",
   "id": "c2c3702e-749f-48e6-885b-368fa80bc490",
   "metadata": {},
   "source": [
    "## Task 2: Equally Weighted Portfolio Allocation with Reallocation\n",
    "In this task, we'll implement a reallocation algorithm that monitors the daily portfolio relative risk $\\hat{\\beta}_{\\mathcal{P}}$ and use this value to trigger reallocation, where we'll use an equally weighted strategy.\n",
    "* __Strategy__: We'll compute the desired portfolio risk $\\beta_{\\mathcal{P}}$ based on the initial allocation. Then, as new market data becomes available, we'll compare the new portfolio risk $\\hat{\\beta}_{\\mathcal{P}}$ with the desired value. If they differ by more than some tolerance $\\epsilon\\geq{0}$, we'll liquidate the portfolio and reallocate."
   ]
  },
  {
   "cell_type": "markdown",
   "id": "f22fedeb-db47-47de-b0a4-0e5a6b405cc9",
   "metadata": {},
   "source": [
    "`Unhide` the code block to see how we simulated the performance of the equally weighted portfolio starting from `startdate::Date` and ending on the last day of data available in the out-of-sample dataset. \n",
    "* __How is this block different__? This block is similar to the fixed allocation example above. However, he has reallocation logic starting on `L38`. We test the difference between the desired and realized portfolio relative risks; if we exceed a threshold, then we rebalance the portfolio."
   ]
  },
  {
   "cell_type": "code",
   "execution_count": 36,
   "id": "fc48aef2-8e58-4074-b74f-78609cb7d7a1",
   "metadata": {},
   "outputs": [
    {
     "ename": "LoadError",
     "evalue": "UndefVarError: `market` not defined in `Main`\nSuggestion: check for spelling errors or missing imports.",
     "output_type": "error",
     "traceback": [
      "UndefVarError: `market` not defined in `Main`\nSuggestion: check for spelling errors or missing imports.",
      "",
      "Stacktrace:",
      " [1] top-level scope",
      "   @ ./In[36]:14"
     ]
    }
   ],
   "source": [
    "(wealth_array_variable, omega_array_variable, beta_array_variable) = let\n",
    "\n",
    "    # initialize storage \n",
    "    wealth_array = Array{Float64,2}(undef, number_of_trading_days - 1, N+1); # last col is the total\n",
    "    omega_array = Array{Float64,2}(undef, number_of_trading_days - 1, N+1); \n",
    "    beta_array = Array{Float64,1}(undef, number_of_trading_days - 1);\n",
    "\n",
    "    Nᵢ = copy(Nₒ); \n",
    "\n",
    "    for i = 1:(number_of_trading_days - 1)\n",
    "    \n",
    "        # --- SAME AS CONSTANT ALLOCATION ------------------------------------------------------------------------- #\n",
    "        # get the close price array for day i\n",
    "        close_price_array = market(out_of_sample_dataset, my_list_of_tickers, i); # gets the close price for today\n",
    "        \n",
    "        # compute the wealth array -\n",
    "        for j ∈ eachindex(my_list_of_tickers)\n",
    "           wealth_array[i,j] = Nᵢ[j]*close_price_array[j];\n",
    "        end\n",
    "        wealth_array[i,end] = sum(wealth_array[i,1:end-1]);\n",
    "\n",
    "        # compute the omega array -\n",
    "        for j ∈ eachindex(my_list_of_tickers)\n",
    "            omega_array[i,j] = wealth_array[i,j]/(wealth_array[i,end])\n",
    "        end\n",
    "        omega_array[i,end] = sum(omega_array[i,1:end-1]);\n",
    "\n",
    "        # compute beta -\n",
    "        beta = 0.0\n",
    "        for j ∈ eachindex(my_list_of_tickers)\n",
    "            ticker = my_list_of_tickers[j];\n",
    "            βᵢ = sim_model_dictionary[ticker].β;\n",
    "            beta += omega_array[i,j]*βᵢ;\n",
    "        end\n",
    "        beta_array[i] = beta;\n",
    "        # ------------------------------------------------------------------------------------------------------- #\n",
    "\n",
    "        # - NEW ------------------------------------------------------------------------------------------------- #\n",
    "        βᵢ = beta_array[i];\n",
    "        if (abs(βᵢ-β) ≥ ϵ)\n",
    "\n",
    "            # Ok: we are outside the risk range I'm comfortable with. Let's sell the portfolio at close and reallocate\n",
    "            my_new_total_budget = wealth_array[i,end]; # budget\n",
    "            next_price_array = market(out_of_sample_dataset, my_list_of_tickers, i, key = :close); # gets the close price for today\n",
    "\n",
    "            for j ∈ eachindex(my_list_of_tickers)\n",
    "                wᵢ = 1/N; # equal weight allocation\n",
    "                Nᵢ[j] = (wᵢ*my_new_total_budget)/next_price_array[j]; # reallocate\n",
    "            end\n",
    "        end\n",
    "        # ------------------------------------------------------------------------------------------------------- #\n",
    "    end\n",
    "\n",
    "    wealth_array,omega_array,beta_array\n",
    "end;"
   ]
  },
  {
   "cell_type": "markdown",
   "id": "7f3b4661-6c90-4fcb-92b3-1b2950669037",
   "metadata": {},
   "source": [
    "#### Visualize\n",
    "`Unihide` the code block below to see how we plotted the relative risk for the portfolio $\\mathcal{P}$ for each period in the out-of-sample dataset in the presence of rebalancing.\n",
    "* __Summary__: The horizontal axis is the trading day index, while the vertical axis holds the portfolio relative risk parameter $\\beta_{\\mathcal{P}}$. The blue line denotes the realized portfolio risk computed at the close of each trading period, while the gray line denotes the initial risk value. The gray region represents the $\\pm\\,\\epsilon$ region around the initial portfolio risk. In the presence of rebalancing the realized portfolio risk much closer the desired risk zone (gray region)."
   ]
  },
  {
   "cell_type": "code",
   "execution_count": 38,
   "id": "c174e35e-1477-4e2c-ab18-52d8eb9b3878",
   "metadata": {
    "jupyter": {
     "source_hidden": true
    }
   },
   "outputs": [
    {
     "ename": "LoadError",
     "evalue": "UndefVarError: `beta_array_variable` not defined in `Main`\nSuggestion: check for spelling errors or missing imports.",
     "output_type": "error",
     "traceback": [
      "UndefVarError: `beta_array_variable` not defined in `Main`\nSuggestion: check for spelling errors or missing imports.",
      "",
      "Stacktrace:",
      " [1] top-level scope",
      "   @ In[38]:6"
     ]
    }
   ],
   "source": [
    "let\n",
    "    LINE = β*ones(number_of_trading_days);\n",
    "    U = LINE .+ ϵ;\n",
    "    L = LINE .- ϵ;\n",
    "    \n",
    "    plot(beta_array_variable, c=:deepskyblue1, lw=3, linetype=:steppost, label=\"\")\n",
    "    scatter!(beta_array_variable, c=:navy, label=\"Current (rebalanced)\")\n",
    "    plot!(LINE, fillrange=U, c=:gray, fillalpha=0.25, label=\"\")\n",
    "    plot!(LINE, fillrange=L, c=:gray, fillalpha=0.25, label=\"\")\n",
    "    plot!(LINE, c=:gray, lw=3, label=\"Initial (desired)\")\n",
    "    xlabel!(\"Trading Day Index 2024\", fontsize=18)\n",
    "    ylabel!(\"Relative Portfolio Risk β\", fontsize=18);\n",
    "end"
   ]
  },
  {
   "cell_type": "markdown",
   "id": "26d55e67-70d1-46f8-825b-06f90da73984",
   "metadata": {},
   "source": [
    "`Unhide` the code block below to see how we plotted the wealth for the fixed, rebalanced, and alternative investment for the out-of-sample dataset.\n",
    "* __Summary__: The horizontal axis is the trading day index, while the vertical axis is the total liquidation value of the portfolio $\\mathcal{P}$ with and without rebalancing or the alternative investment. The light blue line shows the value of your equally weighted portfolio without rebalancing, the dark blue line shows the rebalanced case, and the red line shows the value of the alternative investment, in this case, `SPY.`\n",
    "* Depending upon the choice of tickers in the portfolio, the fixed and rebalanced portfolios may (or may not) outperform `SPY.`"
   ]
  },
  {
   "cell_type": "code",
   "execution_count": 40,
   "id": "b5a6eca9-0883-4465-9c4e-1900bc9e169a",
   "metadata": {},
   "outputs": [
    {
     "ename": "LoadError",
     "evalue": "UndefVarError: `wealth_array_variable` not defined in `Main`\nSuggestion: check for spelling errors or missing imports.",
     "output_type": "error",
     "traceback": [
      "UndefVarError: `wealth_array_variable` not defined in `Main`\nSuggestion: check for spelling errors or missing imports.",
      "",
      "Stacktrace:",
      " [1] top-level scope",
      "   @ In[40]:2"
     ]
    }
   ],
   "source": [
    "let\n",
    "    plot(wealth_array_variable[:,end], lw=2, c=:navy, label=\"Rebalanced\")\n",
    "    plot!(wealth_array_fixed[:,end], lw=2, c=:deepskyblue1, label=\"Fixed\")\n",
    "    plot!(n_spy*S_spy, c=:red, lw=2, label=\"SPY\")\n",
    "    xlabel!(\"Trading Day Index 2024 (AU)\", fontsize=18);\n",
    "    ylabel!(\"Total Wealth (USD)\", fontsize=18)\n",
    "end"
   ]
  },
  {
   "cell_type": "markdown",
   "id": "05703cf0-8ddc-42c7-898e-273f2b33cfb3",
   "metadata": {},
   "source": [
    "## Task 3: Comparison of Fixed versus Reallocated Portfolio Net Present Values\n",
    "In this task, we compare the net present value (NPV) for the fixed allocation portfolio, the rebalanced portfolio, and then the alternative investment, in this case, the [SP500 ETF `SPY`](https://finance.yahoo.com/quote/SPY/). Suppose we intially invest wealth $W_{\\mathcal{P}}(0)$ (units: USD) in a portfolio $\\mathcal{P}$ at time $t_{\\circ} = 0$. Then, the net present value (NPV) of the portfolio $\\mathcal{P}$ at time $T$ is given by:\n",
    "$$\n",
    "\\begin{equation*}\n",
    "\\texttt{NPV}(\\bar{r}, T) = -W_{\\mathcal{P}}(0) + \n",
    "W_{\\mathcal{P}}(T)\\cdot\\mathcal{D}_{T,0}^{-1}(\\bar{r})\n",
    "\\end{equation*}\n",
    "$$\n",
    "where $\\mathcal{D}_{T,0}(\\bar{r})$ denotes the continuous discount factor, $\\bar{r}$ denotes the discount rate and the wealth of the portfolio $\\mathcal{P}$ at any time $t$ is given by:\n",
    "$$\n",
    "\\begin{equation*}\n",
    "W_{\\mathcal{P}}(t) = \\sum_{a\\in\\mathcal{P}}n_{a}(t)\\cdot{S}_{a}(t)\n",
    "\\end{equation*}\n",
    "$$\n",
    "where $n_{a}(t)$ is the number shares of asset $a\\in\\mathcal{P}$ held at $t$, and $S_{a}(t)$ denotes the share price of asset $a\\in\\mathcal{P}$ at $t$. \n",
    "Dividing by the initial wealth gives the scaled NPV of $\\mathcal{P}$:\n",
    "$$\n",
    "\\begin{equation*}\n",
    "\\frac{\\texttt{NPV}(\\bar{r},T)}{W_{\\mathcal{P}}(0)} = \\left[\\frac{W_{\\mathcal{P}}(T)}{W_{\\mathcal{P}}(0)}\\right]\\cdot\\mathcal{D}_{T,0}^{-1}(\\bar{r}) - 1\n",
    "\\end{equation*}\n",
    "$$\n",
    "\n",
    "Let's begin by formulating the discount function $\\mathcal{D}$. Here we assume continuous discounting:"
   ]
  },
  {
   "cell_type": "code",
   "execution_count": 42,
   "id": "58081fee-cf20-4271-a7ee-91a55e11eb01",
   "metadata": {},
   "outputs": [],
   "source": [
    "𝒟(r̄,t) = exp(r̄*t); # continuous discount factor"
   ]
  },
  {
   "cell_type": "markdown",
   "id": "829f1785-a697-473e-bb3d-83614762d372",
   "metadata": {},
   "source": [
    "#### NPV rule: How big of a contribution does discounting make? \n",
    "Previously, when we developed the various versions of the net present value (NPV) trade rule, we ignored the role of the discount factor. For shorter-duration trades, this was a reasonable assumption. However, when we hold a portfolio for (potentially) up to a year or more, this may introduce error. Let's compute the discount factor, invert it, and see the value.\n",
    "* The discount rate $\\bar{r}$ will be the risk-free rate of return, while the duration $T = i\\cdot\\Delta{t}$, where $i$ is the trading day index, and $\\Delta{t}$ is the duration of a trading day (units: years). We compute $\\mathcal{D}(\\bar{r},T)^{-1}$, and then use the [Julia pipe operator `|>`](https://docs.julialang.org/en/v1/manual/functions/#Function-composition-and-piping) to pipe that value into [a `println(...)` statement](https://docs.julialang.org/en/v1/base/io-network/#Base.println). "
   ]
  },
  {
   "cell_type": "code",
   "execution_count": 44,
   "id": "8f80a131-9509-4b97-b98b-45f57431a6d6",
   "metadata": {},
   "outputs": [
    {
     "name": "stdout",
     "output_type": "stream",
     "text": [
      "The 1/DF term has a value of: 0.9722965344587556\n"
     ]
    }
   ],
   "source": [
    "(1/𝒟(risk_free_rate, (number_of_trading_days)*Δt)) |> x -> println(\"The 1/DF term has a value of: $(x)\")"
   ]
  },
  {
   "cell_type": "markdown",
   "id": "d3d062d1-83ed-46fe-b03b-aa0d2be970c8",
   "metadata": {},
   "source": [
    "Next, let's compute the scaled NPV for each portfolio. We capture the NPV data in the `NPV_array::Array{Float64,1}` array, where index `1` is the fixed portfolio, index `2` is the rebalanced portfolio, and index `3` is the alternative investment, i.e., `SPY.`"
   ]
  },
  {
   "cell_type": "code",
   "execution_count": 46,
   "id": "2a4e7807-9d87-4922-be7c-8290af4aff3c",
   "metadata": {},
   "outputs": [
    {
     "ename": "LoadError",
     "evalue": "UndefVarError: `wealth_array_fixed` not defined in `Main`\nSuggestion: check for spelling errors or missing imports.",
     "output_type": "error",
     "traceback": [
      "UndefVarError: `wealth_array_fixed` not defined in `Main`\nSuggestion: check for spelling errors or missing imports.",
      "",
      "Stacktrace:",
      " [1] top-level scope",
      "   @ In[46]:11"
     ]
    }
   ],
   "source": [
    "NPV_array = let\n",
    "\n",
    "    # initialize -\n",
    "    endpoint_index = number_of_trading_days - 1;\n",
    "    NPV_array = Array{Float64,1}(undef, 3); \n",
    "    r̄ = risk_free_rate;\n",
    "    T = (endpoint_index)*Δt; # what is the value at the last trading \n",
    "    W_SPY = n_spy*S_spy[endpoint_index];  # wealth SPY\n",
    "    \n",
    "    # Compute the NPV array -\n",
    "    NPV_array[1] = (wealth_array_fixed[endpoint_index,end]/wealth_array_fixed[1,end])*(1/𝒟(r̄,T)) - 1 ; # 1: fixed portfolio\n",
    "    NPV_array[2] = (wealth_array_variable[endpoint_index,end]/wealth_array_variable[1,end])*(1/𝒟(r̄,T)) - 1; # 2: rebalanced portfolio\n",
    "    NPV_array[3] = (W_SPY/my_total_budget)*(1/𝒟(r̄,T)) - 1; # 3: SPY \n",
    "    \n",
    "    # return -\n",
    "    NPV_array; \n",
    "end;"
   ]
  },
  {
   "cell_type": "code",
   "execution_count": 47,
   "id": "25906bc8-4cf3-4c5f-a799-99af65aa295b",
   "metadata": {},
   "outputs": [
    {
     "ename": "LoadError",
     "evalue": "UndefVarError: `NPV_array` not defined in `Main`\nSuggestion: check for spelling errors or missing imports.",
     "output_type": "error",
     "traceback": [
      "UndefVarError: `NPV_array` not defined in `Main`\nSuggestion: check for spelling errors or missing imports.",
      ""
     ]
    }
   ],
   "source": [
    "NPV_array"
   ]
  },
  {
   "cell_type": "markdown",
   "id": "74548e16-a554-4188-967f-40fe0508b464",
   "metadata": {},
   "source": [
    "#### Which approach should we use?\n",
    "The largest value of the NPV suggests which strategy we should have selected. We [use the `argmax(...)` function](https://docs.julialang.org/en/v1/base/collections/#Base.argmax) to find the index of the largest value, and then pass this index to the `labels::Dict{Int, String}` dictionary which maps the index to the description of each investment."
   ]
  },
  {
   "cell_type": "code",
   "execution_count": 49,
   "id": "ffa4874c-868c-47d0-8573-e00c5e3b0509",
   "metadata": {},
   "outputs": [
    {
     "ename": "LoadError",
     "evalue": "UndefVarError: `NPV_array` not defined in `Main`\nSuggestion: check for spelling errors or missing imports.",
     "output_type": "error",
     "traceback": [
      "UndefVarError: `NPV_array` not defined in `Main`\nSuggestion: check for spelling errors or missing imports.",
      "",
      "Stacktrace:",
      " [1] top-level scope",
      "   @ In[49]:2"
     ]
    }
   ],
   "source": [
    "labels = Dict{Int, String}(1 => \"fixed\", 2 => \"rebalanced\", 3 => \"SPY\");\n",
    "argmax(NPV_array) |> i -> labels[i]"
   ]
  },
  {
   "cell_type": "markdown",
   "id": "55b8486b-365c-4e2b-986f-be603209e4d0",
   "metadata": {},
   "source": [
    "## Disclaimer and Risks\n",
    "__This content is offered solely for training and informational purposes__. No offer or solicitation to buy or sell securities or derivative products or any investment or trading advice or strategy is made, given, or endorsed by the teaching team. \n",
    "\n",
    "__Trading involves risk__. Carefully review your financial situation before investing in securities, futures contracts, options, or commodity interests. Past performance, whether actual or indicated by historical tests of strategies, is no guarantee of future performance or success. Trading is generally inappropriate for someone with limited resources, investment or trading experience, or a low-risk tolerance.  Only risk capital that is not required for living expenses.\n",
    "\n",
    "__You are fully responsible for any investment or trading decisions you make__. You should decide solely based on your financial circumstances, investment or trading objectives, risk tolerance, and liquidity needs."
   ]
  }
 ],
 "metadata": {
  "kernelspec": {
   "display_name": "Julia 1.11.1",
   "language": "julia",
   "name": "julia-1.11"
  },
  "language_info": {
   "file_extension": ".jl",
   "mimetype": "application/julia",
   "name": "julia",
   "version": "1.11.1"
  }
 },
 "nbformat": 4,
 "nbformat_minor": 5
}
