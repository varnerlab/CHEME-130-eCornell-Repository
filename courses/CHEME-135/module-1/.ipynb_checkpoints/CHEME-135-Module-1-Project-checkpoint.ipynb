{
 "cells": [
  {
   "cell_type": "markdown",
   "id": "d42cdfe3-c3de-4605-8078-e4abb392d984",
   "metadata": {},
   "source": [
    "# Project: Construction of Low and High Correlation Portfolios of Risky Assets \n",
    "In this `project,` we'll explore how the correlation of asset return influences the `efficient frontier` computed by solving the minimum variance allocation problem initially proposed by [Markowitz, 1952](https://www.jstor.org/stable/2975974). Correlation is crucial in minimum variance portfolio allocation as it affects diversification. \n",
    "* A low correlation between assets reduces overall portfolio risk by offsetting losses and gains. Correlation also shapes the efficient frontier; lower correlations widen the efficient frontier, providing investors with more opportunities for portfolios with varying risk and return.\n",
    "\n",
    "Let's test this conjecture by computing the efficient frontier for low and high-correlation portfolios.\n",
    "\n",
    "### Learning objectives\n",
    "In this `project,` you'll compute the [Efficient Frontier](https://en.wikipedia.org/wiki/Efficient_frontier) for a portfolio of risky assets, where the expected return and the covariance of the returns are calculated from a historical dataset. However, unlike the worked example in this module, in this `project,` you'll construct `low` and `high` correlation portfolios and compare the respective efficient frontiers of each. \n",
    "\n",
    "* __Prerequisites__: we'll begin by loading the historical dataset. The data we'll explore is daily open-high-low-close values for firms in the [S&P500 index](https://en.wikipedia.org/wiki/S%26P_500) since `01-03-2018` until `12-01-2023`.\n",
    "* __Task 1__: We'll compute `low` and `high` correlation ticker collections next.\n",
    "    * `Check`: Verify the `correlated_ticker_pairs` dictionary data\n",
    "    * `TODO`: \n",
    "* __Task 2__: Then, we'll compute the efficient frontier for the `high` correlation collection of tickers:\n",
    "    * `TODO`: minimize the risk for a specified minimum reward value, visualize the efficient frontier, and look at some sample portfolios on the `high` correlation efficient frontier.\n",
    "* __Task 3__: Then, we'll compute the efficient frontier for the `low` correlation collection of tickers:\n",
    "  * `TODO`: minimize the risk for a specified minimum reward value, visualize the efficient frontier, and look at some sample portfolios on the `low` correlation efficient frontier."
   ]
  },
  {
   "cell_type": "markdown",
   "id": "8c2d9150-18a9-4517-9c26-e9db424718eb",
   "metadata": {},
   "source": [
    "## Setup\n",
    "Set up the computational environment by including the `Include.jl` file. The `Include.jl` file loads external packages, various functions we will use in the exercise, and custom types to model the components of our example problem.\n",
    "* For additional information on functions and types used in this material, see the [Julia programming language documentation](https://docs.julialang.org/en/v1/) and the [VLQuantitativeFinancePackage.jl documentation](https://github.com/varnerlab/VLQuantitativeFinancePackage.jl). "
   ]
  },
  {
   "cell_type": "code",
   "execution_count": 3,
   "id": "c26e28a8-c097-4274-aa22-f6eacffcaaaf",
   "metadata": {},
   "outputs": [
    {
     "name": "stderr",
     "output_type": "stream",
     "text": [
      "\u001b[32m\u001b[1m    Updating\u001b[22m\u001b[39m git-repo `https://github.com/varnerlab/VLQuantitativeFinancePackage.jl.git`\n",
      "\u001b[32m\u001b[1m   Resolving\u001b[22m\u001b[39m package versions...\n",
      "\u001b[32m\u001b[1m  No Changes\u001b[22m\u001b[39m to `~/Desktop/julia_work/CHEME-130-eCornell-Repository/courses/CHEME-135/module-1/Project.toml`\n",
      "\u001b[32m\u001b[1m  No Changes\u001b[22m\u001b[39m to `~/Desktop/julia_work/CHEME-130-eCornell-Repository/courses/CHEME-135/module-1/Manifest.toml`\n",
      "\u001b[32m\u001b[1m  Activating\u001b[22m\u001b[39m project at `~/Desktop/julia_work/CHEME-130-eCornell-Repository/courses/CHEME-135/module-1`\n",
      "\u001b[32m\u001b[1m  No Changes\u001b[22m\u001b[39m to `~/Desktop/julia_work/CHEME-130-eCornell-Repository/courses/CHEME-135/module-1/Project.toml`\n",
      "\u001b[32m\u001b[1m  No Changes\u001b[22m\u001b[39m to `~/Desktop/julia_work/CHEME-130-eCornell-Repository/courses/CHEME-135/module-1/Manifest.toml`\n",
      "\u001b[32m\u001b[1m    Updating\u001b[22m\u001b[39m registry at `~/.julia/registries/General.toml`\n",
      "\u001b[32m\u001b[1m    Updating\u001b[22m\u001b[39m git-repo `https://github.com/varnerlab/VLQuantitativeFinancePackage.jl.git`\n",
      "\u001b[32m\u001b[1m  No Changes\u001b[22m\u001b[39m to `~/Desktop/julia_work/CHEME-130-eCornell-Repository/courses/CHEME-135/module-1/Project.toml`\n",
      "\u001b[32m\u001b[1m  No Changes\u001b[22m\u001b[39m to `~/Desktop/julia_work/CHEME-130-eCornell-Repository/courses/CHEME-135/module-1/Manifest.toml`\n"
     ]
    }
   ],
   "source": [
    "include(\"Include.jl\");"
   ]
  },
  {
   "cell_type": "markdown",
   "id": "36a0eb0a-86ee-45ec-930c-b3900b9f3b0a",
   "metadata": {
    "jp-MarkdownHeadingCollapsed": true
   },
   "source": [
    "## Prerequisites: Load and clean the historical dataset\n",
    "We gathered a daily open-high-low-close `dataset` for each firm in the [S&P500](https://en.wikipedia.org/wiki/S%26P_500) from `01-03-2018` until `10-31-2023`, along with data for a few exchange-traded funds and volatility products during that time. We load the `orignal_dataset` by calling the `MyMarketDataSet()` function:"
   ]
  },
  {
   "cell_type": "code",
   "execution_count": 5,
   "id": "66098875-6cff-4227-ab74-845492dff0e2",
   "metadata": {},
   "outputs": [],
   "source": [
    "original_dataset = MyMarketDataSet() |> x-> x[\"dataset\"];"
   ]
  },
  {
   "cell_type": "markdown",
   "id": "42ce8826-f2a1-40be-bbd0-fb8104ccf867",
   "metadata": {},
   "source": [
    "### Clean the data\n",
    "Not all of the tickers in our dataset have the maximum number of trading days for various reasons, e.g., acquistion or de-listing events. Let's collect only those tickers with the maximum number of tradition days.\n",
    "\n",
    "* First, let's compute the number of records for a company that we know has a maximim value, e.g., `AAPL` and save that value in the `maximum_number_trading_days` variable:"
   ]
  },
  {
   "cell_type": "code",
   "execution_count": 7,
   "id": "42b665da-fef5-439f-a17f-1419a9362f61",
   "metadata": {},
   "outputs": [],
   "source": [
    "maximum_number_trading_days = original_dataset[\"AAPL\"] |> nrow;"
   ]
  },
  {
   "cell_type": "markdown",
   "id": "b4717498-2fa1-4642-996c-c1c0e1ecf956",
   "metadata": {},
   "source": [
    "Now, lets iterate through our data and collect only those tickers that have `maximum_number_trading_days` records. Save that data in the `dataset::Dict{String,DataFrame}` variable:"
   ]
  },
  {
   "cell_type": "code",
   "execution_count": 9,
   "id": "d1884ea4-045a-4b00-9c52-7050bb50220e",
   "metadata": {},
   "outputs": [
    {
     "data": {
      "text/plain": [
       "Dict{String, DataFrame} with 460 entries:\n",
       "  \"NI\"   => \u001b[1m1508×8 DataFrame\u001b[0m\u001b[0m…\n",
       "  \"EMR\"  => \u001b[1m1508×8 DataFrame\u001b[0m\u001b[0m…\n",
       "  \"CTAS\" => \u001b[1m1508×8 DataFrame\u001b[0m\u001b[0m…\n",
       "  \"HSIC\" => \u001b[1m1508×8 DataFrame\u001b[0m\u001b[0m…\n",
       "  \"KIM\"  => \u001b[1m1508×8 DataFrame\u001b[0m\u001b[0m…\n",
       "  \"PLD\"  => \u001b[1m1508×8 DataFrame\u001b[0m\u001b[0m…\n",
       "  \"IEX\"  => \u001b[1m1508×8 DataFrame\u001b[0m\u001b[0m…\n",
       "  \"BAC\"  => \u001b[1m1508×8 DataFrame\u001b[0m\u001b[0m…\n",
       "  \"CBOE\" => \u001b[1m1508×8 DataFrame\u001b[0m\u001b[0m…\n",
       "  \"EXR\"  => \u001b[1m1508×8 DataFrame\u001b[0m\u001b[0m…\n",
       "  \"NCLH\" => \u001b[1m1508×8 DataFrame\u001b[0m\u001b[0m…\n",
       "  \"CVS\"  => \u001b[1m1508×8 DataFrame\u001b[0m\u001b[0m…\n",
       "  \"DRI\"  => \u001b[1m1508×8 DataFrame\u001b[0m\u001b[0m…\n",
       "  \"DTE\"  => \u001b[1m1508×8 DataFrame\u001b[0m\u001b[0m…\n",
       "  \"ZION\" => \u001b[1m1508×8 DataFrame\u001b[0m\u001b[0m…\n",
       "  \"AVY\"  => \u001b[1m1508×8 DataFrame\u001b[0m\u001b[0m…\n",
       "  \"EW\"   => \u001b[1m1508×8 DataFrame\u001b[0m\u001b[0m…\n",
       "  \"EA\"   => \u001b[1m1508×8 DataFrame\u001b[0m\u001b[0m…\n",
       "  \"NWSA\" => \u001b[1m1508×8 DataFrame\u001b[0m\u001b[0m…\n",
       "  \"CAG\"  => \u001b[1m1508×8 DataFrame\u001b[0m\u001b[0m…\n",
       "  \"GPC\"  => \u001b[1m1508×8 DataFrame\u001b[0m\u001b[0m…\n",
       "  \"FCX\"  => \u001b[1m1508×8 DataFrame\u001b[0m\u001b[0m…\n",
       "  \"GILD\" => \u001b[1m1508×8 DataFrame\u001b[0m\u001b[0m…\n",
       "  \"UNP\"  => \u001b[1m1508×8 DataFrame\u001b[0m\u001b[0m…\n",
       "  \"CDW\"  => \u001b[1m1508×8 DataFrame\u001b[0m\u001b[0m…\n",
       "  ⋮      => ⋮"
      ]
     },
     "execution_count": 9,
     "metadata": {},
     "output_type": "execute_result"
    }
   ],
   "source": [
    "dataset = Dict{String,DataFrame}();\n",
    "for (ticker,data) ∈ original_dataset\n",
    "    if (nrow(data) == maximum_number_trading_days)\n",
    "        dataset[ticker] = data;\n",
    "    end\n",
    "end\n",
    "dataset"
   ]
  },
  {
   "cell_type": "markdown",
   "id": "d3b672a4-a479-4296-bfb7-4bc280fcd036",
   "metadata": {},
   "source": [
    "Lastly, let's get a list of firms that we have in cleaned up `dataset`, and save it ib the `list_of_all_tickers` array"
   ]
  },
  {
   "cell_type": "code",
   "execution_count": 11,
   "id": "f11ab2ab-88fc-43b1-b85b-dfe5f75e9d22",
   "metadata": {},
   "outputs": [],
   "source": [
    "list_of_all_tickers = keys(dataset) |> collect |> sort;\n",
    "number_of_tickers = length(list_of_all_tickers);"
   ]
  },
  {
   "cell_type": "markdown",
   "id": "9c47baf7-271e-48bc-bd20-4116df3bd121",
   "metadata": {},
   "source": [
    "### Compute the covariance and expected return for all firms in the dataset\n",
    "The expected growth $\\mathbb{E}(r_{i})$ and covariance matrix $\\Sigma$ will be used in our calculations, so we'll need to compute values for both of these quantities for the entire data set (all `N = 459` tickers), and then we'll filter out which tickers we are interested in. \n",
    "\n",
    "* First, we compute the expected (annualized) log growth rate by passing the `dataset` and the entire list of firms we have in the dataset (held in the $N\\times{1}$ `all_array` array) to the [log_growth_matrix(...) method](https://varnerlab.github.io/VLQuantitativeFinancePackage.jl/dev/equity/#VLQuantitativeFinancePackage.log_growth_matrix). The result is stored in the `all_firms_return_matrix` variable, a $T-1\\times{N}$ array of log return values. Each row of `all_firms_return_matrix` corresponds to a time value, while each column corresponds to a firm:"
   ]
  },
  {
   "cell_type": "code",
   "execution_count": 13,
   "id": "05695a1a-e3d4-48bb-9483-2f5f4b4e9c95",
   "metadata": {},
   "outputs": [],
   "source": [
    "all_firms_return_matrix = log_growth_matrix(dataset, list_of_all_tickers, Δt = (1.0/252.0));"
   ]
  },
  {
   "cell_type": "markdown",
   "id": "1306e9b0-c5a8-48a2-91d3-70f2b8503223",
   "metadata": {},
   "source": [
    "* Next, we estimate the expected return for each firm from the `all_firms_return_matrix` using the [mean(...) function](https://docs.julialang.org/en/v1/stdlib/Statistics/#Statistics.mean), which is exported by the [Statistics.jl package](https://docs.julialang.org/en/v1/stdlib/Statistics/). We set the $N\\times{1}$ vector of expected values, i.e., $\\mathbb{E}(r_{1}),\\dotsc,\\mathbb{E}(r_{N})$ to the array `μ`:"
   ]
  },
  {
   "cell_type": "code",
   "execution_count": 15,
   "id": "b3cabab7-13ab-4efe-bee9-b5d78d09c09e",
   "metadata": {},
   "outputs": [],
   "source": [
    "μ = mean(all_firms_return_matrix, dims=1) |> vec;"
   ]
  },
  {
   "cell_type": "markdown",
   "id": "5646212f-31c6-422c-90ed-c2100156a805",
   "metadata": {},
   "source": [
    "* Finally, we estimate the annualized `covariance_matrix` (assuming `252` trading days per year) from the `all_firms_return_matrix` using the [cov(...) function](https://docs.julialang.org/en/v1/stdlib/Statistics/#Statistics.cov), exported by the [Statistics.jl package](https://docs.julialang.org/en/v1/stdlib/Statistics/). We store the $N\\times{N}$ covariance matrix in the $\\Sigma$ variable:"
   ]
  },
  {
   "cell_type": "code",
   "execution_count": 17,
   "id": "5dc5350d-ed56-4707-a190-d9d9fc0f64ff",
   "metadata": {},
   "outputs": [
    {
     "data": {
      "text/plain": [
       "460×460 Matrix{Float64}:\n",
       " 0.0655367  0.0409146  0.0273076  …  0.0444449  0.0343089  0.0362875\n",
       " 0.0409146  0.283809   0.0573645     0.069817   0.0986843  0.0383996\n",
       " 0.0273076  0.0573645  0.12501       0.0392735  0.0510524  0.0292667\n",
       " 0.0323065  0.0444841  0.0236737     0.045334   0.0268079  0.0336129\n",
       " 0.0198861  0.0206277  0.0201981     0.0175898  0.0216887  0.0225977\n",
       " 0.0317812  0.0228434  0.0180639  …  0.0300955  0.0202344  0.0301296\n",
       " 0.0345523  0.0475915  0.0321036     0.0448403  0.0392157  0.0353211\n",
       " 0.0387532  0.0358116  0.0245768     0.0519358  0.023438   0.0383791\n",
       " 0.0383595  0.063833   0.0295398     0.055052   0.0425233  0.033446\n",
       " 0.0209082  0.047045   0.0262508     0.0282589  0.0450202  0.0181709\n",
       " 0.028523   0.0471555  0.0297807  …  0.0372987  0.0362684  0.030892\n",
       " 0.0483308  0.0647852  0.0352406     0.0650439  0.041227   0.0429126\n",
       " 0.0167745  0.0184331  0.0190468     0.0163051  0.0187535  0.0207827\n",
       " ⋮                                ⋱                        \n",
       " 0.0225894  0.0546669  0.0286804     0.0329627  0.0450235  0.0232011\n",
       " 0.0365112  0.0817468  0.0427176     0.0537856  0.0589841  0.0348148\n",
       " 0.042611   0.144238   0.0506673  …  0.0650722  0.0870568  0.0414873\n",
       " 0.0145437  0.0143376  0.0174237     0.0122711  0.0137511  0.0188275\n",
       " 0.0221861  0.0639586  0.0276175     0.0346384  0.0574745  0.0195703\n",
       " 0.0289278  0.0574626  0.0308949     0.0332916  0.0486605  0.0295438\n",
       " 0.0356019  0.0663898  0.030569      0.0446468  0.0497479  0.0306236\n",
       " 0.0238194  0.0469344  0.0280667  …  0.0296962  0.0293565  0.0285984\n",
       " 0.0326716  0.0686421  0.0327006     0.0404702  0.0471118  0.0338005\n",
       " 0.0444449  0.069817   0.0392735     0.129926   0.0570734  0.0408721\n",
       " 0.0343089  0.0986843  0.0510524     0.0570734  0.161157   0.0267712\n",
       " 0.0362875  0.0383996  0.0292667     0.0408721  0.0267712  0.0595073"
      ]
     },
     "execution_count": 17,
     "metadata": {},
     "output_type": "execute_result"
    }
   ],
   "source": [
    "Σ = cov(all_firms_return_matrix) |> x-> x*(1/252) # annualized, historical volatility"
   ]
  },
  {
   "cell_type": "markdown",
   "id": "357a21f1-dedb-4e00-9ea9-7c8f37192eff",
   "metadata": {},
   "source": [
    "## Task 1: Compute `low` and `high` correlation ticker collections\n",
    "Let's begin by computing `low` and `high` correlation partners for each ticker in the `list_of_all_tickers` array. We begin by initializing storage for the correlation data in the `correlated_ticker_pairs::Dict{String, Array{Tuple{String, String, Float64},1}}` dictionary. We populate this dictionary using a `for-loop` over the `list_of_all_tickers.` For each ticker:\n",
    "* We access the ticker at index `i` from the `list_of_all_tickers`. We then access the corresponding row in the covariance matrix `Σ` and then sort using the [Julia sortperm(...) function](https://docs.julialang.org/en/v1/base/sort/#Base.sortperm). This function returns the permutation vector that will sort the covariance entries from `smallest` to `largest.` Finally, we generate a list of tickers sorted by correlation in ascending order for each value of `test_ticker` using an [array comprehension operation](https://docs.julialang.org/en/v1/manual/arrays/#man-comprehensions) in combination with the [Julia pipe operation](https://docs.julialang.org/en/v1/manual/functions/#Function-composition-and-piping). We store both the ticker and the entry of the covariance matrix:"
   ]
  },
  {
   "cell_type": "code",
   "execution_count": 19,
   "id": "186ec595-fbb3-4647-ae9e-6d3fb7532f14",
   "metadata": {},
   "outputs": [],
   "source": [
    "correlated_ticker_pairs = Dict{String, Array{Tuple{String,String,Float64},1}}();\n",
    "for i ∈ eachindex(list_of_all_tickers)\n",
    "    test_ticker = list_of_all_tickers[i];\n",
    "    id = sortperm(Σ[i,:])\n",
    "    [(test_ticker, list_of_all_tickers[id[j]],Σ[i,id[j]]) for j ∈ eachindex(id)] |> tuple -> correlated_ticker_pairs[test_ticker] = tuple;\n",
    "end"
   ]
  },
  {
   "cell_type": "markdown",
   "id": "f84bf5e1-6f20-44db-a9fc-5072bb316c11",
   "metadata": {},
   "source": [
    "For example, to see the ordered collection of tickers organized from the smallest to the largest correlation) for [Goldman Sachs](https://www.goldmansachs.com/) (with ticker symbol `GS`), pass the ticker into the `correlated_ticker_pairs` dictionary:"
   ]
  },
  {
   "cell_type": "code",
   "execution_count": 21,
   "id": "422c9ffe-66a1-4603-b75a-03db9ccf72e8",
   "metadata": {},
   "outputs": [
    {
     "data": {
      "text/plain": [
       "460-element Vector{Tuple{String, String, Float64}}:\n",
       " (\"GS\", \"GLD\", -0.00027817835675915127)\n",
       " (\"GS\", \"CLX\", 0.00017389517786171914)\n",
       " (\"GS\", \"CHD\", 0.0025780210236035113)\n",
       " (\"GS\", \"CPB\", 0.0036782063489699986)\n",
       " (\"GS\", \"KR\", 0.0048050835484578485)\n",
       " (\"GS\", \"GIS\", 0.006697532781520435)\n",
       " (\"GS\", \"HRL\", 0.006789791630943983)\n",
       " (\"GS\", \"KMB\", 0.007484237039032816)\n",
       " (\"GS\", \"SJM\", 0.00766703336177003)\n",
       " (\"GS\", \"NEM\", 0.008583515110070584)\n",
       " (\"GS\", \"K\", 0.009132882048986397)\n",
       " (\"GS\", \"SLV\", 0.010541791262598011)\n",
       " (\"GS\", \"MKC\", 0.010545506113716381)\n",
       " ⋮\n",
       " (\"GS\", \"MGM\", 0.07867087841419902)\n",
       " (\"GS\", \"KEY\", 0.07890239758878109)\n",
       " (\"GS\", \"AAL\", 0.07949443591855568)\n",
       " (\"GS\", \"CMA\", 0.07951282442005278)\n",
       " (\"GS\", \"UAL\", 0.0806951778469048)\n",
       " (\"GS\", \"PVH\", 0.08114604456177187)\n",
       " (\"GS\", \"PENN\", 0.08456080920885338)\n",
       " (\"GS\", \"APA\", 0.08768820391784436)\n",
       " (\"GS\", \"RCL\", 0.08941673165948329)\n",
       " (\"GS\", \"CCL\", 0.09399196188912111)\n",
       " (\"GS\", \"LNC\", 0.0956408511965509)\n",
       " (\"GS\", \"NCLH\", 0.09719162742237213)"
      ]
     },
     "execution_count": 21,
     "metadata": {},
     "output_type": "execute_result"
    }
   ],
   "source": [
    "correlated_ticker_pairs[\"GS\"] # pass ticker symbol as a String into the dictionary"
   ]
  },
  {
   "cell_type": "markdown",
   "id": "5531f188-4746-4cd2-9fea-6bc0acf15fb0",
   "metadata": {},
   "source": [
    "### Check: Verify the `correlated_ticker_pairs` data dictionary\n",
    "Before we compute our portfolio's list of high and low tickers, let's verify the data in the `correlated_ticker_pairs` dictionary. First, select a random ticker from the list of tickers. Then, check the data in the `correlated_ticker_pairs` dictionary against the covariance matrix to make sure we captured the data correctly.\n",
    "* First we select the `random_ticker_for_check` at random using the [built-in Julia rand(...) function](https://docs.julialang.org/en/v1/stdlib/Random/#Base.rand). Then, we iterate through each `tuple`$\\in$`data_to_check,` where `data_to_check` is the data from the `correlated_ticker_pairs` dictionary corresponding to the `random_ticker_for_check.` We then get the `(i,j)` indexes of the `random_ticker_for_check`, and the `ticker` in correlation dictionary.\n",
    "* Finally, we compare the covariance value stored in the `tuple` versus the direct value in the covariance matrix, i.e., `Σ[i,j] == value` using the [@assert macro](https://docs.julialang.org/en/v1/base/base/#Base.@assert) and the [Julia isapprox(...) function](https://docs.julialang.org/en/v1/base/math/#Base.isapprox). If the two values are not approximately equal, an [Assertion error](https://docs.julialang.org/en/v1/base/base/#Core.AssertionError) is thrown."
   ]
  },
  {
   "cell_type": "code",
   "execution_count": 23,
   "id": "653bfba3-2c74-401e-a929-f82dc8cfb674",
   "metadata": {},
   "outputs": [],
   "source": [
    "random_ticker_for_check = rand(list_of_all_tickers);\n",
    "data_to_check = correlated_ticker_pairs[random_ticker_for_check];\n",
    "for data_tuple ∈ data_to_check\n",
    "    \n",
    "    # pull data from the tuple -\n",
    "    me = data_tuple[1];\n",
    "    ticker = data_tuple[2];\n",
    "    value = data_tuple[3];\n",
    "\n",
    "    # find the index of me, and ticker in the list_of_all_tickers\n",
    "    i = findfirst(x-> x==me, list_of_all_tickers);\n",
    "    j = findfirst(x-> x==ticker, list_of_all_tickers);\n",
    "\n",
    "    # check: does value == Σ(i,j)?\n",
    "    @assert isapprox(value, Σ[i,j])\n",
    "end"
   ]
  },
  {
   "cell_type": "markdown",
   "id": "7833e1d7-d487-4344-bf91-e4b828ce601a",
   "metadata": {},
   "source": [
    "### TODO: Generate list of `high` and `low` correlation tickers for our portfolio\n",
    "Fill me in"
   ]
  },
  {
   "cell_type": "code",
   "execution_count": 25,
   "id": "7e0754a4-21a7-4fe6-9dc7-a1a942539655",
   "metadata": {},
   "outputs": [
    {
     "ename": "LoadError",
     "evalue": "MethodError: \u001b[0mCannot `convert` an object of type \u001b[92mTuple{String, String, Float64}\u001b[39m\u001b[0m to an object of type \u001b[91mString\u001b[39m\n\n\u001b[0mClosest candidates are:\n\u001b[0m  convert(::Type{String}, \u001b[91m::StringManipulation.Decoration\u001b[39m)\n\u001b[0m\u001b[90m   @\u001b[39m \u001b[35mStringManipulation\u001b[39m \u001b[90m~/.julia/packages/StringManipulation/5Zfrz/src/\u001b[39m\u001b[90m\u001b[4mdecorations.jl:315\u001b[24m\u001b[39m\n\u001b[0m  convert(::Type{String}, \u001b[91m::Base.JuliaSyntax.Kind\u001b[39m)\n\u001b[0m\u001b[90m   @\u001b[39m \u001b[90mBase\u001b[39m \u001b[90m/Users/julia/.julia/scratchspaces/a66863c6-20e8-4ff4-8a62-49f30b1f605e/agent-cache/default-honeycrisp-XG3Q6T6R70.0/build/default-honeycrisp-XG3Q6T6R70-0/julialang/julia-release-1-dot-10/base/JuliaSyntax/src/\u001b[39m\u001b[90m\u001b[4mkinds.jl:975\u001b[24m\u001b[39m\n\u001b[0m  convert(::Type{String}, \u001b[91m::String\u001b[39m)\n\u001b[0m\u001b[90m   @\u001b[39m \u001b[90mBase\u001b[39m \u001b[90m\u001b[4messentials.jl:321\u001b[24m\u001b[39m\n\u001b[0m  ...\n",
     "output_type": "error",
     "traceback": [
      "MethodError: \u001b[0mCannot `convert` an object of type \u001b[92mTuple{String, String, Float64}\u001b[39m\u001b[0m to an object of type \u001b[91mString\u001b[39m\n\n\u001b[0mClosest candidates are:\n\u001b[0m  convert(::Type{String}, \u001b[91m::StringManipulation.Decoration\u001b[39m)\n\u001b[0m\u001b[90m   @\u001b[39m \u001b[35mStringManipulation\u001b[39m \u001b[90m~/.julia/packages/StringManipulation/5Zfrz/src/\u001b[39m\u001b[90m\u001b[4mdecorations.jl:315\u001b[24m\u001b[39m\n\u001b[0m  convert(::Type{String}, \u001b[91m::Base.JuliaSyntax.Kind\u001b[39m)\n\u001b[0m\u001b[90m   @\u001b[39m \u001b[90mBase\u001b[39m \u001b[90m/Users/julia/.julia/scratchspaces/a66863c6-20e8-4ff4-8a62-49f30b1f605e/agent-cache/default-honeycrisp-XG3Q6T6R70.0/build/default-honeycrisp-XG3Q6T6R70-0/julialang/julia-release-1-dot-10/base/JuliaSyntax/src/\u001b[39m\u001b[90m\u001b[4mkinds.jl:975\u001b[24m\u001b[39m\n\u001b[0m  convert(::Type{String}, \u001b[91m::String\u001b[39m)\n\u001b[0m\u001b[90m   @\u001b[39m \u001b[90mBase\u001b[39m \u001b[90m\u001b[4messentials.jl:321\u001b[24m\u001b[39m\n\u001b[0m  ...\n",
      "",
      "Stacktrace:",
      " [1] push!(a::Vector{String}, item::Tuple{String, String, Float64})",
      "   @ Base ./array.jl:1118",
      " [2] top-level scope",
      "   @ ./In[25]:16"
     ]
    }
   ],
   "source": [
    "base_ticker_array = [\"AMD\", \"AAPL\", \"GM\", \"GS\", \"TGT\"];\n",
    "my_high_correlation_ticker_array = Array{String,1}();\n",
    "for base_ticker ∈ base_ticker_array\n",
    "\n",
    "    list_of_tickers = correlated_ticker_pairs[base_ticker] |> reverse;\n",
    "    \n",
    "    # find high correlation tickers - \n",
    "    counter = 0;\n",
    "    twin_ticker = base_ticker;\n",
    "    while !(in(twin_ticker, my_high_correlation_ticker_array) == false && twin_ticker != base_ticker)\n",
    "        twin_ticker = list_of_tickers[counter+1];\n",
    "        counter += 1;\n",
    "    end\n",
    "\n",
    "    push!(my_high_correlation_ticker_array, base_ticker)\n",
    "    push!(my_high_correlation_ticker_array, twin_ticker)\n",
    "end\n",
    "my_high_correlation_ticker_array"
   ]
  },
  {
   "cell_type": "code",
   "execution_count": null,
   "id": "eb2784e4-82ba-4582-b8d3-7be896dcce20",
   "metadata": {},
   "outputs": [],
   "source": []
  },
  {
   "cell_type": "code",
   "execution_count": 26,
   "id": "0108c91a-ba8b-42cb-9a1f-cd9831e531db",
   "metadata": {},
   "outputs": [
    {
     "ename": "LoadError",
     "evalue": "MethodError: \u001b[0mCannot `convert` an object of type \u001b[92mTuple{String, String, Float64}\u001b[39m\u001b[0m to an object of type \u001b[91mString\u001b[39m\n\n\u001b[0mClosest candidates are:\n\u001b[0m  convert(::Type{String}, \u001b[91m::StringManipulation.Decoration\u001b[39m)\n\u001b[0m\u001b[90m   @\u001b[39m \u001b[35mStringManipulation\u001b[39m \u001b[90m~/.julia/packages/StringManipulation/5Zfrz/src/\u001b[39m\u001b[90m\u001b[4mdecorations.jl:315\u001b[24m\u001b[39m\n\u001b[0m  convert(::Type{String}, \u001b[91m::Base.JuliaSyntax.Kind\u001b[39m)\n\u001b[0m\u001b[90m   @\u001b[39m \u001b[90mBase\u001b[39m \u001b[90m/Users/julia/.julia/scratchspaces/a66863c6-20e8-4ff4-8a62-49f30b1f605e/agent-cache/default-honeycrisp-XG3Q6T6R70.0/build/default-honeycrisp-XG3Q6T6R70-0/julialang/julia-release-1-dot-10/base/JuliaSyntax/src/\u001b[39m\u001b[90m\u001b[4mkinds.jl:975\u001b[24m\u001b[39m\n\u001b[0m  convert(::Type{String}, \u001b[91m::String\u001b[39m)\n\u001b[0m\u001b[90m   @\u001b[39m \u001b[90mBase\u001b[39m \u001b[90m\u001b[4messentials.jl:321\u001b[24m\u001b[39m\n\u001b[0m  ...\n",
     "output_type": "error",
     "traceback": [
      "MethodError: \u001b[0mCannot `convert` an object of type \u001b[92mTuple{String, String, Float64}\u001b[39m\u001b[0m to an object of type \u001b[91mString\u001b[39m\n\n\u001b[0mClosest candidates are:\n\u001b[0m  convert(::Type{String}, \u001b[91m::StringManipulation.Decoration\u001b[39m)\n\u001b[0m\u001b[90m   @\u001b[39m \u001b[35mStringManipulation\u001b[39m \u001b[90m~/.julia/packages/StringManipulation/5Zfrz/src/\u001b[39m\u001b[90m\u001b[4mdecorations.jl:315\u001b[24m\u001b[39m\n\u001b[0m  convert(::Type{String}, \u001b[91m::Base.JuliaSyntax.Kind\u001b[39m)\n\u001b[0m\u001b[90m   @\u001b[39m \u001b[90mBase\u001b[39m \u001b[90m/Users/julia/.julia/scratchspaces/a66863c6-20e8-4ff4-8a62-49f30b1f605e/agent-cache/default-honeycrisp-XG3Q6T6R70.0/build/default-honeycrisp-XG3Q6T6R70-0/julialang/julia-release-1-dot-10/base/JuliaSyntax/src/\u001b[39m\u001b[90m\u001b[4mkinds.jl:975\u001b[24m\u001b[39m\n\u001b[0m  convert(::Type{String}, \u001b[91m::String\u001b[39m)\n\u001b[0m\u001b[90m   @\u001b[39m \u001b[90mBase\u001b[39m \u001b[90m\u001b[4messentials.jl:321\u001b[24m\u001b[39m\n\u001b[0m  ...\n",
      "",
      "Stacktrace:",
      " [1] push!(a::Vector{String}, item::Tuple{String, String, Float64})",
      "   @ Base ./array.jl:1118",
      " [2] top-level scope",
      "   @ ./In[26]:17"
     ]
    }
   ],
   "source": [
    "base_ticker_array = [\"AMD\", \"AAPL\", \"GM\", \"GS\", \"TGT\"];\n",
    "base_ticker_array = [\"AMD\", \"AAPL\", \"MSFT\", \"GS\", \"WFC\", \"INTC\", \"MRK\", \"PFE\"];\n",
    "my_low_correlation_ticker_array = Array{String,1}();\n",
    "for base_ticker ∈ base_ticker_array\n",
    "\n",
    "    list_of_tickers = correlated_ticker_pairs[base_ticker];\n",
    "    \n",
    "    # find high correlation tickers - \n",
    "    counter = 0;\n",
    "    twin_ticker = base_ticker;\n",
    "    while !(in(twin_ticker, my_low_correlation_ticker_array) == false && twin_ticker != base_ticker)\n",
    "        twin_ticker = list_of_tickers[counter+1];\n",
    "        counter += 1;\n",
    "    end\n",
    "\n",
    "    push!(my_low_correlation_ticker_array, base_ticker)\n",
    "    push!(my_low_correlation_ticker_array, twin_ticker)\n",
    "end\n",
    "my_low_correlation_ticker_array"
   ]
  },
  {
   "cell_type": "markdown",
   "id": "36fa24dd-5764-4303-8652-d885eba59c0d",
   "metadata": {},
   "source": [
    "## Task 2: Compute the efficient frontier for the `high` correlation collection of tickers\n",
    "Create an instance of the `MyMarkowitzRiskyAssetOnlyPortfiolioChoiceProblem` type, and store this in the `problem_risk` variable using the `build(...)` method. You'll need to pass your covariance array $\\hat{\\Sigma}$, the expected return array $\\hat{\\mu}$, along with bounds and an initial guess, to the `build(...)` method. Then, we can use the `solve(...)` method for different values of the minimum desired return to compute the `efficient frontier`.\n",
    "\n",
    "#### Implementation\n",
    "First, let's set up the bounds and some other constants that are required for the computation of the portfolio weights along the `efficient frontier`:"
   ]
  },
  {
   "cell_type": "code",
   "execution_count": 28,
   "id": "366296fd-ec05-430f-a3eb-bbf4861b617a",
   "metadata": {},
   "outputs": [],
   "source": [
    "number_of_firms = length(my_high_correlation_ticker_array);\n",
    "wₒ = zeros(number_of_firms);\n",
    "wₒ[1] = 1.0;\n",
    "bounds = zeros(number_of_firms,2);\n",
    "bounds[:,2] .= 1.0;\n",
    "risk_free_rate = 0.05;\n",
    "number_of_points = 50;"
   ]
  },
  {
   "cell_type": "markdown",
   "id": "fa8412c8-02b7-493f-a719-33b5147f73b5",
   "metadata": {},
   "source": [
    "Next, we'll get the indexes of the `high` correlation tickers that we computed above, i.e., we'll look up the position of the tickers in the `all_tickers` list and save these values in the `my_list_of_firm_ids_hc` variable."
   ]
  },
  {
   "cell_type": "code",
   "execution_count": 30,
   "id": "8e18735b-ee63-4d9e-8609-f0148c2e47ec",
   "metadata": {},
   "outputs": [
    {
     "ename": "LoadError",
     "evalue": "UndefVarError: `all_tickers` not defined",
     "output_type": "error",
     "traceback": [
      "UndefVarError: `all_tickers` not defined",
      "",
      "Stacktrace:",
      " [1] top-level scope",
      "   @ In[30]:3"
     ]
    }
   ],
   "source": [
    "my_list_of_firm_ids_hc = Array{Int64,1}();\n",
    "for ticker ∈ my_high_correlation_ticker_array\n",
    "    firm_index = findfirst(x->x==ticker, all_tickers);    \n",
    "    push!(my_list_of_firm_ids_hc, firm_index)\n",
    "end"
   ]
  },
  {
   "cell_type": "markdown",
   "id": "603cdab5-d316-4f3d-abc9-d712d8810238",
   "metadata": {},
   "source": [
    "Then, let's build an instance of the `MyMarkowitzRiskyAssetOnlyPortfiolioChoiceProblem` type using the `build(...)` method, passing in the data for the required fields for the `high` correlation portfolio. Store this problem object in the `problem_risk_high_correlation` variable.\n",
    "* `Note`: we are using the short-cut syntax to extract the correct covariance array `Σ` and the expected return vector `μ`, i.e., we pass in the indexes for the firms we are interested in (stored in the `my_list_of_firm_ids_hc` variable), and the correct version of the data gets returned from the short-cut methods."
   ]
  },
  {
   "cell_type": "code",
   "execution_count": 32,
   "id": "06cffdda-3c16-4f48-a4c0-5e83f1e96e8a",
   "metadata": {},
   "outputs": [],
   "source": [
    "problem_risk_high_correlation = build(MyMarkowitzRiskyAssetOnlyPortfiolioChoiceProblem, (\n",
    "    Σ = Σ(my_list_of_firm_ids_hc), # short-cut: extracts the correct covariance\n",
    "    μ = μ(my_list_of_firm_ids_hc), # short-cut: extracts the correct expected return\n",
    "    bounds = bounds,\n",
    "    initial = wₒ,\n",
    "    R = 0.0\n",
    "));"
   ]
  },
  {
   "cell_type": "markdown",
   "id": "5c8d67ef-fbcc-4b6b-8645-cbe38c5d47cb",
   "metadata": {},
   "source": [
    "Now, create an array holding the minimum desired rewards (the calculation must achieve at least this much reward). We store these values in the `minimum_desired_reward_array` variable (we'll use this for both `task 2` and `task 3`).\n",
    "* Let's start at the `risk-free-rate` and then look at `number_of_points` until we hit a `10`$\\times$`risk-free-rate` annualized return:"
   ]
  },
  {
   "cell_type": "code",
   "execution_count": 34,
   "id": "20665871-bb9d-4d9d-bd35-d2c863554e08",
   "metadata": {},
   "outputs": [],
   "source": [
    "minimum_desired_reward_array = range(risk_free_rate, stop = 10.0*risk_free_rate, length = number_of_points) |> collect;"
   ]
  },
  {
   "cell_type": "markdown",
   "id": "aacc75cd-0487-4a6d-9025-0b98f158cad3",
   "metadata": {},
   "source": [
    "Finally, we now iterate through the `minimum_desired_reward_array` and compute the minimum risk required to achieve the specified reward level using a `for`-loop. In particular, for each pass through the loop, we:\n",
    "* Update the `problem_risk` variable with the minimum desired reward (set the `R` field)\n",
    "* We then pass the updated `problem` object to the `solve(...)` method (which initializes and solves the optimization problem). The solution returned from the `solve(...)` method is stored in the `solution` dictionary. \n",
    "    * We check the `status` of the solution. If the `status` indicates an optimal solution was found, we store that solution in the `efficient_frontier_high_correlation` dictionary. In particular, we store the portfolio risk $\\sigma_{\\mathcal{P}}$ as the `key` and the portfolio's expected return as the `value` in the `efficient_frontier_high_correlation` dictionary."
   ]
  },
  {
   "cell_type": "code",
   "execution_count": 36,
   "id": "4780bbe5-71c9-42ce-bf64-7ddcdbda69e2",
   "metadata": {},
   "outputs": [
    {
     "name": "stdout",
     "output_type": "stream",
     "text": [
      "Failed: desired R = 0.05. Infeasible\n",
      "Failed: desired R = 0.05918367346938776. Infeasible\n",
      "Failed: desired R = 0.06836734693877551. Infeasible\n",
      "Failed: desired R = 0.07755102040816327. Infeasible\n",
      "Failed: desired R = 0.08673469387755102. Infeasible\n",
      "Failed: desired R = 0.09591836734693877. Infeasible\n",
      "Failed: desired R = 0.10510204081632653. Infeasible\n",
      "Failed: desired R = 0.11428571428571428. Infeasible\n",
      "Failed: desired R = 0.12346938775510204. Infeasible\n",
      "Failed: desired R = 0.1326530612244898. Infeasible\n",
      "Failed: desired R = 0.14183673469387756. Infeasible\n",
      "Failed: desired R = 0.1510204081632653. Infeasible\n",
      "Failed: desired R = 0.16020408163265307. Infeasible\n",
      "Failed: desired R = 0.16938775510204082. Infeasible\n",
      "Failed: desired R = 0.17857142857142858. Infeasible\n",
      "Failed: desired R = 0.18775510204081633. Infeasible\n",
      "Failed: desired R = 0.19693877551020408. Infeasible\n",
      "Failed: desired R = 0.20612244897959184. Infeasible\n",
      "Failed: desired R = 0.2153061224489796. Infeasible\n",
      "Failed: desired R = 0.22448979591836735. Infeasible\n",
      "Failed: desired R = 0.2336734693877551. Infeasible\n",
      "Failed: desired R = 0.24285714285714285. Infeasible\n",
      "Failed: desired R = 0.25204081632653064. Infeasible\n",
      "Failed: desired R = 0.2612244897959184. Infeasible\n",
      "Failed: desired R = 0.27040816326530615. Infeasible\n",
      "Failed: desired R = 0.2795918367346939. Infeasible\n",
      "Failed: desired R = 0.28877551020408165. Infeasible\n",
      "Failed: desired R = 0.2979591836734694. Infeasible\n",
      "Failed: desired R = 0.30714285714285716. Infeasible\n",
      "Failed: desired R = 0.3163265306122449. Infeasible\n",
      "Failed: desired R = 0.32551020408163267. Infeasible\n",
      "Failed: desired R = 0.3346938775510204. Infeasible\n",
      "Failed: desired R = 0.3438775510204082. Infeasible\n",
      "Failed: desired R = 0.35306122448979593. Infeasible\n",
      "Failed: desired R = 0.3622448979591837. Infeasible\n",
      "Failed: desired R = 0.37142857142857144. Infeasible\n",
      "Failed: desired R = 0.3806122448979592. Infeasible\n",
      "Failed: desired R = 0.38979591836734695. Infeasible\n",
      "Failed: desired R = 0.3989795918367347. Infeasible\n",
      "Failed: desired R = 0.40816326530612246. Infeasible\n",
      "Failed: desired R = 0.4173469387755102. Infeasible\n",
      "Failed: desired R = 0.42653061224489797. Infeasible\n",
      "Failed: desired R = 0.4357142857142857. Infeasible\n",
      "Failed: desired R = 0.4448979591836735. Infeasible\n",
      "Failed: desired R = 0.45408163265306123. Infeasible\n",
      "Failed: desired R = 0.463265306122449. Infeasible\n",
      "Failed: desired R = 0.47244897959183674. Infeasible\n",
      "Failed: desired R = 0.4816326530612245. Infeasible\n",
      "Failed: desired R = 0.49081632653061225. Infeasible\n",
      "Failed: desired R = 0.5. Infeasible\n"
     ]
    }
   ],
   "source": [
    "efficient_frontier_high_correlation = Dict{Float64,Float64}();\n",
    "for i ∈ eachindex(minimum_desired_reward_array)\n",
    "    \n",
    "    # update the problem object -\n",
    "    problem_risk_high_correlation.R = minimum_desired_reward_array[i];\n",
    "\n",
    "    try\n",
    "    \n",
    "        # compute -\n",
    "        solution = solve(problem_risk_high_correlation)\n",
    "\n",
    "        # check: did this converge?\n",
    "        status_flag = solution[\"status\"];    \n",
    "        if (status_flag == MathOptInterface.LOCALLY_SOLVED)\n",
    "            key = sqrt(solution[\"objective_value\"]);\n",
    "            efficient_frontier_high_correlation[key] = solution[\"reward\"];\n",
    "        end\n",
    "    catch err\n",
    "        println(\"Failed: desired R = $(problem_risk_high_correlation.R). Infeasible\");\n",
    "    end\n",
    "end\n",
    "efficient_frontier_high_correlation;"
   ]
  },
  {
   "cell_type": "markdown",
   "id": "38baa440-7440-4deb-8fc0-85ef1cabac40",
   "metadata": {},
   "source": [
    "### Visualize the `high` correlation efficient frontier\n",
    "`Unhide` the code block below to see how we plotted the high-correlation efficient frontier, i.e., the min-variance solution for the collection of equities with highly correlated returns:"
   ]
  },
  {
   "cell_type": "code",
   "execution_count": 38,
   "id": "4e3374a1-4ceb-4718-b0d8-fa686c4373b8",
   "metadata": {
    "jupyter": {
     "source_hidden": true
    }
   },
   "outputs": [
    {
     "ename": "LoadError",
     "evalue": "MethodError: reducing over an empty collection is not allowed; consider supplying `init` to the reducer",
     "output_type": "error",
     "traceback": [
      "MethodError: reducing over an empty collection is not allowed; consider supplying `init` to the reducer",
      "",
      "Stacktrace:",
      " [1] reduce_empty(op::Base.BottomRF{typeof(max)}, ::Type{Pair{Float64, Float64}})",
      "   @ Base ./reduce.jl:360",
      " [2] reduce_empty_iter",
      "   @ ./reduce.jl:384 [inlined]",
      " [3] reduce_empty_iter",
      "   @ ./reduce.jl:383 [inlined]",
      " [4] foldl_impl",
      "   @ ./reduce.jl:49 [inlined]",
      " [5] mapfoldl_impl",
      "   @ ./reduce.jl:44 [inlined]",
      " [6] mapfoldl",
      "   @ ./reduce.jl:175 [inlined]",
      " [7] mapreduce",
      "   @ ./reduce.jl:307 [inlined]",
      " [8] maximum(a::Dict{Float64, Float64})",
      "   @ Base ./reduce.jl:764",
      " [9] top-level scope",
      "   @ In[38]:1"
     ]
    }
   ],
   "source": [
    "plot(efficient_frontier_high_correlation, lw=4, xlabel=\"Portfolio Risk (sqrt)\", \n",
    "    ylabel=\"Portfolio Return (log return)\", fontsize=18, label=\"Efficient Frontier (high-correlation)\", c=:red, \n",
    "    xlim=(0.0, 1.2*maximum(efficient_frontier_high_correlation).first))\n",
    "scatter!(efficient_frontier_high_correlation, label=\"\", c=:white, mec=:black, ms=3)"
   ]
  },
  {
   "cell_type": "markdown",
   "id": "1996d526-909e-40bd-ae6a-e38caf4f0c8e",
   "metadata": {},
   "source": [
    "## Task 3: Compute the efficient frontier for the `low` correlation collection of tickers\n",
    "Similar to the previous `high` correlation case, let's look up the position of the `low` correlation tickers in the `all_tickers` list and save these values in the `my_list_of_firm_ids_lc` variable."
   ]
  },
  {
   "cell_type": "code",
   "execution_count": 40,
   "id": "628a6286-9b4a-47ef-a272-d0054fd4ab2f",
   "metadata": {},
   "outputs": [
    {
     "ename": "LoadError",
     "evalue": "UndefVarError: `all_tickers` not defined",
     "output_type": "error",
     "traceback": [
      "UndefVarError: `all_tickers` not defined",
      "",
      "Stacktrace:",
      " [1] top-level scope",
      "   @ In[40]:3"
     ]
    }
   ],
   "source": [
    "my_list_of_firm_ids_lc = Array{Int64,1}();\n",
    "for ticker ∈ my_low_correlation_ticker_array\n",
    "    firm_index = findfirst(x->x==ticker, all_tickers);    \n",
    "    push!(my_list_of_firm_ids_lc, firm_index)\n",
    "end"
   ]
  },
  {
   "cell_type": "markdown",
   "id": "33bd6776-f06b-4a14-969d-e271a6ce92a8",
   "metadata": {},
   "source": [
    "Then, let's build an instance of the `MyMarkowitzRiskyAssetOnlyPortfiolioChoiceProblem` type using the `build(...)` method for the `low` correlation collection of tickers, passing in the data for the required fields for the `low` correlation portfolio. Store this problem object in the `problem_risk_low_correlation` variable.\n",
    "* `Note`: we are again using the short-cut syntax to extract the correct covariance array `Σ` and the expected return vector `μ`, i.e., we pass in the indexes for the firms we are interested in (stored in the `my_list_of_firm_ids_hc` variable), and the correct version of the data gets returned from the short-cut methods."
   ]
  },
  {
   "cell_type": "code",
   "execution_count": 42,
   "id": "a0d6e6bc-0e4e-447f-9800-88e8cc4870e6",
   "metadata": {},
   "outputs": [],
   "source": [
    "problem_risk_low_correlation = build(MyMarkowitzRiskyAssetOnlyPortfiolioChoiceProblem, (\n",
    "    Σ = Σ(my_list_of_firm_ids_lc), # short-cut: extracts the correct covariance,\n",
    "    μ = μ(my_list_of_firm_ids_lc), # short-cut: extracts the correct expected return\n",
    "    bounds = bounds,\n",
    "    initial = wₒ,\n",
    "    R = 0.0\n",
    "));"
   ]
  },
  {
   "cell_type": "markdown",
   "id": "471bb406-76ad-440f-a579-cc4b90a86723",
   "metadata": {},
   "source": [
    "Finally, we now iterate through the `minimum_desired_reward_array` and compute the minimum risk required to achieve the specified reward level using a `for`-loop. In particular, for each pass through the loop, we:\n",
    "* Update the `problem_risk_low_correlation` variable with the minimum desired reward (set the `R` field)\n",
    "* We then pass the updated `problem` object to the `solve(...)` method (which initializes and solves the optimization problem). The solution returned from the `solve(...)` method is stored in the `solution` dictionary. \n",
    "    * We check the `status` of the solution. If the `status` indicates an optimal solution was found, we store that solution in the `efficient_frontier_low_correlation` dictionary. In particular, we store the portfolio risk $\\sigma_{\\mathcal{P}}$ as the `key` and the portfolio's expected return as the `value` in the `efficient_frontier_low_correlation` dictionary."
   ]
  },
  {
   "cell_type": "code",
   "execution_count": 44,
   "id": "c021fb32-f181-4380-bebe-19032d054b53",
   "metadata": {},
   "outputs": [
    {
     "ename": "LoadError",
     "evalue": "Nonsensical dimensions",
     "output_type": "error",
     "traceback": [
      "Nonsensical dimensions",
      "",
      "Stacktrace:",
      "  [1] error(s::String)",
      "    @ Base ./error.jl:35",
      "  [2] NLPModels.NLPModelMeta{Float64, Vector{Float64}}(nvar::Int64; x0::Vector{Float64}, lvar::Vector{Float64}, uvar::Vector{Float64}, nlvb::Int64, nlvo::Int64, nlvc::Int64, ncon::Int64, y0::Vector{Float64}, lcon::Vector{Float64}, ucon::Vector{Float64}, nnzo::Int64, nnzj::Int64, lin_nnzj::Int64, nln_nnzj::Int64, nnzh::Int64, lin::Vector{Int64}, minimize::Bool, islp::Bool, name::String)",
      "    @ NLPModels ~/.julia/packages/NLPModels/XBcWL/src/nlp/meta.jl:140",
      "  [3] NLPModelMeta",
      "    @ ~/.julia/packages/NLPModels/XBcWL/src/nlp/meta.jl:117 [inlined]",
      "  [4] NLPModelMeta",
      "    @ ~/.julia/packages/NLPModels/XBcWL/src/nlp/meta.jl:216 [inlined]",
      "  [5] MadNLP.MOIModel(model::MadNLP.Optimizer)",
      "    @ MadNLP ~/.julia/packages/MadNLP/Wtg2S/src/Interfaces/MOI_interface.jl:670",
      "  [6] optimize!(model::MadNLP.Optimizer)",
      "    @ MadNLP ~/.julia/packages/MadNLP/Wtg2S/src/Interfaces/MOI_interface.jl:688",
      "  [7] optimize!",
      "    @ ~/.julia/packages/MathOptInterface/2CULs/src/Bridges/bridge_optimizer.jl:380 [inlined]",
      "  [8] optimize!",
      "    @ ~/.julia/packages/MathOptInterface/2CULs/src/MathOptInterface.jl:85 [inlined]",
      "  [9] optimize!(m::MathOptInterface.Utilities.CachingOptimizer{MathOptInterface.Bridges.LazyBridgeOptimizer{MadNLP.Optimizer}, MathOptInterface.Utilities.UniversalFallback{MathOptInterface.Utilities.Model{Float64}}})",
      "    @ MathOptInterface.Utilities ~/.julia/packages/MathOptInterface/2CULs/src/Utilities/cachingoptimizer.jl:316",
      " [10] optimize!(model::JuMP.Model; ignore_optimize_hook::Bool, _differentiation_backend::MathOptInterface.Nonlinear.SparseReverseMode, kwargs::@Kwargs{})",
      "    @ JuMP ~/.julia/packages/JuMP/Gwn88/src/optimizer_interface.jl:457",
      " [11] optimize!",
      "    @ ~/.julia/packages/JuMP/Gwn88/src/optimizer_interface.jl:409 [inlined]",
      " [12] solve(problem::MyMarkowitzRiskyAssetOnlyPortfiolioChoiceProblem)",
      "    @ VLQuantitativeFinancePackage ~/.julia/packages/VLQuantitativeFinancePackage/S2g2y/src/Solve.jl:49",
      " [13] top-level scope",
      "    @ ./In[44]:8"
     ]
    }
   ],
   "source": [
    "efficient_frontier_low_correlation = Dict{Float64,Float64}();\n",
    "for i ∈ eachindex(minimum_desired_reward_array)\n",
    "    \n",
    "    # update the problem object -\n",
    "    problem_risk_low_correlation.R = minimum_desired_reward_array[i];\n",
    "    \n",
    "    # compute -\n",
    "    solution = solve(problem_risk_low_correlation)\n",
    "\n",
    "    # check: did this converge?\n",
    "    status_flag = solution[\"status\"];\n",
    "    if (status_flag == MathOptInterface.LOCALLY_SOLVED)\n",
    "        key = sqrt(solution[\"objective_value\"]);\n",
    "        efficient_frontier_low_correlation[key] = solution[\"reward\"];\n",
    "    end\n",
    "end\n",
    "efficient_frontier_low_correlation;"
   ]
  },
  {
   "cell_type": "markdown",
   "id": "21390518-c505-4255-8a93-3828fe530e5a",
   "metadata": {},
   "source": [
    "### Visualize the `low` versus the `high` correlation efficient frontier"
   ]
  },
  {
   "cell_type": "code",
   "execution_count": 46,
   "id": "56761e94-72d5-4bc9-a7bd-e44ad405af2a",
   "metadata": {},
   "outputs": [
    {
     "ename": "LoadError",
     "evalue": "MethodError: reducing over an empty collection is not allowed; consider supplying `init` to the reducer",
     "output_type": "error",
     "traceback": [
      "MethodError: reducing over an empty collection is not allowed; consider supplying `init` to the reducer",
      "",
      "Stacktrace:",
      " [1] reduce_empty(op::Base.BottomRF{typeof(max)}, ::Type{Pair{Float64, Float64}})",
      "   @ Base ./reduce.jl:360",
      " [2] reduce_empty_iter",
      "   @ ./reduce.jl:384 [inlined]",
      " [3] reduce_empty_iter",
      "   @ ./reduce.jl:383 [inlined]",
      " [4] foldl_impl",
      "   @ ./reduce.jl:49 [inlined]",
      " [5] mapfoldl_impl",
      "   @ ./reduce.jl:44 [inlined]",
      " [6] mapfoldl",
      "   @ ./reduce.jl:175 [inlined]",
      " [7] mapreduce",
      "   @ ./reduce.jl:307 [inlined]",
      " [8] maximum(a::Dict{Float64, Float64})",
      "   @ Base ./reduce.jl:764",
      " [9] top-level scope",
      "   @ In[46]:1"
     ]
    }
   ],
   "source": [
    "plot(efficient_frontier_low_correlation, lw=4, xlabel=\"Portfolio Risk (sqrt)\", \n",
    "    ylabel=\"Portfolio Return (log return)\", fontsize=18, label=\"Efficient Frontier (low-correlation)\", c=:gray69, \n",
    "    xlim=(0.0, 1.2*maximum(efficient_frontier_low_correlation).first))\n",
    "scatter!(efficient_frontier_low_correlation, label=\"\", c=:white, mec=:black, ms=3)\n",
    "\n",
    "plot!(efficient_frontier_high_correlation, lw=4, xlabel=\"Portfolio Risk (sqrt)\", \n",
    "    ylabel=\"Portfolio Return (log return)\", fontsize=18, label=\"Efficient Frontier (high-correlation)\", c=:red, \n",
    "    xlim=(0.0, 1.2*maximum(efficient_frontier_high_correlation).first))\n",
    "scatter!(efficient_frontier_high_correlation, label=\"\", c=:white, mec=:black, ms=3)"
   ]
  },
  {
   "cell_type": "markdown",
   "id": "7e02ac44-85c1-488c-9647-77900557d4ba",
   "metadata": {
    "editable": true,
    "slideshow": {
     "slide_type": ""
    },
    "tags": []
   },
   "source": [
    "## Disclaimer and Risks\n",
    "\n",
    "__This content is offered solely for training and informational purposes__. No offer or solicitation to buy or sell securities or derivative products or any investment or trading advice or strategy is made, given, or endorsed by the teaching team.\n",
    "\n",
    "__Trading involves risk__. Carefully review your financial situation before investing in securities, futures contracts, options, or commodity interests. Past performance, whether actual or indicated by historical tests of strategies, is no guarantee of future performance or success. Trading is generally inappropriate for someone with limited resources, investment or trading experience, or a low-risk tolerance. Only risk capital that is not required for living expenses.\n",
    "\n",
    "__You are fully responsible for any investment or trading decisions you make__. Such decisions should be based solely on evaluating your financial circumstances, investment or trading objectives, risk tolerance, and liquidity needs."
   ]
  }
 ],
 "metadata": {
  "kernelspec": {
   "display_name": "Julia 1.10.4",
   "language": "julia",
   "name": "julia-1.10"
  },
  "language_info": {
   "file_extension": ".jl",
   "mimetype": "application/julia",
   "name": "julia",
   "version": "1.10.4"
  }
 },
 "nbformat": 4,
 "nbformat_minor": 5
}
