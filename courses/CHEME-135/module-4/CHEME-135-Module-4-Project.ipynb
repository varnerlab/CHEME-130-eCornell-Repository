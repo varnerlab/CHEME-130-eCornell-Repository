{
 "cells": [
  {
   "cell_type": "markdown",
   "id": "ff1d80a2-3db9-402c-9d26-812bdb715b4b",
   "metadata": {},
   "source": [
    "# Project: Not sure yet\n",
    "\n",
    "### Learning objectives\n",
    "The objective of this project is to compute the expected return vector $\\mathbb{E}(R_{i})$ and the covariance matrix $\\mathbf{\\Sigma}$ using the single index models, where we use `SPY` as the market, or benchmark, portfolio. Using these quantities, you'll then explore the portfolio allocation problem for combinations of risky and risk-free assets.\n",
    "\n",
    "* __Prerequisites__: we'll begin by loading the historical dataset. The data we'll explore is daily open-high-low-close values for firms in the [S&P500 index](https://en.wikipedia.org/wiki/S%26P_500) between `01-03-2018` and `12-29-2023`.\n",
    "* __Task 1__: We'll compute the expected returns and the covariance arrays using the single index models\n",
    "* __Task 2__: We'll compute the efficient frontier by solving the minimum variance optimization problem for the single index model formulation for the low-correlation collection of risky assets.\n",
    "* __Task 3__: Finally, you'll compute the capital allocation line and the tangent portfolio using the single index models"
   ]
  },
  {
   "cell_type": "markdown",
   "id": "f096d527-c415-4911-9223-2cafa58f7ec7",
   "metadata": {},
   "source": [
    "## Setup\n",
    "We set up the computational environment by including the `Include.jl` file. The `Include.jl` file loads external packages, various functions that we will use in the exercise, and custom types to model the components of our lab problem.\n",
    "* For additional information on functions and types used in this material, see the [Julia programming language documentation](https://docs.julialang.org/en/v1/) and the [VLQuantitativeFinancePackage.jl documentation](https://github.com/varnerlab/VLQuantitativeFinancePackage.jl). "
   ]
  },
  {
   "cell_type": "code",
   "execution_count": 3,
   "id": "77f92816-b118-4825-8a63-92e56dd0d332",
   "metadata": {},
   "outputs": [
    {
     "name": "stderr",
     "output_type": "stream",
     "text": [
      "\u001b[32m\u001b[1m    Updating\u001b[22m\u001b[39m git-repo `https://github.com/varnerlab/VLQuantitativeFinancePackage.jl.git`\n",
      "\u001b[32m\u001b[1m   Resolving\u001b[22m\u001b[39m package versions...\n",
      "\u001b[32m\u001b[1m  No Changes\u001b[22m\u001b[39m to `~/Desktop/julia_work/CHEME-130-eCornell-Repository/courses/CHEME-135/module-4/Project.toml`\n",
      "\u001b[32m\u001b[1m  No Changes\u001b[22m\u001b[39m to `~/Desktop/julia_work/CHEME-130-eCornell-Repository/courses/CHEME-135/module-4/Manifest.toml`\n",
      "\u001b[32m\u001b[1m  Activating\u001b[22m\u001b[39m project at `~/Desktop/julia_work/CHEME-130-eCornell-Repository/courses/CHEME-135/module-4`\n",
      "\u001b[32m\u001b[1m  No Changes\u001b[22m\u001b[39m to `~/Desktop/julia_work/CHEME-130-eCornell-Repository/courses/CHEME-135/module-4/Project.toml`\n",
      "\u001b[32m\u001b[1m  No Changes\u001b[22m\u001b[39m to `~/Desktop/julia_work/CHEME-130-eCornell-Repository/courses/CHEME-135/module-4/Manifest.toml`\n",
      "\u001b[32m\u001b[1m    Updating\u001b[22m\u001b[39m registry at `~/.julia/registries/General.toml`\n",
      "\u001b[32m\u001b[1m    Updating\u001b[22m\u001b[39m git-repo `https://github.com/varnerlab/VLQuantitativeFinancePackage.jl.git`\n",
      "\u001b[32m\u001b[1m  No Changes\u001b[22m\u001b[39m to `~/Desktop/julia_work/CHEME-130-eCornell-Repository/courses/CHEME-135/module-4/Project.toml`\n",
      "\u001b[32m\u001b[1m  No Changes\u001b[22m\u001b[39m to `~/Desktop/julia_work/CHEME-130-eCornell-Repository/courses/CHEME-135/module-4/Manifest.toml`\n"
     ]
    }
   ],
   "source": [
    "include(\"Include.jl\");"
   ]
  },
  {
   "cell_type": "markdown",
   "id": "cc18f2a7-bca8-48c8-9ef3-f8080c367233",
   "metadata": {
    "jp-MarkdownHeadingCollapsed": true
   },
   "source": [
    "## Prerequisites: Load and clean the historical dataset\n",
    "We gathered a daily open-high-low-close `dataset` for each firm in the [S&P500](https://en.wikipedia.org/wiki/S%26P_500) since `01-03-2018` until `12-29-2023`, along with data for a few exchange-traded funds and volatility products during that time. We load the `orignal_dataset` by calling the `load(...)` method exported by the [JLD2.jl package](https://github.com/JuliaIO/JLD2.jl.git):"
   ]
  },
  {
   "cell_type": "code",
   "execution_count": 5,
   "id": "7bf8ba31-69cb-465c-ac5d-75d32a880e47",
   "metadata": {},
   "outputs": [],
   "source": [
    "original_dataset = load(joinpath(_PATH_TO_DATA, \"SP500-Daily-OHLC-1-3-2018-to-12-29-2023.jld2\")) |> x-> x[\"dataset\"];"
   ]
  },
  {
   "cell_type": "markdown",
   "id": "abbcaf37-40df-4789-9983-c5cf1b02a872",
   "metadata": {},
   "source": [
    "### Clean the data\n",
    "Not all of the tickers in our dataset have the maximum number of trading days for various reasons, e.g., acquistion or de-listing events. Let's collect only those tickers with the maximum number of tradition days.\n",
    "\n",
    "* First, let's compute the number of records for a company that we know has a maximim value, e.g., `AAPL` and save that value in the `maximum_number_trading_days` variable:"
   ]
  },
  {
   "cell_type": "code",
   "execution_count": 7,
   "id": "26cf7149-0a9f-4523-b01a-fdd01b1c7c28",
   "metadata": {},
   "outputs": [],
   "source": [
    "maximum_number_trading_days = original_dataset[\"AAPL\"] |> nrow;"
   ]
  },
  {
   "cell_type": "markdown",
   "id": "85e73e9f-c3c9-460b-bd39-f59568925214",
   "metadata": {},
   "source": [
    "Next, iterate through our data and collect only tickers with `maximum_number_trading_days` records. Save that data in the `dataset::Dict{String,DataFrame}` variable:"
   ]
  },
  {
   "cell_type": "code",
   "execution_count": 9,
   "id": "7f77a6f3-181d-4a51-bb89-cfa1669ddd8b",
   "metadata": {},
   "outputs": [
    {
     "data": {
      "text/plain": [
       "Dict{String, DataFrame} with 460 entries:\n",
       "  \"NI\"   => \u001b[1m1508×8 DataFrame\u001b[0m\u001b[0m…\n",
       "  \"EMR\"  => \u001b[1m1508×8 DataFrame\u001b[0m\u001b[0m…\n",
       "  \"CTAS\" => \u001b[1m1508×8 DataFrame\u001b[0m\u001b[0m…\n",
       "  \"HSIC\" => \u001b[1m1508×8 DataFrame\u001b[0m\u001b[0m…\n",
       "  \"KIM\"  => \u001b[1m1508×8 DataFrame\u001b[0m\u001b[0m…\n",
       "  \"PLD\"  => \u001b[1m1508×8 DataFrame\u001b[0m\u001b[0m…\n",
       "  \"IEX\"  => \u001b[1m1508×8 DataFrame\u001b[0m\u001b[0m…\n",
       "  \"BAC\"  => \u001b[1m1508×8 DataFrame\u001b[0m\u001b[0m…\n",
       "  \"CBOE\" => \u001b[1m1508×8 DataFrame\u001b[0m\u001b[0m…\n",
       "  \"EXR\"  => \u001b[1m1508×8 DataFrame\u001b[0m\u001b[0m…\n",
       "  \"NCLH\" => \u001b[1m1508×8 DataFrame\u001b[0m\u001b[0m…\n",
       "  \"CVS\"  => \u001b[1m1508×8 DataFrame\u001b[0m\u001b[0m…\n",
       "  \"DRI\"  => \u001b[1m1508×8 DataFrame\u001b[0m\u001b[0m…\n",
       "  \"DTE\"  => \u001b[1m1508×8 DataFrame\u001b[0m\u001b[0m…\n",
       "  \"ZION\" => \u001b[1m1508×8 DataFrame\u001b[0m\u001b[0m…\n",
       "  \"AVY\"  => \u001b[1m1508×8 DataFrame\u001b[0m\u001b[0m…\n",
       "  \"EW\"   => \u001b[1m1508×8 DataFrame\u001b[0m\u001b[0m…\n",
       "  \"EA\"   => \u001b[1m1508×8 DataFrame\u001b[0m\u001b[0m…\n",
       "  \"NWSA\" => \u001b[1m1508×8 DataFrame\u001b[0m\u001b[0m…\n",
       "  \"CAG\"  => \u001b[1m1508×8 DataFrame\u001b[0m\u001b[0m…\n",
       "  \"GPC\"  => \u001b[1m1508×8 DataFrame\u001b[0m\u001b[0m…\n",
       "  \"FCX\"  => \u001b[1m1508×8 DataFrame\u001b[0m\u001b[0m…\n",
       "  \"GILD\" => \u001b[1m1508×8 DataFrame\u001b[0m\u001b[0m…\n",
       "  \"UNP\"  => \u001b[1m1508×8 DataFrame\u001b[0m\u001b[0m…\n",
       "  \"CDW\"  => \u001b[1m1508×8 DataFrame\u001b[0m\u001b[0m…\n",
       "  ⋮      => ⋮"
      ]
     },
     "execution_count": 9,
     "metadata": {},
     "output_type": "execute_result"
    }
   ],
   "source": [
    "dataset = Dict{String,DataFrame}();\n",
    "for (ticker,data) ∈ original_dataset\n",
    "    if (nrow(data) == maximum_number_trading_days)\n",
    "        dataset[ticker] = data;\n",
    "    end\n",
    "end\n",
    "dataset"
   ]
  },
  {
   "cell_type": "markdown",
   "id": "9afa5bbc-6f29-4731-8553-40f23adb06ce",
   "metadata": {},
   "source": [
    "Let's get a sorted list of firms that we have in cleaned up `dataset`, and save it in the `list_of_all_tickers` array:"
   ]
  },
  {
   "cell_type": "code",
   "execution_count": 11,
   "id": "317e013a-c072-46d0-9bdb-14edf2214462",
   "metadata": {},
   "outputs": [],
   "source": [
    "list_of_all_tickers = keys(dataset) |> collect |> sort;"
   ]
  },
  {
   "cell_type": "markdown",
   "id": "3e838fff-61c6-4e60-927d-23f0e77435bb",
   "metadata": {},
   "source": [
    "Finally, let's set some constant values, e.g., a value for the `risk_free_rate`:"
   ]
  },
  {
   "cell_type": "code",
   "execution_count": 13,
   "id": "0ad41506-1684-4193-9f85-640a7952cef2",
   "metadata": {},
   "outputs": [],
   "source": [
    "risk_free_rate = 0.05;"
   ]
  },
  {
   "cell_type": "markdown",
   "id": "59eb2997-8e06-4415-be05-43d7d37d354e",
   "metadata": {},
   "source": [
    "### Compute the covariance and expected return for all firms in the dataset\n",
    "The expected return $\\mathbb{E}(r_{i})$ and covariance matrix $\\Sigma$ will be used in our calculations, so we'll provide values for both of these items for the entire data set (all `N = 460` tickers), and then you can pick out which tickers you are interested in. \n",
    "\n",
    "* First, we compute the expected (annualized) log return by passing the `dataset` and the entire list of firms we have in the dataset (held in the $N\\times{1}$ `list_of_all_tickers` array) to the [log_growth_matrix(...) method](https://varnerlab.github.io/VLQuantitativeFinancePackage.jl/dev/equity/#VLQuantitativeFinancePackage.log_growth_matrix). The result is stored in the `all_firms_return_matrix` variable, a $T-1\\times{N}$ array of log return values. Each row of `all_firms_return_matrix` corresponds to a time value, while each column corresponds to a firm:"
   ]
  },
  {
   "cell_type": "code",
   "execution_count": 15,
   "id": "7b0d3cbf-228a-4af6-80ca-5cb5db292e77",
   "metadata": {},
   "outputs": [
    {
     "data": {
      "text/plain": [
       "1507×460 Matrix{Float64}:\n",
       "  0.324988   1.87928     6.97769   …   5.75159     1.74882    2.00452\n",
       "  2.13987   -0.668139    3.97037       3.95668    -0.761936   2.9259\n",
       "  0.886321  -1.96617    -0.853754      2.84928    -0.405978   2.41921\n",
       "  6.15162    1.46203    -1.92102       6.55558     5.0984     3.36373\n",
       " -3.52638    4.87131    -0.317677      1.76502     3.3169    -4.92013\n",
       " -0.37572   10.2317      2.75668   …  10.6817      2.19034    2.43203\n",
       "  3.25669    9.91413     7.32109       5.80955     2.34702    3.10105\n",
       " -0.219697   1.23539    -1.56874       2.67067    -1.60483    1.057\n",
       "  1.64849   -0.305863    1.90851       0.389849   -0.152035   2.79631\n",
       "  0.1633     0.0879042  -0.533602     -0.210856   -0.555564  -1.14091\n",
       "  2.96852   -1.0269      3.81638   …  -0.0978694   2.23925    0.942827\n",
       "  0.863209  -0.736871    0.950174      0.232196    1.8414     1.43424\n",
       "  1.05596    0.0469966   1.8355        2.40996     1.35743    1.7796\n",
       "  ⋮                                ⋱                         \n",
       "  6.82932   -3.01213    14.2484    …   1.56439    15.7205     5.54459\n",
       "  9.97356   11.3747     19.6235       26.0256     27.5626     5.97447\n",
       " -0.48449   -0.31058    -6.907         4.85357    -7.2954    -5.00577\n",
       "  0.501792  -5.23382    -7.86335      -5.5155     -4.73763    0.42562\n",
       "  3.47714    2.41648     0.409582      2.37732     2.65527    1.81175\n",
       " -0.287905  -2.9391     -1.69118   …  -4.73775    -3.82709   -1.84536\n",
       " -0.798805   2.38892    -0.351065     -0.414542    1.52119   -2.14042\n",
       "  1.05919   -0.36349     3.65605       3.50786     3.52521   -0.759748\n",
       "  0.224913  -2.92653    -0.784553      5.12839     4.09382    1.25834\n",
       " -0.253042  -2.39417     0.445564      1.24036    -0.947707   1.18925\n",
       "  0.82831   -0.714768    0.422411  …  -0.216922   -0.243954   1.00671\n",
       " -2.05079   -3.93842    -1.25519      -1.21052    -2.9499     0.0621309"
      ]
     },
     "execution_count": 15,
     "metadata": {},
     "output_type": "execute_result"
    }
   ],
   "source": [
    "all_firms_excess_return_matrix = log_growth_matrix(dataset, list_of_all_tickers, \n",
    "    Δt = (1.0/252.0), risk_free_rate = risk_free_rate)"
   ]
  },
  {
   "cell_type": "markdown",
   "id": "5dd9cbb4-2472-45ca-b921-4dd0b55fb5e9",
   "metadata": {},
   "source": [
    "Next, we estimate the expected excess return for each firm from the `all_firms_excess_return_matrix` using the `mean(...)` function, which is exported by the [Statistics.jl package](https://docs.julialang.org/en/v1/stdlib/Statistics/). We save the $N\\times{1}$ vector of expected values, i.e., $\\mathbb{E}(R_{1}),\\dotsc,\\mathbb{E}(R_{N})$ in the variable `μ`:"
   ]
  },
  {
   "cell_type": "code",
   "execution_count": 17,
   "id": "b83281ee-781a-44dd-8e79-a533324b8876",
   "metadata": {},
   "outputs": [],
   "source": [
    "μ = mean(all_firms_excess_return_matrix, dims=1) |> vec;"
   ]
  },
  {
   "cell_type": "markdown",
   "id": "7b7abf62-a58e-44e8-bab3-8b96edaaa17d",
   "metadata": {},
   "source": [
    "Estimate the annualized `correlation matrix` (assuming `252` trading days per year) from the `all_firms_return_matrix` using the [cor(...) function](https://docs.julialang.org/en/v1/stdlib/Statistics/#Statistics.cor), exported by the [Statistics.jl package](https://docs.julialang.org/en/v1/stdlib/Statistics/). We store the $N\\times{N}$ correlation matrix in the $ρ$ variable:"
   ]
  },
  {
   "cell_type": "code",
   "execution_count": 19,
   "id": "06d35f34-bf9e-43c5-b594-dbd3f13cca07",
   "metadata": {},
   "outputs": [
    {
     "data": {
      "text/plain": [
       "460×460 Matrix{Float64}:\n",
       " 1.0       0.300001  0.301695  0.479962  …  0.48165   0.333841  0.581071\n",
       " 0.300001  1.0       0.304549  0.317579     0.36358   0.461435  0.29548\n",
       " 0.301695  0.304549  1.0       0.254655     0.308162  0.359682  0.339325\n",
       " 0.479962  0.317579  0.254655  1.0          0.47834   0.253979  0.52406\n",
       " 0.304411  0.151737  0.223867  0.267654     0.191234  0.211721  0.363022\n",
       " 0.5611    0.193803  0.230915  0.446208  …  0.37737   0.227813  0.55824\n",
       " 0.557203  0.368804  0.374852  0.577663     0.51357   0.403288  0.597762\n",
       " 0.497469  0.220908  0.22843   0.592591     0.473501  0.191866  0.517024\n",
       " 0.534947  0.427773  0.298274  0.565422     0.545263  0.378167  0.489485\n",
       " 0.352345  0.380973  0.320304  0.31355      0.338222  0.483813  0.321355\n",
       " 0.486248  0.3863    0.367593  0.481361  …  0.451597  0.394284  0.55267\n",
       " 0.547685  0.352786  0.289148  0.542806     0.523489  0.297925  0.510328\n",
       " 0.312193  0.164855  0.256664  0.290533     0.215522  0.222574  0.405913\n",
       " ⋮                                       ⋱                      \n",
       " 0.33564   0.390322  0.308548  0.33613      0.347845  0.426606  0.361773\n",
       " 0.460143  0.49507   0.3898    0.44248      0.481424  0.474044  0.460455\n",
       " 0.340466  0.553811  0.293123  0.375041  …  0.369269  0.443582  0.347877\n",
       " 0.287902  0.136388  0.249735  0.289226     0.172524  0.173591  0.391128\n",
       " 0.297873  0.412647  0.268475  0.286367     0.330296  0.492088  0.275743\n",
       " 0.359474  0.343135  0.277976  0.281978     0.29382   0.385608  0.385279\n",
       " 0.518415  0.464553  0.322296  0.417341     0.461731  0.461953  0.46797\n",
       " 0.41707   0.394911  0.355828  0.406742  …  0.369295  0.327794  0.525507\n",
       " 0.459092  0.4635    0.332702  0.425792     0.403887  0.42216   0.498437\n",
       " 0.48165   0.36358   0.308162  0.47834      1.0       0.394423  0.46483\n",
       " 0.333841  0.461435  0.359682  0.253979     0.394423  1.0       0.273375\n",
       " 0.581071  0.29548   0.339325  0.52406      0.46483   0.273375  1.0"
      ]
     },
     "execution_count": 19,
     "metadata": {},
     "output_type": "execute_result"
    }
   ],
   "source": [
    "ρ = cor(all_firms_excess_return_matrix) # correlation matrix"
   ]
  },
  {
   "cell_type": "markdown",
   "id": "c399e928-b475-447d-b164-3464bbffb6dd",
   "metadata": {},
   "source": [
    "### Load single index models, compute the single index returns and covariance"
   ]
  },
  {
   "cell_type": "code",
   "execution_count": 21,
   "id": "f3292c05-58be-46c8-8b6b-06853c388e3a",
   "metadata": {},
   "outputs": [
    {
     "data": {
      "text/plain": [
       "Dict{String, MySingleIndexModel} with 460 entries:\n",
       "  \"NI\"   => MySingleIndexModel(-0.0709741, 0.652999, 0.05, Normal{Float64}(μ=1.…\n",
       "  \"EMR\"  => MySingleIndexModel(-0.0523764, 1.23526, 0.05, Normal{Float64}(μ=-1.…\n",
       "  \"CTAS\" => MySingleIndexModel(0.121408, 1.17936, 0.05, Normal{Float64}(μ=2.298…\n",
       "  \"HSIC\" => MySingleIndexModel(-0.0820776, 0.913675, 0.05, Normal{Float64}(μ=1.…\n",
       "  \"KIM\"  => MySingleIndexModel(-0.0786588, 1.28859, 0.05, Normal{Float64}(μ=-6.…\n",
       "  \"PLD\"  => MySingleIndexModel(0.0276239, 1.02836, 0.05, Normal{Float64}(μ=-1.4…\n",
       "  \"IEX\"  => MySingleIndexModel(-0.0098079, 0.963259, 0.05, Normal{Float64}(μ=-1…\n",
       "  \"BAC\"  => MySingleIndexModel(-0.0885823, 1.32778, 0.05, Normal{Float64}(μ=-6.…\n",
       "  \"CBOE\" => MySingleIndexModel(-0.0143917, 0.588498, 0.05, Normal{Float64}(μ=3.…\n",
       "  \"EXR\"  => MySingleIndexModel(0.0222396, 0.725388, 0.05, Normal{Float64}(μ=1.0…\n",
       "  \"NCLH\" => MySingleIndexModel(-0.321969, 2.32891, 0.05, Normal{Float64}(μ=1.12…\n",
       "  \"CVS\"  => MySingleIndexModel(-0.0727375, 0.78292, 0.05, Normal{Float64}(μ=-6.…\n",
       "  \"DRI\"  => MySingleIndexModel(-0.0246557, 1.36306, 0.05, Normal{Float64}(μ=-5.…\n",
       "  \"DTE\"  => MySingleIndexModel(-0.0810004, 0.769165, 0.05, Normal{Float64}(μ=-9…\n",
       "  \"ZION\" => MySingleIndexModel(-0.133986, 1.36377, 0.05, Normal{Float64}(μ=2.91…\n",
       "  \"AVY\"  => MySingleIndexModel(-0.00850994, 1.16058, 0.05, Normal{Float64}(μ=-9…\n",
       "  \"EW\"   => MySingleIndexModel(0.0170927, 1.11274, 0.05, Normal{Float64}(μ=-2.1…\n",
       "  \"EA\"   => MySingleIndexModel(-0.041578, 0.629636, 0.05, Normal{Float64}(μ=6.3…\n",
       "  \"NWSA\" => MySingleIndexModel(-0.0333702, 1.12238, 0.05, Normal{Float64}(μ=1.2…\n",
       "  \"CAG\"  => MySingleIndexModel(-0.113992, 0.437623, 0.05, Normal{Float64}(μ=-6.…\n",
       "  \"GILD\" => MySingleIndexModel(-0.05894, 0.516018, 0.05, Normal{Float64}(μ=1.88…\n",
       "  \"FCX\"  => MySingleIndexModel(0.00087543, 1.80621, 0.05, Normal{Float64}(μ=-4.…\n",
       "  \"GPC\"  => MySingleIndexModel(-0.0382007, 1.06584, 0.05, Normal{Float64}(μ=-5.…\n",
       "  \"UNP\"  => MySingleIndexModel(0.00276248, 1.03174, 0.05, Normal{Float64}(μ=4.5…\n",
       "  \"CDW\"  => MySingleIndexModel(0.0900448, 1.21706, 0.05, Normal{Float64}(μ=8.39…\n",
       "  ⋮      => ⋮"
      ]
     },
     "execution_count": 21,
     "metadata": {},
     "output_type": "execute_result"
    }
   ],
   "source": [
    "sim_model_dictionary = load(joinpath(_PATH_TO_DATA, \"SIMs-SP500-01-03-18-to-12-29-23.jld2\")) |> x->x[\"sim\"]"
   ]
  },
  {
   "cell_type": "markdown",
   "id": "6a2b46b8-6b18-47b2-97a8-51fd2fa6cf55",
   "metadata": {},
   "source": [
    "Pull out the excess return of the `market portfolio` from `all_firms_excess_return_matrix`. To do this, look up the index for our market portfolio surrogate `SPY,` then get this column of data from the `all_firms_excess_return_matrix.` We'll store the excess return data for `SPY` in the `Rₘ` variable:"
   ]
  },
  {
   "cell_type": "code",
   "execution_count": 23,
   "id": "d30805d9-882a-4104-8721-fcfd6354d206",
   "metadata": {},
   "outputs": [],
   "source": [
    "Rₘ = findfirst(x->x == \"SPY\", list_of_all_tickers) |> i -> μ[i];"
   ]
  },
  {
   "cell_type": "markdown",
   "id": "88616301-147b-4828-9967-c93ed2df15da",
   "metadata": {},
   "source": [
    "#### Expected return single index model\n",
    "Now, compute the expected return for each ticker in the `dataset` using the `single index models` computed in `Lab 12b` using a `for-loop.` For iteration of the loop:\n",
    "* Get the `ticker` symbol from the `list_of_all_tickers` array, and pull out the corresponding `single index model` from the `sim_model_dictionary` dictionary\n",
    "* Next, pull out the $(\\alpha, \\beta)$ parameters from the `sim` model instance and compute the expected return $\\mathbb{E}(R_{i})$. Store the expected return in the `μ̂` array"
   ]
  },
  {
   "cell_type": "code",
   "execution_count": 25,
   "id": "bd17f71d-50b2-41d6-8f34-bc70dd5ea568",
   "metadata": {},
   "outputs": [],
   "source": [
    "μ_sim = Array{Float64,1}();\n",
    "for i ∈ eachindex(list_of_all_tickers)\n",
    "    sim = list_of_all_tickers[i] |> ticker -> sim_model_dictionary[ticker];   \n",
    "    αᵢ = sim.α\n",
    "    βᵢ = sim.β\n",
    "    (αᵢ+βᵢ*Rₘ) |> R̄ᵢ-> push!(μ_sim,R̄ᵢ);\n",
    "end"
   ]
  },
  {
   "cell_type": "markdown",
   "id": "6f89899c-8d58-47a5-8893-518fe16d0ecf",
   "metadata": {},
   "source": [
    "#### Covariance single index model\n",
    "Next, build the single index model version of the covariance array. Substituting the single index model for the excess return of asset $i$ and $j$ into the covariance expression (and simplifying) gives:\n",
    "\n",
    "$$\n",
    "\\begin{equation*}\n",
    "\\text{cov}(R_{i}, R_{j}) = \\begin{cases}\n",
    "\\beta_{i}^{2}\\sigma_{m}^{2}+\\sigma_{\\epsilon_{i}}^{2} & i = j \\\\\n",
    "\\beta_{i}\\beta_{j}\\sigma_{m}^2 & i \\neq j\n",
    "\\end{cases}\n",
    "\\end{equation*}\n",
    "$$\n",
    "\n",
    "where $\\sigma_{m}^2$ denotes the variance of the excess return of the market,  and $\\sigma_{\\epsilon_{i}}^{2}$ denotes the variance of the firm-specific error model."
   ]
  },
  {
   "cell_type": "code",
   "execution_count": 27,
   "id": "15cce6be-a26e-4013-916d-220a2ce6fe86",
   "metadata": {},
   "outputs": [],
   "source": [
    "σₘ = findfirst(x->x == \"SPY\", list_of_all_tickers) |> i-> std(all_firms_excess_return_matrix[:, i]);"
   ]
  },
  {
   "cell_type": "markdown",
   "id": "5344a1a7-628e-42d6-8486-979ebce0a806",
   "metadata": {},
   "source": [
    "We populate the single index covariance array using nested `for-loops`, where we store the single-index covariance matrix in the `Σ̂`variable:"
   ]
  },
  {
   "cell_type": "code",
   "execution_count": 29,
   "id": "9be7a42a-3568-4f0d-8280-07e47fe4995c",
   "metadata": {},
   "outputs": [
    {
     "data": {
      "text/plain": [
       "460×460 Matrix{Float64}:\n",
       " 0.0655125  0.0474137  0.0270404  …  0.0382685  0.0368694  0.028433\n",
       " 0.0474137  0.283672   0.0442603     0.0626386  0.0603485  0.0465398\n",
       " 0.0270404  0.0442603  0.124944      0.0357233  0.0344173  0.026542\n",
       " 0.0335284  0.0548799  0.0312985     0.0442946  0.0426752  0.0329104\n",
       " 0.0191946  0.0314181  0.017918      0.0253581  0.024431   0.0188408\n",
       " 0.0225451  0.0369023  0.0210457  …  0.0297845  0.0286956  0.0221295\n",
       " 0.0327104  0.0535409  0.0305348     0.0432139  0.041634   0.0321074\n",
       " 0.0339976  0.055648   0.0317365     0.0449145  0.0432724  0.033371\n",
       " 0.0335058  0.0548429  0.0312774     0.0442647  0.0426464  0.0328882\n",
       " 0.0223401  0.0365666  0.0208543     0.0295136  0.0284346  0.0219283\n",
       " 0.0275607  0.0451119  0.0257277  …  0.0364106  0.0350795  0.0270527\n",
       " 0.0398017  0.0651482  0.0371546     0.0525823  0.0506599  0.0390681\n",
       " 0.016821   0.0275329  0.0157022     0.0222223  0.0214099  0.0165109\n",
       " ⋮                                ⋱                        \n",
       " 0.0233556  0.0382289  0.0218022     0.0308552  0.0297272  0.0229251\n",
       " 0.0362529  0.0593394  0.0338417     0.0478939  0.0461429  0.0355846\n",
       " 0.0478076  0.0782523  0.044628   …  0.0631589  0.0608498  0.0469263\n",
       " 0.0150289  0.0245996  0.0140293     0.0198548  0.0191289  0.0147519\n",
       " 0.0275063  0.0450229  0.0256769     0.0363388  0.0350103  0.0269993\n",
       " 0.0267399  0.0437683  0.0249614     0.0353262  0.0340347  0.026247\n",
       " 0.0310632  0.0508449  0.0289972     0.0410378  0.0395375  0.0304906\n",
       " 0.024018   0.0393132  0.0224206  …  0.0317304  0.0305703  0.0235753\n",
       " 0.0313196  0.0512645  0.0292365     0.0413765  0.0398638  0.0307423\n",
       " 0.0382685  0.0626386  0.0357233     0.129873   0.0487084  0.0375631\n",
       " 0.0368694  0.0603485  0.0344173     0.0487084  0.161081   0.0361898\n",
       " 0.028433   0.0465398  0.026542      0.0375631  0.0361898  0.0594863"
      ]
     },
     "execution_count": 29,
     "metadata": {},
     "output_type": "execute_result"
    }
   ],
   "source": [
    "Σ_tmp = Array{Float64,2}(undef, length(μ), length(μ));\n",
    "for i ∈ eachindex(list_of_all_tickers)\n",
    "    outer_ticker = list_of_all_tickers[i];\n",
    "    sim_outer = sim_model_dictionary[outer_ticker];\n",
    "    \n",
    "    for j ∈ eachindex(list_of_all_tickers)\n",
    "        \n",
    "        inner_ticker = list_of_all_tickers[j];\n",
    "        sim_inner = sim_model_dictionary[inner_ticker];\n",
    "        \n",
    "        if (i == j)\n",
    "            βᵢ = sim_outer.β\n",
    "            ϵᵢ = sim_outer.ϵ\n",
    "            σ_ϵᵢ = params(ϵᵢ)[2];\n",
    "            Σ_tmp[i,j] = ((βᵢ)^2)*((σₘ)^2)+(σ_ϵᵢ)^2\n",
    "        else\n",
    "            βᵢ = sim_outer.β\n",
    "            βⱼ = sim_inner.β\n",
    "            Σ_tmp[i,j] = βᵢ*βⱼ*(σₘ)^2\n",
    "        end\n",
    "    end\n",
    "end\n",
    "Σ_sim  = Σ_tmp |> x-> x*(1/252)"
   ]
  },
  {
   "cell_type": "markdown",
   "id": "b5a168cb-36ad-4666-8309-5018e35c3d6b",
   "metadata": {},
   "source": [
    "## Task 1: Build the return array and covariance matrix for our tickers\n",
    "Before we compute the efficient frontier from data and single index models, we must decide which stocks to include in the risky portfolio. One strategy is to pick stocks that have small or even negative correlations. Let's explore this idea. Let's select a few tickers of interest and then compute their `low` correlation partner firms using the tools from previous modules in `CHEME 135`. \n",
    "* Describe what I'm doing here"
   ]
  },
  {
   "cell_type": "code",
   "execution_count": 31,
   "id": "b99021e8-c1e9-4093-b151-9b3e2a668acf",
   "metadata": {},
   "outputs": [],
   "source": [
    "correlated_ticker_pairs = Dict{String,Array{String,1}}();\n",
    "for i ∈ eachindex(list_of_all_tickers)\n",
    "    test_ticker = list_of_all_tickers[i];\n",
    "    id = sortperm(ρ[i,:])\n",
    "\n",
    "    my_low_correlation_ticker_array = Array{String,1}()\n",
    "    for j ∈ eachindex(id)\n",
    "        push!(my_low_correlation_ticker_array, list_of_all_tickers[id[j]])\n",
    "    end\n",
    "    \n",
    "    correlated_ticker_pairs[test_ticker] = my_low_correlation_ticker_array\n",
    "end"
   ]
  },
  {
   "cell_type": "markdown",
   "id": "e9a6533b-4969-444f-be16-5d8419ee1e64",
   "metadata": {},
   "source": [
    "Next, specify a collection of tickers that interest you in the `my_list_of_tickers` array, e.g., `AAPL,` `MSFT,` etc. We'll then find the `low` correlation twin tickers, and these (along with the initial tickers) in the `my_low_correlation_ticker_array` array:"
   ]
  },
  {
   "cell_type": "code",
   "execution_count": 33,
   "id": "0c389044-64cf-4cd0-af96-251ac5db2bf3",
   "metadata": {},
   "outputs": [],
   "source": [
    "my_list_of_tickers = [\"AAPL\", \"MSFT\", \"INTC\", \"MU\", \"AMD\", \"GS\", \"BAC\", \"WFC\", \"C\", \"F\", \"GM\"];\n",
    "my_low_correlation_ticker_array = Array{String,1}();\n",
    "for base_ticker ∈ my_list_of_tickers\n",
    "\n",
    "    correlated_list_of_tickers = correlated_ticker_pairs[base_ticker];\n",
    "    \n",
    "    # find high correlation tickers - \n",
    "    counter = 0;\n",
    "    twin_ticker = base_ticker;\n",
    "    while !(in(twin_ticker, my_low_correlation_ticker_array) == false && twin_ticker != base_ticker)\n",
    "        twin_ticker = correlated_list_of_tickers[counter+1];\n",
    "        counter += 1;\n",
    "    end\n",
    "\n",
    "    push!(my_low_correlation_ticker_array, base_ticker)\n",
    "    push!(my_low_correlation_ticker_array, twin_ticker)\n",
    "end\n",
    "my_low_correlation_ticker_array;"
   ]
  },
  {
   "cell_type": "markdown",
   "id": "832012b7-7bb3-4fd3-9bb5-a967e41c9524",
   "metadata": {},
   "source": [
    "Finally, we'll get the indexes of the `low` correlation tickers that we computed above, i.e., we'll look up the position of the tickers in the `list_of_all_tickers` list and save these values in the `my_list_of_firm_ids` variable:"
   ]
  },
  {
   "cell_type": "code",
   "execution_count": 35,
   "id": "4eca5912-f3f8-4441-b657-b2ee65cfddeb",
   "metadata": {},
   "outputs": [],
   "source": [
    "my_list_of_firm_ids = Array{Int64,1}();\n",
    "for ticker ∈ my_list_of_tickers\n",
    "    findfirst(x->x==ticker, list_of_all_tickers) |> i -> push!(my_list_of_firm_ids, i);\n",
    "end"
   ]
  },
  {
   "cell_type": "markdown",
   "id": "a6ea7cef-ac39-4671-b37e-90873460d199",
   "metadata": {},
   "source": [
    "Now that you have selected the firms in your risky portfolio, we'll compute the firm-specific expected return vector and covariance matrix for you. We'll store these in the $\\hat{\\mu}$ and $\\hat{\\Sigma}$ variables. First, we'll construct the $\\hat{\\mu}$ vector for the  `single index model` versions of the problem:"
   ]
  },
  {
   "cell_type": "code",
   "execution_count": 37,
   "id": "29a7ec5f-1e02-4c94-8d1d-db9f9e5cf480",
   "metadata": {},
   "outputs": [],
   "source": [
    "# --- DO NOT CHANGE THIS BLOCK ----------------------------------------- #\n",
    "μ̂_sim = Array{Float64,1}();\n",
    "for firm_index ∈ my_list_of_firm_ids\n",
    "    push!(μ̂_sim, μ_sim[firm_index])\n",
    "end\n",
    "# ---------------------------------------------------------------------- #"
   ]
  },
  {
   "cell_type": "markdown",
   "id": "3555c9f4-309d-477a-99f2-38f1072171ea",
   "metadata": {},
   "source": [
    "and then we'll compute the firm-specific covariance $\\hat{\\Sigma}$ matrix using the single index models:"
   ]
  },
  {
   "cell_type": "code",
   "execution_count": 39,
   "id": "935a72f9-d9a2-4d8c-aa9c-78ff3c72744c",
   "metadata": {},
   "outputs": [],
   "source": [
    "# --- DO NOT CHANGE THIS BLOCK FOR SIM  -------------------------------- #\n",
    "my_number_of_selected_firms = length(my_list_of_firm_ids)\n",
    "Σ̂_sim = Array{Float64,2}(undef, my_number_of_selected_firms, my_number_of_selected_firms);\n",
    "for i ∈ eachindex(my_list_of_firm_ids)\n",
    "    row_firm_index = my_list_of_firm_ids[i]\n",
    "    for j ∈ eachindex(my_list_of_firm_ids)\n",
    "        col_firm_index = my_list_of_firm_ids[j]\n",
    "        Σ̂_sim[i,j] = Σ_sim[row_firm_index, col_firm_index]\n",
    "    end\n",
    "end\n",
    "# ---------------------------------------------------------------------- #"
   ]
  },
  {
   "cell_type": "markdown",
   "id": "9cfa8846-ebcf-4c6b-9663-0995108b2bf0",
   "metadata": {},
   "source": [
    "## Task 2: Compute the efficient frontier for your collection of stocks\n",
    "Create an instance of the `MyMarkowitzRiskyAssetOnlyPortfiolioChoiceProblem` type, and store this in the `problem_risk` variable using the `build(...)` method. You'll need to pass your covariance array $\\hat{\\Sigma}$, the expected return array $\\hat{\\mu}$, along with bounds and an initial guess, to the `build(...)` method. \n",
    "\n",
    "Let's set up the bounds and some other constants:"
   ]
  },
  {
   "cell_type": "code",
   "execution_count": 41,
   "id": "74ba44e6-6dfe-4a72-8ccb-1dedb81aa324",
   "metadata": {},
   "outputs": [],
   "source": [
    "number_of_firms = length(my_list_of_tickers);\n",
    "wₒ = zeros(number_of_firms);\n",
    "wₒ[1] = 1.0;\n",
    "bounds = zeros(number_of_firms,2);\n",
    "bounds[:,2] .= 1.0;\n",
    "risk_free_rate = 0.05;\n",
    "number_of_points = 40;"
   ]
  },
  {
   "cell_type": "markdown",
   "id": "bade0265-3a66-4019-9d75-3a0064de8439",
   "metadata": {},
   "source": [
    "and then build an instance of the `MyMarkowitzRiskyAssetOnlyPortfiolioChoiceProblem` type using the `build(...)` method. Save this in the `problem_risk_sim` variable:"
   ]
  },
  {
   "cell_type": "code",
   "execution_count": 43,
   "id": "fabb5706-a310-4887-bd22-e2be14c9e41b",
   "metadata": {},
   "outputs": [],
   "source": [
    "problem_risk_sim = build(MyMarkowitzRiskyAssetOnlyPortfiolioChoiceProblem, (\n",
    "    Σ = Σ̂_sim,\n",
    "    μ = μ̂_sim,\n",
    "    bounds = bounds,\n",
    "    initial = wₒ,\n",
    "    R = 0.0\n",
    "));"
   ]
  },
  {
   "cell_type": "markdown",
   "id": "046d27d8-e64e-4bc0-b0ee-f11c4b648440",
   "metadata": {},
   "source": [
    "Next, we create an array with the minimum desired rewards (the calculation must achieve at least this much reward). We store these values in the `minimum_desired_reward_array` variable:"
   ]
  },
  {
   "cell_type": "code",
   "execution_count": 45,
   "id": "4fd46e60-e5c6-451c-971f-5715f08a6693",
   "metadata": {},
   "outputs": [],
   "source": [
    "minimum_desired_reward_array = range(0.0, stop = 10.0*risk_free_rate, length = number_of_points) |> collect;"
   ]
  },
  {
   "cell_type": "markdown",
   "id": "77aa21c4-c92f-4b56-bdc1-4183848c3f82",
   "metadata": {},
   "source": [
    "Finally, we iterate through the `minimum_desired_reward_array` and compute the minimum risk required to achieve the specified reward level using a `for-loop`. In particular, for each pass through the loop, we:\n",
    "* Update the `problem_risk` variable with the minimum desired reward\n",
    "* We then pass the updated `problem` object to the `solve(...)` method (which initializes and solves the optimization problem). The solution returned from the `solve(...)` method is stored in the `solution` dictionary. \n",
    "* We check the `status` of the solution. If the `status` indicates an optimal solution was found, we store the solution in the `frontier` dictionary."
   ]
  },
  {
   "cell_type": "code",
   "execution_count": 47,
   "id": "d3bed593-f4dd-45f0-8d1c-3ff91eb2b2ce",
   "metadata": {},
   "outputs": [
    {
     "data": {
      "text/plain": [
       "Dict{Float64, Float64} with 30 entries:\n",
       "  0.379692 => 0.333333\n",
       "  0.207468 => 0.100233\n",
       "  0.334251 => 0.307692\n",
       "  0.207468 => 0.100233\n",
       "  0.208369 => 0.128205\n",
       "  0.21076  => 0.153846\n",
       "  0.224993 => 0.217949\n",
       "  0.31305  => 0.294872\n",
       "  0.293158 => 0.282051\n",
       "  0.258493 => 0.25641\n",
       "  0.356528 => 0.320513\n",
       "  0.453131 => 0.371795\n",
       "  0.217193 => 0.192308\n",
       "  0.207468 => 0.100233\n",
       "  0.212463 => 0.166667\n",
       "  0.220287 => 0.205128\n",
       "  0.20938  => 0.141026\n",
       "  0.244448 => 0.24359\n",
       "  0.207733 => 0.115385\n",
       "  0.403589 => 0.346154\n",
       "  0.207468 => 0.100233\n",
       "  0.214586 => 0.179487\n",
       "  0.207468 => 0.100233\n",
       "  0.207468 => 0.100233\n",
       "  0.207468 => 0.100233\n",
       "  ⋮        => ⋮"
      ]
     },
     "execution_count": 47,
     "metadata": {},
     "output_type": "execute_result"
    }
   ],
   "source": [
    "efficient_frontier_sim = Dict{Float64,Float64}();\n",
    "for i ∈ eachindex(minimum_desired_reward_array)\n",
    "    \n",
    "    # update the problem object -\n",
    "    problem_risk_sim.R = minimum_desired_reward_array[i];\n",
    "\n",
    "    try\n",
    "        solution = solve(problem_risk_sim)\n",
    "\n",
    "        # check: did this converge?\n",
    "        status_flag = solution[\"status\"];    \n",
    "        if (status_flag == MathOptInterface.LOCALLY_SOLVED)\n",
    "            key = sqrt(solution[\"objective_value\"]);\n",
    "            value = solution[\"reward\"];\n",
    "            efficient_frontier_sim[key] = value;\n",
    "        end\n",
    "    catch err\n",
    "    end\n",
    "end\n",
    "efficient_frontier_sim"
   ]
  },
  {
   "cell_type": "markdown",
   "id": "9f661b18-2b07-4aec-a3c5-cacb480be9b8",
   "metadata": {},
   "source": [
    "## Task 3: Compute the capital allocation line and the tangent portfolio using the single index models \n",
    "Let's create an instance of the `MyMarkowitzRiskyRiskFreePortfiolioChoiceProblem` type and store this in the `problem_risk_free` variable using the `build(...)` method. We pass the covariance array, expected return value, bounds, initial guess, and risk-free rate to the `build(...)` method.\n"
   ]
  },
  {
   "cell_type": "code",
   "execution_count": null,
   "id": "afb7ecfd-bcaa-488b-bd3d-c233b9b81104",
   "metadata": {},
   "outputs": [],
   "source": [
    "problem_risk_free = build(MyMarkowitzRiskyRiskFreePortfiolioChoiceProblem, (\n",
    "    Σ = Σ̂_sim,\n",
    "    μ = μ̂_sim,\n",
    "    bounds = bounds,\n",
    "    initial = wₒ,\n",
    "    risk_free_rate = risk_free_rate,\n",
    "    R = 0.0\n",
    "));"
   ]
  },
  {
   "cell_type": "markdown",
   "id": "3e4a82f3-7b65-4d98-8b89-b95e673adea2",
   "metadata": {},
   "source": [
    "Next, iterate through the `minimum_desired_reward_array` and compute the minimum risk required to achieve the specified reward level in the presence of a risk-free asset using a `for-loop.` In particular, for each pass through the loop, we:\n",
    "* Update the `problem_risk_free` variable with the minimum desired reward. We then pass the updated `problem_risk_free` object to the `solve(...)` method (which initializes and solves the optimization problem). The solution returned from the `solve(...)` method is stored in the `solution_risk_free` dictionary. \n",
    "* We check the solution's `status.` If the status indicates an optimal solution was found, we store the solution in the `capital_allocation_line` dictionary."
   ]
  },
  {
   "cell_type": "code",
   "execution_count": 52,
   "id": "69719983-50d4-475b-a5a5-8dfb586355f5",
   "metadata": {},
   "outputs": [
    {
     "data": {
      "text/plain": [
       "Dict{Float64, Float64} with 40 entries:\n",
       "  0.563261    => 0.5\n",
       "  0.146031    => 0.166667\n",
       "  0.322551    => 0.307692\n",
       "  0.338598    => 0.320513\n",
       "  0.483024    => 0.435897\n",
       "  0.0978886   => 0.128205\n",
       "  0.162078    => 0.179487\n",
       "  0.242314    => 0.24359\n",
       "  0.21022     => 0.217949\n",
       "  0.45093     => 0.410256\n",
       "  0.194173    => 0.205128\n",
       "  0.306504    => 0.294872\n",
       "  0.000158404 => 0.0500015\n",
       "  0.017652    => 0.0641026\n",
       "  0.370693    => 0.346154\n",
       "  0.0336997   => 0.0769231\n",
       "  0.178125    => 0.192308\n",
       "  0.258362    => 0.25641\n",
       "  0.290456    => 0.282051\n",
       "  0.531166    => 0.474359\n",
       "  0.434882    => 0.397436\n",
       "  0.000133329 => 0.0500036\n",
       "  0.0657941   => 0.102564\n",
       "  0.402788    => 0.371795\n",
       "  0.0497469   => 0.0897436\n",
       "  ⋮           => ⋮"
      ]
     },
     "execution_count": 52,
     "metadata": {},
     "output_type": "execute_result"
    }
   ],
   "source": [
    "capital_allocation_line = Dict{Float64,Float64}();\n",
    "for i ∈ eachindex(minimum_desired_reward_array)\n",
    "    \n",
    "    # update the problem object -\n",
    "    problem_risk_free.R = minimum_desired_reward_array[i];\n",
    "    \n",
    "    try\n",
    "        solution_risk_free = solve(problem_risk_free)\n",
    "\n",
    "        # check: did this converge?\n",
    "        status_flag = solution_risk_free[\"status\"];    \n",
    "        if (status_flag == MathOptInterface.LOCALLY_SOLVED)\n",
    "            key = sqrt(solution_risk_free[\"objective_value\"]);\n",
    "            value = solution_risk_free[\"reward\"];\n",
    "            capital_allocation_line[key] = value;\n",
    "        end\n",
    "    catch err\n",
    "    end\n",
    "end\n",
    "capital_allocation_line"
   ]
  },
  {
   "cell_type": "markdown",
   "id": "8fba20a9-10bb-4b28-a177-bdd51f663d51",
   "metadata": {},
   "source": [
    "`Unhide` finish me."
   ]
  },
  {
   "cell_type": "code",
   "execution_count": 53,
   "id": "c03b2e55-1424-46a9-9016-6f4305bd5e38",
   "metadata": {
    "jupyter": {
     "source_hidden": true
    }
   },
   "outputs": [
    {
     "data": {
      "image/png": "[encoded data removed]",
      "image/svg+xml": [
       "<?xml version=\"1.0\" encoding=\"utf-8\"?>\n",
       "<svg xmlns=\"http://www.w3.org/2000/svg\" xmlns:xlink=\"http://www.w3.org/1999/xlink\" width=\"600\" height=\"400\" viewBox=\"0 0 2400 1600\">\n",
       "<defs>\n",
       "  <clipPath id=\"clip070\">\n",
       "    <rect x=\"0\" y=\"0\" width=\"2400\" height=\"1600\"/>\n",
       "  </clipPath>\n",
       "</defs>\n",
       "<path clip-path=\"url(#clip070)\" d=\"M0 1600 L2400 1600 L2400 8.88178e-14 L0 8.88178e-14  Z\" fill=\"#ffffff\" fill-rule=\"evenodd\" fill-opacity=\"1\"/>\n",
       "<defs>\n",
       "  <clipPath id=\"clip071\">\n",
       "    <rect x=\"480\" y=\"0\" width=\"1681\" height=\"1600\"/>\n",
       "  </clipPath>\n",
       "</defs>\n",
       "<path clip-path=\"url(#clip070)\" d=\"M219.866 1423.18 L2352.76 1423.18 L2352.76 47.2441 L219.866 47.2441  Z\" fill=\"#ffffff\" fill-rule=\"evenodd\" fill-opacity=\"1\"/>\n",
       "<defs>\n",
       "  <clipPath id=\"clip072\">\n",
       "    <rect x=\"219\" y=\"47\" width=\"2134\" height=\"1377\"/>\n",
       "  </clipPath>\n",
       "</defs>\n",
       "<polyline clip-path=\"url(#clip072)\" style=\"stroke:#000000; stroke-linecap:round; stroke-linejoin:round; stroke-width:2; stroke-opacity:0.1; fill:none\" points=\"219.866,1423.18 219.866,47.2441 \"/>\n",
       "<polyline clip-path=\"url(#clip072)\" style=\"stroke:#000000; stroke-linecap:round; stroke-linejoin:round; stroke-width:2; stroke-opacity:0.1; fill:none\" points=\"647.775,1423.18 647.775,47.2441 \"/>\n",
       "<polyline clip-path=\"url(#clip072)\" style=\"stroke:#000000; stroke-linecap:round; stroke-linejoin:round; stroke-width:2; stroke-opacity:0.1; fill:none\" points=\"1075.68,1423.18 1075.68,47.2441 \"/>\n",
       "<polyline clip-path=\"url(#clip072)\" style=\"stroke:#000000; stroke-linecap:round; stroke-linejoin:round; stroke-width:2; stroke-opacity:0.1; fill:none\" points=\"1503.59,1423.18 1503.59,47.2441 \"/>\n",
       "<polyline clip-path=\"url(#clip072)\" style=\"stroke:#000000; stroke-linecap:round; stroke-linejoin:round; stroke-width:2; stroke-opacity:0.1; fill:none\" points=\"1931.5,1423.18 1931.5,47.2441 \"/>\n",
       "<polyline clip-path=\"url(#clip070)\" style=\"stroke:#000000; stroke-linecap:round; stroke-linejoin:round; stroke-width:4; stroke-opacity:1; fill:none\" points=\"219.866,1423.18 2352.76,1423.18 \"/>\n",
       "<polyline clip-path=\"url(#clip070)\" style=\"stroke:#000000; stroke-linecap:round; stroke-linejoin:round; stroke-width:4; stroke-opacity:1; fill:none\" points=\"219.866,1423.18 219.866,1404.28 \"/>\n",
       "<polyline clip-path=\"url(#clip070)\" style=\"stroke:#000000; stroke-linecap:round; stroke-linejoin:round; stroke-width:4; stroke-opacity:1; fill:none\" points=\"647.775,1423.18 647.775,1404.28 \"/>\n",
       "<polyline clip-path=\"url(#clip070)\" style=\"stroke:#000000; stroke-linecap:round; stroke-linejoin:round; stroke-width:4; stroke-opacity:1; fill:none\" points=\"1075.68,1423.18 1075.68,1404.28 \"/>\n",
       "<polyline clip-path=\"url(#clip070)\" style=\"stroke:#000000; stroke-linecap:round; stroke-linejoin:round; stroke-width:4; stroke-opacity:1; fill:none\" points=\"1503.59,1423.18 1503.59,1404.28 \"/>\n",
       "<polyline clip-path=\"url(#clip070)\" style=\"stroke:#000000; stroke-linecap:round; stroke-linejoin:round; stroke-width:4; stroke-opacity:1; fill:none\" points=\"1931.5,1423.18 1931.5,1404.28 \"/>\n",
       "<path clip-path=\"url(#clip070)\" d=\"M197.251 1454.1 Q193.64 1454.1 191.811 1457.66 Q190.005 1461.2 190.005 1468.33 Q190.005 1475.44 191.811 1479.01 Q193.64 1482.55 197.251 1482.55 Q200.885 1482.55 202.69 1479.01 Q204.519 1475.44 204.519 1468.33 Q204.519 1461.2 202.69 1457.66 Q200.885 1454.1 197.251 1454.1 M197.251 1450.39 Q203.061 1450.39 206.116 1455 Q209.195 1459.58 209.195 1468.33 Q209.195 1477.06 206.116 1481.67 Q203.061 1486.25 197.251 1486.25 Q191.44 1486.25 188.362 1481.67 Q185.306 1477.06 185.306 1468.33 Q185.306 1459.58 188.362 1455 Q191.44 1450.39 197.251 1450.39 Z\" fill=\"#000000\" fill-rule=\"nonzero\" fill-opacity=\"1\" /><path clip-path=\"url(#clip070)\" d=\"M217.413 1479.7 L222.297 1479.7 L222.297 1485.58 L217.413 1485.58 L217.413 1479.7 Z\" fill=\"#000000\" fill-rule=\"nonzero\" fill-opacity=\"1\" /><path clip-path=\"url(#clip070)\" d=\"M242.482 1454.1 Q238.871 1454.1 237.042 1457.66 Q235.237 1461.2 235.237 1468.33 Q235.237 1475.44 237.042 1479.01 Q238.871 1482.55 242.482 1482.55 Q246.116 1482.55 247.922 1479.01 Q249.75 1475.44 249.75 1468.33 Q249.75 1461.2 247.922 1457.66 Q246.116 1454.1 242.482 1454.1 M242.482 1450.39 Q248.292 1450.39 251.348 1455 Q254.426 1459.58 254.426 1468.33 Q254.426 1477.06 251.348 1481.67 Q248.292 1486.25 242.482 1486.25 Q236.672 1486.25 233.593 1481.67 Q230.538 1477.06 230.538 1468.33 Q230.538 1459.58 233.593 1455 Q236.672 1450.39 242.482 1450.39 Z\" fill=\"#000000\" fill-rule=\"nonzero\" fill-opacity=\"1\" /><path clip-path=\"url(#clip070)\" d=\"M625.773 1454.1 Q622.162 1454.1 620.333 1457.66 Q618.528 1461.2 618.528 1468.33 Q618.528 1475.44 620.333 1479.01 Q622.162 1482.55 625.773 1482.55 Q629.407 1482.55 631.213 1479.01 Q633.042 1475.44 633.042 1468.33 Q633.042 1461.2 631.213 1457.66 Q629.407 1454.1 625.773 1454.1 M625.773 1450.39 Q631.583 1450.39 634.639 1455 Q637.718 1459.58 637.718 1468.33 Q637.718 1477.06 634.639 1481.67 Q631.583 1486.25 625.773 1486.25 Q619.963 1486.25 616.884 1481.67 Q613.829 1477.06 613.829 1468.33 Q613.829 1459.58 616.884 1455 Q619.963 1450.39 625.773 1450.39 Z\" fill=\"#000000\" fill-rule=\"nonzero\" fill-opacity=\"1\" /><path clip-path=\"url(#clip070)\" d=\"M645.935 1479.7 L650.819 1479.7 L650.819 1485.58 L645.935 1485.58 L645.935 1479.7 Z\" fill=\"#000000\" fill-rule=\"nonzero\" fill-opacity=\"1\" /><path clip-path=\"url(#clip070)\" d=\"M661.815 1481.64 L669.453 1481.64 L669.453 1455.28 L661.143 1456.95 L661.143 1452.69 L669.407 1451.02 L674.083 1451.02 L674.083 1481.64 L681.722 1481.64 L681.722 1485.58 L661.815 1485.58 L661.815 1481.64 Z\" fill=\"#000000\" fill-rule=\"nonzero\" fill-opacity=\"1\" /><path clip-path=\"url(#clip070)\" d=\"M1053.87 1454.1 Q1050.26 1454.1 1048.43 1457.66 Q1046.62 1461.2 1046.62 1468.33 Q1046.62 1475.44 1048.43 1479.01 Q1050.26 1482.55 1053.87 1482.55 Q1057.5 1482.55 1059.31 1479.01 Q1061.14 1475.44 1061.14 1468.33 Q1061.14 1461.2 1059.31 1457.66 Q1057.5 1454.1 1053.87 1454.1 M1053.87 1450.39 Q1059.68 1450.39 1062.73 1455 Q1065.81 1459.58 1065.81 1468.33 Q1065.81 1477.06 1062.73 1481.67 Q1059.68 1486.25 1053.87 1486.25 Q1048.06 1486.25 1044.98 1481.67 Q1041.92 1477.06 1041.92 1468.33 Q1041.92 1459.58 1044.98 1455 Q1048.06 1450.39 1053.87 1450.39 Z\" fill=\"#000000\" fill-rule=\"nonzero\" fill-opacity=\"1\" /><path clip-path=\"url(#clip070)\" d=\"M1074.03 1479.7 L1078.91 1479.7 L1078.91 1485.58 L1074.03 1485.58 L1074.03 1479.7 Z\" fill=\"#000000\" fill-rule=\"nonzero\" fill-opacity=\"1\" /><path clip-path=\"url(#clip070)\" d=\"M1093.13 1481.64 L1109.45 1481.64 L1109.45 1485.58 L1087.5 1485.58 L1087.5 1481.64 Q1090.16 1478.89 1094.75 1474.26 Q1099.35 1469.61 1100.53 1468.27 Q1102.78 1465.74 1103.66 1464.01 Q1104.56 1462.25 1104.56 1460.56 Q1104.56 1457.8 1102.62 1456.07 Q1100.7 1454.33 1097.59 1454.33 Q1095.39 1454.33 1092.94 1455.09 Q1090.51 1455.86 1087.73 1457.41 L1087.73 1452.69 Q1090.56 1451.55 1093.01 1450.97 Q1095.46 1450.39 1097.5 1450.39 Q1102.87 1450.39 1106.07 1453.08 Q1109.26 1455.77 1109.26 1460.26 Q1109.26 1462.39 1108.45 1464.31 Q1107.66 1466.2 1105.56 1468.8 Q1104.98 1469.47 1101.88 1472.69 Q1098.77 1475.88 1093.13 1481.64 Z\" fill=\"#000000\" fill-rule=\"nonzero\" fill-opacity=\"1\" /><path clip-path=\"url(#clip070)\" d=\"M1481.3 1454.1 Q1477.69 1454.1 1475.86 1457.66 Q1474.06 1461.2 1474.06 1468.33 Q1474.06 1475.44 1475.86 1479.01 Q1477.69 1482.55 1481.3 1482.55 Q1484.94 1482.55 1486.74 1479.01 Q1488.57 1475.44 1488.57 1468.33 Q1488.57 1461.2 1486.74 1457.66 Q1484.94 1454.1 1481.3 1454.1 M1481.3 1450.39 Q1487.11 1450.39 1490.17 1455 Q1493.25 1459.58 1493.25 1468.33 Q1493.25 1477.06 1490.17 1481.67 Q1487.11 1486.25 1481.3 1486.25 Q1475.49 1486.25 1472.41 1481.67 Q1469.36 1477.06 1469.36 1468.33 Q1469.36 1459.58 1472.41 1455 Q1475.49 1450.39 1481.3 1450.39 Z\" fill=\"#000000\" fill-rule=\"nonzero\" fill-opacity=\"1\" /><path clip-path=\"url(#clip070)\" d=\"M1501.46 1479.7 L1506.35 1479.7 L1506.35 1485.58 L1501.46 1485.58 L1501.46 1479.7 Z\" fill=\"#000000\" fill-rule=\"nonzero\" fill-opacity=\"1\" /><path clip-path=\"url(#clip070)\" d=\"M1530.7 1466.95 Q1534.06 1467.66 1535.93 1469.93 Q1537.83 1472.2 1537.83 1475.53 Q1537.83 1480.65 1534.31 1483.45 Q1530.79 1486.25 1524.31 1486.25 Q1522.14 1486.25 1519.82 1485.81 Q1517.53 1485.39 1515.07 1484.54 L1515.07 1480.02 Q1517.02 1481.16 1519.33 1481.74 Q1521.65 1482.32 1524.17 1482.32 Q1528.57 1482.32 1530.86 1480.58 Q1533.18 1478.84 1533.18 1475.53 Q1533.18 1472.48 1531.02 1470.77 Q1528.89 1469.03 1525.07 1469.03 L1521.05 1469.03 L1521.05 1465.19 L1525.26 1465.19 Q1528.71 1465.19 1530.54 1463.82 Q1532.37 1462.43 1532.37 1459.84 Q1532.37 1457.18 1530.47 1455.77 Q1528.59 1454.33 1525.07 1454.33 Q1523.15 1454.33 1520.95 1454.75 Q1518.76 1455.16 1516.12 1456.04 L1516.12 1451.88 Q1518.78 1451.14 1521.09 1450.77 Q1523.43 1450.39 1525.49 1450.39 Q1530.82 1450.39 1533.92 1452.83 Q1537.02 1455.23 1537.02 1459.35 Q1537.02 1462.22 1535.38 1464.21 Q1533.73 1466.18 1530.7 1466.95 Z\" fill=\"#000000\" fill-rule=\"nonzero\" fill-opacity=\"1\" /><path clip-path=\"url(#clip070)\" d=\"M1908.64 1454.1 Q1905.03 1454.1 1903.2 1457.66 Q1901.4 1461.2 1901.4 1468.33 Q1901.4 1475.44 1903.2 1479.01 Q1905.03 1482.55 1908.64 1482.55 Q1912.28 1482.55 1914.08 1479.01 Q1915.91 1475.44 1915.91 1468.33 Q1915.91 1461.2 1914.08 1457.66 Q1912.28 1454.1 1908.64 1454.1 M1908.64 1450.39 Q1914.45 1450.39 1917.51 1455 Q1920.59 1459.58 1920.59 1468.33 Q1920.59 1477.06 1917.51 1481.67 Q1914.45 1486.25 1908.64 1486.25 Q1902.83 1486.25 1899.76 1481.67 Q1896.7 1477.06 1896.7 1468.33 Q1896.7 1459.58 1899.76 1455 Q1902.83 1450.39 1908.64 1450.39 Z\" fill=\"#000000\" fill-rule=\"nonzero\" fill-opacity=\"1\" /><path clip-path=\"url(#clip070)\" d=\"M1928.81 1479.7 L1933.69 1479.7 L1933.69 1485.58 L1928.81 1485.58 L1928.81 1479.7 Z\" fill=\"#000000\" fill-rule=\"nonzero\" fill-opacity=\"1\" /><path clip-path=\"url(#clip070)\" d=\"M1956.72 1455.09 L1944.92 1473.54 L1956.72 1473.54 L1956.72 1455.09 M1955.5 1451.02 L1961.38 1451.02 L1961.38 1473.54 L1966.31 1473.54 L1966.31 1477.43 L1961.38 1477.43 L1961.38 1485.58 L1956.72 1485.58 L1956.72 1477.43 L1941.12 1477.43 L1941.12 1472.92 L1955.5 1451.02 Z\" fill=\"#000000\" fill-rule=\"nonzero\" fill-opacity=\"1\" /><path clip-path=\"url(#clip070)\" d=\"M1007.33 1545.76 Q1009.4 1546.46 1011.34 1548.76 Q1013.32 1551.05 1015.29 1555.06 L1021.82 1568.04 L1014.91 1568.04 L1008.83 1555.85 Q1006.47 1551.08 1004.25 1549.52 Q1002.05 1547.96 998.231 1547.96 L991.229 1547.96 L991.229 1568.04 L984.799 1568.04 L984.799 1520.52 L999.313 1520.52 Q1007.46 1520.52 1011.47 1523.93 Q1015.48 1527.34 1015.48 1534.21 Q1015.48 1538.7 1013.38 1541.66 Q1011.31 1544.62 1007.33 1545.76 M991.229 1525.81 L991.229 1542.68 L999.313 1542.68 Q1003.96 1542.68 1006.32 1540.54 Q1008.7 1538.38 1008.7 1534.21 Q1008.7 1530.04 1006.32 1527.94 Q1003.96 1525.81 999.313 1525.81 L991.229 1525.81 Z\" fill=\"#000000\" fill-rule=\"nonzero\" fill-opacity=\"1\" /><path clip-path=\"url(#clip070)\" d=\"M1029.84 1532.4 L1035.69 1532.4 L1035.69 1568.04 L1029.84 1568.04 L1029.84 1532.4 M1029.84 1518.52 L1035.69 1518.52 L1035.69 1525.93 L1029.84 1525.93 L1029.84 1518.52 Z\" fill=\"#000000\" fill-rule=\"nonzero\" fill-opacity=\"1\" /><path clip-path=\"url(#clip070)\" d=\"M1070.67 1533.45 L1070.67 1538.98 Q1068.19 1537.71 1065.52 1537.07 Q1062.84 1536.44 1059.98 1536.44 Q1055.62 1536.44 1053.42 1537.77 Q1051.26 1539.11 1051.26 1541.79 Q1051.26 1543.82 1052.82 1545 Q1054.38 1546.15 1059.09 1547.2 L1061.09 1547.64 Q1067.33 1548.98 1069.94 1551.43 Q1072.58 1553.85 1072.58 1558.21 Q1072.58 1563.17 1068.64 1566.07 Q1064.72 1568.97 1057.85 1568.97 Q1054.98 1568.97 1051.86 1568.39 Q1048.77 1567.85 1045.34 1566.74 L1045.34 1560.69 Q1048.58 1562.38 1051.73 1563.24 Q1054.89 1564.07 1057.97 1564.07 Q1062.11 1564.07 1064.34 1562.66 Q1066.57 1561.23 1066.57 1558.65 Q1066.57 1556.27 1064.94 1554.99 Q1063.35 1553.72 1057.91 1552.54 L1055.87 1552.07 Q1050.43 1550.92 1048.01 1548.56 Q1045.59 1546.18 1045.59 1542.04 Q1045.59 1537.01 1049.16 1534.27 Q1052.72 1531.54 1059.28 1531.54 Q1062.52 1531.54 1065.39 1532.01 Q1068.25 1532.49 1070.67 1533.45 Z\" fill=\"#000000\" fill-rule=\"nonzero\" fill-opacity=\"1\" /><path clip-path=\"url(#clip070)\" d=\"M1081.69 1518.52 L1087.57 1518.52 L1087.57 1547.77 L1105.05 1532.4 L1112.53 1532.4 L1093.62 1549.07 L1113.32 1568.04 L1105.68 1568.04 L1087.57 1550.63 L1087.57 1568.04 L1081.69 1568.04 L1081.69 1518.52 Z\" fill=\"#000000\" fill-rule=\"nonzero\" fill-opacity=\"1\" /><path clip-path=\"url(#clip070)\" d=\"M1163.1 1533.45 L1163.1 1538.98 Q1160.62 1537.71 1157.95 1537.07 Q1155.27 1536.44 1152.41 1536.44 Q1148.05 1536.44 1145.85 1537.77 Q1143.69 1539.11 1143.69 1541.79 Q1143.69 1543.82 1145.25 1545 Q1146.81 1546.15 1151.52 1547.2 L1153.52 1547.64 Q1159.76 1548.98 1162.37 1551.43 Q1165.01 1553.85 1165.01 1558.21 Q1165.01 1563.17 1161.07 1566.07 Q1157.15 1568.97 1150.28 1568.97 Q1147.41 1568.97 1144.29 1568.39 Q1141.2 1567.85 1137.77 1566.74 L1137.77 1560.69 Q1141.01 1562.38 1144.16 1563.24 Q1147.32 1564.07 1150.4 1564.07 Q1154.54 1564.07 1156.77 1562.66 Q1159 1561.23 1159 1558.65 Q1159 1556.27 1157.37 1554.99 Q1155.78 1553.72 1150.34 1552.54 L1148.3 1552.07 Q1142.86 1550.92 1140.44 1548.56 Q1138.02 1546.18 1138.02 1542.04 Q1138.02 1537.01 1141.59 1534.27 Q1145.15 1531.54 1151.71 1531.54 Q1154.95 1531.54 1157.82 1532.01 Q1160.68 1532.49 1163.1 1533.45 Z\" fill=\"#000000\" fill-rule=\"nonzero\" fill-opacity=\"1\" /><path clip-path=\"url(#clip070)\" d=\"M1177.84 1550.25 Q1177.84 1556.71 1180.48 1560.4 Q1183.15 1564.07 1187.8 1564.07 Q1192.45 1564.07 1195.12 1560.4 Q1197.8 1556.71 1197.8 1550.25 Q1197.8 1543.79 1195.12 1540.13 Q1192.45 1536.44 1187.8 1536.44 Q1183.15 1536.44 1180.48 1540.13 Q1177.84 1543.79 1177.84 1550.25 M1197.8 1562.7 Q1195.95 1565.88 1193.12 1567.44 Q1190.32 1568.97 1186.37 1568.97 Q1179.91 1568.97 1175.83 1563.81 Q1171.79 1558.65 1171.79 1550.25 Q1171.79 1541.85 1175.83 1536.69 Q1179.91 1531.54 1186.37 1531.54 Q1190.32 1531.54 1193.12 1533.1 Q1195.95 1534.62 1197.8 1537.81 L1197.8 1532.4 L1203.65 1532.4 L1203.65 1581.6 L1197.8 1581.6 L1197.8 1562.7 Z\" fill=\"#000000\" fill-rule=\"nonzero\" fill-opacity=\"1\" /><path clip-path=\"url(#clip070)\" d=\"M1236.37 1537.87 Q1235.39 1537.3 1234.21 1537.04 Q1233.06 1536.76 1231.66 1536.76 Q1226.7 1536.76 1224.02 1540 Q1221.38 1543.22 1221.38 1549.27 L1221.38 1568.04 L1215.49 1568.04 L1215.49 1532.4 L1221.38 1532.4 L1221.38 1537.93 Q1223.23 1534.69 1226.19 1533.13 Q1229.15 1531.54 1233.38 1531.54 Q1233.98 1531.54 1234.72 1531.63 Q1235.45 1531.7 1236.34 1531.85 L1236.37 1537.87 Z\" fill=\"#000000\" fill-rule=\"nonzero\" fill-opacity=\"1\" /><path clip-path=\"url(#clip070)\" d=\"M1248.31 1522.27 L1248.31 1532.4 L1260.37 1532.4 L1260.37 1536.95 L1248.31 1536.95 L1248.31 1556.3 Q1248.31 1560.66 1249.49 1561.9 Q1250.69 1563.14 1254.36 1563.14 L1260.37 1563.14 L1260.37 1568.04 L1254.36 1568.04 Q1247.58 1568.04 1245 1565.53 Q1242.42 1562.98 1242.42 1556.3 L1242.42 1536.95 L1238.12 1536.95 L1238.12 1532.4 L1242.42 1532.4 L1242.42 1522.27 L1248.31 1522.27 Z\" fill=\"#000000\" fill-rule=\"nonzero\" fill-opacity=\"1\" /><path clip-path=\"url(#clip070)\" d=\"M1282.14 1518.58 Q1277.88 1525.9 1275.81 1533.06 Q1273.74 1540.23 1273.74 1547.58 Q1273.74 1554.93 1275.81 1562.16 Q1277.91 1569.35 1282.14 1576.64 L1277.05 1576.64 Q1272.27 1569.16 1269.89 1561.93 Q1267.53 1554.71 1267.53 1547.58 Q1267.53 1540.48 1269.89 1533.29 Q1272.24 1526.09 1277.05 1518.58 L1282.14 1518.58 Z\" fill=\"#000000\" fill-rule=\"nonzero\" fill-opacity=\"1\" /><path clip-path=\"url(#clip070)\" d=\"M1289.3 1532.4 L1295.51 1532.4 L1306.65 1562.31 L1317.79 1532.4 L1324 1532.4 L1310.63 1568.04 L1302.67 1568.04 L1289.3 1532.4 Z\" fill=\"#000000\" fill-rule=\"nonzero\" fill-opacity=\"1\" /><path clip-path=\"url(#clip070)\" d=\"M1348.28 1550.12 Q1341.18 1550.12 1338.45 1551.75 Q1335.71 1553.37 1335.71 1557.29 Q1335.71 1560.4 1337.75 1562.25 Q1339.81 1564.07 1343.35 1564.07 Q1348.22 1564.07 1351.15 1560.63 Q1354.11 1557.16 1354.11 1551.43 L1354.11 1550.12 L1348.28 1550.12 M1359.96 1547.71 L1359.96 1568.04 L1354.11 1568.04 L1354.11 1562.63 Q1352.1 1565.88 1349.11 1567.44 Q1346.12 1568.97 1341.79 1568.97 Q1336.31 1568.97 1333.07 1565.91 Q1329.85 1562.82 1329.85 1557.67 Q1329.85 1551.65 1333.86 1548.6 Q1337.91 1545.54 1345.89 1545.54 L1354.11 1545.54 L1354.11 1544.97 Q1354.11 1540.93 1351.43 1538.73 Q1348.79 1536.5 1343.98 1536.5 Q1340.93 1536.5 1338.03 1537.23 Q1335.14 1537.97 1332.46 1539.43 L1332.46 1534.02 Q1335.68 1532.78 1338.7 1532.17 Q1341.72 1531.54 1344.59 1531.54 Q1352.32 1531.54 1356.14 1535.55 Q1359.96 1539.56 1359.96 1547.71 Z\" fill=\"#000000\" fill-rule=\"nonzero\" fill-opacity=\"1\" /><path clip-path=\"url(#clip070)\" d=\"M1392.68 1537.87 Q1391.7 1537.3 1390.52 1537.04 Q1389.37 1536.76 1387.97 1536.76 Q1383.01 1536.76 1380.33 1540 Q1377.69 1543.22 1377.69 1549.27 L1377.69 1568.04 L1371.8 1568.04 L1371.8 1532.4 L1377.69 1532.4 L1377.69 1537.93 Q1379.54 1534.69 1382.5 1533.13 Q1385.46 1531.54 1389.69 1531.54 Q1390.29 1531.54 1391.03 1531.63 Q1391.76 1531.7 1392.65 1531.85 L1392.68 1537.87 Z\" fill=\"#000000\" fill-rule=\"nonzero\" fill-opacity=\"1\" /><path clip-path=\"url(#clip070)\" d=\"M1398.82 1532.4 L1404.68 1532.4 L1404.68 1568.04 L1398.82 1568.04 L1398.82 1532.4 M1398.82 1518.52 L1404.68 1518.52 L1404.68 1525.93 L1398.82 1525.93 L1398.82 1518.52 Z\" fill=\"#000000\" fill-rule=\"nonzero\" fill-opacity=\"1\" /><path clip-path=\"url(#clip070)\" d=\"M1433.14 1550.12 Q1426.04 1550.12 1423.3 1551.75 Q1420.56 1553.37 1420.56 1557.29 Q1420.56 1560.4 1422.6 1562.25 Q1424.67 1564.07 1428.2 1564.07 Q1433.07 1564.07 1436 1560.63 Q1438.96 1557.16 1438.96 1551.43 L1438.96 1550.12 L1433.14 1550.12 M1444.82 1547.71 L1444.82 1568.04 L1438.96 1568.04 L1438.96 1562.63 Q1436.96 1565.88 1433.96 1567.44 Q1430.97 1568.97 1426.64 1568.97 Q1421.17 1568.97 1417.92 1565.91 Q1414.71 1562.82 1414.71 1557.67 Q1414.71 1551.65 1418.72 1548.6 Q1422.76 1545.54 1430.75 1545.54 L1438.96 1545.54 L1438.96 1544.97 Q1438.96 1540.93 1436.29 1538.73 Q1433.65 1536.5 1428.84 1536.5 Q1425.78 1536.5 1422.89 1537.23 Q1419.99 1537.97 1417.32 1539.43 L1417.32 1534.02 Q1420.53 1532.78 1423.56 1532.17 Q1426.58 1531.54 1429.44 1531.54 Q1437.18 1531.54 1441 1535.55 Q1444.82 1539.56 1444.82 1547.71 Z\" fill=\"#000000\" fill-rule=\"nonzero\" fill-opacity=\"1\" /><path clip-path=\"url(#clip070)\" d=\"M1486.51 1546.53 L1486.51 1568.04 L1480.66 1568.04 L1480.66 1546.72 Q1480.66 1541.66 1478.68 1539.14 Q1476.71 1536.63 1472.76 1536.63 Q1468.02 1536.63 1465.28 1539.65 Q1462.55 1542.68 1462.55 1547.9 L1462.55 1568.04 L1456.66 1568.04 L1456.66 1532.4 L1462.55 1532.4 L1462.55 1537.93 Q1464.65 1534.72 1467.48 1533.13 Q1470.34 1531.54 1474.07 1531.54 Q1480.21 1531.54 1483.36 1535.36 Q1486.51 1539.14 1486.51 1546.53 Z\" fill=\"#000000\" fill-rule=\"nonzero\" fill-opacity=\"1\" /><path clip-path=\"url(#clip070)\" d=\"M1523.85 1533.76 L1523.85 1539.24 Q1521.36 1537.87 1518.85 1537.2 Q1516.37 1536.5 1513.82 1536.5 Q1508.12 1536.5 1504.97 1540.13 Q1501.82 1543.73 1501.82 1550.25 Q1501.82 1556.78 1504.97 1560.4 Q1508.12 1564 1513.82 1564 Q1516.37 1564 1518.85 1563.33 Q1521.36 1562.63 1523.85 1561.26 L1523.85 1566.68 Q1521.4 1567.82 1518.75 1568.39 Q1516.14 1568.97 1513.18 1568.97 Q1505.13 1568.97 1500.39 1563.91 Q1495.65 1558.85 1495.65 1550.25 Q1495.65 1541.53 1500.42 1536.53 Q1505.23 1531.54 1513.57 1531.54 Q1516.27 1531.54 1518.85 1532.11 Q1521.43 1532.65 1523.85 1533.76 Z\" fill=\"#000000\" fill-rule=\"nonzero\" fill-opacity=\"1\" /><path clip-path=\"url(#clip070)\" d=\"M1564.52 1548.76 L1564.52 1551.62 L1537.6 1551.62 Q1537.98 1557.67 1541.23 1560.85 Q1544.5 1564 1550.33 1564 Q1553.7 1564 1556.85 1563.17 Q1560.04 1562.35 1563.16 1560.69 L1563.16 1566.23 Q1560 1567.57 1556.69 1568.27 Q1553.38 1568.97 1549.98 1568.97 Q1541.45 1568.97 1536.45 1564 Q1531.49 1559.04 1531.49 1550.57 Q1531.49 1541.82 1536.2 1536.69 Q1540.94 1531.54 1548.96 1531.54 Q1556.15 1531.54 1560.32 1536.18 Q1564.52 1540.8 1564.52 1548.76 M1558.67 1547.04 Q1558.6 1542.23 1555.96 1539.37 Q1553.35 1536.5 1549.02 1536.5 Q1544.12 1536.5 1541.16 1539.27 Q1538.23 1542.04 1537.79 1547.07 L1558.67 1547.04 Z\" fill=\"#000000\" fill-rule=\"nonzero\" fill-opacity=\"1\" /><path clip-path=\"url(#clip070)\" d=\"M1573.21 1518.58 L1578.31 1518.58 Q1583.08 1526.09 1585.44 1533.29 Q1587.82 1540.48 1587.82 1547.58 Q1587.82 1554.71 1585.44 1561.93 Q1583.08 1569.16 1578.31 1576.64 L1573.21 1576.64 Q1577.45 1569.35 1579.52 1562.16 Q1581.62 1554.93 1581.62 1547.58 Q1581.62 1540.23 1579.52 1533.06 Q1577.45 1525.9 1573.21 1518.58 Z\" fill=\"#000000\" fill-rule=\"nonzero\" fill-opacity=\"1\" /><polyline clip-path=\"url(#clip072)\" style=\"stroke:#000000; stroke-linecap:round; stroke-linejoin:round; stroke-width:2; stroke-opacity:0.1; fill:none\" points=\"219.866,1240.01 2352.76,1240.01 \"/>\n",
       "<polyline clip-path=\"url(#clip072)\" style=\"stroke:#000000; stroke-linecap:round; stroke-linejoin:round; stroke-width:2; stroke-opacity:0.1; fill:none\" points=\"219.866,951.557 2352.76,951.557 \"/>\n",
       "<polyline clip-path=\"url(#clip072)\" style=\"stroke:#000000; stroke-linecap:round; stroke-linejoin:round; stroke-width:2; stroke-opacity:0.1; fill:none\" points=\"219.866,663.1 2352.76,663.1 \"/>\n",
       "<polyline clip-path=\"url(#clip072)\" style=\"stroke:#000000; stroke-linecap:round; stroke-linejoin:round; stroke-width:2; stroke-opacity:0.1; fill:none\" points=\"219.866,374.643 2352.76,374.643 \"/>\n",
       "<polyline clip-path=\"url(#clip072)\" style=\"stroke:#000000; stroke-linecap:round; stroke-linejoin:round; stroke-width:2; stroke-opacity:0.1; fill:none\" points=\"219.866,86.1856 2352.76,86.1856 \"/>\n",
       "<polyline clip-path=\"url(#clip070)\" style=\"stroke:#000000; stroke-linecap:round; stroke-linejoin:round; stroke-width:4; stroke-opacity:1; fill:none\" points=\"219.866,1423.18 219.866,47.2441 \"/>\n",
       "<polyline clip-path=\"url(#clip070)\" style=\"stroke:#000000; stroke-linecap:round; stroke-linejoin:round; stroke-width:4; stroke-opacity:1; fill:none\" points=\"219.866,1240.01 238.764,1240.01 \"/>\n",
       "<polyline clip-path=\"url(#clip070)\" style=\"stroke:#000000; stroke-linecap:round; stroke-linejoin:round; stroke-width:4; stroke-opacity:1; fill:none\" points=\"219.866,951.557 238.764,951.557 \"/>\n",
       "<polyline clip-path=\"url(#clip070)\" style=\"stroke:#000000; stroke-linecap:round; stroke-linejoin:round; stroke-width:4; stroke-opacity:1; fill:none\" points=\"219.866,663.1 238.764,663.1 \"/>\n",
       "<polyline clip-path=\"url(#clip070)\" style=\"stroke:#000000; stroke-linecap:round; stroke-linejoin:round; stroke-width:4; stroke-opacity:1; fill:none\" points=\"219.866,374.643 238.764,374.643 \"/>\n",
       "<polyline clip-path=\"url(#clip070)\" style=\"stroke:#000000; stroke-linecap:round; stroke-linejoin:round; stroke-width:4; stroke-opacity:1; fill:none\" points=\"219.866,86.1856 238.764,86.1856 \"/>\n",
       "<path clip-path=\"url(#clip070)\" d=\"M127.917 1225.81 Q124.306 1225.81 122.478 1229.38 Q120.672 1232.92 120.672 1240.05 Q120.672 1247.15 122.478 1250.72 Q124.306 1254.26 127.917 1254.26 Q131.552 1254.26 133.357 1250.72 Q135.186 1247.15 135.186 1240.05 Q135.186 1232.92 133.357 1229.38 Q131.552 1225.81 127.917 1225.81 M127.917 1222.11 Q133.728 1222.11 136.783 1226.72 Q139.862 1231.3 139.862 1240.05 Q139.862 1248.78 136.783 1253.38 Q133.728 1257.96 127.917 1257.96 Q122.107 1257.96 119.029 1253.38 Q115.973 1248.78 115.973 1240.05 Q115.973 1231.3 119.029 1226.72 Q122.107 1222.11 127.917 1222.11 Z\" fill=\"#000000\" fill-rule=\"nonzero\" fill-opacity=\"1\" /><path clip-path=\"url(#clip070)\" d=\"M148.079 1251.41 L152.964 1251.41 L152.964 1257.29 L148.079 1257.29 L148.079 1251.41 Z\" fill=\"#000000\" fill-rule=\"nonzero\" fill-opacity=\"1\" /><path clip-path=\"url(#clip070)\" d=\"M163.959 1253.36 L171.598 1253.36 L171.598 1226.99 L163.288 1228.66 L163.288 1224.4 L171.552 1222.73 L176.227 1222.73 L176.227 1253.36 L183.866 1253.36 L183.866 1257.29 L163.959 1257.29 L163.959 1253.36 Z\" fill=\"#000000\" fill-rule=\"nonzero\" fill-opacity=\"1\" /><path clip-path=\"url(#clip070)\" d=\"M128.288 937.355 Q124.677 937.355 122.848 940.92 Q121.043 944.462 121.043 951.591 Q121.043 958.698 122.848 962.263 Q124.677 965.804 128.288 965.804 Q131.922 965.804 133.728 962.263 Q135.556 958.698 135.556 951.591 Q135.556 944.462 133.728 940.92 Q131.922 937.355 128.288 937.355 M128.288 933.652 Q134.098 933.652 137.154 938.258 Q140.232 942.841 140.232 951.591 Q140.232 960.318 137.154 964.925 Q134.098 969.508 128.288 969.508 Q122.478 969.508 119.399 964.925 Q116.343 960.318 116.343 951.591 Q116.343 942.841 119.399 938.258 Q122.478 933.652 128.288 933.652 Z\" fill=\"#000000\" fill-rule=\"nonzero\" fill-opacity=\"1\" /><path clip-path=\"url(#clip070)\" d=\"M148.45 962.957 L153.334 962.957 L153.334 968.837 L148.45 968.837 L148.45 962.957 Z\" fill=\"#000000\" fill-rule=\"nonzero\" fill-opacity=\"1\" /><path clip-path=\"url(#clip070)\" d=\"M167.547 964.901 L183.866 964.901 L183.866 968.837 L161.922 968.837 L161.922 964.901 Q164.584 962.147 169.167 957.517 Q173.774 952.864 174.954 951.522 Q177.2 948.999 178.079 947.263 Q178.982 945.503 178.982 943.814 Q178.982 941.059 177.038 939.323 Q175.116 937.587 172.014 937.587 Q169.815 937.587 167.362 938.351 Q164.931 939.115 162.153 940.665 L162.153 935.943 Q164.977 934.809 167.431 934.23 Q169.885 933.652 171.922 933.652 Q177.292 933.652 180.487 936.337 Q183.681 939.022 183.681 943.513 Q183.681 945.642 182.871 947.564 Q182.084 949.462 179.977 952.054 Q179.399 952.726 176.297 955.943 Q173.195 959.138 167.547 964.901 Z\" fill=\"#000000\" fill-rule=\"nonzero\" fill-opacity=\"1\" /><path clip-path=\"url(#clip070)\" d=\"M127.339 648.898 Q123.728 648.898 121.899 652.463 Q120.093 656.005 120.093 663.134 Q120.093 670.241 121.899 673.806 Q123.728 677.347 127.339 677.347 Q130.973 677.347 132.779 673.806 Q134.607 670.241 134.607 663.134 Q134.607 656.005 132.779 652.463 Q130.973 648.898 127.339 648.898 M127.339 645.195 Q133.149 645.195 136.204 649.801 Q139.283 654.384 139.283 663.134 Q139.283 671.861 136.204 676.468 Q133.149 681.051 127.339 681.051 Q121.529 681.051 118.45 676.468 Q115.394 671.861 115.394 663.134 Q115.394 654.384 118.45 649.801 Q121.529 645.195 127.339 645.195 Z\" fill=\"#000000\" fill-rule=\"nonzero\" fill-opacity=\"1\" /><path clip-path=\"url(#clip070)\" d=\"M147.501 674.5 L152.385 674.5 L152.385 680.38 L147.501 680.38 L147.501 674.5 Z\" fill=\"#000000\" fill-rule=\"nonzero\" fill-opacity=\"1\" /><path clip-path=\"url(#clip070)\" d=\"M176.737 661.745 Q180.093 662.463 181.968 664.732 Q183.866 667 183.866 670.333 Q183.866 675.449 180.348 678.25 Q176.829 681.051 170.348 681.051 Q168.172 681.051 165.857 680.611 Q163.565 680.194 161.112 679.338 L161.112 674.824 Q163.056 675.958 165.371 676.537 Q167.686 677.116 170.209 677.116 Q174.607 677.116 176.899 675.38 Q179.214 673.644 179.214 670.333 Q179.214 667.278 177.061 665.565 Q174.931 663.829 171.112 663.829 L167.084 663.829 L167.084 659.986 L171.297 659.986 Q174.746 659.986 176.575 658.62 Q178.403 657.232 178.403 654.639 Q178.403 651.977 176.505 650.565 Q174.63 649.13 171.112 649.13 Q169.19 649.13 166.991 649.546 Q164.792 649.963 162.153 650.843 L162.153 646.676 Q164.815 645.935 167.13 645.565 Q169.468 645.195 171.528 645.195 Q176.852 645.195 179.954 647.625 Q183.056 650.033 183.056 654.153 Q183.056 657.023 181.413 659.014 Q179.769 660.982 176.737 661.745 Z\" fill=\"#000000\" fill-rule=\"nonzero\" fill-opacity=\"1\" /><path clip-path=\"url(#clip070)\" d=\"M126.205 360.441 Q122.593 360.441 120.765 364.006 Q118.959 367.548 118.959 374.677 Q118.959 381.784 120.765 385.349 Q122.593 388.89 126.205 388.89 Q129.839 388.89 131.644 385.349 Q133.473 381.784 133.473 374.677 Q133.473 367.548 131.644 364.006 Q129.839 360.441 126.205 360.441 M126.205 356.738 Q132.015 356.738 135.07 361.344 Q138.149 365.927 138.149 374.677 Q138.149 383.404 135.07 388.011 Q132.015 392.594 126.205 392.594 Q120.394 392.594 117.316 388.011 Q114.26 383.404 114.26 374.677 Q114.26 365.927 117.316 361.344 Q120.394 356.738 126.205 356.738 Z\" fill=\"#000000\" fill-rule=\"nonzero\" fill-opacity=\"1\" /><path clip-path=\"url(#clip070)\" d=\"M146.366 386.043 L151.251 386.043 L151.251 391.923 L146.366 391.923 L146.366 386.043 Z\" fill=\"#000000\" fill-rule=\"nonzero\" fill-opacity=\"1\" /><path clip-path=\"url(#clip070)\" d=\"M174.283 361.437 L162.477 379.886 L174.283 379.886 L174.283 361.437 M173.056 357.363 L178.936 357.363 L178.936 379.886 L183.866 379.886 L183.866 383.775 L178.936 383.775 L178.936 391.923 L174.283 391.923 L174.283 383.775 L158.681 383.775 L158.681 379.261 L173.056 357.363 Z\" fill=\"#000000\" fill-rule=\"nonzero\" fill-opacity=\"1\" /><path clip-path=\"url(#clip070)\" d=\"M127.686 71.9843 Q124.075 71.9843 122.246 75.5491 Q120.441 79.0908 120.441 86.2204 Q120.441 93.3268 122.246 96.8916 Q124.075 100.433 127.686 100.433 Q131.32 100.433 133.126 96.8916 Q134.954 93.3268 134.954 86.2204 Q134.954 79.0908 133.126 75.5491 Q131.32 71.9843 127.686 71.9843 M127.686 68.2807 Q133.496 68.2807 136.552 72.8871 Q139.63 77.4704 139.63 86.2204 Q139.63 94.9472 136.552 99.5536 Q133.496 104.137 127.686 104.137 Q121.876 104.137 118.797 99.5536 Q115.742 94.9472 115.742 86.2204 Q115.742 77.4704 118.797 72.8871 Q121.876 68.2807 127.686 68.2807 Z\" fill=\"#000000\" fill-rule=\"nonzero\" fill-opacity=\"1\" /><path clip-path=\"url(#clip070)\" d=\"M147.848 97.5861 L152.732 97.5861 L152.732 103.466 L147.848 103.466 L147.848 97.5861 Z\" fill=\"#000000\" fill-rule=\"nonzero\" fill-opacity=\"1\" /><path clip-path=\"url(#clip070)\" d=\"M162.964 68.9056 L181.32 68.9056 L181.32 72.8408 L167.246 72.8408 L167.246 81.313 Q168.264 80.9658 169.283 80.8037 Q170.302 80.6185 171.32 80.6185 Q177.107 80.6185 180.487 83.7898 Q183.866 86.9611 183.866 92.3777 Q183.866 97.9564 180.394 101.058 Q176.922 104.137 170.602 104.137 Q168.427 104.137 166.158 103.767 Q163.913 103.396 161.505 102.655 L161.505 97.9564 Q163.589 99.0907 165.811 99.6462 Q168.033 100.202 170.51 100.202 Q174.514 100.202 176.852 98.0953 Q179.19 95.9888 179.19 92.3777 Q179.19 88.7667 176.852 86.6602 Q174.514 84.5537 170.51 84.5537 Q168.635 84.5537 166.76 84.9704 Q164.908 85.387 162.964 86.2667 L162.964 68.9056 Z\" fill=\"#000000\" fill-rule=\"nonzero\" fill-opacity=\"1\" /><path clip-path=\"url(#clip070)\" d=\"M41.7242 1023.55 Q42.4244 1021.48 44.7161 1019.54 Q47.0077 1017.56 51.0181 1015.59 L64.0042 1009.06 L64.0042 1015.97 L51.8138 1022.05 Q47.0395 1024.41 45.48 1026.63 Q43.9204 1028.83 43.9204 1032.65 L43.9204 1039.65 L64.0042 1039.65 L64.0042 1046.08 L16.4842 1046.08 L16.4842 1031.57 Q16.4842 1023.42 19.8898 1019.41 Q23.2955 1015.4 30.1704 1015.4 Q34.6582 1015.4 37.6183 1017.5 Q40.5784 1019.57 41.7242 1023.55 M21.7677 1039.65 L38.6368 1039.65 L38.6368 1031.57 Q38.6368 1026.92 36.5043 1024.57 Q34.34 1022.18 30.1704 1022.18 Q26.0009 1022.18 23.9002 1024.57 Q21.7677 1026.92 21.7677 1031.57 L21.7677 1039.65 Z\" fill=\"#000000\" fill-rule=\"nonzero\" fill-opacity=\"1\" /><path clip-path=\"url(#clip070)\" d=\"M44.7161 973.48 L47.5806 973.48 L47.5806 1000.41 Q53.6281 1000.03 56.8109 996.779 Q59.9619 993.501 59.9619 987.676 Q59.9619 984.302 59.1344 981.151 Q58.3069 977.968 56.6518 974.849 L62.1899 974.849 Q63.5267 978 64.227 981.31 Q64.9272 984.62 64.9272 988.026 Q64.9272 996.556 59.9619 1001.55 Q54.9967 1006.52 46.5303 1006.52 Q37.7774 1006.52 32.6531 1001.81 Q27.4968 997.065 27.4968 989.045 Q27.4968 981.851 32.1438 977.682 Q36.7589 973.48 44.7161 973.48 M42.9973 979.337 Q38.1912 979.4 35.3266 982.042 Q32.4621 984.652 32.4621 988.981 Q32.4621 993.882 35.2312 996.843 Q38.0002 999.771 43.0292 1000.22 L42.9973 979.337 Z\" fill=\"#000000\" fill-rule=\"nonzero\" fill-opacity=\"1\" /><path clip-path=\"url(#clip070)\" d=\"M28.3562 967.274 L28.3562 961.417 L56.1743 954.097 L28.3562 946.808 L28.3562 939.901 L56.1743 932.581 L28.3562 925.292 L28.3562 919.436 L64.0042 928.761 L64.0042 935.668 L34.7856 943.339 L64.0042 951.041 L64.0042 957.948 L28.3562 967.274 Z\" fill=\"#000000\" fill-rule=\"nonzero\" fill-opacity=\"1\" /><path clip-path=\"url(#clip070)\" d=\"M46.0847 894.355 Q46.0847 901.452 47.7079 904.19 Q49.3312 906.927 53.2461 906.927 Q56.3653 906.927 58.2114 904.89 Q60.0256 902.821 60.0256 899.288 Q60.0256 894.418 56.5881 891.49 Q53.1188 888.53 47.3897 888.53 L46.0847 888.53 L46.0847 894.355 M43.6657 882.674 L64.0042 882.674 L64.0042 888.53 L58.5933 888.53 Q61.8398 890.535 63.3994 893.527 Q64.9272 896.519 64.9272 900.848 Q64.9272 906.322 61.8716 909.569 Q58.7843 912.783 53.6281 912.783 Q47.6125 912.783 44.5569 908.773 Q41.5014 904.731 41.5014 896.742 L41.5014 888.53 L40.9285 888.53 Q36.8862 888.53 34.6901 891.204 Q32.4621 893.845 32.4621 898.651 Q32.4621 901.707 33.1941 904.603 Q33.9262 907.5 35.3903 910.173 L29.9795 910.173 Q28.7381 906.959 28.1334 903.935 Q27.4968 900.911 27.4968 898.047 Q27.4968 890.312 31.5072 886.493 Q35.5176 882.674 43.6657 882.674 Z\" fill=\"#000000\" fill-rule=\"nonzero\" fill-opacity=\"1\" /><path clip-path=\"url(#clip070)\" d=\"M33.8307 849.954 Q33.2578 850.941 33.0032 852.118 Q32.7167 853.264 32.7167 854.664 Q32.7167 859.63 35.9632 862.303 Q39.1779 864.945 45.2253 864.945 L64.0042 864.945 L64.0042 870.833 L28.3562 870.833 L28.3562 864.945 L33.8944 864.945 Q30.6479 863.099 29.0883 860.139 Q27.4968 857.179 27.4968 852.946 Q27.4968 852.341 27.5923 851.609 Q27.656 850.877 27.8151 849.986 L33.8307 849.954 Z\" fill=\"#000000\" fill-rule=\"nonzero\" fill-opacity=\"1\" /><path clip-path=\"url(#clip070)\" d=\"M33.7671 821.499 L14.479 821.499 L14.479 815.643 L64.0042 815.643 L64.0042 821.499 L58.657 821.499 Q61.8398 823.345 63.3994 826.178 Q64.9272 828.979 64.9272 832.926 Q64.9272 839.387 59.771 843.461 Q54.6147 847.503 46.212 847.503 Q37.8093 847.503 32.6531 843.461 Q27.4968 839.387 27.4968 832.926 Q27.4968 828.979 29.0564 826.178 Q30.5842 823.345 33.7671 821.499 M46.212 841.456 Q52.6732 841.456 56.3653 838.814 Q60.0256 836.14 60.0256 831.493 Q60.0256 826.846 56.3653 824.173 Q52.6732 821.499 46.212 821.499 Q39.7508 821.499 36.0905 824.173 Q32.3984 826.846 32.3984 831.493 Q32.3984 836.14 36.0905 838.814 Q39.7508 841.456 46.212 841.456 Z\" fill=\"#000000\" fill-rule=\"nonzero\" fill-opacity=\"1\" /><path clip-path=\"url(#clip070)\" d=\"M14.5426 768.791 Q21.8632 773.056 29.0246 775.125 Q36.186 777.194 43.5384 777.194 Q50.8908 777.194 58.1159 775.125 Q65.3091 773.024 72.5979 768.791 L72.5979 773.884 Q65.1182 778.658 57.8931 781.045 Q50.668 783.4 43.5384 783.4 Q36.4406 783.4 29.2474 781.045 Q22.0542 778.69 14.5426 773.884 L14.5426 768.791 Z\" fill=\"#000000\" fill-rule=\"nonzero\" fill-opacity=\"1\" /><path clip-path=\"url(#clip070)\" d=\"M14.479 757.428 L14.479 751.572 L64.0042 751.572 L64.0042 757.428 L14.479 757.428 Z\" fill=\"#000000\" fill-rule=\"nonzero\" fill-opacity=\"1\" /><path clip-path=\"url(#clip070)\" d=\"M32.4621 725.504 Q32.4621 730.215 36.1542 732.952 Q39.8145 735.689 46.212 735.689 Q52.6095 735.689 56.3017 732.984 Q59.9619 730.247 59.9619 725.504 Q59.9619 720.825 56.2698 718.088 Q52.5777 715.351 46.212 715.351 Q39.8781 715.351 36.186 718.088 Q32.4621 720.825 32.4621 725.504 M27.4968 725.504 Q27.4968 717.865 32.4621 713.505 Q37.4273 709.144 46.212 709.144 Q54.9649 709.144 59.9619 713.505 Q64.9272 717.865 64.9272 725.504 Q64.9272 733.175 59.9619 737.535 Q54.9649 741.864 46.212 741.864 Q37.4273 741.864 32.4621 737.535 Q27.4968 733.175 27.4968 725.504 Z\" fill=\"#000000\" fill-rule=\"nonzero\" fill-opacity=\"1\" /><path clip-path=\"url(#clip070)\" d=\"M45.7664 675.979 Q39.4007 675.979 35.8996 678.621 Q32.3984 681.231 32.3984 685.973 Q32.3984 690.684 35.8996 693.326 Q39.4007 695.936 45.7664 695.936 Q52.1003 695.936 55.6014 693.326 Q59.1026 690.684 59.1026 685.973 Q59.1026 681.231 55.6014 678.621 Q52.1003 675.979 45.7664 675.979 M59.58 670.123 Q68.683 670.123 73.1071 674.165 Q77.5631 678.207 77.5631 686.546 Q77.5631 689.634 77.0857 692.371 Q76.6401 695.108 75.6852 697.686 L69.9879 697.686 Q71.3884 695.108 72.0568 692.594 Q72.7252 690.079 72.7252 687.469 Q72.7252 681.708 69.7015 678.844 Q66.7096 675.979 60.6303 675.979 L57.7339 675.979 Q60.885 677.793 62.4446 680.626 Q64.0042 683.459 64.0042 687.406 Q64.0042 693.962 59.0071 697.973 Q54.01 701.983 45.7664 701.983 Q37.491 701.983 32.4939 697.973 Q27.4968 693.962 27.4968 687.406 Q27.4968 683.459 29.0564 680.626 Q30.616 677.793 33.7671 675.979 L28.3562 675.979 L28.3562 670.123 L59.58 670.123 Z\" fill=\"#000000\" fill-rule=\"nonzero\" fill-opacity=\"1\" /><path clip-path=\"url(#clip070)\" d=\"M33.8307 616.683 Q33.2578 617.669 33.0032 618.847 Q32.7167 619.993 32.7167 621.393 Q32.7167 626.358 35.9632 629.032 Q39.1779 631.674 45.2253 631.674 L64.0042 631.674 L64.0042 637.562 L28.3562 637.562 L28.3562 631.674 L33.8944 631.674 Q30.6479 629.828 29.0883 626.868 Q27.4968 623.908 27.4968 619.674 Q27.4968 619.07 27.5923 618.338 Q27.656 617.606 27.8151 616.714 L33.8307 616.683 Z\" fill=\"#000000\" fill-rule=\"nonzero\" fill-opacity=\"1\" /><path clip-path=\"url(#clip070)\" d=\"M44.7161 581.48 L47.5806 581.48 L47.5806 608.407 Q53.6281 608.025 56.8109 604.779 Q59.9619 601.5 59.9619 595.676 Q59.9619 592.302 59.1344 589.151 Q58.3069 585.968 56.6518 582.849 L62.1899 582.849 Q63.5267 586 64.227 589.31 Q64.9272 592.62 64.9272 596.026 Q64.9272 604.556 59.9619 609.553 Q54.9967 614.518 46.5303 614.518 Q37.7774 614.518 32.6531 609.808 Q27.4968 605.065 27.4968 597.044 Q27.4968 589.851 32.1438 585.682 Q36.7589 581.48 44.7161 581.48 M42.9973 587.337 Q38.1912 587.4 35.3266 590.042 Q32.4621 592.652 32.4621 596.981 Q32.4621 601.882 35.2312 604.842 Q38.0002 607.771 43.0292 608.216 L42.9973 587.337 Z\" fill=\"#000000\" fill-rule=\"nonzero\" fill-opacity=\"1\" /><path clip-path=\"url(#clip070)\" d=\"M18.2347 566.075 L28.3562 566.075 L28.3562 554.012 L32.9077 554.012 L32.9077 566.075 L52.2594 566.075 Q56.6199 566.075 57.8613 564.897 Q59.1026 563.688 59.1026 560.028 L59.1026 554.012 L64.0042 554.012 L64.0042 560.028 Q64.0042 566.807 61.4897 569.385 Q58.9434 571.963 52.2594 571.963 L32.9077 571.963 L32.9077 576.26 L28.3562 576.26 L28.3562 571.963 L18.2347 571.963 L18.2347 566.075 Z\" fill=\"#000000\" fill-rule=\"nonzero\" fill-opacity=\"1\" /><path clip-path=\"url(#clip070)\" d=\"M49.9359 546.914 L28.3562 546.914 L28.3562 541.058 L49.7131 541.058 Q54.7739 541.058 57.3202 539.085 Q59.8346 537.111 59.8346 533.164 Q59.8346 528.422 56.8109 525.685 Q53.7872 522.916 48.5673 522.916 L28.3562 522.916 L28.3562 517.059 L64.0042 517.059 L64.0042 522.916 L58.5296 522.916 Q61.7762 525.048 63.3676 527.881 Q64.9272 530.682 64.9272 534.406 Q64.9272 540.549 61.1078 543.732 Q57.2883 546.914 49.9359 546.914 M27.4968 532.178 L27.4968 532.178 Z\" fill=\"#000000\" fill-rule=\"nonzero\" fill-opacity=\"1\" /><path clip-path=\"url(#clip070)\" d=\"M33.8307 484.339 Q33.2578 485.326 33.0032 486.504 Q32.7167 487.65 32.7167 489.05 Q32.7167 494.015 35.9632 496.689 Q39.1779 499.331 45.2253 499.331 L64.0042 499.331 L64.0042 505.219 L28.3562 505.219 L28.3562 499.331 L33.8944 499.331 Q30.6479 497.485 29.0883 494.525 Q27.4968 491.565 27.4968 487.331 Q27.4968 486.727 27.5923 485.995 Q27.656 485.262 27.8151 484.371 L33.8307 484.339 Z\" fill=\"#000000\" fill-rule=\"nonzero\" fill-opacity=\"1\" /><path clip-path=\"url(#clip070)\" d=\"M42.4881 449.71 L64.0042 449.71 L64.0042 455.566 L42.679 455.566 Q37.6183 455.566 35.1038 457.54 Q32.5894 459.513 32.5894 463.46 Q32.5894 468.202 35.6131 470.94 Q38.6368 473.677 43.8567 473.677 L64.0042 473.677 L64.0042 479.565 L28.3562 479.565 L28.3562 473.677 L33.8944 473.677 Q30.6797 471.576 29.0883 468.743 Q27.4968 465.879 27.4968 462.155 Q27.4968 456.012 31.3163 452.861 Q35.1038 449.71 42.4881 449.71 Z\" fill=\"#000000\" fill-rule=\"nonzero\" fill-opacity=\"1\" /><path clip-path=\"url(#clip070)\" d=\"M14.5426 438.952 L14.5426 433.859 Q22.0542 429.085 29.2474 426.73 Q36.4406 424.343 43.5384 424.343 Q50.668 424.343 57.8931 426.73 Q65.1182 429.085 72.5979 433.859 L72.5979 438.952 Q65.3091 434.719 58.1159 432.65 Q50.8908 430.549 43.5384 430.549 Q36.186 430.549 29.0246 432.65 Q21.8632 434.719 14.5426 438.952 Z\" fill=\"#000000\" fill-rule=\"nonzero\" fill-opacity=\"1\" /><polyline clip-path=\"url(#clip072)\" style=\"stroke:#808080; stroke-linecap:round; stroke-linejoin:round; stroke-width:16; stroke-opacity:1; fill:none\" points=\"220.437,1384.23 220.544,1384.24 220.544,1384.24 220.544,1384.24 226.734,1380.54 295.401,1343.56 364.07,1306.58 432.738,1269.6 501.405,1232.62 570.073,1195.64 638.74,1158.65 707.409,1121.67 776.077,1084.69 844.744,1047.71 913.412,1010.73 982.08,973.746 1050.75,936.764 1119.42,899.782 1188.08,862.801 1256.75,825.819 1325.42,788.837 1394.09,751.856 1462.76,714.874 1531.42,677.892 1600.09,640.911 1668.76,603.929 1737.43,566.947 1806.1,529.966 1874.76,492.984 1943.43,456.002 2012.1,419.021 2080.77,382.039 2149.43,345.057 2218.1,308.076 2286.77,271.094 2355.44,234.112 2424.11,197.131 2492.77,160.149 2561.44,123.167 2630.11,86.1857 \"/>\n",
       "<circle clip-path=\"url(#clip072)\" cx=\"844.744\" cy=\"1047.71\" r=\"10.8\" fill=\"#ffffff\" fill-rule=\"evenodd\" fill-opacity=\"1\" stroke=\"#000000\" stroke-opacity=\"1\" stroke-width=\"3.2\"/>\n",
       "<circle clip-path=\"url(#clip072)\" cx=\"1600.09\" cy=\"640.911\" r=\"10.8\" fill=\"#ffffff\" fill-rule=\"evenodd\" fill-opacity=\"1\" stroke=\"#000000\" stroke-opacity=\"1\" stroke-width=\"3.2\"/>\n",
       "<circle clip-path=\"url(#clip072)\" cx=\"1668.76\" cy=\"603.929\" r=\"10.8\" fill=\"#ffffff\" fill-rule=\"evenodd\" fill-opacity=\"1\" stroke=\"#000000\" stroke-opacity=\"1\" stroke-width=\"3.2\"/>\n",
       "<circle clip-path=\"url(#clip072)\" cx=\"2286.77\" cy=\"271.094\" r=\"10.8\" fill=\"#ffffff\" fill-rule=\"evenodd\" fill-opacity=\"1\" stroke=\"#000000\" stroke-opacity=\"1\" stroke-width=\"3.2\"/>\n",
       "<circle clip-path=\"url(#clip072)\" cx=\"638.74\" cy=\"1158.65\" r=\"10.8\" fill=\"#ffffff\" fill-rule=\"evenodd\" fill-opacity=\"1\" stroke=\"#000000\" stroke-opacity=\"1\" stroke-width=\"3.2\"/>\n",
       "<circle clip-path=\"url(#clip072)\" cx=\"913.412\" cy=\"1010.73\" r=\"10.8\" fill=\"#ffffff\" fill-rule=\"evenodd\" fill-opacity=\"1\" stroke=\"#000000\" stroke-opacity=\"1\" stroke-width=\"3.2\"/>\n",
       "<circle clip-path=\"url(#clip072)\" cx=\"1256.75\" cy=\"825.819\" r=\"10.8\" fill=\"#ffffff\" fill-rule=\"evenodd\" fill-opacity=\"1\" stroke=\"#000000\" stroke-opacity=\"1\" stroke-width=\"3.2\"/>\n",
       "<circle clip-path=\"url(#clip072)\" cx=\"1119.42\" cy=\"899.782\" r=\"10.8\" fill=\"#ffffff\" fill-rule=\"evenodd\" fill-opacity=\"1\" stroke=\"#000000\" stroke-opacity=\"1\" stroke-width=\"3.2\"/>\n",
       "<circle clip-path=\"url(#clip072)\" cx=\"2149.43\" cy=\"345.057\" r=\"10.8\" fill=\"#ffffff\" fill-rule=\"evenodd\" fill-opacity=\"1\" stroke=\"#000000\" stroke-opacity=\"1\" stroke-width=\"3.2\"/>\n",
       "<circle clip-path=\"url(#clip072)\" cx=\"1050.75\" cy=\"936.764\" r=\"10.8\" fill=\"#ffffff\" fill-rule=\"evenodd\" fill-opacity=\"1\" stroke=\"#000000\" stroke-opacity=\"1\" stroke-width=\"3.2\"/>\n",
       "<circle clip-path=\"url(#clip072)\" cx=\"1531.42\" cy=\"677.892\" r=\"10.8\" fill=\"#ffffff\" fill-rule=\"evenodd\" fill-opacity=\"1\" stroke=\"#000000\" stroke-opacity=\"1\" stroke-width=\"3.2\"/>\n",
       "<circle clip-path=\"url(#clip072)\" cx=\"220.544\" cy=\"1384.24\" r=\"10.8\" fill=\"#ffffff\" fill-rule=\"evenodd\" fill-opacity=\"1\" stroke=\"#000000\" stroke-opacity=\"1\" stroke-width=\"3.2\"/>\n",
       "<circle clip-path=\"url(#clip072)\" cx=\"295.401\" cy=\"1343.56\" r=\"10.8\" fill=\"#ffffff\" fill-rule=\"evenodd\" fill-opacity=\"1\" stroke=\"#000000\" stroke-opacity=\"1\" stroke-width=\"3.2\"/>\n",
       "<circle clip-path=\"url(#clip072)\" cx=\"1806.1\" cy=\"529.966\" r=\"10.8\" fill=\"#ffffff\" fill-rule=\"evenodd\" fill-opacity=\"1\" stroke=\"#000000\" stroke-opacity=\"1\" stroke-width=\"3.2\"/>\n",
       "<circle clip-path=\"url(#clip072)\" cx=\"364.07\" cy=\"1306.58\" r=\"10.8\" fill=\"#ffffff\" fill-rule=\"evenodd\" fill-opacity=\"1\" stroke=\"#000000\" stroke-opacity=\"1\" stroke-width=\"3.2\"/>\n",
       "<circle clip-path=\"url(#clip072)\" cx=\"982.08\" cy=\"973.746\" r=\"10.8\" fill=\"#ffffff\" fill-rule=\"evenodd\" fill-opacity=\"1\" stroke=\"#000000\" stroke-opacity=\"1\" stroke-width=\"3.2\"/>\n",
       "<circle clip-path=\"url(#clip072)\" cx=\"1325.42\" cy=\"788.837\" r=\"10.8\" fill=\"#ffffff\" fill-rule=\"evenodd\" fill-opacity=\"1\" stroke=\"#000000\" stroke-opacity=\"1\" stroke-width=\"3.2\"/>\n",
       "<circle clip-path=\"url(#clip072)\" cx=\"1462.76\" cy=\"714.874\" r=\"10.8\" fill=\"#ffffff\" fill-rule=\"evenodd\" fill-opacity=\"1\" stroke=\"#000000\" stroke-opacity=\"1\" stroke-width=\"3.2\"/>\n",
       "<circle clip-path=\"url(#clip072)\" cx=\"2080.77\" cy=\"382.039\" r=\"10.8\" fill=\"#ffffff\" fill-rule=\"evenodd\" fill-opacity=\"1\" stroke=\"#000000\" stroke-opacity=\"1\" stroke-width=\"3.2\"/>\n",
       "<circle clip-path=\"url(#clip072)\" cx=\"220.437\" cy=\"1384.23\" r=\"10.8\" fill=\"#ffffff\" fill-rule=\"evenodd\" fill-opacity=\"1\" stroke=\"#000000\" stroke-opacity=\"1\" stroke-width=\"3.2\"/>\n",
       "<circle clip-path=\"url(#clip072)\" cx=\"501.405\" cy=\"1232.62\" r=\"10.8\" fill=\"#ffffff\" fill-rule=\"evenodd\" fill-opacity=\"1\" stroke=\"#000000\" stroke-opacity=\"1\" stroke-width=\"3.2\"/>\n",
       "<circle clip-path=\"url(#clip072)\" cx=\"1943.43\" cy=\"456.002\" r=\"10.8\" fill=\"#ffffff\" fill-rule=\"evenodd\" fill-opacity=\"1\" stroke=\"#000000\" stroke-opacity=\"1\" stroke-width=\"3.2\"/>\n",
       "<circle clip-path=\"url(#clip072)\" cx=\"432.738\" cy=\"1269.6\" r=\"10.8\" fill=\"#ffffff\" fill-rule=\"evenodd\" fill-opacity=\"1\" stroke=\"#000000\" stroke-opacity=\"1\" stroke-width=\"3.2\"/>\n",
       "<circle clip-path=\"url(#clip072)\" cx=\"570.073\" cy=\"1195.64\" r=\"10.8\" fill=\"#ffffff\" fill-rule=\"evenodd\" fill-opacity=\"1\" stroke=\"#000000\" stroke-opacity=\"1\" stroke-width=\"3.2\"/>\n",
       "<circle clip-path=\"url(#clip072)\" cx=\"1188.08\" cy=\"862.801\" r=\"10.8\" fill=\"#ffffff\" fill-rule=\"evenodd\" fill-opacity=\"1\" stroke=\"#000000\" stroke-opacity=\"1\" stroke-width=\"3.2\"/>\n",
       "<circle clip-path=\"url(#clip072)\" cx=\"707.409\" cy=\"1121.67\" r=\"10.8\" fill=\"#ffffff\" fill-rule=\"evenodd\" fill-opacity=\"1\" stroke=\"#000000\" stroke-opacity=\"1\" stroke-width=\"3.2\"/>\n",
       "<circle clip-path=\"url(#clip072)\" cx=\"1874.76\" cy=\"492.984\" r=\"10.8\" fill=\"#ffffff\" fill-rule=\"evenodd\" fill-opacity=\"1\" stroke=\"#000000\" stroke-opacity=\"1\" stroke-width=\"3.2\"/>\n",
       "<circle clip-path=\"url(#clip072)\" cx=\"776.077\" cy=\"1084.69\" r=\"10.8\" fill=\"#ffffff\" fill-rule=\"evenodd\" fill-opacity=\"1\" stroke=\"#000000\" stroke-opacity=\"1\" stroke-width=\"3.2\"/>\n",
       "<circle clip-path=\"url(#clip072)\" cx=\"220.544\" cy=\"1384.24\" r=\"10.8\" fill=\"#ffffff\" fill-rule=\"evenodd\" fill-opacity=\"1\" stroke=\"#000000\" stroke-opacity=\"1\" stroke-width=\"3.2\"/>\n",
       "<circle clip-path=\"url(#clip072)\" cx=\"2012.1\" cy=\"419.021\" r=\"10.8\" fill=\"#ffffff\" fill-rule=\"evenodd\" fill-opacity=\"1\" stroke=\"#000000\" stroke-opacity=\"1\" stroke-width=\"3.2\"/>\n",
       "<circle clip-path=\"url(#clip072)\" cx=\"2218.1\" cy=\"308.076\" r=\"10.8\" fill=\"#ffffff\" fill-rule=\"evenodd\" fill-opacity=\"1\" stroke=\"#000000\" stroke-opacity=\"1\" stroke-width=\"3.2\"/>\n",
       "<circle clip-path=\"url(#clip072)\" cx=\"226.734\" cy=\"1380.54\" r=\"10.8\" fill=\"#ffffff\" fill-rule=\"evenodd\" fill-opacity=\"1\" stroke=\"#000000\" stroke-opacity=\"1\" stroke-width=\"3.2\"/>\n",
       "<circle clip-path=\"url(#clip072)\" cx=\"1394.09\" cy=\"751.856\" r=\"10.8\" fill=\"#ffffff\" fill-rule=\"evenodd\" fill-opacity=\"1\" stroke=\"#000000\" stroke-opacity=\"1\" stroke-width=\"3.2\"/>\n",
       "<circle clip-path=\"url(#clip072)\" cx=\"220.544\" cy=\"1384.24\" r=\"10.8\" fill=\"#ffffff\" fill-rule=\"evenodd\" fill-opacity=\"1\" stroke=\"#000000\" stroke-opacity=\"1\" stroke-width=\"3.2\"/>\n",
       "<circle clip-path=\"url(#clip072)\" cx=\"1737.43\" cy=\"566.947\" r=\"10.8\" fill=\"#ffffff\" fill-rule=\"evenodd\" fill-opacity=\"1\" stroke=\"#000000\" stroke-opacity=\"1\" stroke-width=\"3.2\"/>\n",
       "<polyline clip-path=\"url(#clip072)\" style=\"stroke:#ff0000; stroke-linecap:round; stroke-linejoin:round; stroke-width:16; stroke-opacity:1; fill:none\" points=\"1107.64,1239.34 1107.64,1239.34 1107.64,1239.34 1107.64,1239.34 1107.64,1239.34 1107.64,1239.34 1107.64,1239.34 1107.64,1239.34 1107.67,1232.61 1108.77,1195.64 1111.5,1158.65 1115.82,1121.67 1121.73,1084.69 1129.01,1047.71 1138.1,1010.73 1149.25,973.746 1162.49,936.764 1182.63,899.782 1217.51,862.801 1265.88,825.819 1325.98,788.837 1396.01,751.856 1474.32,714.874 1559.44,677.892 1650.16,640.911 1745.48,603.929 1844.6,566.947 1946.86,529.966 2051.74,492.984 2158.86,456.002 \"/>\n",
       "<circle clip-path=\"url(#clip072)\" cx=\"1844.6\" cy=\"566.947\" r=\"10.8\" fill=\"#ffffff\" fill-rule=\"evenodd\" fill-opacity=\"1\" stroke=\"#000000\" stroke-opacity=\"1\" stroke-width=\"3.2\"/>\n",
       "<circle clip-path=\"url(#clip072)\" cx=\"1107.64\" cy=\"1239.34\" r=\"10.8\" fill=\"#ffffff\" fill-rule=\"evenodd\" fill-opacity=\"1\" stroke=\"#000000\" stroke-opacity=\"1\" stroke-width=\"3.2\"/>\n",
       "<circle clip-path=\"url(#clip072)\" cx=\"1650.16\" cy=\"640.911\" r=\"10.8\" fill=\"#ffffff\" fill-rule=\"evenodd\" fill-opacity=\"1\" stroke=\"#000000\" stroke-opacity=\"1\" stroke-width=\"3.2\"/>\n",
       "<circle clip-path=\"url(#clip072)\" cx=\"1107.64\" cy=\"1239.34\" r=\"10.8\" fill=\"#ffffff\" fill-rule=\"evenodd\" fill-opacity=\"1\" stroke=\"#000000\" stroke-opacity=\"1\" stroke-width=\"3.2\"/>\n",
       "<circle clip-path=\"url(#clip072)\" cx=\"1111.5\" cy=\"1158.65\" r=\"10.8\" fill=\"#ffffff\" fill-rule=\"evenodd\" fill-opacity=\"1\" stroke=\"#000000\" stroke-opacity=\"1\" stroke-width=\"3.2\"/>\n",
       "<circle clip-path=\"url(#clip072)\" cx=\"1121.73\" cy=\"1084.69\" r=\"10.8\" fill=\"#ffffff\" fill-rule=\"evenodd\" fill-opacity=\"1\" stroke=\"#000000\" stroke-opacity=\"1\" stroke-width=\"3.2\"/>\n",
       "<circle clip-path=\"url(#clip072)\" cx=\"1182.63\" cy=\"899.782\" r=\"10.8\" fill=\"#ffffff\" fill-rule=\"evenodd\" fill-opacity=\"1\" stroke=\"#000000\" stroke-opacity=\"1\" stroke-width=\"3.2\"/>\n",
       "<circle clip-path=\"url(#clip072)\" cx=\"1559.44\" cy=\"677.892\" r=\"10.8\" fill=\"#ffffff\" fill-rule=\"evenodd\" fill-opacity=\"1\" stroke=\"#000000\" stroke-opacity=\"1\" stroke-width=\"3.2\"/>\n",
       "<circle clip-path=\"url(#clip072)\" cx=\"1474.32\" cy=\"714.874\" r=\"10.8\" fill=\"#ffffff\" fill-rule=\"evenodd\" fill-opacity=\"1\" stroke=\"#000000\" stroke-opacity=\"1\" stroke-width=\"3.2\"/>\n",
       "<circle clip-path=\"url(#clip072)\" cx=\"1325.98\" cy=\"788.837\" r=\"10.8\" fill=\"#ffffff\" fill-rule=\"evenodd\" fill-opacity=\"1\" stroke=\"#000000\" stroke-opacity=\"1\" stroke-width=\"3.2\"/>\n",
       "<circle clip-path=\"url(#clip072)\" cx=\"1745.48\" cy=\"603.929\" r=\"10.8\" fill=\"#ffffff\" fill-rule=\"evenodd\" fill-opacity=\"1\" stroke=\"#000000\" stroke-opacity=\"1\" stroke-width=\"3.2\"/>\n",
       "<circle clip-path=\"url(#clip072)\" cx=\"2158.86\" cy=\"456.002\" r=\"10.8\" fill=\"#ffffff\" fill-rule=\"evenodd\" fill-opacity=\"1\" stroke=\"#000000\" stroke-opacity=\"1\" stroke-width=\"3.2\"/>\n",
       "<circle clip-path=\"url(#clip072)\" cx=\"1149.25\" cy=\"973.746\" r=\"10.8\" fill=\"#ffffff\" fill-rule=\"evenodd\" fill-opacity=\"1\" stroke=\"#000000\" stroke-opacity=\"1\" stroke-width=\"3.2\"/>\n",
       "<circle clip-path=\"url(#clip072)\" cx=\"1107.64\" cy=\"1239.34\" r=\"10.8\" fill=\"#ffffff\" fill-rule=\"evenodd\" fill-opacity=\"1\" stroke=\"#000000\" stroke-opacity=\"1\" stroke-width=\"3.2\"/>\n",
       "<circle clip-path=\"url(#clip072)\" cx=\"1129.01\" cy=\"1047.71\" r=\"10.8\" fill=\"#ffffff\" fill-rule=\"evenodd\" fill-opacity=\"1\" stroke=\"#000000\" stroke-opacity=\"1\" stroke-width=\"3.2\"/>\n",
       "<circle clip-path=\"url(#clip072)\" cx=\"1162.49\" cy=\"936.764\" r=\"10.8\" fill=\"#ffffff\" fill-rule=\"evenodd\" fill-opacity=\"1\" stroke=\"#000000\" stroke-opacity=\"1\" stroke-width=\"3.2\"/>\n",
       "<circle clip-path=\"url(#clip072)\" cx=\"1115.82\" cy=\"1121.67\" r=\"10.8\" fill=\"#ffffff\" fill-rule=\"evenodd\" fill-opacity=\"1\" stroke=\"#000000\" stroke-opacity=\"1\" stroke-width=\"3.2\"/>\n",
       "<circle clip-path=\"url(#clip072)\" cx=\"1265.88\" cy=\"825.819\" r=\"10.8\" fill=\"#ffffff\" fill-rule=\"evenodd\" fill-opacity=\"1\" stroke=\"#000000\" stroke-opacity=\"1\" stroke-width=\"3.2\"/>\n",
       "<circle clip-path=\"url(#clip072)\" cx=\"1108.77\" cy=\"1195.64\" r=\"10.8\" fill=\"#ffffff\" fill-rule=\"evenodd\" fill-opacity=\"1\" stroke=\"#000000\" stroke-opacity=\"1\" stroke-width=\"3.2\"/>\n",
       "<circle clip-path=\"url(#clip072)\" cx=\"1946.86\" cy=\"529.966\" r=\"10.8\" fill=\"#ffffff\" fill-rule=\"evenodd\" fill-opacity=\"1\" stroke=\"#000000\" stroke-opacity=\"1\" stroke-width=\"3.2\"/>\n",
       "<circle clip-path=\"url(#clip072)\" cx=\"1107.64\" cy=\"1239.34\" r=\"10.8\" fill=\"#ffffff\" fill-rule=\"evenodd\" fill-opacity=\"1\" stroke=\"#000000\" stroke-opacity=\"1\" stroke-width=\"3.2\"/>\n",
       "<circle clip-path=\"url(#clip072)\" cx=\"1138.1\" cy=\"1010.73\" r=\"10.8\" fill=\"#ffffff\" fill-rule=\"evenodd\" fill-opacity=\"1\" stroke=\"#000000\" stroke-opacity=\"1\" stroke-width=\"3.2\"/>\n",
       "<circle clip-path=\"url(#clip072)\" cx=\"1107.64\" cy=\"1239.34\" r=\"10.8\" fill=\"#ffffff\" fill-rule=\"evenodd\" fill-opacity=\"1\" stroke=\"#000000\" stroke-opacity=\"1\" stroke-width=\"3.2\"/>\n",
       "<circle clip-path=\"url(#clip072)\" cx=\"1107.64\" cy=\"1239.34\" r=\"10.8\" fill=\"#ffffff\" fill-rule=\"evenodd\" fill-opacity=\"1\" stroke=\"#000000\" stroke-opacity=\"1\" stroke-width=\"3.2\"/>\n",
       "<circle clip-path=\"url(#clip072)\" cx=\"1107.64\" cy=\"1239.34\" r=\"10.8\" fill=\"#ffffff\" fill-rule=\"evenodd\" fill-opacity=\"1\" stroke=\"#000000\" stroke-opacity=\"1\" stroke-width=\"3.2\"/>\n",
       "<circle clip-path=\"url(#clip072)\" cx=\"1107.67\" cy=\"1232.61\" r=\"10.8\" fill=\"#ffffff\" fill-rule=\"evenodd\" fill-opacity=\"1\" stroke=\"#000000\" stroke-opacity=\"1\" stroke-width=\"3.2\"/>\n",
       "<circle clip-path=\"url(#clip072)\" cx=\"1107.64\" cy=\"1239.34\" r=\"10.8\" fill=\"#ffffff\" fill-rule=\"evenodd\" fill-opacity=\"1\" stroke=\"#000000\" stroke-opacity=\"1\" stroke-width=\"3.2\"/>\n",
       "<circle clip-path=\"url(#clip072)\" cx=\"1217.51\" cy=\"862.801\" r=\"10.8\" fill=\"#ffffff\" fill-rule=\"evenodd\" fill-opacity=\"1\" stroke=\"#000000\" stroke-opacity=\"1\" stroke-width=\"3.2\"/>\n",
       "<circle clip-path=\"url(#clip072)\" cx=\"1396.01\" cy=\"751.856\" r=\"10.8\" fill=\"#ffffff\" fill-rule=\"evenodd\" fill-opacity=\"1\" stroke=\"#000000\" stroke-opacity=\"1\" stroke-width=\"3.2\"/>\n",
       "<circle clip-path=\"url(#clip072)\" cx=\"2051.74\" cy=\"492.984\" r=\"10.8\" fill=\"#ffffff\" fill-rule=\"evenodd\" fill-opacity=\"1\" stroke=\"#000000\" stroke-opacity=\"1\" stroke-width=\"3.2\"/>\n",
       "<path clip-path=\"url(#clip070)\" d=\"M290.963 300.469 L1170.38 300.469 L1170.38 93.1086 L290.963 93.1086  Z\" fill=\"#ffffff\" fill-rule=\"evenodd\" fill-opacity=\"1\"/>\n",
       "<polyline clip-path=\"url(#clip070)\" style=\"stroke:#000000; stroke-linecap:round; stroke-linejoin:round; stroke-width:4; stroke-opacity:1; fill:none\" points=\"290.963,300.469 1170.38,300.469 1170.38,93.1086 290.963,93.1086 290.963,300.469 \"/>\n",
       "<polyline clip-path=\"url(#clip070)\" style=\"stroke:#808080; stroke-linecap:round; stroke-linejoin:round; stroke-width:16; stroke-opacity:1; fill:none\" points=\"314.661,144.949 456.854,144.949 \"/>\n",
       "<path clip-path=\"url(#clip070)\" d=\"M508.423 130.331 L508.423 135.261 Q506.062 133.062 503.377 131.974 Q500.715 130.886 497.705 130.886 Q491.78 130.886 488.631 134.52 Q485.483 138.132 485.483 144.983 Q485.483 151.812 488.631 155.446 Q491.78 159.057 497.705 159.057 Q500.715 159.057 503.377 157.969 Q506.062 156.881 508.423 154.682 L508.423 159.567 Q505.969 161.233 503.215 162.067 Q500.483 162.9 497.428 162.9 Q489.581 162.9 485.067 158.108 Q480.553 153.293 480.553 144.983 Q480.553 136.65 485.067 131.858 Q489.581 127.044 497.428 127.044 Q500.53 127.044 503.261 127.877 Q506.016 128.687 508.423 130.331 Z\" fill=\"#000000\" fill-rule=\"nonzero\" fill-opacity=\"1\" /><path clip-path=\"url(#clip070)\" d=\"M527.242 149.196 Q522.08 149.196 520.09 150.377 Q518.099 151.557 518.099 154.405 Q518.099 156.673 519.58 158.016 Q521.085 159.335 523.654 159.335 Q527.196 159.335 529.326 156.835 Q531.478 154.312 531.478 150.145 L531.478 149.196 L527.242 149.196 M535.738 147.437 L535.738 162.229 L531.478 162.229 L531.478 158.293 Q530.02 160.655 527.844 161.789 Q525.668 162.9 522.52 162.9 Q518.539 162.9 516.178 160.678 Q513.84 158.432 513.84 154.682 Q513.84 150.307 516.756 148.085 Q519.696 145.863 525.506 145.863 L531.478 145.863 L531.478 145.446 Q531.478 142.507 529.534 140.909 Q527.613 139.289 524.117 139.289 Q521.895 139.289 519.789 139.821 Q517.682 140.354 515.738 141.419 L515.738 137.483 Q518.076 136.581 520.275 136.141 Q522.474 135.678 524.557 135.678 Q530.182 135.678 532.96 138.594 Q535.738 141.511 535.738 147.437 Z\" fill=\"#000000\" fill-rule=\"nonzero\" fill-opacity=\"1\" /><path clip-path=\"url(#clip070)\" d=\"M548.631 158.34 L548.631 172.09 L544.349 172.09 L544.349 136.303 L548.631 136.303 L548.631 140.238 Q549.974 137.923 552.011 136.812 Q554.071 135.678 556.918 135.678 Q561.64 135.678 564.58 139.428 Q567.543 143.178 567.543 149.289 Q567.543 155.4 564.58 159.15 Q561.64 162.9 556.918 162.9 Q554.071 162.9 552.011 161.789 Q549.974 160.655 548.631 158.34 M563.122 149.289 Q563.122 144.59 561.177 141.928 Q559.256 139.243 555.876 139.243 Q552.497 139.243 550.552 141.928 Q548.631 144.59 548.631 149.289 Q548.631 153.988 550.552 156.673 Q552.497 159.335 555.876 159.335 Q559.256 159.335 561.177 156.673 Q563.122 153.988 563.122 149.289 Z\" fill=\"#000000\" fill-rule=\"nonzero\" fill-opacity=\"1\" /><path clip-path=\"url(#clip070)\" d=\"M574.603 136.303 L578.862 136.303 L578.862 162.229 L574.603 162.229 L574.603 136.303 M574.603 126.21 L578.862 126.21 L578.862 131.604 L574.603 131.604 L574.603 126.21 Z\" fill=\"#000000\" fill-rule=\"nonzero\" fill-opacity=\"1\" /><path clip-path=\"url(#clip070)\" d=\"M591.987 128.942 L591.987 136.303 L600.76 136.303 L600.76 139.613 L591.987 139.613 L591.987 153.687 Q591.987 156.858 592.844 157.761 Q593.723 158.664 596.385 158.664 L600.76 158.664 L600.76 162.229 L596.385 162.229 Q591.455 162.229 589.58 160.4 Q587.705 158.548 587.705 153.687 L587.705 139.613 L584.58 139.613 L584.58 136.303 L587.705 136.303 L587.705 128.942 L591.987 128.942 Z\" fill=\"#000000\" fill-rule=\"nonzero\" fill-opacity=\"1\" /><path clip-path=\"url(#clip070)\" d=\"M618.145 149.196 Q612.983 149.196 610.992 150.377 Q609.001 151.557 609.001 154.405 Q609.001 156.673 610.483 158.016 Q611.987 159.335 614.557 159.335 Q618.098 159.335 620.228 156.835 Q622.381 154.312 622.381 150.145 L622.381 149.196 L618.145 149.196 M626.64 147.437 L626.64 162.229 L622.381 162.229 L622.381 158.293 Q620.922 160.655 618.746 161.789 Q616.571 162.9 613.422 162.9 Q609.441 162.9 607.08 160.678 Q604.742 158.432 604.742 154.682 Q604.742 150.307 607.659 148.085 Q610.598 145.863 616.409 145.863 L622.381 145.863 L622.381 145.446 Q622.381 142.507 620.436 140.909 Q618.515 139.289 615.02 139.289 Q612.797 139.289 610.691 139.821 Q608.584 140.354 606.64 141.419 L606.64 137.483 Q608.978 136.581 611.177 136.141 Q613.376 135.678 615.459 135.678 Q621.084 135.678 623.862 138.594 Q626.64 141.511 626.64 147.437 Z\" fill=\"#000000\" fill-rule=\"nonzero\" fill-opacity=\"1\" /><path clip-path=\"url(#clip070)\" d=\"M635.413 126.21 L639.672 126.21 L639.672 162.229 L635.413 162.229 L635.413 126.21 Z\" fill=\"#000000\" fill-rule=\"nonzero\" fill-opacity=\"1\" /><path clip-path=\"url(#clip070)\" d=\"M675.39 132.275 L669.047 149.474 L681.755 149.474 L675.39 132.275 M672.751 127.669 L678.052 127.669 L691.223 162.229 L686.362 162.229 L683.214 153.363 L667.635 153.363 L664.487 162.229 L659.556 162.229 L672.751 127.669 Z\" fill=\"#000000\" fill-rule=\"nonzero\" fill-opacity=\"1\" /><path clip-path=\"url(#clip070)\" d=\"M696.084 126.21 L700.343 126.21 L700.343 162.229 L696.084 162.229 L696.084 126.21 Z\" fill=\"#000000\" fill-rule=\"nonzero\" fill-opacity=\"1\" /><path clip-path=\"url(#clip070)\" d=\"M709.255 126.21 L713.514 126.21 L713.514 162.229 L709.255 162.229 L709.255 126.21 Z\" fill=\"#000000\" fill-rule=\"nonzero\" fill-opacity=\"1\" /><path clip-path=\"url(#clip070)\" d=\"M732.473 139.289 Q729.047 139.289 727.056 141.974 Q725.065 144.636 725.065 149.289 Q725.065 153.942 727.033 156.627 Q729.024 159.289 732.473 159.289 Q735.875 159.289 737.866 156.604 Q739.857 153.918 739.857 149.289 Q739.857 144.682 737.866 141.997 Q735.875 139.289 732.473 139.289 M732.473 135.678 Q738.028 135.678 741.2 139.289 Q744.371 142.9 744.371 149.289 Q744.371 155.655 741.2 159.289 Q738.028 162.9 732.473 162.9 Q726.894 162.9 723.723 159.289 Q720.575 155.655 720.575 149.289 Q720.575 142.9 723.723 139.289 Q726.894 135.678 732.473 135.678 Z\" fill=\"#000000\" fill-rule=\"nonzero\" fill-opacity=\"1\" /><path clip-path=\"url(#clip070)\" d=\"M770.088 137.298 L770.088 141.28 Q768.283 140.284 766.454 139.798 Q764.648 139.289 762.797 139.289 Q758.653 139.289 756.361 141.928 Q754.07 144.544 754.07 149.289 Q754.07 154.034 756.361 156.673 Q758.653 159.289 762.797 159.289 Q764.648 159.289 766.454 158.803 Q768.283 158.293 770.088 157.298 L770.088 161.233 Q768.306 162.067 766.385 162.483 Q764.486 162.9 762.334 162.9 Q756.477 162.9 753.028 159.219 Q749.579 155.539 749.579 149.289 Q749.579 142.946 753.051 139.312 Q756.547 135.678 762.611 135.678 Q764.579 135.678 766.454 136.095 Q768.329 136.488 770.088 137.298 Z\" fill=\"#000000\" fill-rule=\"nonzero\" fill-opacity=\"1\" /><path clip-path=\"url(#clip070)\" d=\"M789.278 149.196 Q784.116 149.196 782.125 150.377 Q780.135 151.557 780.135 154.405 Q780.135 156.673 781.616 158.016 Q783.121 159.335 785.69 159.335 Q789.232 159.335 791.361 156.835 Q793.514 154.312 793.514 150.145 L793.514 149.196 L789.278 149.196 M797.773 147.437 L797.773 162.229 L793.514 162.229 L793.514 158.293 Q792.056 160.655 789.88 161.789 Q787.704 162.9 784.556 162.9 Q780.574 162.9 778.213 160.678 Q775.875 158.432 775.875 154.682 Q775.875 150.307 778.792 148.085 Q781.732 145.863 787.542 145.863 L793.514 145.863 L793.514 145.446 Q793.514 142.507 791.57 140.909 Q789.648 139.289 786.153 139.289 Q783.931 139.289 781.824 139.821 Q779.718 140.354 777.773 141.419 L777.773 137.483 Q780.111 136.581 782.31 136.141 Q784.509 135.678 786.593 135.678 Q792.218 135.678 794.996 138.594 Q797.773 141.511 797.773 147.437 Z\" fill=\"#000000\" fill-rule=\"nonzero\" fill-opacity=\"1\" /><path clip-path=\"url(#clip070)\" d=\"M810.759 128.942 L810.759 136.303 L819.532 136.303 L819.532 139.613 L810.759 139.613 L810.759 153.687 Q810.759 156.858 811.616 157.761 Q812.495 158.664 815.157 158.664 L819.532 158.664 L819.532 162.229 L815.157 162.229 Q810.227 162.229 808.352 160.4 Q806.477 158.548 806.477 153.687 L806.477 139.613 L803.352 139.613 L803.352 136.303 L806.477 136.303 L806.477 128.942 L810.759 128.942 Z\" fill=\"#000000\" fill-rule=\"nonzero\" fill-opacity=\"1\" /><path clip-path=\"url(#clip070)\" d=\"M825.134 136.303 L829.394 136.303 L829.394 162.229 L825.134 162.229 L825.134 136.303 M825.134 126.21 L829.394 126.21 L829.394 131.604 L825.134 131.604 L825.134 126.21 Z\" fill=\"#000000\" fill-rule=\"nonzero\" fill-opacity=\"1\" /><path clip-path=\"url(#clip070)\" d=\"M848.352 139.289 Q844.926 139.289 842.935 141.974 Q840.944 144.636 840.944 149.289 Q840.944 153.942 842.912 156.627 Q844.903 159.289 848.352 159.289 Q851.754 159.289 853.745 156.604 Q855.736 153.918 855.736 149.289 Q855.736 144.682 853.745 141.997 Q851.754 139.289 848.352 139.289 M848.352 135.678 Q853.907 135.678 857.079 139.289 Q860.25 142.9 860.25 149.289 Q860.25 155.655 857.079 159.289 Q853.907 162.9 848.352 162.9 Q842.773 162.9 839.602 159.289 Q836.454 155.655 836.454 149.289 Q836.454 142.9 839.602 139.289 Q842.773 135.678 848.352 135.678 Z\" fill=\"#000000\" fill-rule=\"nonzero\" fill-opacity=\"1\" /><path clip-path=\"url(#clip070)\" d=\"M888.861 146.581 L888.861 162.229 L884.602 162.229 L884.602 146.719 Q884.602 143.039 883.166 141.21 Q881.731 139.382 878.861 139.382 Q875.412 139.382 873.421 141.581 Q871.43 143.78 871.43 147.576 L871.43 162.229 L867.148 162.229 L867.148 136.303 L871.43 136.303 L871.43 140.331 Q872.958 137.993 875.018 136.835 Q877.102 135.678 879.81 135.678 Q884.277 135.678 886.569 138.456 Q888.861 141.21 888.861 146.581 Z\" fill=\"#000000\" fill-rule=\"nonzero\" fill-opacity=\"1\" /><path clip-path=\"url(#clip070)\" d=\"M912.611 127.669 L917.287 127.669 L917.287 158.293 L934.115 158.293 L934.115 162.229 L912.611 162.229 L912.611 127.669 Z\" fill=\"#000000\" fill-rule=\"nonzero\" fill-opacity=\"1\" /><path clip-path=\"url(#clip070)\" d=\"M938.837 136.303 L943.097 136.303 L943.097 162.229 L938.837 162.229 L938.837 136.303 M938.837 126.21 L943.097 126.21 L943.097 131.604 L938.837 131.604 L938.837 126.21 Z\" fill=\"#000000\" fill-rule=\"nonzero\" fill-opacity=\"1\" /><path clip-path=\"url(#clip070)\" d=\"M973.559 146.581 L973.559 162.229 L969.3 162.229 L969.3 146.719 Q969.3 143.039 967.865 141.21 Q966.43 139.382 963.559 139.382 Q960.11 139.382 958.12 141.581 Q956.129 143.78 956.129 147.576 L956.129 162.229 L951.847 162.229 L951.847 136.303 L956.129 136.303 L956.129 140.331 Q957.657 137.993 959.717 136.835 Q961.8 135.678 964.509 135.678 Q968.976 135.678 971.268 138.456 Q973.559 141.21 973.559 146.581 Z\" fill=\"#000000\" fill-rule=\"nonzero\" fill-opacity=\"1\" /><path clip-path=\"url(#clip070)\" d=\"M1004.23 148.201 L1004.23 150.284 L984.647 150.284 Q984.925 154.682 987.286 156.997 Q989.67 159.289 993.907 159.289 Q996.36 159.289 998.652 158.687 Q1000.97 158.085 1003.24 156.881 L1003.24 160.909 Q1000.94 161.881 998.536 162.391 Q996.129 162.9 993.652 162.9 Q987.448 162.9 983.814 159.289 Q980.203 155.678 980.203 149.52 Q980.203 143.155 983.629 139.428 Q987.078 135.678 992.911 135.678 Q998.143 135.678 1001.17 139.057 Q1004.23 142.414 1004.23 148.201 M999.971 146.951 Q999.925 143.456 998.004 141.372 Q996.106 139.289 992.957 139.289 Q989.393 139.289 987.24 141.303 Q985.11 143.317 984.786 146.974 L999.971 146.951 Z\" fill=\"#000000\" fill-rule=\"nonzero\" fill-opacity=\"1\" /><path clip-path=\"url(#clip070)\" d=\"M1036.52 126.257 Q1033.42 131.581 1031.92 136.789 Q1030.41 141.997 1030.41 147.344 Q1030.41 152.692 1031.92 157.946 Q1033.44 163.178 1036.52 168.479 L1032.82 168.479 Q1029.35 163.039 1027.61 157.784 Q1025.9 152.53 1025.9 147.344 Q1025.9 142.182 1027.61 136.951 Q1029.32 131.72 1032.82 126.257 L1036.52 126.257 Z\" fill=\"#000000\" fill-rule=\"nonzero\" fill-opacity=\"1\" /><path clip-path=\"url(#clip070)\" d=\"M1070.85 130.331 L1070.85 135.261 Q1068.49 133.062 1065.8 131.974 Q1063.14 130.886 1060.13 130.886 Q1054.21 130.886 1051.06 134.52 Q1047.91 138.132 1047.91 144.983 Q1047.91 151.812 1051.06 155.446 Q1054.21 159.057 1060.13 159.057 Q1063.14 159.057 1065.8 157.969 Q1068.49 156.881 1070.85 154.682 L1070.85 159.567 Q1068.4 161.233 1065.64 162.067 Q1062.91 162.9 1059.86 162.9 Q1052.01 162.9 1047.49 158.108 Q1042.98 153.293 1042.98 144.983 Q1042.98 136.65 1047.49 131.858 Q1052.01 127.044 1059.86 127.044 Q1062.96 127.044 1065.69 127.877 Q1068.44 128.687 1070.85 130.331 Z\" fill=\"#000000\" fill-rule=\"nonzero\" fill-opacity=\"1\" /><path clip-path=\"url(#clip070)\" d=\"M1089.62 132.275 L1083.28 149.474 L1095.99 149.474 L1089.62 132.275 M1086.98 127.669 L1092.29 127.669 L1105.46 162.229 L1100.6 162.229 L1097.45 153.363 L1081.87 153.363 L1078.72 162.229 L1073.79 162.229 L1086.98 127.669 Z\" fill=\"#000000\" fill-rule=\"nonzero\" fill-opacity=\"1\" /><path clip-path=\"url(#clip070)\" d=\"M1110.5 127.669 L1115.18 127.669 L1115.18 158.293 L1132.01 158.293 L1132.01 162.229 L1110.5 162.229 L1110.5 127.669 Z\" fill=\"#000000\" fill-rule=\"nonzero\" fill-opacity=\"1\" /><path clip-path=\"url(#clip070)\" d=\"M1136.06 126.257 L1139.76 126.257 Q1143.23 131.72 1144.95 136.951 Q1146.68 142.182 1146.68 147.344 Q1146.68 152.53 1144.95 157.784 Q1143.23 163.039 1139.76 168.479 L1136.06 168.479 Q1139.14 163.178 1140.64 157.946 Q1142.17 152.692 1142.17 147.344 Q1142.17 141.997 1140.64 136.789 Q1139.14 131.581 1136.06 126.257 Z\" fill=\"#000000\" fill-rule=\"nonzero\" fill-opacity=\"1\" /><polyline clip-path=\"url(#clip070)\" style=\"stroke:#ff0000; stroke-linecap:round; stroke-linejoin:round; stroke-width:16; stroke-opacity:1; fill:none\" points=\"314.661,196.789 456.854,196.789 \"/>\n",
       "<path clip-path=\"url(#clip070)\" d=\"M480.553 179.509 L502.405 179.509 L502.405 183.444 L485.229 183.444 L485.229 193.675 L501.687 193.675 L501.687 197.61 L485.229 197.61 L485.229 210.133 L502.821 210.133 L502.821 214.069 L480.553 214.069 L480.553 179.509 Z\" fill=\"#000000\" fill-rule=\"nonzero\" fill-opacity=\"1\" /><path clip-path=\"url(#clip070)\" d=\"M523.446 178.05 L523.446 181.592 L519.372 181.592 Q517.08 181.592 516.178 182.518 Q515.298 183.444 515.298 185.851 L515.298 188.143 L522.312 188.143 L522.312 191.453 L515.298 191.453 L515.298 214.069 L511.016 214.069 L511.016 191.453 L506.942 191.453 L506.942 188.143 L511.016 188.143 L511.016 186.337 Q511.016 182.009 513.029 180.041 Q515.043 178.05 519.418 178.05 L523.446 178.05 Z\" fill=\"#000000\" fill-rule=\"nonzero\" fill-opacity=\"1\" /><path clip-path=\"url(#clip070)\" d=\"M540.136 178.05 L540.136 181.592 L536.062 181.592 Q533.77 181.592 532.867 182.518 Q531.988 183.444 531.988 185.851 L531.988 188.143 L539.002 188.143 L539.002 191.453 L531.988 191.453 L531.988 214.069 L527.705 214.069 L527.705 191.453 L523.631 191.453 L523.631 188.143 L527.705 188.143 L527.705 186.337 Q527.705 182.009 529.719 180.041 Q531.733 178.05 536.108 178.05 L540.136 178.05 Z\" fill=\"#000000\" fill-rule=\"nonzero\" fill-opacity=\"1\" /><path clip-path=\"url(#clip070)\" d=\"M543.701 188.143 L547.96 188.143 L547.96 214.069 L543.701 214.069 L543.701 188.143 M543.701 178.05 L547.96 178.05 L547.96 183.444 L543.701 183.444 L543.701 178.05 Z\" fill=\"#000000\" fill-rule=\"nonzero\" fill-opacity=\"1\" /><path clip-path=\"url(#clip070)\" d=\"M575.529 189.138 L575.529 193.12 Q573.724 192.124 571.895 191.638 Q570.089 191.129 568.237 191.129 Q564.094 191.129 561.802 193.768 Q559.511 196.384 559.511 201.129 Q559.511 205.874 561.802 208.513 Q564.094 211.129 568.237 211.129 Q570.089 211.129 571.895 210.643 Q573.724 210.133 575.529 209.138 L575.529 213.073 Q573.747 213.907 571.825 214.323 Q569.927 214.74 567.775 214.74 Q561.918 214.74 558.469 211.059 Q555.02 207.379 555.02 201.129 Q555.02 194.786 558.492 191.152 Q561.988 187.518 568.052 187.518 Q570.02 187.518 571.895 187.935 Q573.77 188.328 575.529 189.138 Z\" fill=\"#000000\" fill-rule=\"nonzero\" fill-opacity=\"1\" /><path clip-path=\"url(#clip070)\" d=\"M582.936 188.143 L587.196 188.143 L587.196 214.069 L582.936 214.069 L582.936 188.143 M582.936 178.05 L587.196 178.05 L587.196 183.444 L582.936 183.444 L582.936 178.05 Z\" fill=\"#000000\" fill-rule=\"nonzero\" fill-opacity=\"1\" /><path clip-path=\"url(#clip070)\" d=\"M618.284 200.041 L618.284 202.124 L598.7 202.124 Q598.978 206.522 601.339 208.837 Q603.723 211.129 607.96 211.129 Q610.413 211.129 612.705 210.527 Q615.02 209.925 617.288 208.721 L617.288 212.749 Q614.997 213.721 612.589 214.231 Q610.182 214.74 607.705 214.74 Q601.501 214.74 597.867 211.129 Q594.256 207.518 594.256 201.36 Q594.256 194.995 597.682 191.268 Q601.131 187.518 606.964 187.518 Q612.196 187.518 615.228 190.897 Q618.284 194.254 618.284 200.041 M614.024 198.791 Q613.978 195.296 612.057 193.212 Q610.159 191.129 607.01 191.129 Q603.446 191.129 601.293 193.143 Q599.163 195.157 598.839 198.814 L614.024 198.791 Z\" fill=\"#000000\" fill-rule=\"nonzero\" fill-opacity=\"1\" /><path clip-path=\"url(#clip070)\" d=\"M646.825 198.421 L646.825 214.069 L642.566 214.069 L642.566 198.559 Q642.566 194.879 641.131 193.05 Q639.695 191.222 636.825 191.222 Q633.376 191.222 631.385 193.421 Q629.395 195.62 629.395 199.416 L629.395 214.069 L625.112 214.069 L625.112 188.143 L629.395 188.143 L629.395 192.171 Q630.922 189.833 632.983 188.675 Q635.066 187.518 637.774 187.518 Q642.242 187.518 644.533 190.296 Q646.825 193.05 646.825 198.421 Z\" fill=\"#000000\" fill-rule=\"nonzero\" fill-opacity=\"1\" /><path clip-path=\"url(#clip070)\" d=\"M659.533 180.782 L659.533 188.143 L668.306 188.143 L668.306 191.453 L659.533 191.453 L659.533 205.527 Q659.533 208.698 660.39 209.601 Q661.269 210.504 663.931 210.504 L668.306 210.504 L668.306 214.069 L663.931 214.069 Q659.001 214.069 657.126 212.24 Q655.251 210.388 655.251 205.527 L655.251 191.453 L652.126 191.453 L652.126 188.143 L655.251 188.143 L655.251 180.782 L659.533 180.782 Z\" fill=\"#000000\" fill-rule=\"nonzero\" fill-opacity=\"1\" /><path clip-path=\"url(#clip070)\" d=\"M689.163 179.509 L709.024 179.509 L709.024 183.444 L693.839 183.444 L693.839 193.629 L707.542 193.629 L707.542 197.564 L693.839 197.564 L693.839 214.069 L689.163 214.069 L689.163 179.509 Z\" fill=\"#000000\" fill-rule=\"nonzero\" fill-opacity=\"1\" /><path clip-path=\"url(#clip070)\" d=\"M727.82 192.124 Q727.102 191.708 726.246 191.522 Q725.413 191.314 724.394 191.314 Q720.783 191.314 718.839 193.675 Q716.917 196.013 716.917 200.411 L716.917 214.069 L712.635 214.069 L712.635 188.143 L716.917 188.143 L716.917 192.171 Q718.26 189.809 720.413 188.675 Q722.565 187.518 725.644 187.518 Q726.084 187.518 726.616 187.587 Q727.149 187.634 727.797 187.749 L727.82 192.124 Z\" fill=\"#000000\" fill-rule=\"nonzero\" fill-opacity=\"1\" /><path clip-path=\"url(#clip070)\" d=\"M741.292 191.129 Q737.866 191.129 735.875 193.814 Q733.885 196.476 733.885 201.129 Q733.885 205.782 735.852 208.467 Q737.843 211.129 741.292 211.129 Q744.695 211.129 746.686 208.444 Q748.676 205.758 748.676 201.129 Q748.676 196.522 746.686 193.837 Q744.695 191.129 741.292 191.129 M741.292 187.518 Q746.848 187.518 750.019 191.129 Q753.19 194.74 753.19 201.129 Q753.19 207.495 750.019 211.129 Q746.848 214.74 741.292 214.74 Q735.713 214.74 732.542 211.129 Q729.394 207.495 729.394 201.129 Q729.394 194.74 732.542 191.129 Q735.713 187.518 741.292 187.518 Z\" fill=\"#000000\" fill-rule=\"nonzero\" fill-opacity=\"1\" /><path clip-path=\"url(#clip070)\" d=\"M781.801 198.421 L781.801 214.069 L777.542 214.069 L777.542 198.559 Q777.542 194.879 776.107 193.05 Q774.672 191.222 771.801 191.222 Q768.352 191.222 766.361 193.421 Q764.371 195.62 764.371 199.416 L764.371 214.069 L760.088 214.069 L760.088 188.143 L764.371 188.143 L764.371 192.171 Q765.898 189.833 767.959 188.675 Q770.042 187.518 772.75 187.518 Q777.218 187.518 779.51 190.296 Q781.801 193.05 781.801 198.421 Z\" fill=\"#000000\" fill-rule=\"nonzero\" fill-opacity=\"1\" /><path clip-path=\"url(#clip070)\" d=\"M794.509 180.782 L794.509 188.143 L803.283 188.143 L803.283 191.453 L794.509 191.453 L794.509 205.527 Q794.509 208.698 795.366 209.601 Q796.246 210.504 798.908 210.504 L803.283 210.504 L803.283 214.069 L798.908 214.069 Q793.977 214.069 792.102 212.24 Q790.227 210.388 790.227 205.527 L790.227 191.453 L787.102 191.453 L787.102 188.143 L790.227 188.143 L790.227 180.782 L794.509 180.782 Z\" fill=\"#000000\" fill-rule=\"nonzero\" fill-opacity=\"1\" /><path clip-path=\"url(#clip070)\" d=\"M808.884 188.143 L813.144 188.143 L813.144 214.069 L808.884 214.069 L808.884 188.143 M808.884 178.05 L813.144 178.05 L813.144 183.444 L808.884 183.444 L808.884 178.05 Z\" fill=\"#000000\" fill-rule=\"nonzero\" fill-opacity=\"1\" /><path clip-path=\"url(#clip070)\" d=\"M844.231 200.041 L844.231 202.124 L824.648 202.124 Q824.926 206.522 827.287 208.837 Q829.671 211.129 833.907 211.129 Q836.361 211.129 838.653 210.527 Q840.968 209.925 843.236 208.721 L843.236 212.749 Q840.944 213.721 838.537 214.231 Q836.13 214.74 833.653 214.74 Q827.449 214.74 823.815 211.129 Q820.204 207.518 820.204 201.36 Q820.204 194.995 823.63 191.268 Q827.079 187.518 832.912 187.518 Q838.143 187.518 841.176 190.897 Q844.231 194.254 844.231 200.041 M839.972 198.791 Q839.926 195.296 838.005 193.212 Q836.106 191.129 832.958 191.129 Q829.394 191.129 827.241 193.143 Q825.111 195.157 824.787 198.814 L839.972 198.791 Z\" fill=\"#000000\" fill-rule=\"nonzero\" fill-opacity=\"1\" /><path clip-path=\"url(#clip070)\" d=\"M866.245 192.124 Q865.528 191.708 864.671 191.522 Q863.838 191.314 862.819 191.314 Q859.208 191.314 857.264 193.675 Q855.342 196.013 855.342 200.411 L855.342 214.069 L851.06 214.069 L851.06 188.143 L855.342 188.143 L855.342 192.171 Q856.685 189.809 858.838 188.675 Q860.991 187.518 864.069 187.518 Q864.509 187.518 865.041 187.587 Q865.574 187.634 866.222 187.749 L866.245 192.124 Z\" fill=\"#000000\" fill-rule=\"nonzero\" fill-opacity=\"1\" /><circle clip-path=\"url(#clip070)\" cx=\"385.758\" cy=\"248.629\" r=\"19.7486\" fill=\"#ffffff\" fill-rule=\"evenodd\" fill-opacity=\"1\" stroke=\"#000000\" stroke-opacity=\"1\" stroke-width=\"5.85143\"/>\n",
       "<path clip-path=\"url(#clip070)\" d=\"M480.553 231.349 L502.405 231.349 L502.405 235.284 L485.229 235.284 L485.229 245.515 L501.687 245.515 L501.687 249.45 L485.229 249.45 L485.229 261.973 L502.821 261.973 L502.821 265.909 L480.553 265.909 L480.553 231.349 Z\" fill=\"#000000\" fill-rule=\"nonzero\" fill-opacity=\"1\" /><path clip-path=\"url(#clip070)\" d=\"M526.849 240.747 L526.849 244.774 Q525.043 243.849 523.099 243.386 Q521.154 242.923 519.071 242.923 Q515.9 242.923 514.303 243.895 Q512.729 244.867 512.729 246.811 Q512.729 248.293 513.863 249.149 Q514.997 249.983 518.423 250.747 L519.881 251.071 Q524.418 252.043 526.316 253.825 Q528.238 255.585 528.238 258.756 Q528.238 262.367 525.367 264.473 Q522.52 266.58 517.52 266.58 Q515.437 266.58 513.168 266.163 Q510.923 265.77 508.423 264.96 L508.423 260.561 Q510.784 261.788 513.076 262.413 Q515.367 263.015 517.613 263.015 Q520.622 263.015 522.242 261.997 Q523.863 260.955 523.863 259.08 Q523.863 257.344 522.682 256.418 Q521.525 255.492 517.566 254.636 L516.085 254.288 Q512.127 253.455 510.367 251.742 Q508.608 250.006 508.608 246.997 Q508.608 243.339 511.201 241.349 Q513.793 239.358 518.562 239.358 Q520.923 239.358 523.006 239.705 Q525.09 240.052 526.849 240.747 Z\" fill=\"#000000\" fill-rule=\"nonzero\" fill-opacity=\"1\" /><path clip-path=\"url(#clip070)\" d=\"M539.233 232.622 L539.233 239.983 L548.006 239.983 L548.006 243.293 L539.233 243.293 L539.233 257.367 Q539.233 260.538 540.089 261.441 Q540.969 262.344 543.631 262.344 L548.006 262.344 L548.006 265.909 L543.631 265.909 Q538.701 265.909 536.826 264.08 Q534.951 262.228 534.951 257.367 L534.951 243.293 L531.826 243.293 L531.826 239.983 L534.951 239.983 L534.951 232.622 L539.233 232.622 Z\" fill=\"#000000\" fill-rule=\"nonzero\" fill-opacity=\"1\" /><path clip-path=\"url(#clip070)\" d=\"M553.608 239.983 L557.867 239.983 L557.867 265.909 L553.608 265.909 L553.608 239.983 M553.608 229.89 L557.867 229.89 L557.867 235.284 L553.608 235.284 L553.608 229.89 Z\" fill=\"#000000\" fill-rule=\"nonzero\" fill-opacity=\"1\" /><path clip-path=\"url(#clip070)\" d=\"M586.964 244.96 Q588.561 242.089 590.784 240.724 Q593.006 239.358 596.015 239.358 Q600.066 239.358 602.265 242.205 Q604.464 245.029 604.464 250.261 L604.464 265.909 L600.182 265.909 L600.182 250.399 Q600.182 246.673 598.862 244.867 Q597.543 243.062 594.835 243.062 Q591.524 243.062 589.603 245.261 Q587.682 247.46 587.682 251.256 L587.682 265.909 L583.399 265.909 L583.399 250.399 Q583.399 246.649 582.08 244.867 Q580.761 243.062 578.006 243.062 Q574.742 243.062 572.821 245.284 Q570.9 247.483 570.9 251.256 L570.9 265.909 L566.617 265.909 L566.617 239.983 L570.9 239.983 L570.9 244.011 Q572.358 241.626 574.395 240.492 Q576.432 239.358 579.233 239.358 Q582.057 239.358 584.024 240.793 Q586.015 242.228 586.964 244.96 Z\" fill=\"#000000\" fill-rule=\"nonzero\" fill-opacity=\"1\" /><path clip-path=\"url(#clip070)\" d=\"M624.742 252.876 Q619.58 252.876 617.589 254.057 Q615.598 255.237 615.598 258.085 Q615.598 260.353 617.08 261.696 Q618.584 263.015 621.154 263.015 Q624.696 263.015 626.825 260.515 Q628.978 257.992 628.978 253.825 L628.978 252.876 L624.742 252.876 M633.237 251.117 L633.237 265.909 L628.978 265.909 L628.978 261.973 Q627.52 264.335 625.344 265.469 Q623.168 266.58 620.02 266.58 Q616.038 266.58 613.677 264.358 Q611.339 262.112 611.339 258.362 Q611.339 253.987 614.256 251.765 Q617.196 249.543 623.006 249.543 L628.978 249.543 L628.978 249.126 Q628.978 246.187 627.033 244.589 Q625.112 242.969 621.617 242.969 Q619.395 242.969 617.288 243.501 Q615.182 244.034 613.237 245.099 L613.237 241.163 Q615.575 240.261 617.774 239.821 Q619.973 239.358 622.057 239.358 Q627.682 239.358 630.459 242.274 Q633.237 245.191 633.237 251.117 Z\" fill=\"#000000\" fill-rule=\"nonzero\" fill-opacity=\"1\" /><path clip-path=\"url(#clip070)\" d=\"M646.223 232.622 L646.223 239.983 L654.996 239.983 L654.996 243.293 L646.223 243.293 L646.223 257.367 Q646.223 260.538 647.08 261.441 Q647.959 262.344 650.621 262.344 L654.996 262.344 L654.996 265.909 L650.621 265.909 Q645.691 265.909 643.816 264.08 Q641.941 262.228 641.941 257.367 L641.941 243.293 L638.816 243.293 L638.816 239.983 L641.941 239.983 L641.941 232.622 L646.223 232.622 Z\" fill=\"#000000\" fill-rule=\"nonzero\" fill-opacity=\"1\" /><path clip-path=\"url(#clip070)\" d=\"M682.774 251.881 L682.774 253.964 L663.191 253.964 Q663.468 258.362 665.83 260.677 Q668.214 262.969 672.45 262.969 Q674.904 262.969 677.195 262.367 Q679.51 261.765 681.779 260.561 L681.779 264.589 Q679.487 265.561 677.08 266.071 Q674.672 266.58 672.195 266.58 Q665.992 266.58 662.357 262.969 Q658.746 259.358 658.746 253.2 Q658.746 246.835 662.172 243.108 Q665.621 239.358 671.455 239.358 Q676.686 239.358 679.718 242.737 Q682.774 246.094 682.774 251.881 M678.515 250.631 Q678.468 247.136 676.547 245.052 Q674.649 242.969 671.501 242.969 Q667.936 242.969 665.783 244.983 Q663.654 246.997 663.33 250.654 L678.515 250.631 Z\" fill=\"#000000\" fill-rule=\"nonzero\" fill-opacity=\"1\" /><path clip-path=\"url(#clip070)\" d=\"M706.825 243.918 L706.825 229.89 L711.084 229.89 L711.084 265.909 L706.825 265.909 L706.825 262.02 Q705.482 264.335 703.422 265.469 Q701.385 266.58 698.515 266.58 Q693.816 266.58 690.853 262.83 Q687.913 259.08 687.913 252.969 Q687.913 246.858 690.853 243.108 Q693.816 239.358 698.515 239.358 Q701.385 239.358 703.422 240.492 Q705.482 241.603 706.825 243.918 M692.311 252.969 Q692.311 257.668 694.232 260.353 Q696.177 263.015 699.556 263.015 Q702.936 263.015 704.88 260.353 Q706.825 257.668 706.825 252.969 Q706.825 248.27 704.88 245.608 Q702.936 242.923 699.556 242.923 Q696.177 242.923 694.232 245.608 Q692.311 248.27 692.311 252.969 Z\" fill=\"#000000\" fill-rule=\"nonzero\" fill-opacity=\"1\" /><path clip-path=\"url(#clip070)\" d=\"M751.454 240.747 L751.454 244.774 Q749.649 243.849 747.704 243.386 Q745.76 242.923 743.676 242.923 Q740.505 242.923 738.908 243.895 Q737.334 244.867 737.334 246.811 Q737.334 248.293 738.468 249.149 Q739.602 249.983 743.028 250.747 L744.487 251.071 Q749.024 252.043 750.922 253.825 Q752.843 255.585 752.843 258.756 Q752.843 262.367 749.973 264.473 Q747.125 266.58 742.125 266.58 Q740.042 266.58 737.774 266.163 Q735.528 265.77 733.028 264.96 L733.028 260.561 Q735.389 261.788 737.681 262.413 Q739.973 263.015 742.218 263.015 Q745.227 263.015 746.848 261.997 Q748.468 260.955 748.468 259.08 Q748.468 257.344 747.287 256.418 Q746.13 255.492 742.172 254.636 L740.69 254.288 Q736.732 253.455 734.973 251.742 Q733.213 250.006 733.213 246.997 Q733.213 243.339 735.806 241.349 Q738.399 239.358 743.167 239.358 Q745.528 239.358 747.612 239.705 Q749.695 240.052 751.454 240.747 Z\" fill=\"#000000\" fill-rule=\"nonzero\" fill-opacity=\"1\" /><path clip-path=\"url(#clip070)\" d=\"M769.672 242.969 Q766.246 242.969 764.255 245.654 Q762.264 248.316 762.264 252.969 Q762.264 257.622 764.232 260.307 Q766.223 262.969 769.672 262.969 Q773.074 262.969 775.065 260.284 Q777.056 257.598 777.056 252.969 Q777.056 248.362 775.065 245.677 Q773.074 242.969 769.672 242.969 M769.672 239.358 Q775.227 239.358 778.398 242.969 Q781.57 246.58 781.57 252.969 Q781.57 259.335 778.398 262.969 Q775.227 266.58 769.672 266.58 Q764.093 266.58 760.922 262.969 Q757.774 259.335 757.774 252.969 Q757.774 246.58 760.922 242.969 Q764.093 239.358 769.672 239.358 Z\" fill=\"#000000\" fill-rule=\"nonzero\" fill-opacity=\"1\" /><path clip-path=\"url(#clip070)\" d=\"M788.63 229.89 L792.889 229.89 L792.889 265.909 L788.63 265.909 L788.63 229.89 Z\" fill=\"#000000\" fill-rule=\"nonzero\" fill-opacity=\"1\" /><path clip-path=\"url(#clip070)\" d=\"M801.361 255.677 L801.361 239.983 L805.62 239.983 L805.62 255.515 Q805.62 259.196 807.056 261.048 Q808.491 262.876 811.361 262.876 Q814.81 262.876 816.801 260.677 Q818.815 258.478 818.815 254.682 L818.815 239.983 L823.074 239.983 L823.074 265.909 L818.815 265.909 L818.815 261.927 Q817.264 264.288 815.204 265.446 Q813.167 266.58 810.458 266.58 Q805.991 266.58 803.676 263.802 Q801.361 261.024 801.361 255.677 M812.079 239.358 L812.079 239.358 Z\" fill=\"#000000\" fill-rule=\"nonzero\" fill-opacity=\"1\" /><path clip-path=\"url(#clip070)\" d=\"M836.06 232.622 L836.06 239.983 L844.833 239.983 L844.833 243.293 L836.06 243.293 L836.06 257.367 Q836.06 260.538 836.917 261.441 Q837.796 262.344 840.458 262.344 L844.833 262.344 L844.833 265.909 L840.458 265.909 Q835.528 265.909 833.653 264.08 Q831.778 262.228 831.778 257.367 L831.778 243.293 L828.653 243.293 L828.653 239.983 L831.778 239.983 L831.778 232.622 L836.06 232.622 Z\" fill=\"#000000\" fill-rule=\"nonzero\" fill-opacity=\"1\" /><path clip-path=\"url(#clip070)\" d=\"M850.435 239.983 L854.694 239.983 L854.694 265.909 L850.435 265.909 L850.435 239.983 M850.435 229.89 L854.694 229.89 L854.694 235.284 L850.435 235.284 L850.435 229.89 Z\" fill=\"#000000\" fill-rule=\"nonzero\" fill-opacity=\"1\" /><path clip-path=\"url(#clip070)\" d=\"M873.653 242.969 Q870.227 242.969 868.236 245.654 Q866.245 248.316 866.245 252.969 Q866.245 257.622 868.213 260.307 Q870.203 262.969 873.653 262.969 Q877.055 262.969 879.046 260.284 Q881.037 257.598 881.037 252.969 Q881.037 248.362 879.046 245.677 Q877.055 242.969 873.653 242.969 M873.653 239.358 Q879.208 239.358 882.379 242.969 Q885.551 246.58 885.551 252.969 Q885.551 259.335 882.379 262.969 Q879.208 266.58 873.653 266.58 Q868.074 266.58 864.903 262.969 Q861.754 259.335 861.754 252.969 Q861.754 246.58 864.903 242.969 Q868.074 239.358 873.653 239.358 Z\" fill=\"#000000\" fill-rule=\"nonzero\" fill-opacity=\"1\" /><path clip-path=\"url(#clip070)\" d=\"M914.162 250.261 L914.162 265.909 L909.902 265.909 L909.902 250.399 Q909.902 246.719 908.467 244.89 Q907.032 243.062 904.162 243.062 Q900.713 243.062 898.722 245.261 Q896.731 247.46 896.731 251.256 L896.731 265.909 L892.449 265.909 L892.449 239.983 L896.731 239.983 L896.731 244.011 Q898.259 241.673 900.319 240.515 Q902.402 239.358 905.111 239.358 Q909.578 239.358 911.87 242.136 Q914.162 244.89 914.162 250.261 Z\" fill=\"#000000\" fill-rule=\"nonzero\" fill-opacity=\"1\" /></svg>\n"
      ],
      "text/html": [
       "<?xml version=\"1.0\" encoding=\"utf-8\"?>\n",
       "<svg xmlns=\"http://www.w3.org/2000/svg\" xmlns:xlink=\"http://www.w3.org/1999/xlink\" width=\"600\" height=\"400\" viewBox=\"0 0 2400 1600\">\n",
       "<defs>\n",
       "  <clipPath id=\"clip120\">\n",
       "    <rect x=\"0\" y=\"0\" width=\"2400\" height=\"1600\"/>\n",
       "  </clipPath>\n",
       "</defs>\n",
       "<path clip-path=\"url(#clip120)\" d=\"M0 1600 L2400 1600 L2400 8.88178e-14 L0 8.88178e-14  Z\" fill=\"#ffffff\" fill-rule=\"evenodd\" fill-opacity=\"1\"/>\n",
       "<defs>\n",
       "  <clipPath id=\"clip121\">\n",
       "    <rect x=\"480\" y=\"0\" width=\"1681\" height=\"1600\"/>\n",
       "  </clipPath>\n",
       "</defs>\n",
       "<path clip-path=\"url(#clip120)\" d=\"M219.866 1423.18 L2352.76 1423.18 L2352.76 47.2441 L219.866 47.2441  Z\" fill=\"#ffffff\" fill-rule=\"evenodd\" fill-opacity=\"1\"/>\n",
       "<defs>\n",
       "  <clipPath id=\"clip122\">\n",
       "    <rect x=\"219\" y=\"47\" width=\"2134\" height=\"1377\"/>\n",
       "  </clipPath>\n",
       "</defs>\n",
       "<polyline clip-path=\"url(#clip122)\" style=\"stroke:#000000; stroke-linecap:round; stroke-linejoin:round; stroke-width:2; stroke-opacity:0.1; fill:none\" points=\"219.866,1423.18 219.866,47.2441 \"/>\n",
       "<polyline clip-path=\"url(#clip122)\" style=\"stroke:#000000; stroke-linecap:round; stroke-linejoin:round; stroke-width:2; stroke-opacity:0.1; fill:none\" points=\"647.775,1423.18 647.775,47.2441 \"/>\n",
       "<polyline clip-path=\"url(#clip122)\" style=\"stroke:#000000; stroke-linecap:round; stroke-linejoin:round; stroke-width:2; stroke-opacity:0.1; fill:none\" points=\"1075.68,1423.18 1075.68,47.2441 \"/>\n",
       "<polyline clip-path=\"url(#clip122)\" style=\"stroke:#000000; stroke-linecap:round; stroke-linejoin:round; stroke-width:2; stroke-opacity:0.1; fill:none\" points=\"1503.59,1423.18 1503.59,47.2441 \"/>\n",
       "<polyline clip-path=\"url(#clip122)\" style=\"stroke:#000000; stroke-linecap:round; stroke-linejoin:round; stroke-width:2; stroke-opacity:0.1; fill:none\" points=\"1931.5,1423.18 1931.5,47.2441 \"/>\n",
       "<polyline clip-path=\"url(#clip120)\" style=\"stroke:#000000; stroke-linecap:round; stroke-linejoin:round; stroke-width:4; stroke-opacity:1; fill:none\" points=\"219.866,1423.18 2352.76,1423.18 \"/>\n",
       "<polyline clip-path=\"url(#clip120)\" style=\"stroke:#000000; stroke-linecap:round; stroke-linejoin:round; stroke-width:4; stroke-opacity:1; fill:none\" points=\"219.866,1423.18 219.866,1404.28 \"/>\n",
       "<polyline clip-path=\"url(#clip120)\" style=\"stroke:#000000; stroke-linecap:round; stroke-linejoin:round; stroke-width:4; stroke-opacity:1; fill:none\" points=\"647.775,1423.18 647.775,1404.28 \"/>\n",
       "<polyline clip-path=\"url(#clip120)\" style=\"stroke:#000000; stroke-linecap:round; stroke-linejoin:round; stroke-width:4; stroke-opacity:1; fill:none\" points=\"1075.68,1423.18 1075.68,1404.28 \"/>\n",
       "<polyline clip-path=\"url(#clip120)\" style=\"stroke:#000000; stroke-linecap:round; stroke-linejoin:round; stroke-width:4; stroke-opacity:1; fill:none\" points=\"1503.59,1423.18 1503.59,1404.28 \"/>\n",
       "<polyline clip-path=\"url(#clip120)\" style=\"stroke:#000000; stroke-linecap:round; stroke-linejoin:round; stroke-width:4; stroke-opacity:1; fill:none\" points=\"1931.5,1423.18 1931.5,1404.28 \"/>\n",
       "<path clip-path=\"url(#clip120)\" d=\"M197.251 1454.1 Q193.64 1454.1 191.811 1457.66 Q190.005 1461.2 190.005 1468.33 Q190.005 1475.44 191.811 1479.01 Q193.64 1482.55 197.251 1482.55 Q200.885 1482.55 202.69 1479.01 Q204.519 1475.44 204.519 1468.33 Q204.519 1461.2 202.69 1457.66 Q200.885 1454.1 197.251 1454.1 M197.251 1450.39 Q203.061 1450.39 206.116 1455 Q209.195 1459.58 209.195 1468.33 Q209.195 1477.06 206.116 1481.67 Q203.061 1486.25 197.251 1486.25 Q191.44 1486.25 188.362 1481.67 Q185.306 1477.06 185.306 1468.33 Q185.306 1459.58 188.362 1455 Q191.44 1450.39 197.251 1450.39 Z\" fill=\"#000000\" fill-rule=\"nonzero\" fill-opacity=\"1\" /><path clip-path=\"url(#clip120)\" d=\"M217.413 1479.7 L222.297 1479.7 L222.297 1485.58 L217.413 1485.58 L217.413 1479.7 Z\" fill=\"#000000\" fill-rule=\"nonzero\" fill-opacity=\"1\" /><path clip-path=\"url(#clip120)\" d=\"M242.482 1454.1 Q238.871 1454.1 237.042 1457.66 Q235.237 1461.2 235.237 1468.33 Q235.237 1475.44 237.042 1479.01 Q238.871 1482.55 242.482 1482.55 Q246.116 1482.55 247.922 1479.01 Q249.75 1475.44 249.75 1468.33 Q249.75 1461.2 247.922 1457.66 Q246.116 1454.1 242.482 1454.1 M242.482 1450.39 Q248.292 1450.39 251.348 1455 Q254.426 1459.58 254.426 1468.33 Q254.426 1477.06 251.348 1481.67 Q248.292 1486.25 242.482 1486.25 Q236.672 1486.25 233.593 1481.67 Q230.538 1477.06 230.538 1468.33 Q230.538 1459.58 233.593 1455 Q236.672 1450.39 242.482 1450.39 Z\" fill=\"#000000\" fill-rule=\"nonzero\" fill-opacity=\"1\" /><path clip-path=\"url(#clip120)\" d=\"M625.773 1454.1 Q622.162 1454.1 620.333 1457.66 Q618.528 1461.2 618.528 1468.33 Q618.528 1475.44 620.333 1479.01 Q622.162 1482.55 625.773 1482.55 Q629.407 1482.55 631.213 1479.01 Q633.042 1475.44 633.042 1468.33 Q633.042 1461.2 631.213 1457.66 Q629.407 1454.1 625.773 1454.1 M625.773 1450.39 Q631.583 1450.39 634.639 1455 Q637.718 1459.58 637.718 1468.33 Q637.718 1477.06 634.639 1481.67 Q631.583 1486.25 625.773 1486.25 Q619.963 1486.25 616.884 1481.67 Q613.829 1477.06 613.829 1468.33 Q613.829 1459.58 616.884 1455 Q619.963 1450.39 625.773 1450.39 Z\" fill=\"#000000\" fill-rule=\"nonzero\" fill-opacity=\"1\" /><path clip-path=\"url(#clip120)\" d=\"M645.935 1479.7 L650.819 1479.7 L650.819 1485.58 L645.935 1485.58 L645.935 1479.7 Z\" fill=\"#000000\" fill-rule=\"nonzero\" fill-opacity=\"1\" /><path clip-path=\"url(#clip120)\" d=\"M661.815 1481.64 L669.453 1481.64 L669.453 1455.28 L661.143 1456.95 L661.143 1452.69 L669.407 1451.02 L674.083 1451.02 L674.083 1481.64 L681.722 1481.64 L681.722 1485.58 L661.815 1485.58 L661.815 1481.64 Z\" fill=\"#000000\" fill-rule=\"nonzero\" fill-opacity=\"1\" /><path clip-path=\"url(#clip120)\" d=\"M1053.87 1454.1 Q1050.26 1454.1 1048.43 1457.66 Q1046.62 1461.2 1046.62 1468.33 Q1046.62 1475.44 1048.43 1479.01 Q1050.26 1482.55 1053.87 1482.55 Q1057.5 1482.55 1059.31 1479.01 Q1061.14 1475.44 1061.14 1468.33 Q1061.14 1461.2 1059.31 1457.66 Q1057.5 1454.1 1053.87 1454.1 M1053.87 1450.39 Q1059.68 1450.39 1062.73 1455 Q1065.81 1459.58 1065.81 1468.33 Q1065.81 1477.06 1062.73 1481.67 Q1059.68 1486.25 1053.87 1486.25 Q1048.06 1486.25 1044.98 1481.67 Q1041.92 1477.06 1041.92 1468.33 Q1041.92 1459.58 1044.98 1455 Q1048.06 1450.39 1053.87 1450.39 Z\" fill=\"#000000\" fill-rule=\"nonzero\" fill-opacity=\"1\" /><path clip-path=\"url(#clip120)\" d=\"M1074.03 1479.7 L1078.91 1479.7 L1078.91 1485.58 L1074.03 1485.58 L1074.03 1479.7 Z\" fill=\"#000000\" fill-rule=\"nonzero\" fill-opacity=\"1\" /><path clip-path=\"url(#clip120)\" d=\"M1093.13 1481.64 L1109.45 1481.64 L1109.45 1485.58 L1087.5 1485.58 L1087.5 1481.64 Q1090.16 1478.89 1094.75 1474.26 Q1099.35 1469.61 1100.53 1468.27 Q1102.78 1465.74 1103.66 1464.01 Q1104.56 1462.25 1104.56 1460.56 Q1104.56 1457.8 1102.62 1456.07 Q1100.7 1454.33 1097.59 1454.33 Q1095.39 1454.33 1092.94 1455.09 Q1090.51 1455.86 1087.73 1457.41 L1087.73 1452.69 Q1090.56 1451.55 1093.01 1450.97 Q1095.46 1450.39 1097.5 1450.39 Q1102.87 1450.39 1106.07 1453.08 Q1109.26 1455.77 1109.26 1460.26 Q1109.26 1462.39 1108.45 1464.31 Q1107.66 1466.2 1105.56 1468.8 Q1104.98 1469.47 1101.88 1472.69 Q1098.77 1475.88 1093.13 1481.64 Z\" fill=\"#000000\" fill-rule=\"nonzero\" fill-opacity=\"1\" /><path clip-path=\"url(#clip120)\" d=\"M1481.3 1454.1 Q1477.69 1454.1 1475.86 1457.66 Q1474.06 1461.2 1474.06 1468.33 Q1474.06 1475.44 1475.86 1479.01 Q1477.69 1482.55 1481.3 1482.55 Q1484.94 1482.55 1486.74 1479.01 Q1488.57 1475.44 1488.57 1468.33 Q1488.57 1461.2 1486.74 1457.66 Q1484.94 1454.1 1481.3 1454.1 M1481.3 1450.39 Q1487.11 1450.39 1490.17 1455 Q1493.25 1459.58 1493.25 1468.33 Q1493.25 1477.06 1490.17 1481.67 Q1487.11 1486.25 1481.3 1486.25 Q1475.49 1486.25 1472.41 1481.67 Q1469.36 1477.06 1469.36 1468.33 Q1469.36 1459.58 1472.41 1455 Q1475.49 1450.39 1481.3 1450.39 Z\" fill=\"#000000\" fill-rule=\"nonzero\" fill-opacity=\"1\" /><path clip-path=\"url(#clip120)\" d=\"M1501.46 1479.7 L1506.35 1479.7 L1506.35 1485.58 L1501.46 1485.58 L1501.46 1479.7 Z\" fill=\"#000000\" fill-rule=\"nonzero\" fill-opacity=\"1\" /><path clip-path=\"url(#clip120)\" d=\"M1530.7 1466.95 Q1534.06 1467.66 1535.93 1469.93 Q1537.83 1472.2 1537.83 1475.53 Q1537.83 1480.65 1534.31 1483.45 Q1530.79 1486.25 1524.31 1486.25 Q1522.14 1486.25 1519.82 1485.81 Q1517.53 1485.39 1515.07 1484.54 L1515.07 1480.02 Q1517.02 1481.16 1519.33 1481.74 Q1521.65 1482.32 1524.17 1482.32 Q1528.57 1482.32 1530.86 1480.58 Q1533.18 1478.84 1533.18 1475.53 Q1533.18 1472.48 1531.02 1470.77 Q1528.89 1469.03 1525.07 1469.03 L1521.05 1469.03 L1521.05 1465.19 L1525.26 1465.19 Q1528.71 1465.19 1530.54 1463.82 Q1532.37 1462.43 1532.37 1459.84 Q1532.37 1457.18 1530.47 1455.77 Q1528.59 1454.33 1525.07 1454.33 Q1523.15 1454.33 1520.95 1454.75 Q1518.76 1455.16 1516.12 1456.04 L1516.12 1451.88 Q1518.78 1451.14 1521.09 1450.77 Q1523.43 1450.39 1525.49 1450.39 Q1530.82 1450.39 1533.92 1452.83 Q1537.02 1455.23 1537.02 1459.35 Q1537.02 1462.22 1535.38 1464.21 Q1533.73 1466.18 1530.7 1466.95 Z\" fill=\"#000000\" fill-rule=\"nonzero\" fill-opacity=\"1\" /><path clip-path=\"url(#clip120)\" d=\"M1908.64 1454.1 Q1905.03 1454.1 1903.2 1457.66 Q1901.4 1461.2 1901.4 1468.33 Q1901.4 1475.44 1903.2 1479.01 Q1905.03 1482.55 1908.64 1482.55 Q1912.28 1482.55 1914.08 1479.01 Q1915.91 1475.44 1915.91 1468.33 Q1915.91 1461.2 1914.08 1457.66 Q1912.28 1454.1 1908.64 1454.1 M1908.64 1450.39 Q1914.45 1450.39 1917.51 1455 Q1920.59 1459.58 1920.59 1468.33 Q1920.59 1477.06 1917.51 1481.67 Q1914.45 1486.25 1908.64 1486.25 Q1902.83 1486.25 1899.76 1481.67 Q1896.7 1477.06 1896.7 1468.33 Q1896.7 1459.58 1899.76 1455 Q1902.83 1450.39 1908.64 1450.39 Z\" fill=\"#000000\" fill-rule=\"nonzero\" fill-opacity=\"1\" /><path clip-path=\"url(#clip120)\" d=\"M1928.81 1479.7 L1933.69 1479.7 L1933.69 1485.58 L1928.81 1485.58 L1928.81 1479.7 Z\" fill=\"#000000\" fill-rule=\"nonzero\" fill-opacity=\"1\" /><path clip-path=\"url(#clip120)\" d=\"M1956.72 1455.09 L1944.92 1473.54 L1956.72 1473.54 L1956.72 1455.09 M1955.5 1451.02 L1961.38 1451.02 L1961.38 1473.54 L1966.31 1473.54 L1966.31 1477.43 L1961.38 1477.43 L1961.38 1485.58 L1956.72 1485.58 L1956.72 1477.43 L1941.12 1477.43 L1941.12 1472.92 L1955.5 1451.02 Z\" fill=\"#000000\" fill-rule=\"nonzero\" fill-opacity=\"1\" /><path clip-path=\"url(#clip120)\" d=\"M1007.33 1545.76 Q1009.4 1546.46 1011.34 1548.76 Q1013.32 1551.05 1015.29 1555.06 L1021.82 1568.04 L1014.91 1568.04 L1008.83 1555.85 Q1006.47 1551.08 1004.25 1549.52 Q1002.05 1547.96 998.231 1547.96 L991.229 1547.96 L991.229 1568.04 L984.799 1568.04 L984.799 1520.52 L999.313 1520.52 Q1007.46 1520.52 1011.47 1523.93 Q1015.48 1527.34 1015.48 1534.21 Q1015.48 1538.7 1013.38 1541.66 Q1011.31 1544.62 1007.33 1545.76 M991.229 1525.81 L991.229 1542.68 L999.313 1542.68 Q1003.96 1542.68 1006.32 1540.54 Q1008.7 1538.38 1008.7 1534.21 Q1008.7 1530.04 1006.32 1527.94 Q1003.96 1525.81 999.313 1525.81 L991.229 1525.81 Z\" fill=\"#000000\" fill-rule=\"nonzero\" fill-opacity=\"1\" /><path clip-path=\"url(#clip120)\" d=\"M1029.84 1532.4 L1035.69 1532.4 L1035.69 1568.04 L1029.84 1568.04 L1029.84 1532.4 M1029.84 1518.52 L1035.69 1518.52 L1035.69 1525.93 L1029.84 1525.93 L1029.84 1518.52 Z\" fill=\"#000000\" fill-rule=\"nonzero\" fill-opacity=\"1\" /><path clip-path=\"url(#clip120)\" d=\"M1070.67 1533.45 L1070.67 1538.98 Q1068.19 1537.71 1065.52 1537.07 Q1062.84 1536.44 1059.98 1536.44 Q1055.62 1536.44 1053.42 1537.77 Q1051.26 1539.11 1051.26 1541.79 Q1051.26 1543.82 1052.82 1545 Q1054.38 1546.15 1059.09 1547.2 L1061.09 1547.64 Q1067.33 1548.98 1069.94 1551.43 Q1072.58 1553.85 1072.58 1558.21 Q1072.58 1563.17 1068.64 1566.07 Q1064.72 1568.97 1057.85 1568.97 Q1054.98 1568.97 1051.86 1568.39 Q1048.77 1567.85 1045.34 1566.74 L1045.34 1560.69 Q1048.58 1562.38 1051.73 1563.24 Q1054.89 1564.07 1057.97 1564.07 Q1062.11 1564.07 1064.34 1562.66 Q1066.57 1561.23 1066.57 1558.65 Q1066.57 1556.27 1064.94 1554.99 Q1063.35 1553.72 1057.91 1552.54 L1055.87 1552.07 Q1050.43 1550.92 1048.01 1548.56 Q1045.59 1546.18 1045.59 1542.04 Q1045.59 1537.01 1049.16 1534.27 Q1052.72 1531.54 1059.28 1531.54 Q1062.52 1531.54 1065.39 1532.01 Q1068.25 1532.49 1070.67 1533.45 Z\" fill=\"#000000\" fill-rule=\"nonzero\" fill-opacity=\"1\" /><path clip-path=\"url(#clip120)\" d=\"M1081.69 1518.52 L1087.57 1518.52 L1087.57 1547.77 L1105.05 1532.4 L1112.53 1532.4 L1093.62 1549.07 L1113.32 1568.04 L1105.68 1568.04 L1087.57 1550.63 L1087.57 1568.04 L1081.69 1568.04 L1081.69 1518.52 Z\" fill=\"#000000\" fill-rule=\"nonzero\" fill-opacity=\"1\" /><path clip-path=\"url(#clip120)\" d=\"M1163.1 1533.45 L1163.1 1538.98 Q1160.62 1537.71 1157.95 1537.07 Q1155.27 1536.44 1152.41 1536.44 Q1148.05 1536.44 1145.85 1537.77 Q1143.69 1539.11 1143.69 1541.79 Q1143.69 1543.82 1145.25 1545 Q1146.81 1546.15 1151.52 1547.2 L1153.52 1547.64 Q1159.76 1548.98 1162.37 1551.43 Q1165.01 1553.85 1165.01 1558.21 Q1165.01 1563.17 1161.07 1566.07 Q1157.15 1568.97 1150.28 1568.97 Q1147.41 1568.97 1144.29 1568.39 Q1141.2 1567.85 1137.77 1566.74 L1137.77 1560.69 Q1141.01 1562.38 1144.16 1563.24 Q1147.32 1564.07 1150.4 1564.07 Q1154.54 1564.07 1156.77 1562.66 Q1159 1561.23 1159 1558.65 Q1159 1556.27 1157.37 1554.99 Q1155.78 1553.72 1150.34 1552.54 L1148.3 1552.07 Q1142.86 1550.92 1140.44 1548.56 Q1138.02 1546.18 1138.02 1542.04 Q1138.02 1537.01 1141.59 1534.27 Q1145.15 1531.54 1151.71 1531.54 Q1154.95 1531.54 1157.82 1532.01 Q1160.68 1532.49 1163.1 1533.45 Z\" fill=\"#000000\" fill-rule=\"nonzero\" fill-opacity=\"1\" /><path clip-path=\"url(#clip120)\" d=\"M1177.84 1550.25 Q1177.84 1556.71 1180.48 1560.4 Q1183.15 1564.07 1187.8 1564.07 Q1192.45 1564.07 1195.12 1560.4 Q1197.8 1556.71 1197.8 1550.25 Q1197.8 1543.79 1195.12 1540.13 Q1192.45 1536.44 1187.8 1536.44 Q1183.15 1536.44 1180.48 1540.13 Q1177.84 1543.79 1177.84 1550.25 M1197.8 1562.7 Q1195.95 1565.88 1193.12 1567.44 Q1190.32 1568.97 1186.37 1568.97 Q1179.91 1568.97 1175.83 1563.81 Q1171.79 1558.65 1171.79 1550.25 Q1171.79 1541.85 1175.83 1536.69 Q1179.91 1531.54 1186.37 1531.54 Q1190.32 1531.54 1193.12 1533.1 Q1195.95 1534.62 1197.8 1537.81 L1197.8 1532.4 L1203.65 1532.4 L1203.65 1581.6 L1197.8 1581.6 L1197.8 1562.7 Z\" fill=\"#000000\" fill-rule=\"nonzero\" fill-opacity=\"1\" /><path clip-path=\"url(#clip120)\" d=\"M1236.37 1537.87 Q1235.39 1537.3 1234.21 1537.04 Q1233.06 1536.76 1231.66 1536.76 Q1226.7 1536.76 1224.02 1540 Q1221.38 1543.22 1221.38 1549.27 L1221.38 1568.04 L1215.49 1568.04 L1215.49 1532.4 L1221.38 1532.4 L1221.38 1537.93 Q1223.23 1534.69 1226.19 1533.13 Q1229.15 1531.54 1233.38 1531.54 Q1233.98 1531.54 1234.72 1531.63 Q1235.45 1531.7 1236.34 1531.85 L1236.37 1537.87 Z\" fill=\"#000000\" fill-rule=\"nonzero\" fill-opacity=\"1\" /><path clip-path=\"url(#clip120)\" d=\"M1248.31 1522.27 L1248.31 1532.4 L1260.37 1532.4 L1260.37 1536.95 L1248.31 1536.95 L1248.31 1556.3 Q1248.31 1560.66 1249.49 1561.9 Q1250.69 1563.14 1254.36 1563.14 L1260.37 1563.14 L1260.37 1568.04 L1254.36 1568.04 Q1247.58 1568.04 1245 1565.53 Q1242.42 1562.98 1242.42 1556.3 L1242.42 1536.95 L1238.12 1536.95 L1238.12 1532.4 L1242.42 1532.4 L1242.42 1522.27 L1248.31 1522.27 Z\" fill=\"#000000\" fill-rule=\"nonzero\" fill-opacity=\"1\" /><path clip-path=\"url(#clip120)\" d=\"M1282.14 1518.58 Q1277.88 1525.9 1275.81 1533.06 Q1273.74 1540.23 1273.74 1547.58 Q1273.74 1554.93 1275.81 1562.16 Q1277.91 1569.35 1282.14 1576.64 L1277.05 1576.64 Q1272.27 1569.16 1269.89 1561.93 Q1267.53 1554.71 1267.53 1547.58 Q1267.53 1540.48 1269.89 1533.29 Q1272.24 1526.09 1277.05 1518.58 L1282.14 1518.58 Z\" fill=\"#000000\" fill-rule=\"nonzero\" fill-opacity=\"1\" /><path clip-path=\"url(#clip120)\" d=\"M1289.3 1532.4 L1295.51 1532.4 L1306.65 1562.31 L1317.79 1532.4 L1324 1532.4 L1310.63 1568.04 L1302.67 1568.04 L1289.3 1532.4 Z\" fill=\"#000000\" fill-rule=\"nonzero\" fill-opacity=\"1\" /><path clip-path=\"url(#clip120)\" d=\"M1348.28 1550.12 Q1341.18 1550.12 1338.45 1551.75 Q1335.71 1553.37 1335.71 1557.29 Q1335.71 1560.4 1337.75 1562.25 Q1339.81 1564.07 1343.35 1564.07 Q1348.22 1564.07 1351.15 1560.63 Q1354.11 1557.16 1354.11 1551.43 L1354.11 1550.12 L1348.28 1550.12 M1359.96 1547.71 L1359.96 1568.04 L1354.11 1568.04 L1354.11 1562.63 Q1352.1 1565.88 1349.11 1567.44 Q1346.12 1568.97 1341.79 1568.97 Q1336.31 1568.97 1333.07 1565.91 Q1329.85 1562.82 1329.85 1557.67 Q1329.85 1551.65 1333.86 1548.6 Q1337.91 1545.54 1345.89 1545.54 L1354.11 1545.54 L1354.11 1544.97 Q1354.11 1540.93 1351.43 1538.73 Q1348.79 1536.5 1343.98 1536.5 Q1340.93 1536.5 1338.03 1537.23 Q1335.14 1537.97 1332.46 1539.43 L1332.46 1534.02 Q1335.68 1532.78 1338.7 1532.17 Q1341.72 1531.54 1344.59 1531.54 Q1352.32 1531.54 1356.14 1535.55 Q1359.96 1539.56 1359.96 1547.71 Z\" fill=\"#000000\" fill-rule=\"nonzero\" fill-opacity=\"1\" /><path clip-path=\"url(#clip120)\" d=\"M1392.68 1537.87 Q1391.7 1537.3 1390.52 1537.04 Q1389.37 1536.76 1387.97 1536.76 Q1383.01 1536.76 1380.33 1540 Q1377.69 1543.22 1377.69 1549.27 L1377.69 1568.04 L1371.8 1568.04 L1371.8 1532.4 L1377.69 1532.4 L1377.69 1537.93 Q1379.54 1534.69 1382.5 1533.13 Q1385.46 1531.54 1389.69 1531.54 Q1390.29 1531.54 1391.03 1531.63 Q1391.76 1531.7 1392.65 1531.85 L1392.68 1537.87 Z\" fill=\"#000000\" fill-rule=\"nonzero\" fill-opacity=\"1\" /><path clip-path=\"url(#clip120)\" d=\"M1398.82 1532.4 L1404.68 1532.4 L1404.68 1568.04 L1398.82 1568.04 L1398.82 1532.4 M1398.82 1518.52 L1404.68 1518.52 L1404.68 1525.93 L1398.82 1525.93 L1398.82 1518.52 Z\" fill=\"#000000\" fill-rule=\"nonzero\" fill-opacity=\"1\" /><path clip-path=\"url(#clip120)\" d=\"M1433.14 1550.12 Q1426.04 1550.12 1423.3 1551.75 Q1420.56 1553.37 1420.56 1557.29 Q1420.56 1560.4 1422.6 1562.25 Q1424.67 1564.07 1428.2 1564.07 Q1433.07 1564.07 1436 1560.63 Q1438.96 1557.16 1438.96 1551.43 L1438.96 1550.12 L1433.14 1550.12 M1444.82 1547.71 L1444.82 1568.04 L1438.96 1568.04 L1438.96 1562.63 Q1436.96 1565.88 1433.96 1567.44 Q1430.97 1568.97 1426.64 1568.97 Q1421.17 1568.97 1417.92 1565.91 Q1414.71 1562.82 1414.71 1557.67 Q1414.71 1551.65 1418.72 1548.6 Q1422.76 1545.54 1430.75 1545.54 L1438.96 1545.54 L1438.96 1544.97 Q1438.96 1540.93 1436.29 1538.73 Q1433.65 1536.5 1428.84 1536.5 Q1425.78 1536.5 1422.89 1537.23 Q1419.99 1537.97 1417.32 1539.43 L1417.32 1534.02 Q1420.53 1532.78 1423.56 1532.17 Q1426.58 1531.54 1429.44 1531.54 Q1437.18 1531.54 1441 1535.55 Q1444.82 1539.56 1444.82 1547.71 Z\" fill=\"#000000\" fill-rule=\"nonzero\" fill-opacity=\"1\" /><path clip-path=\"url(#clip120)\" d=\"M1486.51 1546.53 L1486.51 1568.04 L1480.66 1568.04 L1480.66 1546.72 Q1480.66 1541.66 1478.68 1539.14 Q1476.71 1536.63 1472.76 1536.63 Q1468.02 1536.63 1465.28 1539.65 Q1462.55 1542.68 1462.55 1547.9 L1462.55 1568.04 L1456.66 1568.04 L1456.66 1532.4 L1462.55 1532.4 L1462.55 1537.93 Q1464.65 1534.72 1467.48 1533.13 Q1470.34 1531.54 1474.07 1531.54 Q1480.21 1531.54 1483.36 1535.36 Q1486.51 1539.14 1486.51 1546.53 Z\" fill=\"#000000\" fill-rule=\"nonzero\" fill-opacity=\"1\" /><path clip-path=\"url(#clip120)\" d=\"M1523.85 1533.76 L1523.85 1539.24 Q1521.36 1537.87 1518.85 1537.2 Q1516.37 1536.5 1513.82 1536.5 Q1508.12 1536.5 1504.97 1540.13 Q1501.82 1543.73 1501.82 1550.25 Q1501.82 1556.78 1504.97 1560.4 Q1508.12 1564 1513.82 1564 Q1516.37 1564 1518.85 1563.33 Q1521.36 1562.63 1523.85 1561.26 L1523.85 1566.68 Q1521.4 1567.82 1518.75 1568.39 Q1516.14 1568.97 1513.18 1568.97 Q1505.13 1568.97 1500.39 1563.91 Q1495.65 1558.85 1495.65 1550.25 Q1495.65 1541.53 1500.42 1536.53 Q1505.23 1531.54 1513.57 1531.54 Q1516.27 1531.54 1518.85 1532.11 Q1521.43 1532.65 1523.85 1533.76 Z\" fill=\"#000000\" fill-rule=\"nonzero\" fill-opacity=\"1\" /><path clip-path=\"url(#clip120)\" d=\"M1564.52 1548.76 L1564.52 1551.62 L1537.6 1551.62 Q1537.98 1557.67 1541.23 1560.85 Q1544.5 1564 1550.33 1564 Q1553.7 1564 1556.85 1563.17 Q1560.04 1562.35 1563.16 1560.69 L1563.16 1566.23 Q1560 1567.57 1556.69 1568.27 Q1553.38 1568.97 1549.98 1568.97 Q1541.45 1568.97 1536.45 1564 Q1531.49 1559.04 1531.49 1550.57 Q1531.49 1541.82 1536.2 1536.69 Q1540.94 1531.54 1548.96 1531.54 Q1556.15 1531.54 1560.32 1536.18 Q1564.52 1540.8 1564.52 1548.76 M1558.67 1547.04 Q1558.6 1542.23 1555.96 1539.37 Q1553.35 1536.5 1549.02 1536.5 Q1544.12 1536.5 1541.16 1539.27 Q1538.23 1542.04 1537.79 1547.07 L1558.67 1547.04 Z\" fill=\"#000000\" fill-rule=\"nonzero\" fill-opacity=\"1\" /><path clip-path=\"url(#clip120)\" d=\"M1573.21 1518.58 L1578.31 1518.58 Q1583.08 1526.09 1585.44 1533.29 Q1587.82 1540.48 1587.82 1547.58 Q1587.82 1554.71 1585.44 1561.93 Q1583.08 1569.16 1578.31 1576.64 L1573.21 1576.64 Q1577.45 1569.35 1579.52 1562.16 Q1581.62 1554.93 1581.62 1547.58 Q1581.62 1540.23 1579.52 1533.06 Q1577.45 1525.9 1573.21 1518.58 Z\" fill=\"#000000\" fill-rule=\"nonzero\" fill-opacity=\"1\" /><polyline clip-path=\"url(#clip122)\" style=\"stroke:#000000; stroke-linecap:round; stroke-linejoin:round; stroke-width:2; stroke-opacity:0.1; fill:none\" points=\"219.866,1240.01 2352.76,1240.01 \"/>\n",
       "<polyline clip-path=\"url(#clip122)\" style=\"stroke:#000000; stroke-linecap:round; stroke-linejoin:round; stroke-width:2; stroke-opacity:0.1; fill:none\" points=\"219.866,951.557 2352.76,951.557 \"/>\n",
       "<polyline clip-path=\"url(#clip122)\" style=\"stroke:#000000; stroke-linecap:round; stroke-linejoin:round; stroke-width:2; stroke-opacity:0.1; fill:none\" points=\"219.866,663.1 2352.76,663.1 \"/>\n",
       "<polyline clip-path=\"url(#clip122)\" style=\"stroke:#000000; stroke-linecap:round; stroke-linejoin:round; stroke-width:2; stroke-opacity:0.1; fill:none\" points=\"219.866,374.643 2352.76,374.643 \"/>\n",
       "<polyline clip-path=\"url(#clip122)\" style=\"stroke:#000000; stroke-linecap:round; stroke-linejoin:round; stroke-width:2; stroke-opacity:0.1; fill:none\" points=\"219.866,86.1856 2352.76,86.1856 \"/>\n",
       "<polyline clip-path=\"url(#clip120)\" style=\"stroke:#000000; stroke-linecap:round; stroke-linejoin:round; stroke-width:4; stroke-opacity:1; fill:none\" points=\"219.866,1423.18 219.866,47.2441 \"/>\n",
       "<polyline clip-path=\"url(#clip120)\" style=\"stroke:#000000; stroke-linecap:round; stroke-linejoin:round; stroke-width:4; stroke-opacity:1; fill:none\" points=\"219.866,1240.01 238.764,1240.01 \"/>\n",
       "<polyline clip-path=\"url(#clip120)\" style=\"stroke:#000000; stroke-linecap:round; stroke-linejoin:round; stroke-width:4; stroke-opacity:1; fill:none\" points=\"219.866,951.557 238.764,951.557 \"/>\n",
       "<polyline clip-path=\"url(#clip120)\" style=\"stroke:#000000; stroke-linecap:round; stroke-linejoin:round; stroke-width:4; stroke-opacity:1; fill:none\" points=\"219.866,663.1 238.764,663.1 \"/>\n",
       "<polyline clip-path=\"url(#clip120)\" style=\"stroke:#000000; stroke-linecap:round; stroke-linejoin:round; stroke-width:4; stroke-opacity:1; fill:none\" points=\"219.866,374.643 238.764,374.643 \"/>\n",
       "<polyline clip-path=\"url(#clip120)\" style=\"stroke:#000000; stroke-linecap:round; stroke-linejoin:round; stroke-width:4; stroke-opacity:1; fill:none\" points=\"219.866,86.1856 238.764,86.1856 \"/>\n",
       "<path clip-path=\"url(#clip120)\" d=\"M127.917 1225.81 Q124.306 1225.81 122.478 1229.38 Q120.672 1232.92 120.672 1240.05 Q120.672 1247.15 122.478 1250.72 Q124.306 1254.26 127.917 1254.26 Q131.552 1254.26 133.357 1250.72 Q135.186 1247.15 135.186 1240.05 Q135.186 1232.92 133.357 1229.38 Q131.552 1225.81 127.917 1225.81 M127.917 1222.11 Q133.728 1222.11 136.783 1226.72 Q139.862 1231.3 139.862 1240.05 Q139.862 1248.78 136.783 1253.38 Q133.728 1257.96 127.917 1257.96 Q122.107 1257.96 119.029 1253.38 Q115.973 1248.78 115.973 1240.05 Q115.973 1231.3 119.029 1226.72 Q122.107 1222.11 127.917 1222.11 Z\" fill=\"#000000\" fill-rule=\"nonzero\" fill-opacity=\"1\" /><path clip-path=\"url(#clip120)\" d=\"M148.079 1251.41 L152.964 1251.41 L152.964 1257.29 L148.079 1257.29 L148.079 1251.41 Z\" fill=\"#000000\" fill-rule=\"nonzero\" fill-opacity=\"1\" /><path clip-path=\"url(#clip120)\" d=\"M163.959 1253.36 L171.598 1253.36 L171.598 1226.99 L163.288 1228.66 L163.288 1224.4 L171.552 1222.73 L176.227 1222.73 L176.227 1253.36 L183.866 1253.36 L183.866 1257.29 L163.959 1257.29 L163.959 1253.36 Z\" fill=\"#000000\" fill-rule=\"nonzero\" fill-opacity=\"1\" /><path clip-path=\"url(#clip120)\" d=\"M128.288 937.355 Q124.677 937.355 122.848 940.92 Q121.043 944.462 121.043 951.591 Q121.043 958.698 122.848 962.263 Q124.677 965.804 128.288 965.804 Q131.922 965.804 133.728 962.263 Q135.556 958.698 135.556 951.591 Q135.556 944.462 133.728 940.92 Q131.922 937.355 128.288 937.355 M128.288 933.652 Q134.098 933.652 137.154 938.258 Q140.232 942.841 140.232 951.591 Q140.232 960.318 137.154 964.925 Q134.098 969.508 128.288 969.508 Q122.478 969.508 119.399 964.925 Q116.343 960.318 116.343 951.591 Q116.343 942.841 119.399 938.258 Q122.478 933.652 128.288 933.652 Z\" fill=\"#000000\" fill-rule=\"nonzero\" fill-opacity=\"1\" /><path clip-path=\"url(#clip120)\" d=\"M148.45 962.957 L153.334 962.957 L153.334 968.837 L148.45 968.837 L148.45 962.957 Z\" fill=\"#000000\" fill-rule=\"nonzero\" fill-opacity=\"1\" /><path clip-path=\"url(#clip120)\" d=\"M167.547 964.901 L183.866 964.901 L183.866 968.837 L161.922 968.837 L161.922 964.901 Q164.584 962.147 169.167 957.517 Q173.774 952.864 174.954 951.522 Q177.2 948.999 178.079 947.263 Q178.982 945.503 178.982 943.814 Q178.982 941.059 177.038 939.323 Q175.116 937.587 172.014 937.587 Q169.815 937.587 167.362 938.351 Q164.931 939.115 162.153 940.665 L162.153 935.943 Q164.977 934.809 167.431 934.23 Q169.885 933.652 171.922 933.652 Q177.292 933.652 180.487 936.337 Q183.681 939.022 183.681 943.513 Q183.681 945.642 182.871 947.564 Q182.084 949.462 179.977 952.054 Q179.399 952.726 176.297 955.943 Q173.195 959.138 167.547 964.901 Z\" fill=\"#000000\" fill-rule=\"nonzero\" fill-opacity=\"1\" /><path clip-path=\"url(#clip120)\" d=\"M127.339 648.898 Q123.728 648.898 121.899 652.463 Q120.093 656.005 120.093 663.134 Q120.093 670.241 121.899 673.806 Q123.728 677.347 127.339 677.347 Q130.973 677.347 132.779 673.806 Q134.607 670.241 134.607 663.134 Q134.607 656.005 132.779 652.463 Q130.973 648.898 127.339 648.898 M127.339 645.195 Q133.149 645.195 136.204 649.801 Q139.283 654.384 139.283 663.134 Q139.283 671.861 136.204 676.468 Q133.149 681.051 127.339 681.051 Q121.529 681.051 118.45 676.468 Q115.394 671.861 115.394 663.134 Q115.394 654.384 118.45 649.801 Q121.529 645.195 127.339 645.195 Z\" fill=\"#000000\" fill-rule=\"nonzero\" fill-opacity=\"1\" /><path clip-path=\"url(#clip120)\" d=\"M147.501 674.5 L152.385 674.5 L152.385 680.38 L147.501 680.38 L147.501 674.5 Z\" fill=\"#000000\" fill-rule=\"nonzero\" fill-opacity=\"1\" /><path clip-path=\"url(#clip120)\" d=\"M176.737 661.745 Q180.093 662.463 181.968 664.732 Q183.866 667 183.866 670.333 Q183.866 675.449 180.348 678.25 Q176.829 681.051 170.348 681.051 Q168.172 681.051 165.857 680.611 Q163.565 680.194 161.112 679.338 L161.112 674.824 Q163.056 675.958 165.371 676.537 Q167.686 677.116 170.209 677.116 Q174.607 677.116 176.899 675.38 Q179.214 673.644 179.214 670.333 Q179.214 667.278 177.061 665.565 Q174.931 663.829 171.112 663.829 L167.084 663.829 L167.084 659.986 L171.297 659.986 Q174.746 659.986 176.575 658.62 Q178.403 657.232 178.403 654.639 Q178.403 651.977 176.505 650.565 Q174.63 649.13 171.112 649.13 Q169.19 649.13 166.991 649.546 Q164.792 649.963 162.153 650.843 L162.153 646.676 Q164.815 645.935 167.13 645.565 Q169.468 645.195 171.528 645.195 Q176.852 645.195 179.954 647.625 Q183.056 650.033 183.056 654.153 Q183.056 657.023 181.413 659.014 Q179.769 660.982 176.737 661.745 Z\" fill=\"#000000\" fill-rule=\"nonzero\" fill-opacity=\"1\" /><path clip-path=\"url(#clip120)\" d=\"M126.205 360.441 Q122.593 360.441 120.765 364.006 Q118.959 367.548 118.959 374.677 Q118.959 381.784 120.765 385.349 Q122.593 388.89 126.205 388.89 Q129.839 388.89 131.644 385.349 Q133.473 381.784 133.473 374.677 Q133.473 367.548 131.644 364.006 Q129.839 360.441 126.205 360.441 M126.205 356.738 Q132.015 356.738 135.07 361.344 Q138.149 365.927 138.149 374.677 Q138.149 383.404 135.07 388.011 Q132.015 392.594 126.205 392.594 Q120.394 392.594 117.316 388.011 Q114.26 383.404 114.26 374.677 Q114.26 365.927 117.316 361.344 Q120.394 356.738 126.205 356.738 Z\" fill=\"#000000\" fill-rule=\"nonzero\" fill-opacity=\"1\" /><path clip-path=\"url(#clip120)\" d=\"M146.366 386.043 L151.251 386.043 L151.251 391.923 L146.366 391.923 L146.366 386.043 Z\" fill=\"#000000\" fill-rule=\"nonzero\" fill-opacity=\"1\" /><path clip-path=\"url(#clip120)\" d=\"M174.283 361.437 L162.477 379.886 L174.283 379.886 L174.283 361.437 M173.056 357.363 L178.936 357.363 L178.936 379.886 L183.866 379.886 L183.866 383.775 L178.936 383.775 L178.936 391.923 L174.283 391.923 L174.283 383.775 L158.681 383.775 L158.681 379.261 L173.056 357.363 Z\" fill=\"#000000\" fill-rule=\"nonzero\" fill-opacity=\"1\" /><path clip-path=\"url(#clip120)\" d=\"M127.686 71.9843 Q124.075 71.9843 122.246 75.5491 Q120.441 79.0908 120.441 86.2204 Q120.441 93.3268 122.246 96.8916 Q124.075 100.433 127.686 100.433 Q131.32 100.433 133.126 96.8916 Q134.954 93.3268 134.954 86.2204 Q134.954 79.0908 133.126 75.5491 Q131.32 71.9843 127.686 71.9843 M127.686 68.2807 Q133.496 68.2807 136.552 72.8871 Q139.63 77.4704 139.63 86.2204 Q139.63 94.9472 136.552 99.5536 Q133.496 104.137 127.686 104.137 Q121.876 104.137 118.797 99.5536 Q115.742 94.9472 115.742 86.2204 Q115.742 77.4704 118.797 72.8871 Q121.876 68.2807 127.686 68.2807 Z\" fill=\"#000000\" fill-rule=\"nonzero\" fill-opacity=\"1\" /><path clip-path=\"url(#clip120)\" d=\"M147.848 97.5861 L152.732 97.5861 L152.732 103.466 L147.848 103.466 L147.848 97.5861 Z\" fill=\"#000000\" fill-rule=\"nonzero\" fill-opacity=\"1\" /><path clip-path=\"url(#clip120)\" d=\"M162.964 68.9056 L181.32 68.9056 L181.32 72.8408 L167.246 72.8408 L167.246 81.313 Q168.264 80.9658 169.283 80.8037 Q170.302 80.6185 171.32 80.6185 Q177.107 80.6185 180.487 83.7898 Q183.866 86.9611 183.866 92.3777 Q183.866 97.9564 180.394 101.058 Q176.922 104.137 170.602 104.137 Q168.427 104.137 166.158 103.767 Q163.913 103.396 161.505 102.655 L161.505 97.9564 Q163.589 99.0907 165.811 99.6462 Q168.033 100.202 170.51 100.202 Q174.514 100.202 176.852 98.0953 Q179.19 95.9888 179.19 92.3777 Q179.19 88.7667 176.852 86.6602 Q174.514 84.5537 170.51 84.5537 Q168.635 84.5537 166.76 84.9704 Q164.908 85.387 162.964 86.2667 L162.964 68.9056 Z\" fill=\"#000000\" fill-rule=\"nonzero\" fill-opacity=\"1\" /><path clip-path=\"url(#clip120)\" d=\"M41.7242 1023.55 Q42.4244 1021.48 44.7161 1019.54 Q47.0077 1017.56 51.0181 1015.59 L64.0042 1009.06 L64.0042 1015.97 L51.8138 1022.05 Q47.0395 1024.41 45.48 1026.63 Q43.9204 1028.83 43.9204 1032.65 L43.9204 1039.65 L64.0042 1039.65 L64.0042 1046.08 L16.4842 1046.08 L16.4842 1031.57 Q16.4842 1023.42 19.8898 1019.41 Q23.2955 1015.4 30.1704 1015.4 Q34.6582 1015.4 37.6183 1017.5 Q40.5784 1019.57 41.7242 1023.55 M21.7677 1039.65 L38.6368 1039.65 L38.6368 1031.57 Q38.6368 1026.92 36.5043 1024.57 Q34.34 1022.18 30.1704 1022.18 Q26.0009 1022.18 23.9002 1024.57 Q21.7677 1026.92 21.7677 1031.57 L21.7677 1039.65 Z\" fill=\"#000000\" fill-rule=\"nonzero\" fill-opacity=\"1\" /><path clip-path=\"url(#clip120)\" d=\"M44.7161 973.48 L47.5806 973.48 L47.5806 1000.41 Q53.6281 1000.03 56.8109 996.779 Q59.9619 993.501 59.9619 987.676 Q59.9619 984.302 59.1344 981.151 Q58.3069 977.968 56.6518 974.849 L62.1899 974.849 Q63.5267 978 64.227 981.31 Q64.9272 984.62 64.9272 988.026 Q64.9272 996.556 59.9619 1001.55 Q54.9967 1006.52 46.5303 1006.52 Q37.7774 1006.52 32.6531 1001.81 Q27.4968 997.065 27.4968 989.045 Q27.4968 981.851 32.1438 977.682 Q36.7589 973.48 44.7161 973.48 M42.9973 979.337 Q38.1912 979.4 35.3266 982.042 Q32.4621 984.652 32.4621 988.981 Q32.4621 993.882 35.2312 996.843 Q38.0002 999.771 43.0292 1000.22 L42.9973 979.337 Z\" fill=\"#000000\" fill-rule=\"nonzero\" fill-opacity=\"1\" /><path clip-path=\"url(#clip120)\" d=\"M28.3562 967.274 L28.3562 961.417 L56.1743 954.097 L28.3562 946.808 L28.3562 939.901 L56.1743 932.581 L28.3562 925.292 L28.3562 919.436 L64.0042 928.761 L64.0042 935.668 L34.7856 943.339 L64.0042 951.041 L64.0042 957.948 L28.3562 967.274 Z\" fill=\"#000000\" fill-rule=\"nonzero\" fill-opacity=\"1\" /><path clip-path=\"url(#clip120)\" d=\"M46.0847 894.355 Q46.0847 901.452 47.7079 904.19 Q49.3312 906.927 53.2461 906.927 Q56.3653 906.927 58.2114 904.89 Q60.0256 902.821 60.0256 899.288 Q60.0256 894.418 56.5881 891.49 Q53.1188 888.53 47.3897 888.53 L46.0847 888.53 L46.0847 894.355 M43.6657 882.674 L64.0042 882.674 L64.0042 888.53 L58.5933 888.53 Q61.8398 890.535 63.3994 893.527 Q64.9272 896.519 64.9272 900.848 Q64.9272 906.322 61.8716 909.569 Q58.7843 912.783 53.6281 912.783 Q47.6125 912.783 44.5569 908.773 Q41.5014 904.731 41.5014 896.742 L41.5014 888.53 L40.9285 888.53 Q36.8862 888.53 34.6901 891.204 Q32.4621 893.845 32.4621 898.651 Q32.4621 901.707 33.1941 904.603 Q33.9262 907.5 35.3903 910.173 L29.9795 910.173 Q28.7381 906.959 28.1334 903.935 Q27.4968 900.911 27.4968 898.047 Q27.4968 890.312 31.5072 886.493 Q35.5176 882.674 43.6657 882.674 Z\" fill=\"#000000\" fill-rule=\"nonzero\" fill-opacity=\"1\" /><path clip-path=\"url(#clip120)\" d=\"M33.8307 849.954 Q33.2578 850.941 33.0032 852.118 Q32.7167 853.264 32.7167 854.664 Q32.7167 859.63 35.9632 862.303 Q39.1779 864.945 45.2253 864.945 L64.0042 864.945 L64.0042 870.833 L28.3562 870.833 L28.3562 864.945 L33.8944 864.945 Q30.6479 863.099 29.0883 860.139 Q27.4968 857.179 27.4968 852.946 Q27.4968 852.341 27.5923 851.609 Q27.656 850.877 27.8151 849.986 L33.8307 849.954 Z\" fill=\"#000000\" fill-rule=\"nonzero\" fill-opacity=\"1\" /><path clip-path=\"url(#clip120)\" d=\"M33.7671 821.499 L14.479 821.499 L14.479 815.643 L64.0042 815.643 L64.0042 821.499 L58.657 821.499 Q61.8398 823.345 63.3994 826.178 Q64.9272 828.979 64.9272 832.926 Q64.9272 839.387 59.771 843.461 Q54.6147 847.503 46.212 847.503 Q37.8093 847.503 32.6531 843.461 Q27.4968 839.387 27.4968 832.926 Q27.4968 828.979 29.0564 826.178 Q30.5842 823.345 33.7671 821.499 M46.212 841.456 Q52.6732 841.456 56.3653 838.814 Q60.0256 836.14 60.0256 831.493 Q60.0256 826.846 56.3653 824.173 Q52.6732 821.499 46.212 821.499 Q39.7508 821.499 36.0905 824.173 Q32.3984 826.846 32.3984 831.493 Q32.3984 836.14 36.0905 838.814 Q39.7508 841.456 46.212 841.456 Z\" fill=\"#000000\" fill-rule=\"nonzero\" fill-opacity=\"1\" /><path clip-path=\"url(#clip120)\" d=\"M14.5426 768.791 Q21.8632 773.056 29.0246 775.125 Q36.186 777.194 43.5384 777.194 Q50.8908 777.194 58.1159 775.125 Q65.3091 773.024 72.5979 768.791 L72.5979 773.884 Q65.1182 778.658 57.8931 781.045 Q50.668 783.4 43.5384 783.4 Q36.4406 783.4 29.2474 781.045 Q22.0542 778.69 14.5426 773.884 L14.5426 768.791 Z\" fill=\"#000000\" fill-rule=\"nonzero\" fill-opacity=\"1\" /><path clip-path=\"url(#clip120)\" d=\"M14.479 757.428 L14.479 751.572 L64.0042 751.572 L64.0042 757.428 L14.479 757.428 Z\" fill=\"#000000\" fill-rule=\"nonzero\" fill-opacity=\"1\" /><path clip-path=\"url(#clip120)\" d=\"M32.4621 725.504 Q32.4621 730.215 36.1542 732.952 Q39.8145 735.689 46.212 735.689 Q52.6095 735.689 56.3017 732.984 Q59.9619 730.247 59.9619 725.504 Q59.9619 720.825 56.2698 718.088 Q52.5777 715.351 46.212 715.351 Q39.8781 715.351 36.186 718.088 Q32.4621 720.825 32.4621 725.504 M27.4968 725.504 Q27.4968 717.865 32.4621 713.505 Q37.4273 709.144 46.212 709.144 Q54.9649 709.144 59.9619 713.505 Q64.9272 717.865 64.9272 725.504 Q64.9272 733.175 59.9619 737.535 Q54.9649 741.864 46.212 741.864 Q37.4273 741.864 32.4621 737.535 Q27.4968 733.175 27.4968 725.504 Z\" fill=\"#000000\" fill-rule=\"nonzero\" fill-opacity=\"1\" /><path clip-path=\"url(#clip120)\" d=\"M45.7664 675.979 Q39.4007 675.979 35.8996 678.621 Q32.3984 681.231 32.3984 685.973 Q32.3984 690.684 35.8996 693.326 Q39.4007 695.936 45.7664 695.936 Q52.1003 695.936 55.6014 693.326 Q59.1026 690.684 59.1026 685.973 Q59.1026 681.231 55.6014 678.621 Q52.1003 675.979 45.7664 675.979 M59.58 670.123 Q68.683 670.123 73.1071 674.165 Q77.5631 678.207 77.5631 686.546 Q77.5631 689.634 77.0857 692.371 Q76.6401 695.108 75.6852 697.686 L69.9879 697.686 Q71.3884 695.108 72.0568 692.594 Q72.7252 690.079 72.7252 687.469 Q72.7252 681.708 69.7015 678.844 Q66.7096 675.979 60.6303 675.979 L57.7339 675.979 Q60.885 677.793 62.4446 680.626 Q64.0042 683.459 64.0042 687.406 Q64.0042 693.962 59.0071 697.973 Q54.01 701.983 45.7664 701.983 Q37.491 701.983 32.4939 697.973 Q27.4968 693.962 27.4968 687.406 Q27.4968 683.459 29.0564 680.626 Q30.616 677.793 33.7671 675.979 L28.3562 675.979 L28.3562 670.123 L59.58 670.123 Z\" fill=\"#000000\" fill-rule=\"nonzero\" fill-opacity=\"1\" /><path clip-path=\"url(#clip120)\" d=\"M33.8307 616.683 Q33.2578 617.669 33.0032 618.847 Q32.7167 619.993 32.7167 621.393 Q32.7167 626.358 35.9632 629.032 Q39.1779 631.674 45.2253 631.674 L64.0042 631.674 L64.0042 637.562 L28.3562 637.562 L28.3562 631.674 L33.8944 631.674 Q30.6479 629.828 29.0883 626.868 Q27.4968 623.908 27.4968 619.674 Q27.4968 619.07 27.5923 618.338 Q27.656 617.606 27.8151 616.714 L33.8307 616.683 Z\" fill=\"#000000\" fill-rule=\"nonzero\" fill-opacity=\"1\" /><path clip-path=\"url(#clip120)\" d=\"M44.7161 581.48 L47.5806 581.48 L47.5806 608.407 Q53.6281 608.025 56.8109 604.779 Q59.9619 601.5 59.9619 595.676 Q59.9619 592.302 59.1344 589.151 Q58.3069 585.968 56.6518 582.849 L62.1899 582.849 Q63.5267 586 64.227 589.31 Q64.9272 592.62 64.9272 596.026 Q64.9272 604.556 59.9619 609.553 Q54.9967 614.518 46.5303 614.518 Q37.7774 614.518 32.6531 609.808 Q27.4968 605.065 27.4968 597.044 Q27.4968 589.851 32.1438 585.682 Q36.7589 581.48 44.7161 581.48 M42.9973 587.337 Q38.1912 587.4 35.3266 590.042 Q32.4621 592.652 32.4621 596.981 Q32.4621 601.882 35.2312 604.842 Q38.0002 607.771 43.0292 608.216 L42.9973 587.337 Z\" fill=\"#000000\" fill-rule=\"nonzero\" fill-opacity=\"1\" /><path clip-path=\"url(#clip120)\" d=\"M18.2347 566.075 L28.3562 566.075 L28.3562 554.012 L32.9077 554.012 L32.9077 566.075 L52.2594 566.075 Q56.6199 566.075 57.8613 564.897 Q59.1026 563.688 59.1026 560.028 L59.1026 554.012 L64.0042 554.012 L64.0042 560.028 Q64.0042 566.807 61.4897 569.385 Q58.9434 571.963 52.2594 571.963 L32.9077 571.963 L32.9077 576.26 L28.3562 576.26 L28.3562 571.963 L18.2347 571.963 L18.2347 566.075 Z\" fill=\"#000000\" fill-rule=\"nonzero\" fill-opacity=\"1\" /><path clip-path=\"url(#clip120)\" d=\"M49.9359 546.914 L28.3562 546.914 L28.3562 541.058 L49.7131 541.058 Q54.7739 541.058 57.3202 539.085 Q59.8346 537.111 59.8346 533.164 Q59.8346 528.422 56.8109 525.685 Q53.7872 522.916 48.5673 522.916 L28.3562 522.916 L28.3562 517.059 L64.0042 517.059 L64.0042 522.916 L58.5296 522.916 Q61.7762 525.048 63.3676 527.881 Q64.9272 530.682 64.9272 534.406 Q64.9272 540.549 61.1078 543.732 Q57.2883 546.914 49.9359 546.914 M27.4968 532.178 L27.4968 532.178 Z\" fill=\"#000000\" fill-rule=\"nonzero\" fill-opacity=\"1\" /><path clip-path=\"url(#clip120)\" d=\"M33.8307 484.339 Q33.2578 485.326 33.0032 486.504 Q32.7167 487.65 32.7167 489.05 Q32.7167 494.015 35.9632 496.689 Q39.1779 499.331 45.2253 499.331 L64.0042 499.331 L64.0042 505.219 L28.3562 505.219 L28.3562 499.331 L33.8944 499.331 Q30.6479 497.485 29.0883 494.525 Q27.4968 491.565 27.4968 487.331 Q27.4968 486.727 27.5923 485.995 Q27.656 485.262 27.8151 484.371 L33.8307 484.339 Z\" fill=\"#000000\" fill-rule=\"nonzero\" fill-opacity=\"1\" /><path clip-path=\"url(#clip120)\" d=\"M42.4881 449.71 L64.0042 449.71 L64.0042 455.566 L42.679 455.566 Q37.6183 455.566 35.1038 457.54 Q32.5894 459.513 32.5894 463.46 Q32.5894 468.202 35.6131 470.94 Q38.6368 473.677 43.8567 473.677 L64.0042 473.677 L64.0042 479.565 L28.3562 479.565 L28.3562 473.677 L33.8944 473.677 Q30.6797 471.576 29.0883 468.743 Q27.4968 465.879 27.4968 462.155 Q27.4968 456.012 31.3163 452.861 Q35.1038 449.71 42.4881 449.71 Z\" fill=\"#000000\" fill-rule=\"nonzero\" fill-opacity=\"1\" /><path clip-path=\"url(#clip120)\" d=\"M14.5426 438.952 L14.5426 433.859 Q22.0542 429.085 29.2474 426.73 Q36.4406 424.343 43.5384 424.343 Q50.668 424.343 57.8931 426.73 Q65.1182 429.085 72.5979 433.859 L72.5979 438.952 Q65.3091 434.719 58.1159 432.65 Q50.8908 430.549 43.5384 430.549 Q36.186 430.549 29.0246 432.65 Q21.8632 434.719 14.5426 438.952 Z\" fill=\"#000000\" fill-rule=\"nonzero\" fill-opacity=\"1\" /><polyline clip-path=\"url(#clip122)\" style=\"stroke:#808080; stroke-linecap:round; stroke-linejoin:round; stroke-width:16; stroke-opacity:1; fill:none\" points=\"220.437,1384.23 220.544,1384.24 220.544,1384.24 220.544,1384.24 226.734,1380.54 295.401,1343.56 364.07,1306.58 432.738,1269.6 501.405,1232.62 570.073,1195.64 638.74,1158.65 707.409,1121.67 776.077,1084.69 844.744,1047.71 913.412,1010.73 982.08,973.746 1050.75,936.764 1119.42,899.782 1188.08,862.801 1256.75,825.819 1325.42,788.837 1394.09,751.856 1462.76,714.874 1531.42,677.892 1600.09,640.911 1668.76,603.929 1737.43,566.947 1806.1,529.966 1874.76,492.984 1943.43,456.002 2012.1,419.021 2080.77,382.039 2149.43,345.057 2218.1,308.076 2286.77,271.094 2355.44,234.112 2424.11,197.131 2492.77,160.149 2561.44,123.167 2630.11,86.1857 \"/>\n",
       "<circle clip-path=\"url(#clip122)\" cx=\"844.744\" cy=\"1047.71\" r=\"10.8\" fill=\"#ffffff\" fill-rule=\"evenodd\" fill-opacity=\"1\" stroke=\"#000000\" stroke-opacity=\"1\" stroke-width=\"3.2\"/>\n",
       "<circle clip-path=\"url(#clip122)\" cx=\"1600.09\" cy=\"640.911\" r=\"10.8\" fill=\"#ffffff\" fill-rule=\"evenodd\" fill-opacity=\"1\" stroke=\"#000000\" stroke-opacity=\"1\" stroke-width=\"3.2\"/>\n",
       "<circle clip-path=\"url(#clip122)\" cx=\"1668.76\" cy=\"603.929\" r=\"10.8\" fill=\"#ffffff\" fill-rule=\"evenodd\" fill-opacity=\"1\" stroke=\"#000000\" stroke-opacity=\"1\" stroke-width=\"3.2\"/>\n",
       "<circle clip-path=\"url(#clip122)\" cx=\"2286.77\" cy=\"271.094\" r=\"10.8\" fill=\"#ffffff\" fill-rule=\"evenodd\" fill-opacity=\"1\" stroke=\"#000000\" stroke-opacity=\"1\" stroke-width=\"3.2\"/>\n",
       "<circle clip-path=\"url(#clip122)\" cx=\"638.74\" cy=\"1158.65\" r=\"10.8\" fill=\"#ffffff\" fill-rule=\"evenodd\" fill-opacity=\"1\" stroke=\"#000000\" stroke-opacity=\"1\" stroke-width=\"3.2\"/>\n",
       "<circle clip-path=\"url(#clip122)\" cx=\"913.412\" cy=\"1010.73\" r=\"10.8\" fill=\"#ffffff\" fill-rule=\"evenodd\" fill-opacity=\"1\" stroke=\"#000000\" stroke-opacity=\"1\" stroke-width=\"3.2\"/>\n",
       "<circle clip-path=\"url(#clip122)\" cx=\"1256.75\" cy=\"825.819\" r=\"10.8\" fill=\"#ffffff\" fill-rule=\"evenodd\" fill-opacity=\"1\" stroke=\"#000000\" stroke-opacity=\"1\" stroke-width=\"3.2\"/>\n",
       "<circle clip-path=\"url(#clip122)\" cx=\"1119.42\" cy=\"899.782\" r=\"10.8\" fill=\"#ffffff\" fill-rule=\"evenodd\" fill-opacity=\"1\" stroke=\"#000000\" stroke-opacity=\"1\" stroke-width=\"3.2\"/>\n",
       "<circle clip-path=\"url(#clip122)\" cx=\"2149.43\" cy=\"345.057\" r=\"10.8\" fill=\"#ffffff\" fill-rule=\"evenodd\" fill-opacity=\"1\" stroke=\"#000000\" stroke-opacity=\"1\" stroke-width=\"3.2\"/>\n",
       "<circle clip-path=\"url(#clip122)\" cx=\"1050.75\" cy=\"936.764\" r=\"10.8\" fill=\"#ffffff\" fill-rule=\"evenodd\" fill-opacity=\"1\" stroke=\"#000000\" stroke-opacity=\"1\" stroke-width=\"3.2\"/>\n",
       "<circle clip-path=\"url(#clip122)\" cx=\"1531.42\" cy=\"677.892\" r=\"10.8\" fill=\"#ffffff\" fill-rule=\"evenodd\" fill-opacity=\"1\" stroke=\"#000000\" stroke-opacity=\"1\" stroke-width=\"3.2\"/>\n",
       "<circle clip-path=\"url(#clip122)\" cx=\"220.544\" cy=\"1384.24\" r=\"10.8\" fill=\"#ffffff\" fill-rule=\"evenodd\" fill-opacity=\"1\" stroke=\"#000000\" stroke-opacity=\"1\" stroke-width=\"3.2\"/>\n",
       "<circle clip-path=\"url(#clip122)\" cx=\"295.401\" cy=\"1343.56\" r=\"10.8\" fill=\"#ffffff\" fill-rule=\"evenodd\" fill-opacity=\"1\" stroke=\"#000000\" stroke-opacity=\"1\" stroke-width=\"3.2\"/>\n",
       "<circle clip-path=\"url(#clip122)\" cx=\"1806.1\" cy=\"529.966\" r=\"10.8\" fill=\"#ffffff\" fill-rule=\"evenodd\" fill-opacity=\"1\" stroke=\"#000000\" stroke-opacity=\"1\" stroke-width=\"3.2\"/>\n",
       "<circle clip-path=\"url(#clip122)\" cx=\"364.07\" cy=\"1306.58\" r=\"10.8\" fill=\"#ffffff\" fill-rule=\"evenodd\" fill-opacity=\"1\" stroke=\"#000000\" stroke-opacity=\"1\" stroke-width=\"3.2\"/>\n",
       "<circle clip-path=\"url(#clip122)\" cx=\"982.08\" cy=\"973.746\" r=\"10.8\" fill=\"#ffffff\" fill-rule=\"evenodd\" fill-opacity=\"1\" stroke=\"#000000\" stroke-opacity=\"1\" stroke-width=\"3.2\"/>\n",
       "<circle clip-path=\"url(#clip122)\" cx=\"1325.42\" cy=\"788.837\" r=\"10.8\" fill=\"#ffffff\" fill-rule=\"evenodd\" fill-opacity=\"1\" stroke=\"#000000\" stroke-opacity=\"1\" stroke-width=\"3.2\"/>\n",
       "<circle clip-path=\"url(#clip122)\" cx=\"1462.76\" cy=\"714.874\" r=\"10.8\" fill=\"#ffffff\" fill-rule=\"evenodd\" fill-opacity=\"1\" stroke=\"#000000\" stroke-opacity=\"1\" stroke-width=\"3.2\"/>\n",
       "<circle clip-path=\"url(#clip122)\" cx=\"2080.77\" cy=\"382.039\" r=\"10.8\" fill=\"#ffffff\" fill-rule=\"evenodd\" fill-opacity=\"1\" stroke=\"#000000\" stroke-opacity=\"1\" stroke-width=\"3.2\"/>\n",
       "<circle clip-path=\"url(#clip122)\" cx=\"220.437\" cy=\"1384.23\" r=\"10.8\" fill=\"#ffffff\" fill-rule=\"evenodd\" fill-opacity=\"1\" stroke=\"#000000\" stroke-opacity=\"1\" stroke-width=\"3.2\"/>\n",
       "<circle clip-path=\"url(#clip122)\" cx=\"501.405\" cy=\"1232.62\" r=\"10.8\" fill=\"#ffffff\" fill-rule=\"evenodd\" fill-opacity=\"1\" stroke=\"#000000\" stroke-opacity=\"1\" stroke-width=\"3.2\"/>\n",
       "<circle clip-path=\"url(#clip122)\" cx=\"1943.43\" cy=\"456.002\" r=\"10.8\" fill=\"#ffffff\" fill-rule=\"evenodd\" fill-opacity=\"1\" stroke=\"#000000\" stroke-opacity=\"1\" stroke-width=\"3.2\"/>\n",
       "<circle clip-path=\"url(#clip122)\" cx=\"432.738\" cy=\"1269.6\" r=\"10.8\" fill=\"#ffffff\" fill-rule=\"evenodd\" fill-opacity=\"1\" stroke=\"#000000\" stroke-opacity=\"1\" stroke-width=\"3.2\"/>\n",
       "<circle clip-path=\"url(#clip122)\" cx=\"570.073\" cy=\"1195.64\" r=\"10.8\" fill=\"#ffffff\" fill-rule=\"evenodd\" fill-opacity=\"1\" stroke=\"#000000\" stroke-opacity=\"1\" stroke-width=\"3.2\"/>\n",
       "<circle clip-path=\"url(#clip122)\" cx=\"1188.08\" cy=\"862.801\" r=\"10.8\" fill=\"#ffffff\" fill-rule=\"evenodd\" fill-opacity=\"1\" stroke=\"#000000\" stroke-opacity=\"1\" stroke-width=\"3.2\"/>\n",
       "<circle clip-path=\"url(#clip122)\" cx=\"707.409\" cy=\"1121.67\" r=\"10.8\" fill=\"#ffffff\" fill-rule=\"evenodd\" fill-opacity=\"1\" stroke=\"#000000\" stroke-opacity=\"1\" stroke-width=\"3.2\"/>\n",
       "<circle clip-path=\"url(#clip122)\" cx=\"1874.76\" cy=\"492.984\" r=\"10.8\" fill=\"#ffffff\" fill-rule=\"evenodd\" fill-opacity=\"1\" stroke=\"#000000\" stroke-opacity=\"1\" stroke-width=\"3.2\"/>\n",
       "<circle clip-path=\"url(#clip122)\" cx=\"776.077\" cy=\"1084.69\" r=\"10.8\" fill=\"#ffffff\" fill-rule=\"evenodd\" fill-opacity=\"1\" stroke=\"#000000\" stroke-opacity=\"1\" stroke-width=\"3.2\"/>\n",
       "<circle clip-path=\"url(#clip122)\" cx=\"220.544\" cy=\"1384.24\" r=\"10.8\" fill=\"#ffffff\" fill-rule=\"evenodd\" fill-opacity=\"1\" stroke=\"#000000\" stroke-opacity=\"1\" stroke-width=\"3.2\"/>\n",
       "<circle clip-path=\"url(#clip122)\" cx=\"2012.1\" cy=\"419.021\" r=\"10.8\" fill=\"#ffffff\" fill-rule=\"evenodd\" fill-opacity=\"1\" stroke=\"#000000\" stroke-opacity=\"1\" stroke-width=\"3.2\"/>\n",
       "<circle clip-path=\"url(#clip122)\" cx=\"2218.1\" cy=\"308.076\" r=\"10.8\" fill=\"#ffffff\" fill-rule=\"evenodd\" fill-opacity=\"1\" stroke=\"#000000\" stroke-opacity=\"1\" stroke-width=\"3.2\"/>\n",
       "<circle clip-path=\"url(#clip122)\" cx=\"226.734\" cy=\"1380.54\" r=\"10.8\" fill=\"#ffffff\" fill-rule=\"evenodd\" fill-opacity=\"1\" stroke=\"#000000\" stroke-opacity=\"1\" stroke-width=\"3.2\"/>\n",
       "<circle clip-path=\"url(#clip122)\" cx=\"1394.09\" cy=\"751.856\" r=\"10.8\" fill=\"#ffffff\" fill-rule=\"evenodd\" fill-opacity=\"1\" stroke=\"#000000\" stroke-opacity=\"1\" stroke-width=\"3.2\"/>\n",
       "<circle clip-path=\"url(#clip122)\" cx=\"220.544\" cy=\"1384.24\" r=\"10.8\" fill=\"#ffffff\" fill-rule=\"evenodd\" fill-opacity=\"1\" stroke=\"#000000\" stroke-opacity=\"1\" stroke-width=\"3.2\"/>\n",
       "<circle clip-path=\"url(#clip122)\" cx=\"1737.43\" cy=\"566.947\" r=\"10.8\" fill=\"#ffffff\" fill-rule=\"evenodd\" fill-opacity=\"1\" stroke=\"#000000\" stroke-opacity=\"1\" stroke-width=\"3.2\"/>\n",
       "<polyline clip-path=\"url(#clip122)\" style=\"stroke:#ff0000; stroke-linecap:round; stroke-linejoin:round; stroke-width:16; stroke-opacity:1; fill:none\" points=\"1107.64,1239.34 1107.64,1239.34 1107.64,1239.34 1107.64,1239.34 1107.64,1239.34 1107.64,1239.34 1107.64,1239.34 1107.64,1239.34 1107.67,1232.61 1108.77,1195.64 1111.5,1158.65 1115.82,1121.67 1121.73,1084.69 1129.01,1047.71 1138.1,1010.73 1149.25,973.746 1162.49,936.764 1182.63,899.782 1217.51,862.801 1265.88,825.819 1325.98,788.837 1396.01,751.856 1474.32,714.874 1559.44,677.892 1650.16,640.911 1745.48,603.929 1844.6,566.947 1946.86,529.966 2051.74,492.984 2158.86,456.002 \"/>\n",
       "<circle clip-path=\"url(#clip122)\" cx=\"1844.6\" cy=\"566.947\" r=\"10.8\" fill=\"#ffffff\" fill-rule=\"evenodd\" fill-opacity=\"1\" stroke=\"#000000\" stroke-opacity=\"1\" stroke-width=\"3.2\"/>\n",
       "<circle clip-path=\"url(#clip122)\" cx=\"1107.64\" cy=\"1239.34\" r=\"10.8\" fill=\"#ffffff\" fill-rule=\"evenodd\" fill-opacity=\"1\" stroke=\"#000000\" stroke-opacity=\"1\" stroke-width=\"3.2\"/>\n",
       "<circle clip-path=\"url(#clip122)\" cx=\"1650.16\" cy=\"640.911\" r=\"10.8\" fill=\"#ffffff\" fill-rule=\"evenodd\" fill-opacity=\"1\" stroke=\"#000000\" stroke-opacity=\"1\" stroke-width=\"3.2\"/>\n",
       "<circle clip-path=\"url(#clip122)\" cx=\"1107.64\" cy=\"1239.34\" r=\"10.8\" fill=\"#ffffff\" fill-rule=\"evenodd\" fill-opacity=\"1\" stroke=\"#000000\" stroke-opacity=\"1\" stroke-width=\"3.2\"/>\n",
       "<circle clip-path=\"url(#clip122)\" cx=\"1111.5\" cy=\"1158.65\" r=\"10.8\" fill=\"#ffffff\" fill-rule=\"evenodd\" fill-opacity=\"1\" stroke=\"#000000\" stroke-opacity=\"1\" stroke-width=\"3.2\"/>\n",
       "<circle clip-path=\"url(#clip122)\" cx=\"1121.73\" cy=\"1084.69\" r=\"10.8\" fill=\"#ffffff\" fill-rule=\"evenodd\" fill-opacity=\"1\" stroke=\"#000000\" stroke-opacity=\"1\" stroke-width=\"3.2\"/>\n",
       "<circle clip-path=\"url(#clip122)\" cx=\"1182.63\" cy=\"899.782\" r=\"10.8\" fill=\"#ffffff\" fill-rule=\"evenodd\" fill-opacity=\"1\" stroke=\"#000000\" stroke-opacity=\"1\" stroke-width=\"3.2\"/>\n",
       "<circle clip-path=\"url(#clip122)\" cx=\"1559.44\" cy=\"677.892\" r=\"10.8\" fill=\"#ffffff\" fill-rule=\"evenodd\" fill-opacity=\"1\" stroke=\"#000000\" stroke-opacity=\"1\" stroke-width=\"3.2\"/>\n",
       "<circle clip-path=\"url(#clip122)\" cx=\"1474.32\" cy=\"714.874\" r=\"10.8\" fill=\"#ffffff\" fill-rule=\"evenodd\" fill-opacity=\"1\" stroke=\"#000000\" stroke-opacity=\"1\" stroke-width=\"3.2\"/>\n",
       "<circle clip-path=\"url(#clip122)\" cx=\"1325.98\" cy=\"788.837\" r=\"10.8\" fill=\"#ffffff\" fill-rule=\"evenodd\" fill-opacity=\"1\" stroke=\"#000000\" stroke-opacity=\"1\" stroke-width=\"3.2\"/>\n",
       "<circle clip-path=\"url(#clip122)\" cx=\"1745.48\" cy=\"603.929\" r=\"10.8\" fill=\"#ffffff\" fill-rule=\"evenodd\" fill-opacity=\"1\" stroke=\"#000000\" stroke-opacity=\"1\" stroke-width=\"3.2\"/>\n",
       "<circle clip-path=\"url(#clip122)\" cx=\"2158.86\" cy=\"456.002\" r=\"10.8\" fill=\"#ffffff\" fill-rule=\"evenodd\" fill-opacity=\"1\" stroke=\"#000000\" stroke-opacity=\"1\" stroke-width=\"3.2\"/>\n",
       "<circle clip-path=\"url(#clip122)\" cx=\"1149.25\" cy=\"973.746\" r=\"10.8\" fill=\"#ffffff\" fill-rule=\"evenodd\" fill-opacity=\"1\" stroke=\"#000000\" stroke-opacity=\"1\" stroke-width=\"3.2\"/>\n",
       "<circle clip-path=\"url(#clip122)\" cx=\"1107.64\" cy=\"1239.34\" r=\"10.8\" fill=\"#ffffff\" fill-rule=\"evenodd\" fill-opacity=\"1\" stroke=\"#000000\" stroke-opacity=\"1\" stroke-width=\"3.2\"/>\n",
       "<circle clip-path=\"url(#clip122)\" cx=\"1129.01\" cy=\"1047.71\" r=\"10.8\" fill=\"#ffffff\" fill-rule=\"evenodd\" fill-opacity=\"1\" stroke=\"#000000\" stroke-opacity=\"1\" stroke-width=\"3.2\"/>\n",
       "<circle clip-path=\"url(#clip122)\" cx=\"1162.49\" cy=\"936.764\" r=\"10.8\" fill=\"#ffffff\" fill-rule=\"evenodd\" fill-opacity=\"1\" stroke=\"#000000\" stroke-opacity=\"1\" stroke-width=\"3.2\"/>\n",
       "<circle clip-path=\"url(#clip122)\" cx=\"1115.82\" cy=\"1121.67\" r=\"10.8\" fill=\"#ffffff\" fill-rule=\"evenodd\" fill-opacity=\"1\" stroke=\"#000000\" stroke-opacity=\"1\" stroke-width=\"3.2\"/>\n",
       "<circle clip-path=\"url(#clip122)\" cx=\"1265.88\" cy=\"825.819\" r=\"10.8\" fill=\"#ffffff\" fill-rule=\"evenodd\" fill-opacity=\"1\" stroke=\"#000000\" stroke-opacity=\"1\" stroke-width=\"3.2\"/>\n",
       "<circle clip-path=\"url(#clip122)\" cx=\"1108.77\" cy=\"1195.64\" r=\"10.8\" fill=\"#ffffff\" fill-rule=\"evenodd\" fill-opacity=\"1\" stroke=\"#000000\" stroke-opacity=\"1\" stroke-width=\"3.2\"/>\n",
       "<circle clip-path=\"url(#clip122)\" cx=\"1946.86\" cy=\"529.966\" r=\"10.8\" fill=\"#ffffff\" fill-rule=\"evenodd\" fill-opacity=\"1\" stroke=\"#000000\" stroke-opacity=\"1\" stroke-width=\"3.2\"/>\n",
       "<circle clip-path=\"url(#clip122)\" cx=\"1107.64\" cy=\"1239.34\" r=\"10.8\" fill=\"#ffffff\" fill-rule=\"evenodd\" fill-opacity=\"1\" stroke=\"#000000\" stroke-opacity=\"1\" stroke-width=\"3.2\"/>\n",
       "<circle clip-path=\"url(#clip122)\" cx=\"1138.1\" cy=\"1010.73\" r=\"10.8\" fill=\"#ffffff\" fill-rule=\"evenodd\" fill-opacity=\"1\" stroke=\"#000000\" stroke-opacity=\"1\" stroke-width=\"3.2\"/>\n",
       "<circle clip-path=\"url(#clip122)\" cx=\"1107.64\" cy=\"1239.34\" r=\"10.8\" fill=\"#ffffff\" fill-rule=\"evenodd\" fill-opacity=\"1\" stroke=\"#000000\" stroke-opacity=\"1\" stroke-width=\"3.2\"/>\n",
       "<circle clip-path=\"url(#clip122)\" cx=\"1107.64\" cy=\"1239.34\" r=\"10.8\" fill=\"#ffffff\" fill-rule=\"evenodd\" fill-opacity=\"1\" stroke=\"#000000\" stroke-opacity=\"1\" stroke-width=\"3.2\"/>\n",
       "<circle clip-path=\"url(#clip122)\" cx=\"1107.64\" cy=\"1239.34\" r=\"10.8\" fill=\"#ffffff\" fill-rule=\"evenodd\" fill-opacity=\"1\" stroke=\"#000000\" stroke-opacity=\"1\" stroke-width=\"3.2\"/>\n",
       "<circle clip-path=\"url(#clip122)\" cx=\"1107.67\" cy=\"1232.61\" r=\"10.8\" fill=\"#ffffff\" fill-rule=\"evenodd\" fill-opacity=\"1\" stroke=\"#000000\" stroke-opacity=\"1\" stroke-width=\"3.2\"/>\n",
       "<circle clip-path=\"url(#clip122)\" cx=\"1107.64\" cy=\"1239.34\" r=\"10.8\" fill=\"#ffffff\" fill-rule=\"evenodd\" fill-opacity=\"1\" stroke=\"#000000\" stroke-opacity=\"1\" stroke-width=\"3.2\"/>\n",
       "<circle clip-path=\"url(#clip122)\" cx=\"1217.51\" cy=\"862.801\" r=\"10.8\" fill=\"#ffffff\" fill-rule=\"evenodd\" fill-opacity=\"1\" stroke=\"#000000\" stroke-opacity=\"1\" stroke-width=\"3.2\"/>\n",
       "<circle clip-path=\"url(#clip122)\" cx=\"1396.01\" cy=\"751.856\" r=\"10.8\" fill=\"#ffffff\" fill-rule=\"evenodd\" fill-opacity=\"1\" stroke=\"#000000\" stroke-opacity=\"1\" stroke-width=\"3.2\"/>\n",
       "<circle clip-path=\"url(#clip122)\" cx=\"2051.74\" cy=\"492.984\" r=\"10.8\" fill=\"#ffffff\" fill-rule=\"evenodd\" fill-opacity=\"1\" stroke=\"#000000\" stroke-opacity=\"1\" stroke-width=\"3.2\"/>\n",
       "<path clip-path=\"url(#clip120)\" d=\"M290.963 300.469 L1170.38 300.469 L1170.38 93.1086 L290.963 93.1086  Z\" fill=\"#ffffff\" fill-rule=\"evenodd\" fill-opacity=\"1\"/>\n",
       "<polyline clip-path=\"url(#clip120)\" style=\"stroke:#000000; stroke-linecap:round; stroke-linejoin:round; stroke-width:4; stroke-opacity:1; fill:none\" points=\"290.963,300.469 1170.38,300.469 1170.38,93.1086 290.963,93.1086 290.963,300.469 \"/>\n",
       "<polyline clip-path=\"url(#clip120)\" style=\"stroke:#808080; stroke-linecap:round; stroke-linejoin:round; stroke-width:16; stroke-opacity:1; fill:none\" points=\"314.661,144.949 456.854,144.949 \"/>\n",
       "<path clip-path=\"url(#clip120)\" d=\"M508.423 130.331 L508.423 135.261 Q506.062 133.062 503.377 131.974 Q500.715 130.886 497.705 130.886 Q491.78 130.886 488.631 134.52 Q485.483 138.132 485.483 144.983 Q485.483 151.812 488.631 155.446 Q491.78 159.057 497.705 159.057 Q500.715 159.057 503.377 157.969 Q506.062 156.881 508.423 154.682 L508.423 159.567 Q505.969 161.233 503.215 162.067 Q500.483 162.9 497.428 162.9 Q489.581 162.9 485.067 158.108 Q480.553 153.293 480.553 144.983 Q480.553 136.65 485.067 131.858 Q489.581 127.044 497.428 127.044 Q500.53 127.044 503.261 127.877 Q506.016 128.687 508.423 130.331 Z\" fill=\"#000000\" fill-rule=\"nonzero\" fill-opacity=\"1\" /><path clip-path=\"url(#clip120)\" d=\"M527.242 149.196 Q522.08 149.196 520.09 150.377 Q518.099 151.557 518.099 154.405 Q518.099 156.673 519.58 158.016 Q521.085 159.335 523.654 159.335 Q527.196 159.335 529.326 156.835 Q531.478 154.312 531.478 150.145 L531.478 149.196 L527.242 149.196 M535.738 147.437 L535.738 162.229 L531.478 162.229 L531.478 158.293 Q530.02 160.655 527.844 161.789 Q525.668 162.9 522.52 162.9 Q518.539 162.9 516.178 160.678 Q513.84 158.432 513.84 154.682 Q513.84 150.307 516.756 148.085 Q519.696 145.863 525.506 145.863 L531.478 145.863 L531.478 145.446 Q531.478 142.507 529.534 140.909 Q527.613 139.289 524.117 139.289 Q521.895 139.289 519.789 139.821 Q517.682 140.354 515.738 141.419 L515.738 137.483 Q518.076 136.581 520.275 136.141 Q522.474 135.678 524.557 135.678 Q530.182 135.678 532.96 138.594 Q535.738 141.511 535.738 147.437 Z\" fill=\"#000000\" fill-rule=\"nonzero\" fill-opacity=\"1\" /><path clip-path=\"url(#clip120)\" d=\"M548.631 158.34 L548.631 172.09 L544.349 172.09 L544.349 136.303 L548.631 136.303 L548.631 140.238 Q549.974 137.923 552.011 136.812 Q554.071 135.678 556.918 135.678 Q561.64 135.678 564.58 139.428 Q567.543 143.178 567.543 149.289 Q567.543 155.4 564.58 159.15 Q561.64 162.9 556.918 162.9 Q554.071 162.9 552.011 161.789 Q549.974 160.655 548.631 158.34 M563.122 149.289 Q563.122 144.59 561.177 141.928 Q559.256 139.243 555.876 139.243 Q552.497 139.243 550.552 141.928 Q548.631 144.59 548.631 149.289 Q548.631 153.988 550.552 156.673 Q552.497 159.335 555.876 159.335 Q559.256 159.335 561.177 156.673 Q563.122 153.988 563.122 149.289 Z\" fill=\"#000000\" fill-rule=\"nonzero\" fill-opacity=\"1\" /><path clip-path=\"url(#clip120)\" d=\"M574.603 136.303 L578.862 136.303 L578.862 162.229 L574.603 162.229 L574.603 136.303 M574.603 126.21 L578.862 126.21 L578.862 131.604 L574.603 131.604 L574.603 126.21 Z\" fill=\"#000000\" fill-rule=\"nonzero\" fill-opacity=\"1\" /><path clip-path=\"url(#clip120)\" d=\"M591.987 128.942 L591.987 136.303 L600.76 136.303 L600.76 139.613 L591.987 139.613 L591.987 153.687 Q591.987 156.858 592.844 157.761 Q593.723 158.664 596.385 158.664 L600.76 158.664 L600.76 162.229 L596.385 162.229 Q591.455 162.229 589.58 160.4 Q587.705 158.548 587.705 153.687 L587.705 139.613 L584.58 139.613 L584.58 136.303 L587.705 136.303 L587.705 128.942 L591.987 128.942 Z\" fill=\"#000000\" fill-rule=\"nonzero\" fill-opacity=\"1\" /><path clip-path=\"url(#clip120)\" d=\"M618.145 149.196 Q612.983 149.196 610.992 150.377 Q609.001 151.557 609.001 154.405 Q609.001 156.673 610.483 158.016 Q611.987 159.335 614.557 159.335 Q618.098 159.335 620.228 156.835 Q622.381 154.312 622.381 150.145 L622.381 149.196 L618.145 149.196 M626.64 147.437 L626.64 162.229 L622.381 162.229 L622.381 158.293 Q620.922 160.655 618.746 161.789 Q616.571 162.9 613.422 162.9 Q609.441 162.9 607.08 160.678 Q604.742 158.432 604.742 154.682 Q604.742 150.307 607.659 148.085 Q610.598 145.863 616.409 145.863 L622.381 145.863 L622.381 145.446 Q622.381 142.507 620.436 140.909 Q618.515 139.289 615.02 139.289 Q612.797 139.289 610.691 139.821 Q608.584 140.354 606.64 141.419 L606.64 137.483 Q608.978 136.581 611.177 136.141 Q613.376 135.678 615.459 135.678 Q621.084 135.678 623.862 138.594 Q626.64 141.511 626.64 147.437 Z\" fill=\"#000000\" fill-rule=\"nonzero\" fill-opacity=\"1\" /><path clip-path=\"url(#clip120)\" d=\"M635.413 126.21 L639.672 126.21 L639.672 162.229 L635.413 162.229 L635.413 126.21 Z\" fill=\"#000000\" fill-rule=\"nonzero\" fill-opacity=\"1\" /><path clip-path=\"url(#clip120)\" d=\"M675.39 132.275 L669.047 149.474 L681.755 149.474 L675.39 132.275 M672.751 127.669 L678.052 127.669 L691.223 162.229 L686.362 162.229 L683.214 153.363 L667.635 153.363 L664.487 162.229 L659.556 162.229 L672.751 127.669 Z\" fill=\"#000000\" fill-rule=\"nonzero\" fill-opacity=\"1\" /><path clip-path=\"url(#clip120)\" d=\"M696.084 126.21 L700.343 126.21 L700.343 162.229 L696.084 162.229 L696.084 126.21 Z\" fill=\"#000000\" fill-rule=\"nonzero\" fill-opacity=\"1\" /><path clip-path=\"url(#clip120)\" d=\"M709.255 126.21 L713.514 126.21 L713.514 162.229 L709.255 162.229 L709.255 126.21 Z\" fill=\"#000000\" fill-rule=\"nonzero\" fill-opacity=\"1\" /><path clip-path=\"url(#clip120)\" d=\"M732.473 139.289 Q729.047 139.289 727.056 141.974 Q725.065 144.636 725.065 149.289 Q725.065 153.942 727.033 156.627 Q729.024 159.289 732.473 159.289 Q735.875 159.289 737.866 156.604 Q739.857 153.918 739.857 149.289 Q739.857 144.682 737.866 141.997 Q735.875 139.289 732.473 139.289 M732.473 135.678 Q738.028 135.678 741.2 139.289 Q744.371 142.9 744.371 149.289 Q744.371 155.655 741.2 159.289 Q738.028 162.9 732.473 162.9 Q726.894 162.9 723.723 159.289 Q720.575 155.655 720.575 149.289 Q720.575 142.9 723.723 139.289 Q726.894 135.678 732.473 135.678 Z\" fill=\"#000000\" fill-rule=\"nonzero\" fill-opacity=\"1\" /><path clip-path=\"url(#clip120)\" d=\"M770.088 137.298 L770.088 141.28 Q768.283 140.284 766.454 139.798 Q764.648 139.289 762.797 139.289 Q758.653 139.289 756.361 141.928 Q754.07 144.544 754.07 149.289 Q754.07 154.034 756.361 156.673 Q758.653 159.289 762.797 159.289 Q764.648 159.289 766.454 158.803 Q768.283 158.293 770.088 157.298 L770.088 161.233 Q768.306 162.067 766.385 162.483 Q764.486 162.9 762.334 162.9 Q756.477 162.9 753.028 159.219 Q749.579 155.539 749.579 149.289 Q749.579 142.946 753.051 139.312 Q756.547 135.678 762.611 135.678 Q764.579 135.678 766.454 136.095 Q768.329 136.488 770.088 137.298 Z\" fill=\"#000000\" fill-rule=\"nonzero\" fill-opacity=\"1\" /><path clip-path=\"url(#clip120)\" d=\"M789.278 149.196 Q784.116 149.196 782.125 150.377 Q780.135 151.557 780.135 154.405 Q780.135 156.673 781.616 158.016 Q783.121 159.335 785.69 159.335 Q789.232 159.335 791.361 156.835 Q793.514 154.312 793.514 150.145 L793.514 149.196 L789.278 149.196 M797.773 147.437 L797.773 162.229 L793.514 162.229 L793.514 158.293 Q792.056 160.655 789.88 161.789 Q787.704 162.9 784.556 162.9 Q780.574 162.9 778.213 160.678 Q775.875 158.432 775.875 154.682 Q775.875 150.307 778.792 148.085 Q781.732 145.863 787.542 145.863 L793.514 145.863 L793.514 145.446 Q793.514 142.507 791.57 140.909 Q789.648 139.289 786.153 139.289 Q783.931 139.289 781.824 139.821 Q779.718 140.354 777.773 141.419 L777.773 137.483 Q780.111 136.581 782.31 136.141 Q784.509 135.678 786.593 135.678 Q792.218 135.678 794.996 138.594 Q797.773 141.511 797.773 147.437 Z\" fill=\"#000000\" fill-rule=\"nonzero\" fill-opacity=\"1\" /><path clip-path=\"url(#clip120)\" d=\"M810.759 128.942 L810.759 136.303 L819.532 136.303 L819.532 139.613 L810.759 139.613 L810.759 153.687 Q810.759 156.858 811.616 157.761 Q812.495 158.664 815.157 158.664 L819.532 158.664 L819.532 162.229 L815.157 162.229 Q810.227 162.229 808.352 160.4 Q806.477 158.548 806.477 153.687 L806.477 139.613 L803.352 139.613 L803.352 136.303 L806.477 136.303 L806.477 128.942 L810.759 128.942 Z\" fill=\"#000000\" fill-rule=\"nonzero\" fill-opacity=\"1\" /><path clip-path=\"url(#clip120)\" d=\"M825.134 136.303 L829.394 136.303 L829.394 162.229 L825.134 162.229 L825.134 136.303 M825.134 126.21 L829.394 126.21 L829.394 131.604 L825.134 131.604 L825.134 126.21 Z\" fill=\"#000000\" fill-rule=\"nonzero\" fill-opacity=\"1\" /><path clip-path=\"url(#clip120)\" d=\"M848.352 139.289 Q844.926 139.289 842.935 141.974 Q840.944 144.636 840.944 149.289 Q840.944 153.942 842.912 156.627 Q844.903 159.289 848.352 159.289 Q851.754 159.289 853.745 156.604 Q855.736 153.918 855.736 149.289 Q855.736 144.682 853.745 141.997 Q851.754 139.289 848.352 139.289 M848.352 135.678 Q853.907 135.678 857.079 139.289 Q860.25 142.9 860.25 149.289 Q860.25 155.655 857.079 159.289 Q853.907 162.9 848.352 162.9 Q842.773 162.9 839.602 159.289 Q836.454 155.655 836.454 149.289 Q836.454 142.9 839.602 139.289 Q842.773 135.678 848.352 135.678 Z\" fill=\"#000000\" fill-rule=\"nonzero\" fill-opacity=\"1\" /><path clip-path=\"url(#clip120)\" d=\"M888.861 146.581 L888.861 162.229 L884.602 162.229 L884.602 146.719 Q884.602 143.039 883.166 141.21 Q881.731 139.382 878.861 139.382 Q875.412 139.382 873.421 141.581 Q871.43 143.78 871.43 147.576 L871.43 162.229 L867.148 162.229 L867.148 136.303 L871.43 136.303 L871.43 140.331 Q872.958 137.993 875.018 136.835 Q877.102 135.678 879.81 135.678 Q884.277 135.678 886.569 138.456 Q888.861 141.21 888.861 146.581 Z\" fill=\"#000000\" fill-rule=\"nonzero\" fill-opacity=\"1\" /><path clip-path=\"url(#clip120)\" d=\"M912.611 127.669 L917.287 127.669 L917.287 158.293 L934.115 158.293 L934.115 162.229 L912.611 162.229 L912.611 127.669 Z\" fill=\"#000000\" fill-rule=\"nonzero\" fill-opacity=\"1\" /><path clip-path=\"url(#clip120)\" d=\"M938.837 136.303 L943.097 136.303 L943.097 162.229 L938.837 162.229 L938.837 136.303 M938.837 126.21 L943.097 126.21 L943.097 131.604 L938.837 131.604 L938.837 126.21 Z\" fill=\"#000000\" fill-rule=\"nonzero\" fill-opacity=\"1\" /><path clip-path=\"url(#clip120)\" d=\"M973.559 146.581 L973.559 162.229 L969.3 162.229 L969.3 146.719 Q969.3 143.039 967.865 141.21 Q966.43 139.382 963.559 139.382 Q960.11 139.382 958.12 141.581 Q956.129 143.78 956.129 147.576 L956.129 162.229 L951.847 162.229 L951.847 136.303 L956.129 136.303 L956.129 140.331 Q957.657 137.993 959.717 136.835 Q961.8 135.678 964.509 135.678 Q968.976 135.678 971.268 138.456 Q973.559 141.21 973.559 146.581 Z\" fill=\"#000000\" fill-rule=\"nonzero\" fill-opacity=\"1\" /><path clip-path=\"url(#clip120)\" d=\"M1004.23 148.201 L1004.23 150.284 L984.647 150.284 Q984.925 154.682 987.286 156.997 Q989.67 159.289 993.907 159.289 Q996.36 159.289 998.652 158.687 Q1000.97 158.085 1003.24 156.881 L1003.24 160.909 Q1000.94 161.881 998.536 162.391 Q996.129 162.9 993.652 162.9 Q987.448 162.9 983.814 159.289 Q980.203 155.678 980.203 149.52 Q980.203 143.155 983.629 139.428 Q987.078 135.678 992.911 135.678 Q998.143 135.678 1001.17 139.057 Q1004.23 142.414 1004.23 148.201 M999.971 146.951 Q999.925 143.456 998.004 141.372 Q996.106 139.289 992.957 139.289 Q989.393 139.289 987.24 141.303 Q985.11 143.317 984.786 146.974 L999.971 146.951 Z\" fill=\"#000000\" fill-rule=\"nonzero\" fill-opacity=\"1\" /><path clip-path=\"url(#clip120)\" d=\"M1036.52 126.257 Q1033.42 131.581 1031.92 136.789 Q1030.41 141.997 1030.41 147.344 Q1030.41 152.692 1031.92 157.946 Q1033.44 163.178 1036.52 168.479 L1032.82 168.479 Q1029.35 163.039 1027.61 157.784 Q1025.9 152.53 1025.9 147.344 Q1025.9 142.182 1027.61 136.951 Q1029.32 131.72 1032.82 126.257 L1036.52 126.257 Z\" fill=\"#000000\" fill-rule=\"nonzero\" fill-opacity=\"1\" /><path clip-path=\"url(#clip120)\" d=\"M1070.85 130.331 L1070.85 135.261 Q1068.49 133.062 1065.8 131.974 Q1063.14 130.886 1060.13 130.886 Q1054.21 130.886 1051.06 134.52 Q1047.91 138.132 1047.91 144.983 Q1047.91 151.812 1051.06 155.446 Q1054.21 159.057 1060.13 159.057 Q1063.14 159.057 1065.8 157.969 Q1068.49 156.881 1070.85 154.682 L1070.85 159.567 Q1068.4 161.233 1065.64 162.067 Q1062.91 162.9 1059.86 162.9 Q1052.01 162.9 1047.49 158.108 Q1042.98 153.293 1042.98 144.983 Q1042.98 136.65 1047.49 131.858 Q1052.01 127.044 1059.86 127.044 Q1062.96 127.044 1065.69 127.877 Q1068.44 128.687 1070.85 130.331 Z\" fill=\"#000000\" fill-rule=\"nonzero\" fill-opacity=\"1\" /><path clip-path=\"url(#clip120)\" d=\"M1089.62 132.275 L1083.28 149.474 L1095.99 149.474 L1089.62 132.275 M1086.98 127.669 L1092.29 127.669 L1105.46 162.229 L1100.6 162.229 L1097.45 153.363 L1081.87 153.363 L1078.72 162.229 L1073.79 162.229 L1086.98 127.669 Z\" fill=\"#000000\" fill-rule=\"nonzero\" fill-opacity=\"1\" /><path clip-path=\"url(#clip120)\" d=\"M1110.5 127.669 L1115.18 127.669 L1115.18 158.293 L1132.01 158.293 L1132.01 162.229 L1110.5 162.229 L1110.5 127.669 Z\" fill=\"#000000\" fill-rule=\"nonzero\" fill-opacity=\"1\" /><path clip-path=\"url(#clip120)\" d=\"M1136.06 126.257 L1139.76 126.257 Q1143.23 131.72 1144.95 136.951 Q1146.68 142.182 1146.68 147.344 Q1146.68 152.53 1144.95 157.784 Q1143.23 163.039 1139.76 168.479 L1136.06 168.479 Q1139.14 163.178 1140.64 157.946 Q1142.17 152.692 1142.17 147.344 Q1142.17 141.997 1140.64 136.789 Q1139.14 131.581 1136.06 126.257 Z\" fill=\"#000000\" fill-rule=\"nonzero\" fill-opacity=\"1\" /><polyline clip-path=\"url(#clip120)\" style=\"stroke:#ff0000; stroke-linecap:round; stroke-linejoin:round; stroke-width:16; stroke-opacity:1; fill:none\" points=\"314.661,196.789 456.854,196.789 \"/>\n",
       "<path clip-path=\"url(#clip120)\" d=\"M480.553 179.509 L502.405 179.509 L502.405 183.444 L485.229 183.444 L485.229 193.675 L501.687 193.675 L501.687 197.61 L485.229 197.61 L485.229 210.133 L502.821 210.133 L502.821 214.069 L480.553 214.069 L480.553 179.509 Z\" fill=\"#000000\" fill-rule=\"nonzero\" fill-opacity=\"1\" /><path clip-path=\"url(#clip120)\" d=\"M523.446 178.05 L523.446 181.592 L519.372 181.592 Q517.08 181.592 516.178 182.518 Q515.298 183.444 515.298 185.851 L515.298 188.143 L522.312 188.143 L522.312 191.453 L515.298 191.453 L515.298 214.069 L511.016 214.069 L511.016 191.453 L506.942 191.453 L506.942 188.143 L511.016 188.143 L511.016 186.337 Q511.016 182.009 513.029 180.041 Q515.043 178.05 519.418 178.05 L523.446 178.05 Z\" fill=\"#000000\" fill-rule=\"nonzero\" fill-opacity=\"1\" /><path clip-path=\"url(#clip120)\" d=\"M540.136 178.05 L540.136 181.592 L536.062 181.592 Q533.77 181.592 532.867 182.518 Q531.988 183.444 531.988 185.851 L531.988 188.143 L539.002 188.143 L539.002 191.453 L531.988 191.453 L531.988 214.069 L527.705 214.069 L527.705 191.453 L523.631 191.453 L523.631 188.143 L527.705 188.143 L527.705 186.337 Q527.705 182.009 529.719 180.041 Q531.733 178.05 536.108 178.05 L540.136 178.05 Z\" fill=\"#000000\" fill-rule=\"nonzero\" fill-opacity=\"1\" /><path clip-path=\"url(#clip120)\" d=\"M543.701 188.143 L547.96 188.143 L547.96 214.069 L543.701 214.069 L543.701 188.143 M543.701 178.05 L547.96 178.05 L547.96 183.444 L543.701 183.444 L543.701 178.05 Z\" fill=\"#000000\" fill-rule=\"nonzero\" fill-opacity=\"1\" /><path clip-path=\"url(#clip120)\" d=\"M575.529 189.138 L575.529 193.12 Q573.724 192.124 571.895 191.638 Q570.089 191.129 568.237 191.129 Q564.094 191.129 561.802 193.768 Q559.511 196.384 559.511 201.129 Q559.511 205.874 561.802 208.513 Q564.094 211.129 568.237 211.129 Q570.089 211.129 571.895 210.643 Q573.724 210.133 575.529 209.138 L575.529 213.073 Q573.747 213.907 571.825 214.323 Q569.927 214.74 567.775 214.74 Q561.918 214.74 558.469 211.059 Q555.02 207.379 555.02 201.129 Q555.02 194.786 558.492 191.152 Q561.988 187.518 568.052 187.518 Q570.02 187.518 571.895 187.935 Q573.77 188.328 575.529 189.138 Z\" fill=\"#000000\" fill-rule=\"nonzero\" fill-opacity=\"1\" /><path clip-path=\"url(#clip120)\" d=\"M582.936 188.143 L587.196 188.143 L587.196 214.069 L582.936 214.069 L582.936 188.143 M582.936 178.05 L587.196 178.05 L587.196 183.444 L582.936 183.444 L582.936 178.05 Z\" fill=\"#000000\" fill-rule=\"nonzero\" fill-opacity=\"1\" /><path clip-path=\"url(#clip120)\" d=\"M618.284 200.041 L618.284 202.124 L598.7 202.124 Q598.978 206.522 601.339 208.837 Q603.723 211.129 607.96 211.129 Q610.413 211.129 612.705 210.527 Q615.02 209.925 617.288 208.721 L617.288 212.749 Q614.997 213.721 612.589 214.231 Q610.182 214.74 607.705 214.74 Q601.501 214.74 597.867 211.129 Q594.256 207.518 594.256 201.36 Q594.256 194.995 597.682 191.268 Q601.131 187.518 606.964 187.518 Q612.196 187.518 615.228 190.897 Q618.284 194.254 618.284 200.041 M614.024 198.791 Q613.978 195.296 612.057 193.212 Q610.159 191.129 607.01 191.129 Q603.446 191.129 601.293 193.143 Q599.163 195.157 598.839 198.814 L614.024 198.791 Z\" fill=\"#000000\" fill-rule=\"nonzero\" fill-opacity=\"1\" /><path clip-path=\"url(#clip120)\" d=\"M646.825 198.421 L646.825 214.069 L642.566 214.069 L642.566 198.559 Q642.566 194.879 641.131 193.05 Q639.695 191.222 636.825 191.222 Q633.376 191.222 631.385 193.421 Q629.395 195.62 629.395 199.416 L629.395 214.069 L625.112 214.069 L625.112 188.143 L629.395 188.143 L629.395 192.171 Q630.922 189.833 632.983 188.675 Q635.066 187.518 637.774 187.518 Q642.242 187.518 644.533 190.296 Q646.825 193.05 646.825 198.421 Z\" fill=\"#000000\" fill-rule=\"nonzero\" fill-opacity=\"1\" /><path clip-path=\"url(#clip120)\" d=\"M659.533 180.782 L659.533 188.143 L668.306 188.143 L668.306 191.453 L659.533 191.453 L659.533 205.527 Q659.533 208.698 660.39 209.601 Q661.269 210.504 663.931 210.504 L668.306 210.504 L668.306 214.069 L663.931 214.069 Q659.001 214.069 657.126 212.24 Q655.251 210.388 655.251 205.527 L655.251 191.453 L652.126 191.453 L652.126 188.143 L655.251 188.143 L655.251 180.782 L659.533 180.782 Z\" fill=\"#000000\" fill-rule=\"nonzero\" fill-opacity=\"1\" /><path clip-path=\"url(#clip120)\" d=\"M689.163 179.509 L709.024 179.509 L709.024 183.444 L693.839 183.444 L693.839 193.629 L707.542 193.629 L707.542 197.564 L693.839 197.564 L693.839 214.069 L689.163 214.069 L689.163 179.509 Z\" fill=\"#000000\" fill-rule=\"nonzero\" fill-opacity=\"1\" /><path clip-path=\"url(#clip120)\" d=\"M727.82 192.124 Q727.102 191.708 726.246 191.522 Q725.413 191.314 724.394 191.314 Q720.783 191.314 718.839 193.675 Q716.917 196.013 716.917 200.411 L716.917 214.069 L712.635 214.069 L712.635 188.143 L716.917 188.143 L716.917 192.171 Q718.26 189.809 720.413 188.675 Q722.565 187.518 725.644 187.518 Q726.084 187.518 726.616 187.587 Q727.149 187.634 727.797 187.749 L727.82 192.124 Z\" fill=\"#000000\" fill-rule=\"nonzero\" fill-opacity=\"1\" /><path clip-path=\"url(#clip120)\" d=\"M741.292 191.129 Q737.866 191.129 735.875 193.814 Q733.885 196.476 733.885 201.129 Q733.885 205.782 735.852 208.467 Q737.843 211.129 741.292 211.129 Q744.695 211.129 746.686 208.444 Q748.676 205.758 748.676 201.129 Q748.676 196.522 746.686 193.837 Q744.695 191.129 741.292 191.129 M741.292 187.518 Q746.848 187.518 750.019 191.129 Q753.19 194.74 753.19 201.129 Q753.19 207.495 750.019 211.129 Q746.848 214.74 741.292 214.74 Q735.713 214.74 732.542 211.129 Q729.394 207.495 729.394 201.129 Q729.394 194.74 732.542 191.129 Q735.713 187.518 741.292 187.518 Z\" fill=\"#000000\" fill-rule=\"nonzero\" fill-opacity=\"1\" /><path clip-path=\"url(#clip120)\" d=\"M781.801 198.421 L781.801 214.069 L777.542 214.069 L777.542 198.559 Q777.542 194.879 776.107 193.05 Q774.672 191.222 771.801 191.222 Q768.352 191.222 766.361 193.421 Q764.371 195.62 764.371 199.416 L764.371 214.069 L760.088 214.069 L760.088 188.143 L764.371 188.143 L764.371 192.171 Q765.898 189.833 767.959 188.675 Q770.042 187.518 772.75 187.518 Q777.218 187.518 779.51 190.296 Q781.801 193.05 781.801 198.421 Z\" fill=\"#000000\" fill-rule=\"nonzero\" fill-opacity=\"1\" /><path clip-path=\"url(#clip120)\" d=\"M794.509 180.782 L794.509 188.143 L803.283 188.143 L803.283 191.453 L794.509 191.453 L794.509 205.527 Q794.509 208.698 795.366 209.601 Q796.246 210.504 798.908 210.504 L803.283 210.504 L803.283 214.069 L798.908 214.069 Q793.977 214.069 792.102 212.24 Q790.227 210.388 790.227 205.527 L790.227 191.453 L787.102 191.453 L787.102 188.143 L790.227 188.143 L790.227 180.782 L794.509 180.782 Z\" fill=\"#000000\" fill-rule=\"nonzero\" fill-opacity=\"1\" /><path clip-path=\"url(#clip120)\" d=\"M808.884 188.143 L813.144 188.143 L813.144 214.069 L808.884 214.069 L808.884 188.143 M808.884 178.05 L813.144 178.05 L813.144 183.444 L808.884 183.444 L808.884 178.05 Z\" fill=\"#000000\" fill-rule=\"nonzero\" fill-opacity=\"1\" /><path clip-path=\"url(#clip120)\" d=\"M844.231 200.041 L844.231 202.124 L824.648 202.124 Q824.926 206.522 827.287 208.837 Q829.671 211.129 833.907 211.129 Q836.361 211.129 838.653 210.527 Q840.968 209.925 843.236 208.721 L843.236 212.749 Q840.944 213.721 838.537 214.231 Q836.13 214.74 833.653 214.74 Q827.449 214.74 823.815 211.129 Q820.204 207.518 820.204 201.36 Q820.204 194.995 823.63 191.268 Q827.079 187.518 832.912 187.518 Q838.143 187.518 841.176 190.897 Q844.231 194.254 844.231 200.041 M839.972 198.791 Q839.926 195.296 838.005 193.212 Q836.106 191.129 832.958 191.129 Q829.394 191.129 827.241 193.143 Q825.111 195.157 824.787 198.814 L839.972 198.791 Z\" fill=\"#000000\" fill-rule=\"nonzero\" fill-opacity=\"1\" /><path clip-path=\"url(#clip120)\" d=\"M866.245 192.124 Q865.528 191.708 864.671 191.522 Q863.838 191.314 862.819 191.314 Q859.208 191.314 857.264 193.675 Q855.342 196.013 855.342 200.411 L855.342 214.069 L851.06 214.069 L851.06 188.143 L855.342 188.143 L855.342 192.171 Q856.685 189.809 858.838 188.675 Q860.991 187.518 864.069 187.518 Q864.509 187.518 865.041 187.587 Q865.574 187.634 866.222 187.749 L866.245 192.124 Z\" fill=\"#000000\" fill-rule=\"nonzero\" fill-opacity=\"1\" /><circle clip-path=\"url(#clip120)\" cx=\"385.758\" cy=\"248.629\" r=\"19.7486\" fill=\"#ffffff\" fill-rule=\"evenodd\" fill-opacity=\"1\" stroke=\"#000000\" stroke-opacity=\"1\" stroke-width=\"5.85143\"/>\n",
       "<path clip-path=\"url(#clip120)\" d=\"M480.553 231.349 L502.405 231.349 L502.405 235.284 L485.229 235.284 L485.229 245.515 L501.687 245.515 L501.687 249.45 L485.229 249.45 L485.229 261.973 L502.821 261.973 L502.821 265.909 L480.553 265.909 L480.553 231.349 Z\" fill=\"#000000\" fill-rule=\"nonzero\" fill-opacity=\"1\" /><path clip-path=\"url(#clip120)\" d=\"M526.849 240.747 L526.849 244.774 Q525.043 243.849 523.099 243.386 Q521.154 242.923 519.071 242.923 Q515.9 242.923 514.303 243.895 Q512.729 244.867 512.729 246.811 Q512.729 248.293 513.863 249.149 Q514.997 249.983 518.423 250.747 L519.881 251.071 Q524.418 252.043 526.316 253.825 Q528.238 255.585 528.238 258.756 Q528.238 262.367 525.367 264.473 Q522.52 266.58 517.52 266.58 Q515.437 266.58 513.168 266.163 Q510.923 265.77 508.423 264.96 L508.423 260.561 Q510.784 261.788 513.076 262.413 Q515.367 263.015 517.613 263.015 Q520.622 263.015 522.242 261.997 Q523.863 260.955 523.863 259.08 Q523.863 257.344 522.682 256.418 Q521.525 255.492 517.566 254.636 L516.085 254.288 Q512.127 253.455 510.367 251.742 Q508.608 250.006 508.608 246.997 Q508.608 243.339 511.201 241.349 Q513.793 239.358 518.562 239.358 Q520.923 239.358 523.006 239.705 Q525.09 240.052 526.849 240.747 Z\" fill=\"#000000\" fill-rule=\"nonzero\" fill-opacity=\"1\" /><path clip-path=\"url(#clip120)\" d=\"M539.233 232.622 L539.233 239.983 L548.006 239.983 L548.006 243.293 L539.233 243.293 L539.233 257.367 Q539.233 260.538 540.089 261.441 Q540.969 262.344 543.631 262.344 L548.006 262.344 L548.006 265.909 L543.631 265.909 Q538.701 265.909 536.826 264.08 Q534.951 262.228 534.951 257.367 L534.951 243.293 L531.826 243.293 L531.826 239.983 L534.951 239.983 L534.951 232.622 L539.233 232.622 Z\" fill=\"#000000\" fill-rule=\"nonzero\" fill-opacity=\"1\" /><path clip-path=\"url(#clip120)\" d=\"M553.608 239.983 L557.867 239.983 L557.867 265.909 L553.608 265.909 L553.608 239.983 M553.608 229.89 L557.867 229.89 L557.867 235.284 L553.608 235.284 L553.608 229.89 Z\" fill=\"#000000\" fill-rule=\"nonzero\" fill-opacity=\"1\" /><path clip-path=\"url(#clip120)\" d=\"M586.964 244.96 Q588.561 242.089 590.784 240.724 Q593.006 239.358 596.015 239.358 Q600.066 239.358 602.265 242.205 Q604.464 245.029 604.464 250.261 L604.464 265.909 L600.182 265.909 L600.182 250.399 Q600.182 246.673 598.862 244.867 Q597.543 243.062 594.835 243.062 Q591.524 243.062 589.603 245.261 Q587.682 247.46 587.682 251.256 L587.682 265.909 L583.399 265.909 L583.399 250.399 Q583.399 246.649 582.08 244.867 Q580.761 243.062 578.006 243.062 Q574.742 243.062 572.821 245.284 Q570.9 247.483 570.9 251.256 L570.9 265.909 L566.617 265.909 L566.617 239.983 L570.9 239.983 L570.9 244.011 Q572.358 241.626 574.395 240.492 Q576.432 239.358 579.233 239.358 Q582.057 239.358 584.024 240.793 Q586.015 242.228 586.964 244.96 Z\" fill=\"#000000\" fill-rule=\"nonzero\" fill-opacity=\"1\" /><path clip-path=\"url(#clip120)\" d=\"M624.742 252.876 Q619.58 252.876 617.589 254.057 Q615.598 255.237 615.598 258.085 Q615.598 260.353 617.08 261.696 Q618.584 263.015 621.154 263.015 Q624.696 263.015 626.825 260.515 Q628.978 257.992 628.978 253.825 L628.978 252.876 L624.742 252.876 M633.237 251.117 L633.237 265.909 L628.978 265.909 L628.978 261.973 Q627.52 264.335 625.344 265.469 Q623.168 266.58 620.02 266.58 Q616.038 266.58 613.677 264.358 Q611.339 262.112 611.339 258.362 Q611.339 253.987 614.256 251.765 Q617.196 249.543 623.006 249.543 L628.978 249.543 L628.978 249.126 Q628.978 246.187 627.033 244.589 Q625.112 242.969 621.617 242.969 Q619.395 242.969 617.288 243.501 Q615.182 244.034 613.237 245.099 L613.237 241.163 Q615.575 240.261 617.774 239.821 Q619.973 239.358 622.057 239.358 Q627.682 239.358 630.459 242.274 Q633.237 245.191 633.237 251.117 Z\" fill=\"#000000\" fill-rule=\"nonzero\" fill-opacity=\"1\" /><path clip-path=\"url(#clip120)\" d=\"M646.223 232.622 L646.223 239.983 L654.996 239.983 L654.996 243.293 L646.223 243.293 L646.223 257.367 Q646.223 260.538 647.08 261.441 Q647.959 262.344 650.621 262.344 L654.996 262.344 L654.996 265.909 L650.621 265.909 Q645.691 265.909 643.816 264.08 Q641.941 262.228 641.941 257.367 L641.941 243.293 L638.816 243.293 L638.816 239.983 L641.941 239.983 L641.941 232.622 L646.223 232.622 Z\" fill=\"#000000\" fill-rule=\"nonzero\" fill-opacity=\"1\" /><path clip-path=\"url(#clip120)\" d=\"M682.774 251.881 L682.774 253.964 L663.191 253.964 Q663.468 258.362 665.83 260.677 Q668.214 262.969 672.45 262.969 Q674.904 262.969 677.195 262.367 Q679.51 261.765 681.779 260.561 L681.779 264.589 Q679.487 265.561 677.08 266.071 Q674.672 266.58 672.195 266.58 Q665.992 266.58 662.357 262.969 Q658.746 259.358 658.746 253.2 Q658.746 246.835 662.172 243.108 Q665.621 239.358 671.455 239.358 Q676.686 239.358 679.718 242.737 Q682.774 246.094 682.774 251.881 M678.515 250.631 Q678.468 247.136 676.547 245.052 Q674.649 242.969 671.501 242.969 Q667.936 242.969 665.783 244.983 Q663.654 246.997 663.33 250.654 L678.515 250.631 Z\" fill=\"#000000\" fill-rule=\"nonzero\" fill-opacity=\"1\" /><path clip-path=\"url(#clip120)\" d=\"M706.825 243.918 L706.825 229.89 L711.084 229.89 L711.084 265.909 L706.825 265.909 L706.825 262.02 Q705.482 264.335 703.422 265.469 Q701.385 266.58 698.515 266.58 Q693.816 266.58 690.853 262.83 Q687.913 259.08 687.913 252.969 Q687.913 246.858 690.853 243.108 Q693.816 239.358 698.515 239.358 Q701.385 239.358 703.422 240.492 Q705.482 241.603 706.825 243.918 M692.311 252.969 Q692.311 257.668 694.232 260.353 Q696.177 263.015 699.556 263.015 Q702.936 263.015 704.88 260.353 Q706.825 257.668 706.825 252.969 Q706.825 248.27 704.88 245.608 Q702.936 242.923 699.556 242.923 Q696.177 242.923 694.232 245.608 Q692.311 248.27 692.311 252.969 Z\" fill=\"#000000\" fill-rule=\"nonzero\" fill-opacity=\"1\" /><path clip-path=\"url(#clip120)\" d=\"M751.454 240.747 L751.454 244.774 Q749.649 243.849 747.704 243.386 Q745.76 242.923 743.676 242.923 Q740.505 242.923 738.908 243.895 Q737.334 244.867 737.334 246.811 Q737.334 248.293 738.468 249.149 Q739.602 249.983 743.028 250.747 L744.487 251.071 Q749.024 252.043 750.922 253.825 Q752.843 255.585 752.843 258.756 Q752.843 262.367 749.973 264.473 Q747.125 266.58 742.125 266.58 Q740.042 266.58 737.774 266.163 Q735.528 265.77 733.028 264.96 L733.028 260.561 Q735.389 261.788 737.681 262.413 Q739.973 263.015 742.218 263.015 Q745.227 263.015 746.848 261.997 Q748.468 260.955 748.468 259.08 Q748.468 257.344 747.287 256.418 Q746.13 255.492 742.172 254.636 L740.69 254.288 Q736.732 253.455 734.973 251.742 Q733.213 250.006 733.213 246.997 Q733.213 243.339 735.806 241.349 Q738.399 239.358 743.167 239.358 Q745.528 239.358 747.612 239.705 Q749.695 240.052 751.454 240.747 Z\" fill=\"#000000\" fill-rule=\"nonzero\" fill-opacity=\"1\" /><path clip-path=\"url(#clip120)\" d=\"M769.672 242.969 Q766.246 242.969 764.255 245.654 Q762.264 248.316 762.264 252.969 Q762.264 257.622 764.232 260.307 Q766.223 262.969 769.672 262.969 Q773.074 262.969 775.065 260.284 Q777.056 257.598 777.056 252.969 Q777.056 248.362 775.065 245.677 Q773.074 242.969 769.672 242.969 M769.672 239.358 Q775.227 239.358 778.398 242.969 Q781.57 246.58 781.57 252.969 Q781.57 259.335 778.398 262.969 Q775.227 266.58 769.672 266.58 Q764.093 266.58 760.922 262.969 Q757.774 259.335 757.774 252.969 Q757.774 246.58 760.922 242.969 Q764.093 239.358 769.672 239.358 Z\" fill=\"#000000\" fill-rule=\"nonzero\" fill-opacity=\"1\" /><path clip-path=\"url(#clip120)\" d=\"M788.63 229.89 L792.889 229.89 L792.889 265.909 L788.63 265.909 L788.63 229.89 Z\" fill=\"#000000\" fill-rule=\"nonzero\" fill-opacity=\"1\" /><path clip-path=\"url(#clip120)\" d=\"M801.361 255.677 L801.361 239.983 L805.62 239.983 L805.62 255.515 Q805.62 259.196 807.056 261.048 Q808.491 262.876 811.361 262.876 Q814.81 262.876 816.801 260.677 Q818.815 258.478 818.815 254.682 L818.815 239.983 L823.074 239.983 L823.074 265.909 L818.815 265.909 L818.815 261.927 Q817.264 264.288 815.204 265.446 Q813.167 266.58 810.458 266.58 Q805.991 266.58 803.676 263.802 Q801.361 261.024 801.361 255.677 M812.079 239.358 L812.079 239.358 Z\" fill=\"#000000\" fill-rule=\"nonzero\" fill-opacity=\"1\" /><path clip-path=\"url(#clip120)\" d=\"M836.06 232.622 L836.06 239.983 L844.833 239.983 L844.833 243.293 L836.06 243.293 L836.06 257.367 Q836.06 260.538 836.917 261.441 Q837.796 262.344 840.458 262.344 L844.833 262.344 L844.833 265.909 L840.458 265.909 Q835.528 265.909 833.653 264.08 Q831.778 262.228 831.778 257.367 L831.778 243.293 L828.653 243.293 L828.653 239.983 L831.778 239.983 L831.778 232.622 L836.06 232.622 Z\" fill=\"#000000\" fill-rule=\"nonzero\" fill-opacity=\"1\" /><path clip-path=\"url(#clip120)\" d=\"M850.435 239.983 L854.694 239.983 L854.694 265.909 L850.435 265.909 L850.435 239.983 M850.435 229.89 L854.694 229.89 L854.694 235.284 L850.435 235.284 L850.435 229.89 Z\" fill=\"#000000\" fill-rule=\"nonzero\" fill-opacity=\"1\" /><path clip-path=\"url(#clip120)\" d=\"M873.653 242.969 Q870.227 242.969 868.236 245.654 Q866.245 248.316 866.245 252.969 Q866.245 257.622 868.213 260.307 Q870.203 262.969 873.653 262.969 Q877.055 262.969 879.046 260.284 Q881.037 257.598 881.037 252.969 Q881.037 248.362 879.046 245.677 Q877.055 242.969 873.653 242.969 M873.653 239.358 Q879.208 239.358 882.379 242.969 Q885.551 246.58 885.551 252.969 Q885.551 259.335 882.379 262.969 Q879.208 266.58 873.653 266.58 Q868.074 266.58 864.903 262.969 Q861.754 259.335 861.754 252.969 Q861.754 246.58 864.903 242.969 Q868.074 239.358 873.653 239.358 Z\" fill=\"#000000\" fill-rule=\"nonzero\" fill-opacity=\"1\" /><path clip-path=\"url(#clip120)\" d=\"M914.162 250.261 L914.162 265.909 L909.902 265.909 L909.902 250.399 Q909.902 246.719 908.467 244.89 Q907.032 243.062 904.162 243.062 Q900.713 243.062 898.722 245.261 Q896.731 247.46 896.731 251.256 L896.731 265.909 L892.449 265.909 L892.449 239.983 L896.731 239.983 L896.731 244.011 Q898.259 241.673 900.319 240.515 Q902.402 239.358 905.111 239.358 Q909.578 239.358 911.87 242.136 Q914.162 244.89 914.162 250.261 Z\" fill=\"#000000\" fill-rule=\"nonzero\" fill-opacity=\"1\" /></svg>\n"
      ]
     },
     "execution_count": 53,
     "metadata": {},
     "output_type": "execute_result"
    }
   ],
   "source": [
    "plot(capital_allocation_line, lw=4, xlabel=\"Risk sqrt(variance)\", \n",
    "    ylabel=\"Reward (annualized log growth)\", fontsize=18, c=:gray, \n",
    "    xlim=(0.0, 1.1*maximum(capital_allocation_line).first), label=\"Capital Allocation Line (CAL)\")\n",
    "scatter!(capital_allocation_line, label=\"\", msc=:black, mc=:white, ms=3)\n",
    "plot!(efficient_frontier_sim, lw=4, xlabel=\"Risk sqrt(variance)\", \n",
    "    ylabel=\"Reward (log return)\", fontsize=18, label=\"Efficient Frontier\", c=:red, \n",
    "    xlim=(0.0, 1.1*maximum(efficient_frontier_sim).first))\n",
    "scatter!(efficient_frontier_sim, label=\"Estimated solution\", c=:white, mec=:red, ms=3)"
   ]
  },
  {
   "cell_type": "markdown",
   "id": "cb480043-5eeb-4b1d-8941-816c95c1098a",
   "metadata": {},
   "source": [
    "## Task 3: Where is the tangent portfolio and what's in it?\n",
    "The tangent portfolio is the point on the capital allocation line where the fraction of assets invested in the pool of risky assets is `1`, i.e., all of the investment budget is invested in risky assets. Let's estimate the expected return of the tangent portfolio $\\mathcal{T}$ by trial and error: \n",
    "* `Procedure`: adjust the risk, solve the allocation problem and compute the fraction in risk assets $\\theta$"
   ]
  },
  {
   "cell_type": "code",
   "execution_count": 97,
   "id": "a6730de5-115c-4f5e-92ff-e3e2a60df897",
   "metadata": {},
   "outputs": [
    {
     "name": "stdout",
     "output_type": "stream",
     "text": [
      "fraction in risk-free assets: -0.0008485530801483065, fraction in risky assets: 1.0008485530801483\n"
     ]
    }
   ],
   "source": [
    "problem_risk_free.R = 0.261\n",
    "allocation_sum_constraint = solve(problem_risk_free) |> x-> x[\"argmax\"] |> x-> sum(x);\n",
    "println(\"fraction in risk-free assets: $(1-allocation_sum_constraint), fraction in risky assets: $(allocation_sum_constraint)\")"
   ]
  },
  {
   "cell_type": "raw",
   "id": "8271e64c-cdae-44a2-adfe-9279c4109e13",
   "metadata": {},
   "source": [
    "Let's solve the investment problem at the tangent portfolio:"
   ]
  },
  {
   "cell_type": "code",
   "execution_count": 104,
   "id": "d7ea30cf-ca2c-4834-9c1a-50bb462333b8",
   "metadata": {},
   "outputs": [
    {
     "data": {
      "text/plain": [
       "Dict{String, Any} with 4 entries:\n",
       "  \"argmax\"          => [0.234004, 0.409495, 1.14446e-8, 1.95256e-8, 0.357349, 1…\n",
       "  \"reward\"          => 0.261\n",
       "  \"status\"          => LOCALLY_SOLVED\n",
       "  \"objective_value\" => 0.0697524"
      ]
     },
     "execution_count": 104,
     "metadata": {},
     "output_type": "execute_result"
    }
   ],
   "source": [
    "tangent_portfolio_solution = nothing;\n",
    "try\n",
    "    tangent_portfolio_solution = solve(problem_risk_free)\n",
    "catch err\n",
    "    println(\"Hmmmm. That's not what we expected ...\")\n",
    "end"
   ]
  },
  {
   "cell_type": "markdown",
   "id": "55c37d53-e4e0-43c5-9316-768c4c8a70b2",
   "metadata": {},
   "source": [
    "#### What's in the tangent portfolio?"
   ]
  },
  {
   "cell_type": "code",
   "execution_count": 109,
   "id": "f9bed152-5413-4ab0-b24c-a470e48f1f6b",
   "metadata": {},
   "outputs": [
    {
     "data": {
      "text/html": [
       "<div><div style = \"float: left;\"><span>12×2 DataFrame</span></div><div style = \"clear: both;\"></div></div><div class = \"data-frame\" style = \"overflow-x: scroll;\"><table class = \"data-frame\" style = \"margin-bottom: 6px;\"><thead><tr class = \"header\"><th class = \"rowNumber\" style = \"font-weight: bold; text-align: right;\">Row</th><th style = \"text-align: left;\">ticker</th><th style = \"text-align: left;\">ω</th></tr><tr class = \"subheader headerLastRow\"><th class = \"rowNumber\" style = \"font-weight: bold; text-align: right;\"></th><th title = \"String\" style = \"text-align: left;\">String</th><th title = \"Float64\" style = \"text-align: left;\">Float64</th></tr></thead><tbody><tr><td class = \"rowNumber\" style = \"font-weight: bold; text-align: right;\">1</td><td style = \"text-align: left;\">AAPL</td><td style = \"text-align: right;\">0.234</td></tr><tr><td class = \"rowNumber\" style = \"font-weight: bold; text-align: right;\">2</td><td style = \"text-align: left;\">MSFT</td><td style = \"text-align: right;\">0.4095</td></tr><tr><td class = \"rowNumber\" style = \"font-weight: bold; text-align: right;\">3</td><td style = \"text-align: left;\">INTC</td><td style = \"text-align: right;\">0.0</td></tr><tr><td class = \"rowNumber\" style = \"font-weight: bold; text-align: right;\">4</td><td style = \"text-align: left;\">MU</td><td style = \"text-align: right;\">0.0</td></tr><tr><td class = \"rowNumber\" style = \"font-weight: bold; text-align: right;\">5</td><td style = \"text-align: left;\">AMD</td><td style = \"text-align: right;\">0.3573</td></tr><tr><td class = \"rowNumber\" style = \"font-weight: bold; text-align: right;\">6</td><td style = \"text-align: left;\">GS</td><td style = \"text-align: right;\">0.0</td></tr><tr><td class = \"rowNumber\" style = \"font-weight: bold; text-align: right;\">7</td><td style = \"text-align: left;\">BAC</td><td style = \"text-align: right;\">0.0</td></tr><tr><td class = \"rowNumber\" style = \"font-weight: bold; text-align: right;\">8</td><td style = \"text-align: left;\">WFC</td><td style = \"text-align: right;\">0.0</td></tr><tr><td class = \"rowNumber\" style = \"font-weight: bold; text-align: right;\">9</td><td style = \"text-align: left;\">C</td><td style = \"text-align: right;\">0.0</td></tr><tr><td class = \"rowNumber\" style = \"font-weight: bold; text-align: right;\">10</td><td style = \"text-align: left;\">F</td><td style = \"text-align: right;\">0.0</td></tr><tr><td class = \"rowNumber\" style = \"font-weight: bold; text-align: right;\">11</td><td style = \"text-align: left;\">GM</td><td style = \"text-align: right;\">0.0</td></tr><tr><td class = \"rowNumber\" style = \"font-weight: bold; text-align: right;\">12</td><td style = \"text-align: left;\">total</td><td style = \"text-align: right;\">1.0008</td></tr></tbody></table></div>"
      ],
      "text/latex": [
       "\\begin{tabular}{r|cc}\n",
       "\t& ticker & ω\\\\\n",
       "\t\\hline\n",
       "\t& String & Float64\\\\\n",
       "\t\\hline\n",
       "\t1 & AAPL & 0.234 \\\\\n",
       "\t2 & MSFT & 0.4095 \\\\\n",
       "\t3 & INTC & 0.0 \\\\\n",
       "\t4 & MU & 0.0 \\\\\n",
       "\t5 & AMD & 0.3573 \\\\\n",
       "\t6 & GS & 0.0 \\\\\n",
       "\t7 & BAC & 0.0 \\\\\n",
       "\t8 & WFC & 0.0 \\\\\n",
       "\t9 & C & 0.0 \\\\\n",
       "\t10 & F & 0.0 \\\\\n",
       "\t11 & GM & 0.0 \\\\\n",
       "\t12 & total & 1.0008 \\\\\n",
       "\\end{tabular}\n"
      ],
      "text/plain": [
       "\u001b[1m12×2 DataFrame\u001b[0m\n",
       "\u001b[1m Row \u001b[0m│\u001b[1m ticker \u001b[0m\u001b[1m ω       \u001b[0m\n",
       "     │\u001b[90m String \u001b[0m\u001b[90m Float64 \u001b[0m\n",
       "─────┼─────────────────\n",
       "   1 │ AAPL     0.234\n",
       "   2 │ MSFT     0.4095\n",
       "   3 │ INTC     0.0\n",
       "   4 │ MU       0.0\n",
       "   5 │ AMD      0.3573\n",
       "   6 │ GS       0.0\n",
       "   7 │ BAC      0.0\n",
       "   8 │ WFC      0.0\n",
       "   9 │ C        0.0\n",
       "  10 │ F        0.0\n",
       "  11 │ GM       0.0\n",
       "  12 │ total    1.0008"
      ]
     },
     "execution_count": 109,
     "metadata": {},
     "output_type": "execute_result"
    }
   ],
   "source": [
    "let\n",
    "    ω = tangent_portfolio_solution[\"argmax\"];\n",
    "    table_df = DataFrame();\n",
    "    for i ∈ eachindex(my_list_of_tickers)\n",
    "        ticker = my_list_of_tickers[i];\n",
    "        ωᵢ = ω[i];\n",
    "        row_data = (\n",
    "            ticker = ticker,\n",
    "            ω = round(ωᵢ, digits=4)\n",
    "        );\n",
    "        push!(table_df,row_data)\n",
    "    end\n",
    "    \n",
    "    # compute the total -\n",
    "    total = table_df[:,:ω] |> sum\n",
    "    last_row = (\n",
    "        ticker = \"total\",\n",
    "        ω = total\n",
    "    )\n",
    "    push!(table_df,last_row)\n",
    "    table_df\n",
    "end"
   ]
  },
  {
   "cell_type": "markdown",
   "id": "8829063b-2ab2-422e-a7a3-4bbc06778f70",
   "metadata": {},
   "source": [
    "### Disclaimer and Risks\n",
    "__This content is offered solely for training and informational purposes__. No offer or solicitation to buy or sell securities or derivative products or any investment or trading advice or strategy is made, given, or endorsed by the teaching team. \n",
    "\n",
    "__Trading involves risk__. Carefully review your financial situation before investing in securities, futures contracts, options, or commodity interests. Past performance, whether actual or indicated by historical tests of strategies, is no guarantee of future performance or success. Trading is generally inappropriate for someone with limited resources, investment or trading experience, or a low-risk tolerance.  Only risk capital that is not required for living expenses.\n",
    "\n",
    "__You are fully responsible for any investment or trading decisions you make__. You should decide solely based on your financial circumstances, investment or trading objectives, risk tolerance, and liquidity needs."
   ]
  },
  {
   "cell_type": "code",
   "execution_count": null,
   "id": "8939c6b2-8bdc-40a9-ae66-615111c51d46",
   "metadata": {},
   "outputs": [],
   "source": []
  }
 ],
 "metadata": {
  "kernelspec": {
   "display_name": "Julia 1.10.4",
   "language": "julia",
   "name": "julia-1.10"
  },
  "language_info": {
   "file_extension": ".jl",
   "mimetype": "application/julia",
   "name": "julia",
   "version": "1.10.4"
  }
 },
 "nbformat": 4,
 "nbformat_minor": 5
}
