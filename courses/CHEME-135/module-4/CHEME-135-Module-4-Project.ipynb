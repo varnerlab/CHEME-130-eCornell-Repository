{
 "cells": [
  {
   "cell_type": "markdown",
   "id": "ff1d80a2-3db9-402c-9d26-812bdb715b4b",
   "metadata": {},
   "source": [
    "# Project: Not sure yet"
   ]
  },
  {
   "cell_type": "code",
   "execution_count": null,
   "id": "ea875232-8d7d-4b88-a5b7-f3a1783fe6fc",
   "metadata": {},
   "outputs": [],
   "source": []
  }
 ],
 "metadata": {
  "kernelspec": {
   "display_name": "Julia 1.10.3",
   "language": "julia",
   "name": "julia-1.10"
  },
  "language_info": {
   "file_extension": ".jl",
   "mimetype": "application/julia",
   "name": "julia",
   "version": "1.10.3"
  }
 },
 "nbformat": 4,
 "nbformat_minor": 5
}
