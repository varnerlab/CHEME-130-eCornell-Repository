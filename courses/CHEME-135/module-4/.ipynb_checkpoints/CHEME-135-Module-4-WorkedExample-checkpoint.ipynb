{
 "cells": [
  {
   "cell_type": "markdown",
   "id": "d2534105-6383-4535-a269-6af6c4d1680b",
   "metadata": {},
   "source": [
    "## Example: Single Index Models and Minimum Variance Portfolio Allocation\n",
    "The direct computation of the expected returns $\\mathbb{E}(r_{i})$ and the covariance matrix $\\Sigma$ in the _data-driven_ Minimum-Variance portfolio problem can be computationally challenging as the number of assets in the portfolio grows. An alternative is to use index models to compute the expected returns and the covariance.\n",
    "\n",
    "A single index model describes the return of a firm’s stock (or the return of an ETF) in terms of a firm-specific return and the overall market return. One of the simplest (yet still widely used) single index models was developed by [Sharpe (1963)](https://en.wikipedia.org/wiki/Single-index_model#:~:text=The%20single%2Dindex%20model%20(SIM,used%20in%20the%20finance%20industry.)). Let $R_{i}(t)\\equiv\\left(r_{i}\\left(t\\right) - r_{f}\\right)$ \n",
    "and $R_{m}(t)\\equiv\\left(r_{m}\\left(t\\right)-r_{f}\\right)$ denote the firm-specific and market **excess returns**, where $r_{f}$ denotes the risk-free rate of return.\n",
    "Further, let $\\epsilon_{i}\\left(t\\right)$ denote stationary normally distributed random noise\n",
    "with mean zero and standard deviation $\\sigma_{i}$. Then, the single index model of Sharpe is given by:\n",
    "$$\n",
    "\\begin{equation*}\n",
    "R_{i}\\left(t\\right) = \\alpha_{i}+\\beta_{i}\\cdot{R}_{m}\\left(t\\right)+\\epsilon_{i}\n",
    "\\left(t\\right)\\qquad{t=1,2,\\dots,T}\n",
    "\\end{equation*}\n",
    "$$\n",
    "where $\\alpha_{i}$ and $\\beta_{i}$ are (unknown) model parameters: \n",
    "* $\\alpha_{i}$ describes the firm-specific return not explained by the market; thus, $\\alpha_{i}$ is the idiosyncratic return of firm $i$.\n",
    "* $\\beta_{i}$ has two interpretations. First, it measures the relationship between the excess return of firm $i$ and the excess return of the market. \n",
    "A large $\\beta_{i}$ suggests that the market returns (or losses) are amplified for firm $i$, while a small $\\beta_{i}$ indicates that the market returns (or losses) are damped for firm $i$. \n",
    "Second, it represents the relative risk of investing in a firm $i$ relative to the overall market.\n",
    "\n",
    "### Single index model portfolio allocation problem for risky assets\n",
    "The risky portfolio allocation problem for a portfolio $\\mathcal{P}$ using the single index model is:\n",
    "\\begin{eqnarray*}\n",
    "\\text{minimize}~\\sigma_{\\mathcal{P}}^2 &=& \\sum_{i\\in\\mathcal{P}}\\sum_{j\\in\\mathcal{P}}\\omega_{i}\\omega_{j}\n",
    "\\text{cov}\\left(R_{i},R_{j}\\right) \\\\\n",
    "\\text{subject to}~\\mathbb{E}(R_{\\mathcal{P}})& = & \\alpha_{\\mathcal{P}}+\\beta_{\\mathcal{P}}\\cdot\\mathbb{E}(R_{m})\\geq{R^{*}} \\\\\n",
    "\\alpha_{\\mathcal{P}} & = & \\sum_{i\\in\\mathcal{P}}\\omega_{i}\\cdot\\alpha_{i}\\\\\n",
    "\\beta_{\\mathcal{P}} & = & \\sum_{i\\in\\mathcal{P}}\\omega_{i}\\cdot\\beta_{i} \\\\\n",
    "\\sum_{i\\in\\mathcal{P}}\\omega_{i} & = & 1 \\\\\n",
    "\\text{and}~\\omega_{i}&\\geq&{0}\\qquad{\\forall{i}\\in\\mathcal{P}}\n",
    "\\end{eqnarray*}\n",
    "\n",
    "where the covariance between asset $i$ and asset $j$ is given by:\n",
    "\\begin{equation*}\n",
    "\\text{cov}(R_{i}, R_{j}) = \\begin{cases}\n",
    "\\beta_{i}^{2}\\sigma_{m}^{2}+\\sigma_{\\epsilon_{i}}^{2} & i = j \\\\\n",
    "\\beta_{i}\\beta_{j}\\sigma_{m}^2 & i \\neq j\n",
    "\\end{cases}\n",
    "\\end{equation*}\n",
    "\n",
    "### Learning objectives\n",
    "The objective of this `worked example` is to compute the expected return vector $\\mathbb{E}(R_{i})$ and the covariance matrix $\\mathbf{\\Sigma}$ using the `single index models` estimated in `CHEME-135 module 3`, where we use `SPY` as the market, or benchmark, portfolio. \n",
    "\n",
    "* __Prerequisites__: we'll begin by loading the historical dataset. The data we'll explore is daily open-high-low-close values for firms in the [S&P500 index](https://en.wikipedia.org/wiki/S%26P_500) between `01-03-2018` and `12-29-2023`.\n",
    "* __Task 1__: Next, we'll compute the expected returns and the covariance arrays from the historical dataset using the single index models we computed in `CHEME-135 module 3`.\n",
    "* __Task 2__: We'll compute the efficient frontier by solving the minimum variance optimization problem for the data-driven and the single index model formulation and compare the efficient frontiers calculated for each approach.\n",
    "* __Task 3__: Finally, we'll compute the capital allocation line and the tangent portfolio using the single index models and look at some possible choices for the operating point to choose along the capital allocation line based upon your risk-aversion parameter $A$."
   ]
  },
  {
   "cell_type": "markdown",
   "id": "75c1691d-25c3-4f99-836d-5f01182c7842",
   "metadata": {},
   "source": [
    "## Setup\n",
    "We set up the computational environment by including the `Include.jl` file. The `Include.jl` file loads external packages, various functions that we will use in the exercise, and custom types to model the components of our lab problem.\n",
    "* For additional information on functions and types used in this material, see the [Julia programming language documentation](https://docs.julialang.org/en/v1/) and the [VLQuantitativeFinancePackage.jl documentation](https://github.com/varnerlab/VLQuantitativeFinancePackage.jl). "
   ]
  },
  {
   "cell_type": "code",
   "execution_count": 3,
   "id": "914fab8e-454d-4f98-bbce-bd4ec2edaf29",
   "metadata": {
    "tags": []
   },
   "outputs": [
    {
     "name": "stderr",
     "output_type": "stream",
     "text": [
      "\u001b[32m\u001b[1m    Updating\u001b[22m\u001b[39m git-repo `https://github.com/varnerlab/VLQuantitativeFinancePackage.jl.git`\n",
      "\u001b[32m\u001b[1m   Resolving\u001b[22m\u001b[39m package versions...\n",
      "\u001b[32m\u001b[1m  No Changes\u001b[22m\u001b[39m to `~/Desktop/julia_work/CHEME-130-eCornell-Repository/courses/CHEME-135/module-4/Project.toml`\n",
      "\u001b[32m\u001b[1m  No Changes\u001b[22m\u001b[39m to `~/Desktop/julia_work/CHEME-130-eCornell-Repository/courses/CHEME-135/module-4/Manifest.toml`\n",
      "\u001b[32m\u001b[1m  Activating\u001b[22m\u001b[39m project at `~/Desktop/julia_work/CHEME-130-eCornell-Repository/courses/CHEME-135/module-4`\n",
      "\u001b[32m\u001b[1m  No Changes\u001b[22m\u001b[39m to `~/Desktop/julia_work/CHEME-130-eCornell-Repository/courses/CHEME-135/module-4/Project.toml`\n",
      "\u001b[32m\u001b[1m  No Changes\u001b[22m\u001b[39m to `~/Desktop/julia_work/CHEME-130-eCornell-Repository/courses/CHEME-135/module-4/Manifest.toml`\n",
      "\u001b[32m\u001b[1m    Updating\u001b[22m\u001b[39m registry at `~/.julia/registries/General.toml`\n",
      "\u001b[32m\u001b[1m    Updating\u001b[22m\u001b[39m git-repo `https://github.com/varnerlab/VLQuantitativeFinancePackage.jl.git`\n",
      "\u001b[32m\u001b[1m  No Changes\u001b[22m\u001b[39m to `~/Desktop/julia_work/CHEME-130-eCornell-Repository/courses/CHEME-135/module-4/Project.toml`\n",
      "\u001b[32m\u001b[1m  No Changes\u001b[22m\u001b[39m to `~/Desktop/julia_work/CHEME-130-eCornell-Repository/courses/CHEME-135/module-4/Manifest.toml`\n"
     ]
    }
   ],
   "source": [
    "include(\"Include.jl\");"
   ]
  },
  {
   "cell_type": "markdown",
   "id": "f4a165c6-1a16-4d94-8ec7-e33cc54913a4",
   "metadata": {},
   "source": [
    "## Prerequisites: Load and clean the historical dataset\n",
    "We gathered a daily open-high-low-close `dataset` for each firm in the [S&P500](https://en.wikipedia.org/wiki/S%26P_500) since `01-03-2018` until `12-29-2023`, along with data for a few exchange-traded funds and volatility products during that time. We load the `orignal_dataset` by calling the `load(...)` method exported by the [JLD2.jl](https://github.com/JuliaIO/JLD2.jl.git) package:"
   ]
  },
  {
   "cell_type": "code",
   "execution_count": 5,
   "id": "ede4f7d8-de2a-4c06-81d9-5e462afc6df2",
   "metadata": {
    "tags": []
   },
   "outputs": [],
   "source": [
    "original_dataset = load(joinpath(_PATH_TO_DATA, \"SP500-Daily-OHLC-1-3-2018-to-12-29-2023.jld2\")) |> x-> x[\"dataset\"];"
   ]
  },
  {
   "cell_type": "markdown",
   "id": "7ee23930-149c-49ee-b468-2405dfa9d786",
   "metadata": {},
   "source": [
    "### Clean the data\n",
    "Not all of the tickers in our dataset have the maximum number of trading days for various reasons, e.g., acquistion or de-listing events. Let's collect only those tickers with the maximum number of tradition days.\n",
    "\n",
    "* First, let's compute the number of records for a company that we know has a maximim value, e.g., `AAPL` and save that value in the `maximum_number_trading_days` variable:"
   ]
  },
  {
   "cell_type": "code",
   "execution_count": 7,
   "id": "9229500e-ccad-46db-8df4-5665fb9e2589",
   "metadata": {
    "tags": []
   },
   "outputs": [],
   "source": [
    "maximum_number_trading_days = original_dataset[\"AAPL\"] |> nrow;"
   ]
  },
  {
   "cell_type": "markdown",
   "id": "3a74846d-0fc9-40b3-bddc-c9fee656114b",
   "metadata": {},
   "source": [
    "Next, iterate through our data and collect only tickers with `maximum_number_trading_days` records. Save that data in the `dataset::Dict{String,DataFrame}` variable:"
   ]
  },
  {
   "cell_type": "code",
   "execution_count": 8,
   "id": "d75b54c3-c1d7-4f93-be35-2da7e42a86f1",
   "metadata": {
    "tags": []
   },
   "outputs": [
    {
     "data": {
      "text/plain": [
       "Dict{String, DataFrame} with 460 entries:\n",
       "  \"NI\"   => \u001b[1m1508×8 DataFrame\u001b[0m\u001b[0m…\n",
       "  \"EMR\"  => \u001b[1m1508×8 DataFrame\u001b[0m\u001b[0m…\n",
       "  \"CTAS\" => \u001b[1m1508×8 DataFrame\u001b[0m\u001b[0m…\n",
       "  \"HSIC\" => \u001b[1m1508×8 DataFrame\u001b[0m\u001b[0m…\n",
       "  \"KIM\"  => \u001b[1m1508×8 DataFrame\u001b[0m\u001b[0m…\n",
       "  \"PLD\"  => \u001b[1m1508×8 DataFrame\u001b[0m\u001b[0m…\n",
       "  \"IEX\"  => \u001b[1m1508×8 DataFrame\u001b[0m\u001b[0m…\n",
       "  \"BAC\"  => \u001b[1m1508×8 DataFrame\u001b[0m\u001b[0m…\n",
       "  \"CBOE\" => \u001b[1m1508×8 DataFrame\u001b[0m\u001b[0m…\n",
       "  \"EXR\"  => \u001b[1m1508×8 DataFrame\u001b[0m\u001b[0m…\n",
       "  \"NCLH\" => \u001b[1m1508×8 DataFrame\u001b[0m\u001b[0m…\n",
       "  \"CVS\"  => \u001b[1m1508×8 DataFrame\u001b[0m\u001b[0m…\n",
       "  \"DRI\"  => \u001b[1m1508×8 DataFrame\u001b[0m\u001b[0m…\n",
       "  \"DTE\"  => \u001b[1m1508×8 DataFrame\u001b[0m\u001b[0m…\n",
       "  \"ZION\" => \u001b[1m1508×8 DataFrame\u001b[0m\u001b[0m…\n",
       "  \"AVY\"  => \u001b[1m1508×8 DataFrame\u001b[0m\u001b[0m…\n",
       "  \"EW\"   => \u001b[1m1508×8 DataFrame\u001b[0m\u001b[0m…\n",
       "  \"EA\"   => \u001b[1m1508×8 DataFrame\u001b[0m\u001b[0m…\n",
       "  \"NWSA\" => \u001b[1m1508×8 DataFrame\u001b[0m\u001b[0m…\n",
       "  \"CAG\"  => \u001b[1m1508×8 DataFrame\u001b[0m\u001b[0m…\n",
       "  \"GPC\"  => \u001b[1m1508×8 DataFrame\u001b[0m\u001b[0m…\n",
       "  \"FCX\"  => \u001b[1m1508×8 DataFrame\u001b[0m\u001b[0m…\n",
       "  \"GILD\" => \u001b[1m1508×8 DataFrame\u001b[0m\u001b[0m…\n",
       "  \"UNP\"  => \u001b[1m1508×8 DataFrame\u001b[0m\u001b[0m…\n",
       "  \"CDW\"  => \u001b[1m1508×8 DataFrame\u001b[0m\u001b[0m…\n",
       "  ⋮      => ⋮"
      ]
     },
     "execution_count": 8,
     "metadata": {},
     "output_type": "execute_result"
    }
   ],
   "source": [
    "dataset = Dict{String,DataFrame}();\n",
    "for (ticker,data) ∈ original_dataset\n",
    "    if (nrow(data) == maximum_number_trading_days)\n",
    "        dataset[ticker] = data;\n",
    "    end\n",
    "end\n",
    "dataset"
   ]
  },
  {
   "cell_type": "markdown",
   "id": "7d776d45-97d1-48c6-9d70-c2e6840687a7",
   "metadata": {},
   "source": [
    "Let's get a sorted list of firms that we have in cleaned up `dataset`, and save it in the `list_of_all_tickers` array:"
   ]
  },
  {
   "cell_type": "code",
   "execution_count": 10,
   "id": "5c80006a-3338-4f4b-9983-f2b366af5719",
   "metadata": {
    "tags": []
   },
   "outputs": [],
   "source": [
    "list_of_all_tickers = keys(dataset) |> collect |> sort;"
   ]
  },
  {
   "cell_type": "markdown",
   "id": "3489f983-ddb4-4f71-9500-51167768cc14",
   "metadata": {},
   "source": [
    "Finally, let's set some constant values, e.g., a value for the `risk_free_rate`:"
   ]
  },
  {
   "cell_type": "code",
   "execution_count": 12,
   "id": "82ff7747-f489-4750-bd52-81b9410ac379",
   "metadata": {
    "tags": []
   },
   "outputs": [],
   "source": [
    "risk_free_rate = 0.05;"
   ]
  },
  {
   "cell_type": "markdown",
   "id": "c9fc18a8-ad53-4a43-aed4-fb6988ec72b0",
   "metadata": {},
   "source": [
    "### Compute the covariance and expected return for all firms in the dataset\n",
    "The expected return $\\mathbb{E}(r_{i})$ and covariance matrix $\\Sigma$ will be used in our calculations, so we'll provide values for both of these items for the entire data set (all `N = 459` tickers), and then you can pick out which tickers you are interested in. \n",
    "\n",
    "* First, we compute the expected (annualized) log return by passing the `dataset` and the entire list of firms we have in the dataset (held in the $N\\times{1}$ `list_of_all_tickers` array) to the [log_growth_matrix(...) method](https://varnerlab.github.io/VLQuantitativeFinancePackage.jl/dev/equity/#VLQuantitativeFinancePackage.log_growth_matrix). The result is stored in the `all_firms_return_matrix` variable, a $T-1\\times{N}$ array of log return values. Each row of `all_firms_return_matrix` corresponds to a time value, while each column corresponds to a firm:"
   ]
  },
  {
   "cell_type": "code",
   "execution_count": 14,
   "id": "3cb45c2e-0214-45d5-a5da-df652d84acea",
   "metadata": {
    "tags": []
   },
   "outputs": [
    {
     "data": {
      "text/plain": [
       "1507×460 Matrix{Float64}:\n",
       "  0.324988   1.87928     6.97769   …   5.75159     1.74882    2.00452\n",
       "  2.13987   -0.668139    3.97037       3.95668    -0.761936   2.9259\n",
       "  0.886321  -1.96617    -0.853754      2.84928    -0.405978   2.41921\n",
       "  6.15162    1.46203    -1.92102       6.55558     5.0984     3.36373\n",
       " -3.52638    4.87131    -0.317677      1.76502     3.3169    -4.92013\n",
       " -0.37572   10.2317      2.75668   …  10.6817      2.19034    2.43203\n",
       "  3.25669    9.91413     7.32109       5.80955     2.34702    3.10105\n",
       " -0.219697   1.23539    -1.56874       2.67067    -1.60483    1.057\n",
       "  1.64849   -0.305863    1.90851       0.389849   -0.152035   2.79631\n",
       "  0.1633     0.0879042  -0.533602     -0.210856   -0.555564  -1.14091\n",
       "  2.96852   -1.0269      3.81638   …  -0.0978694   2.23925    0.942827\n",
       "  0.863209  -0.736871    0.950174      0.232196    1.8414     1.43424\n",
       "  1.05596    0.0469966   1.8355        2.40996     1.35743    1.7796\n",
       "  ⋮                                ⋱                         \n",
       "  6.82932   -3.01213    14.2484    …   1.56439    15.7205     5.54459\n",
       "  9.97356   11.3747     19.6235       26.0256     27.5626     5.97447\n",
       " -0.48449   -0.31058    -6.907         4.85357    -7.2954    -5.00577\n",
       "  0.501792  -5.23382    -7.86335      -5.5155     -4.73763    0.42562\n",
       "  3.47714    2.41648     0.409582      2.37732     2.65527    1.81175\n",
       " -0.287905  -2.9391     -1.69118   …  -4.73775    -3.82709   -1.84536\n",
       " -0.798805   2.38892    -0.351065     -0.414542    1.52119   -2.14042\n",
       "  1.05919   -0.36349     3.65605       3.50786     3.52521   -0.759748\n",
       "  0.224913  -2.92653    -0.784553      5.12839     4.09382    1.25834\n",
       " -0.253042  -2.39417     0.445564      1.24036    -0.947707   1.18925\n",
       "  0.82831   -0.714768    0.422411  …  -0.216922   -0.243954   1.00671\n",
       " -2.05079   -3.93842    -1.25519      -1.21052    -2.9499     0.0621309"
      ]
     },
     "execution_count": 14,
     "metadata": {},
     "output_type": "execute_result"
    }
   ],
   "source": [
    "all_firms_excess_return_matrix = log_growth_matrix(dataset, list_of_all_tickers, \n",
    "    Δt = (1.0/252.0), risk_free_rate = risk_free_rate)"
   ]
  },
  {
   "cell_type": "markdown",
   "id": "3df872c9-861f-49bc-9b46-280b1d6666f2",
   "metadata": {},
   "source": [
    "Next, we estimate the expected excess return for each firm from the `all_firms_excess_return_matrix` using the `mean(...)` function, which is exported by the [Statistics.jl package](https://docs.julialang.org/en/v1/stdlib/Statistics/). We save the $N\\times{1}$ vector of expected values, i.e., $\\mathbb{E}(R_{1}),\\dotsc,\\mathbb{E}(R_{N})$ in the variable `μ`:"
   ]
  },
  {
   "cell_type": "code",
   "execution_count": 16,
   "id": "7519be34-b42a-4315-a773-78ca6594efe3",
   "metadata": {
    "tags": []
   },
   "outputs": [],
   "source": [
    "μ = mean(all_firms_excess_return_matrix, dims=1) |> vec;"
   ]
  },
  {
   "cell_type": "markdown",
   "id": "76d2de23-284e-43e5-9ed3-aacc3181e813",
   "metadata": {},
   "source": [
    "Finally, we estimate the annualized `covariance_matrix` from the `all_firms_return_matrix` using the `cov(...)` function, exported by the [Statistics.jl package](https://docs.julialang.org/en/v1/stdlib/Statistics/). We store the $N\\times{N}$ covariance matrix in the $\\Sigma$ variable:"
   ]
  },
  {
   "cell_type": "code",
   "execution_count": 18,
   "id": "a7f60651-73b8-4b2c-83b9-130197f669fc",
   "metadata": {
    "tags": []
   },
   "outputs": [
    {
     "data": {
      "text/plain": [
       "460×460 Matrix{Float64}:\n",
       " 0.0655367  0.0409146  0.0273076  …  0.0444449  0.0343089  0.0362875\n",
       " 0.0409146  0.283809   0.0573645     0.069817   0.0986843  0.0383996\n",
       " 0.0273076  0.0573645  0.12501       0.0392735  0.0510524  0.0292667\n",
       " 0.0323065  0.0444841  0.0236737     0.045334   0.0268079  0.0336129\n",
       " 0.0198861  0.0206277  0.0201981     0.0175898  0.0216887  0.0225977\n",
       " 0.0317812  0.0228434  0.0180639  …  0.0300955  0.0202344  0.0301296\n",
       " 0.0345523  0.0475915  0.0321036     0.0448403  0.0392157  0.0353211\n",
       " 0.0387532  0.0358116  0.0245768     0.0519358  0.023438   0.0383791\n",
       " 0.0383595  0.063833   0.0295398     0.055052   0.0425233  0.033446\n",
       " 0.0209082  0.047045   0.0262508     0.0282589  0.0450202  0.0181709\n",
       " 0.028523   0.0471555  0.0297807  …  0.0372987  0.0362684  0.030892\n",
       " 0.0483308  0.0647852  0.0352406     0.0650439  0.041227   0.0429126\n",
       " 0.0167745  0.0184331  0.0190468     0.0163051  0.0187535  0.0207827\n",
       " ⋮                                ⋱                        \n",
       " 0.0225894  0.0546669  0.0286804     0.0329627  0.0450235  0.0232011\n",
       " 0.0365112  0.0817468  0.0427176     0.0537856  0.0589841  0.0348148\n",
       " 0.042611   0.144238   0.0506673  …  0.0650722  0.0870568  0.0414873\n",
       " 0.0145437  0.0143376  0.0174237     0.0122711  0.0137511  0.0188275\n",
       " 0.0221861  0.0639586  0.0276175     0.0346384  0.0574745  0.0195703\n",
       " 0.0289278  0.0574626  0.0308949     0.0332916  0.0486605  0.0295438\n",
       " 0.0356019  0.0663898  0.030569      0.0446468  0.0497479  0.0306236\n",
       " 0.0238194  0.0469344  0.0280667  …  0.0296962  0.0293565  0.0285984\n",
       " 0.0326716  0.0686421  0.0327006     0.0404702  0.0471118  0.0338005\n",
       " 0.0444449  0.069817   0.0392735     0.129926   0.0570734  0.0408721\n",
       " 0.0343089  0.0986843  0.0510524     0.0570734  0.161157   0.0267712\n",
       " 0.0362875  0.0383996  0.0292667     0.0408721  0.0267712  0.0595073"
      ]
     },
     "execution_count": 18,
     "metadata": {},
     "output_type": "execute_result"
    }
   ],
   "source": [
    "Σ = cov(all_firms_excess_return_matrix) |> x-> x*(1/252) # annualized, historical volatility from data"
   ]
  },
  {
   "cell_type": "markdown",
   "id": "fd2f2892-1281-4b29-8b5e-bc59a74dfee1",
   "metadata": {},
   "source": [
    "Estimate the annualized `correlation matrix` (assuming `252` trading days per year) from the `all_firms_return_matrix` using the [cor(...) function](https://docs.julialang.org/en/v1/stdlib/Statistics/#Statistics.cor), exported by the [Statistics.jl package](https://docs.julialang.org/en/v1/stdlib/Statistics/). We store the $N\\times{N}$ correlation matrix in the $ρ$ variable:"
   ]
  },
  {
   "cell_type": "code",
   "execution_count": 20,
   "id": "774fa449-8bbd-4306-bcf0-0f4f0e1453e5",
   "metadata": {},
   "outputs": [
    {
     "data": {
      "text/plain": [
       "460×460 Matrix{Float64}:\n",
       " 1.0       0.300001  0.301695  0.479962  …  0.48165   0.333841  0.581071\n",
       " 0.300001  1.0       0.304549  0.317579     0.36358   0.461435  0.29548\n",
       " 0.301695  0.304549  1.0       0.254655     0.308162  0.359682  0.339325\n",
       " 0.479962  0.317579  0.254655  1.0          0.47834   0.253979  0.52406\n",
       " 0.304411  0.151737  0.223867  0.267654     0.191234  0.211721  0.363022\n",
       " 0.5611    0.193803  0.230915  0.446208  …  0.37737   0.227813  0.55824\n",
       " 0.557203  0.368804  0.374852  0.577663     0.51357   0.403288  0.597762\n",
       " 0.497469  0.220908  0.22843   0.592591     0.473501  0.191866  0.517024\n",
       " 0.534947  0.427773  0.298274  0.565422     0.545263  0.378167  0.489485\n",
       " 0.352345  0.380973  0.320304  0.31355      0.338222  0.483813  0.321355\n",
       " 0.486248  0.3863    0.367593  0.481361  …  0.451597  0.394284  0.55267\n",
       " 0.547685  0.352786  0.289148  0.542806     0.523489  0.297925  0.510328\n",
       " 0.312193  0.164855  0.256664  0.290533     0.215522  0.222574  0.405913\n",
       " ⋮                                       ⋱                      \n",
       " 0.33564   0.390322  0.308548  0.33613      0.347845  0.426606  0.361773\n",
       " 0.460143  0.49507   0.3898    0.44248      0.481424  0.474044  0.460455\n",
       " 0.340466  0.553811  0.293123  0.375041  …  0.369269  0.443582  0.347877\n",
       " 0.287902  0.136388  0.249735  0.289226     0.172524  0.173591  0.391128\n",
       " 0.297873  0.412647  0.268475  0.286367     0.330296  0.492088  0.275743\n",
       " 0.359474  0.343135  0.277976  0.281978     0.29382   0.385608  0.385279\n",
       " 0.518415  0.464553  0.322296  0.417341     0.461731  0.461953  0.46797\n",
       " 0.41707   0.394911  0.355828  0.406742  …  0.369295  0.327794  0.525507\n",
       " 0.459092  0.4635    0.332702  0.425792     0.403887  0.42216   0.498437\n",
       " 0.48165   0.36358   0.308162  0.47834      1.0       0.394423  0.46483\n",
       " 0.333841  0.461435  0.359682  0.253979     0.394423  1.0       0.273375\n",
       " 0.581071  0.29548   0.339325  0.52406      0.46483   0.273375  1.0"
      ]
     },
     "execution_count": 20,
     "metadata": {},
     "output_type": "execute_result"
    }
   ],
   "source": [
    "ρ = cor(all_firms_excess_return_matrix) # correlation matrix"
   ]
  },
  {
   "cell_type": "markdown",
   "id": "0ac860fb-6307-4f31-be40-001bd6aa600e",
   "metadata": {},
   "source": [
    "### Load single index models, compute the single index returns and covariance"
   ]
  },
  {
   "cell_type": "code",
   "execution_count": 22,
   "id": "4a228ac1-8c15-4349-9bd6-6eefadcd5c66",
   "metadata": {
    "tags": []
   },
   "outputs": [
    {
     "data": {
      "text/plain": [
       "Dict{String, MySingleIndexModel} with 460 entries:\n",
       "  \"NI\"   => MySingleIndexModel(-0.0709741, 0.652999, 0.05, Normal{Float64}(μ=1.…\n",
       "  \"EMR\"  => MySingleIndexModel(-0.0523764, 1.23526, 0.05, Normal{Float64}(μ=-1.…\n",
       "  \"CTAS\" => MySingleIndexModel(0.121408, 1.17936, 0.05, Normal{Float64}(μ=2.298…\n",
       "  \"HSIC\" => MySingleIndexModel(-0.0820776, 0.913675, 0.05, Normal{Float64}(μ=1.…\n",
       "  \"KIM\"  => MySingleIndexModel(-0.0786588, 1.28859, 0.05, Normal{Float64}(μ=-6.…\n",
       "  \"PLD\"  => MySingleIndexModel(0.0276239, 1.02836, 0.05, Normal{Float64}(μ=-1.4…\n",
       "  \"IEX\"  => MySingleIndexModel(-0.0098079, 0.963259, 0.05, Normal{Float64}(μ=-1…\n",
       "  \"BAC\"  => MySingleIndexModel(-0.0885823, 1.32778, 0.05, Normal{Float64}(μ=-6.…\n",
       "  \"CBOE\" => MySingleIndexModel(-0.0143917, 0.588498, 0.05, Normal{Float64}(μ=3.…\n",
       "  \"EXR\"  => MySingleIndexModel(0.0222396, 0.725388, 0.05, Normal{Float64}(μ=1.0…\n",
       "  \"NCLH\" => MySingleIndexModel(-0.321969, 2.32891, 0.05, Normal{Float64}(μ=1.12…\n",
       "  \"CVS\"  => MySingleIndexModel(-0.0727375, 0.78292, 0.05, Normal{Float64}(μ=-6.…\n",
       "  \"DRI\"  => MySingleIndexModel(-0.0246557, 1.36306, 0.05, Normal{Float64}(μ=-5.…\n",
       "  \"DTE\"  => MySingleIndexModel(-0.0810004, 0.769165, 0.05, Normal{Float64}(μ=-9…\n",
       "  \"ZION\" => MySingleIndexModel(-0.133986, 1.36377, 0.05, Normal{Float64}(μ=2.91…\n",
       "  \"AVY\"  => MySingleIndexModel(-0.00850994, 1.16058, 0.05, Normal{Float64}(μ=-9…\n",
       "  \"EW\"   => MySingleIndexModel(0.0170927, 1.11274, 0.05, Normal{Float64}(μ=-2.1…\n",
       "  \"EA\"   => MySingleIndexModel(-0.041578, 0.629636, 0.05, Normal{Float64}(μ=6.3…\n",
       "  \"NWSA\" => MySingleIndexModel(-0.0333702, 1.12238, 0.05, Normal{Float64}(μ=1.2…\n",
       "  \"CAG\"  => MySingleIndexModel(-0.113992, 0.437623, 0.05, Normal{Float64}(μ=-6.…\n",
       "  \"GILD\" => MySingleIndexModel(-0.05894, 0.516018, 0.05, Normal{Float64}(μ=1.88…\n",
       "  \"FCX\"  => MySingleIndexModel(0.00087543, 1.80621, 0.05, Normal{Float64}(μ=-4.…\n",
       "  \"GPC\"  => MySingleIndexModel(-0.0382007, 1.06584, 0.05, Normal{Float64}(μ=-5.…\n",
       "  \"UNP\"  => MySingleIndexModel(0.00276248, 1.03174, 0.05, Normal{Float64}(μ=4.5…\n",
       "  \"CDW\"  => MySingleIndexModel(0.0900448, 1.21706, 0.05, Normal{Float64}(μ=8.39…\n",
       "  ⋮      => ⋮"
      ]
     },
     "execution_count": 22,
     "metadata": {},
     "output_type": "execute_result"
    }
   ],
   "source": [
    "sim_model_dictionary = load(joinpath(_PATH_TO_DATA, \"SIMs-SP500-01-03-18-to-12-29-23.jld2\")) |> x->x[\"sim\"]"
   ]
  },
  {
   "cell_type": "markdown",
   "id": "1c71da00-cb71-40c9-a486-c01be98cdf1c",
   "metadata": {},
   "source": [
    "Pull out the excess return of the `market portfolio` from `all_firms_excess_return_matrix`. To do this, look up the index for our market portfolio surrogate `SPY,` then get this column of data from the `all_firms_excess_return_matrix.` We'll store the excess return data for `SPY` in the `Rₘ` variable:"
   ]
  },
  {
   "cell_type": "code",
   "execution_count": 24,
   "id": "86e3f4a1-b7dd-4ef9-8fff-9555a6571416",
   "metadata": {
    "tags": []
   },
   "outputs": [],
   "source": [
    "Rₘ = findfirst(x->x == \"SPY\", list_of_all_tickers) |> i -> μ[i];"
   ]
  },
  {
   "cell_type": "markdown",
   "id": "ba8ba6d4-726d-4254-a396-39478ef6ce0c",
   "metadata": {},
   "source": [
    "#### Expected return single index model\n",
    "Now, compute the expected return for each ticker in the `dataset` using the `single index models` computed in `Lab 12b` using a `for-loop.` For iteration of the loop:\n",
    "* Get the `ticker` symbol from the `list_of_all_tickers` array, and pull out the corresponding `single index model` from the `sim_model_dictionary` dictionary\n",
    "* Next, pull out the $(\\alpha, \\beta)$ parameters from the `sim` model instance and compute the expected return $\\mathbb{E}(R_{i})$. Store the expected return in the `μ̂` array"
   ]
  },
  {
   "cell_type": "code",
   "execution_count": 26,
   "id": "6d9258a1-0c39-4721-8d8c-e67070072ff5",
   "metadata": {
    "tags": []
   },
   "outputs": [],
   "source": [
    "μ_sim = Array{Float64,1}();\n",
    "for i ∈ eachindex(list_of_all_tickers)\n",
    "    sim = list_of_all_tickers[i] |> ticker -> sim_model_dictionary[ticker];   \n",
    "    αᵢ = sim.α\n",
    "    βᵢ = sim.β\n",
    "    (αᵢ+βᵢ*Rₘ) |> R̄ᵢ-> push!(μ_sim,R̄ᵢ);\n",
    "end"
   ]
  },
  {
   "cell_type": "markdown",
   "id": "f28f3361-7a89-46f0-be64-2519f5a7041e",
   "metadata": {},
   "source": [
    "#### Covariance\n",
    "Next, build the single index model version of the covariance array. Substituting the single index model for the excess return of asset $i$ and $j$ into the covariance expression (and simplifying) gives:\n",
    "\n",
    "$$\n",
    "\\begin{equation*}\n",
    "\\text{cov}(R_{i}, R_{j}) = \\begin{cases}\n",
    "\\beta_{i}^{2}\\sigma_{m}^{2}+\\sigma_{\\epsilon_{i}}^{2} & i = j \\\\\n",
    "\\beta_{i}\\beta_{j}\\sigma_{m}^2 & i \\neq j\n",
    "\\end{cases}\n",
    "\\end{equation*}\n",
    "$$\n",
    "\n",
    "where $\\sigma_{m}^2$ denotes the variance of the excess return of the market,  and $\\sigma_{\\epsilon_{i}}^{2}$ denotes the variance of the firm-specific error model."
   ]
  },
  {
   "cell_type": "code",
   "execution_count": 28,
   "id": "f9cd87c4-f581-4e3e-a000-88d10a9d5e7e",
   "metadata": {
    "tags": []
   },
   "outputs": [],
   "source": [
    "σₘ = findfirst(x->x == \"SPY\", list_of_all_tickers) |> i-> std(all_firms_excess_return_matrix[:, i]);"
   ]
  },
  {
   "cell_type": "markdown",
   "id": "40ef12a8-9ad5-46d9-8518-4b5387b5fef7",
   "metadata": {},
   "source": [
    "We populate the single index covariance array using nested `for-loops`, where we store the single-index covariance matrix in the `Σ̂`variable:"
   ]
  },
  {
   "cell_type": "code",
   "execution_count": 30,
   "id": "88163f26-dd92-49f3-9205-729192450f7e",
   "metadata": {
    "tags": []
   },
   "outputs": [
    {
     "data": {
      "text/plain": [
       "460×460 Matrix{Float64}:\n",
       " 0.0655125  0.0474137  0.0270404  …  0.0382685  0.0368694  0.028433\n",
       " 0.0474137  0.283672   0.0442603     0.0626386  0.0603485  0.0465398\n",
       " 0.0270404  0.0442603  0.124944      0.0357233  0.0344173  0.026542\n",
       " 0.0335284  0.0548799  0.0312985     0.0442946  0.0426752  0.0329104\n",
       " 0.0191946  0.0314181  0.017918      0.0253581  0.024431   0.0188408\n",
       " 0.0225451  0.0369023  0.0210457  …  0.0297845  0.0286956  0.0221295\n",
       " 0.0327104  0.0535409  0.0305348     0.0432139  0.041634   0.0321074\n",
       " 0.0339976  0.055648   0.0317365     0.0449145  0.0432724  0.033371\n",
       " 0.0335058  0.0548429  0.0312774     0.0442647  0.0426464  0.0328882\n",
       " 0.0223401  0.0365666  0.0208543     0.0295136  0.0284346  0.0219283\n",
       " 0.0275607  0.0451119  0.0257277  …  0.0364106  0.0350795  0.0270527\n",
       " 0.0398017  0.0651482  0.0371546     0.0525823  0.0506599  0.0390681\n",
       " 0.016821   0.0275329  0.0157022     0.0222223  0.0214099  0.0165109\n",
       " ⋮                                ⋱                        \n",
       " 0.0233556  0.0382289  0.0218022     0.0308552  0.0297272  0.0229251\n",
       " 0.0362529  0.0593394  0.0338417     0.0478939  0.0461429  0.0355846\n",
       " 0.0478076  0.0782523  0.044628   …  0.0631589  0.0608498  0.0469263\n",
       " 0.0150289  0.0245996  0.0140293     0.0198548  0.0191289  0.0147519\n",
       " 0.0275063  0.0450229  0.0256769     0.0363388  0.0350103  0.0269993\n",
       " 0.0267399  0.0437683  0.0249614     0.0353262  0.0340347  0.026247\n",
       " 0.0310632  0.0508449  0.0289972     0.0410378  0.0395375  0.0304906\n",
       " 0.024018   0.0393132  0.0224206  …  0.0317304  0.0305703  0.0235753\n",
       " 0.0313196  0.0512645  0.0292365     0.0413765  0.0398638  0.0307423\n",
       " 0.0382685  0.0626386  0.0357233     0.129873   0.0487084  0.0375631\n",
       " 0.0368694  0.0603485  0.0344173     0.0487084  0.161081   0.0361898\n",
       " 0.028433   0.0465398  0.026542      0.0375631  0.0361898  0.0594863"
      ]
     },
     "execution_count": 30,
     "metadata": {},
     "output_type": "execute_result"
    }
   ],
   "source": [
    "Σ_tmp = Array{Float64,2}(undef, length(μ), length(μ));\n",
    "for i ∈ eachindex(list_of_all_tickers)\n",
    "    outer_ticker = list_of_all_tickers[i];\n",
    "    sim_outer = sim_model_dictionary[outer_ticker];\n",
    "    \n",
    "    for j ∈ eachindex(list_of_all_tickers)\n",
    "        \n",
    "        inner_ticker = list_of_all_tickers[j];\n",
    "        sim_inner = sim_model_dictionary[inner_ticker];\n",
    "        \n",
    "        if (i == j)\n",
    "            βᵢ = sim_outer.β\n",
    "            ϵᵢ = sim_outer.ϵ\n",
    "            σ_ϵᵢ = params(ϵᵢ)[2];\n",
    "            Σ_tmp[i,j] = ((βᵢ)^2)*((σₘ)^2)+(σ_ϵᵢ)^2\n",
    "        else\n",
    "            βᵢ = sim_outer.β\n",
    "            βⱼ = sim_inner.β\n",
    "            Σ_tmp[i,j] = βᵢ*βⱼ*(σₘ)^2\n",
    "        end\n",
    "    end\n",
    "end\n",
    "Σ_sim  = Σ_tmp |> x-> x*(1/252)"
   ]
  },
  {
   "cell_type": "markdown",
   "id": "a1629d42-8a18-4f85-9f61-842600e6c4fc",
   "metadata": {},
   "source": [
    "Not sure what I'm doing here"
   ]
  },
  {
   "cell_type": "code",
   "execution_count": 32,
   "id": "de2946ed-5503-45ce-813a-0634c0331899",
   "metadata": {
    "tags": []
   },
   "outputs": [
    {
     "data": {
      "text/plain": [
       "0.31158268690197766"
      ]
     },
     "execution_count": 32,
     "metadata": {},
     "output_type": "execute_result"
    }
   ],
   "source": [
    "index_ticker = findfirst(x->x==\"INTC\", list_of_all_tickers);\n",
    "Σ_sim[index_ticker,index_ticker] |> x-> sqrt(x)"
   ]
  },
  {
   "cell_type": "markdown",
   "id": "2ddbb66e-c036-4622-9426-dd4e7ed131e4",
   "metadata": {},
   "source": [
    "## Task 1: Build the return array and covariance matrix for our tickers\n",
    "Before we compute the efficient frontier from data and single index models, we must decide which stocks to include in the risky portfolio. One strategy is to pick stocks that have small or even negative correlations. Let's explore this idea. Let's select a few tickers of interest and then compute their `low` correlation partner firms using the tools from previous modules in `CHEME 135`. \n",
    "* Describe what I'm doing here"
   ]
  },
  {
   "cell_type": "code",
   "execution_count": 34,
   "id": "2b5d8235-ceb0-4a19-a916-bc3ae4960b5b",
   "metadata": {},
   "outputs": [],
   "source": [
    "correlated_ticker_pairs = Dict{String,Array{String,1}}();\n",
    "for i ∈ eachindex(list_of_all_tickers)\n",
    "    test_ticker = list_of_all_tickers[i];\n",
    "    id = sortperm(ρ[i,:])\n",
    "\n",
    "    my_low_correlation_ticker_array = Array{String,1}()\n",
    "    for j ∈ eachindex(id)\n",
    "        push!(my_low_correlation_ticker_array, list_of_all_tickers[id[j]])\n",
    "    end\n",
    "    \n",
    "    correlated_ticker_pairs[test_ticker] = my_low_correlation_ticker_array\n",
    "end"
   ]
  },
  {
   "cell_type": "markdown",
   "id": "b291e60c-6cda-43b9-ab72-fee4eb6b595f",
   "metadata": {},
   "source": [
    "Next, specify a collection of tickers that interest you in the `my_list_of_tickers` array, e.g., `AAPL,` `MSFT,` etc. We'll then find the `low` correlation twin tickers, and these (along with the initial tickers) in the `my_low_correlation_ticker_array` array:"
   ]
  },
  {
   "cell_type": "code",
   "execution_count": 36,
   "id": "987b9082-695b-476d-98bd-11bf8c285514",
   "metadata": {
    "tags": []
   },
   "outputs": [],
   "source": [
    "my_list_of_tickers = [\"AAPL\", \"MSFT\", \"INTC\", \"MU\", \"AMD\", \"GS\", \"BAC\", \"WFC\", \"C\", \"F\", \"GM\"];\n",
    "my_low_correlation_ticker_array = Array{String,1}();\n",
    "for base_ticker ∈ my_list_of_tickers\n",
    "\n",
    "    correlated_list_of_tickers = correlated_ticker_pairs[base_ticker];\n",
    "    \n",
    "    # find high correlation tickers - \n",
    "    counter = 0;\n",
    "    twin_ticker = base_ticker;\n",
    "    while !(in(twin_ticker, my_low_correlation_ticker_array) == false && twin_ticker != base_ticker)\n",
    "        twin_ticker = correlated_list_of_tickers[counter+1];\n",
    "        counter += 1;\n",
    "    end\n",
    "\n",
    "    push!(my_low_correlation_ticker_array, base_ticker)\n",
    "    push!(my_low_correlation_ticker_array, twin_ticker)\n",
    "end\n",
    "my_low_correlation_ticker_array;"
   ]
  },
  {
   "cell_type": "markdown",
   "id": "9d4ca8e5-e3e3-4efb-ae95-833e87cbeac0",
   "metadata": {},
   "source": [
    "Finally, we'll get the indexes of the `low` correlation tickers that we computed above, i.e., we'll look up the position of the tickers in the `list_of_all_tickers` list and save these values in the `my_list_of_firm_ids` variable:"
   ]
  },
  {
   "cell_type": "code",
   "execution_count": 38,
   "id": "d2a229ee-2a1b-482e-af66-daaef1364249",
   "metadata": {},
   "outputs": [],
   "source": [
    "my_list_of_firm_ids = Array{Int64,1}();\n",
    "for ticker ∈ my_list_of_tickers\n",
    "    findfirst(x->x==ticker, list_of_all_tickers) |> i -> push!(my_list_of_firm_ids, i);\n",
    "end"
   ]
  },
  {
   "cell_type": "markdown",
   "id": "c27ba58a-3226-4883-844d-5b1ce084871a",
   "metadata": {},
   "source": [
    "Now that you have selected the firms in your risky portfolio, we'll compute for you the firm-specific expected return vector and covariance matrix. We'll store these in the $\\hat{\\mu}$ and $\\hat{\\Sigma}$ variables. First, we'll construct the $\\hat{\\mu}$ vector for the `data` and `single index model` versions of the problem:"
   ]
  },
  {
   "cell_type": "code",
   "execution_count": 40,
   "id": "edf0c44d-4af0-4a1a-86b7-42706212871b",
   "metadata": {
    "tags": []
   },
   "outputs": [],
   "source": [
    "# --- DO NOT CHANGE THIS BLOCK ----------------------------------------- #\n",
    "μ̂ = Array{Float64,1}();\n",
    "μ̂_sim = Array{Float64,1}();\n",
    "for firm_index ∈ my_list_of_firm_ids\n",
    "    push!(μ̂, μ[firm_index])\n",
    "    push!(μ̂_sim, μ_sim[firm_index])\n",
    "end\n",
    "# ---------------------------------------------------------------------- #"
   ]
  },
  {
   "cell_type": "markdown",
   "id": "cf6e0031-89ac-48c5-a79e-0f5ae86983f6",
   "metadata": {},
   "source": [
    "and then we'll compute the firm-specific covariance $\\hat{\\Sigma}$ matrix for the `data` version of the problem:"
   ]
  },
  {
   "cell_type": "code",
   "execution_count": 42,
   "id": "16c088cc-0253-4d4d-8561-b7a084bac211",
   "metadata": {
    "tags": []
   },
   "outputs": [],
   "source": [
    "# --- DO NOT CHANGE THIS BLOCK ----------------------------------------- #\n",
    "my_number_of_selected_firms = length(my_list_of_firm_ids)\n",
    "Σ̂ = Array{Float64,2}(undef, my_number_of_selected_firms, my_number_of_selected_firms);\n",
    "for i ∈ eachindex(my_list_of_firm_ids)\n",
    "    row_firm_index = my_list_of_firm_ids[i]\n",
    "    for j ∈ eachindex(my_list_of_firm_ids)\n",
    "        col_firm_index = my_list_of_firm_ids[j]\n",
    "        Σ̂[i,j] = Σ[row_firm_index, col_firm_index]\n",
    "    end\n",
    "end\n",
    "# ---------------------------------------------------------------------- #"
   ]
  },
  {
   "cell_type": "markdown",
   "id": "b91fec59-ddba-47fa-95b0-b76145953015",
   "metadata": {},
   "source": [
    "and then the single index model version of the problem:"
   ]
  },
  {
   "cell_type": "code",
   "execution_count": 44,
   "id": "a041c01a-856f-4bd5-a10c-395418a57e76",
   "metadata": {
    "tags": []
   },
   "outputs": [],
   "source": [
    "# --- DO NOT CHANGE THIS BLOCK FOR SIM  -------------------------------- #\n",
    "my_number_of_selected_firms = length(my_list_of_firm_ids)\n",
    "Σ̂_sim = Array{Float64,2}(undef, my_number_of_selected_firms, my_number_of_selected_firms);\n",
    "for i ∈ eachindex(my_list_of_firm_ids)\n",
    "    row_firm_index = my_list_of_firm_ids[i]\n",
    "    for j ∈ eachindex(my_list_of_firm_ids)\n",
    "        col_firm_index = my_list_of_firm_ids[j]\n",
    "        Σ̂_sim[i,j] = Σ_sim[row_firm_index, col_firm_index]\n",
    "    end\n",
    "end\n",
    "# ---------------------------------------------------------------------- #"
   ]
  },
  {
   "cell_type": "markdown",
   "id": "401a2d24-deb1-4bbb-ba05-2f6c7611ea20",
   "metadata": {},
   "source": [
    "## Task 2: Compute the efficient frontier for your collection of stocks\n",
    "Create an instance of the `MyMarkowitzRiskyAssetOnlyPortfiolioChoiceProblem` type, and store this in the `problem_risk` variable using the `build(...)` method. You'll need to pass your covariance array $\\hat{\\Sigma}$, the expected return array $\\hat{\\mu}$, along with bounds and an initial guess, to the `build(...)` method. \n",
    "\n",
    "Let's setup the bounds, and some other constants:"
   ]
  },
  {
   "cell_type": "code",
   "execution_count": 46,
   "id": "0840da92-f0f9-4072-9df6-39f09e6c4e4d",
   "metadata": {
    "tags": []
   },
   "outputs": [],
   "source": [
    "number_of_firms = length(my_list_of_tickers);\n",
    "wₒ = zeros(number_of_firms);\n",
    "wₒ[1] = 1.0;\n",
    "bounds = zeros(number_of_firms,2);\n",
    "bounds[:,2] .= 1.0;\n",
    "risk_free_rate = 0.05;\n",
    "number_of_points = 40;"
   ]
  },
  {
   "cell_type": "markdown",
   "id": "ba901c71-c62c-44d9-9976-1d08e83f8350",
   "metadata": {},
   "source": [
    "and the build an instance of the `MyMarkowitzRiskyAssetOnlyPortfiolioChoiceProblem` type, using the `build(...)` method. Save the `data` version of the problem in the `problem_risk` variable:"
   ]
  },
  {
   "cell_type": "code",
   "execution_count": 48,
   "id": "4ba80199-8917-4357-a800-4c973148de3d",
   "metadata": {
    "tags": []
   },
   "outputs": [],
   "source": [
    "problem_risk = build(MyMarkowitzRiskyAssetOnlyPortfiolioChoiceProblem, (\n",
    "    Σ = Σ̂,\n",
    "    μ = μ̂,\n",
    "    bounds = bounds,\n",
    "    initial = wₒ,\n",
    "    R = 0.0\n",
    "));"
   ]
  },
  {
   "cell_type": "markdown",
   "id": "10d8346c-4d38-495c-8550-d63576c4051a",
   "metadata": {},
   "source": [
    "and the single index model version of the problem in the `problem_risk_sim` variable:"
   ]
  },
  {
   "cell_type": "code",
   "execution_count": 50,
   "id": "8fe92cd2-dd7f-46e2-9a10-7a9f1de3f2d0",
   "metadata": {
    "tags": []
   },
   "outputs": [],
   "source": [
    "problem_risk_sim = build(MyMarkowitzRiskyAssetOnlyPortfiolioChoiceProblem, (\n",
    "    Σ = Σ̂_sim,\n",
    "    μ = μ̂_sim,\n",
    "    bounds = bounds,\n",
    "    initial = wₒ,\n",
    "    R = 0.0\n",
    "));"
   ]
  },
  {
   "cell_type": "markdown",
   "id": "287c4ec0-e9d4-45c9-9c2e-7db7911b4b41",
   "metadata": {},
   "source": [
    "Next, we create an array with the minimum desired rewards (the calculation must achieve at least this much reward). We store these values in the `minimum_desired_reward_array` variable:"
   ]
  },
  {
   "cell_type": "code",
   "execution_count": 52,
   "id": "a62e9f23-02cb-4c3c-b5a0-30215ca2c86f",
   "metadata": {
    "tags": []
   },
   "outputs": [],
   "source": [
    "minimum_desired_reward_array = range(0.0, stop = 0.5 - risk_free_rate, length = number_of_points) |> collect;"
   ]
  },
  {
   "cell_type": "markdown",
   "id": "9e583610-fae9-4325-a3d1-70476ad2847c",
   "metadata": {},
   "source": [
    "Finally, we iterate through the `minimum_desired_reward_array` and compute the minimum risk required to achieve the specified reward level using a `for-loop`. In particular, for each pass through the loop, we:\n",
    "* Update the `problem_risk` variable with the minimum desired reward\n",
    "* We then pass the updated `problem` object to the `solve(...)` method (which initializes and solves the optimization problem). The solution returned from the `solve(...)` method is stored in the `solution` dictionary. \n",
    "* We check the `status` of the solution. If the `status` indicates an optimal solution was found, we store the solution in the `frontier` dictionary."
   ]
  },
  {
   "cell_type": "code",
   "execution_count": 54,
   "id": "8c80968c-cdf4-4759-9bc5-c21a32a40055",
   "metadata": {
    "tags": []
   },
   "outputs": [
    {
     "data": {
      "text/plain": [
       "Dict{Float64, Float64} with 33 entries:\n",
       "  0.215964 => 0.173077\n",
       "  0.265731 => 0.253846\n",
       "  0.328846 => 0.3\n",
       "  0.347279 => 0.311538\n",
       "  0.279546 => 0.265385\n",
       "  0.22423  => 0.196154\n",
       "  0.219729 => 0.184615\n",
       "  0.205634 => 0.101229\n",
       "  0.253599 => 0.242308\n",
       "  0.243402 => 0.230769\n",
       "  0.366467 => 0.323077\n",
       "  0.311303 => 0.288462\n",
       "  0.448786 => 0.369231\n",
       "  0.206032 => 0.115385\n",
       "  0.205634 => 0.101229\n",
       "  0.205634 => 0.101229\n",
       "  0.235392 => 0.219231\n",
       "  0.406678 => 0.346154\n",
       "  0.206959 => 0.126923\n",
       "  0.294808 => 0.276923\n",
       "  0.205634 => 0.101229\n",
       "  0.21291  => 0.161538\n",
       "  0.229423 => 0.207692\n",
       "  0.205634 => 0.101229\n",
       "  0.205647 => 0.103847\n",
       "  ⋮        => ⋮"
      ]
     },
     "execution_count": 54,
     "metadata": {},
     "output_type": "execute_result"
    }
   ],
   "source": [
    "efficient_frontier = Dict{Float64,Float64}();\n",
    "for i ∈ eachindex(minimum_desired_reward_array)\n",
    "    \n",
    "    # update the problem object -\n",
    "    problem_risk.R = minimum_desired_reward_array[i];\n",
    "\n",
    "    try\n",
    "        solution = solve(problem_risk)\n",
    "\n",
    "        # check: did this converge?\n",
    "        status_flag = solution[\"status\"];    \n",
    "        if (status_flag == MathOptInterface.LOCALLY_SOLVED)\n",
    "            key = sqrt(solution[\"objective_value\"]);\n",
    "            value = solution[\"reward\"];\n",
    "            efficient_frontier[key] = value;\n",
    "        end\n",
    "    catch err\n",
    "    end\n",
    "end\n",
    "efficient_frontier"
   ]
  },
  {
   "cell_type": "markdown",
   "id": "60b0b348-5129-46cf-836f-7c407bfbc032",
   "metadata": {},
   "source": [
    "Let's now do this for the single index model case, where we store the results in the `efficient_frontier_sim` dictionary:"
   ]
  },
  {
   "cell_type": "code",
   "execution_count": 56,
   "id": "ef9652f6-cd88-4036-8efd-ed0cc11132cb",
   "metadata": {
    "tags": []
   },
   "outputs": [
    {
     "data": {
      "text/plain": [
       "Dict{Float64, Float64} with 33 entries:\n",
       "  0.207468 => 0.100233\n",
       "  0.207468 => 0.100233\n",
       "  0.361095 => 0.323077\n",
       "  0.208289 => 0.126923\n",
       "  0.218067 => 0.196154\n",
       "  0.243187 => 0.242308\n",
       "  0.26973  => 0.265385\n",
       "  0.213463 => 0.173077\n",
       "  0.321387 => 0.3\n",
       "  0.207468 => 0.100233\n",
       "  0.448082 => 0.369231\n",
       "  0.209148 => 0.138462\n",
       "  0.255486 => 0.253846\n",
       "  0.215571 => 0.184615\n",
       "  0.207468 => 0.100233\n",
       "  0.340831 => 0.311538\n",
       "  0.210308 => 0.15\n",
       "  0.211744 => 0.161538\n",
       "  0.28563  => 0.276923\n",
       "  0.207483 => 0.103849\n",
       "  0.225655 => 0.219231\n",
       "  0.207468 => 0.100233\n",
       "  0.207468 => 0.100233\n",
       "  0.207468 => 0.100233\n",
       "  0.207733 => 0.115385\n",
       "  ⋮        => ⋮"
      ]
     },
     "execution_count": 56,
     "metadata": {},
     "output_type": "execute_result"
    }
   ],
   "source": [
    "efficient_frontier_sim = Dict{Float64,Float64}();\n",
    "for i ∈ eachindex(minimum_desired_reward_array)\n",
    "    \n",
    "    # update the problem object -\n",
    "    problem_risk_sim.R = minimum_desired_reward_array[i];\n",
    "\n",
    "    try\n",
    "        # compute -\n",
    "        solution_sim = solve(problem_risk_sim)\n",
    "\n",
    "        # check: did this converge?\n",
    "        status_flag = solution_sim[\"status\"];    \n",
    "        if (status_flag == MathOptInterface.LOCALLY_SOLVED)\n",
    "            key = sqrt(solution_sim[\"objective_value\"]);\n",
    "            value = solution_sim[\"reward\"];\n",
    "            efficient_frontier_sim[key] = value;\n",
    "        end\n",
    "    catch err\n",
    "    end\n",
    "end\n",
    "efficient_frontier_sim"
   ]
  },
  {
   "cell_type": "markdown",
   "id": "97244c7f-c619-4c4d-8bbd-f70c3b2ae812",
   "metadata": {},
   "source": [
    "### Visualize the Efficient Frontiers for the data and single index model"
   ]
  },
  {
   "cell_type": "code",
   "execution_count": 58,
   "id": "40d141d1-3652-40c8-bdbb-0634053827af",
   "metadata": {
    "tags": []
   },
   "outputs": [
    {
     "data": {
      "image/png": "[encoded data removed]",
      "image/svg+xml": [
       "<?xml version=\"1.0\" encoding=\"utf-8\"?>\n",
       "<svg xmlns=\"http://www.w3.org/2000/svg\" xmlns:xlink=\"http://www.w3.org/1999/xlink\" width=\"600\" height=\"400\" viewBox=\"0 0 2400 1600\">\n",
       "<defs>\n",
       "  <clipPath id=\"clip140\">\n",
       "    <rect x=\"0\" y=\"0\" width=\"2400\" height=\"1600\"/>\n",
       "  </clipPath>\n",
       "</defs>\n",
       "<path clip-path=\"url(#clip140)\" d=\"M0 1600 L2400 1600 L2400 8.88178e-14 L0 8.88178e-14  Z\" fill=\"#ffffff\" fill-rule=\"evenodd\" fill-opacity=\"1\"/>\n",
       "<defs>\n",
       "  <clipPath id=\"clip141\">\n",
       "    <rect x=\"480\" y=\"0\" width=\"1681\" height=\"1600\"/>\n",
       "  </clipPath>\n",
       "</defs>\n",
       "<path clip-path=\"url(#clip140)\" d=\"M249.542 1423.18 L2352.76 1423.18 L2352.76 47.2441 L249.542 47.2441  Z\" fill=\"#ffffff\" fill-rule=\"evenodd\" fill-opacity=\"1\"/>\n",
       "<defs>\n",
       "  <clipPath id=\"clip142\">\n",
       "    <rect x=\"249\" y=\"47\" width=\"2104\" height=\"1377\"/>\n",
       "  </clipPath>\n",
       "</defs>\n",
       "<polyline clip-path=\"url(#clip142)\" style=\"stroke:#000000; stroke-linecap:round; stroke-linejoin:round; stroke-width:2; stroke-opacity:0.1; fill:none\" points=\"249.542,1423.18 249.542,47.2441 \"/>\n",
       "<polyline clip-path=\"url(#clip142)\" style=\"stroke:#000000; stroke-linecap:round; stroke-linejoin:round; stroke-width:2; stroke-opacity:0.1; fill:none\" points=\"640.693,1423.18 640.693,47.2441 \"/>\n",
       "<polyline clip-path=\"url(#clip142)\" style=\"stroke:#000000; stroke-linecap:round; stroke-linejoin:round; stroke-width:2; stroke-opacity:0.1; fill:none\" points=\"1031.84,1423.18 1031.84,47.2441 \"/>\n",
       "<polyline clip-path=\"url(#clip142)\" style=\"stroke:#000000; stroke-linecap:round; stroke-linejoin:round; stroke-width:2; stroke-opacity:0.1; fill:none\" points=\"1422.99,1423.18 1422.99,47.2441 \"/>\n",
       "<polyline clip-path=\"url(#clip142)\" style=\"stroke:#000000; stroke-linecap:round; stroke-linejoin:round; stroke-width:2; stroke-opacity:0.1; fill:none\" points=\"1814.15,1423.18 1814.15,47.2441 \"/>\n",
       "<polyline clip-path=\"url(#clip142)\" style=\"stroke:#000000; stroke-linecap:round; stroke-linejoin:round; stroke-width:2; stroke-opacity:0.1; fill:none\" points=\"2205.3,1423.18 2205.3,47.2441 \"/>\n",
       "<polyline clip-path=\"url(#clip140)\" style=\"stroke:#000000; stroke-linecap:round; stroke-linejoin:round; stroke-width:4; stroke-opacity:1; fill:none\" points=\"249.542,1423.18 2352.76,1423.18 \"/>\n",
       "<polyline clip-path=\"url(#clip140)\" style=\"stroke:#000000; stroke-linecap:round; stroke-linejoin:round; stroke-width:4; stroke-opacity:1; fill:none\" points=\"249.542,1423.18 249.542,1404.28 \"/>\n",
       "<polyline clip-path=\"url(#clip140)\" style=\"stroke:#000000; stroke-linecap:round; stroke-linejoin:round; stroke-width:4; stroke-opacity:1; fill:none\" points=\"640.693,1423.18 640.693,1404.28 \"/>\n",
       "<polyline clip-path=\"url(#clip140)\" style=\"stroke:#000000; stroke-linecap:round; stroke-linejoin:round; stroke-width:4; stroke-opacity:1; fill:none\" points=\"1031.84,1423.18 1031.84,1404.28 \"/>\n",
       "<polyline clip-path=\"url(#clip140)\" style=\"stroke:#000000; stroke-linecap:round; stroke-linejoin:round; stroke-width:4; stroke-opacity:1; fill:none\" points=\"1422.99,1423.18 1422.99,1404.28 \"/>\n",
       "<polyline clip-path=\"url(#clip140)\" style=\"stroke:#000000; stroke-linecap:round; stroke-linejoin:round; stroke-width:4; stroke-opacity:1; fill:none\" points=\"1814.15,1423.18 1814.15,1404.28 \"/>\n",
       "<polyline clip-path=\"url(#clip140)\" style=\"stroke:#000000; stroke-linecap:round; stroke-linejoin:round; stroke-width:4; stroke-opacity:1; fill:none\" points=\"2205.3,1423.18 2205.3,1404.28 \"/>\n",
       "<path clip-path=\"url(#clip140)\" d=\"M226.926 1454.1 Q223.315 1454.1 221.487 1457.66 Q219.681 1461.2 219.681 1468.33 Q219.681 1475.44 221.487 1479.01 Q223.315 1482.55 226.926 1482.55 Q230.561 1482.55 232.366 1479.01 Q234.195 1475.44 234.195 1468.33 Q234.195 1461.2 232.366 1457.66 Q230.561 1454.1 226.926 1454.1 M226.926 1450.39 Q232.737 1450.39 235.792 1455 Q238.871 1459.58 238.871 1468.33 Q238.871 1477.06 235.792 1481.67 Q232.737 1486.25 226.926 1486.25 Q221.116 1486.25 218.038 1481.67 Q214.982 1477.06 214.982 1468.33 Q214.982 1459.58 218.038 1455 Q221.116 1450.39 226.926 1450.39 Z\" fill=\"#000000\" fill-rule=\"nonzero\" fill-opacity=\"1\" /><path clip-path=\"url(#clip140)\" d=\"M247.088 1479.7 L251.973 1479.7 L251.973 1485.58 L247.088 1485.58 L247.088 1479.7 Z\" fill=\"#000000\" fill-rule=\"nonzero\" fill-opacity=\"1\" /><path clip-path=\"url(#clip140)\" d=\"M272.158 1454.1 Q268.547 1454.1 266.718 1457.66 Q264.912 1461.2 264.912 1468.33 Q264.912 1475.44 266.718 1479.01 Q268.547 1482.55 272.158 1482.55 Q275.792 1482.55 277.597 1479.01 Q279.426 1475.44 279.426 1468.33 Q279.426 1461.2 277.597 1457.66 Q275.792 1454.1 272.158 1454.1 M272.158 1450.39 Q277.968 1450.39 281.023 1455 Q284.102 1459.58 284.102 1468.33 Q284.102 1477.06 281.023 1481.67 Q277.968 1486.25 272.158 1486.25 Q266.347 1486.25 263.269 1481.67 Q260.213 1477.06 260.213 1468.33 Q260.213 1459.58 263.269 1455 Q266.347 1450.39 272.158 1450.39 Z\" fill=\"#000000\" fill-rule=\"nonzero\" fill-opacity=\"1\" /><path clip-path=\"url(#clip140)\" d=\"M618.691 1454.1 Q615.08 1454.1 613.251 1457.66 Q611.445 1461.2 611.445 1468.33 Q611.445 1475.44 613.251 1479.01 Q615.08 1482.55 618.691 1482.55 Q622.325 1482.55 624.131 1479.01 Q625.959 1475.44 625.959 1468.33 Q625.959 1461.2 624.131 1457.66 Q622.325 1454.1 618.691 1454.1 M618.691 1450.39 Q624.501 1450.39 627.556 1455 Q630.635 1459.58 630.635 1468.33 Q630.635 1477.06 627.556 1481.67 Q624.501 1486.25 618.691 1486.25 Q612.881 1486.25 609.802 1481.67 Q606.746 1477.06 606.746 1468.33 Q606.746 1459.58 609.802 1455 Q612.881 1450.39 618.691 1450.39 Z\" fill=\"#000000\" fill-rule=\"nonzero\" fill-opacity=\"1\" /><path clip-path=\"url(#clip140)\" d=\"M638.853 1479.7 L643.737 1479.7 L643.737 1485.58 L638.853 1485.58 L638.853 1479.7 Z\" fill=\"#000000\" fill-rule=\"nonzero\" fill-opacity=\"1\" /><path clip-path=\"url(#clip140)\" d=\"M654.732 1481.64 L662.371 1481.64 L662.371 1455.28 L654.061 1456.95 L654.061 1452.69 L662.325 1451.02 L667.001 1451.02 L667.001 1481.64 L674.64 1481.64 L674.64 1485.58 L654.732 1485.58 L654.732 1481.64 Z\" fill=\"#000000\" fill-rule=\"nonzero\" fill-opacity=\"1\" /><path clip-path=\"url(#clip140)\" d=\"M1010.03 1454.1 Q1006.42 1454.1 1004.59 1457.66 Q1002.78 1461.2 1002.78 1468.33 Q1002.78 1475.44 1004.59 1479.01 Q1006.42 1482.55 1010.03 1482.55 Q1013.66 1482.55 1015.47 1479.01 Q1017.3 1475.44 1017.3 1468.33 Q1017.3 1461.2 1015.47 1457.66 Q1013.66 1454.1 1010.03 1454.1 M1010.03 1450.39 Q1015.84 1450.39 1018.89 1455 Q1021.97 1459.58 1021.97 1468.33 Q1021.97 1477.06 1018.89 1481.67 Q1015.84 1486.25 1010.03 1486.25 Q1004.22 1486.25 1001.14 1481.67 Q998.082 1477.06 998.082 1468.33 Q998.082 1459.58 1001.14 1455 Q1004.22 1450.39 1010.03 1450.39 Z\" fill=\"#000000\" fill-rule=\"nonzero\" fill-opacity=\"1\" /><path clip-path=\"url(#clip140)\" d=\"M1030.19 1479.7 L1035.07 1479.7 L1035.07 1485.58 L1030.19 1485.58 L1030.19 1479.7 Z\" fill=\"#000000\" fill-rule=\"nonzero\" fill-opacity=\"1\" /><path clip-path=\"url(#clip140)\" d=\"M1049.29 1481.64 L1065.61 1481.64 L1065.61 1485.58 L1043.66 1485.58 L1043.66 1481.64 Q1046.32 1478.89 1050.91 1474.26 Q1055.51 1469.61 1056.69 1468.27 Q1058.94 1465.74 1059.82 1464.01 Q1060.72 1462.25 1060.72 1460.56 Q1060.72 1457.8 1058.78 1456.07 Q1056.86 1454.33 1053.75 1454.33 Q1051.55 1454.33 1049.1 1455.09 Q1046.67 1455.86 1043.89 1457.41 L1043.89 1452.69 Q1046.72 1451.55 1049.17 1450.97 Q1051.62 1450.39 1053.66 1450.39 Q1059.03 1450.39 1062.23 1453.08 Q1065.42 1455.77 1065.42 1460.26 Q1065.42 1462.39 1064.61 1464.31 Q1063.82 1466.2 1061.72 1468.8 Q1061.14 1469.47 1058.04 1472.69 Q1054.93 1475.88 1049.29 1481.64 Z\" fill=\"#000000\" fill-rule=\"nonzero\" fill-opacity=\"1\" /><path clip-path=\"url(#clip140)\" d=\"M1400.7 1454.1 Q1397.09 1454.1 1395.26 1457.66 Q1393.46 1461.2 1393.46 1468.33 Q1393.46 1475.44 1395.26 1479.01 Q1397.09 1482.55 1400.7 1482.55 Q1404.34 1482.55 1406.14 1479.01 Q1407.97 1475.44 1407.97 1468.33 Q1407.97 1461.2 1406.14 1457.66 Q1404.34 1454.1 1400.7 1454.1 M1400.7 1450.39 Q1406.51 1450.39 1409.57 1455 Q1412.65 1459.58 1412.65 1468.33 Q1412.65 1477.06 1409.57 1481.67 Q1406.51 1486.25 1400.7 1486.25 Q1394.89 1486.25 1391.81 1481.67 Q1388.76 1477.06 1388.76 1468.33 Q1388.76 1459.58 1391.81 1455 Q1394.89 1450.39 1400.7 1450.39 Z\" fill=\"#000000\" fill-rule=\"nonzero\" fill-opacity=\"1\" /><path clip-path=\"url(#clip140)\" d=\"M1420.87 1479.7 L1425.75 1479.7 L1425.75 1485.58 L1420.87 1485.58 L1420.87 1479.7 Z\" fill=\"#000000\" fill-rule=\"nonzero\" fill-opacity=\"1\" /><path clip-path=\"url(#clip140)\" d=\"M1450.1 1466.95 Q1453.46 1467.66 1455.33 1469.93 Q1457.23 1472.2 1457.23 1475.53 Q1457.23 1480.65 1453.71 1483.45 Q1450.19 1486.25 1443.71 1486.25 Q1441.54 1486.25 1439.22 1485.81 Q1436.93 1485.39 1434.48 1484.54 L1434.48 1480.02 Q1436.42 1481.16 1438.74 1481.74 Q1441.05 1482.32 1443.57 1482.32 Q1447.97 1482.32 1450.26 1480.58 Q1452.58 1478.84 1452.58 1475.53 Q1452.58 1472.48 1450.43 1470.77 Q1448.3 1469.03 1444.48 1469.03 L1440.45 1469.03 L1440.45 1465.19 L1444.66 1465.19 Q1448.11 1465.19 1449.94 1463.82 Q1451.77 1462.43 1451.77 1459.84 Q1451.77 1457.18 1449.87 1455.77 Q1447.99 1454.33 1444.48 1454.33 Q1442.55 1454.33 1440.36 1454.75 Q1438.16 1455.16 1435.52 1456.04 L1435.52 1451.88 Q1438.18 1451.14 1440.49 1450.77 Q1442.83 1450.39 1444.89 1450.39 Q1450.22 1450.39 1453.32 1452.83 Q1456.42 1455.23 1456.42 1459.35 Q1456.42 1462.22 1454.78 1464.21 Q1453.13 1466.18 1450.1 1466.95 Z\" fill=\"#000000\" fill-rule=\"nonzero\" fill-opacity=\"1\" /><path clip-path=\"url(#clip140)\" d=\"M1791.29 1454.1 Q1787.68 1454.1 1785.85 1457.66 Q1784.04 1461.2 1784.04 1468.33 Q1784.04 1475.44 1785.85 1479.01 Q1787.68 1482.55 1791.29 1482.55 Q1794.92 1482.55 1796.73 1479.01 Q1798.56 1475.44 1798.56 1468.33 Q1798.56 1461.2 1796.73 1457.66 Q1794.92 1454.1 1791.29 1454.1 M1791.29 1450.39 Q1797.1 1450.39 1800.15 1455 Q1803.23 1459.58 1803.23 1468.33 Q1803.23 1477.06 1800.15 1481.67 Q1797.1 1486.25 1791.29 1486.25 Q1785.48 1486.25 1782.4 1481.67 Q1779.34 1477.06 1779.34 1468.33 Q1779.34 1459.58 1782.4 1455 Q1785.48 1450.39 1791.29 1450.39 Z\" fill=\"#000000\" fill-rule=\"nonzero\" fill-opacity=\"1\" /><path clip-path=\"url(#clip140)\" d=\"M1811.45 1479.7 L1816.33 1479.7 L1816.33 1485.58 L1811.45 1485.58 L1811.45 1479.7 Z\" fill=\"#000000\" fill-rule=\"nonzero\" fill-opacity=\"1\" /><path clip-path=\"url(#clip140)\" d=\"M1839.37 1455.09 L1827.56 1473.54 L1839.37 1473.54 L1839.37 1455.09 M1838.14 1451.02 L1844.02 1451.02 L1844.02 1473.54 L1848.95 1473.54 L1848.95 1477.43 L1844.02 1477.43 L1844.02 1485.58 L1839.37 1485.58 L1839.37 1477.43 L1823.76 1477.43 L1823.76 1472.92 L1838.14 1451.02 Z\" fill=\"#000000\" fill-rule=\"nonzero\" fill-opacity=\"1\" /><path clip-path=\"url(#clip140)\" d=\"M2183.18 1454.1 Q2179.57 1454.1 2177.74 1457.66 Q2175.93 1461.2 2175.93 1468.33 Q2175.93 1475.44 2177.74 1479.01 Q2179.57 1482.55 2183.18 1482.55 Q2186.81 1482.55 2188.62 1479.01 Q2190.45 1475.44 2190.45 1468.33 Q2190.45 1461.2 2188.62 1457.66 Q2186.81 1454.1 2183.18 1454.1 M2183.18 1450.39 Q2188.99 1450.39 2192.04 1455 Q2195.12 1459.58 2195.12 1468.33 Q2195.12 1477.06 2192.04 1481.67 Q2188.99 1486.25 2183.18 1486.25 Q2177.37 1486.25 2174.29 1481.67 Q2171.23 1477.06 2171.23 1468.33 Q2171.23 1459.58 2174.29 1455 Q2177.37 1450.39 2183.18 1450.39 Z\" fill=\"#000000\" fill-rule=\"nonzero\" fill-opacity=\"1\" /><path clip-path=\"url(#clip140)\" d=\"M2203.34 1479.7 L2208.22 1479.7 L2208.22 1485.58 L2203.34 1485.58 L2203.34 1479.7 Z\" fill=\"#000000\" fill-rule=\"nonzero\" fill-opacity=\"1\" /><path clip-path=\"url(#clip140)\" d=\"M2218.46 1451.02 L2236.81 1451.02 L2236.81 1454.96 L2222.74 1454.96 L2222.74 1463.43 Q2223.76 1463.08 2224.78 1462.92 Q2225.79 1462.73 2226.81 1462.73 Q2232.6 1462.73 2235.98 1465.9 Q2239.36 1469.08 2239.36 1474.49 Q2239.36 1480.07 2235.89 1483.17 Q2232.41 1486.25 2226.1 1486.25 Q2223.92 1486.25 2221.65 1485.88 Q2219.41 1485.51 2217 1484.77 L2217 1480.07 Q2219.08 1481.2 2221.3 1481.76 Q2223.53 1482.32 2226 1482.32 Q2230.01 1482.32 2232.35 1480.21 Q2234.68 1478.1 2234.68 1474.49 Q2234.68 1470.88 2232.35 1468.77 Q2230.01 1466.67 2226 1466.67 Q2224.13 1466.67 2222.25 1467.08 Q2220.4 1467.5 2218.46 1468.38 L2218.46 1451.02 Z\" fill=\"#000000\" fill-rule=\"nonzero\" fill-opacity=\"1\" /><path clip-path=\"url(#clip140)\" d=\"M1001.94 1525.81 L1001.94 1543.66 L1010.03 1543.66 Q1014.52 1543.66 1016.97 1541.34 Q1019.42 1539.02 1019.42 1534.72 Q1019.42 1530.45 1016.97 1528.13 Q1014.52 1525.81 1010.03 1525.81 L1001.94 1525.81 M995.515 1520.52 L1010.03 1520.52 Q1018.02 1520.52 1022.09 1524.15 Q1026.2 1527.75 1026.2 1534.72 Q1026.2 1541.75 1022.09 1545.35 Q1018.02 1548.95 1010.03 1548.95 L1001.94 1548.95 L1001.94 1568.04 L995.515 1568.04 L995.515 1520.52 Z\" fill=\"#000000\" fill-rule=\"nonzero\" fill-opacity=\"1\" /><path clip-path=\"url(#clip140)\" d=\"M1046.06 1536.5 Q1041.35 1536.5 1038.61 1540.19 Q1035.87 1543.85 1035.87 1550.25 Q1035.87 1556.65 1038.58 1560.34 Q1041.32 1564 1046.06 1564 Q1050.74 1564 1053.48 1560.31 Q1056.21 1556.62 1056.21 1550.25 Q1056.21 1543.92 1053.48 1540.23 Q1050.74 1536.5 1046.06 1536.5 M1046.06 1531.54 Q1053.7 1531.54 1058.06 1536.5 Q1062.42 1541.47 1062.42 1550.25 Q1062.42 1559 1058.06 1564 Q1053.7 1568.97 1046.06 1568.97 Q1038.39 1568.97 1034.03 1564 Q1029.7 1559 1029.7 1550.25 Q1029.7 1541.47 1034.03 1536.5 Q1038.39 1531.54 1046.06 1531.54 Z\" fill=\"#000000\" fill-rule=\"nonzero\" fill-opacity=\"1\" /><path clip-path=\"url(#clip140)\" d=\"M1092.78 1537.87 Q1091.8 1537.3 1090.62 1537.04 Q1089.47 1536.76 1088.07 1536.76 Q1083.11 1536.76 1080.43 1540 Q1077.79 1543.22 1077.79 1549.27 L1077.79 1568.04 L1071.9 1568.04 L1071.9 1532.4 L1077.79 1532.4 L1077.79 1537.93 Q1079.64 1534.69 1082.6 1533.13 Q1085.56 1531.54 1089.79 1531.54 Q1090.4 1531.54 1091.13 1531.63 Q1091.86 1531.7 1092.75 1531.85 L1092.78 1537.87 Z\" fill=\"#000000\" fill-rule=\"nonzero\" fill-opacity=\"1\" /><path clip-path=\"url(#clip140)\" d=\"M1104.72 1522.27 L1104.72 1532.4 L1116.78 1532.4 L1116.78 1536.95 L1104.72 1536.95 L1104.72 1556.3 Q1104.72 1560.66 1105.9 1561.9 Q1107.11 1563.14 1110.77 1563.14 L1116.78 1563.14 L1116.78 1568.04 L1110.77 1568.04 Q1103.99 1568.04 1101.41 1565.53 Q1098.83 1562.98 1098.83 1556.3 L1098.83 1536.95 L1094.53 1536.95 L1094.53 1532.4 L1098.83 1532.4 L1098.83 1522.27 L1104.72 1522.27 Z\" fill=\"#000000\" fill-rule=\"nonzero\" fill-opacity=\"1\" /><path clip-path=\"url(#clip140)\" d=\"M1142.53 1518.52 L1142.53 1523.39 L1136.93 1523.39 Q1133.78 1523.39 1132.54 1524.66 Q1131.33 1525.93 1131.33 1529.24 L1131.33 1532.4 L1140.97 1532.4 L1140.97 1536.95 L1131.33 1536.95 L1131.33 1568.04 L1125.44 1568.04 L1125.44 1536.95 L1119.84 1536.95 L1119.84 1532.4 L1125.44 1532.4 L1125.44 1529.91 Q1125.44 1523.96 1128.21 1521.26 Q1130.98 1518.52 1136.99 1518.52 L1142.53 1518.52 Z\" fill=\"#000000\" fill-rule=\"nonzero\" fill-opacity=\"1\" /><path clip-path=\"url(#clip140)\" d=\"M1161.25 1536.5 Q1156.54 1536.5 1153.8 1540.19 Q1151.06 1543.85 1151.06 1550.25 Q1151.06 1556.65 1153.77 1560.34 Q1156.5 1564 1161.25 1564 Q1165.93 1564 1168.66 1560.31 Q1171.4 1556.62 1171.4 1550.25 Q1171.4 1543.92 1168.66 1540.23 Q1165.93 1536.5 1161.25 1536.5 M1161.25 1531.54 Q1168.89 1531.54 1173.25 1536.5 Q1177.61 1541.47 1177.61 1550.25 Q1177.61 1559 1173.25 1564 Q1168.89 1568.97 1161.25 1568.97 Q1153.58 1568.97 1149.22 1564 Q1144.89 1559 1144.89 1550.25 Q1144.89 1541.47 1149.22 1536.5 Q1153.58 1531.54 1161.25 1531.54 Z\" fill=\"#000000\" fill-rule=\"nonzero\" fill-opacity=\"1\" /><path clip-path=\"url(#clip140)\" d=\"M1187.31 1518.52 L1193.17 1518.52 L1193.17 1568.04 L1187.31 1568.04 L1187.31 1518.52 Z\" fill=\"#000000\" fill-rule=\"nonzero\" fill-opacity=\"1\" /><path clip-path=\"url(#clip140)\" d=\"M1205.42 1532.4 L1211.28 1532.4 L1211.28 1568.04 L1205.42 1568.04 L1205.42 1532.4 M1205.42 1518.52 L1211.28 1518.52 L1211.28 1525.93 L1205.42 1525.93 L1205.42 1518.52 Z\" fill=\"#000000\" fill-rule=\"nonzero\" fill-opacity=\"1\" /><path clip-path=\"url(#clip140)\" d=\"M1237.35 1536.5 Q1232.64 1536.5 1229.9 1540.19 Q1227.16 1543.85 1227.16 1550.25 Q1227.16 1556.65 1229.87 1560.34 Q1232.61 1564 1237.35 1564 Q1242.03 1564 1244.76 1560.31 Q1247.5 1556.62 1247.5 1550.25 Q1247.5 1543.92 1244.76 1540.23 Q1242.03 1536.5 1237.35 1536.5 M1237.35 1531.54 Q1244.99 1531.54 1249.35 1536.5 Q1253.71 1541.47 1253.71 1550.25 Q1253.71 1559 1249.35 1564 Q1244.99 1568.97 1237.35 1568.97 Q1229.68 1568.97 1225.32 1564 Q1220.99 1559 1220.99 1550.25 Q1220.99 1541.47 1225.32 1536.5 Q1229.68 1531.54 1237.35 1531.54 Z\" fill=\"#000000\" fill-rule=\"nonzero\" fill-opacity=\"1\" /><path clip-path=\"url(#clip140)\" d=\"M1306.93 1545.76 Q1308.99 1546.46 1310.94 1548.76 Q1312.91 1551.05 1314.88 1555.06 L1321.41 1568.04 L1314.5 1568.04 L1308.42 1555.85 Q1306.07 1551.08 1303.84 1549.52 Q1301.64 1547.96 1297.82 1547.96 L1290.82 1547.96 L1290.82 1568.04 L1284.39 1568.04 L1284.39 1520.52 L1298.91 1520.52 Q1307.05 1520.52 1311.06 1523.93 Q1315.07 1527.34 1315.07 1534.21 Q1315.07 1538.7 1312.97 1541.66 Q1310.9 1544.62 1306.93 1545.76 M1290.82 1525.81 L1290.82 1542.68 L1298.91 1542.68 Q1303.55 1542.68 1305.91 1540.54 Q1308.29 1538.38 1308.29 1534.21 Q1308.29 1530.04 1305.91 1527.94 Q1303.55 1525.81 1298.91 1525.81 L1290.82 1525.81 Z\" fill=\"#000000\" fill-rule=\"nonzero\" fill-opacity=\"1\" /><path clip-path=\"url(#clip140)\" d=\"M1329.43 1532.4 L1335.29 1532.4 L1335.29 1568.04 L1329.43 1568.04 L1329.43 1532.4 M1329.43 1518.52 L1335.29 1518.52 L1335.29 1525.93 L1329.43 1525.93 L1329.43 1518.52 Z\" fill=\"#000000\" fill-rule=\"nonzero\" fill-opacity=\"1\" /><path clip-path=\"url(#clip140)\" d=\"M1370.26 1533.45 L1370.26 1538.98 Q1367.78 1537.71 1365.11 1537.07 Q1362.43 1536.44 1359.57 1536.44 Q1355.21 1536.44 1353.01 1537.77 Q1350.85 1539.11 1350.85 1541.79 Q1350.85 1543.82 1352.41 1545 Q1353.97 1546.15 1358.68 1547.2 L1360.68 1547.64 Q1366.92 1548.98 1369.53 1551.43 Q1372.17 1553.85 1372.17 1558.21 Q1372.17 1563.17 1368.23 1566.07 Q1364.31 1568.97 1357.44 1568.97 Q1354.57 1568.97 1351.45 1568.39 Q1348.37 1567.85 1344.93 1566.74 L1344.93 1560.69 Q1348.18 1562.38 1351.33 1563.24 Q1354.48 1564.07 1357.57 1564.07 Q1361.7 1564.07 1363.93 1562.66 Q1366.16 1561.23 1366.16 1558.65 Q1366.16 1556.27 1364.54 1554.99 Q1362.94 1553.72 1357.5 1552.54 L1355.46 1552.07 Q1350.02 1550.92 1347.6 1548.56 Q1345.18 1546.18 1345.18 1542.04 Q1345.18 1537.01 1348.75 1534.27 Q1352.31 1531.54 1358.87 1531.54 Q1362.12 1531.54 1364.98 1532.01 Q1367.85 1532.49 1370.26 1533.45 Z\" fill=\"#000000\" fill-rule=\"nonzero\" fill-opacity=\"1\" /><path clip-path=\"url(#clip140)\" d=\"M1381.28 1518.52 L1387.17 1518.52 L1387.17 1547.77 L1404.64 1532.4 L1412.12 1532.4 L1393.21 1549.07 L1412.91 1568.04 L1405.28 1568.04 L1387.17 1550.63 L1387.17 1568.04 L1381.28 1568.04 L1381.28 1518.52 Z\" fill=\"#000000\" fill-rule=\"nonzero\" fill-opacity=\"1\" /><path clip-path=\"url(#clip140)\" d=\"M1454.04 1518.58 Q1449.77 1525.9 1447.7 1533.06 Q1445.63 1540.23 1445.63 1547.58 Q1445.63 1554.93 1447.7 1562.16 Q1449.8 1569.35 1454.04 1576.64 L1448.94 1576.64 Q1444.17 1569.16 1441.78 1561.93 Q1439.43 1554.71 1439.43 1547.58 Q1439.43 1540.48 1441.78 1533.29 Q1444.14 1526.09 1448.94 1518.58 L1454.04 1518.58 Z\" fill=\"#000000\" fill-rule=\"nonzero\" fill-opacity=\"1\" /><path clip-path=\"url(#clip140)\" d=\"M1488.13 1533.45 L1488.13 1538.98 Q1485.64 1537.71 1482.97 1537.07 Q1480.3 1536.44 1477.43 1536.44 Q1473.07 1536.44 1470.87 1537.77 Q1468.71 1539.11 1468.71 1541.79 Q1468.71 1543.82 1470.27 1545 Q1471.83 1546.15 1476.54 1547.2 L1478.55 1547.64 Q1484.78 1548.98 1487.39 1551.43 Q1490.04 1553.85 1490.04 1558.21 Q1490.04 1563.17 1486.09 1566.07 Q1482.17 1568.97 1475.3 1568.97 Q1472.43 1568.97 1469.32 1568.39 Q1466.23 1567.85 1462.79 1566.74 L1462.79 1560.69 Q1466.04 1562.38 1469.19 1563.24 Q1472.34 1564.07 1475.43 1564.07 Q1479.56 1564.07 1481.79 1562.66 Q1484.02 1561.23 1484.02 1558.65 Q1484.02 1556.27 1482.4 1554.99 Q1480.81 1553.72 1475.36 1552.54 L1473.33 1552.07 Q1467.88 1550.92 1465.46 1548.56 Q1463.04 1546.18 1463.04 1542.04 Q1463.04 1537.01 1466.61 1534.27 Q1470.17 1531.54 1476.73 1531.54 Q1479.98 1531.54 1482.84 1532.01 Q1485.71 1532.49 1488.13 1533.45 Z\" fill=\"#000000\" fill-rule=\"nonzero\" fill-opacity=\"1\" /><path clip-path=\"url(#clip140)\" d=\"M1502.86 1550.25 Q1502.86 1556.71 1505.5 1560.4 Q1508.18 1564.07 1512.82 1564.07 Q1517.47 1564.07 1520.15 1560.4 Q1522.82 1556.71 1522.82 1550.25 Q1522.82 1543.79 1520.15 1540.13 Q1517.47 1536.44 1512.82 1536.44 Q1508.18 1536.44 1505.5 1540.13 Q1502.86 1543.79 1502.86 1550.25 M1522.82 1562.7 Q1520.97 1565.88 1518.14 1567.44 Q1515.34 1568.97 1511.39 1568.97 Q1504.93 1568.97 1500.86 1563.81 Q1496.81 1558.65 1496.81 1550.25 Q1496.81 1541.85 1500.86 1536.69 Q1504.93 1531.54 1511.39 1531.54 Q1515.34 1531.54 1518.14 1533.1 Q1520.97 1534.62 1522.82 1537.81 L1522.82 1532.4 L1528.68 1532.4 L1528.68 1581.6 L1522.82 1581.6 L1522.82 1562.7 Z\" fill=\"#000000\" fill-rule=\"nonzero\" fill-opacity=\"1\" /><path clip-path=\"url(#clip140)\" d=\"M1561.39 1537.87 Q1560.41 1537.3 1559.23 1537.04 Q1558.08 1536.76 1556.68 1536.76 Q1551.72 1536.76 1549.05 1540 Q1546.4 1543.22 1546.4 1549.27 L1546.4 1568.04 L1540.52 1568.04 L1540.52 1532.4 L1546.4 1532.4 L1546.4 1537.93 Q1548.25 1534.69 1551.21 1533.13 Q1554.17 1531.54 1558.4 1531.54 Q1559.01 1531.54 1559.74 1531.63 Q1560.47 1531.7 1561.36 1531.85 L1561.39 1537.87 Z\" fill=\"#000000\" fill-rule=\"nonzero\" fill-opacity=\"1\" /><path clip-path=\"url(#clip140)\" d=\"M1573.33 1522.27 L1573.33 1532.4 L1585.39 1532.4 L1585.39 1536.95 L1573.33 1536.95 L1573.33 1556.3 Q1573.33 1560.66 1574.51 1561.9 Q1575.72 1563.14 1579.38 1563.14 L1585.39 1563.14 L1585.39 1568.04 L1579.38 1568.04 Q1572.6 1568.04 1570.02 1565.53 Q1567.44 1562.98 1567.44 1556.3 L1567.44 1536.95 L1563.15 1536.95 L1563.15 1532.4 L1567.44 1532.4 L1567.44 1522.27 L1573.33 1522.27 Z\" fill=\"#000000\" fill-rule=\"nonzero\" fill-opacity=\"1\" /><path clip-path=\"url(#clip140)\" d=\"M1592.17 1518.58 L1597.27 1518.58 Q1602.04 1526.09 1604.4 1533.29 Q1606.78 1540.48 1606.78 1547.58 Q1606.78 1554.71 1604.4 1561.93 Q1602.04 1569.16 1597.27 1576.64 L1592.17 1576.64 Q1596.41 1569.35 1598.48 1562.16 Q1600.58 1554.93 1600.58 1547.58 Q1600.58 1540.23 1598.48 1533.06 Q1596.41 1525.9 1592.17 1518.58 Z\" fill=\"#000000\" fill-rule=\"nonzero\" fill-opacity=\"1\" /><polyline clip-path=\"url(#clip142)\" style=\"stroke:#000000; stroke-linecap:round; stroke-linejoin:round; stroke-width:2; stroke-opacity:0.1; fill:none\" points=\"249.542,1385.36 2352.76,1385.36 \"/>\n",
       "<polyline clip-path=\"url(#clip142)\" style=\"stroke:#000000; stroke-linecap:round; stroke-linejoin:round; stroke-width:2; stroke-opacity:0.1; fill:none\" points=\"249.542,1144.09 2352.76,1144.09 \"/>\n",
       "<polyline clip-path=\"url(#clip142)\" style=\"stroke:#000000; stroke-linecap:round; stroke-linejoin:round; stroke-width:2; stroke-opacity:0.1; fill:none\" points=\"249.542,902.811 2352.76,902.811 \"/>\n",
       "<polyline clip-path=\"url(#clip142)\" style=\"stroke:#000000; stroke-linecap:round; stroke-linejoin:round; stroke-width:2; stroke-opacity:0.1; fill:none\" points=\"249.542,661.535 2352.76,661.535 \"/>\n",
       "<polyline clip-path=\"url(#clip142)\" style=\"stroke:#000000; stroke-linecap:round; stroke-linejoin:round; stroke-width:2; stroke-opacity:0.1; fill:none\" points=\"249.542,420.26 2352.76,420.26 \"/>\n",
       "<polyline clip-path=\"url(#clip142)\" style=\"stroke:#000000; stroke-linecap:round; stroke-linejoin:round; stroke-width:2; stroke-opacity:0.1; fill:none\" points=\"249.542,178.984 2352.76,178.984 \"/>\n",
       "<polyline clip-path=\"url(#clip140)\" style=\"stroke:#000000; stroke-linecap:round; stroke-linejoin:round; stroke-width:4; stroke-opacity:1; fill:none\" points=\"249.542,1423.18 249.542,47.2441 \"/>\n",
       "<polyline clip-path=\"url(#clip140)\" style=\"stroke:#000000; stroke-linecap:round; stroke-linejoin:round; stroke-width:4; stroke-opacity:1; fill:none\" points=\"249.542,1385.36 268.44,1385.36 \"/>\n",
       "<polyline clip-path=\"url(#clip140)\" style=\"stroke:#000000; stroke-linecap:round; stroke-linejoin:round; stroke-width:4; stroke-opacity:1; fill:none\" points=\"249.542,1144.09 268.44,1144.09 \"/>\n",
       "<polyline clip-path=\"url(#clip140)\" style=\"stroke:#000000; stroke-linecap:round; stroke-linejoin:round; stroke-width:4; stroke-opacity:1; fill:none\" points=\"249.542,902.811 268.44,902.811 \"/>\n",
       "<polyline clip-path=\"url(#clip140)\" style=\"stroke:#000000; stroke-linecap:round; stroke-linejoin:round; stroke-width:4; stroke-opacity:1; fill:none\" points=\"249.542,661.535 268.44,661.535 \"/>\n",
       "<polyline clip-path=\"url(#clip140)\" style=\"stroke:#000000; stroke-linecap:round; stroke-linejoin:round; stroke-width:4; stroke-opacity:1; fill:none\" points=\"249.542,420.26 268.44,420.26 \"/>\n",
       "<polyline clip-path=\"url(#clip140)\" style=\"stroke:#000000; stroke-linecap:round; stroke-linejoin:round; stroke-width:4; stroke-opacity:1; fill:none\" points=\"249.542,178.984 268.44,178.984 \"/>\n",
       "<path clip-path=\"url(#clip140)\" d=\"M126.205 1371.16 Q122.593 1371.16 120.765 1374.73 Q118.959 1378.27 118.959 1385.4 Q118.959 1392.5 120.765 1396.07 Q122.593 1399.61 126.205 1399.61 Q129.839 1399.61 131.644 1396.07 Q133.473 1392.5 133.473 1385.4 Q133.473 1378.27 131.644 1374.73 Q129.839 1371.16 126.205 1371.16 M126.205 1367.46 Q132.015 1367.46 135.07 1372.06 Q138.149 1376.65 138.149 1385.4 Q138.149 1394.12 135.07 1398.73 Q132.015 1403.31 126.205 1403.31 Q120.394 1403.31 117.316 1398.73 Q114.26 1394.12 114.26 1385.4 Q114.26 1376.65 117.316 1372.06 Q120.394 1367.46 126.205 1367.46 Z\" fill=\"#000000\" fill-rule=\"nonzero\" fill-opacity=\"1\" /><path clip-path=\"url(#clip140)\" d=\"M146.366 1396.76 L151.251 1396.76 L151.251 1402.64 L146.366 1402.64 L146.366 1396.76 Z\" fill=\"#000000\" fill-rule=\"nonzero\" fill-opacity=\"1\" /><path clip-path=\"url(#clip140)\" d=\"M162.246 1398.71 L169.885 1398.71 L169.885 1372.34 L161.575 1374.01 L161.575 1369.75 L169.839 1368.08 L174.514 1368.08 L174.514 1398.71 L182.153 1398.71 L182.153 1402.64 L162.246 1402.64 L162.246 1398.71 Z\" fill=\"#000000\" fill-rule=\"nonzero\" fill-opacity=\"1\" /><path clip-path=\"url(#clip140)\" d=\"M201.598 1371.16 Q197.987 1371.16 196.158 1374.73 Q194.352 1378.27 194.352 1385.4 Q194.352 1392.5 196.158 1396.07 Q197.987 1399.61 201.598 1399.61 Q205.232 1399.61 207.037 1396.07 Q208.866 1392.5 208.866 1385.4 Q208.866 1378.27 207.037 1374.73 Q205.232 1371.16 201.598 1371.16 M201.598 1367.46 Q207.408 1367.46 210.463 1372.06 Q213.542 1376.65 213.542 1385.4 Q213.542 1394.12 210.463 1398.73 Q207.408 1403.31 201.598 1403.31 Q195.787 1403.31 192.709 1398.73 Q189.653 1394.12 189.653 1385.4 Q189.653 1376.65 192.709 1372.06 Q195.787 1367.46 201.598 1367.46 Z\" fill=\"#000000\" fill-rule=\"nonzero\" fill-opacity=\"1\" /><path clip-path=\"url(#clip140)\" d=\"M127.2 1129.89 Q123.589 1129.89 121.76 1133.45 Q119.955 1136.99 119.955 1144.12 Q119.955 1151.23 121.76 1154.79 Q123.589 1158.33 127.2 1158.33 Q130.834 1158.33 132.64 1154.79 Q134.468 1151.23 134.468 1144.12 Q134.468 1136.99 132.64 1133.45 Q130.834 1129.89 127.2 1129.89 M127.2 1126.18 Q133.01 1126.18 136.066 1130.79 Q139.144 1135.37 139.144 1144.12 Q139.144 1152.85 136.066 1157.45 Q133.01 1162.04 127.2 1162.04 Q121.39 1162.04 118.311 1157.45 Q115.256 1152.85 115.256 1144.12 Q115.256 1135.37 118.311 1130.79 Q121.39 1126.18 127.2 1126.18 Z\" fill=\"#000000\" fill-rule=\"nonzero\" fill-opacity=\"1\" /><path clip-path=\"url(#clip140)\" d=\"M147.362 1155.49 L152.246 1155.49 L152.246 1161.37 L147.362 1161.37 L147.362 1155.49 Z\" fill=\"#000000\" fill-rule=\"nonzero\" fill-opacity=\"1\" /><path clip-path=\"url(#clip140)\" d=\"M163.241 1157.43 L170.88 1157.43 L170.88 1131.07 L162.57 1132.73 L162.57 1128.47 L170.834 1126.81 L175.51 1126.81 L175.51 1157.43 L183.149 1157.43 L183.149 1161.37 L163.241 1161.37 L163.241 1157.43 Z\" fill=\"#000000\" fill-rule=\"nonzero\" fill-opacity=\"1\" /><path clip-path=\"url(#clip140)\" d=\"M192.639 1126.81 L210.996 1126.81 L210.996 1130.74 L196.922 1130.74 L196.922 1139.21 Q197.94 1138.87 198.959 1138.7 Q199.977 1138.52 200.996 1138.52 Q206.783 1138.52 210.162 1141.69 Q213.542 1144.86 213.542 1150.28 Q213.542 1155.86 210.07 1158.96 Q206.598 1162.04 200.278 1162.04 Q198.102 1162.04 195.834 1161.67 Q193.588 1161.3 191.181 1160.56 L191.181 1155.86 Q193.264 1156.99 195.487 1157.55 Q197.709 1158.1 200.186 1158.1 Q204.19 1158.1 206.528 1156 Q208.866 1153.89 208.866 1150.28 Q208.866 1146.67 206.528 1144.56 Q204.19 1142.45 200.186 1142.45 Q198.311 1142.45 196.436 1142.87 Q194.584 1143.29 192.639 1144.17 L192.639 1126.81 Z\" fill=\"#000000\" fill-rule=\"nonzero\" fill-opacity=\"1\" /><path clip-path=\"url(#clip140)\" d=\"M126.205 888.609 Q122.593 888.609 120.765 892.174 Q118.959 895.716 118.959 902.845 Q118.959 909.952 120.765 913.517 Q122.593 917.058 126.205 917.058 Q129.839 917.058 131.644 913.517 Q133.473 909.952 133.473 902.845 Q133.473 895.716 131.644 892.174 Q129.839 888.609 126.205 888.609 M126.205 884.906 Q132.015 884.906 135.07 889.512 Q138.149 894.096 138.149 902.845 Q138.149 911.572 135.07 916.179 Q132.015 920.762 126.205 920.762 Q120.394 920.762 117.316 916.179 Q114.26 911.572 114.26 902.845 Q114.26 894.096 117.316 889.512 Q120.394 884.906 126.205 884.906 Z\" fill=\"#000000\" fill-rule=\"nonzero\" fill-opacity=\"1\" /><path clip-path=\"url(#clip140)\" d=\"M146.366 914.211 L151.251 914.211 L151.251 920.091 L146.366 920.091 L146.366 914.211 Z\" fill=\"#000000\" fill-rule=\"nonzero\" fill-opacity=\"1\" /><path clip-path=\"url(#clip140)\" d=\"M165.464 916.156 L181.783 916.156 L181.783 920.091 L159.839 920.091 L159.839 916.156 Q162.501 913.401 167.084 908.771 Q171.69 904.119 172.871 902.776 Q175.116 900.253 175.996 898.517 Q176.899 896.758 176.899 895.068 Q176.899 892.313 174.954 890.577 Q173.033 888.841 169.931 888.841 Q167.732 888.841 165.278 889.605 Q162.848 890.369 160.07 891.92 L160.07 887.197 Q162.894 886.063 165.348 885.484 Q167.802 884.906 169.839 884.906 Q175.209 884.906 178.403 887.591 Q181.598 890.276 181.598 894.767 Q181.598 896.896 180.788 898.818 Q180.001 900.716 177.894 903.308 Q177.315 903.98 174.214 907.197 Q171.112 910.392 165.464 916.156 Z\" fill=\"#000000\" fill-rule=\"nonzero\" fill-opacity=\"1\" /><path clip-path=\"url(#clip140)\" d=\"M201.598 888.609 Q197.987 888.609 196.158 892.174 Q194.352 895.716 194.352 902.845 Q194.352 909.952 196.158 913.517 Q197.987 917.058 201.598 917.058 Q205.232 917.058 207.037 913.517 Q208.866 909.952 208.866 902.845 Q208.866 895.716 207.037 892.174 Q205.232 888.609 201.598 888.609 M201.598 884.906 Q207.408 884.906 210.463 889.512 Q213.542 894.096 213.542 902.845 Q213.542 911.572 210.463 916.179 Q207.408 920.762 201.598 920.762 Q195.787 920.762 192.709 916.179 Q189.653 911.572 189.653 902.845 Q189.653 894.096 192.709 889.512 Q195.787 884.906 201.598 884.906 Z\" fill=\"#000000\" fill-rule=\"nonzero\" fill-opacity=\"1\" /><path clip-path=\"url(#clip140)\" d=\"M127.2 647.334 Q123.589 647.334 121.76 650.899 Q119.955 654.44 119.955 661.57 Q119.955 668.676 121.76 672.241 Q123.589 675.783 127.2 675.783 Q130.834 675.783 132.64 672.241 Q134.468 668.676 134.468 661.57 Q134.468 654.44 132.64 650.899 Q130.834 647.334 127.2 647.334 M127.2 643.63 Q133.01 643.63 136.066 648.237 Q139.144 652.82 139.144 661.57 Q139.144 670.297 136.066 674.903 Q133.01 679.486 127.2 679.486 Q121.39 679.486 118.311 674.903 Q115.256 670.297 115.256 661.57 Q115.256 652.82 118.311 648.237 Q121.39 643.63 127.2 643.63 Z\" fill=\"#000000\" fill-rule=\"nonzero\" fill-opacity=\"1\" /><path clip-path=\"url(#clip140)\" d=\"M147.362 672.936 L152.246 672.936 L152.246 678.815 L147.362 678.815 L147.362 672.936 Z\" fill=\"#000000\" fill-rule=\"nonzero\" fill-opacity=\"1\" /><path clip-path=\"url(#clip140)\" d=\"M166.459 674.88 L182.778 674.88 L182.778 678.815 L160.834 678.815 L160.834 674.88 Q163.496 672.125 168.079 667.496 Q172.686 662.843 173.866 661.5 Q176.112 658.977 176.991 657.241 Q177.894 655.482 177.894 653.792 Q177.894 651.038 175.95 649.301 Q174.028 647.565 170.927 647.565 Q168.727 647.565 166.274 648.329 Q163.843 649.093 161.065 650.644 L161.065 645.922 Q163.89 644.788 166.343 644.209 Q168.797 643.63 170.834 643.63 Q176.204 643.63 179.399 646.315 Q182.593 649 182.593 653.491 Q182.593 655.621 181.783 657.542 Q180.996 659.44 178.889 662.033 Q178.311 662.704 175.209 665.922 Q172.107 669.116 166.459 674.88 Z\" fill=\"#000000\" fill-rule=\"nonzero\" fill-opacity=\"1\" /><path clip-path=\"url(#clip140)\" d=\"M192.639 644.255 L210.996 644.255 L210.996 648.19 L196.922 648.19 L196.922 656.662 Q197.94 656.315 198.959 656.153 Q199.977 655.968 200.996 655.968 Q206.783 655.968 210.162 659.139 Q213.542 662.311 213.542 667.727 Q213.542 673.306 210.07 676.408 Q206.598 679.486 200.278 679.486 Q198.102 679.486 195.834 679.116 Q193.588 678.746 191.181 678.005 L191.181 673.306 Q193.264 674.44 195.487 674.996 Q197.709 675.551 200.186 675.551 Q204.19 675.551 206.528 673.445 Q208.866 671.338 208.866 667.727 Q208.866 664.116 206.528 662.01 Q204.19 659.903 200.186 659.903 Q198.311 659.903 196.436 660.32 Q194.584 660.737 192.639 661.616 L192.639 644.255 Z\" fill=\"#000000\" fill-rule=\"nonzero\" fill-opacity=\"1\" /><path clip-path=\"url(#clip140)\" d=\"M126.205 406.058 Q122.593 406.058 120.765 409.623 Q118.959 413.165 118.959 420.294 Q118.959 427.401 120.765 430.966 Q122.593 434.507 126.205 434.507 Q129.839 434.507 131.644 430.966 Q133.473 427.401 133.473 420.294 Q133.473 413.165 131.644 409.623 Q129.839 406.058 126.205 406.058 M126.205 402.355 Q132.015 402.355 135.07 406.961 Q138.149 411.544 138.149 420.294 Q138.149 429.021 135.07 433.628 Q132.015 438.211 126.205 438.211 Q120.394 438.211 117.316 433.628 Q114.26 429.021 114.26 420.294 Q114.26 411.544 117.316 406.961 Q120.394 402.355 126.205 402.355 Z\" fill=\"#000000\" fill-rule=\"nonzero\" fill-opacity=\"1\" /><path clip-path=\"url(#clip140)\" d=\"M146.366 431.66 L151.251 431.66 L151.251 437.54 L146.366 437.54 L146.366 431.66 Z\" fill=\"#000000\" fill-rule=\"nonzero\" fill-opacity=\"1\" /><path clip-path=\"url(#clip140)\" d=\"M175.602 418.905 Q178.959 419.623 180.834 421.891 Q182.732 424.16 182.732 427.493 Q182.732 432.609 179.214 435.41 Q175.695 438.211 169.214 438.211 Q167.038 438.211 164.723 437.771 Q162.431 437.354 159.978 436.498 L159.978 431.984 Q161.922 433.118 164.237 433.697 Q166.552 434.276 169.075 434.276 Q173.473 434.276 175.764 432.54 Q178.079 430.803 178.079 427.493 Q178.079 424.438 175.926 422.725 Q173.797 420.989 169.977 420.989 L165.95 420.989 L165.95 417.146 L170.163 417.146 Q173.612 417.146 175.44 415.78 Q177.269 414.392 177.269 411.799 Q177.269 409.137 175.371 407.725 Q173.496 406.29 169.977 406.29 Q168.056 406.29 165.857 406.706 Q163.658 407.123 161.019 408.003 L161.019 403.836 Q163.681 403.095 165.996 402.725 Q168.334 402.355 170.394 402.355 Q175.718 402.355 178.82 404.785 Q181.922 407.192 181.922 411.313 Q181.922 414.183 180.278 416.174 Q178.635 418.141 175.602 418.905 Z\" fill=\"#000000\" fill-rule=\"nonzero\" fill-opacity=\"1\" /><path clip-path=\"url(#clip140)\" d=\"M201.598 406.058 Q197.987 406.058 196.158 409.623 Q194.352 413.165 194.352 420.294 Q194.352 427.401 196.158 430.966 Q197.987 434.507 201.598 434.507 Q205.232 434.507 207.037 430.966 Q208.866 427.401 208.866 420.294 Q208.866 413.165 207.037 409.623 Q205.232 406.058 201.598 406.058 M201.598 402.355 Q207.408 402.355 210.463 406.961 Q213.542 411.544 213.542 420.294 Q213.542 429.021 210.463 433.628 Q207.408 438.211 201.598 438.211 Q195.787 438.211 192.709 433.628 Q189.653 429.021 189.653 420.294 Q189.653 411.544 192.709 406.961 Q195.787 402.355 201.598 402.355 Z\" fill=\"#000000\" fill-rule=\"nonzero\" fill-opacity=\"1\" /><path clip-path=\"url(#clip140)\" d=\"M127.2 164.783 Q123.589 164.783 121.76 168.347 Q119.955 171.889 119.955 179.019 Q119.955 186.125 121.76 189.69 Q123.589 193.232 127.2 193.232 Q130.834 193.232 132.64 189.69 Q134.468 186.125 134.468 179.019 Q134.468 171.889 132.64 168.347 Q130.834 164.783 127.2 164.783 M127.2 161.079 Q133.01 161.079 136.066 165.685 Q139.144 170.269 139.144 179.019 Q139.144 187.745 136.066 192.352 Q133.01 196.935 127.2 196.935 Q121.39 196.935 118.311 192.352 Q115.256 187.745 115.256 179.019 Q115.256 170.269 118.311 165.685 Q121.39 161.079 127.2 161.079 Z\" fill=\"#000000\" fill-rule=\"nonzero\" fill-opacity=\"1\" /><path clip-path=\"url(#clip140)\" d=\"M147.362 190.384 L152.246 190.384 L152.246 196.264 L147.362 196.264 L147.362 190.384 Z\" fill=\"#000000\" fill-rule=\"nonzero\" fill-opacity=\"1\" /><path clip-path=\"url(#clip140)\" d=\"M176.598 177.63 Q179.954 178.347 181.829 180.616 Q183.727 182.884 183.727 186.218 Q183.727 191.333 180.209 194.134 Q176.69 196.935 170.209 196.935 Q168.033 196.935 165.718 196.495 Q163.427 196.079 160.973 195.222 L160.973 190.708 Q162.917 191.843 165.232 192.421 Q167.547 193 170.07 193 Q174.468 193 176.76 191.264 Q179.075 189.528 179.075 186.218 Q179.075 183.162 176.922 181.449 Q174.792 179.713 170.973 179.713 L166.945 179.713 L166.945 175.871 L171.158 175.871 Q174.607 175.871 176.436 174.505 Q178.264 173.116 178.264 170.523 Q178.264 167.861 176.366 166.449 Q174.491 165.014 170.973 165.014 Q169.052 165.014 166.852 165.431 Q164.653 165.847 162.015 166.727 L162.015 162.56 Q164.677 161.82 166.991 161.449 Q169.329 161.079 171.389 161.079 Q176.714 161.079 179.815 163.509 Q182.917 165.917 182.917 170.037 Q182.917 172.908 181.274 174.898 Q179.63 176.866 176.598 177.63 Z\" fill=\"#000000\" fill-rule=\"nonzero\" fill-opacity=\"1\" /><path clip-path=\"url(#clip140)\" d=\"M192.639 161.704 L210.996 161.704 L210.996 165.639 L196.922 165.639 L196.922 174.111 Q197.94 173.764 198.959 173.602 Q199.977 173.417 200.996 173.417 Q206.783 173.417 210.162 176.588 Q213.542 179.759 213.542 185.176 Q213.542 190.755 210.07 193.857 Q206.598 196.935 200.278 196.935 Q198.102 196.935 195.834 196.565 Q193.588 196.194 191.181 195.454 L191.181 190.755 Q193.264 191.889 195.487 192.445 Q197.709 193 200.186 193 Q204.19 193 206.528 190.894 Q208.866 188.787 208.866 185.176 Q208.866 181.565 206.528 179.458 Q204.19 177.352 200.186 177.352 Q198.311 177.352 196.436 177.769 Q194.584 178.185 192.639 179.065 L192.639 161.704 Z\" fill=\"#000000\" fill-rule=\"nonzero\" fill-opacity=\"1\" /><path clip-path=\"url(#clip140)\" d=\"M21.7677 1184.09 L39.6235 1184.09 L39.6235 1176.01 Q39.6235 1171.52 37.3 1169.07 Q34.9765 1166.62 30.6797 1166.62 Q26.4147 1166.62 24.0912 1169.07 Q21.7677 1171.52 21.7677 1176.01 L21.7677 1184.09 M16.4842 1190.52 L16.4842 1176.01 Q16.4842 1168.02 20.1126 1163.94 Q23.7092 1159.84 30.6797 1159.84 Q37.7138 1159.84 41.3104 1163.94 Q44.907 1168.02 44.907 1176.01 L44.907 1184.09 L64.0042 1184.09 L64.0042 1190.52 L16.4842 1190.52 Z\" fill=\"#000000\" fill-rule=\"nonzero\" fill-opacity=\"1\" /><path clip-path=\"url(#clip140)\" d=\"M32.4621 1139.98 Q32.4621 1144.69 36.1542 1147.42 Q39.8145 1150.16 46.212 1150.16 Q52.6095 1150.16 56.3017 1147.46 Q59.9619 1144.72 59.9619 1139.98 Q59.9619 1135.3 56.2698 1132.56 Q52.5777 1129.82 46.212 1129.82 Q39.8781 1129.82 36.186 1132.56 Q32.4621 1135.3 32.4621 1139.98 M27.4968 1139.98 Q27.4968 1132.34 32.4621 1127.98 Q37.4273 1123.62 46.212 1123.62 Q54.9649 1123.62 59.9619 1127.98 Q64.9272 1132.34 64.9272 1139.98 Q64.9272 1147.65 59.9619 1152.01 Q54.9649 1156.34 46.212 1156.34 Q37.4273 1156.34 32.4621 1152.01 Q27.4968 1147.65 27.4968 1139.98 Z\" fill=\"#000000\" fill-rule=\"nonzero\" fill-opacity=\"1\" /><path clip-path=\"url(#clip140)\" d=\"M33.8307 1093.25 Q33.2578 1094.24 33.0032 1095.42 Q32.7167 1096.56 32.7167 1097.96 Q32.7167 1102.93 35.9632 1105.6 Q39.1779 1108.24 45.2253 1108.24 L64.0042 1108.24 L64.0042 1114.13 L28.3562 1114.13 L28.3562 1108.24 L33.8944 1108.24 Q30.6479 1106.4 29.0883 1103.44 Q27.4968 1100.48 27.4968 1096.24 Q27.4968 1095.64 27.5923 1094.91 Q27.656 1094.17 27.8151 1093.28 L33.8307 1093.25 Z\" fill=\"#000000\" fill-rule=\"nonzero\" fill-opacity=\"1\" /><path clip-path=\"url(#clip140)\" d=\"M18.2347 1081.32 L28.3562 1081.32 L28.3562 1069.25 L32.9077 1069.25 L32.9077 1081.32 L52.2594 1081.32 Q56.6199 1081.32 57.8613 1080.14 Q59.1026 1078.93 59.1026 1075.27 L59.1026 1069.25 L64.0042 1069.25 L64.0042 1075.27 Q64.0042 1082.05 61.4897 1084.63 Q58.9434 1087.2 52.2594 1087.2 L32.9077 1087.2 L32.9077 1091.5 L28.3562 1091.5 L28.3562 1087.2 L18.2347 1087.2 L18.2347 1081.32 Z\" fill=\"#000000\" fill-rule=\"nonzero\" fill-opacity=\"1\" /><path clip-path=\"url(#clip140)\" d=\"M14.479 1043.5 L19.3487 1043.5 L19.3487 1049.1 Q19.3487 1052.26 20.6219 1053.5 Q21.895 1054.71 25.2052 1054.71 L28.3562 1054.71 L28.3562 1045.06 L32.9077 1045.06 L32.9077 1054.71 L64.0042 1054.71 L64.0042 1060.6 L32.9077 1060.6 L32.9077 1066.2 L28.3562 1066.2 L28.3562 1060.6 L25.8736 1060.6 Q19.9216 1060.6 17.2162 1057.83 Q14.479 1055.06 14.479 1049.04 L14.479 1043.5 Z\" fill=\"#000000\" fill-rule=\"nonzero\" fill-opacity=\"1\" /><path clip-path=\"url(#clip140)\" d=\"M32.4621 1024.79 Q32.4621 1029.5 36.1542 1032.24 Q39.8145 1034.97 46.212 1034.97 Q52.6095 1034.97 56.3017 1032.27 Q59.9619 1029.53 59.9619 1024.79 Q59.9619 1020.11 56.2698 1017.37 Q52.5777 1014.63 46.212 1014.63 Q39.8781 1014.63 36.186 1017.37 Q32.4621 1020.11 32.4621 1024.79 M27.4968 1024.79 Q27.4968 1017.15 32.4621 1012.79 Q37.4273 1008.43 46.212 1008.43 Q54.9649 1008.43 59.9619 1012.79 Q64.9272 1017.15 64.9272 1024.79 Q64.9272 1032.46 59.9619 1036.82 Q54.9649 1041.15 46.212 1041.15 Q37.4273 1041.15 32.4621 1036.82 Q27.4968 1032.46 27.4968 1024.79 Z\" fill=\"#000000\" fill-rule=\"nonzero\" fill-opacity=\"1\" /><path clip-path=\"url(#clip140)\" d=\"M14.479 998.72 L14.479 992.864 L64.0042 992.864 L64.0042 998.72 L14.479 998.72 Z\" fill=\"#000000\" fill-rule=\"nonzero\" fill-opacity=\"1\" /><path clip-path=\"url(#clip140)\" d=\"M28.3562 980.61 L28.3562 974.754 L64.0042 974.754 L64.0042 980.61 L28.3562 980.61 M14.479 980.61 L14.479 974.754 L21.895 974.754 L21.895 980.61 L14.479 980.61 Z\" fill=\"#000000\" fill-rule=\"nonzero\" fill-opacity=\"1\" /><path clip-path=\"url(#clip140)\" d=\"M32.4621 948.686 Q32.4621 953.397 36.1542 956.134 Q39.8145 958.871 46.212 958.871 Q52.6095 958.871 56.3017 956.166 Q59.9619 953.428 59.9619 948.686 Q59.9619 944.007 56.2698 941.27 Q52.5777 938.533 46.212 938.533 Q39.8781 938.533 36.186 941.27 Q32.4621 944.007 32.4621 948.686 M27.4968 948.686 Q27.4968 941.047 32.4621 936.687 Q37.4273 932.326 46.212 932.326 Q54.9649 932.326 59.9619 936.687 Q64.9272 941.047 64.9272 948.686 Q64.9272 956.357 59.9619 960.717 Q54.9649 965.046 46.212 965.046 Q37.4273 965.046 32.4621 960.717 Q27.4968 956.357 27.4968 948.686 Z\" fill=\"#000000\" fill-rule=\"nonzero\" fill-opacity=\"1\" /><path clip-path=\"url(#clip140)\" d=\"M41.7242 879.109 Q42.4244 877.04 44.7161 875.098 Q47.0077 873.125 51.0181 871.152 L64.0042 864.627 L64.0042 871.534 L51.8138 877.613 Q47.0395 879.968 45.48 882.196 Q43.9204 884.392 43.9204 888.212 L43.9204 895.214 L64.0042 895.214 L64.0042 901.643 L16.4842 901.643 L16.4842 887.13 Q16.4842 878.981 19.8898 874.971 Q23.2955 870.961 30.1704 870.961 Q34.6582 870.961 37.6183 873.061 Q40.5784 875.13 41.7242 879.109 M21.7677 895.214 L38.6368 895.214 L38.6368 887.13 Q38.6368 882.483 36.5043 880.127 Q34.34 877.74 30.1704 877.74 Q26.0009 877.74 23.9002 880.127 Q21.7677 882.483 21.7677 887.13 L21.7677 895.214 Z\" fill=\"#000000\" fill-rule=\"nonzero\" fill-opacity=\"1\" /><path clip-path=\"url(#clip140)\" d=\"M44.7161 829.042 L47.5806 829.042 L47.5806 855.969 Q53.6281 855.587 56.8109 852.341 Q59.9619 849.063 59.9619 843.238 Q59.9619 839.864 59.1344 836.713 Q58.3069 833.53 56.6518 830.411 L62.1899 830.411 Q63.5267 833.562 64.227 836.872 Q64.9272 840.182 64.9272 843.588 Q64.9272 852.118 59.9619 857.115 Q54.9967 862.081 46.5303 862.081 Q37.7774 862.081 32.6531 857.37 Q27.4968 852.627 27.4968 844.607 Q27.4968 837.413 32.1438 833.244 Q36.7589 829.042 44.7161 829.042 M42.9973 834.899 Q38.1912 834.963 35.3266 837.604 Q32.4621 840.214 32.4621 844.543 Q32.4621 849.445 35.2312 852.405 Q38.0002 855.333 43.0292 855.778 L42.9973 834.899 Z\" fill=\"#000000\" fill-rule=\"nonzero\" fill-opacity=\"1\" /><path clip-path=\"url(#clip140)\" d=\"M28.3562 822.836 L28.3562 816.979 L56.1743 809.659 L28.3562 802.37 L28.3562 795.463 L56.1743 788.143 L28.3562 780.854 L28.3562 774.998 L64.0042 784.323 L64.0042 791.23 L34.7856 798.901 L64.0042 806.603 L64.0042 813.51 L28.3562 822.836 Z\" fill=\"#000000\" fill-rule=\"nonzero\" fill-opacity=\"1\" /><path clip-path=\"url(#clip140)\" d=\"M46.0847 749.917 Q46.0847 757.015 47.7079 759.752 Q49.3312 762.489 53.2461 762.489 Q56.3653 762.489 58.2114 760.452 Q60.0256 758.383 60.0256 754.85 Q60.0256 749.98 56.5881 747.052 Q53.1188 744.092 47.3897 744.092 L46.0847 744.092 L46.0847 749.917 M43.6657 738.236 L64.0042 738.236 L64.0042 744.092 L58.5933 744.092 Q61.8398 746.097 63.3994 749.089 Q64.9272 752.081 64.9272 756.41 Q64.9272 761.884 61.8716 765.131 Q58.7843 768.345 53.6281 768.345 Q47.6125 768.345 44.5569 764.335 Q41.5014 760.293 41.5014 752.304 L41.5014 744.092 L40.9285 744.092 Q36.8862 744.092 34.6901 746.766 Q32.4621 749.407 32.4621 754.214 Q32.4621 757.269 33.1941 760.166 Q33.9262 763.062 35.3903 765.736 L29.9795 765.736 Q28.7381 762.521 28.1334 759.497 Q27.4968 756.473 27.4968 753.609 Q27.4968 745.875 31.5072 742.055 Q35.5176 738.236 43.6657 738.236 Z\" fill=\"#000000\" fill-rule=\"nonzero\" fill-opacity=\"1\" /><path clip-path=\"url(#clip140)\" d=\"M33.8307 705.516 Q33.2578 706.503 33.0032 707.68 Q32.7167 708.826 32.7167 710.227 Q32.7167 715.192 35.9632 717.865 Q39.1779 720.507 45.2253 720.507 L64.0042 720.507 L64.0042 726.395 L28.3562 726.395 L28.3562 720.507 L33.8944 720.507 Q30.6479 718.661 29.0883 715.701 Q27.4968 712.741 27.4968 708.508 Q27.4968 707.903 27.5923 707.171 Q27.656 706.439 27.8151 705.548 L33.8307 705.516 Z\" fill=\"#000000\" fill-rule=\"nonzero\" fill-opacity=\"1\" /><path clip-path=\"url(#clip140)\" d=\"M33.7671 677.061 L14.479 677.061 L14.479 671.205 L64.0042 671.205 L64.0042 677.061 L58.657 677.061 Q61.8398 678.907 63.3994 681.74 Q64.9272 684.541 64.9272 688.488 Q64.9272 694.949 59.771 699.023 Q54.6147 703.065 46.212 703.065 Q37.8093 703.065 32.6531 699.023 Q27.4968 694.949 27.4968 688.488 Q27.4968 684.541 29.0564 681.74 Q30.5842 678.907 33.7671 677.061 M46.212 697.018 Q52.6732 697.018 56.3653 694.376 Q60.0256 691.702 60.0256 687.055 Q60.0256 682.408 56.3653 679.735 Q52.6732 677.061 46.212 677.061 Q39.7508 677.061 36.0905 679.735 Q32.3984 682.408 32.3984 687.055 Q32.3984 691.702 36.0905 694.376 Q39.7508 697.018 46.212 697.018 Z\" fill=\"#000000\" fill-rule=\"nonzero\" fill-opacity=\"1\" /><path clip-path=\"url(#clip140)\" d=\"M14.5426 624.353 Q21.8632 628.618 29.0246 630.687 Q36.186 632.756 43.5384 632.756 Q50.8908 632.756 58.1159 630.687 Q65.3091 628.586 72.5979 624.353 L72.5979 629.446 Q65.1182 634.22 57.8931 636.607 Q50.668 638.962 43.5384 638.962 Q36.4406 638.962 29.2474 636.607 Q22.0542 634.252 14.5426 629.446 L14.5426 624.353 Z\" fill=\"#000000\" fill-rule=\"nonzero\" fill-opacity=\"1\" /><path clip-path=\"url(#clip140)\" d=\"M14.479 612.99 L14.479 607.134 L64.0042 607.134 L64.0042 612.99 L14.479 612.99 Z\" fill=\"#000000\" fill-rule=\"nonzero\" fill-opacity=\"1\" /><path clip-path=\"url(#clip140)\" d=\"M32.4621 581.066 Q32.4621 585.777 36.1542 588.514 Q39.8145 591.252 46.212 591.252 Q52.6095 591.252 56.3017 588.546 Q59.9619 585.809 59.9619 581.066 Q59.9619 576.388 56.2698 573.65 Q52.5777 570.913 46.212 570.913 Q39.8781 570.913 36.186 573.65 Q32.4621 576.388 32.4621 581.066 M27.4968 581.066 Q27.4968 573.428 32.4621 569.067 Q37.4273 564.707 46.212 564.707 Q54.9649 564.707 59.9619 569.067 Q64.9272 573.428 64.9272 581.066 Q64.9272 588.737 59.9619 593.098 Q54.9649 597.426 46.212 597.426 Q37.4273 597.426 32.4621 593.098 Q27.4968 588.737 27.4968 581.066 Z\" fill=\"#000000\" fill-rule=\"nonzero\" fill-opacity=\"1\" /><path clip-path=\"url(#clip140)\" d=\"M45.7664 531.541 Q39.4007 531.541 35.8996 534.183 Q32.3984 536.793 32.3984 541.535 Q32.3984 546.246 35.8996 548.888 Q39.4007 551.498 45.7664 551.498 Q52.1003 551.498 55.6014 548.888 Q59.1026 546.246 59.1026 541.535 Q59.1026 536.793 55.6014 534.183 Q52.1003 531.541 45.7664 531.541 M59.58 525.685 Q68.683 525.685 73.1071 529.727 Q77.5631 533.769 77.5631 542.108 Q77.5631 545.196 77.0857 547.933 Q76.6401 550.67 75.6852 553.248 L69.9879 553.248 Q71.3884 550.67 72.0568 548.156 Q72.7252 545.641 72.7252 543.031 Q72.7252 537.27 69.7015 534.406 Q66.7096 531.541 60.6303 531.541 L57.7339 531.541 Q60.885 533.355 62.4446 536.188 Q64.0042 539.021 64.0042 542.968 Q64.0042 549.524 59.0071 553.535 Q54.01 557.545 45.7664 557.545 Q37.491 557.545 32.4939 553.535 Q27.4968 549.524 27.4968 542.968 Q27.4968 539.021 29.0564 536.188 Q30.616 533.355 33.7671 531.541 L28.3562 531.541 L28.3562 525.685 L59.58 525.685 Z\" fill=\"#000000\" fill-rule=\"nonzero\" fill-opacity=\"1\" /><path clip-path=\"url(#clip140)\" d=\"M33.8307 472.245 Q33.2578 473.231 33.0032 474.409 Q32.7167 475.555 32.7167 476.955 Q32.7167 481.921 35.9632 484.594 Q39.1779 487.236 45.2253 487.236 L64.0042 487.236 L64.0042 493.124 L28.3562 493.124 L28.3562 487.236 L33.8944 487.236 Q30.6479 485.39 29.0883 482.43 Q27.4968 479.47 27.4968 475.237 Q27.4968 474.632 27.5923 473.9 Q27.656 473.168 27.8151 472.276 L33.8307 472.245 Z\" fill=\"#000000\" fill-rule=\"nonzero\" fill-opacity=\"1\" /><path clip-path=\"url(#clip140)\" d=\"M44.7161 437.042 L47.5806 437.042 L47.5806 463.969 Q53.6281 463.587 56.8109 460.341 Q59.9619 457.062 59.9619 451.238 Q59.9619 447.864 59.1344 444.713 Q58.3069 441.53 56.6518 438.411 L62.1899 438.411 Q63.5267 441.562 64.227 444.872 Q64.9272 448.182 64.9272 451.588 Q64.9272 460.118 59.9619 465.115 Q54.9967 470.08 46.5303 470.08 Q37.7774 470.08 32.6531 465.37 Q27.4968 460.627 27.4968 452.606 Q27.4968 445.413 32.1438 441.244 Q36.7589 437.042 44.7161 437.042 M42.9973 442.899 Q38.1912 442.962 35.3266 445.604 Q32.4621 448.214 32.4621 452.543 Q32.4621 457.444 35.2312 460.404 Q38.0002 463.333 43.0292 463.778 L42.9973 442.899 Z\" fill=\"#000000\" fill-rule=\"nonzero\" fill-opacity=\"1\" /><path clip-path=\"url(#clip140)\" d=\"M18.2347 421.637 L28.3562 421.637 L28.3562 409.574 L32.9077 409.574 L32.9077 421.637 L52.2594 421.637 Q56.6199 421.637 57.8613 420.46 Q59.1026 419.25 59.1026 415.59 L59.1026 409.574 L64.0042 409.574 L64.0042 415.59 Q64.0042 422.369 61.4897 424.947 Q58.9434 427.526 52.2594 427.526 L32.9077 427.526 L32.9077 431.822 L28.3562 431.822 L28.3562 427.526 L18.2347 427.526 L18.2347 421.637 Z\" fill=\"#000000\" fill-rule=\"nonzero\" fill-opacity=\"1\" /><path clip-path=\"url(#clip140)\" d=\"M49.9359 402.476 L28.3562 402.476 L28.3562 396.62 L49.7131 396.62 Q54.7739 396.62 57.3202 394.647 Q59.8346 392.673 59.8346 388.727 Q59.8346 383.984 56.8109 381.247 Q53.7872 378.478 48.5673 378.478 L28.3562 378.478 L28.3562 372.621 L64.0042 372.621 L64.0042 378.478 L58.5296 378.478 Q61.7762 380.61 63.3676 383.443 Q64.9272 386.244 64.9272 389.968 Q64.9272 396.111 61.1078 399.294 Q57.2883 402.476 49.9359 402.476 M27.4968 387.74 L27.4968 387.74 Z\" fill=\"#000000\" fill-rule=\"nonzero\" fill-opacity=\"1\" /><path clip-path=\"url(#clip140)\" d=\"M33.8307 339.902 Q33.2578 340.888 33.0032 342.066 Q32.7167 343.212 32.7167 344.612 Q32.7167 349.577 35.9632 352.251 Q39.1779 354.893 45.2253 354.893 L64.0042 354.893 L64.0042 360.781 L28.3562 360.781 L28.3562 354.893 L33.8944 354.893 Q30.6479 353.047 29.0883 350.087 Q27.4968 347.127 27.4968 342.893 Q27.4968 342.289 27.5923 341.557 Q27.656 340.825 27.8151 339.933 L33.8307 339.902 Z\" fill=\"#000000\" fill-rule=\"nonzero\" fill-opacity=\"1\" /><path clip-path=\"url(#clip140)\" d=\"M42.4881 305.272 L64.0042 305.272 L64.0042 311.129 L42.679 311.129 Q37.6183 311.129 35.1038 313.102 Q32.5894 315.075 32.5894 319.022 Q32.5894 323.765 35.6131 326.502 Q38.6368 329.239 43.8567 329.239 L64.0042 329.239 L64.0042 335.127 L28.3562 335.127 L28.3562 329.239 L33.8944 329.239 Q30.6797 327.138 29.0883 324.306 Q27.4968 321.441 27.4968 317.717 Q27.4968 311.574 31.3163 308.423 Q35.1038 305.272 42.4881 305.272 Z\" fill=\"#000000\" fill-rule=\"nonzero\" fill-opacity=\"1\" /><path clip-path=\"url(#clip140)\" d=\"M14.5426 294.514 L14.5426 289.422 Q22.0542 284.647 29.2474 282.292 Q36.4406 279.905 43.5384 279.905 Q50.668 279.905 57.8931 282.292 Q65.1182 284.647 72.5979 289.422 L72.5979 294.514 Q65.3091 290.281 58.1159 288.212 Q50.8908 286.111 43.5384 286.111 Q36.186 286.111 29.0246 288.212 Q21.8632 290.281 14.5426 294.514 Z\" fill=\"#000000\" fill-rule=\"nonzero\" fill-opacity=\"1\" /><polyline clip-path=\"url(#clip142)\" style=\"stroke:#b0b0b0; stroke-linecap:round; stroke-linejoin:round; stroke-width:16; stroke-opacity:1; fill:none\" points=\"1053.88,1379.43 1053.88,1379.43 1053.88,1379.43 1053.88,1379.43 1053.88,1379.43 1053.88,1379.43 1053.88,1379.43 1053.88,1379.43 1053.88,1379.43 1053.93,1366.8 1055.44,1311.12 1059.07,1255.44 1064.78,1199.77 1072.55,1144.09 1082.34,1088.41 1094.29,1032.73 1109.02,977.049 1126.62,921.37 1146.93,865.691 1170.28,810.012 1201.61,754.333 1241.5,698.655 1288.95,642.976 1342.99,587.297 1402.69,531.618 1467.21,475.939 1535.83,420.26 1607.93,364.581 1682.98,308.902 1760.55,253.223 1840.27,197.544 1921.82,141.865 2004.97,86.1857 \"/>\n",
       "<circle clip-path=\"url(#clip142)\" cx=\"1094.29\" cy=\"1032.73\" r=\"10.8\" fill=\"#ffffff\" fill-rule=\"evenodd\" fill-opacity=\"1\" stroke=\"#000000\" stroke-opacity=\"1\" stroke-width=\"3.2\"/>\n",
       "<circle clip-path=\"url(#clip142)\" cx=\"1288.95\" cy=\"642.976\" r=\"10.8\" fill=\"#ffffff\" fill-rule=\"evenodd\" fill-opacity=\"1\" stroke=\"#000000\" stroke-opacity=\"1\" stroke-width=\"3.2\"/>\n",
       "<circle clip-path=\"url(#clip142)\" cx=\"1535.83\" cy=\"420.26\" r=\"10.8\" fill=\"#ffffff\" fill-rule=\"evenodd\" fill-opacity=\"1\" stroke=\"#000000\" stroke-opacity=\"1\" stroke-width=\"3.2\"/>\n",
       "<circle clip-path=\"url(#clip142)\" cx=\"1607.93\" cy=\"364.581\" r=\"10.8\" fill=\"#ffffff\" fill-rule=\"evenodd\" fill-opacity=\"1\" stroke=\"#000000\" stroke-opacity=\"1\" stroke-width=\"3.2\"/>\n",
       "<circle clip-path=\"url(#clip142)\" cx=\"1342.99\" cy=\"587.297\" r=\"10.8\" fill=\"#ffffff\" fill-rule=\"evenodd\" fill-opacity=\"1\" stroke=\"#000000\" stroke-opacity=\"1\" stroke-width=\"3.2\"/>\n",
       "<circle clip-path=\"url(#clip142)\" cx=\"1126.62\" cy=\"921.37\" r=\"10.8\" fill=\"#ffffff\" fill-rule=\"evenodd\" fill-opacity=\"1\" stroke=\"#000000\" stroke-opacity=\"1\" stroke-width=\"3.2\"/>\n",
       "<circle clip-path=\"url(#clip142)\" cx=\"1109.02\" cy=\"977.049\" r=\"10.8\" fill=\"#ffffff\" fill-rule=\"evenodd\" fill-opacity=\"1\" stroke=\"#000000\" stroke-opacity=\"1\" stroke-width=\"3.2\"/>\n",
       "<circle clip-path=\"url(#clip142)\" cx=\"1053.88\" cy=\"1379.43\" r=\"10.8\" fill=\"#ffffff\" fill-rule=\"evenodd\" fill-opacity=\"1\" stroke=\"#000000\" stroke-opacity=\"1\" stroke-width=\"3.2\"/>\n",
       "<circle clip-path=\"url(#clip142)\" cx=\"1241.5\" cy=\"698.655\" r=\"10.8\" fill=\"#ffffff\" fill-rule=\"evenodd\" fill-opacity=\"1\" stroke=\"#000000\" stroke-opacity=\"1\" stroke-width=\"3.2\"/>\n",
       "<circle clip-path=\"url(#clip142)\" cx=\"1201.61\" cy=\"754.333\" r=\"10.8\" fill=\"#ffffff\" fill-rule=\"evenodd\" fill-opacity=\"1\" stroke=\"#000000\" stroke-opacity=\"1\" stroke-width=\"3.2\"/>\n",
       "<circle clip-path=\"url(#clip142)\" cx=\"1682.98\" cy=\"308.902\" r=\"10.8\" fill=\"#ffffff\" fill-rule=\"evenodd\" fill-opacity=\"1\" stroke=\"#000000\" stroke-opacity=\"1\" stroke-width=\"3.2\"/>\n",
       "<circle clip-path=\"url(#clip142)\" cx=\"1467.21\" cy=\"475.939\" r=\"10.8\" fill=\"#ffffff\" fill-rule=\"evenodd\" fill-opacity=\"1\" stroke=\"#000000\" stroke-opacity=\"1\" stroke-width=\"3.2\"/>\n",
       "<circle clip-path=\"url(#clip142)\" cx=\"2004.97\" cy=\"86.1857\" r=\"10.8\" fill=\"#ffffff\" fill-rule=\"evenodd\" fill-opacity=\"1\" stroke=\"#000000\" stroke-opacity=\"1\" stroke-width=\"3.2\"/>\n",
       "<circle clip-path=\"url(#clip142)\" cx=\"1055.44\" cy=\"1311.12\" r=\"10.8\" fill=\"#ffffff\" fill-rule=\"evenodd\" fill-opacity=\"1\" stroke=\"#000000\" stroke-opacity=\"1\" stroke-width=\"3.2\"/>\n",
       "<circle clip-path=\"url(#clip142)\" cx=\"1053.88\" cy=\"1379.43\" r=\"10.8\" fill=\"#ffffff\" fill-rule=\"evenodd\" fill-opacity=\"1\" stroke=\"#000000\" stroke-opacity=\"1\" stroke-width=\"3.2\"/>\n",
       "<circle clip-path=\"url(#clip142)\" cx=\"1053.88\" cy=\"1379.43\" r=\"10.8\" fill=\"#ffffff\" fill-rule=\"evenodd\" fill-opacity=\"1\" stroke=\"#000000\" stroke-opacity=\"1\" stroke-width=\"3.2\"/>\n",
       "<circle clip-path=\"url(#clip142)\" cx=\"1170.28\" cy=\"810.012\" r=\"10.8\" fill=\"#ffffff\" fill-rule=\"evenodd\" fill-opacity=\"1\" stroke=\"#000000\" stroke-opacity=\"1\" stroke-width=\"3.2\"/>\n",
       "<circle clip-path=\"url(#clip142)\" cx=\"1840.27\" cy=\"197.544\" r=\"10.8\" fill=\"#ffffff\" fill-rule=\"evenodd\" fill-opacity=\"1\" stroke=\"#000000\" stroke-opacity=\"1\" stroke-width=\"3.2\"/>\n",
       "<circle clip-path=\"url(#clip142)\" cx=\"1059.07\" cy=\"1255.44\" r=\"10.8\" fill=\"#ffffff\" fill-rule=\"evenodd\" fill-opacity=\"1\" stroke=\"#000000\" stroke-opacity=\"1\" stroke-width=\"3.2\"/>\n",
       "<circle clip-path=\"url(#clip142)\" cx=\"1402.69\" cy=\"531.618\" r=\"10.8\" fill=\"#ffffff\" fill-rule=\"evenodd\" fill-opacity=\"1\" stroke=\"#000000\" stroke-opacity=\"1\" stroke-width=\"3.2\"/>\n",
       "<circle clip-path=\"url(#clip142)\" cx=\"1053.88\" cy=\"1379.43\" r=\"10.8\" fill=\"#ffffff\" fill-rule=\"evenodd\" fill-opacity=\"1\" stroke=\"#000000\" stroke-opacity=\"1\" stroke-width=\"3.2\"/>\n",
       "<circle clip-path=\"url(#clip142)\" cx=\"1082.34\" cy=\"1088.41\" r=\"10.8\" fill=\"#ffffff\" fill-rule=\"evenodd\" fill-opacity=\"1\" stroke=\"#000000\" stroke-opacity=\"1\" stroke-width=\"3.2\"/>\n",
       "<circle clip-path=\"url(#clip142)\" cx=\"1146.93\" cy=\"865.691\" r=\"10.8\" fill=\"#ffffff\" fill-rule=\"evenodd\" fill-opacity=\"1\" stroke=\"#000000\" stroke-opacity=\"1\" stroke-width=\"3.2\"/>\n",
       "<circle clip-path=\"url(#clip142)\" cx=\"1053.88\" cy=\"1379.43\" r=\"10.8\" fill=\"#ffffff\" fill-rule=\"evenodd\" fill-opacity=\"1\" stroke=\"#000000\" stroke-opacity=\"1\" stroke-width=\"3.2\"/>\n",
       "<circle clip-path=\"url(#clip142)\" cx=\"1053.93\" cy=\"1366.8\" r=\"10.8\" fill=\"#ffffff\" fill-rule=\"evenodd\" fill-opacity=\"1\" stroke=\"#000000\" stroke-opacity=\"1\" stroke-width=\"3.2\"/>\n",
       "<circle clip-path=\"url(#clip142)\" cx=\"1053.88\" cy=\"1379.43\" r=\"10.8\" fill=\"#ffffff\" fill-rule=\"evenodd\" fill-opacity=\"1\" stroke=\"#000000\" stroke-opacity=\"1\" stroke-width=\"3.2\"/>\n",
       "<circle clip-path=\"url(#clip142)\" cx=\"1053.88\" cy=\"1379.43\" r=\"10.8\" fill=\"#ffffff\" fill-rule=\"evenodd\" fill-opacity=\"1\" stroke=\"#000000\" stroke-opacity=\"1\" stroke-width=\"3.2\"/>\n",
       "<circle clip-path=\"url(#clip142)\" cx=\"1921.82\" cy=\"141.865\" r=\"10.8\" fill=\"#ffffff\" fill-rule=\"evenodd\" fill-opacity=\"1\" stroke=\"#000000\" stroke-opacity=\"1\" stroke-width=\"3.2\"/>\n",
       "<circle clip-path=\"url(#clip142)\" cx=\"1053.88\" cy=\"1379.43\" r=\"10.8\" fill=\"#ffffff\" fill-rule=\"evenodd\" fill-opacity=\"1\" stroke=\"#000000\" stroke-opacity=\"1\" stroke-width=\"3.2\"/>\n",
       "<circle clip-path=\"url(#clip142)\" cx=\"1064.78\" cy=\"1199.77\" r=\"10.8\" fill=\"#ffffff\" fill-rule=\"evenodd\" fill-opacity=\"1\" stroke=\"#000000\" stroke-opacity=\"1\" stroke-width=\"3.2\"/>\n",
       "<circle clip-path=\"url(#clip142)\" cx=\"1760.55\" cy=\"253.223\" r=\"10.8\" fill=\"#ffffff\" fill-rule=\"evenodd\" fill-opacity=\"1\" stroke=\"#000000\" stroke-opacity=\"1\" stroke-width=\"3.2\"/>\n",
       "<circle clip-path=\"url(#clip142)\" cx=\"1053.88\" cy=\"1379.43\" r=\"10.8\" fill=\"#ffffff\" fill-rule=\"evenodd\" fill-opacity=\"1\" stroke=\"#000000\" stroke-opacity=\"1\" stroke-width=\"3.2\"/>\n",
       "<circle clip-path=\"url(#clip142)\" cx=\"1072.55\" cy=\"1144.09\" r=\"10.8\" fill=\"#ffffff\" fill-rule=\"evenodd\" fill-opacity=\"1\" stroke=\"#000000\" stroke-opacity=\"1\" stroke-width=\"3.2\"/>\n",
       "<polyline clip-path=\"url(#clip142)\" style=\"stroke:#ff0000; stroke-linecap:round; stroke-linejoin:round; stroke-width:16; stroke-opacity:1; fill:none\" points=\"1061.05,1384.24 1061.05,1384.24 1061.05,1384.24 1061.05,1384.24 1061.05,1384.24 1061.05,1384.24 1061.05,1384.24 1061.05,1384.24 1061.05,1384.24 1061.11,1366.79 1062.09,1311.12 1064.27,1255.44 1067.63,1199.77 1072.16,1144.09 1077.78,1088.41 1084.5,1032.73 1092.75,977.049 1102.51,921.37 1113.92,865.691 1132.19,810.012 1161.49,754.333 1200.77,698.654 1248.88,642.976 1304.59,587.297 1366.78,531.618 1434.43,475.939 1506.65,420.26 1582.7,364.581 1661.97,308.902 1743.94,253.223 1828.19,197.544 1914.37,141.865 2002.22,86.1857 \"/>\n",
       "<circle clip-path=\"url(#clip142)\" cx=\"1061.05\" cy=\"1384.24\" r=\"10.8\" fill=\"#ffffff\" fill-rule=\"evenodd\" fill-opacity=\"1\" stroke=\"#000000\" stroke-opacity=\"1\" stroke-width=\"3.2\"/>\n",
       "<circle clip-path=\"url(#clip142)\" cx=\"1061.05\" cy=\"1384.24\" r=\"10.8\" fill=\"#ffffff\" fill-rule=\"evenodd\" fill-opacity=\"1\" stroke=\"#000000\" stroke-opacity=\"1\" stroke-width=\"3.2\"/>\n",
       "<circle clip-path=\"url(#clip142)\" cx=\"1661.97\" cy=\"308.902\" r=\"10.8\" fill=\"#ffffff\" fill-rule=\"evenodd\" fill-opacity=\"1\" stroke=\"#000000\" stroke-opacity=\"1\" stroke-width=\"3.2\"/>\n",
       "<circle clip-path=\"url(#clip142)\" cx=\"1064.27\" cy=\"1255.44\" r=\"10.8\" fill=\"#ffffff\" fill-rule=\"evenodd\" fill-opacity=\"1\" stroke=\"#000000\" stroke-opacity=\"1\" stroke-width=\"3.2\"/>\n",
       "<circle clip-path=\"url(#clip142)\" cx=\"1102.51\" cy=\"921.37\" r=\"10.8\" fill=\"#ffffff\" fill-rule=\"evenodd\" fill-opacity=\"1\" stroke=\"#000000\" stroke-opacity=\"1\" stroke-width=\"3.2\"/>\n",
       "<circle clip-path=\"url(#clip142)\" cx=\"1200.77\" cy=\"698.654\" r=\"10.8\" fill=\"#ffffff\" fill-rule=\"evenodd\" fill-opacity=\"1\" stroke=\"#000000\" stroke-opacity=\"1\" stroke-width=\"3.2\"/>\n",
       "<circle clip-path=\"url(#clip142)\" cx=\"1304.59\" cy=\"587.297\" r=\"10.8\" fill=\"#ffffff\" fill-rule=\"evenodd\" fill-opacity=\"1\" stroke=\"#000000\" stroke-opacity=\"1\" stroke-width=\"3.2\"/>\n",
       "<circle clip-path=\"url(#clip142)\" cx=\"1084.5\" cy=\"1032.73\" r=\"10.8\" fill=\"#ffffff\" fill-rule=\"evenodd\" fill-opacity=\"1\" stroke=\"#000000\" stroke-opacity=\"1\" stroke-width=\"3.2\"/>\n",
       "<circle clip-path=\"url(#clip142)\" cx=\"1506.65\" cy=\"420.26\" r=\"10.8\" fill=\"#ffffff\" fill-rule=\"evenodd\" fill-opacity=\"1\" stroke=\"#000000\" stroke-opacity=\"1\" stroke-width=\"3.2\"/>\n",
       "<circle clip-path=\"url(#clip142)\" cx=\"1061.05\" cy=\"1384.24\" r=\"10.8\" fill=\"#ffffff\" fill-rule=\"evenodd\" fill-opacity=\"1\" stroke=\"#000000\" stroke-opacity=\"1\" stroke-width=\"3.2\"/>\n",
       "<circle clip-path=\"url(#clip142)\" cx=\"2002.22\" cy=\"86.1857\" r=\"10.8\" fill=\"#ffffff\" fill-rule=\"evenodd\" fill-opacity=\"1\" stroke=\"#000000\" stroke-opacity=\"1\" stroke-width=\"3.2\"/>\n",
       "<circle clip-path=\"url(#clip142)\" cx=\"1067.63\" cy=\"1199.77\" r=\"10.8\" fill=\"#ffffff\" fill-rule=\"evenodd\" fill-opacity=\"1\" stroke=\"#000000\" stroke-opacity=\"1\" stroke-width=\"3.2\"/>\n",
       "<circle clip-path=\"url(#clip142)\" cx=\"1248.88\" cy=\"642.976\" r=\"10.8\" fill=\"#ffffff\" fill-rule=\"evenodd\" fill-opacity=\"1\" stroke=\"#000000\" stroke-opacity=\"1\" stroke-width=\"3.2\"/>\n",
       "<circle clip-path=\"url(#clip142)\" cx=\"1092.75\" cy=\"977.049\" r=\"10.8\" fill=\"#ffffff\" fill-rule=\"evenodd\" fill-opacity=\"1\" stroke=\"#000000\" stroke-opacity=\"1\" stroke-width=\"3.2\"/>\n",
       "<circle clip-path=\"url(#clip142)\" cx=\"1061.05\" cy=\"1384.24\" r=\"10.8\" fill=\"#ffffff\" fill-rule=\"evenodd\" fill-opacity=\"1\" stroke=\"#000000\" stroke-opacity=\"1\" stroke-width=\"3.2\"/>\n",
       "<circle clip-path=\"url(#clip142)\" cx=\"1582.7\" cy=\"364.581\" r=\"10.8\" fill=\"#ffffff\" fill-rule=\"evenodd\" fill-opacity=\"1\" stroke=\"#000000\" stroke-opacity=\"1\" stroke-width=\"3.2\"/>\n",
       "<circle clip-path=\"url(#clip142)\" cx=\"1072.16\" cy=\"1144.09\" r=\"10.8\" fill=\"#ffffff\" fill-rule=\"evenodd\" fill-opacity=\"1\" stroke=\"#000000\" stroke-opacity=\"1\" stroke-width=\"3.2\"/>\n",
       "<circle clip-path=\"url(#clip142)\" cx=\"1077.78\" cy=\"1088.41\" r=\"10.8\" fill=\"#ffffff\" fill-rule=\"evenodd\" fill-opacity=\"1\" stroke=\"#000000\" stroke-opacity=\"1\" stroke-width=\"3.2\"/>\n",
       "<circle clip-path=\"url(#clip142)\" cx=\"1366.78\" cy=\"531.618\" r=\"10.8\" fill=\"#ffffff\" fill-rule=\"evenodd\" fill-opacity=\"1\" stroke=\"#000000\" stroke-opacity=\"1\" stroke-width=\"3.2\"/>\n",
       "<circle clip-path=\"url(#clip142)\" cx=\"1061.11\" cy=\"1366.79\" r=\"10.8\" fill=\"#ffffff\" fill-rule=\"evenodd\" fill-opacity=\"1\" stroke=\"#000000\" stroke-opacity=\"1\" stroke-width=\"3.2\"/>\n",
       "<circle clip-path=\"url(#clip142)\" cx=\"1132.19\" cy=\"810.012\" r=\"10.8\" fill=\"#ffffff\" fill-rule=\"evenodd\" fill-opacity=\"1\" stroke=\"#000000\" stroke-opacity=\"1\" stroke-width=\"3.2\"/>\n",
       "<circle clip-path=\"url(#clip142)\" cx=\"1061.05\" cy=\"1384.24\" r=\"10.8\" fill=\"#ffffff\" fill-rule=\"evenodd\" fill-opacity=\"1\" stroke=\"#000000\" stroke-opacity=\"1\" stroke-width=\"3.2\"/>\n",
       "<circle clip-path=\"url(#clip142)\" cx=\"1061.05\" cy=\"1384.24\" r=\"10.8\" fill=\"#ffffff\" fill-rule=\"evenodd\" fill-opacity=\"1\" stroke=\"#000000\" stroke-opacity=\"1\" stroke-width=\"3.2\"/>\n",
       "<circle clip-path=\"url(#clip142)\" cx=\"1061.05\" cy=\"1384.24\" r=\"10.8\" fill=\"#ffffff\" fill-rule=\"evenodd\" fill-opacity=\"1\" stroke=\"#000000\" stroke-opacity=\"1\" stroke-width=\"3.2\"/>\n",
       "<circle clip-path=\"url(#clip142)\" cx=\"1062.09\" cy=\"1311.12\" r=\"10.8\" fill=\"#ffffff\" fill-rule=\"evenodd\" fill-opacity=\"1\" stroke=\"#000000\" stroke-opacity=\"1\" stroke-width=\"3.2\"/>\n",
       "<circle clip-path=\"url(#clip142)\" cx=\"1113.92\" cy=\"865.691\" r=\"10.8\" fill=\"#ffffff\" fill-rule=\"evenodd\" fill-opacity=\"1\" stroke=\"#000000\" stroke-opacity=\"1\" stroke-width=\"3.2\"/>\n",
       "<circle clip-path=\"url(#clip142)\" cx=\"1434.43\" cy=\"475.939\" r=\"10.8\" fill=\"#ffffff\" fill-rule=\"evenodd\" fill-opacity=\"1\" stroke=\"#000000\" stroke-opacity=\"1\" stroke-width=\"3.2\"/>\n",
       "<circle clip-path=\"url(#clip142)\" cx=\"1061.05\" cy=\"1384.24\" r=\"10.8\" fill=\"#ffffff\" fill-rule=\"evenodd\" fill-opacity=\"1\" stroke=\"#000000\" stroke-opacity=\"1\" stroke-width=\"3.2\"/>\n",
       "<circle clip-path=\"url(#clip142)\" cx=\"1161.49\" cy=\"754.333\" r=\"10.8\" fill=\"#ffffff\" fill-rule=\"evenodd\" fill-opacity=\"1\" stroke=\"#000000\" stroke-opacity=\"1\" stroke-width=\"3.2\"/>\n",
       "<circle clip-path=\"url(#clip142)\" cx=\"1061.05\" cy=\"1384.24\" r=\"10.8\" fill=\"#ffffff\" fill-rule=\"evenodd\" fill-opacity=\"1\" stroke=\"#000000\" stroke-opacity=\"1\" stroke-width=\"3.2\"/>\n",
       "<circle clip-path=\"url(#clip142)\" cx=\"1743.94\" cy=\"253.223\" r=\"10.8\" fill=\"#ffffff\" fill-rule=\"evenodd\" fill-opacity=\"1\" stroke=\"#000000\" stroke-opacity=\"1\" stroke-width=\"3.2\"/>\n",
       "<circle clip-path=\"url(#clip142)\" cx=\"1828.19\" cy=\"197.544\" r=\"10.8\" fill=\"#ffffff\" fill-rule=\"evenodd\" fill-opacity=\"1\" stroke=\"#000000\" stroke-opacity=\"1\" stroke-width=\"3.2\"/>\n",
       "<circle clip-path=\"url(#clip142)\" cx=\"1914.37\" cy=\"141.865\" r=\"10.8\" fill=\"#ffffff\" fill-rule=\"evenodd\" fill-opacity=\"1\" stroke=\"#000000\" stroke-opacity=\"1\" stroke-width=\"3.2\"/>\n",
       "<path clip-path=\"url(#clip140)\" d=\"M319.649 248.629 L634.206 248.629 L634.206 93.1086 L319.649 93.1086  Z\" fill=\"#ffffff\" fill-rule=\"evenodd\" fill-opacity=\"1\"/>\n",
       "<polyline clip-path=\"url(#clip140)\" style=\"stroke:#000000; stroke-linecap:round; stroke-linejoin:round; stroke-width:4; stroke-opacity:1; fill:none\" points=\"319.649,248.629 634.206,248.629 634.206,93.1086 319.649,93.1086 319.649,248.629 \"/>\n",
       "<polyline clip-path=\"url(#clip140)\" style=\"stroke:#b0b0b0; stroke-linecap:round; stroke-linejoin:round; stroke-width:16; stroke-opacity:1; fill:none\" points=\"343.018,144.949 483.232,144.949 \"/>\n",
       "<path clip-path=\"url(#clip140)\" d=\"M511.277 131.511 L511.277 158.386 L516.926 158.386 Q524.078 158.386 527.388 155.145 Q530.722 151.905 530.722 144.914 Q530.722 137.969 527.388 134.752 Q524.078 131.511 516.926 131.511 L511.277 131.511 M506.602 127.669 L516.208 127.669 Q526.254 127.669 530.953 131.858 Q535.652 136.025 535.652 144.914 Q535.652 153.849 530.93 158.039 Q526.208 162.229 516.208 162.229 L506.602 162.229 L506.602 127.669 Z\" fill=\"#000000\" fill-rule=\"nonzero\" fill-opacity=\"1\" /><path clip-path=\"url(#clip140)\" d=\"M554.703 149.196 Q549.541 149.196 547.55 150.377 Q545.56 151.557 545.56 154.405 Q545.56 156.673 547.041 158.016 Q548.546 159.335 551.115 159.335 Q554.657 159.335 556.786 156.835 Q558.939 154.312 558.939 150.145 L558.939 149.196 L554.703 149.196 M563.198 147.437 L563.198 162.229 L558.939 162.229 L558.939 158.293 Q557.481 160.655 555.305 161.789 Q553.129 162.9 549.981 162.9 Q545.999 162.9 543.638 160.678 Q541.3 158.432 541.3 154.682 Q541.3 150.307 544.217 148.085 Q547.157 145.863 552.967 145.863 L558.939 145.863 L558.939 145.446 Q558.939 142.507 556.995 140.909 Q555.073 139.289 551.578 139.289 Q549.356 139.289 547.249 139.821 Q545.143 140.354 543.199 141.419 L543.199 137.483 Q545.536 136.581 547.736 136.141 Q549.935 135.678 552.018 135.678 Q557.643 135.678 560.421 138.594 Q563.198 141.511 563.198 147.437 Z\" fill=\"#000000\" fill-rule=\"nonzero\" fill-opacity=\"1\" /><path clip-path=\"url(#clip140)\" d=\"M576.184 128.942 L576.184 136.303 L584.958 136.303 L584.958 139.613 L576.184 139.613 L576.184 153.687 Q576.184 156.858 577.041 157.761 Q577.921 158.664 580.583 158.664 L584.958 158.664 L584.958 162.229 L580.583 162.229 Q575.652 162.229 573.777 160.4 Q571.902 158.548 571.902 153.687 L571.902 139.613 L568.777 139.613 L568.777 136.303 L571.902 136.303 L571.902 128.942 L576.184 128.942 Z\" fill=\"#000000\" fill-rule=\"nonzero\" fill-opacity=\"1\" /><path clip-path=\"url(#clip140)\" d=\"M602.342 149.196 Q597.18 149.196 595.189 150.377 Q593.198 151.557 593.198 154.405 Q593.198 156.673 594.68 158.016 Q596.184 159.335 598.754 159.335 Q602.295 159.335 604.425 156.835 Q606.578 154.312 606.578 150.145 L606.578 149.196 L602.342 149.196 M610.837 147.437 L610.837 162.229 L606.578 162.229 L606.578 158.293 Q605.119 160.655 602.944 161.789 Q600.768 162.9 597.62 162.9 Q593.638 162.9 591.277 160.678 Q588.939 158.432 588.939 154.682 Q588.939 150.307 591.856 148.085 Q594.795 145.863 600.606 145.863 L606.578 145.863 L606.578 145.446 Q606.578 142.507 604.633 140.909 Q602.712 139.289 599.217 139.289 Q596.995 139.289 594.888 139.821 Q592.782 140.354 590.837 141.419 L590.837 137.483 Q593.175 136.581 595.374 136.141 Q597.573 135.678 599.657 135.678 Q605.282 135.678 608.059 138.594 Q610.837 141.511 610.837 147.437 Z\" fill=\"#000000\" fill-rule=\"nonzero\" fill-opacity=\"1\" /><polyline clip-path=\"url(#clip140)\" style=\"stroke:#ff0000; stroke-linecap:round; stroke-linejoin:round; stroke-width:16; stroke-opacity:1; fill:none\" points=\"343.018,196.789 483.232,196.789 \"/>\n",
       "<path clip-path=\"url(#clip140)\" d=\"M528.847 180.643 L528.847 185.203 Q526.185 183.93 523.824 183.305 Q521.463 182.68 519.263 182.68 Q515.444 182.68 513.361 184.161 Q511.301 185.643 511.301 188.374 Q511.301 190.666 512.666 191.847 Q514.055 193.004 517.898 193.722 L520.722 194.3 Q525.953 195.296 528.43 197.819 Q530.93 200.319 530.93 204.532 Q530.93 209.555 527.55 212.147 Q524.194 214.74 517.689 214.74 Q515.236 214.74 512.458 214.184 Q509.703 213.629 506.74 212.541 L506.74 207.726 Q509.588 209.323 512.319 210.133 Q515.051 210.944 517.689 210.944 Q521.694 210.944 523.87 209.37 Q526.046 207.796 526.046 204.879 Q526.046 202.333 524.472 200.897 Q522.921 199.462 519.356 198.745 L516.509 198.189 Q511.277 197.147 508.939 194.925 Q506.602 192.703 506.602 188.745 Q506.602 184.161 509.819 181.522 Q513.06 178.884 518.731 178.884 Q521.162 178.884 523.685 179.323 Q526.208 179.763 528.847 180.643 Z\" fill=\"#000000\" fill-rule=\"nonzero\" fill-opacity=\"1\" /><path clip-path=\"url(#clip140)\" d=\"M538.222 179.509 L542.898 179.509 L542.898 214.069 L538.222 214.069 L538.222 179.509 Z\" fill=\"#000000\" fill-rule=\"nonzero\" fill-opacity=\"1\" /><path clip-path=\"url(#clip140)\" d=\"M552.203 179.509 L559.171 179.509 L567.99 203.027 L576.856 179.509 L583.823 179.509 L583.823 214.069 L579.263 214.069 L579.263 183.722 L570.351 207.425 L565.652 207.425 L556.74 183.722 L556.74 214.069 L552.203 214.069 L552.203 179.509 Z\" fill=\"#000000\" fill-rule=\"nonzero\" fill-opacity=\"1\" /></svg>\n"
      ],
      "text/html": [
       "<?xml version=\"1.0\" encoding=\"utf-8\"?>\n",
       "<svg xmlns=\"http://www.w3.org/2000/svg\" xmlns:xlink=\"http://www.w3.org/1999/xlink\" width=\"600\" height=\"400\" viewBox=\"0 0 2400 1600\">\n",
       "<defs>\n",
       "  <clipPath id=\"clip190\">\n",
       "    <rect x=\"0\" y=\"0\" width=\"2400\" height=\"1600\"/>\n",
       "  </clipPath>\n",
       "</defs>\n",
       "<path clip-path=\"url(#clip190)\" d=\"M0 1600 L2400 1600 L2400 8.88178e-14 L0 8.88178e-14  Z\" fill=\"#ffffff\" fill-rule=\"evenodd\" fill-opacity=\"1\"/>\n",
       "<defs>\n",
       "  <clipPath id=\"clip191\">\n",
       "    <rect x=\"480\" y=\"0\" width=\"1681\" height=\"1600\"/>\n",
       "  </clipPath>\n",
       "</defs>\n",
       "<path clip-path=\"url(#clip190)\" d=\"M249.542 1423.18 L2352.76 1423.18 L2352.76 47.2441 L249.542 47.2441  Z\" fill=\"#ffffff\" fill-rule=\"evenodd\" fill-opacity=\"1\"/>\n",
       "<defs>\n",
       "  <clipPath id=\"clip192\">\n",
       "    <rect x=\"249\" y=\"47\" width=\"2104\" height=\"1377\"/>\n",
       "  </clipPath>\n",
       "</defs>\n",
       "<polyline clip-path=\"url(#clip192)\" style=\"stroke:#000000; stroke-linecap:round; stroke-linejoin:round; stroke-width:2; stroke-opacity:0.1; fill:none\" points=\"249.542,1423.18 249.542,47.2441 \"/>\n",
       "<polyline clip-path=\"url(#clip192)\" style=\"stroke:#000000; stroke-linecap:round; stroke-linejoin:round; stroke-width:2; stroke-opacity:0.1; fill:none\" points=\"640.693,1423.18 640.693,47.2441 \"/>\n",
       "<polyline clip-path=\"url(#clip192)\" style=\"stroke:#000000; stroke-linecap:round; stroke-linejoin:round; stroke-width:2; stroke-opacity:0.1; fill:none\" points=\"1031.84,1423.18 1031.84,47.2441 \"/>\n",
       "<polyline clip-path=\"url(#clip192)\" style=\"stroke:#000000; stroke-linecap:round; stroke-linejoin:round; stroke-width:2; stroke-opacity:0.1; fill:none\" points=\"1422.99,1423.18 1422.99,47.2441 \"/>\n",
       "<polyline clip-path=\"url(#clip192)\" style=\"stroke:#000000; stroke-linecap:round; stroke-linejoin:round; stroke-width:2; stroke-opacity:0.1; fill:none\" points=\"1814.15,1423.18 1814.15,47.2441 \"/>\n",
       "<polyline clip-path=\"url(#clip192)\" style=\"stroke:#000000; stroke-linecap:round; stroke-linejoin:round; stroke-width:2; stroke-opacity:0.1; fill:none\" points=\"2205.3,1423.18 2205.3,47.2441 \"/>\n",
       "<polyline clip-path=\"url(#clip190)\" style=\"stroke:#000000; stroke-linecap:round; stroke-linejoin:round; stroke-width:4; stroke-opacity:1; fill:none\" points=\"249.542,1423.18 2352.76,1423.18 \"/>\n",
       "<polyline clip-path=\"url(#clip190)\" style=\"stroke:#000000; stroke-linecap:round; stroke-linejoin:round; stroke-width:4; stroke-opacity:1; fill:none\" points=\"249.542,1423.18 249.542,1404.28 \"/>\n",
       "<polyline clip-path=\"url(#clip190)\" style=\"stroke:#000000; stroke-linecap:round; stroke-linejoin:round; stroke-width:4; stroke-opacity:1; fill:none\" points=\"640.693,1423.18 640.693,1404.28 \"/>\n",
       "<polyline clip-path=\"url(#clip190)\" style=\"stroke:#000000; stroke-linecap:round; stroke-linejoin:round; stroke-width:4; stroke-opacity:1; fill:none\" points=\"1031.84,1423.18 1031.84,1404.28 \"/>\n",
       "<polyline clip-path=\"url(#clip190)\" style=\"stroke:#000000; stroke-linecap:round; stroke-linejoin:round; stroke-width:4; stroke-opacity:1; fill:none\" points=\"1422.99,1423.18 1422.99,1404.28 \"/>\n",
       "<polyline clip-path=\"url(#clip190)\" style=\"stroke:#000000; stroke-linecap:round; stroke-linejoin:round; stroke-width:4; stroke-opacity:1; fill:none\" points=\"1814.15,1423.18 1814.15,1404.28 \"/>\n",
       "<polyline clip-path=\"url(#clip190)\" style=\"stroke:#000000; stroke-linecap:round; stroke-linejoin:round; stroke-width:4; stroke-opacity:1; fill:none\" points=\"2205.3,1423.18 2205.3,1404.28 \"/>\n",
       "<path clip-path=\"url(#clip190)\" d=\"M226.926 1454.1 Q223.315 1454.1 221.487 1457.66 Q219.681 1461.2 219.681 1468.33 Q219.681 1475.44 221.487 1479.01 Q223.315 1482.55 226.926 1482.55 Q230.561 1482.55 232.366 1479.01 Q234.195 1475.44 234.195 1468.33 Q234.195 1461.2 232.366 1457.66 Q230.561 1454.1 226.926 1454.1 M226.926 1450.39 Q232.737 1450.39 235.792 1455 Q238.871 1459.58 238.871 1468.33 Q238.871 1477.06 235.792 1481.67 Q232.737 1486.25 226.926 1486.25 Q221.116 1486.25 218.038 1481.67 Q214.982 1477.06 214.982 1468.33 Q214.982 1459.58 218.038 1455 Q221.116 1450.39 226.926 1450.39 Z\" fill=\"#000000\" fill-rule=\"nonzero\" fill-opacity=\"1\" /><path clip-path=\"url(#clip190)\" d=\"M247.088 1479.7 L251.973 1479.7 L251.973 1485.58 L247.088 1485.58 L247.088 1479.7 Z\" fill=\"#000000\" fill-rule=\"nonzero\" fill-opacity=\"1\" /><path clip-path=\"url(#clip190)\" d=\"M272.158 1454.1 Q268.547 1454.1 266.718 1457.66 Q264.912 1461.2 264.912 1468.33 Q264.912 1475.44 266.718 1479.01 Q268.547 1482.55 272.158 1482.55 Q275.792 1482.55 277.597 1479.01 Q279.426 1475.44 279.426 1468.33 Q279.426 1461.2 277.597 1457.66 Q275.792 1454.1 272.158 1454.1 M272.158 1450.39 Q277.968 1450.39 281.023 1455 Q284.102 1459.58 284.102 1468.33 Q284.102 1477.06 281.023 1481.67 Q277.968 1486.25 272.158 1486.25 Q266.347 1486.25 263.269 1481.67 Q260.213 1477.06 260.213 1468.33 Q260.213 1459.58 263.269 1455 Q266.347 1450.39 272.158 1450.39 Z\" fill=\"#000000\" fill-rule=\"nonzero\" fill-opacity=\"1\" /><path clip-path=\"url(#clip190)\" d=\"M618.691 1454.1 Q615.08 1454.1 613.251 1457.66 Q611.445 1461.2 611.445 1468.33 Q611.445 1475.44 613.251 1479.01 Q615.08 1482.55 618.691 1482.55 Q622.325 1482.55 624.131 1479.01 Q625.959 1475.44 625.959 1468.33 Q625.959 1461.2 624.131 1457.66 Q622.325 1454.1 618.691 1454.1 M618.691 1450.39 Q624.501 1450.39 627.556 1455 Q630.635 1459.58 630.635 1468.33 Q630.635 1477.06 627.556 1481.67 Q624.501 1486.25 618.691 1486.25 Q612.881 1486.25 609.802 1481.67 Q606.746 1477.06 606.746 1468.33 Q606.746 1459.58 609.802 1455 Q612.881 1450.39 618.691 1450.39 Z\" fill=\"#000000\" fill-rule=\"nonzero\" fill-opacity=\"1\" /><path clip-path=\"url(#clip190)\" d=\"M638.853 1479.7 L643.737 1479.7 L643.737 1485.58 L638.853 1485.58 L638.853 1479.7 Z\" fill=\"#000000\" fill-rule=\"nonzero\" fill-opacity=\"1\" /><path clip-path=\"url(#clip190)\" d=\"M654.732 1481.64 L662.371 1481.64 L662.371 1455.28 L654.061 1456.95 L654.061 1452.69 L662.325 1451.02 L667.001 1451.02 L667.001 1481.64 L674.64 1481.64 L674.64 1485.58 L654.732 1485.58 L654.732 1481.64 Z\" fill=\"#000000\" fill-rule=\"nonzero\" fill-opacity=\"1\" /><path clip-path=\"url(#clip190)\" d=\"M1010.03 1454.1 Q1006.42 1454.1 1004.59 1457.66 Q1002.78 1461.2 1002.78 1468.33 Q1002.78 1475.44 1004.59 1479.01 Q1006.42 1482.55 1010.03 1482.55 Q1013.66 1482.55 1015.47 1479.01 Q1017.3 1475.44 1017.3 1468.33 Q1017.3 1461.2 1015.47 1457.66 Q1013.66 1454.1 1010.03 1454.1 M1010.03 1450.39 Q1015.84 1450.39 1018.89 1455 Q1021.97 1459.58 1021.97 1468.33 Q1021.97 1477.06 1018.89 1481.67 Q1015.84 1486.25 1010.03 1486.25 Q1004.22 1486.25 1001.14 1481.67 Q998.082 1477.06 998.082 1468.33 Q998.082 1459.58 1001.14 1455 Q1004.22 1450.39 1010.03 1450.39 Z\" fill=\"#000000\" fill-rule=\"nonzero\" fill-opacity=\"1\" /><path clip-path=\"url(#clip190)\" d=\"M1030.19 1479.7 L1035.07 1479.7 L1035.07 1485.58 L1030.19 1485.58 L1030.19 1479.7 Z\" fill=\"#000000\" fill-rule=\"nonzero\" fill-opacity=\"1\" /><path clip-path=\"url(#clip190)\" d=\"M1049.29 1481.64 L1065.61 1481.64 L1065.61 1485.58 L1043.66 1485.58 L1043.66 1481.64 Q1046.32 1478.89 1050.91 1474.26 Q1055.51 1469.61 1056.69 1468.27 Q1058.94 1465.74 1059.82 1464.01 Q1060.72 1462.25 1060.72 1460.56 Q1060.72 1457.8 1058.78 1456.07 Q1056.86 1454.33 1053.75 1454.33 Q1051.55 1454.33 1049.1 1455.09 Q1046.67 1455.86 1043.89 1457.41 L1043.89 1452.69 Q1046.72 1451.55 1049.17 1450.97 Q1051.62 1450.39 1053.66 1450.39 Q1059.03 1450.39 1062.23 1453.08 Q1065.42 1455.77 1065.42 1460.26 Q1065.42 1462.39 1064.61 1464.31 Q1063.82 1466.2 1061.72 1468.8 Q1061.14 1469.47 1058.04 1472.69 Q1054.93 1475.88 1049.29 1481.64 Z\" fill=\"#000000\" fill-rule=\"nonzero\" fill-opacity=\"1\" /><path clip-path=\"url(#clip190)\" d=\"M1400.7 1454.1 Q1397.09 1454.1 1395.26 1457.66 Q1393.46 1461.2 1393.46 1468.33 Q1393.46 1475.44 1395.26 1479.01 Q1397.09 1482.55 1400.7 1482.55 Q1404.34 1482.55 1406.14 1479.01 Q1407.97 1475.44 1407.97 1468.33 Q1407.97 1461.2 1406.14 1457.66 Q1404.34 1454.1 1400.7 1454.1 M1400.7 1450.39 Q1406.51 1450.39 1409.57 1455 Q1412.65 1459.58 1412.65 1468.33 Q1412.65 1477.06 1409.57 1481.67 Q1406.51 1486.25 1400.7 1486.25 Q1394.89 1486.25 1391.81 1481.67 Q1388.76 1477.06 1388.76 1468.33 Q1388.76 1459.58 1391.81 1455 Q1394.89 1450.39 1400.7 1450.39 Z\" fill=\"#000000\" fill-rule=\"nonzero\" fill-opacity=\"1\" /><path clip-path=\"url(#clip190)\" d=\"M1420.87 1479.7 L1425.75 1479.7 L1425.75 1485.58 L1420.87 1485.58 L1420.87 1479.7 Z\" fill=\"#000000\" fill-rule=\"nonzero\" fill-opacity=\"1\" /><path clip-path=\"url(#clip190)\" d=\"M1450.1 1466.95 Q1453.46 1467.66 1455.33 1469.93 Q1457.23 1472.2 1457.23 1475.53 Q1457.23 1480.65 1453.71 1483.45 Q1450.19 1486.25 1443.71 1486.25 Q1441.54 1486.25 1439.22 1485.81 Q1436.93 1485.39 1434.48 1484.54 L1434.48 1480.02 Q1436.42 1481.16 1438.74 1481.74 Q1441.05 1482.32 1443.57 1482.32 Q1447.97 1482.32 1450.26 1480.58 Q1452.58 1478.84 1452.58 1475.53 Q1452.58 1472.48 1450.43 1470.77 Q1448.3 1469.03 1444.48 1469.03 L1440.45 1469.03 L1440.45 1465.19 L1444.66 1465.19 Q1448.11 1465.19 1449.94 1463.82 Q1451.77 1462.43 1451.77 1459.84 Q1451.77 1457.18 1449.87 1455.77 Q1447.99 1454.33 1444.48 1454.33 Q1442.55 1454.33 1440.36 1454.75 Q1438.16 1455.16 1435.52 1456.04 L1435.52 1451.88 Q1438.18 1451.14 1440.49 1450.77 Q1442.83 1450.39 1444.89 1450.39 Q1450.22 1450.39 1453.32 1452.83 Q1456.42 1455.23 1456.42 1459.35 Q1456.42 1462.22 1454.78 1464.21 Q1453.13 1466.18 1450.1 1466.95 Z\" fill=\"#000000\" fill-rule=\"nonzero\" fill-opacity=\"1\" /><path clip-path=\"url(#clip190)\" d=\"M1791.29 1454.1 Q1787.68 1454.1 1785.85 1457.66 Q1784.04 1461.2 1784.04 1468.33 Q1784.04 1475.44 1785.85 1479.01 Q1787.68 1482.55 1791.29 1482.55 Q1794.92 1482.55 1796.73 1479.01 Q1798.56 1475.44 1798.56 1468.33 Q1798.56 1461.2 1796.73 1457.66 Q1794.92 1454.1 1791.29 1454.1 M1791.29 1450.39 Q1797.1 1450.39 1800.15 1455 Q1803.23 1459.58 1803.23 1468.33 Q1803.23 1477.06 1800.15 1481.67 Q1797.1 1486.25 1791.29 1486.25 Q1785.48 1486.25 1782.4 1481.67 Q1779.34 1477.06 1779.34 1468.33 Q1779.34 1459.58 1782.4 1455 Q1785.48 1450.39 1791.29 1450.39 Z\" fill=\"#000000\" fill-rule=\"nonzero\" fill-opacity=\"1\" /><path clip-path=\"url(#clip190)\" d=\"M1811.45 1479.7 L1816.33 1479.7 L1816.33 1485.58 L1811.45 1485.58 L1811.45 1479.7 Z\" fill=\"#000000\" fill-rule=\"nonzero\" fill-opacity=\"1\" /><path clip-path=\"url(#clip190)\" d=\"M1839.37 1455.09 L1827.56 1473.54 L1839.37 1473.54 L1839.37 1455.09 M1838.14 1451.02 L1844.02 1451.02 L1844.02 1473.54 L1848.95 1473.54 L1848.95 1477.43 L1844.02 1477.43 L1844.02 1485.58 L1839.37 1485.58 L1839.37 1477.43 L1823.76 1477.43 L1823.76 1472.92 L1838.14 1451.02 Z\" fill=\"#000000\" fill-rule=\"nonzero\" fill-opacity=\"1\" /><path clip-path=\"url(#clip190)\" d=\"M2183.18 1454.1 Q2179.57 1454.1 2177.74 1457.66 Q2175.93 1461.2 2175.93 1468.33 Q2175.93 1475.44 2177.74 1479.01 Q2179.57 1482.55 2183.18 1482.55 Q2186.81 1482.55 2188.62 1479.01 Q2190.45 1475.44 2190.45 1468.33 Q2190.45 1461.2 2188.62 1457.66 Q2186.81 1454.1 2183.18 1454.1 M2183.18 1450.39 Q2188.99 1450.39 2192.04 1455 Q2195.12 1459.58 2195.12 1468.33 Q2195.12 1477.06 2192.04 1481.67 Q2188.99 1486.25 2183.18 1486.25 Q2177.37 1486.25 2174.29 1481.67 Q2171.23 1477.06 2171.23 1468.33 Q2171.23 1459.58 2174.29 1455 Q2177.37 1450.39 2183.18 1450.39 Z\" fill=\"#000000\" fill-rule=\"nonzero\" fill-opacity=\"1\" /><path clip-path=\"url(#clip190)\" d=\"M2203.34 1479.7 L2208.22 1479.7 L2208.22 1485.58 L2203.34 1485.58 L2203.34 1479.7 Z\" fill=\"#000000\" fill-rule=\"nonzero\" fill-opacity=\"1\" /><path clip-path=\"url(#clip190)\" d=\"M2218.46 1451.02 L2236.81 1451.02 L2236.81 1454.96 L2222.74 1454.96 L2222.74 1463.43 Q2223.76 1463.08 2224.78 1462.92 Q2225.79 1462.73 2226.81 1462.73 Q2232.6 1462.73 2235.98 1465.9 Q2239.36 1469.08 2239.36 1474.49 Q2239.36 1480.07 2235.89 1483.17 Q2232.41 1486.25 2226.1 1486.25 Q2223.92 1486.25 2221.65 1485.88 Q2219.41 1485.51 2217 1484.77 L2217 1480.07 Q2219.08 1481.2 2221.3 1481.76 Q2223.53 1482.32 2226 1482.32 Q2230.01 1482.32 2232.35 1480.21 Q2234.68 1478.1 2234.68 1474.49 Q2234.68 1470.88 2232.35 1468.77 Q2230.01 1466.67 2226 1466.67 Q2224.13 1466.67 2222.25 1467.08 Q2220.4 1467.5 2218.46 1468.38 L2218.46 1451.02 Z\" fill=\"#000000\" fill-rule=\"nonzero\" fill-opacity=\"1\" /><path clip-path=\"url(#clip190)\" d=\"M1001.94 1525.81 L1001.94 1543.66 L1010.03 1543.66 Q1014.52 1543.66 1016.97 1541.34 Q1019.42 1539.02 1019.42 1534.72 Q1019.42 1530.45 1016.97 1528.13 Q1014.52 1525.81 1010.03 1525.81 L1001.94 1525.81 M995.515 1520.52 L1010.03 1520.52 Q1018.02 1520.52 1022.09 1524.15 Q1026.2 1527.75 1026.2 1534.72 Q1026.2 1541.75 1022.09 1545.35 Q1018.02 1548.95 1010.03 1548.95 L1001.94 1548.95 L1001.94 1568.04 L995.515 1568.04 L995.515 1520.52 Z\" fill=\"#000000\" fill-rule=\"nonzero\" fill-opacity=\"1\" /><path clip-path=\"url(#clip190)\" d=\"M1046.06 1536.5 Q1041.35 1536.5 1038.61 1540.19 Q1035.87 1543.85 1035.87 1550.25 Q1035.87 1556.65 1038.58 1560.34 Q1041.32 1564 1046.06 1564 Q1050.74 1564 1053.48 1560.31 Q1056.21 1556.62 1056.21 1550.25 Q1056.21 1543.92 1053.48 1540.23 Q1050.74 1536.5 1046.06 1536.5 M1046.06 1531.54 Q1053.7 1531.54 1058.06 1536.5 Q1062.42 1541.47 1062.42 1550.25 Q1062.42 1559 1058.06 1564 Q1053.7 1568.97 1046.06 1568.97 Q1038.39 1568.97 1034.03 1564 Q1029.7 1559 1029.7 1550.25 Q1029.7 1541.47 1034.03 1536.5 Q1038.39 1531.54 1046.06 1531.54 Z\" fill=\"#000000\" fill-rule=\"nonzero\" fill-opacity=\"1\" /><path clip-path=\"url(#clip190)\" d=\"M1092.78 1537.87 Q1091.8 1537.3 1090.62 1537.04 Q1089.47 1536.76 1088.07 1536.76 Q1083.11 1536.76 1080.43 1540 Q1077.79 1543.22 1077.79 1549.27 L1077.79 1568.04 L1071.9 1568.04 L1071.9 1532.4 L1077.79 1532.4 L1077.79 1537.93 Q1079.64 1534.69 1082.6 1533.13 Q1085.56 1531.54 1089.79 1531.54 Q1090.4 1531.54 1091.13 1531.63 Q1091.86 1531.7 1092.75 1531.85 L1092.78 1537.87 Z\" fill=\"#000000\" fill-rule=\"nonzero\" fill-opacity=\"1\" /><path clip-path=\"url(#clip190)\" d=\"M1104.72 1522.27 L1104.72 1532.4 L1116.78 1532.4 L1116.78 1536.95 L1104.72 1536.95 L1104.72 1556.3 Q1104.72 1560.66 1105.9 1561.9 Q1107.11 1563.14 1110.77 1563.14 L1116.78 1563.14 L1116.78 1568.04 L1110.77 1568.04 Q1103.99 1568.04 1101.41 1565.53 Q1098.83 1562.98 1098.83 1556.3 L1098.83 1536.95 L1094.53 1536.95 L1094.53 1532.4 L1098.83 1532.4 L1098.83 1522.27 L1104.72 1522.27 Z\" fill=\"#000000\" fill-rule=\"nonzero\" fill-opacity=\"1\" /><path clip-path=\"url(#clip190)\" d=\"M1142.53 1518.52 L1142.53 1523.39 L1136.93 1523.39 Q1133.78 1523.39 1132.54 1524.66 Q1131.33 1525.93 1131.33 1529.24 L1131.33 1532.4 L1140.97 1532.4 L1140.97 1536.95 L1131.33 1536.95 L1131.33 1568.04 L1125.44 1568.04 L1125.44 1536.95 L1119.84 1536.95 L1119.84 1532.4 L1125.44 1532.4 L1125.44 1529.91 Q1125.44 1523.96 1128.21 1521.26 Q1130.98 1518.52 1136.99 1518.52 L1142.53 1518.52 Z\" fill=\"#000000\" fill-rule=\"nonzero\" fill-opacity=\"1\" /><path clip-path=\"url(#clip190)\" d=\"M1161.25 1536.5 Q1156.54 1536.5 1153.8 1540.19 Q1151.06 1543.85 1151.06 1550.25 Q1151.06 1556.65 1153.77 1560.34 Q1156.5 1564 1161.25 1564 Q1165.93 1564 1168.66 1560.31 Q1171.4 1556.62 1171.4 1550.25 Q1171.4 1543.92 1168.66 1540.23 Q1165.93 1536.5 1161.25 1536.5 M1161.25 1531.54 Q1168.89 1531.54 1173.25 1536.5 Q1177.61 1541.47 1177.61 1550.25 Q1177.61 1559 1173.25 1564 Q1168.89 1568.97 1161.25 1568.97 Q1153.58 1568.97 1149.22 1564 Q1144.89 1559 1144.89 1550.25 Q1144.89 1541.47 1149.22 1536.5 Q1153.58 1531.54 1161.25 1531.54 Z\" fill=\"#000000\" fill-rule=\"nonzero\" fill-opacity=\"1\" /><path clip-path=\"url(#clip190)\" d=\"M1187.31 1518.52 L1193.17 1518.52 L1193.17 1568.04 L1187.31 1568.04 L1187.31 1518.52 Z\" fill=\"#000000\" fill-rule=\"nonzero\" fill-opacity=\"1\" /><path clip-path=\"url(#clip190)\" d=\"M1205.42 1532.4 L1211.28 1532.4 L1211.28 1568.04 L1205.42 1568.04 L1205.42 1532.4 M1205.42 1518.52 L1211.28 1518.52 L1211.28 1525.93 L1205.42 1525.93 L1205.42 1518.52 Z\" fill=\"#000000\" fill-rule=\"nonzero\" fill-opacity=\"1\" /><path clip-path=\"url(#clip190)\" d=\"M1237.35 1536.5 Q1232.64 1536.5 1229.9 1540.19 Q1227.16 1543.85 1227.16 1550.25 Q1227.16 1556.65 1229.87 1560.34 Q1232.61 1564 1237.35 1564 Q1242.03 1564 1244.76 1560.31 Q1247.5 1556.62 1247.5 1550.25 Q1247.5 1543.92 1244.76 1540.23 Q1242.03 1536.5 1237.35 1536.5 M1237.35 1531.54 Q1244.99 1531.54 1249.35 1536.5 Q1253.71 1541.47 1253.71 1550.25 Q1253.71 1559 1249.35 1564 Q1244.99 1568.97 1237.35 1568.97 Q1229.68 1568.97 1225.32 1564 Q1220.99 1559 1220.99 1550.25 Q1220.99 1541.47 1225.32 1536.5 Q1229.68 1531.54 1237.35 1531.54 Z\" fill=\"#000000\" fill-rule=\"nonzero\" fill-opacity=\"1\" /><path clip-path=\"url(#clip190)\" d=\"M1306.93 1545.76 Q1308.99 1546.46 1310.94 1548.76 Q1312.91 1551.05 1314.88 1555.06 L1321.41 1568.04 L1314.5 1568.04 L1308.42 1555.85 Q1306.07 1551.08 1303.84 1549.52 Q1301.64 1547.96 1297.82 1547.96 L1290.82 1547.96 L1290.82 1568.04 L1284.39 1568.04 L1284.39 1520.52 L1298.91 1520.52 Q1307.05 1520.52 1311.06 1523.93 Q1315.07 1527.34 1315.07 1534.21 Q1315.07 1538.7 1312.97 1541.66 Q1310.9 1544.62 1306.93 1545.76 M1290.82 1525.81 L1290.82 1542.68 L1298.91 1542.68 Q1303.55 1542.68 1305.91 1540.54 Q1308.29 1538.38 1308.29 1534.21 Q1308.29 1530.04 1305.91 1527.94 Q1303.55 1525.81 1298.91 1525.81 L1290.82 1525.81 Z\" fill=\"#000000\" fill-rule=\"nonzero\" fill-opacity=\"1\" /><path clip-path=\"url(#clip190)\" d=\"M1329.43 1532.4 L1335.29 1532.4 L1335.29 1568.04 L1329.43 1568.04 L1329.43 1532.4 M1329.43 1518.52 L1335.29 1518.52 L1335.29 1525.93 L1329.43 1525.93 L1329.43 1518.52 Z\" fill=\"#000000\" fill-rule=\"nonzero\" fill-opacity=\"1\" /><path clip-path=\"url(#clip190)\" d=\"M1370.26 1533.45 L1370.26 1538.98 Q1367.78 1537.71 1365.11 1537.07 Q1362.43 1536.44 1359.57 1536.44 Q1355.21 1536.44 1353.01 1537.77 Q1350.85 1539.11 1350.85 1541.79 Q1350.85 1543.82 1352.41 1545 Q1353.97 1546.15 1358.68 1547.2 L1360.68 1547.64 Q1366.92 1548.98 1369.53 1551.43 Q1372.17 1553.85 1372.17 1558.21 Q1372.17 1563.17 1368.23 1566.07 Q1364.31 1568.97 1357.44 1568.97 Q1354.57 1568.97 1351.45 1568.39 Q1348.37 1567.85 1344.93 1566.74 L1344.93 1560.69 Q1348.18 1562.38 1351.33 1563.24 Q1354.48 1564.07 1357.57 1564.07 Q1361.7 1564.07 1363.93 1562.66 Q1366.16 1561.23 1366.16 1558.65 Q1366.16 1556.27 1364.54 1554.99 Q1362.94 1553.72 1357.5 1552.54 L1355.46 1552.07 Q1350.02 1550.92 1347.6 1548.56 Q1345.18 1546.18 1345.18 1542.04 Q1345.18 1537.01 1348.75 1534.27 Q1352.31 1531.54 1358.87 1531.54 Q1362.12 1531.54 1364.98 1532.01 Q1367.85 1532.49 1370.26 1533.45 Z\" fill=\"#000000\" fill-rule=\"nonzero\" fill-opacity=\"1\" /><path clip-path=\"url(#clip190)\" d=\"M1381.28 1518.52 L1387.17 1518.52 L1387.17 1547.77 L1404.64 1532.4 L1412.12 1532.4 L1393.21 1549.07 L1412.91 1568.04 L1405.28 1568.04 L1387.17 1550.63 L1387.17 1568.04 L1381.28 1568.04 L1381.28 1518.52 Z\" fill=\"#000000\" fill-rule=\"nonzero\" fill-opacity=\"1\" /><path clip-path=\"url(#clip190)\" d=\"M1454.04 1518.58 Q1449.77 1525.9 1447.7 1533.06 Q1445.63 1540.23 1445.63 1547.58 Q1445.63 1554.93 1447.7 1562.16 Q1449.8 1569.35 1454.04 1576.64 L1448.94 1576.64 Q1444.17 1569.16 1441.78 1561.93 Q1439.43 1554.71 1439.43 1547.58 Q1439.43 1540.48 1441.78 1533.29 Q1444.14 1526.09 1448.94 1518.58 L1454.04 1518.58 Z\" fill=\"#000000\" fill-rule=\"nonzero\" fill-opacity=\"1\" /><path clip-path=\"url(#clip190)\" d=\"M1488.13 1533.45 L1488.13 1538.98 Q1485.64 1537.71 1482.97 1537.07 Q1480.3 1536.44 1477.43 1536.44 Q1473.07 1536.44 1470.87 1537.77 Q1468.71 1539.11 1468.71 1541.79 Q1468.71 1543.82 1470.27 1545 Q1471.83 1546.15 1476.54 1547.2 L1478.55 1547.64 Q1484.78 1548.98 1487.39 1551.43 Q1490.04 1553.85 1490.04 1558.21 Q1490.04 1563.17 1486.09 1566.07 Q1482.17 1568.97 1475.3 1568.97 Q1472.43 1568.97 1469.32 1568.39 Q1466.23 1567.85 1462.79 1566.74 L1462.79 1560.69 Q1466.04 1562.38 1469.19 1563.24 Q1472.34 1564.07 1475.43 1564.07 Q1479.56 1564.07 1481.79 1562.66 Q1484.02 1561.23 1484.02 1558.65 Q1484.02 1556.27 1482.4 1554.99 Q1480.81 1553.72 1475.36 1552.54 L1473.33 1552.07 Q1467.88 1550.92 1465.46 1548.56 Q1463.04 1546.18 1463.04 1542.04 Q1463.04 1537.01 1466.61 1534.27 Q1470.17 1531.54 1476.73 1531.54 Q1479.98 1531.54 1482.84 1532.01 Q1485.71 1532.49 1488.13 1533.45 Z\" fill=\"#000000\" fill-rule=\"nonzero\" fill-opacity=\"1\" /><path clip-path=\"url(#clip190)\" d=\"M1502.86 1550.25 Q1502.86 1556.71 1505.5 1560.4 Q1508.18 1564.07 1512.82 1564.07 Q1517.47 1564.07 1520.15 1560.4 Q1522.82 1556.71 1522.82 1550.25 Q1522.82 1543.79 1520.15 1540.13 Q1517.47 1536.44 1512.82 1536.44 Q1508.18 1536.44 1505.5 1540.13 Q1502.86 1543.79 1502.86 1550.25 M1522.82 1562.7 Q1520.97 1565.88 1518.14 1567.44 Q1515.34 1568.97 1511.39 1568.97 Q1504.93 1568.97 1500.86 1563.81 Q1496.81 1558.65 1496.81 1550.25 Q1496.81 1541.85 1500.86 1536.69 Q1504.93 1531.54 1511.39 1531.54 Q1515.34 1531.54 1518.14 1533.1 Q1520.97 1534.62 1522.82 1537.81 L1522.82 1532.4 L1528.68 1532.4 L1528.68 1581.6 L1522.82 1581.6 L1522.82 1562.7 Z\" fill=\"#000000\" fill-rule=\"nonzero\" fill-opacity=\"1\" /><path clip-path=\"url(#clip190)\" d=\"M1561.39 1537.87 Q1560.41 1537.3 1559.23 1537.04 Q1558.08 1536.76 1556.68 1536.76 Q1551.72 1536.76 1549.05 1540 Q1546.4 1543.22 1546.4 1549.27 L1546.4 1568.04 L1540.52 1568.04 L1540.52 1532.4 L1546.4 1532.4 L1546.4 1537.93 Q1548.25 1534.69 1551.21 1533.13 Q1554.17 1531.54 1558.4 1531.54 Q1559.01 1531.54 1559.74 1531.63 Q1560.47 1531.7 1561.36 1531.85 L1561.39 1537.87 Z\" fill=\"#000000\" fill-rule=\"nonzero\" fill-opacity=\"1\" /><path clip-path=\"url(#clip190)\" d=\"M1573.33 1522.27 L1573.33 1532.4 L1585.39 1532.4 L1585.39 1536.95 L1573.33 1536.95 L1573.33 1556.3 Q1573.33 1560.66 1574.51 1561.9 Q1575.72 1563.14 1579.38 1563.14 L1585.39 1563.14 L1585.39 1568.04 L1579.38 1568.04 Q1572.6 1568.04 1570.02 1565.53 Q1567.44 1562.98 1567.44 1556.3 L1567.44 1536.95 L1563.15 1536.95 L1563.15 1532.4 L1567.44 1532.4 L1567.44 1522.27 L1573.33 1522.27 Z\" fill=\"#000000\" fill-rule=\"nonzero\" fill-opacity=\"1\" /><path clip-path=\"url(#clip190)\" d=\"M1592.17 1518.58 L1597.27 1518.58 Q1602.04 1526.09 1604.4 1533.29 Q1606.78 1540.48 1606.78 1547.58 Q1606.78 1554.71 1604.4 1561.93 Q1602.04 1569.16 1597.27 1576.64 L1592.17 1576.64 Q1596.41 1569.35 1598.48 1562.16 Q1600.58 1554.93 1600.58 1547.58 Q1600.58 1540.23 1598.48 1533.06 Q1596.41 1525.9 1592.17 1518.58 Z\" fill=\"#000000\" fill-rule=\"nonzero\" fill-opacity=\"1\" /><polyline clip-path=\"url(#clip192)\" style=\"stroke:#000000; stroke-linecap:round; stroke-linejoin:round; stroke-width:2; stroke-opacity:0.1; fill:none\" points=\"249.542,1385.36 2352.76,1385.36 \"/>\n",
       "<polyline clip-path=\"url(#clip192)\" style=\"stroke:#000000; stroke-linecap:round; stroke-linejoin:round; stroke-width:2; stroke-opacity:0.1; fill:none\" points=\"249.542,1144.09 2352.76,1144.09 \"/>\n",
       "<polyline clip-path=\"url(#clip192)\" style=\"stroke:#000000; stroke-linecap:round; stroke-linejoin:round; stroke-width:2; stroke-opacity:0.1; fill:none\" points=\"249.542,902.811 2352.76,902.811 \"/>\n",
       "<polyline clip-path=\"url(#clip192)\" style=\"stroke:#000000; stroke-linecap:round; stroke-linejoin:round; stroke-width:2; stroke-opacity:0.1; fill:none\" points=\"249.542,661.535 2352.76,661.535 \"/>\n",
       "<polyline clip-path=\"url(#clip192)\" style=\"stroke:#000000; stroke-linecap:round; stroke-linejoin:round; stroke-width:2; stroke-opacity:0.1; fill:none\" points=\"249.542,420.26 2352.76,420.26 \"/>\n",
       "<polyline clip-path=\"url(#clip192)\" style=\"stroke:#000000; stroke-linecap:round; stroke-linejoin:round; stroke-width:2; stroke-opacity:0.1; fill:none\" points=\"249.542,178.984 2352.76,178.984 \"/>\n",
       "<polyline clip-path=\"url(#clip190)\" style=\"stroke:#000000; stroke-linecap:round; stroke-linejoin:round; stroke-width:4; stroke-opacity:1; fill:none\" points=\"249.542,1423.18 249.542,47.2441 \"/>\n",
       "<polyline clip-path=\"url(#clip190)\" style=\"stroke:#000000; stroke-linecap:round; stroke-linejoin:round; stroke-width:4; stroke-opacity:1; fill:none\" points=\"249.542,1385.36 268.44,1385.36 \"/>\n",
       "<polyline clip-path=\"url(#clip190)\" style=\"stroke:#000000; stroke-linecap:round; stroke-linejoin:round; stroke-width:4; stroke-opacity:1; fill:none\" points=\"249.542,1144.09 268.44,1144.09 \"/>\n",
       "<polyline clip-path=\"url(#clip190)\" style=\"stroke:#000000; stroke-linecap:round; stroke-linejoin:round; stroke-width:4; stroke-opacity:1; fill:none\" points=\"249.542,902.811 268.44,902.811 \"/>\n",
       "<polyline clip-path=\"url(#clip190)\" style=\"stroke:#000000; stroke-linecap:round; stroke-linejoin:round; stroke-width:4; stroke-opacity:1; fill:none\" points=\"249.542,661.535 268.44,661.535 \"/>\n",
       "<polyline clip-path=\"url(#clip190)\" style=\"stroke:#000000; stroke-linecap:round; stroke-linejoin:round; stroke-width:4; stroke-opacity:1; fill:none\" points=\"249.542,420.26 268.44,420.26 \"/>\n",
       "<polyline clip-path=\"url(#clip190)\" style=\"stroke:#000000; stroke-linecap:round; stroke-linejoin:round; stroke-width:4; stroke-opacity:1; fill:none\" points=\"249.542,178.984 268.44,178.984 \"/>\n",
       "<path clip-path=\"url(#clip190)\" d=\"M126.205 1371.16 Q122.593 1371.16 120.765 1374.73 Q118.959 1378.27 118.959 1385.4 Q118.959 1392.5 120.765 1396.07 Q122.593 1399.61 126.205 1399.61 Q129.839 1399.61 131.644 1396.07 Q133.473 1392.5 133.473 1385.4 Q133.473 1378.27 131.644 1374.73 Q129.839 1371.16 126.205 1371.16 M126.205 1367.46 Q132.015 1367.46 135.07 1372.06 Q138.149 1376.65 138.149 1385.4 Q138.149 1394.12 135.07 1398.73 Q132.015 1403.31 126.205 1403.31 Q120.394 1403.31 117.316 1398.73 Q114.26 1394.12 114.26 1385.4 Q114.26 1376.65 117.316 1372.06 Q120.394 1367.46 126.205 1367.46 Z\" fill=\"#000000\" fill-rule=\"nonzero\" fill-opacity=\"1\" /><path clip-path=\"url(#clip190)\" d=\"M146.366 1396.76 L151.251 1396.76 L151.251 1402.64 L146.366 1402.64 L146.366 1396.76 Z\" fill=\"#000000\" fill-rule=\"nonzero\" fill-opacity=\"1\" /><path clip-path=\"url(#clip190)\" d=\"M162.246 1398.71 L169.885 1398.71 L169.885 1372.34 L161.575 1374.01 L161.575 1369.75 L169.839 1368.08 L174.514 1368.08 L174.514 1398.71 L182.153 1398.71 L182.153 1402.64 L162.246 1402.64 L162.246 1398.71 Z\" fill=\"#000000\" fill-rule=\"nonzero\" fill-opacity=\"1\" /><path clip-path=\"url(#clip190)\" d=\"M201.598 1371.16 Q197.987 1371.16 196.158 1374.73 Q194.352 1378.27 194.352 1385.4 Q194.352 1392.5 196.158 1396.07 Q197.987 1399.61 201.598 1399.61 Q205.232 1399.61 207.037 1396.07 Q208.866 1392.5 208.866 1385.4 Q208.866 1378.27 207.037 1374.73 Q205.232 1371.16 201.598 1371.16 M201.598 1367.46 Q207.408 1367.46 210.463 1372.06 Q213.542 1376.65 213.542 1385.4 Q213.542 1394.12 210.463 1398.73 Q207.408 1403.31 201.598 1403.31 Q195.787 1403.31 192.709 1398.73 Q189.653 1394.12 189.653 1385.4 Q189.653 1376.65 192.709 1372.06 Q195.787 1367.46 201.598 1367.46 Z\" fill=\"#000000\" fill-rule=\"nonzero\" fill-opacity=\"1\" /><path clip-path=\"url(#clip190)\" d=\"M127.2 1129.89 Q123.589 1129.89 121.76 1133.45 Q119.955 1136.99 119.955 1144.12 Q119.955 1151.23 121.76 1154.79 Q123.589 1158.33 127.2 1158.33 Q130.834 1158.33 132.64 1154.79 Q134.468 1151.23 134.468 1144.12 Q134.468 1136.99 132.64 1133.45 Q130.834 1129.89 127.2 1129.89 M127.2 1126.18 Q133.01 1126.18 136.066 1130.79 Q139.144 1135.37 139.144 1144.12 Q139.144 1152.85 136.066 1157.45 Q133.01 1162.04 127.2 1162.04 Q121.39 1162.04 118.311 1157.45 Q115.256 1152.85 115.256 1144.12 Q115.256 1135.37 118.311 1130.79 Q121.39 1126.18 127.2 1126.18 Z\" fill=\"#000000\" fill-rule=\"nonzero\" fill-opacity=\"1\" /><path clip-path=\"url(#clip190)\" d=\"M147.362 1155.49 L152.246 1155.49 L152.246 1161.37 L147.362 1161.37 L147.362 1155.49 Z\" fill=\"#000000\" fill-rule=\"nonzero\" fill-opacity=\"1\" /><path clip-path=\"url(#clip190)\" d=\"M163.241 1157.43 L170.88 1157.43 L170.88 1131.07 L162.57 1132.73 L162.57 1128.47 L170.834 1126.81 L175.51 1126.81 L175.51 1157.43 L183.149 1157.43 L183.149 1161.37 L163.241 1161.37 L163.241 1157.43 Z\" fill=\"#000000\" fill-rule=\"nonzero\" fill-opacity=\"1\" /><path clip-path=\"url(#clip190)\" d=\"M192.639 1126.81 L210.996 1126.81 L210.996 1130.74 L196.922 1130.74 L196.922 1139.21 Q197.94 1138.87 198.959 1138.7 Q199.977 1138.52 200.996 1138.52 Q206.783 1138.52 210.162 1141.69 Q213.542 1144.86 213.542 1150.28 Q213.542 1155.86 210.07 1158.96 Q206.598 1162.04 200.278 1162.04 Q198.102 1162.04 195.834 1161.67 Q193.588 1161.3 191.181 1160.56 L191.181 1155.86 Q193.264 1156.99 195.487 1157.55 Q197.709 1158.1 200.186 1158.1 Q204.19 1158.1 206.528 1156 Q208.866 1153.89 208.866 1150.28 Q208.866 1146.67 206.528 1144.56 Q204.19 1142.45 200.186 1142.45 Q198.311 1142.45 196.436 1142.87 Q194.584 1143.29 192.639 1144.17 L192.639 1126.81 Z\" fill=\"#000000\" fill-rule=\"nonzero\" fill-opacity=\"1\" /><path clip-path=\"url(#clip190)\" d=\"M126.205 888.609 Q122.593 888.609 120.765 892.174 Q118.959 895.716 118.959 902.845 Q118.959 909.952 120.765 913.517 Q122.593 917.058 126.205 917.058 Q129.839 917.058 131.644 913.517 Q133.473 909.952 133.473 902.845 Q133.473 895.716 131.644 892.174 Q129.839 888.609 126.205 888.609 M126.205 884.906 Q132.015 884.906 135.07 889.512 Q138.149 894.096 138.149 902.845 Q138.149 911.572 135.07 916.179 Q132.015 920.762 126.205 920.762 Q120.394 920.762 117.316 916.179 Q114.26 911.572 114.26 902.845 Q114.26 894.096 117.316 889.512 Q120.394 884.906 126.205 884.906 Z\" fill=\"#000000\" fill-rule=\"nonzero\" fill-opacity=\"1\" /><path clip-path=\"url(#clip190)\" d=\"M146.366 914.211 L151.251 914.211 L151.251 920.091 L146.366 920.091 L146.366 914.211 Z\" fill=\"#000000\" fill-rule=\"nonzero\" fill-opacity=\"1\" /><path clip-path=\"url(#clip190)\" d=\"M165.464 916.156 L181.783 916.156 L181.783 920.091 L159.839 920.091 L159.839 916.156 Q162.501 913.401 167.084 908.771 Q171.69 904.119 172.871 902.776 Q175.116 900.253 175.996 898.517 Q176.899 896.758 176.899 895.068 Q176.899 892.313 174.954 890.577 Q173.033 888.841 169.931 888.841 Q167.732 888.841 165.278 889.605 Q162.848 890.369 160.07 891.92 L160.07 887.197 Q162.894 886.063 165.348 885.484 Q167.802 884.906 169.839 884.906 Q175.209 884.906 178.403 887.591 Q181.598 890.276 181.598 894.767 Q181.598 896.896 180.788 898.818 Q180.001 900.716 177.894 903.308 Q177.315 903.98 174.214 907.197 Q171.112 910.392 165.464 916.156 Z\" fill=\"#000000\" fill-rule=\"nonzero\" fill-opacity=\"1\" /><path clip-path=\"url(#clip190)\" d=\"M201.598 888.609 Q197.987 888.609 196.158 892.174 Q194.352 895.716 194.352 902.845 Q194.352 909.952 196.158 913.517 Q197.987 917.058 201.598 917.058 Q205.232 917.058 207.037 913.517 Q208.866 909.952 208.866 902.845 Q208.866 895.716 207.037 892.174 Q205.232 888.609 201.598 888.609 M201.598 884.906 Q207.408 884.906 210.463 889.512 Q213.542 894.096 213.542 902.845 Q213.542 911.572 210.463 916.179 Q207.408 920.762 201.598 920.762 Q195.787 920.762 192.709 916.179 Q189.653 911.572 189.653 902.845 Q189.653 894.096 192.709 889.512 Q195.787 884.906 201.598 884.906 Z\" fill=\"#000000\" fill-rule=\"nonzero\" fill-opacity=\"1\" /><path clip-path=\"url(#clip190)\" d=\"M127.2 647.334 Q123.589 647.334 121.76 650.899 Q119.955 654.44 119.955 661.57 Q119.955 668.676 121.76 672.241 Q123.589 675.783 127.2 675.783 Q130.834 675.783 132.64 672.241 Q134.468 668.676 134.468 661.57 Q134.468 654.44 132.64 650.899 Q130.834 647.334 127.2 647.334 M127.2 643.63 Q133.01 643.63 136.066 648.237 Q139.144 652.82 139.144 661.57 Q139.144 670.297 136.066 674.903 Q133.01 679.486 127.2 679.486 Q121.39 679.486 118.311 674.903 Q115.256 670.297 115.256 661.57 Q115.256 652.82 118.311 648.237 Q121.39 643.63 127.2 643.63 Z\" fill=\"#000000\" fill-rule=\"nonzero\" fill-opacity=\"1\" /><path clip-path=\"url(#clip190)\" d=\"M147.362 672.936 L152.246 672.936 L152.246 678.815 L147.362 678.815 L147.362 672.936 Z\" fill=\"#000000\" fill-rule=\"nonzero\" fill-opacity=\"1\" /><path clip-path=\"url(#clip190)\" d=\"M166.459 674.88 L182.778 674.88 L182.778 678.815 L160.834 678.815 L160.834 674.88 Q163.496 672.125 168.079 667.496 Q172.686 662.843 173.866 661.5 Q176.112 658.977 176.991 657.241 Q177.894 655.482 177.894 653.792 Q177.894 651.038 175.95 649.301 Q174.028 647.565 170.927 647.565 Q168.727 647.565 166.274 648.329 Q163.843 649.093 161.065 650.644 L161.065 645.922 Q163.89 644.788 166.343 644.209 Q168.797 643.63 170.834 643.63 Q176.204 643.63 179.399 646.315 Q182.593 649 182.593 653.491 Q182.593 655.621 181.783 657.542 Q180.996 659.44 178.889 662.033 Q178.311 662.704 175.209 665.922 Q172.107 669.116 166.459 674.88 Z\" fill=\"#000000\" fill-rule=\"nonzero\" fill-opacity=\"1\" /><path clip-path=\"url(#clip190)\" d=\"M192.639 644.255 L210.996 644.255 L210.996 648.19 L196.922 648.19 L196.922 656.662 Q197.94 656.315 198.959 656.153 Q199.977 655.968 200.996 655.968 Q206.783 655.968 210.162 659.139 Q213.542 662.311 213.542 667.727 Q213.542 673.306 210.07 676.408 Q206.598 679.486 200.278 679.486 Q198.102 679.486 195.834 679.116 Q193.588 678.746 191.181 678.005 L191.181 673.306 Q193.264 674.44 195.487 674.996 Q197.709 675.551 200.186 675.551 Q204.19 675.551 206.528 673.445 Q208.866 671.338 208.866 667.727 Q208.866 664.116 206.528 662.01 Q204.19 659.903 200.186 659.903 Q198.311 659.903 196.436 660.32 Q194.584 660.737 192.639 661.616 L192.639 644.255 Z\" fill=\"#000000\" fill-rule=\"nonzero\" fill-opacity=\"1\" /><path clip-path=\"url(#clip190)\" d=\"M126.205 406.058 Q122.593 406.058 120.765 409.623 Q118.959 413.165 118.959 420.294 Q118.959 427.401 120.765 430.966 Q122.593 434.507 126.205 434.507 Q129.839 434.507 131.644 430.966 Q133.473 427.401 133.473 420.294 Q133.473 413.165 131.644 409.623 Q129.839 406.058 126.205 406.058 M126.205 402.355 Q132.015 402.355 135.07 406.961 Q138.149 411.544 138.149 420.294 Q138.149 429.021 135.07 433.628 Q132.015 438.211 126.205 438.211 Q120.394 438.211 117.316 433.628 Q114.26 429.021 114.26 420.294 Q114.26 411.544 117.316 406.961 Q120.394 402.355 126.205 402.355 Z\" fill=\"#000000\" fill-rule=\"nonzero\" fill-opacity=\"1\" /><path clip-path=\"url(#clip190)\" d=\"M146.366 431.66 L151.251 431.66 L151.251 437.54 L146.366 437.54 L146.366 431.66 Z\" fill=\"#000000\" fill-rule=\"nonzero\" fill-opacity=\"1\" /><path clip-path=\"url(#clip190)\" d=\"M175.602 418.905 Q178.959 419.623 180.834 421.891 Q182.732 424.16 182.732 427.493 Q182.732 432.609 179.214 435.41 Q175.695 438.211 169.214 438.211 Q167.038 438.211 164.723 437.771 Q162.431 437.354 159.978 436.498 L159.978 431.984 Q161.922 433.118 164.237 433.697 Q166.552 434.276 169.075 434.276 Q173.473 434.276 175.764 432.54 Q178.079 430.803 178.079 427.493 Q178.079 424.438 175.926 422.725 Q173.797 420.989 169.977 420.989 L165.95 420.989 L165.95 417.146 L170.163 417.146 Q173.612 417.146 175.44 415.78 Q177.269 414.392 177.269 411.799 Q177.269 409.137 175.371 407.725 Q173.496 406.29 169.977 406.29 Q168.056 406.29 165.857 406.706 Q163.658 407.123 161.019 408.003 L161.019 403.836 Q163.681 403.095 165.996 402.725 Q168.334 402.355 170.394 402.355 Q175.718 402.355 178.82 404.785 Q181.922 407.192 181.922 411.313 Q181.922 414.183 180.278 416.174 Q178.635 418.141 175.602 418.905 Z\" fill=\"#000000\" fill-rule=\"nonzero\" fill-opacity=\"1\" /><path clip-path=\"url(#clip190)\" d=\"M201.598 406.058 Q197.987 406.058 196.158 409.623 Q194.352 413.165 194.352 420.294 Q194.352 427.401 196.158 430.966 Q197.987 434.507 201.598 434.507 Q205.232 434.507 207.037 430.966 Q208.866 427.401 208.866 420.294 Q208.866 413.165 207.037 409.623 Q205.232 406.058 201.598 406.058 M201.598 402.355 Q207.408 402.355 210.463 406.961 Q213.542 411.544 213.542 420.294 Q213.542 429.021 210.463 433.628 Q207.408 438.211 201.598 438.211 Q195.787 438.211 192.709 433.628 Q189.653 429.021 189.653 420.294 Q189.653 411.544 192.709 406.961 Q195.787 402.355 201.598 402.355 Z\" fill=\"#000000\" fill-rule=\"nonzero\" fill-opacity=\"1\" /><path clip-path=\"url(#clip190)\" d=\"M127.2 164.783 Q123.589 164.783 121.76 168.347 Q119.955 171.889 119.955 179.019 Q119.955 186.125 121.76 189.69 Q123.589 193.232 127.2 193.232 Q130.834 193.232 132.64 189.69 Q134.468 186.125 134.468 179.019 Q134.468 171.889 132.64 168.347 Q130.834 164.783 127.2 164.783 M127.2 161.079 Q133.01 161.079 136.066 165.685 Q139.144 170.269 139.144 179.019 Q139.144 187.745 136.066 192.352 Q133.01 196.935 127.2 196.935 Q121.39 196.935 118.311 192.352 Q115.256 187.745 115.256 179.019 Q115.256 170.269 118.311 165.685 Q121.39 161.079 127.2 161.079 Z\" fill=\"#000000\" fill-rule=\"nonzero\" fill-opacity=\"1\" /><path clip-path=\"url(#clip190)\" d=\"M147.362 190.384 L152.246 190.384 L152.246 196.264 L147.362 196.264 L147.362 190.384 Z\" fill=\"#000000\" fill-rule=\"nonzero\" fill-opacity=\"1\" /><path clip-path=\"url(#clip190)\" d=\"M176.598 177.63 Q179.954 178.347 181.829 180.616 Q183.727 182.884 183.727 186.218 Q183.727 191.333 180.209 194.134 Q176.69 196.935 170.209 196.935 Q168.033 196.935 165.718 196.495 Q163.427 196.079 160.973 195.222 L160.973 190.708 Q162.917 191.843 165.232 192.421 Q167.547 193 170.07 193 Q174.468 193 176.76 191.264 Q179.075 189.528 179.075 186.218 Q179.075 183.162 176.922 181.449 Q174.792 179.713 170.973 179.713 L166.945 179.713 L166.945 175.871 L171.158 175.871 Q174.607 175.871 176.436 174.505 Q178.264 173.116 178.264 170.523 Q178.264 167.861 176.366 166.449 Q174.491 165.014 170.973 165.014 Q169.052 165.014 166.852 165.431 Q164.653 165.847 162.015 166.727 L162.015 162.56 Q164.677 161.82 166.991 161.449 Q169.329 161.079 171.389 161.079 Q176.714 161.079 179.815 163.509 Q182.917 165.917 182.917 170.037 Q182.917 172.908 181.274 174.898 Q179.63 176.866 176.598 177.63 Z\" fill=\"#000000\" fill-rule=\"nonzero\" fill-opacity=\"1\" /><path clip-path=\"url(#clip190)\" d=\"M192.639 161.704 L210.996 161.704 L210.996 165.639 L196.922 165.639 L196.922 174.111 Q197.94 173.764 198.959 173.602 Q199.977 173.417 200.996 173.417 Q206.783 173.417 210.162 176.588 Q213.542 179.759 213.542 185.176 Q213.542 190.755 210.07 193.857 Q206.598 196.935 200.278 196.935 Q198.102 196.935 195.834 196.565 Q193.588 196.194 191.181 195.454 L191.181 190.755 Q193.264 191.889 195.487 192.445 Q197.709 193 200.186 193 Q204.19 193 206.528 190.894 Q208.866 188.787 208.866 185.176 Q208.866 181.565 206.528 179.458 Q204.19 177.352 200.186 177.352 Q198.311 177.352 196.436 177.769 Q194.584 178.185 192.639 179.065 L192.639 161.704 Z\" fill=\"#000000\" fill-rule=\"nonzero\" fill-opacity=\"1\" /><path clip-path=\"url(#clip190)\" d=\"M21.7677 1184.09 L39.6235 1184.09 L39.6235 1176.01 Q39.6235 1171.52 37.3 1169.07 Q34.9765 1166.62 30.6797 1166.62 Q26.4147 1166.62 24.0912 1169.07 Q21.7677 1171.52 21.7677 1176.01 L21.7677 1184.09 M16.4842 1190.52 L16.4842 1176.01 Q16.4842 1168.02 20.1126 1163.94 Q23.7092 1159.84 30.6797 1159.84 Q37.7138 1159.84 41.3104 1163.94 Q44.907 1168.02 44.907 1176.01 L44.907 1184.09 L64.0042 1184.09 L64.0042 1190.52 L16.4842 1190.52 Z\" fill=\"#000000\" fill-rule=\"nonzero\" fill-opacity=\"1\" /><path clip-path=\"url(#clip190)\" d=\"M32.4621 1139.98 Q32.4621 1144.69 36.1542 1147.42 Q39.8145 1150.16 46.212 1150.16 Q52.6095 1150.16 56.3017 1147.46 Q59.9619 1144.72 59.9619 1139.98 Q59.9619 1135.3 56.2698 1132.56 Q52.5777 1129.82 46.212 1129.82 Q39.8781 1129.82 36.186 1132.56 Q32.4621 1135.3 32.4621 1139.98 M27.4968 1139.98 Q27.4968 1132.34 32.4621 1127.98 Q37.4273 1123.62 46.212 1123.62 Q54.9649 1123.62 59.9619 1127.98 Q64.9272 1132.34 64.9272 1139.98 Q64.9272 1147.65 59.9619 1152.01 Q54.9649 1156.34 46.212 1156.34 Q37.4273 1156.34 32.4621 1152.01 Q27.4968 1147.65 27.4968 1139.98 Z\" fill=\"#000000\" fill-rule=\"nonzero\" fill-opacity=\"1\" /><path clip-path=\"url(#clip190)\" d=\"M33.8307 1093.25 Q33.2578 1094.24 33.0032 1095.42 Q32.7167 1096.56 32.7167 1097.96 Q32.7167 1102.93 35.9632 1105.6 Q39.1779 1108.24 45.2253 1108.24 L64.0042 1108.24 L64.0042 1114.13 L28.3562 1114.13 L28.3562 1108.24 L33.8944 1108.24 Q30.6479 1106.4 29.0883 1103.44 Q27.4968 1100.48 27.4968 1096.24 Q27.4968 1095.64 27.5923 1094.91 Q27.656 1094.17 27.8151 1093.28 L33.8307 1093.25 Z\" fill=\"#000000\" fill-rule=\"nonzero\" fill-opacity=\"1\" /><path clip-path=\"url(#clip190)\" d=\"M18.2347 1081.32 L28.3562 1081.32 L28.3562 1069.25 L32.9077 1069.25 L32.9077 1081.32 L52.2594 1081.32 Q56.6199 1081.32 57.8613 1080.14 Q59.1026 1078.93 59.1026 1075.27 L59.1026 1069.25 L64.0042 1069.25 L64.0042 1075.27 Q64.0042 1082.05 61.4897 1084.63 Q58.9434 1087.2 52.2594 1087.2 L32.9077 1087.2 L32.9077 1091.5 L28.3562 1091.5 L28.3562 1087.2 L18.2347 1087.2 L18.2347 1081.32 Z\" fill=\"#000000\" fill-rule=\"nonzero\" fill-opacity=\"1\" /><path clip-path=\"url(#clip190)\" d=\"M14.479 1043.5 L19.3487 1043.5 L19.3487 1049.1 Q19.3487 1052.26 20.6219 1053.5 Q21.895 1054.71 25.2052 1054.71 L28.3562 1054.71 L28.3562 1045.06 L32.9077 1045.06 L32.9077 1054.71 L64.0042 1054.71 L64.0042 1060.6 L32.9077 1060.6 L32.9077 1066.2 L28.3562 1066.2 L28.3562 1060.6 L25.8736 1060.6 Q19.9216 1060.6 17.2162 1057.83 Q14.479 1055.06 14.479 1049.04 L14.479 1043.5 Z\" fill=\"#000000\" fill-rule=\"nonzero\" fill-opacity=\"1\" /><path clip-path=\"url(#clip190)\" d=\"M32.4621 1024.79 Q32.4621 1029.5 36.1542 1032.24 Q39.8145 1034.97 46.212 1034.97 Q52.6095 1034.97 56.3017 1032.27 Q59.9619 1029.53 59.9619 1024.79 Q59.9619 1020.11 56.2698 1017.37 Q52.5777 1014.63 46.212 1014.63 Q39.8781 1014.63 36.186 1017.37 Q32.4621 1020.11 32.4621 1024.79 M27.4968 1024.79 Q27.4968 1017.15 32.4621 1012.79 Q37.4273 1008.43 46.212 1008.43 Q54.9649 1008.43 59.9619 1012.79 Q64.9272 1017.15 64.9272 1024.79 Q64.9272 1032.46 59.9619 1036.82 Q54.9649 1041.15 46.212 1041.15 Q37.4273 1041.15 32.4621 1036.82 Q27.4968 1032.46 27.4968 1024.79 Z\" fill=\"#000000\" fill-rule=\"nonzero\" fill-opacity=\"1\" /><path clip-path=\"url(#clip190)\" d=\"M14.479 998.72 L14.479 992.864 L64.0042 992.864 L64.0042 998.72 L14.479 998.72 Z\" fill=\"#000000\" fill-rule=\"nonzero\" fill-opacity=\"1\" /><path clip-path=\"url(#clip190)\" d=\"M28.3562 980.61 L28.3562 974.754 L64.0042 974.754 L64.0042 980.61 L28.3562 980.61 M14.479 980.61 L14.479 974.754 L21.895 974.754 L21.895 980.61 L14.479 980.61 Z\" fill=\"#000000\" fill-rule=\"nonzero\" fill-opacity=\"1\" /><path clip-path=\"url(#clip190)\" d=\"M32.4621 948.686 Q32.4621 953.397 36.1542 956.134 Q39.8145 958.871 46.212 958.871 Q52.6095 958.871 56.3017 956.166 Q59.9619 953.428 59.9619 948.686 Q59.9619 944.007 56.2698 941.27 Q52.5777 938.533 46.212 938.533 Q39.8781 938.533 36.186 941.27 Q32.4621 944.007 32.4621 948.686 M27.4968 948.686 Q27.4968 941.047 32.4621 936.687 Q37.4273 932.326 46.212 932.326 Q54.9649 932.326 59.9619 936.687 Q64.9272 941.047 64.9272 948.686 Q64.9272 956.357 59.9619 960.717 Q54.9649 965.046 46.212 965.046 Q37.4273 965.046 32.4621 960.717 Q27.4968 956.357 27.4968 948.686 Z\" fill=\"#000000\" fill-rule=\"nonzero\" fill-opacity=\"1\" /><path clip-path=\"url(#clip190)\" d=\"M41.7242 879.109 Q42.4244 877.04 44.7161 875.098 Q47.0077 873.125 51.0181 871.152 L64.0042 864.627 L64.0042 871.534 L51.8138 877.613 Q47.0395 879.968 45.48 882.196 Q43.9204 884.392 43.9204 888.212 L43.9204 895.214 L64.0042 895.214 L64.0042 901.643 L16.4842 901.643 L16.4842 887.13 Q16.4842 878.981 19.8898 874.971 Q23.2955 870.961 30.1704 870.961 Q34.6582 870.961 37.6183 873.061 Q40.5784 875.13 41.7242 879.109 M21.7677 895.214 L38.6368 895.214 L38.6368 887.13 Q38.6368 882.483 36.5043 880.127 Q34.34 877.74 30.1704 877.74 Q26.0009 877.74 23.9002 880.127 Q21.7677 882.483 21.7677 887.13 L21.7677 895.214 Z\" fill=\"#000000\" fill-rule=\"nonzero\" fill-opacity=\"1\" /><path clip-path=\"url(#clip190)\" d=\"M44.7161 829.042 L47.5806 829.042 L47.5806 855.969 Q53.6281 855.587 56.8109 852.341 Q59.9619 849.063 59.9619 843.238 Q59.9619 839.864 59.1344 836.713 Q58.3069 833.53 56.6518 830.411 L62.1899 830.411 Q63.5267 833.562 64.227 836.872 Q64.9272 840.182 64.9272 843.588 Q64.9272 852.118 59.9619 857.115 Q54.9967 862.081 46.5303 862.081 Q37.7774 862.081 32.6531 857.37 Q27.4968 852.627 27.4968 844.607 Q27.4968 837.413 32.1438 833.244 Q36.7589 829.042 44.7161 829.042 M42.9973 834.899 Q38.1912 834.963 35.3266 837.604 Q32.4621 840.214 32.4621 844.543 Q32.4621 849.445 35.2312 852.405 Q38.0002 855.333 43.0292 855.778 L42.9973 834.899 Z\" fill=\"#000000\" fill-rule=\"nonzero\" fill-opacity=\"1\" /><path clip-path=\"url(#clip190)\" d=\"M28.3562 822.836 L28.3562 816.979 L56.1743 809.659 L28.3562 802.37 L28.3562 795.463 L56.1743 788.143 L28.3562 780.854 L28.3562 774.998 L64.0042 784.323 L64.0042 791.23 L34.7856 798.901 L64.0042 806.603 L64.0042 813.51 L28.3562 822.836 Z\" fill=\"#000000\" fill-rule=\"nonzero\" fill-opacity=\"1\" /><path clip-path=\"url(#clip190)\" d=\"M46.0847 749.917 Q46.0847 757.015 47.7079 759.752 Q49.3312 762.489 53.2461 762.489 Q56.3653 762.489 58.2114 760.452 Q60.0256 758.383 60.0256 754.85 Q60.0256 749.98 56.5881 747.052 Q53.1188 744.092 47.3897 744.092 L46.0847 744.092 L46.0847 749.917 M43.6657 738.236 L64.0042 738.236 L64.0042 744.092 L58.5933 744.092 Q61.8398 746.097 63.3994 749.089 Q64.9272 752.081 64.9272 756.41 Q64.9272 761.884 61.8716 765.131 Q58.7843 768.345 53.6281 768.345 Q47.6125 768.345 44.5569 764.335 Q41.5014 760.293 41.5014 752.304 L41.5014 744.092 L40.9285 744.092 Q36.8862 744.092 34.6901 746.766 Q32.4621 749.407 32.4621 754.214 Q32.4621 757.269 33.1941 760.166 Q33.9262 763.062 35.3903 765.736 L29.9795 765.736 Q28.7381 762.521 28.1334 759.497 Q27.4968 756.473 27.4968 753.609 Q27.4968 745.875 31.5072 742.055 Q35.5176 738.236 43.6657 738.236 Z\" fill=\"#000000\" fill-rule=\"nonzero\" fill-opacity=\"1\" /><path clip-path=\"url(#clip190)\" d=\"M33.8307 705.516 Q33.2578 706.503 33.0032 707.68 Q32.7167 708.826 32.7167 710.227 Q32.7167 715.192 35.9632 717.865 Q39.1779 720.507 45.2253 720.507 L64.0042 720.507 L64.0042 726.395 L28.3562 726.395 L28.3562 720.507 L33.8944 720.507 Q30.6479 718.661 29.0883 715.701 Q27.4968 712.741 27.4968 708.508 Q27.4968 707.903 27.5923 707.171 Q27.656 706.439 27.8151 705.548 L33.8307 705.516 Z\" fill=\"#000000\" fill-rule=\"nonzero\" fill-opacity=\"1\" /><path clip-path=\"url(#clip190)\" d=\"M33.7671 677.061 L14.479 677.061 L14.479 671.205 L64.0042 671.205 L64.0042 677.061 L58.657 677.061 Q61.8398 678.907 63.3994 681.74 Q64.9272 684.541 64.9272 688.488 Q64.9272 694.949 59.771 699.023 Q54.6147 703.065 46.212 703.065 Q37.8093 703.065 32.6531 699.023 Q27.4968 694.949 27.4968 688.488 Q27.4968 684.541 29.0564 681.74 Q30.5842 678.907 33.7671 677.061 M46.212 697.018 Q52.6732 697.018 56.3653 694.376 Q60.0256 691.702 60.0256 687.055 Q60.0256 682.408 56.3653 679.735 Q52.6732 677.061 46.212 677.061 Q39.7508 677.061 36.0905 679.735 Q32.3984 682.408 32.3984 687.055 Q32.3984 691.702 36.0905 694.376 Q39.7508 697.018 46.212 697.018 Z\" fill=\"#000000\" fill-rule=\"nonzero\" fill-opacity=\"1\" /><path clip-path=\"url(#clip190)\" d=\"M14.5426 624.353 Q21.8632 628.618 29.0246 630.687 Q36.186 632.756 43.5384 632.756 Q50.8908 632.756 58.1159 630.687 Q65.3091 628.586 72.5979 624.353 L72.5979 629.446 Q65.1182 634.22 57.8931 636.607 Q50.668 638.962 43.5384 638.962 Q36.4406 638.962 29.2474 636.607 Q22.0542 634.252 14.5426 629.446 L14.5426 624.353 Z\" fill=\"#000000\" fill-rule=\"nonzero\" fill-opacity=\"1\" /><path clip-path=\"url(#clip190)\" d=\"M14.479 612.99 L14.479 607.134 L64.0042 607.134 L64.0042 612.99 L14.479 612.99 Z\" fill=\"#000000\" fill-rule=\"nonzero\" fill-opacity=\"1\" /><path clip-path=\"url(#clip190)\" d=\"M32.4621 581.066 Q32.4621 585.777 36.1542 588.514 Q39.8145 591.252 46.212 591.252 Q52.6095 591.252 56.3017 588.546 Q59.9619 585.809 59.9619 581.066 Q59.9619 576.388 56.2698 573.65 Q52.5777 570.913 46.212 570.913 Q39.8781 570.913 36.186 573.65 Q32.4621 576.388 32.4621 581.066 M27.4968 581.066 Q27.4968 573.428 32.4621 569.067 Q37.4273 564.707 46.212 564.707 Q54.9649 564.707 59.9619 569.067 Q64.9272 573.428 64.9272 581.066 Q64.9272 588.737 59.9619 593.098 Q54.9649 597.426 46.212 597.426 Q37.4273 597.426 32.4621 593.098 Q27.4968 588.737 27.4968 581.066 Z\" fill=\"#000000\" fill-rule=\"nonzero\" fill-opacity=\"1\" /><path clip-path=\"url(#clip190)\" d=\"M45.7664 531.541 Q39.4007 531.541 35.8996 534.183 Q32.3984 536.793 32.3984 541.535 Q32.3984 546.246 35.8996 548.888 Q39.4007 551.498 45.7664 551.498 Q52.1003 551.498 55.6014 548.888 Q59.1026 546.246 59.1026 541.535 Q59.1026 536.793 55.6014 534.183 Q52.1003 531.541 45.7664 531.541 M59.58 525.685 Q68.683 525.685 73.1071 529.727 Q77.5631 533.769 77.5631 542.108 Q77.5631 545.196 77.0857 547.933 Q76.6401 550.67 75.6852 553.248 L69.9879 553.248 Q71.3884 550.67 72.0568 548.156 Q72.7252 545.641 72.7252 543.031 Q72.7252 537.27 69.7015 534.406 Q66.7096 531.541 60.6303 531.541 L57.7339 531.541 Q60.885 533.355 62.4446 536.188 Q64.0042 539.021 64.0042 542.968 Q64.0042 549.524 59.0071 553.535 Q54.01 557.545 45.7664 557.545 Q37.491 557.545 32.4939 553.535 Q27.4968 549.524 27.4968 542.968 Q27.4968 539.021 29.0564 536.188 Q30.616 533.355 33.7671 531.541 L28.3562 531.541 L28.3562 525.685 L59.58 525.685 Z\" fill=\"#000000\" fill-rule=\"nonzero\" fill-opacity=\"1\" /><path clip-path=\"url(#clip190)\" d=\"M33.8307 472.245 Q33.2578 473.231 33.0032 474.409 Q32.7167 475.555 32.7167 476.955 Q32.7167 481.921 35.9632 484.594 Q39.1779 487.236 45.2253 487.236 L64.0042 487.236 L64.0042 493.124 L28.3562 493.124 L28.3562 487.236 L33.8944 487.236 Q30.6479 485.39 29.0883 482.43 Q27.4968 479.47 27.4968 475.237 Q27.4968 474.632 27.5923 473.9 Q27.656 473.168 27.8151 472.276 L33.8307 472.245 Z\" fill=\"#000000\" fill-rule=\"nonzero\" fill-opacity=\"1\" /><path clip-path=\"url(#clip190)\" d=\"M44.7161 437.042 L47.5806 437.042 L47.5806 463.969 Q53.6281 463.587 56.8109 460.341 Q59.9619 457.062 59.9619 451.238 Q59.9619 447.864 59.1344 444.713 Q58.3069 441.53 56.6518 438.411 L62.1899 438.411 Q63.5267 441.562 64.227 444.872 Q64.9272 448.182 64.9272 451.588 Q64.9272 460.118 59.9619 465.115 Q54.9967 470.08 46.5303 470.08 Q37.7774 470.08 32.6531 465.37 Q27.4968 460.627 27.4968 452.606 Q27.4968 445.413 32.1438 441.244 Q36.7589 437.042 44.7161 437.042 M42.9973 442.899 Q38.1912 442.962 35.3266 445.604 Q32.4621 448.214 32.4621 452.543 Q32.4621 457.444 35.2312 460.404 Q38.0002 463.333 43.0292 463.778 L42.9973 442.899 Z\" fill=\"#000000\" fill-rule=\"nonzero\" fill-opacity=\"1\" /><path clip-path=\"url(#clip190)\" d=\"M18.2347 421.637 L28.3562 421.637 L28.3562 409.574 L32.9077 409.574 L32.9077 421.637 L52.2594 421.637 Q56.6199 421.637 57.8613 420.46 Q59.1026 419.25 59.1026 415.59 L59.1026 409.574 L64.0042 409.574 L64.0042 415.59 Q64.0042 422.369 61.4897 424.947 Q58.9434 427.526 52.2594 427.526 L32.9077 427.526 L32.9077 431.822 L28.3562 431.822 L28.3562 427.526 L18.2347 427.526 L18.2347 421.637 Z\" fill=\"#000000\" fill-rule=\"nonzero\" fill-opacity=\"1\" /><path clip-path=\"url(#clip190)\" d=\"M49.9359 402.476 L28.3562 402.476 L28.3562 396.62 L49.7131 396.62 Q54.7739 396.62 57.3202 394.647 Q59.8346 392.673 59.8346 388.727 Q59.8346 383.984 56.8109 381.247 Q53.7872 378.478 48.5673 378.478 L28.3562 378.478 L28.3562 372.621 L64.0042 372.621 L64.0042 378.478 L58.5296 378.478 Q61.7762 380.61 63.3676 383.443 Q64.9272 386.244 64.9272 389.968 Q64.9272 396.111 61.1078 399.294 Q57.2883 402.476 49.9359 402.476 M27.4968 387.74 L27.4968 387.74 Z\" fill=\"#000000\" fill-rule=\"nonzero\" fill-opacity=\"1\" /><path clip-path=\"url(#clip190)\" d=\"M33.8307 339.902 Q33.2578 340.888 33.0032 342.066 Q32.7167 343.212 32.7167 344.612 Q32.7167 349.577 35.9632 352.251 Q39.1779 354.893 45.2253 354.893 L64.0042 354.893 L64.0042 360.781 L28.3562 360.781 L28.3562 354.893 L33.8944 354.893 Q30.6479 353.047 29.0883 350.087 Q27.4968 347.127 27.4968 342.893 Q27.4968 342.289 27.5923 341.557 Q27.656 340.825 27.8151 339.933 L33.8307 339.902 Z\" fill=\"#000000\" fill-rule=\"nonzero\" fill-opacity=\"1\" /><path clip-path=\"url(#clip190)\" d=\"M42.4881 305.272 L64.0042 305.272 L64.0042 311.129 L42.679 311.129 Q37.6183 311.129 35.1038 313.102 Q32.5894 315.075 32.5894 319.022 Q32.5894 323.765 35.6131 326.502 Q38.6368 329.239 43.8567 329.239 L64.0042 329.239 L64.0042 335.127 L28.3562 335.127 L28.3562 329.239 L33.8944 329.239 Q30.6797 327.138 29.0883 324.306 Q27.4968 321.441 27.4968 317.717 Q27.4968 311.574 31.3163 308.423 Q35.1038 305.272 42.4881 305.272 Z\" fill=\"#000000\" fill-rule=\"nonzero\" fill-opacity=\"1\" /><path clip-path=\"url(#clip190)\" d=\"M14.5426 294.514 L14.5426 289.422 Q22.0542 284.647 29.2474 282.292 Q36.4406 279.905 43.5384 279.905 Q50.668 279.905 57.8931 282.292 Q65.1182 284.647 72.5979 289.422 L72.5979 294.514 Q65.3091 290.281 58.1159 288.212 Q50.8908 286.111 43.5384 286.111 Q36.186 286.111 29.0246 288.212 Q21.8632 290.281 14.5426 294.514 Z\" fill=\"#000000\" fill-rule=\"nonzero\" fill-opacity=\"1\" /><polyline clip-path=\"url(#clip192)\" style=\"stroke:#b0b0b0; stroke-linecap:round; stroke-linejoin:round; stroke-width:16; stroke-opacity:1; fill:none\" points=\"1053.88,1379.43 1053.88,1379.43 1053.88,1379.43 1053.88,1379.43 1053.88,1379.43 1053.88,1379.43 1053.88,1379.43 1053.88,1379.43 1053.88,1379.43 1053.93,1366.8 1055.44,1311.12 1059.07,1255.44 1064.78,1199.77 1072.55,1144.09 1082.34,1088.41 1094.29,1032.73 1109.02,977.049 1126.62,921.37 1146.93,865.691 1170.28,810.012 1201.61,754.333 1241.5,698.655 1288.95,642.976 1342.99,587.297 1402.69,531.618 1467.21,475.939 1535.83,420.26 1607.93,364.581 1682.98,308.902 1760.55,253.223 1840.27,197.544 1921.82,141.865 2004.97,86.1857 \"/>\n",
       "<circle clip-path=\"url(#clip192)\" cx=\"1094.29\" cy=\"1032.73\" r=\"10.8\" fill=\"#ffffff\" fill-rule=\"evenodd\" fill-opacity=\"1\" stroke=\"#000000\" stroke-opacity=\"1\" stroke-width=\"3.2\"/>\n",
       "<circle clip-path=\"url(#clip192)\" cx=\"1288.95\" cy=\"642.976\" r=\"10.8\" fill=\"#ffffff\" fill-rule=\"evenodd\" fill-opacity=\"1\" stroke=\"#000000\" stroke-opacity=\"1\" stroke-width=\"3.2\"/>\n",
       "<circle clip-path=\"url(#clip192)\" cx=\"1535.83\" cy=\"420.26\" r=\"10.8\" fill=\"#ffffff\" fill-rule=\"evenodd\" fill-opacity=\"1\" stroke=\"#000000\" stroke-opacity=\"1\" stroke-width=\"3.2\"/>\n",
       "<circle clip-path=\"url(#clip192)\" cx=\"1607.93\" cy=\"364.581\" r=\"10.8\" fill=\"#ffffff\" fill-rule=\"evenodd\" fill-opacity=\"1\" stroke=\"#000000\" stroke-opacity=\"1\" stroke-width=\"3.2\"/>\n",
       "<circle clip-path=\"url(#clip192)\" cx=\"1342.99\" cy=\"587.297\" r=\"10.8\" fill=\"#ffffff\" fill-rule=\"evenodd\" fill-opacity=\"1\" stroke=\"#000000\" stroke-opacity=\"1\" stroke-width=\"3.2\"/>\n",
       "<circle clip-path=\"url(#clip192)\" cx=\"1126.62\" cy=\"921.37\" r=\"10.8\" fill=\"#ffffff\" fill-rule=\"evenodd\" fill-opacity=\"1\" stroke=\"#000000\" stroke-opacity=\"1\" stroke-width=\"3.2\"/>\n",
       "<circle clip-path=\"url(#clip192)\" cx=\"1109.02\" cy=\"977.049\" r=\"10.8\" fill=\"#ffffff\" fill-rule=\"evenodd\" fill-opacity=\"1\" stroke=\"#000000\" stroke-opacity=\"1\" stroke-width=\"3.2\"/>\n",
       "<circle clip-path=\"url(#clip192)\" cx=\"1053.88\" cy=\"1379.43\" r=\"10.8\" fill=\"#ffffff\" fill-rule=\"evenodd\" fill-opacity=\"1\" stroke=\"#000000\" stroke-opacity=\"1\" stroke-width=\"3.2\"/>\n",
       "<circle clip-path=\"url(#clip192)\" cx=\"1241.5\" cy=\"698.655\" r=\"10.8\" fill=\"#ffffff\" fill-rule=\"evenodd\" fill-opacity=\"1\" stroke=\"#000000\" stroke-opacity=\"1\" stroke-width=\"3.2\"/>\n",
       "<circle clip-path=\"url(#clip192)\" cx=\"1201.61\" cy=\"754.333\" r=\"10.8\" fill=\"#ffffff\" fill-rule=\"evenodd\" fill-opacity=\"1\" stroke=\"#000000\" stroke-opacity=\"1\" stroke-width=\"3.2\"/>\n",
       "<circle clip-path=\"url(#clip192)\" cx=\"1682.98\" cy=\"308.902\" r=\"10.8\" fill=\"#ffffff\" fill-rule=\"evenodd\" fill-opacity=\"1\" stroke=\"#000000\" stroke-opacity=\"1\" stroke-width=\"3.2\"/>\n",
       "<circle clip-path=\"url(#clip192)\" cx=\"1467.21\" cy=\"475.939\" r=\"10.8\" fill=\"#ffffff\" fill-rule=\"evenodd\" fill-opacity=\"1\" stroke=\"#000000\" stroke-opacity=\"1\" stroke-width=\"3.2\"/>\n",
       "<circle clip-path=\"url(#clip192)\" cx=\"2004.97\" cy=\"86.1857\" r=\"10.8\" fill=\"#ffffff\" fill-rule=\"evenodd\" fill-opacity=\"1\" stroke=\"#000000\" stroke-opacity=\"1\" stroke-width=\"3.2\"/>\n",
       "<circle clip-path=\"url(#clip192)\" cx=\"1055.44\" cy=\"1311.12\" r=\"10.8\" fill=\"#ffffff\" fill-rule=\"evenodd\" fill-opacity=\"1\" stroke=\"#000000\" stroke-opacity=\"1\" stroke-width=\"3.2\"/>\n",
       "<circle clip-path=\"url(#clip192)\" cx=\"1053.88\" cy=\"1379.43\" r=\"10.8\" fill=\"#ffffff\" fill-rule=\"evenodd\" fill-opacity=\"1\" stroke=\"#000000\" stroke-opacity=\"1\" stroke-width=\"3.2\"/>\n",
       "<circle clip-path=\"url(#clip192)\" cx=\"1053.88\" cy=\"1379.43\" r=\"10.8\" fill=\"#ffffff\" fill-rule=\"evenodd\" fill-opacity=\"1\" stroke=\"#000000\" stroke-opacity=\"1\" stroke-width=\"3.2\"/>\n",
       "<circle clip-path=\"url(#clip192)\" cx=\"1170.28\" cy=\"810.012\" r=\"10.8\" fill=\"#ffffff\" fill-rule=\"evenodd\" fill-opacity=\"1\" stroke=\"#000000\" stroke-opacity=\"1\" stroke-width=\"3.2\"/>\n",
       "<circle clip-path=\"url(#clip192)\" cx=\"1840.27\" cy=\"197.544\" r=\"10.8\" fill=\"#ffffff\" fill-rule=\"evenodd\" fill-opacity=\"1\" stroke=\"#000000\" stroke-opacity=\"1\" stroke-width=\"3.2\"/>\n",
       "<circle clip-path=\"url(#clip192)\" cx=\"1059.07\" cy=\"1255.44\" r=\"10.8\" fill=\"#ffffff\" fill-rule=\"evenodd\" fill-opacity=\"1\" stroke=\"#000000\" stroke-opacity=\"1\" stroke-width=\"3.2\"/>\n",
       "<circle clip-path=\"url(#clip192)\" cx=\"1402.69\" cy=\"531.618\" r=\"10.8\" fill=\"#ffffff\" fill-rule=\"evenodd\" fill-opacity=\"1\" stroke=\"#000000\" stroke-opacity=\"1\" stroke-width=\"3.2\"/>\n",
       "<circle clip-path=\"url(#clip192)\" cx=\"1053.88\" cy=\"1379.43\" r=\"10.8\" fill=\"#ffffff\" fill-rule=\"evenodd\" fill-opacity=\"1\" stroke=\"#000000\" stroke-opacity=\"1\" stroke-width=\"3.2\"/>\n",
       "<circle clip-path=\"url(#clip192)\" cx=\"1082.34\" cy=\"1088.41\" r=\"10.8\" fill=\"#ffffff\" fill-rule=\"evenodd\" fill-opacity=\"1\" stroke=\"#000000\" stroke-opacity=\"1\" stroke-width=\"3.2\"/>\n",
       "<circle clip-path=\"url(#clip192)\" cx=\"1146.93\" cy=\"865.691\" r=\"10.8\" fill=\"#ffffff\" fill-rule=\"evenodd\" fill-opacity=\"1\" stroke=\"#000000\" stroke-opacity=\"1\" stroke-width=\"3.2\"/>\n",
       "<circle clip-path=\"url(#clip192)\" cx=\"1053.88\" cy=\"1379.43\" r=\"10.8\" fill=\"#ffffff\" fill-rule=\"evenodd\" fill-opacity=\"1\" stroke=\"#000000\" stroke-opacity=\"1\" stroke-width=\"3.2\"/>\n",
       "<circle clip-path=\"url(#clip192)\" cx=\"1053.93\" cy=\"1366.8\" r=\"10.8\" fill=\"#ffffff\" fill-rule=\"evenodd\" fill-opacity=\"1\" stroke=\"#000000\" stroke-opacity=\"1\" stroke-width=\"3.2\"/>\n",
       "<circle clip-path=\"url(#clip192)\" cx=\"1053.88\" cy=\"1379.43\" r=\"10.8\" fill=\"#ffffff\" fill-rule=\"evenodd\" fill-opacity=\"1\" stroke=\"#000000\" stroke-opacity=\"1\" stroke-width=\"3.2\"/>\n",
       "<circle clip-path=\"url(#clip192)\" cx=\"1053.88\" cy=\"1379.43\" r=\"10.8\" fill=\"#ffffff\" fill-rule=\"evenodd\" fill-opacity=\"1\" stroke=\"#000000\" stroke-opacity=\"1\" stroke-width=\"3.2\"/>\n",
       "<circle clip-path=\"url(#clip192)\" cx=\"1921.82\" cy=\"141.865\" r=\"10.8\" fill=\"#ffffff\" fill-rule=\"evenodd\" fill-opacity=\"1\" stroke=\"#000000\" stroke-opacity=\"1\" stroke-width=\"3.2\"/>\n",
       "<circle clip-path=\"url(#clip192)\" cx=\"1053.88\" cy=\"1379.43\" r=\"10.8\" fill=\"#ffffff\" fill-rule=\"evenodd\" fill-opacity=\"1\" stroke=\"#000000\" stroke-opacity=\"1\" stroke-width=\"3.2\"/>\n",
       "<circle clip-path=\"url(#clip192)\" cx=\"1064.78\" cy=\"1199.77\" r=\"10.8\" fill=\"#ffffff\" fill-rule=\"evenodd\" fill-opacity=\"1\" stroke=\"#000000\" stroke-opacity=\"1\" stroke-width=\"3.2\"/>\n",
       "<circle clip-path=\"url(#clip192)\" cx=\"1760.55\" cy=\"253.223\" r=\"10.8\" fill=\"#ffffff\" fill-rule=\"evenodd\" fill-opacity=\"1\" stroke=\"#000000\" stroke-opacity=\"1\" stroke-width=\"3.2\"/>\n",
       "<circle clip-path=\"url(#clip192)\" cx=\"1053.88\" cy=\"1379.43\" r=\"10.8\" fill=\"#ffffff\" fill-rule=\"evenodd\" fill-opacity=\"1\" stroke=\"#000000\" stroke-opacity=\"1\" stroke-width=\"3.2\"/>\n",
       "<circle clip-path=\"url(#clip192)\" cx=\"1072.55\" cy=\"1144.09\" r=\"10.8\" fill=\"#ffffff\" fill-rule=\"evenodd\" fill-opacity=\"1\" stroke=\"#000000\" stroke-opacity=\"1\" stroke-width=\"3.2\"/>\n",
       "<polyline clip-path=\"url(#clip192)\" style=\"stroke:#ff0000; stroke-linecap:round; stroke-linejoin:round; stroke-width:16; stroke-opacity:1; fill:none\" points=\"1061.05,1384.24 1061.05,1384.24 1061.05,1384.24 1061.05,1384.24 1061.05,1384.24 1061.05,1384.24 1061.05,1384.24 1061.05,1384.24 1061.05,1384.24 1061.11,1366.79 1062.09,1311.12 1064.27,1255.44 1067.63,1199.77 1072.16,1144.09 1077.78,1088.41 1084.5,1032.73 1092.75,977.049 1102.51,921.37 1113.92,865.691 1132.19,810.012 1161.49,754.333 1200.77,698.654 1248.88,642.976 1304.59,587.297 1366.78,531.618 1434.43,475.939 1506.65,420.26 1582.7,364.581 1661.97,308.902 1743.94,253.223 1828.19,197.544 1914.37,141.865 2002.22,86.1857 \"/>\n",
       "<circle clip-path=\"url(#clip192)\" cx=\"1061.05\" cy=\"1384.24\" r=\"10.8\" fill=\"#ffffff\" fill-rule=\"evenodd\" fill-opacity=\"1\" stroke=\"#000000\" stroke-opacity=\"1\" stroke-width=\"3.2\"/>\n",
       "<circle clip-path=\"url(#clip192)\" cx=\"1061.05\" cy=\"1384.24\" r=\"10.8\" fill=\"#ffffff\" fill-rule=\"evenodd\" fill-opacity=\"1\" stroke=\"#000000\" stroke-opacity=\"1\" stroke-width=\"3.2\"/>\n",
       "<circle clip-path=\"url(#clip192)\" cx=\"1661.97\" cy=\"308.902\" r=\"10.8\" fill=\"#ffffff\" fill-rule=\"evenodd\" fill-opacity=\"1\" stroke=\"#000000\" stroke-opacity=\"1\" stroke-width=\"3.2\"/>\n",
       "<circle clip-path=\"url(#clip192)\" cx=\"1064.27\" cy=\"1255.44\" r=\"10.8\" fill=\"#ffffff\" fill-rule=\"evenodd\" fill-opacity=\"1\" stroke=\"#000000\" stroke-opacity=\"1\" stroke-width=\"3.2\"/>\n",
       "<circle clip-path=\"url(#clip192)\" cx=\"1102.51\" cy=\"921.37\" r=\"10.8\" fill=\"#ffffff\" fill-rule=\"evenodd\" fill-opacity=\"1\" stroke=\"#000000\" stroke-opacity=\"1\" stroke-width=\"3.2\"/>\n",
       "<circle clip-path=\"url(#clip192)\" cx=\"1200.77\" cy=\"698.654\" r=\"10.8\" fill=\"#ffffff\" fill-rule=\"evenodd\" fill-opacity=\"1\" stroke=\"#000000\" stroke-opacity=\"1\" stroke-width=\"3.2\"/>\n",
       "<circle clip-path=\"url(#clip192)\" cx=\"1304.59\" cy=\"587.297\" r=\"10.8\" fill=\"#ffffff\" fill-rule=\"evenodd\" fill-opacity=\"1\" stroke=\"#000000\" stroke-opacity=\"1\" stroke-width=\"3.2\"/>\n",
       "<circle clip-path=\"url(#clip192)\" cx=\"1084.5\" cy=\"1032.73\" r=\"10.8\" fill=\"#ffffff\" fill-rule=\"evenodd\" fill-opacity=\"1\" stroke=\"#000000\" stroke-opacity=\"1\" stroke-width=\"3.2\"/>\n",
       "<circle clip-path=\"url(#clip192)\" cx=\"1506.65\" cy=\"420.26\" r=\"10.8\" fill=\"#ffffff\" fill-rule=\"evenodd\" fill-opacity=\"1\" stroke=\"#000000\" stroke-opacity=\"1\" stroke-width=\"3.2\"/>\n",
       "<circle clip-path=\"url(#clip192)\" cx=\"1061.05\" cy=\"1384.24\" r=\"10.8\" fill=\"#ffffff\" fill-rule=\"evenodd\" fill-opacity=\"1\" stroke=\"#000000\" stroke-opacity=\"1\" stroke-width=\"3.2\"/>\n",
       "<circle clip-path=\"url(#clip192)\" cx=\"2002.22\" cy=\"86.1857\" r=\"10.8\" fill=\"#ffffff\" fill-rule=\"evenodd\" fill-opacity=\"1\" stroke=\"#000000\" stroke-opacity=\"1\" stroke-width=\"3.2\"/>\n",
       "<circle clip-path=\"url(#clip192)\" cx=\"1067.63\" cy=\"1199.77\" r=\"10.8\" fill=\"#ffffff\" fill-rule=\"evenodd\" fill-opacity=\"1\" stroke=\"#000000\" stroke-opacity=\"1\" stroke-width=\"3.2\"/>\n",
       "<circle clip-path=\"url(#clip192)\" cx=\"1248.88\" cy=\"642.976\" r=\"10.8\" fill=\"#ffffff\" fill-rule=\"evenodd\" fill-opacity=\"1\" stroke=\"#000000\" stroke-opacity=\"1\" stroke-width=\"3.2\"/>\n",
       "<circle clip-path=\"url(#clip192)\" cx=\"1092.75\" cy=\"977.049\" r=\"10.8\" fill=\"#ffffff\" fill-rule=\"evenodd\" fill-opacity=\"1\" stroke=\"#000000\" stroke-opacity=\"1\" stroke-width=\"3.2\"/>\n",
       "<circle clip-path=\"url(#clip192)\" cx=\"1061.05\" cy=\"1384.24\" r=\"10.8\" fill=\"#ffffff\" fill-rule=\"evenodd\" fill-opacity=\"1\" stroke=\"#000000\" stroke-opacity=\"1\" stroke-width=\"3.2\"/>\n",
       "<circle clip-path=\"url(#clip192)\" cx=\"1582.7\" cy=\"364.581\" r=\"10.8\" fill=\"#ffffff\" fill-rule=\"evenodd\" fill-opacity=\"1\" stroke=\"#000000\" stroke-opacity=\"1\" stroke-width=\"3.2\"/>\n",
       "<circle clip-path=\"url(#clip192)\" cx=\"1072.16\" cy=\"1144.09\" r=\"10.8\" fill=\"#ffffff\" fill-rule=\"evenodd\" fill-opacity=\"1\" stroke=\"#000000\" stroke-opacity=\"1\" stroke-width=\"3.2\"/>\n",
       "<circle clip-path=\"url(#clip192)\" cx=\"1077.78\" cy=\"1088.41\" r=\"10.8\" fill=\"#ffffff\" fill-rule=\"evenodd\" fill-opacity=\"1\" stroke=\"#000000\" stroke-opacity=\"1\" stroke-width=\"3.2\"/>\n",
       "<circle clip-path=\"url(#clip192)\" cx=\"1366.78\" cy=\"531.618\" r=\"10.8\" fill=\"#ffffff\" fill-rule=\"evenodd\" fill-opacity=\"1\" stroke=\"#000000\" stroke-opacity=\"1\" stroke-width=\"3.2\"/>\n",
       "<circle clip-path=\"url(#clip192)\" cx=\"1061.11\" cy=\"1366.79\" r=\"10.8\" fill=\"#ffffff\" fill-rule=\"evenodd\" fill-opacity=\"1\" stroke=\"#000000\" stroke-opacity=\"1\" stroke-width=\"3.2\"/>\n",
       "<circle clip-path=\"url(#clip192)\" cx=\"1132.19\" cy=\"810.012\" r=\"10.8\" fill=\"#ffffff\" fill-rule=\"evenodd\" fill-opacity=\"1\" stroke=\"#000000\" stroke-opacity=\"1\" stroke-width=\"3.2\"/>\n",
       "<circle clip-path=\"url(#clip192)\" cx=\"1061.05\" cy=\"1384.24\" r=\"10.8\" fill=\"#ffffff\" fill-rule=\"evenodd\" fill-opacity=\"1\" stroke=\"#000000\" stroke-opacity=\"1\" stroke-width=\"3.2\"/>\n",
       "<circle clip-path=\"url(#clip192)\" cx=\"1061.05\" cy=\"1384.24\" r=\"10.8\" fill=\"#ffffff\" fill-rule=\"evenodd\" fill-opacity=\"1\" stroke=\"#000000\" stroke-opacity=\"1\" stroke-width=\"3.2\"/>\n",
       "<circle clip-path=\"url(#clip192)\" cx=\"1061.05\" cy=\"1384.24\" r=\"10.8\" fill=\"#ffffff\" fill-rule=\"evenodd\" fill-opacity=\"1\" stroke=\"#000000\" stroke-opacity=\"1\" stroke-width=\"3.2\"/>\n",
       "<circle clip-path=\"url(#clip192)\" cx=\"1062.09\" cy=\"1311.12\" r=\"10.8\" fill=\"#ffffff\" fill-rule=\"evenodd\" fill-opacity=\"1\" stroke=\"#000000\" stroke-opacity=\"1\" stroke-width=\"3.2\"/>\n",
       "<circle clip-path=\"url(#clip192)\" cx=\"1113.92\" cy=\"865.691\" r=\"10.8\" fill=\"#ffffff\" fill-rule=\"evenodd\" fill-opacity=\"1\" stroke=\"#000000\" stroke-opacity=\"1\" stroke-width=\"3.2\"/>\n",
       "<circle clip-path=\"url(#clip192)\" cx=\"1434.43\" cy=\"475.939\" r=\"10.8\" fill=\"#ffffff\" fill-rule=\"evenodd\" fill-opacity=\"1\" stroke=\"#000000\" stroke-opacity=\"1\" stroke-width=\"3.2\"/>\n",
       "<circle clip-path=\"url(#clip192)\" cx=\"1061.05\" cy=\"1384.24\" r=\"10.8\" fill=\"#ffffff\" fill-rule=\"evenodd\" fill-opacity=\"1\" stroke=\"#000000\" stroke-opacity=\"1\" stroke-width=\"3.2\"/>\n",
       "<circle clip-path=\"url(#clip192)\" cx=\"1161.49\" cy=\"754.333\" r=\"10.8\" fill=\"#ffffff\" fill-rule=\"evenodd\" fill-opacity=\"1\" stroke=\"#000000\" stroke-opacity=\"1\" stroke-width=\"3.2\"/>\n",
       "<circle clip-path=\"url(#clip192)\" cx=\"1061.05\" cy=\"1384.24\" r=\"10.8\" fill=\"#ffffff\" fill-rule=\"evenodd\" fill-opacity=\"1\" stroke=\"#000000\" stroke-opacity=\"1\" stroke-width=\"3.2\"/>\n",
       "<circle clip-path=\"url(#clip192)\" cx=\"1743.94\" cy=\"253.223\" r=\"10.8\" fill=\"#ffffff\" fill-rule=\"evenodd\" fill-opacity=\"1\" stroke=\"#000000\" stroke-opacity=\"1\" stroke-width=\"3.2\"/>\n",
       "<circle clip-path=\"url(#clip192)\" cx=\"1828.19\" cy=\"197.544\" r=\"10.8\" fill=\"#ffffff\" fill-rule=\"evenodd\" fill-opacity=\"1\" stroke=\"#000000\" stroke-opacity=\"1\" stroke-width=\"3.2\"/>\n",
       "<circle clip-path=\"url(#clip192)\" cx=\"1914.37\" cy=\"141.865\" r=\"10.8\" fill=\"#ffffff\" fill-rule=\"evenodd\" fill-opacity=\"1\" stroke=\"#000000\" stroke-opacity=\"1\" stroke-width=\"3.2\"/>\n",
       "<path clip-path=\"url(#clip190)\" d=\"M319.649 248.629 L634.206 248.629 L634.206 93.1086 L319.649 93.1086  Z\" fill=\"#ffffff\" fill-rule=\"evenodd\" fill-opacity=\"1\"/>\n",
       "<polyline clip-path=\"url(#clip190)\" style=\"stroke:#000000; stroke-linecap:round; stroke-linejoin:round; stroke-width:4; stroke-opacity:1; fill:none\" points=\"319.649,248.629 634.206,248.629 634.206,93.1086 319.649,93.1086 319.649,248.629 \"/>\n",
       "<polyline clip-path=\"url(#clip190)\" style=\"stroke:#b0b0b0; stroke-linecap:round; stroke-linejoin:round; stroke-width:16; stroke-opacity:1; fill:none\" points=\"343.018,144.949 483.232,144.949 \"/>\n",
       "<path clip-path=\"url(#clip190)\" d=\"M511.277 131.511 L511.277 158.386 L516.926 158.386 Q524.078 158.386 527.388 155.145 Q530.722 151.905 530.722 144.914 Q530.722 137.969 527.388 134.752 Q524.078 131.511 516.926 131.511 L511.277 131.511 M506.602 127.669 L516.208 127.669 Q526.254 127.669 530.953 131.858 Q535.652 136.025 535.652 144.914 Q535.652 153.849 530.93 158.039 Q526.208 162.229 516.208 162.229 L506.602 162.229 L506.602 127.669 Z\" fill=\"#000000\" fill-rule=\"nonzero\" fill-opacity=\"1\" /><path clip-path=\"url(#clip190)\" d=\"M554.703 149.196 Q549.541 149.196 547.55 150.377 Q545.56 151.557 545.56 154.405 Q545.56 156.673 547.041 158.016 Q548.546 159.335 551.115 159.335 Q554.657 159.335 556.786 156.835 Q558.939 154.312 558.939 150.145 L558.939 149.196 L554.703 149.196 M563.198 147.437 L563.198 162.229 L558.939 162.229 L558.939 158.293 Q557.481 160.655 555.305 161.789 Q553.129 162.9 549.981 162.9 Q545.999 162.9 543.638 160.678 Q541.3 158.432 541.3 154.682 Q541.3 150.307 544.217 148.085 Q547.157 145.863 552.967 145.863 L558.939 145.863 L558.939 145.446 Q558.939 142.507 556.995 140.909 Q555.073 139.289 551.578 139.289 Q549.356 139.289 547.249 139.821 Q545.143 140.354 543.199 141.419 L543.199 137.483 Q545.536 136.581 547.736 136.141 Q549.935 135.678 552.018 135.678 Q557.643 135.678 560.421 138.594 Q563.198 141.511 563.198 147.437 Z\" fill=\"#000000\" fill-rule=\"nonzero\" fill-opacity=\"1\" /><path clip-path=\"url(#clip190)\" d=\"M576.184 128.942 L576.184 136.303 L584.958 136.303 L584.958 139.613 L576.184 139.613 L576.184 153.687 Q576.184 156.858 577.041 157.761 Q577.921 158.664 580.583 158.664 L584.958 158.664 L584.958 162.229 L580.583 162.229 Q575.652 162.229 573.777 160.4 Q571.902 158.548 571.902 153.687 L571.902 139.613 L568.777 139.613 L568.777 136.303 L571.902 136.303 L571.902 128.942 L576.184 128.942 Z\" fill=\"#000000\" fill-rule=\"nonzero\" fill-opacity=\"1\" /><path clip-path=\"url(#clip190)\" d=\"M602.342 149.196 Q597.18 149.196 595.189 150.377 Q593.198 151.557 593.198 154.405 Q593.198 156.673 594.68 158.016 Q596.184 159.335 598.754 159.335 Q602.295 159.335 604.425 156.835 Q606.578 154.312 606.578 150.145 L606.578 149.196 L602.342 149.196 M610.837 147.437 L610.837 162.229 L606.578 162.229 L606.578 158.293 Q605.119 160.655 602.944 161.789 Q600.768 162.9 597.62 162.9 Q593.638 162.9 591.277 160.678 Q588.939 158.432 588.939 154.682 Q588.939 150.307 591.856 148.085 Q594.795 145.863 600.606 145.863 L606.578 145.863 L606.578 145.446 Q606.578 142.507 604.633 140.909 Q602.712 139.289 599.217 139.289 Q596.995 139.289 594.888 139.821 Q592.782 140.354 590.837 141.419 L590.837 137.483 Q593.175 136.581 595.374 136.141 Q597.573 135.678 599.657 135.678 Q605.282 135.678 608.059 138.594 Q610.837 141.511 610.837 147.437 Z\" fill=\"#000000\" fill-rule=\"nonzero\" fill-opacity=\"1\" /><polyline clip-path=\"url(#clip190)\" style=\"stroke:#ff0000; stroke-linecap:round; stroke-linejoin:round; stroke-width:16; stroke-opacity:1; fill:none\" points=\"343.018,196.789 483.232,196.789 \"/>\n",
       "<path clip-path=\"url(#clip190)\" d=\"M528.847 180.643 L528.847 185.203 Q526.185 183.93 523.824 183.305 Q521.463 182.68 519.263 182.68 Q515.444 182.68 513.361 184.161 Q511.301 185.643 511.301 188.374 Q511.301 190.666 512.666 191.847 Q514.055 193.004 517.898 193.722 L520.722 194.3 Q525.953 195.296 528.43 197.819 Q530.93 200.319 530.93 204.532 Q530.93 209.555 527.55 212.147 Q524.194 214.74 517.689 214.74 Q515.236 214.74 512.458 214.184 Q509.703 213.629 506.74 212.541 L506.74 207.726 Q509.588 209.323 512.319 210.133 Q515.051 210.944 517.689 210.944 Q521.694 210.944 523.87 209.37 Q526.046 207.796 526.046 204.879 Q526.046 202.333 524.472 200.897 Q522.921 199.462 519.356 198.745 L516.509 198.189 Q511.277 197.147 508.939 194.925 Q506.602 192.703 506.602 188.745 Q506.602 184.161 509.819 181.522 Q513.06 178.884 518.731 178.884 Q521.162 178.884 523.685 179.323 Q526.208 179.763 528.847 180.643 Z\" fill=\"#000000\" fill-rule=\"nonzero\" fill-opacity=\"1\" /><path clip-path=\"url(#clip190)\" d=\"M538.222 179.509 L542.898 179.509 L542.898 214.069 L538.222 214.069 L538.222 179.509 Z\" fill=\"#000000\" fill-rule=\"nonzero\" fill-opacity=\"1\" /><path clip-path=\"url(#clip190)\" d=\"M552.203 179.509 L559.171 179.509 L567.99 203.027 L576.856 179.509 L583.823 179.509 L583.823 214.069 L579.263 214.069 L579.263 183.722 L570.351 207.425 L565.652 207.425 L556.74 183.722 L556.74 214.069 L552.203 214.069 L552.203 179.509 Z\" fill=\"#000000\" fill-rule=\"nonzero\" fill-opacity=\"1\" /></svg>\n"
      ]
     },
     "execution_count": 58,
     "metadata": {},
     "output_type": "execute_result"
    }
   ],
   "source": [
    "# regular -\n",
    "plot(efficient_frontier, lw=4, xlabel=\"Portfolio Risk (sqrt)\", \n",
    "    ylabel=\"Portfolio Reward (log return)\", fontsize=18, c=:gray69, \n",
    "    xlim=(0.0, 1.2*maximum(efficient_frontier).first), label=\"Data\")\n",
    "scatter!(efficient_frontier, label=\"\", c=:white, mec=:black, ms=3)\n",
    "\n",
    "# single index model -\n",
    "plot!(efficient_frontier_sim, lw=4, xlabel=\"Portfolio Risk (sqrt)\", \n",
    "    ylabel=\"Portfolio Reward (log return)\", fontsize=18, label=\"SIM\", c=:red, \n",
    "    xlim=(0.0, 1.2*maximum(efficient_frontier_sim).first))\n",
    "scatter!(efficient_frontier_sim, label=\"\", c=:white, mec=:red, ms=3)"
   ]
  },
  {
   "cell_type": "markdown",
   "id": "f5783b18-2f56-4641-9464-82658cc68a38",
   "metadata": {},
   "source": [
    "### Disclaimer and Risks\n",
    "__This content is offered solely for training and informational purposes__. No offer or solicitation to buy or sell securities or derivative products or any investment or trading advice or strategy is made, given, or endorsed by the teaching team. \n",
    "\n",
    "__Trading involves risk__. Carefully review your financial situation before investing in securities, futures contracts, options, or commodity interests. Past performance, whether actual or indicated by historical tests of strategies, is no guarantee of future performance or success. Trading is generally inappropriate for someone with limited resources, investment or trading experience, or a low-risk tolerance.  Only risk capital that is not required for living expenses.\n",
    "\n",
    "__You are fully responsible for any investment or trading decisions you make__. You should decide solely based on your financial circumstances, investment or trading objectives, risk tolerance, and liquidity needs."
   ]
  },
  {
   "cell_type": "code",
   "execution_count": null,
   "id": "52d2d780-725f-48bc-969a-11b633f1a0a4",
   "metadata": {},
   "outputs": [],
   "source": []
  }
 ],
 "metadata": {
  "kernelspec": {
   "display_name": "Julia 1.10.4",
   "language": "julia",
   "name": "julia-1.10"
  },
  "language_info": {
   "file_extension": ".jl",
   "mimetype": "application/julia",
   "name": "julia",
   "version": "1.10.4"
  }
 },
 "nbformat": 4,
 "nbformat_minor": 5
}
