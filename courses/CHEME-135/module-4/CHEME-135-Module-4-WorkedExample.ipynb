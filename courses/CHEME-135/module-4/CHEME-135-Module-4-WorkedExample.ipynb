{
 "cells": [
  {
   "cell_type": "markdown",
   "id": "d2534105-6383-4535-a269-6af6c4d1680b",
   "metadata": {},
   "source": [
    "## Example: Single Index Models and Minimum Variance Portfolio Allocation\n",
    "The direct computation of the expected returns $\\mathbb{E}(r_{i})$ of the covariance matrix $\\Sigma$ in the _data-driven_ Minimum-Variance (Markowitz) portfolio problem can be computationally challenging as the number of assets in the portfolio grows. An alternative is to use index models to compute the expected returns and the covariance.\n",
    "\n",
    "### Single index models (SIMs)\n",
    "A single index model describes the return of a firm’s stock (or the return of an ETF) in terms of a firm-specific return and the overall market return. One of the simplest (yet still widely used) single index models was developed by [Sharpe (1963)](https://en.wikipedia.org/wiki/Single-index_model#:~:text=The%20single%2Dindex%20model%20(SIM,used%20in%20the%20finance%20industry.)). Let $R_{i}(t)\\equiv\\left(r_{i}\\left(t\\right) - r_{f}\\right)$ \n",
    "and $R_{m}(t)\\equiv\\left(r_{m}\\left(t\\right)-r_{f}\\right)$ denote the firm-specific and market **excess returns**, where $r_{f}$ denotes the risk-free rate of return.\n",
    "Further, let $\\epsilon_{i}\\left(t\\right)$ denote stationary normally distributed random noise\n",
    "with mean zero and standard deviation $\\sigma_{i}$. Then, the single index model of Sharpe is given by:\n",
    "$$\n",
    "\\begin{equation*}\n",
    "R_{i}\\left(t\\right) = \\alpha_{i}+\\beta_{i}\\cdot{R}_{m}\\left(t\\right)+\\epsilon_{i}\n",
    "\\left(t\\right)\\qquad{t=1,2,\\dots,T}\n",
    "\\end{equation*}\n",
    "$$\n",
    "where $\\alpha_{i}$ and $\\beta_{i}$ are (unknown) model parameters: \n",
    "* $\\alpha_{i}$ describes the firm-specific return not explained by the market; thus, $\\alpha_{i}$ is the idiosyncratic return of firm $i$.\n",
    "* $\\beta_{i}$ has two interpretations. First, it measures the relationship between the excess return of firm $i$ and the excess return of the market. \n",
    "A large $\\beta_{i}$ suggests that the market returns (or losses) are amplified for firm $i$, while a small $\\beta_{i}$ indicates that the market returns (or losses) are damped for firm $i$. \n",
    "Second, it represents the relative risk of investing in a firm $i$ relative to the overall market.\n",
    "\n",
    "### Single index model portfolio allocation problem for risky assets\n",
    "The risky portfolio allocation problem for a portfolio $\\mathcal{P}$ using the single index model is:\n",
    "\\begin{eqnarray*}\n",
    "\\text{minimize}~\\sigma_{\\mathcal{P}}^2 &=& \\sum_{i\\in\\mathcal{P}}\\sum_{j\\in\\mathcal{P}}\\omega_{i}\\omega_{j}\n",
    "\\text{cov}\\left(R_{i},R_{j}\\right) \\\\\n",
    "\\text{subject to}~\\mathbb{E}(r_{\\mathcal{P}})& = & \\alpha_{\\mathcal{P}}+\\beta_{\\mathcal{P}}\\cdot\\mathbb{E}(R_{m})\\geq{R^{*}} \\\\\n",
    "\\alpha_{\\mathcal{P}} & = & \\sum_{i\\in\\mathcal{P}}\\omega_{i}\\cdot\\alpha_{i}\\\\\n",
    "\\beta_{\\mathcal{P}} & = & \\sum_{i\\in\\mathcal{P}}\\omega_{i}\\cdot\\beta_{i} \\\\\n",
    "\\sum_{i\\in\\mathcal{P}}\\omega_{i} & = & 1 \\\\\n",
    "\\text{and}~\\omega_{i}&\\geq&{0}\\qquad{\\forall{i}\\in\\mathcal{P}}\n",
    "\\end{eqnarray*}\n",
    "\n",
    "where the covariance between asset $i$ and asset $j$ is given by:\n",
    "\\begin{equation*}\n",
    "\\text{cov}(R_{i}, R_{j}) = \\begin{cases}\n",
    "\\beta_{i}^{2}\\sigma_{m}^{2}+\\sigma_{\\epsilon_{i}}^{2} & i = j \\\\\n",
    "\\beta_{i}\\beta_{j}\\sigma_{m}^2 & i \\neq j\n",
    "\\end{cases}\n",
    "\\end{equation*}\n",
    "\n",
    "### Learning objectives\n",
    "The objective of this `worked example` is to compute the expected return vector $\\mathbb{E}(R_{i})$ and the covariance matrix $\\mathbf{\\Sigma}$ using the `single index models` estimated in `CHEME-135 module 3`, where we use `SPY` as the market, or benchmark, portfolio. \n",
    "\n",
    "* __Prerequisites__: we'll begin by loading the historical dataset. The data we'll explore is daily open-high-low-close values for firms in the [S&P500 index](https://en.wikipedia.org/wiki/S%26P_500) between `01-03-2018` and `12-01-2023`.\n",
    "* __Task 1__: Next, we'll compute the expected returns and the covariance arrays from the historical dataset using the single index models we computed in `CHEME-135 module 3`.\n",
    "* __Task 2__: We'll compute the efficient frontier by solving the minimum variance optimization problem for the data-driven and the single index model formulation and compare the efficient frontiers calculated for each approach.\n",
    "* __Task 3__: Finally, we'll compute the capital allocation line and the tangent portfolio using the single index models and look at some possible choices for the operating point to choose along the capital allocation line based upon your risk-aversion parameter $A$."
   ]
  },
  {
   "cell_type": "markdown",
   "id": "75c1691d-25c3-4f99-836d-5f01182c7842",
   "metadata": {},
   "source": [
    "## Setup\n",
    "We set up the computational environment by including the `Include.jl` file. The `Include.jl` file loads external packages, various functions that we will use in the exercise, and custom types to model the components of our lab problem."
   ]
  },
  {
   "cell_type": "code",
   "execution_count": 1,
   "id": "914fab8e-454d-4f98-bbce-bd4ec2edaf29",
   "metadata": {
    "tags": []
   },
   "outputs": [
    {
     "name": "stderr",
     "output_type": "stream",
     "text": [
      "\u001b[32m\u001b[1m    Updating\u001b[22m\u001b[39m git-repo `https://github.com/varnerlab/VLQuantitativeFinancePackage.jl.git`\n",
      "\u001b[32m\u001b[1m   Resolving\u001b[22m\u001b[39m package versions...\n",
      "\u001b[32m\u001b[1m  No Changes\u001b[22m\u001b[39m to `~/Desktop/julia_work/CHEME-130-eCornell-Repository/courses/CHEME-135/module-4/Project.toml`\n",
      "\u001b[32m\u001b[1m  No Changes\u001b[22m\u001b[39m to `~/Desktop/julia_work/CHEME-130-eCornell-Repository/courses/CHEME-135/module-4/Manifest.toml`\n",
      "\u001b[32m\u001b[1m  Activating\u001b[22m\u001b[39m project at `~/Desktop/julia_work/CHEME-130-eCornell-Repository/courses/CHEME-135/module-4`\n",
      "\u001b[32m\u001b[1m  No Changes\u001b[22m\u001b[39m to `~/Desktop/julia_work/CHEME-130-eCornell-Repository/courses/CHEME-135/module-4/Project.toml`\n",
      "\u001b[32m\u001b[1m  No Changes\u001b[22m\u001b[39m to `~/Desktop/julia_work/CHEME-130-eCornell-Repository/courses/CHEME-135/module-4/Manifest.toml`\n",
      "\u001b[32m\u001b[1m    Updating\u001b[22m\u001b[39m registry at `~/.julia/registries/General.toml`\n",
      "\u001b[32m\u001b[1m    Updating\u001b[22m\u001b[39m git-repo `https://github.com/varnerlab/VLQuantitativeFinancePackage.jl.git`\n",
      "\u001b[32m\u001b[1m  No Changes\u001b[22m\u001b[39m to `~/Desktop/julia_work/CHEME-130-eCornell-Repository/courses/CHEME-135/module-4/Project.toml`\n",
      "\u001b[32m\u001b[1m  No Changes\u001b[22m\u001b[39m to `~/Desktop/julia_work/CHEME-130-eCornell-Repository/courses/CHEME-135/module-4/Manifest.toml`\n"
     ]
    }
   ],
   "source": [
    "include(\"Include.jl\");"
   ]
  },
  {
   "cell_type": "markdown",
   "id": "f4a165c6-1a16-4d94-8ec7-e33cc54913a4",
   "metadata": {},
   "source": [
    "## Prerequisites: Load and clean the historical dataset\n",
    "We gathered a daily open-high-low-close `dataset` for each firm in the [S&P500](https://en.wikipedia.org/wiki/S%26P_500) since `01-03-2018` until `11-03-2023`, along with data for a few exchange traded funds and volatility products during that time. We load the `orignal_dataset` by calling the `load(...)` method exported by the [JLD2.jl](https://github.com/JuliaIO/JLD2.jl.git) package:"
   ]
  },
  {
   "cell_type": "code",
   "execution_count": 2,
   "id": "ede4f7d8-de2a-4c06-81d9-5e462afc6df2",
   "metadata": {
    "tags": []
   },
   "outputs": [],
   "source": [
    "original_dataset = load(joinpath(_PATH_TO_DATA, \"SP500-Daily-OHLC-1-3-2018-to-12-01-2023.jld2\")) |> x-> x[\"dataset\"];"
   ]
  },
  {
   "cell_type": "markdown",
   "id": "7ee23930-149c-49ee-b468-2405dfa9d786",
   "metadata": {},
   "source": [
    "### Clean the data\n",
    "Not all of the tickers in our dataset have the maximum number of trading days for various reasons, e.g., acquistion or de-listing events. Let's collect only those tickers with the maximum number of tradition days.\n",
    "\n",
    "* First, let's compute the number of records for a company that we know has a maximim value, e.g., `AAPL` and save that value in the `maximum_number_trading_days` variable:"
   ]
  },
  {
   "cell_type": "code",
   "execution_count": 3,
   "id": "9229500e-ccad-46db-8df4-5665fb9e2589",
   "metadata": {
    "tags": []
   },
   "outputs": [],
   "source": [
    "maximum_number_trading_days = original_dataset[\"AAPL\"] |> nrow;"
   ]
  },
  {
   "cell_type": "code",
   "execution_count": 4,
   "id": "d75b54c3-c1d7-4f93-be35-2da7e42a86f1",
   "metadata": {
    "tags": []
   },
   "outputs": [
    {
     "data": {
      "text/plain": [
       "Dict{String, DataFrame} with 459 entries:\n",
       "  \"NI\"   => \u001b[1m1489×8 DataFrame\u001b[0m\u001b[0m…\n",
       "  \"EMR\"  => \u001b[1m1489×8 DataFrame\u001b[0m\u001b[0m…\n",
       "  \"CTAS\" => \u001b[1m1489×8 DataFrame\u001b[0m\u001b[0m…\n",
       "  \"HSIC\" => \u001b[1m1489×8 DataFrame\u001b[0m\u001b[0m…\n",
       "  \"KIM\"  => \u001b[1m1489×8 DataFrame\u001b[0m\u001b[0m…\n",
       "  \"PLD\"  => \u001b[1m1489×8 DataFrame\u001b[0m\u001b[0m…\n",
       "  \"IEX\"  => \u001b[1m1489×8 DataFrame\u001b[0m\u001b[0m…\n",
       "  \"BAC\"  => \u001b[1m1489×8 DataFrame\u001b[0m\u001b[0m…\n",
       "  \"CBOE\" => \u001b[1m1489×8 DataFrame\u001b[0m\u001b[0m…\n",
       "  \"EXR\"  => \u001b[1m1489×8 DataFrame\u001b[0m\u001b[0m…\n",
       "  \"NCLH\" => \u001b[1m1489×8 DataFrame\u001b[0m\u001b[0m…\n",
       "  \"CVS\"  => \u001b[1m1489×8 DataFrame\u001b[0m\u001b[0m…\n",
       "  \"DRI\"  => \u001b[1m1489×8 DataFrame\u001b[0m\u001b[0m…\n",
       "  \"DTE\"  => \u001b[1m1489×8 DataFrame\u001b[0m\u001b[0m…\n",
       "  \"ZION\" => \u001b[1m1489×8 DataFrame\u001b[0m\u001b[0m…\n",
       "  \"AVY\"  => \u001b[1m1489×8 DataFrame\u001b[0m\u001b[0m…\n",
       "  \"EW\"   => \u001b[1m1489×8 DataFrame\u001b[0m\u001b[0m…\n",
       "  \"EA\"   => \u001b[1m1489×8 DataFrame\u001b[0m\u001b[0m…\n",
       "  \"NWSA\" => \u001b[1m1489×8 DataFrame\u001b[0m\u001b[0m…\n",
       "  \"CAG\"  => \u001b[1m1489×8 DataFrame\u001b[0m\u001b[0m…\n",
       "  \"GPC\"  => \u001b[1m1489×8 DataFrame\u001b[0m\u001b[0m…\n",
       "  \"FCX\"  => \u001b[1m1489×8 DataFrame\u001b[0m\u001b[0m…\n",
       "  \"GILD\" => \u001b[1m1489×8 DataFrame\u001b[0m\u001b[0m…\n",
       "  \"UNP\"  => \u001b[1m1489×8 DataFrame\u001b[0m\u001b[0m…\n",
       "  \"CDW\"  => \u001b[1m1489×8 DataFrame\u001b[0m\u001b[0m…\n",
       "  ⋮      => ⋮"
      ]
     },
     "execution_count": 4,
     "metadata": {},
     "output_type": "execute_result"
    }
   ],
   "source": [
    "dataset = Dict{String,DataFrame}();\n",
    "for (ticker,data) ∈ original_dataset\n",
    "    if (nrow(data) == maximum_number_trading_days)\n",
    "        dataset[ticker] = data;\n",
    "    end\n",
    "end\n",
    "dataset"
   ]
  },
  {
   "cell_type": "markdown",
   "id": "7d776d45-97d1-48c6-9d70-c2e6840687a7",
   "metadata": {},
   "source": [
    "Let's get a list of firms that we have in cleaned up `dataset`, and save it ib the `all_tickers` array"
   ]
  },
  {
   "cell_type": "code",
   "execution_count": 5,
   "id": "5c80006a-3338-4f4b-9983-f2b366af5719",
   "metadata": {
    "tags": []
   },
   "outputs": [],
   "source": [
    "all_tickers = keys(dataset) |> collect |> sort;"
   ]
  },
  {
   "cell_type": "markdown",
   "id": "3489f983-ddb4-4f71-9500-51167768cc14",
   "metadata": {},
   "source": [
    "Finally, let's set some constant values, e.g., a value for the `risk_free_rate`:"
   ]
  },
  {
   "cell_type": "code",
   "execution_count": 6,
   "id": "82ff7747-f489-4750-bd52-81b9410ac379",
   "metadata": {
    "tags": []
   },
   "outputs": [],
   "source": [
    "risk_free_rate = 0.05;"
   ]
  },
  {
   "cell_type": "markdown",
   "id": "c9fc18a8-ad53-4a43-aed4-fb6988ec72b0",
   "metadata": {},
   "source": [
    "### Compute the covariance and expected yield for all firms in the dataset\n",
    "The expected return $\\mathbb{E}(r_{i})$ and covariance matrix $\\Sigma$ will be used in our calculations, so we'll provide values for both of these items for the entire data set (all `N = 459` tickers), and then you can pick out which tickers you are interested in. \n",
    "\n",
    "* First, we compute the expected (annualized) log return by passing the `dataset` and the entire list of firms we have in the dataset (held in the $N\\times{1}$ `all_array` array) to the `log_return_matrix(...)` method. The result is stored in the `all_firms_return_matrix` variable, a $T-1\\times{N}$ array of log return values. Each row of `all_firms_return_matrix` corresponds to a time-value, while each column corresponds to a firm:"
   ]
  },
  {
   "cell_type": "code",
   "execution_count": 7,
   "id": "3cb45c2e-0214-45d5-a5da-df652d84acea",
   "metadata": {
    "tags": []
   },
   "outputs": [
    {
     "data": {
      "text/plain": [
       "1488×459 Matrix{Float64}:\n",
       "  0.324988   1.87928      6.97769   …   5.75159     1.74882    2.00452\n",
       "  2.13987   -0.668139     3.97037       3.95668    -0.761936   2.9259\n",
       "  0.886321  -1.96617     -0.853754      2.84928    -0.405978   2.41921\n",
       "  6.15162    1.46203     -1.92102       6.55558     5.0984     3.36373\n",
       " -3.52638    4.87131     -0.317677      1.76502     3.3169    -4.92013\n",
       " -0.37572   10.2317       2.75668   …  10.6817      2.19034    2.43203\n",
       "  3.25669    9.91413      7.32109       5.80955     2.34702    3.10105\n",
       " -0.219697   1.23539     -1.56874       2.67067    -1.60483    1.057\n",
       "  1.64849   -0.305863     1.90851       0.389849   -0.152035   2.79631\n",
       "  0.1633     0.0879042   -0.533602     -0.210856   -0.555564  -1.14091\n",
       "  2.96852   -1.0269       3.81638   …  -0.0978694   2.23925    0.942827\n",
       "  0.863209  -0.736871     0.950174      0.232196    1.8414     1.43424\n",
       "  1.05596    0.0469966    1.8355        2.40996     1.35743    1.7796\n",
       "  ⋮                                 ⋱                         \n",
       "  5.20149    5.84552     -4.76896       5.54001     4.87448    1.84926\n",
       "  0.35927   -4.29411    -23.0291       -4.27718    -4.81533    2.0304\n",
       " -2.27481   -1.34883     -9.9707        2.67623     3.03142   -1.60807\n",
       "  2.21723    2.1226       7.21467       3.3249     -0.562718   1.06322\n",
       " 20.1793    -4.32888     -4.31492   …   1.29512    -9.81174    4.11186\n",
       "  1.65818    7.14329      4.05883       4.36632     0.32683    1.28906\n",
       "  2.65146   -3.32828      3.61587       3.16533    -1.05101    1.10102\n",
       " -0.533625  -3.04005     -6.004         3.72393    -1.31626   -1.64251\n",
       " -0.657248  -1.8512      -2.40438       1.52735     0.439926  -3.11977\n",
       "  3.86051    5.72739      2.56717   …   5.17148    10.1253    -1.24957\n",
       "  0.883831  -1.14458     -5.04426      -1.32433     0.189867  -0.789941\n",
       "  0.863473  10.5561      11.3515        3.57121    15.3511     3.60162"
      ]
     },
     "execution_count": 7,
     "metadata": {},
     "output_type": "execute_result"
    }
   ],
   "source": [
    "all_firms_excess_return_matrix = log_return_matrix(dataset, all_tickers, \n",
    "    Δt = (1.0/252.0), risk_free_rate = risk_free_rate)"
   ]
  },
  {
   "cell_type": "markdown",
   "id": "3df872c9-861f-49bc-9b46-280b1d6666f2",
   "metadata": {},
   "source": [
    "Next, we estimate the expected excess return for each firm from the `all_firms_excess_return_matrix` using the `mean(...)` function, which is exported by the [Statistics.jl package](https://docs.julialang.org/en/v1/stdlib/Statistics/). We set the $N\\times{1}$ vector of expected values, i.e., $\\mathbb{E}(R_{1}),\\dotsc,\\mathbb{E}(R_{N})$ in the variable $\\mu$:"
   ]
  },
  {
   "cell_type": "code",
   "execution_count": 8,
   "id": "7519be34-b42a-4315-a773-78ca6594efe3",
   "metadata": {
    "tags": []
   },
   "outputs": [],
   "source": [
    "μ = mean(all_firms_excess_return_matrix, dims=1) |> vec;"
   ]
  },
  {
   "cell_type": "markdown",
   "id": "76d2de23-284e-43e5-9ed3-aacc3181e813",
   "metadata": {},
   "source": [
    "Finally, we estimate the annualized `covariance_matrix` from the `all_firms_return_matrix` using the `cov(...)` function, exported by the [Statistics.jl package](https://docs.julialang.org/en/v1/stdlib/Statistics/). We store the $N\\times{N}$ covariance matrix in the $\\Sigma$ variable:"
   ]
  },
  {
   "cell_type": "code",
   "execution_count": 9,
   "id": "a7f60651-73b8-4b2c-83b9-130197f669fc",
   "metadata": {
    "tags": []
   },
   "outputs": [
    {
     "data": {
      "text/plain": [
       "459×459 Matrix{Float64}:\n",
       " 0.0658353  0.0410327  0.026627   …  0.0442416  0.033664   0.0363971\n",
       " 0.0410327  0.286132   0.0569432     0.0698228  0.0989086  0.0385518\n",
       " 0.026627   0.0569432  0.123765      0.0381641  0.0490262  0.0286975\n",
       " 0.032669   0.0450441  0.0239449     0.0458643  0.0269238  0.0340676\n",
       " 0.0200583  0.0206882  0.020108      0.0176806  0.0217282  0.0226963\n",
       " 0.0320454  0.0229962  0.0179767  …  0.0302212  0.0201696  0.0303122\n",
       " 0.0349862  0.0482028  0.0324348     0.0453206  0.0396788  0.0357536\n",
       " 0.0396146  0.0366659  0.0258094     0.0535129  0.0249936  0.0390114\n",
       " 0.0385203  0.0641688  0.0290802     0.0548065  0.0421332  0.033596\n",
       " 0.0209664  0.0473608  0.0259402     0.0278532  0.0448235  0.0182054\n",
       " 0.0288275  0.0478733  0.0300245  …  0.0377944  0.0366992  0.031111\n",
       " 0.0486152  0.0653181  0.0349384     0.0651247  0.040823   0.0432507\n",
       " 0.0170372  0.0189179  0.0190907     0.0174609  0.0191911  0.020893\n",
       " ⋮                                ⋱                        \n",
       " 0.0226957  0.0551617  0.0285779     0.0332092  0.0451261  0.0232634\n",
       " 0.0363016  0.0824868  0.0420671     0.0532893  0.0581756  0.0348237\n",
       " 0.0427654  0.14578    0.0505609     0.0650948  0.0872205  0.0416043\n",
       " 0.0145125  0.0145047  0.0171626  …  0.0124598  0.0135476  0.0188637\n",
       " 0.0222448  0.0647656  0.0276089     0.0345385  0.0575312  0.0197086\n",
       " 0.0286983  0.0574436  0.0299952     0.0325674  0.0477066  0.0295488\n",
       " 0.0358677  0.066992   0.030546      0.0447115  0.0498826  0.0308309\n",
       " 0.0239704  0.0475868  0.0281613     0.0299394  0.0294147  0.0287307\n",
       " 0.0329397  0.0693784  0.0327668  …  0.0407248  0.0473247  0.0340993\n",
       " 0.0442416  0.0698228  0.0381641     0.129332   0.0556161  0.0408811\n",
       " 0.033664   0.0989086  0.0490262     0.0556161  0.159847   0.0262429\n",
       " 0.0363971  0.0385518  0.0286975     0.0408811  0.0262429  0.0597159"
      ]
     },
     "execution_count": 9,
     "metadata": {},
     "output_type": "execute_result"
    }
   ],
   "source": [
    "Σ = cov(all_firms_excess_return_matrix) |> x-> x*(1/252) # annualized, historical volatility"
   ]
  },
  {
   "cell_type": "markdown",
   "id": "0ac860fb-6307-4f31-be40-001bd6aa600e",
   "metadata": {},
   "source": [
    "### Build single index model returns and covariance"
   ]
  },
  {
   "cell_type": "code",
   "execution_count": 10,
   "id": "4a228ac1-8c15-4349-9bd6-6eefadcd5c66",
   "metadata": {
    "tags": []
   },
   "outputs": [
    {
     "data": {
      "text/plain": [
       "Dict{String, MySingleIndexModel} with 459 entries:\n",
       "  \"NI\"   => MySingleIndexModel(-0.0709014, 0.652585, 0.05, Normal{Float64}(μ=7.…\n",
       "  \"EMR\"  => MySingleIndexModel(-0.0587296, 1.23319, 0.05, Normal{Float64}(μ=6.4…\n",
       "  \"CTAS\" => MySingleIndexModel(0.117183, 1.1806, 0.05, Normal{Float64}(μ=-5.372…\n",
       "  \"HSIC\" => MySingleIndexModel(-0.0922378, 0.912801, 0.05, Normal{Float64}(μ=-5…\n",
       "  \"KIM\"  => MySingleIndexModel(-0.0837113, 1.28542, 0.05, Normal{Float64}(μ=-7.…\n",
       "  \"PLD\"  => MySingleIndexModel(0.0128753, 1.02335, 0.05, Normal{Float64}(μ=8.53…\n",
       "  \"IEX\"  => MySingleIndexModel(-0.0153656, 0.962861, 0.05, Normal{Float64}(μ=-5…\n",
       "  \"BAC\"  => MySingleIndexModel(-0.0965471, 1.3254, 0.05, Normal{Float64}(μ=-1.3…\n",
       "  \"CBOE\" => MySingleIndexModel(-0.00806882, 0.591552, 0.05, Normal{Float64}(μ=1…\n",
       "  \"EXR\"  => MySingleIndexModel(-0.00384653, 0.720622, 0.05, Normal{Float64}(μ=1…\n",
       "  \"NCLH\" => MySingleIndexModel(-0.351379, 2.32966, 0.05, Normal{Float64}(μ=1.38…\n",
       "  \"CVS\"  => MySingleIndexModel(-0.0931302, 0.783931, 0.05, Normal{Float64}(μ=3.…\n",
       "  \"DRI\"  => MySingleIndexModel(-0.0217511, 1.36426, 0.05, Normal{Float64}(μ=1.6…\n",
       "  \"DTE\"  => MySingleIndexModel(-0.0819249, 0.767709, 0.05, Normal{Float64}(μ=-3…\n",
       "  \"ZION\" => MySingleIndexModel(-0.15195, 1.35508, 0.05, Normal{Float64}(μ=1.193…\n",
       "  \"AVY\"  => MySingleIndexModel(-0.007204, 1.16098, 0.05, Normal{Float64}(μ=-9.0…\n",
       "  \"EW\"   => MySingleIndexModel(0.00510243, 1.10984, 0.05, Normal{Float64}(μ=-3.…\n",
       "  \"EA\"   => MySingleIndexModel(-0.0365169, 0.629568, 0.05, Normal{Float64}(μ=-4…\n",
       "  \"NWSA\" => MySingleIndexModel(-0.0442475, 1.12064, 0.05, Normal{Float64}(μ=-2.…\n",
       "  \"CAG\"  => MySingleIndexModel(-0.114382, 0.435981, 0.05, Normal{Float64}(μ=0.0…\n",
       "  \"GILD\" => MySingleIndexModel(-0.064076, 0.515524, 0.05, Normal{Float64}(μ=5.8…\n",
       "  \"FCX\"  => MySingleIndexModel(-0.00286185, 1.8015, 0.05, Normal{Float64}(μ=8.4…\n",
       "  \"GPC\"  => MySingleIndexModel(-0.0368263, 1.06602, 0.05, Normal{Float64}(μ=1.4…\n",
       "  \"UNP\"  => MySingleIndexModel(-0.00148684, 1.03099, 0.05, Normal{Float64}(μ=7.…\n",
       "  \"CDW\"  => MySingleIndexModel(0.0863989, 1.21864, 0.05, Normal{Float64}(μ=-1.2…\n",
       "  ⋮      => ⋮"
      ]
     },
     "execution_count": 10,
     "metadata": {},
     "output_type": "execute_result"
    }
   ],
   "source": [
    "sims = load(joinpath(_PATH_TO_DATA, \"SIMs-SP500-01-03-18-to-12-01-23.jld2\")) |> x->x[\"sim\"]"
   ]
  },
  {
   "cell_type": "markdown",
   "id": "1c71da00-cb71-40c9-a486-c01be98cdf1c",
   "metadata": {},
   "source": [
    "Store the index of the market portfolio in the `index_SPY` variable, and then the expected return of the market portfolio $\\mathbb{E}(R_{m})$ in the `R_SPY` vector:"
   ]
  },
  {
   "cell_type": "code",
   "execution_count": 11,
   "id": "4a5a34f2-ccd2-4720-98a7-da241f525af6",
   "metadata": {
    "tags": []
   },
   "outputs": [
    {
     "data": {
      "text/plain": [
       "MySingleIndexModel(0.153445076699876, 1.1368428144098897, 0.05, Normal{Float64}(μ=-9.132479718690804e-17, σ=2.421360226018629))"
      ]
     },
     "execution_count": 11,
     "metadata": {},
     "output_type": "execute_result"
    }
   ],
   "source": [
    "sims[\"MSFT\"]"
   ]
  },
  {
   "cell_type": "code",
   "execution_count": 12,
   "id": "86e3f4a1-b7dd-4ef9-8fff-9555a6571416",
   "metadata": {
    "tags": []
   },
   "outputs": [],
   "source": [
    "index_SPY = findfirst(x->x==\"SPY\", all_tickers);\n",
    "R_SPY = μ[index_SPY];"
   ]
  },
  {
   "cell_type": "markdown",
   "id": "ba8ba6d4-726d-4254-a396-39478ef6ce0c",
   "metadata": {},
   "source": [
    "Now, compute the expected return for each ticker in `dataset` using the `single index models` computed in `Lab 12b` using a `for` loop. For iteration of the loop:\n",
    "* Get the `ticker` symbol from the `all_tickers` array, and pull out the corresponding `single index model` from the `sims` dictionary\n",
    "* Next, pull out the $(\\alpha, \\beta)$ parameters from the `sim` model instance and compute the expected return $\\mathbb{E}(R_{i})$. Store the expected return in the `μ_sim` array"
   ]
  },
  {
   "cell_type": "code",
   "execution_count": 13,
   "id": "6d9258a1-0c39-4721-8d8c-e67070072ff5",
   "metadata": {
    "tags": []
   },
   "outputs": [],
   "source": [
    "μ_sim = Array{Float64,1}();\n",
    "for i ∈ eachindex(all_tickers)\n",
    "    \n",
    "    myticker = all_tickers[i];\n",
    "    sim = sims[myticker];\n",
    "    \n",
    "    αᵢ = sim.α\n",
    "    βᵢ = sim.β\n",
    "    Rᵢ = αᵢ+βᵢ*R_SPY\n",
    "    \n",
    "    push!(μ_sim,Rᵢ)\n",
    "end"
   ]
  },
  {
   "cell_type": "markdown",
   "id": "f28f3361-7a89-46f0-be64-2519f5a7041e",
   "metadata": {},
   "source": [
    "Next let's build the `single index model` version of the covariance array. Substituting the single index model for the excess return of asset $i$ and $j$ into the covariance expression (and simplifying) gives:\n",
    "\n",
    "$$\n",
    "\\begin{equation*}\n",
    "\\text{cov}(R_{i}, R_{j}) = \\begin{cases}\n",
    "\\beta_{i}^{2}\\sigma_{m}^{2}+\\sigma_{\\epsilon_{i}}^{2} & i = j \\\\\n",
    "\\beta_{i}\\beta_{j}\\sigma_{m}^2 & i \\neq j\n",
    "\\end{cases}\n",
    "\\end{equation*}\n",
    "$$\n",
    "\n",
    "where $\\sigma_{m}^2$ denotes the variance of the excess return of the market,  and $\\sigma_{\\epsilon_{i}}^{2}$ denotes the variance of the firm-specific error model."
   ]
  },
  {
   "cell_type": "code",
   "execution_count": 33,
   "id": "f9cd87c4-f581-4e3e-a000-88d10a9d5e7e",
   "metadata": {
    "tags": []
   },
   "outputs": [],
   "source": [
    "σₘ = std(all_firms_excess_return_matrix[:, index_SPY]);"
   ]
  },
  {
   "cell_type": "markdown",
   "id": "40ef12a8-9ad5-46d9-8518-4b5387b5fef7",
   "metadata": {},
   "source": [
    "We populate the single index covariance array using nested `for` loops:"
   ]
  },
  {
   "cell_type": "code",
   "execution_count": 30,
   "id": "88163f26-dd92-49f3-9205-729192450f7e",
   "metadata": {
    "tags": []
   },
   "outputs": [
    {
     "data": {
      "text/plain": [
       "459×459 Matrix{Float64}:\n",
       " 0.0658106  0.0478897  0.0271151  …  0.0384921  0.0369436  0.0286211\n",
       " 0.0478897  0.285993   0.0445337     0.0632192  0.060676   0.0470071\n",
       " 0.0271151  0.0445337  0.123699      0.0357946  0.0343547  0.0266154\n",
       " 0.0338488  0.0555932  0.0314768     0.0446838  0.0428863  0.033225\n",
       " 0.0193481  0.0317773  0.0179922     0.0255414  0.0245139  0.0189915\n",
       " 0.0227327  0.0373361  0.0211396  …  0.0300094  0.0288022  0.0223137\n",
       " 0.0330521  0.0542847  0.0307359     0.0436321  0.0418769  0.032443\n",
       " 0.0344141  0.0565216  0.0320024     0.04543    0.0436024  0.0337798\n",
       " 0.0337718  0.0554667  0.0314052     0.0445821  0.0427887  0.0331494\n",
       " 0.0225092  0.036969   0.0209318     0.0297143  0.028519   0.0220943\n",
       " 0.0278136  0.0456809  0.0258645  …  0.0367167  0.0352396  0.027301\n",
       " 0.040131   0.065911   0.0373187     0.0529769  0.0508457  0.0393913\n",
       " 0.0169774  0.0278835  0.0157876     0.0224118  0.0215102  0.0166644\n",
       " ⋮                                ⋱                        \n",
       " 0.0235472  0.0386738  0.021897      0.0310846  0.0298341  0.0231132\n",
       " 0.036459   0.0598801  0.0339041     0.0481295  0.0461934  0.0357871\n",
       " 0.0481746  0.0791218  0.0447987     0.0635953  0.0610369  0.0472867\n",
       " 0.0151134  0.0248222  0.0140543  …  0.0199512  0.0191486  0.0148349\n",
       " 0.0277224  0.0455312  0.0257797     0.0365963  0.0351241  0.0272115\n",
       " 0.0268932  0.0441692  0.0250085     0.0355016  0.0340735  0.0263975\n",
       " 0.0313364  0.0514667  0.0291404     0.0413671  0.039703   0.0307588\n",
       " 0.024186   0.0397229  0.0224911     0.0319279  0.0306435  0.0237402\n",
       " 0.0316146  0.0519237  0.0293992  …  0.0417345  0.0400556  0.031032\n",
       " 0.0384921  0.0632192  0.0357946     0.12928    0.0487692  0.0377826\n",
       " 0.0369436  0.060676   0.0343547     0.0487692  0.159771   0.0362627\n",
       " 0.0286211  0.0470071  0.0266154     0.0377826  0.0362627  0.0596946"
      ]
     },
     "execution_count": 30,
     "metadata": {},
     "output_type": "execute_result"
    }
   ],
   "source": [
    "Σ_tmp = Array{Float64,2}(undef, length(μ), length(μ));\n",
    "for i ∈ eachindex(all_tickers)\n",
    "    outer_ticker = all_tickers[i];\n",
    "    sim_outer = sims[outer_ticker];\n",
    "    \n",
    "    for j ∈ eachindex(all_tickers)\n",
    "        \n",
    "        inner_ticker = all_tickers[j];\n",
    "        sim_inner = sims[inner_ticker];\n",
    "        \n",
    "        if (i == j)\n",
    "            βᵢ = sim_outer.β\n",
    "            ϵᵢ = sim_outer.ϵ\n",
    "            σ_ϵᵢ = params(ϵᵢ)[2];\n",
    "            Σ_tmp[i,j] = ((βᵢ)^2)*((σₘ)^2)+(σ_ϵᵢ)^2\n",
    "        else\n",
    "            βᵢ = sim_outer.β\n",
    "            βⱼ = sim_inner.β\n",
    "            Σ_tmp[i,j] = βᵢ*βⱼ*(σₘ)^2\n",
    "        end\n",
    "    end\n",
    "end\n",
    "Σ_sim  = Σ_tmp |> x-> x*(1/252)"
   ]
  },
  {
   "cell_type": "code",
   "execution_count": 32,
   "id": "de2946ed-5503-45ce-813a-0634c0331899",
   "metadata": {
    "tags": []
   },
   "outputs": [
    {
     "data": {
      "text/plain": [
       "0.3116154402444385"
      ]
     },
     "execution_count": 32,
     "metadata": {},
     "output_type": "execute_result"
    }
   ],
   "source": [
    "index_AMD = findfirst(x->x==\"INTC\", all_tickers);\n",
    "Σ_sim[index_AMD,index_AMD] |> x-> sqrt(x)"
   ]
  },
  {
   "cell_type": "markdown",
   "id": "2ddbb66e-c036-4622-9426-dd4e7ed131e4",
   "metadata": {},
   "source": [
    "## Task 1: Build the return array and covariance matrix for our tickers\n",
    "Before we compute the efficient frontier, we must decide which stocks to include in the risky portfolio. One strategy is to pick stocks that have small or even negative covariance. Let's explore this idea. \n",
    "\n",
    "* Specify a collection of `ticker symbols`, e.g., `AAPL`, `MSFT`, etc., that interest you in the `my_list_of_tickers` array. We'll  put the indexes of your tickers in the `my_list_of_firm_ids` array:"
   ]
  },
  {
   "cell_type": "code",
   "execution_count": 17,
   "id": "987b9082-695b-476d-98bd-11bf8c285514",
   "metadata": {
    "tags": []
   },
   "outputs": [],
   "source": [
    "my_list_of_tickers = [\"AAPL\", \"INTC\", \"MSFT\", \"MU\", \"AMD\", \"GS\", \"BAC\", \"WFC\", \"C\", \"F\"];\n",
    "my_list_of_firm_ids = Array{Int64,1}();\n",
    "for ticker ∈ my_list_of_tickers\n",
    "    firm_index = findfirst(x->x==ticker, all_tickers);    \n",
    "    push!(my_list_of_firm_ids, firm_index)\n",
    "end"
   ]
  },
  {
   "cell_type": "markdown",
   "id": "c27ba58a-3226-4883-844d-5b1ce084871a",
   "metadata": {},
   "source": [
    "Now that you have selected the firms in your risky portfolio, we'll compute for you the firm-specific expected return vector and covariance matrix. We'll store these in the $\\hat{\\mu}$ and $\\hat{\\Sigma}$ variables. First, we'll construct the $\\hat{\\mu}$ vector for the `data` and `single index model` versions of the problem:"
   ]
  },
  {
   "cell_type": "code",
   "execution_count": 18,
   "id": "edf0c44d-4af0-4a1a-86b7-42706212871b",
   "metadata": {
    "tags": []
   },
   "outputs": [],
   "source": [
    "# --- DO NOT CHANGE THIS BLOCK ----------------------------------------- #\n",
    "μ̂ = Array{Float64,1}();\n",
    "μ̂_sim = Array{Float64,1}();\n",
    "for firm_index ∈ my_list_of_firm_ids\n",
    "    push!(μ̂, μ[firm_index])\n",
    "    push!(μ̂_sim, μ_sim[firm_index])\n",
    "end\n",
    "# ---------------------------------------------------------------------- #"
   ]
  },
  {
   "cell_type": "markdown",
   "id": "cf6e0031-89ac-48c5-a79e-0f5ae86983f6",
   "metadata": {},
   "source": [
    "and then we'll compute the firm-specific covariance $\\hat{\\Sigma}$ matrix for the `data` version of the problem:"
   ]
  },
  {
   "cell_type": "code",
   "execution_count": 19,
   "id": "16c088cc-0253-4d4d-8561-b7a084bac211",
   "metadata": {
    "tags": []
   },
   "outputs": [],
   "source": [
    "# --- DO NOT CHANGE THIS BLOCK ----------------------------------------- #\n",
    "my_number_of_selected_firms = length(my_list_of_firm_ids)\n",
    "Σ̂ = Array{Float64,2}(undef, my_number_of_selected_firms, my_number_of_selected_firms);\n",
    "for i ∈ eachindex(my_list_of_firm_ids)\n",
    "    row_firm_index = my_list_of_firm_ids[i]\n",
    "    for j ∈ eachindex(my_list_of_firm_ids)\n",
    "        col_firm_index = my_list_of_firm_ids[j]\n",
    "        Σ̂[i,j] = Σ[row_firm_index, col_firm_index]\n",
    "    end\n",
    "end\n",
    "# ---------------------------------------------------------------------- #"
   ]
  },
  {
   "cell_type": "markdown",
   "id": "b91fec59-ddba-47fa-95b0-b76145953015",
   "metadata": {},
   "source": [
    "and then the `single index model` version of the problem:"
   ]
  },
  {
   "cell_type": "code",
   "execution_count": 20,
   "id": "a041c01a-856f-4bd5-a10c-395418a57e76",
   "metadata": {
    "tags": []
   },
   "outputs": [],
   "source": [
    "# --- DO NOT CHANGE THIS BLOCK FOR SIM  -------------------------------- #\n",
    "my_number_of_selected_firms = length(my_list_of_firm_ids)\n",
    "Σ̂_sim = Array{Float64,2}(undef, my_number_of_selected_firms, my_number_of_selected_firms);\n",
    "for i ∈ eachindex(my_list_of_firm_ids)\n",
    "    row_firm_index = my_list_of_firm_ids[i]\n",
    "    for j ∈ eachindex(my_list_of_firm_ids)\n",
    "        col_firm_index = my_list_of_firm_ids[j]\n",
    "        Σ̂_sim[i,j] = Σ_sim[row_firm_index, col_firm_index]\n",
    "    end\n",
    "end\n",
    "# ---------------------------------------------------------------------- #"
   ]
  },
  {
   "cell_type": "markdown",
   "id": "401a2d24-deb1-4bbb-ba05-2f6c7611ea20",
   "metadata": {},
   "source": [
    "## Task 2: Compute the efficient frontier for your collection of stocks\n",
    "Create an instance of the `MyMarkowitzRiskyAssetOnlyPortfiolioChoiceProblem` type, and store this in the `problem_risk` variable using the `build(...)` method. You'll need to pass your covariance array $\\hat{\\Sigma}$, the expected return array $\\hat{\\mu}$, along with bounds and an initial guess, to the `build(...)` method. \n",
    "\n",
    "Let's setup the bounds, and some other constants:"
   ]
  },
  {
   "cell_type": "code",
   "execution_count": 21,
   "id": "0840da92-f0f9-4072-9df6-39f09e6c4e4d",
   "metadata": {
    "tags": []
   },
   "outputs": [],
   "source": [
    "number_of_firms = length(my_list_of_tickers);\n",
    "wₒ = zeros(number_of_firms);\n",
    "wₒ[1] = 1.0;\n",
    "bounds = zeros(number_of_firms,2);\n",
    "bounds[:,2] .= 1.0;\n",
    "risk_free_rate = 0.05;\n",
    "number_of_points = 40;"
   ]
  },
  {
   "cell_type": "markdown",
   "id": "ba901c71-c62c-44d9-9976-1d08e83f8350",
   "metadata": {},
   "source": [
    "and the build an instance of the `MyMarkowitzRiskyAssetOnlyPortfiolioChoiceProblem` type, using the `build(...)` method. Save the `data` version of the problem in the `problem_risk` variable:"
   ]
  },
  {
   "cell_type": "code",
   "execution_count": 22,
   "id": "4ba80199-8917-4357-a800-4c973148de3d",
   "metadata": {
    "tags": []
   },
   "outputs": [],
   "source": [
    "problem_risk = build(MyMarkowitzRiskyAssetOnlyPortfiolioChoiceProblem, (\n",
    "    Σ = Σ̂,\n",
    "    μ = μ̂,\n",
    "    bounds = bounds,\n",
    "    initial = wₒ,\n",
    "    R = 0.0\n",
    "));"
   ]
  },
  {
   "cell_type": "markdown",
   "id": "10d8346c-4d38-495c-8550-d63576c4051a",
   "metadata": {},
   "source": [
    "and the `single index model` version of the problem in the `problem_risk_sim` variable:"
   ]
  },
  {
   "cell_type": "code",
   "execution_count": 23,
   "id": "8fe92cd2-dd7f-46e2-9a10-7a9f1de3f2d0",
   "metadata": {
    "tags": []
   },
   "outputs": [],
   "source": [
    "problem_risk_sim = build(MyMarkowitzRiskyAssetOnlyPortfiolioChoiceProblem, (\n",
    "    Σ = Σ̂_sim,\n",
    "    μ = μ̂_sim,\n",
    "    bounds = bounds,\n",
    "    initial = wₒ,\n",
    "    R = 0.0\n",
    "));"
   ]
  },
  {
   "cell_type": "markdown",
   "id": "287c4ec0-e9d4-45c9-9c2e-7db7911b4b41",
   "metadata": {},
   "source": [
    "Next, we create an array with the minimum desired rewards (the calculation must achieve at least this much reward). We store these values in the `minimum_desired_reward_array` variable:"
   ]
  },
  {
   "cell_type": "code",
   "execution_count": 24,
   "id": "a62e9f23-02cb-4c3c-b5a0-30215ca2c86f",
   "metadata": {
    "tags": []
   },
   "outputs": [],
   "source": [
    "minimum_desired_reward_array = range(0.0, stop = 0.5 - risk_free_rate, length = number_of_points) |> collect;"
   ]
  },
  {
   "cell_type": "markdown",
   "id": "9e583610-fae9-4325-a3d1-70476ad2847c",
   "metadata": {},
   "source": [
    "Finally, we iterate through the `minimum_desired_reward_array` and compute the minimum risk required to achieve the specified reward level using a `for-loop`. In particular, for each pass through the loop, we:\n",
    "* Update the `problem_risk` variable with the minimum desired reward\n",
    "* We then pass the updated `problem` object to the `solve(...)` method (which initializes and solves the optimization problem). The solution returned from the `solve(...)` method is stored in the `solution` dictionary. \n",
    "* We check the `status` of the solution. If the `status` indicates an optimal solution was found, we store the solution in the `frontier` dictionary."
   ]
  },
  {
   "cell_type": "code",
   "execution_count": 25,
   "id": "8c80968c-cdf4-4759-9bc5-c21a32a40055",
   "metadata": {
    "tags": []
   },
   "outputs": [
    {
     "data": {
      "text/plain": [
       "Dict{Float64, Float64} with 30 entries:\n",
       "  0.214388 => 0.161538\n",
       "  0.340062 => 0.288462\n",
       "  0.211949 => 0.15\n",
       "  0.206653 => 0.0940113\n",
       "  0.208487 => 0.126923\n",
       "  0.206653 => 0.0940113\n",
       "  0.217456 => 0.173077\n",
       "  0.230842 => 0.207692\n",
       "  0.363245 => 0.3\n",
       "  0.206653 => 0.0940113\n",
       "  0.387429 => 0.311538\n",
       "  0.248714 => 0.230769\n",
       "  0.206653 => 0.0940114\n",
       "  0.206653 => 0.0940113\n",
       "  0.26252  => 0.242308\n",
       "  0.206653 => 0.0940113\n",
       "  0.297626 => 0.265385\n",
       "  0.206813 => 0.103846\n",
       "  0.318099 => 0.276923\n",
       "  0.412437 => 0.323077\n",
       "  0.207423 => 0.115385\n",
       "  0.438129 => 0.334615\n",
       "  0.206653 => 0.0940113\n",
       "  0.221227 => 0.184615\n",
       "  0.225703 => 0.196154\n",
       "  ⋮        => ⋮"
      ]
     },
     "execution_count": 25,
     "metadata": {},
     "output_type": "execute_result"
    }
   ],
   "source": [
    "efficient_frontier = Dict{Float64,Float64}();\n",
    "for i ∈ eachindex(minimum_desired_reward_array)\n",
    "    \n",
    "    # update the problem object -\n",
    "    problem_risk.R = minimum_desired_reward_array[i];\n",
    "    \n",
    "    # compute -\n",
    "    solution = solve(problem_risk)\n",
    "\n",
    "    # check: did this converge?\n",
    "    status_flag = solution[\"status\"];    \n",
    "    if (status_flag == MathOptInterface.LOCALLY_SOLVED)\n",
    "        key = sqrt(solution[\"objective_value\"]);\n",
    "        value = solution[\"reward\"];\n",
    "        efficient_frontier[key] = value;\n",
    "    end\n",
    "end\n",
    "efficient_frontier"
   ]
  },
  {
   "cell_type": "markdown",
   "id": "60b0b348-5129-46cf-836f-7c407bfbc032",
   "metadata": {},
   "source": [
    "Let's now do this for the single index model case, where we store the results in the `efficient_frontier_sim` dictionary:"
   ]
  },
  {
   "cell_type": "code",
   "execution_count": 26,
   "id": "ef9652f6-cd88-4036-8efd-ed0cc11132cb",
   "metadata": {
    "tags": []
   },
   "outputs": [
    {
     "data": {
      "text/plain": [
       "Dict{Float64, Float64} with 30 entries:\n",
       "  0.208422 => 0.0921477\n",
       "  0.409566 => 0.323077\n",
       "  0.216848 => 0.184615\n",
       "  0.222111 => 0.207692\n",
       "  0.208422 => 0.0921477\n",
       "  0.208422 => 0.0921477\n",
       "  0.208422 => 0.0921477\n",
       "  0.269034 => 0.253846\n",
       "  0.357561 => 0.3\n",
       "  0.209606 => 0.126923\n",
       "  0.219242 => 0.196154\n",
       "  0.208952 => 0.115385\n",
       "  0.214798 => 0.173077\n",
       "  0.228155 => 0.219231\n",
       "  0.288456 => 0.265385\n",
       "  0.436728 => 0.334615\n",
       "  0.208422 => 0.092322\n",
       "  0.238334 => 0.230769\n",
       "  0.208422 => 0.0921477\n",
       "  0.33308  => 0.288462\n",
       "  0.208422 => 0.0921477\n",
       "  0.211682 => 0.15\n",
       "  0.383124 => 0.311538\n",
       "  0.213098 => 0.161538\n",
       "  0.208557 => 0.103846\n",
       "  ⋮        => ⋮"
      ]
     },
     "execution_count": 26,
     "metadata": {},
     "output_type": "execute_result"
    }
   ],
   "source": [
    "efficient_frontier_sim = Dict{Float64,Float64}();\n",
    "for i ∈ eachindex(minimum_desired_reward_array)\n",
    "    \n",
    "    # update the problem object -\n",
    "    problem_risk_sim.R = minimum_desired_reward_array[i];\n",
    "    \n",
    "    # compute -\n",
    "    solution_sim = solve(problem_risk_sim)\n",
    "\n",
    "    # check: did this converge?\n",
    "    status_flag = solution_sim[\"status\"];    \n",
    "    if (status_flag == MathOptInterface.LOCALLY_SOLVED)\n",
    "        key = sqrt(solution_sim[\"objective_value\"]);\n",
    "        value = solution_sim[\"reward\"];\n",
    "        efficient_frontier_sim[key] = value;\n",
    "    end\n",
    "end\n",
    "efficient_frontier_sim"
   ]
  },
  {
   "cell_type": "markdown",
   "id": "97244c7f-c619-4c4d-8bbd-f70c3b2ae812",
   "metadata": {},
   "source": [
    "### Visualize the Efficient Frontiers for the data and single index model"
   ]
  },
  {
   "cell_type": "code",
   "execution_count": 27,
   "id": "40d141d1-3652-40c8-bdbb-0634053827af",
   "metadata": {
    "tags": []
   },
   "outputs": [
    {
     "data": {
      "image/png": "[encoded data removed]",
      "image/svg+xml": [
       "<?xml version=\"1.0\" encoding=\"utf-8\"?>\n",
       "<svg xmlns=\"http://www.w3.org/2000/svg\" xmlns:xlink=\"http://www.w3.org/1999/xlink\" width=\"600\" height=\"400\" viewBox=\"0 0 2400 1600\">\n",
       "<defs>\n",
       "  <clipPath id=\"clip650\">\n",
       "    <rect x=\"0\" y=\"0\" width=\"2400\" height=\"1600\"/>\n",
       "  </clipPath>\n",
       "</defs>\n",
       "<path clip-path=\"url(#clip650)\" d=\"M0 1600 L2400 1600 L2400 0 L0 0  Z\" fill=\"#ffffff\" fill-rule=\"evenodd\" fill-opacity=\"1\"/>\n",
       "<defs>\n",
       "  <clipPath id=\"clip651\">\n",
       "    <rect x=\"480\" y=\"0\" width=\"1681\" height=\"1600\"/>\n",
       "  </clipPath>\n",
       "</defs>\n",
       "<path clip-path=\"url(#clip650)\" d=\"M249.542 1423.18 L2352.76 1423.18 L2352.76 47.2441 L249.542 47.2441  Z\" fill=\"#ffffff\" fill-rule=\"evenodd\" fill-opacity=\"1\"/>\n",
       "<defs>\n",
       "  <clipPath id=\"clip652\">\n",
       "    <rect x=\"249\" y=\"47\" width=\"2104\" height=\"1377\"/>\n",
       "  </clipPath>\n",
       "</defs>\n",
       "<polyline clip-path=\"url(#clip652)\" style=\"stroke:#000000; stroke-linecap:round; stroke-linejoin:round; stroke-width:2; stroke-opacity:0.1; fill:none\" points=\"249.542,1423.18 249.542,47.2441 \"/>\n",
       "<polyline clip-path=\"url(#clip652)\" style=\"stroke:#000000; stroke-linecap:round; stroke-linejoin:round; stroke-width:2; stroke-opacity:0.1; fill:none\" points=\"650.862,1423.18 650.862,47.2441 \"/>\n",
       "<polyline clip-path=\"url(#clip652)\" style=\"stroke:#000000; stroke-linecap:round; stroke-linejoin:round; stroke-width:2; stroke-opacity:0.1; fill:none\" points=\"1052.18,1423.18 1052.18,47.2441 \"/>\n",
       "<polyline clip-path=\"url(#clip652)\" style=\"stroke:#000000; stroke-linecap:round; stroke-linejoin:round; stroke-width:2; stroke-opacity:0.1; fill:none\" points=\"1453.5,1423.18 1453.5,47.2441 \"/>\n",
       "<polyline clip-path=\"url(#clip652)\" style=\"stroke:#000000; stroke-linecap:round; stroke-linejoin:round; stroke-width:2; stroke-opacity:0.1; fill:none\" points=\"1854.82,1423.18 1854.82,47.2441 \"/>\n",
       "<polyline clip-path=\"url(#clip652)\" style=\"stroke:#000000; stroke-linecap:round; stroke-linejoin:round; stroke-width:2; stroke-opacity:0.1; fill:none\" points=\"2256.14,1423.18 2256.14,47.2441 \"/>\n",
       "<polyline clip-path=\"url(#clip650)\" style=\"stroke:#000000; stroke-linecap:round; stroke-linejoin:round; stroke-width:4; stroke-opacity:1; fill:none\" points=\"249.542,1423.18 2352.76,1423.18 \"/>\n",
       "<polyline clip-path=\"url(#clip650)\" style=\"stroke:#000000; stroke-linecap:round; stroke-linejoin:round; stroke-width:4; stroke-opacity:1; fill:none\" points=\"249.542,1423.18 249.542,1404.28 \"/>\n",
       "<polyline clip-path=\"url(#clip650)\" style=\"stroke:#000000; stroke-linecap:round; stroke-linejoin:round; stroke-width:4; stroke-opacity:1; fill:none\" points=\"650.862,1423.18 650.862,1404.28 \"/>\n",
       "<polyline clip-path=\"url(#clip650)\" style=\"stroke:#000000; stroke-linecap:round; stroke-linejoin:round; stroke-width:4; stroke-opacity:1; fill:none\" points=\"1052.18,1423.18 1052.18,1404.28 \"/>\n",
       "<polyline clip-path=\"url(#clip650)\" style=\"stroke:#000000; stroke-linecap:round; stroke-linejoin:round; stroke-width:4; stroke-opacity:1; fill:none\" points=\"1453.5,1423.18 1453.5,1404.28 \"/>\n",
       "<polyline clip-path=\"url(#clip650)\" style=\"stroke:#000000; stroke-linecap:round; stroke-linejoin:round; stroke-width:4; stroke-opacity:1; fill:none\" points=\"1854.82,1423.18 1854.82,1404.28 \"/>\n",
       "<polyline clip-path=\"url(#clip650)\" style=\"stroke:#000000; stroke-linecap:round; stroke-linejoin:round; stroke-width:4; stroke-opacity:1; fill:none\" points=\"2256.14,1423.18 2256.14,1404.28 \"/>\n",
       "<path clip-path=\"url(#clip650)\" d=\"M226.926 1454.1 Q223.315 1454.1 221.487 1457.66 Q219.681 1461.2 219.681 1468.33 Q219.681 1475.44 221.487 1479.01 Q223.315 1482.55 226.926 1482.55 Q230.561 1482.55 232.366 1479.01 Q234.195 1475.44 234.195 1468.33 Q234.195 1461.2 232.366 1457.66 Q230.561 1454.1 226.926 1454.1 M226.926 1450.39 Q232.737 1450.39 235.792 1455 Q238.871 1459.58 238.871 1468.33 Q238.871 1477.06 235.792 1481.67 Q232.737 1486.25 226.926 1486.25 Q221.116 1486.25 218.038 1481.67 Q214.982 1477.06 214.982 1468.33 Q214.982 1459.58 218.038 1455 Q221.116 1450.39 226.926 1450.39 Z\" fill=\"#000000\" fill-rule=\"nonzero\" fill-opacity=\"1\" /><path clip-path=\"url(#clip650)\" d=\"M247.088 1479.7 L251.973 1479.7 L251.973 1485.58 L247.088 1485.58 L247.088 1479.7 Z\" fill=\"#000000\" fill-rule=\"nonzero\" fill-opacity=\"1\" /><path clip-path=\"url(#clip650)\" d=\"M272.158 1454.1 Q268.547 1454.1 266.718 1457.66 Q264.912 1461.2 264.912 1468.33 Q264.912 1475.44 266.718 1479.01 Q268.547 1482.55 272.158 1482.55 Q275.792 1482.55 277.597 1479.01 Q279.426 1475.44 279.426 1468.33 Q279.426 1461.2 277.597 1457.66 Q275.792 1454.1 272.158 1454.1 M272.158 1450.39 Q277.968 1450.39 281.023 1455 Q284.102 1459.58 284.102 1468.33 Q284.102 1477.06 281.023 1481.67 Q277.968 1486.25 272.158 1486.25 Q266.347 1486.25 263.269 1481.67 Q260.213 1477.06 260.213 1468.33 Q260.213 1459.58 263.269 1455 Q266.347 1450.39 272.158 1450.39 Z\" fill=\"#000000\" fill-rule=\"nonzero\" fill-opacity=\"1\" /><path clip-path=\"url(#clip650)\" d=\"M628.86 1454.1 Q625.249 1454.1 623.42 1457.66 Q621.615 1461.2 621.615 1468.33 Q621.615 1475.44 623.42 1479.01 Q625.249 1482.55 628.86 1482.55 Q632.494 1482.55 634.3 1479.01 Q636.129 1475.44 636.129 1468.33 Q636.129 1461.2 634.3 1457.66 Q632.494 1454.1 628.86 1454.1 M628.86 1450.39 Q634.67 1450.39 637.726 1455 Q640.805 1459.58 640.805 1468.33 Q640.805 1477.06 637.726 1481.67 Q634.67 1486.25 628.86 1486.25 Q623.05 1486.25 619.971 1481.67 Q616.916 1477.06 616.916 1468.33 Q616.916 1459.58 619.971 1455 Q623.05 1450.39 628.86 1450.39 Z\" fill=\"#000000\" fill-rule=\"nonzero\" fill-opacity=\"1\" /><path clip-path=\"url(#clip650)\" d=\"M649.022 1479.7 L653.906 1479.7 L653.906 1485.58 L649.022 1485.58 L649.022 1479.7 Z\" fill=\"#000000\" fill-rule=\"nonzero\" fill-opacity=\"1\" /><path clip-path=\"url(#clip650)\" d=\"M664.902 1481.64 L672.54 1481.64 L672.54 1455.28 L664.23 1456.95 L664.23 1452.69 L672.494 1451.02 L677.17 1451.02 L677.17 1481.64 L684.809 1481.64 L684.809 1485.58 L664.902 1485.58 L664.902 1481.64 Z\" fill=\"#000000\" fill-rule=\"nonzero\" fill-opacity=\"1\" /><path clip-path=\"url(#clip650)\" d=\"M1030.37 1454.1 Q1026.75 1454.1 1024.93 1457.66 Q1023.12 1461.2 1023.12 1468.33 Q1023.12 1475.44 1024.93 1479.01 Q1026.75 1482.55 1030.37 1482.55 Q1034 1482.55 1035.81 1479.01 Q1037.63 1475.44 1037.63 1468.33 Q1037.63 1461.2 1035.81 1457.66 Q1034 1454.1 1030.37 1454.1 M1030.37 1450.39 Q1036.18 1450.39 1039.23 1455 Q1042.31 1459.58 1042.31 1468.33 Q1042.31 1477.06 1039.23 1481.67 Q1036.18 1486.25 1030.37 1486.25 Q1024.56 1486.25 1021.48 1481.67 Q1018.42 1477.06 1018.42 1468.33 Q1018.42 1459.58 1021.48 1455 Q1024.56 1450.39 1030.37 1450.39 Z\" fill=\"#000000\" fill-rule=\"nonzero\" fill-opacity=\"1\" /><path clip-path=\"url(#clip650)\" d=\"M1050.53 1479.7 L1055.41 1479.7 L1055.41 1485.58 L1050.53 1485.58 L1050.53 1479.7 Z\" fill=\"#000000\" fill-rule=\"nonzero\" fill-opacity=\"1\" /><path clip-path=\"url(#clip650)\" d=\"M1069.62 1481.64 L1085.94 1481.64 L1085.94 1485.58 L1064 1485.58 L1064 1481.64 Q1066.66 1478.89 1071.25 1474.26 Q1075.85 1469.61 1077.03 1468.27 Q1079.28 1465.74 1080.16 1464.01 Q1081.06 1462.25 1081.06 1460.56 Q1081.06 1457.8 1079.12 1456.07 Q1077.19 1454.33 1074.09 1454.33 Q1071.89 1454.33 1069.44 1455.09 Q1067.01 1455.86 1064.23 1457.41 L1064.23 1452.69 Q1067.06 1451.55 1069.51 1450.97 Q1071.96 1450.39 1074 1450.39 Q1079.37 1450.39 1082.56 1453.08 Q1085.76 1455.77 1085.76 1460.26 Q1085.76 1462.39 1084.95 1464.31 Q1084.16 1466.2 1082.06 1468.8 Q1081.48 1469.47 1078.37 1472.69 Q1075.27 1475.88 1069.62 1481.64 Z\" fill=\"#000000\" fill-rule=\"nonzero\" fill-opacity=\"1\" /><path clip-path=\"url(#clip650)\" d=\"M1431.21 1454.1 Q1427.6 1454.1 1425.77 1457.66 Q1423.97 1461.2 1423.97 1468.33 Q1423.97 1475.44 1425.77 1479.01 Q1427.6 1482.55 1431.21 1482.55 Q1434.85 1482.55 1436.65 1479.01 Q1438.48 1475.44 1438.48 1468.33 Q1438.48 1461.2 1436.65 1457.66 Q1434.85 1454.1 1431.21 1454.1 M1431.21 1450.39 Q1437.02 1450.39 1440.08 1455 Q1443.16 1459.58 1443.16 1468.33 Q1443.16 1477.06 1440.08 1481.67 Q1437.02 1486.25 1431.21 1486.25 Q1425.4 1486.25 1422.32 1481.67 Q1419.27 1477.06 1419.27 1468.33 Q1419.27 1459.58 1422.32 1455 Q1425.4 1450.39 1431.21 1450.39 Z\" fill=\"#000000\" fill-rule=\"nonzero\" fill-opacity=\"1\" /><path clip-path=\"url(#clip650)\" d=\"M1451.37 1479.7 L1456.26 1479.7 L1456.26 1485.58 L1451.37 1485.58 L1451.37 1479.7 Z\" fill=\"#000000\" fill-rule=\"nonzero\" fill-opacity=\"1\" /><path clip-path=\"url(#clip650)\" d=\"M1480.61 1466.95 Q1483.97 1467.66 1485.84 1469.93 Q1487.74 1472.2 1487.74 1475.53 Q1487.74 1480.65 1484.22 1483.45 Q1480.7 1486.25 1474.22 1486.25 Q1472.04 1486.25 1469.73 1485.81 Q1467.44 1485.39 1464.98 1484.54 L1464.98 1480.02 Q1466.93 1481.16 1469.24 1481.74 Q1471.56 1482.32 1474.08 1482.32 Q1478.48 1482.32 1480.77 1480.58 Q1483.09 1478.84 1483.09 1475.53 Q1483.09 1472.48 1480.93 1470.77 Q1478.8 1469.03 1474.98 1469.03 L1470.96 1469.03 L1470.96 1465.19 L1475.17 1465.19 Q1478.62 1465.19 1480.45 1463.82 Q1482.28 1462.43 1482.28 1459.84 Q1482.28 1457.18 1480.38 1455.77 Q1478.5 1454.33 1474.98 1454.33 Q1473.06 1454.33 1470.86 1454.75 Q1468.66 1455.16 1466.03 1456.04 L1466.03 1451.88 Q1468.69 1451.14 1471 1450.77 Q1473.34 1450.39 1475.4 1450.39 Q1480.73 1450.39 1483.83 1452.83 Q1486.93 1455.23 1486.93 1459.35 Q1486.93 1462.22 1485.29 1464.21 Q1483.64 1466.18 1480.61 1466.95 Z\" fill=\"#000000\" fill-rule=\"nonzero\" fill-opacity=\"1\" /><path clip-path=\"url(#clip650)\" d=\"M1831.96 1454.1 Q1828.35 1454.1 1826.52 1457.66 Q1824.72 1461.2 1824.72 1468.33 Q1824.72 1475.44 1826.52 1479.01 Q1828.35 1482.55 1831.96 1482.55 Q1835.6 1482.55 1837.4 1479.01 Q1839.23 1475.44 1839.23 1468.33 Q1839.23 1461.2 1837.4 1457.66 Q1835.6 1454.1 1831.96 1454.1 M1831.96 1450.39 Q1837.77 1450.39 1840.83 1455 Q1843.91 1459.58 1843.91 1468.33 Q1843.91 1477.06 1840.83 1481.67 Q1837.77 1486.25 1831.96 1486.25 Q1826.15 1486.25 1823.08 1481.67 Q1820.02 1477.06 1820.02 1468.33 Q1820.02 1459.58 1823.08 1455 Q1826.15 1450.39 1831.96 1450.39 Z\" fill=\"#000000\" fill-rule=\"nonzero\" fill-opacity=\"1\" /><path clip-path=\"url(#clip650)\" d=\"M1852.13 1479.7 L1857.01 1479.7 L1857.01 1485.58 L1852.13 1485.58 L1852.13 1479.7 Z\" fill=\"#000000\" fill-rule=\"nonzero\" fill-opacity=\"1\" /><path clip-path=\"url(#clip650)\" d=\"M1880.04 1455.09 L1868.24 1473.54 L1880.04 1473.54 L1880.04 1455.09 M1878.82 1451.02 L1884.7 1451.02 L1884.7 1473.54 L1889.63 1473.54 L1889.63 1477.43 L1884.7 1477.43 L1884.7 1485.58 L1880.04 1485.58 L1880.04 1477.43 L1864.44 1477.43 L1864.44 1472.92 L1878.82 1451.02 Z\" fill=\"#000000\" fill-rule=\"nonzero\" fill-opacity=\"1\" /><path clip-path=\"url(#clip650)\" d=\"M2234.03 1454.1 Q2230.41 1454.1 2228.59 1457.66 Q2226.78 1461.2 2226.78 1468.33 Q2226.78 1475.44 2228.59 1479.01 Q2230.41 1482.55 2234.03 1482.55 Q2237.66 1482.55 2239.47 1479.01 Q2241.29 1475.44 2241.29 1468.33 Q2241.29 1461.2 2239.47 1457.66 Q2237.66 1454.1 2234.03 1454.1 M2234.03 1450.39 Q2239.84 1450.39 2242.89 1455 Q2245.97 1459.58 2245.97 1468.33 Q2245.97 1477.06 2242.89 1481.67 Q2239.84 1486.25 2234.03 1486.25 Q2228.22 1486.25 2225.14 1481.67 Q2222.08 1477.06 2222.08 1468.33 Q2222.08 1459.58 2225.14 1455 Q2228.22 1450.39 2234.03 1450.39 Z\" fill=\"#000000\" fill-rule=\"nonzero\" fill-opacity=\"1\" /><path clip-path=\"url(#clip650)\" d=\"M2254.19 1479.7 L2259.07 1479.7 L2259.07 1485.58 L2254.19 1485.58 L2254.19 1479.7 Z\" fill=\"#000000\" fill-rule=\"nonzero\" fill-opacity=\"1\" /><path clip-path=\"url(#clip650)\" d=\"M2269.3 1451.02 L2287.66 1451.02 L2287.66 1454.96 L2273.59 1454.96 L2273.59 1463.43 Q2274.6 1463.08 2275.62 1462.92 Q2276.64 1462.73 2277.66 1462.73 Q2283.45 1462.73 2286.83 1465.9 Q2290.21 1469.08 2290.21 1474.49 Q2290.21 1480.07 2286.73 1483.17 Q2283.26 1486.25 2276.94 1486.25 Q2274.77 1486.25 2272.5 1485.88 Q2270.25 1485.51 2267.84 1484.77 L2267.84 1480.07 Q2269.93 1481.2 2272.15 1481.76 Q2274.37 1482.32 2276.85 1482.32 Q2280.85 1482.32 2283.19 1480.21 Q2285.53 1478.1 2285.53 1474.49 Q2285.53 1470.88 2283.19 1468.77 Q2280.85 1466.67 2276.85 1466.67 Q2274.97 1466.67 2273.1 1467.08 Q2271.25 1467.5 2269.3 1468.38 L2269.3 1451.02 Z\" fill=\"#000000\" fill-rule=\"nonzero\" fill-opacity=\"1\" /><path clip-path=\"url(#clip650)\" d=\"M1001.94 1525.81 L1001.94 1543.66 L1010.03 1543.66 Q1014.52 1543.66 1016.97 1541.34 Q1019.42 1539.02 1019.42 1534.72 Q1019.42 1530.45 1016.97 1528.13 Q1014.52 1525.81 1010.03 1525.81 L1001.94 1525.81 M995.515 1520.52 L1010.03 1520.52 Q1018.02 1520.52 1022.09 1524.15 Q1026.2 1527.75 1026.2 1534.72 Q1026.2 1541.75 1022.09 1545.35 Q1018.02 1548.95 1010.03 1548.95 L1001.94 1548.95 L1001.94 1568.04 L995.515 1568.04 L995.515 1520.52 Z\" fill=\"#000000\" fill-rule=\"nonzero\" fill-opacity=\"1\" /><path clip-path=\"url(#clip650)\" d=\"M1046.06 1536.5 Q1041.35 1536.5 1038.61 1540.19 Q1035.87 1543.85 1035.87 1550.25 Q1035.87 1556.65 1038.58 1560.34 Q1041.32 1564 1046.06 1564 Q1050.74 1564 1053.48 1560.31 Q1056.21 1556.62 1056.21 1550.25 Q1056.21 1543.92 1053.48 1540.23 Q1050.74 1536.5 1046.06 1536.5 M1046.06 1531.54 Q1053.7 1531.54 1058.06 1536.5 Q1062.42 1541.47 1062.42 1550.25 Q1062.42 1559 1058.06 1564 Q1053.7 1568.97 1046.06 1568.97 Q1038.39 1568.97 1034.03 1564 Q1029.7 1559 1029.7 1550.25 Q1029.7 1541.47 1034.03 1536.5 Q1038.39 1531.54 1046.06 1531.54 Z\" fill=\"#000000\" fill-rule=\"nonzero\" fill-opacity=\"1\" /><path clip-path=\"url(#clip650)\" d=\"M1092.78 1537.87 Q1091.8 1537.3 1090.62 1537.04 Q1089.47 1536.76 1088.07 1536.76 Q1083.11 1536.76 1080.43 1540 Q1077.79 1543.22 1077.79 1549.27 L1077.79 1568.04 L1071.9 1568.04 L1071.9 1532.4 L1077.79 1532.4 L1077.79 1537.93 Q1079.64 1534.69 1082.6 1533.13 Q1085.56 1531.54 1089.79 1531.54 Q1090.4 1531.54 1091.13 1531.63 Q1091.86 1531.7 1092.75 1531.85 L1092.78 1537.87 Z\" fill=\"#000000\" fill-rule=\"nonzero\" fill-opacity=\"1\" /><path clip-path=\"url(#clip650)\" d=\"M1104.72 1522.27 L1104.72 1532.4 L1116.78 1532.4 L1116.78 1536.95 L1104.72 1536.95 L1104.72 1556.3 Q1104.72 1560.66 1105.9 1561.9 Q1107.11 1563.14 1110.77 1563.14 L1116.78 1563.14 L1116.78 1568.04 L1110.77 1568.04 Q1103.99 1568.04 1101.41 1565.53 Q1098.83 1562.98 1098.83 1556.3 L1098.83 1536.95 L1094.53 1536.95 L1094.53 1532.4 L1098.83 1532.4 L1098.83 1522.27 L1104.72 1522.27 Z\" fill=\"#000000\" fill-rule=\"nonzero\" fill-opacity=\"1\" /><path clip-path=\"url(#clip650)\" d=\"M1142.53 1518.52 L1142.53 1523.39 L1136.93 1523.39 Q1133.78 1523.39 1132.54 1524.66 Q1131.33 1525.93 1131.33 1529.24 L1131.33 1532.4 L1140.97 1532.4 L1140.97 1536.95 L1131.33 1536.95 L1131.33 1568.04 L1125.44 1568.04 L1125.44 1536.95 L1119.84 1536.95 L1119.84 1532.4 L1125.44 1532.4 L1125.44 1529.91 Q1125.44 1523.96 1128.21 1521.26 Q1130.98 1518.52 1136.99 1518.52 L1142.53 1518.52 Z\" fill=\"#000000\" fill-rule=\"nonzero\" fill-opacity=\"1\" /><path clip-path=\"url(#clip650)\" d=\"M1161.25 1536.5 Q1156.54 1536.5 1153.8 1540.19 Q1151.06 1543.85 1151.06 1550.25 Q1151.06 1556.65 1153.77 1560.34 Q1156.5 1564 1161.25 1564 Q1165.93 1564 1168.66 1560.31 Q1171.4 1556.62 1171.4 1550.25 Q1171.4 1543.92 1168.66 1540.23 Q1165.93 1536.5 1161.25 1536.5 M1161.25 1531.54 Q1168.89 1531.54 1173.25 1536.5 Q1177.61 1541.47 1177.61 1550.25 Q1177.61 1559 1173.25 1564 Q1168.89 1568.97 1161.25 1568.97 Q1153.58 1568.97 1149.22 1564 Q1144.89 1559 1144.89 1550.25 Q1144.89 1541.47 1149.22 1536.5 Q1153.58 1531.54 1161.25 1531.54 Z\" fill=\"#000000\" fill-rule=\"nonzero\" fill-opacity=\"1\" /><path clip-path=\"url(#clip650)\" d=\"M1187.31 1518.52 L1193.17 1518.52 L1193.17 1568.04 L1187.31 1568.04 L1187.31 1518.52 Z\" fill=\"#000000\" fill-rule=\"nonzero\" fill-opacity=\"1\" /><path clip-path=\"url(#clip650)\" d=\"M1205.42 1532.4 L1211.28 1532.4 L1211.28 1568.04 L1205.42 1568.04 L1205.42 1532.4 M1205.42 1518.52 L1211.28 1518.52 L1211.28 1525.93 L1205.42 1525.93 L1205.42 1518.52 Z\" fill=\"#000000\" fill-rule=\"nonzero\" fill-opacity=\"1\" /><path clip-path=\"url(#clip650)\" d=\"M1237.35 1536.5 Q1232.64 1536.5 1229.9 1540.19 Q1227.16 1543.85 1227.16 1550.25 Q1227.16 1556.65 1229.87 1560.34 Q1232.61 1564 1237.35 1564 Q1242.03 1564 1244.76 1560.31 Q1247.5 1556.62 1247.5 1550.25 Q1247.5 1543.92 1244.76 1540.23 Q1242.03 1536.5 1237.35 1536.5 M1237.35 1531.54 Q1244.99 1531.54 1249.35 1536.5 Q1253.71 1541.47 1253.71 1550.25 Q1253.71 1559 1249.35 1564 Q1244.99 1568.97 1237.35 1568.97 Q1229.68 1568.97 1225.32 1564 Q1220.99 1559 1220.99 1550.25 Q1220.99 1541.47 1225.32 1536.5 Q1229.68 1531.54 1237.35 1531.54 Z\" fill=\"#000000\" fill-rule=\"nonzero\" fill-opacity=\"1\" /><path clip-path=\"url(#clip650)\" d=\"M1306.93 1545.76 Q1308.99 1546.46 1310.94 1548.76 Q1312.91 1551.05 1314.88 1555.06 L1321.41 1568.04 L1314.5 1568.04 L1308.42 1555.85 Q1306.07 1551.08 1303.84 1549.52 Q1301.64 1547.96 1297.82 1547.96 L1290.82 1547.96 L1290.82 1568.04 L1284.39 1568.04 L1284.39 1520.52 L1298.91 1520.52 Q1307.05 1520.52 1311.06 1523.93 Q1315.07 1527.34 1315.07 1534.21 Q1315.07 1538.7 1312.97 1541.66 Q1310.9 1544.62 1306.93 1545.76 M1290.82 1525.81 L1290.82 1542.68 L1298.91 1542.68 Q1303.55 1542.68 1305.91 1540.54 Q1308.29 1538.38 1308.29 1534.21 Q1308.29 1530.04 1305.91 1527.94 Q1303.55 1525.81 1298.91 1525.81 L1290.82 1525.81 Z\" fill=\"#000000\" fill-rule=\"nonzero\" fill-opacity=\"1\" /><path clip-path=\"url(#clip650)\" d=\"M1329.43 1532.4 L1335.29 1532.4 L1335.29 1568.04 L1329.43 1568.04 L1329.43 1532.4 M1329.43 1518.52 L1335.29 1518.52 L1335.29 1525.93 L1329.43 1525.93 L1329.43 1518.52 Z\" fill=\"#000000\" fill-rule=\"nonzero\" fill-opacity=\"1\" /><path clip-path=\"url(#clip650)\" d=\"M1370.26 1533.45 L1370.26 1538.98 Q1367.78 1537.71 1365.11 1537.07 Q1362.43 1536.44 1359.57 1536.44 Q1355.21 1536.44 1353.01 1537.77 Q1350.85 1539.11 1350.85 1541.79 Q1350.85 1543.82 1352.41 1545 Q1353.97 1546.15 1358.68 1547.2 L1360.68 1547.64 Q1366.92 1548.98 1369.53 1551.43 Q1372.17 1553.85 1372.17 1558.21 Q1372.17 1563.17 1368.23 1566.07 Q1364.31 1568.97 1357.44 1568.97 Q1354.57 1568.97 1351.45 1568.39 Q1348.37 1567.85 1344.93 1566.74 L1344.93 1560.69 Q1348.18 1562.38 1351.33 1563.24 Q1354.48 1564.07 1357.57 1564.07 Q1361.7 1564.07 1363.93 1562.66 Q1366.16 1561.23 1366.16 1558.65 Q1366.16 1556.27 1364.54 1554.99 Q1362.94 1553.72 1357.5 1552.54 L1355.46 1552.07 Q1350.02 1550.92 1347.6 1548.56 Q1345.18 1546.18 1345.18 1542.04 Q1345.18 1537.01 1348.75 1534.27 Q1352.31 1531.54 1358.87 1531.54 Q1362.12 1531.54 1364.98 1532.01 Q1367.85 1532.49 1370.26 1533.45 Z\" fill=\"#000000\" fill-rule=\"nonzero\" fill-opacity=\"1\" /><path clip-path=\"url(#clip650)\" d=\"M1381.28 1518.52 L1387.17 1518.52 L1387.17 1547.77 L1404.64 1532.4 L1412.12 1532.4 L1393.21 1549.07 L1412.91 1568.04 L1405.28 1568.04 L1387.17 1550.63 L1387.17 1568.04 L1381.28 1568.04 L1381.28 1518.52 Z\" fill=\"#000000\" fill-rule=\"nonzero\" fill-opacity=\"1\" /><path clip-path=\"url(#clip650)\" d=\"M1454.04 1518.58 Q1449.77 1525.9 1447.7 1533.06 Q1445.63 1540.23 1445.63 1547.58 Q1445.63 1554.93 1447.7 1562.16 Q1449.8 1569.35 1454.04 1576.64 L1448.94 1576.64 Q1444.17 1569.16 1441.78 1561.93 Q1439.43 1554.71 1439.43 1547.58 Q1439.43 1540.48 1441.78 1533.29 Q1444.14 1526.09 1448.94 1518.58 L1454.04 1518.58 Z\" fill=\"#000000\" fill-rule=\"nonzero\" fill-opacity=\"1\" /><path clip-path=\"url(#clip650)\" d=\"M1488.13 1533.45 L1488.13 1538.98 Q1485.64 1537.71 1482.97 1537.07 Q1480.3 1536.44 1477.43 1536.44 Q1473.07 1536.44 1470.87 1537.77 Q1468.71 1539.11 1468.71 1541.79 Q1468.71 1543.82 1470.27 1545 Q1471.83 1546.15 1476.54 1547.2 L1478.55 1547.64 Q1484.78 1548.98 1487.39 1551.43 Q1490.04 1553.85 1490.04 1558.21 Q1490.04 1563.17 1486.09 1566.07 Q1482.17 1568.97 1475.3 1568.97 Q1472.43 1568.97 1469.32 1568.39 Q1466.23 1567.85 1462.79 1566.74 L1462.79 1560.69 Q1466.04 1562.38 1469.19 1563.24 Q1472.34 1564.07 1475.43 1564.07 Q1479.56 1564.07 1481.79 1562.66 Q1484.02 1561.23 1484.02 1558.65 Q1484.02 1556.27 1482.4 1554.99 Q1480.81 1553.72 1475.36 1552.54 L1473.33 1552.07 Q1467.88 1550.92 1465.46 1548.56 Q1463.04 1546.18 1463.04 1542.04 Q1463.04 1537.01 1466.61 1534.27 Q1470.17 1531.54 1476.73 1531.54 Q1479.98 1531.54 1482.84 1532.01 Q1485.71 1532.49 1488.13 1533.45 Z\" fill=\"#000000\" fill-rule=\"nonzero\" fill-opacity=\"1\" /><path clip-path=\"url(#clip650)\" d=\"M1502.86 1550.25 Q1502.86 1556.71 1505.5 1560.4 Q1508.18 1564.07 1512.82 1564.07 Q1517.47 1564.07 1520.15 1560.4 Q1522.82 1556.71 1522.82 1550.25 Q1522.82 1543.79 1520.15 1540.13 Q1517.47 1536.44 1512.82 1536.44 Q1508.18 1536.44 1505.5 1540.13 Q1502.86 1543.79 1502.86 1550.25 M1522.82 1562.7 Q1520.97 1565.88 1518.14 1567.44 Q1515.34 1568.97 1511.39 1568.97 Q1504.93 1568.97 1500.86 1563.81 Q1496.81 1558.65 1496.81 1550.25 Q1496.81 1541.85 1500.86 1536.69 Q1504.93 1531.54 1511.39 1531.54 Q1515.34 1531.54 1518.14 1533.1 Q1520.97 1534.62 1522.82 1537.81 L1522.82 1532.4 L1528.68 1532.4 L1528.68 1581.6 L1522.82 1581.6 L1522.82 1562.7 Z\" fill=\"#000000\" fill-rule=\"nonzero\" fill-opacity=\"1\" /><path clip-path=\"url(#clip650)\" d=\"M1561.39 1537.87 Q1560.41 1537.3 1559.23 1537.04 Q1558.08 1536.76 1556.68 1536.76 Q1551.72 1536.76 1549.05 1540 Q1546.4 1543.22 1546.4 1549.27 L1546.4 1568.04 L1540.52 1568.04 L1540.52 1532.4 L1546.4 1532.4 L1546.4 1537.93 Q1548.25 1534.69 1551.21 1533.13 Q1554.17 1531.54 1558.4 1531.54 Q1559.01 1531.54 1559.74 1531.63 Q1560.47 1531.7 1561.36 1531.85 L1561.39 1537.87 Z\" fill=\"#000000\" fill-rule=\"nonzero\" fill-opacity=\"1\" /><path clip-path=\"url(#clip650)\" d=\"M1573.33 1522.27 L1573.33 1532.4 L1585.39 1532.4 L1585.39 1536.95 L1573.33 1536.95 L1573.33 1556.3 Q1573.33 1560.66 1574.51 1561.9 Q1575.72 1563.14 1579.38 1563.14 L1585.39 1563.14 L1585.39 1568.04 L1579.38 1568.04 Q1572.6 1568.04 1570.02 1565.53 Q1567.44 1562.98 1567.44 1556.3 L1567.44 1536.95 L1563.15 1536.95 L1563.15 1532.4 L1567.44 1532.4 L1567.44 1522.27 L1573.33 1522.27 Z\" fill=\"#000000\" fill-rule=\"nonzero\" fill-opacity=\"1\" /><path clip-path=\"url(#clip650)\" d=\"M1592.17 1518.58 L1597.27 1518.58 Q1602.04 1526.09 1604.4 1533.29 Q1606.78 1540.48 1606.78 1547.58 Q1606.78 1554.71 1604.4 1561.93 Q1602.04 1569.16 1597.27 1576.64 L1592.17 1576.64 Q1596.41 1569.35 1598.48 1562.16 Q1600.58 1554.93 1600.58 1547.58 Q1600.58 1540.23 1598.48 1533.06 Q1596.41 1525.9 1592.17 1518.58 Z\" fill=\"#000000\" fill-rule=\"nonzero\" fill-opacity=\"1\" /><polyline clip-path=\"url(#clip652)\" style=\"stroke:#000000; stroke-linecap:round; stroke-linejoin:round; stroke-width:2; stroke-opacity:0.1; fill:none\" points=\"249.542,1342.2 2352.76,1342.2 \"/>\n",
       "<polyline clip-path=\"url(#clip652)\" style=\"stroke:#000000; stroke-linecap:round; stroke-linejoin:round; stroke-width:2; stroke-opacity:0.1; fill:none\" points=\"249.542,1074.53 2352.76,1074.53 \"/>\n",
       "<polyline clip-path=\"url(#clip652)\" style=\"stroke:#000000; stroke-linecap:round; stroke-linejoin:round; stroke-width:2; stroke-opacity:0.1; fill:none\" points=\"249.542,806.85 2352.76,806.85 \"/>\n",
       "<polyline clip-path=\"url(#clip652)\" style=\"stroke:#000000; stroke-linecap:round; stroke-linejoin:round; stroke-width:2; stroke-opacity:0.1; fill:none\" points=\"249.542,539.175 2352.76,539.175 \"/>\n",
       "<polyline clip-path=\"url(#clip652)\" style=\"stroke:#000000; stroke-linecap:round; stroke-linejoin:round; stroke-width:2; stroke-opacity:0.1; fill:none\" points=\"249.542,271.499 2352.76,271.499 \"/>\n",
       "<polyline clip-path=\"url(#clip650)\" style=\"stroke:#000000; stroke-linecap:round; stroke-linejoin:round; stroke-width:4; stroke-opacity:1; fill:none\" points=\"249.542,1423.18 249.542,47.2441 \"/>\n",
       "<polyline clip-path=\"url(#clip650)\" style=\"stroke:#000000; stroke-linecap:round; stroke-linejoin:round; stroke-width:4; stroke-opacity:1; fill:none\" points=\"249.542,1342.2 268.44,1342.2 \"/>\n",
       "<polyline clip-path=\"url(#clip650)\" style=\"stroke:#000000; stroke-linecap:round; stroke-linejoin:round; stroke-width:4; stroke-opacity:1; fill:none\" points=\"249.542,1074.53 268.44,1074.53 \"/>\n",
       "<polyline clip-path=\"url(#clip650)\" style=\"stroke:#000000; stroke-linecap:round; stroke-linejoin:round; stroke-width:4; stroke-opacity:1; fill:none\" points=\"249.542,806.85 268.44,806.85 \"/>\n",
       "<polyline clip-path=\"url(#clip650)\" style=\"stroke:#000000; stroke-linecap:round; stroke-linejoin:round; stroke-width:4; stroke-opacity:1; fill:none\" points=\"249.542,539.175 268.44,539.175 \"/>\n",
       "<polyline clip-path=\"url(#clip650)\" style=\"stroke:#000000; stroke-linecap:round; stroke-linejoin:round; stroke-width:4; stroke-opacity:1; fill:none\" points=\"249.542,271.499 268.44,271.499 \"/>\n",
       "<path clip-path=\"url(#clip650)\" d=\"M126.205 1328 Q122.593 1328 120.765 1331.56 Q118.959 1335.11 118.959 1342.24 Q118.959 1349.34 120.765 1352.91 Q122.593 1356.45 126.205 1356.45 Q129.839 1356.45 131.644 1352.91 Q133.473 1349.34 133.473 1342.24 Q133.473 1335.11 131.644 1331.56 Q129.839 1328 126.205 1328 M126.205 1324.3 Q132.015 1324.3 135.07 1328.9 Q138.149 1333.49 138.149 1342.24 Q138.149 1350.96 135.07 1355.57 Q132.015 1360.15 126.205 1360.15 Q120.394 1360.15 117.316 1355.57 Q114.26 1350.96 114.26 1342.24 Q114.26 1333.49 117.316 1328.9 Q120.394 1324.3 126.205 1324.3 Z\" fill=\"#000000\" fill-rule=\"nonzero\" fill-opacity=\"1\" /><path clip-path=\"url(#clip650)\" d=\"M146.366 1353.6 L151.251 1353.6 L151.251 1359.48 L146.366 1359.48 L146.366 1353.6 Z\" fill=\"#000000\" fill-rule=\"nonzero\" fill-opacity=\"1\" /><path clip-path=\"url(#clip650)\" d=\"M162.246 1355.55 L169.885 1355.55 L169.885 1329.18 L161.575 1330.85 L161.575 1326.59 L169.839 1324.92 L174.514 1324.92 L174.514 1355.55 L182.153 1355.55 L182.153 1359.48 L162.246 1359.48 L162.246 1355.55 Z\" fill=\"#000000\" fill-rule=\"nonzero\" fill-opacity=\"1\" /><path clip-path=\"url(#clip650)\" d=\"M201.598 1328 Q197.987 1328 196.158 1331.56 Q194.352 1335.11 194.352 1342.24 Q194.352 1349.34 196.158 1352.91 Q197.987 1356.45 201.598 1356.45 Q205.232 1356.45 207.037 1352.91 Q208.866 1349.34 208.866 1342.24 Q208.866 1335.11 207.037 1331.56 Q205.232 1328 201.598 1328 M201.598 1324.3 Q207.408 1324.3 210.463 1328.9 Q213.542 1333.49 213.542 1342.24 Q213.542 1350.96 210.463 1355.57 Q207.408 1360.15 201.598 1360.15 Q195.787 1360.15 192.709 1355.57 Q189.653 1350.96 189.653 1342.24 Q189.653 1333.49 192.709 1328.9 Q195.787 1324.3 201.598 1324.3 Z\" fill=\"#000000\" fill-rule=\"nonzero\" fill-opacity=\"1\" /><path clip-path=\"url(#clip650)\" d=\"M127.2 1060.32 Q123.589 1060.32 121.76 1063.89 Q119.955 1067.43 119.955 1074.56 Q119.955 1081.67 121.76 1085.23 Q123.589 1088.77 127.2 1088.77 Q130.834 1088.77 132.64 1085.23 Q134.468 1081.67 134.468 1074.56 Q134.468 1067.43 132.64 1063.89 Q130.834 1060.32 127.2 1060.32 M127.2 1056.62 Q133.01 1056.62 136.066 1061.23 Q139.144 1065.81 139.144 1074.56 Q139.144 1083.29 136.066 1087.89 Q133.01 1092.48 127.2 1092.48 Q121.39 1092.48 118.311 1087.89 Q115.256 1083.29 115.256 1074.56 Q115.256 1065.81 118.311 1061.23 Q121.39 1056.62 127.2 1056.62 Z\" fill=\"#000000\" fill-rule=\"nonzero\" fill-opacity=\"1\" /><path clip-path=\"url(#clip650)\" d=\"M147.362 1085.93 L152.246 1085.93 L152.246 1091.81 L147.362 1091.81 L147.362 1085.93 Z\" fill=\"#000000\" fill-rule=\"nonzero\" fill-opacity=\"1\" /><path clip-path=\"url(#clip650)\" d=\"M163.241 1087.87 L170.88 1087.87 L170.88 1061.5 L162.57 1063.17 L162.57 1058.91 L170.834 1057.25 L175.51 1057.25 L175.51 1087.87 L183.149 1087.87 L183.149 1091.81 L163.241 1091.81 L163.241 1087.87 Z\" fill=\"#000000\" fill-rule=\"nonzero\" fill-opacity=\"1\" /><path clip-path=\"url(#clip650)\" d=\"M192.639 1057.25 L210.996 1057.25 L210.996 1061.18 L196.922 1061.18 L196.922 1069.65 Q197.94 1069.31 198.959 1069.14 Q199.977 1068.96 200.996 1068.96 Q206.783 1068.96 210.162 1072.13 Q213.542 1075.3 213.542 1080.72 Q213.542 1086.3 210.07 1089.4 Q206.598 1092.48 200.278 1092.48 Q198.102 1092.48 195.834 1092.11 Q193.588 1091.74 191.181 1091 L191.181 1086.3 Q193.264 1087.43 195.487 1087.99 Q197.709 1088.54 200.186 1088.54 Q204.19 1088.54 206.528 1086.44 Q208.866 1084.33 208.866 1080.72 Q208.866 1077.11 206.528 1075 Q204.19 1072.89 200.186 1072.89 Q198.311 1072.89 196.436 1073.31 Q194.584 1073.73 192.639 1074.61 L192.639 1057.25 Z\" fill=\"#000000\" fill-rule=\"nonzero\" fill-opacity=\"1\" /><path clip-path=\"url(#clip650)\" d=\"M126.205 792.649 Q122.593 792.649 120.765 796.214 Q118.959 799.755 118.959 806.885 Q118.959 813.991 120.765 817.556 Q122.593 821.098 126.205 821.098 Q129.839 821.098 131.644 817.556 Q133.473 813.991 133.473 806.885 Q133.473 799.755 131.644 796.214 Q129.839 792.649 126.205 792.649 M126.205 788.945 Q132.015 788.945 135.07 793.552 Q138.149 798.135 138.149 806.885 Q138.149 815.612 135.07 820.218 Q132.015 824.801 126.205 824.801 Q120.394 824.801 117.316 820.218 Q114.26 815.612 114.26 806.885 Q114.26 798.135 117.316 793.552 Q120.394 788.945 126.205 788.945 Z\" fill=\"#000000\" fill-rule=\"nonzero\" fill-opacity=\"1\" /><path clip-path=\"url(#clip650)\" d=\"M146.366 818.251 L151.251 818.251 L151.251 824.13 L146.366 824.13 L146.366 818.251 Z\" fill=\"#000000\" fill-rule=\"nonzero\" fill-opacity=\"1\" /><path clip-path=\"url(#clip650)\" d=\"M165.464 820.195 L181.783 820.195 L181.783 824.13 L159.839 824.13 L159.839 820.195 Q162.501 817.44 167.084 812.811 Q171.69 808.158 172.871 806.815 Q175.116 804.292 175.996 802.556 Q176.899 800.797 176.899 799.107 Q176.899 796.352 174.954 794.616 Q173.033 792.88 169.931 792.88 Q167.732 792.88 165.278 793.644 Q162.848 794.408 160.07 795.959 L160.07 791.237 Q162.894 790.103 165.348 789.524 Q167.802 788.945 169.839 788.945 Q175.209 788.945 178.403 791.63 Q181.598 794.315 181.598 798.806 Q181.598 800.936 180.788 802.857 Q180.001 804.755 177.894 807.348 Q177.315 808.019 174.214 811.237 Q171.112 814.431 165.464 820.195 Z\" fill=\"#000000\" fill-rule=\"nonzero\" fill-opacity=\"1\" /><path clip-path=\"url(#clip650)\" d=\"M201.598 792.649 Q197.987 792.649 196.158 796.214 Q194.352 799.755 194.352 806.885 Q194.352 813.991 196.158 817.556 Q197.987 821.098 201.598 821.098 Q205.232 821.098 207.037 817.556 Q208.866 813.991 208.866 806.885 Q208.866 799.755 207.037 796.214 Q205.232 792.649 201.598 792.649 M201.598 788.945 Q207.408 788.945 210.463 793.552 Q213.542 798.135 213.542 806.885 Q213.542 815.612 210.463 820.218 Q207.408 824.801 201.598 824.801 Q195.787 824.801 192.709 820.218 Q189.653 815.612 189.653 806.885 Q189.653 798.135 192.709 793.552 Q195.787 788.945 201.598 788.945 Z\" fill=\"#000000\" fill-rule=\"nonzero\" fill-opacity=\"1\" /><path clip-path=\"url(#clip650)\" d=\"M127.2 524.973 Q123.589 524.973 121.76 528.538 Q119.955 532.08 119.955 539.209 Q119.955 546.316 121.76 549.881 Q123.589 553.422 127.2 553.422 Q130.834 553.422 132.64 549.881 Q134.468 546.316 134.468 539.209 Q134.468 532.08 132.64 528.538 Q130.834 524.973 127.2 524.973 M127.2 521.27 Q133.01 521.27 136.066 525.876 Q139.144 530.46 139.144 539.209 Q139.144 547.936 136.066 552.543 Q133.01 557.126 127.2 557.126 Q121.39 557.126 118.311 552.543 Q115.256 547.936 115.256 539.209 Q115.256 530.46 118.311 525.876 Q121.39 521.27 127.2 521.27 Z\" fill=\"#000000\" fill-rule=\"nonzero\" fill-opacity=\"1\" /><path clip-path=\"url(#clip650)\" d=\"M147.362 550.575 L152.246 550.575 L152.246 556.455 L147.362 556.455 L147.362 550.575 Z\" fill=\"#000000\" fill-rule=\"nonzero\" fill-opacity=\"1\" /><path clip-path=\"url(#clip650)\" d=\"M166.459 552.52 L182.778 552.52 L182.778 556.455 L160.834 556.455 L160.834 552.52 Q163.496 549.765 168.079 545.135 Q172.686 540.483 173.866 539.14 Q176.112 536.617 176.991 534.881 Q177.894 533.122 177.894 531.432 Q177.894 528.677 175.95 526.941 Q174.028 525.205 170.927 525.205 Q168.727 525.205 166.274 525.969 Q163.843 526.733 161.065 528.284 L161.065 523.561 Q163.89 522.427 166.343 521.848 Q168.797 521.27 170.834 521.27 Q176.204 521.27 179.399 523.955 Q182.593 526.64 182.593 531.131 Q182.593 533.26 181.783 535.182 Q180.996 537.08 178.889 539.672 Q178.311 540.344 175.209 543.561 Q172.107 546.756 166.459 552.52 Z\" fill=\"#000000\" fill-rule=\"nonzero\" fill-opacity=\"1\" /><path clip-path=\"url(#clip650)\" d=\"M192.639 521.895 L210.996 521.895 L210.996 525.83 L196.922 525.83 L196.922 534.302 Q197.94 533.955 198.959 533.793 Q199.977 533.608 200.996 533.608 Q206.783 533.608 210.162 536.779 Q213.542 539.95 213.542 545.367 Q213.542 550.946 210.07 554.047 Q206.598 557.126 200.278 557.126 Q198.102 557.126 195.834 556.756 Q193.588 556.385 191.181 555.645 L191.181 550.946 Q193.264 552.08 195.487 552.635 Q197.709 553.191 200.186 553.191 Q204.19 553.191 206.528 551.084 Q208.866 548.978 208.866 545.367 Q208.866 541.756 206.528 539.649 Q204.19 537.543 200.186 537.543 Q198.311 537.543 196.436 537.959 Q194.584 538.376 192.639 539.256 L192.639 521.895 Z\" fill=\"#000000\" fill-rule=\"nonzero\" fill-opacity=\"1\" /><path clip-path=\"url(#clip650)\" d=\"M126.205 257.298 Q122.593 257.298 120.765 260.863 Q118.959 264.404 118.959 271.534 Q118.959 278.641 120.765 282.205 Q122.593 285.747 126.205 285.747 Q129.839 285.747 131.644 282.205 Q133.473 278.641 133.473 271.534 Q133.473 264.404 131.644 260.863 Q129.839 257.298 126.205 257.298 M126.205 253.594 Q132.015 253.594 135.07 258.201 Q138.149 262.784 138.149 271.534 Q138.149 280.261 135.07 284.867 Q132.015 289.451 126.205 289.451 Q120.394 289.451 117.316 284.867 Q114.26 280.261 114.26 271.534 Q114.26 262.784 117.316 258.201 Q120.394 253.594 126.205 253.594 Z\" fill=\"#000000\" fill-rule=\"nonzero\" fill-opacity=\"1\" /><path clip-path=\"url(#clip650)\" d=\"M146.366 282.9 L151.251 282.9 L151.251 288.779 L146.366 288.779 L146.366 282.9 Z\" fill=\"#000000\" fill-rule=\"nonzero\" fill-opacity=\"1\" /><path clip-path=\"url(#clip650)\" d=\"M175.602 270.145 Q178.959 270.863 180.834 273.131 Q182.732 275.4 182.732 278.733 Q182.732 283.849 179.214 286.65 Q175.695 289.451 169.214 289.451 Q167.038 289.451 164.723 289.011 Q162.431 288.594 159.978 287.738 L159.978 283.224 Q161.922 284.358 164.237 284.937 Q166.552 285.515 169.075 285.515 Q173.473 285.515 175.764 283.779 Q178.079 282.043 178.079 278.733 Q178.079 275.678 175.926 273.965 Q173.797 272.229 169.977 272.229 L165.95 272.229 L165.95 268.386 L170.163 268.386 Q173.612 268.386 175.44 267.02 Q177.269 265.631 177.269 263.039 Q177.269 260.377 175.371 258.965 Q173.496 257.53 169.977 257.53 Q168.056 257.53 165.857 257.946 Q163.658 258.363 161.019 259.242 L161.019 255.076 Q163.681 254.335 165.996 253.965 Q168.334 253.594 170.394 253.594 Q175.718 253.594 178.82 256.025 Q181.922 258.432 181.922 262.553 Q181.922 265.423 180.278 267.414 Q178.635 269.381 175.602 270.145 Z\" fill=\"#000000\" fill-rule=\"nonzero\" fill-opacity=\"1\" /><path clip-path=\"url(#clip650)\" d=\"M201.598 257.298 Q197.987 257.298 196.158 260.863 Q194.352 264.404 194.352 271.534 Q194.352 278.641 196.158 282.205 Q197.987 285.747 201.598 285.747 Q205.232 285.747 207.037 282.205 Q208.866 278.641 208.866 271.534 Q208.866 264.404 207.037 260.863 Q205.232 257.298 201.598 257.298 M201.598 253.594 Q207.408 253.594 210.463 258.201 Q213.542 262.784 213.542 271.534 Q213.542 280.261 210.463 284.867 Q207.408 289.451 201.598 289.451 Q195.787 289.451 192.709 284.867 Q189.653 280.261 189.653 271.534 Q189.653 262.784 192.709 258.201 Q195.787 253.594 201.598 253.594 Z\" fill=\"#000000\" fill-rule=\"nonzero\" fill-opacity=\"1\" /><path clip-path=\"url(#clip650)\" d=\"M21.7677 1184.09 L39.6235 1184.09 L39.6235 1176.01 Q39.6235 1171.52 37.3 1169.07 Q34.9765 1166.62 30.6797 1166.62 Q26.4147 1166.62 24.0912 1169.07 Q21.7677 1171.52 21.7677 1176.01 L21.7677 1184.09 M16.4842 1190.52 L16.4842 1176.01 Q16.4842 1168.02 20.1126 1163.94 Q23.7092 1159.84 30.6797 1159.84 Q37.7138 1159.84 41.3104 1163.94 Q44.907 1168.02 44.907 1176.01 L44.907 1184.09 L64.0042 1184.09 L64.0042 1190.52 L16.4842 1190.52 Z\" fill=\"#000000\" fill-rule=\"nonzero\" fill-opacity=\"1\" /><path clip-path=\"url(#clip650)\" d=\"M32.4621 1139.98 Q32.4621 1144.69 36.1542 1147.42 Q39.8145 1150.16 46.212 1150.16 Q52.6095 1150.16 56.3017 1147.46 Q59.9619 1144.72 59.9619 1139.98 Q59.9619 1135.3 56.2698 1132.56 Q52.5777 1129.82 46.212 1129.82 Q39.8781 1129.82 36.186 1132.56 Q32.4621 1135.3 32.4621 1139.98 M27.4968 1139.98 Q27.4968 1132.34 32.4621 1127.98 Q37.4273 1123.62 46.212 1123.62 Q54.9649 1123.62 59.9619 1127.98 Q64.9272 1132.34 64.9272 1139.98 Q64.9272 1147.65 59.9619 1152.01 Q54.9649 1156.34 46.212 1156.34 Q37.4273 1156.34 32.4621 1152.01 Q27.4968 1147.65 27.4968 1139.98 Z\" fill=\"#000000\" fill-rule=\"nonzero\" fill-opacity=\"1\" /><path clip-path=\"url(#clip650)\" d=\"M33.8307 1093.25 Q33.2578 1094.24 33.0032 1095.42 Q32.7167 1096.56 32.7167 1097.96 Q32.7167 1102.93 35.9632 1105.6 Q39.1779 1108.24 45.2253 1108.24 L64.0042 1108.24 L64.0042 1114.13 L28.3562 1114.13 L28.3562 1108.24 L33.8944 1108.24 Q30.6479 1106.4 29.0883 1103.44 Q27.4968 1100.48 27.4968 1096.24 Q27.4968 1095.64 27.5923 1094.91 Q27.656 1094.17 27.8151 1093.28 L33.8307 1093.25 Z\" fill=\"#000000\" fill-rule=\"nonzero\" fill-opacity=\"1\" /><path clip-path=\"url(#clip650)\" d=\"M18.2347 1081.32 L28.3562 1081.32 L28.3562 1069.25 L32.9077 1069.25 L32.9077 1081.32 L52.2594 1081.32 Q56.6199 1081.32 57.8613 1080.14 Q59.1026 1078.93 59.1026 1075.27 L59.1026 1069.25 L64.0042 1069.25 L64.0042 1075.27 Q64.0042 1082.05 61.4897 1084.63 Q58.9434 1087.2 52.2594 1087.2 L32.9077 1087.2 L32.9077 1091.5 L28.3562 1091.5 L28.3562 1087.2 L18.2347 1087.2 L18.2347 1081.32 Z\" fill=\"#000000\" fill-rule=\"nonzero\" fill-opacity=\"1\" /><path clip-path=\"url(#clip650)\" d=\"M14.479 1043.5 L19.3487 1043.5 L19.3487 1049.1 Q19.3487 1052.26 20.6219 1053.5 Q21.895 1054.71 25.2052 1054.71 L28.3562 1054.71 L28.3562 1045.06 L32.9077 1045.06 L32.9077 1054.71 L64.0042 1054.71 L64.0042 1060.6 L32.9077 1060.6 L32.9077 1066.2 L28.3562 1066.2 L28.3562 1060.6 L25.8736 1060.6 Q19.9216 1060.6 17.2162 1057.83 Q14.479 1055.06 14.479 1049.04 L14.479 1043.5 Z\" fill=\"#000000\" fill-rule=\"nonzero\" fill-opacity=\"1\" /><path clip-path=\"url(#clip650)\" d=\"M32.4621 1024.79 Q32.4621 1029.5 36.1542 1032.24 Q39.8145 1034.97 46.212 1034.97 Q52.6095 1034.97 56.3017 1032.27 Q59.9619 1029.53 59.9619 1024.79 Q59.9619 1020.11 56.2698 1017.37 Q52.5777 1014.63 46.212 1014.63 Q39.8781 1014.63 36.186 1017.37 Q32.4621 1020.11 32.4621 1024.79 M27.4968 1024.79 Q27.4968 1017.15 32.4621 1012.79 Q37.4273 1008.43 46.212 1008.43 Q54.9649 1008.43 59.9619 1012.79 Q64.9272 1017.15 64.9272 1024.79 Q64.9272 1032.46 59.9619 1036.82 Q54.9649 1041.15 46.212 1041.15 Q37.4273 1041.15 32.4621 1036.82 Q27.4968 1032.46 27.4968 1024.79 Z\" fill=\"#000000\" fill-rule=\"nonzero\" fill-opacity=\"1\" /><path clip-path=\"url(#clip650)\" d=\"M14.479 998.72 L14.479 992.864 L64.0042 992.864 L64.0042 998.72 L14.479 998.72 Z\" fill=\"#000000\" fill-rule=\"nonzero\" fill-opacity=\"1\" /><path clip-path=\"url(#clip650)\" d=\"M28.3562 980.61 L28.3562 974.754 L64.0042 974.754 L64.0042 980.61 L28.3562 980.61 M14.479 980.61 L14.479 974.754 L21.895 974.754 L21.895 980.61 L14.479 980.61 Z\" fill=\"#000000\" fill-rule=\"nonzero\" fill-opacity=\"1\" /><path clip-path=\"url(#clip650)\" d=\"M32.4621 948.686 Q32.4621 953.397 36.1542 956.134 Q39.8145 958.871 46.212 958.871 Q52.6095 958.871 56.3017 956.166 Q59.9619 953.428 59.9619 948.686 Q59.9619 944.007 56.2698 941.27 Q52.5777 938.533 46.212 938.533 Q39.8781 938.533 36.186 941.27 Q32.4621 944.007 32.4621 948.686 M27.4968 948.686 Q27.4968 941.047 32.4621 936.687 Q37.4273 932.326 46.212 932.326 Q54.9649 932.326 59.9619 936.687 Q64.9272 941.047 64.9272 948.686 Q64.9272 956.357 59.9619 960.717 Q54.9649 965.046 46.212 965.046 Q37.4273 965.046 32.4621 960.717 Q27.4968 956.357 27.4968 948.686 Z\" fill=\"#000000\" fill-rule=\"nonzero\" fill-opacity=\"1\" /><path clip-path=\"url(#clip650)\" d=\"M41.7242 879.109 Q42.4244 877.04 44.7161 875.098 Q47.0077 873.125 51.0181 871.152 L64.0042 864.627 L64.0042 871.534 L51.8138 877.613 Q47.0395 879.968 45.48 882.196 Q43.9204 884.392 43.9204 888.212 L43.9204 895.214 L64.0042 895.214 L64.0042 901.643 L16.4842 901.643 L16.4842 887.13 Q16.4842 878.981 19.8898 874.971 Q23.2955 870.961 30.1704 870.961 Q34.6582 870.961 37.6183 873.061 Q40.5784 875.13 41.7242 879.109 M21.7677 895.214 L38.6368 895.214 L38.6368 887.13 Q38.6368 882.483 36.5043 880.127 Q34.34 877.74 30.1704 877.74 Q26.0009 877.74 23.9002 880.127 Q21.7677 882.483 21.7677 887.13 L21.7677 895.214 Z\" fill=\"#000000\" fill-rule=\"nonzero\" fill-opacity=\"1\" /><path clip-path=\"url(#clip650)\" d=\"M44.7161 829.042 L47.5806 829.042 L47.5806 855.969 Q53.6281 855.587 56.8109 852.341 Q59.9619 849.063 59.9619 843.238 Q59.9619 839.864 59.1344 836.713 Q58.3069 833.53 56.6518 830.411 L62.1899 830.411 Q63.5267 833.562 64.227 836.872 Q64.9272 840.182 64.9272 843.588 Q64.9272 852.118 59.9619 857.115 Q54.9967 862.081 46.5303 862.081 Q37.7774 862.081 32.6531 857.37 Q27.4968 852.627 27.4968 844.607 Q27.4968 837.413 32.1438 833.244 Q36.7589 829.042 44.7161 829.042 M42.9973 834.899 Q38.1912 834.963 35.3266 837.604 Q32.4621 840.214 32.4621 844.543 Q32.4621 849.445 35.2312 852.405 Q38.0002 855.333 43.0292 855.778 L42.9973 834.899 Z\" fill=\"#000000\" fill-rule=\"nonzero\" fill-opacity=\"1\" /><path clip-path=\"url(#clip650)\" d=\"M28.3562 822.836 L28.3562 816.979 L56.1743 809.659 L28.3562 802.37 L28.3562 795.463 L56.1743 788.143 L28.3562 780.854 L28.3562 774.998 L64.0042 784.323 L64.0042 791.23 L34.7856 798.901 L64.0042 806.603 L64.0042 813.51 L28.3562 822.836 Z\" fill=\"#000000\" fill-rule=\"nonzero\" fill-opacity=\"1\" /><path clip-path=\"url(#clip650)\" d=\"M46.0847 749.917 Q46.0847 757.015 47.7079 759.752 Q49.3312 762.489 53.2461 762.489 Q56.3653 762.489 58.2114 760.452 Q60.0256 758.383 60.0256 754.85 Q60.0256 749.98 56.5881 747.052 Q53.1188 744.092 47.3897 744.092 L46.0847 744.092 L46.0847 749.917 M43.6657 738.236 L64.0042 738.236 L64.0042 744.092 L58.5933 744.092 Q61.8398 746.097 63.3994 749.089 Q64.9272 752.081 64.9272 756.41 Q64.9272 761.884 61.8716 765.131 Q58.7843 768.345 53.6281 768.345 Q47.6125 768.345 44.5569 764.335 Q41.5014 760.293 41.5014 752.304 L41.5014 744.092 L40.9285 744.092 Q36.8862 744.092 34.6901 746.766 Q32.4621 749.407 32.4621 754.214 Q32.4621 757.269 33.1941 760.166 Q33.9262 763.062 35.3903 765.736 L29.9795 765.736 Q28.7381 762.521 28.1334 759.497 Q27.4968 756.473 27.4968 753.609 Q27.4968 745.875 31.5072 742.055 Q35.5176 738.236 43.6657 738.236 Z\" fill=\"#000000\" fill-rule=\"nonzero\" fill-opacity=\"1\" /><path clip-path=\"url(#clip650)\" d=\"M33.8307 705.516 Q33.2578 706.503 33.0032 707.68 Q32.7167 708.826 32.7167 710.227 Q32.7167 715.192 35.9632 717.865 Q39.1779 720.507 45.2253 720.507 L64.0042 720.507 L64.0042 726.395 L28.3562 726.395 L28.3562 720.507 L33.8944 720.507 Q30.6479 718.661 29.0883 715.701 Q27.4968 712.741 27.4968 708.508 Q27.4968 707.903 27.5923 707.171 Q27.656 706.439 27.8151 705.548 L33.8307 705.516 Z\" fill=\"#000000\" fill-rule=\"nonzero\" fill-opacity=\"1\" /><path clip-path=\"url(#clip650)\" d=\"M33.7671 677.061 L14.479 677.061 L14.479 671.205 L64.0042 671.205 L64.0042 677.061 L58.657 677.061 Q61.8398 678.907 63.3994 681.74 Q64.9272 684.541 64.9272 688.488 Q64.9272 694.949 59.771 699.023 Q54.6147 703.065 46.212 703.065 Q37.8093 703.065 32.6531 699.023 Q27.4968 694.949 27.4968 688.488 Q27.4968 684.541 29.0564 681.74 Q30.5842 678.907 33.7671 677.061 M46.212 697.018 Q52.6732 697.018 56.3653 694.376 Q60.0256 691.702 60.0256 687.055 Q60.0256 682.408 56.3653 679.735 Q52.6732 677.061 46.212 677.061 Q39.7508 677.061 36.0905 679.735 Q32.3984 682.408 32.3984 687.055 Q32.3984 691.702 36.0905 694.376 Q39.7508 697.018 46.212 697.018 Z\" fill=\"#000000\" fill-rule=\"nonzero\" fill-opacity=\"1\" /><path clip-path=\"url(#clip650)\" d=\"M14.5426 624.353 Q21.8632 628.618 29.0246 630.687 Q36.186 632.756 43.5384 632.756 Q50.8908 632.756 58.1159 630.687 Q65.3091 628.586 72.5979 624.353 L72.5979 629.446 Q65.1182 634.22 57.8931 636.607 Q50.668 638.962 43.5384 638.962 Q36.4406 638.962 29.2474 636.607 Q22.0542 634.252 14.5426 629.446 L14.5426 624.353 Z\" fill=\"#000000\" fill-rule=\"nonzero\" fill-opacity=\"1\" /><path clip-path=\"url(#clip650)\" d=\"M14.479 612.99 L14.479 607.134 L64.0042 607.134 L64.0042 612.99 L14.479 612.99 Z\" fill=\"#000000\" fill-rule=\"nonzero\" fill-opacity=\"1\" /><path clip-path=\"url(#clip650)\" d=\"M32.4621 581.066 Q32.4621 585.777 36.1542 588.514 Q39.8145 591.252 46.212 591.252 Q52.6095 591.252 56.3017 588.546 Q59.9619 585.809 59.9619 581.066 Q59.9619 576.388 56.2698 573.65 Q52.5777 570.913 46.212 570.913 Q39.8781 570.913 36.186 573.65 Q32.4621 576.388 32.4621 581.066 M27.4968 581.066 Q27.4968 573.428 32.4621 569.067 Q37.4273 564.707 46.212 564.707 Q54.9649 564.707 59.9619 569.067 Q64.9272 573.428 64.9272 581.066 Q64.9272 588.737 59.9619 593.098 Q54.9649 597.426 46.212 597.426 Q37.4273 597.426 32.4621 593.098 Q27.4968 588.737 27.4968 581.066 Z\" fill=\"#000000\" fill-rule=\"nonzero\" fill-opacity=\"1\" /><path clip-path=\"url(#clip650)\" d=\"M45.7664 531.541 Q39.4007 531.541 35.8996 534.183 Q32.3984 536.793 32.3984 541.535 Q32.3984 546.246 35.8996 548.888 Q39.4007 551.498 45.7664 551.498 Q52.1003 551.498 55.6014 548.888 Q59.1026 546.246 59.1026 541.535 Q59.1026 536.793 55.6014 534.183 Q52.1003 531.541 45.7664 531.541 M59.58 525.685 Q68.683 525.685 73.1071 529.727 Q77.5631 533.769 77.5631 542.108 Q77.5631 545.196 77.0857 547.933 Q76.6401 550.67 75.6852 553.248 L69.9879 553.248 Q71.3884 550.67 72.0568 548.156 Q72.7252 545.641 72.7252 543.031 Q72.7252 537.27 69.7015 534.406 Q66.7096 531.541 60.6303 531.541 L57.7339 531.541 Q60.885 533.355 62.4446 536.188 Q64.0042 539.021 64.0042 542.968 Q64.0042 549.524 59.0071 553.535 Q54.01 557.545 45.7664 557.545 Q37.491 557.545 32.4939 553.535 Q27.4968 549.524 27.4968 542.968 Q27.4968 539.021 29.0564 536.188 Q30.616 533.355 33.7671 531.541 L28.3562 531.541 L28.3562 525.685 L59.58 525.685 Z\" fill=\"#000000\" fill-rule=\"nonzero\" fill-opacity=\"1\" /><path clip-path=\"url(#clip650)\" d=\"M33.8307 472.245 Q33.2578 473.231 33.0032 474.409 Q32.7167 475.555 32.7167 476.955 Q32.7167 481.921 35.9632 484.594 Q39.1779 487.236 45.2253 487.236 L64.0042 487.236 L64.0042 493.124 L28.3562 493.124 L28.3562 487.236 L33.8944 487.236 Q30.6479 485.39 29.0883 482.43 Q27.4968 479.47 27.4968 475.237 Q27.4968 474.632 27.5923 473.9 Q27.656 473.168 27.8151 472.276 L33.8307 472.245 Z\" fill=\"#000000\" fill-rule=\"nonzero\" fill-opacity=\"1\" /><path clip-path=\"url(#clip650)\" d=\"M44.7161 437.042 L47.5806 437.042 L47.5806 463.969 Q53.6281 463.587 56.8109 460.341 Q59.9619 457.062 59.9619 451.238 Q59.9619 447.864 59.1344 444.713 Q58.3069 441.53 56.6518 438.411 L62.1899 438.411 Q63.5267 441.562 64.227 444.872 Q64.9272 448.182 64.9272 451.588 Q64.9272 460.118 59.9619 465.115 Q54.9967 470.08 46.5303 470.08 Q37.7774 470.08 32.6531 465.37 Q27.4968 460.627 27.4968 452.606 Q27.4968 445.413 32.1438 441.244 Q36.7589 437.042 44.7161 437.042 M42.9973 442.899 Q38.1912 442.962 35.3266 445.604 Q32.4621 448.214 32.4621 452.543 Q32.4621 457.444 35.2312 460.404 Q38.0002 463.333 43.0292 463.778 L42.9973 442.899 Z\" fill=\"#000000\" fill-rule=\"nonzero\" fill-opacity=\"1\" /><path clip-path=\"url(#clip650)\" d=\"M18.2347 421.637 L28.3562 421.637 L28.3562 409.574 L32.9077 409.574 L32.9077 421.637 L52.2594 421.637 Q56.6199 421.637 57.8613 420.46 Q59.1026 419.25 59.1026 415.59 L59.1026 409.574 L64.0042 409.574 L64.0042 415.59 Q64.0042 422.369 61.4897 424.947 Q58.9434 427.526 52.2594 427.526 L32.9077 427.526 L32.9077 431.822 L28.3562 431.822 L28.3562 427.526 L18.2347 427.526 L18.2347 421.637 Z\" fill=\"#000000\" fill-rule=\"nonzero\" fill-opacity=\"1\" /><path clip-path=\"url(#clip650)\" d=\"M49.9359 402.476 L28.3562 402.476 L28.3562 396.62 L49.7131 396.62 Q54.7739 396.62 57.3202 394.647 Q59.8346 392.673 59.8346 388.727 Q59.8346 383.984 56.8109 381.247 Q53.7872 378.478 48.5673 378.478 L28.3562 378.478 L28.3562 372.621 L64.0042 372.621 L64.0042 378.478 L58.5296 378.478 Q61.7762 380.61 63.3676 383.443 Q64.9272 386.244 64.9272 389.968 Q64.9272 396.111 61.1078 399.294 Q57.2883 402.476 49.9359 402.476 M27.4968 387.74 L27.4968 387.74 Z\" fill=\"#000000\" fill-rule=\"nonzero\" fill-opacity=\"1\" /><path clip-path=\"url(#clip650)\" d=\"M33.8307 339.902 Q33.2578 340.888 33.0032 342.066 Q32.7167 343.212 32.7167 344.612 Q32.7167 349.577 35.9632 352.251 Q39.1779 354.893 45.2253 354.893 L64.0042 354.893 L64.0042 360.781 L28.3562 360.781 L28.3562 354.893 L33.8944 354.893 Q30.6479 353.047 29.0883 350.087 Q27.4968 347.127 27.4968 342.893 Q27.4968 342.289 27.5923 341.557 Q27.656 340.825 27.8151 339.933 L33.8307 339.902 Z\" fill=\"#000000\" fill-rule=\"nonzero\" fill-opacity=\"1\" /><path clip-path=\"url(#clip650)\" d=\"M42.4881 305.272 L64.0042 305.272 L64.0042 311.129 L42.679 311.129 Q37.6183 311.129 35.1038 313.102 Q32.5894 315.075 32.5894 319.022 Q32.5894 323.765 35.6131 326.502 Q38.6368 329.239 43.8567 329.239 L64.0042 329.239 L64.0042 335.127 L28.3562 335.127 L28.3562 329.239 L33.8944 329.239 Q30.6797 327.138 29.0883 324.306 Q27.4968 321.441 27.4968 317.717 Q27.4968 311.574 31.3163 308.423 Q35.1038 305.272 42.4881 305.272 Z\" fill=\"#000000\" fill-rule=\"nonzero\" fill-opacity=\"1\" /><path clip-path=\"url(#clip650)\" d=\"M14.5426 294.514 L14.5426 289.422 Q22.0542 284.647 29.2474 282.292 Q36.4406 279.905 43.5384 279.905 Q50.668 279.905 57.8931 282.292 Q65.1182 284.647 72.5979 289.422 L72.5979 294.514 Q65.3091 290.281 58.1159 288.212 Q50.8908 286.111 43.5384 286.111 Q36.186 286.111 29.0246 288.212 Q21.8632 290.281 14.5426 294.514 Z\" fill=\"#000000\" fill-rule=\"nonzero\" fill-opacity=\"1\" /><polyline clip-path=\"url(#clip652)\" style=\"stroke:#b0b0b0; stroke-linecap:round; stroke-linejoin:round; stroke-width:16; stroke-opacity:1; fill:none\" points=\"1078.88,1374.26 1078.88,1374.26 1078.88,1374.26 1078.88,1374.26 1078.88,1374.26 1078.88,1374.26 1078.88,1374.26 1078.88,1374.26 1078.88,1374.26 1079.52,1321.61 1081.97,1259.84 1086.24,1198.07 1092.31,1136.3 1100.14,1074.53 1109.92,1012.75 1122.24,950.983 1137.37,889.212 1155.33,827.441 1175.96,765.669 1204.73,703.898 1247.68,642.127 1303.09,580.356 1369.11,518.584 1443.97,456.813 1526.14,395.042 1614.28,333.271 1707.32,271.499 1804.37,209.728 1904.74,147.957 2007.84,86.1857 \"/>\n",
       "<circle clip-path=\"url(#clip652)\" cx=\"1109.92\" cy=\"1012.75\" r=\"10.8\" fill=\"#ffffff\" fill-rule=\"evenodd\" fill-opacity=\"1\" stroke=\"#000000\" stroke-opacity=\"1\" stroke-width=\"3.2\"/>\n",
       "<circle clip-path=\"url(#clip652)\" cx=\"1614.28\" cy=\"333.271\" r=\"10.8\" fill=\"#ffffff\" fill-rule=\"evenodd\" fill-opacity=\"1\" stroke=\"#000000\" stroke-opacity=\"1\" stroke-width=\"3.2\"/>\n",
       "<circle clip-path=\"url(#clip652)\" cx=\"1100.14\" cy=\"1074.53\" r=\"10.8\" fill=\"#ffffff\" fill-rule=\"evenodd\" fill-opacity=\"1\" stroke=\"#000000\" stroke-opacity=\"1\" stroke-width=\"3.2\"/>\n",
       "<circle clip-path=\"url(#clip652)\" cx=\"1078.88\" cy=\"1374.26\" r=\"10.8\" fill=\"#ffffff\" fill-rule=\"evenodd\" fill-opacity=\"1\" stroke=\"#000000\" stroke-opacity=\"1\" stroke-width=\"3.2\"/>\n",
       "<circle clip-path=\"url(#clip652)\" cx=\"1086.24\" cy=\"1198.07\" r=\"10.8\" fill=\"#ffffff\" fill-rule=\"evenodd\" fill-opacity=\"1\" stroke=\"#000000\" stroke-opacity=\"1\" stroke-width=\"3.2\"/>\n",
       "<circle clip-path=\"url(#clip652)\" cx=\"1078.88\" cy=\"1374.26\" r=\"10.8\" fill=\"#ffffff\" fill-rule=\"evenodd\" fill-opacity=\"1\" stroke=\"#000000\" stroke-opacity=\"1\" stroke-width=\"3.2\"/>\n",
       "<circle clip-path=\"url(#clip652)\" cx=\"1122.24\" cy=\"950.983\" r=\"10.8\" fill=\"#ffffff\" fill-rule=\"evenodd\" fill-opacity=\"1\" stroke=\"#000000\" stroke-opacity=\"1\" stroke-width=\"3.2\"/>\n",
       "<circle clip-path=\"url(#clip652)\" cx=\"1175.96\" cy=\"765.669\" r=\"10.8\" fill=\"#ffffff\" fill-rule=\"evenodd\" fill-opacity=\"1\" stroke=\"#000000\" stroke-opacity=\"1\" stroke-width=\"3.2\"/>\n",
       "<circle clip-path=\"url(#clip652)\" cx=\"1707.32\" cy=\"271.499\" r=\"10.8\" fill=\"#ffffff\" fill-rule=\"evenodd\" fill-opacity=\"1\" stroke=\"#000000\" stroke-opacity=\"1\" stroke-width=\"3.2\"/>\n",
       "<circle clip-path=\"url(#clip652)\" cx=\"1078.88\" cy=\"1374.26\" r=\"10.8\" fill=\"#ffffff\" fill-rule=\"evenodd\" fill-opacity=\"1\" stroke=\"#000000\" stroke-opacity=\"1\" stroke-width=\"3.2\"/>\n",
       "<circle clip-path=\"url(#clip652)\" cx=\"1804.37\" cy=\"209.728\" r=\"10.8\" fill=\"#ffffff\" fill-rule=\"evenodd\" fill-opacity=\"1\" stroke=\"#000000\" stroke-opacity=\"1\" stroke-width=\"3.2\"/>\n",
       "<circle clip-path=\"url(#clip652)\" cx=\"1247.68\" cy=\"642.127\" r=\"10.8\" fill=\"#ffffff\" fill-rule=\"evenodd\" fill-opacity=\"1\" stroke=\"#000000\" stroke-opacity=\"1\" stroke-width=\"3.2\"/>\n",
       "<circle clip-path=\"url(#clip652)\" cx=\"1078.88\" cy=\"1374.26\" r=\"10.8\" fill=\"#ffffff\" fill-rule=\"evenodd\" fill-opacity=\"1\" stroke=\"#000000\" stroke-opacity=\"1\" stroke-width=\"3.2\"/>\n",
       "<circle clip-path=\"url(#clip652)\" cx=\"1078.88\" cy=\"1374.26\" r=\"10.8\" fill=\"#ffffff\" fill-rule=\"evenodd\" fill-opacity=\"1\" stroke=\"#000000\" stroke-opacity=\"1\" stroke-width=\"3.2\"/>\n",
       "<circle clip-path=\"url(#clip652)\" cx=\"1303.09\" cy=\"580.356\" r=\"10.8\" fill=\"#ffffff\" fill-rule=\"evenodd\" fill-opacity=\"1\" stroke=\"#000000\" stroke-opacity=\"1\" stroke-width=\"3.2\"/>\n",
       "<circle clip-path=\"url(#clip652)\" cx=\"1078.88\" cy=\"1374.26\" r=\"10.8\" fill=\"#ffffff\" fill-rule=\"evenodd\" fill-opacity=\"1\" stroke=\"#000000\" stroke-opacity=\"1\" stroke-width=\"3.2\"/>\n",
       "<circle clip-path=\"url(#clip652)\" cx=\"1443.97\" cy=\"456.813\" r=\"10.8\" fill=\"#ffffff\" fill-rule=\"evenodd\" fill-opacity=\"1\" stroke=\"#000000\" stroke-opacity=\"1\" stroke-width=\"3.2\"/>\n",
       "<circle clip-path=\"url(#clip652)\" cx=\"1079.52\" cy=\"1321.61\" r=\"10.8\" fill=\"#ffffff\" fill-rule=\"evenodd\" fill-opacity=\"1\" stroke=\"#000000\" stroke-opacity=\"1\" stroke-width=\"3.2\"/>\n",
       "<circle clip-path=\"url(#clip652)\" cx=\"1526.14\" cy=\"395.042\" r=\"10.8\" fill=\"#ffffff\" fill-rule=\"evenodd\" fill-opacity=\"1\" stroke=\"#000000\" stroke-opacity=\"1\" stroke-width=\"3.2\"/>\n",
       "<circle clip-path=\"url(#clip652)\" cx=\"1904.74\" cy=\"147.957\" r=\"10.8\" fill=\"#ffffff\" fill-rule=\"evenodd\" fill-opacity=\"1\" stroke=\"#000000\" stroke-opacity=\"1\" stroke-width=\"3.2\"/>\n",
       "<circle clip-path=\"url(#clip652)\" cx=\"1081.97\" cy=\"1259.84\" r=\"10.8\" fill=\"#ffffff\" fill-rule=\"evenodd\" fill-opacity=\"1\" stroke=\"#000000\" stroke-opacity=\"1\" stroke-width=\"3.2\"/>\n",
       "<circle clip-path=\"url(#clip652)\" cx=\"2007.84\" cy=\"86.1857\" r=\"10.8\" fill=\"#ffffff\" fill-rule=\"evenodd\" fill-opacity=\"1\" stroke=\"#000000\" stroke-opacity=\"1\" stroke-width=\"3.2\"/>\n",
       "<circle clip-path=\"url(#clip652)\" cx=\"1078.88\" cy=\"1374.26\" r=\"10.8\" fill=\"#ffffff\" fill-rule=\"evenodd\" fill-opacity=\"1\" stroke=\"#000000\" stroke-opacity=\"1\" stroke-width=\"3.2\"/>\n",
       "<circle clip-path=\"url(#clip652)\" cx=\"1137.37\" cy=\"889.212\" r=\"10.8\" fill=\"#ffffff\" fill-rule=\"evenodd\" fill-opacity=\"1\" stroke=\"#000000\" stroke-opacity=\"1\" stroke-width=\"3.2\"/>\n",
       "<circle clip-path=\"url(#clip652)\" cx=\"1155.33\" cy=\"827.441\" r=\"10.8\" fill=\"#ffffff\" fill-rule=\"evenodd\" fill-opacity=\"1\" stroke=\"#000000\" stroke-opacity=\"1\" stroke-width=\"3.2\"/>\n",
       "<circle clip-path=\"url(#clip652)\" cx=\"1078.88\" cy=\"1374.26\" r=\"10.8\" fill=\"#ffffff\" fill-rule=\"evenodd\" fill-opacity=\"1\" stroke=\"#000000\" stroke-opacity=\"1\" stroke-width=\"3.2\"/>\n",
       "<circle clip-path=\"url(#clip652)\" cx=\"1092.31\" cy=\"1136.3\" r=\"10.8\" fill=\"#ffffff\" fill-rule=\"evenodd\" fill-opacity=\"1\" stroke=\"#000000\" stroke-opacity=\"1\" stroke-width=\"3.2\"/>\n",
       "<circle clip-path=\"url(#clip652)\" cx=\"1204.73\" cy=\"703.898\" r=\"10.8\" fill=\"#ffffff\" fill-rule=\"evenodd\" fill-opacity=\"1\" stroke=\"#000000\" stroke-opacity=\"1\" stroke-width=\"3.2\"/>\n",
       "<circle clip-path=\"url(#clip652)\" cx=\"1369.11\" cy=\"518.584\" r=\"10.8\" fill=\"#ffffff\" fill-rule=\"evenodd\" fill-opacity=\"1\" stroke=\"#000000\" stroke-opacity=\"1\" stroke-width=\"3.2\"/>\n",
       "<circle clip-path=\"url(#clip652)\" cx=\"1078.88\" cy=\"1374.26\" r=\"10.8\" fill=\"#ffffff\" fill-rule=\"evenodd\" fill-opacity=\"1\" stroke=\"#000000\" stroke-opacity=\"1\" stroke-width=\"3.2\"/>\n",
       "<polyline clip-path=\"url(#clip652)\" style=\"stroke:#ff0000; stroke-linecap:round; stroke-linejoin:round; stroke-width:16; stroke-opacity:1; fill:none\" points=\"1085.98,1384.24 1085.98,1384.24 1085.98,1384.24 1085.98,1384.24 1085.98,1384.24 1085.98,1384.24 1085.98,1384.24 1085.98,1383.3 1085.98,1384.24 1086.52,1321.61 1088.11,1259.84 1090.73,1198.07 1094.39,1136.3 1099.06,1074.53 1104.75,1012.75 1111.57,950.983 1119.8,889.212 1129.4,827.44 1140.92,765.669 1165.18,703.898 1206.03,642.127 1261.46,580.356 1329.23,518.584 1407.18,456.813 1493.39,395.042 1586.26,333.271 1684.51,271.499 1787.1,209.728 1893.21,147.957 2002.22,86.1857 \"/>\n",
       "<circle clip-path=\"url(#clip652)\" cx=\"1085.98\" cy=\"1384.24\" r=\"10.8\" fill=\"#ffffff\" fill-rule=\"evenodd\" fill-opacity=\"1\" stroke=\"#000000\" stroke-opacity=\"1\" stroke-width=\"3.2\"/>\n",
       "<circle clip-path=\"url(#clip652)\" cx=\"1893.21\" cy=\"147.957\" r=\"10.8\" fill=\"#ffffff\" fill-rule=\"evenodd\" fill-opacity=\"1\" stroke=\"#000000\" stroke-opacity=\"1\" stroke-width=\"3.2\"/>\n",
       "<circle clip-path=\"url(#clip652)\" cx=\"1119.8\" cy=\"889.212\" r=\"10.8\" fill=\"#ffffff\" fill-rule=\"evenodd\" fill-opacity=\"1\" stroke=\"#000000\" stroke-opacity=\"1\" stroke-width=\"3.2\"/>\n",
       "<circle clip-path=\"url(#clip652)\" cx=\"1140.92\" cy=\"765.669\" r=\"10.8\" fill=\"#ffffff\" fill-rule=\"evenodd\" fill-opacity=\"1\" stroke=\"#000000\" stroke-opacity=\"1\" stroke-width=\"3.2\"/>\n",
       "<circle clip-path=\"url(#clip652)\" cx=\"1085.98\" cy=\"1384.24\" r=\"10.8\" fill=\"#ffffff\" fill-rule=\"evenodd\" fill-opacity=\"1\" stroke=\"#000000\" stroke-opacity=\"1\" stroke-width=\"3.2\"/>\n",
       "<circle clip-path=\"url(#clip652)\" cx=\"1085.98\" cy=\"1384.24\" r=\"10.8\" fill=\"#ffffff\" fill-rule=\"evenodd\" fill-opacity=\"1\" stroke=\"#000000\" stroke-opacity=\"1\" stroke-width=\"3.2\"/>\n",
       "<circle clip-path=\"url(#clip652)\" cx=\"1085.98\" cy=\"1384.24\" r=\"10.8\" fill=\"#ffffff\" fill-rule=\"evenodd\" fill-opacity=\"1\" stroke=\"#000000\" stroke-opacity=\"1\" stroke-width=\"3.2\"/>\n",
       "<circle clip-path=\"url(#clip652)\" cx=\"1329.23\" cy=\"518.584\" r=\"10.8\" fill=\"#ffffff\" fill-rule=\"evenodd\" fill-opacity=\"1\" stroke=\"#000000\" stroke-opacity=\"1\" stroke-width=\"3.2\"/>\n",
       "<circle clip-path=\"url(#clip652)\" cx=\"1684.51\" cy=\"271.499\" r=\"10.8\" fill=\"#ffffff\" fill-rule=\"evenodd\" fill-opacity=\"1\" stroke=\"#000000\" stroke-opacity=\"1\" stroke-width=\"3.2\"/>\n",
       "<circle clip-path=\"url(#clip652)\" cx=\"1090.73\" cy=\"1198.07\" r=\"10.8\" fill=\"#ffffff\" fill-rule=\"evenodd\" fill-opacity=\"1\" stroke=\"#000000\" stroke-opacity=\"1\" stroke-width=\"3.2\"/>\n",
       "<circle clip-path=\"url(#clip652)\" cx=\"1129.4\" cy=\"827.44\" r=\"10.8\" fill=\"#ffffff\" fill-rule=\"evenodd\" fill-opacity=\"1\" stroke=\"#000000\" stroke-opacity=\"1\" stroke-width=\"3.2\"/>\n",
       "<circle clip-path=\"url(#clip652)\" cx=\"1088.11\" cy=\"1259.84\" r=\"10.8\" fill=\"#ffffff\" fill-rule=\"evenodd\" fill-opacity=\"1\" stroke=\"#000000\" stroke-opacity=\"1\" stroke-width=\"3.2\"/>\n",
       "<circle clip-path=\"url(#clip652)\" cx=\"1111.57\" cy=\"950.983\" r=\"10.8\" fill=\"#ffffff\" fill-rule=\"evenodd\" fill-opacity=\"1\" stroke=\"#000000\" stroke-opacity=\"1\" stroke-width=\"3.2\"/>\n",
       "<circle clip-path=\"url(#clip652)\" cx=\"1165.18\" cy=\"703.898\" r=\"10.8\" fill=\"#ffffff\" fill-rule=\"evenodd\" fill-opacity=\"1\" stroke=\"#000000\" stroke-opacity=\"1\" stroke-width=\"3.2\"/>\n",
       "<circle clip-path=\"url(#clip652)\" cx=\"1407.18\" cy=\"456.813\" r=\"10.8\" fill=\"#ffffff\" fill-rule=\"evenodd\" fill-opacity=\"1\" stroke=\"#000000\" stroke-opacity=\"1\" stroke-width=\"3.2\"/>\n",
       "<circle clip-path=\"url(#clip652)\" cx=\"2002.22\" cy=\"86.1857\" r=\"10.8\" fill=\"#ffffff\" fill-rule=\"evenodd\" fill-opacity=\"1\" stroke=\"#000000\" stroke-opacity=\"1\" stroke-width=\"3.2\"/>\n",
       "<circle clip-path=\"url(#clip652)\" cx=\"1085.98\" cy=\"1383.3\" r=\"10.8\" fill=\"#ffffff\" fill-rule=\"evenodd\" fill-opacity=\"1\" stroke=\"#000000\" stroke-opacity=\"1\" stroke-width=\"3.2\"/>\n",
       "<circle clip-path=\"url(#clip652)\" cx=\"1206.03\" cy=\"642.127\" r=\"10.8\" fill=\"#ffffff\" fill-rule=\"evenodd\" fill-opacity=\"1\" stroke=\"#000000\" stroke-opacity=\"1\" stroke-width=\"3.2\"/>\n",
       "<circle clip-path=\"url(#clip652)\" cx=\"1085.98\" cy=\"1384.24\" r=\"10.8\" fill=\"#ffffff\" fill-rule=\"evenodd\" fill-opacity=\"1\" stroke=\"#000000\" stroke-opacity=\"1\" stroke-width=\"3.2\"/>\n",
       "<circle clip-path=\"url(#clip652)\" cx=\"1586.26\" cy=\"333.271\" r=\"10.8\" fill=\"#ffffff\" fill-rule=\"evenodd\" fill-opacity=\"1\" stroke=\"#000000\" stroke-opacity=\"1\" stroke-width=\"3.2\"/>\n",
       "<circle clip-path=\"url(#clip652)\" cx=\"1085.98\" cy=\"1384.24\" r=\"10.8\" fill=\"#ffffff\" fill-rule=\"evenodd\" fill-opacity=\"1\" stroke=\"#000000\" stroke-opacity=\"1\" stroke-width=\"3.2\"/>\n",
       "<circle clip-path=\"url(#clip652)\" cx=\"1099.06\" cy=\"1074.53\" r=\"10.8\" fill=\"#ffffff\" fill-rule=\"evenodd\" fill-opacity=\"1\" stroke=\"#000000\" stroke-opacity=\"1\" stroke-width=\"3.2\"/>\n",
       "<circle clip-path=\"url(#clip652)\" cx=\"1787.1\" cy=\"209.728\" r=\"10.8\" fill=\"#ffffff\" fill-rule=\"evenodd\" fill-opacity=\"1\" stroke=\"#000000\" stroke-opacity=\"1\" stroke-width=\"3.2\"/>\n",
       "<circle clip-path=\"url(#clip652)\" cx=\"1104.75\" cy=\"1012.75\" r=\"10.8\" fill=\"#ffffff\" fill-rule=\"evenodd\" fill-opacity=\"1\" stroke=\"#000000\" stroke-opacity=\"1\" stroke-width=\"3.2\"/>\n",
       "<circle clip-path=\"url(#clip652)\" cx=\"1086.52\" cy=\"1321.61\" r=\"10.8\" fill=\"#ffffff\" fill-rule=\"evenodd\" fill-opacity=\"1\" stroke=\"#000000\" stroke-opacity=\"1\" stroke-width=\"3.2\"/>\n",
       "<circle clip-path=\"url(#clip652)\" cx=\"1085.98\" cy=\"1384.24\" r=\"10.8\" fill=\"#ffffff\" fill-rule=\"evenodd\" fill-opacity=\"1\" stroke=\"#000000\" stroke-opacity=\"1\" stroke-width=\"3.2\"/>\n",
       "<circle clip-path=\"url(#clip652)\" cx=\"1261.46\" cy=\"580.356\" r=\"10.8\" fill=\"#ffffff\" fill-rule=\"evenodd\" fill-opacity=\"1\" stroke=\"#000000\" stroke-opacity=\"1\" stroke-width=\"3.2\"/>\n",
       "<circle clip-path=\"url(#clip652)\" cx=\"1085.98\" cy=\"1384.24\" r=\"10.8\" fill=\"#ffffff\" fill-rule=\"evenodd\" fill-opacity=\"1\" stroke=\"#000000\" stroke-opacity=\"1\" stroke-width=\"3.2\"/>\n",
       "<circle clip-path=\"url(#clip652)\" cx=\"1094.39\" cy=\"1136.3\" r=\"10.8\" fill=\"#ffffff\" fill-rule=\"evenodd\" fill-opacity=\"1\" stroke=\"#000000\" stroke-opacity=\"1\" stroke-width=\"3.2\"/>\n",
       "<circle clip-path=\"url(#clip652)\" cx=\"1493.39\" cy=\"395.042\" r=\"10.8\" fill=\"#ffffff\" fill-rule=\"evenodd\" fill-opacity=\"1\" stroke=\"#000000\" stroke-opacity=\"1\" stroke-width=\"3.2\"/>\n",
       "<path clip-path=\"url(#clip650)\" d=\"M319.649 248.629 L634.206 248.629 L634.206 93.1086 L319.649 93.1086  Z\" fill=\"#ffffff\" fill-rule=\"evenodd\" fill-opacity=\"1\"/>\n",
       "<polyline clip-path=\"url(#clip650)\" style=\"stroke:#000000; stroke-linecap:round; stroke-linejoin:round; stroke-width:4; stroke-opacity:1; fill:none\" points=\"319.649,248.629 634.206,248.629 634.206,93.1086 319.649,93.1086 319.649,248.629 \"/>\n",
       "<polyline clip-path=\"url(#clip650)\" style=\"stroke:#b0b0b0; stroke-linecap:round; stroke-linejoin:round; stroke-width:16; stroke-opacity:1; fill:none\" points=\"343.018,144.949 483.232,144.949 \"/>\n",
       "<path clip-path=\"url(#clip650)\" d=\"M511.277 131.511 L511.277 158.386 L516.926 158.386 Q524.078 158.386 527.388 155.145 Q530.722 151.905 530.722 144.914 Q530.722 137.969 527.388 134.752 Q524.078 131.511 516.926 131.511 L511.277 131.511 M506.602 127.669 L516.208 127.669 Q526.254 127.669 530.953 131.858 Q535.652 136.025 535.652 144.914 Q535.652 153.849 530.93 158.039 Q526.208 162.229 516.208 162.229 L506.602 162.229 L506.602 127.669 Z\" fill=\"#000000\" fill-rule=\"nonzero\" fill-opacity=\"1\" /><path clip-path=\"url(#clip650)\" d=\"M554.703 149.196 Q549.541 149.196 547.55 150.377 Q545.56 151.557 545.56 154.405 Q545.56 156.673 547.041 158.016 Q548.546 159.335 551.115 159.335 Q554.657 159.335 556.786 156.835 Q558.939 154.312 558.939 150.145 L558.939 149.196 L554.703 149.196 M563.198 147.437 L563.198 162.229 L558.939 162.229 L558.939 158.293 Q557.481 160.655 555.305 161.789 Q553.129 162.9 549.981 162.9 Q545.999 162.9 543.638 160.678 Q541.3 158.432 541.3 154.682 Q541.3 150.307 544.217 148.085 Q547.157 145.863 552.967 145.863 L558.939 145.863 L558.939 145.446 Q558.939 142.507 556.995 140.909 Q555.073 139.289 551.578 139.289 Q549.356 139.289 547.249 139.821 Q545.143 140.354 543.199 141.419 L543.199 137.483 Q545.536 136.581 547.736 136.141 Q549.935 135.678 552.018 135.678 Q557.643 135.678 560.421 138.594 Q563.198 141.511 563.198 147.437 Z\" fill=\"#000000\" fill-rule=\"nonzero\" fill-opacity=\"1\" /><path clip-path=\"url(#clip650)\" d=\"M576.184 128.942 L576.184 136.303 L584.958 136.303 L584.958 139.613 L576.184 139.613 L576.184 153.687 Q576.184 156.858 577.041 157.761 Q577.921 158.664 580.583 158.664 L584.958 158.664 L584.958 162.229 L580.583 162.229 Q575.652 162.229 573.777 160.4 Q571.902 158.548 571.902 153.687 L571.902 139.613 L568.777 139.613 L568.777 136.303 L571.902 136.303 L571.902 128.942 L576.184 128.942 Z\" fill=\"#000000\" fill-rule=\"nonzero\" fill-opacity=\"1\" /><path clip-path=\"url(#clip650)\" d=\"M602.342 149.196 Q597.18 149.196 595.189 150.377 Q593.198 151.557 593.198 154.405 Q593.198 156.673 594.68 158.016 Q596.184 159.335 598.754 159.335 Q602.295 159.335 604.425 156.835 Q606.578 154.312 606.578 150.145 L606.578 149.196 L602.342 149.196 M610.837 147.437 L610.837 162.229 L606.578 162.229 L606.578 158.293 Q605.119 160.655 602.944 161.789 Q600.768 162.9 597.62 162.9 Q593.638 162.9 591.277 160.678 Q588.939 158.432 588.939 154.682 Q588.939 150.307 591.856 148.085 Q594.795 145.863 600.606 145.863 L606.578 145.863 L606.578 145.446 Q606.578 142.507 604.633 140.909 Q602.712 139.289 599.217 139.289 Q596.995 139.289 594.888 139.821 Q592.782 140.354 590.837 141.419 L590.837 137.483 Q593.175 136.581 595.374 136.141 Q597.573 135.678 599.657 135.678 Q605.282 135.678 608.059 138.594 Q610.837 141.511 610.837 147.437 Z\" fill=\"#000000\" fill-rule=\"nonzero\" fill-opacity=\"1\" /><polyline clip-path=\"url(#clip650)\" style=\"stroke:#ff0000; stroke-linecap:round; stroke-linejoin:round; stroke-width:16; stroke-opacity:1; fill:none\" points=\"343.018,196.789 483.232,196.789 \"/>\n",
       "<path clip-path=\"url(#clip650)\" d=\"M528.847 180.643 L528.847 185.203 Q526.185 183.93 523.824 183.305 Q521.463 182.68 519.263 182.68 Q515.444 182.68 513.361 184.161 Q511.301 185.643 511.301 188.374 Q511.301 190.666 512.666 191.847 Q514.055 193.004 517.898 193.722 L520.722 194.3 Q525.953 195.296 528.43 197.819 Q530.93 200.319 530.93 204.532 Q530.93 209.555 527.55 212.147 Q524.194 214.74 517.689 214.74 Q515.236 214.74 512.458 214.184 Q509.703 213.629 506.74 212.541 L506.74 207.726 Q509.588 209.323 512.319 210.133 Q515.051 210.944 517.689 210.944 Q521.694 210.944 523.87 209.37 Q526.046 207.796 526.046 204.879 Q526.046 202.333 524.472 200.897 Q522.921 199.462 519.356 198.745 L516.509 198.189 Q511.277 197.147 508.939 194.925 Q506.602 192.703 506.602 188.745 Q506.602 184.161 509.819 181.522 Q513.06 178.884 518.731 178.884 Q521.162 178.884 523.685 179.323 Q526.208 179.763 528.847 180.643 Z\" fill=\"#000000\" fill-rule=\"nonzero\" fill-opacity=\"1\" /><path clip-path=\"url(#clip650)\" d=\"M538.222 179.509 L542.898 179.509 L542.898 214.069 L538.222 214.069 L538.222 179.509 Z\" fill=\"#000000\" fill-rule=\"nonzero\" fill-opacity=\"1\" /><path clip-path=\"url(#clip650)\" d=\"M552.203 179.509 L559.171 179.509 L567.99 203.027 L576.856 179.509 L583.823 179.509 L583.823 214.069 L579.263 214.069 L579.263 183.722 L570.351 207.425 L565.652 207.425 L556.74 183.722 L556.74 214.069 L552.203 214.069 L552.203 179.509 Z\" fill=\"#000000\" fill-rule=\"nonzero\" fill-opacity=\"1\" /></svg>\n"
      ],
      "text/html": [
       "<?xml version=\"1.0\" encoding=\"utf-8\"?>\n",
       "<svg xmlns=\"http://www.w3.org/2000/svg\" xmlns:xlink=\"http://www.w3.org/1999/xlink\" width=\"600\" height=\"400\" viewBox=\"0 0 2400 1600\">\n",
       "<defs>\n",
       "  <clipPath id=\"clip700\">\n",
       "    <rect x=\"0\" y=\"0\" width=\"2400\" height=\"1600\"/>\n",
       "  </clipPath>\n",
       "</defs>\n",
       "<path clip-path=\"url(#clip700)\" d=\"M0 1600 L2400 1600 L2400 0 L0 0  Z\" fill=\"#ffffff\" fill-rule=\"evenodd\" fill-opacity=\"1\"/>\n",
       "<defs>\n",
       "  <clipPath id=\"clip701\">\n",
       "    <rect x=\"480\" y=\"0\" width=\"1681\" height=\"1600\"/>\n",
       "  </clipPath>\n",
       "</defs>\n",
       "<path clip-path=\"url(#clip700)\" d=\"M249.542 1423.18 L2352.76 1423.18 L2352.76 47.2441 L249.542 47.2441  Z\" fill=\"#ffffff\" fill-rule=\"evenodd\" fill-opacity=\"1\"/>\n",
       "<defs>\n",
       "  <clipPath id=\"clip702\">\n",
       "    <rect x=\"249\" y=\"47\" width=\"2104\" height=\"1377\"/>\n",
       "  </clipPath>\n",
       "</defs>\n",
       "<polyline clip-path=\"url(#clip702)\" style=\"stroke:#000000; stroke-linecap:round; stroke-linejoin:round; stroke-width:2; stroke-opacity:0.1; fill:none\" points=\"249.542,1423.18 249.542,47.2441 \"/>\n",
       "<polyline clip-path=\"url(#clip702)\" style=\"stroke:#000000; stroke-linecap:round; stroke-linejoin:round; stroke-width:2; stroke-opacity:0.1; fill:none\" points=\"650.862,1423.18 650.862,47.2441 \"/>\n",
       "<polyline clip-path=\"url(#clip702)\" style=\"stroke:#000000; stroke-linecap:round; stroke-linejoin:round; stroke-width:2; stroke-opacity:0.1; fill:none\" points=\"1052.18,1423.18 1052.18,47.2441 \"/>\n",
       "<polyline clip-path=\"url(#clip702)\" style=\"stroke:#000000; stroke-linecap:round; stroke-linejoin:round; stroke-width:2; stroke-opacity:0.1; fill:none\" points=\"1453.5,1423.18 1453.5,47.2441 \"/>\n",
       "<polyline clip-path=\"url(#clip702)\" style=\"stroke:#000000; stroke-linecap:round; stroke-linejoin:round; stroke-width:2; stroke-opacity:0.1; fill:none\" points=\"1854.82,1423.18 1854.82,47.2441 \"/>\n",
       "<polyline clip-path=\"url(#clip702)\" style=\"stroke:#000000; stroke-linecap:round; stroke-linejoin:round; stroke-width:2; stroke-opacity:0.1; fill:none\" points=\"2256.14,1423.18 2256.14,47.2441 \"/>\n",
       "<polyline clip-path=\"url(#clip700)\" style=\"stroke:#000000; stroke-linecap:round; stroke-linejoin:round; stroke-width:4; stroke-opacity:1; fill:none\" points=\"249.542,1423.18 2352.76,1423.18 \"/>\n",
       "<polyline clip-path=\"url(#clip700)\" style=\"stroke:#000000; stroke-linecap:round; stroke-linejoin:round; stroke-width:4; stroke-opacity:1; fill:none\" points=\"249.542,1423.18 249.542,1404.28 \"/>\n",
       "<polyline clip-path=\"url(#clip700)\" style=\"stroke:#000000; stroke-linecap:round; stroke-linejoin:round; stroke-width:4; stroke-opacity:1; fill:none\" points=\"650.862,1423.18 650.862,1404.28 \"/>\n",
       "<polyline clip-path=\"url(#clip700)\" style=\"stroke:#000000; stroke-linecap:round; stroke-linejoin:round; stroke-width:4; stroke-opacity:1; fill:none\" points=\"1052.18,1423.18 1052.18,1404.28 \"/>\n",
       "<polyline clip-path=\"url(#clip700)\" style=\"stroke:#000000; stroke-linecap:round; stroke-linejoin:round; stroke-width:4; stroke-opacity:1; fill:none\" points=\"1453.5,1423.18 1453.5,1404.28 \"/>\n",
       "<polyline clip-path=\"url(#clip700)\" style=\"stroke:#000000; stroke-linecap:round; stroke-linejoin:round; stroke-width:4; stroke-opacity:1; fill:none\" points=\"1854.82,1423.18 1854.82,1404.28 \"/>\n",
       "<polyline clip-path=\"url(#clip700)\" style=\"stroke:#000000; stroke-linecap:round; stroke-linejoin:round; stroke-width:4; stroke-opacity:1; fill:none\" points=\"2256.14,1423.18 2256.14,1404.28 \"/>\n",
       "<path clip-path=\"url(#clip700)\" d=\"M226.926 1454.1 Q223.315 1454.1 221.487 1457.66 Q219.681 1461.2 219.681 1468.33 Q219.681 1475.44 221.487 1479.01 Q223.315 1482.55 226.926 1482.55 Q230.561 1482.55 232.366 1479.01 Q234.195 1475.44 234.195 1468.33 Q234.195 1461.2 232.366 1457.66 Q230.561 1454.1 226.926 1454.1 M226.926 1450.39 Q232.737 1450.39 235.792 1455 Q238.871 1459.58 238.871 1468.33 Q238.871 1477.06 235.792 1481.67 Q232.737 1486.25 226.926 1486.25 Q221.116 1486.25 218.038 1481.67 Q214.982 1477.06 214.982 1468.33 Q214.982 1459.58 218.038 1455 Q221.116 1450.39 226.926 1450.39 Z\" fill=\"#000000\" fill-rule=\"nonzero\" fill-opacity=\"1\" /><path clip-path=\"url(#clip700)\" d=\"M247.088 1479.7 L251.973 1479.7 L251.973 1485.58 L247.088 1485.58 L247.088 1479.7 Z\" fill=\"#000000\" fill-rule=\"nonzero\" fill-opacity=\"1\" /><path clip-path=\"url(#clip700)\" d=\"M272.158 1454.1 Q268.547 1454.1 266.718 1457.66 Q264.912 1461.2 264.912 1468.33 Q264.912 1475.44 266.718 1479.01 Q268.547 1482.55 272.158 1482.55 Q275.792 1482.55 277.597 1479.01 Q279.426 1475.44 279.426 1468.33 Q279.426 1461.2 277.597 1457.66 Q275.792 1454.1 272.158 1454.1 M272.158 1450.39 Q277.968 1450.39 281.023 1455 Q284.102 1459.58 284.102 1468.33 Q284.102 1477.06 281.023 1481.67 Q277.968 1486.25 272.158 1486.25 Q266.347 1486.25 263.269 1481.67 Q260.213 1477.06 260.213 1468.33 Q260.213 1459.58 263.269 1455 Q266.347 1450.39 272.158 1450.39 Z\" fill=\"#000000\" fill-rule=\"nonzero\" fill-opacity=\"1\" /><path clip-path=\"url(#clip700)\" d=\"M628.86 1454.1 Q625.249 1454.1 623.42 1457.66 Q621.615 1461.2 621.615 1468.33 Q621.615 1475.44 623.42 1479.01 Q625.249 1482.55 628.86 1482.55 Q632.494 1482.55 634.3 1479.01 Q636.129 1475.44 636.129 1468.33 Q636.129 1461.2 634.3 1457.66 Q632.494 1454.1 628.86 1454.1 M628.86 1450.39 Q634.67 1450.39 637.726 1455 Q640.805 1459.58 640.805 1468.33 Q640.805 1477.06 637.726 1481.67 Q634.67 1486.25 628.86 1486.25 Q623.05 1486.25 619.971 1481.67 Q616.916 1477.06 616.916 1468.33 Q616.916 1459.58 619.971 1455 Q623.05 1450.39 628.86 1450.39 Z\" fill=\"#000000\" fill-rule=\"nonzero\" fill-opacity=\"1\" /><path clip-path=\"url(#clip700)\" d=\"M649.022 1479.7 L653.906 1479.7 L653.906 1485.58 L649.022 1485.58 L649.022 1479.7 Z\" fill=\"#000000\" fill-rule=\"nonzero\" fill-opacity=\"1\" /><path clip-path=\"url(#clip700)\" d=\"M664.902 1481.64 L672.54 1481.64 L672.54 1455.28 L664.23 1456.95 L664.23 1452.69 L672.494 1451.02 L677.17 1451.02 L677.17 1481.64 L684.809 1481.64 L684.809 1485.58 L664.902 1485.58 L664.902 1481.64 Z\" fill=\"#000000\" fill-rule=\"nonzero\" fill-opacity=\"1\" /><path clip-path=\"url(#clip700)\" d=\"M1030.37 1454.1 Q1026.75 1454.1 1024.93 1457.66 Q1023.12 1461.2 1023.12 1468.33 Q1023.12 1475.44 1024.93 1479.01 Q1026.75 1482.55 1030.37 1482.55 Q1034 1482.55 1035.81 1479.01 Q1037.63 1475.44 1037.63 1468.33 Q1037.63 1461.2 1035.81 1457.66 Q1034 1454.1 1030.37 1454.1 M1030.37 1450.39 Q1036.18 1450.39 1039.23 1455 Q1042.31 1459.58 1042.31 1468.33 Q1042.31 1477.06 1039.23 1481.67 Q1036.18 1486.25 1030.37 1486.25 Q1024.56 1486.25 1021.48 1481.67 Q1018.42 1477.06 1018.42 1468.33 Q1018.42 1459.58 1021.48 1455 Q1024.56 1450.39 1030.37 1450.39 Z\" fill=\"#000000\" fill-rule=\"nonzero\" fill-opacity=\"1\" /><path clip-path=\"url(#clip700)\" d=\"M1050.53 1479.7 L1055.41 1479.7 L1055.41 1485.58 L1050.53 1485.58 L1050.53 1479.7 Z\" fill=\"#000000\" fill-rule=\"nonzero\" fill-opacity=\"1\" /><path clip-path=\"url(#clip700)\" d=\"M1069.62 1481.64 L1085.94 1481.64 L1085.94 1485.58 L1064 1485.58 L1064 1481.64 Q1066.66 1478.89 1071.25 1474.26 Q1075.85 1469.61 1077.03 1468.27 Q1079.28 1465.74 1080.16 1464.01 Q1081.06 1462.25 1081.06 1460.56 Q1081.06 1457.8 1079.12 1456.07 Q1077.19 1454.33 1074.09 1454.33 Q1071.89 1454.33 1069.44 1455.09 Q1067.01 1455.86 1064.23 1457.41 L1064.23 1452.69 Q1067.06 1451.55 1069.51 1450.97 Q1071.96 1450.39 1074 1450.39 Q1079.37 1450.39 1082.56 1453.08 Q1085.76 1455.77 1085.76 1460.26 Q1085.76 1462.39 1084.95 1464.31 Q1084.16 1466.2 1082.06 1468.8 Q1081.48 1469.47 1078.37 1472.69 Q1075.27 1475.88 1069.62 1481.64 Z\" fill=\"#000000\" fill-rule=\"nonzero\" fill-opacity=\"1\" /><path clip-path=\"url(#clip700)\" d=\"M1431.21 1454.1 Q1427.6 1454.1 1425.77 1457.66 Q1423.97 1461.2 1423.97 1468.33 Q1423.97 1475.44 1425.77 1479.01 Q1427.6 1482.55 1431.21 1482.55 Q1434.85 1482.55 1436.65 1479.01 Q1438.48 1475.44 1438.48 1468.33 Q1438.48 1461.2 1436.65 1457.66 Q1434.85 1454.1 1431.21 1454.1 M1431.21 1450.39 Q1437.02 1450.39 1440.08 1455 Q1443.16 1459.58 1443.16 1468.33 Q1443.16 1477.06 1440.08 1481.67 Q1437.02 1486.25 1431.21 1486.25 Q1425.4 1486.25 1422.32 1481.67 Q1419.27 1477.06 1419.27 1468.33 Q1419.27 1459.58 1422.32 1455 Q1425.4 1450.39 1431.21 1450.39 Z\" fill=\"#000000\" fill-rule=\"nonzero\" fill-opacity=\"1\" /><path clip-path=\"url(#clip700)\" d=\"M1451.37 1479.7 L1456.26 1479.7 L1456.26 1485.58 L1451.37 1485.58 L1451.37 1479.7 Z\" fill=\"#000000\" fill-rule=\"nonzero\" fill-opacity=\"1\" /><path clip-path=\"url(#clip700)\" d=\"M1480.61 1466.95 Q1483.97 1467.66 1485.84 1469.93 Q1487.74 1472.2 1487.74 1475.53 Q1487.74 1480.65 1484.22 1483.45 Q1480.7 1486.25 1474.22 1486.25 Q1472.04 1486.25 1469.73 1485.81 Q1467.44 1485.39 1464.98 1484.54 L1464.98 1480.02 Q1466.93 1481.16 1469.24 1481.74 Q1471.56 1482.32 1474.08 1482.32 Q1478.48 1482.32 1480.77 1480.58 Q1483.09 1478.84 1483.09 1475.53 Q1483.09 1472.48 1480.93 1470.77 Q1478.8 1469.03 1474.98 1469.03 L1470.96 1469.03 L1470.96 1465.19 L1475.17 1465.19 Q1478.62 1465.19 1480.45 1463.82 Q1482.28 1462.43 1482.28 1459.84 Q1482.28 1457.18 1480.38 1455.77 Q1478.5 1454.33 1474.98 1454.33 Q1473.06 1454.33 1470.86 1454.75 Q1468.66 1455.16 1466.03 1456.04 L1466.03 1451.88 Q1468.69 1451.14 1471 1450.77 Q1473.34 1450.39 1475.4 1450.39 Q1480.73 1450.39 1483.83 1452.83 Q1486.93 1455.23 1486.93 1459.35 Q1486.93 1462.22 1485.29 1464.21 Q1483.64 1466.18 1480.61 1466.95 Z\" fill=\"#000000\" fill-rule=\"nonzero\" fill-opacity=\"1\" /><path clip-path=\"url(#clip700)\" d=\"M1831.96 1454.1 Q1828.35 1454.1 1826.52 1457.66 Q1824.72 1461.2 1824.72 1468.33 Q1824.72 1475.44 1826.52 1479.01 Q1828.35 1482.55 1831.96 1482.55 Q1835.6 1482.55 1837.4 1479.01 Q1839.23 1475.44 1839.23 1468.33 Q1839.23 1461.2 1837.4 1457.66 Q1835.6 1454.1 1831.96 1454.1 M1831.96 1450.39 Q1837.77 1450.39 1840.83 1455 Q1843.91 1459.58 1843.91 1468.33 Q1843.91 1477.06 1840.83 1481.67 Q1837.77 1486.25 1831.96 1486.25 Q1826.15 1486.25 1823.08 1481.67 Q1820.02 1477.06 1820.02 1468.33 Q1820.02 1459.58 1823.08 1455 Q1826.15 1450.39 1831.96 1450.39 Z\" fill=\"#000000\" fill-rule=\"nonzero\" fill-opacity=\"1\" /><path clip-path=\"url(#clip700)\" d=\"M1852.13 1479.7 L1857.01 1479.7 L1857.01 1485.58 L1852.13 1485.58 L1852.13 1479.7 Z\" fill=\"#000000\" fill-rule=\"nonzero\" fill-opacity=\"1\" /><path clip-path=\"url(#clip700)\" d=\"M1880.04 1455.09 L1868.24 1473.54 L1880.04 1473.54 L1880.04 1455.09 M1878.82 1451.02 L1884.7 1451.02 L1884.7 1473.54 L1889.63 1473.54 L1889.63 1477.43 L1884.7 1477.43 L1884.7 1485.58 L1880.04 1485.58 L1880.04 1477.43 L1864.44 1477.43 L1864.44 1472.92 L1878.82 1451.02 Z\" fill=\"#000000\" fill-rule=\"nonzero\" fill-opacity=\"1\" /><path clip-path=\"url(#clip700)\" d=\"M2234.03 1454.1 Q2230.41 1454.1 2228.59 1457.66 Q2226.78 1461.2 2226.78 1468.33 Q2226.78 1475.44 2228.59 1479.01 Q2230.41 1482.55 2234.03 1482.55 Q2237.66 1482.55 2239.47 1479.01 Q2241.29 1475.44 2241.29 1468.33 Q2241.29 1461.2 2239.47 1457.66 Q2237.66 1454.1 2234.03 1454.1 M2234.03 1450.39 Q2239.84 1450.39 2242.89 1455 Q2245.97 1459.58 2245.97 1468.33 Q2245.97 1477.06 2242.89 1481.67 Q2239.84 1486.25 2234.03 1486.25 Q2228.22 1486.25 2225.14 1481.67 Q2222.08 1477.06 2222.08 1468.33 Q2222.08 1459.58 2225.14 1455 Q2228.22 1450.39 2234.03 1450.39 Z\" fill=\"#000000\" fill-rule=\"nonzero\" fill-opacity=\"1\" /><path clip-path=\"url(#clip700)\" d=\"M2254.19 1479.7 L2259.07 1479.7 L2259.07 1485.58 L2254.19 1485.58 L2254.19 1479.7 Z\" fill=\"#000000\" fill-rule=\"nonzero\" fill-opacity=\"1\" /><path clip-path=\"url(#clip700)\" d=\"M2269.3 1451.02 L2287.66 1451.02 L2287.66 1454.96 L2273.59 1454.96 L2273.59 1463.43 Q2274.6 1463.08 2275.62 1462.92 Q2276.64 1462.73 2277.66 1462.73 Q2283.45 1462.73 2286.83 1465.9 Q2290.21 1469.08 2290.21 1474.49 Q2290.21 1480.07 2286.73 1483.17 Q2283.26 1486.25 2276.94 1486.25 Q2274.77 1486.25 2272.5 1485.88 Q2270.25 1485.51 2267.84 1484.77 L2267.84 1480.07 Q2269.93 1481.2 2272.15 1481.76 Q2274.37 1482.32 2276.85 1482.32 Q2280.85 1482.32 2283.19 1480.21 Q2285.53 1478.1 2285.53 1474.49 Q2285.53 1470.88 2283.19 1468.77 Q2280.85 1466.67 2276.85 1466.67 Q2274.97 1466.67 2273.1 1467.08 Q2271.25 1467.5 2269.3 1468.38 L2269.3 1451.02 Z\" fill=\"#000000\" fill-rule=\"nonzero\" fill-opacity=\"1\" /><path clip-path=\"url(#clip700)\" d=\"M1001.94 1525.81 L1001.94 1543.66 L1010.03 1543.66 Q1014.52 1543.66 1016.97 1541.34 Q1019.42 1539.02 1019.42 1534.72 Q1019.42 1530.45 1016.97 1528.13 Q1014.52 1525.81 1010.03 1525.81 L1001.94 1525.81 M995.515 1520.52 L1010.03 1520.52 Q1018.02 1520.52 1022.09 1524.15 Q1026.2 1527.75 1026.2 1534.72 Q1026.2 1541.75 1022.09 1545.35 Q1018.02 1548.95 1010.03 1548.95 L1001.94 1548.95 L1001.94 1568.04 L995.515 1568.04 L995.515 1520.52 Z\" fill=\"#000000\" fill-rule=\"nonzero\" fill-opacity=\"1\" /><path clip-path=\"url(#clip700)\" d=\"M1046.06 1536.5 Q1041.35 1536.5 1038.61 1540.19 Q1035.87 1543.85 1035.87 1550.25 Q1035.87 1556.65 1038.58 1560.34 Q1041.32 1564 1046.06 1564 Q1050.74 1564 1053.48 1560.31 Q1056.21 1556.62 1056.21 1550.25 Q1056.21 1543.92 1053.48 1540.23 Q1050.74 1536.5 1046.06 1536.5 M1046.06 1531.54 Q1053.7 1531.54 1058.06 1536.5 Q1062.42 1541.47 1062.42 1550.25 Q1062.42 1559 1058.06 1564 Q1053.7 1568.97 1046.06 1568.97 Q1038.39 1568.97 1034.03 1564 Q1029.7 1559 1029.7 1550.25 Q1029.7 1541.47 1034.03 1536.5 Q1038.39 1531.54 1046.06 1531.54 Z\" fill=\"#000000\" fill-rule=\"nonzero\" fill-opacity=\"1\" /><path clip-path=\"url(#clip700)\" d=\"M1092.78 1537.87 Q1091.8 1537.3 1090.62 1537.04 Q1089.47 1536.76 1088.07 1536.76 Q1083.11 1536.76 1080.43 1540 Q1077.79 1543.22 1077.79 1549.27 L1077.79 1568.04 L1071.9 1568.04 L1071.9 1532.4 L1077.79 1532.4 L1077.79 1537.93 Q1079.64 1534.69 1082.6 1533.13 Q1085.56 1531.54 1089.79 1531.54 Q1090.4 1531.54 1091.13 1531.63 Q1091.86 1531.7 1092.75 1531.85 L1092.78 1537.87 Z\" fill=\"#000000\" fill-rule=\"nonzero\" fill-opacity=\"1\" /><path clip-path=\"url(#clip700)\" d=\"M1104.72 1522.27 L1104.72 1532.4 L1116.78 1532.4 L1116.78 1536.95 L1104.72 1536.95 L1104.72 1556.3 Q1104.72 1560.66 1105.9 1561.9 Q1107.11 1563.14 1110.77 1563.14 L1116.78 1563.14 L1116.78 1568.04 L1110.77 1568.04 Q1103.99 1568.04 1101.41 1565.53 Q1098.83 1562.98 1098.83 1556.3 L1098.83 1536.95 L1094.53 1536.95 L1094.53 1532.4 L1098.83 1532.4 L1098.83 1522.27 L1104.72 1522.27 Z\" fill=\"#000000\" fill-rule=\"nonzero\" fill-opacity=\"1\" /><path clip-path=\"url(#clip700)\" d=\"M1142.53 1518.52 L1142.53 1523.39 L1136.93 1523.39 Q1133.78 1523.39 1132.54 1524.66 Q1131.33 1525.93 1131.33 1529.24 L1131.33 1532.4 L1140.97 1532.4 L1140.97 1536.95 L1131.33 1536.95 L1131.33 1568.04 L1125.44 1568.04 L1125.44 1536.95 L1119.84 1536.95 L1119.84 1532.4 L1125.44 1532.4 L1125.44 1529.91 Q1125.44 1523.96 1128.21 1521.26 Q1130.98 1518.52 1136.99 1518.52 L1142.53 1518.52 Z\" fill=\"#000000\" fill-rule=\"nonzero\" fill-opacity=\"1\" /><path clip-path=\"url(#clip700)\" d=\"M1161.25 1536.5 Q1156.54 1536.5 1153.8 1540.19 Q1151.06 1543.85 1151.06 1550.25 Q1151.06 1556.65 1153.77 1560.34 Q1156.5 1564 1161.25 1564 Q1165.93 1564 1168.66 1560.31 Q1171.4 1556.62 1171.4 1550.25 Q1171.4 1543.92 1168.66 1540.23 Q1165.93 1536.5 1161.25 1536.5 M1161.25 1531.54 Q1168.89 1531.54 1173.25 1536.5 Q1177.61 1541.47 1177.61 1550.25 Q1177.61 1559 1173.25 1564 Q1168.89 1568.97 1161.25 1568.97 Q1153.58 1568.97 1149.22 1564 Q1144.89 1559 1144.89 1550.25 Q1144.89 1541.47 1149.22 1536.5 Q1153.58 1531.54 1161.25 1531.54 Z\" fill=\"#000000\" fill-rule=\"nonzero\" fill-opacity=\"1\" /><path clip-path=\"url(#clip700)\" d=\"M1187.31 1518.52 L1193.17 1518.52 L1193.17 1568.04 L1187.31 1568.04 L1187.31 1518.52 Z\" fill=\"#000000\" fill-rule=\"nonzero\" fill-opacity=\"1\" /><path clip-path=\"url(#clip700)\" d=\"M1205.42 1532.4 L1211.28 1532.4 L1211.28 1568.04 L1205.42 1568.04 L1205.42 1532.4 M1205.42 1518.52 L1211.28 1518.52 L1211.28 1525.93 L1205.42 1525.93 L1205.42 1518.52 Z\" fill=\"#000000\" fill-rule=\"nonzero\" fill-opacity=\"1\" /><path clip-path=\"url(#clip700)\" d=\"M1237.35 1536.5 Q1232.64 1536.5 1229.9 1540.19 Q1227.16 1543.85 1227.16 1550.25 Q1227.16 1556.65 1229.87 1560.34 Q1232.61 1564 1237.35 1564 Q1242.03 1564 1244.76 1560.31 Q1247.5 1556.62 1247.5 1550.25 Q1247.5 1543.92 1244.76 1540.23 Q1242.03 1536.5 1237.35 1536.5 M1237.35 1531.54 Q1244.99 1531.54 1249.35 1536.5 Q1253.71 1541.47 1253.71 1550.25 Q1253.71 1559 1249.35 1564 Q1244.99 1568.97 1237.35 1568.97 Q1229.68 1568.97 1225.32 1564 Q1220.99 1559 1220.99 1550.25 Q1220.99 1541.47 1225.32 1536.5 Q1229.68 1531.54 1237.35 1531.54 Z\" fill=\"#000000\" fill-rule=\"nonzero\" fill-opacity=\"1\" /><path clip-path=\"url(#clip700)\" d=\"M1306.93 1545.76 Q1308.99 1546.46 1310.94 1548.76 Q1312.91 1551.05 1314.88 1555.06 L1321.41 1568.04 L1314.5 1568.04 L1308.42 1555.85 Q1306.07 1551.08 1303.84 1549.52 Q1301.64 1547.96 1297.82 1547.96 L1290.82 1547.96 L1290.82 1568.04 L1284.39 1568.04 L1284.39 1520.52 L1298.91 1520.52 Q1307.05 1520.52 1311.06 1523.93 Q1315.07 1527.34 1315.07 1534.21 Q1315.07 1538.7 1312.97 1541.66 Q1310.9 1544.62 1306.93 1545.76 M1290.82 1525.81 L1290.82 1542.68 L1298.91 1542.68 Q1303.55 1542.68 1305.91 1540.54 Q1308.29 1538.38 1308.29 1534.21 Q1308.29 1530.04 1305.91 1527.94 Q1303.55 1525.81 1298.91 1525.81 L1290.82 1525.81 Z\" fill=\"#000000\" fill-rule=\"nonzero\" fill-opacity=\"1\" /><path clip-path=\"url(#clip700)\" d=\"M1329.43 1532.4 L1335.29 1532.4 L1335.29 1568.04 L1329.43 1568.04 L1329.43 1532.4 M1329.43 1518.52 L1335.29 1518.52 L1335.29 1525.93 L1329.43 1525.93 L1329.43 1518.52 Z\" fill=\"#000000\" fill-rule=\"nonzero\" fill-opacity=\"1\" /><path clip-path=\"url(#clip700)\" d=\"M1370.26 1533.45 L1370.26 1538.98 Q1367.78 1537.71 1365.11 1537.07 Q1362.43 1536.44 1359.57 1536.44 Q1355.21 1536.44 1353.01 1537.77 Q1350.85 1539.11 1350.85 1541.79 Q1350.85 1543.82 1352.41 1545 Q1353.97 1546.15 1358.68 1547.2 L1360.68 1547.64 Q1366.92 1548.98 1369.53 1551.43 Q1372.17 1553.85 1372.17 1558.21 Q1372.17 1563.17 1368.23 1566.07 Q1364.31 1568.97 1357.44 1568.97 Q1354.57 1568.97 1351.45 1568.39 Q1348.37 1567.85 1344.93 1566.74 L1344.93 1560.69 Q1348.18 1562.38 1351.33 1563.24 Q1354.48 1564.07 1357.57 1564.07 Q1361.7 1564.07 1363.93 1562.66 Q1366.16 1561.23 1366.16 1558.65 Q1366.16 1556.27 1364.54 1554.99 Q1362.94 1553.72 1357.5 1552.54 L1355.46 1552.07 Q1350.02 1550.92 1347.6 1548.56 Q1345.18 1546.18 1345.18 1542.04 Q1345.18 1537.01 1348.75 1534.27 Q1352.31 1531.54 1358.87 1531.54 Q1362.12 1531.54 1364.98 1532.01 Q1367.85 1532.49 1370.26 1533.45 Z\" fill=\"#000000\" fill-rule=\"nonzero\" fill-opacity=\"1\" /><path clip-path=\"url(#clip700)\" d=\"M1381.28 1518.52 L1387.17 1518.52 L1387.17 1547.77 L1404.64 1532.4 L1412.12 1532.4 L1393.21 1549.07 L1412.91 1568.04 L1405.28 1568.04 L1387.17 1550.63 L1387.17 1568.04 L1381.28 1568.04 L1381.28 1518.52 Z\" fill=\"#000000\" fill-rule=\"nonzero\" fill-opacity=\"1\" /><path clip-path=\"url(#clip700)\" d=\"M1454.04 1518.58 Q1449.77 1525.9 1447.7 1533.06 Q1445.63 1540.23 1445.63 1547.58 Q1445.63 1554.93 1447.7 1562.16 Q1449.8 1569.35 1454.04 1576.64 L1448.94 1576.64 Q1444.17 1569.16 1441.78 1561.93 Q1439.43 1554.71 1439.43 1547.58 Q1439.43 1540.48 1441.78 1533.29 Q1444.14 1526.09 1448.94 1518.58 L1454.04 1518.58 Z\" fill=\"#000000\" fill-rule=\"nonzero\" fill-opacity=\"1\" /><path clip-path=\"url(#clip700)\" d=\"M1488.13 1533.45 L1488.13 1538.98 Q1485.64 1537.71 1482.97 1537.07 Q1480.3 1536.44 1477.43 1536.44 Q1473.07 1536.44 1470.87 1537.77 Q1468.71 1539.11 1468.71 1541.79 Q1468.71 1543.82 1470.27 1545 Q1471.83 1546.15 1476.54 1547.2 L1478.55 1547.64 Q1484.78 1548.98 1487.39 1551.43 Q1490.04 1553.85 1490.04 1558.21 Q1490.04 1563.17 1486.09 1566.07 Q1482.17 1568.97 1475.3 1568.97 Q1472.43 1568.97 1469.32 1568.39 Q1466.23 1567.85 1462.79 1566.74 L1462.79 1560.69 Q1466.04 1562.38 1469.19 1563.24 Q1472.34 1564.07 1475.43 1564.07 Q1479.56 1564.07 1481.79 1562.66 Q1484.02 1561.23 1484.02 1558.65 Q1484.02 1556.27 1482.4 1554.99 Q1480.81 1553.72 1475.36 1552.54 L1473.33 1552.07 Q1467.88 1550.92 1465.46 1548.56 Q1463.04 1546.18 1463.04 1542.04 Q1463.04 1537.01 1466.61 1534.27 Q1470.17 1531.54 1476.73 1531.54 Q1479.98 1531.54 1482.84 1532.01 Q1485.71 1532.49 1488.13 1533.45 Z\" fill=\"#000000\" fill-rule=\"nonzero\" fill-opacity=\"1\" /><path clip-path=\"url(#clip700)\" d=\"M1502.86 1550.25 Q1502.86 1556.71 1505.5 1560.4 Q1508.18 1564.07 1512.82 1564.07 Q1517.47 1564.07 1520.15 1560.4 Q1522.82 1556.71 1522.82 1550.25 Q1522.82 1543.79 1520.15 1540.13 Q1517.47 1536.44 1512.82 1536.44 Q1508.18 1536.44 1505.5 1540.13 Q1502.86 1543.79 1502.86 1550.25 M1522.82 1562.7 Q1520.97 1565.88 1518.14 1567.44 Q1515.34 1568.97 1511.39 1568.97 Q1504.93 1568.97 1500.86 1563.81 Q1496.81 1558.65 1496.81 1550.25 Q1496.81 1541.85 1500.86 1536.69 Q1504.93 1531.54 1511.39 1531.54 Q1515.34 1531.54 1518.14 1533.1 Q1520.97 1534.62 1522.82 1537.81 L1522.82 1532.4 L1528.68 1532.4 L1528.68 1581.6 L1522.82 1581.6 L1522.82 1562.7 Z\" fill=\"#000000\" fill-rule=\"nonzero\" fill-opacity=\"1\" /><path clip-path=\"url(#clip700)\" d=\"M1561.39 1537.87 Q1560.41 1537.3 1559.23 1537.04 Q1558.08 1536.76 1556.68 1536.76 Q1551.72 1536.76 1549.05 1540 Q1546.4 1543.22 1546.4 1549.27 L1546.4 1568.04 L1540.52 1568.04 L1540.52 1532.4 L1546.4 1532.4 L1546.4 1537.93 Q1548.25 1534.69 1551.21 1533.13 Q1554.17 1531.54 1558.4 1531.54 Q1559.01 1531.54 1559.74 1531.63 Q1560.47 1531.7 1561.36 1531.85 L1561.39 1537.87 Z\" fill=\"#000000\" fill-rule=\"nonzero\" fill-opacity=\"1\" /><path clip-path=\"url(#clip700)\" d=\"M1573.33 1522.27 L1573.33 1532.4 L1585.39 1532.4 L1585.39 1536.95 L1573.33 1536.95 L1573.33 1556.3 Q1573.33 1560.66 1574.51 1561.9 Q1575.72 1563.14 1579.38 1563.14 L1585.39 1563.14 L1585.39 1568.04 L1579.38 1568.04 Q1572.6 1568.04 1570.02 1565.53 Q1567.44 1562.98 1567.44 1556.3 L1567.44 1536.95 L1563.15 1536.95 L1563.15 1532.4 L1567.44 1532.4 L1567.44 1522.27 L1573.33 1522.27 Z\" fill=\"#000000\" fill-rule=\"nonzero\" fill-opacity=\"1\" /><path clip-path=\"url(#clip700)\" d=\"M1592.17 1518.58 L1597.27 1518.58 Q1602.04 1526.09 1604.4 1533.29 Q1606.78 1540.48 1606.78 1547.58 Q1606.78 1554.71 1604.4 1561.93 Q1602.04 1569.16 1597.27 1576.64 L1592.17 1576.64 Q1596.41 1569.35 1598.48 1562.16 Q1600.58 1554.93 1600.58 1547.58 Q1600.58 1540.23 1598.48 1533.06 Q1596.41 1525.9 1592.17 1518.58 Z\" fill=\"#000000\" fill-rule=\"nonzero\" fill-opacity=\"1\" /><polyline clip-path=\"url(#clip702)\" style=\"stroke:#000000; stroke-linecap:round; stroke-linejoin:round; stroke-width:2; stroke-opacity:0.1; fill:none\" points=\"249.542,1342.2 2352.76,1342.2 \"/>\n",
       "<polyline clip-path=\"url(#clip702)\" style=\"stroke:#000000; stroke-linecap:round; stroke-linejoin:round; stroke-width:2; stroke-opacity:0.1; fill:none\" points=\"249.542,1074.53 2352.76,1074.53 \"/>\n",
       "<polyline clip-path=\"url(#clip702)\" style=\"stroke:#000000; stroke-linecap:round; stroke-linejoin:round; stroke-width:2; stroke-opacity:0.1; fill:none\" points=\"249.542,806.85 2352.76,806.85 \"/>\n",
       "<polyline clip-path=\"url(#clip702)\" style=\"stroke:#000000; stroke-linecap:round; stroke-linejoin:round; stroke-width:2; stroke-opacity:0.1; fill:none\" points=\"249.542,539.175 2352.76,539.175 \"/>\n",
       "<polyline clip-path=\"url(#clip702)\" style=\"stroke:#000000; stroke-linecap:round; stroke-linejoin:round; stroke-width:2; stroke-opacity:0.1; fill:none\" points=\"249.542,271.499 2352.76,271.499 \"/>\n",
       "<polyline clip-path=\"url(#clip700)\" style=\"stroke:#000000; stroke-linecap:round; stroke-linejoin:round; stroke-width:4; stroke-opacity:1; fill:none\" points=\"249.542,1423.18 249.542,47.2441 \"/>\n",
       "<polyline clip-path=\"url(#clip700)\" style=\"stroke:#000000; stroke-linecap:round; stroke-linejoin:round; stroke-width:4; stroke-opacity:1; fill:none\" points=\"249.542,1342.2 268.44,1342.2 \"/>\n",
       "<polyline clip-path=\"url(#clip700)\" style=\"stroke:#000000; stroke-linecap:round; stroke-linejoin:round; stroke-width:4; stroke-opacity:1; fill:none\" points=\"249.542,1074.53 268.44,1074.53 \"/>\n",
       "<polyline clip-path=\"url(#clip700)\" style=\"stroke:#000000; stroke-linecap:round; stroke-linejoin:round; stroke-width:4; stroke-opacity:1; fill:none\" points=\"249.542,806.85 268.44,806.85 \"/>\n",
       "<polyline clip-path=\"url(#clip700)\" style=\"stroke:#000000; stroke-linecap:round; stroke-linejoin:round; stroke-width:4; stroke-opacity:1; fill:none\" points=\"249.542,539.175 268.44,539.175 \"/>\n",
       "<polyline clip-path=\"url(#clip700)\" style=\"stroke:#000000; stroke-linecap:round; stroke-linejoin:round; stroke-width:4; stroke-opacity:1; fill:none\" points=\"249.542,271.499 268.44,271.499 \"/>\n",
       "<path clip-path=\"url(#clip700)\" d=\"M126.205 1328 Q122.593 1328 120.765 1331.56 Q118.959 1335.11 118.959 1342.24 Q118.959 1349.34 120.765 1352.91 Q122.593 1356.45 126.205 1356.45 Q129.839 1356.45 131.644 1352.91 Q133.473 1349.34 133.473 1342.24 Q133.473 1335.11 131.644 1331.56 Q129.839 1328 126.205 1328 M126.205 1324.3 Q132.015 1324.3 135.07 1328.9 Q138.149 1333.49 138.149 1342.24 Q138.149 1350.96 135.07 1355.57 Q132.015 1360.15 126.205 1360.15 Q120.394 1360.15 117.316 1355.57 Q114.26 1350.96 114.26 1342.24 Q114.26 1333.49 117.316 1328.9 Q120.394 1324.3 126.205 1324.3 Z\" fill=\"#000000\" fill-rule=\"nonzero\" fill-opacity=\"1\" /><path clip-path=\"url(#clip700)\" d=\"M146.366 1353.6 L151.251 1353.6 L151.251 1359.48 L146.366 1359.48 L146.366 1353.6 Z\" fill=\"#000000\" fill-rule=\"nonzero\" fill-opacity=\"1\" /><path clip-path=\"url(#clip700)\" d=\"M162.246 1355.55 L169.885 1355.55 L169.885 1329.18 L161.575 1330.85 L161.575 1326.59 L169.839 1324.92 L174.514 1324.92 L174.514 1355.55 L182.153 1355.55 L182.153 1359.48 L162.246 1359.48 L162.246 1355.55 Z\" fill=\"#000000\" fill-rule=\"nonzero\" fill-opacity=\"1\" /><path clip-path=\"url(#clip700)\" d=\"M201.598 1328 Q197.987 1328 196.158 1331.56 Q194.352 1335.11 194.352 1342.24 Q194.352 1349.34 196.158 1352.91 Q197.987 1356.45 201.598 1356.45 Q205.232 1356.45 207.037 1352.91 Q208.866 1349.34 208.866 1342.24 Q208.866 1335.11 207.037 1331.56 Q205.232 1328 201.598 1328 M201.598 1324.3 Q207.408 1324.3 210.463 1328.9 Q213.542 1333.49 213.542 1342.24 Q213.542 1350.96 210.463 1355.57 Q207.408 1360.15 201.598 1360.15 Q195.787 1360.15 192.709 1355.57 Q189.653 1350.96 189.653 1342.24 Q189.653 1333.49 192.709 1328.9 Q195.787 1324.3 201.598 1324.3 Z\" fill=\"#000000\" fill-rule=\"nonzero\" fill-opacity=\"1\" /><path clip-path=\"url(#clip700)\" d=\"M127.2 1060.32 Q123.589 1060.32 121.76 1063.89 Q119.955 1067.43 119.955 1074.56 Q119.955 1081.67 121.76 1085.23 Q123.589 1088.77 127.2 1088.77 Q130.834 1088.77 132.64 1085.23 Q134.468 1081.67 134.468 1074.56 Q134.468 1067.43 132.64 1063.89 Q130.834 1060.32 127.2 1060.32 M127.2 1056.62 Q133.01 1056.62 136.066 1061.23 Q139.144 1065.81 139.144 1074.56 Q139.144 1083.29 136.066 1087.89 Q133.01 1092.48 127.2 1092.48 Q121.39 1092.48 118.311 1087.89 Q115.256 1083.29 115.256 1074.56 Q115.256 1065.81 118.311 1061.23 Q121.39 1056.62 127.2 1056.62 Z\" fill=\"#000000\" fill-rule=\"nonzero\" fill-opacity=\"1\" /><path clip-path=\"url(#clip700)\" d=\"M147.362 1085.93 L152.246 1085.93 L152.246 1091.81 L147.362 1091.81 L147.362 1085.93 Z\" fill=\"#000000\" fill-rule=\"nonzero\" fill-opacity=\"1\" /><path clip-path=\"url(#clip700)\" d=\"M163.241 1087.87 L170.88 1087.87 L170.88 1061.5 L162.57 1063.17 L162.57 1058.91 L170.834 1057.25 L175.51 1057.25 L175.51 1087.87 L183.149 1087.87 L183.149 1091.81 L163.241 1091.81 L163.241 1087.87 Z\" fill=\"#000000\" fill-rule=\"nonzero\" fill-opacity=\"1\" /><path clip-path=\"url(#clip700)\" d=\"M192.639 1057.25 L210.996 1057.25 L210.996 1061.18 L196.922 1061.18 L196.922 1069.65 Q197.94 1069.31 198.959 1069.14 Q199.977 1068.96 200.996 1068.96 Q206.783 1068.96 210.162 1072.13 Q213.542 1075.3 213.542 1080.72 Q213.542 1086.3 210.07 1089.4 Q206.598 1092.48 200.278 1092.48 Q198.102 1092.48 195.834 1092.11 Q193.588 1091.74 191.181 1091 L191.181 1086.3 Q193.264 1087.43 195.487 1087.99 Q197.709 1088.54 200.186 1088.54 Q204.19 1088.54 206.528 1086.44 Q208.866 1084.33 208.866 1080.72 Q208.866 1077.11 206.528 1075 Q204.19 1072.89 200.186 1072.89 Q198.311 1072.89 196.436 1073.31 Q194.584 1073.73 192.639 1074.61 L192.639 1057.25 Z\" fill=\"#000000\" fill-rule=\"nonzero\" fill-opacity=\"1\" /><path clip-path=\"url(#clip700)\" d=\"M126.205 792.649 Q122.593 792.649 120.765 796.214 Q118.959 799.755 118.959 806.885 Q118.959 813.991 120.765 817.556 Q122.593 821.098 126.205 821.098 Q129.839 821.098 131.644 817.556 Q133.473 813.991 133.473 806.885 Q133.473 799.755 131.644 796.214 Q129.839 792.649 126.205 792.649 M126.205 788.945 Q132.015 788.945 135.07 793.552 Q138.149 798.135 138.149 806.885 Q138.149 815.612 135.07 820.218 Q132.015 824.801 126.205 824.801 Q120.394 824.801 117.316 820.218 Q114.26 815.612 114.26 806.885 Q114.26 798.135 117.316 793.552 Q120.394 788.945 126.205 788.945 Z\" fill=\"#000000\" fill-rule=\"nonzero\" fill-opacity=\"1\" /><path clip-path=\"url(#clip700)\" d=\"M146.366 818.251 L151.251 818.251 L151.251 824.13 L146.366 824.13 L146.366 818.251 Z\" fill=\"#000000\" fill-rule=\"nonzero\" fill-opacity=\"1\" /><path clip-path=\"url(#clip700)\" d=\"M165.464 820.195 L181.783 820.195 L181.783 824.13 L159.839 824.13 L159.839 820.195 Q162.501 817.44 167.084 812.811 Q171.69 808.158 172.871 806.815 Q175.116 804.292 175.996 802.556 Q176.899 800.797 176.899 799.107 Q176.899 796.352 174.954 794.616 Q173.033 792.88 169.931 792.88 Q167.732 792.88 165.278 793.644 Q162.848 794.408 160.07 795.959 L160.07 791.237 Q162.894 790.103 165.348 789.524 Q167.802 788.945 169.839 788.945 Q175.209 788.945 178.403 791.63 Q181.598 794.315 181.598 798.806 Q181.598 800.936 180.788 802.857 Q180.001 804.755 177.894 807.348 Q177.315 808.019 174.214 811.237 Q171.112 814.431 165.464 820.195 Z\" fill=\"#000000\" fill-rule=\"nonzero\" fill-opacity=\"1\" /><path clip-path=\"url(#clip700)\" d=\"M201.598 792.649 Q197.987 792.649 196.158 796.214 Q194.352 799.755 194.352 806.885 Q194.352 813.991 196.158 817.556 Q197.987 821.098 201.598 821.098 Q205.232 821.098 207.037 817.556 Q208.866 813.991 208.866 806.885 Q208.866 799.755 207.037 796.214 Q205.232 792.649 201.598 792.649 M201.598 788.945 Q207.408 788.945 210.463 793.552 Q213.542 798.135 213.542 806.885 Q213.542 815.612 210.463 820.218 Q207.408 824.801 201.598 824.801 Q195.787 824.801 192.709 820.218 Q189.653 815.612 189.653 806.885 Q189.653 798.135 192.709 793.552 Q195.787 788.945 201.598 788.945 Z\" fill=\"#000000\" fill-rule=\"nonzero\" fill-opacity=\"1\" /><path clip-path=\"url(#clip700)\" d=\"M127.2 524.973 Q123.589 524.973 121.76 528.538 Q119.955 532.08 119.955 539.209 Q119.955 546.316 121.76 549.881 Q123.589 553.422 127.2 553.422 Q130.834 553.422 132.64 549.881 Q134.468 546.316 134.468 539.209 Q134.468 532.08 132.64 528.538 Q130.834 524.973 127.2 524.973 M127.2 521.27 Q133.01 521.27 136.066 525.876 Q139.144 530.46 139.144 539.209 Q139.144 547.936 136.066 552.543 Q133.01 557.126 127.2 557.126 Q121.39 557.126 118.311 552.543 Q115.256 547.936 115.256 539.209 Q115.256 530.46 118.311 525.876 Q121.39 521.27 127.2 521.27 Z\" fill=\"#000000\" fill-rule=\"nonzero\" fill-opacity=\"1\" /><path clip-path=\"url(#clip700)\" d=\"M147.362 550.575 L152.246 550.575 L152.246 556.455 L147.362 556.455 L147.362 550.575 Z\" fill=\"#000000\" fill-rule=\"nonzero\" fill-opacity=\"1\" /><path clip-path=\"url(#clip700)\" d=\"M166.459 552.52 L182.778 552.52 L182.778 556.455 L160.834 556.455 L160.834 552.52 Q163.496 549.765 168.079 545.135 Q172.686 540.483 173.866 539.14 Q176.112 536.617 176.991 534.881 Q177.894 533.122 177.894 531.432 Q177.894 528.677 175.95 526.941 Q174.028 525.205 170.927 525.205 Q168.727 525.205 166.274 525.969 Q163.843 526.733 161.065 528.284 L161.065 523.561 Q163.89 522.427 166.343 521.848 Q168.797 521.27 170.834 521.27 Q176.204 521.27 179.399 523.955 Q182.593 526.64 182.593 531.131 Q182.593 533.26 181.783 535.182 Q180.996 537.08 178.889 539.672 Q178.311 540.344 175.209 543.561 Q172.107 546.756 166.459 552.52 Z\" fill=\"#000000\" fill-rule=\"nonzero\" fill-opacity=\"1\" /><path clip-path=\"url(#clip700)\" d=\"M192.639 521.895 L210.996 521.895 L210.996 525.83 L196.922 525.83 L196.922 534.302 Q197.94 533.955 198.959 533.793 Q199.977 533.608 200.996 533.608 Q206.783 533.608 210.162 536.779 Q213.542 539.95 213.542 545.367 Q213.542 550.946 210.07 554.047 Q206.598 557.126 200.278 557.126 Q198.102 557.126 195.834 556.756 Q193.588 556.385 191.181 555.645 L191.181 550.946 Q193.264 552.08 195.487 552.635 Q197.709 553.191 200.186 553.191 Q204.19 553.191 206.528 551.084 Q208.866 548.978 208.866 545.367 Q208.866 541.756 206.528 539.649 Q204.19 537.543 200.186 537.543 Q198.311 537.543 196.436 537.959 Q194.584 538.376 192.639 539.256 L192.639 521.895 Z\" fill=\"#000000\" fill-rule=\"nonzero\" fill-opacity=\"1\" /><path clip-path=\"url(#clip700)\" d=\"M126.205 257.298 Q122.593 257.298 120.765 260.863 Q118.959 264.404 118.959 271.534 Q118.959 278.641 120.765 282.205 Q122.593 285.747 126.205 285.747 Q129.839 285.747 131.644 282.205 Q133.473 278.641 133.473 271.534 Q133.473 264.404 131.644 260.863 Q129.839 257.298 126.205 257.298 M126.205 253.594 Q132.015 253.594 135.07 258.201 Q138.149 262.784 138.149 271.534 Q138.149 280.261 135.07 284.867 Q132.015 289.451 126.205 289.451 Q120.394 289.451 117.316 284.867 Q114.26 280.261 114.26 271.534 Q114.26 262.784 117.316 258.201 Q120.394 253.594 126.205 253.594 Z\" fill=\"#000000\" fill-rule=\"nonzero\" fill-opacity=\"1\" /><path clip-path=\"url(#clip700)\" d=\"M146.366 282.9 L151.251 282.9 L151.251 288.779 L146.366 288.779 L146.366 282.9 Z\" fill=\"#000000\" fill-rule=\"nonzero\" fill-opacity=\"1\" /><path clip-path=\"url(#clip700)\" d=\"M175.602 270.145 Q178.959 270.863 180.834 273.131 Q182.732 275.4 182.732 278.733 Q182.732 283.849 179.214 286.65 Q175.695 289.451 169.214 289.451 Q167.038 289.451 164.723 289.011 Q162.431 288.594 159.978 287.738 L159.978 283.224 Q161.922 284.358 164.237 284.937 Q166.552 285.515 169.075 285.515 Q173.473 285.515 175.764 283.779 Q178.079 282.043 178.079 278.733 Q178.079 275.678 175.926 273.965 Q173.797 272.229 169.977 272.229 L165.95 272.229 L165.95 268.386 L170.163 268.386 Q173.612 268.386 175.44 267.02 Q177.269 265.631 177.269 263.039 Q177.269 260.377 175.371 258.965 Q173.496 257.53 169.977 257.53 Q168.056 257.53 165.857 257.946 Q163.658 258.363 161.019 259.242 L161.019 255.076 Q163.681 254.335 165.996 253.965 Q168.334 253.594 170.394 253.594 Q175.718 253.594 178.82 256.025 Q181.922 258.432 181.922 262.553 Q181.922 265.423 180.278 267.414 Q178.635 269.381 175.602 270.145 Z\" fill=\"#000000\" fill-rule=\"nonzero\" fill-opacity=\"1\" /><path clip-path=\"url(#clip700)\" d=\"M201.598 257.298 Q197.987 257.298 196.158 260.863 Q194.352 264.404 194.352 271.534 Q194.352 278.641 196.158 282.205 Q197.987 285.747 201.598 285.747 Q205.232 285.747 207.037 282.205 Q208.866 278.641 208.866 271.534 Q208.866 264.404 207.037 260.863 Q205.232 257.298 201.598 257.298 M201.598 253.594 Q207.408 253.594 210.463 258.201 Q213.542 262.784 213.542 271.534 Q213.542 280.261 210.463 284.867 Q207.408 289.451 201.598 289.451 Q195.787 289.451 192.709 284.867 Q189.653 280.261 189.653 271.534 Q189.653 262.784 192.709 258.201 Q195.787 253.594 201.598 253.594 Z\" fill=\"#000000\" fill-rule=\"nonzero\" fill-opacity=\"1\" /><path clip-path=\"url(#clip700)\" d=\"M21.7677 1184.09 L39.6235 1184.09 L39.6235 1176.01 Q39.6235 1171.52 37.3 1169.07 Q34.9765 1166.62 30.6797 1166.62 Q26.4147 1166.62 24.0912 1169.07 Q21.7677 1171.52 21.7677 1176.01 L21.7677 1184.09 M16.4842 1190.52 L16.4842 1176.01 Q16.4842 1168.02 20.1126 1163.94 Q23.7092 1159.84 30.6797 1159.84 Q37.7138 1159.84 41.3104 1163.94 Q44.907 1168.02 44.907 1176.01 L44.907 1184.09 L64.0042 1184.09 L64.0042 1190.52 L16.4842 1190.52 Z\" fill=\"#000000\" fill-rule=\"nonzero\" fill-opacity=\"1\" /><path clip-path=\"url(#clip700)\" d=\"M32.4621 1139.98 Q32.4621 1144.69 36.1542 1147.42 Q39.8145 1150.16 46.212 1150.16 Q52.6095 1150.16 56.3017 1147.46 Q59.9619 1144.72 59.9619 1139.98 Q59.9619 1135.3 56.2698 1132.56 Q52.5777 1129.82 46.212 1129.82 Q39.8781 1129.82 36.186 1132.56 Q32.4621 1135.3 32.4621 1139.98 M27.4968 1139.98 Q27.4968 1132.34 32.4621 1127.98 Q37.4273 1123.62 46.212 1123.62 Q54.9649 1123.62 59.9619 1127.98 Q64.9272 1132.34 64.9272 1139.98 Q64.9272 1147.65 59.9619 1152.01 Q54.9649 1156.34 46.212 1156.34 Q37.4273 1156.34 32.4621 1152.01 Q27.4968 1147.65 27.4968 1139.98 Z\" fill=\"#000000\" fill-rule=\"nonzero\" fill-opacity=\"1\" /><path clip-path=\"url(#clip700)\" d=\"M33.8307 1093.25 Q33.2578 1094.24 33.0032 1095.42 Q32.7167 1096.56 32.7167 1097.96 Q32.7167 1102.93 35.9632 1105.6 Q39.1779 1108.24 45.2253 1108.24 L64.0042 1108.24 L64.0042 1114.13 L28.3562 1114.13 L28.3562 1108.24 L33.8944 1108.24 Q30.6479 1106.4 29.0883 1103.44 Q27.4968 1100.48 27.4968 1096.24 Q27.4968 1095.64 27.5923 1094.91 Q27.656 1094.17 27.8151 1093.28 L33.8307 1093.25 Z\" fill=\"#000000\" fill-rule=\"nonzero\" fill-opacity=\"1\" /><path clip-path=\"url(#clip700)\" d=\"M18.2347 1081.32 L28.3562 1081.32 L28.3562 1069.25 L32.9077 1069.25 L32.9077 1081.32 L52.2594 1081.32 Q56.6199 1081.32 57.8613 1080.14 Q59.1026 1078.93 59.1026 1075.27 L59.1026 1069.25 L64.0042 1069.25 L64.0042 1075.27 Q64.0042 1082.05 61.4897 1084.63 Q58.9434 1087.2 52.2594 1087.2 L32.9077 1087.2 L32.9077 1091.5 L28.3562 1091.5 L28.3562 1087.2 L18.2347 1087.2 L18.2347 1081.32 Z\" fill=\"#000000\" fill-rule=\"nonzero\" fill-opacity=\"1\" /><path clip-path=\"url(#clip700)\" d=\"M14.479 1043.5 L19.3487 1043.5 L19.3487 1049.1 Q19.3487 1052.26 20.6219 1053.5 Q21.895 1054.71 25.2052 1054.71 L28.3562 1054.71 L28.3562 1045.06 L32.9077 1045.06 L32.9077 1054.71 L64.0042 1054.71 L64.0042 1060.6 L32.9077 1060.6 L32.9077 1066.2 L28.3562 1066.2 L28.3562 1060.6 L25.8736 1060.6 Q19.9216 1060.6 17.2162 1057.83 Q14.479 1055.06 14.479 1049.04 L14.479 1043.5 Z\" fill=\"#000000\" fill-rule=\"nonzero\" fill-opacity=\"1\" /><path clip-path=\"url(#clip700)\" d=\"M32.4621 1024.79 Q32.4621 1029.5 36.1542 1032.24 Q39.8145 1034.97 46.212 1034.97 Q52.6095 1034.97 56.3017 1032.27 Q59.9619 1029.53 59.9619 1024.79 Q59.9619 1020.11 56.2698 1017.37 Q52.5777 1014.63 46.212 1014.63 Q39.8781 1014.63 36.186 1017.37 Q32.4621 1020.11 32.4621 1024.79 M27.4968 1024.79 Q27.4968 1017.15 32.4621 1012.79 Q37.4273 1008.43 46.212 1008.43 Q54.9649 1008.43 59.9619 1012.79 Q64.9272 1017.15 64.9272 1024.79 Q64.9272 1032.46 59.9619 1036.82 Q54.9649 1041.15 46.212 1041.15 Q37.4273 1041.15 32.4621 1036.82 Q27.4968 1032.46 27.4968 1024.79 Z\" fill=\"#000000\" fill-rule=\"nonzero\" fill-opacity=\"1\" /><path clip-path=\"url(#clip700)\" d=\"M14.479 998.72 L14.479 992.864 L64.0042 992.864 L64.0042 998.72 L14.479 998.72 Z\" fill=\"#000000\" fill-rule=\"nonzero\" fill-opacity=\"1\" /><path clip-path=\"url(#clip700)\" d=\"M28.3562 980.61 L28.3562 974.754 L64.0042 974.754 L64.0042 980.61 L28.3562 980.61 M14.479 980.61 L14.479 974.754 L21.895 974.754 L21.895 980.61 L14.479 980.61 Z\" fill=\"#000000\" fill-rule=\"nonzero\" fill-opacity=\"1\" /><path clip-path=\"url(#clip700)\" d=\"M32.4621 948.686 Q32.4621 953.397 36.1542 956.134 Q39.8145 958.871 46.212 958.871 Q52.6095 958.871 56.3017 956.166 Q59.9619 953.428 59.9619 948.686 Q59.9619 944.007 56.2698 941.27 Q52.5777 938.533 46.212 938.533 Q39.8781 938.533 36.186 941.27 Q32.4621 944.007 32.4621 948.686 M27.4968 948.686 Q27.4968 941.047 32.4621 936.687 Q37.4273 932.326 46.212 932.326 Q54.9649 932.326 59.9619 936.687 Q64.9272 941.047 64.9272 948.686 Q64.9272 956.357 59.9619 960.717 Q54.9649 965.046 46.212 965.046 Q37.4273 965.046 32.4621 960.717 Q27.4968 956.357 27.4968 948.686 Z\" fill=\"#000000\" fill-rule=\"nonzero\" fill-opacity=\"1\" /><path clip-path=\"url(#clip700)\" d=\"M41.7242 879.109 Q42.4244 877.04 44.7161 875.098 Q47.0077 873.125 51.0181 871.152 L64.0042 864.627 L64.0042 871.534 L51.8138 877.613 Q47.0395 879.968 45.48 882.196 Q43.9204 884.392 43.9204 888.212 L43.9204 895.214 L64.0042 895.214 L64.0042 901.643 L16.4842 901.643 L16.4842 887.13 Q16.4842 878.981 19.8898 874.971 Q23.2955 870.961 30.1704 870.961 Q34.6582 870.961 37.6183 873.061 Q40.5784 875.13 41.7242 879.109 M21.7677 895.214 L38.6368 895.214 L38.6368 887.13 Q38.6368 882.483 36.5043 880.127 Q34.34 877.74 30.1704 877.74 Q26.0009 877.74 23.9002 880.127 Q21.7677 882.483 21.7677 887.13 L21.7677 895.214 Z\" fill=\"#000000\" fill-rule=\"nonzero\" fill-opacity=\"1\" /><path clip-path=\"url(#clip700)\" d=\"M44.7161 829.042 L47.5806 829.042 L47.5806 855.969 Q53.6281 855.587 56.8109 852.341 Q59.9619 849.063 59.9619 843.238 Q59.9619 839.864 59.1344 836.713 Q58.3069 833.53 56.6518 830.411 L62.1899 830.411 Q63.5267 833.562 64.227 836.872 Q64.9272 840.182 64.9272 843.588 Q64.9272 852.118 59.9619 857.115 Q54.9967 862.081 46.5303 862.081 Q37.7774 862.081 32.6531 857.37 Q27.4968 852.627 27.4968 844.607 Q27.4968 837.413 32.1438 833.244 Q36.7589 829.042 44.7161 829.042 M42.9973 834.899 Q38.1912 834.963 35.3266 837.604 Q32.4621 840.214 32.4621 844.543 Q32.4621 849.445 35.2312 852.405 Q38.0002 855.333 43.0292 855.778 L42.9973 834.899 Z\" fill=\"#000000\" fill-rule=\"nonzero\" fill-opacity=\"1\" /><path clip-path=\"url(#clip700)\" d=\"M28.3562 822.836 L28.3562 816.979 L56.1743 809.659 L28.3562 802.37 L28.3562 795.463 L56.1743 788.143 L28.3562 780.854 L28.3562 774.998 L64.0042 784.323 L64.0042 791.23 L34.7856 798.901 L64.0042 806.603 L64.0042 813.51 L28.3562 822.836 Z\" fill=\"#000000\" fill-rule=\"nonzero\" fill-opacity=\"1\" /><path clip-path=\"url(#clip700)\" d=\"M46.0847 749.917 Q46.0847 757.015 47.7079 759.752 Q49.3312 762.489 53.2461 762.489 Q56.3653 762.489 58.2114 760.452 Q60.0256 758.383 60.0256 754.85 Q60.0256 749.98 56.5881 747.052 Q53.1188 744.092 47.3897 744.092 L46.0847 744.092 L46.0847 749.917 M43.6657 738.236 L64.0042 738.236 L64.0042 744.092 L58.5933 744.092 Q61.8398 746.097 63.3994 749.089 Q64.9272 752.081 64.9272 756.41 Q64.9272 761.884 61.8716 765.131 Q58.7843 768.345 53.6281 768.345 Q47.6125 768.345 44.5569 764.335 Q41.5014 760.293 41.5014 752.304 L41.5014 744.092 L40.9285 744.092 Q36.8862 744.092 34.6901 746.766 Q32.4621 749.407 32.4621 754.214 Q32.4621 757.269 33.1941 760.166 Q33.9262 763.062 35.3903 765.736 L29.9795 765.736 Q28.7381 762.521 28.1334 759.497 Q27.4968 756.473 27.4968 753.609 Q27.4968 745.875 31.5072 742.055 Q35.5176 738.236 43.6657 738.236 Z\" fill=\"#000000\" fill-rule=\"nonzero\" fill-opacity=\"1\" /><path clip-path=\"url(#clip700)\" d=\"M33.8307 705.516 Q33.2578 706.503 33.0032 707.68 Q32.7167 708.826 32.7167 710.227 Q32.7167 715.192 35.9632 717.865 Q39.1779 720.507 45.2253 720.507 L64.0042 720.507 L64.0042 726.395 L28.3562 726.395 L28.3562 720.507 L33.8944 720.507 Q30.6479 718.661 29.0883 715.701 Q27.4968 712.741 27.4968 708.508 Q27.4968 707.903 27.5923 707.171 Q27.656 706.439 27.8151 705.548 L33.8307 705.516 Z\" fill=\"#000000\" fill-rule=\"nonzero\" fill-opacity=\"1\" /><path clip-path=\"url(#clip700)\" d=\"M33.7671 677.061 L14.479 677.061 L14.479 671.205 L64.0042 671.205 L64.0042 677.061 L58.657 677.061 Q61.8398 678.907 63.3994 681.74 Q64.9272 684.541 64.9272 688.488 Q64.9272 694.949 59.771 699.023 Q54.6147 703.065 46.212 703.065 Q37.8093 703.065 32.6531 699.023 Q27.4968 694.949 27.4968 688.488 Q27.4968 684.541 29.0564 681.74 Q30.5842 678.907 33.7671 677.061 M46.212 697.018 Q52.6732 697.018 56.3653 694.376 Q60.0256 691.702 60.0256 687.055 Q60.0256 682.408 56.3653 679.735 Q52.6732 677.061 46.212 677.061 Q39.7508 677.061 36.0905 679.735 Q32.3984 682.408 32.3984 687.055 Q32.3984 691.702 36.0905 694.376 Q39.7508 697.018 46.212 697.018 Z\" fill=\"#000000\" fill-rule=\"nonzero\" fill-opacity=\"1\" /><path clip-path=\"url(#clip700)\" d=\"M14.5426 624.353 Q21.8632 628.618 29.0246 630.687 Q36.186 632.756 43.5384 632.756 Q50.8908 632.756 58.1159 630.687 Q65.3091 628.586 72.5979 624.353 L72.5979 629.446 Q65.1182 634.22 57.8931 636.607 Q50.668 638.962 43.5384 638.962 Q36.4406 638.962 29.2474 636.607 Q22.0542 634.252 14.5426 629.446 L14.5426 624.353 Z\" fill=\"#000000\" fill-rule=\"nonzero\" fill-opacity=\"1\" /><path clip-path=\"url(#clip700)\" d=\"M14.479 612.99 L14.479 607.134 L64.0042 607.134 L64.0042 612.99 L14.479 612.99 Z\" fill=\"#000000\" fill-rule=\"nonzero\" fill-opacity=\"1\" /><path clip-path=\"url(#clip700)\" d=\"M32.4621 581.066 Q32.4621 585.777 36.1542 588.514 Q39.8145 591.252 46.212 591.252 Q52.6095 591.252 56.3017 588.546 Q59.9619 585.809 59.9619 581.066 Q59.9619 576.388 56.2698 573.65 Q52.5777 570.913 46.212 570.913 Q39.8781 570.913 36.186 573.65 Q32.4621 576.388 32.4621 581.066 M27.4968 581.066 Q27.4968 573.428 32.4621 569.067 Q37.4273 564.707 46.212 564.707 Q54.9649 564.707 59.9619 569.067 Q64.9272 573.428 64.9272 581.066 Q64.9272 588.737 59.9619 593.098 Q54.9649 597.426 46.212 597.426 Q37.4273 597.426 32.4621 593.098 Q27.4968 588.737 27.4968 581.066 Z\" fill=\"#000000\" fill-rule=\"nonzero\" fill-opacity=\"1\" /><path clip-path=\"url(#clip700)\" d=\"M45.7664 531.541 Q39.4007 531.541 35.8996 534.183 Q32.3984 536.793 32.3984 541.535 Q32.3984 546.246 35.8996 548.888 Q39.4007 551.498 45.7664 551.498 Q52.1003 551.498 55.6014 548.888 Q59.1026 546.246 59.1026 541.535 Q59.1026 536.793 55.6014 534.183 Q52.1003 531.541 45.7664 531.541 M59.58 525.685 Q68.683 525.685 73.1071 529.727 Q77.5631 533.769 77.5631 542.108 Q77.5631 545.196 77.0857 547.933 Q76.6401 550.67 75.6852 553.248 L69.9879 553.248 Q71.3884 550.67 72.0568 548.156 Q72.7252 545.641 72.7252 543.031 Q72.7252 537.27 69.7015 534.406 Q66.7096 531.541 60.6303 531.541 L57.7339 531.541 Q60.885 533.355 62.4446 536.188 Q64.0042 539.021 64.0042 542.968 Q64.0042 549.524 59.0071 553.535 Q54.01 557.545 45.7664 557.545 Q37.491 557.545 32.4939 553.535 Q27.4968 549.524 27.4968 542.968 Q27.4968 539.021 29.0564 536.188 Q30.616 533.355 33.7671 531.541 L28.3562 531.541 L28.3562 525.685 L59.58 525.685 Z\" fill=\"#000000\" fill-rule=\"nonzero\" fill-opacity=\"1\" /><path clip-path=\"url(#clip700)\" d=\"M33.8307 472.245 Q33.2578 473.231 33.0032 474.409 Q32.7167 475.555 32.7167 476.955 Q32.7167 481.921 35.9632 484.594 Q39.1779 487.236 45.2253 487.236 L64.0042 487.236 L64.0042 493.124 L28.3562 493.124 L28.3562 487.236 L33.8944 487.236 Q30.6479 485.39 29.0883 482.43 Q27.4968 479.47 27.4968 475.237 Q27.4968 474.632 27.5923 473.9 Q27.656 473.168 27.8151 472.276 L33.8307 472.245 Z\" fill=\"#000000\" fill-rule=\"nonzero\" fill-opacity=\"1\" /><path clip-path=\"url(#clip700)\" d=\"M44.7161 437.042 L47.5806 437.042 L47.5806 463.969 Q53.6281 463.587 56.8109 460.341 Q59.9619 457.062 59.9619 451.238 Q59.9619 447.864 59.1344 444.713 Q58.3069 441.53 56.6518 438.411 L62.1899 438.411 Q63.5267 441.562 64.227 444.872 Q64.9272 448.182 64.9272 451.588 Q64.9272 460.118 59.9619 465.115 Q54.9967 470.08 46.5303 470.08 Q37.7774 470.08 32.6531 465.37 Q27.4968 460.627 27.4968 452.606 Q27.4968 445.413 32.1438 441.244 Q36.7589 437.042 44.7161 437.042 M42.9973 442.899 Q38.1912 442.962 35.3266 445.604 Q32.4621 448.214 32.4621 452.543 Q32.4621 457.444 35.2312 460.404 Q38.0002 463.333 43.0292 463.778 L42.9973 442.899 Z\" fill=\"#000000\" fill-rule=\"nonzero\" fill-opacity=\"1\" /><path clip-path=\"url(#clip700)\" d=\"M18.2347 421.637 L28.3562 421.637 L28.3562 409.574 L32.9077 409.574 L32.9077 421.637 L52.2594 421.637 Q56.6199 421.637 57.8613 420.46 Q59.1026 419.25 59.1026 415.59 L59.1026 409.574 L64.0042 409.574 L64.0042 415.59 Q64.0042 422.369 61.4897 424.947 Q58.9434 427.526 52.2594 427.526 L32.9077 427.526 L32.9077 431.822 L28.3562 431.822 L28.3562 427.526 L18.2347 427.526 L18.2347 421.637 Z\" fill=\"#000000\" fill-rule=\"nonzero\" fill-opacity=\"1\" /><path clip-path=\"url(#clip700)\" d=\"M49.9359 402.476 L28.3562 402.476 L28.3562 396.62 L49.7131 396.62 Q54.7739 396.62 57.3202 394.647 Q59.8346 392.673 59.8346 388.727 Q59.8346 383.984 56.8109 381.247 Q53.7872 378.478 48.5673 378.478 L28.3562 378.478 L28.3562 372.621 L64.0042 372.621 L64.0042 378.478 L58.5296 378.478 Q61.7762 380.61 63.3676 383.443 Q64.9272 386.244 64.9272 389.968 Q64.9272 396.111 61.1078 399.294 Q57.2883 402.476 49.9359 402.476 M27.4968 387.74 L27.4968 387.74 Z\" fill=\"#000000\" fill-rule=\"nonzero\" fill-opacity=\"1\" /><path clip-path=\"url(#clip700)\" d=\"M33.8307 339.902 Q33.2578 340.888 33.0032 342.066 Q32.7167 343.212 32.7167 344.612 Q32.7167 349.577 35.9632 352.251 Q39.1779 354.893 45.2253 354.893 L64.0042 354.893 L64.0042 360.781 L28.3562 360.781 L28.3562 354.893 L33.8944 354.893 Q30.6479 353.047 29.0883 350.087 Q27.4968 347.127 27.4968 342.893 Q27.4968 342.289 27.5923 341.557 Q27.656 340.825 27.8151 339.933 L33.8307 339.902 Z\" fill=\"#000000\" fill-rule=\"nonzero\" fill-opacity=\"1\" /><path clip-path=\"url(#clip700)\" d=\"M42.4881 305.272 L64.0042 305.272 L64.0042 311.129 L42.679 311.129 Q37.6183 311.129 35.1038 313.102 Q32.5894 315.075 32.5894 319.022 Q32.5894 323.765 35.6131 326.502 Q38.6368 329.239 43.8567 329.239 L64.0042 329.239 L64.0042 335.127 L28.3562 335.127 L28.3562 329.239 L33.8944 329.239 Q30.6797 327.138 29.0883 324.306 Q27.4968 321.441 27.4968 317.717 Q27.4968 311.574 31.3163 308.423 Q35.1038 305.272 42.4881 305.272 Z\" fill=\"#000000\" fill-rule=\"nonzero\" fill-opacity=\"1\" /><path clip-path=\"url(#clip700)\" d=\"M14.5426 294.514 L14.5426 289.422 Q22.0542 284.647 29.2474 282.292 Q36.4406 279.905 43.5384 279.905 Q50.668 279.905 57.8931 282.292 Q65.1182 284.647 72.5979 289.422 L72.5979 294.514 Q65.3091 290.281 58.1159 288.212 Q50.8908 286.111 43.5384 286.111 Q36.186 286.111 29.0246 288.212 Q21.8632 290.281 14.5426 294.514 Z\" fill=\"#000000\" fill-rule=\"nonzero\" fill-opacity=\"1\" /><polyline clip-path=\"url(#clip702)\" style=\"stroke:#b0b0b0; stroke-linecap:round; stroke-linejoin:round; stroke-width:16; stroke-opacity:1; fill:none\" points=\"1078.88,1374.26 1078.88,1374.26 1078.88,1374.26 1078.88,1374.26 1078.88,1374.26 1078.88,1374.26 1078.88,1374.26 1078.88,1374.26 1078.88,1374.26 1079.52,1321.61 1081.97,1259.84 1086.24,1198.07 1092.31,1136.3 1100.14,1074.53 1109.92,1012.75 1122.24,950.983 1137.37,889.212 1155.33,827.441 1175.96,765.669 1204.73,703.898 1247.68,642.127 1303.09,580.356 1369.11,518.584 1443.97,456.813 1526.14,395.042 1614.28,333.271 1707.32,271.499 1804.37,209.728 1904.74,147.957 2007.84,86.1857 \"/>\n",
       "<circle clip-path=\"url(#clip702)\" cx=\"1109.92\" cy=\"1012.75\" r=\"10.8\" fill=\"#ffffff\" fill-rule=\"evenodd\" fill-opacity=\"1\" stroke=\"#000000\" stroke-opacity=\"1\" stroke-width=\"3.2\"/>\n",
       "<circle clip-path=\"url(#clip702)\" cx=\"1614.28\" cy=\"333.271\" r=\"10.8\" fill=\"#ffffff\" fill-rule=\"evenodd\" fill-opacity=\"1\" stroke=\"#000000\" stroke-opacity=\"1\" stroke-width=\"3.2\"/>\n",
       "<circle clip-path=\"url(#clip702)\" cx=\"1100.14\" cy=\"1074.53\" r=\"10.8\" fill=\"#ffffff\" fill-rule=\"evenodd\" fill-opacity=\"1\" stroke=\"#000000\" stroke-opacity=\"1\" stroke-width=\"3.2\"/>\n",
       "<circle clip-path=\"url(#clip702)\" cx=\"1078.88\" cy=\"1374.26\" r=\"10.8\" fill=\"#ffffff\" fill-rule=\"evenodd\" fill-opacity=\"1\" stroke=\"#000000\" stroke-opacity=\"1\" stroke-width=\"3.2\"/>\n",
       "<circle clip-path=\"url(#clip702)\" cx=\"1086.24\" cy=\"1198.07\" r=\"10.8\" fill=\"#ffffff\" fill-rule=\"evenodd\" fill-opacity=\"1\" stroke=\"#000000\" stroke-opacity=\"1\" stroke-width=\"3.2\"/>\n",
       "<circle clip-path=\"url(#clip702)\" cx=\"1078.88\" cy=\"1374.26\" r=\"10.8\" fill=\"#ffffff\" fill-rule=\"evenodd\" fill-opacity=\"1\" stroke=\"#000000\" stroke-opacity=\"1\" stroke-width=\"3.2\"/>\n",
       "<circle clip-path=\"url(#clip702)\" cx=\"1122.24\" cy=\"950.983\" r=\"10.8\" fill=\"#ffffff\" fill-rule=\"evenodd\" fill-opacity=\"1\" stroke=\"#000000\" stroke-opacity=\"1\" stroke-width=\"3.2\"/>\n",
       "<circle clip-path=\"url(#clip702)\" cx=\"1175.96\" cy=\"765.669\" r=\"10.8\" fill=\"#ffffff\" fill-rule=\"evenodd\" fill-opacity=\"1\" stroke=\"#000000\" stroke-opacity=\"1\" stroke-width=\"3.2\"/>\n",
       "<circle clip-path=\"url(#clip702)\" cx=\"1707.32\" cy=\"271.499\" r=\"10.8\" fill=\"#ffffff\" fill-rule=\"evenodd\" fill-opacity=\"1\" stroke=\"#000000\" stroke-opacity=\"1\" stroke-width=\"3.2\"/>\n",
       "<circle clip-path=\"url(#clip702)\" cx=\"1078.88\" cy=\"1374.26\" r=\"10.8\" fill=\"#ffffff\" fill-rule=\"evenodd\" fill-opacity=\"1\" stroke=\"#000000\" stroke-opacity=\"1\" stroke-width=\"3.2\"/>\n",
       "<circle clip-path=\"url(#clip702)\" cx=\"1804.37\" cy=\"209.728\" r=\"10.8\" fill=\"#ffffff\" fill-rule=\"evenodd\" fill-opacity=\"1\" stroke=\"#000000\" stroke-opacity=\"1\" stroke-width=\"3.2\"/>\n",
       "<circle clip-path=\"url(#clip702)\" cx=\"1247.68\" cy=\"642.127\" r=\"10.8\" fill=\"#ffffff\" fill-rule=\"evenodd\" fill-opacity=\"1\" stroke=\"#000000\" stroke-opacity=\"1\" stroke-width=\"3.2\"/>\n",
       "<circle clip-path=\"url(#clip702)\" cx=\"1078.88\" cy=\"1374.26\" r=\"10.8\" fill=\"#ffffff\" fill-rule=\"evenodd\" fill-opacity=\"1\" stroke=\"#000000\" stroke-opacity=\"1\" stroke-width=\"3.2\"/>\n",
       "<circle clip-path=\"url(#clip702)\" cx=\"1078.88\" cy=\"1374.26\" r=\"10.8\" fill=\"#ffffff\" fill-rule=\"evenodd\" fill-opacity=\"1\" stroke=\"#000000\" stroke-opacity=\"1\" stroke-width=\"3.2\"/>\n",
       "<circle clip-path=\"url(#clip702)\" cx=\"1303.09\" cy=\"580.356\" r=\"10.8\" fill=\"#ffffff\" fill-rule=\"evenodd\" fill-opacity=\"1\" stroke=\"#000000\" stroke-opacity=\"1\" stroke-width=\"3.2\"/>\n",
       "<circle clip-path=\"url(#clip702)\" cx=\"1078.88\" cy=\"1374.26\" r=\"10.8\" fill=\"#ffffff\" fill-rule=\"evenodd\" fill-opacity=\"1\" stroke=\"#000000\" stroke-opacity=\"1\" stroke-width=\"3.2\"/>\n",
       "<circle clip-path=\"url(#clip702)\" cx=\"1443.97\" cy=\"456.813\" r=\"10.8\" fill=\"#ffffff\" fill-rule=\"evenodd\" fill-opacity=\"1\" stroke=\"#000000\" stroke-opacity=\"1\" stroke-width=\"3.2\"/>\n",
       "<circle clip-path=\"url(#clip702)\" cx=\"1079.52\" cy=\"1321.61\" r=\"10.8\" fill=\"#ffffff\" fill-rule=\"evenodd\" fill-opacity=\"1\" stroke=\"#000000\" stroke-opacity=\"1\" stroke-width=\"3.2\"/>\n",
       "<circle clip-path=\"url(#clip702)\" cx=\"1526.14\" cy=\"395.042\" r=\"10.8\" fill=\"#ffffff\" fill-rule=\"evenodd\" fill-opacity=\"1\" stroke=\"#000000\" stroke-opacity=\"1\" stroke-width=\"3.2\"/>\n",
       "<circle clip-path=\"url(#clip702)\" cx=\"1904.74\" cy=\"147.957\" r=\"10.8\" fill=\"#ffffff\" fill-rule=\"evenodd\" fill-opacity=\"1\" stroke=\"#000000\" stroke-opacity=\"1\" stroke-width=\"3.2\"/>\n",
       "<circle clip-path=\"url(#clip702)\" cx=\"1081.97\" cy=\"1259.84\" r=\"10.8\" fill=\"#ffffff\" fill-rule=\"evenodd\" fill-opacity=\"1\" stroke=\"#000000\" stroke-opacity=\"1\" stroke-width=\"3.2\"/>\n",
       "<circle clip-path=\"url(#clip702)\" cx=\"2007.84\" cy=\"86.1857\" r=\"10.8\" fill=\"#ffffff\" fill-rule=\"evenodd\" fill-opacity=\"1\" stroke=\"#000000\" stroke-opacity=\"1\" stroke-width=\"3.2\"/>\n",
       "<circle clip-path=\"url(#clip702)\" cx=\"1078.88\" cy=\"1374.26\" r=\"10.8\" fill=\"#ffffff\" fill-rule=\"evenodd\" fill-opacity=\"1\" stroke=\"#000000\" stroke-opacity=\"1\" stroke-width=\"3.2\"/>\n",
       "<circle clip-path=\"url(#clip702)\" cx=\"1137.37\" cy=\"889.212\" r=\"10.8\" fill=\"#ffffff\" fill-rule=\"evenodd\" fill-opacity=\"1\" stroke=\"#000000\" stroke-opacity=\"1\" stroke-width=\"3.2\"/>\n",
       "<circle clip-path=\"url(#clip702)\" cx=\"1155.33\" cy=\"827.441\" r=\"10.8\" fill=\"#ffffff\" fill-rule=\"evenodd\" fill-opacity=\"1\" stroke=\"#000000\" stroke-opacity=\"1\" stroke-width=\"3.2\"/>\n",
       "<circle clip-path=\"url(#clip702)\" cx=\"1078.88\" cy=\"1374.26\" r=\"10.8\" fill=\"#ffffff\" fill-rule=\"evenodd\" fill-opacity=\"1\" stroke=\"#000000\" stroke-opacity=\"1\" stroke-width=\"3.2\"/>\n",
       "<circle clip-path=\"url(#clip702)\" cx=\"1092.31\" cy=\"1136.3\" r=\"10.8\" fill=\"#ffffff\" fill-rule=\"evenodd\" fill-opacity=\"1\" stroke=\"#000000\" stroke-opacity=\"1\" stroke-width=\"3.2\"/>\n",
       "<circle clip-path=\"url(#clip702)\" cx=\"1204.73\" cy=\"703.898\" r=\"10.8\" fill=\"#ffffff\" fill-rule=\"evenodd\" fill-opacity=\"1\" stroke=\"#000000\" stroke-opacity=\"1\" stroke-width=\"3.2\"/>\n",
       "<circle clip-path=\"url(#clip702)\" cx=\"1369.11\" cy=\"518.584\" r=\"10.8\" fill=\"#ffffff\" fill-rule=\"evenodd\" fill-opacity=\"1\" stroke=\"#000000\" stroke-opacity=\"1\" stroke-width=\"3.2\"/>\n",
       "<circle clip-path=\"url(#clip702)\" cx=\"1078.88\" cy=\"1374.26\" r=\"10.8\" fill=\"#ffffff\" fill-rule=\"evenodd\" fill-opacity=\"1\" stroke=\"#000000\" stroke-opacity=\"1\" stroke-width=\"3.2\"/>\n",
       "<polyline clip-path=\"url(#clip702)\" style=\"stroke:#ff0000; stroke-linecap:round; stroke-linejoin:round; stroke-width:16; stroke-opacity:1; fill:none\" points=\"1085.98,1384.24 1085.98,1384.24 1085.98,1384.24 1085.98,1384.24 1085.98,1384.24 1085.98,1384.24 1085.98,1384.24 1085.98,1383.3 1085.98,1384.24 1086.52,1321.61 1088.11,1259.84 1090.73,1198.07 1094.39,1136.3 1099.06,1074.53 1104.75,1012.75 1111.57,950.983 1119.8,889.212 1129.4,827.44 1140.92,765.669 1165.18,703.898 1206.03,642.127 1261.46,580.356 1329.23,518.584 1407.18,456.813 1493.39,395.042 1586.26,333.271 1684.51,271.499 1787.1,209.728 1893.21,147.957 2002.22,86.1857 \"/>\n",
       "<circle clip-path=\"url(#clip702)\" cx=\"1085.98\" cy=\"1384.24\" r=\"10.8\" fill=\"#ffffff\" fill-rule=\"evenodd\" fill-opacity=\"1\" stroke=\"#000000\" stroke-opacity=\"1\" stroke-width=\"3.2\"/>\n",
       "<circle clip-path=\"url(#clip702)\" cx=\"1893.21\" cy=\"147.957\" r=\"10.8\" fill=\"#ffffff\" fill-rule=\"evenodd\" fill-opacity=\"1\" stroke=\"#000000\" stroke-opacity=\"1\" stroke-width=\"3.2\"/>\n",
       "<circle clip-path=\"url(#clip702)\" cx=\"1119.8\" cy=\"889.212\" r=\"10.8\" fill=\"#ffffff\" fill-rule=\"evenodd\" fill-opacity=\"1\" stroke=\"#000000\" stroke-opacity=\"1\" stroke-width=\"3.2\"/>\n",
       "<circle clip-path=\"url(#clip702)\" cx=\"1140.92\" cy=\"765.669\" r=\"10.8\" fill=\"#ffffff\" fill-rule=\"evenodd\" fill-opacity=\"1\" stroke=\"#000000\" stroke-opacity=\"1\" stroke-width=\"3.2\"/>\n",
       "<circle clip-path=\"url(#clip702)\" cx=\"1085.98\" cy=\"1384.24\" r=\"10.8\" fill=\"#ffffff\" fill-rule=\"evenodd\" fill-opacity=\"1\" stroke=\"#000000\" stroke-opacity=\"1\" stroke-width=\"3.2\"/>\n",
       "<circle clip-path=\"url(#clip702)\" cx=\"1085.98\" cy=\"1384.24\" r=\"10.8\" fill=\"#ffffff\" fill-rule=\"evenodd\" fill-opacity=\"1\" stroke=\"#000000\" stroke-opacity=\"1\" stroke-width=\"3.2\"/>\n",
       "<circle clip-path=\"url(#clip702)\" cx=\"1085.98\" cy=\"1384.24\" r=\"10.8\" fill=\"#ffffff\" fill-rule=\"evenodd\" fill-opacity=\"1\" stroke=\"#000000\" stroke-opacity=\"1\" stroke-width=\"3.2\"/>\n",
       "<circle clip-path=\"url(#clip702)\" cx=\"1329.23\" cy=\"518.584\" r=\"10.8\" fill=\"#ffffff\" fill-rule=\"evenodd\" fill-opacity=\"1\" stroke=\"#000000\" stroke-opacity=\"1\" stroke-width=\"3.2\"/>\n",
       "<circle clip-path=\"url(#clip702)\" cx=\"1684.51\" cy=\"271.499\" r=\"10.8\" fill=\"#ffffff\" fill-rule=\"evenodd\" fill-opacity=\"1\" stroke=\"#000000\" stroke-opacity=\"1\" stroke-width=\"3.2\"/>\n",
       "<circle clip-path=\"url(#clip702)\" cx=\"1090.73\" cy=\"1198.07\" r=\"10.8\" fill=\"#ffffff\" fill-rule=\"evenodd\" fill-opacity=\"1\" stroke=\"#000000\" stroke-opacity=\"1\" stroke-width=\"3.2\"/>\n",
       "<circle clip-path=\"url(#clip702)\" cx=\"1129.4\" cy=\"827.44\" r=\"10.8\" fill=\"#ffffff\" fill-rule=\"evenodd\" fill-opacity=\"1\" stroke=\"#000000\" stroke-opacity=\"1\" stroke-width=\"3.2\"/>\n",
       "<circle clip-path=\"url(#clip702)\" cx=\"1088.11\" cy=\"1259.84\" r=\"10.8\" fill=\"#ffffff\" fill-rule=\"evenodd\" fill-opacity=\"1\" stroke=\"#000000\" stroke-opacity=\"1\" stroke-width=\"3.2\"/>\n",
       "<circle clip-path=\"url(#clip702)\" cx=\"1111.57\" cy=\"950.983\" r=\"10.8\" fill=\"#ffffff\" fill-rule=\"evenodd\" fill-opacity=\"1\" stroke=\"#000000\" stroke-opacity=\"1\" stroke-width=\"3.2\"/>\n",
       "<circle clip-path=\"url(#clip702)\" cx=\"1165.18\" cy=\"703.898\" r=\"10.8\" fill=\"#ffffff\" fill-rule=\"evenodd\" fill-opacity=\"1\" stroke=\"#000000\" stroke-opacity=\"1\" stroke-width=\"3.2\"/>\n",
       "<circle clip-path=\"url(#clip702)\" cx=\"1407.18\" cy=\"456.813\" r=\"10.8\" fill=\"#ffffff\" fill-rule=\"evenodd\" fill-opacity=\"1\" stroke=\"#000000\" stroke-opacity=\"1\" stroke-width=\"3.2\"/>\n",
       "<circle clip-path=\"url(#clip702)\" cx=\"2002.22\" cy=\"86.1857\" r=\"10.8\" fill=\"#ffffff\" fill-rule=\"evenodd\" fill-opacity=\"1\" stroke=\"#000000\" stroke-opacity=\"1\" stroke-width=\"3.2\"/>\n",
       "<circle clip-path=\"url(#clip702)\" cx=\"1085.98\" cy=\"1383.3\" r=\"10.8\" fill=\"#ffffff\" fill-rule=\"evenodd\" fill-opacity=\"1\" stroke=\"#000000\" stroke-opacity=\"1\" stroke-width=\"3.2\"/>\n",
       "<circle clip-path=\"url(#clip702)\" cx=\"1206.03\" cy=\"642.127\" r=\"10.8\" fill=\"#ffffff\" fill-rule=\"evenodd\" fill-opacity=\"1\" stroke=\"#000000\" stroke-opacity=\"1\" stroke-width=\"3.2\"/>\n",
       "<circle clip-path=\"url(#clip702)\" cx=\"1085.98\" cy=\"1384.24\" r=\"10.8\" fill=\"#ffffff\" fill-rule=\"evenodd\" fill-opacity=\"1\" stroke=\"#000000\" stroke-opacity=\"1\" stroke-width=\"3.2\"/>\n",
       "<circle clip-path=\"url(#clip702)\" cx=\"1586.26\" cy=\"333.271\" r=\"10.8\" fill=\"#ffffff\" fill-rule=\"evenodd\" fill-opacity=\"1\" stroke=\"#000000\" stroke-opacity=\"1\" stroke-width=\"3.2\"/>\n",
       "<circle clip-path=\"url(#clip702)\" cx=\"1085.98\" cy=\"1384.24\" r=\"10.8\" fill=\"#ffffff\" fill-rule=\"evenodd\" fill-opacity=\"1\" stroke=\"#000000\" stroke-opacity=\"1\" stroke-width=\"3.2\"/>\n",
       "<circle clip-path=\"url(#clip702)\" cx=\"1099.06\" cy=\"1074.53\" r=\"10.8\" fill=\"#ffffff\" fill-rule=\"evenodd\" fill-opacity=\"1\" stroke=\"#000000\" stroke-opacity=\"1\" stroke-width=\"3.2\"/>\n",
       "<circle clip-path=\"url(#clip702)\" cx=\"1787.1\" cy=\"209.728\" r=\"10.8\" fill=\"#ffffff\" fill-rule=\"evenodd\" fill-opacity=\"1\" stroke=\"#000000\" stroke-opacity=\"1\" stroke-width=\"3.2\"/>\n",
       "<circle clip-path=\"url(#clip702)\" cx=\"1104.75\" cy=\"1012.75\" r=\"10.8\" fill=\"#ffffff\" fill-rule=\"evenodd\" fill-opacity=\"1\" stroke=\"#000000\" stroke-opacity=\"1\" stroke-width=\"3.2\"/>\n",
       "<circle clip-path=\"url(#clip702)\" cx=\"1086.52\" cy=\"1321.61\" r=\"10.8\" fill=\"#ffffff\" fill-rule=\"evenodd\" fill-opacity=\"1\" stroke=\"#000000\" stroke-opacity=\"1\" stroke-width=\"3.2\"/>\n",
       "<circle clip-path=\"url(#clip702)\" cx=\"1085.98\" cy=\"1384.24\" r=\"10.8\" fill=\"#ffffff\" fill-rule=\"evenodd\" fill-opacity=\"1\" stroke=\"#000000\" stroke-opacity=\"1\" stroke-width=\"3.2\"/>\n",
       "<circle clip-path=\"url(#clip702)\" cx=\"1261.46\" cy=\"580.356\" r=\"10.8\" fill=\"#ffffff\" fill-rule=\"evenodd\" fill-opacity=\"1\" stroke=\"#000000\" stroke-opacity=\"1\" stroke-width=\"3.2\"/>\n",
       "<circle clip-path=\"url(#clip702)\" cx=\"1085.98\" cy=\"1384.24\" r=\"10.8\" fill=\"#ffffff\" fill-rule=\"evenodd\" fill-opacity=\"1\" stroke=\"#000000\" stroke-opacity=\"1\" stroke-width=\"3.2\"/>\n",
       "<circle clip-path=\"url(#clip702)\" cx=\"1094.39\" cy=\"1136.3\" r=\"10.8\" fill=\"#ffffff\" fill-rule=\"evenodd\" fill-opacity=\"1\" stroke=\"#000000\" stroke-opacity=\"1\" stroke-width=\"3.2\"/>\n",
       "<circle clip-path=\"url(#clip702)\" cx=\"1493.39\" cy=\"395.042\" r=\"10.8\" fill=\"#ffffff\" fill-rule=\"evenodd\" fill-opacity=\"1\" stroke=\"#000000\" stroke-opacity=\"1\" stroke-width=\"3.2\"/>\n",
       "<path clip-path=\"url(#clip700)\" d=\"M319.649 248.629 L634.206 248.629 L634.206 93.1086 L319.649 93.1086  Z\" fill=\"#ffffff\" fill-rule=\"evenodd\" fill-opacity=\"1\"/>\n",
       "<polyline clip-path=\"url(#clip700)\" style=\"stroke:#000000; stroke-linecap:round; stroke-linejoin:round; stroke-width:4; stroke-opacity:1; fill:none\" points=\"319.649,248.629 634.206,248.629 634.206,93.1086 319.649,93.1086 319.649,248.629 \"/>\n",
       "<polyline clip-path=\"url(#clip700)\" style=\"stroke:#b0b0b0; stroke-linecap:round; stroke-linejoin:round; stroke-width:16; stroke-opacity:1; fill:none\" points=\"343.018,144.949 483.232,144.949 \"/>\n",
       "<path clip-path=\"url(#clip700)\" d=\"M511.277 131.511 L511.277 158.386 L516.926 158.386 Q524.078 158.386 527.388 155.145 Q530.722 151.905 530.722 144.914 Q530.722 137.969 527.388 134.752 Q524.078 131.511 516.926 131.511 L511.277 131.511 M506.602 127.669 L516.208 127.669 Q526.254 127.669 530.953 131.858 Q535.652 136.025 535.652 144.914 Q535.652 153.849 530.93 158.039 Q526.208 162.229 516.208 162.229 L506.602 162.229 L506.602 127.669 Z\" fill=\"#000000\" fill-rule=\"nonzero\" fill-opacity=\"1\" /><path clip-path=\"url(#clip700)\" d=\"M554.703 149.196 Q549.541 149.196 547.55 150.377 Q545.56 151.557 545.56 154.405 Q545.56 156.673 547.041 158.016 Q548.546 159.335 551.115 159.335 Q554.657 159.335 556.786 156.835 Q558.939 154.312 558.939 150.145 L558.939 149.196 L554.703 149.196 M563.198 147.437 L563.198 162.229 L558.939 162.229 L558.939 158.293 Q557.481 160.655 555.305 161.789 Q553.129 162.9 549.981 162.9 Q545.999 162.9 543.638 160.678 Q541.3 158.432 541.3 154.682 Q541.3 150.307 544.217 148.085 Q547.157 145.863 552.967 145.863 L558.939 145.863 L558.939 145.446 Q558.939 142.507 556.995 140.909 Q555.073 139.289 551.578 139.289 Q549.356 139.289 547.249 139.821 Q545.143 140.354 543.199 141.419 L543.199 137.483 Q545.536 136.581 547.736 136.141 Q549.935 135.678 552.018 135.678 Q557.643 135.678 560.421 138.594 Q563.198 141.511 563.198 147.437 Z\" fill=\"#000000\" fill-rule=\"nonzero\" fill-opacity=\"1\" /><path clip-path=\"url(#clip700)\" d=\"M576.184 128.942 L576.184 136.303 L584.958 136.303 L584.958 139.613 L576.184 139.613 L576.184 153.687 Q576.184 156.858 577.041 157.761 Q577.921 158.664 580.583 158.664 L584.958 158.664 L584.958 162.229 L580.583 162.229 Q575.652 162.229 573.777 160.4 Q571.902 158.548 571.902 153.687 L571.902 139.613 L568.777 139.613 L568.777 136.303 L571.902 136.303 L571.902 128.942 L576.184 128.942 Z\" fill=\"#000000\" fill-rule=\"nonzero\" fill-opacity=\"1\" /><path clip-path=\"url(#clip700)\" d=\"M602.342 149.196 Q597.18 149.196 595.189 150.377 Q593.198 151.557 593.198 154.405 Q593.198 156.673 594.68 158.016 Q596.184 159.335 598.754 159.335 Q602.295 159.335 604.425 156.835 Q606.578 154.312 606.578 150.145 L606.578 149.196 L602.342 149.196 M610.837 147.437 L610.837 162.229 L606.578 162.229 L606.578 158.293 Q605.119 160.655 602.944 161.789 Q600.768 162.9 597.62 162.9 Q593.638 162.9 591.277 160.678 Q588.939 158.432 588.939 154.682 Q588.939 150.307 591.856 148.085 Q594.795 145.863 600.606 145.863 L606.578 145.863 L606.578 145.446 Q606.578 142.507 604.633 140.909 Q602.712 139.289 599.217 139.289 Q596.995 139.289 594.888 139.821 Q592.782 140.354 590.837 141.419 L590.837 137.483 Q593.175 136.581 595.374 136.141 Q597.573 135.678 599.657 135.678 Q605.282 135.678 608.059 138.594 Q610.837 141.511 610.837 147.437 Z\" fill=\"#000000\" fill-rule=\"nonzero\" fill-opacity=\"1\" /><polyline clip-path=\"url(#clip700)\" style=\"stroke:#ff0000; stroke-linecap:round; stroke-linejoin:round; stroke-width:16; stroke-opacity:1; fill:none\" points=\"343.018,196.789 483.232,196.789 \"/>\n",
       "<path clip-path=\"url(#clip700)\" d=\"M528.847 180.643 L528.847 185.203 Q526.185 183.93 523.824 183.305 Q521.463 182.68 519.263 182.68 Q515.444 182.68 513.361 184.161 Q511.301 185.643 511.301 188.374 Q511.301 190.666 512.666 191.847 Q514.055 193.004 517.898 193.722 L520.722 194.3 Q525.953 195.296 528.43 197.819 Q530.93 200.319 530.93 204.532 Q530.93 209.555 527.55 212.147 Q524.194 214.74 517.689 214.74 Q515.236 214.74 512.458 214.184 Q509.703 213.629 506.74 212.541 L506.74 207.726 Q509.588 209.323 512.319 210.133 Q515.051 210.944 517.689 210.944 Q521.694 210.944 523.87 209.37 Q526.046 207.796 526.046 204.879 Q526.046 202.333 524.472 200.897 Q522.921 199.462 519.356 198.745 L516.509 198.189 Q511.277 197.147 508.939 194.925 Q506.602 192.703 506.602 188.745 Q506.602 184.161 509.819 181.522 Q513.06 178.884 518.731 178.884 Q521.162 178.884 523.685 179.323 Q526.208 179.763 528.847 180.643 Z\" fill=\"#000000\" fill-rule=\"nonzero\" fill-opacity=\"1\" /><path clip-path=\"url(#clip700)\" d=\"M538.222 179.509 L542.898 179.509 L542.898 214.069 L538.222 214.069 L538.222 179.509 Z\" fill=\"#000000\" fill-rule=\"nonzero\" fill-opacity=\"1\" /><path clip-path=\"url(#clip700)\" d=\"M552.203 179.509 L559.171 179.509 L567.99 203.027 L576.856 179.509 L583.823 179.509 L583.823 214.069 L579.263 214.069 L579.263 183.722 L570.351 207.425 L565.652 207.425 L556.74 183.722 L556.74 214.069 L552.203 214.069 L552.203 179.509 Z\" fill=\"#000000\" fill-rule=\"nonzero\" fill-opacity=\"1\" /></svg>\n"
      ]
     },
     "execution_count": 27,
     "metadata": {},
     "output_type": "execute_result"
    }
   ],
   "source": [
    "# regular -\n",
    "plot(efficient_frontier, lw=4, xlabel=\"Portfolio Risk (sqrt)\", \n",
    "    ylabel=\"Portfolio Reward (log return)\", fontsize=18, c=:gray69, \n",
    "    xlim=(0.0, 1.2*maximum(efficient_frontier).first), label=\"Data\")\n",
    "scatter!(efficient_frontier, label=\"\", c=:white, mec=:black, ms=3)\n",
    "\n",
    "# single index model -\n",
    "plot!(efficient_frontier_sim, lw=4, xlabel=\"Portfolio Risk (sqrt)\", \n",
    "    ylabel=\"Portfolio Reward (log return)\", fontsize=18, label=\"SIM\", c=:red, \n",
    "    xlim=(0.0, 1.2*maximum(efficient_frontier_sim).first))\n",
    "scatter!(efficient_frontier_sim, label=\"\", c=:white, mec=:red, ms=3)"
   ]
  },
  {
   "cell_type": "code",
   "execution_count": null,
   "id": "af2125dd-ea83-480a-81f0-29981923725a",
   "metadata": {},
   "outputs": [],
   "source": []
  },
  {
   "cell_type": "markdown",
   "id": "f5783b18-2f56-4641-9464-82658cc68a38",
   "metadata": {},
   "source": [
    "### Disclaimer and Risks\n",
    "__This content is offered solely for training and  informational purposes__. No offer or solicitation to buy or sell securities or derivative products, or any investment or trading advice or strategy,  is made, given, or endorsed by the teaching team. \n",
    "\n",
    "__Trading involves risk__. Carefully review your financial situation before investing in securities, futures contracts, options, or commodity interests. Past performance, whether actual or indicated by historical tests of strategies, is no guarantee of future performance or success. Trading is generally inappropriate for someone with limited resources, investment or trading experience, or a low-risk tolerance.  Only risk capital that is not required for living expenses.\n",
    "\n",
    "__You are fully responsible for any investment or trading decisions you make__. Such decisions should be based solely on your evaluation of your financial circumstances, investment or trading objectives, risk tolerance, and liquidity needs."
   ]
  }
 ],
 "metadata": {
  "kernelspec": {
   "display_name": "Julia 1.9.3",
   "language": "julia",
   "name": "julia-1.9"
  },
  "language_info": {
   "file_extension": ".jl",
   "mimetype": "application/julia",
   "name": "julia",
   "version": "1.9.3"
  }
 },
 "nbformat": 4,
 "nbformat_minor": 5
}
