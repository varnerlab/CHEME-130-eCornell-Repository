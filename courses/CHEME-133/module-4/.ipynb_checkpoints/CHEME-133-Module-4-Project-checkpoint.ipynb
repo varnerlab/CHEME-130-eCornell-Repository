{
 "cells": [
  {
   "cell_type": "markdown",
   "id": "a5faf76c-e09d-48c2-af67-4298dfb637d8",
   "metadata": {},
   "source": [
    "# Example: Compute the Profit and Breakeven Points for an Iron Condor at Expiration\n",
    "\n",
    "## Background\n",
    "Call and put contracts can be combined to develop composite contract structures with interesting payoff diagrams. Let's limit our focus to contracts that have the same underlying asset and the same expiration date. A composite option contract be composed of $d$ legs (individual contracts) in the contract set $\\mathcal{C}$ where each leg $i\\in\\mathcal{C}$ is written with respect to the same underlying stock `XYZ` and has the same expiration date. Then, the overall payoff of the composite contract $\\hat{V}(S(T),K_{1},\\dots,K_{d})$ is given by:\n",
    "\n",
    "\n",
    "$$\\hat{V}(S(T),K_{1},\\dots,K_{d}) = \\sum_{i\\in\\mathcal{C}}\\theta_{i}n_{i}V_{i}(S(T),K_{i})$$\n",
    "\n",
    "\n",
    "where $K_{i}$ denotes the strike price of contract $i\\in\\mathcal{C}$. The overall profit of the composite contract $\\hat{P}$ is given by:\n",
    "\n",
    "\n",
    "$$\\hat{P}(S(T),K_{1},\\dots,K_{d}) = \\sum_{i\\in\\mathcal{C}}\\theta_{i}n_{i}P_{i}(S(T),K_{i})$$\n",
    "\n",
    "\n",
    "where $\\theta_{i}$ denotes the direction of contract $i$: if contract $i$ is short (sold), then $\\theta_{i}=-1$, otherwise $\\theta_{i}=1$, $n_{i}$ denotes the copy number of contract $i$, ${V}_{i}(S(T),K_{i})$ denotes the payoff of contract $i$, and $P_{i}(S(T),K_{i})$ denotes the profit of contract $i$. Finally, the profit for contract of type $\\star$ is given by:\n",
    "\n",
    "$$P_{\\star}(K,S(T)) = {V}_{\\star}(K,S(T)) -  \\mathcal{P}_{\\star}(K,S(0))$$\n",
    "\n",
    "where $\\mathcal{P}_{\\star}(K,S(0))$ denotes the premium of contract $\\star$, and ${V}_{\\star}(K,S(T))$ denotes the payoff of contract $\\star$ at expiration."
   ]
  },
  {
   "cell_type": "code",
   "execution_count": null,
   "id": "e79c0f22-a50c-49d2-8bb7-a510b2f23bcc",
   "metadata": {},
   "outputs": [],
   "source": []
  }
 ],
 "metadata": {
  "kernelspec": {
   "display_name": "Julia 1.9.1",
   "language": "julia",
   "name": "julia-1.9"
  },
  "language_info": {
   "file_extension": ".jl",
   "mimetype": "application/julia",
   "name": "julia",
   "version": "1.9.2"
  }
 },
 "nbformat": 4,
 "nbformat_minor": 5
}
