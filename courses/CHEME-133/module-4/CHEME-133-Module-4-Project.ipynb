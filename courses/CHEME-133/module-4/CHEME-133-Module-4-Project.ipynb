{
 "cells": [
  {
   "cell_type": "markdown",
   "id": "353515ab-904e-43dd-8e90-2edca15125a6",
   "metadata": {},
   "source": [
    "# Project: Profit Diagram and Breakeven Points for a Jade Lizard\n",
    "Fill me in"
   ]
  },
  {
   "cell_type": "markdown",
   "id": "3c0ecc63-bf4d-41a3-a868-9982fcb1e50c",
   "metadata": {},
   "source": [
    "## Setup"
   ]
  }
 ],
 "metadata": {
  "kernelspec": {
   "display_name": "Julia 1.10.2",
   "language": "julia",
   "name": "julia-1.10"
  },
  "language_info": {
   "file_extension": ".jl",
   "mimetype": "application/julia",
   "name": "julia",
   "version": "1.10.2"
  }
 },
 "nbformat": 4,
 "nbformat_minor": 5
}
