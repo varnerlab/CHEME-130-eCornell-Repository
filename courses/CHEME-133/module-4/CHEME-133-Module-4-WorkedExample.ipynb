{
 "cells": [
  {
   "cell_type": "markdown",
   "id": "4b1384f5-30ed-4194-9c8e-ba6c882e5813",
   "metadata": {},
   "source": [
    "# Example: Compute the Payoff, Profit, and Break-even Points for Composite Option Contracts "
   ]
  },
  {
   "cell_type": "code",
   "execution_count": null,
   "id": "27c8fe31-8524-464f-a193-760634d87acf",
   "metadata": {},
   "outputs": [],
   "source": []
  }
 ],
 "metadata": {
  "kernelspec": {
   "display_name": "Julia 1.9.1",
   "language": "julia",
   "name": "julia-1.9"
  },
  "language_info": {
   "file_extension": ".jl",
   "mimetype": "application/julia",
   "name": "julia",
   "version": "1.9.1"
  }
 },
 "nbformat": 4,
 "nbformat_minor": 5
}
