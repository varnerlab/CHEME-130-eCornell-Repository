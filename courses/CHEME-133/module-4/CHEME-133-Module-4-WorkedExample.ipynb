{
 "cells": [
  {
   "cell_type": "markdown",
   "id": "b012a97b-5941-4b5c-afcd-2c3f5c581da9",
   "metadata": {},
   "source": [
    "# Example: Profit Diagram and Breakeven Points for a Short Strangle\n",
    "A short strangle involves selling a `call` and `put` option on the same underlying stock, where both legs have the same expiration date. This example will familiarize students with computing the payoff, profit, and breakeven points for a short strangle at expiration.\n",
    "\n",
    "## Learning objectives\n",
    "Fill me in"
   ]
  },
  {
   "cell_type": "markdown",
   "id": "69223f04-3153-40d3-bec4-dc2abffe5ff5",
   "metadata": {},
   "source": [
    "## Setup\n",
    "Set up the computational environment by including the `Include.jl` file. The `Include.jl` file loads external packages, various functions we will use in the exercise, and custom types to model the components of our example problem.\n",
    "* For additional information on functions and types used in this material, see the [Julia programming language documentation](https://docs.julialang.org/en/v1/) and the [VLQuantitativeFinancePackage.jl documentation](https://github.com/varnerlab/VLQuantitativeFinancePackage.jl). "
   ]
  },
  {
   "cell_type": "code",
   "execution_count": 1,
   "id": "347931e3-d26d-4b87-879f-43662475b1e8",
   "metadata": {},
   "outputs": [
    {
     "name": "stderr",
     "output_type": "stream",
     "text": [
      "\u001b[32m\u001b[1m    Updating\u001b[22m\u001b[39m git-repo `https://github.com/varnerlab/VLQuantitativeFinancePackage.jl.git`\n",
      "\u001b[32m\u001b[1m   Resolving\u001b[22m\u001b[39m package versions...\n",
      "\u001b[32m\u001b[1m  No Changes\u001b[22m\u001b[39m to `~/Desktop/julia_work/CHEME-130-eCornell-Repository/courses/CHEME-133/module-4/Project.toml`\n",
      "\u001b[32m\u001b[1m  No Changes\u001b[22m\u001b[39m to `~/Desktop/julia_work/CHEME-130-eCornell-Repository/courses/CHEME-133/module-4/Manifest.toml`\n",
      "\u001b[32m\u001b[1m  Activating\u001b[22m\u001b[39m project at `~/Desktop/julia_work/CHEME-130-eCornell-Repository/courses/CHEME-133/module-4`\n",
      "\u001b[32m\u001b[1m  No Changes\u001b[22m\u001b[39m to `~/Desktop/julia_work/CHEME-130-eCornell-Repository/courses/CHEME-133/module-4/Project.toml`\n",
      "\u001b[32m\u001b[1m  No Changes\u001b[22m\u001b[39m to `~/Desktop/julia_work/CHEME-130-eCornell-Repository/courses/CHEME-133/module-4/Manifest.toml`\n",
      "\u001b[32m\u001b[1m    Updating\u001b[22m\u001b[39m registry at `~/.julia/registries/General.toml`\n",
      "\u001b[32m\u001b[1m    Updating\u001b[22m\u001b[39m git-repo `https://github.com/varnerlab/VLQuantitativeFinancePackage.jl.git`\n",
      "\u001b[32m\u001b[1m  No Changes\u001b[22m\u001b[39m to `~/Desktop/julia_work/CHEME-130-eCornell-Repository/courses/CHEME-133/module-4/Project.toml`\n",
      "\u001b[32m\u001b[1m  No Changes\u001b[22m\u001b[39m to `~/Desktop/julia_work/CHEME-130-eCornell-Repository/courses/CHEME-133/module-4/Manifest.toml`\n"
     ]
    }
   ],
   "source": [
    "include(\"Include.jl\");"
   ]
  },
  {
   "cell_type": "markdown",
   "id": "b7cba30d-cd8a-4d61-b28d-b35fcbe04448",
   "metadata": {},
   "source": [
    "## Prerequisites\n",
    "We'll build our short strangle using options chain data for `62-DTE` contracts on [Micron Technology](https://www.micron.com/about), which has the ticker symbol `MU.` \n",
    "* Load the options chain dataset by calling the `MyOptionsChainDataSet()` function, which returns the pricing data as a `DataFrame` instance, which is exported by the [DataFrames.jl package](https://github.com/JuliaData/DataFrames.jl). Let's save the options data in the `dataset::DataFrame` variable:"
   ]
  },
  {
   "cell_type": "code",
   "execution_count": 2,
   "id": "686f4d52-486d-42b2-b9c6-85c3b4ef2538",
   "metadata": {},
   "outputs": [
    {
     "data": {
      "text/html": [
       "<div><div style = \"float: left;\"><span>74×11 DataFrame</span></div><div style = \"float: right;\"><span style = \"font-style: italic;\">49 rows omitted</span></div><div style = \"clear: both;\"></div></div><div class = \"data-frame\" style = \"overflow-x: scroll;\"><table class = \"data-frame\" style = \"margin-bottom: 6px;\"><thead><tr class = \"header\"><th class = \"rowNumber\" style = \"font-weight: bold; text-align: right;\">Row</th><th style = \"text-align: left;\">Strike</th><th style = \"text-align: left;\">Moneyness</th><th style = \"text-align: left;\">Bid</th><th style = \"text-align: left;\">Mid</th><th style = \"text-align: left;\">Ask</th><th style = \"text-align: left;\">Last</th><th style = \"text-align: left;\">Volume</th><th style = \"text-align: left;\">Open Int</th><th style = \"text-align: left;\">Delta</th><th style = \"text-align: left;\">IV</th><th style = \"text-align: left;\">Type</th></tr><tr class = \"subheader headerLastRow\"><th class = \"rowNumber\" style = \"font-weight: bold; text-align: right;\"></th><th title = \"Float64\" style = \"text-align: left;\">Float64</th><th title = \"Float64\" style = \"text-align: left;\">Float64</th><th title = \"Float64\" style = \"text-align: left;\">Float64</th><th title = \"Float64\" style = \"text-align: left;\">Float64</th><th title = \"Float64\" style = \"text-align: left;\">Float64</th><th title = \"Float64\" style = \"text-align: left;\">Float64</th><th title = \"String7\" style = \"text-align: left;\">String7</th><th title = \"String7\" style = \"text-align: left;\">String7</th><th title = \"Float64\" style = \"text-align: left;\">Float64</th><th title = \"Float64\" style = \"text-align: left;\">Float64</th><th title = \"String7\" style = \"text-align: left;\">String7</th></tr></thead><tbody><tr><td class = \"rowNumber\" style = \"font-weight: bold; text-align: right;\">1</td><td style = \"text-align: right;\">32.5</td><td style = \"text-align: right;\">0.5912</td><td style = \"text-align: right;\">46.9</td><td style = \"text-align: right;\">47.22</td><td style = \"text-align: right;\">47.55</td><td style = \"text-align: right;\">49.16</td><td style = \"text-align: left;\">0</td><td style = \"text-align: left;\">2</td><td style = \"text-align: right;\">0.99881</td><td style = \"text-align: right;\">0.6458</td><td style = \"text-align: left;\">Call</td></tr><tr><td class = \"rowNumber\" style = \"font-weight: bold; text-align: right;\">2</td><td style = \"text-align: right;\">35.0</td><td style = \"text-align: right;\">0.5597</td><td style = \"text-align: right;\">44.4</td><td style = \"text-align: right;\">44.8</td><td style = \"text-align: right;\">45.2</td><td style = \"text-align: right;\">39.75</td><td style = \"text-align: left;\">0</td><td style = \"text-align: left;\">1</td><td style = \"text-align: right;\">0.99364</td><td style = \"text-align: right;\">0.8463</td><td style = \"text-align: left;\">Call</td></tr><tr><td class = \"rowNumber\" style = \"font-weight: bold; text-align: right;\">3</td><td style = \"text-align: right;\">37.5</td><td style = \"text-align: right;\">0.5283</td><td style = \"text-align: right;\">41.95</td><td style = \"text-align: right;\">42.33</td><td style = \"text-align: right;\">42.7</td><td style = \"text-align: right;\">0.0</td><td style = \"text-align: left;\">0</td><td style = \"text-align: left;\">0</td><td style = \"text-align: right;\">0.99303</td><td style = \"text-align: right;\">0.784</td><td style = \"text-align: left;\">Call</td></tr><tr><td class = \"rowNumber\" style = \"font-weight: bold; text-align: right;\">4</td><td style = \"text-align: right;\">40.0</td><td style = \"text-align: right;\">0.4969</td><td style = \"text-align: right;\">39.5</td><td style = \"text-align: right;\">39.9</td><td style = \"text-align: right;\">40.3</td><td style = \"text-align: right;\">46.57</td><td style = \"text-align: left;\">0</td><td style = \"text-align: left;\">24</td><td style = \"text-align: right;\">0.98822</td><td style = \"text-align: right;\">0.7904</td><td style = \"text-align: left;\">Call</td></tr><tr><td class = \"rowNumber\" style = \"font-weight: bold; text-align: right;\">5</td><td style = \"text-align: right;\">42.5</td><td style = \"text-align: right;\">0.4654</td><td style = \"text-align: right;\">36.9</td><td style = \"text-align: right;\">37.35</td><td style = \"text-align: right;\">37.8</td><td style = \"text-align: right;\">43.15</td><td style = \"text-align: left;\">0</td><td style = \"text-align: left;\">1</td><td style = \"text-align: right;\">0.99424</td><td style = \"text-align: right;\">0.6253</td><td style = \"text-align: left;\">Call</td></tr><tr><td class = \"rowNumber\" style = \"font-weight: bold; text-align: right;\">6</td><td style = \"text-align: right;\">45.0</td><td style = \"text-align: right;\">0.434</td><td style = \"text-align: right;\">34.55</td><td style = \"text-align: right;\">34.88</td><td style = \"text-align: right;\">35.2</td><td style = \"text-align: right;\">37.85</td><td style = \"text-align: left;\">0</td><td style = \"text-align: left;\">27</td><td style = \"text-align: right;\">0.9936</td><td style = \"text-align: right;\">0.5769</td><td style = \"text-align: left;\">Call</td></tr><tr><td class = \"rowNumber\" style = \"font-weight: bold; text-align: right;\">7</td><td style = \"text-align: right;\">47.5</td><td style = \"text-align: right;\">0.4025</td><td style = \"text-align: right;\">32.15</td><td style = \"text-align: right;\">32.5</td><td style = \"text-align: right;\">32.85</td><td style = \"text-align: right;\">30.35</td><td style = \"text-align: left;\">0</td><td style = \"text-align: left;\">85</td><td style = \"text-align: right;\">0.98231</td><td style = \"text-align: right;\">0.6363</td><td style = \"text-align: left;\">Call</td></tr><tr><td class = \"rowNumber\" style = \"font-weight: bold; text-align: right;\">8</td><td style = \"text-align: right;\">50.0</td><td style = \"text-align: right;\">0.3711</td><td style = \"text-align: right;\">29.65</td><td style = \"text-align: right;\">30.03</td><td style = \"text-align: right;\">30.4</td><td style = \"text-align: right;\">30.35</td><td style = \"text-align: left;\">2</td><td style = \"text-align: left;\">65</td><td style = \"text-align: right;\">0.95655</td><td style = \"text-align: right;\">0.7286</td><td style = \"text-align: left;\">Call</td></tr><tr><td class = \"rowNumber\" style = \"font-weight: bold; text-align: right;\">9</td><td style = \"text-align: right;\">55.0</td><td style = \"text-align: right;\">0.3082</td><td style = \"text-align: right;\">24.85</td><td style = \"text-align: right;\">25.2</td><td style = \"text-align: right;\">25.55</td><td style = \"text-align: right;\">25.69</td><td style = \"text-align: left;\">30</td><td style = \"text-align: left;\">377</td><td style = \"text-align: right;\">0.96381</td><td style = \"text-align: right;\">0.5384</td><td style = \"text-align: left;\">Call</td></tr><tr><td class = \"rowNumber\" style = \"font-weight: bold; text-align: right;\">10</td><td style = \"text-align: right;\">57.5</td><td style = \"text-align: right;\">0.2767</td><td style = \"text-align: right;\">22.4</td><td style = \"text-align: right;\">22.65</td><td style = \"text-align: right;\">22.9</td><td style = \"text-align: right;\">25.2</td><td style = \"text-align: left;\">0</td><td style = \"text-align: left;\">188</td><td style = \"text-align: right;\">0.96785</td><td style = \"text-align: right;\">0.4557</td><td style = \"text-align: left;\">Call</td></tr><tr><td class = \"rowNumber\" style = \"font-weight: bold; text-align: right;\">11</td><td style = \"text-align: right;\">60.0</td><td style = \"text-align: right;\">0.2453</td><td style = \"text-align: right;\">19.95</td><td style = \"text-align: right;\">20.35</td><td style = \"text-align: right;\">20.75</td><td style = \"text-align: right;\">22.45</td><td style = \"text-align: left;\">3</td><td style = \"text-align: left;\">167</td><td style = \"text-align: right;\">0.94546</td><td style = \"text-align: right;\">0.464</td><td style = \"text-align: left;\">Call</td></tr><tr><td class = \"rowNumber\" style = \"font-weight: bold; text-align: right;\">12</td><td style = \"text-align: right;\">62.5</td><td style = \"text-align: right;\">0.2138</td><td style = \"text-align: right;\">17.9</td><td style = \"text-align: right;\">18.17</td><td style = \"text-align: right;\">18.45</td><td style = \"text-align: right;\">18.45</td><td style = \"text-align: left;\">2</td><td style = \"text-align: left;\">328</td><td style = \"text-align: right;\">0.89447</td><td style = \"text-align: right;\">0.5267</td><td style = \"text-align: left;\">Call</td></tr><tr><td class = \"rowNumber\" style = \"font-weight: bold; text-align: right;\">13</td><td style = \"text-align: right;\">65.0</td><td style = \"text-align: right;\">0.1824</td><td style = \"text-align: right;\">15.7</td><td style = \"text-align: right;\">15.8</td><td style = \"text-align: right;\">15.9</td><td style = \"text-align: right;\">16.17</td><td style = \"text-align: left;\">16</td><td style = \"text-align: left;\">336</td><td style = \"text-align: right;\">0.89434</td><td style = \"text-align: right;\">0.4369</td><td style = \"text-align: left;\">Call</td></tr><tr><td style = \"text-align: right;\">&vellip;</td><td style = \"text-align: right;\">&vellip;</td><td style = \"text-align: right;\">&vellip;</td><td style = \"text-align: right;\">&vellip;</td><td style = \"text-align: right;\">&vellip;</td><td style = \"text-align: right;\">&vellip;</td><td style = \"text-align: right;\">&vellip;</td><td style = \"text-align: right;\">&vellip;</td><td style = \"text-align: right;\">&vellip;</td><td style = \"text-align: right;\">&vellip;</td><td style = \"text-align: right;\">&vellip;</td><td style = \"text-align: right;\">&vellip;</td></tr><tr><td class = \"rowNumber\" style = \"font-weight: bold; text-align: right;\">63</td><td style = \"text-align: right;\">97.5</td><td style = \"text-align: right;\">0.2264</td><td style = \"text-align: right;\">18.15</td><td style = \"text-align: right;\">18.28</td><td style = \"text-align: right;\">18.4</td><td style = \"text-align: right;\">15.35</td><td style = \"text-align: left;\">0</td><td style = \"text-align: left;\">29</td><td style = \"text-align: right;\">-0.90455</td><td style = \"text-align: right;\">0.3895</td><td style = \"text-align: left;\">Put</td></tr><tr><td class = \"rowNumber\" style = \"font-weight: bold; text-align: right;\">64</td><td style = \"text-align: right;\">100.0</td><td style = \"text-align: right;\">0.2579</td><td style = \"text-align: right;\">20.25</td><td style = \"text-align: right;\">20.55</td><td style = \"text-align: right;\">20.85</td><td style = \"text-align: right;\">20.85</td><td style = \"text-align: left;\">6</td><td style = \"text-align: left;\">67</td><td style = \"text-align: right;\">-0.89987</td><td style = \"text-align: right;\">0.4386</td><td style = \"text-align: left;\">Put</td></tr><tr><td class = \"rowNumber\" style = \"font-weight: bold; text-align: right;\">65</td><td style = \"text-align: right;\">105.0</td><td style = \"text-align: right;\">0.3208</td><td style = \"text-align: right;\">25.0</td><td style = \"text-align: right;\">25.55</td><td style = \"text-align: right;\">26.1</td><td style = \"text-align: right;\">23.03</td><td style = \"text-align: left;\">3</td><td style = \"text-align: left;\">2</td><td style = \"text-align: right;\">-0.95963</td><td style = \"text-align: right;\">0.4274</td><td style = \"text-align: left;\">Put</td></tr><tr><td class = \"rowNumber\" style = \"font-weight: bold; text-align: right;\">66</td><td style = \"text-align: right;\">110.0</td><td style = \"text-align: right;\">0.3836</td><td style = \"text-align: right;\">30.1</td><td style = \"text-align: right;\">30.5</td><td style = \"text-align: right;\">30.9</td><td style = \"text-align: right;\">0.0</td><td style = \"text-align: left;\">0</td><td style = \"text-align: left;\">0</td><td style = \"text-align: right;\">0.0</td><td style = \"text-align: right;\">0.0</td><td style = \"text-align: left;\">Put</td></tr><tr><td class = \"rowNumber\" style = \"font-weight: bold; text-align: right;\">67</td><td style = \"text-align: right;\">115.0</td><td style = \"text-align: right;\">0.4465</td><td style = \"text-align: right;\">35.15</td><td style = \"text-align: right;\">35.55</td><td style = \"text-align: right;\">35.95</td><td style = \"text-align: right;\">0.0</td><td style = \"text-align: left;\">0</td><td style = \"text-align: left;\">0</td><td style = \"text-align: right;\">-0.97452</td><td style = \"text-align: right;\">0.5366</td><td style = \"text-align: left;\">Put</td></tr><tr><td class = \"rowNumber\" style = \"font-weight: bold; text-align: right;\">68</td><td style = \"text-align: right;\">120.0</td><td style = \"text-align: right;\">0.5094</td><td style = \"text-align: right;\">39.9</td><td style = \"text-align: right;\">40.43</td><td style = \"text-align: right;\">40.95</td><td style = \"text-align: right;\">0.0</td><td style = \"text-align: left;\">0</td><td style = \"text-align: left;\">0</td><td style = \"text-align: right;\">-0.91343</td><td style = \"text-align: right;\">0.7005</td><td style = \"text-align: left;\">Put</td></tr><tr><td class = \"rowNumber\" style = \"font-weight: bold; text-align: right;\">69</td><td style = \"text-align: right;\">125.0</td><td style = \"text-align: right;\">0.5723</td><td style = \"text-align: right;\">44.9</td><td style = \"text-align: right;\">45.43</td><td style = \"text-align: right;\">45.95</td><td style = \"text-align: right;\">0.0</td><td style = \"text-align: left;\">0</td><td style = \"text-align: left;\">0</td><td style = \"text-align: right;\">-0.9202</td><td style = \"text-align: right;\">0.7526</td><td style = \"text-align: left;\">Put</td></tr><tr><td class = \"rowNumber\" style = \"font-weight: bold; text-align: right;\">70</td><td style = \"text-align: right;\">130.0</td><td style = \"text-align: right;\">0.6352</td><td style = \"text-align: right;\">49.9</td><td style = \"text-align: right;\">50.43</td><td style = \"text-align: right;\">50.95</td><td style = \"text-align: right;\">0.0</td><td style = \"text-align: left;\">0</td><td style = \"text-align: left;\">0</td><td style = \"text-align: right;\">-0.9231</td><td style = \"text-align: right;\">0.8019</td><td style = \"text-align: left;\">Put</td></tr><tr><td class = \"rowNumber\" style = \"font-weight: bold; text-align: right;\">71</td><td style = \"text-align: right;\">135.0</td><td style = \"text-align: right;\">0.6981</td><td style = \"text-align: right;\">55.0</td><td style = \"text-align: right;\">55.45</td><td style = \"text-align: right;\">55.9</td><td style = \"text-align: right;\">0.0</td><td style = \"text-align: left;\">0</td><td style = \"text-align: left;\">0</td><td style = \"text-align: right;\">-0.93076</td><td style = \"text-align: right;\">0.8373</td><td style = \"text-align: left;\">Put</td></tr><tr><td class = \"rowNumber\" style = \"font-weight: bold; text-align: right;\">72</td><td style = \"text-align: right;\">140.0</td><td style = \"text-align: right;\">0.761</td><td style = \"text-align: right;\">59.9</td><td style = \"text-align: right;\">60.4</td><td style = \"text-align: right;\">60.9</td><td style = \"text-align: right;\">0.0</td><td style = \"text-align: left;\">0</td><td style = \"text-align: left;\">0</td><td style = \"text-align: right;\">-0.93266</td><td style = \"text-align: right;\">0.8817</td><td style = \"text-align: left;\">Put</td></tr><tr><td class = \"rowNumber\" style = \"font-weight: bold; text-align: right;\">73</td><td style = \"text-align: right;\">145.0</td><td style = \"text-align: right;\">0.8239</td><td style = \"text-align: right;\">64.9</td><td style = \"text-align: right;\">65.4</td><td style = \"text-align: right;\">65.9</td><td style = \"text-align: right;\">0.0</td><td style = \"text-align: left;\">0</td><td style = \"text-align: left;\">0</td><td style = \"text-align: right;\">-0.93455</td><td style = \"text-align: right;\">0.9243</td><td style = \"text-align: left;\">Put</td></tr><tr><td class = \"rowNumber\" style = \"font-weight: bold; text-align: right;\">74</td><td style = \"text-align: right;\">150.0</td><td style = \"text-align: right;\">0.8868</td><td style = \"text-align: right;\">70.15</td><td style = \"text-align: right;\">70.55</td><td style = \"text-align: right;\">70.95</td><td style = \"text-align: right;\">66.15</td><td style = \"text-align: left;\">0</td><td style = \"text-align: left;\">0</td><td style = \"text-align: right;\">-0.97978</td><td style = \"text-align: right;\">0.8396</td><td style = \"text-align: left;\">Put</td></tr></tbody></table></div>"
      ],
      "text/latex": [
       "\\begin{tabular}{r|cccccccccc}\n",
       "\t& Strike & Moneyness & Bid & Mid & Ask & Last & Volume & Open Int & Delta & \\\\\n",
       "\t\\hline\n",
       "\t& Float64 & Float64 & Float64 & Float64 & Float64 & Float64 & String7 & String7 & Float64 & \\\\\n",
       "\t\\hline\n",
       "\t1 & 32.5 & 0.5912 & 46.9 & 47.22 & 47.55 & 49.16 & 0 & 2 & 0.99881 & $\\dots$ \\\\\n",
       "\t2 & 35.0 & 0.5597 & 44.4 & 44.8 & 45.2 & 39.75 & 0 & 1 & 0.99364 & $\\dots$ \\\\\n",
       "\t3 & 37.5 & 0.5283 & 41.95 & 42.33 & 42.7 & 0.0 & 0 & 0 & 0.99303 & $\\dots$ \\\\\n",
       "\t4 & 40.0 & 0.4969 & 39.5 & 39.9 & 40.3 & 46.57 & 0 & 24 & 0.98822 & $\\dots$ \\\\\n",
       "\t5 & 42.5 & 0.4654 & 36.9 & 37.35 & 37.8 & 43.15 & 0 & 1 & 0.99424 & $\\dots$ \\\\\n",
       "\t6 & 45.0 & 0.434 & 34.55 & 34.88 & 35.2 & 37.85 & 0 & 27 & 0.9936 & $\\dots$ \\\\\n",
       "\t7 & 47.5 & 0.4025 & 32.15 & 32.5 & 32.85 & 30.35 & 0 & 85 & 0.98231 & $\\dots$ \\\\\n",
       "\t8 & 50.0 & 0.3711 & 29.65 & 30.03 & 30.4 & 30.35 & 2 & 65 & 0.95655 & $\\dots$ \\\\\n",
       "\t9 & 55.0 & 0.3082 & 24.85 & 25.2 & 25.55 & 25.69 & 30 & 377 & 0.96381 & $\\dots$ \\\\\n",
       "\t10 & 57.5 & 0.2767 & 22.4 & 22.65 & 22.9 & 25.2 & 0 & 188 & 0.96785 & $\\dots$ \\\\\n",
       "\t11 & 60.0 & 0.2453 & 19.95 & 20.35 & 20.75 & 22.45 & 3 & 167 & 0.94546 & $\\dots$ \\\\\n",
       "\t12 & 62.5 & 0.2138 & 17.9 & 18.17 & 18.45 & 18.45 & 2 & 328 & 0.89447 & $\\dots$ \\\\\n",
       "\t13 & 65.0 & 0.1824 & 15.7 & 15.8 & 15.9 & 16.17 & 16 & 336 & 0.89434 & $\\dots$ \\\\\n",
       "\t14 & 67.5 & 0.1509 & 13.55 & 13.65 & 13.75 & 14.05 & 6 & 601 & 0.85654 & $\\dots$ \\\\\n",
       "\t15 & 70.0 & 0.1195 & 11.55 & 11.63 & 11.7 & 11.6 & 217 & 1,477 & 0.81008 & $\\dots$ \\\\\n",
       "\t16 & 72.5 & 0.0881 & 9.65 & 9.75 & 9.85 & 10.18 & 4 & 1,037 & 0.75127 & $\\dots$ \\\\\n",
       "\t17 & 75.0 & 0.0566 & 8.0 & 8.05 & 8.1 & 8.1 & 574 & 1,767 & 0.68398 & $\\dots$ \\\\\n",
       "\t18 & 77.5 & 0.0252 & 6.45 & 6.53 & 6.6 & 6.5 & 402 & 409 & 0.61315 & $\\dots$ \\\\\n",
       "\t19 & 80.0 & -0.0063 & 5.15 & 5.2 & 5.25 & 5.21 & 827 & 4,243 & 0.53687 & $\\dots$ \\\\\n",
       "\t20 & 82.5 & -0.0377 & 4.05 & 4.1 & 4.15 & 4.11 & 573 & 5,190 & 0.4609 & $\\dots$ \\\\\n",
       "\t21 & 85.0 & -0.0692 & 3.1 & 3.15 & 3.2 & 3.15 & 22,430 & 23,281 & 0.38647 & $\\dots$ \\\\\n",
       "\t22 & 87.5 & -0.1006 & 2.41 & 2.44 & 2.46 & 2.4 & 1,183 & 9,508 & 0.31992 & $\\dots$ \\\\\n",
       "\t23 & 90.0 & -0.1321 & 1.84 & 1.87 & 1.89 & 1.89 & 2,868 & 9,954 & 0.26252 & $\\dots$ \\\\\n",
       "\t24 & 92.5 & -0.1635 & 1.41 & 1.43 & 1.45 & 1.44 & 5,563 & 9,912 & 0.21183 & $\\dots$ \\\\\n",
       "\t25 & 95.0 & -0.195 & 1.07 & 1.12 & 1.16 & 1.16 & 103 & 7,270 & 0.17495 & $\\dots$ \\\\\n",
       "\t26 & 97.5 & -0.2264 & 0.82 & 0.85 & 0.88 & 0.9 & 41 & 391 & 0.13641 & $\\dots$ \\\\\n",
       "\t27 & 100.0 & -0.2579 & 0.64 & 0.66 & 0.68 & 0.68 & 702 & 10,624 & 0.11153 & $\\dots$ \\\\\n",
       "\t28 & 105.0 & -0.3208 & 0.39 & 0.41 & 0.42 & 0.41 & 1,302 & 6,662 & 0.07138 & $\\dots$ \\\\\n",
       "\t29 & 110.0 & -0.3836 & 0.24 & 0.26 & 0.28 & 0.27 & 29 & 675 & 0.04828 & $\\dots$ \\\\\n",
       "\t30 & 115.0 & -0.4465 & 0.16 & 0.18 & 0.19 & 0.17 & 138 & 3,507 & 0.03156 & $\\dots$ \\\\\n",
       "\t$\\dots$ & $\\dots$ & $\\dots$ & $\\dots$ & $\\dots$ & $\\dots$ & $\\dots$ & $\\dots$ & $\\dots$ & $\\dots$ &  \\\\\n",
       "\\end{tabular}\n"
      ],
      "text/plain": [
       "\u001b[1m74×11 DataFrame\u001b[0m\n",
       "\u001b[1m Row \u001b[0m│\u001b[1m Strike  \u001b[0m\u001b[1m Moneyness \u001b[0m\u001b[1m Bid     \u001b[0m\u001b[1m Mid     \u001b[0m\u001b[1m Ask     \u001b[0m\u001b[1m Last    \u001b[0m\u001b[1m Volume  \u001b[0m\u001b[1m Open I\u001b[0m ⋯\n",
       "     │\u001b[90m Float64 \u001b[0m\u001b[90m Float64   \u001b[0m\u001b[90m Float64 \u001b[0m\u001b[90m Float64 \u001b[0m\u001b[90m Float64 \u001b[0m\u001b[90m Float64 \u001b[0m\u001b[90m String7 \u001b[0m\u001b[90m String\u001b[0m ⋯\n",
       "─────┼──────────────────────────────────────────────────────────────────────────\n",
       "   1 │    32.5     0.5912    46.9     47.22    47.55    49.16  0        2      ⋯\n",
       "   2 │    35.0     0.5597    44.4     44.8     45.2     39.75  0        1\n",
       "   3 │    37.5     0.5283    41.95    42.33    42.7      0.0   0        0\n",
       "   4 │    40.0     0.4969    39.5     39.9     40.3     46.57  0        24\n",
       "   5 │    42.5     0.4654    36.9     37.35    37.8     43.15  0        1      ⋯\n",
       "   6 │    45.0     0.434     34.55    34.88    35.2     37.85  0        27\n",
       "   7 │    47.5     0.4025    32.15    32.5     32.85    30.35  0        85\n",
       "   8 │    50.0     0.3711    29.65    30.03    30.4     30.35  2        65\n",
       "   9 │    55.0     0.3082    24.85    25.2     25.55    25.69  30       377    ⋯\n",
       "  10 │    57.5     0.2767    22.4     22.65    22.9     25.2   0        188\n",
       "  11 │    60.0     0.2453    19.95    20.35    20.75    22.45  3        167\n",
       "  ⋮  │    ⋮         ⋮         ⋮        ⋮        ⋮        ⋮        ⋮        ⋮   ⋱\n",
       "  65 │   105.0     0.3208    25.0     25.55    26.1     23.03  3        2\n",
       "  66 │   110.0     0.3836    30.1     30.5     30.9      0.0   0        0      ⋯\n",
       "  67 │   115.0     0.4465    35.15    35.55    35.95     0.0   0        0\n",
       "  68 │   120.0     0.5094    39.9     40.43    40.95     0.0   0        0\n",
       "  69 │   125.0     0.5723    44.9     45.43    45.95     0.0   0        0\n",
       "  70 │   130.0     0.6352    49.9     50.43    50.95     0.0   0        0      ⋯\n",
       "  71 │   135.0     0.6981    55.0     55.45    55.9      0.0   0        0\n",
       "  72 │   140.0     0.761     59.9     60.4     60.9      0.0   0        0\n",
       "  73 │   145.0     0.8239    64.9     65.4     65.9      0.0   0        0\n",
       "  74 │   150.0     0.8868    70.15    70.55    70.95    66.15  0        0      ⋯\n",
       "\u001b[36m                                                   4 columns and 53 rows omitted\u001b[0m"
      ]
     },
     "execution_count": 2,
     "metadata": {},
     "output_type": "execute_result"
    }
   ],
   "source": [
    "dataset = MyOptionsChainDataSet()"
   ]
  },
  {
   "cell_type": "markdown",
   "id": "63d7a799-0575-4598-8f46-39d371dd4f7a",
   "metadata": {},
   "source": [
    "## Task 1: Select the strike prices for the `call` and `put` legs of the strangle\n",
    "Let the `put` leg of the stangle have index `1`, and the `call` leg have index `2`. For a stangle, the strike price of the `put` leg $K_{1}$ is less than the strike price of the `call` leg $K_{2}$, but the current share price $S_{\\circ}$ is in between the strikes, i.e., $K_{1}<S_{\\circ}<K_{2}$.\n",
    "* The share price of `MU` is $S_{o}$ = `79.50 USD/share` for this options chain. Set this value in the `Sₒ` variable:"
   ]
  },
  {
   "cell_type": "code",
   "execution_count": 3,
   "id": "d1db3ab5-c479-4a1f-a12a-4b68802232d1",
   "metadata": {},
   "outputs": [],
   "source": [
    "Sₒ = 79.50; # USD/share"
   ]
  },
  {
   "cell_type": "markdown",
   "id": "98cab3cb-99f6-47a2-9e31-bf35679d0493",
   "metadata": {},
   "source": [
    "Now, let's select random strike prices for the `put` and `call` legs such that the inequality is true. Filter `dataset` to find the `put` contracts with $K_{1}<S_{\\circ}$. To do this, we'll use the [filter function](https://dataframes.juliadata.org/stable/lib/functions/#Base.filter) exported by the [DataFrames.jl package](https://github.com/JuliaData/DataFrames.jl) in combination with the [Julia pipe operator](https://docs.julialang.org/en/v1/manual/functions/#Function-composition-and-piping)"
   ]
  },
  {
   "cell_type": "code",
   "execution_count": 4,
   "id": "5bc4c4b5-cda2-403f-bcde-4971b072e99c",
   "metadata": {},
   "outputs": [
    {
     "data": {
      "text/html": [
       "<div><div style = \"float: left;\"><span>18×11 DataFrame</span></div><div style = \"clear: both;\"></div></div><div class = \"data-frame\" style = \"overflow-x: scroll;\"><table class = \"data-frame\" style = \"margin-bottom: 6px;\"><thead><tr class = \"header\"><th class = \"rowNumber\" style = \"font-weight: bold; text-align: right;\">Row</th><th style = \"text-align: left;\">Strike</th><th style = \"text-align: left;\">Moneyness</th><th style = \"text-align: left;\">Bid</th><th style = \"text-align: left;\">Mid</th><th style = \"text-align: left;\">Ask</th><th style = \"text-align: left;\">Last</th><th style = \"text-align: left;\">Volume</th><th style = \"text-align: left;\">Open Int</th><th style = \"text-align: left;\">Delta</th><th style = \"text-align: left;\">IV</th><th style = \"text-align: left;\">Type</th></tr><tr class = \"subheader headerLastRow\"><th class = \"rowNumber\" style = \"font-weight: bold; text-align: right;\"></th><th title = \"Float64\" style = \"text-align: left;\">Float64</th><th title = \"Float64\" style = \"text-align: left;\">Float64</th><th title = \"Float64\" style = \"text-align: left;\">Float64</th><th title = \"Float64\" style = \"text-align: left;\">Float64</th><th title = \"Float64\" style = \"text-align: left;\">Float64</th><th title = \"Float64\" style = \"text-align: left;\">Float64</th><th title = \"String7\" style = \"text-align: left;\">String7</th><th title = \"String7\" style = \"text-align: left;\">String7</th><th title = \"Float64\" style = \"text-align: left;\">Float64</th><th title = \"Float64\" style = \"text-align: left;\">Float64</th><th title = \"String7\" style = \"text-align: left;\">String7</th></tr></thead><tbody><tr><td class = \"rowNumber\" style = \"font-weight: bold; text-align: right;\">1</td><td style = \"text-align: right;\">32.5</td><td style = \"text-align: right;\">-0.5912</td><td style = \"text-align: right;\">0.0</td><td style = \"text-align: right;\">0.03</td><td style = \"text-align: right;\">0.05</td><td style = \"text-align: right;\">0.04</td><td style = \"text-align: left;\">0</td><td style = \"text-align: left;\">3</td><td style = \"text-align: right;\">0.0</td><td style = \"text-align: right;\">0.0</td><td style = \"text-align: left;\">Put</td></tr><tr><td class = \"rowNumber\" style = \"font-weight: bold; text-align: right;\">2</td><td style = \"text-align: right;\">35.0</td><td style = \"text-align: right;\">-0.5597</td><td style = \"text-align: right;\">0.0</td><td style = \"text-align: right;\">0.01</td><td style = \"text-align: right;\">0.02</td><td style = \"text-align: right;\">0.14</td><td style = \"text-align: left;\">0</td><td style = \"text-align: left;\">35</td><td style = \"text-align: right;\">0.0</td><td style = \"text-align: right;\">0.0</td><td style = \"text-align: left;\">Put</td></tr><tr><td class = \"rowNumber\" style = \"font-weight: bold; text-align: right;\">3</td><td style = \"text-align: right;\">37.5</td><td style = \"text-align: right;\">-0.5283</td><td style = \"text-align: right;\">0.0</td><td style = \"text-align: right;\">0.07</td><td style = \"text-align: right;\">0.14</td><td style = \"text-align: right;\">0.01</td><td style = \"text-align: left;\">0</td><td style = \"text-align: left;\">420</td><td style = \"text-align: right;\">0.0</td><td style = \"text-align: right;\">0.0</td><td style = \"text-align: left;\">Put</td></tr><tr><td class = \"rowNumber\" style = \"font-weight: bold; text-align: right;\">4</td><td style = \"text-align: right;\">40.0</td><td style = \"text-align: right;\">-0.4969</td><td style = \"text-align: right;\">0.01</td><td style = \"text-align: right;\">0.02</td><td style = \"text-align: right;\">0.03</td><td style = \"text-align: right;\">0.04</td><td style = \"text-align: left;\">0</td><td style = \"text-align: left;\">238</td><td style = \"text-align: right;\">-0.00292</td><td style = \"text-align: right;\">0.6422</td><td style = \"text-align: left;\">Put</td></tr><tr><td class = \"rowNumber\" style = \"font-weight: bold; text-align: right;\">5</td><td style = \"text-align: right;\">42.5</td><td style = \"text-align: right;\">-0.4654</td><td style = \"text-align: right;\">0.02</td><td style = \"text-align: right;\">0.1</td><td style = \"text-align: right;\">0.17</td><td style = \"text-align: right;\">0.01</td><td style = \"text-align: left;\">1</td><td style = \"text-align: left;\">197</td><td style = \"text-align: right;\">-0.01077</td><td style = \"text-align: right;\">0.7152</td><td style = \"text-align: left;\">Put</td></tr><tr><td class = \"rowNumber\" style = \"font-weight: bold; text-align: right;\">6</td><td style = \"text-align: right;\">45.0</td><td style = \"text-align: right;\">-0.434</td><td style = \"text-align: right;\">0.01</td><td style = \"text-align: right;\">0.05</td><td style = \"text-align: right;\">0.09</td><td style = \"text-align: right;\">0.07</td><td style = \"text-align: left;\">0</td><td style = \"text-align: left;\">344</td><td style = \"text-align: right;\">-0.00716</td><td style = \"text-align: right;\">0.602</td><td style = \"text-align: left;\">Put</td></tr><tr><td class = \"rowNumber\" style = \"font-weight: bold; text-align: right;\">7</td><td style = \"text-align: right;\">47.5</td><td style = \"text-align: right;\">-0.4025</td><td style = \"text-align: right;\">0.05</td><td style = \"text-align: right;\">0.08</td><td style = \"text-align: right;\">0.11</td><td style = \"text-align: right;\">0.08</td><td style = \"text-align: left;\">15</td><td style = \"text-align: left;\">3,191</td><td style = \"text-align: right;\">-0.0112</td><td style = \"text-align: right;\">0.5867</td><td style = \"text-align: left;\">Put</td></tr><tr><td class = \"rowNumber\" style = \"font-weight: bold; text-align: right;\">8</td><td style = \"text-align: right;\">50.0</td><td style = \"text-align: right;\">-0.3711</td><td style = \"text-align: right;\">0.11</td><td style = \"text-align: right;\">0.13</td><td style = \"text-align: right;\">0.14</td><td style = \"text-align: right;\">0.1</td><td style = \"text-align: left;\">2</td><td style = \"text-align: left;\">815</td><td style = \"text-align: right;\">-0.01708</td><td style = \"text-align: right;\">0.572</td><td style = \"text-align: left;\">Put</td></tr><tr><td class = \"rowNumber\" style = \"font-weight: bold; text-align: right;\">9</td><td style = \"text-align: right;\">55.0</td><td style = \"text-align: right;\">-0.3082</td><td style = \"text-align: right;\">0.2</td><td style = \"text-align: right;\">0.22</td><td style = \"text-align: right;\">0.23</td><td style = \"text-align: right;\">0.21</td><td style = \"text-align: left;\">11</td><td style = \"text-align: left;\">4,332</td><td style = \"text-align: right;\">-0.02986</td><td style = \"text-align: right;\">0.5137</td><td style = \"text-align: left;\">Put</td></tr><tr><td class = \"rowNumber\" style = \"font-weight: bold; text-align: right;\">10</td><td style = \"text-align: right;\">57.5</td><td style = \"text-align: right;\">-0.2767</td><td style = \"text-align: right;\">0.28</td><td style = \"text-align: right;\">0.3</td><td style = \"text-align: right;\">0.31</td><td style = \"text-align: right;\">0.3</td><td style = \"text-align: left;\">25</td><td style = \"text-align: left;\">1,084</td><td style = \"text-align: right;\">-0.04209</td><td style = \"text-align: right;\">0.4954</td><td style = \"text-align: left;\">Put</td></tr><tr><td class = \"rowNumber\" style = \"font-weight: bold; text-align: right;\">11</td><td style = \"text-align: right;\">60.0</td><td style = \"text-align: right;\">-0.2453</td><td style = \"text-align: right;\">0.38</td><td style = \"text-align: right;\">0.4</td><td style = \"text-align: right;\">0.42</td><td style = \"text-align: right;\">0.4</td><td style = \"text-align: left;\">27</td><td style = \"text-align: left;\">2,485</td><td style = \"text-align: right;\">-0.05638</td><td style = \"text-align: right;\">0.4712</td><td style = \"text-align: left;\">Put</td></tr><tr><td class = \"rowNumber\" style = \"font-weight: bold; text-align: right;\">12</td><td style = \"text-align: right;\">62.5</td><td style = \"text-align: right;\">-0.2138</td><td style = \"text-align: right;\">0.55</td><td style = \"text-align: right;\">0.57</td><td style = \"text-align: right;\">0.58</td><td style = \"text-align: right;\">0.52</td><td style = \"text-align: left;\">1</td><td style = \"text-align: left;\">4,261</td><td style = \"text-align: right;\">-0.07795</td><td style = \"text-align: right;\">0.4545</td><td style = \"text-align: left;\">Put</td></tr><tr><td class = \"rowNumber\" style = \"font-weight: bold; text-align: right;\">13</td><td style = \"text-align: right;\">65.0</td><td style = \"text-align: right;\">-0.1824</td><td style = \"text-align: right;\">0.74</td><td style = \"text-align: right;\">0.78</td><td style = \"text-align: right;\">0.81</td><td style = \"text-align: right;\">0.78</td><td style = \"text-align: left;\">2</td><td style = \"text-align: left;\">2,156</td><td style = \"text-align: right;\">-0.10551</td><td style = \"text-align: right;\">0.4368</td><td style = \"text-align: left;\">Put</td></tr><tr><td class = \"rowNumber\" style = \"font-weight: bold; text-align: right;\">14</td><td style = \"text-align: right;\">67.5</td><td style = \"text-align: right;\">-0.1509</td><td style = \"text-align: right;\">1.07</td><td style = \"text-align: right;\">1.1</td><td style = \"text-align: right;\">1.13</td><td style = \"text-align: right;\">1.13</td><td style = \"text-align: left;\">23</td><td style = \"text-align: left;\">1,324</td><td style = \"text-align: right;\">-0.14498</td><td style = \"text-align: right;\">0.428</td><td style = \"text-align: left;\">Put</td></tr><tr><td class = \"rowNumber\" style = \"font-weight: bold; text-align: right;\">15</td><td style = \"text-align: right;\">70.0</td><td style = \"text-align: right;\">-0.1195</td><td style = \"text-align: right;\">1.53</td><td style = \"text-align: right;\">1.56</td><td style = \"text-align: right;\">1.58</td><td style = \"text-align: right;\">1.62</td><td style = \"text-align: left;\">614</td><td style = \"text-align: left;\">4,069</td><td style = \"text-align: right;\">-0.19147</td><td style = \"text-align: right;\">0.4149</td><td style = \"text-align: left;\">Put</td></tr><tr><td class = \"rowNumber\" style = \"font-weight: bold; text-align: right;\">16</td><td style = \"text-align: right;\">72.5</td><td style = \"text-align: right;\">-0.0881</td><td style = \"text-align: right;\">2.13</td><td style = \"text-align: right;\">2.16</td><td style = \"text-align: right;\">2.18</td><td style = \"text-align: right;\">2.21</td><td style = \"text-align: left;\">865</td><td style = \"text-align: left;\">2,992</td><td style = \"text-align: right;\">-0.24963</td><td style = \"text-align: right;\">0.407</td><td style = \"text-align: left;\">Put</td></tr><tr><td class = \"rowNumber\" style = \"font-weight: bold; text-align: right;\">17</td><td style = \"text-align: right;\">75.0</td><td style = \"text-align: right;\">-0.0566</td><td style = \"text-align: right;\">2.9</td><td style = \"text-align: right;\">2.93</td><td style = \"text-align: right;\">2.96</td><td style = \"text-align: right;\">2.97</td><td style = \"text-align: left;\">559</td><td style = \"text-align: left;\">3,034</td><td style = \"text-align: right;\">-0.31662</td><td style = \"text-align: right;\">0.4005</td><td style = \"text-align: left;\">Put</td></tr><tr><td class = \"rowNumber\" style = \"font-weight: bold; text-align: right;\">18</td><td style = \"text-align: right;\">77.5</td><td style = \"text-align: right;\">-0.0252</td><td style = \"text-align: right;\">3.85</td><td style = \"text-align: right;\">3.9</td><td style = \"text-align: right;\">3.95</td><td style = \"text-align: right;\">4.0</td><td style = \"text-align: left;\">456</td><td style = \"text-align: left;\">4,873</td><td style = \"text-align: right;\">-0.39082</td><td style = \"text-align: right;\">0.3954</td><td style = \"text-align: left;\">Put</td></tr></tbody></table></div>"
      ],
      "text/latex": [
       "\\begin{tabular}{r|cccccccccc}\n",
       "\t& Strike & Moneyness & Bid & Mid & Ask & Last & Volume & Open Int & Delta & \\\\\n",
       "\t\\hline\n",
       "\t& Float64 & Float64 & Float64 & Float64 & Float64 & Float64 & String7 & String7 & Float64 & \\\\\n",
       "\t\\hline\n",
       "\t1 & 32.5 & -0.5912 & 0.0 & 0.03 & 0.05 & 0.04 & 0 & 3 & 0.0 & $\\dots$ \\\\\n",
       "\t2 & 35.0 & -0.5597 & 0.0 & 0.01 & 0.02 & 0.14 & 0 & 35 & 0.0 & $\\dots$ \\\\\n",
       "\t3 & 37.5 & -0.5283 & 0.0 & 0.07 & 0.14 & 0.01 & 0 & 420 & 0.0 & $\\dots$ \\\\\n",
       "\t4 & 40.0 & -0.4969 & 0.01 & 0.02 & 0.03 & 0.04 & 0 & 238 & -0.00292 & $\\dots$ \\\\\n",
       "\t5 & 42.5 & -0.4654 & 0.02 & 0.1 & 0.17 & 0.01 & 1 & 197 & -0.01077 & $\\dots$ \\\\\n",
       "\t6 & 45.0 & -0.434 & 0.01 & 0.05 & 0.09 & 0.07 & 0 & 344 & -0.00716 & $\\dots$ \\\\\n",
       "\t7 & 47.5 & -0.4025 & 0.05 & 0.08 & 0.11 & 0.08 & 15 & 3,191 & -0.0112 & $\\dots$ \\\\\n",
       "\t8 & 50.0 & -0.3711 & 0.11 & 0.13 & 0.14 & 0.1 & 2 & 815 & -0.01708 & $\\dots$ \\\\\n",
       "\t9 & 55.0 & -0.3082 & 0.2 & 0.22 & 0.23 & 0.21 & 11 & 4,332 & -0.02986 & $\\dots$ \\\\\n",
       "\t10 & 57.5 & -0.2767 & 0.28 & 0.3 & 0.31 & 0.3 & 25 & 1,084 & -0.04209 & $\\dots$ \\\\\n",
       "\t11 & 60.0 & -0.2453 & 0.38 & 0.4 & 0.42 & 0.4 & 27 & 2,485 & -0.05638 & $\\dots$ \\\\\n",
       "\t12 & 62.5 & -0.2138 & 0.55 & 0.57 & 0.58 & 0.52 & 1 & 4,261 & -0.07795 & $\\dots$ \\\\\n",
       "\t13 & 65.0 & -0.1824 & 0.74 & 0.78 & 0.81 & 0.78 & 2 & 2,156 & -0.10551 & $\\dots$ \\\\\n",
       "\t14 & 67.5 & -0.1509 & 1.07 & 1.1 & 1.13 & 1.13 & 23 & 1,324 & -0.14498 & $\\dots$ \\\\\n",
       "\t15 & 70.0 & -0.1195 & 1.53 & 1.56 & 1.58 & 1.62 & 614 & 4,069 & -0.19147 & $\\dots$ \\\\\n",
       "\t16 & 72.5 & -0.0881 & 2.13 & 2.16 & 2.18 & 2.21 & 865 & 2,992 & -0.24963 & $\\dots$ \\\\\n",
       "\t17 & 75.0 & -0.0566 & 2.9 & 2.93 & 2.96 & 2.97 & 559 & 3,034 & -0.31662 & $\\dots$ \\\\\n",
       "\t18 & 77.5 & -0.0252 & 3.85 & 3.9 & 3.95 & 4.0 & 456 & 4,873 & -0.39082 & $\\dots$ \\\\\n",
       "\\end{tabular}\n"
      ],
      "text/plain": [
       "\u001b[1m18×11 DataFrame\u001b[0m\n",
       "\u001b[1m Row \u001b[0m│\u001b[1m Strike  \u001b[0m\u001b[1m Moneyness \u001b[0m\u001b[1m Bid     \u001b[0m\u001b[1m Mid     \u001b[0m\u001b[1m Ask     \u001b[0m\u001b[1m Last    \u001b[0m\u001b[1m Volume  \u001b[0m\u001b[1m Open I\u001b[0m ⋯\n",
       "     │\u001b[90m Float64 \u001b[0m\u001b[90m Float64   \u001b[0m\u001b[90m Float64 \u001b[0m\u001b[90m Float64 \u001b[0m\u001b[90m Float64 \u001b[0m\u001b[90m Float64 \u001b[0m\u001b[90m String7 \u001b[0m\u001b[90m String\u001b[0m ⋯\n",
       "─────┼──────────────────────────────────────────────────────────────────────────\n",
       "   1 │    32.5    -0.5912     0.0      0.03     0.05     0.04  0        3      ⋯\n",
       "   2 │    35.0    -0.5597     0.0      0.01     0.02     0.14  0        35\n",
       "   3 │    37.5    -0.5283     0.0      0.07     0.14     0.01  0        420\n",
       "   4 │    40.0    -0.4969     0.01     0.02     0.03     0.04  0        238\n",
       "   5 │    42.5    -0.4654     0.02     0.1      0.17     0.01  1        197    ⋯\n",
       "   6 │    45.0    -0.434      0.01     0.05     0.09     0.07  0        344\n",
       "   7 │    47.5    -0.4025     0.05     0.08     0.11     0.08  15       3,191\n",
       "   8 │    50.0    -0.3711     0.11     0.13     0.14     0.1   2        815\n",
       "   9 │    55.0    -0.3082     0.2      0.22     0.23     0.21  11       4,332  ⋯\n",
       "  10 │    57.5    -0.2767     0.28     0.3      0.31     0.3   25       1,084\n",
       "  11 │    60.0    -0.2453     0.38     0.4      0.42     0.4   27       2,485\n",
       "  12 │    62.5    -0.2138     0.55     0.57     0.58     0.52  1        4,261\n",
       "  13 │    65.0    -0.1824     0.74     0.78     0.81     0.78  2        2,156  ⋯\n",
       "  14 │    67.5    -0.1509     1.07     1.1      1.13     1.13  23       1,324\n",
       "  15 │    70.0    -0.1195     1.53     1.56     1.58     1.62  614      4,069\n",
       "  16 │    72.5    -0.0881     2.13     2.16     2.18     2.21  865      2,992\n",
       "  17 │    75.0    -0.0566     2.9      2.93     2.96     2.97  559      3,034  ⋯\n",
       "  18 │    77.5    -0.0252     3.85     3.9      3.95     4.0   456      4,873\n",
       "\u001b[36m                                                               4 columns omitted\u001b[0m"
      ]
     },
     "execution_count": 4,
     "metadata": {},
     "output_type": "execute_result"
    }
   ],
   "source": [
    "put_contracts = filter(:Type=>x->x == \"Put\", dataset) |> y -> filter(:Strike=> x-> x<Sₒ, y)"
   ]
  },
  {
   "cell_type": "markdown",
   "id": "8f8e5cf0-aa8e-488e-a8ce-d180fe9e4be8",
   "metadata": {},
   "source": [
    "Select a random contract from the `put_contracts` collection; this will be our first leg of the strangle. Save this data in the `put_leg_data` variable, which is type [DataFrameRow](https://dataframes.juliadata.org/stable/lib/types/#DataFrames.DataFrameRow):"
   ]
  },
  {
   "cell_type": "code",
   "execution_count": 5,
   "id": "77aee6bc-0d48-465b-bfc2-a883961f404a",
   "metadata": {},
   "outputs": [
    {
     "data": {
      "text/html": [
       "<div><div style = \"float: left;\"><span>DataFrameRow (11 columns)</span></div><div style = \"clear: both;\"></div></div><div class = \"data-frame\" style = \"overflow-x: scroll;\"><table class = \"data-frame\" style = \"margin-bottom: 6px;\"><thead><tr class = \"header\"><th class = \"rowLabel\" style = \"font-weight: bold; text-align: right;\">Row</th><th style = \"text-align: left;\">Strike</th><th style = \"text-align: left;\">Moneyness</th><th style = \"text-align: left;\">Bid</th><th style = \"text-align: left;\">Mid</th><th style = \"text-align: left;\">Ask</th><th style = \"text-align: left;\">Last</th><th style = \"text-align: left;\">Volume</th><th style = \"text-align: left;\">Open Int</th><th style = \"text-align: left;\">Delta</th><th style = \"text-align: left;\">IV</th><th style = \"text-align: left;\">Type</th></tr><tr class = \"subheader headerLastRow\"><th class = \"rowLabel\" style = \"font-weight: bold; text-align: right;\"></th><th title = \"Float64\" style = \"text-align: left;\">Float64</th><th title = \"Float64\" style = \"text-align: left;\">Float64</th><th title = \"Float64\" style = \"text-align: left;\">Float64</th><th title = \"Float64\" style = \"text-align: left;\">Float64</th><th title = \"Float64\" style = \"text-align: left;\">Float64</th><th title = \"Float64\" style = \"text-align: left;\">Float64</th><th title = \"String7\" style = \"text-align: left;\">String7</th><th title = \"String7\" style = \"text-align: left;\">String7</th><th title = \"Float64\" style = \"text-align: left;\">Float64</th><th title = \"Float64\" style = \"text-align: left;\">Float64</th><th title = \"String7\" style = \"text-align: left;\">String7</th></tr></thead><tbody><tr><td class = \"rowLabel\" style = \"font-weight: bold; text-align: right;\">5</td><td style = \"text-align: right;\">42.5</td><td style = \"text-align: right;\">-0.4654</td><td style = \"text-align: right;\">0.02</td><td style = \"text-align: right;\">0.1</td><td style = \"text-align: right;\">0.17</td><td style = \"text-align: right;\">0.01</td><td style = \"text-align: left;\">1</td><td style = \"text-align: left;\">197</td><td style = \"text-align: right;\">-0.01077</td><td style = \"text-align: right;\">0.7152</td><td style = \"text-align: left;\">Put</td></tr></tbody></table></div>"
      ],
      "text/latex": [
       "\\begin{tabular}{r|cccccccccc}\n",
       "\t& Strike & Moneyness & Bid & Mid & Ask & Last & Volume & Open Int & Delta & \\\\\n",
       "\t\\hline\n",
       "\t& Float64 & Float64 & Float64 & Float64 & Float64 & Float64 & String7 & String7 & Float64 & \\\\\n",
       "\t\\hline\n",
       "\t5 & 42.5 & -0.4654 & 0.02 & 0.1 & 0.17 & 0.01 & 1 & 197 & -0.01077 & $\\dots$ \\\\\n",
       "\\end{tabular}\n"
      ],
      "text/plain": [
       "\u001b[1mDataFrameRow\u001b[0m\n",
       "\u001b[1m Row \u001b[0m│\u001b[1m Strike  \u001b[0m\u001b[1m Moneyness \u001b[0m\u001b[1m Bid     \u001b[0m\u001b[1m Mid     \u001b[0m\u001b[1m Ask     \u001b[0m\u001b[1m Last    \u001b[0m\u001b[1m Volume  \u001b[0m\u001b[1m Open I\u001b[0m ⋯\n",
       "     │\u001b[90m Float64 \u001b[0m\u001b[90m Float64   \u001b[0m\u001b[90m Float64 \u001b[0m\u001b[90m Float64 \u001b[0m\u001b[90m Float64 \u001b[0m\u001b[90m Float64 \u001b[0m\u001b[90m String7 \u001b[0m\u001b[90m String\u001b[0m ⋯\n",
       "─────┼──────────────────────────────────────────────────────────────────────────\n",
       "   5 │    42.5    -0.4654     0.02      0.1     0.17     0.01  1        197    ⋯\n",
       "\u001b[36m                                                               4 columns omitted\u001b[0m"
      ]
     },
     "execution_count": 5,
     "metadata": {},
     "output_type": "execute_result"
    }
   ],
   "source": [
    "number_of_put_contracts = nrow(put_contracts)\n",
    "put_leg_data = put_contracts[rand(1:number_of_put_contracts),:]"
   ]
  },
  {
   "cell_type": "markdown",
   "id": "425f7de6-afb0-4a09-b345-93106b12f355",
   "metadata": {},
   "source": [
    "Do the same procedure, but now for the `call` contracts; save the data for the random `call` contract in the `call_leg_data` variable (which is also type  type [DataFrameRow](https://dataframes.juliadata.org/stable/lib/types/#DataFrames.DataFrameRow)):"
   ]
  },
  {
   "cell_type": "code",
   "execution_count": 6,
   "id": "3d232daf-9cf2-46fd-9bf2-f8ddea9f83b1",
   "metadata": {},
   "outputs": [
    {
     "data": {
      "text/html": [
       "<div><div style = \"float: left;\"><span>DataFrameRow (11 columns)</span></div><div style = \"clear: both;\"></div></div><div class = \"data-frame\" style = \"overflow-x: scroll;\"><table class = \"data-frame\" style = \"margin-bottom: 6px;\"><thead><tr class = \"header\"><th class = \"rowLabel\" style = \"font-weight: bold; text-align: right;\">Row</th><th style = \"text-align: left;\">Strike</th><th style = \"text-align: left;\">Moneyness</th><th style = \"text-align: left;\">Bid</th><th style = \"text-align: left;\">Mid</th><th style = \"text-align: left;\">Ask</th><th style = \"text-align: left;\">Last</th><th style = \"text-align: left;\">Volume</th><th style = \"text-align: left;\">Open Int</th><th style = \"text-align: left;\">Delta</th><th style = \"text-align: left;\">IV</th><th style = \"text-align: left;\">Type</th></tr><tr class = \"subheader headerLastRow\"><th class = \"rowLabel\" style = \"font-weight: bold; text-align: right;\"></th><th title = \"Float64\" style = \"text-align: left;\">Float64</th><th title = \"Float64\" style = \"text-align: left;\">Float64</th><th title = \"Float64\" style = \"text-align: left;\">Float64</th><th title = \"Float64\" style = \"text-align: left;\">Float64</th><th title = \"Float64\" style = \"text-align: left;\">Float64</th><th title = \"Float64\" style = \"text-align: left;\">Float64</th><th title = \"String7\" style = \"text-align: left;\">String7</th><th title = \"String7\" style = \"text-align: left;\">String7</th><th title = \"Float64\" style = \"text-align: left;\">Float64</th><th title = \"Float64\" style = \"text-align: left;\">Float64</th><th title = \"String7\" style = \"text-align: left;\">String7</th></tr></thead><tbody><tr><td class = \"rowLabel\" style = \"font-weight: bold; text-align: right;\">19</td><td style = \"text-align: right;\">150.0</td><td style = \"text-align: right;\">-0.8868</td><td style = \"text-align: right;\">0.0</td><td style = \"text-align: right;\">0.03</td><td style = \"text-align: right;\">0.06</td><td style = \"text-align: right;\">0.01</td><td style = \"text-align: left;\">72</td><td style = \"text-align: left;\">22</td><td style = \"text-align: right;\">0.00214</td><td style = \"text-align: right;\">0.513</td><td style = \"text-align: left;\">Call</td></tr></tbody></table></div>"
      ],
      "text/latex": [
       "\\begin{tabular}{r|cccccccccc}\n",
       "\t& Strike & Moneyness & Bid & Mid & Ask & Last & Volume & Open Int & Delta & \\\\\n",
       "\t\\hline\n",
       "\t& Float64 & Float64 & Float64 & Float64 & Float64 & Float64 & String7 & String7 & Float64 & \\\\\n",
       "\t\\hline\n",
       "\t19 & 150.0 & -0.8868 & 0.0 & 0.03 & 0.06 & 0.01 & 72 & 22 & 0.00214 & $\\dots$ \\\\\n",
       "\\end{tabular}\n"
      ],
      "text/plain": [
       "\u001b[1mDataFrameRow\u001b[0m\n",
       "\u001b[1m Row \u001b[0m│\u001b[1m Strike  \u001b[0m\u001b[1m Moneyness \u001b[0m\u001b[1m Bid     \u001b[0m\u001b[1m Mid     \u001b[0m\u001b[1m Ask     \u001b[0m\u001b[1m Last    \u001b[0m\u001b[1m Volume  \u001b[0m\u001b[1m Open I\u001b[0m ⋯\n",
       "     │\u001b[90m Float64 \u001b[0m\u001b[90m Float64   \u001b[0m\u001b[90m Float64 \u001b[0m\u001b[90m Float64 \u001b[0m\u001b[90m Float64 \u001b[0m\u001b[90m Float64 \u001b[0m\u001b[90m String7 \u001b[0m\u001b[90m String\u001b[0m ⋯\n",
       "─────┼──────────────────────────────────────────────────────────────────────────\n",
       "  19 │   150.0    -0.8868      0.0     0.03     0.06     0.01  72       22     ⋯\n",
       "\u001b[36m                                                               4 columns omitted\u001b[0m"
      ]
     },
     "execution_count": 6,
     "metadata": {},
     "output_type": "execute_result"
    }
   ],
   "source": [
    "call_contracts = filter(:Type=>x->x == \"Call\", dataset) |> y -> filter(:Strike=> x-> x > Sₒ, y)\n",
    "number_of_call_contracts = nrow(call_contracts)\n",
    "call_leg_data = call_contracts[rand(1:number_of_call_contracts),:]"
   ]
  },
  {
   "cell_type": "markdown",
   "id": "dfd481a3-b0e2-4bd7-9fc5-3e53bab4d118",
   "metadata": {},
   "source": [
    "## Task 2: Build contract models and compute the payoff, profit, and breakeven values\n",
    "Now that we have data for the contracts, we can compute the composite payoff, profit, and breakeven values for the short strange constructed from the randomly selected `put` and `call` legs.\n",
    "\n",
    "* First, create `MyAmericanPutContractModel` and `MyAmericanCallContractModel` models, initialized using the data from the random contracts from `Task 1`. Then, these contract models and possible share prices at expiration are passed to the `payoff(...)` function, which computes the individual and composite payoff and profit values."
   ]
  },
  {
   "cell_type": "markdown",
   "id": "ec335fc0-d0cc-4120-986f-36c339f2afd4",
   "metadata": {},
   "source": [
    "Let's start with the randomly selected `put` contract. "
   ]
  },
  {
   "cell_type": "code",
   "execution_count": 7,
   "id": "1023b657-6e82-4197-a93d-e1242261a055",
   "metadata": {},
   "outputs": [],
   "source": [
    "put_contract_model = build(MyAmericanPutContractModel, (\n",
    "        K = put_leg_data[:Strike], \n",
    "        premium = put_leg_data[:Mid],\n",
    "        sense = -1, # we are short, i.e., we *sold* this contract so sense = -1 \n",
    "        copy = 1));"
   ]
  },
  {
   "cell_type": "markdown",
   "id": "ab48cc4c-f075-47b3-b8fa-ec2391bbd11b",
   "metadata": {},
   "source": [
    "Similarly, we construct the `call` contract model."
   ]
  },
  {
   "cell_type": "code",
   "execution_count": 8,
   "id": "78b6ea74-3762-49ce-aa84-792106d8a1e9",
   "metadata": {},
   "outputs": [],
   "source": [
    "call_contract_model = build(MyAmericanCallContractModel, (\n",
    "        K = call_leg_data[:Strike], \n",
    "        premium = call_leg_data[:Mid],\n",
    "        sense = -1, # we are short, i.e., we *sold* this contract so sense = -1 \n",
    "        copy = 1));"
   ]
  },
  {
   "cell_type": "markdown",
   "id": "2e0f5e4f-f585-4f0f-86a3-552f40c063ce",
   "metadata": {},
   "source": [
    "Next, let's create an array of values for the share price at expiration. Make a vector of perturbation values $\\beta_{i}\\in\\beta$, which we use to perturb the initial share price value $S_{\\circ}$.\n",
    "* Create a perturbation vector $\\beta_{i}\\in\\beta$ which holds values $\\beta_{i}\\in\\left[0.8.1.2\\right]$. We'll use these values to perturb or compute various things, e.g., possible share prices at expiration for `MU`:"
   ]
  },
  {
   "cell_type": "code",
   "execution_count": 9,
   "id": "8ab272c0-c322-405c-b534-5a05e5cb1e05",
   "metadata": {},
   "outputs": [],
   "source": [
    "β = range(0.5,stop=1.5,length=1001) |> collect;"
   ]
  },
  {
   "cell_type": "markdown",
   "id": "05e41652-dfd3-45d7-aacb-0e768d61e2d3",
   "metadata": {},
   "source": [
    "Now, create an array holding possible share prices at expiration by perturbing the initial share price. \n",
    "* Store these values in the `share_price_array` variable. For compactness, let's use the [Array comprehension functionality provided by Julia](https://docs.julialang.org/en/v1/manual/arrays/#man-comprehensions) to populate `share_price_array`."
   ]
  },
  {
   "cell_type": "code",
   "execution_count": 10,
   "id": "38c23b1c-b848-41ad-8996-d95a84024516",
   "metadata": {},
   "outputs": [],
   "source": [
    "share_price_array = [βᵢ*Sₒ for βᵢ ∈ β];"
   ]
  },
  {
   "cell_type": "markdown",
   "id": "9cf2db05-b428-41a0-a272-875ff2131d84",
   "metadata": {},
   "source": [
    "Finally, let's compute the payoff and profit for the short strangle. We compute the payoff by calling the `payoff(...)` function, while the profit "
   ]
  },
  {
   "cell_type": "code",
   "execution_count": 11,
   "id": "e7c39d67-3b02-43f0-a34e-a3e79373fc85",
   "metadata": {},
   "outputs": [],
   "source": [
    "V = profit([put_contract_model, call_contract_model], share_price_array);"
   ]
  },
  {
   "cell_type": "markdown",
   "id": "7bb8e0f3-7a9f-4924-8e71-a905ddda66da",
   "metadata": {},
   "source": [
    "## Disclaimer and Risks\n",
    "__This content is offered solely for training and informational purposes__. No offer or solicitation to buy or sell securities or derivative products or any investment or trading advice or strategy is made, given, or endorsed by the teaching team. \n",
    "\n",
    "__Trading involves risk__. Carefully review your financial situation before investing in securities, futures contracts, options, or commodity interests. Past performance, whether actual or indicated by historical tests of strategies, is no guarantee of future performance or success. Trading is generally inappropriate for someone with limited resources, investment or trading experience, or a low-risk tolerance.  Only risk capital that is not required for living expenses.\n",
    "\n",
    "__You are fully responsible for any investment or trading decisions you make__. Such decisions should be based solely on evaluating your financial circumstances, investment or trading objectives, risk tolerance, and liquidity needs."
   ]
  }
 ],
 "metadata": {
  "kernelspec": {
   "display_name": "Julia 1.10.2",
   "language": "julia",
   "name": "julia-1.10"
  },
  "language_info": {
   "file_extension": ".jl",
   "mimetype": "application/julia",
   "name": "julia",
   "version": "1.10.2"
  }
 },
 "nbformat": 4,
 "nbformat_minor": 5
}
