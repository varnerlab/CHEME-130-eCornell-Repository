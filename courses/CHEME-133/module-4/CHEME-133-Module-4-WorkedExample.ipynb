{
 "cells": [
  {
   "cell_type": "markdown",
   "id": "4b1384f5-30ed-4194-9c8e-ba6c882e5813",
   "metadata": {
    "tags": []
   },
   "source": [
    "# Example: Compute the Payoff, Profit, and Breakeven Points for Composite Option Contracts at Expiration\n",
    "\n",
    "## Background\n",
    "Call and put contracts can be combined to develop composite contract structures with interesting payoff diagrams. Let's limit our focus to contracts that have the same underlying asset and the same expiration date. A composite option contract be composed of $d$ legs (individual contracts) in the contract set $\\mathcal{C}$ where each leg $i\\in\\mathcal{C}$ is written with respect to the same underlying stock `XYZ` and has the same expiration date. Then, the overall payoff of the composite contract $\\hat{V}(S(T),K_{1},\\dots,K_{d})$ is given by:\n",
    "\n",
    "\n",
    "$$\\hat{V}(S(T),K_{1},\\dots,K_{d}) = \\sum_{i\\in\\mathcal{C}}\\theta_{i}n_{i}V_{i}(S(T),K_{i})$$\n",
    "\n",
    "\n",
    "where $K_{i}$ denotes the strike price of contract $i\\in\\mathcal{C}$. The overall profit of the composite contract $\\hat{P}$ is given by:\n",
    "\n",
    "\n",
    "$$\\hat{P}(S(T),K_{1},\\dots,K_{d}) = \\sum_{i\\in\\mathcal{C}}\\theta_{i}n_{i}P_{i}(S(T),K_{i})$$\n",
    "\n",
    "\n",
    "where $\\theta_{i}$ denotes the direction of contract $i$: if contract $i$ is short (sold), then $\\theta_{i}=-1$, otherwise $\\theta_{i}=1$, $n_{i}$ denotes the copy number of contract $i$, ${V}_{i}(S(T),K_{i})$ denotes the payoff of contract $i$, and $P_{i}(S(T),K_{i})$ denotes the profit of contract $i$. Finally, the profit for contract of type $\\star$ is given by:\n",
    "\n",
    "$$P_{\\star}(K,S(T)) = {V}_{\\star}(K,S(T)) -  \\mathcal{P}_{\\star}(K,S(0))$$\n",
    "\n",
    "where $\\mathcal{P}_{\\star}(K,S(0))$ denotes the premium of contract $\\star$, and ${V}_{\\star}(K,S(T))$ denotes the payoff of contract $\\star$ at expiration."
   ]
  },
  {
   "cell_type": "markdown",
   "id": "5f03d792-7b1d-4ece-a139-cbc8133081ae",
   "metadata": {},
   "source": [
    "## Learning Objectives\n",
    "For this example, we will compute the profit diagrams at expiration for some common composite contracts. We downloaded the options chain (premium value versus as a function of strike price) for [Advanced Micro Devices (AMD)](https://en.wikipedia.org/wiki/AMD) from [barchart.com](https://www.barchart.com). Currently, the share price of `AMD` is `S(0) = 117.50 USD/share`, and the average implied volatility for `AMD` options with `DTE = 31 days` is `IV = 51.75%`.\n",
    "\n",
    "* __Objective 1__:  Examine vertical spreads, which are defined risk trades that make bullish or bearish directional assumptions and can be opened for a credit or debit.\n",
    "* __Objective 2__: Explore long and short straddles, which are neutral trades that profit from share price movement in either direction.\n",
    "* __Objective 3__: Analyze long and short strangles, which are another type of neutral trade that benefits from share price movement in any direction or no price movement at all."
   ]
  },
  {
   "cell_type": "markdown",
   "id": "97fc4489-cc01-402b-a4b0-d80e94664cc4",
   "metadata": {},
   "source": [
    "## Setup\n",
    "Fill me in"
   ]
  },
  {
   "cell_type": "code",
   "execution_count": 1,
   "id": "00f16ef2-da4c-4ce8-ab8b-086ea117e4d0",
   "metadata": {},
   "outputs": [],
   "source": [
    "include(\"Include.jl\");"
   ]
  },
  {
   "cell_type": "markdown",
   "id": "728b9f14-408b-4361-ba04-3dda6bd19716",
   "metadata": {},
   "source": [
    "## Prerequisite: Load options chain dataset\n",
    "To start, load the options data using using the `loadoptionsdata(...)` function and store the data in the `options_dataset` variable:"
   ]
  },
  {
   "cell_type": "code",
   "execution_count": 2,
   "id": "985ccb2f-1491-4d9b-9943-7f617252adc5",
   "metadata": {},
   "outputs": [
    {
     "data": {
      "text/html": [
       "<div><div style = \"float: left;\"><span>68×8 DataFrame</span></div><div style = \"float: right;\"><span style = \"font-style: italic;\">43 rows omitted</span></div><div style = \"clear: both;\"></div></div><div class = \"data-frame\" style = \"overflow-x: scroll;\"><table class = \"data-frame\" style = \"margin-bottom: 6px;\"><thead><tr class = \"header\"><th class = \"rowNumber\" style = \"font-weight: bold; text-align: right;\">Row</th><th style = \"text-align: left;\">Strike</th><th style = \"text-align: left;\">Bid</th><th style = \"text-align: left;\">Midpoint</th><th style = \"text-align: left;\">Ask</th><th style = \"text-align: left;\">Last</th><th style = \"text-align: left;\">AVGIV</th><th style = \"text-align: left;\">IV</th><th style = \"text-align: left;\">Type</th></tr><tr class = \"subheader headerLastRow\"><th class = \"rowNumber\" style = \"font-weight: bold; text-align: right;\"></th><th title = \"Int64\" style = \"text-align: left;\">Int64</th><th title = \"Float64\" style = \"text-align: left;\">Float64</th><th title = \"Float64\" style = \"text-align: left;\">Float64</th><th title = \"Float64\" style = \"text-align: left;\">Float64</th><th title = \"Float64\" style = \"text-align: left;\">Float64</th><th title = \"Float64\" style = \"text-align: left;\">Float64</th><th title = \"Float64\" style = \"text-align: left;\">Float64</th><th title = \"String7\" style = \"text-align: left;\">String7</th></tr></thead><tbody><tr><td class = \"rowNumber\" style = \"font-weight: bold; text-align: right;\">1</td><td style = \"text-align: right;\">35</td><td style = \"text-align: right;\">82.45</td><td style = \"text-align: right;\">83.03</td><td style = \"text-align: right;\">83.6</td><td style = \"text-align: right;\">79.5</td><td style = \"text-align: right;\">0.5175</td><td style = \"text-align: right;\">2.3033</td><td style = \"text-align: left;\">Call</td></tr><tr><td class = \"rowNumber\" style = \"font-weight: bold; text-align: right;\">2</td><td style = \"text-align: right;\">40</td><td style = \"text-align: right;\">77.5</td><td style = \"text-align: right;\">77.95</td><td style = \"text-align: right;\">78.4</td><td style = \"text-align: right;\">48.5</td><td style = \"text-align: right;\">0.5175</td><td style = \"text-align: right;\">1.8801</td><td style = \"text-align: left;\">Call</td></tr><tr><td class = \"rowNumber\" style = \"font-weight: bold; text-align: right;\">3</td><td style = \"text-align: right;\">45</td><td style = \"text-align: right;\">72.85</td><td style = \"text-align: right;\">73.15</td><td style = \"text-align: right;\">73.45</td><td style = \"text-align: right;\">69.9</td><td style = \"text-align: right;\">0.5175</td><td style = \"text-align: right;\">1.2223</td><td style = \"text-align: left;\">Call</td></tr><tr><td class = \"rowNumber\" style = \"font-weight: bold; text-align: right;\">4</td><td style = \"text-align: right;\">50</td><td style = \"text-align: right;\">67.85</td><td style = \"text-align: right;\">68.13</td><td style = \"text-align: right;\">68.4</td><td style = \"text-align: right;\">71.0</td><td style = \"text-align: right;\">0.5175</td><td style = \"text-align: right;\">1.4811</td><td style = \"text-align: left;\">Call</td></tr><tr><td class = \"rowNumber\" style = \"font-weight: bold; text-align: right;\">5</td><td style = \"text-align: right;\">55</td><td style = \"text-align: right;\">62.85</td><td style = \"text-align: right;\">63.18</td><td style = \"text-align: right;\">63.5</td><td style = \"text-align: right;\">61.08</td><td style = \"text-align: right;\">0.5175</td><td style = \"text-align: right;\">0.8203</td><td style = \"text-align: left;\">Call</td></tr><tr><td class = \"rowNumber\" style = \"font-weight: bold; text-align: right;\">6</td><td style = \"text-align: right;\">60</td><td style = \"text-align: right;\">57.9</td><td style = \"text-align: right;\">58.18</td><td style = \"text-align: right;\">58.45</td><td style = \"text-align: right;\">57.1</td><td style = \"text-align: right;\">0.5175</td><td style = \"text-align: right;\">1.1983</td><td style = \"text-align: left;\">Call</td></tr><tr><td class = \"rowNumber\" style = \"font-weight: bold; text-align: right;\">7</td><td style = \"text-align: right;\">65</td><td style = \"text-align: right;\">52.95</td><td style = \"text-align: right;\">53.25</td><td style = \"text-align: right;\">53.55</td><td style = \"text-align: right;\">52.66</td><td style = \"text-align: right;\">0.5175</td><td style = \"text-align: right;\">0.8171</td><td style = \"text-align: left;\">Call</td></tr><tr><td class = \"rowNumber\" style = \"font-weight: bold; text-align: right;\">8</td><td style = \"text-align: right;\">70</td><td style = \"text-align: right;\">47.9</td><td style = \"text-align: right;\">48.25</td><td style = \"text-align: right;\">48.6</td><td style = \"text-align: right;\">46.79</td><td style = \"text-align: right;\">0.5175</td><td style = \"text-align: right;\">0.6489</td><td style = \"text-align: left;\">Call</td></tr><tr><td class = \"rowNumber\" style = \"font-weight: bold; text-align: right;\">9</td><td style = \"text-align: right;\">75</td><td style = \"text-align: right;\">43.05</td><td style = \"text-align: right;\">43.33</td><td style = \"text-align: right;\">43.6</td><td style = \"text-align: right;\">43.01</td><td style = \"text-align: right;\">0.5175</td><td style = \"text-align: right;\">0.6885</td><td style = \"text-align: left;\">Call</td></tr><tr><td class = \"rowNumber\" style = \"font-weight: bold; text-align: right;\">10</td><td style = \"text-align: right;\">80</td><td style = \"text-align: right;\">38.2</td><td style = \"text-align: right;\">38.38</td><td style = \"text-align: right;\">38.55</td><td style = \"text-align: right;\">38.6</td><td style = \"text-align: right;\">0.5175</td><td style = \"text-align: right;\">0.6305</td><td style = \"text-align: left;\">Call</td></tr><tr><td class = \"rowNumber\" style = \"font-weight: bold; text-align: right;\">11</td><td style = \"text-align: right;\">85</td><td style = \"text-align: right;\">33.25</td><td style = \"text-align: right;\">33.5</td><td style = \"text-align: right;\">33.75</td><td style = \"text-align: right;\">31.62</td><td style = \"text-align: right;\">0.5175</td><td style = \"text-align: right;\">0.6109</td><td style = \"text-align: left;\">Call</td></tr><tr><td class = \"rowNumber\" style = \"font-weight: bold; text-align: right;\">12</td><td style = \"text-align: right;\">90</td><td style = \"text-align: right;\">28.45</td><td style = \"text-align: right;\">28.67</td><td style = \"text-align: right;\">28.9</td><td style = \"text-align: right;\">28.73</td><td style = \"text-align: right;\">0.5175</td><td style = \"text-align: right;\">0.5971</td><td style = \"text-align: left;\">Call</td></tr><tr><td class = \"rowNumber\" style = \"font-weight: bold; text-align: right;\">13</td><td style = \"text-align: right;\">95</td><td style = \"text-align: right;\">23.85</td><td style = \"text-align: right;\">24.0</td><td style = \"text-align: right;\">24.15</td><td style = \"text-align: right;\">24.2</td><td style = \"text-align: right;\">0.5175</td><td style = \"text-align: right;\">0.5589</td><td style = \"text-align: left;\">Call</td></tr><tr><td style = \"text-align: right;\">&vellip;</td><td style = \"text-align: right;\">&vellip;</td><td style = \"text-align: right;\">&vellip;</td><td style = \"text-align: right;\">&vellip;</td><td style = \"text-align: right;\">&vellip;</td><td style = \"text-align: right;\">&vellip;</td><td style = \"text-align: right;\">&vellip;</td><td style = \"text-align: right;\">&vellip;</td><td style = \"text-align: right;\">&vellip;</td></tr><tr><td class = \"rowNumber\" style = \"font-weight: bold; text-align: right;\">57</td><td style = \"text-align: right;\">145</td><td style = \"text-align: right;\">27.5</td><td style = \"text-align: right;\">27.78</td><td style = \"text-align: right;\">28.05</td><td style = \"text-align: right;\">27.5</td><td style = \"text-align: right;\">0.5175</td><td style = \"text-align: right;\">0.5264</td><td style = \"text-align: left;\">Put</td></tr><tr><td class = \"rowNumber\" style = \"font-weight: bold; text-align: right;\">58</td><td style = \"text-align: right;\">150</td><td style = \"text-align: right;\">32.2</td><td style = \"text-align: right;\">32.48</td><td style = \"text-align: right;\">32.75</td><td style = \"text-align: right;\">32.4</td><td style = \"text-align: right;\">0.5175</td><td style = \"text-align: right;\">0.5845</td><td style = \"text-align: left;\">Put</td></tr><tr><td class = \"rowNumber\" style = \"font-weight: bold; text-align: right;\">59</td><td style = \"text-align: right;\">155</td><td style = \"text-align: right;\">37.0</td><td style = \"text-align: right;\">37.3</td><td style = \"text-align: right;\">37.6</td><td style = \"text-align: right;\">44.3</td><td style = \"text-align: right;\">0.5175</td><td style = \"text-align: right;\">0.6011</td><td style = \"text-align: left;\">Put</td></tr><tr><td class = \"rowNumber\" style = \"font-weight: bold; text-align: right;\">60</td><td style = \"text-align: right;\">160</td><td style = \"text-align: right;\">41.9</td><td style = \"text-align: right;\">42.2</td><td style = \"text-align: right;\">42.5</td><td style = \"text-align: right;\">41.96</td><td style = \"text-align: right;\">0.5175</td><td style = \"text-align: right;\">0.6223</td><td style = \"text-align: left;\">Put</td></tr><tr><td class = \"rowNumber\" style = \"font-weight: bold; text-align: right;\">61</td><td style = \"text-align: right;\">165</td><td style = \"text-align: right;\">46.85</td><td style = \"text-align: right;\">47.15</td><td style = \"text-align: right;\">47.45</td><td style = \"text-align: right;\">49.45</td><td style = \"text-align: right;\">0.5175</td><td style = \"text-align: right;\">0.6498</td><td style = \"text-align: left;\">Put</td></tr><tr><td class = \"rowNumber\" style = \"font-weight: bold; text-align: right;\">62</td><td style = \"text-align: right;\">170</td><td style = \"text-align: right;\">51.6</td><td style = \"text-align: right;\">52.03</td><td style = \"text-align: right;\">52.45</td><td style = \"text-align: right;\">58.44</td><td style = \"text-align: right;\">0.5175</td><td style = \"text-align: right;\">0.7991</td><td style = \"text-align: left;\">Put</td></tr><tr><td class = \"rowNumber\" style = \"font-weight: bold; text-align: right;\">63</td><td style = \"text-align: right;\">175</td><td style = \"text-align: right;\">56.8</td><td style = \"text-align: right;\">57.1</td><td style = \"text-align: right;\">57.4</td><td style = \"text-align: right;\">65.65</td><td style = \"text-align: right;\">0.5175</td><td style = \"text-align: right;\">0.7091</td><td style = \"text-align: left;\">Put</td></tr><tr><td class = \"rowNumber\" style = \"font-weight: bold; text-align: right;\">64</td><td style = \"text-align: right;\">180</td><td style = \"text-align: right;\">61.75</td><td style = \"text-align: right;\">62.08</td><td style = \"text-align: right;\">62.4</td><td style = \"text-align: right;\">70.85</td><td style = \"text-align: right;\">0.5175</td><td style = \"text-align: right;\">0.7225</td><td style = \"text-align: left;\">Put</td></tr><tr><td class = \"rowNumber\" style = \"font-weight: bold; text-align: right;\">65</td><td style = \"text-align: right;\">185</td><td style = \"text-align: right;\">66.75</td><td style = \"text-align: right;\">67.08</td><td style = \"text-align: right;\">67.4</td><td style = \"text-align: right;\">64.4</td><td style = \"text-align: right;\">0.5175</td><td style = \"text-align: right;\">0.7626</td><td style = \"text-align: left;\">Put</td></tr><tr><td class = \"rowNumber\" style = \"font-weight: bold; text-align: right;\">66</td><td style = \"text-align: right;\">190</td><td style = \"text-align: right;\">71.8</td><td style = \"text-align: right;\">72.1</td><td style = \"text-align: right;\">72.4</td><td style = \"text-align: right;\">63.45</td><td style = \"text-align: right;\">0.5175</td><td style = \"text-align: right;\">0.8319</td><td style = \"text-align: left;\">Put</td></tr><tr><td class = \"rowNumber\" style = \"font-weight: bold; text-align: right;\">67</td><td style = \"text-align: right;\">195</td><td style = \"text-align: right;\">76.85</td><td style = \"text-align: right;\">77.13</td><td style = \"text-align: right;\">77.4</td><td style = \"text-align: right;\">85.95</td><td style = \"text-align: right;\">0.5175</td><td style = \"text-align: right;\">0.892</td><td style = \"text-align: left;\">Put</td></tr><tr><td class = \"rowNumber\" style = \"font-weight: bold; text-align: right;\">68</td><td style = \"text-align: right;\">200</td><td style = \"text-align: right;\">81.8</td><td style = \"text-align: right;\">82.1</td><td style = \"text-align: right;\">82.4</td><td style = \"text-align: right;\">73.0</td><td style = \"text-align: right;\">0.5175</td><td style = \"text-align: right;\">0.9076</td><td style = \"text-align: left;\">Put</td></tr></tbody></table></div>"
      ],
      "text/latex": [
       "\\begin{tabular}{r|cccccccc}\n",
       "\t& Strike & Bid & Midpoint & Ask & Last & AVGIV & IV & Type\\\\\n",
       "\t\\hline\n",
       "\t& Int64 & Float64 & Float64 & Float64 & Float64 & Float64 & Float64 & String7\\\\\n",
       "\t\\hline\n",
       "\t1 & 35 & 82.45 & 83.03 & 83.6 & 79.5 & 0.5175 & 2.3033 & Call \\\\\n",
       "\t2 & 40 & 77.5 & 77.95 & 78.4 & 48.5 & 0.5175 & 1.8801 & Call \\\\\n",
       "\t3 & 45 & 72.85 & 73.15 & 73.45 & 69.9 & 0.5175 & 1.2223 & Call \\\\\n",
       "\t4 & 50 & 67.85 & 68.13 & 68.4 & 71.0 & 0.5175 & 1.4811 & Call \\\\\n",
       "\t5 & 55 & 62.85 & 63.18 & 63.5 & 61.08 & 0.5175 & 0.8203 & Call \\\\\n",
       "\t6 & 60 & 57.9 & 58.18 & 58.45 & 57.1 & 0.5175 & 1.1983 & Call \\\\\n",
       "\t7 & 65 & 52.95 & 53.25 & 53.55 & 52.66 & 0.5175 & 0.8171 & Call \\\\\n",
       "\t8 & 70 & 47.9 & 48.25 & 48.6 & 46.79 & 0.5175 & 0.6489 & Call \\\\\n",
       "\t9 & 75 & 43.05 & 43.33 & 43.6 & 43.01 & 0.5175 & 0.6885 & Call \\\\\n",
       "\t10 & 80 & 38.2 & 38.38 & 38.55 & 38.6 & 0.5175 & 0.6305 & Call \\\\\n",
       "\t11 & 85 & 33.25 & 33.5 & 33.75 & 31.62 & 0.5175 & 0.6109 & Call \\\\\n",
       "\t12 & 90 & 28.45 & 28.67 & 28.9 & 28.73 & 0.5175 & 0.5971 & Call \\\\\n",
       "\t13 & 95 & 23.85 & 24.0 & 24.15 & 24.2 & 0.5175 & 0.5589 & Call \\\\\n",
       "\t14 & 100 & 19.35 & 19.53 & 19.7 & 19.67 & 0.5175 & 0.5597 & Call \\\\\n",
       "\t15 & 105 & 15.2 & 15.33 & 15.45 & 15.65 & 0.5175 & 0.5174 & Call \\\\\n",
       "\t16 & 110 & 11.6 & 11.7 & 11.8 & 11.75 & 0.5175 & 0.5175 & Call \\\\\n",
       "\t17 & 115 & 8.65 & 8.7 & 8.75 & 8.68 & 0.5175 & 0.514 & Call \\\\\n",
       "\t18 & 120 & 6.25 & 6.3 & 6.35 & 6.35 & 0.5175 & 0.5231 & Call \\\\\n",
       "\t19 & 125 & 4.4 & 4.45 & 4.5 & 4.5 & 0.5175 & 0.5274 & Call \\\\\n",
       "\t20 & 130 & 3.1 & 3.15 & 3.2 & 3.15 & 0.5175 & 0.5344 & Call \\\\\n",
       "\t21 & 135 & 2.17 & 2.2 & 2.23 & 2.21 & 0.5175 & 0.545 & Call \\\\\n",
       "\t22 & 140 & 1.55 & 1.57 & 1.58 & 1.57 & 0.5175 & 0.5586 & Call \\\\\n",
       "\t23 & 145 & 1.1 & 1.12 & 1.14 & 1.18 & 0.5175 & 0.5722 & Call \\\\\n",
       "\t24 & 150 & 0.81 & 0.83 & 0.84 & 0.83 & 0.5175 & 0.5903 & Call \\\\\n",
       "\t25 & 155 & 0.59 & 0.61 & 0.62 & 0.62 & 0.5175 & 0.6073 & Call \\\\\n",
       "\t26 & 160 & 0.44 & 0.45 & 0.47 & 0.46 & 0.5175 & 0.6217 & Call \\\\\n",
       "\t27 & 165 & 0.34 & 0.35 & 0.36 & 0.35 & 0.5175 & 0.6374 & Call \\\\\n",
       "\t28 & 170 & 0.26 & 0.27 & 0.28 & 0.28 & 0.5175 & 0.657 & Call \\\\\n",
       "\t29 & 175 & 0.21 & 0.22 & 0.22 & 0.22 & 0.5175 & 0.6728 & Call \\\\\n",
       "\t30 & 180 & 0.16 & 0.17 & 0.18 & 0.17 & 0.5175 & 0.6855 & Call \\\\\n",
       "\t$\\dots$ & $\\dots$ & $\\dots$ & $\\dots$ & $\\dots$ & $\\dots$ & $\\dots$ & $\\dots$ & $\\dots$ \\\\\n",
       "\\end{tabular}\n"
      ],
      "text/plain": [
       "\u001b[1m68×8 DataFrame\u001b[0m\n",
       "\u001b[1m Row \u001b[0m│\u001b[1m Strike \u001b[0m\u001b[1m Bid     \u001b[0m\u001b[1m Midpoint \u001b[0m\u001b[1m Ask     \u001b[0m\u001b[1m Last    \u001b[0m\u001b[1m AVGIV   \u001b[0m\u001b[1m IV      \u001b[0m\u001b[1m Type    \u001b[0m\n",
       "     │\u001b[90m Int64  \u001b[0m\u001b[90m Float64 \u001b[0m\u001b[90m Float64  \u001b[0m\u001b[90m Float64 \u001b[0m\u001b[90m Float64 \u001b[0m\u001b[90m Float64 \u001b[0m\u001b[90m Float64 \u001b[0m\u001b[90m String7 \u001b[0m\n",
       "─────┼────────────────────────────────────────────────────────────────────────\n",
       "   1 │     35    82.45     83.03    83.6     79.5    0.5175   2.3033  Call\n",
       "   2 │     40    77.5      77.95    78.4     48.5    0.5175   1.8801  Call\n",
       "   3 │     45    72.85     73.15    73.45    69.9    0.5175   1.2223  Call\n",
       "   4 │     50    67.85     68.13    68.4     71.0    0.5175   1.4811  Call\n",
       "   5 │     55    62.85     63.18    63.5     61.08   0.5175   0.8203  Call\n",
       "   6 │     60    57.9      58.18    58.45    57.1    0.5175   1.1983  Call\n",
       "   7 │     65    52.95     53.25    53.55    52.66   0.5175   0.8171  Call\n",
       "   8 │     70    47.9      48.25    48.6     46.79   0.5175   0.6489  Call\n",
       "   9 │     75    43.05     43.33    43.6     43.01   0.5175   0.6885  Call\n",
       "  10 │     80    38.2      38.38    38.55    38.6    0.5175   0.6305  Call\n",
       "  11 │     85    33.25     33.5     33.75    31.62   0.5175   0.6109  Call\n",
       "  ⋮  │   ⋮        ⋮        ⋮         ⋮        ⋮        ⋮        ⋮        ⋮\n",
       "  59 │    155    37.0      37.3     37.6     44.3    0.5175   0.6011  Put\n",
       "  60 │    160    41.9      42.2     42.5     41.96   0.5175   0.6223  Put\n",
       "  61 │    165    46.85     47.15    47.45    49.45   0.5175   0.6498  Put\n",
       "  62 │    170    51.6      52.03    52.45    58.44   0.5175   0.7991  Put\n",
       "  63 │    175    56.8      57.1     57.4     65.65   0.5175   0.7091  Put\n",
       "  64 │    180    61.75     62.08    62.4     70.85   0.5175   0.7225  Put\n",
       "  65 │    185    66.75     67.08    67.4     64.4    0.5175   0.7626  Put\n",
       "  66 │    190    71.8      72.1     72.4     63.45   0.5175   0.8319  Put\n",
       "  67 │    195    76.85     77.13    77.4     85.95   0.5175   0.892   Put\n",
       "  68 │    200    81.8      82.1     82.4     73.0    0.5175   0.9076  Put\n",
       "\u001b[36m                                                               47 rows omitted\u001b[0m"
      ]
     },
     "execution_count": 2,
     "metadata": {},
     "output_type": "execute_result"
    }
   ],
   "source": [
    "options_dataset = loadoptionsdata()"
   ]
  },
  {
   "cell_type": "markdown",
   "id": "2b22e2b3-5e2c-4e59-a925-49cef6cdfab0",
   "metadata": {
    "tags": []
   },
   "source": [
    "## Objective 1: Profit and loss diagrams for Vertical Spreads\n",
    "[Vertical spreads](https://www.fidelity.com/bin-public/060_www_fidelity_com/documents/learning-center/Deck_Vertical-spreads.pdf), a defined risk directional strategy, involve buying and selling the same type of option with different strike prices and the same expiration date. This creates two legs, a long leg (the option purchased by the investor) and a short leg (the option sold by the investor).  The investor can use the strategy to take a position on whether the share price of the underlying stock, such as `XYZ`, will increase or decrease. "
   ]
  },
  {
   "cell_type": "markdown",
   "id": "82267607-4db5-4a2b-b85c-abdb4586dedd",
   "metadata": {},
   "source": [
    "### Put vertical spreads\n",
    "A put vertical spread is constructed from $2~\\times$ `put` contracts. Let contract $j$ have a strike price of $K_{j}$ and premium $\\mathcal{P}_{j}$. The share price at expiration is given by $S(T)$. Finally, let contract 1 be the short leg $\\theta_{1} = -1$ and contract 2 be the long leg $\\theta_{2} = 1$. Then, the profit for a single Put vertical spread $P_{12}$ at expiration is given by:\n",
    "\n",
    "$$\\hat{P} = -P_{1}+P_{2}$$\n",
    "\n",
    "which, after substitution of the profit functions for a put contract, gives:\n",
    "\n",
    "$$\n",
    "\\hat{P} = \\left(K_{2} - S\\right)^{+} - \\left(K_{1} - S\\right)^{+} + \\left(\\mathcal{P}_{1} - \\mathcal{P}_{2}\\right)$$\n",
    "\n",
    "where $V_{p} = (K-S)^{+}=\\max(K-S,0)$ is the payoff function for a `put` contract. The first term is the net payout of the two legs of the spread, while the second term is the net cost of the two contracts. The maximum possible profit, loss, and breakeven conditions are given by:\n",
    "\n",
    "* The maximum possible profit of $\\left(\\mathcal{P}_{1} - \\mathcal{P}_{2}\\right)$ will occur when $S\\geq{K_{1}}$.\n",
    "* The maximum possible loss of $K_{2} - K_{1} + \\left(\\mathcal{P}_{1} - \\mathcal{P}_{2}\\right)$ will occur when $S\\leq{K_{2}}$.\n",
    "* The vertical put spread will breakeven when $S =  K_{1}+\\left(\\mathcal{P}_{2} - \\mathcal{P}_{1}\\right)$."
   ]
  },
  {
   "cell_type": "markdown",
   "id": "f694d504-aeed-48e5-b81a-0b2e98128477",
   "metadata": {
    "tags": []
   },
   "source": [
    "## Objective 2: Profit and loss diagrams for long and short straddles\n",
    "A [straddle](https://www.investopedia.com/terms/s/straddle.asp) is a _neutral strategy_ constructed by simultaneously buying (or selling) a put and a call option on the same underlying asset `XYZ`, with the _same expiration_, and the _same strike price_. Depending upon the choice of the strike prices and whether an investor buys or sells both legs, a [straddle](https://www.investopedia.com/terms/s/straddle.asp) can be initiated as a credit or debit and can potentially have undefined profit or loss.\n",
    "\n",
    "Let $K_{j}$ denote the strike price of contract $j$ (USD/share), where the price of contract $j$ is $\\mathcal{P}_{j}$ (USD/share). Finally, let index $j=1$ denote the `put` contract, $j=2$ denote the `call` contract; for a straddle $K_{1}= K_{2}\\equiv{K}$ (both legs have the same strike). \n",
    "\n",
    "### Profit and loss for a straddle\n",
    "The profit for a single straddle contract $\\hat{P}$ at expiration is given by:\n",
    "\n",
    "$$\\hat{P} = \\theta\\cdot\\left(P_{1}+P_{2}\\right)$$\n",
    "\n",
    "where $\\theta_{1}=\\theta_{2}\\equiv\\theta$ denotes a direction parameter: $\\theta=-1$ if each leg is sold (short), $\\theta=1$ otherwise. After substitution of the profit functions for a `put` and a `call` contract, the overall profit $\\hat{P}$ is given by:\n",
    "\n",
    "$$\\hat{P} = \\theta\\cdot\\Bigl[(K-S)^{+}+(S-K)^{+}-(\\mathcal{P}_{1}+\\mathcal{P}_{2})\\Bigr]$$\n",
    "\n",
    "where $V_{p} = (K-S)^{+}=\\max(K-S,0)$ is the payoff function for the `put` contract, and $V_{c} = (S-K)^{+} = \\max(S-K,0)$ is the payoff function for the `call` contract. The profit (or loss) of a straddle has three regimes given by:\n",
    "\n",
    "$$\n",
    "\\hat{P} = \\begin{cases}\n",
    "  \\theta\\cdot\\Bigl[(S-K)-\\left(\\mathcal{P}_{1}+\\mathcal{P}_{2}\\right)\\Bigr]  & S>K \\\\\n",
    "  -\\theta\\cdot\\Bigl[\\mathcal{P}_{1}+\\mathcal{P}_{2}\\Bigr] & S=K \\\\\n",
    "    \\theta\\cdot\\Bigl[(K-S)-\\left(\\mathcal{P}_{1}+\\mathcal{P}_{2}\\right)\\Bigr] & S<K\n",
    "\\end{cases}\n",
    "$$\n",
    "\n",
    "Finally, a straddle has _two_ possible breakeven points denoted as $S^{+}$ and $S^{-}$:\n",
    "* If $S>K$: a straddle will breakeven at $S^{+} = K + \\left(\\mathcal{P}_{1}+\\mathcal{P}_{2}\\right)$\n",
    "* If $S<K$: a straddle will breakeven at $S^{-} = K - \\left(\\mathcal{P}_{1}+\\mathcal{P}_{2}\\right)$."
   ]
  },
  {
   "cell_type": "markdown",
   "id": "2d844617-246a-4dd2-ad3c-92ee5f9d4931",
   "metadata": {},
   "source": [
    "### Long straddle\n",
    "Fill me in"
   ]
  },
  {
   "cell_type": "markdown",
   "id": "14457530-5038-48c5-866e-cfe96c8d6264",
   "metadata": {},
   "source": [
    "### Short straddle\n",
    "Fill me in"
   ]
  },
  {
   "cell_type": "markdown",
   "id": "75abc561-93a2-46e1-a04a-7c52592a7eac",
   "metadata": {},
   "source": [
    "## Objective 3: Profit and loss diagrams for long and short strangles\n",
    "A [strangle](https://www.investopedia.com/terms/s/strangle.asp) position is a _neutral strategy_ constructed by simultaneously buying or selling a put and a call option on the same underlying asset `XYZ`, with the _same expiration_ but with _different strike prices_. Depending upon the choice of the strike prices and whether an investor buys or sells both legs, a [strangle](https://www.investopedia.com/terms/s/strangle.asp) can be initiated as a credit or debit and can potentially have undefined profit or loss.\n",
    "\n",
    "Let $K_{j}$ denote the strike price of contract $j$ (USD/share), where the price of contract $j$ is $\\mathcal{P}_{j}$ (USD/share). Finally, let index $j=1$ denote the `put` contract, $j=2$ denote the `call` contract; for a strangle $K_{1}<K_{2}$. \n",
    "\n",
    "### Profit and loss for a strangle\n",
    "The profit for a single strangle contract $\\hat{P}$ at expiration is given by:\n",
    "\n",
    "$$\\hat{P} = \\theta\\cdot\\left(P_{1}+P_{2}\\right)$$\n",
    "\n",
    "where $\\theta_{1}=\\theta_{2}\\equiv\\theta$ denotes a direction parameter: $\\theta=-1$ if each leg is sold (short), $\\theta=1$ otherwise. After substitution of the profit functions for a `put` and a `call` contract, the overall profit $\\hat{P}$ is given by:\n",
    "\n",
    "$$\\hat{P} = \\theta\\cdot\\Bigl[(K_{1}-S)^{+}+(S-K_{2})^{+}-(\\mathcal{P}_{1}+\\mathcal{P}_{2})\\Bigr]$$\n",
    "\n",
    "where $V_{p} = (K_{1}-S)^{+}=\\max(K_{1}-S,0)$ is the `payoff` for the `put` contract, and $V_{c} = (S-K_{2})^{+} = \\max(S-K_{2},0)$ is the `payoff` for the `call` contract. The profit (or loss) of a strangle has three regimes given by:\n",
    "\n",
    "$$\n",
    "\\hat{P} = \\begin{cases}\n",
    "  \\theta\\cdot\\Bigl[(S-K_{2})-\\left(\\mathcal{P}_{1}+\\mathcal{P}_{2}\\right)\\Bigr]  & S>K_{2} \\\\\n",
    "  -\\theta\\cdot\\Bigl[\\mathcal{P}_{1}+\\mathcal{P}_{2}\\Bigr] & K_{1}\\leq{S}\\leq{K_{2}} \\\\\n",
    "  \\theta\\cdot\\Bigl[(K_{1}-S)-\\left(\\mathcal{P}_{1}+\\mathcal{P}_{2}\\right)\\Bigr] & S<{K_{1}}\n",
    "\\end{cases}\n",
    "$$\n",
    "\n",
    "A [strangle](https://www.investopedia.com/terms/s/strangle.asp) has two break-even points $S^{+}$ and $S^{-}$ where $K_{2}<S^{+}$ and $S^{-}<K_{1}$. The low break-even point $S^{-}$ is given by:\n",
    "\n",
    "$$S^{-} = K_{1} - \\left(\\mathcal{P}_{1}+\\mathcal{P}_{2}\\right)$$\n",
    "\n",
    "while the high break-even point $S^{+}$ is given by:\n",
    "\n",
    "$$S^{+} = K_{2} + \\left(\\mathcal{P}_{1}+\\mathcal{P}_{2}\\right)$$"
   ]
  },
  {
   "cell_type": "markdown",
   "id": "2b64b8e2-bab1-476b-a2bc-cfeb3d5c6799",
   "metadata": {},
   "source": [
    "### Long strangle\n",
    "Fill me in"
   ]
  },
  {
   "cell_type": "markdown",
   "id": "55ae764d-4010-456b-8905-18a4c2e61293",
   "metadata": {},
   "source": [
    "### Short strangle\n",
    "Fill me in"
   ]
  }
 ],
 "metadata": {
  "kernelspec": {
   "display_name": "Julia 1.9.1",
   "language": "julia",
   "name": "julia-1.9"
  },
  "language_info": {
   "file_extension": ".jl",
   "mimetype": "application/julia",
   "name": "julia",
   "version": "1.9.2"
  }
 },
 "nbformat": 4,
 "nbformat_minor": 5
}
