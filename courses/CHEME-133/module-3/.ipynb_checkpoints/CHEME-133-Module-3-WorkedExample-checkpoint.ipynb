{
 "cells": [
  {
   "cell_type": "markdown",
   "id": "1fb7dae8",
   "metadata": {},
   "source": [
    "# Example: Modeling the Payout and Profit of Long and Short American-style Put Contracts\n",
    "\n",
    "## Background\n",
    "A `put` option is a financial contract that gives the holder the right, but not the obligation, to sell a specified asset, such as stocks, commodities, or currencies, at a predetermined price within a specified time period. Let's consider stock as the underlying asset. A single standard `put` contract controls `100` shares of stock.\n",
    "\n",
    "In the case of [American](https://www.investopedia.com/terms/a/americanoption.asp) style [put contracts](https://www.investopedia.com/terms/p/putoption.asp), the option buyer can exercise their right at any point between when the contract is purchased and the expiration date. On the other hand, buyers of [European](https://www.investopedia.com/terms/e/europeanoption.asp) style contracts can only exercise their right on the expiration date. \n",
    "\n",
    "The business case for buying (or selling) `put` contracts:\n",
    "* __Buyer (long)__: From the buyer's perspective, `put` contracts allow an investor to benefit from the price movement of `XYZ` to the downside _without_ purchasing `XYZ`. Further, `put` options (again from the buyer's perspective) have _limited downside risk_, i.e., the maximum amount that the holder of the `put` option can lose is the premium paid for the option. Finally, `put` contracts are a mechanism to sell shares of `XYZ` at the strike price of $K$ instead of the market price of $S$. \n",
    "* __Seller (short)__: From the seller's perspective, the motivation for selling a `put` contract is to collect the premium $\\mathcal{P}$. Put contracts also allow the seller to benefit from the price movement of `XYZ` to the upside _without_ purchasing `XYZ`. However, for a seller, `put` options have _unlimted downside_ risk; thus, `put` options are often only sold by investors who have set aside the required capital to purchase the required number of shares of `XYZ` (known as a [cash secured put position](https://www.fidelity.com/learning-center/investment-products/options/know-about-cash-covered-puts)). Finally, `put` options offer the seller the opportunity to buy shares of `XYZ` at the strike price of $K-\\mathcal{P}$ instead of the market price of $S$.\n",
    "\n",
    "## Payoff, Profit and Premium\n",
    "The payoff of a `put` contract at expiration `T` days in the future is defined as\n",
    "\n",
    "$$V_{p}(K,S(T)) = \\max\\left(K - S(T),~0.0\\right)$$\n",
    "\n",
    "where $K$ denotes the strike price and $S(T)$ denotes the share price of the underlying asset `T` days in the future (at expiration). The right (but not the obligation) to sell shares is not free, the seller charges the buyer a preimum for each `put` contract $\\mathcal{P}_{p}$. Thus, from the perspective of the buyer, the profit for the `put` contract $P_{p}$ is given by:\n",
    "\n",
    "$$P_{p}(K,S(T)) = \\hat{V}_{p}(K,S(T)) -  \\mathcal{P}_{p}(K,S(T))$$\n",
    "\n",
    "Finally, the premium (cost) for each `put` contract $\\mathcal{P}_{p}(\\dots)$ is defined by the expression:\n",
    "\n",
    "$$\\mathcal{P}_{p}(K,S(T))\\geq\\mathbb{E}\\Bigl(\\mathcal{D}^{-1}_{T,0}(\\bar{r})\\cdot{V_{p}}(K,S(T)\\Bigr)$$\n",
    "\n",
    "where $\\mathcal{D}_{T,0}(\\bar{r})$ denotes the discount rate between the time when the contract was purchased `0` and contract expiration `T` days in the future. Option contracts using risk neutral pricing, thus, the discount rate $\\bar{r}$ is typially taken as the interest rate on 10-year treasury notes. "
   ]
  },
  {
   "cell_type": "markdown",
   "id": "637a4d1a",
   "metadata": {},
   "source": [
    "## Setup\n",
    "Fill me in."
   ]
  },
  {
   "cell_type": "code",
   "execution_count": 1,
   "id": "9afa2cfb-d85f-42b0-b10d-08591be1ec12",
   "metadata": {},
   "outputs": [
    {
     "data": {
      "text/plain": [
       "payoff (generic function with 1 method)"
      ]
     },
     "execution_count": 1,
     "metadata": {},
     "output_type": "execute_result"
    }
   ],
   "source": [
    "include(\"Include.jl\")"
   ]
  },
  {
   "cell_type": "markdown",
   "id": "7539e728-ca6c-4c7b-b2bf-962ced684bc5",
   "metadata": {},
   "source": [
    "## Objectives\n",
    "In this example, we'll compute the premium, payoff and profit for sample `put` option contracts. In particular:\n",
    "\n",
    "* __Objective 1__: We'll begin with [European](https://www.investopedia.com/terms/e/europeanoption.asp) style contracts, where the contract can only be excersised at expiration. \n",
    "* __Objective 2__: We'll then contrast this perspective with [American](https://www.investopedia.com/terms/a/americanoption.asp) style `put` contracts where a contract can be excercised at any point between when the contract was purchased and expiration. "
   ]
  },
  {
   "cell_type": "markdown",
   "id": "c0de784e-018e-45e7-86a7-760336b511cb",
   "metadata": {},
   "source": [
    "## Objective 1: Premium, payoff and profit for a European Put contract"
   ]
  },
  {
   "cell_type": "markdown",
   "id": "771061cf-e750-43d9-af5b-33475451efa8",
   "metadata": {},
   "source": [
    "Let's begin by computing the premium $\\mathcal{P}_{p}(K,S(T))$ the buyer must pay for a `put` contract. When early excersise is not allowed, the pricing formula is given by (the equality case):\n",
    "\n",
    "$$\\mathcal{P}_{p}(K,S(T)) = \\mathbb{E}\\Bigl(\\mathcal{D}^{-1}_{T,0}(\\bar{r})\\cdot{V_{p}}(K,S(T))\\Bigr)$$\n",
    "\n",
    "which says the right (but not the obligation) to excercise the `put` contract is the expected value of the discounted future payoff from the contract. To compute the expectation, we simulate the future share price `T` days in the future using a [geometric Brownian motion](https://en.wikipedia.org/wiki/Geometric_Brownian_motion#:~:text=A%20geometric%20Brownian%20motion%20(GBM,a%20Wiener%20process)%20with%20drift.) model for the future share price:\n",
    "\n",
    "$$S(T) = S_{\\circ}\\exp\\Biggl[\\left(\\bar{r}-\\frac{\\sigma^{2}}{2}\\right)\\cdot{T} + (\\sigma\\sqrt{T})\\cdot{Z_{t}(0,1)}\\Biggr]$$\n",
    "\n",
    "where we assume $S_{\\circ}$ is the share price today, $\\bar{r}$ denotes the risk-free rate (risk-neutral pricing), $\\sigma$ denotes share price volatility and `T` denotes the number of days until contract expiration."
   ]
  },
  {
   "cell_type": "markdown",
   "id": "036114bc-96d5-47f9-9cee-536759231f5b",
   "metadata": {},
   "source": [
    "### Implementation\n",
    "Let's consider an example: We have a European `put` that expires in `T = 365` days with a strike price `K = 60.0`. The current share price is `S(0)=60.0`. Assume a risk free rate of return of `5%` and a implied volatility of `10%`. The correct answer is $\\mathcal{P}_{p}(K,S(T))$ = 1.16 USD/share. Let's consider this example using two appoaches:\n",
    "\n",
    "* Approach 1: Monte Carlo simulation of the share price by sampling the geometric Brownian motion model, and then explicitly calculating the expectation in the pricing relationship\n",
    "* Approach 2: Use the [Black–Scholes](https://en.wikipedia.org/wiki/Black–Scholes_model) pricing formula for a European `put` option\n",
    "\n",
    "We start by defining the problem parameters that are shared between the approaches:"
   ]
  },
  {
   "cell_type": "code",
   "execution_count": 2,
   "id": "c8014ce7-b4cb-4dfc-a9b2-e2a76a3e9e3c",
   "metadata": {},
   "outputs": [],
   "source": [
    "Δt = (1.0/365.0);\n",
    "Sₒ = 60.0;\n",
    "K = 60.0;\n",
    "T = 365.0*Δt;\n",
    "r̄ = 0.05;\n",
    "σ̄ = 0.10;"
   ]
  },
  {
   "cell_type": "markdown",
   "id": "c8023bf8-1458-4305-a415-a174b51d60b4",
   "metadata": {
    "tags": []
   },
   "source": [
    "#### Approach 1: Monte Carlo estimate of European `put` contract price\n",
    "Let's build an instance of the `MyGeometricBrownianMotionEquityModel` type which holds the value for the price simulation using the `build(...)` method and store in the `model` variable:"
   ]
  },
  {
   "cell_type": "code",
   "execution_count": 3,
   "id": "2abf0f4c-ae90-4057-99f5-dc73c4f824bf",
   "metadata": {},
   "outputs": [],
   "source": [
    "model = build(MyGeometricBrownianMotionEquityModel, (\n",
    "        μ = r̄, σ = σ̄));"
   ]
  },
  {
   "cell_type": "markdown",
   "id": "80410499-e564-47bc-803a-3cddc68f6158",
   "metadata": {},
   "source": [
    "Next, we build an instance of the `MyEuropeanPutContractModel` type which holds the parameters for the `put` contract using the `build(...)` method. We store the contract model in the `put_contract_model` variable:"
   ]
  },
  {
   "cell_type": "code",
   "execution_count": 4,
   "id": "51977895-b1cc-4022-99cc-3a104cd1b333",
   "metadata": {},
   "outputs": [],
   "source": [
    "put_contract_model = build(MyEuropeanPutContractModel, (\n",
    "        K = K, IV = σ̄, DTE = T, sense = 1));"
   ]
  },
  {
   "cell_type": "markdown",
   "id": "646ada08-9f52-4cdf-8bf6-36169e82cff0",
   "metadata": {},
   "source": [
    "We'll simulate the future share price at expiration $S(T)$ for different number of sample paths. We'll store these values in the `number_of_samples` array:"
   ]
  },
  {
   "cell_type": "code",
   "execution_count": 23,
   "id": "fd004eb8-3062-4772-8367-8e96d335c184",
   "metadata": {},
   "outputs": [],
   "source": [
    "number_of_samples = range(1.0,stop=5,step=1.0) |> collect |> (x-> exp10.(x)) |> (x-> 5*Int.(x));"
   ]
  },
  {
   "cell_type": "markdown",
   "id": "ba644975-e6d0-4ebf-b6d9-e8aadb7567e6",
   "metadata": {},
   "source": [
    "Finally, for each number of sample paths, we sample the geometric Brownian model instance using the `sample(...)` function, compute the payoff using `payoff(...)` function, compute the premium array which is stored in the `P̄` variable, and then compute the mean `premium`  and standard error `SE` of the expected discounted future contract payoff. We propulate a `DataFrame` instance that holds the data for each number of sample paths:"
   ]
  },
  {
   "cell_type": "code",
   "execution_count": 28,
   "id": "b99e016d-5e4d-40b6-8095-2738e0ff1352",
   "metadata": {},
   "outputs": [
    {
     "data": {
      "text/html": [
       "<div><div style = \"float: left;\"><span>5×4 DataFrame</span></div><div style = \"clear: both;\"></div></div><div class = \"data-frame\" style = \"overflow-x: scroll;\"><table class = \"data-frame\" style = \"margin-bottom: 6px;\"><thead><tr class = \"header\"><th class = \"rowNumber\" style = \"font-weight: bold; text-align: right;\">Row</th><th style = \"text-align: left;\">n</th><th style = \"text-align: left;\">premium</th><th style = \"text-align: left;\">SE</th><th style = \"text-align: left;\">CI95</th></tr><tr class = \"subheader headerLastRow\"><th class = \"rowNumber\" style = \"font-weight: bold; text-align: right;\"></th><th title = \"Int64\" style = \"text-align: left;\">Int64</th><th title = \"Float64\" style = \"text-align: left;\">Float64</th><th title = \"Float64\" style = \"text-align: left;\">Float64</th><th title = \"Float64\" style = \"text-align: left;\">Float64</th></tr></thead><tbody><tr><td class = \"rowNumber\" style = \"font-weight: bold; text-align: right;\">1</td><td style = \"text-align: right;\">50</td><td style = \"text-align: right;\">1.2999</td><td style = \"text-align: right;\">0.33409</td><td style = \"text-align: right;\">0.654816</td></tr><tr><td class = \"rowNumber\" style = \"font-weight: bold; text-align: right;\">2</td><td style = \"text-align: right;\">500</td><td style = \"text-align: right;\">1.16906</td><td style = \"text-align: right;\">0.100731</td><td style = \"text-align: right;\">0.197433</td></tr><tr><td class = \"rowNumber\" style = \"font-weight: bold; text-align: right;\">3</td><td style = \"text-align: right;\">5000</td><td style = \"text-align: right;\">1.15137</td><td style = \"text-align: right;\">0.0322606</td><td style = \"text-align: right;\">0.0632307</td></tr><tr><td class = \"rowNumber\" style = \"font-weight: bold; text-align: right;\">4</td><td style = \"text-align: right;\">50000</td><td style = \"text-align: right;\">1.14165</td><td style = \"text-align: right;\">0.0101528</td><td style = \"text-align: right;\">0.0198995</td></tr><tr><td class = \"rowNumber\" style = \"font-weight: bold; text-align: right;\">5</td><td style = \"text-align: right;\">500000</td><td style = \"text-align: right;\">1.15569</td><td style = \"text-align: right;\">0.00322258</td><td style = \"text-align: right;\">0.00631625</td></tr></tbody></table></div>"
      ],
      "text/latex": [
       "\\begin{tabular}{r|cccc}\n",
       "\t& n & premium & SE & CI95\\\\\n",
       "\t\\hline\n",
       "\t& Int64 & Float64 & Float64 & Float64\\\\\n",
       "\t\\hline\n",
       "\t1 & 50 & 1.2999 & 0.33409 & 0.654816 \\\\\n",
       "\t2 & 500 & 1.16906 & 0.100731 & 0.197433 \\\\\n",
       "\t3 & 5000 & 1.15137 & 0.0322606 & 0.0632307 \\\\\n",
       "\t4 & 50000 & 1.14165 & 0.0101528 & 0.0198995 \\\\\n",
       "\t5 & 500000 & 1.15569 & 0.00322258 & 0.00631625 \\\\\n",
       "\\end{tabular}\n"
      ],
      "text/plain": [
       "\u001b[1m5×4 DataFrame\u001b[0m\n",
       "\u001b[1m Row \u001b[0m│\u001b[1m n      \u001b[0m\u001b[1m premium \u001b[0m\u001b[1m SE         \u001b[0m\u001b[1m CI95       \u001b[0m\n",
       "     │\u001b[90m Int64  \u001b[0m\u001b[90m Float64 \u001b[0m\u001b[90m Float64    \u001b[0m\u001b[90m Float64    \u001b[0m\n",
       "─────┼─────────────────────────────────────────\n",
       "   1 │     50  1.2999   0.33409     0.654816\n",
       "   2 │    500  1.16906  0.100731    0.197433\n",
       "   3 │   5000  1.15137  0.0322606   0.0632307\n",
       "   4 │  50000  1.14165  0.0101528   0.0198995\n",
       "   5 │ 500000  1.15569  0.00322258  0.00631625"
      ]
     },
     "execution_count": 28,
     "metadata": {},
     "output_type": "execute_result"
    }
   ],
   "source": [
    "put_price_df = DataFrame(n = Int64[], premium = Float64[], SE = Float64[], CI95 = Float64[]);\n",
    "for n ∈ number_of_samples\n",
    "    S = sample(model, (T = T, Sₒ = Sₒ), number_of_paths = n);\n",
    "    P = payoff([put_contract_model], S);\n",
    "    P̄ = (1/𝒟(r̄,T))*P[:,3];\n",
    "    mean_value = mean(P̄);\n",
    "    std_error_value = (1.0/sqrt(n))*std(P̄);\n",
    "    CI95_value = 1.96*std_error_value;\n",
    "    \n",
    "    results_df = (\n",
    "        \n",
    "        n = n,\n",
    "        premium = mean_value,\n",
    "        SE = std_error_value,\n",
    "        CI95 = CI95_value\n",
    "    );\n",
    "    \n",
    "    push!(put_price_df, results_df);\n",
    "end\n",
    "\n",
    "put_price_df"
   ]
  },
  {
   "cell_type": "markdown",
   "id": "77f79b29-e9e5-4aca-a491-ca3fbc9cb6dd",
   "metadata": {
    "tags": []
   },
   "source": [
    "#### Approach 2: Black–Scholes pricing formula for a European `put` contract\n",
    "The [Black–Scholes](https://en.wikipedia.org/wiki/Black–Scholes_model) pricing formula for a European `put` option is given by the expression:\n",
    "\n",
    "$$\\mathcal{P}_{p}(K,S(T)) = N(-d_{-})K\\mathcal{D}^{-1}_{T,0}(\\bar{r}) - N(-d_{+})S_{\\circ}$$\n",
    "\n",
    "where:\n",
    "\n",
    "$$\n",
    "\\begin{eqnarray}\n",
    "d_{+} & = & \\frac{1}{\\sigma\\sqrt{T}}\\left[\\ln(\\frac{S_{\\circ}}{K}) + (r+\\frac{\\sigma^{2}}{2})T\\right] \\\\\n",
    "d_{-} & = & d_{+} - \\sigma\\sqrt{T}\n",
    "\\end{eqnarray}\n",
    "$$\n",
    "\n",
    "and $N(\\dots)$ denotes the standard normal cumulative distribution function."
   ]
  },
  {
   "cell_type": "code",
   "execution_count": 29,
   "id": "7d781beb-f0c6-49a8-a49b-8c0751f7ee1f",
   "metadata": {},
   "outputs": [
    {
     "data": {
      "text/plain": [
       "1.1567400953361293"
      ]
     },
     "execution_count": 29,
     "metadata": {},
     "output_type": "execute_result"
    }
   ],
   "source": [
    "d₊ = (1/σ̄*sqrt(T))*(log(Sₒ/K)+(r̄+(σ̄^2)/2)*T);\n",
    "d₋ = d₊ - σ̄*sqrt(T);\n",
    "P = cdf(Normal(0,1), -d₋)*K*(1/𝒟(r̄,T)) - cdf(Normal(0,1), -d₊)*Sₒ"
   ]
  },
  {
   "cell_type": "markdown",
   "id": "a08400ba-79b1-43c2-9934-943c262cbfea",
   "metadata": {},
   "source": [
    "## Objective 2: Premium, payoff and profit for an American Put contract"
   ]
  },
  {
   "cell_type": "code",
   "execution_count": null,
   "id": "fcc2fd81-12b3-4482-a689-b01ec7cc2efa",
   "metadata": {},
   "outputs": [],
   "source": []
  }
 ],
 "metadata": {
  "kernelspec": {
   "display_name": "Julia 1.9.1",
   "language": "julia",
   "name": "julia-1.9"
  },
  "language_info": {
   "file_extension": ".jl",
   "mimetype": "application/julia",
   "name": "julia",
   "version": "1.9.2"
  }
 },
 "nbformat": 4,
 "nbformat_minor": 5
}
