{
 "cells": [
  {
   "cell_type": "markdown",
   "id": "7bdb8046-a42b-4dac-8512-30d8c3b5c34e",
   "metadata": {},
   "source": [
    "# Example: Model the Price of a European Call or Put Contract"
   ]
  },
  {
   "cell_type": "code",
   "execution_count": null,
   "id": "fbd40425-6d24-4ceb-993a-50d3b853eacf",
   "metadata": {},
   "outputs": [],
   "source": []
  }
 ],
 "metadata": {
  "kernelspec": {
   "display_name": "Julia 1.9.1",
   "language": "julia",
   "name": "julia-1.9"
  },
  "language_info": {
   "file_extension": ".jl",
   "mimetype": "application/julia",
   "name": "julia",
   "version": "1.9.1"
  }
 },
 "nbformat": 4,
 "nbformat_minor": 5
}
