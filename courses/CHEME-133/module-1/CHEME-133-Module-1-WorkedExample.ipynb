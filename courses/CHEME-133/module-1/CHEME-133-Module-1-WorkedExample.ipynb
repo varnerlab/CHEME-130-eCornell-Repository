{
 "cells": [
  {
   "cell_type": "markdown",
   "id": "7bdb8046-a42b-4dac-8512-30d8c3b5c34e",
   "metadata": {},
   "source": [
    "# Example: Modeling the Price of European Call or Put Contracts\n",
    "\n",
    "## Background\n",
    "A `call` option is a financial contract that gives the holder the right, but not the obligation, to sell a specified asset, such as stocks, commodities, or currencies, at a predetermined price within a specified time period. Let's consider stock as the underlying asset. A single standard `put` contract controls `100` shares of stock.\n",
    "\n",
    "The business case for buying (or selling) a `call` contract:\n",
    "* __Buyer (long)__: From the buyer's perspective, call contracts allow an investor to benefit from the price movement of `XYZ` to the upside _without_ purchasing `XYZ`. Further, call options (again from the buyer's perspective) have _limited downside risk_, i.e., the maximum amount that the holder of the call option can lose is the premium paid for the option. Finally, call options are a mechanism to purchase shares of `XYZ` at the strike price of $K$ instead of the market price of $S$. \n",
    "* __Seller (short)__: From the seller's perspective, the main objective of selling a call contract is to collect the premium $\\mathcal{P}$. Call contracts also allow the seller to benefit from the price movement of `XYZ` to the downside _without_ purchasing `XYZ`. However, for a seller, call options have _unlimted upside_ risk; thus, call options are often only sold by investors who already own the required number of shares of `XYZ` (known as a [covered call position](https://www.investopedia.com/terms/c/coveredcall.asp)). Finally, call options offer the seller the opportunity to sell shares of `XYZ` at the strike price of $K$ instead of the market price of $S$.\n",
    "\n",
    "A `put` option is a financial contract that gives the holder the right, but not the obligation, to sell a specified asset, such as stocks, commodities, or currencies, at a predetermined price within a specified time period. Let's consider stock as the underlying asset. A single standard `put` contract controls `100` shares of stock.\n",
    "\n",
    "The business case for buying (or selling) `put` contracts:\n",
    "* __Buyer (long)__: From the buyer's perspective, `put` contracts allow an investor to benefit from the price movement of `XYZ` to the downside _without_ purchasing `XYZ`. Further, `put` options (again from the buyer's perspective) have _limited downside risk_, i.e., the maximum amount that the holder of the `put` option can lose is the premium paid for the option. Finally, `put` contracts are a mechanism to sell shares of `XYZ` at the strike price of $K$ instead of the market price of $S$. \n",
    "* __Seller (short)__: From the seller's perspective, the motivation for selling a `put` contract is to collect the premium $\\mathcal{P}$. Put contracts also allow the seller to benefit from the price movement of `XYZ` to the upside _without_ purchasing `XYZ`. However, for a seller, `put` options have _unlimted downside_ risk; thus, `put` options are often only sold by investors who have set aside the required capital to purchase the required number of shares of `XYZ` (known as a [cash secured put position](https://www.fidelity.com/learning-center/investment-products/options/know-about-cash-covered-puts)). Finally, `put` options offer the seller the opportunity to buy shares of `XYZ` at the strike price of $K-\\mathcal{P}$ instead of the market price of $S$.\n",
    "\n",
    "\n",
    "Buyers of [European](https://www.investopedia.com/terms/e/europeanoption.asp) style contracts can only exercise their right on the expiration date. "
   ]
  },
  {
   "cell_type": "markdown",
   "id": "51cf25c5-40bc-4c88-a592-b8b73b26522a",
   "metadata": {},
   "source": [
    "## Setup\n",
    "Fill me in"
   ]
  },
  {
   "cell_type": "code",
   "execution_count": 2,
   "id": "39d05de0-442c-4ea9-bc0d-4859e64ff740",
   "metadata": {},
   "outputs": [],
   "source": [
    "include(\"Include.jl\");"
   ]
  },
  {
   "cell_type": "markdown",
   "id": "963cff2e-c1f6-4bf4-801d-d0a528aad2cd",
   "metadata": {},
   "source": [
    "## Learning objectives\n",
    "In this example, we will calculate the premium, profit and breakeven for `call` and `put` option contracts. Our focus will be on [European-style contracts](https://en.wikipedia.org/wiki/Option_style), which can only be exercised at the time of expiration.\n",
    "\n",
    "* __Objective 1__: involves computing the premium, profit, and breakeven points for European-style `call` contracts using both the [Monte Carlo simulation approach](https://en.wikipedia.org/wiki/Monte_Carlo_method) and the [Black-Scholes pricing formula](https://en.wikipedia.org/wiki/Black–Scholes_mode). \n",
    "* __Objective 2__: involves computing the premium, profit, and breakeven points for European-style `put` contracts using both the [Monte Carlo simulation approach](https://en.wikipedia.org/wiki/Monte_Carlo_method) and the [Black-Scholes pricing formula](https://en.wikipedia.org/wiki/Black–Scholes_mode). "
   ]
  },
  {
   "cell_type": "markdown",
   "id": "af83f1dc-9079-4e8e-affc-586194980d61",
   "metadata": {
    "tags": []
   },
   "source": [
    "## Objective 1: European `call` contracts"
   ]
  },
  {
   "cell_type": "markdown",
   "id": "6f05e6ee-758c-4a44-9d18-5660f0b4dbec",
   "metadata": {},
   "source": [
    "Let's begin by computing the premium $\\mathcal{P}_{c}(K,S(T))$ the buyer must pay for a `call` contract. When early excersise is not allowed, the pricing formula is given by:\n",
    "\n",
    "$$\\mathcal{P}_{c}(K,S(T)) = \\mathbb{E}\\Bigl(\\mathcal{D}^{-1}_{T,0}(\\bar{r})\\cdot{V_{c}}(K,S(T))\\Bigr)$$\n",
    "\n",
    "which says the right (but not the obligation) to excercise the `call` contract is the expected value of the discounted future payoff from the contract. To compute the expectation, we simulate the future share price `T` days in the future using a [geometric Brownian motion](https://en.wikipedia.org/wiki/Geometric_Brownian_motion#:~:text=A%20geometric%20Brownian%20motion%20(GBM,a%20Wiener%20process)%20with%20drift.) model for the future share price:\n",
    "\n",
    "$$S(T) = S_{\\circ}\\exp\\Biggl[\\left(\\bar{r}-\\frac{\\sigma^{2}}{2}\\right)\\cdot{T} + (\\sigma\\sqrt{T})\\cdot{Z_{t}(0,1)}\\Biggr]$$\n",
    "\n",
    "where we assume $S_{\\circ}$ is the share price today, $\\bar{r}$ denotes the risk-free rate (risk-neutral pricing), $\\sigma$ denotes share price volatility and `T` denotes the number of days until contract expiration. Once we have the $\\mathcal{P}_{c}(K,S(T))$ value, we can calculate (and visualize) the payoff, potential profit and breakeven values for the `call` contract.\n",
    "\n",
    "### Implementation\n",
    "Let's consider an example: We have a European `call` that expires in `T = 365` days with a strike price `K = 60.0`. The current share price is `S(0)=60.0`. Assume a risk free rate of return of `5%` and a implied volatility of `10%`. The correct answer is $\\mathcal{P}_{c}(K,S(T))$ = 4.08 USD/share. \n",
    "\n",
    "Let's compute the European `call` premium using two appoaches:\n",
    "\n",
    "* Approach 1: Monte Carlo simulation of the share price by sampling the geometric Brownian motion model, and then explicitly calculating the expectation in the pricing relationship\n",
    "* Approach 2: Use the [Black–Scholes](https://en.wikipedia.org/wiki/Black–Scholes_model) pricing formula for a European `call` option\n",
    "\n",
    "We start by defining the problem parameters that are shared between the approaches:"
   ]
  },
  {
   "cell_type": "markdown",
   "id": "5fd74057-afa1-45ae-b34b-71d05a8f24cd",
   "metadata": {},
   "source": [
    "## Objective 2: European `put` contracts"
   ]
  },
  {
   "cell_type": "markdown",
   "id": "45942b62-b1b5-44fc-bbeb-f63f0624b45b",
   "metadata": {},
   "source": [
    "Let's begin by computing the premium $\\mathcal{P}_{p}(K,S(T))$ the buyer must pay for a `put` contract. When early excersise is not allowed, the pricing formula is given by (the equality case):\n",
    "\n",
    "$$\\mathcal{P}_{p}(K,S(T)) = \\mathbb{E}\\Bigl(\\mathcal{D}^{-1}_{T,0}(\\bar{r})\\cdot{V_{p}}(K,S(T))\\Bigr)$$\n",
    "\n",
    "which says the right (but not the obligation) to excercise the `put` contract is the expected value of the discounted future payoff from the contract. To compute the expectation, we simulate the future share price `T` days in the future using a [geometric Brownian motion](https://en.wikipedia.org/wiki/Geometric_Brownian_motion#:~:text=A%20geometric%20Brownian%20motion%20(GBM,a%20Wiener%20process)%20with%20drift.) model for the future share price:\n",
    "\n",
    "$$S(T) = S_{\\circ}\\exp\\Biggl[\\left(\\bar{r}-\\frac{\\sigma^{2}}{2}\\right)\\cdot{T} + (\\sigma\\sqrt{T})\\cdot{Z_{t}(0,1)}\\Biggr]$$\n",
    "\n",
    "where we assume $S_{\\circ}$ is the share price today, $\\bar{r}$ denotes the risk-free rate (risk-neutral pricing), $\\sigma$ denotes share price volatility and `T` denotes the number of days until contract expiration. Once we have the $\\mathcal{P}_{p}(K,S(T))$, we can calculate (and visualize) the payoff and potential profit for the `put` contract.\n",
    "\n",
    "### Implementation\n",
    "Let's consider an example: We have a European `put` that expires in `T = 365` days with a strike price `K = 60.0`. The current share price is `S(0)=60.0`. Assume a risk free rate of return of `5%` and a implied volatility of `10%`. The correct answer is $\\mathcal{P}_{p}(K,S(T))$ = 1.16 USD/share. Let's compute the premium using two appoaches:\n",
    "\n",
    "* Approach 1: Monte Carlo simulation of the share price by sampling the geometric Brownian motion model, and then explicitly calculating the expectation in the pricing relationship\n",
    "* Approach 2: Use the [Black–Scholes](https://en.wikipedia.org/wiki/Black–Scholes_model) pricing formula for a European `put` option\n",
    "\n",
    "We start by defining the problem parameters that are shared between the approaches:"
   ]
  },
  {
   "cell_type": "code",
   "execution_count": null,
   "id": "dff9403f-5bd4-4efc-addf-8f26db2b7c2e",
   "metadata": {},
   "outputs": [],
   "source": []
  }
 ],
 "metadata": {
  "kernelspec": {
   "display_name": "Julia 1.9.1",
   "language": "julia",
   "name": "julia-1.9"
  },
  "language_info": {
   "file_extension": ".jl",
   "mimetype": "application/julia",
   "name": "julia",
   "version": "1.9.2"
  }
 },
 "nbformat": 4,
 "nbformat_minor": 5
}
