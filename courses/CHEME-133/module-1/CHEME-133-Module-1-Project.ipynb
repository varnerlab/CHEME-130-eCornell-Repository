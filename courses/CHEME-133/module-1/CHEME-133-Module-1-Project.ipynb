{
 "cells": [
  {
   "cell_type": "markdown",
   "id": "bca83dd1-30f2-4cb9-9f12-6477ad00dcab",
   "metadata": {},
   "source": [
    "# Project: Compute the Profit and Breakeven for European Options Contracts\n",
    "This project will familiarize students with computing the payoff, profit, and breakeven points of European-style `call` and `put` contracts\n",
    "\n",
    "### Learning objectives\n",
    "* __Objective 1__: Computing the Payoff, Profit, and Breakeven for a European `call` contract\n",
    "    * `TODO`: Compute the Payoff array for a `call` contract as a function of the share price at expiration $S(T)$\n",
    "    * `TODO`: Compute the Profit array for a `call` contract as a function of the share price at expiration $S(T)$\n",
    "    * `Check`: Numerical versus analytical breakeven calculation for a `call` contract\n",
    "* __Objective 2__: Compute the Payoff, Profit, and Breakeven for a European `put` contract.\n",
    "    * `Repeat` the analysis above for a European-style `put` option"
   ]
  },
  {
   "cell_type": "markdown",
   "id": "06d29a9a-5d22-4750-a2da-4e9a6f2de063",
   "metadata": {},
   "source": [
    "## Setup\n",
    "We set up the computational environment by including the `Include.jl` file. The `Include.jl` file loads external packages, various functions we will use in the exercise, and custom types to model the components of our example problem.\n",
    "* See the [Julia programming language documentation](https://docs.julialang.org/en/v1/) and the [VLQuantitativeFinancePackage.jl documentation](https://github.com/varnerlab/VLQuantitativeFinancePackage.jl) for additional information on functions and types used in this material. "
   ]
  },
  {
   "cell_type": "code",
   "execution_count": 2,
   "id": "0ce5e70a-6919-426a-8d5c-823360ed20e2",
   "metadata": {},
   "outputs": [
    {
     "name": "stderr",
     "output_type": "stream",
     "text": [
      "\u001b[32m\u001b[1m    Updating\u001b[22m\u001b[39m git-repo `https://github.com/varnerlab/VLQuantitativeFinancePackage.jl.git`\n"
     ]
    },
    {
     "name": "stderr",
     "output_type": "stream",
     "text": [
      "\u001b[32m\u001b[1m   Resolving\u001b[22m\u001b[39m package versions...\n"
     ]
    },
    {
     "name": "stderr",
     "output_type": "stream",
     "text": [
      "\u001b[32m\u001b[1m    Updating\u001b[22m\u001b[39m `~/Desktop/julia_work/CHEME-130-eCornell-Repository/courses/CHEME-133/module-1/Project.toml`\n",
      "  \u001b[90m[4119e0bf] \u001b[39m\u001b[93m~ VLQuantitativeFinancePackage v1.0.0-DEV `https://github.com/varnerlab/VLQuantitativeFinancePackage.jl.git#main` ⇒ v1.0.0-DEV `https://github.com/varnerlab/VLQuantitativeFinancePackage.jl.git#main`\u001b[39m\n",
      "\u001b[32m\u001b[1m    Updating\u001b[22m\u001b[39m `~/Desktop/julia_work/CHEME-130-eCornell-Repository/courses/CHEME-133/module-1/Manifest.toml`\n",
      "  \u001b[90m[4119e0bf] \u001b[39m\u001b[93m~ VLQuantitativeFinancePackage v1.0.0-DEV `https://github.com/varnerlab/VLQuantitativeFinancePackage.jl.git#main` ⇒ v1.0.0-DEV `https://github.com/varnerlab/VLQuantitativeFinancePackage.jl.git#main`\u001b[39m\n"
     ]
    },
    {
     "name": "stderr",
     "output_type": "stream",
     "text": [
      "\u001b[32m\u001b[1mPrecompiling\u001b[22m\u001b[39m "
     ]
    },
    {
     "name": "stderr",
     "output_type": "stream",
     "text": [
      "project...\n"
     ]
    },
    {
     "name": "stderr",
     "output_type": "stream",
     "text": [
      "\u001b[32m  ✓ \u001b[39mVLQuantitativeFinancePackage\n",
      "  1 dependency successfully precompiled in 7 seconds. 216 already precompiled.\n",
      "\u001b[32m\u001b[1m  Activating\u001b[22m\u001b[39m project at `~/Desktop/julia_work/CHEME-130-eCornell-Repository/courses/CHEME-133/module-1`\n"
     ]
    },
    {
     "name": "stderr",
     "output_type": "stream",
     "text": [
      "\u001b[32m\u001b[1m  No Changes\u001b[22m\u001b[39m to `~/Desktop/julia_work/CHEME-130-eCornell-Repository/courses/CHEME-133/module-1/Project.toml`\n",
      "\u001b[32m\u001b[1m  No Changes\u001b[22m\u001b[39m to `~/Desktop/julia_work/CHEME-130-eCornell-Repository/courses/CHEME-133/module-1/Manifest.toml`\n"
     ]
    },
    {
     "name": "stderr",
     "output_type": "stream",
     "text": [
      "\u001b[32m\u001b[1m    Updating\u001b[22m\u001b[39m registry at `~/.julia/registries/General.toml`\n"
     ]
    },
    {
     "name": "stderr",
     "output_type": "stream",
     "text": [
      "\u001b[32m\u001b[1m    Updating\u001b[22m\u001b[39m git-repo `https://github.com/varnerlab/VLQuantitativeFinancePackage.jl.git`\n"
     ]
    },
    {
     "name": "stderr",
     "output_type": "stream",
     "text": [
      "\u001b[32m\u001b[1m  No Changes\u001b[22m\u001b[39m to `~/Desktop/julia_work/CHEME-130-eCornell-Repository/courses/CHEME-133/module-1/Project.toml`\n",
      "\u001b[32m\u001b[1m    Updating\u001b[22m\u001b[39m `~/Desktop/julia_work/CHEME-130-eCornell-Repository/courses/CHEME-133/module-1/Manifest.toml`\n"
     ]
    },
    {
     "name": "stderr",
     "output_type": "stream",
     "text": [
      "  \u001b[90m[34da2185] \u001b[39m\u001b[93m↑ Compat v4.12.0 ⇒ v4.13.0\u001b[39m\n"
     ]
    }
   ],
   "source": [
    "include(\"Include.jl\");"
   ]
  },
  {
   "cell_type": "code",
   "execution_count": 3,
   "id": "b842a977-ebe1-478d-9996-3eb11a475cb0",
   "metadata": {},
   "outputs": [],
   "source": [
    "β = range(0.6,stop=1.4,length=1001) |> collect;"
   ]
  },
  {
   "cell_type": "markdown",
   "id": "5da5b270-5ffb-44d8-9535-f9bbacc692ae",
   "metadata": {
    "jp-MarkdownHeadingCollapsed": true
   },
   "source": [
    "## Objective 1: Computing the Payoff, Profit and Breakeven for a European `call` contract\n",
    "We have a European `call` that expires in `T = 365` days with a strike price of `K = 60.0 USD`. The current share price is `S(0) = 60.0 USD`. Assume a risk-free rate of return of `5%` and an implied volatility of `10%`. The correct premium is $\\mathcal{P}_{c}(K,S(0))$ = `4.08 USD/share`. \n",
    "Compute the breakeven and the profit as a function of the share price at expiration $S(T)$ for this contract from the perspective of the contract buyer."
   ]
  },
  {
   "cell_type": "markdown",
   "id": "2e6c6ea8-3cf6-4f0b-997e-38a2db3b7033",
   "metadata": {},
   "source": [
    "### TODO: Compute the Payoff array for a `call` contract\n",
    "The profit for a `call` contract is the contract's payoff minus the premium paid for the contract. On the other hand, the breakeven is the share price at expiration where the `profit = 0`.\n",
    "* Create a `MyEuropeanCallContractModel` contract model instance with the abovementioned contract parameters. Store this model in the `call_contract_model` variable:"
   ]
  },
  {
   "cell_type": "code",
   "execution_count": 4,
   "id": "4d76f531-b3e1-46fa-9625-441a244c41b2",
   "metadata": {},
   "outputs": [],
   "source": [
    "call_contract_model = build(MyEuropeanCallContractModel, (\n",
    "        K = 60.0, IV = 0.10, DTE = 1.0, sense = 1, copy = 1));"
   ]
  },
  {
   "cell_type": "markdown",
   "id": "32016b8b-f5a7-4c02-b9d6-6cd4787636fe",
   "metadata": {},
   "source": [
    "Next, create an array holding possible share prices at expiration by perturbing the initial share price by the $\\beta$ variable. Store these values in the `share_price_array` variable."
   ]
  },
  {
   "cell_type": "code",
   "execution_count": 5,
   "id": "7a0022b5-2e3b-4218-9fc1-9e22664fe198",
   "metadata": {},
   "outputs": [],
   "source": [
    "share_price_array = Array{Float64,1}();\n",
    "Sₒ = 60.0; # USD/share initial share price \n",
    "for i ∈ eachindex(β)\n",
    "    βᵢ = β[i]; # get perturbation value\n",
    "    push!(share_price_array, βᵢ*Sₒ); # compute the perturbed price, and store \n",
    "end"
   ]
  },
  {
   "cell_type": "markdown",
   "id": "4d13cd27-9b14-422b-be7e-21bf34a8456b",
   "metadata": {},
   "source": [
    "Compute the payoff and profit arrays using the `share_price_array` and the `payoff(...)` function. Save the payoff array in the `V_call` variable.\n",
    "* The `payoff(...)` function takes a contract array $\\mathcal{C}$, and the share prices $S(T)$ as a $\\dim S(T)\\times{1}$ vector, and returns a $\\dim S(T)\\times{3}$ array in the case of single contract. The first column is the share price, and the second column is the contract's payoff.\n",
    "* In cases with multiple contracts, the last column is the net payoff across all contracts. In this case, because $\\dim\\mathcal{C} = 1$, columns two and three are equal."
   ]
  },
  {
   "cell_type": "code",
   "execution_count": 6,
   "id": "9c942b7d-4178-4d2d-889b-78de74de4cf4",
   "metadata": {},
   "outputs": [],
   "source": [
    " V_call = payoff([call_contract_model], share_price_array);"
   ]
  },
  {
   "cell_type": "markdown",
   "id": "1f15503e-ed08-4d09-b9e4-222c8619e399",
   "metadata": {},
   "source": [
    "### TODO: Compute the Profit array for a `call` contract"
   ]
  },
  {
   "cell_type": "markdown",
   "id": "dcb31c31-60e9-423d-bf44-2229e03fecab",
   "metadata": {},
   "source": [
    "Finally, given the payoff array for the `call` contract stored in the `V_call` variable, we can compute the profit and breakeven point by subtracting the premium $\\mathcal{P}_{c}$ paid for the contract. Store this value in the `profit_array_call` variable."
   ]
  },
  {
   "cell_type": "code",
   "execution_count": 7,
   "id": "b94c1ddb-10a1-47e9-af43-4004c5cfba8f",
   "metadata": {},
   "outputs": [],
   "source": [
    "𝒫_call = 4.08; # USD/share specified in the problem\n",
    "profit_array_call = V_call[:,3] .- 𝒫_call;"
   ]
  },
  {
   "cell_type": "markdown",
   "id": "05959a9c-5832-4dd7-b70e-c619ebb32df4",
   "metadata": {},
   "source": [
    "`Unhide` the code block below to see how to plot the payoff and profit of this `call` option at expiration as a function of the `share_price_array`. The breakeven share price at expiration occurs at the intersection of the profit line (red) and the breakeven line (black):"
   ]
  },
  {
   "cell_type": "code",
   "execution_count": 1,
   "id": "9cdd96a1-ede8-4458-b910-68abed8521c3",
   "metadata": {
    "jupyter": {
     "source_hidden": true
    }
   },
   "outputs": [
    {
     "ename": "UndefVarError",
     "evalue": "UndefVarError: `V_call` not defined",
     "output_type": "error",
     "traceback": [
      "UndefVarError: `V_call` not defined\n",
      "\n",
      "Stacktrace:\n",
      " [1] top-level scope\n",
      "   @ ~/Desktop/julia_work/CHEME-130-eCornell-Repository/courses/CHEME-133/module-1/CHEME-133-Module-1-Project.ipynb:1"
     ]
    }
   ],
   "source": [
    "plot(V_call[:,1],  V_call[:,3], label=\"Call Payoff\", lw=3, c=:gray69, ls=:dash)\n",
    "plot!(V_call[:,1], profit_array_call, label=\"Call Loss\", lw=4, c=:red)\n",
    "\n",
    "# find all values where profit >= 0.0\n",
    "idx_profit = findall(x-> x ≥ 0.0, profit_array_call);\n",
    "breakeven_point = K + computed_option_price;\n",
    "plot!(V_call[idx_profit,1], profit_array_call[idx_profit], label=\"Call Profit \", lw=4, c=:green4)\n",
    "scatter!([V_call[idx_profit[1],1]],[profit_array_call[idx_profit[1]]], label=\"Breakeven $(breakeven_point) USD/share\", \n",
    "    c=:black, ms=5, mc=:white)\n",
    "xlabel!(\"Share price at expiration S(T) USD/share\", fontsize=18)\n",
    "ylabel!(\"Profit or Loss Call (USD/share)\", fontsize=18)"
   ]
  },
  {
   "cell_type": "markdown",
   "id": "25d62fa8-2bbb-4546-8bbd-01757bd10f50",
   "metadata": {},
   "source": [
    "### Check: Analytical breakeven calculation for a `call` contract\n",
    "Analysis of the payoff structure for a `call` shows that the breakeven share price $\\mathcal{B}_{c}$ is given by the expression (from the buyer's perspective):\n",
    "$$\n",
    "\\begin{equation}\n",
    "\\mathcal{B}_{c} = K + \\mathcal{P}_{c}\n",
    "\\end{equation}\n",
    "$$\n",
    "where $K$ denotes the strike price, and $\\mathcal{P}_{c}$ denotes the premium paid for the contract. Given the problem parameters, the breakeven for this `call` contract equals $\\mathcal{B}_{c}\\simeq$`64.08 USD/share`. "
   ]
  },
  {
   "cell_type": "markdown",
   "id": "8597cdec-c887-4e7e-8da4-53694a78b354",
   "metadata": {},
   "source": [
    "Let's use the [@assert macro](https://docs.julialang.org/en/v1/base/base/#Base.@assert) to check your profit and breakven calculations."
   ]
  },
  {
   "cell_type": "code",
   "execution_count": 8,
   "id": "76ec63a7-f530-4132-8c0e-6fd7d28d024e",
   "metadata": {},
   "outputs": [],
   "source": [
    "break_even_analytical = 64.08; # USD/share\n",
    "break_even_numerical = findlast(x -> x ≤ 0, profit_array_call) |> x -> share_price_array[x];\n",
    "Δ = (break_even_analytical - break_even_numerical)/break_even_analytical;"
   ]
  },
  {
   "cell_type": "code",
   "execution_count": 9,
   "id": "662d4f2f-6d8e-470f-89c8-b21690dbb4f8",
   "metadata": {},
   "outputs": [],
   "source": [
    "@assert isapprox(Δ, 0.0, atol=1e-4)"
   ]
  },
  {
   "cell_type": "markdown",
   "id": "1f87e846-51b4-4eeb-91c2-c5351cac79c9",
   "metadata": {
    "jp-MarkdownHeadingCollapsed": true
   },
   "source": [
    "## Objective 2: Compute the Payoff, Profit, and Breakeven for a European `put` contract\n",
    "We have a European `put` that expires in `T = 365` days with a strike price `K = 60.0 USD`. The current share price is `S(0) = 60.0 USD`. Assume a risk-free rate of return of `5%` and an implied volatility of `10%`. The correct answer is $\\mathcal{P}_{p}(K,S(0))\\simeq$ `1.16 USD/share`.\n",
    "\n",
    "Repeat the payoff, profit, and breakeven calculations as a function of the share price at expiration $S(T)$ for this `put` contract."
   ]
  },
  {
   "cell_type": "code",
   "execution_count": 10,
   "id": "72bbb65d-dbaa-4830-9be4-98e0eac39acc",
   "metadata": {},
   "outputs": [],
   "source": [
    "### Fill me in"
   ]
  },
  {
   "cell_type": "markdown",
   "id": "4d31606e-358f-4568-a796-ee1396cc34d8",
   "metadata": {},
   "source": [
    "### Check: Analytical breakeven calculation\n",
    "Analysis of the payoff structure for a `put` shows that the breakeven share price $\\mathcal{B}_{p}$ is given by the expression (from the buyer's perspective):\n",
    "$$\n",
    "\\begin{equation}\n",
    "\\mathcal{B}_{p} = K - \\mathcal{P}_{p}\n",
    "\\end{equation}\n",
    "$$\n",
    "where $K$ denotes the strike price, and $\\mathcal{P}_{p}$ denotes the premium paid for the contract. Given the problem parameters, the breakeven for this `put` contract equals $\\mathcal{B}_{p}\\simeq$`58.84 USD/share`. Use the [@assert macro](https://docs.julialang.org/en/v1/base/base/#Base.@assert) to check your profit calculations."
   ]
  },
  {
   "cell_type": "code",
   "execution_count": 11,
   "id": "995d36df-d7da-4b93-b7a8-3e847d9817f3",
   "metadata": {},
   "outputs": [],
   "source": [
    "### fill me in here"
   ]
  },
  {
   "cell_type": "markdown",
   "id": "db1a3213-a90b-4901-a332-0302d2da6c3a",
   "metadata": {},
   "source": [
    "## Disclaimer and Risks\n",
    "__This content is offered solely for training and informational purposes__. No offer or solicitation to buy or sell securities or derivative products or any investment or trading advice or strategy is made, given, or endorsed by the teaching team. \n",
    "\n",
    "__Trading involves risk__. Carefully review your financial situation before investing in securities, futures contracts, options, or commodity interests. Past performance, whether actual or indicated by historical tests of strategies, is no guarantee of future performance or success. Trading is generally inappropriate for someone with limited resources, investment or trading experience, or a low-risk tolerance.  Only risk capital that is not required for living expenses.\n",
    "\n",
    "__You are fully responsible for any investment or trading decisions you make__. Such decisions should be based solely on evaluating your financial circumstances, investment or trading objectives, risk tolerance, and liquidity needs."
   ]
  }
 ],
 "metadata": {
  "kernelspec": {
   "display_name": "Julia 1.10.4",
   "language": "julia",
   "name": "julia-1.10"
  },
  "language_info": {
   "file_extension": ".jl",
   "mimetype": "application/julia",
   "name": "julia",
   "version": "1.10.4"
  }
 },
 "nbformat": 4,
 "nbformat_minor": 5
}
