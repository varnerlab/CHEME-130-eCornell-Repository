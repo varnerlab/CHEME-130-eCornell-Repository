{
 "cells": [
  {
   "cell_type": "markdown",
   "id": "7bdb8046-a42b-4dac-8512-30d8c3b5c34e",
   "metadata": {},
   "source": [
    "# Example: Modeling the Price of European Call or Put Contracts\n",
    "\n",
    "## Background\n",
    "A `call` option is a financial contract that gives the holder the right, but not the obligation, to sell a specified asset, such as stocks, commodities, or currencies, at a predetermined price within a specified time period. Let's consider stock as the underlying asset. A single standard `put` contract controls `100` shares of stock.\n",
    "\n",
    "The business case for buying (or selling) a `call` contract:\n",
    "* __Buyer (long)__: From the buyer's perspective, call contracts allow an investor to benefit from the price movement of `XYZ` to the upside _without_ purchasing `XYZ`. Further, call options (again from the buyer's perspective) have _limited downside risk_, i.e., the maximum amount that the holder of the call option can lose is the premium paid for the option. Finally, call options are a mechanism to purchase shares of `XYZ` at the strike price of $K$ instead of the market price of $S$. \n",
    "* __Seller (short)__: From the seller's perspective, the main objective of selling a call contract is to collect the premium $\\mathcal{P}$. Call contracts also allow the seller to benefit from the price movement of `XYZ` to the downside _without_ purchasing `XYZ`. However, for a seller, call options have _unlimted upside_ risk; thus, call options are often only sold by investors who already own the required number of shares of `XYZ` (known as a [covered call position](https://www.investopedia.com/terms/c/coveredcall.asp)). Finally, call options offer the seller the opportunity to sell shares of `XYZ` at the strike price of $K$ instead of the market price of $S$.\n",
    "\n",
    "A `put` option is a financial contract that gives the holder the right, but not the obligation, to sell a specified asset, such as stocks, commodities, or currencies, at a predetermined price within a specified time period. Let's consider stock as the underlying asset. A single standard `put` contract controls `100` shares of stock.\n",
    "\n",
    "The business case for buying (or selling) `put` contracts:\n",
    "* __Buyer (long)__: From the buyer's perspective, `put` contracts allow an investor to benefit from the price movement of `XYZ` to the downside _without_ purchasing `XYZ`. Further, `put` options (again from the buyer's perspective) have _limited downside risk_, i.e., the maximum amount that the holder of the `put` option can lose is the premium paid for the option. Finally, `put` contracts are a mechanism to sell shares of `XYZ` at the strike price of $K$ instead of the market price of $S$. \n",
    "* __Seller (short)__: From the seller's perspective, the motivation for selling a `put` contract is to collect the premium $\\mathcal{P}$. Put contracts also allow the seller to benefit from the price movement of `XYZ` to the upside _without_ purchasing `XYZ`. However, for a seller, `put` options have _unlimted downside_ risk; thus, `put` options are often only sold by investors who have set aside the required capital to purchase the required number of shares of `XYZ` (known as a [cash secured put position](https://www.fidelity.com/learning-center/investment-products/options/know-about-cash-covered-puts)). Finally, `put` options offer the seller the opportunity to buy shares of `XYZ` at the strike price of $K-\\mathcal{P}$ instead of the market price of $S$.\n",
    "\n",
    "\n",
    "Buyers of [European](https://www.investopedia.com/terms/e/europeanoption.asp) style contracts can only exercise their right on the expiration date. "
   ]
  },
  {
   "cell_type": "markdown",
   "id": "51cf25c5-40bc-4c88-a592-b8b73b26522a",
   "metadata": {},
   "source": [
    "## Setup\n",
    "Fill me in"
   ]
  },
  {
   "cell_type": "code",
   "execution_count": 1,
   "id": "39d05de0-442c-4ea9-bc0d-4859e64ff740",
   "metadata": {},
   "outputs": [],
   "source": [
    "include(\"Include.jl\");"
   ]
  },
  {
   "cell_type": "markdown",
   "id": "963cff2e-c1f6-4bf4-801d-d0a528aad2cd",
   "metadata": {},
   "source": [
    "## Learning objectives\n",
    "In this example, we will calculate the premium, profit and breakeven for `call` and `put` option contracts. Our focus will be on [European-style contracts](https://en.wikipedia.org/wiki/Option_style), which can only be exercised at the time of expiration.\n",
    "\n",
    "* __Objective 1__: involves computing the premium, profit, and breakeven points for European-style `call` contracts using both the [Monte Carlo simulation approach](https://en.wikipedia.org/wiki/Monte_Carlo_method) and the [Black-Scholes pricing formula](https://en.wikipedia.org/wiki/Black–Scholes_mode). \n",
    "* __Objective 2__: involves computing the premium, profit, and breakeven points for European-style `put` contracts using both the [Monte Carlo simulation approach](https://en.wikipedia.org/wiki/Monte_Carlo_method) and the [Black-Scholes pricing formula](https://en.wikipedia.org/wiki/Black–Scholes_mode). "
   ]
  },
  {
   "cell_type": "markdown",
   "id": "af83f1dc-9079-4e8e-affc-586194980d61",
   "metadata": {
    "tags": []
   },
   "source": [
    "## Objective 1: European `call` contracts"
   ]
  },
  {
   "cell_type": "markdown",
   "id": "6f05e6ee-758c-4a44-9d18-5660f0b4dbec",
   "metadata": {},
   "source": [
    "Let's begin by computing the premium $\\mathcal{P}_{c}(K,S(T))$ the buyer must pay for a `call` contract. When early excersise is not allowed, the pricing formula is given by:\n",
    "\n",
    "$$\\mathcal{P}_{c}(K,S(T)) = \\mathbb{E}\\Bigl(\\mathcal{D}^{-1}_{T,0}(\\bar{r})\\cdot{V_{c}}(K,S(T))\\Bigr)$$\n",
    "\n",
    "which says the right (but not the obligation) to excercise the `call` contract is the expected value of the discounted future payoff from the contract. To compute the expectation, we simulate the future share price `T` days in the future using a [geometric Brownian motion](https://en.wikipedia.org/wiki/Geometric_Brownian_motion#:~:text=A%20geometric%20Brownian%20motion%20(GBM,a%20Wiener%20process)%20with%20drift.) model for the future share price:\n",
    "\n",
    "$$S(T) = S_{\\circ}\\exp\\Biggl[\\left(\\bar{r}-\\frac{\\sigma^{2}}{2}\\right)\\cdot{T} + (\\sigma\\sqrt{T})\\cdot{Z_{t}(0,1)}\\Biggr]$$\n",
    "\n",
    "where we assume $S_{\\circ}$ is the share price today, $\\bar{r}$ denotes the risk-free rate (risk-neutral pricing), $\\sigma$ denotes share price volatility and `T` denotes the number of days until contract expiration. Once we have the $\\mathcal{P}_{c}(K,S(T))$ value, we can calculate (and visualize) the payoff, potential profit and breakeven values for the `call` contract.\n",
    "\n",
    "### Implementation\n",
    "Let's consider an example: We have a European `call` that expires in `T = 365` days with a strike price `K = 60.0`. The current share price is `S(0)=60.0`. Assume a risk free rate of return of `5%` and a implied volatility of `10%`. The correct answer is $\\mathcal{P}_{c}(K,S(T))$ = 4.08 USD/share. \n",
    "\n",
    "Let's compute the European `call` premium using two appoaches:\n",
    "\n",
    "* Approach 1: Monte Carlo simulation of the share price by sampling the geometric Brownian motion model, and then explicitly calculating the expectation in the pricing relationship\n",
    "* Approach 2: Use the [Black–Scholes](https://en.wikipedia.org/wiki/Black–Scholes_model) pricing formula for a European `call` option\n",
    "\n",
    "We start by defining the problem parameters that are shared between the approaches:"
   ]
  },
  {
   "cell_type": "code",
   "execution_count": 2,
   "id": "2dda3849-88f8-4fd0-babc-de6a77f9a5dc",
   "metadata": {},
   "outputs": [],
   "source": [
    "Δt = (1.0/365.0);\n",
    "Sₒ = 60.0;\n",
    "K = 60.0;\n",
    "T = 365.0*Δt;\n",
    "r̄ = 0.05;\n",
    "σ̄ = 0.10;"
   ]
  },
  {
   "cell_type": "markdown",
   "id": "41c72f77-44c1-4508-8090-29997be51484",
   "metadata": {
    "tags": []
   },
   "source": [
    "#### Approach 1: Monte Carlo estimate of European `call` contract price\n",
    "Let's build an instance of the `MyGeometricBrownianMotionEquityModel` type which holds the value for the price simulation using the `build(...)` method and store in the `model` variable:"
   ]
  },
  {
   "cell_type": "code",
   "execution_count": 3,
   "id": "ecb18cd5-53f2-43bb-a6c0-b4f535b7f912",
   "metadata": {},
   "outputs": [],
   "source": [
    "model = build(MyGeometricBrownianMotionEquityModel, (\n",
    "        μ = r̄, σ = σ̄));"
   ]
  },
  {
   "cell_type": "markdown",
   "id": "35fa98ba-e78d-4d49-a9af-4cd77b246d28",
   "metadata": {},
   "source": [
    "Next, we build an instance of the `MyEuropeanCallContractModel` type which holds the parameters for the `call` contract using the `build(...)` method. We store the contract model in the `call_contract_model` variable:"
   ]
  },
  {
   "cell_type": "code",
   "execution_count": 4,
   "id": "acdc19f6-2aae-4d1c-9d84-643d70f955cd",
   "metadata": {},
   "outputs": [],
   "source": [
    "call_contract_model = build(MyEuropeanCallContractModel, (\n",
    "        K = K, IV = σ̄, DTE = T, sense = 1));"
   ]
  },
  {
   "cell_type": "markdown",
   "id": "c0c7ee71-cdf2-4c39-a0bb-ec6b11f199d9",
   "metadata": {},
   "source": [
    "We'll simulate the future share price at expiration $S(T)$ for different number of sample paths. We'll store these values in the `number_of_samples` array:"
   ]
  },
  {
   "cell_type": "code",
   "execution_count": 5,
   "id": "bcf97622-c34d-4ef8-bd2d-819dc6470a48",
   "metadata": {},
   "outputs": [],
   "source": [
    "number_of_samples = range(1.0,stop=5,step=1.0) |> collect |> (x-> exp10.(x)) |> (x-> 5*Int.(x));"
   ]
  },
  {
   "cell_type": "markdown",
   "id": "040abf1a-a9fc-4829-b78d-3ebf0e5b7865",
   "metadata": {},
   "source": [
    "Finally, for each number of sample paths, we sample the geometric Brownian model instance using the `sample(...)` function, compute the payoff using `payoff(...)` function, compute the premium array which is stored in the `P̄` variable, and then compute the mean `premium`  and standard error `SE` of the expected discounted future contract payoff. We propulate a `DataFrame` instance that holds the data for each number of sample paths:"
   ]
  },
  {
   "cell_type": "code",
   "execution_count": 6,
   "id": "b17dda56-c01e-4b4f-8d18-ffef1bc7ef04",
   "metadata": {},
   "outputs": [
    {
     "data": {
      "text/html": [
       "<div><div style = \"float: left;\"><span>5×4 DataFrame</span></div><div style = \"clear: both;\"></div></div><div class = \"data-frame\" style = \"overflow-x: scroll;\"><table class = \"data-frame\" style = \"margin-bottom: 6px;\"><thead><tr class = \"header\"><th class = \"rowNumber\" style = \"font-weight: bold; text-align: right;\">Row</th><th style = \"text-align: left;\">n</th><th style = \"text-align: left;\">premium</th><th style = \"text-align: left;\">SE</th><th style = \"text-align: left;\">CI95</th></tr><tr class = \"subheader headerLastRow\"><th class = \"rowNumber\" style = \"font-weight: bold; text-align: right;\"></th><th title = \"Int64\" style = \"text-align: left;\">Int64</th><th title = \"Float64\" style = \"text-align: left;\">Float64</th><th title = \"Float64\" style = \"text-align: left;\">Float64</th><th title = \"Float64\" style = \"text-align: left;\">Float64</th></tr></thead><tbody><tr><td class = \"rowNumber\" style = \"font-weight: bold; text-align: right;\">1</td><td style = \"text-align: right;\">50</td><td style = \"text-align: right;\">3.51091</td><td style = \"text-align: right;\">0.561407</td><td style = \"text-align: right;\">1.10036</td></tr><tr><td class = \"rowNumber\" style = \"font-weight: bold; text-align: right;\">2</td><td style = \"text-align: right;\">500</td><td style = \"text-align: right;\">4.35202</td><td style = \"text-align: right;\">0.215787</td><td style = \"text-align: right;\">0.422943</td></tr><tr><td class = \"rowNumber\" style = \"font-weight: bold; text-align: right;\">3</td><td style = \"text-align: right;\">5000</td><td style = \"text-align: right;\">4.21355</td><td style = \"text-align: right;\">0.0662643</td><td style = \"text-align: right;\">0.129878</td></tr><tr><td class = \"rowNumber\" style = \"font-weight: bold; text-align: right;\">4</td><td style = \"text-align: right;\">50000</td><td style = \"text-align: right;\">4.07984</td><td style = \"text-align: right;\">0.0207828</td><td style = \"text-align: right;\">0.0407343</td></tr><tr><td class = \"rowNumber\" style = \"font-weight: bold; text-align: right;\">5</td><td style = \"text-align: right;\">500000</td><td style = \"text-align: right;\">4.07962</td><td style = \"text-align: right;\">0.00655661</td><td style = \"text-align: right;\">0.012851</td></tr></tbody></table></div>"
      ],
      "text/latex": [
       "\\begin{tabular}{r|cccc}\n",
       "\t& n & premium & SE & CI95\\\\\n",
       "\t\\hline\n",
       "\t& Int64 & Float64 & Float64 & Float64\\\\\n",
       "\t\\hline\n",
       "\t1 & 50 & 3.51091 & 0.561407 & 1.10036 \\\\\n",
       "\t2 & 500 & 4.35202 & 0.215787 & 0.422943 \\\\\n",
       "\t3 & 5000 & 4.21355 & 0.0662643 & 0.129878 \\\\\n",
       "\t4 & 50000 & 4.07984 & 0.0207828 & 0.0407343 \\\\\n",
       "\t5 & 500000 & 4.07962 & 0.00655661 & 0.012851 \\\\\n",
       "\\end{tabular}\n"
      ],
      "text/plain": [
       "\u001b[1m5×4 DataFrame\u001b[0m\n",
       "\u001b[1m Row \u001b[0m│\u001b[1m n      \u001b[0m\u001b[1m premium \u001b[0m\u001b[1m SE         \u001b[0m\u001b[1m CI95      \u001b[0m\n",
       "     │\u001b[90m Int64  \u001b[0m\u001b[90m Float64 \u001b[0m\u001b[90m Float64    \u001b[0m\u001b[90m Float64   \u001b[0m\n",
       "─────┼────────────────────────────────────────\n",
       "   1 │     50  3.51091  0.561407    1.10036\n",
       "   2 │    500  4.35202  0.215787    0.422943\n",
       "   3 │   5000  4.21355  0.0662643   0.129878\n",
       "   4 │  50000  4.07984  0.0207828   0.0407343\n",
       "   5 │ 500000  4.07962  0.00655661  0.012851"
      ]
     },
     "execution_count": 6,
     "metadata": {},
     "output_type": "execute_result"
    }
   ],
   "source": [
    "call_price_df = DataFrame(n = Int64[], premium = Float64[], SE = Float64[], CI95 = Float64[]);\n",
    "for n ∈ number_of_samples\n",
    "    S = sample_endpoint(model, (T = T, Sₒ = Sₒ), number_of_paths = n);\n",
    "    P = payoff([call_contract_model], S);\n",
    "    P̄ = (1/𝒟(r̄,T))*P[:,3];\n",
    "    mean_value = mean(P̄);\n",
    "    std_error_value = (1.0/sqrt(n))*std(P̄);\n",
    "    CI95_value = 1.96*std_error_value;\n",
    "    \n",
    "    results_df = (\n",
    "        \n",
    "        n = n,\n",
    "        premium = mean_value,\n",
    "        SE = std_error_value,\n",
    "        CI95 = CI95_value\n",
    "    );\n",
    "    \n",
    "    push!(call_price_df, results_df);\n",
    "end\n",
    "\n",
    "call_price_df"
   ]
  },
  {
   "cell_type": "markdown",
   "id": "ed2cd21e-42f8-47e5-ad26-283f030219cd",
   "metadata": {
    "jp-MarkdownHeadingCollapsed": true,
    "tags": []
   },
   "source": [
    "#### Approach 2: Black–Scholes pricing formula for a European `call` contract\n",
    "The [Black–Scholes pricing formula ](https://en.wikipedia.org/wiki/Black–Scholes_model) for a European `call` option is given by the expression:\n",
    "\n",
    "$$\\mathcal{P}_{c}(K,S(T)) = N(d_{+})S_{\\circ} - N(d_{-})K\\mathcal{D}^{-1}_{T,0}(\\bar{r}) - $$\n",
    "\n",
    "where:\n",
    "\n",
    "$$\n",
    "\\begin{eqnarray}\n",
    "d_{+} & = & \\frac{1}{\\sigma\\sqrt{T}}\\left[\\ln(\\frac{S_{\\circ}}{K}) + (r+\\frac{\\sigma^{2}}{2})T\\right] \\\\\n",
    "d_{-} & = & d_{+} - \\sigma\\sqrt{T}\n",
    "\\end{eqnarray}\n",
    "$$\n",
    "\n",
    "and $N(\\dots)$ denotes the standard normal cumulative distribution function."
   ]
  },
  {
   "cell_type": "code",
   "execution_count": 7,
   "id": "6497eb26-146e-4ec0-a8ce-cf5482b7577f",
   "metadata": {},
   "outputs": [
    {
     "name": "stdout",
     "output_type": "stream",
     "text": [
      "The premium for the European call contract computed by Black-Scholes is: 4.083 USD/share\n"
     ]
    }
   ],
   "source": [
    "d₊ = (1/σ̄*sqrt(T))*(log(Sₒ/K)+(r̄+(σ̄^2)/2)*T);\n",
    "d₋ = d₊ - σ̄*sqrt(T);\n",
    "P = (cdf(Normal(0,1), d₊)*Sₒ - cdf(Normal(0,1), d₋)*K*(1/𝒟(r̄,T))) |> x-> round(x,sigdigits=4)\n",
    "println(\"The premium for the European call contract computed by Black-Scholes is: $(P) USD/share\")"
   ]
  },
  {
   "cell_type": "markdown",
   "id": "5fd74057-afa1-45ae-b34b-71d05a8f24cd",
   "metadata": {},
   "source": [
    "## Objective 2: European `put` contracts"
   ]
  },
  {
   "cell_type": "markdown",
   "id": "45942b62-b1b5-44fc-bbeb-f63f0624b45b",
   "metadata": {},
   "source": [
    "Let's begin by computing the premium $\\mathcal{P}_{p}(K,S(T))$ the buyer must pay for a `put` contract. When early excersise is not allowed, the pricing formula is given by (the equality case):\n",
    "\n",
    "$$\\mathcal{P}_{p}(K,S(T)) = \\mathbb{E}\\Bigl(\\mathcal{D}^{-1}_{T,0}(\\bar{r})\\cdot{V_{p}}(K,S(T))\\Bigr)$$\n",
    "\n",
    "which says the right (but not the obligation) to excercise the `put` contract is the expected value of the discounted future payoff from the contract. To compute the expectation, we simulate the future share price `T` days in the future using a [geometric Brownian motion](https://en.wikipedia.org/wiki/Geometric_Brownian_motion#:~:text=A%20geometric%20Brownian%20motion%20(GBM,a%20Wiener%20process)%20with%20drift.) model for the future share price:\n",
    "\n",
    "$$S(T) = S_{\\circ}\\exp\\Biggl[\\left(\\bar{r}-\\frac{\\sigma^{2}}{2}\\right)\\cdot{T} + (\\sigma\\sqrt{T})\\cdot{Z_{t}(0,1)}\\Biggr]$$\n",
    "\n",
    "where we assume $S_{\\circ}$ is the share price today, $\\bar{r}$ denotes the risk-free rate (risk-neutral pricing), $\\sigma$ denotes share price volatility and `T` denotes the number of days until contract expiration. Once we have the $\\mathcal{P}_{p}(K,S(T))$, we can calculate (and visualize) the payoff and potential profit for the `put` contract.\n",
    "\n",
    "### Implementation\n",
    "Let's consider an example: We have a European `put` that expires in `T = 365` days with a strike price `K = 60.0`. The current share price is `S(0)=60.0`. Assume a risk free rate of return of `5%` and a implied volatility of `10%`. The correct answer is $\\mathcal{P}_{p}(K,S(T))$ = 1.16 USD/share. Let's compute the premium using two appoaches:\n",
    "\n",
    "* Approach 1: Monte Carlo simulation of the share price by sampling the geometric Brownian motion model, and then explicitly calculating the expectation in the pricing relationship\n",
    "* Approach 2: Use the [Black–Scholes](https://en.wikipedia.org/wiki/Black–Scholes_model) pricing formula for a European `put` option\n",
    "\n",
    "We start by defining the problem parameters that are shared between the approaches:"
   ]
  },
  {
   "cell_type": "code",
   "execution_count": null,
   "id": "dff9403f-5bd4-4efc-addf-8f26db2b7c2e",
   "metadata": {},
   "outputs": [],
   "source": []
  }
 ],
 "metadata": {
  "kernelspec": {
   "display_name": "Julia 1.9.1",
   "language": "julia",
   "name": "julia-1.9"
  },
  "language_info": {
   "file_extension": ".jl",
   "mimetype": "application/julia",
   "name": "julia",
   "version": "1.9.2"
  }
 },
 "nbformat": 4,
 "nbformat_minor": 5
}
