{
 "cells": [
  {
   "cell_type": "markdown",
   "id": "f6215990-5ee9-4d6e-93e8-6aa758c17388",
   "metadata": {},
   "source": [
    "# Project: Simulate the Options Chain for Micron Call Options\n",
    "This project will test the ability of students to compute the premium of [American-style](https://en.wikipedia.org/wiki/Option_style) options contracts.\n",
    "\n",
    "# Learning objectives\n",
    "* __Prerequisites__: Load the options pricing data for all `MU 62-DTE call` contracts\n",
    "* __Objective__: Compute the premium as a function of the strike price for `MU` call options using the Binomial model\n",
    "    * `TODO`: Iterate through `dataset` and compute the `call` contract premiums"
   ]
  },
  {
   "cell_type": "markdown",
   "id": "4952cc40-7108-4b75-8c12-4b85fffd4103",
   "metadata": {},
   "source": [
    "## Setup\n",
    "We set up the computational environment by including the `Include.jl` file. The `Include.jl` file loads external packages, various functions we will use in the exercise, and custom types to model the components of our example problem.\n",
    "* See the [Julia programming language documentation](https://docs.julialang.org/en/v1/) and the [VLQuantitativeFinancePackage.jl documentation](https://github.com/varnerlab/VLQuantitativeFinancePackage.jl) for additional information on functions and types used in this material."
   ]
  },
  {
   "cell_type": "code",
   "execution_count": 1,
   "id": "fb2e2b6b-c2b6-433c-a726-655836b04d2d",
   "metadata": {},
   "outputs": [
    {
     "name": "stderr",
     "output_type": "stream",
     "text": [
      "\u001b[32m\u001b[1m    Updating\u001b[22m\u001b[39m git-repo `https://github.com/varnerlab/VLQuantitativeFinancePackage.jl.git`\n",
      "\u001b[32m\u001b[1m   Resolving\u001b[22m\u001b[39m package versions...\n",
      "\u001b[32m\u001b[1m  No Changes\u001b[22m\u001b[39m to `~/Desktop/julia_work/CHEME-130-eCornell-Repository/courses/CHEME-133/module-2/Project.toml`\n",
      "\u001b[32m\u001b[1m  No Changes\u001b[22m\u001b[39m to `~/Desktop/julia_work/CHEME-130-eCornell-Repository/courses/CHEME-133/module-2/Manifest.toml`\n",
      "\u001b[32m\u001b[1m  Activating\u001b[22m\u001b[39m project at `~/Desktop/julia_work/CHEME-130-eCornell-Repository/courses/CHEME-133/module-2`\n",
      "\u001b[32m\u001b[1m  No Changes\u001b[22m\u001b[39m to `~/Desktop/julia_work/CHEME-130-eCornell-Repository/courses/CHEME-133/module-2/Project.toml`\n",
      "\u001b[32m\u001b[1m  No Changes\u001b[22m\u001b[39m to `~/Desktop/julia_work/CHEME-130-eCornell-Repository/courses/CHEME-133/module-2/Manifest.toml`\n",
      "\u001b[32m\u001b[1m    Updating\u001b[22m\u001b[39m registry at `~/.julia/registries/General.toml`\n",
      "\u001b[32m\u001b[1m    Updating\u001b[22m\u001b[39m git-repo `https://github.com/varnerlab/VLQuantitativeFinancePackage.jl.git`\n",
      "\u001b[32m\u001b[1m  No Changes\u001b[22m\u001b[39m to `~/Desktop/julia_work/CHEME-130-eCornell-Repository/courses/CHEME-133/module-2/Project.toml`\n",
      "\u001b[32m\u001b[1m    Updating\u001b[22m\u001b[39m `~/Desktop/julia_work/CHEME-130-eCornell-Repository/courses/CHEME-133/module-2/Manifest.toml`\n",
      "  \u001b[90m[864edb3b] \u001b[39m\u001b[93m↑ DataStructures v0.18.16 ⇒ v0.18.17\u001b[39m\n",
      "\u001b[32m\u001b[1mPrecompiling\u001b[22m\u001b[39m project...\n",
      "\u001b[32m  ✓ \u001b[39m\u001b[90mSortingAlgorithms\u001b[39m\n",
      "\u001b[32m  ✓ \u001b[39m\u001b[90mQuadGK\u001b[39m\n",
      "\u001b[32m  ✓ \u001b[39m\u001b[90mStatsBase\u001b[39m\n",
      "\u001b[32m  ✓ \u001b[39m\u001b[90mDistributions\u001b[39m\n",
      "\u001b[32m  ✓ \u001b[39m\u001b[90mDistributions → DistributionsTestExt\u001b[39m\n",
      "\u001b[32m  ✓ \u001b[39m\u001b[90mLsqFit\u001b[39m\n",
      "\u001b[32m  ✓ \u001b[39mDataFrames\n",
      "\u001b[32m  ✓ \u001b[39m\u001b[90mLatexify → DataFramesExt\u001b[39m\n",
      "\u001b[32m  ✓ \u001b[39m\u001b[90mMathOptInterface\u001b[39m\n",
      "\u001b[32m  ✓ \u001b[39m\u001b[90mMadNLP\u001b[39m\n",
      "\u001b[32m  ✓ \u001b[39m\u001b[90mJuMP\u001b[39m\n",
      "\u001b[32m  ✓ \u001b[39mPlots\n",
      "\u001b[32m  ✓ \u001b[39mVLQuantitativeFinancePackage\n",
      "\u001b[32m  ✓ \u001b[39m\u001b[90mPlots → FileIOExt\u001b[39m\n",
      "\u001b[32m  ✓ \u001b[39m\u001b[90mPlots → UnitfulExt\u001b[39m\n",
      "  15 dependencies successfully precompiled in 47 seconds. 202 already precompiled.\n",
      "\u001b[36m\u001b[1m[ \u001b[22m\u001b[39m\u001b[36m\u001b[1mInfo: \u001b[22m\u001b[39mPrecompiling IJuliaExt [2f4121a4-3b3a-5ce6-9c5e-1f2673ce168a]\n"
     ]
    }
   ],
   "source": [
    "include(\"Include.jl\");"
   ]
  },
  {
   "cell_type": "markdown",
   "id": "22fc3e12-d1cb-4470-9b06-b9a427ae85f1",
   "metadata": {},
   "source": [
    "## Prerequisites\n",
    "In this project, we will use options chain data for [Micron Technologies](https://www.google.com/finance/quote/MU:NASDAQ?sa=X&ved=2ahUKEwj25cm70byEAxWatokEHesdBYUQ3ecFegQIJhAX), ticker symbol `MU` to test the [Binomial lattice model of Cox, Ross, and Rubinstein](https://en.wikipedia.org/wiki/Binomial_options_pricing_model). We download this data from [Barchart. com](https://www.barchart.com/).\n",
    "* Load the options pricing data for all the `62-DTE call` contracts by loading the entire dataset using the `MyOptionsChainDataSet()` function and filtering out the `call` contract data. Save the resulting `call` contract pricing information in the `dataset` variable:"
   ]
  },
  {
   "cell_type": "code",
   "execution_count": 9,
   "id": "168b88f1-d4fc-4e28-8404-c30523a332d1",
   "metadata": {},
   "outputs": [
    {
     "data": {
      "text/html": [
       "<div><div style = \"float: left;\"><span>37×11 DataFrame</span></div><div style = \"float: right;\"><span style = \"font-style: italic;\">12 rows omitted</span></div><div style = \"clear: both;\"></div></div><div class = \"data-frame\" style = \"overflow-x: scroll;\"><table class = \"data-frame\" style = \"margin-bottom: 6px;\"><thead><tr class = \"header\"><th class = \"rowNumber\" style = \"font-weight: bold; text-align: right;\">Row</th><th style = \"text-align: left;\">Strike</th><th style = \"text-align: left;\">Moneyness</th><th style = \"text-align: left;\">Bid</th><th style = \"text-align: left;\">Mid</th><th style = \"text-align: left;\">Ask</th><th style = \"text-align: left;\">Last</th><th style = \"text-align: left;\">Volume</th><th style = \"text-align: left;\">Open Int</th><th style = \"text-align: left;\">Delta</th><th style = \"text-align: left;\">IV</th><th style = \"text-align: left;\">Type</th></tr><tr class = \"subheader headerLastRow\"><th class = \"rowNumber\" style = \"font-weight: bold; text-align: right;\"></th><th title = \"Float64\" style = \"text-align: left;\">Float64</th><th title = \"Float64\" style = \"text-align: left;\">Float64</th><th title = \"Float64\" style = \"text-align: left;\">Float64</th><th title = \"Float64\" style = \"text-align: left;\">Float64</th><th title = \"Float64\" style = \"text-align: left;\">Float64</th><th title = \"Float64\" style = \"text-align: left;\">Float64</th><th title = \"String7\" style = \"text-align: left;\">String7</th><th title = \"String7\" style = \"text-align: left;\">String7</th><th title = \"Float64\" style = \"text-align: left;\">Float64</th><th title = \"Float64\" style = \"text-align: left;\">Float64</th><th title = \"String7\" style = \"text-align: left;\">String7</th></tr></thead><tbody><tr><td class = \"rowNumber\" style = \"font-weight: bold; text-align: right;\">1</td><td style = \"text-align: right;\">32.5</td><td style = \"text-align: right;\">0.5912</td><td style = \"text-align: right;\">46.9</td><td style = \"text-align: right;\">47.22</td><td style = \"text-align: right;\">47.55</td><td style = \"text-align: right;\">49.16</td><td style = \"text-align: left;\">0</td><td style = \"text-align: left;\">2</td><td style = \"text-align: right;\">0.99881</td><td style = \"text-align: right;\">0.6458</td><td style = \"text-align: left;\">Call</td></tr><tr><td class = \"rowNumber\" style = \"font-weight: bold; text-align: right;\">2</td><td style = \"text-align: right;\">35.0</td><td style = \"text-align: right;\">0.5597</td><td style = \"text-align: right;\">44.4</td><td style = \"text-align: right;\">44.8</td><td style = \"text-align: right;\">45.2</td><td style = \"text-align: right;\">39.75</td><td style = \"text-align: left;\">0</td><td style = \"text-align: left;\">1</td><td style = \"text-align: right;\">0.99364</td><td style = \"text-align: right;\">0.8463</td><td style = \"text-align: left;\">Call</td></tr><tr><td class = \"rowNumber\" style = \"font-weight: bold; text-align: right;\">3</td><td style = \"text-align: right;\">37.5</td><td style = \"text-align: right;\">0.5283</td><td style = \"text-align: right;\">41.95</td><td style = \"text-align: right;\">42.33</td><td style = \"text-align: right;\">42.7</td><td style = \"text-align: right;\">0.0</td><td style = \"text-align: left;\">0</td><td style = \"text-align: left;\">0</td><td style = \"text-align: right;\">0.99303</td><td style = \"text-align: right;\">0.784</td><td style = \"text-align: left;\">Call</td></tr><tr><td class = \"rowNumber\" style = \"font-weight: bold; text-align: right;\">4</td><td style = \"text-align: right;\">40.0</td><td style = \"text-align: right;\">0.4969</td><td style = \"text-align: right;\">39.5</td><td style = \"text-align: right;\">39.9</td><td style = \"text-align: right;\">40.3</td><td style = \"text-align: right;\">46.57</td><td style = \"text-align: left;\">0</td><td style = \"text-align: left;\">24</td><td style = \"text-align: right;\">0.98822</td><td style = \"text-align: right;\">0.7904</td><td style = \"text-align: left;\">Call</td></tr><tr><td class = \"rowNumber\" style = \"font-weight: bold; text-align: right;\">5</td><td style = \"text-align: right;\">42.5</td><td style = \"text-align: right;\">0.4654</td><td style = \"text-align: right;\">36.9</td><td style = \"text-align: right;\">37.35</td><td style = \"text-align: right;\">37.8</td><td style = \"text-align: right;\">43.15</td><td style = \"text-align: left;\">0</td><td style = \"text-align: left;\">1</td><td style = \"text-align: right;\">0.99424</td><td style = \"text-align: right;\">0.6253</td><td style = \"text-align: left;\">Call</td></tr><tr><td class = \"rowNumber\" style = \"font-weight: bold; text-align: right;\">6</td><td style = \"text-align: right;\">45.0</td><td style = \"text-align: right;\">0.434</td><td style = \"text-align: right;\">34.55</td><td style = \"text-align: right;\">34.88</td><td style = \"text-align: right;\">35.2</td><td style = \"text-align: right;\">37.85</td><td style = \"text-align: left;\">0</td><td style = \"text-align: left;\">27</td><td style = \"text-align: right;\">0.9936</td><td style = \"text-align: right;\">0.5769</td><td style = \"text-align: left;\">Call</td></tr><tr><td class = \"rowNumber\" style = \"font-weight: bold; text-align: right;\">7</td><td style = \"text-align: right;\">47.5</td><td style = \"text-align: right;\">0.4025</td><td style = \"text-align: right;\">32.15</td><td style = \"text-align: right;\">32.5</td><td style = \"text-align: right;\">32.85</td><td style = \"text-align: right;\">30.35</td><td style = \"text-align: left;\">0</td><td style = \"text-align: left;\">85</td><td style = \"text-align: right;\">0.98231</td><td style = \"text-align: right;\">0.6363</td><td style = \"text-align: left;\">Call</td></tr><tr><td class = \"rowNumber\" style = \"font-weight: bold; text-align: right;\">8</td><td style = \"text-align: right;\">50.0</td><td style = \"text-align: right;\">0.3711</td><td style = \"text-align: right;\">29.65</td><td style = \"text-align: right;\">30.03</td><td style = \"text-align: right;\">30.4</td><td style = \"text-align: right;\">30.35</td><td style = \"text-align: left;\">2</td><td style = \"text-align: left;\">65</td><td style = \"text-align: right;\">0.95655</td><td style = \"text-align: right;\">0.7286</td><td style = \"text-align: left;\">Call</td></tr><tr><td class = \"rowNumber\" style = \"font-weight: bold; text-align: right;\">9</td><td style = \"text-align: right;\">55.0</td><td style = \"text-align: right;\">0.3082</td><td style = \"text-align: right;\">24.85</td><td style = \"text-align: right;\">25.2</td><td style = \"text-align: right;\">25.55</td><td style = \"text-align: right;\">25.69</td><td style = \"text-align: left;\">30</td><td style = \"text-align: left;\">377</td><td style = \"text-align: right;\">0.96381</td><td style = \"text-align: right;\">0.5384</td><td style = \"text-align: left;\">Call</td></tr><tr><td class = \"rowNumber\" style = \"font-weight: bold; text-align: right;\">10</td><td style = \"text-align: right;\">57.5</td><td style = \"text-align: right;\">0.2767</td><td style = \"text-align: right;\">22.4</td><td style = \"text-align: right;\">22.65</td><td style = \"text-align: right;\">22.9</td><td style = \"text-align: right;\">25.2</td><td style = \"text-align: left;\">0</td><td style = \"text-align: left;\">188</td><td style = \"text-align: right;\">0.96785</td><td style = \"text-align: right;\">0.4557</td><td style = \"text-align: left;\">Call</td></tr><tr><td class = \"rowNumber\" style = \"font-weight: bold; text-align: right;\">11</td><td style = \"text-align: right;\">60.0</td><td style = \"text-align: right;\">0.2453</td><td style = \"text-align: right;\">19.95</td><td style = \"text-align: right;\">20.35</td><td style = \"text-align: right;\">20.75</td><td style = \"text-align: right;\">22.45</td><td style = \"text-align: left;\">3</td><td style = \"text-align: left;\">167</td><td style = \"text-align: right;\">0.94546</td><td style = \"text-align: right;\">0.464</td><td style = \"text-align: left;\">Call</td></tr><tr><td class = \"rowNumber\" style = \"font-weight: bold; text-align: right;\">12</td><td style = \"text-align: right;\">62.5</td><td style = \"text-align: right;\">0.2138</td><td style = \"text-align: right;\">17.9</td><td style = \"text-align: right;\">18.17</td><td style = \"text-align: right;\">18.45</td><td style = \"text-align: right;\">18.45</td><td style = \"text-align: left;\">2</td><td style = \"text-align: left;\">328</td><td style = \"text-align: right;\">0.89447</td><td style = \"text-align: right;\">0.5267</td><td style = \"text-align: left;\">Call</td></tr><tr><td class = \"rowNumber\" style = \"font-weight: bold; text-align: right;\">13</td><td style = \"text-align: right;\">65.0</td><td style = \"text-align: right;\">0.1824</td><td style = \"text-align: right;\">15.7</td><td style = \"text-align: right;\">15.8</td><td style = \"text-align: right;\">15.9</td><td style = \"text-align: right;\">16.17</td><td style = \"text-align: left;\">16</td><td style = \"text-align: left;\">336</td><td style = \"text-align: right;\">0.89434</td><td style = \"text-align: right;\">0.4369</td><td style = \"text-align: left;\">Call</td></tr><tr><td style = \"text-align: right;\">&vellip;</td><td style = \"text-align: right;\">&vellip;</td><td style = \"text-align: right;\">&vellip;</td><td style = \"text-align: right;\">&vellip;</td><td style = \"text-align: right;\">&vellip;</td><td style = \"text-align: right;\">&vellip;</td><td style = \"text-align: right;\">&vellip;</td><td style = \"text-align: right;\">&vellip;</td><td style = \"text-align: right;\">&vellip;</td><td style = \"text-align: right;\">&vellip;</td><td style = \"text-align: right;\">&vellip;</td><td style = \"text-align: right;\">&vellip;</td></tr><tr><td class = \"rowNumber\" style = \"font-weight: bold; text-align: right;\">26</td><td style = \"text-align: right;\">97.5</td><td style = \"text-align: right;\">-0.2264</td><td style = \"text-align: right;\">0.82</td><td style = \"text-align: right;\">0.85</td><td style = \"text-align: right;\">0.88</td><td style = \"text-align: right;\">0.9</td><td style = \"text-align: left;\">41</td><td style = \"text-align: left;\">391</td><td style = \"text-align: right;\">0.13641</td><td style = \"text-align: right;\">0.4029</td><td style = \"text-align: left;\">Call</td></tr><tr><td class = \"rowNumber\" style = \"font-weight: bold; text-align: right;\">27</td><td style = \"text-align: right;\">100.0</td><td style = \"text-align: right;\">-0.2579</td><td style = \"text-align: right;\">0.64</td><td style = \"text-align: right;\">0.66</td><td style = \"text-align: right;\">0.68</td><td style = \"text-align: right;\">0.68</td><td style = \"text-align: left;\">702</td><td style = \"text-align: left;\">10,624</td><td style = \"text-align: right;\">0.11153</td><td style = \"text-align: right;\">0.4118</td><td style = \"text-align: left;\">Call</td></tr><tr><td class = \"rowNumber\" style = \"font-weight: bold; text-align: right;\">28</td><td style = \"text-align: right;\">105.0</td><td style = \"text-align: right;\">-0.3208</td><td style = \"text-align: right;\">0.39</td><td style = \"text-align: right;\">0.41</td><td style = \"text-align: right;\">0.42</td><td style = \"text-align: right;\">0.41</td><td style = \"text-align: left;\">1,302</td><td style = \"text-align: left;\">6,662</td><td style = \"text-align: right;\">0.07138</td><td style = \"text-align: right;\">0.4219</td><td style = \"text-align: left;\">Call</td></tr><tr><td class = \"rowNumber\" style = \"font-weight: bold; text-align: right;\">29</td><td style = \"text-align: right;\">110.0</td><td style = \"text-align: right;\">-0.3836</td><td style = \"text-align: right;\">0.24</td><td style = \"text-align: right;\">0.26</td><td style = \"text-align: right;\">0.28</td><td style = \"text-align: right;\">0.27</td><td style = \"text-align: left;\">29</td><td style = \"text-align: left;\">675</td><td style = \"text-align: right;\">0.04828</td><td style = \"text-align: right;\">0.4382</td><td style = \"text-align: left;\">Call</td></tr><tr><td class = \"rowNumber\" style = \"font-weight: bold; text-align: right;\">30</td><td style = \"text-align: right;\">115.0</td><td style = \"text-align: right;\">-0.4465</td><td style = \"text-align: right;\">0.16</td><td style = \"text-align: right;\">0.18</td><td style = \"text-align: right;\">0.19</td><td style = \"text-align: right;\">0.17</td><td style = \"text-align: left;\">138</td><td style = \"text-align: left;\">3,507</td><td style = \"text-align: right;\">0.03156</td><td style = \"text-align: right;\">0.4488</td><td style = \"text-align: left;\">Call</td></tr><tr><td class = \"rowNumber\" style = \"font-weight: bold; text-align: right;\">31</td><td style = \"text-align: right;\">120.0</td><td style = \"text-align: right;\">-0.5094</td><td style = \"text-align: right;\">0.11</td><td style = \"text-align: right;\">0.12</td><td style = \"text-align: right;\">0.13</td><td style = \"text-align: right;\">0.12</td><td style = \"text-align: left;\">500</td><td style = \"text-align: left;\">224</td><td style = \"text-align: right;\">0.02246</td><td style = \"text-align: right;\">0.4658</td><td style = \"text-align: left;\">Call</td></tr><tr><td class = \"rowNumber\" style = \"font-weight: bold; text-align: right;\">32</td><td style = \"text-align: right;\">125.0</td><td style = \"text-align: right;\">-0.5723</td><td style = \"text-align: right;\">0.07</td><td style = \"text-align: right;\">0.09</td><td style = \"text-align: right;\">0.1</td><td style = \"text-align: right;\">0.1</td><td style = \"text-align: left;\">1</td><td style = \"text-align: left;\">356</td><td style = \"text-align: right;\">0.01824</td><td style = \"text-align: right;\">0.4915</td><td style = \"text-align: left;\">Call</td></tr><tr><td class = \"rowNumber\" style = \"font-weight: bold; text-align: right;\">33</td><td style = \"text-align: right;\">130.0</td><td style = \"text-align: right;\">-0.6352</td><td style = \"text-align: right;\">0.05</td><td style = \"text-align: right;\">0.07</td><td style = \"text-align: right;\">0.08</td><td style = \"text-align: right;\">0.06</td><td style = \"text-align: left;\">4</td><td style = \"text-align: left;\">77</td><td style = \"text-align: right;\">0.01147</td><td style = \"text-align: right;\">0.4936</td><td style = \"text-align: left;\">Call</td></tr><tr><td class = \"rowNumber\" style = \"font-weight: bold; text-align: right;\">34</td><td style = \"text-align: right;\">135.0</td><td style = \"text-align: right;\">-0.6981</td><td style = \"text-align: right;\">0.02</td><td style = \"text-align: right;\">0.05</td><td style = \"text-align: right;\">0.07</td><td style = \"text-align: right;\">0.07</td><td style = \"text-align: left;\">2</td><td style = \"text-align: left;\">111</td><td style = \"text-align: right;\">0.00861</td><td style = \"text-align: right;\">0.5085</td><td style = \"text-align: left;\">Call</td></tr><tr><td class = \"rowNumber\" style = \"font-weight: bold; text-align: right;\">35</td><td style = \"text-align: right;\">140.0</td><td style = \"text-align: right;\">-0.761</td><td style = \"text-align: right;\">0.01</td><td style = \"text-align: right;\">0.09</td><td style = \"text-align: right;\">0.16</td><td style = \"text-align: right;\">0.05</td><td style = \"text-align: left;\">0</td><td style = \"text-align: left;\">206</td><td style = \"text-align: right;\">0.01368</td><td style = \"text-align: right;\">0.5816</td><td style = \"text-align: left;\">Call</td></tr><tr><td class = \"rowNumber\" style = \"font-weight: bold; text-align: right;\">36</td><td style = \"text-align: right;\">145.0</td><td style = \"text-align: right;\">-0.8239</td><td style = \"text-align: right;\">0.01</td><td style = \"text-align: right;\">0.07</td><td style = \"text-align: right;\">0.12</td><td style = \"text-align: right;\">0.05</td><td style = \"text-align: left;\">5</td><td style = \"text-align: left;\">143</td><td style = \"text-align: right;\">0.00854</td><td style = \"text-align: right;\">0.5744</td><td style = \"text-align: left;\">Call</td></tr><tr><td class = \"rowNumber\" style = \"font-weight: bold; text-align: right;\">37</td><td style = \"text-align: right;\">150.0</td><td style = \"text-align: right;\">-0.8868</td><td style = \"text-align: right;\">0.0</td><td style = \"text-align: right;\">0.03</td><td style = \"text-align: right;\">0.06</td><td style = \"text-align: right;\">0.01</td><td style = \"text-align: left;\">72</td><td style = \"text-align: left;\">22</td><td style = \"text-align: right;\">0.00214</td><td style = \"text-align: right;\">0.513</td><td style = \"text-align: left;\">Call</td></tr></tbody></table></div>"
      ],
      "text/latex": [
       "\\begin{tabular}{r|cccccccccc}\n",
       "\t& Strike & Moneyness & Bid & Mid & Ask & Last & Volume & Open Int & Delta & \\\\\n",
       "\t\\hline\n",
       "\t& Float64 & Float64 & Float64 & Float64 & Float64 & Float64 & String7 & String7 & Float64 & \\\\\n",
       "\t\\hline\n",
       "\t1 & 32.5 & 0.5912 & 46.9 & 47.22 & 47.55 & 49.16 & 0 & 2 & 0.99881 & $\\dots$ \\\\\n",
       "\t2 & 35.0 & 0.5597 & 44.4 & 44.8 & 45.2 & 39.75 & 0 & 1 & 0.99364 & $\\dots$ \\\\\n",
       "\t3 & 37.5 & 0.5283 & 41.95 & 42.33 & 42.7 & 0.0 & 0 & 0 & 0.99303 & $\\dots$ \\\\\n",
       "\t4 & 40.0 & 0.4969 & 39.5 & 39.9 & 40.3 & 46.57 & 0 & 24 & 0.98822 & $\\dots$ \\\\\n",
       "\t5 & 42.5 & 0.4654 & 36.9 & 37.35 & 37.8 & 43.15 & 0 & 1 & 0.99424 & $\\dots$ \\\\\n",
       "\t6 & 45.0 & 0.434 & 34.55 & 34.88 & 35.2 & 37.85 & 0 & 27 & 0.9936 & $\\dots$ \\\\\n",
       "\t7 & 47.5 & 0.4025 & 32.15 & 32.5 & 32.85 & 30.35 & 0 & 85 & 0.98231 & $\\dots$ \\\\\n",
       "\t8 & 50.0 & 0.3711 & 29.65 & 30.03 & 30.4 & 30.35 & 2 & 65 & 0.95655 & $\\dots$ \\\\\n",
       "\t9 & 55.0 & 0.3082 & 24.85 & 25.2 & 25.55 & 25.69 & 30 & 377 & 0.96381 & $\\dots$ \\\\\n",
       "\t10 & 57.5 & 0.2767 & 22.4 & 22.65 & 22.9 & 25.2 & 0 & 188 & 0.96785 & $\\dots$ \\\\\n",
       "\t11 & 60.0 & 0.2453 & 19.95 & 20.35 & 20.75 & 22.45 & 3 & 167 & 0.94546 & $\\dots$ \\\\\n",
       "\t12 & 62.5 & 0.2138 & 17.9 & 18.17 & 18.45 & 18.45 & 2 & 328 & 0.89447 & $\\dots$ \\\\\n",
       "\t13 & 65.0 & 0.1824 & 15.7 & 15.8 & 15.9 & 16.17 & 16 & 336 & 0.89434 & $\\dots$ \\\\\n",
       "\t14 & 67.5 & 0.1509 & 13.55 & 13.65 & 13.75 & 14.05 & 6 & 601 & 0.85654 & $\\dots$ \\\\\n",
       "\t15 & 70.0 & 0.1195 & 11.55 & 11.63 & 11.7 & 11.6 & 217 & 1,477 & 0.81008 & $\\dots$ \\\\\n",
       "\t16 & 72.5 & 0.0881 & 9.65 & 9.75 & 9.85 & 10.18 & 4 & 1,037 & 0.75127 & $\\dots$ \\\\\n",
       "\t17 & 75.0 & 0.0566 & 8.0 & 8.05 & 8.1 & 8.1 & 574 & 1,767 & 0.68398 & $\\dots$ \\\\\n",
       "\t18 & 77.5 & 0.0252 & 6.45 & 6.53 & 6.6 & 6.5 & 402 & 409 & 0.61315 & $\\dots$ \\\\\n",
       "\t19 & 80.0 & -0.0063 & 5.15 & 5.2 & 5.25 & 5.21 & 827 & 4,243 & 0.53687 & $\\dots$ \\\\\n",
       "\t20 & 82.5 & -0.0377 & 4.05 & 4.1 & 4.15 & 4.11 & 573 & 5,190 & 0.4609 & $\\dots$ \\\\\n",
       "\t21 & 85.0 & -0.0692 & 3.1 & 3.15 & 3.2 & 3.15 & 22,430 & 23,281 & 0.38647 & $\\dots$ \\\\\n",
       "\t22 & 87.5 & -0.1006 & 2.41 & 2.44 & 2.46 & 2.4 & 1,183 & 9,508 & 0.31992 & $\\dots$ \\\\\n",
       "\t23 & 90.0 & -0.1321 & 1.84 & 1.87 & 1.89 & 1.89 & 2,868 & 9,954 & 0.26252 & $\\dots$ \\\\\n",
       "\t24 & 92.5 & -0.1635 & 1.41 & 1.43 & 1.45 & 1.44 & 5,563 & 9,912 & 0.21183 & $\\dots$ \\\\\n",
       "\t25 & 95.0 & -0.195 & 1.07 & 1.12 & 1.16 & 1.16 & 103 & 7,270 & 0.17495 & $\\dots$ \\\\\n",
       "\t26 & 97.5 & -0.2264 & 0.82 & 0.85 & 0.88 & 0.9 & 41 & 391 & 0.13641 & $\\dots$ \\\\\n",
       "\t27 & 100.0 & -0.2579 & 0.64 & 0.66 & 0.68 & 0.68 & 702 & 10,624 & 0.11153 & $\\dots$ \\\\\n",
       "\t28 & 105.0 & -0.3208 & 0.39 & 0.41 & 0.42 & 0.41 & 1,302 & 6,662 & 0.07138 & $\\dots$ \\\\\n",
       "\t29 & 110.0 & -0.3836 & 0.24 & 0.26 & 0.28 & 0.27 & 29 & 675 & 0.04828 & $\\dots$ \\\\\n",
       "\t30 & 115.0 & -0.4465 & 0.16 & 0.18 & 0.19 & 0.17 & 138 & 3,507 & 0.03156 & $\\dots$ \\\\\n",
       "\t$\\dots$ & $\\dots$ & $\\dots$ & $\\dots$ & $\\dots$ & $\\dots$ & $\\dots$ & $\\dots$ & $\\dots$ & $\\dots$ &  \\\\\n",
       "\\end{tabular}\n"
      ],
      "text/plain": [
       "\u001b[1m37×11 DataFrame\u001b[0m\n",
       "\u001b[1m Row \u001b[0m│\u001b[1m Strike  \u001b[0m\u001b[1m Moneyness \u001b[0m\u001b[1m Bid     \u001b[0m\u001b[1m Mid     \u001b[0m\u001b[1m Ask     \u001b[0m\u001b[1m Last    \u001b[0m\u001b[1m Volume  \u001b[0m\u001b[1m Open I\u001b[0m ⋯\n",
       "     │\u001b[90m Float64 \u001b[0m\u001b[90m Float64   \u001b[0m\u001b[90m Float64 \u001b[0m\u001b[90m Float64 \u001b[0m\u001b[90m Float64 \u001b[0m\u001b[90m Float64 \u001b[0m\u001b[90m String7 \u001b[0m\u001b[90m String\u001b[0m ⋯\n",
       "─────┼──────────────────────────────────────────────────────────────────────────\n",
       "   1 │    32.5     0.5912    46.9     47.22    47.55    49.16  0        2      ⋯\n",
       "   2 │    35.0     0.5597    44.4     44.8     45.2     39.75  0        1\n",
       "   3 │    37.5     0.5283    41.95    42.33    42.7      0.0   0        0\n",
       "   4 │    40.0     0.4969    39.5     39.9     40.3     46.57  0        24\n",
       "   5 │    42.5     0.4654    36.9     37.35    37.8     43.15  0        1      ⋯\n",
       "   6 │    45.0     0.434     34.55    34.88    35.2     37.85  0        27\n",
       "   7 │    47.5     0.4025    32.15    32.5     32.85    30.35  0        85\n",
       "   8 │    50.0     0.3711    29.65    30.03    30.4     30.35  2        65\n",
       "   9 │    55.0     0.3082    24.85    25.2     25.55    25.69  30       377    ⋯\n",
       "  10 │    57.5     0.2767    22.4     22.65    22.9     25.2   0        188\n",
       "  11 │    60.0     0.2453    19.95    20.35    20.75    22.45  3        167\n",
       "  ⋮  │    ⋮         ⋮         ⋮        ⋮        ⋮        ⋮        ⋮        ⋮   ⋱\n",
       "  28 │   105.0    -0.3208     0.39     0.41     0.42     0.41  1,302    6,662\n",
       "  29 │   110.0    -0.3836     0.24     0.26     0.28     0.27  29       675    ⋯\n",
       "  30 │   115.0    -0.4465     0.16     0.18     0.19     0.17  138      3,507\n",
       "  31 │   120.0    -0.5094     0.11     0.12     0.13     0.12  500      224\n",
       "  32 │   125.0    -0.5723     0.07     0.09     0.1      0.1   1        356\n",
       "  33 │   130.0    -0.6352     0.05     0.07     0.08     0.06  4        77     ⋯\n",
       "  34 │   135.0    -0.6981     0.02     0.05     0.07     0.07  2        111\n",
       "  35 │   140.0    -0.761      0.01     0.09     0.16     0.05  0        206\n",
       "  36 │   145.0    -0.8239     0.01     0.07     0.12     0.05  5        143\n",
       "  37 │   150.0    -0.8868     0.0      0.03     0.06     0.01  72       22     ⋯\n",
       "\u001b[36m                                                   4 columns and 16 rows omitted\u001b[0m"
      ]
     },
     "execution_count": 9,
     "metadata": {},
     "output_type": "execute_result"
    }
   ],
   "source": [
    "dataset = MyOptionsChainDataSet() |> x-> filter(:Type=>y-> y==\"Call\", x) # load the dataset, select the Call contracts"
   ]
  },
  {
   "cell_type": "markdown",
   "id": "acf73c87-0d33-468d-b19b-78e617a0bf18",
   "metadata": {},
   "source": [
    "## Objective: Compute the premium as a function of the strike price for `MU` call options\n",
    "To start the premium calculation, set the parameters for this contract and then build an instance of the `MyAdjacencyBasedCRREquityPriceTree` type, an instance of the `MyAmericanCallContractModel` type, and then use the `premium(...)` to compute the premium (price).\n",
    "* Assume there are `365` days per year, and the contract has `T = 62 days` to expiration. The current share price of `MU` is $S_{o}$ = `79.50 USD/share`, and the risk-free-rate is `4.9%`."
   ]
  },
  {
   "cell_type": "code",
   "execution_count": 10,
   "id": "13cba510-aa52-4f15-9182-e86e3ac2b068",
   "metadata": {},
   "outputs": [],
   "source": [
    "Δt = (1/365); # natural time-scale is days\n",
    "T = 62*Δt; # days to the expiration of the contract\n",
    "Sₒ = 79.50; # initial share price of MU shares\n",
    "r̄ = 0.049; # risk-free rate\n",
    "h = 248; # number of levels of the tree, 4-points per day"
   ]
  },
  {
   "cell_type": "markdown",
   "id": "23c91957-e136-41a2-b8e3-fff98cb3b0d8",
   "metadata": {},
   "source": [
    "Notice that we did not set a value for the implied volatility `IV` or the strike price `K` of the `call` contracts. These parameters vary from contract to contract, so we must extract them from the `dataset`."
   ]
  },
  {
   "cell_type": "markdown",
   "id": "4e116fbf-297d-4551-bdc6-1734ee1764e3",
   "metadata": {},
   "source": [
    "### TODO: Iterate through the `dataset` and compute the `call` contract premiums\n",
    "Fill me in"
   ]
  },
  {
   "cell_type": "code",
   "execution_count": 13,
   "id": "28aa74ab-9469-4368-9ba6-49fe8add52c1",
   "metadata": {},
   "outputs": [
    {
     "data": {
      "text/html": [
       "<div><div style = \"float: left;\"><span>37×5 DataFrame</span></div><div style = \"float: right;\"><span style = \"font-style: italic;\">12 rows omitted</span></div><div style = \"clear: both;\"></div></div><div class = \"data-frame\" style = \"overflow-x: scroll;\"><table class = \"data-frame\" style = \"margin-bottom: 6px;\"><thead><tr class = \"header\"><th class = \"rowNumber\" style = \"font-weight: bold; text-align: right;\">Row</th><th style = \"text-align: left;\">K</th><th style = \"text-align: left;\">bid</th><th style = \"text-align: left;\">ask</th><th style = \"text-align: left;\">computed</th><th style = \"text-align: left;\">quality</th></tr><tr class = \"subheader headerLastRow\"><th class = \"rowNumber\" style = \"font-weight: bold; text-align: right;\"></th><th title = \"Float64\" style = \"text-align: left;\">Float64</th><th title = \"Float64\" style = \"text-align: left;\">Float64</th><th title = \"Float64\" style = \"text-align: left;\">Float64</th><th title = \"Float64\" style = \"text-align: left;\">Float64</th><th title = \"Bool\" style = \"text-align: left;\">Bool</th></tr></thead><tbody><tr><td class = \"rowNumber\" style = \"font-weight: bold; text-align: right;\">1</td><td style = \"text-align: right;\">32.5</td><td style = \"text-align: right;\">46.9</td><td style = \"text-align: right;\">47.55</td><td style = \"text-align: right;\">47.27</td><td style = \"text-align: right;\">true</td></tr><tr><td class = \"rowNumber\" style = \"font-weight: bold; text-align: right;\">2</td><td style = \"text-align: right;\">35.0</td><td style = \"text-align: right;\">44.4</td><td style = \"text-align: right;\">45.2</td><td style = \"text-align: right;\">44.84</td><td style = \"text-align: right;\">true</td></tr><tr><td class = \"rowNumber\" style = \"font-weight: bold; text-align: right;\">3</td><td style = \"text-align: right;\">37.5</td><td style = \"text-align: right;\">41.95</td><td style = \"text-align: right;\">42.7</td><td style = \"text-align: right;\">42.37</td><td style = \"text-align: right;\">true</td></tr><tr><td class = \"rowNumber\" style = \"font-weight: bold; text-align: right;\">4</td><td style = \"text-align: right;\">40.0</td><td style = \"text-align: right;\">39.5</td><td style = \"text-align: right;\">40.3</td><td style = \"text-align: right;\">39.94</td><td style = \"text-align: right;\">true</td></tr><tr><td class = \"rowNumber\" style = \"font-weight: bold; text-align: right;\">5</td><td style = \"text-align: right;\">42.5</td><td style = \"text-align: right;\">36.9</td><td style = \"text-align: right;\">37.8</td><td style = \"text-align: right;\">37.39</td><td style = \"text-align: right;\">true</td></tr><tr><td class = \"rowNumber\" style = \"font-weight: bold; text-align: right;\">6</td><td style = \"text-align: right;\">45.0</td><td style = \"text-align: right;\">34.55</td><td style = \"text-align: right;\">35.2</td><td style = \"text-align: right;\">34.91</td><td style = \"text-align: right;\">true</td></tr><tr><td class = \"rowNumber\" style = \"font-weight: bold; text-align: right;\">7</td><td style = \"text-align: right;\">47.5</td><td style = \"text-align: right;\">32.15</td><td style = \"text-align: right;\">32.85</td><td style = \"text-align: right;\">32.53</td><td style = \"text-align: right;\">true</td></tr><tr><td class = \"rowNumber\" style = \"font-weight: bold; text-align: right;\">8</td><td style = \"text-align: right;\">50.0</td><td style = \"text-align: right;\">29.65</td><td style = \"text-align: right;\">30.4</td><td style = \"text-align: right;\">30.38</td><td style = \"text-align: right;\">true</td></tr><tr><td class = \"rowNumber\" style = \"font-weight: bold; text-align: right;\">9</td><td style = \"text-align: right;\">55.0</td><td style = \"text-align: right;\">24.85</td><td style = \"text-align: right;\">25.55</td><td style = \"text-align: right;\">25.22</td><td style = \"text-align: right;\">true</td></tr><tr><td class = \"rowNumber\" style = \"font-weight: bold; text-align: right;\">10</td><td style = \"text-align: right;\">57.5</td><td style = \"text-align: right;\">22.4</td><td style = \"text-align: right;\">22.9</td><td style = \"text-align: right;\">22.67</td><td style = \"text-align: right;\">true</td></tr><tr><td class = \"rowNumber\" style = \"font-weight: bold; text-align: right;\">11</td><td style = \"text-align: right;\">60.0</td><td style = \"text-align: right;\">19.95</td><td style = \"text-align: right;\">20.75</td><td style = \"text-align: right;\">20.37</td><td style = \"text-align: right;\">true</td></tr><tr><td class = \"rowNumber\" style = \"font-weight: bold; text-align: right;\">12</td><td style = \"text-align: right;\">62.5</td><td style = \"text-align: right;\">17.9</td><td style = \"text-align: right;\">18.45</td><td style = \"text-align: right;\">18.47</td><td style = \"text-align: right;\">false</td></tr><tr><td class = \"rowNumber\" style = \"font-weight: bold; text-align: right;\">13</td><td style = \"text-align: right;\">65.0</td><td style = \"text-align: right;\">15.7</td><td style = \"text-align: right;\">15.9</td><td style = \"text-align: right;\">15.81</td><td style = \"text-align: right;\">true</td></tr><tr><td style = \"text-align: right;\">&vellip;</td><td style = \"text-align: right;\">&vellip;</td><td style = \"text-align: right;\">&vellip;</td><td style = \"text-align: right;\">&vellip;</td><td style = \"text-align: right;\">&vellip;</td><td style = \"text-align: right;\">&vellip;</td></tr><tr><td class = \"rowNumber\" style = \"font-weight: bold; text-align: right;\">26</td><td style = \"text-align: right;\">97.5</td><td style = \"text-align: right;\">0.82</td><td style = \"text-align: right;\">0.88</td><td style = \"text-align: right;\">0.8513</td><td style = \"text-align: right;\">true</td></tr><tr><td class = \"rowNumber\" style = \"font-weight: bold; text-align: right;\">27</td><td style = \"text-align: right;\">100.0</td><td style = \"text-align: right;\">0.64</td><td style = \"text-align: right;\">0.68</td><td style = \"text-align: right;\">0.6811</td><td style = \"text-align: right;\">false</td></tr><tr><td class = \"rowNumber\" style = \"font-weight: bold; text-align: right;\">28</td><td style = \"text-align: right;\">105.0</td><td style = \"text-align: right;\">0.39</td><td style = \"text-align: right;\">0.42</td><td style = \"text-align: right;\">0.4103</td><td style = \"text-align: right;\">true</td></tr><tr><td class = \"rowNumber\" style = \"font-weight: bold; text-align: right;\">29</td><td style = \"text-align: right;\">110.0</td><td style = \"text-align: right;\">0.24</td><td style = \"text-align: right;\">0.28</td><td style = \"text-align: right;\">0.2683</td><td style = \"text-align: right;\">true</td></tr><tr><td class = \"rowNumber\" style = \"font-weight: bold; text-align: right;\">30</td><td style = \"text-align: right;\">115.0</td><td style = \"text-align: right;\">0.16</td><td style = \"text-align: right;\">0.19</td><td style = \"text-align: right;\">0.1691</td><td style = \"text-align: right;\">true</td></tr><tr><td class = \"rowNumber\" style = \"font-weight: bold; text-align: right;\">31</td><td style = \"text-align: right;\">120.0</td><td style = \"text-align: right;\">0.11</td><td style = \"text-align: right;\">0.13</td><td style = \"text-align: right;\">0.1185</td><td style = \"text-align: right;\">true</td></tr><tr><td class = \"rowNumber\" style = \"font-weight: bold; text-align: right;\">32</td><td style = \"text-align: right;\">125.0</td><td style = \"text-align: right;\">0.07</td><td style = \"text-align: right;\">0.1</td><td style = \"text-align: right;\">0.09928</td><td style = \"text-align: right;\">true</td></tr><tr><td class = \"rowNumber\" style = \"font-weight: bold; text-align: right;\">33</td><td style = \"text-align: right;\">130.0</td><td style = \"text-align: right;\">0.05</td><td style = \"text-align: right;\">0.08</td><td style = \"text-align: right;\">0.05852</td><td style = \"text-align: right;\">true</td></tr><tr><td class = \"rowNumber\" style = \"font-weight: bold; text-align: right;\">34</td><td style = \"text-align: right;\">135.0</td><td style = \"text-align: right;\">0.02</td><td style = \"text-align: right;\">0.07</td><td style = \"text-align: right;\">0.04398</td><td style = \"text-align: right;\">true</td></tr><tr><td class = \"rowNumber\" style = \"font-weight: bold; text-align: right;\">35</td><td style = \"text-align: right;\">140.0</td><td style = \"text-align: right;\">0.01</td><td style = \"text-align: right;\">0.16</td><td style = \"text-align: right;\">0.08427</td><td style = \"text-align: right;\">true</td></tr><tr><td class = \"rowNumber\" style = \"font-weight: bold; text-align: right;\">36</td><td style = \"text-align: right;\">145.0</td><td style = \"text-align: right;\">0.01</td><td style = \"text-align: right;\">0.12</td><td style = \"text-align: right;\">0.04853</td><td style = \"text-align: right;\">true</td></tr><tr><td class = \"rowNumber\" style = \"font-weight: bold; text-align: right;\">37</td><td style = \"text-align: right;\">150.0</td><td style = \"text-align: right;\">0.0</td><td style = \"text-align: right;\">0.06</td><td style = \"text-align: right;\">0.009695</td><td style = \"text-align: right;\">true</td></tr></tbody></table></div>"
      ],
      "text/latex": [
       "\\begin{tabular}{r|ccccc}\n",
       "\t& K & bid & ask & computed & quality\\\\\n",
       "\t\\hline\n",
       "\t& Float64 & Float64 & Float64 & Float64 & Bool\\\\\n",
       "\t\\hline\n",
       "\t1 & 32.5 & 46.9 & 47.55 & 47.27 & 1 \\\\\n",
       "\t2 & 35.0 & 44.4 & 45.2 & 44.84 & 1 \\\\\n",
       "\t3 & 37.5 & 41.95 & 42.7 & 42.37 & 1 \\\\\n",
       "\t4 & 40.0 & 39.5 & 40.3 & 39.94 & 1 \\\\\n",
       "\t5 & 42.5 & 36.9 & 37.8 & 37.39 & 1 \\\\\n",
       "\t6 & 45.0 & 34.55 & 35.2 & 34.91 & 1 \\\\\n",
       "\t7 & 47.5 & 32.15 & 32.85 & 32.53 & 1 \\\\\n",
       "\t8 & 50.0 & 29.65 & 30.4 & 30.38 & 1 \\\\\n",
       "\t9 & 55.0 & 24.85 & 25.55 & 25.22 & 1 \\\\\n",
       "\t10 & 57.5 & 22.4 & 22.9 & 22.67 & 1 \\\\\n",
       "\t11 & 60.0 & 19.95 & 20.75 & 20.37 & 1 \\\\\n",
       "\t12 & 62.5 & 17.9 & 18.45 & 18.47 & 0 \\\\\n",
       "\t13 & 65.0 & 15.7 & 15.9 & 15.81 & 1 \\\\\n",
       "\t14 & 67.5 & 13.55 & 13.75 & 13.66 & 1 \\\\\n",
       "\t15 & 70.0 & 11.55 & 11.7 & 11.61 & 1 \\\\\n",
       "\t16 & 72.5 & 9.65 & 9.85 & 9.761 & 1 \\\\\n",
       "\t17 & 75.0 & 8.0 & 8.1 & 8.11 & 0 \\\\\n",
       "\t18 & 77.5 & 6.45 & 6.6 & 6.508 & 1 \\\\\n",
       "\t19 & 80.0 & 5.15 & 5.25 & 5.218 & 1 \\\\\n",
       "\t20 & 82.5 & 4.05 & 4.15 & 4.115 & 1 \\\\\n",
       "\t21 & 85.0 & 3.1 & 3.2 & 3.156 & 1 \\\\\n",
       "\t22 & 87.5 & 2.41 & 2.46 & 2.439 & 1 \\\\\n",
       "\t23 & 90.0 & 1.84 & 1.89 & 1.887 & 1 \\\\\n",
       "\t24 & 92.5 & 1.41 & 1.45 & 1.442 & 1 \\\\\n",
       "\t25 & 95.0 & 1.07 & 1.16 & 1.163 & 0 \\\\\n",
       "\t26 & 97.5 & 0.82 & 0.88 & 0.8513 & 1 \\\\\n",
       "\t27 & 100.0 & 0.64 & 0.68 & 0.6811 & 0 \\\\\n",
       "\t28 & 105.0 & 0.39 & 0.42 & 0.4103 & 1 \\\\\n",
       "\t29 & 110.0 & 0.24 & 0.28 & 0.2683 & 1 \\\\\n",
       "\t30 & 115.0 & 0.16 & 0.19 & 0.1691 & 1 \\\\\n",
       "\t$\\dots$ & $\\dots$ & $\\dots$ & $\\dots$ & $\\dots$ & $\\dots$ \\\\\n",
       "\\end{tabular}\n"
      ],
      "text/plain": [
       "\u001b[1m37×5 DataFrame\u001b[0m\n",
       "\u001b[1m Row \u001b[0m│\u001b[1m K       \u001b[0m\u001b[1m bid     \u001b[0m\u001b[1m ask     \u001b[0m\u001b[1m computed  \u001b[0m\u001b[1m quality \u001b[0m\n",
       "     │\u001b[90m Float64 \u001b[0m\u001b[90m Float64 \u001b[0m\u001b[90m Float64 \u001b[0m\u001b[90m Float64   \u001b[0m\u001b[90m Bool    \u001b[0m\n",
       "─────┼───────────────────────────────────────────────\n",
       "   1 │    32.5    46.9     47.55  47.27         true\n",
       "   2 │    35.0    44.4     45.2   44.84         true\n",
       "   3 │    37.5    41.95    42.7   42.37         true\n",
       "   4 │    40.0    39.5     40.3   39.94         true\n",
       "   5 │    42.5    36.9     37.8   37.39         true\n",
       "   6 │    45.0    34.55    35.2   34.91         true\n",
       "   7 │    47.5    32.15    32.85  32.53         true\n",
       "   8 │    50.0    29.65    30.4   30.38         true\n",
       "   9 │    55.0    24.85    25.55  25.22         true\n",
       "  10 │    57.5    22.4     22.9   22.67         true\n",
       "  11 │    60.0    19.95    20.75  20.37         true\n",
       "  ⋮  │    ⋮        ⋮        ⋮         ⋮         ⋮\n",
       "  28 │   105.0     0.39     0.42   0.4103       true\n",
       "  29 │   110.0     0.24     0.28   0.2683       true\n",
       "  30 │   115.0     0.16     0.19   0.1691       true\n",
       "  31 │   120.0     0.11     0.13   0.1185       true\n",
       "  32 │   125.0     0.07     0.1    0.09928      true\n",
       "  33 │   130.0     0.05     0.08   0.05852      true\n",
       "  34 │   135.0     0.02     0.07   0.04398      true\n",
       "  35 │   140.0     0.01     0.16   0.08427      true\n",
       "  36 │   145.0     0.01     0.12   0.04853      true\n",
       "  37 │   150.0     0.0      0.06   0.009695     true\n",
       "\u001b[36m                                      16 rows omitted\u001b[0m"
      ]
     },
     "execution_count": 13,
     "metadata": {},
     "output_type": "execute_result"
    }
   ],
   "source": [
    "number_of_contracts = nrow(dataset);\n",
    "premium_table = DataFrame();\n",
    "for i ∈ 1:number_of_contracts\n",
    "\n",
    "    # get the data for contract i\n",
    "    K = dataset[i,:Strike]\n",
    "    IV = dataset[i,:IV];\n",
    "    bid = dataset[i,:Bid]\n",
    "    ask = dataset[i,:Ask]\n",
    "\n",
    "    # build the tree for contract i\n",
    "    treemodel = build(MyAdjacencyBasedCRREquityPriceTree, \n",
    "        (μ = r̄, T = T, σ = IV)) |> (x-> populate(x, Sₒ = Sₒ, h = h));\n",
    "\n",
    "    # build the contract model for contract i\n",
    "    contractmodel = build(MyAmericanCallContractModel, (\n",
    "        K = K, sense = 1, copy = 1));\n",
    "\n",
    "    # compute the premium for contract i\n",
    "    𝒫 = premium(contractmodel, treemodel);\n",
    "\n",
    "    # populate the data frame -\n",
    "    row = (\n",
    "        K = K,\n",
    "        bid = bid,\n",
    "        ask = ask,\n",
    "        computed = 𝒫,\n",
    "        quality = ((bid <= 𝒫) && (𝒫 <= ask))\n",
    "    );\n",
    "    push!(premium_table, row);\n",
    "end\n",
    "premium_table"
   ]
  },
  {
   "cell_type": "markdown",
   "id": "4653fbc7-c763-4117-a77c-1c99d726b7a7",
   "metadata": {},
   "source": [
    "## Disclaimer and Risks\n",
    "__This content is offered solely for training and informational purposes__. No offer or solicitation to buy or sell securities or derivative products or any investment or trading advice or strategy is made, given, or endorsed by the teaching team. \n",
    "\n",
    "__Trading involves risk__. Carefully review your financial situation before investing in securities, futures contracts, options, or commodity interests. Past performance, whether actual or indicated by historical tests of strategies, is no guarantee of future performance or success. Trading is generally inappropriate for someone with limited resources, investment or trading experience, or a low-risk tolerance.  Only risk capital that is not required for living expenses.\n",
    "\n",
    "__You are fully responsible for any investment or trading decisions you make__. Such decisions should be based solely on evaluating your financial circumstances, investment or trading objectives, risk tolerance, and liquidity needs."
   ]
  },
  {
   "cell_type": "code",
   "execution_count": null,
   "id": "bbb34e27-e5ac-4658-aff5-0050def21691",
   "metadata": {},
   "outputs": [],
   "source": []
  }
 ],
 "metadata": {
  "kernelspec": {
   "display_name": "Julia 1.10.1",
   "language": "julia",
   "name": "julia-1.10"
  },
  "language_info": {
   "file_extension": ".jl",
   "mimetype": "application/julia",
   "name": "julia",
   "version": "1.10.1"
  }
 },
 "nbformat": 4,
 "nbformat_minor": 5
}
