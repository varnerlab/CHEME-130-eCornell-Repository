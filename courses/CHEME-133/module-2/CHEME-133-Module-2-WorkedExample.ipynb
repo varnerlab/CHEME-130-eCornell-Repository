{
 "cells": [
  {
   "cell_type": "markdown",
   "id": "4392c941-a12b-48f1-92ad-85dcdd5b2011",
   "metadata": {},
   "source": [
    "# Example: Model Payout and Profit expressions for Long and Short American-style Call Contracts"
   ]
  },
  {
   "cell_type": "code",
   "execution_count": null,
   "id": "5114cba8-fefd-41a3-a575-b2a54ef504a8",
   "metadata": {},
   "outputs": [],
   "source": []
  }
 ],
 "metadata": {
  "kernelspec": {
   "display_name": "Julia 1.9.1",
   "language": "julia",
   "name": "julia-1.9"
  },
  "language_info": {
   "file_extension": ".jl",
   "mimetype": "application/julia",
   "name": "julia",
   "version": "1.9.1"
  }
 },
 "nbformat": 4,
 "nbformat_minor": 5
}
