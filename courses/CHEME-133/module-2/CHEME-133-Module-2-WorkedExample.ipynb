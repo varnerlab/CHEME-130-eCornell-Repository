{
 "cells": [
  {
   "cell_type": "markdown",
   "id": "06cd7a81-b8e1-41b3-b9a1-f45955bf01d2",
   "metadata": {},
   "source": [
    "# Example: Modeling the Premium, Payout, and Profit of Long and Short American-style Call Contracts\n",
    "This example will familiarize students with calculating the premium, profit, and breakeven for [American-style](https://en.wikipedia.org/wiki/Option_style) `call` contracts. \n",
    "\n",
    "### Learning objectives\n",
    "* __Objective 1__: is focused on computing the premium of American-style `call` contracts using the [Cox, Ross, and Rubinstein (CRR) model](https://en.wikipedia.org/wiki/Binomial_options_pricing_model), a specific Binomial lattice model implementation.\n",
    "* __Objective 2__: is focused on comparing the premium of American- and European-style `call` contracts as a function of contract parameters\n",
    "* __Objective 2__: is focused on computing the payoff, profit, and breakeven points for American-style `call` contracts. "
   ]
  },
  {
   "cell_type": "markdown",
   "id": "14cefdd7-c4db-4664-8528-f4489f14b38d",
   "metadata": {},
   "source": [
    "## Setup\n",
    "We set up the computational environment by including the `Include.jl` file. The `Include.jl` file loads external packages, various functions we will use in the exercise, and custom types to model the components of our example problem.\n",
    "* See the [Julia programming language documentation](https://docs.julialang.org/en/v1/) and the [VLQuantitativeFinancePackage.jl documentation](https://github.com/varnerlab/VLQuantitativeFinancePackage.jl) for additional information on functions and types used in this material. "
   ]
  },
  {
   "cell_type": "code",
   "execution_count": 1,
   "id": "a50e0ca4-4c12-4264-9933-07f755b08125",
   "metadata": {},
   "outputs": [
    {
     "name": "stderr",
     "output_type": "stream",
     "text": [
      "\u001b[32m\u001b[1m    Updating\u001b[22m\u001b[39m git-repo `https://github.com/varnerlab/VLQuantitativeFinancePackage.jl.git`\n",
      "\u001b[32m\u001b[1m   Resolving\u001b[22m\u001b[39m package versions...\n",
      "\u001b[32m\u001b[1m    Updating\u001b[22m\u001b[39m `~/Desktop/julia_work/CHEME-130-eCornell-Repository/courses/CHEME-133/module-2/Project.toml`\n",
      "  \u001b[90m[4119e0bf] \u001b[39m\u001b[93m~ VLQuantitativeFinancePackage v1.0.0-DEV `https://github.com/varnerlab/VLQuantitativeFinancePackage.jl.git#main` ⇒ v1.0.0-DEV `https://github.com/varnerlab/VLQuantitativeFinancePackage.jl.git#main`\u001b[39m\n",
      "\u001b[32m\u001b[1m    Updating\u001b[22m\u001b[39m `~/Desktop/julia_work/CHEME-130-eCornell-Repository/courses/CHEME-133/module-2/Manifest.toml`\n",
      "  \u001b[90m[4119e0bf] \u001b[39m\u001b[93m~ VLQuantitativeFinancePackage v1.0.0-DEV `https://github.com/varnerlab/VLQuantitativeFinancePackage.jl.git#main` ⇒ v1.0.0-DEV `https://github.com/varnerlab/VLQuantitativeFinancePackage.jl.git#main`\u001b[39m\n",
      "\u001b[32m\u001b[1mPrecompiling\u001b[22m\u001b[39m project...\n",
      "\u001b[32m  ✓ \u001b[39mVLQuantitativeFinancePackage\n",
      "  1 dependency successfully precompiled in 3 seconds. 216 already precompiled.\n",
      "\u001b[32m\u001b[1m  Activating\u001b[22m\u001b[39m project at `~/Desktop/julia_work/CHEME-130-eCornell-Repository/courses/CHEME-133/module-2`\n",
      "\u001b[32m\u001b[1m  No Changes\u001b[22m\u001b[39m to `~/Desktop/julia_work/CHEME-130-eCornell-Repository/courses/CHEME-133/module-2/Project.toml`\n",
      "\u001b[32m\u001b[1m  No Changes\u001b[22m\u001b[39m to `~/Desktop/julia_work/CHEME-130-eCornell-Repository/courses/CHEME-133/module-2/Manifest.toml`\n",
      "\u001b[32m\u001b[1m    Updating\u001b[22m\u001b[39m registry at `~/.julia/registries/General.toml`\n",
      "\u001b[32m\u001b[1m    Updating\u001b[22m\u001b[39m git-repo `https://github.com/varnerlab/VLQuantitativeFinancePackage.jl.git`\n",
      "\u001b[32m\u001b[1m  No Changes\u001b[22m\u001b[39m to `~/Desktop/julia_work/CHEME-130-eCornell-Repository/courses/CHEME-133/module-2/Project.toml`\n",
      "\u001b[32m\u001b[1m  No Changes\u001b[22m\u001b[39m to `~/Desktop/julia_work/CHEME-130-eCornell-Repository/courses/CHEME-133/module-2/Manifest.toml`\n"
     ]
    }
   ],
   "source": [
    "include(\"Include.jl\")"
   ]
  },
  {
   "cell_type": "markdown",
   "id": "ddeacf2f-5de0-4ec3-8729-7898fb3a25be",
   "metadata": {},
   "source": [
    "## Prerequisites"
   ]
  },
  {
   "cell_type": "code",
   "execution_count": 2,
   "id": "8d776589-d445-44b9-b2d4-17f5533b8e9e",
   "metadata": {},
   "outputs": [],
   "source": [
    "β = range(0.80,stop=1.20,length=21) |> collect;"
   ]
  },
  {
   "cell_type": "markdown",
   "id": "e485eff2-dffd-495d-a0bf-4a8afab12b86",
   "metadata": {},
   "source": [
    "## Objective 1: Compute the Premium of American-style `call` contracts using a Binomial lattice\n",
    "Let's consider an American-style contract with the same parameters as the previous European contract, except that early exercise is now allowed. In particular, let's model a `call` that expires in `T = 365` days with a strike price of `K = 60.0 USD/share`. The current share price of the underlying asset is `S(0) = 60.0 USD/share`. Assume a risk-free rate of return of `5%` and an implied volatility of `10%`. The `European-style` contract price is $\\mathcal{P}_{c}(K,S(0))$ = `4.08 USD/share`.\n",
    "* To start this calculation, we first set the parameters for this case and then build an instance of the `MyAdjacencyBasedCRREquityPriceTree` type, which we use to compute the price. "
   ]
  },
  {
   "cell_type": "code",
   "execution_count": 3,
   "id": "2a64ad63-d413-4e3d-a6b1-03de448adb53",
   "metadata": {},
   "outputs": [],
   "source": [
    "Δt = (1.0/365.0);\n",
    "Sₒ = 60.0;\n",
    "K = 60.0;\n",
    "T = 365*Δt;\n",
    "r̄ = 0.05;\n",
    "IV = 0.10;\n",
    "h = 365;"
   ]
  },
  {
   "cell_type": "markdown",
   "id": "e6ab84b9-93d8-4abf-9c69-e28c97954345",
   "metadata": {},
   "source": [
    "Next, let's build an instance of the `MyAdjacencyBasedCRREquityPriceTree` type, which holds the parameters and data for the binomial price tree using the `build(...)` function. We then pass the empty tree to the `populate(...)` method, which fills in the data in the tree. We store this in the `treemodel` variable:"
   ]
  },
  {
   "cell_type": "code",
   "execution_count": 4,
   "id": "83c2ea3a-e0f7-4bf9-b46d-9f7368004332",
   "metadata": {},
   "outputs": [],
   "source": [
    "treemodel = build(MyAdjacencyBasedCRREquityPriceTree, \n",
    "    (μ = r̄, T = T, σ = IV)) |> (x-> populate(x, Sₒ = Sₒ, h = h));"
   ]
  },
  {
   "cell_type": "markdown",
   "id": "38bafe1d-5cf1-4e36-a9c5-370299267453",
   "metadata": {},
   "source": [
    "Now, create an instance of the `MyAmericanCallContractModel` type, which holds the data for the contract information using the `build(...)` method. We store this instance in the `test_american_call_contract_model` variable:"
   ]
  },
  {
   "cell_type": "code",
   "execution_count": 5,
   "id": "77361d74-b628-4f78-b1d8-3483b7cd8cc3",
   "metadata": {},
   "outputs": [],
   "source": [
    "test_american_call_contract_model = build(MyAmericanCallContractModel, (\n",
    "        K = K, sense = 1, copy = 1));"
   ]
  },
  {
   "cell_type": "markdown",
   "id": "51666481-91e4-4909-9afe-6dafb49818cb",
   "metadata": {},
   "source": [
    "Finally, we compute the premium for this `call` contract by passing the `treemodel` instance (which holds the risk-neutral simulation of the share price) and the `test_american_call_contract_model` instance (holds contact information) to the `premium(...)` function:"
   ]
  },
  {
   "cell_type": "code",
   "execution_count": 6,
   "id": "e5879a11-ecf7-499d-8df5-a8bd8bdcc7c6",
   "metadata": {},
   "outputs": [
    {
     "name": "stdout",
     "output_type": "stream",
     "text": [
      "The CRR premium for the American call contract is: 4.08 USD/share\n"
     ]
    }
   ],
   "source": [
    "P_american_CRR = premium(test_american_call_contract_model, treemodel) |> x-> round(x,sigdigits=3)\n",
    "println(\"The CRR premium for the American call contract is: $(P_american_CRR) USD/share\")"
   ]
  },
  {
   "cell_type": "markdown",
   "id": "2b82adb4-39e1-4ba5-83cb-3a42c93c25a1",
   "metadata": {},
   "source": [
    "## Objective 2: Comparison of American- and European `call` contract premiums\n",
    "The difference between [American-style](https://en.wikipedia.org/wiki/Option_style) and [European-style](https://en.wikipedia.org/wiki/Option_style) options contracts is when exercise is permitted. \n",
    "* `Hypothesis`: From the seller's perspective, [American-style](https://en.wikipedia.org/wiki/Option_style) contracts have increased `exercise` risk. Thus, they have at least the same premium, if not greater, than the equivalent [European-style](https://en.wikipedia.org/wiki/Option_style) contract.\n",
    "\n",
    "Let's test this `hypothesis` by comparing the premiums of equivalent `call` contracts as a function of the initial share price $S_{\\circ}$. We begin by constructing a `MyEuropeanCallContractModel` instance using the `build(...)` method, using the contract parameters from the problem:"
   ]
  },
  {
   "cell_type": "code",
   "execution_count": 7,
   "id": "4cedb49a-96ce-40f2-af53-07864879fef5",
   "metadata": {},
   "outputs": [],
   "source": [
    "test_european_call_contract_model = build(MyEuropeanCallContractModel, (\n",
    "            K = K, IV = IV, DTE = T, sense = 1, copy = 1));"
   ]
  },
  {
   "cell_type": "markdown",
   "id": "6640fec0-1075-4d56-8d9e-54bfba30c961",
   "metadata": {},
   "source": [
    "Next, compute the premium for each style contract for different values of the initial share price $S_{\\circ}$ using a `for-loop.` In each iteration of the loop, we:\n",
    "* Get a value for the perturbation parameter $\\beta_{i}$ from the perturbation array $\\beta$, and then compute a new value for the initial share price, which we store in the $S_{i}$ variable\n",
    "* We then create a `MyAdjacencyBasedCRREquityPriceTree` instance and a `MyBlackScholesContractPricingModel` instance with the new initial share price $S_{i}$, call the `premium(...)` function using the pricing and `contract` models and store the respective premium values.\n",
    "* Finally, we store the initial share price $S_{i}$ and the premium values in the `comparison_df` variable, which is of type `DataFrame`. "
   ]
  },
  {
   "cell_type": "code",
   "execution_count": 9,
   "id": "d9bbfcb4-b1a2-4b00-b5e0-31d864410dbe",
   "metadata": {},
   "outputs": [
    {
     "data": {
      "text/html": [
       "<div><div style = \"float: left;\"><span>21×3 DataFrame</span></div><div style = \"clear: both;\"></div></div><div class = \"data-frame\" style = \"overflow-x: scroll;\"><table class = \"data-frame\" style = \"margin-bottom: 6px;\"><thead><tr class = \"header\"><th class = \"rowNumber\" style = \"font-weight: bold; text-align: right;\">Row</th><th style = \"text-align: left;\">shareprice</th><th style = \"text-align: left;\">American</th><th style = \"text-align: left;\">European</th></tr><tr class = \"subheader headerLastRow\"><th class = \"rowNumber\" style = \"font-weight: bold; text-align: right;\"></th><th title = \"Float64\" style = \"text-align: left;\">Float64</th><th title = \"Float64\" style = \"text-align: left;\">Float64</th><th title = \"Float64\" style = \"text-align: left;\">Float64</th></tr></thead><tbody><tr><td class = \"rowNumber\" style = \"font-weight: bold; text-align: right;\">1</td><td style = \"text-align: right;\">48.0</td><td style = \"text-align: right;\">0.08777</td><td style = \"text-align: right;\">0.08854</td></tr><tr><td class = \"rowNumber\" style = \"font-weight: bold; text-align: right;\">2</td><td style = \"text-align: right;\">49.2</td><td style = \"text-align: right;\">0.1601</td><td style = \"text-align: right;\">0.1607</td></tr><tr><td class = \"rowNumber\" style = \"font-weight: bold; text-align: right;\">3</td><td style = \"text-align: right;\">50.4</td><td style = \"text-align: right;\">0.2735</td><td style = \"text-align: right;\">0.2748</td></tr><tr><td class = \"rowNumber\" style = \"font-weight: bold; text-align: right;\">4</td><td style = \"text-align: right;\">51.6</td><td style = \"text-align: right;\">0.4431</td><td style = \"text-align: right;\">0.4447</td></tr><tr><td class = \"rowNumber\" style = \"font-weight: bold; text-align: right;\">5</td><td style = \"text-align: right;\">52.8</td><td style = \"text-align: right;\">0.6843</td><td style = \"text-align: right;\">0.685</td></tr><tr><td class = \"rowNumber\" style = \"font-weight: bold; text-align: right;\">6</td><td style = \"text-align: right;\">54.0</td><td style = \"text-align: right;\">1.008</td><td style = \"text-align: right;\">1.008</td></tr><tr><td class = \"rowNumber\" style = \"font-weight: bold; text-align: right;\">7</td><td style = \"text-align: right;\">55.2</td><td style = \"text-align: right;\">1.426</td><td style = \"text-align: right;\">1.425</td></tr><tr><td class = \"rowNumber\" style = \"font-weight: bold; text-align: right;\">8</td><td style = \"text-align: right;\">56.4</td><td style = \"text-align: right;\">1.942</td><td style = \"text-align: right;\">1.942</td></tr><tr><td class = \"rowNumber\" style = \"font-weight: bold; text-align: right;\">9</td><td style = \"text-align: right;\">57.6</td><td style = \"text-align: right;\">2.56</td><td style = \"text-align: right;\">2.559</td></tr><tr><td class = \"rowNumber\" style = \"font-weight: bold; text-align: right;\">10</td><td style = \"text-align: right;\">58.8</td><td style = \"text-align: right;\">3.276</td><td style = \"text-align: right;\">3.275</td></tr><tr><td class = \"rowNumber\" style = \"font-weight: bold; text-align: right;\">11</td><td style = \"text-align: right;\">60.0</td><td style = \"text-align: right;\">4.084</td><td style = \"text-align: right;\">4.083</td></tr><tr><td class = \"rowNumber\" style = \"font-weight: bold; text-align: right;\">12</td><td style = \"text-align: right;\">61.2</td><td style = \"text-align: right;\">4.974</td><td style = \"text-align: right;\">4.973</td></tr><tr><td class = \"rowNumber\" style = \"font-weight: bold; text-align: right;\">13</td><td style = \"text-align: right;\">62.4</td><td style = \"text-align: right;\">5.934</td><td style = \"text-align: right;\">5.934</td></tr><tr><td class = \"rowNumber\" style = \"font-weight: bold; text-align: right;\">14</td><td style = \"text-align: right;\">63.6</td><td style = \"text-align: right;\">6.953</td><td style = \"text-align: right;\">6.954</td></tr><tr><td class = \"rowNumber\" style = \"font-weight: bold; text-align: right;\">15</td><td style = \"text-align: right;\">64.8</td><td style = \"text-align: right;\">8.021</td><td style = \"text-align: right;\">8.021</td></tr><tr><td class = \"rowNumber\" style = \"font-weight: bold; text-align: right;\">16</td><td style = \"text-align: right;\">66.0</td><td style = \"text-align: right;\">9.126</td><td style = \"text-align: right;\">9.126</td></tr><tr><td class = \"rowNumber\" style = \"font-weight: bold; text-align: right;\">17</td><td style = \"text-align: right;\">67.2</td><td style = \"text-align: right;\">10.26</td><td style = \"text-align: right;\">10.26</td></tr><tr><td class = \"rowNumber\" style = \"font-weight: bold; text-align: right;\">18</td><td style = \"text-align: right;\">68.4</td><td style = \"text-align: right;\">11.41</td><td style = \"text-align: right;\">11.41</td></tr><tr><td class = \"rowNumber\" style = \"font-weight: bold; text-align: right;\">19</td><td style = \"text-align: right;\">69.6</td><td style = \"text-align: right;\">12.58</td><td style = \"text-align: right;\">12.58</td></tr><tr><td class = \"rowNumber\" style = \"font-weight: bold; text-align: right;\">20</td><td style = \"text-align: right;\">70.8</td><td style = \"text-align: right;\">13.76</td><td style = \"text-align: right;\">13.76</td></tr><tr><td class = \"rowNumber\" style = \"font-weight: bold; text-align: right;\">21</td><td style = \"text-align: right;\">72.0</td><td style = \"text-align: right;\">14.95</td><td style = \"text-align: right;\">14.95</td></tr></tbody></table></div>"
      ],
      "text/latex": [
       "\\begin{tabular}{r|ccc}\n",
       "\t& shareprice & American & European\\\\\n",
       "\t\\hline\n",
       "\t& Float64 & Float64 & Float64\\\\\n",
       "\t\\hline\n",
       "\t1 & 48.0 & 0.08777 & 0.08854 \\\\\n",
       "\t2 & 49.2 & 0.1601 & 0.1607 \\\\\n",
       "\t3 & 50.4 & 0.2735 & 0.2748 \\\\\n",
       "\t4 & 51.6 & 0.4431 & 0.4447 \\\\\n",
       "\t5 & 52.8 & 0.6843 & 0.685 \\\\\n",
       "\t6 & 54.0 & 1.008 & 1.008 \\\\\n",
       "\t7 & 55.2 & 1.426 & 1.425 \\\\\n",
       "\t8 & 56.4 & 1.942 & 1.942 \\\\\n",
       "\t9 & 57.6 & 2.56 & 2.559 \\\\\n",
       "\t10 & 58.8 & 3.276 & 3.275 \\\\\n",
       "\t11 & 60.0 & 4.084 & 4.083 \\\\\n",
       "\t12 & 61.2 & 4.974 & 4.973 \\\\\n",
       "\t13 & 62.4 & 5.934 & 5.934 \\\\\n",
       "\t14 & 63.6 & 6.953 & 6.954 \\\\\n",
       "\t15 & 64.8 & 8.021 & 8.021 \\\\\n",
       "\t16 & 66.0 & 9.126 & 9.126 \\\\\n",
       "\t17 & 67.2 & 10.26 & 10.26 \\\\\n",
       "\t18 & 68.4 & 11.41 & 11.41 \\\\\n",
       "\t19 & 69.6 & 12.58 & 12.58 \\\\\n",
       "\t20 & 70.8 & 13.76 & 13.76 \\\\\n",
       "\t21 & 72.0 & 14.95 & 14.95 \\\\\n",
       "\\end{tabular}\n"
      ],
      "text/plain": [
       "\u001b[1m21×3 DataFrame\u001b[0m\n",
       "\u001b[1m Row \u001b[0m│\u001b[1m shareprice \u001b[0m\u001b[1m American \u001b[0m\u001b[1m European \u001b[0m\n",
       "     │\u001b[90m Float64    \u001b[0m\u001b[90m Float64  \u001b[0m\u001b[90m Float64  \u001b[0m\n",
       "─────┼────────────────────────────────\n",
       "   1 │       48.0   0.08777   0.08854\n",
       "   2 │       49.2   0.1601    0.1607\n",
       "   3 │       50.4   0.2735    0.2748\n",
       "   4 │       51.6   0.4431    0.4447\n",
       "   5 │       52.8   0.6843    0.685\n",
       "   6 │       54.0   1.008     1.008\n",
       "   7 │       55.2   1.426     1.425\n",
       "   8 │       56.4   1.942     1.942\n",
       "   9 │       57.6   2.56      2.559\n",
       "  10 │       58.8   3.276     3.275\n",
       "  11 │       60.0   4.084     4.083\n",
       "  12 │       61.2   4.974     4.973\n",
       "  13 │       62.4   5.934     5.934\n",
       "  14 │       63.6   6.953     6.954\n",
       "  15 │       64.8   8.021     8.021\n",
       "  16 │       66.0   9.126     9.126\n",
       "  17 │       67.2  10.26     10.26\n",
       "  18 │       68.4  11.41     11.41\n",
       "  19 │       69.6  12.58     12.58\n",
       "  20 │       70.8  13.76     13.76\n",
       "  21 │       72.0  14.95     14.95"
      ]
     },
     "execution_count": 9,
     "metadata": {},
     "output_type": "execute_result"
    }
   ],
   "source": [
    "let\n",
    "    comparison_df = DataFrame();\n",
    "    for i ∈ eachindex(β)\n",
    "        \n",
    "        # get the perturbation and compute the new initial share price\n",
    "        βᵢ = β[i];\n",
    "        Sᵢ = Sₒ*βᵢ\n",
    "        \n",
    "        # build the CRR model -\n",
    "        crr_model = build(MyAdjacencyBasedCRREquityPriceTree, \n",
    "            (μ = r̄, T = T, σ = IV)) |> (x-> populate(x, Sₒ = Sᵢ, h = h));\n",
    "    \n",
    "        # Build the BSM model -\n",
    "        bsm_model = build(MyBlackScholesContractPricingModel, (Sₒ = Sᵢ, r = r̄));\n",
    "    \n",
    "        # compute the premium using both approaches -\n",
    "        premium_american = premium(test_american_call_contract_model, crr_model)\n",
    "        premium_european = premium(test_european_call_contract_model, bsm_model)\n",
    "    \n",
    "        # capture -\n",
    "        row_data = (\n",
    "            shareprice = Sᵢ,\n",
    "            American = premium_american,\n",
    "            European = premium_european\n",
    "        );\n",
    "        push!(comparison_df,row_data)\n",
    "    end\n",
    "    comparison_df;\n",
    "end"
   ]
  },
  {
   "cell_type": "code",
   "execution_count": null,
   "id": "2024e983-67f0-4068-8afe-eb1d9fd6176a",
   "metadata": {},
   "outputs": [],
   "source": []
  },
  {
   "cell_type": "code",
   "execution_count": null,
   "id": "8177cabf-2af6-4ac4-9ea8-b36409487c94",
   "metadata": {},
   "outputs": [],
   "source": []
  }
 ],
 "metadata": {
  "kernelspec": {
   "display_name": "Julia 1.10.1",
   "language": "julia",
   "name": "julia-1.10"
  },
  "language_info": {
   "file_extension": ".jl",
   "mimetype": "application/julia",
   "name": "julia",
   "version": "1.10.1"
  }
 },
 "nbformat": 4,
 "nbformat_minor": 5
}
