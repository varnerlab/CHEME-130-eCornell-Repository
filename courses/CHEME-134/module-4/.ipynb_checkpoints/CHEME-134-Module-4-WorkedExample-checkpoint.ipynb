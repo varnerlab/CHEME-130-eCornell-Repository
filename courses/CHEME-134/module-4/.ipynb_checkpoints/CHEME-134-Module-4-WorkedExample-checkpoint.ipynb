{
 "cells": [
  {
   "cell_type": "markdown",
   "id": "aa95a095-28a5-4143-a655-1727625a6e0a",
   "metadata": {},
   "source": [
    "# Example: Dynamic Delta Hedging to Compensate for Share Price Fluctuations"
   ]
  },
  {
   "cell_type": "code",
   "execution_count": null,
   "id": "4bc763cf-16dc-43ab-9a01-c7d656525f46",
   "metadata": {},
   "outputs": [],
   "source": []
  }
 ],
 "metadata": {
  "kernelspec": {
   "display_name": "Julia 1.9.3",
   "language": "julia",
   "name": "julia-1.9"
  },
  "language_info": {
   "file_extension": ".jl",
   "mimetype": "application/julia",
   "name": "julia",
   "version": "1.9.3"
  }
 },
 "nbformat": 4,
 "nbformat_minor": 5
}
