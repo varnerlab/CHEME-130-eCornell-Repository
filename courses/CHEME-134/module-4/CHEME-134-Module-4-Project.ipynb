{
 "cells": [
  {
   "cell_type": "markdown",
   "id": "7fba2ae0-216f-4a10-a8c2-86939922adc7",
   "metadata": {},
   "source": [
    "# Project: Dynamic Delta Hedging to Compensate for Share Price Fluctuations"
   ]
  },
  {
   "cell_type": "code",
   "execution_count": null,
   "id": "c159e4fd-13ab-4943-a8af-3ceef5c966e9",
   "metadata": {},
   "outputs": [],
   "source": []
  }
 ],
 "metadata": {
  "kernelspec": {
   "display_name": "Julia 1.9.3",
   "language": "julia",
   "name": "julia-1.9"
  },
  "language_info": {
   "file_extension": ".jl",
   "mimetype": "application/julia",
   "name": "julia",
   "version": "1.9.3"
  }
 },
 "nbformat": 4,
 "nbformat_minor": 5
}
