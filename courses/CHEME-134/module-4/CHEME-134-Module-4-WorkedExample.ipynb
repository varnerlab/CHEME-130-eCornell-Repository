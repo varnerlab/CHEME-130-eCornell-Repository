{
 "cells": [
  {
   "cell_type": "markdown",
   "id": "aa95a095-28a5-4143-a655-1727625a6e0a",
   "metadata": {},
   "source": [
    "# Example: Dynamic Delta Neutral Hedging to Compensate for Price Fluctuations\n",
    "[Delta hedging](https://en.wikipedia.org/wiki/Delta_neutral) is a strategy used in options trading to minimize the risk associated with price movements in the underlying asset. This approach involves using other options contracts or shares of the underlying asset to achieve a delta-neutral position, i.e., eliminating the directional bias of the position.\n",
    "* __Scenario 1__: You are long a `TSLA` put option (thus, you are short the shares) and are concerned about how the price movement of `TSLA` shares influences the overall risk of your position. Toward this risk, let's explore constructing a delta-neutral hedge.\n",
    "* __Scenario 2__: You are short a `TSLA` call option (thus, you are also short the shares) and are concerned about how the price movement of `TSLA` shares influences the overall risk of your position. Toward this risk, let's explore constructing a delta-neutral hedge.\n",
    "\n",
    "Both scenarios (s) 1 and 2 make the same directional assumption, namely, that `TSLA` shares will decline in price, i.e., you are `bearish` on `TSLA.` Let's explore how delta-neutral hedging would work for these scenarios.\n",
    "\n",
    "## Learning objectives\n",
    "Fill me in."
   ]
  },
  {
   "cell_type": "markdown",
   "id": "9db02324-72c1-4897-82fc-7eb332eca5b5",
   "metadata": {},
   "source": [
    "## Setup\n",
    "Set up the computational environment by including the `Include.jl` file. The `Include.jl` file loads external packages, various functions we will use in the exercise, and custom types to model the components of our example problem.\n",
    "* For additional information on functions and types used in this material, see the [Julia programming language documentation](https://docs.julialang.org/en/v1/) and the [VLQuantitativeFinancePackage.jl documentation](https://github.com/varnerlab/VLQuantitativeFinancePackage.jl). "
   ]
  },
  {
   "cell_type": "code",
   "execution_count": 3,
   "id": "deabdf37-b911-449e-a113-d46f4180f377",
   "metadata": {},
   "outputs": [
    {
     "name": "stderr",
     "output_type": "stream",
     "text": [
      "\u001b[32m\u001b[1m    Updating\u001b[22m\u001b[39m git-repo `https://github.com/varnerlab/VLQuantitativeFinancePackage.jl.git`\n",
      "\u001b[32m\u001b[1m   Resolving\u001b[22m\u001b[39m package versions...\n",
      "\u001b[32m\u001b[1m    Updating\u001b[22m\u001b[39m `~/Desktop/julia_work/CHEME-130-eCornell-Repository/courses/CHEME-134/module-4/Project.toml`\n",
      "  \u001b[90m[4119e0bf] \u001b[39m\u001b[93m~ VLQuantitativeFinancePackage v1.0.0-DEV `https://github.com/varnerlab/VLQuantitativeFinancePackage.jl.git#main` ⇒ v1.0.0-DEV `https://github.com/varnerlab/VLQuantitativeFinancePackage.jl.git#main`\u001b[39m\n",
      "\u001b[32m\u001b[1m    Updating\u001b[22m\u001b[39m `~/Desktop/julia_work/CHEME-130-eCornell-Repository/courses/CHEME-134/module-4/Manifest.toml`\n",
      "  \u001b[90m[4119e0bf] \u001b[39m\u001b[93m~ VLQuantitativeFinancePackage v1.0.0-DEV `https://github.com/varnerlab/VLQuantitativeFinancePackage.jl.git#main` ⇒ v1.0.0-DEV `https://github.com/varnerlab/VLQuantitativeFinancePackage.jl.git#main`\u001b[39m\n",
      "\u001b[32m\u001b[1mPrecompiling\u001b[22m\u001b[39m project...\n",
      "\u001b[32m  ✓ \u001b[39mVLQuantitativeFinancePackage\n",
      "  1 dependency successfully precompiled in 3 seconds. 282 already precompiled.\n",
      "\u001b[32m\u001b[1m  Activating\u001b[22m\u001b[39m project at `~/Desktop/julia_work/CHEME-130-eCornell-Repository/courses/CHEME-134/module-4`\n",
      "\u001b[32m\u001b[1m  No Changes\u001b[22m\u001b[39m to `~/Desktop/julia_work/CHEME-130-eCornell-Repository/courses/CHEME-134/module-4/Project.toml`\n",
      "\u001b[32m\u001b[1m  No Changes\u001b[22m\u001b[39m to `~/Desktop/julia_work/CHEME-130-eCornell-Repository/courses/CHEME-134/module-4/Manifest.toml`\n",
      "\u001b[32m\u001b[1m    Updating\u001b[22m\u001b[39m registry at `~/.julia/registries/General.toml`\n",
      "\u001b[32m\u001b[1m    Updating\u001b[22m\u001b[39m git-repo `https://github.com/varnerlab/VLQuantitativeFinancePackage.jl.git`\n",
      "\u001b[32m\u001b[1m  No Changes\u001b[22m\u001b[39m to `~/Desktop/julia_work/CHEME-130-eCornell-Repository/courses/CHEME-134/module-4/Project.toml`\n",
      "\u001b[32m\u001b[1m  No Changes\u001b[22m\u001b[39m to `~/Desktop/julia_work/CHEME-130-eCornell-Repository/courses/CHEME-134/module-4/Manifest.toml`\n"
     ]
    }
   ],
   "source": [
    "include(\"Include.jl\")"
   ]
  },
  {
   "cell_type": "markdown",
   "id": "50e5cbb8-c7ab-4feb-827a-db9d1ccbf307",
   "metadata": {},
   "source": [
    "## Prerequisites\n",
    "Fill me in"
   ]
  },
  {
   "cell_type": "markdown",
   "id": "c8ddf261-cc96-4162-848d-617bc7a077e9",
   "metadata": {},
   "source": [
    "### Constants"
   ]
  },
  {
   "cell_type": "code",
   "execution_count": 6,
   "id": "48d73bb9-2e0c-4d4f-9998-901990f2fd39",
   "metadata": {},
   "outputs": [],
   "source": [
    "Δt = (1/390)*(1/252); # 1-min\n",
    "number_of_trading_periods = 60; # How many trading periods will we simulate?\n",
    "T = number_of_trading_periods*Δt; # 1-trading hour\n",
    "Sₒ = 261.49; # TSLA share price\n",
    "IVₒ = 0.627397; # IV for K = 210 put with 60-DTE"
   ]
  },
  {
   "cell_type": "markdown",
   "id": "02192cd1-78f4-4c89-8a84-1acd67993df3",
   "metadata": {},
   "source": [
    "Fill me in"
   ]
  },
  {
   "cell_type": "code",
   "execution_count": 8,
   "id": "a42a56d7-4b55-4340-bd86-d6e5fcf3d79a",
   "metadata": {},
   "outputs": [],
   "source": [
    "option_dataset = load(joinpath(_PATH_TO_DATA, \"TSLA-today-2023-06-19-exp-2023-08-18-dte-60d.jld2\")) |> file -> file[\"data\"];"
   ]
  },
  {
   "cell_type": "code",
   "execution_count": 9,
   "id": "8f3be399-eaaf-4fb5-98fc-a50468092d9b",
   "metadata": {},
   "outputs": [
    {
     "data": {
      "text/plain": [
       "Dict{String, Any} with 9 entries:\n",
       "  \"day\"                => Dict{String, Any}(\"change\"=>0, \"high\"=>6.7, \"change_p…\n",
       "  \"details\"            => Dict{String, Any}(\"contract_type\"=>\"put\", \"ticker\"=>\"…\n",
       "  \"last_quote\"         => Dict{String, Any}(\"midpoint\"=>6.125, \"ask\"=>6.2, \"tim…\n",
       "  \"last_trade\"         => Dict{String, Any}(\"timeframe\"=>\"REAL-TIME\", \"exchange…\n",
       "  \"underlying_asset\"   => Dict{String, Any}(\"timeframe\"=>\"REAL-TIME\", \"ticker\"=…\n",
       "  \"greeks\"             => Dict{String, Any}(\"theta\"=>-0.126845, \"gamma\"=>0.0036…\n",
       "  \"open_interest\"      => 3898\n",
       "  \"implied_volatility\" => 0.627397\n",
       "  \"break_even_price\"   => 203.875"
      ]
     },
     "execution_count": 9,
     "metadata": {},
     "output_type": "execute_result"
    }
   ],
   "source": [
    "option_dataset[50]"
   ]
  },
  {
   "cell_type": "markdown",
   "id": "e2bb68cd-afae-4499-bd72-06e1024a7453",
   "metadata": {},
   "source": [
    "One-aggregate data for `TSLA` for 2023"
   ]
  },
  {
   "cell_type": "code",
   "execution_count": 11,
   "id": "024fe3d7-8821-4500-8725-7885a1e259b8",
   "metadata": {},
   "outputs": [],
   "source": [
    "underlying_price_data_df = CSV.read(joinpath(_PATH_TO_DATA, \"TSLA-OHLC-1-min-aggregate-2023.csv\"), DataFrame);"
   ]
  },
  {
   "cell_type": "markdown",
   "id": "dfc65d8f-0f4f-4e00-b7f3-447f6bd1b6d5",
   "metadata": {},
   "source": [
    "Compute the vwap, and the log_growth_matrix "
   ]
  },
  {
   "cell_type": "code",
   "execution_count": 13,
   "id": "85cd2d11-f840-4cc8-88b5-7208657b75f7",
   "metadata": {},
   "outputs": [],
   "source": [
    "growth_rate_array = vwap(underlying_price_data_df) |> data -> log_growth_matrix(data, Δt = Δt);"
   ]
  },
  {
   "cell_type": "markdown",
   "id": "2edb1be0-74f6-4ba3-a513-a1f49227f11b",
   "metadata": {},
   "source": [
    "Compute (u,d,p) parameters from data"
   ]
  },
  {
   "cell_type": "code",
   "execution_count": 15,
   "id": "9f8c1b01-557c-4ed8-9286-0ec1ff8762f1",
   "metadata": {},
   "outputs": [],
   "source": [
    "(ū,d̄,p̄) = (RealWorldBinomialProbabilityMeasure())(growth_rate_array; Δt = Δt);"
   ]
  },
  {
   "cell_type": "code",
   "execution_count": null,
   "id": "0230936f-4c02-47a7-944d-f6b079ca89aa",
   "metadata": {},
   "outputs": [],
   "source": []
  },
  {
   "cell_type": "markdown",
   "id": "6b28fb7d-d7c2-44a0-95f8-489a6d8f29d2",
   "metadata": {},
   "source": [
    "## Task 1: Construct a Binomial Price Tree to Compute Future Share Prices\n",
    "Fill me in."
   ]
  },
  {
   "cell_type": "code",
   "execution_count": 17,
   "id": "16f869bc-68da-4d75-b65b-2f711b48a971",
   "metadata": {},
   "outputs": [],
   "source": [
    "price_tree_model = build(MyBinomialEquityPriceTree, (\n",
    "    u = ū, d = d̄, p = p̄)) |> (x-> populate(x, Sₒ = Sₒ, h = number_of_trading_periods));"
   ]
  },
  {
   "cell_type": "code",
   "execution_count": 41,
   "id": "84d5444d-91c0-4527-9545-9a8c99fb8b81",
   "metadata": {},
   "outputs": [],
   "source": [
    "L = 60;\n",
    "price_array = price_tree_model.levels[L] .|> x-> price_tree_model.data[x].price\n",
    "probability_array = price_tree_model.levels[L] .|> x-> price_tree_model.data[x].probability;"
   ]
  },
  {
   "cell_type": "code",
   "execution_count": 43,
   "id": "093aa1ca-10a6-4ec8-acf9-a79f4151f064",
   "metadata": {},
   "outputs": [
    {
     "data": {
      "text/plain": [
       "61×2 Matrix{Float64}:\n",
       " 272.509  2.50899e-18\n",
       " 272.132  1.45256e-16\n",
       " 271.755  4.13468e-15\n",
       " 271.379  7.71319e-14\n",
       " 271.004  1.06056e-12\n",
       " 270.628  1.14614e-11\n",
       " 270.254  1.01375e-10\n",
       " 269.88   7.54593e-10\n",
       " 269.506  4.82374e-9\n",
       " 269.133  2.68924e-8\n",
       " 268.76   1.32338e-7\n",
       " 268.388  5.80425e-7\n",
       " 268.017  2.28689e-6\n",
       "   ⋮      \n",
       " 254.624  1.49337e-7\n",
       " 254.272  3.17012e-8\n",
       " 253.92   5.99779e-9\n",
       " 253.568  1.00165e-9\n",
       " 253.217  1.45886e-10\n",
       " 252.867  1.82475e-11\n",
       " 252.517  1.92077e-12\n",
       " 252.167  1.65479e-13\n",
       " 251.818  1.1205e-14\n",
       " 251.469  5.59231e-16\n",
       " 251.121  1.82917e-17\n",
       " 250.774  2.94163e-19"
      ]
     },
     "execution_count": 43,
     "metadata": {},
     "output_type": "execute_result"
    }
   ],
   "source": [
    "[price_array probability_array]"
   ]
  },
  {
   "cell_type": "code",
   "execution_count": 45,
   "id": "e8c6bbe8-531e-4f0e-8aa9-ed640dfef566",
   "metadata": {},
   "outputs": [
    {
     "data": {
      "text/plain": [
       "261.6136331464506"
      ]
     },
     "execution_count": 45,
     "metadata": {},
     "output_type": "execute_result"
    }
   ],
   "source": [
    "dot(price_array,probability_array)"
   ]
  },
  {
   "cell_type": "markdown",
   "id": "d5189c62-7758-46cc-a3b2-88ca36571f84",
   "metadata": {},
   "source": [
    "## Disclaimer and Risks\n",
    "__This content is offered solely for training and informational purposes__. No offer or solicitation to buy or sell securities or derivative products or any investment or trading advice or strategy is made, given, or endorsed by the teaching team. \n",
    "\n",
    "__Trading involves risk__. Carefully review your financial situation before investing in securities, futures contracts, options, or commodity interests. Past performance, whether actual or indicated by historical tests of strategies, is no guarantee of future performance or success. Trading is generally inappropriate for someone with limited resources, investment or trading experience, or a low-risk tolerance.  Only risk capital that is not required for living expenses.\n",
    "\n",
    "__You are fully responsible for any investment or trading decisions you make__. You should decide solely based on your financial circumstances, investment or trading objectives, risk tolerance, and liquidity needs."
   ]
  },
  {
   "cell_type": "code",
   "execution_count": null,
   "id": "ee069098-85fd-4700-b693-0a06e5985f7e",
   "metadata": {},
   "outputs": [],
   "source": []
  }
 ],
 "metadata": {
  "kernelspec": {
   "display_name": "Julia 1.10.4",
   "language": "julia",
   "name": "julia-1.10"
  },
  "language_info": {
   "file_extension": ".jl",
   "mimetype": "application/julia",
   "name": "julia",
   "version": "1.10.4"
  }
 },
 "nbformat": 4,
 "nbformat_minor": 5
}
