{
 "cells": [
  {
   "cell_type": "markdown",
   "id": "aa95a095-28a5-4143-a655-1727625a6e0a",
   "metadata": {},
   "source": [
    "# Example: Dynamic Delta Neutral Hedging to Compensate for Price Fluctuations\n",
    "[Delta hedging](https://en.wikipedia.org/wiki/Delta_neutral) is a strategy used in options trading to minimize the risk associated with price movements in the underlying asset. This approach involves using other options contracts or shares of the underlying asset to achieve a delta-neutral position, i.e., eliminating the directional bias of the position.\n",
    "* __Scenario 1__: You are long a `TSLA` put option (thus, you are short the shares) and are concerned about how the price movement of `TSLA` shares influences the overall risk of your position. Toward this risk, let's explore constructing a delta-neutral hedge.\n",
    "* __Scenario 2__: You are short a `TSLA` call option (thus, you are also short the shares) and are concerned about how the price movement of `TSLA` shares influences the overall risk of your position. Toward this risk, let's explore constructing a delta-neutral hedge.\n",
    "\n",
    "Both scenarios (s) 1 and 2 make the same directional assumption, namely, that `TSLA` shares will decline in price, i.e., you are `bearish` on `TSLA.` Let's explore how delta-neutral hedging would work for these scenarios.\n",
    "\n",
    "## Learning objectives\n",
    "Fill me in."
   ]
  },
  {
   "cell_type": "markdown",
   "id": "9db02324-72c1-4897-82fc-7eb332eca5b5",
   "metadata": {},
   "source": [
    "## Setup\n",
    "Set up the computational environment by including the `Include.jl` file. The `Include.jl` file loads external packages, various functions we will use in the exercise, and custom types to model the components of our example problem.\n",
    "* For additional information on functions and types used in this material, see the [Julia programming language documentation](https://docs.julialang.org/en/v1/) and the [VLQuantitativeFinancePackage.jl documentation](https://github.com/varnerlab/VLQuantitativeFinancePackage.jl). "
   ]
  },
  {
   "cell_type": "code",
   "execution_count": 3,
   "id": "deabdf37-b911-449e-a113-d46f4180f377",
   "metadata": {},
   "outputs": [
    {
     "name": "stderr",
     "output_type": "stream",
     "text": [
      "\u001b[32m\u001b[1m    Updating\u001b[22m\u001b[39m git-repo `https://github.com/varnerlab/VLQuantitativeFinancePackage.jl.git`\n",
      "\u001b[32m\u001b[1m   Resolving\u001b[22m\u001b[39m package versions...\n",
      "\u001b[32m\u001b[1m  No Changes\u001b[22m\u001b[39m to `~/Desktop/julia_work/CHEME-130-eCornell-Repository/courses/CHEME-134/module-4/Project.toml`\n",
      "\u001b[32m\u001b[1m  No Changes\u001b[22m\u001b[39m to `~/Desktop/julia_work/CHEME-130-eCornell-Repository/courses/CHEME-134/module-4/Manifest.toml`\n",
      "\u001b[32m\u001b[1m  Activating\u001b[22m\u001b[39m project at `~/Desktop/julia_work/CHEME-130-eCornell-Repository/courses/CHEME-134/module-4`\n",
      "\u001b[32m\u001b[1m  No Changes\u001b[22m\u001b[39m to `~/Desktop/julia_work/CHEME-130-eCornell-Repository/courses/CHEME-134/module-4/Project.toml`\n",
      "\u001b[32m\u001b[1m  No Changes\u001b[22m\u001b[39m to `~/Desktop/julia_work/CHEME-130-eCornell-Repository/courses/CHEME-134/module-4/Manifest.toml`\n",
      "\u001b[32m\u001b[1m    Updating\u001b[22m\u001b[39m registry at `~/.julia/registries/General.toml`\n",
      "\u001b[32m\u001b[1m    Updating\u001b[22m\u001b[39m git-repo `https://github.com/varnerlab/VLQuantitativeFinancePackage.jl.git`\n",
      "\u001b[32m\u001b[1m  No Changes\u001b[22m\u001b[39m to `~/Desktop/julia_work/CHEME-130-eCornell-Repository/courses/CHEME-134/module-4/Project.toml`\n",
      "\u001b[32m\u001b[1m  No Changes\u001b[22m\u001b[39m to `~/Desktop/julia_work/CHEME-130-eCornell-Repository/courses/CHEME-134/module-4/Manifest.toml`\n"
     ]
    }
   ],
   "source": [
    "include(\"Include.jl\")"
   ]
  },
  {
   "cell_type": "markdown",
   "id": "50e5cbb8-c7ab-4feb-827a-db9d1ccbf307",
   "metadata": {},
   "source": [
    "## Prerequisites"
   ]
  },
  {
   "cell_type": "markdown",
   "id": "02192cd1-78f4-4c89-8a84-1acd67993df3",
   "metadata": {},
   "source": [
    "Fill me in"
   ]
  },
  {
   "cell_type": "code",
   "execution_count": 33,
   "id": "a42a56d7-4b55-4340-bd86-d6e5fcf3d79a",
   "metadata": {},
   "outputs": [],
   "source": [
    "option_dataset = load(joinpath(_PATH_TO_DATA, \"TSLA-today-2023-06-19-exp-2023-08-18-dte-60d.jld2\")) |> file -> file[\"data\"];"
   ]
  },
  {
   "cell_type": "markdown",
   "id": "e2bb68cd-afae-4499-bd72-06e1024a7453",
   "metadata": {},
   "source": [
    "One-aggregate data for `TSLA` for 2023"
   ]
  },
  {
   "cell_type": "code",
   "execution_count": 41,
   "id": "024fe3d7-8821-4500-8725-7885a1e259b8",
   "metadata": {},
   "outputs": [],
   "source": [
    "underlying_price_data_df = CSV.read(joinpath(_PATH_TO_DATA, \"TSLA-OHLC-1-min-aggregate-2023.csv\"), DataFrame);"
   ]
  },
  {
   "cell_type": "markdown",
   "id": "dfc65d8f-0f4f-4e00-b7f3-447f6bd1b6d5",
   "metadata": {},
   "source": [
    "Compute the vwap, and the log_growth_matrix "
   ]
  },
  {
   "cell_type": "code",
   "execution_count": 44,
   "id": "85cd2d11-f840-4cc8-88b5-7208657b75f7",
   "metadata": {},
   "outputs": [
    {
     "data": {
      "text/html": [
       "<div><div style = \"float: left;\"><span>97142×6 DataFrame</span></div><div style = \"float: right;\"><span style = \"font-style: italic;\">97117 rows omitted</span></div><div style = \"clear: both;\"></div></div><div class = \"data-frame\" style = \"overflow-x: scroll;\"><table class = \"data-frame\" style = \"margin-bottom: 6px;\"><thead><tr class = \"header\"><th class = \"rowNumber\" style = \"font-weight: bold; text-align: right;\">Row</th><th style = \"text-align: left;\">date</th><th style = \"text-align: left;\">open</th><th style = \"text-align: left;\">high</th><th style = \"text-align: left;\">low</th><th style = \"text-align: left;\">close</th><th style = \"text-align: left;\">volume</th></tr><tr class = \"subheader headerLastRow\"><th class = \"rowNumber\" style = \"font-weight: bold; text-align: right;\"></th><th title = \"String31\" style = \"text-align: left;\">String31</th><th title = \"Float64\" style = \"text-align: left;\">Float64</th><th title = \"Float64\" style = \"text-align: left;\">Float64</th><th title = \"Float64\" style = \"text-align: left;\">Float64</th><th title = \"Float64\" style = \"text-align: left;\">Float64</th><th title = \"Int64\" style = \"text-align: left;\">Int64</th></tr></thead><tbody><tr><td class = \"rowNumber\" style = \"font-weight: bold; text-align: right;\">1</td><td style = \"text-align: left;\">2023-01-03 09:30:00</td><td style = \"text-align: right;\">118.47</td><td style = \"text-align: right;\">118.8</td><td style = \"text-align: right;\">116.98</td><td style = \"text-align: right;\">117.09</td><td style = \"text-align: right;\">2774007</td></tr><tr><td class = \"rowNumber\" style = \"font-weight: bold; text-align: right;\">2</td><td style = \"text-align: left;\">2023-01-03 09:31:00</td><td style = \"text-align: right;\">117.1</td><td style = \"text-align: right;\">117.17</td><td style = \"text-align: right;\">116.23</td><td style = \"text-align: right;\">116.49</td><td style = \"text-align: right;\">1396098</td></tr><tr><td class = \"rowNumber\" style = \"font-weight: bold; text-align: right;\">3</td><td style = \"text-align: left;\">2023-01-03 09:32:00</td><td style = \"text-align: right;\">116.5</td><td style = \"text-align: right;\">116.7</td><td style = \"text-align: right;\">115.33</td><td style = \"text-align: right;\">115.79</td><td style = \"text-align: right;\">1447550</td></tr><tr><td class = \"rowNumber\" style = \"font-weight: bold; text-align: right;\">4</td><td style = \"text-align: left;\">2023-01-03 09:33:00</td><td style = \"text-align: right;\">115.74</td><td style = \"text-align: right;\">116.39</td><td style = \"text-align: right;\">115.47</td><td style = \"text-align: right;\">116.31</td><td style = \"text-align: right;\">938296</td></tr><tr><td class = \"rowNumber\" style = \"font-weight: bold; text-align: right;\">5</td><td style = \"text-align: left;\">2023-01-03 09:34:00</td><td style = \"text-align: right;\">116.27</td><td style = \"text-align: right;\">116.86</td><td style = \"text-align: right;\">115.52</td><td style = \"text-align: right;\">115.72</td><td style = \"text-align: right;\">997526</td></tr><tr><td class = \"rowNumber\" style = \"font-weight: bold; text-align: right;\">6</td><td style = \"text-align: left;\">2023-01-03 09:35:00</td><td style = \"text-align: right;\">115.74</td><td style = \"text-align: right;\">115.95</td><td style = \"text-align: right;\">114.7</td><td style = \"text-align: right;\">115.164</td><td style = \"text-align: right;\">1460946</td></tr><tr><td class = \"rowNumber\" style = \"font-weight: bold; text-align: right;\">7</td><td style = \"text-align: left;\">2023-01-03 09:36:00</td><td style = \"text-align: right;\">115.13</td><td style = \"text-align: right;\">115.24</td><td style = \"text-align: right;\">114.14</td><td style = \"text-align: right;\">114.219</td><td style = \"text-align: right;\">1064546</td></tr><tr><td class = \"rowNumber\" style = \"font-weight: bold; text-align: right;\">8</td><td style = \"text-align: left;\">2023-01-03 09:37:00</td><td style = \"text-align: right;\">114.22</td><td style = \"text-align: right;\">114.53</td><td style = \"text-align: right;\">113.89</td><td style = \"text-align: right;\">114.388</td><td style = \"text-align: right;\">1313213</td></tr><tr><td class = \"rowNumber\" style = \"font-weight: bold; text-align: right;\">9</td><td style = \"text-align: left;\">2023-01-03 09:38:00</td><td style = \"text-align: right;\">114.4</td><td style = \"text-align: right;\">114.59</td><td style = \"text-align: right;\">113.721</td><td style = \"text-align: right;\">114.0</td><td style = \"text-align: right;\">1078696</td></tr><tr><td class = \"rowNumber\" style = \"font-weight: bold; text-align: right;\">10</td><td style = \"text-align: left;\">2023-01-03 09:39:00</td><td style = \"text-align: right;\">114.11</td><td style = \"text-align: right;\">114.8</td><td style = \"text-align: right;\">113.91</td><td style = \"text-align: right;\">114.58</td><td style = \"text-align: right;\">951012</td></tr><tr><td class = \"rowNumber\" style = \"font-weight: bold; text-align: right;\">11</td><td style = \"text-align: left;\">2023-01-03 09:40:00</td><td style = \"text-align: right;\">114.58</td><td style = \"text-align: right;\">115.07</td><td style = \"text-align: right;\">114.4</td><td style = \"text-align: right;\">114.99</td><td style = \"text-align: right;\">888500</td></tr><tr><td class = \"rowNumber\" style = \"font-weight: bold; text-align: right;\">12</td><td style = \"text-align: left;\">2023-01-03 09:41:00</td><td style = \"text-align: right;\">114.985</td><td style = \"text-align: right;\">115.345</td><td style = \"text-align: right;\">114.74</td><td style = \"text-align: right;\">114.97</td><td style = \"text-align: right;\">898806</td></tr><tr><td class = \"rowNumber\" style = \"font-weight: bold; text-align: right;\">13</td><td style = \"text-align: left;\">2023-01-03 09:42:00</td><td style = \"text-align: right;\">114.97</td><td style = \"text-align: right;\">115.09</td><td style = \"text-align: right;\">114.63</td><td style = \"text-align: right;\">114.87</td><td style = \"text-align: right;\">567913</td></tr><tr><td style = \"text-align: right;\">&vellip;</td><td style = \"text-align: right;\">&vellip;</td><td style = \"text-align: right;\">&vellip;</td><td style = \"text-align: right;\">&vellip;</td><td style = \"text-align: right;\">&vellip;</td><td style = \"text-align: right;\">&vellip;</td><td style = \"text-align: right;\">&vellip;</td></tr><tr><td class = \"rowNumber\" style = \"font-weight: bold; text-align: right;\">97131</td><td style = \"text-align: left;\">2023-12-29 15:48:00</td><td style = \"text-align: right;\">249.04</td><td style = \"text-align: right;\">249.084</td><td style = \"text-align: right;\">248.89</td><td style = \"text-align: right;\">249.02</td><td style = \"text-align: right;\">170090</td></tr><tr><td class = \"rowNumber\" style = \"font-weight: bold; text-align: right;\">97132</td><td style = \"text-align: left;\">2023-12-29 15:49:00</td><td style = \"text-align: right;\">249.029</td><td style = \"text-align: right;\">249.09</td><td style = \"text-align: right;\">248.9</td><td style = \"text-align: right;\">248.94</td><td style = \"text-align: right;\">153645</td></tr><tr><td class = \"rowNumber\" style = \"font-weight: bold; text-align: right;\">97133</td><td style = \"text-align: left;\">2023-12-29 15:50:00</td><td style = \"text-align: right;\">248.91</td><td style = \"text-align: right;\">249.12</td><td style = \"text-align: right;\">248.75</td><td style = \"text-align: right;\">248.934</td><td style = \"text-align: right;\">251346</td></tr><tr><td class = \"rowNumber\" style = \"font-weight: bold; text-align: right;\">97134</td><td style = \"text-align: left;\">2023-12-29 15:51:00</td><td style = \"text-align: right;\">248.93</td><td style = \"text-align: right;\">249.09</td><td style = \"text-align: right;\">248.885</td><td style = \"text-align: right;\">249.08</td><td style = \"text-align: right;\">201320</td></tr><tr><td class = \"rowNumber\" style = \"font-weight: bold; text-align: right;\">97135</td><td style = \"text-align: left;\">2023-12-29 15:52:00</td><td style = \"text-align: right;\">249.07</td><td style = \"text-align: right;\">249.15</td><td style = \"text-align: right;\">248.55</td><td style = \"text-align: right;\">248.575</td><td style = \"text-align: right;\">327025</td></tr><tr><td class = \"rowNumber\" style = \"font-weight: bold; text-align: right;\">97136</td><td style = \"text-align: left;\">2023-12-29 15:53:00</td><td style = \"text-align: right;\">248.56</td><td style = \"text-align: right;\">248.84</td><td style = \"text-align: right;\">248.531</td><td style = \"text-align: right;\">248.7</td><td style = \"text-align: right;\">225793</td></tr><tr><td class = \"rowNumber\" style = \"font-weight: bold; text-align: right;\">97137</td><td style = \"text-align: left;\">2023-12-29 15:54:00</td><td style = \"text-align: right;\">248.7</td><td style = \"text-align: right;\">248.71</td><td style = \"text-align: right;\">248.12</td><td style = \"text-align: right;\">248.25</td><td style = \"text-align: right;\">347048</td></tr><tr><td class = \"rowNumber\" style = \"font-weight: bold; text-align: right;\">97138</td><td style = \"text-align: left;\">2023-12-29 15:55:00</td><td style = \"text-align: right;\">248.219</td><td style = \"text-align: right;\">248.58</td><td style = \"text-align: right;\">248.15</td><td style = \"text-align: right;\">248.49</td><td style = \"text-align: right;\">244761</td></tr><tr><td class = \"rowNumber\" style = \"font-weight: bold; text-align: right;\">97139</td><td style = \"text-align: left;\">2023-12-29 15:56:00</td><td style = \"text-align: right;\">248.48</td><td style = \"text-align: right;\">248.69</td><td style = \"text-align: right;\">248.45</td><td style = \"text-align: right;\">248.59</td><td style = \"text-align: right;\">233517</td></tr><tr><td class = \"rowNumber\" style = \"font-weight: bold; text-align: right;\">97140</td><td style = \"text-align: left;\">2023-12-29 15:57:00</td><td style = \"text-align: right;\">248.57</td><td style = \"text-align: right;\">248.58</td><td style = \"text-align: right;\">248.421</td><td style = \"text-align: right;\">248.425</td><td style = \"text-align: right;\">187770</td></tr><tr><td class = \"rowNumber\" style = \"font-weight: bold; text-align: right;\">97141</td><td style = \"text-align: left;\">2023-12-29 15:58:00</td><td style = \"text-align: right;\">248.425</td><td style = \"text-align: right;\">248.55</td><td style = \"text-align: right;\">248.36</td><td style = \"text-align: right;\">248.394</td><td style = \"text-align: right;\">238289</td></tr><tr><td class = \"rowNumber\" style = \"font-weight: bold; text-align: right;\">97142</td><td style = \"text-align: left;\">2023-12-29 15:59:00</td><td style = \"text-align: right;\">248.39</td><td style = \"text-align: right;\">248.88</td><td style = \"text-align: right;\">248.36</td><td style = \"text-align: right;\">248.48</td><td style = \"text-align: right;\">2937976</td></tr></tbody></table></div>"
      ],
      "text/latex": [
       "\\begin{tabular}{r|cccccc}\n",
       "\t& date & open & high & low & close & volume\\\\\n",
       "\t\\hline\n",
       "\t& String31 & Float64 & Float64 & Float64 & Float64 & Int64\\\\\n",
       "\t\\hline\n",
       "\t1 & 2023-01-03 09:30:00 & 118.47 & 118.8 & 116.98 & 117.09 & 2774007 \\\\\n",
       "\t2 & 2023-01-03 09:31:00 & 117.1 & 117.17 & 116.23 & 116.49 & 1396098 \\\\\n",
       "\t3 & 2023-01-03 09:32:00 & 116.5 & 116.7 & 115.33 & 115.79 & 1447550 \\\\\n",
       "\t4 & 2023-01-03 09:33:00 & 115.74 & 116.39 & 115.47 & 116.31 & 938296 \\\\\n",
       "\t5 & 2023-01-03 09:34:00 & 116.27 & 116.86 & 115.52 & 115.72 & 997526 \\\\\n",
       "\t6 & 2023-01-03 09:35:00 & 115.74 & 115.95 & 114.7 & 115.164 & 1460946 \\\\\n",
       "\t7 & 2023-01-03 09:36:00 & 115.13 & 115.24 & 114.14 & 114.219 & 1064546 \\\\\n",
       "\t8 & 2023-01-03 09:37:00 & 114.22 & 114.53 & 113.89 & 114.388 & 1313213 \\\\\n",
       "\t9 & 2023-01-03 09:38:00 & 114.4 & 114.59 & 113.721 & 114.0 & 1078696 \\\\\n",
       "\t10 & 2023-01-03 09:39:00 & 114.11 & 114.8 & 113.91 & 114.58 & 951012 \\\\\n",
       "\t11 & 2023-01-03 09:40:00 & 114.58 & 115.07 & 114.4 & 114.99 & 888500 \\\\\n",
       "\t12 & 2023-01-03 09:41:00 & 114.985 & 115.345 & 114.74 & 114.97 & 898806 \\\\\n",
       "\t13 & 2023-01-03 09:42:00 & 114.97 & 115.09 & 114.63 & 114.87 & 567913 \\\\\n",
       "\t14 & 2023-01-03 09:43:00 & 114.871 & 115.93 & 114.82 & 115.89 & 966728 \\\\\n",
       "\t15 & 2023-01-03 09:44:00 & 115.905 & 116.0 & 115.0 & 115.2 & 1112983 \\\\\n",
       "\t16 & 2023-01-03 09:45:00 & 115.25 & 115.36 & 114.25 & 114.8 & 979770 \\\\\n",
       "\t17 & 2023-01-03 09:46:00 & 114.78 & 114.8 & 114.21 & 114.67 & 673352 \\\\\n",
       "\t18 & 2023-01-03 09:47:00 & 114.68 & 114.76 & 114.21 & 114.3 & 480895 \\\\\n",
       "\t19 & 2023-01-03 09:48:00 & 114.325 & 114.53 & 113.92 & 114.0 & 867827 \\\\\n",
       "\t20 & 2023-01-03 09:49:00 & 114.0 & 114.17 & 113.43 & 113.66 & 941538 \\\\\n",
       "\t21 & 2023-01-03 09:50:00 & 113.67 & 114.208 & 113.58 & 114.15 & 727368 \\\\\n",
       "\t22 & 2023-01-03 09:51:00 & 114.12 & 114.29 & 113.77 & 114.09 & 606870 \\\\\n",
       "\t23 & 2023-01-03 09:52:00 & 114.09 & 114.108 & 112.81 & 112.87 & 1264506 \\\\\n",
       "\t24 & 2023-01-03 09:53:00 & 112.88 & 113.215 & 112.82 & 113.01 & 839317 \\\\\n",
       "\t25 & 2023-01-03 09:54:00 & 113.02 & 113.09 & 112.653 & 112.75 & 632996 \\\\\n",
       "\t26 & 2023-01-03 09:55:00 & 112.74 & 113.229 & 112.65 & 112.94 & 828239 \\\\\n",
       "\t27 & 2023-01-03 09:56:00 & 112.92 & 113.09 & 112.4 & 112.44 & 754008 \\\\\n",
       "\t28 & 2023-01-03 09:57:00 & 112.43 & 112.62 & 112.12 & 112.17 & 697011 \\\\\n",
       "\t29 & 2023-01-03 09:58:00 & 112.167 & 112.18 & 111.77 & 111.782 & 976212 \\\\\n",
       "\t30 & 2023-01-03 09:59:00 & 111.8 & 112.12 & 111.61 & 111.63 & 679719 \\\\\n",
       "\t$\\dots$ & $\\dots$ & $\\dots$ & $\\dots$ & $\\dots$ & $\\dots$ & $\\dots$ \\\\\n",
       "\\end{tabular}\n"
      ],
      "text/plain": [
       "\u001b[1m97142×6 DataFrame\u001b[0m\n",
       "\u001b[1m   Row \u001b[0m│\u001b[1m date                \u001b[0m\u001b[1m open    \u001b[0m\u001b[1m high    \u001b[0m\u001b[1m low     \u001b[0m\u001b[1m close   \u001b[0m\u001b[1m volume  \u001b[0m\n",
       "       │\u001b[90m String31            \u001b[0m\u001b[90m Float64 \u001b[0m\u001b[90m Float64 \u001b[0m\u001b[90m Float64 \u001b[0m\u001b[90m Float64 \u001b[0m\u001b[90m Int64   \u001b[0m\n",
       "───────┼──────────────────────────────────────────────────────────────────\n",
       "     1 │ 2023-01-03 09:30:00  118.47   118.8    116.98   117.09   2774007\n",
       "     2 │ 2023-01-03 09:31:00  117.1    117.17   116.23   116.49   1396098\n",
       "     3 │ 2023-01-03 09:32:00  116.5    116.7    115.33   115.79   1447550\n",
       "     4 │ 2023-01-03 09:33:00  115.74   116.39   115.47   116.31    938296\n",
       "     5 │ 2023-01-03 09:34:00  116.27   116.86   115.52   115.72    997526\n",
       "     6 │ 2023-01-03 09:35:00  115.74   115.95   114.7    115.164  1460946\n",
       "     7 │ 2023-01-03 09:36:00  115.13   115.24   114.14   114.219  1064546\n",
       "     8 │ 2023-01-03 09:37:00  114.22   114.53   113.89   114.388  1313213\n",
       "     9 │ 2023-01-03 09:38:00  114.4    114.59   113.721  114.0    1078696\n",
       "    10 │ 2023-01-03 09:39:00  114.11   114.8    113.91   114.58    951012\n",
       "    11 │ 2023-01-03 09:40:00  114.58   115.07   114.4    114.99    888500\n",
       "   ⋮   │          ⋮              ⋮        ⋮        ⋮        ⋮        ⋮\n",
       " 97133 │ 2023-12-29 15:50:00  248.91   249.12   248.75   248.934   251346\n",
       " 97134 │ 2023-12-29 15:51:00  248.93   249.09   248.885  249.08    201320\n",
       " 97135 │ 2023-12-29 15:52:00  249.07   249.15   248.55   248.575   327025\n",
       " 97136 │ 2023-12-29 15:53:00  248.56   248.84   248.531  248.7     225793\n",
       " 97137 │ 2023-12-29 15:54:00  248.7    248.71   248.12   248.25    347048\n",
       " 97138 │ 2023-12-29 15:55:00  248.219  248.58   248.15   248.49    244761\n",
       " 97139 │ 2023-12-29 15:56:00  248.48   248.69   248.45   248.59    233517\n",
       " 97140 │ 2023-12-29 15:57:00  248.57   248.58   248.421  248.425   187770\n",
       " 97141 │ 2023-12-29 15:58:00  248.425  248.55   248.36   248.394   238289\n",
       " 97142 │ 2023-12-29 15:59:00  248.39   248.88   248.36   248.48   2937976\n",
       "\u001b[36m                                                        97121 rows omitted\u001b[0m"
      ]
     },
     "execution_count": 44,
     "metadata": {},
     "output_type": "execute_result"
    }
   ],
   "source": [
    "vwap(underlying_price_data_df) |> data -> log_growth_matrix(data, Δt "
   ]
  },
  {
   "cell_type": "markdown",
   "id": "d5189c62-7758-46cc-a3b2-88ca36571f84",
   "metadata": {},
   "source": [
    "## Disclaimer and Risks\n",
    "__This content is offered solely for training and informational purposes__. No offer or solicitation to buy or sell securities or derivative products or any investment or trading advice or strategy is made, given, or endorsed by the teaching team. \n",
    "\n",
    "__Trading involves risk__. Carefully review your financial situation before investing in securities, futures contracts, options, or commodity interests. Past performance, whether actual or indicated by historical tests of strategies, is no guarantee of future performance or success. Trading is generally inappropriate for someone with limited resources, investment or trading experience, or a low-risk tolerance.  Only risk capital that is not required for living expenses.\n",
    "\n",
    "__You are fully responsible for any investment or trading decisions you make__. You should decide solely based on your financial circumstances, investment or trading objectives, risk tolerance, and liquidity needs."
   ]
  }
 ],
 "metadata": {
  "kernelspec": {
   "display_name": "Julia 1.10.4",
   "language": "julia",
   "name": "julia-1.10"
  },
  "language_info": {
   "file_extension": ".jl",
   "mimetype": "application/julia",
   "name": "julia",
   "version": "1.10.4"
  }
 },
 "nbformat": 4,
 "nbformat_minor": 5
}
