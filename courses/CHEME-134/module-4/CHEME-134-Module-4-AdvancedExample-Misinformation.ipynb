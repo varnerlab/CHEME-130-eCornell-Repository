{
 "cells": [
  {
   "cell_type": "markdown",
   "id": "5789701e-44e7-40e5-a438-01eea7173722",
   "metadata": {},
   "source": [
    "# Advanced Example: Dynamic Hedging with Incomplete Information\n",
    "Fill me in"
   ]
  },
  {
   "cell_type": "markdown",
   "id": "696fb67f-8922-41af-8a0c-0455de26efba",
   "metadata": {},
   "source": [
    "## Setup\n",
    "Set up the computational environment by including the `Include.jl` file. The `Include.jl` file loads external packages, various functions we will use in the exercise, and custom types to model the components of our example problem.\n",
    "* For additional information on functions and types used in this material, see the [Julia programming language documentation](https://docs.julialang.org/en/v1/) and the [VLQuantitativeFinancePackage.jl documentation](https://github.com/varnerlab/VLQuantitativeFinancePackage.jl). "
   ]
  },
  {
   "cell_type": "code",
   "execution_count": 3,
   "id": "7a6ac455-dec9-4536-8045-dd1c539988a5",
   "metadata": {},
   "outputs": [
    {
     "name": "stderr",
     "output_type": "stream",
     "text": [
      "\u001b[32m\u001b[1m    Updating\u001b[22m\u001b[39m git-repo `https://github.com/varnerlab/VLQuantitativeFinancePackage.jl.git`\n",
      "\u001b[32m\u001b[1m   Resolving\u001b[22m\u001b[39m package versions...\n",
      "\u001b[32m\u001b[1m  No Changes\u001b[22m\u001b[39m to `~/Desktop/julia_work/CHEME-130-eCornell-Repository/courses/CHEME-134/module-4/Project.toml`\n",
      "\u001b[32m\u001b[1m  No Changes\u001b[22m\u001b[39m to `~/Desktop/julia_work/CHEME-130-eCornell-Repository/courses/CHEME-134/module-4/Manifest.toml`\n",
      "\u001b[32m\u001b[1m  Activating\u001b[22m\u001b[39m project at `~/Desktop/julia_work/CHEME-130-eCornell-Repository/courses/CHEME-134/module-4`\n",
      "\u001b[32m\u001b[1m  No Changes\u001b[22m\u001b[39m to `~/Desktop/julia_work/CHEME-130-eCornell-Repository/courses/CHEME-134/module-4/Project.toml`\n",
      "\u001b[32m\u001b[1m  No Changes\u001b[22m\u001b[39m to `~/Desktop/julia_work/CHEME-130-eCornell-Repository/courses/CHEME-134/module-4/Manifest.toml`\n",
      "\u001b[32m\u001b[1m    Updating\u001b[22m\u001b[39m registry at `~/.julia/registries/General.toml`\n",
      "\u001b[32m\u001b[1m    Updating\u001b[22m\u001b[39m git-repo `https://github.com/varnerlab/VLQuantitativeFinancePackage.jl.git`\n",
      "\u001b[32m\u001b[1m  No Changes\u001b[22m\u001b[39m to `~/Desktop/julia_work/CHEME-130-eCornell-Repository/courses/CHEME-134/module-4/Project.toml`\n",
      "\u001b[32m\u001b[1m  No Changes\u001b[22m\u001b[39m to `~/Desktop/julia_work/CHEME-130-eCornell-Repository/courses/CHEME-134/module-4/Manifest.toml`\n"
     ]
    }
   ],
   "source": [
    "include(\"Include.jl\");"
   ]
  },
  {
   "cell_type": "markdown",
   "id": "db50f099-87cd-420e-a3f1-547f69e18f5d",
   "metadata": {},
   "source": [
    "## Task 1: Load simulation data from the worked example\n",
    "Before setting up the hedge on the `TSLA` put option, let's load the simulation state file we generated in the worked example. To load the state file, we will use [the `load(...)` method exported by the JLD2.jl package](https://github.com/JuliaIO/JLD2.jl), and we will provide the path to the save file as an argument in the `path_to_save_file::String` variable:"
   ]
  },
  {
   "cell_type": "code",
   "execution_count": 5,
   "id": "1a2e1ba2-45f1-424b-a647-6c260a1bb404",
   "metadata": {},
   "outputs": [],
   "source": [
    "path_to_save_file = joinpath(_PATH_TO_DATA, \"CHEME-134-M4-WorkedExample-State.jld2\");"
   ]
  },
  {
   "cell_type": "markdown",
   "id": "03884222-3e2e-4651-b40a-2a769fb57a95",
   "metadata": {},
   "source": [
    "Then, use [`load(...)` method](https://github.com/JuliaIO/JLD2.jl) to load the file and return a dictionary with the keys specified in the worked example; we save this dictionary in the `my_simulation_dict::Dict{String, Any}` variable:"
   ]
  },
  {
   "cell_type": "code",
   "execution_count": 7,
   "id": "ebf5169d-2f07-455a-903b-8672732e4b72",
   "metadata": {},
   "outputs": [
    {
     "data": {
      "text/plain": [
       "Dict{String, Any} with 14 entries:\n",
       "  \"risk_free_rate\"                   => 0.0431\n",
       "  \"T\"                                => 0.165753\n",
       "  \"number_of_samples\"                => 1000\n",
       "  \"h\"                                => 366\n",
       "  \"DTE\"                              => 60.5\n",
       "  \"samples_share_price\"              => [261.49 261.49 … 261.49 261.49; 261.308…\n",
       "  \"sample_synthetic_index\"           => 568\n",
       "  \"samples_IV\"                       => [0.605621 0.605621 … 0.605621 0.605621;…\n",
       "  \"perfect_hedge_simulation_example\" => Dict{Int64, NamedTuple}(5=>(shares = 43…\n",
       "  \"Δt\"                               => 1.0175e-5\n",
       "  \"example_put_contract\"             => Dict{String, Any}(\"day\"=>Dict{String, A…\n",
       "  \"number_of_trading_periods\"        => 120\n",
       "  \"put_option_model\"                 => MyAmericanPutContractModel(260.0, 1, 0.…\n",
       "  \"β\"                                => 2.32"
      ]
     },
     "execution_count": 7,
     "metadata": {},
     "output_type": "execute_result"
    }
   ],
   "source": [
    "my_simulation_dict = load(path_to_save_file)"
   ]
  },
  {
   "cell_type": "markdown",
   "id": "31673652-cf5c-4454-a793-f3e3d4de1188",
   "metadata": {},
   "source": [
    "### Constants\n",
    "Now that we have loaded the save file, we specify values for the constants used in the example by passing the respective keys to the variable `my_simulation_dict::Dict{String, Any}.`\n",
    "- The variable `DTE::Float64` represents the days to the expiration of the options contracts (measured in days), `Δt::Float64` represents the time step used in the simulations. In this case, we are using 1-minute aggregate data (measured in years). The variable `number_of_trading_periods::Int64` represents the number of trading periods we explore, i.e., the number of minutes that we want to simulate, and `T::Float64` denotes the length of the options contracts (measured in years).\n",
    "- Next, we retrieve information about `TSLA` and the parameters for the binomial lattice used in the simulation. The variable `β::Float64` represents the beta value for `TSLA`, `h::Int64` represents the number of levels of the pricing tree, the variable `risk_free_rate::Float64` represents the risk-free rate (in this case assumed to be the yield on a 10-year US Treasury Note), the variable `number_of_samples::Int64` specifies the number of samples (alternative futures) we will generate in the simulation, and finally, `sample_synthetic_index::Int64` is a randomly chosen index which specifies which sample we'll use in the simulation."
   ]
  },
  {
   "cell_type": "code",
   "execution_count": 9,
   "id": "b16cffbe-0086-4bcb-8b85-c636bf41f633",
   "metadata": {},
   "outputs": [
    {
     "data": {
      "text/plain": [
       "568"
      ]
     },
     "execution_count": 9,
     "metadata": {},
     "output_type": "execute_result"
    }
   ],
   "source": [
    "DTE = my_simulation_dict[\"DTE\"]; # data from mid-day, add a little something something so we recover the midpoint premium (ish) (all parameters fixed)\n",
    "Δt = my_simulation_dict[\"Δt\"]; # 1-min trading periods\n",
    "number_of_trading_periods = my_simulation_dict[\"number_of_trading_periods\"]; # How many trading periods will we simulate?\n",
    "T = my_simulation_dict[\"T\"]; # Duration of trading periods in option years\n",
    "β = my_simulation_dict[\"β\"]; # TSLA 5y monthly beta value 06-25-24\n",
    "h = my_simulation_dict[\"h\"]; # 6-points per trading period\n",
    "risk_free_rate = my_simulation_dict[\"risk_free_rate\"]; # yield 10-year treasury note on 13-Jun-2024\n",
    "number_of_samples = my_simulation_dict[\"number_of_samples\"]; # number of samples to generate\n",
    "sample_synthetic_index_true = my_simulation_dict[\"sample_synthetic_index\"]; # generate random synthetic index to explore (must be <= number_of_samples)"
   ]
  },
  {
   "cell_type": "markdown",
   "id": "239f74da-e4de-40b9-913a-248a232f35cc",
   "metadata": {},
   "source": [
    "Finally, let's randomly generate an index associated with the model, i.e., the column of data that the model thinks is the true price and volatility time series. We save this index in the `sample_synthetic_index_model::Int64` variable:"
   ]
  },
  {
   "cell_type": "code",
   "execution_count": 34,
   "id": "90d1d411-adf7-468f-a61f-58c1a784a712",
   "metadata": {},
   "outputs": [],
   "source": [
    "sample_synthetic_index_model = nothing;\n",
    "should_we_keep_looping = true;\n",
    "while (should_we_keep_looping == true)\n",
    "    sample_synthetic_index_model = rand(1:number_of_samples);\n",
    "    if (sample_synthetic_index_true != sample_synthetic_index_model)\n",
    "        should_we_keep_looping = false;\n",
    "    end\n",
    "end"
   ]
  },
  {
   "cell_type": "markdown",
   "id": "80d11faf-63d4-4eb5-9b2c-b336f165a665",
   "metadata": {},
   "source": [
    "### Contracts\n",
    "We can load the previous contract data by passing in the `example_put_contract` key to the `my_simulation_dict::Dict{String, Any}` variable. We save the contract in the `example_put_contract::Dict{String, Any}` variable:"
   ]
  },
  {
   "cell_type": "code",
   "execution_count": 12,
   "id": "f97c8d61-2746-4064-8006-e28e4fc18150",
   "metadata": {},
   "outputs": [
    {
     "data": {
      "text/plain": [
       "Dict{String, Any} with 9 entries:\n",
       "  \"day\"                => Dict{String, Any}(\"change\"=>0, \"high\"=>25.03, \"change…\n",
       "  \"details\"            => Dict{String, Any}(\"contract_type\"=>\"put\", \"ticker\"=>\"…\n",
       "  \"last_quote\"         => Dict{String, Any}(\"midpoint\"=>23.7, \"ask\"=>23.8, \"tim…\n",
       "  \"last_trade\"         => Dict{String, Any}(\"timeframe\"=>\"REAL-TIME\", \"exchange…\n",
       "  \"underlying_asset\"   => Dict{String, Any}(\"timeframe\"=>\"REAL-TIME\", \"ticker\"=…\n",
       "  \"greeks\"             => Dict{String, Any}(\"theta\"=>-0.198501, \"gamma\"=>0.0063…\n",
       "  \"open_interest\"      => 2878\n",
       "  \"implied_volatility\" => 0.605621\n",
       "  \"break_even_price\"   => 236.3"
      ]
     },
     "execution_count": 12,
     "metadata": {},
     "output_type": "execute_result"
    }
   ],
   "source": [
    "example_put_contract = my_simulation_dict[\"example_put_contract\"]"
   ]
  },
  {
   "cell_type": "markdown",
   "id": "2772923d-c0e7-40bc-9e4b-e6eb07f35360",
   "metadata": {},
   "source": [
    "Finally, we set some data from this contract, in particular, the initial share price in the `Sₒ::Float64` variable and the implied volatility `IVₒ::Float64` variable:"
   ]
  },
  {
   "cell_type": "markdown",
   "id": "6ff84b6c-fa98-495c-abd9-7f87ebfb3034",
   "metadata": {},
   "source": [
    "### Share price and volatility simulation data\n",
    "Since we saved the previous share price and volatility simulation data, we can load these data arrays from the `my_simulation_dict::Dict{String, Any}` variable (where we do not have to repeat the simulations and analysis underlying the simulations). First, retrieve the `number_of_trading_periods`$\\times$`number_of_paths` array holding possible `TSLA` share price values and save this data in the `samples_share_price::Array{Float64,2}` array:"
   ]
  },
  {
   "cell_type": "code",
   "execution_count": 15,
   "id": "34f845ad-b81e-4b3e-8d6d-72943139b0fc",
   "metadata": {},
   "outputs": [],
   "source": [
    "samples_share_price = my_simulation_dict[\"samples_share_price\"];"
   ]
  },
  {
   "cell_type": "markdown",
   "id": "e85c171b-8a19-4f10-936d-f20d77c8422e",
   "metadata": {},
   "source": [
    "Then, retrieve the future implied volatility data from the `my_simulation_dict::Dict{String, Any}` by passing the `samples_IV::String` key to the dictionary. We store the `number_of_trading_periods`$\\times$`number_of_samples` volatility array to the  `samples_IV::Array{Float64,2}` variable:"
   ]
  },
  {
   "cell_type": "code",
   "execution_count": 17,
   "id": "6ccb9ae4-8475-47f0-b60a-952536eab9e0",
   "metadata": {},
   "outputs": [],
   "source": [
    "samples_IV = my_simulation_dict[\"samples_IV\"];"
   ]
  },
  {
   "cell_type": "markdown",
   "id": "ca8bd613-4372-4c7c-9e90-5df3f3d9ce16",
   "metadata": {},
   "source": [
    "Finally, generate `true` and `model` price and volatility datasets. The `true` price and volatility datasets represent the actual data. On the other hand, the `model` price and volatility datasets are the best estimates that the model has access to. Given that `sample_synthetic_index_model`$\\neq$`sample_synthetic_index_true`, the `true` and `model` datasets will not be the same."
   ]
  },
  {
   "cell_type": "markdown",
   "id": "22b8dd8c-304f-4092-bc09-a767fda541f1",
   "metadata": {},
   "source": [
    "## Disclaimer and Risks\n",
    "__This content is offered solely for training and informational purposes__. No offer or solicitation to buy or sell securities or derivative products or any investment or trading advice or strategy is made, given, or endorsed by the teaching team. \n",
    "\n",
    "__Trading involves risk__. Carefully review your financial situation before investing in securities, futures contracts, options, or commodity interests. Past performance, whether actual or indicated by historical tests of strategies, is no guarantee of future performance or success. Trading is generally inappropriate for someone with limited resources, investment or trading experience, or a low-risk tolerance.  Only risk capital that is not required for living expenses.\n",
    "\n",
    "__You are fully responsible for any investment or trading decisions you make__. You should decide solely based on your financial circumstances, investment or trading objectives, risk tolerance, and liquidity needs."
   ]
  },
  {
   "cell_type": "code",
   "execution_count": null,
   "id": "248b8d74-8778-4a89-8951-6745051e7ef2",
   "metadata": {},
   "outputs": [],
   "source": []
  }
 ],
 "metadata": {
  "kernelspec": {
   "display_name": "Julia 1.10.4",
   "language": "julia",
   "name": "julia-1.10"
  },
  "language_info": {
   "file_extension": ".jl",
   "mimetype": "application/julia",
   "name": "julia",
   "version": "1.10.4"
  }
 },
 "nbformat": 4,
 "nbformat_minor": 5
}
