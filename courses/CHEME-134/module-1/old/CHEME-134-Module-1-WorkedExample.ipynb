{
 "cells": [
  {
   "cell_type": "markdown",
   "id": "b6c5e780-bede-49c8-8083-864511cce41d",
   "metadata": {},
   "source": [
    "# Example: The Dynamics of American Style Options Contract Pricing\n",
    "The premium of an American-style contract is _greater than or equal to_ the expected value of the discounted future payoff:\n",
    "\n",
    "$$\n",
    "\\begin{equation}\n",
    "\\mathcal{P}_{\\star}(K,T, S(0)) \\geq \\mathbb{E}\\Bigl(\\mathcal{D}^{-1}_{T,0}(\\bar{r})\\cdot{V_{\\star}}(K,S(T))\\Bigr)\n",
    "\\end{equation}\n",
    "$$\n",
    "\n",
    "The key difference between European and American-style option contracts is that early exercise is allowed for American-style contracts. Thus, the contract seller may demand a premium that is _greater than the European contract_ because of the possibility of early exercise. For American-style contracts, the buyer can exercise between $0\\rightarrow{T}$ at any time.\n",
    "\n",
    "## Learning objectives\n",
    "In this example, we'll use the binomial lattice approximation of the share price over the interval $0\\rightarrow{T}$ combined with dynamic programming to compute the premium for American-style contracts. In particular, we will focus on how the contract prices change as we move from when the contract was established toward expiration.\n",
    "\n",
    "* Objective 1: We'll review the pricing of American `call` and `put` contracts using the Cox, Ross, and Rubinstein (CRR) model and [VLQuantitativeFinancePackage.jl](https://github.com/varnerlab/VLQuantitativeFinancePackage.jl.git)\n",
    "* Objective 2: We'll explore the time and volatility dependence of the pricing of American `call` and `put` contracts computed using the Cox, Ross, and Rubinstein (CRR) model and [VLQuantitativeFinancePackage.jl](https://github.com/varnerlab/VLQuantitativeFinancePackage.jl.git)"
   ]
  },
  {
   "cell_type": "markdown",
   "id": "50b88f64-db3b-413e-96b2-ee757f0e6801",
   "metadata": {},
   "source": [
    "## Setup"
   ]
  },
  {
   "cell_type": "code",
   "execution_count": 1,
   "id": "79c25b3d-c6ee-4b1b-8968-6f142474989e",
   "metadata": {
    "tags": []
   },
   "outputs": [
    {
     "name": "stderr",
     "output_type": "stream",
     "text": [
      "\u001b[32m\u001b[1m    Updating\u001b[22m\u001b[39m git-repo `https://github.com/varnerlab/VLQuantitativeFinancePackage.jl.git`\n",
      "\u001b[32m\u001b[1m   Resolving\u001b[22m\u001b[39m package versions...\n",
      "\u001b[32m\u001b[1m    Updating\u001b[22m\u001b[39m `~/Desktop/julia_work/CHEME-130-eCornell-Repository/courses/CHEME-134/module-1/Project.toml`\n",
      "  \u001b[90m[4119e0bf] \u001b[39m\u001b[93m~ VLQuantitativeFinancePackage v1.0.0-DEV `https://github.com/varnerlab/VLQuantitativeFinancePackage.jl.git#main` ⇒ v1.0.0-DEV `https://github.com/varnerlab/VLQuantitativeFinancePackage.jl.git#main`\u001b[39m\n",
      "\u001b[32m\u001b[1m    Updating\u001b[22m\u001b[39m `~/Desktop/julia_work/CHEME-130-eCornell-Repository/courses/CHEME-134/module-1/Manifest.toml`\n",
      "  \u001b[90m[4119e0bf] \u001b[39m\u001b[93m~ VLQuantitativeFinancePackage v1.0.0-DEV `https://github.com/varnerlab/VLQuantitativeFinancePackage.jl.git#main` ⇒ v1.0.0-DEV `https://github.com/varnerlab/VLQuantitativeFinancePackage.jl.git#main`\u001b[39m\n",
      "\u001b[32m\u001b[1mPrecompiling\u001b[22m\u001b[39m project...\n",
      "\u001b[32m  ✓ \u001b[39mVLQuantitativeFinancePackage\n",
      "  1 dependency successfully precompiled in 5 seconds. 203 already precompiled.\n",
      "\u001b[32m\u001b[1m  Activating\u001b[22m\u001b[39m project at `~/Desktop/julia_work/CHEME-130-eCornell-Repository/courses/CHEME-134/module-1`\n",
      "\u001b[32m\u001b[1m    Updating\u001b[22m\u001b[39m registry at `~/.julia/registries/General.toml`\n",
      "\u001b[32m\u001b[1m    Updating\u001b[22m\u001b[39m git-repo `https://github.com/varnerlab/VLQuantitativeFinancePackage.jl.git`\n",
      "\u001b[32m\u001b[1m  No Changes\u001b[22m\u001b[39m to `~/Desktop/julia_work/CHEME-130-eCornell-Repository/courses/CHEME-134/module-1/Project.toml`\n",
      "\u001b[32m\u001b[1m  No Changes\u001b[22m\u001b[39m to `~/Desktop/julia_work/CHEME-130-eCornell-Repository/courses/CHEME-134/module-1/Manifest.toml`\n"
     ]
    }
   ],
   "source": [
    "include(\"Include.jl\");"
   ]
  },
  {
   "cell_type": "markdown",
   "id": "b802b916-7622-4bbb-a77d-4221b34e3941",
   "metadata": {},
   "source": [
    "### Historical data\n",
    "We downloaded the options chain for [Advanced Micro Devices (AMD)](https://en.wikipedia.org/wiki/AMD) from [barchart.com](https://www.barchart.com). For this set of values, the share price of `AMD` was $S_{\\circ}$ = 117.50 USD/share, and the average implied volatility for `AMD` options with `DTE = 31 days` is `IV = 51.75%`. We load the options data using the `loadoptionsdata(...)` function and store in the `options_dataset` variable, which is an instance of `DataFrame`:"
   ]
  },
  {
   "cell_type": "code",
   "execution_count": 2,
   "id": "c692854f-92eb-48ef-bff1-462a88cab3fc",
   "metadata": {
    "tags": []
   },
   "outputs": [],
   "source": [
    "options_dataset = loadoptionsdata();"
   ]
  },
  {
   "cell_type": "markdown",
   "id": "04a37bbc-bf22-4e00-b4d1-39e64dee91f6",
   "metadata": {
    "tags": []
   },
   "source": [
    "## Objective 1: Pricing American options contracts using the CRR model"
   ]
  },
  {
   "cell_type": "markdown",
   "id": "61da6aa2-694c-488c-a8f8-5500f0383929",
   "metadata": {
    "tags": []
   },
   "source": [
    "A binomial lattice model assumes that each discrete time increment, the state of the system, e.g., the share price of equity, the spot rate, etc., can either increase by a factor $u$ with probability $p$ or decrease by a factor $d$ with probability $(1-p)$. Different models can be developed for the specific values of the tuple $(u,d,p)$. One particular model is the Cox, Ross, and Rubinstein (CRR) model:\n",
    "\n",
    "* [Cox, J. C.; Ross, S. A.; Rubinstein, M. (1979). \"Option pricing: A simplified approach\". Journal of Financial Economics. 7 (3): 229. CiteSeerX 10.1.1.379.7582. doi:10.1016/0304-405X(79)90015-1](https://www.sciencedirect.com/science/article/pii/0304405X79900151?via%3Dihub)\n",
    "\n",
    "The [CRR binomial lattice model](https://en.wikipedia.org/wiki/Binomial_options_pricing_model) was initially developed for options pricing in 1979. However, one of the critical aspects of estimating an option’s price is calculating the underlying asset’s share price. In the [CRR model](https://en.wikipedia.org/wiki/Binomial_options_pricing_model) model, the `up` and `down` moves are symmetric:\n",
    "\n",
    "$$ud = 1$$\n",
    "\n",
    "where the magnitude of an `up` move $u$ is given by:\n",
    "\n",
    "$$u = \\exp(\\sigma\\sqrt{\\Delta{T}})$$\n",
    "\n",
    "The quantity $\\sigma$ denotes a _volatility parameter_, and $\\Delta{T}$ represents the time step. The probability $p$ of an `up` move in a [CRR model](https://en.wikipedia.org/wiki/Binomial_options_pricing_model) is given by:\n",
    "\n",
    "$$p = \\frac{\\exp(\\bar{r}\\Delta{T}) - d}{u - d}$$\n",
    "\n",
    "where $\\bar{r}$ denotes a _return parameter_. In the [CRR model](https://en.wikipedia.org/wiki/Binomial_options_pricing_model) model paradigm, the return parameter $\\mu$ and the volatility parameter $\\sigma$ take on common values:\n",
    "* The return parameter is a _risk-free_ rate of return; the _risk-free_ rate $\\bar{r}$ can be approximated by the [yield on T = 10-year United States Treasury debt security](https://ycharts.com/indicators/10_year_treasury_rate). \n",
    "* The volatility parameter $\\sigma$ is the [implied volatility](https://www.investopedia.com/terms/i/iv.asp); the implied volatility is the market's view of the likelihood of changes in a given security's price.\n",
    "\n",
    "#### Implementation\n",
    "Let's use the `CRR model` to simulate the premium of American-style options contracts as a function of the strike price `K`. Let's set constant values for the contracts (these values, with the exception of `IV` are the same for each strike price `K`). The time will be calendar days `Δt = 1/365`, the initial share price `Sₒ` is 117.50 USD/share, the days to expiration or `DTE` is `31` days, the annual risk-free rate is `r̄ = 0.0418` and the (average) implied volatility `IV = 51.75%`: "
   ]
  },
  {
   "cell_type": "code",
   "execution_count": 3,
   "id": "2ac78c7b-29c0-48e7-8333-db8626cde54f",
   "metadata": {
    "tags": []
   },
   "outputs": [],
   "source": [
    "Δt, Sₒ, r̄, IV = (1.0/365.0), 117.50, 0.0418, 0.5175;\n",
    "DTE = 31.0*Δt;"
   ]
  },
  {
   "cell_type": "markdown",
   "id": "bded2eb4-db62-440d-a0ee-d3d5932d726d",
   "metadata": {},
   "source": [
    "Next, let's create an array of strike prices that are present in the data, we'll store this array in the `strike_price_array` variable:"
   ]
  },
  {
   "cell_type": "code",
   "execution_count": 4,
   "id": "a2a1c18d-e60f-4bbc-874a-9580b9a63717",
   "metadata": {
    "tags": []
   },
   "outputs": [],
   "source": [
    "start_strike = 40.0;\n",
    "stop_strike = 200.0;\n",
    "strike_price_array = range(start_strike, stop = stop_strike, step=1) |> collect;\n",
    "number_of_strike_prices = length(strike_price_array);"
   ]
  },
  {
   "cell_type": "markdown",
   "id": "954c6ebd-78bd-48f0-9a04-df8f1c5c747a",
   "metadata": {},
   "source": [
    "Now that we have the strike prices, and other data we create instances of the `MyAmericanPutContractModel` and `MyAmericanCallContractModel` models which holds the contract data using the `build(...)` method. We store these instances in the `american_put_contract_model` and the `american_call_contract_model` variables:"
   ]
  },
  {
   "cell_type": "code",
   "execution_count": 5,
   "id": "1d29724d-a5d8-46ea-93d3-3070d28a8029",
   "metadata": {
    "tags": []
   },
   "outputs": [],
   "source": [
    "american_put_contract_model = build(MyAmericanPutContractModel, (\n",
    "        K = 0.0, IV = IV, DTE = DTE, sense = 1));\n",
    "\n",
    "american_call_contract_model = build(MyAmericanCallContractModel, (\n",
    "        K = 0.0, IV = IV, DTE = DTE, sense = 1));"
   ]
  },
  {
   "cell_type": "markdown",
   "id": "b9c82aa1-1b4f-402f-8101-22e6fb006333",
   "metadata": {},
   "source": [
    "##### Put contracts\n",
    "To start the calculation for `put` contracts, we filter the `options_dataset` and collect the `put` contracts with strike prices in the `strike_price_array`, we store the `put` contract data in the `put_dataset`, which is type `DataFrame`. \n",
    "\n",
    "Next, we build an instance of the `MyAdjacencyBasedCRREquityPriceTree` type, which holds the parameters and data for the binomial price tree using the `build(...)` function. We store this in the `treemodel` variable. We then calculate the premium for the various strike prices in the `strike_price_array`, ranging from `K=40` to `K=200`, using a `for` loop, and record the estimated premium in the `df_CRR_put_simulation` DataFrame. For each strike price:\n",
    "* We first check if the dataset has an existing `IV` value. If there is, we use that `IV` value. Otherwise, we use the average value for the implied volatility, `IV = 0.5175`. \n",
    "* Then, we update the strike price field `K` of the `put_contract_model` instance that we created above with the current strike price value. \n",
    "* Finally, we calculate the premium for this contract using the `premium(…)` function.* We first check if the dataset has an existing `IV` value. If there is, we use that `IV` value. Otherwise, we use the average value for the implied volatility, `IV = 0.5175`. "
   ]
  },
  {
   "cell_type": "code",
   "execution_count": null,
   "id": "6cfc7465-e41f-4965-af87-6f303836ea2e",
   "metadata": {
    "tags": []
   },
   "outputs": [
    {
     "name": "stdout",
     "output_type": "stream",
     "text": [
      "(ΔT, u, d, p) = (0.00023268905986113716, 1.0079252620171597, 0.9921370538909811, 0.49864256260778633)\n",
      "(ΔT, u, d, p) = (0.00023268905986113716, 1.0079252620171597, 0.9921370538909811, 0.49864256260778633)\n",
      "(ΔT, u, d, p) = (0.00023268905986113716, 1.0079252620171597, 0.9921370538909811, 0.49864256260778633)\n",
      "(ΔT, u, d, p) = (0.00023268905986113716, 1.0079252620171597, 0.9921370538909811, 0.49864256260778633)\n",
      "(ΔT, u, d, p) = (0.00023268905986113716, 1.0079252620171597, 0.9921370538909811, 0.49864256260778633)\n",
      "(ΔT, u, d, p) = (0.00023268905986113716, 1.0079252620171597, 0.9921370538909811, 0.49864256260778633)\n",
      "(ΔT, u, d, p) = (0.00023268905986113716, 1.0079252620171597, 0.9921370538909811, 0.49864256260778633)\n",
      "(ΔT, u, d, p) = (0.00023268905986113716, 1.0079252620171597, 0.9921370538909811, 0.49864256260778633)\n",
      "(ΔT, u, d, p) = (0.00023268905986113716, 1.0079252620171597, 0.9921370538909811, 0.49864256260778633)\n",
      "(ΔT, u, d, p) = (0.00023268905986113716, 1.0079252620171597, 0.9921370538909811, 0.49864256260778633)\n",
      "(ΔT, u, d, p) = (0.00023268905986113716, 1.0079252620171597, 0.9921370538909811, 0.49864256260778633)\n",
      "(ΔT, u, d, p) = (0.00023268905986113716, 1.0079252620171597, 0.9921370538909811, 0.49864256260778633)\n",
      "(ΔT, u, d, p) = (0.00023268905986113716, 1.0079252620171597, 0.9921370538909811, 0.49864256260778633)\n",
      "(ΔT, u, d, p) = (0.00023268905986113716, 1.0079252620171597, 0.9921370538909811, 0.49864256260778633)\n",
      "(ΔT, u, d, p) = (0.00023268905986113716, 1.0079252620171597, 0.9921370538909811, 0.49864256260778633)\n",
      "(ΔT, u, d, p) = (0.00023268905986113716, 1.0139935352784881, 0.9861995813665174, 0.4968758718973943)\n",
      "(ΔT, u, d, p) = (0.00023268905986113716, 1.0079252620171597, 0.9921370538909811, 0.49864256260778633)\n",
      "(ΔT, u, d, p) = (0.00023268905986113716, 1.0079252620171597, 0.9921370538909811, 0.49864256260778633)\n",
      "(ΔT, u, d, p) = (0.00023268905986113716, 1.0079252620171597, 0.9921370538909811, 0.49864256260778633)\n",
      "(ΔT, u, d, p) = (0.00023268905986113716, 1.0079252620171597, 0.9921370538909811, 0.49864256260778633)\n",
      "(ΔT, u, d, p) = (0.00023268905986113716, 1.0139131069046479, 0.9862778113726897, 0.49689771044547854)\n",
      "(ΔT, u, d, p) = (0.00023268905986113716, 1.0079252620171597, 0.9921370538909811, 0.49864256260778633)\n",
      "(ΔT, u, d, p) = (0.00023268905986113716, 1.0079252620171597, 0.9921370538909811, 0.49864256260778633)\n",
      "(ΔT, u, d, p) = (0.00023268905986113716, 1.0079252620171597, 0.9921370538909811, 0.49864256260778633)\n",
      "(ΔT, u, d, p) = (0.00023268905986113716, 1.0079252620171597, 0.9921370538909811, 0.49864256260778633)\n",
      "(ΔT, u, d, p) = (0.00023268905986113716, 1.0123769135096163, 0.9877744016635966, 0.4973201461291724)\n",
      "(ΔT, u, d, p) = (0.00023268905986113716, 1.0079252620171597, 0.9921370538909811, 0.49864256260778633)\n",
      "(ΔT, u, d, p) = (0.00023268905986113716, 1.0079252620171597, 0.9921370538909811, 0.49864256260778633)\n",
      "(ΔT, u, d, p) = (0.00023268905986113716, 1.0079252620171597, 0.9921370538909811, 0.49864256260778633)\n",
      "(ΔT, u, d, p) = (0.00023268905986113716, 1.0079252620171597, 0.9921370538909811, 0.49864256260778633)\n",
      "(ΔT, u, d, p) = (0.00023268905986113716, 1.0113149960029406, 0.9888116006905254, 0.4976193860532855)\n",
      "(ΔT, u, d, p) = (0.00023268905986113716, 1.0079252620171597, 0.9921370538909811, 0.49864256260778633)\n",
      "(ΔT, u, d, p) = (0.00023268905986113716, 1.0079252620171597, 0.9921370538909811, 0.49864256260778633)\n",
      "(ΔT, u, d, p) = (0.00023268905986113716, 1.0079252620171597, 0.9921370538909811, 0.49864256260778633)\n",
      "(ΔT, u, d, p) = (0.00023268905986113716, 1.0079252620171597, 0.9921370538909811, 0.49864256260778633)\n",
      "(ΔT, u, d, p) = (0.00023268905986113716, 1.010850757426477, 0.9892657176672629, 0.49775255929999684)\n",
      "(ΔT, u, d, p) = (0.00023268905986113716, 1.0079252620171597, 0.9921370538909811, 0.49864256260778633)\n",
      "(ΔT, u, d, p) = (0.00023268905986113716, 1.0079252620171597, 0.9921370538909811, 0.49864256260778633)\n",
      "(ΔT, u, d, p) = (0.00023268905986113716, 1.0079252620171597, 0.9921370538909811, 0.49864256260778633)\n",
      "(ΔT, u, d, p) = (0.00023268905986113716, 1.0079252620171597, 0.9921370538909811, 0.49864256260778633)\n",
      "(ΔT, u, d, p) = (0.00023268905986113716, 1.0101478650557687, 0.9899540795889239, 0.49795749675511985)\n",
      "(ΔT, u, d, p) = (0.00023268905986113716, 1.0079252620171597, 0.9921370538909811, 0.49864256260778633)\n",
      "(ΔT, u, d, p) = (0.00023268905986113716, 1.0079252620171597, 0.9921370538909811, 0.49864256260778633)\n",
      "(ΔT, u, d, p) = (0.00023268905986113716, 1.0079252620171597, 0.9921370538909811, 0.49864256260778633)\n",
      "(ΔT, u, d, p) = (0.00023268905986113716, 1.0079252620171597, 0.9921370538909811, 0.49864256260778633)\n",
      "(ΔT, u, d, p) = (0.00023268905986113716, 1.0093084264820735, 0.9907774212145262, 0.49820854843994195)\n",
      "(ΔT, u, d, p) = (0.00023268905986113716, 1.0079252620171597, 0.9921370538909811, 0.49864256260778633)\n",
      "(ΔT, u, d, p) = (0.00023268905986113716, 1.0079252620171597, 0.9921370538909811, 0.49864256260778633)\n",
      "(ΔT, u, d, p) = (0.00023268905986113716, 1.0079252620171597, 0.9921370538909811, 0.49864256260778633)\n",
      "(ΔT, u, d, p) = (0.00023268905986113716, 1.0079252620171597, 0.9921370538909811, 0.49864256260778633)\n",
      "(ΔT, u, d, p) = (0.00023268905986113716, 1.00879894284599, 0.9912778032645765, 0.4983650261362114)\n",
      "(ΔT, u, d, p) = (0.00023268905986113716, 1.0079252620171597, 0.9921370538909811, 0.49864256260778633)\n",
      "(ΔT, u, d, p) = (0.00023268905986113716, 1.0079252620171597, 0.9921370538909811, 0.49864256260778633)\n",
      "(ΔT, u, d, p) = (0.00023268905986113716, 1.0079252620171597, 0.9921370538909811, 0.49864256260778633)\n",
      "(ΔT, u, d, p) = (0.00023268905986113716, 1.0079252620171597, 0.9921370538909811, 0.49864256260778633)\n",
      "(ΔT, u, d, p) = (0.00023268905986113716, 1.00837892782468, 0.9916906952401758, 0.49849684007596223)\n",
      "(ΔT, u, d, p) = (0.00023268905986113716, 1.0079252620171597, 0.9921370538909811, 0.49864256260778633)\n",
      "(ΔT, u, d, p) = (0.00023268905986113716, 1.0079252620171597, 0.9921370538909811, 0.49864256260778633)\n",
      "(ΔT, u, d, p) = (0.00023268905986113716, 1.0079252620171597, 0.9921370538909811, 0.49864256260778633)\n",
      "(ΔT, u, d, p) = (0.00023268905986113716, 1.0079252620171597, 0.9921370538909811, 0.49864256260778633)\n",
      "(ΔT, u, d, p) = (0.00023268905986113716, 1.0081143927769494, 0.991950920614676, 0.49858135395794656)\n",
      "(ΔT, u, d, p) = (0.00023268905986113716, 1.0079252620171597, 0.9921370538909811, 0.49864256260778633)\n",
      "(ΔT, u, d, p) = (0.00023268905986113716, 1.0079252620171597, 0.9921370538909811, 0.49864256260778633)\n",
      "(ΔT, u, d, p) = (0.00023268905986113716, 1.0079252620171597, 0.9921370538909811, 0.49864256260778633)\n",
      "(ΔT, u, d, p) = (0.00023268905986113716, 1.0079252620171597, 0.9921370538909811, 0.49864256260778633)\n",
      "(ΔT, u, d, p) = (0.00023268905986113716, 1.0079191120190958, 0.9921431075920051, 0.4986445645571791)\n",
      "(ΔT, u, d, p) = (0.00023268905986113716, 1.0079252620171597, 0.9921370538909811, 0.49864256260778633)\n",
      "(ΔT, u, d, p) = (0.00023268905986113716, 1.0079252620171597, 0.9921370538909811, 0.49864256260778633)\n",
      "(ΔT, u, d, p) = (0.00023268905986113716, 1.0079252620171597, 0.9921370538909811, 0.49864256260778633)\n",
      "(ΔT, u, d, p) = (0.00023268905986113716, 1.0079252620171597, 0.9921370538909811, 0.49864256260778633)\n",
      "(ΔT, u, d, p) = (0.00023268905986113716, 1.0078683759668632, 0.9921930520348801, 0.49866110895322896)\n",
      "(ΔT, u, d, p) = (0.00023268905986113716, 1.0079252620171597, 0.9921370538909811, 0.49864256260778633)\n",
      "(ΔT, u, d, p) = (0.00023268905986113716, 1.0079252620171597, 0.9921370538909811, 0.49864256260778633)\n",
      "(ΔT, u, d, p) = (0.00023268905986113716, 1.0079252620171597, 0.9921370538909811, 0.49864256260778633)\n",
      "(ΔT, u, d, p) = (0.00023268905986113716, 1.0079252620171597, 0.9921370538909811, 0.49864256260778633)\n",
      "(ΔT, u, d, p) = (0.00023268905986113716, 1.0079037371881077, 0.9921582420061683, 0.49864957266262916)\n",
      "(ΔT, u, d, p) = (0.00023268905986113716, 1.0079252620171597, 0.9921370538909811, 0.49864256260778633)\n",
      "(ΔT, u, d, p) = (0.00023268905986113716, 1.0079252620171597, 0.9921370538909811, 0.49864256260778633)\n",
      "(ΔT, u, d, p) = (0.00023268905986113716, 1.0079252620171597, 0.9921370538909811, 0.49864256260778633)\n",
      "(ΔT, u, d, p) = (0.00023268905986113716, 1.0079252620171597, 0.9921370538909811, 0.49864256260778633)\n",
      "(ΔT, u, d, p) = (0.00023268905986113716, 1.007912962058557, 0.9921491613299669, 0.49864656724444795)\n",
      "(ΔT, u, d, p) = (0.00023268905986113716, 1.0079252620171597, 0.9921370538909811, 0.49864256260778633)\n",
      "(ΔT, u, d, p) = (0.00023268905986113716, 1.0079252620171597, 0.9921370538909811, 0.49864256260778633)\n",
      "(ΔT, u, d, p) = (0.00023268905986113716, 1.0079252620171597, 0.9921370538909811, 0.49864256260778633)\n",
      "(ΔT, u, d, p) = (0.00023268905986113716, 1.0079252620171597, 0.9921370538909811, 0.49864256260778633)\n",
      "(ΔT, u, d, p) = (0.00023268905986113716, 1.0080052154068777, 0.9920583591388995, 0.49861660364186955)\n",
      "(ΔT, u, d, p) = (0.00023268905986113716, 1.0079252620171597, 0.9921370538909811, 0.49864256260778633)\n",
      "(ΔT, u, d, p) = (0.00023268905986113716, 1.0079252620171597, 0.9921370538909811, 0.49864256260778633)\n",
      "(ΔT, u, d, p) = (0.00023268905986113716, 1.0079252620171597, 0.9921370538909811, 0.49864256260778633)\n",
      "(ΔT, u, d, p) = (0.00023268905986113716, 1.0079252620171597, 0.9921370538909811, 0.49864256260778633)\n",
      "(ΔT, u, d, p) = (0.00023268905986113716, 1.0081543761802783, 0.9919115798404072, 0.4985685001614031)\n",
      "(ΔT, u, d, p) = (0.00023268905986113716, 1.0079252620171597, 0.9921370538909811, 0.49864256260778633)\n",
      "(ΔT, u, d, p) = (0.00023268905986113716, 1.0079252620171597, 0.9921370538909811, 0.49864256260778633)\n",
      "(ΔT, u, d, p) = (0.00023268905986113716, 1.0079252620171597, 0.9921370538909811, 0.49864256260778633)\n",
      "(ΔT, u, d, p) = (0.00023268905986113716, 1.0079252620171597, 0.9921370538909811, 0.49864256260778633)\n",
      "(ΔT, u, d, p) = (0.00023268905986113716, 1.008402001032179, 0.9916680044034235, 0.49848952594181956)\n",
      "(ΔT, u, d, p) = (0.00023268905986113716, 1.0079252620171597, 0.9921370538909811, 0.49864256260778633)\n",
      "(ΔT, u, d, p) = (0.00023268905986113716, 1.0079252620171597, 0.9921370538909811, 0.49864256260778633)\n",
      "(ΔT, u, d, p) = (0.00023268905986113716, 1.0079252620171597, 0.9921370538909811, 0.49864256260778633)\n",
      "(ΔT, u, d, p) = (0.00023268905986113716, 1.0079252620171597, 0.9921370538909811, 0.49864256260778633)\n",
      "(ΔT, u, d, p) = (0.00023268905986113716, 1.0085696821980121, 0.9915031332497166, 0.49843663332631855)\n",
      "(ΔT, u, d, p) = (0.00023268905986113716, 1.0079252620171597, 0.9921370538909811, 0.49864256260778633)\n",
      "(ΔT, u, d, p) = (0.00023268905986113716, 1.0079252620171597, 0.9921370538909811, 0.49864256260778633)\n",
      "(ΔT, u, d, p) = (0.00023268905986113716, 1.0079252620171597, 0.9921370538909811, 0.49864256260778633)\n",
      "(ΔT, u, d, p) = (0.00023268905986113716, 1.0079252620171597, 0.9921370538909811, 0.49864256260778633)\n",
      "(ΔT, u, d, p) = (0.00023268905986113716, 1.008062109180658, 0.9920023685969004, 0.49859820657388776)\n",
      "(ΔT, u, d, p) = (0.00023268905986113716, 1.0079252620171597, 0.9921370538909811, 0.49864256260778633)\n",
      "(ΔT, u, d, p) = (0.00023268905986113716, 1.0079252620171597, 0.9921370538909811, 0.49864256260778633)\n",
      "(ΔT, u, d, p) = (0.00023268905986113716, 1.0079252620171597, 0.9921370538909811, 0.49864256260778633)\n",
      "(ΔT, u, d, p) = (0.00023268905986113716, 1.0079252620171597, 0.9921370538909811, 0.49864256260778633)\n",
      "(ΔT, u, d, p) = (0.00023268905986113716, 1.0089559164247193, 0.9911235800504992, 0.49831644115637236)\n",
      "(ΔT, u, d, p) = (0.00023268905986113716, 1.0079252620171597, 0.9921370538909811, 0.49864256260778633)\n",
      "(ΔT, u, d, p) = (0.00023268905986113716, 1.0079252620171597, 0.9921370538909811, 0.49864256260778633)\n",
      "(ΔT, u, d, p) = (0.00023268905986113716, 1.0079252620171597, 0.9921370538909811, 0.49864256260778633)\n",
      "(ΔT, u, d, p) = (0.00023268905986113716, 1.0079252620171597, 0.9921370538909811, 0.49864256260778633)\n",
      "(ΔT, u, d, p) = (0.00023268905986113716, 1.009211435453924, 0.9908726406277977, 0.49823807446653995)\n",
      "(ΔT, u, d, p) = (0.00023268905986113716, 1.0079252620171597, 0.9921370538909811, 0.49864256260778633)\n",
      "(ΔT, u, d, p) = (0.00023268905986113716, 1.0079252620171597, 0.9921370538909811, 0.49864256260778633)\n",
      "(ΔT, u, d, p) = (0.00023268905986113716, 1.0079252620171597, 0.9921370538909811, 0.49864256260778633)\n",
      "(ΔT, u, d, p) = (0.00023268905986113716, 1.0079252620171597, 0.9921370538909811, 0.49864256260778633)\n",
      "(ΔT, u, d, p) = (0.00023268905986113716, 1.009537855055973, 0.9905522561554225, 0.4981391603246761)\n",
      "(ΔT, u, d, p) = (0.00023268905986113716, 1.0079252620171597, 0.9921370538909811, 0.49864256260778633)\n",
      "(ΔT, u, d, p) = (0.00023268905986113716, 1.0079252620171597, 0.9921370538909811, 0.49864256260778633)\n",
      "(ΔT, u, d, p) = (0.00023268905986113716, 1.0079252620171597, 0.9921370538909811, 0.49864256260778633)\n",
      "(ΔT, u, d, p) = (0.00023268905986113716, 1.0079252620171597, 0.9921370538909811, 0.49864256260778633)\n",
      "(ΔT, u, d, p) = (0.00023268905986113716, 1.0099614340151621, 0.9901368174272162, 0.49801260866708275)\n",
      "(ΔT, u, d, p) = (0.00023268905986113716, 1.0079252620171597, 0.9921370538909811, 0.49864256260778633)\n",
      "(ΔT, u, d, p) = (0.00023268905986113716, 1.0079252620171597, 0.9921370538909811, 0.49864256260778633)\n",
      "(ΔT, u, d, p) = (0.00023268905986113716, 1.0079252620171597, 0.9921370538909811, 0.49864256260778633)\n",
      "(ΔT, u, d, p) = (0.00023268905986113716, 1.0079252620171597, 0.9921370538909811, 0.49864256260778633)\n",
      "(ΔT, u, d, p) = (0.00023268905986113716, 1.0122641862641044, 0.9878844016902673, 0.49735159566375864)\n",
      "(ΔT, u, d, p) = (0.00023268905986113716, 1.0079252620171597, 0.9921370538909811, 0.49864256260778633)\n",
      "(ΔT, u, d, p) = (0.00023268905986113716, 1.0079252620171597, 0.9921370538909811, 0.49864256260778633)\n",
      "(ΔT, u, d, p) = (0.00023268905986113716, 1.0079252620171597, 0.9921370538909811, 0.49864256260778633)\n",
      "(ΔT, u, d, p) = (0.00023268905986113716, 1.0079252620171597, 0.9921370538909811, 0.49864256260778633)\n",
      "(ΔT, u, d, p) = (0.00023268905986113716, 1.010875429196368, 0.9892415733113488, 0.49774544102938734)\n",
      "(ΔT, u, d, p) = (0.00023268905986113716, 1.0079252620171597, 0.9921370538909811, 0.49864256260778633)\n",
      "(ΔT, u, d, p) = (0.00023268905986113716, 1.0079252620171597, 0.9921370538909811, 0.49864256260778633)\n",
      "(ΔT, u, d, p) = (0.00023268905986113716, 1.0079252620171597, 0.9921370538909811, 0.49864256260778633)\n",
      "(ΔT, u, d, p) = (0.00023268905986113716, 1.0079252620171597, 0.9921370538909811, 0.49864256260778633)\n",
      "(ΔT, u, d, p) = (0.00023268905986113716, 1.0110820789101977, 0.9890393874628431, 0.49768600233603905)\n",
      "(ΔT, u, d, p) = (0.00023268905986113716, 1.0079252620171597, 0.9921370538909811, 0.49864256260778633)\n",
      "(ΔT, u, d, p) = (0.00023268905986113716, 1.0079252620171597, 0.9921370538909811, 0.49864256260778633)\n",
      "(ΔT, u, d, p) = (0.00023268905986113716, 1.0079252620171597, 0.9921370538909811, 0.49864256260778633)\n",
      "(ΔT, u, d, p) = (0.00023268905986113716, 1.0079252620171597, 0.9921370538909811, 0.49864256260778633)\n",
      "(ΔT, u, d, p) = "
     ]
    }
   ],
   "source": [
    "put_dataset = filter([:Type, :Strike] => (x,y)-> x == \"Put\" && y ∈ strike_price_array, options_dataset);\n",
    "df_CRR_put_simulation = DataFrame()\n",
    "for value ∈ strike_price_array\n",
    "    \n",
    "    # compute the IV - use average IV is not in dataset\n",
    "    tmp = put_dataset[put_dataset.Strike .== value, :IV]\n",
    "    IV_value = IV;\n",
    "    if (isempty(tmp) == false)\n",
    "        IV_value = first(tmp);\n",
    "    end\n",
    "    \n",
    "    # build the tree -\n",
    "    treemodel = build(MyAdjacencyBasedCRREquityPriceTree, μ = r̄, h = 365, \n",
    "        T = DTE, σ = first(IV_value), Sₒ = Sₒ);\n",
    "    \n",
    "    american_put_contract_model.K = value;   \n",
    "    price_value = premium(american_put_contract_model, treemodel)\n",
    "\n",
    "    # store the results\n",
    "    results_tuple = (\n",
    "        K = value,\n",
    "        premium = price_value,\n",
    "        Type = \"Put\"\n",
    "    );\n",
    "    push!(df_CRR_put_simulation, results_tuple);\n",
    "end"
   ]
  },
  {
   "cell_type": "code",
   "execution_count": null,
   "id": "0db17bcc-7b52-4084-92c2-c1dde1caa2f6",
   "metadata": {
    "tags": []
   },
   "outputs": [],
   "source": [
    "treemodel = build(MyAdjacencyBasedCRREquityPriceTree, μ = r̄, h = 365, \n",
    "        T = DTE, σ = 0.51, Sₒ = Sₒ);"
   ]
  },
  {
   "cell_type": "code",
   "execution_count": null,
   "id": "03bc1efb-b84e-4088-9f01-3a971ff70cfb",
   "metadata": {
    "tags": []
   },
   "outputs": [],
   "source": [
    "american_put_contract_model.K = 110.0;   \n",
    "price_value = premium(american_put_contract_model, treemodel)"
   ]
  },
  {
   "cell_type": "markdown",
   "id": "2b53d163-03a3-45e6-9174-dadc3b216c5d",
   "metadata": {},
   "source": [
    "##### Call contracts\n",
    "To start the calculation for `call` contracts, we filter the `options_dataset` and collect the `call` contracts with strike prices in the `strike_price_array`, we store the `call` contract data in the `call_dataset`, which is type `DataFrame`. \n",
    "\n",
    "Next, we build an instance of the `MyAdjacencyBasedCRREquityPriceTree` type, which holds the parameters and data for the binomial price tree using the `build(...)` function. We store this in the `treemodel` variable. We then calculate the premium for the various strike prices in the `strike_price_array`, ranging from `K=40` to `K=200`, using a `for` loop, and record the estimated premium in the `df_CRR_call_simulation` DataFrame. For each strike price:\n",
    "* We first check if the dataset has an existing `IV` value. If there is, we use that `IV` value. Otherwise, we use the `at the money` value for the implied volatility, `IV = 0.5175`. \n",
    "* Then, we update the strike price field `K` of the `put_contract_model` instance that we created above with the current strike price value.\n",
    "* Finally, we calculate the premium for this contract using the `premium(…)` function."
   ]
  },
  {
   "cell_type": "code",
   "execution_count": null,
   "id": "de5c0578-a8ec-47d0-8a8b-874e6c03437b",
   "metadata": {
    "tags": []
   },
   "outputs": [],
   "source": [
    "call_dataset = filter([:Type, :Strike] => (x,y)-> x == \"Call\" && y ∈ strike_price_array, options_dataset);\n",
    "df_CRR_call_simulation = DataFrame()\n",
    "for value ∈ strike_price_array\n",
    "    \n",
    "    # compute the IV - use average IV is not in dataset\n",
    "    tmp = call_dataset[call_dataset.Strike .== value, :IV]\n",
    "    IV_value = IV;\n",
    "    if (isempty(tmp) == false)\n",
    "        IV_value = first(tmp);\n",
    "    end\n",
    "    \n",
    "    # build the tree -\n",
    "    treemodel = build(MyAdjacencyBasedCRREquityPriceTree, μ = r̄, h = 365, \n",
    "        T = DTE, σ = first(IV_value), Sₒ = Sₒ);\n",
    "    \n",
    "    american_call_contract_model.K = value;   \n",
    "    price_value = premium(american_call_contract_model, treemodel)\n",
    "\n",
    "    # store the results\n",
    "    results_tuple = (\n",
    "        K = value,\n",
    "        premium = price_value,\n",
    "        Type = \"Call\"\n",
    "    );\n",
    "    push!(df_CRR_call_simulation, results_tuple);\n",
    "end"
   ]
  },
  {
   "cell_type": "markdown",
   "id": "96cb6ab9-0a22-4ad2-ab4a-ef8436c0a24f",
   "metadata": {},
   "source": [
    "#### Visualize\n",
    "Let's plot the strike price `K` on the horizontal axis and the estimated premium on the vertical axis. \n",
    "* The CRR option price simulation captures the prices of `put` options that are `near the money`, i.e., when $S_{\\circ}\\simeq{K}$. Additionally, it captures the prices for constracts `in the money`, i.e., $S_{\\circ} \\ll {K}$ and `out of the money`, i.e., $S_{\\circ}\\gg{K}$:\n",
    "* The CRR option price simulation predicts the prices of `call` options that are `near the money`, i.e., when $S_{\\circ}\\simeq{K}$. However, it underpredicts the prices of constracts `in the money`, i.e., $S_{\\circ} \\gg {K}$ and `out of the money`, i.e., $S_{\\circ}\\ll{K}$:"
   ]
  },
  {
   "cell_type": "code",
   "execution_count": null,
   "id": "caaf946a-d08e-4160-a356-070738ba83fc",
   "metadata": {
    "tags": []
   },
   "outputs": [],
   "source": [
    "plot(df_CRR_put_simulation[:,1],df_CRR_put_simulation[:,2], lw=3, label=\"Simulation Put contract\")\n",
    "scatter!(put_dataset[:,:Strike], put_dataset[:,:Ask],label=\"Put Actual DTE = 31 AMD\", mc=:white, msc=:blue)\n",
    "plot!(df_CRR_call_simulation[:,1],df_CRR_call_simulation[:,2], lw=3, label=\"Simulation Call contract\", c=:red)\n",
    "scatter!(call_dataset[:,:Strike], call_dataset[:,:Ask],label=\"Call Actual DTE = 31 AMD\", mc=:white, msc=:red)\n",
    "\n",
    "VLINE = Array{Float64,2}(undef, number_of_strike_prices, 2);\n",
    "premium_low = 0.0\n",
    "premium_high = maximum(put_dataset[:,:Ask]);\n",
    "tmp = range(premium_low, premium_high, length = number_of_strike_prices) |> collect;\n",
    "for i ∈ 1:number_of_strike_prices\n",
    "    VLINE[i,1] = Sₒ\n",
    "    VLINE[i,2] = tmp[i]\n",
    "end\n",
    "plot!(VLINE[:,1], VLINE[:,2], c=:gray69, ls=:dash, label=\"Sₒ = $(Sₒ) USD/share\")\n",
    "\n",
    "xlabel!(\"Strike price K (USD/share)\", fontsize=18)\n",
    "ylabel!(\"Option premium (USD/share)\", fontsize=18)"
   ]
  },
  {
   "cell_type": "code",
   "execution_count": null,
   "id": "d867af6c-e6c5-4c51-bebd-ca14cc709dfb",
   "metadata": {
    "tags": []
   },
   "outputs": [],
   "source": [
    "filter(:Strike=>x->x==110.0, put_dataset)"
   ]
  },
  {
   "cell_type": "markdown",
   "id": "d2fe45d6-7b4f-4636-b978-0074cd49803b",
   "metadata": {},
   "source": [
    "#### Aside: Visualizing the volatility smile\n",
    "The volatility smile is a plot of the implied volatility levels of options with different strike prices for a specific expiration date. It takes the form of a U-shaped curve in the strike price-volatility plane, which indicates that options with varying strike prices have different implied volatility levels. \n",
    "* The smile implies that the market is anticipating higher volatility for options that are significantly out-of-the-money or in-the-money, as compared to options with strike prices near the current market price. This suggests that the market is expecting potential price movements.\n",
    "\n",
    "##### Implementation\n",
    "First, let's build an array of strike prices, called the `smile_strike_price_array`, which strike price values from `K = 60 USD` to `K = 180 USD` in increments of `5 USD`:"
   ]
  },
  {
   "cell_type": "code",
   "execution_count": null,
   "id": "6e187ae6-9b14-4b0e-8366-5db8610e3cc3",
   "metadata": {
    "tags": []
   },
   "outputs": [],
   "source": [
    "smile_strike_price_array = range(60,180,step=5) |> collect;"
   ]
  },
  {
   "cell_type": "markdown",
   "id": "ad652291-7501-496f-a61f-d948aee3b4de",
   "metadata": {},
   "source": [
    "Next, we'll filter the `options_dataset` to include only `call` and `put` contracts corresponding to the strike prices in the `smile_strike_price_array`. We'll store the filtered results in the `smile_dataset_call` and `smile_dataset_put` datasets:"
   ]
  },
  {
   "cell_type": "code",
   "execution_count": null,
   "id": "60d7a2e1-81eb-4e61-af0f-e52b9c90a0f8",
   "metadata": {
    "tags": []
   },
   "outputs": [],
   "source": [
    "smile_dataset_call = filter([:Type, :Strike] => (x,y)-> x == \"Call\" && y ∈ smile_strike_price_array, options_dataset);\n",
    "smile_dataset_put = filter([:Type, :Strike] => (x,y)-> x == \"Put\" && y ∈ smile_strike_price_array, options_dataset);"
   ]
  },
  {
   "cell_type": "markdown",
   "id": "ce5bfe8c-620c-477a-bcde-b0a301bc4f43",
   "metadata": {},
   "source": [
    "Finally, let's plot the strike price `K` versus the implied volatility `IV` for the `call` and `put` datasets, along with the `at the money (ATM)` implied volatility:"
   ]
  },
  {
   "cell_type": "code",
   "execution_count": null,
   "id": "126d279d-a3c7-4c6d-ae36-b3b29e3989d1",
   "metadata": {
    "tags": []
   },
   "outputs": [],
   "source": [
    "plot(smile_dataset_put[:,:Strike], smile_dataset_put[:,:AVGIV], lw=3, c=:gray69, label=\"ATM-IV\")\n",
    "plot!(smile_dataset_call[:,:Strike], smile_dataset_call[:,:IV], lw=3, c=:red, label=\"Call\")\n",
    "plot!(smile_dataset_put[:,:Strike], smile_dataset_put[:,:IV], lw=3, c=:blue, label=\"Put\")\n",
    "ylabel!(\"Implied Volatility (IV) DTE = 31d\", fontsize=18)\n",
    "xlabel!(\"Strike prike (K)\", fontsize=18)"
   ]
  },
  {
   "cell_type": "markdown",
   "id": "841c4dbb-4081-4339-9d1a-4aa1e7b809a6",
   "metadata": {},
   "source": [
    "## Objective 2: Time, Volatility and Underlying Dependence of American Option Contract Pricing\n",
    "The prices for the `call` and `put` contracts calculated in `Objective 1` are _snapshots_ in time, i.e., they reflect the market conditions when the contract was purchased. However, as we move forward in time the market conditions change, the share price of the underlying asset changes, the time left on the contract decreases, and the implied volatility changes typically decreases as we move toward expiration, but an increases in the implied volatility is also possible."
   ]
  },
  {
   "cell_type": "code",
   "execution_count": null,
   "id": "a8261006-b1d1-4c3b-901d-3f9e3454d8d9",
   "metadata": {
    "tags": []
   },
   "outputs": [],
   "source": [
    "β₁ = 0.8; # lower perturbation bound\n",
    "β₂ = 1.2; # upper perturbation bounds"
   ]
  },
  {
   "cell_type": "markdown",
   "id": "4349c987-9fe7-4a4b-abf0-1a98e54beb18",
   "metadata": {},
   "source": [
    "Fill me in"
   ]
  },
  {
   "cell_type": "code",
   "execution_count": null,
   "id": "4a72238a-031e-4ec3-9b95-1cc60fd4f379",
   "metadata": {
    "tags": []
   },
   "outputs": [],
   "source": [
    "number_of_divisions = 3;\n",
    "β = range(β₁, β₂, length = number_of_divisions) |> collect;\n",
    "DTEₒ = DTE;\n",
    "IVₒ = IV;"
   ]
  },
  {
   "cell_type": "markdown",
   "id": "bca74422-27d0-420d-8c04-d4f145b28eec",
   "metadata": {},
   "source": [
    "Fill me in"
   ]
  },
  {
   "cell_type": "code",
   "execution_count": null,
   "id": "4f1167be-bd7a-4ba4-8356-cb27a0c4fdce",
   "metadata": {
    "tags": []
   },
   "outputs": [],
   "source": [
    "design_array = Array{Float64,3}(undef, number_of_divisions, number_of_divisions, number_of_divisions);\n",
    "american_put_contract_model.K = 120.0;\n",
    "treemodel = build(MyAdjacencyBasedCRREquityPriceTree, μ = r̄, h = 365, \n",
    "            T = DTE, σ = IV, Sₒ = Sₒ);\n",
    "baseprice = premium(american_put_contract_model, treemodel)\n",
    "for i ∈ eachindex(β)\n",
    "    \n",
    "    DTE_value = β[i]*DTEₒ\n",
    "    \n",
    "    for j ∈ eachindex(β)\n",
    "        \n",
    "        IV_value = β[j]*IVₒ\n",
    "        \n",
    "        for k ∈ eachindex(β)\n",
    "            \n",
    "            S_value = β[k]*Sₒ\n",
    "            \n",
    "            treemodel = build(MyAdjacencyBasedCRREquityPriceTree, μ = r̄, h = 365, \n",
    "            T = DTE_value, σ = IV_value, Sₒ = S_value);\n",
    "        \n",
    "            price_value = premium(american_put_contract_model, treemodel)\n",
    "            design_array[i,j,k] = log(price_value/baseprice);\n",
    "        end\n",
    "    end\n",
    "end\n",
    "design_array;"
   ]
  },
  {
   "cell_type": "code",
   "execution_count": null,
   "id": "e2d8a60c-6fb4-405b-926a-1942fd239433",
   "metadata": {},
   "outputs": [],
   "source": [
    "design_array[:,:,3]"
   ]
  },
  {
   "cell_type": "code",
   "execution_count": null,
   "id": "222ac341-9957-407e-934e-c4d7ce37f8ef",
   "metadata": {
    "tags": []
   },
   "outputs": [],
   "source": [
    "heatmap(β, β, design_array[:,:,2], xlabel=\"β DTE\", ylabel=\"β IV\")\n",
    "plot!(β,1.0*ones(number_of_divisions), lw=2, label=\"\", c=:white)\n",
    "plot!(1.0*ones(number_of_divisions), β, lw=2, label=\"\", c=:white)"
   ]
  },
  {
   "cell_type": "code",
   "execution_count": null,
   "id": "a4f9f894-564f-463a-bdcd-c6ea1357be5d",
   "metadata": {},
   "outputs": [],
   "source": []
  }
 ],
 "metadata": {
  "kernelspec": {
   "display_name": "Julia 1.9.3",
   "language": "julia",
   "name": "julia-1.9"
  },
  "language_info": {
   "file_extension": ".jl",
   "mimetype": "application/julia",
   "name": "julia",
   "version": "1.9.3"
  }
 },
 "nbformat": 4,
 "nbformat_minor": 5
}
