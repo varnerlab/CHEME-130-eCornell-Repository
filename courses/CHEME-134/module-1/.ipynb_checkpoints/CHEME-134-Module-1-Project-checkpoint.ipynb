{
 "cells": [
  {
   "cell_type": "markdown",
   "id": "457d0b88-8d9a-4c92-8563-062beaf4fe87",
   "metadata": {},
   "source": [
    "# Project: Price American Options Contracts"
   ]
  },
  {
   "cell_type": "code",
   "execution_count": null,
   "id": "f328655a-1632-49eb-94de-115c0887461e",
   "metadata": {},
   "outputs": [],
   "source": []
  }
 ],
 "metadata": {
  "kernelspec": {
   "display_name": "Julia 1.9.3",
   "language": "julia",
   "name": "julia-1.9"
  },
  "language_info": {
   "file_extension": ".jl",
   "mimetype": "application/julia",
   "name": "julia",
   "version": "1.9.3"
  }
 },
 "nbformat": 4,
 "nbformat_minor": 5
}
