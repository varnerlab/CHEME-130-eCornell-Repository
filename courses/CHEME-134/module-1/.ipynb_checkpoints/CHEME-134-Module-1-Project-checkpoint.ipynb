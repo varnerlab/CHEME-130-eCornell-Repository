{
 "cells": [
  {
   "cell_type": "markdown",
   "id": "e93144b2-2b0d-4d36-8af4-72dac60ee6d5",
   "metadata": {},
   "source": [
    "# Example: Simulation of American Option Price Dynamics using a Binomial Lattice\n",
    "This example will familiarize students with the simulation of the price dynamics of [American-style option contracts](https://en.wikipedia.org/wiki/Option_style). In particular, we'll explore how the contract length, i.e., the days to expiration (DTE), influences the contract price as a function of the strike price $K$.\n",
    "\n",
    "### Learning Objectives\n",
    "* `Prerequisites`: load and interrogate the options chains for different values of the days to expiration (DTE) parameter for an example underlying ticker, in this case, [Advanced Micro Devices](https://finance.yahoo.com/quote/AMD/) with the ticker symbol `AMD.`"
   ]
  },
  {
   "cell_type": "markdown",
   "id": "6dcc954d-c3f1-4595-ac30-716a0755a3c0",
   "metadata": {},
   "source": [
    "## Setup\n",
    "Set up the computational environment by including the `Include.jl` file. The `Include.jl` file loads external packages, various functions we will use in the exercise, and custom types to model the components of our example problem.\n",
    "* For additional information on functions and types used in this material, see the [Julia programming language documentation](https://docs.julialang.org/en/v1/) and the [VLQuantitativeFinancePackage.jl documentation](https://github.com/varnerlab/VLQuantitativeFinancePackage.jl). "
   ]
  },
  {
   "cell_type": "code",
   "execution_count": 1,
   "id": "9c3d8a63-c334-4d55-bca6-e3db6820e54c",
   "metadata": {},
   "outputs": [
    {
     "name": "stderr",
     "output_type": "stream",
     "text": [
      "\u001b[32m\u001b[1m    Updating\u001b[22m\u001b[39m git-repo `https://github.com/varnerlab/VLQuantitativeFinancePackage.jl.git`\n",
      "\u001b[32m\u001b[1m   Resolving\u001b[22m\u001b[39m package versions...\n",
      "\u001b[32m\u001b[1m  No Changes\u001b[22m\u001b[39m to `~/Desktop/julia_work/CHEME-130-eCornell-Repository/courses/CHEME-134/module-1/Project.toml`\n",
      "\u001b[32m\u001b[1m  No Changes\u001b[22m\u001b[39m to `~/Desktop/julia_work/CHEME-130-eCornell-Repository/courses/CHEME-134/module-1/Manifest.toml`\n",
      "\u001b[32m\u001b[1m  Activating\u001b[22m\u001b[39m project at `~/Desktop/julia_work/CHEME-130-eCornell-Repository/courses/CHEME-134/module-1`\n",
      "\u001b[32m\u001b[1m    Updating\u001b[22m\u001b[39m registry at `~/.julia/registries/General.toml`\n",
      "\u001b[32m\u001b[1m    Updating\u001b[22m\u001b[39m git-repo `https://github.com/varnerlab/VLQuantitativeFinancePackage.jl.git`\n",
      "\u001b[32m\u001b[1m  No Changes\u001b[22m\u001b[39m to `~/Desktop/julia_work/CHEME-130-eCornell-Repository/courses/CHEME-134/module-1/Project.toml`\n",
      "\u001b[32m\u001b[1m  No Changes\u001b[22m\u001b[39m to `~/Desktop/julia_work/CHEME-130-eCornell-Repository/courses/CHEME-134/module-1/Manifest.toml`\n"
     ]
    }
   ],
   "source": [
    "include(\"Include.jl\");"
   ]
  },
  {
   "cell_type": "markdown",
   "id": "68bddc4c-cd4e-4022-a238-5ea0dc3f4e7e",
   "metadata": {},
   "source": [
    "## Prerequisites\n",
    "First, load the options chain dataset using the `MyOptionsChainDataSet()` function. This function returns the pricing data as a [Julia Dictionary type](https://docs.julialang.org/en/v1/base/collections/#Dictionaries) with `keys` holding the number of days to expiration `DTE::Int64` and `values` being a [Vector](https://docs.julialang.org/en/v1/base/arrays/#Base.Vector-Tuple{UndefInitializer,%20Any}) of multilevel dictionaries. We'll store the options contract price data in the `dataset` variable.\n",
    "* In this example, we'll use options pricing data for [Advanced Micro Devices](https://finance.yahoo.com/quote/AMD/) as the underlying asset; [Advanced Micro Devices](https://finance.yahoo.com/quote/AMD/) has the ticker symbol `AMD.` The `dataset` variable holds pricing information for `call` and `put` contracts. Each contract has a different strike price. In addition to the contract price, there is additional information about the underlying asset and contract. \n",
    "* For any given `DTE` key, the price data is organized as a `Vector{Dict{String, Any}},` where each element in the vector is a dictionary with the `keys`: `day`, `details`,`last_quote`,`last_trade`,`underlying_asset`,`open_interest` and `break_even_price.` Each key (except for the `open_interest` and `break_even_price` keys) points to another dictionary."
   ]
  },
  {
   "cell_type": "code",
   "execution_count": 2,
   "id": "901ddcb2-0203-432f-bca5-4041046bdb64",
   "metadata": {},
   "outputs": [
    {
     "data": {
      "text/plain": [
       "Dict{Int64, Vector{Dict{String, Any}}} with 15 entries:\n",
       "  123 => [Dict(\"day\"=>Dict{String, Any}(\"change\"=>0, \"high\"=>79.1, \"change_perc…\n",
       "  60  => [Dict(\"day\"=>Dict{String, Any}(\"change\"=>0, \"high\"=>73, \"change_percen…\n",
       "  32  => [Dict(\"day\"=>Dict{String, Any}(\"change\"=>0, \"high\"=>76.7, \"change_perc…\n",
       "  11  => [Dict(\"day\"=>Dict{String, Any}(\"change\"=>0, \"high\"=>59.05, \"change_per…\n",
       "  368 => [Dict(\"day\"=>Dict{String, Any}(\"change\"=>0, \"high\"=>81.1, \"change_perc…\n",
       "  578 => [Dict(\"day\"=>Dict{String, Any}(), \"details\"=>Dict{String, Any}(\"contra…\n",
       "  214 => [Dict(\"day\"=>Dict{String, Any}(\"change\"=>0, \"high\"=>178.6, \"change_per…\n",
       "  732 => [Dict(\"day\"=>Dict{String, Any}(), \"details\"=>Dict{String, Any}(\"contra…\n",
       "  39  => [Dict(\"day\"=>Dict{String, Any}(), \"details\"=>Dict{String, Any}(\"contra…\n",
       "  914 => [Dict(\"day\"=>Dict{String, Any}(\"change\"=>0, \"high\"=>81.5, \"change_perc…\n",
       "  25  => [Dict(\"day\"=>Dict{String, Any}(), \"details\"=>Dict{String, Any}(\"contra…\n",
       "  151 => [Dict(\"day\"=>Dict{String, Any}(\"change\"=>0, \"high\"=>74.25, \"change_per…\n",
       "  4   => [Dict(\"day\"=>Dict{String, Any}(), \"details\"=>Dict{String, Any}(\"contra…\n",
       "  18  => [Dict(\"day\"=>Dict{String, Any}(\"change\"=>0, \"high\"=>57.1, \"change_perc…\n",
       "  88  => [Dict(\"day\"=>Dict{String, Any}(\"change\"=>0, \"high\"=>77, \"change_percen…"
      ]
     },
     "execution_count": 2,
     "metadata": {},
     "output_type": "execute_result"
    }
   ],
   "source": [
    "dataset = MyOptionsChainDataSet()"
   ]
  },
  {
   "cell_type": "markdown",
   "id": "07314c3f-0ab8-4255-b6a2-d791761ca7a5",
   "metadata": {},
   "source": [
    "For example, we can access the first contract with `DTE = 39 days` to expiration by first passing in the `DTE` key value, followed by the index `1`, i.e., `dataset[39][1]`:"
   ]
  },
  {
   "cell_type": "code",
   "execution_count": 3,
   "id": "f4787ac9-dbad-4a9c-9db7-fb59c2cab5b7",
   "metadata": {},
   "outputs": [],
   "source": [
    "dataset[39];"
   ]
  },
  {
   "cell_type": "markdown",
   "id": "104849c8-b23e-471a-982d-1aff79e0a01f",
   "metadata": {},
   "source": [
    "__Details__: To access the `details` field for the `(DTE, index) = (39,1)` contract (which corresponds to a `put` contract with a strike price of `K = 185.0` USD/share, we can append the `details` key (or any other of the sub-keys) to the end of the dataset call, i.e., `dataset[39][1][\"details\"]`:"
   ]
  },
  {
   "cell_type": "code",
   "execution_count": 4,
   "id": "ea26b444-9ee8-4d71-8398-01f52bf80435",
   "metadata": {},
   "outputs": [
    {
     "data": {
      "text/plain": [
       "Dict{String, Any} with 6 entries:\n",
       "  \"contract_type\"       => \"put\"\n",
       "  \"ticker\"              => \"O:AMD230728P00185000\"\n",
       "  \"strike_price\"        => 185\n",
       "  \"exercise_style\"      => \"american\"\n",
       "  \"expiration_date\"     => \"2023-07-28\"\n",
       "  \"shares_per_contract\" => 100"
      ]
     },
     "execution_count": 4,
     "metadata": {},
     "output_type": "execute_result"
    }
   ],
   "source": [
    "dataset[39][1][\"details\"]"
   ]
  },
  {
   "cell_type": "markdown",
   "id": "b4e2440f-0928-466f-9b43-d34b5f9bbcad",
   "metadata": {},
   "source": [
    "__Quote__: To access the `last_quote` field for the `(DTE, index) = (39,1)` contract (which corresponds to a `put` contract with a strike price of `K = 185.0` USD/share), we can append the `last_quote` key (or any other of the sub-keys) to the end of the dataset call, i.e., `dataset[39][1][\"last_quote\"]`:"
   ]
  },
  {
   "cell_type": "code",
   "execution_count": 5,
   "id": "0ef695db-a81a-4140-b1a9-af9cab823f85",
   "metadata": {},
   "outputs": [
    {
     "data": {
      "text/plain": [
       "Dict{String, Any} with 7 entries:\n",
       "  \"midpoint\"     => 64.175\n",
       "  \"ask\"          => 65.65\n",
       "  \"timeframe\"    => \"REAL-TIME\"\n",
       "  \"bid_size\"     => 10\n",
       "  \"ask_size\"     => 1\n",
       "  \"bid\"          => 62.7\n",
       "  \"last_updated\" => 1686945598063236608"
      ]
     },
     "execution_count": 5,
     "metadata": {},
     "output_type": "execute_result"
    }
   ],
   "source": [
    "dataset[39][1][\"last_quote\"]"
   ]
  },
  {
   "cell_type": "markdown",
   "id": "a9003b0a-6590-4406-9aef-af860a0816bf",
   "metadata": {},
   "source": [
    "__Underlying__: To access the `underlying_asset` field for the `(DTE, index) = (39,1)` contract (which corresponds to a `put` contract with a strike price of `K = 185.0` USD/share), we can append the `underlying_asset` key (or any other of the sub-keys) to the end of the dataset call, i.e., `dataset[39][1][\"underlying_asset\"]`:"
   ]
  },
  {
   "cell_type": "code",
   "execution_count": 6,
   "id": "6f611228-8d2f-4fbc-ad90-588f962eba48",
   "metadata": {},
   "outputs": [
    {
     "data": {
      "text/plain": [
       "Dict{String, Any} with 5 entries:\n",
       "  \"timeframe\"            => \"REAL-TIME\"\n",
       "  \"ticker\"               => \"AMD\"\n",
       "  \"price\"                => 119.62\n",
       "  \"change_to_break_even\" => 1.205\n",
       "  \"last_updated\"         => 1686959999095781050"
      ]
     },
     "execution_count": 6,
     "metadata": {},
     "output_type": "execute_result"
    }
   ],
   "source": [
    "dataset[39][1][\"underlying_asset\"]"
   ]
  },
  {
   "cell_type": "markdown",
   "id": "6252bd3f-6dce-4cd8-9be3-c259048a4ae1",
   "metadata": {},
   "source": [
    "## Task 1: Visualize the trends in the `AMD` options dataset"
   ]
  },
  {
   "cell_type": "code",
   "execution_count": 17,
   "id": "8603d960-8aa8-45a9-b63a-8ca48cf947a5",
   "metadata": {},
   "outputs": [
    {
     "data": {
      "text/plain": [
       "Dict{String, Any} with 6 entries:\n",
       "  \"contract_type\"       => \"put\"\n",
       "  \"ticker\"              => \"O:AMD230630P00162500\"\n",
       "  \"strike_price\"        => 162.5\n",
       "  \"exercise_style\"      => \"american\"\n",
       "  \"expiration_date\"     => \"2023-06-30\"\n",
       "  \"shares_per_contract\" => 100"
      ]
     },
     "execution_count": 17,
     "metadata": {},
     "output_type": "execute_result"
    }
   ],
   "source": [
    "dataset[11][10][\"details\"]"
   ]
  },
  {
   "cell_type": "code",
   "execution_count": 18,
   "id": "29f4ce96-cec7-41c5-9ef5-2d64348a7d2a",
   "metadata": {},
   "outputs": [
    {
     "name": "stderr",
     "output_type": "stream",
     "text": [
      "\u001b[91m\u001b[1m┌ \u001b[22m\u001b[39m\u001b[91m\u001b[1mError: \u001b[22m\u001b[39mError adding value to column :strike. Maybe you forgot passing `promote=true`?\n",
      "\u001b[91m\u001b[1m└ \u001b[22m\u001b[39m\u001b[90m@ DataFrames ~/.julia/packages/DataFrames/58MUJ/src/dataframe/insertion.jl:981\u001b[39m\n"
     ]
    },
    {
     "ename": "LoadError",
     "evalue": "InexactError: Int64(182.5)",
     "output_type": "error",
     "traceback": [
      "InexactError: Int64(182.5)",
      "",
      "Stacktrace:",
      " [1] Int64",
      "   @ ./float.jl:912 [inlined]",
      " [2] convert",
      "   @ ./number.jl:7 [inlined]",
      " [3] push!(a::Vector{Int64}, item::Float64)",
      "   @ Base ./array.jl:1118",
      " [4] _row_inserter!(df::DataFrame, loc::Int64, row::@NamedTuple{underlying::Float64, strike::Float64, type::String, bid::Float64, ask::Float64, midpoint::Float64}, mode::Val{:push}, cols::Symbol, promote::Bool, nrows::Int64)",
      "   @ DataFrames ~/.julia/packages/DataFrames/58MUJ/src/dataframe/insertion.jl:947",
      " [5] push!(df::DataFrame, row::@NamedTuple{underlying::Float64, strike::Float64, type::String, bid::Float64, ask::Float64, midpoint::Float64})",
      "   @ DataFrames ~/.julia/packages/DataFrames/58MUJ/src/dataframe/insertion.jl:774",
      " [6] search(dataset::Dict{Int64, Vector{Dict{String, Any}}}, DTE::Int64, logic::var\"#12#13\")",
      "   @ Main ~/Desktop/julia_work/CHEME-130-eCornell-Repository/courses/CHEME-134/module-1/src/Search.jl:21",
      " [7] top-level scope",
      "   @ In[18]:1"
     ]
    }
   ],
   "source": [
    "dataframe_0 = search(dataset, 11, (record::Dict{String, Any}) -> begin\n",
    "\n",
    "        # initialize -\n",
    "        should_keep_record = false;\n",
    "        if (record[\"details\"][\"contract_type\"] == \"put\")\n",
    "            should_keep_record = true\n",
    "        end;\n",
    "            \n",
    "        # return -\n",
    "        return should_keep_record;\n",
    "    end\n",
    ");"
   ]
  },
  {
   "cell_type": "code",
   "execution_count": 8,
   "id": "fa1fa886-21a5-474b-8d59-bb922812b45a",
   "metadata": {},
   "outputs": [],
   "source": [
    "dataframe_1 = search(dataset,32, (record::Dict{String, Any}) -> begin\n",
    "\n",
    "        # initialize -\n",
    "        should_keep_record = false;\n",
    "\n",
    "        if (record[\"details\"][\"contract_type\"] == \"put\")\n",
    "            should_keep_record = true\n",
    "        end;\n",
    "            \n",
    "        # return -\n",
    "        return should_keep_record;\n",
    "    end\n",
    ");"
   ]
  },
  {
   "cell_type": "code",
   "execution_count": 9,
   "id": "2127347e-df14-40c3-9063-e89d40d5a7da",
   "metadata": {},
   "outputs": [],
   "source": [
    "dataframe_2 = search(dataset,60, (record::Dict{String, Any}) -> begin\n",
    "\n",
    "        # initialize -\n",
    "        should_keep_record = false;\n",
    "\n",
    "        if (record[\"details\"][\"contract_type\"] == \"put\")\n",
    "            should_keep_record = true\n",
    "        end;\n",
    "            \n",
    "        # return -\n",
    "        return should_keep_record;\n",
    "    end\n",
    ");"
   ]
  },
  {
   "cell_type": "code",
   "execution_count": 10,
   "id": "51dac555-dbfa-4638-9fc6-e00759c8ac18",
   "metadata": {},
   "outputs": [],
   "source": [
    "dataframe_3 = search(dataset, 123, (record::Dict{String, Any}) -> begin\n",
    "\n",
    "        # initialize -\n",
    "        should_keep_record = false;\n",
    "\n",
    "        if (record[\"details\"][\"contract_type\"] == \"put\")\n",
    "            should_keep_record = true\n",
    "        end;\n",
    "            \n",
    "        # return -\n",
    "        return should_keep_record;\n",
    "    end\n",
    ");"
   ]
  },
  {
   "cell_type": "code",
   "execution_count": 11,
   "id": "3b14ec42-57dc-4843-bde2-b011e692e675",
   "metadata": {},
   "outputs": [
    {
     "data": {
      "text/html": [
       "<div><div style = \"float: left;\"><span>34×6 DataFrame</span></div><div style = \"float: right;\"><span style = \"font-style: italic;\">9 rows omitted</span></div><div style = \"clear: both;\"></div></div><div class = \"data-frame\" style = \"overflow-x: scroll;\"><table class = \"data-frame\" style = \"margin-bottom: 6px;\"><thead><tr class = \"header\"><th class = \"rowNumber\" style = \"font-weight: bold; text-align: right;\">Row</th><th style = \"text-align: left;\">underlying</th><th style = \"text-align: left;\">strike</th><th style = \"text-align: left;\">type</th><th style = \"text-align: left;\">bid</th><th style = \"text-align: left;\">ask</th><th style = \"text-align: left;\">midpoint</th></tr><tr class = \"subheader headerLastRow\"><th class = \"rowNumber\" style = \"font-weight: bold; text-align: right;\"></th><th title = \"Float64\" style = \"text-align: left;\">Float64</th><th title = \"Int64\" style = \"text-align: left;\">Int64</th><th title = \"String\" style = \"text-align: left;\">String</th><th title = \"Float64\" style = \"text-align: left;\">Float64</th><th title = \"Float64\" style = \"text-align: left;\">Float64</th><th title = \"Float64\" style = \"text-align: left;\">Float64</th></tr></thead><tbody><tr><td class = \"rowNumber\" style = \"font-weight: bold; text-align: right;\">1</td><td style = \"text-align: right;\">119.62</td><td style = \"text-align: right;\">200</td><td style = \"text-align: left;\">put</td><td style = \"text-align: right;\">77.9</td><td style = \"text-align: right;\">80.65</td><td style = \"text-align: right;\">79.275</td></tr><tr><td class = \"rowNumber\" style = \"font-weight: bold; text-align: right;\">2</td><td style = \"text-align: right;\">119.62</td><td style = \"text-align: right;\">195</td><td style = \"text-align: left;\">put</td><td style = \"text-align: right;\">72.9</td><td style = \"text-align: right;\">75.65</td><td style = \"text-align: right;\">74.275</td></tr><tr><td class = \"rowNumber\" style = \"font-weight: bold; text-align: right;\">3</td><td style = \"text-align: right;\">119.62</td><td style = \"text-align: right;\">190</td><td style = \"text-align: left;\">put</td><td style = \"text-align: right;\">69.3</td><td style = \"text-align: right;\">70.5</td><td style = \"text-align: right;\">69.9</td></tr><tr><td class = \"rowNumber\" style = \"font-weight: bold; text-align: right;\">4</td><td style = \"text-align: right;\">119.62</td><td style = \"text-align: right;\">185</td><td style = \"text-align: left;\">put</td><td style = \"text-align: right;\">64.35</td><td style = \"text-align: right;\">65.55</td><td style = \"text-align: right;\">64.95</td></tr><tr><td class = \"rowNumber\" style = \"font-weight: bold; text-align: right;\">5</td><td style = \"text-align: right;\">119.62</td><td style = \"text-align: right;\">180</td><td style = \"text-align: left;\">put</td><td style = \"text-align: right;\">59.15</td><td style = \"text-align: right;\">60.65</td><td style = \"text-align: right;\">59.9</td></tr><tr><td class = \"rowNumber\" style = \"font-weight: bold; text-align: right;\">6</td><td style = \"text-align: right;\">119.62</td><td style = \"text-align: right;\">175</td><td style = \"text-align: left;\">put</td><td style = \"text-align: right;\">54.35</td><td style = \"text-align: right;\">55.65</td><td style = \"text-align: right;\">55.0</td></tr><tr><td class = \"rowNumber\" style = \"font-weight: bold; text-align: right;\">7</td><td style = \"text-align: right;\">119.62</td><td style = \"text-align: right;\">170</td><td style = \"text-align: left;\">put</td><td style = \"text-align: right;\">49.3</td><td style = \"text-align: right;\">50.5</td><td style = \"text-align: right;\">49.9</td></tr><tr><td class = \"rowNumber\" style = \"font-weight: bold; text-align: right;\">8</td><td style = \"text-align: right;\">119.62</td><td style = \"text-align: right;\">165</td><td style = \"text-align: left;\">put</td><td style = \"text-align: right;\">44.2</td><td style = \"text-align: right;\">45.55</td><td style = \"text-align: right;\">44.875</td></tr><tr><td class = \"rowNumber\" style = \"font-weight: bold; text-align: right;\">9</td><td style = \"text-align: right;\">119.62</td><td style = \"text-align: right;\">160</td><td style = \"text-align: left;\">put</td><td style = \"text-align: right;\">39.45</td><td style = \"text-align: right;\">40.65</td><td style = \"text-align: right;\">40.05</td></tr><tr><td class = \"rowNumber\" style = \"font-weight: bold; text-align: right;\">10</td><td style = \"text-align: right;\">119.62</td><td style = \"text-align: right;\">155</td><td style = \"text-align: left;\">put</td><td style = \"text-align: right;\">34.55</td><td style = \"text-align: right;\">35.75</td><td style = \"text-align: right;\">35.15</td></tr><tr><td class = \"rowNumber\" style = \"font-weight: bold; text-align: right;\">11</td><td style = \"text-align: right;\">119.62</td><td style = \"text-align: right;\">150</td><td style = \"text-align: left;\">put</td><td style = \"text-align: right;\">30.05</td><td style = \"text-align: right;\">30.8</td><td style = \"text-align: right;\">30.425</td></tr><tr><td class = \"rowNumber\" style = \"font-weight: bold; text-align: right;\">12</td><td style = \"text-align: right;\">119.62</td><td style = \"text-align: right;\">145</td><td style = \"text-align: left;\">put</td><td style = \"text-align: right;\">25.45</td><td style = \"text-align: right;\">26.2</td><td style = \"text-align: right;\">25.825</td></tr><tr><td class = \"rowNumber\" style = \"font-weight: bold; text-align: right;\">13</td><td style = \"text-align: right;\">119.62</td><td style = \"text-align: right;\">140</td><td style = \"text-align: left;\">put</td><td style = \"text-align: right;\">20.85</td><td style = \"text-align: right;\">21.35</td><td style = \"text-align: right;\">21.1</td></tr><tr><td style = \"text-align: right;\">&vellip;</td><td style = \"text-align: right;\">&vellip;</td><td style = \"text-align: right;\">&vellip;</td><td style = \"text-align: right;\">&vellip;</td><td style = \"text-align: right;\">&vellip;</td><td style = \"text-align: right;\">&vellip;</td><td style = \"text-align: right;\">&vellip;</td></tr><tr><td class = \"rowNumber\" style = \"font-weight: bold; text-align: right;\">23</td><td style = \"text-align: right;\">119.62</td><td style = \"text-align: right;\">90</td><td style = \"text-align: left;\">put</td><td style = \"text-align: right;\">0.22</td><td style = \"text-align: right;\">0.24</td><td style = \"text-align: right;\">0.23</td></tr><tr><td class = \"rowNumber\" style = \"font-weight: bold; text-align: right;\">24</td><td style = \"text-align: right;\">119.62</td><td style = \"text-align: right;\">85</td><td style = \"text-align: left;\">put</td><td style = \"text-align: right;\">0.13</td><td style = \"text-align: right;\">0.15</td><td style = \"text-align: right;\">0.14</td></tr><tr><td class = \"rowNumber\" style = \"font-weight: bold; text-align: right;\">25</td><td style = \"text-align: right;\">119.62</td><td style = \"text-align: right;\">80</td><td style = \"text-align: left;\">put</td><td style = \"text-align: right;\">0.08</td><td style = \"text-align: right;\">0.1</td><td style = \"text-align: right;\">0.09</td></tr><tr><td class = \"rowNumber\" style = \"font-weight: bold; text-align: right;\">26</td><td style = \"text-align: right;\">119.62</td><td style = \"text-align: right;\">75</td><td style = \"text-align: left;\">put</td><td style = \"text-align: right;\">0.05</td><td style = \"text-align: right;\">0.07</td><td style = \"text-align: right;\">0.06</td></tr><tr><td class = \"rowNumber\" style = \"font-weight: bold; text-align: right;\">27</td><td style = \"text-align: right;\">119.62</td><td style = \"text-align: right;\">70</td><td style = \"text-align: left;\">put</td><td style = \"text-align: right;\">0.03</td><td style = \"text-align: right;\">0.05</td><td style = \"text-align: right;\">0.04</td></tr><tr><td class = \"rowNumber\" style = \"font-weight: bold; text-align: right;\">28</td><td style = \"text-align: right;\">119.62</td><td style = \"text-align: right;\">65</td><td style = \"text-align: left;\">put</td><td style = \"text-align: right;\">0.02</td><td style = \"text-align: right;\">0.03</td><td style = \"text-align: right;\">0.025</td></tr><tr><td class = \"rowNumber\" style = \"font-weight: bold; text-align: right;\">29</td><td style = \"text-align: right;\">119.62</td><td style = \"text-align: right;\">60</td><td style = \"text-align: left;\">put</td><td style = \"text-align: right;\">0.01</td><td style = \"text-align: right;\">0.03</td><td style = \"text-align: right;\">0.02</td></tr><tr><td class = \"rowNumber\" style = \"font-weight: bold; text-align: right;\">30</td><td style = \"text-align: right;\">119.62</td><td style = \"text-align: right;\">55</td><td style = \"text-align: left;\">put</td><td style = \"text-align: right;\">0.01</td><td style = \"text-align: right;\">0.02</td><td style = \"text-align: right;\">0.015</td></tr><tr><td class = \"rowNumber\" style = \"font-weight: bold; text-align: right;\">31</td><td style = \"text-align: right;\">119.62</td><td style = \"text-align: right;\">50</td><td style = \"text-align: left;\">put</td><td style = \"text-align: right;\">0.0</td><td style = \"text-align: right;\">0.02</td><td style = \"text-align: right;\">0.01</td></tr><tr><td class = \"rowNumber\" style = \"font-weight: bold; text-align: right;\">32</td><td style = \"text-align: right;\">119.62</td><td style = \"text-align: right;\">45</td><td style = \"text-align: left;\">put</td><td style = \"text-align: right;\">0.0</td><td style = \"text-align: right;\">0.01</td><td style = \"text-align: right;\">0.005</td></tr><tr><td class = \"rowNumber\" style = \"font-weight: bold; text-align: right;\">33</td><td style = \"text-align: right;\">119.62</td><td style = \"text-align: right;\">40</td><td style = \"text-align: left;\">put</td><td style = \"text-align: right;\">0.0</td><td style = \"text-align: right;\">0.01</td><td style = \"text-align: right;\">0.005</td></tr><tr><td class = \"rowNumber\" style = \"font-weight: bold; text-align: right;\">34</td><td style = \"text-align: right;\">119.62</td><td style = \"text-align: right;\">35</td><td style = \"text-align: left;\">put</td><td style = \"text-align: right;\">0.01</td><td style = \"text-align: right;\">0.02</td><td style = \"text-align: right;\">0.015</td></tr></tbody></table></div>"
      ],
      "text/latex": [
       "\\begin{tabular}{r|cccccc}\n",
       "\t& underlying & strike & type & bid & ask & midpoint\\\\\n",
       "\t\\hline\n",
       "\t& Float64 & Int64 & String & Float64 & Float64 & Float64\\\\\n",
       "\t\\hline\n",
       "\t1 & 119.62 & 200 & put & 77.9 & 80.65 & 79.275 \\\\\n",
       "\t2 & 119.62 & 195 & put & 72.9 & 75.65 & 74.275 \\\\\n",
       "\t3 & 119.62 & 190 & put & 69.3 & 70.5 & 69.9 \\\\\n",
       "\t4 & 119.62 & 185 & put & 64.35 & 65.55 & 64.95 \\\\\n",
       "\t5 & 119.62 & 180 & put & 59.15 & 60.65 & 59.9 \\\\\n",
       "\t6 & 119.62 & 175 & put & 54.35 & 55.65 & 55.0 \\\\\n",
       "\t7 & 119.62 & 170 & put & 49.3 & 50.5 & 49.9 \\\\\n",
       "\t8 & 119.62 & 165 & put & 44.2 & 45.55 & 44.875 \\\\\n",
       "\t9 & 119.62 & 160 & put & 39.45 & 40.65 & 40.05 \\\\\n",
       "\t10 & 119.62 & 155 & put & 34.55 & 35.75 & 35.15 \\\\\n",
       "\t11 & 119.62 & 150 & put & 30.05 & 30.8 & 30.425 \\\\\n",
       "\t12 & 119.62 & 145 & put & 25.45 & 26.2 & 25.825 \\\\\n",
       "\t13 & 119.62 & 140 & put & 20.85 & 21.35 & 21.1 \\\\\n",
       "\t14 & 119.62 & 135 & put & 16.5 & 16.85 & 16.675 \\\\\n",
       "\t15 & 119.62 & 130 & put & 12.55 & 12.8 & 12.675 \\\\\n",
       "\t16 & 119.62 & 125 & put & 9.05 & 9.2 & 9.125 \\\\\n",
       "\t17 & 119.62 & 120 & put & 6.15 & 6.25 & 6.2 \\\\\n",
       "\t18 & 119.62 & 115 & put & 3.85 & 3.95 & 3.9 \\\\\n",
       "\t19 & 119.62 & 110 & put & 2.23 & 2.34 & 2.285 \\\\\n",
       "\t20 & 119.62 & 105 & put & 1.3 & 1.34 & 1.32 \\\\\n",
       "\t21 & 119.62 & 100 & put & 0.71 & 0.74 & 0.725 \\\\\n",
       "\t22 & 119.62 & 95 & put & 0.38 & 0.4 & 0.39 \\\\\n",
       "\t23 & 119.62 & 90 & put & 0.22 & 0.24 & 0.23 \\\\\n",
       "\t24 & 119.62 & 85 & put & 0.13 & 0.15 & 0.14 \\\\\n",
       "\t25 & 119.62 & 80 & put & 0.08 & 0.1 & 0.09 \\\\\n",
       "\t26 & 119.62 & 75 & put & 0.05 & 0.07 & 0.06 \\\\\n",
       "\t27 & 119.62 & 70 & put & 0.03 & 0.05 & 0.04 \\\\\n",
       "\t28 & 119.62 & 65 & put & 0.02 & 0.03 & 0.025 \\\\\n",
       "\t29 & 119.62 & 60 & put & 0.01 & 0.03 & 0.02 \\\\\n",
       "\t30 & 119.62 & 55 & put & 0.01 & 0.02 & 0.015 \\\\\n",
       "\t$\\dots$ & $\\dots$ & $\\dots$ & $\\dots$ & $\\dots$ & $\\dots$ & $\\dots$ \\\\\n",
       "\\end{tabular}\n"
      ],
      "text/plain": [
       "\u001b[1m34×6 DataFrame\u001b[0m\n",
       "\u001b[1m Row \u001b[0m│\u001b[1m underlying \u001b[0m\u001b[1m strike \u001b[0m\u001b[1m type   \u001b[0m\u001b[1m bid     \u001b[0m\u001b[1m ask     \u001b[0m\u001b[1m midpoint \u001b[0m\n",
       "     │\u001b[90m Float64    \u001b[0m\u001b[90m Int64  \u001b[0m\u001b[90m String \u001b[0m\u001b[90m Float64 \u001b[0m\u001b[90m Float64 \u001b[0m\u001b[90m Float64  \u001b[0m\n",
       "─────┼────────────────────────────────────────────────────────\n",
       "   1 │     119.62     200  put       77.9     80.65    79.275\n",
       "   2 │     119.62     195  put       72.9     75.65    74.275\n",
       "   3 │     119.62     190  put       69.3     70.5     69.9\n",
       "   4 │     119.62     185  put       64.35    65.55    64.95\n",
       "   5 │     119.62     180  put       59.15    60.65    59.9\n",
       "   6 │     119.62     175  put       54.35    55.65    55.0\n",
       "   7 │     119.62     170  put       49.3     50.5     49.9\n",
       "   8 │     119.62     165  put       44.2     45.55    44.875\n",
       "   9 │     119.62     160  put       39.45    40.65    40.05\n",
       "  10 │     119.62     155  put       34.55    35.75    35.15\n",
       "  11 │     119.62     150  put       30.05    30.8     30.425\n",
       "  ⋮  │     ⋮         ⋮       ⋮        ⋮        ⋮        ⋮\n",
       "  25 │     119.62      80  put        0.08     0.1      0.09\n",
       "  26 │     119.62      75  put        0.05     0.07     0.06\n",
       "  27 │     119.62      70  put        0.03     0.05     0.04\n",
       "  28 │     119.62      65  put        0.02     0.03     0.025\n",
       "  29 │     119.62      60  put        0.01     0.03     0.02\n",
       "  30 │     119.62      55  put        0.01     0.02     0.015\n",
       "  31 │     119.62      50  put        0.0      0.02     0.01\n",
       "  32 │     119.62      45  put        0.0      0.01     0.005\n",
       "  33 │     119.62      40  put        0.0      0.01     0.005\n",
       "  34 │     119.62      35  put        0.01     0.02     0.015\n",
       "\u001b[36m                                               13 rows omitted\u001b[0m"
      ]
     },
     "execution_count": 11,
     "metadata": {},
     "output_type": "execute_result"
    }
   ],
   "source": [
    "dataframe_1"
   ]
  },
  {
   "cell_type": "code",
   "execution_count": 12,
   "id": "969f7314-e503-4997-90b0-65f218659842",
   "metadata": {},
   "outputs": [
    {
     "data": {
      "image/png": "[encoded data removed]",
      "image/svg+xml": [
       "<?xml version=\"1.0\" encoding=\"utf-8\"?>\n",
       "<svg xmlns=\"http://www.w3.org/2000/svg\" xmlns:xlink=\"http://www.w3.org/1999/xlink\" width=\"600\" height=\"400\" viewBox=\"0 0 2400 1600\">\n",
       "<defs>\n",
       "  <clipPath id=\"clip260\">\n",
       "    <rect x=\"0\" y=\"0\" width=\"2400\" height=\"1600\"/>\n",
       "  </clipPath>\n",
       "</defs>\n",
       "<path clip-path=\"url(#clip260)\" d=\"M0 1600 L2400 1600 L2400 8.88178e-14 L0 8.88178e-14  Z\" fill=\"#ffffff\" fill-rule=\"evenodd\" fill-opacity=\"1\"/>\n",
       "<defs>\n",
       "  <clipPath id=\"clip261\">\n",
       "    <rect x=\"480\" y=\"0\" width=\"1681\" height=\"1600\"/>\n",
       "  </clipPath>\n",
       "</defs>\n",
       "<path clip-path=\"url(#clip260)\" d=\"M141.853 1486.45 L2352.76 1486.45 L2352.76 47.2441 L141.853 47.2441  Z\" fill=\"#ffffff\" fill-rule=\"evenodd\" fill-opacity=\"1\"/>\n",
       "<defs>\n",
       "  <clipPath id=\"clip262\">\n",
       "    <rect x=\"141\" y=\"47\" width=\"2212\" height=\"1440\"/>\n",
       "  </clipPath>\n",
       "</defs>\n",
       "<polyline clip-path=\"url(#clip262)\" style=\"stroke:#000000; stroke-linecap:round; stroke-linejoin:round; stroke-width:2; stroke-opacity:0.1; fill:none\" points=\"520.45,1486.45 520.45,47.2441 \"/>\n",
       "<polyline clip-path=\"url(#clip262)\" style=\"stroke:#000000; stroke-linecap:round; stroke-linejoin:round; stroke-width:2; stroke-opacity:0.1; fill:none\" points=\"899.678,1486.45 899.678,47.2441 \"/>\n",
       "<polyline clip-path=\"url(#clip262)\" style=\"stroke:#000000; stroke-linecap:round; stroke-linejoin:round; stroke-width:2; stroke-opacity:0.1; fill:none\" points=\"1278.91,1486.45 1278.91,47.2441 \"/>\n",
       "<polyline clip-path=\"url(#clip262)\" style=\"stroke:#000000; stroke-linecap:round; stroke-linejoin:round; stroke-width:2; stroke-opacity:0.1; fill:none\" points=\"1658.14,1486.45 1658.14,47.2441 \"/>\n",
       "<polyline clip-path=\"url(#clip262)\" style=\"stroke:#000000; stroke-linecap:round; stroke-linejoin:round; stroke-width:2; stroke-opacity:0.1; fill:none\" points=\"2037.36,1486.45 2037.36,47.2441 \"/>\n",
       "<polyline clip-path=\"url(#clip260)\" style=\"stroke:#000000; stroke-linecap:round; stroke-linejoin:round; stroke-width:4; stroke-opacity:1; fill:none\" points=\"141.853,1486.45 2352.76,1486.45 \"/>\n",
       "<polyline clip-path=\"url(#clip260)\" style=\"stroke:#000000; stroke-linecap:round; stroke-linejoin:round; stroke-width:4; stroke-opacity:1; fill:none\" points=\"520.45,1486.45 520.45,1467.55 \"/>\n",
       "<polyline clip-path=\"url(#clip260)\" style=\"stroke:#000000; stroke-linecap:round; stroke-linejoin:round; stroke-width:4; stroke-opacity:1; fill:none\" points=\"899.678,1486.45 899.678,1467.55 \"/>\n",
       "<polyline clip-path=\"url(#clip260)\" style=\"stroke:#000000; stroke-linecap:round; stroke-linejoin:round; stroke-width:4; stroke-opacity:1; fill:none\" points=\"1278.91,1486.45 1278.91,1467.55 \"/>\n",
       "<polyline clip-path=\"url(#clip260)\" style=\"stroke:#000000; stroke-linecap:round; stroke-linejoin:round; stroke-width:4; stroke-opacity:1; fill:none\" points=\"1658.14,1486.45 1658.14,1467.55 \"/>\n",
       "<polyline clip-path=\"url(#clip260)\" style=\"stroke:#000000; stroke-linecap:round; stroke-linejoin:round; stroke-width:4; stroke-opacity:1; fill:none\" points=\"2037.36,1486.45 2037.36,1467.55 \"/>\n",
       "<path clip-path=\"url(#clip260)\" d=\"M505.855 1529.7 Q502.707 1529.7 500.855 1531.86 Q499.026 1534.01 499.026 1537.76 Q499.026 1541.49 500.855 1543.66 Q502.707 1545.82 505.855 1545.82 Q509.003 1545.82 510.832 1543.66 Q512.683 1541.49 512.683 1537.76 Q512.683 1534.01 510.832 1531.86 Q509.003 1529.7 505.855 1529.7 M515.137 1515.05 L515.137 1519.31 Q513.378 1518.48 511.572 1518.04 Q509.79 1517.6 508.031 1517.6 Q503.401 1517.6 500.947 1520.72 Q498.517 1523.85 498.17 1530.17 Q499.535 1528.15 501.595 1527.09 Q503.656 1526 506.132 1526 Q511.341 1526 514.35 1529.17 Q517.382 1532.32 517.382 1537.76 Q517.382 1543.08 514.234 1546.3 Q511.086 1549.52 505.855 1549.52 Q499.859 1549.52 496.688 1544.94 Q493.517 1540.33 493.517 1531.6 Q493.517 1523.41 497.406 1518.55 Q501.295 1513.66 507.845 1513.66 Q509.605 1513.66 511.387 1514.01 Q513.193 1514.36 515.137 1515.05 Z\" fill=\"#000000\" fill-rule=\"nonzero\" fill-opacity=\"1\" /><path clip-path=\"url(#clip260)\" d=\"M535.438 1517.37 Q531.827 1517.37 529.998 1520.93 Q528.193 1524.47 528.193 1531.6 Q528.193 1538.71 529.998 1542.27 Q531.827 1545.82 535.438 1545.82 Q539.072 1545.82 540.878 1542.27 Q542.706 1538.71 542.706 1531.6 Q542.706 1524.47 540.878 1520.93 Q539.072 1517.37 535.438 1517.37 M535.438 1513.66 Q541.248 1513.66 544.304 1518.27 Q547.382 1522.85 547.382 1531.6 Q547.382 1540.33 544.304 1544.94 Q541.248 1549.52 535.438 1549.52 Q529.628 1549.52 526.549 1544.94 Q523.493 1540.33 523.493 1531.6 Q523.493 1522.85 526.549 1518.27 Q529.628 1513.66 535.438 1513.66 Z\" fill=\"#000000\" fill-rule=\"nonzero\" fill-opacity=\"1\" /><path clip-path=\"url(#clip260)\" d=\"M874.806 1548.13 L874.806 1543.87 Q876.565 1544.7 878.37 1545.14 Q880.176 1545.58 881.912 1545.58 Q886.542 1545.58 888.972 1542.48 Q891.426 1539.36 891.773 1533.01 Q890.431 1535.01 888.37 1536.07 Q886.31 1537.13 883.81 1537.13 Q878.625 1537.13 875.593 1534.01 Q872.583 1530.86 872.583 1525.42 Q872.583 1520.1 875.732 1516.88 Q878.88 1513.66 884.111 1513.66 Q890.106 1513.66 893.255 1518.27 Q896.426 1522.85 896.426 1531.6 Q896.426 1539.77 892.537 1544.66 Q888.671 1549.52 882.12 1549.52 Q880.361 1549.52 878.556 1549.17 Q876.75 1548.82 874.806 1548.13 M884.111 1533.48 Q887.259 1533.48 889.088 1531.32 Q890.94 1529.17 890.94 1525.42 Q890.94 1521.7 889.088 1519.54 Q887.259 1517.37 884.111 1517.37 Q880.963 1517.37 879.111 1519.54 Q877.282 1521.7 877.282 1525.42 Q877.282 1529.17 879.111 1531.32 Q880.963 1533.48 884.111 1533.48 Z\" fill=\"#000000\" fill-rule=\"nonzero\" fill-opacity=\"1\" /><path clip-path=\"url(#clip260)\" d=\"M914.829 1517.37 Q911.217 1517.37 909.389 1520.93 Q907.583 1524.47 907.583 1531.6 Q907.583 1538.71 909.389 1542.27 Q911.217 1545.82 914.829 1545.82 Q918.463 1545.82 920.268 1542.27 Q922.097 1538.71 922.097 1531.6 Q922.097 1524.47 920.268 1520.93 Q918.463 1517.37 914.829 1517.37 M914.829 1513.66 Q920.639 1513.66 923.694 1518.27 Q926.773 1522.85 926.773 1531.6 Q926.773 1540.33 923.694 1544.94 Q920.639 1549.52 914.829 1549.52 Q909.018 1549.52 905.94 1544.94 Q902.884 1540.33 902.884 1531.6 Q902.884 1522.85 905.94 1518.27 Q909.018 1513.66 914.829 1513.66 Z\" fill=\"#000000\" fill-rule=\"nonzero\" fill-opacity=\"1\" /><path clip-path=\"url(#clip260)\" d=\"M1238.51 1544.91 L1246.15 1544.91 L1246.15 1518.55 L1237.84 1520.21 L1237.84 1515.95 L1246.11 1514.29 L1250.78 1514.29 L1250.78 1544.91 L1258.42 1544.91 L1258.42 1548.85 L1238.51 1548.85 L1238.51 1544.91 Z\" fill=\"#000000\" fill-rule=\"nonzero\" fill-opacity=\"1\" /><path clip-path=\"url(#clip260)\" d=\"M1271.89 1544.91 L1288.21 1544.91 L1288.21 1548.85 L1266.27 1548.85 L1266.27 1544.91 Q1268.93 1542.16 1273.51 1537.53 Q1278.12 1532.88 1279.3 1531.53 Q1281.55 1529.01 1282.43 1527.27 Q1283.33 1525.51 1283.33 1523.82 Q1283.33 1521.07 1281.38 1519.33 Q1279.46 1517.6 1276.36 1517.6 Q1274.16 1517.6 1271.71 1518.36 Q1269.28 1519.13 1266.5 1520.68 L1266.5 1515.95 Q1269.32 1514.82 1271.78 1514.24 Q1274.23 1513.66 1276.27 1513.66 Q1281.64 1513.66 1284.83 1516.35 Q1288.03 1519.03 1288.03 1523.52 Q1288.03 1525.65 1287.22 1527.57 Q1286.43 1529.47 1284.32 1532.07 Q1283.74 1532.74 1280.64 1535.95 Q1277.54 1539.15 1271.89 1544.91 Z\" fill=\"#000000\" fill-rule=\"nonzero\" fill-opacity=\"1\" /><path clip-path=\"url(#clip260)\" d=\"M1308.03 1517.37 Q1304.42 1517.37 1302.59 1520.93 Q1300.78 1524.47 1300.78 1531.6 Q1300.78 1538.71 1302.59 1542.27 Q1304.42 1545.82 1308.03 1545.82 Q1311.66 1545.82 1313.47 1542.27 Q1315.3 1538.71 1315.3 1531.6 Q1315.3 1524.47 1313.47 1520.93 Q1311.66 1517.37 1308.03 1517.37 M1308.03 1513.66 Q1313.84 1513.66 1316.89 1518.27 Q1319.97 1522.85 1319.97 1531.6 Q1319.97 1540.33 1316.89 1544.94 Q1313.84 1549.52 1308.03 1549.52 Q1302.22 1549.52 1299.14 1544.94 Q1296.08 1540.33 1296.08 1531.6 Q1296.08 1522.85 1299.14 1518.27 Q1302.22 1513.66 1308.03 1513.66 Z\" fill=\"#000000\" fill-rule=\"nonzero\" fill-opacity=\"1\" /><path clip-path=\"url(#clip260)\" d=\"M1617.74 1544.91 L1625.38 1544.91 L1625.38 1518.55 L1617.07 1520.21 L1617.07 1515.95 L1625.33 1514.29 L1630.01 1514.29 L1630.01 1544.91 L1637.65 1544.91 L1637.65 1548.85 L1617.74 1548.85 L1617.74 1544.91 Z\" fill=\"#000000\" fill-rule=\"nonzero\" fill-opacity=\"1\" /><path clip-path=\"url(#clip260)\" d=\"M1647.14 1514.29 L1665.5 1514.29 L1665.5 1518.22 L1651.42 1518.22 L1651.42 1526.7 Q1652.44 1526.35 1653.46 1526.19 Q1654.48 1526 1655.5 1526 Q1661.28 1526 1664.66 1529.17 Q1668.04 1532.34 1668.04 1537.76 Q1668.04 1543.34 1664.57 1546.44 Q1661.1 1549.52 1654.78 1549.52 Q1652.6 1549.52 1650.33 1549.15 Q1648.09 1548.78 1645.68 1548.04 L1645.68 1543.34 Q1647.77 1544.47 1649.99 1545.03 Q1652.21 1545.58 1654.69 1545.58 Q1658.69 1545.58 1661.03 1543.48 Q1663.37 1541.37 1663.37 1537.76 Q1663.37 1534.15 1661.03 1532.04 Q1658.69 1529.94 1654.69 1529.94 Q1652.81 1529.94 1650.94 1530.35 Q1649.08 1530.77 1647.14 1531.65 L1647.14 1514.29 Z\" fill=\"#000000\" fill-rule=\"nonzero\" fill-opacity=\"1\" /><path clip-path=\"url(#clip260)\" d=\"M1687.26 1517.37 Q1683.64 1517.37 1681.82 1520.93 Q1680.01 1524.47 1680.01 1531.6 Q1680.01 1538.71 1681.82 1542.27 Q1683.64 1545.82 1687.26 1545.82 Q1690.89 1545.82 1692.7 1542.27 Q1694.52 1538.71 1694.52 1531.6 Q1694.52 1524.47 1692.7 1520.93 Q1690.89 1517.37 1687.26 1517.37 M1687.26 1513.66 Q1693.07 1513.66 1696.12 1518.27 Q1699.2 1522.85 1699.2 1531.6 Q1699.2 1540.33 1696.12 1544.94 Q1693.07 1549.52 1687.26 1549.52 Q1681.45 1549.52 1678.37 1544.94 Q1675.31 1540.33 1675.31 1531.6 Q1675.31 1522.85 1678.37 1518.27 Q1681.45 1513.66 1687.26 1513.66 Z\" fill=\"#000000\" fill-rule=\"nonzero\" fill-opacity=\"1\" /><path clip-path=\"url(#clip260)\" d=\"M1996.97 1544.91 L2004.61 1544.91 L2004.61 1518.55 L1996.3 1520.21 L1996.3 1515.95 L2004.56 1514.29 L2009.24 1514.29 L2009.24 1544.91 L2016.88 1544.91 L2016.88 1548.85 L1996.97 1548.85 L1996.97 1544.91 Z\" fill=\"#000000\" fill-rule=\"nonzero\" fill-opacity=\"1\" /><path clip-path=\"url(#clip260)\" d=\"M2036.32 1532.44 Q2032.99 1532.44 2031.07 1534.22 Q2029.17 1536 2029.17 1539.13 Q2029.17 1542.25 2031.07 1544.03 Q2032.99 1545.82 2036.32 1545.82 Q2039.66 1545.82 2041.58 1544.03 Q2043.5 1542.23 2043.5 1539.13 Q2043.5 1536 2041.58 1534.22 Q2039.68 1532.44 2036.32 1532.44 M2031.65 1530.45 Q2028.64 1529.7 2026.95 1527.64 Q2025.28 1525.58 2025.28 1522.62 Q2025.28 1518.48 2028.22 1516.07 Q2031.18 1513.66 2036.32 1513.66 Q2041.48 1513.66 2044.42 1516.07 Q2047.36 1518.48 2047.36 1522.62 Q2047.36 1525.58 2045.67 1527.64 Q2044.01 1529.7 2041.02 1530.45 Q2044.4 1531.23 2046.28 1533.52 Q2048.17 1535.82 2048.17 1539.13 Q2048.17 1544.15 2045.1 1546.83 Q2042.04 1549.52 2036.32 1549.52 Q2030.6 1549.52 2027.53 1546.83 Q2024.47 1544.15 2024.47 1539.13 Q2024.47 1535.82 2026.37 1533.52 Q2028.27 1531.23 2031.65 1530.45 M2029.93 1523.06 Q2029.93 1525.75 2031.6 1527.25 Q2033.29 1528.76 2036.32 1528.76 Q2039.33 1528.76 2041.02 1527.25 Q2042.73 1525.75 2042.73 1523.06 Q2042.73 1520.38 2041.02 1518.87 Q2039.33 1517.37 2036.32 1517.37 Q2033.29 1517.37 2031.6 1518.87 Q2029.93 1520.38 2029.93 1523.06 Z\" fill=\"#000000\" fill-rule=\"nonzero\" fill-opacity=\"1\" /><path clip-path=\"url(#clip260)\" d=\"M2066.48 1517.37 Q2062.87 1517.37 2061.04 1520.93 Q2059.24 1524.47 2059.24 1531.6 Q2059.24 1538.71 2061.04 1542.27 Q2062.87 1545.82 2066.48 1545.82 Q2070.12 1545.82 2071.92 1542.27 Q2073.75 1538.71 2073.75 1531.6 Q2073.75 1524.47 2071.92 1520.93 Q2070.12 1517.37 2066.48 1517.37 M2066.48 1513.66 Q2072.29 1513.66 2075.35 1518.27 Q2078.43 1522.85 2078.43 1531.6 Q2078.43 1540.33 2075.35 1544.94 Q2072.29 1549.52 2066.48 1549.52 Q2060.67 1549.52 2057.6 1544.94 Q2054.54 1540.33 2054.54 1531.6 Q2054.54 1522.85 2057.6 1518.27 Q2060.67 1513.66 2066.48 1513.66 Z\" fill=\"#000000\" fill-rule=\"nonzero\" fill-opacity=\"1\" /><polyline clip-path=\"url(#clip262)\" style=\"stroke:#000000; stroke-linecap:round; stroke-linejoin:round; stroke-width:2; stroke-opacity:0.1; fill:none\" points=\"141.853,1445.8 2352.76,1445.8 \"/>\n",
       "<polyline clip-path=\"url(#clip262)\" style=\"stroke:#000000; stroke-linecap:round; stroke-linejoin:round; stroke-width:2; stroke-opacity:0.1; fill:none\" points=\"141.853,1103.35 2352.76,1103.35 \"/>\n",
       "<polyline clip-path=\"url(#clip262)\" style=\"stroke:#000000; stroke-linecap:round; stroke-linejoin:round; stroke-width:2; stroke-opacity:0.1; fill:none\" points=\"141.853,760.896 2352.76,760.896 \"/>\n",
       "<polyline clip-path=\"url(#clip262)\" style=\"stroke:#000000; stroke-linecap:round; stroke-linejoin:round; stroke-width:2; stroke-opacity:0.1; fill:none\" points=\"141.853,418.443 2352.76,418.443 \"/>\n",
       "<polyline clip-path=\"url(#clip262)\" style=\"stroke:#000000; stroke-linecap:round; stroke-linejoin:round; stroke-width:2; stroke-opacity:0.1; fill:none\" points=\"141.853,75.9904 2352.76,75.9904 \"/>\n",
       "<polyline clip-path=\"url(#clip260)\" style=\"stroke:#000000; stroke-linecap:round; stroke-linejoin:round; stroke-width:4; stroke-opacity:1; fill:none\" points=\"141.853,1486.45 141.853,47.2441 \"/>\n",
       "<polyline clip-path=\"url(#clip260)\" style=\"stroke:#000000; stroke-linecap:round; stroke-linejoin:round; stroke-width:4; stroke-opacity:1; fill:none\" points=\"141.853,1445.8 160.751,1445.8 \"/>\n",
       "<polyline clip-path=\"url(#clip260)\" style=\"stroke:#000000; stroke-linecap:round; stroke-linejoin:round; stroke-width:4; stroke-opacity:1; fill:none\" points=\"141.853,1103.35 160.751,1103.35 \"/>\n",
       "<polyline clip-path=\"url(#clip260)\" style=\"stroke:#000000; stroke-linecap:round; stroke-linejoin:round; stroke-width:4; stroke-opacity:1; fill:none\" points=\"141.853,760.896 160.751,760.896 \"/>\n",
       "<polyline clip-path=\"url(#clip260)\" style=\"stroke:#000000; stroke-linecap:round; stroke-linejoin:round; stroke-width:4; stroke-opacity:1; fill:none\" points=\"141.853,418.443 160.751,418.443 \"/>\n",
       "<polyline clip-path=\"url(#clip260)\" style=\"stroke:#000000; stroke-linecap:round; stroke-linejoin:round; stroke-width:4; stroke-opacity:1; fill:none\" points=\"141.853,75.9904 160.751,75.9904 \"/>\n",
       "<path clip-path=\"url(#clip260)\" d=\"M93.9086 1431.6 Q90.2975 1431.6 88.4688 1435.16 Q86.6632 1438.71 86.6632 1445.84 Q86.6632 1452.94 88.4688 1456.51 Q90.2975 1460.05 93.9086 1460.05 Q97.5428 1460.05 99.3483 1456.51 Q101.177 1452.94 101.177 1445.84 Q101.177 1438.71 99.3483 1435.16 Q97.5428 1431.6 93.9086 1431.6 M93.9086 1427.9 Q99.7187 1427.9 102.774 1432.5 Q105.853 1437.09 105.853 1445.84 Q105.853 1454.56 102.774 1459.17 Q99.7187 1463.75 93.9086 1463.75 Q88.0984 1463.75 85.0197 1459.17 Q81.9642 1454.56 81.9642 1445.84 Q81.9642 1437.09 85.0197 1432.5 Q88.0984 1427.9 93.9086 1427.9 Z\" fill=\"#000000\" fill-rule=\"nonzero\" fill-opacity=\"1\" /><path clip-path=\"url(#clip260)\" d=\"M57.7745 1116.69 L74.0939 1116.69 L74.0939 1120.63 L52.1495 1120.63 L52.1495 1116.69 Q54.8115 1113.94 59.3949 1109.31 Q64.0013 1104.66 65.1819 1103.31 Q67.4272 1100.79 68.3068 1099.05 Q69.2096 1097.3 69.2096 1095.61 Q69.2096 1092.85 67.2652 1091.11 Q65.3439 1089.38 62.2421 1089.38 Q60.043 1089.38 57.5893 1090.14 Q55.1588 1090.91 52.381 1092.46 L52.381 1087.74 Q55.2051 1086.6 57.6588 1086.02 Q60.1124 1085.44 62.1495 1085.44 Q67.5198 1085.44 70.7142 1088.13 Q73.9087 1090.81 73.9087 1095.3 Q73.9087 1097.43 73.0985 1099.36 Q72.3115 1101.25 70.205 1103.85 Q69.6263 1104.52 66.5245 1107.74 Q63.4226 1110.93 57.7745 1116.69 Z\" fill=\"#000000\" fill-rule=\"nonzero\" fill-opacity=\"1\" /><path clip-path=\"url(#clip260)\" d=\"M93.9086 1089.15 Q90.2975 1089.15 88.4688 1092.71 Q86.6632 1096.25 86.6632 1103.38 Q86.6632 1110.49 88.4688 1114.05 Q90.2975 1117.6 93.9086 1117.6 Q97.5428 1117.6 99.3483 1114.05 Q101.177 1110.49 101.177 1103.38 Q101.177 1096.25 99.3483 1092.71 Q97.5428 1089.15 93.9086 1089.15 M93.9086 1085.44 Q99.7187 1085.44 102.774 1090.05 Q105.853 1094.63 105.853 1103.38 Q105.853 1112.11 102.774 1116.72 Q99.7187 1121.3 93.9086 1121.3 Q88.0984 1121.3 85.0197 1116.72 Q81.9642 1112.11 81.9642 1103.38 Q81.9642 1094.63 85.0197 1090.05 Q88.0984 1085.44 93.9086 1085.44 Z\" fill=\"#000000\" fill-rule=\"nonzero\" fill-opacity=\"1\" /><path clip-path=\"url(#clip260)\" d=\"M66.5939 747.69 L54.7884 766.139 L66.5939 766.139 L66.5939 747.69 M65.367 743.616 L71.2466 743.616 L71.2466 766.139 L76.1772 766.139 L76.1772 770.028 L71.2466 770.028 L71.2466 778.176 L66.5939 778.176 L66.5939 770.028 L50.9921 770.028 L50.9921 765.514 L65.367 743.616 Z\" fill=\"#000000\" fill-rule=\"nonzero\" fill-opacity=\"1\" /><path clip-path=\"url(#clip260)\" d=\"M93.9086 746.695 Q90.2975 746.695 88.4688 750.259 Q86.6632 753.801 86.6632 760.931 Q86.6632 768.037 88.4688 771.602 Q90.2975 775.143 93.9086 775.143 Q97.5428 775.143 99.3483 771.602 Q101.177 768.037 101.177 760.931 Q101.177 753.801 99.3483 750.259 Q97.5428 746.695 93.9086 746.695 M93.9086 742.991 Q99.7187 742.991 102.774 747.597 Q105.853 752.181 105.853 760.931 Q105.853 769.657 102.774 774.264 Q99.7187 778.847 93.9086 778.847 Q88.0984 778.847 85.0197 774.264 Q81.9642 769.657 81.9642 760.931 Q81.9642 752.181 85.0197 747.597 Q88.0984 742.991 93.9086 742.991 Z\" fill=\"#000000\" fill-rule=\"nonzero\" fill-opacity=\"1\" /><path clip-path=\"url(#clip260)\" d=\"M64.3254 416.58 Q61.1773 416.58 59.3254 418.733 Q57.4967 420.885 57.4967 424.635 Q57.4967 428.362 59.3254 430.538 Q61.1773 432.691 64.3254 432.691 Q67.4735 432.691 69.3022 430.538 Q71.1541 428.362 71.1541 424.635 Q71.1541 420.885 69.3022 418.733 Q67.4735 416.58 64.3254 416.58 M73.6077 401.927 L73.6077 406.186 Q71.8485 405.353 70.0429 404.913 Q68.2606 404.473 66.5013 404.473 Q61.8717 404.473 59.418 407.598 Q56.9875 410.723 56.6402 417.043 Q58.006 415.029 60.0662 413.964 Q62.1263 412.876 64.6032 412.876 Q69.8115 412.876 72.8207 416.047 Q75.8531 419.195 75.8531 424.635 Q75.8531 429.959 72.705 433.177 Q69.5568 436.394 64.3254 436.394 Q58.33 436.394 55.1588 431.811 Q51.9875 427.205 51.9875 418.478 Q51.9875 410.283 55.8764 405.422 Q59.7652 400.538 66.3161 400.538 Q68.0754 400.538 69.8578 400.885 Q71.6633 401.233 73.6077 401.927 Z\" fill=\"#000000\" fill-rule=\"nonzero\" fill-opacity=\"1\" /><path clip-path=\"url(#clip260)\" d=\"M93.9086 404.242 Q90.2975 404.242 88.4688 407.807 Q86.6632 411.348 86.6632 418.478 Q86.6632 425.584 88.4688 429.149 Q90.2975 432.691 93.9086 432.691 Q97.5428 432.691 99.3483 429.149 Q101.177 425.584 101.177 418.478 Q101.177 411.348 99.3483 407.807 Q97.5428 404.242 93.9086 404.242 M93.9086 400.538 Q99.7187 400.538 102.774 405.145 Q105.853 409.728 105.853 418.478 Q105.853 427.205 102.774 431.811 Q99.7187 436.394 93.9086 436.394 Q88.0984 436.394 85.0197 431.811 Q81.9642 427.205 81.9642 418.478 Q81.9642 409.728 85.0197 405.145 Q88.0984 400.538 93.9086 400.538 Z\" fill=\"#000000\" fill-rule=\"nonzero\" fill-opacity=\"1\" /><path clip-path=\"url(#clip260)\" d=\"M63.7467 76.8585 Q60.4134 76.8585 58.4921 78.6409 Q56.5939 80.4233 56.5939 83.5483 Q56.5939 86.6732 58.4921 88.4556 Q60.4134 90.238 63.7467 90.238 Q67.08 90.238 69.0013 88.4556 Q70.9226 86.6501 70.9226 83.5483 Q70.9226 80.4233 69.0013 78.6409 Q67.1032 76.8585 63.7467 76.8585 M59.0708 74.8678 Q56.0615 74.127 54.3717 72.0668 Q52.7051 70.0067 52.7051 67.0437 Q52.7051 62.9002 55.6449 60.4928 Q58.6078 58.0854 63.7467 58.0854 Q68.9087 58.0854 71.8485 60.4928 Q74.7883 62.9002 74.7883 67.0437 Q74.7883 70.0067 73.0985 72.0668 Q71.4318 74.127 68.4457 74.8678 Q71.8253 75.6548 73.7003 77.9464 Q75.5985 80.2381 75.5985 83.5483 Q75.5985 88.5714 72.5198 91.2566 Q69.4642 93.9417 63.7467 93.9417 Q58.0291 93.9417 54.9504 91.2566 Q51.8949 88.5714 51.8949 83.5483 Q51.8949 80.2381 53.793 77.9464 Q55.6912 75.6548 59.0708 74.8678 M57.3578 67.4835 Q57.3578 70.1687 59.0245 71.6733 Q60.7143 73.1779 63.7467 73.1779 Q66.7559 73.1779 68.4457 71.6733 Q70.1587 70.1687 70.1587 67.4835 Q70.1587 64.7984 68.4457 63.2937 Q66.7559 61.7891 63.7467 61.7891 Q60.7143 61.7891 59.0245 63.2937 Q57.3578 64.7984 57.3578 67.4835 Z\" fill=\"#000000\" fill-rule=\"nonzero\" fill-opacity=\"1\" /><path clip-path=\"url(#clip260)\" d=\"M93.9086 61.7891 Q90.2975 61.7891 88.4688 65.3539 Q86.6632 68.8956 86.6632 76.0252 Q86.6632 83.1316 88.4688 86.6964 Q90.2975 90.238 93.9086 90.238 Q97.5428 90.238 99.3483 86.6964 Q101.177 83.1316 101.177 76.0252 Q101.177 68.8956 99.3483 65.3539 Q97.5428 61.7891 93.9086 61.7891 M93.9086 58.0854 Q99.7187 58.0854 102.774 62.6919 Q105.853 67.2752 105.853 76.0252 Q105.853 84.752 102.774 89.3584 Q99.7187 93.9417 93.9086 93.9417 Q88.0984 93.9417 85.0197 89.3584 Q81.9642 84.752 81.9642 76.0252 Q81.9642 67.2752 85.0197 62.6919 Q88.0984 58.0854 93.9086 58.0854 Z\" fill=\"#000000\" fill-rule=\"nonzero\" fill-opacity=\"1\" /><polyline clip-path=\"url(#clip262)\" style=\"stroke:#009af9; stroke-linecap:round; stroke-linejoin:round; stroke-width:4; stroke-opacity:1; fill:none\" points=\"2290.18,88.4043 2226.98,174.018 2163.77,248.929 2100.57,333.686 2037.36,420.155 1974.16,504.056 1910.95,591.382 1847.75,677.423 1784.54,760.04 1721.34,843.941 1658.14,924.845 1594.93,1003.61 1531.73,1084.51 1468.52,1160.28 1405.32,1228.77 1342.11,1289.56 1278.91,1339.64 1215.7,1379.02 1152.5,1406.68 1089.29,1423.2 1026.09,1433.39 962.883,1439.12 899.678,1441.86 836.473,1443.4 773.269,1444.26 710.064,1444.77 646.859,1445.12 583.654,1445.37 520.45,1445.46 457.245,1445.54 394.04,1445.63 330.835,1445.72 267.63,1445.72 204.426,1445.54 \"/>\n",
       "<polyline clip-path=\"url(#clip262)\" style=\"stroke:#e26f46; stroke-linecap:round; stroke-linejoin:round; stroke-width:4; stroke-opacity:1; fill:none\" points=\"2290.18,88.4043 2226.98,173.589 2163.77,248.929 2100.57,332.402 2037.36,419.727 1974.16,504.484 1910.95,584.533 1847.75,668.006 1784.54,751.478 1721.34,833.239 1658.14,909.007 1594.93,985.63 1531.73,1060.11 1468.52,1126.89 1405.32,1189.39 1342.11,1245.47 1278.91,1292.98 1215.7,1333.65 1152.5,1366.18 1089.29,1391.44 1026.09,1409.67 962.883,1422.26 899.678,1430.73 836.473,1436.21 773.269,1439.64 710.064,1441.86 646.859,1443.23 583.654,1444.09 520.45,1444.6 457.245,1444.95 394.04,1445.2 330.835,1445.37 267.63,1443.83 204.426,1445.54 \"/>\n",
       "<polyline clip-path=\"url(#clip262)\" style=\"stroke:#3da44d; stroke-linecap:round; stroke-linejoin:round; stroke-width:4; stroke-opacity:1; fill:none\" points=\"2290.18,87.9763 2226.98,173.161 2163.77,249.785 2100.57,337.111 2037.36,413.306 1974.16,495.923 1910.95,579.824 1847.75,657.304 1784.54,736.068 1721.34,811.836 1658.14,887.603 1594.93,957.806 1531.73,1023.73 1468.52,1086.65 1405.32,1144.44 1342.11,1197.1 1278.91,1244.18 1215.7,1285.28 1152.5,1321.23 1089.29,1351.2 1026.09,1375.17 962.883,1394.26 899.678,1408.73 836.473,1419.77 773.269,1427.48 710.064,1433.56 646.859,1437.41 583.654,1440.07 520.45,1442.03 457.245,1443.23 394.04,1444.09 330.835,1444.52 267.63,1445.12 \"/>\n",
       "<path clip-path=\"url(#clip260)\" d=\"M215.55 302.578 L489.649 302.578 L489.649 95.2176 L215.55 95.2176  Z\" fill=\"#ffffff\" fill-rule=\"evenodd\" fill-opacity=\"1\"/>\n",
       "<polyline clip-path=\"url(#clip260)\" style=\"stroke:#000000; stroke-linecap:round; stroke-linejoin:round; stroke-width:4; stroke-opacity:1; fill:none\" points=\"215.55,302.578 489.649,302.578 489.649,95.2176 215.55,95.2176 215.55,302.578 \"/>\n",
       "<polyline clip-path=\"url(#clip260)\" style=\"stroke:#009af9; stroke-linecap:round; stroke-linejoin:round; stroke-width:4; stroke-opacity:1; fill:none\" points=\"240.115,147.058 387.509,147.058 \"/>\n",
       "<path clip-path=\"url(#clip260)\" d=\"M425.917 166.745 Q424.111 171.375 422.398 172.787 Q420.685 174.199 417.815 174.199 L414.412 174.199 L414.412 170.634 L416.912 170.634 Q418.672 170.634 419.644 169.8 Q420.616 168.967 421.797 165.865 L422.56 163.921 L412.074 138.412 L416.588 138.412 L424.69 158.689 L432.792 138.412 L437.306 138.412 L425.917 166.745 Z\" fill=\"#000000\" fill-rule=\"nonzero\" fill-opacity=\"1\" /><path clip-path=\"url(#clip260)\" d=\"M444.597 160.402 L452.236 160.402 L452.236 134.037 L443.926 135.703 L443.926 131.444 L452.19 129.778 L456.866 129.778 L456.866 160.402 L464.505 160.402 L464.505 164.338 L444.597 164.338 L444.597 160.402 Z\" fill=\"#000000\" fill-rule=\"nonzero\" fill-opacity=\"1\" /><polyline clip-path=\"url(#clip260)\" style=\"stroke:#e26f46; stroke-linecap:round; stroke-linejoin:round; stroke-width:4; stroke-opacity:1; fill:none\" points=\"240.115,198.898 387.509,198.898 \"/>\n",
       "<path clip-path=\"url(#clip260)\" d=\"M425.917 218.585 Q424.111 223.215 422.398 224.627 Q420.685 226.039 417.815 226.039 L414.412 226.039 L414.412 222.474 L416.912 222.474 Q418.672 222.474 419.644 221.64 Q420.616 220.807 421.797 217.705 L422.56 215.761 L412.074 190.252 L416.588 190.252 L424.69 210.529 L432.792 190.252 L437.306 190.252 L425.917 218.585 Z\" fill=\"#000000\" fill-rule=\"nonzero\" fill-opacity=\"1\" /><path clip-path=\"url(#clip260)\" d=\"M447.815 212.242 L464.134 212.242 L464.134 216.178 L442.19 216.178 L442.19 212.242 Q444.852 209.488 449.435 204.858 Q454.042 200.205 455.222 198.863 Q457.468 196.34 458.347 194.604 Q459.25 192.844 459.25 191.155 Q459.25 188.4 457.306 186.664 Q455.384 184.928 452.283 184.928 Q450.083 184.928 447.63 185.692 Q445.199 186.455 442.421 188.006 L442.421 183.284 Q445.246 182.15 447.699 181.571 Q450.153 180.993 452.19 180.993 Q457.56 180.993 460.755 183.678 Q463.949 186.363 463.949 190.854 Q463.949 192.983 463.139 194.905 Q462.352 196.803 460.245 199.395 Q459.667 200.067 456.565 203.284 Q453.463 206.479 447.815 212.242 Z\" fill=\"#000000\" fill-rule=\"nonzero\" fill-opacity=\"1\" /><polyline clip-path=\"url(#clip260)\" style=\"stroke:#3da44d; stroke-linecap:round; stroke-linejoin:round; stroke-width:4; stroke-opacity:1; fill:none\" points=\"240.115,250.738 387.509,250.738 \"/>\n",
       "<path clip-path=\"url(#clip260)\" d=\"M425.917 270.425 Q424.111 275.055 422.398 276.467 Q420.685 277.879 417.815 277.879 L414.412 277.879 L414.412 274.314 L416.912 274.314 Q418.672 274.314 419.644 273.48 Q420.616 272.647 421.797 269.545 L422.56 267.601 L412.074 242.092 L416.588 242.092 L424.69 262.369 L432.792 242.092 L437.306 242.092 L425.917 270.425 Z\" fill=\"#000000\" fill-rule=\"nonzero\" fill-opacity=\"1\" /><path clip-path=\"url(#clip260)\" d=\"M457.954 249.383 Q461.31 250.101 463.185 252.369 Q465.083 254.638 465.083 257.971 Q465.083 263.087 461.565 265.888 Q458.046 268.689 451.565 268.689 Q449.389 268.689 447.074 268.249 Q444.783 267.832 442.329 266.976 L442.329 262.462 Q444.273 263.596 446.588 264.175 Q448.903 264.754 451.426 264.754 Q455.824 264.754 458.116 263.018 Q460.431 261.281 460.431 257.971 Q460.431 254.916 458.278 253.203 Q456.148 251.467 452.329 251.467 L448.301 251.467 L448.301 247.624 L452.514 247.624 Q455.963 247.624 457.792 246.258 Q459.62 244.87 459.62 242.277 Q459.62 239.615 457.722 238.203 Q455.847 236.768 452.329 236.768 Q450.408 236.768 448.208 237.184 Q446.009 237.601 443.371 238.481 L443.371 234.314 Q446.033 233.573 448.347 233.203 Q450.685 232.833 452.745 232.833 Q458.07 232.833 461.171 235.263 Q464.273 237.67 464.273 241.791 Q464.273 244.661 462.63 246.652 Q460.986 248.62 457.954 249.383 Z\" fill=\"#000000\" fill-rule=\"nonzero\" fill-opacity=\"1\" /></svg>\n"
      ],
      "text/html": [
       "<?xml version=\"1.0\" encoding=\"utf-8\"?>\n",
       "<svg xmlns=\"http://www.w3.org/2000/svg\" xmlns:xlink=\"http://www.w3.org/1999/xlink\" width=\"600\" height=\"400\" viewBox=\"0 0 2400 1600\">\n",
       "<defs>\n",
       "  <clipPath id=\"clip310\">\n",
       "    <rect x=\"0\" y=\"0\" width=\"2400\" height=\"1600\"/>\n",
       "  </clipPath>\n",
       "</defs>\n",
       "<path clip-path=\"url(#clip310)\" d=\"M0 1600 L2400 1600 L2400 8.88178e-14 L0 8.88178e-14  Z\" fill=\"#ffffff\" fill-rule=\"evenodd\" fill-opacity=\"1\"/>\n",
       "<defs>\n",
       "  <clipPath id=\"clip311\">\n",
       "    <rect x=\"480\" y=\"0\" width=\"1681\" height=\"1600\"/>\n",
       "  </clipPath>\n",
       "</defs>\n",
       "<path clip-path=\"url(#clip310)\" d=\"M141.853 1486.45 L2352.76 1486.45 L2352.76 47.2441 L141.853 47.2441  Z\" fill=\"#ffffff\" fill-rule=\"evenodd\" fill-opacity=\"1\"/>\n",
       "<defs>\n",
       "  <clipPath id=\"clip312\">\n",
       "    <rect x=\"141\" y=\"47\" width=\"2212\" height=\"1440\"/>\n",
       "  </clipPath>\n",
       "</defs>\n",
       "<polyline clip-path=\"url(#clip312)\" style=\"stroke:#000000; stroke-linecap:round; stroke-linejoin:round; stroke-width:2; stroke-opacity:0.1; fill:none\" points=\"520.45,1486.45 520.45,47.2441 \"/>\n",
       "<polyline clip-path=\"url(#clip312)\" style=\"stroke:#000000; stroke-linecap:round; stroke-linejoin:round; stroke-width:2; stroke-opacity:0.1; fill:none\" points=\"899.678,1486.45 899.678,47.2441 \"/>\n",
       "<polyline clip-path=\"url(#clip312)\" style=\"stroke:#000000; stroke-linecap:round; stroke-linejoin:round; stroke-width:2; stroke-opacity:0.1; fill:none\" points=\"1278.91,1486.45 1278.91,47.2441 \"/>\n",
       "<polyline clip-path=\"url(#clip312)\" style=\"stroke:#000000; stroke-linecap:round; stroke-linejoin:round; stroke-width:2; stroke-opacity:0.1; fill:none\" points=\"1658.14,1486.45 1658.14,47.2441 \"/>\n",
       "<polyline clip-path=\"url(#clip312)\" style=\"stroke:#000000; stroke-linecap:round; stroke-linejoin:round; stroke-width:2; stroke-opacity:0.1; fill:none\" points=\"2037.36,1486.45 2037.36,47.2441 \"/>\n",
       "<polyline clip-path=\"url(#clip310)\" style=\"stroke:#000000; stroke-linecap:round; stroke-linejoin:round; stroke-width:4; stroke-opacity:1; fill:none\" points=\"141.853,1486.45 2352.76,1486.45 \"/>\n",
       "<polyline clip-path=\"url(#clip310)\" style=\"stroke:#000000; stroke-linecap:round; stroke-linejoin:round; stroke-width:4; stroke-opacity:1; fill:none\" points=\"520.45,1486.45 520.45,1467.55 \"/>\n",
       "<polyline clip-path=\"url(#clip310)\" style=\"stroke:#000000; stroke-linecap:round; stroke-linejoin:round; stroke-width:4; stroke-opacity:1; fill:none\" points=\"899.678,1486.45 899.678,1467.55 \"/>\n",
       "<polyline clip-path=\"url(#clip310)\" style=\"stroke:#000000; stroke-linecap:round; stroke-linejoin:round; stroke-width:4; stroke-opacity:1; fill:none\" points=\"1278.91,1486.45 1278.91,1467.55 \"/>\n",
       "<polyline clip-path=\"url(#clip310)\" style=\"stroke:#000000; stroke-linecap:round; stroke-linejoin:round; stroke-width:4; stroke-opacity:1; fill:none\" points=\"1658.14,1486.45 1658.14,1467.55 \"/>\n",
       "<polyline clip-path=\"url(#clip310)\" style=\"stroke:#000000; stroke-linecap:round; stroke-linejoin:round; stroke-width:4; stroke-opacity:1; fill:none\" points=\"2037.36,1486.45 2037.36,1467.55 \"/>\n",
       "<path clip-path=\"url(#clip310)\" d=\"M505.855 1529.7 Q502.707 1529.7 500.855 1531.86 Q499.026 1534.01 499.026 1537.76 Q499.026 1541.49 500.855 1543.66 Q502.707 1545.82 505.855 1545.82 Q509.003 1545.82 510.832 1543.66 Q512.683 1541.49 512.683 1537.76 Q512.683 1534.01 510.832 1531.86 Q509.003 1529.7 505.855 1529.7 M515.137 1515.05 L515.137 1519.31 Q513.378 1518.48 511.572 1518.04 Q509.79 1517.6 508.031 1517.6 Q503.401 1517.6 500.947 1520.72 Q498.517 1523.85 498.17 1530.17 Q499.535 1528.15 501.595 1527.09 Q503.656 1526 506.132 1526 Q511.341 1526 514.35 1529.17 Q517.382 1532.32 517.382 1537.76 Q517.382 1543.08 514.234 1546.3 Q511.086 1549.52 505.855 1549.52 Q499.859 1549.52 496.688 1544.94 Q493.517 1540.33 493.517 1531.6 Q493.517 1523.41 497.406 1518.55 Q501.295 1513.66 507.845 1513.66 Q509.605 1513.66 511.387 1514.01 Q513.193 1514.36 515.137 1515.05 Z\" fill=\"#000000\" fill-rule=\"nonzero\" fill-opacity=\"1\" /><path clip-path=\"url(#clip310)\" d=\"M535.438 1517.37 Q531.827 1517.37 529.998 1520.93 Q528.193 1524.47 528.193 1531.6 Q528.193 1538.71 529.998 1542.27 Q531.827 1545.82 535.438 1545.82 Q539.072 1545.82 540.878 1542.27 Q542.706 1538.71 542.706 1531.6 Q542.706 1524.47 540.878 1520.93 Q539.072 1517.37 535.438 1517.37 M535.438 1513.66 Q541.248 1513.66 544.304 1518.27 Q547.382 1522.85 547.382 1531.6 Q547.382 1540.33 544.304 1544.94 Q541.248 1549.52 535.438 1549.52 Q529.628 1549.52 526.549 1544.94 Q523.493 1540.33 523.493 1531.6 Q523.493 1522.85 526.549 1518.27 Q529.628 1513.66 535.438 1513.66 Z\" fill=\"#000000\" fill-rule=\"nonzero\" fill-opacity=\"1\" /><path clip-path=\"url(#clip310)\" d=\"M874.806 1548.13 L874.806 1543.87 Q876.565 1544.7 878.37 1545.14 Q880.176 1545.58 881.912 1545.58 Q886.542 1545.58 888.972 1542.48 Q891.426 1539.36 891.773 1533.01 Q890.431 1535.01 888.37 1536.07 Q886.31 1537.13 883.81 1537.13 Q878.625 1537.13 875.593 1534.01 Q872.583 1530.86 872.583 1525.42 Q872.583 1520.1 875.732 1516.88 Q878.88 1513.66 884.111 1513.66 Q890.106 1513.66 893.255 1518.27 Q896.426 1522.85 896.426 1531.6 Q896.426 1539.77 892.537 1544.66 Q888.671 1549.52 882.12 1549.52 Q880.361 1549.52 878.556 1549.17 Q876.75 1548.82 874.806 1548.13 M884.111 1533.48 Q887.259 1533.48 889.088 1531.32 Q890.94 1529.17 890.94 1525.42 Q890.94 1521.7 889.088 1519.54 Q887.259 1517.37 884.111 1517.37 Q880.963 1517.37 879.111 1519.54 Q877.282 1521.7 877.282 1525.42 Q877.282 1529.17 879.111 1531.32 Q880.963 1533.48 884.111 1533.48 Z\" fill=\"#000000\" fill-rule=\"nonzero\" fill-opacity=\"1\" /><path clip-path=\"url(#clip310)\" d=\"M914.829 1517.37 Q911.217 1517.37 909.389 1520.93 Q907.583 1524.47 907.583 1531.6 Q907.583 1538.71 909.389 1542.27 Q911.217 1545.82 914.829 1545.82 Q918.463 1545.82 920.268 1542.27 Q922.097 1538.71 922.097 1531.6 Q922.097 1524.47 920.268 1520.93 Q918.463 1517.37 914.829 1517.37 M914.829 1513.66 Q920.639 1513.66 923.694 1518.27 Q926.773 1522.85 926.773 1531.6 Q926.773 1540.33 923.694 1544.94 Q920.639 1549.52 914.829 1549.52 Q909.018 1549.52 905.94 1544.94 Q902.884 1540.33 902.884 1531.6 Q902.884 1522.85 905.94 1518.27 Q909.018 1513.66 914.829 1513.66 Z\" fill=\"#000000\" fill-rule=\"nonzero\" fill-opacity=\"1\" /><path clip-path=\"url(#clip310)\" d=\"M1238.51 1544.91 L1246.15 1544.91 L1246.15 1518.55 L1237.84 1520.21 L1237.84 1515.95 L1246.11 1514.29 L1250.78 1514.29 L1250.78 1544.91 L1258.42 1544.91 L1258.42 1548.85 L1238.51 1548.85 L1238.51 1544.91 Z\" fill=\"#000000\" fill-rule=\"nonzero\" fill-opacity=\"1\" /><path clip-path=\"url(#clip310)\" d=\"M1271.89 1544.91 L1288.21 1544.91 L1288.21 1548.85 L1266.27 1548.85 L1266.27 1544.91 Q1268.93 1542.16 1273.51 1537.53 Q1278.12 1532.88 1279.3 1531.53 Q1281.55 1529.01 1282.43 1527.27 Q1283.33 1525.51 1283.33 1523.82 Q1283.33 1521.07 1281.38 1519.33 Q1279.46 1517.6 1276.36 1517.6 Q1274.16 1517.6 1271.71 1518.36 Q1269.28 1519.13 1266.5 1520.68 L1266.5 1515.95 Q1269.32 1514.82 1271.78 1514.24 Q1274.23 1513.66 1276.27 1513.66 Q1281.64 1513.66 1284.83 1516.35 Q1288.03 1519.03 1288.03 1523.52 Q1288.03 1525.65 1287.22 1527.57 Q1286.43 1529.47 1284.32 1532.07 Q1283.74 1532.74 1280.64 1535.95 Q1277.54 1539.15 1271.89 1544.91 Z\" fill=\"#000000\" fill-rule=\"nonzero\" fill-opacity=\"1\" /><path clip-path=\"url(#clip310)\" d=\"M1308.03 1517.37 Q1304.42 1517.37 1302.59 1520.93 Q1300.78 1524.47 1300.78 1531.6 Q1300.78 1538.71 1302.59 1542.27 Q1304.42 1545.82 1308.03 1545.82 Q1311.66 1545.82 1313.47 1542.27 Q1315.3 1538.71 1315.3 1531.6 Q1315.3 1524.47 1313.47 1520.93 Q1311.66 1517.37 1308.03 1517.37 M1308.03 1513.66 Q1313.84 1513.66 1316.89 1518.27 Q1319.97 1522.85 1319.97 1531.6 Q1319.97 1540.33 1316.89 1544.94 Q1313.84 1549.52 1308.03 1549.52 Q1302.22 1549.52 1299.14 1544.94 Q1296.08 1540.33 1296.08 1531.6 Q1296.08 1522.85 1299.14 1518.27 Q1302.22 1513.66 1308.03 1513.66 Z\" fill=\"#000000\" fill-rule=\"nonzero\" fill-opacity=\"1\" /><path clip-path=\"url(#clip310)\" d=\"M1617.74 1544.91 L1625.38 1544.91 L1625.38 1518.55 L1617.07 1520.21 L1617.07 1515.95 L1625.33 1514.29 L1630.01 1514.29 L1630.01 1544.91 L1637.65 1544.91 L1637.65 1548.85 L1617.74 1548.85 L1617.74 1544.91 Z\" fill=\"#000000\" fill-rule=\"nonzero\" fill-opacity=\"1\" /><path clip-path=\"url(#clip310)\" d=\"M1647.14 1514.29 L1665.5 1514.29 L1665.5 1518.22 L1651.42 1518.22 L1651.42 1526.7 Q1652.44 1526.35 1653.46 1526.19 Q1654.48 1526 1655.5 1526 Q1661.28 1526 1664.66 1529.17 Q1668.04 1532.34 1668.04 1537.76 Q1668.04 1543.34 1664.57 1546.44 Q1661.1 1549.52 1654.78 1549.52 Q1652.6 1549.52 1650.33 1549.15 Q1648.09 1548.78 1645.68 1548.04 L1645.68 1543.34 Q1647.77 1544.47 1649.99 1545.03 Q1652.21 1545.58 1654.69 1545.58 Q1658.69 1545.58 1661.03 1543.48 Q1663.37 1541.37 1663.37 1537.76 Q1663.37 1534.15 1661.03 1532.04 Q1658.69 1529.94 1654.69 1529.94 Q1652.81 1529.94 1650.94 1530.35 Q1649.08 1530.77 1647.14 1531.65 L1647.14 1514.29 Z\" fill=\"#000000\" fill-rule=\"nonzero\" fill-opacity=\"1\" /><path clip-path=\"url(#clip310)\" d=\"M1687.26 1517.37 Q1683.64 1517.37 1681.82 1520.93 Q1680.01 1524.47 1680.01 1531.6 Q1680.01 1538.71 1681.82 1542.27 Q1683.64 1545.82 1687.26 1545.82 Q1690.89 1545.82 1692.7 1542.27 Q1694.52 1538.71 1694.52 1531.6 Q1694.52 1524.47 1692.7 1520.93 Q1690.89 1517.37 1687.26 1517.37 M1687.26 1513.66 Q1693.07 1513.66 1696.12 1518.27 Q1699.2 1522.85 1699.2 1531.6 Q1699.2 1540.33 1696.12 1544.94 Q1693.07 1549.52 1687.26 1549.52 Q1681.45 1549.52 1678.37 1544.94 Q1675.31 1540.33 1675.31 1531.6 Q1675.31 1522.85 1678.37 1518.27 Q1681.45 1513.66 1687.26 1513.66 Z\" fill=\"#000000\" fill-rule=\"nonzero\" fill-opacity=\"1\" /><path clip-path=\"url(#clip310)\" d=\"M1996.97 1544.91 L2004.61 1544.91 L2004.61 1518.55 L1996.3 1520.21 L1996.3 1515.95 L2004.56 1514.29 L2009.24 1514.29 L2009.24 1544.91 L2016.88 1544.91 L2016.88 1548.85 L1996.97 1548.85 L1996.97 1544.91 Z\" fill=\"#000000\" fill-rule=\"nonzero\" fill-opacity=\"1\" /><path clip-path=\"url(#clip310)\" d=\"M2036.32 1532.44 Q2032.99 1532.44 2031.07 1534.22 Q2029.17 1536 2029.17 1539.13 Q2029.17 1542.25 2031.07 1544.03 Q2032.99 1545.82 2036.32 1545.82 Q2039.66 1545.82 2041.58 1544.03 Q2043.5 1542.23 2043.5 1539.13 Q2043.5 1536 2041.58 1534.22 Q2039.68 1532.44 2036.32 1532.44 M2031.65 1530.45 Q2028.64 1529.7 2026.95 1527.64 Q2025.28 1525.58 2025.28 1522.62 Q2025.28 1518.48 2028.22 1516.07 Q2031.18 1513.66 2036.32 1513.66 Q2041.48 1513.66 2044.42 1516.07 Q2047.36 1518.48 2047.36 1522.62 Q2047.36 1525.58 2045.67 1527.64 Q2044.01 1529.7 2041.02 1530.45 Q2044.4 1531.23 2046.28 1533.52 Q2048.17 1535.82 2048.17 1539.13 Q2048.17 1544.15 2045.1 1546.83 Q2042.04 1549.52 2036.32 1549.52 Q2030.6 1549.52 2027.53 1546.83 Q2024.47 1544.15 2024.47 1539.13 Q2024.47 1535.82 2026.37 1533.52 Q2028.27 1531.23 2031.65 1530.45 M2029.93 1523.06 Q2029.93 1525.75 2031.6 1527.25 Q2033.29 1528.76 2036.32 1528.76 Q2039.33 1528.76 2041.02 1527.25 Q2042.73 1525.75 2042.73 1523.06 Q2042.73 1520.38 2041.02 1518.87 Q2039.33 1517.37 2036.32 1517.37 Q2033.29 1517.37 2031.6 1518.87 Q2029.93 1520.38 2029.93 1523.06 Z\" fill=\"#000000\" fill-rule=\"nonzero\" fill-opacity=\"1\" /><path clip-path=\"url(#clip310)\" d=\"M2066.48 1517.37 Q2062.87 1517.37 2061.04 1520.93 Q2059.24 1524.47 2059.24 1531.6 Q2059.24 1538.71 2061.04 1542.27 Q2062.87 1545.82 2066.48 1545.82 Q2070.12 1545.82 2071.92 1542.27 Q2073.75 1538.71 2073.75 1531.6 Q2073.75 1524.47 2071.92 1520.93 Q2070.12 1517.37 2066.48 1517.37 M2066.48 1513.66 Q2072.29 1513.66 2075.35 1518.27 Q2078.43 1522.85 2078.43 1531.6 Q2078.43 1540.33 2075.35 1544.94 Q2072.29 1549.52 2066.48 1549.52 Q2060.67 1549.52 2057.6 1544.94 Q2054.54 1540.33 2054.54 1531.6 Q2054.54 1522.85 2057.6 1518.27 Q2060.67 1513.66 2066.48 1513.66 Z\" fill=\"#000000\" fill-rule=\"nonzero\" fill-opacity=\"1\" /><polyline clip-path=\"url(#clip312)\" style=\"stroke:#000000; stroke-linecap:round; stroke-linejoin:round; stroke-width:2; stroke-opacity:0.1; fill:none\" points=\"141.853,1445.8 2352.76,1445.8 \"/>\n",
       "<polyline clip-path=\"url(#clip312)\" style=\"stroke:#000000; stroke-linecap:round; stroke-linejoin:round; stroke-width:2; stroke-opacity:0.1; fill:none\" points=\"141.853,1103.35 2352.76,1103.35 \"/>\n",
       "<polyline clip-path=\"url(#clip312)\" style=\"stroke:#000000; stroke-linecap:round; stroke-linejoin:round; stroke-width:2; stroke-opacity:0.1; fill:none\" points=\"141.853,760.896 2352.76,760.896 \"/>\n",
       "<polyline clip-path=\"url(#clip312)\" style=\"stroke:#000000; stroke-linecap:round; stroke-linejoin:round; stroke-width:2; stroke-opacity:0.1; fill:none\" points=\"141.853,418.443 2352.76,418.443 \"/>\n",
       "<polyline clip-path=\"url(#clip312)\" style=\"stroke:#000000; stroke-linecap:round; stroke-linejoin:round; stroke-width:2; stroke-opacity:0.1; fill:none\" points=\"141.853,75.9904 2352.76,75.9904 \"/>\n",
       "<polyline clip-path=\"url(#clip310)\" style=\"stroke:#000000; stroke-linecap:round; stroke-linejoin:round; stroke-width:4; stroke-opacity:1; fill:none\" points=\"141.853,1486.45 141.853,47.2441 \"/>\n",
       "<polyline clip-path=\"url(#clip310)\" style=\"stroke:#000000; stroke-linecap:round; stroke-linejoin:round; stroke-width:4; stroke-opacity:1; fill:none\" points=\"141.853,1445.8 160.751,1445.8 \"/>\n",
       "<polyline clip-path=\"url(#clip310)\" style=\"stroke:#000000; stroke-linecap:round; stroke-linejoin:round; stroke-width:4; stroke-opacity:1; fill:none\" points=\"141.853,1103.35 160.751,1103.35 \"/>\n",
       "<polyline clip-path=\"url(#clip310)\" style=\"stroke:#000000; stroke-linecap:round; stroke-linejoin:round; stroke-width:4; stroke-opacity:1; fill:none\" points=\"141.853,760.896 160.751,760.896 \"/>\n",
       "<polyline clip-path=\"url(#clip310)\" style=\"stroke:#000000; stroke-linecap:round; stroke-linejoin:round; stroke-width:4; stroke-opacity:1; fill:none\" points=\"141.853,418.443 160.751,418.443 \"/>\n",
       "<polyline clip-path=\"url(#clip310)\" style=\"stroke:#000000; stroke-linecap:round; stroke-linejoin:round; stroke-width:4; stroke-opacity:1; fill:none\" points=\"141.853,75.9904 160.751,75.9904 \"/>\n",
       "<path clip-path=\"url(#clip310)\" d=\"M93.9086 1431.6 Q90.2975 1431.6 88.4688 1435.16 Q86.6632 1438.71 86.6632 1445.84 Q86.6632 1452.94 88.4688 1456.51 Q90.2975 1460.05 93.9086 1460.05 Q97.5428 1460.05 99.3483 1456.51 Q101.177 1452.94 101.177 1445.84 Q101.177 1438.71 99.3483 1435.16 Q97.5428 1431.6 93.9086 1431.6 M93.9086 1427.9 Q99.7187 1427.9 102.774 1432.5 Q105.853 1437.09 105.853 1445.84 Q105.853 1454.56 102.774 1459.17 Q99.7187 1463.75 93.9086 1463.75 Q88.0984 1463.75 85.0197 1459.17 Q81.9642 1454.56 81.9642 1445.84 Q81.9642 1437.09 85.0197 1432.5 Q88.0984 1427.9 93.9086 1427.9 Z\" fill=\"#000000\" fill-rule=\"nonzero\" fill-opacity=\"1\" /><path clip-path=\"url(#clip310)\" d=\"M57.7745 1116.69 L74.0939 1116.69 L74.0939 1120.63 L52.1495 1120.63 L52.1495 1116.69 Q54.8115 1113.94 59.3949 1109.31 Q64.0013 1104.66 65.1819 1103.31 Q67.4272 1100.79 68.3068 1099.05 Q69.2096 1097.3 69.2096 1095.61 Q69.2096 1092.85 67.2652 1091.11 Q65.3439 1089.38 62.2421 1089.38 Q60.043 1089.38 57.5893 1090.14 Q55.1588 1090.91 52.381 1092.46 L52.381 1087.74 Q55.2051 1086.6 57.6588 1086.02 Q60.1124 1085.44 62.1495 1085.44 Q67.5198 1085.44 70.7142 1088.13 Q73.9087 1090.81 73.9087 1095.3 Q73.9087 1097.43 73.0985 1099.36 Q72.3115 1101.25 70.205 1103.85 Q69.6263 1104.52 66.5245 1107.74 Q63.4226 1110.93 57.7745 1116.69 Z\" fill=\"#000000\" fill-rule=\"nonzero\" fill-opacity=\"1\" /><path clip-path=\"url(#clip310)\" d=\"M93.9086 1089.15 Q90.2975 1089.15 88.4688 1092.71 Q86.6632 1096.25 86.6632 1103.38 Q86.6632 1110.49 88.4688 1114.05 Q90.2975 1117.6 93.9086 1117.6 Q97.5428 1117.6 99.3483 1114.05 Q101.177 1110.49 101.177 1103.38 Q101.177 1096.25 99.3483 1092.71 Q97.5428 1089.15 93.9086 1089.15 M93.9086 1085.44 Q99.7187 1085.44 102.774 1090.05 Q105.853 1094.63 105.853 1103.38 Q105.853 1112.11 102.774 1116.72 Q99.7187 1121.3 93.9086 1121.3 Q88.0984 1121.3 85.0197 1116.72 Q81.9642 1112.11 81.9642 1103.38 Q81.9642 1094.63 85.0197 1090.05 Q88.0984 1085.44 93.9086 1085.44 Z\" fill=\"#000000\" fill-rule=\"nonzero\" fill-opacity=\"1\" /><path clip-path=\"url(#clip310)\" d=\"M66.5939 747.69 L54.7884 766.139 L66.5939 766.139 L66.5939 747.69 M65.367 743.616 L71.2466 743.616 L71.2466 766.139 L76.1772 766.139 L76.1772 770.028 L71.2466 770.028 L71.2466 778.176 L66.5939 778.176 L66.5939 770.028 L50.9921 770.028 L50.9921 765.514 L65.367 743.616 Z\" fill=\"#000000\" fill-rule=\"nonzero\" fill-opacity=\"1\" /><path clip-path=\"url(#clip310)\" d=\"M93.9086 746.695 Q90.2975 746.695 88.4688 750.259 Q86.6632 753.801 86.6632 760.931 Q86.6632 768.037 88.4688 771.602 Q90.2975 775.143 93.9086 775.143 Q97.5428 775.143 99.3483 771.602 Q101.177 768.037 101.177 760.931 Q101.177 753.801 99.3483 750.259 Q97.5428 746.695 93.9086 746.695 M93.9086 742.991 Q99.7187 742.991 102.774 747.597 Q105.853 752.181 105.853 760.931 Q105.853 769.657 102.774 774.264 Q99.7187 778.847 93.9086 778.847 Q88.0984 778.847 85.0197 774.264 Q81.9642 769.657 81.9642 760.931 Q81.9642 752.181 85.0197 747.597 Q88.0984 742.991 93.9086 742.991 Z\" fill=\"#000000\" fill-rule=\"nonzero\" fill-opacity=\"1\" /><path clip-path=\"url(#clip310)\" d=\"M64.3254 416.58 Q61.1773 416.58 59.3254 418.733 Q57.4967 420.885 57.4967 424.635 Q57.4967 428.362 59.3254 430.538 Q61.1773 432.691 64.3254 432.691 Q67.4735 432.691 69.3022 430.538 Q71.1541 428.362 71.1541 424.635 Q71.1541 420.885 69.3022 418.733 Q67.4735 416.58 64.3254 416.58 M73.6077 401.927 L73.6077 406.186 Q71.8485 405.353 70.0429 404.913 Q68.2606 404.473 66.5013 404.473 Q61.8717 404.473 59.418 407.598 Q56.9875 410.723 56.6402 417.043 Q58.006 415.029 60.0662 413.964 Q62.1263 412.876 64.6032 412.876 Q69.8115 412.876 72.8207 416.047 Q75.8531 419.195 75.8531 424.635 Q75.8531 429.959 72.705 433.177 Q69.5568 436.394 64.3254 436.394 Q58.33 436.394 55.1588 431.811 Q51.9875 427.205 51.9875 418.478 Q51.9875 410.283 55.8764 405.422 Q59.7652 400.538 66.3161 400.538 Q68.0754 400.538 69.8578 400.885 Q71.6633 401.233 73.6077 401.927 Z\" fill=\"#000000\" fill-rule=\"nonzero\" fill-opacity=\"1\" /><path clip-path=\"url(#clip310)\" d=\"M93.9086 404.242 Q90.2975 404.242 88.4688 407.807 Q86.6632 411.348 86.6632 418.478 Q86.6632 425.584 88.4688 429.149 Q90.2975 432.691 93.9086 432.691 Q97.5428 432.691 99.3483 429.149 Q101.177 425.584 101.177 418.478 Q101.177 411.348 99.3483 407.807 Q97.5428 404.242 93.9086 404.242 M93.9086 400.538 Q99.7187 400.538 102.774 405.145 Q105.853 409.728 105.853 418.478 Q105.853 427.205 102.774 431.811 Q99.7187 436.394 93.9086 436.394 Q88.0984 436.394 85.0197 431.811 Q81.9642 427.205 81.9642 418.478 Q81.9642 409.728 85.0197 405.145 Q88.0984 400.538 93.9086 400.538 Z\" fill=\"#000000\" fill-rule=\"nonzero\" fill-opacity=\"1\" /><path clip-path=\"url(#clip310)\" d=\"M63.7467 76.8585 Q60.4134 76.8585 58.4921 78.6409 Q56.5939 80.4233 56.5939 83.5483 Q56.5939 86.6732 58.4921 88.4556 Q60.4134 90.238 63.7467 90.238 Q67.08 90.238 69.0013 88.4556 Q70.9226 86.6501 70.9226 83.5483 Q70.9226 80.4233 69.0013 78.6409 Q67.1032 76.8585 63.7467 76.8585 M59.0708 74.8678 Q56.0615 74.127 54.3717 72.0668 Q52.7051 70.0067 52.7051 67.0437 Q52.7051 62.9002 55.6449 60.4928 Q58.6078 58.0854 63.7467 58.0854 Q68.9087 58.0854 71.8485 60.4928 Q74.7883 62.9002 74.7883 67.0437 Q74.7883 70.0067 73.0985 72.0668 Q71.4318 74.127 68.4457 74.8678 Q71.8253 75.6548 73.7003 77.9464 Q75.5985 80.2381 75.5985 83.5483 Q75.5985 88.5714 72.5198 91.2566 Q69.4642 93.9417 63.7467 93.9417 Q58.0291 93.9417 54.9504 91.2566 Q51.8949 88.5714 51.8949 83.5483 Q51.8949 80.2381 53.793 77.9464 Q55.6912 75.6548 59.0708 74.8678 M57.3578 67.4835 Q57.3578 70.1687 59.0245 71.6733 Q60.7143 73.1779 63.7467 73.1779 Q66.7559 73.1779 68.4457 71.6733 Q70.1587 70.1687 70.1587 67.4835 Q70.1587 64.7984 68.4457 63.2937 Q66.7559 61.7891 63.7467 61.7891 Q60.7143 61.7891 59.0245 63.2937 Q57.3578 64.7984 57.3578 67.4835 Z\" fill=\"#000000\" fill-rule=\"nonzero\" fill-opacity=\"1\" /><path clip-path=\"url(#clip310)\" d=\"M93.9086 61.7891 Q90.2975 61.7891 88.4688 65.3539 Q86.6632 68.8956 86.6632 76.0252 Q86.6632 83.1316 88.4688 86.6964 Q90.2975 90.238 93.9086 90.238 Q97.5428 90.238 99.3483 86.6964 Q101.177 83.1316 101.177 76.0252 Q101.177 68.8956 99.3483 65.3539 Q97.5428 61.7891 93.9086 61.7891 M93.9086 58.0854 Q99.7187 58.0854 102.774 62.6919 Q105.853 67.2752 105.853 76.0252 Q105.853 84.752 102.774 89.3584 Q99.7187 93.9417 93.9086 93.9417 Q88.0984 93.9417 85.0197 89.3584 Q81.9642 84.752 81.9642 76.0252 Q81.9642 67.2752 85.0197 62.6919 Q88.0984 58.0854 93.9086 58.0854 Z\" fill=\"#000000\" fill-rule=\"nonzero\" fill-opacity=\"1\" /><polyline clip-path=\"url(#clip312)\" style=\"stroke:#009af9; stroke-linecap:round; stroke-linejoin:round; stroke-width:4; stroke-opacity:1; fill:none\" points=\"2290.18,88.4043 2226.98,174.018 2163.77,248.929 2100.57,333.686 2037.36,420.155 1974.16,504.056 1910.95,591.382 1847.75,677.423 1784.54,760.04 1721.34,843.941 1658.14,924.845 1594.93,1003.61 1531.73,1084.51 1468.52,1160.28 1405.32,1228.77 1342.11,1289.56 1278.91,1339.64 1215.7,1379.02 1152.5,1406.68 1089.29,1423.2 1026.09,1433.39 962.883,1439.12 899.678,1441.86 836.473,1443.4 773.269,1444.26 710.064,1444.77 646.859,1445.12 583.654,1445.37 520.45,1445.46 457.245,1445.54 394.04,1445.63 330.835,1445.72 267.63,1445.72 204.426,1445.54 \"/>\n",
       "<polyline clip-path=\"url(#clip312)\" style=\"stroke:#e26f46; stroke-linecap:round; stroke-linejoin:round; stroke-width:4; stroke-opacity:1; fill:none\" points=\"2290.18,88.4043 2226.98,173.589 2163.77,248.929 2100.57,332.402 2037.36,419.727 1974.16,504.484 1910.95,584.533 1847.75,668.006 1784.54,751.478 1721.34,833.239 1658.14,909.007 1594.93,985.63 1531.73,1060.11 1468.52,1126.89 1405.32,1189.39 1342.11,1245.47 1278.91,1292.98 1215.7,1333.65 1152.5,1366.18 1089.29,1391.44 1026.09,1409.67 962.883,1422.26 899.678,1430.73 836.473,1436.21 773.269,1439.64 710.064,1441.86 646.859,1443.23 583.654,1444.09 520.45,1444.6 457.245,1444.95 394.04,1445.2 330.835,1445.37 267.63,1443.83 204.426,1445.54 \"/>\n",
       "<polyline clip-path=\"url(#clip312)\" style=\"stroke:#3da44d; stroke-linecap:round; stroke-linejoin:round; stroke-width:4; stroke-opacity:1; fill:none\" points=\"2290.18,87.9763 2226.98,173.161 2163.77,249.785 2100.57,337.111 2037.36,413.306 1974.16,495.923 1910.95,579.824 1847.75,657.304 1784.54,736.068 1721.34,811.836 1658.14,887.603 1594.93,957.806 1531.73,1023.73 1468.52,1086.65 1405.32,1144.44 1342.11,1197.1 1278.91,1244.18 1215.7,1285.28 1152.5,1321.23 1089.29,1351.2 1026.09,1375.17 962.883,1394.26 899.678,1408.73 836.473,1419.77 773.269,1427.48 710.064,1433.56 646.859,1437.41 583.654,1440.07 520.45,1442.03 457.245,1443.23 394.04,1444.09 330.835,1444.52 267.63,1445.12 \"/>\n",
       "<path clip-path=\"url(#clip310)\" d=\"M215.55 302.578 L489.649 302.578 L489.649 95.2176 L215.55 95.2176  Z\" fill=\"#ffffff\" fill-rule=\"evenodd\" fill-opacity=\"1\"/>\n",
       "<polyline clip-path=\"url(#clip310)\" style=\"stroke:#000000; stroke-linecap:round; stroke-linejoin:round; stroke-width:4; stroke-opacity:1; fill:none\" points=\"215.55,302.578 489.649,302.578 489.649,95.2176 215.55,95.2176 215.55,302.578 \"/>\n",
       "<polyline clip-path=\"url(#clip310)\" style=\"stroke:#009af9; stroke-linecap:round; stroke-linejoin:round; stroke-width:4; stroke-opacity:1; fill:none\" points=\"240.115,147.058 387.509,147.058 \"/>\n",
       "<path clip-path=\"url(#clip310)\" d=\"M425.917 166.745 Q424.111 171.375 422.398 172.787 Q420.685 174.199 417.815 174.199 L414.412 174.199 L414.412 170.634 L416.912 170.634 Q418.672 170.634 419.644 169.8 Q420.616 168.967 421.797 165.865 L422.56 163.921 L412.074 138.412 L416.588 138.412 L424.69 158.689 L432.792 138.412 L437.306 138.412 L425.917 166.745 Z\" fill=\"#000000\" fill-rule=\"nonzero\" fill-opacity=\"1\" /><path clip-path=\"url(#clip310)\" d=\"M444.597 160.402 L452.236 160.402 L452.236 134.037 L443.926 135.703 L443.926 131.444 L452.19 129.778 L456.866 129.778 L456.866 160.402 L464.505 160.402 L464.505 164.338 L444.597 164.338 L444.597 160.402 Z\" fill=\"#000000\" fill-rule=\"nonzero\" fill-opacity=\"1\" /><polyline clip-path=\"url(#clip310)\" style=\"stroke:#e26f46; stroke-linecap:round; stroke-linejoin:round; stroke-width:4; stroke-opacity:1; fill:none\" points=\"240.115,198.898 387.509,198.898 \"/>\n",
       "<path clip-path=\"url(#clip310)\" d=\"M425.917 218.585 Q424.111 223.215 422.398 224.627 Q420.685 226.039 417.815 226.039 L414.412 226.039 L414.412 222.474 L416.912 222.474 Q418.672 222.474 419.644 221.64 Q420.616 220.807 421.797 217.705 L422.56 215.761 L412.074 190.252 L416.588 190.252 L424.69 210.529 L432.792 190.252 L437.306 190.252 L425.917 218.585 Z\" fill=\"#000000\" fill-rule=\"nonzero\" fill-opacity=\"1\" /><path clip-path=\"url(#clip310)\" d=\"M447.815 212.242 L464.134 212.242 L464.134 216.178 L442.19 216.178 L442.19 212.242 Q444.852 209.488 449.435 204.858 Q454.042 200.205 455.222 198.863 Q457.468 196.34 458.347 194.604 Q459.25 192.844 459.25 191.155 Q459.25 188.4 457.306 186.664 Q455.384 184.928 452.283 184.928 Q450.083 184.928 447.63 185.692 Q445.199 186.455 442.421 188.006 L442.421 183.284 Q445.246 182.15 447.699 181.571 Q450.153 180.993 452.19 180.993 Q457.56 180.993 460.755 183.678 Q463.949 186.363 463.949 190.854 Q463.949 192.983 463.139 194.905 Q462.352 196.803 460.245 199.395 Q459.667 200.067 456.565 203.284 Q453.463 206.479 447.815 212.242 Z\" fill=\"#000000\" fill-rule=\"nonzero\" fill-opacity=\"1\" /><polyline clip-path=\"url(#clip310)\" style=\"stroke:#3da44d; stroke-linecap:round; stroke-linejoin:round; stroke-width:4; stroke-opacity:1; fill:none\" points=\"240.115,250.738 387.509,250.738 \"/>\n",
       "<path clip-path=\"url(#clip310)\" d=\"M425.917 270.425 Q424.111 275.055 422.398 276.467 Q420.685 277.879 417.815 277.879 L414.412 277.879 L414.412 274.314 L416.912 274.314 Q418.672 274.314 419.644 273.48 Q420.616 272.647 421.797 269.545 L422.56 267.601 L412.074 242.092 L416.588 242.092 L424.69 262.369 L432.792 242.092 L437.306 242.092 L425.917 270.425 Z\" fill=\"#000000\" fill-rule=\"nonzero\" fill-opacity=\"1\" /><path clip-path=\"url(#clip310)\" d=\"M457.954 249.383 Q461.31 250.101 463.185 252.369 Q465.083 254.638 465.083 257.971 Q465.083 263.087 461.565 265.888 Q458.046 268.689 451.565 268.689 Q449.389 268.689 447.074 268.249 Q444.783 267.832 442.329 266.976 L442.329 262.462 Q444.273 263.596 446.588 264.175 Q448.903 264.754 451.426 264.754 Q455.824 264.754 458.116 263.018 Q460.431 261.281 460.431 257.971 Q460.431 254.916 458.278 253.203 Q456.148 251.467 452.329 251.467 L448.301 251.467 L448.301 247.624 L452.514 247.624 Q455.963 247.624 457.792 246.258 Q459.62 244.87 459.62 242.277 Q459.62 239.615 457.722 238.203 Q455.847 236.768 452.329 236.768 Q450.408 236.768 448.208 237.184 Q446.009 237.601 443.371 238.481 L443.371 234.314 Q446.033 233.573 448.347 233.203 Q450.685 232.833 452.745 232.833 Q458.07 232.833 461.171 235.263 Q464.273 237.67 464.273 241.791 Q464.273 244.661 462.63 246.652 Q460.986 248.62 457.954 249.383 Z\" fill=\"#000000\" fill-rule=\"nonzero\" fill-opacity=\"1\" /></svg>\n"
      ]
     },
     "execution_count": 12,
     "metadata": {},
     "output_type": "execute_result"
    }
   ],
   "source": [
    "plot(dataframe_1[:,:strike], dataframe_1[:,:midpoint])\n",
    "plot!(dataframe_2[:,:strike], dataframe_2[:,:midpoint])\n",
    "plot!(dataframe_3[:,:strike], dataframe_3[:,:midpoint])"
   ]
  },
  {
   "cell_type": "markdown",
   "id": "f917ab4f-64f5-47d9-8238-7062d9fabf16",
   "metadata": {},
   "source": [
    "## Task 2: Build a lattice model of the `AMD` pricing data"
   ]
  },
  {
   "cell_type": "markdown",
   "id": "b01985c2-fe17-49d8-bf02-a71d4b15d4a8",
   "metadata": {},
   "source": [
    "## Disclaimer and Risks\n",
    "__This content is offered solely for training and informational purposes__. No offer or solicitation to buy or sell securities or derivative products or any investment or trading advice or strategy is made, given, or endorsed by the teaching team. \n",
    "\n",
    "__Trading involves risk__. Carefully review your financial situation before investing in securities, futures contracts, options, or commodity interests. Past performance, whether actual or indicated by historical tests of strategies, is no guarantee of future performance or success. Trading is generally inappropriate for someone with limited resources, investment or trading experience, or a low-risk tolerance.  Only risk capital that is not required for living expenses.\n",
    "\n",
    "__You are fully responsible for any investment or trading decisions you make__. Such decisions should be based solely on evaluating your financial circumstances, investment or trading objectives, risk tolerance, and liquidity needs."
   ]
  }
 ],
 "metadata": {
  "kernelspec": {
   "display_name": "Julia 1.10.2",
   "language": "julia",
   "name": "julia-1.10"
  },
  "language_info": {
   "file_extension": ".jl",
   "mimetype": "application/julia",
   "name": "julia",
   "version": "1.10.2"
  }
 },
 "nbformat": 4,
 "nbformat_minor": 5
}
