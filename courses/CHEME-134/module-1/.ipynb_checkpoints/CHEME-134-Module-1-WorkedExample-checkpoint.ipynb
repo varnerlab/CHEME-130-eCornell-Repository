{
 "cells": [
  {
   "cell_type": "code",
   "execution_count": null,
   "id": "009181ab-5787-47ce-b58b-408437f51691",
   "metadata": {},
   "outputs": [],
   "source": []
  }
 ],
 "metadata": {
  "kernelspec": {
   "display_name": "Julia 1.10.2",
   "language": "julia",
   "name": "julia-1.10"
  },
  "language_info": {
   "file_extension": ".jl",
   "mimetype": "application/julia",
   "name": "julia",
   "version": "1.10.2"
  }
 },
 "nbformat": 4,
 "nbformat_minor": 5
}
