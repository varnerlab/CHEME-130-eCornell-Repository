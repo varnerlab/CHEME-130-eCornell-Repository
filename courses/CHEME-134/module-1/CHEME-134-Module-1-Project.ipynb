{
 "cells": [
  {
   "cell_type": "markdown",
   "id": "e93144b2-2b0d-4d36-8af4-72dac60ee6d5",
   "metadata": {},
   "source": [
    "# Example: Simulation of American Option Price Dynamics using a Binomial Lattice\n",
    "This example will familiarize students with the simulation of the price dynamics of [American-style option contracts](https://en.wikipedia.org/wiki/Option_style). In particular, we'll explore how the contract length, i.e., the days to expiration (DTE), influences the contract price as a function of the strike price $K$.\n",
    "\n",
    "### Learning Objectives\n",
    "* `Prerequisites`: load and interrogate the options chains for different values of the days to expiration (DTE) parameter for an example underlying ticker, in this case, [Advanced Micro Devices](https://finance.yahoo.com/quote/AMD/) with the ticker symbol `AMD.`"
   ]
  },
  {
   "cell_type": "markdown",
   "id": "6dcc954d-c3f1-4595-ac30-716a0755a3c0",
   "metadata": {},
   "source": [
    "## Setup\n",
    "Set up the computational environment by including the `Include.jl` file. The `Include.jl` file loads external packages, various functions we will use in the exercise, and custom types to model the components of our example problem.\n",
    "* For additional information on functions and types used in this material, see the [Julia programming language documentation](https://docs.julialang.org/en/v1/) and the [VLQuantitativeFinancePackage.jl documentation](https://github.com/varnerlab/VLQuantitativeFinancePackage.jl). "
   ]
  },
  {
   "cell_type": "code",
   "execution_count": 1,
   "id": "9c3d8a63-c334-4d55-bca6-e3db6820e54c",
   "metadata": {},
   "outputs": [
    {
     "name": "stderr",
     "output_type": "stream",
     "text": [
      "\u001b[32m\u001b[1m    Updating\u001b[22m\u001b[39m git-repo `https://github.com/varnerlab/VLQuantitativeFinancePackage.jl.git`\n",
      "\u001b[32m\u001b[1m   Resolving\u001b[22m\u001b[39m package versions...\n",
      "\u001b[32m\u001b[1m  No Changes\u001b[22m\u001b[39m to `~/Desktop/julia_work/CHEME-130-eCornell-Repository/courses/CHEME-134/module-1/Project.toml`\n",
      "\u001b[32m\u001b[1m  No Changes\u001b[22m\u001b[39m to `~/Desktop/julia_work/CHEME-130-eCornell-Repository/courses/CHEME-134/module-1/Manifest.toml`\n",
      "\u001b[32m\u001b[1m  Activating\u001b[22m\u001b[39m project at `~/Desktop/julia_work/CHEME-130-eCornell-Repository/courses/CHEME-134/module-1`\n",
      "\u001b[32m\u001b[1m    Updating\u001b[22m\u001b[39m registry at `~/.julia/registries/General.toml`\n",
      "\u001b[32m\u001b[1m    Updating\u001b[22m\u001b[39m git-repo `https://github.com/varnerlab/VLQuantitativeFinancePackage.jl.git`\n",
      "\u001b[32m\u001b[1m  No Changes\u001b[22m\u001b[39m to `~/Desktop/julia_work/CHEME-130-eCornell-Repository/courses/CHEME-134/module-1/Project.toml`\n",
      "\u001b[32m\u001b[1m  No Changes\u001b[22m\u001b[39m to `~/Desktop/julia_work/CHEME-130-eCornell-Repository/courses/CHEME-134/module-1/Manifest.toml`\n"
     ]
    }
   ],
   "source": [
    "include(\"Include.jl\");"
   ]
  },
  {
   "cell_type": "markdown",
   "id": "68bddc4c-cd4e-4022-a238-5ea0dc3f4e7e",
   "metadata": {},
   "source": [
    "## Prerequisites\n",
    "First, load the options chain dataset using the `MyOptionsChainDataSet()` function. This function returns the pricing data as a [Julia Dictionary type](https://docs.julialang.org/en/v1/base/collections/#Dictionaries) with `keys` holding the number of days to expiration `DTE::Int64` and `values` being a [Vector](https://docs.julialang.org/en/v1/base/arrays/#Base.Vector-Tuple{UndefInitializer,%20Any}) of multilevel dictionaries. We'll store the options contract price data in the `dataset` variable.\n",
    "* In this example, we'll use options pricing data for [Advanced Micro Devices](https://finance.yahoo.com/quote/AMD/) as the underlying asset; [Advanced Micro Devices](https://finance.yahoo.com/quote/AMD/) has the ticker symbol `AMD.` The `dataset` variable holds pricing information for `call` and `put` contracts. Each contract has a different strike price. In addition to the contract price, there is additional information about the underlying asset and contract. \n",
    "* For any given `DTE` key, the price data is organized as a `Vector{Dict{String, Any}},` where each element in the vector is a dictionary with the `keys`: `day`, `details`,`last_quote`,`last_trade`,`underlying_asset`,`open_interest` and `break_even_price.` Each key (except for the `open_interest` and `break_even_price` keys) points to another dictionary."
   ]
  },
  {
   "cell_type": "code",
   "execution_count": 2,
   "id": "901ddcb2-0203-432f-bca5-4041046bdb64",
   "metadata": {},
   "outputs": [
    {
     "data": {
      "text/plain": [
       "Dict{Int64, Vector{Dict{String, Any}}} with 15 entries:\n",
       "  123 => [Dict(\"day\"=>Dict{String, Any}(\"change\"=>0, \"high\"=>79.1, \"change_perc…\n",
       "  60  => [Dict(\"day\"=>Dict{String, Any}(\"change\"=>0, \"high\"=>73, \"change_percen…\n",
       "  32  => [Dict(\"day\"=>Dict{String, Any}(\"change\"=>0, \"high\"=>76.7, \"change_perc…\n",
       "  11  => [Dict(\"day\"=>Dict{String, Any}(\"change\"=>0, \"high\"=>59.05, \"change_per…\n",
       "  368 => [Dict(\"day\"=>Dict{String, Any}(\"change\"=>0, \"high\"=>81.1, \"change_perc…\n",
       "  578 => [Dict(\"day\"=>Dict{String, Any}(), \"details\"=>Dict{String, Any}(\"contra…\n",
       "  214 => [Dict(\"day\"=>Dict{String, Any}(\"change\"=>0, \"high\"=>178.6, \"change_per…\n",
       "  732 => [Dict(\"day\"=>Dict{String, Any}(), \"details\"=>Dict{String, Any}(\"contra…\n",
       "  39  => [Dict(\"day\"=>Dict{String, Any}(), \"details\"=>Dict{String, Any}(\"contra…\n",
       "  914 => [Dict(\"day\"=>Dict{String, Any}(\"change\"=>0, \"high\"=>81.5, \"change_perc…\n",
       "  25  => [Dict(\"day\"=>Dict{String, Any}(), \"details\"=>Dict{String, Any}(\"contra…\n",
       "  151 => [Dict(\"day\"=>Dict{String, Any}(\"change\"=>0, \"high\"=>74.25, \"change_per…\n",
       "  4   => [Dict(\"day\"=>Dict{String, Any}(), \"details\"=>Dict{String, Any}(\"contra…\n",
       "  18  => [Dict(\"day\"=>Dict{String, Any}(\"change\"=>0, \"high\"=>57.1, \"change_perc…\n",
       "  88  => [Dict(\"day\"=>Dict{String, Any}(\"change\"=>0, \"high\"=>77, \"change_percen…"
      ]
     },
     "execution_count": 2,
     "metadata": {},
     "output_type": "execute_result"
    }
   ],
   "source": [
    "dataset = MyOptionsChainDataSet()"
   ]
  },
  {
   "cell_type": "markdown",
   "id": "07314c3f-0ab8-4255-b6a2-d791761ca7a5",
   "metadata": {},
   "source": [
    "For example, we can access the first contract with `DTE = 39 days` to expiration by first passing in the `DTE` key value, followed by the index `1`, i.e., `dataset[39][1]`:"
   ]
  },
  {
   "cell_type": "code",
   "execution_count": 3,
   "id": "f4787ac9-dbad-4a9c-9db7-fb59c2cab5b7",
   "metadata": {},
   "outputs": [],
   "source": [
    "dataset[39];"
   ]
  },
  {
   "cell_type": "markdown",
   "id": "104849c8-b23e-471a-982d-1aff79e0a01f",
   "metadata": {},
   "source": [
    "__Details__: To access the `details` field for the `(DTE, index) = (39,1)` contract (which corresponds to a `put` contract with a strike price of `K = 185.0` USD/share, we can append the `details` key (or any other of the sub-keys) to the end of the dataset call, i.e., `dataset[39][1][\"details\"]`:"
   ]
  },
  {
   "cell_type": "code",
   "execution_count": 4,
   "id": "ea26b444-9ee8-4d71-8398-01f52bf80435",
   "metadata": {},
   "outputs": [
    {
     "data": {
      "text/plain": [
       "Dict{String, Any} with 6 entries:\n",
       "  \"contract_type\"       => \"put\"\n",
       "  \"ticker\"              => \"O:AMD230728P00185000\"\n",
       "  \"strike_price\"        => 185\n",
       "  \"exercise_style\"      => \"american\"\n",
       "  \"expiration_date\"     => \"2023-07-28\"\n",
       "  \"shares_per_contract\" => 100"
      ]
     },
     "execution_count": 4,
     "metadata": {},
     "output_type": "execute_result"
    }
   ],
   "source": [
    "dataset[39][1][\"details\"]"
   ]
  },
  {
   "cell_type": "markdown",
   "id": "b4e2440f-0928-466f-9b43-d34b5f9bbcad",
   "metadata": {},
   "source": [
    "__Quote__: To access the `last_quote` field for the `(DTE, index) = (39,1)` contract (which corresponds to a `put` contract with a strike price of `K = 185.0` USD/share), we can append the `last_quote` key (or any other of the sub-keys) to the end of the dataset call, i.e., `dataset[39][1][\"last_quote\"]`:"
   ]
  },
  {
   "cell_type": "code",
   "execution_count": 5,
   "id": "0ef695db-a81a-4140-b1a9-af9cab823f85",
   "metadata": {},
   "outputs": [
    {
     "data": {
      "text/plain": [
       "Dict{String, Any} with 7 entries:\n",
       "  \"midpoint\"     => 64.175\n",
       "  \"ask\"          => 65.65\n",
       "  \"timeframe\"    => \"REAL-TIME\"\n",
       "  \"bid_size\"     => 10\n",
       "  \"ask_size\"     => 1\n",
       "  \"bid\"          => 62.7\n",
       "  \"last_updated\" => 1686945598063236608"
      ]
     },
     "execution_count": 5,
     "metadata": {},
     "output_type": "execute_result"
    }
   ],
   "source": [
    "dataset[39][1][\"last_quote\"]"
   ]
  },
  {
   "cell_type": "markdown",
   "id": "a9003b0a-6590-4406-9aef-af860a0816bf",
   "metadata": {},
   "source": [
    "__Underlying__: To access the `underlying_asset` field for the `(DTE, index) = (39,1)` contract (which corresponds to a `put` contract with a strike price of `K = 185.0` USD/share), we can append the `underlying_asset` key (or any other of the sub-keys) to the end of the dataset call, i.e., `dataset[39][1][\"underlying_asset\"]`:"
   ]
  },
  {
   "cell_type": "code",
   "execution_count": 6,
   "id": "6f611228-8d2f-4fbc-ad90-588f962eba48",
   "metadata": {},
   "outputs": [
    {
     "data": {
      "text/plain": [
       "Dict{String, Any} with 5 entries:\n",
       "  \"timeframe\"            => \"REAL-TIME\"\n",
       "  \"ticker\"               => \"AMD\"\n",
       "  \"price\"                => 119.62\n",
       "  \"change_to_break_even\" => 1.205\n",
       "  \"last_updated\"         => 1686959999095781050"
      ]
     },
     "execution_count": 6,
     "metadata": {},
     "output_type": "execute_result"
    }
   ],
   "source": [
    "dataset[39][1][\"underlying_asset\"]"
   ]
  },
  {
   "cell_type": "markdown",
   "id": "6252bd3f-6dce-4cd8-9be3-c259048a4ae1",
   "metadata": {},
   "source": [
    "## Task 1: Visualize the trends in the `AMD` options dataset"
   ]
  },
  {
   "cell_type": "code",
   "execution_count": 7,
   "id": "8603d960-8aa8-45a9-b63a-8ca48cf947a5",
   "metadata": {},
   "outputs": [
    {
     "data": {
      "text/plain": [
       "Dict{String, Any} with 6 entries:\n",
       "  \"contract_type\"       => \"put\"\n",
       "  \"ticker\"              => \"O:AMD230630P00162500\"\n",
       "  \"strike_price\"        => 162.5\n",
       "  \"exercise_style\"      => \"american\"\n",
       "  \"expiration_date\"     => \"2023-06-30\"\n",
       "  \"shares_per_contract\" => 100"
      ]
     },
     "execution_count": 7,
     "metadata": {},
     "output_type": "execute_result"
    }
   ],
   "source": [
    "dataset[11][10][\"details\"]"
   ]
  },
  {
   "cell_type": "code",
   "execution_count": 8,
   "id": "29f4ce96-cec7-41c5-9ef5-2d64348a7d2a",
   "metadata": {},
   "outputs": [],
   "source": [
    "dataframe_0 = search(dataset, 11, (record::Dict{String, Any}) -> begin\n",
    "\n",
    "        # initialize -\n",
    "        should_keep_record = false;\n",
    "        if (record[\"details\"][\"contract_type\"] == \"put\")\n",
    "            should_keep_record = true\n",
    "        end;\n",
    "            \n",
    "        # return -\n",
    "        return should_keep_record;\n",
    "    end\n",
    ");"
   ]
  },
  {
   "cell_type": "code",
   "execution_count": 9,
   "id": "fa1fa886-21a5-474b-8d59-bb922812b45a",
   "metadata": {},
   "outputs": [],
   "source": [
    "dataframe_1 = search(dataset,32, (record::Dict{String, Any}) -> begin\n",
    "\n",
    "        # initialize -\n",
    "        should_keep_record = false;\n",
    "\n",
    "        if (record[\"details\"][\"contract_type\"] == \"put\")\n",
    "            should_keep_record = true\n",
    "        end;\n",
    "            \n",
    "        # return -\n",
    "        return should_keep_record;\n",
    "    end\n",
    ");"
   ]
  },
  {
   "cell_type": "code",
   "execution_count": 10,
   "id": "2127347e-df14-40c3-9063-e89d40d5a7da",
   "metadata": {},
   "outputs": [],
   "source": [
    "dataframe_2 = search(dataset,60, (record::Dict{String, Any}) -> begin\n",
    "\n",
    "        # initialize -\n",
    "        should_keep_record = false;\n",
    "\n",
    "        if (record[\"details\"][\"contract_type\"] == \"put\")\n",
    "            should_keep_record = true\n",
    "        end;\n",
    "            \n",
    "        # return -\n",
    "        return should_keep_record;\n",
    "    end\n",
    ");"
   ]
  },
  {
   "cell_type": "code",
   "execution_count": 11,
   "id": "51dac555-dbfa-4638-9fc6-e00759c8ac18",
   "metadata": {},
   "outputs": [],
   "source": [
    "dataframe_3 = search(dataset, 123, (record::Dict{String, Any}) -> begin\n",
    "\n",
    "        # initialize -\n",
    "        should_keep_record = false;\n",
    "\n",
    "        if (record[\"details\"][\"contract_type\"] == \"put\")\n",
    "            should_keep_record = true\n",
    "        end;\n",
    "            \n",
    "        # return -\n",
    "        return should_keep_record;\n",
    "    end\n",
    ");"
   ]
  },
  {
   "cell_type": "code",
   "execution_count": 12,
   "id": "3b14ec42-57dc-4843-bde2-b011e692e675",
   "metadata": {},
   "outputs": [
    {
     "data": {
      "text/html": [
       "<div><div style = \"float: left;\"><span>34×6 DataFrame</span></div><div style = \"float: right;\"><span style = \"font-style: italic;\">9 rows omitted</span></div><div style = \"clear: both;\"></div></div><div class = \"data-frame\" style = \"overflow-x: scroll;\"><table class = \"data-frame\" style = \"margin-bottom: 6px;\"><thead><tr class = \"header\"><th class = \"rowNumber\" style = \"font-weight: bold; text-align: right;\">Row</th><th style = \"text-align: left;\">underlying</th><th style = \"text-align: left;\">strike</th><th style = \"text-align: left;\">type</th><th style = \"text-align: left;\">bid</th><th style = \"text-align: left;\">ask</th><th style = \"text-align: left;\">midpoint</th></tr><tr class = \"subheader headerLastRow\"><th class = \"rowNumber\" style = \"font-weight: bold; text-align: right;\"></th><th title = \"Float64\" style = \"text-align: left;\">Float64</th><th title = \"Float64\" style = \"text-align: left;\">Float64</th><th title = \"String\" style = \"text-align: left;\">String</th><th title = \"Float64\" style = \"text-align: left;\">Float64</th><th title = \"Float64\" style = \"text-align: left;\">Float64</th><th title = \"Float64\" style = \"text-align: left;\">Float64</th></tr></thead><tbody><tr><td class = \"rowNumber\" style = \"font-weight: bold; text-align: right;\">1</td><td style = \"text-align: right;\">119.62</td><td style = \"text-align: right;\">200.0</td><td style = \"text-align: left;\">put</td><td style = \"text-align: right;\">77.9</td><td style = \"text-align: right;\">80.65</td><td style = \"text-align: right;\">79.275</td></tr><tr><td class = \"rowNumber\" style = \"font-weight: bold; text-align: right;\">2</td><td style = \"text-align: right;\">119.62</td><td style = \"text-align: right;\">195.0</td><td style = \"text-align: left;\">put</td><td style = \"text-align: right;\">72.9</td><td style = \"text-align: right;\">75.65</td><td style = \"text-align: right;\">74.275</td></tr><tr><td class = \"rowNumber\" style = \"font-weight: bold; text-align: right;\">3</td><td style = \"text-align: right;\">119.62</td><td style = \"text-align: right;\">190.0</td><td style = \"text-align: left;\">put</td><td style = \"text-align: right;\">69.3</td><td style = \"text-align: right;\">70.5</td><td style = \"text-align: right;\">69.9</td></tr><tr><td class = \"rowNumber\" style = \"font-weight: bold; text-align: right;\">4</td><td style = \"text-align: right;\">119.62</td><td style = \"text-align: right;\">185.0</td><td style = \"text-align: left;\">put</td><td style = \"text-align: right;\">64.35</td><td style = \"text-align: right;\">65.55</td><td style = \"text-align: right;\">64.95</td></tr><tr><td class = \"rowNumber\" style = \"font-weight: bold; text-align: right;\">5</td><td style = \"text-align: right;\">119.62</td><td style = \"text-align: right;\">180.0</td><td style = \"text-align: left;\">put</td><td style = \"text-align: right;\">59.15</td><td style = \"text-align: right;\">60.65</td><td style = \"text-align: right;\">59.9</td></tr><tr><td class = \"rowNumber\" style = \"font-weight: bold; text-align: right;\">6</td><td style = \"text-align: right;\">119.62</td><td style = \"text-align: right;\">175.0</td><td style = \"text-align: left;\">put</td><td style = \"text-align: right;\">54.35</td><td style = \"text-align: right;\">55.65</td><td style = \"text-align: right;\">55.0</td></tr><tr><td class = \"rowNumber\" style = \"font-weight: bold; text-align: right;\">7</td><td style = \"text-align: right;\">119.62</td><td style = \"text-align: right;\">170.0</td><td style = \"text-align: left;\">put</td><td style = \"text-align: right;\">49.3</td><td style = \"text-align: right;\">50.5</td><td style = \"text-align: right;\">49.9</td></tr><tr><td class = \"rowNumber\" style = \"font-weight: bold; text-align: right;\">8</td><td style = \"text-align: right;\">119.62</td><td style = \"text-align: right;\">165.0</td><td style = \"text-align: left;\">put</td><td style = \"text-align: right;\">44.2</td><td style = \"text-align: right;\">45.55</td><td style = \"text-align: right;\">44.875</td></tr><tr><td class = \"rowNumber\" style = \"font-weight: bold; text-align: right;\">9</td><td style = \"text-align: right;\">119.62</td><td style = \"text-align: right;\">160.0</td><td style = \"text-align: left;\">put</td><td style = \"text-align: right;\">39.45</td><td style = \"text-align: right;\">40.65</td><td style = \"text-align: right;\">40.05</td></tr><tr><td class = \"rowNumber\" style = \"font-weight: bold; text-align: right;\">10</td><td style = \"text-align: right;\">119.62</td><td style = \"text-align: right;\">155.0</td><td style = \"text-align: left;\">put</td><td style = \"text-align: right;\">34.55</td><td style = \"text-align: right;\">35.75</td><td style = \"text-align: right;\">35.15</td></tr><tr><td class = \"rowNumber\" style = \"font-weight: bold; text-align: right;\">11</td><td style = \"text-align: right;\">119.62</td><td style = \"text-align: right;\">150.0</td><td style = \"text-align: left;\">put</td><td style = \"text-align: right;\">30.05</td><td style = \"text-align: right;\">30.8</td><td style = \"text-align: right;\">30.425</td></tr><tr><td class = \"rowNumber\" style = \"font-weight: bold; text-align: right;\">12</td><td style = \"text-align: right;\">119.62</td><td style = \"text-align: right;\">145.0</td><td style = \"text-align: left;\">put</td><td style = \"text-align: right;\">25.45</td><td style = \"text-align: right;\">26.2</td><td style = \"text-align: right;\">25.825</td></tr><tr><td class = \"rowNumber\" style = \"font-weight: bold; text-align: right;\">13</td><td style = \"text-align: right;\">119.62</td><td style = \"text-align: right;\">140.0</td><td style = \"text-align: left;\">put</td><td style = \"text-align: right;\">20.85</td><td style = \"text-align: right;\">21.35</td><td style = \"text-align: right;\">21.1</td></tr><tr><td style = \"text-align: right;\">&vellip;</td><td style = \"text-align: right;\">&vellip;</td><td style = \"text-align: right;\">&vellip;</td><td style = \"text-align: right;\">&vellip;</td><td style = \"text-align: right;\">&vellip;</td><td style = \"text-align: right;\">&vellip;</td><td style = \"text-align: right;\">&vellip;</td></tr><tr><td class = \"rowNumber\" style = \"font-weight: bold; text-align: right;\">23</td><td style = \"text-align: right;\">119.62</td><td style = \"text-align: right;\">90.0</td><td style = \"text-align: left;\">put</td><td style = \"text-align: right;\">0.22</td><td style = \"text-align: right;\">0.24</td><td style = \"text-align: right;\">0.23</td></tr><tr><td class = \"rowNumber\" style = \"font-weight: bold; text-align: right;\">24</td><td style = \"text-align: right;\">119.62</td><td style = \"text-align: right;\">85.0</td><td style = \"text-align: left;\">put</td><td style = \"text-align: right;\">0.13</td><td style = \"text-align: right;\">0.15</td><td style = \"text-align: right;\">0.14</td></tr><tr><td class = \"rowNumber\" style = \"font-weight: bold; text-align: right;\">25</td><td style = \"text-align: right;\">119.62</td><td style = \"text-align: right;\">80.0</td><td style = \"text-align: left;\">put</td><td style = \"text-align: right;\">0.08</td><td style = \"text-align: right;\">0.1</td><td style = \"text-align: right;\">0.09</td></tr><tr><td class = \"rowNumber\" style = \"font-weight: bold; text-align: right;\">26</td><td style = \"text-align: right;\">119.62</td><td style = \"text-align: right;\">75.0</td><td style = \"text-align: left;\">put</td><td style = \"text-align: right;\">0.05</td><td style = \"text-align: right;\">0.07</td><td style = \"text-align: right;\">0.06</td></tr><tr><td class = \"rowNumber\" style = \"font-weight: bold; text-align: right;\">27</td><td style = \"text-align: right;\">119.62</td><td style = \"text-align: right;\">70.0</td><td style = \"text-align: left;\">put</td><td style = \"text-align: right;\">0.03</td><td style = \"text-align: right;\">0.05</td><td style = \"text-align: right;\">0.04</td></tr><tr><td class = \"rowNumber\" style = \"font-weight: bold; text-align: right;\">28</td><td style = \"text-align: right;\">119.62</td><td style = \"text-align: right;\">65.0</td><td style = \"text-align: left;\">put</td><td style = \"text-align: right;\">0.02</td><td style = \"text-align: right;\">0.03</td><td style = \"text-align: right;\">0.025</td></tr><tr><td class = \"rowNumber\" style = \"font-weight: bold; text-align: right;\">29</td><td style = \"text-align: right;\">119.62</td><td style = \"text-align: right;\">60.0</td><td style = \"text-align: left;\">put</td><td style = \"text-align: right;\">0.01</td><td style = \"text-align: right;\">0.03</td><td style = \"text-align: right;\">0.02</td></tr><tr><td class = \"rowNumber\" style = \"font-weight: bold; text-align: right;\">30</td><td style = \"text-align: right;\">119.62</td><td style = \"text-align: right;\">55.0</td><td style = \"text-align: left;\">put</td><td style = \"text-align: right;\">0.01</td><td style = \"text-align: right;\">0.02</td><td style = \"text-align: right;\">0.015</td></tr><tr><td class = \"rowNumber\" style = \"font-weight: bold; text-align: right;\">31</td><td style = \"text-align: right;\">119.62</td><td style = \"text-align: right;\">50.0</td><td style = \"text-align: left;\">put</td><td style = \"text-align: right;\">0.0</td><td style = \"text-align: right;\">0.02</td><td style = \"text-align: right;\">0.01</td></tr><tr><td class = \"rowNumber\" style = \"font-weight: bold; text-align: right;\">32</td><td style = \"text-align: right;\">119.62</td><td style = \"text-align: right;\">45.0</td><td style = \"text-align: left;\">put</td><td style = \"text-align: right;\">0.0</td><td style = \"text-align: right;\">0.01</td><td style = \"text-align: right;\">0.005</td></tr><tr><td class = \"rowNumber\" style = \"font-weight: bold; text-align: right;\">33</td><td style = \"text-align: right;\">119.62</td><td style = \"text-align: right;\">40.0</td><td style = \"text-align: left;\">put</td><td style = \"text-align: right;\">0.0</td><td style = \"text-align: right;\">0.01</td><td style = \"text-align: right;\">0.005</td></tr><tr><td class = \"rowNumber\" style = \"font-weight: bold; text-align: right;\">34</td><td style = \"text-align: right;\">119.62</td><td style = \"text-align: right;\">35.0</td><td style = \"text-align: left;\">put</td><td style = \"text-align: right;\">0.01</td><td style = \"text-align: right;\">0.02</td><td style = \"text-align: right;\">0.015</td></tr></tbody></table></div>"
      ],
      "text/latex": [
       "\\begin{tabular}{r|cccccc}\n",
       "\t& underlying & strike & type & bid & ask & midpoint\\\\\n",
       "\t\\hline\n",
       "\t& Float64 & Float64 & String & Float64 & Float64 & Float64\\\\\n",
       "\t\\hline\n",
       "\t1 & 119.62 & 200.0 & put & 77.9 & 80.65 & 79.275 \\\\\n",
       "\t2 & 119.62 & 195.0 & put & 72.9 & 75.65 & 74.275 \\\\\n",
       "\t3 & 119.62 & 190.0 & put & 69.3 & 70.5 & 69.9 \\\\\n",
       "\t4 & 119.62 & 185.0 & put & 64.35 & 65.55 & 64.95 \\\\\n",
       "\t5 & 119.62 & 180.0 & put & 59.15 & 60.65 & 59.9 \\\\\n",
       "\t6 & 119.62 & 175.0 & put & 54.35 & 55.65 & 55.0 \\\\\n",
       "\t7 & 119.62 & 170.0 & put & 49.3 & 50.5 & 49.9 \\\\\n",
       "\t8 & 119.62 & 165.0 & put & 44.2 & 45.55 & 44.875 \\\\\n",
       "\t9 & 119.62 & 160.0 & put & 39.45 & 40.65 & 40.05 \\\\\n",
       "\t10 & 119.62 & 155.0 & put & 34.55 & 35.75 & 35.15 \\\\\n",
       "\t11 & 119.62 & 150.0 & put & 30.05 & 30.8 & 30.425 \\\\\n",
       "\t12 & 119.62 & 145.0 & put & 25.45 & 26.2 & 25.825 \\\\\n",
       "\t13 & 119.62 & 140.0 & put & 20.85 & 21.35 & 21.1 \\\\\n",
       "\t14 & 119.62 & 135.0 & put & 16.5 & 16.85 & 16.675 \\\\\n",
       "\t15 & 119.62 & 130.0 & put & 12.55 & 12.8 & 12.675 \\\\\n",
       "\t16 & 119.62 & 125.0 & put & 9.05 & 9.2 & 9.125 \\\\\n",
       "\t17 & 119.62 & 120.0 & put & 6.15 & 6.25 & 6.2 \\\\\n",
       "\t18 & 119.62 & 115.0 & put & 3.85 & 3.95 & 3.9 \\\\\n",
       "\t19 & 119.62 & 110.0 & put & 2.23 & 2.34 & 2.285 \\\\\n",
       "\t20 & 119.62 & 105.0 & put & 1.3 & 1.34 & 1.32 \\\\\n",
       "\t21 & 119.62 & 100.0 & put & 0.71 & 0.74 & 0.725 \\\\\n",
       "\t22 & 119.62 & 95.0 & put & 0.38 & 0.4 & 0.39 \\\\\n",
       "\t23 & 119.62 & 90.0 & put & 0.22 & 0.24 & 0.23 \\\\\n",
       "\t24 & 119.62 & 85.0 & put & 0.13 & 0.15 & 0.14 \\\\\n",
       "\t25 & 119.62 & 80.0 & put & 0.08 & 0.1 & 0.09 \\\\\n",
       "\t26 & 119.62 & 75.0 & put & 0.05 & 0.07 & 0.06 \\\\\n",
       "\t27 & 119.62 & 70.0 & put & 0.03 & 0.05 & 0.04 \\\\\n",
       "\t28 & 119.62 & 65.0 & put & 0.02 & 0.03 & 0.025 \\\\\n",
       "\t29 & 119.62 & 60.0 & put & 0.01 & 0.03 & 0.02 \\\\\n",
       "\t30 & 119.62 & 55.0 & put & 0.01 & 0.02 & 0.015 \\\\\n",
       "\t$\\dots$ & $\\dots$ & $\\dots$ & $\\dots$ & $\\dots$ & $\\dots$ & $\\dots$ \\\\\n",
       "\\end{tabular}\n"
      ],
      "text/plain": [
       "\u001b[1m34×6 DataFrame\u001b[0m\n",
       "\u001b[1m Row \u001b[0m│\u001b[1m underlying \u001b[0m\u001b[1m strike  \u001b[0m\u001b[1m type   \u001b[0m\u001b[1m bid     \u001b[0m\u001b[1m ask     \u001b[0m\u001b[1m midpoint \u001b[0m\n",
       "     │\u001b[90m Float64    \u001b[0m\u001b[90m Float64 \u001b[0m\u001b[90m String \u001b[0m\u001b[90m Float64 \u001b[0m\u001b[90m Float64 \u001b[0m\u001b[90m Float64  \u001b[0m\n",
       "─────┼─────────────────────────────────────────────────────────\n",
       "   1 │     119.62    200.0  put       77.9     80.65    79.275\n",
       "   2 │     119.62    195.0  put       72.9     75.65    74.275\n",
       "   3 │     119.62    190.0  put       69.3     70.5     69.9\n",
       "   4 │     119.62    185.0  put       64.35    65.55    64.95\n",
       "   5 │     119.62    180.0  put       59.15    60.65    59.9\n",
       "   6 │     119.62    175.0  put       54.35    55.65    55.0\n",
       "   7 │     119.62    170.0  put       49.3     50.5     49.9\n",
       "   8 │     119.62    165.0  put       44.2     45.55    44.875\n",
       "   9 │     119.62    160.0  put       39.45    40.65    40.05\n",
       "  10 │     119.62    155.0  put       34.55    35.75    35.15\n",
       "  11 │     119.62    150.0  put       30.05    30.8     30.425\n",
       "  ⋮  │     ⋮          ⋮       ⋮        ⋮        ⋮        ⋮\n",
       "  25 │     119.62     80.0  put        0.08     0.1      0.09\n",
       "  26 │     119.62     75.0  put        0.05     0.07     0.06\n",
       "  27 │     119.62     70.0  put        0.03     0.05     0.04\n",
       "  28 │     119.62     65.0  put        0.02     0.03     0.025\n",
       "  29 │     119.62     60.0  put        0.01     0.03     0.02\n",
       "  30 │     119.62     55.0  put        0.01     0.02     0.015\n",
       "  31 │     119.62     50.0  put        0.0      0.02     0.01\n",
       "  32 │     119.62     45.0  put        0.0      0.01     0.005\n",
       "  33 │     119.62     40.0  put        0.0      0.01     0.005\n",
       "  34 │     119.62     35.0  put        0.01     0.02     0.015\n",
       "\u001b[36m                                                13 rows omitted\u001b[0m"
      ]
     },
     "execution_count": 12,
     "metadata": {},
     "output_type": "execute_result"
    }
   ],
   "source": [
    "dataframe_1"
   ]
  },
  {
   "cell_type": "code",
   "execution_count": 15,
   "id": "969f7314-e503-4997-90b0-65f218659842",
   "metadata": {},
   "outputs": [
    {
     "data": {
      "image/png": "[encoded data removed]",
      "image/svg+xml": [
       "<?xml version=\"1.0\" encoding=\"utf-8\"?>\n",
       "<svg xmlns=\"http://www.w3.org/2000/svg\" xmlns:xlink=\"http://www.w3.org/1999/xlink\" width=\"600\" height=\"400\" viewBox=\"0 0 2400 1600\">\n",
       "<defs>\n",
       "  <clipPath id=\"clip270\">\n",
       "    <rect x=\"0\" y=\"0\" width=\"2400\" height=\"1600\"/>\n",
       "  </clipPath>\n",
       "</defs>\n",
       "<path clip-path=\"url(#clip270)\" d=\"M0 1600 L2400 1600 L2400 8.88178e-14 L0 8.88178e-14  Z\" fill=\"#ffffff\" fill-rule=\"evenodd\" fill-opacity=\"1\"/>\n",
       "<defs>\n",
       "  <clipPath id=\"clip271\">\n",
       "    <rect x=\"480\" y=\"0\" width=\"1681\" height=\"1600\"/>\n",
       "  </clipPath>\n",
       "</defs>\n",
       "<path clip-path=\"url(#clip270)\" d=\"M141.853 1486.45 L2352.76 1486.45 L2352.76 47.2441 L141.853 47.2441  Z\" fill=\"#ffffff\" fill-rule=\"evenodd\" fill-opacity=\"1\"/>\n",
       "<defs>\n",
       "  <clipPath id=\"clip272\">\n",
       "    <rect x=\"141\" y=\"47\" width=\"2212\" height=\"1440\"/>\n",
       "  </clipPath>\n",
       "</defs>\n",
       "<polyline clip-path=\"url(#clip272)\" style=\"stroke:#000000; stroke-linecap:round; stroke-linejoin:round; stroke-width:2; stroke-opacity:0.1; fill:none\" points=\"502.391,1486.45 502.391,47.2441 \"/>\n",
       "<polyline clip-path=\"url(#clip272)\" style=\"stroke:#000000; stroke-linecap:round; stroke-linejoin:round; stroke-width:2; stroke-opacity:0.1; fill:none\" points=\"1098.32,1486.45 1098.32,47.2441 \"/>\n",
       "<polyline clip-path=\"url(#clip272)\" style=\"stroke:#000000; stroke-linecap:round; stroke-linejoin:round; stroke-width:2; stroke-opacity:0.1; fill:none\" points=\"1694.25,1486.45 1694.25,47.2441 \"/>\n",
       "<polyline clip-path=\"url(#clip272)\" style=\"stroke:#000000; stroke-linecap:round; stroke-linejoin:round; stroke-width:2; stroke-opacity:0.1; fill:none\" points=\"2290.18,1486.45 2290.18,47.2441 \"/>\n",
       "<polyline clip-path=\"url(#clip270)\" style=\"stroke:#000000; stroke-linecap:round; stroke-linejoin:round; stroke-width:4; stroke-opacity:1; fill:none\" points=\"141.853,1486.45 2352.76,1486.45 \"/>\n",
       "<polyline clip-path=\"url(#clip270)\" style=\"stroke:#000000; stroke-linecap:round; stroke-linejoin:round; stroke-width:4; stroke-opacity:1; fill:none\" points=\"502.391,1486.45 502.391,1467.55 \"/>\n",
       "<polyline clip-path=\"url(#clip270)\" style=\"stroke:#000000; stroke-linecap:round; stroke-linejoin:round; stroke-width:4; stroke-opacity:1; fill:none\" points=\"1098.32,1486.45 1098.32,1467.55 \"/>\n",
       "<polyline clip-path=\"url(#clip270)\" style=\"stroke:#000000; stroke-linecap:round; stroke-linejoin:round; stroke-width:4; stroke-opacity:1; fill:none\" points=\"1694.25,1486.45 1694.25,1467.55 \"/>\n",
       "<polyline clip-path=\"url(#clip270)\" style=\"stroke:#000000; stroke-linecap:round; stroke-linejoin:round; stroke-width:4; stroke-opacity:1; fill:none\" points=\"2290.18,1486.45 2290.18,1467.55 \"/>\n",
       "<path clip-path=\"url(#clip270)\" d=\"M477.09 1514.29 L495.447 1514.29 L495.447 1518.22 L481.373 1518.22 L481.373 1526.7 Q482.391 1526.35 483.41 1526.19 Q484.428 1526 485.447 1526 Q491.234 1526 494.613 1529.17 Q497.993 1532.34 497.993 1537.76 Q497.993 1543.34 494.521 1546.44 Q491.048 1549.52 484.729 1549.52 Q482.553 1549.52 480.285 1549.15 Q478.039 1548.78 475.632 1548.04 L475.632 1543.34 Q477.715 1544.47 479.937 1545.03 Q482.16 1545.58 484.636 1545.58 Q488.641 1545.58 490.979 1543.48 Q493.317 1541.37 493.317 1537.76 Q493.317 1534.15 490.979 1532.04 Q488.641 1529.94 484.636 1529.94 Q482.762 1529.94 480.887 1530.35 Q479.035 1530.77 477.09 1531.65 L477.09 1514.29 Z\" fill=\"#000000\" fill-rule=\"nonzero\" fill-opacity=\"1\" /><path clip-path=\"url(#clip270)\" d=\"M517.206 1517.37 Q513.595 1517.37 511.766 1520.93 Q509.96 1524.47 509.96 1531.6 Q509.96 1538.71 511.766 1542.27 Q513.595 1545.82 517.206 1545.82 Q520.84 1545.82 522.646 1542.27 Q524.474 1538.71 524.474 1531.6 Q524.474 1524.47 522.646 1520.93 Q520.84 1517.37 517.206 1517.37 M517.206 1513.66 Q523.016 1513.66 526.071 1518.27 Q529.15 1522.85 529.15 1531.6 Q529.15 1540.33 526.071 1544.94 Q523.016 1549.52 517.206 1549.52 Q511.396 1549.52 508.317 1544.94 Q505.261 1540.33 505.261 1531.6 Q505.261 1522.85 508.317 1518.27 Q511.396 1513.66 517.206 1513.66 Z\" fill=\"#000000\" fill-rule=\"nonzero\" fill-opacity=\"1\" /><path clip-path=\"url(#clip270)\" d=\"M1057.93 1544.91 L1065.57 1544.91 L1065.57 1518.55 L1057.26 1520.21 L1057.26 1515.95 L1065.52 1514.29 L1070.2 1514.29 L1070.2 1544.91 L1077.84 1544.91 L1077.84 1548.85 L1057.93 1548.85 L1057.93 1544.91 Z\" fill=\"#000000\" fill-rule=\"nonzero\" fill-opacity=\"1\" /><path clip-path=\"url(#clip270)\" d=\"M1097.28 1517.37 Q1093.67 1517.37 1091.84 1520.93 Q1090.03 1524.47 1090.03 1531.6 Q1090.03 1538.71 1091.84 1542.27 Q1093.67 1545.82 1097.28 1545.82 Q1100.91 1545.82 1102.72 1542.27 Q1104.55 1538.71 1104.55 1531.6 Q1104.55 1524.47 1102.72 1520.93 Q1100.91 1517.37 1097.28 1517.37 M1097.28 1513.66 Q1103.09 1513.66 1106.15 1518.27 Q1109.22 1522.85 1109.22 1531.6 Q1109.22 1540.33 1106.15 1544.94 Q1103.09 1549.52 1097.28 1549.52 Q1091.47 1549.52 1088.39 1544.94 Q1085.34 1540.33 1085.34 1531.6 Q1085.34 1522.85 1088.39 1518.27 Q1091.47 1513.66 1097.28 1513.66 Z\" fill=\"#000000\" fill-rule=\"nonzero\" fill-opacity=\"1\" /><path clip-path=\"url(#clip270)\" d=\"M1127.44 1517.37 Q1123.83 1517.37 1122 1520.93 Q1120.2 1524.47 1120.2 1531.6 Q1120.2 1538.71 1122 1542.27 Q1123.83 1545.82 1127.44 1545.82 Q1131.08 1545.82 1132.88 1542.27 Q1134.71 1538.71 1134.71 1531.6 Q1134.71 1524.47 1132.88 1520.93 Q1131.08 1517.37 1127.44 1517.37 M1127.44 1513.66 Q1133.25 1513.66 1136.31 1518.27 Q1139.39 1522.85 1139.39 1531.6 Q1139.39 1540.33 1136.31 1544.94 Q1133.25 1549.52 1127.44 1549.52 Q1121.63 1549.52 1118.55 1544.94 Q1115.5 1540.33 1115.5 1531.6 Q1115.5 1522.85 1118.55 1518.27 Q1121.63 1513.66 1127.44 1513.66 Z\" fill=\"#000000\" fill-rule=\"nonzero\" fill-opacity=\"1\" /><path clip-path=\"url(#clip270)\" d=\"M1653.86 1544.91 L1661.5 1544.91 L1661.5 1518.55 L1653.19 1520.21 L1653.19 1515.95 L1661.45 1514.29 L1666.13 1514.29 L1666.13 1544.91 L1673.77 1544.91 L1673.77 1548.85 L1653.86 1548.85 L1653.86 1544.91 Z\" fill=\"#000000\" fill-rule=\"nonzero\" fill-opacity=\"1\" /><path clip-path=\"url(#clip270)\" d=\"M1683.26 1514.29 L1701.61 1514.29 L1701.61 1518.22 L1687.54 1518.22 L1687.54 1526.7 Q1688.56 1526.35 1689.58 1526.19 Q1690.6 1526 1691.61 1526 Q1697.4 1526 1700.78 1529.17 Q1704.16 1532.34 1704.16 1537.76 Q1704.16 1543.34 1700.69 1546.44 Q1697.22 1549.52 1690.9 1549.52 Q1688.72 1549.52 1686.45 1549.15 Q1684.21 1548.78 1681.8 1548.04 L1681.8 1543.34 Q1683.88 1544.47 1686.1 1545.03 Q1688.33 1545.58 1690.8 1545.58 Q1694.81 1545.58 1697.15 1543.48 Q1699.48 1541.37 1699.48 1537.76 Q1699.48 1534.15 1697.15 1532.04 Q1694.81 1529.94 1690.8 1529.94 Q1688.93 1529.94 1687.05 1530.35 Q1685.2 1530.77 1683.26 1531.65 L1683.26 1514.29 Z\" fill=\"#000000\" fill-rule=\"nonzero\" fill-opacity=\"1\" /><path clip-path=\"url(#clip270)\" d=\"M1723.37 1517.37 Q1719.76 1517.37 1717.93 1520.93 Q1716.13 1524.47 1716.13 1531.6 Q1716.13 1538.71 1717.93 1542.27 Q1719.76 1545.82 1723.37 1545.82 Q1727.01 1545.82 1728.81 1542.27 Q1730.64 1538.71 1730.64 1531.6 Q1730.64 1524.47 1728.81 1520.93 Q1727.01 1517.37 1723.37 1517.37 M1723.37 1513.66 Q1729.18 1513.66 1732.24 1518.27 Q1735.32 1522.85 1735.32 1531.6 Q1735.32 1540.33 1732.24 1544.94 Q1729.18 1549.52 1723.37 1549.52 Q1717.56 1549.52 1714.48 1544.94 Q1711.43 1540.33 1711.43 1531.6 Q1711.43 1522.85 1714.48 1518.27 Q1717.56 1513.66 1723.37 1513.66 Z\" fill=\"#000000\" fill-rule=\"nonzero\" fill-opacity=\"1\" /><path clip-path=\"url(#clip270)\" d=\"M2253.88 1544.91 L2270.19 1544.91 L2270.19 1548.85 L2248.25 1548.85 L2248.25 1544.91 Q2250.91 1542.16 2255.5 1537.53 Q2260.1 1532.88 2261.28 1531.53 Q2263.53 1529.01 2264.41 1527.27 Q2265.31 1525.51 2265.31 1523.82 Q2265.31 1521.07 2263.37 1519.33 Q2261.44 1517.6 2258.34 1517.6 Q2256.14 1517.6 2253.69 1518.36 Q2251.26 1519.13 2248.48 1520.68 L2248.48 1515.95 Q2251.31 1514.82 2253.76 1514.24 Q2256.21 1513.66 2258.25 1513.66 Q2263.62 1513.66 2266.82 1516.35 Q2270.01 1519.03 2270.01 1523.52 Q2270.01 1525.65 2269.2 1527.57 Q2268.41 1529.47 2266.31 1532.07 Q2265.73 1532.74 2262.63 1535.95 Q2259.52 1539.15 2253.88 1544.91 Z\" fill=\"#000000\" fill-rule=\"nonzero\" fill-opacity=\"1\" /><path clip-path=\"url(#clip270)\" d=\"M2290.01 1517.37 Q2286.4 1517.37 2284.57 1520.93 Q2282.76 1524.47 2282.76 1531.6 Q2282.76 1538.71 2284.57 1542.27 Q2286.4 1545.82 2290.01 1545.82 Q2293.64 1545.82 2295.45 1542.27 Q2297.28 1538.71 2297.28 1531.6 Q2297.28 1524.47 2295.45 1520.93 Q2293.64 1517.37 2290.01 1517.37 M2290.01 1513.66 Q2295.82 1513.66 2298.88 1518.27 Q2301.95 1522.85 2301.95 1531.6 Q2301.95 1540.33 2298.88 1544.94 Q2295.82 1549.52 2290.01 1549.52 Q2284.2 1549.52 2281.12 1544.94 Q2278.07 1540.33 2278.07 1531.6 Q2278.07 1522.85 2281.12 1518.27 Q2284.2 1513.66 2290.01 1513.66 Z\" fill=\"#000000\" fill-rule=\"nonzero\" fill-opacity=\"1\" /><path clip-path=\"url(#clip270)\" d=\"M2320.17 1517.37 Q2316.56 1517.37 2314.73 1520.93 Q2312.93 1524.47 2312.93 1531.6 Q2312.93 1538.71 2314.73 1542.27 Q2316.56 1545.82 2320.17 1545.82 Q2323.81 1545.82 2325.61 1542.27 Q2327.44 1538.71 2327.44 1531.6 Q2327.44 1524.47 2325.61 1520.93 Q2323.81 1517.37 2320.17 1517.37 M2320.17 1513.66 Q2325.98 1513.66 2329.04 1518.27 Q2332.12 1522.85 2332.12 1531.6 Q2332.12 1540.33 2329.04 1544.94 Q2325.98 1549.52 2320.17 1549.52 Q2314.36 1549.52 2311.28 1544.94 Q2308.23 1540.33 2308.23 1531.6 Q2308.23 1522.85 2311.28 1518.27 Q2314.36 1513.66 2320.17 1513.66 Z\" fill=\"#000000\" fill-rule=\"nonzero\" fill-opacity=\"1\" /><polyline clip-path=\"url(#clip272)\" style=\"stroke:#000000; stroke-linecap:round; stroke-linejoin:round; stroke-width:2; stroke-opacity:0.1; fill:none\" points=\"141.853,1445.8 2352.76,1445.8 \"/>\n",
       "<polyline clip-path=\"url(#clip272)\" style=\"stroke:#000000; stroke-linecap:round; stroke-linejoin:round; stroke-width:2; stroke-opacity:0.1; fill:none\" points=\"141.853,1103.35 2352.76,1103.35 \"/>\n",
       "<polyline clip-path=\"url(#clip272)\" style=\"stroke:#000000; stroke-linecap:round; stroke-linejoin:round; stroke-width:2; stroke-opacity:0.1; fill:none\" points=\"141.853,760.896 2352.76,760.896 \"/>\n",
       "<polyline clip-path=\"url(#clip272)\" style=\"stroke:#000000; stroke-linecap:round; stroke-linejoin:round; stroke-width:2; stroke-opacity:0.1; fill:none\" points=\"141.853,418.443 2352.76,418.443 \"/>\n",
       "<polyline clip-path=\"url(#clip272)\" style=\"stroke:#000000; stroke-linecap:round; stroke-linejoin:round; stroke-width:2; stroke-opacity:0.1; fill:none\" points=\"141.853,75.9904 2352.76,75.9904 \"/>\n",
       "<polyline clip-path=\"url(#clip270)\" style=\"stroke:#000000; stroke-linecap:round; stroke-linejoin:round; stroke-width:4; stroke-opacity:1; fill:none\" points=\"141.853,1486.45 141.853,47.2441 \"/>\n",
       "<polyline clip-path=\"url(#clip270)\" style=\"stroke:#000000; stroke-linecap:round; stroke-linejoin:round; stroke-width:4; stroke-opacity:1; fill:none\" points=\"141.853,1445.8 160.751,1445.8 \"/>\n",
       "<polyline clip-path=\"url(#clip270)\" style=\"stroke:#000000; stroke-linecap:round; stroke-linejoin:round; stroke-width:4; stroke-opacity:1; fill:none\" points=\"141.853,1103.35 160.751,1103.35 \"/>\n",
       "<polyline clip-path=\"url(#clip270)\" style=\"stroke:#000000; stroke-linecap:round; stroke-linejoin:round; stroke-width:4; stroke-opacity:1; fill:none\" points=\"141.853,760.896 160.751,760.896 \"/>\n",
       "<polyline clip-path=\"url(#clip270)\" style=\"stroke:#000000; stroke-linecap:round; stroke-linejoin:round; stroke-width:4; stroke-opacity:1; fill:none\" points=\"141.853,418.443 160.751,418.443 \"/>\n",
       "<polyline clip-path=\"url(#clip270)\" style=\"stroke:#000000; stroke-linecap:round; stroke-linejoin:round; stroke-width:4; stroke-opacity:1; fill:none\" points=\"141.853,75.9904 160.751,75.9904 \"/>\n",
       "<path clip-path=\"url(#clip270)\" d=\"M93.9086 1431.6 Q90.2975 1431.6 88.4688 1435.16 Q86.6632 1438.71 86.6632 1445.84 Q86.6632 1452.94 88.4688 1456.51 Q90.2975 1460.05 93.9086 1460.05 Q97.5428 1460.05 99.3483 1456.51 Q101.177 1452.94 101.177 1445.84 Q101.177 1438.71 99.3483 1435.16 Q97.5428 1431.6 93.9086 1431.6 M93.9086 1427.9 Q99.7187 1427.9 102.774 1432.5 Q105.853 1437.09 105.853 1445.84 Q105.853 1454.56 102.774 1459.17 Q99.7187 1463.75 93.9086 1463.75 Q88.0984 1463.75 85.0197 1459.17 Q81.9642 1454.56 81.9642 1445.84 Q81.9642 1437.09 85.0197 1432.5 Q88.0984 1427.9 93.9086 1427.9 Z\" fill=\"#000000\" fill-rule=\"nonzero\" fill-opacity=\"1\" /><path clip-path=\"url(#clip270)\" d=\"M57.7745 1116.69 L74.0939 1116.69 L74.0939 1120.63 L52.1495 1120.63 L52.1495 1116.69 Q54.8115 1113.94 59.3949 1109.31 Q64.0013 1104.66 65.1819 1103.31 Q67.4272 1100.79 68.3068 1099.05 Q69.2096 1097.3 69.2096 1095.61 Q69.2096 1092.85 67.2652 1091.11 Q65.3439 1089.38 62.2421 1089.38 Q60.043 1089.38 57.5893 1090.14 Q55.1588 1090.91 52.381 1092.46 L52.381 1087.74 Q55.2051 1086.6 57.6588 1086.02 Q60.1124 1085.44 62.1495 1085.44 Q67.5198 1085.44 70.7142 1088.13 Q73.9087 1090.81 73.9087 1095.3 Q73.9087 1097.43 73.0985 1099.36 Q72.3115 1101.25 70.205 1103.85 Q69.6263 1104.52 66.5245 1107.74 Q63.4226 1110.93 57.7745 1116.69 Z\" fill=\"#000000\" fill-rule=\"nonzero\" fill-opacity=\"1\" /><path clip-path=\"url(#clip270)\" d=\"M93.9086 1089.15 Q90.2975 1089.15 88.4688 1092.71 Q86.6632 1096.25 86.6632 1103.38 Q86.6632 1110.49 88.4688 1114.05 Q90.2975 1117.6 93.9086 1117.6 Q97.5428 1117.6 99.3483 1114.05 Q101.177 1110.49 101.177 1103.38 Q101.177 1096.25 99.3483 1092.71 Q97.5428 1089.15 93.9086 1089.15 M93.9086 1085.44 Q99.7187 1085.44 102.774 1090.05 Q105.853 1094.63 105.853 1103.38 Q105.853 1112.11 102.774 1116.72 Q99.7187 1121.3 93.9086 1121.3 Q88.0984 1121.3 85.0197 1116.72 Q81.9642 1112.11 81.9642 1103.38 Q81.9642 1094.63 85.0197 1090.05 Q88.0984 1085.44 93.9086 1085.44 Z\" fill=\"#000000\" fill-rule=\"nonzero\" fill-opacity=\"1\" /><path clip-path=\"url(#clip270)\" d=\"M66.5939 747.69 L54.7884 766.139 L66.5939 766.139 L66.5939 747.69 M65.367 743.616 L71.2466 743.616 L71.2466 766.139 L76.1772 766.139 L76.1772 770.028 L71.2466 770.028 L71.2466 778.176 L66.5939 778.176 L66.5939 770.028 L50.9921 770.028 L50.9921 765.514 L65.367 743.616 Z\" fill=\"#000000\" fill-rule=\"nonzero\" fill-opacity=\"1\" /><path clip-path=\"url(#clip270)\" d=\"M93.9086 746.695 Q90.2975 746.695 88.4688 750.259 Q86.6632 753.801 86.6632 760.931 Q86.6632 768.037 88.4688 771.602 Q90.2975 775.143 93.9086 775.143 Q97.5428 775.143 99.3483 771.602 Q101.177 768.037 101.177 760.931 Q101.177 753.801 99.3483 750.259 Q97.5428 746.695 93.9086 746.695 M93.9086 742.991 Q99.7187 742.991 102.774 747.597 Q105.853 752.181 105.853 760.931 Q105.853 769.657 102.774 774.264 Q99.7187 778.847 93.9086 778.847 Q88.0984 778.847 85.0197 774.264 Q81.9642 769.657 81.9642 760.931 Q81.9642 752.181 85.0197 747.597 Q88.0984 742.991 93.9086 742.991 Z\" fill=\"#000000\" fill-rule=\"nonzero\" fill-opacity=\"1\" /><path clip-path=\"url(#clip270)\" d=\"M64.3254 416.58 Q61.1773 416.58 59.3254 418.733 Q57.4967 420.885 57.4967 424.635 Q57.4967 428.362 59.3254 430.538 Q61.1773 432.691 64.3254 432.691 Q67.4735 432.691 69.3022 430.538 Q71.1541 428.362 71.1541 424.635 Q71.1541 420.885 69.3022 418.733 Q67.4735 416.58 64.3254 416.58 M73.6077 401.927 L73.6077 406.186 Q71.8485 405.353 70.0429 404.913 Q68.2606 404.473 66.5013 404.473 Q61.8717 404.473 59.418 407.598 Q56.9875 410.723 56.6402 417.043 Q58.006 415.029 60.0662 413.964 Q62.1263 412.876 64.6032 412.876 Q69.8115 412.876 72.8207 416.047 Q75.8531 419.195 75.8531 424.635 Q75.8531 429.959 72.705 433.177 Q69.5568 436.394 64.3254 436.394 Q58.33 436.394 55.1588 431.811 Q51.9875 427.205 51.9875 418.478 Q51.9875 410.283 55.8764 405.422 Q59.7652 400.538 66.3161 400.538 Q68.0754 400.538 69.8578 400.885 Q71.6633 401.233 73.6077 401.927 Z\" fill=\"#000000\" fill-rule=\"nonzero\" fill-opacity=\"1\" /><path clip-path=\"url(#clip270)\" d=\"M93.9086 404.242 Q90.2975 404.242 88.4688 407.807 Q86.6632 411.348 86.6632 418.478 Q86.6632 425.584 88.4688 429.149 Q90.2975 432.691 93.9086 432.691 Q97.5428 432.691 99.3483 429.149 Q101.177 425.584 101.177 418.478 Q101.177 411.348 99.3483 407.807 Q97.5428 404.242 93.9086 404.242 M93.9086 400.538 Q99.7187 400.538 102.774 405.145 Q105.853 409.728 105.853 418.478 Q105.853 427.205 102.774 431.811 Q99.7187 436.394 93.9086 436.394 Q88.0984 436.394 85.0197 431.811 Q81.9642 427.205 81.9642 418.478 Q81.9642 409.728 85.0197 405.145 Q88.0984 400.538 93.9086 400.538 Z\" fill=\"#000000\" fill-rule=\"nonzero\" fill-opacity=\"1\" /><path clip-path=\"url(#clip270)\" d=\"M63.7467 76.8585 Q60.4134 76.8585 58.4921 78.6409 Q56.5939 80.4233 56.5939 83.5483 Q56.5939 86.6732 58.4921 88.4556 Q60.4134 90.238 63.7467 90.238 Q67.08 90.238 69.0013 88.4556 Q70.9226 86.6501 70.9226 83.5483 Q70.9226 80.4233 69.0013 78.6409 Q67.1032 76.8585 63.7467 76.8585 M59.0708 74.8678 Q56.0615 74.127 54.3717 72.0668 Q52.7051 70.0067 52.7051 67.0437 Q52.7051 62.9002 55.6449 60.4928 Q58.6078 58.0854 63.7467 58.0854 Q68.9087 58.0854 71.8485 60.4928 Q74.7883 62.9002 74.7883 67.0437 Q74.7883 70.0067 73.0985 72.0668 Q71.4318 74.127 68.4457 74.8678 Q71.8253 75.6548 73.7003 77.9464 Q75.5985 80.2381 75.5985 83.5483 Q75.5985 88.5714 72.5198 91.2566 Q69.4642 93.9417 63.7467 93.9417 Q58.0291 93.9417 54.9504 91.2566 Q51.8949 88.5714 51.8949 83.5483 Q51.8949 80.2381 53.793 77.9464 Q55.6912 75.6548 59.0708 74.8678 M57.3578 67.4835 Q57.3578 70.1687 59.0245 71.6733 Q60.7143 73.1779 63.7467 73.1779 Q66.7559 73.1779 68.4457 71.6733 Q70.1587 70.1687 70.1587 67.4835 Q70.1587 64.7984 68.4457 63.2937 Q66.7559 61.7891 63.7467 61.7891 Q60.7143 61.7891 59.0245 63.2937 Q57.3578 64.7984 57.3578 67.4835 Z\" fill=\"#000000\" fill-rule=\"nonzero\" fill-opacity=\"1\" /><path clip-path=\"url(#clip270)\" d=\"M93.9086 61.7891 Q90.2975 61.7891 88.4688 65.3539 Q86.6632 68.8956 86.6632 76.0252 Q86.6632 83.1316 88.4688 86.6964 Q90.2975 90.238 93.9086 90.238 Q97.5428 90.238 99.3483 86.6964 Q101.177 83.1316 101.177 76.0252 Q101.177 68.8956 99.3483 65.3539 Q97.5428 61.7891 93.9086 61.7891 M93.9086 58.0854 Q99.7187 58.0854 102.774 62.6919 Q105.853 67.2752 105.853 76.0252 Q105.853 84.752 102.774 89.3584 Q99.7187 93.9417 93.9086 93.9417 Q88.0984 93.9417 85.0197 89.3584 Q81.9642 84.752 81.9642 76.0252 Q81.9642 67.2752 85.0197 62.6919 Q88.0984 58.0854 93.9086 58.0854 Z\" fill=\"#000000\" fill-rule=\"nonzero\" fill-opacity=\"1\" /><polyline clip-path=\"url(#clip272)\" style=\"stroke:#009af9; stroke-linecap:round; stroke-linejoin:round; stroke-width:4; stroke-opacity:1; fill:none\" points=\"2111.4,332.402 2081.61,375.637 2051.81,421.44 2022.01,462.534 1992.22,504.912 1962.42,546.863 1932.62,590.526 1902.83,635.044 1873.03,678.279 1843.24,721.086 1813.44,761.752 1783.64,802.418 1753.85,848.221 1724.05,890.6 1694.25,929.554 1682.33,949.673 1670.42,965.939 1658.5,983.918 1646.58,998.472 1634.66,1015.17 1622.74,1033.15 1610.82,1047.7 1598.9,1066.96 1586.98,1083.23 1575.07,1102.92 1563.15,1118.76 1551.23,1133.31 1539.31,1148.72 1527.39,1163.71 1515.47,1182.97 1503.55,1195.38 1491.64,1210.79 1479.72,1230.91 1467.8,1241.19 1455.88,1259.59 1443.96,1270.72 1432.04,1287.84 1420.12,1297.69 1408.21,1310.53 1396.29,1323.8 1384.37,1335.79 1372.45,1346.92 1360.53,1358.05 1348.61,1367.89 1336.69,1377.31 1324.78,1386.73 1312.86,1394.09 1300.94,1401.45 1289.02,1407.79 1277.1,1413.95 1265.18,1418.32 1253.26,1423.11 1241.35,1426.62 1229.43,1429.79 1217.51,1432.53 1205.59,1434.76 1193.67,1436.73 1181.75,1438.27 1169.83,1439.47 1157.91,1440.41 1146,1441.35 1134.08,1442.12 1122.16,1442.63 1110.24,1443.06 1098.32,1443.58 1086.4,1443.83 1074.48,1444.09 1062.57,1444.26 1050.65,1444.43 1038.73,1444.6 1026.81,1444.77 1014.89,1444.86 1002.97,1445.03 991.054,1445.03 979.136,1445.2 967.217,1445.12 955.298,1445.29 943.38,1445.29 931.461,1445.37 919.543,1445.29 859.949,1445.46 800.356,1445.63 740.763,1445.63 681.17,1445.63 621.577,1445.72 561.984,1445.72 502.391,1445.72 442.798,1445.72 383.205,1445.72 323.612,1445.72 264.019,1445.72 204.426,1445.72 \"/>\n",
       "<polyline clip-path=\"url(#clip272)\" style=\"stroke:#e26f46; stroke-linecap:round; stroke-linejoin:round; stroke-width:4; stroke-opacity:1; fill:none\" points=\"2290.18,88.4043 2230.59,174.018 2171,248.929 2111.4,333.686 2051.81,420.155 1992.22,504.056 1932.62,591.382 1873.03,677.423 1813.44,760.04 1753.85,843.941 1694.25,924.845 1634.66,1003.61 1575.07,1084.51 1515.47,1160.28 1455.88,1228.77 1396.29,1289.56 1336.69,1339.64 1277.1,1379.02 1217.51,1406.68 1157.91,1423.2 1098.32,1433.39 1038.73,1439.12 979.136,1441.86 919.543,1443.4 859.949,1444.26 800.356,1444.77 740.763,1445.12 681.17,1445.37 621.577,1445.46 561.984,1445.54 502.391,1445.63 442.798,1445.72 383.205,1445.72 323.612,1445.54 \"/>\n",
       "<polyline clip-path=\"url(#clip272)\" style=\"stroke:#3da44d; stroke-linecap:round; stroke-linejoin:round; stroke-width:4; stroke-opacity:1; fill:none\" points=\"2290.18,88.4043 2230.59,173.589 2171,248.929 2111.4,332.402 2051.81,419.727 1992.22,504.484 1932.62,584.533 1873.03,668.006 1813.44,751.478 1753.85,833.239 1694.25,909.007 1634.66,985.63 1575.07,1060.11 1515.47,1126.89 1455.88,1189.39 1396.29,1245.47 1336.69,1292.98 1277.1,1333.65 1217.51,1366.18 1157.91,1391.44 1098.32,1409.67 1038.73,1422.26 979.136,1430.73 919.543,1436.21 859.949,1439.64 800.356,1441.86 740.763,1443.23 681.17,1444.09 621.577,1444.6 561.984,1444.95 502.391,1445.2 442.798,1445.37 383.205,1443.83 323.612,1445.54 \"/>\n",
       "<polyline clip-path=\"url(#clip272)\" style=\"stroke:#c271d2; stroke-linecap:round; stroke-linejoin:round; stroke-width:4; stroke-opacity:1; fill:none\" points=\"2290.18,87.9763 2230.59,173.161 2171,249.785 2111.4,337.111 2051.81,413.306 1992.22,495.923 1932.62,579.824 1873.03,657.304 1813.44,736.068 1753.85,811.836 1694.25,887.603 1634.66,957.806 1575.07,1023.73 1515.47,1086.65 1455.88,1144.44 1396.29,1197.1 1336.69,1244.18 1277.1,1285.28 1217.51,1321.23 1157.91,1351.2 1098.32,1375.17 1038.73,1394.26 979.136,1408.73 919.543,1419.77 859.949,1427.48 800.356,1433.56 740.763,1437.41 681.17,1440.07 621.577,1442.03 561.984,1443.23 502.391,1444.09 442.798,1444.52 383.205,1445.12 \"/>\n",
       "<path clip-path=\"url(#clip270)\" d=\"M215.55 354.418 L490.783 354.418 L490.783 95.2176 L215.55 95.2176  Z\" fill=\"#ffffff\" fill-rule=\"evenodd\" fill-opacity=\"1\"/>\n",
       "<polyline clip-path=\"url(#clip270)\" style=\"stroke:#000000; stroke-linecap:round; stroke-linejoin:round; stroke-width:4; stroke-opacity:1; fill:none\" points=\"215.55,354.418 490.783,354.418 490.783,95.2176 215.55,95.2176 215.55,354.418 \"/>\n",
       "<polyline clip-path=\"url(#clip270)\" style=\"stroke:#009af9; stroke-linecap:round; stroke-linejoin:round; stroke-width:4; stroke-opacity:1; fill:none\" points=\"240.115,147.058 387.509,147.058 \"/>\n",
       "<path clip-path=\"url(#clip270)\" d=\"M425.917 166.745 Q424.111 171.375 422.398 172.787 Q420.685 174.199 417.815 174.199 L414.412 174.199 L414.412 170.634 L416.912 170.634 Q418.672 170.634 419.644 169.8 Q420.616 168.967 421.797 165.865 L422.56 163.921 L412.074 138.412 L416.588 138.412 L424.69 158.689 L432.792 138.412 L437.306 138.412 L425.917 166.745 Z\" fill=\"#000000\" fill-rule=\"nonzero\" fill-opacity=\"1\" /><path clip-path=\"url(#clip270)\" d=\"M444.597 160.402 L452.236 160.402 L452.236 134.037 L443.926 135.703 L443.926 131.444 L452.19 129.778 L456.866 129.778 L456.866 160.402 L464.505 160.402 L464.505 164.338 L444.597 164.338 L444.597 160.402 Z\" fill=\"#000000\" fill-rule=\"nonzero\" fill-opacity=\"1\" /><polyline clip-path=\"url(#clip270)\" style=\"stroke:#e26f46; stroke-linecap:round; stroke-linejoin:round; stroke-width:4; stroke-opacity:1; fill:none\" points=\"240.115,198.898 387.509,198.898 \"/>\n",
       "<path clip-path=\"url(#clip270)\" d=\"M425.917 218.585 Q424.111 223.215 422.398 224.627 Q420.685 226.039 417.815 226.039 L414.412 226.039 L414.412 222.474 L416.912 222.474 Q418.672 222.474 419.644 221.64 Q420.616 220.807 421.797 217.705 L422.56 215.761 L412.074 190.252 L416.588 190.252 L424.69 210.529 L432.792 190.252 L437.306 190.252 L425.917 218.585 Z\" fill=\"#000000\" fill-rule=\"nonzero\" fill-opacity=\"1\" /><path clip-path=\"url(#clip270)\" d=\"M447.815 212.242 L464.134 212.242 L464.134 216.178 L442.19 216.178 L442.19 212.242 Q444.852 209.488 449.435 204.858 Q454.042 200.205 455.222 198.863 Q457.468 196.34 458.347 194.604 Q459.25 192.844 459.25 191.155 Q459.25 188.4 457.306 186.664 Q455.384 184.928 452.283 184.928 Q450.083 184.928 447.63 185.692 Q445.199 186.455 442.421 188.006 L442.421 183.284 Q445.246 182.15 447.699 181.571 Q450.153 180.993 452.19 180.993 Q457.56 180.993 460.755 183.678 Q463.949 186.363 463.949 190.854 Q463.949 192.983 463.139 194.905 Q462.352 196.803 460.245 199.395 Q459.667 200.067 456.565 203.284 Q453.463 206.479 447.815 212.242 Z\" fill=\"#000000\" fill-rule=\"nonzero\" fill-opacity=\"1\" /><polyline clip-path=\"url(#clip270)\" style=\"stroke:#3da44d; stroke-linecap:round; stroke-linejoin:round; stroke-width:4; stroke-opacity:1; fill:none\" points=\"240.115,250.738 387.509,250.738 \"/>\n",
       "<path clip-path=\"url(#clip270)\" d=\"M425.917 270.425 Q424.111 275.055 422.398 276.467 Q420.685 277.879 417.815 277.879 L414.412 277.879 L414.412 274.314 L416.912 274.314 Q418.672 274.314 419.644 273.48 Q420.616 272.647 421.797 269.545 L422.56 267.601 L412.074 242.092 L416.588 242.092 L424.69 262.369 L432.792 242.092 L437.306 242.092 L425.917 270.425 Z\" fill=\"#000000\" fill-rule=\"nonzero\" fill-opacity=\"1\" /><path clip-path=\"url(#clip270)\" d=\"M457.954 249.383 Q461.31 250.101 463.185 252.369 Q465.083 254.638 465.083 257.971 Q465.083 263.087 461.565 265.888 Q458.046 268.689 451.565 268.689 Q449.389 268.689 447.074 268.249 Q444.783 267.832 442.329 266.976 L442.329 262.462 Q444.273 263.596 446.588 264.175 Q448.903 264.754 451.426 264.754 Q455.824 264.754 458.116 263.018 Q460.431 261.281 460.431 257.971 Q460.431 254.916 458.278 253.203 Q456.148 251.467 452.329 251.467 L448.301 251.467 L448.301 247.624 L452.514 247.624 Q455.963 247.624 457.792 246.258 Q459.62 244.87 459.62 242.277 Q459.62 239.615 457.722 238.203 Q455.847 236.768 452.329 236.768 Q450.408 236.768 448.208 237.184 Q446.009 237.601 443.371 238.481 L443.371 234.314 Q446.033 233.573 448.347 233.203 Q450.685 232.833 452.745 232.833 Q458.07 232.833 461.171 235.263 Q464.273 237.67 464.273 241.791 Q464.273 244.661 462.63 246.652 Q460.986 248.62 457.954 249.383 Z\" fill=\"#000000\" fill-rule=\"nonzero\" fill-opacity=\"1\" /><polyline clip-path=\"url(#clip270)\" style=\"stroke:#c271d2; stroke-linecap:round; stroke-linejoin:round; stroke-width:4; stroke-opacity:1; fill:none\" points=\"240.115,302.578 387.509,302.578 \"/>\n",
       "<path clip-path=\"url(#clip270)\" d=\"M425.917 322.265 Q424.111 326.895 422.398 328.307 Q420.685 329.719 417.815 329.719 L414.412 329.719 L414.412 326.154 L416.912 326.154 Q418.672 326.154 419.644 325.32 Q420.616 324.487 421.797 321.385 L422.56 319.441 L412.074 293.932 L416.588 293.932 L424.69 314.209 L432.792 293.932 L437.306 293.932 L425.917 322.265 Z\" fill=\"#000000\" fill-rule=\"nonzero\" fill-opacity=\"1\" /><path clip-path=\"url(#clip270)\" d=\"M456.634 289.372 L444.829 307.821 L456.634 307.821 L456.634 289.372 M455.408 285.298 L461.287 285.298 L461.287 307.821 L466.218 307.821 L466.218 311.709 L461.287 311.709 L461.287 319.858 L456.634 319.858 L456.634 311.709 L441.033 311.709 L441.033 307.196 L455.408 285.298 Z\" fill=\"#000000\" fill-rule=\"nonzero\" fill-opacity=\"1\" /></svg>\n"
      ],
      "text/html": [
       "<?xml version=\"1.0\" encoding=\"utf-8\"?>\n",
       "<svg xmlns=\"http://www.w3.org/2000/svg\" xmlns:xlink=\"http://www.w3.org/1999/xlink\" width=\"600\" height=\"400\" viewBox=\"0 0 2400 1600\">\n",
       "<defs>\n",
       "  <clipPath id=\"clip320\">\n",
       "    <rect x=\"0\" y=\"0\" width=\"2400\" height=\"1600\"/>\n",
       "  </clipPath>\n",
       "</defs>\n",
       "<path clip-path=\"url(#clip320)\" d=\"M0 1600 L2400 1600 L2400 8.88178e-14 L0 8.88178e-14  Z\" fill=\"#ffffff\" fill-rule=\"evenodd\" fill-opacity=\"1\"/>\n",
       "<defs>\n",
       "  <clipPath id=\"clip321\">\n",
       "    <rect x=\"480\" y=\"0\" width=\"1681\" height=\"1600\"/>\n",
       "  </clipPath>\n",
       "</defs>\n",
       "<path clip-path=\"url(#clip320)\" d=\"M141.853 1486.45 L2352.76 1486.45 L2352.76 47.2441 L141.853 47.2441  Z\" fill=\"#ffffff\" fill-rule=\"evenodd\" fill-opacity=\"1\"/>\n",
       "<defs>\n",
       "  <clipPath id=\"clip322\">\n",
       "    <rect x=\"141\" y=\"47\" width=\"2212\" height=\"1440\"/>\n",
       "  </clipPath>\n",
       "</defs>\n",
       "<polyline clip-path=\"url(#clip322)\" style=\"stroke:#000000; stroke-linecap:round; stroke-linejoin:round; stroke-width:2; stroke-opacity:0.1; fill:none\" points=\"502.391,1486.45 502.391,47.2441 \"/>\n",
       "<polyline clip-path=\"url(#clip322)\" style=\"stroke:#000000; stroke-linecap:round; stroke-linejoin:round; stroke-width:2; stroke-opacity:0.1; fill:none\" points=\"1098.32,1486.45 1098.32,47.2441 \"/>\n",
       "<polyline clip-path=\"url(#clip322)\" style=\"stroke:#000000; stroke-linecap:round; stroke-linejoin:round; stroke-width:2; stroke-opacity:0.1; fill:none\" points=\"1694.25,1486.45 1694.25,47.2441 \"/>\n",
       "<polyline clip-path=\"url(#clip322)\" style=\"stroke:#000000; stroke-linecap:round; stroke-linejoin:round; stroke-width:2; stroke-opacity:0.1; fill:none\" points=\"2290.18,1486.45 2290.18,47.2441 \"/>\n",
       "<polyline clip-path=\"url(#clip320)\" style=\"stroke:#000000; stroke-linecap:round; stroke-linejoin:round; stroke-width:4; stroke-opacity:1; fill:none\" points=\"141.853,1486.45 2352.76,1486.45 \"/>\n",
       "<polyline clip-path=\"url(#clip320)\" style=\"stroke:#000000; stroke-linecap:round; stroke-linejoin:round; stroke-width:4; stroke-opacity:1; fill:none\" points=\"502.391,1486.45 502.391,1467.55 \"/>\n",
       "<polyline clip-path=\"url(#clip320)\" style=\"stroke:#000000; stroke-linecap:round; stroke-linejoin:round; stroke-width:4; stroke-opacity:1; fill:none\" points=\"1098.32,1486.45 1098.32,1467.55 \"/>\n",
       "<polyline clip-path=\"url(#clip320)\" style=\"stroke:#000000; stroke-linecap:round; stroke-linejoin:round; stroke-width:4; stroke-opacity:1; fill:none\" points=\"1694.25,1486.45 1694.25,1467.55 \"/>\n",
       "<polyline clip-path=\"url(#clip320)\" style=\"stroke:#000000; stroke-linecap:round; stroke-linejoin:round; stroke-width:4; stroke-opacity:1; fill:none\" points=\"2290.18,1486.45 2290.18,1467.55 \"/>\n",
       "<path clip-path=\"url(#clip320)\" d=\"M477.09 1514.29 L495.447 1514.29 L495.447 1518.22 L481.373 1518.22 L481.373 1526.7 Q482.391 1526.35 483.41 1526.19 Q484.428 1526 485.447 1526 Q491.234 1526 494.613 1529.17 Q497.993 1532.34 497.993 1537.76 Q497.993 1543.34 494.521 1546.44 Q491.048 1549.52 484.729 1549.52 Q482.553 1549.52 480.285 1549.15 Q478.039 1548.78 475.632 1548.04 L475.632 1543.34 Q477.715 1544.47 479.937 1545.03 Q482.16 1545.58 484.636 1545.58 Q488.641 1545.58 490.979 1543.48 Q493.317 1541.37 493.317 1537.76 Q493.317 1534.15 490.979 1532.04 Q488.641 1529.94 484.636 1529.94 Q482.762 1529.94 480.887 1530.35 Q479.035 1530.77 477.09 1531.65 L477.09 1514.29 Z\" fill=\"#000000\" fill-rule=\"nonzero\" fill-opacity=\"1\" /><path clip-path=\"url(#clip320)\" d=\"M517.206 1517.37 Q513.595 1517.37 511.766 1520.93 Q509.96 1524.47 509.96 1531.6 Q509.96 1538.71 511.766 1542.27 Q513.595 1545.82 517.206 1545.82 Q520.84 1545.82 522.646 1542.27 Q524.474 1538.71 524.474 1531.6 Q524.474 1524.47 522.646 1520.93 Q520.84 1517.37 517.206 1517.37 M517.206 1513.66 Q523.016 1513.66 526.071 1518.27 Q529.15 1522.85 529.15 1531.6 Q529.15 1540.33 526.071 1544.94 Q523.016 1549.52 517.206 1549.52 Q511.396 1549.52 508.317 1544.94 Q505.261 1540.33 505.261 1531.6 Q505.261 1522.85 508.317 1518.27 Q511.396 1513.66 517.206 1513.66 Z\" fill=\"#000000\" fill-rule=\"nonzero\" fill-opacity=\"1\" /><path clip-path=\"url(#clip320)\" d=\"M1057.93 1544.91 L1065.57 1544.91 L1065.57 1518.55 L1057.26 1520.21 L1057.26 1515.95 L1065.52 1514.29 L1070.2 1514.29 L1070.2 1544.91 L1077.84 1544.91 L1077.84 1548.85 L1057.93 1548.85 L1057.93 1544.91 Z\" fill=\"#000000\" fill-rule=\"nonzero\" fill-opacity=\"1\" /><path clip-path=\"url(#clip320)\" d=\"M1097.28 1517.37 Q1093.67 1517.37 1091.84 1520.93 Q1090.03 1524.47 1090.03 1531.6 Q1090.03 1538.71 1091.84 1542.27 Q1093.67 1545.82 1097.28 1545.82 Q1100.91 1545.82 1102.72 1542.27 Q1104.55 1538.71 1104.55 1531.6 Q1104.55 1524.47 1102.72 1520.93 Q1100.91 1517.37 1097.28 1517.37 M1097.28 1513.66 Q1103.09 1513.66 1106.15 1518.27 Q1109.22 1522.85 1109.22 1531.6 Q1109.22 1540.33 1106.15 1544.94 Q1103.09 1549.52 1097.28 1549.52 Q1091.47 1549.52 1088.39 1544.94 Q1085.34 1540.33 1085.34 1531.6 Q1085.34 1522.85 1088.39 1518.27 Q1091.47 1513.66 1097.28 1513.66 Z\" fill=\"#000000\" fill-rule=\"nonzero\" fill-opacity=\"1\" /><path clip-path=\"url(#clip320)\" d=\"M1127.44 1517.37 Q1123.83 1517.37 1122 1520.93 Q1120.2 1524.47 1120.2 1531.6 Q1120.2 1538.71 1122 1542.27 Q1123.83 1545.82 1127.44 1545.82 Q1131.08 1545.82 1132.88 1542.27 Q1134.71 1538.71 1134.71 1531.6 Q1134.71 1524.47 1132.88 1520.93 Q1131.08 1517.37 1127.44 1517.37 M1127.44 1513.66 Q1133.25 1513.66 1136.31 1518.27 Q1139.39 1522.85 1139.39 1531.6 Q1139.39 1540.33 1136.31 1544.94 Q1133.25 1549.52 1127.44 1549.52 Q1121.63 1549.52 1118.55 1544.94 Q1115.5 1540.33 1115.5 1531.6 Q1115.5 1522.85 1118.55 1518.27 Q1121.63 1513.66 1127.44 1513.66 Z\" fill=\"#000000\" fill-rule=\"nonzero\" fill-opacity=\"1\" /><path clip-path=\"url(#clip320)\" d=\"M1653.86 1544.91 L1661.5 1544.91 L1661.5 1518.55 L1653.19 1520.21 L1653.19 1515.95 L1661.45 1514.29 L1666.13 1514.29 L1666.13 1544.91 L1673.77 1544.91 L1673.77 1548.85 L1653.86 1548.85 L1653.86 1544.91 Z\" fill=\"#000000\" fill-rule=\"nonzero\" fill-opacity=\"1\" /><path clip-path=\"url(#clip320)\" d=\"M1683.26 1514.29 L1701.61 1514.29 L1701.61 1518.22 L1687.54 1518.22 L1687.54 1526.7 Q1688.56 1526.35 1689.58 1526.19 Q1690.6 1526 1691.61 1526 Q1697.4 1526 1700.78 1529.17 Q1704.16 1532.34 1704.16 1537.76 Q1704.16 1543.34 1700.69 1546.44 Q1697.22 1549.52 1690.9 1549.52 Q1688.72 1549.52 1686.45 1549.15 Q1684.21 1548.78 1681.8 1548.04 L1681.8 1543.34 Q1683.88 1544.47 1686.1 1545.03 Q1688.33 1545.58 1690.8 1545.58 Q1694.81 1545.58 1697.15 1543.48 Q1699.48 1541.37 1699.48 1537.76 Q1699.48 1534.15 1697.15 1532.04 Q1694.81 1529.94 1690.8 1529.94 Q1688.93 1529.94 1687.05 1530.35 Q1685.2 1530.77 1683.26 1531.65 L1683.26 1514.29 Z\" fill=\"#000000\" fill-rule=\"nonzero\" fill-opacity=\"1\" /><path clip-path=\"url(#clip320)\" d=\"M1723.37 1517.37 Q1719.76 1517.37 1717.93 1520.93 Q1716.13 1524.47 1716.13 1531.6 Q1716.13 1538.71 1717.93 1542.27 Q1719.76 1545.82 1723.37 1545.82 Q1727.01 1545.82 1728.81 1542.27 Q1730.64 1538.71 1730.64 1531.6 Q1730.64 1524.47 1728.81 1520.93 Q1727.01 1517.37 1723.37 1517.37 M1723.37 1513.66 Q1729.18 1513.66 1732.24 1518.27 Q1735.32 1522.85 1735.32 1531.6 Q1735.32 1540.33 1732.24 1544.94 Q1729.18 1549.52 1723.37 1549.52 Q1717.56 1549.52 1714.48 1544.94 Q1711.43 1540.33 1711.43 1531.6 Q1711.43 1522.85 1714.48 1518.27 Q1717.56 1513.66 1723.37 1513.66 Z\" fill=\"#000000\" fill-rule=\"nonzero\" fill-opacity=\"1\" /><path clip-path=\"url(#clip320)\" d=\"M2253.88 1544.91 L2270.19 1544.91 L2270.19 1548.85 L2248.25 1548.85 L2248.25 1544.91 Q2250.91 1542.16 2255.5 1537.53 Q2260.1 1532.88 2261.28 1531.53 Q2263.53 1529.01 2264.41 1527.27 Q2265.31 1525.51 2265.31 1523.82 Q2265.31 1521.07 2263.37 1519.33 Q2261.44 1517.6 2258.34 1517.6 Q2256.14 1517.6 2253.69 1518.36 Q2251.26 1519.13 2248.48 1520.68 L2248.48 1515.95 Q2251.31 1514.82 2253.76 1514.24 Q2256.21 1513.66 2258.25 1513.66 Q2263.62 1513.66 2266.82 1516.35 Q2270.01 1519.03 2270.01 1523.52 Q2270.01 1525.65 2269.2 1527.57 Q2268.41 1529.47 2266.31 1532.07 Q2265.73 1532.74 2262.63 1535.95 Q2259.52 1539.15 2253.88 1544.91 Z\" fill=\"#000000\" fill-rule=\"nonzero\" fill-opacity=\"1\" /><path clip-path=\"url(#clip320)\" d=\"M2290.01 1517.37 Q2286.4 1517.37 2284.57 1520.93 Q2282.76 1524.47 2282.76 1531.6 Q2282.76 1538.71 2284.57 1542.27 Q2286.4 1545.82 2290.01 1545.82 Q2293.64 1545.82 2295.45 1542.27 Q2297.28 1538.71 2297.28 1531.6 Q2297.28 1524.47 2295.45 1520.93 Q2293.64 1517.37 2290.01 1517.37 M2290.01 1513.66 Q2295.82 1513.66 2298.88 1518.27 Q2301.95 1522.85 2301.95 1531.6 Q2301.95 1540.33 2298.88 1544.94 Q2295.82 1549.52 2290.01 1549.52 Q2284.2 1549.52 2281.12 1544.94 Q2278.07 1540.33 2278.07 1531.6 Q2278.07 1522.85 2281.12 1518.27 Q2284.2 1513.66 2290.01 1513.66 Z\" fill=\"#000000\" fill-rule=\"nonzero\" fill-opacity=\"1\" /><path clip-path=\"url(#clip320)\" d=\"M2320.17 1517.37 Q2316.56 1517.37 2314.73 1520.93 Q2312.93 1524.47 2312.93 1531.6 Q2312.93 1538.71 2314.73 1542.27 Q2316.56 1545.82 2320.17 1545.82 Q2323.81 1545.82 2325.61 1542.27 Q2327.44 1538.71 2327.44 1531.6 Q2327.44 1524.47 2325.61 1520.93 Q2323.81 1517.37 2320.17 1517.37 M2320.17 1513.66 Q2325.98 1513.66 2329.04 1518.27 Q2332.12 1522.85 2332.12 1531.6 Q2332.12 1540.33 2329.04 1544.94 Q2325.98 1549.52 2320.17 1549.52 Q2314.36 1549.52 2311.28 1544.94 Q2308.23 1540.33 2308.23 1531.6 Q2308.23 1522.85 2311.28 1518.27 Q2314.36 1513.66 2320.17 1513.66 Z\" fill=\"#000000\" fill-rule=\"nonzero\" fill-opacity=\"1\" /><polyline clip-path=\"url(#clip322)\" style=\"stroke:#000000; stroke-linecap:round; stroke-linejoin:round; stroke-width:2; stroke-opacity:0.1; fill:none\" points=\"141.853,1445.8 2352.76,1445.8 \"/>\n",
       "<polyline clip-path=\"url(#clip322)\" style=\"stroke:#000000; stroke-linecap:round; stroke-linejoin:round; stroke-width:2; stroke-opacity:0.1; fill:none\" points=\"141.853,1103.35 2352.76,1103.35 \"/>\n",
       "<polyline clip-path=\"url(#clip322)\" style=\"stroke:#000000; stroke-linecap:round; stroke-linejoin:round; stroke-width:2; stroke-opacity:0.1; fill:none\" points=\"141.853,760.896 2352.76,760.896 \"/>\n",
       "<polyline clip-path=\"url(#clip322)\" style=\"stroke:#000000; stroke-linecap:round; stroke-linejoin:round; stroke-width:2; stroke-opacity:0.1; fill:none\" points=\"141.853,418.443 2352.76,418.443 \"/>\n",
       "<polyline clip-path=\"url(#clip322)\" style=\"stroke:#000000; stroke-linecap:round; stroke-linejoin:round; stroke-width:2; stroke-opacity:0.1; fill:none\" points=\"141.853,75.9904 2352.76,75.9904 \"/>\n",
       "<polyline clip-path=\"url(#clip320)\" style=\"stroke:#000000; stroke-linecap:round; stroke-linejoin:round; stroke-width:4; stroke-opacity:1; fill:none\" points=\"141.853,1486.45 141.853,47.2441 \"/>\n",
       "<polyline clip-path=\"url(#clip320)\" style=\"stroke:#000000; stroke-linecap:round; stroke-linejoin:round; stroke-width:4; stroke-opacity:1; fill:none\" points=\"141.853,1445.8 160.751,1445.8 \"/>\n",
       "<polyline clip-path=\"url(#clip320)\" style=\"stroke:#000000; stroke-linecap:round; stroke-linejoin:round; stroke-width:4; stroke-opacity:1; fill:none\" points=\"141.853,1103.35 160.751,1103.35 \"/>\n",
       "<polyline clip-path=\"url(#clip320)\" style=\"stroke:#000000; stroke-linecap:round; stroke-linejoin:round; stroke-width:4; stroke-opacity:1; fill:none\" points=\"141.853,760.896 160.751,760.896 \"/>\n",
       "<polyline clip-path=\"url(#clip320)\" style=\"stroke:#000000; stroke-linecap:round; stroke-linejoin:round; stroke-width:4; stroke-opacity:1; fill:none\" points=\"141.853,418.443 160.751,418.443 \"/>\n",
       "<polyline clip-path=\"url(#clip320)\" style=\"stroke:#000000; stroke-linecap:round; stroke-linejoin:round; stroke-width:4; stroke-opacity:1; fill:none\" points=\"141.853,75.9904 160.751,75.9904 \"/>\n",
       "<path clip-path=\"url(#clip320)\" d=\"M93.9086 1431.6 Q90.2975 1431.6 88.4688 1435.16 Q86.6632 1438.71 86.6632 1445.84 Q86.6632 1452.94 88.4688 1456.51 Q90.2975 1460.05 93.9086 1460.05 Q97.5428 1460.05 99.3483 1456.51 Q101.177 1452.94 101.177 1445.84 Q101.177 1438.71 99.3483 1435.16 Q97.5428 1431.6 93.9086 1431.6 M93.9086 1427.9 Q99.7187 1427.9 102.774 1432.5 Q105.853 1437.09 105.853 1445.84 Q105.853 1454.56 102.774 1459.17 Q99.7187 1463.75 93.9086 1463.75 Q88.0984 1463.75 85.0197 1459.17 Q81.9642 1454.56 81.9642 1445.84 Q81.9642 1437.09 85.0197 1432.5 Q88.0984 1427.9 93.9086 1427.9 Z\" fill=\"#000000\" fill-rule=\"nonzero\" fill-opacity=\"1\" /><path clip-path=\"url(#clip320)\" d=\"M57.7745 1116.69 L74.0939 1116.69 L74.0939 1120.63 L52.1495 1120.63 L52.1495 1116.69 Q54.8115 1113.94 59.3949 1109.31 Q64.0013 1104.66 65.1819 1103.31 Q67.4272 1100.79 68.3068 1099.05 Q69.2096 1097.3 69.2096 1095.61 Q69.2096 1092.85 67.2652 1091.11 Q65.3439 1089.38 62.2421 1089.38 Q60.043 1089.38 57.5893 1090.14 Q55.1588 1090.91 52.381 1092.46 L52.381 1087.74 Q55.2051 1086.6 57.6588 1086.02 Q60.1124 1085.44 62.1495 1085.44 Q67.5198 1085.44 70.7142 1088.13 Q73.9087 1090.81 73.9087 1095.3 Q73.9087 1097.43 73.0985 1099.36 Q72.3115 1101.25 70.205 1103.85 Q69.6263 1104.52 66.5245 1107.74 Q63.4226 1110.93 57.7745 1116.69 Z\" fill=\"#000000\" fill-rule=\"nonzero\" fill-opacity=\"1\" /><path clip-path=\"url(#clip320)\" d=\"M93.9086 1089.15 Q90.2975 1089.15 88.4688 1092.71 Q86.6632 1096.25 86.6632 1103.38 Q86.6632 1110.49 88.4688 1114.05 Q90.2975 1117.6 93.9086 1117.6 Q97.5428 1117.6 99.3483 1114.05 Q101.177 1110.49 101.177 1103.38 Q101.177 1096.25 99.3483 1092.71 Q97.5428 1089.15 93.9086 1089.15 M93.9086 1085.44 Q99.7187 1085.44 102.774 1090.05 Q105.853 1094.63 105.853 1103.38 Q105.853 1112.11 102.774 1116.72 Q99.7187 1121.3 93.9086 1121.3 Q88.0984 1121.3 85.0197 1116.72 Q81.9642 1112.11 81.9642 1103.38 Q81.9642 1094.63 85.0197 1090.05 Q88.0984 1085.44 93.9086 1085.44 Z\" fill=\"#000000\" fill-rule=\"nonzero\" fill-opacity=\"1\" /><path clip-path=\"url(#clip320)\" d=\"M66.5939 747.69 L54.7884 766.139 L66.5939 766.139 L66.5939 747.69 M65.367 743.616 L71.2466 743.616 L71.2466 766.139 L76.1772 766.139 L76.1772 770.028 L71.2466 770.028 L71.2466 778.176 L66.5939 778.176 L66.5939 770.028 L50.9921 770.028 L50.9921 765.514 L65.367 743.616 Z\" fill=\"#000000\" fill-rule=\"nonzero\" fill-opacity=\"1\" /><path clip-path=\"url(#clip320)\" d=\"M93.9086 746.695 Q90.2975 746.695 88.4688 750.259 Q86.6632 753.801 86.6632 760.931 Q86.6632 768.037 88.4688 771.602 Q90.2975 775.143 93.9086 775.143 Q97.5428 775.143 99.3483 771.602 Q101.177 768.037 101.177 760.931 Q101.177 753.801 99.3483 750.259 Q97.5428 746.695 93.9086 746.695 M93.9086 742.991 Q99.7187 742.991 102.774 747.597 Q105.853 752.181 105.853 760.931 Q105.853 769.657 102.774 774.264 Q99.7187 778.847 93.9086 778.847 Q88.0984 778.847 85.0197 774.264 Q81.9642 769.657 81.9642 760.931 Q81.9642 752.181 85.0197 747.597 Q88.0984 742.991 93.9086 742.991 Z\" fill=\"#000000\" fill-rule=\"nonzero\" fill-opacity=\"1\" /><path clip-path=\"url(#clip320)\" d=\"M64.3254 416.58 Q61.1773 416.58 59.3254 418.733 Q57.4967 420.885 57.4967 424.635 Q57.4967 428.362 59.3254 430.538 Q61.1773 432.691 64.3254 432.691 Q67.4735 432.691 69.3022 430.538 Q71.1541 428.362 71.1541 424.635 Q71.1541 420.885 69.3022 418.733 Q67.4735 416.58 64.3254 416.58 M73.6077 401.927 L73.6077 406.186 Q71.8485 405.353 70.0429 404.913 Q68.2606 404.473 66.5013 404.473 Q61.8717 404.473 59.418 407.598 Q56.9875 410.723 56.6402 417.043 Q58.006 415.029 60.0662 413.964 Q62.1263 412.876 64.6032 412.876 Q69.8115 412.876 72.8207 416.047 Q75.8531 419.195 75.8531 424.635 Q75.8531 429.959 72.705 433.177 Q69.5568 436.394 64.3254 436.394 Q58.33 436.394 55.1588 431.811 Q51.9875 427.205 51.9875 418.478 Q51.9875 410.283 55.8764 405.422 Q59.7652 400.538 66.3161 400.538 Q68.0754 400.538 69.8578 400.885 Q71.6633 401.233 73.6077 401.927 Z\" fill=\"#000000\" fill-rule=\"nonzero\" fill-opacity=\"1\" /><path clip-path=\"url(#clip320)\" d=\"M93.9086 404.242 Q90.2975 404.242 88.4688 407.807 Q86.6632 411.348 86.6632 418.478 Q86.6632 425.584 88.4688 429.149 Q90.2975 432.691 93.9086 432.691 Q97.5428 432.691 99.3483 429.149 Q101.177 425.584 101.177 418.478 Q101.177 411.348 99.3483 407.807 Q97.5428 404.242 93.9086 404.242 M93.9086 400.538 Q99.7187 400.538 102.774 405.145 Q105.853 409.728 105.853 418.478 Q105.853 427.205 102.774 431.811 Q99.7187 436.394 93.9086 436.394 Q88.0984 436.394 85.0197 431.811 Q81.9642 427.205 81.9642 418.478 Q81.9642 409.728 85.0197 405.145 Q88.0984 400.538 93.9086 400.538 Z\" fill=\"#000000\" fill-rule=\"nonzero\" fill-opacity=\"1\" /><path clip-path=\"url(#clip320)\" d=\"M63.7467 76.8585 Q60.4134 76.8585 58.4921 78.6409 Q56.5939 80.4233 56.5939 83.5483 Q56.5939 86.6732 58.4921 88.4556 Q60.4134 90.238 63.7467 90.238 Q67.08 90.238 69.0013 88.4556 Q70.9226 86.6501 70.9226 83.5483 Q70.9226 80.4233 69.0013 78.6409 Q67.1032 76.8585 63.7467 76.8585 M59.0708 74.8678 Q56.0615 74.127 54.3717 72.0668 Q52.7051 70.0067 52.7051 67.0437 Q52.7051 62.9002 55.6449 60.4928 Q58.6078 58.0854 63.7467 58.0854 Q68.9087 58.0854 71.8485 60.4928 Q74.7883 62.9002 74.7883 67.0437 Q74.7883 70.0067 73.0985 72.0668 Q71.4318 74.127 68.4457 74.8678 Q71.8253 75.6548 73.7003 77.9464 Q75.5985 80.2381 75.5985 83.5483 Q75.5985 88.5714 72.5198 91.2566 Q69.4642 93.9417 63.7467 93.9417 Q58.0291 93.9417 54.9504 91.2566 Q51.8949 88.5714 51.8949 83.5483 Q51.8949 80.2381 53.793 77.9464 Q55.6912 75.6548 59.0708 74.8678 M57.3578 67.4835 Q57.3578 70.1687 59.0245 71.6733 Q60.7143 73.1779 63.7467 73.1779 Q66.7559 73.1779 68.4457 71.6733 Q70.1587 70.1687 70.1587 67.4835 Q70.1587 64.7984 68.4457 63.2937 Q66.7559 61.7891 63.7467 61.7891 Q60.7143 61.7891 59.0245 63.2937 Q57.3578 64.7984 57.3578 67.4835 Z\" fill=\"#000000\" fill-rule=\"nonzero\" fill-opacity=\"1\" /><path clip-path=\"url(#clip320)\" d=\"M93.9086 61.7891 Q90.2975 61.7891 88.4688 65.3539 Q86.6632 68.8956 86.6632 76.0252 Q86.6632 83.1316 88.4688 86.6964 Q90.2975 90.238 93.9086 90.238 Q97.5428 90.238 99.3483 86.6964 Q101.177 83.1316 101.177 76.0252 Q101.177 68.8956 99.3483 65.3539 Q97.5428 61.7891 93.9086 61.7891 M93.9086 58.0854 Q99.7187 58.0854 102.774 62.6919 Q105.853 67.2752 105.853 76.0252 Q105.853 84.752 102.774 89.3584 Q99.7187 93.9417 93.9086 93.9417 Q88.0984 93.9417 85.0197 89.3584 Q81.9642 84.752 81.9642 76.0252 Q81.9642 67.2752 85.0197 62.6919 Q88.0984 58.0854 93.9086 58.0854 Z\" fill=\"#000000\" fill-rule=\"nonzero\" fill-opacity=\"1\" /><polyline clip-path=\"url(#clip322)\" style=\"stroke:#009af9; stroke-linecap:round; stroke-linejoin:round; stroke-width:4; stroke-opacity:1; fill:none\" points=\"2111.4,332.402 2081.61,375.637 2051.81,421.44 2022.01,462.534 1992.22,504.912 1962.42,546.863 1932.62,590.526 1902.83,635.044 1873.03,678.279 1843.24,721.086 1813.44,761.752 1783.64,802.418 1753.85,848.221 1724.05,890.6 1694.25,929.554 1682.33,949.673 1670.42,965.939 1658.5,983.918 1646.58,998.472 1634.66,1015.17 1622.74,1033.15 1610.82,1047.7 1598.9,1066.96 1586.98,1083.23 1575.07,1102.92 1563.15,1118.76 1551.23,1133.31 1539.31,1148.72 1527.39,1163.71 1515.47,1182.97 1503.55,1195.38 1491.64,1210.79 1479.72,1230.91 1467.8,1241.19 1455.88,1259.59 1443.96,1270.72 1432.04,1287.84 1420.12,1297.69 1408.21,1310.53 1396.29,1323.8 1384.37,1335.79 1372.45,1346.92 1360.53,1358.05 1348.61,1367.89 1336.69,1377.31 1324.78,1386.73 1312.86,1394.09 1300.94,1401.45 1289.02,1407.79 1277.1,1413.95 1265.18,1418.32 1253.26,1423.11 1241.35,1426.62 1229.43,1429.79 1217.51,1432.53 1205.59,1434.76 1193.67,1436.73 1181.75,1438.27 1169.83,1439.47 1157.91,1440.41 1146,1441.35 1134.08,1442.12 1122.16,1442.63 1110.24,1443.06 1098.32,1443.58 1086.4,1443.83 1074.48,1444.09 1062.57,1444.26 1050.65,1444.43 1038.73,1444.6 1026.81,1444.77 1014.89,1444.86 1002.97,1445.03 991.054,1445.03 979.136,1445.2 967.217,1445.12 955.298,1445.29 943.38,1445.29 931.461,1445.37 919.543,1445.29 859.949,1445.46 800.356,1445.63 740.763,1445.63 681.17,1445.63 621.577,1445.72 561.984,1445.72 502.391,1445.72 442.798,1445.72 383.205,1445.72 323.612,1445.72 264.019,1445.72 204.426,1445.72 \"/>\n",
       "<polyline clip-path=\"url(#clip322)\" style=\"stroke:#e26f46; stroke-linecap:round; stroke-linejoin:round; stroke-width:4; stroke-opacity:1; fill:none\" points=\"2290.18,88.4043 2230.59,174.018 2171,248.929 2111.4,333.686 2051.81,420.155 1992.22,504.056 1932.62,591.382 1873.03,677.423 1813.44,760.04 1753.85,843.941 1694.25,924.845 1634.66,1003.61 1575.07,1084.51 1515.47,1160.28 1455.88,1228.77 1396.29,1289.56 1336.69,1339.64 1277.1,1379.02 1217.51,1406.68 1157.91,1423.2 1098.32,1433.39 1038.73,1439.12 979.136,1441.86 919.543,1443.4 859.949,1444.26 800.356,1444.77 740.763,1445.12 681.17,1445.37 621.577,1445.46 561.984,1445.54 502.391,1445.63 442.798,1445.72 383.205,1445.72 323.612,1445.54 \"/>\n",
       "<polyline clip-path=\"url(#clip322)\" style=\"stroke:#3da44d; stroke-linecap:round; stroke-linejoin:round; stroke-width:4; stroke-opacity:1; fill:none\" points=\"2290.18,88.4043 2230.59,173.589 2171,248.929 2111.4,332.402 2051.81,419.727 1992.22,504.484 1932.62,584.533 1873.03,668.006 1813.44,751.478 1753.85,833.239 1694.25,909.007 1634.66,985.63 1575.07,1060.11 1515.47,1126.89 1455.88,1189.39 1396.29,1245.47 1336.69,1292.98 1277.1,1333.65 1217.51,1366.18 1157.91,1391.44 1098.32,1409.67 1038.73,1422.26 979.136,1430.73 919.543,1436.21 859.949,1439.64 800.356,1441.86 740.763,1443.23 681.17,1444.09 621.577,1444.6 561.984,1444.95 502.391,1445.2 442.798,1445.37 383.205,1443.83 323.612,1445.54 \"/>\n",
       "<polyline clip-path=\"url(#clip322)\" style=\"stroke:#c271d2; stroke-linecap:round; stroke-linejoin:round; stroke-width:4; stroke-opacity:1; fill:none\" points=\"2290.18,87.9763 2230.59,173.161 2171,249.785 2111.4,337.111 2051.81,413.306 1992.22,495.923 1932.62,579.824 1873.03,657.304 1813.44,736.068 1753.85,811.836 1694.25,887.603 1634.66,957.806 1575.07,1023.73 1515.47,1086.65 1455.88,1144.44 1396.29,1197.1 1336.69,1244.18 1277.1,1285.28 1217.51,1321.23 1157.91,1351.2 1098.32,1375.17 1038.73,1394.26 979.136,1408.73 919.543,1419.77 859.949,1427.48 800.356,1433.56 740.763,1437.41 681.17,1440.07 621.577,1442.03 561.984,1443.23 502.391,1444.09 442.798,1444.52 383.205,1445.12 \"/>\n",
       "<path clip-path=\"url(#clip320)\" d=\"M215.55 354.418 L490.783 354.418 L490.783 95.2176 L215.55 95.2176  Z\" fill=\"#ffffff\" fill-rule=\"evenodd\" fill-opacity=\"1\"/>\n",
       "<polyline clip-path=\"url(#clip320)\" style=\"stroke:#000000; stroke-linecap:round; stroke-linejoin:round; stroke-width:4; stroke-opacity:1; fill:none\" points=\"215.55,354.418 490.783,354.418 490.783,95.2176 215.55,95.2176 215.55,354.418 \"/>\n",
       "<polyline clip-path=\"url(#clip320)\" style=\"stroke:#009af9; stroke-linecap:round; stroke-linejoin:round; stroke-width:4; stroke-opacity:1; fill:none\" points=\"240.115,147.058 387.509,147.058 \"/>\n",
       "<path clip-path=\"url(#clip320)\" d=\"M425.917 166.745 Q424.111 171.375 422.398 172.787 Q420.685 174.199 417.815 174.199 L414.412 174.199 L414.412 170.634 L416.912 170.634 Q418.672 170.634 419.644 169.8 Q420.616 168.967 421.797 165.865 L422.56 163.921 L412.074 138.412 L416.588 138.412 L424.69 158.689 L432.792 138.412 L437.306 138.412 L425.917 166.745 Z\" fill=\"#000000\" fill-rule=\"nonzero\" fill-opacity=\"1\" /><path clip-path=\"url(#clip320)\" d=\"M444.597 160.402 L452.236 160.402 L452.236 134.037 L443.926 135.703 L443.926 131.444 L452.19 129.778 L456.866 129.778 L456.866 160.402 L464.505 160.402 L464.505 164.338 L444.597 164.338 L444.597 160.402 Z\" fill=\"#000000\" fill-rule=\"nonzero\" fill-opacity=\"1\" /><polyline clip-path=\"url(#clip320)\" style=\"stroke:#e26f46; stroke-linecap:round; stroke-linejoin:round; stroke-width:4; stroke-opacity:1; fill:none\" points=\"240.115,198.898 387.509,198.898 \"/>\n",
       "<path clip-path=\"url(#clip320)\" d=\"M425.917 218.585 Q424.111 223.215 422.398 224.627 Q420.685 226.039 417.815 226.039 L414.412 226.039 L414.412 222.474 L416.912 222.474 Q418.672 222.474 419.644 221.64 Q420.616 220.807 421.797 217.705 L422.56 215.761 L412.074 190.252 L416.588 190.252 L424.69 210.529 L432.792 190.252 L437.306 190.252 L425.917 218.585 Z\" fill=\"#000000\" fill-rule=\"nonzero\" fill-opacity=\"1\" /><path clip-path=\"url(#clip320)\" d=\"M447.815 212.242 L464.134 212.242 L464.134 216.178 L442.19 216.178 L442.19 212.242 Q444.852 209.488 449.435 204.858 Q454.042 200.205 455.222 198.863 Q457.468 196.34 458.347 194.604 Q459.25 192.844 459.25 191.155 Q459.25 188.4 457.306 186.664 Q455.384 184.928 452.283 184.928 Q450.083 184.928 447.63 185.692 Q445.199 186.455 442.421 188.006 L442.421 183.284 Q445.246 182.15 447.699 181.571 Q450.153 180.993 452.19 180.993 Q457.56 180.993 460.755 183.678 Q463.949 186.363 463.949 190.854 Q463.949 192.983 463.139 194.905 Q462.352 196.803 460.245 199.395 Q459.667 200.067 456.565 203.284 Q453.463 206.479 447.815 212.242 Z\" fill=\"#000000\" fill-rule=\"nonzero\" fill-opacity=\"1\" /><polyline clip-path=\"url(#clip320)\" style=\"stroke:#3da44d; stroke-linecap:round; stroke-linejoin:round; stroke-width:4; stroke-opacity:1; fill:none\" points=\"240.115,250.738 387.509,250.738 \"/>\n",
       "<path clip-path=\"url(#clip320)\" d=\"M425.917 270.425 Q424.111 275.055 422.398 276.467 Q420.685 277.879 417.815 277.879 L414.412 277.879 L414.412 274.314 L416.912 274.314 Q418.672 274.314 419.644 273.48 Q420.616 272.647 421.797 269.545 L422.56 267.601 L412.074 242.092 L416.588 242.092 L424.69 262.369 L432.792 242.092 L437.306 242.092 L425.917 270.425 Z\" fill=\"#000000\" fill-rule=\"nonzero\" fill-opacity=\"1\" /><path clip-path=\"url(#clip320)\" d=\"M457.954 249.383 Q461.31 250.101 463.185 252.369 Q465.083 254.638 465.083 257.971 Q465.083 263.087 461.565 265.888 Q458.046 268.689 451.565 268.689 Q449.389 268.689 447.074 268.249 Q444.783 267.832 442.329 266.976 L442.329 262.462 Q444.273 263.596 446.588 264.175 Q448.903 264.754 451.426 264.754 Q455.824 264.754 458.116 263.018 Q460.431 261.281 460.431 257.971 Q460.431 254.916 458.278 253.203 Q456.148 251.467 452.329 251.467 L448.301 251.467 L448.301 247.624 L452.514 247.624 Q455.963 247.624 457.792 246.258 Q459.62 244.87 459.62 242.277 Q459.62 239.615 457.722 238.203 Q455.847 236.768 452.329 236.768 Q450.408 236.768 448.208 237.184 Q446.009 237.601 443.371 238.481 L443.371 234.314 Q446.033 233.573 448.347 233.203 Q450.685 232.833 452.745 232.833 Q458.07 232.833 461.171 235.263 Q464.273 237.67 464.273 241.791 Q464.273 244.661 462.63 246.652 Q460.986 248.62 457.954 249.383 Z\" fill=\"#000000\" fill-rule=\"nonzero\" fill-opacity=\"1\" /><polyline clip-path=\"url(#clip320)\" style=\"stroke:#c271d2; stroke-linecap:round; stroke-linejoin:round; stroke-width:4; stroke-opacity:1; fill:none\" points=\"240.115,302.578 387.509,302.578 \"/>\n",
       "<path clip-path=\"url(#clip320)\" d=\"M425.917 322.265 Q424.111 326.895 422.398 328.307 Q420.685 329.719 417.815 329.719 L414.412 329.719 L414.412 326.154 L416.912 326.154 Q418.672 326.154 419.644 325.32 Q420.616 324.487 421.797 321.385 L422.56 319.441 L412.074 293.932 L416.588 293.932 L424.69 314.209 L432.792 293.932 L437.306 293.932 L425.917 322.265 Z\" fill=\"#000000\" fill-rule=\"nonzero\" fill-opacity=\"1\" /><path clip-path=\"url(#clip320)\" d=\"M456.634 289.372 L444.829 307.821 L456.634 307.821 L456.634 289.372 M455.408 285.298 L461.287 285.298 L461.287 307.821 L466.218 307.821 L466.218 311.709 L461.287 311.709 L461.287 319.858 L456.634 319.858 L456.634 311.709 L441.033 311.709 L441.033 307.196 L455.408 285.298 Z\" fill=\"#000000\" fill-rule=\"nonzero\" fill-opacity=\"1\" /></svg>\n"
      ]
     },
     "execution_count": 15,
     "metadata": {},
     "output_type": "execute_result"
    }
   ],
   "source": [
    "plot(dataframe_0[:,:strike], dataframe_0[:,:midpoint])\n",
    "plot!(dataframe_1[:,:strike], dataframe_1[:,:midpoint])\n",
    "plot!(dataframe_2[:,:strike], dataframe_2[:,:midpoint])\n",
    "plot!(dataframe_3[:,:strike], dataframe_3[:,:midpoint])"
   ]
  },
  {
   "cell_type": "markdown",
   "id": "f917ab4f-64f5-47d9-8238-7062d9fabf16",
   "metadata": {},
   "source": [
    "## Task 2: Build a lattice model of the `AMD` pricing data"
   ]
  },
  {
   "cell_type": "markdown",
   "id": "b01985c2-fe17-49d8-bf02-a71d4b15d4a8",
   "metadata": {},
   "source": [
    "## Disclaimer and Risks\n",
    "__This content is offered solely for training and informational purposes__. No offer or solicitation to buy or sell securities or derivative products or any investment or trading advice or strategy is made, given, or endorsed by the teaching team. \n",
    "\n",
    "__Trading involves risk__. Carefully review your financial situation before investing in securities, futures contracts, options, or commodity interests. Past performance, whether actual or indicated by historical tests of strategies, is no guarantee of future performance or success. Trading is generally inappropriate for someone with limited resources, investment or trading experience, or a low-risk tolerance.  Only risk capital that is not required for living expenses.\n",
    "\n",
    "__You are fully responsible for any investment or trading decisions you make__. Such decisions should be based solely on evaluating your financial circumstances, investment or trading objectives, risk tolerance, and liquidity needs."
   ]
  }
 ],
 "metadata": {
  "kernelspec": {
   "display_name": "Julia 1.10.2",
   "language": "julia",
   "name": "julia-1.10"
  },
  "language_info": {
   "file_extension": ".jl",
   "mimetype": "application/julia",
   "name": "julia",
   "version": "1.10.2"
  }
 },
 "nbformat": 4,
 "nbformat_minor": 5
}
