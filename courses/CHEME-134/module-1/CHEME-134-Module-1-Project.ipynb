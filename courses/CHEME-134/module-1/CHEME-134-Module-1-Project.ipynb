{
 "cells": [
  {
   "cell_type": "markdown",
   "id": "e93144b2-2b0d-4d36-8af4-72dac60ee6d5",
   "metadata": {},
   "source": [
    "# Example: Simulation of American Option Price Dynamics using a Binomial Lattice\n",
    "This example will familiarize students with the simulation of the price dynamics of [American-style option contracts](https://en.wikipedia.org/wiki/Option_style). In particular, we'll explore how the contract length, i.e., the days to expiration (DTE), influences the contract price as a function of the strike price $K$.\n",
    "\n",
    "### Learning Objectives\n",
    "* `Prerequisites`: load and interrogate the options chains for different values of the days to expiration (DTE) parameter for an example underlying ticker, in this case, [Advanced Micro Devices](https://finance.yahoo.com/quote/AMD/) with the ticker symbol `AMD.`"
   ]
  },
  {
   "cell_type": "markdown",
   "id": "6dcc954d-c3f1-4595-ac30-716a0755a3c0",
   "metadata": {},
   "source": [
    "## Setup\n",
    "Set up the computational environment by including the `Include.jl` file. The `Include.jl` file loads external packages, various functions we will use in the exercise, and custom types to model the components of our example problem.\n",
    "* For additional information on functions and types used in this material, see the [Julia programming language documentation](https://docs.julialang.org/en/v1/) and the [VLQuantitativeFinancePackage.jl documentation](https://github.com/varnerlab/VLQuantitativeFinancePackage.jl). "
   ]
  },
  {
   "cell_type": "code",
   "execution_count": null,
   "id": "9c3d8a63-c334-4d55-bca6-e3db6820e54c",
   "metadata": {},
   "outputs": [
    {
     "name": "stderr",
     "output_type": "stream",
     "text": [
      "\u001b[32m\u001b[1m    Updating\u001b[22m\u001b[39m git-repo `https://github.com/varnerlab/VLQuantitativeFinancePackage.jl.git`\n"
     ]
    }
   ],
   "source": [
    "include(\"Include.jl\");"
   ]
  },
  {
   "cell_type": "markdown",
   "id": "68bddc4c-cd4e-4022-a238-5ea0dc3f4e7e",
   "metadata": {},
   "source": [
    "## Prerequisites\n",
    "First, load the options chain dataset using the `MyOptionsChainDataSet()` function. This function returns the pricing data as a [Julia Dictionary type](https://docs.julialang.org/en/v1/base/collections/#Dictionaries) with `keys` holding the number of days to expiration `DTE::Int64` and `values` being a [Vector](https://docs.julialang.org/en/v1/base/arrays/#Base.Vector-Tuple{UndefInitializer,%20Any}) of multilevel dictionaries. We'll store the options contract price data in the `dataset` variable.\n",
    "* In this example, we'll use options pricing data for [Advanced Micro Devices](https://finance.yahoo.com/quote/AMD/) as the underlying asset; [Advanced Micro Devices](https://finance.yahoo.com/quote/AMD/) has the ticker symbol `AMD.` The `dataset` variable holds pricing information for `call` and `put` contracts. Each contract has a different strike price. In addition to the contract price, there is additional information about the underlying asset and contract. \n",
    "* For any given `DTE` key, the price data is organized as a `Vector{Dict{String, Any}},` where each element in the vector is a dictionary with the `keys`: `day`, `details`,`last_quote`,`last_trade`,`underlying_asset`,`open_interest` and `break_even_price.` Each key (except for the `open_interest` and `break_even_price` keys) points to another dictionary."
   ]
  },
  {
   "cell_type": "code",
   "execution_count": null,
   "id": "901ddcb2-0203-432f-bca5-4041046bdb64",
   "metadata": {},
   "outputs": [],
   "source": [
    "dataset = MyOptionsChainDataSet()"
   ]
  },
  {
   "cell_type": "markdown",
   "id": "07314c3f-0ab8-4255-b6a2-d791761ca7a5",
   "metadata": {},
   "source": [
    "For example, we can access the first contract with `DTE = 39 days` to expiration by first passing in the `DTE` key value, followed by the index `1`, i.e., `dataset[39][1]`:"
   ]
  },
  {
   "cell_type": "code",
   "execution_count": null,
   "id": "f4787ac9-dbad-4a9c-9db7-fb59c2cab5b7",
   "metadata": {},
   "outputs": [],
   "source": [
    "dataset[39];"
   ]
  },
  {
   "cell_type": "markdown",
   "id": "104849c8-b23e-471a-982d-1aff79e0a01f",
   "metadata": {},
   "source": [
    "__Details__: To access the `details` field for the `(DTE, index) = (39,1)` contract (which corresponds to a `put` contract with a strike price of `K = 185.0` USD/share, we can append the `details` key (or any other of the sub-keys) to the end of the dataset call, i.e., `dataset[39][1][\"details\"]`:"
   ]
  },
  {
   "cell_type": "code",
   "execution_count": null,
   "id": "ea26b444-9ee8-4d71-8398-01f52bf80435",
   "metadata": {},
   "outputs": [],
   "source": [
    "dataset[39][1][\"details\"]"
   ]
  },
  {
   "cell_type": "markdown",
   "id": "b4e2440f-0928-466f-9b43-d34b5f9bbcad",
   "metadata": {},
   "source": [
    "__Quote__: To access the `last_quote` field for the `(DTE, index) = (39,1)` contract (which corresponds to a `put` contract with a strike price of `K = 185.0` USD/share), we can append the `last_quote` key (or any other of the sub-keys) to the end of the dataset call, i.e., `dataset[39][1][\"last_quote\"]`:"
   ]
  },
  {
   "cell_type": "code",
   "execution_count": null,
   "id": "0ef695db-a81a-4140-b1a9-af9cab823f85",
   "metadata": {},
   "outputs": [],
   "source": [
    "dataset[39][1][\"last_quote\"]"
   ]
  },
  {
   "cell_type": "markdown",
   "id": "a9003b0a-6590-4406-9aef-af860a0816bf",
   "metadata": {},
   "source": [
    "__Underlying__: To access the `underlying_asset` field for the `(DTE, index) = (39,1)` contract (which corresponds to a `put` contract with a strike price of `K = 185.0` USD/share), we can append the `underlying_asset` key (or any other of the sub-keys) to the end of the dataset call, i.e., `dataset[39][1][\"underlying_asset\"]`:"
   ]
  },
  {
   "cell_type": "code",
   "execution_count": null,
   "id": "6f611228-8d2f-4fbc-ad90-588f962eba48",
   "metadata": {},
   "outputs": [],
   "source": [
    "dataset[39][1][\"underlying_asset\"]"
   ]
  },
  {
   "cell_type": "markdown",
   "id": "6252bd3f-6dce-4cd8-9be3-c259048a4ae1",
   "metadata": {},
   "source": [
    "## Task 1: Visualize the trends in the `AMD` options dataset"
   ]
  },
  {
   "cell_type": "code",
   "execution_count": null,
   "id": "8603d960-8aa8-45a9-b63a-8ca48cf947a5",
   "metadata": {},
   "outputs": [],
   "source": [
    "dataset[11][10][\"details\"]"
   ]
  },
  {
   "cell_type": "code",
   "execution_count": null,
   "id": "29f4ce96-cec7-41c5-9ef5-2d64348a7d2a",
   "metadata": {},
   "outputs": [],
   "source": [
    "dataframe_0 = search(dataset, 11, (record::Dict{String, Any}) -> begin\n",
    "\n",
    "        # initialize -\n",
    "        should_keep_record = false;\n",
    "        if (record[\"details\"][\"contract_type\"] == \"put\")\n",
    "            should_keep_record = true\n",
    "        end;\n",
    "            \n",
    "        # return -\n",
    "        return should_keep_record;\n",
    "    end\n",
    ");"
   ]
  },
  {
   "cell_type": "code",
   "execution_count": null,
   "id": "fa1fa886-21a5-474b-8d59-bb922812b45a",
   "metadata": {},
   "outputs": [],
   "source": [
    "dataframe_1 = search(dataset,32, (record::Dict{String, Any}) -> begin\n",
    "\n",
    "        # initialize -\n",
    "        should_keep_record = false;\n",
    "\n",
    "        if (record[\"details\"][\"contract_type\"] == \"put\")\n",
    "            should_keep_record = true\n",
    "        end;\n",
    "            \n",
    "        # return -\n",
    "        return should_keep_record;\n",
    "    end\n",
    ");"
   ]
  },
  {
   "cell_type": "code",
   "execution_count": null,
   "id": "2127347e-df14-40c3-9063-e89d40d5a7da",
   "metadata": {},
   "outputs": [],
   "source": [
    "dataframe_2 = search(dataset,60, (record::Dict{String, Any}) -> begin\n",
    "\n",
    "        # initialize -\n",
    "        should_keep_record = false;\n",
    "\n",
    "        if (record[\"details\"][\"contract_type\"] == \"put\")\n",
    "            should_keep_record = true\n",
    "        end;\n",
    "            \n",
    "        # return -\n",
    "        return should_keep_record;\n",
    "    end\n",
    ");"
   ]
  },
  {
   "cell_type": "code",
   "execution_count": null,
   "id": "51dac555-dbfa-4638-9fc6-e00759c8ac18",
   "metadata": {},
   "outputs": [],
   "source": [
    "dataframe_3 = search(dataset, 123, (record::Dict{String, Any}) -> begin\n",
    "\n",
    "        # initialize -\n",
    "        should_keep_record = false;\n",
    "\n",
    "        if (record[\"details\"][\"contract_type\"] == \"put\")\n",
    "            should_keep_record = true\n",
    "        end;\n",
    "            \n",
    "        # return -\n",
    "        return should_keep_record;\n",
    "    end\n",
    ");"
   ]
  },
  {
   "cell_type": "code",
   "execution_count": null,
   "id": "3b14ec42-57dc-4843-bde2-b011e692e675",
   "metadata": {},
   "outputs": [],
   "source": [
    "dataframe_1"
   ]
  },
  {
   "cell_type": "code",
   "execution_count": null,
   "id": "969f7314-e503-4997-90b0-65f218659842",
   "metadata": {},
   "outputs": [],
   "source": [
    "plot(dataframe_1[:,:strike], dataframe_1[:,:midpoint])\n",
    "plot!(dataframe_2[:,:strike], dataframe_2[:,:midpoint])\n",
    "plot!(dataframe_3[:,:strike], dataframe_3[:,:midpoint])"
   ]
  },
  {
   "cell_type": "markdown",
   "id": "f917ab4f-64f5-47d9-8238-7062d9fabf16",
   "metadata": {},
   "source": [
    "## Task 2: Build a lattice model of the `AMD` pricing data"
   ]
  },
  {
   "cell_type": "markdown",
   "id": "b01985c2-fe17-49d8-bf02-a71d4b15d4a8",
   "metadata": {},
   "source": [
    "## Disclaimer and Risks\n",
    "__This content is offered solely for training and informational purposes__. No offer or solicitation to buy or sell securities or derivative products or any investment or trading advice or strategy is made, given, or endorsed by the teaching team. \n",
    "\n",
    "__Trading involves risk__. Carefully review your financial situation before investing in securities, futures contracts, options, or commodity interests. Past performance, whether actual or indicated by historical tests of strategies, is no guarantee of future performance or success. Trading is generally inappropriate for someone with limited resources, investment or trading experience, or a low-risk tolerance.  Only risk capital that is not required for living expenses.\n",
    "\n",
    "__You are fully responsible for any investment or trading decisions you make__. Such decisions should be based solely on evaluating your financial circumstances, investment or trading objectives, risk tolerance, and liquidity needs."
   ]
  }
 ],
 "metadata": {
  "kernelspec": {
   "display_name": "Julia 1.10.2",
   "language": "julia",
   "name": "julia-1.10"
  },
  "language_info": {
   "file_extension": ".jl",
   "mimetype": "application/julia",
   "name": "julia",
   "version": "1.10.2"
  }
 },
 "nbformat": 4,
 "nbformat_minor": 5
}
