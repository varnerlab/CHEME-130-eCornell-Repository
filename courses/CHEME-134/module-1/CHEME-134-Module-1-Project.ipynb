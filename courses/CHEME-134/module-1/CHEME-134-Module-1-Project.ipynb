{
 "cells": [
  {
   "cell_type": "markdown",
   "id": "e93144b2-2b0d-4d36-8af4-72dac60ee6d5",
   "metadata": {},
   "source": [
    "# Example: Simulation of American Option Price Dynamics using a Binomial Lattice\n",
    "This example will familiarize students with the simulation of the price dynamics of [American-style option contracts](https://en.wikipedia.org/wiki/Option_style). In particular, we'll explore how the contract length, i.e., the days to expiration (DTE), influences the contract price as a function of the strike price $K$.\n",
    "\n",
    "### Learning Objectives\n",
    "* `Prerequisites`: load and interrogate the options chains for different values of the days to expiration (DTE) parameter for an example underlying ticker, in this case, [Advanced Micro Devices](https://finance.yahoo.com/quote/AMD/) with the ticker symbol `AMD.`"
   ]
  },
  {
   "cell_type": "markdown",
   "id": "6dcc954d-c3f1-4595-ac30-716a0755a3c0",
   "metadata": {},
   "source": [
    "## Setup\n",
    "Set up the computational environment by including the `Include.jl` file. The `Include.jl` file loads external packages, various functions we will use in the exercise, and custom types to model the components of our example problem.\n",
    "* For additional information on functions and types used in this material, see the [Julia programming language documentation](https://docs.julialang.org/en/v1/) and the [VLQuantitativeFinancePackage.jl documentation](https://github.com/varnerlab/VLQuantitativeFinancePackage.jl). "
   ]
  },
  {
   "cell_type": "code",
   "execution_count": 16,
   "id": "9c3d8a63-c334-4d55-bca6-e3db6820e54c",
   "metadata": {},
   "outputs": [
    {
     "name": "stderr",
     "output_type": "stream",
     "text": [
      "\u001b[32m\u001b[1m    Updating\u001b[22m\u001b[39m git-repo `https://github.com/varnerlab/VLQuantitativeFinancePackage.jl.git`\n",
      "\u001b[32m\u001b[1m   Resolving\u001b[22m\u001b[39m package versions...\n",
      "\u001b[32m\u001b[1m  No Changes\u001b[22m\u001b[39m to `~/Desktop/julia_work/CHEME-130-eCornell-Repository/courses/CHEME-134/module-1/Project.toml`\n",
      "\u001b[32m\u001b[1m  No Changes\u001b[22m\u001b[39m to `~/Desktop/julia_work/CHEME-130-eCornell-Repository/courses/CHEME-134/module-1/Manifest.toml`\n",
      "\u001b[32m\u001b[1m  Activating\u001b[22m\u001b[39m project at `~/Desktop/julia_work/CHEME-130-eCornell-Repository/courses/CHEME-134/module-1`\n",
      "\u001b[32m\u001b[1m    Updating\u001b[22m\u001b[39m registry at `~/.julia/registries/General.toml`\n",
      "\u001b[32m\u001b[1m    Updating\u001b[22m\u001b[39m git-repo `https://github.com/varnerlab/VLQuantitativeFinancePackage.jl.git`\n",
      "\u001b[32m\u001b[1m  No Changes\u001b[22m\u001b[39m to `~/Desktop/julia_work/CHEME-130-eCornell-Repository/courses/CHEME-134/module-1/Project.toml`\n",
      "\u001b[32m\u001b[1m  No Changes\u001b[22m\u001b[39m to `~/Desktop/julia_work/CHEME-130-eCornell-Repository/courses/CHEME-134/module-1/Manifest.toml`\n"
     ]
    }
   ],
   "source": [
    "include(\"Include.jl\");"
   ]
  },
  {
   "cell_type": "markdown",
   "id": "68bddc4c-cd4e-4022-a238-5ea0dc3f4e7e",
   "metadata": {},
   "source": [
    "## Prerequisites\n",
    "First, load the options chain dataset using the `MyOptionsChainDataSet()` function. This function returns the pricing data as a [Julia Dictionary type](https://docs.julialang.org/en/v1/base/collections/#Dictionaries) with `keys` holding the number of days to expiration `DTE::Int64` and `values` being a [Vector](https://docs.julialang.org/en/v1/base/arrays/#Base.Vector-Tuple{UndefInitializer,%20Any}) of multilevel dictionaries. We'll store the options contract price data in the `dataset` variable.\n",
    "* In this example, we'll use options pricing data for [Advanced Micro Devices](https://finance.yahoo.com/quote/AMD/) as the underlying asset; [Advanced Micro Devices](https://finance.yahoo.com/quote/AMD/) has the ticker symbol `AMD.` The `dataset` variable holds pricing information for `call` and `put` contracts. Each contract has a different strike price. In addition to the contract price, there is additional information about the underlying asset and contract. \n",
    "* For any given `DTE` key, the price data is organized as a `Vector{Dict{String, Any}},` where each element in the vector is a dictionary with the `keys`: `day`, `details`,`last_quote`,`last_trade`,`underlying_asset`,`open_interest` and `break_even_price.` Each key (except for the `open_interest` and `break_even_price` keys) points to another dictionary."
   ]
  },
  {
   "cell_type": "code",
   "execution_count": 2,
   "id": "901ddcb2-0203-432f-bca5-4041046bdb64",
   "metadata": {},
   "outputs": [
    {
     "data": {
      "text/plain": [
       "Dict{Int64, Vector{Dict{String, Any}}} with 15 entries:\n",
       "  123 => [Dict(\"day\"=>Dict{String, Any}(\"change\"=>0, \"high\"=>79.1, \"change_perc…\n",
       "  60  => [Dict(\"day\"=>Dict{String, Any}(\"change\"=>0, \"high\"=>73, \"change_percen…\n",
       "  32  => [Dict(\"day\"=>Dict{String, Any}(\"change\"=>0, \"high\"=>76.7, \"change_perc…\n",
       "  11  => [Dict(\"day\"=>Dict{String, Any}(\"change\"=>0, \"high\"=>59.05, \"change_per…\n",
       "  368 => [Dict(\"day\"=>Dict{String, Any}(\"change\"=>0, \"high\"=>81.1, \"change_perc…\n",
       "  578 => [Dict(\"day\"=>Dict{String, Any}(), \"details\"=>Dict{String, Any}(\"contra…\n",
       "  214 => [Dict(\"day\"=>Dict{String, Any}(\"change\"=>0, \"high\"=>178.6, \"change_per…\n",
       "  732 => [Dict(\"day\"=>Dict{String, Any}(), \"details\"=>Dict{String, Any}(\"contra…\n",
       "  39  => [Dict(\"day\"=>Dict{String, Any}(), \"details\"=>Dict{String, Any}(\"contra…\n",
       "  914 => [Dict(\"day\"=>Dict{String, Any}(\"change\"=>0, \"high\"=>81.5, \"change_perc…\n",
       "  25  => [Dict(\"day\"=>Dict{String, Any}(), \"details\"=>Dict{String, Any}(\"contra…\n",
       "  151 => [Dict(\"day\"=>Dict{String, Any}(\"change\"=>0, \"high\"=>74.25, \"change_per…\n",
       "  4   => [Dict(\"day\"=>Dict{String, Any}(), \"details\"=>Dict{String, Any}(\"contra…\n",
       "  18  => [Dict(\"day\"=>Dict{String, Any}(\"change\"=>0, \"high\"=>57.1, \"change_perc…\n",
       "  88  => [Dict(\"day\"=>Dict{String, Any}(\"change\"=>0, \"high\"=>77, \"change_percen…"
      ]
     },
     "execution_count": 2,
     "metadata": {},
     "output_type": "execute_result"
    }
   ],
   "source": [
    "dataset = MyOptionsChainDataSet()"
   ]
  },
  {
   "cell_type": "markdown",
   "id": "07314c3f-0ab8-4255-b6a2-d791761ca7a5",
   "metadata": {},
   "source": [
    "For example, we can access the first contract with `DTE = 39 days` to expiration by first passing in the `DTE` key value, followed by the index `1`, i.e., `dataset[39][1]`:"
   ]
  },
  {
   "cell_type": "code",
   "execution_count": 14,
   "id": "f4787ac9-dbad-4a9c-9db7-fb59c2cab5b7",
   "metadata": {},
   "outputs": [
    {
     "data": {
      "text/plain": [
       "Dict{String, Any} with 8 entries:\n",
       "  \"day\"              => Dict{String, Any}()\n",
       "  \"details\"          => Dict{String, Any}(\"contract_type\"=>\"put\", \"ticker\"=>\"O:…\n",
       "  \"last_quote\"       => Dict{String, Any}(\"midpoint\"=>64.175, \"ask\"=>65.65, \"ti…\n",
       "  \"last_trade\"       => Dict{String, Any}()\n",
       "  \"underlying_asset\" => Dict{String, Any}(\"timeframe\"=>\"REAL-TIME\", \"ticker\"=>\"…\n",
       "  \"greeks\"           => Dict{String, Any}()\n",
       "  \"open_interest\"    => 0\n",
       "  \"break_even_price\" => 120.825"
      ]
     },
     "execution_count": 14,
     "metadata": {},
     "output_type": "execute_result"
    }
   ],
   "source": [
    "dataset[39][1]"
   ]
  },
  {
   "cell_type": "markdown",
   "id": "104849c8-b23e-471a-982d-1aff79e0a01f",
   "metadata": {},
   "source": [
    "To access the `details` field for the `(DTE, index) = (39,1)` contract (which corresponds to a `put` contract with a strike price of $K = 185.0$ USD/share, we can append the `details` key (or any other of the sub-keys) to the end of the dataset call, i.e., `dataset[39][1][\"details\"]`:"
   ]
  },
  {
   "cell_type": "code",
   "execution_count": 15,
   "id": "ea26b444-9ee8-4d71-8398-01f52bf80435",
   "metadata": {},
   "outputs": [
    {
     "data": {
      "text/plain": [
       "Dict{String, Any} with 6 entries:\n",
       "  \"contract_type\"       => \"put\"\n",
       "  \"ticker\"              => \"O:AMD230728P00185000\"\n",
       "  \"strike_price\"        => 185\n",
       "  \"exercise_style\"      => \"american\"\n",
       "  \"expiration_date\"     => \"2023-07-28\"\n",
       "  \"shares_per_contract\" => 100"
      ]
     },
     "execution_count": 15,
     "metadata": {},
     "output_type": "execute_result"
    }
   ],
   "source": [
    "dataset[39][1][\"details\"]"
   ]
  },
  {
   "cell_type": "markdown",
   "id": "b4e2440f-0928-466f-9b43-d34b5f9bbcad",
   "metadata": {},
   "source": [
    "To access the `last_quote` field for the `(DTE, index) = (39,1)` contract (which corresponds to a `put` contract with a strike price of $K = 185.0$ USD/share, we can append the `last_quote` key (or any other of the sub-keys) to the end of the dataset call, i.e., `dataset[39][1][\"last_quote\"]`:"
   ]
  },
  {
   "cell_type": "code",
   "execution_count": 17,
   "id": "0ef695db-a81a-4140-b1a9-af9cab823f85",
   "metadata": {},
   "outputs": [
    {
     "data": {
      "text/plain": [
       "Dict{String, Any} with 7 entries:\n",
       "  \"midpoint\"     => 64.175\n",
       "  \"ask\"          => 65.65\n",
       "  \"timeframe\"    => \"REAL-TIME\"\n",
       "  \"bid_size\"     => 10\n",
       "  \"ask_size\"     => 1\n",
       "  \"bid\"          => 62.7\n",
       "  \"last_updated\" => 1686945598063236608"
      ]
     },
     "execution_count": 17,
     "metadata": {},
     "output_type": "execute_result"
    }
   ],
   "source": [
    "dataset[39][1][\"last_quote\"]"
   ]
  },
  {
   "cell_type": "markdown",
   "id": "6252bd3f-6dce-4cd8-9be3-c259048a4ae1",
   "metadata": {},
   "source": [
    "## Task 1: Visualize the trends in the `AMD` options dataset"
   ]
  },
  {
   "cell_type": "markdown",
   "id": "f917ab4f-64f5-47d9-8238-7062d9fabf16",
   "metadata": {},
   "source": [
    "## Task 2: Build a lattice model of the `AMD` pricing data"
   ]
  },
  {
   "cell_type": "markdown",
   "id": "b01985c2-fe17-49d8-bf02-a71d4b15d4a8",
   "metadata": {},
   "source": [
    "## Disclaimer and Risks\n",
    "__This content is offered solely for training and informational purposes__. No offer or solicitation to buy or sell securities or derivative products or any investment or trading advice or strategy is made, given, or endorsed by the teaching team. \n",
    "\n",
    "__Trading involves risk__. Carefully review your financial situation before investing in securities, futures contracts, options, or commodity interests. Past performance, whether actual or indicated by historical tests of strategies, is no guarantee of future performance or success. Trading is generally inappropriate for someone with limited resources, investment or trading experience, or a low-risk tolerance.  Only risk capital that is not required for living expenses.\n",
    "\n",
    "__You are fully responsible for any investment or trading decisions you make__. Such decisions should be based solely on evaluating your financial circumstances, investment or trading objectives, risk tolerance, and liquidity needs."
   ]
  },
  {
   "cell_type": "code",
   "execution_count": null,
   "id": "07f8aafd-6c38-427c-a4ba-a9eb2aaab0ef",
   "metadata": {},
   "outputs": [],
   "source": []
  }
 ],
 "metadata": {
  "kernelspec": {
   "display_name": "Julia 1.10.2",
   "language": "julia",
   "name": "julia-1.10"
  },
  "language_info": {
   "file_extension": ".jl",
   "mimetype": "application/julia",
   "name": "julia",
   "version": "1.10.2"
  }
 },
 "nbformat": 4,
 "nbformat_minor": 5
}
