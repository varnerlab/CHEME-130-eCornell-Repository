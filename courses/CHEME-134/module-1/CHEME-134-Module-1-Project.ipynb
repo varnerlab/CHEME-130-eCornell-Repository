{
 "cells": [
  {
   "cell_type": "markdown",
   "id": "f144b817-3e4c-40aa-a613-cee3a498259f",
   "metadata": {},
   "source": [
    "# Project: Understanding the Intrinsic and Extrinsic Value of Options Premium\n",
    "Fill me in"
   ]
  },
  {
   "cell_type": "markdown",
   "id": "73db5884-9206-4961-b8bc-76a3759c6efb",
   "metadata": {},
   "source": [
    "## Setup\n",
    "Set up the computational environment by including the `Include.jl` file. The `Include.jl` file loads external packages, various functions we will use in the exercise, and custom types to model the components of our example problem.\n",
    "* For additional information on functions and types used in this material, see the [Julia programming language documentation](https://docs.julialang.org/en/v1/) and the [VLQuantitativeFinancePackage.jl documentation](https://github.com/varnerlab/VLQuantitativeFinancePackage.jl). "
   ]
  },
  {
   "cell_type": "code",
   "execution_count": 3,
   "id": "1c825800-8970-4e90-af28-73731624a92e",
   "metadata": {},
   "outputs": [
    {
     "name": "stderr",
     "output_type": "stream",
     "text": [
      "\u001b[32m\u001b[1m    Updating\u001b[22m\u001b[39m git-repo `https://github.com/varnerlab/VLQuantitativeFinancePackage.jl.git`\n",
      "\u001b[32m\u001b[1m   Resolving\u001b[22m\u001b[39m package versions...\n",
      "\u001b[32m\u001b[1m  No Changes\u001b[22m\u001b[39m to `~/Desktop/julia_work/CHEME-130-eCornell-Repository/courses/CHEME-134/module-1/Project.toml`\n",
      "\u001b[32m\u001b[1m  No Changes\u001b[22m\u001b[39m to `~/Desktop/julia_work/CHEME-130-eCornell-Repository/courses/CHEME-134/module-1/Manifest.toml`\n",
      "\u001b[32m\u001b[1m  Activating\u001b[22m\u001b[39m project at `~/Desktop/julia_work/CHEME-130-eCornell-Repository/courses/CHEME-134/module-1`\n",
      "\u001b[32m\u001b[1m    Updating\u001b[22m\u001b[39m registry at `~/.julia/registries/General.toml`\n",
      "\u001b[32m\u001b[1m    Updating\u001b[22m\u001b[39m git-repo `https://github.com/varnerlab/VLQuantitativeFinancePackage.jl.git`\n",
      "\u001b[32m\u001b[1m  No Changes\u001b[22m\u001b[39m to `~/Desktop/julia_work/CHEME-130-eCornell-Repository/courses/CHEME-134/module-1/Project.toml`\n",
      "\u001b[32m\u001b[1m  No Changes\u001b[22m\u001b[39m to `~/Desktop/julia_work/CHEME-130-eCornell-Repository/courses/CHEME-134/module-1/Manifest.toml`\n"
     ]
    }
   ],
   "source": [
    "include(\"Include.jl\");"
   ]
  },
  {
   "cell_type": "markdown",
   "id": "6ee82c31-03be-4009-8548-7ec2ddf5f51c",
   "metadata": {},
   "source": [
    "## Prerequisites\n",
    "Load the options chain dataset using the `MyOptionsChainDataSet()` function. This function returns the pricing data as a [Julia Dictionary type](https://docs.julialang.org/en/v1/base/collections/#Dictionaries) with `keys` holding the number of days to expiration `DTE::Int64` and `values` being a [Vector](https://docs.julialang.org/en/v1/base/arrays/#Base.Vector-Tuple{UndefInitializer,%20Any}) of multilevel dictionaries. We'll store the options contract price data in the `dataset` variable.\n",
    "* In this project, we'll use options pricing data for [Advanced Micro Devices](https://finance.yahoo.com/quote/AMD/) as the underlying asset. The `dataset` variable holds pricing information for `call` and `put` contracts. Each contract has a different strike price. In addition to the contract price, there is additional information about the underlying asset and contract. \n",
    "* For any given `DTE` key, the price data is organized as a `Vector{Dict{String, Any}},` where each element in the vector is a dictionary with the `keys`: `day,` `details,` `last_quote,` `last_trade,` `underlying_asset,` `open_interest` and `break_even_price.` Each key (except for the `open_interest` and `break_even_price` keys) points to another dictionary.\n",
    "* Finally, we populate lists of `call` and `put` options in the `list_of_put_options_chains` and `list_of_call_options_chains` variables, which have the type `Dict{Int64, DataFrame},` using the `search(...)` function."
   ]
  },
  {
   "cell_type": "code",
   "execution_count": 5,
   "id": "82a16488-4c73-4759-932b-3bc653c3c65a",
   "metadata": {},
   "outputs": [],
   "source": [
    "dataset = MyOptionsChainDataSet();"
   ]
  },
  {
   "cell_type": "markdown",
   "id": "490c976a-df49-4b71-b1a9-40cf46e749ff",
   "metadata": {},
   "source": [
    "Let's populate a list of `put` and `call` options written against `AMD`  whose strike price is between `60` and `180` USD/share. We store these lists in the `list_of_put_options_chains` and `list_of_call_options_chains,` which have the type `Dict{Int64, DataFrame}.`\n",
    "\n",
    "* __Put options__: `Unhide` the code block below to see how we populate a list of `put` options with strike prices between `60.0 ≤ K ≤ 180.0` in the `list_of_put_options_chains` variable"
   ]
  },
  {
   "cell_type": "code",
   "execution_count": 24,
   "id": "8fa2c8b7-63e6-4791-a1d7-9aeb6c4fbd5c",
   "metadata": {},
   "outputs": [],
   "source": [
    "list_of_put_options_chains = Dict{Int64,DataFrame}();\n",
    "DTEs = keys(dataset) |> collect |> sort;\n",
    "for dte_value ∈ DTEs\n",
    "    search(dataset, dte_value, (DTE::Int64, record::Dict{String, Any}) -> begin\n",
    "            K = record[\"details\"][\"strike_price\"]; # strike for this contract\n",
    "            if (record[\"details\"][\"contract_type\"] == \"put\" && 60.0 ≤ K ≤ 180.0)\n",
    "                return true\n",
    "            end\n",
    "            return false\n",
    "        end\n",
    "    ) |> dataframe -> list_of_put_options_chains[dte_value] = dataframe;\n",
    "end"
   ]
  },
  {
   "cell_type": "markdown",
   "id": "66c1963e-d5b7-4e17-a7fd-678b2a17a8cc",
   "metadata": {},
   "source": [
    "* __Call options__: `Unhide` the code block below to see how we populate a list of `call` options with strike prices between `60.0 ≤ K ≤ 180.0` in the `list_of_call_options_chains` variable"
   ]
  },
  {
   "cell_type": "code",
   "execution_count": 26,
   "id": "6ebf2d76-f090-43cd-b791-2acd6f802347",
   "metadata": {},
   "outputs": [],
   "source": [
    "list_of_call_options_chains = Dict{Int64,DataFrame}();\n",
    "DTEs = keys(dataset) |> collect |> sort;\n",
    "for dte_value ∈ DTEs\n",
    "    search(dataset, dte_value, (DTE::Int64, record::Dict{String, Any}) -> begin\n",
    "            K = record[\"details\"][\"strike_price\"]; # strike for this contract\n",
    "            if (record[\"details\"][\"contract_type\"] == \"call\" && 60.0 ≤ K ≤ 180.0)\n",
    "                return true\n",
    "            end\n",
    "            return false\n",
    "        end\n",
    "    ) |> dataframe -> list_of_call_options_chains[dte_value] = dataframe;\n",
    "end"
   ]
  },
  {
   "cell_type": "code",
   "execution_count": null,
   "id": "1b259bd2-68c8-4b14-8cd1-85c89c2c37f9",
   "metadata": {},
   "outputs": [],
   "source": []
  }
 ],
 "metadata": {
  "kernelspec": {
   "display_name": "Julia 1.10.3",
   "language": "julia",
   "name": "julia-1.10"
  },
  "language_info": {
   "file_extension": ".jl",
   "mimetype": "application/julia",
   "name": "julia",
   "version": "1.10.3"
  }
 },
 "nbformat": 4,
 "nbformat_minor": 5
}
