{
 "cells": [
  {
   "cell_type": "markdown",
   "id": "18663d94-9c32-4bc0-86ac-1a7c91b9663d",
   "metadata": {},
   "source": [
    "# Example: Compute the Probability of Profit for a Single Options Contract\n",
    "Fill me in"
   ]
  },
  {
   "cell_type": "markdown",
   "id": "722d50c8-e2ee-4f43-9f2e-0647979477b4",
   "metadata": {},
   "source": [
    "## Setup\n",
    "Set up the computational environment by including the `Include.jl` file. The `Include.jl` file loads external packages, various functions we will use in the exercise, and custom types to model the components of our example problem.\n",
    "* For additional information on functions and types used in this material, see the [Julia programming language documentation](https://docs.julialang.org/en/v1/) and the [VLQuantitativeFinancePackage.jl documentation](https://github.com/varnerlab/VLQuantitativeFinancePackage.jl). "
   ]
  },
  {
   "cell_type": "code",
   "execution_count": null,
   "id": "6431a58b-8a83-4ec1-84dd-86026bb3dc4e",
   "metadata": {},
   "outputs": [
    {
     "name": "stderr",
     "output_type": "stream",
     "text": [
      "\u001b[32m\u001b[1m    Updating\u001b[22m\u001b[39m git-repo `https://github.com/varnerlab/VLQuantitativeFinancePackage.jl.git`\n",
      "\u001b[32m\u001b[1m   Resolving\u001b[22m\u001b[39m package versions...\n"
     ]
    }
   ],
   "source": [
    "include(\"Include.jl\");"
   ]
  },
  {
   "cell_type": "markdown",
   "id": "09f3b5fd-90fd-4ed4-8f51-6d2bb38cb817",
   "metadata": {},
   "source": [
    "## Prerequisites\n",
    "Before doing anything else, load the options chain dataset using the `MyOptionsChainDataSet()` function. This function returns the pricing data as a [Julia Dictionary type](https://docs.julialang.org/en/v1/base/collections/#Dictionaries) with `keys` holding the number of days to expiration `DTE::Int64` and `values` being a [Vector](https://docs.julialang.org/en/v1/base/arrays/#Base.Vector-Tuple{UndefInitializer,%20Any}) of multilevel dictionaries. We'll store the options contract price data in the `dataset` variable.\n",
    "* In this example, we'll use options pricing data for [Tesla](https://finance.yahoo.com/quote/TSLA/) as the underlying asset. The `dataset` variable holds pricing information for `call` and `put` contracts. Each contract has a different strike price. In addition to the contract price, there is additional information about the underlying asset and contract. \n",
    "* For any given `DTE` key, the price data is organized as a `Vector{Dict{String, Any}},` where each element in the vector corresponds to a different strike price, and each strike price is a dictionary with keys: `day,` `details,` `last_quote,` `last_trade,` `underlying_asset,` `open_interest` and `break_even_price.` Each key (except for the `open_interest` and `break_even_price` keys) points to another dictionary."
   ]
  },
  {
   "cell_type": "code",
   "execution_count": null,
   "id": "69d926b9-82ea-47be-a0e6-275bd869a50a",
   "metadata": {},
   "outputs": [],
   "source": [
    "dataset = MyOptionsChainDataSet()"
   ]
  },
  {
   "cell_type": "markdown",
   "id": "cf129ff3-1f14-4a3e-9e16-12614241eb86",
   "metadata": {},
   "source": [
    "## Task 1: Compute the break-even point for a short TSLA put\n",
    "Suppose you sold a `DTE = 60-day` put option on `TSLA,` and you collected the mid-point premium for the sale. Let's use options data in the `dataset` to compute the breakeven point for the contract, i.e., the value of the `TSLA` share price where you start to lose money on the trade as a function of the strike price `K.`"
   ]
  },
  {
   "cell_type": "markdown",
   "id": "3450a472-9194-4f18-8384-d250498f7db1",
   "metadata": {},
   "source": [
    "## Task 2: Construct a single asset geometric Brownian motion of TSLA share price\n",
    "Fill me in"
   ]
  },
  {
   "cell_type": "code",
   "execution_count": null,
   "id": "ac65f9c4-941e-4b3d-adcb-67f8683d95cc",
   "metadata": {},
   "outputs": [],
   "source": [
    "parameters_df = CSV.read(joinpath(_PATH_TO_DATA, \"gbmparameters\", \"Parameters-SP500-2018-2023.csv\"), DataFrame)"
   ]
  },
  {
   "cell_type": "code",
   "execution_count": null,
   "id": "f0fb6544-fb19-44e6-9945-ab11d915fcba",
   "metadata": {},
   "outputs": [],
   "source": [
    "μ̂ = filter(:ticker=> x-> x==\"TSLA\", parameters_df)[!,:drift];\n",
    "σ̂ = μ̂ = filter(:ticker=> x-> x==\"TSLA\", parameters_df)[!,:volatility];"
   ]
  },
  {
   "cell_type": "code",
   "execution_count": null,
   "id": "55e91630-8992-4c1b-8d60-9c7ca4375723",
   "metadata": {},
   "outputs": [],
   "source": []
  },
  {
   "cell_type": "markdown",
   "id": "3615f486-a80c-447a-a53f-38175e529001",
   "metadata": {},
   "source": [
    "## Task 3: Estimate the probability of profit as a function of the strike price\n",
    "Fill me in"
   ]
  },
  {
   "cell_type": "markdown",
   "id": "2113d94b-3935-4564-bd75-fd66169ae918",
   "metadata": {},
   "source": [
    "## Disclaimer and Risks\n",
    "__This content is offered solely for training and informational purposes__. No offer or solicitation to buy or sell securities or derivative products or any investment or trading advice or strategy is made, given, or endorsed by the teaching team. \n",
    "\n",
    "__Trading involves risk__. Carefully review your financial situation before investing in securities, futures contracts, options, or commodity interests. Past performance, whether actual or indicated by historical tests of strategies, is no guarantee of future performance or success. Trading is generally inappropriate for someone with limited resources, investment or trading experience, or a low-risk tolerance.  Only risk capital that is not required for living expenses.\n",
    "\n",
    "__You are fully responsible for any investment or trading decisions you make__. You should decide solely based on your financial circumstances, investment or trading objectives, risk tolerance, and liquidity needs."
   ]
  },
  {
   "cell_type": "code",
   "execution_count": null,
   "id": "980a43cd-2778-49bc-a119-8a58287b9bd0",
   "metadata": {},
   "outputs": [],
   "source": []
  }
 ],
 "metadata": {
  "kernelspec": {
   "display_name": "Julia 1.10.4",
   "language": "julia",
   "name": "julia-1.10"
  },
  "language_info": {
   "file_extension": ".jl",
   "mimetype": "application/julia",
   "name": "julia",
   "version": "1.10.4"
  }
 },
 "nbformat": 4,
 "nbformat_minor": 5
}
