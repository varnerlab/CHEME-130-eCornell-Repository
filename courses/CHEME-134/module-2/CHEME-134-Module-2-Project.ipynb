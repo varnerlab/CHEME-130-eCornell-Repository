{
 "cells": [
  {
   "cell_type": "markdown",
   "id": "d95a47a6-85dc-4837-b52d-5b4d109ac311",
   "metadata": {},
   "source": [
    "# Project: Compute the Probability of Profit for a Call Contract\n",
    "Suppose we sold a `DTE = 64-day` call option on `TSLA,` with a strike price of `K = 195 USD/share`, collecting the mid-point premium of `P = 12.15 USD/share` for the sale. Let's use options data and projections of the `TSLA` share price to compute the breakeven point for the contract, i.e., the value of the `TSLA` share price where you (the seller) begins to lose money and the probability of profit (POP) for the contract.\n",
    "\n",
    "## Learning objectives\n",
    "This project will familiarize students with probability of profit (PoP) calculations for a call contract. \n",
    "* __Prerequisites__: Before we do any calculations, we'll set values for the `TSLA` contract used in this project, i.e., observed values for the share price, premium, implied volatility, etc.\n",
    "* __Task 1: Compute breakeven share price__: Next, we'll use our understanding of options contracts and the problem data to compute the breakeven share price for the example `call` contract.\n",
    "* __Task 2: Estimate the future share price of the underlying asset using a gbm model__: Next, we'll construct a single asset gbm model of TSLA shares, assuming a risk-neutral measure using either historical or implied volatility. This model can be sampled to produce a future share price distribution.\n",
    "* __Task 3: Estimate the probability of profit for a TSLA call contract__: Using the price distribution computed in _task 2_, calculate the probability of profit for the `call` option from the buyer's and seller's perspectives."
   ]
  },
  {
   "cell_type": "markdown",
   "id": "ab5d7070-0ffa-4dda-8a0d-e4f378af27ad",
   "metadata": {},
   "source": [
    "## Setup\n",
    "Set up the computational environment by including the `Include.jl` file. The `Include.jl` file loads external packages, various functions we will use in the exercise, and custom types to model the components of our example problem.\n",
    "* For additional information on functions and types used in this material, see the [Julia programming language documentation](https://docs.julialang.org/en/v1/) and the [VLQuantitativeFinancePackage.jl documentation](https://github.com/varnerlab/VLQuantitativeFinancePackage.jl). "
   ]
  },
  {
   "cell_type": "code",
   "execution_count": 3,
   "id": "cf7137e3-748d-4e9c-90f1-a6f1a1e2d350",
   "metadata": {},
   "outputs": [
    {
     "name": "stderr",
     "output_type": "stream",
     "text": [
      "\u001b[32m\u001b[1m    Updating\u001b[22m\u001b[39m git-repo `https://github.com/varnerlab/VLQuantitativeFinancePackage.jl.git`\n",
      "\u001b[32m\u001b[1m   Resolving\u001b[22m\u001b[39m package versions...\n",
      "\u001b[32m\u001b[1m  No Changes\u001b[22m\u001b[39m to `~/Desktop/julia_work/CHEME-130-eCornell-Repository/courses/CHEME-134/module-2/Project.toml`\n",
      "\u001b[32m\u001b[1m  No Changes\u001b[22m\u001b[39m to `~/Desktop/julia_work/CHEME-130-eCornell-Repository/courses/CHEME-134/module-2/Manifest.toml`\n",
      "\u001b[32m\u001b[1m  Activating\u001b[22m\u001b[39m project at `~/Desktop/julia_work/CHEME-130-eCornell-Repository/courses/CHEME-134/module-2`\n",
      "\u001b[32m\u001b[1m  No Changes\u001b[22m\u001b[39m to `~/Desktop/julia_work/CHEME-130-eCornell-Repository/courses/CHEME-134/module-2/Project.toml`\n",
      "\u001b[32m\u001b[1m  No Changes\u001b[22m\u001b[39m to `~/Desktop/julia_work/CHEME-130-eCornell-Repository/courses/CHEME-134/module-2/Manifest.toml`\n",
      "\u001b[32m\u001b[1m    Updating\u001b[22m\u001b[39m registry at `~/.julia/registries/General.toml`\n",
      "\u001b[32m\u001b[1m    Updating\u001b[22m\u001b[39m git-repo `https://github.com/varnerlab/VLQuantitativeFinancePackage.jl.git`\n",
      "\u001b[32m\u001b[1m  No Changes\u001b[22m\u001b[39m to `~/Desktop/julia_work/CHEME-130-eCornell-Repository/courses/CHEME-134/module-2/Project.toml`\n",
      "\u001b[32m\u001b[1m  No Changes\u001b[22m\u001b[39m to `~/Desktop/julia_work/CHEME-130-eCornell-Repository/courses/CHEME-134/module-2/Manifest.toml`\n"
     ]
    }
   ],
   "source": [
    "include(\"Include.jl\");"
   ]
  },
  {
   "cell_type": "markdown",
   "id": "d09fad37-8792-4e8b-b6df-5ba9daa5d124",
   "metadata": {},
   "source": [
    "## Prerequisites\n",
    "Set values for the call option, which was gathered after the market closed on `06-13-2024.` In this example, we'll use options pricing data for a `DTE = 64-day` call option on [Tesla](https://finance.yahoo.com/quote/TSLA/) as the underlying asset (ticker `TSLA`), with a strike price of `K = 195.0 USD/share.` The `TSLA` close price was `Sₒ = 182.65 USD/share.` The probability of profit for this contract is `73.52%` from the seller's perspective and `26.48%` from the buyer's perspective. Let's set the parameters for this contract so we can use them below:"
   ]
  },
  {
   "cell_type": "code",
   "execution_count": 5,
   "id": "0275b792-575d-441e-9c76-087c074ea761",
   "metadata": {},
   "outputs": [],
   "source": [
    "DTE = 64.0; # days to expiration\n",
    "Sₒ = 182.65; # TSLA underlying share price USD/share\n",
    "IV = 54.61; # implied volatility\n",
    "Δt = (1/252); # Time step 1-trading day\n",
    "K = 195.0; # strike price for call contract\n",
    "P = 12.30; # mark premium\n",
    "B = 207.30; # observed midpoint price for call contract\n",
    "POP = 0.7352; # probability of profit for short call\n",
    "risk_free_rate = 0.0431; # yield 10-year treasury note on 13-Jun-2024"
   ]
  },
  {
   "cell_type": "markdown",
   "id": "383e8fdb-9b2c-47e1-add8-330916426b50",
   "metadata": {},
   "source": [
    "## Task 1: Compute the break-even points for a short TSLA call\n",
    "Compute the break-even price for the `call` contract and store this in the `computed_breakeven_price` variable:"
   ]
  },
  {
   "cell_type": "code",
   "execution_count": 7,
   "id": "c4130e31-03ae-4b4b-ae47-de3f12be5c2c",
   "metadata": {},
   "outputs": [],
   "source": [
    "computed_breakeven_price = K + P;"
   ]
  },
  {
   "cell_type": "markdown",
   "id": "85942c60-4c7b-4ab7-a9d8-89e25974830b",
   "metadata": {},
   "source": [
    "### Check: Are the computed and observed breakeven points equal?\n",
    "The break-even share price was reported in the dataset: $\\mathcal{B}_{p}$=`207.30 USD/share`. Confirm the `computed_breakeven_price` by comparing this value with the reported value using the [Julia @assert macro](https://docs.julialang.org/en/v1/base/base/#Base.@assert) in combination with the [Julia isapprox(...) function](https://docs.julialang.org/en/v1/base/math/#Base.isapprox).\n",
    "* If the observed and `computed_breakeven_price` is _not_ approximately equal to some relative tolerance (specified in the `rtol` argument), then an [AssertionError](https://docs.julialang.org/en/v1/base/base/#Core.AssertionError) is thrown. "
   ]
  },
  {
   "cell_type": "code",
   "execution_count": 9,
   "id": "29d18c2f-1a24-47f7-9667-73bddf81b84b",
   "metadata": {},
   "outputs": [],
   "source": [
    "@assert isapprox(B, computed_breakeven_price, rtol=1e-3)"
   ]
  },
  {
   "cell_type": "markdown",
   "id": "c64df121-3f6a-4d56-9f1e-759a178371d8",
   "metadata": {},
   "source": [
    "## Task 2: Construct a single asset gbm model of TSLA share price\n",
    "First, load the drift and historic volatility parameters computed in `CHEME 132` using the [read(...) function exported by the CSV.jl package](https://github.com/JuliaData/CSV.jl). The `read(...)` function requires two arguments:\n",
    "* The first argument is the path to the parameters file; in this module, this file is in the `/<root>/data/gbmparameters` directory. Second, we need to pass a data type to the `read(...)` function; in this case, we use the [DataFrame type exported by the DataFrames.jl package](https://github.com/JuliaData/DataFrames.jl) to hold the parameter data.\n",
    "* Each row in the `parameters_df::DataFrame` variable holds a ticker, a value for the drift parameter, and a volatility estimate. To access these values, check out the [DataFrame.jl documentation](https://dataframes.juliadata.org/stable/)."
   ]
  },
  {
   "cell_type": "code",
   "execution_count": 11,
   "id": "d1ee014b-691d-4bc9-b1f2-8e3e83dc9727",
   "metadata": {},
   "outputs": [
    {
     "data": {
      "text/html": [
       "<div><div style = \"float: left;\"><span>460×3 DataFrame</span></div><div style = \"float: right;\"><span style = \"font-style: italic;\">435 rows omitted</span></div><div style = \"clear: both;\"></div></div><div class = \"data-frame\" style = \"overflow-x: scroll;\"><table class = \"data-frame\" style = \"margin-bottom: 6px;\"><thead><tr class = \"header\"><th class = \"rowNumber\" style = \"font-weight: bold; text-align: right;\">Row</th><th style = \"text-align: left;\">ticker</th><th style = \"text-align: left;\">drift</th><th style = \"text-align: left;\">volatility</th></tr><tr class = \"subheader headerLastRow\"><th class = \"rowNumber\" style = \"font-weight: bold; text-align: right;\"></th><th title = \"String7\" style = \"text-align: left;\">String7</th><th title = \"Float64\" style = \"text-align: left;\">Float64</th><th title = \"Float64\" style = \"text-align: left;\">Float64</th></tr></thead><tbody><tr><td class = \"rowNumber\" style = \"font-weight: bold; text-align: right;\">1</td><td style = \"text-align: left;\">A</td><td style = \"text-align: right;\">0.151876</td><td style = \"text-align: right;\">0.183345</td></tr><tr><td class = \"rowNumber\" style = \"font-weight: bold; text-align: right;\">2</td><td style = \"text-align: left;\">AAL</td><td style = \"text-align: right;\">-0.207376</td><td style = \"text-align: right;\">0.353988</td></tr><tr><td class = \"rowNumber\" style = \"font-weight: bold; text-align: right;\">3</td><td style = \"text-align: left;\">AAP</td><td style = \"text-align: right;\">-0.0458017</td><td style = \"text-align: right;\">0.221122</td></tr><tr><td class = \"rowNumber\" style = \"font-weight: bold; text-align: right;\">4</td><td style = \"text-align: left;\">AAPL</td><td style = \"text-align: right;\">0.291789</td><td style = \"text-align: right;\">0.262843</td></tr><tr><td class = \"rowNumber\" style = \"font-weight: bold; text-align: right;\">5</td><td style = \"text-align: left;\">ABBV</td><td style = \"text-align: right;\">0.118954</td><td style = \"text-align: right;\">0.170957</td></tr><tr><td class = \"rowNumber\" style = \"font-weight: bold; text-align: right;\">6</td><td style = \"text-align: left;\">ABT</td><td style = \"text-align: right;\">0.104121</td><td style = \"text-align: right;\">0.157652</td></tr><tr><td class = \"rowNumber\" style = \"font-weight: bold; text-align: right;\">7</td><td style = \"text-align: left;\">ACN</td><td style = \"text-align: right;\">0.145112</td><td style = \"text-align: right;\">0.164483</td></tr><tr><td class = \"rowNumber\" style = \"font-weight: bold; text-align: right;\">8</td><td style = \"text-align: left;\">ADBE</td><td style = \"text-align: right;\">0.136256</td><td style = \"text-align: right;\">0.216782</td></tr><tr><td class = \"rowNumber\" style = \"font-weight: bold; text-align: right;\">9</td><td style = \"text-align: left;\">ADI</td><td style = \"text-align: right;\">0.13822</td><td style = \"text-align: right;\">0.280011</td></tr><tr><td class = \"rowNumber\" style = \"font-weight: bold; text-align: right;\">10</td><td style = \"text-align: left;\">ADM</td><td style = \"text-align: right;\">0.146605</td><td style = \"text-align: right;\">0.164689</td></tr><tr><td class = \"rowNumber\" style = \"font-weight: bold; text-align: right;\">11</td><td style = \"text-align: left;\">ADP</td><td style = \"text-align: right;\">0.12016</td><td style = \"text-align: right;\">0.153493</td></tr><tr><td class = \"rowNumber\" style = \"font-weight: bold; text-align: right;\">12</td><td style = \"text-align: left;\">ADSK</td><td style = \"text-align: right;\">0.0966882</td><td style = \"text-align: right;\">0.247439</td></tr><tr><td class = \"rowNumber\" style = \"font-weight: bold; text-align: right;\">13</td><td style = \"text-align: left;\">AEE</td><td style = \"text-align: right;\">0.0608638</td><td style = \"text-align: right;\">0.141508</td></tr><tr><td style = \"text-align: right;\">&vellip;</td><td style = \"text-align: right;\">&vellip;</td><td style = \"text-align: right;\">&vellip;</td><td style = \"text-align: right;\">&vellip;</td></tr><tr><td class = \"rowNumber\" style = \"font-weight: bold; text-align: right;\">449</td><td style = \"text-align: left;\">WU</td><td style = \"text-align: right;\">-0.0883413</td><td style = \"text-align: right;\">0.182958</td></tr><tr><td class = \"rowNumber\" style = \"font-weight: bold; text-align: right;\">450</td><td style = \"text-align: left;\">WY</td><td style = \"text-align: right;\">0.0270457</td><td style = \"text-align: right;\">0.207162</td></tr><tr><td class = \"rowNumber\" style = \"font-weight: bold; text-align: right;\">451</td><td style = \"text-align: left;\">WYNN</td><td style = \"text-align: right;\">-0.10459</td><td style = \"text-align: right;\">0.335665</td></tr><tr><td class = \"rowNumber\" style = \"font-weight: bold; text-align: right;\">452</td><td style = \"text-align: left;\">XEL</td><td style = \"text-align: right;\">0.0587966</td><td style = \"text-align: right;\">0.140112</td></tr><tr><td class = \"rowNumber\" style = \"font-weight: bold; text-align: right;\">453</td><td style = \"text-align: left;\">XOM</td><td style = \"text-align: right;\">0.0675686</td><td style = \"text-align: right;\">0.207661</td></tr><tr><td class = \"rowNumber\" style = \"font-weight: bold; text-align: right;\">454</td><td style = \"text-align: left;\">XRAY</td><td style = \"text-align: right;\">-0.0533123</td><td style = \"text-align: right;\">0.206569</td></tr><tr><td class = \"rowNumber\" style = \"font-weight: bold; text-align: right;\">455</td><td style = \"text-align: left;\">XYL</td><td style = \"text-align: right;\">0.0785138</td><td style = \"text-align: right;\">0.189759</td></tr><tr><td class = \"rowNumber\" style = \"font-weight: bold; text-align: right;\">456</td><td style = \"text-align: left;\">YUM</td><td style = \"text-align: right;\">0.0808879</td><td style = \"text-align: right;\">0.143849</td></tr><tr><td class = \"rowNumber\" style = \"font-weight: bold; text-align: right;\">457</td><td style = \"text-align: left;\">ZBH</td><td style = \"text-align: right;\">0.00418204</td><td style = \"text-align: right;\">0.184707</td></tr><tr><td class = \"rowNumber\" style = \"font-weight: bold; text-align: right;\">458</td><td style = \"text-align: left;\">ZBRA</td><td style = \"text-align: right;\">0.142869</td><td style = \"text-align: right;\">0.248581</td></tr><tr><td class = \"rowNumber\" style = \"font-weight: bold; text-align: right;\">459</td><td style = \"text-align: left;\">ZION</td><td style = \"text-align: right;\">-0.0258027</td><td style = \"text-align: right;\">0.272149</td></tr><tr><td class = \"rowNumber\" style = \"font-weight: bold; text-align: right;\">460</td><td style = \"text-align: left;\">ZTS</td><td style = \"text-align: right;\">0.147924</td><td style = \"text-align: right;\">0.170282</td></tr></tbody></table></div>"
      ],
      "text/latex": [
       "\\begin{tabular}{r|ccc}\n",
       "\t& ticker & drift & volatility\\\\\n",
       "\t\\hline\n",
       "\t& String7 & Float64 & Float64\\\\\n",
       "\t\\hline\n",
       "\t1 & A & 0.151876 & 0.183345 \\\\\n",
       "\t2 & AAL & -0.207376 & 0.353988 \\\\\n",
       "\t3 & AAP & -0.0458017 & 0.221122 \\\\\n",
       "\t4 & AAPL & 0.291789 & 0.262843 \\\\\n",
       "\t5 & ABBV & 0.118954 & 0.170957 \\\\\n",
       "\t6 & ABT & 0.104121 & 0.157652 \\\\\n",
       "\t7 & ACN & 0.145112 & 0.164483 \\\\\n",
       "\t8 & ADBE & 0.136256 & 0.216782 \\\\\n",
       "\t9 & ADI & 0.13822 & 0.280011 \\\\\n",
       "\t10 & ADM & 0.146605 & 0.164689 \\\\\n",
       "\t11 & ADP & 0.12016 & 0.153493 \\\\\n",
       "\t12 & ADSK & 0.0966882 & 0.247439 \\\\\n",
       "\t13 & AEE & 0.0608638 & 0.141508 \\\\\n",
       "\t14 & AEP & 0.0328065 & 0.141321 \\\\\n",
       "\t15 & AES & 0.10445 & 0.214382 \\\\\n",
       "\t16 & AFL & 0.0925767 & 0.160581 \\\\\n",
       "\t17 & AIG & 0.0399337 & 0.225464 \\\\\n",
       "\t18 & AIZ & 0.0887152 & 0.167993 \\\\\n",
       "\t19 & AJG & 0.229925 & 0.140564 \\\\\n",
       "\t20 & AKAM & 0.0605027 & 0.172643 \\\\\n",
       "\t21 & ALB & 0.216521 & 0.431573 \\\\\n",
       "\t22 & ALGN & 0.0377036 & 0.321463 \\\\\n",
       "\t23 & ALK & -0.0733141 & 0.275738 \\\\\n",
       "\t24 & ALL & 0.0590842 & 0.163484 \\\\\n",
       "\t25 & ALLE & 0.0501607 & 0.18751 \\\\\n",
       "\t26 & AMAT & 0.243255 & 0.375777 \\\\\n",
       "\t27 & AMD & 0.371691 & 0.459735 \\\\\n",
       "\t28 & AME & 0.14154 & 0.158234 \\\\\n",
       "\t29 & AMGN & 0.0610803 & 0.153071 \\\\\n",
       "\t30 & AMP & 0.193587 & 0.218352 \\\\\n",
       "\t$\\dots$ & $\\dots$ & $\\dots$ & $\\dots$ \\\\\n",
       "\\end{tabular}\n"
      ],
      "text/plain": [
       "\u001b[1m460×3 DataFrame\u001b[0m\n",
       "\u001b[1m Row \u001b[0m│\u001b[1m ticker  \u001b[0m\u001b[1m drift       \u001b[0m\u001b[1m volatility \u001b[0m\n",
       "     │\u001b[90m String7 \u001b[0m\u001b[90m Float64     \u001b[0m\u001b[90m Float64    \u001b[0m\n",
       "─────┼──────────────────────────────────\n",
       "   1 │ A         0.151876      0.183345\n",
       "   2 │ AAL      -0.207376      0.353988\n",
       "   3 │ AAP      -0.0458017     0.221122\n",
       "   4 │ AAPL      0.291789      0.262843\n",
       "   5 │ ABBV      0.118954      0.170957\n",
       "   6 │ ABT       0.104121      0.157652\n",
       "   7 │ ACN       0.145112      0.164483\n",
       "   8 │ ADBE      0.136256      0.216782\n",
       "   9 │ ADI       0.13822       0.280011\n",
       "  10 │ ADM       0.146605      0.164689\n",
       "  11 │ ADP       0.12016       0.153493\n",
       "  ⋮  │    ⋮          ⋮           ⋮\n",
       " 451 │ WYNN     -0.10459       0.335665\n",
       " 452 │ XEL       0.0587966     0.140112\n",
       " 453 │ XOM       0.0675686     0.207661\n",
       " 454 │ XRAY     -0.0533123     0.206569\n",
       " 455 │ XYL       0.0785138     0.189759\n",
       " 456 │ YUM       0.0808879     0.143849\n",
       " 457 │ ZBH       0.00418204    0.184707\n",
       " 458 │ ZBRA      0.142869      0.248581\n",
       " 459 │ ZION     -0.0258027     0.272149\n",
       " 460 │ ZTS       0.147924      0.170282\n",
       "\u001b[36m                        439 rows omitted\u001b[0m"
      ]
     },
     "execution_count": 11,
     "metadata": {},
     "output_type": "execute_result"
    }
   ],
   "source": [
    "parameters_df = CSV.read(joinpath(_PATH_TO_DATA, \"gbmparameters\", \"Parameters-SP500-2018-2023.csv\"), DataFrame)"
   ]
  },
  {
   "cell_type": "markdown",
   "id": "7c1bca62-d780-4dd4-8f56-d9377a3d2cab",
   "metadata": {},
   "source": [
    "Next, we'll build an instance of the [MyGeometricBrownianMotionEquityModel type](https://varnerlab.github.io/VLQuantitativeFinancePackage.jl/dev/equity/#VLQuantitativeFinancePackage.MyGeometricBrownianMotionEquityModel) which holds values for the drift `μ` and volatility `σ` parameters using a [custom build(...) method](https://varnerlab.github.io/VLQuantitativeFinancePackage.jl/dev/equity/#VLQuantitativeFinancePackage.build-Tuple{Type{MyGeometricBrownianMotionEquityModel},%20NamedTuple}). We set the drift parameter to the risk-free rate (because options use a risk-neutral probability measure), and the volatility is set to the historic volatility estimate. \n",
    "* To access the historical volatility, we use the [filter(...) function exported by the DataFrames.jl package](https://dataframes.juliadata.org/stable/lib/functions/#Base.filter) to select the row corresponding to `TSLA,` we then access the volatility value from that row. Note: the [filter(...) function](https://dataframes.juliadata.org/stable/lib/functions/#Base.filter) returns an array, in this case with only one value, so use the [Julia first(...) function](https://docs.julialang.org/en/v1/base/collections/#Base.first) to get the value."
   ]
  },
  {
   "cell_type": "code",
   "execution_count": 13,
   "id": "05803a35-3b3f-4b23-a339-22854c717342",
   "metadata": {},
   "outputs": [],
   "source": [
    "model = build(MyGeometricBrownianMotionEquityModel, (\n",
    "    μ = risk_free_rate,\n",
    "    σ = min((IV/100), filter(:ticker=> x-> x==\"TSLA\", parameters_df)[!,:volatility] |> first)\n",
    "));"
   ]
  },
  {
   "cell_type": "markdown",
   "id": "e5c9f3d5-7f53-4838-a372-92ff56c992b5",
   "metadata": {},
   "source": [
    "Now that we have a populated [MyGeometricBrownianMotionEquityModel instance](https://varnerlab.github.io/VLQuantitativeFinancePackage.jl/dev/equity/#VLQuantitativeFinancePackage.MyGeometricBrownianMotionEquityModel) holding the `TSLA` data, let's generate `number_of_samples` possible future share price values using the [sample(...) function exported by the VLQuantitativeFinancePackage.jl package](https://varnerlab.github.io/VLQuantitativeFinancePackage.jl/dev/equity/#VLQuantitativeFinancePackage.sample-Tuple{MyMultipleAssetGeometricBrownianMotionEquityModel,%20NamedTuple}).\n",
    "* The [sample method](https://varnerlab.github.io/VLQuantitativeFinancePackage.jl/dev/equity/#VLQuantitativeFinancePackage.sample-Tuple{MyMultipleAssetGeometricBrownianMotionEquityModel,%20NamedTuple}) takes a `model::MyGeometricBrownianMotionEquityModel` instance as the first argument, along with the time values that we wish to sample: `T₁::Float64` is the start time, `T₂::Float64` is the stop-time (in units of `years`), `Δt::Float64` is the time step (in units of `years`), and `Sₒ::Float64` denotes the initial share price (in units of `USD/share`). Finally, we pass in the number of samples we want to generate in the `number_of_paths` argument.\n",
    "* The [sample method](https://varnerlab.github.io/VLQuantitativeFinancePackage.jl/dev/equity/#VLQuantitativeFinancePackage.sample-Tuple{MyMultipleAssetGeometricBrownianMotionEquityModel,%20NamedTuple}) generates `number_of_paths` sample paths from $T_{1}\\rightarrow{T}_{2}$ in steps of $\\Delta{t}$. However, we only want the share prices corresponding to the duration of the contract, i.e., $T_{2} = \\text{DTE}$. Thus, we pass the full `samples` array [using the Julia pipe operator](https://docs.julialang.org/en/v1/manual/functions/#Function-composition-and-piping) to a slicing operation where we select columns `2:end` of the last row (col 1 holds the time). We store the `number_of_paths` samples of the share price at $T_{2}$ in the `endpoint::Array{Float64,1}` variable."
   ]
  },
  {
   "cell_type": "code",
   "execution_count": 15,
   "id": "edb0575d-8650-4321-980d-ca2f62cdab38",
   "metadata": {},
   "outputs": [],
   "source": [
    "number_of_samples = 10000;\n",
    "endpoint = VLQuantitativeFinancePackage.sample(model, (\n",
    "    T₁ = 0.0,\n",
    "    T₂ = (DTE)*(Δt),\n",
    "    Δt = Δt,\n",
    "    Sₒ = Sₒ\n",
    "), number_of_paths = number_of_samples) |> samples -> samples[end,2:end]; # get last row from col 2 -> number_of_paths"
   ]
  },
  {
   "cell_type": "code",
   "execution_count": 16,
   "id": "045762c6-bc5b-4296-ad2e-63bf4f8288e0",
   "metadata": {},
   "outputs": [],
   "source": [
    "d_gbm = fit_mle(LogNormal, endpoint);"
   ]
  },
  {
   "cell_type": "markdown",
   "id": "b044f359-3617-4675-85a9-5851e9cdba5d",
   "metadata": {},
   "source": [
    "## Task 3: Estimate the probability of profit for a TSLA call contract\n",
    "Given the ability to simulate future share price distributions, we can now compute the likelihood of seeing a particular range of values. There are two cases that we consider when exploring the probability of profit for a call contract: the buyer's and seller's perspectives:\n",
    "* __Buyer's perspective call contract__: the `TSLA` share price `T` days from now $S(T)$, must be _greater than_ the breakeven price $\\mathcal{B}_{p}$ for the `call` contract to be profitable. The probability of profit can be calculated from the [cumulative distribution function of the share price](https://en.wikipedia.org/wiki/Cumulative_distribution_function), i.e., $P(S>{B}_{p}) = 1 - F_{S}(\\mathcal{B}_{p})$.\n",
    "* __Seller's perspective call contract__: the `TSLA` share price `T` days from now $S(T)$, must be _less than_ the breakeven price $\\mathcal{B}_{p}$ for the `call` contract to be profitable. The probability of profit can be calculated from the [complementary cumulative distribution function of the share price](https://en.wikipedia.org/wiki/Cumulative_distribution_function), i.e., $P(S\\leq{B}_{p}) = F_{S}(\\mathcal{B}_{p})$.\n",
    "\n",
    "We can query the [cumulative distribution function $F_{S}(\\mathcal{B})$](https://en.wikipedia.org/wiki/Cumulative_distribution_function) for the projected geometric Brownian motion distribution `d_gbm` using the [cdf(...) function exported by the Distributions.jl package](https://github.com/JuliaStats/Distributions.jl?tab=readme-ov-file)."
   ]
  },
  {
   "cell_type": "markdown",
   "id": "75d0efd4-2ea0-4fa2-82bb-4b46377dd423",
   "metadata": {},
   "source": [
    "### TODO: Probability of profit (PoP) table\n",
    "`Unhide` the code block below to see how we developed a table displaying the probability of profit calculations for a `TSLA` call option using the risk-neutral geometric Brownian motion `d_gbm` price distribution.\n",
    "* __Summary__: The geometric Brownian motion price distribution estimate should reproduce the reported probability of profit from both the seller's and buyer's perspective to approximately a `10%` percentage error or less in each case. Did you observe this? "
   ]
  },
  {
   "cell_type": "code",
   "execution_count": 19,
   "id": "f182d1f4-cf87-48ba-b3f8-631c3e96a9db",
   "metadata": {
    "jupyter": {
     "source_hidden": true
    }
   },
   "outputs": [
    {
     "data": {
      "text/html": [
       "<div><div style = \"float: left;\"><span>2×9 DataFrame</span></div><div style = \"clear: both;\"></div></div><div class = \"data-frame\" style = \"overflow-x: scroll;\"><table class = \"data-frame\" style = \"margin-bottom: 6px;\"><thead><tr class = \"header\"><th class = \"rowNumber\" style = \"font-weight: bold; text-align: right;\">Row</th><th style = \"text-align: left;\">sense</th><th style = \"text-align: left;\">ticker</th><th style = \"text-align: left;\">DTE</th><th style = \"text-align: left;\">Sₒ</th><th style = \"text-align: left;\">K</th><th style = \"text-align: left;\">B</th><th style = \"text-align: left;\">POP_GBM</th><th style = \"text-align: left;\">POP_observed</th><th style = \"text-align: left;\">Δ_error_pct_gbm</th></tr><tr class = \"subheader headerLastRow\"><th class = \"rowNumber\" style = \"font-weight: bold; text-align: right;\"></th><th title = \"String\" style = \"text-align: left;\">String</th><th title = \"String\" style = \"text-align: left;\">String</th><th title = \"Int64\" style = \"text-align: left;\">Int64</th><th title = \"Float64\" style = \"text-align: left;\">Float64</th><th title = \"Float64\" style = \"text-align: left;\">Float64</th><th title = \"Float64\" style = \"text-align: left;\">Float64</th><th title = \"Float64\" style = \"text-align: left;\">Float64</th><th title = \"Float64\" style = \"text-align: left;\">Float64</th><th title = \"Float64\" style = \"text-align: left;\">Float64</th></tr></thead><tbody><tr><td class = \"rowNumber\" style = \"font-weight: bold; text-align: right;\">1</td><td style = \"text-align: left;\">buyer</td><td style = \"text-align: left;\">TSLA</td><td style = \"text-align: right;\">64</td><td style = \"text-align: right;\">182.65</td><td style = \"text-align: right;\">195.0</td><td style = \"text-align: right;\">207.3</td><td style = \"text-align: right;\">0.288289</td><td style = \"text-align: right;\">0.2648</td><td style = \"text-align: right;\">8.89282</td></tr><tr><td class = \"rowNumber\" style = \"font-weight: bold; text-align: right;\">2</td><td style = \"text-align: left;\">seller</td><td style = \"text-align: left;\">TSLA</td><td style = \"text-align: right;\">64</td><td style = \"text-align: right;\">182.65</td><td style = \"text-align: right;\">195.0</td><td style = \"text-align: right;\">207.3</td><td style = \"text-align: right;\">0.711711</td><td style = \"text-align: right;\">0.7352</td><td style = \"text-align: right;\">-3.20296</td></tr></tbody></table></div>"
      ],
      "text/latex": [
       "\\begin{tabular}{r|ccccccccc}\n",
       "\t& sense & ticker & DTE & Sₒ & K & B & POP\\_GBM & POP\\_observed & Δ\\_error\\_pct\\_gbm\\\\\n",
       "\t\\hline\n",
       "\t& String & String & Int64 & Float64 & Float64 & Float64 & Float64 & Float64 & Float64\\\\\n",
       "\t\\hline\n",
       "\t1 & buyer & TSLA & 64 & 182.65 & 195.0 & 207.3 & 0.288289 & 0.2648 & 8.89282 \\\\\n",
       "\t2 & seller & TSLA & 64 & 182.65 & 195.0 & 207.3 & 0.711711 & 0.7352 & -3.20296 \\\\\n",
       "\\end{tabular}\n"
      ],
      "text/plain": [
       "\u001b[1m2×9 DataFrame\u001b[0m\n",
       "\u001b[1m Row \u001b[0m│\u001b[1m sense  \u001b[0m\u001b[1m ticker \u001b[0m\u001b[1m DTE   \u001b[0m\u001b[1m Sₒ      \u001b[0m\u001b[1m K       \u001b[0m\u001b[1m B       \u001b[0m\u001b[1m POP_GBM  \u001b[0m\u001b[1m POP_observe\u001b[0m ⋯\n",
       "     │\u001b[90m String \u001b[0m\u001b[90m String \u001b[0m\u001b[90m Int64 \u001b[0m\u001b[90m Float64 \u001b[0m\u001b[90m Float64 \u001b[0m\u001b[90m Float64 \u001b[0m\u001b[90m Float64  \u001b[0m\u001b[90m Float64    \u001b[0m ⋯\n",
       "─────┼──────────────────────────────────────────────────────────────────────────\n",
       "   1 │ buyer   TSLA       64   182.65    195.0    207.3  0.288289        0.264 ⋯\n",
       "   2 │ seller  TSLA       64   182.65    195.0    207.3  0.711711        0.735\n",
       "\u001b[36m                                                               2 columns omitted\u001b[0m"
      ]
     },
     "execution_count": 19,
     "metadata": {},
     "output_type": "execute_result"
    }
   ],
   "source": [
    "let \n",
    "    table_df = DataFrame()\n",
    "\n",
    "    # buyer -\n",
    "    buyer_row_df = (\n",
    "        sense = \"buyer\",\n",
    "        ticker = \"TSLA\",\n",
    "        DTE = 64,\n",
    "        Sₒ = Sₒ,\n",
    "        K = K,\n",
    "        B = B,\n",
    "        POP_GBM = 1 - cdf(d_gbm, B+(1/100)),\n",
    "        POP_observed = 1 - POP,\n",
    "        Δ_error_pct_gbm = (((1 - cdf(d_gbm, B)) - (1 - POP))/(1 - POP))*100\n",
    "        \n",
    "    );\n",
    "    push!(table_df, buyer_row_df)\n",
    "    \n",
    "    # seller -\n",
    "    seller_row_df = (\n",
    "        sense = \"seller\",\n",
    "        ticker = \"TSLA\",\n",
    "        DTE = 64,\n",
    "        Sₒ = Sₒ,\n",
    "        K = K,\n",
    "        B = B,\n",
    "        POP_GBM = cdf(d_gbm, B+(1/100)),\n",
    "        POP_observed = POP,\n",
    "        Δ_error_pct_gbm = (((cdf(d_gbm, B)) - (POP))/(POP))*100\n",
    "    );\n",
    "    push!(table_df, seller_row_df)\n",
    "end"
   ]
  },
  {
   "cell_type": "markdown",
   "id": "33bfc51d-c500-4c22-a484-1e5916926dd2",
   "metadata": {},
   "source": [
    "## Disclaimer and Risks\n",
    "__This content is offered solely for training and informational purposes__. No offer or solicitation to buy or sell securities or derivative products or any investment or trading advice or strategy is made, given, or endorsed by the teaching team. \n",
    "\n",
    "__Trading involves risk__. Carefully review your financial situation before investing in securities, futures contracts, options, or commodity interests. Past performance, whether actual or indicated by historical tests of strategies, is no guarantee of future performance or success. Trading is generally inappropriate for someone with limited resources, investment or trading experience, or a low-risk tolerance.  Only risk capital that is not required for living expenses.\n",
    "\n",
    "__You are fully responsible for any investment or trading decisions you make__. You should decide solely based on your financial circumstances, investment or trading objectives, risk tolerance, and liquidity needs."
   ]
  },
  {
   "cell_type": "code",
   "execution_count": null,
   "id": "af9b0618-e85e-4afb-8705-b86b7e6741d0",
   "metadata": {},
   "outputs": [],
   "source": []
  }
 ],
 "metadata": {
  "kernelspec": {
   "display_name": "Julia 1.10.4",
   "language": "julia",
   "name": "julia-1.10"
  },
  "language_info": {
   "file_extension": ".jl",
   "mimetype": "application/julia",
   "name": "julia",
   "version": "1.10.4"
  }
 },
 "nbformat": 4,
 "nbformat_minor": 5
}
