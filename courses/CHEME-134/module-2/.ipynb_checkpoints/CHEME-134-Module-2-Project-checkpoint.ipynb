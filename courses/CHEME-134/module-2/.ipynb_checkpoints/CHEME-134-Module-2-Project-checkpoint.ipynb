{
 "cells": [
  {
   "cell_type": "markdown",
   "id": "d95a47a6-85dc-4837-b52d-5b4d109ac311",
   "metadata": {},
   "source": [
    "# Project: Compute the Probability of Profit for a Single or Composite Options Contract"
   ]
  },
  {
   "cell_type": "code",
   "execution_count": null,
   "id": "88bfdb95-b349-45dc-8d82-1df41a64997b",
   "metadata": {},
   "outputs": [],
   "source": []
  }
 ],
 "metadata": {
  "kernelspec": {
   "display_name": "Julia 1.9.3",
   "language": "julia",
   "name": "julia-1.9"
  },
  "language_info": {
   "file_extension": ".jl",
   "mimetype": "application/julia",
   "name": "julia",
   "version": "1.9.3"
  }
 },
 "nbformat": 4,
 "nbformat_minor": 5
}
