{
 "cells": [
  {
   "cell_type": "markdown",
   "id": "18663d94-9c32-4bc0-86ac-1a7c91b9663d",
   "metadata": {},
   "source": [
    "# Example: Compute the Probability of Profit for a Single or Composite Options Contract"
   ]
  },
  {
   "cell_type": "code",
   "execution_count": null,
   "id": "910a32e9-23b5-4a90-8980-a6d51b49652d",
   "metadata": {},
   "outputs": [],
   "source": []
  }
 ],
 "metadata": {
  "kernelspec": {
   "display_name": "Julia 1.9.3",
   "language": "julia",
   "name": "julia-1.9"
  },
  "language_info": {
   "file_extension": ".jl",
   "mimetype": "application/julia",
   "name": "julia",
   "version": "1.9.3"
  }
 },
 "nbformat": 4,
 "nbformat_minor": 5
}
