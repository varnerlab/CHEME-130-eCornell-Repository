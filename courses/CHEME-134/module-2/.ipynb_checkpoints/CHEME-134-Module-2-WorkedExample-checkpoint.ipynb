{
 "cells": [
  {
   "cell_type": "markdown",
   "id": "18663d94-9c32-4bc0-86ac-1a7c91b9663d",
   "metadata": {},
   "source": [
    "# Example: Compute the Probability of Profit for a Single Options Contract\n",
    "Fill me in"
   ]
  },
  {
   "cell_type": "markdown",
   "id": "722d50c8-e2ee-4f43-9f2e-0647979477b4",
   "metadata": {},
   "source": [
    "## Setup\n",
    "Set up the computational environment by including the `Include.jl` file. The `Include.jl` file loads external packages, various functions we will use in the exercise, and custom types to model the components of our example problem.\n",
    "* For additional information on functions and types used in this material, see the [Julia programming language documentation](https://docs.julialang.org/en/v1/) and the [VLQuantitativeFinancePackage.jl documentation](https://github.com/varnerlab/VLQuantitativeFinancePackage.jl). "
   ]
  },
  {
   "cell_type": "code",
   "execution_count": 3,
   "id": "6431a58b-8a83-4ec1-84dd-86026bb3dc4e",
   "metadata": {},
   "outputs": [
    {
     "name": "stderr",
     "output_type": "stream",
     "text": [
      "\u001b[32m\u001b[1m    Updating\u001b[22m\u001b[39m git-repo `https://github.com/varnerlab/VLQuantitativeFinancePackage.jl.git`\n",
      "\u001b[32m\u001b[1m   Resolving\u001b[22m\u001b[39m package versions...\n",
      "\u001b[32m\u001b[1m  No Changes\u001b[22m\u001b[39m to `~/Desktop/julia_work/CHEME-130-eCornell-Repository/courses/CHEME-134/module-2/Project.toml`\n",
      "\u001b[32m\u001b[1m  No Changes\u001b[22m\u001b[39m to `~/Desktop/julia_work/CHEME-130-eCornell-Repository/courses/CHEME-134/module-2/Manifest.toml`\n",
      "\u001b[32m\u001b[1m  Activating\u001b[22m\u001b[39m project at `~/Desktop/julia_work/CHEME-130-eCornell-Repository/courses/CHEME-134/module-2`\n",
      "\u001b[32m\u001b[1m  No Changes\u001b[22m\u001b[39m to `~/Desktop/julia_work/CHEME-130-eCornell-Repository/courses/CHEME-134/module-2/Project.toml`\n",
      "\u001b[32m\u001b[1m  No Changes\u001b[22m\u001b[39m to `~/Desktop/julia_work/CHEME-130-eCornell-Repository/courses/CHEME-134/module-2/Manifest.toml`\n",
      "\u001b[32m\u001b[1m    Updating\u001b[22m\u001b[39m registry at `~/.julia/registries/General.toml`\n",
      "\u001b[32m\u001b[1m    Updating\u001b[22m\u001b[39m git-repo `https://github.com/varnerlab/VLQuantitativeFinancePackage.jl.git`\n",
      "\u001b[32m\u001b[1m  No Changes\u001b[22m\u001b[39m to `~/Desktop/julia_work/CHEME-130-eCornell-Repository/courses/CHEME-134/module-2/Project.toml`\n",
      "\u001b[32m\u001b[1m  No Changes\u001b[22m\u001b[39m to `~/Desktop/julia_work/CHEME-130-eCornell-Repository/courses/CHEME-134/module-2/Manifest.toml`\n"
     ]
    }
   ],
   "source": [
    "include(\"Include.jl\");"
   ]
  },
  {
   "cell_type": "markdown",
   "id": "09f3b5fd-90fd-4ed4-8f51-6d2bb38cb817",
   "metadata": {},
   "source": [
    "## Prerequisites\n",
    "Before doing anything else, load the options chain dataset using the `MyOptionsChainDataSet()` function. This function returns the pricing data as a [Julia Dictionary type](https://docs.julialang.org/en/v1/base/collections/#Dictionaries) with `keys` holding the number of days to expiration `DTE::Int64` and `values` being a [Vector](https://docs.julialang.org/en/v1/base/arrays/#Base.Vector-Tuple{UndefInitializer,%20Any}) of multilevel dictionaries. We'll store the options contract price data in the `dataset` variable.\n",
    "* In this example, we'll use options pricing data for [Tesla](https://finance.yahoo.com/quote/TSLA/) as the underlying asset. The `dataset` variable holds pricing information for `call` and `put` contracts. Each contract has a different strike price. In addition to the contract price, there is additional information about the underlying asset and contract. \n",
    "* For any given `DTE` key, the price data is organized as a `Vector{Dict{String, Any}},` where each element in the vector corresponds to a different strike price, and each strike price is a dictionary with keys: `day,` `details,` `last_quote,` `last_trade,` `underlying_asset,` `open_interest` and `break_even_price.` Each key (except for the `open_interest` and `break_even_price` keys) points to another dictionary."
   ]
  },
  {
   "cell_type": "code",
   "execution_count": 5,
   "id": "69d926b9-82ea-47be-a0e6-275bd869a50a",
   "metadata": {},
   "outputs": [
    {
     "data": {
      "text/plain": [
       "Dict{Int64, Vector{Dict{String, Any}}} with 17 entries:\n",
       "  123 => [Dict(\"day\"=>Dict{String, Any}(), \"details\"=>Dict{String, Any}(\"contra…\n",
       "  60  => [Dict(\"day\"=>Dict{String, Any}(), \"details\"=>Dict{String, Any}(\"contra…\n",
       "  32  => [Dict(\"day\"=>Dict{String, Any}(\"change\"=>0, \"high\"=>240.85, \"change_pe…\n",
       "  11  => [Dict(\"day\"=>Dict{String, Any}(\"change\"=>0, \"high\"=>144.01, \"change_pe…\n",
       "  368 => [Dict(\"day\"=>Dict{String, Any}(\"change\"=>0, \"high\"=>513.88, \"change_pe…\n",
       "  578 => [Dict(\"day\"=>Dict{String, Any}(\"change\"=>0, \"high\"=>350.37, \"change_pe…\n",
       "  214 => [Dict(\"day\"=>Dict{String, Any}(\"change\"=>0, \"high\"=>627.95, \"change_pe…\n",
       "  270 => [Dict(\"day\"=>Dict{String, Any}(\"change\"=>0, \"high\"=>341.78, \"change_pe…\n",
       "  459 => [Dict(\"day\"=>Dict{String, Any}(\"change\"=>0, \"high\"=>244.4, \"change_per…\n",
       "  39  => [Dict(\"day\"=>Dict{String, Any}(), \"details\"=>Dict{String, Any}(\"contra…\n",
       "  732 => [Dict(\"day\"=>Dict{String, Any}(\"change\"=>0, \"high\"=>246.45, \"change_pe…\n",
       "  914 => [Dict(\"day\"=>Dict{String, Any}(\"change\"=>0, \"high\"=>248.35, \"change_pe…\n",
       "  25  => [Dict(\"day\"=>Dict{String, Any}(), \"details\"=>Dict{String, Any}(\"contra…\n",
       "  151 => [Dict(\"day\"=>Dict{String, Any}(\"change\"=>0, \"high\"=>251.05, \"change_pe…\n",
       "  4   => [Dict(\"day\"=>Dict{String, Any}(\"change\"=>0, \"high\"=>141.8, \"change_per…\n",
       "  18  => [Dict(\"day\"=>Dict{String, Any}(\"change\"=>0, \"high\"=>145.15, \"change_pe…\n",
       "  88  => [Dict(\"day\"=>Dict{String, Any}(\"change\"=>0, \"high\"=>590.3, \"change_per…"
      ]
     },
     "execution_count": 5,
     "metadata": {},
     "output_type": "execute_result"
    }
   ],
   "source": [
    "dataset = MyOptionsChainDataSet()"
   ]
  },
  {
   "cell_type": "markdown",
   "id": "cf129ff3-1f14-4a3e-9e16-12614241eb86",
   "metadata": {},
   "source": [
    "## Task 1: Compute the break-even point for a short TSLA put\n",
    "Suppose you sold a `DTE = 60-day` put option on `TSLA,` and you collected the mid-point premium for the sale. Let's use options data in the `dataset` to compute the breakeven point for the contract, i.e., the value of the `TSLA` share price where you start to lose money on the trade as a function of the strike price `K.`"
   ]
  },
  {
   "cell_type": "markdown",
   "id": "3450a472-9194-4f18-8384-d250498f7db1",
   "metadata": {},
   "source": [
    "## Task 2: Construct a single asset geometric Brownian motion of TSLA share price\n",
    "Fill me in"
   ]
  },
  {
   "cell_type": "code",
   "execution_count": 8,
   "id": "ac65f9c4-941e-4b3d-adcb-67f8683d95cc",
   "metadata": {},
   "outputs": [
    {
     "data": {
      "text/html": [
       "<div><div style = \"float: left;\"><span>460×3 DataFrame</span></div><div style = \"float: right;\"><span style = \"font-style: italic;\">435 rows omitted</span></div><div style = \"clear: both;\"></div></div><div class = \"data-frame\" style = \"overflow-x: scroll;\"><table class = \"data-frame\" style = \"margin-bottom: 6px;\"><thead><tr class = \"header\"><th class = \"rowNumber\" style = \"font-weight: bold; text-align: right;\">Row</th><th style = \"text-align: left;\">ticker</th><th style = \"text-align: left;\">drift</th><th style = \"text-align: left;\">volatility</th></tr><tr class = \"subheader headerLastRow\"><th class = \"rowNumber\" style = \"font-weight: bold; text-align: right;\"></th><th title = \"String7\" style = \"text-align: left;\">String7</th><th title = \"Float64\" style = \"text-align: left;\">Float64</th><th title = \"Float64\" style = \"text-align: left;\">Float64</th></tr></thead><tbody><tr><td class = \"rowNumber\" style = \"font-weight: bold; text-align: right;\">1</td><td style = \"text-align: left;\">A</td><td style = \"text-align: right;\">0.151876</td><td style = \"text-align: right;\">0.183345</td></tr><tr><td class = \"rowNumber\" style = \"font-weight: bold; text-align: right;\">2</td><td style = \"text-align: left;\">AAL</td><td style = \"text-align: right;\">-0.207376</td><td style = \"text-align: right;\">0.353988</td></tr><tr><td class = \"rowNumber\" style = \"font-weight: bold; text-align: right;\">3</td><td style = \"text-align: left;\">AAP</td><td style = \"text-align: right;\">-0.0458017</td><td style = \"text-align: right;\">0.221122</td></tr><tr><td class = \"rowNumber\" style = \"font-weight: bold; text-align: right;\">4</td><td style = \"text-align: left;\">AAPL</td><td style = \"text-align: right;\">0.291789</td><td style = \"text-align: right;\">0.262843</td></tr><tr><td class = \"rowNumber\" style = \"font-weight: bold; text-align: right;\">5</td><td style = \"text-align: left;\">ABBV</td><td style = \"text-align: right;\">0.118954</td><td style = \"text-align: right;\">0.170957</td></tr><tr><td class = \"rowNumber\" style = \"font-weight: bold; text-align: right;\">6</td><td style = \"text-align: left;\">ABT</td><td style = \"text-align: right;\">0.104121</td><td style = \"text-align: right;\">0.157652</td></tr><tr><td class = \"rowNumber\" style = \"font-weight: bold; text-align: right;\">7</td><td style = \"text-align: left;\">ACN</td><td style = \"text-align: right;\">0.145112</td><td style = \"text-align: right;\">0.164483</td></tr><tr><td class = \"rowNumber\" style = \"font-weight: bold; text-align: right;\">8</td><td style = \"text-align: left;\">ADBE</td><td style = \"text-align: right;\">0.136256</td><td style = \"text-align: right;\">0.216782</td></tr><tr><td class = \"rowNumber\" style = \"font-weight: bold; text-align: right;\">9</td><td style = \"text-align: left;\">ADI</td><td style = \"text-align: right;\">0.13822</td><td style = \"text-align: right;\">0.280011</td></tr><tr><td class = \"rowNumber\" style = \"font-weight: bold; text-align: right;\">10</td><td style = \"text-align: left;\">ADM</td><td style = \"text-align: right;\">0.146605</td><td style = \"text-align: right;\">0.164689</td></tr><tr><td class = \"rowNumber\" style = \"font-weight: bold; text-align: right;\">11</td><td style = \"text-align: left;\">ADP</td><td style = \"text-align: right;\">0.12016</td><td style = \"text-align: right;\">0.153493</td></tr><tr><td class = \"rowNumber\" style = \"font-weight: bold; text-align: right;\">12</td><td style = \"text-align: left;\">ADSK</td><td style = \"text-align: right;\">0.0966882</td><td style = \"text-align: right;\">0.247439</td></tr><tr><td class = \"rowNumber\" style = \"font-weight: bold; text-align: right;\">13</td><td style = \"text-align: left;\">AEE</td><td style = \"text-align: right;\">0.0608638</td><td style = \"text-align: right;\">0.141508</td></tr><tr><td style = \"text-align: right;\">&vellip;</td><td style = \"text-align: right;\">&vellip;</td><td style = \"text-align: right;\">&vellip;</td><td style = \"text-align: right;\">&vellip;</td></tr><tr><td class = \"rowNumber\" style = \"font-weight: bold; text-align: right;\">449</td><td style = \"text-align: left;\">WU</td><td style = \"text-align: right;\">-0.0883413</td><td style = \"text-align: right;\">0.182958</td></tr><tr><td class = \"rowNumber\" style = \"font-weight: bold; text-align: right;\">450</td><td style = \"text-align: left;\">WY</td><td style = \"text-align: right;\">0.0270457</td><td style = \"text-align: right;\">0.207162</td></tr><tr><td class = \"rowNumber\" style = \"font-weight: bold; text-align: right;\">451</td><td style = \"text-align: left;\">WYNN</td><td style = \"text-align: right;\">-0.10459</td><td style = \"text-align: right;\">0.335665</td></tr><tr><td class = \"rowNumber\" style = \"font-weight: bold; text-align: right;\">452</td><td style = \"text-align: left;\">XEL</td><td style = \"text-align: right;\">0.0587966</td><td style = \"text-align: right;\">0.140112</td></tr><tr><td class = \"rowNumber\" style = \"font-weight: bold; text-align: right;\">453</td><td style = \"text-align: left;\">XOM</td><td style = \"text-align: right;\">0.0675686</td><td style = \"text-align: right;\">0.207661</td></tr><tr><td class = \"rowNumber\" style = \"font-weight: bold; text-align: right;\">454</td><td style = \"text-align: left;\">XRAY</td><td style = \"text-align: right;\">-0.0533123</td><td style = \"text-align: right;\">0.206569</td></tr><tr><td class = \"rowNumber\" style = \"font-weight: bold; text-align: right;\">455</td><td style = \"text-align: left;\">XYL</td><td style = \"text-align: right;\">0.0785138</td><td style = \"text-align: right;\">0.189759</td></tr><tr><td class = \"rowNumber\" style = \"font-weight: bold; text-align: right;\">456</td><td style = \"text-align: left;\">YUM</td><td style = \"text-align: right;\">0.0808879</td><td style = \"text-align: right;\">0.143849</td></tr><tr><td class = \"rowNumber\" style = \"font-weight: bold; text-align: right;\">457</td><td style = \"text-align: left;\">ZBH</td><td style = \"text-align: right;\">0.00418204</td><td style = \"text-align: right;\">0.184707</td></tr><tr><td class = \"rowNumber\" style = \"font-weight: bold; text-align: right;\">458</td><td style = \"text-align: left;\">ZBRA</td><td style = \"text-align: right;\">0.142869</td><td style = \"text-align: right;\">0.248581</td></tr><tr><td class = \"rowNumber\" style = \"font-weight: bold; text-align: right;\">459</td><td style = \"text-align: left;\">ZION</td><td style = \"text-align: right;\">-0.0258027</td><td style = \"text-align: right;\">0.272149</td></tr><tr><td class = \"rowNumber\" style = \"font-weight: bold; text-align: right;\">460</td><td style = \"text-align: left;\">ZTS</td><td style = \"text-align: right;\">0.147924</td><td style = \"text-align: right;\">0.170282</td></tr></tbody></table></div>"
      ],
      "text/latex": [
       "\\begin{tabular}{r|ccc}\n",
       "\t& ticker & drift & volatility\\\\\n",
       "\t\\hline\n",
       "\t& String7 & Float64 & Float64\\\\\n",
       "\t\\hline\n",
       "\t1 & A & 0.151876 & 0.183345 \\\\\n",
       "\t2 & AAL & -0.207376 & 0.353988 \\\\\n",
       "\t3 & AAP & -0.0458017 & 0.221122 \\\\\n",
       "\t4 & AAPL & 0.291789 & 0.262843 \\\\\n",
       "\t5 & ABBV & 0.118954 & 0.170957 \\\\\n",
       "\t6 & ABT & 0.104121 & 0.157652 \\\\\n",
       "\t7 & ACN & 0.145112 & 0.164483 \\\\\n",
       "\t8 & ADBE & 0.136256 & 0.216782 \\\\\n",
       "\t9 & ADI & 0.13822 & 0.280011 \\\\\n",
       "\t10 & ADM & 0.146605 & 0.164689 \\\\\n",
       "\t11 & ADP & 0.12016 & 0.153493 \\\\\n",
       "\t12 & ADSK & 0.0966882 & 0.247439 \\\\\n",
       "\t13 & AEE & 0.0608638 & 0.141508 \\\\\n",
       "\t14 & AEP & 0.0328065 & 0.141321 \\\\\n",
       "\t15 & AES & 0.10445 & 0.214382 \\\\\n",
       "\t16 & AFL & 0.0925767 & 0.160581 \\\\\n",
       "\t17 & AIG & 0.0399337 & 0.225464 \\\\\n",
       "\t18 & AIZ & 0.0887152 & 0.167993 \\\\\n",
       "\t19 & AJG & 0.229925 & 0.140564 \\\\\n",
       "\t20 & AKAM & 0.0605027 & 0.172643 \\\\\n",
       "\t21 & ALB & 0.216521 & 0.431573 \\\\\n",
       "\t22 & ALGN & 0.0377036 & 0.321463 \\\\\n",
       "\t23 & ALK & -0.0733141 & 0.275738 \\\\\n",
       "\t24 & ALL & 0.0590842 & 0.163484 \\\\\n",
       "\t25 & ALLE & 0.0501607 & 0.18751 \\\\\n",
       "\t26 & AMAT & 0.243255 & 0.375777 \\\\\n",
       "\t27 & AMD & 0.371691 & 0.459735 \\\\\n",
       "\t28 & AME & 0.14154 & 0.158234 \\\\\n",
       "\t29 & AMGN & 0.0610803 & 0.153071 \\\\\n",
       "\t30 & AMP & 0.193587 & 0.218352 \\\\\n",
       "\t$\\dots$ & $\\dots$ & $\\dots$ & $\\dots$ \\\\\n",
       "\\end{tabular}\n"
      ],
      "text/plain": [
       "\u001b[1m460×3 DataFrame\u001b[0m\n",
       "\u001b[1m Row \u001b[0m│\u001b[1m ticker  \u001b[0m\u001b[1m drift       \u001b[0m\u001b[1m volatility \u001b[0m\n",
       "     │\u001b[90m String7 \u001b[0m\u001b[90m Float64     \u001b[0m\u001b[90m Float64    \u001b[0m\n",
       "─────┼──────────────────────────────────\n",
       "   1 │ A         0.151876      0.183345\n",
       "   2 │ AAL      -0.207376      0.353988\n",
       "   3 │ AAP      -0.0458017     0.221122\n",
       "   4 │ AAPL      0.291789      0.262843\n",
       "   5 │ ABBV      0.118954      0.170957\n",
       "   6 │ ABT       0.104121      0.157652\n",
       "   7 │ ACN       0.145112      0.164483\n",
       "   8 │ ADBE      0.136256      0.216782\n",
       "   9 │ ADI       0.13822       0.280011\n",
       "  10 │ ADM       0.146605      0.164689\n",
       "  11 │ ADP       0.12016       0.153493\n",
       "  ⋮  │    ⋮          ⋮           ⋮\n",
       " 451 │ WYNN     -0.10459       0.335665\n",
       " 452 │ XEL       0.0587966     0.140112\n",
       " 453 │ XOM       0.0675686     0.207661\n",
       " 454 │ XRAY     -0.0533123     0.206569\n",
       " 455 │ XYL       0.0785138     0.189759\n",
       " 456 │ YUM       0.0808879     0.143849\n",
       " 457 │ ZBH       0.00418204    0.184707\n",
       " 458 │ ZBRA      0.142869      0.248581\n",
       " 459 │ ZION     -0.0258027     0.272149\n",
       " 460 │ ZTS       0.147924      0.170282\n",
       "\u001b[36m                        439 rows omitted\u001b[0m"
      ]
     },
     "execution_count": 8,
     "metadata": {},
     "output_type": "execute_result"
    }
   ],
   "source": [
    "parameters_df = CSV.read(joinpath(_PATH_TO_DATA, \"gbmparameters\", \"Parameters-SP500-2018-2023.csv\"), DataFrame)"
   ]
  },
  {
   "cell_type": "markdown",
   "id": "73a41729-16f5-4895-ae9b-9540a9e19ac1",
   "metadata": {},
   "source": [
    "Construct gbm"
   ]
  },
  {
   "cell_type": "code",
   "execution_count": 21,
   "id": "9a861db2-956e-4334-81f8-0dc3f072f818",
   "metadata": {},
   "outputs": [],
   "source": [
    "model = build(MyGeometricBrownianMotionEquityModel, (\n",
    "    μ = filter(:ticker=> x-> x==\"TSLA\", parameters_df)[!,:drift] |> first,\n",
    "    σ = filter(:ticker=> x-> x==\"TSLA\", parameters_df)[!,:volatility] |> first\n",
    "));"
   ]
  },
  {
   "cell_type": "markdown",
   "id": "5dbe353f-432e-480c-a5fe-cebfb53da40e",
   "metadata": {},
   "source": [
    "Sample"
   ]
  },
  {
   "cell_type": "code",
   "execution_count": null,
   "id": "9b4a87a4-fa29-4283-900a-3aad046be6a5",
   "metadata": {},
   "outputs": [],
   "source": []
  },
  {
   "cell_type": "markdown",
   "id": "3615f486-a80c-447a-a53f-38175e529001",
   "metadata": {},
   "source": [
    "## Task 3: Estimate the probability of profit as a function of the strike price\n",
    "Fill me in"
   ]
  },
  {
   "cell_type": "markdown",
   "id": "2113d94b-3935-4564-bd75-fd66169ae918",
   "metadata": {},
   "source": [
    "## Disclaimer and Risks\n",
    "__This content is offered solely for training and informational purposes__. No offer or solicitation to buy or sell securities or derivative products or any investment or trading advice or strategy is made, given, or endorsed by the teaching team. \n",
    "\n",
    "__Trading involves risk__. Carefully review your financial situation before investing in securities, futures contracts, options, or commodity interests. Past performance, whether actual or indicated by historical tests of strategies, is no guarantee of future performance or success. Trading is generally inappropriate for someone with limited resources, investment or trading experience, or a low-risk tolerance.  Only risk capital that is not required for living expenses.\n",
    "\n",
    "__You are fully responsible for any investment or trading decisions you make__. You should decide solely based on your financial circumstances, investment or trading objectives, risk tolerance, and liquidity needs."
   ]
  },
  {
   "cell_type": "code",
   "execution_count": null,
   "id": "980a43cd-2778-49bc-a119-8a58287b9bd0",
   "metadata": {},
   "outputs": [],
   "source": []
  }
 ],
 "metadata": {
  "kernelspec": {
   "display_name": "Julia 1.10.4",
   "language": "julia",
   "name": "julia-1.10"
  },
  "language_info": {
   "file_extension": ".jl",
   "mimetype": "application/julia",
   "name": "julia",
   "version": "1.10.4"
  }
 },
 "nbformat": 4,
 "nbformat_minor": 5
}
