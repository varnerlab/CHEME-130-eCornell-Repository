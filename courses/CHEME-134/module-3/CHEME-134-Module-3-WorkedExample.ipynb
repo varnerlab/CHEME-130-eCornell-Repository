{
 "cells": [
  {
   "cell_type": "markdown",
   "id": "96a4ae07-db43-42b7-b9c3-28b679a8dd32",
   "metadata": {},
   "source": [
    "# Example: Computing Delta, Theta, Vega, Gamma and Rho for Short and Long Call and Put Contracts\n",
    "Fill me in\n",
    "\n",
    "## Learning objectives\n",
    "Fill me in"
   ]
  },
  {
   "cell_type": "markdown",
   "id": "5ac08825-a65e-4d28-ac55-369d90e2e748",
   "metadata": {},
   "source": [
    "## Setup\n",
    "Set up the computational environment by including the `Include.jl` file. The `Include.jl` file loads external packages, various functions we will use in the exercise, and custom types to model the components of our example problem.\n",
    "* For additional information on functions and types used in this material, see the [Julia programming language documentation](https://docs.julialang.org/en/v1/) and the [VLQuantitativeFinancePackage.jl documentation](https://github.com/varnerlab/VLQuantitativeFinancePackage.jl). "
   ]
  },
  {
   "cell_type": "code",
   "execution_count": 3,
   "id": "19560570-f64d-46f3-bb73-a78c31752d2d",
   "metadata": {},
   "outputs": [
    {
     "name": "stderr",
     "output_type": "stream",
     "text": [
      "\u001b[32m\u001b[1m    Updating\u001b[22m\u001b[39m git-repo `https://github.com/varnerlab/VLQuantitativeFinancePackage.jl.git`\n",
      "\u001b[32m\u001b[1m   Resolving\u001b[22m\u001b[39m package versions...\n",
      "\u001b[32m\u001b[1m  No Changes\u001b[22m\u001b[39m to `~/Desktop/julia_work/CHEME-130-eCornell-Repository/courses/CHEME-134/module-3/Project.toml`\n",
      "\u001b[32m\u001b[1m  No Changes\u001b[22m\u001b[39m to `~/Desktop/julia_work/CHEME-130-eCornell-Repository/courses/CHEME-134/module-3/Manifest.toml`\n",
      "\u001b[32m\u001b[1m  Activating\u001b[22m\u001b[39m project at `~/Desktop/julia_work/CHEME-130-eCornell-Repository/courses/CHEME-134/module-3`\n",
      "\u001b[32m\u001b[1m  No Changes\u001b[22m\u001b[39m to `~/Desktop/julia_work/CHEME-130-eCornell-Repository/courses/CHEME-134/module-3/Project.toml`\n",
      "\u001b[32m\u001b[1m  No Changes\u001b[22m\u001b[39m to `~/Desktop/julia_work/CHEME-130-eCornell-Repository/courses/CHEME-134/module-3/Manifest.toml`\n",
      "\u001b[32m\u001b[1m    Updating\u001b[22m\u001b[39m registry at `~/.julia/registries/General.toml`\n",
      "\u001b[32m\u001b[1m    Updating\u001b[22m\u001b[39m git-repo `https://github.com/varnerlab/VLQuantitativeFinancePackage.jl.git`\n",
      "\u001b[32m\u001b[1m  No Changes\u001b[22m\u001b[39m to `~/Desktop/julia_work/CHEME-130-eCornell-Repository/courses/CHEME-134/module-3/Project.toml`\n",
      "\u001b[32m\u001b[1m  No Changes\u001b[22m\u001b[39m to `~/Desktop/julia_work/CHEME-130-eCornell-Repository/courses/CHEME-134/module-3/Manifest.toml`\n"
     ]
    }
   ],
   "source": [
    "include(\"Include.jl\")"
   ]
  },
  {
   "cell_type": "markdown",
   "id": "be66405f-98bd-4b3d-8fb7-b564c943135e",
   "metadata": {},
   "source": [
    "## Prerequisites\n",
    "Let's build models for options on [NVIDIA Corporation](https://finance.yahoo.com/quote/NVDA/) as the underlying asset with ticker `NVDA,` in particular, out-of-the-money (OTM) short call and put options.  "
   ]
  },
  {
   "cell_type": "code",
   "execution_count": 5,
   "id": "e90db124-feb0-48e9-ba26-23cd497c43be",
   "metadata": {},
   "outputs": [],
   "source": [
    "Δt = (1/365);\n",
    "risk_free_rate = 0.0431; # yield 10-year treasury note on 13-Jun-2024\n",
    "Sₒ = 131.88; # after close on 14-Jun-2024 (close: 131.88)\n",
    "h = 366; # 6-points per trading day"
   ]
  },
  {
   "cell_type": "markdown",
   "id": "c568b555-4e26-40fa-974f-f2177d7a33a2",
   "metadata": {},
   "source": [
    "Call contract"
   ]
  },
  {
   "cell_type": "code",
   "execution_count": 7,
   "id": "26de778b-bf72-4288-be3a-fe8032c383cf",
   "metadata": {},
   "outputs": [],
   "source": [
    "call_option_model = build(MyAmericanCallContractModel, (\n",
    "    K = 136.0, \n",
    "    premium = 9.23, # mark price\n",
    "    DTE = (61.0)*Δt,\n",
    "    sense = 1,\n",
    "    copy = 1,\n",
    "    IV = 0.4848\n",
    "));"
   ]
  },
  {
   "cell_type": "markdown",
   "id": "b922ec50-2a0a-468f-b432-e04099b6efd7",
   "metadata": {},
   "source": [
    "Put contract"
   ]
  },
  {
   "cell_type": "code",
   "execution_count": 9,
   "id": "a13b1d75-7f0b-4b9b-8f1e-6cb47767d2ef",
   "metadata": {},
   "outputs": [],
   "source": [
    "put_option_model = build(MyAmericanPutContractModel, (\n",
    "    K = 128.0, \n",
    "    premium = 7.78, # mark price\n",
    "    DTE = (61.0)*Δt,\n",
    "    sense = 1,\n",
    "    copy = 1,\n",
    "    IV = 0.4787\n",
    "));"
   ]
  },
  {
   "cell_type": "markdown",
   "id": "034b010a-1978-4c44-90b2-8e009dbdde41",
   "metadata": {},
   "source": [
    "## Task 1: Compute the Greeks for a Long Call Option\n",
    "Fill me in"
   ]
  },
  {
   "cell_type": "markdown",
   "id": "c0fb748c-3b2f-4cb1-8de9-1ed187a0a3b0",
   "metadata": {},
   "source": [
    "### Delta\n",
    "Fill me in"
   ]
  },
  {
   "cell_type": "code",
   "execution_count": 12,
   "id": "781194c3-cae4-45d1-a3c7-31523b5805ca",
   "metadata": {},
   "outputs": [
    {
     "data": {
      "text/plain": [
       "0.4920000000000009"
      ]
     },
     "execution_count": 12,
     "metadata": {},
     "output_type": "execute_result"
    }
   ],
   "source": [
    "delta_long_call = delta(call_option_model, h = h,  T = call_option_model.DTE, \n",
    "    σ = call_option_model.IV, Sₒ = Sₒ, μ = risk_free_rate)"
   ]
  },
  {
   "cell_type": "markdown",
   "id": "5dfeab74-d710-4735-9708-1a683630a2aa",
   "metadata": {},
   "source": [
    "#### Check: How good is our delta estimate?\n",
    "The `delta` value for the `long-call` is `delta = 0.4979.` Let's use the [Julia @assert macro](https://docs.julialang.org/en/v1/base/base/#Base.@assert) in combination with the [Julia isapprox(...) function](https://docs.julialang.org/en/v1/base/math/#Base.isapprox) to compare the computed and observed values. \n",
    "* The [isapprox(...) function](https://docs.julialang.org/en/v1/base/math/#Base.isapprox) compares two values and returns `true` if the two values are equal to some absolute or relative tolerance, in this case, specified by the absolute tolerance `atol` variable. If `false` (values are not equal), an [AssertionError](https://docs.julialang.org/en/v1/base/base/#Core.AssertionError) is generated:"
   ]
  },
  {
   "cell_type": "code",
   "execution_count": 14,
   "id": "42f86536-12e6-460a-8caf-80d0edd2f58c",
   "metadata": {},
   "outputs": [],
   "source": [
    "observed_value_delta_long_call = 0.4979; # NVDA 61-DTE K = 136 long call after close 14-Jun-2024 \n",
    "@assert isapprox(observed_value_delta_long_call, delta_long_call, atol=1e-2) # good to second decimal place, and sign is correct!"
   ]
  },
  {
   "cell_type": "markdown",
   "id": "57f77130-acae-4780-a7e9-f54623aa6fc1",
   "metadata": {},
   "source": [
    "### Theta\n",
    "Fill me in here."
   ]
  },
  {
   "cell_type": "code",
   "execution_count": 16,
   "id": "3150c1ec-10e9-491b-a4f8-6d83e6615146",
   "metadata": {},
   "outputs": [
    {
     "data": {
      "text/plain": [
       "-0.09199999999999875"
      ]
     },
     "execution_count": 16,
     "metadata": {},
     "output_type": "execute_result"
    }
   ],
   "source": [
    "theta_long_call = theta(call_option_model, h = h,  T = call_option_model.DTE, \n",
    "    σ = call_option_model.IV, Sₒ = Sₒ, μ = risk_free_rate)"
   ]
  },
  {
   "cell_type": "markdown",
   "id": "e514f334-478a-431b-8fda-33ffb280b9b9",
   "metadata": {},
   "source": [
    "#### Check: How good is our theta estimate?\n",
    "This option's observed `theta` value is `theta = -0.0937` (long call). Let's use the [Julia @assert macro](https://docs.julialang.org/en/v1/base/base/#Base.@assert) in combination with the [Julia isapprox(...) function](https://docs.julialang.org/en/v1/base/math/#Base.isapprox) to compare the computed and observed values. \n",
    "* The [isapprox(...) function](https://docs.julialang.org/en/v1/base/math/#Base.isapprox) compares two values and returns `true` if the two values are equal to some absolute or relative tolerance, in this case, specified by the absolute tolerance `atol` variable. If `false` (values are not equal), an [AssertionError](https://docs.julialang.org/en/v1/base/base/#Core.AssertionError) is generated:"
   ]
  },
  {
   "cell_type": "code",
   "execution_count": 18,
   "id": "74481baf-5216-45a7-a488-cafa01bbff9b",
   "metadata": {},
   "outputs": [],
   "source": [
    "observed_value_theta_long_call = -0.0937; # NVDA 61-DTE K = 136 long call after close 14-Jun-2024 \n",
    "@assert isapprox(observed_value_theta_long_call, theta_long_call, atol=1e-2) # good to second decimal place, and sign is correct!"
   ]
  },
  {
   "cell_type": "markdown",
   "id": "aa2ed6e4-fba6-4adf-a9b0-8ea9c0bca585",
   "metadata": {},
   "source": [
    "### Vega\n",
    "Fill me in here."
   ]
  },
  {
   "cell_type": "code",
   "execution_count": 20,
   "id": "cc97c035-accc-4a0a-99e7-ca885cca265f",
   "metadata": {},
   "outputs": [
    {
     "data": {
      "text/plain": [
       "0.21600000000000108"
      ]
     },
     "execution_count": 20,
     "metadata": {},
     "output_type": "execute_result"
    }
   ],
   "source": [
    "vega_long_call = vega(call_option_model, h = h,  T = call_option_model.DTE, \n",
    "    σ = call_option_model.IV, Sₒ = Sₒ, μ = risk_free_rate)"
   ]
  },
  {
   "cell_type": "markdown",
   "id": "eed5d152-da71-46f4-84da-85bbb7c49b42",
   "metadata": {},
   "source": [
    "#### Check: How good is our vega estimate?\n",
    "This `vega` value for the `long-call` is `vega = 0.2159.` Let's use the [Julia @assert macro](https://docs.julialang.org/en/v1/base/base/#Base.@assert) in combination with the [Julia isapprox(...) function](https://docs.julialang.org/en/v1/base/math/#Base.isapprox) to compare the computed and observed values. \n",
    "* The [isapprox(...) function](https://docs.julialang.org/en/v1/base/math/#Base.isapprox) compares two values and returns `true` if the two values are equal to some absolute or relative tolerance, in this case, specified by the absolute tolerance `atol` variable. If `false` (values are not equal), an [AssertionError](https://docs.julialang.org/en/v1/base/base/#Core.AssertionError) is generated:"
   ]
  },
  {
   "cell_type": "code",
   "execution_count": 22,
   "id": "32d66ca6-5232-4acb-a25a-71024139f466",
   "metadata": {},
   "outputs": [],
   "source": [
    "observed_value_vega_long_call = 0.2159; # NVDA 61-DTE K = 136 long call after close 14-Jun-2024 \n",
    "@assert isapprox(observed_value_vega_long_call, vega_long_call, atol=1e-2) # good to the second decimal place, and sign is correct!"
   ]
  },
  {
   "cell_type": "markdown",
   "id": "9ee6c224-a26d-4907-a7f8-3ac658bd783b",
   "metadata": {},
   "source": [
    "### Rho\n",
    "Fill me in"
   ]
  },
  {
   "cell_type": "code",
   "execution_count": 24,
   "id": "263bb74a-ef12-4ae6-9ce4-6c5d689b306d",
   "metadata": {},
   "outputs": [
    {
     "data": {
      "text/plain": [
       "0.0940000000000012"
      ]
     },
     "execution_count": 24,
     "metadata": {},
     "output_type": "execute_result"
    }
   ],
   "source": [
    "rho_long_call = rho(call_option_model, h = h,  T = call_option_model.DTE, \n",
    "    σ = call_option_model.IV, Sₒ = Sₒ, μ = risk_free_rate)"
   ]
  },
  {
   "cell_type": "markdown",
   "id": "b1192b4b-d766-4d41-a178-e5035a44e5ee",
   "metadata": {},
   "source": [
    "#### Check: How good is our rho estimate?\n",
    "The `rho` value for the `long-call` is `rho = 0.0950.` Let's use the [Julia @assert macro](https://docs.julialang.org/en/v1/base/base/#Base.@assert) in combination with the [Julia isapprox(...) function](https://docs.julialang.org/en/v1/base/math/#Base.isapprox) to compare the computed and observed values. \n",
    "* The [isapprox(...) function](https://docs.julialang.org/en/v1/base/math/#Base.isapprox) compares two values and returns `true` if the two values are equal to some absolute or relative tolerance, in this case, specified by the absolute tolerance `atol` variable. If `false` (values are not equal), an [AssertionError](https://docs.julialang.org/en/v1/base/base/#Core.AssertionError) is generated:"
   ]
  },
  {
   "cell_type": "code",
   "execution_count": 26,
   "id": "09c34590-c9c0-4285-a1b4-52895429ca38",
   "metadata": {},
   "outputs": [],
   "source": [
    "observed_value_rho_long_call = 0.0950; # NVDA 61-DTE K = 136 long call after close 14-Jun-2024 \n",
    "@assert isapprox(observed_value_rho_long_call, rho_long_call, atol=1e-2) # good to the second decimal place, and sign is correct!"
   ]
  },
  {
   "cell_type": "markdown",
   "id": "adadce7d-fd9d-4276-9310-bb5b880b339a",
   "metadata": {},
   "source": [
    "### Gamma\n",
    "Fill me in"
   ]
  },
  {
   "cell_type": "code",
   "execution_count": 28,
   "id": "7fcf5dfa-8cfd-445e-b7b6-e7e9f7c0fa03",
   "metadata": {},
   "outputs": [
    {
     "data": {
      "text/plain": [
       "0.022999999999999687"
      ]
     },
     "execution_count": 28,
     "metadata": {},
     "output_type": "execute_result"
    }
   ],
   "source": [
    "gamma_long_call = gamma(call_option_model, h = h,  T = call_option_model.DTE, \n",
    "    σ = call_option_model.IV, Sₒ = Sₒ, μ = risk_free_rate)"
   ]
  },
  {
   "cell_type": "markdown",
   "id": "119fb507-4556-4d9a-855e-c190b0c45f42",
   "metadata": {},
   "source": [
    "#### Check: How good is our gamma estimate?\n",
    "The `gamma` value for the `long-call` is `gamma = 0.0152.` Let's use the [Julia @assert macro](https://docs.julialang.org/en/v1/base/base/#Base.@assert) in combination with the [Julia isapprox(...) function](https://docs.julialang.org/en/v1/base/math/#Base.isapprox) to compare the computed and observed values. \n",
    "* The [isapprox(...) function](https://docs.julialang.org/en/v1/base/math/#Base.isapprox) compares two values and returns `true` if the two values are equal to some absolute or relative tolerance, in this case, specified by the absolute tolerance `atol` variable. If `false` (values are not equal), an [AssertionError](https://docs.julialang.org/en/v1/base/base/#Core.AssertionError) is generated:"
   ]
  },
  {
   "cell_type": "code",
   "execution_count": 30,
   "id": "653f72c9-40a1-409d-af41-8b9814bcdce7",
   "metadata": {},
   "outputs": [],
   "source": [
    "observed_value_gamma_long_call = 0.0152; # NVDA 61-DTE K = 136 long call after close 14-Jun-2024 \n",
    "@assert isapprox(observed_value_gamma_long_call, gamma_long_call, atol=1e-2) # good to the second decimal place, and sign is correct!"
   ]
  },
  {
   "cell_type": "markdown",
   "id": "c2c72ebe-2092-4420-a18b-865c3682362d",
   "metadata": {},
   "source": [
    "## Task 2: Compute the Greeks for a Long Put Option\n",
    "Fill me in"
   ]
  },
  {
   "cell_type": "markdown",
   "id": "6df24abd-5898-4c8a-a46d-7710143222b1",
   "metadata": {},
   "source": [
    "### Delta"
   ]
  },
  {
   "cell_type": "code",
   "execution_count": 49,
   "id": "f7fe117d-e8ed-4369-9d0d-237ab54ebf32",
   "metadata": {},
   "outputs": [
    {
     "data": {
      "text/plain": [
       "-0.3879999999999999"
      ]
     },
     "execution_count": 49,
     "metadata": {},
     "output_type": "execute_result"
    }
   ],
   "source": [
    "delta_long_put = delta(put_option_model, h = h,  T = put_option_model.DTE, \n",
    "    σ = put_option_model.IV, Sₒ = Sₒ, μ = risk_free_rate)"
   ]
  },
  {
   "cell_type": "markdown",
   "id": "362ad578-31ad-4bf4-90f3-1a593d61e5dc",
   "metadata": {},
   "source": [
    "#### Check: How good is our delta estimate?\n",
    "The observed `delta` value for the `long put` is `delta = -0.3847` (long put). Let's use the [Julia @assert macro](https://docs.julialang.org/en/v1/base/base/#Base.@assert) in combination with the [Julia isapprox(...) function](https://docs.julialang.org/en/v1/base/math/#Base.isapprox) to compare the computed and observed values. \n",
    "* The [isapprox(...) function](https://docs.julialang.org/en/v1/base/math/#Base.isapprox) compares two values and returns `true` if the two values are equal to some absolute or relative tolerance, in this case, specified by the absolute tolerance `atol` variable. If `false` (values are not equal), an [AssertionError](https://docs.julialang.org/en/v1/base/base/#Core.AssertionError) is generated:"
   ]
  },
  {
   "cell_type": "code",
   "execution_count": 53,
   "id": "56d95e3c-0948-48eb-8b1d-f85c7b1d6007",
   "metadata": {},
   "outputs": [],
   "source": [
    "observed_value_delta_long_put = -0.3847; # NVDA 61-DTE K = 128 long put after close 14-Jun-2024 \n",
    "@assert isapprox(observed_value_delta_long_put, delta_long_put, atol=1e-2) # good to second decimal place, and sign is correct!"
   ]
  },
  {
   "cell_type": "markdown",
   "id": "4520f323-ae17-4a4d-a090-3032be11f731",
   "metadata": {},
   "source": [
    "### Theta\n",
    "Fill me in"
   ]
  },
  {
   "cell_type": "code",
   "execution_count": 60,
   "id": "8862789f-439f-4343-82a5-0f163ef45061",
   "metadata": {},
   "outputs": [
    {
     "data": {
      "text/plain": [
       "-0.07499999999999929"
      ]
     },
     "execution_count": 60,
     "metadata": {},
     "output_type": "execute_result"
    }
   ],
   "source": [
    "theta_long_put = theta(put_option_model, h = h,  T = put_option_model.DTE, \n",
    "    σ = put_option_model.IV, Sₒ = Sₒ, μ = risk_free_rate)"
   ]
  },
  {
   "cell_type": "markdown",
   "id": "479e2480-1cad-4534-a21c-8de4002d9eea",
   "metadata": {},
   "source": [
    "#### Check: How good is our theta estimate?\n",
    "The observed `theta` value for the `long put` is `theta = -0.0726` (long put). Let's use the [Julia @assert macro](https://docs.julialang.org/en/v1/base/base/#Base.@assert) in combination with the [Julia isapprox(...) function](https://docs.julialang.org/en/v1/base/math/#Base.isapprox) to compare the computed and observed values. \n",
    "* The [isapprox(...) function](https://docs.julialang.org/en/v1/base/math/#Base.isapprox) compares two values and returns `true` if the two values are equal to some absolute or relative tolerance, in this case, specified by the absolute tolerance `atol` variable. If `false` (values are not equal), an [AssertionError](https://docs.julialang.org/en/v1/base/base/#Core.AssertionError) is generated:"
   ]
  },
  {
   "cell_type": "code",
   "execution_count": 64,
   "id": "903ab3eb-a639-43b5-8e52-8d26b35a0f90",
   "metadata": {},
   "outputs": [],
   "source": [
    "observed_value_theta_long_put = -0.0726; # NVDA 61-DTE K = 128 long put after close 14-Jun-2024 \n",
    "@assert isapprox(observed_value_theta_long_put, theta_long_put, atol=1e-2) # good to the second decimal place, and sign is correct!"
   ]
  },
  {
   "cell_type": "markdown",
   "id": "f29c6b28-a286-433e-bf22-dd08bb81e81f",
   "metadata": {},
   "source": [
    "### Vega\n",
    "Fill me in"
   ]
  },
  {
   "cell_type": "code",
   "execution_count": 68,
   "id": "6ec46313-f919-4e55-97a9-dac45fb09c35",
   "metadata": {},
   "outputs": [
    {
     "data": {
      "text/plain": [
       "0.20700000000000074"
      ]
     },
     "execution_count": 68,
     "metadata": {},
     "output_type": "execute_result"
    }
   ],
   "source": [
    "vega_long_put = vega(put_option_model, h = h,  T = put_option_model.DTE, \n",
    "    σ = put_option_model.IV, Sₒ = Sₒ, μ = risk_free_rate)"
   ]
  },
  {
   "cell_type": "markdown",
   "id": "99a01877-34a6-4742-99c6-c7f2a1b9ed34",
   "metadata": {},
   "source": [
    "#### Check: How good is our vega estimate?\n",
    "The observed `vega` value for the `long put` is `vega = 0.2068.` Let's use the [Julia @assert macro](https://docs.julialang.org/en/v1/base/base/#Base.@assert) in combination with the [Julia isapprox(...) function](https://docs.julialang.org/en/v1/base/math/#Base.isapprox) to compare the computed and observed values. \n",
    "* The [isapprox(...) function](https://docs.julialang.org/en/v1/base/math/#Base.isapprox) compares two values and returns `true` if the two values are equal to some absolute or relative tolerance, in this case, specified by the absolute tolerance `atol` variable. If `false` (values are not equal), an [AssertionError](https://docs.julialang.org/en/v1/base/base/#Core.AssertionError) is generated:"
   ]
  },
  {
   "cell_type": "code",
   "execution_count": 74,
   "id": "8a39a4e0-0c22-4af8-9c4c-c30705278253",
   "metadata": {},
   "outputs": [],
   "source": [
    "observed_value_vega_long_put = 0.2068; # NVDA 61-DTE K = 128 long put after close 14-Jun-2024 \n",
    "@assert isapprox(observed_value_vega_long_put, vega_long_put, atol=1e-2) # good to the second decimal place, and sign is correct!"
   ]
  },
  {
   "cell_type": "markdown",
   "id": "f12fac85-d508-4815-ac24-d7f2db0b7bc9",
   "metadata": {},
   "source": [
    "### Rho\n",
    "Fill me in"
   ]
  },
  {
   "cell_type": "code",
   "execution_count": 77,
   "id": "050d564d-6bff-4314-98ac-da1106a64a90",
   "metadata": {},
   "outputs": [
    {
     "data": {
      "text/plain": [
       "-0.0829999999999993"
      ]
     },
     "execution_count": 77,
     "metadata": {},
     "output_type": "execute_result"
    }
   ],
   "source": [
    "rho_long_put = rho(put_option_model, h = h,  T = put_option_model.DTE, \n",
    "    σ = put_option_model.IV, Sₒ = Sₒ, μ = risk_free_rate)"
   ]
  },
  {
   "cell_type": "markdown",
   "id": "7c041641-1d5f-4e04-80db-203ba02d63c7",
   "metadata": {},
   "source": [
    "#### Check: How good is our rho estimate?\n",
    "The observed `rho` value for the `long put` is `rho = -0.0902` Let's use the [Julia @assert macro](https://docs.julialang.org/en/v1/base/base/#Base.@assert) in combination with the [Julia isapprox(...) function](https://docs.julialang.org/en/v1/base/math/#Base.isapprox) to compare the computed and observed values. \n",
    "* The [isapprox(...) function](https://docs.julialang.org/en/v1/base/math/#Base.isapprox) compares two values and returns `true` if the two values are equal to some absolute or relative tolerance, in this case, specified by the absolute tolerance `atol` variable. If `false` (values are not equal), an [AssertionError](https://docs.julialang.org/en/v1/base/base/#Core.AssertionError) is generated:"
   ]
  },
  {
   "cell_type": "code",
   "execution_count": 80,
   "id": "790f7d8e-7374-4e10-b1a1-39e1fd33b338",
   "metadata": {},
   "outputs": [],
   "source": [
    "observed_value_rho_long_put = -0.0902; # NVDA 61-DTE K = 128 long put after close 14-Jun-2024 \n",
    "@assert isapprox(observed_value_rho_long_put, rho_long_put, atol=1e-2) # good to the second decimal place, and sign is correct!"
   ]
  },
  {
   "cell_type": "markdown",
   "id": "3bf8d7da-af12-4bf9-bad9-974b638259d8",
   "metadata": {},
   "source": [
    "### Gamma\n",
    "Fill me in"
   ]
  },
  {
   "cell_type": "code",
   "execution_count": 85,
   "id": "15459b4f-ee70-4fb5-9380-38523d0f7e78",
   "metadata": {},
   "outputs": [
    {
     "data": {
      "text/plain": [
       "0.020000000000000462"
      ]
     },
     "execution_count": 85,
     "metadata": {},
     "output_type": "execute_result"
    }
   ],
   "source": [
    "gamma_long_put = gamma(put_option_model, h = h,  T = put_option_model.DTE, \n",
    "    σ = put_option_model.IV, Sₒ = Sₒ, μ = risk_free_rate)"
   ]
  },
  {
   "cell_type": "markdown",
   "id": "356f0573-4616-4021-96a4-6fd4c16a755a",
   "metadata": {},
   "source": [
    "#### Check: How good is our gamma estimate?\n",
    "The observed `gamma` value for the `long put` is `gamma = 0.0150.` Let's use the [Julia @assert macro](https://docs.julialang.org/en/v1/base/base/#Base.@assert) in combination with the [Julia isapprox(...) function](https://docs.julialang.org/en/v1/base/math/#Base.isapprox) to compare the computed and observed values. \n",
    "* The [isapprox(...) function](https://docs.julialang.org/en/v1/base/math/#Base.isapprox) compares two values and returns `true` if the two values are equal to some absolute or relative tolerance, in this case, specified by the absolute tolerance `atol` variable. If `false` (values are not equal), an [AssertionError](https://docs.julialang.org/en/v1/base/base/#Core.AssertionError) is generated:"
   ]
  },
  {
   "cell_type": "code",
   "execution_count": 88,
   "id": "88995f90-2f18-4c59-915d-2d21c7e64145",
   "metadata": {},
   "outputs": [],
   "source": [
    "observed_value_gamma_long_put = 0.0150; # NVDA 61-DTE K = 128 long put after close 14-Jun-2024 \n",
    "@assert isapprox(observed_value_gamma_long_put, gamma_long_put, atol=1e-2) # good to the second decimal place, and sign is correct!"
   ]
  },
  {
   "cell_type": "markdown",
   "id": "5d43874c-1353-495e-94d6-e9caafd18290",
   "metadata": {},
   "source": [
    "## Task 3: Conversion of the Greeks to Short Contracts\n",
    "We computed `delta, theta, vega, rho` and `gamma` values for `long` put and call contacts in the previous tasks. The immediate question is, then, what about short contracts? To compute the greek values for short contracts is easy, take the long contract value and multiply it it by the sense parameter $\\theta$ where $\\theta = 1$ for long contracts and $\\theta = -1$ for short contracts. "
   ]
  },
  {
   "cell_type": "code",
   "execution_count": 128,
   "id": "f76bbe62-44be-4002-9d28-cd8c6f14c13f",
   "metadata": {
    "jupyter": {
     "source_hidden": true
    }
   },
   "outputs": [
    {
     "data": {
      "text/html": [
       "<div><div style = \"float: left;\"><span>5×5 DataFrame</span></div><div style = \"clear: both;\"></div></div><div class = \"data-frame\" style = \"overflow-x: scroll;\"><table class = \"data-frame\" style = \"margin-bottom: 6px;\"><thead><tr class = \"header\"><th class = \"rowNumber\" style = \"font-weight: bold; text-align: right;\">Row</th><th style = \"text-align: left;\">greek</th><th style = \"text-align: left;\">call_long_calc</th><th style = \"text-align: left;\">call_short_calc</th><th style = \"text-align: left;\">put_long_calc</th><th style = \"text-align: left;\">put_short_calc</th></tr><tr class = \"subheader headerLastRow\"><th class = \"rowNumber\" style = \"font-weight: bold; text-align: right;\"></th><th title = \"String\" style = \"text-align: left;\">String</th><th title = \"Float64\" style = \"text-align: left;\">Float64</th><th title = \"Float64\" style = \"text-align: left;\">Float64</th><th title = \"Float64\" style = \"text-align: left;\">Float64</th><th title = \"Float64\" style = \"text-align: left;\">Float64</th></tr></thead><tbody><tr><td class = \"rowNumber\" style = \"font-weight: bold; text-align: right;\">1</td><td style = \"text-align: left;\">delta</td><td style = \"text-align: right;\">0.492</td><td style = \"text-align: right;\">-0.492</td><td style = \"text-align: right;\">-0.388</td><td style = \"text-align: right;\">0.388</td></tr><tr><td class = \"rowNumber\" style = \"font-weight: bold; text-align: right;\">2</td><td style = \"text-align: left;\">theta</td><td style = \"text-align: right;\">-0.092</td><td style = \"text-align: right;\">0.092</td><td style = \"text-align: right;\">-0.075</td><td style = \"text-align: right;\">0.075</td></tr><tr><td class = \"rowNumber\" style = \"font-weight: bold; text-align: right;\">3</td><td style = \"text-align: left;\">vega</td><td style = \"text-align: right;\">0.216</td><td style = \"text-align: right;\">-0.216</td><td style = \"text-align: right;\">0.207</td><td style = \"text-align: right;\">-0.207</td></tr><tr><td class = \"rowNumber\" style = \"font-weight: bold; text-align: right;\">4</td><td style = \"text-align: left;\">rho</td><td style = \"text-align: right;\">0.094</td><td style = \"text-align: right;\">-0.094</td><td style = \"text-align: right;\">-0.083</td><td style = \"text-align: right;\">0.083</td></tr><tr><td class = \"rowNumber\" style = \"font-weight: bold; text-align: right;\">5</td><td style = \"text-align: left;\">gamma</td><td style = \"text-align: right;\">0.023</td><td style = \"text-align: right;\">-0.023</td><td style = \"text-align: right;\">0.02</td><td style = \"text-align: right;\">-0.02</td></tr></tbody></table></div>"
      ],
      "text/latex": [
       "\\begin{tabular}{r|ccccc}\n",
       "\t& greek & call\\_long\\_calc & call\\_short\\_calc & put\\_long\\_calc & put\\_short\\_calc\\\\\n",
       "\t\\hline\n",
       "\t& String & Float64 & Float64 & Float64 & Float64\\\\\n",
       "\t\\hline\n",
       "\t1 & delta & 0.492 & -0.492 & -0.388 & 0.388 \\\\\n",
       "\t2 & theta & -0.092 & 0.092 & -0.075 & 0.075 \\\\\n",
       "\t3 & vega & 0.216 & -0.216 & 0.207 & -0.207 \\\\\n",
       "\t4 & rho & 0.094 & -0.094 & -0.083 & 0.083 \\\\\n",
       "\t5 & gamma & 0.023 & -0.023 & 0.02 & -0.02 \\\\\n",
       "\\end{tabular}\n"
      ],
      "text/plain": [
       "\u001b[1m5×5 DataFrame\u001b[0m\n",
       "\u001b[1m Row \u001b[0m│\u001b[1m greek  \u001b[0m\u001b[1m call_long_calc \u001b[0m\u001b[1m call_short_calc \u001b[0m\u001b[1m put_long_calc \u001b[0m\u001b[1m put_short_calc \u001b[0m\n",
       "     │\u001b[90m String \u001b[0m\u001b[90m Float64        \u001b[0m\u001b[90m Float64         \u001b[0m\u001b[90m Float64       \u001b[0m\u001b[90m Float64        \u001b[0m\n",
       "─────┼────────────────────────────────────────────────────────────────────────\n",
       "   1 │ delta            0.492           -0.492         -0.388           0.388\n",
       "   2 │ theta           -0.092            0.092         -0.075           0.075\n",
       "   3 │ vega             0.216           -0.216          0.207          -0.207\n",
       "   4 │ rho              0.094           -0.094         -0.083           0.083\n",
       "   5 │ gamma            0.023           -0.023          0.02           -0.02"
      ]
     },
     "execution_count": 128,
     "metadata": {},
     "output_type": "execute_result"
    }
   ],
   "source": [
    "let\n",
    "    \n",
    "    sense = -1;\n",
    "    greek_dataframe = DataFrame();\n",
    "\n",
    "    # delta -\n",
    "    delta_row = (\n",
    "        greek = \"delta\", \n",
    "        call_long_calc = delta_long_call,\n",
    "        # call_long_obs = observed_value_delta_long_call,\n",
    "        call_short_calc = (sense)*delta_long_call,\n",
    "        # call_short_obs = (sense)*observed_value_delta_long_call,\n",
    "        put_long_calc = delta_long_put,\n",
    "        # put_long_obs = observed_value_delta_long_put,\n",
    "        put_short_calc = (sense)*delta_long_put,\n",
    "        # put_short_obs = (sense)*observed_value_delta_long_put,\n",
    "    )\n",
    "    push!(greek_dataframe,delta_row);\n",
    "\n",
    "    # theta\n",
    "    theta_row = (\n",
    "        greek = \"theta\", \n",
    "        call_long_calc = theta_long_call,\n",
    "        # call_long_obs = observed_value_theta_long_call,\n",
    "        call_short_calc = (sense)*theta_long_call,\n",
    "        # call_short_obs = (sense)*observed_value_theta_long_call,\n",
    "        put_long_calc = theta_long_put,\n",
    "        # put_long_obs = observed_value_theta_long_put,\n",
    "        put_short_calc = (sense)*theta_long_put,\n",
    "        # put_short_obs = (sense)*observed_value_theta_long_put,\n",
    "    )\n",
    "    push!(greek_dataframe,theta_row);\n",
    "\n",
    "    # vega -\n",
    "    vega_row = (\n",
    "        greek = \"vega\", \n",
    "        call_long_calc = vega_long_call,\n",
    "        # call_long_obs = observed_value_vega_long_call,\n",
    "        call_short_calc = (sense)*vega_long_call,\n",
    "        # call_short_obs = (sense)*observed_value_vega_long_call,\n",
    "        put_long_calc = vega_long_put,\n",
    "        # put_long_obs = observed_value_vega_long_put,\n",
    "        put_short_calc = (sense)*vega_long_put,\n",
    "        # put_short_obs = (sense)*observed_value_vega_long_put,\n",
    "    )\n",
    "    push!(greek_dataframe,vega_row);\n",
    "\n",
    "    # rho -\n",
    "    rho_row = (\n",
    "        greek = \"rho\", \n",
    "        call_long_calc = rho_long_call,\n",
    "        # call_long_obs = observed_value_rho_long_call,\n",
    "        call_short_calc = (sense)*rho_long_call,\n",
    "        # call_short_obs = (sense)*observed_value_rho_long_call,\n",
    "        put_long_calc = rho_long_put,\n",
    "        # put_long_obs = observed_value_rho_long_put,\n",
    "        put_short_calc = (sense)*rho_long_put,\n",
    "        # put_short_obs = (sense)*observed_value_rho_long_put,\n",
    "    )\n",
    "    push!(greek_dataframe,rho_row);\n",
    "\n",
    "    # gamma -\n",
    "    gamma_row = (\n",
    "        greek = \"gamma\", \n",
    "        call_long_calc = gamma_long_call,\n",
    "        # call_long_obs = observed_value_gamma_long_call,\n",
    "        call_short_calc = (sense)*gamma_long_call,\n",
    "        # call_short_obs = (sense)*observed_value_gamma_long_call,\n",
    "        put_long_calc = gamma_long_put,\n",
    "        # put_long_obs = observed_value_gamma_long_put,\n",
    "        put_short_calc = (sense)*gamma_long_put,\n",
    "        # put_short_obs = (sense)*observed_value_gamma_long_put,\n",
    "    )\n",
    "    push!(greek_dataframe,gamma_row);\n",
    "\n",
    "    # display -\n",
    "    greek_dataframe\n",
    "end"
   ]
  },
  {
   "cell_type": "markdown",
   "id": "74c2ee7e-9f7c-4852-beb3-755bb6626c45",
   "metadata": {},
   "source": [
    "## Disclaimer and Risks\n",
    "__This content is offered solely for training and informational purposes__. No offer or solicitation to buy or sell securities or derivative products or any investment or trading advice or strategy is made, given, or endorsed by the teaching team. \n",
    "\n",
    "__Trading involves risk__. Carefully review your financial situation before investing in securities, futures contracts, options, or commodity interests. Past performance, whether actual or indicated by historical tests of strategies, is no guarantee of future performance or success. Trading is generally inappropriate for someone with limited resources, investment or trading experience, or a low-risk tolerance.  Only risk capital that is not required for living expenses.\n",
    "\n",
    "__You are fully responsible for any investment or trading decisions you make__. You should decide solely based on your financial circumstances, investment or trading objectives, risk tolerance, and liquidity needs."
   ]
  }
 ],
 "metadata": {
  "kernelspec": {
   "display_name": "Julia 1.10.4",
   "language": "julia",
   "name": "julia-1.10"
  },
  "language_info": {
   "file_extension": ".jl",
   "mimetype": "application/julia",
   "name": "julia",
   "version": "1.10.4"
  }
 },
 "nbformat": 4,
 "nbformat_minor": 5
}
