{
 "cells": [
  {
   "cell_type": "markdown",
   "id": "96a4ae07-db43-42b7-b9c3-28b679a8dd32",
   "metadata": {},
   "source": [
    "# Example: Calculate Delta, Theta, Vega, Rho, and Gamma for Short and Long Options Contracts\n",
    "[The Greeks](https://en.wikipedia.org/wiki/en:Greeks_(finance)?variant=zh-tw) are quantitative measures that describe the sensitivity of an American option's price to various risk factors. Understanding and monitoring the Greeks is crucial for effective options trading and risk management. The key Greeks for American options include `delta,` `gamma,` `vega,` `theta,` and `rho,` each quantifying how the option's value changes with movements in the underlying asset price, volatility, time decay, and interest rates.\n",
    "\n",
    "## Learning objectives\n",
    "This example will familiarize you with calculating [the Greeks](https://en.wikipedia.org/wiki/en:Greeks_(finance)?variant=zh-tw) for long and short American-style option contracts, and give you a chance to test your calculations using actual contracts from the [NVIDIA Corporation](https://finance.yahoo.com/quote/NVDA/) (ticker `NVDA`). Let's get started!\n",
    "* __Prerequisites__: We'll begin by setting some parameter values for the contracts, then we'll build contract models for the example call and put options on `NVDA.`\n",
    "* __Task 1__: Compute the Greeks for a Long `NVDA` Call Option.\n",
    "    * `TODO`: Compute `delta` and check the computed and observed `delta` values for a long call\n",
    "    * `TODO`: Compute `theta` and check the computed and observed `theta` values for a long call\n",
    "    * `TODO`: Compute `vega` and check the computed and observed `vega` values for a long call\n",
    "    * `TODO`: Compute `rho` and check the computed and observed `rho` values for a long call\n",
    "    * `TODO`: Compute `gamma` and check the computed and observed `gamma` values for a long call\n",
    "* __Task 2__: Compute the Greeks for a Long `NVDA` Put Option.\n",
    "    * `TODO`: Compute `delta` and check the computed and observed `delta` values for a long put\n",
    "    * `TODO`: Compute `theta` and check the computed and observed `theta` values for a long put\n",
    "    * `TODO`: Compute `vega` and check the computed and observed `vega` values for a long put\n",
    "    * `TODO`: Compute `rho` and check the computed and observed `rho` values for a long put\n",
    "    * `TODO`: Compute `gamma` and check the computed and observed `gamma` values for a long put\n",
    "* __Task 3__: Conversion of the Greeks for Long Contracts to Short Contracts"
   ]
  },
  {
   "cell_type": "markdown",
   "id": "5ac08825-a65e-4d28-ac55-369d90e2e748",
   "metadata": {},
   "source": [
    "## Setup\n",
    "Set up the computational environment by including the `Include.jl` file. The `Include.jl` file loads external packages, various functions we will use in the exercise, and custom types to model the components of our example problem.\n",
    "* For additional information on functions and types used in this material, see the [Julia programming language documentation](https://docs.julialang.org/en/v1/) and the [VLQuantitativeFinancePackage.jl documentation](https://github.com/varnerlab/VLQuantitativeFinancePackage.jl). "
   ]
  },
  {
   "cell_type": "code",
   "execution_count": 3,
   "id": "19560570-f64d-46f3-bb73-a78c31752d2d",
   "metadata": {},
   "outputs": [
    {
     "name": "stderr",
     "output_type": "stream",
     "text": [
      "\u001b[32m\u001b[1m    Updating\u001b[22m\u001b[39m git-repo `https://github.com/varnerlab/VLQuantitativeFinancePackage.jl.git`\n",
      "\u001b[32m\u001b[1m   Resolving\u001b[22m\u001b[39m package versions...\n",
      "\u001b[32m\u001b[1m  No Changes\u001b[22m\u001b[39m to `~/Desktop/julia_work/CHEME-130-eCornell-Repository/courses/CHEME-134/module-3/Project.toml`\n",
      "\u001b[32m\u001b[1m  No Changes\u001b[22m\u001b[39m to `~/Desktop/julia_work/CHEME-130-eCornell-Repository/courses/CHEME-134/module-3/Manifest.toml`\n",
      "\u001b[32m\u001b[1m  Activating\u001b[22m\u001b[39m project at `~/Desktop/julia_work/CHEME-130-eCornell-Repository/courses/CHEME-134/module-3`\n",
      "\u001b[32m\u001b[1m  No Changes\u001b[22m\u001b[39m to `~/Desktop/julia_work/CHEME-130-eCornell-Repository/courses/CHEME-134/module-3/Project.toml`\n",
      "\u001b[32m\u001b[1m  No Changes\u001b[22m\u001b[39m to `~/Desktop/julia_work/CHEME-130-eCornell-Repository/courses/CHEME-134/module-3/Manifest.toml`\n",
      "\u001b[32m\u001b[1m    Updating\u001b[22m\u001b[39m registry at `~/.julia/registries/General.toml`\n",
      "\u001b[32m\u001b[1m    Updating\u001b[22m\u001b[39m git-repo `https://github.com/varnerlab/VLQuantitativeFinancePackage.jl.git`\n",
      "\u001b[32m\u001b[1m  No Changes\u001b[22m\u001b[39m to `~/Desktop/julia_work/CHEME-130-eCornell-Repository/courses/CHEME-134/module-3/Project.toml`\n",
      "\u001b[32m\u001b[1m  No Changes\u001b[22m\u001b[39m to `~/Desktop/julia_work/CHEME-130-eCornell-Repository/courses/CHEME-134/module-3/Manifest.toml`\n"
     ]
    }
   ],
   "source": [
    "include(\"Include.jl\")"
   ]
  },
  {
   "cell_type": "markdown",
   "id": "be66405f-98bd-4b3d-8fb7-b564c943135e",
   "metadata": {},
   "source": [
    "## Prerequisites\n",
    "Let's build models for options on [NVIDIA Corporation](https://finance.yahoo.com/quote/NVDA/) as the underlying asset with ticker `NVDA,` in particular, out-of-the-money (OTM) short call and put options.  First, we set some constants and parameter values that will be used in the notebook, and then we'll build contract models."
   ]
  },
  {
   "cell_type": "markdown",
   "id": "6841cd5a-57a0-4dda-b9cf-ede1fdf00395",
   "metadata": {},
   "source": [
    "### Parameters and constants\n",
    "Let's set a value for the step size `Δt,` i.e., `1 day` in units of years (assuming a `365-day` year), the risk-free rate at the time we gathered the data for the option contracts; we approximate this value using the [yield on the 10-year Treasury Note](https://ycharts.com/indicators/10_year_treasury_rate). We also set a value for the underlying share price `Sₒ` and the number of levels in the binomial tree model, `h`; we assume 6-levels per day."
   ]
  },
  {
   "cell_type": "code",
   "execution_count": 6,
   "id": "e90db124-feb0-48e9-ba26-23cd497c43be",
   "metadata": {},
   "outputs": [],
   "source": [
    "Δt = (1/365);\n",
    "risk_free_rate = 0.0431; # yield 10-year treasury note on 13-Jun-2024\n",
    "Sₒ = 131.88; # after close on 14-Jun-2024 (close: 131.88)\n",
    "h = 366; # 6-points per trading day"
   ]
  },
  {
   "cell_type": "markdown",
   "id": "c568b555-4e26-40fa-974f-f2177d7a33a2",
   "metadata": {},
   "source": [
    "### Contract models\n",
    "Next, we construct contract models for the options in this example. We begin by building an instance of the [MyAmericanCallContractModel type](https://varnerlab.github.io/VLQuantitativeFinancePackage.jl/dev/derivatives/#VLQuantitativeFinancePackage.MyAmericanCallContractModel) using the [custom build(...) method](https://varnerlab.github.io/VLQuantitativeFinancePackage.jl/dev/derivatives/#VLQuantitativeFinancePackage.build-Tuple{Type{MyAmericanCallContractModel},%20NamedTuple}). The [build(...) method](https://varnerlab.github.io/VLQuantitativeFinancePackage.jl/dev/derivatives/#VLQuantitativeFinancePackage.build-Tuple{Type{MyAmericanCallContractModel},%20NamedTuple}) takes two arguments: the type to build, and a [NamedTuple](https://docs.julialang.org/en/v1/base/base/#Core.NamedTuple) containing the strike price `K`, the `premium` paid for the option, the days to expiration `DTE` (units: years), the `sense = 1` (long), the number of contracts in the `copy` field and the implied volatility in the `IV` field.\n",
    "\n",
    "We save the call option contract model in the `call_option_model` variable:"
   ]
  },
  {
   "cell_type": "code",
   "execution_count": 8,
   "id": "26de778b-bf72-4288-be3a-fe8032c383cf",
   "metadata": {},
   "outputs": [],
   "source": [
    "call_option_model = build(MyAmericanCallContractModel, (\n",
    "    K = 136.0, \n",
    "    premium = 9.23, # mark price\n",
    "    DTE = (61.0)*Δt,\n",
    "    sense = 1,\n",
    "    copy = 1,\n",
    "    IV = 0.4848\n",
    "));"
   ]
  },
  {
   "cell_type": "markdown",
   "id": "b922ec50-2a0a-468f-b432-e04099b6efd7",
   "metadata": {},
   "source": [
    "The put contract, which is an instance of the [MyAmericanPutContractModel type](https://varnerlab.github.io/VLQuantitativeFinancePackage.jl/dev/derivatives/#VLQuantitativeFinancePackage.MyAmericanPutContractModel), is constructed in a similar way to the call option. We save the put option contract model in the `put_option_model` variable:"
   ]
  },
  {
   "cell_type": "code",
   "execution_count": 10,
   "id": "a13b1d75-7f0b-4b9b-8f1e-6cb47767d2ef",
   "metadata": {},
   "outputs": [],
   "source": [
    "put_option_model = build(MyAmericanPutContractModel, (\n",
    "    K = 128.0, \n",
    "    premium = 7.78, # mark price\n",
    "    DTE = (61.0)*Δt,\n",
    "    sense = 1,\n",
    "    copy = 1,\n",
    "    IV = 0.4787\n",
    "));"
   ]
  },
  {
   "cell_type": "markdown",
   "id": "7a62473b-5bb7-49e3-8467-ac1662090e82",
   "metadata": {},
   "source": [
    "__Note__: In both cases, we construct long contract models, i.e., we look at option dynamics from the perspective of a contract buyer. To convert to a short perspective, i.e., from the perspective of the contract seller, we multiply the Greek values by `-1`; see below."
   ]
  },
  {
   "cell_type": "markdown",
   "id": "034b010a-1978-4c44-90b2-8e009dbdde41",
   "metadata": {},
   "source": [
    "## Task 1: Compute the Greeks for a Long Call Option\n",
    "Let's begin our examination of the Greeks by calculating the Greek values for a long call option. From the buyer's viewpoint, a long call option is a substitute for owning shares. The buyer speculates that the underlying share price will go up during the contract and hopes to profit from the increase in the option contract's price. \n",
    "* However, the option contract price is a function of many different market factors, not just the share price of the underlying asset. The Greeks provide a quantitative means of computing the contract price's sensitivity to changes in market conditions.\n",
    "\n",
    "Let's start our exploration of the Greeks by computing `delta` for the long call."
   ]
  },
  {
   "cell_type": "markdown",
   "id": "c0fb748c-3b2f-4cb1-8de9-1ed187a0a3b0",
   "metadata": {},
   "source": [
    "### Delta long call\n",
    "The `delta` for an American option contract quantifies the rate of change in the option's premium $\\mathcal{P}$ with respect to a `+1 USD/share` change in the underlying asset's price and is defined as:\n",
    "$$\n",
    "\\Delta(\\star) \\equiv \\frac{\\partial\\mathcal{P}}{\\partial{S}}\\,\\Biggr|_{\\star}\n",
    "$$\n",
    "where $\\Delta(\\star)$ is evaluated at the current state of the market $\\star$, e.g., the current value of the underlying share price, the implied volatility of the contract, the number of days left until contract expiration, the current risk-free rate, etc. The quantity of $\\Delta$ is bounded in the range $-1\\leq\\Delta\\leq{1}$ and changes with various market conditions, i.e., $\\Delta$ is _not_ constant.\n",
    "\n",
    "* We estimate $\\Delta$ using the [delta(...) function](https://varnerlab.github.io/VLQuantitativeFinancePackage.jl/dev/derivatives/#VLQuantitativeFinancePackage.delta). The [delta(...) function](https://varnerlab.github.io/VLQuantitativeFinancePackage.jl/dev/derivatives/#VLQuantitativeFinancePackage.delta) takes several arguments: the `call_option_model` instance, and several parameters used to compute the risk-neutral binomial share price tree, e.g., the number of tree levels `h,` the current share price  `Sₒ,` the number of days to expiration `T,` etc. and returns a value for `delta.` We store the estimated value for delta in the `delta_long_call` variable"
   ]
  },
  {
   "cell_type": "code",
   "execution_count": 14,
   "id": "781194c3-cae4-45d1-a3c7-31523b5805ca",
   "metadata": {},
   "outputs": [
    {
     "data": {
      "text/plain": [
       "0.4920000000000009"
      ]
     },
     "execution_count": 14,
     "metadata": {},
     "output_type": "execute_result"
    }
   ],
   "source": [
    "delta_long_call = delta(call_option_model, h = h,  T = call_option_model.DTE, \n",
    "    σ = call_option_model.IV, Sₒ = Sₒ, μ = risk_free_rate)"
   ]
  },
  {
   "cell_type": "markdown",
   "id": "4a7c273d-1458-4145-af76-669a0df181d8",
   "metadata": {},
   "source": [
    "__Summary__: For a long call, $\\Delta(\\star)\\geq{0}$ implies that the option premium $\\mathcal{P}$ increases with increasing share price. This underscores the use case of long-call contracts as share replacements for underlying shares. \n",
    "* Further, $\\Delta(\\star)$ can be used to compute the equivalent number of shares that the option represents, denoted as $n_{c}$ shares per contract:\n",
    "$$\n",
    "n_{c} = 100\\cdot\\Delta_{c}(\\star)\n",
    "$$\n",
    "where $\\Delta_{c}(\\star)$ denotes the $\\Delta(\\star)$ value for a long-call contract. Thus, this long call contract is equivalent to:"
   ]
  },
  {
   "cell_type": "code",
   "execution_count": 16,
   "id": "67151026-cc78-4b4d-bc3a-cc79f3828499",
   "metadata": {},
   "outputs": [
    {
     "name": "stdout",
     "output_type": "stream",
     "text": [
      "Number of share equivalents: 49.20000000000009 shares per contract\n"
     ]
    }
   ],
   "source": [
    "println(\"Number of share equivalents: $(delta_long_call*100) shares per contract\")"
   ]
  },
  {
   "cell_type": "markdown",
   "id": "5dfeab74-d710-4735-9708-1a683630a2aa",
   "metadata": {},
   "source": [
    "#### Check: How good is our delta estimate?\n",
    "The delta value for the `long-call` is `delta = 0.4979.` Let's use the [Julia @assert macro](https://docs.julialang.org/en/v1/base/base/#Base.@assert) in combination with the [Julia isapprox(...) function](https://docs.julialang.org/en/v1/base/math/#Base.isapprox) to compare the computed and observed values. \n",
    "* The [isapprox(...) function](https://docs.julialang.org/en/v1/base/math/#Base.isapprox) compares two values and returns `true` if the two values are equal to some absolute or relative tolerance, in this case, specified by the absolute tolerance `atol` variable. If `false` (values are not equal), an [AssertionError](https://docs.julialang.org/en/v1/base/base/#Core.AssertionError) is generated:"
   ]
  },
  {
   "cell_type": "code",
   "execution_count": 18,
   "id": "42f86536-12e6-460a-8caf-80d0edd2f58c",
   "metadata": {},
   "outputs": [],
   "source": [
    "observed_value_delta_long_call = 0.4979; # NVDA 61-DTE K = 136 long call after close 14-Jun-2024 \n",
    "@assert isapprox(observed_value_delta_long_call, delta_long_call, atol=1e-2) # good to second decimal place, and sign is correct!"
   ]
  },
  {
   "cell_type": "markdown",
   "id": "57f77130-acae-4780-a7e9-f54623aa6fc1",
   "metadata": {
    "jp-MarkdownHeadingCollapsed": true
   },
   "source": [
    "### Theta long call\n",
    "`Theta` measures the rate of change in the options premium $\\mathcal{P}$ for a `1-day` decrease in the time to maturity `T` of the contract. The `theta` metric  is defined as:\n",
    "$$\n",
    "\\begin{equation}\n",
    "\\Theta(\\star) \\equiv \\frac{\\partial\\mathcal{P}}{\\partial{T}}\\,\\Biggr|_{\\star}\n",
    "\\end{equation}\n",
    "$$\n",
    "where $\\Theta(\\star)$ is evaluated at the current state of the market $\\star$, e.g., the current value of the underlying share price, the implied volatility of the contract, the number of days left until contract expiration, the current risk-free rate, etc. \n",
    "* We estimate $\\Theta$ using the [theta(...) function](https://varnerlab.github.io/VLQuantitativeFinancePackage.jl/dev/derivatives/#VLQuantitativeFinancePackage.theta). The [theta(...) function](https://varnerlab.github.io/VLQuantitativeFinancePackage.jl/dev/derivatives/#VLQuantitativeFinancePackage.theta) takes several arguments: the `call_option_model` instance, and several parameters used to compute the risk-neutral binomial share price tree, e.g., the number of tree levels `h,` the current share price  `Sₒ,` the number of days to expiration `T,` etc. and returns a value for `theta.` We store the estimated value for theta in the `theta_long_call` variable"
   ]
  },
  {
   "cell_type": "code",
   "execution_count": 20,
   "id": "3150c1ec-10e9-491b-a4f8-6d83e6615146",
   "metadata": {},
   "outputs": [
    {
     "data": {
      "text/plain": [
       "-0.09199999999999875"
      ]
     },
     "execution_count": 20,
     "metadata": {},
     "output_type": "execute_result"
    }
   ],
   "source": [
    "theta_long_call = theta(call_option_model, h = h,  T = call_option_model.DTE, \n",
    "    σ = call_option_model.IV, Sₒ = Sₒ, μ = risk_free_rate)"
   ]
  },
  {
   "cell_type": "markdown",
   "id": "1af80fc1-d5ae-45af-8cf8-c6a14a5fe280",
   "metadata": {},
   "source": [
    "__Summary__: For a long-call, $\\Theta(\\star)<0$ implies that the option premium $\\mathcal{P}$ decreases as we approach the expiration of the contract. Thus, all else being constant, a long call will _lose value_ with time. This loss is referred to as the time-decay of the long call contract. For the `NVDA` call contract, we have a time-decay value of (units: USD per day per contract):"
   ]
  },
  {
   "cell_type": "code",
   "execution_count": 22,
   "id": "59d0062b-17db-4183-a987-8e313d5b7fbd",
   "metadata": {},
   "outputs": [
    {
     "name": "stdout",
     "output_type": "stream",
     "text": [
      "The long-call changes in value: -9.199999999999875 USD per day per contract\n"
     ]
    }
   ],
   "source": [
    "println(\"The long-call changes in value: $(theta_long_call*100) USD per day per contract\")"
   ]
  },
  {
   "cell_type": "markdown",
   "id": "e514f334-478a-431b-8fda-33ffb280b9b9",
   "metadata": {},
   "source": [
    "#### Check: How good is our theta estimate?\n",
    "This option's observed `theta` value is `theta = -0.0937` (long call). Let's use the [Julia @assert macro](https://docs.julialang.org/en/v1/base/base/#Base.@assert) in combination with the [Julia isapprox(...) function](https://docs.julialang.org/en/v1/base/math/#Base.isapprox) to compare the computed and observed values. \n",
    "* The [isapprox(...) function](https://docs.julialang.org/en/v1/base/math/#Base.isapprox) compares two values and returns `true` if the two values are equal to some absolute or relative tolerance, in this case, specified by the absolute tolerance `atol` variable. If `false` (values are not equal), an [AssertionError](https://docs.julialang.org/en/v1/base/base/#Core.AssertionError) is generated:"
   ]
  },
  {
   "cell_type": "code",
   "execution_count": 24,
   "id": "74481baf-5216-45a7-a488-cafa01bbff9b",
   "metadata": {},
   "outputs": [],
   "source": [
    "observed_value_theta_long_call = -0.0937; # NVDA 61-DTE K = 136 long call after close 14-Jun-2024 \n",
    "@assert isapprox(observed_value_theta_long_call, theta_long_call, atol=1e-2) # good to second decimal place, and sign is correct!"
   ]
  },
  {
   "cell_type": "markdown",
   "id": "aa2ed6e4-fba6-4adf-a9b0-8ea9c0bca585",
   "metadata": {
    "jp-MarkdownHeadingCollapsed": true
   },
   "source": [
    "### Vega long call\n",
    "`Vega` measures the rate of change in the option's premium $\\mathcal{P}$ with respect to a `+1%` change in the underlying asset's implied volatility `IV.` The `vega` metric is defined as:\n",
    "$$\n",
    "V(\\star) \\equiv \\frac{\\partial\\mathcal{P}}{\\partial{\\sigma}}\\Biggr|_{\\star}\n",
    "$$\n",
    "where $\\sigma$ denotes the implied volatility `IV.`  The `vega` is evaluated at the current state of the market $\\star$, e.g., the current value of the underlying share price, the implied volatility of the contract, the number of days left until contract expiration, the current risk-free rate, etc. \n",
    "* We estimate `vega` using the [vega(...) function](https://varnerlab.github.io/VLQuantitativeFinancePackage.jl/dev/derivatives/#VLQuantitativeFinancePackage.vega). The [vega(...) function](https://varnerlab.github.io/VLQuantitativeFinancePackage.jl/dev/derivatives/#VLQuantitativeFinancePackage.vega) takes several arguments: the `call_option_model` instance, and several parameters used to compute the risk-neutral binomial share price tree, e.g., the number of tree levels `h,` the current share price  `Sₒ,` the number of days to expiration `T,` etc. and returns a value for `vega.` We store the estimated value for vega in the `vega_long_call` variable"
   ]
  },
  {
   "cell_type": "code",
   "execution_count": 26,
   "id": "cc97c035-accc-4a0a-99e7-ca885cca265f",
   "metadata": {},
   "outputs": [
    {
     "data": {
      "text/plain": [
       "0.21600000000000108"
      ]
     },
     "execution_count": 26,
     "metadata": {},
     "output_type": "execute_result"
    }
   ],
   "source": [
    "vega_long_call = vega(call_option_model, h = h,  T = call_option_model.DTE, \n",
    "    σ = call_option_model.IV, Sₒ = Sₒ, μ = risk_free_rate)"
   ]
  },
  {
   "cell_type": "markdown",
   "id": "c2b5dc70-02a2-4ded-8421-86d1ccb3706e",
   "metadata": {},
   "source": [
    "__Summary__: For the long call contract, $V(\\star)>0$. Thus, the option premium for this long call will increase with increasing implied volatility. In other words, as the uncertainty in the future share price increases (measured by the implied volatility), an option contract becomes more expensive. This makes sense as the option seller demands additional compensation for the additional risk. "
   ]
  },
  {
   "cell_type": "markdown",
   "id": "eed5d152-da71-46f4-84da-85bbb7c49b42",
   "metadata": {},
   "source": [
    "#### Check: How good is our vega estimate?\n",
    "This `vega` value for the `long-call` is `vega = 0.2159.` Let's use the [Julia @assert macro](https://docs.julialang.org/en/v1/base/base/#Base.@assert) in combination with the [Julia isapprox(...) function](https://docs.julialang.org/en/v1/base/math/#Base.isapprox) to compare the computed and observed values. \n",
    "* The [isapprox(...) function](https://docs.julialang.org/en/v1/base/math/#Base.isapprox) compares two values and returns `true` if the two values are equal to some absolute or relative tolerance, in this case, specified by the absolute tolerance `atol` variable. If `false` (values are not equal), an [AssertionError](https://docs.julialang.org/en/v1/base/base/#Core.AssertionError) is generated:"
   ]
  },
  {
   "cell_type": "code",
   "execution_count": 29,
   "id": "32d66ca6-5232-4acb-a25a-71024139f466",
   "metadata": {},
   "outputs": [],
   "source": [
    "observed_value_vega_long_call = 0.2159; # NVDA 61-DTE K = 136 long call after close 14-Jun-2024 \n",
    "@assert isapprox(observed_value_vega_long_call, vega_long_call, atol=1e-2) # good to the second decimal place, and sign is correct!"
   ]
  },
  {
   "cell_type": "markdown",
   "id": "9ee6c224-a26d-4907-a7f8-3ac658bd783b",
   "metadata": {
    "jp-MarkdownHeadingCollapsed": true
   },
   "source": [
    "### Rho long call\n",
    "`Rho` measures the rate of change in the options premium $\\mathcal{P}$ for a `+1%` change in the risk-free rate $r_{f}$. The `rho` metric is defined as:\n",
    "$$\n",
    "\\begin{equation}\n",
    "\\rho(\\star)\\equiv\\frac{\\partial\\mathcal{P}}{\\partial{r_{f}}}\\Biggr|_{\\star}\n",
    "\\end{equation}\n",
    "$$\n",
    "where $\\rho(\\star)$ is evaluated at the current state of the market $\\star$, e.g., the current value of the underlying share price, the implied volatility of the contract, the number of days left until contract expiration, the current risk-free rate, etc. \n",
    "* We estimate $\\rho$ using the [rho(...) function](https://varnerlab.github.io/VLQuantitativeFinancePackage.jl/dev/derivatives/#VLQuantitativeFinancePackage.rho). The [rho(...) function](https://varnerlab.github.io/VLQuantitativeFinancePackage.jl/dev/derivatives/#VLQuantitativeFinancePackage.rho) takes several arguments: the `call_option_model` instance, and several parameters used to compute the risk-neutral binomial share price tree, e.g., the number of tree levels `h,` the current share price  `Sₒ,` the number of days to expiration `T,` etc. and returns a value for `rho.` We store the estimated value for rho in the `rho_long_call` variable"
   ]
  },
  {
   "cell_type": "code",
   "execution_count": 31,
   "id": "263bb74a-ef12-4ae6-9ce4-6c5d689b306d",
   "metadata": {},
   "outputs": [
    {
     "data": {
      "text/plain": [
       "0.0940000000000012"
      ]
     },
     "execution_count": 31,
     "metadata": {},
     "output_type": "execute_result"
    }
   ],
   "source": [
    "rho_long_call = rho(call_option_model, h = h,  T = call_option_model.DTE, \n",
    "    σ = call_option_model.IV, Sₒ = Sₒ, μ = risk_free_rate)"
   ]
  },
  {
   "cell_type": "markdown",
   "id": "9f5f9b9b-79b1-4270-9f9b-999c68af02ba",
   "metadata": {},
   "source": [
    "__Summary__: `rho` quantifies how much an option's price will theoretically change due to interest rate fluctuations, which is an important consideration, especially for longer-term options positions. In normal circumstances, the risk-free rate doesn't typically change. However, when interest rates increase during inflationary periods, `rho` can influence option premiums. For this option, changes in $r_{f}$ results in:"
   ]
  },
  {
   "cell_type": "code",
   "execution_count": 33,
   "id": "8297dcfe-2fa4-4871-8fea-9d6ebdc5c545",
   "metadata": {},
   "outputs": [
    {
     "name": "stdout",
     "output_type": "stream",
     "text": [
      "Change in contract value by a 1% increase in risk-free rate: 9.40000000000012 USD per contract\n"
     ]
    }
   ],
   "source": [
    "println(\"Change in contract value by a 1% increase in risk-free rate: $(rho_long_call*100) USD per contract\")"
   ]
  },
  {
   "cell_type": "markdown",
   "id": "b1192b4b-d766-4d41-a178-e5035a44e5ee",
   "metadata": {},
   "source": [
    "#### Check: How good is our rho estimate?\n",
    "The `rho` value for the `long-call` is `rho = 0.0950.` Let's use the [Julia @assert macro](https://docs.julialang.org/en/v1/base/base/#Base.@assert) in combination with the [Julia isapprox(...) function](https://docs.julialang.org/en/v1/base/math/#Base.isapprox) to compare the computed and observed values. \n",
    "* The [isapprox(...) function](https://docs.julialang.org/en/v1/base/math/#Base.isapprox) compares two values and returns `true` if the two values are equal to some absolute or relative tolerance, in this case, specified by the absolute tolerance `atol` variable. If `false` (values are not equal), an [AssertionError](https://docs.julialang.org/en/v1/base/base/#Core.AssertionError) is generated:"
   ]
  },
  {
   "cell_type": "code",
   "execution_count": 35,
   "id": "09c34590-c9c0-4285-a1b4-52895429ca38",
   "metadata": {},
   "outputs": [],
   "source": [
    "observed_value_rho_long_call = 0.0950; # NVDA 61-DTE K = 136 long call after close 14-Jun-2024 \n",
    "@assert isapprox(observed_value_rho_long_call, rho_long_call, atol=1e-2) # good to the second decimal place, and sign is correct!"
   ]
  },
  {
   "cell_type": "markdown",
   "id": "adadce7d-fd9d-4276-9310-bb5b880b339a",
   "metadata": {},
   "source": [
    "### Gamma long call\n",
    "Finally, $\\Gamma$ is the last of the common Greeks. The $\\Gamma$ metric measures the rate of change in the `delta` for a `+1 USD/share` change in the underlying price and is defined as:\n",
    "$$\n",
    "\\begin{equation}\n",
    "\\Gamma(\\star) \\equiv \\frac{\\partial^2\\mathcal{P}}{\\partial{S}^2}\\Biggr|_{\\star}\n",
    "\\end{equation}\n",
    "$$\n",
    "where $\\Gamma(\\star)$ is evaluated at the current state of the market $\\star$, e.g., the current value of the underlying share price, the implied volatility of the contract, the number of days left until contract expiration, the current risk-free rate, etc. \n",
    "* We estimate $\\Gamma$ using the [gamma(...) function](https://varnerlab.github.io/VLQuantitativeFinancePackage.jl/dev/derivatives/#VLQuantitativeFinancePackage.gamma). The [gamma(...) function](https://varnerlab.github.io/VLQuantitativeFinancePackage.jl/dev/derivatives/#VLQuantitativeFinancePackage.gamma) takes several arguments: the `call_option_model` instance, and several parameters used to compute the risk-neutral binomial share price tree, e.g., the number of tree levels `h,` the current share price  `Sₒ,` the number of days to expiration `T,` etc. and returns a value for `Gamma.` We store the estimated value for gamma in the `gamma_long_call` variable"
   ]
  },
  {
   "cell_type": "code",
   "execution_count": 37,
   "id": "7fcf5dfa-8cfd-445e-b7b6-e7e9f7c0fa03",
   "metadata": {},
   "outputs": [
    {
     "data": {
      "text/plain": [
       "0.022999999999999687"
      ]
     },
     "execution_count": 37,
     "metadata": {},
     "output_type": "execute_result"
    }
   ],
   "source": [
    "gamma_long_call = gamma(call_option_model, h = h,  T = call_option_model.DTE, \n",
    "    σ = call_option_model.IV, Sₒ = Sₒ, μ = risk_free_rate)"
   ]
  },
  {
   "cell_type": "markdown",
   "id": "6b5b8d3e-7541-4bf0-9257-3121983a6e1a",
   "metadata": {},
   "source": [
    "__Summary__: The long call option has a $\\Gamma(\\star)>0$, the premium's sensitivity to share price movements increases. This means that the premium becomes more responsive to changes in share price. The gamma value indicates how sensitive an option's delta is to changes in the underlying price, with higher gamma values indicating greater delta sensitivity."
   ]
  },
  {
   "cell_type": "markdown",
   "id": "119fb507-4556-4d9a-855e-c190b0c45f42",
   "metadata": {},
   "source": [
    "#### Check: How good is our gamma estimate?\n",
    "The `gamma` value for the `long-call` is `gamma = 0.0152.` Let's use the [Julia @assert macro](https://docs.julialang.org/en/v1/base/base/#Base.@assert) in combination with the [Julia isapprox(...) function](https://docs.julialang.org/en/v1/base/math/#Base.isapprox) to compare the computed and observed values. \n",
    "* The [isapprox(...) function](https://docs.julialang.org/en/v1/base/math/#Base.isapprox) compares two values and returns `true` if the two values are equal to some absolute or relative tolerance, in this case, specified by the absolute tolerance `atol` variable. If `false` (values are not equal), an [AssertionError](https://docs.julialang.org/en/v1/base/base/#Core.AssertionError) is generated:"
   ]
  },
  {
   "cell_type": "code",
   "execution_count": 40,
   "id": "653f72c9-40a1-409d-af41-8b9814bcdce7",
   "metadata": {},
   "outputs": [],
   "source": [
    "observed_value_gamma_long_call = 0.0152; # NVDA 61-DTE K = 136 long call after close 14-Jun-2024 \n",
    "@assert isapprox(observed_value_gamma_long_call, gamma_long_call, atol=1e-2) # good to the second decimal place, and sign is correct!"
   ]
  },
  {
   "cell_type": "markdown",
   "id": "c2c72ebe-2092-4420-a18b-865c3682362d",
   "metadata": {
    "jp-MarkdownHeadingCollapsed": true
   },
   "source": [
    "## Task 2: Compute the Greeks for a Long Put Option\n",
    "Now, let's look at the Greek values for a long-put option. In each case, we'll compare the computed value with values observed in the market and contrast the results of the long put contract with those of the long call. Let's begin with `delta.`"
   ]
  },
  {
   "cell_type": "markdown",
   "id": "6df24abd-5898-4c8a-a46d-7710143222b1",
   "metadata": {},
   "source": [
    "### Delta long put\n",
    "Like the call option, we estimate $\\Delta$ using the [delta(...) function](https://varnerlab.github.io/VLQuantitativeFinancePackage.jl/dev/derivatives/#VLQuantitativeFinancePackage.delta), but in this case using the `put_option_model` instance, all other parameters held the same:"
   ]
  },
  {
   "cell_type": "code",
   "execution_count": 43,
   "id": "f7fe117d-e8ed-4369-9d0d-237ab54ebf32",
   "metadata": {},
   "outputs": [
    {
     "data": {
      "text/plain": [
       "-0.3879999999999999"
      ]
     },
     "execution_count": 43,
     "metadata": {},
     "output_type": "execute_result"
    }
   ],
   "source": [
    "delta_long_put = delta(put_option_model, h = h,  T = put_option_model.DTE, \n",
    "    σ = put_option_model.IV, Sₒ = Sₒ, μ = risk_free_rate)"
   ]
  },
  {
   "cell_type": "markdown",
   "id": "ea56f4a8-9a52-4b6b-bd93-061ae26704dd",
   "metadata": {},
   "source": [
    "__Summary__: The $\\Delta(\\star)<0$ for the long-put (opposite sign of the call). Thus, as the underlying share price increases, the value of the put option _decreases_. This is consistent with the notion that long puts make a `bearish` directional assumption, i.e., a buyer will purchase a put option if they believe the underlying asset's share price will decrease. \n",
    "* _What about the number of share equivalents?_ The number of share equivalents for a long put, denoted as $n_{p}$, will be _negative_. Huh, what? This means that we are _short_ the shares but _long_ the put (confused yet?). By being _short the shares_, we benefit from the decrease in the underlying price. For this long put, we have a $n_{p}$ defined as:\n",
    "$$\n",
    "n_{p} = 100\\cdot\\Delta_{p}(\\star)\n",
    "$$\n",
    "where $\\Delta_{p}(\\star)$ denotes the $\\Delta(\\star)$ value for a long-put contract. Thus, this long put contract is equivalent to:"
   ]
  },
  {
   "cell_type": "code",
   "execution_count": 45,
   "id": "c2f5484e-d933-4cfd-8f2d-7e2f7450a433",
   "metadata": {},
   "outputs": [
    {
     "name": "stdout",
     "output_type": "stream",
     "text": [
      "Number of share equivalents for our long-put: -38.79999999999999 shares per contract\n"
     ]
    }
   ],
   "source": [
    "println(\"Number of share equivalents for our long-put: $(delta_long_put*100) shares per contract\")"
   ]
  },
  {
   "cell_type": "markdown",
   "id": "362ad578-31ad-4bf4-90f3-1a593d61e5dc",
   "metadata": {},
   "source": [
    "#### Check: How good is our delta estimate?\n",
    "The observed `delta` value for the `long put` is `delta = -0.3847` (long put). Let's use the [Julia @assert macro](https://docs.julialang.org/en/v1/base/base/#Base.@assert) in combination with the [Julia isapprox(...) function](https://docs.julialang.org/en/v1/base/math/#Base.isapprox) to compare the computed and observed values. \n",
    "* The [isapprox(...) function](https://docs.julialang.org/en/v1/base/math/#Base.isapprox) compares two values and returns `true` if the two values are equal to some absolute or relative tolerance, in this case, specified by the absolute tolerance `atol` variable. If `false` (values are not equal), an [AssertionError](https://docs.julialang.org/en/v1/base/base/#Core.AssertionError) is generated:"
   ]
  },
  {
   "cell_type": "code",
   "execution_count": 47,
   "id": "56d95e3c-0948-48eb-8b1d-f85c7b1d6007",
   "metadata": {},
   "outputs": [],
   "source": [
    "observed_value_delta_long_put = -0.3847; # NVDA 61-DTE K = 128 long put after close 14-Jun-2024 \n",
    "@assert isapprox(observed_value_delta_long_put, delta_long_put, atol=1e-2) # good to second decimal place, and sign is correct!"
   ]
  },
  {
   "cell_type": "markdown",
   "id": "4520f323-ae17-4a4d-a090-3032be11f731",
   "metadata": {},
   "source": [
    "### Theta\n",
    "Like the call option, we estimate $\\Theta$ using the [theta(...) function](https://varnerlab.github.io/VLQuantitativeFinancePackage.jl/dev/derivatives/#VLQuantitativeFinancePackage.theta), but in this case using the `put_option_model` instance, all other parameters held the same:"
   ]
  },
  {
   "cell_type": "code",
   "execution_count": 49,
   "id": "8862789f-439f-4343-82a5-0f163ef45061",
   "metadata": {},
   "outputs": [
    {
     "data": {
      "text/plain": [
       "-0.07499999999999929"
      ]
     },
     "execution_count": 49,
     "metadata": {},
     "output_type": "execute_result"
    }
   ],
   "source": [
    "theta_long_put = theta(put_option_model, h = h,  T = put_option_model.DTE, \n",
    "    σ = put_option_model.IV, Sₒ = Sₒ, μ = risk_free_rate)"
   ]
  },
  {
   "cell_type": "markdown",
   "id": "30db563d-af61-4c6f-964b-10dafbb1d3ba",
   "metadata": {},
   "source": [
    "__Summary__: The $\\Theta(\\star)<0$ for the long-put (same sign as the call option). Thus, the long-call and the long-put behave similarly in that the price of the option contract _decreases_ as the contract approaches expiration, where all else is held constant. For the `NVDA` put contract, we have a time-decay value of (units: USD per day per contract):"
   ]
  },
  {
   "cell_type": "code",
   "execution_count": 51,
   "id": "1cc2c9c3-ee6e-4610-8614-cc985e018a76",
   "metadata": {},
   "outputs": [
    {
     "name": "stdout",
     "output_type": "stream",
     "text": [
      "The long-put changes in value: -7.499999999999929 USD per day per contract\n"
     ]
    }
   ],
   "source": [
    "println(\"The long-put changes in value: $(theta_long_put*100) USD per day per contract\")"
   ]
  },
  {
   "cell_type": "markdown",
   "id": "479e2480-1cad-4534-a21c-8de4002d9eea",
   "metadata": {},
   "source": [
    "#### Check: How good is our theta estimate?\n",
    "The observed `theta` value for the `long put` is `theta = -0.0726` (long put). Let's use the [Julia @assert macro](https://docs.julialang.org/en/v1/base/base/#Base.@assert) in combination with the [Julia isapprox(...) function](https://docs.julialang.org/en/v1/base/math/#Base.isapprox) to compare the computed and observed values. \n",
    "* The [isapprox(...) function](https://docs.julialang.org/en/v1/base/math/#Base.isapprox) compares two values and returns `true` if the two values are equal to some absolute or relative tolerance, in this case, specified by the absolute tolerance `atol` variable. If `false` (values are not equal), an [AssertionError](https://docs.julialang.org/en/v1/base/base/#Core.AssertionError) is generated:"
   ]
  },
  {
   "cell_type": "code",
   "execution_count": 53,
   "id": "903ab3eb-a639-43b5-8e52-8d26b35a0f90",
   "metadata": {},
   "outputs": [],
   "source": [
    "observed_value_theta_long_put = -0.0726; # NVDA 61-DTE K = 128 long put after close 14-Jun-2024 \n",
    "@assert isapprox(observed_value_theta_long_put, theta_long_put, atol=1e-2) # good to the second decimal place, and sign is correct!"
   ]
  },
  {
   "cell_type": "markdown",
   "id": "f29c6b28-a286-433e-bf22-dd08bb81e81f",
   "metadata": {},
   "source": [
    "### Vega\n",
    "Like the call option, we estimate `Vega` using the [vega(...) function](https://varnerlab.github.io/VLQuantitativeFinancePackage.jl/dev/derivatives/#VLQuantitativeFinancePackage.vega), but in this case using the `put_option_model` instance, all other parameters held the same:"
   ]
  },
  {
   "cell_type": "code",
   "execution_count": 55,
   "id": "6ec46313-f919-4e55-97a9-dac45fb09c35",
   "metadata": {},
   "outputs": [
    {
     "data": {
      "text/plain": [
       "0.20700000000000074"
      ]
     },
     "execution_count": 55,
     "metadata": {},
     "output_type": "execute_result"
    }
   ],
   "source": [
    "vega_long_put = vega(put_option_model, h = h,  T = put_option_model.DTE, \n",
    "    σ = put_option_model.IV, Sₒ = Sₒ, μ = risk_free_rate)"
   ]
  },
  {
   "cell_type": "markdown",
   "id": "e477dd52-eb7e-421a-b8c0-4e30a1744253",
   "metadata": {},
   "source": [
    "__Summary__: For the long put contract, $V(\\star)>0$. Thus, the option premium for the long put (like the long call) will increase with implied volatility; as the uncertainty in the future share price increases (measured by the implied volatility), an option contract becomes more expensive (both call and puts). This makes sense as the option seller will demand additional compensation for the additional risk. "
   ]
  },
  {
   "cell_type": "markdown",
   "id": "99a01877-34a6-4742-99c6-c7f2a1b9ed34",
   "metadata": {},
   "source": [
    "#### Check: How good is our vega estimate?\n",
    "The observed `vega` value for the `long put` is `vega = 0.2068.` Let's use the [Julia @assert macro](https://docs.julialang.org/en/v1/base/base/#Base.@assert) in combination with the [Julia isapprox(...) function](https://docs.julialang.org/en/v1/base/math/#Base.isapprox) to compare the computed and observed values. \n",
    "* The [isapprox(...) function](https://docs.julialang.org/en/v1/base/math/#Base.isapprox) compares two values and returns `true` if the two values are equal to some absolute or relative tolerance, in this case, specified by the absolute tolerance `atol` variable. If `false` (values are not equal), an [AssertionError](https://docs.julialang.org/en/v1/base/base/#Core.AssertionError) is generated:"
   ]
  },
  {
   "cell_type": "code",
   "execution_count": 58,
   "id": "8a39a4e0-0c22-4af8-9c4c-c30705278253",
   "metadata": {},
   "outputs": [],
   "source": [
    "observed_value_vega_long_put = 0.2068; # NVDA 61-DTE K = 128 long put after close 14-Jun-2024 \n",
    "@assert isapprox(observed_value_vega_long_put, vega_long_put, atol=1e-2) # good to the second decimal place, and sign is correct!"
   ]
  },
  {
   "cell_type": "markdown",
   "id": "f12fac85-d508-4815-ac24-d7f2db0b7bc9",
   "metadata": {},
   "source": [
    "### Rho\n",
    "Like the call option, we estimate $\\rho$ using the [rho(...) function](https://varnerlab.github.io/VLQuantitativeFinancePackage.jl/dev/derivatives/#VLQuantitativeFinancePackage.rho), but in this case using the `put_option_model` instance, all other parameters held the same:"
   ]
  },
  {
   "cell_type": "code",
   "execution_count": 60,
   "id": "050d564d-6bff-4314-98ac-da1106a64a90",
   "metadata": {},
   "outputs": [
    {
     "data": {
      "text/plain": [
       "-0.0829999999999993"
      ]
     },
     "execution_count": 60,
     "metadata": {},
     "output_type": "execute_result"
    }
   ],
   "source": [
    "rho_long_put = rho(put_option_model, h = h,  T = put_option_model.DTE, \n",
    "    σ = put_option_model.IV, Sₒ = Sₒ, μ = risk_free_rate)"
   ]
  },
  {
   "cell_type": "markdown",
   "id": "71a5742a-8a08-46cf-9271-18919aa12bdf",
   "metadata": {},
   "source": [
    "__Summary__: `rho` quantifies how much an option's price will theoretically change due to interest rate fluctuations, which is an important consideration, especially for longer-term options positions. However, unlike the long call contract, $\\rho(\\star)<0$ for the long-put contract."
   ]
  },
  {
   "cell_type": "code",
   "execution_count": 62,
   "id": "e9a8137c-7034-45f3-a5bc-045a4d85ea18",
   "metadata": {},
   "outputs": [
    {
     "name": "stdout",
     "output_type": "stream",
     "text": [
      "Change in put contract price by a 1% increase in risk-free rate: -8.29999999999993 USD per contract\n"
     ]
    }
   ],
   "source": [
    "println(\"Change in put contract price by a 1% increase in risk-free rate: $(rho_long_put*100) USD per contract\")"
   ]
  },
  {
   "cell_type": "markdown",
   "id": "7c041641-1d5f-4e04-80db-203ba02d63c7",
   "metadata": {},
   "source": [
    "#### Check: How good is our rho estimate?\n",
    "The observed `rho` value for the `long put` is `rho = -0.0902` Let's use the [Julia @assert macro](https://docs.julialang.org/en/v1/base/base/#Base.@assert) in combination with the [Julia isapprox(...) function](https://docs.julialang.org/en/v1/base/math/#Base.isapprox) to compare the computed and observed values. \n",
    "* The [isapprox(...) function](https://docs.julialang.org/en/v1/base/math/#Base.isapprox) compares two values and returns `true` if the two values are equal to some absolute or relative tolerance, in this case, specified by the absolute tolerance `atol` variable. If `false` (values are not equal), an [AssertionError](https://docs.julialang.org/en/v1/base/base/#Core.AssertionError) is generated:"
   ]
  },
  {
   "cell_type": "code",
   "execution_count": 64,
   "id": "790f7d8e-7374-4e10-b1a1-39e1fd33b338",
   "metadata": {},
   "outputs": [],
   "source": [
    "observed_value_rho_long_put = -0.0902; # NVDA 61-DTE K = 128 long put after close 14-Jun-2024 \n",
    "@assert isapprox(observed_value_rho_long_put, rho_long_put, atol=1e-2) # good to the second decimal place, and sign is correct!"
   ]
  },
  {
   "cell_type": "markdown",
   "id": "3bf8d7da-af12-4bf9-bad9-974b638259d8",
   "metadata": {},
   "source": [
    "### Gamma\n",
    "Finally, like the $\\Gamma$ calculation for the long-call, we estimate $\\Gamma$ using the [gamma(...) function](https://varnerlab.github.io/VLQuantitativeFinancePackage.jl/dev/derivatives/#VLQuantitativeFinancePackage.gamma), but in this case using the `put_option_model` instance, all other parameters held the same:"
   ]
  },
  {
   "cell_type": "code",
   "execution_count": 66,
   "id": "15459b4f-ee70-4fb5-9380-38523d0f7e78",
   "metadata": {},
   "outputs": [
    {
     "data": {
      "text/plain": [
       "0.020000000000000462"
      ]
     },
     "execution_count": 66,
     "metadata": {},
     "output_type": "execute_result"
    }
   ],
   "source": [
    "gamma_long_put = gamma(put_option_model, h = h,  T = put_option_model.DTE, \n",
    "    σ = put_option_model.IV, Sₒ = Sₒ, μ = risk_free_rate)"
   ]
  },
  {
   "cell_type": "markdown",
   "id": "7b495c9f-6896-4632-8ab1-b6fc315acebb",
   "metadata": {},
   "source": [
    "__Summary__: The long put option has a $\\Gamma(star)>0$, which increases the premium's sensitivity to share price movements, i.e., the premium becomes more responsive to changes in share price. The $\\Gamma$ value indicates how sensitive an option's `delta` is to changes in the underlying price, with higher $\\Gamma$ values indicating greater `delta` sensitivity."
   ]
  },
  {
   "cell_type": "markdown",
   "id": "356f0573-4616-4021-96a4-6fd4c16a755a",
   "metadata": {},
   "source": [
    "#### Check: How good is our gamma estimate?\n",
    "The observed `gamma` value for the `long put` is `gamma = 0.0150.` Let's use the [Julia @assert macro](https://docs.julialang.org/en/v1/base/base/#Base.@assert) in combination with the [Julia isapprox(...) function](https://docs.julialang.org/en/v1/base/math/#Base.isapprox) to compare the computed and observed values. \n",
    "* The [isapprox(...) function](https://docs.julialang.org/en/v1/base/math/#Base.isapprox) compares two values and returns `true` if the two values are equal to some absolute or relative tolerance, in this case, specified by the absolute tolerance `atol` variable. If `false` (values are not equal), an [AssertionError](https://docs.julialang.org/en/v1/base/base/#Core.AssertionError) is generated:"
   ]
  },
  {
   "cell_type": "code",
   "execution_count": 69,
   "id": "88995f90-2f18-4c59-915d-2d21c7e64145",
   "metadata": {},
   "outputs": [],
   "source": [
    "observed_value_gamma_long_put = 0.0150; # NVDA 61-DTE K = 128 long put after close 14-Jun-2024 \n",
    "@assert isapprox(observed_value_gamma_long_put, gamma_long_put, atol=1e-2) # good to the second decimal place, and sign is correct!"
   ]
  },
  {
   "cell_type": "markdown",
   "id": "5d43874c-1353-495e-94d6-e9caafd18290",
   "metadata": {},
   "source": [
    "## Task 3: Conversion of the Greeks to Short Contracts\n",
    "We computed `delta, theta, vega, rho` and `gamma` values for `long` put and call contacts in the previous tasks. The immediate question is, then, what about short contracts? Computing the Greek values for short contracts is easy: the Greek values for long and short Greek contracts must sum to `0`:\n",
    "\n",
    "* Denote the short value of a Greek by an overbar, i.e., the short `delta` for a call evaluated at market conditions $\\star$ would be given by $\\bar{\\Delta}_{c}(\\star)$. Then, the following condition must hold (for all market states $\\star$):\n",
    "$$\n",
    "\\begin{equation}\n",
    "\\bar{\\Delta}_{c}(\\star) + \\Delta_{c}\\left(\\star\\right) = 0\\quad\\forall\\star\n",
    "\\end{equation}\n",
    "$$\n",
    "\n",
    "It's important to note that the interconversion between long and short Greek values is a universal concept applicable to all the Greeks we have explored. This understanding will serve as a solid foundation for your options trading knowledge.\n",
    "\n",
    "`Unhide` the code block below to see how we constructed a table for the Greeks for the long-call `NVDA` contract."
   ]
  },
  {
   "cell_type": "code",
   "execution_count": 71,
   "id": "f76bbe62-44be-4002-9d28-cd8c6f14c13f",
   "metadata": {
    "jupyter": {
     "source_hidden": true
    }
   },
   "outputs": [
    {
     "data": {
      "text/html": [
       "<div><div style = \"float: left;\"><span>5×6 DataFrame</span></div><div style = \"clear: both;\"></div></div><div class = \"data-frame\" style = \"overflow-x: scroll;\"><table class = \"data-frame\" style = \"margin-bottom: 6px;\"><thead><tr class = \"header\"><th class = \"rowNumber\" style = \"font-weight: bold; text-align: right;\">Row</th><th style = \"text-align: left;\">greek</th><th style = \"text-align: left;\">call_long_calc</th><th style = \"text-align: left;\">call_short_calc</th><th style = \"text-align: left;\">check</th><th style = \"text-align: left;\">call_long_obs</th><th style = \"text-align: left;\">error_percentage</th></tr><tr class = \"subheader headerLastRow\"><th class = \"rowNumber\" style = \"font-weight: bold; text-align: right;\"></th><th title = \"String\" style = \"text-align: left;\">String</th><th title = \"Float64\" style = \"text-align: left;\">Float64</th><th title = \"Float64\" style = \"text-align: left;\">Float64</th><th title = \"Float64\" style = \"text-align: left;\">Float64</th><th title = \"Float64\" style = \"text-align: left;\">Float64</th><th title = \"Float64\" style = \"text-align: left;\">Float64</th></tr></thead><tbody><tr><td class = \"rowNumber\" style = \"font-weight: bold; text-align: right;\">1</td><td style = \"text-align: left;\">delta</td><td style = \"text-align: right;\">0.492</td><td style = \"text-align: right;\">-0.492</td><td style = \"text-align: right;\">0.0</td><td style = \"text-align: right;\">0.4979</td><td style = \"text-align: right;\">-1.18498</td></tr><tr><td class = \"rowNumber\" style = \"font-weight: bold; text-align: right;\">2</td><td style = \"text-align: left;\">theta</td><td style = \"text-align: right;\">-0.092</td><td style = \"text-align: right;\">0.092</td><td style = \"text-align: right;\">0.0</td><td style = \"text-align: right;\">-0.0937</td><td style = \"text-align: right;\">-1.8143</td></tr><tr><td class = \"rowNumber\" style = \"font-weight: bold; text-align: right;\">3</td><td style = \"text-align: left;\">vega</td><td style = \"text-align: right;\">0.216</td><td style = \"text-align: right;\">-0.216</td><td style = \"text-align: right;\">0.0</td><td style = \"text-align: right;\">0.2159</td><td style = \"text-align: right;\">0.0463177</td></tr><tr><td class = \"rowNumber\" style = \"font-weight: bold; text-align: right;\">4</td><td style = \"text-align: left;\">rho</td><td style = \"text-align: right;\">0.094</td><td style = \"text-align: right;\">-0.094</td><td style = \"text-align: right;\">0.0</td><td style = \"text-align: right;\">0.095</td><td style = \"text-align: right;\">-1.05263</td></tr><tr><td class = \"rowNumber\" style = \"font-weight: bold; text-align: right;\">5</td><td style = \"text-align: left;\">gamma</td><td style = \"text-align: right;\">0.023</td><td style = \"text-align: right;\">-0.023</td><td style = \"text-align: right;\">0.0</td><td style = \"text-align: right;\">0.0152</td><td style = \"text-align: right;\">51.3158</td></tr></tbody></table></div>"
      ],
      "text/latex": [
       "\\begin{tabular}{r|cccccc}\n",
       "\t& greek & call\\_long\\_calc & call\\_short\\_calc & check & call\\_long\\_obs & error\\_percentage\\\\\n",
       "\t\\hline\n",
       "\t& String & Float64 & Float64 & Float64 & Float64 & Float64\\\\\n",
       "\t\\hline\n",
       "\t1 & delta & 0.492 & -0.492 & 0.0 & 0.4979 & -1.18498 \\\\\n",
       "\t2 & theta & -0.092 & 0.092 & 0.0 & -0.0937 & -1.8143 \\\\\n",
       "\t3 & vega & 0.216 & -0.216 & 0.0 & 0.2159 & 0.0463177 \\\\\n",
       "\t4 & rho & 0.094 & -0.094 & 0.0 & 0.095 & -1.05263 \\\\\n",
       "\t5 & gamma & 0.023 & -0.023 & 0.0 & 0.0152 & 51.3158 \\\\\n",
       "\\end{tabular}\n"
      ],
      "text/plain": [
       "\u001b[1m5×6 DataFrame\u001b[0m\n",
       "\u001b[1m Row \u001b[0m│\u001b[1m greek  \u001b[0m\u001b[1m call_long_calc \u001b[0m\u001b[1m call_short_calc \u001b[0m\u001b[1m check   \u001b[0m\u001b[1m call_long_obs \u001b[0m\u001b[1m error_\u001b[0m ⋯\n",
       "     │\u001b[90m String \u001b[0m\u001b[90m Float64        \u001b[0m\u001b[90m Float64         \u001b[0m\u001b[90m Float64 \u001b[0m\u001b[90m Float64       \u001b[0m\u001b[90m Float6\u001b[0m ⋯\n",
       "─────┼──────────────────────────────────────────────────────────────────────────\n",
       "   1 │ delta            0.492           -0.492      0.0         0.4979         ⋯\n",
       "   2 │ theta           -0.092            0.092      0.0        -0.0937\n",
       "   3 │ vega             0.216           -0.216      0.0         0.2159\n",
       "   4 │ rho              0.094           -0.094      0.0         0.095\n",
       "   5 │ gamma            0.023           -0.023      0.0         0.0152         ⋯\n",
       "\u001b[36m                                                                1 column omitted\u001b[0m"
      ]
     },
     "execution_count": 71,
     "metadata": {},
     "output_type": "execute_result"
    }
   ],
   "source": [
    "let\n",
    "    \n",
    "    sense = -1;\n",
    "    greek_dataframe = DataFrame();\n",
    "\n",
    "    # delta -\n",
    "    delta_row = (\n",
    "        greek = \"delta\", \n",
    "        call_long_calc = delta_long_call,\n",
    "        call_short_calc = (sense)*delta_long_call,\n",
    "        check = delta_long_call + (sense)*delta_long_call,\n",
    "        call_long_obs = observed_value_delta_long_call,\n",
    "        error_percentage = ((delta_long_call - observed_value_delta_long_call)/(observed_value_delta_long_call))*100\n",
    "    )\n",
    "    push!(greek_dataframe,delta_row);\n",
    "\n",
    "    # theta\n",
    "    theta_row = (\n",
    "        greek = \"theta\", \n",
    "        call_long_calc = theta_long_call,\n",
    "        call_short_calc = (sense)*theta_long_call,\n",
    "        check = theta_long_call + (sense)*theta_long_call,\n",
    "        call_long_obs = observed_value_theta_long_call,\n",
    "        error_percentage = ((theta_long_call - observed_value_theta_long_call)/(observed_value_theta_long_call))*100,\n",
    "    )\n",
    "    push!(greek_dataframe,theta_row);\n",
    "\n",
    "    # vega -\n",
    "    vega_row = (\n",
    "        greek = \"vega\", \n",
    "        call_long_calc = vega_long_call,\n",
    "        call_short_calc = (sense)*vega_long_call,\n",
    "        check = vega_long_call + (sense)*vega_long_call,\n",
    "        call_long_obs = observed_value_vega_long_call,\n",
    "        error_percentage = ((vega_long_call - observed_value_vega_long_call)/(observed_value_vega_long_call))*100\n",
    "    )\n",
    "    push!(greek_dataframe,vega_row);\n",
    "\n",
    "    # rho -\n",
    "    rho_row = (\n",
    "        greek = \"rho\", \n",
    "        call_long_calc = rho_long_call,\n",
    "        call_short_calc = (sense)*rho_long_call,\n",
    "        check = rho_long_call + (sense)*rho_long_call,\n",
    "        call_long_obs = observed_value_rho_long_call,\n",
    "        error_percentage = ((rho_long_call - observed_value_rho_long_call)/(observed_value_rho_long_call))*100\n",
    "    )\n",
    "    push!(greek_dataframe,rho_row);\n",
    "\n",
    "    # gamma -\n",
    "    gamma_row = (\n",
    "        greek = \"gamma\", \n",
    "        call_long_calc = gamma_long_call,\n",
    "        call_short_calc = (sense)*gamma_long_call,\n",
    "        check = gamma_long_call + (sense)*gamma_long_call,\n",
    "        call_long_obs = observed_value_gamma_long_call,\n",
    "        error_percentage = ((gamma_long_call - observed_value_gamma_long_call)/(observed_value_gamma_long_call))*100\n",
    "    )\n",
    "    push!(greek_dataframe,gamma_row);\n",
    "\n",
    "    # display -\n",
    "    greek_dataframe\n",
    "end"
   ]
  },
  {
   "cell_type": "markdown",
   "id": "a4767eed-ae8c-4317-9407-3f3edf65cdbc",
   "metadata": {},
   "source": [
    "and the `NVDA` put contract:"
   ]
  },
  {
   "cell_type": "code",
   "execution_count": 73,
   "id": "57b2ef6f-f029-4131-b747-87d8c908b213",
   "metadata": {
    "jupyter": {
     "source_hidden": true
    }
   },
   "outputs": [
    {
     "data": {
      "text/html": [
       "<div><div style = \"float: left;\"><span>5×6 DataFrame</span></div><div style = \"clear: both;\"></div></div><div class = \"data-frame\" style = \"overflow-x: scroll;\"><table class = \"data-frame\" style = \"margin-bottom: 6px;\"><thead><tr class = \"header\"><th class = \"rowNumber\" style = \"font-weight: bold; text-align: right;\">Row</th><th style = \"text-align: left;\">greek</th><th style = \"text-align: left;\">put_long_calc</th><th style = \"text-align: left;\">put_short_calc</th><th style = \"text-align: left;\">check</th><th style = \"text-align: left;\">put_long_obs</th><th style = \"text-align: left;\">error_percentage</th></tr><tr class = \"subheader headerLastRow\"><th class = \"rowNumber\" style = \"font-weight: bold; text-align: right;\"></th><th title = \"String\" style = \"text-align: left;\">String</th><th title = \"Float64\" style = \"text-align: left;\">Float64</th><th title = \"Float64\" style = \"text-align: left;\">Float64</th><th title = \"Float64\" style = \"text-align: left;\">Float64</th><th title = \"Float64\" style = \"text-align: left;\">Float64</th><th title = \"Float64\" style = \"text-align: left;\">Float64</th></tr></thead><tbody><tr><td class = \"rowNumber\" style = \"font-weight: bold; text-align: right;\">1</td><td style = \"text-align: left;\">delta</td><td style = \"text-align: right;\">-0.388</td><td style = \"text-align: right;\">0.388</td><td style = \"text-align: right;\">0.0</td><td style = \"text-align: right;\">-0.3847</td><td style = \"text-align: right;\">0.857811</td></tr><tr><td class = \"rowNumber\" style = \"font-weight: bold; text-align: right;\">2</td><td style = \"text-align: left;\">theta</td><td style = \"text-align: right;\">-0.075</td><td style = \"text-align: right;\">0.075</td><td style = \"text-align: right;\">0.0</td><td style = \"text-align: right;\">-0.0726</td><td style = \"text-align: right;\">3.30579</td></tr><tr><td class = \"rowNumber\" style = \"font-weight: bold; text-align: right;\">3</td><td style = \"text-align: left;\">vega</td><td style = \"text-align: right;\">0.207</td><td style = \"text-align: right;\">-0.207</td><td style = \"text-align: right;\">0.0</td><td style = \"text-align: right;\">0.2068</td><td style = \"text-align: right;\">0.0967118</td></tr><tr><td class = \"rowNumber\" style = \"font-weight: bold; text-align: right;\">4</td><td style = \"text-align: left;\">rho</td><td style = \"text-align: right;\">-0.083</td><td style = \"text-align: right;\">0.083</td><td style = \"text-align: right;\">0.0</td><td style = \"text-align: right;\">-0.0902</td><td style = \"text-align: right;\">-7.98226</td></tr><tr><td class = \"rowNumber\" style = \"font-weight: bold; text-align: right;\">5</td><td style = \"text-align: left;\">gamma</td><td style = \"text-align: right;\">0.02</td><td style = \"text-align: right;\">-0.02</td><td style = \"text-align: right;\">0.0</td><td style = \"text-align: right;\">0.015</td><td style = \"text-align: right;\">33.3333</td></tr></tbody></table></div>"
      ],
      "text/latex": [
       "\\begin{tabular}{r|cccccc}\n",
       "\t& greek & put\\_long\\_calc & put\\_short\\_calc & check & put\\_long\\_obs & error\\_percentage\\\\\n",
       "\t\\hline\n",
       "\t& String & Float64 & Float64 & Float64 & Float64 & Float64\\\\\n",
       "\t\\hline\n",
       "\t1 & delta & -0.388 & 0.388 & 0.0 & -0.3847 & 0.857811 \\\\\n",
       "\t2 & theta & -0.075 & 0.075 & 0.0 & -0.0726 & 3.30579 \\\\\n",
       "\t3 & vega & 0.207 & -0.207 & 0.0 & 0.2068 & 0.0967118 \\\\\n",
       "\t4 & rho & -0.083 & 0.083 & 0.0 & -0.0902 & -7.98226 \\\\\n",
       "\t5 & gamma & 0.02 & -0.02 & 0.0 & 0.015 & 33.3333 \\\\\n",
       "\\end{tabular}\n"
      ],
      "text/plain": [
       "\u001b[1m5×6 DataFrame\u001b[0m\n",
       "\u001b[1m Row \u001b[0m│\u001b[1m greek  \u001b[0m\u001b[1m put_long_calc \u001b[0m\u001b[1m put_short_calc \u001b[0m\u001b[1m check   \u001b[0m\u001b[1m put_long_obs \u001b[0m\u001b[1m error_per\u001b[0m ⋯\n",
       "     │\u001b[90m String \u001b[0m\u001b[90m Float64       \u001b[0m\u001b[90m Float64        \u001b[0m\u001b[90m Float64 \u001b[0m\u001b[90m Float64      \u001b[0m\u001b[90m Float64  \u001b[0m ⋯\n",
       "─────┼──────────────────────────────────────────────────────────────────────────\n",
       "   1 │ delta          -0.388           0.388      0.0       -0.3847         0. ⋯\n",
       "   2 │ theta          -0.075           0.075      0.0       -0.0726         3.\n",
       "   3 │ vega            0.207          -0.207      0.0        0.2068         0.\n",
       "   4 │ rho            -0.083           0.083      0.0       -0.0902        -7.\n",
       "   5 │ gamma           0.02           -0.02       0.0        0.015         33. ⋯\n",
       "\u001b[36m                                                                1 column omitted\u001b[0m"
      ]
     },
     "execution_count": 73,
     "metadata": {},
     "output_type": "execute_result"
    }
   ],
   "source": [
    "let\n",
    "    \n",
    "    sense = -1;\n",
    "    greek_dataframe = DataFrame();\n",
    "\n",
    "    # delta -\n",
    "    delta_row = (\n",
    "        greek = \"delta\", \n",
    "        put_long_calc = delta_long_put,\n",
    "        put_short_calc = (sense)*delta_long_put,\n",
    "        check = delta_long_put + (sense)*delta_long_put,\n",
    "        put_long_obs = observed_value_delta_long_put,\n",
    "        error_percentage = ((delta_long_put - observed_value_delta_long_put)/(observed_value_delta_long_put))*100\n",
    "    )\n",
    "    push!(greek_dataframe,delta_row);\n",
    "\n",
    "    # theta\n",
    "    theta_row = (\n",
    "        greek = \"theta\", \n",
    "        put_long_calc = theta_long_put,\n",
    "        put_short_calc = (sense)*theta_long_put,\n",
    "        check = theta_long_put + (sense)*theta_long_put,\n",
    "        put_long_obs = observed_value_theta_long_put,\n",
    "        error_percentage = ((theta_long_put - observed_value_theta_long_put)/(observed_value_theta_long_put))*100,\n",
    "    )\n",
    "    push!(greek_dataframe,theta_row);\n",
    "\n",
    "    # vega -\n",
    "    vega_row = (\n",
    "        greek = \"vega\", \n",
    "        put_long_calc = vega_long_put,\n",
    "        put_short_calc = (sense)*vega_long_put,\n",
    "        check = vega_long_put + (sense)*vega_long_put,\n",
    "        put_long_obs = observed_value_vega_long_put,\n",
    "        error_percentage = ((vega_long_put - observed_value_vega_long_put)/(observed_value_vega_long_put))*100\n",
    "    )\n",
    "    push!(greek_dataframe,vega_row);\n",
    "\n",
    "    # rho -\n",
    "    rho_row = (\n",
    "        greek = \"rho\", \n",
    "        put_long_calc = rho_long_put,\n",
    "        put_short_calc = (sense)*rho_long_put,\n",
    "        check = rho_long_put + (sense)*rho_long_put,\n",
    "        put_long_obs = observed_value_rho_long_put,\n",
    "        error_percentage = ((rho_long_put - observed_value_rho_long_put)/(observed_value_rho_long_put))*100\n",
    "    )\n",
    "    push!(greek_dataframe,rho_row);\n",
    "\n",
    "    # gamma -\n",
    "    gamma_row = (\n",
    "        greek = \"gamma\", \n",
    "        put_long_calc = gamma_long_put,\n",
    "        put_short_calc = (sense)*gamma_long_put,\n",
    "        check = gamma_long_put + (sense)*gamma_long_put,\n",
    "        put_long_obs = observed_value_gamma_long_put,\n",
    "        error_percentage = ((gamma_long_put - observed_value_gamma_long_put)/(observed_value_gamma_long_put))*100\n",
    "    )\n",
    "    push!(greek_dataframe,gamma_row);\n",
    "\n",
    "    # display -\n",
    "    greek_dataframe\n",
    "end"
   ]
  },
  {
   "cell_type": "markdown",
   "id": "98358cf8-8ab3-482e-9964-6221118e4966",
   "metadata": {},
   "source": [
    "__Summary__: In general, our estimates of [the Greeks](https://en.wikipedia.org/wiki/en:Greeks_(finance)?variant=zh-tw) have percentage error in the range of `1-5%` for both the call and put contracts. The exception is $\\Gamma$, with a percentage error above `30%` in both cases (we overestimated the $\\Gamma$ in each case). However, the $\\Gamma$ value is small, and the sign was correctly captured, so while not ideal, the impact on the premium will be small."
   ]
  },
  {
   "cell_type": "markdown",
   "id": "74c2ee7e-9f7c-4852-beb3-755bb6626c45",
   "metadata": {},
   "source": [
    "## Disclaimer and Risks\n",
    "__This content is offered solely for training and informational purposes__. No offer or solicitation to buy or sell securities or derivative products or any investment or trading advice or strategy is made, given, or endorsed by the teaching team. \n",
    "\n",
    "__Trading involves risk__. Carefully review your financial situation before investing in securities, futures contracts, options, or commodity interests. Past performance, whether actual or indicated by historical tests of strategies, is no guarantee of future performance or success. Trading is generally inappropriate for someone with limited resources, investment or trading experience, or a low-risk tolerance.  Only risk capital that is not required for living expenses.\n",
    "\n",
    "__You are fully responsible for any investment or trading decisions you make__. You should decide solely based on your financial circumstances, investment or trading objectives, risk tolerance, and liquidity needs."
   ]
  }
 ],
 "metadata": {
  "kernelspec": {
   "display_name": "Julia 1.10.4",
   "language": "julia",
   "name": "julia-1.10"
  },
  "language_info": {
   "file_extension": ".jl",
   "mimetype": "application/julia",
   "name": "julia",
   "version": "1.10.4"
  }
 },
 "nbformat": 4,
 "nbformat_minor": 5
}
