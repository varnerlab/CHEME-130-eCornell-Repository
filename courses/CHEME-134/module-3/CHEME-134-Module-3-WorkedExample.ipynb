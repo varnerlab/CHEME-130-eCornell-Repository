{
 "cells": [
  {
   "cell_type": "markdown",
   "id": "96a4ae07-db43-42b7-b9c3-28b679a8dd32",
   "metadata": {},
   "source": [
    "# Example: Compute the Delta, Theta, and Vega for a Short or Long Calls and Puts"
   ]
  },
  {
   "cell_type": "code",
   "execution_count": null,
   "id": "c4e7d1da-bb15-48f5-be80-2e62c7c05c59",
   "metadata": {},
   "outputs": [],
   "source": []
  }
 ],
 "metadata": {
  "kernelspec": {
   "display_name": "Julia 1.9.3",
   "language": "julia",
   "name": "julia-1.9"
  },
  "language_info": {
   "file_extension": ".jl",
   "mimetype": "application/julia",
   "name": "julia",
   "version": "1.9.3"
  }
 },
 "nbformat": 4,
 "nbformat_minor": 5
}
