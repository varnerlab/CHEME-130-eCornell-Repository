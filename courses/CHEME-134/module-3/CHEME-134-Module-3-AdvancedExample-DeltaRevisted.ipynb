{
 "cells": [
  {
   "cell_type": "markdown",
   "id": "deb12ece-bbfa-41c2-a414-a23d124b76b0",
   "metadata": {},
   "source": [
    "# Advanced Example: Another Look at the Three Meanings of Delta"
   ]
  },
  {
   "cell_type": "code",
   "execution_count": null,
   "id": "844d59d1-5b68-4842-8d14-f1132b26fd5b",
   "metadata": {},
   "outputs": [],
   "source": []
  }
 ],
 "metadata": {
  "kernelspec": {
   "display_name": "Julia 1.10.4",
   "language": "julia",
   "name": "julia-1.10"
  },
  "language_info": {
   "file_extension": ".jl",
   "mimetype": "application/julia",
   "name": "julia",
   "version": "1.10.4"
  }
 },
 "nbformat": 4,
 "nbformat_minor": 5
}
