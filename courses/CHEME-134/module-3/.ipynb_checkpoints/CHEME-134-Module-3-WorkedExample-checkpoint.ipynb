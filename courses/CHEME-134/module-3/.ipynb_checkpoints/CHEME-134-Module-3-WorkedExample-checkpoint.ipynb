{
 "cells": [
  {
   "cell_type": "markdown",
   "id": "96a4ae07-db43-42b7-b9c3-28b679a8dd32",
   "metadata": {},
   "source": [
    "# Example: Compute the Delta, Theta, and Vega for Short and Long Calls and Puts\n",
    "Fill me in\n",
    "\n",
    "## Learning objectives\n",
    "Fill me in"
   ]
  },
  {
   "cell_type": "markdown",
   "id": "5ac08825-a65e-4d28-ac55-369d90e2e748",
   "metadata": {},
   "source": [
    "## Setup\n",
    "Set up the computational environment by including the `Include.jl` file. The `Include.jl` file loads external packages, various functions we will use in the exercise, and custom types to model the components of our example problem.\n",
    "* For additional information on functions and types used in this material, see the [Julia programming language documentation](https://docs.julialang.org/en/v1/) and the [VLQuantitativeFinancePackage.jl documentation](https://github.com/varnerlab/VLQuantitativeFinancePackage.jl). "
   ]
  },
  {
   "cell_type": "code",
   "execution_count": 4,
   "id": "19560570-f64d-46f3-bb73-a78c31752d2d",
   "metadata": {},
   "outputs": [
    {
     "name": "stderr",
     "output_type": "stream",
     "text": [
      "\u001b[32m\u001b[1m    Updating\u001b[22m\u001b[39m git-repo `https://github.com/varnerlab/VLQuantitativeFinancePackage.jl.git`\n",
      "\u001b[32m\u001b[1m   Resolving\u001b[22m\u001b[39m package versions...\n",
      "\u001b[32m\u001b[1m  No Changes\u001b[22m\u001b[39m to `~/Desktop/julia_work/CHEME-130-eCornell-Repository/courses/CHEME-134/module-3/Project.toml`\n",
      "\u001b[32m\u001b[1m  No Changes\u001b[22m\u001b[39m to `~/Desktop/julia_work/CHEME-130-eCornell-Repository/courses/CHEME-134/module-3/Manifest.toml`\n",
      "\u001b[32m\u001b[1m  Activating\u001b[22m\u001b[39m project at `~/Desktop/julia_work/CHEME-130-eCornell-Repository/courses/CHEME-134/module-3`\n",
      "\u001b[32m\u001b[1m  No Changes\u001b[22m\u001b[39m to `~/Desktop/julia_work/CHEME-130-eCornell-Repository/courses/CHEME-134/module-3/Project.toml`\n",
      "\u001b[32m\u001b[1m  No Changes\u001b[22m\u001b[39m to `~/Desktop/julia_work/CHEME-130-eCornell-Repository/courses/CHEME-134/module-3/Manifest.toml`\n",
      "\u001b[32m\u001b[1m    Updating\u001b[22m\u001b[39m registry at `~/.julia/registries/General.toml`\n",
      "\u001b[32m\u001b[1m    Updating\u001b[22m\u001b[39m git-repo `https://github.com/varnerlab/VLQuantitativeFinancePackage.jl.git`\n",
      "\u001b[32m\u001b[1m  No Changes\u001b[22m\u001b[39m to `~/Desktop/julia_work/CHEME-130-eCornell-Repository/courses/CHEME-134/module-3/Project.toml`\n",
      "\u001b[32m\u001b[1m  No Changes\u001b[22m\u001b[39m to `~/Desktop/julia_work/CHEME-130-eCornell-Repository/courses/CHEME-134/module-3/Manifest.toml`\n"
     ]
    }
   ],
   "source": [
    "include(\"Include.jl\")"
   ]
  },
  {
   "cell_type": "markdown",
   "id": "be66405f-98bd-4b3d-8fb7-b564c943135e",
   "metadata": {},
   "source": [
    "## Prerequisites\n",
    "Let's build models for options on [NVIDIA Corporation](https://finance.yahoo.com/quote/NVDA/) as the underlying asset with ticker `NVDA,` in particular, out-of-the-money (OTM) short call and put options.  "
   ]
  },
  {
   "cell_type": "code",
   "execution_count": 23,
   "id": "e90db124-feb0-48e9-ba26-23cd497c43be",
   "metadata": {},
   "outputs": [],
   "source": [
    "Δt = (1/252);\n",
    "risk_free_rate = 0.0431; # yield 10-year treasury note on 13-Jun-2024\n",
    "Sₒ = 131.88; # close on 14-Jun-2024\n",
    "h = 244; # 4-points per trading day"
   ]
  },
  {
   "cell_type": "markdown",
   "id": "c568b555-4e26-40fa-974f-f2177d7a33a2",
   "metadata": {},
   "source": [
    "Call contract"
   ]
  },
  {
   "cell_type": "code",
   "execution_count": 31,
   "id": "26de778b-bf72-4288-be3a-fe8032c383cf",
   "metadata": {},
   "outputs": [],
   "source": [
    "short_call_option_model = build(MyAmericanCallContractModel, (\n",
    "    K = 136.0, \n",
    "    premium = 9.23, # mark price\n",
    "    DTE = (61.0)*Δt,\n",
    "    sense = -1,\n",
    "    copy = 1,\n",
    "    IV = 0.4848\n",
    "));"
   ]
  },
  {
   "cell_type": "markdown",
   "id": "b922ec50-2a0a-468f-b432-e04099b6efd7",
   "metadata": {},
   "source": [
    "Put contract"
   ]
  },
  {
   "cell_type": "code",
   "execution_count": 35,
   "id": "a13b1d75-7f0b-4b9b-8f1e-6cb47767d2ef",
   "metadata": {},
   "outputs": [],
   "source": [
    "short_put_option_model = build(MyAmericanPutContractModel, (\n",
    "    K = 128.0, \n",
    "    premium = 7.78, # mark price\n",
    "    DTE = (61.0)*Δt,\n",
    "    sense = -1,\n",
    "    copy = 1,\n",
    "    IV = 0.4787\n",
    "));"
   ]
  },
  {
   "cell_type": "markdown",
   "id": "034b010a-1978-4c44-90b2-8e009dbdde41",
   "metadata": {},
   "source": [
    "## Task 1: Compute the Greeks for the Call Option"
   ]
  },
  {
   "cell_type": "code",
   "execution_count": null,
   "id": "781194c3-cae4-45d1-a3c7-31523b5805ca",
   "metadata": {},
   "outputs": [],
   "source": []
  },
  {
   "cell_type": "markdown",
   "id": "c2c72ebe-2092-4420-a18b-865c3682362d",
   "metadata": {},
   "source": [
    "## Task 2: Compute the Greeks for the Put Option"
   ]
  },
  {
   "cell_type": "markdown",
   "id": "74c2ee7e-9f7c-4852-beb3-755bb6626c45",
   "metadata": {},
   "source": [
    "## Disclaimer and Risks\n",
    "__This content is offered solely for training and informational purposes__. No offer or solicitation to buy or sell securities or derivative products or any investment or trading advice or strategy is made, given, or endorsed by the teaching team. \n",
    "\n",
    "__Trading involves risk__. Carefully review your financial situation before investing in securities, futures contracts, options, or commodity interests. Past performance, whether actual or indicated by historical tests of strategies, is no guarantee of future performance or success. Trading is generally inappropriate for someone with limited resources, investment or trading experience, or a low-risk tolerance.  Only risk capital that is not required for living expenses.\n",
    "\n",
    "__You are fully responsible for any investment or trading decisions you make__. You should decide solely based on your financial circumstances, investment or trading objectives, risk tolerance, and liquidity needs."
   ]
  },
  {
   "cell_type": "code",
   "execution_count": null,
   "id": "4225877d-5670-4d62-9aea-d3de0e67f97a",
   "metadata": {},
   "outputs": [],
   "source": []
  }
 ],
 "metadata": {
  "kernelspec": {
   "display_name": "Julia 1.10.4",
   "language": "julia",
   "name": "julia-1.10"
  },
  "language_info": {
   "file_extension": ".jl",
   "mimetype": "application/julia",
   "name": "julia",
   "version": "1.10.4"
  }
 },
 "nbformat": 4,
 "nbformat_minor": 5
}
