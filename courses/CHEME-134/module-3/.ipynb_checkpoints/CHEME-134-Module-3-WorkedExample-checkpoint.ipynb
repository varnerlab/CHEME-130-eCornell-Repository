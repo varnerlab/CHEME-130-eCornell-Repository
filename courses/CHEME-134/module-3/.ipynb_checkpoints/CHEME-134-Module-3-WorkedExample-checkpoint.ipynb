{
 "cells": [
  {
   "cell_type": "markdown",
   "id": "96a4ae07-db43-42b7-b9c3-28b679a8dd32",
   "metadata": {},
   "source": [
    "# Example: Computing Delta, Theta, Vega, Gamma and Rho for Short and Long Call and Put Contracts\n",
    "Fill me in\n",
    "\n",
    "## Learning objectives\n",
    "Fill me in"
   ]
  },
  {
   "cell_type": "markdown",
   "id": "5ac08825-a65e-4d28-ac55-369d90e2e748",
   "metadata": {},
   "source": [
    "## Setup\n",
    "Set up the computational environment by including the `Include.jl` file. The `Include.jl` file loads external packages, various functions we will use in the exercise, and custom types to model the components of our example problem.\n",
    "* For additional information on functions and types used in this material, see the [Julia programming language documentation](https://docs.julialang.org/en/v1/) and the [VLQuantitativeFinancePackage.jl documentation](https://github.com/varnerlab/VLQuantitativeFinancePackage.jl). "
   ]
  },
  {
   "cell_type": "code",
   "execution_count": 3,
   "id": "19560570-f64d-46f3-bb73-a78c31752d2d",
   "metadata": {},
   "outputs": [
    {
     "name": "stderr",
     "output_type": "stream",
     "text": [
      "\u001b[32m\u001b[1m    Updating\u001b[22m\u001b[39m git-repo `https://github.com/varnerlab/VLQuantitativeFinancePackage.jl.git`\n",
      "\u001b[32m\u001b[1m   Resolving\u001b[22m\u001b[39m package versions...\n",
      "\u001b[32m\u001b[1m  No Changes\u001b[22m\u001b[39m to `~/Desktop/julia_work/CHEME-130-eCornell-Repository/courses/CHEME-134/module-3/Project.toml`\n",
      "\u001b[32m\u001b[1m  No Changes\u001b[22m\u001b[39m to `~/Desktop/julia_work/CHEME-130-eCornell-Repository/courses/CHEME-134/module-3/Manifest.toml`\n",
      "\u001b[32m\u001b[1m  Activating\u001b[22m\u001b[39m project at `~/Desktop/julia_work/CHEME-130-eCornell-Repository/courses/CHEME-134/module-3`\n",
      "\u001b[32m\u001b[1m  No Changes\u001b[22m\u001b[39m to `~/Desktop/julia_work/CHEME-130-eCornell-Repository/courses/CHEME-134/module-3/Project.toml`\n",
      "\u001b[32m\u001b[1m  No Changes\u001b[22m\u001b[39m to `~/Desktop/julia_work/CHEME-130-eCornell-Repository/courses/CHEME-134/module-3/Manifest.toml`\n",
      "\u001b[32m\u001b[1m    Updating\u001b[22m\u001b[39m registry at `~/.julia/registries/General.toml`\n",
      "\u001b[32m\u001b[1m    Updating\u001b[22m\u001b[39m git-repo `https://github.com/varnerlab/VLQuantitativeFinancePackage.jl.git`\n",
      "\u001b[32m\u001b[1m  No Changes\u001b[22m\u001b[39m to `~/Desktop/julia_work/CHEME-130-eCornell-Repository/courses/CHEME-134/module-3/Project.toml`\n",
      "\u001b[32m\u001b[1m  No Changes\u001b[22m\u001b[39m to `~/Desktop/julia_work/CHEME-130-eCornell-Repository/courses/CHEME-134/module-3/Manifest.toml`\n"
     ]
    }
   ],
   "source": [
    "include(\"Include.jl\")"
   ]
  },
  {
   "cell_type": "markdown",
   "id": "be66405f-98bd-4b3d-8fb7-b564c943135e",
   "metadata": {},
   "source": [
    "## Prerequisites\n",
    "Let's build models for options on [NVIDIA Corporation](https://finance.yahoo.com/quote/NVDA/) as the underlying asset with ticker `NVDA,` in particular, out-of-the-money (OTM) short call and put options.  "
   ]
  },
  {
   "cell_type": "code",
   "execution_count": 5,
   "id": "e90db124-feb0-48e9-ba26-23cd497c43be",
   "metadata": {},
   "outputs": [],
   "source": [
    "Δt = (1/365);\n",
    "risk_free_rate = 0.0431; # yield 10-year treasury note on 13-Jun-2024\n",
    "Sₒ = 131.88; # after close on 14-Jun-2024 (close: 131.88)\n",
    "h = 366; # 6-points per trading day"
   ]
  },
  {
   "cell_type": "markdown",
   "id": "c568b555-4e26-40fa-974f-f2177d7a33a2",
   "metadata": {},
   "source": [
    "Call contract"
   ]
  },
  {
   "cell_type": "code",
   "execution_count": 7,
   "id": "26de778b-bf72-4288-be3a-fe8032c383cf",
   "metadata": {},
   "outputs": [],
   "source": [
    "call_option_model = build(MyAmericanCallContractModel, (\n",
    "    K = 136.0, \n",
    "    premium = 9.23, # mark price\n",
    "    DTE = (61.0)*Δt,\n",
    "    sense = 1,\n",
    "    copy = 1,\n",
    "    IV = 0.4848\n",
    "));"
   ]
  },
  {
   "cell_type": "markdown",
   "id": "b922ec50-2a0a-468f-b432-e04099b6efd7",
   "metadata": {},
   "source": [
    "Put contract"
   ]
  },
  {
   "cell_type": "code",
   "execution_count": 9,
   "id": "a13b1d75-7f0b-4b9b-8f1e-6cb47767d2ef",
   "metadata": {},
   "outputs": [],
   "source": [
    "put_option_model = build(MyAmericanPutContractModel, (\n",
    "    K = 128.0, \n",
    "    premium = 7.78, # mark price\n",
    "    DTE = (61.0)*Δt,\n",
    "    sense = 1,\n",
    "    copy = 1,\n",
    "    IV = 0.4787\n",
    "));"
   ]
  },
  {
   "cell_type": "markdown",
   "id": "034b010a-1978-4c44-90b2-8e009dbdde41",
   "metadata": {},
   "source": [
    "## Task 1: Compute the Greeks for a Call Option\n",
    "Fill me in"
   ]
  },
  {
   "cell_type": "markdown",
   "id": "c0fb748c-3b2f-4cb1-8de9-1ed187a0a3b0",
   "metadata": {},
   "source": [
    "### Delta\n",
    "Fill me in"
   ]
  },
  {
   "cell_type": "code",
   "execution_count": 12,
   "id": "781194c3-cae4-45d1-a3c7-31523b5805ca",
   "metadata": {},
   "outputs": [
    {
     "data": {
      "text/plain": [
       "0.49099999999999966"
      ]
     },
     "execution_count": 12,
     "metadata": {},
     "output_type": "execute_result"
    }
   ],
   "source": [
    "delta_long_call = delta(call_option_model, h = h,  T = call_option_model.DTE, \n",
    "    σ = call_option_model.IV, Sₒ = Sₒ, μ = risk_free_rate)"
   ]
  },
  {
   "cell_type": "markdown",
   "id": "5dfeab74-d710-4735-9708-1a683630a2aa",
   "metadata": {},
   "source": [
    "#### Check: How good is our delta estimate?\n",
    "This option's observed `delta` value is `delta = 0.4979` (long call). Let's use the [Julia @assert macro](https://docs.julialang.org/en/v1/base/base/#Base.@assert) in combination with the [Julia isapprox(...) function](https://docs.julialang.org/en/v1/base/math/#Base.isapprox) to compare the computed and observed values. \n",
    "* The [isapprox(...) function](https://docs.julialang.org/en/v1/base/math/#Base.isapprox) compares two values and returns `true` if the two values are equal to some absolute or relative tolerance, in this case, specified by the absolute tolerance `atol` variable. If `false` (values are not equal), an [AssertionError](https://docs.julialang.org/en/v1/base/base/#Core.AssertionError) is generated:"
   ]
  },
  {
   "cell_type": "code",
   "execution_count": 14,
   "id": "42f86536-12e6-460a-8caf-80d0edd2f58c",
   "metadata": {},
   "outputs": [],
   "source": [
    "observed_value_delta_long_call = 0.4979; # NVDA 61-DTE K = 136 long call after close 14-Jun-2024 \n",
    "@assert isapprox(observed_value_delta_long_call, delta_long_call, atol=1e-2) # good to second decimal place, and sign is correct!"
   ]
  },
  {
   "cell_type": "markdown",
   "id": "57f77130-acae-4780-a7e9-f54623aa6fc1",
   "metadata": {},
   "source": [
    "### Theta\n",
    "Fill me in here."
   ]
  },
  {
   "cell_type": "code",
   "execution_count": 16,
   "id": "3150c1ec-10e9-491b-a4f8-6d83e6615146",
   "metadata": {},
   "outputs": [
    {
     "data": {
      "text/plain": [
       "-0.09200000000000053"
      ]
     },
     "execution_count": 16,
     "metadata": {},
     "output_type": "execute_result"
    }
   ],
   "source": [
    "theta_long_call = theta(call_option_model, h = h,  T = call_option_model.DTE, \n",
    "    σ = call_option_model.IV, Sₒ = Sₒ, μ = risk_free_rate)"
   ]
  },
  {
   "cell_type": "markdown",
   "id": "e514f334-478a-431b-8fda-33ffb280b9b9",
   "metadata": {},
   "source": [
    "#### Check: How good is our theta estimate?\n",
    "This option's observed `theta` value is `theta = -0.0937` (long call). Let's use the [Julia @assert macro](https://docs.julialang.org/en/v1/base/base/#Base.@assert) in combination with the [Julia isapprox(...) function](https://docs.julialang.org/en/v1/base/math/#Base.isapprox) to compare the computed and observed values. \n",
    "* The [isapprox(...) function](https://docs.julialang.org/en/v1/base/math/#Base.isapprox) compares two values and returns `true` if the two values are equal to some absolute or relative tolerance, in this case, specified by the absolute tolerance `atol` variable. If `false` (values are not equal), an [AssertionError](https://docs.julialang.org/en/v1/base/base/#Core.AssertionError) is generated:"
   ]
  },
  {
   "cell_type": "code",
   "execution_count": 18,
   "id": "74481baf-5216-45a7-a488-cafa01bbff9b",
   "metadata": {},
   "outputs": [],
   "source": [
    "observed_value_theta_long_call = -0.0937; # NVDA 61-DTE K = 136 long call after close 14-Jun-2024 \n",
    "@assert isapprox(observed_value_theta_long_call, theta_long_call, atol=1e-2) # good to second decimal place, and sign is correct!"
   ]
  },
  {
   "cell_type": "markdown",
   "id": "aa2ed6e4-fba6-4adf-a9b0-8ea9c0bca585",
   "metadata": {},
   "source": [
    "### Vega\n",
    "Fill me in here."
   ]
  },
  {
   "cell_type": "code",
   "execution_count": 20,
   "id": "cc97c035-accc-4a0a-99e7-ca885cca265f",
   "metadata": {},
   "outputs": [
    {
     "data": {
      "text/plain": [
       "0.21499999999999986"
      ]
     },
     "execution_count": 20,
     "metadata": {},
     "output_type": "execute_result"
    }
   ],
   "source": [
    "vega_long_call = vega(call_option_model, h = h,  T = call_option_model.DTE, \n",
    "    σ = call_option_model.IV, Sₒ = Sₒ, μ = risk_free_rate)"
   ]
  },
  {
   "cell_type": "markdown",
   "id": "eed5d152-da71-46f4-84da-85bbb7c49b42",
   "metadata": {},
   "source": [
    "#### Check: How good is our vega estimate?\n",
    "This option's observed `vega` value is `vega = 0.2159` (long call). Let's use the [Julia @assert macro](https://docs.julialang.org/en/v1/base/base/#Base.@assert) in combination with the [Julia isapprox(...) function](https://docs.julialang.org/en/v1/base/math/#Base.isapprox) to compare the computed and observed values. \n",
    "* The [isapprox(...) function](https://docs.julialang.org/en/v1/base/math/#Base.isapprox) compares two values and returns `true` if the two values are equal to some absolute or relative tolerance, in this case, specified by the absolute tolerance `atol` variable. If `false` (values are not equal), an [AssertionError](https://docs.julialang.org/en/v1/base/base/#Core.AssertionError) is generated:"
   ]
  },
  {
   "cell_type": "code",
   "execution_count": 22,
   "id": "32d66ca6-5232-4acb-a25a-71024139f466",
   "metadata": {},
   "outputs": [],
   "source": [
    "observed_value_vega_long_call = 0.2159; # NVDA 61-DTE K = 136 long call after close 14-Jun-2024 \n",
    "@assert isapprox(observed_value_vega_long_call, vega_long_call, atol=1e-2) # good to the second decimal place, and sign is correct!"
   ]
  },
  {
   "cell_type": "markdown",
   "id": "9ee6c224-a26d-4907-a7f8-3ac658bd783b",
   "metadata": {},
   "source": [
    "### Rho\n",
    "Fill me in"
   ]
  },
  {
   "cell_type": "code",
   "execution_count": 24,
   "id": "263bb74a-ef12-4ae6-9ce4-6c5d689b306d",
   "metadata": {},
   "outputs": [
    {
     "data": {
      "text/plain": [
       "0.09299999999999997"
      ]
     },
     "execution_count": 24,
     "metadata": {},
     "output_type": "execute_result"
    }
   ],
   "source": [
    "rho_long_call = rho(call_option_model, h = h,  T = call_option_model.DTE, \n",
    "    σ = call_option_model.IV, Sₒ = Sₒ, μ = risk_free_rate)"
   ]
  },
  {
   "cell_type": "markdown",
   "id": "b1192b4b-d766-4d41-a178-e5035a44e5ee",
   "metadata": {},
   "source": [
    "#### Check: How good is our rho estimate?\n",
    "This option's observed `rho` value is `rho = 0.0950` (long call). Let's use the [Julia @assert macro](https://docs.julialang.org/en/v1/base/base/#Base.@assert) in combination with the [Julia isapprox(...) function](https://docs.julialang.org/en/v1/base/math/#Base.isapprox) to compare the computed and observed values. \n",
    "* The [isapprox(...) function](https://docs.julialang.org/en/v1/base/math/#Base.isapprox) compares two values and returns `true` if the two values are equal to some absolute or relative tolerance, in this case, specified by the absolute tolerance `atol` variable. If `false` (values are not equal), an [AssertionError](https://docs.julialang.org/en/v1/base/base/#Core.AssertionError) is generated:"
   ]
  },
  {
   "cell_type": "code",
   "execution_count": 26,
   "id": "09c34590-c9c0-4285-a1b4-52895429ca38",
   "metadata": {},
   "outputs": [],
   "source": [
    "observed_value_rho_long_call = 0.0950; # NVDA 61-DTE K = 136 long call after close 14-Jun-2024 \n",
    "@assert isapprox(observed_value_rho_long_call, rho_long_call, atol=1e-2) # good to the second decimal place, and sign is correct!"
   ]
  },
  {
   "cell_type": "markdown",
   "id": "adadce7d-fd9d-4276-9310-bb5b880b339a",
   "metadata": {
    "jp-MarkdownHeadingCollapsed": true
   },
   "source": [
    "### Gamma\n",
    "Fill me in"
   ]
  },
  {
   "cell_type": "code",
   "execution_count": 28,
   "id": "7fcf5dfa-8cfd-445e-b7b6-e7e9f7c0fa03",
   "metadata": {},
   "outputs": [
    {
     "data": {
      "text/plain": [
       "0.022999999999999687"
      ]
     },
     "execution_count": 28,
     "metadata": {},
     "output_type": "execute_result"
    }
   ],
   "source": [
    "gamma_long_call = gamma(call_option_model, h = h,  T = call_option_model.DTE, \n",
    "    σ = call_option_model.IV, Sₒ = Sₒ, μ = risk_free_rate)"
   ]
  },
  {
   "cell_type": "markdown",
   "id": "c2c72ebe-2092-4420-a18b-865c3682362d",
   "metadata": {},
   "source": [
    "## Task 2: Compute the Greeks for a Put Option\n",
    "Fill me in"
   ]
  },
  {
   "cell_type": "markdown",
   "id": "79eccea2-7a08-40fd-8b17-b7bf6d0d8f06",
   "metadata": {},
   "source": []
  },
  {
   "cell_type": "markdown",
   "id": "74c2ee7e-9f7c-4852-beb3-755bb6626c45",
   "metadata": {},
   "source": [
    "## Disclaimer and Risks\n",
    "__This content is offered solely for training and informational purposes__. No offer or solicitation to buy or sell securities or derivative products or any investment or trading advice or strategy is made, given, or endorsed by the teaching team. \n",
    "\n",
    "__Trading involves risk__. Carefully review your financial situation before investing in securities, futures contracts, options, or commodity interests. Past performance, whether actual or indicated by historical tests of strategies, is no guarantee of future performance or success. Trading is generally inappropriate for someone with limited resources, investment or trading experience, or a low-risk tolerance.  Only risk capital that is not required for living expenses.\n",
    "\n",
    "__You are fully responsible for any investment or trading decisions you make__. You should decide solely based on your financial circumstances, investment or trading objectives, risk tolerance, and liquidity needs."
   ]
  }
 ],
 "metadata": {
  "kernelspec": {
   "display_name": "Julia 1.10.4",
   "language": "julia",
   "name": "julia-1.10"
  },
  "language_info": {
   "file_extension": ".jl",
   "mimetype": "application/julia",
   "name": "julia",
   "version": "1.10.4"
  }
 },
 "nbformat": 4,
 "nbformat_minor": 5
}
