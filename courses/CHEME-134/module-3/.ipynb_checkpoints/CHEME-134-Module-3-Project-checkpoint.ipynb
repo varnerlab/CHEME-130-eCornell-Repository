{
 "cells": [
  {
   "cell_type": "markdown",
   "id": "7befdfa8-b6b5-4d9d-a4a4-9ceada147af2",
   "metadata": {},
   "source": [
    "# Project: Approximation of Option Premiums Using The Greeks\n",
    "We know that the option premium is a function of several market conditions, such as the underlying share price, the duration left on the contract, etc. We can construct a local model of the change for a call contract using the expansion:\n",
    "$$\n",
    "\\begin{equation}\n",
    "d\\mathcal{P}_{c} \\sim \\Delta_{c}\\cdot{d}{S}+\\frac{\\Gamma_{c}}{2}\\cdot\\left(d{S}\\right)^2 + \\Theta_{c}\\cdot{d}{T}+V_{c}\\cdot{d}\\sigma + \\rho\\cdot{d}{r}\n",
    "\\end{equation}\n",
    "$$\n",
    "where the values $\\Delta_{c}, \\Gamma_{c},  \\Theta_{c}, V$ and $\\rho$ denote [the Greeks](https://en.wikipedia.org/wiki/en:Greeks_(finance)?variant=zh-tw) we computed previously. In the case study below, we estimate the change in the premium $d\\mathcal{P}_{*}$, where $*\\in\\left\\{c,p\\right\\}$ by computing the scalar product between the Greek values vector and the change vector:\n",
    "$$\n",
    "d\\mathcal{P}_{*}\\sim\\left<\\mathcal{G}_{*},\\delta\\right>\\quad{*\\in\\left\\{c,p\\right\\}}\n",
    "$$\n",
    "where $\\left<\\cdot,\\cdot\\right>$ denotes the [inner or scalar product](https://en.wikipedia.org/wiki/Inner_product_space) between the Greek value vector:\n",
    "$$\n",
    "\\begin{equation}\n",
    "\\mathcal{G}_{*}\\equiv\\left(\\Delta_{*},\\Gamma_{*},\\Theta_{*},V_{*},\\rho_{*}\\right)\\quad{*\\in\\left\\{c,p\\right\\}}\n",
    "\\end{equation}\n",
    "$$\n",
    "and the market perturbation vector $\\delta$:\n",
    "$$\n",
    "\\delta\\equiv\\left(dS,1/2\\cdot{dS}^{2},dT,d\\sigma,dr\\right)\n",
    "$$\n",
    "\n",
    "## Learning objectives\n",
    "This project will familiarize students with using [the Greeks](https://en.wikipedia.org/wiki/en:Greeks_(finance)?variant=zh-tw) to compute how the price of `NVDA` option contracts change with market conditions, in particular the underlying share price $S$ and the implied volatility, denoted in this study by the symbol $\\sigma$.\n",
    "\n",
    "* __Prerequisites__: We'll begin by setting some parameters for the [CRR binomial lattice calculations for option premium](https://en.wikipedia.org/wiki/Binomial_options_pricing_model), data and models for the `NVDA` contracts, and finally we'll compute values for [the Greeks](https://en.wikipedia.org/wiki/en:Greeks_(finance)?variant=zh-tw) for example long `NVDA` call and put contracts.\n",
    "* __Task 1__: Compute changes in the premium for long `NVDA` call options.\n",
    "    * `Check`: How good are the Greek `NVDA` call premium projections?\n",
    "    * `Visualize` and discuss changes in the contract premium as a function of the underlying share price $S$ and the implied volatility $\\sigma$.\n",
    "* __Task 2__: Compute changes in the premium for long `NVDA` put options.\n",
    "    * `Check`: How good are the Greek `NVDA` put premium projections?\n",
    "    * `Visualize` and discuss changes in the contract premium as a function of the underlying share price $S$ and the implied volatility $\\sigma$. "
   ]
  },
  {
   "cell_type": "markdown",
   "id": "6bc5fc8e-5004-4395-92bf-e01352b1f228",
   "metadata": {},
   "source": [
    "## Setup\n",
    "Set up the computational environment by including the `Include.jl` file. The `Include.jl` file loads external packages, various functions we will use in the exercise, and custom types to model the components of our example problem.\n",
    "* For additional information on functions and types used in this material, see the [Julia programming language documentation](https://docs.julialang.org/en/v1/) and the [VLQuantitativeFinancePackage.jl documentation](https://github.com/varnerlab/VLQuantitativeFinancePackage.jl). "
   ]
  },
  {
   "cell_type": "code",
   "execution_count": 3,
   "id": "68cacc20-a6d2-4284-9018-f8b5896757e2",
   "metadata": {},
   "outputs": [
    {
     "name": "stderr",
     "output_type": "stream",
     "text": [
      "\u001b[32m\u001b[1m    Updating\u001b[22m\u001b[39m git-repo `https://github.com/varnerlab/VLQuantitativeFinancePackage.jl.git`\n",
      "\u001b[32m\u001b[1m   Resolving\u001b[22m\u001b[39m package versions...\n",
      "\u001b[32m\u001b[1m  No Changes\u001b[22m\u001b[39m to `~/Desktop/julia_work/CHEME-130-eCornell-Repository/courses/CHEME-134/module-3/Project.toml`\n",
      "\u001b[32m\u001b[1m  No Changes\u001b[22m\u001b[39m to `~/Desktop/julia_work/CHEME-130-eCornell-Repository/courses/CHEME-134/module-3/Manifest.toml`\n",
      "\u001b[32m\u001b[1m  Activating\u001b[22m\u001b[39m project at `~/Desktop/julia_work/CHEME-130-eCornell-Repository/courses/CHEME-134/module-3`\n",
      "\u001b[32m\u001b[1m  No Changes\u001b[22m\u001b[39m to `~/Desktop/julia_work/CHEME-130-eCornell-Repository/courses/CHEME-134/module-3/Project.toml`\n",
      "\u001b[32m\u001b[1m  No Changes\u001b[22m\u001b[39m to `~/Desktop/julia_work/CHEME-130-eCornell-Repository/courses/CHEME-134/module-3/Manifest.toml`\n",
      "\u001b[32m\u001b[1m    Updating\u001b[22m\u001b[39m registry at `~/.julia/registries/General.toml`\n",
      "\u001b[32m\u001b[1m    Updating\u001b[22m\u001b[39m git-repo `https://github.com/varnerlab/VLQuantitativeFinancePackage.jl.git`\n",
      "\u001b[32m\u001b[1m  No Changes\u001b[22m\u001b[39m to `~/Desktop/julia_work/CHEME-130-eCornell-Repository/courses/CHEME-134/module-3/Project.toml`\n",
      "\u001b[32m\u001b[1m  No Changes\u001b[22m\u001b[39m to `~/Desktop/julia_work/CHEME-130-eCornell-Repository/courses/CHEME-134/module-3/Manifest.toml`\n"
     ]
    }
   ],
   "source": [
    "include(\"Include.jl\")"
   ]
  },
  {
   "cell_type": "markdown",
   "id": "2b392c4e-f042-4e57-af61-c5be63622524",
   "metadata": {},
   "source": [
    "## Prerequisites\n",
    "Before we estimate how `call` and `put` option premiums change with market conditions using [the Greeks](https://en.wikipedia.org/wiki/en:Greeks_(finance)?variant=zh-tw), let's specify values for [the Greeks](https://en.wikipedia.org/wiki/en:Greeks_(finance)?variant=zh-tw) and some other parameters for our test `call` and `put` options on [NVIDIA Corporation](https://finance.yahoo.com/quote/NVDA/).\n",
    "* In the `prerequisites` section, we set parameters that we use in the [CRR binomial lattice calculations for option premium](https://en.wikipedia.org/wiki/Binomial_options_pricing_model), specify call and put contract models (instances of the [MyAmericanPutContractModel](https://varnerlab.github.io/VLQuantitativeFinancePackage.jl/dev/derivatives/#VLQuantitativeFinancePackage.MyAmericanPutContractModel) and [MyAmericanCallContractModel](https://varnerlab.github.io/VLQuantitativeFinancePackage.jl/dev/derivatives/#VLQuantitativeFinancePackage.MyAmericanCallContractModel) types) which hold data for the contracts, and compute values for [the Greeks](https://en.wikipedia.org/wiki/en:Greeks_(finance)?variant=zh-tw) for the contracts using the[delta](https://varnerlab.github.io/VLQuantitativeFinancePackage.jl/dev/derivatives/#VLQuantitativeFinancePackage.delta), \n",
    "[theta](https://varnerlab.github.io/VLQuantitativeFinancePackage.jl/dev/derivatives/#VLQuantitativeFinancePackage.theta),\n",
    "[vega](https://varnerlab.github.io/VLQuantitativeFinancePackage.jl/dev/derivatives/#VLQuantitativeFinancePackage.vega),\n",
    "[rho](https://varnerlab.github.io/VLQuantitativeFinancePackage.jl/dev/derivatives/#VLQuantitativeFinancePackage.delta) and \n",
    "[gamma](https://varnerlab.github.io/VLQuantitativeFinancePackage.jl/dev/derivatives/#VLQuantitativeFinancePackage.gamma) functions introduced in the worked example."
   ]
  },
  {
   "cell_type": "markdown",
   "id": "7a0faa57-5f9e-4ec6-b4b9-8fcc0bc06bb1",
   "metadata": {},
   "source": [
    "### Parameters and constants\n",
    "Let's set a value for the step size `Δt,` i.e., `1 day` in units of years (assuming a `365-day` year), the risk-free rate at the time we gathered the data for the option contracts; we approximate this value using the [yield on the 10-year Treasury Note](https://ycharts.com/indicators/10_year_treasury_rate). We also set a value for the underlying share price `Sₒ` and the number of levels in the binomial tree model, `h`; we assume 6-levels per day."
   ]
  },
  {
   "cell_type": "code",
   "execution_count": 210,
   "id": "c884cb63-f8f2-4131-9a7b-fabe43a61665",
   "metadata": {},
   "outputs": [],
   "source": [
    "Δt = (1/365);\n",
    "risk_free_rate = 0.0431; # yield 10-year treasury note on 13-Jun-2024\n",
    "Sₒ = 131.88; # after close on 14-Jun-2024 (close: 131.88)\n",
    "h = 366; # 6-points per trading day\n",
    "β = range(0.95,stop = 1.05, length=3) |> collect; # peturbation vector, values -5%, 0, +5%\n",
    "α = range(0.80,stop = 1.20, length=3) |> collect; # peturbation vector, values -20%, 0, +20%"
   ]
  },
  {
   "cell_type": "markdown",
   "id": "3696dfaa-68d2-4320-be71-0f32474cc45f",
   "metadata": {},
   "source": [
    "### Contract models\n",
    "Next, we construct contract models for the options in this example. We begin by building an instance of the [MyAmericanCallContractModel type](https://varnerlab.github.io/VLQuantitativeFinancePackage.jl/dev/derivatives/#VLQuantitativeFinancePackage.MyAmericanCallContractModel) using the [custom build(...) method for this type](https://varnerlab.github.io/VLQuantitativeFinancePackage.jl/dev/derivatives/#VLQuantitativeFinancePackage.build-Tuple{Type{MyAmericanCallContractModel},%20NamedTuple}). The [build(...) method](https://varnerlab.github.io/VLQuantitativeFinancePackage.jl/dev/derivatives/#VLQuantitativeFinancePackage.build-Tuple{Type{MyAmericanCallContractModel},%20NamedTuple}) takes two arguments: the type to build, and a [NamedTuple](https://docs.julialang.org/en/v1/base/base/#Core.NamedTuple) containing the strike price `K`, the `premium` paid for the option, the days to expiration `DTE` (units: years), the `sense = 1` (long), the number of contracts in the `copy` field and the implied volatility in the `IV` field.\n",
    "\n",
    "We save the call option contract model in the `call_option_model` variable:"
   ]
  },
  {
   "cell_type": "code",
   "execution_count": 8,
   "id": "d971d843-4231-463a-854a-37fc96907f29",
   "metadata": {},
   "outputs": [],
   "source": [
    "call_option_model = build(MyAmericanCallContractModel, (\n",
    "    K = 136.0, \n",
    "    premium = 9.23, # mark price\n",
    "    DTE = (61.0)*Δt,\n",
    "    sense = 1,\n",
    "    copy = 1,\n",
    "    IV = 0.4848\n",
    ")); # contract variables: accessed before market open 2024-06-16"
   ]
  },
  {
   "cell_type": "markdown",
   "id": "f243dcee-c9d0-4603-85e3-338675adce7d",
   "metadata": {},
   "source": [
    "The put contract, which is an instance of the [MyAmericanPutContractModel type](https://varnerlab.github.io/VLQuantitativeFinancePackage.jl/dev/derivatives/#VLQuantitativeFinancePackage.MyAmericanPutContractModel), is constructed in a similar way to the call option. We save the put option contract model in the `put_option_model` variable:"
   ]
  },
  {
   "cell_type": "code",
   "execution_count": 208,
   "id": "462acbf9-c6c8-4645-a4fb-6c0a64baee5e",
   "metadata": {},
   "outputs": [],
   "source": [
    "put_option_model = build(MyAmericanPutContractModel, (\n",
    "    K = 128.0, \n",
    "    premium = 7.78, # mark price\n",
    "    DTE = (61.0)*Δt,\n",
    "    sense = 1,\n",
    "    copy = 1,\n",
    "    IV = 0.4787\n",
    ")); # contract variables: accessed before market open 2024-06-16"
   ]
  },
  {
   "cell_type": "markdown",
   "id": "d9415ca9-31a2-4015-bdee-fc65e24935a8",
   "metadata": {},
   "source": [
    "### Calculate the Greek values\n",
    "Now that we have the contract models, we can compute [the Greek values](https://en.wikipedia.org/wiki/en:Greeks_(finance)?variant=zh-tw) and store them in the `long_greek_dictionary.` The `long_greek_dictionary` variable is a [Julia Dictionary type](https://docs.julialang.org/en/v1/base/collections/#Dictionaries), where the key is the [Julia Union type](https://docs.julialang.org/en/v1/base/base/#Core.Union) between the contract model types, i.e.,  [MyAmericanPutContractModel](https://varnerlab.github.io/VLQuantitativeFinancePackage.jl/dev/derivatives/#VLQuantitativeFinancePackage.MyAmericanPutContractModel) $\\cup$ [MyAmericanCallContractModel](https://varnerlab.github.io/VLQuantitativeFinancePackage.jl/dev/derivatives/#VLQuantitativeFinancePackage.MyAmericanCallContractModel) and the values are [NamedTuples](https://docs.julialang.org/en/v1/base/base/#Core.NamedTuple) holding the various Greek values.\n",
    "* __Union type, what the what?__ The [Julia Union type](https://docs.julialang.org/en/v1/base/base/#Core.Union) allows us to construct a composite type of sorts where we can use either a [MyAmericanPutContractModel](https://varnerlab.github.io/VLQuantitativeFinancePackage.jl/dev/derivatives/#VLQuantitativeFinancePackage.MyAmericanPutContractModel) __or__ a [MyAmericanCallContractModel](https://varnerlab.github.io/VLQuantitativeFinancePackage.jl/dev/derivatives/#VLQuantitativeFinancePackage.MyAmericanCallContractModel) as the key for the `long_greek_dictionary.` Wow, that is Nice!"
   ]
  },
  {
   "cell_type": "code",
   "execution_count": 12,
   "id": "b22c2b57-7c03-4dab-899f-3d839d17ae98",
   "metadata": {},
   "outputs": [],
   "source": [
    "long_greek_dictionary = Dict{Union{MyAmericanPutContractModel,MyAmericanCallContractModel}, NamedTuple}();"
   ]
  },
  {
   "cell_type": "markdown",
   "id": "3d97efa5-451a-482e-a01d-d950f2bdcb1f",
   "metadata": {},
   "source": [
    "Next, compute and store the Greek values for the `call` option in the `long_greek_dictionary` key'd by the `call_option_model` instance. To do this, we call the [delta](https://varnerlab.github.io/VLQuantitativeFinancePackage.jl/dev/derivatives/#VLQuantitativeFinancePackage.delta), \n",
    "[theta](https://varnerlab.github.io/VLQuantitativeFinancePackage.jl/dev/derivatives/#VLQuantitativeFinancePackage.theta),\n",
    "[vega](https://varnerlab.github.io/VLQuantitativeFinancePackage.jl/dev/derivatives/#VLQuantitativeFinancePackage.vega),\n",
    "[rho](https://varnerlab.github.io/VLQuantitativeFinancePackage.jl/dev/derivatives/#VLQuantitativeFinancePackage.delta) and \n",
    "[gamma](https://varnerlab.github.io/VLQuantitativeFinancePackage.jl/dev/derivatives/#VLQuantitativeFinancePackage.gamma) functions, with the appropriate contract model, i.e., the `call_option_model` variable for the call contract,  and the various lattice parameters: "
   ]
  },
  {
   "cell_type": "code",
   "execution_count": 14,
   "id": "9d5d2541-826a-4b7b-aeb1-248f13ce90e3",
   "metadata": {},
   "outputs": [],
   "source": [
    "long_greek_dictionary[call_option_model] = (\n",
    "    delta_value = delta(call_option_model, h = h,  T = call_option_model.DTE, \n",
    "        σ = call_option_model.IV, Sₒ = Sₒ, μ = risk_free_rate),\n",
    "    theta_value = theta(call_option_model, h = h,  T = call_option_model.DTE, \n",
    "        σ = call_option_model.IV, Sₒ = Sₒ, μ = risk_free_rate),\n",
    "    vega_value = vega(call_option_model, h = h,  T = call_option_model.DTE, \n",
    "        σ = call_option_model.IV, Sₒ = Sₒ, μ = risk_free_rate),\n",
    "    rho_value = rho(call_option_model, h = h,  T = call_option_model.DTE, \n",
    "        σ = call_option_model.IV, Sₒ = Sₒ, μ = risk_free_rate),\n",
    "    gamma_value = gamma(call_option_model, h = h,  T = call_option_model.DTE, \n",
    "        σ = call_option_model.IV, Sₒ = Sₒ, μ = risk_free_rate));"
   ]
  },
  {
   "cell_type": "markdown",
   "id": "8462cf1e-d827-4741-b4fc-aac390af17ab",
   "metadata": {},
   "source": [
    "Similarly, we compute and store the Greek values for the `put` option in the `long_greek_dictionary` key'd in this case by the `put_option_model` instance, and using the `put_option_model` instance in the various functions:"
   ]
  },
  {
   "cell_type": "code",
   "execution_count": 235,
   "id": "49652e39-6f04-49cf-80c9-a26d413f623f",
   "metadata": {},
   "outputs": [],
   "source": [
    "long_greek_dictionary[put_option_model] = (\n",
    "    delta_value = delta(put_option_model, h = h,  T = put_option_model.DTE, \n",
    "        σ = put_option_model.IV, Sₒ = Sₒ, μ = risk_free_rate),\n",
    "    theta_value = theta(put_option_model, h = h,  T = put_option_model.DTE, \n",
    "        σ = put_option_model.IV, Sₒ = Sₒ, μ = risk_free_rate),\n",
    "    vega_value = vega(put_option_model, h = h,  T = put_option_model.DTE, \n",
    "        σ = put_option_model.IV, Sₒ = Sₒ, μ = risk_free_rate),\n",
    "    rho_value = rho(put_option_model, h = h,  T = put_option_model.DTE, \n",
    "        σ = put_option_model.IV, Sₒ = Sₒ, μ = risk_free_rate),\n",
    "    gamma_value = gamma(put_option_model, h = h,  T = put_option_model.DTE, \n",
    "        σ = put_option_model.IV, Sₒ = Sₒ, μ = risk_free_rate));"
   ]
  },
  {
   "cell_type": "markdown",
   "id": "4aaf1415-1fa3-4cb8-8f37-b4746e45dcc7",
   "metadata": {},
   "source": [
    "## Task 1: Compute changes in the premium for long call options\n",
    "Let's use [the Greeks](https://en.wikipedia.org/wiki/en:Greeks_(finance)?variant=zh-tw) to explore how the price of an `NVDA` long call contract changes with changes in the underlying share price and the implied volatility of the contract. First, access the `long_greek_dictionary,` pull out the Greek values for this contract from the `call_greek_tuple` [NamedTuple data structure](https://docs.julialang.org/en/v1/base/base/#Core.NamedTuple), and manually put them in the `call_greek_vector` variable. \n",
    "* __Why this order__? We choose an arbitrary order for the Greek values according to the market variable we are interested in: the underlying share price, the duration left on the contract, the implied volatility, and the risk-free rate. There is nothing magical about this order. However, below, when we compute the $\\delta$-vector, the variables must be in this order. "
   ]
  },
  {
   "cell_type": "code",
   "execution_count": 18,
   "id": "9e0f7f31-f26d-471c-acc5-f6cc239c9f55",
   "metadata": {},
   "outputs": [],
   "source": [
    "call_greek_tuple = long_greek_dictionary[call_option_model];\n",
    "call_greek_vector = [\n",
    "    call_greek_tuple.delta_value,\n",
    "    call_greek_tuple.gamma_value,\n",
    "    call_greek_tuple.theta_value,\n",
    "    call_greek_tuple.vega_value,\n",
    "    call_greek_tuple.rho_value\n",
    "];"
   ]
  },
  {
   "cell_type": "markdown",
   "id": "d5e47ec6-ca41-4212-a494-3fa44182e3f2",
   "metadata": {},
   "source": [
    "__Main simulation loop__: In the code block below, we calculate the scaled change in the call option premium, denoted as $\\Delta\\mathcal{P}/\\mathcal{P}_{\\circ}$, resulting from different underlying share prices and implied volatility values using nested `for-loops.`\n",
    "* First, we initialize the `long_call_simulation_array::Array{Float64,2}` array which holds the $\\Delta\\mathcal{P}/\\mathcal{P}_{\\circ}$ values. We then define the `IVₒ` and `Pₒ` variables, which hold the default implied volatility and option premium values.\n",
    "* In the outer loop with index `i`, we select a perturbation value $\\beta_{i}\\in\\beta$ for the share price $S$, while in the inner loop with index `j,` we select a perturbation value $\\alpha_{j}\\in\\alpha$ for the implied volatility.\n",
    "* On lines `8-10`, we compute the `δ_vector` and then calculate the scalar product between the `call_greek_vector` and the `δ-vector` using the [Julia dot(...) function exported by LinearAlgebra.jl](https://docs.julialang.org/en/v1/stdlib/LinearAlgebra/#LinearAlgebra.dot)."
   ]
  },
  {
   "cell_type": "code",
   "execution_count": 20,
   "id": "1c4edd70-7ea2-4626-b149-af77b70c5a4d",
   "metadata": {},
   "outputs": [],
   "source": [
    "long_call_simulation_array = Array{Float64,2}(undef,length(β),length(α));\n",
    "IVₒ = call_option_model.IV;\n",
    "Pₒ = call_option_model.premium\n",
    "for i ∈ eachindex(β)\n",
    "    β_outer = β[i];\n",
    "    for j ∈ eachindex(α)\n",
    "        α_inner = α[j];         \n",
    "        δ_vector = [\n",
    "            (β_outer - 1)*Sₒ, (1/2)*((β_outer - 1)*Sₒ)^2, 0, 100*(α_inner - 1)*IVₒ, 0 # Hmm. What is going on here?\n",
    "        ];\n",
    "        long_call_simulation_array[i,j] = dot(call_greek_vector, δ_vector)/Pₒ\n",
    "    end\n",
    "end"
   ]
  },
  {
   "cell_type": "markdown",
   "id": "4f13bdfe-ec51-41ac-99f1-a23a42306379",
   "metadata": {},
   "source": [
    "### Check: How good are the Greek call premium projections?\n",
    "The Greeks provide a tool to estimate the premium of an options contract based on market conditions, such as changes in implied volatility or the underlying stock price. However, the accuracy of these approximations is unknown.\n",
    "\n",
    " * __Test 1__: Calculate the premium change for the long `NVDA` call option when there is a `+20%` change in implied volatility (and the nominal underlying share price), using the binomial options pricing model. After obtaining the results, find the percentage difference between the Greek and binomial calculations. Finally, verify if the two values differ by less than $\\pm$ `5%` using the [Julia @assert macro](https://docs.julialang.org/en/v1/base/base/#Base.@assert).\n",
    "\n",
    " * __Test 2__: Calculate the change in the premium of the long `NVDA` call contract for a `-5%` change in the underlying share price, using the binomial options pricing model with a nominal value for the implied volatility. After that, find the percentage difference between the Greek and binomial calculations, and then check if the two values differ by less than $\\pm$ `5%`, using the [Julia @assert macro](https://docs.julialang.org/en/v1/base/base/#Base.@assert)\n",
    "\n",
    "`Unhide` the code below to see how we performed __Test 1__."
   ]
  },
  {
   "cell_type": "code",
   "execution_count": 24,
   "id": "baafdf3c-7687-47eb-a930-dbfbf9438ef5",
   "metadata": {
    "jupyter": {
     "source_hidden": true
    }
   },
   "outputs": [],
   "source": [
    "let\n",
    "    σₒ = call_option_model.IV; # nominal IV\n",
    "    σ₁ = σₒ*1.2; # 20% increase in the IV\n",
    "\n",
    "    # tree models -\n",
    "    mₒ = build(MyAdjacencyBasedCRREquityPriceTree, \n",
    "        (μ = risk_free_rate, T = call_option_model.DTE, σ = σₒ)) |> (x-> populate(x, Sₒ = Sₒ, h = h)); # nominal\n",
    "\n",
    "    m₁ = build(MyAdjacencyBasedCRREquityPriceTree, \n",
    "        (μ = risk_free_rate, T = call_option_model.DTE, σ = σ₁)) |> (x-> populate(x, Sₒ = Sₒ, h = h)); # perturbed\n",
    "\n",
    "    # premium -\n",
    "    Pₒ = premium(call_option_model, mₒ); # nominal premium\n",
    "    P₁ = premium(call_option_model, m₁); # perturbed premium\n",
    "\n",
    "    # calculate the diff -\n",
    "    diff_binomial = (P₁ - Pₒ)/Pₒ;\n",
    "    diff_greek = long_call_simulation_array[2,3];\n",
    "\n",
    "    # report -\n",
    "    @assert abs((diff_binomial - diff_greek)) ≤ 0.05; # less than a 5% error?\n",
    "end"
   ]
  },
  {
   "cell_type": "markdown",
   "id": "5f987257-c4e2-446b-ac00-4be56d69e607",
   "metadata": {},
   "source": [
    "`Unhide` the code below to see how we performed __Test 2__."
   ]
  },
  {
   "cell_type": "code",
   "execution_count": 26,
   "id": "72b5dc47-ff6e-4f08-9329-56ee0b76a31a",
   "metadata": {
    "jupyter": {
     "source_hidden": true
    }
   },
   "outputs": [],
   "source": [
    "let\n",
    "\n",
    "    # underlying price\n",
    "    S₁ = 0.95*Sₒ \n",
    "    \n",
    "    # tree models -\n",
    "    mₒ = build(MyAdjacencyBasedCRREquityPriceTree, \n",
    "        (μ = risk_free_rate, T = call_option_model.DTE, σ = call_option_model.IV)) |> (x-> populate(x, Sₒ = Sₒ, h = h)); # nominal\n",
    "\n",
    "    m₁ = build(MyAdjacencyBasedCRREquityPriceTree, \n",
    "        (μ = risk_free_rate, T = call_option_model.DTE, σ = call_option_model.IV)) |> (x-> populate(x, Sₒ = S₁, h = h)); # perturbed\n",
    "\n",
    "    # premium -\n",
    "    Pₒ = premium(call_option_model, mₒ); # nominal premium\n",
    "    P₁ = premium(call_option_model, m₁); # perturbed premium\n",
    "\n",
    "    # calculate the diff -\n",
    "    diff_binomial = (P₁ - Pₒ)/Pₒ;\n",
    "    diff_greek = long_call_simulation_array[1,2];\n",
    "\n",
    "    # report -\n",
    "    @assert abs((diff_binomial - diff_greek)) ≤ 0.05; # less than a 5% error?\n",
    "end"
   ]
  },
  {
   "cell_type": "markdown",
   "id": "e6cf5141-b4da-4c17-81fd-44aa06676af4",
   "metadata": {},
   "source": [
    "### Visualize\n",
    "`Unhide` the code block below to see how we constructed the table holding [the Greek](https://en.wikipedia.org/wiki/en:Greeks_(finance)?variant=zh-tw) premium calculations using the [the pretty_table(...) function exported by PrettyTables.jl package](https://github.com/ronisbr/PrettyTables.jl).\n",
    "* __Summary share price $S$__: When you hold a long call option, it's similar to owning the underlying shares. The change in the option price as a function of the change in the underlying share price can be approximated as:\n",
    "$$\n",
    "\\begin{equation}\n",
    "d\\mathcal{P}_{c}\\sim\\Delta_{c}\\cdot{d}{S}+\\frac{\\Gamma_{c}}{2}\\cdot\\left(d{S}\\right)^2\n",
    "\\end{equation}\n",
    "$$\n",
    "assuming all other factors remain constant. Since $\\Delta_{c}>0$ and $\\Gamma_{c}>0$ for the long `NVDA` call contract, the option price moves in the same direction as changes in the underlying share price $\\partial{S}$. Thus, the long `NVDA` call makes a `bullish` directional assumption.\n",
    "* __Summary implied volatility IV__: When you hold a long call option, you are hoping for the option's price to increase so that you can sell it for more than you paid for it before it expires. Assuming there are no changes in other market variables, the change in the option price due to a change in implied volatility (represented by the symbol $\\sigma$ in the Greek expansion) can be approximated as:\n",
    "$$\n",
    "\\begin{equation}\n",
    "d\\mathcal{P}_{c}\\sim{V}_{c}\\cdot{d}{\\sigma}\n",
    "\\end{equation}\n",
    "$$\n",
    "For a long `NVDA` call, since $V_{c}>0$, an increase in implied volatility ($d\\sigma>0$) leads to an increase in the option value, while a decrease in implied volatility ($d\\sigma<0$) reduces the price of the long `NVDA` call contract."
   ]
  },
  {
   "cell_type": "code",
   "execution_count": 22,
   "id": "ea222471-fd82-4553-a323-ff59b543c3fb",
   "metadata": {
    "jupyter": {
     "source_hidden": true
    }
   },
   "outputs": [
    {
     "name": "stdout",
     "output_type": "stream",
     "text": [
      "┌───────────┬───────────┬────────────┬────────────┐\n",
      "│\u001b[1m           \u001b[0m│\u001b[1m   -20% IV \u001b[0m│\u001b[1m nominal IV \u001b[0m│\u001b[1m    +20% IV \u001b[0m│\n",
      "├───────────┼───────────┼────────────┼────────────┤\n",
      "│     -5% S │  -0.52422 │  -0.297315 │ -0.0704098 │\n",
      "│ nominal S │ -0.226905 │        0.0 │   0.226905 │\n",
      "│     +5% S │  0.178759 │   0.405664 │   0.632569 │\n",
      "└───────────┴───────────┴────────────┴────────────┘\n"
     ]
    }
   ],
   "source": [
    "let\n",
    "    (R,C) = size(long_call_simulation_array)\n",
    "    pretty_table_data = Array{Any,2}(undef, R, C+1)\n",
    "    \n",
    "    # first col holds labels -\n",
    "    for i ∈ 1:R\n",
    "        if (i == 1)\n",
    "            pretty_table_data[i,1] = \"-5% S\";\n",
    "        elseif (i == 3)\n",
    "            pretty_table_data[i,1] = \"+5% S\";\n",
    "        else\n",
    "            pretty_table_data[i,1] = \"nominal S\";\n",
    "        end\n",
    "    end\n",
    "    \n",
    "    for i = 1:R\n",
    "        for j = 1:C\n",
    "            pretty_table_data[i,j+1] = long_call_simulation_array[i,j]\n",
    "        end\n",
    "    end\n",
    "    \n",
    "    header_data = ([\"\", \"-20% IV\", \"nominal IV\", \"+20% IV\"])\n",
    "    pretty_table(pretty_table_data, header=header_data)\n",
    "end"
   ]
  },
  {
   "cell_type": "markdown",
   "id": "af033f99-6653-430e-9a49-2a021d158866",
   "metadata": {},
   "source": [
    "## Task 2: Compute changes in the premium for long-put options\n",
    "Following the procedure for the call option above, we begin by populating the `put_greek_vector` variable by accessing the `put_greek_tuple` [NamedTuple data structure](https://docs.julialang.org/en/v1/base/base/#Core.NamedTuple) from the `long_greek_dictionary.`  The Greek values are in the same order as the $\\delta$-vector:"
   ]
  },
  {
   "cell_type": "code",
   "execution_count": 173,
   "id": "dc8d0916-7797-4b64-b471-083218fbed47",
   "metadata": {},
   "outputs": [],
   "source": [
    "put_greek_tuple = long_greek_dictionary[put_option_model]; # we pass the put_option_model for put data\n",
    "put_greek_vector = [\n",
    "    put_greek_tuple.delta_value,\n",
    "    put_greek_tuple.gamma_value,\n",
    "    put_greek_tuple.theta_value,\n",
    "    put_greek_tuple.vega_value,\n",
    "    put_greek_tuple.rho_value\n",
    "];"
   ]
  },
  {
   "cell_type": "markdown",
   "id": "0eee4b8d-5ab1-4f9a-8c83-47cced68a844",
   "metadata": {},
   "source": [
    "__Main simulation loop__: In the code block below, we calculate the scaled change in the put option premium, denoted as $\\Delta\\mathcal{P}/\\mathcal{P}_{\\circ}$, resulting from different underlying share prices and implied volatility values using nested `for-loops.`\n",
    "* This logic follows the same ideas as the call option case shown above, with the exception that we are using data for the `NVDA` put option and storing data in the `long_put_simulation_array::Array{Float64,2}` variable:"
   ]
  },
  {
   "cell_type": "code",
   "execution_count": 46,
   "id": "9ee66fe6-fd93-42df-834c-987454a31ef9",
   "metadata": {},
   "outputs": [],
   "source": [
    "long_put_simulation_array = Array{Float64,2}(undef,length(β),length(α));\n",
    "IVₒ = put_option_model.IV;\n",
    "Pₒ = put_option_model.premium\n",
    "for i ∈ eachindex(β)\n",
    "    β_outer = β[i];\n",
    "    for j ∈ eachindex(α)\n",
    "        α_inner = α[j];         \n",
    "        δ_vector = [\n",
    "            (β_outer - 1)*Sₒ, (1/2)*((β_outer - 1)*Sₒ)^2, 0, 100*(α_inner - 1)*IVₒ, 0 # do you understand this?\n",
    "        ];\n",
    "        long_put_simulation_array[i,j] = dot(put_greek_vector, δ_vector)/Pₒ\n",
    "    end\n",
    "end"
   ]
  },
  {
   "cell_type": "markdown",
   "id": "d28a6feb-71a8-4be6-89e0-78118d0adbf9",
   "metadata": {},
   "source": [
    "### Check: How good are the Greek put premium projections?\n",
    "Write tests to assess the accuracy of [the Greek]() premium approximation for long `NVDA` put options.\n",
    "\n",
    " * __Test 1__: Calculate the premium change for the long `NVDA` call option when there is a `+20%` change in implied volatility (and the nominal underlying share price), using the binomial options pricing model. After obtaining the results, find the percentage difference between the Greek and binomial calculations. Finally, verify if the two values differ by less than $\\pm$ `5%` using the [Julia @assert macro](https://docs.julialang.org/en/v1/base/base/#Base.@assert).\n",
    "\n",
    " * __Test 2__: Calculate the change in the premium of the long `NVDA` call contract for a `-5%` change in the underlying share price, using the binomial options pricing model with a nominal value for the implied volatility. After that, find the percentage difference between the Greek and binomial calculations, and then check if the two values differ by less than $\\pm$ `5%`, using the [Julia @assert macro](https://docs.julialang.org/en/v1/base/base/#Base.@assert)\n",
    "\n",
    "`Enter` the code below to perform __Test 1__ for the `NVDA` put option:"
   ]
  },
  {
   "cell_type": "code",
   "execution_count": 270,
   "id": "c8acbbaa-c0dc-4607-aa78-10e880da6453",
   "metadata": {},
   "outputs": [],
   "source": [
    "let\n",
    "    # Students: input Test 1 logic here for put; see call example above\n",
    "end"
   ]
  },
  {
   "cell_type": "markdown",
   "id": "aa46a47c-c7ea-4625-9424-f05f8a2aee41",
   "metadata": {},
   "source": [
    "`Enter` the code below to perform __Test 2__ for the `NVDA` put option:"
   ]
  },
  {
   "cell_type": "code",
   "execution_count": 268,
   "id": "37654aef-1a78-49fd-9eaa-f258c7a8f7ac",
   "metadata": {},
   "outputs": [],
   "source": [
    "let\n",
    "    # Students: Input Test 2 logic here for put; see call example above\n",
    "end"
   ]
  },
  {
   "cell_type": "markdown",
   "id": "3156805e-e1ba-4711-b387-8c6e333af031",
   "metadata": {},
   "source": [
    "### Visualize\n",
    "`Unhide` the code block below to see how we constructed the table holding [the Greek](https://en.wikipedia.org/wiki/en:Greeks_(finance)?variant=zh-tw) premium calculations using the [the pretty_table(...) function exported by PrettyTables.jl package](https://github.com/ronisbr/PrettyTables.jl)\n",
    "* __Summary share price $S$__: When you hold a long put option, it means you are effectively shorting the underlying shares. Similar to a call option, the change in the option price in response to a change in the underlying share price can be roughly estimated by the following equation:\n",
    "$$\n",
    "\\begin{equation}\n",
    "d\\mathcal{P}_{p}\\sim\\Delta_{p}\\cdot{d}{S}+\\frac{\\Gamma_{p}}{2}\\cdot\\left(d{S}\\right)^2\n",
    "\\end{equation}\n",
    "$$\n",
    "assuming all other factors remain constant. Since $\\Delta_{p}<0$ and $\\Gamma_{p}>0$, but $|\\Delta_{p}|\\gg|\\Gamma_{p}|$ for the long `NVDA` put contract, it means that the option price moves in the opposite direction of the underlying share price $\\partial{S}$, and the long `NVDA` put reflects a bearish directional assumption.\n",
    "* __Summary implied volatility IV__: When you hold a long call option, you are hoping for the option's price to increase so that you can sell it for more than you paid for it before it expires. Assuming there are no changes in other market variables, the change in the option price due to a change in implied volatility (represented by the symbol $\\sigma$ in the Greek expansion) can be approximated as:\n",
    "$$\n",
    "\\begin{equation}\n",
    "d\\mathcal{P}_{p}\\sim{V}_{p}\\cdot{d}{\\sigma}\n",
    "\\end{equation}\n",
    "$$\n",
    "For a long `NVDA` call, since $V_{c}>0$, an increase in implied volatility ($\\partial\\sigma>0$) leads to an increase in the option value, while a decrease in implied volatility ($\\partial\\sigma<0$) reduces the price of the long `NVDA` call contract."
   ]
  },
  {
   "cell_type": "code",
   "execution_count": 51,
   "id": "c83b65d7-842c-494e-bb73-34714b4bd1ac",
   "metadata": {
    "jupyter": {
     "source_hidden": true
    }
   },
   "outputs": [
    {
     "name": "stdout",
     "output_type": "stream",
     "text": [
      "┌───────────┬───────────┬────────────┬────────────┐\n",
      "│\u001b[1m           \u001b[0m│\u001b[1m   -20% IV \u001b[0m│\u001b[1m nominal IV \u001b[0m│\u001b[1m    +20% IV \u001b[0m│\n",
      "├───────────┼───────────┼────────────┼────────────┤\n",
      "│     -5% S │  0.130008 │    0.38474 │   0.639473 │\n",
      "│ nominal S │ -0.254732 │        0.0 │   0.254732 │\n",
      "│     +5% S │ -0.527697 │  -0.272964 │ -0.0182321 │\n",
      "└───────────┴───────────┴────────────┴────────────┘\n"
     ]
    }
   ],
   "source": [
    "let\n",
    "    (R,C) = size(long_put_simulation_array)\n",
    "    pretty_table_data = Array{Any,2}(undef, R, C+1)\n",
    "    \n",
    "    # first col holds labels -\n",
    "    for i ∈ 1:R\n",
    "        if (i == 1)\n",
    "            pretty_table_data[i,1] = \"-5% S\";\n",
    "        elseif (i == 3)\n",
    "            pretty_table_data[i,1] = \"+5% S\";\n",
    "        else\n",
    "            pretty_table_data[i,1] = \"nominal S\";\n",
    "        end\n",
    "    end\n",
    "    \n",
    "    for i = 1:R\n",
    "        for j = 1:C\n",
    "            pretty_table_data[i,j+1] = long_put_simulation_array[i,j]\n",
    "        end\n",
    "    end\n",
    "    \n",
    "    header_data = ([\"\", \"-20% IV\", \"nominal IV\", \"+20% IV\"])\n",
    "    pretty_table(pretty_table_data, header=header_data)\n",
    "end"
   ]
  },
  {
   "cell_type": "markdown",
   "id": "74d25fd7-bfaf-492b-8214-e74f34fb6346",
   "metadata": {},
   "source": [
    "## Disclaimer and Risks\n",
    "__This content is offered solely for training and informational purposes__. No offer or solicitation to buy or sell securities or derivative products or any investment or trading advice or strategy is made, given, or endorsed by the teaching team. \n",
    "\n",
    "__Trading involves risk__. Carefully review your financial situation before investing in securities, futures contracts, options, or commodity interests. Past performance, whether actual or indicated by historical tests of strategies, is no guarantee of future performance or success. Trading is generally inappropriate for someone with limited resources, investment or trading experience, or a low-risk tolerance.  Only risk capital that is not required for living expenses.\n",
    "\n",
    "__You are fully responsible for any investment or trading decisions you make__. You should decide solely based on your financial circumstances, investment or trading objectives, risk tolerance, and liquidity needs."
   ]
  }
 ],
 "metadata": {
  "kernelspec": {
   "display_name": "Julia 1.10.4",
   "language": "julia",
   "name": "julia-1.10"
  },
  "language_info": {
   "file_extension": ".jl",
   "mimetype": "application/julia",
   "name": "julia",
   "version": "1.10.4"
  }
 },
 "nbformat": 4,
 "nbformat_minor": 5
}
