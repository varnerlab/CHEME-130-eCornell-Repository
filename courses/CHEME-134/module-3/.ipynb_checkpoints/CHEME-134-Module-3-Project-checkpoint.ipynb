{
 "cells": [
  {
   "cell_type": "markdown",
   "id": "7befdfa8-b6b5-4d9d-a4a4-9ceada147af2",
   "metadata": {},
   "source": [
    "# Project: Approximation of Option Premiums Using The Greeks\n",
    "Fill me in"
   ]
  },
  {
   "cell_type": "markdown",
   "id": "6bc5fc8e-5004-4395-92bf-e01352b1f228",
   "metadata": {},
   "source": [
    "## Setup\n",
    "Set up the computational environment by including the `Include.jl` file. The `Include.jl` file loads external packages, various functions we will use in the exercise, and custom types to model the components of our example problem.\n",
    "* For additional information on functions and types used in this material, see the [Julia programming language documentation](https://docs.julialang.org/en/v1/) and the [VLQuantitativeFinancePackage.jl documentation](https://github.com/varnerlab/VLQuantitativeFinancePackage.jl). "
   ]
  },
  {
   "cell_type": "code",
   "execution_count": 3,
   "id": "68cacc20-a6d2-4284-9018-f8b5896757e2",
   "metadata": {},
   "outputs": [
    {
     "name": "stderr",
     "output_type": "stream",
     "text": [
      "\u001b[32m\u001b[1m    Updating\u001b[22m\u001b[39m git-repo `https://github.com/varnerlab/VLQuantitativeFinancePackage.jl.git`\n",
      "\u001b[32m\u001b[1m   Resolving\u001b[22m\u001b[39m package versions...\n",
      "\u001b[32m\u001b[1m  No Changes\u001b[22m\u001b[39m to `~/Desktop/julia_work/CHEME-130-eCornell-Repository/courses/CHEME-134/module-3/Project.toml`\n",
      "\u001b[32m\u001b[1m  No Changes\u001b[22m\u001b[39m to `~/Desktop/julia_work/CHEME-130-eCornell-Repository/courses/CHEME-134/module-3/Manifest.toml`\n",
      "\u001b[32m\u001b[1m  Activating\u001b[22m\u001b[39m project at `~/Desktop/julia_work/CHEME-130-eCornell-Repository/courses/CHEME-134/module-3`\n",
      "\u001b[32m\u001b[1m  No Changes\u001b[22m\u001b[39m to `~/Desktop/julia_work/CHEME-130-eCornell-Repository/courses/CHEME-134/module-3/Project.toml`\n",
      "\u001b[32m\u001b[1m  No Changes\u001b[22m\u001b[39m to `~/Desktop/julia_work/CHEME-130-eCornell-Repository/courses/CHEME-134/module-3/Manifest.toml`\n",
      "\u001b[32m\u001b[1m    Updating\u001b[22m\u001b[39m registry at `~/.julia/registries/General.toml`\n",
      "\u001b[32m\u001b[1m    Updating\u001b[22m\u001b[39m git-repo `https://github.com/varnerlab/VLQuantitativeFinancePackage.jl.git`\n",
      "\u001b[32m\u001b[1m  No Changes\u001b[22m\u001b[39m to `~/Desktop/julia_work/CHEME-130-eCornell-Repository/courses/CHEME-134/module-3/Project.toml`\n",
      "\u001b[32m\u001b[1m    Updating\u001b[22m\u001b[39m `~/Desktop/julia_work/CHEME-130-eCornell-Repository/courses/CHEME-134/module-3/Manifest.toml`\n",
      "  \u001b[90m[c3611d14] \u001b[39m\u001b[93m↑ ColorVectorSpace v0.9.10 ⇒ v0.10.0\u001b[39m\n",
      "\u001b[32m\u001b[1mPrecompiling\u001b[22m\u001b[39m project...\n",
      "\u001b[32m  ✓ \u001b[39mPlots\n",
      "\u001b[32m  ✓ \u001b[39m\u001b[90mPlots → FileIOExt\u001b[39m\n",
      "\u001b[32m  ✓ \u001b[39m\u001b[90mPlots → UnitfulExt\u001b[39m\n",
      "\u001b[32m  ✓ \u001b[39mStatsPlots\n",
      "  4 dependencies successfully precompiled in 31 seconds. 279 already precompiled.\n",
      "\u001b[36m\u001b[1m[ \u001b[22m\u001b[39m\u001b[36m\u001b[1mInfo: \u001b[22m\u001b[39mPrecompiling IJuliaExt [2f4121a4-3b3a-5ce6-9c5e-1f2673ce168a]\n"
     ]
    }
   ],
   "source": [
    "include(\"Include.jl\")"
   ]
  },
  {
   "cell_type": "markdown",
   "id": "2b392c4e-f042-4e57-af61-c5be63622524",
   "metadata": {},
   "source": [
    "## Prerequisites\n",
    "Before we estimate how `call` and `put` option premiums change with market conditions using [the Greeks](https://en.wikipedia.org/wiki/en:Greeks_(finance)?variant=zh-tw), let's specify values for [the Greeks](https://en.wikipedia.org/wiki/en:Greeks_(finance)?variant=zh-tw) and some other parameters for our test `call` and `put` options on [NVIDIA Corporation](https://finance.yahoo.com/quote/NVDA/)."
   ]
  },
  {
   "cell_type": "markdown",
   "id": "7a0faa57-5f9e-4ec6-b4b9-8fcc0bc06bb1",
   "metadata": {},
   "source": [
    "### Parameters and constants\n",
    "Let's set a value for the step size `Δt,` i.e., `1 day` in units of years (assuming a `365-day` year), the risk-free rate at the time we gathered the data for the option contracts; we approximate this value using the [yield on the 10-year Treasury Note](https://ycharts.com/indicators/10_year_treasury_rate). We also set a value for the underlying share price `Sₒ` and the number of levels in the binomial tree model, `h`; we assume 6-levels per day."
   ]
  },
  {
   "cell_type": "code",
   "execution_count": 109,
   "id": "c884cb63-f8f2-4131-9a7b-fabe43a61665",
   "metadata": {},
   "outputs": [],
   "source": [
    "Δt = (1/365);\n",
    "risk_free_rate = 0.0431; # yield 10-year treasury note on 13-Jun-2024\n",
    "Sₒ = 131.88; # after close on 14-Jun-2024 (close: 131.88)\n",
    "h = 366; # 6-points per trading day\n",
    "β = range(0.95,stop = 1.05, length=3) |> collect; # peturbation vector\n",
    "α = range(0.80,stop = 1.20, length=3) |> collect; # peturbation vector"
   ]
  },
  {
   "cell_type": "markdown",
   "id": "3696dfaa-68d2-4320-be71-0f32474cc45f",
   "metadata": {},
   "source": [
    "### Contract models\n",
    "Next, we construct contract models for the options in this example. We begin by building an instance of the [MyAmericanCallContractModel type](https://varnerlab.github.io/VLQuantitativeFinancePackage.jl/dev/derivatives/#VLQuantitativeFinancePackage.MyAmericanCallContractModel) using the [custom build(...) method](https://varnerlab.github.io/VLQuantitativeFinancePackage.jl/dev/derivatives/#VLQuantitativeFinancePackage.build-Tuple{Type{MyAmericanCallContractModel},%20NamedTuple}). The [build(...) method](https://varnerlab.github.io/VLQuantitativeFinancePackage.jl/dev/derivatives/#VLQuantitativeFinancePackage.build-Tuple{Type{MyAmericanCallContractModel},%20NamedTuple}) takes two arguments: the type to build, and a [NamedTuple](https://docs.julialang.org/en/v1/base/base/#Core.NamedTuple) containing the strike price `K`, the `premium` paid for the option, the days to expiration `DTE` (units: years), the `sense = 1` (long), the number of contracts in the `copy` field and the implied volatility in the `IV` field.\n",
    "\n",
    "We save the call option contract model in the `call_option_model` variable:"
   ]
  },
  {
   "cell_type": "code",
   "execution_count": 8,
   "id": "d971d843-4231-463a-854a-37fc96907f29",
   "metadata": {},
   "outputs": [],
   "source": [
    "call_option_model = build(MyAmericanCallContractModel, (\n",
    "    K = 136.0, \n",
    "    premium = 9.23, # mark price\n",
    "    DTE = (61.0)*Δt,\n",
    "    sense = 1,\n",
    "    copy = 1,\n",
    "    IV = 0.4848\n",
    "));"
   ]
  },
  {
   "cell_type": "markdown",
   "id": "f243dcee-c9d0-4603-85e3-338675adce7d",
   "metadata": {},
   "source": [
    "The put contract, which is an instance of the [MyAmericanPutContractModel type](https://varnerlab.github.io/VLQuantitativeFinancePackage.jl/dev/derivatives/#VLQuantitativeFinancePackage.MyAmericanPutContractModel), is constructed in a similar way to the call option. We save the put option contract model in the `put_option_model` variable:"
   ]
  },
  {
   "cell_type": "code",
   "execution_count": 10,
   "id": "462acbf9-c6c8-4645-a4fb-6c0a64baee5e",
   "metadata": {},
   "outputs": [],
   "source": [
    "put_option_model = build(MyAmericanPutContractModel, (\n",
    "    K = 128.0, \n",
    "    premium = 7.78, # mark price\n",
    "    DTE = (61.0)*Δt,\n",
    "    sense = 1,\n",
    "    copy = 1,\n",
    "    IV = 0.4787\n",
    "));"
   ]
  },
  {
   "cell_type": "markdown",
   "id": "d9415ca9-31a2-4015-bdee-fc65e24935a8",
   "metadata": {},
   "source": [
    "### Calculate the Greek values\n",
    "Fill me in"
   ]
  },
  {
   "cell_type": "code",
   "execution_count": 12,
   "id": "b22c2b57-7c03-4dab-899f-3d839d17ae98",
   "metadata": {},
   "outputs": [],
   "source": [
    "long_greek_dictionary = Dict{Union{MyAmericanPutContractModel,MyAmericanCallContractModel}, NamedTuple}();"
   ]
  },
  {
   "cell_type": "markdown",
   "id": "3d97efa5-451a-482e-a01d-d950f2bdcb1f",
   "metadata": {},
   "source": [
    "Compute and store the Greeks for the `call` option"
   ]
  },
  {
   "cell_type": "code",
   "execution_count": 14,
   "id": "9d5d2541-826a-4b7b-aeb1-248f13ce90e3",
   "metadata": {},
   "outputs": [],
   "source": [
    "long_greek_dictionary[call_option_model] = (\n",
    "    delta_value = delta(call_option_model, h = h,  T = call_option_model.DTE, \n",
    "        σ = call_option_model.IV, Sₒ = Sₒ, μ = risk_free_rate),\n",
    "    theta_value = theta(call_option_model, h = h,  T = call_option_model.DTE, \n",
    "        σ = call_option_model.IV, Sₒ = Sₒ, μ = risk_free_rate),\n",
    "    vega_value = vega(call_option_model, h = h,  T = call_option_model.DTE, \n",
    "        σ = call_option_model.IV, Sₒ = Sₒ, μ = risk_free_rate),\n",
    "    rho_value = rho(call_option_model, h = h,  T = call_option_model.DTE, \n",
    "        σ = call_option_model.IV, Sₒ = Sₒ, μ = risk_free_rate),\n",
    "    gamma_value = gamma(call_option_model, h = h,  T = call_option_model.DTE, \n",
    "        σ = call_option_model.IV, Sₒ = Sₒ, μ = risk_free_rate));"
   ]
  },
  {
   "cell_type": "markdown",
   "id": "8462cf1e-d827-4741-b4fc-aac390af17ab",
   "metadata": {},
   "source": [
    "Compute and store the Greeks for the `put` option."
   ]
  },
  {
   "cell_type": "code",
   "execution_count": 16,
   "id": "49652e39-6f04-49cf-80c9-a26d413f623f",
   "metadata": {},
   "outputs": [],
   "source": [
    "long_greek_dictionary[put_option_model] = (\n",
    "    delta_value = delta(put_option_model, h = h,  T = put_option_model.DTE, \n",
    "        σ = put_option_model.IV, Sₒ = Sₒ, μ = risk_free_rate),\n",
    "    theta_value = theta(put_option_model, h = h,  T = put_option_model.DTE, \n",
    "        σ = put_option_model.IV, Sₒ = Sₒ, μ = risk_free_rate),\n",
    "    vega_value = vega(put_option_model, h = h,  T = put_option_model.DTE, \n",
    "        σ = put_option_model.IV, Sₒ = Sₒ, μ = risk_free_rate),\n",
    "    rho_value = rho(put_option_model, h = h,  T = put_option_model.DTE, \n",
    "        σ = put_option_model.IV, Sₒ = Sₒ, μ = risk_free_rate),\n",
    "    gamma_value = gamma(put_option_model, h = h,  T = put_option_model.DTE, \n",
    "        σ = put_option_model.IV, Sₒ = Sₒ, μ = risk_free_rate));"
   ]
  },
  {
   "cell_type": "markdown",
   "id": "61d6bb40-73c9-44ae-b483-01333d2a118e",
   "metadata": {},
   "source": []
  },
  {
   "cell_type": "markdown",
   "id": "4aaf1415-1fa3-4cb8-8f37-b4746e45dcc7",
   "metadata": {},
   "source": [
    "## Task 1: Compute changes in the premium for call options"
   ]
  },
  {
   "cell_type": "code",
   "execution_count": 19,
   "id": "9e0f7f31-f26d-471c-acc5-f6cc239c9f55",
   "metadata": {},
   "outputs": [
    {
     "data": {
      "text/plain": [
       "5-element Vector{Float64}:\n",
       "  0.4920000000000009\n",
       "  0.022999999999999687\n",
       " -0.09199999999999875\n",
       "  0.21600000000000108\n",
       "  0.0940000000000012"
      ]
     },
     "execution_count": 19,
     "metadata": {},
     "output_type": "execute_result"
    }
   ],
   "source": [
    "call_greek_tuple = long_greek_dictionary[call_option_model];\n",
    "call_greek_vector = [\n",
    "    call_greek_tuple.delta_value,\n",
    "    call_greek_tuple.gamma_value,\n",
    "    call_greek_tuple.theta_value,\n",
    "    call_greek_tuple.vega_value,\n",
    "    call_greek_tuple.rho_value\n",
    "]"
   ]
  },
  {
   "cell_type": "code",
   "execution_count": 111,
   "id": "1c4edd70-7ea2-4626-b149-af77b70c5a4d",
   "metadata": {},
   "outputs": [
    {
     "name": "stdout",
     "output_type": "stream",
     "text": [
      "(δ_vector, IV, IVₒ) = ([-6.594000000000006, 21.740418000000055, 0.0, -9.695999999999998, 0.0], 0.38784, 0.4848)\n",
      "(δ_vector, IV, IVₒ) = ([-6.594000000000006, 21.740418000000055, 0.0, 0.0, 0.0], 0.4848, 0.4848)\n",
      "(δ_vector, IV, IVₒ) = ([-6.594000000000006, 21.740418000000055, 0.0, 9.695999999999998, 0.0], 0.5817599999999999, 0.4848)\n",
      "(δ_vector, IV, IVₒ) = ([0.0, 0.0, 0.0, -9.695999999999998, 0.0], 0.38784, 0.4848)\n",
      "(δ_vector, IV, IVₒ) = ([0.0, 0.0, 0.0, 0.0, 0.0], 0.4848, 0.4848)\n",
      "(δ_vector, IV, IVₒ) = ([0.0, 0.0, 0.0, 9.695999999999998, 0.0], 0.5817599999999999, 0.4848)\n",
      "(δ_vector, IV, IVₒ) = ([6.594000000000006, 21.740417999999963, 0.0, -9.695999999999998, 0.0], 0.38784, 0.4848)\n",
      "(δ_vector, IV, IVₒ) = ([6.594000000000006, 21.740417999999963, 0.0, 0.0, 0.0], 0.4848, 0.4848)\n",
      "(δ_vector, IV, IVₒ) = ([6.594000000000006, 21.740417999999963, 0.0, 9.695999999999998, 0.0], 0.5817599999999999, 0.4848)\n"
     ]
    },
    {
     "data": {
      "text/plain": [
       "Dict{Tuple{Float64, Float64}, Float64} with 9 entries:\n",
       "  (1.0, 1.0)  => 0.0\n",
       "  (1.05, 1.0) => 0.405664\n",
       "  (0.95, 1.0) => -0.297315\n",
       "  (1.0, 0.8)  => -0.226905\n",
       "  (1.05, 0.8) => 0.178759\n",
       "  (0.95, 0.8) => -0.52422\n",
       "  (1.0, 1.2)  => 0.226905\n",
       "  (1.05, 1.2) => 0.632569\n",
       "  (0.95, 1.2) => -0.0704098"
      ]
     },
     "execution_count": 111,
     "metadata": {},
     "output_type": "execute_result"
    }
   ],
   "source": [
    "long_call_perturbation_dictionary = Dict{Tuple{Float64,Float64}, Float64}();\n",
    "tmp_array = Array{Float64,2}(undef,3,3);\n",
    "IVₒ = call_option_model.IV;\n",
    "for i ∈ eachindex(β)\n",
    "\n",
    "    β_outer = β[i];\n",
    "    S = Sₒ*(β_outer); # outer loop will be share price\n",
    "    \n",
    "    for j ∈ eachindex(α)\n",
    "        α_inner = α[j];\n",
    "        IV = (IVₒ)*α_inner; # inner loop will be implied volatility         \n",
    "        δ_vector = [\n",
    "            (β_outer - 1)*Sₒ, (1/2)*(S-Sₒ)^2, 0, 100*(α_inner - 1)*IVₒ, 0\n",
    "        ];\n",
    "\n",
    "        @show (δ_vector, IV, IVₒ)\n",
    "        \n",
    "        old_premium = call_option_model.premium;\n",
    "        long_call_perturbation_dictionary[(β_outer, α_inner)] = dot(call_greek_vector, δ_vector)/old_premium\n",
    "        tmp_array[i,j] = dot(call_greek_vector, δ_vector)/old_premium\n",
    "    end\n",
    "end\n",
    "long_call_perturbation_dictionary"
   ]
  },
  {
   "cell_type": "markdown",
   "id": "e6cf5141-b4da-4c17-81fd-44aa06676af4",
   "metadata": {},
   "source": [
    "### Visualize\n",
    "`Unhide` the code block below to see how we constructed the table holding [the Greek](https://en.wikipedia.org/wiki/en:Greeks_(finance)?variant=zh-tw) premium calculations using the [the pretty_table(...) function exported by PrettyTables.jl package](https://github.com/ronisbr/PrettyTables.jl):"
   ]
  },
  {
   "cell_type": "code",
   "execution_count": 113,
   "id": "ea222471-fd82-4553-a323-ff59b543c3fb",
   "metadata": {
    "jupyter": {
     "source_hidden": true
    }
   },
   "outputs": [
    {
     "name": "stdout",
     "output_type": "stream",
     "text": [
      "┌───────────┬───────────┬────────────┬────────────┐\n",
      "│\u001b[1m           \u001b[0m│\u001b[1m   -20% IV \u001b[0m│\u001b[1m nominal IV \u001b[0m│\u001b[1m    +20% IV \u001b[0m│\n",
      "├───────────┼───────────┼────────────┼────────────┤\n",
      "│     -5% S │  -0.52422 │  -0.297315 │ -0.0704098 │\n",
      "│ nominal S │ -0.226905 │        0.0 │   0.226905 │\n",
      "│     +5% S │  0.178759 │   0.405664 │   0.632569 │\n",
      "└───────────┴───────────┴────────────┴────────────┘\n"
     ]
    }
   ],
   "source": [
    "# build a pretty table to display the results -\n",
    "(R,C) = size(tmp_array)\n",
    "pretty_table_data = Array{Any,2}(undef, R, C+1)\n",
    "\n",
    "# first col holds labels -\n",
    "for i ∈ 1:R\n",
    "    if (i == 1)\n",
    "        pretty_table_data[i,1] = \"-5% S\";\n",
    "    elseif (i == 3)\n",
    "        pretty_table_data[i,1] = \"+5% S\";\n",
    "    else\n",
    "        pretty_table_data[i,1] = \"nominal S\";\n",
    "    end\n",
    "end\n",
    "\n",
    "for i = 1:R\n",
    "    for j = 1:C\n",
    "        pretty_table_data[i,j+1] = tmp_array[i,j]\n",
    "    end\n",
    "end\n",
    "\n",
    "header_data = ([\"\", \"-20% IV\", \"nominal IV\", \"+20% IV\"])\n",
    "pretty_table(pretty_table_data, header=header_data)"
   ]
  },
  {
   "cell_type": "markdown",
   "id": "4f13bdfe-ec51-41ac-99f1-a23a42306379",
   "metadata": {},
   "source": [
    "### Check: How good are the Greek premium projections?\n",
    "[The Greeks](https://en.wikipedia.org/wiki/en:Greeks_(finance)?variant=zh-tw) offer an approximate tool to approximate the premium of an options contract as a function of market conditions, e.g., following expansion or contraction of the implied volatility, or changes in the share price of the underlying. However, a reasonable question is how good are these approximations?\n",
    "\n",
    " * __Test 1__: Calculate the premium change for the long `NVDA` call option when there is a `+20%` change in implied volatility (and nominal underlying share price), using the binomial options pricing model. After obtaining the results, find the percentage difference between the Greek and binomial calculations. Finally, verify if the two values differ by less than `5%` using the [Julia @assert macro](https://docs.julialang.org/en/v1/base/base/#Base.@assert).\n",
    "\n",
    "`Unhide` the code below to see how we performed __Test 1__."
   ]
  },
  {
   "cell_type": "code",
   "execution_count": 131,
   "id": "baafdf3c-7687-47eb-a930-dbfbf9438ef5",
   "metadata": {
    "jupyter": {
     "source_hidden": true
    }
   },
   "outputs": [],
   "source": [
    "let\n",
    "    σₒ = call_option_model.IV; # nominal IV\n",
    "    σ₁ = σₒ*1.2; # 20% increase in the IV\n",
    "\n",
    "    # tree models -\n",
    "    mₒ = build(MyAdjacencyBasedCRREquityPriceTree, \n",
    "        (μ = risk_free_rate, T = call_option_model.DTE, σ = σₒ)) |> (x-> populate(x, Sₒ = Sₒ, h = h)); # nominal\n",
    "\n",
    "    m₁ = build(MyAdjacencyBasedCRREquityPriceTree, \n",
    "        (μ = risk_free_rate, T = call_option_model.DTE, σ = σ₁)) |> (x-> populate(x, Sₒ = Sₒ, h = h)); # perturbed\n",
    "\n",
    "    # premium -\n",
    "    Pₒ = premium(call_option_model, mₒ); # nominal premium\n",
    "    P₁ = premium(call_option_model, m₁); # perturbed premium\n",
    "\n",
    "    # calculate the diff -\n",
    "    diff_binomial = (P₁ - Pₒ)/Pₒ;\n",
    "    diff_greek = tmp_array[2,3];\n",
    "\n",
    "    # report -\n",
    "    @assert abs((diff_binomial - diff_greek)) ≤ 0.05; # less than a 5% error?\n",
    "end"
   ]
  },
  {
   "cell_type": "markdown",
   "id": "5f987257-c4e2-446b-ac00-4be56d69e607",
   "metadata": {},
   "source": [
    "* __Test 2__: Calculate the change in the premium of the long `NVDA` call contract for a `-5%` change in the underlying share price, using the binomial options pricing model with a nominal value for the implied volatility. After that, find the percentage difference between the Greek and binomial calculations, and then check if the two values differ by less than `5%`, using the [Julia @assert macro](https://docs.julialang.org/en/v1/base/base/#Base.@assert)\n",
    "\n",
    "`Unhide` the code below to see how we performed __Test 2__."
   ]
  },
  {
   "cell_type": "code",
   "execution_count": 149,
   "id": "72b5dc47-ff6e-4f08-9329-56ee0b76a31a",
   "metadata": {
    "jupyter": {
     "source_hidden": true
    }
   },
   "outputs": [],
   "source": [
    "let\n",
    "\n",
    "    # underlying price\n",
    "    S₁ = 0.95*Sₒ \n",
    "    \n",
    "    # tree models -\n",
    "    mₒ = build(MyAdjacencyBasedCRREquityPriceTree, \n",
    "        (μ = risk_free_rate, T = call_option_model.DTE, σ = call_option_model.IV)) |> (x-> populate(x, Sₒ = Sₒ, h = h)); # nominal\n",
    "\n",
    "    m₁ = build(MyAdjacencyBasedCRREquityPriceTree, \n",
    "        (μ = risk_free_rate, T = call_option_model.DTE, σ = call_option_model.IV)) |> (x-> populate(x, Sₒ = S₁, h = h)); # perturbed\n",
    "\n",
    "    # premium -\n",
    "    Pₒ = premium(call_option_model, mₒ); # nominal premium\n",
    "    P₁ = premium(call_option_model, m₁); # perturbed premium\n",
    "\n",
    "    # calculate the diff -\n",
    "    diff_binomial = (P₁ - Pₒ)/Pₒ;\n",
    "    diff_greek = tmp_array[1,2];\n",
    "\n",
    "    # report -\n",
    "    @assert abs((diff_binomial - diff_greek)) ≤ 0.05; # less than a 5% error?\n",
    "end"
   ]
  },
  {
   "cell_type": "markdown",
   "id": "af033f99-6653-430e-9a49-2a021d158866",
   "metadata": {},
   "source": [
    "## Task 2: Compute changes in the premium for put options"
   ]
  },
  {
   "cell_type": "code",
   "execution_count": null,
   "id": "dc8d0916-7797-4b64-b471-083218fbed47",
   "metadata": {},
   "outputs": [],
   "source": []
  },
  {
   "cell_type": "markdown",
   "id": "74d25fd7-bfaf-492b-8214-e74f34fb6346",
   "metadata": {},
   "source": [
    "## Disclaimer and Risks\n",
    "__This content is offered solely for training and informational purposes__. No offer or solicitation to buy or sell securities or derivative products or any investment or trading advice or strategy is made, given, or endorsed by the teaching team. \n",
    "\n",
    "__Trading involves risk__. Carefully review your financial situation before investing in securities, futures contracts, options, or commodity interests. Past performance, whether actual or indicated by historical tests of strategies, is no guarantee of future performance or success. Trading is generally inappropriate for someone with limited resources, investment or trading experience, or a low-risk tolerance.  Only risk capital that is not required for living expenses.\n",
    "\n",
    "__You are fully responsible for any investment or trading decisions you make__. You should decide solely based on your financial circumstances, investment or trading objectives, risk tolerance, and liquidity needs."
   ]
  },
  {
   "cell_type": "code",
   "execution_count": null,
   "id": "e18d3971-6b27-4180-a483-eb51997f25b4",
   "metadata": {},
   "outputs": [],
   "source": []
  }
 ],
 "metadata": {
  "kernelspec": {
   "display_name": "Julia 1.10.4",
   "language": "julia",
   "name": "julia-1.10"
  },
  "language_info": {
   "file_extension": ".jl",
   "mimetype": "application/julia",
   "name": "julia",
   "version": "1.10.4"
  }
 },
 "nbformat": 4,
 "nbformat_minor": 5
}
