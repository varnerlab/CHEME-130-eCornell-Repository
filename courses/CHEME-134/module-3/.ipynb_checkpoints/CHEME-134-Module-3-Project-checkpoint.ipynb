{
 "cells": [
  {
   "cell_type": "markdown",
   "id": "7befdfa8-b6b5-4d9d-a4a4-9ceada147af2",
   "metadata": {},
   "source": [
    "# Project: Compute the Delta, Theta, and Vega for a Short or Long Calls and Puts"
   ]
  },
  {
   "cell_type": "code",
   "execution_count": null,
   "id": "c9066734-fc0a-46a5-9eb7-8798902e55af",
   "metadata": {},
   "outputs": [],
   "source": []
  }
 ],
 "metadata": {
  "kernelspec": {
   "display_name": "Julia 1.9.3",
   "language": "julia",
   "name": "julia-1.9"
  },
  "language_info": {
   "file_extension": ".jl",
   "mimetype": "application/julia",
   "name": "julia",
   "version": "1.9.3"
  }
 },
 "nbformat": 4,
 "nbformat_minor": 5
}
