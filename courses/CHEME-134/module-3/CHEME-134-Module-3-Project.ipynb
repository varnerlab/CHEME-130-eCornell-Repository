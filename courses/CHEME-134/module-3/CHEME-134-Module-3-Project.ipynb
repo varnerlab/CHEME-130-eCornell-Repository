{
 "cells": [
  {
   "cell_type": "markdown",
   "id": "7befdfa8-b6b5-4d9d-a4a4-9ceada147af2",
   "metadata": {},
   "source": [
    "# Project: Approximation of Option Premiums Using The Greeks\n",
    "Fill me in"
   ]
  },
  {
   "cell_type": "markdown",
   "id": "6bc5fc8e-5004-4395-92bf-e01352b1f228",
   "metadata": {},
   "source": [
    "## Setup\n",
    "Set up the computational environment by including the `Include.jl` file. The `Include.jl` file loads external packages, various functions we will use in the exercise, and custom types to model the components of our example problem.\n",
    "* For additional information on functions and types used in this material, see the [Julia programming language documentation](https://docs.julialang.org/en/v1/) and the [VLQuantitativeFinancePackage.jl documentation](https://github.com/varnerlab/VLQuantitativeFinancePackage.jl). "
   ]
  },
  {
   "cell_type": "code",
   "execution_count": 3,
   "id": "68cacc20-a6d2-4284-9018-f8b5896757e2",
   "metadata": {},
   "outputs": [
    {
     "name": "stderr",
     "output_type": "stream",
     "text": [
      "\u001b[32m\u001b[1m    Updating\u001b[22m\u001b[39m git-repo `https://github.com/varnerlab/VLQuantitativeFinancePackage.jl.git`\n",
      "\u001b[32m\u001b[1m   Resolving\u001b[22m\u001b[39m package versions...\n",
      "\u001b[32m\u001b[1m  No Changes\u001b[22m\u001b[39m to `~/Desktop/julia_work/CHEME-130-eCornell-Repository/courses/CHEME-134/module-3/Project.toml`\n",
      "\u001b[32m\u001b[1m  No Changes\u001b[22m\u001b[39m to `~/Desktop/julia_work/CHEME-130-eCornell-Repository/courses/CHEME-134/module-3/Manifest.toml`\n",
      "\u001b[32m\u001b[1m  Activating\u001b[22m\u001b[39m project at `~/Desktop/julia_work/CHEME-130-eCornell-Repository/courses/CHEME-134/module-3`\n",
      "\u001b[32m\u001b[1m  No Changes\u001b[22m\u001b[39m to `~/Desktop/julia_work/CHEME-130-eCornell-Repository/courses/CHEME-134/module-3/Project.toml`\n",
      "\u001b[32m\u001b[1m  No Changes\u001b[22m\u001b[39m to `~/Desktop/julia_work/CHEME-130-eCornell-Repository/courses/CHEME-134/module-3/Manifest.toml`\n",
      "\u001b[32m\u001b[1m    Updating\u001b[22m\u001b[39m registry at `~/.julia/registries/General.toml`\n",
      "\u001b[32m\u001b[1m    Updating\u001b[22m\u001b[39m git-repo `https://github.com/varnerlab/VLQuantitativeFinancePackage.jl.git`\n",
      "\u001b[32m\u001b[1m  No Changes\u001b[22m\u001b[39m to `~/Desktop/julia_work/CHEME-130-eCornell-Repository/courses/CHEME-134/module-3/Project.toml`\n",
      "\u001b[32m\u001b[1m  No Changes\u001b[22m\u001b[39m to `~/Desktop/julia_work/CHEME-130-eCornell-Repository/courses/CHEME-134/module-3/Manifest.toml`\n"
     ]
    }
   ],
   "source": [
    "include(\"Include.jl\")"
   ]
  },
  {
   "cell_type": "markdown",
   "id": "2b392c4e-f042-4e57-af61-c5be63622524",
   "metadata": {},
   "source": [
    "## Prerequisites\n",
    "Before we estimate how `call` and `put` option premiums change with market conditions using [the Greeks](https://en.wikipedia.org/wiki/en:Greeks_(finance)?variant=zh-tw), let's specify values for [the Greeks](https://en.wikipedia.org/wiki/en:Greeks_(finance)?variant=zh-tw) and some other parameters for our test `call` and `put` options on [NVIDIA Corporation](https://finance.yahoo.com/quote/NVDA/)."
   ]
  },
  {
   "cell_type": "markdown",
   "id": "7a0faa57-5f9e-4ec6-b4b9-8fcc0bc06bb1",
   "metadata": {},
   "source": [
    "### Parameters and constants\n",
    "Let's set a value for the step size `Δt,` i.e., `1 day` in units of years (assuming a `365-day` year), the risk-free rate at the time we gathered the data for the option contracts; we approximate this value using the [yield on the 10-year Treasury Note](https://ycharts.com/indicators/10_year_treasury_rate). We also set a value for the underlying share price `Sₒ` and the number of levels in the binomial tree model, `h`; we assume 6-levels per day."
   ]
  },
  {
   "cell_type": "code",
   "execution_count": 221,
   "id": "c884cb63-f8f2-4131-9a7b-fabe43a61665",
   "metadata": {},
   "outputs": [
    {
     "data": {
      "text/plain": [
       "11-element Vector{Float64}:\n",
       " 0.95\n",
       " 0.96\n",
       " 0.97\n",
       " 0.98\n",
       " 0.99\n",
       " 1.0\n",
       " 1.01\n",
       " 1.02\n",
       " 1.03\n",
       " 1.04\n",
       " 1.05"
      ]
     },
     "execution_count": 221,
     "metadata": {},
     "output_type": "execute_result"
    }
   ],
   "source": [
    "Δt = (1/365);\n",
    "risk_free_rate = 0.0431; # yield 10-year treasury note on 13-Jun-2024\n",
    "Sₒ = 131.88; # after close on 14-Jun-2024 (close: 131.88)\n",
    "h = 366; # 6-points per trading day\n",
    "β = range(0.95,stop = 1.05, length=11) |> collect # peturbation vector"
   ]
  },
  {
   "cell_type": "markdown",
   "id": "3696dfaa-68d2-4320-be71-0f32474cc45f",
   "metadata": {},
   "source": [
    "### Contract models\n",
    "Next, we construct contract models for the options in this example. We begin by building an instance of the [MyAmericanCallContractModel type](https://varnerlab.github.io/VLQuantitativeFinancePackage.jl/dev/derivatives/#VLQuantitativeFinancePackage.MyAmericanCallContractModel) using the [custom build(...) method](https://varnerlab.github.io/VLQuantitativeFinancePackage.jl/dev/derivatives/#VLQuantitativeFinancePackage.build-Tuple{Type{MyAmericanCallContractModel},%20NamedTuple}). The [build(...) method](https://varnerlab.github.io/VLQuantitativeFinancePackage.jl/dev/derivatives/#VLQuantitativeFinancePackage.build-Tuple{Type{MyAmericanCallContractModel},%20NamedTuple}) takes two arguments: the type to build, and a [NamedTuple](https://docs.julialang.org/en/v1/base/base/#Core.NamedTuple) containing the strike price `K`, the `premium` paid for the option, the days to expiration `DTE` (units: years), the `sense = 1` (long), the number of contracts in the `copy` field and the implied volatility in the `IV` field.\n",
    "\n",
    "We save the call option contract model in the `call_option_model` variable:"
   ]
  },
  {
   "cell_type": "code",
   "execution_count": 8,
   "id": "d971d843-4231-463a-854a-37fc96907f29",
   "metadata": {},
   "outputs": [],
   "source": [
    "call_option_model = build(MyAmericanCallContractModel, (\n",
    "    K = 136.0, \n",
    "    premium = 9.23, # mark price\n",
    "    DTE = (61.0)*Δt,\n",
    "    sense = 1,\n",
    "    copy = 1,\n",
    "    IV = 0.4848\n",
    "));"
   ]
  },
  {
   "cell_type": "markdown",
   "id": "f243dcee-c9d0-4603-85e3-338675adce7d",
   "metadata": {},
   "source": [
    "The put contract, which is an instance of the [MyAmericanPutContractModel type](https://varnerlab.github.io/VLQuantitativeFinancePackage.jl/dev/derivatives/#VLQuantitativeFinancePackage.MyAmericanPutContractModel), is constructed in a similar way to the call option. We save the put option contract model in the `put_option_model` variable:"
   ]
  },
  {
   "cell_type": "code",
   "execution_count": 10,
   "id": "462acbf9-c6c8-4645-a4fb-6c0a64baee5e",
   "metadata": {},
   "outputs": [],
   "source": [
    "put_option_model = build(MyAmericanPutContractModel, (\n",
    "    K = 128.0, \n",
    "    premium = 7.78, # mark price\n",
    "    DTE = (61.0)*Δt,\n",
    "    sense = 1,\n",
    "    copy = 1,\n",
    "    IV = 0.4787\n",
    "));"
   ]
  },
  {
   "cell_type": "markdown",
   "id": "d9415ca9-31a2-4015-bdee-fc65e24935a8",
   "metadata": {},
   "source": [
    "### Calculate the Greek values\n",
    "Fill me in"
   ]
  },
  {
   "cell_type": "code",
   "execution_count": 30,
   "id": "b22c2b57-7c03-4dab-899f-3d839d17ae98",
   "metadata": {},
   "outputs": [],
   "source": [
    "long_greek_dictionary = Dict{Union{MyAmericanPutContractModel,MyAmericanCallContractModel}, NamedTuple}();"
   ]
  },
  {
   "cell_type": "markdown",
   "id": "3d97efa5-451a-482e-a01d-d950f2bdcb1f",
   "metadata": {},
   "source": [
    "Compute and store the Greeks for the `call` option"
   ]
  },
  {
   "cell_type": "code",
   "execution_count": 32,
   "id": "9d5d2541-826a-4b7b-aeb1-248f13ce90e3",
   "metadata": {},
   "outputs": [],
   "source": [
    "long_greek_dictionary[call_option_model] = (\n",
    "    delta_value = delta(call_option_model, h = h,  T = call_option_model.DTE, \n",
    "        σ = call_option_model.IV, Sₒ = Sₒ, μ = risk_free_rate),\n",
    "    theta_value = theta(call_option_model, h = h,  T = call_option_model.DTE, \n",
    "        σ = call_option_model.IV, Sₒ = Sₒ, μ = risk_free_rate),\n",
    "    vega_value = vega(call_option_model, h = h,  T = call_option_model.DTE, \n",
    "        σ = call_option_model.IV, Sₒ = Sₒ, μ = risk_free_rate),\n",
    "    rho_value = rho(call_option_model, h = h,  T = call_option_model.DTE, \n",
    "        σ = call_option_model.IV, Sₒ = Sₒ, μ = risk_free_rate),\n",
    "    gamma_value = gamma(call_option_model, h = h,  T = call_option_model.DTE, \n",
    "        σ = call_option_model.IV, Sₒ = Sₒ, μ = risk_free_rate));"
   ]
  },
  {
   "cell_type": "markdown",
   "id": "8462cf1e-d827-4741-b4fc-aac390af17ab",
   "metadata": {},
   "source": [
    "Compute and store the Greeks for the `put` option."
   ]
  },
  {
   "cell_type": "code",
   "execution_count": 34,
   "id": "49652e39-6f04-49cf-80c9-a26d413f623f",
   "metadata": {},
   "outputs": [],
   "source": [
    "long_greek_dictionary[put_option_model] = (\n",
    "    delta_value = delta(put_option_model, h = h,  T = put_option_model.DTE, \n",
    "        σ = put_option_model.IV, Sₒ = Sₒ, μ = risk_free_rate),\n",
    "    theta_value = theta(put_option_model, h = h,  T = put_option_model.DTE, \n",
    "        σ = put_option_model.IV, Sₒ = Sₒ, μ = risk_free_rate),\n",
    "    vega_value = vega(put_option_model, h = h,  T = put_option_model.DTE, \n",
    "        σ = put_option_model.IV, Sₒ = Sₒ, μ = risk_free_rate),\n",
    "    rho_value = rho(put_option_model, h = h,  T = put_option_model.DTE, \n",
    "        σ = put_option_model.IV, Sₒ = Sₒ, μ = risk_free_rate),\n",
    "    gamma_value = gamma(put_option_model, h = h,  T = put_option_model.DTE, \n",
    "        σ = put_option_model.IV, Sₒ = Sₒ, μ = risk_free_rate));"
   ]
  },
  {
   "cell_type": "markdown",
   "id": "61d6bb40-73c9-44ae-b483-01333d2a118e",
   "metadata": {},
   "source": []
  },
  {
   "cell_type": "markdown",
   "id": "4aaf1415-1fa3-4cb8-8f37-b4746e45dcc7",
   "metadata": {},
   "source": [
    "## Task 1: Compute changes in the premium for call options"
   ]
  },
  {
   "cell_type": "code",
   "execution_count": 223,
   "id": "9e0f7f31-f26d-471c-acc5-f6cc239c9f55",
   "metadata": {},
   "outputs": [
    {
     "data": {
      "text/plain": [
       "5-element Vector{Float64}:\n",
       "  0.4920000000000009\n",
       "  0.022999999999999687\n",
       " -0.09199999999999875\n",
       "  0.21600000000000108\n",
       "  0.0940000000000012"
      ]
     },
     "execution_count": 223,
     "metadata": {},
     "output_type": "execute_result"
    }
   ],
   "source": [
    "call_greek_tuple = long_greek_dictionary[call_option_model];\n",
    "call_greek_vector = [\n",
    "    call_greek_tuple.delta_value,\n",
    "    call_greek_tuple.gamma_value,\n",
    "    call_greek_tuple.theta_value,\n",
    "    call_greek_tuple.vega_value,\n",
    "    call_greek_tuple.rho_value\n",
    "]"
   ]
  },
  {
   "cell_type": "code",
   "execution_count": 225,
   "id": "1c4edd70-7ea2-4626-b149-af77b70c5a4d",
   "metadata": {},
   "outputs": [
    {
     "data": {
      "text/plain": [
       "Dict{Tuple{Float64, Float64}, Float64} with 121 entries:\n",
       "  (1.02, 1.02) => 0.149491\n",
       "  (1.05, 0.97) => 0.405324\n",
       "  (0.96, 0.96) => -0.246974\n",
       "  (1.04, 0.97) => 0.315523\n",
       "  (0.98, 1.05) => -0.131361\n",
       "  (0.97, 0.98) => -0.191618\n",
       "  (1.05, 0.96) => 0.40521\n",
       "  (1.04, 0.96) => 0.315409\n",
       "  (0.98, 0.97) => -0.132268\n",
       "  (0.99, 0.99) => -0.0682444\n",
       "  (1.0, 0.95)  => -0.000567263\n",
       "  (1.02, 1.03) => 0.149604\n",
       "  (0.96, 0.99) => -0.246633\n",
       "  (1.02, 1.01) => 0.149377\n",
       "  (0.98, 0.96) => -0.132382\n",
       "  (0.99, 1.0)  => -0.0681309\n",
       "  (1.0, 1.04)  => 0.000453811\n",
       "  (1.05, 0.99) => 0.40555\n",
       "  (0.96, 1.0)  => -0.24652\n",
       "  (0.97, 0.95) => -0.191958\n",
       "  (1.04, 0.99) => 0.31575\n",
       "  (1.02, 0.98) => 0.149037\n",
       "  (1.0, 1.05)  => 0.000567263\n",
       "  (1.05, 1.0)  => 0.405664\n",
       "  (0.97, 1.04) => -0.190937\n",
       "  ⋮            => ⋮"
      ]
     },
     "execution_count": 225,
     "metadata": {},
     "output_type": "execute_result"
    }
   ],
   "source": [
    "long_call_perturbation_dictionary = Dict{Tuple{Float64,Float64}, Float64}();\n",
    "tmp_array = Array{Float64,2}(undef,11,11);\n",
    "IVₒ = call_option_model.IV;\n",
    "for i ∈ eachindex(β)\n",
    "\n",
    "    β_outer = β[i];\n",
    "    S = Sₒ*(β_outer); # outer loop will be share price\n",
    "    \n",
    "    for j ∈ eachindex(β)\n",
    "        β_inner = β[j];\n",
    "        IV = (IVₒ)*β_inner; # inner loop will be implied volatility         \n",
    "        δ_vector = [\n",
    "            (β_outer - 1)*Sₒ, (1/2)*(S-Sₒ)^2, 0, (β_inner - 1)*IVₒ, 0\n",
    "        ];\n",
    "        old_premium = call_option_model.premium;\n",
    "        long_call_perturbation_dictionary[(β_outer, β_inner)] = dot(call_greek_vector, δ_vector)/old_premium\n",
    "        tmp_array[i,j] = dot(call_greek_vector, δ_vector)/old_premium\n",
    "    end\n",
    "end\n",
    "long_call_perturbation_dictionary"
   ]
  },
  {
   "cell_type": "markdown",
   "id": "e6cf5141-b4da-4c17-81fd-44aa06676af4",
   "metadata": {},
   "source": [
    "### Vis"
   ]
  },
  {
   "cell_type": "code",
   "execution_count": 143,
   "id": "ea222471-fd82-4553-a323-ff59b543c3fb",
   "metadata": {},
   "outputs": [],
   "source": [
    "max_element = maximum(tmp_array)\n",
    "min_element = minimum(tmp_array)\n",
    "rescaled_results_array = Array{Float64,2}(undef, 11,11)\n",
    "for i ∈ eachindex(β)\n",
    "    for j ∈ eachindex(β)\n",
    "       rescaled_results_array[i,j] =  2*((tmp_array[i,j] - min_element)/(max_element - min_element)) - 1\n",
    "    end\n",
    "end"
   ]
  },
  {
   "cell_type": "code",
   "execution_count": 159,
   "id": "88847817-ab04-41dc-a118-6e20d8361fb2",
   "metadata": {},
   "outputs": [
    {
     "data": {
      "text/plain": [
       "11×11 Matrix{Float64}:\n",
       " -0.485026   -0.484786  -0.484547   …  -0.483111   -0.482872   -0.482633\n",
       " -0.74809    -0.747851  -0.747611      -0.746176   -0.745936   -0.745697\n",
       " -0.919748   -0.919509  -0.919269      -0.917834   -0.917594   -0.917355\n",
       " -1.0        -0.999761  -0.999521      -0.998086   -0.997846   -0.997607\n",
       " -0.988846   -0.988607  -0.988367      -0.986932   -0.986692   -0.986453\n",
       " -0.886286   -0.886046  -0.885807   …  -0.884371   -0.884132   -0.883893\n",
       " -0.692319   -0.69208   -0.691841      -0.690405   -0.690166   -0.689927\n",
       " -0.406947   -0.406708  -0.406468      -0.405033   -0.404793   -0.404554\n",
       " -0.0301683  -0.029929  -0.0296897     -0.0282541  -0.0280148  -0.0277755\n",
       "  0.438016    0.438256   0.438495       0.439931    0.44017     0.440409\n",
       "  0.997607    0.997846   0.998086   …   0.999521    0.999761    1.0"
      ]
     },
     "execution_count": 159,
     "metadata": {},
     "output_type": "execute_result"
    }
   ],
   "source": [
    "rescaled_results_array"
   ]
  },
  {
   "cell_type": "code",
   "execution_count": 165,
   "id": "a3508e75-fc1d-4ec4-9d9f-02fbf373dfd8",
   "metadata": {},
   "outputs": [
    {
     "data": {
      "text/plain": [
       "11×11 Matrix{Float64}:\n",
       "  1.89687      1.89801      1.89914     …   1.90708      1.90822\n",
       "  0.649572     0.650707     0.651841        0.659783     0.660918\n",
       " -0.164332    -0.163197    -0.162063       -0.154121    -0.152986\n",
       " -0.54484     -0.543706    -0.542571       -0.53463     -0.533495\n",
       " -0.491954    -0.49082     -0.489685       -0.481743    -0.480609\n",
       " -0.00567263  -0.00453811  -0.00340358  …   0.00453811   0.00567263\n",
       "  0.914004     0.915138     0.916273        0.924215     0.925349\n",
       "  2.26708      2.26821      2.26934         2.27729      2.27842\n",
       "  4.05354      4.05468      4.05581         4.06375      4.06489\n",
       "  6.2734       6.27454      6.27567         6.28361      6.28475\n",
       "  8.92666      8.9278       8.92893     …   8.93687      8.93801"
      ]
     },
     "execution_count": 165,
     "metadata": {},
     "output_type": "execute_result"
    }
   ],
   "source": [
    "tmp_array"
   ]
  },
  {
   "cell_type": "code",
   "execution_count": 169,
   "id": "acd22323-3ea7-43c0-9c80-42b708387ab6",
   "metadata": {},
   "outputs": [
    {
     "data": {
      "text/plain": [
       "1.8968713976163876"
      ]
     },
     "execution_count": 169,
     "metadata": {},
     "output_type": "execute_result"
    }
   ],
   "source": [
    "tmp_array[1,1]"
   ]
  },
  {
   "cell_type": "code",
   "execution_count": 171,
   "id": "2628a89a-2ac0-4080-87d0-638423915d23",
   "metadata": {},
   "outputs": [
    {
     "data": {
      "text/plain": [
       "(0.5, 0.5)"
      ]
     },
     "execution_count": 171,
     "metadata": {},
     "output_type": "execute_result"
    }
   ],
   "source": [
    "(β[1],β[1])"
   ]
  },
  {
   "cell_type": "markdown",
   "id": "af033f99-6653-430e-9a49-2a021d158866",
   "metadata": {},
   "source": [
    "## Task 2: Compute changes in the premium for put options"
   ]
  },
  {
   "cell_type": "code",
   "execution_count": null,
   "id": "dc8d0916-7797-4b64-b471-083218fbed47",
   "metadata": {},
   "outputs": [],
   "source": []
  },
  {
   "cell_type": "markdown",
   "id": "74d25fd7-bfaf-492b-8214-e74f34fb6346",
   "metadata": {},
   "source": [
    "## Disclaimer and Risks\n",
    "__This content is offered solely for training and informational purposes__. No offer or solicitation to buy or sell securities or derivative products or any investment or trading advice or strategy is made, given, or endorsed by the teaching team. \n",
    "\n",
    "__Trading involves risk__. Carefully review your financial situation before investing in securities, futures contracts, options, or commodity interests. Past performance, whether actual or indicated by historical tests of strategies, is no guarantee of future performance or success. Trading is generally inappropriate for someone with limited resources, investment or trading experience, or a low-risk tolerance.  Only risk capital that is not required for living expenses.\n",
    "\n",
    "__You are fully responsible for any investment or trading decisions you make__. You should decide solely based on your financial circumstances, investment or trading objectives, risk tolerance, and liquidity needs."
   ]
  },
  {
   "cell_type": "code",
   "execution_count": null,
   "id": "e18d3971-6b27-4180-a483-eb51997f25b4",
   "metadata": {},
   "outputs": [],
   "source": []
  }
 ],
 "metadata": {
  "kernelspec": {
   "display_name": "Julia 1.10.4",
   "language": "julia",
   "name": "julia-1.10"
  },
  "language_info": {
   "file_extension": ".jl",
   "mimetype": "application/julia",
   "name": "julia",
   "version": "1.10.4"
  }
 },
 "nbformat": 4,
 "nbformat_minor": 5
}
