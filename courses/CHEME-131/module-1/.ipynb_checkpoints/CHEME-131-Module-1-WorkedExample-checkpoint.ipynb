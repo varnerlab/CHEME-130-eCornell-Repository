{
 "cells": [
  {
   "cell_type": "markdown",
   "id": "bfb6f9c6-2f60-41e1-80b8-fa022162f100",
   "metadata": {},
   "source": [
    "## Example: Computing The Price of Zero Coupon United States Treasury Bills\n",
    "Zero coupon United States Treasury Bills, sometimes called `T-bills` or just `Zeros`, are marketable fixed-income debt securities that pay an investor a defined amount, called the face or par value, at the bill’s termination. \n",
    "\n",
    "### Pricing\n",
    "The price of a zero-coupon Treasury bill $V_{B}$ with an effective interest rate of $\\bar{r}$ and maturity of `T`-years at auction is the discounted face (par) value $V_{P}$ such that the net present value (NPV) of the bill is zero:\n",
    "\n",
    "$$\n",
    "\\begin{equation}    \n",
    "\\text{NPV}(T,r) = -V_{B} + \\mathcal{D}_{T,0}^{-1}(\\bar{r})\\cdot{V_{P}} = 0\n",
    "\\end{equation}\n",
    "$$\n",
    "\n",
    "or equivalently:\n",
    "\n",
    "$$\n",
    "\\begin{equation}\n",
    "    V_{B}(T, \\bar{r}) = \\mathcal{D}_{T,0}^{-1}(\\bar{r})\\cdot{V_{P}}\n",
    "\\end{equation}\n",
    "$$\n",
    "    \n",
    "The quantity `T` denotes the duration of the bill (in years),  $\\bar{r}$ is the effective annualized interest rate, and $\\mathcal{D}_{T,0}^{-1}(\\bar{r})$ is the inverse of the multistep discount factor. For T-bills, the interest is typically compounded twice a year. Thus, a typical discrete discount factor takes the form:\n",
    "\n",
    "$$\n",
    "\\mathcal{D}_{T,0}(\\bar{r}) = \\left(1+\\frac{\\bar{r}}{2}\\right)^{2T}\n",
    "$$\n",
    "\n",
    "where $T$ is the bill’s duration, measured in units of `years` (assuming a `365-day` year), and $\\bar{r}$ denotes the interest rate (designated as the `investment rate` in auction datasets, or the `yield` in `secondary market quotes`).\n",
    "\n",
    "### Learning objectives\n",
    "This example will familiarize students with computing the price of United States `T-bills`. \n",
    "\n",
    "* Objective 1: First, we'll compute the price of `T-bills`, and validate our simulated prices using Treasury auction data from `2022` and `2023`. \n",
    "* Objective 2: Then, we'll show the price of treasury bills is inversely proportional to interest rate of the `T-bill`."
   ]
  },
  {
   "cell_type": "markdown",
   "id": "068183be-9396-4c77-b919-befabcdf46d2",
   "metadata": {
    "tags": []
   },
   "source": [
    "### Setup\n",
    "We load the [VLQuantitativeFinancePackage.jl](https://github.com/varnerlab/VLQuantitativeFinancePackage.jl) package, and several other external [Julia](https://julialang.org/downloads/https://julialang.org/downloads/) packages, as well as some helper code, by calling the [include(...)](https://docs.julialang.org/en/v1/manual/code-loading/https://docs.julialang.org/en/v1/manual/code-loading/) command on the file `Include.jl`:"
   ]
  },
  {
   "cell_type": "code",
   "execution_count": 1,
   "id": "a19f9212-58b6-4703-8278-21d64dc7d8e6",
   "metadata": {
    "tags": []
   },
   "outputs": [],
   "source": [
    "include(\"Include.jl\");"
   ]
  },
  {
   "cell_type": "markdown",
   "id": "1b251b48-c133-454c-9e0b-0bb82e1e0140",
   "metadata": {},
   "source": [
    "#### Constants"
   ]
  },
  {
   "cell_type": "code",
   "execution_count": 2,
   "id": "cd073c13-28fb-4257-90ea-6116eb06eb3e",
   "metadata": {
    "tags": []
   },
   "outputs": [],
   "source": [
    "number_of_samples = 7;\n",
    "β₁ = 0.8;\n",
    "β₂ = 1.2;\n",
    "β = range(β₁, stop = β₂, length = number_of_samples) |> collect;"
   ]
  },
  {
   "cell_type": "markdown",
   "id": "c042b597-6837-4b33-8fac-bb6fab45e72f",
   "metadata": {},
   "source": [
    "#### Data\n",
    "We'll explore `T-bill` prices from United States Treasury auctions between May and August 2023 downloaded using the [Auction query functionality of TreasuryDirect.gov](https://www.treasurydirect.gov/auctions/auction-query/). We load the `CSV` dataset using the `MyTreasuryBillDataSet()` function, which returns the auction data as a `DataFrame`:"
   ]
  },
  {
   "cell_type": "code",
   "execution_count": 3,
   "id": "25da4a48-62fc-45ba-ae7c-64b97313c8aa",
   "metadata": {
    "tags": []
   },
   "outputs": [],
   "source": [
    "dataset = MyTreasuryBillDataSet();"
   ]
  },
  {
   "cell_type": "markdown",
   "id": "d54d06f9-6f99-4080-9494-ae4a9a69a6b3",
   "metadata": {},
   "source": [
    "Finally, let's set the dimension of our action dataset in the `number_of_bills` variable:"
   ]
  },
  {
   "cell_type": "code",
   "execution_count": 14,
   "id": "7cb3298f-a9a6-43be-89ff-87221b5b75ee",
   "metadata": {
    "tags": []
   },
   "outputs": [],
   "source": [
    "number_of_bills = nrow(dataset);"
   ]
  },
  {
   "cell_type": "markdown",
   "id": "0d16edf4-811d-4fd1-bc78-1ef8bc6de136",
   "metadata": {},
   "source": [
    "## Objective 1: Computing the Price of Treasury Bills at Auction\n",
    "We begin the task of computing the T-bill price by building a discounting model. In this case, let's construct an instance of the `DiscreteCompoundingModel()` type and store this discount model in the `discount_model` variable:"
   ]
  },
  {
   "cell_type": "code",
   "execution_count": 4,
   "id": "29d8ba89-91b5-40a2-b388-8a4e5f4b4e02",
   "metadata": {
    "tags": []
   },
   "outputs": [],
   "source": [
    "discount_model = DiscreteCompoundingModel();"
   ]
  },
  {
   "cell_type": "markdown",
   "id": "414b44bc-8716-427b-8c10-a0e1e9051a8d",
   "metadata": {},
   "source": [
    "Next, let's build a zero-coupon Treasury bill model, which is an instance of the `MyUSTreasuryZeroCouponBondModel` type using the `build(...)` method. The `build(...)` methods requires two arguments: the `par` value of the `T-bill`, and the `n` argument, number of compounding periods per year. Store the zero-coupon model in the `model` variable:"
   ]
  },
  {
   "cell_type": "code",
   "execution_count": 5,
   "id": "d0a68616-d274-42c5-ba91-75a14452c0d4",
   "metadata": {
    "tags": []
   },
   "outputs": [],
   "source": [
    "model = build(MyUSTreasuryZeroCouponBondModel, (\n",
    "    par = 100.0, n = 2\n",
    "));"
   ]
  },
  {
   "cell_type": "markdown",
   "id": "12428e76-4886-4f17-ba24-0e8a08bd05eb",
   "metadata": {},
   "source": [
    "Finally, we compute the price of zero-coupon `T-bills` and compare the computed versus price versus the price observed at auction. We process each entry in the `dataset` using a `for-loop`. During each iteration of the loop:\n",
    "\n",
    "* We get data from the `dataset` DataFrame and update the `T-bill` model instance. In particular, we set the observed price to the variable `VB`, we set the duration `T` field (which we convert to the number of years using the `securityterm` function) and the investment rate field, i.e., the annual interest rate on the `model` instance\n",
    "* Next, we compute the price of the `T-bill` using the [Julia piping operator](https://docs.julialang.org/en/v1/manual/functions/#Function-composition-and-piping) `|>` in compbination with the discounting model using short-cut syntax\n",
    "* We then calculate the percentage error between the estimated and observed `T-bill` price, and store the simulation data for each iteration in the `computed_price_table` DataFrame using the `push!(...)` function"
   ]
  },
  {
   "cell_type": "code",
   "execution_count": 15,
   "id": "ec79323f-74a4-4a3d-9edd-522ace748b3c",
   "metadata": {
    "tags": []
   },
   "outputs": [
    {
     "data": {
      "text/html": [
       "<div><div style = \"float: left;\"><span>96×6 DataFrame</span></div><div style = \"float: right;\"><span style = \"font-style: italic;\">71 rows omitted</span></div><div style = \"clear: both;\"></div></div><div class = \"data-frame\" style = \"overflow-x: scroll;\"><table class = \"data-frame\" style = \"margin-bottom: 6px;\"><thead><tr class = \"header\"><th class = \"rowNumber\" style = \"font-weight: bold; text-align: right;\">Row</th><th style = \"text-align: left;\">CUSIP</th><th style = \"text-align: left;\">term</th><th style = \"text-align: left;\">rate</th><th style = \"text-align: left;\">computed</th><th style = \"text-align: left;\">actual</th><th style = \"text-align: left;\">error</th></tr><tr class = \"subheader headerLastRow\"><th class = \"rowNumber\" style = \"font-weight: bold; text-align: right;\"></th><th title = \"String15\" style = \"text-align: left;\">String15</th><th title = \"String7\" style = \"text-align: left;\">String7</th><th title = \"Float64\" style = \"text-align: left;\">Float64</th><th title = \"Float64\" style = \"text-align: left;\">Float64</th><th title = \"Float64\" style = \"text-align: left;\">Float64</th><th title = \"Float64\" style = \"text-align: left;\">Float64</th></tr></thead><tbody><tr><td class = \"rowNumber\" style = \"font-weight: bold; text-align: right;\">1</td><td style = \"text-align: left;\">912797GV3</td><td style = \"text-align: left;\">4-Week</td><td style = \"text-align: right;\">5.39</td><td style = \"text-align: right;\">99.5928</td><td style = \"text-align: right;\">99.5893</td><td style = \"text-align: right;\">0.00350655</td></tr><tr><td class = \"rowNumber\" style = \"font-weight: bold; text-align: right;\">2</td><td style = \"text-align: left;\">912797HD2</td><td style = \"text-align: left;\">8-Week</td><td style = \"text-align: right;\">5.423</td><td style = \"text-align: right;\">99.1824</td><td style = \"text-align: right;\">99.1771</td><td style = \"text-align: right;\">0.00535165</td></tr><tr><td class = \"rowNumber\" style = \"font-weight: bold; text-align: right;\">3</td><td style = \"text-align: left;\">912797HX8</td><td style = \"text-align: left;\">17-Week</td><td style = \"text-align: right;\">5.516</td><td style = \"text-align: right;\">98.2416</td><td style = \"text-align: right;\">98.2381</td><td style = \"text-align: right;\">0.00355206</td></tr><tr><td class = \"rowNumber\" style = \"font-weight: bold; text-align: right;\">4</td><td style = \"text-align: left;\">912797FA0</td><td style = \"text-align: left;\">42-Day</td><td style = \"text-align: right;\">5.412</td><td style = \"text-align: right;\">99.3874</td><td style = \"text-align: right;\">99.3828</td><td style = \"text-align: right;\">0.00460539</td></tr><tr><td class = \"rowNumber\" style = \"font-weight: bold; text-align: right;\">5</td><td style = \"text-align: left;\">912796ZD4</td><td style = \"text-align: left;\">13-Week</td><td style = \"text-align: right;\">5.503</td><td style = \"text-align: right;\">98.6557</td><td style = \"text-align: right;\">98.6502</td><td style = \"text-align: right;\">0.00558088</td></tr><tr><td class = \"rowNumber\" style = \"font-weight: bold; text-align: right;\">6</td><td style = \"text-align: left;\">912797GP6</td><td style = \"text-align: left;\">26-Week</td><td style = \"text-align: right;\">5.59</td><td style = \"text-align: right;\">97.2883</td><td style = \"text-align: right;\">97.2953</td><td style = \"text-align: right;\">0.00712772</td></tr><tr><td class = \"rowNumber\" style = \"font-weight: bold; text-align: right;\">7</td><td style = \"text-align: left;\">912797GU5</td><td style = \"text-align: left;\">4-Week</td><td style = \"text-align: right;\">5.395</td><td style = \"text-align: right;\">99.5925</td><td style = \"text-align: right;\">99.5889</td><td style = \"text-align: right;\">0.00352366</td></tr><tr><td class = \"rowNumber\" style = \"font-weight: bold; text-align: right;\">8</td><td style = \"text-align: left;\">912797HC4</td><td style = \"text-align: left;\">8-Week</td><td style = \"text-align: right;\">5.423</td><td style = \"text-align: right;\">99.1824</td><td style = \"text-align: right;\">99.1771</td><td style = \"text-align: right;\">0.00535165</td></tr><tr><td class = \"rowNumber\" style = \"font-weight: bold; text-align: right;\">9</td><td style = \"text-align: left;\">912797HW0</td><td style = \"text-align: left;\">17-Week</td><td style = \"text-align: right;\">5.5</td><td style = \"text-align: right;\">98.2466</td><td style = \"text-align: right;\">98.2431</td><td style = \"text-align: right;\">0.0035819</td></tr><tr><td class = \"rowNumber\" style = \"font-weight: bold; text-align: right;\">10</td><td style = \"text-align: left;\">912796YJ2</td><td style = \"text-align: left;\">42-Day</td><td style = \"text-align: right;\">5.401</td><td style = \"text-align: right;\">99.3886</td><td style = \"text-align: right;\">99.384</td><td style = \"text-align: right;\">0.00466359</td></tr><tr><td class = \"rowNumber\" style = \"font-weight: bold; text-align: right;\">11</td><td style = \"text-align: left;\">912797FL6</td><td style = \"text-align: left;\">13-Week</td><td style = \"text-align: right;\">5.462</td><td style = \"text-align: right;\">98.6655</td><td style = \"text-align: right;\">98.6456</td><td style = \"text-align: right;\">0.0202024</td></tr><tr><td class = \"rowNumber\" style = \"font-weight: bold; text-align: right;\">12</td><td style = \"text-align: left;\">912796Z28</td><td style = \"text-align: left;\">26-Week</td><td style = \"text-align: right;\">5.531</td><td style = \"text-align: right;\">97.3162</td><td style = \"text-align: right;\">97.3231</td><td style = \"text-align: right;\">0.00707821</td></tr><tr><td class = \"rowNumber\" style = \"font-weight: bold; text-align: right;\">13</td><td style = \"text-align: left;\">912797GJ0</td><td style = \"text-align: left;\">7-Day</td><td style = \"text-align: right;\">5.312</td><td style = \"text-align: right;\">99.8995</td><td style = \"text-align: right;\">99.8985</td><td style = \"text-align: right;\">0.00100697</td></tr><tr><td style = \"text-align: right;\">&vellip;</td><td style = \"text-align: right;\">&vellip;</td><td style = \"text-align: right;\">&vellip;</td><td style = \"text-align: right;\">&vellip;</td><td style = \"text-align: right;\">&vellip;</td><td style = \"text-align: right;\">&vellip;</td><td style = \"text-align: right;\">&vellip;</td></tr><tr><td class = \"rowNumber\" style = \"font-weight: bold; text-align: right;\">85</td><td style = \"text-align: left;\">912797FR3</td><td style = \"text-align: left;\">4-Week</td><td style = \"text-align: right;\">5.237</td><td style = \"text-align: right;\">99.6042</td><td style = \"text-align: right;\">99.5867</td><td style = \"text-align: right;\">0.017532</td></tr><tr><td class = \"rowNumber\" style = \"font-weight: bold; text-align: right;\">86</td><td style = \"text-align: left;\">912797GA9</td><td style = \"text-align: left;\">8-Week</td><td style = \"text-align: right;\">5.35</td><td style = \"text-align: right;\">99.1932</td><td style = \"text-align: right;\">99.188</td><td style = \"text-align: right;\">0.00527917</td></tr><tr><td class = \"rowNumber\" style = \"font-weight: bold; text-align: right;\">87</td><td style = \"text-align: left;\">912797MF1</td><td style = \"text-align: left;\">3-Day</td><td style = \"text-align: right;\">6.256</td><td style = \"text-align: right;\">99.9494</td><td style = \"text-align: right;\">99.9488</td><td style = \"text-align: right;\">0.000631767</td></tr><tr><td class = \"rowNumber\" style = \"font-weight: bold; text-align: right;\">88</td><td style = \"text-align: left;\">912797GV3</td><td style = \"text-align: left;\">17-Week</td><td style = \"text-align: right;\">5.511</td><td style = \"text-align: right;\">98.2432</td><td style = \"text-align: right;\">98.2398</td><td style = \"text-align: right;\">0.00345584</td></tr><tr><td class = \"rowNumber\" style = \"font-weight: bold; text-align: right;\">89</td><td style = \"text-align: left;\">912796Z51</td><td style = \"text-align: left;\">13-Week</td><td style = \"text-align: right;\">5.462</td><td style = \"text-align: right;\">98.6655</td><td style = \"text-align: right;\">98.6603</td><td style = \"text-align: right;\">0.00528125</td></tr><tr><td class = \"rowNumber\" style = \"font-weight: bold; text-align: right;\">90</td><td style = \"text-align: left;\">912797FJ1</td><td style = \"text-align: left;\">161-Day</td><td style = \"text-align: right;\">5.562</td><td style = \"text-align: right;\">97.6092</td><td style = \"text-align: right;\">97.6118</td><td style = \"text-align: right;\">0.00273475</td></tr><tr><td class = \"rowNumber\" style = \"font-weight: bold; text-align: right;\">91</td><td style = \"text-align: left;\">912796ZD4</td><td style = \"text-align: left;\">26-Week</td><td style = \"text-align: right;\">5.526</td><td style = \"text-align: right;\">97.3186</td><td style = \"text-align: right;\">97.3256</td><td style = \"text-align: right;\">0.00724964</td></tr><tr><td class = \"rowNumber\" style = \"font-weight: bold; text-align: right;\">92</td><td style = \"text-align: left;\">912797FQ5</td><td style = \"text-align: left;\">4-Week</td><td style = \"text-align: right;\">5.872</td><td style = \"text-align: right;\">99.557</td><td style = \"text-align: right;\">99.5528</td><td style = \"text-align: right;\">0.00425617</td></tr><tr><td class = \"rowNumber\" style = \"font-weight: bold; text-align: right;\">93</td><td style = \"text-align: left;\">912797FZ5</td><td style = \"text-align: left;\">8-Week</td><td style = \"text-align: right;\">5.485</td><td style = \"text-align: right;\">99.1732</td><td style = \"text-align: right;\">99.1678</td><td style = \"text-align: right;\">0.00550271</td></tr><tr><td class = \"rowNumber\" style = \"font-weight: bold; text-align: right;\">94</td><td style = \"text-align: left;\">912797GU5</td><td style = \"text-align: left;\">17-Week</td><td style = \"text-align: right;\">5.442</td><td style = \"text-align: right;\">98.2647</td><td style = \"text-align: right;\">98.2613</td><td style = \"text-align: right;\">0.00348357</td></tr><tr><td class = \"rowNumber\" style = \"font-weight: bold; text-align: right;\">95</td><td style = \"text-align: left;\">912796X53</td><td style = \"text-align: left;\">21-Day</td><td style = \"text-align: right;\">6.326</td><td style = \"text-align: right;\">99.6423</td><td style = \"text-align: right;\">99.6383</td><td style = \"text-align: right;\">0.00399836</td></tr><tr><td class = \"rowNumber\" style = \"font-weight: bold; text-align: right;\">96</td><td style = \"text-align: left;\">912796Z44</td><td style = \"text-align: left;\">13-Week</td><td style = \"text-align: right;\">5.409</td><td style = \"text-align: right;\">98.6782</td><td style = \"text-align: right;\">98.6729</td><td style = \"text-align: right;\">0.00533553</td></tr></tbody></table></div>"
      ],
      "text/latex": [
       "\\begin{tabular}{r|cccccc}\n",
       "\t& CUSIP & term & rate & computed & actual & error\\\\\n",
       "\t\\hline\n",
       "\t& String15 & String7 & Float64 & Float64 & Float64 & Float64\\\\\n",
       "\t\\hline\n",
       "\t1 & 912797GV3 & 4-Week & 5.39 & 99.5928 & 99.5893 & 0.00350655 \\\\\n",
       "\t2 & 912797HD2 & 8-Week & 5.423 & 99.1824 & 99.1771 & 0.00535165 \\\\\n",
       "\t3 & 912797HX8 & 17-Week & 5.516 & 98.2416 & 98.2381 & 0.00355206 \\\\\n",
       "\t4 & 912797FA0 & 42-Day & 5.412 & 99.3874 & 99.3828 & 0.00460539 \\\\\n",
       "\t5 & 912796ZD4 & 13-Week & 5.503 & 98.6557 & 98.6502 & 0.00558088 \\\\\n",
       "\t6 & 912797GP6 & 26-Week & 5.59 & 97.2883 & 97.2953 & 0.00712772 \\\\\n",
       "\t7 & 912797GU5 & 4-Week & 5.395 & 99.5925 & 99.5889 & 0.00352366 \\\\\n",
       "\t8 & 912797HC4 & 8-Week & 5.423 & 99.1824 & 99.1771 & 0.00535165 \\\\\n",
       "\t9 & 912797HW0 & 17-Week & 5.5 & 98.2466 & 98.2431 & 0.0035819 \\\\\n",
       "\t10 & 912796YJ2 & 42-Day & 5.401 & 99.3886 & 99.384 & 0.00466359 \\\\\n",
       "\t11 & 912797FL6 & 13-Week & 5.462 & 98.6655 & 98.6456 & 0.0202024 \\\\\n",
       "\t12 & 912796Z28 & 26-Week & 5.531 & 97.3162 & 97.3231 & 0.00707821 \\\\\n",
       "\t13 & 912797GJ0 & 7-Day & 5.312 & 99.8995 & 99.8985 & 0.00100697 \\\\\n",
       "\t14 & 912797GT8 & 4-Week & 5.39 & 99.5928 & 99.5893 & 0.00350655 \\\\\n",
       "\t15 & 912797HB6 & 8-Week & 5.412 & 99.184 & 99.1787 & 0.00542591 \\\\\n",
       "\t16 & 912797HV2 & 17-Week & 5.49 & 98.2497 & 98.2464 & 0.00338993 \\\\\n",
       "\t17 & 912796CS6 & 42-Day & 5.406 & 99.3881 & 99.3834 & 0.00468999 \\\\\n",
       "\t18 & 912797FK8 & 13-Week & 5.456 & 98.6669 & 98.6615 & 0.00545623 \\\\\n",
       "\t19 & 912797GN1 & 26-Week & 5.526 & 97.3186 & 97.3256 & 0.00724964 \\\\\n",
       "\t20 & 912797GS0 & 4-Week & 5.39 & 99.5928 & 99.5893 & 0.00350655 \\\\\n",
       "\t21 & 912797HA8 & 8-Week & 5.412 & 99.184 & 99.1787 & 0.00542591 \\\\\n",
       "\t22 & 912797HU4 & 17-Week & 5.495 & 98.2482 & 98.2447 & 0.00348588 \\\\\n",
       "\t23 & 912796CR8 & 42-Day & 5.396 & 99.3892 & 99.3846 & 0.0046372 \\\\\n",
       "\t24 & 912797GK7 & 52-Week & 5.351 & 94.8701 & 94.8838 & 0.0144589 \\\\\n",
       "\t25 & 912797FJ1 & 13-Week & 5.451 & 98.6681 & 98.6628 & 0.00538858 \\\\\n",
       "\t26 & 912797GM3 & 26-Week & 5.499 & 97.3313 & 97.3383 & 0.0071332 \\\\\n",
       "\t27 & 912797GR2 & 4-Week & 5.385 & 99.5932 & 99.5897 & 0.00348945 \\\\\n",
       "\t28 & 912797GV3 & 8-Week & 5.418 & 99.1832 & 99.1779 & 0.00531408 \\\\\n",
       "\t29 & 912797HN0 & 17-Week & 5.484 & 98.2516 & 98.2481 & 0.00361136 \\\\\n",
       "\t30 & 912796CQ0 & 42-Day & 5.401 & 99.3886 & 99.384 & 0.00466359 \\\\\n",
       "\t$\\dots$ & $\\dots$ & $\\dots$ & $\\dots$ & $\\dots$ & $\\dots$ & $\\dots$ \\\\\n",
       "\\end{tabular}\n"
      ],
      "text/plain": [
       "\u001b[1m96×6 DataFrame\u001b[0m\n",
       "\u001b[1m Row \u001b[0m│\u001b[1m CUSIP     \u001b[0m\u001b[1m term    \u001b[0m\u001b[1m rate    \u001b[0m\u001b[1m computed \u001b[0m\u001b[1m actual  \u001b[0m\u001b[1m error       \u001b[0m\n",
       "     │\u001b[90m String15  \u001b[0m\u001b[90m String7 \u001b[0m\u001b[90m Float64 \u001b[0m\u001b[90m Float64  \u001b[0m\u001b[90m Float64 \u001b[0m\u001b[90m Float64     \u001b[0m\n",
       "─────┼─────────────────────────────────────────────────────────────\n",
       "   1 │ 912797GV3  4-Week     5.39    99.5928  99.5893  0.00350655\n",
       "   2 │ 912797HD2  8-Week     5.423   99.1824  99.1771  0.00535165\n",
       "   3 │ 912797HX8  17-Week    5.516   98.2416  98.2381  0.00355206\n",
       "   4 │ 912797FA0  42-Day     5.412   99.3874  99.3828  0.00460539\n",
       "   5 │ 912796ZD4  13-Week    5.503   98.6557  98.6502  0.00558088\n",
       "   6 │ 912797GP6  26-Week    5.59    97.2883  97.2953  0.00712772\n",
       "   7 │ 912797GU5  4-Week     5.395   99.5925  99.5889  0.00352366\n",
       "   8 │ 912797HC4  8-Week     5.423   99.1824  99.1771  0.00535165\n",
       "   9 │ 912797HW0  17-Week    5.5     98.2466  98.2431  0.0035819\n",
       "  10 │ 912796YJ2  42-Day     5.401   99.3886  99.384   0.00466359\n",
       "  11 │ 912797FL6  13-Week    5.462   98.6655  98.6456  0.0202024\n",
       "  ⋮  │     ⋮         ⋮        ⋮        ⋮         ⋮          ⋮\n",
       "  87 │ 912797MF1  3-Day      6.256   99.9494  99.9488  0.000631767\n",
       "  88 │ 912797GV3  17-Week    5.511   98.2432  98.2398  0.00345584\n",
       "  89 │ 912796Z51  13-Week    5.462   98.6655  98.6603  0.00528125\n",
       "  90 │ 912797FJ1  161-Day    5.562   97.6092  97.6118  0.00273475\n",
       "  91 │ 912796ZD4  26-Week    5.526   97.3186  97.3256  0.00724964\n",
       "  92 │ 912797FQ5  4-Week     5.872   99.557   99.5528  0.00425617\n",
       "  93 │ 912797FZ5  8-Week     5.485   99.1732  99.1678  0.00550271\n",
       "  94 │ 912797GU5  17-Week    5.442   98.2647  98.2613  0.00348357\n",
       "  95 │ 912796X53  21-Day     6.326   99.6423  99.6383  0.00399836\n",
       "  96 │ 912796Z44  13-Week    5.409   98.6782  98.6729  0.00533553\n",
       "\u001b[36m                                                    75 rows omitted\u001b[0m"
      ]
     },
     "execution_count": 15,
     "metadata": {},
     "output_type": "execute_result"
    }
   ],
   "source": [
    "computed_price_table = DataFrame();\n",
    "for i ∈ 1:number_of_bills\n",
    "    \n",
    "    VB = dataset[i, :Price];\n",
    "    model.T = dataset[i, Symbol(\"Security Term\")] |> String |> securityterm;\n",
    "    model.rate = dataset[i, Symbol(\"Investment Rate\")];\n",
    "        \n",
    "    price_computed = model |> discount_model |> x-> x.price;\n",
    "    error = 100*abs((VB - price_computed)/(price_computed));\n",
    "    \n",
    "    results_tuple = (\n",
    "        CUSIP = dataset[i, :CUSIP],\n",
    "        term = dataset[i, Symbol(\"Security Term\")],\n",
    "        rate = (dataset[i, Symbol(\"Investment Rate\")] |> x-> 100*x),\n",
    "        computed =  price_computed,\n",
    "        actual = VB,\n",
    "        error = error\n",
    "    );\n",
    "    \n",
    "    push!(computed_price_table, results_tuple)\n",
    "end\n",
    "computed_price_table"
   ]
  },
  {
   "cell_type": "markdown",
   "id": "98c7e092-dca7-4db7-b7c7-927fe831a41c",
   "metadata": {},
   "source": [
    "### Objective 2: Compute the T-bill price versus interest rate\n",
    "Malkiel proposed five theorems that govern the price of fixed-income debt securities, e.g., Treasury Bills, Notes, and Bonds, as a function of the duration and yield values:\n",
    "\n",
    "* [Malkiel, B. G. (1962). Expectations, Bond Prices, and the Term Structure of Interest Rates. The Quarterly Journal of Economics, 76(2), 197–218. https://doi.org/10.2307/1880816](https://www.jstor.org/stable/1880816https://www.jstor.org/stable/1880816)\n",
    "\n",
    "The first of these theorems is that T-bill/note/bond price is inversely proportional to the yeild (the `investment rate` for `T-bills`). Let's test this relationship computationally. \n",
    "\n",
    "First, select a random bill from the `dataset`, by randomly selecting an index from `1...number_of_bills` using the built-in `rand(...)` function:"
   ]
  },
  {
   "cell_type": "code",
   "execution_count": 7,
   "id": "9feef898-63cf-49eb-8b1e-24628aa83093",
   "metadata": {
    "tags": []
   },
   "outputs": [
    {
     "ename": "LoadError",
     "evalue": "UndefVarError: `number_of_bills` not defined",
     "output_type": "error",
     "traceback": [
      "UndefVarError: `number_of_bills` not defined",
      "",
      "Stacktrace:",
      " [1] top-level scope",
      "   @ In[7]:1"
     ]
    }
   ],
   "source": [
    "random_bill_index = rand(1:number_of_bills)\n",
    "println(\"Selected bill: $(random_bill_index)\")"
   ]
  },
  {
   "cell_type": "code",
   "execution_count": 8,
   "id": "59f826ea-3ef1-4ae1-9414-3060ccfa0e58",
   "metadata": {
    "tags": []
   },
   "outputs": [
    {
     "ename": "LoadError",
     "evalue": "UndefVarError: `random_bill_index` not defined",
     "output_type": "error",
     "traceback": [
      "UndefVarError: `random_bill_index` not defined",
      "",
      "Stacktrace:",
      " [1] top-level scope",
      "   @ In[8]:1"
     ]
    }
   ],
   "source": [
    "dataset[random_bill_index,:]"
   ]
  },
  {
   "cell_type": "markdown",
   "id": "321b20fa-d36e-4cab-a30c-1b8a42cc94bc",
   "metadata": {},
   "source": [
    "Create an instance of the `MyUSTreasuryZeroCouponBondModel` model, we will use the `build(...)` method and assume a par value of `100 USD` with two compounding periods per year. These values will be passed as arguments to the `build(...)` method in the `par` and `n` parameters. Update the rest of the  parameters on the `zero_coupon_model` instance from the `dataset`. The resulting zero-coupon model will be stored in the `model` variable:"
   ]
  },
  {
   "cell_type": "code",
   "execution_count": 9,
   "id": "be57be48-2ad0-41a0-a8d1-74c90a36bea6",
   "metadata": {
    "tags": []
   },
   "outputs": [
    {
     "ename": "LoadError",
     "evalue": "UndefVarError: `random_bill_index` not defined",
     "output_type": "error",
     "traceback": [
      "UndefVarError: `random_bill_index` not defined",
      "",
      "Stacktrace:",
      " [1] top-level scope",
      "   @ In[9]:1"
     ]
    }
   ],
   "source": [
    "zero_coupon_model = build(MyUSTreasuryZeroCouponBondModel, (\n",
    "    par = 100.0, n = 2, \n",
    "    T = dataset[random_bill_index, Symbol(\"Security Term\")] |> String |> securityterm,\n",
    "    rate =  dataset[random_bill_index, Symbol(\"Investment Rate\")]\n",
    ")) |> discount_model;"
   ]
  },
  {
   "cell_type": "markdown",
   "id": "78fb07e0-99a1-4b51-a26c-993b85fce609",
   "metadata": {},
   "source": [
    "#### Check: Is the computed price _similar_ to the auction price $V_{B}$?\n",
    "The [isapprox function](https://docs.julialang.org/en/v1/base/math/#Base.isapprox) allows us to check the equality of numerical values up to some `rtol` value. If the values are within `rtol` of each other, this function returns `true`; otherwise, it returns `false`. When combined with the [@assert macro](https://docs.julialang.org/en/v1/base/base/#Base.@assert), the [isapprox function](https://docs.julialang.org/en/v1/base/math/#Base.isapprox)[isapprox function](https://docs.julialang.org/en/v1/base/math/#Base.isapprox) can be used to check a boolean condition, if the condition is `false` the assertion fails and an error is thrown:"
   ]
  },
  {
   "cell_type": "code",
   "execution_count": 10,
   "id": "bffc26c7-e4c3-4545-bf0d-f3f67b0e01b1",
   "metadata": {
    "tags": []
   },
   "outputs": [
    {
     "ename": "LoadError",
     "evalue": "UndefVarError: `random_bill_index` not defined",
     "output_type": "error",
     "traceback": [
      "UndefVarError: `random_bill_index` not defined",
      "",
      "Stacktrace:",
      " [1] top-level scope",
      "   @ In[10]:1"
     ]
    }
   ],
   "source": [
    "VB = dataset[random_bill_index, :Price];\n",
    "computed_price = zero_coupon_model.price\n",
    "@assert isapprox(VB, computed_price; rtol=1e-4)"
   ]
  },
  {
   "cell_type": "markdown",
   "id": "4bcdf189-e492-4e2e-8329-012c05fe1d04",
   "metadata": {},
   "source": [
    "#### Compute the change of the `T-bill` price as a function of the yield\n",
    "Compute the price of the selected T-bill using different values for the market investment rate, i.e., the effective interest rate, and store the results in the `theorem_1_simulation_array` variable. Iterate through each value of the $\\beta$ array using a `for` loop. For iteration $i$ of the loop:\n",
    "\n",
    "* Get a value for the perturbation $\\beta_{i}$ from the $\\beta$-array, and compute the new effective interest rate $\\bar{r}_{i} = \\beta_{i}\\cdot{\\bar{r}}$.\n",
    "* Update the `zero_coupon_model` instance with the new rate (set the `rate` field), and compute the new price\n",
    "* Store the $\\beta_{i}$ value in column 1, and the percentage difference in price in column 2 of the `theorem_1_simulation_array`"
   ]
  },
  {
   "cell_type": "code",
   "execution_count": 11,
   "id": "70f9101b-f93c-4468-b29a-c6257ffb4581",
   "metadata": {
    "tags": []
   },
   "outputs": [
    {
     "ename": "LoadError",
     "evalue": "UndefVarError: `random_bill_index` not defined",
     "output_type": "error",
     "traceback": [
      "UndefVarError: `random_bill_index` not defined",
      "",
      "Stacktrace:",
      " [1] top-level scope",
      "   @ ./In[11]:5"
     ]
    }
   ],
   "source": [
    "theorem_1_simulation_array = Array{Float64,2}(undef, number_of_samples, 2);\n",
    "for i ∈ eachindex(β)\n",
    "    \n",
    "    β_value = β[i];\n",
    "    r̄ = dataset[random_bill_index, Symbol(\"Investment Rate\")];\n",
    "    r̄_value = β_value*dataset[random_bill_index, Symbol(\"Investment Rate\")];\n",
    "    zero_coupon_model.rate = r̄_value;\n",
    "    tmp = zero_coupon_model |> discount_model;\n",
    "    new_price = tmp.price\n",
    "    \n",
    "    \n",
    "    theorem_1_simulation_array[i,1] = β_value\n",
    "    theorem_1_simulation_array[i,2] = ((new_price - computed_price)/(computed_price))*100\n",
    "end\n",
    "theorem_1_simulation_array;"
   ]
  },
  {
   "cell_type": "markdown",
   "id": "92580aee-434c-423a-b712-496de833a694",
   "metadata": {},
   "source": [
    "#### Visualize"
   ]
  },
  {
   "cell_type": "code",
   "execution_count": 12,
   "id": "5c6c834d-986d-4302-aca2-420b018bcc84",
   "metadata": {
    "tags": []
   },
   "outputs": [
    {
     "ename": "LoadError",
     "evalue": "UndefVarError: `random_bill_index` not defined",
     "output_type": "error",
     "traceback": [
      "UndefVarError: `random_bill_index` not defined",
      "",
      "Stacktrace:",
      " [1] top-level scope",
      "   @ In[12]:1"
     ]
    }
   ],
   "source": [
    "plot(theorem_1_simulation_array[:,1], theorem_1_simulation_array[:,2], lw=3, c=:black, xlabel=\"β\", \n",
    "        ylabel=\"Percentage change T-Bill price\", label=\"T-bill @index = $(random_bill_index)\")"
   ]
  },
  {
   "cell_type": "code",
   "execution_count": null,
   "id": "ed84bf52-d720-4436-9503-878de2070832",
   "metadata": {},
   "outputs": [],
   "source": []
  }
 ],
 "metadata": {
  "kernelspec": {
   "display_name": "Julia 1.9.3",
   "language": "julia",
   "name": "julia-1.9"
  },
  "language_info": {
   "file_extension": ".jl",
   "mimetype": "application/julia",
   "name": "julia",
   "version": "1.9.3"
  }
 },
 "nbformat": 4,
 "nbformat_minor": 5
}
