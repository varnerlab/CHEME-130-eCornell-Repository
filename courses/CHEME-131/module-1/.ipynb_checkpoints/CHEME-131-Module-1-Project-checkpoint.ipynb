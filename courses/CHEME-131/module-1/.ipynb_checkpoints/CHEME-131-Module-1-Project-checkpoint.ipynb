{
 "cells": [
  {
   "cell_type": "markdown",
   "id": "e6b5e784",
   "metadata": {},
   "source": [
    "## Module 1 Project: Analysis of Treasury Bill Pricing and Interest Rate Risk"
   ]
  },
  {
   "cell_type": "markdown",
   "id": "5ad142d0",
   "metadata": {
    "jp-MarkdownHeadingCollapsed": true,
    "tags": []
   },
   "source": [
    "### Introduction\n",
    "Treasury bills, or T-bills, are debt instruments with short-term maturity periods ranging from a few days to 52 weeks. T-bills are zero-coupon fixed-income investments, i.e., no coupon payments are paid during their term. Instead, treasury bills are priced so that the bill holder receives the par value $V_{P}$ at the end of the term.\n",
    "\n",
    "A zero-coupon T-bill has an annual market interest rate of $\\bar{r}$, specified at the time of purchase, and a T-year term. The fair price of the treasury bill is the future face (par) value discounted to today by the market interest rate $\\bar{r}$:\n",
    "\n",
    "$$\n",
    "V_{B} = \\frac{V_{P}}{\\left(1+\\bar{r}\\right)^{T}}\n",
    "$$\n",
    "\n",
    "The quantity $V_{B}$ denotes the current price, and $V_{P}$ represents the par (face) value of the T-bill.  Treasury bills are issued for specific periods, such as 4, 8, 13, 26, and 52 weeks."
   ]
  },
  {
   "cell_type": "markdown",
   "id": "50b1a85f",
   "metadata": {
    "tags": []
   },
   "source": [
    "### Scenario\n",
    "You purchased a 52-week T-bill with a par value $V_{P}=1000$ USD and interest rate $\\bar{r}$. However, four weeks (28-days) after purchasing the T-bill, the interest rate is now $\\bar{r}^{\\prime}$. Should you `sell` the T-bill before it matures or `hold` the T-bill to term?\n",
    "\n",
    "#### Tasks \n",
    " 1. Load, analyze and visualize historical T-bill interest rate data sets from 2019 to 2023 computed daily by [Federal Reserve Bank of New York](https://www.newyorkfed.org). Store these data in a [Dictionary](https://docs.julialang.org/en/v1/base/collections/#Dictionaries) where the year, e.g., `\"2022\"` are the keys and the data sets of the values. \n",
    " 1. Develop a strategy to decide between a `hold` or `sell` action for your T-bill.\n",
    " 1. Backtest your stratetgy using historical interest rate data for 52-week T-bills\n",
    "     1. Implement your strategy and compute the number of sucess and failures of strategy"
   ]
  },
  {
   "cell_type": "markdown",
   "id": "e7fc0ff4",
   "metadata": {
    "jp-MarkdownHeadingCollapsed": true,
    "tags": []
   },
   "source": [
    "### Setup\n",
    "The `Include.jl` file loads [Julia functions](https://docs.julialang.org/en/v1/manual/functions/) and [problem specific types](https://docs.julialang.org/en/v1/manual/functions/) that will be helpful for the analysis of T-bill pricing. In addition, `Include.jl` loads several external packages that we will use for our excercise:\n",
    "* [DataFrames.jl](https://dataframes.juliadata.org/stable/) provides a set of tools for working with tabular data in [Julia](https://julialang.org). Its design and functionality are similar to those of [Pandas (in Python)](https://pandas.pydata.org) and [data.frame, data.table and dplyr (in R)](https://dplyr.tidyverse.org), making it a great general purpose data science tool."
   ]
  },
  {
   "cell_type": "code",
   "execution_count": 1,
   "id": "0f889f34",
   "metadata": {},
   "outputs": [
    {
     "name": "stderr",
     "output_type": "stream",
     "text": [
      "\u001b[32m\u001b[1m  Activating\u001b[22m\u001b[39m project at `~/Desktop/julia_work/CHEME-130-eCornell-Repository/courses/CHEME-131/module-1`\n"
     ]
    }
   ],
   "source": [
    "include(\"Include.jl\");"
   ]
  },
  {
   "cell_type": "markdown",
   "id": "56da4457-a825-4bca-be54-009d82ff06dc",
   "metadata": {
    "jp-MarkdownHeadingCollapsed": true,
    "tags": []
   },
   "source": [
    "#### Functions\n",
    "* The `loadratesfile(year::String = \"2022\") -> DataFrame` function takes a [String](https://docs.julialang.org/en/v1/manual/strings/) encoding the year in the `YYYY` format, e.g., `\"2019\"` or `\"2020\"` and returns a [DataFrame](https://dataframes.juliadata.org/stable/) holding the daily interest rates for US Treasury Bills for various durations found on [Treasury.gov](https://home.treasury.gov/resource-center/data-chart-center/interest-rates/TextView?type=daily_treasury_bill_rates). This project has data from `\"2019\"`, `\"2020\"`, `\"2021\"`, `\"2022\"` and `\"2022\"`. The year parameter has a default value of `\"2022\"`.\n",
    "* The `build(model::Type{MyUSTreasuryBillModel}, data::NamedTuple) -> MyUSTreasuryBillModel` function takes information in the `data` arguement (the par value, the rate and the duration of the T-bill) and returns an instance of the `MyUSTreasuryBillModel` custom type.\n",
    "\n",
    "#### Types\n",
    "* `MyUSTreasuryBillModel` is a [mutable type](https://docs.julialang.org/en/v1/manual/types/#Mutable-Composite-Types) holding the par value $V_{P}$, the duration $T$ and the interest rate $\\bar{r}$ for a zero-coupon treasury bill. You construct a `MyUSTreasuryBillModel` instance using the `build` method described above."
   ]
  },
  {
   "cell_type": "markdown",
   "id": "3ad2a887",
   "metadata": {
    "tags": []
   },
   "source": [
    "### Task 1: Load, analyze and visualize historical interest rate data\n",
    " The rates are based on recently auctioned bills with various maturities and collected by the Federal Reserve Bank of New York every business day. The Bank Discount rate is based on par value and discount amount, while the Coupon Equivalent is based on purchase price and discount, and can be used to compare yields."
   ]
  },
  {
   "cell_type": "markdown",
   "id": "73abbae8-a73e-41be-af55-e0561d31f8e4",
   "metadata": {
    "tags": []
   },
   "source": [
    "#### Load the historical rate data into a Dictionary"
   ]
  },
  {
   "cell_type": "code",
   "execution_count": 4,
   "id": "9b74b327",
   "metadata": {},
   "outputs": [],
   "source": [
    "rate_data_dictionary = Dict{String,DataFrame}();\n",
    "years = [\"2019\",\"2020\",\"2021\",\"2022\",\"2023\"];\n",
    "for year ∈ years\n",
    "    rate_data_dictionary[year] = loadratesfile(year=year);\n",
    "end"
   ]
  },
  {
   "cell_type": "markdown",
   "id": "7c1c912b-838b-434a-8775-eaeea9a4c874",
   "metadata": {},
   "source": [
    "#### Visualize "
   ]
  },
  {
   "cell_type": "code",
   "execution_count": null,
   "id": "1bbc5a72-ab93-442e-8191-ef3f53800d79",
   "metadata": {},
   "outputs": [],
   "source": []
  },
  {
   "cell_type": "markdown",
   "id": "e61e766a-7f45-4ab2-9ad3-12cce04eb1ec",
   "metadata": {},
   "source": [
    "#### Contstruct a discrete lattice model of future interest rates"
   ]
  },
  {
   "cell_type": "markdown",
   "id": "6973e008-71a0-452b-bf2a-c12adeb73f83",
   "metadata": {},
   "source": [
    "### Task 2: Develop a Strategy for the Hold versus Sell action"
   ]
  },
  {
   "cell_type": "code",
   "execution_count": null,
   "id": "6e6bf2aa-fa4b-4847-8af1-1ca00678f215",
   "metadata": {},
   "outputs": [],
   "source": []
  }
 ],
 "metadata": {
  "kernelspec": {
   "display_name": "Julia 1.9.0",
   "language": "julia",
   "name": "julia-1.9"
  },
  "language_info": {
   "file_extension": ".jl",
   "mimetype": "application/julia",
   "name": "julia",
   "version": "1.9.0"
  }
 },
 "nbformat": 4,
 "nbformat_minor": 5
}
