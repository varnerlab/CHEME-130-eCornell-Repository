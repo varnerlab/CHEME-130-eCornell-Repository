{
 "cells": [
  {
   "cell_type": "markdown",
   "id": "e6b5e784",
   "metadata": {},
   "source": [
    "# Analysis of Treasury Bill Pricing and Interest Rate Risk"
   ]
  },
  {
   "cell_type": "markdown",
   "id": "5ad142d0",
   "metadata": {
    "tags": []
   },
   "source": [
    "## Background\n",
    "Treasury bills, otherwise known as T-Bills, are financial instruments with short-term due dates ranging from a few days to 52 weeks. They are fixed-income investments with zero coupons, meaning no coupon payments are made during the term. Instead, the price of treasury bills is calculated so that the bill receiver gets the face (par) value ($V_{P}$) at the end of the term. \n",
    "\n",
    "<div>\n",
    "    <center>\n",
    "        <img src=\"figs/Fig-ZC-Schematic.png\" width=\"440\"/>\n",
    "    </center>\n",
    "</div>\n",
    "\n",
    "### Pricing\n",
    "A zero-coupon T-bill with an annual effective market interest rate $\\bar{r}$, which is specified at the time of purchase, and a term of T years has a _fair price_ of:\n",
    "\n",
    "$$\n",
    "V_{B} = \\mathcal{D}_{T,0}^{-1}\\cdot{V_{P}}\n",
    "$$\n",
    "\n",
    "where $\\mathcal{D}_{T}$ denotes the discount factor from the time of the auction to the term of T-bill, i.e., $0\\rightarrow{T}$. Typically, a constant averaged rate of interest is used to compute the discount factor:\n",
    "\n",
    "$$\n",
    "\\mathcal{D}_{T,0} = (1+\\bar{r})^{T}\n",
    "$$\n",
    "\n",
    "However, dynamic formulations of the discount factor with period-specific interest rates can also be used:\n",
    "\n",
    "$$\n",
    "\\mathcal{D}_{T,0} = \\left[\\prod_{j=0}^{T-1}\\left(1+r_{j+1,j}\\right)\\right]\n",
    "$$\n",
    "\n",
    "where $r_{j+1,j}$ terms are called short rates, i.e., the interest rate earned between period $j\\rightarrow{j+1}$. Treasury bills are released for specific periods $T=$ 4, 8, 13, 26, and 52 weeks. The fair price $V_{B}$ of the T-bill is the future face value $V_{P}$ that is discounted to today’s value by the effective market interest rate $\\bar{r}$, which is assumed constant over the lifetime of the treasury bill."
   ]
  },
  {
   "cell_type": "markdown",
   "id": "50b1a85f",
   "metadata": {
    "tags": []
   },
   "source": [
    "## Project\n",
    "You purchased a 52-week T-bill with a par value $V_{P}=100.0$ USD and an effective market rate of interest $\\bar{r}$ (annualized) on January 03, 2022. However, some time after purchasing the T-bill, the interest rate is now $\\bar{r}^{\\prime}$. Should you `sell` the T-bill before it matures or `hold` the T-bill to term?\n",
    "\n",
    "### Objectives\n",
    " 1. Load, and analyze historical T-bill interest rate data sets from 2019 to 2023 computed daily by [Federal Reserve Bank of New York](https://www.newyorkfed.org). Store these data in a [Dictionary](https://docs.julialang.org/en/v1/base/collections/#Dictionaries). Select the year`\"2022\"` for analysis. \n",
    " 1. Develop a strategy to identify trade signals for your T-bill.\n",
    "     * Test your strategy as you move forward and backward in time between January 03, 2022 and December, 31, 2023."
   ]
  },
  {
   "cell_type": "markdown",
   "id": "e7fc0ff4",
   "metadata": {
    "jp-MarkdownHeadingCollapsed": true,
    "tags": []
   },
   "source": [
    "## Setup\n",
    "In the following code block we setup the computational aspects of the problem by including the `Include.jl` file. The `Include.jl` file loads external packages, functions that we will use in this excercise and custom types to model the components of our problem."
   ]
  },
  {
   "cell_type": "markdown",
   "id": "35d2219c-8eed-4924-8ba2-cdaac5db1055",
   "metadata": {
    "tags": []
   },
   "source": [
    "### Packages\n",
    "`Include.jl` loads several external packages that we will use for our excercise:\n",
    "* [DataFrames.jl](https://dataframes.juliadata.org/stable/) provides a set of tools for working with tabular data in [Julia](https://julialang.org). Its design and functionality are similar to those of [Pandas (in Python)](https://pandas.pydata.org) and [data.frame, data.table and dplyr (in R)](https://dplyr.tidyverse.org), making it a great general purpose data science tool.\n",
    "* [Plots.jl](https://docs.juliaplots.org/stable/) is a plotting library in [Julia](https://julialang.org)."
   ]
  },
  {
   "cell_type": "markdown",
   "id": "7663f65a-381b-4d87-b5ce-047c812c53f8",
   "metadata": {
    "tags": []
   },
   "source": [
    "### Functions\n",
    "`Include.jl` loads the following [Julia functions](https://docs.julialang.org/en/v1/manual/functions/) into the notebook:\n",
    "\n",
    "##### `loadratesfile(year::String = \"2022\") -> DataFrame`\n",
    "\n",
    "> This function takes a [String](https://docs.julialang.org/en/v1/manual/strings/) encoding the year in the `YYYY` format, e.g., `\"2019\"` or `\"2020\"` and returns a [DataFrame](https://dataframes.juliadata.org/stable/) holding the daily interest rates for US Treasury Bills for various durations found on [Treasury.gov](https://home.treasury.gov/resource-center/data-chart-center/interest-rates/TextView?type=daily_treasury_bill_rates). This project has data from `\"2019\"`, `\"2020\"`, `\"2021\"`, `\"2022\"` and `\"2022\"`. The year parameter has a default value of `\"2022\"`.\n",
    "\n",
    "##### `build(model::Type{MyUSTreasuryBillModel}, data::NamedTuple) -> MyUSTreasuryBillModel`\n",
    "\n",
    "> This function takes information in the `data` [NamedTuple](https://docs.julialang.org/en/v1/base/base/#Core.NamedTuple) argument (the par value, the rate and the duration of the T-bill) and returns an instance of the `MyUSTreasuryBillModel` custom type.\n",
    "\n",
    "##### `build(model::Type{MySymmetricBinaryLatticeModel}, data::NamedTuple)::MySymmetricBinaryLatticeModel` and `build(model::Type{MyBinaryLatticeNodeModel}, data::NamedTuple)::MyBinaryLatticeNodeModel` \n",
    "\n",
    "> These factory functions take information in the `data` [NamedTuple](https://docs.julialang.org/en/v1/base/base/#Core.NamedTuple) argument and construct a node or the binomial short-rate lattice model, respectively. \n",
    "\n",
    "##### `price(model::MyUSTreasuryBillModel, compounding::T) -> MyUSTreasuryBillModel where T <: AbstractCompoundingModel`\n",
    "\n",
    "> This function takes a `MyUSTreasuryBillModel` instance, and a compounding model and returns an updated `MyUSTreasuryBillModel` instance that holds the price $V_{B}$ value in the `price` field of the `MyUSTreasuryBillModel` instance.\n",
    "\n",
    "##### `𝔼(model::MySymmetricBinaryLatticeModel; level::Int = 0) -> Float64` and `𝕍(model::MySymmetricBinaryLatticeModel; level::Int = 0) -> Float64`\n",
    "\n",
    "> These functions take a`MySymmetricBinaryLatticeModel` instance, and the level and the tree (`0`-based) and compute the [expectation](https://en.wikipedia.org/wiki/Expected_value) and [variance](https://en.wikipedia.org/wiki/Variance) of the short-rates for the given level (time-step) of the lattice. "
   ]
  },
  {
   "cell_type": "markdown",
   "id": "161ed0bc-0702-4c5e-a531-1b1c5517c128",
   "metadata": {},
   "source": [
    "### Types\n",
    "`Include.jl` loads some [problem-specific types](https://docs.julialang.org/en/v1/manual/functions/) that will be helpful for the analysis of T-bill pricing. \n",
    "\n",
    "* `MyUSTreasuryBillModel` is a [mutable type](https://docs.julialang.org/en/v1/manual/types/#Mutable-Composite-Types) holding the par value $V_{P}$, the duration $T$ and the interest rate $\\bar{r}$ for a zero-coupon treasury bill. You construct a `MyUSTreasuryBillModel` instance using the `build` method described above.\n",
    "* `DiscreteCompoundingModel` and `ContinuousCompoundingModel` are [immutable types](https://docs.julialang.org/en/v1/manual/types/#Composite-Types) that let our code know which compounding model we wish to use.\n",
    "* The `MyBinaryLatticeNodeModel` and `MySymmetricBinaryLatticeModel` mutable types hold information about the nodes, and the binomial lattice, respectively, for the short-rate calculations. "
   ]
  },
  {
   "cell_type": "code",
   "execution_count": 1,
   "id": "0f889f34",
   "metadata": {},
   "outputs": [
    {
     "name": "stderr",
     "output_type": "stream",
     "text": [
      "\u001b[32m\u001b[1m  Activating\u001b[22m\u001b[39m project at `~/Desktop/julia_work/CHEME-130-eCornell-Repository/courses/CHEME-131/module-1`\n"
     ]
    }
   ],
   "source": [
    "include(\"Include.jl\");"
   ]
  },
  {
   "cell_type": "markdown",
   "id": "4a55358b-93f5-4599-9346-375b6ee8fef8",
   "metadata": {},
   "source": [
    "## Set constant values \n",
    "We will need several constants, regardless of the year we choose to analyze. First, we will always analyze 52-week data, so we encode this choice in the `key` variable. Next, we'll assume a discrete compounding model; thus, we instantiate an instance of the `DiscreteCompoundingModel` type and then store this instance in the `compounding` variable. Lastly, the T-bill’s face (par) value will always be $V_{P}$ = 100.0 USD."
   ]
  },
  {
   "cell_type": "code",
   "execution_count": 2,
   "id": "a14aeb6d-6342-46d2-ae00-d63f1055ffd4",
   "metadata": {},
   "outputs": [],
   "source": [
    "number_of_weeks_per_year = 52;\n",
    "key = Symbol(\"52 WEEKS COUPON EQUIVALENT\");\n",
    "Vₚ = 100.0;\n",
    "T = (52.0/number_of_weeks_per_year);\n",
    "compounding = DiscreteCompoundingModel();"
   ]
  },
  {
   "cell_type": "markdown",
   "id": "3ad2a887",
   "metadata": {
    "tags": []
   },
   "source": [
    "## Objective 1: Load historical interest rate dataset\n",
    "To begin, we gather interest rate data from `2019` to `2022`, using rates from recently auctioned bills collected by the Federal Reserve Bank of New York on every business day.  For this analysis, we use the `52 WEEKS COUPON EQUIVALENT` data as a proxy for the effective market interest rate $\\bar{r}$ on each trading day for a 52-week T-bill.\n",
    "\n",
    "### Implementation\n",
    "We store the rate information in a `rate_data_dictionary` variable, which is a [Dictionary](https://docs.julialang.org/en/v1/base/collections/#Dictionaries) with keys representing years (from the `years` array, type `String`) and values as a `DataFrame` holding rate values. We load each year by iterating through the `years` array and passing the corresponding `year` parameter to the `loadratesfile(...)` function:"
   ]
  },
  {
   "cell_type": "code",
   "execution_count": 19,
   "id": "9b74b327",
   "metadata": {},
   "outputs": [],
   "source": [
    "rate_data_dictionary = Dict{String,DataFrame}();\n",
    "years = [\"2019\",\"2020\",\"2021\",\"2022\"];\n",
    "for year ∈ years\n",
    "    rate_data_dictionary[year] = loadratesfile(year=year);\n",
    "end"
   ]
  },
  {
   "cell_type": "markdown",
   "id": "c730895c-19ac-4d6e-b856-e60ffc55da00",
   "metadata": {},
   "source": [
    "Now that have loaded the rates dataset, let's analyze `2022`, and save our selection in the variable `selected_year`. Then access the corresponding rate values `DataFrame` for the `selected_year` from the `rate_data_dictionary`. Store the rate data in the `dataset` variable:"
   ]
  },
  {
   "cell_type": "code",
   "execution_count": 4,
   "id": "cf10917a-cc78-4e5f-9a59-1c8c667c395e",
   "metadata": {},
   "outputs": [],
   "source": [
    "selected_year = \"2022\"\n",
    "dataset = rate_data_dictionary[selected_year];"
   ]
  },
  {
   "cell_type": "markdown",
   "id": "6973e008-71a0-452b-bf2a-c12adeb73f83",
   "metadata": {},
   "source": [
    "## Objective 2: Identify possible treasury bill trade signals\n",
    "Deciding whether to `buy`, `sell`, or `hold` a T-bill, or any other security, depends on your investment objectives. Treasury bills are generally considered secure, short-term investments, but their prices can fluctuate depending on the interest rate. If the price of a T-bill changes, you could `sell` it before maturity and earn an immediate capital gain or loss. However, it's crucial to know when this makes sense.\n",
    "\n",
    "To start answering this question, let's examine our historical data set to identify potential trade signals, which indicate changes in the T-bill's price that could result in a capital gain or loss. We'll use the [log return](https://en.wikipedia.org/wiki/Rate_of_return) $R_{ij}$ between two dates ($i\\geq{j}$) to measure the potential gain or loss:\n",
    "\n",
    "$$\n",
    "R_{i,j} = 100\\cdot{\\ln\\left(\\frac{V_{B,i}}{V_{B,j}}\\right)}\n",
    "$$\n",
    "\n",
    "Here, $V_{B,k}$ refers to the price of a 52-week T-bill on day $k$ in the dataset, and $\\ln$ denotes the [natural logarithm](https://en.wikipedia.org/wiki/Natural_logarithm). If you have two possible actions $a\\in\\left\\{\\text{sell},\\text{hold}\\right\\}$ you can propose the following policy: Implement a `sell` action if $R_{ij}>\\alpha$, where $\\alpha>0$ is a user-specified trade threshold. Otherwise, implement a `hold` action."
   ]
  },
  {
   "cell_type": "markdown",
   "id": "c6f47052-9e75-4a69-8565-503c69f2ad88",
   "metadata": {},
   "source": [
    "### Prerequisite: Compute the price of a 52-week T-bill for each trading day of 2022\n",
    "To calculate the cost of a 52-week T-bill for each trading day in 2022, start by finding out how many trading days are in `2022` using the `nrow(…)` function. Save this number in the `number_of_trading_days` variable. Then create a one-dimensional `models` array containing instances of `MyUSTreasuryBillModel`. Finally, using a `for` loop, construct `MyUSTreasuryBillModel` instances,  and compute the price, for a 52-week treasury bill using the effective market rate of interest $\\bar{r}$ (found in the `dataset` variable) for each trading day. Store these instances in the `models` array.\n",
    "\n",
    "__Reminder__: the `dataset` is organized from the newest (Dec-31-2022) to oldest (Jan-03-2022)."
   ]
  },
  {
   "cell_type": "code",
   "execution_count": 5,
   "id": "b4be8d28-f139-4ad2-95dd-895901dad1fc",
   "metadata": {},
   "outputs": [],
   "source": [
    "number_of_trading_days = nrow(dataset)\n",
    "models = Array{MyUSTreasuryBillModel,1}(undef, number_of_trading_days);\n",
    "for i ∈ 1:number_of_trading_days\n",
    "    \n",
    "    r̄ = dataset[i,key]*(1/100)\n",
    "    model = build(MyUSTreasuryBillModel, (\n",
    "        par = Vₚ, T = T, rate=r̄)) |> compounding\n",
    "    \n",
    "    models[i] = model;\n",
    "end"
   ]
  },
  {
   "cell_type": "markdown",
   "id": "123e8d54-d557-423a-8a6f-c08334776f8f",
   "metadata": {},
   "source": [
    "### Compute the return $R_{ij}$ array for all combinations of $(i,j)$:"
   ]
  },
  {
   "cell_type": "code",
   "execution_count": 41,
   "id": "e45bfdff-3400-495e-bc3f-4e84246d977d",
   "metadata": {},
   "outputs": [],
   "source": [
    "reversed_models_array = reverse(models);\n",
    "log_return_array = Array{Float64,2}(undef, number_of_trading_days, number_of_trading_days)\n",
    "fill!(forward_return_array,0.0);\n",
    "for i ∈ 1:number_of_trading_days\n",
    "    \n",
    "    purchased_model = reversed_models_array[i];\n",
    "    purchase_price = purchased_model.price\n",
    "    \n",
    "    for j ∈ 1:number_of_trading_days\n",
    "        next_model = reversed_models_array[j];\n",
    "        next_price = next_model.price\n",
    "        log_return_array[i,j] = log(next_price/purchase_price)*100.0;\n",
    "    end\n",
    "end"
   ]
  },
  {
   "cell_type": "code",
   "execution_count": 42,
   "id": "43f7c6fb-c45b-4580-9422-950233a16112",
   "metadata": {},
   "outputs": [
    {
     "data": {
      "text/plain": [
       "249×249 Matrix{Float64}:\n",
       "  0.0         0.0199243  -0.00996066  -0.0398367   …  -3.99331     -4.02202\n",
       " -0.0199243   0.0        -0.0298849   -0.059761       -4.01323     -4.04194\n",
       "  0.00996066  0.0298849   0.0         -0.029876       -3.98335     -4.01206\n",
       "  0.0398367   0.059761    0.029876     0.0            -3.95347     -3.98218\n",
       "  0.0199203   0.0398446   0.00995966  -0.0199164      -3.97339     -4.0021\n",
       "  0.0497934   0.0697176   0.0398327    0.00995669  …  -3.94351     -3.97222\n",
       "  0.0497934   0.0697176   0.0398327    0.00995669     -3.94351     -3.97222\n",
       "  0.0597491   0.0796733   0.0497884    0.0199124      -3.93356     -3.96227\n",
       "  0.0597491   0.0796733   0.0497884    0.0199124      -3.93356     -3.96227\n",
       "  0.0896102   0.109534    0.0796495    0.0497735      -3.9037      -3.93241\n",
       "  0.159252    0.179176    0.149291     0.119415    …  -3.83405     -3.86276\n",
       "  0.139359    0.159283    0.129398     0.0995223      -3.85395     -3.88266\n",
       "  0.169196    0.189121    0.159236     0.12936        -3.82411     -3.85282\n",
       "  ⋮                                                ⋱               \n",
       "  3.95501     3.97494     3.94505      3.91518        -0.0382922   -0.0670017\n",
       "  3.95501     3.97494     3.94505      3.91518        -0.0382922   -0.0670017\n",
       "  3.92629     3.94621     3.91632      3.88645        -0.0670209   -0.0957304\n",
       "  3.95501     3.97494     3.94505      3.91518     …  -0.0382922   -0.0670017\n",
       "  3.95501     3.97494     3.94505      3.91518        -0.0382922   -0.0670017\n",
       "  3.92629     3.94621     3.91632      3.88645        -0.0670209   -0.0957304\n",
       "  3.96459     3.98451     3.95463      3.92475        -0.0287178   -0.0574273\n",
       "  3.97416     3.99409     3.9642       3.93433        -0.0191443   -0.0478538\n",
       "  4.03158     4.05151     4.02162      3.99175     …   0.0382775    0.009568\n",
       "  4.00288     4.0228      3.99292      3.96304         0.00957075  -0.0191388\n",
       "  3.99331     4.01323     3.98335      3.95347         0.0         -0.0287095\n",
       "  4.02202     4.04194     4.01206      3.98218         0.0287095    0.0"
      ]
     },
     "execution_count": 42,
     "metadata": {},
     "output_type": "execute_result"
    }
   ],
   "source": [
    "log_return_array"
   ]
  }
 ],
 "metadata": {
  "kernelspec": {
   "display_name": "Julia 1.9.1",
   "language": "julia",
   "name": "julia-1.9"
  },
  "language_info": {
   "file_extension": ".jl",
   "mimetype": "application/julia",
   "name": "julia",
   "version": "1.9.1"
  }
 },
 "nbformat": 4,
 "nbformat_minor": 5
}
