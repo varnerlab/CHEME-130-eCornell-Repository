{
 "cells": [
  {
   "cell_type": "markdown",
   "id": "e6b5e784",
   "metadata": {},
   "source": [
    "# Analysis of Treasury Bill Pricing and Interest Rate Risk"
   ]
  },
  {
   "cell_type": "markdown",
   "id": "5ad142d0",
   "metadata": {
    "tags": []
   },
   "source": [
    "## Background\n",
    "Treasury bills, otherwise known as T-Bills, are financial instruments with short-term due dates ranging from a few days to 52 weeks. They are fixed-income investments with zero coupons, meaning no coupon payments are made during the term. Instead, the price of treasury bills is calculated so that the bill receiver gets the face (par) value ($V_{P}$) at the end of the term. \n",
    "\n",
    "<div>\n",
    "    <center>\n",
    "        <img src=\"figs/Fig-ZC-Schematic.png\" width=\"440\"/>\n",
    "    </center>\n",
    "</div>\n",
    "\n",
    "### Pricing\n",
    "A zero-coupon T-bill with an annual effective market interest rate $\\bar{r}$, which is specified at the time of purchase, and a term of T years has a _fair price_ of:\n",
    "\n",
    "$$\n",
    "V_{B} = \\mathcal{D}_{T,0}^{-1}\\cdot{V_{P}}\n",
    "$$\n",
    "\n",
    "where $\\mathcal{D}_{T}$ denotes the discount factor from the time of the auction to the term of T-bill, i.e., $0\\rightarrow{T}$. Typically, a constant averaged rate of interest is used to compute the discount factor:\n",
    "\n",
    "$$\n",
    "\\mathcal{D}_{T,0} = (1+\\bar{r})^{T}\n",
    "$$\n",
    "\n",
    "However, dynamic formulations of the discount factor with period-specific interest rates can also be used:\n",
    "\n",
    "$$\n",
    "\\mathcal{D}_{T,0} = \\left[\\prod_{j=0}^{T-1}\\left(1+r_{j+1,j}\\right)\\right]\n",
    "$$\n",
    "\n",
    "where $r_{j+1,j}$ terms are called short rates, i.e., the interest rate earned between period $j\\rightarrow{j+1}$. Treasury bills are released for specific periods $T=$ 4, 8, 13, 26, and 52 weeks. The fair price $V_{B}$ of the T-bill is the future face value $V_{P}$ that is discounted to today’s value by the effective market interest rate $\\bar{r}$, which is assumed constant over the lifetime of the treasury bill."
   ]
  },
  {
   "cell_type": "markdown",
   "id": "50b1a85f",
   "metadata": {
    "tags": []
   },
   "source": [
    "## Project\n",
    "You purchased a 52-week T-bill with a par value $V_{P}=100.0$ USD and an effective market rate of interest $\\bar{r}$ (annualized) on January 03, 2022. However, some time after purchasing the T-bill, the interest rate is now $\\bar{r}^{\\prime}$. Should you `sell` the T-bill before it matures or `hold` the T-bill to term?\n",
    "\n",
    "### Objectives\n",
    " 1. Load, and analyze historical T-bill interest rate data sets from 2019 to 2023 computed daily by [Federal Reserve Bank of New York](https://www.newyorkfed.org). Store these data in a [Dictionary](https://docs.julialang.org/en/v1/base/collections/#Dictionaries). Select the year`\"2022\"` for analysis. \n",
    " 1. Develop a strategy to decide between a `hold` or `sell` action for your T-bill: \n",
    "     * Test your strategy as you move forward in time from January 03, 2022 to the last trading day of the year.\n",
    "     * Hypothetically, assume you purchased the T-bill on the last trading day of the year, and using a time machine, went backward in time until January 03, 2022. How does your strategy perform?"
   ]
  },
  {
   "cell_type": "markdown",
   "id": "e7fc0ff4",
   "metadata": {
    "jp-MarkdownHeadingCollapsed": true,
    "tags": []
   },
   "source": [
    "## Setup\n",
    "In the following code block we setup the computational aspects of the problem by including the `Include.jl` file. The `Include.jl` file loads external packages, functions that we will use in this excercise and custom types to model the components of our problem."
   ]
  },
  {
   "cell_type": "markdown",
   "id": "35d2219c-8eed-4924-8ba2-cdaac5db1055",
   "metadata": {
    "tags": []
   },
   "source": [
    "### Packages\n",
    "`Include.jl` loads several external packages that we will use for our excercise:\n",
    "* [DataFrames.jl](https://dataframes.juliadata.org/stable/) provides a set of tools for working with tabular data in [Julia](https://julialang.org). Its design and functionality are similar to those of [Pandas (in Python)](https://pandas.pydata.org) and [data.frame, data.table and dplyr (in R)](https://dplyr.tidyverse.org), making it a great general purpose data science tool.\n",
    "* [Plots.jl](https://docs.juliaplots.org/stable/) is a plotting library in [Julia](https://julialang.org)."
   ]
  },
  {
   "cell_type": "markdown",
   "id": "7663f65a-381b-4d87-b5ce-047c812c53f8",
   "metadata": {
    "tags": []
   },
   "source": [
    "### Functions\n",
    "`Include.jl` loads the following [Julia functions](https://docs.julialang.org/en/v1/manual/functions/) into the notebook:\n",
    "\n",
    "##### `loadratesfile(year::String = \"2022\") -> DataFrame`\n",
    "\n",
    "> This function takes a [String](https://docs.julialang.org/en/v1/manual/strings/) encoding the year in the `YYYY` format, e.g., `\"2019\"` or `\"2020\"` and returns a [DataFrame](https://dataframes.juliadata.org/stable/) holding the daily interest rates for US Treasury Bills for various durations found on [Treasury.gov](https://home.treasury.gov/resource-center/data-chart-center/interest-rates/TextView?type=daily_treasury_bill_rates). This project has data from `\"2019\"`, `\"2020\"`, `\"2021\"`, `\"2022\"` and `\"2022\"`. The year parameter has a default value of `\"2022\"`.\n",
    "\n",
    "##### `build(model::Type{MyUSTreasuryBillModel}, data::NamedTuple) -> MyUSTreasuryBillModel`\n",
    "\n",
    "> This function takes information in the `data` [NamedTuple](https://docs.julialang.org/en/v1/base/base/#Core.NamedTuple) argument (the par value, the rate and the duration of the T-bill) and returns an instance of the `MyUSTreasuryBillModel` custom type.\n",
    "\n",
    "##### `build(model::Type{MySymmetricBinaryLatticeModel}, data::NamedTuple)::MySymmetricBinaryLatticeModel` and `build(model::Type{MyBinaryLatticeNodeModel}, data::NamedTuple)::MyBinaryLatticeNodeModel` \n",
    "\n",
    "> These factory functions take information in the `data` [NamedTuple](https://docs.julialang.org/en/v1/base/base/#Core.NamedTuple) argument and construct a node or the binomial short-rate lattice model, respectively. \n",
    "\n",
    "##### `price(model::MyUSTreasuryBillModel, compounding::T) -> MyUSTreasuryBillModel where T <: AbstractCompoundingModel`\n",
    "\n",
    "> This function takes a `MyUSTreasuryBillModel` instance, and a compounding model and returns an updated `MyUSTreasuryBillModel` instance that holds the price $V_{B}$ value in the `price` field of the `MyUSTreasuryBillModel` instance.\n",
    "\n",
    "##### `𝔼(model::MySymmetricBinaryLatticeModel; level::Int = 0) -> Float64` and `𝕍(model::MySymmetricBinaryLatticeModel; level::Int = 0) -> Float64`\n",
    "\n",
    "> These functions take a`MySymmetricBinaryLatticeModel` instance, and the level and the tree (`0`-based) and compute the [expectation](https://en.wikipedia.org/wiki/Expected_value) and [variance](https://en.wikipedia.org/wiki/Variance) of the short-rates for the given level (time-step) of the lattice. "
   ]
  },
  {
   "cell_type": "markdown",
   "id": "161ed0bc-0702-4c5e-a531-1b1c5517c128",
   "metadata": {},
   "source": [
    "### Types\n",
    "`Include.jl` loads some [problem-specific types](https://docs.julialang.org/en/v1/manual/functions/) that will be helpful for the analysis of T-bill pricing. \n",
    "\n",
    "* `MyUSTreasuryBillModel` is a [mutable type](https://docs.julialang.org/en/v1/manual/types/#Mutable-Composite-Types) holding the par value $V_{P}$, the duration $T$ and the interest rate $\\bar{r}$ for a zero-coupon treasury bill. You construct a `MyUSTreasuryBillModel` instance using the `build` method described above.\n",
    "* `DiscreteCompoundingModel` and `ContinuousCompoundingModel` are [immutable types](https://docs.julialang.org/en/v1/manual/types/#Composite-Types) that let our code know which compounding model we wish to use.\n",
    "* The `MyBinaryLatticeNodeModel` and `MySymmetricBinaryLatticeModel` mutable types hold information about the nodes, and the binomial lattice, respectively, for the short-rate calculations. "
   ]
  },
  {
   "cell_type": "code",
   "execution_count": 1,
   "id": "0f889f34",
   "metadata": {},
   "outputs": [
    {
     "name": "stderr",
     "output_type": "stream",
     "text": [
      "\u001b[32m\u001b[1m  Activating\u001b[22m\u001b[39m project at `~/Desktop/julia_work/CHEME-130-eCornell-Repository/courses/CHEME-131/module-1`\n"
     ]
    }
   ],
   "source": [
    "include(\"Include.jl\");"
   ]
  },
  {
   "cell_type": "markdown",
   "id": "4a55358b-93f5-4599-9346-375b6ee8fef8",
   "metadata": {},
   "source": [
    "## Set constant values \n",
    "We will need several constants, regardless of the year we choose to analyze. First, we will always analyze 52-week data, so we encode this choice in the `key` variable. Next, we'll assume a discrete compounding model; thus, we instantiate an instance of the `DiscreteCompoundingModel` type and then store this instance in the `compounding` variable. Lastly, the T-bill’s face (par) value will always be $V_{P}$ = 100.0 USD."
   ]
  },
  {
   "cell_type": "code",
   "execution_count": 2,
   "id": "a14aeb6d-6342-46d2-ae00-d63f1055ffd4",
   "metadata": {},
   "outputs": [],
   "source": [
    "number_of_weeks_per_year = 52;\n",
    "key = Symbol(\"52 WEEKS COUPON EQUIVALENT\");\n",
    "Vₚ = 100.0;\n",
    "T = (52.0/number_of_weeks_per_year);\n",
    "compounding = DiscreteCompoundingModel();"
   ]
  },
  {
   "cell_type": "markdown",
   "id": "3ad2a887",
   "metadata": {
    "tags": []
   },
   "source": [
    "## Objective 1: Load and analyze historical interest rate ranges\n",
    "First, we load the interest rate data for each year in our data set, i.e., `2019` to `2022`. These rates are based on recently auctioned bills with various maturities and collected by the Federal Reserve Bank of New York every business day. The Bank Discount rate is based on par value and discount amount, while the Coupon Equivalent is based on the purchase price and discount and can be used to compare yields. In this study, we use the `52 WEEKS COUPON EQUIVALENT` data as a surrogate for the effective market interest rate $\\bar{r}$ available on each trading day.\n",
    "\n",
    "### Implementation\n",
    "We store the rate information in the `rate_data_dictionary` variable, which is a [Dictionary](https://docs.julialang.org/en/v1/base/collections/#Dictionaries); the keys of the dictionary are the years (from the `years` array, type `String`) while the values are a `DataFrame` holding the rate values. We load each year by iterating through the `years` array and passing the appropriate `year` parameter to the `loadratesfile(...)` function:"
   ]
  },
  {
   "cell_type": "code",
   "execution_count": 18,
   "id": "9b74b327",
   "metadata": {},
   "outputs": [],
   "source": [
    "rate_data_dictionary = Dict{String,DataFrame}();\n",
    "years = [\"2019\",\"2020\",\"2021\",\"2022\",\"2023\"];\n",
    "for year ∈ years\n",
    "    rate_data_dictionary[year] = loadratesfile(year=year);\n",
    "end"
   ]
  },
  {
   "cell_type": "markdown",
   "id": "c730895c-19ac-4d6e-b856-e60ffc55da00",
   "metadata": {},
   "source": [
    "### Select a year of interest rate data to analyze:\n",
    "Let;s `2022` for the year to analyze, and save our selection in the variable `selected_year`. Then extract the corresponding rate values for the `selected_year` from the `rate_data_dictionary`. The rate data will be stored in the `dataset` variable (which is a `DataFrame`):"
   ]
  },
  {
   "cell_type": "code",
   "execution_count": 4,
   "id": "cf10917a-cc78-4e5f-9a59-1c8c667c395e",
   "metadata": {},
   "outputs": [],
   "source": [
    "selected_year = \"2022\"\n",
    "dataset = rate_data_dictionary[selected_year];"
   ]
  },
  {
   "cell_type": "markdown",
   "id": "6973e008-71a0-452b-bf2a-c12adeb73f83",
   "metadata": {},
   "source": [
    "## Objective 2: Identify possible treasury bill trade signals\n",
    "Whether to `hold` or `sell` a T-bill (or any other security) depends on your investment goals. Treasury securities, like T-bills, are generally considered safe, short-term investments. When you buy these securities, you receive their face value at the end of the term. However, you won’t have access to the invested funds until that time. Thus, if you’re concerned about accessing these funds before the term ends, such as for unexpected expenses, you could always sell the T-bill before maturity and potentially earn a capital gain or loss. However, when does this make sense?\n",
    "\n",
    "You have two possible actions $a\\in\\left\\{\\text{sell},\\text{hold}\\right\\}$ and you propose the following trade policy:\n",
    "* You implement a `sell` action if the T-bill experiences a $\\alpha$% gain relative to the purchase price\n",
    "* Otherwise, you implement a `hold` action which earns effective market rate of interest $\\bar{r}$."
   ]
  },
  {
   "cell_type": "markdown",
   "id": "c6f47052-9e75-4a69-8565-503c69f2ad88",
   "metadata": {},
   "source": [
    "### Prerequisite: Compute the price of a 52-week T-bill for each trading day of 2022\n",
    "To calculate the cost of a 52-week T-bill for each trading day in 2022, start by finding out how many trading days are in `2022` using the `nrow(…)` function. Save this number in the `number_of_trading_days` variable. Then create a one-dimensional `models` array containing instances of `MyUSTreasuryBillModel`. Finally, using a `for` loop, construct `MyUSTreasuryBillModel` instances,  and compute the price, for a 52-week treasury bill using the effective market rate of interest $\\bar{r}$ (found in the `dataset` variable) for each trading day. Store these instances in the `models` array.\n",
    "\n",
    "__Reminder__: the `dataset` is organized newest to oldest."
   ]
  },
  {
   "cell_type": "code",
   "execution_count": 5,
   "id": "b4be8d28-f139-4ad2-95dd-895901dad1fc",
   "metadata": {},
   "outputs": [],
   "source": [
    "number_of_trading_days = nrow(dataset)\n",
    "models = Array{MyUSTreasuryBillModel,1}(undef, number_of_trading_days);\n",
    "for i ∈ 1:number_of_trading_days\n",
    "    \n",
    "    r̄ = dataset[i,key]*(1/100)\n",
    "    model = build(MyUSTreasuryBillModel, (\n",
    "        par = Vₚ, T = T, rate=r̄)) |> compounding\n",
    "    \n",
    "    models[i] = model;\n",
    "end"
   ]
  },
  {
   "cell_type": "code",
   "execution_count": 6,
   "id": "523ada82-e737-496e-9ce5-6fbf155088eb",
   "metadata": {},
   "outputs": [
    {
     "data": {
      "text/plain": [
       "249-element Vector{MyUSTreasuryBillModel}:\n",
       " MyUSTreasuryBillModel(100.0, 0.0451, 1.0, 95.68462348100661)\n",
       " MyUSTreasuryBillModel(100.0, 0.044800000000000006, 1.0, 95.71209800918837)\n",
       " MyUSTreasuryBillModel(100.0, 0.0449, 1.0, 95.70293808019906)\n",
       " MyUSTreasuryBillModel(100.0, 0.0452, 1.0, 95.67546880979718)\n",
       " MyUSTreasuryBillModel(100.0, 0.0446, 1.0, 95.73042312847024)\n",
       " MyUSTreasuryBillModel(100.0, 0.044500000000000005, 1.0, 95.73958831977023)\n",
       " MyUSTreasuryBillModel(100.0, 0.0441, 1.0, 95.77626664112633)\n",
       " MyUSTreasuryBillModel(100.0, 0.0444, 1.0, 95.74875526618155)\n",
       " MyUSTreasuryBillModel(100.0, 0.0444, 1.0, 95.74875526618155)\n",
       " MyUSTreasuryBillModel(100.0, 0.0441, 1.0, 95.77626664112633)\n",
       " MyUSTreasuryBillModel(100.0, 0.0444, 1.0, 95.74875526618155)\n",
       " MyUSTreasuryBillModel(100.0, 0.0444, 1.0, 95.74875526618155)\n",
       " MyUSTreasuryBillModel(100.0, 0.0444, 1.0, 95.74875526618155)\n",
       " ⋮\n",
       " MyUSTreasuryBillModel(100.0, 0.0053, 1.0, 99.47279419078882)\n",
       " MyUSTreasuryBillModel(100.0, 0.0055000000000000005, 1.0, 99.4530084535057)\n",
       " MyUSTreasuryBillModel(100.0, 0.0048, 1.0, 99.52229299363057)\n",
       " MyUSTreasuryBillModel(100.0, 0.0045000000000000005, 1.0, 99.55201592832256)\n",
       " MyUSTreasuryBillModel(100.0, 0.0045000000000000005, 1.0, 99.55201592832256)\n",
       " MyUSTreasuryBillModel(100.0, 0.0044, 1.0, 99.56192751891678)\n",
       " MyUSTreasuryBillModel(100.0, 0.0044, 1.0, 99.56192751891678)\n",
       " MyUSTreasuryBillModel(100.0, 0.0040999999999999995, 1.0, 99.59167413604223)\n",
       " MyUSTreasuryBillModel(100.0, 0.0043, 1.0, 99.57184108334164)\n",
       " MyUSTreasuryBillModel(100.0, 0.004, 1.0, 99.60159362549801)\n",
       " MyUSTreasuryBillModel(100.0, 0.0037, 1.0, 99.63136395337251)\n",
       " MyUSTreasuryBillModel(100.0, 0.0039000000000000003, 1.0, 99.61151509114453)"
      ]
     },
     "execution_count": 6,
     "metadata": {},
     "output_type": "execute_result"
    }
   ],
   "source": [
    "models"
   ]
  },
  {
   "cell_type": "markdown",
   "id": "123e8d54-d557-423a-8a6f-c08334776f8f",
   "metadata": {},
   "source": [
    "### Compute the return array going forward in time"
   ]
  },
  {
   "cell_type": "code",
   "execution_count": 12,
   "id": "e45bfdff-3400-495e-bc3f-4e84246d977d",
   "metadata": {},
   "outputs": [],
   "source": [
    "reversed_models_array = reverse(models);\n",
    "forward_return_array = Array{Float64,1}(undef, number_of_trading_days)\n",
    "purchased_model = reversed_models_array[1];\n",
    "for i ∈ 1:number_of_trading_days\n",
    "    \n",
    "    next_model = reversed_models_array[i];\n",
    "    next_price = next_model.price\n",
    "    purchased_price = purchased_model.price\n",
    "    forward_return_array[i] = log(next_price/purchased_price)*100.0\n",
    "end"
   ]
  },
  {
   "cell_type": "code",
   "execution_count": 13,
   "id": "2bcc4948-8b57-429a-b672-32216993048e",
   "metadata": {},
   "outputs": [
    {
     "data": {
      "text/plain": [
       "249-element Vector{Float64}:\n",
       "  0.0\n",
       "  0.01992428777263476\n",
       " -0.009960655419343637\n",
       " -0.03983667018122975\n",
       " -0.019920318790960026\n",
       " -0.04979335859488533\n",
       " -0.04979335859488533\n",
       " -0.05974905575079581\n",
       " -0.05974905575079581\n",
       " -0.08961020164532173\n",
       " -0.1592515515225884\n",
       " -0.13935897138934186\n",
       " -0.1691963578556769\n",
       "  ⋮\n",
       " -3.955014312749268\n",
       " -3.955014312749268\n",
       " -3.926285559858369\n",
       " -3.955014312749268\n",
       " -3.955014312749268\n",
       " -3.926285559858369\n",
       " -3.9645887299139386\n",
       " -3.9741622304717317\n",
       " -4.031583994897632\n",
       " -4.0028772342584205\n",
       " -3.993306482468552\n",
       " -4.022015990297693"
      ]
     },
     "execution_count": 13,
     "metadata": {},
     "output_type": "execute_result"
    }
   ],
   "source": [
    "forward_return_array"
   ]
  },
  {
   "cell_type": "markdown",
   "id": "b56f8183-4eda-40c8-ab02-fda77599fb3a",
   "metadata": {},
   "source": [
    "### Compute the return array going backward in time"
   ]
  },
  {
   "cell_type": "code",
   "execution_count": 16,
   "id": "1ea348ba-1a90-4267-82ec-22696669ca4a",
   "metadata": {},
   "outputs": [],
   "source": [
    "reverse_return_array = Array{Float64,1}(undef, number_of_trading_days)\n",
    "purchased_model = models[1]\n",
    "for i ∈ 1:number_of_trading_days\n",
    "    \n",
    "    next_model = models[i];\n",
    "    next_price = next_model.price\n",
    "    purchased_price = purchased_model.price\n",
    "    reverse_return_array[i] = log(next_price/purchased_price)*100.0\n",
    "end"
   ]
  },
  {
   "cell_type": "code",
   "execution_count": 17,
   "id": "dc6cbcda-2462-4e25-9709-f03a23faee9e",
   "metadata": {},
   "outputs": [
    {
     "data": {
      "text/plain": [
       "249-element Vector{Float64}:\n",
       "  0.0\n",
       "  0.028709507829137216\n",
       "  0.019138756039270087\n",
       " -0.009568004599934869\n",
       "  0.04785375982596495\n",
       "  0.05742726038375007\n",
       "  0.09573043043933191\n",
       "  0.06700167754842812\n",
       "  0.06700167754842812\n",
       "  0.09573043043933191\n",
       "  0.06700167754842812\n",
       "  0.06700167754842812\n",
       "  0.06700167754842812\n",
       "  ⋮\n",
       "  3.8826570189083567\n",
       "  3.8627644387751072\n",
       "  3.932405788652371\n",
       "  3.9622669345468964\n",
       "  3.9622669345468964\n",
       "  3.9722226317028033\n",
       "  3.9722226317028033\n",
       "  4.002095671506733\n",
       "  3.9821793201164706\n",
       "  4.01205533487834\n",
       "  4.041940278070325\n",
       "  4.022015990297688"
      ]
     },
     "execution_count": 17,
     "metadata": {},
     "output_type": "execute_result"
    }
   ],
   "source": [
    "reverse_return_array"
   ]
  },
  {
   "cell_type": "code",
   "execution_count": null,
   "id": "491d06e2-5451-4282-a784-15a7443b4edd",
   "metadata": {},
   "outputs": [],
   "source": []
  }
 ],
 "metadata": {
  "kernelspec": {
   "display_name": "Julia 1.9.1",
   "language": "julia",
   "name": "julia-1.9"
  },
  "language_info": {
   "file_extension": ".jl",
   "mimetype": "application/julia",
   "name": "julia",
   "version": "1.9.1"
  }
 },
 "nbformat": 4,
 "nbformat_minor": 5
}
