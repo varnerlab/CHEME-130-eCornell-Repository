{
 "cells": [
  {
   "cell_type": "markdown",
   "id": "e6b5e784",
   "metadata": {
    "nbgrader": {
     "grade": false,
     "grade_id": "cell-eb92b1bf0e5873c0",
     "locked": true,
     "schema_version": 3,
     "solution": false,
     "task": false
    }
   },
   "source": [
    "# Analysis of Treasury Bill Pricing and Interest Rate Risk"
   ]
  },
  {
   "cell_type": "markdown",
   "id": "5ad142d0",
   "metadata": {
    "nbgrader": {
     "grade": false,
     "grade_id": "cell-cc32fe2e57211a37",
     "locked": true,
     "schema_version": 3,
     "solution": false,
     "task": false
    },
    "tags": []
   },
   "source": [
    "## Background\n",
    "T-Bills, also known as Treasury bills, are financial instruments with short-term due dates ranging from a few days to 52 weeks. These fixed-income investments have zero coupons, which means that no coupon payments are made during the term. Instead, the price of T-Bills is calculated so that the receiver gets the face (par) value ($V_{P}$) at the end of the term. T-Bills are available for specific periods of 4, 8, 13, 26, and 52 weeks. The fair price ($V_{B}$) of a T-Bill is the future face value ($V_{P}$) that is discounted to today’s value by the effective market interest rate ($\\bar{r}$), which is assumed to be constant over the lifetime of the T-Bill.\n",
    "\n",
    "<div>\n",
    "    <center>\n",
    "        <img src=\"figs/Fig-ZC-Schematic.png\" width=\"440\"/>\n",
    "    </center>\n",
    "</div>\n",
    "\n",
    "### Pricing\n",
    "A zero-coupon T-bill with an annual effective market interest rate $\\bar{r}$, which is specified at the time of purchase, and a term of T years has a _fair price_ of:\n",
    "\n",
    "$$\n",
    "V_{B} = \\mathcal{D}_{T,0}^{-1}\\cdot{V_{P}}\n",
    "$$\n",
    "\n",
    "where $\\mathcal{D}_{T,0}$ denotes the discount factor from the time of the auction (0) to the term of T-bill, i.e., $0\\rightarrow{T}$. Typically, a constant effective annualized rate of interest $\\bar{r}$ (and discrete compounding) is used to compute the discount factor $\\mathcal{D}_{T,0} = (1+\\bar{r})^{T}$. However, continuous compounding or period-specific discount factors of the form:\n",
    "\n",
    "$$\n",
    "\\mathcal{D}_{T,0} = \\left[\\prod_{j=0}^{T-1}\\left(1+r_{j+1,j}\\right)\\right]\n",
    "$$\n",
    "\n",
    "can also be used. The $r_{j+1,j}$ values, called short rates, describe the interest rate earned between period $j\\rightarrow{j+1}$."
   ]
  },
  {
   "cell_type": "markdown",
   "id": "50b1a85f",
   "metadata": {
    "nbgrader": {
     "grade": false,
     "grade_id": "cell-71446c91f2944665",
     "locked": true,
     "schema_version": 3,
     "solution": false,
     "task": false
    },
    "tags": []
   },
   "source": [
    "## Project\n",
    "In this project, you purchased a 52-week T-bill with a par value $V_{P}=100.0$ USD and an effective market rate of interest $\\bar{r}$ (annualized) trading day $i$ of `2022`. However, on trading day $j$ of `2022`, the interest rate is now $\\bar{r}^{\\prime}$. Should you `sell` the T-bill before it matures or `hold` it to term?\n",
    "\n",
    "### Objectives\n",
    " 1. Your first objective is to load historical T-bill interest rate data sets from `2019` to `2022` and store these in a [Dictionary](https://docs.julialang.org/en/v1/base/collections/#Dictionaries). \n",
    " 1. Your second objective is to develop a strategy to identify trade signals for your T-bill. You will test your strategy as you move forward and backward between January 03, 2022, and December 31, 2022."
   ]
  },
  {
   "cell_type": "markdown",
   "id": "e7fc0ff4",
   "metadata": {
    "nbgrader": {
     "grade": false,
     "grade_id": "cell-afb9fdf04ff2fcd1",
     "locked": true,
     "schema_version": 3,
     "solution": false,
     "task": false
    },
    "tags": []
   },
   "source": [
    "## Setup\n",
    "In the following code block we setup the computational aspects of the problem by including the `Include.jl` file. The `Include.jl` file loads external packages, functions that we will use in this excercise and custom types to model the components of our problem."
   ]
  },
  {
   "cell_type": "markdown",
   "id": "35d2219c-8eed-4924-8ba2-cdaac5db1055",
   "metadata": {
    "nbgrader": {
     "grade": false,
     "grade_id": "cell-b6b6fe05bfb4addc",
     "locked": true,
     "schema_version": 3,
     "solution": false,
     "task": false
    },
    "tags": []
   },
   "source": [
    "### Packages\n",
    "`Include.jl` loads several external packages that we will use for our excercise:\n",
    "* [DataFrames.jl](https://dataframes.juliadata.org/stable/) provides a set of tools for working with tabular data in [Julia](https://julialang.org). Its design and functionality are similar to those of [Pandas (in Python)](https://pandas.pydata.org) and [data.frame, data.table and dplyr (in R)](https://dplyr.tidyverse.org), making it a great general purpose data science tool.\n",
    "* [Plots.jl](https://docs.juliaplots.org/stable/) is a plotting library in [Julia](https://julialang.org)."
   ]
  },
  {
   "cell_type": "markdown",
   "id": "161ed0bc-0702-4c5e-a531-1b1c5517c128",
   "metadata": {
    "nbgrader": {
     "grade": false,
     "grade_id": "cell-a9ccffa64655d121",
     "locked": true,
     "schema_version": 3,
     "solution": false,
     "task": false
    },
    "tags": []
   },
   "source": [
    "### Types\n",
    "`Include.jl` loads some [problem-specific types](https://docs.julialang.org/en/v1/manual/functions/) that will be helpful for the analysis of T-bill pricing. \n",
    "\n",
    "* `MyUSTreasuryBillModel` is a [mutable type](https://docs.julialang.org/en/v1/manual/types/#Mutable-Composite-Types) holding the par value $V_{P}$, the duration $T$ and the interest rate $\\bar{r}$ for a zero-coupon treasury bill. You construct a `MyUSTreasuryBillModel` instance using the `build` method described above.\n",
    "* `DiscreteCompoundingModel` and `ContinuousCompoundingModel` are [immutable types](https://docs.julialang.org/en/v1/manual/types/#Composite-Types) that let our code know which compounding model we wish to use.\n",
    "* The `MyBinaryLatticeNodeModel` and `MySymmetricBinaryLatticeModel` mutable types hold information about the nodes, and the binomial lattice, respectively, for the short-rate calculations. "
   ]
  },
  {
   "cell_type": "markdown",
   "id": "7663f65a-381b-4d87-b5ce-047c812c53f8",
   "metadata": {
    "nbgrader": {
     "grade": false,
     "grade_id": "cell-86dba0663b8ca80c",
     "locked": true,
     "schema_version": 3,
     "solution": false,
     "task": false
    },
    "tags": []
   },
   "source": [
    "### Functions\n",
    "`Include.jl` loads the following [Julia functions](https://docs.julialang.org/en/v1/manual/functions/) into the notebook:\n",
    "\n",
    "##### `loadratesfile(year::String = \"2022\") -> DataFrame`\n",
    "\n",
    "> This function takes a [String](https://docs.julialang.org/en/v1/manual/strings/) encoding the year in the `YYYY` format, e.g., `\"2019\"` or `\"2020\"` and returns a [DataFrame](https://dataframes.juliadata.org/stable/) holding the daily interest rates for US Treasury Bills for various durations found on [Treasury.gov](https://home.treasury.gov/resource-center/data-chart-center/interest-rates/TextView?type=daily_treasury_bill_rates). This project has data from `\"2019\"`, `\"2020\"`, `\"2021\"`, `\"2022\"` and `\"2022\"`. The year parameter has a default value of `\"2022\"`.\n",
    "\n",
    "##### `build(model::Type{MyUSTreasuryBillModel}, data::NamedTuple) -> MyUSTreasuryBillModel`\n",
    "\n",
    "> This function takes information in the `data` [NamedTuple](https://docs.julialang.org/en/v1/base/base/#Core.NamedTuple) argument (the par value, the rate and the duration of the T-bill) and returns an instance of the `MyUSTreasuryBillModel` custom type.\n",
    "\n",
    "##### `build(model::Type{MySymmetricBinaryLatticeModel}, data::NamedTuple)::MySymmetricBinaryLatticeModel` and `build(model::Type{MyBinaryLatticeNodeModel}, data::NamedTuple)::MyBinaryLatticeNodeModel` \n",
    "\n",
    "> These factory functions take information in the `data` [NamedTuple](https://docs.julialang.org/en/v1/base/base/#Core.NamedTuple) argument and construct a node or the binomial short-rate lattice model, respectively. \n",
    "\n",
    "##### `price(model::MyUSTreasuryBillModel, compounding::T) -> MyUSTreasuryBillModel where T <: AbstractCompoundingModel`\n",
    "\n",
    "> This function takes a `MyUSTreasuryBillModel` instance, and a compounding model and returns an updated `MyUSTreasuryBillModel` instance that holds the price $V_{B}$ value in the `price` field of the `MyUSTreasuryBillModel` instance.\n",
    "\n",
    "##### `𝔼(model::MySymmetricBinaryLatticeModel; level::Int = 0) -> Float64` and `𝕍(model::MySymmetricBinaryLatticeModel; level::Int = 0) -> Float64`\n",
    "\n",
    "> These functions take a`MySymmetricBinaryLatticeModel` instance, and the level and the tree (`0`-based) and compute the [expectation](https://en.wikipedia.org/wiki/Expected_value) and [variance](https://en.wikipedia.org/wiki/Variance) of the short-rates for the given level (time-step) of the lattice. "
   ]
  },
  {
   "cell_type": "code",
   "execution_count": 1,
   "id": "0f889f34",
   "metadata": {
    "nbgrader": {
     "grade": false,
     "grade_id": "cell-8bcabe1e21d06878",
     "locked": true,
     "schema_version": 3,
     "solution": false,
     "task": false
    },
    "tags": []
   },
   "outputs": [
    {
     "name": "stderr",
     "output_type": "stream",
     "text": [
      "\u001b[32m\u001b[1m  Activating\u001b[22m\u001b[39m project at `~/Desktop/julia_work/CHEME-130-eCornell-Repository/courses/CHEME-131/module-1`\n"
     ]
    }
   ],
   "source": [
    "include(\"Include.jl\");"
   ]
  },
  {
   "cell_type": "markdown",
   "id": "4a55358b-93f5-4599-9346-375b6ee8fef8",
   "metadata": {
    "nbgrader": {
     "grade": false,
     "grade_id": "cell-feeb56b7d436fe92",
     "locked": true,
     "schema_version": 3,
     "solution": false,
     "task": false
    },
    "tags": []
   },
   "source": [
    "## Set constant values \n",
    "We will need several constants, regardless of the year we choose to analyze. First, we will always analyze 52-week data, so we encode this choice in the `key` variable. Next, we'll assume a discrete compounding model; thus, we instantiate an instance of the `DiscreteCompoundingModel` type and then store this instance in the `compounding` variable. Lastly, the T-bill’s face (par) value will always be $V_{P}$ = 100.0 USD."
   ]
  },
  {
   "cell_type": "code",
   "execution_count": 2,
   "id": "a14aeb6d-6342-46d2-ae00-d63f1055ffd4",
   "metadata": {
    "nbgrader": {
     "grade": false,
     "grade_id": "cell-e03e2bb1a7e92087",
     "locked": true,
     "schema_version": 3,
     "solution": false,
     "task": false
    },
    "tags": []
   },
   "outputs": [],
   "source": [
    "number_of_weeks_per_year = 52;\n",
    "key = Symbol(\"52 WEEKS COUPON EQUIVALENT\");\n",
    "Vₚ = 100.0;\n",
    "T = (52.0/number_of_weeks_per_year);\n",
    "compounding = DiscreteCompoundingModel();"
   ]
  },
  {
   "cell_type": "markdown",
   "id": "3ad2a887",
   "metadata": {
    "nbgrader": {
     "grade": false,
     "grade_id": "cell-292a4527eee463c0",
     "locked": true,
     "schema_version": 3,
     "solution": false,
     "task": false
    },
    "tags": []
   },
   "source": [
    "## Objective 1: Load historical interest rate dataset\n",
    "To begin, we gather interest rate data from `2019` to `2022`, using rates from recently auctioned bills collected by the Federal Reserve Bank of New York on every business day.  For this analysis, we use the `52 WEEKS COUPON EQUIVALENT` data as a proxy for the effective market interest rate $\\bar{r}$ on each trading day for a 52-week T-bill.\n",
    "\n",
    "### Implementation\n",
    "We store the rate information in a `rate_data_dictionary` variable, which is a [Dictionary](https://docs.julialang.org/en/v1/base/collections/#Dictionaries) with keys representing years (from the `years` array, type `String`) and values as a `DataFrame` holding rate values. We load each year by iterating through the `years` array and passing the corresponding `year` parameter to the `loadratesfile(...)` function:"
   ]
  },
  {
   "cell_type": "code",
   "execution_count": 3,
   "id": "9b74b327",
   "metadata": {
    "nbgrader": {
     "grade": false,
     "grade_id": "cell-0b865e0046c23ae7",
     "locked": false,
     "schema_version": 3,
     "solution": true,
     "task": false
    },
    "tags": []
   },
   "outputs": [],
   "source": [
    "rate_data_dictionary = Dict{String,DataFrame}();\n",
    "years = [\"2019\",\"2020\",\"2021\",\"2022\"];\n",
    "for year ∈ years\n",
    "    \n",
    "    ### BEGIN SOLUTION\n",
    "    rate_data_dictionary[year] = loadratesfile(year=year);\n",
    "    ### END SOLUTION\n",
    "end"
   ]
  },
  {
   "cell_type": "markdown",
   "id": "c730895c-19ac-4d6e-b856-e60ffc55da00",
   "metadata": {
    "nbgrader": {
     "grade": false,
     "grade_id": "cell-f29f9d09793982a0",
     "locked": true,
     "schema_version": 3,
     "solution": false,
     "task": false
    },
    "tags": []
   },
   "source": [
    "Now that have loaded the rates dataset, let's analyze `2022`, and save our selection in the variable `selected_year`. Then access the corresponding rate values `DataFrame` for the `selected_year` from the `rate_data_dictionary`. Store the rate data in the `dataset` variable:"
   ]
  },
  {
   "cell_type": "code",
   "execution_count": 4,
   "id": "cf10917a-cc78-4e5f-9a59-1c8c667c395e",
   "metadata": {
    "nbgrader": {
     "grade": false,
     "grade_id": "cell-f184f5cafa0c4fa6",
     "locked": false,
     "schema_version": 3,
     "solution": true,
     "task": false
    },
    "tags": []
   },
   "outputs": [],
   "source": [
    "### BEGIN SOLUTION\n",
    "selected_year = \"2022\"\n",
    "dataset = rate_data_dictionary[selected_year];\n",
    "### END SOLUTION"
   ]
  },
  {
   "cell_type": "markdown",
   "id": "6973e008-71a0-452b-bf2a-c12adeb73f83",
   "metadata": {
    "nbgrader": {
     "grade": false,
     "grade_id": "cell-79b0c67cdde977ef",
     "locked": true,
     "schema_version": 3,
     "solution": false,
     "task": false
    },
    "tags": []
   },
   "source": [
    "## Objective 2: Identify possible treasury bill trade signals\n",
    "Deciding whether to `buy`, `sell`, or `hold` a T-bill, or any other security, depends on your investment objectives. Treasury bills are generally considered secure, short-term investments, but their prices can fluctuate depending on the interest rate. If the price of a T-bill changes, you could `sell` it before maturity and earn an immediate capital gain or loss. However, it's crucial to know when this makes sense.\n",
    "\n",
    "To start answering this question, let's examine our historical data set to identify potential trade signals, which indicate changes in the T-bill's price that could result in a capital gain or loss. We'll use the [log return](https://en.wikipedia.org/wiki/Rate_of_return) $R_{ij}$ between two dates ($i\\geq{j}$) to measure the potential gain or loss:\n",
    "\n",
    "$$\n",
    "R_{i,j} = 100\\cdot{\\ln\\left(\\frac{V_{B,i}}{V_{B,j}}\\right)}\n",
    "$$\n",
    "\n",
    "Here, $V_{B,k}$ refers to the price of a 52-week T-bill on day $k$ in the dataset, and $\\ln$ denotes the [natural logarithm](https://en.wikipedia.org/wiki/Natural_logarithm). If you have two possible actions $a\\in\\left\\{\\text{sell},\\text{hold}\\right\\}$ you can propose the following policy: Implement a `sell` action if $R_{ij}>\\alpha$, where $\\alpha>0$ is a user-specified trade threshold. Otherwise, implement a `hold` action."
   ]
  },
  {
   "cell_type": "markdown",
   "id": "c6f47052-9e75-4a69-8565-503c69f2ad88",
   "metadata": {
    "nbgrader": {
     "grade": false,
     "grade_id": "cell-d7f8c2adcdc7cb6d",
     "locked": true,
     "schema_version": 3,
     "solution": false,
     "task": false
    },
    "tags": []
   },
   "source": [
    "### Prerequisite: Compute the price of a 52-week T-bill for each trading day of 2022\n",
    "To calculate the cost of a 52-week T-bill for each trading day in 2022, start by finding out how many trading days are in `2022` using the `nrow(…)` function. Save this number in the `number_of_trading_days` variable. Then create a one-dimensional `models` array containing instances of `MyUSTreasuryBillModel`. Finally, using a `for` loop, construct `MyUSTreasuryBillModel` instances,  and compute the price, for a 52-week treasury bill using the effective market rate of interest $\\bar{r}$ (found in the `dataset` variable) for each trading day. Store these instances in the `models` array.\n",
    "\n",
    "__Reminder__: the `dataset` is organized from the newest (Dec-31-2022) to oldest (Jan-03-2022)."
   ]
  },
  {
   "cell_type": "code",
   "execution_count": 5,
   "id": "b4be8d28-f139-4ad2-95dd-895901dad1fc",
   "metadata": {
    "nbgrader": {
     "grade": false,
     "grade_id": "cell-0654605cf897e64c",
     "locked": false,
     "schema_version": 3,
     "solution": true,
     "task": false
    },
    "tags": []
   },
   "outputs": [],
   "source": [
    "number_of_trading_days = nrow(dataset)\n",
    "models = Array{MyUSTreasuryBillModel,1}(undef, number_of_trading_days);\n",
    "for i ∈ 1:number_of_trading_days\n",
    "    \n",
    "    ### BEGIN SOLUTION\n",
    "    r̄ = dataset[i,key]*(1/100)\n",
    "    model = build(MyUSTreasuryBillModel, (\n",
    "        par = Vₚ, T = T, rate=r̄)) |> compounding\n",
    "    \n",
    "    models[i] = model;\n",
    "    ### END SOLUTION\n",
    "end"
   ]
  },
  {
   "cell_type": "markdown",
   "id": "123e8d54-d557-423a-8a6f-c08334776f8f",
   "metadata": {
    "nbgrader": {
     "grade": false,
     "grade_id": "cell-9a1f1a1660393d05",
     "locked": true,
     "schema_version": 3,
     "solution": false,
     "task": false
    },
    "tags": []
   },
   "source": [
    "### Compute the log return $R_{ij}$ array for all combinations of $(i,j)$:\n",
    "Compute the array of log returns for the 52-week T-bills in 2022. First, define a two-dimensional array that holds the log return values (type `Float64`) named `log_return_array`. The `log_return_array` will be a `number_of_trading_days` $\\times$ `number_of_trading_days` matrix where the $(i,j)$ value is $R_{ij}$. Initialize the elements of `log_return_array` with zeros using the [fill!](https://docs.julialang.org/en/v1/base/arrays/#Base.fill!https://docs.julialang.org/en/v1/base/arrays/#Base.fill!) function:"
   ]
  },
  {
   "cell_type": "code",
   "execution_count": 6,
   "id": "e45bfdff-3400-495e-bc3f-4e84246d977d",
   "metadata": {
    "nbgrader": {
     "grade": false,
     "grade_id": "cell-ae8f7986ddfeb71d",
     "locked": true,
     "schema_version": 3,
     "solution": false,
     "task": false
    },
    "tags": []
   },
   "outputs": [],
   "source": [
    "log_return_array = Array{Float64,2}(undef, number_of_trading_days, number_of_trading_days)\n",
    "fill!(log_return_array,0.0);"
   ]
  },
  {
   "cell_type": "markdown",
   "id": "5e79f4d9-45f3-4885-939b-f48c77daf8cd",
   "metadata": {
    "nbgrader": {
     "grade": false,
     "grade_id": "cell-912e82dcef06335c",
     "locked": true,
     "schema_version": 3,
     "solution": false,
     "task": false
    },
    "tags": []
   },
   "source": [
    "Next, calculate the $R_{i,j}$ values $\\forall{i,j}$. First, reverse the order of the `models` array (so that it runs from the oldest to newest dates) using the [reverse](https://docs.julialang.org/en/v1/base/arrays/#Base.reverse-Tuple{AbstractVector}) function. Store the reversed array in the `reversed_models_array` variable. Then calculate the elements of the `log_return_array` using nested `for` loops, each running between `1...number_of_trading_days`. The outer `for` loop will iterate over the rows `log_return_array` while the inner loop will iterate over the columns of `log_return_array`:"
   ]
  },
  {
   "cell_type": "code",
   "execution_count": 7,
   "id": "43f7c6fb-c45b-4580-9422-950233a16112",
   "metadata": {
    "nbgrader": {
     "grade": false,
     "grade_id": "cell-b776338290133128",
     "locked": false,
     "schema_version": 3,
     "solution": true,
     "task": false
    },
    "tags": []
   },
   "outputs": [],
   "source": [
    "reversed_models_array = reverse(models);\n",
    "for i ∈ 1:number_of_trading_days\n",
    "    \n",
    "    purchased_model = reversed_models_array[i];\n",
    "    purchase_price = purchased_model.price\n",
    "    \n",
    "    for j ∈ 1:number_of_trading_days\n",
    "        next_model = reversed_models_array[j];\n",
    "        next_price = next_model.price\n",
    "        \n",
    "        ### BEGIN SOLUTION\n",
    "        log_return_array[i,j] = log(next_price/purchase_price)*100.0;\n",
    "        ### END SOLUTION\n",
    "    end\n",
    "end"
   ]
  },
  {
   "cell_type": "markdown",
   "id": "3294ffe9-1455-4029-b8a4-91199d1c3e4d",
   "metadata": {
    "nbgrader": {
     "grade": false,
     "grade_id": "cell-f2cb44e44e064861",
     "locked": true,
     "schema_version": 3,
     "solution": false,
     "task": false
    },
    "tags": []
   },
   "source": [
    "In this formulation of the `log_return_array` the rows correspond to the index of the date the T-bill was purchased, while the columns denote the days the T-bill could be sold. Thus, values of $i,j$ such that $i<j$ denote forward time, while $i>j$ denote reverse time (we have a magical time machine that allows us to sell the T-bill beofre we bought it). "
   ]
  },
  {
   "cell_type": "markdown",
   "id": "2ac1211d-c003-453d-bc8c-5e126a972b3c",
   "metadata": {
    "nbgrader": {
     "grade": false,
     "grade_id": "cell-11a889df87a7ac26",
     "locked": true,
     "schema_version": 3,
     "solution": false,
     "task": false
    },
    "tags": []
   },
   "source": [
    "### We purchased the T-bill at $i=1$, are there any sell signals in 2022?\n",
    "A `sell` signal will have (at a minimum) a value of $\\alpha>0$. Are there any dates where this is true in `2022`? We can implement the search for sell signals using a `for` loop in which we iterate through the columns of the first row of `log_return_array`. Alternatively, we can use the [findall](https://docs.julialang.org/en/v1/base/arrays/#Base.findall-Tuple{Function,%20Any}) function in Julia:"
   ]
  },
  {
   "cell_type": "code",
   "execution_count": 8,
   "id": "51587325-8b82-48dd-8cb8-cb9a7a760647",
   "metadata": {
    "nbgrader": {
     "grade": false,
     "grade_id": "cell-08158f1ff34d76bf",
     "locked": true,
     "schema_version": 3,
     "solution": false,
     "task": false
    },
    "tags": []
   },
   "outputs": [
    {
     "data": {
      "text/plain": [
       "1-element Vector{String15}:\n",
       " \"01/04/2022\""
      ]
     },
     "execution_count": 8,
     "metadata": {},
     "output_type": "execute_result"
    }
   ],
   "source": [
    "sell_index_vector = findall(x->x>0, log_return_array[1,:]);\n",
    "sell_date_array = reverse(dataset)[sell_index_vector,:Date]"
   ]
  },
  {
   "cell_type": "markdown",
   "id": "c71cc307-b26d-4a6b-ac0f-85ab8f6857d9",
   "metadata": {
    "nbgrader": {
     "grade": false,
     "grade_id": "cell-ba96969d3954501c",
     "locked": true,
     "schema_version": 3,
     "solution": false,
     "task": false
    },
    "tags": []
   },
   "source": [
    "### We purchased the T-bill on the last day of the year, and used a time-machine, are there any sell signals in 2022?\n",
    "If we move backward through the columns on the last row of `log_return_array`, we are moving from the last trading day (Dec-31) to the first (Jan-03). Like the previous search, we can implement the search for sell signals using a `for` loop in which we iterate through the columns of the first row of `log_return_array`. Alternatively, we can use the [findall](https://docs.julialang.org/en/v1/base/arrays/#Base.findall-Tuple{Function,%20Any}) function in Julia:"
   ]
  },
  {
   "cell_type": "code",
   "execution_count": 9,
   "id": "95910ecb-caf7-4b4c-a5fc-71aadd0e3538",
   "metadata": {
    "nbgrader": {
     "grade": false,
     "grade_id": "cell-7c3462b3d1ab7e71",
     "locked": false,
     "schema_version": 3,
     "solution": true,
     "task": false
    },
    "tags": []
   },
   "outputs": [
    {
     "data": {
      "text/plain": [
       "229-element Vector{String15}:\n",
       " \"01/03/2022\"\n",
       " \"01/04/2022\"\n",
       " \"01/05/2022\"\n",
       " \"01/06/2022\"\n",
       " \"01/07/2022\"\n",
       " \"01/10/2022\"\n",
       " \"01/11/2022\"\n",
       " \"01/12/2022\"\n",
       " \"01/13/2022\"\n",
       " \"01/14/2022\"\n",
       " \"01/18/2022\"\n",
       " \"01/19/2022\"\n",
       " \"01/20/2022\"\n",
       " ⋮\n",
       " \"12/09/2022\"\n",
       " \"12/13/2022\"\n",
       " \"12/14/2022\"\n",
       " \"12/15/2022\"\n",
       " \"12/16/2022\"\n",
       " \"12/19/2022\"\n",
       " \"12/20/2022\"\n",
       " \"12/21/2022\"\n",
       " \"12/22/2022\"\n",
       " \"12/23/2022\"\n",
       " \"12/28/2022\"\n",
       " \"12/29/2022\""
      ]
     },
     "execution_count": 9,
     "metadata": {},
     "output_type": "execute_result"
    }
   ],
   "source": [
    "### BEGIN SOLUTION\n",
    "sell_index_vector = findall(x->x>0, log_return_array[end,:]);\n",
    "sell_date_array = reverse(dataset)[sell_index_vector,:Date]\n",
    "### END SOLUTION"
   ]
  },
  {
   "cell_type": "code",
   "execution_count": 13,
   "id": "31d68b84-a5c6-4b16-8790-2f4877882fba",
   "metadata": {
    "nbgrader": {
     "grade": true,
     "grade_id": "cell-b002f15586269958",
     "locked": true,
     "points": 0,
     "schema_version": 3,
     "solution": false,
     "task": false
    },
    "tags": []
   },
   "outputs": [],
   "source": [
    "# Test 1: length(rate_data_dictionary) = 4\n",
    "@assert length(rate_data_dictionary) == 4\n",
    "\n",
    "# Test 2: dataset should not be nothing, and should type DataFrame\n",
    "@assert (isnothing(dataset) == false && typeof(dataset) == DataFrame)\n",
    "\n",
    "# Test 3: models should have length = number_of_trading_days\n",
    "@assert length(models) == number_of_trading_days\n",
    "\n",
    "# Test 4: log_return_array should have non-zero values\n",
    "index_list_nozero = findall(x->x!=0.0, log_return_array);\n",
    "@assert isempty(index_list_nozero) == false\n",
    "\n",
    "# Test 5: sell_index_vector should have 229 elements -\n",
    "@assert length(sell_index_vector) == 229"
   ]
  }
 ],
 "metadata": {
  "kernelspec": {
   "display_name": "Julia 1.9.1",
   "language": "julia",
   "name": "julia-1.9"
  },
  "language_info": {
   "file_extension": ".jl",
   "mimetype": "application/julia",
   "name": "julia",
   "version": "1.9.1"
  }
 },
 "nbformat": 4,
 "nbformat_minor": 5
}
