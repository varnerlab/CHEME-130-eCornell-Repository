{
 "cells": [
  {
   "cell_type": "markdown",
   "id": "e6b5e784",
   "metadata": {},
   "source": [
    "## Module 1 Project: Analysis of Treasury Bill Pricing and Risk"
   ]
  },
  {
   "cell_type": "markdown",
   "id": "5ad142d0",
   "metadata": {
    "jp-MarkdownHeadingCollapsed": true,
    "tags": []
   },
   "source": [
    "### Introduction\n",
    "Treasury bills, or T-bills, are debt instruments with short-term maturity periods ranging from a few days to 52 weeks. T-bills are zero-coupon fixed-income investments, i.e., no coupon payments are paid during their term. Instead, treasury bills are priced so that the bill holder receives the par value $V_{P}$ at the end of the term.\n",
    "\n",
    "A zero-coupon T-bill has an annual market interest rate of $\\bar{r}$, specified at the time of purchase, and a T-year term. The fair price of the treasury bill is the future face (par) value discounted to today by the market interest rate $\\bar{r}$:\n",
    "\n",
    "$$\n",
    "V_{B} = \\frac{V_{P}}{\\left(1+\\bar{r}\\right)^{T}}\n",
    "$$\n",
    "\n",
    "The quantity $V_{B}$ denotes the current price, and $V_{P}$ represents the par (face) value of the T-bill.  Treasury bills are issued for specific periods, such as 4, 8, 13, 26, and 52 weeks."
   ]
  },
  {
   "cell_type": "markdown",
   "id": "50b1a85f",
   "metadata": {
    "tags": []
   },
   "source": [
    "### Scenario\n",
    "You purchased a 52-week T-bill with a par value $V_{P}=1000$ USD and interest rate $\\bar{r}$. However, four weeks (28-days) after purchasing the T-bill, the interest rate is now $\\bar{r}^{\\prime}$. Should you `sell` the T-bill before it matures or `hold` it to term?\n",
    "\n",
    "#### Tasks\n",
    " 1. Load the daily historical interest rate data from 2019 to 2022.\n",
    " 1. Develop a backetesting strategy using historical interest rate data to answer the sell versus hold question."
   ]
  },
  {
   "cell_type": "markdown",
   "id": "e7fc0ff4",
   "metadata": {
    "tags": []
   },
   "source": [
    "### Setup\n",
    "The `Include.jl` file loads [Julia functions](https://docs.julialang.org/en/v1/manual/functions/) and [problem specific types](https://docs.julialang.org/en/v1/manual/functions/) that will be helpful for the analysis of T-bill pricing. In addition, `Include.jl` loads several external packages that we will use for our excercise:\n",
    "* [DataFrames.jl](https://dataframes.juliadata.org/stable/) provides a set of tools for working with tabular data in [Julia](https://julialang.org). Its design and functionality are similar to those of [Pandas (in Python)](https://pandas.pydata.org) and [data.frame, data.table and dplyr (in R)](https://dplyr.tidyverse.org), making it a great general purpose data science tool."
   ]
  },
  {
   "cell_type": "code",
   "execution_count": 1,
   "id": "0f889f34",
   "metadata": {},
   "outputs": [
    {
     "name": "stderr",
     "output_type": "stream",
     "text": [
      "\u001b[32m\u001b[1m  Activating\u001b[22m\u001b[39m project at `~/Desktop/julia_work/CHEME-130-eCornell-Repository/courses/CHEME-131/module-1`\n"
     ]
    }
   ],
   "source": [
    "include(\"Include.jl\");"
   ]
  },
  {
   "cell_type": "markdown",
   "id": "56da4457-a825-4bca-be54-009d82ff06dc",
   "metadata": {
    "jp-MarkdownHeadingCollapsed": true,
    "tags": []
   },
   "source": [
    "#### Functions\n",
    "* The `loadratesfile(year::String = \"2022\") -> DataFrame` function takes a [String](https://docs.julialang.org/en/v1/manual/strings/) encoding the year in the `YYYY` format, e.g., `\"2019\"` or `\"2020\"` and returns a [DataFrame](https://dataframes.juliadata.org/stable/) holding the daily interest rates for US Treasury Bills for various durations found on [Treasury.gov](https://home.treasury.gov/resource-center/data-chart-center/interest-rates/TextView?type=daily_treasury_bill_rates). This project has data from `\"2019\"`, `\"2020\"`, `\"2021\"`, `\"2022\"` and `\"2022\"`. The year parameter has a default value of `\"2022\"`.\n",
    "* The `build(model::Type{MyUSTreasuryBillModel}, data::NamedTuple) -> MyUSTreasuryBillModel` function takes information in the `data` arguement (the par value, the rate and the duration of the T-bill) and returns an instance of the `MyUSTreasuryBillModel` custom type.\n",
    "\n",
    "#### Types\n",
    "* `MyUSTreasuryBillModel` is a [mutable type](https://docs.julialang.org/en/v1/manual/types/#Mutable-Composite-Types) holding the par value $V_{P}$, the duration $T$ and the interest rate $\\bar{r}$ for a zero-coupon treasury bill. You construct a `MyUSTreasuryBillModel` instance using the `build` method described above."
   ]
  },
  {
   "cell_type": "markdown",
   "id": "3ad2a887",
   "metadata": {},
   "source": [
    "### Task 1: Load historical interest rate data\n",
    " The rates are based on recently auctioned bills with various maturities and collected by the Federal Reserve Bank of New York every business day. The Bank Discount rate is based on par value and discount amount, while the Coupon Equivalent is based on purchase price and discount, and can be used to compare yields."
   ]
  },
  {
   "cell_type": "code",
   "execution_count": null,
   "id": "1e7cb3c0-16f1-4a10-b2ac-c27479b85d0a",
   "metadata": {},
   "outputs": [],
   "source": []
  },
  {
   "cell_type": "code",
   "execution_count": 2,
   "id": "9b74b327",
   "metadata": {},
   "outputs": [
    {
     "data": {
      "text/html": [
       "<div><div style = \"float: left;\"><span>249×13 DataFrame</span></div><div style = \"float: right;\"><span style = \"font-style: italic;\">224 rows omitted</span></div><div style = \"clear: both;\"></div></div><div class = \"data-frame\" style = \"overflow-x: scroll;\"><table class = \"data-frame\" style = \"margin-bottom: 6px;\"><thead><tr class = \"header\"><th class = \"rowNumber\" style = \"font-weight: bold; text-align: right;\">Row</th><th style = \"text-align: left;\">Date</th><th style = \"text-align: left;\">4 WEEKS BANK DISCOUNT</th><th style = \"text-align: left;\">4 WEEKS COUPON EQUIVALENT</th><th style = \"text-align: left;\">8 WEEKS BANK DISCOUNT</th><th style = \"text-align: left;\">8 WEEKS COUPON EQUIVALENT</th><th style = \"text-align: left;\">13 WEEKS BANK DISCOUNT</th><th style = \"text-align: left;\">13 WEEKS COUPON EQUIVALENT</th><th style = \"text-align: left;\">17 WEEKS BANK DISCOUNT</th><th style = \"text-align: left;\">17 WEEKS COUPON EQUIVALENT</th><th style = \"text-align: left;\">26 WEEKS BANK DISCOUNT</th><th style = \"text-align: left;\">26 WEEKS COUPON EQUIVALENT</th><th style = \"text-align: left;\">52 WEEKS BANK DISCOUNT</th><th style = \"text-align: left;\">52 WEEKS COUPON EQUIVALENT</th></tr><tr class = \"subheader headerLastRow\"><th class = \"rowNumber\" style = \"font-weight: bold; text-align: right;\"></th><th title = \"String15\" style = \"text-align: left;\">String15</th><th title = \"Float64\" style = \"text-align: left;\">Float64</th><th title = \"Float64\" style = \"text-align: left;\">Float64</th><th title = \"Float64\" style = \"text-align: left;\">Float64</th><th title = \"Float64\" style = \"text-align: left;\">Float64</th><th title = \"Float64\" style = \"text-align: left;\">Float64</th><th title = \"Float64\" style = \"text-align: left;\">Float64</th><th title = \"Union{Missing, Float64}\" style = \"text-align: left;\">Float64?</th><th title = \"Union{Missing, Float64}\" style = \"text-align: left;\">Float64?</th><th title = \"Float64\" style = \"text-align: left;\">Float64</th><th title = \"Float64\" style = \"text-align: left;\">Float64</th><th title = \"Float64\" style = \"text-align: left;\">Float64</th><th title = \"Float64\" style = \"text-align: left;\">Float64</th></tr></thead><tbody><tr><td class = \"rowNumber\" style = \"font-weight: bold; text-align: right;\">1</td><td style = \"text-align: left;\">12/30/2022</td><td style = \"text-align: right;\">3.95</td><td style = \"text-align: right;\">4.02</td><td style = \"text-align: right;\">4.3</td><td style = \"text-align: right;\">4.39</td><td style = \"text-align: right;\">4.3</td><td style = \"text-align: right;\">4.4</td><td style = \"text-align: right;\">4.57</td><td style = \"text-align: right;\">4.7</td><td style = \"text-align: right;\">4.6</td><td style = \"text-align: right;\">4.77</td><td style = \"text-align: right;\">4.51</td><td style = \"text-align: right;\">4.73</td></tr><tr><td class = \"rowNumber\" style = \"font-weight: bold; text-align: right;\">2</td><td style = \"text-align: left;\">12/29/2022</td><td style = \"text-align: right;\">3.88</td><td style = \"text-align: right;\">3.95</td><td style = \"text-align: right;\">4.28</td><td style = \"text-align: right;\">4.37</td><td style = \"text-align: right;\">4.34</td><td style = \"text-align: right;\">4.45</td><td style = \"text-align: right;\">4.54</td><td style = \"text-align: right;\">4.67</td><td style = \"text-align: right;\">4.57</td><td style = \"text-align: right;\">4.74</td><td style = \"text-align: right;\">4.48</td><td style = \"text-align: right;\">4.7</td></tr><tr><td class = \"rowNumber\" style = \"font-weight: bold; text-align: right;\">3</td><td style = \"text-align: left;\">12/28/2022</td><td style = \"text-align: right;\">3.57</td><td style = \"text-align: right;\">3.63</td><td style = \"text-align: right;\">4.08</td><td style = \"text-align: right;\">4.16</td><td style = \"text-align: right;\">4.35</td><td style = \"text-align: right;\">4.46</td><td style = \"text-align: right;\">4.55</td><td style = \"text-align: right;\">4.68</td><td style = \"text-align: right;\">4.59</td><td style = \"text-align: right;\">4.76</td><td style = \"text-align: right;\">4.49</td><td style = \"text-align: right;\">4.71</td></tr><tr><td class = \"rowNumber\" style = \"font-weight: bold; text-align: right;\">4</td><td style = \"text-align: left;\">12/27/2022</td><td style = \"text-align: right;\">3.62</td><td style = \"text-align: right;\">3.68</td><td style = \"text-align: right;\">4.09</td><td style = \"text-align: right;\">4.17</td><td style = \"text-align: right;\">4.35</td><td style = \"text-align: right;\">4.46</td><td style = \"text-align: right;\">4.49</td><td style = \"text-align: right;\">4.62</td><td style = \"text-align: right;\">4.6</td><td style = \"text-align: right;\">4.77</td><td style = \"text-align: right;\">4.52</td><td style = \"text-align: right;\">4.75</td></tr><tr><td class = \"rowNumber\" style = \"font-weight: bold; text-align: right;\">5</td><td style = \"text-align: left;\">12/23/2022</td><td style = \"text-align: right;\">3.65</td><td style = \"text-align: right;\">3.71</td><td style = \"text-align: right;\">4.01</td><td style = \"text-align: right;\">4.09</td><td style = \"text-align: right;\">4.23</td><td style = \"text-align: right;\">4.33</td><td style = \"text-align: right;\">4.45</td><td style = \"text-align: right;\">4.58</td><td style = \"text-align: right;\">4.52</td><td style = \"text-align: right;\">4.69</td><td style = \"text-align: right;\">4.46</td><td style = \"text-align: right;\">4.67</td></tr><tr><td class = \"rowNumber\" style = \"font-weight: bold; text-align: right;\">6</td><td style = \"text-align: left;\">12/22/2022</td><td style = \"text-align: right;\">3.65</td><td style = \"text-align: right;\">3.71</td><td style = \"text-align: right;\">4.02</td><td style = \"text-align: right;\">4.1</td><td style = \"text-align: right;\">4.24</td><td style = \"text-align: right;\">4.34</td><td style = \"text-align: right;\">4.43</td><td style = \"text-align: right;\">4.56</td><td style = \"text-align: right;\">4.51</td><td style = \"text-align: right;\">4.68</td><td style = \"text-align: right;\">4.45</td><td style = \"text-align: right;\">4.66</td></tr><tr><td class = \"rowNumber\" style = \"font-weight: bold; text-align: right;\">7</td><td style = \"text-align: left;\">12/21/2022</td><td style = \"text-align: right;\">3.66</td><td style = \"text-align: right;\">3.72</td><td style = \"text-align: right;\">4.01</td><td style = \"text-align: right;\">4.09</td><td style = \"text-align: right;\">4.22</td><td style = \"text-align: right;\">4.32</td><td style = \"text-align: right;\">4.44</td><td style = \"text-align: right;\">4.57</td><td style = \"text-align: right;\">4.51</td><td style = \"text-align: right;\">4.68</td><td style = \"text-align: right;\">4.41</td><td style = \"text-align: right;\">4.62</td></tr><tr><td class = \"rowNumber\" style = \"font-weight: bold; text-align: right;\">8</td><td style = \"text-align: left;\">12/20/2022</td><td style = \"text-align: right;\">3.69</td><td style = \"text-align: right;\">3.75</td><td style = \"text-align: right;\">4.02</td><td style = \"text-align: right;\">4.1</td><td style = \"text-align: right;\">4.25</td><td style = \"text-align: right;\">4.36</td><td style = \"text-align: right;\">4.4</td><td style = \"text-align: right;\">4.53</td><td style = \"text-align: right;\">4.55</td><td style = \"text-align: right;\">4.72</td><td style = \"text-align: right;\">4.44</td><td style = \"text-align: right;\">4.65</td></tr><tr><td class = \"rowNumber\" style = \"font-weight: bold; text-align: right;\">9</td><td style = \"text-align: left;\">12/19/2022</td><td style = \"text-align: right;\">3.77</td><td style = \"text-align: right;\">3.83</td><td style = \"text-align: right;\">4.03</td><td style = \"text-align: right;\">4.11</td><td style = \"text-align: right;\">4.28</td><td style = \"text-align: right;\">4.39</td><td style = \"text-align: right;\">4.41</td><td style = \"text-align: right;\">4.54</td><td style = \"text-align: right;\">4.55</td><td style = \"text-align: right;\">4.72</td><td style = \"text-align: right;\">4.44</td><td style = \"text-align: right;\">4.65</td></tr><tr><td class = \"rowNumber\" style = \"font-weight: bold; text-align: right;\">10</td><td style = \"text-align: left;\">12/16/2022</td><td style = \"text-align: right;\">3.78</td><td style = \"text-align: right;\">3.84</td><td style = \"text-align: right;\">4.03</td><td style = \"text-align: right;\">4.11</td><td style = \"text-align: right;\">4.2</td><td style = \"text-align: right;\">4.3</td><td style = \"text-align: right;\">4.4</td><td style = \"text-align: right;\">4.53</td><td style = \"text-align: right;\">4.52</td><td style = \"text-align: right;\">4.69</td><td style = \"text-align: right;\">4.41</td><td style = \"text-align: right;\">4.62</td></tr><tr><td class = \"rowNumber\" style = \"font-weight: bold; text-align: right;\">11</td><td style = \"text-align: left;\">12/15/2022</td><td style = \"text-align: right;\">3.79</td><td style = \"text-align: right;\">3.85</td><td style = \"text-align: right;\">4.06</td><td style = \"text-align: right;\">4.14</td><td style = \"text-align: right;\">4.22</td><td style = \"text-align: right;\">4.32</td><td style = \"text-align: right;\">4.42</td><td style = \"text-align: right;\">4.55</td><td style = \"text-align: right;\">4.54</td><td style = \"text-align: right;\">4.71</td><td style = \"text-align: right;\">4.44</td><td style = \"text-align: right;\">4.65</td></tr><tr><td class = \"rowNumber\" style = \"font-weight: bold; text-align: right;\">12</td><td style = \"text-align: left;\">12/14/2022</td><td style = \"text-align: right;\">3.73</td><td style = \"text-align: right;\">3.79</td><td style = \"text-align: right;\">3.93</td><td style = \"text-align: right;\">4.01</td><td style = \"text-align: right;\">4.23</td><td style = \"text-align: right;\">4.34</td><td style = \"text-align: right;\">4.45</td><td style = \"text-align: right;\">4.58</td><td style = \"text-align: right;\">4.52</td><td style = \"text-align: right;\">4.69</td><td style = \"text-align: right;\">4.44</td><td style = \"text-align: right;\">4.65</td></tr><tr><td class = \"rowNumber\" style = \"font-weight: bold; text-align: right;\">13</td><td style = \"text-align: left;\">12/13/2022</td><td style = \"text-align: right;\">3.71</td><td style = \"text-align: right;\">3.77</td><td style = \"text-align: right;\">3.95</td><td style = \"text-align: right;\">4.03</td><td style = \"text-align: right;\">4.26</td><td style = \"text-align: right;\">4.37</td><td style = \"text-align: right;\">4.42</td><td style = \"text-align: right;\">4.55</td><td style = \"text-align: right;\">4.54</td><td style = \"text-align: right;\">4.71</td><td style = \"text-align: right;\">4.44</td><td style = \"text-align: right;\">4.65</td></tr><tr><td style = \"text-align: right;\">&vellip;</td><td style = \"text-align: right;\">&vellip;</td><td style = \"text-align: right;\">&vellip;</td><td style = \"text-align: right;\">&vellip;</td><td style = \"text-align: right;\">&vellip;</td><td style = \"text-align: right;\">&vellip;</td><td style = \"text-align: right;\">&vellip;</td><td style = \"text-align: right;\">&vellip;</td><td style = \"text-align: right;\">&vellip;</td><td style = \"text-align: right;\">&vellip;</td><td style = \"text-align: right;\">&vellip;</td><td style = \"text-align: right;\">&vellip;</td><td style = \"text-align: right;\">&vellip;</td><td style = \"text-align: right;\">&vellip;</td></tr><tr><td class = \"rowNumber\" style = \"font-weight: bold; text-align: right;\">238</td><td style = \"text-align: left;\">01/19/2022</td><td style = \"text-align: right;\">0.05</td><td style = \"text-align: right;\">0.05</td><td style = \"text-align: right;\">0.05</td><td style = \"text-align: right;\">0.05</td><td style = \"text-align: right;\">0.17</td><td style = \"text-align: right;\">0.17</td><td style = \"text-align: right;\">missing</td><td style = \"text-align: right;\">missing</td><td style = \"text-align: right;\">0.36</td><td style = \"text-align: right;\">0.37</td><td style = \"text-align: right;\">0.53</td><td style = \"text-align: right;\">0.54</td></tr><tr><td class = \"rowNumber\" style = \"font-weight: bold; text-align: right;\">239</td><td style = \"text-align: left;\">01/18/2022</td><td style = \"text-align: right;\">0.05</td><td style = \"text-align: right;\">0.05</td><td style = \"text-align: right;\">0.06</td><td style = \"text-align: right;\">0.06</td><td style = \"text-align: right;\">0.17</td><td style = \"text-align: right;\">0.17</td><td style = \"text-align: right;\">missing</td><td style = \"text-align: right;\">missing</td><td style = \"text-align: right;\">0.37</td><td style = \"text-align: right;\">0.38</td><td style = \"text-align: right;\">0.55</td><td style = \"text-align: right;\">0.56</td></tr><tr><td class = \"rowNumber\" style = \"font-weight: bold; text-align: right;\">240</td><td style = \"text-align: left;\">01/14/2022</td><td style = \"text-align: right;\">0.05</td><td style = \"text-align: right;\">0.05</td><td style = \"text-align: right;\">0.06</td><td style = \"text-align: right;\">0.06</td><td style = \"text-align: right;\">0.13</td><td style = \"text-align: right;\">0.13</td><td style = \"text-align: right;\">missing</td><td style = \"text-align: right;\">missing</td><td style = \"text-align: right;\">0.3</td><td style = \"text-align: right;\">0.3</td><td style = \"text-align: right;\">0.48</td><td style = \"text-align: right;\">0.49</td></tr><tr><td class = \"rowNumber\" style = \"font-weight: bold; text-align: right;\">241</td><td style = \"text-align: left;\">01/13/2022</td><td style = \"text-align: right;\">0.05</td><td style = \"text-align: right;\">0.05</td><td style = \"text-align: right;\">0.05</td><td style = \"text-align: right;\">0.05</td><td style = \"text-align: right;\">0.12</td><td style = \"text-align: right;\">0.12</td><td style = \"text-align: right;\">missing</td><td style = \"text-align: right;\">missing</td><td style = \"text-align: right;\">0.28</td><td style = \"text-align: right;\">0.28</td><td style = \"text-align: right;\">0.45</td><td style = \"text-align: right;\">0.46</td></tr><tr><td class = \"rowNumber\" style = \"font-weight: bold; text-align: right;\">242</td><td style = \"text-align: left;\">01/12/2022</td><td style = \"text-align: right;\">0.04</td><td style = \"text-align: right;\">0.04</td><td style = \"text-align: right;\">0.05</td><td style = \"text-align: right;\">0.05</td><td style = \"text-align: right;\">0.12</td><td style = \"text-align: right;\">0.12</td><td style = \"text-align: right;\">missing</td><td style = \"text-align: right;\">missing</td><td style = \"text-align: right;\">0.28</td><td style = \"text-align: right;\">0.28</td><td style = \"text-align: right;\">0.45</td><td style = \"text-align: right;\">0.46</td></tr><tr><td class = \"rowNumber\" style = \"font-weight: bold; text-align: right;\">243</td><td style = \"text-align: left;\">01/11/2022</td><td style = \"text-align: right;\">0.04</td><td style = \"text-align: right;\">0.04</td><td style = \"text-align: right;\">0.05</td><td style = \"text-align: right;\">0.05</td><td style = \"text-align: right;\">0.12</td><td style = \"text-align: right;\">0.12</td><td style = \"text-align: right;\">missing</td><td style = \"text-align: right;\">missing</td><td style = \"text-align: right;\">0.28</td><td style = \"text-align: right;\">0.28</td><td style = \"text-align: right;\">0.44</td><td style = \"text-align: right;\">0.45</td></tr><tr><td class = \"rowNumber\" style = \"font-weight: bold; text-align: right;\">244</td><td style = \"text-align: left;\">01/10/2022</td><td style = \"text-align: right;\">0.05</td><td style = \"text-align: right;\">0.05</td><td style = \"text-align: right;\">0.06</td><td style = \"text-align: right;\">0.06</td><td style = \"text-align: right;\">0.13</td><td style = \"text-align: right;\">0.13</td><td style = \"text-align: right;\">missing</td><td style = \"text-align: right;\">missing</td><td style = \"text-align: right;\">0.29</td><td style = \"text-align: right;\">0.29</td><td style = \"text-align: right;\">0.44</td><td style = \"text-align: right;\">0.45</td></tr><tr><td class = \"rowNumber\" style = \"font-weight: bold; text-align: right;\">245</td><td style = \"text-align: left;\">01/07/2022</td><td style = \"text-align: right;\">0.05</td><td style = \"text-align: right;\">0.05</td><td style = \"text-align: right;\">0.06</td><td style = \"text-align: right;\">0.06</td><td style = \"text-align: right;\">0.1</td><td style = \"text-align: right;\">0.1</td><td style = \"text-align: right;\">missing</td><td style = \"text-align: right;\">missing</td><td style = \"text-align: right;\">0.24</td><td style = \"text-align: right;\">0.24</td><td style = \"text-align: right;\">0.41</td><td style = \"text-align: right;\">0.42</td></tr><tr><td class = \"rowNumber\" style = \"font-weight: bold; text-align: right;\">246</td><td style = \"text-align: left;\">01/06/2022</td><td style = \"text-align: right;\">0.04</td><td style = \"text-align: right;\">0.04</td><td style = \"text-align: right;\">0.06</td><td style = \"text-align: right;\">0.06</td><td style = \"text-align: right;\">0.1</td><td style = \"text-align: right;\">0.1</td><td style = \"text-align: right;\">missing</td><td style = \"text-align: right;\">missing</td><td style = \"text-align: right;\">0.23</td><td style = \"text-align: right;\">0.23</td><td style = \"text-align: right;\">0.43</td><td style = \"text-align: right;\">0.44</td></tr><tr><td class = \"rowNumber\" style = \"font-weight: bold; text-align: right;\">247</td><td style = \"text-align: left;\">01/05/2022</td><td style = \"text-align: right;\">0.05</td><td style = \"text-align: right;\">0.05</td><td style = \"text-align: right;\">0.05</td><td style = \"text-align: right;\">0.05</td><td style = \"text-align: right;\">0.09</td><td style = \"text-align: right;\">0.09</td><td style = \"text-align: right;\">missing</td><td style = \"text-align: right;\">missing</td><td style = \"text-align: right;\">0.23</td><td style = \"text-align: right;\">0.23</td><td style = \"text-align: right;\">0.4</td><td style = \"text-align: right;\">0.41</td></tr><tr><td class = \"rowNumber\" style = \"font-weight: bold; text-align: right;\">248</td><td style = \"text-align: left;\">01/04/2022</td><td style = \"text-align: right;\">0.06</td><td style = \"text-align: right;\">0.06</td><td style = \"text-align: right;\">0.05</td><td style = \"text-align: right;\">0.05</td><td style = \"text-align: right;\">0.08</td><td style = \"text-align: right;\">0.08</td><td style = \"text-align: right;\">missing</td><td style = \"text-align: right;\">missing</td><td style = \"text-align: right;\">0.23</td><td style = \"text-align: right;\">0.23</td><td style = \"text-align: right;\">0.37</td><td style = \"text-align: right;\">0.38</td></tr><tr><td class = \"rowNumber\" style = \"font-weight: bold; text-align: right;\">249</td><td style = \"text-align: left;\">01/03/2022</td><td style = \"text-align: right;\">0.05</td><td style = \"text-align: right;\">0.05</td><td style = \"text-align: right;\">0.06</td><td style = \"text-align: right;\">0.06</td><td style = \"text-align: right;\">0.09</td><td style = \"text-align: right;\">0.09</td><td style = \"text-align: right;\">missing</td><td style = \"text-align: right;\">missing</td><td style = \"text-align: right;\">0.22</td><td style = \"text-align: right;\">0.22</td><td style = \"text-align: right;\">0.39</td><td style = \"text-align: right;\">0.4</td></tr></tbody></table></div>"
      ],
      "text/latex": [
       "\\begin{tabular}{r|ccccc}\n",
       "\t& Date & 4 WEEKS BANK DISCOUNT & 4 WEEKS COUPON EQUIVALENT & 8 WEEKS BANK DISCOUNT & \\\\\n",
       "\t\\hline\n",
       "\t& String15 & Float64 & Float64 & Float64 & \\\\\n",
       "\t\\hline\n",
       "\t1 & 12/30/2022 & 3.95 & 4.02 & 4.3 & $\\dots$ \\\\\n",
       "\t2 & 12/29/2022 & 3.88 & 3.95 & 4.28 & $\\dots$ \\\\\n",
       "\t3 & 12/28/2022 & 3.57 & 3.63 & 4.08 & $\\dots$ \\\\\n",
       "\t4 & 12/27/2022 & 3.62 & 3.68 & 4.09 & $\\dots$ \\\\\n",
       "\t5 & 12/23/2022 & 3.65 & 3.71 & 4.01 & $\\dots$ \\\\\n",
       "\t6 & 12/22/2022 & 3.65 & 3.71 & 4.02 & $\\dots$ \\\\\n",
       "\t7 & 12/21/2022 & 3.66 & 3.72 & 4.01 & $\\dots$ \\\\\n",
       "\t8 & 12/20/2022 & 3.69 & 3.75 & 4.02 & $\\dots$ \\\\\n",
       "\t9 & 12/19/2022 & 3.77 & 3.83 & 4.03 & $\\dots$ \\\\\n",
       "\t10 & 12/16/2022 & 3.78 & 3.84 & 4.03 & $\\dots$ \\\\\n",
       "\t11 & 12/15/2022 & 3.79 & 3.85 & 4.06 & $\\dots$ \\\\\n",
       "\t12 & 12/14/2022 & 3.73 & 3.79 & 3.93 & $\\dots$ \\\\\n",
       "\t13 & 12/13/2022 & 3.71 & 3.77 & 3.95 & $\\dots$ \\\\\n",
       "\t14 & 12/12/2022 & 3.68 & 3.74 & 3.97 & $\\dots$ \\\\\n",
       "\t15 & 12/09/2022 & 3.66 & 3.72 & 3.95 & $\\dots$ \\\\\n",
       "\t16 & 12/08/2022 & 3.61 & 3.67 & 3.94 & $\\dots$ \\\\\n",
       "\t17 & 12/07/2022 & 3.6 & 3.66 & 3.88 & $\\dots$ \\\\\n",
       "\t18 & 12/06/2022 & 3.68 & 3.74 & 3.98 & $\\dots$ \\\\\n",
       "\t19 & 12/05/2022 & 3.75 & 3.81 & 4.04 & $\\dots$ \\\\\n",
       "\t20 & 12/02/2022 & 3.75 & 3.81 & 4.06 & $\\dots$ \\\\\n",
       "\t21 & 12/01/2022 & 3.87 & 3.94 & 4.06 & $\\dots$ \\\\\n",
       "\t22 & 11/30/2022 & 3.91 & 3.98 & 4.05 & $\\dots$ \\\\\n",
       "\t23 & 11/29/2022 & 3.92 & 3.99 & 4.07 & $\\dots$ \\\\\n",
       "\t24 & 11/28/2022 & 3.96 & 4.03 & 4.09 & $\\dots$ \\\\\n",
       "\t25 & 11/25/2022 & 4.01 & 4.08 & 4.15 & $\\dots$ \\\\\n",
       "\t26 & 11/23/2022 & 3.97 & 4.04 & 4.11 & $\\dots$ \\\\\n",
       "\t27 & 11/22/2022 & 3.81 & 3.87 & 4.06 & $\\dots$ \\\\\n",
       "\t28 & 11/21/2022 & 3.82 & 3.88 & 4.04 & $\\dots$ \\\\\n",
       "\t29 & 11/18/2022 & 3.79 & 3.85 & 4.05 & $\\dots$ \\\\\n",
       "\t30 & 11/17/2022 & 3.8 & 3.86 & 4.03 & $\\dots$ \\\\\n",
       "\t$\\dots$ & $\\dots$ & $\\dots$ & $\\dots$ & $\\dots$ &  \\\\\n",
       "\\end{tabular}\n"
      ],
      "text/plain": [
       "\u001b[1m249×13 DataFrame\u001b[0m\n",
       "\u001b[1m Row \u001b[0m│\u001b[1m Date       \u001b[0m\u001b[1m 4 WEEKS BANK DISCOUNT \u001b[0m\u001b[1m 4 WEEKS COUPON EQUIVALENT \u001b[0m\u001b[1m 8 WEEKS B\u001b[0m ⋯\n",
       "     │\u001b[90m String15   \u001b[0m\u001b[90m Float64               \u001b[0m\u001b[90m Float64                   \u001b[0m\u001b[90m Float64  \u001b[0m ⋯\n",
       "─────┼──────────────────────────────────────────────────────────────────────────\n",
       "   1 │ 12/30/2022                   3.95                       4.02            ⋯\n",
       "   2 │ 12/29/2022                   3.88                       3.95\n",
       "   3 │ 12/28/2022                   3.57                       3.63\n",
       "   4 │ 12/27/2022                   3.62                       3.68\n",
       "   5 │ 12/23/2022                   3.65                       3.71            ⋯\n",
       "   6 │ 12/22/2022                   3.65                       3.71\n",
       "   7 │ 12/21/2022                   3.66                       3.72\n",
       "   8 │ 12/20/2022                   3.69                       3.75\n",
       "   9 │ 12/19/2022                   3.77                       3.83            ⋯\n",
       "  10 │ 12/16/2022                   3.78                       3.84\n",
       "  11 │ 12/15/2022                   3.79                       3.85\n",
       "  ⋮  │     ⋮                 ⋮                        ⋮                        ⋱\n",
       " 240 │ 01/14/2022                   0.05                       0.05\n",
       " 241 │ 01/13/2022                   0.05                       0.05            ⋯\n",
       " 242 │ 01/12/2022                   0.04                       0.04\n",
       " 243 │ 01/11/2022                   0.04                       0.04\n",
       " 244 │ 01/10/2022                   0.05                       0.05\n",
       " 245 │ 01/07/2022                   0.05                       0.05            ⋯\n",
       " 246 │ 01/06/2022                   0.04                       0.04\n",
       " 247 │ 01/05/2022                   0.05                       0.05\n",
       " 248 │ 01/04/2022                   0.06                       0.06\n",
       " 249 │ 01/03/2022                   0.05                       0.05            ⋯\n",
       "\u001b[36m                                                 10 columns and 228 rows omitted\u001b[0m"
      ]
     },
     "execution_count": 2,
     "metadata": {},
     "output_type": "execute_result"
    }
   ],
   "source": [
    "rates = loadratesfile(year=\"2022\")"
   ]
  },
  {
   "cell_type": "code",
   "execution_count": null,
   "id": "be16af49",
   "metadata": {},
   "outputs": [],
   "source": []
  }
 ],
 "metadata": {
  "kernelspec": {
   "display_name": "Julia 1.9.0",
   "language": "julia",
   "name": "julia-1.9"
  },
  "language_info": {
   "file_extension": ".jl",
   "mimetype": "application/julia",
   "name": "julia",
   "version": "1.9.0"
  }
 },
 "nbformat": 4,
 "nbformat_minor": 5
}
