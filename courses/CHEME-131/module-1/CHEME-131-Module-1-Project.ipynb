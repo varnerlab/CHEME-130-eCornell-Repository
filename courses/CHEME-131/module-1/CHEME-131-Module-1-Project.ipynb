{
 "cells": [
  {
   "cell_type": "markdown",
   "id": "e6b5e784",
   "metadata": {},
   "source": [
    "# Analysis of Treasury Bill Pricing and Interest Rate Risk"
   ]
  },
  {
   "cell_type": "markdown",
   "id": "5ad142d0",
   "metadata": {
    "tags": []
   },
   "source": [
    "## Background\n",
    "Treasury bills, otherwise known as T-Bills, are financial instruments with short-term due dates ranging from a few days to 52 weeks. They are fixed-income investments with zero coupons, meaning no coupon payments are made during the term. Instead, the price of treasury bills is calculated so that the bill receiver gets the face (par) value ($V_{P}$) at the end of the term. \n",
    "\n",
    "<div>\n",
    "    <center>\n",
    "        <img src=\"figs/Fig-ZC-Schematic.png\" width=\"440\"/>\n",
    "    </center>\n",
    "</div>\n",
    "\n",
    "### Pricing\n",
    "A zero-coupon T-bill with an annual effective market interest rate $\\bar{r}$, which is specified at the time of purchase, and a term of T years has a _fair price_ of:\n",
    "\n",
    "$$\n",
    "V_{B} = \\mathcal{D}_{T,0}^{-1}\\cdot{V_{P}}\n",
    "$$\n",
    "\n",
    "where $\\mathcal{D}_{T}$ denotes the discount factor from the time of the auction to the term of T-bill, i.e., $0\\rightarrow{T}$. Typically, a constant averaged rate of interest is used to compute the discount factor:\n",
    "\n",
    "$$\n",
    "\\mathcal{D}_{T,0} = (1+\\bar{r})^{T}\n",
    "$$\n",
    "\n",
    "However, dynamic formulations of the discount factor with period-specific interest rates can also be used:\n",
    "\n",
    "$$\n",
    "\\mathcal{D}_{T,0} = \\left[\\prod_{j=0}^{T-1}\\left(1+r_{j+1,j}\\right)\\right]\n",
    "$$\n",
    "\n",
    "where $r_{j+1,j}$ terms are called short rates, i.e., the interest rate earned between period $j\\rightarrow{j+1}$. Treasury bills are released for specific periods $T=$ 4, 8, 13, 26, and 52 weeks. The fair price $V_{B}$ of the T-bill is the future face value $V_{P}$ that is discounted to today’s value by the effective market interest rate $\\bar{r}$, which is assumed constant over the lifetime of the treasury bill."
   ]
  },
  {
   "cell_type": "markdown",
   "id": "50b1a85f",
   "metadata": {
    "tags": []
   },
   "source": [
    "## Project\n",
    "You purchased a 52-week T-bill with a par value $V_{P}=100.0$ USD and an effective market rate of interest $\\bar{r}$ (annualized). However, four weeks (28-days) after purchasing the T-bill, the interest rate is now $\\bar{r}^{\\prime}$. Should you `sell` the T-bill before it matures or `hold` the T-bill to term?\n",
    "\n",
    "### Tasks\n",
    " 1. Load, and analyze historical T-bill interest rate data sets from 2019 to 2023 computed daily by [Federal Reserve Bank of New York](https://www.newyorkfed.org). Store these data in a [Dictionary](https://docs.julialang.org/en/v1/base/collections/#Dictionaries) where the year, e.g., `\"2022\"` are the keys and the data sets of the values. \n",
    " 1. Develop a strategy to decide between a `hold` or `sell` action for your T-bill.\n",
    " 1. Backtest your stratetgy using historical interest rate data for 52-week T-bills\n",
    "     * Implement your strategy and compute the number of sucess and failures of strategy"
   ]
  },
  {
   "cell_type": "markdown",
   "id": "e7fc0ff4",
   "metadata": {
    "jp-MarkdownHeadingCollapsed": true,
    "tags": []
   },
   "source": [
    "## Setup\n",
    "In the following code block we setup the computational aspects of the problem by including the `Include.jl` file. The `Include.jl` file loads external packages, functions that we will use in this excercise and custom types to model the components of our problem."
   ]
  },
  {
   "cell_type": "markdown",
   "id": "35d2219c-8eed-4924-8ba2-cdaac5db1055",
   "metadata": {
    "tags": []
   },
   "source": [
    "### Packages\n",
    "`Include.jl` loads several external packages that we will use for our excercise:\n",
    "* [DataFrames.jl](https://dataframes.juliadata.org/stable/) provides a set of tools for working with tabular data in [Julia](https://julialang.org). Its design and functionality are similar to those of [Pandas (in Python)](https://pandas.pydata.org) and [data.frame, data.table and dplyr (in R)](https://dplyr.tidyverse.org), making it a great general purpose data science tool.\n",
    "* [Plots.jl](https://docs.juliaplots.org/stable/) is a plotting library in [Julia](https://julialang.org)."
   ]
  },
  {
   "cell_type": "markdown",
   "id": "7663f65a-381b-4d87-b5ce-047c812c53f8",
   "metadata": {
    "tags": []
   },
   "source": [
    "### Functions\n",
    "`Include.jl` loads the following [Julia functions](https://docs.julialang.org/en/v1/manual/functions/) into the notebook:\n",
    "\n",
    "##### `loadratesfile(year::String = \"2022\") -> DataFrame`\n",
    "\n",
    "> This function takes a [String](https://docs.julialang.org/en/v1/manual/strings/) encoding the year in the `YYYY` format, e.g., `\"2019\"` or `\"2020\"` and returns a [DataFrame](https://dataframes.juliadata.org/stable/) holding the daily interest rates for US Treasury Bills for various durations found on [Treasury.gov](https://home.treasury.gov/resource-center/data-chart-center/interest-rates/TextView?type=daily_treasury_bill_rates). This project has data from `\"2019\"`, `\"2020\"`, `\"2021\"`, `\"2022\"` and `\"2022\"`. The year parameter has a default value of `\"2022\"`.\n",
    "\n",
    "##### `build(model::Type{MyUSTreasuryBillModel}, data::NamedTuple) -> MyUSTreasuryBillModel`\n",
    "\n",
    "> This function takes information in the `data` [NamedTuple](https://docs.julialang.org/en/v1/base/base/#Core.NamedTuple) argument (the par value, the rate and the duration of the T-bill) and returns an instance of the `MyUSTreasuryBillModel` custom type.\n",
    "\n",
    "##### `build(model::Type{MySymmetricBinaryLatticeModel}, data::NamedTuple)::MySymmetricBinaryLatticeModel` and `build(model::Type{MyBinaryLatticeNodeModel}, data::NamedTuple)::MyBinaryLatticeNodeModel` \n",
    "\n",
    "> These factory functions take information in the `data` [NamedTuple](https://docs.julialang.org/en/v1/base/base/#Core.NamedTuple) argument and construct a node or the binomial short-rate lattice model, respectively. \n",
    "\n",
    "##### `price(model::MyUSTreasuryBillModel, compounding::T) -> MyUSTreasuryBillModel where T <: AbstractCompoundingModel`\n",
    "\n",
    "> This function takes a `MyUSTreasuryBillModel` instance, and a compounding model and returns an updated `MyUSTreasuryBillModel` instance that holds the price $V_{B}$ value in the `price` field of the `MyUSTreasuryBillModel` instance.\n",
    "\n",
    "##### `𝔼(model::MySymmetricBinaryLatticeModel; level::Int = 0) -> Float64` and `𝕍(model::MySymmetricBinaryLatticeModel; level::Int = 0) -> Float64`\n",
    "\n",
    "> These functions take a`MySymmetricBinaryLatticeModel` instance, and the level and the tree (`0`-based) and compute the [expectation](https://en.wikipedia.org/wiki/Expected_value) and [variance](https://en.wikipedia.org/wiki/Variance) of the short-rates for the given level (time-step) of the lattice. "
   ]
  },
  {
   "cell_type": "markdown",
   "id": "161ed0bc-0702-4c5e-a531-1b1c5517c128",
   "metadata": {},
   "source": [
    "### Types\n",
    "`Include.jl` loads some [problem-specific types](https://docs.julialang.org/en/v1/manual/functions/) that will be helpful for the analysis of T-bill pricing. \n",
    "\n",
    "* `MyUSTreasuryBillModel` is a [mutable type](https://docs.julialang.org/en/v1/manual/types/#Mutable-Composite-Types) holding the par value $V_{P}$, the duration $T$ and the interest rate $\\bar{r}$ for a zero-coupon treasury bill. You construct a `MyUSTreasuryBillModel` instance using the `build` method described above.\n",
    "* `DiscreteCompoundingModel` and `ContinuousCompoundingModel` are [immutable types](https://docs.julialang.org/en/v1/manual/types/#Composite-Types) that let our code know which compounding model we wish to use.\n",
    "* The `MyBinaryLatticeNodeModel` and `MySymmetricBinaryLatticeModel` mutable types hold information about the nodes, and the binomial lattice, respectively, for the short-rate calculations. "
   ]
  },
  {
   "cell_type": "code",
   "execution_count": 1,
   "id": "0f889f34",
   "metadata": {},
   "outputs": [
    {
     "name": "stderr",
     "output_type": "stream",
     "text": [
      "\u001b[32m\u001b[1m  Activating\u001b[22m\u001b[39m project at `~/Desktop/julia_work/CHEME-130-eCornell-Repository/courses/CHEME-131/module-1`\n"
     ]
    }
   ],
   "source": [
    "include(\"Include.jl\");"
   ]
  },
  {
   "cell_type": "markdown",
   "id": "4a55358b-93f5-4599-9346-375b6ee8fef8",
   "metadata": {},
   "source": [
    "## Set constant values \n",
    "We will need several constants, regardless of the year we choose to analyze. First, we will always analyze 52-week data, so we encode this choice in the `key` variable. Next, we'll assume a discrete compounding model; thus, we instantiate an instance of the `DiscreteCompoundingModel` type and then store this instance in the `compounding` variable. Lastly, the T-bill’s face (par) value will always be $V_{P}$ = 100.0 USD."
   ]
  },
  {
   "cell_type": "code",
   "execution_count": 9,
   "id": "a14aeb6d-6342-46d2-ae00-d63f1055ffd4",
   "metadata": {},
   "outputs": [],
   "source": [
    "key = Symbol(\"52 WEEKS BANK DISCOUNT\");\n",
    "compounding = DiscreteCompoundingModel();\n",
    "Vₚ = 100.0;"
   ]
  },
  {
   "cell_type": "markdown",
   "id": "3ad2a887",
   "metadata": {
    "tags": []
   },
   "source": [
    "## Task 1: Load and analyze historical interest rate ranges\n",
    "The rates are based on recently auctioned bills with various maturities and collected by the Federal Reserve Bank of New York every business day. The Bank Discount rate is based on par value and discount amount, while the Coupon Equivalent is based on purchase price and discount, and can be used to compare yields."
   ]
  },
  {
   "cell_type": "markdown",
   "id": "73abbae8-a73e-41be-af55-e0561d31f8e4",
   "metadata": {
    "tags": []
   },
   "source": [
    "### Load the historical rate data into a dictionary:"
   ]
  },
  {
   "cell_type": "code",
   "execution_count": 5,
   "id": "9b74b327",
   "metadata": {},
   "outputs": [],
   "source": [
    "rate_data_dictionary = Dict{String,DataFrame}();\n",
    "years = [\"2019\",\"2020\",\"2021\",\"2022\",\"2023\"];\n",
    "for year ∈ years\n",
    "    rate_data_dictionary[year] = loadratesfile(year=year);\n",
    "end"
   ]
  },
  {
   "cell_type": "markdown",
   "id": "c730895c-19ac-4d6e-b856-e60ffc55da00",
   "metadata": {},
   "source": [
    "### Select a year of interest rate data to analyze:\n",
    "Let’s choose a year from `2019` to `2023` and save our selection in the variable `selected_year`. The year value should have the `YYYY` format, for example, `2022`. We then extract the corresponding rate values for the `selected_year` from the `rate_data_dictionary`. The rate data will be stored in the `dataset` variable, which is a `DataFrame`."
   ]
  },
  {
   "cell_type": "code",
   "execution_count": 3,
   "id": "cf10917a-cc78-4e5f-9a59-1c8c667c395e",
   "metadata": {},
   "outputs": [],
   "source": [
    "selected_year = \"2022\"\n",
    "dataset = rate_data_dictionary[selected_year];"
   ]
  },
  {
   "cell_type": "markdown",
   "id": "e61e766a-7f45-4ab2-9ad3-12cce04eb1ec",
   "metadata": {},
   "source": [
    "### What is the range of rates for the year we have selected?"
   ]
  },
  {
   "cell_type": "code",
   "execution_count": 12,
   "id": "fa02384a-4bae-4551-8f38-8b26560b0175",
   "metadata": {},
   "outputs": [],
   "source": [
    "minimum_value = dataset[:,key] |> minimum;\n",
    "maximim_value = dataset[:,key] |> maximum;"
   ]
  },
  {
   "cell_type": "markdown",
   "id": "6973e008-71a0-452b-bf2a-c12adeb73f83",
   "metadata": {},
   "source": [
    "## Task 2: Develop a Hold versus Sell Strategy for Treasury Bills\n",
    "Whether to `hold` or `sell` a security depends on your investment goals. Treasury securities, like T-bills, are generally considered safe, short-term investments. When you buy these securities, you receive their face value at the end of the term. However, you won’t have access to the invested funds until that time. If you’re concerned about needing access to the funds before the term ends, such as for unexpected expenses, you could sell the T-bill before maturity and potentially earn a capital gain or loss.\n",
    "\n",
    "Suppose you have two possible actions $a\\in\\left\\{\\text{sell},\\text{hold}\\right\\}$ and you implement the following trade policy:\n",
    "* You implement the `sell` action if the treasury bill experiences an $\\alpha$% gain or a $\\beta$ loss\n",
    "* Otherwise, you implement the `hold` action."
   ]
  },
  {
   "cell_type": "code",
   "execution_count": null,
   "id": "6e6bf2aa-fa4b-4847-8af1-1ca00678f215",
   "metadata": {},
   "outputs": [],
   "source": []
  }
 ],
 "metadata": {
  "kernelspec": {
   "display_name": "Julia 1.9.0",
   "language": "julia",
   "name": "julia-1.9"
  },
  "language_info": {
   "file_extension": ".jl",
   "mimetype": "application/julia",
   "name": "julia",
   "version": "1.9.1"
  }
 },
 "nbformat": 4,
 "nbformat_minor": 5
}
