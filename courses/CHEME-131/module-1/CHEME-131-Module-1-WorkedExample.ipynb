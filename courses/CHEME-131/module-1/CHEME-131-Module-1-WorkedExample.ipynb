{
 "cells": [
  {
   "cell_type": "markdown",
   "id": "12099d8c-7b61-4f27-a1d7-92c870500091",
   "metadata": {},
   "source": [
    "#  Compute the Fair Price of a Zero Coupon Treasury Bill"
   ]
  },
  {
   "cell_type": "markdown",
   "id": "4f68909d-08a1-42d7-9570-721195f06f88",
   "metadata": {
    "jp-MarkdownHeadingCollapsed": true,
    "tags": []
   },
   "source": [
    "## Background\n",
    "Let’s take a look at how to calculate the just price for a United States Treasury Bill (T-Bill) based on varying terms and interest rates. Additionally, we’ll examine the interest rate term structure for T-Bills under different market conditions and term lengths.\n",
    "\n",
    "Treasury bills, or T-bills, are debt instruments with short-term maturity periods ranging from a few days to 52 weeks. T-bills are zero-coupon fixed-income investments, i.e., no coupon payments are paid during their term. Instead, treasury bills are priced so that the bill holder receives the par value $V_{P}$ at the end of the term. A zero-coupon T-bill with an annual market interest rate of $\\bar{r}$, specified at the time of purchase, and a T-year term has the fair price:\n",
    "\n",
    "$$\n",
    "V_{B} = \\frac{V_{P}}{\\left(1+\\bar{r}\\right)^{T}}\n",
    "$$\n",
    "\n",
    "The fair price $V_{B}$ of the treasury bill is the future par value $V_{P}$ of the T-bill discounted to today by the market interest rate $\\bar{r}$. Treasury bills are issued for specific periods, such as 4, 8, 13, 26, and 52 weeks."
   ]
  },
  {
   "cell_type": "markdown",
   "id": "30524af1-01e1-46b1-8bed-5d1b19898161",
   "metadata": {
    "tags": []
   },
   "source": [
    "## Example\n",
    "Compute the fair price of 4-week and 52-week treasury bills using historical interest rate data gathered daily from 2019 to 2023:\n",
    "\n",
    "1. Using the quoted annualized market interest rate $\\bar{r}$, show that the fair price of a 52-week T-bill is more sensitive to changes in the interest rate than a 4-week T-bill with the same par value.\n",
    "1. Using a binomial lattice model estimated from historical data, compute how the price of a 4-week and 52-week T-bill change between the time of purchase and the bond term."
   ]
  },
  {
   "cell_type": "markdown",
   "id": "092be899-86dd-462b-9014-48198f47193e",
   "metadata": {
    "tags": []
   },
   "source": [
    "## Setup\n",
    "In the following code blocks we setup the computational aspects of the problem by including the `Include.jl` file. The `Include.jl` file loads external packages, functions that we will use in this excercise and custom types to model the components of our problem."
   ]
  },
  {
   "cell_type": "markdown",
   "id": "b0578918-4019-45e8-94fb-1791931910a9",
   "metadata": {},
   "source": [
    "### Packages\n",
    "`Include.jl` loads several external packages that we will use for our excercise:\n",
    "* [DataFrames.jl](https://dataframes.juliadata.org/stable/) provides a set of tools for working with tabular data in [Julia](https://julialang.org). Its design and functionality are similar to those of [Pandas (in Python)](https://pandas.pydata.org) and [data.frame, data.table and dplyr (in R)](https://dplyr.tidyverse.org), making it a great general purpose data science tool."
   ]
  },
  {
   "cell_type": "markdown",
   "id": "f8276d38-8668-498a-b533-ffb28350d42a",
   "metadata": {
    "tags": []
   },
   "source": [
    "### Functions\n",
    "`Include.jl` loads the [Julia functions](https://docs.julialang.org/en/v1/manual/functions/):\n",
    "\n",
    "* The `loadratesfile(year::String = \"2022\") -> DataFrame` function takes a [String](https://docs.julialang.org/en/v1/manual/strings/) encoding the year in the `YYYY` format, e.g., `\"2019\"` or `\"2020\"` and returns a [DataFrame](https://dataframes.juliadata.org/stable/) holding the daily interest rates for US Treasury Bills for various durations found on [Treasury.gov](https://home.treasury.gov/resource-center/data-chart-center/interest-rates/TextView?type=daily_treasury_bill_rates). This project has data from `\"2019\"`, `\"2020\"`, `\"2021\"`, `\"2022\"` and `\"2022\"`. The year parameter has a default value of `\"2022\"`.\n",
    "* The `build(model::Type{MyUSTreasuryBillModel}, data::NamedTuple) -> MyUSTreasuryBillModel` function takes information in the `data` arguement (the par value, the rate and the duration of the T-bill) and returns an instance of the `MyUSTreasuryBillModel` custom type."
   ]
  },
  {
   "cell_type": "markdown",
   "id": "d804772a-46f0-4b8a-8113-cf9e94467d23",
   "metadata": {},
   "source": [
    "### Types\n",
    "`Include.jl` loads some [problem specific types](https://docs.julialang.org/en/v1/manual/functions/) that will be helpful for the analysis of T-bill pricing. \n",
    "\n",
    "* `MyUSTreasuryBillModel` is a [mutable type](https://docs.julialang.org/en/v1/manual/types/#Mutable-Composite-Types) holding the par value $V_{P}$, the duration $T$ and the interest rate $\\bar{r}$ for a zero-coupon treasury bill. You construct a `MyUSTreasuryBillModel` instance using the `build` method described above."
   ]
  },
  {
   "cell_type": "code",
   "execution_count": null,
   "id": "79cd0f7f-f80d-4637-95ad-197b6ffbb283",
   "metadata": {},
   "outputs": [],
   "source": [
    "include(\"Include.jl\");"
   ]
  },
  {
   "cell_type": "markdown",
   "id": "c4634582-e0dc-4aa9-9a28-064a9298d652",
   "metadata": {
    "tags": []
   },
   "source": [
    "## Prerequisite: Load and analyze historical interest rate data sets"
   ]
  },
  {
   "cell_type": "code",
   "execution_count": null,
   "id": "248523af-1ade-481d-9e48-c5701bb49ac5",
   "metadata": {},
   "outputs": [],
   "source": [
    "rate_data_dictionary = Dict{String,DataFrame}();\n",
    "years = [\"2019\",\"2020\",\"2021\",\"2022\",\"2023\"];\n",
    "for year ∈ years\n",
    "    rate_data_dictionary[year] = loadratesfile(year=year);\n",
    "end"
   ]
  },
  {
   "cell_type": "markdown",
   "id": "07f59e5b-695d-442a-9f55-e89a5b2b3b1d",
   "metadata": {},
   "source": [
    "## Task 1: Compute $V_{B}$ for a 4-week and 52-week T-bill"
   ]
  },
  {
   "cell_type": "code",
   "execution_count": null,
   "id": "6c49df25-4d41-44bc-8efc-ab53366aace9",
   "metadata": {},
   "outputs": [],
   "source": [
    "# select a year to consider, must be 2019, 2020, 2021, 2022 or 2023\n",
    "selected_year = \"2022\"\n",
    "rate_data = rate_data_dictionary[selected_year];\n",
    "Vₚ = 100.0;"
   ]
  },
  {
   "cell_type": "markdown",
   "id": "d6ca13d1-bcfd-407b-9e33-36f028e10cde",
   "metadata": {},
   "source": [
    "#### Compute the fair price $V_{B}$ of 4-week T-bill"
   ]
  },
  {
   "cell_type": "code",
   "execution_count": null,
   "id": "1b6928aa-9bb4-4711-b4ab-cc64c92e31e8",
   "metadata": {},
   "outputs": [],
   "source": [
    "T = (4.0/52.0);\n",
    "\n",
    "number_of_values = nrow(rate_data);\n",
    "prices_4_weeks = Array{Float64,2}(undef, number_of_values, 3)\n",
    "counter = 1;\n",
    "for i ∈ number_of_values:-1:1\n",
    "    \n",
    "    # get the market interest rate from the data set \n",
    "    r̄ = rate_data[i,Symbol(\"4 WEEKS BANK DISCOUNT\")]*(1/100);\n",
    "    \n",
    "    # compute the discount rate\n",
    "    𝒟 = (1+r̄)^T;\n",
    "    \n",
    "    # compute the prices array\n",
    "    prices_4_weeks[counter,1] = counter;\n",
    "    prices_4_weeks[counter,2] = r̄;\n",
    "    prices_4_weeks[counter,3] = (1/𝒟)*Vₚ\n",
    "    \n",
    "    # update the counter\n",
    "    counter += 1\n",
    "end"
   ]
  },
  {
   "cell_type": "markdown",
   "id": "2fb8c72b-deb8-4169-b430-58dd4461fd70",
   "metadata": {},
   "source": [
    "#### Compute the fair price $V_{B}$ of 52-week T-bill"
   ]
  },
  {
   "cell_type": "code",
   "execution_count": null,
   "id": "e39de322-f56b-48e9-a1b4-8933a89d4fd3",
   "metadata": {},
   "outputs": [],
   "source": [
    "T = (52.0/52.0);\n",
    "\n",
    "number_of_values = nrow(rate_data);\n",
    "prices_52_weeks = Array{Float64,2}(undef, number_of_values, 3)\n",
    "counter = 1;\n",
    "for i ∈ number_of_values:-1:1\n",
    "    \n",
    "    # get the market interest rate from the data set \n",
    "    r̄ = rate_data[i,Symbol(\"52 WEEKS BANK DISCOUNT\")]*(1/100);\n",
    "    \n",
    "    # compute the discount rate\n",
    "    𝒟 = (1+r̄)^T;\n",
    "    \n",
    "    # compute the prices array\n",
    "    prices_52_weeks[counter,1] = counter;\n",
    "    prices_52_weeks[counter,2] = r̄;\n",
    "    prices_52_weeks[counter,3] = (1/𝒟)*Vₚ\n",
    "    \n",
    "     # update the counter\n",
    "    counter += 1\n",
    "end"
   ]
  },
  {
   "cell_type": "markdown",
   "id": "438706e0-080c-438d-8db5-4fe1af47678b",
   "metadata": {},
   "source": [
    "#### Visualize the fair price $V_{B}$ as a function of the market interest rate"
   ]
  },
  {
   "cell_type": "markdown",
   "id": "3aa98f9f-f5a4-439d-be30-ab31997b02a8",
   "metadata": {},
   "source": [
    "##### Case: The 4-week T-bill price $V_{B}$ versus the market interest rate $\\bar{r}$:"
   ]
  },
  {
   "cell_type": "code",
   "execution_count": null,
   "id": "12b7a530-9b36-40bd-9882-c30e949b1014",
   "metadata": {
    "tags": []
   },
   "outputs": [],
   "source": [
    "idx = sortperm(prices_4_weeks[:,2]);\n",
    "plot(prices_4_weeks[idx,2], prices_4_weeks[idx,3],lw=3,c=colors[1],xlim=(0.0,0.041), \n",
    "    ylim=(99.5,100.0), label=\"4-week T-bill $(selected_year)\", xlabel=\"Annualized interest rate r̄\", \n",
    "    ylabel=\"Price T-Bill \\$100-par (USD)\")"
   ]
  },
  {
   "cell_type": "markdown",
   "id": "b1e8f95f-9a01-4f24-9285-3dd4856321f2",
   "metadata": {},
   "source": [
    "##### Case: The 52-week T-bill price $V_{B}$ versus the market interest rate $\\bar{r}$:"
   ]
  },
  {
   "cell_type": "code",
   "execution_count": null,
   "id": "b016d63f-0c71-479e-a14e-5bb5e08fe219",
   "metadata": {
    "tags": []
   },
   "outputs": [],
   "source": [
    "idx = sortperm(prices_52_weeks[:,2]);\n",
    "plot(prices_52_weeks[idx,2], prices_52_weeks[idx,3],lw=3,c=colors[3], \n",
    "    xlim=(0.0,0.051), ylim=(95.0,100.0),label=\"52-week T-bill $(selected_year)\", \n",
    "    xlabel=\"Annualized interest rate r̄ (decimal)\", ylabel=\"Price T-Bill \\$100-par (USD)\")"
   ]
  },
  {
   "cell_type": "markdown",
   "id": "bee01b2f-b0a1-4b37-be4a-e3c7e1f97c91",
   "metadata": {},
   "source": [
    "## Task 2: Binomial lattice model prediction of 52-Week T-bill pricing"
   ]
  },
  {
   "cell_type": "markdown",
   "id": "a7eb82a5-b464-4151-9972-dfcc0b40bdbf",
   "metadata": {},
   "source": [
    "### Estimate the probability of an `up` move\n",
    "If we have a year’s worth of daily data (around 252 samples), we can determine how many times the interest rate increased between consecutive days by calculating the occurrences of $r_{j+1}>r_{j}$ in the data."
   ]
  },
  {
   "cell_type": "code",
   "execution_count": null,
   "id": "1b1a3d70-649c-4044-b290-08a68300ca4b",
   "metadata": {},
   "outputs": [],
   "source": [
    "# initialize -\n",
    "number_of_values = nrow(rate_data);\n",
    "counter = 0;\n",
    "key = Symbol(\"52 WEEKS BANK DISCOUNT\");\n",
    "\n",
    "for i ∈ 2:number_of_values\n",
    "    \n",
    "    # remember: data is newest to oldest\n",
    "    r_today = rate_data[i-1,key];\n",
    "    r_yesterday = rate_data[i,key];\n",
    "    \n",
    "    if (r_today > r_yesterday)\n",
    "        counter += 1\n",
    "    end\n",
    "end\n",
    "\n",
    "# compute p (sorry Bayesian people ...)\n",
    "p = counter/number_of_values;\n",
    "\n",
    "# println -\n",
    "println(\"In $(selected_year), the probability of a daily increase in rates was p = $(p)\")"
   ]
  },
  {
   "cell_type": "markdown",
   "id": "89713eba-dfb1-4b8d-a849-fc2d2429628e",
   "metadata": {},
   "source": [
    "### Estimate the expected magnitude of an `up` move"
   ]
  },
  {
   "cell_type": "code",
   "execution_count": null,
   "id": "96f5422a-6d6c-4ec0-82f4-7debc64a732b",
   "metadata": {
    "tags": []
   },
   "outputs": [],
   "source": [
    "# initialize -\n",
    "number_of_values = nrow(rate_data);\n",
    "up_move_array = Array{Float64,1}();\n",
    "\n",
    "for i ∈ 2:number_of_values\n",
    "    \n",
    "    # remember: data is newest to oldest\n",
    "    r_today = rate_data[i-1,key];\n",
    "    r_yesterday = rate_data[i,key];\n",
    "    \n",
    "    if (r_today > r_yesterday)\n",
    "        u = r_today/r_yesterday;\n",
    "        push!(up_move_array, u);\n",
    "    end\n",
    "end\n",
    "\n",
    "# compute the average\n",
    "ū = mean(up_move_array)\n",
    "\n",
    "# print -\n",
    "println(\"The mean magnitude of an up move is ū = $(ū)\")"
   ]
  },
  {
   "cell_type": "code",
   "execution_count": null,
   "id": "792f9ca6-e20b-4788-b119-66045cb6da96",
   "metadata": {
    "tags": []
   },
   "outputs": [],
   "source": [
    "histogram(up_move_array, xlabel=\"Daily 52-week T-bill u-factor $(selected_year)\", \n",
    "    ylabel=\"Count\", label=\"2022\")"
   ]
  },
  {
   "cell_type": "markdown",
   "id": "e8e10431-16ea-45c1-a392-c51784e3b3b1",
   "metadata": {},
   "source": [
    "### Estimate the expected magnitude of a `down` move"
   ]
  },
  {
   "cell_type": "code",
   "execution_count": null,
   "id": "40d68849-ece2-44da-b0da-371e6fdd3646",
   "metadata": {},
   "outputs": [],
   "source": [
    "# initialize -\n",
    "number_of_values = nrow(rate_data);\n",
    "down_move_array = Array{Float64,1}();\n",
    "\n",
    "for i ∈ 2:number_of_values\n",
    "    \n",
    "    # remember: data is newest to oldest\n",
    "    r_today = rate_data[i-1,key];\n",
    "    r_yesterday = rate_data[i,key];\n",
    "    \n",
    "    if (r_today < r_yesterday)\n",
    "        d = r_today/r_yesterday;\n",
    "        push!(down_move_array, d);\n",
    "    end\n",
    "end\n",
    "\n",
    "# compute the average of the down moves\n",
    "d̄ = mean(down_move_array);\n",
    "\n",
    "# print -\n",
    "println(\"The mean magnitude of a down move is d̄ = $(d̄)\")"
   ]
  },
  {
   "cell_type": "markdown",
   "id": "02e2080a-2ca5-4275-9f17-377d402f7cb0",
   "metadata": {},
   "source": [
    "### Predict the future T-bill price using a Binomial lattice model"
   ]
  },
  {
   "cell_type": "markdown",
   "id": "f0563ec6-fe6d-4fb5-8a37-c913ea56d732",
   "metadata": {
    "tags": []
   },
   "source": [
    "#### Check: Binomial lattice T-bill price\n",
    "Comparing the T-bill price predicted by the lattice model with the price calculated using the quoted initial interest rate $\\bar{r}$ is possible. To obtain this initial interest rate, we need to convert the rate quoted for the first business day in January to a decimal:"
   ]
  },
  {
   "cell_type": "code",
   "execution_count": null,
   "id": "766a34bd-bded-4a3c-a66e-88b1590450ab",
   "metadata": {},
   "outputs": [],
   "source": [
    "r̄ = rate_data[end, key]*(1/100);"
   ]
  },
  {
   "cell_type": "markdown",
   "id": "0f81f757-553f-40da-903a-1f1fb0518cb2",
   "metadata": {},
   "source": [
    "We then compute the fair price $V_{B}$ of a 52-week T-bill for $V_{P}=1000$ USD using $\\bar{r}$:"
   ]
  },
  {
   "cell_type": "code",
   "execution_count": null,
   "id": "a5c62272-4b6f-4a76-8c2c-e1aa772b8827",
   "metadata": {},
   "outputs": [],
   "source": [
    "VB = Vₚ*(1/(1+r̄));"
   ]
  },
  {
   "cell_type": "markdown",
   "id": "7e8e1adb-55c5-49e3-952a-59b3703ee7ab",
   "metadata": {},
   "source": [
    "Finally, using the lattice model, we predict the price of the 52-week T-Bill by assuming daily compounding business day:"
   ]
  },
  {
   "cell_type": "code",
   "execution_count": null,
   "id": "d0c9d71f-e6e3-4b44-87e6-c55ff40a6f52",
   "metadata": {},
   "outputs": [],
   "source": [
    "T = number_of_values; \n",
    "rₒ = 0.265*rate_data[end, key]*(1/100)*(1/T);\n",
    "\n",
    "model = build(MySymmetricBinaryLatticeModel,(\n",
    "    u = ū, d = d̄, p = p, rₒ = rₒ, T = T,\n",
    ")) |> populate |> (model -> solve(model, Vₚ = Vₚ));\n",
    "\n",
    "VBLM = model.data[0].price;"
   ]
  },
  {
   "cell_type": "markdown",
   "id": "cd3c5a7f-c49c-4f65-9b80-58dbe3f4a17a",
   "metadata": {},
   "source": [
    "##### Summary table"
   ]
  },
  {
   "cell_type": "code",
   "execution_count": null,
   "id": "e4be8d2b-b4eb-4bd7-9cdd-46b1c72723dc",
   "metadata": {
    "tags": []
   },
   "outputs": [],
   "source": [
    "summary_table_header = ([\"Item\", \"Value\"]);\n",
    "summary_table_data = Array{Any,2}(undef, 3,2);\n",
    "summary_table_data[1,1] = \"Fair price (USD)\"\n",
    "summary_table_data[1,2] = VB;\n",
    "summary_table_data[2,1] = \"Lattice model price (USD)\"\n",
    "summary_table_data[2,2] = VBLM;\n",
    "summary_table_data[3,1] = \"Difference (%)\"\n",
    "summary_table_data[3,2] = (abs(VBLM-VB)/VB)*100;\n",
    "\n",
    "# show the table -\n",
    "pretty_table(summary_table_data, header=summary_table_header)"
   ]
  }
 ],
 "metadata": {
  "kernelspec": {
   "display_name": "Julia 1.9.0",
   "language": "julia",
   "name": "julia-1.9"
  },
  "language_info": {
   "file_extension": ".jl",
   "mimetype": "application/julia",
   "name": "julia",
   "version": "1.9.0"
  },
  "toc-autonumbering": false,
  "toc-showmarkdowntxt": false,
  "toc-showtags": false
 },
 "nbformat": 4,
 "nbformat_minor": 5
}
