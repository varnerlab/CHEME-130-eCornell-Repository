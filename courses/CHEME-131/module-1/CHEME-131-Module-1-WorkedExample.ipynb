{
 "cells": [
  {
   "cell_type": "markdown",
   "id": "12099d8c-7b61-4f27-a1d7-92c870500091",
   "metadata": {},
   "source": [
    "#  Compute the Fair Price of a Zero Coupon Treasury Bill"
   ]
  },
  {
   "cell_type": "markdown",
   "id": "4f68909d-08a1-42d7-9570-721195f06f88",
   "metadata": {
    "jp-MarkdownHeadingCollapsed": true,
    "tags": []
   },
   "source": [
    "## Background\n",
    "Treasury bills, or T-bills, are debt instruments with short-term maturity periods ranging from a few days to 52 weeks. T-bills are zero-coupon fixed-income investments, i.e., no coupon payments are paid during their term. Instead, treasury bills are priced so that the bill holder receives the par value $V_{P}$ at the end of the term. A zero-coupon T-bill with an annual market interest rate of $\\bar{r}$, specified at the time of purchase, and a T-year term has the fair price:\n",
    "\n",
    "$$\n",
    "V_{B} = \\frac{V_{P}}{\\left(1+\\bar{r}\\right)^{T}}\n",
    "$$\n",
    "\n",
    "The fair price $V_{B}$ of the treasury bill is the future par value $V_{P}$ of the T-bill discounted to today by the market interest rate $\\bar{r}$. Treasury bills are issued for specific periods, such as 4, 8, 13, 26, and 52 weeks."
   ]
  },
  {
   "cell_type": "markdown",
   "id": "30524af1-01e1-46b1-8bed-5d1b19898161",
   "metadata": {
    "tags": []
   },
   "source": [
    "## Example\n",
    "Compute the fair price of 4-week and 52-week treasury bills using historical interest rate data gathered daily from 2019 to 2023:\n",
    "\n",
    "1. Using the quoted annualized market interest rate $\\bar{r}$, show that the fair price of a 52-week T-bill is more sensitive to changes in the interest rate than a 4-week T-bill with the same par value.\n",
    "1. Using a binomial lattice model estimated from historical data, compute how the price of a 4-week and 52-week T-bill change between the time of purchase and the bond term."
   ]
  },
  {
   "cell_type": "markdown",
   "id": "092be899-86dd-462b-9014-48198f47193e",
   "metadata": {
    "jp-MarkdownHeadingCollapsed": true,
    "tags": []
   },
   "source": [
    "## Setup\n",
    "In the following code blocks we setup the computational aspects of the problem by including the `Include.jl` file. The `Include.jl` file loads external packages, functions that we will use in this excercise and custom types to model the components of our problem."
   ]
  },
  {
   "cell_type": "markdown",
   "id": "b0578918-4019-45e8-94fb-1791931910a9",
   "metadata": {},
   "source": [
    "### Packages\n",
    "`Include.jl` loads several external packages that we will use for our excercise:\n",
    "* [DataFrames.jl](https://dataframes.juliadata.org/stable/) provides a set of tools for working with tabular data in [Julia](https://julialang.org). Its design and functionality are similar to those of [Pandas (in Python)](https://pandas.pydata.org) and [data.frame, data.table and dplyr (in R)](https://dplyr.tidyverse.org), making it a great general purpose data science tool."
   ]
  },
  {
   "cell_type": "markdown",
   "id": "f8276d38-8668-498a-b533-ffb28350d42a",
   "metadata": {
    "tags": []
   },
   "source": [
    "### Functions\n",
    "`Include.jl` loads the [Julia functions](https://docs.julialang.org/en/v1/manual/functions/):\n",
    "\n",
    "* The `loadratesfile(year::String = \"2022\") -> DataFrame` function takes a [String](https://docs.julialang.org/en/v1/manual/strings/) encoding the year in the `YYYY` format, e.g., `\"2019\"` or `\"2020\"` and returns a [DataFrame](https://dataframes.juliadata.org/stable/) holding the daily interest rates for US Treasury Bills for various durations found on [Treasury.gov](https://home.treasury.gov/resource-center/data-chart-center/interest-rates/TextView?type=daily_treasury_bill_rates). This project has data from `\"2019\"`, `\"2020\"`, `\"2021\"`, `\"2022\"` and `\"2022\"`. The year parameter has a default value of `\"2022\"`.\n",
    "* The `build(model::Type{MyUSTreasuryBillModel}, data::NamedTuple) -> MyUSTreasuryBillModel` function takes information in the `data` arguement (the par value, the rate and the duration of the T-bill) and returns an instance of the `MyUSTreasuryBillModel` custom type."
   ]
  },
  {
   "cell_type": "markdown",
   "id": "d804772a-46f0-4b8a-8113-cf9e94467d23",
   "metadata": {},
   "source": [
    "### Types\n",
    "`Include.jl` loads some [problem specific types](https://docs.julialang.org/en/v1/manual/functions/) that will be helpful for the analysis of T-bill pricing. \n",
    "\n",
    "* `MyUSTreasuryBillModel` is a [mutable type](https://docs.julialang.org/en/v1/manual/types/#Mutable-Composite-Types) holding the par value $V_{P}$, the duration $T$ and the interest rate $\\bar{r}$ for a zero-coupon treasury bill. You construct a `MyUSTreasuryBillModel` instance using the `build` method described above."
   ]
  },
  {
   "cell_type": "code",
   "execution_count": 1,
   "id": "79cd0f7f-f80d-4637-95ad-197b6ffbb283",
   "metadata": {},
   "outputs": [
    {
     "name": "stderr",
     "output_type": "stream",
     "text": [
      "\u001b[32m\u001b[1m  Activating\u001b[22m\u001b[39m project at `~/Desktop/julia_work/CHEME-130-eCornell-Repository/courses/CHEME-131/module-1`\n"
     ]
    }
   ],
   "source": [
    "include(\"Include.jl\");"
   ]
  },
  {
   "cell_type": "markdown",
   "id": "c4634582-e0dc-4aa9-9a28-064a9298d652",
   "metadata": {
    "jp-MarkdownHeadingCollapsed": true,
    "tags": []
   },
   "source": [
    "## Prerequisite: Load and analyze historical interest rate data sets"
   ]
  },
  {
   "cell_type": "code",
   "execution_count": 2,
   "id": "248523af-1ade-481d-9e48-c5701bb49ac5",
   "metadata": {},
   "outputs": [],
   "source": [
    "rate_data_dictionary = Dict{String,DataFrame}();\n",
    "years = [\"2019\",\"2020\",\"2021\",\"2022\",\"2023\"];\n",
    "for year ∈ years\n",
    "    rate_data_dictionary[year] = loadratesfile(year=year);\n",
    "end"
   ]
  },
  {
   "cell_type": "markdown",
   "id": "07f59e5b-695d-442a-9f55-e89a5b2b3b1d",
   "metadata": {},
   "source": [
    "## Task 1: Compute $V_{B}$ for a 4-week and 52-week T-bill"
   ]
  },
  {
   "cell_type": "code",
   "execution_count": null,
   "id": "6c49df25-4d41-44bc-8efc-ab53366aace9",
   "metadata": {},
   "outputs": [],
   "source": []
  }
 ],
 "metadata": {
  "kernelspec": {
   "display_name": "Julia 1.9.0",
   "language": "julia",
   "name": "julia-1.9"
  },
  "language_info": {
   "file_extension": ".jl",
   "mimetype": "application/julia",
   "name": "julia",
   "version": "1.9.0"
  },
  "toc-autonumbering": false,
  "toc-showmarkdowntxt": false,
  "toc-showtags": false
 },
 "nbformat": 4,
 "nbformat_minor": 5
}
