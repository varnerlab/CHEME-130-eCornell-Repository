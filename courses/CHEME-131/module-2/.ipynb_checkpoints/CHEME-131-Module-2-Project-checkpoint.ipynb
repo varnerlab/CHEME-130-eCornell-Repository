{
 "cells": [
  {
   "cell_type": "markdown",
   "id": "c2ea89ee-6ab6-44c4-b746-cab8ee51f423",
   "metadata": {},
   "source": [
    "# Calculate the Year to Date Price Trends for 10-year Treasury Notes"
   ]
  },
  {
   "cell_type": "markdown",
   "id": "e7d01952-97b3-4bcf-9f4b-22136acc55e6",
   "metadata": {},
   "source": [
    "## Background\n",
    "Treasury notes, also known as T-notes, are financial instruments that offer a fixed interest rate every six months until they mature. These instruments are available for 2, 3, 5, 7, and 10 years and can be priced above or below their face (par) value. Upon maturity, lenders are entitled to the full par value of the note. T-notes are considered coupon debt instruments, meaning lenders receive regular interest payments based on a coupon rate throughout the note’s lifespan. \n",
    "\n",
    "Treasury bonds, like T-notes, are debt instruments that pay a fixed interest rate every six months. Unlike T-notes, however, Treasury bonds are long-term U.S. Treasury debt instruments with terms of 20 or 30 years. Once a bond reaches maturity, the bondholder receives its face value.  Notes and bonds can be held until maturity or sold before that time.\n",
    "\n",
    "### Pricing\n",
    "Let the term of a bond (or note) be T-years with  $\\lambda$ coupon payments per year; $N = \\lambda{T}$ coupon payments over the bond term. Further, let $\\bar{c}$ denote the annualized coupon rate, and $\\bar{r}$ denote the annual effective market rate of interest. Then, the _fair price_ for the bond (or note) $V_{B}$ is the present value of coupon payments $C$ plus the discounted face (par) value $V_{P}$ of the bond:\n",
    "\n",
    "$$\n",
    "V_{B} = \\frac{V_{P}}{\\left(1+i\\right)^{N}}+\\sum_{j=1}^{N}\\frac{C}{\\left(1+i\\right)^{j}}\n",
    "$$\n",
    "\n",
    "The coupon payment $C=\\left(\\bar{c}/\\lambda\\right)\\cdot{V_{P}}$ is set when the bond is purchased, and the interest rate $i=\\bar{r}/\\lambda$ varies with the market (set at auction). The contract between the U.S. government, the issuer, and the bondholder (you) includes the bond’s coupon rate, maturity date, and face (par) value."
   ]
  },
  {
   "cell_type": "markdown",
   "id": "ffd3a742-442c-457a-ac87-b2e127438bbb",
   "metadata": {},
   "source": [
    "## Objective\n",
    "Using historical `TMUBMUSD10Y` quotation data from the [Wall Street Journal](https://www.wsj.com/market-data/bonds/treasuries), compute the price trend for a 10-year T-Note with a coupon rate of 3.375%. We'll load the historical dataset, which contains daily Year-to-Date (YTD) Open, High, Low, and Close yield values from `01/03/23` to `06/01/23`. You'll compute the price trend from this historical data.\n",
    "\n",
    "### Tasks and Strategies\n",
    "1. Compute the T-Note price series for the daily Open, High, Low, and Close values in the historical data set. Store the T-Note price values in an array, where each row holds a date and each column corresponds to the price for the Open, High, Low, and Close values for that date."
   ]
  },
  {
   "cell_type": "markdown",
   "id": "9c5275eb-bda6-42ae-8258-d33809da69d1",
   "metadata": {},
   "source": [
    "## Setup\n",
    "In the following code blocks, we set up the computational environment by including the `Include.jl` file. The `Include.jl` file loads external packages, functions that we will use in this exercise, and custom types to model the components of our problem."
   ]
  },
  {
   "cell_type": "code",
   "execution_count": 3,
   "id": "8e30e4d0-3628-451d-987f-de5d9015604e",
   "metadata": {},
   "outputs": [],
   "source": [
    "include(\"Include.jl\");"
   ]
  },
  {
   "cell_type": "markdown",
   "id": "f6cadd33-e26f-41bc-a361-3b6f79a76d66",
   "metadata": {},
   "source": [
    "## Load historical data"
   ]
  },
  {
   "cell_type": "code",
   "execution_count": 7,
   "id": "3654115d-50f2-439a-8ac0-040293b9c0a8",
   "metadata": {},
   "outputs": [],
   "source": [
    "path_to_data_file = joinpath(_PATH_TO_DATA,\"TMUBMUSD10Y-d-01-03-23-to-06-01-23.csv\");\n",
    "dataset = loaddatafile(path_to_data_file);"
   ]
  },
  {
   "cell_type": "markdown",
   "id": "01ffcff4-1d0f-424c-90d8-856fc7a3d1b3",
   "metadata": {},
   "source": [
    "## Compute price series"
   ]
  },
  {
   "cell_type": "code",
   "execution_count": null,
   "id": "9ed23283-637f-4b63-b1f2-04e6e72f1142",
   "metadata": {},
   "outputs": [],
   "source": []
  }
 ],
 "metadata": {
  "kernelspec": {
   "display_name": "Julia 1.9.0",
   "language": "julia",
   "name": "julia-1.9"
  },
  "language_info": {
   "file_extension": ".jl",
   "mimetype": "application/julia",
   "name": "julia",
   "version": "1.9.0"
  }
 },
 "nbformat": 4,
 "nbformat_minor": 5
}
