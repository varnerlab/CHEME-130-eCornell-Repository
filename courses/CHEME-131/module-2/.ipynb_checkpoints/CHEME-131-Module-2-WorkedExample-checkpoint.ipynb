{
 "cells": [
  {
   "cell_type": "markdown",
   "id": "c01d085c-19ea-4ed0-b4a3-48084d962514",
   "metadata": {},
   "source": [
    "# Pricing and Yields of United States Treasury Notes and Bounds"
   ]
  },
  {
   "cell_type": "markdown",
   "id": "f65683a1-3094-40cd-89df-effbd8a20f86",
   "metadata": {},
   "source": [
    "## Background\n",
    "Treasury notes, also called T-notes and treasury bonds, provide a fixed interest rate throughout their lifespan and pay semi-annual coupon payments until they reach maturity. When the note (or bond) matures, the holder receives the face (or par) value of the note (or bond). This sets them apart from treasury bills, as treasury notes (and bonds) offer coupon payments every six months, along with earning interest, for the duration of the security. Treasury notes are offered for 2, 3, 5, 7, and 10 years, whereas bonds mature after 20 or 30 years. They can be priced below or above their face (or par) value, but the lenders are entitled to the full par value of the note upon maturity.\n",
    "\n",
    "<div>\n",
    "    <center>\n",
    "        <img src=\"figs/Fig-Bond-Asset-Timeline-Schematic.png\" width=\"640\"/>\n",
    "    </center>\n",
    "</div>\n",
    "\n",
    "\n",
    "### Pricing\n",
    "Let the term of a note be T-years with $\\lambda$ coupon payments per year; $N = \\lambda{T}$ coupon payments over the bond term. Further, let $\\bar{c}$ denote the annualized coupon rate, and $\\bar{r}$ denote the annual effective market rate of interest. Then, the _fair price_ for note $V_{B}$ is the present value of coupon payments $C$ plus the discounted face (par) value $V_{P}$ of the bond:\n",
    "\n",
    "$$\n",
    "V_{B} = \\mathcal{D}^{-1}_{N}V_{P}+\\sum_{j=1}^{N}\\mathcal{D}_{j}^{-1}C\n",
    "$$\n",
    "\n",
    "where $\\mathcal{D}_{i}$ denotes the discount factor for the period $0\\rightarrow{I}$, which can be either a discrete or continuous compounding model. The coupon payment $C=\\left(\\bar{c}/\\lambda\\right)\\cdot{V_{P}}$ is set when the bond is purchased, and the interest rate $i=\\bar{r}/\\lambda$ varies with the market (set at auction). The contract between the U.S. government, the issuer, and the note holder (you) includes the note’s coupon rate, maturity date, and face (par) value."
   ]
  },
  {
   "cell_type": "markdown",
   "id": "352555e2-6031-4516-ade0-d64fc9c9ce11",
   "metadata": {},
   "source": [
    "## Learning objectives\n",
    "In this example, we will explore the pricing and yield of coupon-paying treasury notes and bonds.\n",
    "\n",
    "* __Objective 1__: First, we'll validate the prices calculated by implementing the pricing formula above using historical data for bonds and notes of different durations. \n",
    "* __Objective 2__: Next, using our validated bond/note code, compute the [Yield to Maturity (YTM)](https://en.wikipedia.org/wiki/Yield_to_maturity) for bonds or notes of different durations. In particular, we'll show how the bond (or note) parameters influence the yield to maturity. "
   ]
  },
  {
   "cell_type": "markdown",
   "id": "d8a52137-c890-4d98-9339-9c0a8890fb4c",
   "metadata": {
    "jp-MarkdownHeadingCollapsed": true,
    "tags": []
   },
   "source": [
    "## Setup\n",
    "In the following code blocks, we set up the computational environment by including the `Include.jl` file. The `Include.jl` file loads external packages, functions that we will use in this exercise, and custom types to model the components of our problem."
   ]
  },
  {
   "cell_type": "markdown",
   "id": "7cc554d3-693c-4a4b-94c2-41521730dd69",
   "metadata": {},
   "source": [
    "### Packages\n",
    "`Include.jl` loads several external packages that we will use for our excercise:\n",
    "* [DataFrames.jl](https://dataframes.juliadata.org/stable/) provides a set of tools for working with tabular data in [Julia](https://julialang.org). Its design and functionality are similar to those of [Pandas (in Python)](https://pandas.pydata.org) and [data.frame, data.table and dplyr (in R)](https://dplyr.tidyverse.org), making it a great general purpose data science tool.\n",
    "* [Plots.jl](https://docs.juliaplots.org/stable/) is a plotting library in [Julia](https://julialang.org).\n",
    "* [Optim.jl](https://julianlsolvers.github.io/Optim.jl/stable/) is a [Julia](https://julialang.org) package for performing simple optimization task. We use this package in the Yield to Maturity (YTM) calculations.\n",
    "* [PrettyTables.jl](https://ronisbr.github.io/PrettyTables.jl/stable/man/html_backend/) is a [Julia](https://julialang.org) package that implements functions to construct and display text-based tables"
   ]
  },
  {
   "cell_type": "markdown",
   "id": "913fbbd4-39fc-4cc0-9212-6957b0a915ae",
   "metadata": {},
   "source": [
    "### Types\n",
    "`Include.jl` loads some [problem-specific types](https://docs.julialang.org/en/v1/manual/functions/) that will be helpful for the analysis of T-bill pricing. \n",
    "\n",
    "* `MyUSTreasuryCouponSecurityModel` is a [mutable type](https://docs.julialang.org/en/v1/manual/types/#Mutable-Composite-Types) holding the par value $V_{P}$, the duration $T$, the market rate of interest rate $\\bar{r}$, the coupoun rate $c$ and the number of coupon payments per year $\\lambda$ for treasury note and bonds that pay a coupoun. You construct a `MyUSTreasuryCouponSecurityModel` instance using the `build` method described below.\n",
    "* `DiscreteCompoundingModel` and `ContinuousCompoundingModel` are [immutable types](https://docs.julialang.org/en/v1/manual/types/#Composite-Types) that let our code know which compounding model we wish to use."
   ]
  },
  {
   "cell_type": "markdown",
   "id": "29830b2e-c58a-4c31-86aa-f3ca55710fa0",
   "metadata": {},
   "source": [
    "### Functions\n",
    "`Include.jl` loads the following [Julia functions](https://docs.julialang.org/en/v1/manual/functions/):\n",
    "\n",
    "`loaddatafile(path::String) -> DataFrame` \n",
    " > This function takes a [String](https://docs.julialang.org/en/v1/manual/strings/) path arguement that points to a local comma seprated value file that holds bond rate and pricing information. The pricing and rate information is returned to the caller in a [DataFrame](https://dataframes.juliadata.org/stable/).\n",
    " \n",
    "`build(model::Type{MyUSTreasuryCouponSecurityModel}, data::NamedTuple) -> MyUSTreasuryCouponSecurityModel` \n",
    "> This function takes information in the `data` [NamedTuple](https://docs.julialang.org/en/v1/base/base/#Core.NamedTuple) argument (the par value, etc.) and returns an instance of the `MyUSTreasuryCouponSecurityModel` [mutable type](https://docs.julialang.org/en/v1/manual/types/#Mutable-Composite-Types).\n",
    "\n",
    "`price(model::MyUSTreasuryCouponSecurityModel, compounding::T) -> MyUSTreasuryCouponSecurityModel where T <: AbstractCompoundingModel` \n",
    "> This function takes a `MyUSTreasuryCouponSecurityModel` instance, and a compounding model and returns an updated `MyUSTreasuryCouponSecurityModel` instance that holds the price $V_{B}$ in the price field.\n",
    "\n",
    "`YTM(model::MyUSTreasuryCouponSecurityModel, compounding::T; rₒ::Float64 = 0.01) where T <: AbstractCompoundingModel` \n",
    "> This function computes the Yield to Maturity (YTM) given a `MyUSTreasuryCouponSecurityModel` instance, a compounding model and an initial guess for the interest rate (default value of 1\\%)"
   ]
  },
  {
   "cell_type": "code",
   "execution_count": 1,
   "id": "fd1b9d04-824e-4b0d-bd80-41df59371f4b",
   "metadata": {},
   "outputs": [],
   "source": [
    "include(\"Include.jl\");"
   ]
  },
  {
   "cell_type": "markdown",
   "id": "274b25a7-9ff9-46d0-85fc-3adc4d68eb25",
   "metadata": {
    "tags": []
   },
   "source": [
    "## Objective 1: Validate the Coupon Bond Pricing Implementation\n",
    "We have conducted three examples of coupon note (bond) pricing to verify our treasury note (bond) implementation and gain a better understanding of how note (bond) market factors influence prices:\n",
    "\n",
    "- Example 1: We have calculated the price of a 5-year treasury note with semi-annual coupon payments using continuous compounding.\n",
    "- Example 2: We have also computed the price of a 2-year treasury note with annual coupon payments using discrete compounding.\n",
    "- Example 3: Lastly, we have compared the 30-year treasury bond prices we calculated with historical data from auctions held between 1977 and 1979, assuming discrete compounding.\n",
    "\n",
    "To calculate the price of a note or a bond, we create an instance of the `MyUSTreasuryCouponSecurityModel` type using the `build(...)` function and then pass this instance to the `price` function. The function will then update the model with a calculated price, populating the `price` field of the `MyUSTreasuryCouponSecurityModel` instance."
   ]
  },
  {
   "cell_type": "markdown",
   "id": "bab22a43-4a11-49a2-ab14-04f6976e55f9",
   "metadata": {
    "jp-MarkdownHeadingCollapsed": true,
    "tags": []
   },
   "source": [
    "### Example 1: Compute the price of a 5-year treasury note with semi-annual coupon payments\n",
    "Compute the price of a 5-year treasury note with semi-annual coupons with a coupon rate of 6% and a market rate of interest $\\bar{r}$ of 6.76%. The face value of the note is 100 USD. We expect a price of the T-Note to be 98.39 USD. This example was reproduced from Chapter 4 of [Hull, Options, Futures and other Derivatives, 7th ed, Pearson Education, 2009](). This example uses continuous compounding."
   ]
  },
  {
   "cell_type": "markdown",
   "id": "39141acc-6943-4c8f-8041-2bf3c98143bb",
   "metadata": {},
   "source": [
    "Let's set the values for the 5-year treasury note (par value $V_{P}$, duration in years $T$, market rate of interest $\\bar{r}$, coupon rate $c$ and the number of coupon payments per year $\\lambda$), the known price (`98.39` USD), the compounding model (an instance of the `ContinuousCompoundingModel` type which we store in the `continuous_compounding` variable):"
   ]
  },
  {
   "cell_type": "code",
   "execution_count": 2,
   "id": "663d3857-217c-4f16-8d1d-f029255b6a07",
   "metadata": {},
   "outputs": [],
   "source": [
    "Vₚ,T,r̄,c,λ = 100.0,2.0,0.0676,0.06,2\n",
    "expected_answer = 98.39;\n",
    "continuous_compounding = ContinuousCompoundingModel();"
   ]
  },
  {
   "cell_type": "markdown",
   "id": "61468b53-a589-4de1-a81e-2b6c18c6ff41",
   "metadata": {},
   "source": [
    "We can then make use of the [Julia piping operator](https://docs.julialang.org/en/v1/manual/functions/#Function-composition-and-piping) `|>` and some other syntactic sugar to build the treasury note (bond) model instance (an instance of the `MyUSTreasuryCouponSecurityModel` type stored in the `model` variable) , and compute the price in a single block of code, with either continuous or discrete compounding:"
   ]
  },
  {
   "cell_type": "code",
   "execution_count": 3,
   "id": "d87ff1d7-bddc-4383-838b-bd275675bf33",
   "metadata": {},
   "outputs": [],
   "source": [
    "model = build(MyUSTreasuryCouponSecurityModel, (\n",
    "            par = Vₚ, T = T, rate = r̄, coupon = c, λ = λ\n",
    "        )) |> continuous_compounding;"
   ]
  },
  {
   "cell_type": "markdown",
   "id": "d73b111c-a5fb-47f7-8a2f-fb7a992c2a09",
   "metadata": {},
   "source": [
    "To display the result, we use the [PrettyTables.jl](https://github.com/ronisbr/PrettyTables.jl) package. In particular, we store the expected the computed prices in the `example_1_data_array`, along with the percentage difference between these values. The data is displayed as a table using a call to the `pretty_table(...)` function: "
   ]
  },
  {
   "cell_type": "code",
   "execution_count": 4,
   "id": "02f7c018-31b2-486d-be66-e474adf4d6f7",
   "metadata": {},
   "outputs": [
    {
     "data": {
      "text/html": [
       "<table>\n",
       "  <thead>\n",
       "    <tr class = \"header headerLastRow\">\n",
       "      <th style = \"text-align: right;\"></th>\n",
       "      <th style = \"text-align: right;\">Value</th>\n",
       "    </tr>\n",
       "  </thead>\n",
       "  <tbody>\n",
       "    <tr>\n",
       "      <td style = \"text-align: right;\">Reported (USD)</td>\n",
       "      <td style = \"text-align: right;\">98.39</td>\n",
       "    </tr>\n",
       "    <tr>\n",
       "      <td style = \"text-align: right;\">Calculated (USD)</td>\n",
       "      <td style = \"text-align: right;\">98.39</td>\n",
       "    </tr>\n",
       "    <tr>\n",
       "      <td style = \"text-align: right;\">Error (%)</td>\n",
       "      <td style = \"text-align: right;\">0.000351637</td>\n",
       "    </tr>\n",
       "  </tbody>\n",
       "</table>\n"
      ]
     },
     "metadata": {},
     "output_type": "display_data"
    }
   ],
   "source": [
    "example_1_data_array = Array{Any,2}(undef, 3,2);\n",
    "example_1_header_data = ([\"\",\"Value\"]);\n",
    "example_1_data_array[1,1] = \"Reported (USD)\"\n",
    "example_1_data_array[1,2] = expected_answer\n",
    "example_1_data_array[2,1] = \"Calculated (USD)\"\n",
    "example_1_data_array[2,2] = round(model.price, sigdigits=4)\n",
    "example_1_data_array[3,1] = \"Error (%)\"\n",
    "example_1_data_array[3,2] = ((expected_answer - model.price)/(expected_answer))*100\n",
    "\n",
    "pretty_table(example_1_data_array, header=example_1_header_data, tf = tf_html_default);"
   ]
  },
  {
   "cell_type": "markdown",
   "id": "85af49f0-3610-419b-91da-14f99fa82e9e",
   "metadata": {
    "tags": []
   },
   "source": [
    "### Example 2: Compute the price of a 2-year treasury note with annual coupon payments\n",
    "Compute the price of a 2-year treasury note with annual coupons with a coupon rate of 7% and a market rate of interest of 8%, assuming discrete compounding. The face value of the note is $V_{P}=$100 USD. This example was reproduced from [FINA 635 course, Department of Finance at the C.T. Bauer College of Business, University of Houston.](https://www.bauer.uh.edu/nlangberg/teaching_files/Fall2010/class%205_2008sum.pdf) The expected is $V_{B}$ = 98.22 USD. Example 2 is similar to the previous example, except the T-Note has a single coupon payment per year ($\\lambda = 1$), and we use discrete compounding:"
   ]
  },
  {
   "cell_type": "code",
   "execution_count": 5,
   "id": "e349c860-9002-47ae-91b8-b077d56f5239",
   "metadata": {},
   "outputs": [],
   "source": [
    "Vₚ,T,r̄,c,λ = 100.0,2.0,0.08,0.07,1\n",
    "discrete_compounding = DiscreteCompoundingModel();\n",
    "expected_answer = 98.22;"
   ]
  },
  {
   "cell_type": "markdown",
   "id": "f465c763-e560-4cf2-98ac-893c4c6cb2a8",
   "metadata": {},
   "source": [
    "We use the [Julia piping operator](https://docs.julialang.org/en/v1/manual/functions/#Function-composition-and-piping) `|>` to build the treasury note (bond) model instance (an instance of the `MyUSTreasuryCouponSecurityModel` type stored in the `model` variable) , and compute the price in a single block of code, with either continuous or discrete compounding:"
   ]
  },
  {
   "cell_type": "code",
   "execution_count": 6,
   "id": "04af37c6-7210-45e1-9fa5-adbe3b353c98",
   "metadata": {},
   "outputs": [],
   "source": [
    "model = build(MyUSTreasuryCouponSecurityModel, (\n",
    "            par = Vₚ, T = T, rate = r̄, coupon = c, λ = λ\n",
    "        )) |> discrete_compounding;"
   ]
  },
  {
   "cell_type": "markdown",
   "id": "7e61e984-617d-448c-afdc-3c983565e464",
   "metadata": {},
   "source": [
    "To display the result, we use the [PrettyTables.jl](https://github.com/ronisbr/PrettyTables.jl) package. In particular, we store the expected the computed prices in the `example_2_data_array`, along with the percentage difference between these values. The data is displayed as a table using a call to the `pretty_table(...)` function: "
   ]
  },
  {
   "cell_type": "code",
   "execution_count": 7,
   "id": "2a47b2ff-d217-4593-bddd-c33c6d5e69d9",
   "metadata": {},
   "outputs": [
    {
     "data": {
      "text/html": [
       "<table>\n",
       "  <thead>\n",
       "    <tr class = \"header headerLastRow\">\n",
       "      <th style = \"text-align: right;\"></th>\n",
       "      <th style = \"text-align: right;\">Value</th>\n",
       "    </tr>\n",
       "  </thead>\n",
       "  <tbody>\n",
       "    <tr>\n",
       "      <td style = \"text-align: right;\">Reported (USD)</td>\n",
       "      <td style = \"text-align: right;\">98.22</td>\n",
       "    </tr>\n",
       "    <tr>\n",
       "      <td style = \"text-align: right;\">Calculated (USD)</td>\n",
       "      <td style = \"text-align: right;\">98.22</td>\n",
       "    </tr>\n",
       "    <tr>\n",
       "      <td style = \"text-align: right;\">Error (%)</td>\n",
       "      <td style = \"text-align: right;\">0.00332391</td>\n",
       "    </tr>\n",
       "  </tbody>\n",
       "</table>\n"
      ]
     },
     "metadata": {},
     "output_type": "display_data"
    }
   ],
   "source": [
    "example_2_data_array = Array{Any,2}(undef, 3,2);\n",
    "example_2_header_data = ([\"\",\"Value\"]);\n",
    "example_2_data_array[1,1] = \"Reported (USD)\"\n",
    "example_2_data_array[1,2] = \"98.22\"\n",
    "example_2_data_array[2,1] = \"Calculated (USD)\"\n",
    "example_2_data_array[2,2] = round(model.price, sigdigits=4)\n",
    "example_2_data_array[3,1] = \"Error (%)\"\n",
    "example_2_data_array[3,2] = ((expected_answer - model.price)/(expected_answer))*100\n",
    "\n",
    "pretty_table(example_2_data_array, header=example_2_header_data, tf = tf_html_default);"
   ]
  },
  {
   "cell_type": "markdown",
   "id": "a09973ab-bd6b-488f-97fb-48d3ce91995e",
   "metadata": {
    "tags": []
   },
   "source": [
    "### Example 3: Comparison of calculated 30-year treasury bond prices with historical data\n",
    "Lastly, we compare the 30-year treasury bond prices we calculated with historical data from auctions held between 1977 and 1979, assuming discrete compounding. The data for this example was reproduced from the [Treasury Notes & Bonds Historical Information page on Treasury.gov](https://treasurydirect.gov/auctions/announcements-data-results/announcement-results-press-releases/previous-announcements-and-results/treasury-notes-bonds-historical-information/). The data consists of 30-year treasury bond information (coupon rate, market interest rate, and price) for bonds issued between 1977 and 1979.\n",
    "\n",
    "#### Strategy\n",
    "1. First, let's load the historical data set using the `loaddatafile` function, which returns the bond data in as a [DataFrame](https://dataframes.juliadata.org/stable/) with the key fields:\n",
    "    * The `:CouponRate` field holds the data for the coupon interest rate (annualized rate as a percentage)\n",
    "    * The `:AverageYield` field holds the market rate of interest for the treasury bond (annualized rate as a percentage)\n",
    "    * The `:AveragePrice` field holds the price data for the 30-year treasury bond\n",
    "1. Next, we'll compute the treasury bond price for each bond in the data set by iterating through the data set using a `for` loop using the shortcut syntax shown above in the examples\n",
    "1. Last, we'll store the actual and computed prices in a table and calculate the percentage error of the estimate."
   ]
  },
  {
   "cell_type": "markdown",
   "id": "a118d423-8473-4ebf-b1c8-4fdfaefcfdcf",
   "metadata": {},
   "source": [
    "#### Load the historical data set\n",
    "The data is stored in a local comma-separated value file named `Data-30-yr-USTreasury-1977-1979.csv`. We create the path to the data file and store this value in the `path_to_data_file` variable. We then pass the path to the `loaddatafile(...)` function. The bond data is stored as a [DataFrame](https://dataframes.juliadata.org/stable/) in the `dataset` variable:"
   ]
  },
  {
   "cell_type": "code",
   "execution_count": 8,
   "id": "a656f9d8-c4df-4843-a6bd-85369318dfbc",
   "metadata": {},
   "outputs": [],
   "source": [
    "path_to_data_file = joinpath(_PATH_TO_DATA, \"Data-30-yr-USTreasury-1977-1979.csv\");\n",
    "dataset = loaddatafile(path_to_data_file);"
   ]
  },
  {
   "cell_type": "markdown",
   "id": "5f5f8211-1e7b-4262-9b3b-ceec3a1cb9bb",
   "metadata": {},
   "source": [
    "#### Process each record (row) in the historical data set using a `for` loop\n",
    "We first set the invariant parameters, e.g., the maturity $T$ in years, the number of coupon payments per year $\\lambda$, and the face value of the bond $V_{P}$. We then determine how many records we have in the `dataset` using the `nrow(..)` function. Finally, we create the `bonds` array, which holds instances of `MyUSTreasuryCouponSecurityModel` for each bond in the data set, and process each record in a `for` loop:"
   ]
  },
  {
   "cell_type": "code",
   "execution_count": 9,
   "id": "ef8ab2b0-f27b-4716-8c8e-e40e316d8a72",
   "metadata": {},
   "outputs": [],
   "source": [
    "T,λ,Vₚ = 30.0, 2, 100.0\n",
    "number_of_records = nrow(dataset);\n",
    "bonds = Array{MyUSTreasuryCouponSecurityModel,1}(undef,number_of_records);\n",
    "\n",
    "for i ∈ 1:number_of_records\n",
    "    \n",
    "    # get the data from the data frame for this record (data is in percentage, convert to decimal)\n",
    "    c = dataset[i,:CouponRate]*(1/100);\n",
    "    r̄ = dataset[i,:AverageYield]*(1/100);\n",
    "    \n",
    "    # build the model, and compute the price using the short-cut syntax\n",
    "    model = build(MyUSTreasuryCouponSecurityModel, (\n",
    "            par = Vₚ, T = T, rate = r̄, coupon = c, λ = λ\n",
    "        )) |> discrete_compounding;\n",
    "    \n",
    "    # store the updated model\n",
    "    bonds[i] = model;\n",
    "end"
   ]
  },
  {
   "cell_type": "markdown",
   "id": "9af796da-7b96-4b90-8d2d-eba4113efada",
   "metadata": {},
   "source": [
    "#### Build a comparison table of actual versus computed 30-yr bond prices\n",
    "To display the calculated versus historical bond prices, we use the [PrettyTables.jl](https://github.com/ronisbr/PrettyTables.jl) package. In particular, we store the historical $V_{B}$ the calculated $\\hat{V}_{B}$ prices, along with the other bond parameters and percentage difference between the calculated and historical values $\\epsilon$ in the `example_3_data_array`. The array is displayed as a table using a call to the `pretty_table(...)` function: "
   ]
  },
  {
   "cell_type": "code",
   "execution_count": 10,
   "id": "4e55854a-03b6-4c60-8d07-c6316e2b253b",
   "metadata": {},
   "outputs": [
    {
     "data": {
      "text/html": [
       "<table>\n",
       "  <thead>\n",
       "    <tr class = \"header\">\n",
       "      <th style = \"text-align: right;\">Date</th>\n",
       "      <th style = \"text-align: right;\">Duration</th>\n",
       "      <th style = \"text-align: right;\">Coupon</th>\n",
       "      <th style = \"text-align: right;\">Yield</th>\n",
       "      <th style = \"text-align: right;\">Vᵦ (actual)</th>\n",
       "      <th style = \"text-align: right;\">Vᵦ (computed)</th>\n",
       "      <th style = \"text-align: right;\">Error ϵ</th>\n",
       "    </tr>\n",
       "    <tr class = \"subheader headerLastRow\">\n",
       "      <th style = \"text-align: right;\">MM/DD/YY</th>\n",
       "      <th style = \"text-align: right;\">YR</th>\n",
       "      <th style = \"text-align: right;\">%</th>\n",
       "      <th style = \"text-align: right;\">%</th>\n",
       "      <th style = \"text-align: right;\">USD</th>\n",
       "      <th style = \"text-align: right;\">USD</th>\n",
       "      <th style = \"text-align: right;\">%</th>\n",
       "    </tr>\n",
       "  </thead>\n",
       "  <tbody>\n",
       "    <tr>\n",
       "      <td style = \"text-align: right;\">5/8/75</td>\n",
       "      <td style = \"text-align: right;\">30.0</td>\n",
       "      <td style = \"text-align: right;\">8.25</td>\n",
       "      <td style = \"text-align: right;\">8.3</td>\n",
       "      <td style = \"text-align: right;\">99.45</td>\n",
       "      <td style = \"text-align: right;\">99.4501</td>\n",
       "      <td style = \"text-align: right;\">-0.000112277</td>\n",
       "    </tr>\n",
       "    <tr>\n",
       "      <td style = \"text-align: right;\">2/4/77</td>\n",
       "      <td style = \"text-align: right;\">30.0</td>\n",
       "      <td style = \"text-align: right;\">7.625</td>\n",
       "      <td style = \"text-align: right;\">7.63</td>\n",
       "      <td style = \"text-align: right;\">99.941</td>\n",
       "      <td style = \"text-align: right;\">99.9414</td>\n",
       "      <td style = \"text-align: right;\">-0.000401125</td>\n",
       "    </tr>\n",
       "    <tr>\n",
       "      <td style = \"text-align: right;\">11/2/77</td>\n",
       "      <td style = \"text-align: right;\">30.0</td>\n",
       "      <td style = \"text-align: right;\">7.875</td>\n",
       "      <td style = \"text-align: right;\">7.94</td>\n",
       "      <td style = \"text-align: right;\">99.261</td>\n",
       "      <td style = \"text-align: right;\">99.2605</td>\n",
       "      <td style = \"text-align: right;\">0.000464192</td>\n",
       "    </tr>\n",
       "    <tr>\n",
       "      <td style = \"text-align: right;\">8/3/78</td>\n",
       "      <td style = \"text-align: right;\">30.0</td>\n",
       "      <td style = \"text-align: right;\">8.375</td>\n",
       "      <td style = \"text-align: right;\">8.43</td>\n",
       "      <td style = \"text-align: right;\">99.402</td>\n",
       "      <td style = \"text-align: right;\">99.4024</td>\n",
       "      <td style = \"text-align: right;\">-0.000362882</td>\n",
       "    </tr>\n",
       "    <tr>\n",
       "      <td style = \"text-align: right;\">11/3/78</td>\n",
       "      <td style = \"text-align: right;\">30.0</td>\n",
       "      <td style = \"text-align: right;\">8.75</td>\n",
       "      <td style = \"text-align: right;\">8.86</td>\n",
       "      <td style = \"text-align: right;\">98.851</td>\n",
       "      <td style = \"text-align: right;\">98.8506</td>\n",
       "      <td style = \"text-align: right;\">0.000400852</td>\n",
       "    </tr>\n",
       "    <tr>\n",
       "      <td style = \"text-align: right;\">5/2/79</td>\n",
       "      <td style = \"text-align: right;\">30.0</td>\n",
       "      <td style = \"text-align: right;\">9.125</td>\n",
       "      <td style = \"text-align: right;\">9.23</td>\n",
       "      <td style = \"text-align: right;\">98.938</td>\n",
       "      <td style = \"text-align: right;\">98.9383</td>\n",
       "      <td style = \"text-align: right;\">-0.000327602</td>\n",
       "    </tr>\n",
       "    <tr>\n",
       "      <td style = \"text-align: right;\">11/1/79</td>\n",
       "      <td style = \"text-align: right;\">30.0</td>\n",
       "      <td style = \"text-align: right;\">10.375</td>\n",
       "      <td style = \"text-align: right;\">10.44</td>\n",
       "      <td style = \"text-align: right;\">99.407</td>\n",
       "      <td style = \"text-align: right;\">99.4068</td>\n",
       "      <td style = \"text-align: right;\">0.00020879</td>\n",
       "    </tr>\n",
       "  </tbody>\n",
       "</table>\n"
      ]
     },
     "metadata": {},
     "output_type": "display_data"
    }
   ],
   "source": [
    "example_3_data_array = Array{Any,2}(undef, number_of_records, 7);\n",
    "example_3_header_array = (\n",
    "    [\"Date\",\"Duration\",\"Coupon\",\"Yield\", \"Vᵦ (actual)\", \"Vᵦ (computed)\", \"Error ϵ\"], # descriptions\n",
    "    [\"MM/DD/YY\",\"YR\",\"%\",\"%\",\"USD\",\"USD\",\"%\"] # units\n",
    ");\n",
    "\n",
    "for i ∈ 1:number_of_records\n",
    "        \n",
    "    # get data from data set, and model array -\n",
    "    date = dataset[i,:AuctionDate];\n",
    "    c = dataset[i,:CouponRate]\n",
    "    r = dataset[i,:AverageYield]\n",
    "    Vᵦ = dataset[i,:AveragePrice];\n",
    "    V̂ᵦ = bonds[i].price\n",
    "    \n",
    "    ϵ = ((Vᵦ - V̂ᵦ)/Vᵦ)*100.0\n",
    "    \n",
    "    # put data into the table array -\n",
    "    example_3_data_array[i,1] = date\n",
    "    example_3_data_array[i,2] = T\n",
    "    example_3_data_array[i,3] = c\n",
    "    example_3_data_array[i,4] = r\n",
    "    example_3_data_array[i,5] = Vᵦ\n",
    "    example_3_data_array[i,6] = V̂ᵦ\n",
    "    example_3_data_array[i,7] = ϵ\n",
    "end\n",
    "\n",
    "pretty_table(example_3_data_array, header=example_3_header_array, tf = tf_html_default)"
   ]
  },
  {
   "cell_type": "markdown",
   "id": "4b3d2b19-7361-4cf4-a718-07705665f96d",
   "metadata": {},
   "source": [
    "### Summary of Objective 1\n",
    "We have successfully implemented a pricing model for coupon-paying treasury securities (treasury notes and bonds) that is based on historical data and real-world examples. This gives us the confidence to accurately calculate the price of a coupon note or bond using market information such as maturity, coupon rate, and interest rates."
   ]
  },
  {
   "cell_type": "markdown",
   "id": "26fe6d8d-57c9-4df9-8123-320cc41f5311",
   "metadata": {
    "jp-MarkdownHeadingCollapsed": true,
    "tags": []
   },
   "source": [
    "## Objective 2: Calculating the Yield to Maturity (YTM) for Treasury Notes and Bonds\n",
    "\n",
    "The Yield to Maturity (YTM) of a treasury note or bond is the [internal rate of return (IRR)](https://en.wikipedia.org/wiki/Internal_rate_of_return) associated with buying and holding the security until its maturity date. Thus, initially, the YTM and the effective market interest rate are the same when the note or bond is auctioned in the primary market. However, treasury securities can be resold on the [secondary treasury market](https://www.investopedia.com/articles/bonds/08/treasuries-fed.asp#:~:text=For%20many%20people%2C%20TreasuryDirect%20is,convenience%20and%20liquidity%20than%20TreasuryDirect), even after some coupon payments have been paid out. In such cases, the YTM is not equal to the initial market interest rate at auction. Let's examine the yield to maturity of a 5-year treasury note.\n",
    "\n",
    "Assuming a discrete discounting model, let's consider a scenario where we bought a 5-year treasury note with a face value of $V_{P}$ = 100 USD at auction for $V_{B}$ = 96.82 USD. The note has an annual coupon rate of 6%, with semi-annual coupons. We then sell the T-note on the secondary market for the same price we purchased it, after holding it for $T^{\\prime}$ years and receiving some coupon payments."
   ]
  },
  {
   "cell_type": "markdown",
   "id": "f72692c5-f2bb-423c-a828-d7381762feed",
   "metadata": {},
   "source": [
    "### Compute YTM at the primary auction:\n",
    "Set the values for the 5-year treasury note (par value $V_{P}$, price $V_{B}$, duration in years $T$, coupon rate $c$ and the number of coupon payments per year $\\lambda$), and the compounding model, an instance of the `DiscreteCompoundingModel` type which we store in the `compounding` variable:"
   ]
  },
  {
   "cell_type": "code",
   "execution_count": 11,
   "id": "6b66e0bc-47ba-445c-a44d-550fd15b809e",
   "metadata": {},
   "outputs": [],
   "source": [
    "Vₚ, Vᵦ, T, c, λ = 100.0, 96.82, 5.0, 0.06, 2\n",
    "compounding = DiscreteCompoundingModel();"
   ]
  },
  {
   "cell_type": "markdown",
   "id": "f7ed7ad5-0a83-436e-b428-41bd67db2524",
   "metadata": {},
   "source": [
    "Next, build an instance of the `MyUSTreasuryCouponSecurityModel` type using the `build(...)` function (store this in the `model` variable), set the price on the `model` (which is known in this case), and then compute the yeild to maturity using the `YTM(...)` function. Finally, display the yield to maturity using the `println(...)` function:"
   ]
  },
  {
   "cell_type": "code",
   "execution_count": 23,
   "id": "8a498440-f0d3-4a59-b04a-0fd1335ae422",
   "metadata": {},
   "outputs": [
    {
     "name": "stdout",
     "output_type": "stream",
     "text": [
      "A 5-year note with 100 USD face value purchased at auction for 96.82 USD has a YTM = 6.760119063927231 percent\n"
     ]
    }
   ],
   "source": [
    "# build the Bond model, we don't know the rate, but we know the price -\n",
    "model = build(MyUSTreasuryCouponSecurityModel, (\n",
    "    par = Vₚ, T = T, λ = λ, coupon = c\n",
    "));\n",
    "model.price = Vᵦ\n",
    "\n",
    "# compute the rate -\n",
    "estimated_rate = YTM(model, compounding)\n",
    "\n",
    "# print -\n",
    "println(\"A 5-year note with 100 USD face value purchased at auction for $(Vᵦ) USD has a YTM = $(estimated_rate*100) percent\")"
   ]
  },
  {
   "cell_type": "markdown",
   "id": "15008596-4e2e-4ff9-837c-d35411ba277c",
   "metadata": {},
   "source": [
    "### Compute the YTM after holding for $T^{\\prime}$ years and resale on the secondary market\n",
    "If we hold the note for some time (at least six months), we'll receive coupon payments. Upon resale in the secondary market, these coupon payments will not be available to the new owner of the note. However, the face value of the note has stayed the same. Additionally, the time to maturity (the number of periods of the note) will be reduced. Thus, the YTM on the note (bond) will differ from the note’s initial market interest rate.\n",
    "\n",
    "Let's compute the YTM after waiting $T^{\\prime}$ years to resell the note. First, initialize an array to hold the YTM values, and set the values for the 5-year treasury note (par value $V_{P}$, price $V_{B}$, duration in years $T$, coupon rate $c$ and the number of coupon payments per year $\\lambda$), and the compounding model, an instance of the `DiscreteCompoundingModel` type which we store in the `compounding` variable. We assume we resell the note for the same price that we initially purchased it for:"
   ]
  },
  {
   "cell_type": "code",
   "execution_count": 14,
   "id": "d545c2d3-c79e-4abe-b9ed-db882d76062d",
   "metadata": {},
   "outputs": [],
   "source": [
    "Vₚ, Vᵦ, T, c, λ = 100.0, 96.82, 5.0, 0.06, 2\n",
    "YTM_value_array = Array{Float64,1}(undef,5);\n",
    "compounding = DiscreteCompoundingModel();"
   ]
  },
  {
   "cell_type": "markdown",
   "id": "d72126af-719c-4de4-9925-e71d0c71b690",
   "metadata": {},
   "source": [
    "Next, we set up a holding time array, stored in the variable $\\Delta{T}$, which contains the number of years that we hold the note. We then process each element in the $\\Delta{T}$ array. During each pass through the loop, we compute the remaining time on the note (store this value in the $\\hat{T}$ variable), set the price, and then compute the yield to maturity by calling the `YTM(...)` function:"
   ]
  },
  {
   "cell_type": "code",
   "execution_count": 15,
   "id": "a185ea1e-067a-400a-bf27-cc3b598c700b",
   "metadata": {},
   "outputs": [],
   "source": [
    "ΔT = [0.0,1.0,2.0,3.0,4.0];\n",
    "counter = 0;\n",
    "for T′ ∈ ΔT \n",
    "    \n",
    "    # update the counter -\n",
    "    counter += 1\n",
    "    \n",
    "    # how much time is left on the security?\n",
    "    T̂ = T - T′\n",
    "    \n",
    "    # build a bond model, we don't know the rate, but we know the price. \n",
    "    model = build(MyUSTreasuryCouponSecurityModel, (\n",
    "        par = Vₚ, T = T̂, λ = λ, coupon = c\n",
    "    ));\n",
    "    model.price = Vᵦ\n",
    "    \n",
    "    # We compute the yeild and store in the YTM_value_array\n",
    "    YTM_value_array[counter] = YTM(model, compounding)\n",
    "end"
   ]
  },
  {
   "cell_type": "markdown",
   "id": "9c5dffb4-9105-475e-bf34-1addb141d0dd",
   "metadata": {},
   "source": [
    "### Display the YTM values\n",
    "To display the YTM values, we use the [PrettyTables.jl](https://github.com/ronisbr/PrettyTables.jl) package. In particular, we store the $\\Delta{T}$ values, the remaining time to maturity for the note, $\\hat{T}$, the price (assumed to be constant), the initial effective market rate of interest $\\bar{r}$ at auction, and the YTM values for each $\\Delta{T}$ value in the `YTM_table_data_array` array. The array is displayed as a table by calling the `pretty_table(...)` function: "
   ]
  },
  {
   "cell_type": "code",
   "execution_count": 32,
   "id": "da1b0358-eefb-4d81-9712-9023efc2aa73",
   "metadata": {},
   "outputs": [
    {
     "data": {
      "text/html": [
       "<table>\n",
       "  <thead>\n",
       "    <tr class = \"header\">\n",
       "      <th style = \"text-align: right;\">Elapsed time ΔT</th>\n",
       "      <th style = \"text-align: right;\">Remaining time T̂</th>\n",
       "      <th style = \"text-align: right;\">Price</th>\n",
       "      <th style = \"text-align: right;\">Effective r̄</th>\n",
       "      <th style = \"text-align: right;\">YTM</th>\n",
       "    </tr>\n",
       "    <tr class = \"subheader headerLastRow\">\n",
       "      <th style = \"text-align: right;\">YR</th>\n",
       "      <th style = \"text-align: right;\">YR</th>\n",
       "      <th style = \"text-align: right;\">USD</th>\n",
       "      <th style = \"text-align: right;\">%</th>\n",
       "      <th style = \"text-align: right;\">%</th>\n",
       "    </tr>\n",
       "  </thead>\n",
       "  <tbody>\n",
       "    <tr>\n",
       "      <td style = \"text-align: right;\">0.0</td>\n",
       "      <td style = \"text-align: right;\">5.0</td>\n",
       "      <td style = \"text-align: right;\">96.82</td>\n",
       "      <td style = \"text-align: right;\">6.76012</td>\n",
       "      <td style = \"text-align: right;\">6.76012</td>\n",
       "    </tr>\n",
       "    <tr>\n",
       "      <td style = \"text-align: right;\">1.0</td>\n",
       "      <td style = \"text-align: right;\">4.0</td>\n",
       "      <td style = \"text-align: right;\">96.82</td>\n",
       "      <td style = \"text-align: right;\">6.76012</td>\n",
       "      <td style = \"text-align: right;\">6.92376</td>\n",
       "    </tr>\n",
       "    <tr>\n",
       "      <td style = \"text-align: right;\">2.0</td>\n",
       "      <td style = \"text-align: right;\">3.0</td>\n",
       "      <td style = \"text-align: right;\">96.82</td>\n",
       "      <td style = \"text-align: right;\">6.76012</td>\n",
       "      <td style = \"text-align: right;\">7.19744</td>\n",
       "    </tr>\n",
       "    <tr>\n",
       "      <td style = \"text-align: right;\">3.0</td>\n",
       "      <td style = \"text-align: right;\">2.0</td>\n",
       "      <td style = \"text-align: right;\">96.82</td>\n",
       "      <td style = \"text-align: right;\">6.76012</td>\n",
       "      <td style = \"text-align: right;\">7.74689</td>\n",
       "    </tr>\n",
       "    <tr>\n",
       "      <td style = \"text-align: right;\">4.0</td>\n",
       "      <td style = \"text-align: right;\">1.0</td>\n",
       "      <td style = \"text-align: right;\">96.82</td>\n",
       "      <td style = \"text-align: right;\">6.76012</td>\n",
       "      <td style = \"text-align: right;\">9.40605</td>\n",
       "    </tr>\n",
       "  </tbody>\n",
       "</table>\n"
      ]
     },
     "metadata": {},
     "output_type": "display_data"
    }
   ],
   "source": [
    "YTM_table_data_array = Array{Any,2}(undef, counter, 5)\n",
    "YTM_table_header_array = ([\"Elapsed time ΔT\",\"Remaining time T̂\",\"Price\",\"Effective r̄\", \"YTM\"], [\"YR\",\"YR\",\"USD\",\"%\", \"%\"]);\n",
    "\n",
    "rowindex = 0;\n",
    "for T′ ∈ ΔT \n",
    "    \n",
    "    # update the counter -\n",
    "    rowindex += 1\n",
    "    \n",
    "    # how much time is left on the security?\n",
    "    T̂ = T - T′\n",
    "\n",
    "    # populate the table data array -\n",
    "    YTM_table_data_array[rowindex,1] = T′\n",
    "    YTM_table_data_array[rowindex,2] = T - T′\n",
    "    YTM_table_data_array[rowindex,3] = Vᵦ;\n",
    "    YTM_table_data_array[rowindex,4] = estimated_rate*100\n",
    "    YTM_table_data_array[rowindex,5] = YTM_value_array[rowindex]*100\n",
    "end\n",
    "\n",
    "pretty_table(YTM_table_data_array, header = YTM_table_header_array, tf = tf_html_default)"
   ]
  },
  {
   "cell_type": "markdown",
   "id": "2cde0f18-afbf-4dd5-8b8e-a403f98e02fd",
   "metadata": {},
   "source": [
    "### Summary of Objective 2\n",
    "The example demonstrated that when the time to maturity decreases while the price remains fixed, the yield to maturity for a treasury note increases. This is logical since the note always pays its face (par) value at maturity. Therefore, if the new owner acquires the note at the same price as the initial buyer, they will receive the face value (as well as the remaining coupon payments) over a shorter period."
   ]
  }
 ],
 "metadata": {
  "kernelspec": {
   "display_name": "Julia 1.9.0",
   "language": "julia",
   "name": "julia-1.9"
  },
  "language_info": {
   "file_extension": ".jl",
   "mimetype": "application/julia",
   "name": "julia",
   "version": "1.9.1"
  }
 },
 "nbformat": 4,
 "nbformat_minor": 5
}
