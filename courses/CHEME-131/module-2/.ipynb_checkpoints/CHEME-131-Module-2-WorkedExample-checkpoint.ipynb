{
 "cells": [
  {
   "cell_type": "markdown",
   "id": "c01d085c-19ea-4ed0-b4a3-48084d962514",
   "metadata": {},
   "source": [
    "# Pricing and Yields of United States Treasury Notes and Bounds"
   ]
  },
  {
   "cell_type": "markdown",
   "id": "f65683a1-3094-40cd-89df-effbd8a20f86",
   "metadata": {},
   "source": [
    "## Background\n",
    "Treasury notes, also known as T-notes, are financial instruments that offer a fixed interest rate every six months until they mature. These instruments are available for 2, 3, 5, 7, and 10 years and can be priced above or below their face (par) value. Upon maturity, lenders are entitled to the full par value of the note. T-notes are considered coupon debt instruments, meaning lenders receive regular interest payments based on a coupon rate throughout the note’s lifespan. \n",
    "\n",
    "Treasury bonds, like T-notes, are debt instruments that pay a fixed interest rate every six months. Unlike T-notes, however, Treasury bonds are long-term U.S. Treasury debt instruments with terms of 20 or 30 years. Once a bond reaches maturity, the bondholder receives its face value.  Notes and bonds can be held until maturity or sold before that time.\n",
    "\n",
    "### Pricing\n",
    "Let the term of a bond (or note) be T-years with  $\\lambda$ coupon payments per year; $N = \\lambda{T}$ coupon payments over the bond term. Further, let $\\bar{c}$ denote the annualized coupon rate, and $\\bar{r}$ denote the annual effective market rate of interest. Then, the _fair price_ for the bond (or note) $V_{B}$ is the present value of coupon payments $C$ plus the discounted face (par) value $V_{P}$ of the bond:\n",
    "\n",
    "$$\n",
    "V_{B} = \\mathcal{D}^{-1}_{N}V_{P}+\\sum_{j=1}^{N}\\mathcal{D}_{j}^{-1}C\n",
    "$$\n",
    "\n",
    "where $\\mathcal{D}_{i}$ denotes the discount factor for time period $0\\rightarrow{i}$ which can be either a discrete or continuous compouning model. \n",
    "The coupon payment $C=\\left(\\bar{c}/\\lambda\\right)\\cdot{V_{P}}$ is set when the bond is purchased, and the interest rate $i=\\bar{r}/\\lambda$ varies with the market (set at auction). The contract between the U.S. government, the issuer, and the bondholder (you) includes the bond’s coupon rate, maturity date, and face (par) value."
   ]
  },
  {
   "cell_type": "markdown",
   "id": "352555e2-6031-4516-ade0-d64fc9c9ce11",
   "metadata": {},
   "source": [
    "## Learning objectives\n",
    "1. Validate the prices calculated using our implementation of the pricing formula using historical data for bonds and notes of different durations. \n",
    "1. Using our validated bond/note code, compute the [Yield to Maturity (YTM)](https://en.wikipedia.org/wiki/Yield_to_maturity) for bonds or notes of different durations. Show how the bond (or note) parameters influence the yield to maturity. "
   ]
  },
  {
   "cell_type": "markdown",
   "id": "d8a52137-c890-4d98-9339-9c0a8890fb4c",
   "metadata": {},
   "source": [
    "## Setup\n",
    "In the following code blocks, we set up the computational environment by including the `Include.jl` file. The `Include.jl` file loads external packages, functions that we will use in this exercise, and custom types to model the components of our problem."
   ]
  },
  {
   "cell_type": "code",
   "execution_count": 1,
   "id": "fd1b9d04-824e-4b0d-bd80-41df59371f4b",
   "metadata": {},
   "outputs": [],
   "source": [
    "include(\"Include.jl\");"
   ]
  },
  {
   "cell_type": "markdown",
   "id": "274b25a7-9ff9-46d0-85fc-3adc4d68eb25",
   "metadata": {
    "tags": []
   },
   "source": [
    "## Objective 1: Validate our Implementation of the Bond Pricing Formula\n",
    "Let's consider a three examples of coupon bond pricing using our implementation of the pricing formula should above. To calculate the price of the note or bond, we build an instance of the `MyUSTreasuryCouponSecurityModel` type using the `build(...)` factory method, and then pass this instance to the `price` function."
   ]
  },
  {
   "cell_type": "markdown",
   "id": "bab22a43-4a11-49a2-ab14-04f6976e55f9",
   "metadata": {
    "tags": []
   },
   "source": [
    "### Example 1: Compute the price of a 5-year treasury note with semi-annual coupon payments\n",
    "Compute the price of a 5-year treasury note with semi-annual coupons with a coupon rate of 6% and a market rate of interest (yield) of 6.76%. The face value of the note is 100 USD. We expect a price of the T-Note to be 98.39 USD. This example was reproduced from Chapter 4 of [Hull, Options, Futures and other Derivatives, 7th ed, Pearson Education, 2009]()\n",
    "\n",
    "\n",
    "<!-- | Parameter | Symbol | Type | Units | \n",
    "| --------- | ------ | ---- | ----- |\n",
    "| Face value| $V_{P}$ | `Float64` | USD |\n",
    "| Duration  | T | `Float64` | years |\n",
    "| Coupon rate | $c$ | `Float64` | percentage |\n",
    "| Yield | $r$ | `Float64` | percentage |\n",
    "| Coupons per year | $\\lambda$ | `Int64` | number |  -->\n",
    "\n",
    "\n",
    "* The parameter $V_{P}$ is a `Float64` that holds the face (par) value of the note or bond.\n",
    "* The parameter $T$ is a `Float64` that holds the number of years before majurity of the note or bond (at the time of auction)\n",
    "* The parameter $c$ is a `Float64` that holds the annualized coupon rate attached to the bond (established at the time of auction).\n",
    "* The paraneter $r$ is a `Float64` that holds the market rate of interest attached to the bond (established at the time of auction).\n",
    "* The parameter $\\lambda$ is an `Int64` that holds the number of coupon payments per year (the number of compounding periods per year).\n",
    "\n",
    "#### Typical calling syntax:\n",
    "```julia\n",
    "# Set the T-Note parameters\n",
    "Vₚ,T,r,c,λ = 100.0,5.0,0.07,0.08,2\n",
    "\n",
    "# Build the compounding model -\n",
    "continuous_compounding = ContinuousCompoundingModel();\n",
    "\n",
    "# build an instance of the MyUSTreasuryCouponSecurityModel using the build method -\n",
    "model = build(MyUSTreasuryCouponSecurityModel, (par = Vₚ, T = T, rate = r, coupon = c, λ = λ)); \n",
    "\n",
    "# compute the price of the T-Note or Bond\n",
    "model = price(model, continuous_compounding);\n",
    "```\n",
    "\n",
    "#### Shortcut calling syntax:\n",
    "We can also make use of the [piping operator](https://docs.julialang.org/en/v1/manual/functions/#Function-composition-and-piping) `|>` and some other syntatic sugar to build the model and compute the price in a single block of code, with either continuous or discrete compounding. To displaty the results, we use the [PrettyTables.jl](https://github.com/ronisbr/PrettyTables.jl) package:"
   ]
  },
  {
   "cell_type": "code",
   "execution_count": 2,
   "id": "663d3857-217c-4f16-8d1d-f029255b6a07",
   "metadata": {},
   "outputs": [
    {
     "name": "stdout",
     "output_type": "stream",
     "text": [
      "┌────────────┬─────────────┐\n",
      "│\u001b[1m            \u001b[0m│\u001b[1m Value (USD) \u001b[0m│\n",
      "├────────────┼─────────────┤\n",
      "│   Reported │       98.39 │\n",
      "│ Calculated │     98.3897 │\n",
      "└────────────┴─────────────┘\n"
     ]
    }
   ],
   "source": [
    "# Setup parameters for the example\n",
    "Vₚ,T,r,c,λ = 100.0,2.0,0.0676,0.06,2\n",
    "\n",
    "# Build the compounding model -\n",
    "continuous_compounding = ContinuousCompoundingModel();\n",
    "\n",
    "# Build the treasury security model, and compute the price assuming continuous_compounding \n",
    "model = build(MyUSTreasuryCouponSecurityModel, (\n",
    "            par = Vₚ, T = T, rate = r, coupon = c, λ = λ\n",
    "        )) |> continuous_compounding;\n",
    "\n",
    "# pretty table -\n",
    "example_1_data_array = Array{Any,2}(undef, 2,2);\n",
    "example_1_data_array[1,1] = \"Reported\"\n",
    "example_1_data_array[1,2] = \"98.39\"\n",
    "example_1_data_array[2,1] = \"Calculated\"\n",
    "example_1_data_array[2,2] = model.price\n",
    "\n",
    "example_1_header_data = ([\"\",\"Value (USD)\"]);\n",
    "pretty_table(example_1_data_array, header=example_1_header_data);"
   ]
  },
  {
   "cell_type": "markdown",
   "id": "85af49f0-3610-419b-91da-14f99fa82e9e",
   "metadata": {
    "tags": []
   },
   "source": [
    "### Example 2: Compute the price of a 2-year treasury note with annual coupon payments\n",
    "Compute the price of a 2-year treasury note with annual coupons with a coupon rate of 7% and a market rate of interest of 8%, assuming discrete compounding. The face value of the note is $V_{P}=$100 USD. This example was reproduced from [FINA 635 course, Department of Finance at the C.T. Bauer College of Business, University of Houston.](https://www.bauer.uh.edu/nlangberg/teaching_files/Fall2010/class%205_2008sum.pdf) The expected is $V_{B}$ = 98.22 USD.\n",
    "\n",
    "Example 2 is similar to the previous example, except the T-Note has a single coupon payment per year ($\\lambda = 1$), and we use discrete compounding:"
   ]
  },
  {
   "cell_type": "code",
   "execution_count": 3,
   "id": "e349c860-9002-47ae-91b8-b077d56f5239",
   "metadata": {},
   "outputs": [
    {
     "name": "stdout",
     "output_type": "stream",
     "text": [
      "┌────────────┬─────────────┐\n",
      "│\u001b[1m            \u001b[0m│\u001b[1m Value (USD) \u001b[0m│\n",
      "├────────────┼─────────────┤\n",
      "│   Reported │       98.22 │\n",
      "│ Calculated │     98.2167 │\n",
      "└────────────┴─────────────┘\n"
     ]
    }
   ],
   "source": [
    "# Setup parameters for this example\n",
    "Vₚ,T,r,c,λ = 100.0,2.0,0.08,0.07,1\n",
    "\n",
    "# compounding model -\n",
    "discrete_compounding = DiscreteCompoundingModel();\n",
    "\n",
    "# Build model, and compute the price\n",
    "model = build(MyUSTreasuryCouponSecurityModel, (\n",
    "            par = Vₚ, T = T, rate = r, coupon = c, λ = λ\n",
    "        )) |> discrete_compounding;\n",
    "\n",
    "# Make a table using the PrettyTable package -\n",
    "example_2_data_array = Array{Any,2}(undef, 2,2);\n",
    "example_2_data_array[1,1] = \"Reported\"\n",
    "example_2_data_array[1,2] = \"98.22\"\n",
    "example_2_data_array[2,1] = \"Calculated\"\n",
    "example_2_data_array[2,2] = model.price\n",
    "\n",
    "example_2_header_data = ([\"\",\"Value (USD)\"]);\n",
    "pretty_table(example_2_data_array, header=example_2_header_data);"
   ]
  },
  {
   "cell_type": "markdown",
   "id": "a09973ab-bd6b-488f-97fb-48d3ce91995e",
   "metadata": {
    "tags": []
   },
   "source": [
    "### Example 3: Comparison of calculated 30-year treasury bond prices with historical data\n",
    "The data for this example was reproduced from the [Treasury Notes & Bonds Historical Information page on Treasury.gov](https://treasurydirect.gov/auctions/announcements-data-results/announcement-results-press-releases/previous-announcements-and-results/treasury-notes-bonds-historical-information/). The data consists of 30-year treasury bond information (coupon rate, market interest rate, and price) for bonds issued between 1977 and 1979.\n",
    "\n",
    "#### Strategy\n",
    "1. First, load the historical data set using the `loaddatafile` function, which returns the data as a [DataFrame](https://dataframes.juliadata.org/stable/). Key fields in the data:\n",
    "    * The `:CouponRate` field holds the data for the coupon interest rate (annualized rate as a percentage)\n",
    "    * The `:AverageYield` field holds the market rate of interest for the treasury bond (annualized rate as a percentage)\n",
    "    * The `:AveragePrice` field holds the price data for the 30-year treasury bond\n",
    "1. Next, we compute the price of the treasury bond for each bond in the data set. We iterate through the data set, grab the parameters for each bond and calculate the price using the shortcut syntax shown above.\n",
    "1. Last, we put the actual and computed prices in a table and calculate the percentage error of the estimate."
   ]
  },
  {
   "cell_type": "markdown",
   "id": "a118d423-8473-4ebf-b1c8-4fdfaefcfdcf",
   "metadata": {},
   "source": [
    "##### Load the historical data set"
   ]
  },
  {
   "cell_type": "code",
   "execution_count": 4,
   "id": "a656f9d8-c4df-4843-a6bd-85369318dfbc",
   "metadata": {},
   "outputs": [],
   "source": [
    "# Set the path to data file, and load the data -\n",
    "path_to_data_file = joinpath(_PATH_TO_DATA, \"Data-30-yr-USTreasury-1977-1979.csv\");\n",
    "dataset = loaddatafile(path_to_data_file);"
   ]
  },
  {
   "cell_type": "markdown",
   "id": "5f5f8211-1e7b-4262-9b3b-ceec3a1cb9bb",
   "metadata": {},
   "source": [
    "##### Process each record (row) in the historical data set"
   ]
  },
  {
   "cell_type": "code",
   "execution_count": 5,
   "id": "ef8ab2b0-f27b-4716-8c8e-e40e316d8a72",
   "metadata": {},
   "outputs": [],
   "source": [
    "# Parameters that do NOT change between records -\n",
    "T = 30.0;   # maturity in years\n",
    "λ = 2;      # number of coupon payments per year\n",
    "Vₚ = 100.0; # face value USD\n",
    "\n",
    "# get the number of records in the dataset -\n",
    "number_of_records = nrow(dataset);\n",
    "\n",
    "# Initialize some storage for the models, and process each data record -\n",
    "bonds = Array{MyUSTreasuryCouponSecurityModel,1}(undef,number_of_records);\n",
    "for i ∈ 1:number_of_records\n",
    "    \n",
    "    # get the data from the data frame for this record (data is in percentage)\n",
    "    c = dataset[i,:CouponRate]*(1/100);\n",
    "    r = dataset[i,:AverageYield]*(1/100);\n",
    "    \n",
    "    # build the model, and compute the price\n",
    "    model = build(MyUSTreasuryCouponSecurityModel, (\n",
    "            par = Vₚ, T = T, rate = r, coupon = c, λ = λ\n",
    "        )) |> discrete_compounding;\n",
    "    \n",
    "    # store the model -\n",
    "    bonds[i] = model;\n",
    "end"
   ]
  },
  {
   "cell_type": "markdown",
   "id": "9af796da-7b96-4b90-8d2d-eba4113efada",
   "metadata": {},
   "source": [
    "##### Build a comparison table of actual versus computed 30-yr bond price"
   ]
  },
  {
   "cell_type": "code",
   "execution_count": 6,
   "id": "4e55854a-03b6-4c60-8d07-c6316e2b253b",
   "metadata": {},
   "outputs": [
    {
     "name": "stdout",
     "output_type": "stream",
     "text": [
      "┌──────────┬──────────┬────────┬───────┬──────────────┬────────────────┬──────────────┐\n",
      "│\u001b[1m     Date \u001b[0m│\u001b[1m Duration \u001b[0m│\u001b[1m Coupon \u001b[0m│\u001b[1m Yield \u001b[0m│\u001b[1m Price Actual \u001b[0m│\u001b[1m Price Computed \u001b[0m│\u001b[1m        Error \u001b[0m│\n",
      "│\u001b[90m MM/DD/YY \u001b[0m│\u001b[90m       Yr \u001b[0m│\u001b[90m      % \u001b[0m│\u001b[90m     % \u001b[0m│\u001b[90m          USD \u001b[0m│\u001b[90m            USD \u001b[0m│\u001b[90m            % \u001b[0m│\n",
      "├──────────┼──────────┼────────┼───────┼──────────────┼────────────────┼──────────────┤\n",
      "│   5/8/75 │     30.0 │   8.25 │   8.3 │        99.45 │        99.4501 │ -0.000112277 │\n",
      "│   2/4/77 │     30.0 │  7.625 │  7.63 │       99.941 │        99.9414 │ -0.000401125 │\n",
      "│  11/2/77 │     30.0 │  7.875 │  7.94 │       99.261 │        99.2605 │  0.000464192 │\n",
      "│   8/3/78 │     30.0 │  8.375 │  8.43 │       99.402 │        99.4024 │ -0.000362882 │\n",
      "│  11/3/78 │     30.0 │   8.75 │  8.86 │       98.851 │        98.8506 │  0.000400852 │\n",
      "│   5/2/79 │     30.0 │  9.125 │  9.23 │       98.938 │        98.9383 │ -0.000327602 │\n",
      "│  11/1/79 │     30.0 │ 10.375 │ 10.44 │       99.407 │        99.4068 │   0.00020879 │\n",
      "└──────────┴──────────┴────────┴───────┴──────────────┴────────────────┴──────────────┘\n"
     ]
    }
   ],
   "source": [
    "# initialize -\n",
    "example_3_data_array = Array{Any,2}(undef, number_of_records, 7);\n",
    "example_3_header_array = (\n",
    "    [\"Date\",\"Duration\",\"Coupon\",\"Yield\", \"Price Actual\", \"Price Computed\", \"Error\"], # descriptions\n",
    "    [\"MM/DD/YY\",\"Yr\",\"%\",\"%\",\"USD\",\"USD\",\"%\"] # units\n",
    ");\n",
    "\n",
    "# populate the table -\n",
    "for i ∈ 1:number_of_records\n",
    "        \n",
    "    # get data from data set, and model array -\n",
    "    date = dataset[i,:AuctionDate];\n",
    "    c = dataset[i,:CouponRate]\n",
    "    r = dataset[i,:AverageYield]\n",
    "    p = dataset[i,:AveragePrice];\n",
    "    p̂ = bonds[i].price\n",
    "    \n",
    "    # compute % error between average price and computed price \n",
    "    ϵ = ((p - p̂)/p)*100.0\n",
    "    \n",
    "    # put data into the table array -\n",
    "    example_3_data_array[i,1] = date\n",
    "    example_3_data_array[i,2] = T\n",
    "    example_3_data_array[i,3] = c\n",
    "    example_3_data_array[i,4] = r\n",
    "    example_3_data_array[i,5] = p\n",
    "    example_3_data_array[i,6] = p̂\n",
    "    example_3_data_array[i,7] = ϵ\n",
    "end\n",
    "\n",
    "# display the table -\n",
    "pretty_table(example_3_data_array, header=example_3_header_array)"
   ]
  },
  {
   "cell_type": "markdown",
   "id": "26fe6d8d-57c9-4df9-8123-320cc41f5311",
   "metadata": {},
   "source": [
    "## Objective 2: Computing the Yield to Maturity (YTM) for treasury notes and bonds\n",
    "The Yield to Maturity (YTM) of a treasury note or bond is the internal rate of return (IRR) associated with buying and holding the security until its maturity date. The YTM and the effective market interest rate are equal when the note or bond is initially auctioned (primary market). However, notes and bonds can be resold on the [secondary treasury market](https://www.investopedia.com/articles/bonds/08/treasuries-fed.asp#:~:text=For%20many%20people%2C%20TreasuryDirect%20is,convenience%20and%20liquidity%20than%20TreasuryDirect), potentially _after_ some of the coupon payments have been paid out. In these cases, the yield to maturity is _not equal_ to the initial market rate of interest at auction.\n",
    "\n",
    "### Scenario\n",
    "Assume a discrete discounting model. To better understand the YTM, let’s consider a scenario where we purchased a 5-year treasury note with a face value of $V_{P}$ = 100 USD at auction for $V_{B}$ = 96.82 USD. The note has an annual coupon rate of 6%, with semi-annual coupons. We then resold the T-note on the secondary market after holding it for two years (and collecting some coupon payments). "
   ]
  },
  {
   "cell_type": "markdown",
   "id": "f72692c5-f2bb-423c-a828-d7381762feed",
   "metadata": {},
   "source": [
    "#### YTM at the primary auction"
   ]
  },
  {
   "cell_type": "code",
   "execution_count": 24,
   "id": "6b66e0bc-47ba-445c-a44d-550fd15b809e",
   "metadata": {},
   "outputs": [
    {
     "name": "stdout",
     "output_type": "stream",
     "text": [
      "A 5-year note with 100 USD face value purchased at auction for 96.82 USD has a YTM = 0.06760119063927231\n"
     ]
    }
   ],
   "source": [
    "# setup constants -\n",
    "Vₚ = 100.0\n",
    "T = 5.0 # we have the full duration of the T-note when purchasing at auction \n",
    "λ = 2\n",
    "c = 0.06\n",
    "\n",
    "# this is the initial price we paid at auction for the T-note\n",
    "Vᵦ = 96.82; \n",
    "\n",
    "# use a discrete compounding model\n",
    "compounding = DiscreteCompoundingModel();\n",
    "\n",
    "# build the Bond model, we don't know the rate, but we know the price -\n",
    "model = build(MyUSTreasuryCouponSecurityModel, (\n",
    "    par = Vₚ, T = T, λ = λ, coupon = c\n",
    "));\n",
    "model.price = Vᵦ\n",
    "\n",
    "# compute the rate -\n",
    "estimated_rate = YTM(model, compounding)\n",
    "\n",
    "# print -\n",
    "println(\"A 5-year note with 100 USD face value purchased at auction for $(Vᵦ) USD has a YTM = $(estimated_rate)\")"
   ]
  },
  {
   "cell_type": "markdown",
   "id": "15008596-4e2e-4ff9-837c-d35411ba277c",
   "metadata": {},
   "source": [
    "#### YTM after resale on seconary market"
   ]
  },
  {
   "cell_type": "code",
   "execution_count": 26,
   "id": "d545c2d3-c79e-4abe-b9ed-db882d76062d",
   "metadata": {},
   "outputs": [
    {
     "name": "stdout",
     "output_type": "stream",
     "text": [
      "A 5-year note with 100 USD face value with T = 3 years left, repurchased for 96.82, USD has a YTM = 0.07197443139615643\n"
     ]
    }
   ],
   "source": [
    "# setup constants -\n",
    "Vₚ = 100.0\n",
    "T = 3.0 # Now, we have onle three years left on the note \n",
    "λ = 2\n",
    "c = 0.06\n",
    "\n",
    "# this is the initial price we paid at auction for the T-note\n",
    "Vᵦ = 96.82;\n",
    "\n",
    "# use a discrete compounding model\n",
    "compounding = DiscreteCompoundingModel();\n",
    "\n",
    "# build the Bond model, we don't know the rate, but we know the price -\n",
    "model = build(MyUSTreasuryCouponSecurityModel, (\n",
    "    par = Vₚ, T = T, λ = λ, coupon = c\n",
    "));\n",
    "model.price = Vᵦ\n",
    "\n",
    "# compute the rate -\n",
    "estimated_rate = YTM(model, compounding)\n",
    "\n",
    "# print -\n",
    "println(\"A 5-year note with 100 USD face value with T = 3 years left, repurchased for $(Vᵦ), USD has a YTM = $(estimated_rate)\")"
   ]
  },
  {
   "cell_type": "code",
   "execution_count": null,
   "id": "7d8fedcc-60c9-48ac-af8a-7dd8c935b293",
   "metadata": {},
   "outputs": [],
   "source": []
  }
 ],
 "metadata": {
  "kernelspec": {
   "display_name": "Julia 1.9.0",
   "language": "julia",
   "name": "julia-1.9"
  },
  "language_info": {
   "file_extension": ".jl",
   "mimetype": "application/julia",
   "name": "julia",
   "version": "1.9.0"
  }
 },
 "nbformat": 4,
 "nbformat_minor": 5
}
