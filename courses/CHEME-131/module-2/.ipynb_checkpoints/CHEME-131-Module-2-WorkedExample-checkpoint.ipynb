{
 "cells": [
  {
   "cell_type": "markdown",
   "id": "c01d085c-19ea-4ed0-b4a3-48084d962514",
   "metadata": {},
   "source": [
    "# Pricing and Yields of United States Treasury Notes and Bounds"
   ]
  },
  {
   "cell_type": "markdown",
   "id": "f65683a1-3094-40cd-89df-effbd8a20f86",
   "metadata": {},
   "source": [
    "## Background\n",
    "Treasury notes, also known as T-notes, are financial instruments that offer a fixed interest rate every six months until they mature. These instruments are available for 2, 3, 5, 7, and 10 years and can be priced above or below their face (par) value. Upon maturity, lenders are entitled to the full par value of the note. T-notes are considered coupon debt instruments, meaning lenders receive regular interest payments based on a coupon rate throughout the note’s lifespan. \n",
    "\n",
    "Treasury bonds, like T-notes, are debt instruments that pay a fixed interest rate every six months. Unlike T-notes, however, Treasury bonds are long-term U.S. Treasury debt instruments with terms of 20 or 30 years. Once a bond reaches maturity, the bondholder receives its face value.  Notes and bonds can be held until maturity or sold before that time.\n",
    "\n",
    "### Pricing\n",
    "Let the term of a bond (or note) be T-years with  $\\lambda$ coupon payments per year; $N = \\lambda{T}$ coupon payments over the bond term. Further, let $\\bar{c}$ denote the annualized coupon rate, and $\\bar{r}$ denote the annual effective market rate of interest. Then, the _fair price_ for the bond (or note) $V_{B}$ is the present value of coupon payments $C$ plus the discounted face (par) value $V_{P}$ of the bond:\n",
    "\n",
    "$$\n",
    "V_{B} = \\mathcal{D}^{-1}_{N}V_{P}+\\sum_{j=1}^{N}\\mathcal{D}_{j}^{-1}C\n",
    "$$\n",
    "\n",
    "where $\\mathcal{D}_{i}$ denotes the discount factor for time period $0\\rightarrow{i}$ which can be either a discrete or continuous compouning model. \n",
    "The coupon payment $C=\\left(\\bar{c}/\\lambda\\right)\\cdot{V_{P}}$ is set when the bond is purchased, and the interest rate $i=\\bar{r}/\\lambda$ varies with the market (set at auction). The contract between the U.S. government, the issuer, and the bondholder (you) includes the bond’s coupon rate, maturity date, and face (par) value."
   ]
  },
  {
   "cell_type": "markdown",
   "id": "352555e2-6031-4516-ade0-d64fc9c9ce11",
   "metadata": {},
   "source": [
    "## Learning objectives\n",
    "1. Validate the prices calculated using our implementation of the pricing formula using historical data for bonds and notes of different durations. \n",
    "1. Using our validated bond/note code, compute the [Yield to Maturity (YTM)](https://en.wikipedia.org/wiki/Yield_to_maturity) for bonds or notes of different durations. Show how the bond (or note) parameters influence the yield to maturity. "
   ]
  },
  {
   "cell_type": "markdown",
   "id": "d8a52137-c890-4d98-9339-9c0a8890fb4c",
   "metadata": {
    "jp-MarkdownHeadingCollapsed": true,
    "tags": []
   },
   "source": [
    "## Setup\n",
    "In the following code blocks, we set up the computational environment by including the `Include.jl` file. The `Include.jl` file loads external packages, functions that we will use in this exercise, and custom types to model the components of our problem."
   ]
  },
  {
   "cell_type": "markdown",
   "id": "7cc554d3-693c-4a4b-94c2-41521730dd69",
   "metadata": {},
   "source": [
    "#### Packages\n",
    "`Include.jl` loads several external packages that we will use for our excercise:\n",
    "* [DataFrames.jl](https://dataframes.juliadata.org/stable/) provides a set of tools for working with tabular data in [Julia](https://julialang.org). Its design and functionality are similar to those of [Pandas (in Python)](https://pandas.pydata.org) and [data.frame, data.table and dplyr (in R)](https://dplyr.tidyverse.org), making it a great general purpose data science tool.\n",
    "* [Plots.jl](https://docs.juliaplots.org/stable/) is a plotting library in [Julia](https://julialang.org).\n",
    "* [Optim.jl](https://julianlsolvers.github.io/Optim.jl/stable/) is a [Julia](https://julialang.org) package for performing simple optimization task. We use this package in the Yield to Maturity (YTM) calculations.\n",
    "* [PrettyTables.jl](https://ronisbr.github.io/PrettyTables.jl/stable/man/html_backend/) is a [Julia](https://julialang.org) package that implements functions to construct and display text-based tables"
   ]
  },
  {
   "cell_type": "markdown",
   "id": "913fbbd4-39fc-4cc0-9212-6957b0a915ae",
   "metadata": {},
   "source": [
    "#### Types\n",
    "`Include.jl` loads some [problem-specific types](https://docs.julialang.org/en/v1/manual/functions/) that will be helpful for the analysis of T-bill pricing. \n",
    "\n",
    "* `MyUSTreasuryCouponSecurityModel` is a [mutable type](https://docs.julialang.org/en/v1/manual/types/#Mutable-Composite-Types) holding the par value $V_{P}$, the duration $T$, the market rate of interest rate $\\bar{r}$, the coupoun rate $c$ and the number of coupon payments per year $\\lambda$ for treasury note and bonds that pay a coupoun. You construct a `MyUSTreasuryCouponSecurityModel` instance using the `build` method described below.\n",
    "* `DiscreteCompoundingModel` and `ContinuousCompoundingModel` are [immutable types](https://docs.julialang.org/en/v1/manual/types/#Composite-Types) that let our code know which compounding model we wish to use."
   ]
  },
  {
   "cell_type": "markdown",
   "id": "29830b2e-c58a-4c31-86aa-f3ca55710fa0",
   "metadata": {},
   "source": [
    "#### Functions\n",
    "`Include.jl` loads the [Julia functions](https://docs.julialang.org/en/v1/manual/functions/):\n",
    "\n",
    "* The `loadratesfile(year::String = \"2022\") -> DataFrame` function takes a [String](https://docs.julialang.org/en/v1/manual/strings/) encoding the year in the `YYYY` format, e.g., `\"2019\"` or `\"2020\"` and returns a [DataFrame](https://dataframes.juliadata.org/stable/) holding the daily interest rates for US Treasury Bills for various durations found on [Treasury.gov](https://home.treasury.gov/resource-center/data-chart-center/interest-rates/TextView?type=daily_treasury_bill_rates). This project has data from `\"2019\"`, `\"2020\"`, `\"2021\"`, `\"2022\"` and `\"2022\"`. The year parameter has a default value of `\"2022\"`.\n",
    "* The `build(model::Type{MyUSTreasuryCouponSecurityModel}, data::NamedTuple) -> MyUSTreasuryCouponSecurityModel` function takes information in the `data` [NamedTuple](https://docs.julialang.org/en/v1/base/base/#Core.NamedTuple) argument (the par value, etc.) and returns an instance of the `MyUSTreasuryCouponSecurityModel` custom type.\n",
    "* The `price(model::MyUSTreasuryCouponSecurityModel, compounding::T) -> MyUSTreasuryCouponSecurityModel where T <: AbstractCompoundingModel` function takes a `MyUSTreasuryCouponSecurityModel` instance, and a compounding model and returns an updated `MyUSTreasuryCouponSecurityModel` instance that holds the price $V_{B}$ in the price field.\n",
    "* The `YTM(model::MyUSTreasuryCouponSecurityModel, compounding::T; rₒ::Float64 = 0.01) where T <: AbstractCompoundingModel` function computes the Yield to Maturity (YTM) given a `MyUSTreasuryCouponSecurityModel` instance, a compounding model and an initial guess for the interest rate (default value of 1\\%)"
   ]
  },
  {
   "cell_type": "code",
   "execution_count": 1,
   "id": "fd1b9d04-824e-4b0d-bd80-41df59371f4b",
   "metadata": {},
   "outputs": [],
   "source": [
    "include(\"Include.jl\");"
   ]
  },
  {
   "cell_type": "markdown",
   "id": "274b25a7-9ff9-46d0-85fc-3adc4d68eb25",
   "metadata": {
    "tags": []
   },
   "source": [
    "## Objective 1: Validate our Coupon Bond Pricing Implementation\n",
    "Let's consider three examples of coupon bond pricing using our implementation of the pricing formula above. To calculate the price of a note or bond, we build an instance of the `MyUSTreasuryCouponSecurityModel` type using the `build(...)` factory method and then pass this instance to the `price` function, which updates the model with a calculated price, i.e., populates the `price` field of the `MyUSTreasuryCouponSecurityModel` instance. There are standard and shortcut approaches to these calculations."
   ]
  },
  {
   "cell_type": "markdown",
   "id": "bab22a43-4a11-49a2-ab14-04f6976e55f9",
   "metadata": {
    "tags": []
   },
   "source": [
    "### Example 1: Compute the price of a 5-year treasury note with semi-annual coupon payments\n",
    "Compute the price of a 5-year treasury note with semi-annual coupons with a coupon rate of 6% and a market rate of interest (yield) of 6.76%. The face value of the note is 100 USD. We expect a price of the T-Note to be 98.39 USD. This example was reproduced from Chapter 4 of [Hull, Options, Futures and other Derivatives, 7th ed, Pearson Education, 2009](). This example uses continuous compounding.\n",
    "\n",
    "\n",
    "<!-- | Parameter | Symbol | Type | Units | \n",
    "| --------- | ------ | ---- | ----- |\n",
    "| Face value| $V_{P}$ | `Float64` | USD |\n",
    "| Duration  | T | `Float64` | years |\n",
    "| Coupon rate | $c$ | `Float64` | percentage |\n",
    "| Yield | $r$ | `Float64` | percentage |\n",
    "| Coupons per year | $\\lambda$ | `Int64` | number |  -->\n",
    "\n",
    "#### Parameters\n",
    "* $V_{P}$ is a `Float64` that holds the face (par) value of the note or bond.\n",
    "* $T$ is a `Float64` that holds the number of years before majurity of the note or bond (at the time of auction)\n",
    "* $c$ is a `Float64` that holds the annualized coupon rate attached to the bond (established at the time of auction).\n",
    "* $r$ is a `Float64` that holds the market rate of interest attached to the bond (established at the time of auction).\n",
    "* $\\lambda$ is an `Int64` that holds the number of coupon payments per year (the number of compounding periods per year).\n",
    "\n",
    "#### Standard calling syntax:\n",
    "```julia\n",
    "# Set the T-Note parameters\n",
    "Vₚ,T,r,c,λ = 100.0,5.0,0.07,0.08,2\n",
    "\n",
    "# Build the compounding model -\n",
    "continuous_compounding = ContinuousCompoundingModel();\n",
    "\n",
    "# build an instance of the MyUSTreasuryCouponSecurityModel using the build method -\n",
    "model = build(MyUSTreasuryCouponSecurityModel, (par = Vₚ, T = T, rate = r, coupon = c, λ = λ)); \n",
    "\n",
    "# compute the price of the T-Note or Bond\n",
    "model = price(model, continuous_compounding);\n",
    "```\n",
    "\n",
    "#### Shortcut calling syntax:\n",
    "We can also make use of the [piping operator](https://docs.julialang.org/en/v1/manual/functions/#Function-composition-and-piping) `|>` and some other syntactic sugar to build the model and compute the price in a single block of code, with either continuous or discrete compounding. To display the results, we use the [PrettyTables.jl](https://github.com/ronisbr/PrettyTables.jl) package:"
   ]
  },
  {
   "cell_type": "code",
   "execution_count": 2,
   "id": "663d3857-217c-4f16-8d1d-f029255b6a07",
   "metadata": {},
   "outputs": [
    {
     "name": "stdout",
     "output_type": "stream",
     "text": [
      "┌──────────────────┬─────────────┐\n",
      "│\u001b[1m                  \u001b[0m│\u001b[1m       Value \u001b[0m│\n",
      "├──────────────────┼─────────────┤\n",
      "│   Reported (USD) │       98.39 │\n",
      "│ Calculated (USD) │     98.3897 │\n",
      "│        Error (%) │ 0.000351637 │\n",
      "└──────────────────┴─────────────┘\n"
     ]
    }
   ],
   "source": [
    "# Setup parameters for the example\n",
    "Vₚ,T,r,c,λ = 100.0,2.0,0.0676,0.06,2\n",
    "\n",
    "# what is the expected answer -\n",
    "expected_answer = 98.39;\n",
    "\n",
    "# Build the compounding model -\n",
    "continuous_compounding = ContinuousCompoundingModel();\n",
    "\n",
    "# Build the treasury security model, and compute the price assuming continuous compounding \n",
    "model = build(MyUSTreasuryCouponSecurityModel, (\n",
    "            par = Vₚ, T = T, rate = r, coupon = c, λ = λ\n",
    "        )) |> continuous_compounding;\n",
    "\n",
    "# pretty table -\n",
    "example_1_data_array = Array{Any,2}(undef, 3,2);\n",
    "example_1_data_array[1,1] = \"Reported (USD)\"\n",
    "example_1_data_array[1,2] = expected_answer\n",
    "example_1_data_array[2,1] = \"Calculated (USD)\"\n",
    "example_1_data_array[2,2] = model.price\n",
    "example_1_data_array[3,1] = \"Error (%)\"\n",
    "example_1_data_array[3,2] = ((expected_answer - model.price)/(expected_answer))*100\n",
    "\n",
    "example_1_header_data = ([\"\",\"Value\"]);\n",
    "pretty_table(example_1_data_array, header=example_1_header_data);"
   ]
  },
  {
   "cell_type": "markdown",
   "id": "85af49f0-3610-419b-91da-14f99fa82e9e",
   "metadata": {
    "tags": []
   },
   "source": [
    "### Example 2: Compute the price of a 2-year treasury note with annual coupon payments\n",
    "Compute the price of a 2-year treasury note with annual coupons with a coupon rate of 7% and a market rate of interest of 8%, assuming discrete compounding. The face value of the note is $V_{P}=$100 USD. This example was reproduced from [FINA 635 course, Department of Finance at the C.T. Bauer College of Business, University of Houston.](https://www.bauer.uh.edu/nlangberg/teaching_files/Fall2010/class%205_2008sum.pdf) The expected is $V_{B}$ = 98.22 USD.\n",
    "\n",
    "Example 2 is similar to the previous example, except the T-Note has a single coupon payment per year ($\\lambda = 1$), and we use discrete compounding:"
   ]
  },
  {
   "cell_type": "code",
   "execution_count": 3,
   "id": "e349c860-9002-47ae-91b8-b077d56f5239",
   "metadata": {},
   "outputs": [
    {
     "name": "stdout",
     "output_type": "stream",
     "text": [
      "┌──────────────────┬────────────┐\n",
      "│\u001b[1m                  \u001b[0m│\u001b[1m      Value \u001b[0m│\n",
      "├──────────────────┼────────────┤\n",
      "│   Reported (USD) │      98.22 │\n",
      "│ Calculated (USD) │    98.2167 │\n",
      "│        Error (%) │ 0.00332391 │\n",
      "└──────────────────┴────────────┘\n"
     ]
    }
   ],
   "source": [
    "# Setup parameters for this example\n",
    "Vₚ,T,r,c,λ = 100.0,2.0,0.08,0.07,1\n",
    "\n",
    "# compounding model -\n",
    "discrete_compounding = DiscreteCompoundingModel();\n",
    "\n",
    "# what is the expected answer -\n",
    "expected_answer = 98.22;\n",
    "\n",
    "# Build model, and compute the price\n",
    "model = build(MyUSTreasuryCouponSecurityModel, (\n",
    "            par = Vₚ, T = T, rate = r, coupon = c, λ = λ\n",
    "        )) |> discrete_compounding;\n",
    "\n",
    "# Make a table using the PrettyTable package -\n",
    "example_2_data_array = Array{Any,2}(undef, 3,2);\n",
    "example_2_data_array[1,1] = \"Reported (USD)\"\n",
    "example_2_data_array[1,2] = \"98.22\"\n",
    "example_2_data_array[2,1] = \"Calculated (USD)\"\n",
    "example_2_data_array[2,2] = model.price\n",
    "example_2_data_array[3,1] = \"Error (%)\"\n",
    "example_2_data_array[3,2] = ((expected_answer - model.price)/(expected_answer))*100\n",
    "\n",
    "example_2_header_data = ([\"\",\"Value\"]);\n",
    "pretty_table(example_2_data_array, header=example_2_header_data);"
   ]
  },
  {
   "cell_type": "markdown",
   "id": "a09973ab-bd6b-488f-97fb-48d3ce91995e",
   "metadata": {
    "tags": []
   },
   "source": [
    "### Example 3: Comparison of calculated 30-year treasury bond prices with historical data\n",
    "The data for this example was reproduced from the [Treasury Notes & Bonds Historical Information page on Treasury.gov](https://treasurydirect.gov/auctions/announcements-data-results/announcement-results-press-releases/previous-announcements-and-results/treasury-notes-bonds-historical-information/). The data consists of 30-year treasury bond information (coupon rate, market interest rate, and price) for bonds issued between 1977 and 1979.\n",
    "\n",
    "#### Strategy\n",
    "1. First, load the historical data set using the `loaddatafile` function, which returns the data as a [DataFrame](https://dataframes.juliadata.org/stable/). Key fields in the data:\n",
    "    * The `:CouponRate` field holds the data for the coupon interest rate (annualized rate as a percentage)\n",
    "    * The `:AverageYield` field holds the market rate of interest for the treasury bond (annualized rate as a percentage)\n",
    "    * The `:AveragePrice` field holds the price data for the 30-year treasury bond\n",
    "1. Next, we compute the treasury bond price for each bond in the data set by iterating through the data set, grabbing the parameters for each bond, and calculating the price using the shortcut syntax shown above.\n",
    "1. Last, we put the actual and computed prices in a table and calculate the percentage error of the estimate."
   ]
  },
  {
   "cell_type": "markdown",
   "id": "a118d423-8473-4ebf-b1c8-4fdfaefcfdcf",
   "metadata": {},
   "source": [
    "##### Load the historical data set"
   ]
  },
  {
   "cell_type": "code",
   "execution_count": 4,
   "id": "a656f9d8-c4df-4843-a6bd-85369318dfbc",
   "metadata": {},
   "outputs": [],
   "source": [
    "# Set the path to data file, and load the data -\n",
    "path_to_data_file = joinpath(_PATH_TO_DATA, \"Data-30-yr-USTreasury-1977-1979.csv\");\n",
    "dataset = loaddatafile(path_to_data_file);"
   ]
  },
  {
   "cell_type": "markdown",
   "id": "5f5f8211-1e7b-4262-9b3b-ceec3a1cb9bb",
   "metadata": {},
   "source": [
    "##### Process each record (row) in the historical data set"
   ]
  },
  {
   "cell_type": "code",
   "execution_count": 5,
   "id": "ef8ab2b0-f27b-4716-8c8e-e40e316d8a72",
   "metadata": {},
   "outputs": [],
   "source": [
    "# Parameters that do NOT change between records -\n",
    "T = 30.0;   # maturity in years\n",
    "λ = 2;      # number of coupon payments per year\n",
    "Vₚ = 100.0; # face value USD\n",
    "\n",
    "# get the number of records in the dataset -\n",
    "number_of_records = nrow(dataset);\n",
    "\n",
    "# Initialize some storage for the models, and process each data record -\n",
    "bonds = Array{MyUSTreasuryCouponSecurityModel,1}(undef,number_of_records);\n",
    "for i ∈ 1:number_of_records\n",
    "    \n",
    "    # get the data from the data frame for this record (data is in percentage, convert to decimal)\n",
    "    c = dataset[i,:CouponRate]*(1/100);\n",
    "    r = dataset[i,:AverageYield]*(1/100);\n",
    "    \n",
    "    # build the model, and compute the price using the short-cut syntax\n",
    "    model = build(MyUSTreasuryCouponSecurityModel, (\n",
    "            par = Vₚ, T = T, rate = r, coupon = c, λ = λ\n",
    "        )) |> discrete_compounding;\n",
    "    \n",
    "    # store the updated model\n",
    "    bonds[i] = model;\n",
    "end"
   ]
  },
  {
   "cell_type": "markdown",
   "id": "9af796da-7b96-4b90-8d2d-eba4113efada",
   "metadata": {},
   "source": [
    "##### Build a comparison table of actual versus computed 30-yr bond price"
   ]
  },
  {
   "cell_type": "code",
   "execution_count": 6,
   "id": "4e55854a-03b6-4c60-8d07-c6316e2b253b",
   "metadata": {},
   "outputs": [
    {
     "name": "stdout",
     "output_type": "stream",
     "text": [
      "┌──────────┬──────────┬────────┬───────┬──────────────┬────────────────┬──────────────┐\n",
      "│\u001b[1m     Date \u001b[0m│\u001b[1m Duration \u001b[0m│\u001b[1m Coupon \u001b[0m│\u001b[1m Yield \u001b[0m│\u001b[1m Price Actual \u001b[0m│\u001b[1m Price Computed \u001b[0m│\u001b[1m        Error \u001b[0m│\n",
      "│\u001b[90m MM/DD/YY \u001b[0m│\u001b[90m       Yr \u001b[0m│\u001b[90m      % \u001b[0m│\u001b[90m     % \u001b[0m│\u001b[90m          USD \u001b[0m│\u001b[90m            USD \u001b[0m│\u001b[90m            % \u001b[0m│\n",
      "├──────────┼──────────┼────────┼───────┼──────────────┼────────────────┼──────────────┤\n",
      "│   5/8/75 │     30.0 │   8.25 │   8.3 │        99.45 │        99.4501 │ -0.000112277 │\n",
      "│   2/4/77 │     30.0 │  7.625 │  7.63 │       99.941 │        99.9414 │ -0.000401125 │\n",
      "│  11/2/77 │     30.0 │  7.875 │  7.94 │       99.261 │        99.2605 │  0.000464192 │\n",
      "│   8/3/78 │     30.0 │  8.375 │  8.43 │       99.402 │        99.4024 │ -0.000362882 │\n",
      "│  11/3/78 │     30.0 │   8.75 │  8.86 │       98.851 │        98.8506 │  0.000400852 │\n",
      "│   5/2/79 │     30.0 │  9.125 │  9.23 │       98.938 │        98.9383 │ -0.000327602 │\n",
      "│  11/1/79 │     30.0 │ 10.375 │ 10.44 │       99.407 │        99.4068 │   0.00020879 │\n",
      "└──────────┴──────────┴────────┴───────┴──────────────┴────────────────┴──────────────┘\n"
     ]
    }
   ],
   "source": [
    "# initialize -\n",
    "example_3_data_array = Array{Any,2}(undef, number_of_records, 7);\n",
    "example_3_header_array = (\n",
    "    [\"Date\",\"Duration\",\"Coupon\",\"Yield\", \"Price Actual\", \"Price Computed\", \"Error\"], # descriptions\n",
    "    [\"MM/DD/YY\",\"Yr\",\"%\",\"%\",\"USD\",\"USD\",\"%\"] # units\n",
    ");\n",
    "\n",
    "# populate the table -\n",
    "for i ∈ 1:number_of_records\n",
    "        \n",
    "    # get data from data set, and model array -\n",
    "    date = dataset[i,:AuctionDate];\n",
    "    c = dataset[i,:CouponRate]\n",
    "    r = dataset[i,:AverageYield]\n",
    "    p = dataset[i,:AveragePrice];\n",
    "    p̂ = bonds[i].price\n",
    "    \n",
    "    # compute % error between average price and computed price \n",
    "    ϵ = ((p - p̂)/p)*100.0\n",
    "    \n",
    "    # put data into the table array -\n",
    "    example_3_data_array[i,1] = date\n",
    "    example_3_data_array[i,2] = T\n",
    "    example_3_data_array[i,3] = c\n",
    "    example_3_data_array[i,4] = r\n",
    "    example_3_data_array[i,5] = p\n",
    "    example_3_data_array[i,6] = p̂\n",
    "    example_3_data_array[i,7] = ϵ\n",
    "end\n",
    "\n",
    "# display the table -\n",
    "pretty_table(example_3_data_array, header=example_3_header_array)"
   ]
  },
  {
   "cell_type": "markdown",
   "id": "4b3d2b19-7361-4cf4-a718-07705665f96d",
   "metadata": {},
   "source": [
    "#### Summary of Objective 1\n",
    "* Our implementation of the pricing of coupon-paying treasury securities, i.e., treasury notes and bonds, was consistent with both examples and historical data. "
   ]
  },
  {
   "cell_type": "markdown",
   "id": "26fe6d8d-57c9-4df9-8123-320cc41f5311",
   "metadata": {},
   "source": [
    "## Objective 2: Computing the Yield to Maturity (YTM) for treasury notes and bonds\n",
    "Mathematically, the Yield to Maturity (YTM) of a treasury note or bond is the internal rate of return (IRR) associated with buying and holding the security until its maturity date. The YTM and the effective market interest rate are equal when the note or bond is initially auctioned (primary market). However, notes and bonds can be resold on the [secondary treasury market](https://www.investopedia.com/articles/bonds/08/treasuries-fed.asp#:~:text=For%20many%20people%2C%20TreasuryDirect%20is,convenience%20and%20liquidity%20than%20TreasuryDirect), potentially _after_ some of the coupon payments have been paid out. In these cases, the yield to maturity is _not equal_ to the initial market interest rate at auction.\n",
    "\n",
    "### Scenario\n",
    "Assume a discrete discounting model. To better understand the YTM, let’s consider a scenario where we purchased a 5-year treasury note with a face value of $V_{P}$ = 100 USD at auction for $V_{B}$ = 96.82 USD. The note has an annual coupon rate of 6%, with semi-annual coupons. We then resell the T-note on the secondary market after holding it for $T^{\\prime}$ years (and collecting some coupon payments) for the same price we paid."
   ]
  },
  {
   "cell_type": "markdown",
   "id": "f72692c5-f2bb-423c-a828-d7381762feed",
   "metadata": {},
   "source": [
    "#### YTM at the primary auction"
   ]
  },
  {
   "cell_type": "code",
   "execution_count": 7,
   "id": "6b66e0bc-47ba-445c-a44d-550fd15b809e",
   "metadata": {},
   "outputs": [
    {
     "name": "stdout",
     "output_type": "stream",
     "text": [
      "A 5-year note with 100 USD face value purchased at auction for 96.82 USD has a YTM = 6.760119063927231 percent\n"
     ]
    }
   ],
   "source": [
    "# setup constants -\n",
    "Vₚ = 100.0\n",
    "T = 5.0 # we have the full duration of the T-note when purchasing at auction \n",
    "λ = 2\n",
    "c = 0.06\n",
    "\n",
    "# this is the initial price we paid at auction for the T-note\n",
    "Vᵦ = 96.82; \n",
    "\n",
    "# use a discrete compounding model\n",
    "compounding = DiscreteCompoundingModel();\n",
    "\n",
    "# build the Bond model, we don't know the rate, but we know the price -\n",
    "model = build(MyUSTreasuryCouponSecurityModel, (\n",
    "    par = Vₚ, T = T, λ = λ, coupon = c\n",
    "));\n",
    "model.price = Vᵦ\n",
    "\n",
    "# compute the rate -\n",
    "estimated_rate = YTM(model, compounding)\n",
    "\n",
    "# print -\n",
    "println(\"A 5-year note with 100 USD face value purchased at auction for $(Vᵦ) USD has a YTM = $(estimated_rate*100) percent\")"
   ]
  },
  {
   "cell_type": "markdown",
   "id": "15008596-4e2e-4ff9-837c-d35411ba277c",
   "metadata": {},
   "source": [
    "#### YTM after resale on seconary market after holding for $T^{\\prime}$ years"
   ]
  },
  {
   "cell_type": "code",
   "execution_count": 8,
   "id": "d545c2d3-c79e-4abe-b9ed-db882d76062d",
   "metadata": {},
   "outputs": [],
   "source": [
    "# initialize -\n",
    "YTM_value_array = Array{Float64,1}(undef,5);\n",
    "\n",
    "# setup constants that do NOT change with T′ -\n",
    "Vₚ = 100.0\n",
    "λ = 2\n",
    "c = 0.06\n",
    "\n",
    "# use a discrete compounding model\n",
    "compounding = DiscreteCompoundingModel();\n",
    "\n",
    "# this is the initial price we paid at auction for the T-note\n",
    "Vᵦ = 96.82;\n",
    "\n",
    "# setup a holding time array -\n",
    "ΔT = [0.0,1.0,2.0,3.0,4.0];\n",
    "counter = 0;\n",
    "for T′ ∈ ΔT \n",
    "    \n",
    "    # update the counter -\n",
    "    counter += 1\n",
    "    \n",
    "    # how much time is left on the security?\n",
    "    T̂ = T - T′\n",
    "    \n",
    "    # build the Bond model, we don't know the rate, but we know the price -\n",
    "    model = build(MyUSTreasuryCouponSecurityModel, (\n",
    "        par = Vₚ, T = T̂, λ = λ, coupon = c\n",
    "    ));\n",
    "    model.price = Vᵦ\n",
    "    \n",
    "    # compute and store the YTM value -    \n",
    "    YTM_value_array[counter] = YTM(model, compounding)\n",
    "end"
   ]
  },
  {
   "cell_type": "markdown",
   "id": "9c5dffb4-9105-475e-bf34-1addb141d0dd",
   "metadata": {},
   "source": [
    "#### Construct YTM summary table"
   ]
  },
  {
   "cell_type": "code",
   "execution_count": 16,
   "id": "da1b0358-eefb-4d81-9712-9023efc2aa73",
   "metadata": {},
   "outputs": [
    {
     "name": "stdout",
     "output_type": "stream",
     "text": [
      "┌─────┬─────┬───────┬─────────┐\n",
      "│\u001b[1m  T′ \u001b[0m│\u001b[1m   T̂ \u001b[0m│\u001b[1m Price \u001b[0m│\u001b[1m     YTM \u001b[0m│\n",
      "│\u001b[90m  yr \u001b[0m│\u001b[90m  yr \u001b[0m│\u001b[90m   USD \u001b[0m│\u001b[90m       % \u001b[0m│\n",
      "├─────┼─────┼───────┼─────────┤\n",
      "│ 0.0 │ 5.0 │ 96.82 │ 6.76012 │\n",
      "│ 1.0 │ 4.0 │ 96.82 │ 6.92376 │\n",
      "│ 2.0 │ 3.0 │ 96.82 │ 7.19744 │\n",
      "│ 3.0 │ 2.0 │ 96.82 │ 7.74689 │\n",
      "│ 4.0 │ 1.0 │ 96.82 │ 9.40605 │\n",
      "└─────┴─────┴───────┴─────────┘\n"
     ]
    }
   ],
   "source": [
    "# initialize -\n",
    "YTM_table_data_array = Array{Any,2}(undef, counter, 4)\n",
    "YTM_table_header_array = ([\"T′\",\"T̂\",\"Price\",\"YTM\"], [\"yr\",\"yr\",\"USD\",\"%\"]);\n",
    "\n",
    "rowindex = 0;\n",
    "for T′ ∈ ΔT \n",
    "    \n",
    "    # update the counter -\n",
    "    rowindex += 1\n",
    "    \n",
    "    # how much time is left on the security?\n",
    "    T̂ = T - T′\n",
    "\n",
    "    # populate the table -\n",
    "    YTM_table_data_array[rowindex,1] = T′\n",
    "    YTM_table_data_array[rowindex,2] = T - T′\n",
    "    YTM_table_data_array[rowindex,3] = Vᵦ;\n",
    "    YTM_table_data_array[rowindex,4] = YTM_value_array[rowindex]*100\n",
    "end\n",
    "\n",
    "# display the table -\n",
    "pretty_table(YTM_table_data_array, header = YTM_table_header_array)"
   ]
  }
 ],
 "metadata": {
  "kernelspec": {
   "display_name": "Julia 1.9.0",
   "language": "julia",
   "name": "julia-1.9"
  },
  "language_info": {
   "file_extension": ".jl",
   "mimetype": "application/julia",
   "name": "julia",
   "version": "1.9.0"
  }
 },
 "nbformat": 4,
 "nbformat_minor": 5
}
