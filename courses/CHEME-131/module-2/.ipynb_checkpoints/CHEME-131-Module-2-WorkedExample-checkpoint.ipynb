{
 "cells": [
  {
   "cell_type": "markdown",
   "id": "c01d085c-19ea-4ed0-b4a3-48084d962514",
   "metadata": {},
   "source": [
    "# Pricing of United States Treasury Notes and Bounds"
   ]
  },
  {
   "cell_type": "markdown",
   "id": "f65683a1-3094-40cd-89df-effbd8a20f86",
   "metadata": {},
   "source": [
    "## Background\n",
    "Treasury notes, also known as T-notes, are financial instruments that offer a fixed interest rate every six months until they mature. These instruments are available for 2, 3, 5, 7, and 10 years and can be priced above or below their face (par) value. Upon maturity, lenders are entitled to the full par value of the note. T-notes are considered coupon debt instruments, meaning lenders receive regular interest payments based on a coupon rate throughout the note’s lifespan. \n",
    "\n",
    "Treasury bonds, like T-notes, are debt instruments that pay a fixed interest rate every six months. Unlike T-notes, however, Treasury bonds are long-term U.S. Treasury debt instruments with terms of 20 or 30 years. Once a bond reaches maturity, the bondholder receives its face value.  Notes and bonds can be held until maturity or sold before that time.\n",
    "\n",
    "### Pricing\n",
    "Let the term of a bond (or note) be T-years with  $\\lambda$ coupon payments per year; $N = \\lambda{T}$ coupon payments over the bond term. Further, let $\\bar{c}$ denote the annualized coupon rate, and $\\bar{r}$ denote the annual effective market rate of interest. Then, the _fair price_ for the bond (or note) $V_{B}$ is the present value of coupon payments $C$ plus the discounted face (par) value $V_{P}$ of the bond:\n",
    "\n",
    "$$\n",
    "V_{B} = \\frac{V_{P}}{\\left(1+i\\right)^{N}}+\\sum_{j=1}^{N}\\frac{C}{\\left(1+i\\right)^{j}}\n",
    "$$\n",
    "\n",
    "The coupon payment $C=\\left(\\bar{c}/\\lambda\\right)\\cdot{V_{P}}$ is set when the bond is purchased, and the interest rate $i=\\bar{r}/\\lambda$ varies with the market (set at auction). The contract between the U.S. government, the issuer, and the bondholder (you) includes the bond’s coupon rate, maturity date, and face (par) value."
   ]
  },
  {
   "cell_type": "markdown",
   "id": "352555e2-6031-4516-ade0-d64fc9c9ce11",
   "metadata": {},
   "source": [
    "## Objectives\n",
    "Let's use public quotation data from the [Wall Street Journal](https://www.wsj.com/market-data/bonds/treasuries) to test the pricing formula above (and our codes to calculte $V_{B}$). Next, we'll do a [Yield to Maturity (YTM)](https://en.wikipedia.org/wiki/Yield_to_maturity) calculation for notes and bonds of different durations.\n",
    "\n",
    "### Tasks and Strategies\n",
    "1. Validate the prices calculated using our implementation of the pricing formula above with historical data for bonds and notes of different durations. Further, show that longer term bonds are more sensitive to changes in the market interest rate compared to shorter duration instruments. \n",
    "1. Using our validated bond/note code, compute the [Yield to Maturity (YTM)](https://en.wikipedia.org/wiki/Yield_to_maturity) for bonds of different durations. Show how the parameters in the bond pricing equation influence the yeild to majurity. "
   ]
  },
  {
   "cell_type": "markdown",
   "id": "d8a52137-c890-4d98-9339-9c0a8890fb4c",
   "metadata": {},
   "source": [
    "## Setup\n",
    "In the following code blocks, we set up the computational environment by including the `Include.jl` file. The `Include.jl` file loads external packages, functions that we will use in this exercise, and custom types to model the components of our problem."
   ]
  },
  {
   "cell_type": "code",
   "execution_count": 1,
   "id": "fd1b9d04-824e-4b0d-bd80-41df59371f4b",
   "metadata": {},
   "outputs": [],
   "source": [
    "include(\"Include.jl\");"
   ]
  },
  {
   "cell_type": "markdown",
   "id": "274b25a7-9ff9-46d0-85fc-3adc4d68eb25",
   "metadata": {
    "tags": []
   },
   "source": [
    "## Task 1: Validate our Implementation of the Bond Pricing Formula\n",
    "Let's consider a three examples of coupon bond pricing using our implementation of the pricing formula should above. To calculate the price of the note or bond, we build an instance of the `MyUSTreasuryCouponSecurityModel` type using the `build(...)` factory method, and then pass this instance to the `price` function."
   ]
  },
  {
   "cell_type": "markdown",
   "id": "bab22a43-4a11-49a2-ab14-04f6976e55f9",
   "metadata": {
    "jp-MarkdownHeadingCollapsed": true,
    "tags": []
   },
   "source": [
    "### Example 1: Compute the price of a 5-year treasury note with semi-annual coupon payments\n",
    "Compute the price of a 5-year treasury note with semi-annual coupons with a coupon rate of 8% and a market rate of interest of 7%. The face value of the note is 10,000 USD. We expect a price of the T-Note to be 10,415.83 USD.\n",
    "\n",
    "#### Parameters\n",
    "* The parameter $V_{P}$ is a `Float64` that holds the face (par) value of the note or bond.\n",
    "* The parameter $T$ is a `Float64` that holds the number of years before majurity of the note or bond (at the time of auction)\n",
    "* The parameter $c$ is a `Float64` that holds the annualized coupon rate attached to the bond (established at the time of auction).\n",
    "* The paraneter $r$ is a `Float64` that holds the market rate of interest attached to the bond (established at the time of auction).\n",
    "* The parameter $\\lambda$ is an `Int64` that holds the number of coupon payments per year (the number of compounding periods per year). \n",
    "\n",
    "#### Typical calling syntax:\n",
    "```julia\n",
    "# Set the T-Note parameters\n",
    "Vₚ,T,r,c,λ = 100.0,5.0,0.07,0.08,2\n",
    "\n",
    "# build an instance of the MyUSTreasuryCouponSecurityModel using the build method -\n",
    "model = build(MyUSTreasuryCouponSecurityModel, (par = Vₚ, T = T, rate = r, coupon = c, λ = λ)); \n",
    "\n",
    "# compute the price of the T-Note\n",
    "model = price(model, Vₚ = Vₚ);\n",
    "```\n",
    "\n",
    "#### Shortcut calling syntax:\n",
    "We can also make use of the [piping operator](https://docs.julialang.org/en/v1/manual/functions/#Function-composition-and-piping) `|>` and [anonymous functions](https://docs.julialang.org/en/v1/manual/functions/#man-anonymous-functions) to build the model and compute the price in a single block:"
   ]
  },
  {
   "cell_type": "code",
   "execution_count": 2,
   "id": "663d3857-217c-4f16-8d1d-f029255b6a07",
   "metadata": {},
   "outputs": [],
   "source": [
    "# Setup parameters for this example\n",
    "Vₚ,T,r,c,λ = 100.0,5.0,0.07,0.08,2\n",
    "\n",
    "# Build the model, and compute the price\n",
    "model = build(MyUSTreasuryCouponSecurityModel, (\n",
    "            par = Vₚ, T = T, rate = r, coupon = c, λ = λ\n",
    "        )) |> (model -> price(model, Vₚ = Vₚ));"
   ]
  },
  {
   "cell_type": "code",
   "execution_count": 3,
   "id": "258db4c5-0e18-431e-940b-852c49cf93b1",
   "metadata": {
    "jupyter": {
     "source_hidden": true
    },
    "tags": []
   },
   "outputs": [
    {
     "name": "stdout",
     "output_type": "stream",
     "text": [
      "┌────────────┬─────────────┐\n",
      "│\u001b[1m            \u001b[0m│\u001b[1m Value (USD) \u001b[0m│\n",
      "├────────────┼─────────────┤\n",
      "│   Reported │   10,415.83 │\n",
      "│ Calculated │     10415.8 │\n",
      "└────────────┴─────────────┘\n"
     ]
    }
   ],
   "source": [
    "# pretty table -\n",
    "example_1_data_array = Array{Any,2}(undef, 2,2);\n",
    "example_1_data_array[1,1] = \"Reported\"\n",
    "example_1_data_array[1,2] = \"10,415.83\"\n",
    "example_1_data_array[2,1] = \"Calculated\"\n",
    "example_1_data_array[2,2] = 10000.0*model.price*(1/100)\n",
    "\n",
    "example_1_header_data = ([\"\",\"Value (USD)\"]);\n",
    "pretty_table(example_1_data_array, header=example_1_header_data);"
   ]
  },
  {
   "cell_type": "code",
   "execution_count": 4,
   "id": "fccdef77-3789-4cf1-b186-8488b73950a7",
   "metadata": {
    "jupyter": {
     "source_hidden": true
    },
    "tags": []
   },
   "outputs": [],
   "source": [
    "# cashflow_data_table = Array{Any,2}(undef,11,5);\n",
    "# cfd = model.cashflow;\n",
    "# number_of_periods = length(cfd);\n",
    "# C = (c/λ)*Vₚ\n",
    "# rᵢ = (r/λ);\n",
    "\n",
    "# counter = 1;\n",
    "# cumulative_sum = 0.0\n",
    "# for i ∈ 0:(number_of_periods-1)\n",
    "    \n",
    "#     # compute the discount rate -\n",
    "#     𝒟ᵢ = (1+rᵢ)^i\n",
    "    \n",
    "#     # update the cumulative sum \n",
    "#     cumulative_sum += cfd[i];\n",
    "    \n",
    "#     if (i == 0)\n",
    "#         cashflow_data_table[counter, 1] = i;\n",
    "#         cashflow_data_table[counter, 2] = cfd[i];\n",
    "#         cashflow_data_table[counter, 3] = cfd[i];\n",
    "#         cashflow_data_table[counter, 4] = cumulative_sum;\n",
    "#         # cashflow_data_table[counter, 5] = (1/𝒟ᵢ)*model.price\n",
    "#         cashflow_data_table[counter, 5] = (1/𝒟ᵢ)*model.price\n",
    "#     elseif (i == (number_of_periods-1))\n",
    "#         cashflow_data_table[counter, 1] = i;\n",
    "#         cashflow_data_table[counter, 2] = C + Vₚ\n",
    "#         cashflow_data_table[counter, 3] = cfd[i];\n",
    "#         cashflow_data_table[counter, 4] = cumulative_sum;\n",
    "#         # cashflow_data_table[counter, 5] = (1/𝒟ᵢ)*model.price \n",
    "#         cashflow_data_table[counter, 5] = (1/𝒟ᵢ)*model.price\n",
    "#      else\n",
    "#         cashflow_data_table[counter, 1] = i;\n",
    "#         cashflow_data_table[counter, 2] = C\n",
    "#         cashflow_data_table[counter, 3] = cfd[i];\n",
    "#         cashflow_data_table[counter, 4] = cumulative_sum;\n",
    "#         # cashflow_data_table[counter, 5] = (1/𝒟ᵢ)*model.price\n",
    "#         cashflow_data_table[counter, 5] = (1/𝒟ᵢ)*model.price\n",
    "#     end\n",
    "#     counter += 1;\n",
    "# end\n",
    "\n",
    "# # cashflow_data_table[end,1] = \"Total\"\n",
    "# # cashflow_data_table[end,2] = sum(cashflow_data_table[1:end-1, 2])\n",
    "# # cashflow_data_table[end,3] = sum(cashflow_data_table[1:end-1, 3])\n",
    "# # cashflow_data_table[end,4] = sum(cashflow_data_table[1:end-1, 4])\n",
    "# # cashflow_data_table[end,5] = sum(cashflow_data_table[1:end-1, 5])\n",
    "\n",
    "# cashflow_table_header = ([\"Period\",\"Cashflow (CF) (USD)\", \"Discounted Cashflow (DCF) (PUSD)\", \"Cumulative DCF (PUSD)\", \"Alternative\"]);\n",
    "# pretty_table(cashflow_data_table, header = cashflow_table_header)"
   ]
  },
  {
   "cell_type": "markdown",
   "id": "85af49f0-3610-419b-91da-14f99fa82e9e",
   "metadata": {
    "tags": []
   },
   "source": [
    "### Example 2: Compute the price of a 2-year treasury note with annual coupon payments\n",
    "Compute the price of a 2-year treasury note with annual coupons with a coupon rate of 7% and a market rate of interest of 8%. The face value of the note is $V_{P}=$100 USD. We expect a price of $V_{B}$ = 98.22 USD. This example was reproduced from [FINA 635 course, Department of Finance at the C.T. Bauer College of Business, University of Houston](https://www.bauer.uh.edu/nlangberg/teaching_files/Fall2010/class%205_2008sum.pdf)\n",
    "\n",
    "This example is similar to Example 1. However, the duration is shorter ($T = 2.0$ instead of $T = 5.0$), and the T-Note has a single coupon payment per year; thus, $\\lambda = 1$. We use the shortcut syntax to compute the price:"
   ]
  },
  {
   "cell_type": "code",
   "execution_count": 15,
   "id": "e349c860-9002-47ae-91b8-b077d56f5239",
   "metadata": {},
   "outputs": [
    {
     "name": "stdout",
     "output_type": "stream",
     "text": [
      "┌────────────┬─────────────┐\n",
      "│\u001b[1m            \u001b[0m│\u001b[1m Value (USD) \u001b[0m│\n",
      "├────────────┼─────────────┤\n",
      "│   Reported │       98.22 │\n",
      "│ Calculated │     98.2167 │\n",
      "└────────────┴─────────────┘\n"
     ]
    }
   ],
   "source": [
    "# Setup parameters for this example\n",
    "Vₚ,T,r,c,λ = 100.0,2.0,0.08,0.07,1\n",
    "\n",
    "# Build model, and compute the price\n",
    "model = build(MyUSTreasuryCouponSecurityModel, (\n",
    "            par = Vₚ, T = T, rate = r, coupon = c, λ = λ\n",
    "        )) |> (x -> price(x, Vₚ = Vₚ));\n",
    "\n",
    "# Make a table using the PrettyTable package -\n",
    "example_2_data_array = Array{Any,2}(undef, 2,2);\n",
    "example_2_data_array[1,1] = \"Reported\"\n",
    "example_2_data_array[1,2] = \"98.22\"\n",
    "example_2_data_array[2,1] = \"Calculated\"\n",
    "example_2_data_array[2,2] = model.price\n",
    "\n",
    "example_2_header_data = ([\"\",\"Value (USD)\"]);\n",
    "pretty_table(example_2_data_array, header=example_2_header_data);"
   ]
  },
  {
   "cell_type": "markdown",
   "id": "a09973ab-bd6b-488f-97fb-48d3ce91995e",
   "metadata": {
    "tags": []
   },
   "source": [
    "### Example 3: Comparison of the calculated 30-year treasury bond price with historical data\n",
    "The data for this example was reproduced from the [Treasury Notes & Bonds Historical Information page on Treasury.gov](https://treasurydirect.gov/auctions/announcements-data-results/announcement-results-press-releases/previous-announcements-and-results/treasury-notes-bonds-historical-information/). The data consists of 30-year treasury bond information (coupon rate, market interest rate, and price) for bonds issued between 1977 and 1979.\n",
    "\n",
    "#### Strategy\n",
    "1. First, load the historical data set using the `loaddatafile` function, which returns the data as a [DataFrame](https://dataframes.juliadata.org/stable/). Key fields in the data:\n",
    "    * The `:CouponRate` field holds the data for the coupon interest rate (annualized rate as a percentage)\n",
    "    * The `:AverageYield` field holds the market rate of interest for the treasury bond (annualized rate as a percentage)\n",
    "    * The `:AveragePrice` field holds the price data for the 30-year treasury bond\n",
    "1. Next, we compute the price of the treasury bond for each bond in the data set. We iterate through the data set, grab the parameters for each bond and calculate the price using the shortcut syntax shown above.\n",
    "1. Last, we put the actual and computed prices in a table and calculate the percentage error of the estimate."
   ]
  },
  {
   "cell_type": "markdown",
   "id": "a118d423-8473-4ebf-b1c8-4fdfaefcfdcf",
   "metadata": {},
   "source": [
    "##### Load the data set"
   ]
  },
  {
   "cell_type": "code",
   "execution_count": 6,
   "id": "a656f9d8-c4df-4843-a6bd-85369318dfbc",
   "metadata": {},
   "outputs": [],
   "source": [
    "# Set the path to data file, and load the data -\n",
    "path_to_data_file = joinpath(_PATH_TO_DATA, \"Data-30-yr-USTreasury-1977-1979.csv\");\n",
    "dataset = loaddatafile(path_to_data_file);"
   ]
  },
  {
   "cell_type": "markdown",
   "id": "5f5f8211-1e7b-4262-9b3b-ceec3a1cb9bb",
   "metadata": {},
   "source": [
    "##### Process each record (row) in the historical data set"
   ]
  },
  {
   "cell_type": "code",
   "execution_count": 7,
   "id": "ef8ab2b0-f27b-4716-8c8e-e40e316d8a72",
   "metadata": {},
   "outputs": [],
   "source": [
    "# Parameters that do NOT change between records -\n",
    "T = 30.0;\n",
    "λ = 2;\n",
    "Vₚ = 100.0;\n",
    "\n",
    "# get the number of records in the dataset -\n",
    "number_of_records = nrow(dataset);\n",
    "\n",
    "# Initialize some storage for the models, and process each data record -\n",
    "bonds = Array{MyUSTreasuryCouponSecurityModel,1}(undef,number_of_records);\n",
    "for i ∈ 1:number_of_records\n",
    "    \n",
    "    # get the data from the data frame for this record (data is in percentage)\n",
    "    c = dataset[i,:CouponRate]*(1/100);\n",
    "    r = dataset[i,:AverageYield]*(1/100);\n",
    "    \n",
    "    # build the model, and compute the price\n",
    "    model = build(MyUSTreasuryCouponSecurityModel, (\n",
    "            par = Vₚ, T = T, rate = r, coupon = c, λ = λ\n",
    "        )) |> (x -> price(x, Vₚ = Vₚ));\n",
    "    \n",
    "    # store the model -\n",
    "    bonds[i] = model;\n",
    "end"
   ]
  },
  {
   "cell_type": "markdown",
   "id": "9af796da-7b96-4b90-8d2d-eba4113efada",
   "metadata": {},
   "source": [
    "##### Build a comparison table"
   ]
  },
  {
   "cell_type": "code",
   "execution_count": 16,
   "id": "4e55854a-03b6-4c60-8d07-c6316e2b253b",
   "metadata": {},
   "outputs": [
    {
     "ename": "LoadError",
     "evalue": "BoundsError: attempt to access 6-element Vector{String} at index [7]",
     "output_type": "error",
     "traceback": [
      "BoundsError: attempt to access 6-element Vector{String} at index [7]",
      "",
      "Stacktrace:",
      "  [1] getindex(A::Vector{String}, i1::Int64)",
      "    @ Base ./essentials.jl:13",
      "  [2] _get_element(ptable::PrettyTables.ProcessedTable, i::Int64, j::Int64)",
      "    @ PrettyTables ~/.julia/packages/PrettyTables/i0nPB/src/processed_table/get.jl:229",
      "  [3] _fill_matrix_data!(io::IOContext{Base.PipeEndpoint}, table_str::Matrix{Vector{String}}, ptable::PrettyTables.ProcessedTable, actual_columns_width::Vector{Int64}, display::PrettyTables.Display, formatters::Ref{Any}, num_lines_in_row::Vector{Int64}, autowrap::Bool, cell_first_line_only::Bool, columns_width::Vector{Int64}, compact_printing::Bool, crop_subheader::Bool, limit_printing::Bool, linebreaks::Bool, maximum_columns_width::Vector{Int64}, minimum_columns_width::Vector{Int64}, renderer::Val{:print}, vcrop_mode::Symbol)",
      "    @ PrettyTables ~/.julia/packages/PrettyTables/i0nPB/src/backends/text/fill.jl:86",
      "  [4] _pt_text(io::IOContext{Base.PipeEndpoint}, pinfo::PrettyTables.PrintInfo; alignment_anchor_fallback::Symbol, alignment_anchor_fallback_override::Dict{Int64, Symbol}, alignment_anchor_regex::Dict{Int64, Vector{Regex}}, autowrap::Bool, body_hlines::Vector{Int64}, body_hlines_format::Nothing, continuation_row_alignment::Symbol, crop::Symbol, crop_subheader::Bool, columns_width::Int64, display_size::Tuple{Int64, Int64}, equal_columns_width::Bool, ellipsis_line_skip::Int64, highlighters::Tuple{}, hlines::Nothing, linebreaks::Bool, maximum_columns_width::Int64, minimum_columns_width::Int64, newline_at_end::Bool, overwrite::Bool, reserved_display_lines::Int64, show_omitted_cell_summary::Bool, sortkeys::Bool, tf::TextFormat, title_autowrap::Bool, title_same_width_as_table::Bool, vcrop_mode::Symbol, vlines::Nothing, border_crayon::Crayon, header_crayon::Crayon, omitted_cell_summary_crayon::Crayon, row_label_crayon::Crayon, row_label_header_crayon::Crayon, row_number_header_crayon::Crayon, subheader_crayon::Crayon, text_crayon::Crayon, title_crayon::Crayon)",
      "    @ PrettyTables ~/.julia/packages/PrettyTables/i0nPB/src/backends/text/print.jl:212",
      "  [5] _pt_text(io::IOContext{Base.PipeEndpoint}, pinfo::PrettyTables.PrintInfo)",
      "    @ PrettyTables ~/.julia/packages/PrettyTables/i0nPB/src/backends/text/print.jl:11",
      "  [6] _pt(io::IO, data::Matrix{Any}; alignment::Symbol, backend::Val{:auto}, cell_alignment::Nothing, cell_first_line_only::Bool, compact_printing::Bool, formatters::Nothing, header::Tuple{Vector{String}, Vector{String}}, header_alignment::Symbol, header_cell_alignment::Nothing, limit_printing::Bool, max_num_of_columns::Int64, max_num_of_rows::Int64, renderer::Symbol, row_labels::Nothing, row_label_alignment::Symbol, row_label_column_title::String, row_number_alignment::Symbol, row_number_column_title::String, show_header::Bool, show_row_number::Bool, show_subheader::Bool, title::String, title_alignment::Symbol, kwargs::Base.Pairs{Symbol, Union{}, Tuple{}, NamedTuple{(), Tuple{}}})",
      "    @ PrettyTables ~/.julia/packages/PrettyTables/i0nPB/src/private.jl:432",
      "  [7] _pt",
      "    @ ~/.julia/packages/PrettyTables/i0nPB/src/private.jl:296 [inlined]",
      "  [8] #_pretty_table#68",
      "    @ ~/.julia/packages/PrettyTables/i0nPB/src/private.jl:290 [inlined]",
      "  [9] _pretty_table",
      "    @ ~/.julia/packages/PrettyTables/i0nPB/src/private.jl:265 [inlined]",
      " [10] #pretty_table#60",
      "    @ ~/.julia/packages/PrettyTables/i0nPB/src/print.jl:702 [inlined]",
      " [11] top-level scope",
      "    @ In[16]:33"
     ]
    }
   ],
   "source": [
    "# initialize -\n",
    "example_3_data_array = Array{Any,2}(undef, number_of_records, 7);\n",
    "example_3_header_array = ([\"Date\",\"Duration\",\"Coupon\",\"Yield\", \"Average Price Actual\", \"Price Computed\", \"Error\"],\n",
    "    [\"MM/DD/YY\",\"yr\",\"%\",\"%\",\"USD\",\"USD\",\"%\"]);\n",
    "\n",
    "# populate the table -\n",
    "for i ∈ 1:number_of_records\n",
    "    \n",
    "    # get computed -\n",
    "    model = bonds[i];\n",
    "    \n",
    "    # get data from data set, and model array -\n",
    "    date = dataset[i,:AuctionDate];\n",
    "    c = dataset[i,:CouponRate]\n",
    "    r = dataset[i,:AverageYield]\n",
    "    p = dataset[i,:AveragePrice];\n",
    "    p̂ = model.price\n",
    "    \n",
    "    # compute error -\n",
    "    ϵ = ((p - p̂)/p)*100.0\n",
    "    \n",
    "    # put it into the table array -\n",
    "    example_3_data_array[i,1] = date\n",
    "    example_3_data_array[i,2] = T\n",
    "    example_3_data_array[i,3] = c\n",
    "    example_3_data_array[i,4] = r\n",
    "    example_3_data_array[i,5] = p\n",
    "    example_3_data_array[i,6] = p̂\n",
    "    example_3_data_array[i,7] = ϵ\n",
    "end\n",
    "\n",
    "# display the table -\n",
    "pretty_table(example_3_data_array, header=example_3_header_array)"
   ]
  },
  {
   "cell_type": "markdown",
   "id": "26fe6d8d-57c9-4df9-8123-320cc41f5311",
   "metadata": {},
   "source": [
    "## Task 2: Computing the Yield to Maturity (YTM) for 30-year treasury bonds\n",
    "The Yield to Maturity (YTM) of a treasury bond is the internal rate of return (IRR) associated with buying and holding a bond until its maturity date. When the bond is initially auctioned (primary market), the YTM and the effective market rate of interest are equal. However, bond can be purchased on the [secondary treasury bond market](https://www.investopedia.com/articles/bonds/08/treasuries-fed.asp#:~:text=For%20many%20people%2C%20TreasuryDirect%20is,convenience%20and%20liquidity%20than%20TreasuryDirect)."
   ]
  },
  {
   "cell_type": "code",
   "execution_count": null,
   "id": "3df0387b-80c8-4287-80d2-2db20dcdeb70",
   "metadata": {},
   "outputs": [],
   "source": []
  }
 ],
 "metadata": {
  "kernelspec": {
   "display_name": "Julia 1.9.0",
   "language": "julia",
   "name": "julia-1.9"
  },
  "language_info": {
   "file_extension": ".jl",
   "mimetype": "application/julia",
   "name": "julia",
   "version": "1.9.0"
  }
 },
 "nbformat": 4,
 "nbformat_minor": 5
}
