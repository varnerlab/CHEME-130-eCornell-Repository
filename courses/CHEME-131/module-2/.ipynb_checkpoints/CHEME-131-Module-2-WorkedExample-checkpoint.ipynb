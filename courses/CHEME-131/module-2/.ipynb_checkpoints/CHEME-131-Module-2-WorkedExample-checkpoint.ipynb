{
 "cells": [
  {
   "cell_type": "markdown",
   "id": "cea547a1-fc7b-492a-bb49-53031009b2b2",
   "metadata": {},
   "source": [
    "# Example: Computing the Price of United States Treasury Notes and Bonds\n",
    "United States Treasury Notes or Bonds are a type of fixed-income debt security that investors can buy and sell on the market. When an investor purchases a note or bond, they receive periodic coupon payments during the lifetime of the security. At the termination of the bond, the investor receives a defined amount, called the face or par value. \n",
    "\n",
    "The price of a Treasury note or bond with an effective yield of $\\bar{r}$, $\\lambda$ coupon payments per year, and a term of `T`-years is determined at auction and is denoted as $V_{B}$. The price $V_{B}$ is calculated by adding the discounted future coupon payments $C$ to the face (par) value $V_{P}$ of the note (bond), such that the net present value (NPV) of the note (bond) is zero.\n",
    "\n",
    "\\begin{equation}\n",
    "\\text{NPV}(T,r) = -V_{B} + \\mathcal{D}^{-1}_{N,0}(\\bar{r})\\cdot{V_{P}}+C\\cdot\\sum_{j=1}^{\\lambda{T}}\\mathcal{D}_{j,0}^{-1}(\\bar{r}) = 0\n",
    "\\end{equation}\n",
    "\n",
    "or equivalently:\n",
    "\n",
    "\\begin{equation}\n",
    "V_{B}(T,\\bar{r},\\bar{c}) = \\mathcal{D}^{-1}_{N,0}(\\bar{r})\\cdot{V_{P}}+C\\cdot\\sum_{j=1}^{\\lambda{T}}\\mathcal{D}_{j,0}^{-1}(\\bar{r})\n",
    "\\end{equation}\n",
    "\n",
    "The term $\\mathcal{D}_{i,0}^{-1}(\\bar{r})$ is the inverse of the multistep discount factor for the period \n",
    "$0\\rightarrow{i}$, and $C=\\left(\\bar{c}/\\lambda\\right)\\cdot{V_{P}}$ denotes the coupon payment, \n",
    "where $\\bar{c}$ is the coupon rate, and $N = \\lambda{T}$ is the number of coupon payments. \n",
    "For notes (or bonds), the interest is typically compounded $\\lambda$-times per year. \n",
    "Thus, a typical discrete discount factor takes the form:\n",
    "\n",
    "$$\n",
    "\\mathcal{D}_{j,0}(\\bar{r}) = \\left(1+\\frac{\\bar{r}}{\\lambda}\\right)^{j}\n",
    "$$\n",
    "\n",
    "## Learning objectives\n",
    "In this example, students will be familiarized with calculating the prices of United States Treasury Notes and Bonds, coupon-bearing fixed-income marketable debt securities offered by the United States government. First, we'll compute the prices of notes and bonds observed at auction, and then we'll look at how the payout of notes and bonds changes with different parameters (coupon rate, yield, and time to maturity)."
   ]
  },
  {
   "cell_type": "markdown",
   "id": "15319cca-0619-49a9-b8ed-649de43f734f",
   "metadata": {},
   "source": [
    "## Setup\n",
    "We load the [VLQuantitativeFinancePackage.jl](https://github.com/varnerlab/VLQuantitativeFinancePackage.jl) package, and several other external [Julia](https://julialang.org/downloads/https://julialang.org/downloads/) packages, as well as some helper code, by calling the [include(...)](https://docs.julialang.org/en/v1/manual/code-loading/https://docs.julialang.org/en/v1/manual/code-loading/) command on the file `Include.jl`:"
   ]
  },
  {
   "cell_type": "code",
   "execution_count": 1,
   "id": "eb237047-3ab8-4d5e-9679-8c9f2cd5177f",
   "metadata": {
    "tags": []
   },
   "outputs": [
    {
     "name": "stderr",
     "output_type": "stream",
     "text": [
      "\u001b[32m\u001b[1m    Updating\u001b[22m\u001b[39m git-repo `https://github.com/varnerlab/VLQuantitativeFinancePackage.jl.git`\n",
      "\u001b[32m\u001b[1m   Resolving\u001b[22m\u001b[39m package versions...\n",
      "\u001b[32m\u001b[1m  No Changes\u001b[22m\u001b[39m to `~/Desktop/julia_work/CHEME-130-eCornell-Repository/courses/CHEME-131/module-2/Project.toml`\n",
      "\u001b[32m\u001b[1m  No Changes\u001b[22m\u001b[39m to `~/Desktop/julia_work/CHEME-130-eCornell-Repository/courses/CHEME-131/module-2/Manifest.toml`\n",
      "\u001b[32m\u001b[1m  Activating\u001b[22m\u001b[39m project at `~/Desktop/julia_work/CHEME-130-eCornell-Repository/courses/CHEME-131/module-2`\n",
      "\u001b[32m\u001b[1m  No Changes\u001b[22m\u001b[39m to `~/Desktop/julia_work/CHEME-130-eCornell-Repository/courses/CHEME-131/module-2/Project.toml`\n",
      "\u001b[32m\u001b[1m  No Changes\u001b[22m\u001b[39m to `~/Desktop/julia_work/CHEME-130-eCornell-Repository/courses/CHEME-131/module-2/Manifest.toml`\n",
      "\u001b[32m\u001b[1m    Updating\u001b[22m\u001b[39m registry at `~/.julia/registries/General.toml`\n",
      "\u001b[32m\u001b[1m    Updating\u001b[22m\u001b[39m git-repo `https://github.com/varnerlab/VLQuantitativeFinancePackage.jl.git`\n",
      "\u001b[32m\u001b[1m  No Changes\u001b[22m\u001b[39m to `~/Desktop/julia_work/CHEME-130-eCornell-Repository/courses/CHEME-131/module-2/Project.toml`\n",
      "\u001b[32m\u001b[1m  No Changes\u001b[22m\u001b[39m to `~/Desktop/julia_work/CHEME-130-eCornell-Repository/courses/CHEME-131/module-2/Manifest.toml`\n"
     ]
    }
   ],
   "source": [
    "include(\"Include.jl\");"
   ]
  },
  {
   "cell_type": "markdown",
   "id": "72341122-68c4-48fe-94ce-b38e2929647b",
   "metadata": {},
   "source": [
    "### Data\n",
    "We'll explore `T-note` and `T-bond` prices from United States Treasury auctions in `2022` and `2023` downloaded using the [Auction query functionality of TreasuryDirect.gov](https://www.treasurydirect.gov/auctions/auction-query/). We load the `CSV` dataset using the `MyTreasuryNotesAndBondsDataSet()` function, which returns the auction data as a `DataFrame`:"
   ]
  },
  {
   "cell_type": "code",
   "execution_count": 2,
   "id": "a1633308-f031-411f-9a99-b36092d99e4b",
   "metadata": {
    "tags": []
   },
   "outputs": [
    {
     "data": {
      "text/html": [
       "<div><div style = \"float: left;\"><span>59×9 DataFrame</span></div><div style = \"float: right;\"><span style = \"font-style: italic;\">34 rows omitted</span></div><div style = \"clear: both;\"></div></div><div class = \"data-frame\" style = \"overflow-x: scroll;\"><table class = \"data-frame\" style = \"margin-bottom: 6px;\"><thead><tr class = \"header\"><th class = \"rowNumber\" style = \"font-weight: bold; text-align: right;\">Row</th><th style = \"text-align: left;\">CUSIP</th><th style = \"text-align: left;\">Security Type</th><th style = \"text-align: left;\">Security Term</th><th style = \"text-align: left;\">Auction Date</th><th style = \"text-align: left;\">Issue Date</th><th style = \"text-align: left;\">Maturity Date</th><th style = \"text-align: left;\">Price</th><th style = \"text-align: left;\">High Yield</th><th style = \"text-align: left;\">Interest Rate</th></tr><tr class = \"subheader headerLastRow\"><th class = \"rowNumber\" style = \"font-weight: bold; text-align: right;\"></th><th title = \"String15\" style = \"text-align: left;\">String15</th><th title = \"String7\" style = \"text-align: left;\">String7</th><th title = \"String7\" style = \"text-align: left;\">String7</th><th title = \"String15\" style = \"text-align: left;\">String15</th><th title = \"String15\" style = \"text-align: left;\">String15</th><th title = \"String15\" style = \"text-align: left;\">String15</th><th title = \"Float64\" style = \"text-align: left;\">Float64</th><th title = \"Float64\" style = \"text-align: left;\">Float64</th><th title = \"Float64\" style = \"text-align: left;\">Float64</th></tr></thead><tbody><tr><td class = \"rowNumber\" style = \"font-weight: bold; text-align: right;\">1</td><td style = \"text-align: left;\">91282CHW4</td><td style = \"text-align: left;\">Note</td><td style = \"text-align: left;\">7-Year</td><td style = \"text-align: left;\">08/29/2023</td><td style = \"text-align: left;\">08/31/2023</td><td style = \"text-align: left;\">08/31/2030</td><td style = \"text-align: right;\">99.4773</td><td style = \"text-align: right;\">0.04212</td><td style = \"text-align: right;\">0.04125</td></tr><tr><td class = \"rowNumber\" style = \"font-weight: bold; text-align: right;\">2</td><td style = \"text-align: left;\">91282CHV6</td><td style = \"text-align: left;\">Note</td><td style = \"text-align: left;\">2-Year</td><td style = \"text-align: left;\">08/28/2023</td><td style = \"text-align: left;\">08/31/2023</td><td style = \"text-align: left;\">08/31/2025</td><td style = \"text-align: right;\">99.9549</td><td style = \"text-align: right;\">0.05024</td><td style = \"text-align: right;\">0.05</td></tr><tr><td class = \"rowNumber\" style = \"font-weight: bold; text-align: right;\">3</td><td style = \"text-align: left;\">91282CHX2</td><td style = \"text-align: left;\">Note</td><td style = \"text-align: left;\">5-Year</td><td style = \"text-align: left;\">08/28/2023</td><td style = \"text-align: left;\">08/31/2023</td><td style = \"text-align: left;\">08/31/2028</td><td style = \"text-align: right;\">99.8889</td><td style = \"text-align: right;\">0.044</td><td style = \"text-align: right;\">0.04375</td></tr><tr><td class = \"rowNumber\" style = \"font-weight: bold; text-align: right;\">4</td><td style = \"text-align: left;\">912810TU2</td><td style = \"text-align: left;\">Bond</td><td style = \"text-align: left;\">20-Year</td><td style = \"text-align: left;\">08/23/2023</td><td style = \"text-align: left;\">08/31/2023</td><td style = \"text-align: left;\">08/15/2043</td><td style = \"text-align: right;\">98.3742</td><td style = \"text-align: right;\">0.04499</td><td style = \"text-align: right;\">0.04375</td></tr><tr><td class = \"rowNumber\" style = \"font-weight: bold; text-align: right;\">5</td><td style = \"text-align: left;\">912810TT5</td><td style = \"text-align: left;\">Bond</td><td style = \"text-align: left;\">30-Year</td><td style = \"text-align: left;\">08/10/2023</td><td style = \"text-align: left;\">08/15/2023</td><td style = \"text-align: left;\">08/15/2053</td><td style = \"text-align: right;\">98.9127</td><td style = \"text-align: right;\">0.04189</td><td style = \"text-align: right;\">0.04125</td></tr><tr><td class = \"rowNumber\" style = \"font-weight: bold; text-align: right;\">6</td><td style = \"text-align: left;\">91282CHT1</td><td style = \"text-align: left;\">Note</td><td style = \"text-align: left;\">10-Year</td><td style = \"text-align: left;\">08/09/2023</td><td style = \"text-align: left;\">08/15/2023</td><td style = \"text-align: left;\">08/15/2033</td><td style = \"text-align: right;\">98.9862</td><td style = \"text-align: right;\">0.03999</td><td style = \"text-align: right;\">0.03875</td></tr><tr><td class = \"rowNumber\" style = \"font-weight: bold; text-align: right;\">7</td><td style = \"text-align: left;\">91282CHU8</td><td style = \"text-align: left;\">Note</td><td style = \"text-align: left;\">3-Year</td><td style = \"text-align: left;\">08/08/2023</td><td style = \"text-align: left;\">08/15/2023</td><td style = \"text-align: left;\">08/15/2026</td><td style = \"text-align: right;\">99.936</td><td style = \"text-align: right;\">0.04398</td><td style = \"text-align: right;\">0.04375</td></tr><tr><td class = \"rowNumber\" style = \"font-weight: bold; text-align: right;\">8</td><td style = \"text-align: left;\">91282CHR5</td><td style = \"text-align: left;\">Note</td><td style = \"text-align: left;\">7-Year</td><td style = \"text-align: left;\">07/27/2023</td><td style = \"text-align: left;\">07/31/2023</td><td style = \"text-align: left;\">07/31/2030</td><td style = \"text-align: right;\">99.475</td><td style = \"text-align: right;\">0.04087</td><td style = \"text-align: right;\">0.04</td></tr><tr><td class = \"rowNumber\" style = \"font-weight: bold; text-align: right;\">9</td><td style = \"text-align: left;\">91282CHQ7</td><td style = \"text-align: left;\">Note</td><td style = \"text-align: left;\">5-Year</td><td style = \"text-align: left;\">07/25/2023</td><td style = \"text-align: left;\">07/31/2023</td><td style = \"text-align: left;\">07/31/2028</td><td style = \"text-align: right;\">99.7988</td><td style = \"text-align: right;\">0.0417</td><td style = \"text-align: right;\">0.04125</td></tr><tr><td class = \"rowNumber\" style = \"font-weight: bold; text-align: right;\">10</td><td style = \"text-align: left;\">91282CHN4</td><td style = \"text-align: left;\">Note</td><td style = \"text-align: left;\">2-Year</td><td style = \"text-align: left;\">07/24/2023</td><td style = \"text-align: left;\">07/31/2023</td><td style = \"text-align: left;\">07/31/2025</td><td style = \"text-align: right;\">99.8624</td><td style = \"text-align: right;\">0.04823</td><td style = \"text-align: right;\">0.0475</td></tr><tr><td class = \"rowNumber\" style = \"font-weight: bold; text-align: right;\">11</td><td style = \"text-align: left;\">91282CHP9</td><td style = \"text-align: left;\">Note</td><td style = \"text-align: left;\">10-Year</td><td style = \"text-align: left;\">07/20/2023</td><td style = \"text-align: left;\">07/31/2023</td><td style = \"text-align: left;\">07/15/2033</td><td style = \"text-align: right;\">99.0219</td><td style = \"text-align: right;\">0.01495</td><td style = \"text-align: right;\">0.01375</td></tr><tr><td class = \"rowNumber\" style = \"font-weight: bold; text-align: right;\">12</td><td style = \"text-align: left;\">91282CHM6</td><td style = \"text-align: left;\">Note</td><td style = \"text-align: left;\">3-Year</td><td style = \"text-align: left;\">07/11/2023</td><td style = \"text-align: left;\">07/17/2023</td><td style = \"text-align: left;\">07/15/2026</td><td style = \"text-align: right;\">99.9052</td><td style = \"text-align: right;\">0.04534</td><td style = \"text-align: right;\">0.045</td></tr><tr><td class = \"rowNumber\" style = \"font-weight: bold; text-align: right;\">13</td><td style = \"text-align: left;\">91282CHJ3</td><td style = \"text-align: left;\">Note</td><td style = \"text-align: left;\">7-Year</td><td style = \"text-align: left;\">06/28/2023</td><td style = \"text-align: left;\">06/30/2023</td><td style = \"text-align: left;\">06/30/2030</td><td style = \"text-align: right;\">99.4582</td><td style = \"text-align: right;\">0.03839</td><td style = \"text-align: right;\">0.0375</td></tr><tr><td style = \"text-align: right;\">&vellip;</td><td style = \"text-align: right;\">&vellip;</td><td style = \"text-align: right;\">&vellip;</td><td style = \"text-align: right;\">&vellip;</td><td style = \"text-align: right;\">&vellip;</td><td style = \"text-align: right;\">&vellip;</td><td style = \"text-align: right;\">&vellip;</td><td style = \"text-align: right;\">&vellip;</td><td style = \"text-align: right;\">&vellip;</td><td style = \"text-align: right;\">&vellip;</td></tr><tr><td class = \"rowNumber\" style = \"font-weight: bold; text-align: right;\">48</td><td style = \"text-align: left;\">91282CFY2</td><td style = \"text-align: left;\">Note</td><td style = \"text-align: left;\">7-Year</td><td style = \"text-align: left;\">11/22/2022</td><td style = \"text-align: left;\">11/30/2022</td><td style = \"text-align: left;\">11/30/2029</td><td style = \"text-align: right;\">99.9089</td><td style = \"text-align: right;\">0.0389</td><td style = \"text-align: right;\">0.03875</td></tr><tr><td class = \"rowNumber\" style = \"font-weight: bold; text-align: right;\">49</td><td style = \"text-align: left;\">91282CFX4</td><td style = \"text-align: left;\">Note</td><td style = \"text-align: left;\">2-Year</td><td style = \"text-align: left;\">11/21/2022</td><td style = \"text-align: left;\">11/30/2022</td><td style = \"text-align: left;\">11/30/2024</td><td style = \"text-align: right;\">99.9905</td><td style = \"text-align: right;\">0.04505</td><td style = \"text-align: right;\">0.045</td></tr><tr><td class = \"rowNumber\" style = \"font-weight: bold; text-align: right;\">50</td><td style = \"text-align: left;\">91282CFZ9</td><td style = \"text-align: left;\">Note</td><td style = \"text-align: left;\">5-Year</td><td style = \"text-align: left;\">11/21/2022</td><td style = \"text-align: left;\">11/30/2022</td><td style = \"text-align: left;\">11/30/2027</td><td style = \"text-align: right;\">99.5551</td><td style = \"text-align: right;\">0.03974</td><td style = \"text-align: right;\">0.03875</td></tr><tr><td class = \"rowNumber\" style = \"font-weight: bold; text-align: right;\">51</td><td style = \"text-align: left;\">912810TM0</td><td style = \"text-align: left;\">Bond</td><td style = \"text-align: left;\">20-Year</td><td style = \"text-align: left;\">11/16/2022</td><td style = \"text-align: left;\">11/30/2022</td><td style = \"text-align: left;\">11/15/2042</td><td style = \"text-align: right;\">99.0197</td><td style = \"text-align: right;\">0.04072</td><td style = \"text-align: right;\">0.04</td></tr><tr><td class = \"rowNumber\" style = \"font-weight: bold; text-align: right;\">52</td><td style = \"text-align: left;\">912810TL2</td><td style = \"text-align: left;\">Bond</td><td style = \"text-align: left;\">30-Year</td><td style = \"text-align: left;\">11/10/2022</td><td style = \"text-align: left;\">11/15/2022</td><td style = \"text-align: left;\">11/15/2052</td><td style = \"text-align: right;\">98.6229</td><td style = \"text-align: right;\">0.0408</td><td style = \"text-align: right;\">0.04</td></tr><tr><td class = \"rowNumber\" style = \"font-weight: bold; text-align: right;\">53</td><td style = \"text-align: left;\">91282CFV8</td><td style = \"text-align: left;\">Note</td><td style = \"text-align: left;\">10-Year</td><td style = \"text-align: left;\">11/09/2022</td><td style = \"text-align: left;\">11/15/2022</td><td style = \"text-align: left;\">11/15/2032</td><td style = \"text-align: right;\">99.8782</td><td style = \"text-align: right;\">0.0414</td><td style = \"text-align: right;\">0.04125</td></tr><tr><td class = \"rowNumber\" style = \"font-weight: bold; text-align: right;\">54</td><td style = \"text-align: left;\">91282CFW6</td><td style = \"text-align: left;\">Note</td><td style = \"text-align: left;\">3-Year</td><td style = \"text-align: left;\">11/08/2022</td><td style = \"text-align: left;\">11/15/2022</td><td style = \"text-align: left;\">11/15/2025</td><td style = \"text-align: right;\">99.7089</td><td style = \"text-align: right;\">0.04605</td><td style = \"text-align: right;\">0.045</td></tr><tr><td class = \"rowNumber\" style = \"font-weight: bold; text-align: right;\">55</td><td style = \"text-align: left;\">91282CFT3</td><td style = \"text-align: left;\">Note</td><td style = \"text-align: left;\">7-Year</td><td style = \"text-align: left;\">10/27/2022</td><td style = \"text-align: left;\">10/31/2022</td><td style = \"text-align: left;\">10/31/2029</td><td style = \"text-align: right;\">99.8367</td><td style = \"text-align: right;\">0.04027</td><td style = \"text-align: right;\">0.04</td></tr><tr><td class = \"rowNumber\" style = \"font-weight: bold; text-align: right;\">56</td><td style = \"text-align: left;\">91282CFU0</td><td style = \"text-align: left;\">Note</td><td style = \"text-align: left;\">5-Year</td><td style = \"text-align: left;\">10/26/2022</td><td style = \"text-align: left;\">10/31/2022</td><td style = \"text-align: left;\">10/31/2027</td><td style = \"text-align: right;\">99.7006</td><td style = \"text-align: right;\">0.04192</td><td style = \"text-align: right;\">0.04125</td></tr><tr><td class = \"rowNumber\" style = \"font-weight: bold; text-align: right;\">57</td><td style = \"text-align: left;\">91282CFQ9</td><td style = \"text-align: left;\">Note</td><td style = \"text-align: left;\">2-Year</td><td style = \"text-align: left;\">10/25/2022</td><td style = \"text-align: left;\">10/31/2022</td><td style = \"text-align: left;\">10/31/2024</td><td style = \"text-align: right;\">99.8391</td><td style = \"text-align: right;\">0.0446</td><td style = \"text-align: right;\">0.04375</td></tr><tr><td class = \"rowNumber\" style = \"font-weight: bold; text-align: right;\">58</td><td style = \"text-align: left;\">91282CFR7</td><td style = \"text-align: left;\">Note</td><td style = \"text-align: left;\">5-Year</td><td style = \"text-align: left;\">10/20/2022</td><td style = \"text-align: left;\">10/31/2022</td><td style = \"text-align: left;\">10/15/2027</td><td style = \"text-align: right;\">99.4754</td><td style = \"text-align: right;\">0.01732</td><td style = \"text-align: right;\">0.01625</td></tr><tr><td class = \"rowNumber\" style = \"font-weight: bold; text-align: right;\">59</td><td style = \"text-align: left;\">91282CFP1</td><td style = \"text-align: left;\">Note</td><td style = \"text-align: left;\">3-Year</td><td style = \"text-align: left;\">10/11/2022</td><td style = \"text-align: left;\">10/17/2022</td><td style = \"text-align: left;\">10/15/2025</td><td style = \"text-align: right;\">99.8104</td><td style = \"text-align: right;\">0.04318</td><td style = \"text-align: right;\">0.0425</td></tr></tbody></table></div>"
      ],
      "text/latex": [
       "\\begin{tabular}{r|ccccccc}\n",
       "\t& CUSIP & Security Type & Security Term & Auction Date & Issue Date & Maturity Date & \\\\\n",
       "\t\\hline\n",
       "\t& String15 & String7 & String7 & String15 & String15 & String15 & \\\\\n",
       "\t\\hline\n",
       "\t1 & 91282CHW4 & Note & 7-Year & 08/29/2023 & 08/31/2023 & 08/31/2030 & $\\dots$ \\\\\n",
       "\t2 & 91282CHV6 & Note & 2-Year & 08/28/2023 & 08/31/2023 & 08/31/2025 & $\\dots$ \\\\\n",
       "\t3 & 91282CHX2 & Note & 5-Year & 08/28/2023 & 08/31/2023 & 08/31/2028 & $\\dots$ \\\\\n",
       "\t4 & 912810TU2 & Bond & 20-Year & 08/23/2023 & 08/31/2023 & 08/15/2043 & $\\dots$ \\\\\n",
       "\t5 & 912810TT5 & Bond & 30-Year & 08/10/2023 & 08/15/2023 & 08/15/2053 & $\\dots$ \\\\\n",
       "\t6 & 91282CHT1 & Note & 10-Year & 08/09/2023 & 08/15/2023 & 08/15/2033 & $\\dots$ \\\\\n",
       "\t7 & 91282CHU8 & Note & 3-Year & 08/08/2023 & 08/15/2023 & 08/15/2026 & $\\dots$ \\\\\n",
       "\t8 & 91282CHR5 & Note & 7-Year & 07/27/2023 & 07/31/2023 & 07/31/2030 & $\\dots$ \\\\\n",
       "\t9 & 91282CHQ7 & Note & 5-Year & 07/25/2023 & 07/31/2023 & 07/31/2028 & $\\dots$ \\\\\n",
       "\t10 & 91282CHN4 & Note & 2-Year & 07/24/2023 & 07/31/2023 & 07/31/2025 & $\\dots$ \\\\\n",
       "\t11 & 91282CHP9 & Note & 10-Year & 07/20/2023 & 07/31/2023 & 07/15/2033 & $\\dots$ \\\\\n",
       "\t12 & 91282CHM6 & Note & 3-Year & 07/11/2023 & 07/17/2023 & 07/15/2026 & $\\dots$ \\\\\n",
       "\t13 & 91282CHJ3 & Note & 7-Year & 06/28/2023 & 06/30/2023 & 06/30/2030 & $\\dots$ \\\\\n",
       "\t14 & 91282CHK0 & Note & 5-Year & 06/27/2023 & 06/30/2023 & 06/30/2028 & $\\dots$ \\\\\n",
       "\t15 & 91282CHL8 & Note & 2-Year & 06/26/2023 & 06/30/2023 & 06/30/2025 & $\\dots$ \\\\\n",
       "\t16 & 91282CHH7 & Note & 3-Year & 06/12/2023 & 06/15/2023 & 06/15/2026 & $\\dots$ \\\\\n",
       "\t17 & 91282CHF1 & Note & 7-Year & 05/25/2023 & 05/31/2023 & 05/31/2030 & $\\dots$ \\\\\n",
       "\t18 & 91282CHE4 & Note & 5-Year & 05/24/2023 & 05/31/2023 & 05/31/2028 & $\\dots$ \\\\\n",
       "\t19 & 91282CHD6 & Note & 2-Year & 05/23/2023 & 05/31/2023 & 05/31/2025 & $\\dots$ \\\\\n",
       "\t20 & 912810TS7 & Bond & 20-Year & 05/17/2023 & 05/31/2023 & 05/15/2043 & $\\dots$ \\\\\n",
       "\t21 & 912810TR9 & Bond & 30-Year & 05/11/2023 & 05/15/2023 & 05/15/2053 & $\\dots$ \\\\\n",
       "\t22 & 91282CHC8 & Note & 10-Year & 05/10/2023 & 05/15/2023 & 05/15/2033 & $\\dots$ \\\\\n",
       "\t23 & 91282CHB0 & Note & 3-Year & 05/09/2023 & 05/15/2023 & 05/15/2026 & $\\dots$ \\\\\n",
       "\t24 & 91282CGZ8 & Note & 7-Year & 04/27/2023 & 05/01/2023 & 04/30/2030 & $\\dots$ \\\\\n",
       "\t25 & 91282CHA2 & Note & 5-Year & 04/26/2023 & 05/01/2023 & 04/30/2028 & $\\dots$ \\\\\n",
       "\t26 & 91282CGX3 & Note & 2-Year & 04/25/2023 & 05/01/2023 & 04/30/2025 & $\\dots$ \\\\\n",
       "\t27 & 91282CGV7 & Note & 3-Year & 04/11/2023 & 04/17/2023 & 04/15/2026 & $\\dots$ \\\\\n",
       "\t28 & 91282CGS4 & Note & 7-Year & 03/29/2023 & 03/31/2023 & 03/31/2030 & $\\dots$ \\\\\n",
       "\t29 & 91282CGT2 & Note & 5-Year & 03/28/2023 & 03/31/2023 & 03/31/2028 & $\\dots$ \\\\\n",
       "\t30 & 91282CGU9 & Note & 2-Year & 03/27/2023 & 03/31/2023 & 03/31/2025 & $\\dots$ \\\\\n",
       "\t$\\dots$ & $\\dots$ & $\\dots$ & $\\dots$ & $\\dots$ & $\\dots$ & $\\dots$ &  \\\\\n",
       "\\end{tabular}\n"
      ],
      "text/plain": [
       "\u001b[1m59×9 DataFrame\u001b[0m\n",
       "\u001b[1m Row \u001b[0m│\u001b[1m CUSIP     \u001b[0m\u001b[1m Security Type \u001b[0m\u001b[1m Security Term \u001b[0m\u001b[1m Auction Date \u001b[0m\u001b[1m Issue Date \u001b[0m\u001b[1m Matu\u001b[0m ⋯\n",
       "     │\u001b[90m String15  \u001b[0m\u001b[90m String7       \u001b[0m\u001b[90m String7       \u001b[0m\u001b[90m String15     \u001b[0m\u001b[90m String15   \u001b[0m\u001b[90m Stri\u001b[0m ⋯\n",
       "─────┼──────────────────────────────────────────────────────────────────────────\n",
       "   1 │ 91282CHW4  Note           7-Year         08/29/2023    08/31/2023  08/3 ⋯\n",
       "   2 │ 91282CHV6  Note           2-Year         08/28/2023    08/31/2023  08/3\n",
       "   3 │ 91282CHX2  Note           5-Year         08/28/2023    08/31/2023  08/3\n",
       "   4 │ 912810TU2  Bond           20-Year        08/23/2023    08/31/2023  08/1\n",
       "   5 │ 912810TT5  Bond           30-Year        08/10/2023    08/15/2023  08/1 ⋯\n",
       "   6 │ 91282CHT1  Note           10-Year        08/09/2023    08/15/2023  08/1\n",
       "   7 │ 91282CHU8  Note           3-Year         08/08/2023    08/15/2023  08/1\n",
       "   8 │ 91282CHR5  Note           7-Year         07/27/2023    07/31/2023  07/3\n",
       "   9 │ 91282CHQ7  Note           5-Year         07/25/2023    07/31/2023  07/3 ⋯\n",
       "  10 │ 91282CHN4  Note           2-Year         07/24/2023    07/31/2023  07/3\n",
       "  11 │ 91282CHP9  Note           10-Year        07/20/2023    07/31/2023  07/1\n",
       "  ⋮  │     ⋮            ⋮              ⋮             ⋮            ⋮            ⋱\n",
       "  50 │ 91282CFZ9  Note           5-Year         11/21/2022    11/30/2022  11/3\n",
       "  51 │ 912810TM0  Bond           20-Year        11/16/2022    11/30/2022  11/1 ⋯\n",
       "  52 │ 912810TL2  Bond           30-Year        11/10/2022    11/15/2022  11/1\n",
       "  53 │ 91282CFV8  Note           10-Year        11/09/2022    11/15/2022  11/1\n",
       "  54 │ 91282CFW6  Note           3-Year         11/08/2022    11/15/2022  11/1\n",
       "  55 │ 91282CFT3  Note           7-Year         10/27/2022    10/31/2022  10/3 ⋯\n",
       "  56 │ 91282CFU0  Note           5-Year         10/26/2022    10/31/2022  10/3\n",
       "  57 │ 91282CFQ9  Note           2-Year         10/25/2022    10/31/2022  10/3\n",
       "  58 │ 91282CFR7  Note           5-Year         10/20/2022    10/31/2022  10/1\n",
       "  59 │ 91282CFP1  Note           3-Year         10/11/2022    10/17/2022  10/1 ⋯\n",
       "\u001b[36m                                                   4 columns and 38 rows omitted\u001b[0m"
      ]
     },
     "execution_count": 2,
     "metadata": {},
     "output_type": "execute_result"
    }
   ],
   "source": [
    "dataset = MyTreasuryNotesAndBondsDataSet()"
   ]
  },
  {
   "cell_type": "markdown",
   "id": "bd9d286b-eb72-4cb7-9a0b-7f7f60da9765",
   "metadata": {},
   "source": [
    "### Constants"
   ]
  },
  {
   "cell_type": "code",
   "execution_count": 3,
   "id": "294ef4b6-4f8a-447b-b037-d7218bbc3a62",
   "metadata": {
    "tags": []
   },
   "outputs": [],
   "source": [
    "number_of_records = nrow(dataset);\n",
    "number_of_samples = 3;\n",
    "β₁ = 0.8;\n",
    "β₂ = 1.2;\n",
    "β = range(β₁, stop = β₂, length = number_of_samples) |> collect;"
   ]
  },
  {
   "cell_type": "markdown",
   "id": "7e699072-678b-4998-ae5e-eeaeaf8723b4",
   "metadata": {},
   "source": [
    "## Objective 1: Compute the price of notes and bonds at auction\n",
    "\n",
    "We begin by building an instance of the `DiscreteCompoundingModel()` type and store this discount model in the `discount_model` variable:"
   ]
  },
  {
   "cell_type": "code",
   "execution_count": 4,
   "id": "d3fe9adf-b0b6-45f6-9898-04bb4564dbc9",
   "metadata": {
    "tags": []
   },
   "outputs": [],
   "source": [
    "discount_model = DiscreteCompoundingModel();"
   ]
  },
  {
   "cell_type": "markdown",
   "id": "91920ba9-c0ad-463d-9a34-3e12faaa2784",
   "metadata": {},
   "source": [
    "Next, we compute the price of treasury `notes` and `bonds` and compare the estimated cost with the price observed at auction. We process each entry in the `dataset` using a `for-loop`. During each iteration of the loop:\n",
    "\n",
    "* We get data from the `dataset` and update the model instance. In particular, we set the duration `T` field (which we convert to the number of years using the `securityterm` function), the yield field, i.e., the $\\bar{r}$ value in the discount rate, and coupon rate $c$.\n",
    "* Next, we compute the price of the `note (or bond)` on `L8` using the short-cut syntax and the discount model. \n",
    "* Finally, we calculate the percentage error between the estimated and observed price and store the data for each iteration in the `computed_price_table` DataFrame using the `push!(...)` function. Lastly, we store the populated model instance in the `security_dictionary` (keys are the index `i`, values are the populated model instances)"
   ]
  },
  {
   "cell_type": "code",
   "execution_count": 5,
   "id": "7de77c28-395e-49ca-abfe-23f4de25bc3d",
   "metadata": {
    "tags": []
   },
   "outputs": [
    {
     "data": {
      "text/html": [
       "<div><div style = \"float: left;\"><span>59×7 DataFrame</span></div><div style = \"float: right;\"><span style = \"font-style: italic;\">34 rows omitted</span></div><div style = \"clear: both;\"></div></div><div class = \"data-frame\" style = \"overflow-x: scroll;\"><table class = \"data-frame\" style = \"margin-bottom: 6px;\"><thead><tr class = \"header\"><th class = \"rowNumber\" style = \"font-weight: bold; text-align: right;\">Row</th><th style = \"text-align: left;\">CUSIP</th><th style = \"text-align: left;\">term</th><th style = \"text-align: left;\">rate</th><th style = \"text-align: left;\">coupon</th><th style = \"text-align: left;\">computed</th><th style = \"text-align: left;\">actual</th><th style = \"text-align: left;\">percent_error</th></tr><tr class = \"subheader headerLastRow\"><th class = \"rowNumber\" style = \"font-weight: bold; text-align: right;\"></th><th title = \"String15\" style = \"text-align: left;\">String15</th><th title = \"String7\" style = \"text-align: left;\">String7</th><th title = \"Float64\" style = \"text-align: left;\">Float64</th><th title = \"Float64\" style = \"text-align: left;\">Float64</th><th title = \"Float64\" style = \"text-align: left;\">Float64</th><th title = \"Float64\" style = \"text-align: left;\">Float64</th><th title = \"Float64\" style = \"text-align: left;\">Float64</th></tr></thead><tbody><tr><td class = \"rowNumber\" style = \"font-weight: bold; text-align: right;\">1</td><td style = \"text-align: left;\">91282CHW4</td><td style = \"text-align: left;\">7-Year</td><td style = \"text-align: right;\">4.212</td><td style = \"text-align: right;\">4.125</td><td style = \"text-align: right;\">99.4773</td><td style = \"text-align: right;\">99.4773</td><td style = \"text-align: right;\">3.59567e-7</td></tr><tr><td class = \"rowNumber\" style = \"font-weight: bold; text-align: right;\">2</td><td style = \"text-align: left;\">91282CHV6</td><td style = \"text-align: left;\">2-Year</td><td style = \"text-align: right;\">5.024</td><td style = \"text-align: right;\">5.0</td><td style = \"text-align: right;\">99.9549</td><td style = \"text-align: right;\">99.9549</td><td style = \"text-align: right;\">3.56315e-7</td></tr><tr><td class = \"rowNumber\" style = \"font-weight: bold; text-align: right;\">3</td><td style = \"text-align: left;\">91282CHX2</td><td style = \"text-align: left;\">5-Year</td><td style = \"text-align: right;\">4.4</td><td style = \"text-align: right;\">4.375</td><td style = \"text-align: right;\">99.8889</td><td style = \"text-align: right;\">99.8889</td><td style = \"text-align: right;\">3.89252e-7</td></tr><tr><td class = \"rowNumber\" style = \"font-weight: bold; text-align: right;\">4</td><td style = \"text-align: left;\">912810TU2</td><td style = \"text-align: left;\">20-Year</td><td style = \"text-align: right;\">4.499</td><td style = \"text-align: right;\">4.375</td><td style = \"text-align: right;\">98.3759</td><td style = \"text-align: right;\">98.3742</td><td style = \"text-align: right;\">0.00168543</td></tr><tr><td class = \"rowNumber\" style = \"font-weight: bold; text-align: right;\">5</td><td style = \"text-align: left;\">912810TT5</td><td style = \"text-align: left;\">30-Year</td><td style = \"text-align: right;\">4.189</td><td style = \"text-align: right;\">4.125</td><td style = \"text-align: right;\">98.9127</td><td style = \"text-align: right;\">98.9127</td><td style = \"text-align: right;\">2.72566e-7</td></tr><tr><td class = \"rowNumber\" style = \"font-weight: bold; text-align: right;\">6</td><td style = \"text-align: left;\">91282CHT1</td><td style = \"text-align: left;\">10-Year</td><td style = \"text-align: right;\">3.999</td><td style = \"text-align: right;\">3.875</td><td style = \"text-align: right;\">98.9862</td><td style = \"text-align: right;\">98.9862</td><td style = \"text-align: right;\">2.16414e-7</td></tr><tr><td class = \"rowNumber\" style = \"font-weight: bold; text-align: right;\">7</td><td style = \"text-align: left;\">91282CHU8</td><td style = \"text-align: left;\">3-Year</td><td style = \"text-align: right;\">4.398</td><td style = \"text-align: right;\">4.375</td><td style = \"text-align: right;\">99.936</td><td style = \"text-align: right;\">99.936</td><td style = \"text-align: right;\">7.11434e-8</td></tr><tr><td class = \"rowNumber\" style = \"font-weight: bold; text-align: right;\">8</td><td style = \"text-align: left;\">91282CHR5</td><td style = \"text-align: left;\">7-Year</td><td style = \"text-align: right;\">4.087</td><td style = \"text-align: right;\">4.0</td><td style = \"text-align: right;\">99.475</td><td style = \"text-align: right;\">99.475</td><td style = \"text-align: right;\">1.6564e-7</td></tr><tr><td class = \"rowNumber\" style = \"font-weight: bold; text-align: right;\">9</td><td style = \"text-align: left;\">91282CHQ7</td><td style = \"text-align: left;\">5-Year</td><td style = \"text-align: right;\">4.17</td><td style = \"text-align: right;\">4.125</td><td style = \"text-align: right;\">99.7988</td><td style = \"text-align: right;\">99.7988</td><td style = \"text-align: right;\">2.74693e-7</td></tr><tr><td class = \"rowNumber\" style = \"font-weight: bold; text-align: right;\">10</td><td style = \"text-align: left;\">91282CHN4</td><td style = \"text-align: left;\">2-Year</td><td style = \"text-align: right;\">4.823</td><td style = \"text-align: right;\">4.75</td><td style = \"text-align: right;\">99.8624</td><td style = \"text-align: right;\">99.8624</td><td style = \"text-align: right;\">2.96491e-7</td></tr><tr><td class = \"rowNumber\" style = \"font-weight: bold; text-align: right;\">11</td><td style = \"text-align: left;\">91282CHP9</td><td style = \"text-align: left;\">10-Year</td><td style = \"text-align: right;\">1.495</td><td style = \"text-align: right;\">1.375</td><td style = \"text-align: right;\">98.8892</td><td style = \"text-align: right;\">99.0219</td><td style = \"text-align: right;\">0.13411</td></tr><tr><td class = \"rowNumber\" style = \"font-weight: bold; text-align: right;\">12</td><td style = \"text-align: left;\">91282CHM6</td><td style = \"text-align: left;\">3-Year</td><td style = \"text-align: right;\">4.534</td><td style = \"text-align: right;\">4.5</td><td style = \"text-align: right;\">99.9056</td><td style = \"text-align: right;\">99.9052</td><td style = \"text-align: right;\">0.000379157</td></tr><tr><td class = \"rowNumber\" style = \"font-weight: bold; text-align: right;\">13</td><td style = \"text-align: left;\">91282CHJ3</td><td style = \"text-align: left;\">7-Year</td><td style = \"text-align: right;\">3.839</td><td style = \"text-align: right;\">3.75</td><td style = \"text-align: right;\">99.4582</td><td style = \"text-align: right;\">99.4582</td><td style = \"text-align: right;\">1.69474e-7</td></tr><tr><td style = \"text-align: right;\">&vellip;</td><td style = \"text-align: right;\">&vellip;</td><td style = \"text-align: right;\">&vellip;</td><td style = \"text-align: right;\">&vellip;</td><td style = \"text-align: right;\">&vellip;</td><td style = \"text-align: right;\">&vellip;</td><td style = \"text-align: right;\">&vellip;</td><td style = \"text-align: right;\">&vellip;</td></tr><tr><td class = \"rowNumber\" style = \"font-weight: bold; text-align: right;\">48</td><td style = \"text-align: left;\">91282CFY2</td><td style = \"text-align: left;\">7-Year</td><td style = \"text-align: right;\">3.89</td><td style = \"text-align: right;\">3.875</td><td style = \"text-align: right;\">99.9089</td><td style = \"text-align: right;\">99.9089</td><td style = \"text-align: right;\">3.15727e-7</td></tr><tr><td class = \"rowNumber\" style = \"font-weight: bold; text-align: right;\">49</td><td style = \"text-align: left;\">91282CFX4</td><td style = \"text-align: left;\">2-Year</td><td style = \"text-align: right;\">4.505</td><td style = \"text-align: right;\">4.5</td><td style = \"text-align: right;\">99.9905</td><td style = \"text-align: right;\">99.9905</td><td style = \"text-align: right;\">2.78662e-7</td></tr><tr><td class = \"rowNumber\" style = \"font-weight: bold; text-align: right;\">50</td><td style = \"text-align: left;\">91282CFZ9</td><td style = \"text-align: left;\">5-Year</td><td style = \"text-align: right;\">3.974</td><td style = \"text-align: right;\">3.875</td><td style = \"text-align: right;\">99.5551</td><td style = \"text-align: right;\">99.5551</td><td style = \"text-align: right;\">4.61927e-7</td></tr><tr><td class = \"rowNumber\" style = \"font-weight: bold; text-align: right;\">51</td><td style = \"text-align: left;\">912810TM0</td><td style = \"text-align: left;\">20-Year</td><td style = \"text-align: right;\">4.072</td><td style = \"text-align: right;\">4.0</td><td style = \"text-align: right;\">99.0214</td><td style = \"text-align: right;\">99.0197</td><td style = \"text-align: right;\">0.00174791</td></tr><tr><td class = \"rowNumber\" style = \"font-weight: bold; text-align: right;\">52</td><td style = \"text-align: left;\">912810TL2</td><td style = \"text-align: left;\">30-Year</td><td style = \"text-align: right;\">4.08</td><td style = \"text-align: right;\">4.0</td><td style = \"text-align: right;\">98.6229</td><td style = \"text-align: right;\">98.6229</td><td style = \"text-align: right;\">3.44063e-7</td></tr><tr><td class = \"rowNumber\" style = \"font-weight: bold; text-align: right;\">53</td><td style = \"text-align: left;\">91282CFV8</td><td style = \"text-align: left;\">10-Year</td><td style = \"text-align: right;\">4.14</td><td style = \"text-align: right;\">4.125</td><td style = \"text-align: right;\">99.8782</td><td style = \"text-align: right;\">99.8782</td><td style = \"text-align: right;\">3.4181e-7</td></tr><tr><td class = \"rowNumber\" style = \"font-weight: bold; text-align: right;\">54</td><td style = \"text-align: left;\">91282CFW6</td><td style = \"text-align: left;\">3-Year</td><td style = \"text-align: right;\">4.605</td><td style = \"text-align: right;\">4.5</td><td style = \"text-align: right;\">99.7089</td><td style = \"text-align: right;\">99.7089</td><td style = \"text-align: right;\">4.01493e-7</td></tr><tr><td class = \"rowNumber\" style = \"font-weight: bold; text-align: right;\">55</td><td style = \"text-align: left;\">91282CFT3</td><td style = \"text-align: left;\">7-Year</td><td style = \"text-align: right;\">4.027</td><td style = \"text-align: right;\">4.0</td><td style = \"text-align: right;\">99.8367</td><td style = \"text-align: right;\">99.8367</td><td style = \"text-align: right;\">1.84983e-7</td></tr><tr><td class = \"rowNumber\" style = \"font-weight: bold; text-align: right;\">56</td><td style = \"text-align: left;\">91282CFU0</td><td style = \"text-align: left;\">5-Year</td><td style = \"text-align: right;\">4.192</td><td style = \"text-align: right;\">4.125</td><td style = \"text-align: right;\">99.7006</td><td style = \"text-align: right;\">99.7006</td><td style = \"text-align: right;\">2.62547e-7</td></tr><tr><td class = \"rowNumber\" style = \"font-weight: bold; text-align: right;\">57</td><td style = \"text-align: left;\">91282CFQ9</td><td style = \"text-align: left;\">2-Year</td><td style = \"text-align: right;\">4.46</td><td style = \"text-align: right;\">4.375</td><td style = \"text-align: right;\">99.8391</td><td style = \"text-align: right;\">99.8391</td><td style = \"text-align: right;\">2.70693e-7</td></tr><tr><td class = \"rowNumber\" style = \"font-weight: bold; text-align: right;\">58</td><td style = \"text-align: left;\">91282CFR7</td><td style = \"text-align: left;\">5-Year</td><td style = \"text-align: right;\">1.732</td><td style = \"text-align: right;\">1.625</td><td style = \"text-align: right;\">99.4896</td><td style = \"text-align: right;\">99.4754</td><td style = \"text-align: right;\">0.0142614</td></tr><tr><td class = \"rowNumber\" style = \"font-weight: bold; text-align: right;\">59</td><td style = \"text-align: left;\">91282CFP1</td><td style = \"text-align: left;\">3-Year</td><td style = \"text-align: right;\">4.318</td><td style = \"text-align: right;\">4.25</td><td style = \"text-align: right;\">99.8106</td><td style = \"text-align: right;\">99.8104</td><td style = \"text-align: right;\">0.000167392</td></tr></tbody></table></div>"
      ],
      "text/latex": [
       "\\begin{tabular}{r|ccccccc}\n",
       "\t& CUSIP & term & rate & coupon & computed & actual & percent\\_error\\\\\n",
       "\t\\hline\n",
       "\t& String15 & String7 & Float64 & Float64 & Float64 & Float64 & Float64\\\\\n",
       "\t\\hline\n",
       "\t1 & 91282CHW4 & 7-Year & 4.212 & 4.125 & 99.4773 & 99.4773 & 3.59567e-7 \\\\\n",
       "\t2 & 91282CHV6 & 2-Year & 5.024 & 5.0 & 99.9549 & 99.9549 & 3.56315e-7 \\\\\n",
       "\t3 & 91282CHX2 & 5-Year & 4.4 & 4.375 & 99.8889 & 99.8889 & 3.89252e-7 \\\\\n",
       "\t4 & 912810TU2 & 20-Year & 4.499 & 4.375 & 98.3759 & 98.3742 & 0.00168543 \\\\\n",
       "\t5 & 912810TT5 & 30-Year & 4.189 & 4.125 & 98.9127 & 98.9127 & 2.72566e-7 \\\\\n",
       "\t6 & 91282CHT1 & 10-Year & 3.999 & 3.875 & 98.9862 & 98.9862 & 2.16414e-7 \\\\\n",
       "\t7 & 91282CHU8 & 3-Year & 4.398 & 4.375 & 99.936 & 99.936 & 7.11434e-8 \\\\\n",
       "\t8 & 91282CHR5 & 7-Year & 4.087 & 4.0 & 99.475 & 99.475 & 1.6564e-7 \\\\\n",
       "\t9 & 91282CHQ7 & 5-Year & 4.17 & 4.125 & 99.7988 & 99.7988 & 2.74693e-7 \\\\\n",
       "\t10 & 91282CHN4 & 2-Year & 4.823 & 4.75 & 99.8624 & 99.8624 & 2.96491e-7 \\\\\n",
       "\t11 & 91282CHP9 & 10-Year & 1.495 & 1.375 & 98.8892 & 99.0219 & 0.13411 \\\\\n",
       "\t12 & 91282CHM6 & 3-Year & 4.534 & 4.5 & 99.9056 & 99.9052 & 0.000379157 \\\\\n",
       "\t13 & 91282CHJ3 & 7-Year & 3.839 & 3.75 & 99.4582 & 99.4582 & 1.69474e-7 \\\\\n",
       "\t14 & 91282CHK0 & 5-Year & 4.019 & 4.0 & 99.9147 & 99.9147 & 1.57801e-7 \\\\\n",
       "\t15 & 91282CHL8 & 2-Year & 4.67 & 4.625 & 99.915 & 99.915 & 6.36863e-8 \\\\\n",
       "\t16 & 91282CHH7 & 3-Year & 4.202 & 4.125 & 99.7851 & 99.7851 & 5.25274e-8 \\\\\n",
       "\t17 & 91282CHF1 & 7-Year & 3.827 & 3.75 & 99.5311 & 99.5311 & 3.82533e-7 \\\\\n",
       "\t18 & 91282CHE4 & 5-Year & 3.749 & 3.625 & 99.4394 & 99.4394 & 3.92029e-8 \\\\\n",
       "\t19 & 91282CHD6 & 2-Year & 4.3 & 4.25 & 99.9052 & 99.9052 & 2.8156e-7 \\\\\n",
       "\t20 & 912810TS7 & 20-Year & 3.954 & 3.875 & 98.9151 & 98.9136 & 0.001461 \\\\\n",
       "\t21 & 912810TR9 & 30-Year & 3.741 & 3.625 & 97.9191 & 97.9191 & 1.11294e-7 \\\\\n",
       "\t22 & 91282CHC8 & 10-Year & 3.448 & 3.375 & 99.387 & 99.387 & 3.27417e-7 \\\\\n",
       "\t23 & 91282CHB0 & 3-Year & 3.695 & 3.625 & 99.8029 & 99.8029 & 5.77428e-8 \\\\\n",
       "\t24 & 91282CGZ8 & 7-Year & 3.563 & 3.5 & 99.6127 & 99.6127 & 3.49223e-5 \\\\\n",
       "\t25 & 91282CHA2 & 5-Year & 3.5 & 3.5 & 100.0 & 99.9998 & 0.000163 \\\\\n",
       "\t26 & 91282CGX3 & 2-Year & 3.969 & 3.875 & 99.821 & 99.821 & 2.76341e-5 \\\\\n",
       "\t27 & 91282CGV7 & 3-Year & 3.81 & 3.75 & 99.8314 & 99.8313 & 9.21494e-5 \\\\\n",
       "\t28 & 91282CGS4 & 7-Year & 3.626 & 3.625 & 99.9939 & 99.9939 & 4.43841e-7 \\\\\n",
       "\t29 & 91282CGT2 & 5-Year & 3.665 & 3.625 & 99.8188 & 99.8188 & 3.65004e-7 \\\\\n",
       "\t30 & 91282CGU9 & 2-Year & 3.954 & 3.875 & 99.8495 & 99.8495 & 2.69568e-7 \\\\\n",
       "\t$\\dots$ & $\\dots$ & $\\dots$ & $\\dots$ & $\\dots$ & $\\dots$ & $\\dots$ & $\\dots$ \\\\\n",
       "\\end{tabular}\n"
      ],
      "text/plain": [
       "\u001b[1m59×7 DataFrame\u001b[0m\n",
       "\u001b[1m Row \u001b[0m│\u001b[1m CUSIP     \u001b[0m\u001b[1m term    \u001b[0m\u001b[1m rate    \u001b[0m\u001b[1m coupon  \u001b[0m\u001b[1m computed \u001b[0m\u001b[1m actual  \u001b[0m\u001b[1m percent_error \u001b[0m\n",
       "     │\u001b[90m String15  \u001b[0m\u001b[90m String7 \u001b[0m\u001b[90m Float64 \u001b[0m\u001b[90m Float64 \u001b[0m\u001b[90m Float64  \u001b[0m\u001b[90m Float64 \u001b[0m\u001b[90m Float64       \u001b[0m\n",
       "─────┼────────────────────────────────────────────────────────────────────────\n",
       "   1 │ 91282CHW4  7-Year     4.212    4.125   99.4773  99.4773    3.59567e-7\n",
       "   2 │ 91282CHV6  2-Year     5.024    5.0     99.9549  99.9549    3.56315e-7\n",
       "   3 │ 91282CHX2  5-Year     4.4      4.375   99.8889  99.8889    3.89252e-7\n",
       "   4 │ 912810TU2  20-Year    4.499    4.375   98.3759  98.3742    0.00168543\n",
       "   5 │ 912810TT5  30-Year    4.189    4.125   98.9127  98.9127    2.72566e-7\n",
       "   6 │ 91282CHT1  10-Year    3.999    3.875   98.9862  98.9862    2.16414e-7\n",
       "   7 │ 91282CHU8  3-Year     4.398    4.375   99.936   99.936     7.11434e-8\n",
       "   8 │ 91282CHR5  7-Year     4.087    4.0     99.475   99.475     1.6564e-7\n",
       "   9 │ 91282CHQ7  5-Year     4.17     4.125   99.7988  99.7988    2.74693e-7\n",
       "  10 │ 91282CHN4  2-Year     4.823    4.75    99.8624  99.8624    2.96491e-7\n",
       "  11 │ 91282CHP9  10-Year    1.495    1.375   98.8892  99.0219    0.13411\n",
       "  ⋮  │     ⋮         ⋮        ⋮        ⋮        ⋮         ⋮           ⋮\n",
       "  50 │ 91282CFZ9  5-Year     3.974    3.875   99.5551  99.5551    4.61927e-7\n",
       "  51 │ 912810TM0  20-Year    4.072    4.0     99.0214  99.0197    0.00174791\n",
       "  52 │ 912810TL2  30-Year    4.08     4.0     98.6229  98.6229    3.44063e-7\n",
       "  53 │ 91282CFV8  10-Year    4.14     4.125   99.8782  99.8782    3.4181e-7\n",
       "  54 │ 91282CFW6  3-Year     4.605    4.5     99.7089  99.7089    4.01493e-7\n",
       "  55 │ 91282CFT3  7-Year     4.027    4.0     99.8367  99.8367    1.84983e-7\n",
       "  56 │ 91282CFU0  5-Year     4.192    4.125   99.7006  99.7006    2.62547e-7\n",
       "  57 │ 91282CFQ9  2-Year     4.46     4.375   99.8391  99.8391    2.70693e-7\n",
       "  58 │ 91282CFR7  5-Year     1.732    1.625   99.4896  99.4754    0.0142614\n",
       "  59 │ 91282CFP1  3-Year     4.318    4.25    99.8106  99.8104    0.000167392\n",
       "\u001b[36m                                                               38 rows omitted\u001b[0m"
      ]
     },
     "execution_count": 5,
     "metadata": {},
     "output_type": "execute_result"
    }
   ],
   "source": [
    "computed_price_table = DataFrame();\n",
    "security_dictionary = Dict{Int64,MyUSTreasuryCouponSecurityModel}()\n",
    "for i ∈ 1:number_of_records\n",
    "    \n",
    "    T = dataset[i, Symbol(\"Security Term\")] |> String |> securityterm;\n",
    "    r̄ = dataset[i, Symbol(\"High Yield\")]\n",
    "    c = dataset[i, Symbol(\"Interest Rate\")]\n",
    "    model = build(MyUSTreasuryCouponSecurityModel, (\n",
    "            par = 100.0, T = T, rate = r̄, coupon = c, λ = 2\n",
    "        )) |> discount_model;\n",
    "       \n",
    "    \n",
    "    VB = dataset[i, :Price];\n",
    "    price_computed = model.price\n",
    "    error = 100*abs((VB - price_computed)/(price_computed));\n",
    "    \n",
    "    results_tuple = (\n",
    "        CUSIP = dataset[i, :CUSIP],\n",
    "        term = dataset[i, Symbol(\"Security Term\")],\n",
    "        rate = r̄*100,\n",
    "        coupon = c*100,\n",
    "        computed =  price_computed,\n",
    "        actual = VB,\n",
    "        percent_error = error\n",
    "    );\n",
    "    \n",
    "    push!(computed_price_table, results_tuple)\n",
    "    security_dictionary[i] = model;\n",
    "end\n",
    "computed_price_table"
   ]
  },
  {
   "cell_type": "markdown",
   "id": "e5b86db2-0f3d-4f12-b49b-6d7b96b9d1ec",
   "metadata": {},
   "source": [
    "## Objective 2: Senstivity of the price to changes in the coupon rate and yield"
   ]
  },
  {
   "cell_type": "code",
   "execution_count": 6,
   "id": "8ce0acff-50c0-4899-a330-2da6960d2c28",
   "metadata": {
    "tags": []
   },
   "outputs": [
    {
     "data": {
      "text/plain": [
       "MyUSTreasuryCouponSecurityModel(100.0, 0.04398, 0.04375, 3.0, 2, 99.9360139289021, Dict(5 => 1.9620715026990503, 4 => 2.005217455043402, 6 => 89.68460431994575, 0 => -99.9360139289021, 2 => 2.0943765618692938, 3 => 2.0493121868798068, 1 => 2.1404319024647993), Dict(0 => 1.0, 4 => 1.0909041283767662, 5 => 1.1148931101597712, 6 => 1.1394096096521844, 2 => 1.0444635600999999, 3 => 1.0674313137865987, 1 => 1.02199))"
      ]
     },
     "execution_count": 6,
     "metadata": {},
     "output_type": "execute_result"
    }
   ],
   "source": [
    "cashflow_check_model = security_dictionary[7]"
   ]
  },
  {
   "cell_type": "code",
   "execution_count": 7,
   "id": "d12c715a-434c-4fdf-890a-05dc4ba69f52",
   "metadata": {
    "tags": []
   },
   "outputs": [],
   "source": [
    "nominal_price = cashflow_check_model.price;\n",
    "cashflow = cashflow_check_model.cashflow;\n",
    "discount = cashflow_check_model.discount;"
   ]
  },
  {
   "cell_type": "code",
   "execution_count": 8,
   "id": "a12c6c1a-8ba8-4520-9023-b755fa3486a7",
   "metadata": {
    "tags": []
   },
   "outputs": [
    {
     "data": {
      "text/html": [
       "<div><div style = \"float: left;\"><span>7×5 DataFrame</span></div><div style = \"clear: both;\"></div></div><div class = \"data-frame\" style = \"overflow-x: scroll;\"><table class = \"data-frame\" style = \"margin-bottom: 6px;\"><thead><tr class = \"header\"><th class = \"rowNumber\" style = \"font-weight: bold; text-align: right;\">Row</th><th style = \"text-align: left;\">period</th><th style = \"text-align: left;\">discount</th><th style = \"text-align: left;\">notional_cashflow</th><th style = \"text-align: left;\">discounted_cashflow</th><th style = \"text-align: left;\">cumsum</th></tr><tr class = \"subheader headerLastRow\"><th class = \"rowNumber\" style = \"font-weight: bold; text-align: right;\"></th><th title = \"Int64\" style = \"text-align: left;\">Int64</th><th title = \"Float64\" style = \"text-align: left;\">Float64</th><th title = \"Float64\" style = \"text-align: left;\">Float64</th><th title = \"Float64\" style = \"text-align: left;\">Float64</th><th title = \"Float64\" style = \"text-align: left;\">Float64</th></tr></thead><tbody><tr><td class = \"rowNumber\" style = \"font-weight: bold; text-align: right;\">1</td><td style = \"text-align: right;\">0</td><td style = \"text-align: right;\">1.0</td><td style = \"text-align: right;\">-99.936</td><td style = \"text-align: right;\">-99.936</td><td style = \"text-align: right;\">-99.936</td></tr><tr><td class = \"rowNumber\" style = \"font-weight: bold; text-align: right;\">2</td><td style = \"text-align: right;\">1</td><td style = \"text-align: right;\">1.02199</td><td style = \"text-align: right;\">2.1875</td><td style = \"text-align: right;\">2.14043</td><td style = \"text-align: right;\">-97.7956</td></tr><tr><td class = \"rowNumber\" style = \"font-weight: bold; text-align: right;\">3</td><td style = \"text-align: right;\">2</td><td style = \"text-align: right;\">1.04446</td><td style = \"text-align: right;\">2.1875</td><td style = \"text-align: right;\">2.09438</td><td style = \"text-align: right;\">-95.7012</td></tr><tr><td class = \"rowNumber\" style = \"font-weight: bold; text-align: right;\">4</td><td style = \"text-align: right;\">3</td><td style = \"text-align: right;\">1.06743</td><td style = \"text-align: right;\">2.1875</td><td style = \"text-align: right;\">2.04931</td><td style = \"text-align: right;\">-93.6519</td></tr><tr><td class = \"rowNumber\" style = \"font-weight: bold; text-align: right;\">5</td><td style = \"text-align: right;\">4</td><td style = \"text-align: right;\">1.0909</td><td style = \"text-align: right;\">2.1875</td><td style = \"text-align: right;\">2.00522</td><td style = \"text-align: right;\">-91.6467</td></tr><tr><td class = \"rowNumber\" style = \"font-weight: bold; text-align: right;\">6</td><td style = \"text-align: right;\">5</td><td style = \"text-align: right;\">1.11489</td><td style = \"text-align: right;\">2.1875</td><td style = \"text-align: right;\">1.96207</td><td style = \"text-align: right;\">-89.6846</td></tr><tr><td class = \"rowNumber\" style = \"font-weight: bold; text-align: right;\">7</td><td style = \"text-align: right;\">6</td><td style = \"text-align: right;\">1.13941</td><td style = \"text-align: right;\">102.188</td><td style = \"text-align: right;\">89.6846</td><td style = \"text-align: right;\">0.0</td></tr></tbody></table></div>"
      ],
      "text/latex": [
       "\\begin{tabular}{r|ccccc}\n",
       "\t& period & discount & notional\\_cashflow & discounted\\_cashflow & cumsum\\\\\n",
       "\t\\hline\n",
       "\t& Int64 & Float64 & Float64 & Float64 & Float64\\\\\n",
       "\t\\hline\n",
       "\t1 & 0 & 1.0 & -99.936 & -99.936 & -99.936 \\\\\n",
       "\t2 & 1 & 1.02199 & 2.1875 & 2.14043 & -97.7956 \\\\\n",
       "\t3 & 2 & 1.04446 & 2.1875 & 2.09438 & -95.7012 \\\\\n",
       "\t4 & 3 & 1.06743 & 2.1875 & 2.04931 & -93.6519 \\\\\n",
       "\t5 & 4 & 1.0909 & 2.1875 & 2.00522 & -91.6467 \\\\\n",
       "\t6 & 5 & 1.11489 & 2.1875 & 1.96207 & -89.6846 \\\\\n",
       "\t7 & 6 & 1.13941 & 102.188 & 89.6846 & 0.0 \\\\\n",
       "\\end{tabular}\n"
      ],
      "text/plain": [
       "\u001b[1m7×5 DataFrame\u001b[0m\n",
       "\u001b[1m Row \u001b[0m│\u001b[1m period \u001b[0m\u001b[1m discount \u001b[0m\u001b[1m notional_cashflow \u001b[0m\u001b[1m discounted_cashflow \u001b[0m\u001b[1m cumsum   \u001b[0m\n",
       "     │\u001b[90m Int64  \u001b[0m\u001b[90m Float64  \u001b[0m\u001b[90m Float64           \u001b[0m\u001b[90m Float64             \u001b[0m\u001b[90m Float64  \u001b[0m\n",
       "─────┼────────────────────────────────────────────────────────────────────\n",
       "   1 │      0   1.0               -99.936             -99.936    -99.936\n",
       "   2 │      1   1.02199             2.1875              2.14043  -97.7956\n",
       "   3 │      2   1.04446             2.1875              2.09438  -95.7012\n",
       "   4 │      3   1.06743             2.1875              2.04931  -93.6519\n",
       "   5 │      4   1.0909              2.1875              2.00522  -91.6467\n",
       "   6 │      5   1.11489             2.1875              1.96207  -89.6846\n",
       "   7 │      6   1.13941           102.188              89.6846     0.0"
      ]
     },
     "execution_count": 8,
     "metadata": {},
     "output_type": "execute_result"
    }
   ],
   "source": [
    "number_of_periods = length(cashflow)\n",
    "df = DataFrame();\n",
    "sumvalue = 0.0;\n",
    "for i ∈ 0:(number_of_periods - 1)\n",
    "    \n",
    "    discount_value = discount[i]\n",
    "    payment = cashflow[i];\n",
    "    sumvalue += payment;\n",
    "    \n",
    "    row_tuple = (\n",
    "        period = i,\n",
    "        discount = discount_value,\n",
    "        notional_cashflow = discount_value*payment,\n",
    "        discounted_cashflow = payment,\n",
    "        cumsum = sumvalue\n",
    "    );\n",
    "    push!(df,row_tuple);\n",
    "end\n",
    "df"
   ]
  },
  {
   "cell_type": "markdown",
   "id": "3187d2fb-b390-437b-8351-3c10d3ebbf80",
   "metadata": {},
   "source": [
    "Fill me in"
   ]
  },
  {
   "cell_type": "code",
   "execution_count": 11,
   "id": "c1694316-62d5-4cf1-8e40-9e00966d5b9d",
   "metadata": {
    "tags": []
   },
   "outputs": [],
   "source": [
    "simulation_results_array = Array{Float64,2}(undef, number_of_samples, number_of_samples);\n",
    "for i ∈ eachindex(β)\n",
    "    β_outer = β[i]\n",
    "    \n",
    "    model = deepcopy(cashflow_check_model);\n",
    "    model.coupon = β_outer*cashflow_check_model.coupon;\n",
    "    \n",
    "    for j ∈ eachindex(β)\n",
    "        \n",
    "        β_inner = β[j];\n",
    "        model.rate = β_inner*cashflow_check_model.rate;\n",
    "        perturbed_price = model |> discount_model |> x-> x.price\n",
    "        simulation_results_array[i,j] = ((perturbed_price - nominal_price)/nominal_price)*100\n",
    "    end\n",
    "end\n",
    "simulation_results_array;"
   ]
  },
  {
   "cell_type": "markdown",
   "id": "84c611ac-e49a-4873-a1dd-14ef6bae8fe1",
   "metadata": {},
   "source": [
    "#### Visualize `simulation_results_array` as a table"
   ]
  },
  {
   "cell_type": "code",
   "execution_count": 10,
   "id": "ca138b20-4bd8-4b5c-bbd7-f19ca4a4eb1d",
   "metadata": {
    "tags": []
   },
   "outputs": [
    {
     "name": "stdout",
     "output_type": "stream",
     "text": [
      "┌────────────────┬────────────┬───────────────┬────────────┐\n",
      "│\u001b[1m                \u001b[0m│\u001b[1m -20% yield \u001b[0m│\u001b[1m nominal yield \u001b[0m│\u001b[1m +20% yield \u001b[0m│\n",
      "├────────────────┼────────────┼───────────────┼────────────┤\n",
      "│    -20% coupon │  0.0120392 │      -2.43581 │   -4.81207 │\n",
      "│ nominal coupon │    2.48429 │           0.0 │   -2.41188 │\n",
      "│    +20% coupon │    4.95653 │       2.43581 │ -0.0116819 │\n",
      "└────────────────┴────────────┴───────────────┴────────────┘\n"
     ]
    }
   ],
   "source": [
    "# build a pretty table to display the results -\n",
    "(R,C) = size(simulation_results_array)\n",
    "pretty_table_data = Array{Any,2}(undef, R, C+1)\n",
    "\n",
    "# first col holds labels -\n",
    "for i ∈ 1:R\n",
    "    if (i == 1)\n",
    "        pretty_table_data[i,1] = \"-20% coupon\";\n",
    "    elseif (i == 3)\n",
    "        pretty_table_data[i,1] = \"+20% coupon\";\n",
    "    else\n",
    "        pretty_table_data[i,1] = \"nominal coupon\";\n",
    "    end\n",
    "end\n",
    "\n",
    "for i = 1:R\n",
    "    for j = 1:C\n",
    "        pretty_table_data[i,j+1] = simulation_results_array[i,j]\n",
    "    end\n",
    "end\n",
    "\n",
    "header_data = ([\"\", \"-20% yield\", \"nominal yield\", \"+20% yield\"])\n",
    "pretty_table(pretty_table_data, header=header_data)"
   ]
  }
 ],
 "metadata": {
  "kernelspec": {
   "display_name": "Julia 1.9.3",
   "language": "julia",
   "name": "julia-1.9"
  },
  "language_info": {
   "file_extension": ".jl",
   "mimetype": "application/julia",
   "name": "julia",
   "version": "1.9.3"
  }
 },
 "nbformat": 4,
 "nbformat_minor": 5
}
