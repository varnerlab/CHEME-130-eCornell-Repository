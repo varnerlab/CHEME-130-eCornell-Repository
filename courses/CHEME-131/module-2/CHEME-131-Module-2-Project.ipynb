{
 "cells": [
  {
   "cell_type": "markdown",
   "id": "0ed8f8ae-3610-4c6a-a74f-197abc1dbf4d",
   "metadata": {},
   "source": [
    "# Project: Sensitivity of coupon-bearing Treasury notes and bonds\n",
    "Malkiel proposed five theorems that govern the price of fixed-income debt securities, e.g., Treasury Bills, Notes, and Bonds, as a function of the duration, yield, and coupon (interest) rate  values:\n",
    "\n",
    "> [Malkiel, B. G. (1962). Expectations, Bond Prices, and the Term Structure of Interest Rates. The Quarterly Journal of Economics, 76(2), 197–218. https://doi.org/10.2307/1880816](https://www.jstor.org/stable/1880816)\n",
    "\n",
    "In this project, let's develop a simulation to validate `Theorem 4` and `Theorem 5` of Malkiel\n",
    "* `Theorem 4`: Price movements resulting from equal absolute increases and decreases in yield are asymmetric; i.e., decreasing yields raise bond prices more than the same increase in yields lowers prices.\n",
    "* `Theorem 5`: The higher the coupon carried by the bond, the smaller the percentage price fluctuation for a given change in yield\n",
    "\n",
    "## Learning objectives\n",
    "The objective of this project is to familiarize students with computing the prices of Treasury Bills, Notes, and Bonds and to compare simulations of the change in the prices of these instruments with the five theorems proposed by Malkiel:\n",
    "\n",
    "* __Objective 1__: Compute the price, visualize the cashflows for a coupon-bearing Treasury note\n",
    "    * `TODO`: Build an instance of `MyUSTreasuryCouponSecurityModel`, and compute the price and other data for the note\n",
    "        * `Check`: Are the computed and observed note prices `similar`?\n",
    "    * `TODO`: Visualize the `nominal,` `discounted,` and `cumulative` cash flow\n",
    "* __Objective 2__: Simulate Theorem 4 of Malkiel for a coupon-bearing Treasury note\n",
    "    * `Discussion question`: Do your simulations support `Theorem 4?`\n",
    "        1. Do your `Theorem 4` simulations support Malkiel's hypothesis, i.e., that the price change is asymmetric?\n",
    "        2. Would you expect the price asymmetry to increase or decrease with the duration of the note or bond?\n",
    "* __Objective 3__: Simulate Theorem 5 of Malkiel for a coupon-bearing Treasury note\n",
    "    * `Discussion question`: Do your simulations support `Theorem 5?`\n",
    "        * `Hint` compare the center square with the corners; what do the differences in value suggest?"
   ]
  },
  {
   "cell_type": "markdown",
   "id": "73f1d90b-3768-4145-bc9c-c4ddaf1a33a8",
   "metadata": {
    "jp-MarkdownHeadingCollapsed": true
   },
   "source": [
    "## Setup\n",
    "We load the [VLQuantitativeFinancePackage.jl](https://github.com/varnerlab/VLQuantitativeFinancePackage.jl) package and several other external [Julia](https://julialang.org/downloads/https://julialang.org/downloads/) packages, as well as some helper code and custom Types (see below), by calling the [include(...)](https://docs.julialang.org/en/v1/manual/code-loading/https://docs.julialang.org/en/v1/manual/code-loading/) command on the file `Include.jl`:"
   ]
  },
  {
   "cell_type": "code",
   "execution_count": 1,
   "id": "c2de84a8-dabf-49a8-9931-8f7610a6aabe",
   "metadata": {},
   "outputs": [
    {
     "name": "stderr",
     "output_type": "stream",
     "text": [
      "\u001b[32m\u001b[1m    Updating\u001b[22m\u001b[39m git-repo `https://github.com/varnerlab/VLQuantitativeFinancePackage.jl.git`\n",
      "\u001b[32m\u001b[1m   Resolving\u001b[22m\u001b[39m package versions...\n",
      "\u001b[32m\u001b[1m  No Changes\u001b[22m\u001b[39m to `~/Desktop/julia_work/CHEME-130-eCornell-Repository/courses/CHEME-131/module-2/Project.toml`\n",
      "\u001b[32m\u001b[1m  No Changes\u001b[22m\u001b[39m to `~/Desktop/julia_work/CHEME-130-eCornell-Repository/courses/CHEME-131/module-2/Manifest.toml`\n",
      "\u001b[32m\u001b[1m  Activating\u001b[22m\u001b[39m project at `~/Desktop/julia_work/CHEME-130-eCornell-Repository/courses/CHEME-131/module-2`\n",
      "\u001b[32m\u001b[1m  No Changes\u001b[22m\u001b[39m to `~/Desktop/julia_work/CHEME-130-eCornell-Repository/courses/CHEME-131/module-2/Project.toml`\n",
      "\u001b[32m\u001b[1m  No Changes\u001b[22m\u001b[39m to `~/Desktop/julia_work/CHEME-130-eCornell-Repository/courses/CHEME-131/module-2/Manifest.toml`\n",
      "\u001b[32m\u001b[1m    Updating\u001b[22m\u001b[39m registry at `~/.julia/registries/General.toml`\n",
      "\u001b[32m\u001b[1m    Updating\u001b[22m\u001b[39m git-repo `https://github.com/varnerlab/VLQuantitativeFinancePackage.jl.git`\n",
      "\u001b[32m\u001b[1m  No Changes\u001b[22m\u001b[39m to `~/Desktop/julia_work/CHEME-130-eCornell-Repository/courses/CHEME-131/module-2/Project.toml`\n",
      "\u001b[32m\u001b[1m  No Changes\u001b[22m\u001b[39m to `~/Desktop/julia_work/CHEME-130-eCornell-Repository/courses/CHEME-131/module-2/Manifest.toml`\n"
     ]
    }
   ],
   "source": [
    "include(\"Include.jl\");"
   ]
  },
  {
   "cell_type": "markdown",
   "id": "bd7cf570-500b-4889-adb2-62ff782921fa",
   "metadata": {},
   "source": [
    "### Packages\n",
    "In addition to [VLQuantitativeFinancePackage.jl](https://github.com/varnerlab/VLQuantitativeFinancePackage.jl), the `Include.jl` file loads several external packages that we will use for our exercise:\n",
    "* [DataFrames.jl](https://dataframes.juliadata.org/stable/) provides a set of tools for working with tabular data in [Julia](https://julialang.org). Its design and functionality are similar to those of [Pandas (in Python)](https://pandas.pydata.org) and [data.frame, data.table, and dplyr (in R)](https://dplyr.tidyverse.org), making it a great general-purpose data science tool.\n",
    "* [Plots.jl](https://docs.juliaplots.org/stable/) is a plotting library in [Julia](https://julialang.org). We'll use this library for visualization\n",
    "* The [PrettyTables.jl package](https://github.com/ronisbr/PrettyTables.jl) provides functions to display data in matrices in a human-readable format\n",
    "    * This package exports the `pretty_table(...)` function which we use heavily"
   ]
  },
  {
   "cell_type": "markdown",
   "id": "96eaf963-8efe-4e17-bc8f-51801d303969",
   "metadata": {},
   "source": [
    "### Types\n",
    "In addition to external packages, `Include.jl` also loads some [problem-specific custom types](https://docs.julialang.org/en/v1/manual/functions/) that will be helpful for the analysis of Treasury instrument pricing. \n",
    "* `MyUSTreasuryCouponSecurityModel` is a [mutable type](https://docs.julialang.org/en/v1/manual/types/#Mutable-Composite-Types) holding the par value $V_{P}$, the duration $T$, the effective market rate of interest rate $\\bar{r}$, the coupoun rate $c$ and the number of coupon payments per year $\\lambda$ for treasury note and bonds that pay a coupoun. You construct a `MyUSTreasuryCouponSecurityModel` instance using the `build` method described below.\n",
    "* `DiscreteCompoundingModel` and `ContinuousCompoundingModel` are [immutable types](https://docs.julialang.org/en/v1/manual/types/#Composite-Types) that let your code know which compounding model to use."
   ]
  },
  {
   "cell_type": "markdown",
   "id": "4a334bb3-c94a-4ecc-b31e-ce3f333e9c5c",
   "metadata": {},
   "source": [
    "### Functions\n",
    "`Include.jl` loads the following [Julia functions](https://docs.julialang.org/en/v1/manual/functions/) into the notebook:\n",
    "\n",
    "`MyTreasuryBillDataSet() -> DataFrame`\n",
    "> The `MyTreasuryBillDataSet() -> DataFrame` loads a United States Treasury auction dataset, which we'll use in the example. The auction data is returned as a `DataFrame`, which is exported by the [DataFrames.jl package](https://dataframes.juliadata.org/stable/)\n",
    "\n",
    "`build(model::Type{MyUSTreasuryCouponSecurityModel}, data::NamedTuple) -> MyUSTreasuryCouponSecurityModel`\n",
    "> This function takes information in the `data` [NamedTuple](https://docs.julialang.org/en/v1/base/base/#Core.NamedTuple) argument (the par value, the number of compounding periods per year, the effective interest rate, the coupon rate, and the duration of the note or bond) and returns an instance of the `MyUSTreasuryCouponSecurityModel` custom type."
   ]
  },
  {
   "cell_type": "markdown",
   "id": "2bbe12a1-4d88-4da1-9391-9d8a5e53c171",
   "metadata": {},
   "source": [
    "## Objective 1: Compute the price, visualize the cashflows for a coupon-bearing Treasury note\n",
    "Unlike zero-coupon Treasury bills, which have only two cash flow events (you give money to the Treasury, and you receive the face (par) value of the `T-note` at maturity), coupon-bearing Treasury securities are more complicated because of the periodic coupon payments. Thus, it's helpful to visualize the cash flow events of notes and bonds. \n",
    "* We begin by building an instance of the `DiscreteCompoundingModel()` type and store this discount model in the `discount_model` variable:"
   ]
  },
  {
   "cell_type": "code",
   "execution_count": 2,
   "id": "643b97d4-b0a9-41f4-a811-812cce97bd2d",
   "metadata": {},
   "outputs": [],
   "source": [
    "discount_model = DiscreteCompoundingModel();"
   ]
  },
  {
   "cell_type": "markdown",
   "id": "b02b8196-e9fb-4a3e-8beb-7f25acc5874a",
   "metadata": {},
   "source": [
    "### TODO: Build an instance of `MyUSTreasuryCouponSecurityModel`, and compute the price\n",
    "Next, let's build an instance of the `MyUSTreasuryCouponSecurityModel` type using the `build(...)` method. In this example, we'll compute the price and cashflow for a `T = 7-yr` bond, with a coupon rate of `c = 1.375%`, a yield (discount rate) `rate = 1.461%`, two coupon payments per year, i.e., $\\lambda = 2$ and a face (par) value of $V_{P}$ = `100 USD`. Let's store the result in the `test_note` variable. \n",
    "* The price value reported on [TreasuryDirect.gov](https://www.treasurydirect.gov/marketable-securities/understanding-pricing/#id-for-more-detailed-formulas-and-useful-tables-264977) for this note is $V_{B}$ = `99.4299 USD`.\n",
    "* Similar to zero-coupon `T-bills,` we'll use a `short-cut` syntax that relies on the [Julia piping |> operator](https://docs.julialang.org/en/v1/manual/functions/#Function-composition-and-piping) and some syntax sugar to compute the coupon-bearing price, and discount factors and the cashflow for the instrument. "
   ]
  },
  {
   "cell_type": "code",
   "execution_count": 3,
   "id": "b0fb01f5-05f3-4b37-85f6-010b12583cce",
   "metadata": {},
   "outputs": [],
   "source": [
    "### BEGIN SOLUTION\n",
    "T = 7\n",
    "r̄ = 0.01461\n",
    "c = 0.01375\n",
    "### END SOLUTION\n",
    "\n",
    "test_note = build(MyUSTreasuryCouponSecurityModel, (\n",
    "    T = T, rate = r̄, coupon = c, λ = 2, par = 100.0\n",
    ")) |> discount_model;"
   ]
  },
  {
   "cell_type": "markdown",
   "id": "466566c0-2967-4f53-a6df-611782be8cf0",
   "metadata": {},
   "source": [
    "We have populated the `MyUSTreasuryCouponSecurityModel` instance stored in the `test_note` variable\n",
    "* Let's pull the `price,` `discount,` and `cashflow` fields from `test_note` and store them in the `nominal_computed_price,` `cashflow,` and `discount` variables"
   ]
  },
  {
   "cell_type": "code",
   "execution_count": 4,
   "id": "7bc7c383-0b87-4449-9d9c-ce127ae860a8",
   "metadata": {},
   "outputs": [
    {
     "name": "stdout",
     "output_type": "stream",
     "text": [
      "This computed note price = 99.42973596186266 USD\n"
     ]
    }
   ],
   "source": [
    "nominal_computed_price = test_note.price;\n",
    "cashflow = test_note.cashflow;\n",
    "discount = test_note.discount;\n",
    "println(\"This computed note price = $(nominal_computed_price) USD\")"
   ]
  },
  {
   "cell_type": "markdown",
   "id": "16b86f47-f681-4ff6-aedb-2c41b235edd6",
   "metadata": {},
   "source": [
    "#### Check: Are the computed and observed prices `similar`?\n",
    "Use the [isapprox function](https://docs.julialang.org/en/v1/base/math/#Base.isapprox) combined with the [@assert macro](https://docs.julialang.org/en/v1/base/base/#Base.@assert) to check the `similarity` of the computed, and observed note price. If the price values are different beyond `rtol = 1e-4`, a `false` result is generated, and an [AssertionError](https://docs.julialang.org/en/v1/base/base/#Core.AssertionError) is thrown."
   ]
  },
  {
   "cell_type": "code",
   "execution_count": 5,
   "id": "c998f7f5-ba06-48d5-be19-82e6992ae759",
   "metadata": {},
   "outputs": [],
   "source": [
    "observed_bond_price = 99.4299;\n",
    "@assert isapprox(observed_bond_price, nominal_computed_price; rtol = 1e-4)"
   ]
  },
  {
   "cell_type": "markdown",
   "id": "a165e289-5cd3-48c1-abba-de1ca3b74b7f",
   "metadata": {},
   "source": [
    "### TODO: Visualize the `nominal,` `discounted,` and `cumulative` cash flow\n",
    "Finally, let's build a table holding the `nominal,` `discounted,` and `cumulative` cash flow for this bond using the [PrettyTables.jl package](https://github.com/ronisbr/PrettyTables.jl). We'll iterate through each period using a `for` loop and populate the `bond_data_table` variable. For each iteration of the loop, we will:\n",
    "* We access values for the discount and cashflow in period `i` and compute the cumulative cashflow in the `sumvalue` variable\n",
    "* We then store these data along with the nominal cash flow for each period in the `bond_data_table` array and display the data in the `bond_data_table` variable by calling the `pretty_table(...)` function (with optional values for the `header,` and `tf` arguments)"
   ]
  },
  {
   "cell_type": "code",
   "execution_count": 6,
   "id": "1ba01e2f-98c1-40dd-89d0-16094e1c5515",
   "metadata": {},
   "outputs": [
    {
     "name": "stdout",
     "output_type": "stream",
     "text": [
      "========= ================= ================== ===================== ======================\n",
      " \u001b[1m Period \u001b[0m \u001b[1m Discount factor \u001b[0m \u001b[1m Nominal cashflow \u001b[0m \u001b[1m Discounted cashflow \u001b[0m \u001b[1m Cumulative cashflow \u001b[0m\n",
      "========= ================= ================== ===================== ======================\n",
      "       0               1.0           -99.4297              -99.4297              -99.4297\n",
      "       1            1.0073             0.6875              0.682514              -98.7472\n",
      "       2           1.01466             0.6875              0.677565              -98.0697\n",
      "       3           1.02208             0.6875              0.672651               -97.397\n",
      "       4           1.02954             0.6875              0.667773              -96.7292\n",
      "       5           1.03706             0.6875               0.66293              -96.0663\n",
      "       6           1.04464             0.6875              0.658123              -95.4082\n",
      "       7           1.05227             0.6875               0.65335              -94.7548\n",
      "       8           1.05996             0.6875              0.648612              -94.1062\n",
      "       9            1.0677             0.6875              0.643908              -93.4623\n",
      "      10            1.0755             0.6875              0.639238              -92.8231\n",
      "      11           1.08336             0.6875              0.634603              -92.1885\n",
      "      12           1.09127             0.6875                  0.63              -91.5585\n",
      "      13           1.09924             0.6875              0.625432               -90.933\n",
      "      14           1.10727            100.687                90.933                   0.0\n",
      "========= ================= ================== ===================== ======================\n"
     ]
    }
   ],
   "source": [
    "number_of_periods = length(cashflow)\n",
    "bond_data_table = Array{Any,2}(undef, number_of_periods, 5);\n",
    "sumvalue = 0.0;\n",
    "for i ∈ 0:(number_of_periods - 1)\n",
    "    \n",
    "    discount_value = discount[i]\n",
    "    payment = cashflow[i];\n",
    "    sumvalue += payment;\n",
    "\n",
    "    bond_data_table[i+1,1] = i;\n",
    "    bond_data_table[i+1,2] = discount_value;\n",
    "    bond_data_table[i+1,3] = discount_value*payment;\n",
    "    bond_data_table[i+1,4] = payment;\n",
    "    bond_data_table[i+1,5] = sumvalue;\n",
    "end\n",
    "pretty_table(bond_data_table; \n",
    "    header=[\"Period\", \"Discount factor\", \"Nominal cashflow\", \"Discounted cashflow\", \"Cumulative cashflow\"], \n",
    "    tf = tf_simple)"
   ]
  },
  {
   "cell_type": "markdown",
   "id": "7920e863-7949-4a61-a0d2-811331a87c15",
   "metadata": {},
   "source": [
    "## Objective 2: Simulate `Theorem 4` of Malkiel for a coupon-bearing Treasury note\n",
    "To simulate the asymmetry of changes in price following changes in the effective discount rate (yield), with all other values held constant, generate a new rate of the form $\\bar{r}\\leftarrow\\beta\\cdot\\bar{r}$, where $\\beta$ is a perturbation value; if $\\beta<1$ the perturbed interest rate is _less than_ the nominal rate, if $\\beta=1$ the perturbed interest rate is _equals_ the nominal rate, and if $\\beta>1$ the perturbed interest rate is _greater than_ the nominal rate. For this experiment, let's use the `test_note` instance from Objective 1, let's expect change the duration from `7`-years to `20`-years.\n",
    "\n",
    "* First, specify the number of perturbation values in the `number_of_samples_theorem_4` variable; for this simulation, let `number_of_samples_theorem_4 = 7`\n",
    "    * `Note`: if `number_of_samples` is odd, you'll capture the nominal case as the center data point\n",
    "* Next, specify the lower bound in the `β₁` variable and the upper bound in the `β₂` variable; let `β₁ = 0.8` and `β₂ = 1.2.`\n",
    "* Finally, we compute the perturbation array (stored in the `β_theorem_4`-variable) using the [range function](https://docs.julialang.org/en/v1/base/math/#Base.range) in combination with the [Julia pipe |> operator](https://docs.julialang.org/en/v1/manual/functions/#Function-composition-and-piping), and the [collect function](https://docs.julialang.org/en/v1/base/collections/#Base.collect-Tuple{Type,%20Any}), which converts a range type to a collection, i.e., an array"
   ]
  },
  {
   "cell_type": "code",
   "execution_count": 7,
   "id": "b0d46655-6bf1-4010-85af-f472ee913b9e",
   "metadata": {},
   "outputs": [],
   "source": [
    "number_of_samples_theorem_4  = 7;\n",
    "β₁ = 0.8;\n",
    "β₂ = 1.2;\n",
    "β_theorem_4 = range(β₁, stop = β₂, length = number_of_samples_theorem_4) |> collect;"
   ]
  },
  {
   "cell_type": "markdown",
   "id": "1b227653-cd2e-40c6-831c-a01bef72120c",
   "metadata": {},
   "source": [
    "Your job is to complete the implementation of the `Theorem 4` simulation started below and analyze the simulation results. Let's display the results in a table using the `pretty_table(...)` function exported from the [PrettyTables.jl package](https://github.com/ronisbr/PrettyTables.jl)\n",
    "*  `Hint`: check out the [deepcopy function](https://docs.julialang.org/en/v1/base/copy/#Base.deepcopy) in `Julia`"
   ]
  },
  {
   "cell_type": "code",
   "execution_count": 8,
   "id": "4046ca75-e39b-423b-bca2-bfe5f0acb945",
   "metadata": {},
   "outputs": [
    {
     "name": "stdout",
     "output_type": "stream",
     "text": [
      "=========== =============\n",
      " \u001b[1m   Δr̄ (%) \u001b[0m \u001b[1m ΔPrice (%) \u001b[0m\n",
      "=========== =============\n",
      "     -20.0      4.26252\n",
      "  -13.3333      2.50153\n",
      "  -6.66667      0.77364\n",
      "       0.0    -0.921818\n",
      "   6.66667     -2.58548\n",
      "   13.3333     -4.21796\n",
      "      20.0     -5.81988\n",
      "=========== =============\n"
     ]
    }
   ],
   "source": [
    "simulation_results_thm4_array = Array{Float64,2}(undef, number_of_samples_theorem_4, 2);\n",
    "for i ∈ eachindex(β_theorem_4)\n",
    "    β_value = β_theorem_4[i]\n",
    "\n",
    "    # create a copy of the test_node instance\n",
    "    model = deepcopy(test_note);\n",
    "    \n",
    "    ### BEGIN SOLUTION\n",
    "    model.rate = β_value*test_note.rate\n",
    "    model.T = 20.0\n",
    "    ### END SOLUTION\n",
    "    \n",
    "    # compute: use short-cut syntax and compute the price\n",
    "    perturbed_price = model |> discount_model |> x-> x.price\n",
    "    \n",
    "    # capture: put data in simulation_results_thm4_array\n",
    "    simulation_results_thm4_array[i,1] = 100*((model.rate - test_note.rate)/(test_note.rate));    # col 1: percentage in yield\n",
    "    simulation_results_thm4_array[i,2] = 100*((model.price - test_note.price)/(test_note.price)); # col 2: percentage change in the price of the note\n",
    "end\n",
    "pretty_table(simulation_results_thm4_array, header=[\"Δr̄ (%)\",\"ΔPrice (%)\"] , tf=tf_simple)"
   ]
  },
  {
   "cell_type": "markdown",
   "id": "550ee0b1-acd8-4ae3-9b38-9570eee83c42",
   "metadata": {},
   "source": [
    "### Discussion questions: Do your simulation results support the `Theorem 4`?\n",
    "1. From the table above, do the `Theorem 4` simulations support Malkiel's hypothesis, i.e., that the price change is asymmetric?\n",
    "2. Would you expect the price asymmetry to increase or decrease with the duration of the note or bond?"
   ]
  },
  {
   "cell_type": "markdown",
   "id": "b85f4f24-14e2-4f1f-808f-ab73194b2776",
   "metadata": {},
   "source": [
    "## Objective 3: Simulate `Theorem 5` of Malkiel for a coupon-bearing Treasury note\n",
    "To simulate the impact of changes in the discount (yield) and coupon rate on price, let's perturb the effective nominal yield $\\bar{r}$, for a `high,` `nominal,` and `low` coupon rate, with all other values held constant. We'll generate a new rate of the form $\\bar{r}\\leftarrow\\beta\\cdot\\bar{r}$, where $\\beta$ is a perturbation value; if $\\beta<1$ the perturbed interest rate is _less than_ the nominal rate, if $\\beta=1$ the perturbed interest rate is _equals_ the nominal rate, and if $\\beta>1$ the perturbed interest rate is _greater than_ the nominal rate.\n",
    "\n",
    "* First, specify the number of perturbation values in the `number_of_samples_theorem_5` variable; for this simulation, let `number_of_samples_theorem_5 = 3`\n",
    "    * `Note`: if `number_of_samples` is odd, we'll capture the nominal case as the center data point\n",
    "* Next, specify the lower bound in the `β₁` variable and the upper bound in the `β₂` variable; let `β₁ = 0.8` and `β₂ = 1.2.`\n",
    "* Finally, we compute the perturbation array (stored in the `β`-variable) using the [range function](https://docs.julialang.org/en/v1/base/math/#Base.range) in combination with the [Julia pipe |> operator](https://docs.julialang.org/en/v1/manual/functions/#Function-composition-and-piping), and the [collect function](https://docs.julialang.org/en/v1/base/collections/#Base.collect-Tuple{Type,%20Any}), which converts a range type to a collection, i.e., an array"
   ]
  },
  {
   "cell_type": "code",
   "execution_count": 9,
   "id": "1a8be92b-ba05-4468-99eb-2c9f9e5958dc",
   "metadata": {},
   "outputs": [],
   "source": [
    "number_of_samples_theorem_5 = 3;\n",
    "β₁ = 0.8;\n",
    "β₂ = 1.2;\n",
    "β = range(β₁, stop = β₂, length = number_of_samples_theorem_5) |> collect;"
   ]
  },
  {
   "cell_type": "markdown",
   "id": "f530220b-7d67-42e9-9898-6ab63b07613c",
   "metadata": {},
   "source": [
    "Your job is to complete the implementation of the simulation of `Theorem 5` started below, and analyze the simulation results.\n",
    "*  `Hint`: check out the [deepcopy function](https://docs.julialang.org/en/v1/base/copy/#Base.deepcopy) in `Julia`"
   ]
  },
  {
   "cell_type": "code",
   "execution_count": 10,
   "id": "8bdc06b7-cbab-405b-a7cd-1f56e1ce201c",
   "metadata": {},
   "outputs": [],
   "source": [
    "simulation_results_thm5_array = Array{Float64,2}(undef, number_of_samples_theorem_5, number_of_samples_theorem_5);\n",
    "for i ∈ eachindex(β)\n",
    "    β_outer = β[i]\n",
    "\n",
    "    # create a copy of the test_node instance\n",
    "    model = deepcopy(test_note);\n",
    "    \n",
    "    ### BEGIN SOLUTION\n",
    "    model.coupon = β_outer*test_note.coupon;\n",
    "    ### END SOLUTION\n",
    "    \n",
    "    for j ∈ eachindex(β)\n",
    "        \n",
    "        β_inner = β[j];\n",
    "        \n",
    "        ### BEGIN SOLUTION\n",
    "        model.rate = β_inner*test_note.rate;\n",
    "        ### END SOLUTION\n",
    "\n",
    "        # compute: use short-cut syntax and compute the price\n",
    "        perturbed_price = model |> discount_model |> x-> x.price\n",
    "        \n",
    "        # compute: the percentage difference between the nominal and perturbed price\n",
    "        simulation_results_thm5_array[i,j] = ((perturbed_price - nominal_computed_price)/nominal_computed_price)*100\n",
    "    end\n",
    "end\n",
    "simulation_results_thm5_array;"
   ]
  },
  {
   "cell_type": "markdown",
   "id": "b813b0d8-9539-4cdc-95e7-d33ce3917e19",
   "metadata": {},
   "source": [
    "Now, we'll visualize the `simulation_results_thm5_array` data array using the `pretty_table(...)` function exported from the [PrettyTables.jl package](https://github.com/ronisbr/PrettyTables.jl).\n",
    "* `NOTE`: This code assumes `number_of_samples = 3`; if you have modified the `number_of_samples` variable, you will need to update the logic that generates the table"
   ]
  },
  {
   "cell_type": "code",
   "execution_count": 11,
   "id": "482b9db0-a67e-4fde-860b-2c0f2976130b",
   "metadata": {},
   "outputs": [
    {
     "name": "stdout",
     "output_type": "stream",
     "text": [
      "================= ============ =============== =============\n",
      " \u001b[1m                \u001b[0m \u001b[1m -20% yield \u001b[0m \u001b[1m nominal yield \u001b[0m \u001b[1m +20% yield \u001b[0m\n",
      "================= ============ =============== =============\n",
      "     -20% coupon     0.109757        -1.83398     -3.73638\n",
      "  nominal coupon      1.96352             0.0     -1.92189\n",
      "     +20% coupon      3.81729         1.83398    -0.107394\n",
      "================= ============ =============== =============\n"
     ]
    }
   ],
   "source": [
    "# build a pretty table to display the results -\n",
    "(R,C) = size(simulation_results_thm5_array)\n",
    "pretty_table_data = Array{Any,2}(undef, R, C+1)\n",
    "\n",
    "# first col holds labels -\n",
    "for i ∈ 1:R\n",
    "    if (i == 1)\n",
    "        pretty_table_data[i,1] = \"-20% coupon\";\n",
    "    elseif (i == 3)\n",
    "        pretty_table_data[i,1] = \"+20% coupon\";\n",
    "    else\n",
    "        pretty_table_data[i,1] = \"nominal coupon\";\n",
    "    end\n",
    "end\n",
    "\n",
    "for i = 1:R\n",
    "    for j = 1:C\n",
    "        pretty_table_data[i,j+1] = simulation_results_thm5_array[i,j]\n",
    "    end\n",
    "end\n",
    "\n",
    "header_data = ([\"\", \"-20% yield\", \"nominal yield\", \"+20% yield\"])\n",
    "pretty_table(pretty_table_data, header=header_data, tf=tf_simple)"
   ]
  },
  {
   "cell_type": "markdown",
   "id": "94c71e02-5d2b-4371-84ef-f0cf6731bcc4",
   "metadata": {},
   "source": [
    "### Discussion question: Do your simulation results support the `Theorem 5`?\n",
    "1. From the table above, do the `Theorem 5` simulations support Malkiel's hypothesis, i.e., that high coupon instruments are less sensitive to changes in yield (discount rate)?\n",
    "    * `Hint` compare the center square with the corners; what do the differences in value suggest?"
   ]
  },
  {
   "cell_type": "markdown",
   "id": "c05db129-a57b-4e3a-a13e-564ee11376f2",
   "metadata": {},
   "source": [
    "## Disclaimer and Risks\n",
    "__This content is offered solely for training and informational purposes__. No offer or solicitation to buy or sell securities or derivative products or any investment or trading advice or strategy is made, given, or endorsed by the teaching team. \n",
    "\n",
    "__Trading involves risk__. Carefully review your financial situation before investing in securities, futures contracts, options, or commodity interests. Past performance, whether actual or indicated by historical tests of strategies, is no guarantee of future performance or success. Trading is generally inappropriate for someone with limited resources, investment or trading experience, or a low-risk tolerance.  Only risk capital that is not required for living expenses.\n",
    "\n",
    "__You are fully responsible for any investment or trading decisions you make__. Such decisions should be based solely on evaluating your financial circumstances, investment or trading objectives, risk tolerance, and liquidity needs."
   ]
  },
  {
   "cell_type": "code",
   "execution_count": null,
   "id": "224df8b8-e643-47ef-916d-e12fd6b7688a",
   "metadata": {},
   "outputs": [],
   "source": []
  }
 ],
 "metadata": {
  "kernelspec": {
   "display_name": "Julia 1.10.0",
   "language": "julia",
   "name": "julia-1.10"
  },
  "language_info": {
   "file_extension": ".jl",
   "mimetype": "application/julia",
   "name": "julia",
   "version": "1.10.0"
  }
 },
 "nbformat": 4,
 "nbformat_minor": 5
}
