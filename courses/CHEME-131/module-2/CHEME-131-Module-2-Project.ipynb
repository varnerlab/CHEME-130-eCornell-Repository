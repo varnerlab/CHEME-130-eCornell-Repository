{
 "cells": [
  {
   "cell_type": "code",
   "execution_count": 1,
   "id": "8bdc06b7-cbab-405b-a7cd-1f56e1ce201c",
   "metadata": {},
   "outputs": [
    {
     "ename": "LoadError",
     "evalue": "UndefVarError: `number_of_samples` not defined",
     "output_type": "error",
     "traceback": [
      "UndefVarError: `number_of_samples` not defined",
      "",
      "Stacktrace:",
      " [1] top-level scope",
      "   @ In[1]:1"
     ]
    }
   ],
   "source": [
    "simulation_results_array = Array{Float64,2}(undef, number_of_samples, number_of_samples);\n",
    "for i ∈ eachindex(β)\n",
    "    β_outer = β[i]\n",
    "    \n",
    "    model = deepcopy(cashflow_check_model);\n",
    "    model.coupon = β_outer*cashflow_check_model.coupon;\n",
    "    \n",
    "    for j ∈ eachindex(β)\n",
    "        \n",
    "        β_inner = β[j];\n",
    "        model.rate = β_inner*cashflow_check_model.rate;\n",
    "        perturbed_price = model |> discount_model |> x-> x.price\n",
    "        simulation_results_array[i,j] = ((perturbed_price - nominal_price)/nominal_price)*100\n",
    "    end\n",
    "end\n",
    "simulation_results_array;"
   ]
  },
  {
   "cell_type": "code",
   "execution_count": 2,
   "id": "482b9db0-a67e-4fde-860b-2c0f2976130b",
   "metadata": {},
   "outputs": [
    {
     "ename": "LoadError",
     "evalue": "UndefVarError: `simulation_results_array` not defined",
     "output_type": "error",
     "traceback": [
      "UndefVarError: `simulation_results_array` not defined",
      "",
      "Stacktrace:",
      " [1] top-level scope",
      "   @ In[2]:2"
     ]
    }
   ],
   "source": [
    "# build a pretty table to display the results -\n",
    "(R,C) = size(simulation_results_array)\n",
    "pretty_table_data = Array{Any,2}(undef, R, C+1)\n",
    "\n",
    "# first col holds labels -\n",
    "for i ∈ 1:R\n",
    "    if (i == 1)\n",
    "        pretty_table_data[i,1] = \"-20% coupon\";\n",
    "    elseif (i == 3)\n",
    "        pretty_table_data[i,1] = \"+20% coupon\";\n",
    "    else\n",
    "        pretty_table_data[i,1] = \"nominal coupon\";\n",
    "    end\n",
    "end\n",
    "\n",
    "for i = 1:R\n",
    "    for j = 1:C\n",
    "        pretty_table_data[i,j+1] = simulation_results_array[i,j]\n",
    "    end\n",
    "end\n",
    "\n",
    "header_data = ([\"\", \"-20% yield\", \"nominal yield\", \"+20% yield\"])\n",
    "pretty_table(pretty_table_data, header=header_data)"
   ]
  },
  {
   "cell_type": "code",
   "execution_count": null,
   "id": "7b864186-ba3f-48ae-9e2f-8332469faf39",
   "metadata": {},
   "outputs": [],
   "source": []
  }
 ],
 "metadata": {
  "kernelspec": {
   "display_name": "Julia 1.10.0",
   "language": "julia",
   "name": "julia-1.10"
  },
  "language_info": {
   "file_extension": ".jl",
   "mimetype": "application/julia",
   "name": "julia",
   "version": "1.10.0"
  }
 },
 "nbformat": 4,
 "nbformat_minor": 5
}
