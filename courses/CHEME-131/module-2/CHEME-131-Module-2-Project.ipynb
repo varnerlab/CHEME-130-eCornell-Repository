{
 "cells": [
  {
   "cell_type": "markdown",
   "id": "c2ea89ee-6ab6-44c4-b746-cab8ee51f423",
   "metadata": {},
   "source": [
    "# Calculate the Year to Date Price Trends for 10-year Treasury Notes"
   ]
  },
  {
   "cell_type": "markdown",
   "id": "e7d01952-97b3-4bcf-9f4b-22136acc55e6",
   "metadata": {},
   "source": [
    "## Background\n",
    "Treasury notes, also known as T-notes, are financial instruments that offer a fixed interest rate every six months until they mature. These instruments are available for 2, 3, 5, 7, and 10 years and can be priced above or below their face (par) value. Upon maturity, lenders are entitled to the full par value of the note. T-notes are considered coupon debt instruments, meaning lenders receive regular interest payments based on a coupon rate throughout the note’s lifespan. \n",
    "\n",
    "Treasury bonds, like T-notes, are debt instruments that pay a fixed interest rate every six months. Unlike T-notes, however, Treasury bonds are long-term U.S. Treasury debt instruments with terms of 20 or 30 years. Once a bond reaches maturity, the bondholder receives its face value.  Notes and bonds can be held until maturity or sold before that time.\n",
    "\n",
    "### Pricing\n",
    "Let the term of a bond (or note) be T-years with  $\\lambda$ coupon payments per year; $N = \\lambda{T}$ coupon payments over the bond term. Further, let $\\bar{c}$ denote the annualized coupon rate, and $\\bar{r}$ denote the annual effective market rate of interest. Then, the _fair price_ for the bond (or note) $V_{B}$ is the present value of coupon payments $C$ plus the discounted face (par) value $V_{P}$ of the bond:\n",
    "\n",
    "$$\n",
    "V_{B} = \\frac{V_{P}}{\\left(1+i\\right)^{N}}+\\sum_{j=1}^{N}\\frac{C}{\\left(1+i\\right)^{j}}\n",
    "$$\n",
    "\n",
    "The coupon payment $C=\\left(\\bar{c}/\\lambda\\right)\\cdot{V_{P}}$ is set when the bond is purchased, and the interest rate $i=\\bar{r}/\\lambda$ varies with the market (set at auction). The contract between the U.S. government, the issuer, and the bondholder (you) includes the bond’s coupon rate, maturity date, and face (par) value."
   ]
  },
  {
   "cell_type": "markdown",
   "id": "ffd3a742-442c-457a-ac87-b2e127438bbb",
   "metadata": {},
   "source": [
    "## Objective\n",
    "Using historical `TMUBMUSD10Y` quotation data from the [Wall Street Journal](https://www.wsj.com/market-data/bonds/treasuries), compute the price trend for a 10-year T-Note with a coupon rate of 3.375%. We'll load the historical dataset, which contains daily Year-to-Date (YTD) Open, High, Low, and Close yield values from `01/03/23` to `06/01/23`. You'll compute the price trend from this historical data.\n",
    "\n",
    "### Tasks and Strategies\n",
    "1. Compute the T-Note price series for the daily Open, High, Low, and Close values in the historical data set. Store the T-Note price values in an array, where each row holds a date and each column corresponds to the price for the Open, High, Low, and Close values for that date."
   ]
  },
  {
   "cell_type": "markdown",
   "id": "9c5275eb-bda6-42ae-8258-d33809da69d1",
   "metadata": {},
   "source": [
    "## Setup\n",
    "In the following code blocks, we set up the computational environment by including the `Include.jl` file. The `Include.jl` file loads external packages, functions that we will use in this exercise, and custom types to model the components of our problem."
   ]
  },
  {
   "cell_type": "code",
   "execution_count": 1,
   "id": "8e30e4d0-3628-451d-987f-de5d9015604e",
   "metadata": {},
   "outputs": [],
   "source": [
    "include(\"Include.jl\");"
   ]
  },
  {
   "cell_type": "markdown",
   "id": "f6cadd33-e26f-41bc-a361-3b6f79a76d66",
   "metadata": {},
   "source": [
    "## Load historical data"
   ]
  },
  {
   "cell_type": "code",
   "execution_count": 2,
   "id": "3654115d-50f2-439a-8ac0-040293b9c0a8",
   "metadata": {},
   "outputs": [],
   "source": [
    "path_to_data_file = joinpath(_PATH_TO_DATA,\"TMUBMUSD10Y-d-01-03-23-to-06-01-23.csv\");\n",
    "dataset = loaddatafile(path_to_data_file);"
   ]
  },
  {
   "cell_type": "markdown",
   "id": "01ffcff4-1d0f-424c-90d8-856fc7a3d1b3",
   "metadata": {},
   "source": [
    "## Compute price series"
   ]
  },
  {
   "cell_type": "code",
   "execution_count": 6,
   "id": "9ed23283-637f-4b63-b1f2-04e6e72f1142",
   "metadata": {},
   "outputs": [
    {
     "data": {
      "text/html": [
       "<div><div style = \"float: left;\"><span>106×5 DataFrame</span></div><div style = \"float: right;\"><span style = \"font-style: italic;\">81 rows omitted</span></div><div style = \"clear: both;\"></div></div><div class = \"data-frame\" style = \"overflow-x: scroll;\"><table class = \"data-frame\" style = \"margin-bottom: 6px;\"><thead><tr class = \"header\"><th class = \"rowNumber\" style = \"font-weight: bold; text-align: right;\">Row</th><th style = \"text-align: left;\">Date</th><th style = \"text-align: left;\">Open</th><th style = \"text-align: left;\">High</th><th style = \"text-align: left;\">Low</th><th style = \"text-align: left;\">Close</th></tr><tr class = \"subheader headerLastRow\"><th class = \"rowNumber\" style = \"font-weight: bold; text-align: right;\"></th><th title = \"Date\" style = \"text-align: left;\">Date</th><th title = \"Float64\" style = \"text-align: left;\">Float64</th><th title = \"Float64\" style = \"text-align: left;\">Float64</th><th title = \"Float64\" style = \"text-align: left;\">Float64</th><th title = \"Float64\" style = \"text-align: left;\">Float64</th></tr></thead><tbody><tr><td class = \"rowNumber\" style = \"font-weight: bold; text-align: right;\">1</td><td style = \"text-align: left;\">2023-06-01</td><td style = \"text-align: right;\">3.647</td><td style = \"text-align: right;\">3.69</td><td style = \"text-align: right;\">3.576</td><td style = \"text-align: right;\">3.6</td></tr><tr><td class = \"rowNumber\" style = \"font-weight: bold; text-align: right;\">2</td><td style = \"text-align: left;\">2023-05-31</td><td style = \"text-align: right;\">3.692</td><td style = \"text-align: right;\">3.694</td><td style = \"text-align: right;\">3.615</td><td style = \"text-align: right;\">3.647</td></tr><tr><td class = \"rowNumber\" style = \"font-weight: bold; text-align: right;\">3</td><td style = \"text-align: left;\">2023-05-30</td><td style = \"text-align: right;\">3.806</td><td style = \"text-align: right;\">3.806</td><td style = \"text-align: right;\">3.687</td><td style = \"text-align: right;\">3.692</td></tr><tr><td class = \"rowNumber\" style = \"font-weight: bold; text-align: right;\">4</td><td style = \"text-align: left;\">2023-05-26</td><td style = \"text-align: right;\">3.822</td><td style = \"text-align: right;\">3.855</td><td style = \"text-align: right;\">3.78</td><td style = \"text-align: right;\">3.806</td></tr><tr><td class = \"rowNumber\" style = \"font-weight: bold; text-align: right;\">5</td><td style = \"text-align: left;\">2023-05-25</td><td style = \"text-align: right;\">3.75</td><td style = \"text-align: right;\">3.826</td><td style = \"text-align: right;\">3.733</td><td style = \"text-align: right;\">3.822</td></tr><tr><td class = \"rowNumber\" style = \"font-weight: bold; text-align: right;\">6</td><td style = \"text-align: left;\">2023-05-24</td><td style = \"text-align: right;\">3.701</td><td style = \"text-align: right;\">3.751</td><td style = \"text-align: right;\">3.667</td><td style = \"text-align: right;\">3.75</td></tr><tr><td class = \"rowNumber\" style = \"font-weight: bold; text-align: right;\">7</td><td style = \"text-align: left;\">2023-05-23</td><td style = \"text-align: right;\">3.715</td><td style = \"text-align: right;\">3.759</td><td style = \"text-align: right;\">3.69</td><td style = \"text-align: right;\">3.701</td></tr><tr><td class = \"rowNumber\" style = \"font-weight: bold; text-align: right;\">8</td><td style = \"text-align: left;\">2023-05-22</td><td style = \"text-align: right;\">3.683</td><td style = \"text-align: right;\">3.725</td><td style = \"text-align: right;\">3.644</td><td style = \"text-align: right;\">3.715</td></tr><tr><td class = \"rowNumber\" style = \"font-weight: bold; text-align: right;\">9</td><td style = \"text-align: left;\">2023-05-19</td><td style = \"text-align: right;\">3.651</td><td style = \"text-align: right;\">3.724</td><td style = \"text-align: right;\">3.62</td><td style = \"text-align: right;\">3.683</td></tr><tr><td class = \"rowNumber\" style = \"font-weight: bold; text-align: right;\">10</td><td style = \"text-align: left;\">2023-05-18</td><td style = \"text-align: right;\">3.569</td><td style = \"text-align: right;\">3.658</td><td style = \"text-align: right;\">3.554</td><td style = \"text-align: right;\">3.651</td></tr><tr><td class = \"rowNumber\" style = \"font-weight: bold; text-align: right;\">11</td><td style = \"text-align: left;\">2023-05-17</td><td style = \"text-align: right;\">3.542</td><td style = \"text-align: right;\">3.591</td><td style = \"text-align: right;\">3.513</td><td style = \"text-align: right;\">3.569</td></tr><tr><td class = \"rowNumber\" style = \"font-weight: bold; text-align: right;\">12</td><td style = \"text-align: left;\">2023-05-16</td><td style = \"text-align: right;\">3.507</td><td style = \"text-align: right;\">3.575</td><td style = \"text-align: right;\">3.461</td><td style = \"text-align: right;\">3.542</td></tr><tr><td class = \"rowNumber\" style = \"font-weight: bold; text-align: right;\">13</td><td style = \"text-align: left;\">2023-05-15</td><td style = \"text-align: right;\">3.468</td><td style = \"text-align: right;\">3.51</td><td style = \"text-align: right;\">3.458</td><td style = \"text-align: right;\">3.507</td></tr><tr><td style = \"text-align: right;\">&vellip;</td><td style = \"text-align: right;\">&vellip;</td><td style = \"text-align: right;\">&vellip;</td><td style = \"text-align: right;\">&vellip;</td><td style = \"text-align: right;\">&vellip;</td><td style = \"text-align: right;\">&vellip;</td></tr><tr><td class = \"rowNumber\" style = \"font-weight: bold; text-align: right;\">95</td><td style = \"text-align: left;\">2023-01-19</td><td style = \"text-align: right;\">3.373</td><td style = \"text-align: right;\">3.427</td><td style = \"text-align: right;\">3.32</td><td style = \"text-align: right;\">3.4</td></tr><tr><td class = \"rowNumber\" style = \"font-weight: bold; text-align: right;\">96</td><td style = \"text-align: left;\">2023-01-18</td><td style = \"text-align: right;\">3.549</td><td style = \"text-align: right;\">3.559</td><td style = \"text-align: right;\">3.369</td><td style = \"text-align: right;\">3.373</td></tr><tr><td class = \"rowNumber\" style = \"font-weight: bold; text-align: right;\">97</td><td style = \"text-align: left;\">2023-01-17</td><td style = \"text-align: right;\">3.505</td><td style = \"text-align: right;\">3.581</td><td style = \"text-align: right;\">3.502</td><td style = \"text-align: right;\">3.549</td></tr><tr><td class = \"rowNumber\" style = \"font-weight: bold; text-align: right;\">98</td><td style = \"text-align: left;\">2023-01-13</td><td style = \"text-align: right;\">3.446</td><td style = \"text-align: right;\">3.513</td><td style = \"text-align: right;\">3.428</td><td style = \"text-align: right;\">3.505</td></tr><tr><td class = \"rowNumber\" style = \"font-weight: bold; text-align: right;\">99</td><td style = \"text-align: left;\">2023-01-12</td><td style = \"text-align: right;\">3.541</td><td style = \"text-align: right;\">3.577</td><td style = \"text-align: right;\">3.422</td><td style = \"text-align: right;\">3.446</td></tr><tr><td class = \"rowNumber\" style = \"font-weight: bold; text-align: right;\">100</td><td style = \"text-align: left;\">2023-01-11</td><td style = \"text-align: right;\">3.621</td><td style = \"text-align: right;\">3.621</td><td style = \"text-align: right;\">3.532</td><td style = \"text-align: right;\">3.541</td></tr><tr><td class = \"rowNumber\" style = \"font-weight: bold; text-align: right;\">101</td><td style = \"text-align: left;\">2023-01-10</td><td style = \"text-align: right;\">3.539</td><td style = \"text-align: right;\">3.636</td><td style = \"text-align: right;\">3.522</td><td style = \"text-align: right;\">3.621</td></tr><tr><td class = \"rowNumber\" style = \"font-weight: bold; text-align: right;\">102</td><td style = \"text-align: left;\">2023-01-09</td><td style = \"text-align: right;\">3.563</td><td style = \"text-align: right;\">3.612</td><td style = \"text-align: right;\">3.511</td><td style = \"text-align: right;\">3.539</td></tr><tr><td class = \"rowNumber\" style = \"font-weight: bold; text-align: right;\">103</td><td style = \"text-align: left;\">2023-01-06</td><td style = \"text-align: right;\">3.719</td><td style = \"text-align: right;\">3.749</td><td style = \"text-align: right;\">3.552</td><td style = \"text-align: right;\">3.563</td></tr><tr><td class = \"rowNumber\" style = \"font-weight: bold; text-align: right;\">104</td><td style = \"text-align: left;\">2023-01-05</td><td style = \"text-align: right;\">3.687</td><td style = \"text-align: right;\">3.783</td><td style = \"text-align: right;\">3.687</td><td style = \"text-align: right;\">3.719</td></tr><tr><td class = \"rowNumber\" style = \"font-weight: bold; text-align: right;\">105</td><td style = \"text-align: left;\">2023-01-04</td><td style = \"text-align: right;\">3.746</td><td style = \"text-align: right;\">3.764</td><td style = \"text-align: right;\">3.672</td><td style = \"text-align: right;\">3.687</td></tr><tr><td class = \"rowNumber\" style = \"font-weight: bold; text-align: right;\">106</td><td style = \"text-align: left;\">2023-01-03</td><td style = \"text-align: right;\">3.88</td><td style = \"text-align: right;\">3.88</td><td style = \"text-align: right;\">3.728</td><td style = \"text-align: right;\">3.746</td></tr></tbody></table></div>"
      ],
      "text/latex": [
       "\\begin{tabular}{r|ccccc}\n",
       "\t& Date & Open & High & Low & Close\\\\\n",
       "\t\\hline\n",
       "\t& Date & Float64 & Float64 & Float64 & Float64\\\\\n",
       "\t\\hline\n",
       "\t1 & 2023-06-01 & 3.647 & 3.69 & 3.576 & 3.6 \\\\\n",
       "\t2 & 2023-05-31 & 3.692 & 3.694 & 3.615 & 3.647 \\\\\n",
       "\t3 & 2023-05-30 & 3.806 & 3.806 & 3.687 & 3.692 \\\\\n",
       "\t4 & 2023-05-26 & 3.822 & 3.855 & 3.78 & 3.806 \\\\\n",
       "\t5 & 2023-05-25 & 3.75 & 3.826 & 3.733 & 3.822 \\\\\n",
       "\t6 & 2023-05-24 & 3.701 & 3.751 & 3.667 & 3.75 \\\\\n",
       "\t7 & 2023-05-23 & 3.715 & 3.759 & 3.69 & 3.701 \\\\\n",
       "\t8 & 2023-05-22 & 3.683 & 3.725 & 3.644 & 3.715 \\\\\n",
       "\t9 & 2023-05-19 & 3.651 & 3.724 & 3.62 & 3.683 \\\\\n",
       "\t10 & 2023-05-18 & 3.569 & 3.658 & 3.554 & 3.651 \\\\\n",
       "\t11 & 2023-05-17 & 3.542 & 3.591 & 3.513 & 3.569 \\\\\n",
       "\t12 & 2023-05-16 & 3.507 & 3.575 & 3.461 & 3.542 \\\\\n",
       "\t13 & 2023-05-15 & 3.468 & 3.51 & 3.458 & 3.507 \\\\\n",
       "\t14 & 2023-05-12 & 3.389 & 3.475 & 3.369 & 3.468 \\\\\n",
       "\t15 & 2023-05-11 & 3.445 & 3.446 & 3.343 & 3.389 \\\\\n",
       "\t16 & 2023-05-10 & 3.521 & 3.528 & 3.431 & 3.445 \\\\\n",
       "\t17 & 2023-05-09 & 3.513 & 3.53 & 3.48 & 3.521 \\\\\n",
       "\t18 & 2023-05-08 & 3.44 & 3.522 & 3.425 & 3.513 \\\\\n",
       "\t19 & 2023-05-05 & 3.385 & 3.466 & 3.372 & 3.44 \\\\\n",
       "\t20 & 2023-05-04 & 3.343 & 3.544 & 3.292 & 3.385 \\\\\n",
       "\t21 & 2023-05-03 & 3.429 & 3.544 & 3.341 & 3.343 \\\\\n",
       "\t22 & 2023-05-02 & 3.572 & 3.572 & 3.422 & 3.429 \\\\\n",
       "\t23 & 2023-05-01 & 3.422 & 3.595 & 3.422 & 3.572 \\\\\n",
       "\t24 & 2023-04-28 & 3.525 & 3.552 & 3.422 & 3.422 \\\\\n",
       "\t25 & 2023-04-27 & 3.45 & 3.538 & 3.405 & 3.525 \\\\\n",
       "\t26 & 2023-04-26 & 3.402 & 3.459 & 3.378 & 3.45 \\\\\n",
       "\t27 & 2023-04-25 & 3.496 & 3.539 & 3.383 & 3.402 \\\\\n",
       "\t28 & 2023-04-24 & 3.577 & 3.577 & 3.494 & 3.496 \\\\\n",
       "\t29 & 2023-04-21 & 3.538 & 3.58 & 3.507 & 3.577 \\\\\n",
       "\t30 & 2023-04-20 & 3.594 & 3.613 & 3.528 & 3.538 \\\\\n",
       "\t$\\dots$ & $\\dots$ & $\\dots$ & $\\dots$ & $\\dots$ & $\\dots$ \\\\\n",
       "\\end{tabular}\n"
      ],
      "text/plain": [
       "\u001b[1m106×5 DataFrame\u001b[0m\n",
       "\u001b[1m Row \u001b[0m│\u001b[1m Date       \u001b[0m\u001b[1m Open    \u001b[0m\u001b[1m High    \u001b[0m\u001b[1m Low     \u001b[0m\u001b[1m Close   \u001b[0m\n",
       "     │\u001b[90m Date       \u001b[0m\u001b[90m Float64 \u001b[0m\u001b[90m Float64 \u001b[0m\u001b[90m Float64 \u001b[0m\u001b[90m Float64 \u001b[0m\n",
       "─────┼────────────────────────────────────────────────\n",
       "   1 │ 2023-06-01    3.647    3.69     3.576    3.6\n",
       "   2 │ 2023-05-31    3.692    3.694    3.615    3.647\n",
       "   3 │ 2023-05-30    3.806    3.806    3.687    3.692\n",
       "   4 │ 2023-05-26    3.822    3.855    3.78     3.806\n",
       "   5 │ 2023-05-25    3.75     3.826    3.733    3.822\n",
       "   6 │ 2023-05-24    3.701    3.751    3.667    3.75\n",
       "   7 │ 2023-05-23    3.715    3.759    3.69     3.701\n",
       "   8 │ 2023-05-22    3.683    3.725    3.644    3.715\n",
       "   9 │ 2023-05-19    3.651    3.724    3.62     3.683\n",
       "  10 │ 2023-05-18    3.569    3.658    3.554    3.651\n",
       "  11 │ 2023-05-17    3.542    3.591    3.513    3.569\n",
       "  ⋮  │     ⋮          ⋮        ⋮        ⋮        ⋮\n",
       "  97 │ 2023-01-17    3.505    3.581    3.502    3.549\n",
       "  98 │ 2023-01-13    3.446    3.513    3.428    3.505\n",
       "  99 │ 2023-01-12    3.541    3.577    3.422    3.446\n",
       " 100 │ 2023-01-11    3.621    3.621    3.532    3.541\n",
       " 101 │ 2023-01-10    3.539    3.636    3.522    3.621\n",
       " 102 │ 2023-01-09    3.563    3.612    3.511    3.539\n",
       " 103 │ 2023-01-06    3.719    3.749    3.552    3.563\n",
       " 104 │ 2023-01-05    3.687    3.783    3.687    3.719\n",
       " 105 │ 2023-01-04    3.746    3.764    3.672    3.687\n",
       " 106 │ 2023-01-03    3.88     3.88     3.728    3.746\n",
       "\u001b[36m                                       85 rows omitted\u001b[0m"
      ]
     },
     "execution_count": 6,
     "metadata": {},
     "output_type": "execute_result"
    }
   ],
   "source": [
    "number_of_days = nrow(dataset)\n",
    "price_array = Array{Float64,2}(undef, number_of_days, 4);\n",
    "\n",
    "# main loop -\n",
    "for i ∈ 1:number_of_days\n",
    "    \n",
    "end\n"
   ]
  },
  {
   "cell_type": "code",
   "execution_count": 4,
   "id": "6168c56d-4542-4827-ae4d-6d4529375d7b",
   "metadata": {},
   "outputs": [],
   "source": [
    "df = DateFormat(\"m/d/yyyy\");"
   ]
  },
  {
   "cell_type": "code",
   "execution_count": 5,
   "id": "7e241ef1-b2ff-4f5e-a0a5-266b960443ee",
   "metadata": {},
   "outputs": [
    {
     "data": {
      "text/plain": [
       "0023-06-01"
      ]
     },
     "execution_count": 5,
     "metadata": {},
     "output_type": "execute_result"
    }
   ],
   "source": [
    "d = Date(\"6/1/23\",df)"
   ]
  },
  {
   "cell_type": "code",
   "execution_count": null,
   "id": "60a2f877-ce8d-4c8b-9239-3b3004322706",
   "metadata": {},
   "outputs": [],
   "source": []
  }
 ],
 "metadata": {
  "kernelspec": {
   "display_name": "Julia 1.9.0",
   "language": "julia",
   "name": "julia-1.9"
  },
  "language_info": {
   "file_extension": ".jl",
   "mimetype": "application/julia",
   "name": "julia",
   "version": "1.9.0"
  }
 },
 "nbformat": 4,
 "nbformat_minor": 5
}
