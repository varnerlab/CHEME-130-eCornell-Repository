{
 "cells": [
  {
   "cell_type": "markdown",
   "id": "c01d085c-19ea-4ed0-b4a3-48084d962514",
   "metadata": {},
   "source": [
    "# Pricing of United States Treasury Notes and Bills"
   ]
  },
  {
   "cell_type": "markdown",
   "id": "f65683a1-3094-40cd-89df-effbd8a20f86",
   "metadata": {},
   "source": [
    "## Background\n",
    "Treasury notes, also known as T-notes, are financial instruments that offer a fixed interest rate every six months until they mature. These instruments are available in terms of 2, 3, 5, 7, and 10 years, and can be priced above or below their face (par) value. Upon maturity, lenders are entitled to the full par value of the note. T-notes are considered coupon debt instruments, meaning that lenders receive regular interest payments based on a coupon rate throughout the lifespan of the note. \n",
    "\n",
    "Treasury bonds, like T-notes, are debt instruments that pay a fixed interest rate every six months. Unlike T-notes, however, Treasury bonds are long-term U.S. Treasury debt instruments that have terms of 20 or 30 years. Once a bond reaches maturity, the bondholder receives its face value.  Notes and bonds can be held until maturity or sold before that time.\n",
    "\n",
    "### Pricing\n",
    "Let the term of a bond (or note) be T-years with semiannual ($\\lambda = 2$) coupon payments per year; $N = \\lambda{T}$ coupon payments over the bond term. Further, let $\\bar{c}$ denote the annualized coupon rate, and $\\bar{r}$ denote the annual effective market interest rate. Then, the _fair price_ for the bond (or note) $V_{B}$ is the present value of coupon payments $C$ plus the discounted face (par) value $V_{P}$ of the bond:\n",
    "\n",
    "$$\n",
    "V_{B} = \\frac{V_{P}}{\\left(1+i\\right)^{N}}+\\sum_{j=1}^{N}\\frac{C}{\\left(1+i\\right)^{j}}\n",
    "$$\n",
    "\n",
    "The coupon payment $C=\\left(\\bar{c}/\\lambda\\right)\\cdot{V_{P}}$ is set when the bond is purchased, and the interest rate $i=\\bar{r}/\\lambda$ varies with the market. The contract between the U.S. government, the issuer, and the bondholder (you) includes the bond’s coupon rate, maturity date, and face (par) value."
   ]
  },
  {
   "cell_type": "markdown",
   "id": "352555e2-6031-4516-ade0-d64fc9c9ce11",
   "metadata": {},
   "source": [
    "## Objectives\n",
    "Let's use public quotation data from the [Wall Street Journal](https://www.wsj.com/market-data/bonds/treasuries) to test the pricing formula above (and our codes to calculte $V_{B}$). Next, we'll do a [Yield to Maturity (YTM)](https://en.wikipedia.org/wiki/Yield_to_maturity) calculation for notes and bonds of different durations.\n",
    "\n",
    "### Tasks and Strategies\n",
    "1. Validate the prices calculated using our implementation of the pricing formula above with historical data for bonds and notes of different durations. Further, show that longer term bonds are more sensitive to changes in the market interest rate compared to shorter duration instruments. \n",
    "1. Using our validated bond/note code, compute the [Yield to Maturity (YTM)](https://en.wikipedia.org/wiki/Yield_to_maturity) for bonds of different durations. Show how the parameters in the bond pricing equation influence the yeild to majurity. "
   ]
  },
  {
   "cell_type": "code",
   "execution_count": null,
   "id": "2a18b2c1-310c-4ef7-989a-f561dc5a0048",
   "metadata": {},
   "outputs": [],
   "source": []
  }
 ],
 "metadata": {
  "kernelspec": {
   "display_name": "Julia 1.9.0",
   "language": "julia",
   "name": "julia-1.9"
  },
  "language_info": {
   "file_extension": ".jl",
   "mimetype": "application/julia",
   "name": "julia",
   "version": "1.9.0"
  }
 },
 "nbformat": 4,
 "nbformat_minor": 5
}
