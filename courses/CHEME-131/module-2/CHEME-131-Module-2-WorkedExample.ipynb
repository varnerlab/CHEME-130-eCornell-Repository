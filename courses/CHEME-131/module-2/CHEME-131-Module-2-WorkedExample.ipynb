{
 "cells": [
  {
   "cell_type": "markdown",
   "id": "cea547a1-fc7b-492a-bb49-53031009b2b2",
   "metadata": {},
   "source": [
    "# Example: The Pricing of United States Treasury Coupon Bearing Notes and Bonds\n",
    "United States Treasury coupon Notes, or Bonds, are a type of fixed-income debt security that investors can buy and sell on the market. When investors purchase a note or bond, they receive periodic coupon payments during the lifetime of the security. At the termination of the bond, the investor receives a defined amount, called the face or par value. \n",
    "\n",
    "## Learning objectives\n",
    "In this `example`, students will be familiarized with calculating the prices of United States Treasury coupon notes and bonds. \n",
    "\n",
    "* __Prerequisite__: Before we begin any calculations, we'll load a United States Treasury action dataset for Treasury notes (`T-notes` or just `notes`) and bonds (`T-bonds` or just `bonds`).\n",
    "* __Objective 1__: First, we'll visualize the cashflows and discounts for a coupon-bearing Treasury bond\n",
    "    * `Check`: Is the computed and observed bond price `similar`? \n",
    "* __Objective 2__: Next, we'll compute the price of a collection of recent `T-notes` and `T-bonds` issued by the United States Treasury and validate our simulated prices using Treasury auction data from `2022` and `2023` for these instruments.\n",
    "    * `Check`: How well do we estimate the price of notes and bonds at auction?\n",
    "        * `Discussion question`: Are any of the `notes` or `bonds` mispriced?\n",
    "* __Project__: In the `project` associated with this module, we'll continue this exercise and explore how other factors influence the price of coupon-bearing Treasury notes and bonds."
   ]
  },
  {
   "cell_type": "markdown",
   "id": "15319cca-0619-49a9-b8ed-649de43f734f",
   "metadata": {
    "editable": true,
    "jp-MarkdownHeadingCollapsed": true,
    "slideshow": {
     "slide_type": ""
    },
    "tags": []
   },
   "source": [
    "## Setup\n",
    "We load the [VLQuantitativeFinancePackage.jl](https://github.com/varnerlab/VLQuantitativeFinancePackage.jl) package, and several other external [Julia](https://julialang.org/downloads/https://julialang.org/downloads/) packages, as well as some helper code and custom Types (see below), by calling the [include(...)](https://docs.julialang.org/en/v1/manual/code-loading/https://docs.julialang.org/en/v1/manual/code-loading/) command on the file `Include.jl`:"
   ]
  },
  {
   "cell_type": "code",
   "execution_count": 1,
   "id": "eb237047-3ab8-4d5e-9679-8c9f2cd5177f",
   "metadata": {
    "tags": []
   },
   "outputs": [
    {
     "name": "stderr",
     "output_type": "stream",
     "text": [
      "\u001b[32m\u001b[1m    Updating\u001b[22m\u001b[39m git-repo `https://github.com/varnerlab/VLQuantitativeFinancePackage.jl.git`\n",
      "\u001b[32m\u001b[1m   Resolving\u001b[22m\u001b[39m package versions...\n",
      "\u001b[32m\u001b[1m    Updating\u001b[22m\u001b[39m `~/Desktop/julia_work/CHEME-130-eCornell-Repository/courses/CHEME-131/module-2/Project.toml`\n",
      "  \u001b[90m[4119e0bf] \u001b[39m\u001b[93m~ VLQuantitativeFinancePackage v1.0.0-DEV `https://github.com/varnerlab/VLQuantitativeFinancePackage.jl.git#main` ⇒ v1.0.0-DEV `https://github.com/varnerlab/VLQuantitativeFinancePackage.jl.git#main`\u001b[39m\n",
      "\u001b[32m\u001b[1m    Updating\u001b[22m\u001b[39m `~/Desktop/julia_work/CHEME-130-eCornell-Repository/courses/CHEME-131/module-2/Manifest.toml`\n",
      "  \u001b[90m[4119e0bf] \u001b[39m\u001b[93m~ VLQuantitativeFinancePackage v1.0.0-DEV `https://github.com/varnerlab/VLQuantitativeFinancePackage.jl.git#main` ⇒ v1.0.0-DEV `https://github.com/varnerlab/VLQuantitativeFinancePackage.jl.git#main`\u001b[39m\n",
      "\u001b[32m\u001b[1m  Activating\u001b[22m\u001b[39m project at `~/Desktop/julia_work/CHEME-130-eCornell-Repository/courses/CHEME-131/module-2`\n",
      "\u001b[32m\u001b[1m  No Changes\u001b[22m\u001b[39m to `~/Desktop/julia_work/CHEME-130-eCornell-Repository/courses/CHEME-131/module-2/Project.toml`\n",
      "\u001b[32m\u001b[1m  No Changes\u001b[22m\u001b[39m to `~/Desktop/julia_work/CHEME-130-eCornell-Repository/courses/CHEME-131/module-2/Manifest.toml`\n",
      "\u001b[32m\u001b[1m    Updating\u001b[22m\u001b[39m registry at `~/.julia/registries/General.toml`\n",
      "\u001b[32m\u001b[1m    Updating\u001b[22m\u001b[39m git-repo `https://github.com/varnerlab/VLQuantitativeFinancePackage.jl.git`\n",
      "\u001b[32m\u001b[1m  No Changes\u001b[22m\u001b[39m to `~/Desktop/julia_work/CHEME-130-eCornell-Repository/courses/CHEME-131/module-2/Project.toml`\n",
      "\u001b[32m\u001b[1m  No Changes\u001b[22m\u001b[39m to `~/Desktop/julia_work/CHEME-130-eCornell-Repository/courses/CHEME-131/module-2/Manifest.toml`\n"
     ]
    }
   ],
   "source": [
    "include(\"Include.jl\");"
   ]
  },
  {
   "cell_type": "markdown",
   "id": "1ccae6ce-b267-45e0-b1d1-eda655def741",
   "metadata": {
    "jp-MarkdownHeadingCollapsed": true
   },
   "source": [
    "### Packages\n",
    "In addition to [VLQuantitativeFinancePackage.jl](https://github.com/varnerlab/VLQuantitativeFinancePackage.jl), the `Include.jl` file loads several external packages that we will use for our exercise:\n",
    "* [DataFrames.jl](https://dataframes.juliadata.org/stable/) provides a set of tools for working with tabular data in [Julia](https://julialang.org). Its design and functionality are similar to those of [Pandas (in Python)](https://pandas.pydata.org) and [data.frame, data.table, and dplyr (in R)](https://dplyr.tidyverse.org), making it a great general-purpose data science tool.\n",
    "* [Plots.jl](https://docs.juliaplots.org/stable/) is a plotting library in [Julia](https://julialang.org). We'll use this library for visualization\n",
    "* The [PrettyTables.jl package](https://github.com/ronisbr/PrettyTables.jl) provides functions to display data in matrices in a human-readable format\n",
    "    * This package exports the `pretty_table(...)` function which we use heavily"
   ]
  },
  {
   "cell_type": "markdown",
   "id": "e6e463c3-313d-44ef-8935-4d262c236298",
   "metadata": {
    "editable": true,
    "slideshow": {
     "slide_type": ""
    },
    "tags": [
     "Types"
    ]
   },
   "source": [
    "### Types\n",
    "In addition to external packages, `Include.jl` also loads some [problem-specific custom types](https://docs.julialang.org/en/v1/manual/functions/) that will be helpful for the analysis of Treasury instrument pricing. \n",
    "\n",
    "* `MyUSTreasuryCouponSecurityModel` is a [mutable type](https://docs.julialang.org/en/v1/manual/types/#Mutable-Composite-Types) holding the par value $V_{P}$, the duration $T$, the effective market rate of interest rate $\\bar{r}$, the coupoun rate $c$ and the number of coupon payments per year $\\lambda$ for treasury note and bonds that pay a coupoun. You construct a `MyUSTreasuryCouponSecurityModel` instance using the `build` method described below.\n",
    "    * You construct a `MyUSTreasuryCouponSecurityModel` instance using the `build(...)` method, see example below.\n",
    "* `DiscreteCompoundingModel` and `ContinuousCompoundingModel` are [immutable types](https://docs.julialang.org/en/v1/manual/types/#Composite-Types) that let our code know which compounding model we wish to use.\n",
    "    * In this example, we'll primarily use discrete discounting"
   ]
  },
  {
   "cell_type": "markdown",
   "id": "7e0c6e89-7cb4-4e27-8de9-1675635454c1",
   "metadata": {},
   "source": [
    "### Functions\n",
    "`Include.jl` loads the following [Julia functions](https://docs.julialang.org/en/v1/manual/functions/) into the notebook:\n",
    "\n",
    "`MyTreasuryBillDataSet() -> DataFrame`\n",
    "> The `MyTreasuryBillDataSet() -> DataFrame` loads a United States Treasury auction dataset, which we'll use in the example. The auction data is returned as a `DataFrame`, which is exported by the [DataFrames.jl package](https://dataframes.juliadata.org/stable/)\n",
    "\n",
    "`build(model::Type{MyUSTreasuryCouponSecurityModel}, data::NamedTuple) -> MyUSTreasuryCouponSecurityModel`\n",
    "> This function takes information in the `data` [NamedTuple](https://docs.julialang.org/en/v1/base/base/#Core.NamedTuple) argument (the par value, the number of compounding periods per year, the effective interest rate, the coupon rate, and the duration of the note or bond) and returns an instance of the `MyUSTreasuryCouponSecurityModel` custom type."
   ]
  },
  {
   "cell_type": "markdown",
   "id": "72341122-68c4-48fe-94ce-b38e2929647b",
   "metadata": {
    "jp-MarkdownHeadingCollapsed": true
   },
   "source": [
    "## Prerequisite: Load the Treasury auction dataset\n",
    "We'll explore `T-note` and `T-bond` prices from United States Treasury auctions between October 2022 and August 2023 downloaded as a `CSV` file using the [Auction query functionality of TreasuryDirect.gov](https://www.treasurydirect.gov/auctions/auction-query/). \n",
    "* We load the `CSV` dataset using the `MyTreasuryNotesAndBondsDataSet()` function, which returns the auction data as a `DataFrame`. We store the auction data in the `dataset`"
   ]
  },
  {
   "cell_type": "code",
   "execution_count": 2,
   "id": "a1633308-f031-411f-9a99-b36092d99e4b",
   "metadata": {
    "tags": []
   },
   "outputs": [
    {
     "data": {
      "text/html": [
       "<div><div style = \"float: left;\"><span>59×9 DataFrame</span></div><div style = \"float: right;\"><span style = \"font-style: italic;\">34 rows omitted</span></div><div style = \"clear: both;\"></div></div><div class = \"data-frame\" style = \"overflow-x: scroll;\"><table class = \"data-frame\" style = \"margin-bottom: 6px;\"><thead><tr class = \"header\"><th class = \"rowNumber\" style = \"font-weight: bold; text-align: right;\">Row</th><th style = \"text-align: left;\">CUSIP</th><th style = \"text-align: left;\">Security Type</th><th style = \"text-align: left;\">Security Term</th><th style = \"text-align: left;\">Auction Date</th><th style = \"text-align: left;\">Issue Date</th><th style = \"text-align: left;\">Maturity Date</th><th style = \"text-align: left;\">Price</th><th style = \"text-align: left;\">High Yield</th><th style = \"text-align: left;\">Interest Rate</th></tr><tr class = \"subheader headerLastRow\"><th class = \"rowNumber\" style = \"font-weight: bold; text-align: right;\"></th><th title = \"String15\" style = \"text-align: left;\">String15</th><th title = \"String7\" style = \"text-align: left;\">String7</th><th title = \"String7\" style = \"text-align: left;\">String7</th><th title = \"String15\" style = \"text-align: left;\">String15</th><th title = \"String15\" style = \"text-align: left;\">String15</th><th title = \"String15\" style = \"text-align: left;\">String15</th><th title = \"Float64\" style = \"text-align: left;\">Float64</th><th title = \"Float64\" style = \"text-align: left;\">Float64</th><th title = \"Float64\" style = \"text-align: left;\">Float64</th></tr></thead><tbody><tr><td class = \"rowNumber\" style = \"font-weight: bold; text-align: right;\">1</td><td style = \"text-align: left;\">91282CHW4</td><td style = \"text-align: left;\">Note</td><td style = \"text-align: left;\">7-Year</td><td style = \"text-align: left;\">08/29/2023</td><td style = \"text-align: left;\">08/31/2023</td><td style = \"text-align: left;\">08/31/2030</td><td style = \"text-align: right;\">99.4773</td><td style = \"text-align: right;\">0.04212</td><td style = \"text-align: right;\">0.04125</td></tr><tr><td class = \"rowNumber\" style = \"font-weight: bold; text-align: right;\">2</td><td style = \"text-align: left;\">91282CHV6</td><td style = \"text-align: left;\">Note</td><td style = \"text-align: left;\">2-Year</td><td style = \"text-align: left;\">08/28/2023</td><td style = \"text-align: left;\">08/31/2023</td><td style = \"text-align: left;\">08/31/2025</td><td style = \"text-align: right;\">99.9549</td><td style = \"text-align: right;\">0.05024</td><td style = \"text-align: right;\">0.05</td></tr><tr><td class = \"rowNumber\" style = \"font-weight: bold; text-align: right;\">3</td><td style = \"text-align: left;\">91282CHX2</td><td style = \"text-align: left;\">Note</td><td style = \"text-align: left;\">5-Year</td><td style = \"text-align: left;\">08/28/2023</td><td style = \"text-align: left;\">08/31/2023</td><td style = \"text-align: left;\">08/31/2028</td><td style = \"text-align: right;\">99.8889</td><td style = \"text-align: right;\">0.044</td><td style = \"text-align: right;\">0.04375</td></tr><tr><td class = \"rowNumber\" style = \"font-weight: bold; text-align: right;\">4</td><td style = \"text-align: left;\">912810TU2</td><td style = \"text-align: left;\">Bond</td><td style = \"text-align: left;\">20-Year</td><td style = \"text-align: left;\">08/23/2023</td><td style = \"text-align: left;\">08/31/2023</td><td style = \"text-align: left;\">08/15/2043</td><td style = \"text-align: right;\">98.3742</td><td style = \"text-align: right;\">0.04499</td><td style = \"text-align: right;\">0.04375</td></tr><tr><td class = \"rowNumber\" style = \"font-weight: bold; text-align: right;\">5</td><td style = \"text-align: left;\">912810TT5</td><td style = \"text-align: left;\">Bond</td><td style = \"text-align: left;\">30-Year</td><td style = \"text-align: left;\">08/10/2023</td><td style = \"text-align: left;\">08/15/2023</td><td style = \"text-align: left;\">08/15/2053</td><td style = \"text-align: right;\">98.9127</td><td style = \"text-align: right;\">0.04189</td><td style = \"text-align: right;\">0.04125</td></tr><tr><td class = \"rowNumber\" style = \"font-weight: bold; text-align: right;\">6</td><td style = \"text-align: left;\">91282CHT1</td><td style = \"text-align: left;\">Note</td><td style = \"text-align: left;\">10-Year</td><td style = \"text-align: left;\">08/09/2023</td><td style = \"text-align: left;\">08/15/2023</td><td style = \"text-align: left;\">08/15/2033</td><td style = \"text-align: right;\">98.9862</td><td style = \"text-align: right;\">0.03999</td><td style = \"text-align: right;\">0.03875</td></tr><tr><td class = \"rowNumber\" style = \"font-weight: bold; text-align: right;\">7</td><td style = \"text-align: left;\">91282CHU8</td><td style = \"text-align: left;\">Note</td><td style = \"text-align: left;\">3-Year</td><td style = \"text-align: left;\">08/08/2023</td><td style = \"text-align: left;\">08/15/2023</td><td style = \"text-align: left;\">08/15/2026</td><td style = \"text-align: right;\">99.936</td><td style = \"text-align: right;\">0.04398</td><td style = \"text-align: right;\">0.04375</td></tr><tr><td class = \"rowNumber\" style = \"font-weight: bold; text-align: right;\">8</td><td style = \"text-align: left;\">91282CHR5</td><td style = \"text-align: left;\">Note</td><td style = \"text-align: left;\">7-Year</td><td style = \"text-align: left;\">07/27/2023</td><td style = \"text-align: left;\">07/31/2023</td><td style = \"text-align: left;\">07/31/2030</td><td style = \"text-align: right;\">99.475</td><td style = \"text-align: right;\">0.04087</td><td style = \"text-align: right;\">0.04</td></tr><tr><td class = \"rowNumber\" style = \"font-weight: bold; text-align: right;\">9</td><td style = \"text-align: left;\">91282CHQ7</td><td style = \"text-align: left;\">Note</td><td style = \"text-align: left;\">5-Year</td><td style = \"text-align: left;\">07/25/2023</td><td style = \"text-align: left;\">07/31/2023</td><td style = \"text-align: left;\">07/31/2028</td><td style = \"text-align: right;\">99.7988</td><td style = \"text-align: right;\">0.0417</td><td style = \"text-align: right;\">0.04125</td></tr><tr><td class = \"rowNumber\" style = \"font-weight: bold; text-align: right;\">10</td><td style = \"text-align: left;\">91282CHN4</td><td style = \"text-align: left;\">Note</td><td style = \"text-align: left;\">2-Year</td><td style = \"text-align: left;\">07/24/2023</td><td style = \"text-align: left;\">07/31/2023</td><td style = \"text-align: left;\">07/31/2025</td><td style = \"text-align: right;\">99.8624</td><td style = \"text-align: right;\">0.04823</td><td style = \"text-align: right;\">0.0475</td></tr><tr><td class = \"rowNumber\" style = \"font-weight: bold; text-align: right;\">11</td><td style = \"text-align: left;\">91282CHP9</td><td style = \"text-align: left;\">Note</td><td style = \"text-align: left;\">10-Year</td><td style = \"text-align: left;\">07/20/2023</td><td style = \"text-align: left;\">07/31/2023</td><td style = \"text-align: left;\">07/15/2033</td><td style = \"text-align: right;\">99.0219</td><td style = \"text-align: right;\">0.01495</td><td style = \"text-align: right;\">0.01375</td></tr><tr><td class = \"rowNumber\" style = \"font-weight: bold; text-align: right;\">12</td><td style = \"text-align: left;\">91282CHM6</td><td style = \"text-align: left;\">Note</td><td style = \"text-align: left;\">3-Year</td><td style = \"text-align: left;\">07/11/2023</td><td style = \"text-align: left;\">07/17/2023</td><td style = \"text-align: left;\">07/15/2026</td><td style = \"text-align: right;\">99.9052</td><td style = \"text-align: right;\">0.04534</td><td style = \"text-align: right;\">0.045</td></tr><tr><td class = \"rowNumber\" style = \"font-weight: bold; text-align: right;\">13</td><td style = \"text-align: left;\">91282CHJ3</td><td style = \"text-align: left;\">Note</td><td style = \"text-align: left;\">7-Year</td><td style = \"text-align: left;\">06/28/2023</td><td style = \"text-align: left;\">06/30/2023</td><td style = \"text-align: left;\">06/30/2030</td><td style = \"text-align: right;\">99.4582</td><td style = \"text-align: right;\">0.03839</td><td style = \"text-align: right;\">0.0375</td></tr><tr><td style = \"text-align: right;\">&vellip;</td><td style = \"text-align: right;\">&vellip;</td><td style = \"text-align: right;\">&vellip;</td><td style = \"text-align: right;\">&vellip;</td><td style = \"text-align: right;\">&vellip;</td><td style = \"text-align: right;\">&vellip;</td><td style = \"text-align: right;\">&vellip;</td><td style = \"text-align: right;\">&vellip;</td><td style = \"text-align: right;\">&vellip;</td><td style = \"text-align: right;\">&vellip;</td></tr><tr><td class = \"rowNumber\" style = \"font-weight: bold; text-align: right;\">48</td><td style = \"text-align: left;\">91282CFY2</td><td style = \"text-align: left;\">Note</td><td style = \"text-align: left;\">7-Year</td><td style = \"text-align: left;\">11/22/2022</td><td style = \"text-align: left;\">11/30/2022</td><td style = \"text-align: left;\">11/30/2029</td><td style = \"text-align: right;\">99.9089</td><td style = \"text-align: right;\">0.0389</td><td style = \"text-align: right;\">0.03875</td></tr><tr><td class = \"rowNumber\" style = \"font-weight: bold; text-align: right;\">49</td><td style = \"text-align: left;\">91282CFX4</td><td style = \"text-align: left;\">Note</td><td style = \"text-align: left;\">2-Year</td><td style = \"text-align: left;\">11/21/2022</td><td style = \"text-align: left;\">11/30/2022</td><td style = \"text-align: left;\">11/30/2024</td><td style = \"text-align: right;\">99.9905</td><td style = \"text-align: right;\">0.04505</td><td style = \"text-align: right;\">0.045</td></tr><tr><td class = \"rowNumber\" style = \"font-weight: bold; text-align: right;\">50</td><td style = \"text-align: left;\">91282CFZ9</td><td style = \"text-align: left;\">Note</td><td style = \"text-align: left;\">5-Year</td><td style = \"text-align: left;\">11/21/2022</td><td style = \"text-align: left;\">11/30/2022</td><td style = \"text-align: left;\">11/30/2027</td><td style = \"text-align: right;\">99.5551</td><td style = \"text-align: right;\">0.03974</td><td style = \"text-align: right;\">0.03875</td></tr><tr><td class = \"rowNumber\" style = \"font-weight: bold; text-align: right;\">51</td><td style = \"text-align: left;\">912810TM0</td><td style = \"text-align: left;\">Bond</td><td style = \"text-align: left;\">20-Year</td><td style = \"text-align: left;\">11/16/2022</td><td style = \"text-align: left;\">11/30/2022</td><td style = \"text-align: left;\">11/15/2042</td><td style = \"text-align: right;\">99.0197</td><td style = \"text-align: right;\">0.04072</td><td style = \"text-align: right;\">0.04</td></tr><tr><td class = \"rowNumber\" style = \"font-weight: bold; text-align: right;\">52</td><td style = \"text-align: left;\">912810TL2</td><td style = \"text-align: left;\">Bond</td><td style = \"text-align: left;\">30-Year</td><td style = \"text-align: left;\">11/10/2022</td><td style = \"text-align: left;\">11/15/2022</td><td style = \"text-align: left;\">11/15/2052</td><td style = \"text-align: right;\">98.6229</td><td style = \"text-align: right;\">0.0408</td><td style = \"text-align: right;\">0.04</td></tr><tr><td class = \"rowNumber\" style = \"font-weight: bold; text-align: right;\">53</td><td style = \"text-align: left;\">91282CFV8</td><td style = \"text-align: left;\">Note</td><td style = \"text-align: left;\">10-Year</td><td style = \"text-align: left;\">11/09/2022</td><td style = \"text-align: left;\">11/15/2022</td><td style = \"text-align: left;\">11/15/2032</td><td style = \"text-align: right;\">99.8782</td><td style = \"text-align: right;\">0.0414</td><td style = \"text-align: right;\">0.04125</td></tr><tr><td class = \"rowNumber\" style = \"font-weight: bold; text-align: right;\">54</td><td style = \"text-align: left;\">91282CFW6</td><td style = \"text-align: left;\">Note</td><td style = \"text-align: left;\">3-Year</td><td style = \"text-align: left;\">11/08/2022</td><td style = \"text-align: left;\">11/15/2022</td><td style = \"text-align: left;\">11/15/2025</td><td style = \"text-align: right;\">99.7089</td><td style = \"text-align: right;\">0.04605</td><td style = \"text-align: right;\">0.045</td></tr><tr><td class = \"rowNumber\" style = \"font-weight: bold; text-align: right;\">55</td><td style = \"text-align: left;\">91282CFT3</td><td style = \"text-align: left;\">Note</td><td style = \"text-align: left;\">7-Year</td><td style = \"text-align: left;\">10/27/2022</td><td style = \"text-align: left;\">10/31/2022</td><td style = \"text-align: left;\">10/31/2029</td><td style = \"text-align: right;\">99.8367</td><td style = \"text-align: right;\">0.04027</td><td style = \"text-align: right;\">0.04</td></tr><tr><td class = \"rowNumber\" style = \"font-weight: bold; text-align: right;\">56</td><td style = \"text-align: left;\">91282CFU0</td><td style = \"text-align: left;\">Note</td><td style = \"text-align: left;\">5-Year</td><td style = \"text-align: left;\">10/26/2022</td><td style = \"text-align: left;\">10/31/2022</td><td style = \"text-align: left;\">10/31/2027</td><td style = \"text-align: right;\">99.7006</td><td style = \"text-align: right;\">0.04192</td><td style = \"text-align: right;\">0.04125</td></tr><tr><td class = \"rowNumber\" style = \"font-weight: bold; text-align: right;\">57</td><td style = \"text-align: left;\">91282CFQ9</td><td style = \"text-align: left;\">Note</td><td style = \"text-align: left;\">2-Year</td><td style = \"text-align: left;\">10/25/2022</td><td style = \"text-align: left;\">10/31/2022</td><td style = \"text-align: left;\">10/31/2024</td><td style = \"text-align: right;\">99.8391</td><td style = \"text-align: right;\">0.0446</td><td style = \"text-align: right;\">0.04375</td></tr><tr><td class = \"rowNumber\" style = \"font-weight: bold; text-align: right;\">58</td><td style = \"text-align: left;\">91282CFR7</td><td style = \"text-align: left;\">Note</td><td style = \"text-align: left;\">5-Year</td><td style = \"text-align: left;\">10/20/2022</td><td style = \"text-align: left;\">10/31/2022</td><td style = \"text-align: left;\">10/15/2027</td><td style = \"text-align: right;\">99.4754</td><td style = \"text-align: right;\">0.01732</td><td style = \"text-align: right;\">0.01625</td></tr><tr><td class = \"rowNumber\" style = \"font-weight: bold; text-align: right;\">59</td><td style = \"text-align: left;\">91282CFP1</td><td style = \"text-align: left;\">Note</td><td style = \"text-align: left;\">3-Year</td><td style = \"text-align: left;\">10/11/2022</td><td style = \"text-align: left;\">10/17/2022</td><td style = \"text-align: left;\">10/15/2025</td><td style = \"text-align: right;\">99.8104</td><td style = \"text-align: right;\">0.04318</td><td style = \"text-align: right;\">0.0425</td></tr></tbody></table></div>"
      ],
      "text/latex": [
       "\\begin{tabular}{r|ccccccc}\n",
       "\t& CUSIP & Security Type & Security Term & Auction Date & Issue Date & Maturity Date & \\\\\n",
       "\t\\hline\n",
       "\t& String15 & String7 & String7 & String15 & String15 & String15 & \\\\\n",
       "\t\\hline\n",
       "\t1 & 91282CHW4 & Note & 7-Year & 08/29/2023 & 08/31/2023 & 08/31/2030 & $\\dots$ \\\\\n",
       "\t2 & 91282CHV6 & Note & 2-Year & 08/28/2023 & 08/31/2023 & 08/31/2025 & $\\dots$ \\\\\n",
       "\t3 & 91282CHX2 & Note & 5-Year & 08/28/2023 & 08/31/2023 & 08/31/2028 & $\\dots$ \\\\\n",
       "\t4 & 912810TU2 & Bond & 20-Year & 08/23/2023 & 08/31/2023 & 08/15/2043 & $\\dots$ \\\\\n",
       "\t5 & 912810TT5 & Bond & 30-Year & 08/10/2023 & 08/15/2023 & 08/15/2053 & $\\dots$ \\\\\n",
       "\t6 & 91282CHT1 & Note & 10-Year & 08/09/2023 & 08/15/2023 & 08/15/2033 & $\\dots$ \\\\\n",
       "\t7 & 91282CHU8 & Note & 3-Year & 08/08/2023 & 08/15/2023 & 08/15/2026 & $\\dots$ \\\\\n",
       "\t8 & 91282CHR5 & Note & 7-Year & 07/27/2023 & 07/31/2023 & 07/31/2030 & $\\dots$ \\\\\n",
       "\t9 & 91282CHQ7 & Note & 5-Year & 07/25/2023 & 07/31/2023 & 07/31/2028 & $\\dots$ \\\\\n",
       "\t10 & 91282CHN4 & Note & 2-Year & 07/24/2023 & 07/31/2023 & 07/31/2025 & $\\dots$ \\\\\n",
       "\t11 & 91282CHP9 & Note & 10-Year & 07/20/2023 & 07/31/2023 & 07/15/2033 & $\\dots$ \\\\\n",
       "\t12 & 91282CHM6 & Note & 3-Year & 07/11/2023 & 07/17/2023 & 07/15/2026 & $\\dots$ \\\\\n",
       "\t13 & 91282CHJ3 & Note & 7-Year & 06/28/2023 & 06/30/2023 & 06/30/2030 & $\\dots$ \\\\\n",
       "\t14 & 91282CHK0 & Note & 5-Year & 06/27/2023 & 06/30/2023 & 06/30/2028 & $\\dots$ \\\\\n",
       "\t15 & 91282CHL8 & Note & 2-Year & 06/26/2023 & 06/30/2023 & 06/30/2025 & $\\dots$ \\\\\n",
       "\t16 & 91282CHH7 & Note & 3-Year & 06/12/2023 & 06/15/2023 & 06/15/2026 & $\\dots$ \\\\\n",
       "\t17 & 91282CHF1 & Note & 7-Year & 05/25/2023 & 05/31/2023 & 05/31/2030 & $\\dots$ \\\\\n",
       "\t18 & 91282CHE4 & Note & 5-Year & 05/24/2023 & 05/31/2023 & 05/31/2028 & $\\dots$ \\\\\n",
       "\t19 & 91282CHD6 & Note & 2-Year & 05/23/2023 & 05/31/2023 & 05/31/2025 & $\\dots$ \\\\\n",
       "\t20 & 912810TS7 & Bond & 20-Year & 05/17/2023 & 05/31/2023 & 05/15/2043 & $\\dots$ \\\\\n",
       "\t21 & 912810TR9 & Bond & 30-Year & 05/11/2023 & 05/15/2023 & 05/15/2053 & $\\dots$ \\\\\n",
       "\t22 & 91282CHC8 & Note & 10-Year & 05/10/2023 & 05/15/2023 & 05/15/2033 & $\\dots$ \\\\\n",
       "\t23 & 91282CHB0 & Note & 3-Year & 05/09/2023 & 05/15/2023 & 05/15/2026 & $\\dots$ \\\\\n",
       "\t24 & 91282CGZ8 & Note & 7-Year & 04/27/2023 & 05/01/2023 & 04/30/2030 & $\\dots$ \\\\\n",
       "\t25 & 91282CHA2 & Note & 5-Year & 04/26/2023 & 05/01/2023 & 04/30/2028 & $\\dots$ \\\\\n",
       "\t26 & 91282CGX3 & Note & 2-Year & 04/25/2023 & 05/01/2023 & 04/30/2025 & $\\dots$ \\\\\n",
       "\t27 & 91282CGV7 & Note & 3-Year & 04/11/2023 & 04/17/2023 & 04/15/2026 & $\\dots$ \\\\\n",
       "\t28 & 91282CGS4 & Note & 7-Year & 03/29/2023 & 03/31/2023 & 03/31/2030 & $\\dots$ \\\\\n",
       "\t29 & 91282CGT2 & Note & 5-Year & 03/28/2023 & 03/31/2023 & 03/31/2028 & $\\dots$ \\\\\n",
       "\t30 & 91282CGU9 & Note & 2-Year & 03/27/2023 & 03/31/2023 & 03/31/2025 & $\\dots$ \\\\\n",
       "\t$\\dots$ & $\\dots$ & $\\dots$ & $\\dots$ & $\\dots$ & $\\dots$ & $\\dots$ &  \\\\\n",
       "\\end{tabular}\n"
      ],
      "text/plain": [
       "\u001b[1m59×9 DataFrame\u001b[0m\n",
       "\u001b[1m Row \u001b[0m│\u001b[1m CUSIP     \u001b[0m\u001b[1m Security Type \u001b[0m\u001b[1m Security Term \u001b[0m\u001b[1m Auction Date \u001b[0m\u001b[1m Issue Date \u001b[0m\u001b[1m Matu\u001b[0m ⋯\n",
       "     │\u001b[90m String15  \u001b[0m\u001b[90m String7       \u001b[0m\u001b[90m String7       \u001b[0m\u001b[90m String15     \u001b[0m\u001b[90m String15   \u001b[0m\u001b[90m Stri\u001b[0m ⋯\n",
       "─────┼──────────────────────────────────────────────────────────────────────────\n",
       "   1 │ 91282CHW4  Note           7-Year         08/29/2023    08/31/2023  08/3 ⋯\n",
       "   2 │ 91282CHV6  Note           2-Year         08/28/2023    08/31/2023  08/3\n",
       "   3 │ 91282CHX2  Note           5-Year         08/28/2023    08/31/2023  08/3\n",
       "   4 │ 912810TU2  Bond           20-Year        08/23/2023    08/31/2023  08/1\n",
       "   5 │ 912810TT5  Bond           30-Year        08/10/2023    08/15/2023  08/1 ⋯\n",
       "   6 │ 91282CHT1  Note           10-Year        08/09/2023    08/15/2023  08/1\n",
       "   7 │ 91282CHU8  Note           3-Year         08/08/2023    08/15/2023  08/1\n",
       "   8 │ 91282CHR5  Note           7-Year         07/27/2023    07/31/2023  07/3\n",
       "   9 │ 91282CHQ7  Note           5-Year         07/25/2023    07/31/2023  07/3 ⋯\n",
       "  10 │ 91282CHN4  Note           2-Year         07/24/2023    07/31/2023  07/3\n",
       "  11 │ 91282CHP9  Note           10-Year        07/20/2023    07/31/2023  07/1\n",
       "  ⋮  │     ⋮            ⋮              ⋮             ⋮            ⋮            ⋱\n",
       "  50 │ 91282CFZ9  Note           5-Year         11/21/2022    11/30/2022  11/3\n",
       "  51 │ 912810TM0  Bond           20-Year        11/16/2022    11/30/2022  11/1 ⋯\n",
       "  52 │ 912810TL2  Bond           30-Year        11/10/2022    11/15/2022  11/1\n",
       "  53 │ 91282CFV8  Note           10-Year        11/09/2022    11/15/2022  11/1\n",
       "  54 │ 91282CFW6  Note           3-Year         11/08/2022    11/15/2022  11/1\n",
       "  55 │ 91282CFT3  Note           7-Year         10/27/2022    10/31/2022  10/3 ⋯\n",
       "  56 │ 91282CFU0  Note           5-Year         10/26/2022    10/31/2022  10/3\n",
       "  57 │ 91282CFQ9  Note           2-Year         10/25/2022    10/31/2022  10/3\n",
       "  58 │ 91282CFR7  Note           5-Year         10/20/2022    10/31/2022  10/1\n",
       "  59 │ 91282CFP1  Note           3-Year         10/11/2022    10/17/2022  10/1 ⋯\n",
       "\u001b[36m                                                   4 columns and 38 rows omitted\u001b[0m"
      ]
     },
     "execution_count": 2,
     "metadata": {},
     "output_type": "execute_result"
    }
   ],
   "source": [
    "dataset = MyTreasuryNotesAndBondsDataSet()"
   ]
  },
  {
   "cell_type": "code",
   "execution_count": 3,
   "id": "e6a4d421-041c-4a8b-ab97-7b9d71e59063",
   "metadata": {},
   "outputs": [
    {
     "data": {
      "text/plain": [
       "59"
      ]
     },
     "execution_count": 3,
     "metadata": {},
     "output_type": "execute_result"
    }
   ],
   "source": [
    "number_of_records = nrow(dataset)"
   ]
  },
  {
   "cell_type": "markdown",
   "id": "c0077773-8c37-465a-b52c-fd4b0bc9b45a",
   "metadata": {},
   "source": [
    "## Objective 1: Visualize the cashflows and discounts for coupon-bearing Treasury bonds\n",
    "Unlike zero-coupon Treasury bills, which have only two cash flow events (you give money to the Treasury, and you receive the face (par) value of the `T-note` or `T-bond` at maturity), coupon-bearing Treasury securities are more complicated because of the periodic coupon payments. Thus, it's helpful to visualize the cash flow events of notes and bonds. \n",
    "* We begin by building an instance of the `DiscreteCompoundingModel()` type and store this discount model in the `discount_model` variable:"
   ]
  },
  {
   "cell_type": "code",
   "execution_count": 4,
   "id": "6ba19451-5351-4b98-8620-28a6471a6fc9",
   "metadata": {},
   "outputs": [],
   "source": [
    "discount_model = DiscreteCompoundingModel();"
   ]
  },
  {
   "cell_type": "markdown",
   "id": "162fd557-524c-4fb3-bd14-5f1c216e755a",
   "metadata": {},
   "source": [
    "Next, let's build an instance of the `MyUSTreasuryCouponSecurityModel` type using the `build(...)` method. In this example, we'll compute the price and cashflow for a `T = 20-yr` bond, with a coupon rate of `c = 1.750%`, a yield (discount rate) `rate = 1.850%`, two coupon payments per year, i.e., $\\lambda = 2$ and a face (par) value of $V_{P}$ = `100 USD`. Let's store the result in the `test_bond` variable. The price value reported on [TreasuryDirect.gov](https://www.treasurydirect.gov/marketable-securities/understanding-pricing/#id-for-more-detailed-formulas-and-useful-tables-264977) for this bond is $V_{B}$ = `98.3369 USD`.\n",
    "* Similar to zero-coupon `T-bills,` we'll use a `short-cut` syntax that relies on the [Julia piping |> operator](https://docs.julialang.org/en/v1/manual/functions/#Function-composition-and-piping) and some syntax sugar to compute the coupon-bearing price, and discount factors and the cashflow for the instrument. "
   ]
  },
  {
   "cell_type": "code",
   "execution_count": 11,
   "id": "8ce0acff-50c0-4899-a330-2da6960d2c28",
   "metadata": {
    "tags": []
   },
   "outputs": [],
   "source": [
    "test_bond = build(MyUSTreasuryCouponSecurityModel, (\n",
    "    T = 20.0, rate = 0.01850, coupon = 0.01750, λ = 2, par = 100.0\n",
    ")) |> discount_model;"
   ]
  },
  {
   "cell_type": "markdown",
   "id": "1ffaf65e-0e93-4cf0-9994-18f18d56774c",
   "metadata": {},
   "source": [
    "Now that we have populated the `MyUSTreasuryCouponSecurityModel` instance stored in the `test_bond` variable, we can pull data from `test_bond` and construct a table. \n",
    "* Let's pull the `price,` `discount,` and `cashflow` fields from the `test_bond` variable and store them in the `nominal_computed_price,` `cashflow,` and `discount` variables"
   ]
  },
  {
   "cell_type": "code",
   "execution_count": 14,
   "id": "d12c715a-434c-4fdf-890a-05dc4ba69f52",
   "metadata": {
    "tags": []
   },
   "outputs": [
    {
     "name": "stdout",
     "output_type": "stream",
     "text": [
      "This computed bond price = 98.33464924552273 USD\n"
     ]
    }
   ],
   "source": [
    "nominal_computed_price = test_bond.price;\n",
    "cashflow = test_bond.cashflow;\n",
    "discount = test_bond.discount;\n",
    "println(\"This computed bond price = $(nominal_computed_price) USD\")"
   ]
  },
  {
   "cell_type": "markdown",
   "id": "a7527880-895c-4d80-ae05-74ac423218a8",
   "metadata": {},
   "source": [
    "#### Check: Are the computed and observed bond prices `similar`?\n",
    "Let's use the [isapprox function](https://docs.julialang.org/en/v1/base/math/#Base.isapprox) combined with the [@assert macro](https://docs.julialang.org/en/v1/base/base/#Base.@assert) to check the `similarity` of the computed, and observed bond price. If the price values are different beyond `rtol = 1e-4`, a `false` result is generated, and an [AssertionError](https://docs.julialang.org/en/v1/base/base/#Core.AssertionError) is thrown."
   ]
  },
  {
   "cell_type": "code",
   "execution_count": 21,
   "id": "654aab89-0aaf-4840-b585-86b26562d78b",
   "metadata": {},
   "outputs": [],
   "source": [
    "observed_bond_price = 98.3369;\n",
    "@assert isapprox(observed_bond_price, nominal_computed_price; rtol = 1e-4)"
   ]
  },
  {
   "cell_type": "markdown",
   "id": "d1e39202-c981-4eb0-8320-c2c06bd73631",
   "metadata": {},
   "source": [
    "Finally, let's build a table holding the `nominal,` `discounted,` and `cumulative` cash flow for this bond using the [PrettyTables.jl package](https://github.com/ronisbr/PrettyTables.jl). We'll iterate through each period using a `for` loop and populate the `bond_data_table` variable. For each iteration of the loop, we will:\n",
    "* We access values for the discount and cashflow in period `i`, and compute the cumulative cashflow in the `sumvalue` variable\n",
    "* We then store these data along with the nominal cash flow for each period in the `bond_data_table` array, and display the data in the `bond_data_table` variable by calling the `pretty_table(...)` function (with optional values for the `header`, and `tf` arguments)"
   ]
  },
  {
   "cell_type": "code",
   "execution_count": 32,
   "id": "a12c6c1a-8ba8-4520-9023-b755fa3486a7",
   "metadata": {
    "tags": []
   },
   "outputs": [
    {
     "name": "stdout",
     "output_type": "stream",
     "text": [
      "========= ================= ================== ===================== ======================\n",
      " \u001b[1m Period \u001b[0m \u001b[1m Discount factor \u001b[0m \u001b[1m Nominal cashflow \u001b[0m \u001b[1m Discounted cashflow \u001b[0m \u001b[1m Cumulative cashflow \u001b[0m\n",
      "========= ================= ================== ===================== ======================\n",
      "       0               1.0           -98.3346              -98.3346              -98.3346\n",
      "       1           1.00925              0.875               0.86698              -97.4677\n",
      "       2           1.01859              0.875              0.859034              -96.6086\n",
      "       3           1.02801              0.875              0.851161              -95.7575\n",
      "       4           1.03752              0.875               0.84336              -94.9141\n",
      "       5           1.04711              0.875               0.83563              -94.0785\n",
      "       6            1.0568              0.875              0.827972              -93.2505\n",
      "       7           1.06657              0.875              0.820383              -92.4301\n",
      "       8           1.07644              0.875              0.812864              -91.6173\n",
      "       9            1.0864              0.875              0.805414              -90.8118\n",
      "      10           1.09645              0.875              0.798032              -90.0138\n",
      "      11           1.10659              0.875              0.790718              -89.2231\n",
      "      12           1.11682              0.875              0.783471              -88.4396\n",
      "      13           1.12716              0.875               0.77629              -87.6633\n",
      "      14           1.13758              0.875              0.769175              -86.8942\n",
      "      15            1.1481              0.875              0.762126               -86.132\n",
      "      16           1.15872              0.875              0.755141              -85.3769\n",
      "      17           1.16944              0.875               0.74822              -84.6287\n",
      "      18           1.18026              0.875              0.741362              -83.8873\n",
      "      19           1.19118              0.875              0.734567              -83.1527\n",
      "      20            1.2022              0.875              0.727835              -82.4249\n",
      "      21           1.21332              0.875              0.721164              -81.7037\n",
      "      22           1.22454              0.875              0.714555              -80.9892\n",
      "      23           1.23587              0.875              0.708005              -80.2812\n",
      "      24            1.2473              0.875              0.701516              -79.5797\n",
      "      25           1.25884              0.875              0.695087              -78.8846\n",
      "      26           1.27048              0.875              0.688716              -78.1959\n",
      "      27           1.28223              0.875              0.682404              -77.5135\n",
      "      28           1.29409              0.875               0.67615              -76.8373\n",
      "      29           1.30606              0.875              0.669953              -76.1674\n",
      "      30           1.31814              0.875              0.663812              -75.5035\n",
      "      31           1.33034              0.875              0.657728              -74.8458\n",
      "      32           1.34264              0.875                0.6517              -74.1941\n",
      "      33           1.35506              0.875              0.645727              -73.5484\n",
      "      34            1.3676              0.875              0.639809              -72.9086\n",
      "      35           1.38025              0.875              0.633945              -72.2746\n",
      "      36           1.39301              0.875              0.628135              -71.6465\n",
      "      37            1.4059              0.875              0.622378              -71.0241\n",
      "      38            1.4189              0.875              0.616673              -70.4075\n",
      "      39           1.43203              0.875              0.611021              -69.7964\n",
      "      40           1.44527            100.875               69.7964          -1.42109e-14\n",
      "========= ================= ================== ===================== ======================\n"
     ]
    }
   ],
   "source": [
    "number_of_periods = length(cashflow)\n",
    "bond_data_table = Array{Any,2}(undef, number_of_periods, 5);\n",
    "sumvalue = 0.0;\n",
    "for i ∈ 0:(number_of_periods - 1)\n",
    "    \n",
    "    discount_value = discount[i]\n",
    "    payment = cashflow[i];\n",
    "    sumvalue += payment;\n",
    "\n",
    "    bond_data_table[i+1,1] = i;\n",
    "    bond_data_table[i+1,2] = discount_value;\n",
    "    bond_data_table[i+1,3] = discount_value*payment;\n",
    "    bond_data_table[i+1,4] = payment;\n",
    "    bond_data_table[i+1,5] = sumvalue;\n",
    "end\n",
    "pretty_table(bond_data_table; \n",
    "    header=[\"Period\", \"Discount factor\", \"Nominal cashflow\", \"Discounted cashflow\", \"Cumulative cashflow\"], tf = tf_simple)"
   ]
  },
  {
   "cell_type": "markdown",
   "id": "7e699072-678b-4998-ae5e-eeaeaf8723b4",
   "metadata": {},
   "source": [
    "## Objective 2: Compute the price of notes and bonds observed at auction\n",
    "Next, we compute the price of treasury `notes` and `bonds` from the `dataset` and compare the estimated cost with the price observed at the auction. We process each entry in the `dataset` using a `for-loop`. During each iteration of the loop:\n",
    "\n",
    "* We get data from the `dataset` and update the model instance. In particular, we set the duration `T` field (which we convert to the number of years using the `securityterm` function), the yield field, i.e., the $\\bar{r}$ value in the discount rate, and coupon rate $c$.\n",
    "* Next, we compute the price of the `note (or bond)` on `L8` using the short-cut syntax and the discount model. \n",
    "* Finally, we calculate the percentage error between the estimated and observed price and store the data for each iteration in the `computed_price_table` DataFrame using the `push!(...)` function. Lastly, we store the populated model instance in the `security_dictionary` (keys are the index `i`, values are the populated model instances)"
   ]
  },
  {
   "cell_type": "code",
   "execution_count": 33,
   "id": "7de77c28-395e-49ca-abfe-23f4de25bc3d",
   "metadata": {
    "tags": []
   },
   "outputs": [
    {
     "data": {
      "text/html": [
       "<div><div style = \"float: left;\"><span>59×7 DataFrame</span></div><div style = \"float: right;\"><span style = \"font-style: italic;\">34 rows omitted</span></div><div style = \"clear: both;\"></div></div><div class = \"data-frame\" style = \"overflow-x: scroll;\"><table class = \"data-frame\" style = \"margin-bottom: 6px;\"><thead><tr class = \"header\"><th class = \"rowNumber\" style = \"font-weight: bold; text-align: right;\">Row</th><th style = \"text-align: left;\">CUSIP</th><th style = \"text-align: left;\">term</th><th style = \"text-align: left;\">rate</th><th style = \"text-align: left;\">coupon</th><th style = \"text-align: left;\">computed</th><th style = \"text-align: left;\">actual</th><th style = \"text-align: left;\">relative_error</th></tr><tr class = \"subheader headerLastRow\"><th class = \"rowNumber\" style = \"font-weight: bold; text-align: right;\"></th><th title = \"String15\" style = \"text-align: left;\">String15</th><th title = \"String7\" style = \"text-align: left;\">String7</th><th title = \"Float64\" style = \"text-align: left;\">Float64</th><th title = \"Float64\" style = \"text-align: left;\">Float64</th><th title = \"Float64\" style = \"text-align: left;\">Float64</th><th title = \"Float64\" style = \"text-align: left;\">Float64</th><th title = \"Float64\" style = \"text-align: left;\">Float64</th></tr></thead><tbody><tr><td class = \"rowNumber\" style = \"font-weight: bold; text-align: right;\">1</td><td style = \"text-align: left;\">91282CHW4</td><td style = \"text-align: left;\">7-Year</td><td style = \"text-align: right;\">4.212</td><td style = \"text-align: right;\">4.125</td><td style = \"text-align: right;\">99.4773</td><td style = \"text-align: right;\">99.4773</td><td style = \"text-align: right;\">3.59567e-9</td></tr><tr><td class = \"rowNumber\" style = \"font-weight: bold; text-align: right;\">2</td><td style = \"text-align: left;\">91282CHV6</td><td style = \"text-align: left;\">2-Year</td><td style = \"text-align: right;\">5.024</td><td style = \"text-align: right;\">5.0</td><td style = \"text-align: right;\">99.9549</td><td style = \"text-align: right;\">99.9549</td><td style = \"text-align: right;\">3.56315e-9</td></tr><tr><td class = \"rowNumber\" style = \"font-weight: bold; text-align: right;\">3</td><td style = \"text-align: left;\">91282CHX2</td><td style = \"text-align: left;\">5-Year</td><td style = \"text-align: right;\">4.4</td><td style = \"text-align: right;\">4.375</td><td style = \"text-align: right;\">99.8889</td><td style = \"text-align: right;\">99.8889</td><td style = \"text-align: right;\">3.89252e-9</td></tr><tr><td class = \"rowNumber\" style = \"font-weight: bold; text-align: right;\">4</td><td style = \"text-align: left;\">912810TU2</td><td style = \"text-align: left;\">20-Year</td><td style = \"text-align: right;\">4.499</td><td style = \"text-align: right;\">4.375</td><td style = \"text-align: right;\">98.3759</td><td style = \"text-align: right;\">98.3742</td><td style = \"text-align: right;\">1.68543e-5</td></tr><tr><td class = \"rowNumber\" style = \"font-weight: bold; text-align: right;\">5</td><td style = \"text-align: left;\">912810TT5</td><td style = \"text-align: left;\">30-Year</td><td style = \"text-align: right;\">4.189</td><td style = \"text-align: right;\">4.125</td><td style = \"text-align: right;\">98.9127</td><td style = \"text-align: right;\">98.9127</td><td style = \"text-align: right;\">2.72566e-9</td></tr><tr><td class = \"rowNumber\" style = \"font-weight: bold; text-align: right;\">6</td><td style = \"text-align: left;\">91282CHT1</td><td style = \"text-align: left;\">10-Year</td><td style = \"text-align: right;\">3.999</td><td style = \"text-align: right;\">3.875</td><td style = \"text-align: right;\">98.9862</td><td style = \"text-align: right;\">98.9862</td><td style = \"text-align: right;\">2.16414e-9</td></tr><tr><td class = \"rowNumber\" style = \"font-weight: bold; text-align: right;\">7</td><td style = \"text-align: left;\">91282CHU8</td><td style = \"text-align: left;\">3-Year</td><td style = \"text-align: right;\">4.398</td><td style = \"text-align: right;\">4.375</td><td style = \"text-align: right;\">99.936</td><td style = \"text-align: right;\">99.936</td><td style = \"text-align: right;\">7.11434e-10</td></tr><tr><td class = \"rowNumber\" style = \"font-weight: bold; text-align: right;\">8</td><td style = \"text-align: left;\">91282CHR5</td><td style = \"text-align: left;\">7-Year</td><td style = \"text-align: right;\">4.087</td><td style = \"text-align: right;\">4.0</td><td style = \"text-align: right;\">99.475</td><td style = \"text-align: right;\">99.475</td><td style = \"text-align: right;\">1.6564e-9</td></tr><tr><td class = \"rowNumber\" style = \"font-weight: bold; text-align: right;\">9</td><td style = \"text-align: left;\">91282CHQ7</td><td style = \"text-align: left;\">5-Year</td><td style = \"text-align: right;\">4.17</td><td style = \"text-align: right;\">4.125</td><td style = \"text-align: right;\">99.7988</td><td style = \"text-align: right;\">99.7988</td><td style = \"text-align: right;\">2.74693e-9</td></tr><tr><td class = \"rowNumber\" style = \"font-weight: bold; text-align: right;\">10</td><td style = \"text-align: left;\">91282CHN4</td><td style = \"text-align: left;\">2-Year</td><td style = \"text-align: right;\">4.823</td><td style = \"text-align: right;\">4.75</td><td style = \"text-align: right;\">99.8624</td><td style = \"text-align: right;\">99.8624</td><td style = \"text-align: right;\">2.96491e-9</td></tr><tr><td class = \"rowNumber\" style = \"font-weight: bold; text-align: right;\">11</td><td style = \"text-align: left;\">91282CHP9</td><td style = \"text-align: left;\">10-Year</td><td style = \"text-align: right;\">1.495</td><td style = \"text-align: right;\">1.375</td><td style = \"text-align: right;\">98.8892</td><td style = \"text-align: right;\">99.0219</td><td style = \"text-align: right;\">0.0013411</td></tr><tr><td class = \"rowNumber\" style = \"font-weight: bold; text-align: right;\">12</td><td style = \"text-align: left;\">91282CHM6</td><td style = \"text-align: left;\">3-Year</td><td style = \"text-align: right;\">4.534</td><td style = \"text-align: right;\">4.5</td><td style = \"text-align: right;\">99.9056</td><td style = \"text-align: right;\">99.9052</td><td style = \"text-align: right;\">3.79157e-6</td></tr><tr><td class = \"rowNumber\" style = \"font-weight: bold; text-align: right;\">13</td><td style = \"text-align: left;\">91282CHJ3</td><td style = \"text-align: left;\">7-Year</td><td style = \"text-align: right;\">3.839</td><td style = \"text-align: right;\">3.75</td><td style = \"text-align: right;\">99.4582</td><td style = \"text-align: right;\">99.4582</td><td style = \"text-align: right;\">1.69474e-9</td></tr><tr><td style = \"text-align: right;\">&vellip;</td><td style = \"text-align: right;\">&vellip;</td><td style = \"text-align: right;\">&vellip;</td><td style = \"text-align: right;\">&vellip;</td><td style = \"text-align: right;\">&vellip;</td><td style = \"text-align: right;\">&vellip;</td><td style = \"text-align: right;\">&vellip;</td><td style = \"text-align: right;\">&vellip;</td></tr><tr><td class = \"rowNumber\" style = \"font-weight: bold; text-align: right;\">48</td><td style = \"text-align: left;\">91282CFY2</td><td style = \"text-align: left;\">7-Year</td><td style = \"text-align: right;\">3.89</td><td style = \"text-align: right;\">3.875</td><td style = \"text-align: right;\">99.9089</td><td style = \"text-align: right;\">99.9089</td><td style = \"text-align: right;\">3.15727e-9</td></tr><tr><td class = \"rowNumber\" style = \"font-weight: bold; text-align: right;\">49</td><td style = \"text-align: left;\">91282CFX4</td><td style = \"text-align: left;\">2-Year</td><td style = \"text-align: right;\">4.505</td><td style = \"text-align: right;\">4.5</td><td style = \"text-align: right;\">99.9905</td><td style = \"text-align: right;\">99.9905</td><td style = \"text-align: right;\">2.78662e-9</td></tr><tr><td class = \"rowNumber\" style = \"font-weight: bold; text-align: right;\">50</td><td style = \"text-align: left;\">91282CFZ9</td><td style = \"text-align: left;\">5-Year</td><td style = \"text-align: right;\">3.974</td><td style = \"text-align: right;\">3.875</td><td style = \"text-align: right;\">99.5551</td><td style = \"text-align: right;\">99.5551</td><td style = \"text-align: right;\">4.61927e-9</td></tr><tr><td class = \"rowNumber\" style = \"font-weight: bold; text-align: right;\">51</td><td style = \"text-align: left;\">912810TM0</td><td style = \"text-align: left;\">20-Year</td><td style = \"text-align: right;\">4.072</td><td style = \"text-align: right;\">4.0</td><td style = \"text-align: right;\">99.0214</td><td style = \"text-align: right;\">99.0197</td><td style = \"text-align: right;\">1.74791e-5</td></tr><tr><td class = \"rowNumber\" style = \"font-weight: bold; text-align: right;\">52</td><td style = \"text-align: left;\">912810TL2</td><td style = \"text-align: left;\">30-Year</td><td style = \"text-align: right;\">4.08</td><td style = \"text-align: right;\">4.0</td><td style = \"text-align: right;\">98.6229</td><td style = \"text-align: right;\">98.6229</td><td style = \"text-align: right;\">3.44063e-9</td></tr><tr><td class = \"rowNumber\" style = \"font-weight: bold; text-align: right;\">53</td><td style = \"text-align: left;\">91282CFV8</td><td style = \"text-align: left;\">10-Year</td><td style = \"text-align: right;\">4.14</td><td style = \"text-align: right;\">4.125</td><td style = \"text-align: right;\">99.8782</td><td style = \"text-align: right;\">99.8782</td><td style = \"text-align: right;\">3.4181e-9</td></tr><tr><td class = \"rowNumber\" style = \"font-weight: bold; text-align: right;\">54</td><td style = \"text-align: left;\">91282CFW6</td><td style = \"text-align: left;\">3-Year</td><td style = \"text-align: right;\">4.605</td><td style = \"text-align: right;\">4.5</td><td style = \"text-align: right;\">99.7089</td><td style = \"text-align: right;\">99.7089</td><td style = \"text-align: right;\">4.01493e-9</td></tr><tr><td class = \"rowNumber\" style = \"font-weight: bold; text-align: right;\">55</td><td style = \"text-align: left;\">91282CFT3</td><td style = \"text-align: left;\">7-Year</td><td style = \"text-align: right;\">4.027</td><td style = \"text-align: right;\">4.0</td><td style = \"text-align: right;\">99.8367</td><td style = \"text-align: right;\">99.8367</td><td style = \"text-align: right;\">1.84983e-9</td></tr><tr><td class = \"rowNumber\" style = \"font-weight: bold; text-align: right;\">56</td><td style = \"text-align: left;\">91282CFU0</td><td style = \"text-align: left;\">5-Year</td><td style = \"text-align: right;\">4.192</td><td style = \"text-align: right;\">4.125</td><td style = \"text-align: right;\">99.7006</td><td style = \"text-align: right;\">99.7006</td><td style = \"text-align: right;\">2.62547e-9</td></tr><tr><td class = \"rowNumber\" style = \"font-weight: bold; text-align: right;\">57</td><td style = \"text-align: left;\">91282CFQ9</td><td style = \"text-align: left;\">2-Year</td><td style = \"text-align: right;\">4.46</td><td style = \"text-align: right;\">4.375</td><td style = \"text-align: right;\">99.8391</td><td style = \"text-align: right;\">99.8391</td><td style = \"text-align: right;\">2.70693e-9</td></tr><tr><td class = \"rowNumber\" style = \"font-weight: bold; text-align: right;\">58</td><td style = \"text-align: left;\">91282CFR7</td><td style = \"text-align: left;\">5-Year</td><td style = \"text-align: right;\">1.732</td><td style = \"text-align: right;\">1.625</td><td style = \"text-align: right;\">99.4896</td><td style = \"text-align: right;\">99.4754</td><td style = \"text-align: right;\">0.000142614</td></tr><tr><td class = \"rowNumber\" style = \"font-weight: bold; text-align: right;\">59</td><td style = \"text-align: left;\">91282CFP1</td><td style = \"text-align: left;\">3-Year</td><td style = \"text-align: right;\">4.318</td><td style = \"text-align: right;\">4.25</td><td style = \"text-align: right;\">99.8106</td><td style = \"text-align: right;\">99.8104</td><td style = \"text-align: right;\">1.67392e-6</td></tr></tbody></table></div>"
      ],
      "text/latex": [
       "\\begin{tabular}{r|ccccccc}\n",
       "\t& CUSIP & term & rate & coupon & computed & actual & relative\\_error\\\\\n",
       "\t\\hline\n",
       "\t& String15 & String7 & Float64 & Float64 & Float64 & Float64 & Float64\\\\\n",
       "\t\\hline\n",
       "\t1 & 91282CHW4 & 7-Year & 4.212 & 4.125 & 99.4773 & 99.4773 & 3.59567e-9 \\\\\n",
       "\t2 & 91282CHV6 & 2-Year & 5.024 & 5.0 & 99.9549 & 99.9549 & 3.56315e-9 \\\\\n",
       "\t3 & 91282CHX2 & 5-Year & 4.4 & 4.375 & 99.8889 & 99.8889 & 3.89252e-9 \\\\\n",
       "\t4 & 912810TU2 & 20-Year & 4.499 & 4.375 & 98.3759 & 98.3742 & 1.68543e-5 \\\\\n",
       "\t5 & 912810TT5 & 30-Year & 4.189 & 4.125 & 98.9127 & 98.9127 & 2.72566e-9 \\\\\n",
       "\t6 & 91282CHT1 & 10-Year & 3.999 & 3.875 & 98.9862 & 98.9862 & 2.16414e-9 \\\\\n",
       "\t7 & 91282CHU8 & 3-Year & 4.398 & 4.375 & 99.936 & 99.936 & 7.11434e-10 \\\\\n",
       "\t8 & 91282CHR5 & 7-Year & 4.087 & 4.0 & 99.475 & 99.475 & 1.6564e-9 \\\\\n",
       "\t9 & 91282CHQ7 & 5-Year & 4.17 & 4.125 & 99.7988 & 99.7988 & 2.74693e-9 \\\\\n",
       "\t10 & 91282CHN4 & 2-Year & 4.823 & 4.75 & 99.8624 & 99.8624 & 2.96491e-9 \\\\\n",
       "\t11 & 91282CHP9 & 10-Year & 1.495 & 1.375 & 98.8892 & 99.0219 & 0.0013411 \\\\\n",
       "\t12 & 91282CHM6 & 3-Year & 4.534 & 4.5 & 99.9056 & 99.9052 & 3.79157e-6 \\\\\n",
       "\t13 & 91282CHJ3 & 7-Year & 3.839 & 3.75 & 99.4582 & 99.4582 & 1.69474e-9 \\\\\n",
       "\t14 & 91282CHK0 & 5-Year & 4.019 & 4.0 & 99.9147 & 99.9147 & 1.57801e-9 \\\\\n",
       "\t15 & 91282CHL8 & 2-Year & 4.67 & 4.625 & 99.915 & 99.915 & 6.36863e-10 \\\\\n",
       "\t16 & 91282CHH7 & 3-Year & 4.202 & 4.125 & 99.7851 & 99.7851 & 5.25274e-10 \\\\\n",
       "\t17 & 91282CHF1 & 7-Year & 3.827 & 3.75 & 99.5311 & 99.5311 & 3.82533e-9 \\\\\n",
       "\t18 & 91282CHE4 & 5-Year & 3.749 & 3.625 & 99.4394 & 99.4394 & 3.92029e-10 \\\\\n",
       "\t19 & 91282CHD6 & 2-Year & 4.3 & 4.25 & 99.9052 & 99.9052 & 2.8156e-9 \\\\\n",
       "\t20 & 912810TS7 & 20-Year & 3.954 & 3.875 & 98.9151 & 98.9136 & 1.461e-5 \\\\\n",
       "\t21 & 912810TR9 & 30-Year & 3.741 & 3.625 & 97.9191 & 97.9191 & 1.11294e-9 \\\\\n",
       "\t22 & 91282CHC8 & 10-Year & 3.448 & 3.375 & 99.387 & 99.387 & 3.27417e-9 \\\\\n",
       "\t23 & 91282CHB0 & 3-Year & 3.695 & 3.625 & 99.8029 & 99.8029 & 5.77428e-10 \\\\\n",
       "\t24 & 91282CGZ8 & 7-Year & 3.563 & 3.5 & 99.6127 & 99.6127 & 3.49223e-7 \\\\\n",
       "\t25 & 91282CHA2 & 5-Year & 3.5 & 3.5 & 100.0 & 99.9998 & 1.63e-6 \\\\\n",
       "\t26 & 91282CGX3 & 2-Year & 3.969 & 3.875 & 99.821 & 99.821 & 2.76341e-7 \\\\\n",
       "\t27 & 91282CGV7 & 3-Year & 3.81 & 3.75 & 99.8314 & 99.8313 & 9.21494e-7 \\\\\n",
       "\t28 & 91282CGS4 & 7-Year & 3.626 & 3.625 & 99.9939 & 99.9939 & 4.43841e-9 \\\\\n",
       "\t29 & 91282CGT2 & 5-Year & 3.665 & 3.625 & 99.8188 & 99.8188 & 3.65004e-9 \\\\\n",
       "\t30 & 91282CGU9 & 2-Year & 3.954 & 3.875 & 99.8495 & 99.8495 & 2.69568e-9 \\\\\n",
       "\t$\\dots$ & $\\dots$ & $\\dots$ & $\\dots$ & $\\dots$ & $\\dots$ & $\\dots$ & $\\dots$ \\\\\n",
       "\\end{tabular}\n"
      ],
      "text/plain": [
       "\u001b[1m59×7 DataFrame\u001b[0m\n",
       "\u001b[1m Row \u001b[0m│\u001b[1m CUSIP     \u001b[0m\u001b[1m term    \u001b[0m\u001b[1m rate    \u001b[0m\u001b[1m coupon  \u001b[0m\u001b[1m computed \u001b[0m\u001b[1m actual  \u001b[0m\u001b[1m relative_error\u001b[0m ⋯\n",
       "     │\u001b[90m String15  \u001b[0m\u001b[90m String7 \u001b[0m\u001b[90m Float64 \u001b[0m\u001b[90m Float64 \u001b[0m\u001b[90m Float64  \u001b[0m\u001b[90m Float64 \u001b[0m\u001b[90m Float64       \u001b[0m ⋯\n",
       "─────┼──────────────────────────────────────────────────────────────────────────\n",
       "   1 │ 91282CHW4  7-Year     4.212    4.125   99.4773  99.4773     3.59567e-9  ⋯\n",
       "   2 │ 91282CHV6  2-Year     5.024    5.0     99.9549  99.9549     3.56315e-9\n",
       "   3 │ 91282CHX2  5-Year     4.4      4.375   99.8889  99.8889     3.89252e-9\n",
       "   4 │ 912810TU2  20-Year    4.499    4.375   98.3759  98.3742     1.68543e-5\n",
       "   5 │ 912810TT5  30-Year    4.189    4.125   98.9127  98.9127     2.72566e-9  ⋯\n",
       "   6 │ 91282CHT1  10-Year    3.999    3.875   98.9862  98.9862     2.16414e-9\n",
       "   7 │ 91282CHU8  3-Year     4.398    4.375   99.936   99.936      7.11434e-10\n",
       "   8 │ 91282CHR5  7-Year     4.087    4.0     99.475   99.475      1.6564e-9\n",
       "   9 │ 91282CHQ7  5-Year     4.17     4.125   99.7988  99.7988     2.74693e-9  ⋯\n",
       "  10 │ 91282CHN4  2-Year     4.823    4.75    99.8624  99.8624     2.96491e-9\n",
       "  11 │ 91282CHP9  10-Year    1.495    1.375   98.8892  99.0219     0.0013411\n",
       "  ⋮  │     ⋮         ⋮        ⋮        ⋮        ⋮         ⋮           ⋮        ⋱\n",
       "  50 │ 91282CFZ9  5-Year     3.974    3.875   99.5551  99.5551     4.61927e-9\n",
       "  51 │ 912810TM0  20-Year    4.072    4.0     99.0214  99.0197     1.74791e-5  ⋯\n",
       "  52 │ 912810TL2  30-Year    4.08     4.0     98.6229  98.6229     3.44063e-9\n",
       "  53 │ 91282CFV8  10-Year    4.14     4.125   99.8782  99.8782     3.4181e-9\n",
       "  54 │ 91282CFW6  3-Year     4.605    4.5     99.7089  99.7089     4.01493e-9\n",
       "  55 │ 91282CFT3  7-Year     4.027    4.0     99.8367  99.8367     1.84983e-9  ⋯\n",
       "  56 │ 91282CFU0  5-Year     4.192    4.125   99.7006  99.7006     2.62547e-9\n",
       "  57 │ 91282CFQ9  2-Year     4.46     4.375   99.8391  99.8391     2.70693e-9\n",
       "  58 │ 91282CFR7  5-Year     1.732    1.625   99.4896  99.4754     0.000142614\n",
       "  59 │ 91282CFP1  3-Year     4.318    4.25    99.8106  99.8104     1.67392e-6  ⋯\n",
       "\u001b[36m                                                                38 rows omitted\u001b[0m"
      ]
     },
     "execution_count": 33,
     "metadata": {},
     "output_type": "execute_result"
    }
   ],
   "source": [
    "computed_price_table = DataFrame();\n",
    "security_dictionary = Dict{Int64,MyUSTreasuryCouponSecurityModel}()\n",
    "for i ∈ 1:number_of_records\n",
    "\n",
    "    # get data from the dataset \n",
    "    T = dataset[i, Symbol(\"Security Term\")] |> String |> securityterm; # what is happening here?\n",
    "    r̄ = dataset[i, Symbol(\"High Yield\")]\n",
    "    c = dataset[i, Symbol(\"Interest Rate\")]\n",
    "\n",
    "    # build the model with the data from this instrument \n",
    "    model = build(MyUSTreasuryCouponSecurityModel, (\n",
    "            par = 100.0, T = T, rate = r̄, coupon = c, λ = 2\n",
    "        )) |> discount_model;\n",
    "       \n",
    "    # compute the percentage error between the computed and observed price\n",
    "    VB = dataset[i, :Price];\n",
    "    price_computed = model.price\n",
    "    error = abs((VB - price_computed)/(price_computed));\n",
    "\n",
    "    # package up the results -\n",
    "    results_tuple = (\n",
    "        CUSIP = dataset[i, :CUSIP],\n",
    "        term = dataset[i, Symbol(\"Security Term\")],\n",
    "        rate = r̄*100,\n",
    "        coupon = c*100,\n",
    "        computed =  price_computed,\n",
    "        actual = VB,\n",
    "        relative_error = error\n",
    "    );\n",
    "\n",
    "    # store -\n",
    "    push!(computed_price_table, results_tuple)\n",
    "    security_dictionary[i] = model;\n",
    "end\n",
    "computed_price_table"
   ]
  },
  {
   "cell_type": "markdown",
   "id": "b7272b73-6a88-49f5-b7b1-60066e55b07f",
   "metadata": {},
   "source": [
    "### Check: How well do we estimate the price of notes and bonds at auction?\n",
    "Let's specify a `tolerance` and compute the fraction of notes and bonds with a relative error _less than or equal_ to the `tolerance.`\n",
    "* Let the `tolerance = 1e-3`. You can specify a different value by setting the `tolerance` variable\n",
    "* We iterate through the entries of the `computed_price_table,` and increment the `counter` variable if the `relative_error` $\\leq$ `tolerance.`\n",
    "* Finally, we compute the fraction of notes and bonds that satisfy the relative error check"
   ]
  },
  {
   "cell_type": "code",
   "execution_count": 43,
   "id": "1e2fbb25-64df-48e0-a3fd-a73a886e00e3",
   "metadata": {},
   "outputs": [
    {
     "name": "stdout",
     "output_type": "stream",
     "text": [
      "What fraction of instruments satisfy the error tolerance: 0.9830508474576272 or 58.0 out of 59\n"
     ]
    }
   ],
   "source": [
    "tolerance = 1e-3\n",
    "counter = 0.0\n",
    "for i ∈ 1:number_of_records\n",
    "    if (computed_price_table[i,:relative_error] ≤ tolerance)\n",
    "        counter += 1\n",
    "    end\n",
    "end\n",
    "fraction = (counter/number_of_records);\n",
    "println(\"What fraction of instruments satisfy the error tolerance: $(fraction) \\\n",
    "    or $(counter) out of $(number_of_records)\")"
   ]
  },
  {
   "cell_type": "markdown",
   "id": "2bed9886-97af-4dc5-af98-0ae83745a15c",
   "metadata": {},
   "source": [
    "#### Discussion question\n",
    "1. If `fraction` does not equal `1.0`, which note or bond was mispriced? Did the buyer of the mispriced note or bond get a `good` or `bad` deal, i.e., did they underpay or overpay?"
   ]
  },
  {
   "cell_type": "markdown",
   "id": "4970ffb5-50fd-4125-8957-27306a7dbf4b",
   "metadata": {},
   "source": [
    "## Disclaimer and Risks\n",
    "__This content is offered solely for training and informational purposes__. No offer or solicitation to buy or sell securities or derivative products or any investment or trading advice or strategy is made, given, or endorsed by the teaching team. \n",
    "\n",
    "__Trading involves risk__. Carefully review your financial situation before investing in securities, futures contracts, options, or commodity interests. Past performance, whether actual or indicated by historical tests of strategies, is no guarantee of future performance or success. Trading is generally inappropriate for someone with limited resources, investment or trading experience, or a low-risk tolerance.  Only risk capital that is not required for living expenses.\n",
    "\n",
    "__You are fully responsible for any investment or trading decisions you make__. Such decisions should be based solely on evaluating your financial circumstances, investment or trading objectives, risk tolerance, and liquidity needs."
   ]
  }
 ],
 "metadata": {
  "kernelspec": {
   "display_name": "Julia 1.10.0",
   "language": "julia",
   "name": "julia-1.10"
  },
  "language_info": {
   "file_extension": ".jl",
   "mimetype": "application/julia",
   "name": "julia",
   "version": "1.10.0"
  }
 },
 "nbformat": 4,
 "nbformat_minor": 5
}
