{
 "cells": [
  {
   "cell_type": "markdown",
   "id": "c01d085c-19ea-4ed0-b4a3-48084d962514",
   "metadata": {},
   "source": [
    "# Pricing of United States Treasury Notes and Bills"
   ]
  },
  {
   "cell_type": "markdown",
   "id": "f65683a1-3094-40cd-89df-effbd8a20f86",
   "metadata": {},
   "source": [
    "## Background\n",
    "Treasury notes, also known as T-notes, are financial instruments that offer a fixed interest rate every six months until they mature. These instruments are available for 2, 3, 5, 7, and 10 years and can be priced above or below their face (par) value. Upon maturity, lenders are entitled to the full par value of the note. T-notes are considered coupon debt instruments, meaning lenders receive regular interest payments based on a coupon rate throughout the note’s lifespan. \n",
    "\n",
    "Treasury bonds, like T-notes, are debt instruments that pay a fixed interest rate every six months. Unlike T-notes, however, Treasury bonds are long-term U.S. Treasury debt instruments with terms of 20 or 30 years. Once a bond reaches maturity, the bondholder receives its face value.  Notes and bonds can be held until maturity or sold before that time.\n",
    "\n",
    "### Pricing\n",
    "Let the term of a bond (or note) be T-years with semiannual ($\\lambda = 2$) coupon payments per year; $N = \\lambda{T}$ coupon payments over the bond term. Further, let $\\bar{c}$ denote the annualized coupon rate, and $\\bar{r}$ denote the annual effective market interest rate. Then, the _fair price_ for the bond (or note) $V_{B}$ is the present value of coupon payments $C$ plus the discounted face (par) value $V_{P}$ of the bond:\n",
    "\n",
    "$$\n",
    "V_{B} = \\frac{V_{P}}{\\left(1+i\\right)^{N}}+\\sum_{j=1}^{N}\\frac{C}{\\left(1+i\\right)^{j}}\n",
    "$$\n",
    "\n",
    "The coupon payment $C=\\left(\\bar{c}/\\lambda\\right)\\cdot{V_{P}}$ is set when the bond is purchased, and the interest rate $i=\\bar{r}/\\lambda$ varies with the market. The contract between the U.S. government, the issuer, and the bondholder (you) includes the bond’s coupon rate, maturity date, and face (par) value."
   ]
  },
  {
   "cell_type": "markdown",
   "id": "352555e2-6031-4516-ade0-d64fc9c9ce11",
   "metadata": {},
   "source": [
    "## Objectives\n",
    "Let's use public quotation data from the [Wall Street Journal](https://www.wsj.com/market-data/bonds/treasuries) to test the pricing formula above (and our codes to calculte $V_{B}$). Next, we'll do a [Yield to Maturity (YTM)](https://en.wikipedia.org/wiki/Yield_to_maturity) calculation for notes and bonds of different durations.\n",
    "\n",
    "### Tasks and Strategies\n",
    "1. Validate the prices calculated using our implementation of the pricing formula above with historical data for bonds and notes of different durations. Further, show that longer term bonds are more sensitive to changes in the market interest rate compared to shorter duration instruments. \n",
    "1. Using our validated bond/note code, compute the [Yield to Maturity (YTM)](https://en.wikipedia.org/wiki/Yield_to_maturity) for bonds of different durations. Show how the parameters in the bond pricing equation influence the yeild to majurity. "
   ]
  },
  {
   "cell_type": "markdown",
   "id": "d8a52137-c890-4d98-9339-9c0a8890fb4c",
   "metadata": {},
   "source": [
    "## Setup\n",
    "In the following code blocks, we set up the computational environment by including the `Include.jl` file. The `Include.jl` file loads external packages, functions that we will use in this exercise, and custom types to model the components of our problem."
   ]
  },
  {
   "cell_type": "code",
   "execution_count": 1,
   "id": "fd1b9d04-824e-4b0d-bd80-41df59371f4b",
   "metadata": {},
   "outputs": [],
   "source": [
    "include(\"Include.jl\");"
   ]
  },
  {
   "cell_type": "markdown",
   "id": "274b25a7-9ff9-46d0-85fc-3adc4d68eb25",
   "metadata": {},
   "source": [
    "## a) Validate the Bond Pricing Formula\n",
    "Let's consider a few examples of coupon Bond pricing with our implementation of the pricing formula should above.  "
   ]
  },
  {
   "cell_type": "markdown",
   "id": "bab22a43-4a11-49a2-ab14-04f6976e55f9",
   "metadata": {},
   "source": [
    "#### Example 1: A 5-year treasury note with semi-annual coupon payments\n",
    "Compute the price of a 5-year treasury note with semi-annual coupons with a coupon rate of 8% and a market rate of interest of 7%. The face value of the note is $V_{P}=$10,000 USD. We expect a price of $V_{B}$ = 10,415.83 USD."
   ]
  },
  {
   "cell_type": "code",
   "execution_count": 21,
   "id": "663d3857-217c-4f16-8d1d-f029255b6a07",
   "metadata": {},
   "outputs": [
    {
     "name": "stdout",
     "output_type": "stream",
     "text": [
      "┌────────────┬─────────────┐\n",
      "│\u001b[1m            \u001b[0m│\u001b[1m Value (USD) \u001b[0m│\n",
      "├────────────┼─────────────┤\n",
      "│   Reported │   10,415.83 │\n",
      "│ Calculated │     10415.8 │\n",
      "└────────────┴─────────────┘\n"
     ]
    }
   ],
   "source": [
    "# Setup parameters for this example\n",
    "Vₚ = 100.0;\n",
    "T = 5.0\n",
    "r = 0.07\n",
    "c = 0.08\n",
    "λ = 2\n",
    "\n",
    "# Build model, and compute the price\n",
    "model = build(MyUSTreasuryCouponSecurityModel, (\n",
    "            par = Vₚ, T = T, rate = r, coupon = c, λ = λ\n",
    "        )) |> (model -> price(model, Vₚ = Vₚ));\n",
    "\n",
    "# pretty table -\n",
    "example_1_data_array = Array{Any,2}(undef, 2,2);\n",
    "example_1_data_array[1,1] = \"Reported\"\n",
    "example_1_data_array[1,2] = \"10,415.83\"\n",
    "example_1_data_array[2,1] = \"Calculated\"\n",
    "example_1_data_array[2,2] = 10000.0*model.price*(1/100)\n",
    "\n",
    "example_1_header_data = ([\"\",\"Value (USD)\"]);\n",
    "pretty_table(example_1_data_array, header=example_1_header_data);"
   ]
  },
  {
   "cell_type": "markdown",
   "id": "7b6ce055-8ac1-4531-9efe-06070138d866",
   "metadata": {},
   "source": [
    "##### Cashflow table for Example 1"
   ]
  },
  {
   "cell_type": "code",
   "execution_count": 9,
   "id": "fccdef77-3789-4cf1-b186-8488b73950a7",
   "metadata": {},
   "outputs": [
    {
     "name": "stdout",
     "output_type": "stream",
     "text": [
      "┌────────┬─────────────────────┬──────────────────────────────────┬───────────────────────┬─────────────┐\n",
      "│\u001b[1m Period \u001b[0m│\u001b[1m Cashflow (CF) (USD) \u001b[0m│\u001b[1m Discounted Cashflow (DCF) (PUSD) \u001b[0m│\u001b[1m Cumulative DCF (PUSD) \u001b[0m│\u001b[1m Alternative \u001b[0m│\n",
      "├────────┼─────────────────────┼──────────────────────────────────┼───────────────────────┼─────────────┤\n",
      "│      0 │            -10415.8 │                         -10415.8 │              -10415.8 │     10415.8 │\n",
      "│      1 │               400.0 │                          386.473 │              -10029.4 │     10063.6 │\n",
      "│      2 │               400.0 │                          373.404 │              -9655.95 │     9723.29 │\n",
      "│      3 │               400.0 │                          360.777 │              -9295.18 │     9394.48 │\n",
      "│      4 │               400.0 │                          348.577 │               -8946.6 │     9076.79 │\n",
      "│      5 │               400.0 │                          336.789 │              -8609.81 │     8769.85 │\n",
      "│      6 │               400.0 │                            325.4 │              -8284.41 │     8473.28 │\n",
      "│      7 │               400.0 │                          314.396 │              -7970.01 │     8186.75 │\n",
      "│      8 │               400.0 │                          303.765 │              -7666.25 │      7909.9 │\n",
      "│      9 │               400.0 │                          293.492 │              -7372.76 │     7642.42 │\n",
      "│     10 │             10400.0 │                          7372.76 │          -9.09495e-13 │     7383.98 │\n",
      "└────────┴─────────────────────┴──────────────────────────────────┴───────────────────────┴─────────────┘\n"
     ]
    }
   ],
   "source": [
    "cashflow_data_table = Array{Any,2}(undef,11,5);\n",
    "cfd = model.cashflow;\n",
    "number_of_periods = length(cfd);\n",
    "C = (c/λ)*Vₚ\n",
    "rᵢ = (r/λ);\n",
    "\n",
    "counter = 1;\n",
    "cumulative_sum = 0.0\n",
    "for i ∈ 0:(number_of_periods-1)\n",
    "    \n",
    "    # compute the discount rate -\n",
    "    𝒟ᵢ = (1+rᵢ)^i\n",
    "    \n",
    "    # update the cumulative sum \n",
    "    cumulative_sum += cfd[i];\n",
    "    \n",
    "    if (i == 0)\n",
    "        cashflow_data_table[counter, 1] = i;\n",
    "        cashflow_data_table[counter, 2] = cfd[i];\n",
    "        cashflow_data_table[counter, 3] = cfd[i];\n",
    "        cashflow_data_table[counter, 4] = cumulative_sum;\n",
    "        # cashflow_data_table[counter, 5] = (1/𝒟ᵢ)*model.price\n",
    "        cashflow_data_table[counter, 5] = (1/𝒟ᵢ)*model.price\n",
    "    elseif (i == (number_of_periods-1))\n",
    "        cashflow_data_table[counter, 1] = i;\n",
    "        cashflow_data_table[counter, 2] = C + Vₚ\n",
    "        cashflow_data_table[counter, 3] = cfd[i];\n",
    "        cashflow_data_table[counter, 4] = cumulative_sum;\n",
    "        # cashflow_data_table[counter, 5] = (1/𝒟ᵢ)*model.price \n",
    "        cashflow_data_table[counter, 5] = (1/𝒟ᵢ)*model.price\n",
    "     else\n",
    "        cashflow_data_table[counter, 1] = i;\n",
    "        cashflow_data_table[counter, 2] = C\n",
    "        cashflow_data_table[counter, 3] = cfd[i];\n",
    "        cashflow_data_table[counter, 4] = cumulative_sum;\n",
    "        # cashflow_data_table[counter, 5] = (1/𝒟ᵢ)*model.price\n",
    "        cashflow_data_table[counter, 5] = (1/𝒟ᵢ)*model.price\n",
    "    end\n",
    "    counter += 1;\n",
    "end\n",
    "\n",
    "# cashflow_data_table[end,1] = \"Total\"\n",
    "# cashflow_data_table[end,2] = sum(cashflow_data_table[1:end-1, 2])\n",
    "# cashflow_data_table[end,3] = sum(cashflow_data_table[1:end-1, 3])\n",
    "# cashflow_data_table[end,4] = sum(cashflow_data_table[1:end-1, 4])\n",
    "# cashflow_data_table[end,5] = sum(cashflow_data_table[1:end-1, 5])\n",
    "\n",
    "cashflow_table_header = ([\"Period\",\"Cashflow (CF) (USD)\", \"Discounted Cashflow (DCF) (PUSD)\", \"Cumulative DCF (PUSD)\", \"Alternative\"]);\n",
    "pretty_table(cashflow_data_table, header = cashflow_table_header)"
   ]
  },
  {
   "cell_type": "markdown",
   "id": "85af49f0-3610-419b-91da-14f99fa82e9e",
   "metadata": {},
   "source": [
    "#### Example 2: A 2-year treasury note with annual coupon payments\n",
    "Compute the price of a 2-year treasury note with annual coupons with a coupon rate of 7% and a market rate of interest of 8%. The face value of the note is $V_{P}=$100 USD. We expect a price of $V_{B}$ = 98.22 USD. This example was repoduced from [FINA 635, Department of Finance at the C.T. Bauer College of Business, University of Houston](https://www.bauer.uh.edu/nlangberg/teaching_files/Fall2010/class%205_2008sum.pdf)"
   ]
  },
  {
   "cell_type": "code",
   "execution_count": 22,
   "id": "e349c860-9002-47ae-91b8-b077d56f5239",
   "metadata": {},
   "outputs": [
    {
     "name": "stdout",
     "output_type": "stream",
     "text": [
      "┌────────────┬─────────────┐\n",
      "│\u001b[1m            \u001b[0m│\u001b[1m Value (USD) \u001b[0m│\n",
      "├────────────┼─────────────┤\n",
      "│   Reported │       98.22 │\n",
      "│ Calculated │     98.2167 │\n",
      "└────────────┴─────────────┘\n"
     ]
    }
   ],
   "source": [
    "# Setup parameters for this example\n",
    "Vₚ = 100.0;\n",
    "T = 2.0\n",
    "r = 0.08\n",
    "c = 0.07\n",
    "λ = 1\n",
    "\n",
    "# Build model, and compute the price\n",
    "model = build(MyUSTreasuryCouponSecurityModel, (\n",
    "            par = Vₚ, T = T, rate = r, coupon = c, λ = λ\n",
    "        )) |> (x -> price(x, Vₚ = Vₚ));\n",
    "\n",
    "# pretty table -\n",
    "example_1_data_array = Array{Any,2}(undef, 2,2);\n",
    "example_1_data_array[1,1] = \"Reported\"\n",
    "example_1_data_array[1,2] = \"98.22\"\n",
    "example_1_data_array[2,1] = \"Calculated\"\n",
    "example_1_data_array[2,2] = model.price\n",
    "\n",
    "example_1_header_data = ([\"\",\"Value (USD)\"]);\n",
    "pretty_table(example_1_data_array, header=example_1_header_data);"
   ]
  },
  {
   "cell_type": "markdown",
   "id": "a09973ab-bd6b-488f-97fb-48d3ce91995e",
   "metadata": {},
   "source": [
    "#### Example 3: Comparision of the calculated 30-year Treasury bond price with historical data"
   ]
  },
  {
   "cell_type": "code",
   "execution_count": 27,
   "id": "ef8ab2b0-f27b-4716-8c8e-e40e316d8a72",
   "metadata": {},
   "outputs": [
    {
     "name": "stdout",
     "output_type": "stream",
     "text": [
      "┌────────────┬─────────────┐\n",
      "│\u001b[1m            \u001b[0m│\u001b[1m Value (USD) \u001b[0m│\n",
      "├────────────┼─────────────┤\n",
      "│   Reported │       98.22 │\n",
      "│ Calculated │     99.2605 │\n",
      "└────────────┴─────────────┘\n"
     ]
    }
   ],
   "source": [
    "# Setup parameters for this example\n",
    "Vₚ = 100.0;\n",
    "T = 30.0\n",
    "r = 0.0794\n",
    "c = 0.07875\n",
    "λ = 2\n",
    "\n",
    "# Build model, and compute the price\n",
    "model = build(MyUSTreasuryCouponSecurityModel, (\n",
    "            par = Vₚ, T = T, rate = r, coupon = c, λ = λ\n",
    "        )) |> (x -> price(x, Vₚ = Vₚ));\n",
    "\n",
    "# pretty table -\n",
    "example_1_data_array = Array{Any,2}(undef, 2,2);\n",
    "example_1_data_array[1,1] = \"Reported\"\n",
    "example_1_data_array[1,2] = \"98.22\"\n",
    "example_1_data_array[2,1] = \"Calculated\"\n",
    "example_1_data_array[2,2] = model.price\n",
    "\n",
    "example_1_header_data = ([\"\",\"Value (USD)\"]);\n",
    "pretty_table(example_1_data_array, header=example_1_header_data);"
   ]
  },
  {
   "cell_type": "code",
   "execution_count": null,
   "id": "c0c825bf-f4d8-422b-8c08-92463afbd4ee",
   "metadata": {},
   "outputs": [],
   "source": []
  }
 ],
 "metadata": {
  "kernelspec": {
   "display_name": "Julia 1.9.0",
   "language": "julia",
   "name": "julia-1.9"
  },
  "language_info": {
   "file_extension": ".jl",
   "mimetype": "application/julia",
   "name": "julia",
   "version": "1.9.0"
  }
 },
 "nbformat": 4,
 "nbformat_minor": 5
}
