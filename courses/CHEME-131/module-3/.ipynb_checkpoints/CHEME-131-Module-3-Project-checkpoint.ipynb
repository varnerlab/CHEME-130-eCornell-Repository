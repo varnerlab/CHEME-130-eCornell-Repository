{
 "cells": [
  {
   "cell_type": "markdown",
   "id": "39f23031-190a-4511-bff4-5266f424f663",
   "metadata": {},
   "source": [
    "# Project: Registered Interest and Principal of Securities (STRIPS) Bonds"
   ]
  },
  {
   "cell_type": "markdown",
   "id": "f6d52367-b6f9-4f90-af51-4095fbee0968",
   "metadata": {},
   "source": [
    "## Background\n",
    "STRIPS bonds, short for [Registered Interest and Principal of Securities](https://en.wikipedia.org/wiki/United_States_Treasury_security#STRIPS) bonds, offer investors a unique fixed-income investment opportunity to access the income and coupon payments of Treasury securities. These bonds are created by separating a Treasury security’s coupon and principal components and trading them as zero-coupon securities. The separation process enables investors to purchase and trade the coupon or principal components individually, providing them with more flexibility in managing their investment portfolios.\n",
    "\n",
    "<div>\n",
    "    <center>\n",
    "        <img src=\"figs/Fig-STRIPS-Schematic.png\" width=\"900\"/>\n",
    "    </center>\n",
    "</div>\n",
    "\n",
    "For example, the 5-year Treasury note with annual coupon payments of $C$ USD and a face (par) value of $V_{P}$ (USD) shown above can be stripped into six separate zero-coupon securities, i.e., five zero-coupon bonds, each with face values of $C$ and maturity of $T$= 1,2,3,4 and 5 years, and a six security with face  (par) value of $V_{P}$ USD with a duration of $T$ = 5 years. In the general case, a treasury note or bond with $N=\\lambda{T}$ coupon payments, where $T$ denotes the maturity in years, and $\\lambda$ represents the number of coupon payments per year, can be stripped into $N+1$ separate zero-coupon securities.\n",
    "\n",
    "Beyond thier immediate value as investment tools, STRIPS bonds are interesting as they provide another look at the [Term Structure of Interest Rates](https://www.investopedia.com/terms/t/termstructure.asp#:~:text=Essentially%2C%20term%20structure%20of%20interest,current%20state%20of%20an%20economy), i.e., how the change in the [short rates](https://en.wikipedia.org/wiki/Short-rate_model) influences the price and yeild the bond."
   ]
  },
  {
   "cell_type": "markdown",
   "id": "f0f50c37-17f6-4230-b91e-0cf3ac4a9433",
   "metadata": {
    "tags": []
   },
   "source": [
    "## Project\n",
    "In this project, you will create a model for a 5-year treasury note with semi-annual coupon payments. Then, you will strip the coupon payments and face value to produce 11 zero-coupon STRIPS bonds. \n",
    "\n",
    "* __Objective__: Your project objective is to build a model for a 5-year treasury note and strip the notes's coupon payments and face value. To make our calculations realistic, we will use coupon and market interest values from recent 5-year note quotations. "
   ]
  },
  {
   "cell_type": "markdown",
   "id": "e3aea3df-9b81-4dbc-8e8f-6d6b49320832",
   "metadata": {
    "jp-MarkdownHeadingCollapsed": true,
    "tags": []
   },
   "source": [
    "## Setup\n",
    "In the following code block, we set up the computational environment by including the `Include.jl` file. The `Include.jl` file loads external packages, various functions that we will use in the exercise, and custom types to model the components of our problem."
   ]
  },
  {
   "cell_type": "markdown",
   "id": "260f4c26-0bbe-4354-91f5-87772c7f9999",
   "metadata": {
    "jp-MarkdownHeadingCollapsed": true,
    "tags": []
   },
   "source": [
    "### Packages\n",
    "`Include.jl` loads several external packages that we will use for our exercise:\n",
    "\n",
    "* The [Optim.jl](https://github.com/JuliaNLSolvers/Optim.jl) package provides routines for univariate and multivariate optimization in [Julia](https://julialang.org). We use these routines to estimate the Yield to Maturity (YTM) of zero-coupon bonds generated from a parent treasury note or bond by stripping.\n",
    "* The [LinearAlgebra.jl](https://github.com/JuliaLang/LinearAlgebra.jl) package provides routines for linear algebra operations. We use these routines to frame and solve (by computing a matrix inverse) the bootstrapping calculation to estimate the short rates from the price of zero-coupon bonds of different maturity.\n",
    "* The [PrettyTables.jl](https://github.com/ronisbr/PrettyTables.jl) package provides routines to display tabular data. We use these routines to display various calculation results throughout our exercises."
   ]
  },
  {
   "cell_type": "markdown",
   "id": "643df43c-b2bd-4f72-9bfe-3607c0c58edb",
   "metadata": {},
   "source": [
    "### Types\n",
    "* The `MyUSTreasuryCouponSecurityModel` is [mutable type](https://docs.julialang.org/en/v1/manual/types/#Mutable-Composite-Types) that holds important information such as the par value $V_{P}$, duration $T$, market interest rate $\\bar{r}$, coupon rate $c$, and the number of coupon payments per year $\\lambda$ for treasury notes and bonds. To create a `MyUSTreasuryCouponSecurityModel` instance, you can use the `build` method explained below.\n",
    "* On the other hand, `MyUSTreasuryZeroCouponBondModel` is a [mutable type](https://docs.julialang.org/en/v1/manual/types/#Mutable-Composite-Types) that models a zero-coupon treasury bond. It holds the par value $V_{P}$, duration $T$, and interest rate $\\bar{r}$ for a zero-coupon bond. You can create instances of `MyUSTreasuryZeroCouponBondModel` from a parent `MyUSTreasuryCouponSecurityModel` instance by using the `strip(...)` function explained below.\n",
    "* Lastly, we export the `DiscreteCompoundingModel` and `ContinuousCompoundingModel` [immutable types](https://docs.julialang.org/en/v1/manual/types/#Composite-Types), which indicate which compounding model we want to use. These types have no data associated with them."
   ]
  },
  {
   "cell_type": "markdown",
   "id": "7515428d-b961-4bc5-b03e-0de433d0b17d",
   "metadata": {
    "tags": []
   },
   "source": [
    "### Functions\n",
    "`Include.jl` loads the following [Julia functions](https://docs.julialang.org/en/v1/manual/functions/) into the notebook:\n",
    "\n",
    "`build(model::Type{MyUSTreasuryCouponSecurityModel}, data::NamedTuple) -> MyUSTreasuryCouponSecurityModel` \n",
    "> This function takes information in the `data` [NamedTuple](https://docs.julialang.org/en/v1/base/base/#Core.NamedTuple) argument (the par value, etc.) and returns an instance of the `MyUSTreasuryCouponSecurityModel` [mutable type](https://docs.julialang.org/en/v1/manual/types/#Mutable-Composite-Types).\n",
    "\n",
    "`strip(model::MyUSTreasuryCouponSecurityModel) -> Dict{Int, MyUSTreasuryZeroCouponBondModel}`\n",
    "> This function takes a `MyUSTreasuryCouponSecurityModel` instance, i.e., a model of treasury security such as a note or bond with coupon payments that we want to strip and strips these payments from the parent security. The `strip(...)` function returns a [Dictionary](https://docs.julialang.org/en/v1/base/collections/#Dictionaries) holding `MyUSTreasuryZeroCouponBondModel` instances created from the parent security, where the keys of the dictionary correspond to the temporal index of the created security. \n",
    "\n",
    "`YTM(model::MyUSTreasuryCouponSecurityModel, compounding::T; rₒ::Float64 = 0.01) where T <: AbstractCompoundingModel` \n",
    "> This function computes the Yield to Maturity (YTM) given a `MyUSTreasuryCouponSecurityModel` instance, a compounding model, and an initial guess for the interest rate (default value of 1\\%). This function computes the Internal Rate of Return (IRR) using the [Optim.jl](https://docs.sciml.ai/Optimization/stable/optimization_packages/optim/) package."
   ]
  },
  {
   "cell_type": "code",
   "execution_count": 1,
   "id": "643d5acb-9cc9-419a-8a31-090f2017563c",
   "metadata": {},
   "outputs": [
    {
     "name": "stderr",
     "output_type": "stream",
     "text": [
      "\u001b[32m\u001b[1m  Activating\u001b[22m\u001b[39m project at `~/Desktop/julia_work/CHEME-130-eCornell-Repository/courses/CHEME-131/module-3`\n"
     ]
    }
   ],
   "source": [
    "include(\"Include.jl\");"
   ]
  },
  {
   "cell_type": "markdown",
   "id": "81cc834e-cb94-4e05-bbc8-78447dbb3d9c",
   "metadata": {},
   "source": [
    "## Objective: STRIP a 5-year treasury note\n",
    "Strip a 5-year treasury note that pays semiannual coupon payments. Assume the note has a face (par) value of $V_{P} = 100$ USD, an effective market rate of interest $\\bar{r}=6.76$\\%, a five-year maturity, and a coupon rate of $c$ = 6\\%. Finally, assume discrete compounding:"
   ]
  },
  {
   "cell_type": "code",
   "execution_count": 2,
   "id": "d53142c5-18fe-44ba-8a9f-f103f447f2e4",
   "metadata": {},
   "outputs": [],
   "source": [
    "Vₚ,T,r̄,c,λ = 100.0,5.0,0.0676,0.06,2\n",
    "compounding = DiscreteCompoundingModel();"
   ]
  },
  {
   "cell_type": "markdown",
   "id": "6fb0c709-1466-4944-8fde-8a3fa7a16e90",
   "metadata": {},
   "source": [
    "Next, now that you have set the parameters of the T-note, use the `build(...)` method to create an instance of parent note which is a `MyUSTreasuryCouponSecurityModel`, compute the price usinf the `|>` syntax, and store the 5-year T-note in the `model` variable:"
   ]
  },
  {
   "cell_type": "code",
   "execution_count": 3,
   "id": "a9a89732-481e-4476-8108-a038f3f80451",
   "metadata": {},
   "outputs": [
    {
     "name": "stdout",
     "output_type": "stream",
     "text": [
      "The 5-year note with face value Vₚ = 100.0 USD is priced at 96.82 USD\n"
     ]
    }
   ],
   "source": [
    "model = build(MyUSTreasuryCouponSecurityModel, (\n",
    "            par = Vₚ, T = T, rate = r̄, coupon = c, λ = λ\n",
    "        )) |> compounding;\n",
    "\n",
    "# show -\n",
    "println(\"The 5-year note with face value Vₚ = $(Vₚ) USD is priced at $(round(model.price, sigdigits=5)) USD\")"
   ]
  },
  {
   "cell_type": "markdown",
   "id": "e3c67fb7-fb89-405b-9782-d0369cddc349",
   "metadata": {},
   "source": [
    "Finally, generate the STRIPS zero-coupon product collection from the `model::MyUSTreasuryCouponSecurityModel` you just created using the `strip(...)` function. Store the collection of zero-coupon bonds in the `strips` variable:"
   ]
  },
  {
   "cell_type": "code",
   "execution_count": 4,
   "id": "7c342354-08a2-4a79-a2c6-bee33a148b82",
   "metadata": {},
   "outputs": [],
   "source": [
    "strips = strip(model);"
   ]
  },
  {
   "cell_type": "markdown",
   "id": "69233a62-21a2-43b9-afda-b2e206672ba7",
   "metadata": {},
   "source": [
    "### Price the stripped zero-coupon bonds for resale\n",
    "While you have created a collection of zero-coupon bonds from the parent treasury note, you have not priced these bonds for resale in the secondary treasury market. We priced the zero-coupon bonds in the worked example using a variable discount. In this case, assume a fixed ratio between the face (par) value and the bond price, i.e., $\\alpha$ = 0.95. Compute the price and effective market rate of interest $\\bar{r}$ for each of the zero-coupon bonds.\n",
    "\n",
    "#### Implementation\n",
    "Save the count of the zero-coupon bonds generated by the `strip(…)` function in the `number_of_zc_bonds` variable. Then, iterate through the indexes of the zero-coupon bonds using a `for` loop, retrieving the individual bond models from the `strips` dictionary using the bracket notation `strips[i]`, where `i` represents the bond index. Store the individual bond models in the `zc_model` variable. \n",
    "\n",
    "For each pass of the loop, let's compute the price we are willing to sell the bond. In the worked example, we calculated this price as a fraction of the face value. However, in this case, let's take a different approach. Let the rate at which we are willing to sell the bond be given by:\n",
    "\n",
    "$$\n",
    "\\bar{t} = \\theta_{1}+\\theta_{2}\\cdot\\left(i-1\\right)\n",
    "$$\n",
    "\n",
    "where $i$ denotes the loop counter, $\\theta_{1}$ denotes the interest rate for the shortest term bond, and $\\theta_{2}$ governs how fast the rate escalates for each pass of the loop, i.e., for each bond of longer maturity that we sell. Set the `rate` field of the  `zc_model` instance and then compute the price using the `price(...)` function: "
   ]
  },
  {
   "cell_type": "code",
   "execution_count": 38,
   "id": "034b05a0-5826-4601-b740-339288aa816f",
   "metadata": {},
   "outputs": [],
   "source": [
    "θ₁, θ₂ = 0.03, 0.0025\n",
    "number_of_zc_bonds = length(strips)\n",
    "for i ∈ 1:number_of_zc_bonds\n",
    "    zc_model = strips[i];\n",
    "    zc_model.rate = θ₁ + θ₂*(i-1)\n",
    "    zc_model = price(zc_model,compounding)\n",
    "end"
   ]
  },
  {
   "cell_type": "markdown",
   "id": "dc406562-136b-4639-a15a-ac8321e18b2b",
   "metadata": {},
   "source": [
    "Finally, display the zero coupon bonds that we selling into the secondary market:"
   ]
  },
  {
   "cell_type": "code",
   "execution_count": 39,
   "id": "0b09e2b3-4cef-4cfc-a9bd-d55de2de5245",
   "metadata": {},
   "outputs": [
    {
     "data": {
      "text/html": [
       "<table>\n",
       "  <thead>\n",
       "    <tr class = \"header\">\n",
       "      <th style = \"text-align: right;\">T</th>\n",
       "      <th style = \"text-align: right;\">r̄</th>\n",
       "      <th style = \"text-align: right;\">par</th>\n",
       "      <th style = \"text-align: right;\">price</th>\n",
       "      <th style = \"text-align: right;\">discount</th>\n",
       "    </tr>\n",
       "    <tr class = \"subheader headerLastRow\">\n",
       "      <th style = \"text-align: right;\">YR</th>\n",
       "      <th style = \"text-align: right;\">%</th>\n",
       "      <th style = \"text-align: right;\">USD</th>\n",
       "      <th style = \"text-align: right;\">USD</th>\n",
       "      <th style = \"text-align: right;\">price/par</th>\n",
       "    </tr>\n",
       "  </thead>\n",
       "  <tbody>\n",
       "    <tr>\n",
       "      <td style = \"text-align: right;\">0.5</td>\n",
       "      <td style = \"text-align: right;\">3.0</td>\n",
       "      <td style = \"text-align: right;\">3.0</td>\n",
       "      <td style = \"text-align: right;\">2.95599</td>\n",
       "      <td style = \"text-align: right;\">0.985329</td>\n",
       "    </tr>\n",
       "    <tr>\n",
       "      <td style = \"text-align: right;\">1.0</td>\n",
       "      <td style = \"text-align: right;\">3.25</td>\n",
       "      <td style = \"text-align: right;\">3.0</td>\n",
       "      <td style = \"text-align: right;\">2.90557</td>\n",
       "      <td style = \"text-align: right;\">0.968523</td>\n",
       "    </tr>\n",
       "    <tr>\n",
       "      <td style = \"text-align: right;\">1.5</td>\n",
       "      <td style = \"text-align: right;\">3.5</td>\n",
       "      <td style = \"text-align: right;\">3.0</td>\n",
       "      <td style = \"text-align: right;\">2.84912</td>\n",
       "      <td style = \"text-align: right;\">0.949707</td>\n",
       "    </tr>\n",
       "    <tr>\n",
       "      <td style = \"text-align: right;\">2.0</td>\n",
       "      <td style = \"text-align: right;\">3.75</td>\n",
       "      <td style = \"text-align: right;\">3.0</td>\n",
       "      <td style = \"text-align: right;\">2.78705</td>\n",
       "      <td style = \"text-align: right;\">0.929017</td>\n",
       "    </tr>\n",
       "    <tr>\n",
       "      <td style = \"text-align: right;\">2.5</td>\n",
       "      <td style = \"text-align: right;\">4.0</td>\n",
       "      <td style = \"text-align: right;\">3.0</td>\n",
       "      <td style = \"text-align: right;\">2.71981</td>\n",
       "      <td style = \"text-align: right;\">0.906602</td>\n",
       "    </tr>\n",
       "    <tr>\n",
       "      <td style = \"text-align: right;\">3.0</td>\n",
       "      <td style = \"text-align: right;\">4.25</td>\n",
       "      <td style = \"text-align: right;\">3.0</td>\n",
       "      <td style = \"text-align: right;\">2.64785</td>\n",
       "      <td style = \"text-align: right;\">0.882616</td>\n",
       "    </tr>\n",
       "    <tr>\n",
       "      <td style = \"text-align: right;\">3.5</td>\n",
       "      <td style = \"text-align: right;\">4.5</td>\n",
       "      <td style = \"text-align: right;\">3.0</td>\n",
       "      <td style = \"text-align: right;\">2.57166</td>\n",
       "      <td style = \"text-align: right;\">0.857221</td>\n",
       "    </tr>\n",
       "    <tr>\n",
       "      <td style = \"text-align: right;\">4.0</td>\n",
       "      <td style = \"text-align: right;\">4.75</td>\n",
       "      <td style = \"text-align: right;\">3.0</td>\n",
       "      <td style = \"text-align: right;\">2.49175</td>\n",
       "      <td style = \"text-align: right;\">0.830585</td>\n",
       "    </tr>\n",
       "    <tr>\n",
       "      <td style = \"text-align: right;\">4.5</td>\n",
       "      <td style = \"text-align: right;\">5.0</td>\n",
       "      <td style = \"text-align: right;\">3.0</td>\n",
       "      <td style = \"text-align: right;\">2.40863</td>\n",
       "      <td style = \"text-align: right;\">0.802875</td>\n",
       "    </tr>\n",
       "    <tr>\n",
       "      <td style = \"text-align: right;\">5.0</td>\n",
       "      <td style = \"text-align: right;\">5.25</td>\n",
       "      <td style = \"text-align: right;\">3.0</td>\n",
       "      <td style = \"text-align: right;\">2.32279</td>\n",
       "      <td style = \"text-align: right;\">0.774265</td>\n",
       "    </tr>\n",
       "    <tr>\n",
       "      <td style = \"text-align: right;\">5.0</td>\n",
       "      <td style = \"text-align: right;\">5.5</td>\n",
       "      <td style = \"text-align: right;\">100.0</td>\n",
       "      <td style = \"text-align: right;\">76.5134</td>\n",
       "      <td style = \"text-align: right;\">0.765134</td>\n",
       "    </tr>\n",
       "  </tbody>\n",
       "</table>\n"
      ]
     },
     "metadata": {},
     "output_type": "display_data"
    }
   ],
   "source": [
    "strips_table_data_array = Array{Any,2}(undef, number_of_zc_bonds, 5);\n",
    "strips_table_header_array = ([\"T\",\"r̄\",\"par\",\"price\",\"discount\"], [\"YR\",\"%\",\"USD\",\"USD\",\"price/par\"])\n",
    "for i ∈ 1:number_of_zc_bonds\n",
    "    zc_model = strips[i];\n",
    "    \n",
    "    strips_table_data_array[i,1] = zc_model.T\n",
    "    strips_table_data_array[i,2] = (zc_model.rate)*100\n",
    "    strips_table_data_array[i,3] = zc_model.par\n",
    "    strips_table_data_array[i,4] = zc_model.price\n",
    "    strips_table_data_array[i,5] = (zc_model.price/zc_model.par)\n",
    "end\n",
    "pretty_table(strips_table_data_array, header=strips_table_header_array, tf=tf = tf_html_default)"
   ]
  },
  {
   "cell_type": "code",
   "execution_count": 40,
   "id": "c06276ef-b075-4d43-943b-af69e457bfa6",
   "metadata": {},
   "outputs": [],
   "source": [
    "tmp = 0.0;\n",
    "for i ∈ 1:number_of_zc_bonds\n",
    "    zc_model = strips[i];\n",
    "    tmp += zc_model.price;\n",
    "end"
   ]
  },
  {
   "cell_type": "code",
   "execution_count": 41,
   "id": "9d05dc16-6fba-4804-a55b-dfab1af48f80",
   "metadata": {},
   "outputs": [
    {
     "data": {
      "text/plain": [
       "103.17365620206161"
      ]
     },
     "execution_count": 41,
     "metadata": {},
     "output_type": "execute_result"
    }
   ],
   "source": [
    "tmp"
   ]
  },
  {
   "cell_type": "code",
   "execution_count": null,
   "id": "921d90fb-d8ca-470a-bedc-9a70c6a6a927",
   "metadata": {},
   "outputs": [],
   "source": []
  }
 ],
 "metadata": {
  "kernelspec": {
   "display_name": "Julia 1.9.1",
   "language": "julia",
   "name": "julia-1.9"
  },
  "language_info": {
   "file_extension": ".jl",
   "mimetype": "application/julia",
   "name": "julia",
   "version": "1.9.1"
  }
 },
 "nbformat": 4,
 "nbformat_minor": 5
}
