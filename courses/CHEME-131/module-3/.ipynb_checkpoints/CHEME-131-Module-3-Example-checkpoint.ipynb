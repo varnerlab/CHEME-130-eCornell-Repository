{
 "cells": [
  {
   "cell_type": "markdown",
   "id": "d0093537-da9f-40fa-98e7-1e02c9e9968a",
   "metadata": {},
   "source": [
    "# Registered Interest and Principal of Securities (STRIPS) Bonds"
   ]
  },
  {
   "cell_type": "markdown",
   "id": "5960f322-7961-457b-8e66-cb231fd02506",
   "metadata": {},
   "source": [
    "## Background\n",
    "[Registered Interest and Principal of Securities (STRIPS) bonds](https://en.wikipedia.org/wiki/United_States_Treasury_security#STRIPS) are a unique type of fixed-income investment instrument that provides investors with an alternative way to access the income and coupon payments of Treasury securities. STRIPS bonds are created by separating a Treasury security’s coupon and principal components and trading them as individual zero-coupon securities. This process allows investors to purchase and trade the coupon or principal components separately, providing greater flexibility in managing their investment portfolios."
   ]
  },
  {
   "cell_type": "markdown",
   "id": "60cd632e-5c89-4ef0-acc1-f59e61303e8e",
   "metadata": {},
   "source": [
    "<div>\n",
    "    <center>\n",
    "        <img src=\"figs/Fig-STRIPS-Schematic.png\" width=\"900\"/>\n",
    "    </center>\n",
    "</div>"
   ]
  },
  {
   "cell_type": "markdown",
   "id": "ef0481b3-8f4d-41a5-8584-7feaa57d3093",
   "metadata": {},
   "source": [
    "For example, the 5-year Treasury note with annual coupon payments of $C$ USD and a face (par) value of $V_{P}$ (USD) shown above can be stripped into six separate zero-coupon securities, i.e., five zero-coupon bonds, each with face values of $C$ and maturity of $T$= 1,2,3,4 and 5 years, and a six security with face  (par) value of $V_{P}$ USD with a duration of $T$ = 5 years. In the general case, a treasury note or bond with $N=\\lambda{T}$ coupon payments, where $T$ denotes the maturity in years, and $\\lambda$ represents the number of coupon payments per year, can be stripped into $N+1$ separate zero-coupon securities.\n",
    "\n",
    "Beyond thier immediate value as investment tools, STRIPS bonds are interesting as they provide another look at the [Term Structure of Interest Rates](https://www.investopedia.com/terms/t/termstructure.asp#:~:text=Essentially%2C%20term%20structure%20of%20interest,current%20state%20of%20an%20economy), i.e., how the change in the [short rates](https://en.wikipedia.org/wiki/Short-rate_model) influences the price and yeild the bond."
   ]
  },
  {
   "cell_type": "markdown",
   "id": "cfbe4dce-c85b-4a43-a7b8-ce055f66ffc4",
   "metadata": {},
   "source": [
    "## Learning Objectives\n",
    "In this example, we will create a model for a 30-year treasury bond with semi-annual coupon payments. Then, we will strip the coupon payments and face value to produce 61 zero-coupon STRIPS bonds. We will then show the bootstrapping method, an alternative approach to estimating the short rates from the price of the STRIPS zero-coupon products.\n",
    "\n",
    "* __Objective 1__: Our first objective is to build a model for a 30-year treasury bond and strip the bond's coupon payments and face value. To make our calculations realistic, we will use coupon and market interest values from recent 30-year bond quotations. We will encounter an interesting challenge when we strip the 30-year bond, which is how to price the zero-coupon STRIP products.\n",
    "* __Objective 2__: Our second objective is to demonstrate the bootstrapping method to estimate the short rates from the STRIP zero-coupon products."
   ]
  },
  {
   "cell_type": "markdown",
   "id": "ec8a6c18-0832-490e-9f1c-4a4c004907b8",
   "metadata": {},
   "source": [
    "## Setup\n",
    "In the following code blocks, we set up the computational environment by including the `Include.jl` file. The `Include.jl` file loads external packages, functions that we will use in this exercise, and custom types to model the components of our problem."
   ]
  },
  {
   "cell_type": "code",
   "execution_count": 1,
   "id": "73bf119a-4c15-45ff-aa4d-876337ace972",
   "metadata": {},
   "outputs": [
    {
     "name": "stderr",
     "output_type": "stream",
     "text": [
      "\u001b[32m\u001b[1m  Activating\u001b[22m\u001b[39m project at `~/Desktop/julia_work/CHEME-130-eCornell-Repository/courses/CHEME-131/module-3`\n"
     ]
    }
   ],
   "source": [
    "include(\"Include.jl\");"
   ]
  },
  {
   "cell_type": "markdown",
   "id": "f8930f89-05a4-4e9b-826b-c4b715b2908f",
   "metadata": {},
   "source": [
    "## Objective 1: STRIP a 30-year treasury bond"
   ]
  },
  {
   "cell_type": "code",
   "execution_count": 2,
   "id": "f2e1858c-d14b-426d-96da-6452033e32a9",
   "metadata": {},
   "outputs": [
    {
     "name": "stdout",
     "output_type": "stream",
     "text": [
      "The 30-year bond with face value Vₚ = 1000.0 USD is priced at 963.2794794856908 USD\n"
     ]
    }
   ],
   "source": [
    "# Set parameters for the original 30-year bond\n",
    "Vₚ,T,r,c,λ = 1000.0,30.0,0.03832,0.03625,2\n",
    "\n",
    "# Build a discrete compounding model -\n",
    "discrete_compounding = DiscreteCompoundingModel();\n",
    "\n",
    "# Build a 3-year model, and compute the price using the short-hand syntax\n",
    "model = build(MyUSTreasuryCouponSecurityModel, (\n",
    "            par = Vₚ, T = T, rate = r, coupon = c, λ = λ\n",
    "        )) |> discrete_compounding;\n",
    "\n",
    "# show -\n",
    "println(\"The 30-year bond with face value Vₚ = $(Vₚ) USD is priced at $(model.price) USD\")"
   ]
  },
  {
   "cell_type": "markdown",
   "id": "4b9a06ec-0f3f-4f76-a808-eb4563e90d4f",
   "metadata": {},
   "source": [
    "### Build the zero-coupon STRIPS from the parent 30-year bond"
   ]
  },
  {
   "cell_type": "code",
   "execution_count": 3,
   "id": "df41a916-aa69-4518-81e8-7782a49f98c2",
   "metadata": {},
   "outputs": [
    {
     "data": {
      "text/plain": [
       "Dict{Int64, MyUSTreasuryZeroCouponBondModel} with 61 entries:\n",
       "  5  => MyUSTreasuryZeroCouponBondModel(18.125, nothing, 2.5, nothing, nothing)\n",
       "  56 => MyUSTreasuryZeroCouponBondModel(18.125, nothing, 28.0, nothing, nothing)\n",
       "  35 => MyUSTreasuryZeroCouponBondModel(18.125, nothing, 17.5, nothing, nothing)\n",
       "  55 => MyUSTreasuryZeroCouponBondModel(18.125, nothing, 27.5, nothing, nothing)\n",
       "  60 => MyUSTreasuryZeroCouponBondModel(18.125, nothing, 30.0, nothing, nothing)\n",
       "  30 => MyUSTreasuryZeroCouponBondModel(18.125, nothing, 15.0, nothing, nothing)\n",
       "  32 => MyUSTreasuryZeroCouponBondModel(18.125, nothing, 16.0, nothing, nothing)\n",
       "  6  => MyUSTreasuryZeroCouponBondModel(18.125, nothing, 3.0, nothing, nothing)\n",
       "  45 => MyUSTreasuryZeroCouponBondModel(18.125, nothing, 22.5, nothing, nothing)\n",
       "  4  => MyUSTreasuryZeroCouponBondModel(18.125, nothing, 2.0, nothing, nothing)\n",
       "  13 => MyUSTreasuryZeroCouponBondModel(18.125, nothing, 6.5, nothing, nothing)\n",
       "  54 => MyUSTreasuryZeroCouponBondModel(18.125, nothing, 27.0, nothing, nothing)\n",
       "  58 => MyUSTreasuryZeroCouponBondModel(18.125, nothing, 29.0, nothing, nothing)\n",
       "  52 => MyUSTreasuryZeroCouponBondModel(18.125, nothing, 26.0, nothing, nothing)\n",
       "  12 => MyUSTreasuryZeroCouponBondModel(18.125, nothing, 6.0, nothing, nothing)\n",
       "  28 => MyUSTreasuryZeroCouponBondModel(18.125, nothing, 14.0, nothing, nothing)\n",
       "  23 => MyUSTreasuryZeroCouponBondModel(18.125, nothing, 11.5, nothing, nothing)\n",
       "  41 => MyUSTreasuryZeroCouponBondModel(18.125, nothing, 20.5, nothing, nothing)\n",
       "  43 => MyUSTreasuryZeroCouponBondModel(18.125, nothing, 21.5, nothing, nothing)\n",
       "  11 => MyUSTreasuryZeroCouponBondModel(18.125, nothing, 5.5, nothing, nothing)\n",
       "  36 => MyUSTreasuryZeroCouponBondModel(18.125, nothing, 18.0, nothing, nothing)\n",
       "  39 => MyUSTreasuryZeroCouponBondModel(18.125, nothing, 19.5, nothing, nothing)\n",
       "  7  => MyUSTreasuryZeroCouponBondModel(18.125, nothing, 3.5, nothing, nothing)\n",
       "  25 => MyUSTreasuryZeroCouponBondModel(18.125, nothing, 12.5, nothing, nothing)\n",
       "  34 => MyUSTreasuryZeroCouponBondModel(18.125, nothing, 17.0, nothing, nothing)\n",
       "  ⋮  => ⋮"
      ]
     },
     "execution_count": 3,
     "metadata": {},
     "output_type": "execute_result"
    }
   ],
   "source": [
    "strips = strip(model)"
   ]
  },
  {
   "cell_type": "code",
   "execution_count": 4,
   "id": "19f7d1eb-b2e8-49f3-aba0-d612352f3e7f",
   "metadata": {},
   "outputs": [
    {
     "data": {
      "text/plain": [
       "MyUSTreasuryZeroCouponBondModel(18.125, nothing, 0.5, nothing, nothing)"
      ]
     },
     "execution_count": 4,
     "metadata": {},
     "output_type": "execute_result"
    }
   ],
   "source": [
    "strips[1]"
   ]
  },
  {
   "cell_type": "markdown",
   "id": "a3aecaf9-04fc-4608-91b6-272226dc83e4",
   "metadata": {
    "tags": []
   },
   "source": [
    "#### Challenge: How should we price the zero-coupon STRIPS?\n",
    "[STRIPS trade at a discount to their face value since holders do not receive any additional income through coupon payments](https://www.investopedia.com/terms/s/stripbond.asp#:~:text=How%20Strip%20Bonds%20Are%20Priced,present%20value%2C%20and%20vice%20versa). However, that fraction is set by the person selling the STRIPS onto the secondar treasury market. Let's consider a hypothetical pricing scheme where we charge a changing fraction of the par value:\n",
    "\n",
    "$$V_{B} = \\alpha\\cdot{V}_{P}$$\n",
    "\n",
    "where $\\alpha \\equiv (0.95)^{T}$ and $T$ denotes the maturity of the zero coupon STRIPS. Now that we have the price, par value and the duration we can compute the yeild to maturity for each zero coupon security "
   ]
  },
  {
   "cell_type": "code",
   "execution_count": 26,
   "id": "79f7e298-476b-406d-b586-a081df996217",
   "metadata": {},
   "outputs": [],
   "source": [
    "# initialize -\n",
    "number_of_zc_bonds = length(strips)\n",
    "\n",
    "# main loop -\n",
    "for i ∈ 1:number_of_zc_bonds\n",
    "    \n",
    "    # grab the bond model -\n",
    "    zc_model = strips[i];\n",
    "    T′ = zc_model.T\n",
    "    \n",
    "    # build -\n",
    "    α = 0.95^(T′)\n",
    "    \n",
    "    # set the price -\n",
    "    Vₚ = zc_model.par;\n",
    "    zc_model.price = α*Vₚ\n",
    "    \n",
    "    # do a YTM calculation -\n",
    "    yeild = YTM(zc_model, discrete_compounding)\n",
    "    \n",
    "    # update the model -\n",
    "    zc_model.rate = yeild;\n",
    "end"
   ]
  },
  {
   "cell_type": "markdown",
   "id": "ed1bb147-c0ea-4c1b-83ca-3db61af38495",
   "metadata": {},
   "source": [
    "## Objective 2: Bootstrapping method to compute the short rates using STRIPS"
   ]
  },
  {
   "cell_type": "code",
   "execution_count": null,
   "id": "3991c71a-0293-4211-ad16-771f4874e515",
   "metadata": {},
   "outputs": [],
   "source": []
  }
 ],
 "metadata": {
  "kernelspec": {
   "display_name": "Julia 1.9.0",
   "language": "julia",
   "name": "julia-1.9"
  },
  "language_info": {
   "file_extension": ".jl",
   "mimetype": "application/julia",
   "name": "julia",
   "version": "1.9.0"
  }
 },
 "nbformat": 4,
 "nbformat_minor": 5
}
