{
 "cells": [
  {
   "cell_type": "markdown",
   "id": "d0093537-da9f-40fa-98e7-1e02c9e9968a",
   "metadata": {},
   "source": [
    "# Registered Interest and Principal of Securities (STRIPS) Bonds"
   ]
  },
  {
   "cell_type": "markdown",
   "id": "5960f322-7961-457b-8e66-cb231fd02506",
   "metadata": {},
   "source": [
    "## Background\n",
    "[Registered Interest and Principal of Securities (STRIPS) bonds](https://en.wikipedia.org/wiki/United_States_Treasury_security#STRIPS) are a unique type of fixed-income investment instrument that provides investors with an alternative way to access the income and coupon payments of Treasury securities. STRIPS bonds are created by separating a Treasury security’s coupon and principal components and trading them as individual securities. This process allows investors to purchase and trade the coupon or principal components separately, providing greater flexibility in managing their investment portfolios. For example, the 5-year Treasury note with annual coupon payments of $C$ USD and a face (par) value of $V_{P}$ (USD) shown below:"
   ]
  },
  {
   "cell_type": "markdown",
   "id": "60cd632e-5c89-4ef0-acc1-f59e61303e8e",
   "metadata": {},
   "source": [
    "<div>\n",
    "    <center>\n",
    "        <img src=\"figs/Fig-STRIPS-Schematic.png\" width=\"900\"/>\n",
    "    </center>\n",
    "</div>"
   ]
  },
  {
   "cell_type": "markdown",
   "id": "ef0481b3-8f4d-41a5-8584-7feaa57d3093",
   "metadata": {},
   "source": [
    "can be stripped into six separate zero-coupon securities, i.e., five zero-coupon bonds, each with face values of $C$ and maturity of $T$= 1,2,3,4 and 5 years, and a six security with face  (par) value of $V_{P}$ USD with a duration of $T$ = 5 years. In the general case, a treasury note or bond with $N=\\lambda{T}$ coupon payments, where $T$ denotes the maturity in years, and $\\lambda$ represents the number of coupon payments per year, can be stripped into $N+1$ separate zero-coupon securities.\n",
    "\n",
    "Beyond thier immediate value as investment tools, STRIPS bonds are interesting as they provide another look at the [Term Structure of Interest Rates](https://www.investopedia.com/terms/t/termstructure.asp#:~:text=Essentially%2C%20term%20structure%20of%20interest,current%20state%20of%20an%20economy), i.e., how the change in the short rates influences the price and yeild the bond."
   ]
  },
  {
   "cell_type": "code",
   "execution_count": null,
   "id": "11756f11-3452-4b39-9d25-6d846f7c6c4a",
   "metadata": {},
   "outputs": [],
   "source": []
  }
 ],
 "metadata": {
  "kernelspec": {
   "display_name": "Julia 1.9.0",
   "language": "julia",
   "name": "julia-1.9"
  },
  "language_info": {
   "file_extension": ".jl",
   "mimetype": "application/julia",
   "name": "julia",
   "version": "1.9.0"
  }
 },
 "nbformat": 4,
 "nbformat_minor": 5
}
