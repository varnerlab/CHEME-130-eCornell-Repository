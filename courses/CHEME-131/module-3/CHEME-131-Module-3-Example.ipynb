{
 "cells": [
  {
   "cell_type": "markdown",
   "id": "d0093537-da9f-40fa-98e7-1e02c9e9968a",
   "metadata": {},
   "source": [
    "# Registered Interest and Principal of Securities (STRIPS) Bonds"
   ]
  },
  {
   "cell_type": "markdown",
   "id": "5960f322-7961-457b-8e66-cb231fd02506",
   "metadata": {},
   "source": [
    "## Background\n",
    "[Registered Interest and Principal of Securities (STRIPS) bonds](https://en.wikipedia.org/wiki/United_States_Treasury_security#STRIPS) are a unique type of fixed-income investment instrument that provides investors with an alternative way to access the income and coupon payments of Treasury securities. STRIPS bonds are created by separating a Treasury security’s coupon and principal components and trading them as individual zero-coupon securities. This process allows investors to purchase and trade the coupon or principal components separately, providing greater flexibility in managing their investment portfolios."
   ]
  },
  {
   "cell_type": "markdown",
   "id": "60cd632e-5c89-4ef0-acc1-f59e61303e8e",
   "metadata": {},
   "source": [
    "<div>\n",
    "    <center>\n",
    "        <img src=\"figs/Fig-STRIPS-Schematic.png\" width=\"900\"/>\n",
    "    </center>\n",
    "</div>"
   ]
  },
  {
   "cell_type": "markdown",
   "id": "ef0481b3-8f4d-41a5-8584-7feaa57d3093",
   "metadata": {},
   "source": [
    "For example, the 5-year Treasury note with annual coupon payments of $C$ USD and a face (par) value of $V_{P}$ (USD) shown above can be stripped into six separate zero-coupon securities, i.e., five zero-coupon bonds, each with face values of $C$ and maturity of $T$= 1,2,3,4 and 5 years, and a six security with face  (par) value of $V_{P}$ USD with a duration of $T$ = 5 years. In the general case, a treasury note or bond with $N=\\lambda{T}$ coupon payments, where $T$ denotes the maturity in years, and $\\lambda$ represents the number of coupon payments per year, can be stripped into $N+1$ separate zero-coupon securities.\n",
    "\n",
    "Beyond thier immediate value as investment tools, STRIPS bonds are interesting as they provide another look at the [Term Structure of Interest Rates](https://www.investopedia.com/terms/t/termstructure.asp#:~:text=Essentially%2C%20term%20structure%20of%20interest,current%20state%20of%20an%20economy), i.e., how the change in the [short rates](https://en.wikipedia.org/wiki/Short-rate_model) influences the price and yeild the bond."
   ]
  },
  {
   "cell_type": "markdown",
   "id": "cfbe4dce-c85b-4a43-a7b8-ce055f66ffc4",
   "metadata": {},
   "source": [
    "## Learning Objectives\n",
    "In this example, we will create a model for a 30-year treasury bond with semi-annual coupon payments. Then, we will strip the coupon payments and face value to produce 61 zero-coupon STRIPS bonds. We will then show the bootstrapping method, an alternative approach to estimating the short rates from the price of the STRIPS zero-coupon products.\n",
    "\n",
    "* __Objective 1__: Our first objective is to build a model for a 30-year treasury bond and strip the bond's coupon payments and face value. To make our calculations realistic, we will use coupon and market interest values from recent 30-year bond quotations. We will encounter an interesting challenge when we strip the 30-year bond, which is how to price the zero-coupon STRIP products.\n",
    "* __Objective 2__: Our second objective is to demonstrate the bootstrapping method to estimate the short rates from the STRIP zero-coupon products."
   ]
  },
  {
   "cell_type": "markdown",
   "id": "ec8a6c18-0832-490e-9f1c-4a4c004907b8",
   "metadata": {},
   "source": [
    "## Setup\n",
    "In the following code blocks, we set up the computational environment by including the `Include.jl` file. The `Include.jl` file loads external packages, functions that we will use in this exercise, and custom types to model the components of our problem."
   ]
  },
  {
   "cell_type": "code",
   "execution_count": 1,
   "id": "73bf119a-4c15-45ff-aa4d-876337ace972",
   "metadata": {},
   "outputs": [
    {
     "name": "stderr",
     "output_type": "stream",
     "text": [
      "\u001b[32m\u001b[1m  Activating\u001b[22m\u001b[39m project at `~/Desktop/julia_work/CHEME-130-eCornell-Repository/courses/CHEME-131/module-3`\n"
     ]
    }
   ],
   "source": [
    "include(\"Include.jl\");"
   ]
  },
  {
   "cell_type": "markdown",
   "id": "f8930f89-05a4-4e9b-826b-c4b715b2908f",
   "metadata": {},
   "source": [
    "## Objective 1: STRIP a 30-year treasury bond"
   ]
  },
  {
   "cell_type": "code",
   "execution_count": 2,
   "id": "f2e1858c-d14b-426d-96da-6452033e32a9",
   "metadata": {},
   "outputs": [
    {
     "name": "stdout",
     "output_type": "stream",
     "text": [
      "The 30-year bond with face value Vₚ = 1000.0 USD is priced at 963.2794794856908 USD\n"
     ]
    }
   ],
   "source": [
    "# Set parameters for the original 30-year bond\n",
    "Vₚ,T,r,c,λ = 1000.0,30.0,0.03832,0.03625,2\n",
    "\n",
    "# Build a discrete compounding model -\n",
    "discrete_compounding = DiscreteCompoundingModel();\n",
    "\n",
    "# Build a 3-year model, and compute the price using the short-hand syntax\n",
    "model = build(MyUSTreasuryCouponSecurityModel, (\n",
    "            par = Vₚ, T = T, rate = r, coupon = c, λ = λ\n",
    "        )) |> discrete_compounding;\n",
    "\n",
    "# show -\n",
    "println(\"The 30-year bond with face value Vₚ = $(Vₚ) USD is priced at $(model.price) USD\")"
   ]
  },
  {
   "cell_type": "markdown",
   "id": "4b9a06ec-0f3f-4f76-a808-eb4563e90d4f",
   "metadata": {},
   "source": [
    "### Build the zero coupon STRIPS from the parent 30-year bond"
   ]
  },
  {
   "cell_type": "code",
   "execution_count": 3,
   "id": "df41a916-aa69-4518-81e8-7782a49f98c2",
   "metadata": {},
   "outputs": [],
   "source": [
    "strips = strip(model);"
   ]
  },
  {
   "cell_type": "markdown",
   "id": "a3aecaf9-04fc-4608-91b6-272226dc83e4",
   "metadata": {
    "tags": []
   },
   "source": [
    "#### Challenge: How should we price the zero-coupon STRIPS?\n",
    "[STRIPS trade at a discount to their face value since holders do not receive any additional income through coupon payments](https://www.investopedia.com/terms/s/stripbond.asp#:~:text=How%20Strip%20Bonds%20Are%20Priced,present%20value%2C%20and%20vice%20versa). However, that fraction is set by the person selling the STRIPS onto the secondar treasury market. Let's consider a hypothetical pricing scheme where we charge a changing fraction of the par value:\n",
    "\n",
    "$$V_{B} = \\alpha\\cdot{V}_{P}$$\n",
    "\n",
    "where $\\alpha \\equiv (0.95)^{T}$ and $T$ denotes the maturity of the zero coupon STRIPS. Now that we have the price, par value and the duration we can compute the yeild to maturity for each zero coupon security "
   ]
  },
  {
   "cell_type": "code",
   "execution_count": 24,
   "id": "79f7e298-476b-406d-b586-a081df996217",
   "metadata": {},
   "outputs": [],
   "source": [
    "# initialize -\n",
    "number_of_zc_bonds = length(strips)\n",
    "\n",
    "# main loop -\n",
    "for i ∈ 1:number_of_zc_bonds\n",
    "    \n",
    "    # grab the bond model -\n",
    "    zc_model = strips[i];\n",
    "    T = zc_model.T\n",
    "    \n",
    "    # build -\n",
    "    α = 0.95^(T)\n",
    "    \n",
    "    # set the price -\n",
    "    Vₚ = zc_model.par;\n",
    "    zc_model.price = α*Vₚ\n",
    "    \n",
    "    # do a YTM calculation -\n",
    "    yeild = YTM(zc_model, discrete_compounding)\n",
    "    \n",
    "    # update the model -\n",
    "    zc_model.rate = yeild;\n",
    "end"
   ]
  },
  {
   "cell_type": "markdown",
   "id": "6a01d345-cb83-47f5-9de3-4f4805d4a997",
   "metadata": {},
   "source": [
    "#### Visualize the first $m$ STRIPS products"
   ]
  },
  {
   "cell_type": "code",
   "execution_count": 25,
   "id": "504db1a8-153f-4c82-bca7-4925fa13f995",
   "metadata": {},
   "outputs": [
    {
     "name": "stdout",
     "output_type": "stream",
     "text": [
      "┌───────┬──────────┬────────┬─────────┬───────────┐\n",
      "│\u001b[1m index \u001b[0m│\u001b[1m Maturity \u001b[0m│\u001b[1m   Face \u001b[0m│\u001b[1m   Price \u001b[0m│\u001b[1m     Yield \u001b[0m│\n",
      "│\u001b[90m       \u001b[0m│\u001b[90m       yr \u001b[0m│\u001b[90m    USD \u001b[0m│\u001b[90m     USD \u001b[0m│\u001b[90m         % \u001b[0m│\n",
      "├───────┼──────────┼────────┼─────────┼───────────┤\n",
      "│     1 │      0.5 │ 18.125 │ 17.6661 │ 0.0526316 │\n",
      "│     2 │      1.0 │ 18.125 │ 17.2188 │ 0.0526316 │\n",
      "│     3 │      1.5 │ 18.125 │ 16.7828 │ 0.0526316 │\n",
      "│     4 │      2.0 │ 18.125 │ 16.3578 │ 0.0526316 │\n",
      "│     5 │      2.5 │ 18.125 │ 15.9436 │ 0.0526316 │\n",
      "│     6 │      3.0 │ 18.125 │ 15.5399 │ 0.0526316 │\n",
      "│     7 │      3.5 │ 18.125 │ 15.1464 │ 0.0526316 │\n",
      "│     8 │      4.0 │ 18.125 │ 14.7629 │ 0.0526316 │\n",
      "│     9 │      4.5 │ 18.125 │ 14.3891 │ 0.0526316 │\n",
      "│    10 │      5.0 │ 18.125 │ 14.0248 │ 0.0526316 │\n",
      "└───────┴──────────┴────────┴─────────┴───────────┘\n"
     ]
    }
   ],
   "source": [
    "number_of_strips_to_view = 10\n",
    "strips_table_data_array = Array{Any,2}(undef, number_of_strips_to_view, 5);\n",
    "strips_table_header_array = ([\"index\", \"Maturity\",\"Face\",\"Price\",\"Yield\"],[\"\",\"yr\",\"USD\",\"USD\",\"%\"]);\n",
    "\n",
    "for i ∈ 1:number_of_strips_to_view\n",
    "    \n",
    "    # get the zc STRIPS model -\n",
    "    zc_model = strips[i];\n",
    "    \n",
    "    # add data to the table data array\n",
    "    strips_table_data_array[i,1] = i\n",
    "    strips_table_data_array[i,2] = zc_model.T\n",
    "    strips_table_data_array[i,3] = zc_model.par\n",
    "    strips_table_data_array[i,4] = zc_model.price\n",
    "    strips_table_data_array[i,5] = zc_model.rate    \n",
    "end\n",
    "\n",
    "# show the table -\n",
    "pretty_table(strips_table_data_array, header=strips_table_header_array)"
   ]
  },
  {
   "cell_type": "markdown",
   "id": "ed1bb147-c0ea-4c1b-83ca-3db61af38495",
   "metadata": {},
   "source": [
    "## Objective 2: Bootstrapping method to compute the short rates using STRIPS\n",
    "We can determine the _short rates_, which represent the market rate of interest between periods $j\\rightarrow{j+1}$ and are denoted by $r_{j+1,j}$, by analyzing the prices of the various STRIPS zero coupon products based on their maturity. Using a discrete discounting model, the short rates are calculated according.:\n",
    "\n",
    "$$\n",
    "\\begin{eqnarray}\n",
    "\\frac{V_{P,1}}{V_{B,1}} & = & \\left(1+r_{1,0}\\right) \\\\\n",
    "\\frac{V_{P,2}}{V_{B,2}} & = & \\left(1+r_{2,1}\\right)\\cdot\\left(1+r_{1,0}\\right) \\\\\n",
    "\\vdots & = & \\vdots \\\\\n",
    "\\frac{V_{P,N}}{V_{B,N}} & = & \\prod_{i=1}^{N}\\left(1+r_{i,i-1}\\right) \\\\\n",
    "\\end{eqnarray}\n",
    "$$\n",
    "\n",
    "where $V_{P,i}$ and $V_{B,i}$ denote the face (par) value and price of the $i^{th}$ zero-coupon bond (both of which are known). Thus, we can solve for $r_{1,0}$, then insert that into the following expression to solve for $r_{2,1}$, and so on. Systematically, we can solve for the log-transformed short rates as a system of linear algebraic equations (LAEs) of the from:\n",
    "\n",
    "$$\n",
    "\\mathbf{A}\\mathbf{x} = \\mathbf{b}\n",
    "$$\n",
    "\n",
    "where $x_{i} = \\log\\left(1+r_{i,i-1}\\right)$, $b_{i} = \\log\\left(V_{P,i}/V_{B,i}\\right)$ and $\\mathbf{A}$ is a lower-triangular matrix of `1`'s."
   ]
  },
  {
   "cell_type": "code",
   "execution_count": 28,
   "id": "7ff4255b-1427-4253-acd3-b10e031dca73",
   "metadata": {},
   "outputs": [],
   "source": [
    "# initialize -\n",
    "short_rate_array = Array{Float64,1}(undef, number_of_strips_to_view);\n",
    "b = Array{Float64,1}(undef, number_of_strips_to_view)\n",
    "A = Array{Float64,2}(undef, number_of_strips_to_view,number_of_strips_to_view);\n",
    "\n",
    "# fill the A with zeros -\n",
    "fill!(A,0.0);\n",
    "\n",
    "# populate b -\n",
    "for i ∈ 1:number_of_strips_to_view\n",
    "    \n",
    "    # grab the model, and get some data -\n",
    "    zc_model = strips[i];\n",
    "    r̄ = zc_model.rate\n",
    "    T = zc_model.T\n",
    "    Vₚ = zc_model.par\n",
    "    Vᵦ = zc_model.price\n",
    "     \n",
    "    # compute, add to b -\n",
    "    b[i] = log10(Vₚ/Vᵦ);\n",
    "end\n",
    "\n",
    "# build A -\n",
    "for i ∈ 1:number_of_strips_to_view\n",
    "    for j ∈ 1:number_of_strips_to_view\n",
    "        if (i ≥ j)\n",
    "            A[i,j] = 1.0\n",
    "        end\n",
    "    end\n",
    "end\n",
    "\n",
    "# invert A -\n",
    "x̂ = inv(A)*b;\n",
    "\n",
    "# compute the short rates -\n",
    "for i ∈ 1:number_of_strips_to_view\n",
    "    short_rate_array[i] = 10^(x̂[i]) - 1\n",
    "end"
   ]
  },
  {
   "cell_type": "markdown",
   "id": "0fbcd187-6e1b-4fde-bdad-2e09ee514d04",
   "metadata": {},
   "source": [
    "### Check: Short rates verified using effective market rate of interest $\\bar{r}$"
   ]
  },
  {
   "cell_type": "code",
   "execution_count": null,
   "id": "8a90f308-aea6-4f51-bced-bdbf7c84305c",
   "metadata": {},
   "outputs": [],
   "source": []
  }
 ],
 "metadata": {
  "kernelspec": {
   "display_name": "Julia 1.9.0",
   "language": "julia",
   "name": "julia-1.9"
  },
  "language_info": {
   "file_extension": ".jl",
   "mimetype": "application/julia",
   "name": "julia",
   "version": "1.9.0"
  }
 },
 "nbformat": 4,
 "nbformat_minor": 5
}
