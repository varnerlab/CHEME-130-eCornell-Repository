{
 "cells": [
  {
   "cell_type": "markdown",
   "id": "d0093537-da9f-40fa-98e7-1e02c9e9968a",
   "metadata": {},
   "source": [
    "# Registered Interest and Principal of Securities (STRIPS) Bonds"
   ]
  },
  {
   "cell_type": "markdown",
   "id": "5960f322-7961-457b-8e66-cb231fd02506",
   "metadata": {},
   "source": [
    "## Background\n",
    "[Registered Interest and Principal of Securities (STRIPS) bonds](https://en.wikipedia.org/wiki/United_States_Treasury_security#STRIPS) are a unique type of fixed-income investment instrument that provides investors with an alternative way to access the income and coupon payments of Treasury securities. STRIPS bonds are created by separating a Treasury security’s coupon and principal components and trading them as individual securities. This process allows investors to purchase and trade the coupon or principal components separately, providing greater flexibility in managing their investment portfolios. For example, the 5-year Treasury note with annual coupon payments of $C$ USD and a face (par) value of $V_{P}$ (USD) shown below:"
   ]
  },
  {
   "cell_type": "markdown",
   "id": "60cd632e-5c89-4ef0-acc1-f59e61303e8e",
   "metadata": {},
   "source": [
    "<div>\n",
    "    <center>\n",
    "        <img src=\"figs/Fig-STRIPS-Schematic.png\" width=\"900\"/>\n",
    "    </center>\n",
    "</div>"
   ]
  },
  {
   "cell_type": "markdown",
   "id": "ef0481b3-8f4d-41a5-8584-7feaa57d3093",
   "metadata": {},
   "source": [
    "can be stripped into six separate zero-coupon securities, i.e., five zero-coupon bonds, each with face values of $C$ and maturity of $T$= 1,2,3,4 and 5 years, and a six security with face  (par) value of $V_{P}$ USD with a duration of $T$ = 5 years. In the general case, a treasury note or bond with $N=\\lambda{T}$ coupon payments, where $T$ denotes the maturity in years, and $\\lambda$ represents the number of coupon payments per year, can be stripped into $N+1$ separate zero-coupon securities.\n",
    "\n",
    "Beyond thier immediate value as investment tools, STRIPS bonds are interesting as they provide another look at the [Term Structure of Interest Rates](https://www.investopedia.com/terms/t/termstructure.asp#:~:text=Essentially%2C%20term%20structure%20of%20interest,current%20state%20of%20an%20economy), i.e., how the change in the [short rates](https://en.wikipedia.org/wiki/Short-rate_model) influences the price and yeild the bond."
   ]
  },
  {
   "cell_type": "markdown",
   "id": "cfbe4dce-c85b-4a43-a7b8-ce055f66ffc4",
   "metadata": {},
   "source": [
    "## Objectives\n",
    "In this example, let's build of model of a 30-year treasury bond with semi-annual coupon payments and then strip the coupon payments and face value to produce $N+1$ or 61 zero-coupon STRIPS bonds.\n",
    "\n",
    "### Tasks and Strategies\n",
    "1. Construct a 30-year treasury bond model, and strip the coupon payments and face value from the bond. To make the calculations somewhat realistic, we'll use coupon and market interest values from recent 30-year bonds.\n",
    "1. Do something with binomial model to look at pricing"
   ]
  },
  {
   "cell_type": "markdown",
   "id": "ec8a6c18-0832-490e-9f1c-4a4c004907b8",
   "metadata": {},
   "source": [
    "## Setup\n",
    "In the following code blocks, we set up the computational environment by including the `Include.jl` file. The `Include.jl` file loads external packages, functions that we will use in this exercise, and custom types to model the components of our problem."
   ]
  },
  {
   "cell_type": "code",
   "execution_count": null,
   "id": "4253f9e4-5c46-4a69-8eaa-96c36bd0f086",
   "metadata": {},
   "outputs": [],
   "source": []
  }
 ],
 "metadata": {
  "kernelspec": {
   "display_name": "Julia 1.9.0",
   "language": "julia",
   "name": "julia-1.9"
  },
  "language_info": {
   "file_extension": ".jl",
   "mimetype": "application/julia",
   "name": "julia",
   "version": "1.9.0"
  }
 },
 "nbformat": 4,
 "nbformat_minor": 5
}
