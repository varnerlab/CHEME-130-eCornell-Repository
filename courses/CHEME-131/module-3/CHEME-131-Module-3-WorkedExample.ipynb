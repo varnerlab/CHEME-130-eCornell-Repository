{
 "cells": [
  {
   "cell_type": "markdown",
   "id": "e33f878e-907d-49bc-8645-e43b49f389b1",
   "metadata": {},
   "source": [
    "# Example: Registered Interest and Principal of Securities (STRIPS) Bonds\n",
    "This example will familiarize students with the ideas behind [Registered Interest and Principal of Securities (STRIPS)](https://www.treasurydirect.gov/marketable-securities/strips/) bonds. In particular, we will create a model for a random treasury note or bond with semi-annual coupon payments. Then, we will strip the coupon payments and face value to produce a collection of zero-coupon STRIPS bonds.\n",
    "\n",
    "## Learning objectives\n",
    "* __Prerequisite__: Load the Treasury auction dataset, which contains data from recent auctions or treasury bills, notes, and bonds\n",
    "* __Objective 1__: Build a model for a treasury bond and strip the bond's coupon payments and face value.\n",
    "    * `Check`: Are the calculated and observed auction prices `similar`?\n",
    "    * `TODO`: Strip the note or bond model to create a collection of zero-coupon payments\n",
    "        * `Check`: Do we have the correct number of stripped products?\n",
    "* __Objective 2__: Explore pricing schemes for the stipped zero-coupon marketable securities created from the parent instrument\n",
    "    * `TODO`: Choose a pricing scheme and compute the effective yield for the zero-coupon instrument"
   ]
  },
  {
   "cell_type": "markdown",
   "id": "f6d1aa99-5f81-4dc9-85f3-70d5e8757eec",
   "metadata": {},
   "source": [
    "## Setup\n",
    "We set up the computational environment by including the `Include.jl` file. The `Include.jl` file loads external packages, various functions we will use in the exercise, and custom types to model the components of our example problem.\n",
    "* See the [Julia programming language documentation](https://docs.julialang.org/en/v1/) and the [VLQuantitativeFinancePackage.jl documentation](https://github.com/varnerlab/VLQuantitativeFinancePackage.jl) for additional information on functions and types used in this material. "
   ]
  },
  {
   "cell_type": "code",
   "execution_count": 1,
   "id": "9f4ad480-7365-490c-bd5e-e33ce80c5568",
   "metadata": {},
   "outputs": [
    {
     "name": "stderr",
     "output_type": "stream",
     "text": [
      "\u001b[32m\u001b[1m    Updating\u001b[22m\u001b[39m git-repo `https://github.com/varnerlab/VLQuantitativeFinancePackage.jl.git`\n",
      "\u001b[32m\u001b[1m   Resolving\u001b[22m\u001b[39m package versions...\n",
      "\u001b[32m\u001b[1m  No Changes\u001b[22m\u001b[39m to `~/Desktop/julia_work/CHEME-130-eCornell-Repository/courses/CHEME-131/module-3/Project.toml`\n",
      "\u001b[32m\u001b[1m  No Changes\u001b[22m\u001b[39m to `~/Desktop/julia_work/CHEME-130-eCornell-Repository/courses/CHEME-131/module-3/Manifest.toml`\n",
      "\u001b[32m\u001b[1m  Activating\u001b[22m\u001b[39m project at `~/Desktop/julia_work/CHEME-130-eCornell-Repository/courses/CHEME-131/module-3`\n",
      "\u001b[32m\u001b[1m  No Changes\u001b[22m\u001b[39m to `~/Desktop/julia_work/CHEME-130-eCornell-Repository/courses/CHEME-131/module-3/Project.toml`\n",
      "\u001b[32m\u001b[1m  No Changes\u001b[22m\u001b[39m to `~/Desktop/julia_work/CHEME-130-eCornell-Repository/courses/CHEME-131/module-3/Manifest.toml`\n",
      "\u001b[32m\u001b[1m    Updating\u001b[22m\u001b[39m registry at `~/.julia/registries/General.toml`\n",
      "\u001b[32m\u001b[1m    Updating\u001b[22m\u001b[39m git-repo `https://github.com/varnerlab/VLQuantitativeFinancePackage.jl.git`\n",
      "\u001b[32m\u001b[1m  No Changes\u001b[22m\u001b[39m to `~/Desktop/julia_work/CHEME-130-eCornell-Repository/courses/CHEME-131/module-3/Project.toml`\n",
      "\u001b[32m\u001b[1m  No Changes\u001b[22m\u001b[39m to `~/Desktop/julia_work/CHEME-130-eCornell-Repository/courses/CHEME-131/module-3/Manifest.toml`\n"
     ]
    }
   ],
   "source": [
    "include(\"Include.jl\");"
   ]
  },
  {
   "cell_type": "markdown",
   "id": "f86fbf88-caf5-4550-a561-b9e53c97467f",
   "metadata": {},
   "source": [
    "## Prerequisite: Load the Treasury auction dataset\n",
    "We'll explore `T-note` and `T-bond` prices from United States Treasury auctions between October 2022 and August 2023 downloaded as a `CSV` file using the [Auction query functionality of TreasuryDirect.gov](https://www.treasurydirect.gov/auctions/auction-query/). \n",
    "* We load the `CSV` dataset using the `MyTreasuryNotesAndBondsDataSet()` function, which returns the auction data as a `DataFrame`. We store the auction data in the `dataset`"
   ]
  },
  {
   "cell_type": "code",
   "execution_count": 2,
   "id": "16af494a-90a8-4870-adb5-3916caecf60a",
   "metadata": {},
   "outputs": [
    {
     "data": {
      "text/html": [
       "<div><div style = \"float: left;\"><span>59×9 DataFrame</span></div><div style = \"float: right;\"><span style = \"font-style: italic;\">34 rows omitted</span></div><div style = \"clear: both;\"></div></div><div class = \"data-frame\" style = \"overflow-x: scroll;\"><table class = \"data-frame\" style = \"margin-bottom: 6px;\"><thead><tr class = \"header\"><th class = \"rowNumber\" style = \"font-weight: bold; text-align: right;\">Row</th><th style = \"text-align: left;\">CUSIP</th><th style = \"text-align: left;\">Security Type</th><th style = \"text-align: left;\">Security Term</th><th style = \"text-align: left;\">Auction Date</th><th style = \"text-align: left;\">Issue Date</th><th style = \"text-align: left;\">Maturity Date</th><th style = \"text-align: left;\">Price</th><th style = \"text-align: left;\">High Yield</th><th style = \"text-align: left;\">Interest Rate</th></tr><tr class = \"subheader headerLastRow\"><th class = \"rowNumber\" style = \"font-weight: bold; text-align: right;\"></th><th title = \"String15\" style = \"text-align: left;\">String15</th><th title = \"String7\" style = \"text-align: left;\">String7</th><th title = \"String7\" style = \"text-align: left;\">String7</th><th title = \"String15\" style = \"text-align: left;\">String15</th><th title = \"String15\" style = \"text-align: left;\">String15</th><th title = \"String15\" style = \"text-align: left;\">String15</th><th title = \"Float64\" style = \"text-align: left;\">Float64</th><th title = \"Float64\" style = \"text-align: left;\">Float64</th><th title = \"Float64\" style = \"text-align: left;\">Float64</th></tr></thead><tbody><tr><td class = \"rowNumber\" style = \"font-weight: bold; text-align: right;\">1</td><td style = \"text-align: left;\">91282CHW4</td><td style = \"text-align: left;\">Note</td><td style = \"text-align: left;\">7-Year</td><td style = \"text-align: left;\">08/29/2023</td><td style = \"text-align: left;\">08/31/2023</td><td style = \"text-align: left;\">08/31/2030</td><td style = \"text-align: right;\">99.4773</td><td style = \"text-align: right;\">0.04212</td><td style = \"text-align: right;\">0.04125</td></tr><tr><td class = \"rowNumber\" style = \"font-weight: bold; text-align: right;\">2</td><td style = \"text-align: left;\">91282CHV6</td><td style = \"text-align: left;\">Note</td><td style = \"text-align: left;\">2-Year</td><td style = \"text-align: left;\">08/28/2023</td><td style = \"text-align: left;\">08/31/2023</td><td style = \"text-align: left;\">08/31/2025</td><td style = \"text-align: right;\">99.9549</td><td style = \"text-align: right;\">0.05024</td><td style = \"text-align: right;\">0.05</td></tr><tr><td class = \"rowNumber\" style = \"font-weight: bold; text-align: right;\">3</td><td style = \"text-align: left;\">91282CHX2</td><td style = \"text-align: left;\">Note</td><td style = \"text-align: left;\">5-Year</td><td style = \"text-align: left;\">08/28/2023</td><td style = \"text-align: left;\">08/31/2023</td><td style = \"text-align: left;\">08/31/2028</td><td style = \"text-align: right;\">99.8889</td><td style = \"text-align: right;\">0.044</td><td style = \"text-align: right;\">0.04375</td></tr><tr><td class = \"rowNumber\" style = \"font-weight: bold; text-align: right;\">4</td><td style = \"text-align: left;\">912810TU2</td><td style = \"text-align: left;\">Bond</td><td style = \"text-align: left;\">20-Year</td><td style = \"text-align: left;\">08/23/2023</td><td style = \"text-align: left;\">08/31/2023</td><td style = \"text-align: left;\">08/15/2043</td><td style = \"text-align: right;\">98.3742</td><td style = \"text-align: right;\">0.04499</td><td style = \"text-align: right;\">0.04375</td></tr><tr><td class = \"rowNumber\" style = \"font-weight: bold; text-align: right;\">5</td><td style = \"text-align: left;\">912810TT5</td><td style = \"text-align: left;\">Bond</td><td style = \"text-align: left;\">30-Year</td><td style = \"text-align: left;\">08/10/2023</td><td style = \"text-align: left;\">08/15/2023</td><td style = \"text-align: left;\">08/15/2053</td><td style = \"text-align: right;\">98.9127</td><td style = \"text-align: right;\">0.04189</td><td style = \"text-align: right;\">0.04125</td></tr><tr><td class = \"rowNumber\" style = \"font-weight: bold; text-align: right;\">6</td><td style = \"text-align: left;\">91282CHT1</td><td style = \"text-align: left;\">Note</td><td style = \"text-align: left;\">10-Year</td><td style = \"text-align: left;\">08/09/2023</td><td style = \"text-align: left;\">08/15/2023</td><td style = \"text-align: left;\">08/15/2033</td><td style = \"text-align: right;\">98.9862</td><td style = \"text-align: right;\">0.03999</td><td style = \"text-align: right;\">0.03875</td></tr><tr><td class = \"rowNumber\" style = \"font-weight: bold; text-align: right;\">7</td><td style = \"text-align: left;\">91282CHU8</td><td style = \"text-align: left;\">Note</td><td style = \"text-align: left;\">3-Year</td><td style = \"text-align: left;\">08/08/2023</td><td style = \"text-align: left;\">08/15/2023</td><td style = \"text-align: left;\">08/15/2026</td><td style = \"text-align: right;\">99.936</td><td style = \"text-align: right;\">0.04398</td><td style = \"text-align: right;\">0.04375</td></tr><tr><td class = \"rowNumber\" style = \"font-weight: bold; text-align: right;\">8</td><td style = \"text-align: left;\">91282CHR5</td><td style = \"text-align: left;\">Note</td><td style = \"text-align: left;\">7-Year</td><td style = \"text-align: left;\">07/27/2023</td><td style = \"text-align: left;\">07/31/2023</td><td style = \"text-align: left;\">07/31/2030</td><td style = \"text-align: right;\">99.475</td><td style = \"text-align: right;\">0.04087</td><td style = \"text-align: right;\">0.04</td></tr><tr><td class = \"rowNumber\" style = \"font-weight: bold; text-align: right;\">9</td><td style = \"text-align: left;\">91282CHQ7</td><td style = \"text-align: left;\">Note</td><td style = \"text-align: left;\">5-Year</td><td style = \"text-align: left;\">07/25/2023</td><td style = \"text-align: left;\">07/31/2023</td><td style = \"text-align: left;\">07/31/2028</td><td style = \"text-align: right;\">99.7988</td><td style = \"text-align: right;\">0.0417</td><td style = \"text-align: right;\">0.04125</td></tr><tr><td class = \"rowNumber\" style = \"font-weight: bold; text-align: right;\">10</td><td style = \"text-align: left;\">91282CHN4</td><td style = \"text-align: left;\">Note</td><td style = \"text-align: left;\">2-Year</td><td style = \"text-align: left;\">07/24/2023</td><td style = \"text-align: left;\">07/31/2023</td><td style = \"text-align: left;\">07/31/2025</td><td style = \"text-align: right;\">99.8624</td><td style = \"text-align: right;\">0.04823</td><td style = \"text-align: right;\">0.0475</td></tr><tr><td class = \"rowNumber\" style = \"font-weight: bold; text-align: right;\">11</td><td style = \"text-align: left;\">91282CHP9</td><td style = \"text-align: left;\">Note</td><td style = \"text-align: left;\">10-Year</td><td style = \"text-align: left;\">07/20/2023</td><td style = \"text-align: left;\">07/31/2023</td><td style = \"text-align: left;\">07/15/2033</td><td style = \"text-align: right;\">99.0219</td><td style = \"text-align: right;\">0.01495</td><td style = \"text-align: right;\">0.01375</td></tr><tr><td class = \"rowNumber\" style = \"font-weight: bold; text-align: right;\">12</td><td style = \"text-align: left;\">91282CHM6</td><td style = \"text-align: left;\">Note</td><td style = \"text-align: left;\">3-Year</td><td style = \"text-align: left;\">07/11/2023</td><td style = \"text-align: left;\">07/17/2023</td><td style = \"text-align: left;\">07/15/2026</td><td style = \"text-align: right;\">99.9052</td><td style = \"text-align: right;\">0.04534</td><td style = \"text-align: right;\">0.045</td></tr><tr><td class = \"rowNumber\" style = \"font-weight: bold; text-align: right;\">13</td><td style = \"text-align: left;\">91282CHJ3</td><td style = \"text-align: left;\">Note</td><td style = \"text-align: left;\">7-Year</td><td style = \"text-align: left;\">06/28/2023</td><td style = \"text-align: left;\">06/30/2023</td><td style = \"text-align: left;\">06/30/2030</td><td style = \"text-align: right;\">99.4582</td><td style = \"text-align: right;\">0.03839</td><td style = \"text-align: right;\">0.0375</td></tr><tr><td style = \"text-align: right;\">&vellip;</td><td style = \"text-align: right;\">&vellip;</td><td style = \"text-align: right;\">&vellip;</td><td style = \"text-align: right;\">&vellip;</td><td style = \"text-align: right;\">&vellip;</td><td style = \"text-align: right;\">&vellip;</td><td style = \"text-align: right;\">&vellip;</td><td style = \"text-align: right;\">&vellip;</td><td style = \"text-align: right;\">&vellip;</td><td style = \"text-align: right;\">&vellip;</td></tr><tr><td class = \"rowNumber\" style = \"font-weight: bold; text-align: right;\">48</td><td style = \"text-align: left;\">91282CFY2</td><td style = \"text-align: left;\">Note</td><td style = \"text-align: left;\">7-Year</td><td style = \"text-align: left;\">11/22/2022</td><td style = \"text-align: left;\">11/30/2022</td><td style = \"text-align: left;\">11/30/2029</td><td style = \"text-align: right;\">99.9089</td><td style = \"text-align: right;\">0.0389</td><td style = \"text-align: right;\">0.03875</td></tr><tr><td class = \"rowNumber\" style = \"font-weight: bold; text-align: right;\">49</td><td style = \"text-align: left;\">91282CFX4</td><td style = \"text-align: left;\">Note</td><td style = \"text-align: left;\">2-Year</td><td style = \"text-align: left;\">11/21/2022</td><td style = \"text-align: left;\">11/30/2022</td><td style = \"text-align: left;\">11/30/2024</td><td style = \"text-align: right;\">99.9905</td><td style = \"text-align: right;\">0.04505</td><td style = \"text-align: right;\">0.045</td></tr><tr><td class = \"rowNumber\" style = \"font-weight: bold; text-align: right;\">50</td><td style = \"text-align: left;\">91282CFZ9</td><td style = \"text-align: left;\">Note</td><td style = \"text-align: left;\">5-Year</td><td style = \"text-align: left;\">11/21/2022</td><td style = \"text-align: left;\">11/30/2022</td><td style = \"text-align: left;\">11/30/2027</td><td style = \"text-align: right;\">99.5551</td><td style = \"text-align: right;\">0.03974</td><td style = \"text-align: right;\">0.03875</td></tr><tr><td class = \"rowNumber\" style = \"font-weight: bold; text-align: right;\">51</td><td style = \"text-align: left;\">912810TM0</td><td style = \"text-align: left;\">Bond</td><td style = \"text-align: left;\">20-Year</td><td style = \"text-align: left;\">11/16/2022</td><td style = \"text-align: left;\">11/30/2022</td><td style = \"text-align: left;\">11/15/2042</td><td style = \"text-align: right;\">99.0197</td><td style = \"text-align: right;\">0.04072</td><td style = \"text-align: right;\">0.04</td></tr><tr><td class = \"rowNumber\" style = \"font-weight: bold; text-align: right;\">52</td><td style = \"text-align: left;\">912810TL2</td><td style = \"text-align: left;\">Bond</td><td style = \"text-align: left;\">30-Year</td><td style = \"text-align: left;\">11/10/2022</td><td style = \"text-align: left;\">11/15/2022</td><td style = \"text-align: left;\">11/15/2052</td><td style = \"text-align: right;\">98.6229</td><td style = \"text-align: right;\">0.0408</td><td style = \"text-align: right;\">0.04</td></tr><tr><td class = \"rowNumber\" style = \"font-weight: bold; text-align: right;\">53</td><td style = \"text-align: left;\">91282CFV8</td><td style = \"text-align: left;\">Note</td><td style = \"text-align: left;\">10-Year</td><td style = \"text-align: left;\">11/09/2022</td><td style = \"text-align: left;\">11/15/2022</td><td style = \"text-align: left;\">11/15/2032</td><td style = \"text-align: right;\">99.8782</td><td style = \"text-align: right;\">0.0414</td><td style = \"text-align: right;\">0.04125</td></tr><tr><td class = \"rowNumber\" style = \"font-weight: bold; text-align: right;\">54</td><td style = \"text-align: left;\">91282CFW6</td><td style = \"text-align: left;\">Note</td><td style = \"text-align: left;\">3-Year</td><td style = \"text-align: left;\">11/08/2022</td><td style = \"text-align: left;\">11/15/2022</td><td style = \"text-align: left;\">11/15/2025</td><td style = \"text-align: right;\">99.7089</td><td style = \"text-align: right;\">0.04605</td><td style = \"text-align: right;\">0.045</td></tr><tr><td class = \"rowNumber\" style = \"font-weight: bold; text-align: right;\">55</td><td style = \"text-align: left;\">91282CFT3</td><td style = \"text-align: left;\">Note</td><td style = \"text-align: left;\">7-Year</td><td style = \"text-align: left;\">10/27/2022</td><td style = \"text-align: left;\">10/31/2022</td><td style = \"text-align: left;\">10/31/2029</td><td style = \"text-align: right;\">99.8367</td><td style = \"text-align: right;\">0.04027</td><td style = \"text-align: right;\">0.04</td></tr><tr><td class = \"rowNumber\" style = \"font-weight: bold; text-align: right;\">56</td><td style = \"text-align: left;\">91282CFU0</td><td style = \"text-align: left;\">Note</td><td style = \"text-align: left;\">5-Year</td><td style = \"text-align: left;\">10/26/2022</td><td style = \"text-align: left;\">10/31/2022</td><td style = \"text-align: left;\">10/31/2027</td><td style = \"text-align: right;\">99.7006</td><td style = \"text-align: right;\">0.04192</td><td style = \"text-align: right;\">0.04125</td></tr><tr><td class = \"rowNumber\" style = \"font-weight: bold; text-align: right;\">57</td><td style = \"text-align: left;\">91282CFQ9</td><td style = \"text-align: left;\">Note</td><td style = \"text-align: left;\">2-Year</td><td style = \"text-align: left;\">10/25/2022</td><td style = \"text-align: left;\">10/31/2022</td><td style = \"text-align: left;\">10/31/2024</td><td style = \"text-align: right;\">99.8391</td><td style = \"text-align: right;\">0.0446</td><td style = \"text-align: right;\">0.04375</td></tr><tr><td class = \"rowNumber\" style = \"font-weight: bold; text-align: right;\">58</td><td style = \"text-align: left;\">91282CFR7</td><td style = \"text-align: left;\">Note</td><td style = \"text-align: left;\">5-Year</td><td style = \"text-align: left;\">10/20/2022</td><td style = \"text-align: left;\">10/31/2022</td><td style = \"text-align: left;\">10/15/2027</td><td style = \"text-align: right;\">99.4754</td><td style = \"text-align: right;\">0.01732</td><td style = \"text-align: right;\">0.01625</td></tr><tr><td class = \"rowNumber\" style = \"font-weight: bold; text-align: right;\">59</td><td style = \"text-align: left;\">91282CFP1</td><td style = \"text-align: left;\">Note</td><td style = \"text-align: left;\">3-Year</td><td style = \"text-align: left;\">10/11/2022</td><td style = \"text-align: left;\">10/17/2022</td><td style = \"text-align: left;\">10/15/2025</td><td style = \"text-align: right;\">99.8104</td><td style = \"text-align: right;\">0.04318</td><td style = \"text-align: right;\">0.0425</td></tr></tbody></table></div>"
      ],
      "text/latex": [
       "\\begin{tabular}{r|ccccccc}\n",
       "\t& CUSIP & Security Type & Security Term & Auction Date & Issue Date & Maturity Date & \\\\\n",
       "\t\\hline\n",
       "\t& String15 & String7 & String7 & String15 & String15 & String15 & \\\\\n",
       "\t\\hline\n",
       "\t1 & 91282CHW4 & Note & 7-Year & 08/29/2023 & 08/31/2023 & 08/31/2030 & $\\dots$ \\\\\n",
       "\t2 & 91282CHV6 & Note & 2-Year & 08/28/2023 & 08/31/2023 & 08/31/2025 & $\\dots$ \\\\\n",
       "\t3 & 91282CHX2 & Note & 5-Year & 08/28/2023 & 08/31/2023 & 08/31/2028 & $\\dots$ \\\\\n",
       "\t4 & 912810TU2 & Bond & 20-Year & 08/23/2023 & 08/31/2023 & 08/15/2043 & $\\dots$ \\\\\n",
       "\t5 & 912810TT5 & Bond & 30-Year & 08/10/2023 & 08/15/2023 & 08/15/2053 & $\\dots$ \\\\\n",
       "\t6 & 91282CHT1 & Note & 10-Year & 08/09/2023 & 08/15/2023 & 08/15/2033 & $\\dots$ \\\\\n",
       "\t7 & 91282CHU8 & Note & 3-Year & 08/08/2023 & 08/15/2023 & 08/15/2026 & $\\dots$ \\\\\n",
       "\t8 & 91282CHR5 & Note & 7-Year & 07/27/2023 & 07/31/2023 & 07/31/2030 & $\\dots$ \\\\\n",
       "\t9 & 91282CHQ7 & Note & 5-Year & 07/25/2023 & 07/31/2023 & 07/31/2028 & $\\dots$ \\\\\n",
       "\t10 & 91282CHN4 & Note & 2-Year & 07/24/2023 & 07/31/2023 & 07/31/2025 & $\\dots$ \\\\\n",
       "\t11 & 91282CHP9 & Note & 10-Year & 07/20/2023 & 07/31/2023 & 07/15/2033 & $\\dots$ \\\\\n",
       "\t12 & 91282CHM6 & Note & 3-Year & 07/11/2023 & 07/17/2023 & 07/15/2026 & $\\dots$ \\\\\n",
       "\t13 & 91282CHJ3 & Note & 7-Year & 06/28/2023 & 06/30/2023 & 06/30/2030 & $\\dots$ \\\\\n",
       "\t14 & 91282CHK0 & Note & 5-Year & 06/27/2023 & 06/30/2023 & 06/30/2028 & $\\dots$ \\\\\n",
       "\t15 & 91282CHL8 & Note & 2-Year & 06/26/2023 & 06/30/2023 & 06/30/2025 & $\\dots$ \\\\\n",
       "\t16 & 91282CHH7 & Note & 3-Year & 06/12/2023 & 06/15/2023 & 06/15/2026 & $\\dots$ \\\\\n",
       "\t17 & 91282CHF1 & Note & 7-Year & 05/25/2023 & 05/31/2023 & 05/31/2030 & $\\dots$ \\\\\n",
       "\t18 & 91282CHE4 & Note & 5-Year & 05/24/2023 & 05/31/2023 & 05/31/2028 & $\\dots$ \\\\\n",
       "\t19 & 91282CHD6 & Note & 2-Year & 05/23/2023 & 05/31/2023 & 05/31/2025 & $\\dots$ \\\\\n",
       "\t20 & 912810TS7 & Bond & 20-Year & 05/17/2023 & 05/31/2023 & 05/15/2043 & $\\dots$ \\\\\n",
       "\t21 & 912810TR9 & Bond & 30-Year & 05/11/2023 & 05/15/2023 & 05/15/2053 & $\\dots$ \\\\\n",
       "\t22 & 91282CHC8 & Note & 10-Year & 05/10/2023 & 05/15/2023 & 05/15/2033 & $\\dots$ \\\\\n",
       "\t23 & 91282CHB0 & Note & 3-Year & 05/09/2023 & 05/15/2023 & 05/15/2026 & $\\dots$ \\\\\n",
       "\t24 & 91282CGZ8 & Note & 7-Year & 04/27/2023 & 05/01/2023 & 04/30/2030 & $\\dots$ \\\\\n",
       "\t25 & 91282CHA2 & Note & 5-Year & 04/26/2023 & 05/01/2023 & 04/30/2028 & $\\dots$ \\\\\n",
       "\t26 & 91282CGX3 & Note & 2-Year & 04/25/2023 & 05/01/2023 & 04/30/2025 & $\\dots$ \\\\\n",
       "\t27 & 91282CGV7 & Note & 3-Year & 04/11/2023 & 04/17/2023 & 04/15/2026 & $\\dots$ \\\\\n",
       "\t28 & 91282CGS4 & Note & 7-Year & 03/29/2023 & 03/31/2023 & 03/31/2030 & $\\dots$ \\\\\n",
       "\t29 & 91282CGT2 & Note & 5-Year & 03/28/2023 & 03/31/2023 & 03/31/2028 & $\\dots$ \\\\\n",
       "\t30 & 91282CGU9 & Note & 2-Year & 03/27/2023 & 03/31/2023 & 03/31/2025 & $\\dots$ \\\\\n",
       "\t$\\dots$ & $\\dots$ & $\\dots$ & $\\dots$ & $\\dots$ & $\\dots$ & $\\dots$ &  \\\\\n",
       "\\end{tabular}\n"
      ],
      "text/plain": [
       "\u001b[1m59×9 DataFrame\u001b[0m\n",
       "\u001b[1m Row \u001b[0m│\u001b[1m CUSIP     \u001b[0m\u001b[1m Security Type \u001b[0m\u001b[1m Security Term \u001b[0m\u001b[1m Auction Date \u001b[0m\u001b[1m Issue Date \u001b[0m\u001b[1m Matu\u001b[0m ⋯\n",
       "     │\u001b[90m String15  \u001b[0m\u001b[90m String7       \u001b[0m\u001b[90m String7       \u001b[0m\u001b[90m String15     \u001b[0m\u001b[90m String15   \u001b[0m\u001b[90m Stri\u001b[0m ⋯\n",
       "─────┼──────────────────────────────────────────────────────────────────────────\n",
       "   1 │ 91282CHW4  Note           7-Year         08/29/2023    08/31/2023  08/3 ⋯\n",
       "   2 │ 91282CHV6  Note           2-Year         08/28/2023    08/31/2023  08/3\n",
       "   3 │ 91282CHX2  Note           5-Year         08/28/2023    08/31/2023  08/3\n",
       "   4 │ 912810TU2  Bond           20-Year        08/23/2023    08/31/2023  08/1\n",
       "   5 │ 912810TT5  Bond           30-Year        08/10/2023    08/15/2023  08/1 ⋯\n",
       "   6 │ 91282CHT1  Note           10-Year        08/09/2023    08/15/2023  08/1\n",
       "   7 │ 91282CHU8  Note           3-Year         08/08/2023    08/15/2023  08/1\n",
       "   8 │ 91282CHR5  Note           7-Year         07/27/2023    07/31/2023  07/3\n",
       "   9 │ 91282CHQ7  Note           5-Year         07/25/2023    07/31/2023  07/3 ⋯\n",
       "  10 │ 91282CHN4  Note           2-Year         07/24/2023    07/31/2023  07/3\n",
       "  11 │ 91282CHP9  Note           10-Year        07/20/2023    07/31/2023  07/1\n",
       "  ⋮  │     ⋮            ⋮              ⋮             ⋮            ⋮            ⋱\n",
       "  50 │ 91282CFZ9  Note           5-Year         11/21/2022    11/30/2022  11/3\n",
       "  51 │ 912810TM0  Bond           20-Year        11/16/2022    11/30/2022  11/1 ⋯\n",
       "  52 │ 912810TL2  Bond           30-Year        11/10/2022    11/15/2022  11/1\n",
       "  53 │ 91282CFV8  Note           10-Year        11/09/2022    11/15/2022  11/1\n",
       "  54 │ 91282CFW6  Note           3-Year         11/08/2022    11/15/2022  11/1\n",
       "  55 │ 91282CFT3  Note           7-Year         10/27/2022    10/31/2022  10/3 ⋯\n",
       "  56 │ 91282CFU0  Note           5-Year         10/26/2022    10/31/2022  10/3\n",
       "  57 │ 91282CFQ9  Note           2-Year         10/25/2022    10/31/2022  10/3\n",
       "  58 │ 91282CFR7  Note           5-Year         10/20/2022    10/31/2022  10/1\n",
       "  59 │ 91282CFP1  Note           3-Year         10/11/2022    10/17/2022  10/1 ⋯\n",
       "\u001b[36m                                                   4 columns and 38 rows omitted\u001b[0m"
      ]
     },
     "execution_count": 2,
     "metadata": {},
     "output_type": "execute_result"
    }
   ],
   "source": [
    "dataset = MyTreasuryNotesAndBondsDataSet()"
   ]
  },
  {
   "cell_type": "markdown",
   "id": "9e9f61c5-94f2-44c4-8c45-3d97eb4551b7",
   "metadata": {},
   "source": [
    "## Objective 1: Select a random note or bond from which we create separate marketable products\n",
    "We'll select a random note or bond, compute its price, compare it to the auction price (to `check` our price codes), and then `strip` the selected note or bond.\n",
    "* First, let's determine how many notes and bonds we have in the `dataset` using the [nrow function](https://dataframes.juliadata.org/stable/lib/functions/#DataAPI.nrow) that is exported by the [DataFrames.jl package](https://github.com/JuliaData/DataFrames.jl). Then, we compute a random index using the [built-in Julia rand function](https://docs.julialang.org/en/v1/stdlib/Random/). We store the data for the random note or bond in the `random_note_or_bond` variable"
   ]
  },
  {
   "cell_type": "code",
   "execution_count": 3,
   "id": "3a8a73d9-8905-4289-b11d-d5c16007ae81",
   "metadata": {},
   "outputs": [
    {
     "data": {
      "text/html": [
       "<div><div style = \"float: left;\"><span>DataFrameRow (9 columns)</span></div><div style = \"clear: both;\"></div></div><div class = \"data-frame\" style = \"overflow-x: scroll;\"><table class = \"data-frame\" style = \"margin-bottom: 6px;\"><thead><tr class = \"header\"><th class = \"rowLabel\" style = \"font-weight: bold; text-align: right;\">Row</th><th style = \"text-align: left;\">CUSIP</th><th style = \"text-align: left;\">Security Type</th><th style = \"text-align: left;\">Security Term</th><th style = \"text-align: left;\">Auction Date</th><th style = \"text-align: left;\">Issue Date</th><th style = \"text-align: left;\">Maturity Date</th><th style = \"text-align: left;\">Price</th><th style = \"text-align: left;\">High Yield</th><th style = \"text-align: left;\">Interest Rate</th></tr><tr class = \"subheader headerLastRow\"><th class = \"rowLabel\" style = \"font-weight: bold; text-align: right;\"></th><th title = \"String15\" style = \"text-align: left;\">String15</th><th title = \"String7\" style = \"text-align: left;\">String7</th><th title = \"String7\" style = \"text-align: left;\">String7</th><th title = \"String15\" style = \"text-align: left;\">String15</th><th title = \"String15\" style = \"text-align: left;\">String15</th><th title = \"String15\" style = \"text-align: left;\">String15</th><th title = \"Float64\" style = \"text-align: left;\">Float64</th><th title = \"Float64\" style = \"text-align: left;\">Float64</th><th title = \"Float64\" style = \"text-align: left;\">Float64</th></tr></thead><tbody><tr><td class = \"rowLabel\" style = \"font-weight: bold; text-align: right;\">49</td><td style = \"text-align: left;\">91282CFX4</td><td style = \"text-align: left;\">Note</td><td style = \"text-align: left;\">2-Year</td><td style = \"text-align: left;\">11/21/2022</td><td style = \"text-align: left;\">11/30/2022</td><td style = \"text-align: left;\">11/30/2024</td><td style = \"text-align: right;\">99.9905</td><td style = \"text-align: right;\">0.04505</td><td style = \"text-align: right;\">0.045</td></tr></tbody></table></div>"
      ],
      "text/latex": [
       "\\begin{tabular}{r|ccccccc}\n",
       "\t& CUSIP & Security Type & Security Term & Auction Date & Issue Date & Maturity Date & \\\\\n",
       "\t\\hline\n",
       "\t& String15 & String7 & String7 & String15 & String15 & String15 & \\\\\n",
       "\t\\hline\n",
       "\t49 & 91282CFX4 & Note & 2-Year & 11/21/2022 & 11/30/2022 & 11/30/2024 & $\\dots$ \\\\\n",
       "\\end{tabular}\n"
      ],
      "text/plain": [
       "\u001b[1mDataFrameRow\u001b[0m\n",
       "\u001b[1m Row \u001b[0m│\u001b[1m CUSIP     \u001b[0m\u001b[1m Security Type \u001b[0m\u001b[1m Security Term \u001b[0m\u001b[1m Auction Date \u001b[0m\u001b[1m Issue Date \u001b[0m\u001b[1m Matu\u001b[0m ⋯\n",
       "     │\u001b[90m String15  \u001b[0m\u001b[90m String7       \u001b[0m\u001b[90m String7       \u001b[0m\u001b[90m String15     \u001b[0m\u001b[90m String15   \u001b[0m\u001b[90m Stri\u001b[0m ⋯\n",
       "─────┼──────────────────────────────────────────────────────────────────────────\n",
       "  49 │ 91282CFX4  Note           2-Year         11/21/2022    11/30/2022  11/3 ⋯\n",
       "\u001b[36m                                                               4 columns omitted\u001b[0m"
      ]
     },
     "execution_count": 3,
     "metadata": {},
     "output_type": "execute_result"
    }
   ],
   "source": [
    "# number_of_notes_and_bonds = nrow(dataset)\n",
    "# random_note_or_bond = dataset[rand(1:number_of_notes_and_bonds),:]\n",
    "ridx = 49;\n",
    "random_note_or_bond = dataset[ridx,:]"
   ]
  },
  {
   "cell_type": "markdown",
   "id": "e7cb85a0-1d76-4356-b89b-ac9d96801429",
   "metadata": {},
   "source": [
    "Get the parameters from `random_note_or_bond` variable to test our price calculation. \n",
    "* In particular, we set the face (par) value `Vₚ,` the duration `T` (which we convert to the number of years using the `securityterm` function), the yield field, i.e., the $\\bar{r}$ value in the discount rate, the coupon rate $c$ and the number of coupon payments per year `λ`."
   ]
  },
  {
   "cell_type": "code",
   "execution_count": 4,
   "id": "e25f30d4-d38a-49b5-919b-8b48172d7cda",
   "metadata": {},
   "outputs": [],
   "source": [
    "Vₚ = 100.0; # face value of the note or bond\n",
    "T = random_note_or_bond[Symbol(\"Security Term\")] |> String |> securityterm; # term as a Float64\n",
    "r̄ = random_note_or_bond[Symbol(\"High Yield\")]; # Effective discount rate\n",
    "c = random_note_or_bond[Symbol(\"Interest Rate\")]; # Interest rate (coupon rate)\n",
    "λ = 2; # number of coupon payments per year"
   ]
  },
  {
   "cell_type": "markdown",
   "id": "91546138-2b3e-491d-a0b7-3d3d4aab56ec",
   "metadata": {},
   "source": [
    "Next, we instantiate a discrete compounding model, and store this model in the `discrete_compounding` variable:"
   ]
  },
  {
   "cell_type": "code",
   "execution_count": 5,
   "id": "77013e90-a7aa-42ea-b085-a3af73e43724",
   "metadata": {},
   "outputs": [],
   "source": [
    "# Build a discrete compounding model -\n",
    "discrete_compounding = DiscreteCompoundingModel();"
   ]
  },
  {
   "cell_type": "markdown",
   "id": "bb0e1c7c-d09f-47d7-8301-f24408cd88cc",
   "metadata": {},
   "source": [
    "Finally,  compute the price of the note (or bond) using the short-cut syntax and the discount model. We store the populated note or bond in the `model` variable, and the computed price in the `nominal_computed_price` (the `price` field on the `model`):"
   ]
  },
  {
   "cell_type": "code",
   "execution_count": 6,
   "id": "1ab938a8-2f8b-4b66-9971-9f66f01e2f13",
   "metadata": {},
   "outputs": [],
   "source": [
    "# Build a T-year model and compute the price using the short-hand syntax\n",
    "model = build(MyUSTreasuryCouponSecurityModel, (\n",
    "            par = Vₚ, T = T, rate = r̄, coupon = c, λ = λ\n",
    "        )) |> discrete_compounding;\n",
    "\n",
    "nominal_computed_price = model.price;"
   ]
  },
  {
   "cell_type": "markdown",
   "id": "61c596d6-3c11-493b-89c9-750b5898c1ef",
   "metadata": {},
   "source": [
    "### Check: Are the calculated and observed auction prices `similar`?\n",
    "Use the [isapprox function](https://docs.julialang.org/en/v1/base/math/#Base.isapprox) combined with the [@assert macro](https://docs.julialang.org/en/v1/base/base/#Base.@assert) to check the `similarity` of the computed, and observed note (or bond) price. If the price values are different beyond `rtol = 1e-3`, a `false` result is generated, and an [AssertionError](https://docs.julialang.org/en/v1/base/base/#Core.AssertionError) is thrown."
   ]
  },
  {
   "cell_type": "code",
   "execution_count": 7,
   "id": "8638bf15-59cd-4045-b7f9-68129bb8fb9c",
   "metadata": {},
   "outputs": [],
   "source": [
    "observed_bond_price = random_note_or_bond[:Price];\n",
    "@assert isapprox(observed_bond_price, nominal_computed_price; rtol = 1e-3)"
   ]
  },
  {
   "cell_type": "markdown",
   "id": "a3bab57e-8f7a-4928-aec0-476fe0199192",
   "metadata": {},
   "source": [
    "### TODO: Strip the note or bond to create a collection of zero-coupon payments\n",
    "We generate a dictionary of zero-coupon bond models for a `MyUSTreasuryCouponSecurityModel` using the `strip(...)` function exported by the [VLQuantitativeFinancePackage.jl package](https://github.com/varnerlab/VLQuantitativeFinancePackage.jl) \n",
    "* The resulting `strips` variable stores the generated bonds in order of duration, with their indexes serving as keys and the corresponding `MyUSTreasuryZeroCouponBondModel` instances as values. "
   ]
  },
  {
   "cell_type": "code",
   "execution_count": 8,
   "id": "bfe746be-61e5-47f5-ae8d-6e9b86cdd3e2",
   "metadata": {},
   "outputs": [],
   "source": [
    "strips = VLQuantitativeFinancePackage.strip(model);"
   ]
  },
  {
   "cell_type": "markdown",
   "id": "6cc54955-57b2-40b9-ac4f-b85573ef5378",
   "metadata": {},
   "source": [
    "#### Check: Do we have the correct number of stripped products?\n",
    "For a parent note or bond of duration `T` years, there should be $\\lambda\\cdot{T}+1$ STRIPS, where $\\lambda$ is the number of coupon payments per year. Let's verify that `strip(...)` function produced the correct number of products. \n",
    "* Use the [@assert macro](https://docs.julialang.org/en/v1/base/base/#Base.@assert) to check the number of STRIPS. If the `incorrect` number of products is in the `strips` dictionary, a `false` result is generated, and an [AssertionError](https://docs.julialang.org/en/v1/base/base/#Core.AssertionError) is thrown."
   ]
  },
  {
   "cell_type": "code",
   "execution_count": 9,
   "id": "5f7358c4-3ef3-44fb-be25-32349c4bbf3b",
   "metadata": {},
   "outputs": [],
   "source": [
    "number_of_strips = λ*T+1 |> Int # correct number of STRIPs\n",
    "@assert length(strips) == number_of_strips"
   ]
  },
  {
   "cell_type": "markdown",
   "id": "8ff328e3-8c5a-40d3-afd4-06057e23402a",
   "metadata": {},
   "source": [
    "## Objective 2: Pricing of STRIPS products for secondary auction\n",
    "STRIPS are sold at a discount compared to their face. However, it’s important to note that the secondary seller, i.e., the brokerage splitting the original note or bond, determines the discount in the secondary treasury market. To better understand this, let’s propose two hypothetical pricing schemes that a brokerage might employ:\n",
    "\n",
    "* __Scheme 1 constant yield__: In this approach, the brokerage prices the zero-coupon instruments to have a constant yield $\\bar{r}$. This can be achieved by setting the price as an escalating fraction of the par value $V_{B} = \\left(\\alpha\\right)^{T}\\cdot{V}_{P}$, where $\\alpha\\leq{1}$, and $T$ represent the time to maturity of the generated zero coupon bond.\n",
    "\n",
    "* __Scheme 2 constant discount__: The brokerage prices the zero-coupon instruments to have a constant discount, i.e., the ratio of the price to the face value is constant across all instruments. In this case, $V_{B} = \\left(\\alpha\\right)\\cdot{V}_{P}$ is not a function of the time to maturity of the instrument, and $\\alpha\\leq{1}$."
   ]
  },
  {
   "cell_type": "markdown",
   "id": "846b59a0-7e6f-4e84-bdc4-8ef1148c7f5a",
   "metadata": {},
   "source": [
    "### TODO: Choose a pricing scheme and compute the effective yield for the zero-coupon instrument\n",
    "Let's specify which pricing `scheme` we wish to explore by setting the value of the `Bool` flag `use_scheme_1` to `true` to simulate `scheme 1` or `false` to simulate `scheme 2`. After selecting which `scheme`, let's specify a value for the $\\alpha\\leq{1}$ parameter:"
   ]
  },
  {
   "cell_type": "code",
   "execution_count": 10,
   "id": "c15afadb-e344-4cea-9b84-077ee7861c04",
   "metadata": {},
   "outputs": [],
   "source": [
    "use_scheme_1 = true;\n",
    "α = 0.97; # must be less than 1"
   ]
  },
  {
   "cell_type": "markdown",
   "id": "5f190fb3-7e33-4e81-9fbe-a79528402141",
   "metadata": {},
   "source": [
    "Next, for each `zero` in the `strips` dictionary, let's specify (or compute) the missing `price` and `rate` values. To compute the price value, we compute the discount `d` (which depends upon our choice of `scheme` and $\\alpha$), and the `rate` using the `YTM(...)` function exported by the [VLQuantitativeFinancePackage.jl package](https://github.com/varnerlab/VLQuantitativeFinancePackage.jl)."
   ]
  },
  {
   "cell_type": "code",
   "execution_count": 11,
   "id": "1e2aaec0-c71c-4e09-b72f-8c2e082b1a43",
   "metadata": {},
   "outputs": [],
   "source": [
    "for i ∈ 1:number_of_strips\n",
    "\n",
    "    # get data from this strip\n",
    "    model = strips[i];\n",
    "    T = model.T\n",
    "    Vₚ = model.par;\n",
    "    \n",
    "    # compute the discount d\n",
    "    d = nothing;\n",
    "    if (use_scheme_1 == true)\n",
    "        d = (α)^T; # we selected scheme 1\n",
    "    else\n",
    "        d = α; # we select scheme 2\n",
    "    end\n",
    "    \n",
    "    # set the price\n",
    "    model.price = (d)*Vₚ\n",
    "    \n",
    "    # do a YTM calculation to compute the market rate of interest\n",
    "    model.rate = VLQuantitativeFinancePackage.YTM(model, discrete_compounding)\n",
    "end"
   ]
  },
  {
   "cell_type": "markdown",
   "id": "d9190a8b-1b31-40cc-8d60-b36c03cd6f65",
   "metadata": {},
   "source": [
    "#### Visualize the first $m$ STRIPS products\n",
    "To view a specified number of STRIPS, we assign the desired number to the variable `number_of_strips_to_view`. Then, loop through each STRIP index and access the respective models from the `strips` dictionary using the bracket notation `strips[i]`, where `i` represents the index. Finally, using the model, we add data to the `strips_table_data_array` and display the resulting table by calling the `pretty_table(…)` function."
   ]
  },
  {
   "cell_type": "code",
   "execution_count": 12,
   "id": "316815a7-6975-44d3-b24e-65339f97bd3c",
   "metadata": {},
   "outputs": [
    {
     "name": "stdout",
     "output_type": "stream",
     "text": [
      "==== ========== ======= ========= =========== =============\n",
      " \u001b[1m   \u001b[0m \u001b[1m Maturity \u001b[0m \u001b[1m  Face \u001b[0m \u001b[1m   Price \u001b[0m \u001b[1m         r̄ \u001b[0m \u001b[1m   Discount \u001b[0m\n",
      " \u001b[90m   \u001b[0m \u001b[90m       YR \u001b[0m \u001b[90m   USD \u001b[0m \u001b[90m     USD \u001b[0m \u001b[90m           \u001b[0m \u001b[90m price/face \u001b[0m\n",
      "==== ========== ======= ========= =========== =============\n",
      "  1        0.5    2.25   2.21599   0.0309278     0.984886\n",
      "  2        1.0    2.25    2.1825   0.0309278         0.97\n",
      "  3        1.5    2.25   2.14951   0.0309278     0.955339\n",
      "  4        2.0    2.25   2.11702   0.0309278       0.9409\n",
      "  5        2.0   100.0     94.09   0.0309278       0.9409\n",
      "==== ========== ======= ========= =========== =============\n"
     ]
    }
   ],
   "source": [
    "number_of_strips_to_view = number_of_strips ≥ 10 ? 10 : number_of_strips\n",
    "strips_table_data_array = Array{Any,2}(undef, number_of_strips_to_view, 6);\n",
    "strips_table_header_array = ([\"\", \"Maturity\",\"Face\",\"Price\",\"r̄\", \"Discount\"],[\"\",\"YR\",\"USD\",\"USD\",\"\", \"price/face\"]);\n",
    "\n",
    "for i ∈ 1:number_of_strips_to_view\n",
    "\n",
    "    zc_model = strips[i];\n",
    "    strips_table_data_array[i,1] = i\n",
    "    strips_table_data_array[i,2] = zc_model.T\n",
    "    strips_table_data_array[i,3] = zc_model.par\n",
    "    strips_table_data_array[i,4] = zc_model.price\n",
    "    strips_table_data_array[i,5] = zc_model.rate  \n",
    "    strips_table_data_array[i,6] = (zc_model.price/zc_model.par)\n",
    "end\n",
    "pretty_table(strips_table_data_array, header=strips_table_header_array, tf = tf_simple)"
   ]
  },
  {
   "cell_type": "code",
   "execution_count": 13,
   "id": "272479c8-3b80-42c4-b3a2-3d75426a38fa",
   "metadata": {},
   "outputs": [
    {
     "data": {
      "text/plain": [
       "D (generic function with 1 method)"
      ]
     },
     "execution_count": 13,
     "metadata": {},
     "output_type": "execute_result"
    }
   ],
   "source": [
    "D(r,t) = (1+r)^(t)"
   ]
  },
  {
   "cell_type": "code",
   "execution_count": 15,
   "id": "dafe88bd-5d94-40df-ad16-bdb6282a0199",
   "metadata": {},
   "outputs": [
    {
     "data": {
      "text/plain": [
       "5×2 Matrix{Float64}:\n",
       "  2.21599   -2.21599\n",
       "  2.1825    -2.1825\n",
       "  2.14951   -2.14951\n",
       "  2.11702   -2.11702\n",
       " 94.09     -94.09"
      ]
     },
     "execution_count": 15,
     "metadata": {},
     "output_type": "execute_result"
    }
   ],
   "source": [
    "tmp = Array{Float64,2}(undef,number_of_strips,2);\n",
    "for (index, model) ∈ strips\n",
    "    \n",
    "    r̄ = model.rate;\n",
    "    T = model.T;\n",
    "    PV = model.price\n",
    "    FV = model.par\n",
    "    u = D(r̄, T);\n",
    "\n",
    "    tmp[index,1] = PV\n",
    "    tmp[index,2] = -(1/u)*FV\n",
    "end\n",
    "tmp"
   ]
  },
  {
   "cell_type": "markdown",
   "id": "7d1492b1-4882-4015-b8c4-a7571fd874e9",
   "metadata": {},
   "source": [
    "## Disclaimer and Risks\n",
    "__This content is offered solely for training and informational purposes__. No offer or solicitation to buy or sell securities or derivative products or any investment or trading advice or strategy is made, given, or endorsed by the teaching team. \n",
    "\n",
    "__Trading involves risk__. Carefully review your financial situation before investing in securities, futures contracts, options, or commodity interests. Past performance, whether actual or indicated by historical tests of strategies, is no guarantee of future performance or success. Trading is generally inappropriate for someone with limited resources, investment or trading experience, or a low-risk tolerance.  Only risk capital that is not required for living expenses.\n",
    "\n",
    "__You are fully responsible for any investment or trading decisions you make__. Such decisions should be based solely on evaluating your financial circumstances, investment or trading objectives, risk tolerance, and liquidity needs."
   ]
  },
  {
   "cell_type": "code",
   "execution_count": null,
   "id": "08bcb518-5e0e-4989-8256-7b3ab87091d6",
   "metadata": {},
   "outputs": [],
   "source": []
  }
 ],
 "metadata": {
  "kernelspec": {
   "display_name": "Julia 1.10.1",
   "language": "julia",
   "name": "julia-1.10"
  },
  "language_info": {
   "file_extension": ".jl",
   "mimetype": "application/julia",
   "name": "julia",
   "version": "1.10.1"
  }
 },
 "nbformat": 4,
 "nbformat_minor": 5
}
