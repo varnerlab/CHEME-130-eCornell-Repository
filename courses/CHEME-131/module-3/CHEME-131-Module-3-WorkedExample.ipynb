{
 "cells": [
  {
   "cell_type": "markdown",
   "id": "e33f878e-907d-49bc-8645-e43b49f389b1",
   "metadata": {},
   "source": [
    "# Example: Registered Interest and Principal of Securities (STRIPS) Bonds\n",
    "\n",
    "This example will familiarize students with the ideas behind [Registered Interest and Principal of Securities (STRIPS)](https://www.treasurydirect.gov/marketable-securities/strips/) bonds."
   ]
  },
  {
   "cell_type": "code",
   "execution_count": null,
   "id": "732c2750-c2fc-4313-b6e1-ed7b0b1965fd",
   "metadata": {},
   "outputs": [],
   "source": []
  }
 ],
 "metadata": {
  "kernelspec": {
   "display_name": "Julia 1.10.1",
   "language": "julia",
   "name": "julia-1.10"
  },
  "language_info": {
   "file_extension": ".jl",
   "mimetype": "application/julia",
   "name": "julia",
   "version": "1.10.1"
  }
 },
 "nbformat": 4,
 "nbformat_minor": 5
}
