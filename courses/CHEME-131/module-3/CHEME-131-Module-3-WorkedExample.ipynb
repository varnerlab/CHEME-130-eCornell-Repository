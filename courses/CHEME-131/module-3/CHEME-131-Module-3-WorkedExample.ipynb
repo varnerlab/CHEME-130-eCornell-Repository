{
 "cells": [
  {
   "cell_type": "markdown",
   "id": "d0093537-da9f-40fa-98e7-1e02c9e9968a",
   "metadata": {},
   "source": [
    "# Example: Registered Interest and Principal of Securities (STRIPS) Bonds"
   ]
  },
  {
   "cell_type": "markdown",
   "id": "5960f322-7961-457b-8e66-cb231fd02506",
   "metadata": {
    "tags": []
   },
   "source": [
    "## Background\n",
    "[Registered Interest and Principal of Securities (STRIPS) bonds](https://en.wikipedia.org/wiki/United_States_Treasury_security#STRIPS) are a unique type of fixed-income investment instrument that provides investors with an alternative way to access the income and coupon payments of Treasury securities. STRIPS bonds are created by separating a Treasury security’s coupon and principal components and trading them as individual zero-coupon securities. This process allows investors to purchase and trade the coupon or principal components separately, providing greater flexibility in managing their investment portfolios.\n",
    "\n",
    "<div>\n",
    "    <center>\n",
    "        <img src=\"figs/Fig-STRIPS-Schematic.png\" width=\"900\"/>\n",
    "    </center>\n",
    "</div>\n",
    "\n",
    "For example, the 5-year Treasury note with annual coupon payments of $C$ USD and a face (par) value of $V_{P}$ (USD) shown above can be stripped into six separate zero-coupon securities, i.e., five zero-coupon bonds, each with face values of $C$ and maturity of $T$= 1,2,3,4 and 5 years, and a six security with face  (par) value of $V_{P}$ USD with a duration of $T$ = 5 years. In the general case, a treasury note or bond with $N=\\lambda{T}$ coupon payments, where $T$ denotes the maturity in years, and $\\lambda$ represents the number of coupon payments per year, can be stripped into $N+1$ separate zero-coupon securities.\n",
    "\n",
    "Beyond thier immediate value as investment tools, STRIPS bonds are interesting as they provide another look at the [Term Structure of Interest Rates](https://www.investopedia.com/terms/t/termstructure.asp#:~:text=Essentially%2C%20term%20structure%20of%20interest,current%20state%20of%20an%20economy), i.e., how the change in the [short rates](https://en.wikipedia.org/wiki/Short-rate_model) influences the price and yeild the bond."
   ]
  },
  {
   "cell_type": "markdown",
   "id": "cfbe4dce-c85b-4a43-a7b8-ce055f66ffc4",
   "metadata": {},
   "source": [
    "## Learning Objectives\n",
    "In this example, we will create a model for a 30-year treasury bond with semi-annual coupon payments. Then, we will strip the coupon payments and face value to produce 61 zero-coupon STRIPS bonds. We will then show the bootstrapping method, an alternative approach to estimating the short rates from the price of the STRIPS zero-coupon products.\n",
    "\n",
    "* __Objective 1__: Our first objective is to build a model for a 30-year treasury bond and strip the bond's coupon payments and face value. To make our calculations realistic, we will use coupon and market interest values from recent 30-year bond quotations. We will encounter an interesting challenge when we strip the 30-year bond, which is how to price the zero-coupon STRIP products.\n",
    "* __Objective 2__: Our second objective is to demonstrate the bootstrapping method to estimate the short rates from the price of STRIP zero-coupon products."
   ]
  },
  {
   "cell_type": "markdown",
   "id": "ec8a6c18-0832-490e-9f1c-4a4c004907b8",
   "metadata": {
    "jp-MarkdownHeadingCollapsed": true,
    "tags": []
   },
   "source": [
    "## Setup\n",
    "In the following code block, we set up the computational environment by including the `Include.jl` file. The `Include.jl` file loads external packages, various functions that we will use in the exercise, and custom types to model the components of our problem."
   ]
  },
  {
   "cell_type": "markdown",
   "id": "162cd1ae-b084-453e-aeaa-2bfe9e5b3b72",
   "metadata": {},
   "source": [
    "### Packages\n",
    "`Include.jl` loads several external packages that we will use for our exercise:\n",
    "\n",
    "* The [Optim.jl](https://github.com/JuliaNLSolvers/Optim.jl) package provides routines for univariate and multivariate optimization in [Julia](https://julialang.org). We use these routines to estimate the Yield to Maturity (YTM) of zero-coupon bonds generated from a parent treasury note or bond by stripping.\n",
    "* The [LinearAlgebra.jl](https://github.com/JuliaLang/LinearAlgebra.jl) package provides routines for linear algebra operations. We use these routines to frame and solve (by computing a matrix inverse) the bootstrapping calculation to estimate the short rates from the price of zero-coupon bonds of different maturity.\n",
    "* The [PrettyTables.jl](https://github.com/ronisbr/PrettyTables.jl) package provides routines to display tabular data. We use these routines to display various calculation results throughout our exercises."
   ]
  },
  {
   "cell_type": "markdown",
   "id": "d6be8127-4e88-44c8-9c05-1ec8e421f1ea",
   "metadata": {},
   "source": [
    "### Types\n",
    "* The `MyUSTreasuryCouponSecurityModel` is [mutable type](https://docs.julialang.org/en/v1/manual/types/#Mutable-Composite-Types) that holds important information such as the par value $V_{P}$, duration $T$, market interest rate $\\bar{r}$, coupon rate $c$, and the number of coupon payments per year $\\lambda$ for treasury notes and bonds. To create a `MyUSTreasuryCouponSecurityModel` instance, you can use the `build` method explained below.\n",
    "* On the other hand, `MyUSTreasuryZeroCouponBondModel` is a [mutable type](https://docs.julialang.org/en/v1/manual/types/#Mutable-Composite-Types) that models a zero-coupon treasury bond. It holds the par value $V_{P}$, duration $T$, and interest rate $\\bar{r}$ for a zero-coupon bond. You can create instances of `MyUSTreasuryZeroCouponBondModel` from a parent `MyUSTreasuryCouponSecurityModel` instance by using the `strip(...)` function explained below.\n",
    "* Lastly, we export the `DiscreteCompoundingModel` and `ContinuousCompoundingModel` [immutable types](https://docs.julialang.org/en/v1/manual/types/#Composite-Types), which indicate which compounding model we want to use. These types have no data associated with them."
   ]
  },
  {
   "cell_type": "markdown",
   "id": "69381bd1-5af7-4f6b-a7c7-0366bada4711",
   "metadata": {},
   "source": [
    "### Functions\n",
    "`Include.jl` loads the following [Julia functions](https://docs.julialang.org/en/v1/manual/functions/) into the notebook:\n",
    "\n",
    "`build(model::Type{MyUSTreasuryCouponSecurityModel}, data::NamedTuple) -> MyUSTreasuryCouponSecurityModel` \n",
    "> This function takes information in the `data` [NamedTuple](https://docs.julialang.org/en/v1/base/base/#Core.NamedTuple) argument (the par value, etc.) and returns an instance of the `MyUSTreasuryCouponSecurityModel` [mutable type](https://docs.julialang.org/en/v1/manual/types/#Mutable-Composite-Types).\n",
    "\n",
    "`strip(model::MyUSTreasuryCouponSecurityModel) -> Dict{Int, MyUSTreasuryZeroCouponBondModel}`\n",
    "> This function takes a `MyUSTreasuryCouponSecurityModel` instance, i.e., a model of treasury security such as a note or bond with coupon payments that we want to strip and strips these payments from the parent security. The `strip(...)` function returns a [Dictionary](https://docs.julialang.org/en/v1/base/collections/#Dictionaries) holding `MyUSTreasuryZeroCouponBondModel` instances created from the parent security, where the keys of the dictionary correspond to the temporal index of the created security. \n",
    "\n",
    "`YTM(model::MyUSTreasuryCouponSecurityModel, compounding::T; rₒ::Float64 = 0.01) where T <: AbstractCompoundingModel` \n",
    "> This function computes the Yield to Maturity (YTM) given a `MyUSTreasuryCouponSecurityModel` instance, a compounding model, and an initial guess for the interest rate (default value of 1\\%). This function computes the Internal Rate of Return (IRR) using the [Optim.jl](https://docs.sciml.ai/Optimization/stable/optimization_packages/optim/) package."
   ]
  },
  {
   "cell_type": "code",
   "execution_count": 1,
   "id": "73bf119a-4c15-45ff-aa4d-876337ace972",
   "metadata": {},
   "outputs": [
    {
     "name": "stderr",
     "output_type": "stream",
     "text": [
      "\u001b[32m\u001b[1m  Activating\u001b[22m\u001b[39m project at `~/Desktop/julia_work/CHEME-130-eCornell-Repository/courses/CHEME-131/module-3`\n"
     ]
    }
   ],
   "source": [
    "include(\"Include.jl\");"
   ]
  },
  {
   "cell_type": "markdown",
   "id": "f8930f89-05a4-4e9b-826b-c4b715b2908f",
   "metadata": {
    "tags": []
   },
   "source": [
    "## Objective 1: STRIP a 30-year treasury bond"
   ]
  },
  {
   "cell_type": "code",
   "execution_count": 2,
   "id": "f2e1858c-d14b-426d-96da-6452033e32a9",
   "metadata": {},
   "outputs": [
    {
     "name": "stdout",
     "output_type": "stream",
     "text": [
      "The 30-year bond with face value Vₚ = 1000.0 USD is priced at 963.28 USD\n"
     ]
    }
   ],
   "source": [
    "# Set parameters for the original 30-year bond\n",
    "Vₚ,T,r,c,λ = 1000.0,30.0,0.03832,0.03625,2\n",
    "\n",
    "# Build a discrete compounding model -\n",
    "discrete_compounding = DiscreteCompoundingModel();\n",
    "\n",
    "# Build a 30-year model, and compute the price using the short-hand syntax\n",
    "model = build(MyUSTreasuryCouponSecurityModel, (\n",
    "            par = Vₚ, T = T, rate = r, coupon = c, λ = λ\n",
    "        )) |> discrete_compounding;\n",
    "\n",
    "# show -\n",
    "println(\"The 30-year bond with face value Vₚ = $(Vₚ) USD is priced at $(round(model.price, sigdigits=5)) USD\")"
   ]
  },
  {
   "cell_type": "markdown",
   "id": "4b9a06ec-0f3f-4f76-a808-eb4563e90d4f",
   "metadata": {},
   "source": [
    "### Build the zero coupon STRIPS from the parent 30-year bond\n",
    "We generate a dictionary of zero-coupon bond models for a `MyUSTreasuryCouponSecurityModel`, using the `strip`. The resulting `strips` variable stores the generated bonds in order of duration, with their indexes serving as keys and the corresponding `MyUSTreasuryZeroCouponBondModel` instances as values. "
   ]
  },
  {
   "cell_type": "code",
   "execution_count": 3,
   "id": "df41a916-aa69-4518-81e8-7782a49f98c2",
   "metadata": {},
   "outputs": [],
   "source": [
    "strips = strip(model);"
   ]
  },
  {
   "cell_type": "markdown",
   "id": "a3aecaf9-04fc-4608-91b6-272226dc83e4",
   "metadata": {
    "tags": []
   },
   "source": [
    "#### Challenge: How do we price the zero-coupon STRIPS?\n",
    "STRIPS are often sold at discount compared to their face value because no coupon payments are made to holders. However, it’s important to note that the discount is determined by the seller in the secondary treasury market. To better understand this, let’s imagine a pricing scheme where we charge a varying percentage of the par value: \n",
    "\n",
    "$$V_{B} = \\alpha\\cdot{V}_{P}$$ \n",
    "\n",
    "Let $\\alpha = (0.95)^T$ where T represents the maturity of the generated zero coupon bond. With the price, par value, and duration in hand, we can calculate the effective market interest $\\bar{r}$ for each zero coupon security as a yield to maturity (YTM) calculation. "
   ]
  },
  {
   "cell_type": "markdown",
   "id": "b3e87ca5-b2a9-4e9e-bf5f-bbe149dc376f",
   "metadata": {},
   "source": [
    "#### Implementation\n",
    "First, we save the count of the zero-coupon bonds generated by the `strip(…)` function in the `number_of_zc_bonds` variable. Then, we iterate through the indexes of the zero-coupon bonds, retrieving the individual bond models from the `strips` dictionary using the bracket notation `strips[i]`, where `i` represents the bond index. Next, we access the duration (the `T` field of `MyUSTreasuryZeroCouponBondModel`) and the par value (the `par` field of `MyUSTreasuryZeroCouponBondModel`) of a bond, which we use to compute the discount parameter $\\alpha$ and the price of that bond. Finally, we compute (and set) the effective market rate of interest $\\bar{r}$ (the `rate` field of `MyUSTreasuryZeroCouponBondModel`) by calling the `YTM(…)` function."
   ]
  },
  {
   "cell_type": "code",
   "execution_count": 4,
   "id": "79f7e298-476b-406d-b586-a081df996217",
   "metadata": {},
   "outputs": [],
   "source": [
    "number_of_zc_bonds = length(strips)\n",
    "for i ∈ 1:number_of_zc_bonds\n",
    "    \n",
    "    # get the model, access the data, compute α, and then the  price\n",
    "    zc_model = strips[i];\n",
    "    T = zc_model.T\n",
    "    Vₚ = zc_model.par;\n",
    "    \n",
    "    # compute the discount\n",
    "    α = 0.95^(T)\n",
    "    \n",
    "    # set the price = α*Vₚ\n",
    "    zc_model.price = α*Vₚ\n",
    "    \n",
    "    # do a YTM calculation to compute the market rate of interest\n",
    "    zc_model.rate = YTM(zc_model, discrete_compounding)\n",
    "end"
   ]
  },
  {
   "cell_type": "markdown",
   "id": "6a01d345-cb83-47f5-9de3-4f4805d4a997",
   "metadata": {},
   "source": [
    "#### Visualize the first $N$ STRIPS products\n",
    "To view a specified number of STRIPS zero-coupon bonds, we assign the desired number to the variable `number_of_strips_to_view`. Then, we loop through each bond index and access the respective models from the `strips` dictionary using the bracket notation `strips[i]`, where `i` represents the bond index. Finally, using the model, we add data to the `strips_table_data_array` and display the resulting table by calling the `pretty_table(…)` function."
   ]
  },
  {
   "cell_type": "code",
   "execution_count": 5,
   "id": "504db1a8-153f-4c82-bca7-4925fa13f995",
   "metadata": {},
   "outputs": [
    {
     "data": {
      "text/html": [
       "<table>\n",
       "  <thead>\n",
       "    <tr class = \"header\">\n",
       "      <th style = \"text-align: right;\"></th>\n",
       "      <th style = \"text-align: right;\">Maturity</th>\n",
       "      <th style = \"text-align: right;\">Face</th>\n",
       "      <th style = \"text-align: right;\">Price</th>\n",
       "      <th style = \"text-align: right;\">Effective rate r̄</th>\n",
       "      <th style = \"text-align: right;\">Discount</th>\n",
       "    </tr>\n",
       "    <tr class = \"subheader headerLastRow\">\n",
       "      <th style = \"text-align: right;\"></th>\n",
       "      <th style = \"text-align: right;\">YR</th>\n",
       "      <th style = \"text-align: right;\">USD</th>\n",
       "      <th style = \"text-align: right;\">USD</th>\n",
       "      <th style = \"text-align: right;\">%</th>\n",
       "      <th style = \"text-align: right;\">price/face</th>\n",
       "    </tr>\n",
       "  </thead>\n",
       "  <tbody>\n",
       "    <tr>\n",
       "      <td style = \"text-align: right;\">1</td>\n",
       "      <td style = \"text-align: right;\">0.5</td>\n",
       "      <td style = \"text-align: right;\">18.125</td>\n",
       "      <td style = \"text-align: right;\">17.6661</td>\n",
       "      <td style = \"text-align: right;\">0.0526316</td>\n",
       "      <td style = \"text-align: right;\">0.974679</td>\n",
       "    </tr>\n",
       "    <tr>\n",
       "      <td style = \"text-align: right;\">2</td>\n",
       "      <td style = \"text-align: right;\">1.0</td>\n",
       "      <td style = \"text-align: right;\">18.125</td>\n",
       "      <td style = \"text-align: right;\">17.2188</td>\n",
       "      <td style = \"text-align: right;\">0.0526316</td>\n",
       "      <td style = \"text-align: right;\">0.95</td>\n",
       "    </tr>\n",
       "    <tr>\n",
       "      <td style = \"text-align: right;\">3</td>\n",
       "      <td style = \"text-align: right;\">1.5</td>\n",
       "      <td style = \"text-align: right;\">18.125</td>\n",
       "      <td style = \"text-align: right;\">16.7828</td>\n",
       "      <td style = \"text-align: right;\">0.0526316</td>\n",
       "      <td style = \"text-align: right;\">0.925945</td>\n",
       "    </tr>\n",
       "    <tr>\n",
       "      <td style = \"text-align: right;\">4</td>\n",
       "      <td style = \"text-align: right;\">2.0</td>\n",
       "      <td style = \"text-align: right;\">18.125</td>\n",
       "      <td style = \"text-align: right;\">16.3578</td>\n",
       "      <td style = \"text-align: right;\">0.0526316</td>\n",
       "      <td style = \"text-align: right;\">0.9025</td>\n",
       "    </tr>\n",
       "    <tr>\n",
       "      <td style = \"text-align: right;\">5</td>\n",
       "      <td style = \"text-align: right;\">2.5</td>\n",
       "      <td style = \"text-align: right;\">18.125</td>\n",
       "      <td style = \"text-align: right;\">15.9436</td>\n",
       "      <td style = \"text-align: right;\">0.0526316</td>\n",
       "      <td style = \"text-align: right;\">0.879648</td>\n",
       "    </tr>\n",
       "    <tr>\n",
       "      <td style = \"text-align: right;\">6</td>\n",
       "      <td style = \"text-align: right;\">3.0</td>\n",
       "      <td style = \"text-align: right;\">18.125</td>\n",
       "      <td style = \"text-align: right;\">15.5399</td>\n",
       "      <td style = \"text-align: right;\">0.0526316</td>\n",
       "      <td style = \"text-align: right;\">0.857375</td>\n",
       "    </tr>\n",
       "    <tr>\n",
       "      <td style = \"text-align: right;\">7</td>\n",
       "      <td style = \"text-align: right;\">3.5</td>\n",
       "      <td style = \"text-align: right;\">18.125</td>\n",
       "      <td style = \"text-align: right;\">15.1464</td>\n",
       "      <td style = \"text-align: right;\">0.0526316</td>\n",
       "      <td style = \"text-align: right;\">0.835666</td>\n",
       "    </tr>\n",
       "    <tr>\n",
       "      <td style = \"text-align: right;\">8</td>\n",
       "      <td style = \"text-align: right;\">4.0</td>\n",
       "      <td style = \"text-align: right;\">18.125</td>\n",
       "      <td style = \"text-align: right;\">14.7629</td>\n",
       "      <td style = \"text-align: right;\">0.0526316</td>\n",
       "      <td style = \"text-align: right;\">0.814506</td>\n",
       "    </tr>\n",
       "    <tr>\n",
       "      <td style = \"text-align: right;\">9</td>\n",
       "      <td style = \"text-align: right;\">4.5</td>\n",
       "      <td style = \"text-align: right;\">18.125</td>\n",
       "      <td style = \"text-align: right;\">14.3891</td>\n",
       "      <td style = \"text-align: right;\">0.0526316</td>\n",
       "      <td style = \"text-align: right;\">0.793882</td>\n",
       "    </tr>\n",
       "    <tr>\n",
       "      <td style = \"text-align: right;\">10</td>\n",
       "      <td style = \"text-align: right;\">5.0</td>\n",
       "      <td style = \"text-align: right;\">18.125</td>\n",
       "      <td style = \"text-align: right;\">14.0248</td>\n",
       "      <td style = \"text-align: right;\">0.0526316</td>\n",
       "      <td style = \"text-align: right;\">0.773781</td>\n",
       "    </tr>\n",
       "  </tbody>\n",
       "</table>\n"
      ]
     },
     "metadata": {},
     "output_type": "display_data"
    }
   ],
   "source": [
    "number_of_strips_to_view = 10\n",
    "strips_table_data_array = Array{Any,2}(undef, number_of_strips_to_view, 6);\n",
    "strips_table_header_array = ([\"\", \"Maturity\",\"Face\",\"Price\",\"Effective rate r̄\", \"Discount\"],[\"\",\"YR\",\"USD\",\"USD\",\"%\", \"price/face\"]);\n",
    "\n",
    "for i ∈ 1:number_of_strips_to_view\n",
    "\n",
    "    zc_model = strips[i];\n",
    "    strips_table_data_array[i,1] = i\n",
    "    strips_table_data_array[i,2] = zc_model.T\n",
    "    strips_table_data_array[i,3] = zc_model.par\n",
    "    strips_table_data_array[i,4] = zc_model.price\n",
    "    strips_table_data_array[i,5] = zc_model.rate  \n",
    "    strips_table_data_array[i,6] = (zc_model.price/zc_model.par)\n",
    "end\n",
    "pretty_table(strips_table_data_array, header=strips_table_header_array, tf = tf_html_default)"
   ]
  },
  {
   "cell_type": "markdown",
   "id": "ed1bb147-c0ea-4c1b-83ca-3db61af38495",
   "metadata": {
    "tags": []
   },
   "source": [
    "## Objective 2: Using bootstrapping to compute the short rates from STRIPS prices\n",
    "We can estimate the _short rates_, which represent the market rate of interest between periods $j\\rightarrow{j+1}$ and are denoted by $r_{j+1,j}$, by analyzing the prices of the various STRIPS zero coupon products based on their maturity. Using a discrete discounting model, the short rates are calculated according.:\n",
    "\n",
    "$$\n",
    "\\begin{eqnarray}\n",
    "\\frac{V_{P,1}}{V_{B,1}} & = & \\left(1+r_{1,0}\\right) \\\\\n",
    "\\frac{V_{P,2}}{V_{B,2}} & = & \\left(1+r_{2,1}\\right)\\cdot\\left(1+r_{1,0}\\right) \\\\\n",
    "\\vdots & = & \\vdots \\\\\n",
    "\\frac{V_{P,N}}{V_{B,N}} & = & \\prod_{i=1}^{N}\\left(1+r_{i,i-1}\\right) \\\\\n",
    "\\end{eqnarray}\n",
    "$$\n",
    "\n",
    "where $V_{P,i}$ and $V_{B,i}$ denote the face (par) value and price of the $i^{th}$ zero-coupon bond (both of which are known). Thus, we can solve for $r_{1,0}$, then insert that into the following expression to solve for $r_{2,1}$, and so on. Systematically, we can solve for the log-transformed short rates as a system of linear algebraic equations (LAEs) of the from:\n",
    "\n",
    "$$\n",
    "\\mathbf{A}\\mathbf{x} = \\mathbf{b}\n",
    "$$\n",
    "\n",
    "where $x_{i} = \\log\\left(1+r_{i,i-1}\\right)$, $b_{i} = \\log\\left(V_{P,i}/V_{B,i}\\right)$ and $\\mathbf{A}$ is a lower-triangular matrix of `1`'s. We solve for the log-transformed short rates by computing the inverse of the matrix $\\mathbf{A}$:\n",
    "\n",
    "$$\n",
    "\\mathbf{x} = \\mathbf{A}^{-1}\\mathbf{b}\n",
    "$$\n",
    "\n",
    "and then transform these back to linear coordinates for each period:\n",
    "\n",
    "$$\n",
    "r_{i,i-1} = 10^{x_{i}} - 1\n",
    "$$"
   ]
  },
  {
   "cell_type": "markdown",
   "id": "e6875c9f-bac3-414c-bf1f-bf23317c133e",
   "metadata": {},
   "source": [
    "#### Example: Setup of LAEs for $N=3$\n",
    "Consider the case where $N = 3$ and we are using discrete compounding. In this case, after log-transforming the discounded price expressions, we have a $3\\times{3}$ system of linear algebraic equations where each row represents a STRIPS zero-coupon bond:\n",
    "\n",
    "$$\n",
    "\\begin{eqnarray}\n",
    "\\log\\left(1+r_{1,0}\\right) & = & \\log\\left(\\frac{V_{P,1}}{V_{B,1}}\\right)\\\\\n",
    "\\log\\left(1+r_{1,0}\\right)+\\log\\left(1+r_{2,1}\\right) & = & \\log\\left(\\frac{V_{P,2}}{V_{B,2}}\\right)\\\\\n",
    "\\log\\left(1+r_{1,0}\\right)+\\log\\left(1+r_{2,1}\\right) + \\log\\left(1+r_{3,2}\\right)& = & \\log\\left(\\frac{V_{P,3}}{V_{B,3}}\\right)\\\\\n",
    "\\end{eqnarray}\n",
    "$$\n",
    "\n",
    "This system of equations can be re-arranged as a system of linear algebraic equations of the form:\n",
    "\n",
    "$$\n",
    "\\begin{equation}\n",
    "\\begin{pmatrix}\n",
    "1 & 0 & 0 \\\\\n",
    "1 & 1 & 0 \\\\\n",
    "1 & 1 & 1 \\\\\n",
    "\\end{pmatrix}\n",
    "\\begin{pmatrix}\n",
    "\\log\\left(1+r_{1,0}\\right) \\\\\n",
    "\\log\\left(1+r_{2,1}\\right) \\\\\n",
    "\\log\\left(1+r_{3,2}\\right)\n",
    "\\end{pmatrix} = \n",
    "\\begin{pmatrix}\n",
    "\\log\\left(V_{P,1}/V_{B,1}\\right) \\\\\n",
    "\\log\\left(V_{P,2}/V_{B,2}\\right) \\\\\n",
    "\\log\\left(V_{P,3}/V_{B,3}\\right)\n",
    "\\end{pmatrix}\n",
    "\\end{equation}\n",
    "$$\n",
    "\n",
    "which is of the form $\\mathbf{A}\\mathbf{x} = \\mathbf{b}$ where $x_{i} = \\log\\left(1+r_{i,i-1}\\right)$, $b_{i} = \\log\\left(V_{P,i}/V_{B,i}\\right)$."
   ]
  },
  {
   "cell_type": "markdown",
   "id": "8764f458-8c4c-4451-80ab-9bde27e22e03",
   "metadata": {},
   "source": [
    "### Compute short rates using boostrapping\n",
    "In the code block below, we initialize and populate the $\\mathbf{A}$ matrix, the right-hand size vector $\\mathbf{b}$ and compute the matrix inverse using the [inv(...) function](https://docs.julialang.org/en/v1/stdlib/LinearAlgebra/#Base.inv-Tuple{AbstractMatrix}) provided by the [LinearAlgebra.jl](https://github.com/JuliaLang/LinearAlgebra.jl) package. Finally, we transform the estimated short rates back to linear coordinates and add them to the `short_rate_array` array. "
   ]
  },
  {
   "cell_type": "code",
   "execution_count": 6,
   "id": "7ff4255b-1427-4253-acd3-b10e031dca73",
   "metadata": {},
   "outputs": [],
   "source": [
    "short_rate_array = Array{Float64,1}(undef, number_of_strips_to_view);\n",
    "b = Array{Float64,1}(undef, number_of_strips_to_view)\n",
    "A = Array{Float64,2}(undef, number_of_strips_to_view, number_of_strips_to_view) |> (x-> fill!(x,0.0))\n",
    "\n",
    "\n",
    "for i ∈ 1:number_of_strips_to_view\n",
    "    for j ∈ 1:number_of_strips_to_view\n",
    "        if (i ≥ j)\n",
    "            A[i,j] = 1.0\n",
    "        end\n",
    "    end\n",
    "end\n",
    "\n",
    "\n",
    "for i ∈ 1:number_of_strips_to_view\n",
    "    zc_model = strips[i];\n",
    "    Vₚ = zc_model.par\n",
    "    Vᵦ = zc_model.price\n",
    "    b[i] = log10(Vₚ/Vᵦ);\n",
    "end\n",
    "\n",
    "# invert A, compute log transformed shorts\n",
    "x̂ = inv(A)*b;\n",
    "\n",
    "# convert log transformed shorts back to linear coordinates\n",
    "for i ∈ 1:number_of_strips_to_view\n",
    "    short_rate_array[i] = 10^(x̂[i]) - 1\n",
    "end"
   ]
  },
  {
   "cell_type": "markdown",
   "id": "ec07f081-93cb-46e6-8c9c-34d5abc2ca77",
   "metadata": {},
   "source": [
    "### Visualize the estimated short rates\n",
    "We visualized the short rates and compared the discount factors computed using the short rates to the discount factor calculated using the effective market rate of interest using the [PrettyTables.jl](https://github.com/ronisbr/PrettyTables.jl) package. The `short_rate_data_table` array for `number_of_strips_to_view` bonds was populated by looping through each bond index and accessing the respective models from the `strips` dictionary using the bracket notation `strips[i]`, where `i` represents the bond index. The effective discount factor:\n",
    "\n",
    "$$\n",
    "\\mathcal{D}_{T,0} = (1+\\bar{r})^{T}\n",
    "$$ \n",
    "\n",
    "and the multiperiod discrete discount factor:\n",
    "\n",
    "$$\n",
    "\\mathcal{D}_{T,0} = \\left[\\prod_{j=0}^{T-1}\\left(1+r_{j+1,j}\\right)\\right]\n",
    "$$\n",
    "\n",
    "were computed for each bond. Consistent with theory, the two formulations of the discount factor were equal:"
   ]
  },
  {
   "cell_type": "code",
   "execution_count": 19,
   "id": "2c2f03c7-beb7-4fff-a41d-f432ea6613ac",
   "metadata": {},
   "outputs": [
    {
     "data": {
      "text/html": [
       "<table>\n",
       "  <thead>\n",
       "    <tr class = \"header\">\n",
       "      <th style = \"text-align: right;\">index i</th>\n",
       "      <th style = \"text-align: right;\">Period Start</th>\n",
       "      <th style = \"text-align: right;\">Period End</th>\n",
       "      <th style = \"text-align: right;\">Short rate</th>\n",
       "      <th style = \"text-align: right;\">Discount short</th>\n",
       "      <th style = \"text-align: right;\">Discount effective</th>\n",
       "    </tr>\n",
       "    <tr class = \"subheader headerLastRow\">\n",
       "      <th style = \"text-align: right;\"></th>\n",
       "      <th style = \"text-align: right;\">YR</th>\n",
       "      <th style = \"text-align: right;\">YR</th>\n",
       "      <th style = \"text-align: right;\">Decimal</th>\n",
       "      <th style = \"text-align: right;\">dimensionless</th>\n",
       "      <th style = \"text-align: right;\">dimensionless</th>\n",
       "    </tr>\n",
       "  </thead>\n",
       "  <tbody>\n",
       "    <tr>\n",
       "      <td style = \"text-align: right;\">1</td>\n",
       "      <td style = \"text-align: right;\">0.0</td>\n",
       "      <td style = \"text-align: right;\">0.5</td>\n",
       "      <td style = \"text-align: right;\">0.0259784</td>\n",
       "      <td style = \"text-align: right;\">1.02598</td>\n",
       "      <td style = \"text-align: right;\">1.02598</td>\n",
       "    </tr>\n",
       "    <tr>\n",
       "      <td style = \"text-align: right;\">2</td>\n",
       "      <td style = \"text-align: right;\">0.5</td>\n",
       "      <td style = \"text-align: right;\">1.0</td>\n",
       "      <td style = \"text-align: right;\">0.0259784</td>\n",
       "      <td style = \"text-align: right;\">1.05263</td>\n",
       "      <td style = \"text-align: right;\">1.05263</td>\n",
       "    </tr>\n",
       "    <tr>\n",
       "      <td style = \"text-align: right;\">3</td>\n",
       "      <td style = \"text-align: right;\">1.0</td>\n",
       "      <td style = \"text-align: right;\">1.5</td>\n",
       "      <td style = \"text-align: right;\">0.0259784</td>\n",
       "      <td style = \"text-align: right;\">1.07998</td>\n",
       "      <td style = \"text-align: right;\">1.07998</td>\n",
       "    </tr>\n",
       "    <tr>\n",
       "      <td style = \"text-align: right;\">4</td>\n",
       "      <td style = \"text-align: right;\">1.5</td>\n",
       "      <td style = \"text-align: right;\">2.0</td>\n",
       "      <td style = \"text-align: right;\">0.0259784</td>\n",
       "      <td style = \"text-align: right;\">1.10803</td>\n",
       "      <td style = \"text-align: right;\">1.10803</td>\n",
       "    </tr>\n",
       "    <tr>\n",
       "      <td style = \"text-align: right;\">5</td>\n",
       "      <td style = \"text-align: right;\">2.0</td>\n",
       "      <td style = \"text-align: right;\">2.5</td>\n",
       "      <td style = \"text-align: right;\">0.0259784</td>\n",
       "      <td style = \"text-align: right;\">1.13682</td>\n",
       "      <td style = \"text-align: right;\">1.13682</td>\n",
       "    </tr>\n",
       "    <tr>\n",
       "      <td style = \"text-align: right;\">6</td>\n",
       "      <td style = \"text-align: right;\">2.5</td>\n",
       "      <td style = \"text-align: right;\">3.0</td>\n",
       "      <td style = \"text-align: right;\">0.0259784</td>\n",
       "      <td style = \"text-align: right;\">1.16635</td>\n",
       "      <td style = \"text-align: right;\">1.16635</td>\n",
       "    </tr>\n",
       "    <tr>\n",
       "      <td style = \"text-align: right;\">7</td>\n",
       "      <td style = \"text-align: right;\">3.0</td>\n",
       "      <td style = \"text-align: right;\">3.5</td>\n",
       "      <td style = \"text-align: right;\">0.0259784</td>\n",
       "      <td style = \"text-align: right;\">1.19665</td>\n",
       "      <td style = \"text-align: right;\">1.19665</td>\n",
       "    </tr>\n",
       "    <tr>\n",
       "      <td style = \"text-align: right;\">8</td>\n",
       "      <td style = \"text-align: right;\">3.5</td>\n",
       "      <td style = \"text-align: right;\">4.0</td>\n",
       "      <td style = \"text-align: right;\">0.0259784</td>\n",
       "      <td style = \"text-align: right;\">1.22774</td>\n",
       "      <td style = \"text-align: right;\">1.22774</td>\n",
       "    </tr>\n",
       "    <tr>\n",
       "      <td style = \"text-align: right;\">9</td>\n",
       "      <td style = \"text-align: right;\">4.0</td>\n",
       "      <td style = \"text-align: right;\">4.5</td>\n",
       "      <td style = \"text-align: right;\">0.0259784</td>\n",
       "      <td style = \"text-align: right;\">1.25963</td>\n",
       "      <td style = \"text-align: right;\">1.25963</td>\n",
       "    </tr>\n",
       "    <tr>\n",
       "      <td style = \"text-align: right;\">10</td>\n",
       "      <td style = \"text-align: right;\">4.5</td>\n",
       "      <td style = \"text-align: right;\">5.0</td>\n",
       "      <td style = \"text-align: right;\">0.0259784</td>\n",
       "      <td style = \"text-align: right;\">1.29236</td>\n",
       "      <td style = \"text-align: right;\">1.29236</td>\n",
       "    </tr>\n",
       "  </tbody>\n",
       "</table>\n"
      ]
     },
     "metadata": {},
     "output_type": "display_data"
    }
   ],
   "source": [
    "short_rate_data_table = Array{Any,2}(undef, number_of_strips_to_view, 6)\n",
    "short_rate_header_table = (\n",
    "    [\"index i\",\"Period Start\",\"Period End\",\"Short rate\",\"Discount short\",\"Discount effective\"], \n",
    "    [\"\",\"YR\",\"YR\",\"Decimal\",\"dimensionless\",\"dimensionless\"]);\n",
    "Tₒ = 0.0;\n",
    "for i ∈ 1:number_of_strips_to_view\n",
    "    \n",
    "    zc_model = strips[i];\n",
    "    T = zc_model.T\n",
    "    r̄ = zc_model.rate;\n",
    "    \n",
    "    short_rate_data_table[i,1] = i\n",
    "    short_rate_data_table[i,2] = Tₒ\n",
    "    short_rate_data_table[i,3] = T;\n",
    "    short_rate_data_table[i,4] = short_rate_array[i]\n",
    "    \n",
    "    # tmp -\n",
    "    tmp = Array{Float64,1}();\n",
    "    for j ∈ 1:i\n",
    "        value = (1+short_rate_array[j])\n",
    "        push!(tmp, value)\n",
    "    end\n",
    "    multiperiod = prod(tmp);\n",
    "    effective = (1+r̄)^T\n",
    "    short_rate_data_table[i,5] = multiperiod\n",
    "    short_rate_data_table[i,6] = effective\n",
    "    \n",
    "    Tₒ = zc_model.T\n",
    "end\n",
    "pretty_table(short_rate_data_table, header=short_rate_header_table, tf = tf_html_default)"
   ]
  }
 ],
 "metadata": {
  "kernelspec": {
   "display_name": "Julia 1.9.1",
   "language": "julia",
   "name": "julia-1.9"
  },
  "language_info": {
   "file_extension": ".jl",
   "mimetype": "application/julia",
   "name": "julia",
   "version": "1.9.1"
  }
 },
 "nbformat": 4,
 "nbformat_minor": 5
}
