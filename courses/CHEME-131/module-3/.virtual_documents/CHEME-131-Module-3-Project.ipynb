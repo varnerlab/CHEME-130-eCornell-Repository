





include("Include.jl");





dataset = MyTreasuryNotesAndBondsDataSet();





number_of_notes_and_bonds = nrow(dataset)
selected_bond_index = rand(1:number_of_notes_and_bonds);
random_note_or_bond = dataset[selected_bond_index,:]





# Build a discrete compounding model -
discrete_compounding = DiscreteCompoundingModel();





Vₚ = 100.0; # face value of the note or bond
T = random_note_or_bond[Symbol("Security Term")] |> String |> securityterm; # term as a Float64
r̄ = random_note_or_bond[Symbol("High Yield")]; # Effective discount rate
c = random_note_or_bond[Symbol("Interest Rate")]; # Interest rate (coupon rate)
λ = 2; # number of coupon payments per year





# Build a T-year model and compute the price using the short-hand syntax
model = build(MyUSTreasuryCouponSecurityModel, (
            par = Vₚ, T = T, rate = r̄, coupon = c, λ = λ
        )) |> discrete_compounding;

nominal_computed_price = model.price;





strips = VLQuantitativeFinancePackage.strip(model);





θ₁, θ₂, β = 0.01, 0.002, 1.0;
number_of_zc_bonds = length(strips)
for i ∈ 1:number_of_zc_bonds

    ### BEGIN SOLUTION
    zc_model = strips[i];
    zc_model.rate = θ₁ + θ₂*(i-1)^β
    zc_model = price(zc_model, discrete_compounding)
    ### END SOLUTION
end





number_of_strips = length(strips);
number_of_strips_to_view = number_of_strips ≥ 10 ? 10 : number_of_strips
strips_table_data_array = Array{Any,2}(undef, number_of_strips, 6);
strips_table_header_array = (["", "Maturity","Face","Price","r̄", "Discount"],
    ["","YR","USD","USD","", "price/face"]);
for i ∈ 1:number_of_strips

    zc_model = strips[i];
    strips_table_data_array[i,1] = i
    strips_table_data_array[i,2] = zc_model.T
    strips_table_data_array[i,3] = zc_model.par
    strips_table_data_array[i,4] = zc_model.price
    strips_table_data_array[i,5] = zc_model.rate  
    strips_table_data_array[i,6] = (zc_model.price/zc_model.par)
end
pretty_table(strips_table_data_array[1:number_of_strips_to_view,1:end], 
    header=strips_table_header_array, tf = tf_simple)





resale_total = sum(strips_table_data_array[:,4]);
println("Purchased bond $(selected_bond_index) for $(round(nominal_computed_price,digits=3)) USD, stripped and resold it for $(round(resale_total, digits=3)) USD")



