





include("Include.jl");





dataset = MyTreasuryNotesAndBondsDataSet();





number_of_notes_and_bonds = nrow(dataset)
random_note_or_bond = dataset[rand(1:number_of_notes_and_bonds),:]





# Build a discrete compounding model -
discrete_compounding = DiscreteCompoundingModel();





Vₚ = 100.0; # face value of the note or bond
T = random_note_or_bond[Symbol("Security Term")] |> String |> securityterm; # term as a Float64
r̄ = random_note_or_bond[Symbol("High Yield")]; # Effective discount rate
c = random_note_or_bond[Symbol("Interest Rate")]; # Interest rate (coupon rate)
λ = 2; # number of coupon payments per year





# Build a T-year model and compute the price using the short-hand syntax
model = build(MyUSTreasuryCouponSecurityModel, (
            par = Vₚ, T = T, rate = r̄, coupon = c, λ = λ
        )) |> discrete_compounding;

nominal_computed_price = model.price;





strips = VLQuantitativeFinancePackage.strip(model);



