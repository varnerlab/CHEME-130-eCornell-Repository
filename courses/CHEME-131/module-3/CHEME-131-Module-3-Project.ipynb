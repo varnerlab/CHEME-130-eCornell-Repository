{
 "cells": [
  {
   "cell_type": "markdown",
   "id": "16d815bb-e4bb-4ea3-a8c4-d429edd91bde",
   "metadata": {},
   "source": [
    "# Project: Evaluate another STRIPS Pricing Scheme\n",
    "In this project, students will evaluate another pricing scheme for the [Registered Interest and Principal of Securities (STRIPS)](https://www.treasurydirect.gov/marketable-securities/strips/) bonds.\n",
    "\n",
    "## Learning objectives\n",
    "Fill me in"
   ]
  },
  {
   "cell_type": "markdown",
   "id": "12472d94-166c-4f63-86bb-d510b32940dc",
   "metadata": {},
   "source": [
    "## Setup\n",
    "We set up the computational environment by including the `Include.jl` file. The `Include.jl` file loads external packages, various functions we will use in the exercise, and custom types to model the components of our example problem.\n",
    "* For additional information on functions and types used in this material, see the [Julia programming language documentation](https://docs.julialang.org/en/v1/) and the [VLQuantitativeFinancePackage.jl documentation](https://github.com/varnerlab/VLQuantitativeFinancePackage.jl)."
   ]
  },
  {
   "cell_type": "code",
   "execution_count": 1,
   "id": "ee0195a5-4c69-4b9f-adbe-4f6d66cbf151",
   "metadata": {},
   "outputs": [
    {
     "name": "stderr",
     "output_type": "stream",
     "text": [
      "\u001b[32m\u001b[1m    Updating\u001b[22m\u001b[39m git-repo `https://github.com/varnerlab/VLQuantitativeFinancePackage.jl.git`\n",
      "\u001b[32m\u001b[1m   Resolving\u001b[22m\u001b[39m package versions...\n",
      "\u001b[32m\u001b[1m  No Changes\u001b[22m\u001b[39m to `~/Desktop/julia_work/CHEME-130-eCornell-Repository/courses/CHEME-131/module-3/Project.toml`\n",
      "\u001b[32m\u001b[1m  No Changes\u001b[22m\u001b[39m to `~/Desktop/julia_work/CHEME-130-eCornell-Repository/courses/CHEME-131/module-3/Manifest.toml`\n",
      "\u001b[32m\u001b[1m  Activating\u001b[22m\u001b[39m project at `~/Desktop/julia_work/CHEME-130-eCornell-Repository/courses/CHEME-131/module-3`\n",
      "\u001b[32m\u001b[1m  No Changes\u001b[22m\u001b[39m to `~/Desktop/julia_work/CHEME-130-eCornell-Repository/courses/CHEME-131/module-3/Project.toml`\n",
      "\u001b[32m\u001b[1m  No Changes\u001b[22m\u001b[39m to `~/Desktop/julia_work/CHEME-130-eCornell-Repository/courses/CHEME-131/module-3/Manifest.toml`\n",
      "\u001b[32m\u001b[1m    Updating\u001b[22m\u001b[39m registry at `~/.julia/registries/General.toml`\n",
      "\u001b[32m\u001b[1m    Updating\u001b[22m\u001b[39m git-repo `https://github.com/varnerlab/VLQuantitativeFinancePackage.jl.git`\n",
      "\u001b[32m\u001b[1m  No Changes\u001b[22m\u001b[39m to `~/Desktop/julia_work/CHEME-130-eCornell-Repository/courses/CHEME-131/module-3/Project.toml`\n",
      "\u001b[32m\u001b[1m  No Changes\u001b[22m\u001b[39m to `~/Desktop/julia_work/CHEME-130-eCornell-Repository/courses/CHEME-131/module-3/Manifest.toml`\n"
     ]
    }
   ],
   "source": [
    "include(\"Include.jl\");"
   ]
  },
  {
   "cell_type": "markdown",
   "id": "d4ba0492-0001-4007-a6c0-f35de48f8d17",
   "metadata": {},
   "source": [
    "## Prerequisite: Load the Treasury auction dataset\n",
    "We'll explore `T-note` and `T-bond` prices from United States Treasury auctions between October 2022 and August 2023 downloaded as a `CSV` file using the [Auction query functionality of TreasuryDirect.gov](https://www.treasurydirect.gov/auctions/auction-query/). \n",
    "* We load the `CSV` dataset using the `MyTreasuryNotesAndBondsDataSet()` function, which returns the auction data as a `DataFrame`. We store the auction data in the `dataset`"
   ]
  },
  {
   "cell_type": "code",
   "execution_count": 2,
   "id": "7c93259c-58d3-4d79-a06f-2c2e62725fa6",
   "metadata": {},
   "outputs": [],
   "source": [
    "dataset = MyTreasuryNotesAndBondsDataSet();"
   ]
  },
  {
   "cell_type": "markdown",
   "id": "46d9e21f-45a1-4763-832b-058c5e1c61d5",
   "metadata": {},
   "source": [
    "## Objective 1: Select a random note or bond and generate STRIPS\n",
    "We'll select a random note or bond, compute its price, compare it to the auction price (to `check` our price codes), and then `strip` the selected note or bond.\n",
    "* First, determine how many notes and bonds we have in the `dataset` using the [nrow function](https://dataframes.juliadata.org/stable/lib/functions/#DataAPI.nrow) that is exported by the [DataFrames.jl package](https://github.com/JuliaData/DataFrames.jl). Then, compute a random index using the [built-in Julia rand function](https://docs.julialang.org/en/v1/stdlib/Random/). Store the auction data for the random note or bond in the `random_note_or_bond` variable"
   ]
  },
  {
   "cell_type": "code",
   "execution_count": 3,
   "id": "ab92795f-6dee-4bbd-b0c5-9ccb9d695c00",
   "metadata": {},
   "outputs": [
    {
     "data": {
      "text/html": [
       "<div><div style = \"float: left;\"><span>DataFrameRow (9 columns)</span></div><div style = \"clear: both;\"></div></div><div class = \"data-frame\" style = \"overflow-x: scroll;\"><table class = \"data-frame\" style = \"margin-bottom: 6px;\"><thead><tr class = \"header\"><th class = \"rowLabel\" style = \"font-weight: bold; text-align: right;\">Row</th><th style = \"text-align: left;\">CUSIP</th><th style = \"text-align: left;\">Security Type</th><th style = \"text-align: left;\">Security Term</th><th style = \"text-align: left;\">Auction Date</th><th style = \"text-align: left;\">Issue Date</th><th style = \"text-align: left;\">Maturity Date</th><th style = \"text-align: left;\">Price</th><th style = \"text-align: left;\">High Yield</th><th style = \"text-align: left;\">Interest Rate</th></tr><tr class = \"subheader headerLastRow\"><th class = \"rowLabel\" style = \"font-weight: bold; text-align: right;\"></th><th title = \"String15\" style = \"text-align: left;\">String15</th><th title = \"String7\" style = \"text-align: left;\">String7</th><th title = \"String7\" style = \"text-align: left;\">String7</th><th title = \"String15\" style = \"text-align: left;\">String15</th><th title = \"String15\" style = \"text-align: left;\">String15</th><th title = \"String15\" style = \"text-align: left;\">String15</th><th title = \"Float64\" style = \"text-align: left;\">Float64</th><th title = \"Float64\" style = \"text-align: left;\">Float64</th><th title = \"Float64\" style = \"text-align: left;\">Float64</th></tr></thead><tbody><tr><td class = \"rowLabel\" style = \"font-weight: bold; text-align: right;\">4</td><td style = \"text-align: left;\">912810TU2</td><td style = \"text-align: left;\">Bond</td><td style = \"text-align: left;\">20-Year</td><td style = \"text-align: left;\">08/23/2023</td><td style = \"text-align: left;\">08/31/2023</td><td style = \"text-align: left;\">08/15/2043</td><td style = \"text-align: right;\">98.3742</td><td style = \"text-align: right;\">0.04499</td><td style = \"text-align: right;\">0.04375</td></tr></tbody></table></div>"
      ],
      "text/latex": [
       "\\begin{tabular}{r|ccccccc}\n",
       "\t& CUSIP & Security Type & Security Term & Auction Date & Issue Date & Maturity Date & \\\\\n",
       "\t\\hline\n",
       "\t& String15 & String7 & String7 & String15 & String15 & String15 & \\\\\n",
       "\t\\hline\n",
       "\t4 & 912810TU2 & Bond & 20-Year & 08/23/2023 & 08/31/2023 & 08/15/2043 & $\\dots$ \\\\\n",
       "\\end{tabular}\n"
      ],
      "text/plain": [
       "\u001b[1mDataFrameRow\u001b[0m\n",
       "\u001b[1m Row \u001b[0m│\u001b[1m CUSIP     \u001b[0m\u001b[1m Security Type \u001b[0m\u001b[1m Security Term \u001b[0m\u001b[1m Auction Date \u001b[0m\u001b[1m Issue Date \u001b[0m\u001b[1m Matu\u001b[0m ⋯\n",
       "     │\u001b[90m String15  \u001b[0m\u001b[90m String7       \u001b[0m\u001b[90m String7       \u001b[0m\u001b[90m String15     \u001b[0m\u001b[90m String15   \u001b[0m\u001b[90m Stri\u001b[0m ⋯\n",
       "─────┼──────────────────────────────────────────────────────────────────────────\n",
       "   4 │ 912810TU2  Bond           20-Year        08/23/2023    08/31/2023  08/1 ⋯\n",
       "\u001b[36m                                                               4 columns omitted\u001b[0m"
      ]
     },
     "execution_count": 3,
     "metadata": {},
     "output_type": "execute_result"
    }
   ],
   "source": [
    "number_of_notes_and_bonds = nrow(dataset)\n",
    "selected_bond_index = rand(1:number_of_notes_and_bonds);\n",
    "random_note_or_bond = dataset[selected_bond_index,:]"
   ]
  },
  {
   "cell_type": "markdown",
   "id": "916f830d-e6f9-498f-9dee-f0a901c41484",
   "metadata": {},
   "source": [
    "Next, instantiate a discrete compounding model, and store this model in the `discrete_compounding` variable:"
   ]
  },
  {
   "cell_type": "code",
   "execution_count": 4,
   "id": "dcdfdeb2-f967-4270-8938-1b855edd44b8",
   "metadata": {},
   "outputs": [],
   "source": [
    "# Build a discrete compounding model -\n",
    "discrete_compounding = DiscreteCompoundingModel();"
   ]
  },
  {
   "cell_type": "markdown",
   "id": "d399f8ac-aa41-414c-9e83-662ed7fe7cc1",
   "metadata": {},
   "source": [
    "Get the parameters from `random_note_or_bond` variable to test our price calculation. \n",
    "* In particular, we set the face (par) value `Vₚ,` the duration `T` (which we convert to the number of years using the `securityterm` function), the yield field, i.e., the $\\bar{r}$ value in the discount rate, the coupon rate $c$ and the number of coupon payments per year `λ`."
   ]
  },
  {
   "cell_type": "code",
   "execution_count": 5,
   "id": "43481401-be2f-47c7-975c-cf3688d622bc",
   "metadata": {},
   "outputs": [],
   "source": [
    "Vₚ = 100.0; # face value of the note or bond\n",
    "T = random_note_or_bond[Symbol(\"Security Term\")] |> String |> securityterm; # term as a Float64\n",
    "r̄ = random_note_or_bond[Symbol(\"High Yield\")]; # Effective discount rate\n",
    "c = random_note_or_bond[Symbol(\"Interest Rate\")]; # Interest rate (coupon rate)\n",
    "λ = 2; # number of coupon payments per year"
   ]
  },
  {
   "cell_type": "markdown",
   "id": "57a5454e-18df-4fe4-a3d2-2dd3a551627d",
   "metadata": {},
   "source": [
    "Finally,  compute the price of the note (or bond) using the short-cut syntax and the discount model. We store the populated note or bond in the `model` variable, and the computed price in the `nominal_computed_price` (the `price` field on the `model`):"
   ]
  },
  {
   "cell_type": "code",
   "execution_count": 6,
   "id": "1c5af174-64c0-4bf1-b2e9-5e039bd7bfc8",
   "metadata": {},
   "outputs": [],
   "source": [
    "# Build a T-year model and compute the price using the short-hand syntax\n",
    "model = build(MyUSTreasuryCouponSecurityModel, (\n",
    "            par = Vₚ, T = T, rate = r̄, coupon = c, λ = λ\n",
    "        )) |> discrete_compounding;\n",
    "\n",
    "nominal_computed_price = model.price;"
   ]
  },
  {
   "cell_type": "markdown",
   "id": "b1dd7c74-34d9-4c12-ba61-4b879345cc41",
   "metadata": {},
   "source": [
    "### TODO: Strip the note or bond to create a collection of zero-coupon payments\n",
    "Generate a dictionary of zero-coupon bond models for a `MyUSTreasuryCouponSecurityModel` using the `strip(...)` function exported by the [VLQuantitativeFinancePackage.jl package](https://github.com/varnerlab/VLQuantitativeFinancePackage.jl) \n",
    "* The resulting `strips` dictionary stores the generated bonds in order of duration, with their indexes serving as keys and the corresponding `MyUSTreasuryZeroCouponBondModel` instances as values. "
   ]
  },
  {
   "cell_type": "code",
   "execution_count": 7,
   "id": "4642f919-9077-4dc4-bf3b-d1e822a05d3f",
   "metadata": {},
   "outputs": [],
   "source": [
    "strips = VLQuantitativeFinancePackage.strip(model);"
   ]
  },
  {
   "cell_type": "markdown",
   "id": "64ff4e81-b552-4857-9e04-3c035bd923e4",
   "metadata": {},
   "source": [
    "## Objective 2: Evaluate new STRIPS pricing approach\n",
    "Let's develop a new pricing approach for STRIPS. Suppose the yield we are willing to sell the bond is given by:\n",
    "$$\n",
    "\\bar{r}_{i} = \\theta_{1}+\\theta_{2}\\cdot\\left(i-1\\right)^{\\beta}\n",
    "$$\n",
    "where $i$ denotes the STRIPS index, $\\theta_{1}$ denotes the interest rate for the shortest term bond, $\\theta_{2}$ governs how fast the rate escalates for each pass of the loop, i.e., for each bond of longer maturity that we sell, and $\\beta$ is a sensitivity parameter.\n",
    "* Because $\\theta_{1}\\geq{0}$ and $\\theta_{2}\\geq{0}$, this scheme will give a standard yield curve $\\bar{r}_{i}\\leq\\bar{r}_{i+1}$, i.e., longer-term maturity will have a higher-yield compared to shorter-term bonds."
   ]
  },
  {
   "cell_type": "code",
   "execution_count": 8,
   "id": "e53713c3-c926-4205-bc4f-bfadebc349c8",
   "metadata": {},
   "outputs": [],
   "source": [
    "θ₁, θ₂, β = 0.01, 0.001, 1.0;\n",
    "number_of_zc_bonds = length(strips)\n",
    "for i ∈ 1:number_of_zc_bonds\n",
    "\n",
    "    ### BEGIN SOLUTION\n",
    "    zc_model = strips[i];\n",
    "    zc_model.rate = θ₁ + θ₂*(i-1)^β\n",
    "    zc_model = price(zc_model, discrete_compounding)\n",
    "    ### END SOLUTION\n",
    "end"
   ]
  },
  {
   "cell_type": "markdown",
   "id": "a2679501-807f-46a6-bd81-667ea98da9ab",
   "metadata": {},
   "source": [
    "### Visualize the first $m$ STRIPS products\n",
    "`Unhide` the next code cell to see how we build a table displaying the bond price information. \n",
    "* First, specify the `number_of_strips_to_view.` Then, we'll loop through each STRIP and access the respective models from the `strips` dictionary using the bracket notation `strips[i],` where `i` represents the STRIP index. \n",
    "* Next, we'll add pricing, maturity, etc. data to the `strips_table_data_array` and display the resulting table by calling the `pretty_table(…)` function, which is exported by the [PrettyTables.jl package](https://github.com/ronisbr/PrettyTables.jl)"
   ]
  },
  {
   "cell_type": "code",
   "execution_count": 9,
   "id": "9d78ce5f-72fd-4ff7-8df1-880a54452e22",
   "metadata": {
    "jupyter": {
     "source_hidden": true
    }
   },
   "outputs": [
    {
     "name": "stdout",
     "output_type": "stream",
     "text": [
      "===== ========== ======== ========= ======= =============\n",
      " \u001b[1m    \u001b[0m \u001b[1m Maturity \u001b[0m \u001b[1m   Face \u001b[0m \u001b[1m   Price \u001b[0m \u001b[1m     r̄ \u001b[0m \u001b[1m   Discount \u001b[0m\n",
      " \u001b[90m    \u001b[0m \u001b[90m       YR \u001b[0m \u001b[90m    USD \u001b[0m \u001b[90m     USD \u001b[0m \u001b[90m       \u001b[0m \u001b[90m price/face \u001b[0m\n",
      "===== ========== ======== ========= ======= =============\n",
      "   1        0.5   2.1875   2.17662    0.01     0.995025\n",
      "   2        1.0   2.1875   2.15505   0.015     0.985167\n",
      "   3        1.5   2.1875   2.12317    0.02      0.97059\n",
      "   4        2.0   2.1875   2.08146   0.025     0.951524\n",
      "   5        2.5   2.1875   2.03057    0.03      0.92826\n",
      "   6        3.0   2.1875   1.97125   0.035     0.901143\n",
      "   7        3.5   2.1875   1.90435    0.04      0.87056\n",
      "   8        4.0   2.1875    1.8308   0.045     0.836938\n",
      "   9        4.5   2.1875   1.75159    0.05     0.800728\n",
      "  10        5.0   2.1875   1.66775   0.055     0.762398\n",
      "===== ========== ======== ========= ======= =============\n"
     ]
    }
   ],
   "source": [
    "number_of_strips = length(strips);\n",
    "number_of_strips_to_view = number_of_strips ≥ 10 ? 10 : number_of_strips\n",
    "strips_table_data_array = Array{Any,2}(undef, number_of_strips, 6);\n",
    "strips_table_header_array = ([\"\", \"Maturity\",\"Face\",\"Price\",\"r̄\", \"Discount\"],\n",
    "    [\"\",\"YR\",\"USD\",\"USD\",\"\", \"price/face\"]);\n",
    "for i ∈ 1:number_of_strips\n",
    "\n",
    "    zc_model = strips[i];\n",
    "    strips_table_data_array[i,1] = i\n",
    "    strips_table_data_array[i,2] = zc_model.T\n",
    "    strips_table_data_array[i,3] = zc_model.par\n",
    "    strips_table_data_array[i,4] = zc_model.price\n",
    "    strips_table_data_array[i,5] = zc_model.rate  \n",
    "    strips_table_data_array[i,6] = (zc_model.price/zc_model.par)\n",
    "end\n",
    "pretty_table(strips_table_data_array[1:number_of_strips_to_view,1:end], \n",
    "    header=strips_table_header_array, tf = tf_simple)"
   ]
  },
  {
   "cell_type": "markdown",
   "id": "db240846-1990-43c9-893b-e2ab12e1da23",
   "metadata": {},
   "source": [
    "#### Check: How much do we collect from the sale of the STRIPS?\n",
    "In this scenario, we purchased an original instrument from the [United States Treasury](https://www.treasurydirect.gov/) for $V_{B}$, stripped the coupons and face, and resold them. How much did we make from the sale of the STRIPS?"
   ]
  },
  {
   "cell_type": "code",
   "execution_count": 10,
   "id": "1b65651c-62c6-4c0b-b656-4c1b25021d13",
   "metadata": {},
   "outputs": [
    {
     "name": "stdout",
     "output_type": "stream",
     "text": [
      "Purchased bond 4 for 98.376 USD, stripped and resold it for 38.818 USD\n"
     ]
    }
   ],
   "source": [
    "resale_total = sum(strips_table_data_array[:,4]);\n",
    "println(\"Purchased bond $(selected_bond_index) for $(round(nominal_computed_price,digits=3)) USD, stripped and resold it for $(round(resale_total, digits=3)) USD\")"
   ]
  },
  {
   "cell_type": "markdown",
   "id": "2a810e06-5606-413b-b81f-d86e86b7eb14",
   "metadata": {},
   "source": [
    "## Disclaimer and Risks\n",
    "__This content is offered solely for training and informational purposes__. No offer or solicitation to buy or sell securities or derivative products or any investment or trading advice or strategy is made, given, or endorsed by the teaching team. \n",
    "\n",
    "__Trading involves risk__. Carefully review your financial situation before investing in securities, futures contracts, options, or commodity interests. Past performance, whether actual or indicated by historical tests of strategies, is no guarantee of future performance or success. Trading is generally inappropriate for someone with limited resources, investment or trading experience, or a low-risk tolerance.  Only risk capital that is not required for living expenses.\n",
    "\n",
    "__You are fully responsible for any investment or trading decisions you make__. Such decisions should be based solely on evaluating your financial circumstances, investment or trading objectives, risk tolerance, and liquidity needs."
   ]
  }
 ],
 "metadata": {
  "kernelspec": {
   "display_name": "Julia 1.10.2",
   "language": "julia",
   "name": "julia-1.10"
  },
  "language_info": {
   "file_extension": ".jl",
   "mimetype": "application/julia",
   "name": "julia",
   "version": "1.10.2"
  }
 },
 "nbformat": 4,
 "nbformat_minor": 5
}
