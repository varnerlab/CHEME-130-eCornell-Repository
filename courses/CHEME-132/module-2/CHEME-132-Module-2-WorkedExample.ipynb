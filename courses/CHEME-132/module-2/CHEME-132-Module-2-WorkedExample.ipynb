{
 "cells": [
  {
   "cell_type": "markdown",
   "id": "6017758d-de81-47c7-bef2-ebe2f23e7a42",
   "metadata": {},
   "source": [
    "# Example: Ordinary Brownian Motion (OBM) Simulation of Historical Price Data\n",
    "\n",
    "## Background\n",
    "Ordinary Brownian Motion (OBM) is a continuous-time stochastic process model in which the random variable $S(t)$, e.g., the share price at time $t$ of an  equity with ticker`XYZ` denoted by $S(t)$, is described by a deterministic drift corrupted by a [Wiener noise process](https://en.wikipedia.org/wiki/Wiener_process):\n",
    "\n",
    "$$dS = {\\mu}dt + \\sigma{dW}$$\n",
    "\n",
    "The constant $\\mu$ denotes a drift parameter, $\\sigma$ indicates a volatility parameter, and $dW$ represents the output of a [Wiener process](https://en.wikipedia.org/wiki/Wiener_process).  Using [Ito's lemma](https://en.wikipedia.org/wiki/Itô%27s_lemma), we can formulate an analytical solution to the OBM equation:\n",
    "\n",
    "$$S(t) = S_{\\circ}\\exp\\Biggl[\\left(\\mu-\\frac{\\sigma^{2}}{2}\\right)\\left(t - t_{\\circ}\\right) + (\\sigma\\sqrt{t-t_{\\circ}})Z(0,1)\\Biggr]$$\n",
    "\n",
    "where $S_{\\circ}$ denotes the sharte price at $t_{\\circ}$, and $Z(0,1)$ denotes a [standard normal random variable](https://en.wikipedia.org/wiki/Normal_distribution#Standard_normal_distribution). "
   ]
  }
 ],
 "metadata": {
  "kernelspec": {
   "display_name": "Julia 1.9.1",
   "language": "julia",
   "name": "julia-1.9"
  },
  "language_info": {
   "file_extension": ".jl",
   "mimetype": "application/julia",
   "name": "julia",
   "version": "1.9.1"
  }
 },
 "nbformat": 4,
 "nbformat_minor": 5
}
