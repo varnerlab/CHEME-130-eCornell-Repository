





include("Include.jl");





original_dataset = MyMarketDataSet() |> x-> x["dataset"];





maximum_number_trading_days = original_dataset["AAPL"] |> nrow;





dataset = Dict{String,DataFrame}();
for (ticker,data) ∈ original_dataset
    if (nrow(data) == maximum_number_trading_days)
        dataset[ticker] = data;
    end
end
dataset;





list_of_all_firms = keys(dataset) |> collect |> sort;





Δt = (1.0/252.0);
T = 48;
all_range = range(1,stop=maximum_number_trading_days,step=1) |> collect;








log_growth_array = log_return_matrix(dataset, list_of_all_firms);





return_classification_dictionary = Dict{String, Symbol}();
p_value_cutoff = 0.00001;
for i ∈ eachindex(list_of_all_firms)
    
    ticker = list_of_all_firms[i];
    samples = log_growth_array[:,i];
    
    d_normal = fit_mle(Normal, samples)
    d_laplace = fit_mle(Laplace, samples)

    AD_test_result = OneSampleADTest(samples,d_normal) |> pvalue
    if (AD_test_result > p_value_cutoff) # support H0
        return_classification_dictionary[ticker] = :normal
    else
        KS_test_result_laplace = ExactOneSampleKSTest(samples, d_laplace) |> pvalue
        AD_test_result_laplace = OneSampleADTest(samples,d_laplace) |> pvalue
        if (KS_test_result_laplace > p_value_cutoff && AD_test_result_laplace > p_value_cutoff)
            return_classification_dictionary[ticker] = :laplace
        else
            return_classification_dictionary[ticker] = :undefined
        end
    end
end
return_classification_dictionary;





fraction_normal = findall(x->x==:normal, return_classification_dictionary) |> length |> 
    x -> x/length(list_of_all_firms) |> x-> round(x,digits=3) |> x-> *(x,100.0)
println("Approximately $(fraction_normal)% of the firms in the dataset have Normally distributed returns")


fraction_laplace = findall(x->x==:laplace, return_classification_dictionary) |> length |> 
    x -> x/length(list_of_all_firms) |> x-> round(x,digits=3) |> x-> *(x,100.0)
println("Approximately $(fraction_laplace)% of the firms in the dataset have Laplace distributed returns")


fraction_undefined = findall(x->x==:undefined, return_classification_dictionary) |> length |> 
    x -> x/length(list_of_all_firms) |> x-> round(x,digits=3) |> x-> *(x,100.0)
println("Approximately $(fraction_undefined)% of the firms in the dataset have undefined returned distributions")








parameters_df = CSV.read(joinpath(_PATH_TO_DATA,"Parameters-SP500-2018-2023.csv"), DataFrame);


SPY_parameters = findfirst(x->x=="SPY", parameters_df[:,:ticker]) |> i-> parameters_df[i,:]





μ̂ = SPY_parameters[:drift];
σ̂ = SPY_parameters[:volatility];


return_analytical_model = Normal((μ̂ - (σ̂^2)/2) ,σ̂)





SPY_dataset = dataset["SPY"] |> x-> filter(:timestamp => y -> y ≥ Date(2023,01,01), x);


nrow(SPY_dataset)


model = build(MyGeometricBrownianMotionEquityModel, (
            μ = μ̂, σ = σ̂ ));

number_of_samples = 5000;
Sₒ = SPY_dataset[1, :volume_weighted_average_price];
T₁ = 0*Δt
T₂ = (nrow(SPY_dataset)-1)*Δt
X = VLQuantitativeFinancePackage.sample(model, (Sₒ = Sₒ, T₁ = T₁, T₂ = T₂, Δt = Δt), 
    number_of_paths = number_of_samples);


size(X)


return_numerical_model = Array{Float64,1}()
for i ∈ 1:number_of_samples
    Sₒ = X[1,i+1];
    S₁ = X[end,i+1];
    r = log(S₁/Sₒ)
    push!(return_numerical_model,r)
end


plot(return_analytical_model, label="Analytical SPY", lw=2)
density!(return_numerical_model, label="GBM SPY N=$(number_of_samples) samples",lw=2)
xlabel!("Annualized return SPY (AU)",fontsize=18)
ylabel!("Density (AU)", fontsize=18)





annualized_daily_growth_array_GBM_SPY = Array{Float64,2}(undef, nrow(SPY_dataset)-1, number_of_samples)
for i ∈ 1:number_of_samples
    for k ∈ 2:nrow(SPY_dataset)
        Sₒ = X[k-1,i+1];
        S₁ = X[k,i+1];
        annualized_daily_growth_array_GBM_SPY[k-1,i] = log(S₁/Sₒ);
    end
end
annualized_daily_growth_array_GBM_SPY;


annualized_daily_return_data_SPY = log_return_matrix(Dict("WFC"=>SPY_dataset), ["WFC"], testfirm="WFC");


L = length(annualized_daily_return_data_SPY);
τ  = range(0,step=1,stop=(L-1));
AC_model = autocor(annualized_daily_growth_array_GBM_SPY[:,1], τ); # function provided by the StatsBase package
AC_data = autocor(annualized_daily_return_data_SPY, τ); # function provided by the StatsBase package


Δ = 1.96/sqrt(L)
plot(AC_data, lw=2, label="SPY 2023 daily data")
plot!(AC_model, lw=2, c=:red,label="SPY 2023 model data")
plot!(Δ*ones(L),lw=2,c=:gray69,ls=:dash, label="±95% CI")
plot!(-Δ*ones(L),lw=2,c=:gray69,ls=:dash, label="")
xlabel!("Lag parameter (days)",fontsize=18)
ylabel!("Autocorrelation", fontsize=18)



