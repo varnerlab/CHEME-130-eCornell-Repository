





include("Include.jl");





model = build(MyHestonModel, (
    μ = (x,t) -> 0.28,
    κ = (x,t) -> 50.0,
    θ = (x,t) -> 0.20,
    ξ = (x,t) -> 0.05,
    Σ = diagm(ones(2)) # diagonal
));





κ = model.κ(0,0);
θ = model.θ(0,0);
ξ = model.ξ(0,0);
@assert (2*κ*θ) > ξ^2





initialcondition = [100.0, 0.20];
N = 500;
tspan = (start = 0.0, stop = 125/252, step = 1/252); # start, stop, step, measured in trading days





(T,X,V) = solve(model, tspan, initialcondition, N = N);








p = plot();
N_σ = 1.96;
mean_sim = mean(X,dims=2)
mean_std = std(X,dims=2)
L = mean_sim .- N_σ*(mean_std)
U = mean_sim .+ N_σ*(mean_std)
plot!(T,X, label="", c="gray40", legend=:topleft, lw=1, bg="gray95", background_color_outside="white", 
    framestyle = :box, fg_legend = :transparent, alpha=0.15)
plot!(T, mean_sim,c="green", fillrange=U, fillalpha = 0.5, lw=2, label="")
plot!(T, mean_sim,c="red", fillrange=L, fillalpha = 0.5, lw=2, label="")
plot!(T, mean_sim,c=:black,lw=3,label="Expected μ(t)")
xlabel!("Time (years)", fontsize=18)
ylabel!("Share price of XYZ (USD/share)", fontsize=18)





let 
    p = plot();
    N_σ = 1.96;
    mean_sim = mean(V,dims=2)
    mean_std = std(V,dims=2)
    L = mean_sim .- N_σ*(mean_std)
    U = mean_sim .+ N_σ*(mean_std)
    plot!(T,V, label="", c="gray40", legend=:topright, lw=1, bg="gray95", background_color_outside="white", 
        framestyle = :box, fg_legend = :transparent, alpha=0.15)
    plot!(T, mean_sim,c="green", fillrange=U, fillalpha = 0.5, lw=2, label="")
    plot!(T, mean_sim,c="red", fillrange=L, fillalpha = 0.5, lw=2, label="")
    plot!(T, mean_sim,c=:black,lw=3,label="Expected volatility θ(t)")
    xlabel!("Time (years)", fontsize=18)
    ylabel!("Volatility of XYZ (USD/share)", fontsize=18)
end






