{
 "cells": [
  {
   "cell_type": "markdown",
   "id": "fab3dde7-236f-4b2b-a228-96cf50b7d4fb",
   "metadata": {},
   "source": [
    "# Example: Simultaneous Price and Volatility Simulation using the Heston Model\n",
    "This example will familiarize students with computing the price and volatility of equity shares, i.e., shares of stock in a firm `XYZ` using the [Heston model](https://en.wikipedia.org/wiki/Heston_model). In the [Heston model](https://en.wikipedia.org/wiki/Heston_model), the price $X(t)$ is governed by:\n",
    "\\begin{equation}\n",
    "dX = \\mu{X}dt + \\left(\\sqrt{\\nu}\\right)X{dW}^{X}\n",
    "\\end{equation}\n",
    "while the evolution of the volatility parameter $\\nu$ is governed by a separate [Cox-Ingersoll-Ross (CIR)](https://en.wikipedia.org/wiki/Cox-Ingersoll-Ross_model) process:\n",
    "\\begin{equation}\n",
    "d\\nu = \\kappa\\left(\\theta - \\nu\\right)dt +\\left(\\xi\\sqrt{\\nu}\\right)dW^{\\nu}\n",
    "\\end{equation}\n",
    "where $\\mu$ is the long-term drift (return growth rate), \n",
    "$\\kappa$ is the rate of mean reversion for the volatility parameter,\n",
    "$\\theta$ is the long-term volatility, and $\\xi$ is the volatility of the volatility parameter.\n",
    "Finally, each equation of the [Heston model](https://en.wikipedia.org/wiki/Heston_model) \n",
    "is driven by a separate (potentially) correlated Weiner noise process, labeled $dW^{X}$ and $dW^{\\nu}$, respectively.\n",
    "\n",
    "### Discrete model\n",
    "The [Euler-Maruyama](https://en.wikipedia.org/wiki/Euler%E2%80%93Maruyama_method) discretization of the [Heston model](https://en.wikipedia.org/wiki/Heston_model) gives \n",
    "price and volatility equations of the form:\n",
    "\\begin{eqnarray*}\n",
    "X_{k+1} & = & X_{k} + \\mu{X_{k}}h + \\left(\\sqrt{\\nu_{k}h}\\right)X_{k}Z^{X}(0,\\Sigma)\\\\\n",
    "\\nu_{k+1} & = & \\nu_{k} + \\kappa\\left(\\theta - \\nu_{k}\\right)h + \\left(\\xi\\sqrt{\\nu_{k}h}\\right)Z^{\\nu}(0,\\Sigma)\n",
    "\\end{eqnarray*}\n",
    "where the price and volatility noise processes $Z^{X}$ and $Z^{\\nu}$ are samples \n",
    "from a multivariate normal distribution with mean zero and a covariance matrix $\\Sigma$.\n",
    "The covariance matrix $\\Sigma$ has entries $\\Sigma_{ij}=\\sigma_{i}\\sigma_{j}\\rho_{ij}$, where \n",
    "$\\sigma_{i}$ and $\\sigma_{j}$ are the standard deviations of the individual noise processes,\n",
    "and $\\rho_{ij}$ is the correlation coefficient between the noise processes."
   ]
  },
  {
   "cell_type": "markdown",
   "id": "4eb375f4-78b6-4913-95db-3e0dca4e5a30",
   "metadata": {},
   "source": [
    "## Setup\n",
    "We set up the computational environment by including the `Include.jl` file. The `Include.jl` file loads external packages, various functions we will use in the exercise, and custom types to model the components of our example."
   ]
  },
  {
   "cell_type": "code",
   "execution_count": 1,
   "id": "dffb6e07-842a-4dfc-979d-0b7c68a539fc",
   "metadata": {},
   "outputs": [
    {
     "name": "stderr",
     "output_type": "stream",
     "text": [
      "\u001b[32m\u001b[1m    Updating\u001b[22m\u001b[39m git-repo `https://github.com/varnerlab/VLQuantitativeFinancePackage.jl.git`\n",
      "\u001b[32m\u001b[1m   Resolving\u001b[22m\u001b[39m package versions...\n",
      "\u001b[32m\u001b[1m  No Changes\u001b[22m\u001b[39m to `~/Desktop/julia_work/CHEME-130-eCornell-Repository/courses/CHEME-132/module-2/Project.toml`\n",
      "\u001b[32m\u001b[1m  No Changes\u001b[22m\u001b[39m to `~/Desktop/julia_work/CHEME-130-eCornell-Repository/courses/CHEME-132/module-2/Manifest.toml`\n",
      "\u001b[32m\u001b[1m  Activating\u001b[22m\u001b[39m project at `~/Desktop/julia_work/CHEME-130-eCornell-Repository/courses/CHEME-132/module-2`\n",
      "\u001b[32m\u001b[1m  No Changes\u001b[22m\u001b[39m to `~/Desktop/julia_work/CHEME-130-eCornell-Repository/courses/CHEME-132/module-2/Project.toml`\n",
      "\u001b[32m\u001b[1m  No Changes\u001b[22m\u001b[39m to `~/Desktop/julia_work/CHEME-130-eCornell-Repository/courses/CHEME-132/module-2/Manifest.toml`\n",
      "\u001b[32m\u001b[1m    Updating\u001b[22m\u001b[39m registry at `~/.julia/registries/General.toml`\n",
      "\u001b[32m\u001b[1m    Updating\u001b[22m\u001b[39m git-repo `https://github.com/varnerlab/VLQuantitativeFinancePackage.jl.git`\n",
      "\u001b[32m\u001b[1m   Installed\u001b[22m\u001b[39m Glib_jll ─ v2.80.2+0\n",
      "\u001b[32m\u001b[1m   Installed\u001b[22m\u001b[39m JuMP ───── v1.22.0\n",
      "\u001b[32m\u001b[1m  No Changes\u001b[22m\u001b[39m to `~/Desktop/julia_work/CHEME-130-eCornell-Repository/courses/CHEME-132/module-2/Project.toml`\n",
      "\u001b[32m\u001b[1m    Updating\u001b[22m\u001b[39m `~/Desktop/julia_work/CHEME-130-eCornell-Repository/courses/CHEME-132/module-2/Manifest.toml`\n",
      "  \u001b[90m[4076af6c] \u001b[39m\u001b[93m↑ JuMP v1.21.1 ⇒ v1.22.0\u001b[39m\n",
      "  \u001b[90m[7746bdde] \u001b[39m\u001b[93m↑ Glib_jll v2.80.0+0 ⇒ v2.80.2+0\u001b[39m\n",
      "\u001b[32m\u001b[1mPrecompiling\u001b[22m\u001b[39m project...\n",
      "\u001b[32m  ✓ \u001b[39m\u001b[90mGlib_jll\u001b[39m\n",
      "\u001b[32m  ✓ \u001b[39m\u001b[90mCairo_jll\u001b[39m\n",
      "\u001b[32m  ✓ \u001b[39m\u001b[90mQt6Base_jll\u001b[39m\n",
      "\u001b[32m  ✓ \u001b[39m\u001b[90mHarfBuzz_jll\u001b[39m\n",
      "\u001b[32m  ✓ \u001b[39m\u001b[90mlibass_jll\u001b[39m\n",
      "\u001b[32m  ✓ \u001b[39m\u001b[90mFFMPEG_jll\u001b[39m\n",
      "\u001b[32m  ✓ \u001b[39m\u001b[90mFFMPEG\u001b[39m\n",
      "\u001b[32m  ✓ \u001b[39m\u001b[90mGR_jll\u001b[39m\n",
      "\u001b[32m  ✓ \u001b[39m\u001b[90mGR\u001b[39m\n",
      "\u001b[32m  ✓ \u001b[39m\u001b[90mJuMP\u001b[39m\n",
      "\u001b[32m  ✓ \u001b[39mVLQuantitativeFinancePackage\n",
      "\u001b[32m  ✓ \u001b[39mPlots\n",
      "\u001b[32m  ✓ \u001b[39m\u001b[90mPlots → FileIOExt\u001b[39m\n",
      "\u001b[32m  ✓ \u001b[39m\u001b[90mPlots → UnitfulExt\u001b[39m\n",
      "\u001b[32m  ✓ \u001b[39mStatsPlots\n",
      "  15 dependencies successfully precompiled in 35 seconds. 269 already precompiled.\n",
      "\u001b[36m\u001b[1m[ \u001b[22m\u001b[39m\u001b[36m\u001b[1mInfo: \u001b[22m\u001b[39mPrecompiling IJuliaExt [2f4121a4-3b3a-5ce6-9c5e-1f2673ce168a]\n"
     ]
    }
   ],
   "source": [
    "include(\"Include.jl\");"
   ]
  },
  {
   "cell_type": "markdown",
   "id": "2ceeb4bd-39fa-4e42-9549-3f7e4aa92129",
   "metadata": {},
   "source": [
    "## Build and Simulate the Heston Model\n",
    "To simulate the [[Heston model](https://en.wikipedia.org/wiki/Heston_model), we first construct a `MyHestonModel` instance using a `build(...)` function. This type holds information about the model parameters, particularly the values of the $(\\mu,\\kappa,\\theta,\\xi)$ and covariance matrix $\\Sigma$:\n",
    "* In our implementation, we allow the $(\\mu,\\kappa,\\theta,\\xi)$ parameters to be updated during the simulation, e.g., to simulate the introduction of a new product by the firm that results in a price shift, or poor macroeconomic conditions which influences volatility, etc.\n",
    "* We have implemented the $(\\mu,\\kappa,\\theta,\\sigma)$ parameters as simple functions that take in the state `x` and time `t` as arguments and return the value of the respective parameter at a time `t.` However, we assume in this example that the covariance matrix $\\Sigma$ is constant.\n",
    "\n",
    "We save the model instance in the variable `model`:"
   ]
  },
  {
   "cell_type": "code",
   "execution_count": null,
   "id": "732815fe-0e09-4dc7-9c59-9ec3b7d83a5b",
   "metadata": {},
   "outputs": [],
   "source": []
  },
  {
   "cell_type": "markdown",
   "id": "1d425afc-ddf3-4979-8539-aa7a1dfbd12a",
   "metadata": {},
   "source": [
    "## Disclaimer and Risks\n",
    "__This content is offered solely for training and informational purposes__. No offer or solicitation to buy or sell securities or derivative products or any investment or trading advice or strategy is made, given, or endorsed by the teaching team. \n",
    "\n",
    "__Trading involves risk__. Carefully review your financial situation before investing in securities, futures contracts, options, or commodity interests. Past performance, whether actual or indicated by historical tests of strategies, is no guarantee of future performance or success. Trading is generally inappropriate for someone with limited resources, investment or trading experience, or a low-risk tolerance.  Only risk capital that is not required for living expenses.\n",
    "\n",
    "__You are fully responsible for any investment or trading decisions you make__. Such decisions should be based solely on evaluating your financial circumstances, investment or trading objectives, risk tolerance, and liquidity needs."
   ]
  },
  {
   "cell_type": "code",
   "execution_count": null,
   "id": "ad9db69c-d65b-48b0-a37f-5d169620d58d",
   "metadata": {},
   "outputs": [],
   "source": []
  }
 ],
 "metadata": {
  "kernelspec": {
   "display_name": "Julia 1.10.3",
   "language": "julia",
   "name": "julia-1.10"
  },
  "language_info": {
   "file_extension": ".jl",
   "mimetype": "application/julia",
   "name": "julia",
   "version": "1.10.3"
  }
 },
 "nbformat": 4,
 "nbformat_minor": 5
}
