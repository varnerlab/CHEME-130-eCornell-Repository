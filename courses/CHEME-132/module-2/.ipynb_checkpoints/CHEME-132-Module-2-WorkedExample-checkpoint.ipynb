{
 "cells": [
  {
   "cell_type": "markdown",
   "id": "4ab2c5d6-8300-4a15-9092-49fdd737ed99",
   "metadata": {},
   "source": [
    "# Example: Single Asset Geometric Brownian Motion (saGBM) Models\n",
    "[Geometric Brownian motion (GBM)](https://en.wikipedia.org/wiki/Geometric_Brownian_motion) is a continuous-time stochastic process model in which the random variable $S(t)$, e.g., the share price of a firm with ticker symbol `XYZ` is described by a deterministic drift corrupted by a [Wiener process](https://en.wikipedia.org/wiki/Wiener_process):\n",
    "\n",
    "$$\n",
    "\\begin{equation}\n",
    "\\frac{dS}{S} = {\\mu}\\,dt + \\sigma\\,{dW}\n",
    "\\end{equation}\n",
    "$$\n",
    "\n",
    "The constant $\\mu$ denotes a drift parameter, i.e., the growth rate, $\\sigma$ is a volatility parameter, and $dW$ represents the output of a [Wiener process](https://en.wikipedia.org/wiki/Wiener_process).  Using [Ito's lemma](https://en.wikipedia.org/wiki/Itô%27s_lemma), we can formulate an analytical solution to the GBM equation for a single asset:\n",
    "\n",
    "$$S(t) = S_{\\circ}\\exp\\Biggl[\\left(\\mu-\\frac{\\sigma^{2}}{2}\\right)\\left(t - t_{\\circ}\\right) + (\\sigma\\sqrt{t-t_{\\circ}})\\cdot{Z_{t}(0,1)}\\Biggr]$$\n",
    "\n",
    "where $S_{\\circ}$ denotes the share price at $t_{\\circ}$, and $Z_{t}(0,1)$ denotes a [standard normal random variable](https://en.wikipedia.org/wiki/Normal_distribution#Standard_normal_distribution) at time $t$.\n",
    "\n",
    "## Learning objectives\n",
    "This example will help students learn to construct and use single-asset geometric Brownian motion (GBM) models. Specifically, we will use historical data to estimate the drift parameters $\\mu$ and $\\sigma$  in the GBM analytical solution. We'll compare the model's share price predictions for different periods to actual market values (in-sample).\n",
    "\n",
    "* __Prerequisite__ (duration 5 min): Break up into teams and familiarize yourself with the lab, its setup, packages, types, functions, etc. Execute the `include(\"Include.jl\")` command and load the data. Report any questions that your group has to the class.\n",
    "* __Objective 1__: Estimate the $\\mu$-parameter for each firm in the dataset.\n",
    "* __Objective 2__: Estimate the $\\sigma$-parameter for each firm in the dataset. \n",
    "* __Objective 3__: Pick a firm and a random period, simulate the share price, and compare the simulation with the observed price.\n",
    "    * `TODO` Build an instance of the `MyGeometricBrownianMotionEquityModel` model, inspect the fields, and ensure you understand them. \n",
    "    * `TODO` Sample the `MyGeometricBrownianMotionEquityModel` using the `sample(...)` function, and compute the `expectation` and `variance` using the analytical GBM expressions."
   ]
  },
  {
   "cell_type": "markdown",
   "id": "cff594ab-471c-4685-a57b-f5acd8efb363",
   "metadata": {
    "jp-MarkdownHeadingCollapsed": true,
    "tags": []
   },
   "source": [
    "## Setup\n",
    "We set up the computational environment by including the `Include.jl` file. The `Include.jl` file loads external packages, various functions we will use in the exercise, and custom types to model the components of our example problem."
   ]
  },
  {
   "cell_type": "code",
   "execution_count": 1,
   "id": "3d4bf9ef-85f4-455a-a559-3f6a5f1fd8d9",
   "metadata": {
    "tags": []
   },
   "outputs": [
    {
     "name": "stderr",
     "output_type": "stream",
     "text": [
      "\u001b[32m\u001b[1m    Updating\u001b[22m\u001b[39m git-repo `https://github.com/varnerlab/VLQuantitativeFinancePackage.jl.git`\n",
      "\u001b[32m\u001b[1m   Resolving\u001b[22m\u001b[39m package versions...\n",
      "\u001b[32m\u001b[1m  No Changes\u001b[22m\u001b[39m to `~/Desktop/julia_work/CHEME-130-eCornell-Repository/courses/CHEME-132/module-2/Project.toml`\n",
      "\u001b[32m\u001b[1m  No Changes\u001b[22m\u001b[39m to `~/Desktop/julia_work/CHEME-130-eCornell-Repository/courses/CHEME-132/module-2/Manifest.toml`\n",
      "\u001b[32m\u001b[1m  Activating\u001b[22m\u001b[39m project at `~/Desktop/julia_work/CHEME-130-eCornell-Repository/courses/CHEME-132/module-2`\n",
      "\u001b[32m\u001b[1m  No Changes\u001b[22m\u001b[39m to `~/Desktop/julia_work/CHEME-130-eCornell-Repository/courses/CHEME-132/module-2/Project.toml`\n",
      "\u001b[32m\u001b[1m  No Changes\u001b[22m\u001b[39m to `~/Desktop/julia_work/CHEME-130-eCornell-Repository/courses/CHEME-132/module-2/Manifest.toml`\n",
      "\u001b[32m\u001b[1m    Updating\u001b[22m\u001b[39m registry at `~/.julia/registries/General.toml`\n",
      "\u001b[32m\u001b[1m    Updating\u001b[22m\u001b[39m git-repo `https://github.com/varnerlab/VLQuantitativeFinancePackage.jl.git`\n",
      "\u001b[32m\u001b[1m  No Changes\u001b[22m\u001b[39m to `~/Desktop/julia_work/CHEME-130-eCornell-Repository/courses/CHEME-132/module-2/Project.toml`\n",
      "\u001b[32m\u001b[1m  No Changes\u001b[22m\u001b[39m to `~/Desktop/julia_work/CHEME-130-eCornell-Repository/courses/CHEME-132/module-2/Manifest.toml`\n"
     ]
    }
   ],
   "source": [
    "include(\"Include.jl\");"
   ]
  },
  {
   "cell_type": "markdown",
   "id": "798027b5-aebf-4abb-8df5-b5c02ac40992",
   "metadata": {
    "jp-MarkdownHeadingCollapsed": true
   },
   "source": [
    "### Packages\n",
    "The `Include.jl` file loads several packages that we use'll for our exercises:\n",
    "* [Dates.jl](https://docs.julialang.org/en/v1/stdlib/Dates/#Dates)  is a package included with the standard library which provides basic functionality for working dates.\n",
    "* [DataFrames.jl](https://dataframes.juliadata.org/stable/) and [CSV.jl](https://github.com/JuliaData/CSV.jl) provide a set of tools for working with tabular data in [Julia](https://julialang.org). Its design and functionality are similar to those of [Pandas (in Python)](https://pandas.pydata.org) and [data.frame, data.table and dplyr (in R)](https://dplyr.tidyverse.org), making it an excellent general-purpose data science tool.\n",
    "* [Distributions.jl](https://github.com/JuliaStats/Distributions.jl) is a [Julia](https://julialang.org) package for probability distributions and associated functions.\n",
    "* [PrettyTables.jl](https://ronisbr.github.io/PrettyTables.jl/stable/man/html_backend/) is a [Julia](https://julialang.org) package that implements functions to construct and display text-based tables\n",
    "* [Plots.jl](https://docs.juliaplots.org/stable/) is a plotting library, and [Colors.jl](https://github.com/JuliaGraphics/Colors.jl) is a color library that we'll use for data visualization in [Julia](https://julialang.org).\n",
    "* [LinearAlgebra.jl](https://github.com/JuliaLang/LinearAlgebra.jl) is a package that provides functionality for working with linear algebra in [Julia](https://julialang.org).\n",
    "* [Statistics.jl](https://docs.julialang.org/en/v1/stdlib/Statistics/#Statistics) is a package included with the standard library module, which contains basic statistics functionality"
   ]
  },
  {
   "cell_type": "markdown",
   "id": "88aa69cf-b67a-4682-a456-ce870d818fb3",
   "metadata": {},
   "source": [
    "### Types\n",
    "`Include.jl` loads some [problem-specific types](https://docs.julialang.org/en/v1/manual/types/#Composite-Types) that will be helpful for the geometric Brownian motion simulation of equity share prices.\n",
    "\n",
    "The mutable struct `MyGeometricBrownianMotionEquityModel`, which holds the parameters associated with the geometric Brownian motion simulation, has two fields:\n",
    "* The `μ::Float64` field holds the drift or growth parameter for the model\n",
    "* The `σ::Float64` field holds the volatility parameter for the model"
   ]
  },
  {
   "cell_type": "markdown",
   "id": "80b8eb01-0786-480a-9ccd-37c4247840d9",
   "metadata": {
    "tags": []
   },
   "source": [
    "### Functions\n",
    "The `Include.jl` file also loads the following [Julia functions](https://docs.julialang.org/en/v1/manual/functions/):\n",
    "\n",
    "`function loaddatafile(; firm::Int = 1, year::String = \"Year-1\") -> DataFrame` \n",
    " > The `loaddatafile(...)` function, which load historical share price data, takes an [Int](https://docs.julialang.org/en/v1/manual/integers-and-floating-point-numbers/#Integers) that encodes a `firm index` and a [String](https://docs.julialang.org/en/v1/manual/strings/) argument that holds the `year` parameter of the dataset. The historical share price data is returned to the caller as a [DataFrame](https://dataframes.juliadata.org/stable/) with the fields: `volume`,`volume_weighted_average_price`,`open`,`close`,`high`, and `low,number_of_transactions`.\n",
    "\n",
    "`function generate_firm_index_set() -> Set{Int64}`\n",
    "> The `generate_firm_index_set()` function generates the set of `firm_id` values for which we have data files for all the years of this study, i.e., `Year-1,..., Year-5`. \n",
    "\n",
    "`function build(model::Type{MyGeometricBrownianMotionEquityModel}, data::NamedTuple) -> MyGeometricBrownianMotionEquityModel` \n",
    "> The `build)(...)` function takes information in the `data` [NamedTuple](https://docs.julialang.org/en/v1/base/base/#Core.NamedTuple) argument (the $(\\mu, \\sigma)$ values) and returns an instance of the `MyGeometricBrownianMotionEquityModel` [mutable type](https://docs.julialang.org/en/v1/manual/types/#Mutable-Composite-Types). \n",
    "\n",
    "`function sample(model::MyGeometricBrownianMotionEquityModel, data::NamedTuple; number_of_paths::Int64 = 100) -> Array{Float64,2}`\n",
    "> The `sample(...)` function takes a `MyGeometricBrownianMotionEquityModel` instance, and information in the `data` [NamedTuple](https://docs.julialang.org/en/v1/base/base/#Core.NamedTuple) argument and solves the geometric Brownian motion model for `number_of_paths` (default: 100) trials. The `data` argument holds the initial share price `Sₒ::Float64`, the initial and final times for the simulation `T₁` and `T₂` respectively (both are `Float64` types), and the simulation time step `Δt::Float64`.\n",
    "\n",
    "`function 𝔼(model::MyGeometricBrownianMotionEquityModel, data::NamedTuple) -> Array{Float64,2}`\n",
    "> The `𝔼(...)` functions takes a `MyGeometricBrownianMotionEquityModel` instance and information in the `data` [NamedTuple](https://docs.julialang.org/en/v1/base/base/#Core.NamedTuple) argument and computes the expectation of the share price as a function of time. The expectation is returned as a `T`$\\times$`2` array where the first column holds the time values while the second column holds the expected share price. The `data` argument holds the initial share price `Sₒ::Float64`, the initial and final times for the simulation `T₁` and `T₂` respectively (both are `Float64` types), and the simulation time step `Δt::Float64`.\n",
    "\n",
    "`function Var(model::MyGeometricBrownianMotionEquityModel, data::NamedTuple) -> Array{Float64,2}`\n",
    "> The `Var(...)` function takes a `MyGeometricBrownianMotionEquityModel` instance and information in the `data` [NamedTuple](https://docs.julialang.org/en/v1/base/base/#Core.NamedTuple) argument and computes the variance of the share price as a function of time. The variance is returned as a `T`$\\times$`2` array where the first column holds the time values while the second column holds the share price variance. The `data` argument holds the initial share price `Sₒ::Float64`, the initial and final times for the simulation `T₁` and `T₂` respectively (both are `Float64` types), and the simulation time step `Δt::Float64`."
   ]
  },
  {
   "cell_type": "markdown",
   "id": "8309fd88-0324-47b9-95b8-488abd81204e",
   "metadata": {},
   "source": [
    "## Prerequisites: Load and clean the historical dataset\n",
    "We gathered a daily open-high-low-close `dataset` for each firm in the [S&P500](https://en.wikipedia.org/wiki/S%26P_500) from `01-03-2018` until `12-29-2023`, along with data for a few exchange-traded funds and volatility products during that time. We load the `orignal_dataset` by calling the `MyMarketDataSet()` function:"
   ]
  },
  {
   "cell_type": "code",
   "execution_count": 2,
   "id": "476fa95c-bcfb-4150-afb4-5c6481caaf9d",
   "metadata": {
    "tags": []
   },
   "outputs": [],
   "source": [
    "original_dataset = MyMarketDataSet() |> x-> x[\"dataset\"];"
   ]
  },
  {
   "cell_type": "markdown",
   "id": "34e7d3ff-889a-4120-a117-145268e5f6b4",
   "metadata": {
    "tags": []
   },
   "source": [
    "### Clean the data\n",
    "Not all tickers in our dataset have the maximum number of trading days for various reasons, e.g., acquisition or de-listing events. Let's collect only those tickers with the maximum number of trading days.\n",
    "\n",
    "* First, let's compute the number of records for a company that we know has a maximum value, e.g., `AAPL`, and save that value in the `maximum_number_trading_days` variable:"
   ]
  },
  {
   "cell_type": "code",
   "execution_count": 3,
   "id": "43be3f82-50d7-48fc-90c4-df7647f1d788",
   "metadata": {},
   "outputs": [],
   "source": [
    "maximum_number_trading_days = original_dataset[\"AAPL\"] |> nrow;"
   ]
  },
  {
   "cell_type": "markdown",
   "id": "e6fe3da6-47f6-48be-a7aa-ee20f702b65f",
   "metadata": {},
   "source": [
    "Now, let's iterate through our data and collect only tickers with `maximum_number_trading_days` records. Save that data in the `dataset::Dict{String,DataFrame}` variable:"
   ]
  },
  {
   "cell_type": "code",
   "execution_count": 4,
   "id": "7e4cb036-5155-49fe-b096-a67203814749",
   "metadata": {},
   "outputs": [],
   "source": [
    "dataset = Dict{String,DataFrame}();\n",
    "for (ticker,data) ∈ original_dataset\n",
    "    if (nrow(data) == maximum_number_trading_days)\n",
    "        dataset[ticker] = data;\n",
    "    end\n",
    "end\n",
    "dataset;"
   ]
  },
  {
   "cell_type": "markdown",
   "id": "9e060a5e-688b-46ea-9b77-36782548e8a1",
   "metadata": {},
   "source": [
    "Then, get a list of firms that we have in the cleaned-up `dataset` and save it in the `list_of_all_firms` array (we sort these alphabetically):"
   ]
  },
  {
   "cell_type": "code",
   "execution_count": 5,
   "id": "119e7e78-d5c5-4914-83c7-d1e15f329e68",
   "metadata": {
    "tags": []
   },
   "outputs": [],
   "source": [
    "list_of_all_firms = keys(dataset) |> collect |> sort;"
   ]
  },
  {
   "cell_type": "markdown",
   "id": "4fe989b1-3443-4c7f-bb2a-0c22c505ed30",
   "metadata": {},
   "source": [
    "Finally, we set some constant values that are used throughout the study. In particular, the value of $\\Delta{t}$ holds the time step that we'll use (see below for a discussion of the value), and we'll specify the number of trading days to simulate in the `T` variable:"
   ]
  },
  {
   "cell_type": "code",
   "execution_count": 6,
   "id": "4b0a7dc3-384a-4899-b20c-28b54dc6d8fc",
   "metadata": {},
   "outputs": [],
   "source": [
    "Δt = (1.0/252.0);\n",
    "T = 48;\n",
    "all_range = range(1,stop=maximum_number_trading_days,step=1) |> collect;"
   ]
  },
  {
   "cell_type": "markdown",
   "id": "fc6cdb61-7007-4228-aa93-bb9af7f0b5fc",
   "metadata": {},
   "source": [
    "## Objective 1: Estimate the $\\mu$ parameter from data\n",
    "Let $\\mathbf{A}$ denote a $\\mathcal{S}\\times{2}$ matrix, where each row corresponds to a time value. The first column of $\\mathbf{A}$ is all 1's while the second column holds the $(t_{k}-t_{\\circ})$ values. Further, let $\\mathbf{Y}$ denote the `ln` of the price values of `firm_id` (in the same order as the $\\mathbf{A}$ matrix). Then, the y-intercept and slope (drift parameter) can be estimated by solving the `overdetermined` system of equations:\n",
    "\n",
    "$$\\mathbf{A}\\mathbf{\\theta} + \\mathbf{\\epsilon} = \\mathbf{Y}$$\n",
    "\n",
    "where $\\mathbf{\\theta}$ denotes the vector of unknown parameters. This system can be solved as:\n",
    "\n",
    "$$\\mathbf{\\theta} = (\\mathbf{A}^{T}\\mathbf{A})^{-1}\\mathbf{A}^{T}\\mathbf{Y} - (\\mathbf{A}^{T}\\mathbf{A})^{-1}\\mathbf{A}^{T}\\mathbf{\\epsilon}$$\n",
    "\n",
    "where $\\mathbf{A}^{T}$ denotes the transpose of the matrix $\\mathbf{A}$, and $(\\mathbf{A}^{T}\\mathbf{A})^{-1}$ denotes the inverse of the square matrix product $\\mathbf{A}^{T}\\mathbf{A}$. Finally, we can estimate the error term $\\mathbf{\\epsilon}$ by calculating the residuals:\n",
    "\n",
    "$$\\mathbf{\\epsilon} = \\mathbf{Y} - \\mathbf{A}\\mathbf{\\theta}$$\n",
    "\n",
    "and fitting a normal distribution to the residuals to compute the uncertainty in the estimate of the mean of the drift parameter $\\hat{\\mu}$. Initially, let's neglect modeling the residuals $\\mathbf{\\epsilon}$ and consider only the mean solution:"
   ]
  },
  {
   "cell_type": "code",
   "execution_count": 7,
   "id": "cf3b8a0e-a535-4fa2-9c35-0e7eea0f2c82",
   "metadata": {
    "tags": []
   },
   "outputs": [],
   "source": [
    "μ̂_dictionary = Dict{String,Float64}();\n",
    "for i ∈ eachindex(list_of_all_firms)\n",
    "    \n",
    "    firm_ticker = list_of_all_firms[i];\n",
    "    firm_data = dataset[firm_ticker];\n",
    "    T_all = all_range*Δt .- Δt;\n",
    "    \n",
    "    A = [ones(maximum_number_trading_days) T_all];\n",
    "    Y = log.(firm_data[!,:volume_weighted_average_price]);\n",
    "\n",
    "    # Solve the normal equations -\n",
    "    θ = inv(transpose(A)*A)*transpose(A)*Y;\n",
    "\n",
    "    # get estimated μ -\n",
    "    μ̂_dictionary[firm_ticker] = θ[2];\n",
    "end\n",
    "μ̂_dictionary;"
   ]
  },
  {
   "cell_type": "markdown",
   "id": "ef983745",
   "metadata": {},
   "source": [
    "### Check: Are the residuals `Normally` distributed?"
   ]
  },
  {
   "cell_type": "code",
   "execution_count": 8,
   "id": "48ace21f",
   "metadata": {
    "tags": []
   },
   "outputs": [
    {
     "data": {
      "image/png": "[encoded data removed]",
      "image/svg+xml": [
       "<?xml version=\"1.0\" encoding=\"utf-8\"?>\n",
       "<svg xmlns=\"http://www.w3.org/2000/svg\" xmlns:xlink=\"http://www.w3.org/1999/xlink\" width=\"600\" height=\"400\" viewBox=\"0 0 2400 1600\">\n",
       "<defs>\n",
       "  <clipPath id=\"clip110\">\n",
       "    <rect x=\"0\" y=\"0\" width=\"2400\" height=\"1600\"/>\n",
       "  </clipPath>\n",
       "</defs>\n",
       "<path clip-path=\"url(#clip110)\" d=\"M0 1600 L2400 1600 L2400 8.88178e-14 L0 8.88178e-14  Z\" fill=\"#ffffff\" fill-rule=\"evenodd\" fill-opacity=\"1\"/>\n",
       "<defs>\n",
       "  <clipPath id=\"clip111\">\n",
       "    <rect x=\"480\" y=\"0\" width=\"1681\" height=\"1600\"/>\n",
       "  </clipPath>\n",
       "</defs>\n",
       "<path clip-path=\"url(#clip110)\" d=\"M174.149 1423.18 L2352.76 1423.18 L2352.76 47.2441 L174.149 47.2441  Z\" fill=\"#ffffff\" fill-rule=\"evenodd\" fill-opacity=\"1\"/>\n",
       "<defs>\n",
       "  <clipPath id=\"clip112\">\n",
       "    <rect x=\"174\" y=\"47\" width=\"2180\" height=\"1377\"/>\n",
       "  </clipPath>\n",
       "</defs>\n",
       "<polyline clip-path=\"url(#clip112)\" style=\"stroke:#000000; stroke-linecap:round; stroke-linejoin:round; stroke-width:2; stroke-opacity:0.1; fill:none\" points=\"528.402,1423.18 528.402,47.2441 \"/>\n",
       "<polyline clip-path=\"url(#clip112)\" style=\"stroke:#000000; stroke-linecap:round; stroke-linejoin:round; stroke-width:2; stroke-opacity:0.1; fill:none\" points=\"938.249,1423.18 938.249,47.2441 \"/>\n",
       "<polyline clip-path=\"url(#clip112)\" style=\"stroke:#000000; stroke-linecap:round; stroke-linejoin:round; stroke-width:2; stroke-opacity:0.1; fill:none\" points=\"1348.1,1423.18 1348.1,47.2441 \"/>\n",
       "<polyline clip-path=\"url(#clip112)\" style=\"stroke:#000000; stroke-linecap:round; stroke-linejoin:round; stroke-width:2; stroke-opacity:0.1; fill:none\" points=\"1757.94,1423.18 1757.94,47.2441 \"/>\n",
       "<polyline clip-path=\"url(#clip112)\" style=\"stroke:#000000; stroke-linecap:round; stroke-linejoin:round; stroke-width:2; stroke-opacity:0.1; fill:none\" points=\"2167.79,1423.18 2167.79,47.2441 \"/>\n",
       "<polyline clip-path=\"url(#clip110)\" style=\"stroke:#000000; stroke-linecap:round; stroke-linejoin:round; stroke-width:4; stroke-opacity:1; fill:none\" points=\"174.149,1423.18 2352.76,1423.18 \"/>\n",
       "<polyline clip-path=\"url(#clip110)\" style=\"stroke:#000000; stroke-linecap:round; stroke-linejoin:round; stroke-width:4; stroke-opacity:1; fill:none\" points=\"528.402,1423.18 528.402,1404.28 \"/>\n",
       "<polyline clip-path=\"url(#clip110)\" style=\"stroke:#000000; stroke-linecap:round; stroke-linejoin:round; stroke-width:4; stroke-opacity:1; fill:none\" points=\"938.249,1423.18 938.249,1404.28 \"/>\n",
       "<polyline clip-path=\"url(#clip110)\" style=\"stroke:#000000; stroke-linecap:round; stroke-linejoin:round; stroke-width:4; stroke-opacity:1; fill:none\" points=\"1348.1,1423.18 1348.1,1404.28 \"/>\n",
       "<polyline clip-path=\"url(#clip110)\" style=\"stroke:#000000; stroke-linecap:round; stroke-linejoin:round; stroke-width:4; stroke-opacity:1; fill:none\" points=\"1757.94,1423.18 1757.94,1404.28 \"/>\n",
       "<polyline clip-path=\"url(#clip110)\" style=\"stroke:#000000; stroke-linecap:round; stroke-linejoin:round; stroke-width:4; stroke-opacity:1; fill:none\" points=\"2167.79,1423.18 2167.79,1404.28 \"/>\n",
       "<path clip-path=\"url(#clip110)\" d=\"M459.849 1468.75 L489.525 1468.75 L489.525 1472.69 L459.849 1472.69 L459.849 1468.75 Z\" fill=\"#000000\" fill-rule=\"nonzero\" fill-opacity=\"1\" /><path clip-path=\"url(#clip110)\" d=\"M509.618 1454.1 Q506.007 1454.1 504.178 1457.66 Q502.372 1461.2 502.372 1468.33 Q502.372 1475.44 504.178 1479.01 Q506.007 1482.55 509.618 1482.55 Q513.252 1482.55 515.057 1479.01 Q516.886 1475.44 516.886 1468.33 Q516.886 1461.2 515.057 1457.66 Q513.252 1454.1 509.618 1454.1 M509.618 1450.39 Q515.428 1450.39 518.483 1455 Q521.562 1459.58 521.562 1468.33 Q521.562 1477.06 518.483 1481.67 Q515.428 1486.25 509.618 1486.25 Q503.807 1486.25 500.729 1481.67 Q497.673 1477.06 497.673 1468.33 Q497.673 1459.58 500.729 1455 Q503.807 1450.39 509.618 1450.39 Z\" fill=\"#000000\" fill-rule=\"nonzero\" fill-opacity=\"1\" /><path clip-path=\"url(#clip110)\" d=\"M529.78 1479.7 L534.664 1479.7 L534.664 1485.58 L529.78 1485.58 L529.78 1479.7 Z\" fill=\"#000000\" fill-rule=\"nonzero\" fill-opacity=\"1\" /><path clip-path=\"url(#clip110)\" d=\"M544.895 1451.02 L563.252 1451.02 L563.252 1454.96 L549.178 1454.96 L549.178 1463.43 Q550.196 1463.08 551.215 1462.92 Q552.233 1462.73 553.252 1462.73 Q559.039 1462.73 562.418 1465.9 Q565.798 1469.08 565.798 1474.49 Q565.798 1480.07 562.326 1483.17 Q558.853 1486.25 552.534 1486.25 Q550.358 1486.25 548.09 1485.88 Q545.844 1485.51 543.437 1484.77 L543.437 1480.07 Q545.52 1481.2 547.742 1481.76 Q549.965 1482.32 552.441 1482.32 Q556.446 1482.32 558.784 1480.21 Q561.122 1478.1 561.122 1474.49 Q561.122 1470.88 558.784 1468.77 Q556.446 1466.67 552.441 1466.67 Q550.566 1466.67 548.691 1467.08 Q546.84 1467.5 544.895 1468.38 L544.895 1451.02 Z\" fill=\"#000000\" fill-rule=\"nonzero\" fill-opacity=\"1\" /><path clip-path=\"url(#clip110)\" d=\"M585.011 1454.1 Q581.4 1454.1 579.571 1457.66 Q577.765 1461.2 577.765 1468.33 Q577.765 1475.44 579.571 1479.01 Q581.4 1482.55 585.011 1482.55 Q588.645 1482.55 590.451 1479.01 Q592.279 1475.44 592.279 1468.33 Q592.279 1461.2 590.451 1457.66 Q588.645 1454.1 585.011 1454.1 M585.011 1450.39 Q590.821 1450.39 593.876 1455 Q596.955 1459.58 596.955 1468.33 Q596.955 1477.06 593.876 1481.67 Q590.821 1486.25 585.011 1486.25 Q579.201 1486.25 576.122 1481.67 Q573.066 1477.06 573.066 1468.33 Q573.066 1459.58 576.122 1455 Q579.201 1450.39 585.011 1450.39 Z\" fill=\"#000000\" fill-rule=\"nonzero\" fill-opacity=\"1\" /><path clip-path=\"url(#clip110)\" d=\"M870.194 1468.75 L899.869 1468.75 L899.869 1472.69 L870.194 1472.69 L870.194 1468.75 Z\" fill=\"#000000\" fill-rule=\"nonzero\" fill-opacity=\"1\" /><path clip-path=\"url(#clip110)\" d=\"M919.962 1454.1 Q916.351 1454.1 914.522 1457.66 Q912.717 1461.2 912.717 1468.33 Q912.717 1475.44 914.522 1479.01 Q916.351 1482.55 919.962 1482.55 Q923.596 1482.55 925.402 1479.01 Q927.23 1475.44 927.23 1468.33 Q927.23 1461.2 925.402 1457.66 Q923.596 1454.1 919.962 1454.1 M919.962 1450.39 Q925.772 1450.39 928.828 1455 Q931.906 1459.58 931.906 1468.33 Q931.906 1477.06 928.828 1481.67 Q925.772 1486.25 919.962 1486.25 Q914.152 1486.25 911.073 1481.67 Q908.018 1477.06 908.018 1468.33 Q908.018 1459.58 911.073 1455 Q914.152 1450.39 919.962 1450.39 Z\" fill=\"#000000\" fill-rule=\"nonzero\" fill-opacity=\"1\" /><path clip-path=\"url(#clip110)\" d=\"M940.124 1479.7 L945.008 1479.7 L945.008 1485.58 L940.124 1485.58 L940.124 1479.7 Z\" fill=\"#000000\" fill-rule=\"nonzero\" fill-opacity=\"1\" /><path clip-path=\"url(#clip110)\" d=\"M959.221 1481.64 L975.54 1481.64 L975.54 1485.58 L953.596 1485.58 L953.596 1481.64 Q956.258 1478.89 960.841 1474.26 Q965.448 1469.61 966.628 1468.27 Q968.874 1465.74 969.753 1464.01 Q970.656 1462.25 970.656 1460.56 Q970.656 1457.8 968.712 1456.07 Q966.79 1454.33 963.689 1454.33 Q961.49 1454.33 959.036 1455.09 Q956.605 1455.86 953.828 1457.41 L953.828 1452.69 Q956.652 1451.55 959.105 1450.97 Q961.559 1450.39 963.596 1450.39 Q968.966 1450.39 972.161 1453.08 Q975.355 1455.77 975.355 1460.26 Q975.355 1462.39 974.545 1464.31 Q973.758 1466.2 971.651 1468.8 Q971.073 1469.47 967.971 1472.69 Q964.869 1475.88 959.221 1481.64 Z\" fill=\"#000000\" fill-rule=\"nonzero\" fill-opacity=\"1\" /><path clip-path=\"url(#clip110)\" d=\"M985.401 1451.02 L1003.76 1451.02 L1003.76 1454.96 L989.684 1454.96 L989.684 1463.43 Q990.702 1463.08 991.721 1462.92 Q992.739 1462.73 993.758 1462.73 Q999.545 1462.73 1002.92 1465.9 Q1006.3 1469.08 1006.3 1474.49 Q1006.3 1480.07 1002.83 1483.17 Q999.36 1486.25 993.04 1486.25 Q990.864 1486.25 988.596 1485.88 Q986.35 1485.51 983.943 1484.77 L983.943 1480.07 Q986.026 1481.2 988.249 1481.76 Q990.471 1482.32 992.948 1482.32 Q996.952 1482.32 999.29 1480.21 Q1001.63 1478.1 1001.63 1474.49 Q1001.63 1470.88 999.29 1468.77 Q996.952 1466.67 992.948 1466.67 Q991.073 1466.67 989.198 1467.08 Q987.346 1467.5 985.401 1468.38 L985.401 1451.02 Z\" fill=\"#000000\" fill-rule=\"nonzero\" fill-opacity=\"1\" /><path clip-path=\"url(#clip110)\" d=\"M1310.4 1454.1 Q1306.79 1454.1 1304.96 1457.66 Q1303.15 1461.2 1303.15 1468.33 Q1303.15 1475.44 1304.96 1479.01 Q1306.79 1482.55 1310.4 1482.55 Q1314.03 1482.55 1315.84 1479.01 Q1317.67 1475.44 1317.67 1468.33 Q1317.67 1461.2 1315.84 1457.66 Q1314.03 1454.1 1310.4 1454.1 M1310.4 1450.39 Q1316.21 1450.39 1319.26 1455 Q1322.34 1459.58 1322.34 1468.33 Q1322.34 1477.06 1319.26 1481.67 Q1316.21 1486.25 1310.4 1486.25 Q1304.59 1486.25 1301.51 1481.67 Q1298.45 1477.06 1298.45 1468.33 Q1298.45 1459.58 1301.51 1455 Q1304.59 1450.39 1310.4 1450.39 Z\" fill=\"#000000\" fill-rule=\"nonzero\" fill-opacity=\"1\" /><path clip-path=\"url(#clip110)\" d=\"M1330.56 1479.7 L1335.45 1479.7 L1335.45 1485.58 L1330.56 1485.58 L1330.56 1479.7 Z\" fill=\"#000000\" fill-rule=\"nonzero\" fill-opacity=\"1\" /><path clip-path=\"url(#clip110)\" d=\"M1355.63 1454.1 Q1352.02 1454.1 1350.19 1457.66 Q1348.38 1461.2 1348.38 1468.33 Q1348.38 1475.44 1350.19 1479.01 Q1352.02 1482.55 1355.63 1482.55 Q1359.26 1482.55 1361.07 1479.01 Q1362.9 1475.44 1362.9 1468.33 Q1362.9 1461.2 1361.07 1457.66 Q1359.26 1454.1 1355.63 1454.1 M1355.63 1450.39 Q1361.44 1450.39 1364.5 1455 Q1367.57 1459.58 1367.57 1468.33 Q1367.57 1477.06 1364.5 1481.67 Q1361.44 1486.25 1355.63 1486.25 Q1349.82 1486.25 1346.74 1481.67 Q1343.69 1477.06 1343.69 1468.33 Q1343.69 1459.58 1346.74 1455 Q1349.82 1450.39 1355.63 1450.39 Z\" fill=\"#000000\" fill-rule=\"nonzero\" fill-opacity=\"1\" /><path clip-path=\"url(#clip110)\" d=\"M1385.79 1454.1 Q1382.18 1454.1 1380.35 1457.66 Q1378.55 1461.2 1378.55 1468.33 Q1378.55 1475.44 1380.35 1479.01 Q1382.18 1482.55 1385.79 1482.55 Q1389.43 1482.55 1391.23 1479.01 Q1393.06 1475.44 1393.06 1468.33 Q1393.06 1461.2 1391.23 1457.66 Q1389.43 1454.1 1385.79 1454.1 M1385.79 1450.39 Q1391.6 1450.39 1394.66 1455 Q1397.74 1459.58 1397.74 1468.33 Q1397.74 1477.06 1394.66 1481.67 Q1391.6 1486.25 1385.79 1486.25 Q1379.98 1486.25 1376.9 1481.67 Q1373.85 1477.06 1373.85 1468.33 Q1373.85 1459.58 1376.9 1455 Q1379.98 1450.39 1385.79 1450.39 Z\" fill=\"#000000\" fill-rule=\"nonzero\" fill-opacity=\"1\" /><path clip-path=\"url(#clip110)\" d=\"M1720.74 1454.1 Q1717.13 1454.1 1715.3 1457.66 Q1713.5 1461.2 1713.5 1468.33 Q1713.5 1475.44 1715.3 1479.01 Q1717.13 1482.55 1720.74 1482.55 Q1724.38 1482.55 1726.18 1479.01 Q1728.01 1475.44 1728.01 1468.33 Q1728.01 1461.2 1726.18 1457.66 Q1724.38 1454.1 1720.74 1454.1 M1720.74 1450.39 Q1726.55 1450.39 1729.61 1455 Q1732.69 1459.58 1732.69 1468.33 Q1732.69 1477.06 1729.61 1481.67 Q1726.55 1486.25 1720.74 1486.25 Q1714.93 1486.25 1711.85 1481.67 Q1708.8 1477.06 1708.8 1468.33 Q1708.8 1459.58 1711.85 1455 Q1714.93 1450.39 1720.74 1450.39 Z\" fill=\"#000000\" fill-rule=\"nonzero\" fill-opacity=\"1\" /><path clip-path=\"url(#clip110)\" d=\"M1740.91 1479.7 L1745.79 1479.7 L1745.79 1485.58 L1740.91 1485.58 L1740.91 1479.7 Z\" fill=\"#000000\" fill-rule=\"nonzero\" fill-opacity=\"1\" /><path clip-path=\"url(#clip110)\" d=\"M1760 1481.64 L1776.32 1481.64 L1776.32 1485.58 L1754.38 1485.58 L1754.38 1481.64 Q1757.04 1478.89 1761.62 1474.26 Q1766.23 1469.61 1767.41 1468.27 Q1769.66 1465.74 1770.53 1464.01 Q1771.44 1462.25 1771.44 1460.56 Q1771.44 1457.8 1769.49 1456.07 Q1767.57 1454.33 1764.47 1454.33 Q1762.27 1454.33 1759.82 1455.09 Q1757.39 1455.86 1754.61 1457.41 L1754.61 1452.69 Q1757.43 1451.55 1759.89 1450.97 Q1762.34 1450.39 1764.38 1450.39 Q1769.75 1450.39 1772.94 1453.08 Q1776.14 1455.77 1776.14 1460.26 Q1776.14 1462.39 1775.33 1464.31 Q1774.54 1466.2 1772.43 1468.8 Q1771.85 1469.47 1768.75 1472.69 Q1765.65 1475.88 1760 1481.64 Z\" fill=\"#000000\" fill-rule=\"nonzero\" fill-opacity=\"1\" /><path clip-path=\"url(#clip110)\" d=\"M1786.18 1451.02 L1804.54 1451.02 L1804.54 1454.96 L1790.47 1454.96 L1790.47 1463.43 Q1791.48 1463.08 1792.5 1462.92 Q1793.52 1462.73 1794.54 1462.73 Q1800.33 1462.73 1803.71 1465.9 Q1807.09 1469.08 1807.09 1474.49 Q1807.09 1480.07 1803.61 1483.17 Q1800.14 1486.25 1793.82 1486.25 Q1791.65 1486.25 1789.38 1485.88 Q1787.13 1485.51 1784.72 1484.77 L1784.72 1480.07 Q1786.81 1481.2 1789.03 1481.76 Q1791.25 1482.32 1793.73 1482.32 Q1797.73 1482.32 1800.07 1480.21 Q1802.41 1478.1 1802.41 1474.49 Q1802.41 1470.88 1800.07 1468.77 Q1797.73 1466.67 1793.73 1466.67 Q1791.85 1466.67 1789.98 1467.08 Q1788.13 1467.5 1786.18 1468.38 L1786.18 1451.02 Z\" fill=\"#000000\" fill-rule=\"nonzero\" fill-opacity=\"1\" /><path clip-path=\"url(#clip110)\" d=\"M2130.09 1454.1 Q2126.48 1454.1 2124.65 1457.66 Q2122.85 1461.2 2122.85 1468.33 Q2122.85 1475.44 2124.65 1479.01 Q2126.48 1482.55 2130.09 1482.55 Q2133.73 1482.55 2135.53 1479.01 Q2137.36 1475.44 2137.36 1468.33 Q2137.36 1461.2 2135.53 1457.66 Q2133.73 1454.1 2130.09 1454.1 M2130.09 1450.39 Q2135.9 1450.39 2138.96 1455 Q2142.04 1459.58 2142.04 1468.33 Q2142.04 1477.06 2138.96 1481.67 Q2135.9 1486.25 2130.09 1486.25 Q2124.28 1486.25 2121.2 1481.67 Q2118.15 1477.06 2118.15 1468.33 Q2118.15 1459.58 2121.2 1455 Q2124.28 1450.39 2130.09 1450.39 Z\" fill=\"#000000\" fill-rule=\"nonzero\" fill-opacity=\"1\" /><path clip-path=\"url(#clip110)\" d=\"M2150.25 1479.7 L2155.14 1479.7 L2155.14 1485.58 L2150.25 1485.58 L2150.25 1479.7 Z\" fill=\"#000000\" fill-rule=\"nonzero\" fill-opacity=\"1\" /><path clip-path=\"url(#clip110)\" d=\"M2165.37 1451.02 L2183.73 1451.02 L2183.73 1454.96 L2169.65 1454.96 L2169.65 1463.43 Q2170.67 1463.08 2171.69 1462.92 Q2172.71 1462.73 2173.73 1462.73 Q2179.51 1462.73 2182.89 1465.9 Q2186.27 1469.08 2186.27 1474.49 Q2186.27 1480.07 2182.8 1483.17 Q2179.33 1486.25 2173.01 1486.25 Q2170.83 1486.25 2168.56 1485.88 Q2166.32 1485.51 2163.91 1484.77 L2163.91 1480.07 Q2165.99 1481.2 2168.22 1481.76 Q2170.44 1482.32 2172.92 1482.32 Q2176.92 1482.32 2179.26 1480.21 Q2181.6 1478.1 2181.6 1474.49 Q2181.6 1470.88 2179.26 1468.77 Q2176.92 1466.67 2172.92 1466.67 Q2171.04 1466.67 2169.17 1467.08 Q2167.31 1467.5 2165.37 1468.38 L2165.37 1451.02 Z\" fill=\"#000000\" fill-rule=\"nonzero\" fill-opacity=\"1\" /><path clip-path=\"url(#clip110)\" d=\"M2205.49 1454.1 Q2201.87 1454.1 2200.05 1457.66 Q2198.24 1461.2 2198.24 1468.33 Q2198.24 1475.44 2200.05 1479.01 Q2201.87 1482.55 2205.49 1482.55 Q2209.12 1482.55 2210.93 1479.01 Q2212.75 1475.44 2212.75 1468.33 Q2212.75 1461.2 2210.93 1457.66 Q2209.12 1454.1 2205.49 1454.1 M2205.49 1450.39 Q2211.3 1450.39 2214.35 1455 Q2217.43 1459.58 2217.43 1468.33 Q2217.43 1477.06 2214.35 1481.67 Q2211.3 1486.25 2205.49 1486.25 Q2199.68 1486.25 2196.6 1481.67 Q2193.54 1477.06 2193.54 1468.33 Q2193.54 1459.58 2196.6 1455 Q2199.68 1450.39 2205.49 1450.39 Z\" fill=\"#000000\" fill-rule=\"nonzero\" fill-opacity=\"1\" /><path clip-path=\"url(#clip110)\" d=\"M966.269 1545.76 Q968.338 1546.46 970.28 1548.76 Q972.253 1551.05 974.227 1555.06 L980.751 1568.04 L973.845 1568.04 L967.765 1555.85 Q965.41 1551.08 963.182 1549.52 Q960.986 1547.96 957.166 1547.96 L950.164 1547.96 L950.164 1568.04 L943.735 1568.04 L943.735 1520.52 L958.249 1520.52 Q966.397 1520.52 970.407 1523.93 Q974.418 1527.34 974.418 1534.21 Q974.418 1538.7 972.317 1541.66 Q970.248 1544.62 966.269 1545.76 M950.164 1525.81 L950.164 1542.68 L958.249 1542.68 Q962.896 1542.68 965.251 1540.54 Q967.638 1538.38 967.638 1534.21 Q967.638 1530.04 965.251 1527.94 Q962.896 1525.81 958.249 1525.81 L950.164 1525.81 Z\" fill=\"#000000\" fill-rule=\"nonzero\" fill-opacity=\"1\" /><path clip-path=\"url(#clip110)\" d=\"M1016.34 1548.76 L1016.34 1551.62 L989.409 1551.62 Q989.791 1557.67 993.037 1560.85 Q996.316 1564 1002.14 1564 Q1005.51 1564 1008.67 1563.17 Q1011.85 1562.35 1014.97 1560.69 L1014.97 1566.23 Q1011.82 1567.57 1008.51 1568.27 Q1005.2 1568.97 1001.79 1568.97 Q993.26 1568.97 988.263 1564 Q983.298 1559.04 983.298 1550.57 Q983.298 1541.82 988.008 1536.69 Q992.751 1531.54 1000.77 1531.54 Q1007.96 1531.54 1012.13 1536.18 Q1016.34 1540.8 1016.34 1548.76 M1010.48 1547.04 Q1010.42 1542.23 1007.77 1539.37 Q1005.16 1536.5 1000.84 1536.5 Q995.934 1536.5 992.974 1539.27 Q990.045 1542.04 989.6 1547.07 L1010.48 1547.04 Z\" fill=\"#000000\" fill-rule=\"nonzero\" fill-opacity=\"1\" /><path clip-path=\"url(#clip110)\" d=\"M1048.67 1533.45 L1048.67 1538.98 Q1046.19 1537.71 1043.52 1537.07 Q1040.84 1536.44 1037.98 1536.44 Q1033.62 1536.44 1031.42 1537.77 Q1029.26 1539.11 1029.26 1541.79 Q1029.26 1543.82 1030.82 1545 Q1032.38 1546.15 1037.09 1547.2 L1039.09 1547.64 Q1045.33 1548.98 1047.94 1551.43 Q1050.58 1553.85 1050.58 1558.21 Q1050.58 1563.17 1046.64 1566.07 Q1042.72 1568.97 1035.85 1568.97 Q1032.98 1568.97 1029.86 1568.39 Q1026.78 1567.85 1023.34 1566.74 L1023.34 1560.69 Q1026.58 1562.38 1029.74 1563.24 Q1032.89 1564.07 1035.97 1564.07 Q1040.11 1564.07 1042.34 1562.66 Q1044.57 1561.23 1044.57 1558.65 Q1044.57 1556.27 1042.94 1554.99 Q1041.35 1553.72 1035.91 1552.54 L1033.87 1552.07 Q1028.43 1550.92 1026.01 1548.56 Q1023.59 1546.18 1023.59 1542.04 Q1023.59 1537.01 1027.16 1534.27 Q1030.72 1531.54 1037.28 1531.54 Q1040.53 1531.54 1043.39 1532.01 Q1046.25 1532.49 1048.67 1533.45 Z\" fill=\"#000000\" fill-rule=\"nonzero\" fill-opacity=\"1\" /><path clip-path=\"url(#clip110)\" d=\"M1059.91 1532.4 L1065.77 1532.4 L1065.77 1568.04 L1059.91 1568.04 L1059.91 1532.4 M1059.91 1518.52 L1065.77 1518.52 L1065.77 1525.93 L1059.91 1525.93 L1059.91 1518.52 Z\" fill=\"#000000\" fill-rule=\"nonzero\" fill-opacity=\"1\" /><path clip-path=\"url(#clip110)\" d=\"M1101.48 1537.81 L1101.48 1518.52 L1107.33 1518.52 L1107.33 1568.04 L1101.48 1568.04 L1101.48 1562.7 Q1099.63 1565.88 1096.8 1567.44 Q1094 1568.97 1090.05 1568.97 Q1083.59 1568.97 1079.52 1563.81 Q1075.47 1558.65 1075.47 1550.25 Q1075.47 1541.85 1079.52 1536.69 Q1083.59 1531.54 1090.05 1531.54 Q1094 1531.54 1096.8 1533.1 Q1099.63 1534.62 1101.48 1537.81 M1081.52 1550.25 Q1081.52 1556.71 1084.16 1560.4 Q1086.84 1564.07 1091.48 1564.07 Q1096.13 1564.07 1098.8 1560.4 Q1101.48 1556.71 1101.48 1550.25 Q1101.48 1543.79 1098.8 1540.13 Q1096.13 1536.44 1091.48 1536.44 Q1086.84 1536.44 1084.16 1540.13 Q1081.52 1543.79 1081.52 1550.25 Z\" fill=\"#000000\" fill-rule=\"nonzero\" fill-opacity=\"1\" /><path clip-path=\"url(#clip110)\" d=\"M1118.79 1553.98 L1118.79 1532.4 L1124.65 1532.4 L1124.65 1553.75 Q1124.65 1558.81 1126.62 1561.36 Q1128.59 1563.87 1132.54 1563.87 Q1137.28 1563.87 1140.02 1560.85 Q1142.79 1557.83 1142.79 1552.61 L1142.79 1532.4 L1148.65 1532.4 L1148.65 1568.04 L1142.79 1568.04 L1142.79 1562.57 Q1140.66 1565.82 1137.83 1567.41 Q1135.02 1568.97 1131.3 1568.97 Q1125.16 1568.97 1121.97 1565.15 Q1118.79 1561.33 1118.79 1553.98 M1133.53 1531.54 L1133.53 1531.54 Z\" fill=\"#000000\" fill-rule=\"nonzero\" fill-opacity=\"1\" /><path clip-path=\"url(#clip110)\" d=\"M1176.91 1550.12 Q1169.81 1550.12 1167.08 1551.75 Q1164.34 1553.37 1164.34 1557.29 Q1164.34 1560.4 1166.38 1562.25 Q1168.44 1564.07 1171.98 1564.07 Q1176.85 1564.07 1179.78 1560.63 Q1182.74 1557.16 1182.74 1551.43 L1182.74 1550.12 L1176.91 1550.12 M1188.59 1547.71 L1188.59 1568.04 L1182.74 1568.04 L1182.74 1562.63 Q1180.73 1565.88 1177.74 1567.44 Q1174.75 1568.97 1170.42 1568.97 Q1164.94 1568.97 1161.7 1565.91 Q1158.48 1562.82 1158.48 1557.67 Q1158.48 1551.65 1162.49 1548.6 Q1166.53 1545.54 1174.52 1545.54 L1182.74 1545.54 L1182.74 1544.97 Q1182.74 1540.93 1180.06 1538.73 Q1177.42 1536.5 1172.61 1536.5 Q1169.56 1536.5 1166.66 1537.23 Q1163.77 1537.97 1161.09 1539.43 L1161.09 1534.02 Q1164.31 1532.78 1167.33 1532.17 Q1170.35 1531.54 1173.22 1531.54 Q1180.95 1531.54 1184.77 1535.55 Q1188.59 1539.56 1188.59 1547.71 Z\" fill=\"#000000\" fill-rule=\"nonzero\" fill-opacity=\"1\" /><path clip-path=\"url(#clip110)\" d=\"M1200.65 1518.52 L1206.51 1518.52 L1206.51 1568.04 L1200.65 1568.04 L1200.65 1518.52 Z\" fill=\"#000000\" fill-rule=\"nonzero\" fill-opacity=\"1\" /><path clip-path=\"url(#clip110)\" d=\"M1241.49 1533.45 L1241.49 1538.98 Q1239.01 1537.71 1236.33 1537.07 Q1233.66 1536.44 1230.8 1536.44 Q1226.44 1536.44 1224.24 1537.77 Q1222.08 1539.11 1222.08 1541.79 Q1222.08 1543.82 1223.63 1545 Q1225.19 1546.15 1229.91 1547.2 L1231.91 1547.64 Q1238.15 1548.98 1240.76 1551.43 Q1243.4 1553.85 1243.4 1558.21 Q1243.4 1563.17 1239.45 1566.07 Q1235.54 1568.97 1228.66 1568.97 Q1225.8 1568.97 1222.68 1568.39 Q1219.59 1567.85 1216.16 1566.74 L1216.16 1560.69 Q1219.4 1562.38 1222.55 1563.24 Q1225.7 1564.07 1228.79 1564.07 Q1232.93 1564.07 1235.16 1562.66 Q1237.38 1561.23 1237.38 1558.65 Q1237.38 1556.27 1235.76 1554.99 Q1234.17 1553.72 1228.73 1552.54 L1226.69 1552.07 Q1221.25 1550.92 1218.83 1548.56 Q1216.41 1546.18 1216.41 1542.04 Q1216.41 1537.01 1219.97 1534.27 Q1223.54 1531.54 1230.1 1531.54 Q1233.34 1531.54 1236.21 1532.01 Q1239.07 1532.49 1241.49 1533.45 Z\" fill=\"#000000\" fill-rule=\"nonzero\" fill-opacity=\"1\" /><path clip-path=\"url(#clip110)\" d=\"M1291.49 1518.52 L1291.49 1523.39 L1285.89 1523.39 Q1282.74 1523.39 1281.5 1524.66 Q1280.29 1525.93 1280.29 1529.24 L1280.29 1532.4 L1289.93 1532.4 L1289.93 1536.95 L1280.29 1536.95 L1280.29 1568.04 L1274.4 1568.04 L1274.4 1536.95 L1268.8 1536.95 L1268.8 1532.4 L1274.4 1532.4 L1274.4 1529.91 Q1274.4 1523.96 1277.17 1521.26 Q1279.94 1518.52 1285.96 1518.52 L1291.49 1518.52 Z\" fill=\"#000000\" fill-rule=\"nonzero\" fill-opacity=\"1\" /><path clip-path=\"url(#clip110)\" d=\"M1310.21 1536.5 Q1305.5 1536.5 1302.76 1540.19 Q1300.02 1543.85 1300.02 1550.25 Q1300.02 1556.65 1302.73 1560.34 Q1305.47 1564 1310.21 1564 Q1314.89 1564 1317.62 1560.31 Q1320.36 1556.62 1320.36 1550.25 Q1320.36 1543.92 1317.62 1540.23 Q1314.89 1536.5 1310.21 1536.5 M1310.21 1531.54 Q1317.85 1531.54 1322.21 1536.5 Q1326.57 1541.47 1326.57 1550.25 Q1326.57 1559 1322.21 1564 Q1317.85 1568.97 1310.21 1568.97 Q1302.54 1568.97 1298.18 1564 Q1293.85 1559 1293.85 1550.25 Q1293.85 1541.47 1298.18 1536.5 Q1302.54 1531.54 1310.21 1531.54 Z\" fill=\"#000000\" fill-rule=\"nonzero\" fill-opacity=\"1\" /><path clip-path=\"url(#clip110)\" d=\"M1356.93 1537.87 Q1355.95 1537.3 1354.77 1537.04 Q1353.62 1536.76 1352.22 1536.76 Q1347.26 1536.76 1344.58 1540 Q1341.94 1543.22 1341.94 1549.27 L1341.94 1568.04 L1336.05 1568.04 L1336.05 1532.4 L1341.94 1532.4 L1341.94 1537.93 Q1343.79 1534.69 1346.75 1533.13 Q1349.71 1531.54 1353.94 1531.54 Q1354.55 1531.54 1355.28 1531.63 Q1356.01 1531.7 1356.9 1531.85 L1356.93 1537.87 Z\" fill=\"#000000\" fill-rule=\"nonzero\" fill-opacity=\"1\" /><path clip-path=\"url(#clip110)\" d=\"M1384.05 1520.52 L1411.36 1520.52 L1411.36 1525.93 L1390.48 1525.93 L1390.48 1539.94 L1409.32 1539.94 L1409.32 1545.35 L1390.48 1545.35 L1390.48 1568.04 L1384.05 1568.04 L1384.05 1520.52 Z\" fill=\"#000000\" fill-rule=\"nonzero\" fill-opacity=\"1\" /><path clip-path=\"url(#clip110)\" d=\"M1416.55 1532.4 L1422.4 1532.4 L1422.4 1568.04 L1416.55 1568.04 L1416.55 1532.4 M1416.55 1518.52 L1422.4 1518.52 L1422.4 1525.93 L1416.55 1525.93 L1416.55 1518.52 Z\" fill=\"#000000\" fill-rule=\"nonzero\" fill-opacity=\"1\" /><path clip-path=\"url(#clip110)\" d=\"M1455.31 1537.87 Q1454.33 1537.3 1453.15 1537.04 Q1452 1536.76 1450.6 1536.76 Q1445.64 1536.76 1442.97 1540 Q1440.32 1543.22 1440.32 1549.27 L1440.32 1568.04 L1434.44 1568.04 L1434.44 1532.4 L1440.32 1532.4 L1440.32 1537.93 Q1442.17 1534.69 1445.13 1533.13 Q1448.09 1531.54 1452.32 1531.54 Q1452.93 1531.54 1453.66 1531.63 Q1454.39 1531.7 1455.28 1531.85 L1455.31 1537.87 Z\" fill=\"#000000\" fill-rule=\"nonzero\" fill-opacity=\"1\" /><path clip-path=\"url(#clip110)\" d=\"M1488.07 1539.24 Q1490.26 1535.29 1493.32 1533.41 Q1496.37 1531.54 1500.51 1531.54 Q1506.08 1531.54 1509.11 1535.45 Q1512.13 1539.33 1512.13 1546.53 L1512.13 1568.04 L1506.24 1568.04 L1506.24 1546.72 Q1506.24 1541.59 1504.43 1539.11 Q1502.61 1536.63 1498.89 1536.63 Q1494.34 1536.63 1491.69 1539.65 Q1489.05 1542.68 1489.05 1547.9 L1489.05 1568.04 L1483.16 1568.04 L1483.16 1546.72 Q1483.16 1541.56 1481.35 1539.11 Q1479.54 1536.63 1475.75 1536.63 Q1471.26 1536.63 1468.62 1539.68 Q1465.98 1542.71 1465.98 1547.9 L1465.98 1568.04 L1460.09 1568.04 L1460.09 1532.4 L1465.98 1532.4 L1465.98 1537.93 Q1467.98 1534.66 1470.78 1533.1 Q1473.58 1531.54 1477.44 1531.54 Q1481.32 1531.54 1484.02 1533.51 Q1486.76 1535.48 1488.07 1539.24 Z\" fill=\"#000000\" fill-rule=\"nonzero\" fill-opacity=\"1\" /><path clip-path=\"url(#clip110)\" d=\"M1520.85 1547.58 L1538.01 1547.58 L1538.01 1552.8 L1520.85 1552.8 L1520.85 1547.58 Z\" fill=\"#000000\" fill-rule=\"nonzero\" fill-opacity=\"1\" /><path clip-path=\"url(#clip110)\" d=\"M1583.17 1524.18 L1583.17 1530.96 Q1579.92 1527.94 1576.23 1526.44 Q1572.57 1524.95 1568.43 1524.95 Q1560.29 1524.95 1555.96 1529.95 Q1551.63 1534.91 1551.63 1544.33 Q1551.63 1553.72 1555.96 1558.72 Q1560.29 1563.68 1568.43 1563.68 Q1572.57 1563.68 1576.23 1562.19 Q1579.92 1560.69 1583.17 1557.67 L1583.17 1564.38 Q1579.8 1566.68 1576.01 1567.82 Q1572.25 1568.97 1568.05 1568.97 Q1557.26 1568.97 1551.06 1562.38 Q1544.85 1555.76 1544.85 1544.33 Q1544.85 1532.87 1551.06 1526.28 Q1557.26 1519.66 1568.05 1519.66 Q1572.32 1519.66 1576.07 1520.81 Q1579.86 1521.92 1583.17 1524.18 Z\" fill=\"#000000\" fill-rule=\"nonzero\" fill-opacity=\"1\" /><polyline clip-path=\"url(#clip112)\" style=\"stroke:#000000; stroke-linecap:round; stroke-linejoin:round; stroke-width:2; stroke-opacity:0.1; fill:none\" points=\"174.149,1384.24 2352.76,1384.24 \"/>\n",
       "<polyline clip-path=\"url(#clip112)\" style=\"stroke:#000000; stroke-linecap:round; stroke-linejoin:round; stroke-width:2; stroke-opacity:0.1; fill:none\" points=\"174.149,998.521 2352.76,998.521 \"/>\n",
       "<polyline clip-path=\"url(#clip112)\" style=\"stroke:#000000; stroke-linecap:round; stroke-linejoin:round; stroke-width:2; stroke-opacity:0.1; fill:none\" points=\"174.149,612.801 2352.76,612.801 \"/>\n",
       "<polyline clip-path=\"url(#clip112)\" style=\"stroke:#000000; stroke-linecap:round; stroke-linejoin:round; stroke-width:2; stroke-opacity:0.1; fill:none\" points=\"174.149,227.081 2352.76,227.081 \"/>\n",
       "<polyline clip-path=\"url(#clip110)\" style=\"stroke:#000000; stroke-linecap:round; stroke-linejoin:round; stroke-width:4; stroke-opacity:1; fill:none\" points=\"174.149,1423.18 174.149,47.2441 \"/>\n",
       "<polyline clip-path=\"url(#clip110)\" style=\"stroke:#000000; stroke-linecap:round; stroke-linejoin:round; stroke-width:4; stroke-opacity:1; fill:none\" points=\"174.149,1384.24 193.047,1384.24 \"/>\n",
       "<polyline clip-path=\"url(#clip110)\" style=\"stroke:#000000; stroke-linecap:round; stroke-linejoin:round; stroke-width:4; stroke-opacity:1; fill:none\" points=\"174.149,998.521 193.047,998.521 \"/>\n",
       "<polyline clip-path=\"url(#clip110)\" style=\"stroke:#000000; stroke-linecap:round; stroke-linejoin:round; stroke-width:4; stroke-opacity:1; fill:none\" points=\"174.149,612.801 193.047,612.801 \"/>\n",
       "<polyline clip-path=\"url(#clip110)\" style=\"stroke:#000000; stroke-linecap:round; stroke-linejoin:round; stroke-width:4; stroke-opacity:1; fill:none\" points=\"174.149,227.081 193.047,227.081 \"/>\n",
       "<path clip-path=\"url(#clip110)\" d=\"M126.205 1370.04 Q122.593 1370.04 120.765 1373.61 Q118.959 1377.15 118.959 1384.28 Q118.959 1391.38 120.765 1394.95 Q122.593 1398.49 126.205 1398.49 Q129.839 1398.49 131.644 1394.95 Q133.473 1391.38 133.473 1384.28 Q133.473 1377.15 131.644 1373.61 Q129.839 1370.04 126.205 1370.04 M126.205 1366.34 Q132.015 1366.34 135.07 1370.94 Q138.149 1375.53 138.149 1384.28 Q138.149 1393 135.07 1397.61 Q132.015 1402.19 126.205 1402.19 Q120.394 1402.19 117.316 1397.61 Q114.26 1393 114.26 1384.28 Q114.26 1375.53 117.316 1370.94 Q120.394 1366.34 126.205 1366.34 Z\" fill=\"#000000\" fill-rule=\"nonzero\" fill-opacity=\"1\" /><path clip-path=\"url(#clip110)\" d=\"M118.242 1011.87 L125.88 1011.87 L125.88 985.501 L117.57 987.167 L117.57 982.908 L125.834 981.241 L130.51 981.241 L130.51 1011.87 L138.149 1011.87 L138.149 1015.8 L118.242 1015.8 L118.242 1011.87 Z\" fill=\"#000000\" fill-rule=\"nonzero\" fill-opacity=\"1\" /><path clip-path=\"url(#clip110)\" d=\"M121.83 626.146 L138.149 626.146 L138.149 630.081 L116.205 630.081 L116.205 626.146 Q118.867 623.391 123.45 618.762 Q128.056 614.109 129.237 612.766 Q131.482 610.243 132.362 608.507 Q133.265 606.748 133.265 605.058 Q133.265 602.303 131.32 600.567 Q129.399 598.831 126.297 598.831 Q124.098 598.831 121.644 599.595 Q119.214 600.359 116.436 601.91 L116.436 597.188 Q119.26 596.053 121.714 595.475 Q124.168 594.896 126.205 594.896 Q131.575 594.896 134.769 597.581 Q137.964 600.266 137.964 604.757 Q137.964 606.887 137.154 608.808 Q136.367 610.706 134.26 613.299 Q133.681 613.97 130.58 617.188 Q127.478 620.382 121.83 626.146 Z\" fill=\"#000000\" fill-rule=\"nonzero\" fill-opacity=\"1\" /><path clip-path=\"url(#clip110)\" d=\"M131.019 225.727 Q134.376 226.444 136.251 228.713 Q138.149 230.981 138.149 234.314 Q138.149 239.43 134.63 242.231 Q131.112 245.032 124.63 245.032 Q122.455 245.032 120.14 244.592 Q117.848 244.176 115.394 243.319 L115.394 238.805 Q117.339 239.939 119.654 240.518 Q121.968 241.097 124.492 241.097 Q128.89 241.097 131.181 239.361 Q133.496 237.625 133.496 234.314 Q133.496 231.259 131.343 229.546 Q129.214 227.81 125.394 227.81 L121.367 227.81 L121.367 223.967 L125.58 223.967 Q129.029 223.967 130.857 222.602 Q132.686 221.213 132.686 218.62 Q132.686 215.958 130.788 214.546 Q128.913 213.111 125.394 213.111 Q123.473 213.111 121.274 213.528 Q119.075 213.944 116.436 214.824 L116.436 210.657 Q119.098 209.916 121.413 209.546 Q123.751 209.176 125.811 209.176 Q131.135 209.176 134.237 211.606 Q137.339 214.014 137.339 218.134 Q137.339 221.004 135.695 222.995 Q134.052 224.963 131.019 225.727 Z\" fill=\"#000000\" fill-rule=\"nonzero\" fill-opacity=\"1\" /><path clip-path=\"url(#clip110)\" d=\"M21.7677 848.522 L58.7206 848.522 L58.7206 840.755 Q58.7206 830.92 54.2646 826.369 Q49.8086 821.786 40.1964 821.786 Q30.6479 821.786 26.2237 826.369 Q21.7677 830.92 21.7677 840.755 L21.7677 848.522 M16.4842 854.951 L16.4842 841.742 Q16.4842 827.928 22.2451 821.467 Q27.9743 815.006 40.1964 815.006 Q52.4822 815.006 58.2432 821.499 Q64.0042 827.992 64.0042 841.742 L64.0042 854.951 L16.4842 854.951 Z\" fill=\"#000000\" fill-rule=\"nonzero\" fill-opacity=\"1\" /><path clip-path=\"url(#clip110)\" d=\"M44.7161 774.52 L47.5806 774.52 L47.5806 801.447 Q53.6281 801.065 56.8109 797.819 Q59.9619 794.54 59.9619 788.716 Q59.9619 785.342 59.1344 782.191 Q58.3069 779.008 56.6518 775.889 L62.1899 775.889 Q63.5267 779.04 64.227 782.35 Q64.9272 785.66 64.9272 789.066 Q64.9272 797.596 59.9619 802.593 Q54.9967 807.558 46.5303 807.558 Q37.7774 807.558 32.6531 802.848 Q27.4968 798.105 27.4968 790.084 Q27.4968 782.891 32.1438 778.722 Q36.7589 774.52 44.7161 774.52 M42.9973 780.377 Q38.1912 780.44 35.3266 783.082 Q32.4621 785.692 32.4621 790.021 Q32.4621 794.922 35.2312 797.882 Q38.0002 800.811 43.0292 801.256 L42.9973 780.377 Z\" fill=\"#000000\" fill-rule=\"nonzero\" fill-opacity=\"1\" /><path clip-path=\"url(#clip110)\" d=\"M42.4881 735.276 L64.0042 735.276 L64.0042 741.132 L42.679 741.132 Q37.6183 741.132 35.1038 743.105 Q32.5894 745.079 32.5894 749.026 Q32.5894 753.768 35.6131 756.505 Q38.6368 759.243 43.8567 759.243 L64.0042 759.243 L64.0042 765.131 L28.3562 765.131 L28.3562 759.243 L33.8944 759.243 Q30.6797 757.142 29.0883 754.309 Q27.4968 751.445 27.4968 747.721 Q27.4968 741.578 31.3163 738.427 Q35.1038 735.276 42.4881 735.276 Z\" fill=\"#000000\" fill-rule=\"nonzero\" fill-opacity=\"1\" /><path clip-path=\"url(#clip110)\" d=\"M29.4065 700.869 L34.9447 700.869 Q33.6716 703.352 33.035 706.025 Q32.3984 708.699 32.3984 711.563 Q32.3984 715.924 33.7352 718.12 Q35.072 720.284 37.7456 720.284 Q39.7826 720.284 40.9603 718.725 Q42.1061 717.165 43.1565 712.455 L43.6021 710.449 Q44.9389 704.211 47.3897 701.601 Q49.8086 698.959 54.1691 698.959 Q59.1344 698.959 62.0308 702.906 Q64.9272 706.821 64.9272 713.696 Q64.9272 716.56 64.3543 719.68 Q63.8132 722.767 62.6992 726.204 L56.6518 726.204 Q58.3387 722.958 59.198 719.807 Q60.0256 716.656 60.0256 713.569 Q60.0256 709.431 58.6251 707.203 Q57.1929 704.975 54.6147 704.975 Q52.2276 704.975 50.9545 706.598 Q49.6813 708.19 48.5037 713.632 L48.0262 715.669 Q46.8804 721.112 44.5251 723.531 Q42.138 725.95 38.0002 725.95 Q32.9713 725.95 30.2341 722.385 Q27.4968 718.82 27.4968 712.264 Q27.4968 709.017 27.9743 706.153 Q28.4517 703.288 29.4065 700.869 Z\" fill=\"#000000\" fill-rule=\"nonzero\" fill-opacity=\"1\" /><path clip-path=\"url(#clip110)\" d=\"M28.3562 689.634 L28.3562 683.777 L64.0042 683.777 L64.0042 689.634 L28.3562 689.634 M14.479 689.634 L14.479 683.777 L21.895 683.777 L21.895 689.634 L14.479 689.634 Z\" fill=\"#000000\" fill-rule=\"nonzero\" fill-opacity=\"1\" /><path clip-path=\"url(#clip110)\" d=\"M18.2347 665.73 L28.3562 665.73 L28.3562 653.667 L32.9077 653.667 L32.9077 665.73 L52.2594 665.73 Q56.6199 665.73 57.8613 664.553 Q59.1026 663.343 59.1026 659.683 L59.1026 653.667 L64.0042 653.667 L64.0042 659.683 Q64.0042 666.462 61.4897 669.04 Q58.9434 671.619 52.2594 671.619 L32.9077 671.619 L32.9077 675.915 L28.3562 675.915 L28.3562 671.619 L18.2347 671.619 L18.2347 665.73 Z\" fill=\"#000000\" fill-rule=\"nonzero\" fill-opacity=\"1\" /><path clip-path=\"url(#clip110)\" d=\"M67.3143 631.133 Q73.68 633.615 75.6216 635.971 Q77.5631 638.326 77.5631 642.273 L77.5631 646.951 L72.6615 646.951 L72.6615 643.514 Q72.6615 641.095 71.5157 639.758 Q70.3699 638.421 66.1048 636.798 L63.4312 635.748 L28.3562 650.166 L28.3562 643.96 L56.238 632.82 L28.3562 621.68 L28.3562 615.473 L67.3143 631.133 Z\" fill=\"#000000\" fill-rule=\"nonzero\" fill-opacity=\"1\" /><polyline clip-path=\"url(#clip112)\" style=\"stroke:#000080; stroke-linecap:round; stroke-linejoin:round; stroke-width:8; stroke-opacity:1; fill:none\" points=\"405.094,1383.25 411.233,1383.16 417.373,1383.06 474.141,1381.62 530.909,1378.72 565.024,1375.79 599.14,1371.56 627.984,1366.61 656.828,1360.04 672.494,1355.65 688.16,1350.6 703.827,1344.81 719.493,1338.19 733.936,1331.29 748.379,1323.56 762.822,1314.92 777.265,1305.31 792.749,1293.85 808.234,1281.1 823.718,1267 839.203,1251.47 857.143,1231.59 875.083,1209.61 893.023,1185.47 910.964,1159.13 926.907,1133.85 942.85,1106.83 958.793,1078.11 974.736,1047.75 988.717,1019.84 1002.7,990.824 1016.68,960.782 1030.66,929.829 1061.14,859.822 1091.63,787.714 1122.3,715.003 1152.96,644.332 1161.44,625.474 1169.92,607.005 1178.39,588.975 1186.87,571.436 1195.35,554.438 1203.82,538.03 1212.3,522.262 1220.77,507.181 1228.84,493.511 1236.91,480.543 1244.97,468.314 1253.04,456.857 1261.1,446.207 1269.17,436.394 1277.23,427.447 1285.3,419.392 1293.68,411.988 1302.07,405.599 1310.45,400.244 1318.84,395.942 1327.23,392.706 1335.61,390.546 1344,389.471 1352.38,389.484 1359.44,390.337 1366.5,391.959 1373.56,394.346 1380.62,397.492 1387.68,401.39 1394.74,406.032 1401.8,411.406 1408.86,417.499 1417.47,425.895 1426.09,435.315 1434.71,445.727 1443.33,457.096 1451.95,469.385 1460.57,482.554 1469.18,496.559 1477.8,511.355 1493.59,540.361 1509.38,571.56 1517.28,587.883 1525.17,604.635 1533.07,621.774 1540.96,639.258 1570.13,706.17 1599.3,775.184 1628.84,845.255 1658.39,913.697 1674.94,950.755 1691.5,986.594 1708.05,1021.02 1724.61,1053.88 1739.61,1082.19 1754.61,1109.05 1769.61,1134.39 1784.62,1158.19 1801.79,1183.53 1818.97,1206.85 1836.15,1228.18 1853.32,1247.57 1869.23,1263.86 1885.13,1278.63 1901.03,1291.95 1916.94,1303.91 1932.62,1314.45 1948.3,1323.83 1963.98,1332.16 1979.66,1339.51 1994.88,1345.79 2010.1,1351.31 2025.33,1356.14 2040.55,1360.35 2071.76,1367.3 2102.97,1372.41 2137.17,1376.39 2171.36,1379.13 2221.04,1381.59 2270.72,1382.91 2280.91,1383.1 2291.1,1383.25 \"/>\n",
       "<polyline clip-path=\"url(#clip112)\" style=\"stroke:#ff0000; stroke-linecap:round; stroke-linejoin:round; stroke-width:8; stroke-opacity:1; fill:none\" points=\"235.808,1384.24 245.133,1384.24 254.458,1384.23 263.784,1384.23 273.109,1384.21 282.434,1384.19 291.76,1384.15 301.085,1384.07 310.41,1383.96 319.736,1383.78 329.061,1383.53 338.386,1383.18 347.712,1382.71 357.037,1382.13 366.362,1381.44 375.688,1380.66 385.013,1379.83 394.338,1379.02 403.664,1378.26 412.989,1377.64 422.314,1377.18 431.64,1376.91 440.965,1376.8 450.29,1376.82 459.616,1376.87 468.941,1376.86 478.266,1376.68 487.592,1376.23 496.917,1375.44 506.242,1374.27 515.568,1372.75 524.893,1370.95 534.218,1368.96 543.544,1366.93 552.869,1364.99 562.194,1363.27 571.52,1361.86 580.845,1360.77 590.17,1359.97 599.496,1359.35 608.821,1358.76 618.146,1358.03 627.472,1356.99 636.797,1355.47 646.122,1353.35 655.448,1350.53 664.773,1346.93 674.098,1342.49 683.424,1337.15 692.749,1330.86 702.074,1323.59 711.4,1315.33 720.725,1306.08 730.05,1295.91 739.376,1284.89 748.701,1273.16 758.026,1260.94 767.352,1248.5 776.677,1236.22 786.002,1224.59 795.328,1214.16 804.653,1205.5 813.978,1199.17 823.304,1195.56 832.629,1194.88 841.954,1197.12 851.28,1201.98 860.605,1209 869.93,1217.55 879.256,1226.95 888.581,1236.53 897.906,1245.64 907.232,1253.66 916.557,1260 925.882,1264.04 935.208,1265.17 944.533,1262.74 953.858,1256.13 963.184,1244.82 972.509,1228.43 981.834,1206.85 991.16,1180.23 1000.48,1149.08 1009.81,1114.2 1019.14,1076.65 1028.46,1037.69 1037.79,998.626 1047.11,960.753 1056.44,925.232 1065.76,893.009 1075.09,864.748 1084.41,840.777 1093.74,821.058 1103.06,805.181 1112.39,792.381 1121.71,781.581 1131.04,771.461 1140.36,760.522 1149.69,747.172 1159.02,729.803 1168.34,706.897 1177.67,677.151 1186.99,639.647 1196.32,594.045 1205.64,540.777 1214.97,481.164 1224.29,417.423 1233.62,352.497 1242.94,289.728 1252.27,232.398 1261.59,183.251 1270.92,144.108 1280.24,115.649 1289.57,97.4462 1298.9,88.2092 1308.22,86.1857 1317.55,89.606 1326.87,97.0663 1336.2,107.772 1345.52,121.603 1354.85,139.019 1364.17,160.833 1373.5,187.94 1382.82,221.031 1392.15,260.379 1401.47,305.715 1410.8,356.222 1420.12,410.638 1429.45,467.452 1438.78,525.129 1448.1,582.327 1457.43,638.039 1466.75,691.641 1476.08,742.832 1485.4,791.499 1494.73,837.549 1504.05,880.754 1513.38,920.668 1522.7,956.615 1532.03,987.772 1541.35,1013.29 1550.68,1032.45 1560,1044.79 1569.33,1050.18 1578.66,1048.84 1587.98,1041.33 1597.31,1028.38 1606.63,1010.86 1615.96,989.618 1625.28,965.427 1634.61,938.949 1643.93,910.767 1653.26,881.469 1662.58,851.756 1671.91,822.562 1681.23,795.128 1690.56,771.016 1699.88,752.03 1709.21,740.037 1718.54,736.726 1727.86,743.341 1737.19,760.444 1746.51,787.778 1755.84,824.248 1765.16,868.043 1774.49,916.856 1783.81,968.164 1793.14,1019.51 1802.46,1068.75 1811.79,1114.19 1821.11,1154.73 1830.44,1189.8 1839.76,1219.36 1849.09,1243.8 1858.42,1263.77 1867.74,1280.13 1877.07,1293.75 1886.39,1305.42 1895.72,1315.79 1905.04,1325.31 1914.37,1334.22 1923.69,1342.59 1933.02,1350.36 1942.34,1357.4 1951.67,1363.6 1960.99,1368.86 1970.32,1373.16 1979.64,1376.53 1988.97,1379.06 1998.3,1380.89 2007.62,1382.15 2016.95,1382.99 2026.27,1383.52 2035.6,1383.84 2044.92,1384.03 2054.25,1384.13 2063.57,1384.19 2072.9,1384.22 2082.22,1384.23 2091.55,1384.24 \"/>\n",
       "<path clip-path=\"url(#clip110)\" d=\"M1899.85 248.629 L2280.14 248.629 L2280.14 93.1086 L1899.85 93.1086  Z\" fill=\"#ffffff\" fill-rule=\"evenodd\" fill-opacity=\"1\"/>\n",
       "<polyline clip-path=\"url(#clip110)\" style=\"stroke:#000000; stroke-linecap:round; stroke-linejoin:round; stroke-width:4; stroke-opacity:1; fill:none\" points=\"1899.85,248.629 2280.14,248.629 2280.14,93.1086 1899.85,93.1086 1899.85,248.629 \"/>\n",
       "<polyline clip-path=\"url(#clip110)\" style=\"stroke:#000080; stroke-linecap:round; stroke-linejoin:round; stroke-width:8; stroke-opacity:1; fill:none\" points=\"1924.05,144.949 2069.29,144.949 \"/>\n",
       "<path clip-path=\"url(#clip110)\" d=\"M2093.5 127.669 L2099.8 127.669 L2115.12 156.581 L2115.12 127.669 L2119.66 127.669 L2119.66 162.229 L2113.36 162.229 L2098.04 133.317 L2098.04 162.229 L2093.5 162.229 L2093.5 127.669 Z\" fill=\"#000000\" fill-rule=\"nonzero\" fill-opacity=\"1\" /><path clip-path=\"url(#clip110)\" d=\"M2138.82 139.289 Q2135.4 139.289 2133.41 141.974 Q2131.42 144.636 2131.42 149.289 Q2131.42 153.942 2133.38 156.627 Q2135.37 159.289 2138.82 159.289 Q2142.23 159.289 2144.22 156.604 Q2146.21 153.918 2146.21 149.289 Q2146.21 144.682 2144.22 141.997 Q2142.23 139.289 2138.82 139.289 M2138.82 135.678 Q2144.38 135.678 2147.55 139.289 Q2150.72 142.9 2150.72 149.289 Q2150.72 155.655 2147.55 159.289 Q2144.38 162.9 2138.82 162.9 Q2133.24 162.9 2130.07 159.289 Q2126.92 155.655 2126.92 149.289 Q2126.92 142.9 2130.07 139.289 Q2133.24 135.678 2138.82 135.678 Z\" fill=\"#000000\" fill-rule=\"nonzero\" fill-opacity=\"1\" /><path clip-path=\"url(#clip110)\" d=\"M2172.8 140.284 Q2172.09 139.868 2171.23 139.682 Q2170.4 139.474 2169.38 139.474 Q2165.77 139.474 2163.82 141.835 Q2161.9 144.173 2161.9 148.571 L2161.9 162.229 L2157.62 162.229 L2157.62 136.303 L2161.9 136.303 L2161.9 140.331 Q2163.24 137.969 2165.4 136.835 Q2167.55 135.678 2170.63 135.678 Q2171.07 135.678 2171.6 135.747 Q2172.13 135.794 2172.78 135.909 L2172.8 140.284 Z\" fill=\"#000000\" fill-rule=\"nonzero\" fill-opacity=\"1\" /><path clip-path=\"url(#clip110)\" d=\"M2196.62 141.28 Q2198.22 138.409 2200.44 137.044 Q2202.67 135.678 2205.67 135.678 Q2209.73 135.678 2211.92 138.525 Q2214.12 141.349 2214.12 146.581 L2214.12 162.229 L2209.84 162.229 L2209.84 146.719 Q2209.84 142.993 2208.52 141.187 Q2207.2 139.382 2204.49 139.382 Q2201.18 139.382 2199.26 141.581 Q2197.34 143.78 2197.34 147.576 L2197.34 162.229 L2193.06 162.229 L2193.06 146.719 Q2193.06 142.969 2191.74 141.187 Q2190.42 139.382 2187.67 139.382 Q2184.4 139.382 2182.48 141.604 Q2180.56 143.803 2180.56 147.576 L2180.56 162.229 L2176.28 162.229 L2176.28 136.303 L2180.56 136.303 L2180.56 140.331 Q2182.02 137.946 2184.05 136.812 Q2186.09 135.678 2188.89 135.678 Q2191.72 135.678 2193.68 137.113 Q2195.67 138.548 2196.62 141.28 Z\" fill=\"#000000\" fill-rule=\"nonzero\" fill-opacity=\"1\" /><path clip-path=\"url(#clip110)\" d=\"M2234.4 149.196 Q2229.24 149.196 2227.25 150.377 Q2225.26 151.557 2225.26 154.405 Q2225.26 156.673 2226.74 158.016 Q2228.24 159.335 2230.81 159.335 Q2234.35 159.335 2236.48 156.835 Q2238.64 154.312 2238.64 150.145 L2238.64 149.196 L2234.4 149.196 M2242.9 147.437 L2242.9 162.229 L2238.64 162.229 L2238.64 158.293 Q2237.18 160.655 2235 161.789 Q2232.83 162.9 2229.68 162.9 Q2225.7 162.9 2223.34 160.678 Q2221 158.432 2221 154.682 Q2221 150.307 2223.92 148.085 Q2226.86 145.863 2232.67 145.863 L2238.64 145.863 L2238.64 145.446 Q2238.64 142.507 2236.69 140.909 Q2234.77 139.289 2231.28 139.289 Q2229.05 139.289 2226.95 139.821 Q2224.84 140.354 2222.9 141.419 L2222.9 137.483 Q2225.23 136.581 2227.43 136.141 Q2229.63 135.678 2231.72 135.678 Q2237.34 135.678 2240.12 138.594 Q2242.9 141.511 2242.9 147.437 Z\" fill=\"#000000\" fill-rule=\"nonzero\" fill-opacity=\"1\" /><path clip-path=\"url(#clip110)\" d=\"M2251.67 126.21 L2255.93 126.21 L2255.93 162.229 L2251.67 162.229 L2251.67 126.21 Z\" fill=\"#000000\" fill-rule=\"nonzero\" fill-opacity=\"1\" /><polyline clip-path=\"url(#clip110)\" style=\"stroke:#ff0000; stroke-linecap:round; stroke-linejoin:round; stroke-width:8; stroke-opacity:1; fill:none\" points=\"1924.05,196.789 2069.29,196.789 \"/>\n",
       "<path clip-path=\"url(#clip110)\" d=\"M2109.33 184.115 L2102.99 201.314 L2115.7 201.314 L2109.33 184.115 M2106.69 179.509 L2111.99 179.509 L2125.17 214.069 L2120.3 214.069 L2117.16 205.203 L2101.58 205.203 L2098.43 214.069 L2093.5 214.069 L2106.69 179.509 Z\" fill=\"#000000\" fill-rule=\"nonzero\" fill-opacity=\"1\" /><path clip-path=\"url(#clip110)\" d=\"M2147.85 189.138 L2147.85 193.12 Q2146.05 192.124 2144.22 191.638 Q2142.41 191.129 2140.56 191.129 Q2136.42 191.129 2134.12 193.768 Q2131.83 196.384 2131.83 201.129 Q2131.83 205.874 2134.12 208.513 Q2136.42 211.129 2140.56 211.129 Q2142.41 211.129 2144.22 210.643 Q2146.05 210.133 2147.85 209.138 L2147.85 213.073 Q2146.07 213.907 2144.15 214.323 Q2142.25 214.74 2140.1 214.74 Q2134.24 214.74 2130.79 211.059 Q2127.34 207.379 2127.34 201.129 Q2127.34 194.786 2130.81 191.152 Q2134.31 187.518 2140.37 187.518 Q2142.34 187.518 2144.22 187.935 Q2146.09 188.328 2147.85 189.138 Z\" fill=\"#000000\" fill-rule=\"nonzero\" fill-opacity=\"1\" /><path clip-path=\"url(#clip110)\" d=\"M2159.47 180.782 L2159.47 188.143 L2168.24 188.143 L2168.24 191.453 L2159.47 191.453 L2159.47 205.527 Q2159.47 208.698 2160.33 209.601 Q2161.21 210.504 2163.87 210.504 L2168.24 210.504 L2168.24 214.069 L2163.87 214.069 Q2158.94 214.069 2157.06 212.24 Q2155.19 210.388 2155.19 205.527 L2155.19 191.453 L2152.06 191.453 L2152.06 188.143 L2155.19 188.143 L2155.19 180.782 L2159.47 180.782 Z\" fill=\"#000000\" fill-rule=\"nonzero\" fill-opacity=\"1\" /><path clip-path=\"url(#clip110)\" d=\"M2173.41 203.837 L2173.41 188.143 L2177.67 188.143 L2177.67 203.675 Q2177.67 207.356 2179.1 209.208 Q2180.54 211.036 2183.41 211.036 Q2186.86 211.036 2188.85 208.837 Q2190.86 206.638 2190.86 202.842 L2190.86 188.143 L2195.12 188.143 L2195.12 214.069 L2190.86 214.069 L2190.86 210.087 Q2189.31 212.448 2187.25 213.606 Q2185.21 214.74 2182.5 214.74 Q2178.04 214.74 2175.72 211.962 Q2173.41 209.184 2173.41 203.837 M2184.12 187.518 L2184.12 187.518 Z\" fill=\"#000000\" fill-rule=\"nonzero\" fill-opacity=\"1\" /><path clip-path=\"url(#clip110)\" d=\"M2215.67 201.036 Q2210.51 201.036 2208.52 202.217 Q2206.53 203.397 2206.53 206.245 Q2206.53 208.513 2208.01 209.856 Q2209.52 211.175 2212.09 211.175 Q2215.63 211.175 2217.76 208.675 Q2219.91 206.152 2219.91 201.985 L2219.91 201.036 L2215.67 201.036 M2224.17 199.277 L2224.17 214.069 L2219.91 214.069 L2219.91 210.133 Q2218.45 212.495 2216.28 213.629 Q2214.1 214.74 2210.95 214.74 Q2206.97 214.74 2204.61 212.518 Q2202.27 210.272 2202.27 206.522 Q2202.27 202.147 2205.19 199.925 Q2208.13 197.703 2213.94 197.703 L2219.91 197.703 L2219.91 197.286 Q2219.91 194.347 2217.97 192.749 Q2216.04 191.129 2212.55 191.129 Q2210.33 191.129 2208.22 191.661 Q2206.11 192.194 2204.17 193.259 L2204.17 189.323 Q2206.51 188.421 2208.71 187.981 Q2210.91 187.518 2212.99 187.518 Q2218.61 187.518 2221.39 190.434 Q2224.17 193.351 2224.17 199.277 Z\" fill=\"#000000\" fill-rule=\"nonzero\" fill-opacity=\"1\" /><path clip-path=\"url(#clip110)\" d=\"M2232.94 178.05 L2237.2 178.05 L2237.2 214.069 L2232.94 214.069 L2232.94 178.05 Z\" fill=\"#000000\" fill-rule=\"nonzero\" fill-opacity=\"1\" /></svg>\n"
      ],
      "text/html": [
       "<?xml version=\"1.0\" encoding=\"utf-8\"?>\n",
       "<svg xmlns=\"http://www.w3.org/2000/svg\" xmlns:xlink=\"http://www.w3.org/1999/xlink\" width=\"600\" height=\"400\" viewBox=\"0 0 2400 1600\">\n",
       "<defs>\n",
       "  <clipPath id=\"clip160\">\n",
       "    <rect x=\"0\" y=\"0\" width=\"2400\" height=\"1600\"/>\n",
       "  </clipPath>\n",
       "</defs>\n",
       "<path clip-path=\"url(#clip160)\" d=\"M0 1600 L2400 1600 L2400 8.88178e-14 L0 8.88178e-14  Z\" fill=\"#ffffff\" fill-rule=\"evenodd\" fill-opacity=\"1\"/>\n",
       "<defs>\n",
       "  <clipPath id=\"clip161\">\n",
       "    <rect x=\"480\" y=\"0\" width=\"1681\" height=\"1600\"/>\n",
       "  </clipPath>\n",
       "</defs>\n",
       "<path clip-path=\"url(#clip160)\" d=\"M174.149 1423.18 L2352.76 1423.18 L2352.76 47.2441 L174.149 47.2441  Z\" fill=\"#ffffff\" fill-rule=\"evenodd\" fill-opacity=\"1\"/>\n",
       "<defs>\n",
       "  <clipPath id=\"clip162\">\n",
       "    <rect x=\"174\" y=\"47\" width=\"2180\" height=\"1377\"/>\n",
       "  </clipPath>\n",
       "</defs>\n",
       "<polyline clip-path=\"url(#clip162)\" style=\"stroke:#000000; stroke-linecap:round; stroke-linejoin:round; stroke-width:2; stroke-opacity:0.1; fill:none\" points=\"528.402,1423.18 528.402,47.2441 \"/>\n",
       "<polyline clip-path=\"url(#clip162)\" style=\"stroke:#000000; stroke-linecap:round; stroke-linejoin:round; stroke-width:2; stroke-opacity:0.1; fill:none\" points=\"938.249,1423.18 938.249,47.2441 \"/>\n",
       "<polyline clip-path=\"url(#clip162)\" style=\"stroke:#000000; stroke-linecap:round; stroke-linejoin:round; stroke-width:2; stroke-opacity:0.1; fill:none\" points=\"1348.1,1423.18 1348.1,47.2441 \"/>\n",
       "<polyline clip-path=\"url(#clip162)\" style=\"stroke:#000000; stroke-linecap:round; stroke-linejoin:round; stroke-width:2; stroke-opacity:0.1; fill:none\" points=\"1757.94,1423.18 1757.94,47.2441 \"/>\n",
       "<polyline clip-path=\"url(#clip162)\" style=\"stroke:#000000; stroke-linecap:round; stroke-linejoin:round; stroke-width:2; stroke-opacity:0.1; fill:none\" points=\"2167.79,1423.18 2167.79,47.2441 \"/>\n",
       "<polyline clip-path=\"url(#clip160)\" style=\"stroke:#000000; stroke-linecap:round; stroke-linejoin:round; stroke-width:4; stroke-opacity:1; fill:none\" points=\"174.149,1423.18 2352.76,1423.18 \"/>\n",
       "<polyline clip-path=\"url(#clip160)\" style=\"stroke:#000000; stroke-linecap:round; stroke-linejoin:round; stroke-width:4; stroke-opacity:1; fill:none\" points=\"528.402,1423.18 528.402,1404.28 \"/>\n",
       "<polyline clip-path=\"url(#clip160)\" style=\"stroke:#000000; stroke-linecap:round; stroke-linejoin:round; stroke-width:4; stroke-opacity:1; fill:none\" points=\"938.249,1423.18 938.249,1404.28 \"/>\n",
       "<polyline clip-path=\"url(#clip160)\" style=\"stroke:#000000; stroke-linecap:round; stroke-linejoin:round; stroke-width:4; stroke-opacity:1; fill:none\" points=\"1348.1,1423.18 1348.1,1404.28 \"/>\n",
       "<polyline clip-path=\"url(#clip160)\" style=\"stroke:#000000; stroke-linecap:round; stroke-linejoin:round; stroke-width:4; stroke-opacity:1; fill:none\" points=\"1757.94,1423.18 1757.94,1404.28 \"/>\n",
       "<polyline clip-path=\"url(#clip160)\" style=\"stroke:#000000; stroke-linecap:round; stroke-linejoin:round; stroke-width:4; stroke-opacity:1; fill:none\" points=\"2167.79,1423.18 2167.79,1404.28 \"/>\n",
       "<path clip-path=\"url(#clip160)\" d=\"M459.849 1468.75 L489.525 1468.75 L489.525 1472.69 L459.849 1472.69 L459.849 1468.75 Z\" fill=\"#000000\" fill-rule=\"nonzero\" fill-opacity=\"1\" /><path clip-path=\"url(#clip160)\" d=\"M509.618 1454.1 Q506.007 1454.1 504.178 1457.66 Q502.372 1461.2 502.372 1468.33 Q502.372 1475.44 504.178 1479.01 Q506.007 1482.55 509.618 1482.55 Q513.252 1482.55 515.057 1479.01 Q516.886 1475.44 516.886 1468.33 Q516.886 1461.2 515.057 1457.66 Q513.252 1454.1 509.618 1454.1 M509.618 1450.39 Q515.428 1450.39 518.483 1455 Q521.562 1459.58 521.562 1468.33 Q521.562 1477.06 518.483 1481.67 Q515.428 1486.25 509.618 1486.25 Q503.807 1486.25 500.729 1481.67 Q497.673 1477.06 497.673 1468.33 Q497.673 1459.58 500.729 1455 Q503.807 1450.39 509.618 1450.39 Z\" fill=\"#000000\" fill-rule=\"nonzero\" fill-opacity=\"1\" /><path clip-path=\"url(#clip160)\" d=\"M529.78 1479.7 L534.664 1479.7 L534.664 1485.58 L529.78 1485.58 L529.78 1479.7 Z\" fill=\"#000000\" fill-rule=\"nonzero\" fill-opacity=\"1\" /><path clip-path=\"url(#clip160)\" d=\"M544.895 1451.02 L563.252 1451.02 L563.252 1454.96 L549.178 1454.96 L549.178 1463.43 Q550.196 1463.08 551.215 1462.92 Q552.233 1462.73 553.252 1462.73 Q559.039 1462.73 562.418 1465.9 Q565.798 1469.08 565.798 1474.49 Q565.798 1480.07 562.326 1483.17 Q558.853 1486.25 552.534 1486.25 Q550.358 1486.25 548.09 1485.88 Q545.844 1485.51 543.437 1484.77 L543.437 1480.07 Q545.52 1481.2 547.742 1481.76 Q549.965 1482.32 552.441 1482.32 Q556.446 1482.32 558.784 1480.21 Q561.122 1478.1 561.122 1474.49 Q561.122 1470.88 558.784 1468.77 Q556.446 1466.67 552.441 1466.67 Q550.566 1466.67 548.691 1467.08 Q546.84 1467.5 544.895 1468.38 L544.895 1451.02 Z\" fill=\"#000000\" fill-rule=\"nonzero\" fill-opacity=\"1\" /><path clip-path=\"url(#clip160)\" d=\"M585.011 1454.1 Q581.4 1454.1 579.571 1457.66 Q577.765 1461.2 577.765 1468.33 Q577.765 1475.44 579.571 1479.01 Q581.4 1482.55 585.011 1482.55 Q588.645 1482.55 590.451 1479.01 Q592.279 1475.44 592.279 1468.33 Q592.279 1461.2 590.451 1457.66 Q588.645 1454.1 585.011 1454.1 M585.011 1450.39 Q590.821 1450.39 593.876 1455 Q596.955 1459.58 596.955 1468.33 Q596.955 1477.06 593.876 1481.67 Q590.821 1486.25 585.011 1486.25 Q579.201 1486.25 576.122 1481.67 Q573.066 1477.06 573.066 1468.33 Q573.066 1459.58 576.122 1455 Q579.201 1450.39 585.011 1450.39 Z\" fill=\"#000000\" fill-rule=\"nonzero\" fill-opacity=\"1\" /><path clip-path=\"url(#clip160)\" d=\"M870.194 1468.75 L899.869 1468.75 L899.869 1472.69 L870.194 1472.69 L870.194 1468.75 Z\" fill=\"#000000\" fill-rule=\"nonzero\" fill-opacity=\"1\" /><path clip-path=\"url(#clip160)\" d=\"M919.962 1454.1 Q916.351 1454.1 914.522 1457.66 Q912.717 1461.2 912.717 1468.33 Q912.717 1475.44 914.522 1479.01 Q916.351 1482.55 919.962 1482.55 Q923.596 1482.55 925.402 1479.01 Q927.23 1475.44 927.23 1468.33 Q927.23 1461.2 925.402 1457.66 Q923.596 1454.1 919.962 1454.1 M919.962 1450.39 Q925.772 1450.39 928.828 1455 Q931.906 1459.58 931.906 1468.33 Q931.906 1477.06 928.828 1481.67 Q925.772 1486.25 919.962 1486.25 Q914.152 1486.25 911.073 1481.67 Q908.018 1477.06 908.018 1468.33 Q908.018 1459.58 911.073 1455 Q914.152 1450.39 919.962 1450.39 Z\" fill=\"#000000\" fill-rule=\"nonzero\" fill-opacity=\"1\" /><path clip-path=\"url(#clip160)\" d=\"M940.124 1479.7 L945.008 1479.7 L945.008 1485.58 L940.124 1485.58 L940.124 1479.7 Z\" fill=\"#000000\" fill-rule=\"nonzero\" fill-opacity=\"1\" /><path clip-path=\"url(#clip160)\" d=\"M959.221 1481.64 L975.54 1481.64 L975.54 1485.58 L953.596 1485.58 L953.596 1481.64 Q956.258 1478.89 960.841 1474.26 Q965.448 1469.61 966.628 1468.27 Q968.874 1465.74 969.753 1464.01 Q970.656 1462.25 970.656 1460.56 Q970.656 1457.8 968.712 1456.07 Q966.79 1454.33 963.689 1454.33 Q961.49 1454.33 959.036 1455.09 Q956.605 1455.86 953.828 1457.41 L953.828 1452.69 Q956.652 1451.55 959.105 1450.97 Q961.559 1450.39 963.596 1450.39 Q968.966 1450.39 972.161 1453.08 Q975.355 1455.77 975.355 1460.26 Q975.355 1462.39 974.545 1464.31 Q973.758 1466.2 971.651 1468.8 Q971.073 1469.47 967.971 1472.69 Q964.869 1475.88 959.221 1481.64 Z\" fill=\"#000000\" fill-rule=\"nonzero\" fill-opacity=\"1\" /><path clip-path=\"url(#clip160)\" d=\"M985.401 1451.02 L1003.76 1451.02 L1003.76 1454.96 L989.684 1454.96 L989.684 1463.43 Q990.702 1463.08 991.721 1462.92 Q992.739 1462.73 993.758 1462.73 Q999.545 1462.73 1002.92 1465.9 Q1006.3 1469.08 1006.3 1474.49 Q1006.3 1480.07 1002.83 1483.17 Q999.36 1486.25 993.04 1486.25 Q990.864 1486.25 988.596 1485.88 Q986.35 1485.51 983.943 1484.77 L983.943 1480.07 Q986.026 1481.2 988.249 1481.76 Q990.471 1482.32 992.948 1482.32 Q996.952 1482.32 999.29 1480.21 Q1001.63 1478.1 1001.63 1474.49 Q1001.63 1470.88 999.29 1468.77 Q996.952 1466.67 992.948 1466.67 Q991.073 1466.67 989.198 1467.08 Q987.346 1467.5 985.401 1468.38 L985.401 1451.02 Z\" fill=\"#000000\" fill-rule=\"nonzero\" fill-opacity=\"1\" /><path clip-path=\"url(#clip160)\" d=\"M1310.4 1454.1 Q1306.79 1454.1 1304.96 1457.66 Q1303.15 1461.2 1303.15 1468.33 Q1303.15 1475.44 1304.96 1479.01 Q1306.79 1482.55 1310.4 1482.55 Q1314.03 1482.55 1315.84 1479.01 Q1317.67 1475.44 1317.67 1468.33 Q1317.67 1461.2 1315.84 1457.66 Q1314.03 1454.1 1310.4 1454.1 M1310.4 1450.39 Q1316.21 1450.39 1319.26 1455 Q1322.34 1459.58 1322.34 1468.33 Q1322.34 1477.06 1319.26 1481.67 Q1316.21 1486.25 1310.4 1486.25 Q1304.59 1486.25 1301.51 1481.67 Q1298.45 1477.06 1298.45 1468.33 Q1298.45 1459.58 1301.51 1455 Q1304.59 1450.39 1310.4 1450.39 Z\" fill=\"#000000\" fill-rule=\"nonzero\" fill-opacity=\"1\" /><path clip-path=\"url(#clip160)\" d=\"M1330.56 1479.7 L1335.45 1479.7 L1335.45 1485.58 L1330.56 1485.58 L1330.56 1479.7 Z\" fill=\"#000000\" fill-rule=\"nonzero\" fill-opacity=\"1\" /><path clip-path=\"url(#clip160)\" d=\"M1355.63 1454.1 Q1352.02 1454.1 1350.19 1457.66 Q1348.38 1461.2 1348.38 1468.33 Q1348.38 1475.44 1350.19 1479.01 Q1352.02 1482.55 1355.63 1482.55 Q1359.26 1482.55 1361.07 1479.01 Q1362.9 1475.44 1362.9 1468.33 Q1362.9 1461.2 1361.07 1457.66 Q1359.26 1454.1 1355.63 1454.1 M1355.63 1450.39 Q1361.44 1450.39 1364.5 1455 Q1367.57 1459.58 1367.57 1468.33 Q1367.57 1477.06 1364.5 1481.67 Q1361.44 1486.25 1355.63 1486.25 Q1349.82 1486.25 1346.74 1481.67 Q1343.69 1477.06 1343.69 1468.33 Q1343.69 1459.58 1346.74 1455 Q1349.82 1450.39 1355.63 1450.39 Z\" fill=\"#000000\" fill-rule=\"nonzero\" fill-opacity=\"1\" /><path clip-path=\"url(#clip160)\" d=\"M1385.79 1454.1 Q1382.18 1454.1 1380.35 1457.66 Q1378.55 1461.2 1378.55 1468.33 Q1378.55 1475.44 1380.35 1479.01 Q1382.18 1482.55 1385.79 1482.55 Q1389.43 1482.55 1391.23 1479.01 Q1393.06 1475.44 1393.06 1468.33 Q1393.06 1461.2 1391.23 1457.66 Q1389.43 1454.1 1385.79 1454.1 M1385.79 1450.39 Q1391.6 1450.39 1394.66 1455 Q1397.74 1459.58 1397.74 1468.33 Q1397.74 1477.06 1394.66 1481.67 Q1391.6 1486.25 1385.79 1486.25 Q1379.98 1486.25 1376.9 1481.67 Q1373.85 1477.06 1373.85 1468.33 Q1373.85 1459.58 1376.9 1455 Q1379.98 1450.39 1385.79 1450.39 Z\" fill=\"#000000\" fill-rule=\"nonzero\" fill-opacity=\"1\" /><path clip-path=\"url(#clip160)\" d=\"M1720.74 1454.1 Q1717.13 1454.1 1715.3 1457.66 Q1713.5 1461.2 1713.5 1468.33 Q1713.5 1475.44 1715.3 1479.01 Q1717.13 1482.55 1720.74 1482.55 Q1724.38 1482.55 1726.18 1479.01 Q1728.01 1475.44 1728.01 1468.33 Q1728.01 1461.2 1726.18 1457.66 Q1724.38 1454.1 1720.74 1454.1 M1720.74 1450.39 Q1726.55 1450.39 1729.61 1455 Q1732.69 1459.58 1732.69 1468.33 Q1732.69 1477.06 1729.61 1481.67 Q1726.55 1486.25 1720.74 1486.25 Q1714.93 1486.25 1711.85 1481.67 Q1708.8 1477.06 1708.8 1468.33 Q1708.8 1459.58 1711.85 1455 Q1714.93 1450.39 1720.74 1450.39 Z\" fill=\"#000000\" fill-rule=\"nonzero\" fill-opacity=\"1\" /><path clip-path=\"url(#clip160)\" d=\"M1740.91 1479.7 L1745.79 1479.7 L1745.79 1485.58 L1740.91 1485.58 L1740.91 1479.7 Z\" fill=\"#000000\" fill-rule=\"nonzero\" fill-opacity=\"1\" /><path clip-path=\"url(#clip160)\" d=\"M1760 1481.64 L1776.32 1481.64 L1776.32 1485.58 L1754.38 1485.58 L1754.38 1481.64 Q1757.04 1478.89 1761.62 1474.26 Q1766.23 1469.61 1767.41 1468.27 Q1769.66 1465.74 1770.53 1464.01 Q1771.44 1462.25 1771.44 1460.56 Q1771.44 1457.8 1769.49 1456.07 Q1767.57 1454.33 1764.47 1454.33 Q1762.27 1454.33 1759.82 1455.09 Q1757.39 1455.86 1754.61 1457.41 L1754.61 1452.69 Q1757.43 1451.55 1759.89 1450.97 Q1762.34 1450.39 1764.38 1450.39 Q1769.75 1450.39 1772.94 1453.08 Q1776.14 1455.77 1776.14 1460.26 Q1776.14 1462.39 1775.33 1464.31 Q1774.54 1466.2 1772.43 1468.8 Q1771.85 1469.47 1768.75 1472.69 Q1765.65 1475.88 1760 1481.64 Z\" fill=\"#000000\" fill-rule=\"nonzero\" fill-opacity=\"1\" /><path clip-path=\"url(#clip160)\" d=\"M1786.18 1451.02 L1804.54 1451.02 L1804.54 1454.96 L1790.47 1454.96 L1790.47 1463.43 Q1791.48 1463.08 1792.5 1462.92 Q1793.52 1462.73 1794.54 1462.73 Q1800.33 1462.73 1803.71 1465.9 Q1807.09 1469.08 1807.09 1474.49 Q1807.09 1480.07 1803.61 1483.17 Q1800.14 1486.25 1793.82 1486.25 Q1791.65 1486.25 1789.38 1485.88 Q1787.13 1485.51 1784.72 1484.77 L1784.72 1480.07 Q1786.81 1481.2 1789.03 1481.76 Q1791.25 1482.32 1793.73 1482.32 Q1797.73 1482.32 1800.07 1480.21 Q1802.41 1478.1 1802.41 1474.49 Q1802.41 1470.88 1800.07 1468.77 Q1797.73 1466.67 1793.73 1466.67 Q1791.85 1466.67 1789.98 1467.08 Q1788.13 1467.5 1786.18 1468.38 L1786.18 1451.02 Z\" fill=\"#000000\" fill-rule=\"nonzero\" fill-opacity=\"1\" /><path clip-path=\"url(#clip160)\" d=\"M2130.09 1454.1 Q2126.48 1454.1 2124.65 1457.66 Q2122.85 1461.2 2122.85 1468.33 Q2122.85 1475.44 2124.65 1479.01 Q2126.48 1482.55 2130.09 1482.55 Q2133.73 1482.55 2135.53 1479.01 Q2137.36 1475.44 2137.36 1468.33 Q2137.36 1461.2 2135.53 1457.66 Q2133.73 1454.1 2130.09 1454.1 M2130.09 1450.39 Q2135.9 1450.39 2138.96 1455 Q2142.04 1459.58 2142.04 1468.33 Q2142.04 1477.06 2138.96 1481.67 Q2135.9 1486.25 2130.09 1486.25 Q2124.28 1486.25 2121.2 1481.67 Q2118.15 1477.06 2118.15 1468.33 Q2118.15 1459.58 2121.2 1455 Q2124.28 1450.39 2130.09 1450.39 Z\" fill=\"#000000\" fill-rule=\"nonzero\" fill-opacity=\"1\" /><path clip-path=\"url(#clip160)\" d=\"M2150.25 1479.7 L2155.14 1479.7 L2155.14 1485.58 L2150.25 1485.58 L2150.25 1479.7 Z\" fill=\"#000000\" fill-rule=\"nonzero\" fill-opacity=\"1\" /><path clip-path=\"url(#clip160)\" d=\"M2165.37 1451.02 L2183.73 1451.02 L2183.73 1454.96 L2169.65 1454.96 L2169.65 1463.43 Q2170.67 1463.08 2171.69 1462.92 Q2172.71 1462.73 2173.73 1462.73 Q2179.51 1462.73 2182.89 1465.9 Q2186.27 1469.08 2186.27 1474.49 Q2186.27 1480.07 2182.8 1483.17 Q2179.33 1486.25 2173.01 1486.25 Q2170.83 1486.25 2168.56 1485.88 Q2166.32 1485.51 2163.91 1484.77 L2163.91 1480.07 Q2165.99 1481.2 2168.22 1481.76 Q2170.44 1482.32 2172.92 1482.32 Q2176.92 1482.32 2179.26 1480.21 Q2181.6 1478.1 2181.6 1474.49 Q2181.6 1470.88 2179.26 1468.77 Q2176.92 1466.67 2172.92 1466.67 Q2171.04 1466.67 2169.17 1467.08 Q2167.31 1467.5 2165.37 1468.38 L2165.37 1451.02 Z\" fill=\"#000000\" fill-rule=\"nonzero\" fill-opacity=\"1\" /><path clip-path=\"url(#clip160)\" d=\"M2205.49 1454.1 Q2201.87 1454.1 2200.05 1457.66 Q2198.24 1461.2 2198.24 1468.33 Q2198.24 1475.44 2200.05 1479.01 Q2201.87 1482.55 2205.49 1482.55 Q2209.12 1482.55 2210.93 1479.01 Q2212.75 1475.44 2212.75 1468.33 Q2212.75 1461.2 2210.93 1457.66 Q2209.12 1454.1 2205.49 1454.1 M2205.49 1450.39 Q2211.3 1450.39 2214.35 1455 Q2217.43 1459.58 2217.43 1468.33 Q2217.43 1477.06 2214.35 1481.67 Q2211.3 1486.25 2205.49 1486.25 Q2199.68 1486.25 2196.6 1481.67 Q2193.54 1477.06 2193.54 1468.33 Q2193.54 1459.58 2196.6 1455 Q2199.68 1450.39 2205.49 1450.39 Z\" fill=\"#000000\" fill-rule=\"nonzero\" fill-opacity=\"1\" /><path clip-path=\"url(#clip160)\" d=\"M966.269 1545.76 Q968.338 1546.46 970.28 1548.76 Q972.253 1551.05 974.227 1555.06 L980.751 1568.04 L973.845 1568.04 L967.765 1555.85 Q965.41 1551.08 963.182 1549.52 Q960.986 1547.96 957.166 1547.96 L950.164 1547.96 L950.164 1568.04 L943.735 1568.04 L943.735 1520.52 L958.249 1520.52 Q966.397 1520.52 970.407 1523.93 Q974.418 1527.34 974.418 1534.21 Q974.418 1538.7 972.317 1541.66 Q970.248 1544.62 966.269 1545.76 M950.164 1525.81 L950.164 1542.68 L958.249 1542.68 Q962.896 1542.68 965.251 1540.54 Q967.638 1538.38 967.638 1534.21 Q967.638 1530.04 965.251 1527.94 Q962.896 1525.81 958.249 1525.81 L950.164 1525.81 Z\" fill=\"#000000\" fill-rule=\"nonzero\" fill-opacity=\"1\" /><path clip-path=\"url(#clip160)\" d=\"M1016.34 1548.76 L1016.34 1551.62 L989.409 1551.62 Q989.791 1557.67 993.037 1560.85 Q996.316 1564 1002.14 1564 Q1005.51 1564 1008.67 1563.17 Q1011.85 1562.35 1014.97 1560.69 L1014.97 1566.23 Q1011.82 1567.57 1008.51 1568.27 Q1005.2 1568.97 1001.79 1568.97 Q993.26 1568.97 988.263 1564 Q983.298 1559.04 983.298 1550.57 Q983.298 1541.82 988.008 1536.69 Q992.751 1531.54 1000.77 1531.54 Q1007.96 1531.54 1012.13 1536.18 Q1016.34 1540.8 1016.34 1548.76 M1010.48 1547.04 Q1010.42 1542.23 1007.77 1539.37 Q1005.16 1536.5 1000.84 1536.5 Q995.934 1536.5 992.974 1539.27 Q990.045 1542.04 989.6 1547.07 L1010.48 1547.04 Z\" fill=\"#000000\" fill-rule=\"nonzero\" fill-opacity=\"1\" /><path clip-path=\"url(#clip160)\" d=\"M1048.67 1533.45 L1048.67 1538.98 Q1046.19 1537.71 1043.52 1537.07 Q1040.84 1536.44 1037.98 1536.44 Q1033.62 1536.44 1031.42 1537.77 Q1029.26 1539.11 1029.26 1541.79 Q1029.26 1543.82 1030.82 1545 Q1032.38 1546.15 1037.09 1547.2 L1039.09 1547.64 Q1045.33 1548.98 1047.94 1551.43 Q1050.58 1553.85 1050.58 1558.21 Q1050.58 1563.17 1046.64 1566.07 Q1042.72 1568.97 1035.85 1568.97 Q1032.98 1568.97 1029.86 1568.39 Q1026.78 1567.85 1023.34 1566.74 L1023.34 1560.69 Q1026.58 1562.38 1029.74 1563.24 Q1032.89 1564.07 1035.97 1564.07 Q1040.11 1564.07 1042.34 1562.66 Q1044.57 1561.23 1044.57 1558.65 Q1044.57 1556.27 1042.94 1554.99 Q1041.35 1553.72 1035.91 1552.54 L1033.87 1552.07 Q1028.43 1550.92 1026.01 1548.56 Q1023.59 1546.18 1023.59 1542.04 Q1023.59 1537.01 1027.16 1534.27 Q1030.72 1531.54 1037.28 1531.54 Q1040.53 1531.54 1043.39 1532.01 Q1046.25 1532.49 1048.67 1533.45 Z\" fill=\"#000000\" fill-rule=\"nonzero\" fill-opacity=\"1\" /><path clip-path=\"url(#clip160)\" d=\"M1059.91 1532.4 L1065.77 1532.4 L1065.77 1568.04 L1059.91 1568.04 L1059.91 1532.4 M1059.91 1518.52 L1065.77 1518.52 L1065.77 1525.93 L1059.91 1525.93 L1059.91 1518.52 Z\" fill=\"#000000\" fill-rule=\"nonzero\" fill-opacity=\"1\" /><path clip-path=\"url(#clip160)\" d=\"M1101.48 1537.81 L1101.48 1518.52 L1107.33 1518.52 L1107.33 1568.04 L1101.48 1568.04 L1101.48 1562.7 Q1099.63 1565.88 1096.8 1567.44 Q1094 1568.97 1090.05 1568.97 Q1083.59 1568.97 1079.52 1563.81 Q1075.47 1558.65 1075.47 1550.25 Q1075.47 1541.85 1079.52 1536.69 Q1083.59 1531.54 1090.05 1531.54 Q1094 1531.54 1096.8 1533.1 Q1099.63 1534.62 1101.48 1537.81 M1081.52 1550.25 Q1081.52 1556.71 1084.16 1560.4 Q1086.84 1564.07 1091.48 1564.07 Q1096.13 1564.07 1098.8 1560.4 Q1101.48 1556.71 1101.48 1550.25 Q1101.48 1543.79 1098.8 1540.13 Q1096.13 1536.44 1091.48 1536.44 Q1086.84 1536.44 1084.16 1540.13 Q1081.52 1543.79 1081.52 1550.25 Z\" fill=\"#000000\" fill-rule=\"nonzero\" fill-opacity=\"1\" /><path clip-path=\"url(#clip160)\" d=\"M1118.79 1553.98 L1118.79 1532.4 L1124.65 1532.4 L1124.65 1553.75 Q1124.65 1558.81 1126.62 1561.36 Q1128.59 1563.87 1132.54 1563.87 Q1137.28 1563.87 1140.02 1560.85 Q1142.79 1557.83 1142.79 1552.61 L1142.79 1532.4 L1148.65 1532.4 L1148.65 1568.04 L1142.79 1568.04 L1142.79 1562.57 Q1140.66 1565.82 1137.83 1567.41 Q1135.02 1568.97 1131.3 1568.97 Q1125.16 1568.97 1121.97 1565.15 Q1118.79 1561.33 1118.79 1553.98 M1133.53 1531.54 L1133.53 1531.54 Z\" fill=\"#000000\" fill-rule=\"nonzero\" fill-opacity=\"1\" /><path clip-path=\"url(#clip160)\" d=\"M1176.91 1550.12 Q1169.81 1550.12 1167.08 1551.75 Q1164.34 1553.37 1164.34 1557.29 Q1164.34 1560.4 1166.38 1562.25 Q1168.44 1564.07 1171.98 1564.07 Q1176.85 1564.07 1179.78 1560.63 Q1182.74 1557.16 1182.74 1551.43 L1182.74 1550.12 L1176.91 1550.12 M1188.59 1547.71 L1188.59 1568.04 L1182.74 1568.04 L1182.74 1562.63 Q1180.73 1565.88 1177.74 1567.44 Q1174.75 1568.97 1170.42 1568.97 Q1164.94 1568.97 1161.7 1565.91 Q1158.48 1562.82 1158.48 1557.67 Q1158.48 1551.65 1162.49 1548.6 Q1166.53 1545.54 1174.52 1545.54 L1182.74 1545.54 L1182.74 1544.97 Q1182.74 1540.93 1180.06 1538.73 Q1177.42 1536.5 1172.61 1536.5 Q1169.56 1536.5 1166.66 1537.23 Q1163.77 1537.97 1161.09 1539.43 L1161.09 1534.02 Q1164.31 1532.78 1167.33 1532.17 Q1170.35 1531.54 1173.22 1531.54 Q1180.95 1531.54 1184.77 1535.55 Q1188.59 1539.56 1188.59 1547.71 Z\" fill=\"#000000\" fill-rule=\"nonzero\" fill-opacity=\"1\" /><path clip-path=\"url(#clip160)\" d=\"M1200.65 1518.52 L1206.51 1518.52 L1206.51 1568.04 L1200.65 1568.04 L1200.65 1518.52 Z\" fill=\"#000000\" fill-rule=\"nonzero\" fill-opacity=\"1\" /><path clip-path=\"url(#clip160)\" d=\"M1241.49 1533.45 L1241.49 1538.98 Q1239.01 1537.71 1236.33 1537.07 Q1233.66 1536.44 1230.8 1536.44 Q1226.44 1536.44 1224.24 1537.77 Q1222.08 1539.11 1222.08 1541.79 Q1222.08 1543.82 1223.63 1545 Q1225.19 1546.15 1229.91 1547.2 L1231.91 1547.64 Q1238.15 1548.98 1240.76 1551.43 Q1243.4 1553.85 1243.4 1558.21 Q1243.4 1563.17 1239.45 1566.07 Q1235.54 1568.97 1228.66 1568.97 Q1225.8 1568.97 1222.68 1568.39 Q1219.59 1567.85 1216.16 1566.74 L1216.16 1560.69 Q1219.4 1562.38 1222.55 1563.24 Q1225.7 1564.07 1228.79 1564.07 Q1232.93 1564.07 1235.16 1562.66 Q1237.38 1561.23 1237.38 1558.65 Q1237.38 1556.27 1235.76 1554.99 Q1234.17 1553.72 1228.73 1552.54 L1226.69 1552.07 Q1221.25 1550.92 1218.83 1548.56 Q1216.41 1546.18 1216.41 1542.04 Q1216.41 1537.01 1219.97 1534.27 Q1223.54 1531.54 1230.1 1531.54 Q1233.34 1531.54 1236.21 1532.01 Q1239.07 1532.49 1241.49 1533.45 Z\" fill=\"#000000\" fill-rule=\"nonzero\" fill-opacity=\"1\" /><path clip-path=\"url(#clip160)\" d=\"M1291.49 1518.52 L1291.49 1523.39 L1285.89 1523.39 Q1282.74 1523.39 1281.5 1524.66 Q1280.29 1525.93 1280.29 1529.24 L1280.29 1532.4 L1289.93 1532.4 L1289.93 1536.95 L1280.29 1536.95 L1280.29 1568.04 L1274.4 1568.04 L1274.4 1536.95 L1268.8 1536.95 L1268.8 1532.4 L1274.4 1532.4 L1274.4 1529.91 Q1274.4 1523.96 1277.17 1521.26 Q1279.94 1518.52 1285.96 1518.52 L1291.49 1518.52 Z\" fill=\"#000000\" fill-rule=\"nonzero\" fill-opacity=\"1\" /><path clip-path=\"url(#clip160)\" d=\"M1310.21 1536.5 Q1305.5 1536.5 1302.76 1540.19 Q1300.02 1543.85 1300.02 1550.25 Q1300.02 1556.65 1302.73 1560.34 Q1305.47 1564 1310.21 1564 Q1314.89 1564 1317.62 1560.31 Q1320.36 1556.62 1320.36 1550.25 Q1320.36 1543.92 1317.62 1540.23 Q1314.89 1536.5 1310.21 1536.5 M1310.21 1531.54 Q1317.85 1531.54 1322.21 1536.5 Q1326.57 1541.47 1326.57 1550.25 Q1326.57 1559 1322.21 1564 Q1317.85 1568.97 1310.21 1568.97 Q1302.54 1568.97 1298.18 1564 Q1293.85 1559 1293.85 1550.25 Q1293.85 1541.47 1298.18 1536.5 Q1302.54 1531.54 1310.21 1531.54 Z\" fill=\"#000000\" fill-rule=\"nonzero\" fill-opacity=\"1\" /><path clip-path=\"url(#clip160)\" d=\"M1356.93 1537.87 Q1355.95 1537.3 1354.77 1537.04 Q1353.62 1536.76 1352.22 1536.76 Q1347.26 1536.76 1344.58 1540 Q1341.94 1543.22 1341.94 1549.27 L1341.94 1568.04 L1336.05 1568.04 L1336.05 1532.4 L1341.94 1532.4 L1341.94 1537.93 Q1343.79 1534.69 1346.75 1533.13 Q1349.71 1531.54 1353.94 1531.54 Q1354.55 1531.54 1355.28 1531.63 Q1356.01 1531.7 1356.9 1531.85 L1356.93 1537.87 Z\" fill=\"#000000\" fill-rule=\"nonzero\" fill-opacity=\"1\" /><path clip-path=\"url(#clip160)\" d=\"M1384.05 1520.52 L1411.36 1520.52 L1411.36 1525.93 L1390.48 1525.93 L1390.48 1539.94 L1409.32 1539.94 L1409.32 1545.35 L1390.48 1545.35 L1390.48 1568.04 L1384.05 1568.04 L1384.05 1520.52 Z\" fill=\"#000000\" fill-rule=\"nonzero\" fill-opacity=\"1\" /><path clip-path=\"url(#clip160)\" d=\"M1416.55 1532.4 L1422.4 1532.4 L1422.4 1568.04 L1416.55 1568.04 L1416.55 1532.4 M1416.55 1518.52 L1422.4 1518.52 L1422.4 1525.93 L1416.55 1525.93 L1416.55 1518.52 Z\" fill=\"#000000\" fill-rule=\"nonzero\" fill-opacity=\"1\" /><path clip-path=\"url(#clip160)\" d=\"M1455.31 1537.87 Q1454.33 1537.3 1453.15 1537.04 Q1452 1536.76 1450.6 1536.76 Q1445.64 1536.76 1442.97 1540 Q1440.32 1543.22 1440.32 1549.27 L1440.32 1568.04 L1434.44 1568.04 L1434.44 1532.4 L1440.32 1532.4 L1440.32 1537.93 Q1442.17 1534.69 1445.13 1533.13 Q1448.09 1531.54 1452.32 1531.54 Q1452.93 1531.54 1453.66 1531.63 Q1454.39 1531.7 1455.28 1531.85 L1455.31 1537.87 Z\" fill=\"#000000\" fill-rule=\"nonzero\" fill-opacity=\"1\" /><path clip-path=\"url(#clip160)\" d=\"M1488.07 1539.24 Q1490.26 1535.29 1493.32 1533.41 Q1496.37 1531.54 1500.51 1531.54 Q1506.08 1531.54 1509.11 1535.45 Q1512.13 1539.33 1512.13 1546.53 L1512.13 1568.04 L1506.24 1568.04 L1506.24 1546.72 Q1506.24 1541.59 1504.43 1539.11 Q1502.61 1536.63 1498.89 1536.63 Q1494.34 1536.63 1491.69 1539.65 Q1489.05 1542.68 1489.05 1547.9 L1489.05 1568.04 L1483.16 1568.04 L1483.16 1546.72 Q1483.16 1541.56 1481.35 1539.11 Q1479.54 1536.63 1475.75 1536.63 Q1471.26 1536.63 1468.62 1539.68 Q1465.98 1542.71 1465.98 1547.9 L1465.98 1568.04 L1460.09 1568.04 L1460.09 1532.4 L1465.98 1532.4 L1465.98 1537.93 Q1467.98 1534.66 1470.78 1533.1 Q1473.58 1531.54 1477.44 1531.54 Q1481.32 1531.54 1484.02 1533.51 Q1486.76 1535.48 1488.07 1539.24 Z\" fill=\"#000000\" fill-rule=\"nonzero\" fill-opacity=\"1\" /><path clip-path=\"url(#clip160)\" d=\"M1520.85 1547.58 L1538.01 1547.58 L1538.01 1552.8 L1520.85 1552.8 L1520.85 1547.58 Z\" fill=\"#000000\" fill-rule=\"nonzero\" fill-opacity=\"1\" /><path clip-path=\"url(#clip160)\" d=\"M1583.17 1524.18 L1583.17 1530.96 Q1579.92 1527.94 1576.23 1526.44 Q1572.57 1524.95 1568.43 1524.95 Q1560.29 1524.95 1555.96 1529.95 Q1551.63 1534.91 1551.63 1544.33 Q1551.63 1553.72 1555.96 1558.72 Q1560.29 1563.68 1568.43 1563.68 Q1572.57 1563.68 1576.23 1562.19 Q1579.92 1560.69 1583.17 1557.67 L1583.17 1564.38 Q1579.8 1566.68 1576.01 1567.82 Q1572.25 1568.97 1568.05 1568.97 Q1557.26 1568.97 1551.06 1562.38 Q1544.85 1555.76 1544.85 1544.33 Q1544.85 1532.87 1551.06 1526.28 Q1557.26 1519.66 1568.05 1519.66 Q1572.32 1519.66 1576.07 1520.81 Q1579.86 1521.92 1583.17 1524.18 Z\" fill=\"#000000\" fill-rule=\"nonzero\" fill-opacity=\"1\" /><polyline clip-path=\"url(#clip162)\" style=\"stroke:#000000; stroke-linecap:round; stroke-linejoin:round; stroke-width:2; stroke-opacity:0.1; fill:none\" points=\"174.149,1384.24 2352.76,1384.24 \"/>\n",
       "<polyline clip-path=\"url(#clip162)\" style=\"stroke:#000000; stroke-linecap:round; stroke-linejoin:round; stroke-width:2; stroke-opacity:0.1; fill:none\" points=\"174.149,998.521 2352.76,998.521 \"/>\n",
       "<polyline clip-path=\"url(#clip162)\" style=\"stroke:#000000; stroke-linecap:round; stroke-linejoin:round; stroke-width:2; stroke-opacity:0.1; fill:none\" points=\"174.149,612.801 2352.76,612.801 \"/>\n",
       "<polyline clip-path=\"url(#clip162)\" style=\"stroke:#000000; stroke-linecap:round; stroke-linejoin:round; stroke-width:2; stroke-opacity:0.1; fill:none\" points=\"174.149,227.081 2352.76,227.081 \"/>\n",
       "<polyline clip-path=\"url(#clip160)\" style=\"stroke:#000000; stroke-linecap:round; stroke-linejoin:round; stroke-width:4; stroke-opacity:1; fill:none\" points=\"174.149,1423.18 174.149,47.2441 \"/>\n",
       "<polyline clip-path=\"url(#clip160)\" style=\"stroke:#000000; stroke-linecap:round; stroke-linejoin:round; stroke-width:4; stroke-opacity:1; fill:none\" points=\"174.149,1384.24 193.047,1384.24 \"/>\n",
       "<polyline clip-path=\"url(#clip160)\" style=\"stroke:#000000; stroke-linecap:round; stroke-linejoin:round; stroke-width:4; stroke-opacity:1; fill:none\" points=\"174.149,998.521 193.047,998.521 \"/>\n",
       "<polyline clip-path=\"url(#clip160)\" style=\"stroke:#000000; stroke-linecap:round; stroke-linejoin:round; stroke-width:4; stroke-opacity:1; fill:none\" points=\"174.149,612.801 193.047,612.801 \"/>\n",
       "<polyline clip-path=\"url(#clip160)\" style=\"stroke:#000000; stroke-linecap:round; stroke-linejoin:round; stroke-width:4; stroke-opacity:1; fill:none\" points=\"174.149,227.081 193.047,227.081 \"/>\n",
       "<path clip-path=\"url(#clip160)\" d=\"M126.205 1370.04 Q122.593 1370.04 120.765 1373.61 Q118.959 1377.15 118.959 1384.28 Q118.959 1391.38 120.765 1394.95 Q122.593 1398.49 126.205 1398.49 Q129.839 1398.49 131.644 1394.95 Q133.473 1391.38 133.473 1384.28 Q133.473 1377.15 131.644 1373.61 Q129.839 1370.04 126.205 1370.04 M126.205 1366.34 Q132.015 1366.34 135.07 1370.94 Q138.149 1375.53 138.149 1384.28 Q138.149 1393 135.07 1397.61 Q132.015 1402.19 126.205 1402.19 Q120.394 1402.19 117.316 1397.61 Q114.26 1393 114.26 1384.28 Q114.26 1375.53 117.316 1370.94 Q120.394 1366.34 126.205 1366.34 Z\" fill=\"#000000\" fill-rule=\"nonzero\" fill-opacity=\"1\" /><path clip-path=\"url(#clip160)\" d=\"M118.242 1011.87 L125.88 1011.87 L125.88 985.501 L117.57 987.167 L117.57 982.908 L125.834 981.241 L130.51 981.241 L130.51 1011.87 L138.149 1011.87 L138.149 1015.8 L118.242 1015.8 L118.242 1011.87 Z\" fill=\"#000000\" fill-rule=\"nonzero\" fill-opacity=\"1\" /><path clip-path=\"url(#clip160)\" d=\"M121.83 626.146 L138.149 626.146 L138.149 630.081 L116.205 630.081 L116.205 626.146 Q118.867 623.391 123.45 618.762 Q128.056 614.109 129.237 612.766 Q131.482 610.243 132.362 608.507 Q133.265 606.748 133.265 605.058 Q133.265 602.303 131.32 600.567 Q129.399 598.831 126.297 598.831 Q124.098 598.831 121.644 599.595 Q119.214 600.359 116.436 601.91 L116.436 597.188 Q119.26 596.053 121.714 595.475 Q124.168 594.896 126.205 594.896 Q131.575 594.896 134.769 597.581 Q137.964 600.266 137.964 604.757 Q137.964 606.887 137.154 608.808 Q136.367 610.706 134.26 613.299 Q133.681 613.97 130.58 617.188 Q127.478 620.382 121.83 626.146 Z\" fill=\"#000000\" fill-rule=\"nonzero\" fill-opacity=\"1\" /><path clip-path=\"url(#clip160)\" d=\"M131.019 225.727 Q134.376 226.444 136.251 228.713 Q138.149 230.981 138.149 234.314 Q138.149 239.43 134.63 242.231 Q131.112 245.032 124.63 245.032 Q122.455 245.032 120.14 244.592 Q117.848 244.176 115.394 243.319 L115.394 238.805 Q117.339 239.939 119.654 240.518 Q121.968 241.097 124.492 241.097 Q128.89 241.097 131.181 239.361 Q133.496 237.625 133.496 234.314 Q133.496 231.259 131.343 229.546 Q129.214 227.81 125.394 227.81 L121.367 227.81 L121.367 223.967 L125.58 223.967 Q129.029 223.967 130.857 222.602 Q132.686 221.213 132.686 218.62 Q132.686 215.958 130.788 214.546 Q128.913 213.111 125.394 213.111 Q123.473 213.111 121.274 213.528 Q119.075 213.944 116.436 214.824 L116.436 210.657 Q119.098 209.916 121.413 209.546 Q123.751 209.176 125.811 209.176 Q131.135 209.176 134.237 211.606 Q137.339 214.014 137.339 218.134 Q137.339 221.004 135.695 222.995 Q134.052 224.963 131.019 225.727 Z\" fill=\"#000000\" fill-rule=\"nonzero\" fill-opacity=\"1\" /><path clip-path=\"url(#clip160)\" d=\"M21.7677 848.522 L58.7206 848.522 L58.7206 840.755 Q58.7206 830.92 54.2646 826.369 Q49.8086 821.786 40.1964 821.786 Q30.6479 821.786 26.2237 826.369 Q21.7677 830.92 21.7677 840.755 L21.7677 848.522 M16.4842 854.951 L16.4842 841.742 Q16.4842 827.928 22.2451 821.467 Q27.9743 815.006 40.1964 815.006 Q52.4822 815.006 58.2432 821.499 Q64.0042 827.992 64.0042 841.742 L64.0042 854.951 L16.4842 854.951 Z\" fill=\"#000000\" fill-rule=\"nonzero\" fill-opacity=\"1\" /><path clip-path=\"url(#clip160)\" d=\"M44.7161 774.52 L47.5806 774.52 L47.5806 801.447 Q53.6281 801.065 56.8109 797.819 Q59.9619 794.54 59.9619 788.716 Q59.9619 785.342 59.1344 782.191 Q58.3069 779.008 56.6518 775.889 L62.1899 775.889 Q63.5267 779.04 64.227 782.35 Q64.9272 785.66 64.9272 789.066 Q64.9272 797.596 59.9619 802.593 Q54.9967 807.558 46.5303 807.558 Q37.7774 807.558 32.6531 802.848 Q27.4968 798.105 27.4968 790.084 Q27.4968 782.891 32.1438 778.722 Q36.7589 774.52 44.7161 774.52 M42.9973 780.377 Q38.1912 780.44 35.3266 783.082 Q32.4621 785.692 32.4621 790.021 Q32.4621 794.922 35.2312 797.882 Q38.0002 800.811 43.0292 801.256 L42.9973 780.377 Z\" fill=\"#000000\" fill-rule=\"nonzero\" fill-opacity=\"1\" /><path clip-path=\"url(#clip160)\" d=\"M42.4881 735.276 L64.0042 735.276 L64.0042 741.132 L42.679 741.132 Q37.6183 741.132 35.1038 743.105 Q32.5894 745.079 32.5894 749.026 Q32.5894 753.768 35.6131 756.505 Q38.6368 759.243 43.8567 759.243 L64.0042 759.243 L64.0042 765.131 L28.3562 765.131 L28.3562 759.243 L33.8944 759.243 Q30.6797 757.142 29.0883 754.309 Q27.4968 751.445 27.4968 747.721 Q27.4968 741.578 31.3163 738.427 Q35.1038 735.276 42.4881 735.276 Z\" fill=\"#000000\" fill-rule=\"nonzero\" fill-opacity=\"1\" /><path clip-path=\"url(#clip160)\" d=\"M29.4065 700.869 L34.9447 700.869 Q33.6716 703.352 33.035 706.025 Q32.3984 708.699 32.3984 711.563 Q32.3984 715.924 33.7352 718.12 Q35.072 720.284 37.7456 720.284 Q39.7826 720.284 40.9603 718.725 Q42.1061 717.165 43.1565 712.455 L43.6021 710.449 Q44.9389 704.211 47.3897 701.601 Q49.8086 698.959 54.1691 698.959 Q59.1344 698.959 62.0308 702.906 Q64.9272 706.821 64.9272 713.696 Q64.9272 716.56 64.3543 719.68 Q63.8132 722.767 62.6992 726.204 L56.6518 726.204 Q58.3387 722.958 59.198 719.807 Q60.0256 716.656 60.0256 713.569 Q60.0256 709.431 58.6251 707.203 Q57.1929 704.975 54.6147 704.975 Q52.2276 704.975 50.9545 706.598 Q49.6813 708.19 48.5037 713.632 L48.0262 715.669 Q46.8804 721.112 44.5251 723.531 Q42.138 725.95 38.0002 725.95 Q32.9713 725.95 30.2341 722.385 Q27.4968 718.82 27.4968 712.264 Q27.4968 709.017 27.9743 706.153 Q28.4517 703.288 29.4065 700.869 Z\" fill=\"#000000\" fill-rule=\"nonzero\" fill-opacity=\"1\" /><path clip-path=\"url(#clip160)\" d=\"M28.3562 689.634 L28.3562 683.777 L64.0042 683.777 L64.0042 689.634 L28.3562 689.634 M14.479 689.634 L14.479 683.777 L21.895 683.777 L21.895 689.634 L14.479 689.634 Z\" fill=\"#000000\" fill-rule=\"nonzero\" fill-opacity=\"1\" /><path clip-path=\"url(#clip160)\" d=\"M18.2347 665.73 L28.3562 665.73 L28.3562 653.667 L32.9077 653.667 L32.9077 665.73 L52.2594 665.73 Q56.6199 665.73 57.8613 664.553 Q59.1026 663.343 59.1026 659.683 L59.1026 653.667 L64.0042 653.667 L64.0042 659.683 Q64.0042 666.462 61.4897 669.04 Q58.9434 671.619 52.2594 671.619 L32.9077 671.619 L32.9077 675.915 L28.3562 675.915 L28.3562 671.619 L18.2347 671.619 L18.2347 665.73 Z\" fill=\"#000000\" fill-rule=\"nonzero\" fill-opacity=\"1\" /><path clip-path=\"url(#clip160)\" d=\"M67.3143 631.133 Q73.68 633.615 75.6216 635.971 Q77.5631 638.326 77.5631 642.273 L77.5631 646.951 L72.6615 646.951 L72.6615 643.514 Q72.6615 641.095 71.5157 639.758 Q70.3699 638.421 66.1048 636.798 L63.4312 635.748 L28.3562 650.166 L28.3562 643.96 L56.238 632.82 L28.3562 621.68 L28.3562 615.473 L67.3143 631.133 Z\" fill=\"#000000\" fill-rule=\"nonzero\" fill-opacity=\"1\" /><polyline clip-path=\"url(#clip162)\" style=\"stroke:#000080; stroke-linecap:round; stroke-linejoin:round; stroke-width:8; stroke-opacity:1; fill:none\" points=\"405.094,1383.25 411.233,1383.16 417.373,1383.06 474.141,1381.62 530.909,1378.72 565.024,1375.79 599.14,1371.56 627.984,1366.61 656.828,1360.04 672.494,1355.65 688.16,1350.6 703.827,1344.81 719.493,1338.19 733.936,1331.29 748.379,1323.56 762.822,1314.92 777.265,1305.31 792.749,1293.85 808.234,1281.1 823.718,1267 839.203,1251.47 857.143,1231.59 875.083,1209.61 893.023,1185.47 910.964,1159.13 926.907,1133.85 942.85,1106.83 958.793,1078.11 974.736,1047.75 988.717,1019.84 1002.7,990.824 1016.68,960.782 1030.66,929.829 1061.14,859.822 1091.63,787.714 1122.3,715.003 1152.96,644.332 1161.44,625.474 1169.92,607.005 1178.39,588.975 1186.87,571.436 1195.35,554.438 1203.82,538.03 1212.3,522.262 1220.77,507.181 1228.84,493.511 1236.91,480.543 1244.97,468.314 1253.04,456.857 1261.1,446.207 1269.17,436.394 1277.23,427.447 1285.3,419.392 1293.68,411.988 1302.07,405.599 1310.45,400.244 1318.84,395.942 1327.23,392.706 1335.61,390.546 1344,389.471 1352.38,389.484 1359.44,390.337 1366.5,391.959 1373.56,394.346 1380.62,397.492 1387.68,401.39 1394.74,406.032 1401.8,411.406 1408.86,417.499 1417.47,425.895 1426.09,435.315 1434.71,445.727 1443.33,457.096 1451.95,469.385 1460.57,482.554 1469.18,496.559 1477.8,511.355 1493.59,540.361 1509.38,571.56 1517.28,587.883 1525.17,604.635 1533.07,621.774 1540.96,639.258 1570.13,706.17 1599.3,775.184 1628.84,845.255 1658.39,913.697 1674.94,950.755 1691.5,986.594 1708.05,1021.02 1724.61,1053.88 1739.61,1082.19 1754.61,1109.05 1769.61,1134.39 1784.62,1158.19 1801.79,1183.53 1818.97,1206.85 1836.15,1228.18 1853.32,1247.57 1869.23,1263.86 1885.13,1278.63 1901.03,1291.95 1916.94,1303.91 1932.62,1314.45 1948.3,1323.83 1963.98,1332.16 1979.66,1339.51 1994.88,1345.79 2010.1,1351.31 2025.33,1356.14 2040.55,1360.35 2071.76,1367.3 2102.97,1372.41 2137.17,1376.39 2171.36,1379.13 2221.04,1381.59 2270.72,1382.91 2280.91,1383.1 2291.1,1383.25 \"/>\n",
       "<polyline clip-path=\"url(#clip162)\" style=\"stroke:#ff0000; stroke-linecap:round; stroke-linejoin:round; stroke-width:8; stroke-opacity:1; fill:none\" points=\"235.808,1384.24 245.133,1384.24 254.458,1384.23 263.784,1384.23 273.109,1384.21 282.434,1384.19 291.76,1384.15 301.085,1384.07 310.41,1383.96 319.736,1383.78 329.061,1383.53 338.386,1383.18 347.712,1382.71 357.037,1382.13 366.362,1381.44 375.688,1380.66 385.013,1379.83 394.338,1379.02 403.664,1378.26 412.989,1377.64 422.314,1377.18 431.64,1376.91 440.965,1376.8 450.29,1376.82 459.616,1376.87 468.941,1376.86 478.266,1376.68 487.592,1376.23 496.917,1375.44 506.242,1374.27 515.568,1372.75 524.893,1370.95 534.218,1368.96 543.544,1366.93 552.869,1364.99 562.194,1363.27 571.52,1361.86 580.845,1360.77 590.17,1359.97 599.496,1359.35 608.821,1358.76 618.146,1358.03 627.472,1356.99 636.797,1355.47 646.122,1353.35 655.448,1350.53 664.773,1346.93 674.098,1342.49 683.424,1337.15 692.749,1330.86 702.074,1323.59 711.4,1315.33 720.725,1306.08 730.05,1295.91 739.376,1284.89 748.701,1273.16 758.026,1260.94 767.352,1248.5 776.677,1236.22 786.002,1224.59 795.328,1214.16 804.653,1205.5 813.978,1199.17 823.304,1195.56 832.629,1194.88 841.954,1197.12 851.28,1201.98 860.605,1209 869.93,1217.55 879.256,1226.95 888.581,1236.53 897.906,1245.64 907.232,1253.66 916.557,1260 925.882,1264.04 935.208,1265.17 944.533,1262.74 953.858,1256.13 963.184,1244.82 972.509,1228.43 981.834,1206.85 991.16,1180.23 1000.48,1149.08 1009.81,1114.2 1019.14,1076.65 1028.46,1037.69 1037.79,998.626 1047.11,960.753 1056.44,925.232 1065.76,893.009 1075.09,864.748 1084.41,840.777 1093.74,821.058 1103.06,805.181 1112.39,792.381 1121.71,781.581 1131.04,771.461 1140.36,760.522 1149.69,747.172 1159.02,729.803 1168.34,706.897 1177.67,677.151 1186.99,639.647 1196.32,594.045 1205.64,540.777 1214.97,481.164 1224.29,417.423 1233.62,352.497 1242.94,289.728 1252.27,232.398 1261.59,183.251 1270.92,144.108 1280.24,115.649 1289.57,97.4462 1298.9,88.2092 1308.22,86.1857 1317.55,89.606 1326.87,97.0663 1336.2,107.772 1345.52,121.603 1354.85,139.019 1364.17,160.833 1373.5,187.94 1382.82,221.031 1392.15,260.379 1401.47,305.715 1410.8,356.222 1420.12,410.638 1429.45,467.452 1438.78,525.129 1448.1,582.327 1457.43,638.039 1466.75,691.641 1476.08,742.832 1485.4,791.499 1494.73,837.549 1504.05,880.754 1513.38,920.668 1522.7,956.615 1532.03,987.772 1541.35,1013.29 1550.68,1032.45 1560,1044.79 1569.33,1050.18 1578.66,1048.84 1587.98,1041.33 1597.31,1028.38 1606.63,1010.86 1615.96,989.618 1625.28,965.427 1634.61,938.949 1643.93,910.767 1653.26,881.469 1662.58,851.756 1671.91,822.562 1681.23,795.128 1690.56,771.016 1699.88,752.03 1709.21,740.037 1718.54,736.726 1727.86,743.341 1737.19,760.444 1746.51,787.778 1755.84,824.248 1765.16,868.043 1774.49,916.856 1783.81,968.164 1793.14,1019.51 1802.46,1068.75 1811.79,1114.19 1821.11,1154.73 1830.44,1189.8 1839.76,1219.36 1849.09,1243.8 1858.42,1263.77 1867.74,1280.13 1877.07,1293.75 1886.39,1305.42 1895.72,1315.79 1905.04,1325.31 1914.37,1334.22 1923.69,1342.59 1933.02,1350.36 1942.34,1357.4 1951.67,1363.6 1960.99,1368.86 1970.32,1373.16 1979.64,1376.53 1988.97,1379.06 1998.3,1380.89 2007.62,1382.15 2016.95,1382.99 2026.27,1383.52 2035.6,1383.84 2044.92,1384.03 2054.25,1384.13 2063.57,1384.19 2072.9,1384.22 2082.22,1384.23 2091.55,1384.24 \"/>\n",
       "<path clip-path=\"url(#clip160)\" d=\"M1899.85 248.629 L2280.14 248.629 L2280.14 93.1086 L1899.85 93.1086  Z\" fill=\"#ffffff\" fill-rule=\"evenodd\" fill-opacity=\"1\"/>\n",
       "<polyline clip-path=\"url(#clip160)\" style=\"stroke:#000000; stroke-linecap:round; stroke-linejoin:round; stroke-width:4; stroke-opacity:1; fill:none\" points=\"1899.85,248.629 2280.14,248.629 2280.14,93.1086 1899.85,93.1086 1899.85,248.629 \"/>\n",
       "<polyline clip-path=\"url(#clip160)\" style=\"stroke:#000080; stroke-linecap:round; stroke-linejoin:round; stroke-width:8; stroke-opacity:1; fill:none\" points=\"1924.05,144.949 2069.29,144.949 \"/>\n",
       "<path clip-path=\"url(#clip160)\" d=\"M2093.5 127.669 L2099.8 127.669 L2115.12 156.581 L2115.12 127.669 L2119.66 127.669 L2119.66 162.229 L2113.36 162.229 L2098.04 133.317 L2098.04 162.229 L2093.5 162.229 L2093.5 127.669 Z\" fill=\"#000000\" fill-rule=\"nonzero\" fill-opacity=\"1\" /><path clip-path=\"url(#clip160)\" d=\"M2138.82 139.289 Q2135.4 139.289 2133.41 141.974 Q2131.42 144.636 2131.42 149.289 Q2131.42 153.942 2133.38 156.627 Q2135.37 159.289 2138.82 159.289 Q2142.23 159.289 2144.22 156.604 Q2146.21 153.918 2146.21 149.289 Q2146.21 144.682 2144.22 141.997 Q2142.23 139.289 2138.82 139.289 M2138.82 135.678 Q2144.38 135.678 2147.55 139.289 Q2150.72 142.9 2150.72 149.289 Q2150.72 155.655 2147.55 159.289 Q2144.38 162.9 2138.82 162.9 Q2133.24 162.9 2130.07 159.289 Q2126.92 155.655 2126.92 149.289 Q2126.92 142.9 2130.07 139.289 Q2133.24 135.678 2138.82 135.678 Z\" fill=\"#000000\" fill-rule=\"nonzero\" fill-opacity=\"1\" /><path clip-path=\"url(#clip160)\" d=\"M2172.8 140.284 Q2172.09 139.868 2171.23 139.682 Q2170.4 139.474 2169.38 139.474 Q2165.77 139.474 2163.82 141.835 Q2161.9 144.173 2161.9 148.571 L2161.9 162.229 L2157.62 162.229 L2157.62 136.303 L2161.9 136.303 L2161.9 140.331 Q2163.24 137.969 2165.4 136.835 Q2167.55 135.678 2170.63 135.678 Q2171.07 135.678 2171.6 135.747 Q2172.13 135.794 2172.78 135.909 L2172.8 140.284 Z\" fill=\"#000000\" fill-rule=\"nonzero\" fill-opacity=\"1\" /><path clip-path=\"url(#clip160)\" d=\"M2196.62 141.28 Q2198.22 138.409 2200.44 137.044 Q2202.67 135.678 2205.67 135.678 Q2209.73 135.678 2211.92 138.525 Q2214.12 141.349 2214.12 146.581 L2214.12 162.229 L2209.84 162.229 L2209.84 146.719 Q2209.84 142.993 2208.52 141.187 Q2207.2 139.382 2204.49 139.382 Q2201.18 139.382 2199.26 141.581 Q2197.34 143.78 2197.34 147.576 L2197.34 162.229 L2193.06 162.229 L2193.06 146.719 Q2193.06 142.969 2191.74 141.187 Q2190.42 139.382 2187.67 139.382 Q2184.4 139.382 2182.48 141.604 Q2180.56 143.803 2180.56 147.576 L2180.56 162.229 L2176.28 162.229 L2176.28 136.303 L2180.56 136.303 L2180.56 140.331 Q2182.02 137.946 2184.05 136.812 Q2186.09 135.678 2188.89 135.678 Q2191.72 135.678 2193.68 137.113 Q2195.67 138.548 2196.62 141.28 Z\" fill=\"#000000\" fill-rule=\"nonzero\" fill-opacity=\"1\" /><path clip-path=\"url(#clip160)\" d=\"M2234.4 149.196 Q2229.24 149.196 2227.25 150.377 Q2225.26 151.557 2225.26 154.405 Q2225.26 156.673 2226.74 158.016 Q2228.24 159.335 2230.81 159.335 Q2234.35 159.335 2236.48 156.835 Q2238.64 154.312 2238.64 150.145 L2238.64 149.196 L2234.4 149.196 M2242.9 147.437 L2242.9 162.229 L2238.64 162.229 L2238.64 158.293 Q2237.18 160.655 2235 161.789 Q2232.83 162.9 2229.68 162.9 Q2225.7 162.9 2223.34 160.678 Q2221 158.432 2221 154.682 Q2221 150.307 2223.92 148.085 Q2226.86 145.863 2232.67 145.863 L2238.64 145.863 L2238.64 145.446 Q2238.64 142.507 2236.69 140.909 Q2234.77 139.289 2231.28 139.289 Q2229.05 139.289 2226.95 139.821 Q2224.84 140.354 2222.9 141.419 L2222.9 137.483 Q2225.23 136.581 2227.43 136.141 Q2229.63 135.678 2231.72 135.678 Q2237.34 135.678 2240.12 138.594 Q2242.9 141.511 2242.9 147.437 Z\" fill=\"#000000\" fill-rule=\"nonzero\" fill-opacity=\"1\" /><path clip-path=\"url(#clip160)\" d=\"M2251.67 126.21 L2255.93 126.21 L2255.93 162.229 L2251.67 162.229 L2251.67 126.21 Z\" fill=\"#000000\" fill-rule=\"nonzero\" fill-opacity=\"1\" /><polyline clip-path=\"url(#clip160)\" style=\"stroke:#ff0000; stroke-linecap:round; stroke-linejoin:round; stroke-width:8; stroke-opacity:1; fill:none\" points=\"1924.05,196.789 2069.29,196.789 \"/>\n",
       "<path clip-path=\"url(#clip160)\" d=\"M2109.33 184.115 L2102.99 201.314 L2115.7 201.314 L2109.33 184.115 M2106.69 179.509 L2111.99 179.509 L2125.17 214.069 L2120.3 214.069 L2117.16 205.203 L2101.58 205.203 L2098.43 214.069 L2093.5 214.069 L2106.69 179.509 Z\" fill=\"#000000\" fill-rule=\"nonzero\" fill-opacity=\"1\" /><path clip-path=\"url(#clip160)\" d=\"M2147.85 189.138 L2147.85 193.12 Q2146.05 192.124 2144.22 191.638 Q2142.41 191.129 2140.56 191.129 Q2136.42 191.129 2134.12 193.768 Q2131.83 196.384 2131.83 201.129 Q2131.83 205.874 2134.12 208.513 Q2136.42 211.129 2140.56 211.129 Q2142.41 211.129 2144.22 210.643 Q2146.05 210.133 2147.85 209.138 L2147.85 213.073 Q2146.07 213.907 2144.15 214.323 Q2142.25 214.74 2140.1 214.74 Q2134.24 214.74 2130.79 211.059 Q2127.34 207.379 2127.34 201.129 Q2127.34 194.786 2130.81 191.152 Q2134.31 187.518 2140.37 187.518 Q2142.34 187.518 2144.22 187.935 Q2146.09 188.328 2147.85 189.138 Z\" fill=\"#000000\" fill-rule=\"nonzero\" fill-opacity=\"1\" /><path clip-path=\"url(#clip160)\" d=\"M2159.47 180.782 L2159.47 188.143 L2168.24 188.143 L2168.24 191.453 L2159.47 191.453 L2159.47 205.527 Q2159.47 208.698 2160.33 209.601 Q2161.21 210.504 2163.87 210.504 L2168.24 210.504 L2168.24 214.069 L2163.87 214.069 Q2158.94 214.069 2157.06 212.24 Q2155.19 210.388 2155.19 205.527 L2155.19 191.453 L2152.06 191.453 L2152.06 188.143 L2155.19 188.143 L2155.19 180.782 L2159.47 180.782 Z\" fill=\"#000000\" fill-rule=\"nonzero\" fill-opacity=\"1\" /><path clip-path=\"url(#clip160)\" d=\"M2173.41 203.837 L2173.41 188.143 L2177.67 188.143 L2177.67 203.675 Q2177.67 207.356 2179.1 209.208 Q2180.54 211.036 2183.41 211.036 Q2186.86 211.036 2188.85 208.837 Q2190.86 206.638 2190.86 202.842 L2190.86 188.143 L2195.12 188.143 L2195.12 214.069 L2190.86 214.069 L2190.86 210.087 Q2189.31 212.448 2187.25 213.606 Q2185.21 214.74 2182.5 214.74 Q2178.04 214.74 2175.72 211.962 Q2173.41 209.184 2173.41 203.837 M2184.12 187.518 L2184.12 187.518 Z\" fill=\"#000000\" fill-rule=\"nonzero\" fill-opacity=\"1\" /><path clip-path=\"url(#clip160)\" d=\"M2215.67 201.036 Q2210.51 201.036 2208.52 202.217 Q2206.53 203.397 2206.53 206.245 Q2206.53 208.513 2208.01 209.856 Q2209.52 211.175 2212.09 211.175 Q2215.63 211.175 2217.76 208.675 Q2219.91 206.152 2219.91 201.985 L2219.91 201.036 L2215.67 201.036 M2224.17 199.277 L2224.17 214.069 L2219.91 214.069 L2219.91 210.133 Q2218.45 212.495 2216.28 213.629 Q2214.1 214.74 2210.95 214.74 Q2206.97 214.74 2204.61 212.518 Q2202.27 210.272 2202.27 206.522 Q2202.27 202.147 2205.19 199.925 Q2208.13 197.703 2213.94 197.703 L2219.91 197.703 L2219.91 197.286 Q2219.91 194.347 2217.97 192.749 Q2216.04 191.129 2212.55 191.129 Q2210.33 191.129 2208.22 191.661 Q2206.11 192.194 2204.17 193.259 L2204.17 189.323 Q2206.51 188.421 2208.71 187.981 Q2210.91 187.518 2212.99 187.518 Q2218.61 187.518 2221.39 190.434 Q2224.17 193.351 2224.17 199.277 Z\" fill=\"#000000\" fill-rule=\"nonzero\" fill-opacity=\"1\" /><path clip-path=\"url(#clip160)\" d=\"M2232.94 178.05 L2237.2 178.05 L2237.2 214.069 L2232.94 214.069 L2232.94 178.05 Z\" fill=\"#000000\" fill-rule=\"nonzero\" fill-opacity=\"1\" /></svg>\n"
      ]
     },
     "execution_count": 8,
     "metadata": {},
     "output_type": "execute_result"
    }
   ],
   "source": [
    "rand_firm_ticker = rand(list_of_all_firms)\n",
    "firm_data = dataset[rand_firm_ticker]\n",
    "T_all = all_range*Δt .- Δt;\n",
    "A = [ones(maximum_number_trading_days) T_all];\n",
    "Y = log.(firm_data[!,:volume_weighted_average_price]);\n",
    "θ = inv(transpose(A)*A)*transpose(A)*Y;\n",
    "\n",
    "ϵ = Y .- A*θ\n",
    "ϵₙ = fit_mle(Normal,ϵ);\n",
    "\n",
    "plot(ϵₙ, label=\"Normal\", c=:navyblue,lw=2)\n",
    "density!(ϵ, normalize=true, xlabel=\"Residuals for Firm-$(rand_firm_ticker)\", \n",
    "    ylabel=\"Density\", label=\"Actual\", c=:red,lw=2)"
   ]
  },
  {
   "cell_type": "markdown",
   "id": "143fc291-fdcc-4075-9c7b-561c160bd0d3",
   "metadata": {},
   "source": [
    "## Objective 2: Estimate the volatility parameter $\\sigma$ from data\n",
    "There are multiple methods to calculate the volatility parameter $\\sigma$. Generally, these approaches can be classified into two categories - historical volatility estimates based on past return data and future volatility estimates based on the [Implied Volatility (IV)](https://en.wikipedia.org/wiki/Implied_volatility) of [put and call options contracts](https://en.wikipedia.org/wiki/Option_(finance)). Let's focus on computing the volatility $\\sigma$ from historical data and discuss options later.\n",
    "\n",
    "The historical volatility is estimated by analyzing the distribution of returns. To do this, let's assume a share price model of the form:\n",
    "\n",
    "$$\n",
    "S_{j} = \\exp\\left(\\mu_{j,j-1}\\Delta{t}\\right)\\cdot{S_{j-1}}\n",
    "$$\n",
    "\n",
    "where $\\mu_{j,j-1}$ denotes the _growth rate_ (units: 1/time) and $\\Delta{t}$ (units: time) denotes the time step during the period $(j-1)\\rightarrow{j}$. Solving for the return parameter $\\mu_{j,j-1}$ gives the expression:\n",
    "\n",
    "$$\n",
    "\\mu_{j,j-1} = \\left(\\frac{1}{\\Delta{t}}\\right)\\cdot\\ln\\left(\\frac{S_{j}}{S_{j-1}}\\right)\n",
    "$$\n",
    "\n",
    "We use daily data; thus, the natural time frame between $S_{j-1}$ and $S_{j}$ is a single day. However, subsequently, it will be easier to use an annualized value for the $\\mu$ parameter; thus, we let $\\Delta{t} = 1/252$, i.e., the fraction of a calendar or trading year that occurs in a single day (specified above).\n",
    "\n",
    "### Implementation\n",
    "We will process each firm in the `dataset` using a `for` loop. First, we define the `σ̂_dictionary = Dict{String, Float64}()`, which will hold estimates of the volatility parameter for each firm (as `key`$\\rightarrow$`value` pairs, where `key` is the `ticker` and the `value` is the volatility). Then, for each iteration of the loop, i.e., for each firm, we:\n",
    "\n",
    "* Select a `firm_ticker` and `firm_data`, and compute the `growth_rate_array` for the firm. \n",
    "* We define an array that holds the values for $\\mu_{j,j-1}$, named `growth_rate_array`. We then populate the `growth_rate_array` using a `for` loop; during each pass through the loop, we get values for $S_{j-1}$ and $S_{j}$, i.e., the VWAP for the two days from the dataset `firm_data,` and then compute (and store) the annualized value of $\\mu_{j,j-1}$ parameter in the `growth_rate_array.`\n",
    "* Finally, we approximate the historical volatility $\\sigma$ from the variance of the returns computed from the historical data set.\n",
    "    * We fit the return data to a `Normal` distribution using [maximum likelihood estimation](https://en.wikipedia.org/wiki/Maximum_likelihood_estimation) and then computed an estimate of the __annualized historical volatility__ as $\\sqrt{252}\\cdot\\hat{\\sigma}$. We access the variance using the `params(...)` function from the [Distributions.jl](https://github.com/JuliaStats/Distributions.jl.git) package."
   ]
  },
  {
   "cell_type": "code",
   "execution_count": 26,
   "id": "f083872c-a7a1-493d-b53a-9e0a17940fe5",
   "metadata": {
    "tags": []
   },
   "outputs": [],
   "source": [
    "σ̂_dictionary = Dict{String,Float64}();\n",
    "for i ∈ eachindex(list_of_all_firms)\n",
    "    \n",
    "    firm_ticker = list_of_all_firms[i];\n",
    "    firm_data = dataset[firm_ticker];\n",
    "\n",
    "    growth_rate_array = Array{Float64,1}(undef, maximum_number_trading_days-1)\n",
    "    for j ∈ 2:maximum_number_trading_days\n",
    "        S₁ = firm_data[j-1, :volume_weighted_average_price];\n",
    "        S₂ = firm_data[j, :volume_weighted_average_price];\n",
    "        growth_rate_array[j-1] = (1/Δt)*log(S₂/S₁);\n",
    "    end\n",
    "    \n",
    "    R = growth_rate_array.*Δt;\n",
    "    nd = fit_mle(Normal, R);\n",
    "    σ̂_dictionary[firm_index] = params(nd) |> last |> x-> *(x, sqrt(252));\n",
    "end\n",
    "σ̂_dictionary;"
   ]
  },
  {
   "cell_type": "code",
   "execution_count": 25,
   "id": "752d640d-495a-43fb-bfc8-5980d7c111e8",
   "metadata": {
    "tags": []
   },
   "outputs": [
    {
     "data": {
      "text/plain": [
       "0.4597348454541331"
      ]
     },
     "execution_count": 25,
     "metadata": {},
     "output_type": "execute_result"
    }
   ],
   "source": [
    "σ̂_dictionary[\"AMD\"]"
   ]
  },
  {
   "cell_type": "markdown",
   "id": "c1743b7d-aa5c-4380-b4b8-6642a72bbbd0",
   "metadata": {},
   "source": [
    "### Aside: Let's save the estimated drift and volatility parameters"
   ]
  },
  {
   "cell_type": "code",
   "execution_count": 11,
   "id": "655f3097-15bd-4a1c-be5c-5c4bcb8f7493",
   "metadata": {
    "tags": []
   },
   "outputs": [
    {
     "ename": "LoadError",
     "evalue": "UndefVarError: `MyFirmMappingDataSet` not defined",
     "output_type": "error",
     "traceback": [
      "UndefVarError: `MyFirmMappingDataSet` not defined",
      "",
      "Stacktrace:",
      " [1] top-level scope",
      "   @ In[11]:1"
     ]
    }
   ],
   "source": [
    "firm_mapping_df = MyFirmMappingDataSet()\n",
    "parameters_df = DataFrame();\n",
    "for i ∈ eachindex(list_of_all_firms)\n",
    "    \n",
    "    firm_index = list_of_all_firms[i];\n",
    "    firm_ticker = firm_mapping_df[firm_index, :Symbol];\n",
    "    μ̂ = μ̂_dictionary[firm_index]\n",
    "    σ̂ = σ̂_dictionary[firm_index]\n",
    "    \n",
    "    data_tuple = (\n",
    "        index = firm_index, \n",
    "        ticker = firm_ticker,\n",
    "        drift =  μ̂,\n",
    "        volatility = σ̂\n",
    "    );\n",
    "    \n",
    "    push!(parameters_df, data_tuple)\n",
    "end"
   ]
  },
  {
   "cell_type": "code",
   "execution_count": 12,
   "id": "03b90fe4-f439-4f92-80b5-71589cb2396c",
   "metadata": {
    "tags": []
   },
   "outputs": [
    {
     "ename": "LoadError",
     "evalue": "UndefVarError: `parameters_df` not defined",
     "output_type": "error",
     "traceback": [
      "UndefVarError: `parameters_df` not defined",
      "",
      "Stacktrace:",
      " [1] top-level scope",
      "   @ In[12]:1"
     ]
    }
   ],
   "source": [
    "CSV.write(joinpath(_PATH_TO_DATA,\"Parameters-SP500-2018-2022.csv\"), parameters_df);"
   ]
  },
  {
   "cell_type": "markdown",
   "id": "d6a6094c-0ed1-486c-85c2-6f2f43a3dbab",
   "metadata": {},
   "source": [
    "## Task 3: Visualize the simulation of a random firm for a random time period\n",
    "Let's begin by selecting a `random_firm_index` from our list of firms, and get its associated data, store this in the `random_firm_data` variable:"
   ]
  },
  {
   "cell_type": "code",
   "execution_count": 13,
   "id": "1ba1de8b-ece0-4767-9ff3-66b1a750cab7",
   "metadata": {
    "tags": []
   },
   "outputs": [
    {
     "name": "stdout",
     "output_type": "stream",
     "text": [
      "The (randomly) selected firm in this study: LDOS\n"
     ]
    }
   ],
   "source": [
    "random_firm_index = keys(dataset) |> collect |> rand;\n",
    "random_firm_data = dataset[random_firm_index];\n",
    "println(\"The (randomly) selected firm in this study: $(random_firm_index)\")"
   ]
  },
  {
   "cell_type": "markdown",
   "id": "b7e33e9c-9882-41d9-b96f-ea533e945be4",
   "metadata": {},
   "source": [
    "Next, let's randomly choose a contiguous time window of `T` days (also specified above) and analyze the model’s performance during this period. To begin, we will generate the `start_index` variable, i.e., the trading index to start the simulation from. The `stop_index` will then be determined by adding the number of trading days `T` to the `start_index`:"
   ]
  },
  {
   "cell_type": "code",
   "execution_count": 14,
   "id": "c6e740a1-ff16-41cd-b51f-22495c942f18",
   "metadata": {
    "tags": []
   },
   "outputs": [
    {
     "ename": "LoadError",
     "evalue": "UndefVarError: `number_of_trading_days` not defined",
     "output_type": "error",
     "traceback": [
      "UndefVarError: `number_of_trading_days` not defined",
      "",
      "Stacktrace:",
      " [1] top-level scope",
      "   @ In[14]:1"
     ]
    }
   ],
   "source": [
    "start_index = rand(1:(number_of_trading_days - T - 1))\n",
    "stop_index = start_index + T\n",
    "println(\"Visualize Firm-$(random_firm_index) between trading days ($(start_index) -> $(stop_index))\")"
   ]
  },
  {
   "cell_type": "markdown",
   "id": "5655a4a2-afed-42dc-bae7-3e7f9429fd99",
   "metadata": {},
   "source": [
    "Get the $(\\hat{\\mu},\\hat{\\sigma})$ values from the respective dictionaries for the `random_firm_index`:"
   ]
  },
  {
   "cell_type": "code",
   "execution_count": 15,
   "id": "5ef45761-6112-4203-a4c3-55e4c7805932",
   "metadata": {
    "tags": []
   },
   "outputs": [
    {
     "ename": "LoadError",
     "evalue": "KeyError: key \"LDOS\" not found",
     "output_type": "error",
     "traceback": [
      "KeyError: key \"LDOS\" not found",
      "",
      "Stacktrace:",
      " [1] getindex(h::Dict{Int64, Float64}, key::String)",
      "   @ Base ./dict.jl:498",
      " [2] top-level scope",
      "   @ In[15]:1"
     ]
    }
   ],
   "source": [
    "μ̂ = μ̂_dictionary[random_firm_index];\n",
    "σ̂ = σ̂_dictionary[random_firm_index];\n",
    "println(\"Firm-$(random_firm_index) has (μ̂,σ̂) = ($(μ̂),$(σ̂))\")"
   ]
  },
  {
   "cell_type": "markdown",
   "id": "31d5afd7-4996-4b66-8914-36a660d3f7c9",
   "metadata": {},
   "source": [
    "Finally, let's create a geometric Brownian motion model, using the `build(…)` function and then solve it between `T₁` and `T₂` starting with price `Sₒ` using the `solve(…)` function. \n",
    "* In addition to the analytical values of the expectation and the variance, our simulation generates `N = 100` sample paths using the `sample(...)` function, where the resulting price values are saved in the `X` array. This array will be a `T`$\\times$`N+1` array,  each row corresponds to a time value, while each column (after the first) is a solution:"
   ]
  },
  {
   "cell_type": "code",
   "execution_count": 16,
   "id": "85ad74f3-1c7f-4038-b16f-270412afba39",
   "metadata": {
    "tags": []
   },
   "outputs": [
    {
     "ename": "LoadError",
     "evalue": "UndefVarError: `σ̂` not defined",
     "output_type": "error",
     "traceback": [
      "UndefVarError: `σ̂` not defined",
      "",
      "Stacktrace:",
      " [1] top-level scope",
      "   @ In[16]:1"
     ]
    }
   ],
   "source": [
    "model = build(MyGeometricBrownianMotionEquityModel, (\n",
    "            μ = μ̂, σ = σ̂ ));\n",
    "\n",
    "Sₒ = random_firm_data[start_index,:volume_weighted_average_price];\n",
    "T₁ = start_index*Δt\n",
    "T₂ = stop_index*Δt\n",
    "X = sample(model, (Sₒ = Sₒ, T₁ = T₁, T₂ = T₂, Δt = Δt), \n",
    "    number_of_paths = 100);"
   ]
  },
  {
   "cell_type": "markdown",
   "id": "62d59465-6d46-40b3-bf29-fdb4dc410936",
   "metadata": {},
   "source": [
    "For Geometric Brownian Motion (GBM) analytical expressions are available for both the expected value and the variance of the share price. The expected share price is given by:\n",
    "\n",
    "$$\\mathbb{E}\\left(S_{t}\\right) = S_{o}\\exp\\left(\\mu\\cdot\\Delta{t}\\right)$$\n",
    "\n",
    "where $\\Delta{t} = t-t_{o}$ and $S_{o}$ denotes the share price at $t=t_{o}$. On the other hand the variance of the share price $\\text{Var}(S_{t})$ at time $t$ is given by:\n",
    "\n",
    "$$\\text{Var}\\left(S_{t}\\right) = S_{\\circ}^{2}e^{2\\mu\\cdot\\Delta{t}}\\left[e^{\\sigma^{2}{\\Delta{t}}} - 1\\right]$$\n",
    "\n",
    "We've implmented the analytical expectation and variance calculations in the `𝔼(...)` and `Var(...)` functions:"
   ]
  },
  {
   "cell_type": "code",
   "execution_count": 17,
   "id": "9dd8299f-7c7e-4ae7-9f63-bcaceeafc10e",
   "metadata": {
    "tags": []
   },
   "outputs": [
    {
     "ename": "LoadError",
     "evalue": "UndefVarError: `model` not defined",
     "output_type": "error",
     "traceback": [
      "UndefVarError: `model` not defined",
      "",
      "Stacktrace:",
      " [1] top-level scope",
      "   @ In[17]:1"
     ]
    }
   ],
   "source": [
    "expectation = 𝔼(model, (Sₒ = Sₒ, T₁ = T₁, T₂ = T₂, Δt = Δt));\n",
    "variance = Var(model, (Sₒ = Sₒ, T₁ = T₁, T₂ = T₂, Δt = Δt));"
   ]
  },
  {
   "cell_type": "code",
   "execution_count": 18,
   "id": "63750ea9-046c-4f73-a5a0-8ff8164187b3",
   "metadata": {
    "tags": []
   },
   "outputs": [
    {
     "ename": "LoadError",
     "evalue": "UndefVarError: `expectation` not defined",
     "output_type": "error",
     "traceback": [
      "UndefVarError: `expectation` not defined",
      "",
      "Stacktrace:",
      " [1] top-level scope",
      "   @ In[18]:2"
     ]
    }
   ],
   "source": [
    "let\n",
    "    L68 = expectation[:,2] .- sqrt.(variance[:,2])\n",
    "    U68 = expectation[:,2] .+ sqrt.(variance[:,2])\n",
    "    L95 = expectation[:,2] .- 1.96*sqrt.(variance[:,2])\n",
    "    U95 = expectation[:,2] .+ 1.96*sqrt.(variance[:,2])\n",
    "    L99 = expectation[:,2] .- 2.576*sqrt.(variance[:,2])\n",
    "    U99 = expectation[:,2] .+ 2.576*sqrt.(variance[:,2])\n",
    "\n",
    "\n",
    "    plot(expectation[:,1], expectation[:,2], fillrange=L68, c=colors[5], alpha=0.5, label=\"\")\n",
    "    plot!(expectation[:,1], expectation[:,2], fillrange=U68, c=colors[6], alpha=0.5, label=\"\")\n",
    "    plot!(expectation[:,1], expectation[:,2], fillrange=L95, c=colors[5], alpha=0.3, label=\"\")\n",
    "    plot!(expectation[:,1], expectation[:,2], fillrange=U95, c=colors[6], alpha=0.3, label=\"\")\n",
    "    plot!(expectation[:,1], expectation[:,2], fillrange=L99, c=colors[5], alpha=0.2, label=\"\")\n",
    "    plot!(expectation[:,1], expectation[:,2], fillrange=U99, c=colors[6], alpha=0.2, label=\"\")\n",
    "\n",
    "    plot!(expectation[:,1], expectation[:,2],c=:black, lw=3,ls=:dash, label=\"expectation\")\n",
    "    plot!(expectation[:,1], L68, c=:black, lw=1, label=\"\")\n",
    "    plot!(expectation[:,1], U68, c=:black, lw=1, label=\"\")\n",
    "    plot!(expectation[:,1], L95, c=:black, lw=1, label=\"\")\n",
    "    plot!(expectation[:,1], U95, c=:black, lw=1, label=\"\")\n",
    "    plot!(expectation[:,1], L99, c=:black, lw=1, label=\"\")\n",
    "    plot!(expectation[:,1], U99, c=:black, lw=1, label=\"\")\n",
    "    plot!(X[:,1],X[:,2:end], label=\"\", c=colors[2], alpha=0.3)\n",
    "    plot!(X[:,1], random_firm_data[start_index:stop_index, :volume_weighted_average_price], lw=4, c=:red, \n",
    "        label=\"Firm-$(random_firm_index) actual\")\n",
    "\n",
    "    xlabel!(\"Time (years)\", fontsize=18)\n",
    "    ylabel!(\"Firm-$(random_firm_index) VWAP (USD/share)\", fontsize=18)\n",
    "end"
   ]
  },
  {
   "cell_type": "markdown",
   "id": "4977ec09-9110-45b6-9104-3b32eaea70d9",
   "metadata": {},
   "source": [
    "### Was this a successful simulation?\n",
    "Determining if a model accurately represents data can be done in various ways, but we will utilize a straightforward functional test. This test involves checking if the simulated price falls within a specified lower bound ($L_{j}$) and upper bound ($U_{j}$) for all times $t_j$ within a given interval ($t_{j}\\in\\mathcal{I}_{k}$). \n",
    "\n",
    "* If the simulation meets this requirement, it is deemed a `success`. The values for $L_{j}$ and $U_{j}$ can be customized, but we set these to $\\mu\\pm{2.576}\\cdot{\\sigma}$, where $\\mu$ represents the expected value and $\\sigma$ is the standard deviation of the geometric Brownian motion simulation. \n",
    "* However, if the actual price exceeds the given bounds at any point, the simulation is considered a `failure`."
   ]
  },
  {
   "cell_type": "code",
   "execution_count": 19,
   "id": "4cc81ba9-8ad4-47e1-af09-f4074dbc7f5b",
   "metadata": {
    "tags": []
   },
   "outputs": [
    {
     "ename": "LoadError",
     "evalue": "UndefVarError: `expectation` not defined",
     "output_type": "error",
     "traceback": [
      "UndefVarError: `expectation` not defined",
      "",
      "Stacktrace:",
      " [1] top-level scope",
      "   @ In[19]:1"
     ]
    }
   ],
   "source": [
    "L = expectation[:,2] .- 2.576*sqrt.(variance[:,2])\n",
    "U = expectation[:,2] .+ 2.576*sqrt.(variance[:,2])\n",
    "   \n",
    "# check the bounds: if below L, or above U then simulation failed\n",
    "success_flag = true;\n",
    "for k ∈ 1:T\n",
    "    if (random_firm_data[start_index+k-1,:volume_weighted_average_price] < L[k]) || (random_firm_data[start_index+k-1,:volume_weighted_average_price] > U[k])\n",
    "        success_flag = false;\n",
    "        break;\n",
    "    end\n",
    "end\n",
    "\n",
    "println(\"The simultion of the VWAP of Firm-$(random_firm_index) between ($(start_index) -> $(stop_index)) was successful: $(success_flag)\")"
   ]
  },
  {
   "cell_type": "markdown",
   "id": "fd12aa76",
   "metadata": {},
   "source": [
    "#### Discussion\n",
    "##### Q3.1: Think about the time period that was used to estimate these parameters (past five years). How do you think the simulation results would change if only the more recent data were used? What are some reasons why we would/would not want to make this change?"
   ]
  },
  {
   "cell_type": "markdown",
   "id": "4cd55db6",
   "metadata": {},
   "source": [
    "fill me in"
   ]
  },
  {
   "cell_type": "markdown",
   "id": "962cb709",
   "metadata": {},
   "source": [
    "#### Discussion\n",
    "##### Q3.2: Mess around with different values of $(\\hat{\\mu},\\hat{\\sigma})$ and observe the effects on the simulated paths. What do you notice with larger/smaller values of $\\hat{\\mu}$? What about $\\hat{\\sigma}$? What would have to happen to the underlying share price series to observe these different $(\\hat{\\mu},\\hat{\\sigma})$?"
   ]
  },
  {
   "cell_type": "code",
   "execution_count": 20,
   "id": "f60b62d0",
   "metadata": {},
   "outputs": [
    {
     "ename": "LoadError",
     "evalue": "UndefVarError: `σ̂` not defined",
     "output_type": "error",
     "traceback": [
      "UndefVarError: `σ̂` not defined",
      "",
      "Stacktrace:",
      " [1] top-level scope",
      "   @ In[20]:4"
     ]
    }
   ],
   "source": [
    "μ̂_factor = 2.0 # FILL ME IN\n",
    "σ̂_factor = 2.0 # FILL ME IN\n",
    "μ̂_2 = μ̂ * μ̂_factor\n",
    "σ̂_2 = σ̂ * σ̂_factor\n",
    "println(\"New values of (μ̂,σ̂) = ($(μ̂_2),$(σ̂_2))\")\n",
    "\n",
    "model_2 = build(MyGeometricBrownianMotionEquityModel, (\n",
    "            μ = μ̂_2, σ = σ̂_2 ));\n",
    "\n",
    "Sₒ = random_firm_data[start_index,:volume_weighted_average_price];\n",
    "T₁ = start_index*Δt\n",
    "T₂ = stop_index*Δt\n",
    "X_2 = sample(model_2, (Sₒ = Sₒ, T₁ = T₁, T₂ = T₂, Δt = Δt), \n",
    "    number_of_paths = 100);\n",
    "\n",
    "plot(X_2[:,1],X_2[:,2:end], label=\"\", c=colors[2], alpha=0.3)\n",
    "plot!(X_2[:,1], random_firm_data[start_index:stop_index, :volume_weighted_average_price], lw=4, c=:red, \n",
    "    label=\"Firm-$(random_firm_index) actual\")\n",
    "\n",
    "xlabel!(\"Time (years)\", fontsize=18)\n",
    "ylabel!(\"Firm-$(random_firm_index) VWAP (USD/share)\", fontsize=18)"
   ]
  },
  {
   "cell_type": "code",
   "execution_count": null,
   "id": "6ae22300",
   "metadata": {},
   "outputs": [],
   "source": []
  }
 ],
 "metadata": {
  "kernelspec": {
   "display_name": "Julia 1.10.0",
   "language": "julia",
   "name": "julia-1.10"
  },
  "language_info": {
   "file_extension": ".jl",
   "mimetype": "application/julia",
   "name": "julia",
   "version": "1.10.0"
  }
 },
 "nbformat": 4,
 "nbformat_minor": 5
}
