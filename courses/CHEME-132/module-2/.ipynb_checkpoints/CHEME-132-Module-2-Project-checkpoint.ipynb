{
 "cells": [
  {
   "cell_type": "markdown",
   "id": "b3bac344-e916-4f12-bd4b-8166263f2c77",
   "metadata": {},
   "source": [
    "# Project: Geometric Brownian Motion (GBM) Models and Stylized Facts\n",
    "Geometric Brownian motion (GBM) is widely used as a pricing model. However, whether GBM replicates many of the statistical properties of actual pricing and return data is unclear. \n",
    "* These properties, referred to as _stylized facts_ have been observed for decades, dating back to early work by [Mandelbrot](https://en.wikipedia.org/wiki/Benoit_Mandelbrot) and later in several studies by [Rama Cont](http://rama.cont.perso.math.cnrs.fr/pdf/empirical.pdf) and more recently by [Ratliff-Crain et al.](https://arxiv.org/abs/2311.07738) who reviewed the 11 original stylized facts proposed by [Cont](http://rama.cont.perso.math.cnrs.fr/pdf/empirical.pdf) with newer data.\n",
    "\n",
    "## Learning objectives\n",
    "In this project, students will examine a few of the statistical properties (stylized facts) of return data and explore how well geometric Brownian motion models replicate these properties. \n",
    "\n",
    "* __Prerequisite__: Load and clean the historical dataset. The data we'll explore is daily open-high-low-close values for firms in the [S&P500 index](https://en.wikipedia.org/wiki/S%26P_500) between `01-03-2018` and `12-29-2023`.\n",
    "* __Objective 1__: Are the returns in dataset $\\mathcal{D}$ actually Laplace distributed?\n",
    "    * `TODO`: Estimate the return data for firms in dataset $\\mathcal{D}$\n",
    "    * `TODO`: Classify the returns of firm $i$ as $c_{i}\\in\\left\\{\\text{normal},\\text{laplace},\\text{undefined}\\right\\}$\n",
    "* __Objective 2__: Does geometric Brownian motion replicate common stylized facts?"
   ]
  },
  {
   "cell_type": "markdown",
   "id": "c018d7c2-e768-433a-9318-708e56ad630f",
   "metadata": {
    "jp-MarkdownHeadingCollapsed": true
   },
   "source": [
    "## Setup\n",
    "We set up the computational environment by including the `Include.jl` file. The `Include.jl` file loads external packages, various functions we will use in the exercise, and custom types to model the components of our example problem."
   ]
  },
  {
   "cell_type": "code",
   "execution_count": 1,
   "id": "b2c4f94a-83ee-4625-95d3-990adf2d31e0",
   "metadata": {},
   "outputs": [
    {
     "name": "stderr",
     "output_type": "stream",
     "text": [
      "\u001b[32m\u001b[1m    Updating\u001b[22m\u001b[39m git-repo `https://github.com/varnerlab/VLQuantitativeFinancePackage.jl.git`\n",
      "\u001b[32m\u001b[1m   Resolving\u001b[22m\u001b[39m package versions...\n",
      "\u001b[32m\u001b[1m  No Changes\u001b[22m\u001b[39m to `~/Desktop/julia_work/CHEME-130-eCornell-Repository/courses/CHEME-132/module-2/Project.toml`\n",
      "\u001b[32m\u001b[1m  No Changes\u001b[22m\u001b[39m to `~/Desktop/julia_work/CHEME-130-eCornell-Repository/courses/CHEME-132/module-2/Manifest.toml`\n",
      "\u001b[32m\u001b[1m  Activating\u001b[22m\u001b[39m project at `~/Desktop/julia_work/CHEME-130-eCornell-Repository/courses/CHEME-132/module-2`\n",
      "\u001b[32m\u001b[1m  No Changes\u001b[22m\u001b[39m to `~/Desktop/julia_work/CHEME-130-eCornell-Repository/courses/CHEME-132/module-2/Project.toml`\n",
      "\u001b[32m\u001b[1m  No Changes\u001b[22m\u001b[39m to `~/Desktop/julia_work/CHEME-130-eCornell-Repository/courses/CHEME-132/module-2/Manifest.toml`\n",
      "\u001b[32m\u001b[1m    Updating\u001b[22m\u001b[39m registry at `~/.julia/registries/General.toml`\n",
      "\u001b[32m\u001b[1m    Updating\u001b[22m\u001b[39m git-repo `https://github.com/varnerlab/VLQuantitativeFinancePackage.jl.git`\n",
      "\u001b[32m\u001b[1m  No Changes\u001b[22m\u001b[39m to `~/Desktop/julia_work/CHEME-130-eCornell-Repository/courses/CHEME-132/module-2/Project.toml`\n",
      "\u001b[32m\u001b[1m  No Changes\u001b[22m\u001b[39m to `~/Desktop/julia_work/CHEME-130-eCornell-Repository/courses/CHEME-132/module-2/Manifest.toml`\n"
     ]
    }
   ],
   "source": [
    "include(\"Include.jl\");"
   ]
  },
  {
   "cell_type": "markdown",
   "id": "7d7a1f72-d029-4195-ab26-4d682166d75e",
   "metadata": {
    "jp-MarkdownHeadingCollapsed": true
   },
   "source": [
    "## Prerequisites: Load and clean the historical dataset\n",
    "We gathered a daily open-high-low-close `dataset` for each firm in the [S&P500](https://en.wikipedia.org/wiki/S%26P_500) from `01-03-2018` until `12-29-2023`, along with data for a few exchange-traded funds and volatility products during that time. \n",
    "* We load the `orignal_dataset` by calling the `MyMarketDataSet()` function and remove firms that do not have the maximum number of trading days. The cleaned dataset $\\mathcal{D}$ is stored in the `dataset` variable, where the dataset $\\mathcal{D}$ has data for $\\mathcal{L}$ firms, held in the `list_of_all_firms` variable."
   ]
  },
  {
   "cell_type": "code",
   "execution_count": 2,
   "id": "bd1f1820-a8f9-4e38-b9cb-831d2f70ff4d",
   "metadata": {},
   "outputs": [],
   "source": [
    "original_dataset = MyMarketDataSet() |> x-> x[\"dataset\"];"
   ]
  },
  {
   "cell_type": "markdown",
   "id": "a57e8eec-5125-41fe-a61e-8209474e2ffd",
   "metadata": {},
   "source": [
    "### Clean the data\n",
    "Not all tickers in our dataset have the maximum number of trading days for various reasons, e.g., acquisition or de-listing events. Let's collect only those tickers with the maximum number of trading days.\n",
    "\n",
    "* First, let's compute the number of records for a company that we know has a maximum value, e.g., `AAPL`, and save that value in the `maximum_number_trading_days` variable:"
   ]
  },
  {
   "cell_type": "code",
   "execution_count": 3,
   "id": "bdeaba69-8f86-4a16-89d0-ba20266fdbb0",
   "metadata": {},
   "outputs": [],
   "source": [
    "maximum_number_trading_days = original_dataset[\"AAPL\"] |> nrow;"
   ]
  },
  {
   "cell_type": "markdown",
   "id": "644d450a-2235-4351-8839-c52e8afe3ed3",
   "metadata": {},
   "source": [
    "Now, let's iterate through our data and collect only tickers with `maximum_number_trading_days` records. Save that data in the `dataset::Dict{String,DataFrame}` variable:"
   ]
  },
  {
   "cell_type": "code",
   "execution_count": 4,
   "id": "0dd663a6-3c3d-48a8-9a4e-d5bb17a1c105",
   "metadata": {},
   "outputs": [],
   "source": [
    "dataset = Dict{String,DataFrame}();\n",
    "for (ticker,data) ∈ original_dataset\n",
    "    if (nrow(data) == maximum_number_trading_days)\n",
    "        dataset[ticker] = data;\n",
    "    end\n",
    "end\n",
    "dataset;"
   ]
  },
  {
   "cell_type": "markdown",
   "id": "e30749ff-ba4a-4e68-b25a-de3a85380e2e",
   "metadata": {},
   "source": [
    "Then, get a list of firms that we have in the cleaned-up `dataset` and save it in the `list_of_all_firms` array (we sort these alphabetically):"
   ]
  },
  {
   "cell_type": "code",
   "execution_count": 6,
   "id": "d9a9c2fa-3f01-464b-b22d-6efad4024f06",
   "metadata": {},
   "outputs": [],
   "source": [
    "list_of_all_firms = keys(dataset) |> collect |> sort;"
   ]
  },
  {
   "cell_type": "markdown",
   "id": "c9119bf2-f529-4b67-a8ee-f0825c29c269",
   "metadata": {},
   "source": [
    "Finally, we set some constant values that are used throughout the study. In particular, the value of $\\Delta{t}$ holds the time step that we'll use (see below for a discussion of the value), and we'll specify the number of trading days to simulate in the `T` variable:"
   ]
  },
  {
   "cell_type": "code",
   "execution_count": 7,
   "id": "cbb1db51-4a69-470d-975f-0afd8fef937c",
   "metadata": {},
   "outputs": [],
   "source": [
    "Δt = (1.0/252.0);\n",
    "T = 48;\n",
    "all_range = range(1,stop=maximum_number_trading_days,step=1) |> collect;"
   ]
  },
  {
   "cell_type": "markdown",
   "id": "88218607-a19f-4c98-b9a2-a675ed291751",
   "metadata": {
    "jp-MarkdownHeadingCollapsed": true
   },
   "source": [
    "## Objective 1: Are the returns in dataset $\\mathcal{D}$ actually Laplace distributed?\n",
    "One of the central stylized facts is that return distributions have `fat tails,` i.e., the density of the returns near zero is smaller than a normal distribution, with more density on the tails of the distribution. \n",
    "* In the example for this module, we showed that only a small fraction of returns actually followed a normal distribution. However, while we suggested an alternative `Laplace` distribution for most firms in dataset $\\mathcal{D}$, we did not quantitatively test this assertion.\n",
    "\n",
    "Let's develop a procedure based on the [Anderson–Darling test](https://en.wikipedia.org/wiki/Anderson–Darling_test) and [Kolmogorov-Smirnov test](https://en.wikipedia.org/wiki/Kolmogorov%E2%80%93Smirnov_test) exported by the [HypothesisTests.jl package](https://github.com/JuliaStats/HypothesisTests.jl) to estimate which firms in the dataset $\\mathcal{D}$ follow a [Laplace distribution](https://en.wikipedia.org/wiki/Laplace_distribution)"
   ]
  },
  {
   "cell_type": "markdown",
   "id": "6e483799-034a-4d6b-b71c-c815d6b49f20",
   "metadata": {},
   "source": [
    "### TODO: Estimate the return data for firms in dataset $\\mathcal{D}$.\n",
    "Compute the log growth rates for the firms in the `list_of_all_firms` $\\mathcal{L}$ using the `log_return_matrix(...)` function.\n",
    "* The `log_return_matrix(...)` takes `dataset` $\\mathcal{D}$ and a list of firms $\\mathcal{L}$ and computes the growth rate values for each firm as a function of time. The data is returned as a $\\mathcal{D}_{i}\\times\\dim\\mathcal{L}$ array (time on the rows, firm $i$ on the columns). We store the data in the `log_growth_array` variable:"
   ]
  },
  {
   "cell_type": "code",
   "execution_count": 8,
   "id": "65d17080-33be-4235-aee1-8f605a1c0eef",
   "metadata": {},
   "outputs": [],
   "source": [
    "log_growth_array = log_return_matrix(dataset, list_of_all_firms);"
   ]
  },
  {
   "cell_type": "markdown",
   "id": "cb1b7bc4-b155-4194-9327-bc057372f28a",
   "metadata": {},
   "source": [
    "### TODO: Classify the returns of firm $i$ as $c_{i}\\in\\left\\{\\text{normal},\\text{laplace},\\text{undefined}\\right\\}$\n",
    "Suppose we define the class set $\\mathcal{C}\\equiv\\left\\{\\text{normal},\\text{laplace},\\text{undefined}\\right\\}$ to describe the possible types of returns. Classify the shape of the returns for each of the firms in the `dataset` $\\mathcal{D}$, where for each firm $i$ we compute a classification $c_{i}\\in\\left\\{\\text{normal},\\text{laplace},\\text{undefined}\\right\\}$. For each statistical test, use a `pvalue = 0.0001` cutoff.\n",
    "* `Normal`: Test for normality of the return for firm $i$ using a one-sample [Anderson–Darling test](https://en.wikipedia.org/wiki/Anderson–Darling_test).\n",
    "* `Laplace`: If the return for firm $i$ is `NOT` normal, use a one-sample [Kolmogorov-Smirnov test](https://en.wikipedia.org/wiki/Kolmogorov%E2%80%93Smirnov_test) and a one-sample [Anderson–Darling test](https://en.wikipedia.org/wiki/Anderson–Darling_test) to determine if the return for firm $i$ follows a `Laplace` distribution. \n",
    "* `Undefined`: If both the tests fail, classify firm $i$ as `undefined`."
   ]
  },
  {
   "cell_type": "code",
   "execution_count": 30,
   "id": "c190dffb-5fa1-4b02-a153-d50fc5a9e546",
   "metadata": {},
   "outputs": [
    {
     "name": "stderr",
     "output_type": "stream",
     "text": [
      "\u001b[33m\u001b[1m┌ \u001b[22m\u001b[39m\u001b[33m\u001b[1mWarning: \u001b[22m\u001b[39mThis test is inaccurate with ties\n",
      "\u001b[33m\u001b[1m└ \u001b[22m\u001b[39m\u001b[90m@ HypothesisTests ~/.julia/packages/HypothesisTests/r322N/src/kolmogorov_smirnov.jl:68\u001b[39m\n",
      "\u001b[33m\u001b[1m┌ \u001b[22m\u001b[39m\u001b[33m\u001b[1mWarning: \u001b[22m\u001b[39mThis test is inaccurate with ties\n",
      "\u001b[33m\u001b[1m└ \u001b[22m\u001b[39m\u001b[90m@ HypothesisTests ~/.julia/packages/HypothesisTests/r322N/src/kolmogorov_smirnov.jl:68\u001b[39m\n"
     ]
    }
   ],
   "source": [
    "return_classification_dictionary = Dict{String, Symbol}();\n",
    "p_value_cutoff = 0.00001;\n",
    "for i ∈ eachindex(list_of_all_firms)\n",
    "    \n",
    "    ticker = list_of_all_firms[i];\n",
    "    samples = log_growth_array[:,i];\n",
    "    \n",
    "    d_normal = fit_mle(Normal, samples)\n",
    "    d_laplace = fit_mle(Laplace, samples)\n",
    "\n",
    "    AD_test_result = OneSampleADTest(samples,d_normal) |> pvalue\n",
    "    if (AD_test_result > p_value_cutoff) # support H0\n",
    "        return_classification_dictionary[ticker] = :normal\n",
    "    else\n",
    "        KS_test_result_laplace = ExactOneSampleKSTest(samples, d_laplace) |> pvalue\n",
    "        AD_test_result_laplace = OneSampleADTest(samples,d_laplace) |> pvalue\n",
    "        if (KS_test_result_laplace > p_value_cutoff && AD_test_result_laplace > p_value_cutoff)\n",
    "            return_classification_dictionary[ticker] = :laplace\n",
    "        else\n",
    "            return_classification_dictionary[ticker] = :undefined\n",
    "        end\n",
    "    end\n",
    "end\n",
    "return_classification_dictionary;"
   ]
  },
  {
   "cell_type": "code",
   "execution_count": 26,
   "id": "a0a58704-aa99-4302-be34-20eb42d27ad4",
   "metadata": {},
   "outputs": [
    {
     "data": {
      "text/plain": [
       "0.08260869565217391"
      ]
     },
     "execution_count": 26,
     "metadata": {},
     "output_type": "execute_result"
    }
   ],
   "source": [
    "fraction_normal = findall(x->x==:normal, return_classification_dictionary) |> length |> \n",
    "    x -> x/length(list_of_all_firms)"
   ]
  },
  {
   "cell_type": "code",
   "execution_count": 27,
   "id": "8e2d8f31-3fee-4076-9b96-d48566d57df3",
   "metadata": {},
   "outputs": [
    {
     "data": {
      "text/plain": [
       "0.9173913043478261"
      ]
     },
     "execution_count": 27,
     "metadata": {},
     "output_type": "execute_result"
    }
   ],
   "source": [
    "fraction_laplace = findall(x->x==:laplace, return_classification_dictionary) |> length |> \n",
    "    x -> x/length(list_of_all_firms)"
   ]
  },
  {
   "cell_type": "code",
   "execution_count": 21,
   "id": "601510e8-7695-4ce4-8750-252aa94cbfba",
   "metadata": {},
   "outputs": [
    {
     "data": {
      "text/plain": [
       "0.0"
      ]
     },
     "execution_count": 21,
     "metadata": {},
     "output_type": "execute_result"
    }
   ],
   "source": [
    "fraction_undefined = findall(x->x==:undefined, return_classification_dictionary) |> length |> \n",
    "    x -> x/length(list_of_all_firms)"
   ]
  },
  {
   "cell_type": "markdown",
   "id": "9eab30d0-952c-42cc-a8bc-703d8241a100",
   "metadata": {},
   "source": [
    "## Objective 2: Does geometric Brownian motion replicate common stylized facts?"
   ]
  },
  {
   "cell_type": "markdown",
   "id": "9e4f14ab-3863-419d-97a8-d7188e51e548",
   "metadata": {},
   "source": [
    "## Disclaimer and Risks\n",
    "__This content is offered solely for training and informational purposes__. No offer or solicitation to buy or sell securities or derivative products or any investment or trading advice or strategy is made, given, or endorsed by the teaching team. \n",
    "\n",
    "__Trading involves risk__. Carefully review your financial situation before investing in securities, futures contracts, options, or commodity interests. Past performance, whether actual or indicated by historical tests of strategies, is no guarantee of future performance or success. Trading is generally inappropriate for someone with limited resources, investment or trading experience, or a low-risk tolerance.  Only risk capital that is not required for living expenses.\n",
    "\n",
    "__You are fully responsible for any investment or trading decisions you make__. Such decisions should be based solely on evaluating your financial circumstances, investment or trading objectives, risk tolerance, and liquidity needs."
   ]
  }
 ],
 "metadata": {
  "kernelspec": {
   "display_name": "Julia 1.10.0",
   "language": "julia",
   "name": "julia-1.10"
  },
  "language_info": {
   "file_extension": ".jl",
   "mimetype": "application/julia",
   "name": "julia",
   "version": "1.10.0"
  }
 },
 "nbformat": 4,
 "nbformat_minor": 5
}
