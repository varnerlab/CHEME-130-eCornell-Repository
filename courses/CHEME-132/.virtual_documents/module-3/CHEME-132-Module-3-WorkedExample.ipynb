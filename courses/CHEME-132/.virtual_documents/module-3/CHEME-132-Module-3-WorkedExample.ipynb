





include("Include.jl");





original_dataset = MyMarketDataSet() |> x-> x["dataset"];





maximum_number_trading_days = original_dataset["AAPL"] |> nrow;





dataset = Dict{String,DataFrame}();
for (ticker,data) ∈ original_dataset
    if (nrow(data) == maximum_number_trading_days)
        dataset[ticker] = data;
    end
end
dataset;





list_of_all_firms = keys(dataset) |> collect |> sort;





Δt = (1.0/252.0);
T = 48;
all_range = range(1,stop=maximum_number_trading_days,step=1) |> collect;





log_growth_array = log_return_matrix(dataset, list_of_all_firms);





parameters_df = CSV.read(joinpath(_PATH_TO_DATA, "Parameters-SP500-2018-2023.csv"), DataFrame);





ρ = cor(log_growth_array);





Σ₁ = Array{Float64,2}(undef, length(list_of_all_firms), length(list_of_all_firms));
for i ∈ eachindex(list_of_all_firms)

    row_ticker = list_of_all_firms[i];
    σᵢ = parameters_df[i,:volatility];
    
    for j ∈ eachindex(list_of_all_firms)

        col_tikcer = list_of_all_firms[j];
        σⱼ = parameters_df[j,:volatility];
        Σ₁[i,j] = σᵢ*σⱼ*ρ[i,j];
    end
end





random_test_ticker_set = Set{String}()
number_of_random_firms = 20;
while (length(random_test_ticker_set) != number_of_random_firms)
    test_ticker = rand(list_of_all_firms)
    push!(random_test_ticker_set,test_ticker)
end





for ticker ∈ random_test_ticker_set
    i = findfirst(x-> x==ticker,list_of_all_firms)
    σᵢ = parameters_df[i,:volatility];
    σ̂ᵢ = sqrt(Σ₁[i,i]);
    @assert isapprox(σᵢ,σ̂ᵢ,rtol=1e-4)
end


Σ = cov(log_growth_value_array) |> x-> *(x,1/252)


sqrt(Σ[377,377])






