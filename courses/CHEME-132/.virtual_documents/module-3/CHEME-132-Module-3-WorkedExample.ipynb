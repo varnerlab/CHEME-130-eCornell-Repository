





include("Include.jl");





original_dataset = MyMarketDataSet() |> x-> x["dataset"];





maximum_number_trading_days = original_dataset["AAPL"] |> nrow;





dataset = Dict{String,DataFrame}();
for (ticker,data) ∈ original_dataset
    if (nrow(data) == maximum_number_trading_days)
        dataset[ticker] = data;
    end
end
dataset;





list_of_all_firms = keys(dataset) |> collect |> sort;





Δt = (1.0/252.0);
T = 48;
all_range = range(1,stop=maximum_number_trading_days,step=1) |> collect;





log_growth_array = log_return_matrix(dataset, list_of_all_firms);





parameters_df = CSV.read(joinpath(_PATH_TO_DATA, "Parameters-SP500-2018-2023.csv"), DataFrame);





ρ = cor(log_growth_array);





Σ₁ = Array{Float64,2}(undef, length(list_of_all_firms), length(list_of_all_firms));
for i ∈ eachindex(list_of_all_firms)

    row_ticker = list_of_all_firms[i];
    σᵢ = parameters_df[i,:volatility];
    
    for j ∈ eachindex(list_of_all_firms)

        col_tikcer = list_of_all_firms[j];
        σⱼ = parameters_df[j,:volatility];
        Σ₁[i,j] = σᵢ*σⱼ*ρ[i,j];
    end
end





random_test_ticker_set = Set{String}()
number_of_random_firms = 20;
while (length(random_test_ticker_set) != number_of_random_firms)
    test_ticker = rand(list_of_all_firms)
    push!(random_test_ticker_set,test_ticker)
end





for ticker ∈ random_test_ticker_set
    i = findfirst(x-> x==ticker,list_of_all_firms)
    σᵢ = parameters_df[i,:volatility];
    σ̂ᵢ = sqrt(Σ₁[i,i]);
    @assert isapprox(σᵢ,σ̂ᵢ,rtol=1e-4)
end





Σ₂ = cov(log_growth_array) |> x-> *(x,1/252);








test_ticker_array = ["AMD", "NVDA"];





μ_test_array = Array{Float64,1}(undef,2);
for i ∈ eachindex(test_ticker_array)
    j = findfirst(x->x == test_ticker_array[i],list_of_all_firms);
    μ_test_array[i] = mean(log_growth_array[:,j]);
end
μ_test_array;


# --- DO NOT CHANGE THIS BLOCK ----------------------------------------- #
my_number_of_selected_firms = length(test_ticker_array)
Σ₁_test_array = Array{Float64,2}(undef, my_number_of_selected_firms, my_number_of_selected_firms);
Σ₂_test_array = Array{Float64,2}(undef, my_number_of_selected_firms, my_number_of_selected_firms);
for i ∈ eachindex(test_ticker_array)
    row_firm_index = findfirst(x->x == test_ticker_array[i],list_of_all_firms);
    for j ∈ eachindex(test_ticker_array)
        col_firm_index = findfirst(x->x == test_ticker_array[j],list_of_all_firms);
        Σ₁_test_array[i,j] = Σ₁[row_firm_index, col_firm_index]
        Σ₂_test_array[i,j] = Σ₂[row_firm_index, col_firm_index]
    end
end
# ---------------------------------------------------------------------- #


m₁ = MvNormal(μ_test_array,Σ₁_test_array);
m₂ = MvNormal(μ_test_array,Σ₂_test_array);


X₁ = rand(m₁,5000)
X₂ = rand(m₂,5000)
scatter(X₂[1,:],X₂[2,:],c=:red, alpha=0.5, label="Approach 2: Σ₂")
scatter!(X₁[1,:],X₁[2,:],c=:blue, label="Approach 1: Σ₁")
xlabel!("Annualized $(test_ticker_array[1]) growth μ (1/y)")
ylabel!("Annualized $(test_ticker_array[2]) growth μ (1/y)")









