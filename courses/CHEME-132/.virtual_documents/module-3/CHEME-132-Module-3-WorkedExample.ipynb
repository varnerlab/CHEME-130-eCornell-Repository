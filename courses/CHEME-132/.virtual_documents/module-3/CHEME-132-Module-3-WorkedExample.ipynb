





include("Include.jl");





original_dataset = MyMarketDataSet() |> x-> x["dataset"];





maximum_number_trading_days = original_dataset["AAPL"] |> nrow;





dataset = Dict{String,DataFrame}();
for (ticker,data) ∈ original_dataset
    if (nrow(data) == maximum_number_trading_days)
        dataset[ticker] = data;
    end
end
dataset;





list_of_all_firms = keys(dataset) |> collect |> sort;





Δt = (1.0/252.0);
T = 48;
all_range = range(1,stop=maximum_number_trading_days,step=1) |> collect;





log_growth_array = log_return_matrix(dataset, list_of_all_firms);





parameters_df = CSV.read(joinpath(_PATH_TO_DATA, "Parameters-SP500-2018-2023.csv"), DataFrame);





ρ = cor(log_growth_array);





Σ₁ = Array{Float64,2}(undef, length(list_of_all_firms), length(list_of_all_firms));
for i ∈ eachindex(list_of_all_firms)

    row_ticker = list_of_all_firms[i];
    σᵢ = parameters_df[i,:volatility];
    
    for j ∈ eachindex(list_of_all_firms)

        col_tikcer = list_of_all_firms[j];
        σⱼ = parameters_df[j,:volatility];
        Σ₁[i,j] = σᵢ*σⱼ*ρ[i,j];
    end
end





random_test_ticker_set = Set{String}()
number_of_random_firms = 20;
while (length(random_test_ticker_set) != number_of_random_firms)
    test_ticker = rand(list_of_all_firms)
    push!(random_test_ticker_set,test_ticker)
end





for ticker ∈ random_test_ticker_set
    i = findfirst(x-> x==ticker,list_of_all_firms)
    σᵢ = parameters_df[i,:volatility];
    σ̂ᵢ = sqrt(Σ₁[i,i]);
    @assert isapprox(σᵢ,σ̂ᵢ,rtol=1e-4)
end





Σ₂ = cov(log_growth_array) |> x-> *(x,1/252);








test_ticker_array = ["AMD", "NVDA"];





μ_test_array = Array{Float64,1}(undef,2);
for i ∈ eachindex(test_ticker_array)
    j = findfirst(x->x == test_ticker_array[i],list_of_all_firms);
    μ_test_array[i] = mean(log_growth_array[:,j]);
end
μ_test_array;


# --- DO NOT CHANGE THIS BLOCK ----------------------------------------- #
my_number_of_selected_firms = length(test_ticker_array)
Σ₁_test_array = Array{Float64,2}(undef, my_number_of_selected_firms, my_number_of_selected_firms);
Σ₂_test_array = Array{Float64,2}(undef, my_number_of_selected_firms, my_number_of_selected_firms);
for i ∈ eachindex(test_ticker_array)
    row_firm_index = findfirst(x->x == test_ticker_array[i],list_of_all_firms);
    for j ∈ eachindex(test_ticker_array)
        col_firm_index = findfirst(x->x == test_ticker_array[j],list_of_all_firms);
        Σ₁_test_array[i,j] = Σ₁[row_firm_index, col_firm_index]
        Σ₂_test_array[i,j] = Σ₂[row_firm_index, col_firm_index]
    end
end
# ---------------------------------------------------------------------- #


m₁ = MvNormal(μ_test_array,Σ₁_test_array);
m₂ = MvNormal(μ_test_array,Σ₂_test_array);


X₁ = rand(m₁,5000)
X₂ = rand(m₂,5000)
scatter(X₂[1,:],X₂[2,:],c=:red, alpha=0.5, label="Approach 2: Σ₂")
scatter!(X₁[1,:],X₁[2,:],c=:blue, label="Approach 1: Σ₁")
xlabel!("Annualized $(test_ticker_array[1]) growth μ (1/y)")
ylabel!("Annualized $(test_ticker_array[2]) growth μ (1/y)")








my_list_of_tickers = ["AMD","INTC","MU","PFE","MRK"];
my_list_of_firm_ids = Array{Int64,1}();
for ticker ∈ my_list_of_tickers
    firm_index = findfirst(x->x==ticker, list_of_all_firms);    
    push!(my_list_of_firm_ids, firm_index)
end





# --- DO NOT CHANGE THIS BLOCK ----------------------------------------- #
μ̂ = Array{Float64,1}();
for firm_index ∈ my_list_of_firm_ids
    push!(μ̂, parameters_df[firm_index,:drift])
end
# ---------------------------------------------------------------------- #





# --- DO NOT CHANGE THIS BLOCK FOR SIM  -------------------------------- #
my_number_of_selected_firms = length(my_list_of_firm_ids)
Σ̂ = Array{Float64,2}(undef, my_number_of_selected_firms, my_number_of_selected_firms);
for i ∈ eachindex(my_list_of_firm_ids)
    row_firm_index = my_list_of_firm_ids[i]
    for j ∈ eachindex(my_list_of_firm_ids)
        col_firm_index = my_list_of_firm_ids[j]
        Σ̂[i,j] = Σ₂[row_firm_index, col_firm_index]; # You choose either Σ₁ or Σ₂
    end
end
# ---------------------------------------------------------------------- #





factors = cholesky(Σ̂);
A = factors.L |> x-> Matrix(x)
Â = diagm(0 => diag(A))





startdate = Date(2023,01,03);
Δt = (1/252);
number_of_days = 250;
T = number_of_days*Δt;
number_of_steps = number_of_days + 1
number_of_trials = 500;
number_of_states = length(my_list_of_tickers);


Sₒ = Array{Float64,1}()
for ticker ∈ my_list_of_tickers
    price_df = dataset[ticker];
    startprice = filter(:timestamp => x-> x >= startdate, price_df) |> x-> x[1,:volume_weighted_average_price]
    push!(Sₒ,startprice)
end


time_array = range(0, stop = T, length = number_of_steps) |> collect;


simulation_dictionary = Dict{Int64,Array{Float64,2}}();
Z = Normal(0,1);
for trial_index ∈ 1:number_of_trials
    simulation_array = Array{Float64,2}(undef, number_of_steps, number_of_states + 1);
    
    # add initial condition to the array -
    simulation_array[1,1] = 0.0;
    for i ∈ 1:number_of_states
        simulation_array[1,i+1] = Sₒ[i];
    end
    
    # forward simulation -
    for i ∈ 2:number_of_steps
        t = time_array[i];
        simulation_array[i,1] = t;

        for j ∈ 1:number_of_states
            
            # compute the noise term for this state -
            noise_term = 0.0;
            for k ∈ 1:number_of_states
                noise_term += A[j,k]*rand(Z)
            end
            
            simulation_array[i,j+1] = simulation_array[i-1,j+1]*exp((μ̂[j] - Σ̂[j,j]/2)*Δt + (sqrt(Δt))*noise_term);
        end
    end
    simulation_dictionary[trial_index] = simulation_array;
end
simulation_dictionary[1]





total_budget = 1000.0;





ω = (1/number_of_states)*ones(number_of_states) |> x -> Dirichlet(x) |> d->rand(d);





# Check: non-negativity constraint
for ωᵢ ∈ ω
    @assert ωᵢ ≥ 0.0
end


# Check: summation constraint
@assert sum(ω) ≈ 1.0 rtol = 1e-4 





Nₒ = Array{Float64,1}()
for i ∈ eachindex(ω)
    
    ωᵢ = ω[i]
    nᵢ = (ωᵢ*total_budget)/Sₒ[i];
    push!(Nₒ,nᵢ)
end
Nₒ;





simulated_wealth_array = Array{Float64,2}(undef, number_of_days, number_of_trials);
for i ∈ 1:number_of_trials
    
    simulation_array = simulation_dictionary[i]
    
    portfolio_performance_array = Array{Float64,2}(undef, number_of_days, length(ω)+1)
    for j ∈ eachindex(my_list_of_tickers)
    
        ticker = my_list_of_tickers[j];
        price_data = simulation_array[:,j+1];
        nⱼ = Nₒ[j]
    
        for k ∈ 1:number_of_days
            portfolio_performance_array[k,j] = nⱼ*price_data[k];
        end
    end

    # total -
    for j ∈ 1:number_of_days
        portfolio_performance_array[j,end] = sum(portfolio_performance_array[j,1:end-1])
    end
    
    # wealth -
    for j ∈ 1:number_of_days
        simulated_wealth_array[j,i] = portfolio_performance_array[j,end];
    end
end
simulated_wealth_array;





# actual -
actual_portfolio_performance_array = Array{Float64,2}(undef, number_of_days, length(ω)+1)
for i ∈ eachindex(my_list_of_tickers)
    
    ticker = my_list_of_tickers[i];
    price_df = dataset[ticker];
    ticker_data = filter(:timestamp => x-> x >= startdate, price_df)
    nᵢ = Nₒ[i]
    
    for j ∈ 1:number_of_days
        actual_portfolio_performance_array[j,i] = nᵢ*ticker_data[j,:volume_weighted_average_price];
    end
end

# total -
for i ∈ 1:number_of_days
    actual_portfolio_performance_array[i,end] = sum(actual_portfolio_performance_array[i,1:end-1])
end





p = plot();

# plot the trajectories -
for i ∈ 1:number_of_trials
    plot!((1/total_budget)*simulated_wealth_array[:,i],c=:gray82,lw=1, label="")
end

# compute the expected wealth array, and bounds 0
expected_wealth_array = mean(simulated_wealth_array,dims=2)
L68 = (1/total_budget)*(expected_wealth_array .- std(simulated_wealth_array,dims=2))
U68 = (1/total_budget)*(expected_wealth_array .+ std(simulated_wealth_array,dims=2))
plot!((1/total_budget)*expected_wealth_array,fillrange=L68, c=:red, alpha=0.35,label="")
plot!((1/total_budget)*expected_wealth_array,fillrange=U68, c=:green, alpha=0.35, label="")

L95 = (1/total_budget)*(expected_wealth_array .- 1.96*std(simulated_wealth_array,dims=2))
U95 = (1/total_budget)*(expected_wealth_array .+ 1.96*std(simulated_wealth_array,dims=2))
plot!((1/total_budget)*expected_wealth_array,fillrange=L95, c=:red, alpha=0.15,label="")
plot!((1/total_budget)*expected_wealth_array,fillrange=U95, c=:green, alpha=0.15, label="")
plot!((1/expected_wealth_array[1]).*expected_wealth_array, ls=:dash, c=:red, lw=3, label="Portfolio (expected)")
plot!((1/actual_portfolio_performance_array[1,end]).*actual_portfolio_performance_array[:,end], lw=3, 
    c=:red, label="Portfolio (actual)")
xlabel!("Trading Day Index (2023)", fontsize=18)
ylabel!("Scaled Wealth (USD)", fontsize=18)
current()



