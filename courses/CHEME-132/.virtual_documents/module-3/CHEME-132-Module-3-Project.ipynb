





include("Include.jl");





original_dataset = MyMarketDataSet() |> x-> x["dataset"];





maximum_number_trading_days = original_dataset["AAPL"] |> nrow;





dataset = Dict{String,DataFrame}();
for (ticker,data) ∈ original_dataset
    if (nrow(data) == maximum_number_trading_days)
        dataset[ticker] = data;
    end
end
dataset;





list_of_all_firms = keys(dataset) |> collect |> sort;





Δt = (1.0/252.0);
T = 48;
all_range = range(1,stop=maximum_number_trading_days,step=1) |> collect;





log_growth_array = log_return_matrix(dataset, list_of_all_firms);





parameters_df = CSV.read(joinpath(_PATH_TO_DATA, "Parameters-SP500-2018-2023.csv"), DataFrame);





ρ = cor(log_growth_array);





Σ₁ = Array{Float64,2}(undef, length(list_of_all_firms), length(list_of_all_firms));
for i ∈ eachindex(list_of_all_firms)

    row_ticker = list_of_all_firms[i];
    σᵢ = parameters_df[i,:volatility];
    
    for j ∈ eachindex(list_of_all_firms)

        col_tikcer = list_of_all_firms[j];
        σⱼ = parameters_df[j,:volatility];
        Σ₁[i,j] = σᵢ*σⱼ*ρ[i,j];
    end
end





my_list_of_tickers = ["AMD","INTC","MU","PFE","MRK"];
my_list_of_firm_ids = Array{Int64,1}();
for ticker ∈ my_list_of_tickers
    firm_index = findfirst(x->x==ticker, list_of_all_firms);    
    push!(my_list_of_firm_ids, firm_index)
end





μ̂ = Array{Float64,1}();
for firm_index ∈ my_list_of_firm_ids
    push!(μ̂, parameters_df[firm_index,:drift])
end





my_number_of_selected_firms = length(my_list_of_firm_ids)
Σ̂ = Array{Float64,2}(undef, my_number_of_selected_firms, my_number_of_selected_firms);
for i ∈ eachindex(my_list_of_firm_ids)
    row_firm_index = my_list_of_firm_ids[i]
    for j ∈ eachindex(my_list_of_firm_ids)
        col_firm_index = my_list_of_firm_ids[j]
        Σ̂[i,j] = Σ₁[row_firm_index, col_firm_index]; # You choose either Σ₁ or Σ₂
    end
end





factors = cholesky(Σ̂);
A = factors.L |> x-> Matrix(x)
# Ā = diagm(0 => diag(A))





startdate = Date(2023,01,03); # must be in the date range of the data, i.e., 03-Jan 2018 to 29-Dec, 2023
T = 250; # how many days will we simulate?
number_of_trials = 500; # number of sample paths we calculate

start_index = 1; # we are starting at the beginning of the year
stop_index = start_index + T

# ---- DO NOT CHANGE BELOW HERE ---------------------------- #
number_of_states = length(my_list_of_tickers);
# ---- DO NOT CHANGE ABOVE HERE ---------------------------- #





Sₒ = Array{Float64,1}()
for ticker ∈ my_list_of_tickers
    price_df = dataset[ticker];
    startprice = filter(:timestamp => x-> x >= startdate, price_df) |> x-> x[1,:volume_weighted_average_price]
    push!(Sₒ,startprice)
end





model = build(MyMultipleAssetGeometricBrownianMotionEquityModel, (
        μ = μ̂, A = A
));





T₁ = start_index*Δt
T₂ = stop_index*Δt
simulation_dictionary = VLQuantitativeFinancePackage.sample(model, (Sₒ = Sₒ, T₁ = T₁, T₂ = T₂, Δt = Δt), 
    number_of_paths = number_of_trials);









