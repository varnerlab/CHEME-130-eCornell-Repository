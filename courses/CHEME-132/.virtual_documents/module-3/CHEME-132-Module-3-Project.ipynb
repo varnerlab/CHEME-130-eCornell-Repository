





include("Include.jl");





original_dataset = MyMarketDataSet() |> x-> x["dataset"];





maximum_number_trading_days = original_dataset["AAPL"] |> nrow;





dataset = Dict{String,DataFrame}();
for (ticker,data) ∈ original_dataset
    if (nrow(data) == maximum_number_trading_days)
        dataset[ticker] = data;
    end
end
dataset;





list_of_all_firms = keys(dataset) |> collect |> sort;





Δt = (1.0/252.0);
T = 48;
all_range = range(1,stop=maximum_number_trading_days,step=1) |> collect;





log_growth_array = log_return_matrix(dataset, list_of_all_firms);





parameters_df = CSV.read(joinpath(_PATH_TO_DATA, "Parameters-SP500-2018-2023.csv"), DataFrame);





ρ = cor(log_growth_array);





Σ₁ = Array{Float64,2}(undef, length(list_of_all_firms), length(list_of_all_firms));
for i ∈ eachindex(list_of_all_firms)

    row_ticker = list_of_all_firms[i];
    σᵢ = parameters_df[i,:volatility];
    
    for j ∈ eachindex(list_of_all_firms)

        col_tikcer = list_of_all_firms[j];
        σⱼ = parameters_df[j,:volatility];
        Σ₁[i,j] = σᵢ*σⱼ*ρ[i,j];
    end
end





my_list_of_tickers = ["AMD","INTC","MU","PFE","MRK"];
my_list_of_firm_ids = Array{Int64,1}();
for ticker ∈ my_list_of_tickers
    firm_index = findfirst(x->x==ticker, list_of_all_firms);    
    push!(my_list_of_firm_ids, firm_index)
end





μ̂ = Array{Float64,1}();
for firm_index ∈ my_list_of_firm_ids
    push!(μ̂, parameters_df[firm_index,:drift])
end





my_number_of_selected_firms = length(my_list_of_firm_ids)
Σ̂ = Array{Float64,2}(undef, my_number_of_selected_firms, my_number_of_selected_firms);
for i ∈ eachindex(my_list_of_firm_ids)
    row_firm_index = my_list_of_firm_ids[i]
    for j ∈ eachindex(my_list_of_firm_ids)
        col_firm_index = my_list_of_firm_ids[j]
        Σ̂[i,j] = Σ₁[row_firm_index, col_firm_index]; # You choose either Σ₁ or Σ₂
    end
end





factors = cholesky(Σ̂);
A = factors.L |> x-> Matrix(x)
# Ā = diagm(0 => diag(A))





startdate = Date(2023,01,03); # must be in the date range of the data, i.e., 03-Jan 2018 to 29-Dec, 2023
T = 250; # how many days will we simulate?
number_of_trials = 500; # number of sample paths we calculate

start_index = 1; # we are starting at the beginning of the year
stop_index = start_index + T

# ---- DO NOT CHANGE BELOW HERE ---------------------------- #
number_of_states = length(my_list_of_tickers);
# ---- DO NOT CHANGE ABOVE HERE ---------------------------- #





Sₒ = Array{Float64,1}()
for ticker ∈ my_list_of_tickers
    price_df = dataset[ticker];
    startprice = filter(:timestamp => x-> x >= startdate, price_df) |> x-> x[1,:volume_weighted_average_price]
    push!(Sₒ,startprice)
end





model = build(MyMultipleAssetGeometricBrownianMotionEquityModel, (
        μ = μ̂, A = A
));





T₁ = start_index*Δt
T₂ = stop_index*Δt
simulation_dictionary = VLQuantitativeFinancePackage.sample(model, (Sₒ = Sₒ, T₁ = T₁, T₂ = T₂, Δt = Δt), 
    number_of_paths = number_of_trials);








total_budget = 1000.0;


archive = allocation(simulation_dictionary, number_of_iterations=1000, 
    number_of_days = T, 
    total_budget = total_budget)


best_allocation = archive[argmax(archive[:,:objective]),:ω];
W = wealth(simulation_dictionary,best_allocation, number_of_days = T)


Nₒ = Array{Float64,1}()
for i ∈ eachindex(best_allocation)
    
    ωᵢ = best_allocation[i]
    nᵢ = (ωᵢ*total_budget)/Sₒ[i];
    push!(Nₒ,nᵢ)
end
Nₒ


# actual -
number_of_days = T;
actual_portfolio_performance_array = Array{Float64,2}(undef, number_of_days, length(best_allocation)+1)
for i ∈ eachindex(my_list_of_tickers)
    
    ticker = my_list_of_tickers[i];
    price_df = dataset[ticker];
    ticker_data = filter(:timestamp => x-> x >= startdate, price_df)
    nᵢ = Nₒ[i]
    
    for j ∈ 1:number_of_days
        actual_portfolio_performance_array[j,i] = nᵢ*ticker_data[j,:volume_weighted_average_price];
    end
end

# total -
for i ∈ 1:number_of_days
    actual_portfolio_performance_array[i,end] = sum(actual_portfolio_performance_array[i,1:end-1])
end


p = plot();
# plot the trajectories -
for i ∈ 1:number_of_trials
    plot!((1/total_budget)*W[:,i],c=:gray82,lw=1, label="")
end

# compute the expected wealth array, and bounds 0
expected_wealth_array = mean(W,dims=2)
L68 = (1/total_budget)*(expected_wealth_array .- std(W,dims=2))
U68 = (1/total_budget)*(expected_wealth_array .+ std(W,dims=2))
plot!((1/total_budget)*expected_wealth_array,fillrange=L68, c=:red, alpha=0.35,label="")
plot!((1/total_budget)*expected_wealth_array,fillrange=U68, c=:green, alpha=0.35, label="")

L95 = (1/total_budget)*(expected_wealth_array .- 1.96*std(W,dims=2))
U95 = (1/total_budget)*(expected_wealth_array .+ 1.96*std(W,dims=2))
plot!((1/total_budget)*expected_wealth_array,fillrange=L95, c=:red, alpha=0.15,label="")
plot!((1/total_budget)*expected_wealth_array,fillrange=U95, c=:green, alpha=0.15, label="")
plot!((1/expected_wealth_array[1]).*expected_wealth_array, ls=:dash, c=:red, lw=3, label="Portfolio (expected)")
plot!((1/actual_portfolio_performance_array[1,end]).*actual_portfolio_performance_array[:,end], lw=3, 
    c=:red, label="Portfolio (actual)")
xlabel!("Trading Day Index (2023)", fontsize=18)
ylabel!("Scaled Wealth (USD)", fontsize=18)
current()



