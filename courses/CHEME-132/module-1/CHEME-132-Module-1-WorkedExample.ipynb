{
 "cells": [
  {
   "cell_type": "markdown",
   "id": "57dd9915-cbd9-4908-aa0a-1d2cee1b44b0",
   "metadata": {
    "tags": []
   },
   "source": [
    "# Example: Binomial Lattice Simulation of Equity Share Price\n",
    "A binomial lattice model assumes that at each discrete time increment, the state of the system, e.g., the share price of equity, the short rate, etc., can either increase by a factor $u$ with probability $p$ or decrease by a factor $d$ with probability $(1-p)$ in the next time interval. Thus, each discrete time interval can be modeled as a [Bernoulli random variable](https://en.wikipedia.org/wiki/Bernoulli_distribution):\n",
    "\n",
    "<div>\n",
    "    <center>\n",
    "        <img src=\"figs/Fig-Binomial-Lattice-Schematic.svg\" width=\"280\"/>\n",
    "    </center>\n",
    "</div>\n",
    "\n",
    "while each level (time slice) of the tree is described by a [Binomial distribution](https://en.wikipedia.org/wiki/Binomial_distribution). Different models have been developed to compute the tuple $(u,d,p)$. However, for now, let's analyze historical data and learn typical values governing the price movement for each firm in our historical dataset.  \n",
    "\n",
    "## Learning objectives\n",
    "The objective of this example is to familiarize students with applying simple probability mass functions to predict future uncertain quantities such as commodity prices, equity share prices, interest rates, etc.\n",
    "\n",
    "* __Prerequisites__: we'll begin by loading the historical dataset. The data we'll explore is daily open-high-low-close values for firms in the [S&P500 index](https://en.wikipedia.org/wiki/S%26P_500) since `01-03-2018` until `12-29-2023`.\n",
    "* __Objective 1__: Test the lattice model implementation using an example from `Hull`\n",
    "    * `Check`: Do we reproduce the `Hull` tree values?\n",
    "* __Objective 2__: Objective 2: Estimate the `up,` `down,` and probability of an up move `p` for a random firm, and simulate the share future price\n",
    "  * `TODO`: Estimate the `u`, `d`, and probability `p` parameters from the historical data\n",
    "  * `TODO`: Build binomial lattice model using historical $(u,d,p)$ parameters, simulate future share price\n",
    "      * `Check`: Visualize price distribution at tree level `L`\n",
    "  * `TODO`: Visualize the binomial lattice simulation\n",
    "  * `Check`: Was this a successful simulation?"
   ]
  },
  {
   "cell_type": "markdown",
   "id": "7abe30da-5563-492e-82ea-892c472683eb",
   "metadata": {
    "jp-MarkdownHeadingCollapsed": true,
    "tags": []
   },
   "source": [
    "## Setup\n",
    "We set up the computational environment by including the `Include.jl` file. The `Include.jl` file loads external packages, various functions that we will use in the exercise, and custom types to model the components of our example problem."
   ]
  },
  {
   "cell_type": "markdown",
   "id": "b9e4accf-76dd-4e18-8073-a7e23fb79110",
   "metadata": {},
   "source": [
    "### Packages\n",
    "The `Include.jl` file loads several packages that we use'll for our exercises:\n",
    "* [Dates.jl](https://docs.julialang.org/en/v1/stdlib/Dates/#Dates)  is a package included with the standard library which provides basic functionality for working dates.\n",
    "* [DataFrames.jl](https://dataframes.juliadata.org/stable/) and [CSV.jl](https://github.com/JuliaData/CSV.jl) provide a set of tools for working with tabular data in [Julia](https://julialang.org). Its design and functionality are similar to those of [Pandas (in Python)](https://pandas.pydata.org) and [data.frame, data.table and dplyr (in R)](https://dplyr.tidyverse.org), making it an excellent general-purpose data science tool.\n",
    "* [Distributions.jl](https://github.com/JuliaStats/Distributions.jl) is a [Julia](https://julialang.org) package for probability distributions and associated functions.\n",
    "* [PrettyTables.jl](https://ronisbr.github.io/PrettyTables.jl/stable/man/html_backend/) is a [Julia](https://julialang.org) package that implements functions to construct and display text-based tables\n",
    "* [Plots.jl](https://docs.juliaplots.org/stable/) is a plotting library, and [Colors.jl](https://github.com/JuliaGraphics/Colors.jl) is a color library that we'll use for data visualization in [Julia](https://julialang.org).\n",
    "* [LinearAlgebra.jl](https://github.com/JuliaLang/LinearAlgebra.jl) is a package that provides functionality for working with linear algebra in [Julia](https://julialang.org).\n",
    "* [Statistics.jl](https://docs.julialang.org/en/v1/stdlib/Statistics/#Statistics) is a package included with the standard library module, which contains basic statistics functionality."
   ]
  },
  {
   "cell_type": "markdown",
   "id": "32526e19-a240-4af9-b153-f6156e588ec6",
   "metadata": {
    "tags": []
   },
   "source": [
    "### Types\n",
    "`Include.jl` loads some [problem-specific types](https://docs.julialang.org/en/v1/manual/types/#Composite-Types) that will be helpful for the lattice model simulation of equity share prices:\n",
    "\n",
    "The `MyBinomialEquityPriceTree` encodes the lattice model and has the fields:\n",
    "    \n",
    "* The `connectivity::Union{Nothing, Dict{Int64, Array{Int64,1}}}` field holds the indexes of the children for each parent node of the tree.\n",
    "* The `levels::Union{Nothing, Dict{Int64,Array{Int64,1}}}` field holds indexes of nodes that belong to each level of the tree, i.e., a trading day.\n",
    "* The `u::Float64` field holds the value of the `up` factor\n",
    "* The `d::Float64` field holds the value of the `down` factor\n",
    "* The `p::Float64` field holds the value of the probability of an `up` move.\n",
    "* The `data::Union{Nothing, Dict{Int64, MyBiomialLatticeEquityNodeModel}}` holds each node in the tree; nodes are of type `MyBiomialLatticeEquityNodeModel`\n",
    "\n",
    "Each node in the tree is a `MyBiomialLatticeEquityNodeModel` type which has two important fields:\n",
    "* The `price::Float64` field holds the price value for a node\n",
    "* The `probability::Float64` field holds the probability value associated with this node"
   ]
  },
  {
   "cell_type": "markdown",
   "id": "74168f29-f21d-46c3-b54c-559e59766f04",
   "metadata": {},
   "source": [
    "### Functions\n",
    "`Include.jl` loads the following [Julia functions](https://docs.julialang.org/en/v1/manual/functions/):\n",
    "\n",
    "`MyPortfolioDataSet() |> x-> x[\"dataset\"] -> DataFrame` \n",
    " > This function loads historical share price data. The historical share price data is returned to the caller as a Dictionary of [DataFrames](https://dataframes.juliadata.org/stable/) with the fields: `volume`,`volume_weighted_average_price`,`open`,`close`,`high`, and `low,number_of_transactions`. The `keys` of the Dictionary are `firm_id` values.\n",
    " \n",
    "`function analyze(R::Array{Float64,1};  Δt::Float64 = (1.0/252.0)) -> Tuple{Float64,Float64,Float64}`\n",
    "> The `analyze(...)` function takes an array of logarithmic return values in the `R` argument and a value of the time-step size of the simulation in the $\\Delta{t}$ parameter (default value of 1-day) and returns estimated values for the lattice model parameters $(u,d,p)$.  \n",
    "`function build(model::Type{MyBinomialEquityPriceTree}, data::NamedTuple) -> MyBinomialEquityPriceTree` \n",
    "> This function takes information in the `data` [NamedTuple](https://docs.julialang.org/en/v1/base/base/#Core.NamedTuple) argument (the $(u,d,p)$ values) and returns an instance of the `MyBinomialEquityPriceTree` [mutable type](https://docs.julialang.org/en/v1/manual/types/#Mutable-Composite-Types). Note: the `MyBinomialEquityPriceTree` returned from the `build(...)` function does not have price or probability information computed yet. Call the `populate(…)` function to populate this data.\n",
    "\n",
    "`function populate(model::MyBinomialEquityPriceTree, Sₒ::Float64, h::Int) -> MyBinomialEquityPriceTree`\n",
    "> The `populate(...)` function takes the `model::MyBinomialEquityPriceTree` instance returned from `build(...)`, a starting share price $S_{o}$ and the height of the tree, i.e., the number of time steps to simulate, and returns an updated `model::MyBinomialEquityPriceTree` instance with the price and probabilities computed for each node in the tree."
   ]
  },
  {
   "cell_type": "code",
   "execution_count": 1,
   "id": "44c62894-3bb8-4fe1-b020-d17d2ca28d74",
   "metadata": {
    "tags": []
   },
   "outputs": [
    {
     "name": "stderr",
     "output_type": "stream",
     "text": [
      "\u001b[32m\u001b[1m    Updating\u001b[22m\u001b[39m git-repo `https://github.com/varnerlab/VLQuantitativeFinancePackage.jl.git`\n",
      "\u001b[32m\u001b[1m   Resolving\u001b[22m\u001b[39m package versions...\n",
      "\u001b[32m\u001b[1m  No Changes\u001b[22m\u001b[39m to `~/Desktop/julia_work/CHEME-130-eCornell-Repository/courses/CHEME-132/module-1/Project.toml`\n",
      "\u001b[32m\u001b[1m  No Changes\u001b[22m\u001b[39m to `~/Desktop/julia_work/CHEME-130-eCornell-Repository/courses/CHEME-132/module-1/Manifest.toml`\n",
      "\u001b[32m\u001b[1m  Activating\u001b[22m\u001b[39m project at `~/Desktop/julia_work/CHEME-130-eCornell-Repository/courses/CHEME-132/module-1`\n",
      "\u001b[32m\u001b[1m  No Changes\u001b[22m\u001b[39m to `~/Desktop/julia_work/CHEME-130-eCornell-Repository/courses/CHEME-132/module-1/Project.toml`\n",
      "\u001b[32m\u001b[1m  No Changes\u001b[22m\u001b[39m to `~/Desktop/julia_work/CHEME-130-eCornell-Repository/courses/CHEME-132/module-1/Manifest.toml`\n",
      "\u001b[32m\u001b[1m    Updating\u001b[22m\u001b[39m registry at `~/.julia/registries/General.toml`\n",
      "\u001b[32m\u001b[1m    Updating\u001b[22m\u001b[39m git-repo `https://github.com/varnerlab/VLQuantitativeFinancePackage.jl.git`\n",
      "\u001b[32m\u001b[1m  No Changes\u001b[22m\u001b[39m to `~/Desktop/julia_work/CHEME-130-eCornell-Repository/courses/CHEME-132/module-1/Project.toml`\n",
      "\u001b[32m\u001b[1m  No Changes\u001b[22m\u001b[39m to `~/Desktop/julia_work/CHEME-130-eCornell-Repository/courses/CHEME-132/module-1/Manifest.toml`\n"
     ]
    }
   ],
   "source": [
    "include(\"Include.jl\");"
   ]
  },
  {
   "cell_type": "markdown",
   "id": "fe6a983c-1e58-42cb-b439-268ceb267915",
   "metadata": {},
   "source": [
    "### Constants"
   ]
  },
  {
   "cell_type": "code",
   "execution_count": 2,
   "id": "c8bce8c0-1b17-49f9-bcb4-631e6789f180",
   "metadata": {},
   "outputs": [],
   "source": [
    "TSIM = 21; # number of trading days to simulate\n",
    "Δt = (1.0/252); # step size: 1-trading day in units of years"
   ]
  },
  {
   "cell_type": "markdown",
   "id": "2e6a8c9e-1c40-400d-89ed-93883ed203da",
   "metadata": {
    "jp-MarkdownHeadingCollapsed": true
   },
   "source": [
    "## Prerequisites: Load and clean the historical dataset\n",
    "We gathered a daily open-high-low-close `dataset` for each firm in the [S&P500](https://en.wikipedia.org/wiki/S%26P_500) from `01-03-2018` until `12-29-2023`, along with data for a few exchange-traded funds and volatility products during that time. We load the `orignal_dataset` by calling the `MyMarketDataSet()` function:"
   ]
  },
  {
   "cell_type": "code",
   "execution_count": 3,
   "id": "b7d321f3-e055-4fa2-8ab6-e27c90665c29",
   "metadata": {},
   "outputs": [],
   "source": [
    "original_dataset = MyMarketDataSet() |> x-> x[\"dataset\"];"
   ]
  },
  {
   "cell_type": "markdown",
   "id": "f2d17189-480f-4682-bbaa-5c36586ee352",
   "metadata": {},
   "source": [
    "### Clean the data\n",
    "Not all tickers in our dataset have the maximum number of trading days for various reasons, e.g., acquisition or de-listing events. Let's collect only those tickers with the maximum number of trading days.\n",
    "\n",
    "* First, let's compute the number of records for a company that we know has a maximum value, e.g., `AAPL`, and save that value in the `maximum_number_trading_days` variable:"
   ]
  },
  {
   "cell_type": "code",
   "execution_count": 4,
   "id": "8d2a2a1a-bfac-43aa-8dfc-6d7e51da773e",
   "metadata": {},
   "outputs": [],
   "source": [
    "maximum_number_trading_days = original_dataset[\"AAPL\"] |> nrow;"
   ]
  },
  {
   "cell_type": "markdown",
   "id": "16c860ea-7797-46ab-8129-09c598d06e45",
   "metadata": {},
   "source": [
    "Now, let's iterate through our data and collect only tickers with `maximum_number_trading_days` records. Save that data in the `dataset::Dict{String,DataFrame}` variable:"
   ]
  },
  {
   "cell_type": "code",
   "execution_count": 5,
   "id": "a72b6a2e-c3d6-4173-94a9-335459b74c08",
   "metadata": {},
   "outputs": [
    {
     "data": {
      "text/plain": [
       "Dict{String, DataFrame} with 460 entries:\n",
       "  \"NI\"   => \u001b[1m1508×8 DataFrame\u001b[0m\u001b[0m…\n",
       "  \"EMR\"  => \u001b[1m1508×8 DataFrame\u001b[0m\u001b[0m…\n",
       "  \"CTAS\" => \u001b[1m1508×8 DataFrame\u001b[0m\u001b[0m…\n",
       "  \"HSIC\" => \u001b[1m1508×8 DataFrame\u001b[0m\u001b[0m…\n",
       "  \"KIM\"  => \u001b[1m1508×8 DataFrame\u001b[0m\u001b[0m…\n",
       "  \"PLD\"  => \u001b[1m1508×8 DataFrame\u001b[0m\u001b[0m…\n",
       "  \"IEX\"  => \u001b[1m1508×8 DataFrame\u001b[0m\u001b[0m…\n",
       "  \"BAC\"  => \u001b[1m1508×8 DataFrame\u001b[0m\u001b[0m…\n",
       "  \"CBOE\" => \u001b[1m1508×8 DataFrame\u001b[0m\u001b[0m…\n",
       "  \"EXR\"  => \u001b[1m1508×8 DataFrame\u001b[0m\u001b[0m…\n",
       "  \"NCLH\" => \u001b[1m1508×8 DataFrame\u001b[0m\u001b[0m…\n",
       "  \"CVS\"  => \u001b[1m1508×8 DataFrame\u001b[0m\u001b[0m…\n",
       "  \"DRI\"  => \u001b[1m1508×8 DataFrame\u001b[0m\u001b[0m…\n",
       "  \"DTE\"  => \u001b[1m1508×8 DataFrame\u001b[0m\u001b[0m…\n",
       "  \"ZION\" => \u001b[1m1508×8 DataFrame\u001b[0m\u001b[0m…\n",
       "  \"AVY\"  => \u001b[1m1508×8 DataFrame\u001b[0m\u001b[0m…\n",
       "  \"EW\"   => \u001b[1m1508×8 DataFrame\u001b[0m\u001b[0m…\n",
       "  \"EA\"   => \u001b[1m1508×8 DataFrame\u001b[0m\u001b[0m…\n",
       "  \"NWSA\" => \u001b[1m1508×8 DataFrame\u001b[0m\u001b[0m…\n",
       "  \"CAG\"  => \u001b[1m1508×8 DataFrame\u001b[0m\u001b[0m…\n",
       "  \"GPC\"  => \u001b[1m1508×8 DataFrame\u001b[0m\u001b[0m…\n",
       "  \"FCX\"  => \u001b[1m1508×8 DataFrame\u001b[0m\u001b[0m…\n",
       "  \"GILD\" => \u001b[1m1508×8 DataFrame\u001b[0m\u001b[0m…\n",
       "  \"UNP\"  => \u001b[1m1508×8 DataFrame\u001b[0m\u001b[0m…\n",
       "  \"CDW\"  => \u001b[1m1508×8 DataFrame\u001b[0m\u001b[0m…\n",
       "  ⋮      => ⋮"
      ]
     },
     "execution_count": 5,
     "metadata": {},
     "output_type": "execute_result"
    }
   ],
   "source": [
    "dataset = Dict{String,DataFrame}();\n",
    "for (ticker,data) ∈ original_dataset\n",
    "    if (nrow(data) == maximum_number_trading_days)\n",
    "        dataset[ticker] = data;\n",
    "    end\n",
    "end\n",
    "dataset"
   ]
  },
  {
   "cell_type": "markdown",
   "id": "16a2c043-d4dc-4dd6-bf16-8440a990095e",
   "metadata": {},
   "source": [
    "Lastly, let's get a list of firms that we have in cleaned up `dataset`, and save it ib the `all_tickers` array"
   ]
  },
  {
   "cell_type": "code",
   "execution_count": 6,
   "id": "457ca5df-3cb5-4b62-a633-c13a76140c8f",
   "metadata": {},
   "outputs": [],
   "source": [
    "list_of_all_tickers = keys(dataset) |> collect |> sort;"
   ]
  },
  {
   "cell_type": "markdown",
   "id": "96603a5d-2b7f-4b92-83a7-641e22486c3c",
   "metadata": {},
   "source": [
    "## Objective 1: Test the lattice model using an example from `Hull`\n",
    "Let’s start by calculating the hypothetical share price from an example (reproduced from Chapter 13 of Hull) before diving into historical data analysis. The lattice in this example has three levels (`L=0,1,2`), with an initial share price of $S_{\\circ}=20.0$ USD. An `up` move has a probability of `p = 0.6523` and a magnitude of `u = 1.1`, while a `down` move has a magnitude of `d = 0.9`.\n",
    "\n",
    "* Calculating the future share price with a binomial lattice requires setting the model’s parameters, including the initial share price (as a `Float64`), the number of time steps to simulate into the future, which equals the number levels of the tree starting from zero (as an `Int64`), the up and down move magnitudes (as `Float64` values), and the probability of an up move (as a `Float64`):"
   ]
  },
  {
   "cell_type": "code",
   "execution_count": 7,
   "id": "9546b572-678d-447d-bb3e-59b090d4548f",
   "metadata": {
    "tags": []
   },
   "outputs": [],
   "source": [
    "Sₒ,T,u,d,p = 20.0,2,1.1,0.9,0.6523;"
   ]
  },
  {
   "cell_type": "markdown",
   "id": "59c42f2e-fce7-40b6-9cad-29b8871cd2d8",
   "metadata": {},
   "source": [
    "Once these values are set, we use the `build(…)` function to create an empty lattice model of type `MyBinomialEquityPriceTree`, which is then passed to the `populate(…)` function using the [Julia piping operator](https://docs.julialang.org/en/v1/manual/functions/#Function-composition-and-piping) `|>`. \n",
    "* The `populate(…)` function calculates the prices and probabilities of each node, which are of type `MyBiomialLatticeEquityNodeModel`, in the tree:"
   ]
  },
  {
   "cell_type": "code",
   "execution_count": 8,
   "id": "f2129acf-ffe5-4ce8-8776-3915c89ef722",
   "metadata": {
    "tags": []
   },
   "outputs": [],
   "source": [
    "test_hull_model = build(MyBinomialEquityPriceTree, (\n",
    "        u = u, d = d, p = p)) |> (x-> populate(x, Sₒ = Sₒ, h = T));"
   ]
  },
  {
   "cell_type": "markdown",
   "id": "390ba0c8-2c94-4da2-94e9-0085a3576c59",
   "metadata": {},
   "source": [
    "### Check: Do we reproduce the `Hull` tree values?\n",
    "Finally, we can compare the price values we calculated to those reported by `Hull.` First, we populate the `hull_price_dictionary` dictionary, which holds `key=>value` pairs encoding the data for each node in the tree. In this dictionary, the `keys` are the node indices, while the `values` in the dictionary are the price values at that node:"
   ]
  },
  {
   "cell_type": "code",
   "execution_count": 9,
   "id": "9722deb5-8732-433e-9492-7b8f199b5fef",
   "metadata": {
    "tags": []
   },
   "outputs": [],
   "source": [
    "hull_price_dictionary = Dict(0=>20.0, 1=>22.0,2=>18.0,3=>24.2,4=>19.8,5=>16.2);"
   ]
  },
  {
   "cell_type": "markdown",
   "id": "fa9c8157-6c24-4c97-b1f6-951daef57771",
   "metadata": {},
   "source": [
    "Now, let's populate `hull_test_data_table`, which is of type `DataFrame`, and display the contents using the `pretty_table(...)` function, exported by [PrettyTable.jl package](https://github.com/ronisbr/PrettyTables.jl) using a `for` loop. For iteration of the `for` loop:\n",
    "* We capture the node index `i`, the share price from `Hull`, and our computed price at that node from the binomial tree\n",
    "* We use the [isapprox function](https://docs.julialang.org/en/v1/base/math/#Base.isapprox), with a relative tolerance `rtol = 1e-4`, to check if our computed price aggress with the price reported by `Hull.` If yes, a value of `true` is reported, otherwise `false`"
   ]
  },
  {
   "cell_type": "code",
   "execution_count": 10,
   "id": "16637523-730d-4094-b902-d5671ea7c419",
   "metadata": {
    "tags": []
   },
   "outputs": [
    {
     "name": "stdout",
     "output_type": "stream",
     "text": [
      "======== ============ =========== ================\n",
      " \u001b[1m  node \u001b[0m \u001b[1m hull_price \u001b[0m \u001b[1m our_price \u001b[0m \u001b[1m isapproxequal \u001b[0m\n",
      " \u001b[90m Int64 \u001b[0m \u001b[90m    Float64 \u001b[0m \u001b[90m   Float64 \u001b[0m \u001b[90m          Bool \u001b[0m\n",
      "======== ============ =========== ================\n",
      "      0         20.0        20.0            true\n",
      "      1         22.0        22.0            true\n",
      "      2         18.0        18.0            true\n",
      "      3         24.2        24.2            true\n",
      "      4         19.8        19.8            true\n",
      "      5         16.2        16.2            true\n",
      "======== ============ =========== ================\n"
     ]
    }
   ],
   "source": [
    "number_of_nodes = length(test_hull_model.data);\n",
    "hull_test_data_table = DataFrame();\n",
    "for i ∈ 0:(number_of_nodes-1)\n",
    "    \n",
    "    row_data = (\n",
    "        node = i,\n",
    "        hull_price = hull_price_dictionary[i],\n",
    "        our_price =  test_hull_model.data[i].price, \n",
    "        isapproxequal = isapprox(hull_price_dictionary[i], test_hull_model.data[i].price, rtol=1e-4)\n",
    "    );\n",
    "    \n",
    "    push!(hull_test_data_table, row_data)\n",
    "end\n",
    "pretty_table(hull_test_data_table, tf=tf_simple)"
   ]
  },
  {
   "cell_type": "markdown",
   "id": "07824201-8993-4dfa-aeb5-7bedd874a6d2",
   "metadata": {
    "tags": []
   },
   "source": [
    "## Objective 2: Estimate the `up,` `down,` and probability of an up move `p` for a random firm, and simulate the future share price\n",
    "After validating our lattice implementation, it's time to utilize historical data to compute a share price prediction. To create a binomial lattice model for future share prices, we must estimate three critical parameters: $p$, $u$, and $d$.\n",
    "\n",
    "* The $p$ parameter represents the probability of a share price increase or an `up` move between two periods $j\\rightarrow{j+1}$. As a binary lattice model only allows `up` and `down` moves, the probability of a `down` move is $1-p$.\n",
    "* The $u$ parameter represents the amount of an `up` move. If $S_{j}$ stands for the share price in period $j$, and $S_{j+1}$ is the share price in the next period, then an `up` move will give $S_{j+1} = u\\cdot{S}_{j}$.\n",
    "* The $d$ parameter represents the amount of a `down` move. If $S_{j}$ stands for the share price in period $j$, and $S_{j+1}$ is the share price in the next period, then a `down` move will give $S_{j+1} = d\\cdot{S}_{j}$.\n",
    "\n",
    "To start, let's select a random firm from the dataset:"
   ]
  },
  {
   "cell_type": "code",
   "execution_count": 11,
   "id": "3d5cb68a-f29a-404a-9fad-76835711f664",
   "metadata": {},
   "outputs": [],
   "source": [
    "random_firm_ticker = rand(list_of_all_tickers);\n",
    "random_firm_index = findfirst(x-> x == random_firm_ticker, list_of_all_tickers);\n",
    "random_firm_data = dataset[random_firm_ticker];"
   ]
  },
  {
   "cell_type": "markdown",
   "id": "37d04dad-363d-440f-9a2e-cb06aa47a5f1",
   "metadata": {},
   "source": [
    "### TODO: Estimate the `u,` `d`, and probability `p` parameters from the data\n",
    "Now that we have loaded the data, we can calculate the number of `up` and `down` moves and the magnitude of these moves occurring in the dataset. To do this, we assume a share price model of the form:\n",
    "\n",
    "$$\n",
    "S_{j} = \\exp\\left(\\mu_{j,j-1}\\Delta{t}\\right)\\cdot{S_{j-1}}\n",
    "$$\n",
    "\n",
    "where $\\mu_{j,j-1}$ denotes the _growth rate_ (units: 1/time) and $\\Delta{t}$ (units: time) denotes the time step during the period $(j-1)\\rightarrow{j}$. Solving for the return parameter $\\mu_{j,j-1}$ gives the expression:\n",
    "\n",
    "$$\n",
    "\\mu_{j,j-1} = \\left(\\frac{1}{\\Delta{t}}\\right)\\cdot\\ln\\left(\\frac{S_{j}}{S_{j-1}}\\right)\n",
    "$$\n",
    "\n",
    "We use daily data; thus, the natural time frame between $S_{j-1}$ and $S_{j}$ is a single day. However, it will be easier to use an annualized value for the $\\mu$ parameter; thus, we let $\\Delta{t} = 1/252$, i.e., the fraction of a year that occurs in a single trading day."
   ]
  },
  {
   "cell_type": "code",
   "execution_count": 12,
   "id": "b7a3b8e5-6927-4469-a7c4-5e95a5d8c5dd",
   "metadata": {},
   "outputs": [],
   "source": [
    "log_growth_array = log_return_matrix(dataset, random_firm_ticker);"
   ]
  },
  {
   "cell_type": "markdown",
   "id": "c022f13d-3129-4d7a-8534-594d1101cc83",
   "metadata": {
    "tags": []
   },
   "source": [
    "* Using the `log_growth_array`, we compute the expected magnitide of an `up` move `ū`, the expected magnitide of a `down` move `d̄` , and the estimated probability `p̄` of an `up` move by calling the `analyze(...)` function (this computes the `ū` and `d̄` for the `log return`):"
   ]
  },
  {
   "cell_type": "code",
   "execution_count": 13,
   "id": "af81411e-eea6-4b89-b327-7b4bdc681dc1",
   "metadata": {
    "tags": []
   },
   "outputs": [
    {
     "ename": "LoadError",
     "evalue": "UndefVarError: `RealWorldProbabilityMeasure` not defined",
     "output_type": "error",
     "traceback": [
      "UndefVarError: `RealWorldProbabilityMeasure` not defined",
      "",
      "Stacktrace:",
      " [1] top-level scope",
      "   @ In[13]:1"
     ]
    }
   ],
   "source": [
    "(ū,d̄,p̄) = (RealWorldProbabilityMeasure())(log_growth_array; Δt = (1.0/252.0))"
   ]
  },
  {
   "cell_type": "markdown",
   "id": "c9893e7e-fa9d-4b83-ba60-49ffab890d7a",
   "metadata": {
    "tags": []
   },
   "source": [
    "### TODO: Build binomial lattice model using historical $(u,d,p)$ parameters, simulate future prices\n",
    "Let's construct an instance of the `MyBinomialEquityPriceTree` type using the estimated values for `(u,d,p).` This enables us to calculate the prices and probabilities in the tree. We store the populated model in the variable `model` for future use.\n",
    "\n",
    "* Firstly, we must set a value for the `T` variable, specifying the number of future days to simulate. Time steps are represented in the tree as levels `L = 0,1,..., T`, where each level represents $\\Delta{t}$ units of time, which is a trading day. We then specify the `start_index` as the trading day index in the combined dataset `df,` which will serve as the tree’s starting point or `L=0`. Finally, we can set the variable `Sₒ,` which corresponds to the initial price per share at the root of the tree; we use the [volume-weighted average price (VWAP)](https://en.wikipedia.org/wiki/Volume-weighted_average_price) as the initial condition:"
   ]
  },
  {
   "cell_type": "code",
   "execution_count": 14,
   "id": "ebe52580-48da-4513-a5fb-98ed15e7b70c",
   "metadata": {
    "tags": []
   },
   "outputs": [
    {
     "name": "stdout",
     "output_type": "stream",
     "text": [
      "Visualize Firm-285 between trading days (1442 -> 1463)\n"
     ]
    }
   ],
   "source": [
    "start_index = rand(1:(maximum_number_trading_days - TSIM - 1))\n",
    "stop_index = start_index + TSIM\n",
    "println(\"Visualize Firm-$(random_firm_index) between trading days ($(start_index) -> $(stop_index))\")"
   ]
  },
  {
   "cell_type": "code",
   "execution_count": 15,
   "id": "d62e2a59-37db-4e59-9988-f5ec2e8c504a",
   "metadata": {
    "tags": []
   },
   "outputs": [
    {
     "ename": "LoadError",
     "evalue": "UndefVarError: `ū` not defined",
     "output_type": "error",
     "traceback": [
      "UndefVarError: `ū` not defined",
      "",
      "Stacktrace:",
      " [1] top-level scope",
      "   @ In[15]:1"
     ]
    }
   ],
   "source": [
    "Sₒ = random_firm_data[start_index,:volume_weighted_average_price];\n",
    "random_test_model = build(MyBinomialEquityPriceTree, (\n",
    "    u = ū, d = d̄, p = p̄)) |> (x-> populate(x, Sₒ = Sₒ, h = TSIM));\n",
    "println(\"Starting simulation from Sₒ = $(Sₒ) USD/share\")"
   ]
  },
  {
   "cell_type": "markdown",
   "id": "124567ae-9c01-422c-8b7c-cd3223164a7d",
   "metadata": {},
   "source": [
    "#### Check: Visualize price distribution at tree level `L`"
   ]
  },
  {
   "cell_type": "code",
   "execution_count": 16,
   "id": "eda7afd0-2744-4cb4-92ff-7b01104b4388",
   "metadata": {},
   "outputs": [
    {
     "ename": "LoadError",
     "evalue": "UndefVarError: `random_test_model` not defined",
     "output_type": "error",
     "traceback": [
      "UndefVarError: `random_test_model` not defined",
      "",
      "Stacktrace:",
      " [1] top-level scope",
      "   @ In[16]:2"
     ]
    }
   ],
   "source": [
    "L = 21;\n",
    "price_array = random_test_model.levels[L] .|> x-> random_test_model.data[x].price\n",
    "probability_array = random_test_model.levels[L] .|> x-> random_test_model.data[x].probability;"
   ]
  },
  {
   "cell_type": "code",
   "execution_count": 17,
   "id": "46b9f456-62a9-4fd1-afb3-89fa654fc66c",
   "metadata": {},
   "outputs": [
    {
     "ename": "LoadError",
     "evalue": "UndefVarError: `price_array` not defined",
     "output_type": "error",
     "traceback": [
      "UndefVarError: `price_array` not defined",
      "",
      "Stacktrace:",
      " [1] top-level scope",
      "   @ In[17]:1"
     ]
    }
   ],
   "source": [
    "scatter(price_array,probability_array, label=\"Firm-$(random_firm_ticker) at L = $(L)\")\n",
    "xlabel!(\"Share price Firm-$(random_firm_ticker) (USD)\", fontsize=18)\n",
    "ylabel!(\"Probability P(X=k)\", fontsize=18)"
   ]
  },
  {
   "cell_type": "markdown",
   "id": "c32d5a74-ab92-4c4a-ae22-7b9179d76f3e",
   "metadata": {},
   "source": [
    "### TODO: Visualize binomial lattice simulation"
   ]
  },
  {
   "cell_type": "code",
   "execution_count": 18,
   "id": "1f425808-8422-497f-9101-89363d5937e5",
   "metadata": {
    "tags": []
   },
   "outputs": [
    {
     "ename": "LoadError",
     "evalue": "UndefVarError: `random_test_model` not defined",
     "output_type": "error",
     "traceback": [
      "UndefVarError: `random_test_model` not defined",
      "",
      "Stacktrace:",
      " [1] top-level scope",
      "   @ In[18]:1"
     ]
    }
   ],
   "source": [
    "levels = [k for k ∈ 0:(TSIM-1)]\n",
    "expectation = 𝔼(random_test_model, levels; startindex = start_index);\n",
    "variance = Var(random_test_model, levels; startindex = start_index);"
   ]
  },
  {
   "cell_type": "code",
   "execution_count": 19,
   "id": "4ee34b98-2524-4b74-820e-da12fb92983e",
   "metadata": {
    "tags": []
   },
   "outputs": [
    {
     "ename": "LoadError",
     "evalue": "UndefVarError: `expectation` not defined",
     "output_type": "error",
     "traceback": [
      "UndefVarError: `expectation` not defined",
      "",
      "Stacktrace:",
      " [1] top-level scope",
      "   @ In[19]:2"
     ]
    }
   ],
   "source": [
    "let \n",
    "    L68 = expectation[:,2] .- sqrt.(variance[:,2])\n",
    "    U68 = expectation[:,2] .+ sqrt.(variance[:,2])\n",
    "    L95 = expectation[:,2] .- 1.96*sqrt.(variance[:,2])\n",
    "    U95 = expectation[:,2] .+ 1.96*sqrt.(variance[:,2])\n",
    "    L99 = expectation[:,2] .- 2.576*sqrt.(variance[:,2])\n",
    "    U99 = expectation[:,2] .+ 2.576*sqrt.(variance[:,2])\n",
    "\n",
    "    T_range = range(start_index,stop=stop_index-1,step=1) |> collect \n",
    "    T_sim = T_range*Δt .- Δt\n",
    "\n",
    "    plot(T_sim, expectation[:,2], fillrange=L68, c=:red, alpha=0.3, label=\"\")\n",
    "    plot!(T_sim, expectation[:,2], fillrange=U68, c=:red, alpha=0.3, label=\"\")\n",
    "    plot!(T_sim, expectation[:,2], fillrange=L95, c=:red, alpha=0.2, label=\"\")\n",
    "    plot!(T_sim, expectation[:,2], fillrange=U95, c=:red, alpha=0.2, label=\"\")\n",
    "    plot!(T_sim, expectation[:,2], fillrange=L99, c=:red, alpha=0.1, label=\"\")\n",
    "    plot!(T_sim, expectation[:,2], fillrange=U99, c=:red, alpha=0.1, label=\"\")\n",
    "    plot!(T_sim, expectation[:,2],c=:black, lw=3,ls=:dash, label=\"expectation\")\n",
    "    plot!(T_sim, random_firm_data[levels .+ start_index, :volume_weighted_average_price],  \n",
    "        lw=4, c=:red, label=\"Firm-$(random_firm_ticker)\", legend = :topleft)\n",
    "    scatter!(T_sim, random_firm_data[levels .+ start_index, :volume_weighted_average_price], label=\"\", \n",
    "        msc=:red, mc=:white)\n",
    "\n",
    "    xlabel!(\"Time (years)\", fontsize=18)\n",
    "    ylabel!(\"Firm-$(random_firm_ticker) VWAP (USD/share)\", fontsize=18)\n",
    "end"
   ]
  },
  {
   "cell_type": "markdown",
   "id": "2647126c-f9a0-4e6e-82c3-80cfc1d742a0",
   "metadata": {},
   "source": [
    "The black dashed line is the expected share price predicted by the lattice model, while the shaded regions denote $\\mu\\pm{z}\\cdot\\sigma$ for $z=$`1.0,1.96,2.576`. The solid red line with circles is the [observed VWAP price](https://en.wikipedia.org/wiki/Volume-weighted_average_price) for this firm, and date range."
   ]
  },
  {
   "cell_type": "markdown",
   "id": "5f334dc0-c5f9-402c-99c9-973609a7fc94",
   "metadata": {},
   "source": [
    "### Check: Was this a `successful` simulation?\n",
    "Determining if a model accurately represents data can be done in various ways, but we will utilize a simple, straightforward, functional test. This test involves checking if the simulated price falls within a specified lower bound ($L_{j}$) and upper bound ($U_{j}$) for all times $t_j$ within a given interval ($t_{j}\\in\\mathcal{I}_{k}$). \n",
    "\n",
    "* If the simulation meets this requirement, it is deemed a `success`. The values for $L_{j}$ and $U_{j}$ can be customized, but we set these to $\\mu\\pm{2.576}\\cdot{\\sigma}$, where $\\mu$ represents the expected value and $\\sigma$ is the standard deviation of the geometric Brownian motion simulation. \n",
    "* However, if the actual price exceeds the given bounds at any point, the simulation is considered a `failure`."
   ]
  },
  {
   "cell_type": "code",
   "execution_count": 20,
   "id": "049a1ffc-2955-401b-993d-55714df603c8",
   "metadata": {
    "tags": []
   },
   "outputs": [
    {
     "ename": "LoadError",
     "evalue": "UndefVarError: `expectation` not defined",
     "output_type": "error",
     "traceback": [
      "UndefVarError: `expectation` not defined",
      "",
      "Stacktrace:",
      " [1] top-level scope",
      "   @ ./In[20]:3"
     ]
    }
   ],
   "source": [
    "let\n",
    "    z = 2.576\n",
    "    L = expectation[:,2] .- z*sqrt.(variance[:,2])\n",
    "    U = expectation[:,2] .+ z*sqrt.(variance[:,2])\n",
    "    \n",
    "    # check the bounds: if below L, or above U then simulation failed\n",
    "    success_flag = true;\n",
    "    for k ∈ 1:TSIM\n",
    "        \n",
    "        price_value = random_firm_data[start_index+k-1,:volume_weighted_average_price];    \n",
    "        if (price_value < L[k]) || (price_value > U[k])            \n",
    "            success_flag = false;\n",
    "            break;\n",
    "        end\n",
    "    end\n",
    "\n",
    "    println(\"The simultion of the VWAP of Firm-$(random_firm_index) between ($(start_index) -> $(stop_index)) was successful: $(success_flag)\")\n",
    "end"
   ]
  },
  {
   "cell_type": "markdown",
   "id": "15cc66d3-ddff-4215-8872-a4558041bdd0",
   "metadata": {},
   "source": [
    "## Disclaimer and Risks\n",
    "__This content is offered solely for training and informational purposes__. No offer or solicitation to buy or sell securities or derivative products or any investment or trading advice or strategy is made, given, or endorsed by the teaching team. \n",
    "\n",
    "__Trading involves risk__. Carefully review your financial situation before investing in securities, futures contracts, options, or commodity interests. Past performance, whether actual or indicated by historical tests of strategies, is no guarantee of future performance or success. Trading is generally inappropriate for someone with limited resources, investment or trading experience, or a low-risk tolerance.  Only risk capital that is not required for living expenses.\n",
    "\n",
    "__You are fully responsible for any investment or trading decisions you make__. Such decisions should be based solely on evaluating your financial circumstances, investment or trading objectives, risk tolerance, and liquidity needs."
   ]
  }
 ],
 "metadata": {
  "kernelspec": {
   "display_name": "Julia 1.10.0",
   "language": "julia",
   "name": "julia-1.10"
  },
  "language_info": {
   "file_extension": ".jl",
   "mimetype": "application/julia",
   "name": "julia",
   "version": "1.10.0"
  }
 },
 "nbformat": 4,
 "nbformat_minor": 5
}
