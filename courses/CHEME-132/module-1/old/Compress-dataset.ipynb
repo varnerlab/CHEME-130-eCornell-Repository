{
 "cells": [
  {
   "cell_type": "markdown",
   "id": "7ce22d8c-cd0a-43cf-89b2-7c601bd61d18",
   "metadata": {},
   "source": [
    "### Compress the cleaned data set into a single file"
   ]
  },
  {
   "cell_type": "code",
   "execution_count": 4,
   "id": "987bdf23-2449-480b-bbba-55bdc2724299",
   "metadata": {},
   "outputs": [
    {
     "name": "stderr",
     "output_type": "stream",
     "text": [
      "\u001b[32m\u001b[1m  Activating\u001b[22m\u001b[39m project at `~/Desktop/julia_work/CHEME-130-eCornell-Repository/courses/CHEME-132/module-1`\n"
     ]
    }
   ],
   "source": [
    "include(\"Include.jl\");"
   ]
  },
  {
   "cell_type": "code",
   "execution_count": 2,
   "id": "b0a7e92e-4e9d-4981-a483-1453fd0f685e",
   "metadata": {},
   "outputs": [],
   "source": [
    "using JLD2 # extra package that we need beyond the include"
   ]
  },
  {
   "cell_type": "markdown",
   "id": "e4ebd61c-dd02-4113-868f-6ae7bcccd5c3",
   "metadata": {},
   "source": [
    "### Load the entire data set (has firms with missing data)"
   ]
  },
  {
   "cell_type": "code",
   "execution_count": 5,
   "id": "ec9ed3f9-046a-4a7e-9cdc-146c34575a32",
   "metadata": {},
   "outputs": [],
   "source": [
    "dataset = Dict{Int64,DataFrame}();\n",
    "set_of_firms = generate_firm_index_set();\n",
    "\n",
    "years = [\"Year-1\", \"Year-2\", \"Year-3\", \"Year-4\", \"Year-5\"];\n",
    "while (isempty(set_of_firms) == false)\n",
    "    firm_index = pop!(set_of_firms)\n",
    "    \n",
    "    for year ∈ years\n",
    "        tmp_data = loaddatafile(firm=firm_index, year=year);\n",
    "        \n",
    "        if (haskey(dataset,firm_index) == false)\n",
    "            dataset[firm_index] = tmp_data;\n",
    "        else\n",
    "            append!(dataset[firm_index], tmp_data)\n",
    "        end\n",
    "    end\n",
    "end"
   ]
  },
  {
   "cell_type": "markdown",
   "id": "1909aee1-34ee-4cb5-a9db-97fda1f21991",
   "metadata": {},
   "source": [
    "### Remove missing data"
   ]
  },
  {
   "cell_type": "code",
   "execution_count": 6,
   "id": "61b287ad-08f9-424c-b138-3030c8df73f3",
   "metadata": {},
   "outputs": [],
   "source": [
    "max_number_of_records = 1256\n",
    "number_of_firms = length(dataset)\n",
    "for (firm_index, data) ∈ dataset\n",
    "    data = dataset[firm_index];\n",
    "    \n",
    "    if (nrow(data) != max_number_of_records)\n",
    "        delete!(dataset, firm_index);\n",
    "    end\n",
    "end"
   ]
  },
  {
   "cell_type": "code",
   "execution_count": 7,
   "id": "4092921e-0737-4c5a-a728-8da82e35252e",
   "metadata": {},
   "outputs": [
    {
     "data": {
      "text/plain": [
       "Dict{Int64, DataFrame} with 458 entries:\n",
       "  56  => \u001b[1m1256×7 DataFrame\u001b[0m\u001b[0m…\n",
       "  35  => \u001b[1m1256×7 DataFrame\u001b[0m\u001b[0m…\n",
       "  425 => \u001b[1m1256×7 DataFrame\u001b[0m\u001b[0m…\n",
       "  429 => \u001b[1m1256×7 DataFrame\u001b[0m\u001b[0m…\n",
       "  308 => \u001b[1m1256×7 DataFrame\u001b[0m\u001b[0m…\n",
       "  67  => \u001b[1m1256×7 DataFrame\u001b[0m\u001b[0m…\n",
       "  215 => \u001b[1m1256×7 DataFrame\u001b[0m\u001b[0m…\n",
       "  319 => \u001b[1m1256×7 DataFrame\u001b[0m\u001b[0m…\n",
       "  251 => \u001b[1m1256×7 DataFrame\u001b[0m\u001b[0m…\n",
       "  112 => \u001b[1m1256×7 DataFrame\u001b[0m\u001b[0m…\n",
       "  185 => \u001b[1m1256×7 DataFrame\u001b[0m\u001b[0m…\n",
       "  348 => \u001b[1m1256×7 DataFrame\u001b[0m\u001b[0m…\n",
       "  420 => \u001b[1m1256×7 DataFrame\u001b[0m\u001b[0m…\n",
       "  404 => \u001b[1m1256×7 DataFrame\u001b[0m\u001b[0m…\n",
       "  365 => \u001b[1m1256×7 DataFrame\u001b[0m\u001b[0m…\n",
       "  417 => \u001b[1m1256×7 DataFrame\u001b[0m\u001b[0m…\n",
       "  333 => \u001b[1m1256×7 DataFrame\u001b[0m\u001b[0m…\n",
       "  86  => \u001b[1m1256×7 DataFrame\u001b[0m\u001b[0m…\n",
       "  168 => \u001b[1m1256×7 DataFrame\u001b[0m\u001b[0m…\n",
       "  207 => \u001b[1m1256×7 DataFrame\u001b[0m\u001b[0m…\n",
       "  263 => \u001b[1m1256×7 DataFrame\u001b[0m\u001b[0m…\n",
       "  422 => \u001b[1m1256×7 DataFrame\u001b[0m\u001b[0m…\n",
       "  431 => \u001b[1m1256×7 DataFrame\u001b[0m\u001b[0m…\n",
       "  242 => \u001b[1m1256×7 DataFrame\u001b[0m\u001b[0m…\n",
       "  183 => \u001b[1m1256×7 DataFrame\u001b[0m\u001b[0m…\n",
       "  ⋮   => ⋮"
      ]
     },
     "execution_count": 7,
     "metadata": {},
     "output_type": "execute_result"
    }
   ],
   "source": [
    "dataset"
   ]
  },
  {
   "cell_type": "markdown",
   "id": "85cba0ef-dcca-47f0-a23a-be19530dc27f",
   "metadata": {},
   "source": [
    "### Write to disk has a `JLD2` file"
   ]
  },
  {
   "cell_type": "code",
   "execution_count": 10,
   "id": "888da639-e339-4d8a-b082-eb6418605160",
   "metadata": {},
   "outputs": [],
   "source": [
    "filename = joinpath(_PATH_TO_DATA, \"OHLC-Daily-SP500-5-years-TD-1256.jld2\")\n",
    "save(filename, Dict(\"dataset\" => dataset))"
   ]
  },
  {
   "cell_type": "code",
   "execution_count": null,
   "id": "7a4f1730-f841-4ac3-8d26-8666d11b7f1e",
   "metadata": {},
   "outputs": [],
   "source": []
  }
 ],
 "metadata": {
  "kernelspec": {
   "display_name": "Julia 1.9.1",
   "language": "julia",
   "name": "julia-1.9"
  },
  "language_info": {
   "file_extension": ".jl",
   "mimetype": "application/julia",
   "name": "julia",
   "version": "1.9.1"
  }
 },
 "nbformat": 4,
 "nbformat_minor": 5
}
