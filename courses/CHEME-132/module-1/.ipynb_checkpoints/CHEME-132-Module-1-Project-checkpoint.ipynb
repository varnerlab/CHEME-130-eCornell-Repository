{
 "cells": [
  {
   "cell_type": "markdown",
   "id": "f15b32fe-14a0-4503-98f6-1243fba288e4",
   "metadata": {},
   "source": [
    "# Project: Binomial Lattice Models of Equity Share Price"
   ]
  },
  {
   "cell_type": "markdown",
   "id": "07d7b317-2e99-46c5-b779-edbdb566d450",
   "metadata": {},
   "source": [
    "## Learning Objectives\n",
    "In this project students will rigoursly test the effectivness of the binomial lattice model as a predictive approach for short-term projection of equity share price. \n",
    "\n",
    "* __Objective__: Quantify the binomial lattice model prediction rate by comparing historical data for different periods and different firms with lattice model predictions."
   ]
  },
  {
   "cell_type": "markdown",
   "id": "0e9fc8ac-0ae9-41fa-a6f7-b8215b426958",
   "metadata": {
    "jp-MarkdownHeadingCollapsed": true,
    "tags": []
   },
   "source": [
    "## Setup\n",
    "We set up the computational environment by including the `Include.jl` file. The `Include.jl` file loads external packages, various functions that we will use in the exercise, and custom types to model the components of our example problem."
   ]
  },
  {
   "cell_type": "markdown",
   "id": "596abee9-4686-4012-839d-9ad53ec066bb",
   "metadata": {},
   "source": [
    "### Packages\n",
    "Fill me in."
   ]
  },
  {
   "cell_type": "markdown",
   "id": "54a31e1c-ad5f-4b79-b980-aa684c7fe0e0",
   "metadata": {},
   "source": [
    "### Types\n",
    "Fill me in."
   ]
  },
  {
   "cell_type": "markdown",
   "id": "c9a29ef1-8f72-4368-bcc3-b14e3342b01a",
   "metadata": {},
   "source": [
    "### Functions\n",
    "Fill me in."
   ]
  },
  {
   "cell_type": "code",
   "execution_count": 1,
   "id": "bb6a081f-d62a-4918-9008-2933ecb6986b",
   "metadata": {},
   "outputs": [
    {
     "name": "stderr",
     "output_type": "stream",
     "text": [
      "\u001b[32m\u001b[1m  Activating\u001b[22m\u001b[39m project at `~/Desktop/julia_work/CHEME-130-eCornell-Repository/courses/CHEME-132/module-1`\n"
     ]
    }
   ],
   "source": [
    "include(\"Include.jl\");"
   ]
  },
  {
   "cell_type": "markdown",
   "id": "317e40b1-3786-4107-95f7-a376b9b931da",
   "metadata": {},
   "source": [
    "## Prerequisite: Load the Binomial Lattice Model Parameters and Historical Dataset\n",
    "Fill me in"
   ]
  },
  {
   "cell_type": "code",
   "execution_count": 4,
   "id": "d618cd70-9e52-4667-8c9d-721b4ce6b1ff",
   "metadata": {},
   "outputs": [],
   "source": [
    "parameters = loadmodelparametersfile();"
   ]
  },
  {
   "cell_type": "code",
   "execution_count": 12,
   "id": "ff4c3853-91c2-49f5-9b80-eb9a5df8cb06",
   "metadata": {},
   "outputs": [],
   "source": [
    "years = [\"Year-1\", \"Year-2\", \"Year-3\", \"Year-4\", \"Year-5\"];\n",
    "number_of_firms = nrow(parameters);\n",
    "dataset = Dict{Int64,DataFrame}();\n",
    "for i ∈ 1:number_of_firms\n",
    "    firm_index = parameters[i,:firm];\n",
    "    \n",
    "    for year ∈ years\n",
    "        tmp_data = loaddatafile(firm=firm_index, year=year);\n",
    "        \n",
    "        if (haskey(dataset,firm_index) == false)\n",
    "            dataset[firm_index] = tmp_data;\n",
    "        else\n",
    "            append!(dataset[firm_index], tmp_data)\n",
    "        end\n",
    "    end\n",
    "end"
   ]
  },
  {
   "cell_type": "markdown",
   "id": "54f7f1d8-77f1-4b83-8050-85864467faf0",
   "metadata": {},
   "source": [
    "## Objective: Quantify the Binomial Lattice Model Prediction Rate\n",
    "Fill me in"
   ]
  },
  {
   "cell_type": "code",
   "execution_count": 6,
   "id": "4ddf4637-01fd-48f4-8ec5-6ab1c061acd5",
   "metadata": {},
   "outputs": [],
   "source": [
    "number_of_firms = nrow(parameters);"
   ]
  },
  {
   "cell_type": "code",
   "execution_count": 8,
   "id": "1a03ba6f-16b1-4bde-8ffd-35d4215c6ae4",
   "metadata": {},
   "outputs": [
    {
     "ename": "LoadError",
     "evalue": "UndefVarError: `firm_index` not defined",
     "output_type": "error",
     "traceback": [
      "UndefVarError: `firm_index` not defined",
      "",
      "Stacktrace:",
      " [1] top-level scope",
      "   @ ./In[8]:4"
     ]
    }
   ],
   "source": [
    "\n"
   ]
  },
  {
   "cell_type": "code",
   "execution_count": null,
   "id": "e8097763-0b8a-4709-b5fa-e57681eb006e",
   "metadata": {},
   "outputs": [],
   "source": []
  }
 ],
 "metadata": {
  "kernelspec": {
   "display_name": "Julia 1.9.1",
   "language": "julia",
   "name": "julia-1.9"
  },
  "language_info": {
   "file_extension": ".jl",
   "mimetype": "application/julia",
   "name": "julia",
   "version": "1.9.1"
  }
 },
 "nbformat": 4,
 "nbformat_minor": 5
}
