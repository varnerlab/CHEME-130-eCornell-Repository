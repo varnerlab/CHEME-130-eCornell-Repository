{
 "cells": [
  {
   "cell_type": "markdown",
   "id": "f15b32fe-14a0-4503-98f6-1243fba288e4",
   "metadata": {},
   "source": [
    "# Project: Binomial Lattice Models of Equity Share Price"
   ]
  },
  {
   "cell_type": "markdown",
   "id": "07d7b317-2e99-46c5-b779-edbdb566d450",
   "metadata": {},
   "source": [
    "## Learning Objectives\n",
    "In this project students will rigoursly test the effectivness of the binomial lattice model as a predictive approach for short-term projection of equity share price.\n",
    "\n",
    "* __Objective 1__: Estimate typical values for the tuple $(u,d,p)$ using historical data for different the share price of different firms.  \n",
    "* __Objective 2__: Compare bionomial lattice model simulations of share price, and statistical properties of the return, versus historical data "
   ]
  },
  {
   "cell_type": "markdown",
   "id": "0e9fc8ac-0ae9-41fa-a6f7-b8215b426958",
   "metadata": {
    "tags": []
   },
   "source": [
    "## Setup\n",
    "We set up the computational environment by including the `Include.jl` file. The `Include.jl` file loads external packages, various functions that we will use in the exercise, and custom types to model the components of our example problem."
   ]
  },
  {
   "cell_type": "markdown",
   "id": "596abee9-4686-4012-839d-9ad53ec066bb",
   "metadata": {},
   "source": [
    "### Packages\n",
    "Fill me in."
   ]
  },
  {
   "cell_type": "markdown",
   "id": "54a31e1c-ad5f-4b79-b980-aa684c7fe0e0",
   "metadata": {},
   "source": [
    "### Types\n",
    "Fill me in."
   ]
  },
  {
   "cell_type": "markdown",
   "id": "c9a29ef1-8f72-4368-bcc3-b14e3342b01a",
   "metadata": {},
   "source": [
    "### Functions\n",
    "Fill me in."
   ]
  },
  {
   "cell_type": "code",
   "execution_count": null,
   "id": "bb6a081f-d62a-4918-9008-2933ecb6986b",
   "metadata": {},
   "outputs": [],
   "source": []
  }
 ],
 "metadata": {
  "kernelspec": {
   "display_name": "Julia 1.9.1",
   "language": "julia",
   "name": "julia-1.9"
  },
  "language_info": {
   "file_extension": ".jl",
   "mimetype": "application/julia",
   "name": "julia",
   "version": "1.9.1"
  }
 },
 "nbformat": 4,
 "nbformat_minor": 5
}
