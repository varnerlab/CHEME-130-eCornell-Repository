{
 "cells": [
  {
   "cell_type": "markdown",
   "id": "f15b32fe-14a0-4503-98f6-1243fba288e4",
   "metadata": {},
   "source": [
    "# Project: Quantifying the Performance of the Binomial Lattice Model"
   ]
  },
  {
   "cell_type": "markdown",
   "id": "07d7b317-2e99-46c5-b779-edbdb566d450",
   "metadata": {},
   "source": [
    "## Learning Objectives\n",
    "In this project students will test the effectivness of the binomial lattice model as a predictive approach for short-term projection of equity share price. \n",
    "\n",
    "* __Objective__: Quantify the binomial lattice model prediction rate by comparing historical data for different periods and different firms with lattice model predictions."
   ]
  },
  {
   "cell_type": "markdown",
   "id": "0e9fc8ac-0ae9-41fa-a6f7-b8215b426958",
   "metadata": {
    "jp-MarkdownHeadingCollapsed": true,
    "tags": []
   },
   "source": [
    "## Setup\n",
    "We set up the computational environment by including the `Include.jl` file. The `Include.jl` file loads external packages, various functions that we will use in the exercise, and custom types to model the components of our example problem."
   ]
  },
  {
   "cell_type": "markdown",
   "id": "596abee9-4686-4012-839d-9ad53ec066bb",
   "metadata": {},
   "source": [
    "### Packages\n",
    "Fill me in."
   ]
  },
  {
   "cell_type": "markdown",
   "id": "54a31e1c-ad5f-4b79-b980-aa684c7fe0e0",
   "metadata": {},
   "source": [
    "### Types\n",
    "Fill me in."
   ]
  },
  {
   "cell_type": "markdown",
   "id": "c9a29ef1-8f72-4368-bcc3-b14e3342b01a",
   "metadata": {},
   "source": [
    "### Functions\n",
    "Fill me in."
   ]
  },
  {
   "cell_type": "code",
   "execution_count": 1,
   "id": "bb6a081f-d62a-4918-9008-2933ecb6986b",
   "metadata": {},
   "outputs": [
    {
     "name": "stderr",
     "output_type": "stream",
     "text": [
      "\u001b[32m\u001b[1m  Activating\u001b[22m\u001b[39m project at `~/Desktop/julia_work/CHEME-130-eCornell-Repository/courses/CHEME-132/module-1`\n"
     ]
    }
   ],
   "source": [
    "include(\"Include.jl\");"
   ]
  },
  {
   "cell_type": "markdown",
   "id": "317e40b1-3786-4107-95f7-a376b9b931da",
   "metadata": {},
   "source": [
    "## Prerequisite: Load the Binomial Lattice Model Parameters and Historical Dataset\n",
    "Fill me in"
   ]
  },
  {
   "cell_type": "code",
   "execution_count": 2,
   "id": "d618cd70-9e52-4667-8c9d-721b4ce6b1ff",
   "metadata": {},
   "outputs": [],
   "source": [
    "parameters = loadmodelparametersfile();"
   ]
  },
  {
   "cell_type": "markdown",
   "id": "d37bb6f2-81b5-40c6-9e1d-07e7275cc9f6",
   "metadata": {},
   "source": [
    "Fill me in"
   ]
  },
  {
   "cell_type": "code",
   "execution_count": 3,
   "id": "ff4c3853-91c2-49f5-9b80-eb9a5df8cb06",
   "metadata": {},
   "outputs": [],
   "source": [
    "years = [\"Year-1\", \"Year-2\", \"Year-3\", \"Year-4\", \"Year-5\"];\n",
    "number_of_firms = nrow(parameters);\n",
    "dataset = Dict{Int64,DataFrame}();\n",
    "for i ∈ 1:number_of_firms\n",
    "    firm_index = parameters[i,:firm];\n",
    "    for year ∈ years\n",
    "        tmp_data = loaddatafile(firm=firm_index, year=year);\n",
    "        \n",
    "        if (haskey(dataset,firm_index) == false)\n",
    "            dataset[firm_index] = tmp_data;\n",
    "        else\n",
    "            append!(dataset[firm_index], tmp_data)\n",
    "        end\n",
    "    end\n",
    "end"
   ]
  },
  {
   "cell_type": "markdown",
   "id": "2890ff06-d7d6-4a88-8b2e-fd31f8a6494d",
   "metadata": {},
   "source": [
    "### Clean the dataset: missing data\n",
    "Not all the firms in the `dataset` have the maximum number of trading days, i.e., some firms are missing information for various reasons; perhaps they were acquired, merged, or were delisted, etc. We will exclude these firms from the `dataset`.\n",
    "\n",
    "#### Implementation\n",
    "First, we specify the `max_number_of_records` variable, which holds the number of trading records we expect for each firm, in this case, `1256`. Then, we iterate through all the firms in the `dataset` using a `for` loop. We remove those firms from the `dataset` whose row count (calculated by calling the `nrow(...)` function) is not equal to the `max_number_of_records`; a firm is removed from the `dataset` using the [delete! function](https://docs.julialang.org/en/v1/base/collections/#Base.delete!):"
   ]
  },
  {
   "cell_type": "code",
   "execution_count": 4,
   "id": "218e7990-aa3a-41a3-a529-2dd4c4cb05da",
   "metadata": {},
   "outputs": [],
   "source": [
    "max_number_of_records = 1256\n",
    "for i ∈ 1:number_of_firms\n",
    "    firm_index = parameters[i,:firm];\n",
    "    data = dataset[firm_index];\n",
    "    \n",
    "    if (nrow(data) != max_number_of_records)\n",
    "        delete!(dataset, firm_index);\n",
    "    end\n",
    "end"
   ]
  },
  {
   "cell_type": "markdown",
   "id": "82e6b579-bd8f-4cbe-829e-a96a06398998",
   "metadata": {},
   "source": [
    "Finally, now that we have removed firms with missing data from the `dataset`, we populate the variable `list_of_firm_ids` which holds a sorted array of `firm_id` values, and determine the number of firms in the `dataset` using the `length(...)` function, which we store in the `number_of_firms` variable:"
   ]
  },
  {
   "cell_type": "code",
   "execution_count": 5,
   "id": "18568b02-d8b2-44ac-ad56-da81f281c192",
   "metadata": {},
   "outputs": [],
   "source": [
    "list_of_firm_ids = keys(dataset) |> collect |> sort;\n",
    "number_of_firms = length(list_of_firm_ids);"
   ]
  },
  {
   "cell_type": "markdown",
   "id": "54f7f1d8-77f1-4b83-8050-85864467faf0",
   "metadata": {},
   "source": [
    "## Objective: Quantifying the Binomial Lattice Model Prediction Rate\n",
    "This task aims to determine the prediction accuracy of the Binomial Lattice Model. To accomplish this, we will divide time into contiguous segments $\\mathcal{I}_{k}\\in\\mathcal{I}$ of length `T` days. At the start of each interval $\\mathcal{I}_{k}$, we will construct and populate a binomial lattice model using the `build(…)` and `populate(…)` functions. Then, we will compare the actual price of a firm denoted by $S_{j}$ at time $j$ with the simulated price during each time segment: \n",
    "\n",
    "* If the simulated price falls between a lower bound $L_{j}$ and an upper bound $U_{j}$ for all $j\\in\\mathcal{I}_{k}$, the simulation is considered a `success`.\n",
    "* However, if the actual price violates either the lower or upper bound at any point in time, the simulation is deemed a `failure`.\n",
    "\n",
    "Specify the length of each time interval in the `T::Int64` variable. Let's set `T = 21` days:"
   ]
  },
  {
   "cell_type": "code",
   "execution_count": 6,
   "id": "a0388c78-8317-41b5-9f45-2435be86a4e0",
   "metadata": {},
   "outputs": [],
   "source": [
    "T = 21;"
   ]
  },
  {
   "cell_type": "markdown",
   "id": "8063c384-5aae-490d-a016-1a99595cdf8c",
   "metadata": {},
   "source": [
    "We then partition time into intervals $\\mathcal{I}\\in\\mathcal{I}$. We define the variable `date_range_array` which holds time intervals, and populate this array using a `for` loop. During each pass of the loop, we calculate the range `range(i,stop=(i+T-1),step=1)` and add this range to the `date_range_array` using the `push!(...)` function. Finally, we compute the number of intervals by calling the `length(...)` function on the `date_range_array` , we store the number of intervals in the variable `number_of_date_ranges`:"
   ]
  },
  {
   "cell_type": "code",
   "execution_count": 7,
   "id": "4ddf4637-01fd-48f4-8ec5-6ab1c061acd5",
   "metadata": {},
   "outputs": [],
   "source": [
    "date_range_array = Array{StepRange{Int64, Int64},1}();\n",
    "start_index = 1;\n",
    "for i ∈ 1:T:(max_number_of_records - T)\n",
    "    range(i,stop=(i+T-1),step=1) |> (x-> push!(date_range_array,x))\n",
    "end\n",
    "number_of_date_ranges = length(date_range_array);"
   ]
  },
  {
   "cell_type": "markdown",
   "id": "0a17ca2d-808a-4b91-8931-ca51c086b029",
   "metadata": {},
   "source": [
    "### Simulation\n",
    "The (hidden) simulation code block produces two data structures: \n",
    "* The `successful_simulation_dict = Dict{Int64, Array{Array{Float64,2},1}}()` data structure holds simulation results that have `passed` the bounds test described above. The `keys` of the `successful_simulation_dict` correspond to the `firm_id`, while the values hold an array of simulation arrays which are encoded as an `Array{Float64,2}`, i.e., a matrix of successful simulation results.\n",
    "* The `failed_simulation_dict = Dict{Int64, Array{Array{Float64,2},1}}()` data structure holds simulation results that have `failed` the bounds test described above. The `keys` of the `failed_simulation_dict` correspond to the `firm_id`, while the values hold an array of simulation arrays, which are encoded as an `Array{Float64,2}`, i.e., a matrix of failed simulation results."
   ]
  },
  {
   "cell_type": "code",
   "execution_count": 12,
   "id": "e8097763-0b8a-4709-b5fa-e57681eb006e",
   "metadata": {
    "tags": []
   },
   "outputs": [],
   "source": [
    "z_score = [1.0,1.96,2.576]\n",
    "successful_simulation_dict = Dict{Int64, Array{Array{Float64,2}, 1}}()\n",
    "failed_simulation_dict = Dict{Int64, Array{Array{Float64,2}, 1}}()\n",
    "for i ∈ 1:number_of_firms\n",
    "    firm_id = list_of_firm_ids[i];\n",
    "    \n",
    "    # parameters -\n",
    "    ū = parameters[parameters.firm .== firm_id, :up] |> first;\n",
    "    d̄ = parameters[parameters.firm .== firm_id, :down] |> first;\n",
    "    p̄ = parameters[parameters.firm .== firm_id, :probability] |> first;\n",
    "    \n",
    "    # data for this firm\n",
    "    data = dataset[firm_id];\n",
    "    \n",
    "    # process each data range, for firm_id\n",
    "    for j ∈ 1:number_of_date_ranges\n",
    "        date_range = date_range_array[j]\n",
    "        start_index = first(date_range)\n",
    "        \n",
    "        # set the starting price\n",
    "        Sₒ = data[start_index, :volume_weighted_average_price];\n",
    "        \n",
    "        # build the model, populate with price estimates \n",
    "        model = build(MyBinomialEquityPriceTree, (\n",
    "            u = ū, d = d̄, p = p̄)) |> (x-> populate(x, Sₒ, T));\n",
    "        \n",
    "        \n",
    "        simulation_data_array = Array{Float64,2}(undef, T, 10);\n",
    "        for k ∈ 0:(T-1)\n",
    "            simulation_data_array[k+1,1] = k+start_index\n",
    "            simulation_data_array[k+1,2] = data[start_index+k,:volume_weighted_average_price]\n",
    "            simulation_data_array[k+1,3] = 𝔼(model,level=k);\n",
    "            simulation_data_array[k+1,4] = 𝕍(model,level=k) |> sqrt;\n",
    "\n",
    "            # compute an upper and lower bound -\n",
    "            simulation_data_array[k+1,5] = simulation_data_array[k+1,3] .- z_score[1]*simulation_data_array[k+1,4]\n",
    "            simulation_data_array[k+1,6] = simulation_data_array[k+1,3] .+ z_score[1]*simulation_data_array[k+1,4]\n",
    "            \n",
    "            # compute an upper and lower bound -\n",
    "            simulation_data_array[k+1,7] = simulation_data_array[k+1,3] .- z_score[2]*simulation_data_array[k+1,4]\n",
    "            simulation_data_array[k+1,8] = simulation_data_array[k+1,3] .+ z_score[2]*simulation_data_array[k+1,4]\n",
    "            \n",
    "            # compute an upper and lower bound -\n",
    "            simulation_data_array[k+1,9] = simulation_data_array[k+1,3] .-  z_score[3]*simulation_data_array[k+1,4]\n",
    "            simulation_data_array[k+1,10] = simulation_data_array[k+1,3] .+ z_score[3]*simulation_data_array[k+1,4]\n",
    "        end\n",
    "        \n",
    "        # was this a good prediction?\n",
    "        L = simulation_data_array[:,9]\n",
    "        U = simulation_data_array[:,10]\n",
    "   \n",
    "        # check the bounds: if below L, or above U then simulation failed\n",
    "        prediction_ok = true;\n",
    "        for k ∈ 1:T\n",
    "            if (data[start_index+k-1,:volume_weighted_average_price] < L[k]) || (data[start_index+k-1,:volume_weighted_average_price] > U[k])\n",
    "                prediction_ok = false;\n",
    "                break;\n",
    "            end\n",
    "        end\n",
    "        \n",
    "        key = firm_id\n",
    "        if (prediction_ok == true)\n",
    "            \n",
    "            if (haskey(successful_simulation_dict, key) == false)\n",
    "                tmp = Array{Array{Float64,2},1}();\n",
    "                push!(tmp, simulation_data_array);\n",
    "                successful_simulation_dict[key] = tmp;\n",
    "            else\n",
    "                push!(successful_simulation_dict[key], simulation_data_array);\n",
    "            end\n",
    "        else\n",
    "            \n",
    "            if (haskey(failed_simulation_dict, key) == false)\n",
    "                tmp = Array{Array{Float64,2},1}();\n",
    "                push!(tmp, simulation_data_array)\n",
    "                failed_simulation_dict[key] = tmp;\n",
    "            else\n",
    "                push!(failed_simulation_dict[key], simulation_data_array);\n",
    "            end\n",
    "        end\n",
    "    end\n",
    "end"
   ]
  },
  {
   "cell_type": "markdown",
   "id": "714e937c-80a3-415e-87d7-9e90cfa886c1",
   "metadata": {},
   "source": [
    "#### Example: Analysis of failed simulations\n",
    "Fill me in."
   ]
  },
  {
   "cell_type": "code",
   "execution_count": 13,
   "id": "75e98868-8756-4036-aa71-d98ed2ea0a1c",
   "metadata": {},
   "outputs": [
    {
     "data": {
      "text/plain": [
       "38-element Vector{Matrix{Float64}}:\n",
       " [1.0 234.8164 … 234.8164 234.8164; 2.0 238.5576 … 228.37289356009188 241.06013185577945; … ; 20.0 251.1153 … 205.4719568297301 260.3796228604562; 21.0 248.1375 … 204.67087521103988 260.98253836809477]\n",
       " [43.0 233.3943 … 233.3943 233.3943; 44.0 233.4779 … 226.9898168587591 239.60021843613302; … ; 62.0 214.2206 … 204.22757326108743 258.8027063347382; 63.0 215.1403 … 203.43134316967874 259.40197045284776]\n",
       " [64.0 218.603 … 218.603 218.603; 65.0 213.8212 … 212.6043992281486 224.41562005068258; … ; 83.0 195.0993 … 191.28470659991783 242.40115552476252; 84.0 194.8705 … 190.5389373730256 242.962441443103]\n",
       " [85.0 198.2406 … 198.2406 198.2406; 86.0 200.2843 … 192.80075600804412 203.5117869755702; … ; 104.0 199.4863 … 173.4669469640932 219.8220084441761; 105.0 201.0862 … 172.79064453914637 220.3310117845849]\n",
       " [106.0 201.2442 … 201.2442 201.2442; 107.0 203.2542 … 195.7219353766851 206.5952522362614; … ; 125.0 194.9584 … 176.0951942651082 223.15259453281135; 126.0 196.9783 … 175.40864498879068 223.66930992833647]\n",
       " [127.0 196.9444 … 196.9444 196.9444; 128.0 197.4591 … 191.5401245332762 202.1811212175041; … ; 146.0 208.3792 … 172.33272997395892 218.38469798735866; 147.0 205.2376 … 171.6608495655047 218.89037319957703]\n",
       " [148.0 206.5967 … 206.5967 206.5967; 149.0 206.6557 … 200.92755948463054 212.09007438564066; … ; 167.0 210.3544 … 180.77880515826203 229.08779297448982; 168.0 210.7196 … 180.073995703504 229.61825146996597]\n",
       " [169.0 208.7613 … 208.7613 208.7613; 170.0 210.7029 … 203.03276152929445 214.3122307657512; … ; 188.0 212.2859 … 182.6729002800391 231.4880415586778; 189.0 214.7138 … 181.96070624196136 232.0240578895806]\n",
       " [253.0 190.8886 … 190.8886 190.8886; 254.0 191.4575 … 185.6504994098961 195.96429842960782; … ; 272.0 198.9649 … 167.0337087975448 211.6696349844402; 273.0 200.7139 … 166.38248789186275 212.15976130087682]\n",
       " [274.0 202.3477 … 202.3477 202.3477; 275.0 200.1611 … 196.79515465798127 207.72809413104332; … ; 293.0 203.3245 … 177.0607925127671 224.37622675707908; 294.0 199.7177 … 176.37047862049207 224.89577550352425]\n",
       " [337.0 179.3941 … 179.3941 179.3941; 338.0 175.6964 … 174.4714155595984 184.16416144761817; … ; 356.0 163.7138 … 156.97564893554193 198.92378940053362; 357.0 164.3602 … 156.36364178437847 199.3844023937822]\n",
       " [358.0 166.2552 … 166.2552 166.2552; 359.0 168.9689 … 161.69305505667992 170.67590012328523; … ; 377.0 171.5142 … 145.47868580353912 184.3545266624891; 378.0 169.5033 … 144.91150231579536 184.78140416467937]\n",
       " [400.0 160.6579 … 160.6579 160.6579; 401.0 164.5024 … 156.24934841130352 164.92976877966152; … ; 419.0 159.7416 … 140.580866980136 178.14787813608237; 420.0 164.7024 … 140.03277881173554 178.56038398888344]\n",
       " ⋮\n",
       " [841.0 207.355 … 207.355 207.355; 842.0 204.3829 … 201.66505126623795 212.86853746567343; … ; 860.0 204.4591 … 181.4423422232365 229.92864509561593; 861.0 203.0546 … 180.7349458103673 230.4610506051363]\n",
       " [862.0 202.8888 … 202.8888 202.8888; 863.0 203.486 … 197.32140654118066 208.283581896576; … ; 881.0 199.0179 … 177.53427254159044 224.97623345989098; 882.0 198.2621 … 176.84211267406266 225.4971715368116]\n",
       " [883.0 200.9669 … 200.9669 200.9669; 884.0 199.7509 … 195.45224465923908 206.3105788720342; … ; 902.0 197.8722 … 175.8525477820308 222.84510634451107; 903.0 198.1316 … 175.1669445211228 223.36110974347116]\n",
       " [904.0 197.4133 … 197.4133 197.4133; 905.0 199.045 … 191.9961576288801 202.66248919617567; … ; 923.0 194.5729 … 172.74303266387955 218.90464465700887; 924.0 187.503 … 172.06955259215036 219.41152381870413]\n",
       " [925.0 187.4817 … 187.4817 187.4817; 926.0 186.2553 … 182.3370868413156 192.4668094841147; … ; 944.0 177.8509 … 164.05256093170635 207.89184375213; 945.0 177.1375 … 163.4129627447411 208.37322249879065]\n",
       " [946.0 178.6671 … 178.6671 178.6671; 947.0 177.2762 … 173.76436488673568 183.41783062976157; … ; 965.0 181.3299 … 156.33950038452443 198.1176447453067; 966.0 181.3634 … 155.72997341079417 198.5763910905124]\n",
       " [967.0 181.9457 … 181.9457 181.9457; 968.0 181.3579 … 176.95299808623193 186.7836080980401; … ; 986.0 171.7959 … 159.20838159410764 201.75316863337528; 987.0 177.257 … 158.58766960010348 202.22033312477072]\n",
       " [988.0 177.1266 … 177.1266 177.1266; 989.0 175.769 … 172.26613715422442 181.83636897237866; … ; 1007.0 180.1706 … 154.99151298033928 196.40943863612256; 1008.0 179.8754 … 154.38724145824713 196.8642295874973]\n",
       " [1009.0 178.6173 … 178.6173 178.6173; 1010.0 179.4866 … 173.71593142937297 183.3667064554354; … ; 1028.0 165.0996 … 156.29592377126409 198.0624232819908; 1029.0 161.1779 … 155.68656669139378 198.52104176052168]\n",
       " [1051.0 147.7849 … 147.7849 147.7849; 1052.0 144.1935 … 143.72959144884362 151.71447769531324; … ; 1070.0 149.4905 … 129.31657496190897 163.8734625284716; 1071.0 149.3633 … 128.81240333288594 164.25291561609316]\n",
       " [1072.0 149.4286 … 149.4286 149.4286; 1073.0 150.0802 … 145.32818730989337 153.401883424766; … ; 1091.0 149.8263 … 130.7548657092389 165.69610347729565; 1092.0 148.486 … 130.2450865593758 166.0797769354699]\n",
       " [1093.0 151.6957 … 151.6957 151.6957; 1094.0 149.6252 … 147.53307669150496 155.7292652640756; … ; 1112.0 146.2887 … 132.73865165148155 168.21001069581862; 1113.0 146.0116 … 132.22113823715722 168.59950516882435]"
      ]
     },
     "execution_count": 13,
     "metadata": {},
     "output_type": "execute_result"
    }
   ],
   "source": [
    "successful_simulation_dict[1]"
   ]
  },
  {
   "cell_type": "markdown",
   "id": "11512f40-9d5e-4379-90f1-9cb8c7a987cf",
   "metadata": {},
   "source": [
    "### Compute the probability of success and failure for each firm\n",
    "Fill me in"
   ]
  },
  {
   "cell_type": "code",
   "execution_count": 10,
   "id": "02edf492-49d1-408e-8f39-5894f909d821",
   "metadata": {},
   "outputs": [
    {
     "ename": "LoadError",
     "evalue": "KeyError: key 1 not found",
     "output_type": "error",
     "traceback": [
      "KeyError: key 1 not found",
      "",
      "Stacktrace:",
      " [1] getindex(h::Dict{Int64, Vector{Matrix{Float64}}}, key::Int64)",
      "   @ Base ./dict.jl:484",
      " [2] top-level scope",
      "   @ ./In[10]:4"
     ]
    }
   ],
   "source": [
    "for i ∈ 1:number_of_firms\n",
    "    firm_id = list_of_firm_ids[i];\n",
    "    N₊ = successful_simulation_dict[firm_id] |> length\n",
    "    # N₋ = failed_simulation_dict[firm_id] |> length\n",
    "    \n",
    "    @show (firm_id, N₊, N₋)\n",
    "end"
   ]
  },
  {
   "cell_type": "code",
   "execution_count": 11,
   "id": "315d5249-387a-4d82-b159-5d9884124cb7",
   "metadata": {},
   "outputs": [
    {
     "ename": "LoadError",
     "evalue": "KeyError: key 56 not found",
     "output_type": "error",
     "traceback": [
      "KeyError: key 56 not found",
      "",
      "Stacktrace:",
      " [1] getindex(h::Dict{Int64, Vector{Matrix{Float64}}}, key::Int64)",
      "   @ Base ./dict.jl:484",
      " [2] top-level scope",
      "   @ In[11]:1"
     ]
    }
   ],
   "source": [
    "successful_simulation_dict[56]"
   ]
  },
  {
   "cell_type": "code",
   "execution_count": null,
   "id": "f5e5e5cd-f0c9-402d-b444-80d4fc7d44a6",
   "metadata": {},
   "outputs": [],
   "source": []
  }
 ],
 "metadata": {
  "kernelspec": {
   "display_name": "Julia 1.9.1",
   "language": "julia",
   "name": "julia-1.9"
  },
  "language_info": {
   "file_extension": ".jl",
   "mimetype": "application/julia",
   "name": "julia",
   "version": "1.9.1"
  }
 },
 "nbformat": 4,
 "nbformat_minor": 5
}
