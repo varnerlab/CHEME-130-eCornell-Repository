{
 "cells": [
  {
   "cell_type": "markdown",
   "id": "f15b32fe-14a0-4503-98f6-1243fba288e4",
   "metadata": {},
   "source": [
    "# Project: Binomial Lattice Models of Equity Share Price"
   ]
  },
  {
   "cell_type": "markdown",
   "id": "07d7b317-2e99-46c5-b779-edbdb566d450",
   "metadata": {},
   "source": [
    "## Learning Objectives\n",
    "In this project students will rigoursly test the effectivness of the binomial lattice model as a predictive approach for short-term projection of equity share price. \n",
    "\n",
    "* __Objective__: Quantify the binomial lattice model prediction rate by comparing historical data for different periods and different firms with lattice model predictions."
   ]
  },
  {
   "cell_type": "markdown",
   "id": "0e9fc8ac-0ae9-41fa-a6f7-b8215b426958",
   "metadata": {
    "jp-MarkdownHeadingCollapsed": true,
    "tags": []
   },
   "source": [
    "## Setup\n",
    "We set up the computational environment by including the `Include.jl` file. The `Include.jl` file loads external packages, various functions that we will use in the exercise, and custom types to model the components of our example problem."
   ]
  },
  {
   "cell_type": "markdown",
   "id": "596abee9-4686-4012-839d-9ad53ec066bb",
   "metadata": {},
   "source": [
    "### Packages\n",
    "Fill me in."
   ]
  },
  {
   "cell_type": "markdown",
   "id": "54a31e1c-ad5f-4b79-b980-aa684c7fe0e0",
   "metadata": {},
   "source": [
    "### Types\n",
    "Fill me in."
   ]
  },
  {
   "cell_type": "markdown",
   "id": "c9a29ef1-8f72-4368-bcc3-b14e3342b01a",
   "metadata": {},
   "source": [
    "### Functions\n",
    "Fill me in."
   ]
  },
  {
   "cell_type": "code",
   "execution_count": 1,
   "id": "bb6a081f-d62a-4918-9008-2933ecb6986b",
   "metadata": {},
   "outputs": [
    {
     "name": "stderr",
     "output_type": "stream",
     "text": [
      "\u001b[32m\u001b[1m  Activating\u001b[22m\u001b[39m project at `~/Desktop/julia_work/CHEME-130-eCornell-Repository/courses/CHEME-132/module-1`\n"
     ]
    }
   ],
   "source": [
    "include(\"Include.jl\");"
   ]
  },
  {
   "cell_type": "markdown",
   "id": "317e40b1-3786-4107-95f7-a376b9b931da",
   "metadata": {},
   "source": [
    "## Prerequisite: Load the Binomial Lattice Model Parameters and Historical Dataset\n",
    "Fill me in"
   ]
  },
  {
   "cell_type": "code",
   "execution_count": 2,
   "id": "d618cd70-9e52-4667-8c9d-721b4ce6b1ff",
   "metadata": {},
   "outputs": [],
   "source": [
    "parameters = loadmodelparametersfile();"
   ]
  },
  {
   "cell_type": "markdown",
   "id": "d37bb6f2-81b5-40c6-9e1d-07e7275cc9f6",
   "metadata": {},
   "source": [
    "Fill me in"
   ]
  },
  {
   "cell_type": "code",
   "execution_count": 3,
   "id": "ff4c3853-91c2-49f5-9b80-eb9a5df8cb06",
   "metadata": {},
   "outputs": [],
   "source": [
    "years = [\"Year-1\", \"Year-2\", \"Year-3\", \"Year-4\", \"Year-5\"];\n",
    "number_of_firms = nrow(parameters);\n",
    "dataset = Dict{Int64,DataFrame}();\n",
    "for i ∈ 1:number_of_firms\n",
    "    firm_index = parameters[i,:firm];\n",
    "    for year ∈ years\n",
    "        tmp_data = loaddatafile(firm=firm_index, year=year);\n",
    "        \n",
    "        if (haskey(dataset,firm_index) == false)\n",
    "            dataset[firm_index] = tmp_data;\n",
    "        else\n",
    "            append!(dataset[firm_index], tmp_data)\n",
    "        end\n",
    "    end\n",
    "end"
   ]
  },
  {
   "cell_type": "markdown",
   "id": "2890ff06-d7d6-4a88-8b2e-fd31f8a6494d",
   "metadata": {},
   "source": [
    "### Clean the dataset: missing data\n",
    "Not all the firms in the `dataset` have the maximum number of trading days, i.e., some firms are missing information for various reasons; perhaps they were acquired, merged, or were delisted, etc. We will exclude these firms from the `dataset`.\n",
    "\n",
    "#### Implementation\n",
    "First, we specify the `max_number_of_records` variable, which holds the number of trading records we expect for each firm, in this case, `1256`. Then, we iterate through all the firms in the `dataset` using a `for` loop. We remove those firms from the `dataset` whose row count (calculated by calling the `nrow(...)` function) is not equal to the `max_number_of_records`; a firm is removed from the `dataset` using the [delete! function](https://docs.julialang.org/en/v1/base/collections/#Base.delete!):"
   ]
  },
  {
   "cell_type": "code",
   "execution_count": 4,
   "id": "218e7990-aa3a-41a3-a529-2dd4c4cb05da",
   "metadata": {},
   "outputs": [],
   "source": [
    "max_number_of_records = 1256\n",
    "for i ∈ 1:number_of_firms\n",
    "    firm_index = parameters[i,:firm];\n",
    "    data = dataset[firm_index];\n",
    "    \n",
    "    if (nrow(data) != max_number_of_records)\n",
    "        delete!(dataset, firm_index);\n",
    "    end\n",
    "end"
   ]
  },
  {
   "cell_type": "markdown",
   "id": "82e6b579-bd8f-4cbe-829e-a96a06398998",
   "metadata": {},
   "source": [
    "Fill me in"
   ]
  },
  {
   "cell_type": "code",
   "execution_count": 5,
   "id": "18568b02-d8b2-44ac-ad56-da81f281c192",
   "metadata": {},
   "outputs": [],
   "source": [
    "list_of_firm_ids = keys(dataset) |> collect |> sort;\n",
    "number_of_firms = length(list_of_firm_ids);"
   ]
  },
  {
   "cell_type": "markdown",
   "id": "54f7f1d8-77f1-4b83-8050-85864467faf0",
   "metadata": {},
   "source": [
    "## Objective: Quantify the Binomial Lattice Model Prediction Rate\n",
    "Fill me in"
   ]
  },
  {
   "cell_type": "code",
   "execution_count": 6,
   "id": "a0388c78-8317-41b5-9f45-2435be86a4e0",
   "metadata": {},
   "outputs": [],
   "source": [
    "T = 21;"
   ]
  },
  {
   "cell_type": "markdown",
   "id": "8063c384-5aae-490d-a016-1a99595cdf8c",
   "metadata": {},
   "source": [
    "Fill me in"
   ]
  },
  {
   "cell_type": "code",
   "execution_count": 7,
   "id": "4ddf4637-01fd-48f4-8ec5-6ab1c061acd5",
   "metadata": {},
   "outputs": [],
   "source": [
    "date_range_array = Array{StepRange{Int64, Int64},1}();\n",
    "start_index = 1;\n",
    "for i ∈ 1:T:(max_number_of_records - T)\n",
    "    range(i,stop=(i+T-1),step=1) |> (x-> push!(date_range_array,x))\n",
    "end\n",
    "number_of_date_ranges = length(date_range_array);"
   ]
  },
  {
   "cell_type": "markdown",
   "id": "0a17ca2d-808a-4b91-8931-ca51c086b029",
   "metadata": {},
   "source": [
    "Fill me in"
   ]
  },
  {
   "cell_type": "code",
   "execution_count": 8,
   "id": "e8097763-0b8a-4709-b5fa-e57681eb006e",
   "metadata": {},
   "outputs": [],
   "source": [
    "z_score = [1.0,1.96,2.576]\n",
    "successful_simulation_dict = Dict{Int64, Array{Array{Float64,2},1}}()\n",
    "failed_simulation_dict = Dict{Int64, Array{Array{Float64,2},1}}()\n",
    "for i ∈ 1:number_of_firms\n",
    "    firm_id = list_of_firm_ids[i];\n",
    "    \n",
    "    # parameters -\n",
    "    ū = parameters[parameters.firm .== firm_id, :up] |> first;\n",
    "    d̄ = parameters[parameters.firm .== firm_id, :down] |> first;\n",
    "    p̄ = parameters[parameters.firm .== firm_id, :probability] |> first;\n",
    "    \n",
    "    # data for this firm\n",
    "    data = dataset[firm_id];\n",
    "    \n",
    "    # process each data range, for firm_id\n",
    "    for j ∈ 1:number_of_date_ranges\n",
    "        date_range = date_range_array[j]\n",
    "        start_index = first(date_range)\n",
    "        \n",
    "        # set the starting price\n",
    "        Sₒ = data[start_index, :volume_weighted_average_price];\n",
    "        \n",
    "        # build the model, populate with price estimates \n",
    "        model = build(MyBinomialEquityPriceTree, (\n",
    "            u = ū, d = d̄, p = p̄)) |> (x-> populate(x, Sₒ, T));\n",
    "        \n",
    "        \n",
    "        simulation_data_array = Array{Float64,2}(undef, T, 10);\n",
    "        for k ∈ 0:(T-1)\n",
    "            simulation_data_array[k+1,1] = k+start_index\n",
    "            simulation_data_array[k+1,2] = data[start_index+k,:volume_weighted_average_price]\n",
    "            simulation_data_array[k+1,3] = 𝔼(model,level=k);\n",
    "            simulation_data_array[k+1,4] = 𝕍(model,level=k) |> sqrt;\n",
    "\n",
    "            # compute an upper and lower bound -\n",
    "            simulation_data_array[k+1,5] = simulation_data_array[k+1,3] .- z_score[1]*simulation_data_array[k+1,4]\n",
    "            simulation_data_array[k+1,6] = simulation_data_array[k+1,3] .+ z_score[1]*simulation_data_array[k+1,4]\n",
    "            \n",
    "            # compute an upper and lower bound -\n",
    "            simulation_data_array[k+1,7] = simulation_data_array[k+1,3] .- z_score[2]*simulation_data_array[k+1,4]\n",
    "            simulation_data_array[k+1,8] = simulation_data_array[k+1,3] .+ z_score[2]*simulation_data_array[k+1,4]\n",
    "            \n",
    "            # compute an upper and lower bound -\n",
    "            simulation_data_array[k+1,9] = simulation_data_array[k+1,3] .-  z_score[3]*simulation_data_array[k+1,4]\n",
    "            simulation_data_array[k+1,10] = simulation_data_array[k+1,3] .+ z_score[3]*simulation_data_array[k+1,4]\n",
    "        end\n",
    "        \n",
    "        # was this a good prediction?\n",
    "        L = simulation_data_array[:,9]\n",
    "        U = simulation_data_array[:,10]\n",
    "   \n",
    "        # check the bounds: if below L, or above U then simulation failed\n",
    "        prediction_ok = true;\n",
    "        for k ∈ 1:T\n",
    "            if (data[start_index+k-1,:volume_weighted_average_price] < L[k]) || (data[start_index+k-1,:volume_weighted_average_price] > U[k])\n",
    "                prediction_ok = false;\n",
    "                break;\n",
    "            end\n",
    "        end\n",
    "        \n",
    "        key = firm_id\n",
    "        tmp = Array{Array{Float64,2},1}();\n",
    "        if (prediction_ok == true)\n",
    "            \n",
    "            if (haskey(successful_simulation_dict, key) == false)\n",
    "                push!(tmp,simulation_data_array) |> (x-> successful_simulation_dict[key] = x);\n",
    "            else\n",
    "                \n",
    "            end\n",
    "        else\n",
    "            \n",
    "            if (haskey(failed_simulation_dict, key) == false)\n",
    "                push!(tmp,simulation_data_array) |> (x-> failed_simulation_dict[key] = x);\n",
    "            else\n",
    "                push!(failed_simulation_dict[key],simulation_data_array);\n",
    "            end\n",
    "        end\n",
    "    end\n",
    "end"
   ]
  },
  {
   "cell_type": "code",
   "execution_count": 12,
   "id": "02edf492-49d1-408e-8f39-5894f909d821",
   "metadata": {},
   "outputs": [
    {
     "data": {
      "text/plain": [
       "14"
      ]
     },
     "execution_count": 12,
     "metadata": {},
     "output_type": "execute_result"
    }
   ],
   "source": [
    "length(failed_simulation_dict[56])"
   ]
  },
  {
   "cell_type": "code",
   "execution_count": 10,
   "id": "315d5249-387a-4d82-b159-5d9884124cb7",
   "metadata": {},
   "outputs": [
    {
     "data": {
      "text/plain": [
       "21×10 Matrix{Float64}:\n",
       "  1.0  750.062  750.062   0.0     …  750.062  750.062  750.062  750.062\n",
       "  2.0  760.38   750.868   8.0008     735.187  766.55   730.258  771.478\n",
       "  3.0  773.222  751.676  11.3273     729.474  773.877  722.497  780.855\n",
       "  4.0  770.52   752.484  13.8884     725.263  779.706  716.708  788.261\n",
       "  5.0  769.196  753.294  16.0547     721.827  784.761  711.937  794.65\n",
       "  6.0  767.724  754.104  17.9695  …  718.884  789.324  707.815  800.393\n",
       "  7.0  766.687  754.915  19.7063     716.291  793.539  704.151  805.678\n",
       "  8.0  784.26   755.727  21.3087     713.962  797.492  700.836  810.618\n",
       "  9.0  782.472  756.54   22.8051     711.842  801.238  697.794  815.286\n",
       " 10.0  785.988  757.353  24.2152     709.892  804.815  694.975  819.732\n",
       " 11.0  785.866  758.168  25.5532  …  708.084  808.252  692.343  823.993\n",
       " 12.0  792.188  758.983  26.8301     706.396  811.57   689.869  828.098\n",
       " 13.0  782.702  759.8    28.054      704.814  814.785  687.532  832.067\n",
       " 14.0  783.395  760.617  29.2318     703.323  817.911  685.316  835.918\n",
       " 15.0  788.797  761.435  30.3687     701.912  820.958  683.205  839.665\n",
       " 16.0  784.98   762.254  31.4693  …  700.574  823.934  681.189  843.319\n",
       " 17.0  791.312  763.074  32.5373     699.301  826.847  679.258  846.89\n",
       " 18.0  789.362  763.894  33.5757     698.086  829.703  677.403  850.385\n",
       " 19.0  778.757  764.716  34.5872     696.925  832.507  675.619  853.813\n",
       " 20.0  772.592  765.538  35.5742     695.813  835.264  673.899  857.178\n",
       " 21.0  764.456  766.362  36.5387  …  694.746  837.978  672.238  860.485"
      ]
     },
     "execution_count": 10,
     "metadata": {},
     "output_type": "execute_result"
    }
   ],
   "source": [
    "successful_simulation_dict[56][1]"
   ]
  },
  {
   "cell_type": "code",
   "execution_count": null,
   "id": "f5e5e5cd-f0c9-402d-b444-80d4fc7d44a6",
   "metadata": {},
   "outputs": [],
   "source": []
  }
 ],
 "metadata": {
  "kernelspec": {
   "display_name": "Julia 1.9.1",
   "language": "julia",
   "name": "julia-1.9"
  },
  "language_info": {
   "file_extension": ".jl",
   "mimetype": "application/julia",
   "name": "julia",
   "version": "1.9.1"
  }
 },
 "nbformat": 4,
 "nbformat_minor": 5
}
