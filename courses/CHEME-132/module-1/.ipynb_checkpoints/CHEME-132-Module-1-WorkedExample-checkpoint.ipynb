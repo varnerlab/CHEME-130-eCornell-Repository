{
 "cells": [
  {
   "cell_type": "markdown",
   "id": "b3ec0c34-896e-431a-b1ef-260726a942ce",
   "metadata": {},
   "source": [
    "# Example: Binomial Lattice Models of Equity Share Price"
   ]
  },
  {
   "cell_type": "markdown",
   "id": "f4a30fb1-fd20-4d4a-a2d0-b922edfbea6b",
   "metadata": {},
   "source": [
    "## Background\n",
    "A binomial lattice model assumes that each discrete time increment, the state of the system, e.g., the share price of equity, the short rate, etc., can either increase by a factor $u$ with probability $p$ or decrease by a factor $d$ with probability $(1-p)$. \n",
    "\n",
    "<div>\n",
    "    <center>\n",
    "        <img src=\"figs/Fig-Binomial-Lattice-Schematic.png\" width=\"300\"/>\n",
    "    </center>\n",
    "</div>\n",
    "\n",
    "Different models can be developed to compute the tuple $(u,d,p)$. However, for now, let's use historical data to learn typical values governing the price movement. Thus, we’ll take an approach similar to the short-rate calculations discussed previously. "
   ]
  },
  {
   "cell_type": "markdown",
   "id": "9381d64f-c557-4e3d-bee5-2325d797ee29",
   "metadata": {},
   "source": [
    "## Learning Objectives\n",
    "The objective of this example is to familiarize students with the application of simple probability mass functions to predict future uncertain quantities such as commodity prices, equity share prices, interest rates, etc. In particular, in this example, we will:\n",
    "\n",
    "* __Objective 1__: Estimate typical values for the tuple $(u,d,p)$ using historical data for different the share price of different firms.  \n",
    "* __Objective 2__: Compare bionomial lattice model simulations of share price, and statistical properties of the return, versus historical data "
   ]
  },
  {
   "cell_type": "markdown",
   "id": "c19acb41-77b2-4179-a0cd-210f4226eb57",
   "metadata": {
    "jp-MarkdownHeadingCollapsed": true,
    "tags": []
   },
   "source": [
    "## Setup\n",
    "We set up the computational environment by including the `Include.jl` file. The `Include.jl` file loads external packages, various functions that we will use in the exercise, and custom types to model the components of our example problem."
   ]
  },
  {
   "cell_type": "markdown",
   "id": "195cc561-0d82-453c-935c-11235c9e1ca7",
   "metadata": {},
   "source": [
    "### Packages\n",
    "Fill me in."
   ]
  },
  {
   "cell_type": "markdown",
   "id": "fe5c6b5b-1696-4075-9bcc-e203a31d2442",
   "metadata": {},
   "source": [
    "### Types\n",
    "Fill me in."
   ]
  },
  {
   "cell_type": "markdown",
   "id": "aaa021fd-96b1-40b0-854d-ce87bd0c4f99",
   "metadata": {},
   "source": [
    "### Functions\n",
    "Fill me in."
   ]
  },
  {
   "cell_type": "code",
   "execution_count": 1,
   "id": "c3c5edbe-cba4-4211-a733-693d96546f23",
   "metadata": {},
   "outputs": [
    {
     "name": "stderr",
     "output_type": "stream",
     "text": [
      "\u001b[32m\u001b[1m  Activating\u001b[22m\u001b[39m project at `~/Desktop/julia_work/CHEME-130-eCornell-Repository/courses/CHEME-132/module-1`\n"
     ]
    }
   ],
   "source": [
    "include(\"Include.jl\");"
   ]
  },
  {
   "cell_type": "markdown",
   "id": "08e8d4b8-29c7-43d8-82f9-8662229e4acf",
   "metadata": {},
   "source": [
    "## Objective 1: Estimate values of the up, down and probability of an up move lattice parameters\n",
    "To create a binomial lattice model for future share prices, we need to gather data on three parameters: $p$, $u$, and $d$:\n",
    "\n",
    "* The $p$ parameter denotes the probability that the share price will rise, i.e., an `up` move between two time periods $j\\rightarrow{j+1}$. A binary lattice model only allow `up` and `down` moves, thus, the probability of a `down` move is $1-p$.\n",
    "* The $u$ parameter denotes the amount of an `up` move, i.e., if $S_{j}$ denotes the share price in period $j$, and $S_{j+1}$ denotes the share price in the next period, then an `up` move gives $S_{j+1} = u\\cdot{S}_{j}$. \n",
    "* The $d$ parameter denotes the amount of a `down` move, i.e., if $S_{j}$ denotes the share price in period $j$, and $S_{j+1}$ denotes the share price in the next period, then a `down` moves gives $S_{j+1} = d\\cdot{S}_{j}$.\n",
    "\n",
    "To esimate the $(u,d,p)$ parameters, let's load historical daily price data sets for firms that make up the [The Standard and Poor's 500, or simply the S&P 500](https://en.wikipedia.org/wiki/S%26P_500) which we've numbered as `Firm-1,...` for years `2018` through `2022` using the `loaddatafile(...)` function."
   ]
  },
  {
   "cell_type": "code",
   "execution_count": 5,
   "id": "3681bebb-3121-4420-9605-6431961535d7",
   "metadata": {},
   "outputs": [],
   "source": [
    "years = [\"2018\", \"2019\", \"2020\", \"2021\", \"2022\"];\n",
    "firm = 1\n",
    "dataset = Dict{String,DataFrame}();\n",
    "for year ∈ years\n",
    "    dataset[year] = loaddatafile(firm=firm, year=year);\n",
    "end"
   ]
  },
  {
   "cell_type": "markdown",
   "id": "ba232aac-26b1-4dd0-a3be-9487bcf60bcf",
   "metadata": {},
   "source": [
    "Next, combine all the `DataFrame` instances for each year into a single `DataFrame` holding data for all the years using [append!](https://docs.juliahub.com/DataFrames/AR9oZ/0.21.5/lib/functions/#Base.append!) function. Stored the combined `DataFrame` in the `df` variable:"
   ]
  },
  {
   "cell_type": "code",
   "execution_count": 9,
   "id": "839628e1-8877-4d05-8236-d7c1f03290c7",
   "metadata": {},
   "outputs": [],
   "source": [
    "df = dataset[\"2018\"];\n",
    "number_of_years = length(years);\n",
    "for i ∈ 2:number_of_years\n",
    "    year = years[i];\n",
    "    df_next = dataset[year];\n",
    "    append!(df,df_next)\n",
    "end"
   ]
  },
  {
   "cell_type": "markdown",
   "id": "8398e581-717f-46b2-99b6-753873fbe70b",
   "metadata": {},
   "source": [
    "Next, we need to calculate the number of `up` and `down` moves, and the magnitude of each `up` and `down` move. To do this, let's assume a share price model of the form:\n",
    "\n",
    "$$\n",
    "S_{j} = \\exp\\left(\\mu_{j,j-1}\\right)\\cdot{S_{j-1}}\n",
    "$$"
   ]
  },
  {
   "cell_type": "code",
   "execution_count": 10,
   "id": "f98c83f2-2538-4e57-afe5-a80ca1e48289",
   "metadata": {},
   "outputs": [],
   "source": [
    "number_of_trading_days = nrow(df);\n",
    "log_return_array = Array{Float64,1}()\n",
    "for i ∈ 2:number_of_trading_days\n",
    "    \n",
    "    S₁ = df[i-1,:close];\n",
    "    S₂ = df[i,:close];\n",
    "    R = log(S₂/S₁);\n",
    "    push!(log_return_array,R);\n",
    "end"
   ]
  },
  {
   "cell_type": "code",
   "execution_count": 11,
   "id": "f8f75b41-cf76-42c4-b29d-19770fd9aae1",
   "metadata": {},
   "outputs": [
    {
     "data": {
      "text/plain": [
       "2261-element Vector{Float64}:\n",
       "  0.0129866479212712\n",
       "  0.00776168142949372\n",
       " -0.0032475671810097114\n",
       "  0.006194544513553822\n",
       " -0.0005804071304265306\n",
       "  0.004840220433149987\n",
       "  0.008874703877923417\n",
       "  0.0011038205572840084\n",
       "  0.013675773656048539\n",
       " -0.008906580880521724\n",
       "  0.009188674013424623\n",
       " -0.003552114819102953\n",
       " -0.004011269331852639\n",
       "  ⋮\n",
       " -0.00947201019720821\n",
       " -0.0298649796507406\n",
       " -0.0056541306856857905\n",
       "  0.0036092238342884347\n",
       " -0.01086698765152456\n",
       "  0.02169815343427731\n",
       " -0.015262487657422892\n",
       " -0.011996999886311565\n",
       "  0.0006656681890006905\n",
       " -0.01618416105337041\n",
       "  0.019091260571573763\n",
       " -0.005405643334877064"
      ]
     },
     "execution_count": 11,
     "metadata": {},
     "output_type": "execute_result"
    }
   ],
   "source": [
    "log_return_array"
   ]
  },
  {
   "cell_type": "markdown",
   "id": "181c05fd-fa0a-4260-9109-523afcf10186",
   "metadata": {},
   "source": [
    "## Objective 2: Compare simulations from the Lattice Model with historical price data and stylized facts"
   ]
  },
  {
   "cell_type": "code",
   "execution_count": null,
   "id": "d0bcd195-90b0-4d9a-b5da-38c3f897a202",
   "metadata": {},
   "outputs": [],
   "source": []
  }
 ],
 "metadata": {
  "kernelspec": {
   "display_name": "Julia 1.9.1",
   "language": "julia",
   "name": "julia-1.9"
  },
  "language_info": {
   "file_extension": ".jl",
   "mimetype": "application/julia",
   "name": "julia",
   "version": "1.9.1"
  }
 },
 "nbformat": 4,
 "nbformat_minor": 5
}
