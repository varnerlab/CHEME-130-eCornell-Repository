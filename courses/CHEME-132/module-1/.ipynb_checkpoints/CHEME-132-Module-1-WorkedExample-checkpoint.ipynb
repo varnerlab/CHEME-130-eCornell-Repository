{
 "cells": [
  {
   "cell_type": "markdown",
   "id": "b3ec0c34-896e-431a-b1ef-260726a942ce",
   "metadata": {},
   "source": [
    "# Example: Binomial Lattice Models of Equity Share Price"
   ]
  },
  {
   "cell_type": "markdown",
   "id": "f4a30fb1-fd20-4d4a-a2d0-b922edfbea6b",
   "metadata": {},
   "source": [
    "## Background\n",
    "A binomial lattice model assumes that each discrete time increment, the state of the system, e.g., the share price of equity, the short rate, etc., can either increase by a factor $u$ with probability $p$ or decrease by a factor $d$ with probability $(1-p)$. \n",
    "\n",
    "<div>\n",
    "    <center>\n",
    "        <img src=\"figs/Fig-Binomial-Lattice-Schematic.png\" width=\"300\"/>\n",
    "    </center>\n",
    "</div>\n",
    "\n",
    "Different models can be developed to compute the tuple $(u,d,p)$. However, for now, let's use historical data to learn typical values governing the price movement. Thus, we’ll take an approach similar to the short-rate calculations discussed previously. "
   ]
  },
  {
   "cell_type": "markdown",
   "id": "9381d64f-c557-4e3d-bee5-2325d797ee29",
   "metadata": {},
   "source": [
    "## Learning Objectives\n",
    "The objective of this example is to familiarize students with the application of simple probability mass functions to predict future uncertain quantities such as commodity prices, equity share prices, interest rates, etc. In particular, in this example, we will:\n",
    "\n",
    "* __Objective 1__: Estimate typical values for the tuple $(u,d,p)$ using historical data for different the share price of different firms.  \n",
    "* __Objective 2__: Compare bionomial lattice model simulations of share price, and statistical properties of the return, versus historical data "
   ]
  },
  {
   "cell_type": "markdown",
   "id": "c19acb41-77b2-4179-a0cd-210f4226eb57",
   "metadata": {
    "jp-MarkdownHeadingCollapsed": true,
    "tags": []
   },
   "source": [
    "## Setup\n",
    "We set up the computational environment by including the `Include.jl` file. The `Include.jl` file loads external packages, various functions that we will use in the exercise, and custom types to model the components of our example problem."
   ]
  },
  {
   "cell_type": "markdown",
   "id": "195cc561-0d82-453c-935c-11235c9e1ca7",
   "metadata": {},
   "source": [
    "### Packages\n",
    "Fill me in."
   ]
  },
  {
   "cell_type": "markdown",
   "id": "fe5c6b5b-1696-4075-9bcc-e203a31d2442",
   "metadata": {},
   "source": [
    "### Types\n",
    "Fill me in."
   ]
  },
  {
   "cell_type": "markdown",
   "id": "aaa021fd-96b1-40b0-854d-ce87bd0c4f99",
   "metadata": {},
   "source": [
    "### Functions\n",
    "Fill me in."
   ]
  },
  {
   "cell_type": "code",
   "execution_count": 1,
   "id": "c3c5edbe-cba4-4211-a733-693d96546f23",
   "metadata": {},
   "outputs": [
    {
     "name": "stderr",
     "output_type": "stream",
     "text": [
      "\u001b[32m\u001b[1m  Activating\u001b[22m\u001b[39m project at `~/Desktop/julia_work/CHEME-130-eCornell-Repository/courses/CHEME-132/module-1`\n"
     ]
    }
   ],
   "source": [
    "include(\"Include.jl\");"
   ]
  },
  {
   "cell_type": "markdown",
   "id": "08e8d4b8-29c7-43d8-82f9-8662229e4acf",
   "metadata": {},
   "source": [
    "## Objective 1: Estimate values of the up, down and probability of an up move lattice parameters\n",
    "To create a binomial lattice model for future share prices, we need to gather data on three parameters: $p$, $u$, and $d$:\n",
    "\n",
    "* The $p$ parameter denotes the probability that the share price will rise, i.e., an `up` move between two time periods $j\\rightarrow{j+1}$. A binary lattice model only allow `up` and `down` moves, thus, the probability of a `down` move is $1-p$.\n",
    "* The $u$ parameter denotes the amount of an `up` move, i.e., if $S_{j}$ denotes the share price in period $j$, and $S_{j+1}$ denotes the share price in the next period, then an `up` move gives $S_{j+1} = u\\cdot{S}_{j}$. \n",
    "* The $d$ parameter denotes the amount of a `down` move, i.e., if $S_{j}$ denotes the share price in period $j$, and $S_{j+1}$ denotes the share price in the next period, then a `down` moves gives $S_{j+1} = d\\cdot{S}_{j}$.\n",
    "\n",
    "To esimate the $(u,d,p)$ parameters, let's load historical daily price data sets for firms that make up the [The Standard and Poor's 500, or simply the S&P 500](https://en.wikipedia.org/wiki/S%26P_500) which we've numbered as `Firm-1,...` for years `2018` through `2022` using the `loaddatafile(...)` function."
   ]
  },
  {
   "cell_type": "code",
   "execution_count": 2,
   "id": "3681bebb-3121-4420-9605-6431961535d7",
   "metadata": {},
   "outputs": [],
   "source": [
    "years = [\"2018\", \"2019\", \"2020\", \"2021\", \"2022\"];\n",
    "firm = 1\n",
    "dataset = Dict{String,DataFrame}();\n",
    "for year ∈ years\n",
    "    dataset[year] = loaddatafile(firm=firm, year=year);\n",
    "end"
   ]
  },
  {
   "cell_type": "markdown",
   "id": "ba232aac-26b1-4dd0-a3be-9487bcf60bcf",
   "metadata": {},
   "source": [
    "Next, combine all the `DataFrame` instances for each year into a single `DataFrame` holding data for all the years using [append!](https://docs.juliahub.com/DataFrames/AR9oZ/0.21.5/lib/functions/#Base.append!) function. Stored the combined `DataFrame` in the `df` variable:"
   ]
  },
  {
   "cell_type": "code",
   "execution_count": 3,
   "id": "839628e1-8877-4d05-8236-d7c1f03290c7",
   "metadata": {},
   "outputs": [],
   "source": [
    "df = dataset[\"2018\"];\n",
    "number_of_years = length(years);\n",
    "for i ∈ 2:number_of_years\n",
    "    year = years[i];\n",
    "    df_next = dataset[year];\n",
    "    append!(df,df_next)\n",
    "end"
   ]
  },
  {
   "cell_type": "markdown",
   "id": "2f7ff1bb-04d8-43cd-a7c4-93fd71985cdd",
   "metadata": {
    "tags": []
   },
   "source": [
    "### Compute the `up`, `down` and probability `p`\n",
    "Next, we need to calculate the number of `up` and `down` moves, and the magnitude of these moves. To do this, let's assume a share price model of the form:\n",
    "\n",
    "$$\n",
    "S_{j} = \\exp\\left(\\mu_{j,j-1}\\Delta{t}\\right)\\cdot{S_{j-1}}\n",
    "$$\n",
    "\n",
    "where $\\mu_{j,j-1}$ denotes the _return_ (units: 1/time) and $\\Delta{t}$ (units: time) denotes the length of time between time period $j-1\\rightarrow{j}$. Solving for the return value $\\mu_{j,j-1}$ gives the expression:\n",
    "\n",
    "$$\n",
    "\\mu_{j,j-1} = \\left(\\frac{1}{\\Delta{t}}\\right)\\cdot\\ln\\left(\\frac{S_{j}}{S_{j-1}}\\right)\n",
    "$$"
   ]
  },
  {
   "cell_type": "code",
   "execution_count": 4,
   "id": "f98c83f2-2538-4e57-afe5-a80ca1e48289",
   "metadata": {},
   "outputs": [],
   "source": [
    "Δt = (1.0/365.0);\n",
    "number_of_trading_days = nrow(df);\n",
    "return_array = Array{Float64,1}(undef, number_of_trading_days-1)\n",
    "for i ∈ 2:number_of_trading_days\n",
    "    \n",
    "    S₁ = df[i-1,:close];\n",
    "    S₂ = df[i,:close];\n",
    "    μ = (1/Δt)*log(S₂/S₁);\n",
    "    return_array[i-1] = μ\n",
    "end"
   ]
  },
  {
   "cell_type": "markdown",
   "id": "4c287cf2-1239-4e26-9a60-48c60827f290",
   "metadata": {},
   "source": [
    "Using the `return_array`, compute the number of up moves which is indicated by $\\mu_{j,j-1}>0$ and estimate the probability of an `up` move `p`:"
   ]
  },
  {
   "cell_type": "code",
   "execution_count": 5,
   "id": "f8f75b41-cf76-42c4-b29d-19770fd9aae1",
   "metadata": {},
   "outputs": [
    {
     "name": "stdout",
     "output_type": "stream",
     "text": [
      "The probability of an up move p = 0.4852589641434263\n"
     ]
    }
   ],
   "source": [
    "N₊ = findall(x->x>0,return_array) |> length\n",
    "p̄ = N₊/length(return_array)\n",
    "println(\"The probability of an up move p = $(p̄)\")"
   ]
  },
  {
   "cell_type": "markdown",
   "id": "016dd8a8-ee9c-4c57-a6c7-75612d761c3b",
   "metadata": {},
   "source": [
    "Finally, let's compute the average magnitide of an `up` move: "
   ]
  },
  {
   "cell_type": "code",
   "execution_count": 6,
   "id": "4ac8ad28-3fad-4891-a6f1-bf4c3a789c37",
   "metadata": {},
   "outputs": [
    {
     "name": "stdout",
     "output_type": "stream",
     "text": [
      "The mean magnitude of an up move ū = 1.011058734867527\n"
     ]
    }
   ],
   "source": [
    "index_up_moves = findall(x->x>0, return_array);\n",
    "uarray = Array{Float64,1}();\n",
    "for index ∈ index_up_moves\n",
    "    μ = return_array[index];\n",
    "    u = exp(μ*Δt);\n",
    "    push!(uarray,u)\n",
    "end\n",
    "\n",
    "ū = mean(uarray)\n",
    "println(\"The mean magnitude of an up move ū = $(ū)\")"
   ]
  },
  {
   "cell_type": "markdown",
   "id": "63a6acf2-21aa-4b66-bc91-4573b6aac06e",
   "metadata": {},
   "source": [
    "and the average magnitude of a `down` move:"
   ]
  },
  {
   "cell_type": "code",
   "execution_count": 7,
   "id": "8c0408c3-0453-4b54-974c-33c3f02680a8",
   "metadata": {},
   "outputs": [
    {
     "name": "stdout",
     "output_type": "stream",
     "text": [
      "The mean magnitude of a down move d̄ = 0.9874046686280384\n"
     ]
    }
   ],
   "source": [
    "index_down_moves = findall(x->x<0, return_array);\n",
    "darray = Array{Float64,1}();\n",
    "for index ∈ index_down_moves\n",
    "    μ = return_array[index];\n",
    "    d = exp(μ*Δt);\n",
    "    push!(darray,d)\n",
    "end\n",
    "\n",
    "d̄ = mean(darray)\n",
    "println(\"The mean magnitude of a down move d̄ = $(d̄)\")"
   ]
  },
  {
   "cell_type": "markdown",
   "id": "2ec6d24a-508d-43fa-aa41-b5894cdfa3ee",
   "metadata": {
    "tags": []
   },
   "source": [
    "### Build binomial lattice model using historial $(u,d,p)$ parameters\n",
    "Now that we have values for the $(u,d,p)$ tuple, let's build an instance of the `MyBinomialEquityPriceTree` type, and store it in the variable `model`. First, let's set a value of price per share at the root of the tree in the variable `Sₒ`, then set the number of days forward we want to simulate, and store this value in the `T` variable:"
   ]
  },
  {
   "cell_type": "code",
   "execution_count": 8,
   "id": "51e75425-d384-4f9e-911a-0c9b7fc77b56",
   "metadata": {},
   "outputs": [],
   "source": [
    "Sₒ = 100.0;\n",
    "T = 24;"
   ]
  },
  {
   "cell_type": "markdown",
   "id": "002fead7-6b57-4f2a-894e-a63cd96fe0c5",
   "metadata": {},
   "source": [
    "then build an instance of the `MyBinomialEquityPriceTree` type using the `build` function, populate the tree using the [Julia piping operator](https://docs.julialang.org/en/v1/manual/functions/#Function-composition-and-piping) `|>` and the `populate(...)` function and store in the `model` variable:"
   ]
  },
  {
   "cell_type": "code",
   "execution_count": 9,
   "id": "0cf497b2-39d7-4ef5-af13-bbd0d544c9de",
   "metadata": {},
   "outputs": [],
   "source": [
    "model = build(MyBinomialEquityPriceTree, (\n",
    "    u = ū, d = d̄, p = p̄)) |> (x-> populate(x, Sₒ, T));"
   ]
  },
  {
   "cell_type": "markdown",
   "id": "405dc00e-57fc-4459-bdc5-9b7bed8cf122",
   "metadata": {},
   "source": [
    "### Visualize "
   ]
  },
  {
   "cell_type": "code",
   "execution_count": 10,
   "id": "ef393cee-fa14-4b0e-b0a7-e2e95d62f68b",
   "metadata": {},
   "outputs": [
    {
     "data": {
      "text/html": [
       "<table>\n",
       "  <thead>\n",
       "    <tr class = \"header\">\n",
       "      <th style = \"text-align: right;\">T</th>\n",
       "      <th style = \"text-align: right;\">mean μ</th>\n",
       "      <th style = \"text-align: right;\">stdev σ</th>\n",
       "    </tr>\n",
       "    <tr class = \"subheader headerLastRow\">\n",
       "      <th style = \"text-align: right;\">day</th>\n",
       "      <th style = \"text-align: right;\">USD/share</th>\n",
       "      <th style = \"text-align: right;\">USD/share</th>\n",
       "    </tr>\n",
       "  </thead>\n",
       "  <tbody>\n",
       "    <tr>\n",
       "      <td style = \"text-align: right;\">0</td>\n",
       "      <td style = \"text-align: right;\">100.0</td>\n",
       "      <td style = \"text-align: right;\">0.0</td>\n",
       "    </tr>\n",
       "    <tr>\n",
       "      <td style = \"text-align: right;\">1</td>\n",
       "      <td style = \"text-align: right;\">99.8883</td>\n",
       "      <td style = \"text-align: right;\">1.18219</td>\n",
       "    </tr>\n",
       "    <tr>\n",
       "      <td style = \"text-align: right;\">2</td>\n",
       "      <td style = \"text-align: right;\">99.7767</td>\n",
       "      <td style = \"text-align: right;\">1.67006</td>\n",
       "    </tr>\n",
       "    <tr>\n",
       "      <td style = \"text-align: right;\">3</td>\n",
       "      <td style = \"text-align: right;\">99.6653</td>\n",
       "      <td style = \"text-align: right;\">2.04318</td>\n",
       "    </tr>\n",
       "    <tr>\n",
       "      <td style = \"text-align: right;\">4</td>\n",
       "      <td style = \"text-align: right;\">99.554</td>\n",
       "      <td style = \"text-align: right;\">2.35671</td>\n",
       "    </tr>\n",
       "    <tr>\n",
       "      <td style = \"text-align: right;\">5</td>\n",
       "      <td style = \"text-align: right;\">99.4428</td>\n",
       "      <td style = \"text-align: right;\">2.63203</td>\n",
       "    </tr>\n",
       "    <tr>\n",
       "      <td style = \"text-align: right;\">6</td>\n",
       "      <td style = \"text-align: right;\">99.3317</td>\n",
       "      <td style = \"text-align: right;\">2.88013</td>\n",
       "    </tr>\n",
       "    <tr>\n",
       "      <td style = \"text-align: right;\">7</td>\n",
       "      <td style = \"text-align: right;\">99.2207</td>\n",
       "      <td style = \"text-align: right;\">3.10753</td>\n",
       "    </tr>\n",
       "    <tr>\n",
       "      <td style = \"text-align: right;\">8</td>\n",
       "      <td style = \"text-align: right;\">99.1099</td>\n",
       "      <td style = \"text-align: right;\">3.31849</td>\n",
       "    </tr>\n",
       "    <tr>\n",
       "      <td style = \"text-align: right;\">9</td>\n",
       "      <td style = \"text-align: right;\">98.9992</td>\n",
       "      <td style = \"text-align: right;\">3.51598</td>\n",
       "    </tr>\n",
       "    <tr>\n",
       "      <td style = \"text-align: right;\">10</td>\n",
       "      <td style = \"text-align: right;\">98.8886</td>\n",
       "      <td style = \"text-align: right;\">3.70216</td>\n",
       "    </tr>\n",
       "    <tr>\n",
       "      <td style = \"text-align: right;\">11</td>\n",
       "      <td style = \"text-align: right;\">98.7782</td>\n",
       "      <td style = \"text-align: right;\">3.87866</td>\n",
       "    </tr>\n",
       "    <tr>\n",
       "      <td style = \"text-align: right;\">12</td>\n",
       "      <td style = \"text-align: right;\">98.6678</td>\n",
       "      <td style = \"text-align: right;\">4.04674</td>\n",
       "    </tr>\n",
       "    <tr>\n",
       "      <td style = \"text-align: right;\">13</td>\n",
       "      <td style = \"text-align: right;\">98.5576</td>\n",
       "      <td style = \"text-align: right;\">4.20743</td>\n",
       "    </tr>\n",
       "    <tr>\n",
       "      <td style = \"text-align: right;\">14</td>\n",
       "      <td style = \"text-align: right;\">98.4475</td>\n",
       "      <td style = \"text-align: right;\">4.36153</td>\n",
       "    </tr>\n",
       "    <tr>\n",
       "      <td style = \"text-align: right;\">15</td>\n",
       "      <td style = \"text-align: right;\">98.3376</td>\n",
       "      <td style = \"text-align: right;\">4.50973</td>\n",
       "    </tr>\n",
       "    <tr>\n",
       "      <td style = \"text-align: right;\">16</td>\n",
       "      <td style = \"text-align: right;\">98.2277</td>\n",
       "      <td style = \"text-align: right;\">4.65259</td>\n",
       "    </tr>\n",
       "    <tr>\n",
       "      <td style = \"text-align: right;\">17</td>\n",
       "      <td style = \"text-align: right;\">98.118</td>\n",
       "      <td style = \"text-align: right;\">4.79059</td>\n",
       "    </tr>\n",
       "    <tr>\n",
       "      <td style = \"text-align: right;\">18</td>\n",
       "      <td style = \"text-align: right;\">98.0084</td>\n",
       "      <td style = \"text-align: right;\">4.92414</td>\n",
       "    </tr>\n",
       "    <tr>\n",
       "      <td style = \"text-align: right;\">19</td>\n",
       "      <td style = \"text-align: right;\">97.8989</td>\n",
       "      <td style = \"text-align: right;\">5.0536</td>\n",
       "    </tr>\n",
       "    <tr>\n",
       "      <td style = \"text-align: right;\">20</td>\n",
       "      <td style = \"text-align: right;\">97.7896</td>\n",
       "      <td style = \"text-align: right;\">5.17927</td>\n",
       "    </tr>\n",
       "    <tr>\n",
       "      <td style = \"text-align: right;\">21</td>\n",
       "      <td style = \"text-align: right;\">97.6804</td>\n",
       "      <td style = \"text-align: right;\">5.30143</td>\n",
       "    </tr>\n",
       "    <tr>\n",
       "      <td style = \"text-align: right;\">22</td>\n",
       "      <td style = \"text-align: right;\">97.5712</td>\n",
       "      <td style = \"text-align: right;\">5.42032</td>\n",
       "    </tr>\n",
       "    <tr>\n",
       "      <td style = \"text-align: right;\">23</td>\n",
       "      <td style = \"text-align: right;\">97.4623</td>\n",
       "      <td style = \"text-align: right;\">5.53614</td>\n",
       "    </tr>\n",
       "    <tr>\n",
       "      <td style = \"text-align: right;\">24</td>\n",
       "      <td style = \"text-align: right;\">97.3534</td>\n",
       "      <td style = \"text-align: right;\">5.6491</td>\n",
       "    </tr>\n",
       "  </tbody>\n",
       "</table>\n"
      ]
     },
     "metadata": {},
     "output_type": "display_data"
    }
   ],
   "source": [
    "objective_1_data_table = Array{Any,2}(undef, T+1, 3);\n",
    "objective_1_header_table = ([\"T\",\"mean μ\",\"stdev σ\"], [\"day\",\"USD/share\",\"USD/share\"]) \n",
    "for i ∈ 0:T\n",
    "    objective_1_data_table[i+1,1] = i\n",
    "    objective_1_data_table[i+1,2] = 𝔼(model, level=i)\n",
    "    objective_1_data_table[i+1,3] = sqrt(𝕍(model, level=i))\n",
    "end\n",
    "pretty_table(objective_1_data_table, header=objective_1_header_table, tf = tf_html_default)"
   ]
  },
  {
   "cell_type": "markdown",
   "id": "181c05fd-fa0a-4260-9109-523afcf10186",
   "metadata": {},
   "source": [
    "## Objective 2: Compare simulations from the Lattice Model with historical price data and stylized facts"
   ]
  },
  {
   "cell_type": "code",
   "execution_count": 11,
   "id": "d0bcd195-90b0-4d9a-b5da-38c3f897a202",
   "metadata": {},
   "outputs": [
    {
     "data": {
      "text/plain": [
       "1256"
      ]
     },
     "execution_count": 11,
     "metadata": {},
     "output_type": "execute_result"
    }
   ],
   "source": [
    "number_of_trading_days"
   ]
  },
  {
   "cell_type": "code",
   "execution_count": null,
   "id": "983e828c-938b-491e-a88d-4392a52e0c85",
   "metadata": {},
   "outputs": [],
   "source": []
  }
 ],
 "metadata": {
  "kernelspec": {
   "display_name": "Julia 1.9.1",
   "language": "julia",
   "name": "julia-1.9"
  },
  "language_info": {
   "file_extension": ".jl",
   "mimetype": "application/julia",
   "name": "julia",
   "version": "1.9.1"
  }
 },
 "nbformat": 4,
 "nbformat_minor": 5
}
