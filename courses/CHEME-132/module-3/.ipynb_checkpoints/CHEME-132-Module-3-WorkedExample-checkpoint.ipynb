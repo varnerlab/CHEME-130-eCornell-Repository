{
 "cells": [
  {
   "cell_type": "markdown",
   "id": "1a008d74-4d07-445a-8ee1-8797a28ee4a3",
   "metadata": {},
   "source": [
    "# Example: Multiple Asset Geometric Brownian Motion\n",
    "Fill me in\n",
    "\n",
    "## Learning objectives\n",
    "Fill me in\n",
    "* __Prerequisite__: Load and clean the historical dataset. The data we'll explore is daily open-high-low-close values for firms in the [S&P500 index](https://en.wikipedia.org/wiki/S%26P_500) between `01-03-2018` and `12-29-2023`\n",
    "* __Objective 1__: Compute the return covariance matrix $\\Sigma$ for firms in $\\mathcal{D}$\n",
    "    * `Approach 1`: Use the estimated $(\\hat{\\mu},\\hat{\\sigma})$ values from `module 2` and the correlation between firms to compute $\\Sigma$.\n",
    "        * `Check`: Do we recover the values estimated from `module 2`?"
   ]
  },
  {
   "cell_type": "markdown",
   "id": "25389536-0236-4a6e-b5a1-8309d2de6127",
   "metadata": {},
   "source": [
    "## Setup\n",
    "We set up the computational environment by including the `Include.jl` file. The `Include.jl` file loads external packages, various functions we will use in the exercise, and custom types to model the components of our example problem."
   ]
  },
  {
   "cell_type": "code",
   "execution_count": 1,
   "id": "5955b4d0-1514-4ac2-b10c-9ea557c3a5b1",
   "metadata": {},
   "outputs": [
    {
     "name": "stderr",
     "output_type": "stream",
     "text": [
      "\u001b[32m\u001b[1m    Updating\u001b[22m\u001b[39m git-repo `https://github.com/varnerlab/VLQuantitativeFinancePackage.jl.git`\n",
      "\u001b[32m\u001b[1m   Resolving\u001b[22m\u001b[39m package versions...\n",
      "\u001b[32m\u001b[1m  No Changes\u001b[22m\u001b[39m to `~/Desktop/julia_work/CHEME-130-eCornell-Repository/courses/CHEME-132/module-3/Project.toml`\n",
      "\u001b[32m\u001b[1m  No Changes\u001b[22m\u001b[39m to `~/Desktop/julia_work/CHEME-130-eCornell-Repository/courses/CHEME-132/module-3/Manifest.toml`\n",
      "\u001b[32m\u001b[1m  Activating\u001b[22m\u001b[39m project at `~/Desktop/julia_work/CHEME-130-eCornell-Repository/courses/CHEME-132/module-3`\n",
      "\u001b[32m\u001b[1m  No Changes\u001b[22m\u001b[39m to `~/Desktop/julia_work/CHEME-130-eCornell-Repository/courses/CHEME-132/module-3/Project.toml`\n",
      "\u001b[32m\u001b[1m  No Changes\u001b[22m\u001b[39m to `~/Desktop/julia_work/CHEME-130-eCornell-Repository/courses/CHEME-132/module-3/Manifest.toml`\n",
      "\u001b[32m\u001b[1m    Updating\u001b[22m\u001b[39m registry at `~/.julia/registries/General.toml`\n",
      "\u001b[32m\u001b[1m    Updating\u001b[22m\u001b[39m git-repo `https://github.com/varnerlab/VLQuantitativeFinancePackage.jl.git`\n",
      "\u001b[32m\u001b[1m  No Changes\u001b[22m\u001b[39m to `~/Desktop/julia_work/CHEME-130-eCornell-Repository/courses/CHEME-132/module-3/Project.toml`\n",
      "\u001b[32m\u001b[1m  No Changes\u001b[22m\u001b[39m to `~/Desktop/julia_work/CHEME-130-eCornell-Repository/courses/CHEME-132/module-3/Manifest.toml`\n"
     ]
    }
   ],
   "source": [
    "include(\"Include.jl\");"
   ]
  },
  {
   "cell_type": "markdown",
   "id": "2c66642c-8ca8-4ff2-b76b-53330f08cac9",
   "metadata": {
    "jp-MarkdownHeadingCollapsed": true
   },
   "source": [
    "## Prerequisites: Load and clean the historical dataset\n",
    "We gathered a daily open-high-low-close `dataset` for each firm in the [S&P500](https://en.wikipedia.org/wiki/S%26P_500) from `01-03-2018` until `12-29-2023`, along with data for a few exchange-traded funds and volatility products during that time. \n",
    "* We load the `orignal_dataset` by calling the `MyMarketDataSet()` function and remove firms that do not have the maximum number of trading days. The cleaned dataset $\\mathcal{D}$ is stored in the `dataset` variable, where the dataset $\\mathcal{D}$ has data for $\\mathcal{L}$ firms, held in the `list_of_all_firms` variable."
   ]
  },
  {
   "cell_type": "code",
   "execution_count": 2,
   "id": "34637243-5837-48a0-85dd-d32129d25a9c",
   "metadata": {},
   "outputs": [],
   "source": [
    "original_dataset = MyMarketDataSet() |> x-> x[\"dataset\"];"
   ]
  },
  {
   "cell_type": "markdown",
   "id": "992d3a08-575d-417c-aad4-fbb9c7bb50b8",
   "metadata": {},
   "source": [
    "### Clean the data\n",
    "Not all tickers in our dataset have the maximum number of trading days for various reasons, e.g., acquisition or de-listing events. Let's collect only those tickers with the maximum number of trading days.\n",
    "\n",
    "* First, let's compute the number of records for a company that we know has a maximum value, e.g., `AAPL`, and save that value in the `maximum_number_trading_days` variable:"
   ]
  },
  {
   "cell_type": "code",
   "execution_count": 3,
   "id": "73397de3-9ed1-405c-b79b-b2b2c5113359",
   "metadata": {},
   "outputs": [],
   "source": [
    "maximum_number_trading_days = original_dataset[\"AAPL\"] |> nrow;"
   ]
  },
  {
   "cell_type": "markdown",
   "id": "f0eb8d1b-eb2c-42a0-b60f-e798f1da94b0",
   "metadata": {},
   "source": [
    "Now, let's iterate through our data and collect only tickers with `maximum_number_trading_days` records. Save that data in the `dataset::Dict{String,DataFrame}` variable:"
   ]
  },
  {
   "cell_type": "code",
   "execution_count": 4,
   "id": "bd147843-2606-4627-a8c3-6cec7eb9c183",
   "metadata": {},
   "outputs": [],
   "source": [
    "dataset = Dict{String,DataFrame}();\n",
    "for (ticker,data) ∈ original_dataset\n",
    "    if (nrow(data) == maximum_number_trading_days)\n",
    "        dataset[ticker] = data;\n",
    "    end\n",
    "end\n",
    "dataset;"
   ]
  },
  {
   "cell_type": "markdown",
   "id": "c2ec2570-699b-478e-beb1-fe16579a9c30",
   "metadata": {},
   "source": [
    "Then, get a list of firms that we have in the cleaned-up `dataset` and save it in the `list_of_all_firms` array (we sort these alphabetically):"
   ]
  },
  {
   "cell_type": "code",
   "execution_count": 5,
   "id": "07636ed5-e784-4e87-b227-6d19e175e2a6",
   "metadata": {},
   "outputs": [],
   "source": [
    "list_of_all_firms = keys(dataset) |> collect |> sort;"
   ]
  },
  {
   "cell_type": "markdown",
   "id": "3654f8d8-04fe-44e9-9351-2dcb15b325f9",
   "metadata": {},
   "source": [
    "Finally, we set some constant values that are used throughout the study. In particular, the value of $\\Delta{t}$ holds the time step that we'll use (see below for a discussion of the value), and we'll specify the number of trading days to simulate in the `T` variable:"
   ]
  },
  {
   "cell_type": "code",
   "execution_count": 6,
   "id": "845e5557-ff90-4ba9-af36-93348d987d16",
   "metadata": {},
   "outputs": [],
   "source": [
    "Δt = (1.0/252.0);\n",
    "T = 48;\n",
    "all_range = range(1,stop=maximum_number_trading_days,step=1) |> collect;"
   ]
  },
  {
   "cell_type": "markdown",
   "id": "9e6722cd-afef-4c1b-8cd9-a798cbc3d505",
   "metadata": {},
   "source": [
    "## Objective 1: Compute the return covariance matrix $\\Sigma$ for firms in $\\mathcal{D}$\n",
    "We'll use two approaches to estimate the covariance matrix $\\Sigma$. We'll use the log growth (return) values in both approaches. Thus, before we begin, let's compute the log growth array for $\\mathcal{L}$ firms in `dataset` $\\mathcal{D}$ and store this in the `log_growth_array` variable using the `log_return_matrix(...)` function.\n",
    "* The `log_growth_array` will be a `N`$\\times\\dim\\mathcal{L}$ array, with time values on the `rows` and firms on the `columns`."
   ]
  },
  {
   "cell_type": "code",
   "execution_count": 7,
   "id": "f463322b-7b59-4b13-af19-91f1421164fd",
   "metadata": {},
   "outputs": [],
   "source": [
    "log_growth_array = log_return_matrix(dataset, list_of_all_firms);"
   ]
  },
  {
   "cell_type": "markdown",
   "id": "15b541df-cf4d-4758-821e-6556abe9cbae",
   "metadata": {},
   "source": [
    "### Approach 1: Use the estimated $(\\hat{\\mu},\\hat{\\sigma})$ values from `module 2` and the correlation between firms\n",
    "The first approach we'll use to estimate the covariance array $\\Sigma$ is to use the parameter values from the previous module and directly compute the correlation between growth (return) time series stored in the `log_growth_array` variable.\n",
    "\n",
    "* First, let's load the `Parameters-SP500-2018-2023.csv` file we saved previously in `module 2` using the `read(...)` function exported by the [CSV.jl package](https://github.com/JuliaData/CSV.jl). We will load this data into a [DataFrame](https://dataframes.juliadata.org/stable/), storing the values in the `parameters_df` variable:"
   ]
  },
  {
   "cell_type": "code",
   "execution_count": 8,
   "id": "0f3ff923-f408-4a8c-80a5-a3ff84d790fd",
   "metadata": {},
   "outputs": [],
   "source": [
    "parameters_df = CSV.read(joinpath(_PATH_TO_DATA, \"Parameters-SP500-2018-2023.csv\"), DataFrame);"
   ]
  },
  {
   "cell_type": "markdown",
   "id": "28255dd1-ed92-4b54-9754-0cc75797b430",
   "metadata": {},
   "source": [
    "Next, let's compute the [correlation](https://en.wikipedia.org/wiki/Correlation) between the firms in the `dataset` $\\mathcal{D}$, i.e., between the columns in the `log_growth_array`. We could do this manually; however, we'll use the [cor function](https://docs.julialang.org/en/v1/stdlib/Statistics/#Statistics.cor) exported by the [Statistics module which is part of the Julia standard library](https://docs.julialang.org/en/v1/stdlib/Statistics/#Statistics). \n",
    "* The [cor function](https://docs.julialang.org/en/v1/stdlib/Statistics/#Statistics.cor) takes the `log_growth_array` as an argument and produces the correlation matrix $\\rho$, a symmetric $\\dim\\mathcal{D}\\times\\dim\\mathcal{D}$ matrix where the elements $\\rho_{ij}\\in\\rho$ describe the correlation between the returns of firm $i$ and $j$, and $p_{ii} = 1$. Let's store the correlation matrix in the $\\rho$ variable."
   ]
  },
  {
   "cell_type": "code",
   "execution_count": 15,
   "id": "d6c1532c-cfeb-4435-b000-4a54b521f2fa",
   "metadata": {},
   "outputs": [],
   "source": [
    "ρ = cor(log_growth_array);"
   ]
  },
  {
   "cell_type": "markdown",
   "id": "b2c8f804-8b9b-46ba-b970-4d8024073b18",
   "metadata": {},
   "source": [
    "Now we can compute the covariance matrix $\\Sigma$. The matrix $\\Sigma$ is a $\\dim\\mathcal{L}\\times\\dim\\mathcal{L}$ symmetric array, where $\\sigma_{ij}\\in\\Sigma$ equals $\\sigma_{ij} = \\sigma_{i}\\cdot\\sigma_{j}\\cdot\\rho_{ij}$ and $\\sigma_{i}$ denotes the volatility of the returns of firm $i$, and $\\rho_{ij}$ denotes the correlation between the return of firm $i$ and $j$.\n",
    "* We'll use two nested `for` loops to compute $\\sigma_{ij}\\in\\Sigma$. First, let's initialize storage for the $\\Sigma$ array in the `Σ₁` variable. In the outer loop (index `i` below), we'll select a `row_ticker` and get its volatility value $\\sigma_{i}$.\n",
    "* We'll then move into the inner loop (index `j` below), where we select a `column_ticker,` get $\\sigma_{j}$, the volatility for firm $j$, and look up the correlation between firms $i$ and $j$. Finally, we'll compute $\\sigma_{ij} = \\sigma_{i}\\cdot\\sigma_{j}\\cdot\\rho_{ij}$."
   ]
  },
  {
   "cell_type": "code",
   "execution_count": 28,
   "id": "03261187-f9c3-4f9e-9368-3e5786c4dfb3",
   "metadata": {},
   "outputs": [],
   "source": [
    "Σ₁ = Array{Float64,2}(undef, length(list_of_all_firms), length(list_of_all_firms));\n",
    "for i ∈ eachindex(list_of_all_firms)\n",
    "\n",
    "    row_ticker = list_of_all_firms[i];\n",
    "    σᵢ = parameters_df[i,:volatility];\n",
    "    \n",
    "    for j ∈ eachindex(list_of_all_firms)\n",
    "\n",
    "        col_tikcer = list_of_all_firms[j];\n",
    "        σⱼ = parameters_df[j,:volatility];\n",
    "        Σ₁[i,j] = σᵢ*σⱼ*ρ[i,j];\n",
    "    end\n",
    "end"
   ]
  },
  {
   "cell_type": "markdown",
   "id": "21726a8f-3a3d-4136-b3c6-2d0c67123391",
   "metadata": {},
   "source": [
    "#### Check: Do we recover the values estimated from `module 2`?\n",
    "The diagonal of the `Σ₁` matrix should be the variance of the return, i.e., $\\sigma_{i}^{2}$ for firm $i$. Thus, we can compare the `sqrt` of the diagonal value in the `Σ₁` matrix with the volatility estimated in `module 2`. Let's do this for a random set of firms, in combination with the [@assert macro](https://docs.julialang.org/en/v1/base/base/#Base.@assert) and the [isapprox function](https://docs.julialang.org/en/v1/base/math/#Base.isapprox).\n",
    "* First, let's construct a unique set of firms and store them in the `random_test_ticker_set` variable, where we specify the number of firms in the `number_of_random_firms` variable. We'll construct the `random_test_ticker_set` using a `while` loop."
   ]
  },
  {
   "cell_type": "code",
   "execution_count": 25,
   "id": "01b00b42-28ac-40ca-9bfe-9fb413f33046",
   "metadata": {},
   "outputs": [],
   "source": [
    "random_test_ticker_set = Set{String}()\n",
    "number_of_random_firms = 20;\n",
    "while (length(random_test_ticker_set) != number_of_random_firms)\n",
    "    test_ticker = rand(list_of_all_firms)\n",
    "    push!(random_test_ticker_set,test_ticker)\n",
    "end"
   ]
  },
  {
   "cell_type": "markdown",
   "id": "d450024a-7546-4e09-83a7-e4a3274d871f",
   "metadata": {},
   "source": [
    "Now, let's test the previous volatility estimates for firm $i$, stored in the `σᵢ` variable, and the values computed from the diagonal values of the `Σ₁` array. We'll use a `rtol = 1e-4` threshold in the `isapprox(...)` function."
   ]
  },
  {
   "cell_type": "code",
   "execution_count": 27,
   "id": "0c028f59-b6f1-4b92-b415-43ff19397cc4",
   "metadata": {},
   "outputs": [],
   "source": [
    "for ticker ∈ random_test_ticker_set\n",
    "    i = findfirst(x-> x==ticker,list_of_all_firms)\n",
    "    σᵢ = parameters_df[i,:volatility];\n",
    "    σ̂ᵢ = sqrt(Σ₁[i,i]);\n",
    "    @assert isapprox(σᵢ,σ̂ᵢ,rtol=1e-4)\n",
    "end"
   ]
  },
  {
   "cell_type": "code",
   "execution_count": 11,
   "id": "ef3ac4f7-6a4d-4ab7-b48d-5076b91d7140",
   "metadata": {},
   "outputs": [
    {
     "ename": "LoadError",
     "evalue": "UndefVarError: `log_growth_value_array` not defined",
     "output_type": "error",
     "traceback": [
      "UndefVarError: `log_growth_value_array` not defined",
      "",
      "Stacktrace:",
      " [1] top-level scope",
      "   @ In[11]:1"
     ]
    }
   ],
   "source": [
    "Σ = cov(log_growth_value_array) |> x-> *(x,1/252)"
   ]
  },
  {
   "cell_type": "code",
   "execution_count": 12,
   "id": "57a823f6-22a9-4789-8993-35423bad5f74",
   "metadata": {},
   "outputs": [
    {
     "data": {
      "text/plain": [
       "0.10996151193800309"
      ]
     },
     "execution_count": 12,
     "metadata": {},
     "output_type": "execute_result"
    }
   ],
   "source": [
    "sqrt(Σ[377,377])"
   ]
  },
  {
   "cell_type": "markdown",
   "id": "12e8df3d-8b71-44d7-9bbe-aa0af2770124",
   "metadata": {},
   "source": [
    "## Objective 2: Compute the performance of random portfolios for firms in $\\mathcal{D}$\n",
    "Fill me in"
   ]
  },
  {
   "cell_type": "markdown",
   "id": "22b5f793-b1cc-487a-952d-c424933c4480",
   "metadata": {},
   "source": [
    "## Disclaimer and Risks\n",
    "__This content is offered solely for training and informational purposes__. No offer or solicitation to buy or sell securities or derivative products or any investment or trading advice or strategy is made, given, or endorsed by the teaching team. \n",
    "\n",
    "__Trading involves risk__. Carefully review your financial situation before investing in securities, futures contracts, options, or commodity interests. Past performance, whether actual or indicated by historical tests of strategies, is no guarantee of future performance or success. Trading is generally inappropriate for someone with limited resources, investment or trading experience, or a low-risk tolerance.  Only risk capital that is not required for living expenses.\n",
    "\n",
    "__You are fully responsible for any investment or trading decisions you make__. Such decisions should be based solely on evaluating your financial circumstances, investment or trading objectives, risk tolerance, and liquidity needs."
   ]
  }
 ],
 "metadata": {
  "kernelspec": {
   "display_name": "Julia 1.10.0",
   "language": "julia",
   "name": "julia-1.10"
  },
  "language_info": {
   "file_extension": ".jl",
   "mimetype": "application/julia",
   "name": "julia",
   "version": "1.10.0"
  }
 },
 "nbformat": 4,
 "nbformat_minor": 5
}
