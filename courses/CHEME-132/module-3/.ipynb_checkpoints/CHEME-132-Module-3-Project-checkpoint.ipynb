{
 "cells": [
  {
   "cell_type": "markdown",
   "id": "44286beb-7f05-49f1-9a59-4c6d012e7cf6",
   "metadata": {},
   "source": [
    "# Project: Compute the best allocation for a collection of equities\n",
    "Fill me in\n",
    "\n",
    "## Learning objectives\n",
    "This project will familiarize students with constructing and simulating multi-asset portfolios consisting of equities using multi-asset geometric Brownian motion. Here, you'll couple the price simulation with a simple [Evolutionary algorithm](https://en.wikipedia.org/wiki/Evolutionary_algorithm) to compute a `close-to-optimal` allocation vector $\\omega$.\n",
    "\n",
    "* __Prerequisite__: Load and clean the historical dataset. The data we'll explore is daily open-high-low-close values for firms in the [S&P500 index](https://en.wikipedia.org/wiki/S%26P_500) between `01-03-2018` and `12-29-2023`\n",
    "* __Objective 1__: Compute the return covariance matrix $\\Sigma$ for firms in ticker set $\\mathcal{L}$ using the correlation matrix.\n",
    "* __Objective 2__: Compute an optimal portfolio allocation using an evolutionary algorithm"
   ]
  },
  {
   "cell_type": "markdown",
   "id": "05c55694-f89e-427d-85e3-38974208513f",
   "metadata": {},
   "source": [
    "## Setup\n",
    "We set up the computational environment by including the `Include.jl` file. The `Include.jl` file loads external packages, various functions we will use in the exercise, and custom types to model the components of our example problem. \n",
    "* See the [Julia programming language documentation](https://docs.julialang.org/en/v1/) and the [VLQuantitativeFinancePackage.jl documentation](https://github.com/varnerlab/VLQuantitativeFinancePackage.jl) for additional information on the functions and types used in this study. "
   ]
  },
  {
   "cell_type": "code",
   "execution_count": 2,
   "id": "2cc8e58a-36db-43c1-a874-ce7315a0ad73",
   "metadata": {},
   "outputs": [
    {
     "name": "stderr",
     "output_type": "stream",
     "text": [
      "\u001b[32m\u001b[1m    Updating\u001b[22m\u001b[39m git-repo `https://github.com/varnerlab/VLQuantitativeFinancePackage.jl.git`\n",
      "\u001b[32m\u001b[1m   Resolving\u001b[22m\u001b[39m package versions...\n",
      "\u001b[32m\u001b[1m  No Changes\u001b[22m\u001b[39m to `~/Desktop/julia_work/CHEME-130-eCornell-Repository/courses/CHEME-132/module-3/Project.toml`\n",
      "\u001b[32m\u001b[1m  No Changes\u001b[22m\u001b[39m to `~/Desktop/julia_work/CHEME-130-eCornell-Repository/courses/CHEME-132/module-3/Manifest.toml`\n",
      "\u001b[32m\u001b[1m  Activating\u001b[22m\u001b[39m project at `~/Desktop/julia_work/CHEME-130-eCornell-Repository/courses/CHEME-132/module-3`\n",
      "\u001b[32m\u001b[1m  No Changes\u001b[22m\u001b[39m to `~/Desktop/julia_work/CHEME-130-eCornell-Repository/courses/CHEME-132/module-3/Project.toml`\n",
      "\u001b[32m\u001b[1m  No Changes\u001b[22m\u001b[39m to `~/Desktop/julia_work/CHEME-130-eCornell-Repository/courses/CHEME-132/module-3/Manifest.toml`\n",
      "\u001b[32m\u001b[1m    Updating\u001b[22m\u001b[39m registry at `~/.julia/registries/General.toml`\n",
      "\u001b[32m\u001b[1m    Updating\u001b[22m\u001b[39m git-repo `https://github.com/varnerlab/VLQuantitativeFinancePackage.jl.git`\n",
      "\u001b[32m\u001b[1m  No Changes\u001b[22m\u001b[39m to `~/Desktop/julia_work/CHEME-130-eCornell-Repository/courses/CHEME-132/module-3/Project.toml`\n",
      "\u001b[32m\u001b[1m  No Changes\u001b[22m\u001b[39m to `~/Desktop/julia_work/CHEME-130-eCornell-Repository/courses/CHEME-132/module-3/Manifest.toml`\n"
     ]
    }
   ],
   "source": [
    "include(\"Include.jl\");"
   ]
  },
  {
   "cell_type": "markdown",
   "id": "66b3d092-86a0-43a0-ae42-8727d9ac93fb",
   "metadata": {
    "jp-MarkdownHeadingCollapsed": true
   },
   "source": [
    "## Prerequisites: Load and clean the historical dataset\n",
    "We gathered a daily open-high-low-close `dataset` for each firm in the [S&P500](https://en.wikipedia.org/wiki/S%26P_500) from `01-03-2018` until `12-29-2023`, along with data for a few exchange-traded funds and volatility products during that time. \n",
    "* We load the `orignal_dataset` by calling the `MyMarketDataSet()` function and remove firms that do not have the maximum number of trading days. The cleaned dataset $\\mathcal{D}$ is stored in the `dataset` variable, where the dataset $\\mathcal{D}$ has data for $\\mathcal{L}$ firms, held in the `list_of_all_firms` variable (sorted alphabetically)."
   ]
  },
  {
   "cell_type": "code",
   "execution_count": 3,
   "id": "3b8a237b-ef12-4af2-b8f2-ba99dcf3cb3b",
   "metadata": {},
   "outputs": [],
   "source": [
    "original_dataset = MyMarketDataSet() |> x-> x[\"dataset\"];"
   ]
  },
  {
   "cell_type": "markdown",
   "id": "2dd7acd4-2fc3-44c8-986e-4da383e681ba",
   "metadata": {},
   "source": [
    "### Clean the data\n",
    "Not all tickers in our dataset have the maximum number of trading days for various reasons, e.g., acquisition or de-listing events. Let's collect only those tickers with the maximum number of trading days.\n",
    "\n",
    "* First, let's compute the number of records for a company that we know has a maximum value, e.g., `AAPL`, and save that value in the `maximum_number_trading_days` variable:"
   ]
  },
  {
   "cell_type": "code",
   "execution_count": 4,
   "id": "6c344172-583a-4170-8ac3-7bd970e8b042",
   "metadata": {},
   "outputs": [],
   "source": [
    "maximum_number_trading_days = original_dataset[\"AAPL\"] |> nrow;"
   ]
  },
  {
   "cell_type": "markdown",
   "id": "a7ce89fa-d1cb-48c0-860b-b9f068011b77",
   "metadata": {},
   "source": [
    "Now, let's iterate through our data and collect only tickers with `maximum_number_trading_days` records. Save that data in the `dataset::Dict{String,DataFrame}` variable:"
   ]
  },
  {
   "cell_type": "code",
   "execution_count": 5,
   "id": "02442421-2d7b-4509-8267-46d163a2f853",
   "metadata": {},
   "outputs": [],
   "source": [
    "dataset = Dict{String,DataFrame}();\n",
    "for (ticker,data) ∈ original_dataset\n",
    "    if (nrow(data) == maximum_number_trading_days)\n",
    "        dataset[ticker] = data;\n",
    "    end\n",
    "end\n",
    "dataset;"
   ]
  },
  {
   "cell_type": "markdown",
   "id": "68810283-5441-497f-9171-30edac7b3edf",
   "metadata": {},
   "source": [
    "Then, get a list of firms that we have in the cleaned-up `dataset` and save it in the `list_of_all_firms` array (we sort these alphabetically):"
   ]
  },
  {
   "cell_type": "code",
   "execution_count": 6,
   "id": "7cffadf3-82ec-41f7-9811-45f2a2933f62",
   "metadata": {},
   "outputs": [],
   "source": [
    "list_of_all_firms = keys(dataset) |> collect |> sort;"
   ]
  },
  {
   "cell_type": "markdown",
   "id": "26f0855d-8f4d-4df3-9fab-5d175232c285",
   "metadata": {},
   "source": [
    "Finally, we set some constant values that are used throughout the study. In particular, the value of $\\Delta{t}$ holds the time step that we'll use (see below for a discussion of the value), and we'll specify the number of trading days to simulate in the `T` variable:"
   ]
  },
  {
   "cell_type": "code",
   "execution_count": 7,
   "id": "d49a2dc9-36b6-49a9-837e-e9226f7004f4",
   "metadata": {},
   "outputs": [],
   "source": [
    "Δt = (1.0/252.0);\n",
    "T = 48;\n",
    "all_range = range(1,stop=maximum_number_trading_days,step=1) |> collect;"
   ]
  },
  {
   "cell_type": "markdown",
   "id": "9c6ad5ff-a7fd-44cb-850a-0235eeca50ef",
   "metadata": {
    "jp-MarkdownHeadingCollapsed": true
   },
   "source": [
    "## Objective 1: Compute the return covariance matrix $\\Sigma$ for firms in the ticker set $\\mathcal{L}$\n",
    "Estimate the covariance matrix $\\Sigma$ and the growth rate vector $\\mu$ from the log growth (return) values by computing the correlation. Begin by calculating the log growth array for $\\mathcal{L}$ firms in `dataset` $\\mathcal{D}$ and store this in the `log_growth_array` variable using the `log_return_matrix(...)` function.\n",
    "* The `log_growth_array` will be a `N`$\\times\\dim\\mathcal{L}$ array, with time values on the `rows` and firms on the `columns.` Once we have the `log_growth_array,` compute the covariance matrix $\\Sigma$ by computing the correlation matrix from the `log_growth_array`; this is `approach 1` from the example."
   ]
  },
  {
   "cell_type": "code",
   "execution_count": 8,
   "id": "7c2988d8-8df5-4e26-8b88-768497e88b94",
   "metadata": {},
   "outputs": [],
   "source": [
    "log_growth_array = log_return_matrix(dataset, list_of_all_firms);"
   ]
  },
  {
   "cell_type": "markdown",
   "id": "e5d0c299-760e-4877-8091-d157ebfc08a3",
   "metadata": {},
   "source": [
    "Next, load the `Parameters-SP500-2018-2023.csv` file we saved previously in `module 2` using the `read(...)` function exported by the [CSV.jl package](https://github.com/JuliaData/CSV.jl). We will load this data into a [DataFrame](https://dataframes.juliadata.org/stable/), storing the values in the `parameters_df` variable:"
   ]
  },
  {
   "cell_type": "code",
   "execution_count": 9,
   "id": "8c929280-7369-485a-a792-326369687a86",
   "metadata": {},
   "outputs": [],
   "source": [
    "parameters_df = CSV.read(joinpath(_PATH_TO_DATA, \"Parameters-SP500-2018-2023.csv\"), DataFrame);"
   ]
  },
  {
   "cell_type": "markdown",
   "id": "b855d75f-2a1b-4a05-a448-c548d7f4e92e",
   "metadata": {},
   "source": [
    "Next, compute the [correlation](https://en.wikipedia.org/wiki/Correlation) between the firms in the `dataset` $\\mathcal{D}$, i.e., between the columns in the `log_growth_array`. Use the [cor function](https://docs.julialang.org/en/v1/stdlib/Statistics/#Statistics.cor) exported by the [Statistics module, which is part of the Julia standard library](https://docs.julialang.org/en/v1/stdlib/Statistics/#Statistics). \n",
    "* The [cor function](https://docs.julialang.org/en/v1/stdlib/Statistics/#Statistics.cor) takes the `log_growth_array` as an argument and produces the correlation matrix $\\rho$, a symmetric $\\dim\\mathcal{D}\\times\\dim\\mathcal{D}$ matrix where the elements $\\rho_{ij}\\in\\rho$ describe the correlation between the returns of firm $i$ and $j$, and $p_{ii} = 1$. Let's store the correlation matrix in the $\\rho$ variable."
   ]
  },
  {
   "cell_type": "code",
   "execution_count": 10,
   "id": "9270a9ac-2992-4d26-a52d-0b8cb8c701d3",
   "metadata": {},
   "outputs": [],
   "source": [
    "ρ = cor(log_growth_array);"
   ]
  },
  {
   "cell_type": "markdown",
   "id": "cdcadaa5-e238-45e3-bf32-c4a0ae3f2f49",
   "metadata": {},
   "source": [
    "Compute the covariance matrix $\\Sigma$. The matrix $\\Sigma$ is a $\\dim\\mathcal{L}\\times\\dim\\mathcal{L}$ symmetric array, where $\\sigma_{ij}\\in\\Sigma$ equals $\\sigma_{ij} = \\sigma_{i}\\cdot\\sigma_{j}\\cdot\\rho_{ij}$ and $\\sigma_{i}$ denotes the volatility of the returns of firm $i$, and $\\rho_{ij}$ denotes the correlation between the return of firm $i$ and $j$.\n",
    "* Use two nested `for` loops to compute $\\sigma_{ij}\\in\\Sigma$. First, initialize storage for the $\\Sigma$ array in the `Σ₁` variable. In the outer loop (index `i` below), select a `row_ticker` and get its volatility value $\\sigma_{i}$.\n",
    "* Then move into the inner loop (index `j` below), select a `column_ticker,` get $\\sigma_{j}$, the volatility for firm $j$, and look up the correlation between firms $i$ and $j$. Finally, we'll compute $\\sigma_{ij} = \\sigma_{i}\\cdot\\sigma_{j}\\cdot\\rho_{ij}$."
   ]
  },
  {
   "cell_type": "code",
   "execution_count": 12,
   "id": "85145d84-4734-4861-bd08-1a78f756b573",
   "metadata": {},
   "outputs": [],
   "source": [
    "Σ₁ = Array{Float64,2}(undef, length(list_of_all_firms), length(list_of_all_firms));\n",
    "for i ∈ eachindex(list_of_all_firms)\n",
    "\n",
    "    row_ticker = list_of_all_firms[i];\n",
    "    σᵢ = parameters_df[i,:volatility];\n",
    "    \n",
    "    for j ∈ eachindex(list_of_all_firms)\n",
    "\n",
    "        col_tikcer = list_of_all_firms[j];\n",
    "        σⱼ = parameters_df[j,:volatility];\n",
    "        Σ₁[i,j] = σᵢ*σⱼ*ρ[i,j];\n",
    "    end\n",
    "end"
   ]
  },
  {
   "cell_type": "markdown",
   "id": "f071a2f4-63a5-41be-94e1-09d057f1d578",
   "metadata": {},
   "source": [
    "## Objective 2: Compute the future share price dynamics for firms in the ticker set $\\mathcal{L}$\n",
    "Now that we have the covariance $\\Sigma$ and drift parameters $\\mu$ from `module 2`, we can simulate the simultaneous price movement of multiple assets using the multi-asset geometric Brownian motion model. This allows us to project potential prices, i.e., the performance of portfolio $\\mathcal{P}$\n",
    "\n",
    "* First, we select some `tickers`$\\in\\mathcal{P}$ and compute the drift and covariance for the selected tickers. Then, we generate a random starting time index and initial share price for each ticker. Next, we simulate the share prices for all `tickers`$\\in\\mathcal{P}$ forward in time. Finally, we compare simulated versus observed market values."
   ]
  },
  {
   "cell_type": "code",
   "execution_count": 13,
   "id": "cd08a2a3-5a1a-4b7a-99de-6c4244e2aba6",
   "metadata": {},
   "outputs": [],
   "source": [
    "my_list_of_tickers = [\"AMD\",\"INTC\",\"MU\",\"PFE\",\"MRK\"];\n",
    "my_list_of_firm_ids = Array{Int64,1}();\n",
    "for ticker ∈ my_list_of_tickers\n",
    "    firm_index = findfirst(x->x==ticker, list_of_all_firms);    \n",
    "    push!(my_list_of_firm_ids, firm_index)\n",
    "end"
   ]
  },
  {
   "cell_type": "markdown",
   "id": "e685e9ad-3b64-4653-93a9-5b1402de1691",
   "metadata": {},
   "source": [
    "Now that you have selected the firm tickers in your risky portfolio compute the firm-specific drift vector and covariance matrix. We'll store these in the $\\hat{\\mu}$ and $\\hat{\\Sigma}$ variables. First, we'll construct the drift vector $\\hat{\\mu}$ using the `parameters_df` values, i.e., the values estimated from the previous module. \n",
    "* We initialize storage on `L1` to hold the drift values in the `μ̂` variable (type `Array{Float64,1}`). Then, we iterate through the indexes of our desired firms on `L2`, where for each iteration of the loop, we select the `:drift` field from `parameters_df` and append it (using the [push! function](https://docs.julialang.org/en/v1/base/collections/#Base.push!)) to the `μ̂` array."
   ]
  },
  {
   "cell_type": "code",
   "execution_count": 15,
   "id": "d85bbd22-9db0-40af-bb01-82a3d4022b5d",
   "metadata": {},
   "outputs": [],
   "source": [
    "μ̂ = Array{Float64,1}();\n",
    "for firm_index ∈ my_list_of_firm_ids\n",
    "    push!(μ̂, parameters_df[firm_index,:drift])\n",
    "end"
   ]
  },
  {
   "cell_type": "markdown",
   "id": "469a2c15-e74e-48a4-b402-2cf8ad841aa2",
   "metadata": {},
   "source": [
    "Next, we'll compute the firm-specific covariance $\\hat{\\Sigma}$ matrix for the `data` version of the problem. Note, you can use values from `parameters_df,` i.e., the values estimated from the previous module, by switching the covariance matrix to `Σ₁` on `L7`.\n",
    "* We store the number of firms we have selected in the `my_number_of_selected_firm` variable by calling the [length function](https://docs.julialang.org/en/v1/base/arrays/#Base.length-Tuple{AbstractArray}) on `my_list_of_firm_ids` on `L1`. Then, we allocate storage for the firm-specific covariance `Σ̂` on `L2`, which is of type `Array{Float64,2}`.\n",
    "* We then use nested `for` loops to fill in the `Σ̂` array values. The outer for loop $i$ iterates over the `rows,` and the inner for loop $j$ iterates over the `columns.` We select values from `my_list_of_firm_ids` (which correspond to the `row, column` coordinates in the original full covariance matrix), select the corresponding covariance value, and store it in the covariance matrix `Σ̂` on `L7`."
   ]
  },
  {
   "cell_type": "code",
   "execution_count": 17,
   "id": "8dbd4a86-f9c6-4259-bfb8-21c60964b643",
   "metadata": {},
   "outputs": [],
   "source": [
    "my_number_of_selected_firms = length(my_list_of_firm_ids)\n",
    "Σ̂ = Array{Float64,2}(undef, my_number_of_selected_firms, my_number_of_selected_firms);\n",
    "for i ∈ eachindex(my_list_of_firm_ids)\n",
    "    row_firm_index = my_list_of_firm_ids[i]\n",
    "    for j ∈ eachindex(my_list_of_firm_ids)\n",
    "        col_firm_index = my_list_of_firm_ids[j]\n",
    "        Σ̂[i,j] = Σ₁[row_firm_index, col_firm_index]; # You choose either Σ₁ or Σ₂\n",
    "    end\n",
    "end"
   ]
  },
  {
   "cell_type": "markdown",
   "id": "99999689-aff4-4e4e-b056-ae0fca05ee74",
   "metadata": {},
   "source": [
    "Finally, factor the covariance matrix $\\Sigma = \\mathbf{A}\\mathbf{A}^{\\top}$ using a [Cholesky factorization](https://en.wikipedia.org/wiki/Cholesky_decomposition) to get the $a_{ij}$ coefficients which appear in the noise term of the multi-asset geometric Brownian motion expression. We'll use the [Cholesky factorization](https://en.wikipedia.org/wiki/Cholesky_decomposition) routine implemented in the [LinearAlgebra.jl package](https://docs.julialang.org/en/v1/stdlib/LinearAlgebra/) which is part of the [Julia standard library](https://docs.julialang.org/en/v1/)\n",
    "* On `L1`, we call the [cholesky function](https://docs.julialang.org/en/v1/stdlib/LinearAlgebra/#LinearAlgebra.cholesky) with the covariance matrix `Σ̂` as an argument. This returns the matrix factorization in the [Cholesky type](https://docs.julialang.org/en/v1/stdlib/LinearAlgebra/#LinearAlgebra.Cholesky), which has the `L` and `U` fields, holding the `lower` and `upper` triangular factorizations, respectively. We convert the `lower` triangular factor into a [Matrix type](https://docs.julialang.org/en/v1/base/arrays/#Base.Matrix) to do computations with it later. We store this matrix in the variable $\\mathbf{A}$, where the coefficients $a_{ij}\\in\\mathbf{A}$."
   ]
  },
  {
   "cell_type": "code",
   "execution_count": 23,
   "id": "def944dd-6237-4385-a311-74d4dc4c4a76",
   "metadata": {},
   "outputs": [
    {
     "data": {
      "text/plain": [
       "5×5 Matrix{Float64}:\n",
       " 0.338796  0.0       0.0       0.0       0.0\n",
       " 0.0       0.208311  0.0       0.0       0.0\n",
       " 0.0       0.0       0.231253  0.0       0.0\n",
       " 0.0       0.0       0.0       0.155443  0.0\n",
       " 0.0       0.0       0.0       0.0       0.12785"
      ]
     },
     "execution_count": 23,
     "metadata": {},
     "output_type": "execute_result"
    }
   ],
   "source": [
    "factors = cholesky(Σ̂);\n",
    "A = factors.L |> x-> Matrix(x)\n",
    "# Ā = diagm(0 => diag(A))"
   ]
  },
  {
   "cell_type": "markdown",
   "id": "ffadb4ed-7c12-4ba3-8dc1-12f420833ceb",
   "metadata": {},
   "source": [
    "### TODO: Set the initial conditions, the time range, and other parameters\n",
    "Now, we set up several constants and other data for the multi-asset simulation. Feel free to change these values and see what happens!\n",
    "* We specify the simulation's starting date in the `startdate` variable, which is a [Date type](https://docs.julialang.org/en/v1/stdlib/Dates/#Dates). For this example, we'll select `Jan-03, 2023`, the first trading day of `2023`.\n",
    "* We set the number of days we will simulate in the `T` variable and specify the number of sample paths we want to compute in the `number_of_trials` variable.\n",
    "* The other variables, i.e., `Δt,` and `number_of_states,` are derived from the other constants or specified. "
   ]
  },
  {
   "cell_type": "code",
   "execution_count": 19,
   "id": "46918726-eb6e-4d6b-89e6-ddf5c783a241",
   "metadata": {},
   "outputs": [],
   "source": [
    "startdate = Date(2023,01,03); # must be in the date range of the data, i.e., 03-Jan 2018 to 29-Dec, 2023\n",
    "T = 250; # how many days will we simulate?\n",
    "number_of_trials = 500; # number of sample paths we calculate\n",
    "\n",
    "start_index = 1; # we are starting at the beginning of the year\n",
    "stop_index = start_index + T\n",
    "\n",
    "# ---- DO NOT CHANGE BELOW HERE ---------------------------- #\n",
    "number_of_states = length(my_list_of_tickers);\n",
    "# ---- DO NOT CHANGE ABOVE HERE ---------------------------- #"
   ]
  },
  {
   "cell_type": "markdown",
   "id": "aa33b2fe-e4b6-4a2d-a8ae-56e6d979e8db",
   "metadata": {},
   "source": [
    "Next, get the initial share price, which we approximate as the [volume weighted average price](https://en.wikipedia.org/wiki/Volume-weighted_average_price) or `VWAP` for each asset in the portfolio for the `startdate`.  We store these values in the `Sₒ::Array{Float64,1}` variable.\n",
    "* First, on `L1`, we initialize storage to hold the initial prices in the `Sₒ` variable, which is of type `Array{Float64,1}`. Then, we iterate through each `ticker` value in `my_list_of_tickers,` select the price data for `ticker` from `dataset,` and store it in the `price_df` variable (which is of type [DataFrame](https://dataframes.juliadata.org/stable/)).\n",
    "* `L4` is a compound statement in which we first select trading days equal to or after the `startdate` from `price_df`, then select the first `VWAP` from this list and set it equal to the `startprice` variable.\n",
    "* `L5` we use the [push! function](https://docs.julialang.org/en/v1/base/collections/#Base.push!) to add initial `VWAP` values to the `Sₒ` array."
   ]
  },
  {
   "cell_type": "code",
   "execution_count": 20,
   "id": "c18ebe2e-f5dd-49f7-98c6-b6a693aebf1f",
   "metadata": {},
   "outputs": [],
   "source": [
    "Sₒ = Array{Float64,1}()\n",
    "for ticker ∈ my_list_of_tickers\n",
    "    price_df = dataset[ticker];\n",
    "    startprice = filter(:timestamp => x-> x >= startdate, price_df) |> x-> x[1,:volume_weighted_average_price]\n",
    "    push!(Sₒ,startprice)\n",
    "end"
   ]
  },
  {
   "cell_type": "markdown",
   "id": "a69fb435-8edd-4bde-be82-978982ac4445",
   "metadata": {},
   "source": [
    "### TODO: Run the multi-asset simulation to compute the share price trajectories\n",
    "Following from the single asset case, we construct an instance of the `MyMultipleAssetGeometricBrownianMotionEquityModel` type, where we pass the drift vector $\\mu$ and the factored covariance matrix $\\mathbf{A}$ into the `build(...)` method:"
   ]
  },
  {
   "cell_type": "code",
   "execution_count": 21,
   "id": "8258e242-5d15-45d9-b55e-33dcebcd9afa",
   "metadata": {},
   "outputs": [],
   "source": [
    "model = build(MyMultipleAssetGeometricBrownianMotionEquityModel, (\n",
    "        μ = μ̂, A = A\n",
    "));"
   ]
  },
  {
   "cell_type": "markdown",
   "id": "67e92df3-2347-4dc5-9b74-763f7dbfedb5",
   "metadata": {},
   "source": [
    "Then we pass the start time `T₁,` the stop time `T₂`  for the simulation, the initial conditions `Sₒ,` the time step `Δt,` and other simulation parameters along with the `model` instance into the `sample(...)` function. This function computes `number_of_paths` sample paths and returns the simulated data in the `simulation_dictionary` variable.\n",
    "* The `simulation_dictionary` data structure holds a simulation array for each sample path, where the simulation array has time in the first column and the simulated price for each asset in columns $2\\dots\\dim\\mathcal{L}$. Each row is a time value; each simulation array will have `T+1` rows."
   ]
  },
  {
   "cell_type": "code",
   "execution_count": 22,
   "id": "7b050039-4aee-4f8b-a215-7d6d1d00e750",
   "metadata": {},
   "outputs": [],
   "source": [
    "T₁ = start_index*Δt\n",
    "T₂ = stop_index*Δt\n",
    "simulation_dictionary = VLQuantitativeFinancePackage.sample(model, (Sₒ = Sₒ, T₁ = T₁, T₂ = T₂, Δt = Δt), \n",
    "    number_of_paths = number_of_trials);"
   ]
  },
  {
   "cell_type": "markdown",
   "id": "ad5123fa-8fa1-4bc5-b7f6-419adda2c3b1",
   "metadata": {},
   "source": [
    "## Objective 3: Compute an optimal forward-looking portfolio allocation using an evolutionary algorithm"
   ]
  },
  {
   "cell_type": "markdown",
   "id": "e6aaa322-53cf-4bd5-ae1a-0fea89789e07",
   "metadata": {},
   "source": [
    "## Disclaimer and Risks\n",
    "__This content is offered solely for training and informational purposes__. No offer or solicitation to buy or sell securities or derivative products or any investment or trading advice or strategy is made, given, or endorsed by the teaching team. \n",
    "\n",
    "__Trading involves risk__. Carefully review your financial situation before investing in securities, futures contracts, options, or commodity interests. Past performance, whether actual or indicated by historical tests of strategies, is no guarantee of future performance or success. Trading is generally inappropriate for someone with limited resources, investment or trading experience, or a low-risk tolerance.  Only risk capital that is not required for living expenses.\n",
    "\n",
    "__You are fully responsible for any investment or trading decisions you make__. Such decisions should be based solely on evaluating your financial circumstances, investment or trading objectives, risk tolerance, and liquidity needs."
   ]
  },
  {
   "cell_type": "code",
   "execution_count": null,
   "id": "26c68591-1e03-47c4-9c00-1b3571706ea9",
   "metadata": {},
   "outputs": [],
   "source": []
  }
 ],
 "metadata": {
  "kernelspec": {
   "display_name": "Julia 1.10.0",
   "language": "julia",
   "name": "julia-1.10"
  },
  "language_info": {
   "file_extension": ".jl",
   "mimetype": "application/julia",
   "name": "julia",
   "version": "1.10.0"
  }
 },
 "nbformat": 4,
 "nbformat_minor": 5
}
