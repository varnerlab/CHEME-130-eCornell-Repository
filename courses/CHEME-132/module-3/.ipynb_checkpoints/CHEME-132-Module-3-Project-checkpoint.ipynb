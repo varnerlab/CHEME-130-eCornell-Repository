{
 "cells": [
  {
   "cell_type": "markdown",
   "id": "44286beb-7f05-49f1-9a59-4c6d012e7cf6",
   "metadata": {},
   "source": [
    "# Project: Compute the best allocation for a collection of equities\n",
    "Fill me in\n",
    "\n",
    "## Learning objectives\n",
    "This project will familiarize students with constructing and simulating multi-asset portfolios consisting of equities using multi-asset geometric Brownian motion. Here, you'll couple the price simulation with a simple [Evolutionary algorithm](https://en.wikipedia.org/wiki/Evolutionary_algorithm) to compute a `close-to-optimal` allocation vector $\\omega$.\n",
    "\n",
    "* __Prerequisite__: Load and clean the historical dataset. The data we'll explore is daily open-high-low-close values for firms in the [S&P500 index](https://en.wikipedia.org/wiki/S%26P_500) between `01-03-2018` and `12-29-2023`\n",
    "* __Objective 1__: Compute the return covariance matrix $\\Sigma$ for firms in ticker set $\\mathcal{L}$ using the correlation matrix.\n",
    "* __Objective 2__: Compute an optimal portfolio allocation using an evolutionary algorithm"
   ]
  },
  {
   "cell_type": "markdown",
   "id": "05c55694-f89e-427d-85e3-38974208513f",
   "metadata": {},
   "source": [
    "## Setup\n",
    "We set up the computational environment by including the `Include.jl` file. The `Include.jl` file loads external packages, various functions we will use in the exercise, and custom types to model the components of our example problem. \n",
    "* See the [Julia programming language documentation](https://docs.julialang.org/en/v1/) and the [VLQuantitativeFinancePackage.jl documentation](https://github.com/varnerlab/VLQuantitativeFinancePackage.jl) for additional information on the functions and types used in this study. "
   ]
  },
  {
   "cell_type": "code",
   "execution_count": 1,
   "id": "2cc8e58a-36db-43c1-a874-ce7315a0ad73",
   "metadata": {},
   "outputs": [
    {
     "name": "stderr",
     "output_type": "stream",
     "text": [
      "\u001b[32m\u001b[1m    Updating\u001b[22m\u001b[39m git-repo `https://github.com/varnerlab/VLQuantitativeFinancePackage.jl.git`\n",
      "\u001b[32m\u001b[1m   Resolving\u001b[22m\u001b[39m package versions...\n",
      "\u001b[32m\u001b[1m  No Changes\u001b[22m\u001b[39m to `~/Desktop/julia_work/CHEME-130-eCornell-Repository/courses/CHEME-132/module-3/Project.toml`\n",
      "\u001b[32m\u001b[1m  No Changes\u001b[22m\u001b[39m to `~/Desktop/julia_work/CHEME-130-eCornell-Repository/courses/CHEME-132/module-3/Manifest.toml`\n",
      "\u001b[32m\u001b[1m  Activating\u001b[22m\u001b[39m project at `~/Desktop/julia_work/CHEME-130-eCornell-Repository/courses/CHEME-132/module-3`\n",
      "\u001b[32m\u001b[1m  No Changes\u001b[22m\u001b[39m to `~/Desktop/julia_work/CHEME-130-eCornell-Repository/courses/CHEME-132/module-3/Project.toml`\n",
      "\u001b[32m\u001b[1m  No Changes\u001b[22m\u001b[39m to `~/Desktop/julia_work/CHEME-130-eCornell-Repository/courses/CHEME-132/module-3/Manifest.toml`\n",
      "\u001b[32m\u001b[1m    Updating\u001b[22m\u001b[39m registry at `~/.julia/registries/General.toml`\n",
      "\u001b[32m\u001b[1m    Updating\u001b[22m\u001b[39m git-repo `https://github.com/varnerlab/POETs.jl.git`\n",
      "\u001b[32m\u001b[1m    Updating\u001b[22m\u001b[39m git-repo `https://github.com/varnerlab/VLQuantitativeFinancePackage.jl.git`\n",
      "\u001b[32m\u001b[1m  No Changes\u001b[22m\u001b[39m to `~/Desktop/julia_work/CHEME-130-eCornell-Repository/courses/CHEME-132/module-3/Project.toml`\n",
      "\u001b[32m\u001b[1m  No Changes\u001b[22m\u001b[39m to `~/Desktop/julia_work/CHEME-130-eCornell-Repository/courses/CHEME-132/module-3/Manifest.toml`\n"
     ]
    }
   ],
   "source": [
    "include(\"Include.jl\");"
   ]
  },
  {
   "cell_type": "markdown",
   "id": "66b3d092-86a0-43a0-ae42-8727d9ac93fb",
   "metadata": {
    "jp-MarkdownHeadingCollapsed": true
   },
   "source": [
    "## Prerequisites: Load and clean the historical dataset\n",
    "We gathered a daily open-high-low-close `dataset` for each firm in the [S&P500](https://en.wikipedia.org/wiki/S%26P_500) from `01-03-2018` until `12-29-2023`, along with data for a few exchange-traded funds and volatility products during that time. \n",
    "* We load the `orignal_dataset` by calling the `MyMarketDataSet()` function and remove firms that do not have the maximum number of trading days. The cleaned dataset $\\mathcal{D}$ is stored in the `dataset` variable, where the dataset $\\mathcal{D}$ has data for $\\mathcal{L}$ firms, held in the `list_of_all_firms` variable (sorted alphabetically)."
   ]
  },
  {
   "cell_type": "code",
   "execution_count": 2,
   "id": "3b8a237b-ef12-4af2-b8f2-ba99dcf3cb3b",
   "metadata": {},
   "outputs": [],
   "source": [
    "original_dataset = MyMarketDataSet() |> x-> x[\"dataset\"];"
   ]
  },
  {
   "cell_type": "markdown",
   "id": "2dd7acd4-2fc3-44c8-986e-4da383e681ba",
   "metadata": {},
   "source": [
    "### Clean the data\n",
    "Not all tickers in our dataset have the maximum number of trading days for various reasons, e.g., acquisition or de-listing events. Let's collect only those tickers with the maximum number of trading days.\n",
    "\n",
    "* First, let's compute the number of records for a company that we know has a maximum value, e.g., `AAPL`, and save that value in the `maximum_number_trading_days` variable:"
   ]
  },
  {
   "cell_type": "code",
   "execution_count": 3,
   "id": "6c344172-583a-4170-8ac3-7bd970e8b042",
   "metadata": {},
   "outputs": [],
   "source": [
    "maximum_number_trading_days = original_dataset[\"AAPL\"] |> nrow;"
   ]
  },
  {
   "cell_type": "markdown",
   "id": "a7ce89fa-d1cb-48c0-860b-b9f068011b77",
   "metadata": {},
   "source": [
    "Now, let's iterate through our data and collect only tickers with `maximum_number_trading_days` records. Save that data in the `dataset::Dict{String,DataFrame}` variable:"
   ]
  },
  {
   "cell_type": "code",
   "execution_count": 4,
   "id": "02442421-2d7b-4509-8267-46d163a2f853",
   "metadata": {},
   "outputs": [],
   "source": [
    "dataset = Dict{String,DataFrame}();\n",
    "for (ticker,data) ∈ original_dataset\n",
    "    if (nrow(data) == maximum_number_trading_days)\n",
    "        dataset[ticker] = data;\n",
    "    end\n",
    "end\n",
    "dataset;"
   ]
  },
  {
   "cell_type": "markdown",
   "id": "68810283-5441-497f-9171-30edac7b3edf",
   "metadata": {},
   "source": [
    "Then, get a list of firms that we have in the cleaned-up `dataset` and save it in the `list_of_all_firms` array (we sort these alphabetically):"
   ]
  },
  {
   "cell_type": "code",
   "execution_count": 5,
   "id": "7cffadf3-82ec-41f7-9811-45f2a2933f62",
   "metadata": {},
   "outputs": [],
   "source": [
    "list_of_all_firms = keys(dataset) |> collect |> sort;"
   ]
  },
  {
   "cell_type": "markdown",
   "id": "26f0855d-8f4d-4df3-9fab-5d175232c285",
   "metadata": {},
   "source": [
    "Finally, we set some constant values that are used throughout the study. In particular, the value of $\\Delta{t}$ holds the time step that we'll use (see below for a discussion of the value), and we'll specify the number of trading days to simulate in the `T` variable:"
   ]
  },
  {
   "cell_type": "code",
   "execution_count": 6,
   "id": "d49a2dc9-36b6-49a9-837e-e9226f7004f4",
   "metadata": {},
   "outputs": [],
   "source": [
    "Δt = (1.0/252.0);\n",
    "T = 48;\n",
    "all_range = range(1,stop=maximum_number_trading_days,step=1) |> collect;"
   ]
  },
  {
   "cell_type": "markdown",
   "id": "9c6ad5ff-a7fd-44cb-850a-0235eeca50ef",
   "metadata": {
    "jp-MarkdownHeadingCollapsed": true
   },
   "source": [
    "## Objective 1: Compute the return covariance matrix $\\Sigma$ for firms in the ticker set $\\mathcal{L}$\n",
    "Estimate the covariance matrix $\\Sigma$ and the growth rate vector $\\mu$ from the log growth (return) values by computing the correlation. Begin by calculating the log growth array for $\\mathcal{L}$ firms in `dataset` $\\mathcal{D}$ and store this in the `log_growth_array` variable using the `log_return_matrix(...)` function.\n",
    "* The `log_growth_array` will be a `N`$\\times\\dim\\mathcal{L}$ array, with time values on the `rows` and firms on the `columns.` Once we have the `log_growth_array,` compute the covariance matrix $\\Sigma$ by computing the correlation matrix from the `log_growth_array`; this is `approach 1` from the example."
   ]
  },
  {
   "cell_type": "code",
   "execution_count": 7,
   "id": "7c2988d8-8df5-4e26-8b88-768497e88b94",
   "metadata": {},
   "outputs": [],
   "source": [
    "log_growth_array = log_return_matrix(dataset, list_of_all_firms);"
   ]
  },
  {
   "cell_type": "markdown",
   "id": "e5d0c299-760e-4877-8091-d157ebfc08a3",
   "metadata": {},
   "source": [
    "Next, load the `Parameters-SP500-2018-2023.csv` file we saved previously in `module 2` using the `read(...)` function exported by the [CSV.jl package](https://github.com/JuliaData/CSV.jl). We will load this data into a [DataFrame](https://dataframes.juliadata.org/stable/), storing the values in the `parameters_df` variable:"
   ]
  },
  {
   "cell_type": "code",
   "execution_count": 8,
   "id": "8c929280-7369-485a-a792-326369687a86",
   "metadata": {},
   "outputs": [],
   "source": [
    "parameters_df = CSV.read(joinpath(_PATH_TO_DATA, \"Parameters-SP500-2018-2023.csv\"), DataFrame);"
   ]
  },
  {
   "cell_type": "markdown",
   "id": "b855d75f-2a1b-4a05-a448-c548d7f4e92e",
   "metadata": {},
   "source": [
    "Next, compute the [correlation](https://en.wikipedia.org/wiki/Correlation) between the firms in the `dataset` $\\mathcal{D}$, i.e., between the columns in the `log_growth_array`. Use the [cor function](https://docs.julialang.org/en/v1/stdlib/Statistics/#Statistics.cor) exported by the [Statistics module, which is part of the Julia standard library](https://docs.julialang.org/en/v1/stdlib/Statistics/#Statistics). \n",
    "* The [cor function](https://docs.julialang.org/en/v1/stdlib/Statistics/#Statistics.cor) takes the `log_growth_array` as an argument and produces the correlation matrix $\\rho$, a symmetric $\\dim\\mathcal{D}\\times\\dim\\mathcal{D}$ matrix where the elements $\\rho_{ij}\\in\\rho$ describe the correlation between the returns of firm $i$ and $j$, and $p_{ii} = 1$. Let's store the correlation matrix in the $\\rho$ variable."
   ]
  },
  {
   "cell_type": "code",
   "execution_count": 9,
   "id": "9270a9ac-2992-4d26-a52d-0b8cb8c701d3",
   "metadata": {},
   "outputs": [],
   "source": [
    "ρ = cor(log_growth_array);"
   ]
  },
  {
   "cell_type": "markdown",
   "id": "cdcadaa5-e238-45e3-bf32-c4a0ae3f2f49",
   "metadata": {},
   "source": [
    "Compute the covariance matrix $\\Sigma$. The matrix $\\Sigma$ is a $\\dim\\mathcal{L}\\times\\dim\\mathcal{L}$ symmetric array, where $\\sigma_{ij}\\in\\Sigma$ equals $\\sigma_{ij} = \\sigma_{i}\\cdot\\sigma_{j}\\cdot\\rho_{ij}$ and $\\sigma_{i}$ denotes the volatility of the returns of firm $i$, and $\\rho_{ij}$ denotes the correlation between the return of firm $i$ and $j$.\n",
    "* Use two nested `for` loops to compute $\\sigma_{ij}\\in\\Sigma$. First, initialize storage for the $\\Sigma$ array in the `Σ₁` variable. In the outer loop (index `i` below), select a `row_ticker` and get its volatility value $\\sigma_{i}$.\n",
    "* Then move into the inner loop (index `j` below), select a `column_ticker,` get $\\sigma_{j}$, the volatility for firm $j$, and look up the correlation between firms $i$ and $j$. Finally, we'll compute $\\sigma_{ij} = \\sigma_{i}\\cdot\\sigma_{j}\\cdot\\rho_{ij}$."
   ]
  },
  {
   "cell_type": "code",
   "execution_count": 10,
   "id": "85145d84-4734-4861-bd08-1a78f756b573",
   "metadata": {},
   "outputs": [],
   "source": [
    "Σ₁ = Array{Float64,2}(undef, length(list_of_all_firms), length(list_of_all_firms));\n",
    "for i ∈ eachindex(list_of_all_firms)\n",
    "\n",
    "    row_ticker = list_of_all_firms[i];\n",
    "    σᵢ = parameters_df[i,:volatility];\n",
    "    \n",
    "    for j ∈ eachindex(list_of_all_firms)\n",
    "\n",
    "        col_tikcer = list_of_all_firms[j];\n",
    "        σⱼ = parameters_df[j,:volatility];\n",
    "        Σ₁[i,j] = σᵢ*σⱼ*ρ[i,j];\n",
    "    end\n",
    "end"
   ]
  },
  {
   "cell_type": "markdown",
   "id": "f071a2f4-63a5-41be-94e1-09d057f1d578",
   "metadata": {},
   "source": [
    "## Objective 2: Compute the future share price dynamics for firms in the ticker set $\\mathcal{L}$\n",
    "Now that we have the covariance $\\Sigma$ and drift parameters $\\mu$ from `module 2`, we can simulate the simultaneous price movement of multiple assets using the multi-asset geometric Brownian motion model. This allows us to project potential prices, i.e., the performance of portfolio $\\mathcal{P}$\n",
    "\n",
    "* First, we select some `tickers`$\\in\\mathcal{P}$ and compute the drift and covariance for the selected tickers. Then, we generate a random starting time index and initial share price for each ticker. Next, we simulate the share prices for all `tickers`$\\in\\mathcal{P}$ forward in time. Finally, we compare simulated versus observed market values."
   ]
  },
  {
   "cell_type": "code",
   "execution_count": 11,
   "id": "cd08a2a3-5a1a-4b7a-99de-6c4244e2aba6",
   "metadata": {},
   "outputs": [],
   "source": [
    "my_list_of_tickers = [\"AMD\",\"INTC\",\"MU\",\"PFE\",\"MRK\"];\n",
    "my_list_of_firm_ids = Array{Int64,1}();\n",
    "for ticker ∈ my_list_of_tickers\n",
    "    firm_index = findfirst(x->x==ticker, list_of_all_firms);    \n",
    "    push!(my_list_of_firm_ids, firm_index)\n",
    "end"
   ]
  },
  {
   "cell_type": "markdown",
   "id": "e685e9ad-3b64-4653-93a9-5b1402de1691",
   "metadata": {},
   "source": [
    "Now that you have selected the firm tickers in your risky portfolio compute the firm-specific drift vector and covariance matrix. We'll store these in the $\\hat{\\mu}$ and $\\hat{\\Sigma}$ variables. First, we'll construct the drift vector $\\hat{\\mu}$ using the `parameters_df` values, i.e., the values estimated from the previous module. \n",
    "* We initialize storage on `L1` to hold the drift values in the `μ̂` variable (type `Array{Float64,1}`). Then, we iterate through the indexes of our desired firms on `L2`, where for each iteration of the loop, we select the `:drift` field from `parameters_df` and append it (using the [push! function](https://docs.julialang.org/en/v1/base/collections/#Base.push!)) to the `μ̂` array."
   ]
  },
  {
   "cell_type": "code",
   "execution_count": 12,
   "id": "d85bbd22-9db0-40af-bb01-82a3d4022b5d",
   "metadata": {},
   "outputs": [],
   "source": [
    "μ̂ = Array{Float64,1}();\n",
    "for firm_index ∈ my_list_of_firm_ids\n",
    "    push!(μ̂, parameters_df[firm_index,:drift])\n",
    "end"
   ]
  },
  {
   "cell_type": "markdown",
   "id": "469a2c15-e74e-48a4-b402-2cf8ad841aa2",
   "metadata": {},
   "source": [
    "Next, we'll compute the firm-specific covariance $\\hat{\\Sigma}$ matrix for the `data` version of the problem. Note, you can use values from `parameters_df,` i.e., the values estimated from the previous module, by switching the covariance matrix to `Σ₁` on `L7`.\n",
    "* We store the number of firms we have selected in the `my_number_of_selected_firm` variable by calling the [length function](https://docs.julialang.org/en/v1/base/arrays/#Base.length-Tuple{AbstractArray}) on `my_list_of_firm_ids` on `L1`. Then, we allocate storage for the firm-specific covariance `Σ̂` on `L2`, which is of type `Array{Float64,2}`.\n",
    "* We then use nested `for` loops to fill in the `Σ̂` array values. The outer for loop $i$ iterates over the `rows,` and the inner for loop $j$ iterates over the `columns.` We select values from `my_list_of_firm_ids` (which correspond to the `row, column` coordinates in the original full covariance matrix), select the corresponding covariance value, and store it in the covariance matrix `Σ̂` on `L7`."
   ]
  },
  {
   "cell_type": "code",
   "execution_count": 13,
   "id": "8dbd4a86-f9c6-4259-bfb8-21c60964b643",
   "metadata": {},
   "outputs": [],
   "source": [
    "my_number_of_selected_firms = length(my_list_of_firm_ids)\n",
    "Σ̂ = Array{Float64,2}(undef, my_number_of_selected_firms, my_number_of_selected_firms);\n",
    "for i ∈ eachindex(my_list_of_firm_ids)\n",
    "    row_firm_index = my_list_of_firm_ids[i]\n",
    "    for j ∈ eachindex(my_list_of_firm_ids)\n",
    "        col_firm_index = my_list_of_firm_ids[j]\n",
    "        Σ̂[i,j] = Σ₁[row_firm_index, col_firm_index]; # You choose either Σ₁ or Σ₂\n",
    "    end\n",
    "end"
   ]
  },
  {
   "cell_type": "markdown",
   "id": "99999689-aff4-4e4e-b056-ae0fca05ee74",
   "metadata": {},
   "source": [
    "Finally, factor the covariance matrix $\\Sigma = \\mathbf{A}\\mathbf{A}^{\\top}$ using a [Cholesky factorization](https://en.wikipedia.org/wiki/Cholesky_decomposition) to get the $a_{ij}$ coefficients which appear in the noise term of the multi-asset geometric Brownian motion expression. We'll use the [Cholesky factorization](https://en.wikipedia.org/wiki/Cholesky_decomposition) routine implemented in the [LinearAlgebra.jl package](https://docs.julialang.org/en/v1/stdlib/LinearAlgebra/) which is part of the [Julia standard library](https://docs.julialang.org/en/v1/)\n",
    "* On `L1`, we call the [cholesky function](https://docs.julialang.org/en/v1/stdlib/LinearAlgebra/#LinearAlgebra.cholesky) with the covariance matrix `Σ̂` as an argument. This returns the matrix factorization in the [Cholesky type](https://docs.julialang.org/en/v1/stdlib/LinearAlgebra/#LinearAlgebra.Cholesky), which has the `L` and `U` fields, holding the `lower` and `upper` triangular factorizations, respectively. We convert the `lower` triangular factor into a [Matrix type](https://docs.julialang.org/en/v1/base/arrays/#Base.Matrix) to do computations with it later. We store this matrix in the variable $\\mathbf{A}$, where the coefficients $a_{ij}\\in\\mathbf{A}$."
   ]
  },
  {
   "cell_type": "code",
   "execution_count": 14,
   "id": "def944dd-6237-4385-a311-74d4dc4c4a76",
   "metadata": {},
   "outputs": [
    {
     "data": {
      "text/plain": [
       "5×5 Matrix{Float64}:\n",
       " 0.338796   0.0         0.0         0.0        0.0\n",
       " 0.0841594  0.208311    0.0         0.0        0.0\n",
       " 0.151774   0.113294    0.231253    0.0        0.0\n",
       " 0.0319357  0.0290608  -0.00125944  0.155443   0.0\n",
       " 0.0150328  0.018916    0.00630693  0.0569472  0.12785"
      ]
     },
     "execution_count": 14,
     "metadata": {},
     "output_type": "execute_result"
    }
   ],
   "source": [
    "factors = cholesky(Σ̂);\n",
    "A = factors.L |> x-> Matrix(x)\n",
    "# Ā = diagm(0 => diag(A))"
   ]
  },
  {
   "cell_type": "markdown",
   "id": "ffadb4ed-7c12-4ba3-8dc1-12f420833ceb",
   "metadata": {},
   "source": [
    "### TODO: Set the initial conditions, the time range, and other parameters\n",
    "Now, we set up several constants and other data for the multi-asset simulation. Feel free to change these values and see what happens!\n",
    "* We specify the simulation's starting date in the `startdate` variable, which is a [Date type](https://docs.julialang.org/en/v1/stdlib/Dates/#Dates). For this example, we'll select `Jan-03, 2023`, the first trading day of `2023`.\n",
    "* We set the number of days we will simulate in the `T` variable and specify the number of sample paths we want to compute in the `number_of_trials` variable.\n",
    "* The other variables, i.e., `Δt,` and `number_of_states,` are derived from the other constants or specified. "
   ]
  },
  {
   "cell_type": "code",
   "execution_count": 15,
   "id": "46918726-eb6e-4d6b-89e6-ddf5c783a241",
   "metadata": {},
   "outputs": [],
   "source": [
    "startdate = Date(2023,01,03); # must be in the date range of the data, i.e., 03-Jan 2018 to 29-Dec, 2023\n",
    "T = 250; # how many days will we simulate?\n",
    "number_of_trials = 500; # number of sample paths we calculate\n",
    "\n",
    "start_index = 1; # we are starting at the beginning of the year\n",
    "stop_index = start_index + T\n",
    "\n",
    "# ---- DO NOT CHANGE BELOW HERE ---------------------------- #\n",
    "number_of_states = length(my_list_of_tickers);\n",
    "# ---- DO NOT CHANGE ABOVE HERE ---------------------------- #"
   ]
  },
  {
   "cell_type": "markdown",
   "id": "aa33b2fe-e4b6-4a2d-a8ae-56e6d979e8db",
   "metadata": {},
   "source": [
    "Next, get the initial share price, which we approximate as the [volume weighted average price](https://en.wikipedia.org/wiki/Volume-weighted_average_price) or `VWAP` for each asset in the portfolio for the `startdate`.  We store these values in the `Sₒ::Array{Float64,1}` variable.\n",
    "* First, on `L1`, we initialize storage to hold the initial prices in the `Sₒ` variable, which is of type `Array{Float64,1}`. Then, we iterate through each `ticker` value in `my_list_of_tickers,` select the price data for `ticker` from `dataset,` and store it in the `price_df` variable (which is of type [DataFrame](https://dataframes.juliadata.org/stable/)).\n",
    "* `L4` is a compound statement in which we first select trading days equal to or after the `startdate` from `price_df`, then select the first `VWAP` from this list and set it equal to the `startprice` variable.\n",
    "* `L5` we use the [push! function](https://docs.julialang.org/en/v1/base/collections/#Base.push!) to add initial `VWAP` values to the `Sₒ` array."
   ]
  },
  {
   "cell_type": "code",
   "execution_count": 16,
   "id": "c18ebe2e-f5dd-49f7-98c6-b6a693aebf1f",
   "metadata": {},
   "outputs": [],
   "source": [
    "Sₒ = Array{Float64,1}()\n",
    "for ticker ∈ my_list_of_tickers\n",
    "    price_df = dataset[ticker];\n",
    "    startprice = filter(:timestamp => x-> x >= startdate, price_df) |> x-> x[1,:volume_weighted_average_price]\n",
    "    push!(Sₒ,startprice)\n",
    "end"
   ]
  },
  {
   "cell_type": "markdown",
   "id": "a69fb435-8edd-4bde-be82-978982ac4445",
   "metadata": {},
   "source": [
    "### TODO: Run the multi-asset simulation to compute the share price trajectories\n",
    "Following from the single asset case, we construct an instance of the `MyMultipleAssetGeometricBrownianMotionEquityModel` type, where we pass the drift vector $\\mu$ and the factored covariance matrix $\\mathbf{A}$ into the `build(...)` method:"
   ]
  },
  {
   "cell_type": "code",
   "execution_count": 17,
   "id": "8258e242-5d15-45d9-b55e-33dcebcd9afa",
   "metadata": {},
   "outputs": [],
   "source": [
    "model = build(MyMultipleAssetGeometricBrownianMotionEquityModel, (\n",
    "        μ = μ̂, A = A\n",
    "));"
   ]
  },
  {
   "cell_type": "markdown",
   "id": "67e92df3-2347-4dc5-9b74-763f7dbfedb5",
   "metadata": {},
   "source": [
    "Then we pass the start time `T₁,` the stop time `T₂`  for the simulation, the initial conditions `Sₒ,` the time step `Δt,` and other simulation parameters along with the `model` instance into the `sample(...)` function. This function computes `number_of_paths` sample paths and returns the simulated data in the `simulation_dictionary` variable.\n",
    "* The `simulation_dictionary` data structure holds a simulation array for each sample path, where the simulation array has time in the first column and the simulated price for each asset in columns $2\\dots\\dim\\mathcal{L}$. Each row is a time value; each simulation array will have `T+1` rows."
   ]
  },
  {
   "cell_type": "code",
   "execution_count": 18,
   "id": "7b050039-4aee-4f8b-a215-7d6d1d00e750",
   "metadata": {},
   "outputs": [],
   "source": [
    "T₁ = start_index*Δt\n",
    "T₂ = stop_index*Δt\n",
    "simulation_dictionary = VLQuantitativeFinancePackage.sample(model, (Sₒ = Sₒ, T₁ = T₁, T₂ = T₂, Δt = Δt), \n",
    "    number_of_paths = number_of_trials);"
   ]
  },
  {
   "cell_type": "markdown",
   "id": "ad5123fa-8fa1-4bc5-b7f6-419adda2c3b1",
   "metadata": {},
   "source": [
    "## Objective 3: Compute an optimal forward-looking portfolio allocation using an evolutionary algorithm\n",
    "Fill me in"
   ]
  },
  {
   "cell_type": "markdown",
   "id": "6dafe9b8-2032-4ba2-8182-657a44ed46db",
   "metadata": {},
   "source": [
    "First, let's specify how much we wish to invest in risky assets, and store this value in the `total_budget` variable:"
   ]
  },
  {
   "cell_type": "code",
   "execution_count": null,
   "id": "cb756539-32fc-4db9-9fe9-1fe7b6e52149",
   "metadata": {},
   "outputs": [],
   "source": [
    "total_budget = 1000.0;"
   ]
  },
  {
   "cell_type": "code",
   "execution_count": 19,
   "id": "737fdcdf-0f08-4ab8-8c23-a9609e62d6b2",
   "metadata": {},
   "outputs": [
    {
     "data": {
      "text/html": [
       "<div><div style = \"float: left;\"><span>12×4 DataFrame</span></div><div style = \"clear: both;\"></div></div><div class = \"data-frame\" style = \"overflow-x: scroll;\"><table class = \"data-frame\" style = \"margin-bottom: 6px;\"><thead><tr class = \"header\"><th class = \"rowNumber\" style = \"font-weight: bold; text-align: right;\">Row</th><th style = \"text-align: left;\">iteration</th><th style = \"text-align: left;\">objective</th><th style = \"text-align: left;\">ω</th><th style = \"text-align: left;\">α</th></tr><tr class = \"subheader headerLastRow\"><th class = \"rowNumber\" style = \"font-weight: bold; text-align: right;\"></th><th title = \"Int64\" style = \"text-align: left;\">Int64</th><th title = \"Float64\" style = \"text-align: left;\">Float64</th><th title = \"Vector{Float64}\" style = \"text-align: left;\">Array…</th><th title = \"Vector{Float64}\" style = \"text-align: left;\">Array…</th></tr></thead><tbody><tr><td class = \"rowNumber\" style = \"font-weight: bold; text-align: right;\">1</td><td style = \"text-align: right;\">1</td><td style = \"text-align: right;\">4.15696</td><td style = \"text-align: left;\">[5.02984e-9, 0.281982, 0.715917, 0.002101, 2.26559e-7]</td><td style = \"text-align: left;\">[0.2, 0.2, 0.2, 0.2, 0.2]</td></tr><tr><td class = \"rowNumber\" style = \"font-weight: bold; text-align: right;\">2</td><td style = \"text-align: right;\">2</td><td style = \"text-align: right;\">5.7572</td><td style = \"text-align: left;\">[0.163115, 0.76758, 0.0287987, 5.32823e-7, 0.040505]</td><td style = \"text-align: left;\">[0.238, 0.234, 0.212, 0.204, 0.162]</td></tr><tr><td class = \"rowNumber\" style = \"font-weight: bold; text-align: right;\">3</td><td style = \"text-align: right;\">3</td><td style = \"text-align: right;\">6.12025</td><td style = \"text-align: left;\">[0.200149, 1.7138e-5, 0.406753, 0.393073, 7.87744e-6]</td><td style = \"text-align: left;\">[0.28322, 0.18954, 0.23744, 0.21624, 0.1296]</td></tr><tr><td class = \"rowNumber\" style = \"font-weight: bold; text-align: right;\">4</td><td style = \"text-align: right;\">4</td><td style = \"text-align: right;\">7.52786</td><td style = \"text-align: left;\">[0.0393756, 0.00998808, 0.35215, 0.358443, 0.240043]</td><td style = \"text-align: left;\">[0.280388, 0.202808, 0.213696, 0.21624, 0.1296]</td></tr><tr><td class = \"rowNumber\" style = \"font-weight: bold; text-align: right;\">5</td><td style = \"text-align: right;\">12</td><td style = \"text-align: right;\">8.7511</td><td style = \"text-align: left;\">[0.00556523, 0.326521, 0.107551, 0.000162658, 0.5602]</td><td style = \"text-align: left;\">[0.316838, 0.178471, 0.207285, 0.222727, 0.108864]</td></tr><tr><td class = \"rowNumber\" style = \"font-weight: bold; text-align: right;\">6</td><td style = \"text-align: right;\">29</td><td style = \"text-align: right;\">9.16489</td><td style = \"text-align: left;\">[0.106054, 0.0646367, 0.0954071, 0.0526872, 0.681215]</td><td style = \"text-align: left;\">[0.310501, 0.183825, 0.184484, 0.229409, 0.108864]</td></tr><tr><td class = \"rowNumber\" style = \"font-weight: bold; text-align: right;\">7</td><td style = \"text-align: right;\">61</td><td style = \"text-align: right;\">9.30973</td><td style = \"text-align: left;\">[1.26298e-6, 1.61682e-5, 1.71603e-6, 0.348613, 0.651368]</td><td style = \"text-align: left;\">[0.316711, 0.163604, 0.169725, 0.256938, 0.120839]</td></tr><tr><td class = \"rowNumber\" style = \"font-weight: bold; text-align: right;\">8</td><td style = \"text-align: right;\">104</td><td style = \"text-align: right;\">9.39588</td><td style = \"text-align: left;\">[0.18904, 0.0768997, 1.0635e-8, 0.334841, 0.399219]</td><td style = \"text-align: left;\">[0.256536, 0.170148, 0.147661, 0.295479, 0.099088]</td></tr><tr><td class = \"rowNumber\" style = \"font-weight: bold; text-align: right;\">9</td><td style = \"text-align: right;\">172</td><td style = \"text-align: right;\">9.39966</td><td style = \"text-align: left;\">[0.00169513, 1.79383e-6, 0.0019163, 0.592176, 0.404211]</td><td style = \"text-align: left;\">[0.302713, 0.18376, 0.171287, 0.239338, 0.118906]</td></tr><tr><td class = \"rowNumber\" style = \"font-weight: bold; text-align: right;\">10</td><td style = \"text-align: right;\">282</td><td style = \"text-align: right;\">9.59999</td><td style = \"text-align: left;\">[0.0329908, 2.03041e-7, 0.0078953, 0.612717, 0.346397]</td><td style = \"text-align: left;\">[0.360228, 0.148846, 0.140455, 0.282419, 0.108204]</td></tr><tr><td class = \"rowNumber\" style = \"font-weight: bold; text-align: right;\">11</td><td style = \"text-align: right;\">313</td><td style = \"text-align: right;\">10.4621</td><td style = \"text-align: left;\">[0.0504247, 0.0267477, 0.0063521, 0.460546, 0.45593]</td><td style = \"text-align: left;\">[0.360228, 0.172661, 0.147478, 0.231583, 0.127681]</td></tr><tr><td class = \"rowNumber\" style = \"font-weight: bold; text-align: right;\">12</td><td style = \"text-align: right;\">321</td><td style = \"text-align: right;\">11.0714</td><td style = \"text-align: left;\">[0.0988139, 0.140695, 0.00751564, 0.347543, 0.405433]</td><td style = \"text-align: left;\">[0.421467, 0.170935, 0.172549, 0.187582, 0.107252]</td></tr></tbody></table></div>"
      ],
      "text/latex": [
       "\\begin{tabular}{r|cccc}\n",
       "\t& iteration & objective & ω & \\\\\n",
       "\t\\hline\n",
       "\t& Int64 & Float64 & Array… & \\\\\n",
       "\t\\hline\n",
       "\t1 & 1 & 4.15696 & [5.02984e-9, 0.281982, 0.715917, 0.002101, 2.26559e-7] & $\\dots$ \\\\\n",
       "\t2 & 2 & 5.7572 & [0.163115, 0.76758, 0.0287987, 5.32823e-7, 0.040505] & $\\dots$ \\\\\n",
       "\t3 & 3 & 6.12025 & [0.200149, 1.7138e-5, 0.406753, 0.393073, 7.87744e-6] & $\\dots$ \\\\\n",
       "\t4 & 4 & 7.52786 & [0.0393756, 0.00998808, 0.35215, 0.358443, 0.240043] & $\\dots$ \\\\\n",
       "\t5 & 12 & 8.7511 & [0.00556523, 0.326521, 0.107551, 0.000162658, 0.5602] & $\\dots$ \\\\\n",
       "\t6 & 29 & 9.16489 & [0.106054, 0.0646367, 0.0954071, 0.0526872, 0.681215] & $\\dots$ \\\\\n",
       "\t7 & 61 & 9.30973 & [1.26298e-6, 1.61682e-5, 1.71603e-6, 0.348613, 0.651368] & $\\dots$ \\\\\n",
       "\t8 & 104 & 9.39588 & [0.18904, 0.0768997, 1.0635e-8, 0.334841, 0.399219] & $\\dots$ \\\\\n",
       "\t9 & 172 & 9.39966 & [0.00169513, 1.79383e-6, 0.0019163, 0.592176, 0.404211] & $\\dots$ \\\\\n",
       "\t10 & 282 & 9.59999 & [0.0329908, 2.03041e-7, 0.0078953, 0.612717, 0.346397] & $\\dots$ \\\\\n",
       "\t11 & 313 & 10.4621 & [0.0504247, 0.0267477, 0.0063521, 0.460546, 0.45593] & $\\dots$ \\\\\n",
       "\t12 & 321 & 11.0714 & [0.0988139, 0.140695, 0.00751564, 0.347543, 0.405433] & $\\dots$ \\\\\n",
       "\\end{tabular}\n"
      ],
      "text/plain": [
       "\u001b[1m12×4 DataFrame\u001b[0m\n",
       "\u001b[1m Row \u001b[0m│\u001b[1m iteration \u001b[0m\u001b[1m objective \u001b[0m\u001b[1m ω                                 \u001b[0m\u001b[1m α             \u001b[0m ⋯\n",
       "     │\u001b[90m Int64     \u001b[0m\u001b[90m Float64   \u001b[0m\u001b[90m Array…                            \u001b[0m\u001b[90m Array…        \u001b[0m ⋯\n",
       "─────┼──────────────────────────────────────────────────────────────────────────\n",
       "   1 │         1    4.15696  [5.02984e-9, 0.281982, 0.715917,…  [0.2, 0.2, 0.2 ⋯\n",
       "   2 │         2    5.7572   [0.163115, 0.76758, 0.0287987, 5…  [0.238, 0.234,\n",
       "   3 │         3    6.12025  [0.200149, 1.7138e-5, 0.406753, …  [0.28322, 0.18\n",
       "   4 │         4    7.52786  [0.0393756, 0.00998808, 0.35215,…  [0.280388, 0.2\n",
       "   5 │        12    8.7511   [0.00556523, 0.326521, 0.107551,…  [0.316838, 0.1 ⋯\n",
       "   6 │        29    9.16489  [0.106054, 0.0646367, 0.0954071,…  [0.310501, 0.1\n",
       "   7 │        61    9.30973  [1.26298e-6, 1.61682e-5, 1.71603…  [0.316711, 0.1\n",
       "   8 │       104    9.39588  [0.18904, 0.0768997, 1.0635e-8, …  [0.256536, 0.1\n",
       "   9 │       172    9.39966  [0.00169513, 1.79383e-6, 0.00191…  [0.302713, 0.1 ⋯\n",
       "  10 │       282    9.59999  [0.0329908, 2.03041e-7, 0.007895…  [0.360228, 0.1\n",
       "  11 │       313   10.4621   [0.0504247, 0.0267477, 0.0063521…  [0.360228, 0.1\n",
       "  12 │       321   11.0714   [0.0988139, 0.140695, 0.00751564…  [0.421467, 0.1\n",
       "\u001b[36m                                                                1 column omitted\u001b[0m"
      ]
     },
     "execution_count": 19,
     "metadata": {},
     "output_type": "execute_result"
    }
   ],
   "source": [
    "archive = allocation(simulation_dictionary, number_of_iterations=1000, \n",
    "    number_of_days = T, \n",
    "    total_budget = total_budget)"
   ]
  },
  {
   "cell_type": "code",
   "execution_count": 20,
   "id": "a4880bf8-d527-4497-baf9-a05977227961",
   "metadata": {},
   "outputs": [
    {
     "data": {
      "text/plain": [
       "250×500 Matrix{Float64}:\n",
       " 1000.0    1000.0   1000.0    1000.0    …  1000.0    1000.0    1000.0\n",
       "  997.966  1009.96   994.5     987.838      997.291  1006.3    1005.74\n",
       "  997.825  1004.98   991.934   989.874     1002.17    998.133  1003.44\n",
       " 1000.79   1005.04   995.494   996.403     1003.47    993.836   994.996\n",
       " 1003.64   1009.37  1001.74    990.269     1002.48    999.471   999.02\n",
       " 1005.02   1009.52  1011.66    988.472  …  1002.05    997.2     995.664\n",
       " 1004.21   1010.18  1009.7     994.036      997.232  1000.02    989.889\n",
       "  994.564  1006.05  1011.98   1001.76       995.769   999.881   980.076\n",
       "  989.952  1008.62  1013.05   1005.65       987.204  1002.61    980.058\n",
       "  993.22   1010.23  1013.15   1003.3        991.8     998.006   982.971\n",
       "  995.729  1015.68  1010.53   1002.29   …   987.307  1002.15    986.041\n",
       "  992.193  1022.67  1012.82   1003.05       987.702  1004.72    997.223\n",
       " 1005.47   1026.63  1012.73   1000.43       987.312  1008.49    997.012\n",
       "    ⋮                                   ⋱                      \n",
       "  981.141  1076.71  1052.85    790.011      899.676   926.987   993.361\n",
       "  984.2    1076.76  1047.7     789.684      895.858   925.65    991.707\n",
       "  978.181  1074.59  1037.18    793.329  …   897.081   926.398   992.21\n",
       "  988.036  1074.66  1038.61    786.172      893.923   921.212   994.605\n",
       "  989.876  1071.46  1041.13    795.81       893.239   925.821   993.067\n",
       "  996.552  1077.47  1039.45    786.265      888.069   926.455   982.168\n",
       "  989.519  1078.03  1040.52    783.9        890.204   914.886   980.842\n",
       "  989.108  1063.94  1049.67    782.603  …   890.874   914.119   976.718\n",
       "  982.227  1064.12  1047.09    784.152      891.405   912.798   978.049\n",
       "  974.06   1064.94  1050.7     781.462      881.765   913.923   980.813\n",
       "  972.395  1061.38  1044.56    783.755      878.585   909.037   980.804\n",
       "  974.351  1070.51  1042.72    783.06       883.727   903.49    967.391"
      ]
     },
     "execution_count": 20,
     "metadata": {},
     "output_type": "execute_result"
    }
   ],
   "source": [
    "best_allocation = archive[argmax(archive[:,:objective]),:ω];\n",
    "W = wealth(simulation_dictionary,best_allocation, number_of_days = T)"
   ]
  },
  {
   "cell_type": "code",
   "execution_count": 21,
   "id": "ed479e1f-3fd4-4b31-b85e-dd69eb0d3dd0",
   "metadata": {},
   "outputs": [
    {
     "ename": "LoadError",
     "evalue": "UndefVarError: `total_budget` not defined",
     "output_type": "error",
     "traceback": [
      "UndefVarError: `total_budget` not defined",
      "",
      "Stacktrace:",
      " [1] top-level scope",
      "   @ ./In[21]:5"
     ]
    }
   ],
   "source": [
    "Nₒ = Array{Float64,1}()\n",
    "for i ∈ eachindex(best_allocation)\n",
    "    \n",
    "    ωᵢ = best_allocation[i]\n",
    "    nᵢ = (ωᵢ*total_budget)/Sₒ[i];\n",
    "    push!(Nₒ,nᵢ)\n",
    "end\n",
    "Nₒ"
   ]
  },
  {
   "cell_type": "code",
   "execution_count": 22,
   "id": "ad818c1a-4d2a-4310-b174-fd98b772fcd8",
   "metadata": {},
   "outputs": [
    {
     "ename": "LoadError",
     "evalue": "BoundsError: attempt to access 0-element Vector{Float64} at index [1]",
     "output_type": "error",
     "traceback": [
      "BoundsError: attempt to access 0-element Vector{Float64} at index [1]",
      "",
      "Stacktrace:",
      " [1] getindex(A::Vector{Float64}, i1::Int64)",
      "   @ Base ./essentials.jl:13",
      " [2] top-level scope",
      "   @ In[22]:9"
     ]
    }
   ],
   "source": [
    "# actual -\n",
    "number_of_days = T;\n",
    "actual_portfolio_performance_array = Array{Float64,2}(undef, number_of_days, length(best_allocation)+1)\n",
    "for i ∈ eachindex(my_list_of_tickers)\n",
    "    \n",
    "    ticker = my_list_of_tickers[i];\n",
    "    price_df = dataset[ticker];\n",
    "    ticker_data = filter(:timestamp => x-> x >= startdate, price_df)\n",
    "    nᵢ = Nₒ[i]\n",
    "    \n",
    "    for j ∈ 1:number_of_days\n",
    "        actual_portfolio_performance_array[j,i] = nᵢ*ticker_data[j,:volume_weighted_average_price];\n",
    "    end\n",
    "end\n",
    "\n",
    "# total -\n",
    "for i ∈ 1:number_of_days\n",
    "    actual_portfolio_performance_array[i,end] = sum(actual_portfolio_performance_array[i,1:end-1])\n",
    "end"
   ]
  },
  {
   "cell_type": "code",
   "execution_count": 23,
   "id": "d42e82c6-121a-4a79-94f6-d86d9a610f23",
   "metadata": {},
   "outputs": [
    {
     "ename": "LoadError",
     "evalue": "UndefVarError: `total_budget` not defined",
     "output_type": "error",
     "traceback": [
      "UndefVarError: `total_budget` not defined",
      "",
      "Stacktrace:",
      " [1] top-level scope",
      "   @ ./In[23]:4"
     ]
    }
   ],
   "source": [
    "p = plot();\n",
    "# plot the trajectories -\n",
    "for i ∈ 1:number_of_trials\n",
    "    plot!((1/total_budget)*W[:,i],c=:gray82,lw=1, label=\"\")\n",
    "end\n",
    "\n",
    "# compute the expected wealth array, and bounds 0\n",
    "expected_wealth_array = mean(W,dims=2)\n",
    "L68 = (1/total_budget)*(expected_wealth_array .- std(W,dims=2))\n",
    "U68 = (1/total_budget)*(expected_wealth_array .+ std(W,dims=2))\n",
    "plot!((1/total_budget)*expected_wealth_array,fillrange=L68, c=:red, alpha=0.35,label=\"\")\n",
    "plot!((1/total_budget)*expected_wealth_array,fillrange=U68, c=:green, alpha=0.35, label=\"\")\n",
    "\n",
    "L95 = (1/total_budget)*(expected_wealth_array .- 1.96*std(W,dims=2))\n",
    "U95 = (1/total_budget)*(expected_wealth_array .+ 1.96*std(W,dims=2))\n",
    "plot!((1/total_budget)*expected_wealth_array,fillrange=L95, c=:red, alpha=0.15,label=\"\")\n",
    "plot!((1/total_budget)*expected_wealth_array,fillrange=U95, c=:green, alpha=0.15, label=\"\")\n",
    "plot!((1/expected_wealth_array[1]).*expected_wealth_array, ls=:dash, c=:red, lw=3, label=\"Portfolio (expected)\")\n",
    "plot!((1/actual_portfolio_performance_array[1,end]).*actual_portfolio_performance_array[:,end], lw=3, \n",
    "    c=:red, label=\"Portfolio (actual)\")\n",
    "xlabel!(\"Trading Day Index (2023)\", fontsize=18)\n",
    "ylabel!(\"Scaled Wealth (USD)\", fontsize=18)\n",
    "current()"
   ]
  },
  {
   "cell_type": "markdown",
   "id": "e6aaa322-53cf-4bd5-ae1a-0fea89789e07",
   "metadata": {},
   "source": [
    "## Disclaimer and Risks\n",
    "__This content is offered solely for training and informational purposes__. No offer or solicitation to buy or sell securities or derivative products or any investment or trading advice or strategy is made, given, or endorsed by the teaching team. \n",
    "\n",
    "__Trading involves risk__. Carefully review your financial situation before investing in securities, futures contracts, options, or commodity interests. Past performance, whether actual or indicated by historical tests of strategies, is no guarantee of future performance or success. Trading is generally inappropriate for someone with limited resources, investment or trading experience, or a low-risk tolerance.  Only risk capital that is not required for living expenses.\n",
    "\n",
    "__You are fully responsible for any investment or trading decisions you make__. Such decisions should be based solely on evaluating your financial circumstances, investment or trading objectives, risk tolerance, and liquidity needs."
   ]
  }
 ],
 "metadata": {
  "kernelspec": {
   "display_name": "Julia 1.10.0",
   "language": "julia",
   "name": "julia-1.10"
  },
  "language_info": {
   "file_extension": ".jl",
   "mimetype": "application/julia",
   "name": "julia",
   "version": "1.10.0"
  }
 },
 "nbformat": 4,
 "nbformat_minor": 5
}
