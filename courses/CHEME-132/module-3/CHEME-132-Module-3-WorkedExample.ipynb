{
 "cells": [
  {
   "cell_type": "markdown",
   "id": "2361ecec-9308-4844-bbeb-e479ffb89065",
   "metadata": {},
   "source": [
    "# Example: Geometric Brownian Motion (GBM) Simulation of Historical Price Data\n",
    "\n",
    "## Background\n",
    "[Geometric Brownian motion (GBM)](https://en.wikipedia.org/wiki/Geometric_Brownian_motion) is a continuous-time stochastic process model in which the random variable $X(t)$, e.g., the share price of `XYZ` is described by a deterministic drift corrupted by a [Wiener process](https://en.wikipedia.org/wiki/Wiener_process):\n",
    "\n",
    "$$\\frac{dX}{X} = {\\mu}dt + \\sigma{dW}$$\n",
    "\n",
    "The constant $\\mu$ denotes a drift parameter, $\\sigma$ indicates a volatility parameter, and $dW$ represents the output of a [Wiener process](https://en.wikipedia.org/wiki/Wiener_process). \n",
    "\n",
    "#### Analytical solution\n",
    "Using [Ito's lemma](https://en.wikipedia.org/wiki/Itô%27s_lemma), you can formulate an analytical solution to the GBM equation:\n",
    "\n",
    "$$X(t) = X_{\\circ}\\exp\\Biggl[\\left(\\mu-\\frac{\\sigma^{2}}{2}\\right)\\left(t - t_{\\circ}\\right) + (\\sigma\\sqrt{t-t_{\\circ}})Z(0,1)\\Biggr]$$\n",
    "\n",
    "where $X_{\\circ}$ denotes the initial price at $t_{\\circ}$, and $Z(0,1)$ denotes a [standard normal random variable](https://en.wikipedia.org/wiki/Normal_distribution#Standard_normal_distribution). "
   ]
  },
  {
   "cell_type": "markdown",
   "id": "0e07992a-d8b5-462b-836e-8da146274443",
   "metadata": {},
   "source": [
    "## Learning Objectives\n",
    "In this example:\n",
    "\n",
    "* __Objective 1__: First, we'll estimate values for the drift $\\mu$ and $\\sigma$ parameters that appear in the Geometric Brownian Motion (GBM) analytical solution from historical data.\n",
    "* __Objective 2__: Second we'll compare model predictions of share price for unseen data, e.g., out-of-sample data against observed market values."
   ]
  },
  {
   "cell_type": "markdown",
   "id": "cc3eb074-3a32-4bb8-86c4-9f256fad05f7",
   "metadata": {
    "tags": []
   },
   "source": [
    "## Setup\n",
    "We set up the computational environment by including the `Include.jl` file. The `Include.jl` file loads external packages, various functions that we will use in the exercise, and custom types to model the components of our example problem."
   ]
  },
  {
   "cell_type": "markdown",
   "id": "6d3954a8-64ec-49b2-a5dd-a0f91008bd50",
   "metadata": {},
   "source": [
    "### Packages\n",
    "The `Include.jl` file loads several packages that we use'll for our exercises:\n",
    "* [Dates.jl](https://docs.julialang.org/en/v1/stdlib/Dates/#Dates)  is a package included with the standard library which provides basic functionality for working dates.\n",
    "* [DataFrames.jl](https://dataframes.juliadata.org/stable/) and [CSV.jl](https://github.com/JuliaData/CSV.jl) provide a set of tools for working with tabular data in [Julia](https://julialang.org). Its design and functionality are similar to those of [Pandas (in Python)](https://pandas.pydata.org) and [data.frame, data.table and dplyr (in R)](https://dplyr.tidyverse.org), making it an excellent general-purpose data science tool.\n",
    "* [Distributions.jl](https://github.com/JuliaStats/Distributions.jl) is a [Julia](https://julialang.org) package for probability distributions and associated functions.\n",
    "* [PrettyTables.jl](https://ronisbr.github.io/PrettyTables.jl/stable/man/html_backend/) is a [Julia](https://julialang.org) package that implements functions to construct and display text-based tables\n",
    "* [Plots.jl](https://docs.juliaplots.org/stable/) is a plotting library, and [Colors.jl](https://github.com/JuliaGraphics/Colors.jl) is a color library that we'll use for data visualization in [Julia](https://julialang.org).\n",
    "* [LinearAlgebra.jl](https://github.com/JuliaLang/LinearAlgebra.jl) is a package that provides functionality for working with linear algebra in [Julia](https://julialang.org).\n",
    "* [Statistics.jl](https://docs.julialang.org/en/v1/stdlib/Statistics/#Statistics) is a package included with the standard library module, which contains basic statistics functionality"
   ]
  },
  {
   "cell_type": "code",
   "execution_count": null,
   "id": "7a852df9-6ca5-4acd-a907-c18d38269003",
   "metadata": {},
   "outputs": [],
   "source": []
  }
 ],
 "metadata": {
  "kernelspec": {
   "display_name": "Julia 1.9.1",
   "language": "julia",
   "name": "julia-1.9"
  },
  "language_info": {
   "file_extension": ".jl",
   "mimetype": "application/julia",
   "name": "julia",
   "version": "1.9.1"
  }
 },
 "nbformat": 4,
 "nbformat_minor": 5
}
