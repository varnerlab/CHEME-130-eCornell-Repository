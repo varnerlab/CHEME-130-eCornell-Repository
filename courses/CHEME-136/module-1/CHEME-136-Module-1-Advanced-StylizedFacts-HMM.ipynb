{
 "cells": [
  {
   "cell_type": "markdown",
   "id": "7db61288-c1cd-4214-82d1-ec4712492b20",
   "metadata": {},
   "source": [
    "# Advanced Example: Hidden Markov Model and Stylized Facts\n",
    "Fill me in"
   ]
  },
  {
   "cell_type": "markdown",
   "id": "0915d0f1-73c2-4f95-95fe-275b9d6872e7",
   "metadata": {},
   "source": [
    "## Disclaimer and Risks\n",
    "__This content is offered solely for training and informational purposes__. No offer or solicitation to buy or sell securities or derivative products or any investment or trading advice or strategy is made, given, or endorsed by the teaching team. \n",
    "\n",
    "__Trading involves risk__. Carefully review your financial situation before investing in securities, futures contracts, options, or commodity interests. Past performance, whether actual or indicated by historical tests of strategies, is no guarantee of future performance or success. Trading is generally inappropriate for someone with limited resources, investment or trading experience, or a low-risk tolerance.  Only risk capital that is not required for living expenses.\n",
    "\n",
    "__You are fully responsible for any investment or trading decisions you make__. You should decide solely based on your financial circumstances, investment or trading objectives, risk tolerance, and liquidity needs."
   ]
  },
  {
   "cell_type": "code",
   "execution_count": null,
   "id": "c49b3d6b-2a9f-413e-8fe8-3ebc05fc9844",
   "metadata": {},
   "outputs": [],
   "source": []
  }
 ],
 "metadata": {
  "kernelspec": {
   "display_name": "Julia 1.10.4",
   "language": "julia",
   "name": "julia-1.10"
  },
  "language_info": {
   "file_extension": ".jl",
   "mimetype": "application/julia",
   "name": "julia",
   "version": "1.10.4"
  }
 },
 "nbformat": 4,
 "nbformat_minor": 5
}
