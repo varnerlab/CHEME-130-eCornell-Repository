{
 "cells": [
  {
   "cell_type": "markdown",
   "id": "b6863fe8-f58f-4503-8a3e-aec882862964",
   "metadata": {},
   "source": [
    "# Project: Calculating out-of-sample Markov Model Performance\n",
    "Fill me in"
   ]
  },
  {
   "cell_type": "markdown",
   "id": "0b92fb57-f2e3-4f73-88fd-6b9065a14676",
   "metadata": {},
   "source": [
    "## Setup\n",
    "We set up the computational environment by including the `Include.jl` file. The `Include.jl` file loads external packages, various functions that we will use in the exercise, and custom types to model the components of our lab problem.\n",
    "* For additional information on functions and types used in this material, see the [Julia programming language documentation](https://docs.julialang.org/en/v1/) and the [VLQuantitativeFinancePackage.jl documentation](https://github.com/varnerlab/VLQuantitativeFinancePackage.jl). "
   ]
  },
  {
   "cell_type": "code",
   "execution_count": 3,
   "id": "5d3b9048-4b2f-4eeb-910f-803608c1500a",
   "metadata": {},
   "outputs": [
    {
     "name": "stderr",
     "output_type": "stream",
     "text": [
      "\u001b[32m\u001b[1m    Updating\u001b[22m\u001b[39m git-repo `https://github.com/varnerlab/VLQuantitativeFinancePackage.jl.git`\n",
      "\u001b[32m\u001b[1m   Resolving\u001b[22m\u001b[39m package versions...\n",
      "\u001b[32m\u001b[1m  No Changes\u001b[22m\u001b[39m to `~/Desktop/julia_work/CHEME-130-eCornell-Repository/courses/CHEME-136/module-1/Project.toml`\n",
      "\u001b[32m\u001b[1m  No Changes\u001b[22m\u001b[39m to `~/Desktop/julia_work/CHEME-130-eCornell-Repository/courses/CHEME-136/module-1/Manifest.toml`\n",
      "\u001b[32m\u001b[1m  Activating\u001b[22m\u001b[39m project at `~/Desktop/julia_work/CHEME-130-eCornell-Repository/courses/CHEME-136/module-1`\n",
      "\u001b[32m\u001b[1m  No Changes\u001b[22m\u001b[39m to `~/Desktop/julia_work/CHEME-130-eCornell-Repository/courses/CHEME-136/module-1/Project.toml`\n",
      "\u001b[32m\u001b[1m  No Changes\u001b[22m\u001b[39m to `~/Desktop/julia_work/CHEME-130-eCornell-Repository/courses/CHEME-136/module-1/Manifest.toml`\n",
      "\u001b[32m\u001b[1m    Updating\u001b[22m\u001b[39m registry at `~/.julia/registries/General.toml`\n",
      "\u001b[32m\u001b[1m    Updating\u001b[22m\u001b[39m git-repo `https://github.com/varnerlab/VLQuantitativeFinancePackage.jl.git`\n",
      "\u001b[32m\u001b[1m  No Changes\u001b[22m\u001b[39m to `~/Desktop/julia_work/CHEME-130-eCornell-Repository/courses/CHEME-136/module-1/Project.toml`\n",
      "\u001b[32m\u001b[1m  No Changes\u001b[22m\u001b[39m to `~/Desktop/julia_work/CHEME-130-eCornell-Repository/courses/CHEME-136/module-1/Manifest.toml`\n"
     ]
    }
   ],
   "source": [
    "include(\"Include.jl\");"
   ]
  },
  {
   "cell_type": "markdown",
   "id": "9d103f62-7f83-4184-b9b4-918797eccd26",
   "metadata": {},
   "source": [
    "## Prerequisites: Load daily HMM model file\n",
    "Fill me in"
   ]
  },
  {
   "cell_type": "code",
   "execution_count": 5,
   "id": "0c0f60b9-e0d1-4eae-81ce-ecc44944f24b",
   "metadata": {},
   "outputs": [],
   "source": [
    "ticker = \"SPY\"\n",
    "path_to_save_file = joinpath(_PATH_TO_DATA,\"HMM-$(ticker)-daily-aggregate.jld2\");"
   ]
  },
  {
   "cell_type": "markdown",
   "id": "8e3de16d-0318-4b93-aefc-e338ed1f240e",
   "metadata": {},
   "source": [
    "fill me in"
   ]
  },
  {
   "cell_type": "code",
   "execution_count": null,
   "id": "6acb6630-3943-4755-81d8-9b7b0bb58cf6",
   "metadata": {},
   "outputs": [],
   "source": [
    "saved_state_dict = load(path_to_save_file)"
   ]
  },
  {
   "cell_type": "code",
   "execution_count": null,
   "id": "ffd63769-9d3a-4307-92ef-4a43acb48df9",
   "metadata": {},
   "outputs": [],
   "source": [
    "out_of_sample_dataset = saved_state_dict[\"outofsampledataset\"]"
   ]
  },
  {
   "cell_type": "code",
   "execution_count": null,
   "id": "bf6ac66c-df22-41dd-a971-3fccf7311a17",
   "metadata": {},
   "outputs": [],
   "source": [
    "model = saved_state_dict[\"model\"];"
   ]
  },
  {
   "cell_type": "markdown",
   "id": "6de21539-4f87-474c-ba6a-49b8fd0c7f12",
   "metadata": {},
   "source": [
    "## Task 1: Compute the encoded out of sample model prediction\n",
    "Fill me in"
   ]
  },
  {
   "cell_type": "code",
   "execution_count": null,
   "id": "92a37470-97f0-45b9-84e4-9b89580c3a2c",
   "metadata": {},
   "outputs": [],
   "source": [
    "π̄ = saved_state_dict[\"stationary\"];"
   ]
  },
  {
   "cell_type": "markdown",
   "id": "ce79277f-06ce-4f13-be9f-45900bc7cb69",
   "metadata": {},
   "source": [
    "fill me in"
   ]
  },
  {
   "cell_type": "code",
   "execution_count": null,
   "id": "78e98139-4f32-484a-9a32-2df789ee15e5",
   "metadata": {},
   "outputs": [],
   "source": [
    "number_of_paths = 1000;\n",
    "number_of_steps = length(out_of_sample_dataset); # average number of trading days per year\n",
    "encoded_archive = Array{Int64,2}(undef, number_of_steps, number_of_paths);\n",
    "for i ∈ 1:number_of_paths\n",
    "    start_state = rand(π̄);\n",
    "    tmp = model(start_state, number_of_steps)\n",
    "    for j ∈ 1:number_of_steps\n",
    "        encoded_archive[j,i] = tmp[j]\n",
    "    end\n",
    "end\n",
    "encoded_archive"
   ]
  },
  {
   "cell_type": "markdown",
   "id": "f01f4f10-562b-4cee-9161-b5b9e06d6f28",
   "metadata": {},
   "source": [
    "## Task 2: Decode the out of sample model prediction\n",
    "Fill me in"
   ]
  },
  {
   "cell_type": "code",
   "execution_count": null,
   "id": "ebd2e2f6-9eda-4065-94b2-2725fe775e84",
   "metadata": {},
   "outputs": [],
   "source": [
    "decode_distribution_model = saved_state_dict[\"decode\"];"
   ]
  },
  {
   "cell_type": "markdown",
   "id": "9f4d8b86-9e2a-48ee-b373-8d2104a03fd9",
   "metadata": {},
   "source": [
    "fill me in"
   ]
  },
  {
   "cell_type": "code",
   "execution_count": null,
   "id": "4ef565b5-3d87-4080-9a16-3d05dda885c5",
   "metadata": {},
   "outputs": [],
   "source": [
    "out_of_sample_decoded_archive = Array{Float64,2}(undef, number_of_steps, number_of_paths);\n",
    "for i ∈ 1:number_of_paths\n",
    "    for j ∈ 1:number_of_steps\n",
    "        s = encoded_archive[j,i];\n",
    "        out_of_sample_decoded_archive[j,i] =  decode_distribution_model[s] |> d -> rand(d)\n",
    "    end\n",
    "end\n",
    "out_of_sample_decoded_archive # actual excess growth value"
   ]
  },
  {
   "cell_type": "markdown",
   "id": "1dc43a68-351b-411c-838c-770b656b0c5e",
   "metadata": {},
   "source": [
    "## Task 3: How good is the out of sample model prediction?"
   ]
  },
  {
   "cell_type": "code",
   "execution_count": null,
   "id": "42e9aa33-9b1f-41ad-b7d0-a3855a0f2761",
   "metadata": {},
   "outputs": [],
   "source": [
    "let\n",
    "    q = plot(); \n",
    "    N = 1:10:number_of_paths |> collect |> length;\n",
    "    density!(out_of_sample_decoded_archive[:,1], lw=2, c=:deepskyblue1, label=\"Simulated N = $(number_of_paths)\", \n",
    "        bg=\"gray95\", background_color_outside=\"white\", framestyle = :box, fg_legend = :transparent)\n",
    "    for i ∈ 2:10:number_of_paths\n",
    "        density!(out_of_sample_decoded_archive[:,i], lw=1, c=:deepskyblue1, label=\"\")\n",
    "    end\n",
    "    density!(out_of_sample_dataset, c=:red, lw=3, label=\"Observed\")\n",
    "    xlabel!(\"Excess Annual Growth Rate $(ticker) (1/year)\", fontsize=18)\n",
    "    ylabel!(\"Probability Density (AU)\", fontsize=18)\n",
    "    current()\n",
    "end"
   ]
  },
  {
   "cell_type": "markdown",
   "id": "8a3505ea-c0ae-4473-9ffd-e1886be7394d",
   "metadata": {},
   "source": [
    "### Check: Are the predicted and observed out-of-sample distributions the same? \n",
    "If our Markov model is correct, then the observed excess growth rate distribution and the excess growth distribution calculated by our model should look like they are drawn from the same distribution. To check this hypothesis, use [the ApproximateTwoSampleKSTest exported by the HypothesisTests.jl package](https://github.com/JuliaStats/HypothesisTests.jl) \n",
    "* `H0:null hypothesis` is that `x` and `y` are drawn from the same distribution against the `H1:alternative hypothesis` that `x` and `y` come from different distributions.\n",
    "\n",
    "We have `number_of_paths` example trajectories, so let's do the test on each sample and compute an overall expected score. Specify a `pvalue_cutoff` value to check against. If the test returns `pvalue > pvalue_cutoff,` then we fail to reject `H0:null hypothesis`, i.e., `x` and `y` appear to be drawn from the same distribution."
   ]
  },
  {
   "cell_type": "code",
   "execution_count": null,
   "id": "567bf742-acc1-4763-96c3-720f816235d6",
   "metadata": {},
   "outputs": [],
   "source": [
    "pvalue_cutoff = 0.05; # cutoff\n",
    "pass_counter = 0;\n",
    "for i ∈ 1:number_of_paths\n",
    "    test_value = ApproximateTwoSampleKSTest(out_of_sample_dataset,out_of_sample_decoded_archive[:,i]) |> pvalue    \n",
    "    if (test_value > pvalue_cutoff)\n",
    "        pass_counter += 1 # we pass (fail to reject) x and y are from the same distribution\n",
    "    end\n",
    "end\n",
    "println(\"Pass percentage: $((pass_counter/number_of_paths)*100)%\")"
   ]
  },
  {
   "cell_type": "code",
   "execution_count": null,
   "id": "0c7eb8dc-8b52-4bda-9496-6d39ddbc90fa",
   "metadata": {},
   "outputs": [],
   "source": [
    "mean(mean(out_of_sample_decoded_archive)), mean(std(out_of_sample_decoded_archive, dims=2))"
   ]
  },
  {
   "cell_type": "code",
   "execution_count": null,
   "id": "b834c7e3-dfab-4d96-9d72-ad615889b8ea",
   "metadata": {},
   "outputs": [],
   "source": [
    "mean(out_of_sample_dataset), std(out_of_sample_dataset)"
   ]
  },
  {
   "cell_type": "markdown",
   "id": "1c5f80c6-95f7-4be5-aee5-1eec40eb3483",
   "metadata": {},
   "source": [
    "## Disclaimer and Risks\n",
    "__This content is offered solely for training and informational purposes__. No offer or solicitation to buy or sell securities or derivative products or any investment or trading advice or strategy is made, given, or endorsed by the teaching team. \n",
    "\n",
    "__Trading involves risk__. Carefully review your financial situation before investing in securities, futures contracts, options, or commodity interests. Past performance, whether actual or indicated by historical tests of strategies, is no guarantee of future performance or success. Trading is generally inappropriate for someone with limited resources, investment or trading experience, or a low-risk tolerance.  Only risk capital that is not required for living expenses.\n",
    "\n",
    "__You are fully responsible for any investment or trading decisions you make__. You should decide solely based on your financial circumstances, investment or trading objectives, risk tolerance, and liquidity needs."
   ]
  },
  {
   "cell_type": "code",
   "execution_count": null,
   "id": "b0111dba-3f1d-44ac-8a83-262b998d8681",
   "metadata": {},
   "outputs": [],
   "source": []
  },
  {
   "cell_type": "code",
   "execution_count": null,
   "id": "e95430eb-b93d-4241-a705-dc8124a8d86c",
   "metadata": {},
   "outputs": [],
   "source": []
  }
 ],
 "metadata": {
  "kernelspec": {
   "display_name": "Julia 1.10.4",
   "language": "julia",
   "name": "julia-1.10"
  },
  "language_info": {
   "file_extension": ".jl",
   "mimetype": "application/julia",
   "name": "julia",
   "version": "1.10.4"
  }
 },
 "nbformat": 4,
 "nbformat_minor": 5
}
