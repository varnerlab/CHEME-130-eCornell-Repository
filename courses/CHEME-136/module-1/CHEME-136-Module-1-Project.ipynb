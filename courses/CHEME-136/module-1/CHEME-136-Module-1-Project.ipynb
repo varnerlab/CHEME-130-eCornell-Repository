{
 "cells": [
  {
   "cell_type": "markdown",
   "id": "8c9db088-e12b-4b6c-ab4e-2b4f00c98069",
   "metadata": {},
   "source": [
    "# Project: Simulation of Generative Model of Asset Return"
   ]
  },
  {
   "cell_type": "code",
   "execution_count": null,
   "id": "8a4b968d-80c7-465a-9c91-116f84e195a3",
   "metadata": {},
   "outputs": [],
   "source": []
  }
 ],
 "metadata": {
  "kernelspec": {
   "display_name": "Julia 1.10.4",
   "language": "julia",
   "name": "julia-1.10"
  },
  "language_info": {
   "file_extension": ".jl",
   "mimetype": "application/julia",
   "name": "julia",
   "version": "1.10.4"
  }
 },
 "nbformat": 4,
 "nbformat_minor": 5
}
