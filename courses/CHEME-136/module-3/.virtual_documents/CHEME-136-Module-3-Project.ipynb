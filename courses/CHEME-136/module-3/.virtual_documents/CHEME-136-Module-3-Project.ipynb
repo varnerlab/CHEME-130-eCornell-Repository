





include("Include.jl");








share_price_data_df = CSV.read(joinpath(_PATH_TO_DATA, "QQQ-OHLC-1-min-aggregate-2024.csv"), DataFrame);





vwap_array = vwap(share_price_data_df);





share_price_data_df[:,:vwap] = vwap_array; # now the dataframe has the vwap data





number_of_trading_periods = length(vwap_array); # how many minutes of 2024 data do we have?
view_range = range(60,stop = 1560, step = 1) |> collect;





α = (1/60); # students can update this! what happens if we recompute the mvap_array with diff values of α?





mvwap_array = Array{Float64,1}(undef, number_of_trading_periods);
mvwap_array[1] = vwap_array[1]; 

for i ∈ 2:number_of_trading_periods
    previous_mvwap = mvwap_array[i-1];
    current_vwap = vwap_array[i];
    mvwap_array[i] = previous_mvwap + α*(current_vwap - previous_mvwap);
end





let
    q = plot(bg="gray95", background_color_outside="white", framestyle = :box, fg_legend = :transparent, legend=:topright);
    plot(q, vwap_array[view_range],c=:blue, lw=3, label="QQQ VWAP")
    plot!(mvwap_array[view_range], c=:red, lw=3, label="QQQ MWVAP (α = $(round(α, digits=4)))")
    xlabel!("Trading period index $(first(view_range)) → $(last(view_range)) (min)", fontsize=18)
    ylabel!("Share Price (USD/share)", fontsize= 18);
end








decision_boundary_array = Array{Float64,1}(undef, number_of_trading_periods);
decision_boundary_array[1] = 0.0;
for i ∈ 2:(number_of_trading_periods)
    previous_decision_boundary = decision_boundary_array[i-1];
    ϵ = (vwap_array[i] - mvwap_array[i])^2 |> x -> sqrt(x);
    decision_boundary_array[i] = previous_decision_boundary + α*(ϵ - previous_decision_boundary);
end





β = 1.0;





let    
    q = plot(bg="gray95", background_color_outside="white", framestyle = :box, fg_legend = :transparent, legend=:topright);
    plot(q, vwap_array[view_range],c=:blue, lw=2, label = "QQQ VWAP")

    UB = mvwap_array[view_range] + β*decision_boundary_array[view_range];
    LB = mvwap_array[view_range] - β*decision_boundary_array[view_range];
    plot!(mvwap_array[view_range], fillrange = UB, label="", alpha=0.25, c=:gray20)
    plot!(mvwap_array[view_range], fillrange = LB, label="", alpha=0.25, c=:gray20)
    plot!(mvwap_array[view_range], c=:red, lw = 3, label="QQQ MWVAP (α = $(round(α, digits=4)))")
    xlabel!("Trading period index ($(first(view_range)) → $(last(view_range)) min)", fontsize=18)
    ylabel!("Share Price (USD/share)", fontsize= 18);
end












