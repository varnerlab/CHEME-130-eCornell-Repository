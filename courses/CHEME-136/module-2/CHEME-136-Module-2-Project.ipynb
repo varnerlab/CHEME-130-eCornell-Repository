{
 "cells": [
  {
   "cell_type": "markdown",
   "id": "112b4cf6-0257-4535-b1b3-01b9d0453da3",
   "metadata": {},
   "source": [
    "# Project: Binary Bernoulli Bandit Risk Aware Ticker Picker\n",
    "In the binary Bernoulli bandit ticker picker example, we evaluated the return of the possible tickers over investment periods of length `buffersize::Int64.` However, we failed to consider the risk associated with these tickers. In this project, students will refactor the example code to include the risk for each ticker.\n",
    "\n",
    "### Learning objectives and tasks\n",
    "Fill me in."
   ]
  },
  {
   "cell_type": "markdown",
   "id": "f2521864-a344-4396-83aa-9b3334e9cd02",
   "metadata": {},
   "source": [
    "## Setup\n",
    "We set up the computational environment by including the `Include.jl` file. The `Include.jl` file loads external packages, various functions that we will use in the exercise, and custom types to model the components of our lab problem.\n",
    "* For additional information on functions and types used in this material, see the [Julia programming language documentation](https://docs.julialang.org/en/v1/) and the [VLQuantitativeFinancePackage.jl documentation](https://github.com/varnerlab/VLQuantitativeFinancePackage.jl)."
   ]
  },
  {
   "cell_type": "code",
   "execution_count": 3,
   "id": "f65a7f2d-9d49-4b1f-97ba-e3901c07a096",
   "metadata": {},
   "outputs": [
    {
     "name": "stderr",
     "output_type": "stream",
     "text": [
      "\u001b[32m\u001b[1m    Updating\u001b[22m\u001b[39m git-repo `https://github.com/varnerlab/VLQuantitativeFinancePackage.jl.git`\n",
      "\u001b[32m\u001b[1m   Resolving\u001b[22m\u001b[39m package versions...\n",
      "\u001b[32m\u001b[1m  No Changes\u001b[22m\u001b[39m to `~/Desktop/julia_work/CHEME-130-eCornell-Repository/courses/CHEME-136/module-2/Project.toml`\n",
      "\u001b[32m\u001b[1m  No Changes\u001b[22m\u001b[39m to `~/Desktop/julia_work/CHEME-130-eCornell-Repository/courses/CHEME-136/module-2/Manifest.toml`\n",
      "\u001b[32m\u001b[1m  Activating\u001b[22m\u001b[39m project at `~/Desktop/julia_work/CHEME-130-eCornell-Repository/courses/CHEME-136/module-2`\n",
      "\u001b[32m\u001b[1m  No Changes\u001b[22m\u001b[39m to `~/Desktop/julia_work/CHEME-130-eCornell-Repository/courses/CHEME-136/module-2/Project.toml`\n",
      "\u001b[32m\u001b[1m  No Changes\u001b[22m\u001b[39m to `~/Desktop/julia_work/CHEME-130-eCornell-Repository/courses/CHEME-136/module-2/Manifest.toml`\n",
      "\u001b[32m\u001b[1m    Updating\u001b[22m\u001b[39m registry at `~/.julia/registries/General.toml`\n",
      "\u001b[32m\u001b[1m    Updating\u001b[22m\u001b[39m git-repo `https://github.com/varnerlab/VLQuantitativeFinancePackage.jl.git`\n",
      "\u001b[32m\u001b[1m  No Changes\u001b[22m\u001b[39m to `~/Desktop/julia_work/CHEME-130-eCornell-Repository/courses/CHEME-136/module-2/Project.toml`\n",
      "\u001b[32m\u001b[1m  No Changes\u001b[22m\u001b[39m to `~/Desktop/julia_work/CHEME-130-eCornell-Repository/courses/CHEME-136/module-2/Manifest.toml`\n"
     ]
    }
   ],
   "source": [
    "include(\"Include.jl\");"
   ]
  },
  {
   "cell_type": "markdown",
   "id": "e3fccc16-4d59-46b8-9da6-8c7abceebc68",
   "metadata": {},
   "source": [
    "## Prerequisites: Load ticker-picker save file\n",
    "Let's begin by loading the [HDF5 encoded saved file](https://en.wikipedia.org/wiki/Hierarchical_Data_Format) generated in the worked example using [a `load(...)`  method exported by the JLD2.jl package](https://github.com/JuliaIO/JLD2.jl). First, we specify the path to the saved file in the `path_to_save_file::String` variable:"
   ]
  },
  {
   "cell_type": "code",
   "execution_count": 5,
   "id": "ec02bef3-593d-4841-b4f4-5bf4012e7d13",
   "metadata": {},
   "outputs": [],
   "source": [
    "number_of_agents = 5000; # how many agents do we want\n",
    "path_to_save_file = joinpath(_PATH_TO_DATA, \"TickerPickerAgent-Simulation-State-N-$(number_of_agents).jld2\");"
   ]
  },
  {
   "cell_type": "markdown",
   "id": "da8fe72b-05d0-4eab-80c7-387558c47120",
   "metadata": {},
   "source": [
    "then we [call the `load(...)` method exported by the JLD2.jl package](https://github.com/JuliaIO/JLD2.jl), which reads the binary saved file and returns the saved data as a dictionary; we assign the data to the `saved_state_dict::Dict{String, Any}` variable:"
   ]
  },
  {
   "cell_type": "code",
   "execution_count": 7,
   "id": "b2d1e2a8-37cb-4d4f-b220-e67caede1fc2",
   "metadata": {},
   "outputs": [
    {
     "data": {
      "text/plain": [
       "Dict{String, Any} with 9 entries:\n",
       "  \"risk_free_rate\"              => 0.047\n",
       "  \"maximum_number_trading_days\" => 1508\n",
       "  \"buffersize\"                  => 5\n",
       "  \"data\"                        => Dict{String, DataFrame}(\"TPR\"=>\u001b[1m1508×8 DataFr\u001b[0m…\n",
       "  \"preferences\"                 => Beta[Beta{Float64}(α=2.0, β=6.0) Beta{Float6…\n",
       "  \"tickers\"                     => [\"MRK\", \"JNJ\", \"MET\", \"NFLX\", \"AAPL\", \"AMD\",…\n",
       "  \"probability_top_dictionary\"  => Dict(\"MSFT\"=>0.5858, \"JPM\"=>0.3042, \"C\"=>0.2…\n",
       "  \"banditmodel\"                 => MyEpsilonSamplingBanditModel([1.0, 1.0, 1.0,…\n",
       "  \"Δt\"                          => 0.00396825"
      ]
     },
     "execution_count": 7,
     "metadata": {},
     "output_type": "execute_result"
    }
   ],
   "source": [
    "saved_state_dict = load(path_to_save_file)"
   ]
  },
  {
   "cell_type": "markdown",
   "id": "cb691c89-c8b8-4da7-9ed2-51663e398013",
   "metadata": {},
   "source": [
    "Fill me in"
   ]
  },
  {
   "cell_type": "code",
   "execution_count": 9,
   "id": "f5249c00-1f2a-47c5-b99b-edae489a3798",
   "metadata": {},
   "outputs": [],
   "source": [
    "dataset = saved_state_dict[\"data\"]; # OHLC data 460 or so firms/ETFs\n",
    "my_tickers = saved_state_dict[\"tickers\"] |> sort; # *sorted* list of tickers we specified in the worked example\n",
    "Δt = saved_state_dict[\"Δt\"]; # time step in the data\n",
    "maximum_number_trading_days = saved_state_dict[\"maximum_number_trading_days\"]; # how many trading days is in the clean data\n",
    "risk_free_rate = saved_state_dict[\"risk_free_rate\"]; # what is the risk-free rate we used in the example\n",
    "risk_blind_probability_top_dictionary = saved_state_dict[\"probability_top_dictionary\"];\n",
    "\n",
    "index_market = findfirst(x -> x == \"SPY\", my_tickers); # what is the index of SPY in my_tickers\n",
    "K = length(my_tickers); # how tickers (arms) do we have? "
   ]
  },
  {
   "cell_type": "markdown",
   "id": "87c4cb64-4630-43e9-a590-77aff10dc118",
   "metadata": {},
   "source": [
    "## Task 1: Compute the risk measure dictionary for my ticker list\n",
    "While there are several ways to compute risk, in this project, let's borrow an idea from our earlier studies on portfolio allocation and use $\\beta_{i}$, i.e., the covariance of the growth (or return) of ticker $\\mu_{i}$ with respect to the market growth $\\mu_{m}$, normalized by the variance of the market:\n",
    "$$\n",
    "\\begin{equation}\n",
    "\\beta_{i}\\equiv\\frac{\\text{cov}({\\mu_{i},\\mu_{m}})}{\\text{var}(\\mu_{m})}\\quad\\forall{i}\\in\\mathcal{P}\n",
    "\\end{equation}\n",
    "$$\n",
    "\n",
    "Fill me in"
   ]
  },
  {
   "cell_type": "markdown",
   "id": "feca2dc7-624e-427b-b24c-69964adf11bc",
   "metadata": {},
   "source": [
    "### TODO: Compute the covariance for firms in the `my_tickers` list\n",
    "The covariance matrix $\\Sigma$ will be used to estimate $\\beta$ values for the `tickers`$\\in$`my_tickers.` \n",
    "\n",
    "* First, we compute the expected (annualized) log growth rate by passing the `dataset::Dict{String, DataFrame}` and the `my_tickers::Array{String,1}` list to the [log_growth_matrix(...) method](https://varnerlab.github.io/VLQuantitativeFinancePackage.jl/dev/equity/#VLQuantitativeFinancePackage.log_growth_matrix). This will compute the growth rates and store them in the `all_firms_return_matrix` variable, a $T-1\\times{N}$ array of log growth values. Each row of `all_firms_return_matrix` corresponds to a time value, while each column corresponds to a firm:"
   ]
  },
  {
   "cell_type": "code",
   "execution_count": 12,
   "id": "e904afd1-d106-44ff-95e0-8e3660f35dc6",
   "metadata": {},
   "outputs": [],
   "source": [
    "all_firms_return_matrix = log_growth_matrix(dataset, my_tickers, Δt = Δt, \n",
    "    risk_free_rate = 0.0); # *not* excess growth, so set risk_free_rate = 0"
   ]
  },
  {
   "cell_type": "markdown",
   "id": "3f5bd17f-1919-45cc-9769-ce3db47a6cc6",
   "metadata": {},
   "source": [
    "* Next, we estimate the annualized `covariance_matrix` (assuming `252` trading days per year) from the `all_firms_return_matrix` using the [cov(...) function](https://docs.julialang.org/en/v1/stdlib/Statistics/#Statistics.cov), exported by the [Statistics.jl package](https://docs.julialang.org/en/v1/stdlib/Statistics/). We store the $N\\times{N}$ covariance matrix in the $\\Sigma$ variable:"
   ]
  },
  {
   "cell_type": "code",
   "execution_count": 14,
   "id": "fad697f9-0c85-47b8-a894-2c3fbf2d1baf",
   "metadata": {},
   "outputs": [
    {
     "data": {
      "text/plain": [
       "29×29 Matrix{Float64}:\n",
       " 0.0691322   0.0594079   0.0302666   …  0.0686136   0.02538    0.0262735\n",
       " 0.0594079   0.211496    0.0425124      0.0995237   0.0284595  0.036321\n",
       " 0.0302666   0.0425124   0.0894146      0.0498514   0.0298376  0.0780059\n",
       " 0.0351969   0.050067    0.0849407      0.0590759   0.0327878  0.080665\n",
       " 0.0224277   0.0281091   0.0314937      0.0299769   0.0183759  0.0308962\n",
       " 0.0306041   0.040796    0.0414892   …  0.0451837   0.0265421  0.0396317\n",
       " 0.0319759   0.0452737   0.0676833      0.0500259   0.0276715  0.0632671\n",
       " 0.0380052   0.0536885   0.035675       0.0549636   0.0192692  0.0330759\n",
       " 0.0153932   0.0129632   0.0166998      0.0130472   0.0189617  0.0158655\n",
       " 0.0269166   0.0354797   0.0715436      0.0429108   0.0277043  0.0667961\n",
       " 0.00473437  0.00336195  0.00283112  …  0.00182335  0.0033409  0.00247071\n",
       " 0.0167374   0.0164346   0.0247161      0.0156101   0.0204447  0.0254018\n",
       " 0.0297858   0.0378785   0.0742538      0.0438053   0.0323739  0.0723559\n",
       " ⋮                                   ⋱                         \n",
       " 0.0415624   0.0711881   0.0209332      0.0722946   0.0161944  0.0167534\n",
       " 0.0128756   0.0153739   0.0215013      0.00635209  0.0183339  0.0212876\n",
       " 0.0676912   0.136759    0.0443619      0.112498    0.0295997  0.0386303\n",
       " 0.0306116   0.0441175   0.0857602   …  0.0642727   0.0341266  0.0824429\n",
       " 0.0170506   0.0136767   0.0151845      0.0168628   0.0174513  0.0154504\n",
       " 0.0419772   0.0590169   0.0295769      0.0634773   0.0209425  0.0268581\n",
       " 0.0312921   0.0423411   0.0335022      0.0447893   0.0221684  0.031651\n",
       " 0.0242831   0.0294444   0.0484315      0.0387996   0.0238678  0.0474405\n",
       " 0.0190448   0.0185219   0.0300634   …  0.0273971   0.0229264  0.0316108\n",
       " 0.0686136   0.0995237   0.0498514      0.309344    0.0282109  0.0440042\n",
       " 0.02538     0.0284595   0.0298376      0.0282109   0.058926   0.0272271\n",
       " 0.0262735   0.036321    0.0780059      0.0440042   0.0272271  0.0971254"
      ]
     },
     "execution_count": 14,
     "metadata": {},
     "output_type": "execute_result"
    }
   ],
   "source": [
    "Σ = cov(all_firms_return_matrix) |> x -> x*(1/252) # annualized, historical volatility"
   ]
  },
  {
   "cell_type": "markdown",
   "id": "4f039e3a-0474-4e8b-8950-0ac60b372646",
   "metadata": {},
   "source": [
    "### TODO: Compute the risk-measure $\\beta$-dictionary\n",
    "Fill me in"
   ]
  },
  {
   "cell_type": "code",
   "execution_count": 16,
   "id": "58a25a19-608a-4a2a-8904-16022e01644f",
   "metadata": {},
   "outputs": [
    {
     "data": {
      "text/plain": [
       "Dict{String, Float64} with 29 entries:\n",
       "  \"JPM\"   => 1.17336\n",
       "  \"MSFT\"  => 1.13379\n",
       "  \"C\"     => 1.48297\n",
       "  \"MRK\"   => 0.504918\n",
       "  \"UNH\"   => 0.878591\n",
       "  \"SPY\"   => 1.0\n",
       "  \"BAC\"   => 1.32778\n",
       "  \"MU\"    => 1.52694\n",
       "  \"SRE\"   => 0.794775\n",
       "  \"TSLA\"  => 1.77511\n",
       "  \"KR\"    => 0.194428\n",
       "  \"AMD\"   => 1.67809\n",
       "  \"INTC\"  => 1.12753\n",
       "  \"NVDA\"  => 1.78828\n",
       "  \"MMM\"   => 0.938743\n",
       "  \"NOC\"   => 0.566008\n",
       "  \"ECL\"   => 1.13742\n",
       "  \"LMT\"   => 0.67081\n",
       "  \"GS\"    => 1.26915\n",
       "  \"OXY\"   => 1.54752\n",
       "  \"CMCSA\" => 0.856908\n",
       "  \"JNJ\"   => 0.548523\n",
       "  \"SPYD\"  => 1.03756\n",
       "  \"NFLX\"  => 1.07208\n",
       "  \"WFC\"   => 1.25441\n",
       "  ⋮       => ⋮"
      ]
     },
     "execution_count": 16,
     "metadata": {},
     "output_type": "execute_result"
    }
   ],
   "source": [
    "β = Dict{String, Float64}();\n",
    "for i ∈ 1:K\n",
    "    ticker = my_tickers[i];\n",
    "    σᵢ = Σ[i,index_market];\n",
    "    σₘ = Σ[index_market,index_market]\n",
    "    β[ticker] = σᵢ/σₘ;\n",
    "end\n",
    "β"
   ]
  },
  {
   "cell_type": "markdown",
   "id": "dd83b723-40b4-45f5-b0d7-8725d66a297d",
   "metadata": {},
   "source": [
    "## Task 2:  Build risk-aware ticker-picker agent and world model\n",
    "Fill me in"
   ]
  },
  {
   "cell_type": "markdown",
   "id": "ac6a70ed-6ce9-4c5b-a913-a191bba6c47f",
   "metadata": {},
   "source": [
    "### TODO: Get something from somewhere\n",
    "File me in"
   ]
  },
  {
   "cell_type": "code",
   "execution_count": 19,
   "id": "c98b63dc-5c80-4e47-85c1-7fb3ed5cc021",
   "metadata": {},
   "outputs": [],
   "source": [
    "bandit_model = saved_state_dict[\"banditmodel\"];"
   ]
  },
  {
   "cell_type": "markdown",
   "id": "9b9088b2-e300-4908-a145-1f0864bd20dc",
   "metadata": {},
   "source": [
    "### TODO: Setup a MyTickerPickerRiskAwareWorldModel instance\n",
    "Now that we have set up the bandit model, we construct [a `MyTickerPickerRiskAwareWorldModel` instance](https://varnerlab.github.io/VLQuantitativeFinancePackage.jl/dev/bandits/#VLQuantitativeFinancePackage.MyTickerPickerRiskAwareWorldModel) which holds data about the world that we sample. The `world(...)` function takes problem data and returns a binary reward. First, we formulate the `world(...)` function, which takes the `start::Int64` index, an action $a\\in\\mathcal{A}$ value, and the `worldmodel::MyTickerPickerWorldModel.` The `world(...)` function returns a binary reward $r\\in\\left\\{0,1\\right\\}$.\n",
    "\n",
    "#### Summary of the risk-award world function\n",
    "`Unhide` the code block to see a reference implementation of the `world(...)` function. \n",
    "* We compare the wealth generated by investing `1 USD` in a fund that returns the risk-free rate for `buffersize::Int64` periods of $\\Delta{t}$ duration (denoted as `W_risk_free`) versus `1 USD` in a `ticker` over the same period (denoted as `W_ticker`). If `W_ticker > W_risk_free`, the `world(...)` function returns `1`, i.e., success; otherwise, the `world(...)` function returns `0.`"
   ]
  },
  {
   "cell_type": "code",
   "execution_count": 21,
   "id": "4ed9fad0-dc00-41fa-8002-7efffa2c92ff",
   "metadata": {},
   "outputs": [],
   "source": [
    "function world(start::Int64, action::Int64, worldmodel::MyTickerPickerRiskAwareWorldModel)::Int64\n",
    "    \n",
    "    # initialize \n",
    "    tickers = worldmodel.tickers;\n",
    "    data = worldmodel.data;\n",
    "    risk_free_rate = worldmodel.risk_free_rate;\n",
    "    Δt = worldmodel.Δt;\n",
    "    buffersize = worldmodel.buffersize;\n",
    "    risk_dictionary = worldmodel.risk;\n",
    "    \n",
    "    # compute the expected return over the horizon -\n",
    "    ticker_symbol = tickers[action]; # ticker we are looking at\n",
    "    price_df = data[ticker_symbol];\n",
    "    time = range(start+1,(start+buffersize), step = 1) |> collect\n",
    "    \n",
    "    buffer = Array{Float64,1}();\n",
    "    for t ∈ time\n",
    "        P₁ = price_df[t-1, :volume_weighted_average_price]\n",
    "        P₂ = price_df[t, :volume_weighted_average_price]\n",
    "        R = (1/Δt)*log(P₂/P₁); # growth rate\n",
    "        push!(buffer,R);\n",
    "    end\n",
    "    β = risk_dictionary[ticker_symbol];\n",
    "    sum_value = sum(buffer); # normalize by the risk\n",
    "    μ = (β^(-1*buffersize*sign(sum_value)))*sum_value;\n",
    "\n",
    "    # if we invested 1 USD, in each find how much would we have at the end of the horizon -\n",
    "    W_risk_free = exp(buffersize*risk_free_rate*Δt); # only risk-free assets\n",
    "    W_ticker = exp(μ*Δt);\n",
    "\n",
    "    # Are we better or worse relative to the risk-free investment?\n",
    "    result_flag = nothing;\n",
    "    (W_ticker > W_risk_free) ? result_flag = 1 : result_flag = 0;\n",
    "\n",
    "    # @show (W_risk_free, W_ticker, ticker_symbol, start, result_flag)\n",
    "    \n",
    "    return result_flag;\n",
    "end;"
   ]
  },
  {
   "cell_type": "markdown",
   "id": "dc40ca54-c499-4e8e-a55d-d80f8ea525b7",
   "metadata": {},
   "source": [
    "Next, you need to set the `buffersize::Int64` variable. This variable controls the number of trading periods of duration $\\Delta{t}$ that we use to compute the return.\n",
    "* __Note__: The reference implementation above uses overlapping evaluation periods, not discrete contiguous periods. A more realistic implementation would refactor the reference implementation to use non-overlapping periods."
   ]
  },
  {
   "cell_type": "code",
   "execution_count": 23,
   "id": "ec6cc685-9c1b-4633-8cd0-0826a1bba76f",
   "metadata": {},
   "outputs": [],
   "source": [
    "buffersize = 5; # 1-trading week"
   ]
  },
  {
   "cell_type": "markdown",
   "id": "e405d1d3-978d-4881-836f-59aa9e8bae8a",
   "metadata": {},
   "source": [
    "Finally, we construct a [`MyTickerPickerWorldModel` instance](https://varnerlab.github.io/VLQuantitativeFinancePackage.jl/dev/bandits/#VLQuantitativeFinancePackage.MyTickerPickerWorldModel) using \n",
    "[a custom `build(...)` method](https://varnerlab.github.io/VLQuantitativeFinancePackage.jl/dev/bandits/#VLQuantitativeFinancePackage.build-Tuple{Type{MyTickerPickerWorldModel},%20NamedTuple}). The [`build(...)` method](https://varnerlab.github.io/VLQuantitativeFinancePackage.jl/dev/bandits/#VLQuantitativeFinancePackage.build-Tuple{Type{MyTickerPickerWorldModel},%20NamedTuple}) take two arguments: first, the [`MyTickerPickerWorldModel` type](https://varnerlab.github.io/VLQuantitativeFinancePackage.jl/dev/bandits/#VLQuantitativeFinancePackage.MyTickerPickerWorldModel) and the second is a [Julia `NamedTuple` instance](https://docs.julialang.org/en/v1/base/base/#Core.NamedTuple) holding data for the model:\n",
    "* The [`MyTickerPickerWorldModel` instance](https://varnerlab.github.io/VLQuantitativeFinancePackage.jl/dev/bandits/#VLQuantitativeFinancePackage.MyTickerPickerWorldModel) requires the `my_tickers::Array{String,1}` array, the `data::Dict{String, DataFrame}` field holding the price data dictionary, the `world::Function`, the `risk_free_rate::Float64`, the duration of the time-step $\\Delta{t}$, and the `buffersize::Int64` field. We store the world model in the `world_model::MyTickerPickerWorldModel` variable:"
   ]
  },
  {
   "cell_type": "code",
   "execution_count": 25,
   "id": "8cecdfd1-a709-45b8-b332-559b749c79ff",
   "metadata": {},
   "outputs": [],
   "source": [
    "risk_aware_world_model = build(MyTickerPickerRiskAwareWorldModel, (\n",
    "    tickers = my_tickers,\n",
    "    data = dataset,\n",
    "    world = world,\n",
    "    risk_free_rate = risk_free_rate,\n",
    "    Δt = Δt,\n",
    "    buffersize = buffersize,\n",
    "    risk = β\n",
    "));"
   ]
  },
  {
   "cell_type": "markdown",
   "id": "26837591-fecd-4e48-b9de-54e29471204b",
   "metadata": {},
   "source": [
    "## Task 3: Run a collection of risk-aware ticker-picker agents and examine their preferences\n",
    "In this task, explore the preference of `N` agents by running the [`sample(...)` method](https://varnerlab.github.io/VLQuantitativeFinancePackage.jl/dev/bandits/#VLQuantitativeFinancePackage.sample-Tuple{MyEpsilonSamplingBanditModel,%20MyTickerPickerWorldModel}) inside a [`for-loop`](https://docs.julialang.org/en/v1/base/base/#for). We'll store the results at a particular `trading_day_index::Int64` in the `agent_specific_data::Array{Beta,2}(undef, K, number_of_agents)` array. \n",
    "* The `agent_specific_data` array holds the [`Beta` distributions](https://juliastats.org/Distributions.jl/stable/univariate/#Distributions.Beta) for each agent at `trading_day_index::Int64` for each `ticker`$\\in$`tickers.` The `ticker` is the row index, and the agent's [`Beta` distributions](https://juliastats.org/Distributions.jl/stable/univariate/#Distributions.Beta) is the column index, e.g., index (1,4) holds the preference for ticker = 1 held by agent = 4 at time `trading_day_index::Int64.`\n",
    "* In the code block below, we use [the Julia `foreach(...)` iteration pattern](https://docs.julialang.org/en/v1/base/collections/#Base.foreach) to populate the `agent_specific_data` array. We could have also used [a simple `for-loop`](https://docs.julialang.org/en/v1/base/base/#for), but the [`foreach(...)` iteration pattern](https://docs.julialang.org/en/v1/base/collections/#Base.foreach) is more compact."
   ]
  },
  {
   "cell_type": "code",
   "execution_count": 27,
   "id": "6c2f81cf-179d-43fc-9ef3-89fea138ee46",
   "metadata": {},
   "outputs": [],
   "source": [
    "number_of_agents = 5000; # how many agents do we want\n",
    "trading_day_index = (maximum_number_trading_days - buffersize); # What trading day are we interested in?\n",
    "risk_aware_agent_specific_data = Array{Beta,2}(undef, K, number_of_agents);\n",
    "\n",
    "for agent_index ∈ 1:number_of_agents\n",
    "    \n",
    "    # sample -\n",
    "    time_sample_results_dict_eps = VLQuantitativeFinancePackage.sample(bandit_model, risk_aware_world_model; \n",
    "        horizon = (maximum_number_trading_days - buffersize));\n",
    "\n",
    "    # populate the agent_specific_data array\n",
    "    foreach(k-> risk_aware_agent_specific_data[k, agent_index] = time_sample_results_dict_eps[trading_day_index][k], 1:K)\n",
    "end"
   ]
  },
  {
   "cell_type": "code",
   "execution_count": 28,
   "id": "031ed4e5-4415-47a9-80b1-16db050000c4",
   "metadata": {},
   "outputs": [
    {
     "data": {
      "text/plain": [
       "29-element Vector{Beta}:\n",
       " Beta{Float64}(α=23.0, β=22.0)\n",
       " Beta{Float64}(α=7.0, β=10.0)\n",
       " Beta{Float64}(α=15.0, β=15.0)\n",
       " Beta{Float64}(α=11.0, β=13.0)\n",
       " Beta{Float64}(α=12.0, β=13.0)\n",
       " Beta{Float64}(α=26.0, β=21.0)\n",
       " Beta{Float64}(α=9.0, β=13.0)\n",
       " Beta{Float64}(α=7.0, β=11.0)\n",
       " Beta{Float64}(α=7.0, β=12.0)\n",
       " Beta{Float64}(α=3.0, β=8.0)\n",
       " Beta{Float64}(α=19.0, β=21.0)\n",
       " Beta{Float64}(α=45.0, β=38.0)\n",
       " Beta{Float64}(α=17.0, β=18.0)\n",
       " ⋮\n",
       " Beta{Float64}(α=3.0, β=8.0)\n",
       " Beta{Float64}(α=41.0, β=32.0)\n",
       " Beta{Float64}(α=7.0, β=13.0)\n",
       " Beta{Float64}(α=16.0, β=18.0)\n",
       " Beta{Float64}(α=16.0, β=17.0)\n",
       " Beta{Float64}(α=25.0, β=22.0)\n",
       " Beta{Float64}(α=67.0, β=47.0)\n",
       " Beta{Float64}(α=28.0, β=21.0)\n",
       " Beta{Float64}(α=32.0, β=25.0)\n",
       " Beta{Float64}(α=9.0, β=13.0)\n",
       " Beta{Float64}(α=7.0, β=11.0)\n",
       " Beta{Float64}(α=4.0, β=10.0)"
      ]
     },
     "execution_count": 28,
     "metadata": {},
     "output_type": "execute_result"
    }
   ],
   "source": [
    "risk_aware_agent_specific_data[:,1]"
   ]
  },
  {
   "cell_type": "markdown",
   "id": "d104e405-c48f-47cb-ad42-35f6608d5b63",
   "metadata": {},
   "source": [
    "### TODO: Compute the wisdom of the risk-aware collective\n",
    "Now that we have preferences for the `N` agents (encoded as `Beta` distributions for each ticker), let's develop a consensus belief in which tickers we might include in our portfolio $\\mathcal{P}$. First, compute the agent-specific rank of each `ticker`$\\in$`my_tickers,` where `rank = 1` is the best, and `rank = K` is the worst. We'll store these values in the `preference_rank_array::Array{Int,2}` array."
   ]
  },
  {
   "cell_type": "code",
   "execution_count": 30,
   "id": "a2463e58-0dc5-472b-a547-a4b16a19acd4",
   "metadata": {},
   "outputs": [
    {
     "data": {
      "text/plain": [
       "5000×29 Matrix{Int64}:\n",
       " 11  20  12  19  16   5  21  23  25  …  18  15   9   1   2   4  21  23  27\n",
       " 23   7  10  17  11   5  21   9   2     15  20  28   3   4  12  28  17  19\n",
       " 27   8  21  22   6   1  11  17  15     25  12   5  19  19  23  29   7  19\n",
       "  5  21   3  19  14  22  20  10  15     13  27   7  12   2   8  25   8  17\n",
       "  2  25  16  27   3  19   4  15  16      6   9  22  23  28  13  18   8  10\n",
       "  5  23  18  13   3  19  28  11   4  …   8   2   6   1  23   9  16  14  28\n",
       " 14  21  12  16   4   8  15  24  24     22   6   5   2  10  27  16  29   7\n",
       " 15  28  11  22  21  15  26   5  18     10   4   2  15   3   8  29   7  15\n",
       " 18  25  25  11   5  28  16  10  15     17  19  23  24   7  22  14   3  12\n",
       "  7  29  20  21  14   1  16  19  25     26   6  11  10   9  28  22  15  13\n",
       "  2  26  17  24  19  17  21   9  22  …  25   7   1  14  15  11  27  17  23\n",
       "  4  23   6  21  19  26  26  10  15     28  29   1  12  16   9  21   3  11\n",
       "  7   9  21  17  10   1   6  20   8     29  14   5  12  25   2  28  11   4\n",
       "  ⋮                   ⋮              ⋱   ⋮                   ⋮          \n",
       " 12  13   3  28  11  27   8  17  16     23   2  29   1  26   4  15   7  10\n",
       "  8  13   6  22  25   1  12  26  13     23  28   2  16   9   6  16  10   4\n",
       "  1  26  20   2  18  17   4  11  24  …  25  23  26   5   6  14  22   3  20\n",
       " 13  11  13  13   8   2  21  10  15     21  23  28   3   9   6  29   5  20\n",
       " 22  24  26   7  17   6  29  26   4     12  28   3  16   1   8  23  13  14\n",
       " 14  21  11  25   2   9  21   5  12     27  26   3   1  23   8  14   7  19\n",
       "  9  25  20  21   1   8   6  28  18     26  29   3   2  18  13  15  18  14\n",
       " 26  28  26  19  14   7  18  23  11  …  21  10   2   3   4   1  26   7  22\n",
       "  7  11  24  27   9   1   6  29  21     19  20  17   8  17  22  25   2  26\n",
       " 10  15  18  20   9  16   8  27  29     23  12   1   6  22  20  13   7  24\n",
       " 21  10   2  26  19  28  13  16  21     17  20   7   1   9   6  24   7  28\n",
       "  4  29  18  22  19  17  20   9  23     25  15  28   1   8  16  12   6  11"
      ]
     },
     "execution_count": 30,
     "metadata": {},
     "output_type": "execute_result"
    }
   ],
   "source": [
    "risk_aware_preference_rank_array = Array{Int,2}(undef, number_of_agents, K);\n",
    "for agent ∈ 1:number_of_agents\n",
    "        \n",
    "    # ask an agent about their preference for ticker i -\n",
    "    experience_distributions = risk_aware_agent_specific_data[:,agent]\n",
    "    preference_vector = preference(experience_distributions, my_tickers) .|> x-> trunc(Int64, x) # wow the trunc function is cool!\n",
    "\n",
    "    # package\n",
    "    foreach(i -> risk_aware_preference_rank_array[agent, i] = preference_vector[i], 1:K);\n",
    "end\n",
    "risk_aware_preference_rank_array"
   ]
  },
  {
   "cell_type": "markdown",
   "id": "ba875728-849b-4386-b15f-51f99f5cee37",
   "metadata": {},
   "source": [
    "The rows of the `risk_aware_preference_rank_array::Array{Int,2}` correspond to agents, while the columns hold each firm's ranking by that agent, with smaller values indicating a higher preference. The agent ranking was calculated [using the `preference(...)` function](https://varnerlab.github.io/VLQuantitativeFinancePackage.jl/dev/bandits/#VLQuantitativeFinancePackage.preference) which agent's belief (encoded as an array of [`Beta` distributions](https://juliastats.org/Distributions.jl/stable/univariate/#Distributions.Beta)) and returns the ordinal ranking of each `ticker`$\\in$`my_tickers.`"
   ]
  },
  {
   "cell_type": "markdown",
   "id": "6c17d01d-0cf2-4e7d-9e2f-49c063b5f7cb",
   "metadata": {},
   "source": [
    "#### Compute the risk aware probability dictionary\n",
    "Let's count the number of times a `ticker` is ranked in the `top M` tickers across the `N` agents and then normalize by the number of agents, i.e., estimate the probability of being ranked in the `top M` using a [`for-loop`](https://docs.julialang.org/en/v1/base/base/#for).\n",
    "* First, we set a value `M::Int64`, the number of top firms we consider. Then, we initialize data storage for the probability values. We'll store the probability value in the `probability_top_dictionary::Dict{String, Float64},` where the `ticker::String` is the key, and the frequency is the value.\n",
    "* For ticker index `i`, we first compute the probability, and then we store the probability in the `risk_aware_probability_top_dictionary::Dict{String, Float64}`. In this code, we make heavy use of the [Julia pipe `|>` operator](https://docs.julialang.org/en/v1/manual/functions/#Function-composition-and-piping) to condense many operations into a single line. Yes, that is not great for readability, but wow, what a Flex!"
   ]
  },
  {
   "cell_type": "code",
   "execution_count": 33,
   "id": "d75d9e19-915b-4475-a92c-8a42abe375a9",
   "metadata": {},
   "outputs": [],
   "source": [
    "M = 10; # look for top M firms\n",
    "risk_aware_probability_top_dictionary = Dict{String,Float64}();\n",
    "for i ∈ eachindex(my_tickers)\n",
    "    probability = findall(x-> x ≤ M, risk_aware_preference_rank_array[:,i]) |> x -> length(x) |> x-> x/number_of_agents; # compute probability\n",
    "    my_tickers[i] |> ticker -> risk_aware_probability_top_dictionary[ticker] = probability; # store probability\n",
    "end"
   ]
  },
  {
   "cell_type": "markdown",
   "id": "bcc49850-e7a0-4eac-adae-834f95a31793",
   "metadata": {},
   "source": [
    "### TODO: Build a preference table over the population of agents for risk blind and risk-aware agents\n",
    "The `probability_top_dictionary::Dict{String, Float64}` holds the probability that a `ticker`$\\in$ `my_tickers` is ranked in the `top M` firms. Let's now look at the ordinal ranking and propose some tests of our interpretation of this data."
   ]
  },
  {
   "cell_type": "code",
   "execution_count": 35,
   "id": "39d2018b-2479-4709-bf86-6d959fa0b16d",
   "metadata": {
    "jupyter": {
     "source_hidden": true
    }
   },
   "outputs": [
    {
     "name": "stdout",
     "output_type": "stream",
     "text": [
      "┌────────┬──────────┬────────────────────────┬────────────────────────┬─────────────────┬─────────────────┬───────┐\n",
      "│\u001b[1m ticker \u001b[0m│\u001b[1m        β \u001b[0m│\u001b[1m probability_risk_blind \u001b[0m│\u001b[1m probability_risk_aware \u001b[0m│\u001b[1m rank_risk_blind \u001b[0m│\u001b[1m rank_risk_aware \u001b[0m│\u001b[1m     Δ \u001b[0m│\n",
      "│\u001b[90m String \u001b[0m│\u001b[90m  Float64 \u001b[0m│\u001b[90m                Float64 \u001b[0m│\u001b[90m                Float64 \u001b[0m│\u001b[90m           Int64 \u001b[0m│\u001b[90m           Int64 \u001b[0m│\u001b[90m Int64 \u001b[0m│\n",
      "├────────┼──────────┼────────────────────────┼────────────────────────┼─────────────────┼─────────────────┼───────┤\n",
      "│   AAPL │  1.24019 │                  0.544 │                 0.5478 │               4 │               4 │     0 │\n",
      "│    AMD │  1.67809 │                  0.461 │                 0.1726 │               5 │              24 │    19 │\n",
      "│    BAC │  1.32778 │                  0.283 │                 0.2206 │              21 │              23 │     2 │\n",
      "│      C │  1.48297 │                 0.2734 │                 0.1232 │              23 │              27 │     4 │\n",
      "│  CMCSA │ 0.856908 │                  0.288 │                 0.3696 │              18 │              15 │    -3 │\n",
      "│    ECL │  1.13742 │                 0.4464 │                 0.4566 │               6 │               7 │     1 │\n",
      "│     GS │  1.26915 │                  0.284 │                 0.2524 │              20 │              21 │     1 │\n",
      "│   INTC │  1.12753 │                 0.3648 │                 0.4102 │              12 │              11 │    -1 │\n",
      "│    JNJ │ 0.548523 │                 0.2074 │                 0.3076 │              27 │              17 │   -10 │\n",
      "│    JPM │  1.17336 │                 0.3042 │                 0.3014 │              16 │              18 │     2 │\n",
      "│     KR │ 0.194428 │                  0.271 │                 0.3906 │              24 │              14 │   -10 │\n",
      "│    LMT │  0.67081 │                 0.2354 │                 0.3352 │              25 │              16 │    -9 │\n",
      "│    MET │  1.34474 │                 0.3662 │                 0.2522 │              11 │              22 │    11 │\n",
      "│    MMM │ 0.938743 │                 0.2028 │                  0.281 │              28 │              19 │    -9 │\n",
      "│    MRK │ 0.504918 │                 0.3994 │                 0.5052 │               8 │               5 │    -3 │\n",
      "│   MSFT │  1.13379 │                 0.5858 │                 0.6212 │               1 │               2 │     1 │\n",
      "│     MU │  1.52694 │                 0.2186 │                 0.1444 │              26 │              25 │    -1 │\n",
      "│   NFLX │  1.07208 │                 0.3664 │                 0.4256 │              10 │               8 │    -2 │\n",
      "│    NOC │ 0.566008 │                 0.2966 │                 0.4066 │              17 │              12 │    -5 │\n",
      "│   NVDA │  1.78828 │                 0.4294 │                 0.1244 │               7 │              26 │    19 │\n",
      "│    OXY │  1.54752 │                 0.1564 │                 0.0842 │              29 │              29 │     0 │\n",
      "│    PEP │ 0.571192 │                 0.2736 │                 0.4124 │              22 │              10 │   -12 │\n",
      "│    QQQ │  1.12105 │                  0.577 │                 0.5922 │               2 │               3 │     1 │\n",
      "│    SPY │      1.0 │                  0.566 │                 0.6266 │               3 │               1 │    -2 │\n",
      "│   SPYD │  1.03756 │                 0.3494 │                 0.4156 │              13 │               9 │    -4 │\n",
      "│    SRE │ 0.794775 │                 0.3178 │                 0.4052 │              15 │              13 │    -2 │\n",
      "│   TSLA │  1.77511 │                 0.3348 │                  0.122 │              14 │              28 │    14 │\n",
      "│    UNH │ 0.878591 │                 0.3694 │                  0.463 │               9 │               6 │    -3 │\n",
      "│    WFC │  1.25441 │                 0.2866 │                 0.2802 │              19 │              20 │     1 │\n",
      "└────────┴──────────┴────────────────────────┴────────────────────────┴─────────────────┴─────────────────┴───────┘\n"
     ]
    }
   ],
   "source": [
    "let\n",
    "    # initialize \n",
    "    df = DataFrame();\n",
    "    tmp_risk_blind = Array{Float64,1}();\n",
    "    tmp_risk_aware = Array{Float64,1}();\n",
    "\n",
    "    # compute the ordinal rank of the sorted list of tickers\n",
    "    my_sorted_tickers = my_tickers |> sort;\n",
    "\n",
    "    # blind -\n",
    "    foreach(ticker -> push!(tmp_risk_blind, risk_blind_probability_top_dictionary[ticker]), my_sorted_tickers)\n",
    "    ordinal_rank_risk_blind = ordinalrank(tmp_risk_blind, rev=true); # function exported by StatsBase.jl\n",
    "\n",
    "    # aware -\n",
    "    foreach(ticker -> push!(tmp_risk_aware, risk_aware_probability_top_dictionary[ticker]), my_sorted_tickers)\n",
    "    ordinal_rank_risk_aware = ordinalrank(tmp_risk_aware, rev=true); # function exported by StatsBase.jl\n",
    "    \n",
    "    # populate rows in the df -\n",
    "    for i ∈ eachindex(my_sorted_tickers)\n",
    "        ticker_value = my_sorted_tickers[i];    \n",
    "        freq_value = \n",
    "        row_df = (\n",
    "            ticker = ticker_value,\n",
    "            β = β[ticker_value],\n",
    "            probability_risk_blind = risk_blind_probability_top_dictionary[ticker_value],\n",
    "            probability_risk_aware = risk_aware_probability_top_dictionary[ticker_value],\n",
    "            rank_risk_blind = ordinal_rank_risk_blind[i],\n",
    "            rank_risk_aware = ordinal_rank_risk_aware[i],\n",
    "            Δ = (ordinal_rank_risk_aware[i] - ordinal_rank_risk_blind[i])\n",
    "        );\n",
    "        push!(df, row_df);\n",
    "    end\n",
    "    pretty_table(df); \n",
    "end"
   ]
  },
  {
   "cell_type": "markdown",
   "id": "067bbb72-7ded-4661-ac6e-500ce0573150",
   "metadata": {},
   "source": [
    "## Disclaimer and Risks\n",
    "__This content is offered solely for training and informational purposes__. No offer or solicitation to buy or sell securities or derivative products or any investment or trading advice or strategy is made, given, or endorsed by the teaching team. \n",
    "\n",
    "__Trading involves risk__. Carefully review your financial situation before investing in securities, futures contracts, options, or commodity interests. Past performance, whether actual or indicated by historical tests of strategies, is no guarantee of future performance or success. Trading is generally inappropriate for someone with limited resources, investment or trading experience, or a low-risk tolerance.  Only risk capital that is not required for living expenses.\n",
    "\n",
    "__You are fully responsible for any investment or trading decisions you make__. Such decisions should be based solely on evaluating your financial circumstances, investment or trading objectives, risk tolerance, and liquidity needs."
   ]
  }
 ],
 "metadata": {
  "kernelspec": {
   "display_name": "Julia 1.10.4",
   "language": "julia",
   "name": "julia-1.10"
  },
  "language_info": {
   "file_extension": ".jl",
   "mimetype": "application/julia",
   "name": "julia",
   "version": "1.10.4"
  }
 },
 "nbformat": 4,
 "nbformat_minor": 5
}
