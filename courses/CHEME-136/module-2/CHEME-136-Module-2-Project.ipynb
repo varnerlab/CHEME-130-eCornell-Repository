{
 "cells": [
  {
   "cell_type": "markdown",
   "id": "112b4cf6-0257-4535-b1b3-01b9d0453da3",
   "metadata": {},
   "source": [
    "# Project: Binary Bernoulli Bandit Risk Aware Ticker Picker\n",
    "In the binary Bernoulli bandit ticker picker example, we evaluated the return of the possible tickers over investment periods of length `buffersize::Int64.` However, we failed to consider the risk associated with these tickers. In this project, students will refactor the example code to include the risk for each ticker.\n",
    "\n",
    "### Learning objectives and tasks\n",
    "Fill me in."
   ]
  },
  {
   "cell_type": "markdown",
   "id": "f2521864-a344-4396-83aa-9b3334e9cd02",
   "metadata": {},
   "source": [
    "## Setup\n",
    "We set up the computational environment by including the `Include.jl` file. The `Include.jl` file loads external packages, various functions that we will use in the exercise, and custom types to model the components of our lab problem.\n",
    "* For additional information on functions and types used in this material, see the [Julia programming language documentation](https://docs.julialang.org/en/v1/) and the [VLQuantitativeFinancePackage.jl documentation](https://github.com/varnerlab/VLQuantitativeFinancePackage.jl)."
   ]
  },
  {
   "cell_type": "code",
   "execution_count": 3,
   "id": "f65a7f2d-9d49-4b1f-97ba-e3901c07a096",
   "metadata": {},
   "outputs": [
    {
     "name": "stderr",
     "output_type": "stream",
     "text": [
      "\u001b[32m\u001b[1m    Updating\u001b[22m\u001b[39m git-repo `https://github.com/varnerlab/VLQuantitativeFinancePackage.jl.git`\n",
      "\u001b[32m\u001b[1m   Resolving\u001b[22m\u001b[39m package versions...\n",
      "\u001b[32m\u001b[1m  No Changes\u001b[22m\u001b[39m to `~/Desktop/julia_work/CHEME-130-eCornell-Repository/courses/CHEME-136/module-2/Project.toml`\n",
      "\u001b[32m\u001b[1m  No Changes\u001b[22m\u001b[39m to `~/Desktop/julia_work/CHEME-130-eCornell-Repository/courses/CHEME-136/module-2/Manifest.toml`\n",
      "\u001b[32m\u001b[1m  Activating\u001b[22m\u001b[39m project at `~/Desktop/julia_work/CHEME-130-eCornell-Repository/courses/CHEME-136/module-2`\n",
      "\u001b[32m\u001b[1m  No Changes\u001b[22m\u001b[39m to `~/Desktop/julia_work/CHEME-130-eCornell-Repository/courses/CHEME-136/module-2/Project.toml`\n",
      "\u001b[32m\u001b[1m  No Changes\u001b[22m\u001b[39m to `~/Desktop/julia_work/CHEME-130-eCornell-Repository/courses/CHEME-136/module-2/Manifest.toml`\n",
      "\u001b[32m\u001b[1m    Updating\u001b[22m\u001b[39m registry at `~/.julia/registries/General.toml`\n",
      "\u001b[32m\u001b[1m    Updating\u001b[22m\u001b[39m git-repo `https://github.com/varnerlab/VLQuantitativeFinancePackage.jl.git`\n",
      "\u001b[32m\u001b[1m  No Changes\u001b[22m\u001b[39m to `~/Desktop/julia_work/CHEME-130-eCornell-Repository/courses/CHEME-136/module-2/Project.toml`\n",
      "\u001b[32m\u001b[1m  No Changes\u001b[22m\u001b[39m to `~/Desktop/julia_work/CHEME-130-eCornell-Repository/courses/CHEME-136/module-2/Manifest.toml`\n"
     ]
    }
   ],
   "source": [
    "include(\"Include.jl\");"
   ]
  },
  {
   "cell_type": "markdown",
   "id": "e3fccc16-4d59-46b8-9da6-8c7abceebc68",
   "metadata": {},
   "source": [
    "## Prerequisites: Load ticker-picker save file\n",
    "Let's begin by loading the [HDF5 encoded saved file](https://en.wikipedia.org/wiki/Hierarchical_Data_Format) generated in the worked example using [a `load(...)`  method exported by the JLD2.jl package](https://github.com/JuliaIO/JLD2.jl). First, we specify the path to the saved file in the `path_to_save_file::String` variable:"
   ]
  },
  {
   "cell_type": "code",
   "execution_count": 5,
   "id": "ec02bef3-593d-4841-b4f4-5bf4012e7d13",
   "metadata": {},
   "outputs": [],
   "source": [
    "number_of_agents = 5000; # how many agents do we want\n",
    "path_to_save_file = joinpath(_PATH_TO_DATA, \"TickerPickerAgent-Simulation-State-N-$(number_of_agents).jld2\");"
   ]
  },
  {
   "cell_type": "markdown",
   "id": "da8fe72b-05d0-4eab-80c7-387558c47120",
   "metadata": {},
   "source": [
    "then we [call the `load(...)` method exported by the JLD2.jl package](https://github.com/JuliaIO/JLD2.jl), which reads the binary saved file and returns the saved data as a dictionary; we assign the data to the `saved_state_dict::Dict{String, Any}` variable:"
   ]
  },
  {
   "cell_type": "code",
   "execution_count": 7,
   "id": "b2d1e2a8-37cb-4d4f-b220-e67caede1fc2",
   "metadata": {},
   "outputs": [
    {
     "data": {
      "text/plain": [
       "Dict{String, Any} with 7 entries:\n",
       "  \"risk_free_rate\" => 0.047\n",
       "  \"buffersize\"     => 5\n",
       "  \"data\"           => Dict{String, DataFrame}(\"TPR\"=>\u001b[1m1508×8 DataFrame\u001b[0m\u001b[0m…\n",
       "  \"preferences\"    => Beta[Beta{Float64}(α=7.0, β=10.0) Beta{Float64}(α=3.0, β=…\n",
       "  \"tickers\"        => [\"MRK\", \"JNJ\", \"MET\", \"NFLX\", \"AAPL\", \"AMD\", \"MU\", \"INTC\"…\n",
       "  \"banditmodel\"    => MyEpsilonSamplingBanditModel([1.0, 1.0, 1.0, 1.0, 1.0, 1.…\n",
       "  \"Δt\"             => 0.00396825"
      ]
     },
     "execution_count": 7,
     "metadata": {},
     "output_type": "execute_result"
    }
   ],
   "source": [
    "saved_state_dict = load(path_to_save_file)"
   ]
  },
  {
   "cell_type": "markdown",
   "id": "87c4cb64-4630-43e9-a590-77aff10dc118",
   "metadata": {},
   "source": [
    "## Task 1: Compute the risk measure dictionary for my ticker list\n",
    "Fill me in"
   ]
  },
  {
   "cell_type": "code",
   "execution_count": 21,
   "id": "6c144d08-4f87-4f44-b4ce-953bb67ac381",
   "metadata": {},
   "outputs": [],
   "source": [
    "bandit_model = saved_state_dict[\"banditmodel\"];"
   ]
  },
  {
   "cell_type": "markdown",
   "id": "dd83b723-40b4-45f5-b0d7-8725d66a297d",
   "metadata": {},
   "source": [
    "## Task 2:  Build risk-aware ticker-picker agent and world model\n",
    "Fill me in"
   ]
  },
  {
   "cell_type": "markdown",
   "id": "9b9088b2-e300-4908-a145-1f0864bd20dc",
   "metadata": {},
   "source": [
    "### TODO: Setup a MyTickerPickerWorldModel instance\n",
    "Now that we have set up the bandit model, we construct [a `MyTickerPickerWorldModel` instance](https://varnerlab.github.io/VLQuantitativeFinancePackage.jl/dev/bandits/#VLQuantitativeFinancePackage.MyTickerPickerWorldModel) which holds data about the world which we sample. The `world(...)` function takes problem data and returns a binary reward. First, we formulate the `world(...)` function, which takes the `start::Int64` index, an action $a\\in\\mathcal{A}$ value, and the `worldmodel::MyTickerPickerWorldModel.` The `world(...)` function returns a binary reward $r\\in\\left\\{0,1\\right\\}$.\n",
    "\n",
    "#### Summary of world function\n",
    "`Unhide` the code block to see a reference implementation of the `world(...)` function. \n",
    "* We compare the wealth generated by investing `1 USD` in a fund that returns the risk-free rate for `buffersize::Int64` periods of $\\Delta{t}$ duration (denoted as `W_risk_free`) versus `1 USD` in a `ticker` over the same period (denoted as `W_ticker`). If `W_ticker > W_risk_free`, the `world(...)` function returns `1`, i.e., success; otherwise, the `world(...)` function returns `0.`"
   ]
  },
  {
   "cell_type": "markdown",
   "id": "26837591-fecd-4e48-b9de-54e29471204b",
   "metadata": {},
   "source": [
    "## Task 3: Run a collection of ticker-picker agents and examine their preferences\n",
    "Fill me in"
   ]
  },
  {
   "cell_type": "markdown",
   "id": "067bbb72-7ded-4661-ac6e-500ce0573150",
   "metadata": {},
   "source": [
    "## Disclaimer and Risks\n",
    "__This content is offered solely for training and informational purposes__. No offer or solicitation to buy or sell securities or derivative products or any investment or trading advice or strategy is made, given, or endorsed by the teaching team. \n",
    "\n",
    "__Trading involves risk__. Carefully review your financial situation before investing in securities, futures contracts, options, or commodity interests. Past performance, whether actual or indicated by historical tests of strategies, is no guarantee of future performance or success. Trading is generally inappropriate for someone with limited resources, investment or trading experience, or a low-risk tolerance.  Only risk capital that is not required for living expenses.\n",
    "\n",
    "__You are fully responsible for any investment or trading decisions you make__. Such decisions should be based solely on evaluating your financial circumstances, investment or trading objectives, risk tolerance, and liquidity needs."
   ]
  },
  {
   "cell_type": "code",
   "execution_count": null,
   "id": "4c606b15-5880-48b4-ac0c-9a870c637ccd",
   "metadata": {},
   "outputs": [],
   "source": []
  }
 ],
 "metadata": {
  "kernelspec": {
   "display_name": "Julia 1.10.4",
   "language": "julia",
   "name": "julia-1.10"
  },
  "language_info": {
   "file_extension": ".jl",
   "mimetype": "application/julia",
   "name": "julia",
   "version": "1.10.4"
  }
 },
 "nbformat": 4,
 "nbformat_minor": 5
}
