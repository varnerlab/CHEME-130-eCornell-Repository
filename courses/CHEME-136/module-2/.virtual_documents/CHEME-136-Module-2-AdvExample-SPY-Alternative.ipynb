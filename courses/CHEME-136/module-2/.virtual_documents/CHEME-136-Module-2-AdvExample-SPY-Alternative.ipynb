





include("Include.jl");





number_of_agents = 10000; # how many agents do we want
path_to_save_file = joinpath(_PATH_TO_DATA, "TickerPickerAgent-Simulation-State-ALT-SPY-N-$(number_of_agents).jld2");





saved_state_dict = load(path_to_save_file)





dataset = saved_state_dict["data"]; # OHLC data 460 or so firms/ETFs
my_tickers = saved_state_dict["tickers"] |> sort; # *sorted* list of tickers we specified in the worked example
Δt = saved_state_dict["Δt"]; # time step in the data
maximum_number_trading_days = saved_state_dict["maximum_number_trading_days"]; # how many trading days is in the clean data
risk_free_rate = saved_state_dict["risk_free_rate"]; # what is the risk-free rate we used in the example
risk_blind_probability_top_dictionary = saved_state_dict["probability_top_dictionary"]; # probability results from worked example

index_market = findfirst(x -> x == "SPY", my_tickers); # what is the index of SPY in my_tickers (we use this for Task 1)
K = length(my_tickers); # how tickers (arms) do we have? 








all_firms_return_matrix = log_growth_matrix(dataset, my_tickers, Δt = Δt, 
    risk_free_rate = 0.0); # *not* excess growth, so we set risk_free_rate = 0





Σ = cov(all_firms_return_matrix) |> x -> x*(1/252) # annualized, historical volatility





β = Dict{String, Float64}();
for i ∈ 1:K
    ticker = my_tickers[i];
    σᵢ = Σ[i,index_market];
    σₘ = Σ[index_market,index_market]
    β[ticker] = σᵢ/σₘ;
end
β








bandit_model = saved_state_dict["banditmodel"];





function world(start::Int64, action::Int64, worldmodel::MyTickerPickerRiskAwareWorldModel)::Int64
    
    # initialize 
    tickers = worldmodel.tickers;
    data = worldmodel.data;
    risk_free_rate = worldmodel.risk_free_rate;
    Δt = worldmodel.Δt;
    buffersize = worldmodel.buffersize;
    risk_dictionary = worldmodel.risk;
    time = range(start+1,(start+buffersize), step = 1) |> collect

    # What is the ticker?
    ticker_symbol = tickers[action]; # ticker we are looking at?
    if (ticker_symbol == "SPY")
        return 1; # save some computation, this case will always return 1
    end

    # Compute the wealth by investing in SPY
    W_SPY = 0.0;
    SPY_price_df = data["SPY"];
    buffer_SPY = Array{Float64,1}();
    for t ∈ time
        P₁ = SPY_price_df[t-1, :volume_weighted_average_price]
        P₂ = SPY_price_df[t, :volume_weighted_average_price]
        R = (1/Δt)*log(P₂/P₁); # growth rate SPY
        push!(buffer_SPY,R);
    end
    μ_SPY = sum(buffer_SPY);
    W_SPY = exp(μ_SPY*Δt); # if we invested 1 USD in SPY, how much at the end of the period (risk-adjusted)
    
    # Compute the wealth by investing in ticker
    W_ticker = 0.0;
    price_df = data[ticker_symbol];
    buffer_ticker = Array{Float64,1}();
    for t ∈ time
        P₁ = price_df[t-1, :volume_weighted_average_price]
        P₂ = price_df[t, :volume_weighted_average_price]
        R = (1/Δt)*log(P₂/P₁); # growth rate ticker 
        push!(buffer_ticker,R);
    end
    β = risk_dictionary[ticker_symbol];
    sum_value = sum(buffer_ticker);
    γ = buffersize*sign(sum_value);
    μ̄ = (β^(-1*γ))*sum_value;
    W_ticker = exp(μ̄*Δt); # if we invested 1 USD in ticker, how much at the end of the period (risk-adjusted)
 
    # Are we better or worse relative to the risk-free investment?
    result_flag = nothing;
    (W_ticker >= W_SPY) ? result_flag = 1 : result_flag = 0   
    
    # return the reward -
    return result_flag;
end;





buffersize = saved_state_dict["buffersize"]; # use the value from the worked example





risk_aware_world_model = build(MyTickerPickerRiskAwareWorldModel, (
    tickers = my_tickers,
    data = dataset,
    world = world,
    risk_free_rate = risk_free_rate,
    Δt = Δt,
    buffersize = buffersize,
    risk = β
));





trading_day_index = (maximum_number_trading_days - buffersize); # What trading day are we interested in?
risk_aware_agent_specific_data = Array{Beta,2}(undef, K, number_of_agents);
for agent_index ∈ 1:number_of_agents
    
    time_sample_results_dict_eps = VLQuantitativeFinancePackage.sample(bandit_model, risk_aware_world_model; 
        horizon = (maximum_number_trading_days - buffersize)); # sample

    # populate the agent_specific_data array
    foreach(k-> risk_aware_agent_specific_data[k, agent_index] = time_sample_results_dict_eps[trading_day_index][k], 1:K)
end





risk_aware_preference_rank_array = Array{Int,2}(undef, number_of_agents, K);
for agent ∈ 1:number_of_agents
        
    # ask an agent about their preference for ticker i -
    experience_distributions = risk_aware_agent_specific_data[:,agent]
    preference_vector = preference(experience_distributions, my_tickers) .|> x-> trunc(Int64, x) # wow the trunc function is cool!

    # package
    foreach(i -> risk_aware_preference_rank_array[agent, i] = preference_vector[i], 1:K);
end
risk_aware_preference_rank_array





M = saved_state_dict["M"]; # load same top M as worked example
risk_aware_probability_top_dictionary = Dict{String,Float64}();
for i ∈ eachindex(my_tickers)
    probability = findall(x-> x ≤ M, risk_aware_preference_rank_array[:,i]) |> x -> length(x) |> x-> x/number_of_agents; # compute probability
    my_tickers[i] |> ticker -> risk_aware_probability_top_dictionary[ticker] = probability; # store probability
end





let
    # initialize 
    df = DataFrame();
    tmp_risk_blind = Array{Float64,1}();
    tmp_risk_aware = Array{Float64,1}();

    # compute the ordinal rank of the sorted list of tickers
    my_sorted_tickers = my_tickers |> sort;

    # blind -
    foreach(ticker -> push!(tmp_risk_blind, risk_blind_probability_top_dictionary[ticker]), my_sorted_tickers)
    ordinal_rank_risk_blind = ordinalrank(tmp_risk_blind, rev=true); # function exported by StatsBase.jl

    # aware -
    foreach(ticker -> push!(tmp_risk_aware, risk_aware_probability_top_dictionary[ticker]), my_sorted_tickers)
    ordinal_rank_risk_aware = ordinalrank(tmp_risk_aware, rev=true); # function exported by StatsBase.jl
    
    # populate rows in the df -
    for i ∈ eachindex(my_sorted_tickers)
        ticker_value = my_sorted_tickers[i];    
        freq_value = 
        row_df = (
            ticker = ticker_value,
            β = β[ticker_value],
            probability_risk_blind = risk_blind_probability_top_dictionary[ticker_value],
            probability_risk_aware = risk_aware_probability_top_dictionary[ticker_value],
            rank_risk_blind = ordinal_rank_risk_blind[i],
            rank_risk_aware = ordinal_rank_risk_aware[i],
            Δ = (ordinal_rank_risk_aware[i] - ordinal_rank_risk_blind[i])
        );
        push!(df, row_df);
    end
    pretty_table(df); 
end



