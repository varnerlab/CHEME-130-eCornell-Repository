{
 "cells": [
  {
   "cell_type": "markdown",
   "id": "e7581284-9d0a-44c4-b8f3-d9e735f72b55",
   "metadata": {},
   "source": [
    "## `Example`: Developing a Bernoulli Binary Bandit Ticker Picker Agent\n",
    "In this example, we'll develop a collection of agents to advise us which stocks we should include in a portfolio $\\mathcal{P}$ by solving a Multi-arm Binary Bandit problem using [ϵ-Greedy Thompson Sampling](https://arxiv.org/abs/1707.02038). The `K`-actions (bandits) are the potential `tickers` in the portfolio $\\mathcal{P}$. After their analysis, we'll ask the agents to rank-order their preferred `tickers`. \n",
    "\n",
    "### Problem\n",
    "* We have `N` agents independently analyzing daily Open High Low Close (OHLC) data sequences and rank-ordering their belief that the ticker `XYZ` will return at least the risk-free rate in the next step. \n",
    "* We then sample the `world`. If the ticker `XYZ` returns greater than or equal to the risk-free rate in the sample period, the agent receives a reward of `+1`. Otherwise, the agent receives a reward of `0`.\n",
    "* Each agent develops a distribution of beliefs for the probability $p_{a}$, i.e., the probability that `ticker` will beat the risk-free rate based on this experimentation. These beliefs are encoded in the parameters of a [Beta distribution](https://en.wikipedia.org/wiki/Beta_distribution)"
   ]
  },
  {
   "cell_type": "markdown",
   "id": "1f460c75-9615-41a5-b5a1-f3a843413f90",
   "metadata": {
    "tags": []
   },
   "source": [
    "## Setup"
   ]
  },
  {
   "cell_type": "code",
   "execution_count": 1,
   "id": "734b30e2-a662-4bd3-bc37-a61d93b0b4dc",
   "metadata": {
    "tags": []
   },
   "outputs": [],
   "source": [
    "include(\"Include.jl\");"
   ]
  },
  {
   "cell_type": "markdown",
   "id": "44efd168-6b4b-4706-86ed-1abd7bd74468",
   "metadata": {
    "tags": []
   },
   "source": [
    "## Prerequisites: Load and clean the historical dataset\n",
    "We gathered a daily open-high-low-close `dataset` for each firm in the [S&P500](https://en.wikipedia.org/wiki/S%26P_500) since `01-03-2018` until `12-29-2023`, along with data for a few exchange traded funds and volatility products during that time. "
   ]
  },
  {
   "cell_type": "code",
   "execution_count": 2,
   "id": "2598add3-65e9-4c4e-a4b3-d3b9c4095d02",
   "metadata": {
    "tags": []
   },
   "outputs": [],
   "source": [
    "original_dataset = MyMarketDataSet() |> x-> x[\"dataset\"];"
   ]
  },
  {
   "cell_type": "markdown",
   "id": "1f91f716-f9b9-41b2-806a-9f3f999f84e7",
   "metadata": {},
   "source": [
    "### Clean the data\n",
    "Not all of the tickers in our dataset have the maximum number of trading days for various reasons, e.g., acquistion or de-listing events. Let's collect only those tickers with the maximum number of trading days.\n",
    "\n",
    "* First, let's compute the number of records for a company that we know has a maximim value, e.g., `AAPL` and save that value in the `maximum_number_trading_days` variable:"
   ]
  },
  {
   "cell_type": "code",
   "execution_count": 3,
   "id": "64eceddb-6ed7-4f86-9f27-be8e4eb763bb",
   "metadata": {
    "tags": []
   },
   "outputs": [
    {
     "data": {
      "text/plain": [
       "1508"
      ]
     },
     "execution_count": 3,
     "metadata": {},
     "output_type": "execute_result"
    }
   ],
   "source": [
    "maximum_number_trading_days = original_dataset[\"AAPL\"] |> nrow"
   ]
  },
  {
   "cell_type": "markdown",
   "id": "ce9bfe6f-0463-4e33-b826-efb6a15a9d60",
   "metadata": {},
   "source": [
    "Now, lets iterate through our data and collect only those tickers that have `maximum_number_trading_days` records. Save that data in the `dataset::Dict{String,DataFrame}` variable:"
   ]
  },
  {
   "cell_type": "code",
   "execution_count": 4,
   "id": "8b46a0ff-60a0-45aa-b00c-eddd9c1f0a65",
   "metadata": {
    "tags": []
   },
   "outputs": [],
   "source": [
    "dataset = Dict{String,DataFrame}();\n",
    "for (ticker,data) ∈ original_dataset\n",
    "    if (nrow(data) == maximum_number_trading_days)\n",
    "        dataset[ticker] = data;\n",
    "    end\n",
    "end\n",
    "dataset;"
   ]
  },
  {
   "cell_type": "markdown",
   "id": "07956832-7e1f-4695-8391-530924d5d704",
   "metadata": {},
   "source": [
    "Let's get a list of firms that we have in cleaned up `dataset`, and save it in the `all_tickers` array:"
   ]
  },
  {
   "cell_type": "code",
   "execution_count": 5,
   "id": "bf104b4e-6829-4d88-be4d-cf8bd1833ef3",
   "metadata": {
    "tags": []
   },
   "outputs": [
    {
     "data": {
      "text/plain": [
       "460"
      ]
     },
     "execution_count": 5,
     "metadata": {},
     "output_type": "execute_result"
    }
   ],
   "source": [
    "all_tickers = keys(dataset) |> collect |> sort;\n",
    "K = length(all_tickers)"
   ]
  },
  {
   "cell_type": "markdown",
   "id": "8cc6fbed-15c7-4f21-bb8e-dab4be1d0984",
   "metadata": {},
   "source": [
    "## Initialize the `world` function\n",
    "The world function takes action `a`, i.e., chooses a `ticker` from the collection of stocks/ETFs that we are exploring, and asks whether or not the return of this `ticker` at the end of today was greater or equal to the risk-free rate. \n",
    "* If the daily return is greater than or equal to the risk-free rate, the `agent` receives a reward of `r = 1`. Otherwise, the `agent` receives a `r = 0` reward."
   ]
  },
  {
   "cell_type": "code",
   "execution_count": 6,
   "id": "80806586-5fb3-4f65-97d9-f65236d7ce61",
   "metadata": {
    "tags": []
   },
   "outputs": [],
   "source": [
    "function world(action::Int64, start::Int64, data::Dict{String, DataFrame}, tickers::Array{String,1}; \n",
    "        Δt::Float64 = (1.0/252.0), risk_free_rate::Float64 = 0.05, buffersize::Int64 = 1)::Int64\n",
    "\n",
    "    # initialize -\n",
    "    result_flag = 0;\n",
    "\n",
    "    # daily risk free rate -\n",
    "    T = buffersize*Δt;\n",
    "\n",
    "    # grab the ticker we are looking at?\n",
    "    ticker_symbol = tickers[action];\n",
    "    \n",
    "    # compute the expected return over the horizon -\n",
    "    price_df = data[ticker_symbol];\n",
    "    time = range(start+1,(start+buffersize), step=1) |> collect\n",
    "    buffer = Array{Float64,1}();\n",
    "    for t ∈ time\n",
    "        P₁ = price_df[t-1,  :volume_weighted_average_price]\n",
    "        P₂ = price_df[t, :volume_weighted_average_price]\n",
    "        R = (1/Δt)*log(P₂/P₁);\n",
    "        push!(buffer,R);\n",
    "    end\n",
    "    μ = mean(buffer);\n",
    "\n",
    "    # if we invested 1 USD, in each how much would we have at the end of horizon -\n",
    "    W_risk_free = exp(risk_free_rate*T);\n",
    "    W_ticker = exp(μ*T);\n",
    "    \n",
    "    # are we better or worse relative to the risk-free investment?\n",
    "    if (W_ticker >= W_risk_free)\n",
    "        result_flag = 1;\n",
    "    end\n",
    "\n",
    "    # default -\n",
    "    return result_flag;\n",
    "end;"
   ]
  },
  {
   "cell_type": "markdown",
   "id": "eeeed5cd-38c1-4675-8fc9-4fca94b63bbe",
   "metadata": {
    "tags": []
   },
   "source": [
    "Set the `risk_free_rate` variable:"
   ]
  },
  {
   "cell_type": "code",
   "execution_count": 7,
   "id": "4c0a61e0-bd90-439a-8ad4-1675fb4a64f3",
   "metadata": {
    "tags": []
   },
   "outputs": [],
   "source": [
    "risk_free_rate = 0.047;"
   ]
  },
  {
   "cell_type": "markdown",
   "id": "5e36d017-4939-4928-815f-8e5570927efc",
   "metadata": {},
   "source": [
    "## Setup the `ticker-picker` agent"
   ]
  },
  {
   "cell_type": "markdown",
   "id": "ab9db0c8-992e-4ebc-b16f-f32b0c1a23ea",
   "metadata": {},
   "source": [
    "First, let's specify the tickers that we want to examine in the `tickers` array, and store the number of tickers in the `K` variable:"
   ]
  },
  {
   "cell_type": "code",
   "execution_count": 8,
   "id": "f39a61bf-697f-40d0-8012-a099e19cd250",
   "metadata": {
    "tags": []
   },
   "outputs": [],
   "source": [
    "tickers = [\"MRK\", \"JNJ\", \"MET\", \"NFLX\", \"AAPL\", \"AMD\", \"MU\", \"INTC\", \"MSFT\", \"SPY\", \"SPYD\", \"MMM\",\n",
    "    \"UNH\", \"JPM\", \"OXY\", \"TSLA\", \"PEP\", \"LMT\", \"CMCSA\", \"ECL\", \"SRE\", \"BAC\", \"C\", \"WFC\", \"QQQ\", \"KR\", \"NOC\", \"GS\"];\n",
    "K = length(tickers);"
   ]
  },
  {
   "cell_type": "markdown",
   "id": "ca001a8e-911f-42ea-93b4-25c3834f1c97",
   "metadata": {},
   "source": [
    "Next, we construct the `EpsilonSamplingModel` instance which holds information about the ϵ-greedy sampling approach. The `EpsilonSamplingModel` type has one additional field, the `ϵ` field which controls the approximate fraction of `exploration` steps the algorithm takes; `exploration` steps are purely random."
   ]
  },
  {
   "cell_type": "code",
   "execution_count": 9,
   "id": "77681663-c7c3-4071-b522-65d16acfdf8b",
   "metadata": {
    "tags": []
   },
   "outputs": [],
   "source": [
    "model = EpsilonSamplingModel()\n",
    "model.K = K; # tickers\n",
    "model.α = ones(K); # initialize to uniform values\n",
    "model.β = ones(K); # initialize to uniform values\n",
    "model.ϵ = 0.3;"
   ]
  },
  {
   "cell_type": "markdown",
   "id": "5882a50a-4e0e-4572-8cee-32a390ae35ab",
   "metadata": {},
   "source": [
    "## Run a single `ticker-picker` agent and explore its preferences\n",
    "Let's run a single `ticker-picker` agent and examine what it returns using the `sample(...)` function. \n",
    "* The `sample(...)` function takes the agent model `model::EpsilonSamplingModel`, the `world::Function`, the cleaned `dataset` and your list of `tickers`, along with the `horizon` parameter, i.e., how many iterations we want the search to run for,  and the `risk_free_rate`. \n",
    "* The `sample(...)` function returns a dictionary holding the $(\\alpha,\\beta)$ parameters for each ticker (values) for iteration (keys).  "
   ]
  },
  {
   "cell_type": "code",
   "execution_count": 10,
   "id": "0f05cdd3-714f-4299-88fa-b4a5a81819f5",
   "metadata": {
    "tags": []
   },
   "outputs": [
    {
     "data": {
      "text/plain": [
       "Dict{Int64, Matrix{Float64}} with 1507 entries:\n",
       "  1144 => [13.0 9.0; 11.0 13.0; … ; 25.0 21.0; 15.0 12.0]\n",
       "  1175 => [14.0 10.0; 11.0 13.0; … ; 26.0 21.0; 15.0 12.0]\n",
       "  719  => [8.0 7.0; 9.0 11.0; … ; 22.0 16.0; 5.0 6.0]\n",
       "  1028 => [8.0 9.0; 11.0 13.0; … ; 25.0 21.0; 13.0 12.0]\n",
       "  699  => [8.0 7.0; 9.0 11.0; … ; 22.0 14.0; 5.0 6.0]\n",
       "  831  => [8.0 9.0; 11.0 12.0; … ; 23.0 17.0; 7.0 6.0]\n",
       "  1299 => [19.0 15.0; 11.0 13.0; … ; 26.0 21.0; 18.0 14.0]\n",
       "  1438 => [24.0 18.0; 11.0 13.0; … ; 28.0 23.0; 22.0 17.0]\n",
       "  1074 => [9.0 9.0; 11.0 13.0; … ; 25.0 21.0; 14.0 12.0]\n",
       "  319  => [4.0 3.0; 3.0 3.0; … ; 12.0 5.0; 4.0 4.0]\n",
       "  687  => [8.0 7.0; 9.0 11.0; … ; 22.0 14.0; 5.0 6.0]\n",
       "  1199 => [16.0 13.0; 11.0 13.0; … ; 26.0 21.0; 16.0 13.0]\n",
       "  185  => [1.0 2.0; 2.0 3.0; … ; 2.0 2.0; 3.0 3.0]\n",
       "  823  => [8.0 9.0; 11.0 12.0; … ; 23.0 17.0; 7.0 6.0]\n",
       "  1090 => [11.0 9.0; 11.0 13.0; … ; 25.0 21.0; 14.0 12.0]\n",
       "  420  => [4.0 4.0; 8.0 8.0; … ; 15.0 9.0; 4.0 5.0]\n",
       "  1370 => [19.0 17.0; 11.0 13.0; … ; 28.0 21.0; 21.0 15.0]\n",
       "  1437 => [24.0 18.0; 11.0 13.0; … ; 28.0 23.0; 22.0 17.0]\n",
       "  525  => [4.0 5.0; 8.0 8.0; … ; 15.0 11.0; 4.0 6.0]\n",
       "  365  => [4.0 4.0; 6.0 5.0; … ; 13.0 7.0; 4.0 4.0]\n",
       "  638  => [7.0 6.0; 9.0 11.0; … ; 19.0 11.0; 5.0 6.0]\n",
       "  263  => [3.0 2.0; 3.0 3.0; … ; 7.0 3.0; 4.0 4.0]\n",
       "  422  => [4.0 4.0; 8.0 8.0; … ; 15.0 9.0; 4.0 5.0]\n",
       "  242  => [2.0 2.0; 3.0 3.0; … ; 4.0 3.0; 4.0 4.0]\n",
       "  1266 => [17.0 14.0; 11.0 13.0; … ; 26.0 21.0; 18.0 14.0]\n",
       "  ⋮    => ⋮"
      ]
     },
     "execution_count": 10,
     "metadata": {},
     "output_type": "execute_result"
    }
   ],
   "source": [
    "time_sample_results_dict_eps = sample(model, world, dataset, tickers; \n",
    "    horizon = (maximum_number_trading_days - 1), risk_free_rate = risk_free_rate)"
   ]
  },
  {
   "cell_type": "code",
   "execution_count": 11,
   "id": "d673bb39-ddab-4e20-b8eb-9084f5b550f9",
   "metadata": {
    "tags": []
   },
   "outputs": [
    {
     "data": {
      "text/plain": [
       "28×2 Matrix{Float64}:\n",
       " 24.0  18.0\n",
       " 11.0  14.0\n",
       " 18.0  16.0\n",
       " 13.0  13.0\n",
       " 29.0  22.0\n",
       "  9.0  11.0\n",
       " 13.0  13.0\n",
       "  2.0   6.0\n",
       " 10.0  15.0\n",
       " 10.0  12.0\n",
       "  7.0  11.0\n",
       " 33.0  26.0\n",
       " 38.0  28.0\n",
       "  ⋮    \n",
       " 51.0  38.0\n",
       " 14.0  14.0\n",
       "  4.0  10.0\n",
       " 19.0  17.0\n",
       " 12.0  14.0\n",
       " 26.0  19.0\n",
       " 37.0  30.0\n",
       " 33.0  26.0\n",
       " 29.0  24.0\n",
       " 28.0  20.0\n",
       " 28.0  24.0\n",
       " 24.0  18.0"
      ]
     },
     "execution_count": 11,
     "metadata": {},
     "output_type": "execute_result"
    }
   ],
   "source": [
    "Z = time_sample_results_dict_eps[1479]"
   ]
  },
  {
   "cell_type": "markdown",
   "id": "41dd38c1-8cef-4919-8a6b-c470ad943e31",
   "metadata": {},
   "source": [
    "## Run a collection of `ticker-picker` agents and examine their preferences\n",
    "Repeat the single-agent analysis with `N` agents by running the `sample(...)` method inside a `for` loop. We'll store the results of the last time point in the `agent_specific_data::Array{Beta,2}(undef, K, number_of_agents)` array. \n",
    "* The `agent_specific_data` array holds the `Beta` distributions for each agent, i.e., it holds the preferences for each agent (cols) for each `ticker` in our collection (rows)."
   ]
  },
  {
   "cell_type": "code",
   "execution_count": 12,
   "id": "38545ba9-fe62-4d12-b3e7-157582823a2d",
   "metadata": {
    "tags": []
   },
   "outputs": [],
   "source": [
    "number_of_agents = 10000;\n",
    "trading_day_index = 1479\n",
    "agent_specific_data = Array{Beta,2}(undef, K, number_of_agents);\n",
    "\n",
    "for agent_index ∈ 1:number_of_agents\n",
    "    \n",
    "    # sample -\n",
    "    time_sample_results_dict_eps = sample(model, world, dataset, tickers; horizon = (maximum_number_trading_days - 1), risk_free_rate = risk_free_rate);\n",
    "    beta_array = build_beta_array(time_sample_results_dict_eps[trading_day_index]);\n",
    "\n",
    "    # grab data for this agent -\n",
    "    for k = 1:K\n",
    "        agent_specific_data[k, agent_index] = beta_array[k]\n",
    "    end\n",
    "end"
   ]
  },
  {
   "cell_type": "code",
   "execution_count": 13,
   "id": "261e43a9-7a37-4e5d-8f7b-7cd0a1e73cb7",
   "metadata": {
    "tags": []
   },
   "outputs": [
    {
     "data": {
      "text/plain": [
       "10000-element Vector{Beta}:\n",
       " Beta{Float64}(α=33.0, β=32.0)\n",
       " Beta{Float64}(α=8.0, β=11.0)\n",
       " Beta{Float64}(α=26.0, β=23.0)\n",
       " Beta{Float64}(α=7.0, β=10.0)\n",
       " Beta{Float64}(α=20.0, β=18.0)\n",
       " Beta{Float64}(α=51.0, β=34.0)\n",
       " Beta{Float64}(α=11.0, β=16.0)\n",
       " Beta{Float64}(α=2.0, β=7.0)\n",
       " Beta{Float64}(α=6.0, β=12.0)\n",
       " Beta{Float64}(α=26.0, β=24.0)\n",
       " Beta{Float64}(α=21.0, β=20.0)\n",
       " Beta{Float64}(α=1.0, β=6.0)\n",
       " Beta{Float64}(α=44.0, β=29.0)\n",
       " ⋮\n",
       " Beta{Float64}(α=45.0, β=29.0)\n",
       " Beta{Float64}(α=9.0, β=12.0)\n",
       " Beta{Float64}(α=13.0, β=16.0)\n",
       " Beta{Float64}(α=53.0, β=35.0)\n",
       " Beta{Float64}(α=47.0, β=38.0)\n",
       " Beta{Float64}(α=17.0, β=16.0)\n",
       " Beta{Float64}(α=17.0, β=12.0)\n",
       " Beta{Float64}(α=11.0, β=13.0)\n",
       " Beta{Float64}(α=5.0, β=10.0)\n",
       " Beta{Float64}(α=2.0, β=7.0)\n",
       " Beta{Float64}(α=28.0, β=23.0)\n",
       " Beta{Float64}(α=30.0, β=30.0)"
      ]
     },
     "execution_count": 13,
     "metadata": {},
     "output_type": "execute_result"
    }
   ],
   "source": [
    "agent_specific_data[1,:] # data for each agent for ticker 1 for all the agents"
   ]
  },
  {
   "cell_type": "markdown",
   "id": "e243138a-c610-406a-9a65-b9ba60a4eb0a",
   "metadata": {},
   "source": [
    "## The wisdom of the collective\n",
    "Now that we have prefernces for the `N` agents (encoded as `Beta` distributions for each ticker), let's develop a concencous belief in which tickers to include in our portfolio $\\mathcal{P}$. First, let's compute the agent-specific rank of eack ticker, where `rank = 1` is the best, and `rank = K` is the worst. We'll store these values in the `preference_rank_array` array."
   ]
  },
  {
   "cell_type": "code",
   "execution_count": 14,
   "id": "db1d74bf-a679-4023-b2b0-09a34569bb04",
   "metadata": {
    "tags": []
   },
   "outputs": [
    {
     "data": {
      "text/plain": [
       "10000×28 Matrix{Int64}:\n",
       "  7  16  27  26   6  19  25  14   1  …   3   9   4  23  17  13  20  22  21\n",
       " 21   9  25  16  21  20   2  26   6     16  11  24  19  11   7  18  16  14\n",
       "  6   5   9  22  25  12  12  14   9     24   1  23  17   4  15  20  11  27\n",
       " 19  24  21   8   1  13   7  27  23      2  25  10  15  15  17   3  26  20\n",
       " 11  25  28  18  20  17   2  27  12     15  24  21   9   7   9  22   3  14\n",
       "  3  20   1  21   4   7  19  25  27  …  10  18  12  14   7  13  26   5  24\n",
       " 18  27   2  19  17   7   6  11  19      4   2  25  23  16   2  23  10  13\n",
       " 27   7   2   4  16  15  26  13  11     28   8  23  22  24   5  17   6  21\n",
       " 24  11   2   8   6   9  24  18  21     13   1  28  17   3  26   5  20  26\n",
       "  6   5  26   3  17  10  13  28  21     14  27   7  18   2   9   4  14  18\n",
       " 11  18  16   4   5  22   1   2  25  …  19   9  21  13  13  10  17  26   7\n",
       " 27  26   1  14   3  12  11  21  20     23   4  24  22  18   8   6  15  10\n",
       "  1   4  18   8  21  26  19  23  11      3   9  13  22  10   2  25  27  28\n",
       "  ⋮                   ⋮              ⋱       ⋮                   ⋮      \n",
       "  2  10  25   6  16  15  10  27   5      8  12   9   4  19   7  27  13  21\n",
       " 18   5  12  21  18   4   2  18   1     11  15  16  12   6  25   3  23  18\n",
       " 18  22  17   6   7   1  18   5  11  …   2  13   3  15  25  26   4  16  20\n",
       "  1   2  14  19  24  12   8  17   7      9   5   4  26  28  18  11  10  22\n",
       "  4   9  24  20   1  12  20   3  14     28   8  17  22  19  23  16  27  10\n",
       " 10  17  22  14   2  25  21  27  11     20   7   8  13  28  24   4  23  15\n",
       "  3   7  13  25  12  22  28  15   2      6  23  16   9  16   8  18  14  10\n",
       " 20  23   6  25  21  26  28  13   3  …   4   9   7  18   1   2  18  13   5\n",
       " 26  22   8  22  18  20  13  16   7     25  28  15  14   3   1   4  18  10\n",
       " 28  12   6   8  22   6   9  24   1     15  19   2  14  23  12  10  27  11\n",
       "  4  18  10  28  25   3  23  15   1     24  21   2  16  11  12   5   8  18\n",
       " 15   1  13  15   3   2   7  19  10     25  28   5  11   9  24  15  23   4"
      ]
     },
     "execution_count": 14,
     "metadata": {},
     "output_type": "execute_result"
    }
   ],
   "source": [
    "preference_rank_array = Array{Int,2}(undef, number_of_agents, K);\n",
    "for agent ∈ 1:number_of_agents\n",
    "        \n",
    "    # ask an agent about thier preference for ticker i -\n",
    "    experience_distributions = agent_specific_data[:,agent]\n",
    "    preference_vector = preference(experience_distributions, tickers) .|> x-> trunc(Int64,x) # trunc function is cool!\n",
    "    \n",
    "    # package -\n",
    "    for i ∈ 1:K\n",
    "        preference_rank_array[agent, i] = preference_vector[i];\n",
    "    end\n",
    "end\n",
    "preference_rank_array"
   ]
  },
  {
   "cell_type": "markdown",
   "id": "42ffea10-9ddd-4713-ab27-bf17d5e70de6",
   "metadata": {},
   "source": [
    "### Compute the frequency dictionary\n",
    "Let's count the times a `ticker` is ranked in the `top 10` across the `N` agents and then normalize by the number of agents, i.e., compute the frequency of being ranked in the `top 10`. We'll store this value in the `frequency_dictionary,` where the `ticker` is the key, and the frequency is the value.\n",
    "* `Hypothesis`: Those `tickers` with high rank are likelier to beat an alternative `risk-free` investment, while low rank `tickers` do not outperform a `risk-free` alternative investment. "
   ]
  },
  {
   "cell_type": "code",
   "execution_count": 15,
   "id": "ef31e983-9274-484a-869c-732410886f2b",
   "metadata": {
    "tags": []
   },
   "outputs": [],
   "source": [
    "frequency_dictionary = Dict{String,Float64}();\n",
    "for i ∈ eachindex(tickers)\n",
    "    \n",
    "    # compute the frequency -\n",
    "    freq = findall(x-> x ≤ 10, preference_rank_array[:,i]) |> x-> length(x) |> x-> x/number_of_agents\n",
    "    \n",
    "    # get the ticker -\n",
    "    ticker = tickers[i];\n",
    "    frequency_dictionary[ticker] = freq;\n",
    "end"
   ]
  },
  {
   "cell_type": "code",
   "execution_count": 16,
   "id": "a36d1052-69b2-4228-8f6b-8dde9968db2e",
   "metadata": {},
   "outputs": [
    {
     "data": {
      "text/plain": [
       "Dict{String, Float64} with 28 entries:\n",
       "  \"MSFT\"  => 0.5426\n",
       "  \"JPM\"   => 0.3805\n",
       "  \"C\"     => 0.248\n",
       "  \"MRK\"   => 0.36\n",
       "  \"UNH\"   => 0.3199\n",
       "  \"SPY\"   => 0.4824\n",
       "  \"BAC\"   => 0.3398\n",
       "  \"MU\"    => 0.2878\n",
       "  \"SRE\"   => 0.3922\n",
       "  \"TSLA\"  => 0.404\n",
       "  \"KR\"    => 0.39\n",
       "  \"AMD\"   => 0.4057\n",
       "  \"INTC\"  => 0.3212\n",
       "  \"MMM\"   => 0.2587\n",
       "  \"NOC\"   => 0.2922\n",
       "  \"ECL\"   => 0.3266\n",
       "  \"LMT\"   => 0.2731\n",
       "  \"GS\"    => 0.2671\n",
       "  \"OXY\"   => 0.2941\n",
       "  \"CMCSA\" => 0.2858\n",
       "  \"JNJ\"   => 0.3156\n",
       "  \"SPYD\"  => 0.3549\n",
       "  \"NFLX\"  => 0.3276\n",
       "  \"WFC\"   => 0.3629\n",
       "  \"PEP\"   => 0.3782\n",
       "  ⋮       => ⋮"
      ]
     },
     "execution_count": 16,
     "metadata": {},
     "output_type": "execute_result"
    }
   ],
   "source": [
    "frequency_dictionary"
   ]
  },
  {
   "cell_type": "markdown",
   "id": "c9be022e-5056-476d-9313-b81651bf6b4a",
   "metadata": {},
   "source": [
    "### Disclaimer and Risks\n",
    "__This content is offered solely for training and  informational purposes__. No offer or solicitation to buy or sell securities or derivative products, or any investment or trading advice or strategy,  is made, given, or endorsed by the teaching team. \n",
    "\n",
    "__Trading involves risk__. Carefully review your financial situation before investing in securities, futures contracts, options, or commodity interests. Past performance, whether actual or indicated by historical tests of strategies, is no guarantee of future performance or success. Trading is generally inappropriate for someone with limited resources, investment or trading experience, or a low-risk tolerance.  Only risk capital that is not required for living expenses.\n",
    "\n",
    "__You are fully responsible for any investment or trading decisions you make__. Such decisions should be based solely on your evaluation of your financial circumstances, investment or trading objectives, risk tolerance, and liquidity needs."
   ]
  }
 ],
 "metadata": {
  "kernelspec": {
   "display_name": "Julia 1.10.0",
   "language": "julia",
   "name": "julia-1.10"
  },
  "language_info": {
   "file_extension": ".jl",
   "mimetype": "application/julia",
   "name": "julia",
   "version": "1.10.0"
  }
 },
 "nbformat": 4,
 "nbformat_minor": 5
}
