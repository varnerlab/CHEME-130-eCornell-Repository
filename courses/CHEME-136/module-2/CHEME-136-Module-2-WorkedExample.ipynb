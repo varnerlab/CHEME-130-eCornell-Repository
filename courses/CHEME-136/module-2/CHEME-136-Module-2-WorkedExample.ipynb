{
 "cells": [
  {
   "cell_type": "markdown",
   "id": "e7581284-9d0a-44c4-b8f3-d9e735f72b55",
   "metadata": {},
   "source": [
    "# `Example`: Training Binary Bernoulli Bandit Ticker Picker Agents\n",
    "In this example, we create a group of `N` agents to assist us in selecting stocks for our portfolio $\\mathcal{P}$. We will use the [$\\epsilon$-Greedy Thompson Sampling algorithm](https://arxiv.org/abs/1707.02038) to solve a Multi-arm Binary Bandit problem. The choices of stocks that we can select from will be the bandits, and there are `K` of them in our choice set $\\mathcal{C}$. We will feed daily return data to the group of `N` agents, who will learn which tickers return beyond a specified cutoff, such as the risk-free rate, in an online manner. \n",
    "\n",
    "Each agent will independently analyze daily Open High Low Close (OHLC) data sequences and develop a ranking of their belief that a particular ticker will return at least the risk-free rate in the next step. This ranking is based on the probability $p_{a}$, which represents the probability that the ticker will beat the risk-free rate. Each agent will express this probability as a belief distribution, represented by the parameters of a [Beta distribution](https://en.wikipedia.org/wiki/Beta_distribution).\n",
    "\n",
    "Once the analysis is complete, we will ask the agents to provide us with their `top-N` tickers. Subsequently, we could use these picks to populate our portfolio $\\mathcal{P}$.\n",
    "\n",
    "## Tasks\n",
    "* __Prerequisites__: We'll load the daily Open High Low Close (OHLC) dataset and select tickers with complete data. We'll also compute the annualized daily return for each ticker in that dataset.\n",
    "* __Task 1__: Develop a `world` function that agents will use to evaluate the possible actions and set up the ticker picker agents\n",
    "    * `TODO`: Agents sample the `world`. If the ticker `XYZ` returns greater than or equal to the risk-free rate in the sample period, the agent receives a reward of `+1`. Otherwise, the agent receives a reward of `0`.\n",
    "    * `TODO`: Initialize a collection of `N` ticker picker agents with an apriori belief that ticker `XYZ` is `good` or `bad`\n",
    "* __Task 2__: In this task, we explore how the ticker picker agents learn which ticker symbols are better or worse bets.\n",
    "    * `TODO`: Starting with a single ticker picker agent and a collection of `K` potential ticker symbols, we feed the agent daily (annualized) logarithmic return data and watch it evolve its belief system as new data is added.\n",
    "* __Task 3__: Expand the single agent analysis to `N` agents, each exploring `K` potential ticker symbols.\n",
    "    * `TODO`: After the agents complete their training, analyze their findings and have each agent compute its `top-N` ticker picks.  "
   ]
  },
  {
   "cell_type": "markdown",
   "id": "1f460c75-9615-41a5-b5a1-f3a843413f90",
   "metadata": {
    "tags": []
   },
   "source": [
    "## Setup\n",
    "Several external `Julia` packages enable the computations in this example. To load the required packages and any custom codes the teaching team has developed to work with these packages, we [include](https://docs.julialang.org/en/v1/manual/code-loading/) the `Include.jl` file:"
   ]
  },
  {
   "cell_type": "code",
   "execution_count": 1,
   "id": "734b30e2-a662-4bd3-bc37-a61d93b0b4dc",
   "metadata": {
    "tags": []
   },
   "outputs": [],
   "source": [
    "include(\"Include.jl\");"
   ]
  },
  {
   "cell_type": "markdown",
   "id": "44efd168-6b4b-4706-86ed-1abd7bd74468",
   "metadata": {
    "jp-MarkdownHeadingCollapsed": true,
    "tags": []
   },
   "source": [
    "## Prerequisites: Load and clean the historical dataset\n",
    "We gathered daily open-high-low-close data for each firm in the [S&P500](https://en.wikipedia.org/wiki/S%26P_500) from `01-03-2018` until `12-29-2023`, along with data for a few exchange-traded funds and volatility products during that time. We'll use this data in the subsequent study, but we must load and clean it up first. In particular, in the `prerequisites` code block, we will:\n",
    "* First, we'll load the data and remove tickers that do not have the maximum number of trading days. We'll store the cleaned data in the `dataset::Dict{String, DataFrame}` variable.\n",
    "* Next, we'll get a list of all the tickers in the `dataset,` sort them alphabetically, and store them in the `all_tickers_array` variable.\n",
    "* Finally, we'll compute the logarithmic return for tickers in the `dataset` using the `log_return_matrix(...)` function and store these values in the `all_firms_log_return_matrix` variable (assuming a `252`-day trading year)"
   ]
  },
  {
   "cell_type": "code",
   "execution_count": 2,
   "id": "2598add3-65e9-4c4e-a4b3-d3b9c4095d02",
   "metadata": {
    "tags": []
   },
   "outputs": [],
   "source": [
    "original_dataset = MyMarketDataSet() |> x-> x[\"dataset\"];"
   ]
  },
  {
   "cell_type": "markdown",
   "id": "1f91f716-f9b9-41b2-806a-9f3f999f84e7",
   "metadata": {},
   "source": [
    "### Clean the data\n",
    "Not all of the tickers in our dataset have the maximum number of trading days for various reasons, e.g., acquistion or de-listing events. Let's collect only those tickers with the maximum number of trading days.\n",
    "\n",
    "* First, let's compute the number of records for a company that we know has a maximim value, e.g., `AAPL` and save that value in the `maximum_number_trading_days` variable:"
   ]
  },
  {
   "cell_type": "code",
   "execution_count": 3,
   "id": "64eceddb-6ed7-4f86-9f27-be8e4eb763bb",
   "metadata": {
    "tags": []
   },
   "outputs": [
    {
     "data": {
      "text/plain": [
       "1508"
      ]
     },
     "execution_count": 3,
     "metadata": {},
     "output_type": "execute_result"
    }
   ],
   "source": [
    "maximum_number_trading_days = original_dataset[\"AAPL\"] |> nrow"
   ]
  },
  {
   "cell_type": "markdown",
   "id": "ce9bfe6f-0463-4e33-b826-efb6a15a9d60",
   "metadata": {},
   "source": [
    "Now, lets iterate through our data and collect only those tickers that have `maximum_number_trading_days` records. Save that data in the `dataset::Dict{String,DataFrame}` variable:"
   ]
  },
  {
   "cell_type": "code",
   "execution_count": 4,
   "id": "8b46a0ff-60a0-45aa-b00c-eddd9c1f0a65",
   "metadata": {
    "tags": []
   },
   "outputs": [],
   "source": [
    "dataset = Dict{String,DataFrame}();\n",
    "for (ticker,data) ∈ original_dataset\n",
    "    if (nrow(data) == maximum_number_trading_days)\n",
    "        dataset[ticker] = data;\n",
    "    end\n",
    "end\n",
    "dataset;"
   ]
  },
  {
   "cell_type": "markdown",
   "id": "07956832-7e1f-4695-8391-530924d5d704",
   "metadata": {},
   "source": [
    "Let's get a list of firms that we have in cleaned up `dataset`, and save it in the `all_tickers_array` array:"
   ]
  },
  {
   "cell_type": "code",
   "execution_count": 5,
   "id": "bf104b4e-6829-4d88-be4d-cf8bd1833ef3",
   "metadata": {
    "tags": []
   },
   "outputs": [],
   "source": [
    "all_tickers_array = keys(dataset) |> collect |> sort;"
   ]
  },
  {
   "cell_type": "markdown",
   "id": "aab70d28-4f73-43fd-884d-88e6bdb9112c",
   "metadata": {},
   "source": [
    "Finally, let's compute the annualized logarithmic growth rate time series for each ticker in `dataset` using the `log_return_matrix(...)` function:\n",
    "> The `log_return_matrix(dataset::Dict{String, DataFrame}, firms::Array{String,1}; Δt::Float64 = (1.0/252.0), risk_free_rate::Float64 = 0.0) -> Array{Float64,2}` takes the `dataset` argument (which holds `N`-price values and other data for a ticker), and a `K`-dimensional list of ticker symbols, and returns the annualized growth rate $\\mu$ time-series as `N-1`$\\times$`K` array, where the rows correspond to times, and the columns correspond to tickers."
   ]
  },
  {
   "cell_type": "code",
   "execution_count": 6,
   "id": "0056d081-1322-4d1d-8613-d2d8ade16052",
   "metadata": {},
   "outputs": [],
   "source": [
    "all_firms_log_return_matrix = log_return_matrix(dataset, all_tickers_array, \n",
    "    Δt = (1.0/252.0), risk_free_rate = 0.0);"
   ]
  },
  {
   "cell_type": "markdown",
   "id": "8cc6fbed-15c7-4f21-bb8e-dab4be1d0984",
   "metadata": {},
   "source": [
    "## __Task 1__: Initialize the `world` function and set up a ticker picker agent\n",
    "The world function takes action `a`, i.e., chooses a `ticker` from the collection of stocks/ETFs that we are exploring, and asks whether or not the return of this `ticker` at the end of today was greater or equal to the risk-free rate. \n",
    "* If the daily return is greater than or equal to the risk-free rate, the `agent` receives a reward of `r = 1`. Otherwise, the `agent` receives a `r = 0` reward."
   ]
  },
  {
   "cell_type": "code",
   "execution_count": 7,
   "id": "80806586-5fb3-4f65-97d9-f65236d7ce61",
   "metadata": {
    "tags": []
   },
   "outputs": [],
   "source": [
    "function world(action::Int64, start::Int64, data::Dict{String, DataFrame}, tickers::Array{String,1}; \n",
    "        Δt::Float64 = (1.0/252.0), risk_free_rate::Float64 = 0.05, buffersize::Int64 = 1)::Int64\n",
    "\n",
    "    # initialize -\n",
    "    result_flag = 0;\n",
    "\n",
    "    # daily risk free rate -\n",
    "    T = buffersize*Δt;\n",
    "\n",
    "    # grab the ticker we are looking at?\n",
    "    ticker_symbol = tickers[action];\n",
    "    \n",
    "    # compute the expected return over the horizon -\n",
    "    price_df = data[ticker_symbol];\n",
    "    time = range(start+1,(start+buffersize), step=1) |> collect\n",
    "    buffer = Array{Float64,1}();\n",
    "    for t ∈ time\n",
    "        P₁ = price_df[t-1,  :volume_weighted_average_price]\n",
    "        P₂ = price_df[t, :volume_weighted_average_price]\n",
    "        R = (1/Δt)*log(P₂/P₁);\n",
    "        push!(buffer,R);\n",
    "    end\n",
    "    μ = mean(buffer);\n",
    "\n",
    "    # if we invested 1 USD, in each how much would we have at the end of horizon -\n",
    "    W_risk_free = exp(risk_free_rate*T);\n",
    "    W_ticker = exp(μ*T);\n",
    "    \n",
    "    # are we better or worse relative to the risk-free investment?\n",
    "    if (W_ticker >= W_risk_free)\n",
    "        result_flag = 1;\n",
    "    end\n",
    "\n",
    "    # default -\n",
    "    return result_flag;\n",
    "end;"
   ]
  },
  {
   "cell_type": "markdown",
   "id": "eeeed5cd-38c1-4675-8fc9-4fca94b63bbe",
   "metadata": {
    "tags": []
   },
   "source": [
    "Set the `risk_free_rate` variable:"
   ]
  },
  {
   "cell_type": "code",
   "execution_count": 8,
   "id": "4c0a61e0-bd90-439a-8ad4-1675fb4a64f3",
   "metadata": {
    "tags": []
   },
   "outputs": [],
   "source": [
    "risk_free_rate = 0.047;"
   ]
  },
  {
   "cell_type": "markdown",
   "id": "5e36d017-4939-4928-815f-8e5570927efc",
   "metadata": {},
   "source": [
    "### `TODO`: Setup a single ticker-picker agent"
   ]
  },
  {
   "cell_type": "markdown",
   "id": "ab9db0c8-992e-4ebc-b16f-f32b0c1a23ea",
   "metadata": {},
   "source": [
    "First, let's specify the tickers that we want to examine in the `tickers` array, and store the number of tickers in the `K` variable:"
   ]
  },
  {
   "cell_type": "code",
   "execution_count": 9,
   "id": "f39a61bf-697f-40d0-8012-a099e19cd250",
   "metadata": {
    "tags": []
   },
   "outputs": [],
   "source": [
    "tickers = [\"MRK\", \"JNJ\", \"MET\", \"NFLX\", \"AAPL\", \"AMD\", \"MU\", \"INTC\", \"MSFT\", \"SPY\", \"SPYD\", \"MMM\",\n",
    "    \"UNH\", \"JPM\", \"OXY\", \"TSLA\", \"PEP\", \"LMT\", \"CMCSA\", \"ECL\", \"SRE\", \"BAC\", \"C\", \"WFC\", \"QQQ\", \"KR\", \"NOC\", \"GS\"];\n",
    "K = length(tickers);"
   ]
  },
  {
   "cell_type": "markdown",
   "id": "ca001a8e-911f-42ea-93b4-25c3834f1c97",
   "metadata": {},
   "source": [
    "Next, we construct the `EpsilonSamplingModel` instance which holds information about the ϵ-greedy sampling approach. The `EpsilonSamplingModel` type has one additional field, the `ϵ` field which controls the approximate fraction of `exploration` steps the algorithm takes; `exploration` steps are purely random."
   ]
  },
  {
   "cell_type": "code",
   "execution_count": 20,
   "id": "77681663-c7c3-4071-b522-65d16acfdf8b",
   "metadata": {
    "tags": []
   },
   "outputs": [],
   "source": [
    "model = build(EpsilonSamplingModel, (\n",
    "        K = K, \n",
    "        α = ones(K), # initialize to uniform values\n",
    "        β = ones(K), # initialize to uniform values\n",
    "        ϵ = 0.3\n",
    "));"
   ]
  },
  {
   "cell_type": "markdown",
   "id": "5882a50a-4e0e-4572-8cee-32a390ae35ab",
   "metadata": {},
   "source": [
    "## __Task 2__: Run a single `ticker-picker` agent and explore its preferences\n",
    "Let's run a single `ticker-picker` agent and examine what it returns using the `sample(...)` function. \n",
    "* The `sample(...)` function takes the agent model `model::EpsilonSamplingModel`, the `world::Function`, the cleaned `dataset` and your list of `tickers`, along with the `horizon` parameter, i.e., how many iterations we want the search to run for,  and the `risk_free_rate`. \n",
    "* The `sample(...)` function returns a dictionary holding the $(\\alpha,\\beta)$ parameters for each ticker (values) for iteration (keys).  "
   ]
  },
  {
   "cell_type": "code",
   "execution_count": 11,
   "id": "0f05cdd3-714f-4299-88fa-b4a5a81819f5",
   "metadata": {
    "tags": []
   },
   "outputs": [
    {
     "data": {
      "text/plain": [
       "Dict{Int64, Matrix{Float64}} with 1507 entries:\n",
       "  1144 => [11.0 14.0; 3.0 7.0; … ; 7.0 9.0; 1.0 5.0]\n",
       "  1175 => [11.0 14.0; 3.0 7.0; … ; 7.0 9.0; 1.0 5.0]\n",
       "  719  => [10.0 11.0; 1.0 4.0; … ; 3.0 6.0; 1.0 5.0]\n",
       "  1028 => [10.0 13.0; 3.0 5.0; … ; 7.0 8.0; 1.0 5.0]\n",
       "  699  => [10.0 11.0; 1.0 4.0; … ; 3.0 6.0; 1.0 5.0]\n",
       "  831  => [10.0 12.0; 1.0 4.0; … ; 5.0 6.0; 1.0 5.0]\n",
       "  1299 => [11.0 15.0; 3.0 7.0; … ; 8.0 11.0; 1.0 5.0]\n",
       "  1438 => [11.0 16.0; 3.0 8.0; … ; 8.0 12.0; 1.0 5.0]\n",
       "  1074 => [10.0 13.0; 3.0 6.0; … ; 7.0 8.0; 1.0 5.0]\n",
       "  319  => [5.0 5.0; 1.0 4.0; … ; 3.0 5.0; 1.0 3.0]\n",
       "  687  => [10.0 11.0; 1.0 4.0; … ; 3.0 6.0; 1.0 5.0]\n",
       "  1199 => [11.0 15.0; 3.0 7.0; … ; 7.0 9.0; 1.0 5.0]\n",
       "  185  => [5.0 3.0; 1.0 4.0; … ; 3.0 3.0; 1.0 2.0]\n",
       "  823  => [10.0 12.0; 1.0 4.0; … ; 5.0 6.0; 1.0 5.0]\n",
       "  1090 => [11.0 13.0; 3.0 7.0; … ; 7.0 8.0; 1.0 5.0]\n",
       "  420  => [6.0 5.0; 1.0 4.0; … ; 3.0 5.0; 1.0 4.0]\n",
       "  1370 => [11.0 16.0; 3.0 7.0; … ; 8.0 12.0; 1.0 5.0]\n",
       "  1437 => [11.0 16.0; 3.0 8.0; … ; 8.0 12.0; 1.0 5.0]\n",
       "  525  => [9.0 8.0; 1.0 4.0; … ; 3.0 5.0; 1.0 4.0]\n",
       "  365  => [5.0 5.0; 1.0 4.0; … ; 3.0 5.0; 1.0 3.0]\n",
       "  638  => [10.0 9.0; 1.0 4.0; … ; 3.0 6.0; 1.0 4.0]\n",
       "  263  => [5.0 5.0; 1.0 4.0; … ; 3.0 4.0; 1.0 2.0]\n",
       "  422  => [6.0 5.0; 1.0 4.0; … ; 3.0 5.0; 1.0 4.0]\n",
       "  242  => [5.0 5.0; 1.0 4.0; … ; 3.0 4.0; 1.0 2.0]\n",
       "  1266 => [11.0 15.0; 3.0 7.0; … ; 7.0 10.0; 1.0 5.0]\n",
       "  ⋮    => ⋮"
      ]
     },
     "execution_count": 11,
     "metadata": {},
     "output_type": "execute_result"
    }
   ],
   "source": [
    "time_sample_results_dict_eps = sample(model, world, dataset, tickers; \n",
    "    horizon = (maximum_number_trading_days - 1), risk_free_rate = risk_free_rate)"
   ]
  },
  {
   "cell_type": "code",
   "execution_count": 12,
   "id": "d673bb39-ddab-4e20-b8eb-9084f5b550f9",
   "metadata": {
    "tags": []
   },
   "outputs": [
    {
     "data": {
      "text/plain": [
       "28×2 Matrix{Float64}:\n",
       " 11.0  16.0\n",
       "  3.0   8.0\n",
       "  5.0  10.0\n",
       " 25.0  23.0\n",
       "  1.0   5.0\n",
       " 46.0  33.0\n",
       " 17.0  17.0\n",
       " 89.0  59.0\n",
       " 42.0  28.0\n",
       " 27.0  26.0\n",
       " 30.0  26.0\n",
       "  5.0  10.0\n",
       "  4.0   8.0\n",
       "  ⋮    \n",
       "  2.0   5.0\n",
       " 10.0  13.0\n",
       "  2.0   8.0\n",
       "  3.0   9.0\n",
       " 31.0  26.0\n",
       " 26.0  22.0\n",
       " 29.0  27.0\n",
       " 14.0  16.0\n",
       " 65.0  46.0\n",
       " 18.0  17.0\n",
       "  8.0  12.0\n",
       "  1.0   5.0"
      ]
     },
     "execution_count": 12,
     "metadata": {},
     "output_type": "execute_result"
    }
   ],
   "source": [
    "Z = time_sample_results_dict_eps[1479]"
   ]
  },
  {
   "cell_type": "markdown",
   "id": "41dd38c1-8cef-4919-8a6b-c470ad943e31",
   "metadata": {},
   "source": [
    "## __Task 3__: Run a collection of `N` ticker-picker agents and examine their preferences\n",
    "Repeat the single-agent analysis with `N` agents by running the `sample(...)` method inside a `for` loop. We'll store the results of the last time point in the `agent_specific_data::Array{Beta,2}(undef, K, number_of_agents)` array. \n",
    "* The `agent_specific_data` array holds the `Beta` distributions for each agent, i.e., it holds the preferences for each agent (cols) for each `ticker` in our collection (rows)."
   ]
  },
  {
   "cell_type": "code",
   "execution_count": 13,
   "id": "38545ba9-fe62-4d12-b3e7-157582823a2d",
   "metadata": {
    "tags": []
   },
   "outputs": [],
   "source": [
    "number_of_agents = 10000;\n",
    "trading_day_index = 1479\n",
    "agent_specific_data = Array{Beta,2}(undef, K, number_of_agents);\n",
    "\n",
    "for agent_index ∈ 1:number_of_agents\n",
    "    \n",
    "    # sample -\n",
    "    time_sample_results_dict_eps = sample(model, world, dataset, tickers; horizon = (maximum_number_trading_days - 1), risk_free_rate = risk_free_rate);\n",
    "    beta_array = build_beta_array(time_sample_results_dict_eps[trading_day_index]);\n",
    "\n",
    "    # grab data for this agent -\n",
    "    for k = 1:K\n",
    "        agent_specific_data[k, agent_index] = beta_array[k]\n",
    "    end\n",
    "end"
   ]
  },
  {
   "cell_type": "code",
   "execution_count": 14,
   "id": "261e43a9-7a37-4e5d-8f7b-7cd0a1e73cb7",
   "metadata": {
    "tags": []
   },
   "outputs": [
    {
     "data": {
      "text/plain": [
       "10000-element Vector{Beta}:\n",
       " Beta{Float64}(α=19.0, β=21.0)\n",
       " Beta{Float64}(α=12.0, β=16.0)\n",
       " Beta{Float64}(α=4.0, β=8.0)\n",
       " Beta{Float64}(α=5.0, β=8.0)\n",
       " Beta{Float64}(α=5.0, β=9.0)\n",
       " Beta{Float64}(α=14.0, β=18.0)\n",
       " Beta{Float64}(α=16.0, β=16.0)\n",
       " Beta{Float64}(α=2.0, β=7.0)\n",
       " Beta{Float64}(α=33.0, β=27.0)\n",
       " Beta{Float64}(α=28.0, β=26.0)\n",
       " Beta{Float64}(α=19.0, β=19.0)\n",
       " Beta{Float64}(α=11.0, β=13.0)\n",
       " Beta{Float64}(α=9.0, β=14.0)\n",
       " ⋮\n",
       " Beta{Float64}(α=19.0, β=18.0)\n",
       " Beta{Float64}(α=29.0, β=28.0)\n",
       " Beta{Float64}(α=31.0, β=24.0)\n",
       " Beta{Float64}(α=36.0, β=30.0)\n",
       " Beta{Float64}(α=14.0, β=17.0)\n",
       " Beta{Float64}(α=4.0, β=9.0)\n",
       " Beta{Float64}(α=5.0, β=11.0)\n",
       " Beta{Float64}(α=18.0, β=16.0)\n",
       " Beta{Float64}(α=49.0, β=42.0)\n",
       " Beta{Float64}(α=24.0, β=21.0)\n",
       " Beta{Float64}(α=13.0, β=13.0)\n",
       " Beta{Float64}(α=3.0, β=9.0)"
      ]
     },
     "execution_count": 14,
     "metadata": {},
     "output_type": "execute_result"
    }
   ],
   "source": [
    "agent_specific_data[1,:] # data for each agent for ticker 1 for all the agents"
   ]
  },
  {
   "cell_type": "markdown",
   "id": "e243138a-c610-406a-9a65-b9ba60a4eb0a",
   "metadata": {},
   "source": [
    "## The wisdom of the collective\n",
    "Now that we have prefernces for the `N` agents (encoded as `Beta` distributions for each ticker), let's develop a concencous belief in which tickers to include in our portfolio $\\mathcal{P}$. First, let's compute the agent-specific rank of eack ticker, where `rank = 1` is the best, and `rank = K` is the worst. We'll store these values in the `preference_rank_array` array."
   ]
  },
  {
   "cell_type": "code",
   "execution_count": 15,
   "id": "db1d74bf-a679-4023-b2b0-09a34569bb04",
   "metadata": {
    "tags": []
   },
   "outputs": [
    {
     "data": {
      "text/plain": [
       "10000×28 Matrix{Int64}:\n",
       " 16  11  20   2   7   4  23  14   6  …   3  11  11  18  17  15  26  11  25\n",
       " 19  16   2   9  19  25   5  22   3     15  24  19  14  11  27  23  26   4\n",
       " 23   8   1  15   8  26  22  15  11     19   7  17   3  13   5  27  10  23\n",
       " 23  25   3   8  12  15  18  11   6     19   1   4  17  22  26   7  20  16\n",
       " 22   8   4  15  15   5  28  21   9     18  15   3  23   1  26  24   2   7\n",
       " 20  28   7  15  13  25   5  25  21  …  19  17   3  24  14  16   4  11  27\n",
       " 17   6   2  17   5  25  26   9   3     12  10  14  17  15  13  21  28   8\n",
       " 26  10  16  20  13  21  28  18   2      7  13   8  23  17   5  21  23  10\n",
       "  5  22   7  11   8  19  24   4  23      1   3  14  28   2  26  18  21  12\n",
       "  6   2  25  18  16  23   8   4  11     21   5  23  12   1   8   8  17  20\n",
       "  9   2  17   9  14   5  25  21  19  …   4  16  18  26  20  13  27  28  22\n",
       " 18  23   8  20  12  14  18  28   3     11  10   5  27  24  13  26   2  22\n",
       " 21  27  27  19  11  14  20  14   8      6   1  14  26  17   4   5  16  18\n",
       "  ⋮                   ⋮              ⋱       ⋮                   ⋮      \n",
       " 13  23  15  27  18   1  25   4   2     12  11  20  22   5   7  25  27   8\n",
       "  8  23  10  17  18   7  28  16  27      6  11   9  20   3  14   1  23  21\n",
       "  4  21  25  11  22  27  15   6  24  …  26  16   3  16   8   5  20  23   9\n",
       "  8  20  18   1  14   3   4  24  10     17  12  27  18  28  25  22  21  23\n",
       " 18   9   7  11  19   1  23  22  26      6  20  16  14  26  26  24  16  28\n",
       " 23  10   6   8  27  11  16  28  26     20  12   9  22   5  13  17  25  23\n",
       " 25  21   8   7  13  23   5  19  14     16  26   3   4  20   1  23  11  27\n",
       "  8   6  22  15  23   2  23  28  13  …  11  12   4  26  16   1  10   9  14\n",
       "  8  26   3  25   2  28  22  12  27     20  21  19  12   6   5  18  24   9\n",
       " 14  12  15  24   3   7  18  26   1     16   8  20   5   6  10   9  17  19\n",
       " 20  18   6  27  10   2  20   9  24     22   3  27  12  26  14  17   7   4\n",
       " 24  24  14  22   6  21  17  27  28     12   4  13   5   2   1  19  11  23"
      ]
     },
     "execution_count": 15,
     "metadata": {},
     "output_type": "execute_result"
    }
   ],
   "source": [
    "preference_rank_array = Array{Int,2}(undef, number_of_agents, K);\n",
    "for agent ∈ 1:number_of_agents\n",
    "        \n",
    "    # ask an agent about thier preference for ticker i -\n",
    "    experience_distributions = agent_specific_data[:,agent]\n",
    "    preference_vector = preference(experience_distributions, tickers) .|> x-> trunc(Int64,x) # trunc function is cool!\n",
    "    \n",
    "    # package -\n",
    "    for i ∈ 1:K\n",
    "        preference_rank_array[agent, i] = preference_vector[i];\n",
    "    end\n",
    "end\n",
    "preference_rank_array"
   ]
  },
  {
   "cell_type": "markdown",
   "id": "42ffea10-9ddd-4713-ab27-bf17d5e70de6",
   "metadata": {},
   "source": [
    "### Compute the frequency dictionary\n",
    "Let's count the times a `ticker` is ranked in the `top 10` across the `N` agents and then normalize by the number of agents, i.e., compute the frequency of being ranked in the `top 10`. We'll store this value in the `frequency_dictionary,` where the `ticker` is the key, and the frequency is the value.\n",
    "* `Hypothesis`: Those `tickers` with high rank are likelier to beat an alternative `risk-free` investment, while low rank `tickers` do not outperform a `risk-free` alternative investment. "
   ]
  },
  {
   "cell_type": "code",
   "execution_count": 16,
   "id": "ef31e983-9274-484a-869c-732410886f2b",
   "metadata": {
    "tags": []
   },
   "outputs": [],
   "source": [
    "frequency_dictionary = Dict{String,Float64}();\n",
    "for i ∈ eachindex(tickers)\n",
    "    \n",
    "    # compute the frequency -\n",
    "    freq = findall(x-> x ≤ 10, preference_rank_array[:,i]) |> x-> length(x) |> x-> x/number_of_agents\n",
    "    \n",
    "    # get the ticker -\n",
    "    ticker = tickers[i];\n",
    "    frequency_dictionary[ticker] = freq;\n",
    "end"
   ]
  },
  {
   "cell_type": "code",
   "execution_count": 17,
   "id": "a36d1052-69b2-4228-8f6b-8dde9968db2e",
   "metadata": {},
   "outputs": [
    {
     "data": {
      "text/plain": [
       "Dict{String, Float64} with 28 entries:\n",
       "  \"MSFT\"  => 0.525\n",
       "  \"JPM\"   => 0.3714\n",
       "  \"C\"     => 0.2594\n",
       "  \"MRK\"   => 0.3556\n",
       "  \"UNH\"   => 0.3219\n",
       "  \"SPY\"   => 0.4807\n",
       "  \"BAC\"   => 0.3408\n",
       "  \"MU\"    => 0.2818\n",
       "  \"SRE\"   => 0.3943\n",
       "  \"TSLA\"  => 0.407\n",
       "  \"KR\"    => 0.3857\n",
       "  \"AMD\"   => 0.4083\n",
       "  \"INTC\"  => 0.3138\n",
       "  \"MMM\"   => 0.2498\n",
       "  \"NOC\"   => 0.2808\n",
       "  \"ECL\"   => 0.3352\n",
       "  \"LMT\"   => 0.2935\n",
       "  \"GS\"    => 0.2728\n",
       "  \"OXY\"   => 0.3009\n",
       "  \"CMCSA\" => 0.2793\n",
       "  \"JNJ\"   => 0.3248\n",
       "  \"SPYD\"  => 0.3519\n",
       "  \"NFLX\"  => 0.3189\n",
       "  \"WFC\"   => 0.3693\n",
       "  \"PEP\"   => 0.3854\n",
       "  ⋮       => ⋮"
      ]
     },
     "execution_count": 17,
     "metadata": {},
     "output_type": "execute_result"
    }
   ],
   "source": [
    "frequency_dictionary"
   ]
  },
  {
   "cell_type": "markdown",
   "id": "c9be022e-5056-476d-9313-b81651bf6b4a",
   "metadata": {},
   "source": [
    "## Disclaimer and Risks\n",
    "__This content is offered solely for training and informational purposes__. No offer or solicitation to buy or sell securities or derivative products or any investment or trading advice or strategy is made, given, or endorsed by the teaching team. \n",
    "\n",
    "__Trading involves risk__. Carefully review your financial situation before investing in securities, futures contracts, options, or commodity interests. Past performance, whether actual or indicated by historical tests of strategies, is no guarantee of future performance or success. Trading is generally inappropriate for someone with limited resources, investment or trading experience, or a low-risk tolerance.  Only risk capital that is not required for living expenses.\n",
    "\n",
    "__You are fully responsible for any investment or trading decisions you make__. Such decisions should be based solely on evaluating your financial circumstances, investment or trading objectives, risk tolerance, and liquidity needs."
   ]
  }
 ],
 "metadata": {
  "kernelspec": {
   "display_name": "Julia 1.10.0",
   "language": "julia",
   "name": "julia-1.10"
  },
  "language_info": {
   "file_extension": ".jl",
   "mimetype": "application/julia",
   "name": "julia",
   "version": "1.10.0"
  }
 },
 "nbformat": 4,
 "nbformat_minor": 5
}
