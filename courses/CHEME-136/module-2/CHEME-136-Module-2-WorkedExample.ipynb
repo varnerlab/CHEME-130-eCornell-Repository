{
 "cells": [
  {
   "cell_type": "markdown",
   "id": "e7581284-9d0a-44c4-b8f3-d9e735f72b55",
   "metadata": {},
   "source": [
    "# Example: Training Binary Bernoulli Bandit Ticker Picker Agents\n",
    "In this example, we create a group of `N` agents to assist us in selecting stocks for our portfolio $\\mathcal{P}$. We will use the [$\\epsilon$-Greedy Thompson Sampling algorithm](https://arxiv.org/abs/1707.02038) to solve a Multi-arm Binary Bandit problem. The choices of stocks that we can select from will be the bandits, and there are `K` of them in our choice set $\\mathcal{C}$. We will feed daily return data to the group of `N` agents, who will learn which tickers return beyond a specified cutoff, such as the risk-free rate, in an online manner. \n",
    "\n",
    "Each agent will independently analyze daily Open High Low Close (OHLC) data sequences and develop a ranking of their belief that a particular ticker will return at least the risk-free rate in the next step. This ranking is based on the probability $p_{a}$, which represents the probability that the ticker will beat the risk-free rate. Each agent will express this probability as a belief distribution, represented by the parameters of a [Beta distribution](https://en.wikipedia.org/wiki/Beta_distribution).\n",
    "\n",
    "Once the analysis is complete, we will ask the agents to provide us with their `top-N` tickers. Subsequently, we could use these picks to populate our portfolio $\\mathcal{P}$.\n",
    "\n",
    "## Learning tasks and objectives\n",
    "* __Prerequisites__: We'll load the daily Open High Low Close (OHLC) dataset and select tickers with complete data. We'll also compute the annualized daily return for each ticker in that dataset.\n",
    "* __Task 1__: Develop a `world` function that agents will use to evaluate the possible actions and set up the ticker picker agents\n",
    "    * `TODO`: Agents sample the `world.` If the ticker `XYZ` returns greater than or equal to the risk-free rate in the sample period, the agent receives a reward of `+1`. Otherwise, the agent gets a reward of `0`.\n",
    "    * `TODO`: Initialize a collection of `N` ticker picker agents with an apriori belief that ticker `XYZ` is `good` or `bad`\n",
    "* __Task 2__: In this task, we explore how the ticker picker agents learn which ticker symbols are better or worse bets.\n",
    "    * `TODO`: Starting with a single ticker picker agent and a collection of `K` potential ticker symbols, we feed the agent daily (annualized) logarithmic return data and watch it evolve its belief system as new data is added.\n",
    "* __Task 3__: Expand the single agent analysis to `N` agents, each exploring `K` potential ticker symbols.\n",
    "    * `TODO`: After the agents complete their training, analyze their findings and have each agent compute its `top-N` ticker picks.  "
   ]
  },
  {
   "cell_type": "markdown",
   "id": "1f460c75-9615-41a5-b5a1-f3a843413f90",
   "metadata": {
    "tags": []
   },
   "source": [
    "## Setup\n",
    "We set up the computational environment by including the `Include.jl` file. The `Include.jl` file loads external packages, various functions that we will use in the exercise, and custom types to model the components of our lab problem.\n",
    "* For additional information on functions and types used in this material, see the [Julia programming language documentation](https://docs.julialang.org/en/v1/) and the [VLQuantitativeFinancePackage.jl documentation](https://github.com/varnerlab/VLQuantitativeFinancePackage.jl). "
   ]
  },
  {
   "cell_type": "code",
   "execution_count": 3,
   "id": "734b30e2-a662-4bd3-bc37-a61d93b0b4dc",
   "metadata": {
    "tags": []
   },
   "outputs": [
    {
     "name": "stderr",
     "output_type": "stream",
     "text": [
      "\u001b[32m\u001b[1m    Updating\u001b[22m\u001b[39m git-repo `https://github.com/varnerlab/VLQuantitativeFinancePackage.jl.git`\n",
      "\u001b[32m\u001b[1m   Resolving\u001b[22m\u001b[39m package versions...\n",
      "\u001b[32m\u001b[1m  No Changes\u001b[22m\u001b[39m to `~/Desktop/julia_work/CHEME-130-eCornell-Repository/courses/CHEME-136/module-2/Project.toml`\n",
      "\u001b[32m\u001b[1m  No Changes\u001b[22m\u001b[39m to `~/Desktop/julia_work/CHEME-130-eCornell-Repository/courses/CHEME-136/module-2/Manifest.toml`\n",
      "\u001b[32m\u001b[1m  Activating\u001b[22m\u001b[39m project at `~/Desktop/julia_work/CHEME-130-eCornell-Repository/courses/CHEME-136/module-2`\n",
      "\u001b[32m\u001b[1m  No Changes\u001b[22m\u001b[39m to `~/Desktop/julia_work/CHEME-130-eCornell-Repository/courses/CHEME-136/module-2/Project.toml`\n",
      "\u001b[32m\u001b[1m  No Changes\u001b[22m\u001b[39m to `~/Desktop/julia_work/CHEME-130-eCornell-Repository/courses/CHEME-136/module-2/Manifest.toml`\n",
      "\u001b[32m\u001b[1m    Updating\u001b[22m\u001b[39m registry at `~/.julia/registries/General.toml`\n",
      "\u001b[32m\u001b[1m    Updating\u001b[22m\u001b[39m git-repo `https://github.com/varnerlab/VLQuantitativeFinancePackage.jl.git`\n",
      "\u001b[32m\u001b[1m  No Changes\u001b[22m\u001b[39m to `~/Desktop/julia_work/CHEME-130-eCornell-Repository/courses/CHEME-136/module-2/Project.toml`\n",
      "\u001b[32m\u001b[1m  No Changes\u001b[22m\u001b[39m to `~/Desktop/julia_work/CHEME-130-eCornell-Repository/courses/CHEME-136/module-2/Manifest.toml`\n"
     ]
    }
   ],
   "source": [
    "include(\"Include.jl\");"
   ]
  },
  {
   "cell_type": "markdown",
   "id": "44efd168-6b4b-4706-86ed-1abd7bd74468",
   "metadata": {
    "tags": []
   },
   "source": [
    "## Prerequisites: Load and clean the historical dataset\n",
    "We gathered daily open-high-low-close data for each firm in the [S&P500](https://en.wikipedia.org/wiki/S%26P_500) from `01-03-2018` until `12-29-2023`, along with data for a few exchange-traded funds and volatility products during that time. We'll use this data in the subsequent study, but we must load and clean it up first. In particular, in the `prerequisites` code block, we will:\n",
    "* First, we'll load the data and remove tickers that do not have the maximum number of trading days. We'll store the cleaned data in the `dataset::Dict{String, DataFrame}` variable.\n",
    "* Next, we'll get a list of all the tickers in the `dataset,` sort them alphabetically, and store them in the `all_tickers_array` variable.\n",
    "* Finally, we'll compute the logarithmic return for tickers in the `dataset` using the `log_return_matrix(...)` function and store these values in the `all_firms_log_return_matrix` variable (assuming a `252`-day trading year)"
   ]
  },
  {
   "cell_type": "code",
   "execution_count": 5,
   "id": "2598add3-65e9-4c4e-a4b3-d3b9c4095d02",
   "metadata": {
    "tags": []
   },
   "outputs": [],
   "source": [
    "original_dataset = MyMarketDataSet() |> x-> x[\"dataset\"];"
   ]
  },
  {
   "cell_type": "markdown",
   "id": "1f91f716-f9b9-41b2-806a-9f3f999f84e7",
   "metadata": {},
   "source": [
    "### Clean the data\n",
    "Not all of the tickers in our dataset have the maximum number of trading days for various reasons, e.g., acquistion or de-listing events. Let's collect only those tickers with the maximum number of trading days.\n",
    "\n",
    "* First, let's compute the number of records for a company that we know has a maximim value, e.g., `AAPL` and save that value in the `maximum_number_trading_days` variable:"
   ]
  },
  {
   "cell_type": "code",
   "execution_count": 7,
   "id": "64eceddb-6ed7-4f86-9f27-be8e4eb763bb",
   "metadata": {
    "tags": []
   },
   "outputs": [],
   "source": [
    "maximum_number_trading_days = original_dataset[\"AAPL\"] |> nrow;"
   ]
  },
  {
   "cell_type": "markdown",
   "id": "ce9bfe6f-0463-4e33-b826-efb6a15a9d60",
   "metadata": {},
   "source": [
    "Now, lets iterate through our data and collect only those tickers that have `maximum_number_trading_days::Int64` records. Save that data in the `dataset::Dict{String,DataFrame}` variable:"
   ]
  },
  {
   "cell_type": "code",
   "execution_count": 9,
   "id": "8b46a0ff-60a0-45aa-b00c-eddd9c1f0a65",
   "metadata": {
    "tags": []
   },
   "outputs": [],
   "source": [
    "dataset = Dict{String,DataFrame}();\n",
    "for (ticker,data) ∈ original_dataset\n",
    "    if (nrow(data) == maximum_number_trading_days)\n",
    "        dataset[ticker] = data;\n",
    "    end\n",
    "end\n",
    "dataset;"
   ]
  },
  {
   "cell_type": "markdown",
   "id": "e7a5d745-046c-485d-af3d-9fc08b4deda6",
   "metadata": {},
   "source": [
    "Fill me in"
   ]
  },
  {
   "cell_type": "code",
   "execution_count": 11,
   "id": "bf104b4e-6829-4d88-be4d-cf8bd1833ef3",
   "metadata": {
    "tags": []
   },
   "outputs": [],
   "source": [
    "all_tickers_array = keys(dataset) |> collect |> sort;"
   ]
  },
  {
   "cell_type": "markdown",
   "id": "8cc6fbed-15c7-4f21-bb8e-dab4be1d0984",
   "metadata": {},
   "source": [
    "## __Task 1__: Initialize a world model and set up a ticker picker agent\n",
    "Our first task is to construct models of the bandit model agent, and then we'll build a model of the world that this agent samples.\n",
    "* First, we construct [a `MyEpsilonSamplingBanditModel` instance](https://varnerlab.github.io/VLQuantitativeFinancePackage.jl/dev/bandits/#VLQuantitativeFinancePackage.MyEpsilonSamplingBanditModel), using a [custom `build(...)` method](https://varnerlab.github.io/VLQuantitativeFinancePackage.jl/dev/bandits/#VLQuantitativeFinancePackage.build-Tuple{Type{MyTickerPickerWorldModel},%20NamedTuple}). The [`MyEpsilonSamplingBanditModel` instance](https://varnerlab.github.io/VLQuantitativeFinancePackage.jl/dev/bandits/#VLQuantitativeFinancePackage.MyEpsilonSamplingBanditModel) holds data associated with the world.\n",
    "* Next, we represent data associated with the world via a [`MyTickerPickerWorldModel` instance](https://varnerlab.github.io/VLQuantitativeFinancePackage.jl/dev/bandits/#VLQuantitativeFinancePackage.MyTickerPickerWorldModel). The [`MyTickerPickerWorldModel` instance](https://varnerlab.github.io/VLQuantitativeFinancePackage.jl/dev/bandits/#VLQuantitativeFinancePackage.MyTickerPickerWorldModel) is constructed using a [custom `build(...)` method](https://varnerlab.github.io/VLQuantitativeFinancePackage.jl/dev/bandits/#VLQuantitativeFinancePackage.build-Tuple{Type{MyTickerPickerWorldModel},%20NamedTuple}).  "
   ]
  },
  {
   "cell_type": "markdown",
   "id": "5e36d017-4939-4928-815f-8e5570927efc",
   "metadata": {},
   "source": [
    "### TODO: Build a MyEpsilonSamplingBanditModel instance"
   ]
  },
  {
   "cell_type": "markdown",
   "id": "ab9db0c8-992e-4ebc-b16f-f32b0c1a23ea",
   "metadata": {},
   "source": [
    "First, specify the list of tickers we want to examine in the `tickers::Array{String,1}` array, and store the number of tickers in the `K::Int64` variable. The ticker-picker agents rank their preferences amongst the tickers in the  `tickers::Array{String,1}` array."
   ]
  },
  {
   "cell_type": "code",
   "execution_count": 15,
   "id": "f39a61bf-697f-40d0-8012-a099e19cd250",
   "metadata": {
    "tags": []
   },
   "outputs": [],
   "source": [
    "tickers = [\"MRK\", \"JNJ\", \"MET\", \"NFLX\", \"AAPL\", \"AMD\", \"MU\", \"INTC\", \"MSFT\", \"SPY\", \"SPYD\", \"MMM\",\n",
    "    \"UNH\", \"JPM\", \"OXY\", \"TSLA\", \"PEP\", \"LMT\", \"CMCSA\", \"ECL\", \"SRE\", \"BAC\", \"C\", \"WFC\", \"QQQ\", \"KR\", \"NOC\", \"GS\", \"NVDA\"];\n",
    "K = length(tickers);"
   ]
  },
  {
   "cell_type": "markdown",
   "id": "ca001a8e-911f-42ea-93b4-25c3834f1c97",
   "metadata": {},
   "source": [
    "Next, construct [a `MyEpsilonSamplingBanditModel` instance](https://varnerlab.github.io/VLQuantitativeFinancePackage.jl/dev/bandits/#VLQuantitativeFinancePackage.MyEpsilonSamplingBanditModel), which holds information about the [ϵ-greedy sampling approach](https://arxiv.org/abs/1707.02038).  \n",
    "* The [`MyEpsilonSamplingBanditModel` type](https://varnerlab.github.io/VLQuantitativeFinancePackage.jl/dev/bandits/#VLQuantitativeFinancePackage.MyEpsilonSamplingBanditModel) is constructed [using a custom `build(...)` method](https://varnerlab.github.io/VLQuantitativeFinancePackage.jl/dev/bandits/#VLQuantitativeFinancePackage.build-Tuple{Type{MyEpsilonSamplingBanditModel},%20NamedTuple}) which takes two arguments:  The first is the type that we want to construct, i.e., [`MyEpsilonSamplingBanditModel`](https://varnerlab.github.io/VLQuantitativeFinancePackage.jl/dev/bandits/#VLQuantitativeFinancePackage.MyEpsilonSamplingBanditModel) and the second is a [Julia `NamedTuple` instance](https://docs.julialang.org/en/v1/base/base/#Core.NamedTuple) holding the number of arms `K::Int64`, initial values for the `α::Array{Int64,1}` and `β::Array{Int64,1}` arrays which hold the number of successes and failures for each arm, and `ϵ::Float64,` which controls the approximate fraction of `exploration` steps the algorithm takes; `exploration` steps are purely random. We save the sampling model instance to the `bandit_model::MyEpsilonSamplingBanditModel` variable:"
   ]
  },
  {
   "cell_type": "code",
   "execution_count": 17,
   "id": "77681663-c7c3-4071-b522-65d16acfdf8b",
   "metadata": {
    "tags": []
   },
   "outputs": [],
   "source": [
    "bandit_model = build(MyEpsilonSamplingBanditModel, (\n",
    "    K = K, # number bandit arms\n",
    "    α = ones(K), # initialize to uniform values\n",
    "    β = ones(K), # initialize to uniform values\n",
    "    ϵ = 0.3, # fraction of random steps\n",
    "));"
   ]
  },
  {
   "cell_type": "markdown",
   "id": "22eca659-8362-4969-ab91-305bb28e901a",
   "metadata": {},
   "source": [
    "### TODO: Setup a MyTickerPickerWorldModel instance\n",
    "Now that we have set up the bandit model, we construct [a `MyTickerPickerWorldModel` instance](https://varnerlab.github.io/VLQuantitativeFinancePackage.jl/dev/bandits/#VLQuantitativeFinancePackage.MyTickerPickerWorldModel) which holds data about the world which we sample. The `world(...)` function takes problem data and returns a binary reward. First, we formulate the `world(...)` function, which takes the `start::Int64` index, an action $a\\in\\mathcal{A}$ value, and the `worldmodel::MyTickerPickerWorldModel.` The `world(...)` function returns a binary reward $r\\in\\left\\{0,1\\right\\}$.\n",
    "\n",
    "#### Summary of world function\n",
    "`Unhide` the code block to see a reference implementation of the `world(...)` function. \n",
    "* We compare the wealth generated by investing `1 USD` in a fund that returns the risk-free rate for `buffersize::Int64` periods of $\\Delta{t}$ duration (denoted as `W_risk_free`) versus `1 USD` in a `ticker` over the same period (denoted as `W_ticker`). If `W_ticker > W_risk_free`, the `world(...)` function returns `1`, i.e., success; otherwise, the `world(...)` function returns `0.`"
   ]
  },
  {
   "cell_type": "code",
   "execution_count": 19,
   "id": "80806586-5fb3-4f65-97d9-f65236d7ce61",
   "metadata": {
    "jupyter": {
     "source_hidden": true
    },
    "tags": []
   },
   "outputs": [],
   "source": [
    "function world(start::Int64, action::Int64, worldmodel::MyTickerPickerWorldModel)::Int64\n",
    "\n",
    "    # get data from the world model -\n",
    "    tickers = worldmodel.tickers;\n",
    "    data = worldmodel.data;\n",
    "    risk_free_rate = worldmodel.risk_free_rate;\n",
    "    Δt = worldmodel.Δt;\n",
    "    buffersize = worldmodel.buffersize;\n",
    "    \n",
    "    # initialize -\n",
    "    result_flag = 0;\n",
    "\n",
    "    # grab the ticker we are looking at?\n",
    "    ticker_symbol = tickers[action];\n",
    "    \n",
    "    # compute the expected return over the horizon -\n",
    "    price_df = data[ticker_symbol];\n",
    "    time = range(start+1,(start+buffersize), step = 1) |> collect\n",
    "    \n",
    "    buffer = Array{Float64,1}();\n",
    "    for t ∈ time\n",
    "        P₁ = price_df[t-1, :volume_weighted_average_price]\n",
    "        P₂ = price_df[t, :volume_weighted_average_price]\n",
    "        R = (1/Δt)*log(P₂/P₁); # growth rate\n",
    "        push!(buffer,R);\n",
    "    end\n",
    "    μ = sum(buffer);\n",
    "\n",
    "    # if we invested 1 USD, in each how much would we have at the end of the horizon -\n",
    "    W_risk_free = exp(buffersize*risk_free_rate*Δt);\n",
    "    W_ticker = exp(μ*Δt);\n",
    "    \n",
    "    # Are we better or worse relative to the risk-free investment?\n",
    "    (W_ticker > W_risk_free) ? result_flag = 1 : result_flag = 0;\n",
    "    return result_flag;\n",
    "end;"
   ]
  },
  {
   "cell_type": "markdown",
   "id": "eeeed5cd-38c1-4675-8fc9-4fca94b63bbe",
   "metadata": {
    "tags": []
   },
   "source": [
    "Next, you need to set the `buffersize::Int64` variable. This variable controls the number of trading periods of duration $\\Delta{t}$ that we use to compute the return.\n",
    "* __Note__: The reference implementation above uses overlapping evaluation periods, not discrete contiguous periods. A more realistic implementation would refactor the reference implementation to use non-overlapping periods."
   ]
  },
  {
   "cell_type": "code",
   "execution_count": 21,
   "id": "4c0a61e0-bd90-439a-8ad4-1675fb4a64f3",
   "metadata": {
    "tags": []
   },
   "outputs": [],
   "source": [
    "buffersize = 5; # 1-trading week"
   ]
  },
  {
   "cell_type": "markdown",
   "id": "bbf5ba73-3375-4e97-b0a5-ae30919706c1",
   "metadata": {},
   "source": [
    "Finally, we construct a [`MyTickerPickerWorldModel` instance](https://varnerlab.github.io/VLQuantitativeFinancePackage.jl/dev/bandits/#VLQuantitativeFinancePackage.MyTickerPickerWorldModel) using \n",
    "[a custom `build(...)` method](https://varnerlab.github.io/VLQuantitativeFinancePackage.jl/dev/bandits/#VLQuantitativeFinancePackage.build-Tuple{Type{MyTickerPickerWorldModel},%20NamedTuple}). The [`build(...)` method](https://varnerlab.github.io/VLQuantitativeFinancePackage.jl/dev/bandits/#VLQuantitativeFinancePackage.build-Tuple{Type{MyTickerPickerWorldModel},%20NamedTuple}) take two arguments: first, the [`MyTickerPickerWorldModel` type](https://varnerlab.github.io/VLQuantitativeFinancePackage.jl/dev/bandits/#VLQuantitativeFinancePackage.MyTickerPickerWorldModel) and the second is a [Julia `NamedTuple` instance](https://docs.julialang.org/en/v1/base/base/#Core.NamedTuple) holding data for the model:\n",
    "* The [`MyTickerPickerWorldModel` instance](https://varnerlab.github.io/VLQuantitativeFinancePackage.jl/dev/bandits/#VLQuantitativeFinancePackage.MyTickerPickerWorldModel) requires the `tickers::Array{String,1}` array, the `data::Dict{String, DataFrame}` field holding the price data dictionary, the `world::Function`, the `risk_free_rate::Float64`, the duration of the time-step $\\Delta{t}$, and the `buffersize::Int64` field. We store the world model in the `world_model::MyTickerPickerWorldModel` variable:"
   ]
  },
  {
   "cell_type": "code",
   "execution_count": 23,
   "id": "a2a59eaa-2b13-4a73-9be7-1dc0eff73a7c",
   "metadata": {},
   "outputs": [],
   "source": [
    "world_model = build(MyTickerPickerWorldModel, (\n",
    "    tickers = tickers,\n",
    "    data = dataset,\n",
    "    world = world,\n",
    "    risk_free_rate = 0.047,\n",
    "    Δt = (1.0/252.0),\n",
    "    buffersize = buffersize,\n",
    "));"
   ]
  },
  {
   "cell_type": "markdown",
   "id": "5882a50a-4e0e-4572-8cee-32a390ae35ab",
   "metadata": {},
   "source": [
    "## __Task 2__: Run a single ticker-picker agent and explore its preferences\n",
    "In this task, we use the world and bandit models to learn ticker preferences for a single agent. In particular,  let's run a single ticker-picker agent and examine what it returns using [the `sample(...)` function](https://varnerlab.github.io/VLQuantitativeFinancePackage.jl/dev/bandits/#VLQuantitativeFinancePackage.sample-Tuple{MyEpsilonSamplingBanditModel,%20MyTickerPickerWorldModel}). \n",
    "* The [`sample(...)` function](https://varnerlab.github.io/VLQuantitativeFinancePackage.jl/dev/bandits/#VLQuantitativeFinancePackage.sample-Tuple{MyEpsilonSamplingBanditModel,%20MyTickerPickerWorldModel}) takes a [`bandit_model::MyEpsilonSamplingBanditModel`](https://varnerlab.github.io/VLQuantitativeFinancePackage.jl/dev/bandits/#VLQuantitativeFinancePackage.MyEpsilonSamplingBanditModel)\n",
    "and a [`world_model::MyTickerPickerWorldModel` instance](https://varnerlab.github.io/VLQuantitativeFinancePackage.jl/dev/bandits/#VLQuantitativeFinancePackage.MyTickerPickerWorldModel)\n",
    "along with the `horizon::Int64` parameter, i.e., how many iterations we want the search to run for,  and returns a dictionary holding the [`Beta` distributions](https://juliastats.org/Distributions.jl/stable/univariate/#Distributions.Beta) for each arm (ticker) at each time point (keys) in the `time_sample_results_dict_eps` variable.\n",
    "* _How do we set the `horizon` argument_? The `horizon::Int64` argument controls the number of consecutive time windows of length `buffersize::Int64` we use to train the bandit. Let's use all the available data, which is `maximum_number_trading_days - buffersize` values in this case. We subtract the `buffersize` so we don't run off the end of the data array for a ticker."
   ]
  },
  {
   "cell_type": "code",
   "execution_count": 25,
   "id": "0f05cdd3-714f-4299-88fa-b4a5a81819f5",
   "metadata": {
    "tags": []
   },
   "outputs": [],
   "source": [
    "time_sample_results_dict_eps = VLQuantitativeFinancePackage.sample(bandit_model, world_model; \n",
    "    horizon = (maximum_number_trading_days - buffersize));"
   ]
  },
  {
   "cell_type": "markdown",
   "id": "575c66fb-eaa1-49b9-b9c7-4f3f19feb835",
   "metadata": {},
   "source": [
    "Fill me in - what do we want to do?"
   ]
  },
  {
   "cell_type": "code",
   "execution_count": 27,
   "id": "d673bb39-ddab-4e20-b8eb-9084f5b550f9",
   "metadata": {
    "tags": []
   },
   "outputs": [
    {
     "data": {
      "text/plain": [
       "29-element Vector{Beta}:\n",
       " Beta{Float64}(α=33.0, β=21.0)\n",
       " Beta{Float64}(α=9.0, β=11.0)\n",
       " Beta{Float64}(α=6.0, β=9.0)\n",
       " Beta{Float64}(α=31.0, β=20.0)\n",
       " Beta{Float64}(α=26.0, β=20.0)\n",
       " Beta{Float64}(α=34.0, β=21.0)\n",
       " Beta{Float64}(α=18.0, β=16.0)\n",
       " Beta{Float64}(α=6.0, β=10.0)\n",
       " Beta{Float64}(α=77.0, β=40.0)\n",
       " Beta{Float64}(α=11.0, β=12.0)\n",
       " Beta{Float64}(α=7.0, β=10.0)\n",
       " Beta{Float64}(α=1.0, β=7.0)\n",
       " Beta{Float64}(α=24.0, β=19.0)\n",
       " ⋮\n",
       " Beta{Float64}(α=15.0, β=15.0)\n",
       " Beta{Float64}(α=12.0, β=12.0)\n",
       " Beta{Float64}(α=32.0, β=21.0)\n",
       " Beta{Float64}(α=33.0, β=24.0)\n",
       " Beta{Float64}(α=6.0, β=8.0)\n",
       " Beta{Float64}(α=54.0, β=32.0)\n",
       " Beta{Float64}(α=67.0, β=39.0)\n",
       " Beta{Float64}(α=14.0, β=12.0)\n",
       " Beta{Float64}(α=23.0, β=17.0)\n",
       " Beta{Float64}(α=33.0, β=26.0)\n",
       " Beta{Float64}(α=1.0, β=5.0)\n",
       " Beta{Float64}(α=13.0, β=11.0)"
      ]
     },
     "execution_count": 27,
     "metadata": {},
     "output_type": "execute_result"
    }
   ],
   "source": [
    "Z = time_sample_results_dict_eps[100]"
   ]
  },
  {
   "cell_type": "markdown",
   "id": "41dd38c1-8cef-4919-8a6b-c470ad943e31",
   "metadata": {},
   "source": [
    "## __Task 3__: Run a collection of ticker-picker agents and examine their preferences\n",
    "In this task, let's repeat the single-agent analysis with `N` agents by running the [`sample(...)` method](https://varnerlab.github.io/VLQuantitativeFinancePackage.jl/dev/bandits/#VLQuantitativeFinancePackage.sample-Tuple{MyEpsilonSamplingBanditModel,%20MyTickerPickerWorldModel}) inside a [`for-loop`](https://docs.julialang.org/en/v1/base/base/#for). We'll store the results at a particular `trading_day_index::Int64` in the `agent_specific_data::Array{Beta,2}(undef, K, number_of_agents)` array. \n",
    "* The `agent_specific_data` array holds the [`Beta` distributions](https://juliastats.org/Distributions.jl/stable/univariate/#Distributions.Beta) for each agent at `trading_day_index::Int64` for each `ticker`$\\in$`tickers.` The `ticker` is the row index, and the agent's [`Beta` distributions](https://juliastats.org/Distributions.jl/stable/univariate/#Distributions.Beta) is the column index, e.g., index (1,4) holds the preference for ticker = 1 held by agent = 4.\n",
    "* In the code block below, we use [the Julia `foreach(...)` iteration pattern](https://docs.julialang.org/en/v1/base/collections/#Base.foreach) to populate the `agent_specific_data` array. We could have also used [a simple `for-loop`](https://docs.julialang.org/en/v1/base/base/#for), but the [`foreach(...)` iteration pattern](https://docs.julialang.org/en/v1/base/collections/#Base.foreach) is more compact."
   ]
  },
  {
   "cell_type": "code",
   "execution_count": 29,
   "id": "38545ba9-fe62-4d12-b3e7-157582823a2d",
   "metadata": {
    "tags": []
   },
   "outputs": [],
   "source": [
    "number_of_agents = 10000; # how many agents do we want\n",
    "trading_day_index = 1479; # what trading day are we interested in?\n",
    "agent_specific_data = Array{Beta,2}(undef, K, number_of_agents);\n",
    "\n",
    "for agent_index ∈ 1:number_of_agents\n",
    "    \n",
    "    # sample -\n",
    "    time_sample_results_dict_eps = VLQuantitativeFinancePackage.sample(bandit_model, world_model; \n",
    "        horizon = (maximum_number_trading_days - buffersize));\n",
    "\n",
    "    # populate the agent_specific_data array\n",
    "    foreach(k-> agent_specific_data[k, agent_index] = time_sample_results_dict_eps[trading_day_index][k], 1:K)\n",
    "end"
   ]
  },
  {
   "cell_type": "code",
   "execution_count": 30,
   "id": "261e43a9-7a37-4e5d-8f7b-7cd0a1e73cb7",
   "metadata": {
    "tags": []
   },
   "outputs": [
    {
     "data": {
      "text/plain": [
       "10000-element Vector{Beta}:\n",
       " Beta{Float64}(α=30.0, β=23.0)\n",
       " Beta{Float64}(α=11.0, β=12.0)\n",
       " Beta{Float64}(α=46.0, β=34.0)\n",
       " Beta{Float64}(α=1.0, β=5.0)\n",
       " Beta{Float64}(α=81.0, β=49.0)\n",
       " Beta{Float64}(α=3.0, β=7.0)\n",
       " Beta{Float64}(α=7.0, β=9.0)\n",
       " Beta{Float64}(α=2.0, β=7.0)\n",
       " Beta{Float64}(α=22.0, β=18.0)\n",
       " Beta{Float64}(α=49.0, β=33.0)\n",
       " Beta{Float64}(α=14.0, β=15.0)\n",
       " Beta{Float64}(α=24.0, β=20.0)\n",
       " Beta{Float64}(α=25.0, β=20.0)\n",
       " ⋮\n",
       " Beta{Float64}(α=15.0, β=16.0)\n",
       " Beta{Float64}(α=24.0, β=20.0)\n",
       " Beta{Float64}(α=26.0, β=19.0)\n",
       " Beta{Float64}(α=26.0, β=20.0)\n",
       " Beta{Float64}(α=37.0, β=25.0)\n",
       " Beta{Float64}(α=20.0, β=17.0)\n",
       " Beta{Float64}(α=7.0, β=11.0)\n",
       " Beta{Float64}(α=29.0, β=22.0)\n",
       " Beta{Float64}(α=21.0, β=17.0)\n",
       " Beta{Float64}(α=44.0, β=29.0)\n",
       " Beta{Float64}(α=9.0, β=12.0)\n",
       " Beta{Float64}(α=12.0, β=14.0)"
      ]
     },
     "execution_count": 30,
     "metadata": {},
     "output_type": "execute_result"
    }
   ],
   "source": [
    "agent_specific_data[1,:] # data for each agent for ticker 1 for all the agents"
   ]
  },
  {
   "cell_type": "markdown",
   "id": "e243138a-c610-406a-9a65-b9ba60a4eb0a",
   "metadata": {},
   "source": [
    "## The wisdom of the collective\n",
    "Now that we have prefernces for the `N` agents (encoded as `Beta` distributions for each ticker), let's develop a concencous belief in which tickers to include in our portfolio $\\mathcal{P}$. First, let's compute the agent-specific rank of eack ticker, where `rank = 1` is the best, and `rank = K` is the worst. We'll store these values in the `preference_rank_array` array."
   ]
  },
  {
   "cell_type": "code",
   "execution_count": 32,
   "id": "db1d74bf-a679-4023-b2b0-09a34569bb04",
   "metadata": {
    "tags": []
   },
   "outputs": [
    {
     "data": {
      "text/plain": [
       "10000×29 Matrix{Int64}:\n",
       " 10  26  29   3  20   8   8  19   1  …  14  12  21  21   2  18  13   5  17\n",
       " 18  16   2  17   9  12  10  25   5     25  23  25  29   1  27   7  13   8\n",
       "  6  22   9  17  12   4   8  20  29     15  11  25  23  10  18  21  24   1\n",
       " 29  14  18   5  19  22  23  26   3     10   9  13  11  21  27  20  15   1\n",
       "  2  19  24  17  11   9  21   8   4      5  20   7  26  27  22  13   3   1\n",
       " 26  25  18   8  14  13  10  11   3  …  16  16  23  19  27  12   5  22   4\n",
       " 23  25  15  20   2  20  28  19  22     10  29   1  12   5  11  24  15  25\n",
       " 29  17   2  20   8  13   3  27   7     25   9  15  16   5  12  28  24   1\n",
       "  8  28  27  10   1  17  26  13   5      5  19   4  22  23  21  18  24  14\n",
       "  3   8  15  10  22  29   9  13   4     11  20  24  26   2  12  27  19  15\n",
       " 14  17  18   2  20  27  23  29   3  …  12  21  25  27   1  25   7  22  15\n",
       "  9  25   7  28  15   2   3  10   4     11  26  18  27   8  21   5  29  15\n",
       " 14  17  19  16   9  10  15   5   4     22  29  24  12  11  27  23  18   1\n",
       "  ⋮                   ⋮              ⋱   ⋮                   ⋮          \n",
       " 14  17  11  19   2   4  23  20   1      5   7  15  25  16  11  10  28   6\n",
       "  9  28  27  12   6   2  25  21   4     23  29  14   3   1  14  17  11  19\n",
       "  8  16  20  23  13   2  26   9  28  …  19  12   7  13  28   1  21  21   6\n",
       " 10  22  29   6  12  26  13  20  11     26   4  26  19   2  14   3  17  21\n",
       "  4  17  15  17   1  27  24  11  21     21   5  19  25   6  20  10   9   7\n",
       " 16  14  15  27   1   3   8  28   4      6  29  25  10   5  20  17   2  19\n",
       " 25  11   2  28   9  17  12   5   6     20  19   7  23  27  14  13  23  10\n",
       "  6   5  22  11  15  13  24  29   1  …  15   4  21  17   2   8  26  20  23\n",
       " 12  17   3   1  14   9  27  24  20     14  16  26  29   2  28  20  20  20\n",
       "  3   5  16  10   1   8  26  24  28     24  12  19  18   6  21  29   7  13\n",
       " 18  16  15  10   1  26  20  13  12     25  20   8   7   2   6  23  27   3\n",
       " 20  23   9  23   3  10  28  18  11     28  16  15  12   6  14   8  28   5"
      ]
     },
     "execution_count": 32,
     "metadata": {},
     "output_type": "execute_result"
    }
   ],
   "source": [
    "preference_rank_array = Array{Int,2}(undef, number_of_agents, K);\n",
    "for agent ∈ 1:number_of_agents\n",
    "        \n",
    "    # ask an agent about their preference for ticker i -\n",
    "    experience_distributions = agent_specific_data[:,agent]\n",
    "    preference_vector = preference(experience_distributions, tickers) .|> x-> trunc(Int64,x) # trunc function is cool!\n",
    "    \n",
    "    # package -\n",
    "    for i ∈ 1:K\n",
    "        preference_rank_array[agent, i] = preference_vector[i];\n",
    "    end\n",
    "end\n",
    "preference_rank_array"
   ]
  },
  {
   "cell_type": "markdown",
   "id": "42ffea10-9ddd-4713-ab27-bf17d5e70de6",
   "metadata": {},
   "source": [
    "### Compute the frequency dictionary\n",
    "Let's count the times a `ticker` is ranked in the `top 10` across the `N` agents and then normalize by the number of agents, i.e., compute the frequency of being ranked in the `top 10`. We'll store this value in the `frequency_dictionary,` where the `ticker` is the key, and the frequency is the value.\n",
    "* `Hypothesis`: Those `tickers` with high rank are likelier to beat an alternative `risk-free` investment, while low rank `tickers` do not outperform a `risk-free` alternative investment. "
   ]
  },
  {
   "cell_type": "code",
   "execution_count": 34,
   "id": "ef31e983-9274-484a-869c-732410886f2b",
   "metadata": {
    "tags": []
   },
   "outputs": [],
   "source": [
    "frequency_dictionary = Dict{String,Float64}();\n",
    "for i ∈ eachindex(tickers)\n",
    "    \n",
    "    # compute the frequency -\n",
    "    freq = findall(x-> x ≤ 10, preference_rank_array[:,i]) |> x-> length(x) |> x-> x/number_of_agents\n",
    "    \n",
    "    # get the ticker -\n",
    "    ticker = tickers[i];\n",
    "    frequency_dictionary[ticker] = freq;\n",
    "end"
   ]
  },
  {
   "cell_type": "code",
   "execution_count": 35,
   "id": "a36d1052-69b2-4228-8f6b-8dde9968db2e",
   "metadata": {},
   "outputs": [
    {
     "data": {
      "text/plain": [
       "Dict{String, Float64} with 29 entries:\n",
       "  \"MSFT\"  => 0.5932\n",
       "  \"JPM\"   => 0.3108\n",
       "  \"C\"     => 0.2655\n",
       "  \"MRK\"   => 0.3941\n",
       "  \"UNH\"   => 0.371\n",
       "  \"SPY\"   => 0.5783\n",
       "  \"BAC\"   => 0.286\n",
       "  \"MU\"    => 0.2302\n",
       "  \"SRE\"   => 0.313\n",
       "  \"TSLA\"  => 0.3247\n",
       "  \"KR\"    => 0.2786\n",
       "  \"AMD\"   => 0.4617\n",
       "  \"INTC\"  => 0.3684\n",
       "  \"NVDA\"  => 0.4322\n",
       "  \"MMM\"   => 0.2097\n",
       "  \"NOC\"   => 0.2939\n",
       "  \"ECL\"   => 0.4506\n",
       "  \"LMT\"   => 0.2205\n",
       "  \"GS\"    => 0.2817\n",
       "  \"OXY\"   => 0.1631\n",
       "  \"CMCSA\" => 0.2751\n",
       "  \"JNJ\"   => 0.2002\n",
       "  \"SPYD\"  => 0.3574\n",
       "  \"NFLX\"  => 0.3608\n",
       "  \"WFC\"   => 0.2722\n",
       "  ⋮       => ⋮"
      ]
     },
     "execution_count": 35,
     "metadata": {},
     "output_type": "execute_result"
    }
   ],
   "source": [
    "frequency_dictionary"
   ]
  },
  {
   "cell_type": "markdown",
   "id": "c9be022e-5056-476d-9313-b81651bf6b4a",
   "metadata": {},
   "source": [
    "## Disclaimer and Risks\n",
    "__This content is offered solely for training and informational purposes__. No offer or solicitation to buy or sell securities or derivative products or any investment or trading advice or strategy is made, given, or endorsed by the teaching team. \n",
    "\n",
    "__Trading involves risk__. Carefully review your financial situation before investing in securities, futures contracts, options, or commodity interests. Past performance, whether actual or indicated by historical tests of strategies, is no guarantee of future performance or success. Trading is generally inappropriate for someone with limited resources, investment or trading experience, or a low-risk tolerance.  Only risk capital that is not required for living expenses.\n",
    "\n",
    "__You are fully responsible for any investment or trading decisions you make__. Such decisions should be based solely on evaluating your financial circumstances, investment or trading objectives, risk tolerance, and liquidity needs."
   ]
  }
 ],
 "metadata": {
  "kernelspec": {
   "display_name": "Julia 1.10.4",
   "language": "julia",
   "name": "julia-1.10"
  },
  "language_info": {
   "file_extension": ".jl",
   "mimetype": "application/julia",
   "name": "julia",
   "version": "1.10.4"
  }
 },
 "nbformat": 4,
 "nbformat_minor": 5
}
