{
 "cells": [
  {
   "cell_type": "markdown",
   "id": "e7581284-9d0a-44c4-b8f3-d9e735f72b55",
   "metadata": {},
   "source": [
    "# `Example`: Training Binary Bernoulli Bandit Ticker Picker Agents\n",
    "In this example, we create a group of `N` agents to assist us in selecting stocks for our portfolio $\\mathcal{P}$. We will use the [$\\epsilon$-Greedy Thompson Sampling algorithm](https://arxiv.org/abs/1707.02038) to solve a Multi-arm Binary Bandit problem. The choices of stocks that we can select from will be the bandits, and there are `K` of them in our choice set $\\mathcal{C}$. We will feed daily return data to the group of `N` agents, who will learn which tickers return beyond a specified cutoff, such as the risk-free rate, in an online manner. \n",
    "\n",
    "Each agent will independently analyze daily Open High Low Close (OHLC) data sequences and develop a ranking of their belief that a particular ticker will return at least the risk-free rate in the next step. This ranking is based on the probability $p_{a}$, which represents the probability that the ticker will beat the risk-free rate. Each agent will express this probability as a belief distribution, represented by the parameters of a [Beta distribution](https://en.wikipedia.org/wiki/Beta_distribution).\n",
    "\n",
    "Once the analysis is complete, we will ask the agents to provide us with their `top-N` tickers. Subsequently, we could use these picks to populate our portfolio $\\mathcal{P}$.\n",
    "\n",
    "## Tasks\n",
    "* __Prerequisites__: We'll load the daily Open High Low Close (OHLC) dataset and select tickers with complete data. We'll also compute the annualized daily return for each ticker in that dataset.\n",
    "* __Task 1__: Develop a `world` function that agents will use to evaluate the possible actions and set up the ticker picker agents\n",
    "    * `TODO`: Agents sample the `world`. If the ticker `XYZ` returns greater than or equal to the risk-free rate in the sample period, the agent receives a reward of `+1`. Otherwise, the agent receives a reward of `0`.\n",
    "    * `TODO`: Initialize a collection of `N` ticker picker agents with an apriori belief that ticker `XYZ` is `good` or `bad`\n",
    "* __Task 2__: In this task, we explore how the ticker picker agents learn which ticker symbols are better or worse bets.\n",
    "    * `TODO`: Starting with a single ticker picker agent and a collection of `K` potential ticker symbols, we feed the agent daily (annualized) logarithmic return data and watch it evolve its belief system as new data is added.\n",
    "* __Task 3__: Expand the single agent analysis to `N` agents, each exploring `K` potential ticker symbols.\n",
    "    * `TODO`: After the agents complete their training, analyze their findings and have each agent compute its `top-N` ticker picks.  "
   ]
  },
  {
   "cell_type": "markdown",
   "id": "1f460c75-9615-41a5-b5a1-f3a843413f90",
   "metadata": {
    "tags": []
   },
   "source": [
    "## Setup\n",
    "Several external `Julia` packages enable the computations in this example. To load the required packages and any custom codes the teaching team has developed to work with these packages, we [include](https://docs.julialang.org/en/v1/manual/code-loading/) the `Include.jl` file:"
   ]
  },
  {
   "cell_type": "code",
   "execution_count": 3,
   "id": "734b30e2-a662-4bd3-bc37-a61d93b0b4dc",
   "metadata": {
    "tags": []
   },
   "outputs": [
    {
     "name": "stderr",
     "output_type": "stream",
     "text": [
      "\u001b[32m\u001b[1m    Updating\u001b[22m\u001b[39m git-repo `https://github.com/varnerlab/VLQuantitativeFinancePackage.jl.git`\n",
      "\u001b[32m\u001b[1m   Resolving\u001b[22m\u001b[39m package versions...\n",
      "\u001b[32m\u001b[1m    Updating\u001b[22m\u001b[39m `~/Desktop/julia_work/CHEME-130-eCornell-Repository/courses/CHEME-136/module-2/Project.toml`\n",
      "  \u001b[90m[4119e0bf] \u001b[39m\u001b[93m~ VLQuantitativeFinancePackage v1.0.0-DEV `https://github.com/varnerlab/VLQuantitativeFinancePackage.jl.git#main` ⇒ v1.0.0-DEV `https://github.com/varnerlab/VLQuantitativeFinancePackage.jl.git#main`\u001b[39m\n",
      "\u001b[32m\u001b[1m    Updating\u001b[22m\u001b[39m `~/Desktop/julia_work/CHEME-130-eCornell-Repository/courses/CHEME-136/module-2/Manifest.toml`\n",
      "  \u001b[90m[4119e0bf] \u001b[39m\u001b[93m~ VLQuantitativeFinancePackage v1.0.0-DEV `https://github.com/varnerlab/VLQuantitativeFinancePackage.jl.git#main` ⇒ v1.0.0-DEV `https://github.com/varnerlab/VLQuantitativeFinancePackage.jl.git#main`\u001b[39m\n",
      "\u001b[32m\u001b[1mPrecompiling\u001b[22m\u001b[39m project...\n",
      "\u001b[32m  ✓ \u001b[39mVLQuantitativeFinancePackage\n",
      "  1 dependency successfully precompiled in 3 seconds. 268 already precompiled.\n",
      "\u001b[32m\u001b[1m  Activating\u001b[22m\u001b[39m project at `~/Desktop/julia_work/CHEME-130-eCornell-Repository/courses/CHEME-136/module-2`\n",
      "\u001b[32m\u001b[1m  No Changes\u001b[22m\u001b[39m to `~/Desktop/julia_work/CHEME-130-eCornell-Repository/courses/CHEME-136/module-2/Project.toml`\n",
      "\u001b[32m\u001b[1m  No Changes\u001b[22m\u001b[39m to `~/Desktop/julia_work/CHEME-130-eCornell-Repository/courses/CHEME-136/module-2/Manifest.toml`\n",
      "\u001b[32m\u001b[1m    Updating\u001b[22m\u001b[39m registry at `~/.julia/registries/General.toml`\n",
      "\u001b[32m\u001b[1m    Updating\u001b[22m\u001b[39m git-repo `https://github.com/varnerlab/VLQuantitativeFinancePackage.jl.git`\n",
      "\u001b[32m\u001b[1m  No Changes\u001b[22m\u001b[39m to `~/Desktop/julia_work/CHEME-130-eCornell-Repository/courses/CHEME-136/module-2/Project.toml`\n",
      "\u001b[32m\u001b[1m  No Changes\u001b[22m\u001b[39m to `~/Desktop/julia_work/CHEME-130-eCornell-Repository/courses/CHEME-136/module-2/Manifest.toml`\n"
     ]
    }
   ],
   "source": [
    "include(\"Include.jl\");"
   ]
  },
  {
   "cell_type": "markdown",
   "id": "44efd168-6b4b-4706-86ed-1abd7bd74468",
   "metadata": {
    "tags": []
   },
   "source": [
    "## Prerequisites: Load and clean the historical dataset\n",
    "We gathered daily open-high-low-close data for each firm in the [S&P500](https://en.wikipedia.org/wiki/S%26P_500) from `01-03-2018` until `12-29-2023`, along with data for a few exchange-traded funds and volatility products during that time. We'll use this data in the subsequent study, but we must load and clean it up first. In particular, in the `prerequisites` code block, we will:\n",
    "* First, we'll load the data and remove tickers that do not have the maximum number of trading days. We'll store the cleaned data in the `dataset::Dict{String, DataFrame}` variable.\n",
    "* Next, we'll get a list of all the tickers in the `dataset,` sort them alphabetically, and store them in the `all_tickers_array` variable.\n",
    "* Finally, we'll compute the logarithmic return for tickers in the `dataset` using the `log_return_matrix(...)` function and store these values in the `all_firms_log_return_matrix` variable (assuming a `252`-day trading year)"
   ]
  },
  {
   "cell_type": "code",
   "execution_count": 5,
   "id": "2598add3-65e9-4c4e-a4b3-d3b9c4095d02",
   "metadata": {
    "tags": []
   },
   "outputs": [],
   "source": [
    "original_dataset = MyMarketDataSet() |> x-> x[\"dataset\"];"
   ]
  },
  {
   "cell_type": "markdown",
   "id": "1f91f716-f9b9-41b2-806a-9f3f999f84e7",
   "metadata": {},
   "source": [
    "### Clean the data\n",
    "Not all of the tickers in our dataset have the maximum number of trading days for various reasons, e.g., acquistion or de-listing events. Let's collect only those tickers with the maximum number of trading days.\n",
    "\n",
    "* First, let's compute the number of records for a company that we know has a maximim value, e.g., `AAPL` and save that value in the `maximum_number_trading_days` variable:"
   ]
  },
  {
   "cell_type": "code",
   "execution_count": 7,
   "id": "64eceddb-6ed7-4f86-9f27-be8e4eb763bb",
   "metadata": {
    "tags": []
   },
   "outputs": [
    {
     "data": {
      "text/plain": [
       "1508"
      ]
     },
     "execution_count": 7,
     "metadata": {},
     "output_type": "execute_result"
    }
   ],
   "source": [
    "maximum_number_trading_days = original_dataset[\"AAPL\"] |> nrow"
   ]
  },
  {
   "cell_type": "markdown",
   "id": "ce9bfe6f-0463-4e33-b826-efb6a15a9d60",
   "metadata": {},
   "source": [
    "Now, lets iterate through our data and collect only those tickers that have `maximum_number_trading_days` records. Save that data in the `dataset::Dict{String,DataFrame}` variable:"
   ]
  },
  {
   "cell_type": "code",
   "execution_count": 9,
   "id": "8b46a0ff-60a0-45aa-b00c-eddd9c1f0a65",
   "metadata": {
    "tags": []
   },
   "outputs": [],
   "source": [
    "dataset = Dict{String,DataFrame}();\n",
    "for (ticker,data) ∈ original_dataset\n",
    "    if (nrow(data) == maximum_number_trading_days)\n",
    "        dataset[ticker] = data;\n",
    "    end\n",
    "end\n",
    "dataset;"
   ]
  },
  {
   "cell_type": "markdown",
   "id": "07956832-7e1f-4695-8391-530924d5d704",
   "metadata": {},
   "source": [
    "Let's get a list of firms that we have in cleaned up `dataset`, and save it in the `all_tickers_array` array:"
   ]
  },
  {
   "cell_type": "code",
   "execution_count": 11,
   "id": "bf104b4e-6829-4d88-be4d-cf8bd1833ef3",
   "metadata": {
    "tags": []
   },
   "outputs": [],
   "source": [
    "all_tickers_array = keys(dataset) |> collect |> sort;"
   ]
  },
  {
   "cell_type": "markdown",
   "id": "aab70d28-4f73-43fd-884d-88e6bdb9112c",
   "metadata": {},
   "source": [
    "Finally, let's compute the annualized logarithmic growth rate time series for each ticker in `dataset` using the `log_return_matrix(...)` function:\n",
    "> The `log_return_matrix(dataset::Dict{String, DataFrame}, firms::Array{String,1}; Δt::Float64 = (1.0/252.0), risk_free_rate::Float64 = 0.0) -> Array{Float64,2}` takes the `dataset` argument (which holds `N`-price values and other data for a ticker), and a `K`-dimensional list of ticker symbols, and returns the annualized growth rate $\\mu$ time-series as `N-1`$\\times$`K` array, where the rows correspond to times, and the columns correspond to tickers."
   ]
  },
  {
   "cell_type": "code",
   "execution_count": 13,
   "id": "0056d081-1322-4d1d-8613-d2d8ade16052",
   "metadata": {},
   "outputs": [],
   "source": [
    "all_firms_log_growth_matrix = log_growth_matrix(dataset, all_tickers_array, \n",
    "    Δt = (1.0/252.0), risk_free_rate = 0.0);"
   ]
  },
  {
   "cell_type": "markdown",
   "id": "8cc6fbed-15c7-4f21-bb8e-dab4be1d0984",
   "metadata": {},
   "source": [
    "## __Task 1__: Initialize the `world` model and set up a ticker picker agent\n",
    "The world function takes action `a`, i.e., chooses a `ticker` from the collection of stocks/ETFs that we are exploring, and asks whether or not the return of this `ticker` at the end of today was greater or equal to the risk-free rate. \n",
    "* If the daily return is greater than or equal to the risk-free rate, the `agent` receives a reward of `r = 1`. Otherwise, the `agent` receives a `r = 0` reward."
   ]
  },
  {
   "cell_type": "markdown",
   "id": "5e36d017-4939-4928-815f-8e5570927efc",
   "metadata": {},
   "source": [
    "### TODO: Setup a ticker-picker agent model"
   ]
  },
  {
   "cell_type": "markdown",
   "id": "ab9db0c8-992e-4ebc-b16f-f32b0c1a23ea",
   "metadata": {},
   "source": [
    "First, let's specify the tickers that we want to examine in the `tickers` array, and store the number of tickers in the `K` variable:"
   ]
  },
  {
   "cell_type": "code",
   "execution_count": 17,
   "id": "f39a61bf-697f-40d0-8012-a099e19cd250",
   "metadata": {
    "tags": []
   },
   "outputs": [],
   "source": [
    "tickers = [\"MRK\", \"JNJ\", \"MET\", \"NFLX\", \"AAPL\", \"AMD\", \"MU\", \"INTC\", \"MSFT\", \"SPY\", \"SPYD\", \"MMM\",\n",
    "    \"UNH\", \"JPM\", \"OXY\", \"TSLA\", \"PEP\", \"LMT\", \"CMCSA\", \"ECL\", \"SRE\", \"BAC\", \"C\", \"WFC\", \"QQQ\", \"KR\", \"NOC\", \"GS\"];\n",
    "K = length(tickers);"
   ]
  },
  {
   "cell_type": "markdown",
   "id": "ca001a8e-911f-42ea-93b4-25c3834f1c97",
   "metadata": {},
   "source": [
    "Next, we construct the `EpsilonSamplingModel` instance which holds information about the ϵ-greedy sampling approach. The `EpsilonSamplingModel` type has one additional field, the `ϵ` field which controls the approximate fraction of `exploration` steps the algorithm takes; `exploration` steps are purely random."
   ]
  },
  {
   "cell_type": "code",
   "execution_count": 19,
   "id": "77681663-c7c3-4071-b522-65d16acfdf8b",
   "metadata": {
    "tags": []
   },
   "outputs": [],
   "source": [
    "sampling_model = build(MyEpsilonSamplingBanditModel, (\n",
    "    K = K, # number bandit arms\n",
    "    α = ones(K), # initialize to uniform values\n",
    "    β = ones(K), # initialize to uniform values\n",
    "    ϵ = 0.3, # fraction of random steps\n",
    "));"
   ]
  },
  {
   "cell_type": "markdown",
   "id": "22eca659-8362-4969-ab91-305bb28e901a",
   "metadata": {},
   "source": [
    "### TODO: Setup the world model instance\n",
    "Fill me in."
   ]
  },
  {
   "cell_type": "code",
   "execution_count": 64,
   "id": "80806586-5fb3-4f65-97d9-f65236d7ce61",
   "metadata": {
    "tags": []
   },
   "outputs": [],
   "source": [
    "function world(action::Int64, start::Int64, data::Dict{String, DataFrame}, tickers::Array{String,1}; \n",
    "        Δt::Float64 = (1.0/252.0), risk_free_rate::Float64 = 0.05, buffersize::Int64 = 1)::Int64\n",
    "\n",
    "    # initialize -\n",
    "    result_flag = 0;\n",
    "    T = buffersize*Δt;\n",
    "\n",
    "    # grab the ticker we are looking at?\n",
    "    ticker_symbol = tickers[action];\n",
    "    \n",
    "    # compute the expected return over the horizon -\n",
    "    price_df = data[ticker_symbol];\n",
    "    time = range(start+1,(start+buffersize), step=1) |> collect\n",
    "    buffer = Array{Float64,1}();\n",
    "    for t ∈ time\n",
    "        P₁ = price_df[t-1,  :volume_weighted_average_price]\n",
    "        P₂ = price_df[t, :volume_weighted_average_price]\n",
    "        R = (1/Δt)*log(P₂/P₁); # growth rate\n",
    "        push!(buffer,R);\n",
    "    end\n",
    "    μ = mean(buffer);\n",
    "\n",
    "    # if we invested 1 USD, in each how much would we have at the end of horizon -\n",
    "    W_risk_free = exp(risk_free_rate*T);\n",
    "    W_ticker = exp(μ*T);\n",
    "    \n",
    "    # are we better or worse relative to the risk-free investment?\n",
    "    if (W_ticker >= W_risk_free)\n",
    "        result_flag = 1;\n",
    "    end\n",
    "\n",
    "    # default -\n",
    "    return result_flag;\n",
    "end;"
   ]
  },
  {
   "cell_type": "markdown",
   "id": "eeeed5cd-38c1-4675-8fc9-4fca94b63bbe",
   "metadata": {
    "tags": []
   },
   "source": [
    "Set the `risk_free_rate` variable:"
   ]
  },
  {
   "cell_type": "code",
   "execution_count": 23,
   "id": "4c0a61e0-bd90-439a-8ad4-1675fb4a64f3",
   "metadata": {
    "tags": []
   },
   "outputs": [],
   "source": [
    "risk_free_rate = 0.047;"
   ]
  },
  {
   "cell_type": "markdown",
   "id": "bbf5ba73-3375-4e97-b0a5-ae30919706c1",
   "metadata": {},
   "source": [
    "Fill me in"
   ]
  },
  {
   "cell_type": "code",
   "execution_count": 25,
   "id": "a2a59eaa-2b13-4a73-9be7-1dc0eff73a7c",
   "metadata": {},
   "outputs": [],
   "source": [
    "world_model = build(MyTickerPickerWorldModel, (\n",
    "    tickers = tickers,\n",
    "    data = dataset,\n",
    "    world = world,\n",
    "    risk_free_rate = risk_free_rate\n",
    "));"
   ]
  },
  {
   "cell_type": "markdown",
   "id": "5882a50a-4e0e-4572-8cee-32a390ae35ab",
   "metadata": {},
   "source": [
    "## __Task 2__: Run a single `ticker-picker` agent and explore its preferences\n",
    "Let's run a single `ticker-picker` agent and examine what it returns using the `sample(...)` function. \n",
    "* The `sample(...)` function takes the agent model `model::EpsilonSamplingModel`, the `world::Function`, the cleaned `dataset` and your list of `tickers`, along with the `horizon` parameter, i.e., how many iterations we want the search to run for,  and the `risk_free_rate`. \n",
    "* The `sample(...)` function returns a dictionary holding the $(\\alpha,\\beta)$ parameters for each ticker (values) for iteration (keys).  "
   ]
  },
  {
   "cell_type": "code",
   "execution_count": 27,
   "id": "0f05cdd3-714f-4299-88fa-b4a5a81819f5",
   "metadata": {
    "tags": []
   },
   "outputs": [
    {
     "data": {
      "text/plain": [
       "Dict{Int64, Vector{Beta}} with 1507 entries:\n",
       "  1144 => [Beta{Float64}(α=32.0, β=26.0), Beta{Float64}(α=34.0, β=32.0), Beta{F…\n",
       "  1175 => [Beta{Float64}(α=32.0, β=26.0), Beta{Float64}(α=34.0, β=32.0), Beta{F…\n",
       "  719  => [Beta{Float64}(α=32.0, β=26.0), Beta{Float64}(α=34.0, β=32.0), Beta{F…\n",
       "  1028 => [Beta{Float64}(α=32.0, β=26.0), Beta{Float64}(α=34.0, β=32.0), Beta{F…\n",
       "  699  => [Beta{Float64}(α=32.0, β=26.0), Beta{Float64}(α=34.0, β=32.0), Beta{F…\n",
       "  831  => [Beta{Float64}(α=32.0, β=26.0), Beta{Float64}(α=34.0, β=32.0), Beta{F…\n",
       "  1299 => [Beta{Float64}(α=32.0, β=26.0), Beta{Float64}(α=34.0, β=32.0), Beta{F…\n",
       "  1438 => [Beta{Float64}(α=32.0, β=26.0), Beta{Float64}(α=34.0, β=32.0), Beta{F…\n",
       "  1074 => [Beta{Float64}(α=32.0, β=26.0), Beta{Float64}(α=34.0, β=32.0), Beta{F…\n",
       "  319  => [Beta{Float64}(α=32.0, β=26.0), Beta{Float64}(α=34.0, β=32.0), Beta{F…\n",
       "  687  => [Beta{Float64}(α=32.0, β=26.0), Beta{Float64}(α=34.0, β=32.0), Beta{F…\n",
       "  1199 => [Beta{Float64}(α=32.0, β=26.0), Beta{Float64}(α=34.0, β=32.0), Beta{F…\n",
       "  185  => [Beta{Float64}(α=32.0, β=26.0), Beta{Float64}(α=34.0, β=32.0), Beta{F…\n",
       "  823  => [Beta{Float64}(α=32.0, β=26.0), Beta{Float64}(α=34.0, β=32.0), Beta{F…\n",
       "  1090 => [Beta{Float64}(α=32.0, β=26.0), Beta{Float64}(α=34.0, β=32.0), Beta{F…\n",
       "  420  => [Beta{Float64}(α=32.0, β=26.0), Beta{Float64}(α=34.0, β=32.0), Beta{F…\n",
       "  1370 => [Beta{Float64}(α=32.0, β=26.0), Beta{Float64}(α=34.0, β=32.0), Beta{F…\n",
       "  1437 => [Beta{Float64}(α=32.0, β=26.0), Beta{Float64}(α=34.0, β=32.0), Beta{F…\n",
       "  525  => [Beta{Float64}(α=32.0, β=26.0), Beta{Float64}(α=34.0, β=32.0), Beta{F…\n",
       "  365  => [Beta{Float64}(α=32.0, β=26.0), Beta{Float64}(α=34.0, β=32.0), Beta{F…\n",
       "  638  => [Beta{Float64}(α=32.0, β=26.0), Beta{Float64}(α=34.0, β=32.0), Beta{F…\n",
       "  263  => [Beta{Float64}(α=32.0, β=26.0), Beta{Float64}(α=34.0, β=32.0), Beta{F…\n",
       "  422  => [Beta{Float64}(α=32.0, β=26.0), Beta{Float64}(α=34.0, β=32.0), Beta{F…\n",
       "  242  => [Beta{Float64}(α=32.0, β=26.0), Beta{Float64}(α=34.0, β=32.0), Beta{F…\n",
       "  1266 => [Beta{Float64}(α=32.0, β=26.0), Beta{Float64}(α=34.0, β=32.0), Beta{F…\n",
       "  ⋮    => ⋮"
      ]
     },
     "execution_count": 27,
     "metadata": {},
     "output_type": "execute_result"
    }
   ],
   "source": [
    "time_sample_results_dict_eps = VLQuantitativeFinancePackage.sample(sampling_model, world_model; \n",
    "    horizon = (maximum_number_trading_days - 1))"
   ]
  },
  {
   "cell_type": "code",
   "execution_count": 58,
   "id": "d673bb39-ddab-4e20-b8eb-9084f5b550f9",
   "metadata": {
    "tags": []
   },
   "outputs": [
    {
     "data": {
      "text/plain": [
       "28-element Vector{Beta}:\n",
       " Beta{Float64}(α=32.0, β=26.0)\n",
       " Beta{Float64}(α=34.0, β=32.0)\n",
       " Beta{Float64}(α=9.0, β=14.0)\n",
       " Beta{Float64}(α=18.0, β=19.0)\n",
       " Beta{Float64}(α=18.0, β=20.0)\n",
       " Beta{Float64}(α=56.0, β=35.0)\n",
       " Beta{Float64}(α=2.0, β=6.0)\n",
       " Beta{Float64}(α=7.0, β=12.0)\n",
       " Beta{Float64}(α=29.0, β=22.0)\n",
       " Beta{Float64}(α=7.0, β=10.0)\n",
       " Beta{Float64}(α=4.0, β=9.0)\n",
       " Beta{Float64}(α=16.0, β=18.0)\n",
       " Beta{Float64}(α=28.0, β=24.0)\n",
       " ⋮\n",
       " Beta{Float64}(α=15.0, β=15.0)\n",
       " Beta{Float64}(α=6.0, β=13.0)\n",
       " Beta{Float64}(α=10.0, β=9.0)\n",
       " Beta{Float64}(α=8.0, β=11.0)\n",
       " Beta{Float64}(α=40.0, β=33.0)\n",
       " Beta{Float64}(α=28.0, β=25.0)\n",
       " Beta{Float64}(α=6.0, β=10.0)\n",
       " Beta{Float64}(α=47.0, β=37.0)\n",
       " Beta{Float64}(α=70.0, β=45.0)\n",
       " Beta{Float64}(α=18.0, β=20.0)\n",
       " Beta{Float64}(α=2.0, β=7.0)\n",
       " Beta{Float64}(α=9.0, β=13.0)"
      ]
     },
     "execution_count": 58,
     "metadata": {},
     "output_type": "execute_result"
    }
   ],
   "source": [
    "Z = time_sample_results_dict_eps[20]"
   ]
  },
  {
   "cell_type": "markdown",
   "id": "41dd38c1-8cef-4919-8a6b-c470ad943e31",
   "metadata": {},
   "source": [
    "## __Task 3__: Run a collection of `N` ticker-picker agents and examine their preferences\n",
    "Repeat the single-agent analysis with `N` agents by running the `sample(...)` method inside a `for` loop. We'll store the results of the last time point in the `agent_specific_data::Array{Beta,2}(undef, K, number_of_agents)` array. \n",
    "* The `agent_specific_data` array holds the `Beta` distributions for each agent, i.e., it holds the preferences for each agent (cols) for each `ticker` in our collection (rows)."
   ]
  },
  {
   "cell_type": "code",
   "execution_count": 66,
   "id": "38545ba9-fe62-4d12-b3e7-157582823a2d",
   "metadata": {
    "tags": []
   },
   "outputs": [],
   "source": [
    "number_of_agents = 10000;\n",
    "trading_day_index = 1479\n",
    "agent_specific_data = Array{Beta,2}(undef, K, number_of_agents);\n",
    "\n",
    "for agent_index ∈ 1:number_of_agents\n",
    "    \n",
    "    # sample -\n",
    "    time_sample_results_dict_eps = VLQuantitativeFinancePackage.sample(sampling_model, world_model; \n",
    "        horizon = (maximum_number_trading_days - 1));\n",
    "    #beta_array = build_beta_array(time_sample_results_dict_eps[trading_day_index]);\n",
    "\n",
    "    # grab data for this agent -\n",
    "    for k = 1:K\n",
    "        agent_specific_data[k, agent_index] = time_sample_results_dict_eps[trading_day_index][k]\n",
    "    end\n",
    "end"
   ]
  },
  {
   "cell_type": "code",
   "execution_count": 67,
   "id": "261e43a9-7a37-4e5d-8f7b-7cd0a1e73cb7",
   "metadata": {
    "tags": []
   },
   "outputs": [
    {
     "data": {
      "text/plain": [
       "10000-element Vector{Beta}:\n",
       " Beta{Float64}(α=15.0, β=19.0)\n",
       " Beta{Float64}(α=12.0, β=15.0)\n",
       " Beta{Float64}(α=17.0, β=17.0)\n",
       " Beta{Float64}(α=13.0, β=11.0)\n",
       " Beta{Float64}(α=27.0, β=25.0)\n",
       " Beta{Float64}(α=28.0, β=25.0)\n",
       " Beta{Float64}(α=9.0, β=12.0)\n",
       " Beta{Float64}(α=29.0, β=27.0)\n",
       " Beta{Float64}(α=6.0, β=11.0)\n",
       " Beta{Float64}(α=26.0, β=22.0)\n",
       " Beta{Float64}(α=15.0, β=16.0)\n",
       " Beta{Float64}(α=7.0, β=12.0)\n",
       " Beta{Float64}(α=6.0, β=11.0)\n",
       " ⋮\n",
       " Beta{Float64}(α=13.0, β=14.0)\n",
       " Beta{Float64}(α=35.0, β=27.0)\n",
       " Beta{Float64}(α=21.0, β=21.0)\n",
       " Beta{Float64}(α=29.0, β=24.0)\n",
       " Beta{Float64}(α=27.0, β=25.0)\n",
       " Beta{Float64}(α=6.0, β=10.0)\n",
       " Beta{Float64}(α=17.0, β=20.0)\n",
       " Beta{Float64}(α=12.0, β=14.0)\n",
       " Beta{Float64}(α=16.0, β=16.0)\n",
       " Beta{Float64}(α=42.0, β=38.0)\n",
       " Beta{Float64}(α=4.0, β=8.0)\n",
       " Beta{Float64}(α=2.0, β=7.0)"
      ]
     },
     "execution_count": 67,
     "metadata": {},
     "output_type": "execute_result"
    }
   ],
   "source": [
    "agent_specific_data[1,:] # data for each agent for ticker 1 for all the agents"
   ]
  },
  {
   "cell_type": "markdown",
   "id": "e243138a-c610-406a-9a65-b9ba60a4eb0a",
   "metadata": {},
   "source": [
    "## The wisdom of the collective\n",
    "Now that we have prefernces for the `N` agents (encoded as `Beta` distributions for each ticker), let's develop a concencous belief in which tickers to include in our portfolio $\\mathcal{P}$. First, let's compute the agent-specific rank of eack ticker, where `rank = 1` is the best, and `rank = K` is the worst. We'll store these values in the `preference_rank_array` array."
   ]
  },
  {
   "cell_type": "code",
   "execution_count": 70,
   "id": "db1d74bf-a679-4023-b2b0-09a34569bb04",
   "metadata": {
    "tags": []
   },
   "outputs": [
    {
     "ename": "LoadError",
     "evalue": "UndefVarError: `tiedrank` not defined",
     "output_type": "error",
     "traceback": [
      "UndefVarError: `tiedrank` not defined",
      "",
      "Stacktrace:",
      " [1] preference(beta::Vector{Beta}, tickers::Vector{String}; N::Int64)",
      "   @ VLQuantitativeFinancePackage ~/.julia/packages/VLQuantitativeFinancePackage/vXlOI/src/Bandits.jl:141",
      " [2] preference(beta::Vector{Beta}, tickers::Vector{String})",
      "   @ VLQuantitativeFinancePackage ~/.julia/packages/VLQuantitativeFinancePackage/vXlOI/src/Bandits.jl:121",
      " [3] top-level scope",
      "   @ In[70]:6"
     ]
    }
   ],
   "source": [
    "preference_rank_array = Array{Int,2}(undef, number_of_agents, K);\n",
    "for agent ∈ 1:number_of_agents\n",
    "        \n",
    "    # ask an agent about thier preference for ticker i -\n",
    "    experience_distributions = agent_specific_data[:,agent]\n",
    "    preference_vector = preference(experience_distributions, tickers) .|> x-> trunc(Int64,x) # trunc function is cool!\n",
    "    \n",
    "    # package -\n",
    "    for i ∈ 1:K\n",
    "        preference_rank_array[agent, i] = preference_vector[i];\n",
    "    end\n",
    "end\n",
    "preference_rank_array"
   ]
  },
  {
   "cell_type": "markdown",
   "id": "42ffea10-9ddd-4713-ab27-bf17d5e70de6",
   "metadata": {},
   "source": [
    "### Compute the frequency dictionary\n",
    "Let's count the times a `ticker` is ranked in the `top 10` across the `N` agents and then normalize by the number of agents, i.e., compute the frequency of being ranked in the `top 10`. We'll store this value in the `frequency_dictionary,` where the `ticker` is the key, and the frequency is the value.\n",
    "* `Hypothesis`: Those `tickers` with high rank are likelier to beat an alternative `risk-free` investment, while low rank `tickers` do not outperform a `risk-free` alternative investment. "
   ]
  },
  {
   "cell_type": "code",
   "execution_count": 35,
   "id": "ef31e983-9274-484a-869c-732410886f2b",
   "metadata": {
    "tags": []
   },
   "outputs": [],
   "source": [
    "frequency_dictionary = Dict{String,Float64}();\n",
    "for i ∈ eachindex(tickers)\n",
    "    \n",
    "    # compute the frequency -\n",
    "    freq = findall(x-> x ≤ 10, preference_rank_array[:,i]) |> x-> length(x) |> x-> x/number_of_agents\n",
    "    \n",
    "    # get the ticker -\n",
    "    ticker = tickers[i];\n",
    "    frequency_dictionary[ticker] = freq;\n",
    "end"
   ]
  },
  {
   "cell_type": "code",
   "execution_count": 36,
   "id": "a36d1052-69b2-4228-8f6b-8dde9968db2e",
   "metadata": {},
   "outputs": [
    {
     "data": {
      "text/plain": [
       "Dict{String, Float64} with 28 entries:\n",
       "  \"MSFT\"  => 0.88\n",
       "  \"JPM\"   => 0.881\n",
       "  \"C\"     => 0.8178\n",
       "  \"MRK\"   => 0.6291\n",
       "  \"UNH\"   => 0.8782\n",
       "  \"SPY\"   => 0.8758\n",
       "  \"BAC\"   => 0.8247\n",
       "  \"MU\"    => 0.3878\n",
       "  \"SRE\"   => 0.8689\n",
       "  \"TSLA\"  => 0.8696\n",
       "  \"KR\"    => 0.8181\n",
       "  \"AMD\"   => 0.6148\n",
       "  \"INTC\"  => 0.8836\n",
       "  \"MMM\"   => 0.8734\n",
       "  \"NOC\"   => 0.8277\n",
       "  \"ECL\"   => 0.8802\n",
       "  \"LMT\"   => 0.8836\n",
       "  \"GS\"    => 0.8276\n",
       "  \"OXY\"   => 0.8784\n",
       "  \"CMCSA\" => 0.8732\n",
       "  \"JNJ\"   => 0.6479\n",
       "  \"SPYD\"  => 0.8778\n",
       "  \"NFLX\"  => 0.5511\n",
       "  \"WFC\"   => 0.8323\n",
       "  \"PEP\"   => 0.8802\n",
       "  ⋮       => ⋮"
      ]
     },
     "execution_count": 36,
     "metadata": {},
     "output_type": "execute_result"
    }
   ],
   "source": [
    "frequency_dictionary"
   ]
  },
  {
   "cell_type": "markdown",
   "id": "c9be022e-5056-476d-9313-b81651bf6b4a",
   "metadata": {},
   "source": [
    "## Disclaimer and Risks\n",
    "__This content is offered solely for training and informational purposes__. No offer or solicitation to buy or sell securities or derivative products or any investment or trading advice or strategy is made, given, or endorsed by the teaching team. \n",
    "\n",
    "__Trading involves risk__. Carefully review your financial situation before investing in securities, futures contracts, options, or commodity interests. Past performance, whether actual or indicated by historical tests of strategies, is no guarantee of future performance or success. Trading is generally inappropriate for someone with limited resources, investment or trading experience, or a low-risk tolerance.  Only risk capital that is not required for living expenses.\n",
    "\n",
    "__You are fully responsible for any investment or trading decisions you make__. Such decisions should be based solely on evaluating your financial circumstances, investment or trading objectives, risk tolerance, and liquidity needs."
   ]
  }
 ],
 "metadata": {
  "kernelspec": {
   "display_name": "Julia 1.10.4",
   "language": "julia",
   "name": "julia-1.10"
  },
  "language_info": {
   "file_extension": ".jl",
   "mimetype": "application/julia",
   "name": "julia",
   "version": "1.10.4"
  }
 },
 "nbformat": 4,
 "nbformat_minor": 5
}
