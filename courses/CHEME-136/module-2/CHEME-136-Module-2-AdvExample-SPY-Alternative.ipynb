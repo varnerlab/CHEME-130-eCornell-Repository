{
 "cells": [
  {
   "cell_type": "markdown",
   "id": "b1fbf6fd-3887-4951-8ea7-5dacd7bae533",
   "metadata": {},
   "source": [
    "# Advanced Example: Using a Different Alternative Investment\n",
    "One obvious question about the previous example and project was the choice of a risk-free alternative investment. Perhaps users would be more interested in training agents to consider other alternatives. Furthermore, the risk adjustment in the project measured risk relative to market performance, represented by `SPY` returns and volatility using $\\beta$, but compared the risk-adjusted performance with a risk-free alternative. Perhaps a more natural choice for both issues would be to use `SPY` as the alternative investment.\n",
    "\n",
    "In this example, we change the alternative investment to `SPY` and compare two cases: a risk-blind case where we do not use the $\\beta^{-\\gamma}$ formulation and compare tickers versus `SPY,` and a risk-adjusted case where we do correct for risk and compare risk-adjusted ticker performance versus `SPY.`\n",
    "\n",
    "## Learning objectives\n",
    "This example's objective is to explore the use of `SPY` as an alternative investment in risk-blind and risk-adjusted scenarios. \n",
    "* __Prerequisites__: Load the ticker-picker save file from the worked example and set constant values that we use in the later tasks.\n",
    "* __Task 1__: Compute the risk measure dictionary for my ticker list.\n",
    "    * `TODO`: Compute the covariance for firms in the my_tickers list\n",
    "    * `TODO`: Compute the risk-measure dictionary\n",
    "* __Task 2__:  Build a risk-aware ticker-picker agent and world models\n",
    "    * `TODO`: Setup a MyEpsilonSamplingBanditModel instance\n",
    "    * `TODO`: Setup a MyTickerPickerRiskAwareWorldModel instance\n",
    "* __Task 3__: Compute the preferences of a population risk-aware ticker-picker agents\n",
    "    * `TODO`: Compute the wisdom of the risk-aware collective\n",
    "    * `TODO`: Preference table for risk-blind and risk-aware agents"
   ]
  },
  {
   "cell_type": "markdown",
   "id": "bf0b31fa-327b-42bb-bca7-c91fbddefd9f",
   "metadata": {},
   "source": [
    "## Setup\n",
    "We set up the computational environment by including the `Include.jl` file. The `Include.jl` file loads external packages, various functions that we will use in the exercise, and custom types to model the components of our lab problem.\n",
    "* For additional information on functions and types used in this material, see the [Julia programming language documentation](https://docs.julialang.org/en/v1/) and the [VLQuantitativeFinancePackage.jl documentation](https://github.com/varnerlab/VLQuantitativeFinancePackage.jl)."
   ]
  },
  {
   "cell_type": "code",
   "execution_count": 3,
   "id": "61d96a6a-655e-4668-ae1d-41c941a0d2ce",
   "metadata": {},
   "outputs": [
    {
     "name": "stderr",
     "output_type": "stream",
     "text": [
      "\u001b[32m\u001b[1m    Updating\u001b[22m\u001b[39m git-repo `https://github.com/varnerlab/VLQuantitativeFinancePackage.jl.git`\n",
      "\u001b[32m\u001b[1m   Resolving\u001b[22m\u001b[39m package versions...\n",
      "\u001b[32m\u001b[1m  No Changes\u001b[22m\u001b[39m to `~/Desktop/julia_work/CHEME-130-eCornell-Repository/courses/CHEME-136/module-2/Project.toml`\n",
      "\u001b[32m\u001b[1m  No Changes\u001b[22m\u001b[39m to `~/Desktop/julia_work/CHEME-130-eCornell-Repository/courses/CHEME-136/module-2/Manifest.toml`\n",
      "\u001b[32m\u001b[1m  Activating\u001b[22m\u001b[39m project at `~/Desktop/julia_work/CHEME-130-eCornell-Repository/courses/CHEME-136/module-2`\n",
      "\u001b[32m\u001b[1m  No Changes\u001b[22m\u001b[39m to `~/Desktop/julia_work/CHEME-130-eCornell-Repository/courses/CHEME-136/module-2/Project.toml`\n",
      "\u001b[32m\u001b[1m  No Changes\u001b[22m\u001b[39m to `~/Desktop/julia_work/CHEME-130-eCornell-Repository/courses/CHEME-136/module-2/Manifest.toml`\n",
      "\u001b[32m\u001b[1m    Updating\u001b[22m\u001b[39m registry at `~/.julia/registries/General.toml`\n",
      "\u001b[32m\u001b[1m    Updating\u001b[22m\u001b[39m git-repo `https://github.com/varnerlab/VLQuantitativeFinancePackage.jl.git`\n",
      "\u001b[32m\u001b[1m  No Changes\u001b[22m\u001b[39m to `~/Desktop/julia_work/CHEME-130-eCornell-Repository/courses/CHEME-136/module-2/Project.toml`\n",
      "\u001b[32m\u001b[1m  No Changes\u001b[22m\u001b[39m to `~/Desktop/julia_work/CHEME-130-eCornell-Repository/courses/CHEME-136/module-2/Manifest.toml`\n"
     ]
    }
   ],
   "source": [
    "include(\"Include.jl\");"
   ]
  },
  {
   "cell_type": "markdown",
   "id": "3425207d-8425-485c-8e92-adbb016d155e",
   "metadata": {},
   "source": [
    "## Prerequisites: Load ticker-picker save file\n",
    "Let's begin by loading the [HDF5 encoded saved file](https://en.wikipedia.org/wiki/Hierarchical_Data_Format) generated in the worked example using [a `load(...)`  method exported by the JLD2.jl package](https://github.com/JuliaIO/JLD2.jl). First, we specify the path to the saved file in the `path_to_save_file::String` variable:"
   ]
  },
  {
   "cell_type": "code",
   "execution_count": 5,
   "id": "a7cb4a2f-95b9-4d41-801f-32419aeb8711",
   "metadata": {},
   "outputs": [],
   "source": [
    "number_of_agents = 10000; # how many agents do we want\n",
    "path_to_save_file = joinpath(_PATH_TO_DATA, \"TickerPickerAgent-Simulation-State-ALT-RB-SPY-N-$(number_of_agents).jld2\");"
   ]
  },
  {
   "cell_type": "markdown",
   "id": "f0ea3e9f-2e29-4060-a38e-f8e5cc2fdda0",
   "metadata": {},
   "source": [
    "then [call the `load(...)` method exported by the JLD2.jl package](https://github.com/JuliaIO/JLD2.jl), which reads the binary saved file and returns the saved data as a dictionary; we assign the data to the `saved_state_dict::Dict{String, Any}` variable:"
   ]
  },
  {
   "cell_type": "code",
   "execution_count": 7,
   "id": "1b8537ea-d1f0-4fbf-a7e5-74a00fb331e2",
   "metadata": {},
   "outputs": [
    {
     "data": {
      "text/plain": [
       "Dict{String, Any} with 10 entries:\n",
       "  \"risk_free_rate\"              => 0.047\n",
       "  \"maximum_number_trading_days\" => 1508\n",
       "  \"M\"                           => 10\n",
       "  \"buffersize\"                  => 5\n",
       "  \"data\"                        => Dict{String, DataFrame}(\"NI\"=>\u001b[1m1508×8 DataFra\u001b[0m…\n",
       "  \"preferences\"                 => Beta[Beta{Float64}(α=1.0, β=3.0) Beta{Float6…\n",
       "  \"tickers\"                     => [\"AAPL\", \"AMD\", \"BAC\", \"C\", \"CMCSA\", \"ECL\", …\n",
       "  \"probability_top_dictionary\"  => Dict(\"JPM\"=>0.3659, \"MSFT\"=>0.5852, \"C\"=>0.2…\n",
       "  \"banditmodel\"                 => MyEpsilonSamplingBanditModel([1.0, 1.0, 1.0,…\n",
       "  \"Δt\"                          => 0.00396825"
      ]
     },
     "execution_count": 7,
     "metadata": {},
     "output_type": "execute_result"
    }
   ],
   "source": [
    "saved_state_dict = load(path_to_save_file)"
   ]
  },
  {
   "cell_type": "markdown",
   "id": "bd9b36e5-a260-449a-a3f6-4c0c9d42d385",
   "metadata": {},
   "source": [
    "### Set constant values\n",
    "In the code block below, we set various constant values (and compute some derived constants) that we use in the tasks below. We generally access these values from the `saved_state_dict::Dict{String, Any}` by passing a `key::String` value to the saved data dictionary. Please see the comment beside the code line for more details about the value and what we'll use it for."
   ]
  },
  {
   "cell_type": "code",
   "execution_count": 9,
   "id": "0d0d21b5-8f79-4295-88c2-b5fccd591c34",
   "metadata": {},
   "outputs": [],
   "source": [
    "dataset = saved_state_dict[\"data\"]; # OHLC data 460 or so firms/ETFs\n",
    "my_tickers = saved_state_dict[\"tickers\"] |> sort; # *sorted* list of tickers we specified in the worked example\n",
    "Δt = saved_state_dict[\"Δt\"]; # time step in the data\n",
    "maximum_number_trading_days = saved_state_dict[\"maximum_number_trading_days\"]; # how many trading days is in the clean data\n",
    "risk_free_rate = saved_state_dict[\"risk_free_rate\"]; # what is the risk-free rate we used in the example\n",
    "risk_blind_probability_top_dictionary = saved_state_dict[\"probability_top_dictionary\"]; # probability results from worked example\n",
    "risk_blind_preferences = saved_state_dict[\"preferences\"]; # prefs in the risk-blind case\n",
    "\n",
    "index_market = findfirst(x -> x == \"SPY\", my_tickers); # what is the index of SPY in my_tickers (we use this for Task 1)\n",
    "K = length(my_tickers); # how tickers (arms) do we have? "
   ]
  },
  {
   "cell_type": "markdown",
   "id": "f71012bb-cca6-42f1-b689-a19a57f287d5",
   "metadata": {},
   "source": [
    "## Task 1: Compute the risk measure dictionary for my ticker list\n",
    "In this task, let's compute a dictionary of [beta values](https://en.wikipedia.org/wiki/Beta_(finance)) that we'll use later to make our agents risk-aware. First, we'll compute the growth rates and the [covariance matrix](https://en.wikipedia.org/wiki/Covariance_matrix) and then use these values to develop the risk measure dictionary."
   ]
  },
  {
   "cell_type": "markdown",
   "id": "a51baefd-9557-4792-b09c-632da44b246a",
   "metadata": {},
   "source": [
    "### TODO: Compute the covariance for firms in the my_tickers list\n",
    "The covariance matrix $\\Sigma$ will be used to estimate $\\beta$ values for the `tickers`$\\in$`my_tickers.` \n",
    "\n",
    "* First, compute the expected (annualized) log growth rate by passing the `dataset::Dict{String, DataFrame}` and the `my_tickers::Array{String,1}` list to the [log_growth_matrix(...) method](https://varnerlab.github.io/VLQuantitativeFinancePackage.jl/dev/equity/#VLQuantitativeFinancePackage.log_growth_matrix).\n",
    "* Store the growth rates in the `all_firms_return_matrix` variable, a $T-1\\times{K}$ array of log growth values. Each row of `all_firms_return_matrix` corresponds to a time value, while each column corresponds to a firm"
   ]
  },
  {
   "cell_type": "code",
   "execution_count": 12,
   "id": "fcb1a476-ec4a-4d24-8bcf-c06b7f4f8ee2",
   "metadata": {},
   "outputs": [],
   "source": [
    "all_firms_return_matrix = log_growth_matrix(dataset, my_tickers, Δt = Δt, \n",
    "    risk_free_rate = 0.0); # *not* excess growth, so we set risk_free_rate = 0"
   ]
  },
  {
   "cell_type": "markdown",
   "id": "998148a0-1341-48c9-be3f-86773912546f",
   "metadata": {},
   "source": [
    "Next, estimate the annualized `covariance_matrix` (assuming `252` trading days per year) from the `all_firms_return_matrix` using the [cov(...) function](https://docs.julialang.org/en/v1/stdlib/Statistics/#Statistics.cov), exported by the [Statistics.jl package](https://docs.julialang.org/en/v1/stdlib/Statistics/). We store the $K\\times{K}$ covariance matrix in the $\\Sigma$ variable:"
   ]
  },
  {
   "cell_type": "code",
   "execution_count": 14,
   "id": "42796884-3051-4f06-9a32-2db0dd72027b",
   "metadata": {},
   "outputs": [
    {
     "data": {
      "text/plain": [
       "29×29 Matrix{Float64}:\n",
       " 0.0691322   0.0594079   0.0302666   …  0.0686136   0.02538    0.0262735\n",
       " 0.0594079   0.211496    0.0425124      0.0995237   0.0284595  0.036321\n",
       " 0.0302666   0.0425124   0.0894146      0.0498514   0.0298376  0.0780059\n",
       " 0.0351969   0.050067    0.0849407      0.0590759   0.0327878  0.080665\n",
       " 0.0224277   0.0281091   0.0314937      0.0299769   0.0183759  0.0308962\n",
       " 0.0306041   0.040796    0.0414892   …  0.0451837   0.0265421  0.0396317\n",
       " 0.0319759   0.0452737   0.0676833      0.0500259   0.0276715  0.0632671\n",
       " 0.0380052   0.0536885   0.035675       0.0549636   0.0192692  0.0330759\n",
       " 0.0153932   0.0129632   0.0166998      0.0130472   0.0189617  0.0158655\n",
       " 0.0269166   0.0354797   0.0715436      0.0429108   0.0277043  0.0667961\n",
       " 0.00473437  0.00336195  0.00283112  …  0.00182335  0.0033409  0.00247071\n",
       " 0.0167374   0.0164346   0.0247161      0.0156101   0.0204447  0.0254018\n",
       " 0.0297858   0.0378785   0.0742538      0.0438053   0.0323739  0.0723559\n",
       " ⋮                                   ⋱                         \n",
       " 0.0415624   0.0711881   0.0209332      0.0722946   0.0161944  0.0167534\n",
       " 0.0128756   0.0153739   0.0215013      0.00635209  0.0183339  0.0212876\n",
       " 0.0676912   0.136759    0.0443619      0.112498    0.0295997  0.0386303\n",
       " 0.0306116   0.0441175   0.0857602   …  0.0642727   0.0341266  0.0824429\n",
       " 0.0170506   0.0136767   0.0151845      0.0168628   0.0174513  0.0154504\n",
       " 0.0419772   0.0590169   0.0295769      0.0634773   0.0209425  0.0268581\n",
       " 0.0312921   0.0423411   0.0335022      0.0447893   0.0221684  0.031651\n",
       " 0.0242831   0.0294444   0.0484315      0.0387996   0.0238678  0.0474405\n",
       " 0.0190448   0.0185219   0.0300634   …  0.0273971   0.0229264  0.0316108\n",
       " 0.0686136   0.0995237   0.0498514      0.309344    0.0282109  0.0440042\n",
       " 0.02538     0.0284595   0.0298376      0.0282109   0.058926   0.0272271\n",
       " 0.0262735   0.036321    0.0780059      0.0440042   0.0272271  0.0971254"
      ]
     },
     "execution_count": 14,
     "metadata": {},
     "output_type": "execute_result"
    }
   ],
   "source": [
    "Σ = cov(all_firms_return_matrix) |> x -> x*(1/252) # annualized, historical volatility"
   ]
  },
  {
   "cell_type": "markdown",
   "id": "2fb5d7d0-7b16-4cdc-b3b4-24f7ea859265",
   "metadata": {},
   "source": [
    "### TODO: Compute the risk-measure dictionary\n",
    "Now, compute the $\\beta$ values, using [a `for-loop`](https://docs.julialang.org/en/v1/base/base/#for), for each `ticker`$\\in$ `my_tickers` and store these values in the `β::Dict{String, Float64}` dictionary, where the keys are the ticker symbol and the values are the computed $\\beta$ values.\n",
    "* Iterate over the `K`-tickers (arms) in our collection, access a `ticker` from the `my_tickers::Array{String,1}` array, and then get the covariance of the `ticker` with respect to the market (in this case `SPY`), save this in the `σᵢ::Float64` variable,  and save the variance of the market in the `σₘ::Float64` variable. Note: we previously stored the market index in the `index_market::Int64` variable.\n",
    "* Save the [estimated beta value](https://en.wikipedia.org/wiki/Beta_(finance)) (the ratio `σᵢ/σₘ`) in the `β::Dict{String, Float64}` dictionary, where the key is `ticker` and the value is the ratio `σᵢ/σₘ`."
   ]
  },
  {
   "cell_type": "code",
   "execution_count": 16,
   "id": "f63f7141-7523-463f-bd1b-cfad4eddecc1",
   "metadata": {},
   "outputs": [
    {
     "data": {
      "text/plain": [
       "Dict{String, Float64} with 29 entries:\n",
       "  \"JPM\"   => 1.17336\n",
       "  \"MSFT\"  => 1.13379\n",
       "  \"C\"     => 1.48297\n",
       "  \"MRK\"   => 0.504918\n",
       "  \"UNH\"   => 0.878591\n",
       "  \"SPY\"   => 1.0\n",
       "  \"BAC\"   => 1.32778\n",
       "  \"MU\"    => 1.52694\n",
       "  \"SRE\"   => 0.794775\n",
       "  \"TSLA\"  => 1.77511\n",
       "  \"KR\"    => 0.194428\n",
       "  \"AMD\"   => 1.67809\n",
       "  \"INTC\"  => 1.12753\n",
       "  \"NVDA\"  => 1.78828\n",
       "  \"MMM\"   => 0.938743\n",
       "  \"NOC\"   => 0.566008\n",
       "  \"ECL\"   => 1.13742\n",
       "  \"LMT\"   => 0.67081\n",
       "  \"GS\"    => 1.26915\n",
       "  \"OXY\"   => 1.54752\n",
       "  \"CMCSA\" => 0.856908\n",
       "  \"JNJ\"   => 0.548523\n",
       "  \"SPYD\"  => 1.03756\n",
       "  \"NFLX\"  => 1.07208\n",
       "  \"WFC\"   => 1.25441\n",
       "  ⋮       => ⋮"
      ]
     },
     "execution_count": 16,
     "metadata": {},
     "output_type": "execute_result"
    }
   ],
   "source": [
    "β = Dict{String, Float64}();\n",
    "for i ∈ 1:K\n",
    "    ticker = my_tickers[i];\n",
    "    σᵢ = Σ[i,index_market];\n",
    "    σₘ = Σ[index_market,index_market]\n",
    "    β[ticker] = σᵢ/σₘ;\n",
    "end\n",
    "β"
   ]
  },
  {
   "cell_type": "markdown",
   "id": "26fa8d57-eeb6-4989-ae5b-04496b7f7d1e",
   "metadata": {},
   "source": [
    "## Task 2:  Build a risk-aware ticker-picker agent and world models\n",
    "In this task, you will build a bandit agent model and a risk-aware world model instance. We will use these models in `task 3` to train a population of risk-aware agents. Let's begin by building a bandit agent model, which is identical to the worked example. Then, we consider the world model, which is modified to account for the presence of risk."
   ]
  },
  {
   "cell_type": "markdown",
   "id": "70cdd5aa-f2a6-4326-be39-e35f1f9758ad",
   "metadata": {},
   "source": [
    "### TODO: Setup a MyEpsilonSamplingBanditModel instance\n",
    "First, construct [a `MyEpsilonSamplingBanditModel` instance](https://varnerlab.github.io/VLQuantitativeFinancePackage.jl/dev/bandits/#VLQuantitativeFinancePackage.MyEpsilonSamplingBanditModel), which holds information about the [ϵ-greedy sampling approach](https://arxiv.org/abs/1707.02038). Given that the risk-aware modifications occur in the response of the world, i.e., in the feedback that an agent receives by implementing an action, we can reuse the bandit model saved from the example. \n",
    "* Retrieve the [`MyEpsilonSamplingBanditModel` instance](https://varnerlab.github.io/VLQuantitativeFinancePackage.jl/dev/bandits/#VLQuantitativeFinancePackage.MyEpsilonSamplingBanditModel) from the `saved_state_dict::Dict{String, Any}` dictionary using the `banditmodel` key. Save the bandit model in the `bandit_model::MyEpsilonSamplingBanditModel` variable:"
   ]
  },
  {
   "cell_type": "code",
   "execution_count": 19,
   "id": "6b216b72-5337-4d6e-8b60-3a8082520218",
   "metadata": {},
   "outputs": [],
   "source": [
    "bandit_model = saved_state_dict[\"banditmodel\"];"
   ]
  },
  {
   "cell_type": "markdown",
   "id": "7ca9b267-b785-43b6-987a-cfaff81c81f5",
   "metadata": {},
   "source": [
    "### TODO: Setup a MyTickerPickerRiskAwareWorldModel instance\n",
    "Now that we have the `bandit_model::MyEpsilonSamplingBanditModel` instance construct [a `MyTickerPickerRiskAwareWorldModel` instance](https://varnerlab.github.io/VLQuantitativeFinancePackage.jl/dev/bandits/#VLQuantitativeFinancePackage.MyTickerPickerRiskAwareWorldModel) which holds data about the world, and the `world(...)` function that our agents sample. \n",
    "* The [`MyTickerPickerRiskAwareWorldModel` instance](https://varnerlab.github.io/VLQuantitativeFinancePackage.jl/dev/bandits/#VLQuantitativeFinancePackage.MyTickerPickerRiskAwareWorldModel) holds similar data to the worked example, with the expectation that we now have an additional field which holds risk information, this is the `risk::Dict{String, Float64}` field; the `keys` are the `ticker`$\\in$ `my_tickers` symbols and the `values` are risk measures (in this case the $\\beta_{i}$ values).\n",
    "* Like before, the `world(...)` function takes problem data and returns a binary reward. However, in this case, we refactor the `world(...)` function, which takes the `start::Int64` index, an action $a\\in\\mathcal{A}$ value, and the `worldmodel::MyTickerPickerRiskAwareWorldModel` to account for risk. The `world(...)` function returns a binary reward $r\\in\\left\\{0,1\\right\\}$.\n",
    "\n",
    "#### Implement the risk-award world function\n",
    "`Unhide` the code block and complete the risk-aware implementation of the `world(...)` function. \n",
    "* Let's compare the wealth generated by investing `1 USD` in `SPY` for `buffersize::Int64` periods of $\\Delta{t}$ duration (denoted as `W_SPY`) versus `1 USD` in a `ticker` over the same period (denoted as `W_ticker`). If `W_ticker >= W_SPY`, the `world(...)` function returns `1`, i.e., success; otherwise, the `world(...)` function returns `0.`\n",
    "* __Small logic_change__: In the reward decision logic, we use equality rather than inequality. Therefore, the selection of `ticker` over `SPY` results in a `+1` reward if `ticker` is at least as good as `SPY`. This addresses a situation where `ticker` equals `SPY`; an inequality would consider this to be a loss."
   ]
  },
  {
   "cell_type": "code",
   "execution_count": 21,
   "id": "c930ea6c-506f-458e-b7aa-c2c859e650bf",
   "metadata": {
    "jupyter": {
     "source_hidden": true
    }
   },
   "outputs": [],
   "source": [
    "function world(start::Int64, action::Int64, worldmodel::MyTickerPickerRiskAwareWorldModel)::Int64\n",
    "    \n",
    "    # initialize \n",
    "    tickers = worldmodel.tickers;\n",
    "    data = worldmodel.data;\n",
    "    risk_free_rate = worldmodel.risk_free_rate;\n",
    "    Δt = worldmodel.Δt;\n",
    "    buffersize = worldmodel.buffersize;\n",
    "    risk_dictionary = worldmodel.risk;\n",
    "    time = range(start+1,(start+buffersize), step = 1) |> collect\n",
    "\n",
    "    # What is the ticker?\n",
    "    ticker_symbol = tickers[action]; # ticker we are looking at?\n",
    "    if (ticker_symbol == \"SPY\")\n",
    "        return 1; # save some computation, this case will always return 1\n",
    "    end\n",
    "\n",
    "    # Compute the wealth by investing in SPY\n",
    "    W_SPY = 0.0;\n",
    "    SPY_price_df = data[\"SPY\"];\n",
    "    buffer_SPY = Array{Float64,1}();\n",
    "    for t ∈ time\n",
    "        P₁ = SPY_price_df[t-1, :volume_weighted_average_price]\n",
    "        P₂ = SPY_price_df[t, :volume_weighted_average_price]\n",
    "        R = (1/Δt)*log(P₂/P₁); # growth rate SPY\n",
    "        push!(buffer_SPY,R);\n",
    "    end\n",
    "    μ_SPY = sum(buffer_SPY);\n",
    "    W_SPY = exp(μ_SPY*Δt); # if we invested 1 USD in SPY, how much at the end of the period (risk-adjusted)\n",
    "    \n",
    "    # Compute the wealth by investing in ticker\n",
    "    W_ticker = 0.0;\n",
    "    price_df = data[ticker_symbol];\n",
    "    buffer_ticker = Array{Float64,1}();\n",
    "    for t ∈ time\n",
    "        P₁ = price_df[t-1, :volume_weighted_average_price]\n",
    "        P₂ = price_df[t, :volume_weighted_average_price]\n",
    "        R = (1/Δt)*log(P₂/P₁); # growth rate ticker \n",
    "        push!(buffer_ticker,R);\n",
    "    end\n",
    "    β = risk_dictionary[ticker_symbol];\n",
    "    sum_value = sum(buffer_ticker);\n",
    "    γ = buffersize*sign(sum_value);\n",
    "    μ̄ = (β^(-1*γ))*sum_value;\n",
    "    W_ticker = exp(μ̄*Δt); # if we invested 1 USD in ticker, how much at the end of the period (risk-adjusted)\n",
    " \n",
    "    # Are we better or worse relative to the risk-free investment?\n",
    "    result_flag = nothing;\n",
    "    (W_ticker >= W_SPY) ? result_flag = 1 : result_flag = 0   \n",
    "    \n",
    "    # return the reward -\n",
    "    return result_flag;\n",
    "end;"
   ]
  },
  {
   "cell_type": "markdown",
   "id": "583cbcbf-5869-4a77-91dc-88bb6f773e72",
   "metadata": {},
   "source": [
    "Next, set the `buffersize::Int64` variable. Use the same value as the worked example so that we can compare the risk-blind and risk-aware result:"
   ]
  },
  {
   "cell_type": "code",
   "execution_count": 23,
   "id": "436b8391-051d-42b2-9804-0d1571b1cd13",
   "metadata": {},
   "outputs": [],
   "source": [
    "buffersize = saved_state_dict[\"buffersize\"]; # use the value from the worked example"
   ]
  },
  {
   "cell_type": "markdown",
   "id": "57e72fae-0de2-46d9-b942-07aac3e77775",
   "metadata": {},
   "source": [
    "Finally, construct a [`MyTickerPickerRiskAwareWorldModel` instance](https://varnerlab.github.io/VLQuantitativeFinancePackage.jl/dev/bandits/#VLQuantitativeFinancePackage.MyTickerPickerRiskAwareWorldModel) using \n",
    "[a custom `build(...)` method](https://varnerlab.github.io/VLQuantitativeFinancePackage.jl/dev/bandits/#VLQuantitativeFinancePackage.build-Tuple{Type{MyTickerPickerRiskAwareWorldModel},%20NamedTuple}). The [`build(...)` method](https://varnerlab.github.io/VLQuantitativeFinancePackage.jl/dev/bandits/#VLQuantitativeFinancePackage.build-Tuple{Type{MyTickerPickerRiskAwareWorldModel},%20NamedTuple}) takes two arguments: first, the [`MyTickerPickerRiskAwareWorldModel` instance](https://varnerlab.github.io/VLQuantitativeFinancePackage.jl/dev/bandits/#VLQuantitativeFinancePackage.MyTickerPickerRiskAwareWorldModel) and the second is a [Julia `NamedTuple` instance](https://docs.julialang.org/en/v1/base/base/#Core.NamedTuple) holding data for the model:\n",
    "* The [`MyTickerPickerRiskAwareWorldModel` instance](https://varnerlab.github.io/VLQuantitativeFinancePackage.jl/dev/bandits/#VLQuantitativeFinancePackage.MyTickerPickerRiskAwareWorldModel) requires the `my_tickers::Array{String,1}` array, the `data::Dict{String, DataFrame}` field holding the price data dictionary, the `world::Function`, the `risk_free_rate::Float64`, the duration of the time-step $\\Delta{t}$,  the `buffersize::Int64` and the `risk::Dict{String, Float64}` fields. Store the world model in the `risk_aware_world_model::MyTickerPickerWorldModel` variable:"
   ]
  },
  {
   "cell_type": "code",
   "execution_count": 25,
   "id": "d7b6b67a-cdf2-4abd-8061-9d143c1244a6",
   "metadata": {},
   "outputs": [],
   "source": [
    "risk_aware_world_model = build(MyTickerPickerRiskAwareWorldModel, (\n",
    "    tickers = my_tickers,\n",
    "    data = dataset,\n",
    "    world = world,\n",
    "    risk_free_rate = risk_free_rate,\n",
    "    Δt = Δt,\n",
    "    buffersize = buffersize,\n",
    "    risk = β\n",
    "));"
   ]
  },
  {
   "cell_type": "markdown",
   "id": "10819ec9-4e4c-4ef8-8e14-502679a135b6",
   "metadata": {},
   "source": [
    "## Task 3: Compute the preferences of a population risk-aware ticker-picker agents\n",
    "In this task, explore the preference of $N = 10000$ risk-aware agents by running the [`sample(...)` method](https://varnerlab.github.io/VLQuantitativeFinancePackage.jl/dev/bandits/#VLQuantitativeFinancePackage.sample-Tuple{MyEpsilonSamplingBanditModel,%20MyTickerPickerWorldModel}) inside a [`for-loop`](https://docs.julialang.org/en/v1/base/base/#for). Store the results at a particular `trading_day_index::Int64` in the `risk_aware_agent_specific_data::Array{Beta,2}` array. \n",
    "* The `risk_aware_agent_specific_data::Array{Beta,2}` array holds the [`Beta` distributions](https://juliastats.org/Distributions.jl/stable/univariate/#Distributions.Beta) for each agent at `trading_day_index::Int64` for each `ticker`$\\in$ `my_tickers.` The `ticker` is the row index, and the agent's [`Beta` distributions](https://juliastats.org/Distributions.jl/stable/univariate/#Distributions.Beta) is the column index, e.g., index (1,4) holds the preference for ticker = 1 held by agent = 4 at time `trading_day_index::Int64.`\n",
    "* In the code block below, use [the Julia `foreach(...)` iteration pattern](https://docs.julialang.org/en/v1/base/collections/#Base.foreach) to populate the `risk_aware_agent_specific_data::Array{Beta,2}` array. You can also use [a simple `for-loop`](https://docs.julialang.org/en/v1/base/base/#for), if you wish."
   ]
  },
  {
   "cell_type": "code",
   "execution_count": 27,
   "id": "0cc7ff2b-b2bd-4994-be28-41b809ca13a1",
   "metadata": {},
   "outputs": [],
   "source": [
    "trading_day_index = (maximum_number_trading_days - buffersize); # What trading day are we interested in?\n",
    "risk_aware_agent_specific_data = Array{Beta,2}(undef, K, number_of_agents);\n",
    "for agent_index ∈ 1:number_of_agents\n",
    "    \n",
    "    time_sample_results_dict_eps = VLQuantitativeFinancePackage.sample(bandit_model, risk_aware_world_model; \n",
    "        horizon = (maximum_number_trading_days - buffersize)); # sample\n",
    "\n",
    "    # populate the agent_specific_data array\n",
    "    foreach(k-> risk_aware_agent_specific_data[k, agent_index] = time_sample_results_dict_eps[trading_day_index][k], 1:K)\n",
    "end"
   ]
  },
  {
   "cell_type": "markdown",
   "id": "a2f45c16-7387-4746-8c12-012a1f18e0c9",
   "metadata": {},
   "source": [
    "### TODO: Compute the wisdom of the risk-aware collective\n",
    "Now that we have preferences for the population of agents, compute a consensus belief of which tickers we might include in your portfolio $\\mathcal{P}$. First, compute the agent-specific rank of each `ticker`$\\in$`my_tickers,` where `rank = 1` is the best, and `rank = K` is the worst. We'll store these values in the `risk_aware_preference_rank_array::Array{Int,2}` array."
   ]
  },
  {
   "cell_type": "code",
   "execution_count": 29,
   "id": "18ac65c2-5c11-49f8-9111-0128fd93108f",
   "metadata": {},
   "outputs": [
    {
     "data": {
      "text/plain": [
       "10000×29 Matrix{Int64}:\n",
       " 26   8  21  21  14  14  26  18   3  14  …  26   8  14  1  21   5  26  14  26\n",
       " 18  18  10  26   2  26  13  18   7  26     18  10  10  1  26  10  18  18  18\n",
       " 22  22  28  11   6  11  22  15   4  28     22   3  15  1  22  11  22  22  22\n",
       " 26  12  26  19   3   8  12  19  12  19     16   6  26  1  26  12  12  12  19\n",
       " 21  21  21  21  10  21  21  10  21   5     21  10  21  1  21  10  21  21  21\n",
       " 19  19  11  19   7  27  19  19   5  27  …  19  11  19  1  27  19  19   3  19\n",
       " 20  20  20  20   5  28  20  12  20  20     20   3  28  1   8   6  20   4  12\n",
       " 20  20  20  20   6  20   9  20  20  20     20   5  29  1   9  20  20  20  20\n",
       " 10  19  19  19  19  28  19  19   7  10     19   3  19  1  28  19  19   5  19\n",
       " 20  20  20  28   4  20  20  20  20   7     20   5  20  1  20   7  20  20  20\n",
       " 29  20  20  20   9  20  20   9  20  20  …  20   6  11  1  20  20  20   5  20\n",
       " 20  20  20  28  20  20  20  20   2  20     28  20  20  1  20  20  20   9  11\n",
       " 19  19  19  19  11  19  19  11   8  19     19   6  28  1  19   6  28   4  19\n",
       "  ⋮                   ⋮                  ⋱   ⋮                  ⋮          \n",
       " 22  22  22  22  12  22  22  12   4  22     29  12  12  1  22  22  22   3  12\n",
       " 19  19  19  19   5  19  28  19   9  28      9   5  19  1  19  19  19   2  19\n",
       " 21  11  21  21  11  21  21  11  21  11  …  29   4  21  1  21  21  21   4  21\n",
       "  9  20  20  20   9  20  20  12  28  20     20   5  20  1   9   9  28  20  20\n",
       " 22  22  22  14   5  22  22  22   3  22     22   9  12  1  12  12  22   4  22\n",
       " 21  15  21  28   6  21  12   9   3  12     21   7  21  1  21   8  21   4  21\n",
       " 26  18  18  10  26  13  18  10  18  18     26   3  18  1  26   4  18   7  26\n",
       " 13  22  28  22  15  22  22  22   2  22  …   4   3  13  1  15   7  22  10  22\n",
       " 29  20  20  20   4  20  20   9  20  20     20   9  20  1  20   6  12   6  20\n",
       " 21  29  11  21   4  21  11  11   6  11     21   5  21  1  21  21  21  21  21\n",
       " 12  20  28  20  20  20  20  20   5  20     20   3  10  1  20  10  20  10  20\n",
       " 28  19  19  19   9  19  19   9   7  19     19   3  19  1  19  19  19   8  19"
      ]
     },
     "execution_count": 29,
     "metadata": {},
     "output_type": "execute_result"
    }
   ],
   "source": [
    "risk_aware_preference_rank_array = Array{Int,2}(undef, number_of_agents, K);\n",
    "for agent ∈ 1:number_of_agents\n",
    "        \n",
    "    # ask an agent about their preference for ticker i -\n",
    "    experience_distributions = risk_aware_agent_specific_data[:,agent]\n",
    "    preference_vector = preference(experience_distributions, my_tickers) .|> x-> trunc(Int64, x) # wow the trunc function is cool!\n",
    "\n",
    "    # package\n",
    "    foreach(i -> risk_aware_preference_rank_array[agent, i] = preference_vector[i], 1:K);\n",
    "end\n",
    "risk_aware_preference_rank_array"
   ]
  },
  {
   "cell_type": "markdown",
   "id": "3d2fac2d-a463-41e5-80a8-0f3129f1a38d",
   "metadata": {},
   "source": [
    "#### Compute the risk-aware probability dictionary\n",
    "Count the number of times a `ticker` is ranked in the `top M` tickers across the population of agents and then normalize by the number of agents, i.e., estimate the probability of being ranked in the `top M` using a [`for-loop`](https://docs.julialang.org/en/v1/base/base/#for).\n",
    "* Set the value `M::Int64`, the number of top firms we consider, from the `saved_state_dict::Dict{String, Any}.` Then, initialize data storage for the risk-aware probability values in the `risk_aware_probability_top_dictionary::Dict{String, Float64}` dictionary, where the `ticker::String` is the key, and the frequency is the value.\n",
    "* For each ticker index `i`, compute the risk-aware probability, and then store this value in the `risk_aware_probability_top_dictionary::Dict{String, Float64}` dictionary."
   ]
  },
  {
   "cell_type": "code",
   "execution_count": 31,
   "id": "6072a9fb-7e79-4230-a37e-fc80b99b019f",
   "metadata": {},
   "outputs": [],
   "source": [
    "M = saved_state_dict[\"M\"]; # load same top M as worked example\n",
    "risk_aware_probability_top_dictionary = Dict{String,Float64}();\n",
    "for i ∈ eachindex(my_tickers)\n",
    "    probability = findall(x-> x ≤ M, risk_aware_preference_rank_array[:,i]) |> x -> length(x) |> x-> x/number_of_agents; # compute probability\n",
    "    my_tickers[i] |> ticker -> risk_aware_probability_top_dictionary[ticker] = probability; # store probability\n",
    "end"
   ]
  },
  {
   "cell_type": "markdown",
   "id": "4f1a9c5c-f5a0-4465-9499-e43b4506b20e",
   "metadata": {},
   "source": [
    "### TODO: Preference table for risk-blind and risk-aware agents\n",
    "The `risk_aware_probability_top_dictionary::Dict{String, Float64}` holds the probability that a `ticker`$\\in$ `my_tickers` is ranked in the `top M.` Let's build a table of these values (and the associated ordinal rankings) and contrast them with the `SPY`-only rankings\n",
    "\n",
    "#### Summary\n",
    "`Unhide` the code block below to see how we constructed a table holding the probability that a `ticker`$\\in$ `my_tickers` is ranked in the `top M` firms and the corresponding ordinal rank of each firm. This calculation uses [the `ordinalrank(...)` function exported by the StatsBase.jl package](https://github.com/JuliaStats/StatsBase.jl) and [the PrettyTables.jl package](https://github.com/ronisbr/PrettyTables.jl).\n",
    "* This table shows data for two cases. First, we just performed a simulation, looking at the choice between a ticker and SPY alone in the presence of risk; this will be the `risk_aware` data. However, for comparison, we also computed (in an outside simulation) the same choice, i.e., ticker versus SPY, _without_ the risk correction; this will be the `risk_blind` data.\n",
    "* The difference in ranking between the risk-blind values and the risk-aware values is shown in the `Δ` column, where $\\Delta$ = `risk_aware` - `risk_blind.` Therefore, if $\\Delta > 0$, the ranking in the risk-aware case is higher than in the risk-blind case (the higher the rank, the less attractive the ticker). On the other hand, if $\\Delta < 0$, the ranking decreases in the risk-aware case, meaning the ticker is perceived as a better choice by the population of agents (relative to SPY) when risk is considered.\n",
    "* As the risk parameter $\\beta\\uparrow$, the risk-aware ranking generally increases $\\uparrow$, i.e., agents are more sensitive to high $\\beta$ tickers and prefer these firms (or ETFs) less. For example, `JNJ` has a $\\beta\\sim$ 0.5, i.e., `JNJ` is half as risky as `SPY.` Thus, risk-aware agents prefer `JNJ` to high-$\\beta$ tickers such as `NVDA` or `TSLA` (approximately `1.7`$\\times$ more risky than `SPY`) because of its decreased volatility.\n",
    "* Anomalies observed in the project, such as high-beta stocks not responding to risk, for example, `OXY` or `MU,` are not seen here. In this case, the preferences for both `OXY` and `MU` decrease when using `SPY` as the alternative investment."
   ]
  },
  {
   "cell_type": "code",
   "execution_count": 33,
   "id": "cd9997f0-fb16-4865-b6f7-02cab2a90693",
   "metadata": {
    "jupyter": {
     "source_hidden": true
    }
   },
   "outputs": [
    {
     "name": "stdout",
     "output_type": "stream",
     "text": [
      "┌────────┬──────────┬──────────────┬──────────────┬──────────────┬──────────────┬───────┬───────────────┐\n",
      "│\u001b[1m ticker \u001b[0m│\u001b[1m        β \u001b[0m│\u001b[1m p_risk_blind \u001b[0m│\u001b[1m p_risk_aware \u001b[0m│\u001b[1m r_risk_blind \u001b[0m│\u001b[1m r_risk_aware \u001b[0m│\u001b[1m     Δ \u001b[0m│\u001b[1m Δ_pref_w_risk \u001b[0m│\n",
      "│\u001b[90m String \u001b[0m│\u001b[90m  Float64 \u001b[0m│\u001b[90m      Float64 \u001b[0m│\u001b[90m      Float64 \u001b[0m│\u001b[90m        Int64 \u001b[0m│\u001b[90m        Int64 \u001b[0m│\u001b[90m Int64 \u001b[0m│\u001b[90m        String \u001b[0m│\n",
      "├────────┼──────────┼──────────────┼──────────────┼──────────────┼──────────────┼───────┼───────────────┤\n",
      "│   AAPL │  1.24019 │       0.3789 │       0.0937 │            7 │           20 │    13 │             ↓ │\n",
      "│    AMD │  1.67809 │       0.4001 │       0.1186 │            6 │           19 │    13 │             ↓ │\n",
      "│    BAC │  1.32778 │       0.3602 │       0.0693 │           10 │           22 │    12 │             ↓ │\n",
      "│      C │  1.48297 │        0.227 │       0.0355 │           22 │           29 │     7 │             ↓ │\n",
      "│  CMCSA │ 0.856908 │       0.1744 │       0.5359 │           28 │           11 │   -17 │             ↑ │\n",
      "│    ECL │  1.13742 │       0.3249 │       0.2057 │           12 │           14 │     2 │             ↓ │\n",
      "│     GS │  1.26915 │       0.2094 │       0.0644 │           24 │           24 │     0 │             ↔ │\n",
      "│   INTC │  1.12753 │       0.4352 │        0.335 │            5 │           13 │     8 │             ↓ │\n",
      "│    JNJ │ 0.548523 │       0.1837 │       0.7792 │           27 │            4 │   -23 │             ↑ │\n",
      "│    JPM │  1.17336 │       0.3659 │       0.0924 │            8 │           21 │    13 │             ↓ │\n",
      "│     KR │ 0.194428 │       0.3039 │       0.7622 │           13 │            5 │    -8 │             ↑ │\n",
      "│    LMT │  0.67081 │       0.2658 │       0.7026 │           21 │            6 │   -15 │             ↑ │\n",
      "│    MET │  1.34474 │       0.2799 │       0.0573 │           17 │           27 │    10 │             ↓ │\n",
      "│    MMM │ 0.938743 │       0.1712 │       0.4143 │           29 │           12 │   -17 │             ↑ │\n",
      "│    MRK │ 0.504918 │       0.2878 │       0.8158 │           16 │            2 │   -14 │             ↑ │\n",
      "│   MSFT │  1.13379 │       0.5852 │       0.1926 │            3 │           15 │    12 │             ↓ │\n",
      "│     MU │  1.52694 │       0.2998 │       0.1297 │           14 │           18 │     4 │             ↓ │\n",
      "│   NFLX │  1.07208 │       0.5893 │       0.6022 │            2 │            9 │     7 │             ↓ │\n",
      "│    NOC │ 0.566008 │       0.2975 │       0.8036 │           15 │            3 │   -12 │             ↑ │\n",
      "│   NVDA │  1.78828 │       0.3657 │       0.0657 │            9 │           23 │    14 │             ↓ │\n",
      "│    OXY │  1.54752 │       0.2679 │       0.0637 │           20 │           25 │     5 │             ↓ │\n",
      "│    PEP │ 0.571192 │       0.2065 │       0.6752 │           25 │            7 │   -18 │             ↑ │\n",
      "│    QQQ │  1.12105 │       0.4883 │       0.1339 │            4 │           17 │    13 │             ↓ │\n",
      "│    SPY │      1.0 │          1.0 │          1.0 │            1 │            1 │     0 │             ↔ │\n",
      "│   SPYD │  1.03756 │       0.1925 │       0.1484 │           26 │           16 │   -10 │             ↑ │\n",
      "│    SRE │ 0.794775 │       0.2732 │        0.547 │           18 │           10 │    -8 │             ↑ │\n",
      "│   TSLA │  1.77511 │       0.2726 │        0.041 │           19 │           28 │     9 │             ↓ │\n",
      "│    UNH │ 0.878591 │       0.3327 │       0.6439 │           11 │            8 │    -3 │             ↑ │\n",
      "│    WFC │  1.25441 │       0.2265 │       0.0624 │           23 │           26 │     3 │             ↓ │\n",
      "└────────┴──────────┴──────────────┴──────────────┴──────────────┴──────────────┴───────┴───────────────┘\n"
     ]
    }
   ],
   "source": [
    "let\n",
    "    # initialize \n",
    "    df = DataFrame();\n",
    "    tmp_risk_blind = Array{Float64,1}();\n",
    "    tmp_risk_aware = Array{Float64,1}();\n",
    "\n",
    "    # compute the ordinal rank of the sorted list of tickers\n",
    "    my_sorted_tickers = my_tickers |> sort;\n",
    "\n",
    "    # blind -\n",
    "    foreach(ticker -> push!(tmp_risk_blind, risk_blind_probability_top_dictionary[ticker]), my_sorted_tickers)\n",
    "    ordinal_rank_risk_blind = ordinalrank(tmp_risk_blind, rev=true); # function exported by StatsBase.jl\n",
    "\n",
    "    # aware -\n",
    "    foreach(ticker -> push!(tmp_risk_aware, risk_aware_probability_top_dictionary[ticker]), my_sorted_tickers)\n",
    "    ordinal_rank_risk_aware = ordinalrank(tmp_risk_aware, rev=true); # function exported by StatsBase.jl\n",
    "    \n",
    "    # populate rows in the df -\n",
    "    for i ∈ eachindex(my_sorted_tickers)\n",
    "        ticker_value = my_sorted_tickers[i];\n",
    "        Δ = (ordinal_rank_risk_aware[i] - ordinal_rank_risk_blind[i])\n",
    "        if (Δ > 0)\n",
    "            pref_w_risk = \"↓\"\n",
    "        elseif (Δ < 0)\n",
    "            pref_w_risk = \"↑\"\n",
    "        else\n",
    "            pref_w_risk = \"↔\"\n",
    "        end\n",
    "        \n",
    "        row_df = (\n",
    "            ticker = ticker_value,\n",
    "            β = β[ticker_value],\n",
    "            p_risk_blind = risk_blind_probability_top_dictionary[ticker_value],\n",
    "            p_risk_aware = risk_aware_probability_top_dictionary[ticker_value],\n",
    "            r_risk_blind = ordinal_rank_risk_blind[i],\n",
    "            r_risk_aware = ordinal_rank_risk_aware[i],\n",
    "            Δ = Δ,\n",
    "            Δ_pref_w_risk = pref_w_risk\n",
    "        );\n",
    "        push!(df, row_df);\n",
    "    end\n",
    "    pretty_table(df); \n",
    "end"
   ]
  },
  {
   "cell_type": "markdown",
   "id": "0466cf5b-d396-4c33-8d67-cf7e7a7028f4",
   "metadata": {},
   "source": [
    "## Task 4: Save some data for later\n",
    "In the final advanced example of this module, we will build a portfolio by sampling the ticker-picker agents. Let's store some data from this simulation tforthe final advanced example. We'll use the [save(...) method exported by the JLD2.jl package](https://github.com/JuliaIO/JLD2.jl.git) to write a [file in HDF5 binary format](https://en.wikipedia.org/wiki/Hierarchical_Data_Format). First, we specify a `path` in the `path_to_save_file` variable: "
   ]
  },
  {
   "cell_type": "code",
   "execution_count": 35,
   "id": "5c5cf5ee-e1ac-4bba-be88-3b868169f0c2",
   "metadata": {},
   "outputs": [],
   "source": [
    "path_to_save_file = joinpath(_PATH_TO_DATA, \"TickerPickerAgent-Simulation-State-ALT-RA-SPY-N-$(number_of_agents).jld2\");"
   ]
  },
  {
   "cell_type": "markdown",
   "id": "10bd198e-e5b5-4cad-9bed-321a9701d974",
   "metadata": {},
   "source": [
    "Then we write an [`HDF5 binary file`](https://en.wikipedia.org/wiki/Hierarchical_Data_Format) holding our data to the location specified by `path_to_save_file.` We use [the `save(...)` function exported by the JLD2.jl package to write a binary save file](https://github.com/JuliaIO/JLD2.jl.git) (later we'll use to the `load(...)` function to reload this data):"
   ]
  },
  {
   "cell_type": "code",
   "execution_count": 37,
   "id": "f6ec50c4-0166-4808-8e2e-b172f73a64bf",
   "metadata": {},
   "outputs": [],
   "source": [
    "save(path_to_save_file, Dict(\"preferences_risk_aware\" => risk_aware_agent_specific_data, \n",
    "        \"preferences_risk_blind\" => risk_blind_preferences,\n",
    "        \"insampledata\" => dataset,\n",
    "        \"tickers\" => risk_aware_world_model.tickers));"
   ]
  },
  {
   "cell_type": "markdown",
   "id": "d2215ea2-f59a-47c8-af7a-9dc69e152a6b",
   "metadata": {},
   "source": [
    "## Disclaimer and Risks\n",
    "__This content is offered solely for training and informational purposes__. No offer or solicitation to buy or sell securities or derivative products or any investment or trading advice or strategy is made, given, or endorsed by the teaching team. \n",
    "\n",
    "__Trading involves risk__. Carefully review your financial situation before investing in securities, futures contracts, options, or commodity interests. Past performance, whether actual or indicated by historical tests of strategies, is no guarantee of future performance or success. Trading is generally inappropriate for someone with limited resources, investment or trading experience, or a low-risk tolerance.  Only risk capital that is not required for living expenses.\n",
    "\n",
    "__You are fully responsible for any investment or trading decisions you make__. Such decisions should be based solely on evaluating your financial circumstances, investment or trading objectives, risk tolerance, and liquidity needs."
   ]
  }
 ],
 "metadata": {
  "kernelspec": {
   "display_name": "Julia 1.10.4",
   "language": "julia",
   "name": "julia-1.10"
  },
  "language_info": {
   "file_extension": ".jl",
   "mimetype": "application/julia",
   "name": "julia",
   "version": "1.10.4"
  }
 },
 "nbformat": 4,
 "nbformat_minor": 5
}
